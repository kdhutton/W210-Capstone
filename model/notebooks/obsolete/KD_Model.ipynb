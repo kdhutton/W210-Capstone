{
  "nbformat": 4,
  "nbformat_minor": 0,
  "metadata": {
    "colab": {
      "provenance": []
    },
    "kernelspec": {
      "name": "python3",
      "display_name": "Python 3"
    },
    "language_info": {
      "name": "python"
    }
  },
  "cells": [
    {
      "cell_type": "code",
      "source": [
        "!pip install torch torchvision\n",
        "!pip install matplotlib\n",
        "\n",
        "import torch\n",
        "import torch.nn as nn\n",
        "import torch.optim as optim\n",
        "import torch.nn.functional as F\n",
        "from torch.utils.data import DataLoader\n",
        "from torchvision import datasets, transforms\n",
        "import numpy as np\n",
        "from sklearn.metrics import accuracy_score, precision_score, recall_score, f1_score\n",
        "import os\n",
        "import time\n",
        "import matplotlib.pyplot as plt"
      ],
      "metadata": {
        "colab": {
          "base_uri": "https://localhost:8080/"
        },
        "id": "1Edbseoq6Bj1",
        "outputId": "fe5ed6b0-bd83-45ba-f061-9a56aa6c56b6"
      },
      "execution_count": 1,
      "outputs": [
        {
          "output_type": "stream",
          "name": "stdout",
          "text": [
            "Requirement already satisfied: torch in /usr/local/lib/python3.10/dist-packages (2.0.1+cu118)\n",
            "Requirement already satisfied: torchvision in /usr/local/lib/python3.10/dist-packages (0.15.2+cu118)\n",
            "Requirement already satisfied: filelock in /usr/local/lib/python3.10/dist-packages (from torch) (3.12.4)\n",
            "Requirement already satisfied: typing-extensions in /usr/local/lib/python3.10/dist-packages (from torch) (4.5.0)\n",
            "Requirement already satisfied: sympy in /usr/local/lib/python3.10/dist-packages (from torch) (1.12)\n",
            "Requirement already satisfied: networkx in /usr/local/lib/python3.10/dist-packages (from torch) (3.1)\n",
            "Requirement already satisfied: jinja2 in /usr/local/lib/python3.10/dist-packages (from torch) (3.1.2)\n",
            "Requirement already satisfied: triton==2.0.0 in /usr/local/lib/python3.10/dist-packages (from torch) (2.0.0)\n",
            "Requirement already satisfied: cmake in /usr/local/lib/python3.10/dist-packages (from triton==2.0.0->torch) (3.27.5)\n",
            "Requirement already satisfied: lit in /usr/local/lib/python3.10/dist-packages (from triton==2.0.0->torch) (17.0.1)\n",
            "Requirement already satisfied: numpy in /usr/local/lib/python3.10/dist-packages (from torchvision) (1.23.5)\n",
            "Requirement already satisfied: requests in /usr/local/lib/python3.10/dist-packages (from torchvision) (2.31.0)\n",
            "Requirement already satisfied: pillow!=8.3.*,>=5.3.0 in /usr/local/lib/python3.10/dist-packages (from torchvision) (9.4.0)\n",
            "Requirement already satisfied: MarkupSafe>=2.0 in /usr/local/lib/python3.10/dist-packages (from jinja2->torch) (2.1.3)\n",
            "Requirement already satisfied: charset-normalizer<4,>=2 in /usr/local/lib/python3.10/dist-packages (from requests->torchvision) (3.2.0)\n",
            "Requirement already satisfied: idna<4,>=2.5 in /usr/local/lib/python3.10/dist-packages (from requests->torchvision) (3.4)\n",
            "Requirement already satisfied: urllib3<3,>=1.21.1 in /usr/local/lib/python3.10/dist-packages (from requests->torchvision) (2.0.5)\n",
            "Requirement already satisfied: certifi>=2017.4.17 in /usr/local/lib/python3.10/dist-packages (from requests->torchvision) (2023.7.22)\n",
            "Requirement already satisfied: mpmath>=0.19 in /usr/local/lib/python3.10/dist-packages (from sympy->torch) (1.3.0)\n"
          ]
        }
      ]
    },
    {
      "cell_type": "code",
      "source": [
        "# Set device\n",
        "device = torch.device(\"cuda\" if torch.cuda.is_available() else \"cpu\")\n",
        "\n",
        "# Define Model\n",
        "class SimpleCNN(nn.Module):\n",
        "    def __init__(self):\n",
        "        super(SimpleCNN, self).__init__()\n",
        "        self.conv1 = nn.Conv2d(3, 16, 3, padding=1)\n",
        "        self.conv2 = nn.Conv2d(16, 32, 3, padding=1)\n",
        "        self.conv3 = nn.Conv2d(32, 64, 3, padding=1)\n",
        "        self.pool = nn.MaxPool2d(2, 2)\n",
        "        self.fc1 = nn.Linear(64 * 4 * 4, 512)\n",
        "        self.fc2 = nn.Linear(512, 10)\n",
        "        self.dropout = nn.Dropout(0.5)\n",
        "\n",
        "    def forward(self, x):\n",
        "        x = self.pool(F.relu(self.conv1(x)))\n",
        "        x = self.pool(F.relu(self.conv2(x)))\n",
        "        x = self.pool(F.relu(self.conv3(x)))\n",
        "        x = x.view(-1, 64 * 4 * 4)\n",
        "        x = F.relu(self.fc1(x))\n",
        "        x = self.dropout(x)\n",
        "        x = self.fc2(x)\n",
        "        return x\n",
        "\n",
        "# Create models\n",
        "teacher = SimpleCNN().to(device)\n",
        "student = SimpleCNN().to(device)\n"
      ],
      "metadata": {
        "id": "ZRmbispM6KAO"
      },
      "execution_count": 2,
      "outputs": []
    },
    {
      "cell_type": "code",
      "source": [
        "# Data\n",
        "transform = transforms.Compose([\n",
        "    transforms.ToTensor(),\n",
        "    transforms.Normalize((0.5, 0.5, 0.5), (0.5, 0.5, 0.5))\n",
        "])\n",
        "\n",
        "trainset = datasets.CIFAR10(root='./data', train=True, download=True, transform=transform)\n",
        "trainloader = DataLoader(trainset, batch_size=4, shuffle=True)\n",
        "testset = datasets.CIFAR10(root='./data', train=False, download=True, transform=transform)\n",
        "testloader = DataLoader(testset, batch_size=4, shuffle=False)\n",
        "\n",
        "# Define a distillation loss\n",
        "def distillation_loss(student_outputs, teacher_outputs, labels, temperature, alpha):\n",
        "    soft_target_loss = nn.KLDivLoss()(F.log_softmax(student_outputs/temperature, dim=1),\n",
        "                                      F.softmax(teacher_outputs/temperature, dim=1)) * temperature * temperature\n",
        "\n",
        "    hard_target_loss = nn.CrossEntropyLoss()(student_outputs, labels)\n",
        "\n",
        "    loss = alpha * soft_target_loss + (1. - alpha) * hard_target_loss\n",
        "    return loss\n"
      ],
      "metadata": {
        "colab": {
          "base_uri": "https://localhost:8080/"
        },
        "id": "JpRMcQtJ6SDg",
        "outputId": "60fe417d-74f8-47de-f406-c6de775bc9d4"
      },
      "execution_count": 3,
      "outputs": [
        {
          "output_type": "stream",
          "name": "stdout",
          "text": [
            "Downloading https://www.cs.toronto.edu/~kriz/cifar-10-python.tar.gz to ./data/cifar-10-python.tar.gz\n"
          ]
        },
        {
          "output_type": "stream",
          "name": "stderr",
          "text": [
            "100%|██████████| 170498071/170498071 [00:11<00:00, 14834265.98it/s]\n"
          ]
        },
        {
          "output_type": "stream",
          "name": "stdout",
          "text": [
            "Extracting ./data/cifar-10-python.tar.gz to ./data\n",
            "Files already downloaded and verified\n"
          ]
        }
      ]
    },
    {
      "cell_type": "code",
      "source": [
        "optimizer_teacher = optim.SGD(teacher.parameters(), lr=0.001, momentum=0.9)\n",
        "\n",
        "epochs_teacher = 2  # 50\n",
        "for epoch in range(epochs_teacher):\n",
        "    running_loss = 0.0\n",
        "    for i, data in enumerate(trainloader, 0):\n",
        "        inputs, labels = data[0].to(device), data[1].to(device)\n",
        "        optimizer_teacher.zero_grad()\n",
        "\n",
        "        outputs = teacher(inputs)\n",
        "        loss = nn.CrossEntropyLoss()(outputs, labels)\n",
        "\n",
        "        loss.backward()\n",
        "        optimizer_teacher.step()\n",
        "\n",
        "        running_loss += loss.item()\n",
        "        if i % 2000 == 1999:\n",
        "            print('[%d, %5d] loss: %.3f' % (epoch + 1, i + 1, running_loss / 2000))\n",
        "            running_loss = 0.0\n",
        "\n",
        "torch.save(teacher.state_dict(), 'teacher.pth')\n",
        "print('Finished Training Teacher')\n"
      ],
      "metadata": {
        "colab": {
          "base_uri": "https://localhost:8080/"
        },
        "id": "-cw9AYjg8HT1",
        "outputId": "a9eb6c8e-95da-4f16-91f5-c554a039e04c"
      },
      "execution_count": 4,
      "outputs": [
        {
          "output_type": "stream",
          "name": "stdout",
          "text": [
            "[1,  2000] loss: 2.123\n",
            "[1,  4000] loss: 1.764\n",
            "[1,  6000] loss: 1.607\n",
            "[1,  8000] loss: 1.489\n",
            "[1, 10000] loss: 1.448\n",
            "[1, 12000] loss: 1.347\n",
            "[2,  2000] loss: 1.265\n",
            "[2,  4000] loss: 1.235\n",
            "[2,  6000] loss: 1.185\n",
            "[2,  8000] loss: 1.166\n",
            "[2, 10000] loss: 1.124\n",
            "[2, 12000] loss: 1.125\n",
            "Finished Training Teacher\n"
          ]
        }
      ]
    },
    {
      "cell_type": "code",
      "source": [
        "# Student Model Training with Distillation (for demo)\n",
        "optimizer_student = optim.SGD(student.parameters(), lr=0.001, momentum=0.9)\n",
        "\n",
        "epochs_student = 2  #50\n",
        "alpha = 0.1\n",
        "temperature = 3.0\n",
        "\n",
        "teacher.load_state_dict(torch.load('teacher.pth'))\n",
        "teacher.eval()  # Ensure teacher is in eval mode\n",
        "\n",
        "for epoch in range(epochs_student):\n",
        "    running_loss = 0.0\n",
        "    for i, data in enumerate(trainloader, 0):\n",
        "        inputs, labels = data[0].to(device), data[1].to(device)\n",
        "        optimizer_student.zero_grad()\n",
        "\n",
        "        # Forward pass of the teacher with no gradients\n",
        "        with torch.no_grad():\n",
        "            teacher_outputs = teacher(inputs)\n",
        "\n",
        "        # Forward pass of the student\n",
        "        student_outputs = student(inputs)\n",
        "\n",
        "        # Compute the distillation loss\n",
        "        loss = distillation_loss(student_outputs, teacher_outputs, labels, temperature, alpha)\n",
        "\n",
        "        # Backward and optimize\n",
        "        loss.backward()\n",
        "        optimizer_student.step()\n",
        "\n",
        "        running_loss += loss.item()\n",
        "        if i % 2000 == 1999:\n",
        "            print('[%d, %5d] loss: %.3f' % (epoch + 1, i + 1, running_loss / 2000))\n",
        "            running_loss = 0.0\n",
        "\n",
        "print('Finished Training Student')\n"
      ],
      "metadata": {
        "colab": {
          "base_uri": "https://localhost:8080/"
        },
        "id": "TvxLNUV38Kpt",
        "outputId": "fc822252-c3ad-440c-e851-5b1b9f4a648c"
      },
      "execution_count": 5,
      "outputs": [
        {
          "output_type": "stream",
          "name": "stderr",
          "text": [
            "/usr/local/lib/python3.10/dist-packages/torch/nn/functional.py:2919: UserWarning: reduction: 'mean' divides the total loss by both the batch size and the support size.'batchmean' divides only by the batch size, and aligns with the KL div math definition.'mean' will be changed to behave the same as 'batchmean' in the next major release.\n",
            "  warnings.warn(\n"
          ]
        },
        {
          "output_type": "stream",
          "name": "stdout",
          "text": [
            "[1,  2000] loss: 1.963\n",
            "[1,  4000] loss: 1.650\n",
            "[1,  6000] loss: 1.476\n",
            "[1,  8000] loss: 1.379\n",
            "[1, 10000] loss: 1.303\n",
            "[1, 12000] loss: 1.273\n",
            "[2,  2000] loss: 1.161\n",
            "[2,  4000] loss: 1.116\n",
            "[2,  6000] loss: 1.093\n",
            "[2,  8000] loss: 1.040\n",
            "[2, 10000] loss: 1.027\n",
            "[2, 12000] loss: 0.983\n",
            "Finished Training Student\n"
          ]
        }
      ]
    },
    {
      "cell_type": "code",
      "source": [
        "def evaluate_model(model, dataloader):\n",
        "    model.eval()\n",
        "    all_labels = []\n",
        "    all_preds = []\n",
        "\n",
        "    start_time = time.time()\n",
        "    for inputs, labels in dataloader:\n",
        "        inputs, labels = inputs.to(device), labels.to(device)\n",
        "        outputs = model(inputs)\n",
        "        _, preds = torch.max(outputs, 1)\n",
        "        all_labels.append(labels.cpu().numpy())\n",
        "        all_preds.append(preds.cpu().numpy())\n",
        "    end_time = time.time()\n",
        "\n",
        "    labels = np.concatenate(all_labels)\n",
        "    preds = np.concatenate(all_preds)\n",
        "\n",
        "    acc = accuracy_score(labels, preds)\n",
        "    precision = precision_score(labels, preds, average='weighted')\n",
        "    recall = recall_score(labels, preds, average='weighted')\n",
        "    f1 = f1_score(labels, preds, average='weighted')\n",
        "\n",
        "    print(f'Accuracy: {acc}, Precision: {precision}, Recall: {recall}, F1: {f1}')\n",
        "    print(f'Inference time for the whole dataset: {end_time - start_time} seconds')\n",
        "\n",
        "    return acc, precision, recall, f1, end_time - start_time\n",
        "\n",
        "# Calculate and compare metrics\n",
        "print(\"Teacher Metrics: \")\n",
        "teacher_metrics = evaluate_model(teacher, testloader)\n",
        "\n",
        "print(\"Student Metrics: \")\n",
        "student_metrics = evaluate_model(student, testloader)\n"
      ],
      "metadata": {
        "colab": {
          "base_uri": "https://localhost:8080/"
        },
        "id": "ia3sERw78MjR",
        "outputId": "fe800abc-6bfc-41d4-ad95-ae0df6d0c226"
      },
      "execution_count": 6,
      "outputs": [
        {
          "output_type": "stream",
          "name": "stdout",
          "text": [
            "Teacher Metrics: \n",
            "Accuracy: 0.6301, Precision: 0.6467044580010006, Recall: 0.6301, F1: 0.628446433914725\n",
            "Inference time for the whole dataset: 9.770039796829224 seconds\n",
            "\n",
            "Student Metrics: \n",
            "Accuracy: 0.6362, Precision: 0.6569336232681444, Recall: 0.6362, F1: 0.6350914019781874\n",
            "Inference time for the whole dataset: 8.947579860687256 seconds\n"
          ]
        }
      ]
    },
    {
      "cell_type": "code",
      "source": [
        "# Save model weights\n",
        "torch.save(teacher.state_dict(), 'teacher.pth')\n",
        "torch.save(student.state_dict(), 'student.pth')\n",
        "\n",
        "# Check model sizes\n",
        "teacher_size = os.path.getsize('teacher.pth') / 1e6  # Convert bytes to MB\n",
        "student_size = os.path.getsize('student.pth') / 1e6\n",
        "\n",
        "print(f'\\nTeacher model size: {teacher_size:.2f} MB')\n",
        "print(f'Student model size: {student_size:.2f} MB')\n",
        "\n",
        "# Labels and values for plotting\n",
        "labels = ['Teacher', 'Student']\n",
        "sizes = [teacher_size, student_size]\n",
        "\n",
        "# Create a bar plot\n",
        "plt.bar(labels, sizes, color=['blue', 'green'])\n",
        "plt.ylabel('Size (MB)')\n",
        "plt.title('Model Size Comparison')\n",
        "plt.show()\n"
      ],
      "metadata": {
        "colab": {
          "base_uri": "https://localhost:8080/",
          "height": 500
        },
        "id": "VJXsC32p8QBg",
        "outputId": "a53094e8-27ad-4486-d550-35e36fc74861"
      },
      "execution_count": 8,
      "outputs": [
        {
          "output_type": "stream",
          "name": "stdout",
          "text": [
            "\n",
            "Teacher model size: 2.22 MB\n",
            "Student model size: 2.22 MB\n"
          ]
        },
        {
          "output_type": "display_data",
          "data": {
            "text/plain": [
              "<Figure size 640x480 with 1 Axes>"
            ],
            "image/png": "[encoded data removed]"
          },
          "metadata": {}
        }
      ]
    },
    {
      "cell_type": "code",
      "source": [
        "labels = ['Accuracy', 'Precision', 'Recall', 'F1 Score']\n",
        "teacher_eval = teacher_metrics[:4]\n",
        "student_eval = student_metrics[:4]\n",
        "\n",
        "x = np.arange(len(labels))  # Label locations\n",
        "width = 0.35  # Width of the bars\n",
        "\n",
        "fig, ax = plt.subplots()\n",
        "rects1 = ax.bar(x - width/2, teacher_eval, width, label='Teacher')\n",
        "rects2 = ax.bar(x + width/2, student_eval, width, label='Student')\n",
        "\n",
        "ax.set_ylabel('Scores')\n",
        "ax.set_title('Model Evaluation Metrics Comparison')\n",
        "ax.set_xticks(x)\n",
        "ax.set_xticklabels(labels)\n",
        "ax.legend()\n",
        "\n",
        "fig.tight_layout()\n",
        "plt.show()\n"
      ],
      "metadata": {
        "colab": {
          "base_uri": "https://localhost:8080/",
          "height": 485
        },
        "id": "mE5bG-0p9bbR",
        "outputId": "f3aadb5c-9d96-446f-8547-7952964d7907"
      },
      "execution_count": 10,
      "outputs": [
        {
          "output_type": "display_data",
          "data": {
            "text/plain": [
              "<Figure size 640x480 with 1 Axes>"
            ],
            "image/png": "[encoded data removed]"
          },
          "metadata": {}
        }
      ]
    },
    {
      "cell_type": "code",
      "source": [
        "labels = ['Teacher', 'Student']\n",
        "times = [teacher_metrics[-1], student_metrics[-1]]  # Assuming the last metric is time\n",
        "\n",
        "plt.bar(labels, times, color=['blue', 'green'])\n",
        "plt.ylabel('Time (s)')\n",
        "plt.title('Inference Time Comparison')\n",
        "plt.show()\n"
      ],
      "metadata": {
        "colab": {
          "base_uri": "https://localhost:8080/",
          "height": 450
        },
        "id": "Og6cIOb59gln",
        "outputId": "f76dbb7d-51a9-448c-929d-6279f1df88dc"
      },
      "execution_count": 11,
      "outputs": [
        {
          "output_type": "display_data",
          "data": {
            "text/plain": [
              "<Figure size 640x480 with 1 Axes>"
            ],
            "image/png": "[encoded data removed]"
          },
          "metadata": {}
        }
      ]
    },
    {
      "cell_type": "code",
      "source": [],
      "metadata": {
        "id": "iTdgLkiP9ha3"
      },
      "execution_count": null,
      "outputs": []
    }
  ]
}