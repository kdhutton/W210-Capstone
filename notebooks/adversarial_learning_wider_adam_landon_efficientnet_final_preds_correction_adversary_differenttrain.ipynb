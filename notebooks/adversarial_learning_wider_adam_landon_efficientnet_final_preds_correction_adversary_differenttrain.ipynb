{
 "cells": [
  {
   "cell_type": "code",
   "execution_count": 1,
   "id": "50f79206-feac-4302-abb1-d699b6354a05",
   "metadata": {},
   "outputs": [],
   "source": [
    "import time\n",
    "import torch\n",
    "import json\n",
    "import random\n",
    "import math\n",
    "import warnings\n",
    "import torchvision\n",
    "import os\n",
    "import copy\n",
    "import torchvision.transforms as transforms\n",
    "import torch.nn as nn\n",
    "import torch.nn.functional as F\n",
    "import torch.optim as optim\n",
    "import matplotlib.pyplot as plt\n",
    "import seaborn as sns\n",
    "import numpy as np\n",
    "import pandas as pd\n",
    "\n",
    "from datetime import datetime\n",
    "from tqdm import tqdm\n",
    "from PIL import Image\n",
    "from sklearn import metrics\n",
    "from sklearn.preprocessing import StandardScaler\n",
    "from sklearn.metrics import pairwise_distances_argmin_min, accuracy_score, precision_score, recall_score, f1_score, confusion_matrix, classification_report, precision_recall_fscore_support\n",
    "from sklearn.model_selection import train_test_split, StratifiedKFold\n",
    "from torch.utils.data import Subset, Dataset, DataLoader\n",
    "from torchvision.models import EfficientNet\n",
    "\n",
    "from torchvision.datasets import ImageFolder\n",
    "from utils.loss_functions import tkd_kdloss\n",
    "# from models_package.models import Teacher, Student\n",
    "\n",
    "# Suppress all warnings\n",
    "warnings.filterwarnings(\"ignore\")"
   ]
  },
  {
   "cell_type": "code",
   "execution_count": 2,
   "id": "dc3c0ec8-98dc-4933-b9a3-e96fce39c6b5",
   "metadata": {},
   "outputs": [],
   "source": [
    "# Hyperparameters\n",
    "learning_rate = 0.0005 # 0.096779\n",
    "epochs = 100\n",
    "epochs_pretrain = 3 #3\n",
    "epochs_optimal_lr = 3 #5\n",
    "patience_teacher = 3\n",
    "patience_student = 5\n",
    "temperature = 4.0\n",
    "alpha = 0.9\n",
    "momentum = 0.9\n",
    "step_size = 30\n",
    "gamma = 0.1\n",
    "lmda = 3\n",
    "batch_size = 76\n",
    "num_workers = 4\n",
    "\n",
    "# set to true to use stratified sampling\n",
    "stratified_sampling_flag = False\n",
    "\n",
    "# list of lambda values to loop through for grid search\n",
    "lmda_list_student = [15,10,5,3,0]\n",
    "lmda_list_teacher = [0]\n",
    "\n",
    "# labels used including for plotting\n",
    "class_labels = [0, 1, 3, 4, 6, 7, 11, 15, 17, 18, 19, 20, 22, 25, 27, 28, 30, 31, 33, 35, 36, 37, 39, 43, 44, 50, 51, 54, 57, 58]\n",
    "class_labels_new = torch.tensor([i for i in range(len(class_labels))])\n",
    "num_classes = 16 #len(class_labels)\n",
    "class_names_new = [f\"Class {label}\" for label in range(num_classes)]\n",
    "\n",
    "# Create directory and file path to save all outputs\n",
    "output_dir = f'./runs_{datetime.now().strftime(\"%Y_%m_%d_%H_%M\")}'\n",
    "os.makedirs(output_dir, exist_ok=True)"
   ]
  },
  {
   "cell_type": "code",
   "execution_count": 3,
   "id": "a2770eac-10b7-47de-ba06-9aa63cd7ab86",
   "metadata": {},
   "outputs": [],
   "source": [
    "# set device to cuda if available\n",
    "device = torch.device('cuda' if torch.cuda.is_available() else 'cpu')"
   ]
  },
  {
   "cell_type": "code",
   "execution_count": 4,
   "id": "46265942-58a1-4c1a-a7ea-82d919a7e799",
   "metadata": {},
   "outputs": [],
   "source": [
    "# Assuming your JSON file is named 'your_file.json'\n",
    "file_path = './WIDER/Annotations/wider_attribute_trainval.json'\n",
    "\n",
    "with open(file_path, 'r') as file:\n",
    "    # Load the JSON data from the file\n",
    "    data = json.load(file)\n",
    "\n",
    "class_idx = data['scene_id_map']"
   ]
  },
  {
   "cell_type": "code",
   "execution_count": 5,
   "id": "312fa312-b347-4434-862b-d25e32a79108",
   "metadata": {},
   "outputs": [],
   "source": [
    "new_label_mapping = {\n",
    "    0: \"Team_Sports\",\n",
    "    1: \"Celebration\",\n",
    "    2: \"Parade\",\n",
    "    3: \"Waiter_Or_Waitress\",\n",
    "    4: \"Individual_Sports\",\n",
    "    5: \"Surgeons\",\n",
    "    6: \"Spa\",\n",
    "    7: \"Law_Enforcement\",\n",
    "    8: \"Business\",\n",
    "    9: \"Dresses\",\n",
    "    10: \"Water Activities\",\n",
    "    11: \"Picnic\",\n",
    "    12: \"Rescue\",\n",
    "    13: \"Cheering\",\n",
    "    14: \"Performance_And_Entertainment\",\n",
    "    15: \"Family\"\n",
    "}\n",
    "\n",
    "# Ensure that all 16 new classes are covered\n",
    "# If some classes are not explicitly mentioned in new_label_mapping, add them\n",
    "for i in range(16):\n",
    "    if i not in new_label_mapping:\n",
    "        new_label_mapping[i] = \"Additional Category {}\".format(i)\n",
    "\n",
    "class_idx = new_label_mapping"
   ]
  },
  {
   "cell_type": "code",
   "execution_count": 6,
   "id": "8c922f94-bf69-40d5-bc88-1e6fab4b4ed7",
   "metadata": {},
   "outputs": [],
   "source": [
    "class StratifiedBatchSampler:\n",
    "    \"\"\"Stratified batch sampling\n",
    "    Provides equal representation of target classes in each batch\n",
    "    \"\"\"\n",
    "    def __init__(self, y, batch_size, shuffle=True):\n",
    "        if torch.is_tensor(y):\n",
    "            y = y.numpy()\n",
    "        assert len(y.shape) == 1, 'label array must be 1D'\n",
    "        n_batches = int(len(y) / batch_size)\n",
    "        self.skf = StratifiedKFold(n_splits=n_batches, shuffle=shuffle)\n",
    "        self.X = torch.randn(len(y),1).numpy()\n",
    "        self.y = y\n",
    "        self.shuffle = shuffle\n",
    "        self.batch_size = batch_size\n",
    "\n",
    "    def __iter__(self):\n",
    "        if self.shuffle:\n",
    "            self.skf.random_state = torch.randint(0,int(1e8),size=()).item()\n",
    "        for train_idx, test_idx in self.skf.split(self.X, self.y):\n",
    "            yield test_idx\n",
    "\n",
    "    def __len__(self):\n",
    "        return len(self.y)//self.batch_size"
   ]
  },
  {
   "cell_type": "code",
   "execution_count": 7,
   "id": "e1c84514-66c9-4543-8448-cafa751730ff",
   "metadata": {},
   "outputs": [],
   "source": [
    "class DataSet(Dataset):\n",
    "    def __init__(self, ann_files, augs, img_size, dataset):\n",
    "\n",
    "        # Create a mapping from old labels to new labels\n",
    "        self.label_mapping = {old_label: new_label for new_label, old_label in enumerate(sorted(class_labels))}\n",
    "\n",
    "        self.new_label_mapping = {\n",
    "            0: 2,  # Parade\n",
    "            1: 8,  # Business\n",
    "            2: 7,  # Law Enforcement\n",
    "            3: 14,  # Performance and Entertainment\n",
    "            4: 1,  # Celebration\n",
    "            5: 13,  # Cheering\n",
    "            6: 8,  # Business\n",
    "            7: 8,  # Business\n",
    "            8: 1,  # Celebration\n",
    "            9: 14,  # Performance and Entertainment\n",
    "            10: 15, # Family\n",
    "            11: 15, # Family\n",
    "            12: 11, # Picnic\n",
    "            13: 7, # Law Enforcement\n",
    "            14: 6, # Spa\n",
    "            15: 13, # Cheering\n",
    "            16: 5, # Surgeons\n",
    "            17: 3, # Waiter or Waitress\n",
    "            18: 4, # Individual Sports\n",
    "            19: 0, # Team Sports\n",
    "            20: 0, # Team Sports\n",
    "            21: 0, # Team Sports\n",
    "            22: 4, # Individual Sports\n",
    "            23: 10, # Water Activities\n",
    "            24: 4, # Individual Sports\n",
    "            25: 1, # Celebration\n",
    "            26: 9, # Dresses\n",
    "            27: 12, # Rescue\n",
    "            28: 10,# Water Activities\n",
    "            29: 0  # Team Sports\n",
    "        }\n",
    "\n",
    "        \n",
    "        self.dataset = dataset\n",
    "        self.ann_files = ann_files\n",
    "        self.augment = self.augs_function(augs, img_size)\n",
    "        # Initialize transformations directly\n",
    "        self.transform = transforms.Compose(\n",
    "            [\n",
    "                transforms.ToTensor(),\n",
    "                transforms.Normalize(mean=[0, 0, 0], std=[1, 1, 1])\n",
    "            ] \n",
    "        )\n",
    "        if self.dataset == \"wider\":\n",
    "            self.transform = transforms.Compose(\n",
    "                [\n",
    "                    transforms.ToTensor(),\n",
    "                    transforms.Normalize(mean=[0.485, 0.456, 0.406], std=[0.229, 0.224, 0.225])                ] \n",
    "            )        \n",
    "\n",
    "        self.anns = []\n",
    "        self.load_anns()\n",
    "        print(self.augment)\n",
    "\n",
    "    def augs_function(self, augs, img_size):            \n",
    "        t = []\n",
    "        if 'randomflip' in augs:\n",
    "            t.append(transforms.RandomHorizontalFlip())\n",
    "        if 'ColorJitter' in augs:\n",
    "            t.append(transforms.ColorJitter(brightness=0.5, contrast=0.5, saturation=0.5, hue=0))\n",
    "        if 'resizedcrop' in augs:\n",
    "            t.append(transforms.RandomResizedCrop(img_size, scale=(0.7, 1.0)))\n",
    "        if 'RandAugment' in augs:\n",
    "            t.append(transforms.RandAugment())\n",
    "\n",
    "        t.append(transforms.Resize((img_size, img_size)))\n",
    "\n",
    "        return transforms.Compose(t)\n",
    "    \n",
    "    def load_anns(self):\n",
    "        self.anns = []\n",
    "        for ann_file in self.ann_files:\n",
    "            json_data = json.load(open(ann_file, \"r\"))\n",
    "            self.anns += json_data\n",
    "\n",
    "    def __len__(self):\n",
    "        return len(self.anns)\n",
    "\n",
    "    def __getitem__(self, idx):\n",
    "        # Make sure the index is within bounds\n",
    "        idx = idx % len(self)\n",
    "        ann = self.anns[idx]\n",
    "        \n",
    "        try:\n",
    "            # Attempt to open the image file\n",
    "            img = Image.open(f'WIDER/Image/{ann[\"file_name\"]}').convert(\"RGB\")\n",
    "\n",
    "            # If this is the wider dataset, proceed with specific processing\n",
    "            # x, y, w, h = ann['bbox']\n",
    "            # img_area = img.crop([x, y, x+w, y+h])\n",
    "            img_area = self.augment(img)\n",
    "            img_area = self.transform(img_area)\n",
    "            attributes_list = [target['attribute'] for target in ann['targets']]\n",
    "            num_people = len(attributes_list)\n",
    "            attributes_distribution = [max(sum(attribute), 0)/num_people for attribute in zip(*attributes_list)]\n",
    "            # Extract label from image path\n",
    "            img_path = f'WIDER/Image/{ann[\"file_name\"]}'\n",
    "            label = self.extract_label(img_path)  # You might need to implement this method\n",
    "            \n",
    "            return {\n",
    "                \"label\": label,\n",
    "                \"target\": torch.tensor([attributes_distribution[0]], dtype=torch.float32),\n",
    "                \"img\": img_area\n",
    "            }\n",
    "            \n",
    "        except Exception as e:\n",
    "            # If any error occurs during the processing of an image, log the error and the index\n",
    "            print(f\"Error processing image at index {idx}: {e}\")\n",
    "            # Instead of returning None, raise the exception\n",
    "            raise\n",
    "\n",
    "    def extract_label(self, img_path):\n",
    "        original_label = None\n",
    "    \n",
    "        if \"WIDER/Image/train\" in img_path:\n",
    "            label_str = img_path.split(\"WIDER/Image/train/\")[1].split(\"/\")[0]\n",
    "            original_label = int(label_str.split(\"--\")[0])\n",
    "        elif \"WIDER/Image/test\" in img_path:\n",
    "            label_str = img_path.split(\"WIDER/Image/test/\")[1].split(\"/\")[0]\n",
    "            original_label = int(label_str.split(\"--\")[0])\n",
    "        elif \"WIDER/Image/val\" in img_path:  # Handle validation images\n",
    "            label_str = img_path.split(\"WIDER/Image/val/\")[1].split(\"/\")[0]\n",
    "            original_label = int(label_str.split(\"--\")[0])\n",
    "    \n",
    "        if original_label is not None:\n",
    "            remapped_label = self.label_mapping[original_label]\n",
    "            new_label_mapping = self.new_label_mapping[remapped_label]\n",
    "            return new_label_mapping\n",
    "        else:\n",
    "            raise ValueError(f\"Label could not be extracted from path: {img_path}\")\n"
   ]
  },
  {
   "cell_type": "code",
   "execution_count": 8,
   "id": "ea2490c2-046a-4a19-9717-642adbabb732",
   "metadata": {},
   "outputs": [],
   "source": [
    "train_file = ['data/wider/trainval_wider.json']\n",
    "test_file = ['data/wider/test_wider.json']\n"
   ]
  },
  {
   "cell_type": "code",
   "execution_count": 9,
   "id": "012d6bd8-61d5-4a20-845b-689234718508",
   "metadata": {},
   "outputs": [],
   "source": [
    "def custom_collate(batch):\n",
    "    # Filter out any None items in the batch\n",
    "    batch = [item for item in batch if item is not None]\n",
    "    # If after filtering the batch is empty, handle this case by either returning an empty tensor or raising an exception\n",
    "    if len(batch) == 0:\n",
    "        raise ValueError(\"Batch is empty after filtering out None items.\")\n",
    "    return torch.utils.data.dataloader.default_collate(batch)\n"
   ]
  },
  {
   "cell_type": "code",
   "execution_count": 10,
   "id": "8fe2adb5-687d-4055-a108-a9c041836b64",
   "metadata": {},
   "outputs": [
    {
     "name": "stdout",
     "output_type": "stream",
     "text": [
      "Compose(\n",
      "    Resize(size=(226, 226), interpolation=bilinear, max_size=None, antialias=warn)\n",
      ")\n",
      "Compose(\n",
      "    Resize(size=(226, 226), interpolation=bilinear, max_size=None, antialias=warn)\n",
      ")\n"
     ]
    }
   ],
   "source": [
    "train_dataset = DataSet(train_file, augs = [], img_size = 226, dataset = 'wider')\n",
    "test_dataset = DataSet(test_file, augs = [], img_size = 226, dataset = 'wider')\n",
    "\n",
    "\n",
    "if stratified_sampling_flag:\n",
    "    trainloader = DataLoader(train_dataset, \n",
    "                             batch_sampler=StratifiedBatchSampler(torch.tensor([train_dataset[i]['label'] for i in range(len(train_dataset))]), \n",
    "                             batch_size=batch_size), num_workers=num_workers, collate_fn=custom_collate)\n",
    "    testloader = DataLoader(test_dataset, batch_sampler=StratifiedBatchSampler(torch.tensor([test_dataset[i]['label'] for i in range(len(test_dataset))]), \n",
    "                             batch_size=batch_size), num_workers=num_workers, collate_fn=custom_collate)\n",
    "else:\n",
    "    trainloader = DataLoader(train_dataset, batch_size=batch_size, shuffle=True, \n",
    "                             num_workers=num_workers, collate_fn=custom_collate)\n",
    "    testloader = DataLoader(test_dataset, batch_size=batch_size, shuffle=False, num_workers=num_workers, collate_fn=custom_collate)"
   ]
  },
  {
   "cell_type": "code",
   "execution_count": 11,
   "id": "cff90b9a-9e51-4fb9-a343-da49cdc713da",
   "metadata": {},
   "outputs": [
    {
     "data": {
      "text/plain": [
       "10324"
      ]
     },
     "execution_count": 11,
     "metadata": {},
     "output_type": "execute_result"
    }
   ],
   "source": [
    "len(train_dataset)"
   ]
  },
  {
   "cell_type": "markdown",
   "id": "a6d18d4b-a3c0-4c5b-ad75-e74b6b1b7296",
   "metadata": {},
   "source": [
    "# Start Training Process"
   ]
  },
  {
   "cell_type": "code",
   "execution_count": 12,
   "id": "1c37c867-c1d1-438c-ac22-755904ce121e",
   "metadata": {},
   "outputs": [],
   "source": [
    "def one_hot_encode(labels, num_classes):\n",
    "    return np.eye(num_classes)[labels]\n",
    "\n",
    "def calculate_recall_multiclass(conf_matrix):\n",
    "    recalls = np.diag(conf_matrix) / np.sum(conf_matrix, axis=1)\n",
    "    recalls[np.isnan(recalls)] = 0  # Replace NaN with 0\n",
    "    return recalls\n",
    "\n",
    "def evaluate_model_with_gender_multiclass(pred, label, gender, num_classes):\n",
    "    predictions = pred.cpu()\n",
    "    true_labels = label.cpu()\n",
    "    gender = gender.cpu()\n",
    "\n",
    "    # Identify male and female indices based on the gender threshold\n",
    "    male_indices = np.where(gender >= 0.5)[0]\n",
    "    female_indices = np.where(gender < 0.5)[0]\n",
    "\n",
    "    # Convert labels to one-hot encoding\n",
    "    one_hot_labels = one_hot_encode(true_labels, num_classes=num_classes)\n",
    "    one_hot_preds = one_hot_encode(predictions, num_classes=num_classes)\n",
    "    # Initialize recall arrays\n",
    "    male_recall = np.zeros(num_classes)\n",
    "    female_recall = np.zeros(num_classes)\n",
    "\n",
    "    # Extract predictions and labels for male and female indices\n",
    "    male_predictions = np.argmax(one_hot_preds[male_indices], axis=1)\n",
    "    female_predictions = np.argmax(one_hot_preds[female_indices], axis=1)\n",
    "    male_labels = np.argmax(one_hot_labels[male_indices], axis=1)\n",
    "    female_labels = np.argmax(one_hot_labels[female_indices], axis=1)\n",
    "\n",
    "    # Check if the class labels are within the expected range\n",
    "    assert (0 <= male_predictions.min() < num_classes) and (0 <= male_predictions.max() < num_classes), \"Invalid class indices in male predictions\"\n",
    "    assert (0 <= female_predictions.min() < num_classes) and (0 <= female_predictions.max() < num_classes), \"Invalid class indices in female predictions\"\n",
    "    assert (0 <= male_labels.min() < num_classes) and (0 <= male_labels.max() < num_classes), \"Invalid class indices in male labels\"\n",
    "    assert (0 <= female_labels.min() < num_classes) and (0 <= female_labels.max() < num_classes), \"Invalid class indices in female labels\"\n",
    "\n",
    "    # Calculate confusion matrices for each gender\n",
    "    male_conf_matrix = confusion_matrix(male_labels, male_predictions, labels=np.arange(num_classes))\n",
    "    female_conf_matrix = confusion_matrix(female_labels, female_predictions, labels=np.arange(num_classes))\n",
    "\n",
    "    # Calculate recall for each class and gender\n",
    "    male_recall[:len(male_conf_matrix)] = calculate_recall_multiclass(male_conf_matrix)\n",
    "    female_recall[:len(female_conf_matrix)] = calculate_recall_multiclass(female_conf_matrix)\n",
    "\n",
    "    return male_recall - female_recall, male_conf_matrix, female_conf_matrix\n"
   ]
  },
  {
   "cell_type": "code",
   "execution_count": 13,
   "id": "1c6b93cb-37c9-448f-a8d9-424d3c4d40fb",
   "metadata": {},
   "outputs": [],
   "source": [
    "# Instantiate the models\n",
    "###################### Testing 1 ######################\n",
    "# Create instances of your models\n",
    "teacher_model = torchvision.models.efficientnet_b3(weights='DEFAULT')\n",
    "teacher_model.classifier = nn.Linear(1536, num_classes)\n",
    "student_model = torchvision.models.efficientnet_b0(weights='DEFAULT')\n",
    "student_model.classifier = nn.Linear(1280, num_classes)\n",
    "\n",
    "# Load teacher\n",
    "# teacher_model = torch.load('teacher_model_ckd_wider.pth')\n",
    "# teacher_model.load_state_dict(torch.load('teacher_model_weights_ckd_wider.pth'))\n",
    "# torch.save(teacher_model.state_dict(), 'teacher_model_weights_ckd_wider.pth')\n",
    "# # Load the studnet\n",
    "# student_model = torch.load('student_model_ckd_prof.pth')\n",
    "# student_model.load_state_dict(torch.load('student_model_weights_ckd_prof_checkpoint.pth'))\n",
    "# student_model = student_model.to(device)\n"
   ]
  },
  {
   "cell_type": "markdown",
   "id": "ffdcd643-ac9d-4e22-821a-4c784c86e4a5",
   "metadata": {},
   "source": [
    "This is the initialization of the 2-layer Adversary Perceptron. It is initialized with the number of classes*2, which represents the predicted labels (y_hat) and the true labels (y). The output of the final layer is a regression output, which is intended to predict the strength of gender (continuous number where anything past 0.5 is more male).\n"
   ]
  },
  {
   "cell_type": "code",
   "execution_count": 14,
   "id": "836f2993-0505-47c6-85ee-2ad2f45db946",
   "metadata": {},
   "outputs": [],
   "source": [
    "class Adversary(nn.Module):\n",
    "    def __init__(self, input_size=num_classes):\n",
    "        super(Adversary, self).__init__()\n",
    "\n",
    "        self.a1 = nn.Linear(input_size, 16)\n",
    "        self.a2 = nn.Linear(16, 1)  # Output size 1 for regression\n",
    "        nn.init.xavier_normal_(self.a1.weight)\n",
    "        nn.init.kaiming_normal_(self.a2.weight, mode='fan_out', nonlinearity='relu')\n",
    "\n",
    "    def forward(self, input_ids):\n",
    "        adversary = F.relu(self.a1(input_ids))\n",
    "        adversary_output = F.sigmoid(self.a2(adversary))  # Linear activation for regression\n",
    "        return adversary_output\n",
    "\n",
    "# Instantiate the Adversary\n",
    "adv = Adversary()"
   ]
  },
  {
   "cell_type": "code",
   "execution_count": 15,
   "id": "a761874d-cc14-482e-9c8c-6342adea3cae",
   "metadata": {},
   "outputs": [],
   "source": [
    "def pretrain_student(student, teacher, trainloader, criterion, optimizer, device, alpha, temperature, epochs_pretrain, patience=patience_student):\n",
    "    teacher.eval()\n",
    "    teacher.to(device)\n",
    "    best_val_loss = float('inf')  \n",
    "    patience_counter = 0 \n",
    "    student_epoch_losses = []\n",
    "    val_losses = []\n",
    "    \n",
    "    for epoch in range(epochs_pretrain):\n",
    "        student.train()\n",
    "        student.to(device)\n",
    "        running_loss = 0.0 \n",
    "        epoch_loss = 0.0  \n",
    "        num_batches = 0  \n",
    "        \n",
    "        for index, data in enumerate(tqdm(trainloader)):\n",
    "\n",
    "            inputs = data['img'].to(device)\n",
    "            labels = data['label'].to(device)\n",
    "            optimizer.zero_grad()\n",
    "            student_outputs = student(inputs)\n",
    "\n",
    "            with torch.no_grad():\n",
    "                teacher_outputs = teacher(inputs)\n",
    "\n",
    "            ce_loss = criterion(student_outputs, labels)\n",
    "            kd_loss = tkd_kdloss(student_outputs, teacher_outputs, temperature=temperature)  # Make sure this returns a scalar\n",
    "            \n",
    "            # If not scalar, sum up to make sure the loss is scalar\n",
    "            if kd_loss.ndim != 0:\n",
    "                kd_loss = kd_loss.sum()\n",
    "                \n",
    "            # Now combine the losses\n",
    "            loss = alpha * kd_loss + (1 - alpha) * ce_loss\n",
    "            loss.backward()\n",
    "            optimizer.step()\n",
    "            running_loss += loss.item()\n",
    "            epoch_loss += loss.item()\n",
    "            num_batches += 1\n",
    "        \n",
    "        epoch_loss /= num_batches\n",
    "        print(f'*******Epoch {epoch}: loss - {epoch_loss}')\n",
    "        student_epoch_losses.append(epoch_loss)\n"
   ]
  },
  {
   "cell_type": "code",
   "execution_count": 16,
   "id": "16f4630d-f0d5-4d83-b61f-8707df8800a6",
   "metadata": {},
   "outputs": [],
   "source": [
    "def pretrain_teacher(teacher, trainloader, criterion, optimizer, device, epochs_pretrain, patience=patience_student):\n",
    "    teacher.to(device)\n",
    "    teacher.train()  # Set the model to training mode\n",
    "    best_val_loss = float('inf')  \n",
    "    patience_counter = 0 \n",
    "    teacher_epoch_losses = []\n",
    "    val_losses = []\n",
    "    \n",
    "    for epoch in range(epochs_pretrain):\n",
    "        running_loss = 0.0 \n",
    "        epoch_loss = 0.0  \n",
    "        num_batches = 0  \n",
    "        \n",
    "        for index, data in enumerate(tqdm(trainloader)):\n",
    "            inputs = data['img'].to(device)\n",
    "            labels = data['label'].to(device)\n",
    "            optimizer.zero_grad()\n",
    "            teacher_outputs = teacher(inputs)\n",
    "\n",
    "            ce_loss = criterion(teacher_outputs, labels)\n",
    "                \n",
    "            loss = ce_loss\n",
    "            loss.backward()\n",
    "            optimizer.step()\n",
    "            running_loss += loss.item()\n",
    "            epoch_loss += loss.item()\n",
    "            num_batches += 1\n",
    "        \n",
    "        epoch_loss /= num_batches\n",
    "        print(f'*******Epoch {epoch}: loss - {epoch_loss}')\n",
    "        teacher_epoch_losses.append(epoch_loss)\n"
   ]
  },
  {
   "cell_type": "code",
   "execution_count": 17,
   "id": "005d66e3-f169-4d59-bc29-b5c0e05816b0",
   "metadata": {},
   "outputs": [],
   "source": [
    "def pretrain_adversary(adv, student, adversary_optimizer, trainloader, adv_criterion, device, epochs_pretrain):\n",
    "\n",
    "  for epoch in range(epochs_pretrain):\n",
    "    epoch_loss = 0\n",
    "    epoch_batches = 0\n",
    "    for i, data in enumerate(tqdm(trainloader)): # starting from the 0th batch\n",
    "        # get the inputs and labels\n",
    "        adv.train()\n",
    "        adv.to(device)\n",
    "        inputs = data['img'].to(device)\n",
    "        labels = data['label'].to(device)\n",
    "        targets = data['target'].to(device)\n",
    "        student = student.to(device)\n",
    "        adversary_optimizer.zero_grad()\n",
    "        student_output = student(inputs)\n",
    "        adversary_output = adv(student_output)\n",
    "        adversary_loss = adv_criterion(adversary_output, targets) # compute loss\n",
    "        adversary_loss.backward() # back prop\n",
    "        adversary_optimizer.step()\n",
    "        epoch_loss += adversary_loss.item()\n",
    "        epoch_batches += 1\n",
    "\n",
    "    print(\"Average Pretrain Adversary epoch loss: \", epoch_loss/epoch_batches)\n"
   ]
  },
  {
   "cell_type": "code",
   "execution_count": 18,
   "id": "c7b4731c-f105-4192-9650-6587c46f6e8c",
   "metadata": {},
   "outputs": [],
   "source": [
    "# Optimizer and scheduler for the student model\n",
    "student_optimizer = optim.Adam(student_model.parameters(), lr=learning_rate)\n",
    "\n",
    "# Optimizer and scheduler for the teacher model\n",
    "teacher_optimizer = optim.SGD(teacher_model.parameters(), lr=learning_rate, momentum=momentum)\n",
    "teacher_scheduler = torch.optim.lr_scheduler.StepLR(teacher_optimizer, step_size=step_size, gamma=gamma)\n",
    "\n",
    "optimizer_adv = optim.Adam(adv.parameters(), lr=learning_rate)\n",
    "\n",
    "# Instantiate the model and the loss function\n",
    "criterion_clf = nn.CrossEntropyLoss()\n",
    "adv_criterion = nn.MSELoss()\n"
   ]
  },
  {
   "cell_type": "code",
   "execution_count": 19,
   "id": "411c4f7a-d0b4-478f-9fa5-5e152e08ed14",
   "metadata": {},
   "outputs": [],
   "source": [
    "def plot_loss_curve(losses):\n",
    "    epochs = range(1, len(losses) + 1)\n",
    "    plt.plot(epochs, losses)\n",
    "    plt.xlabel('Epoch')\n",
    "    plt.ylabel('Loss')\n",
    "    plt.title('Val Loss Curve')\n",
    "    plt.show()"
   ]
  },
  {
   "cell_type": "code",
   "execution_count": null,
   "id": "872c5cd1",
   "metadata": {},
   "outputs": [],
   "source": []
  },
  {
   "cell_type": "code",
   "execution_count": 20,
   "id": "286386b2-d6e9-447e-95b5-b3dd8f18010b",
   "metadata": {},
   "outputs": [],
   "source": [
    "def train_teacher(model, adv, trainloader, criterion, adv_criterion, optimizer, optimizer_adv, device, \n",
    "                  epochs, lmda, patience=patience_teacher):\n",
    "\n",
    "    best_val_loss = float('inf')\n",
    "    patience_counter = 0\n",
    "    epoch_losses = [] \n",
    "    val_losses = []\n",
    "    val_disparities = []\n",
    "    val_accuracies = []\n",
    "    best_total_val_loss = float('inf')\n",
    "\n",
    "    for epoch in range(epochs):\n",
    "        model.train()\n",
    "        adv.train()\n",
    "        model.to(device)\n",
    "        adv.to(device)\n",
    "        running_loss = 0.0\n",
    "        epoch_loss = 0.0  \n",
    "        num_batches = 0  \n",
    "        \n",
    "        for index, data in enumerate(tqdm(trainloader)):\n",
    "            inputs = data['img'].to(device)\n",
    "            labels = data['label'].to(device)\n",
    "            targets = data['target'].to(device)\n",
    "        \n",
    "            # Forward pass for teacher model\n",
    "            optimizer.zero_grad()\n",
    "            outputs = model(inputs)\n",
    "            classification_loss = criterion(outputs, labels)\n",
    "        \n",
    "            # Forward pass for adversary model\n",
    "            optimizer_adv.zero_grad()\n",
    "            with torch.no_grad():\n",
    "                teacher_outputs_detached = outputs.detach()\n",
    "            adversary_output = adv(teacher_outputs_detached)\n",
    "            adversary_loss = adv_criterion(adversary_output, targets)\n",
    "        \n",
    "            # Calculate the total loss by combining classification and adversary loss\n",
    "            if lmda != 0:\n",
    "                total_loss = classification_loss + classification_loss/adversary_loss - lmda * adversary_loss\n",
    "            else:\n",
    "                total_loss = classification_loss\n",
    "                \n",
    "            total_loss.backward()\n",
    "        \n",
    "            optimizer.step()\n",
    "            optimizer_adv.step()\n",
    "        \n",
    "            running_loss += total_loss.item()\n",
    "            epoch_loss += total_loss.item()\n",
    "            num_batches += 1\n",
    "\n",
    "        epoch_loss /= num_batches  \n",
    "        epoch_losses.append(epoch_loss)\n",
    "\n",
    "        model.eval()\n",
    "        total_correct = 0\n",
    "        total_samples = 0\n",
    "        total_val_loss = 0.0\n",
    "        num_batches = 0\n",
    "        confusion_male = np.zeros((num_classes, num_classes))\n",
    "        confusion_female = np.zeros((num_classes, num_classes))\n",
    "        \n",
    "        with torch.no_grad():\n",
    "            for val_data in tqdm(testloader):\n",
    "                val_inputs = val_data['img'].to(device)\n",
    "                val_labels = val_data['label'].to(device)\n",
    "                val_targets = val_data['target'].to(device)\n",
    "                \n",
    "                val_outputs = model(val_inputs)\n",
    "                with torch.no_grad():\n",
    "                    teacher_outputs_detached_val = val_outputs.detach()                \n",
    "                adversary_output_val = adv(teacher_outputs_detached_val)\n",
    "                adversary_loss_val = adv_criterion(adversary_output_val, val_targets)\n",
    "                \n",
    "                # Compute validation loss\n",
    "                val_ce_loss = criterion(val_outputs, val_labels)\n",
    "\n",
    "                if lmda !=0:\n",
    "                    val_loss = val_ce_loss + val_ce_loss/adversary_loss_val - lmda * adversary_loss_val\n",
    "                else:\n",
    "                    val_loss = val_ce_loss\n",
    "                    \n",
    "                total_val_loss += val_loss.item()\n",
    "\n",
    "                # Compute the validation accuracy\n",
    "                _, predicted = torch.max(val_outputs, 1)\n",
    "                total_samples += val_labels.size(0)\n",
    "                total_correct += (predicted == val_labels).sum().item()\n",
    "                num_batches += 1\n",
    "\n",
    "                # Compute recall differences for gender\n",
    "                recall_diff = evaluate_model_with_gender_multiclass(predicted, val_labels, val_targets, num_classes=num_classes)\n",
    "                confusion_male += recall_diff[1]\n",
    "                confusion_female += recall_diff[2]\n",
    "\n",
    "            total_val_loss /= num_batches\n",
    "            confusion_male /= num_batches\n",
    "            confusion_female /= num_batches\n",
    "            \n",
    "            epoch_disparity = calculate_recall_multiclass(confusion_male) - calculate_recall_multiclass(confusion_female)\n",
    "            val_losses.append(total_val_loss)\n",
    "            non_zero_abs_values = np.abs(epoch_disparity[epoch_disparity != 0])\n",
    "            mean_non_zero_abs_disparity = np.mean(non_zero_abs_values)\n",
    "            val_disparities.append(mean_non_zero_abs_disparity)\n",
    "            accuracy = total_correct / total_samples\n",
    "            val_accuracies.append(accuracy)\n",
    "            print(f'*****Epoch {epoch + 1}/{epochs}*****\\n' \n",
    "            f'*****Train Loss: {epoch_loss: .6f} Val Loss: {total_val_loss: .6f}*****\\n'\n",
    "            f'*****Validation Accuracy: {accuracy * 100:.2f}%*****\\n'\n",
    "            f'*****Total Avg Disparity: {mean_non_zero_abs_disparity}*****\\n')\n",
    "            class_recall_mapping = {class_name: epoch_disparity[int(class_label)] for class_label, class_name in class_idx.items()}\n",
    "            \n",
    "            # Print disparities by class label\n",
    "            for class_label, recall_diff in class_recall_mapping.items():\n",
    "                print(f\"Class {class_label}: Recall Difference = {recall_diff}\")\n",
    "        \n",
    "        # Check for early stopping\n",
    "        if abs(total_val_loss) < abs(best_total_val_loss):\n",
    "            best_total_val_loss = total_val_loss\n",
    "            patience_counter = 0 \n",
    "            best_epoch_mean_abs_disparity = mean_non_zero_abs_disparity\n",
    "            torch.save(model.state_dict(), f'teacher_model_weights_ckd_prof_checkpoint{lmda}.pth')\n",
    "            torch.save(model, f'teacher_model_ckd_prof_checkpoint{lmda}.pth')\n",
    "        else:\n",
    "            patience_counter += 1 \n",
    "\n",
    "        if patience_counter >= patience:\n",
    "            print('Early stopping')\n",
    "            break  \n",
    "        \n",
    "    plot_loss_curve(val_losses)\n",
    "    print(\"Finished Training Teacher\")\n",
    "    return val_disparities\n",
    "\n",
    "\n",
    "# Function to train the student model with knowledge distillation\n",
    "def train_student_with_distillation_disparity(student, teacher, adv, trainloader, testloader, criterion, adv_criterion, optimizers, optimizera, \n",
    "                                              device, alpha, temperature, epochs, lmda, patience=patience_student):\n",
    "    teacher.eval()\n",
    "    teacher.to(device)\n",
    "    best_val_accuracy = 0\n",
    "    best_total_val_loss = float('inf')\n",
    "    best_epoch_accuracy = 0.0\n",
    "    best_epoch_disparity = 0.0\n",
    "    patience_counter = 0 \n",
    "    student_epoch_losses = []\n",
    "    val_losses = []\n",
    "    val_disparities = []\n",
    "    val_accuracies = []\n",
    "\n",
    "    for epoch in range(epochs):\n",
    "        student.train()\n",
    "        student.to(device)\n",
    "        adv.train()\n",
    "        adv.to(device)\n",
    "        running_loss = 0.0 \n",
    "        epoch_loss = 0.0  \n",
    "        num_batches = 0 \n",
    "        confusion_male = np.zeros((num_classes, num_classes))\n",
    "        confusion_female = np.zeros((num_classes, num_classes))\n",
    "\n",
    "        for index, data in enumerate(tqdm(trainloader)):\n",
    "            inputs = data['img'].to(device)\n",
    "            labels = data['label'].to(device)\n",
    "            targets = data['target'].to(device)\n",
    "            optimizers.zero_grad()\n",
    "            optimizera.zero_grad()\n",
    "            student_outputs = student(inputs)\n",
    "            with torch.no_grad():\n",
    "                teacher_outputs = teacher(inputs)\n",
    "\n",
    "            # detach student_outputs to avoid exploding gradients by passing same inputs (with gradience) into two different models. \n",
    "            studentached = student_outputs.detach()\n",
    "            # One-hot encode labels and concatenate with student's predictions\n",
    "\n",
    "            # Run the adversarial model on concatenated true labels, and predicted labels\n",
    "            with torch.no_grad():\n",
    "                adversary_output = adv(studentached)\n",
    "\n",
    "            # Calc adversary loss, which is an MSE loss, because this is a regression output. \n",
    "            adversary_loss = adv_criterion(adversary_output, targets)\n",
    "            ce_loss = criterion(student_outputs, labels)\n",
    "            kd_loss = tkd_kdloss(student_outputs, teacher_outputs, temperature=temperature)  # Make sure this returns a scalar\n",
    "            \n",
    "            if kd_loss.ndim != 0:\n",
    "                kd_loss = kd_loss.sum()\n",
    "\n",
    "            # Now combine the losses, subtract weighted adversary loss because we need to maximize that loss \n",
    "            # goal of the model is to have the adversary not predict gender. \n",
    "            if lmda != 0:\n",
    "                loss = (alpha * kd_loss + (1 - alpha) * ce_loss) + (alpha * kd_loss + (1 - alpha) * ce_loss)/adversary_loss - lmda * adversary_loss\n",
    "            else:\n",
    "                loss = alpha * kd_loss + (1 - alpha) * ce_loss\n",
    "                \n",
    "            loss.backward()\n",
    "            optimizers.step()\n",
    "            optimizera.step()\n",
    "            running_loss += loss.item()\n",
    "            epoch_loss += loss.item()\n",
    "            num_batches += 1\n",
    "\n",
    "        epoch_loss /= num_batches\n",
    "        # print(f'*******Epoch {epoch}: running_recall_with - {running_recall_with/num_batches}  |  running_recall_without - {running_recall_without/num_batches}  |  disparity - {epoch_disparity/num_batches}******')\n",
    "        student_epoch_losses.append(epoch_loss)\n",
    "\n",
    "        student.eval()\n",
    "        adv.eval()\n",
    "        total_correct = 0\n",
    "        total_samples = 0\n",
    "        total_val_loss = 0.0\n",
    "        num_batches = 0\n",
    "        # Validation after each epoch\n",
    "        with torch.no_grad():\n",
    "            for val_data in tqdm(testloader):\n",
    "                val_inputs = val_data['img'].to(device)\n",
    "                val_labels = val_data['label'].to(device)\n",
    "                val_targets = val_data['target'].to(device)\n",
    "                \n",
    "                # Forward pass for validation\n",
    "                val_student_outputs = student(val_inputs)\n",
    "                val_teacher_outputs = teacher(val_inputs)\n",
    "\n",
    "                val_studentached = val_student_outputs.detach()   \n",
    "\n",
    "                val_adversary_output = adv(val_studentached)\n",
    "                val_adversary_loss = adv_criterion(val_adversary_output, val_targets)\n",
    "                val_ce_loss = criterion(val_student_outputs, val_labels)\n",
    "                val_kd_loss = tkd_kdloss(val_student_outputs, val_teacher_outputs, temperature=temperature)  # Make sure this returns a scalar\n",
    "                \n",
    "                if val_kd_loss.ndim != 0:\n",
    "                    val_kd_loss = val_kd_loss.sum()\n",
    "                if lmda != 0:\n",
    "                    val_loss = (alpha * val_kd_loss + (1 - alpha) * val_ce_loss) + (alpha * val_kd_loss + (1 - alpha) * val_ce_loss)/val_adversary_loss - lmda * val_adversary_loss\n",
    "                else:\n",
    "                    val_loss = alpha * val_kd_loss + (1 - alpha) * val_ce_loss\n",
    "                total_val_loss += val_loss.item()\n",
    "    \n",
    "                # Compute the validation accuracy\n",
    "                _, predicted = torch.max(val_student_outputs, 1)\n",
    "                total_samples += val_labels.size(0)\n",
    "                total_correct += (predicted == val_labels).sum().item()\n",
    "                num_batches += 1\n",
    "                recall_diff = evaluate_model_with_gender_multiclass(predicted, val_labels, val_targets, num_classes=num_classes)\n",
    "                confusion_male += recall_diff[1]\n",
    "                confusion_female += recall_diff[2]\n",
    "    \n",
    "            total_val_loss /= num_batches\n",
    "            confusion_male /= num_batches\n",
    "            confusion_female /= num_batches\n",
    "\n",
    "            epoch_disparity = calculate_recall_multiclass(confusion_male) - calculate_recall_multiclass(confusion_female)\n",
    "            val_losses.append(total_val_loss)\n",
    "            non_zero_abs_values = np.abs(epoch_disparity[epoch_disparity != 0])\n",
    "            mean_non_zero_abs_disparity = np.mean(non_zero_abs_values)\n",
    "            val_disparities.append(mean_non_zero_abs_disparity)\n",
    "            accuracy = total_correct / total_samples\n",
    "            val_accuracies.append(accuracy)\n",
    "            print(f'*****Epoch {epoch + 1}/{epochs}*****\\n' \n",
    "            f'*****Train Loss: {epoch_loss: .6f} Val Loss: {total_val_loss: .6f}*****\\n'\n",
    "            f'*****Validation Accuracy: {accuracy * 100:.2f}%*****\\n'\n",
    "            f'*****Total Avg Disparity: {mean_non_zero_abs_disparity}*****\\n')\n",
    "            class_recall_mapping = {class_name: epoch_disparity[int(class_label)] for class_label, class_name in class_idx.items()}\n",
    "            \n",
    "            # Print disparities by class label\n",
    "            for class_label, recall_diff in class_recall_mapping.items():\n",
    "                print(f\"Class {class_label}: Recall Difference = {recall_diff}\")\n",
    "\n",
    "        # Check for early stopping\n",
    "        if abs(total_val_loss) < abs(best_total_val_loss):\n",
    "            best_total_val_loss = total_val_loss\n",
    "            patience_counter = 0\n",
    "            best_epoch_mean_abs_disparity = mean_non_zero_abs_disparity\n",
    "            torch.save(student.state_dict(), f'student_model_weights_ckd_wider_checkpoint_lambda{lmda}.pth')\n",
    "            torch.save(student, f'student_model_ckd_wider_checkpoint_lambda{lmda}.pth')\n",
    "        else:\n",
    "            patience_counter += 1 \n",
    "\n",
    "        if patience_counter >= patience:\n",
    "            print('Early stopping')\n",
    "            break  \n",
    "    \n",
    "        file_path = os.path.join(output_dir, f'validation_{lmda}.txt')\n",
    "        \n",
    "        # Append data to the text file\n",
    "        with open(file_path, 'a') as file:\n",
    "            file.write(f'********Epoch: {epoch}***********')\n",
    "            \n",
    "            file.write(\"Val Accuracies:\\n\")\n",
    "            for accuracy in val_accuracies:\n",
    "                file.write(f\"{accuracy}\\n\")\n",
    "        \n",
    "            file.write(\"\\nVal Disparities:\\n\")\n",
    "            for disparity in val_disparities:\n",
    "                file.write(f\"{disparity}\\n\")\n",
    "\n",
    "            for class_label, recall_diff in class_recall_mapping.items():\n",
    "                file.write(f\"Class {class_label}: Recall Difference = {recall_diff}\\n\")\n",
    "        \n",
    "        \n",
    "        print(f\"Data has been appended to {file_path}\")\n",
    "    plot_loss_curve(val_losses)\n",
    "                \n",
    "    return best_epoch_mean_abs_disparity"
   ]
  },
  {
   "cell_type": "code",
   "execution_count": 21,
   "id": "17a06902-9ad4-47a6-9a67-181e2dc43218",
   "metadata": {},
   "outputs": [
    {
     "name": "stderr",
     "output_type": "stream",
     "text": [
      "100%|████████████████████████████████████████████████████████████████████████████████████████| 136/136 [01:51<00:00,  1.22it/s]\n",
      "100%|██████████████████████████████████████████████████████████████████████████████████████████| 46/46 [00:18<00:00,  2.48it/s]\n"
     ]
    },
    {
     "name": "stdout",
     "output_type": "stream",
     "text": [
      "*****Epoch 1/100*****\n",
      "*****Train Loss:  1.573693 Val Loss:  1.198609*****\n",
      "*****Validation Accuracy: 63.15%*****\n",
      "*****Total Avg Disparity: 0.1579134980149971*****\n",
      "\n",
      "Class Team_Sports: Recall Difference = 0.0786360716996557\n",
      "Class Celebration: Recall Difference = -0.042500505356781904\n",
      "Class Parade: Recall Difference = 0.1318970047293746\n",
      "Class Waiter_Or_Waitress: Recall Difference = -0.3163265306122448\n",
      "Class Individual_Sports: Recall Difference = -0.07205032550654655\n",
      "Class Surgeons: Recall Difference = -0.026607538802660757\n",
      "Class Spa: Recall Difference = 0.21276595744680837\n",
      "Class Law_Enforcement: Recall Difference = 0.15893500755726087\n",
      "Class Business: Recall Difference = -0.02941176470588236\n",
      "Class Dresses: Recall Difference = -0.7159509202453987\n",
      "Class Water Activities: Recall Difference = 0.06388511985526912\n",
      "Class Picnic: Recall Difference = -0.41830065359477125\n",
      "Class Rescue: Recall Difference = 0.012405063291139218\n",
      "Class Cheering: Recall Difference = 0.0634206219312603\n",
      "Class Performance_And_Entertainment: Recall Difference = 0.050658561296859195\n",
      "Class Family: Recall Difference = -0.13286432160804007\n"
     ]
    },
    {
     "name": "stderr",
     "output_type": "stream",
     "text": [
      "100%|████████████████████████████████████████████████████████████████████████████████████████| 136/136 [01:50<00:00,  1.23it/s]\n",
      "100%|██████████████████████████████████████████████████████████████████████████████████████████| 46/46 [00:18<00:00,  2.48it/s]\n"
     ]
    },
    {
     "name": "stdout",
     "output_type": "stream",
     "text": [
      "*****Epoch 2/100*****\n",
      "*****Train Loss:  0.835941 Val Loss:  1.192453*****\n",
      "*****Validation Accuracy: 64.73%*****\n",
      "*****Total Avg Disparity: 0.13494515127105647*****\n",
      "\n",
      "Class Team_Sports: Recall Difference = 0.07335785601681566\n",
      "Class Celebration: Recall Difference = -0.06989084293511216\n",
      "Class Parade: Recall Difference = 0.12319729082734843\n",
      "Class Waiter_Or_Waitress: Recall Difference = -0.2189952904238618\n",
      "Class Individual_Sports: Recall Difference = -0.013312852022529298\n",
      "Class Surgeons: Recall Difference = -0.1359940872135993\n",
      "Class Spa: Recall Difference = -0.03546099290780147\n",
      "Class Law_Enforcement: Recall Difference = 0.07650273224043702\n",
      "Class Business: Recall Difference = -0.04006820119352095\n",
      "Class Dresses: Recall Difference = -0.701840490797546\n",
      "Class Water Activities: Recall Difference = 0.08638625056535498\n",
      "Class Picnic: Recall Difference = -0.3333333333333333\n",
      "Class Rescue: Recall Difference = 0.01898734177215189\n",
      "Class Cheering: Recall Difference = -0.02761865793780688\n",
      "Class Performance_And_Entertainment: Recall Difference = 0.03191489361702127\n",
      "Class Family: Recall Difference = -0.1722613065326633\n"
     ]
    },
    {
     "name": "stderr",
     "output_type": "stream",
     "text": [
      "100%|████████████████████████████████████████████████████████████████████████████████████████| 136/136 [01:50<00:00,  1.23it/s]\n",
      "100%|██████████████████████████████████████████████████████████████████████████████████████████| 46/46 [00:18<00:00,  2.44it/s]\n"
     ]
    },
    {
     "name": "stdout",
     "output_type": "stream",
     "text": [
      "*****Epoch 3/100*****\n",
      "*****Train Loss:  0.427166 Val Loss:  1.370008*****\n",
      "*****Validation Accuracy: 63.12%*****\n",
      "*****Total Avg Disparity: 0.1514740375374728*****\n",
      "\n",
      "Class Team_Sports: Recall Difference = 0.06847667425702098\n",
      "Class Celebration: Recall Difference = -0.12431776834445118\n",
      "Class Parade: Recall Difference = 0.04805278215682829\n",
      "Class Waiter_Or_Waitress: Recall Difference = -0.21114599686028268\n",
      "Class Individual_Sports: Recall Difference = -0.07318411235461908\n",
      "Class Surgeons: Recall Difference = -0.026607538802660757\n",
      "Class Spa: Recall Difference = -0.3687943262411348\n",
      "Class Law_Enforcement: Recall Difference = 0.24311126613184514\n",
      "Class Business: Recall Difference = 0.03260869565217389\n",
      "Class Dresses: Recall Difference = -0.705521472392638\n",
      "Class Water Activities: Recall Difference = -0.01922207146087751\n",
      "Class Picnic: Recall Difference = -0.2026143790849672\n",
      "Class Rescue: Recall Difference = 0.07037974683544296\n",
      "Class Cheering: Recall Difference = -0.07037643207855981\n",
      "Class Performance_And_Entertainment: Recall Difference = 0.07193515704154008\n",
      "Class Family: Recall Difference = -0.08723618090452256\n"
     ]
    },
    {
     "name": "stderr",
     "output_type": "stream",
     "text": [
      "100%|████████████████████████████████████████████████████████████████████████████████████████| 136/136 [01:50<00:00,  1.23it/s]\n",
      "100%|██████████████████████████████████████████████████████████████████████████████████████████| 46/46 [00:18<00:00,  2.47it/s]\n"
     ]
    },
    {
     "name": "stdout",
     "output_type": "stream",
     "text": [
      "*****Epoch 4/100*****\n",
      "*****Train Loss:  0.211100 Val Loss:  1.521160*****\n",
      "*****Validation Accuracy: 64.33%*****\n",
      "*****Total Avg Disparity: 0.15807420318888107*****\n",
      "\n",
      "Class Team_Sports: Recall Difference = 0.08031762713843638\n",
      "Class Celebration: Recall Difference = -0.06296745502324641\n",
      "Class Parade: Recall Difference = 0.06399252642027209\n",
      "Class Waiter_Or_Waitress: Recall Difference = -0.22135007849293575\n",
      "Class Individual_Sports: Recall Difference = -0.042535293687367526\n",
      "Class Surgeons: Recall Difference = -0.06356245380635617\n",
      "Class Spa: Recall Difference = -0.39007092198581567\n",
      "Class Law_Enforcement: Recall Difference = 0.2404371584699454\n",
      "Class Business: Recall Difference = 0.004262574595055468\n",
      "Class Dresses: Recall Difference = -0.7282208588957055\n",
      "Class Water Activities: Recall Difference = 0.04138398914518315\n",
      "Class Picnic: Recall Difference = -0.26143790849673204\n",
      "Class Rescue: Recall Difference = 0.03772151898734172\n",
      "Class Cheering: Recall Difference = 0.06198854337152204\n",
      "Class Performance_And_Entertainment: Recall Difference = 0.015873015873015928\n",
      "Class Family: Recall Difference = -0.2130653266331659\n"
     ]
    },
    {
     "name": "stderr",
     "output_type": "stream",
     "text": [
      "100%|████████████████████████████████████████████████████████████████████████████████████████| 136/136 [01:50<00:00,  1.23it/s]\n",
      "100%|██████████████████████████████████████████████████████████████████████████████████████████| 46/46 [00:18<00:00,  2.48it/s]\n"
     ]
    },
    {
     "name": "stdout",
     "output_type": "stream",
     "text": [
      "*****Epoch 5/100*****\n",
      "*****Train Loss:  0.149551 Val Loss:  1.643420*****\n",
      "*****Validation Accuracy: 64.13%*****\n",
      "*****Total Avg Disparity: 0.17103066426902824*****\n",
      "\n",
      "Class Team_Sports: Recall Difference = 0.06841828691539675\n",
      "Class Celebration: Recall Difference = -0.0448756822316555\n",
      "Class Parade: Recall Difference = 0.09149296432533416\n",
      "Class Waiter_Or_Waitress: Recall Difference = -0.17268445839874402\n",
      "Class Individual_Sports: Recall Difference = -0.08280301367858967\n",
      "Class Surgeons: Recall Difference = -0.13673318551367325\n",
      "Class Spa: Recall Difference = -0.2836879432624115\n",
      "Class Law_Enforcement: Recall Difference = 0.07964190210440647\n",
      "Class Business: Recall Difference = 0.03367433930093777\n",
      "Class Dresses: Recall Difference = -0.5791411042944785\n",
      "Class Water Activities: Recall Difference = 0.07858435097241079\n",
      "Class Picnic: Recall Difference = -0.6078431372549019\n",
      "Class Rescue: Recall Difference = 0.030379746835442978\n",
      "Class Cheering: Recall Difference = -0.13052373158756142\n",
      "Class Performance_And_Entertainment: Recall Difference = 0.10334346504559278\n",
      "Class Family: Recall Difference = -0.21266331658291454\n",
      "Early stopping\n"
     ]
    },
    {
     "data": {
      "image/png": "[encoded data removed]",
      "text/plain": [
       "<Figure size 640x480 with 1 Axes>"
      ]
     },
     "metadata": {},
     "output_type": "display_data"
    },
    {
     "name": "stdout",
     "output_type": "stream",
     "text": [
      "Finished Training Teacher\n",
      "Teacher weights and architecture saved and exported for lambda: 0\n"
     ]
    }
   ],
   "source": [
    "# Initialize the dictionary for results\n",
    "lambda_results = {}\n",
    "\n",
    "# Loop for training the teacher model with different lambda values\n",
    "for i in lmda_list_teacher:\n",
    "    # Reset the teacher model for each lambda\n",
    "    teacher_model = torchvision.models.efficientnet_b3(weights='DEFAULT')    \n",
    "    # Replace the last fully connected layer with a new one\n",
    "    teacher_model.classifier = nn.Linear(1536, num_classes)\n",
    "#     teacher_model = torch.load('teacher_model_ckd_wider_lambda02.pth')\n",
    "#     teacher_model.load_state_dict(torch.load('teacher_model_weights_ckd_wider_lambda02.pth'))\n",
    "    \n",
    "    teacher_optimizer = optim.Adam(teacher_model.parameters(), lr=learning_rate)\n",
    "    \n",
    "    # Initialize the adversary for the teacher\n",
    "    adv = Adversary()\n",
    "    teacher_optimizer_adv = optim.Adam(adv.parameters(), lr=learning_rate)\n",
    "\n",
    "    # pretrain_teacher(teacher_model, trainloader, criterion_clf, teacher_optimizer, device, epochs_pretrain)\n",
    "    # pretrain_adversary(adv, student_model, optimizer_adv, trainloader, adv_criterion, device, epochs_pretrain)\n",
    "    \n",
    "    # Train the teacher model with adversarial training\n",
    "    teacher_mean_abs_val_disparity = train_teacher(teacher_model, adv, trainloader, criterion_clf, adv_criterion, teacher_optimizer, teacher_optimizer_adv, device, epochs, i, patience=patience_teacher)\n",
    "\n",
    "    # Save the teacher model and its state\n",
    "    torch.save(teacher_model.state_dict(), f'teacher_model_weights_ckd_wider_lambda{i}2.pth')\n",
    "    torch.save(teacher_model, f'teacher_model_ckd_wider_lambda{i}2.pth')\n",
    "    print('Teacher weights and architecture saved and exported for lambda:', i)\n",
    "\n",
    "    # Store the teacher results in the dictionary\n",
    "    lambda_results[i] = {\n",
    "        'teacher_mean_abs_val_disparity': teacher_mean_abs_val_disparity\n",
    "    }\n"
   ]
  },
  {
   "cell_type": "code",
   "execution_count": null,
   "id": "f00ed527-6705-4f12-b7af-2c5d0a1e753f",
   "metadata": {},
   "outputs": [
    {
     "name": "stderr",
     "output_type": "stream",
     "text": [
      "100%|████████████████████████████████████████████████████████████████████████████████████████| 136/136 [01:22<00:00,  1.64it/s]\n"
     ]
    },
    {
     "name": "stdout",
     "output_type": "stream",
     "text": [
      "*******Epoch 0: loss - 0.6540927334743387\n"
     ]
    },
    {
     "name": "stderr",
     "output_type": "stream",
     "text": [
      "100%|████████████████████████████████████████████████████████████████████████████████████████| 136/136 [01:22<00:00,  1.64it/s]\n"
     ]
    },
    {
     "name": "stdout",
     "output_type": "stream",
     "text": [
      "*******Epoch 1: loss - 0.3921015188097954\n"
     ]
    },
    {
     "name": "stderr",
     "output_type": "stream",
     "text": [
      "100%|████████████████████████████████████████████████████████████████████████████████████████| 136/136 [01:22<00:00,  1.64it/s]\n"
     ]
    },
    {
     "name": "stdout",
     "output_type": "stream",
     "text": [
      "*******Epoch 2: loss - 0.26178907208582936\n"
     ]
    },
    {
     "name": "stderr",
     "output_type": "stream",
     "text": [
      "100%|████████████████████████████████████████████████████████████████████████████████████████| 136/136 [01:40<00:00,  1.35it/s]\n"
     ]
    },
    {
     "name": "stdout",
     "output_type": "stream",
     "text": [
      "Average Pretrain Adversary epoch loss:  0.4848418031983516\n"
     ]
    },
    {
     "name": "stderr",
     "output_type": "stream",
     "text": [
      "100%|████████████████████████████████████████████████████████████████████████████████████████| 136/136 [01:40<00:00,  1.35it/s]\n"
     ]
    },
    {
     "name": "stdout",
     "output_type": "stream",
     "text": [
      "Average Pretrain Adversary epoch loss:  0.4846458110739203\n"
     ]
    },
    {
     "name": "stderr",
     "output_type": "stream",
     "text": [
      "100%|████████████████████████████████████████████████████████████████████████████████████████| 136/136 [01:40<00:00,  1.35it/s]\n"
     ]
    },
    {
     "name": "stdout",
     "output_type": "stream",
     "text": [
      "Average Pretrain Adversary epoch loss:  0.48470095588880424\n"
     ]
    },
    {
     "name": "stderr",
     "output_type": "stream",
     "text": [
      "100%|████████████████████████████████████████████████████████████████████████████████████████| 136/136 [01:22<00:00,  1.65it/s]\n",
      "100%|██████████████████████████████████████████████████████████████████████████████████████████| 46/46 [00:19<00:00,  2.34it/s]\n"
     ]
    },
    {
     "name": "stdout",
     "output_type": "stream",
     "text": [
      "*****Epoch 1/100*****\n",
      "*****Train Loss: -6.757639 Val Loss: -6.088445*****\n",
      "*****Validation Accuracy: 63.55%*****\n",
      "*****Total Avg Disparity: 0.11919522436223705*****\n",
      "\n",
      "Class Team_Sports: Recall Difference = 0.033514334092368814\n",
      "Class Celebration: Recall Difference = -0.0845967252880534\n",
      "Class Parade: Recall Difference = 0.04822794418170129\n",
      "Class Waiter_Or_Waitress: Recall Difference = -0.14207221350078492\n",
      "Class Individual_Sports: Recall Difference = -0.06846609611586574\n",
      "Class Surgeons: Recall Difference = -0.07538802660753874\n",
      "Class Spa: Recall Difference = -0.3475177304964538\n",
      "Class Law_Enforcement: Recall Difference = 0.11021974189047778\n",
      "Class Business: Recall Difference = 0.017263427109974416\n",
      "Class Dresses: Recall Difference = -0.5730061349693252\n",
      "Class Water Activities: Recall Difference = 0.04828132066938018\n",
      "Class Picnic: Recall Difference = -0.03267973856209161\n",
      "Class Rescue: Recall Difference = -0.00025316455696200446\n",
      "Class Cheering: Recall Difference = -0.07283142389525371\n",
      "Class Performance_And_Entertainment: Recall Difference = 0.13019250253292802\n",
      "Class Family: Recall Difference = -0.12261306532663319\n",
      "Data has been appended to ./runs_2023_12_05_00_44/validation_15.txt\n"
     ]
    },
    {
     "name": "stderr",
     "output_type": "stream",
     "text": [
      "100%|████████████████████████████████████████████████████████████████████████████████████████| 136/136 [01:22<00:00,  1.65it/s]\n",
      "100%|██████████████████████████████████████████████████████████████████████████████████████████| 46/46 [00:19<00:00,  2.36it/s]\n"
     ]
    },
    {
     "name": "stdout",
     "output_type": "stream",
     "text": [
      "*****Epoch 2/100*****\n",
      "*****Train Loss: -6.782148 Val Loss: -6.103843*****\n",
      "*****Validation Accuracy: 63.87%*****\n",
      "*****Total Avg Disparity: 0.13179374306917194*****\n",
      "\n",
      "Class Team_Sports: Recall Difference = 0.02251415893034392\n",
      "Class Celebration: Recall Difference = -0.10420456842530834\n",
      "Class Parade: Recall Difference = 0.05686927074210313\n",
      "Class Waiter_Or_Waitress: Recall Difference = -0.14207221350078503\n",
      "Class Individual_Sports: Recall Difference = -0.08170580059980981\n",
      "Class Surgeons: Recall Difference = -0.07538802660753874\n",
      "Class Spa: Recall Difference = -0.3687943262411347\n",
      "Class Law_Enforcement: Recall Difference = 0.11021974189047778\n",
      "Class Business: Recall Difference = -0.02301790281329924\n",
      "Class Dresses: Recall Difference = -0.6546012269938651\n",
      "Class Water Activities: Recall Difference = 0.026006331976481167\n",
      "Class Picnic: Recall Difference = -0.05228758169934644\n",
      "Class Rescue: Recall Difference = -0.05291139240506326\n",
      "Class Cheering: Recall Difference = -0.09206219312602293\n",
      "Class Performance_And_Entertainment: Recall Difference = 0.14353259034110105\n",
      "Class Family: Recall Difference = -0.10251256281407028\n",
      "Data has been appended to ./runs_2023_12_05_00_44/validation_15.txt\n"
     ]
    },
    {
     "name": "stderr",
     "output_type": "stream",
     "text": [
      "100%|████████████████████████████████████████████████████████████████████████████████████████| 136/136 [01:22<00:00,  1.65it/s]\n",
      "100%|██████████████████████████████████████████████████████████████████████████████████████████| 46/46 [00:19<00:00,  2.35it/s]\n"
     ]
    },
    {
     "name": "stdout",
     "output_type": "stream",
     "text": [
      "*****Epoch 3/100*****\n",
      "*****Train Loss: -6.787885 Val Loss: -6.101877*****\n",
      "*****Validation Accuracy: 64.13%*****\n",
      "*****Total Avg Disparity: 0.11914207614717057*****\n",
      "\n",
      "Class Team_Sports: Recall Difference = 0.02829450575115322\n",
      "Class Celebration: Recall Difference = -0.09930260764099463\n",
      "Class Parade: Recall Difference = 0.0438488935598762\n",
      "Class Waiter_Or_Waitress: Recall Difference = -0.16248037676609117\n",
      "Class Individual_Sports: Recall Difference = -0.05164216224124063\n",
      "Class Surgeons: Recall Difference = -0.07538802660753885\n",
      "Class Spa: Recall Difference = -0.3475177304964538\n",
      "Class Law_Enforcement: Recall Difference = 0.11021974189047778\n",
      "Class Business: Recall Difference = -0.02301790281329924\n",
      "Class Dresses: Recall Difference = -0.5607361963190183\n",
      "Class Water Activities: Recall Difference = 0.033355947535052\n",
      "Class Picnic: Recall Difference = 0.006535947712418166\n",
      "Class Rescue: Recall Difference = 0.012405063291139218\n",
      "Class Cheering: Recall Difference = -0.07283142389525371\n",
      "Class Performance_And_Entertainment: Recall Difference = 0.14623438027693353\n",
      "Class Family: Recall Difference = -0.13246231155778881\n",
      "Data has been appended to ./runs_2023_12_05_00_44/validation_15.txt\n"
     ]
    },
    {
     "name": "stderr",
     "output_type": "stream",
     "text": [
      "100%|████████████████████████████████████████████████████████████████████████████████████████| 136/136 [01:22<00:00,  1.65it/s]\n",
      "100%|██████████████████████████████████████████████████████████████████████████████████████████| 46/46 [00:19<00:00,  2.38it/s]\n"
     ]
    },
    {
     "name": "stdout",
     "output_type": "stream",
     "text": [
      "*****Epoch 4/100*****\n",
      "*****Train Loss: -6.773028 Val Loss: -6.091504*****\n",
      "*****Validation Accuracy: 63.67%*****\n",
      "*****Total Avg Disparity: 0.1233096277720331*****\n",
      "\n",
      "Class Team_Sports: Recall Difference = 0.03379459333216561\n",
      "Class Celebration: Recall Difference = -0.10420456842530823\n",
      "Class Parade: Recall Difference = 0.0482279441817014\n",
      "Class Waiter_Or_Waitress: Recall Difference = -0.14207221350078492\n",
      "Class Individual_Sports: Recall Difference = -0.0924584887718527\n",
      "Class Surgeons: Recall Difference = -0.0509977827050998\n",
      "Class Spa: Recall Difference = -0.39007092198581567\n",
      "Class Law_Enforcement: Recall Difference = 0.11021974189047778\n",
      "Class Business: Recall Difference = 0.027067348678601888\n",
      "Class Dresses: Recall Difference = -0.5668711656441718\n",
      "Class Water Activities: Recall Difference = 0.04093170511080957\n",
      "Class Picnic: Recall Difference = -0.05228758169934644\n",
      "Class Rescue: Recall Difference = -0.020253164556962078\n",
      "Class Cheering: Recall Difference = -0.08244680851063835\n",
      "Class Performance_And_Entertainment: Recall Difference = 0.10351232691658224\n",
      "Class Family: Recall Difference = -0.10753768844221101\n",
      "Data has been appended to ./runs_2023_12_05_00_44/validation_15.txt\n"
     ]
    },
    {
     "name": "stderr",
     "output_type": "stream",
     "text": [
      "100%|████████████████████████████████████████████████████████████████████████████████████████| 136/136 [01:22<00:00,  1.65it/s]\n",
      "100%|██████████████████████████████████████████████████████████████████████████████████████████| 46/46 [00:19<00:00,  2.35it/s]\n"
     ]
    },
    {
     "name": "stdout",
     "output_type": "stream",
     "text": [
      "*****Epoch 5/100*****\n",
      "*****Train Loss: -6.762884 Val Loss: -6.069641*****\n",
      "*****Validation Accuracy: 63.90%*****\n",
      "*****Total Avg Disparity: 0.12357157365965565*****\n",
      "\n",
      "Class Team_Sports: Recall Difference = 0.021393121971156726\n",
      "Class Celebration: Recall Difference = -0.0987972508591064\n",
      "Class Parade: Recall Difference = 0.07993227068371578\n",
      "Class Waiter_Or_Waitress: Recall Difference = -0.14207221350078503\n",
      "Class Individual_Sports: Recall Difference = -0.06846609611586574\n",
      "Class Surgeons: Recall Difference = -0.07538802660753874\n",
      "Class Spa: Recall Difference = -0.3475177304964538\n",
      "Class Law_Enforcement: Recall Difference = 0.11731194047203808\n",
      "Class Business: Recall Difference = -0.024083546462063066\n",
      "Class Dresses: Recall Difference = -0.6361963190184049\n",
      "Class Water Activities: Recall Difference = 0.026006331976481167\n",
      "Class Picnic: Recall Difference = -0.05228758169934644\n",
      "Class Rescue: Recall Difference = -0.014936708860759429\n",
      "Class Cheering: Recall Difference = -0.042962356792143996\n",
      "Class Performance_And_Entertainment: Recall Difference = 0.12225599459642006\n",
      "Class Family: Recall Difference = -0.10753768844221101\n",
      "Data has been appended to ./runs_2023_12_05_00_44/validation_15.txt\n"
     ]
    },
    {
     "name": "stderr",
     "output_type": "stream",
     "text": [
      "100%|████████████████████████████████████████████████████████████████████████████████████████| 136/136 [01:22<00:00,  1.65it/s]\n",
      "100%|██████████████████████████████████████████████████████████████████████████████████████████| 46/46 [00:19<00:00,  2.41it/s]\n"
     ]
    },
    {
     "name": "stdout",
     "output_type": "stream",
     "text": [
      "*****Epoch 6/100*****\n",
      "*****Train Loss: -6.757559 Val Loss: -6.063101*****\n",
      "*****Validation Accuracy: 63.61%*****\n",
      "*****Total Avg Disparity: 0.1313241235681322*****\n",
      "\n",
      "Class Team_Sports: Recall Difference = 0.023973842470952356\n",
      "Class Celebration: Recall Difference = -0.09440064685668081\n",
      "Class Parade: Recall Difference = 0.06842996438372162\n",
      "Class Waiter_Or_Waitress: Recall Difference = -0.152276295133438\n",
      "Class Individual_Sports: Recall Difference = -0.07040450588837688\n",
      "Class Surgeons: Recall Difference = -0.07538802660753874\n",
      "Class Spa: Recall Difference = -0.3475177304964538\n",
      "Class Law_Enforcement: Recall Difference = 0.13149633763515867\n",
      "Class Business: Recall Difference = 0.015132139812446765\n",
      "Class Dresses: Recall Difference = -0.6484662576687117\n",
      "Class Water Activities: Recall Difference = 0.04093170511080957\n",
      "Class Picnic: Recall Difference = -0.05228758169934644\n",
      "Class Rescue: Recall Difference = -0.0329113924050633\n",
      "Class Cheering: Recall Difference = -0.10270049099836331\n",
      "Class Performance_And_Entertainment: Recall Difference = 0.12225599459642006\n",
      "Class Family: Recall Difference = -0.12261306532663319\n",
      "Data has been appended to ./runs_2023_12_05_00_44/validation_15.txt\n"
     ]
    },
    {
     "name": "stderr",
     "output_type": "stream",
     "text": [
      "100%|████████████████████████████████████████████████████████████████████████████████████████| 136/136 [01:22<00:00,  1.65it/s]\n",
      "100%|██████████████████████████████████████████████████████████████████████████████████████████| 46/46 [00:18<00:00,  2.42it/s]\n"
     ]
    },
    {
     "name": "stdout",
     "output_type": "stream",
     "text": [
      "*****Epoch 7/100*****\n",
      "*****Train Loss: -6.749774 Val Loss: -6.142921*****\n",
      "*****Validation Accuracy: 64.10%*****\n",
      "*****Total Avg Disparity: 0.12811418471812727*****\n",
      "\n",
      "Class Team_Sports: Recall Difference = 0.024534360950546064\n",
      "Class Celebration: Recall Difference = -0.0889933292904791\n",
      "Class Parade: Recall Difference = 0.03374788345886626\n",
      "Class Waiter_Or_Waitress: Recall Difference = -0.20879120879120883\n",
      "Class Individual_Sports: Recall Difference = -0.0648818667251847\n",
      "Class Surgeons: Recall Difference = -0.07538802660753874\n",
      "Class Spa: Recall Difference = -0.3475177304964538\n",
      "Class Law_Enforcement: Recall Difference = 0.11021974189047778\n",
      "Class Business: Recall Difference = -0.036018755328218244\n",
      "Class Dresses: Recall Difference = -0.6177914110429448\n",
      "Class Water Activities: Recall Difference = 0.04093170511080957\n",
      "Class Picnic: Recall Difference = -0.09150326797385622\n",
      "Class Rescue: Recall Difference = -0.0075949367088608\n",
      "Class Cheering: Recall Difference = -0.07385433715220951\n",
      "Class Performance_And_Entertainment: Recall Difference = 0.1355960824045931\n",
      "Class Family: Recall Difference = -0.09246231155778895\n",
      "Data has been appended to ./runs_2023_12_05_00_44/validation_15.txt\n"
     ]
    },
    {
     "name": "stderr",
     "output_type": "stream",
     "text": [
      "100%|████████████████████████████████████████████████████████████████████████████████████████| 136/136 [01:22<00:00,  1.65it/s]\n",
      "100%|██████████████████████████████████████████████████████████████████████████████████████████| 46/46 [00:19<00:00,  2.37it/s]\n"
     ]
    },
    {
     "name": "stdout",
     "output_type": "stream",
     "text": [
      "*****Epoch 8/100*****\n",
      "*****Train Loss: -6.769886 Val Loss: -6.090517*****\n",
      "*****Validation Accuracy: 63.90%*****\n",
      "*****Total Avg Disparity: 0.12043340621636917*****\n",
      "\n",
      "Class Team_Sports: Recall Difference = 0.03497401763297725\n",
      "Class Celebration: Recall Difference = -0.09980796442288253\n",
      "Class Parade: Recall Difference = 0.06113154668067966\n",
      "Class Waiter_Or_Waitress: Recall Difference = -0.12166405023547877\n",
      "Class Individual_Sports: Recall Difference = -0.06846609611586574\n",
      "Class Surgeons: Recall Difference = -0.07538802660753874\n",
      "Class Spa: Recall Difference = -0.3687943262411347\n",
      "Class Law_Enforcement: Recall Difference = 0.11731194047203797\n",
      "Class Business: Recall Difference = -0.03495311167945436\n",
      "Class Dresses: Recall Difference = -0.5668711656441718\n",
      "Class Water Activities: Recall Difference = 0.026006331976481167\n",
      "Class Picnic: Recall Difference = -0.05228758169934644\n",
      "Class Rescue: Recall Difference = -0.020253164556962078\n",
      "Class Cheering: Recall Difference = -0.06219312602291316\n",
      "Class Performance_And_Entertainment: Recall Difference = 0.11431948665991215\n",
      "Class Family: Recall Difference = -0.10251256281407028\n",
      "Data has been appended to ./runs_2023_12_05_00_44/validation_15.txt\n"
     ]
    },
    {
     "name": "stderr",
     "output_type": "stream",
     "text": [
      "100%|████████████████████████████████████████████████████████████████████████████████████████| 136/136 [01:22<00:00,  1.65it/s]\n",
      "100%|██████████████████████████████████████████████████████████████████████████████████████████| 46/46 [00:19<00:00,  2.36it/s]\n"
     ]
    },
    {
     "name": "stdout",
     "output_type": "stream",
     "text": [
      "*****Epoch 9/100*****\n",
      "*****Train Loss: -6.800527 Val Loss: -6.094592*****\n",
      "*****Validation Accuracy: 63.78%*****\n",
      "*****Total Avg Disparity: 0.12394089693702355*****\n",
      "\n",
      "Class Team_Sports: Recall Difference = 0.035814795352367645\n",
      "Class Celebration: Recall Difference = -0.10961188599151006\n",
      "Class Parade: Recall Difference = 0.06118993402230399\n",
      "Class Waiter_Or_Waitress: Recall Difference = -0.1601255886970172\n",
      "Class Individual_Sports: Recall Difference = -0.08583863652988089\n",
      "Class Surgeons: Recall Difference = -0.07538802660753874\n",
      "Class Spa: Recall Difference = -0.3475177304964538\n",
      "Class Law_Enforcement: Recall Difference = 0.10801069643064753\n",
      "Class Business: Recall Difference = -0.057757885763000893\n",
      "Class Dresses: Recall Difference = -0.5484662576687116\n",
      "Class Water Activities: Recall Difference = 0.04093170511080957\n",
      "Class Picnic: Recall Difference = -0.05228758169934644\n",
      "Class Rescue: Recall Difference = -0.04556962025316458\n",
      "Class Cheering: Recall Difference = -0.05257774140752869\n",
      "Class Performance_And_Entertainment: Recall Difference = 0.11955420466058764\n",
      "Class Family: Recall Difference = -0.0824120603015075\n",
      "Data has been appended to ./runs_2023_12_05_00_44/validation_15.txt\n"
     ]
    },
    {
     "name": "stderr",
     "output_type": "stream",
     "text": [
      "100%|████████████████████████████████████████████████████████████████████████████████████████| 136/136 [01:22<00:00,  1.65it/s]\n",
      "100%|██████████████████████████████████████████████████████████████████████████████████████████| 46/46 [00:19<00:00,  2.36it/s]\n"
     ]
    },
    {
     "name": "stdout",
     "output_type": "stream",
     "text": [
      "*****Epoch 10/100*****\n",
      "*****Train Loss: -6.752074 Val Loss: -6.106005*****\n",
      "*****Validation Accuracy: 63.87%*****\n",
      "*****Total Avg Disparity: 0.12526953562774526*****\n",
      "\n",
      "Class Team_Sports: Recall Difference = 0.018473754889939964\n",
      "Class Celebration: Recall Difference = -0.0845967252880534\n",
      "Class Parade: Recall Difference = 0.052548607461902264\n",
      "Class Waiter_Or_Waitress: Recall Difference = -0.16248037676609095\n",
      "Class Individual_Sports: Recall Difference = -0.0817058005998097\n",
      "Class Surgeons: Recall Difference = -0.07538802660753874\n",
      "Class Spa: Recall Difference = -0.3475177304964538\n",
      "Class Law_Enforcement: Recall Difference = 0.09603534472735731\n",
      "Class Business: Recall Difference = -0.027280477408354653\n",
      "Class Dresses: Recall Difference = -0.6361963190184049\n",
      "Class Water Activities: Recall Difference = 0.05585707824513797\n",
      "Class Picnic: Recall Difference = -0.05228758169934644\n",
      "Class Rescue: Recall Difference = -0.0075949367088608\n",
      "Class Cheering: Recall Difference = -0.07385433715220951\n",
      "Class Performance_And_Entertainment: Recall Difference = 0.12495778453225265\n",
      "Class Family: Recall Difference = -0.10753768844221101\n",
      "Data has been appended to ./runs_2023_12_05_00_44/validation_15.txt\n"
     ]
    },
    {
     "name": "stderr",
     "output_type": "stream",
     "text": [
      "100%|████████████████████████████████████████████████████████████████████████████████████████| 136/136 [01:22<00:00,  1.65it/s]\n",
      "100%|██████████████████████████████████████████████████████████████████████████████████████████| 46/46 [00:19<00:00,  2.35it/s]\n"
     ]
    },
    {
     "name": "stdout",
     "output_type": "stream",
     "text": [
      "*****Epoch 11/100*****\n",
      "*****Train Loss: -6.768188 Val Loss: -6.096623*****\n",
      "*****Validation Accuracy: 63.64%*****\n",
      "*****Total Avg Disparity: 0.12822701217673887*****\n",
      "\n",
      "Class Team_Sports: Recall Difference = 0.019372919950954803\n",
      "Class Celebration: Recall Difference = -0.06448352536891044\n",
      "Class Parade: Recall Difference = 0.058328954282711565\n",
      "Class Waiter_Or_Waitress: Recall Difference = -0.17268445839874402\n",
      "Class Individual_Sports: Recall Difference = -0.06543047326457474\n",
      "Class Surgeons: Recall Difference = -0.07538802660753874\n",
      "Class Spa: Recall Difference = -0.3475177304964538\n",
      "Class Law_Enforcement: Recall Difference = 0.11731194047203808\n",
      "Class Business: Recall Difference = -0.007672634271099765\n",
      "Class Dresses: Recall Difference = -0.6239263803680982\n",
      "Class Water Activities: Recall Difference = 0.033582089552238736\n",
      "Class Picnic: Recall Difference = -0.05228758169934644\n",
      "Class Rescue: Recall Difference = -0.06025316455696211\n",
      "Class Cheering: Recall Difference = -0.08142389525368238\n",
      "Class Performance_And_Entertainment: Recall Difference = 0.15940560621411676\n",
      "Class Family: Recall Difference = -0.11256281407035162\n",
      "Early stopping\n"
     ]
    },
    {
     "data": {
      "image/png": "[encoded data removed]",
      "text/plain": [
       "<Figure size 640x480 with 1 Axes>"
      ]
     },
     "metadata": {},
     "output_type": "display_data"
    },
    {
     "name": "stdout",
     "output_type": "stream",
     "text": [
      "Student weights and architecture saved and exported for lambda: 15\n"
     ]
    },
    {
     "name": "stderr",
     "output_type": "stream",
     "text": [
      "100%|████████████████████████████████████████████████████████████████████████████████████████| 136/136 [01:22<00:00,  1.64it/s]\n"
     ]
    },
    {
     "name": "stdout",
     "output_type": "stream",
     "text": [
      "*******Epoch 0: loss - 0.6556357228580643\n"
     ]
    },
    {
     "name": "stderr",
     "output_type": "stream",
     "text": [
      "100%|████████████████████████████████████████████████████████████████████████████████████████| 136/136 [01:22<00:00,  1.64it/s]\n"
     ]
    },
    {
     "name": "stdout",
     "output_type": "stream",
     "text": [
      "*******Epoch 1: loss - 0.3967112112132942\n"
     ]
    },
    {
     "name": "stderr",
     "output_type": "stream",
     "text": [
      "100%|████████████████████████████████████████████████████████████████████████████████████████| 136/136 [01:22<00:00,  1.64it/s]\n"
     ]
    },
    {
     "name": "stdout",
     "output_type": "stream",
     "text": [
      "*******Epoch 2: loss - 0.26124083064496517\n"
     ]
    },
    {
     "name": "stderr",
     "output_type": "stream",
     "text": [
      "100%|████████████████████████████████████████████████████████████████████████████████████████| 136/136 [01:42<00:00,  1.33it/s]\n"
     ]
    },
    {
     "name": "stdout",
     "output_type": "stream",
     "text": [
      "Average Pretrain Adversary epoch loss:  0.3535961184431525\n"
     ]
    },
    {
     "name": "stderr",
     "output_type": "stream",
     "text": [
      "100%|████████████████████████████████████████████████████████████████████████████████████████| 136/136 [01:41<00:00,  1.33it/s]\n"
     ]
    },
    {
     "name": "stdout",
     "output_type": "stream",
     "text": [
      "Average Pretrain Adversary epoch loss:  0.35364041597965884\n"
     ]
    },
    {
     "name": "stderr",
     "output_type": "stream",
     "text": [
      "100%|████████████████████████████████████████████████████████████████████████████████████████| 136/136 [01:42<00:00,  1.33it/s]\n"
     ]
    },
    {
     "name": "stdout",
     "output_type": "stream",
     "text": [
      "Average Pretrain Adversary epoch loss:  0.3535591997206211\n"
     ]
    },
    {
     "name": "stderr",
     "output_type": "stream",
     "text": [
      "100%|████████████████████████████████████████████████████████████████████████████████████████| 136/136 [01:22<00:00,  1.65it/s]\n",
      "100%|██████████████████████████████████████████████████████████████████████████████████████████| 46/46 [00:19<00:00,  2.37it/s]\n"
     ]
    },
    {
     "name": "stdout",
     "output_type": "stream",
     "text": [
      "*****Epoch 1/100*****\n",
      "*****Train Loss: -2.926425 Val Loss: -2.366727*****\n",
      "*****Validation Accuracy: 64.42%*****\n",
      "*****Total Avg Disparity: 0.17276893374042637*****\n",
      "\n",
      "Class Team_Sports: Recall Difference = 0.061458515793775814\n",
      "Class Celebration: Recall Difference = -0.04790782292298362\n",
      "Class Parade: Recall Difference = 0.07561160740351491\n",
      "Class Waiter_Or_Waitress: Recall Difference = -0.3265306122448979\n",
      "Class Individual_Sports: Recall Difference = -0.18568502669885156\n",
      "Class Surgeons: Recall Difference = -0.13008130081300806\n",
      "Class Spa: Recall Difference = -0.49645390070921996\n",
      "Class Law_Enforcement: Recall Difference = 0.2325311010347635\n",
      "Class Business: Recall Difference = 0.01321398124467188\n",
      "Class Dresses: Recall Difference = -0.5668711656441718\n",
      "Class Water Activities: Recall Difference = 0.1086612392582541\n",
      "Class Picnic: Recall Difference = -0.2875816993464052\n",
      "Class Rescue: Recall Difference = 0.05645569620253166\n",
      "Class Cheering: Recall Difference = -0.003477905073649812\n",
      "Class Performance_And_Entertainment: Recall Difference = 0.023640661938534147\n",
      "Class Family: Recall Difference = -0.14814070351758774\n",
      "Data has been appended to ./runs_2023_12_05_00_44/validation_10.txt\n"
     ]
    },
    {
     "name": "stderr",
     "output_type": "stream",
     "text": [
      "100%|████████████████████████████████████████████████████████████████████████████████████████| 136/136 [01:22<00:00,  1.65it/s]\n",
      "100%|██████████████████████████████████████████████████████████████████████████████████████████| 46/46 [00:19<00:00,  2.35it/s]\n"
     ]
    },
    {
     "name": "stdout",
     "output_type": "stream",
     "text": [
      "*****Epoch 2/100*****\n",
      "*****Train Loss: -2.948466 Val Loss: -2.402199*****\n",
      "*****Validation Accuracy: 64.21%*****\n",
      "*****Total Avg Disparity: 0.16168404592212113*****\n",
      "\n",
      "Class Team_Sports: Recall Difference = 0.06347871781397785\n",
      "Class Celebration: Recall Difference = -0.008186779866585836\n",
      "Class Parade: Recall Difference = 0.07415192386290648\n",
      "Class Waiter_Or_Waitress: Recall Difference = -0.31632653061224514\n",
      "Class Individual_Sports: Recall Difference = -0.1432228805500695\n",
      "Class Surgeons: Recall Difference = -0.13008130081300817\n",
      "Class Spa: Recall Difference = -0.49645390070921996\n",
      "Class Law_Enforcement: Recall Difference = 0.22764794791303333\n",
      "Class Business: Recall Difference = 0.02728047740835471\n",
      "Class Dresses: Recall Difference = -0.5730061349693252\n",
      "Class Water Activities: Recall Difference = 0.07835820895522383\n",
      "Class Picnic: Recall Difference = -0.21568627450980393\n",
      "Class Rescue: Recall Difference = 0.036455696202531584\n",
      "Class Cheering: Recall Difference = -0.005523731587561365\n",
      "Class Performance_And_Entertainment: Recall Difference = 0.0077676460655183854\n",
      "Class Family: Recall Difference = -0.1833165829145728\n",
      "Data has been appended to ./runs_2023_12_05_00_44/validation_10.txt\n"
     ]
    },
    {
     "name": "stderr",
     "output_type": "stream",
     "text": [
      "100%|████████████████████████████████████████████████████████████████████████████████████████| 136/136 [01:22<00:00,  1.65it/s]\n",
      "100%|██████████████████████████████████████████████████████████████████████████████████████████| 46/46 [00:19<00:00,  2.37it/s]\n"
     ]
    },
    {
     "name": "stdout",
     "output_type": "stream",
     "text": [
      "*****Epoch 3/100*****\n",
      "*****Train Loss: -2.910858 Val Loss: -2.365766*****\n",
      "*****Validation Accuracy: 64.16%*****\n",
      "*****Total Avg Disparity: 0.1676776430512883*****\n",
      "\n",
      "Class Team_Sports: Recall Difference = 0.06493840135458628\n",
      "Class Celebration: Recall Difference = -0.01748534465332524\n",
      "Class Parade: Recall Difference = 0.07993227068371578\n",
      "Class Waiter_Or_Waitress: Recall Difference = -0.2598116169544741\n",
      "Class Individual_Sports: Recall Difference = -0.16886109282422634\n",
      "Class Surgeons: Recall Difference = -0.13008130081300806\n",
      "Class Spa: Recall Difference = -0.49645390070921996\n",
      "Class Law_Enforcement: Recall Difference = 0.22055574933147293\n",
      "Class Business: Recall Difference = 0.03815004262574595\n",
      "Class Dresses: Recall Difference = -0.5668711656441718\n",
      "Class Water Activities: Recall Difference = 0.1013116236996835\n",
      "Class Picnic: Recall Difference = -0.30718954248366015\n",
      "Class Rescue: Recall Difference = 0.031139240506329102\n",
      "Class Cheering: Recall Difference = 0.025368248772504043\n",
      "Class Performance_And_Entertainment: Recall Difference = 0.03157716987504211\n",
      "Class Family: Recall Difference = -0.14311557788944723\n",
      "Data has been appended to ./runs_2023_12_05_00_44/validation_10.txt\n"
     ]
    },
    {
     "name": "stderr",
     "output_type": "stream",
     "text": [
      "100%|████████████████████████████████████████████████████████████████████████████████████████| 136/136 [01:22<00:00,  1.65it/s]\n",
      "100%|██████████████████████████████████████████████████████████████████████████████████████████| 46/46 [00:19<00:00,  2.33it/s]\n"
     ]
    },
    {
     "name": "stdout",
     "output_type": "stream",
     "text": [
      "*****Epoch 4/100*****\n",
      "*****Train Loss: -2.920048 Val Loss: -2.384673*****\n",
      "*****Validation Accuracy: 64.30%*****\n",
      "*****Total Avg Disparity: 0.16735118998272142*****\n",
      "\n",
      "Class Team_Sports: Recall Difference = 0.06465814211478971\n",
      "Class Celebration: Recall Difference = -0.046897109359207545\n",
      "Class Parade: Recall Difference = 0.08571261750452508\n",
      "Class Waiter_Or_Waitress: Recall Difference = -0.2496075353218209\n",
      "Class Individual_Sports: Recall Difference = -0.16527686343354542\n",
      "Class Surgeons: Recall Difference = -0.13008130081300806\n",
      "Class Spa: Recall Difference = -0.4539007092198583\n",
      "Class Law_Enforcement: Recall Difference = 0.22497384025113365\n",
      "Class Business: Recall Difference = 0.02728047740835471\n",
      "Class Dresses: Recall Difference = -0.5914110429447853\n",
      "Class Water Activities: Recall Difference = 0.0863862505653551\n",
      "Class Picnic: Recall Difference = -0.30718954248366015\n",
      "Class Rescue: Recall Difference = 0.03645569620253164\n",
      "Class Cheering: Recall Difference = 0.014729950900163657\n",
      "Class Performance_And_Entertainment: Recall Difference = 0.044917257683215195\n",
      "Class Family: Recall Difference = -0.14814070351758796\n",
      "Data has been appended to ./runs_2023_12_05_00_44/validation_10.txt\n"
     ]
    },
    {
     "name": "stderr",
     "output_type": "stream",
     "text": [
      "100%|████████████████████████████████████████████████████████████████████████████████████████| 136/136 [01:22<00:00,  1.65it/s]\n",
      "100%|██████████████████████████████████████████████████████████████████████████████████████████| 46/46 [00:19<00:00,  2.37it/s]\n"
     ]
    },
    {
     "name": "stdout",
     "output_type": "stream",
     "text": [
      "*****Epoch 5/100*****\n",
      "*****Train Loss: -2.963002 Val Loss: -2.384560*****\n",
      "*****Validation Accuracy: 64.50%*****\n",
      "*****Total Avg Disparity: 0.1611391956752968*****\n",
      "\n",
      "Class Team_Sports: Recall Difference = 0.055678168972966735\n",
      "Class Celebration: Recall Difference = -0.06261370527592486\n",
      "Class Parade: Recall Difference = 0.0871723010451334\n",
      "Class Waiter_Or_Waitress: Recall Difference = -0.21114599686028268\n",
      "Class Individual_Sports: Recall Difference = -0.15507278180089223\n",
      "Class Surgeons: Recall Difference = -0.13008130081300806\n",
      "Class Spa: Recall Difference = -0.49645390070921996\n",
      "Class Law_Enforcement: Recall Difference = 0.23206603883269394\n",
      "Class Business: Recall Difference = 0.025149190110826947\n",
      "Class Dresses: Recall Difference = -0.5668711656441718\n",
      "Class Water Activities: Recall Difference = 0.08616010854816825\n",
      "Class Picnic: Recall Difference = -0.23529411764705882\n",
      "Class Rescue: Recall Difference = 0.043797468354430436\n",
      "Class Cheering: Recall Difference = 0.006137479541734769\n",
      "Class Performance_And_Entertainment: Recall Difference = 0.026342451874366846\n",
      "Class Family: Recall Difference = -0.1581909547738693\n",
      "Data has been appended to ./runs_2023_12_05_00_44/validation_10.txt\n"
     ]
    },
    {
     "name": "stderr",
     "output_type": "stream",
     "text": [
      "100%|████████████████████████████████████████████████████████████████████████████████████████| 136/136 [01:22<00:00,  1.65it/s]\n",
      "100%|██████████████████████████████████████████████████████████████████████████████████████████| 46/46 [00:19<00:00,  2.36it/s]\n"
     ]
    },
    {
     "name": "stdout",
     "output_type": "stream",
     "text": [
      "*****Epoch 6/100*****\n",
      "*****Train Loss: -2.914239 Val Loss: -2.401156*****\n",
      "*****Validation Accuracy: 64.39%*****\n",
      "*****Total Avg Disparity: 0.171310886296207*****\n",
      "\n",
      "Class Team_Sports: Recall Difference = 0.05741811175337186\n",
      "Class Celebration: Recall Difference = -0.01900141499898933\n",
      "Class Parade: Recall Difference = 0.07269224032229804\n",
      "Class Waiter_Or_Waitress: Recall Difference = -0.2598116169544741\n",
      "Class Individual_Sports: Recall Difference = -0.18264940384756057\n",
      "Class Surgeons: Recall Difference = -0.13008130081300806\n",
      "Class Spa: Recall Difference = -0.49645390070921974\n",
      "Class Law_Enforcement: Recall Difference = 0.23915823741425413\n",
      "Class Business: Recall Difference = 0.016410912190963356\n",
      "Class Dresses: Recall Difference = -0.5791411042944785\n",
      "Class Water Activities: Recall Difference = 0.08616010854816847\n",
      "Class Picnic: Recall Difference = -0.30718954248366015\n",
      "Class Rescue: Recall Difference = 0.08177215189873421\n",
      "Class Cheering: Recall Difference = 0.04357610474631757\n",
      "Class Performance_And_Entertainment: Recall Difference = 0.026342451874366846\n",
      "Class Family: Recall Difference = -0.143115577889447\n",
      "Data has been appended to ./runs_2023_12_05_00_44/validation_10.txt\n"
     ]
    },
    {
     "name": "stderr",
     "output_type": "stream",
     "text": [
      "100%|████████████████████████████████████████████████████████████████████████████████████████| 136/136 [01:22<00:00,  1.65it/s]\n",
      "100%|██████████████████████████████████████████████████████████████████████████████████████████| 46/46 [00:19<00:00,  2.31it/s]\n"
     ]
    },
    {
     "name": "stdout",
     "output_type": "stream",
     "text": [
      "*****Epoch 7/100*****\n",
      "*****Train Loss: -2.917770 Val Loss: -2.317804*****\n",
      "*****Validation Accuracy: 64.24%*****\n",
      "*****Total Avg Disparity: 0.16076775890907072*****\n",
      "\n",
      "Class Team_Sports: Recall Difference = 0.05741811175337164\n",
      "Class Celebration: Recall Difference = -0.02339801900141497\n",
      "Class Parade: Recall Difference = 0.09149296432533427\n",
      "Class Waiter_Or_Waitress: Recall Difference = -0.2496075353218209\n",
      "Class Individual_Sports: Recall Difference = -0.16169263404286427\n",
      "Class Surgeons: Recall Difference = -0.10569105691056901\n",
      "Class Spa: Recall Difference = -0.4751773049645391\n",
      "Class Law_Enforcement: Recall Difference = 0.2227647947913033\n",
      "Class Business: Recall Difference = 0.01534526854219953\n",
      "Class Dresses: Recall Difference = -0.5607361963190184\n",
      "Class Water Activities: Recall Difference = 0.09373586612392593\n",
      "Class Picnic: Recall Difference = -0.3267973856209151\n",
      "Class Rescue: Recall Difference = 0.036455696202531584\n",
      "Class Cheering: Recall Difference = 0.005114566284779132\n",
      "Class Performance_And_Entertainment: Recall Difference = 0.02364066193853437\n",
      "Class Family: Recall Difference = -0.12321608040201004\n",
      "Data has been appended to ./runs_2023_12_05_00_44/validation_10.txt\n"
     ]
    },
    {
     "name": "stderr",
     "output_type": "stream",
     "text": [
      "100%|████████████████████████████████████████████████████████████████████████████████████████| 136/136 [01:22<00:00,  1.65it/s]\n",
      "100%|██████████████████████████████████████████████████████████████████████████████████████████| 46/46 [00:20<00:00,  2.29it/s]\n"
     ]
    },
    {
     "name": "stdout",
     "output_type": "stream",
     "text": [
      "*****Epoch 8/100*****\n",
      "*****Train Loss: -2.912062 Val Loss: -2.327983*****\n",
      "*****Validation Accuracy: 63.90%*****\n",
      "*****Total Avg Disparity: 0.14618816564338122*****\n",
      "\n",
      "Class Team_Sports: Recall Difference = 0.07217843171600391\n",
      "Class Celebration: Recall Difference = -0.05179907014352125\n",
      "Class Parade: Recall Difference = 0.09727331114614346\n",
      "Class Waiter_Or_Waitress: Recall Difference = -0.3265306122448979\n",
      "Class Individual_Sports: Recall Difference = -0.1683124862848363\n",
      "Class Surgeons: Recall Difference = -0.13008130081300806\n",
      "Class Spa: Recall Difference = -0.14184397163120577\n",
      "Class Law_Enforcement: Recall Difference = 0.2462504359958143\n",
      "Class Business: Recall Difference = 0.005541346973572114\n",
      "Class Dresses: Recall Difference = -0.5791411042944785\n",
      "Class Water Activities: Recall Difference = 0.0863862505653551\n",
      "Class Picnic: Recall Difference = -0.19607843137254904\n",
      "Class Rescue: Recall Difference = 0.058481012658227916\n",
      "Class Cheering: Recall Difference = -0.02373158756137478\n",
      "Class Performance_And_Entertainment: Recall Difference = 0.04221546774738255\n",
      "Class Family: Recall Difference = -0.1131658291457287\n",
      "Data has been appended to ./runs_2023_12_05_00_44/validation_10.txt\n"
     ]
    },
    {
     "name": "stderr",
     "output_type": "stream",
     "text": [
      "100%|████████████████████████████████████████████████████████████████████████████████████████| 136/136 [01:22<00:00,  1.65it/s]\n",
      "100%|██████████████████████████████████████████████████████████████████████████████████████████| 46/46 [00:19<00:00,  2.35it/s]\n"
     ]
    },
    {
     "name": "stdout",
     "output_type": "stream",
     "text": [
      "*****Epoch 9/100*****\n",
      "*****Train Loss: -2.899089 Val Loss: -2.371386*****\n",
      "*****Validation Accuracy: 64.44%*****\n",
      "*****Total Avg Disparity: 0.1764358113746968*****\n",
      "\n",
      "Class Team_Sports: Recall Difference = 0.06723886261458523\n",
      "Class Celebration: Recall Difference = -0.027289266221952657\n",
      "Class Parade: Recall Difference = 0.08571261750452486\n",
      "Class Waiter_Or_Waitress: Recall Difference = -0.326530612244898\n",
      "Class Individual_Sports: Recall Difference = -0.18568502669885145\n",
      "Class Surgeons: Recall Difference = -0.13008130081300806\n",
      "Class Spa: Recall Difference = -0.49645390070921996\n",
      "Class Law_Enforcement: Recall Difference = 0.23206603883269383\n",
      "Class Business: Recall Difference = 0.016410912190963356\n",
      "Class Dresses: Recall Difference = -0.5730061349693252\n",
      "Class Water Activities: Recall Difference = 0.10131162369968338\n",
      "Class Picnic: Recall Difference = -0.30718954248366015\n",
      "Class Rescue: Recall Difference = 0.061772151898734196\n",
      "Class Cheering: Recall Difference = 0.014729950900163769\n",
      "Class Performance_And_Entertainment: Recall Difference = 0.0342789598108747\n",
      "Class Family: Recall Difference = -0.16321608040201002\n",
      "Data has been appended to ./runs_2023_12_05_00_44/validation_10.txt\n"
     ]
    },
    {
     "name": "stderr",
     "output_type": "stream",
     "text": [
      "100%|████████████████████████████████████████████████████████████████████████████████████████| 136/136 [01:22<00:00,  1.64it/s]\n",
      "100%|██████████████████████████████████████████████████████████████████████████████████████████| 46/46 [00:19<00:00,  2.38it/s]\n"
     ]
    },
    {
     "name": "stdout",
     "output_type": "stream",
     "text": [
      "*****Epoch 10/100*****\n",
      "*****Train Loss: -2.929770 Val Loss: -2.297963*****\n",
      "*****Validation Accuracy: 64.21%*****\n",
      "*****Total Avg Disparity: 0.1713832432894019*****\n",
      "\n",
      "Class Team_Sports: Recall Difference = 0.07649909499620478\n",
      "Class Celebration: Recall Difference = -0.03709318779058013\n",
      "Class Parade: Recall Difference = 0.0813919542243241\n",
      "Class Waiter_Or_Waitress: Recall Difference = -0.2982731554160126\n",
      "Class Individual_Sports: Recall Difference = -0.18568502669885145\n",
      "Class Surgeons: Recall Difference = -0.10569105691056901\n",
      "Class Spa: Recall Difference = -0.4751773049645391\n",
      "Class Law_Enforcement: Recall Difference = 0.23694919195442377\n",
      "Class Business: Recall Difference = 0.017476555839727292\n",
      "Class Dresses: Recall Difference = -0.5730061349693252\n",
      "Class Water Activities: Recall Difference = 0.10131162369968338\n",
      "Class Picnic: Recall Difference = -0.30718954248366015\n",
      "Class Rescue: Recall Difference = 0.03645569620253164\n",
      "Class Cheering: Recall Difference = -0.015139116202946057\n",
      "Class Performance_And_Entertainment: Recall Difference = 0.03157716987504211\n",
      "Class Family: Recall Difference = -0.16321608040201002\n",
      "Data has been appended to ./runs_2023_12_05_00_44/validation_10.txt\n"
     ]
    },
    {
     "name": "stderr",
     "output_type": "stream",
     "text": [
      "100%|████████████████████████████████████████████████████████████████████████████████████████| 136/136 [01:22<00:00,  1.65it/s]\n",
      "100%|██████████████████████████████████████████████████████████████████████████████████████████| 46/46 [00:19<00:00,  2.30it/s]\n"
     ]
    },
    {
     "name": "stdout",
     "output_type": "stream",
     "text": [
      "*****Epoch 11/100*****\n",
      "*****Train Loss: -2.920981 Val Loss: -2.400916*****\n",
      "*****Validation Accuracy: 64.68%*****\n",
      "*****Total Avg Disparity: 0.16613093219052055*****\n",
      "\n",
      "Class Team_Sports: Recall Difference = 0.05943831377357389\n",
      "Class Celebration: Recall Difference = -0.023903375783302983\n",
      "Class Parade: Recall Difference = 0.07847258714310734\n",
      "Class Waiter_Or_Waitress: Recall Difference = -0.2598116169544741\n",
      "Class Individual_Sports: Recall Difference = -0.1724453222149075\n",
      "Class Surgeons: Recall Difference = -0.13008130081300806\n",
      "Class Spa: Recall Difference = -0.4539007092198583\n",
      "Class Law_Enforcement: Recall Difference = 0.1970701081269619\n",
      "Class Business: Recall Difference = 0.016410912190963356\n",
      "Class Dresses: Recall Difference = -0.5914110429447853\n",
      "Class Water Activities: Recall Difference = 0.0863862505653551\n",
      "Class Picnic: Recall Difference = -0.30718954248366015\n",
      "Class Rescue: Recall Difference = 0.07443037974683542\n",
      "Class Cheering: Recall Difference = 0.03498363338788868\n",
      "Class Performance_And_Entertainment: Recall Difference = 0.02904424181019921\n",
      "Class Family: Recall Difference = -0.14311557788944723\n",
      "Data has been appended to ./runs_2023_12_05_00_44/validation_10.txt\n"
     ]
    },
    {
     "name": "stderr",
     "output_type": "stream",
     "text": [
      "100%|████████████████████████████████████████████████████████████████████████████████████████| 136/136 [01:22<00:00,  1.64it/s]\n",
      "100%|██████████████████████████████████████████████████████████████████████████████████████████| 46/46 [00:19<00:00,  2.32it/s]\n"
     ]
    },
    {
     "name": "stdout",
     "output_type": "stream",
     "text": [
      "*****Epoch 12/100*****\n",
      "*****Train Loss: -2.922424 Val Loss: -2.362701*****\n",
      "*****Validation Accuracy: 64.36%*****\n",
      "*****Total Avg Disparity: 0.17505095430120177*****\n",
      "\n",
      "Class Team_Sports: Recall Difference = 0.0649384013545864\n",
      "Class Celebration: Recall Difference = -0.04790782292298362\n",
      "Class Parade: Recall Difference = 0.09149296432533427\n",
      "Class Waiter_Or_Waitress: Recall Difference = -0.2982731554160125\n",
      "Class Individual_Sports: Recall Difference = -0.18568502669885145\n",
      "Class Surgeons: Recall Difference = -0.13008130081300806\n",
      "Class Spa: Recall Difference = -0.4751773049645391\n",
      "Class Law_Enforcement: Recall Difference = 0.25066852691547503\n",
      "Class Business: Recall Difference = 0.026214833759590772\n",
      "Class Dresses: Recall Difference = -0.5852760736196319\n",
      "Class Water Activities: Recall Difference = 0.10131162369968338\n",
      "Class Picnic: Recall Difference = -0.23529411764705882\n",
      "Class Rescue: Recall Difference = 0.08708860759493675\n",
      "Class Cheering: Recall Difference = 0.033960720130932875\n",
      "Class Performance_And_Entertainment: Recall Difference = 0.03427895981087481\n",
      "Class Family: Recall Difference = -0.15316582914572868\n",
      "Data has been appended to ./runs_2023_12_05_00_44/validation_10.txt\n"
     ]
    },
    {
     "name": "stderr",
     "output_type": "stream",
     "text": [
      "100%|████████████████████████████████████████████████████████████████████████████████████████| 136/136 [01:22<00:00,  1.64it/s]\n",
      "100%|██████████████████████████████████████████████████████████████████████████████████████████| 46/46 [00:19<00:00,  2.37it/s]\n"
     ]
    },
    {
     "name": "stdout",
     "output_type": "stream",
     "text": [
      "*****Epoch 13/100*****\n",
      "*****Train Loss: -2.903334 Val Loss: -2.318065*****\n",
      "*****Validation Accuracy: 64.39%*****\n",
      "*****Total Avg Disparity: 0.16220175104935974*****\n",
      "\n",
      "Class Team_Sports: Recall Difference = 0.07099900741519238\n",
      "Class Celebration: Recall Difference = -0.04300586213866986\n",
      "Class Parade: Recall Difference = 0.0813919542243241\n",
      "Class Waiter_Or_Waitress: Recall Difference = -0.2598116169544741\n",
      "Class Individual_Sports: Recall Difference = -0.16940969936361616\n",
      "Class Surgeons: Recall Difference = -0.08130081300813008\n",
      "Class Spa: Recall Difference = -0.4539007092198583\n",
      "Class Law_Enforcement: Recall Difference = 0.20637135216835245\n",
      "Class Business: Recall Difference = 0.025149190110826947\n",
      "Class Dresses: Recall Difference = -0.5730061349693251\n",
      "Class Water Activities: Recall Difference = 0.07858435097241068\n",
      "Class Picnic: Recall Difference = -0.3267973856209151\n",
      "Class Rescue: Recall Difference = 0.036455696202531696\n",
      "Class Cheering: Recall Difference = 0.004091653027823272\n",
      "Class Performance_And_Entertainment: Recall Difference = 0.036811887875717764\n",
      "Class Family: Recall Difference = -0.14814070351758796\n",
      "Data has been appended to ./runs_2023_12_05_00_44/validation_10.txt\n"
     ]
    },
    {
     "name": "stderr",
     "output_type": "stream",
     "text": [
      "100%|████████████████████████████████████████████████████████████████████████████████████████| 136/136 [01:22<00:00,  1.65it/s]\n",
      "100%|██████████████████████████████████████████████████████████████████████████████████████████| 46/46 [00:19<00:00,  2.35it/s]\n"
     ]
    },
    {
     "name": "stdout",
     "output_type": "stream",
     "text": [
      "*****Epoch 14/100*****\n",
      "*****Train Loss: -2.945378 Val Loss: -2.373447*****\n",
      "*****Validation Accuracy: 64.68%*****\n",
      "*****Total Avg Disparity: 0.16608807837430456*****\n",
      "\n",
      "Class Team_Sports: Recall Difference = 0.06493840135458628\n",
      "Class Celebration: Recall Difference = -0.04790782292298362\n",
      "Class Parade: Recall Difference = 0.06405091376189642\n",
      "Class Waiter_Or_Waitress: Recall Difference = -0.2982731554160126\n",
      "Class Individual_Sports: Recall Difference = -0.19036646916831246\n",
      "Class Surgeons: Recall Difference = -0.13008130081300806\n",
      "Class Spa: Recall Difference = -0.47517730496453897\n",
      "Class Law_Enforcement: Recall Difference = 0.26264387861876526\n",
      "Class Business: Recall Difference = -0.005328218243819238\n",
      "Class Dresses: Recall Difference = -0.5730061349693252\n",
      "Class Water Activities: Recall Difference = 0.0863862505653551\n",
      "Class Picnic: Recall Difference = -0.19607843137254904\n",
      "Class Rescue: Recall Difference = 0.04911392405063286\n",
      "Class Cheering: Recall Difference = 0.033960720130932986\n",
      "Class Performance_And_Entertainment: Recall Difference = 0.03698074974670712\n",
      "Class Family: Recall Difference = -0.14311557788944723\n",
      "Data has been appended to ./runs_2023_12_05_00_44/validation_10.txt\n"
     ]
    },
    {
     "name": "stderr",
     "output_type": "stream",
     "text": [
      "100%|████████████████████████████████████████████████████████████████████████████████████████| 136/136 [01:22<00:00,  1.65it/s]\n",
      "100%|██████████████████████████████████████████████████████████████████████████████████████████| 46/46 [00:19<00:00,  2.35it/s]\n"
     ]
    },
    {
     "name": "stdout",
     "output_type": "stream",
     "text": [
      "*****Epoch 15/100*****\n",
      "*****Train Loss: -2.922012 Val Loss: -2.427399*****\n",
      "*****Validation Accuracy: 64.50%*****\n",
      "*****Total Avg Disparity: 0.1659629224848534*****\n",
      "\n",
      "Class Team_Sports: Recall Difference = 0.05365796695276459\n",
      "Class Celebration: Recall Difference = -0.03320194057004244\n",
      "Class Parade: Recall Difference = 0.07415192386290648\n",
      "Class Waiter_Or_Waitress: Recall Difference = -0.28806907378335955\n",
      "Class Individual_Sports: Recall Difference = -0.15865701119157327\n",
      "Class Surgeons: Recall Difference = -0.08130081300813008\n",
      "Class Spa: Recall Difference = -0.47517730496453897\n",
      "Class Law_Enforcement: Recall Difference = 0.22055574933147315\n",
      "Class Business: Recall Difference = 0.01534526854219942\n",
      "Class Dresses: Recall Difference = -0.5852760736196319\n",
      "Class Water Activities: Recall Difference = 0.09373586612392593\n",
      "Class Picnic: Recall Difference = -0.30718954248366015\n",
      "Class Rescue: Recall Difference = 0.06911392405063288\n",
      "Class Cheering: Recall Difference = -0.003477905073649812\n",
      "Class Performance_And_Entertainment: Recall Difference = 0.018405943937858826\n",
      "Class Family: Recall Difference = -0.1780904522613065\n",
      "Early stopping\n"
     ]
    },
    {
     "data": {
      "image/png": "[encoded data removed]",
      "text/plain": [
       "<Figure size 640x480 with 1 Axes>"
      ]
     },
     "metadata": {},
     "output_type": "display_data"
    },
    {
     "name": "stdout",
     "output_type": "stream",
     "text": [
      "Student weights and architecture saved and exported for lambda: 10\n"
     ]
    },
    {
     "name": "stderr",
     "output_type": "stream",
     "text": [
      "100%|████████████████████████████████████████████████████████████████████████████████████████| 136/136 [01:22<00:00,  1.64it/s]\n"
     ]
    },
    {
     "name": "stdout",
     "output_type": "stream",
     "text": [
      "*******Epoch 0: loss - 0.6590678137453163\n"
     ]
    },
    {
     "name": "stderr",
     "output_type": "stream",
     "text": [
      "100%|████████████████████████████████████████████████████████████████████████████████████████| 136/136 [01:22<00:00,  1.64it/s]\n"
     ]
    },
    {
     "name": "stdout",
     "output_type": "stream",
     "text": [
      "*******Epoch 1: loss - 0.3952311349703985\n"
     ]
    },
    {
     "name": "stderr",
     "output_type": "stream",
     "text": [
      "100%|████████████████████████████████████████████████████████████████████████████████████████| 136/136 [01:22<00:00,  1.64it/s]\n"
     ]
    },
    {
     "name": "stdout",
     "output_type": "stream",
     "text": [
      "*******Epoch 2: loss - 0.2582274539505734\n"
     ]
    },
    {
     "name": "stderr",
     "output_type": "stream",
     "text": [
      "100%|████████████████████████████████████████████████████████████████████████████████████████| 136/136 [01:42<00:00,  1.33it/s]\n"
     ]
    },
    {
     "name": "stdout",
     "output_type": "stream",
     "text": [
      "Average Pretrain Adversary epoch loss:  0.36943252735278187\n"
     ]
    },
    {
     "name": "stderr",
     "output_type": "stream",
     "text": [
      "100%|████████████████████████████████████████████████████████████████████████████████████████| 136/136 [01:42<00:00,  1.33it/s]\n"
     ]
    },
    {
     "name": "stdout",
     "output_type": "stream",
     "text": [
      "Average Pretrain Adversary epoch loss:  0.36947409655241403\n"
     ]
    },
    {
     "name": "stderr",
     "output_type": "stream",
     "text": [
      "100%|████████████████████████████████████████████████████████████████████████████████████████| 136/136 [01:42<00:00,  1.33it/s]\n"
     ]
    },
    {
     "name": "stdout",
     "output_type": "stream",
     "text": [
      "Average Pretrain Adversary epoch loss:  0.3694651038112009\n"
     ]
    },
    {
     "name": "stderr",
     "output_type": "stream",
     "text": [
      "100%|████████████████████████████████████████████████████████████████████████████████████████| 136/136 [01:22<00:00,  1.64it/s]\n",
      "100%|██████████████████████████████████████████████████████████████████████████████████████████| 46/46 [00:19<00:00,  2.39it/s]\n"
     ]
    },
    {
     "name": "stdout",
     "output_type": "stream",
     "text": [
      "*****Epoch 1/100*****\n",
      "*****Train Loss: -1.111548 Val Loss: -0.189169*****\n",
      "*****Validation Accuracy: 63.38%*****\n",
      "*****Total Avg Disparity: 0.15281738285675978*****\n",
      "\n",
      "Class Team_Sports: Recall Difference = 0.05551468441641849\n",
      "Class Celebration: Recall Difference = -0.03456640388114013\n",
      "Class Parade: Recall Difference = 0.0827932504233082\n",
      "Class Waiter_Or_Waitress: Recall Difference = -0.30612244897959184\n",
      "Class Individual_Sports: Recall Difference = -0.12168093043669093\n",
      "Class Surgeons: Recall Difference = -0.1855136733185514\n",
      "Class Spa: Recall Difference = -0.4539007092198581\n",
      "Class Law_Enforcement: Recall Difference = 0.006510870828973392\n",
      "Class Business: Recall Difference = -0.0858908780903666\n",
      "Class Dresses: Recall Difference = -0.5503067484662577\n",
      "Class Water Activities: Recall Difference = 0.04070556309362272\n",
      "Class Picnic: Recall Difference = -0.1830065359477125\n",
      "Class Rescue: Recall Difference = 0.19898734177215188\n",
      "Class Cheering: Recall Difference = -0.06464811783960722\n",
      "Class Performance_And_Entertainment: Recall Difference = 0.03191489361702127\n",
      "Class Family: Recall Difference = -0.043015075376884315\n",
      "Data has been appended to ./runs_2023_12_05_00_44/validation_5.txt\n"
     ]
    },
    {
     "name": "stderr",
     "output_type": "stream",
     "text": [
      "100%|████████████████████████████████████████████████████████████████████████████████████████| 136/136 [01:22<00:00,  1.64it/s]\n",
      "100%|██████████████████████████████████████████████████████████████████████████████████████████| 46/46 [00:19<00:00,  2.39it/s]\n"
     ]
    },
    {
     "name": "stdout",
     "output_type": "stream",
     "text": [
      "*****Epoch 2/100*****\n",
      "*****Train Loss: -1.106216 Val Loss: -0.202707*****\n",
      "*****Validation Accuracy: 63.41%*****\n",
      "*****Total Avg Disparity: 0.15519476725518067*****\n",
      "\n",
      "Class Team_Sports: Recall Difference = 0.057534886436620414\n",
      "Class Celebration: Recall Difference = -0.0512937133616333\n",
      "Class Parade: Recall Difference = 0.06831318970047295\n",
      "Class Waiter_Or_Waitress: Recall Difference = -0.2676609105180535\n",
      "Class Individual_Sports: Recall Difference = -0.10072416063199452\n",
      "Class Surgeons: Recall Difference = -0.2579453067257944\n",
      "Class Spa: Recall Difference = -0.4539007092198581\n",
      "Class Law_Enforcement: Recall Difference = 0.02290431345192412\n",
      "Class Business: Recall Difference = -0.07715260017050307\n",
      "Class Dresses: Recall Difference = -0.5380368098159509\n",
      "Class Water Activities: Recall Difference = 0.04805517865219344\n",
      "Class Picnic: Recall Difference = -0.18300653594771238\n",
      "Class Rescue: Recall Difference = 0.19898734177215188\n",
      "Class Cheering: Recall Difference = -0.09451718494271683\n",
      "Class Performance_And_Entertainment: Recall Difference = 0.00016886187098930083\n",
      "Class Family: Recall Difference = -0.06291457286432156\n",
      "Data has been appended to ./runs_2023_12_05_00_44/validation_5.txt\n"
     ]
    },
    {
     "name": "stderr",
     "output_type": "stream",
     "text": [
      "100%|████████████████████████████████████████████████████████████████████████████████████████| 136/136 [01:22<00:00,  1.64it/s]\n",
      "100%|██████████████████████████████████████████████████████████████████████████████████████████| 46/46 [00:19<00:00,  2.36it/s]\n"
     ]
    },
    {
     "name": "stdout",
     "output_type": "stream",
     "text": [
      "*****Epoch 3/100*****\n",
      "*****Train Loss: -1.113978 Val Loss: -0.208928*****\n",
      "*****Validation Accuracy: 63.41%*****\n",
      "*****Total Avg Disparity: 0.15534462616516756*****\n",
      "\n",
      "Class Team_Sports: Recall Difference = 0.07835581245985856\n",
      "Class Celebration: Recall Difference = -0.07580351728320195\n",
      "Class Parade: Recall Difference = 0.05243183277865349\n",
      "Class Waiter_Or_Waitress: Recall Difference = -0.2857142857142859\n",
      "Class Individual_Sports: Recall Difference = -0.1258137663667619\n",
      "Class Surgeons: Recall Difference = -0.1611234294161123\n",
      "Class Spa: Recall Difference = -0.47517730496453897\n",
      "Class Law_Enforcement: Recall Difference = 0.013603069410533797\n",
      "Class Business: Recall Difference = -0.07608695652173914\n",
      "Class Dresses: Recall Difference = -0.5503067484662577\n",
      "Class Water Activities: Recall Difference = 0.04828132066938018\n",
      "Class Picnic: Recall Difference = -0.1830065359477125\n",
      "Class Rescue: Recall Difference = 0.17898734177215192\n",
      "Class Cheering: Recall Difference = -0.06260229132569556\n",
      "Class Performance_And_Entertainment: Recall Difference = 0.04525498142519402\n",
      "Class Family: Recall Difference = -0.0729648241206029\n",
      "Data has been appended to ./runs_2023_12_05_00_44/validation_5.txt\n"
     ]
    },
    {
     "name": "stderr",
     "output_type": "stream",
     "text": [
      "100%|████████████████████████████████████████████████████████████████████████████████████████| 136/136 [01:22<00:00,  1.64it/s]\n",
      "100%|██████████████████████████████████████████████████████████████████████████████████████████| 46/46 [00:19<00:00,  2.38it/s]\n"
     ]
    },
    {
     "name": "stdout",
     "output_type": "stream",
     "text": [
      "*****Epoch 4/100*****\n",
      "*****Train Loss: -1.105474 Val Loss: -0.160728*****\n",
      "*****Validation Accuracy: 63.67%*****\n",
      "*****Total Avg Disparity: 0.14458756855535365*****\n",
      "\n",
      "Class Team_Sports: Recall Difference = 0.048274654055000865\n",
      "Class Celebration: Recall Difference = -0.04538103901354362\n",
      "Class Parade: Recall Difference = 0.046651485957844296\n",
      "Class Waiter_Or_Waitress: Recall Difference = -0.30612244897959195\n",
      "Class Individual_Sports: Recall Difference = -0.1078926194133566\n",
      "Class Surgeons: Recall Difference = -0.13673318551367342\n",
      "Class Spa: Recall Difference = -0.4539007092198581\n",
      "Class Law_Enforcement: Recall Difference = 0.049064062318335044\n",
      "Class Business: Recall Difference = -0.03687127024722936\n",
      "Class Dresses: Recall Difference = -0.5380368098159509\n",
      "Class Water Activities: Recall Difference = 0.05563093622795101\n",
      "Class Picnic: Recall Difference = -0.18300653594771238\n",
      "Class Rescue: Recall Difference = 0.17367088607594938\n",
      "Class Cheering: Recall Difference = -0.07119476268412434\n",
      "Class Performance_And_Entertainment: Recall Difference = 0.00810536980749732\n",
      "Class Family: Recall Difference = -0.05286432160804011\n",
      "Data has been appended to ./runs_2023_12_05_00_44/validation_5.txt\n"
     ]
    },
    {
     "name": "stderr",
     "output_type": "stream",
     "text": [
      "100%|████████████████████████████████████████████████████████████████████████████████████████| 136/136 [01:22<00:00,  1.65it/s]\n",
      "100%|██████████████████████████████████████████████████████████████████████████████████████████| 46/46 [00:19<00:00,  2.31it/s]\n"
     ]
    },
    {
     "name": "stdout",
     "output_type": "stream",
     "text": [
      "*****Epoch 5/100*****\n",
      "*****Train Loss: -1.103212 Val Loss: -0.177740*****\n",
      "*****Validation Accuracy: 63.55%*****\n",
      "*****Total Avg Disparity: 0.15702165636025014*****\n",
      "\n",
      "Class Team_Sports: Recall Difference = 0.08155543878087224\n",
      "Class Celebration: Recall Difference = -0.06989084293511216\n",
      "Class Parade: Recall Difference = 0.035090792316225805\n",
      "Class Waiter_Or_Waitress: Recall Difference = -0.30612244897959184\n",
      "Class Individual_Sports: Recall Difference = -0.11506107819471878\n",
      "Class Surgeons: Recall Difference = -0.2032520325203252\n",
      "Class Spa: Recall Difference = -0.4539007092198581\n",
      "Class Law_Enforcement: Recall Difference = 0.03487966515521468\n",
      "Class Business: Recall Difference = -0.10656436487638538\n",
      "Class Dresses: Recall Difference = -0.5441717791411044\n",
      "Class Water Activities: Recall Difference = 0.04093170511080979\n",
      "Class Picnic: Recall Difference = -0.1830065359477125\n",
      "Class Rescue: Recall Difference = 0.16430379746835455\n",
      "Class Cheering: Recall Difference = -0.07528641571194761\n",
      "Class Performance_And_Entertainment: Recall Difference = 0.050489699425869616\n",
      "Class Family: Recall Difference = -0.047839195979899496\n",
      "Data has been appended to ./runs_2023_12_05_00_44/validation_5.txt\n"
     ]
    },
    {
     "name": "stderr",
     "output_type": "stream",
     "text": [
      "100%|████████████████████████████████████████████████████████████████████████████████████████| 136/136 [01:22<00:00,  1.64it/s]\n",
      "100%|██████████████████████████████████████████████████████████████████████████████████████████| 46/46 [00:19<00:00,  2.41it/s]\n"
     ]
    },
    {
     "name": "stdout",
     "output_type": "stream",
     "text": [
      "*****Epoch 6/100*****\n",
      "*****Train Loss: -1.106177 Val Loss: -0.196778*****\n",
      "*****Validation Accuracy: 63.46%*****\n",
      "*****Total Avg Disparity: 0.15358982506994684*****\n",
      "\n",
      "Class Team_Sports: Recall Difference = 0.07487592689904832\n",
      "Class Celebration: Recall Difference = -0.05417424701839507\n",
      "Class Parade: Recall Difference = 0.04233082267764354\n",
      "Class Waiter_Or_Waitress: Recall Difference = -0.30612244897959195\n",
      "Class Individual_Sports: Recall Difference = -0.11147684880403763\n",
      "Class Surgeons: Recall Difference = -0.1367331855136733\n",
      "Class Spa: Recall Difference = -0.47517730496453897\n",
      "Class Law_Enforcement: Recall Difference = 0.03487966515521446\n",
      "Class Business: Recall Difference = -0.0858908780903666\n",
      "Class Dresses: Recall Difference = -0.5441717791411044\n",
      "Class Water Activities: Recall Difference = 0.04070556309362283\n",
      "Class Picnic: Recall Difference = -0.1830065359477125\n",
      "Class Rescue: Recall Difference = 0.1663291139240506\n",
      "Class Cheering: Recall Difference = -0.08081014729950892\n",
      "Class Performance_And_Entertainment: Recall Difference = 0.047787909490037195\n",
      "Class Family: Recall Difference = -0.0729648241206029\n",
      "Data has been appended to ./runs_2023_12_05_00_44/validation_5.txt\n"
     ]
    },
    {
     "name": "stderr",
     "output_type": "stream",
     "text": [
      "100%|████████████████████████████████████████████████████████████████████████████████████████| 136/136 [01:22<00:00,  1.64it/s]\n",
      "100%|██████████████████████████████████████████████████████████████████████████████████████████| 46/46 [00:19<00:00,  2.39it/s]\n"
     ]
    },
    {
     "name": "stdout",
     "output_type": "stream",
     "text": [
      "*****Epoch 7/100*****\n",
      "*****Train Loss: -1.116627 Val Loss: -0.185046*****\n",
      "*****Validation Accuracy: 63.67%*****\n",
      "*****Total Avg Disparity: 0.15863501358632745*****\n",
      "\n",
      "Class Team_Sports: Recall Difference = 0.08413615928066775\n",
      "Class Celebration: Recall Difference = -0.07918940772185157\n",
      "Class Parade: Recall Difference = 0.04519180241723586\n",
      "Class Waiter_Or_Waitress: Recall Difference = -0.2959183673469389\n",
      "Class Individual_Sports: Recall Difference = -0.10430839002267567\n",
      "Class Surgeons: Recall Difference = -0.14855875831485588\n",
      "Class Spa: Recall Difference = -0.4539007092198581\n",
      "Class Law_Enforcement: Recall Difference = 0.027787466573654274\n",
      "Class Business: Recall Difference = -0.11636828644501285\n",
      "Class Dresses: Recall Difference = -0.5503067484662577\n",
      "Class Water Activities: Recall Difference = 0.06320669380370869\n",
      "Class Picnic: Recall Difference = -0.27450980392156854\n",
      "Class Rescue: Recall Difference = 0.12632911392405055\n",
      "Class Cheering: Recall Difference = -0.06260229132569556\n",
      "Class Performance_And_Entertainment: Recall Difference = 0.04795677136102661\n",
      "Class Family: Recall Difference = -0.057889447236180835\n",
      "Data has been appended to ./runs_2023_12_05_00_44/validation_5.txt\n"
     ]
    },
    {
     "name": "stderr",
     "output_type": "stream",
     "text": [
      "100%|████████████████████████████████████████████████████████████████████████████████████████| 136/136 [01:22<00:00,  1.65it/s]\n",
      "100%|██████████████████████████████████████████████████████████████████████████████████████████| 46/46 [00:19<00:00,  2.38it/s]\n"
     ]
    },
    {
     "name": "stdout",
     "output_type": "stream",
     "text": [
      "*****Epoch 8/100*****\n",
      "*****Train Loss: -1.118237 Val Loss: -0.199421*****\n",
      "*****Validation Accuracy: 63.35%*****\n",
      "*****Total Avg Disparity: 0.15043497152529905*****\n",
      "\n",
      "Class Team_Sports: Recall Difference = 0.07055526361884723\n",
      "Class Celebration: Recall Difference = -0.0448756822316555\n",
      "Class Parade: Recall Difference = 0.03077012903602505\n",
      "Class Waiter_Or_Waitress: Recall Difference = -0.2857142857142857\n",
      "Class Individual_Sports: Recall Difference = -0.12884938921805278\n",
      "Class Surgeons: Recall Difference = -0.16703621581670347\n",
      "Class Spa: Recall Difference = -0.4539007092198581\n",
      "Class Law_Enforcement: Recall Difference = 0.027787466573654274\n",
      "Class Business: Recall Difference = -0.09676044330775796\n",
      "Class Dresses: Recall Difference = -0.5503067484662577\n",
      "Class Water Activities: Recall Difference = 0.05563093622795112\n",
      "Class Picnic: Recall Difference = -0.1830065359477125\n",
      "Class Rescue: Recall Difference = 0.1663291139240506\n",
      "Class Cheering: Recall Difference = -0.07324058919803605\n",
      "Class Performance_And_Entertainment: Recall Difference = 0.029381965552178202\n",
      "Class Family: Recall Difference = -0.04281407035175877\n",
      "Data has been appended to ./runs_2023_12_05_00_44/validation_5.txt\n"
     ]
    },
    {
     "name": "stderr",
     "output_type": "stream",
     "text": [
      "100%|████████████████████████████████████████████████████████████████████████████████████████| 136/136 [01:22<00:00,  1.65it/s]\n",
      "100%|██████████████████████████████████████████████████████████████████████████████████████████| 46/46 [00:19<00:00,  2.37it/s]\n"
     ]
    },
    {
     "name": "stdout",
     "output_type": "stream",
     "text": [
      "*****Epoch 9/100*****\n",
      "*****Train Loss: -1.120401 Val Loss: -0.206389*****\n",
      "*****Validation Accuracy: 63.75%*****\n",
      "*****Total Avg Disparity: 0.15956969863414855*****\n",
      "\n",
      "Class Team_Sports: Recall Difference = 0.0615752904770247\n",
      "Class Celebration: Recall Difference = -0.0688801293713362\n",
      "Class Parade: Recall Difference = 0.04233082267764354\n",
      "Class Waiter_Or_Waitress: Recall Difference = -0.30612244897959195\n",
      "Class Individual_Sports: Recall Difference = -0.1186453075853997\n",
      "Class Surgeons: Recall Difference = -0.1611234294161123\n",
      "Class Spa: Recall Difference = -0.47517730496453897\n",
      "Class Law_Enforcement: Recall Difference = 0.057900244157656156\n",
      "Class Business: Recall Difference = -0.07608695652173914\n",
      "Class Dresses: Recall Difference = -0.5564417177914109\n",
      "Class Water Activities: Recall Difference = 0.05563093622795101\n",
      "Class Picnic: Recall Difference = -0.1830065359477125\n",
      "Class Rescue: Recall Difference = 0.21898734177215184\n",
      "Class Cheering: Recall Difference = -0.042348608837970536\n",
      "Class Performance_And_Entertainment: Recall Difference = 0.055893279297534626\n",
      "Class Family: Recall Difference = -0.0729648241206029\n",
      "Early stopping\n"
     ]
    },
    {
     "data": {
      "image/png": "[encoded data removed]",
      "text/plain": [
       "<Figure size 640x480 with 1 Axes>"
      ]
     },
     "metadata": {},
     "output_type": "display_data"
    },
    {
     "name": "stdout",
     "output_type": "stream",
     "text": [
      "Student weights and architecture saved and exported for lambda: 5\n"
     ]
    },
    {
     "name": "stderr",
     "output_type": "stream",
     "text": [
      "100%|████████████████████████████████████████████████████████████████████████████████████████| 136/136 [01:22<00:00,  1.64it/s]\n"
     ]
    },
    {
     "name": "stdout",
     "output_type": "stream",
     "text": [
      "*******Epoch 0: loss - 0.6642084483276395\n"
     ]
    },
    {
     "name": "stderr",
     "output_type": "stream",
     "text": [
      "100%|████████████████████████████████████████████████████████████████████████████████████████| 136/136 [01:22<00:00,  1.64it/s]\n"
     ]
    },
    {
     "name": "stdout",
     "output_type": "stream",
     "text": [
      "*******Epoch 1: loss - 0.39376580474131245\n"
     ]
    },
    {
     "name": "stderr",
     "output_type": "stream",
     "text": [
      "100%|████████████████████████████████████████████████████████████████████████████████████████| 136/136 [01:22<00:00,  1.64it/s]\n"
     ]
    },
    {
     "name": "stdout",
     "output_type": "stream",
     "text": [
      "*******Epoch 2: loss - 0.256318386644125\n"
     ]
    },
    {
     "name": "stderr",
     "output_type": "stream",
     "text": [
      "100%|████████████████████████████████████████████████████████████████████████████████████████| 136/136 [01:42<00:00,  1.33it/s]\n"
     ]
    },
    {
     "name": "stdout",
     "output_type": "stream",
     "text": [
      "Average Pretrain Adversary epoch loss:  0.33764281200573726\n"
     ]
    },
    {
     "name": "stderr",
     "output_type": "stream",
     "text": [
      "100%|████████████████████████████████████████████████████████████████████████████████████████| 136/136 [01:42<00:00,  1.33it/s]\n"
     ]
    },
    {
     "name": "stdout",
     "output_type": "stream",
     "text": [
      "Average Pretrain Adversary epoch loss:  0.3376853633671999\n"
     ]
    },
    {
     "name": "stderr",
     "output_type": "stream",
     "text": [
      "100%|████████████████████████████████████████████████████████████████████████████████████████| 136/136 [01:42<00:00,  1.33it/s]\n"
     ]
    },
    {
     "name": "stdout",
     "output_type": "stream",
     "text": [
      "Average Pretrain Adversary epoch loss:  0.3375582159222925\n"
     ]
    },
    {
     "name": "stderr",
     "output_type": "stream",
     "text": [
      "100%|████████████████████████████████████████████████████████████████████████████████████████| 136/136 [01:22<00:00,  1.65it/s]\n",
      "100%|██████████████████████████████████████████████████████████████████████████████████████████| 46/46 [00:19<00:00,  2.38it/s]\n"
     ]
    },
    {
     "name": "stdout",
     "output_type": "stream",
     "text": [
      "*****Epoch 1/100*****\n",
      "*****Train Loss: -0.328839 Val Loss:  0.249041*****\n",
      "*****Validation Accuracy: 64.85%*****\n",
      "*****Total Avg Disparity: 0.1567079604912734*****\n",
      "\n",
      "Class Team_Sports: Recall Difference = 0.09092076837741558\n",
      "Class Celebration: Recall Difference = 0.049777643015969264\n",
      "Class Parade: Recall Difference = 0.10305365796695276\n",
      "Class Waiter_Or_Waitress: Recall Difference = -0.2778649921507065\n",
      "Class Individual_Sports: Recall Difference = -0.018835491185721698\n",
      "Class Surgeons: Recall Difference = -0.12416851441241683\n",
      "Class Spa: Recall Difference = -0.41134751773049644\n",
      "Class Law_Enforcement: Recall Difference = 0.19218695500523186\n",
      "Class Business: Recall Difference = 0.01747655583972707\n",
      "Class Dresses: Recall Difference = -0.6159509202453988\n",
      "Class Water Activities: Recall Difference = 0.048055178652193664\n",
      "Class Picnic: Recall Difference = -0.23529411764705882\n",
      "Class Rescue: Recall Difference = 0.039746835443037976\n",
      "Class Cheering: Recall Difference = -0.13461538461538458\n",
      "Class Performance_And_Entertainment: Recall Difference = 0.044917257683215195\n",
      "Class Family: Recall Difference = -0.10311557788944725\n",
      "Data has been appended to ./runs_2023_12_05_00_44/validation_3.txt\n"
     ]
    },
    {
     "name": "stderr",
     "output_type": "stream",
     "text": [
      "100%|████████████████████████████████████████████████████████████████████████████████████████| 136/136 [01:22<00:00,  1.65it/s]\n",
      "100%|██████████████████████████████████████████████████████████████████████████████████████████| 46/46 [00:19<00:00,  2.38it/s]\n"
     ]
    },
    {
     "name": "stdout",
     "output_type": "stream",
     "text": [
      "*****Epoch 2/100*****\n",
      "*****Train Loss: -0.341417 Val Loss:  0.251728*****\n",
      "*****Validation Accuracy: 65.25%*****\n",
      "*****Total Avg Disparity: 0.1577948016564224*****\n",
      "\n",
      "Class Team_Sports: Recall Difference = 0.10220120277923728\n",
      "Class Celebration: Recall Difference = 0.05518496058217104\n",
      "Class Parade: Recall Difference = 0.0813919542243241\n",
      "Class Waiter_Or_Waitress: Recall Difference = -0.28806907378335955\n",
      "Class Individual_Sports: Recall Difference = -0.025455343427693622\n",
      "Class Surgeons: Recall Difference = -0.07538802660753874\n",
      "Class Spa: Recall Difference = -0.41134751773049644\n",
      "Class Law_Enforcement: Recall Difference = 0.19218695500523197\n",
      "Class Business: Recall Difference = 0.03601875532821819\n",
      "Class Dresses: Recall Difference = -0.6159509202453988\n",
      "Class Water Activities: Recall Difference = 0.04850746268656736\n",
      "Class Picnic: Recall Difference = -0.2745098039215687\n",
      "Class Rescue: Recall Difference = 0.05974683544303799\n",
      "Class Cheering: Recall Difference = -0.15384615384615385\n",
      "Class Performance_And_Entertainment: Recall Difference = 0.031746031746031744\n",
      "Class Family: Recall Difference = -0.07316582914572867\n",
      "Data has been appended to ./runs_2023_12_05_00_44/validation_3.txt\n"
     ]
    },
    {
     "name": "stderr",
     "output_type": "stream",
     "text": [
      "100%|████████████████████████████████████████████████████████████████████████████████████████| 136/136 [01:22<00:00,  1.65it/s]\n",
      "100%|██████████████████████████████████████████████████████████████████████████████████████████| 46/46 [00:19<00:00,  2.39it/s]\n"
     ]
    },
    {
     "name": "stdout",
     "output_type": "stream",
     "text": [
      "*****Epoch 3/100*****\n",
      "*****Train Loss: -0.327977 Val Loss:  0.255642*****\n",
      "*****Validation Accuracy: 64.76%*****\n",
      "*****Total Avg Disparity: 0.14742077734854625*****\n",
      "\n",
      "Class Team_Sports: Recall Difference = 0.09816079873883332\n",
      "Class Celebration: Recall Difference = 0.0286537295330504\n",
      "Class Parade: Recall Difference = 0.05827056694108712\n",
      "Class Waiter_Or_Waitress: Recall Difference = -0.2778649921507065\n",
      "Class Individual_Sports: Recall Difference = -0.04337649038109859\n",
      "Class Surgeons: Recall Difference = -0.12416851441241683\n",
      "Class Spa: Recall Difference = -0.41134751773049644\n",
      "Class Law_Enforcement: Recall Difference = 0.17579351238228091\n",
      "Class Business: Recall Difference = -0.013000852514919004\n",
      "Class Dresses: Recall Difference = -0.6098159509202454\n",
      "Class Water Activities: Recall Difference = 0.010854816824966251\n",
      "Class Picnic: Recall Difference = -0.2745098039215686\n",
      "Class Rescue: Recall Difference = 0.014430379746835476\n",
      "Class Cheering: Recall Difference = -0.1143617021276595\n",
      "Class Performance_And_Entertainment: Recall Difference = 0.021107733873691303\n",
      "Class Family: Recall Difference = -0.08301507537688435\n",
      "Data has been appended to ./runs_2023_12_05_00_44/validation_3.txt\n"
     ]
    },
    {
     "name": "stderr",
     "output_type": "stream",
     "text": [
      "100%|████████████████████████████████████████████████████████████████████████████████████████| 136/136 [01:22<00:00,  1.65it/s]\n",
      "100%|██████████████████████████████████████████████████████████████████████████████████████████| 46/46 [00:19<00:00,  2.36it/s]\n"
     ]
    },
    {
     "name": "stdout",
     "output_type": "stream",
     "text": [
      "*****Epoch 4/100*****\n",
      "*****Train Loss: -0.327750 Val Loss:  0.231869*****\n",
      "*****Validation Accuracy: 64.76%*****\n",
      "*****Total Avg Disparity: 0.1562938162299948*****\n",
      "\n",
      "Class Team_Sports: Recall Difference = 0.09322122963741475\n",
      "Class Celebration: Recall Difference = -0.02779462300384078\n",
      "Class Parade: Recall Difference = 0.06983126058270561\n",
      "Class Waiter_Or_Waitress: Recall Difference = -0.2778649921507065\n",
      "Class Individual_Sports: Recall Difference = -0.035110818520956766\n",
      "Class Surgeons: Recall Difference = -0.12416851441241683\n",
      "Class Spa: Recall Difference = -0.41134751773049644\n",
      "Class Law_Enforcement: Recall Difference = 0.1337053830949888\n",
      "Class Business: Recall Difference = -0.02280477408354642\n",
      "Class Dresses: Recall Difference = -0.703680981595092\n",
      "Class Water Activities: Recall Difference = 0.048733604703754096\n",
      "Class Picnic: Recall Difference = -0.29411764705882354\n",
      "Class Rescue: Recall Difference = -0.020253164556962022\n",
      "Class Cheering: Recall Difference = -0.11436170212765967\n",
      "Class Performance_And_Entertainment: Recall Difference = 0.0607902735562309\n",
      "Class Family: Recall Difference = -0.06291457286432156\n",
      "Data has been appended to ./runs_2023_12_05_00_44/validation_3.txt\n"
     ]
    },
    {
     "name": "stderr",
     "output_type": "stream",
     "text": [
      "100%|████████████████████████████████████████████████████████████████████████████████████████| 136/136 [01:22<00:00,  1.65it/s]\n",
      "100%|██████████████████████████████████████████████████████████████████████████████████████████| 46/46 [00:19<00:00,  2.38it/s]\n"
     ]
    },
    {
     "name": "stdout",
     "output_type": "stream",
     "text": [
      "*****Epoch 5/100*****\n",
      "*****Train Loss: -0.328443 Val Loss:  0.247070*****\n",
      "*****Validation Accuracy: 64.44%*****\n",
      "*****Total Avg Disparity: 0.15634624940542613*****\n",
      "\n",
      "Class Team_Sports: Recall Difference = 0.07790039119518888\n",
      "Class Celebration: Recall Difference = -0.013088740650899544\n",
      "Class Parade: Recall Difference = 0.0756116074035148\n",
      "Class Waiter_Or_Waitress: Recall Difference = -0.2778649921507065\n",
      "Class Individual_Sports: Recall Difference = -0.05442176870748294\n",
      "Class Surgeons: Recall Difference = -0.12416851441241683\n",
      "Class Spa: Recall Difference = -0.41134751773049644\n",
      "Class Law_Enforcement: Recall Difference = 0.16870131380072095\n",
      "Class Business: Recall Difference = 0.007672634271099765\n",
      "Class Dresses: Recall Difference = -0.7098159509202453\n",
      "Class Water Activities: Recall Difference = 0.02578018995929454\n",
      "Class Picnic: Recall Difference = -0.25490196078431376\n",
      "Class Rescue: Recall Difference = 0.039746835443037976\n",
      "Class Cheering: Recall Difference = -0.14423076923076922\n",
      "Class Performance_And_Entertainment: Recall Difference = 0.01317122593718334\n",
      "Class Family: Recall Difference = -0.10311557788944725\n",
      "Data has been appended to ./runs_2023_12_05_00_44/validation_3.txt\n"
     ]
    },
    {
     "name": "stderr",
     "output_type": "stream",
     "text": [
      "100%|████████████████████████████████████████████████████████████████████████████████████████| 136/136 [01:22<00:00,  1.65it/s]\n",
      "100%|██████████████████████████████████████████████████████████████████████████████████████████| 46/46 [00:19<00:00,  2.42it/s]\n"
     ]
    },
    {
     "name": "stdout",
     "output_type": "stream",
     "text": [
      "*****Epoch 6/100*****\n",
      "*****Train Loss: -0.335747 Val Loss:  0.277422*****\n",
      "*****Validation Accuracy: 64.79%*****\n",
      "*****Total Avg Disparity: 0.15413051492490973*****\n",
      "\n",
      "Class Team_Sports: Recall Difference = 0.08805978863782349\n",
      "Class Celebration: Recall Difference = 0.04927228623408125\n",
      "Class Parade: Recall Difference = 0.11029368832837028\n",
      "Class Waiter_Or_Waitress: Recall Difference = -0.28806907378335955\n",
      "Class Individual_Sports: Recall Difference = -0.049996342623070844\n",
      "Class Surgeons: Recall Difference = -0.12416851441241683\n",
      "Class Spa: Recall Difference = -0.41134751773049644\n",
      "Class Law_Enforcement: Recall Difference = 0.1594000697593303\n",
      "Class Business: Recall Difference = 0.025149190110826947\n",
      "Class Dresses: Recall Difference = -0.6098159509202452\n",
      "Class Water Activities: Recall Difference = 0.048733604703754096\n",
      "Class Picnic: Recall Difference = -0.25490196078431376\n",
      "Class Rescue: Recall Difference = -0.025569620253164504\n",
      "Class Cheering: Recall Difference = -0.09206219312602287\n",
      "Class Performance_And_Entertainment: Recall Difference = 0.02110773387369136\n",
      "Class Family: Recall Difference = -0.10814070351758798\n",
      "Data has been appended to ./runs_2023_12_05_00_44/validation_3.txt\n"
     ]
    },
    {
     "name": "stderr",
     "output_type": "stream",
     "text": [
      " 76%|██████████████████████████████████████████████████████████████████▋                     | 103/136 [01:02<00:19,  1.68it/s]"
     ]
    }
   ],
   "source": [
    "lambda_results = {}\n",
    "# Loop for training the student model with different lambda values\n",
    "for i in lmda_list_student:\n",
    "    # load teacher model with lambda 0\n",
    "    teacher_model = torch.load('teacher_model_ckd_wider_lambda02.pth')\n",
    "    teacher_model.load_state_dict(torch.load('teacher_model_weights_ckd_wider_lambda02.pth'))\n",
    "    \n",
    "    # Reset the student model for each lambda\n",
    "    student_model = torchvision.models.efficientnet_b0(weights='DEFAULT')\n",
    "    student_model.classifier = nn.Linear(1280, num_classes)\n",
    "    student_optimizer = optim.Adam(student_model.parameters(), lr=learning_rate)\n",
    "\n",
    "    adv = Adversary()\n",
    "    student_optimizer_adv = optim.Adam(adv.parameters(), lr=learning_rate)\n",
    "    \n",
    "    if i != 0:\n",
    "        pretrain_student(student_model, teacher_model, trainloader, criterion_clf, student_optimizer, device, alpha, temperature, epochs_pretrain)\n",
    "        pretrain_adversary(adv, teacher_model, optimizer_adv, trainloader, adv_criterion, device, epochs_pretrain)\n",
    "    \n",
    "    student_mean_abs_val_disparity = train_student_with_distillation_disparity(student_model, teacher_model, adv, trainloader, testloader, criterion_clf, \n",
    "                                                                               adv_criterion, student_optimizer_adv, student_optimizer_adv, device, alpha, \n",
    "                                                                               temperature, epochs, lmda=i, patience=patience_student)\n",
    "\n",
    "    torch.save(student_model.state_dict(), f'student_model_weights_ckd_wider_lambda{i}.pth')\n",
    "    torch.save(student_model, f'student_model_ckd_wider_lambda{i}.pth')\n",
    "    print('Student weights and architecture saved and exported for lambda:', i)\n",
    "\n",
    "    # Update the dictionary with the student results\n",
    "    if i in lambda_results:\n",
    "        # If the key 'i' is already present in the dictionary\n",
    "        lambda_results[i].update({\n",
    "            'student_mean_abs_val_disparity': student_mean_abs_val_disparity\n",
    "        })\n",
    "    else:\n",
    "        # If the key 'i' is not present in the dictionary\n",
    "        lambda_results[i] = {\n",
    "            'student_mean_abs_val_disparity': student_mean_abs_val_disparity\n",
    "        }"
   ]
  },
  {
   "cell_type": "code",
   "execution_count": null,
   "id": "073656a3-9d3d-469d-a66f-0afc3c289ab9",
   "metadata": {},
   "outputs": [],
   "source": [
    "def compare_performance_metrics(teacher, student, dataloader):\n",
    "    teacher.eval()\n",
    "    student.eval()\n",
    "    \n",
    "    all_labels = []\n",
    "    all_teacher_preds = []\n",
    "    all_student_preds = []\n",
    "\n",
    "    for batch in dataloader:\n",
    "        inputs = batch['img'].to(device)\n",
    "        labels = batch['label'].to(device)\n",
    "        \n",
    "        with torch.no_grad():\n",
    "            teacher_outputs = teacher(inputs)\n",
    "            student_outputs = student(inputs)\n",
    "            \n",
    "        teacher_preds = torch.argmax(teacher_outputs, dim=1).cpu().numpy()\n",
    "        student_preds = torch.argmax(student_outputs, dim=1).cpu().numpy()\n",
    "        \n",
    "        all_labels.append(labels.cpu().numpy())\n",
    "        all_teacher_preds.append(teacher_preds)\n",
    "        all_student_preds.append(student_preds)\n",
    "\n",
    "    all_labels = np.concatenate(all_labels)\n",
    "    all_teacher_preds = np.concatenate(all_teacher_preds)\n",
    "    all_student_preds = np.concatenate(all_student_preds)\n",
    "    \n",
    "    metrics = {\n",
    "        'accuracy': (accuracy_score(all_labels, all_teacher_preds), accuracy_score(all_labels, all_student_preds)),\n",
    "        'precision': (precision_score(all_labels, all_teacher_preds, average='weighted', zero_division=0), precision_score(all_labels, all_student_preds, average='weighted', zero_division=0)),\n",
    "        'recall': (recall_score(all_labels, all_teacher_preds, average='weighted'), recall_score(all_labels, all_student_preds, average='weighted')),\n",
    "        'f1': (f1_score(all_labels, all_teacher_preds, average='weighted'), f1_score(all_labels, all_student_preds, average='weighted'))\n",
    "    }\n",
    "\n",
    "    return {\n",
    "        'metrics': metrics,\n",
    "        'all_labels': all_labels,\n",
    "        'all_teacher_preds': all_teacher_preds,\n",
    "        'all_student_preds': all_student_preds\n",
    "    }\n",
    "\n",
    "def compare_model_size(teacher, student):\n",
    "    teacher_params = sum(p.numel() for p in teacher.parameters())\n",
    "    student_params = sum(p.numel() for p in student.parameters())\n",
    "    return teacher_params, student_params\n",
    "\n",
    "def compare_inference_time(teacher, student, dataloader):\n",
    "    dataiter = iter(dataloader)\n",
    "    data = next(dataiter)\n",
    "    inputs = data['img']\n",
    "    \n",
    "    teacher = teacher.to(device)\n",
    "    student = student.to(device)\n",
    "    inputs = inputs.to(device)\n",
    "    \n",
    "    start_time = time.time()\n",
    "    with torch.no_grad():\n",
    "        teacher_outputs = teacher(inputs)\n",
    "    teacher_time = time.time() - start_time\n",
    "\n",
    "    start_time = time.time()\n",
    "    with torch.no_grad():\n",
    "        student_outputs = student(inputs)\n",
    "    student_time = time.time() - start_time\n",
    "    \n",
    "    return teacher_time, student_time"
   ]
  },
  {
   "cell_type": "code",
   "execution_count": null,
   "id": "249e04fd-db83-4893-bfd5-31d8808243d9",
   "metadata": {},
   "outputs": [],
   "source": [
    "# Loop through each lambda value\n",
    "for lmda in lmda_list_student:\n",
    "    # Load teacher and student models for the current lambda\n",
    "    teacher_model = torch.load(f'teacher_model_ckd_wider_lambda02.pth')\n",
    "    student_model = torch.load(f'student_model_ckd_wider_lambda{lmda}.pth')\n",
    "\n",
    "    # Compute performance metrics\n",
    "    performance_metrics = compare_performance_metrics(teacher_model, student_model, testloader)\n",
    "\n",
    "    # Compute model sizes and inference times\n",
    "    teacher_params, student_params = compare_model_size(teacher_model, student_model)\n",
    "    teacher_time, student_time = compare_inference_time(teacher_model, student_model, testloader)\n",
    "\n",
    "    # Update results for the current lambda value\n",
    "    if lmda in lambda_results:\n",
    "        lambda_results[lmda].update({\n",
    "            'performance_metrics': performance_metrics,\n",
    "            'teacher_params': teacher_params,\n",
    "            'student_params': student_params,\n",
    "            'teacher_time': teacher_time,\n",
    "            'student_time': student_time\n",
    "        })\n",
    "    else:\n",
    "        lambda_results[lmda] = {\n",
    "            'performance_metrics': performance_metrics,\n",
    "            'teacher_params': teacher_params,\n",
    "            'student_params': student_params,\n",
    "            'teacher_time': teacher_time,\n",
    "            'student_time': student_time\n",
    "        }\n"
   ]
  },
  {
   "cell_type": "code",
   "execution_count": null,
   "id": "4c127f4e-cc52-45ff-a035-9e0184fb9a64",
   "metadata": {},
   "outputs": [],
   "source": [
    "lambdas = list(lambda_results.keys())\n",
    "teacher_accuracies = [lambda_results[lmda]['performance_metrics']['metrics']['accuracy'][0] for lmda in lambdas]\n",
    "student_accuracies = [lambda_results[lmda]['performance_metrics']['metrics']['accuracy'][1] for lmda in lambdas]\n",
    "\n",
    "plt.plot(lambdas, teacher_accuracies, label='Teacher Accuracy', marker='o')\n",
    "plt.plot(lambdas, student_accuracies, label='Student Accuracy', marker='o')\n",
    "plt.xlabel('Lambda')\n",
    "plt.ylabel('Accuracy')\n",
    "plt.title('Accuracy Comparison Across Lambdas')\n",
    "plt.legend()\n",
    "plt.show()\n"
   ]
  },
  {
   "cell_type": "code",
   "execution_count": null,
   "id": "cf6d58ea-0417-4a20-bc3f-4b69f15b9452",
   "metadata": {},
   "outputs": [],
   "source": [
    "# Precision\n",
    "teacher_precisions = [lambda_results[lmda]['performance_metrics']['metrics']['precision'][0] for lmda in lambdas]\n",
    "student_precisions = [lambda_results[lmda]['performance_metrics']['metrics']['precision'][1] for lmda in lambdas]\n",
    "\n",
    "plt.figure(figsize=(10, 6))\n",
    "plt.plot(lambdas, teacher_precisions, label='Teacher Precision', marker='o')\n",
    "plt.plot(lambdas, student_precisions, label='Student Precision', marker='o')\n",
    "plt.xlabel('Lambda')\n",
    "plt.ylabel('Precision')\n",
    "plt.title('Precision Comparison Across Lambdas')\n",
    "plt.legend()\n",
    "plt.show()\n"
   ]
  },
  {
   "cell_type": "code",
   "execution_count": null,
   "id": "bf3ee757-c1af-4f1a-85bd-136bc85e6e98",
   "metadata": {},
   "outputs": [],
   "source": [
    "# Recall\n",
    "teacher_recalls = [lambda_results[lmda]['performance_metrics']['metrics']['recall'][0] for lmda in lambdas]\n",
    "student_recalls = [lambda_results[lmda]['performance_metrics']['metrics']['recall'][1] for lmda in lambdas]\n",
    "\n",
    "plt.figure(figsize=(10, 6))\n",
    "plt.plot(lambdas, teacher_recalls, label='Teacher Recall', marker='o')\n",
    "plt.plot(lambdas, student_recalls, label='Student Recall', marker='o')\n",
    "plt.xlabel('Lambda')\n",
    "plt.ylabel('Recall')\n",
    "plt.title('Recall Comparison Across Lambdas')\n",
    "plt.legend()\n",
    "plt.show()\n"
   ]
  },
  {
   "cell_type": "code",
   "execution_count": null,
   "id": "f0d4e93d-9344-49fc-978f-a00d8d8e8eea",
   "metadata": {},
   "outputs": [],
   "source": [
    "# F1 Score\n",
    "teacher_f1s = [lambda_results[lmda]['performance_metrics']['metrics']['f1'][0] for lmda in lambdas]\n",
    "student_f1s = [lambda_results[lmda]['performance_metrics']['metrics']['f1'][1] for lmda in lambdas]\n",
    "\n",
    "plt.figure(figsize=(10, 6))\n",
    "plt.plot(lambdas, teacher_f1s, label='Teacher F1 Score', marker='o')\n",
    "plt.plot(lambdas, student_f1s, label='Student F1 Score', marker='o')\n",
    "plt.xlabel('Lambda')\n",
    "plt.ylabel('F1 Score')\n",
    "plt.title('F1 Score Comparison Across Lambdas')\n",
    "plt.legend()\n",
    "plt.show()\n"
   ]
  },
  {
   "cell_type": "code",
   "execution_count": null,
   "id": "85b769e1-25e1-423c-b77f-af275eb11152",
   "metadata": {},
   "outputs": [],
   "source": [
    "# Model Size\n",
    "teacher_sizes = [lambda_results[lmda]['teacher_params'] / 1e6 for lmda in lambdas]  # Convert to millions\n",
    "student_sizes = [lambda_results[lmda]['student_params'] / 1e6 for lmda in lambdas]\n",
    "\n",
    "plt.figure(figsize=(10, 6))\n",
    "plt.plot(lambdas, teacher_sizes, label='Teacher Model Size', marker='o')\n",
    "plt.plot(lambdas, student_sizes, label='Student Model Size', marker='o')\n",
    "plt.xlabel('Lambda')\n",
    "plt.ylabel('Model Size (Millions of Parameters)')\n",
    "plt.title('Model Size Comparison Across Lambdas')\n",
    "plt.legend()\n",
    "plt.show()\n"
   ]
  },
  {
   "cell_type": "code",
   "execution_count": null,
   "id": "3c8aae8d-9a0d-45b3-9fc2-c27bc5fcaa5a",
   "metadata": {},
   "outputs": [],
   "source": [
    "# Inference Time\n",
    "teacher_times = [lambda_results[lmda]['teacher_time'] for lmda in lambdas]\n",
    "student_times = [lambda_results[lmda]['student_time'] for lmda in lambdas]\n",
    "\n",
    "plt.figure(figsize=(10, 6))\n",
    "plt.plot(lambdas, teacher_times, label='Teacher Inference Time', marker='o')\n",
    "plt.plot(lambdas, student_times, label='Student Inference Time', marker='o')\n",
    "plt.xlabel('Lambda')\n",
    "plt.ylabel('Inference Time (s)')\n",
    "plt.title('Inference Time Comparison Across Lambdas')\n",
    "plt.legend()\n",
    "plt.show()\n"
   ]
  },
  {
   "cell_type": "code",
   "execution_count": null,
   "id": "6b7cb7f0-12a9-4cec-8188-048c3ffcadad",
   "metadata": {},
   "outputs": [],
   "source": [
    "# Extracting disparity values for both teacher and student models\n",
    "student_disparities = [lambda_results[lmda]['student_mean_abs_val_disparity'] for lmda in lambdas]\n",
    "\n",
    "plt.figure(figsize=(10, 6))\n",
    "plt.plot(lambdas, student_disparities, label='Student Average Disparity', marker='o')\n",
    "plt.xlabel('Lambda')\n",
    "plt.ylabel('Average Disparity')\n",
    "plt.title('Average Disparity Comparison Across Lambdas')\n",
    "plt.legend()\n",
    "plt.show()\n"
   ]
  },
  {
   "cell_type": "code",
   "execution_count": null,
   "id": "2dfa0eb5-609a-4b5d-b06d-39ecd0e76759",
   "metadata": {},
   "outputs": [],
   "source": [
    "lambda_results"
   ]
  },
  {
   "cell_type": "code",
   "execution_count": null,
   "id": "ee80376f-d5b1-4008-8099-18693972c15a",
   "metadata": {},
   "outputs": [],
   "source": [
    "def plot_combined_distribution(teacher_preds, student_preds, class_names, lmda):\n",
    "    plt.figure(figsize=(12, 6))\n",
    "    plt.subplot(1, 2, 1)\n",
    "    sns.countplot(x=teacher_preds)\n",
    "    plt.title(f'Teacher Model Predictions (Lambda={lmda})')\n",
    "    plt.xlabel('Class')\n",
    "    plt.ylabel('Count')\n",
    "    plt.xticks(range(len(class_names)), class_names, rotation=45)\n",
    "\n",
    "    plt.subplot(1, 2, 2)\n",
    "    sns.countplot(x=student_preds)\n",
    "    plt.title(f'Student Model Predictions (Lambda={lmda})')\n",
    "    plt.xlabel('Class')\n",
    "    plt.ylabel('Count')\n",
    "    plt.xticks(range(len(class_names)), class_names, rotation=45)\n",
    "    plt.tight_layout()\n",
    "    plt.show()\n",
    "\n",
    "def plot_combined_confusion_matrix(all_labels, teacher_preds, student_preds, class_names, lmda):\n",
    "    cm_teacher = confusion_matrix(all_labels, teacher_preds)\n",
    "    cm_student = confusion_matrix(all_labels, student_preds)\n",
    "    plt.figure(figsize=(12, 6))\n",
    "    plt.subplot(1, 2, 1)\n",
    "    sns.heatmap(pd.DataFrame(cm_teacher, index=class_names, columns=class_names), annot=True, fmt='g')\n",
    "    plt.title(f'Teacher Confusion Matrix (Lambda={lmda})')\n",
    "    plt.ylabel('True Label')\n",
    "    plt.xlabel('Predicted Label')\n",
    "\n",
    "    plt.subplot(1, 2, 2)\n",
    "    sns.heatmap(pd.DataFrame(cm_student, index=class_names, columns=class_names), annot=True, fmt='g')\n",
    "    plt.title(f'Student Confusion Matrix (Lambda={lmda})')\n",
    "    plt.ylabel('True Label')\n",
    "    plt.xlabel('Predicted Label')\n",
    "    plt.tight_layout()\n",
    "    plt.show()\n",
    "\n",
    "# Loop over each lambda value\n",
    "for lmda in lmda_list_student:\n",
    "    # Load teacher and student models\n",
    "    teacher_model = torch.load(f'teacher_model_ckd_wider_lambda02.pth')\n",
    "    student_model = torch.load(f'student_model_ckd_wider_lambda{lmda}.pth')\n",
    "\n",
    "    # Generate predictions and compute metrics\n",
    "    performance_metrics = compare_performance_metrics(teacher_model, student_model, testloader)\n",
    "    all_labels = performance_metrics['all_labels']\n",
    "    all_teacher_preds = performance_metrics['all_teacher_preds']\n",
    "    all_student_preds = performance_metrics['all_student_preds']\n",
    "\n",
    "    # Plot distribution and confusion matrices\n",
    "    plot_combined_distribution(all_teacher_preds, all_student_preds, class_names_new, lmda)\n",
    "    plot_combined_confusion_matrix(all_labels, all_teacher_preds, all_student_preds, class_names_new, lmda)\n",
    "\n",
    "    # Print classification reports\n",
    "    teacher_report = classification_report(all_labels, all_teacher_preds, target_names=class_names_new, zero_division=0)\n",
    "    student_report = classification_report(all_labels, all_student_preds, target_names=class_names_new, zero_division=0)\n",
    "    print(f'Classification Report - Teacher Model (Lambda={lmda})')\n",
    "    print(teacher_report)\n",
    "    print(f'Classification Report - Student Model (Lambda={lmda})')\n",
    "    print(student_report)\n"
   ]
  },
  {
   "cell_type": "code",
   "execution_count": null,
   "id": "8cf516d7-2f71-4abd-b904-0e1364cca7ed",
   "metadata": {},
   "outputs": [],
   "source": [
    "def plot_bias_variance_tradeoff(model_results, model_type, lambdas):\n",
    "    # Extract bias (disparity) and accuracy values\n",
    "    if model_type == 'teacher':\n",
    "        bias_values = [result['teacher_mean_abs_val_disparity'][0] for result in model_results.values()]\n",
    "        accuracy_values = [result['performance_metrics']['metrics']['accuracy'][0] for result in model_results.values()]\n",
    "        model_name = \"Teacher\"\n",
    "    elif model_type == 'student':\n",
    "        bias_values = [result['student_mean_abs_val_disparity'] for result in model_results.values()]\n",
    "        accuracy_values = [result['performance_metrics']['metrics']['accuracy'][1] for result in model_results.values()]\n",
    "        model_name = \"Student\"\n",
    "    else:\n",
    "        raise ValueError(\"Invalid model type. Choose 'teacher' or 'student'.\")\n",
    "\n",
    "    # Weight for the trade-off (can be adjusted based on preference)\n",
    "    bias_weight = 1\n",
    "\n",
    "    # Calculate the weighted ratio\n",
    "    weighted_ratios = np.array(accuracy_values) / (1 + bias_weight * np.array(bias_values))\n",
    "    closest_to_one_index = np.argmin(np.abs(weighted_ratios - 1))\n",
    "    optimal_bias = bias_values[closest_to_one_index]\n",
    "    optimal_accuracy = accuracy_values[closest_to_one_index]\n",
    "    optimal_ratio = weighted_ratios[closest_to_one_index]\n",
    "\n",
    "    # Plotting the bias-variance trade-off curve\n",
    "    plt.plot(bias_values, accuracy_values, marker='o', linestyle='-', label=f'{model_name} Trade-off Points')\n",
    "\n",
    "    # Mark all points with their lambda values\n",
    "    for i, (bias, acc, lmbda) in enumerate(zip(bias_values, accuracy_values, lambdas)):\n",
    "        plt.annotate(f'λ={lmbda}', (bias, acc), textcoords=\"offset points\", xytext=(0,10), ha='center')\n",
    "\n",
    "    # Highlight the optimal point\n",
    "    plt.scatter(optimal_bias, optimal_accuracy, color='r', s=100, marker='X', label=f'Optimal Point (λ={lambdas[closest_to_one_index]})')\n",
    "    plt.xlabel('Disparity')\n",
    "    plt.ylabel('Accuracy')\n",
    "    plt.title(f'{model_name} Accuracy-Fairness Trade-off Curve')\n",
    "    plt.legend()\n",
    "    plt.show()\n",
    "\n",
    "    # Print optimal values\n",
    "    print(f\"Optimal Lambda for {model_name}: {lambdas[closest_to_one_index]}\")\n",
    "    print(f\"Optimal Bias/Disparity for {model_name}: {optimal_bias}\")\n",
    "    print(f\"Optimal Accuracy for {model_name}: {optimal_accuracy}\")\n",
    "    print(f\"Optimal Weighted Ratio for {model_name}: {optimal_ratio:.2f}\")\n",
    "\n",
    "# Plot for Teacher\n",
    "# plot_bias_variance_tradeoff(lambda_results, 'teacher', lmda_list)\n",
    "\n",
    "# Plot for Student\n",
    "plot_bias_variance_tradeoff(lambda_results, 'student', lmda_list_student)\n"
   ]
  },
  {
   "cell_type": "code",
   "execution_count": null,
   "id": "d2fd96b9-a3f7-4f06-9dbd-48c8f4ed8762",
   "metadata": {},
   "outputs": [],
   "source": [
    "def get_disparities_accuracies(lmda, dataloader):\n",
    "    model = torch.load(f'student_model_ckd_wider_lambda{lmda}.pth')\n",
    "    total_samples = 0\n",
    "    total_correct = 0\n",
    "    num_batches = 0.0\n",
    "    confusion_male = 0\n",
    "    confusion_female = 0\n",
    "    val_accuracies = []\n",
    "    val_disparities = []\n",
    "    with torch.no_grad():\n",
    "        for val_data in tqdm(testloader):\n",
    "            val_inputs = val_data['img'].to(device)\n",
    "            val_labels = val_data['label'].to(device)\n",
    "            val_targets = val_data['target'].to(device)\n",
    "\n",
    "            # Forward pass for validation\n",
    "            val_student_outputs = model(val_inputs)   \n",
    "\n",
    "\n",
    "            # Compute the validation accuracy\n",
    "            _, predicted = torch.max(val_student_outputs, 1)\n",
    "            total_samples += val_labels.size(0)\n",
    "            total_correct += (predicted == val_labels).sum().item()\n",
    "            num_batches += 1\n",
    "            recall_diff = evaluate_model_with_gender_multiclass(predicted, val_labels, val_targets, num_classes=num_classes)\n",
    "            confusion_male += recall_diff[1]\n",
    "            confusion_female += recall_diff[2]\n",
    "\n",
    "        confusion_male  = confusion_male/num_batches\n",
    "        confusion_female = confusion_female/num_batches\n",
    "\n",
    "        epoch_disparity = calculate_recall_multiclass(confusion_male) - calculate_recall_multiclass(confusion_female)\n",
    "        non_zero_abs_values = np.abs(epoch_disparity[epoch_disparity != 0])\n",
    "        mean_non_zero_abs_disparity = np.mean(non_zero_abs_values)\n",
    "        val_disparities.append(mean_non_zero_abs_disparity)\n",
    "        accuracy = total_correct / total_samples\n",
    "        val_accuracies.append(accuracy)\n",
    "        print(f'Lambda: {lmda}'\n",
    "        f'*****Validation Accuracy: {accuracy * 100:.2f}%*****\\n'\n",
    "        f'*****Total Avg Disparity: {mean_non_zero_abs_disparity}*****\\n')\n",
    "        class_recall_mapping = {class_name: epoch_disparity[int(class_label)] for class_label, class_name in class_idx.items()}\n",
    "\n",
    "        # Print disparities by class label\n",
    "        for class_label, recall_diff in class_recall_mapping.items():\n",
    "            print(f\"Class {class_label}: Recall Difference = {recall_diff}\")"
   ]
  },
  {
   "cell_type": "code",
   "execution_count": null,
   "id": "53aba80e",
   "metadata": {},
   "outputs": [],
   "source": [
    "for i in lmda_list_student:\n",
    "    get_disparities_accuracies(i, testloader)"
   ]
  },
  {
   "cell_type": "code",
   "execution_count": null,
   "id": "11318d89",
   "metadata": {},
   "outputs": [],
   "source": []
  }
 ],
 "metadata": {
  "kernelspec": {
   "display_name": "Python 3 (ipykernel)",
   "language": "python",
   "name": "python3"
  },
  "language_info": {
   "codemirror_mode": {
    "name": "ipython",
    "version": 3
   },
   "file_extension": ".py",
   "mimetype": "text/x-python",
   "name": "python",
   "nbconvert_exporter": "python",
   "pygments_lexer": "ipython3",
   "version": "3.10.9"
  }
 },
 "nbformat": 4,
 "nbformat_minor": 5
}
