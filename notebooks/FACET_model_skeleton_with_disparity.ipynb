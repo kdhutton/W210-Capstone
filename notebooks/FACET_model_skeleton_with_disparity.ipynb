{
 "cells": [
  {
   "cell_type": "code",
   "execution_count": 1,
   "id": "b75b68a7-5330-4b64-805d-3fe0e0064a4e",
   "metadata": {},
   "outputs": [
    {
     "name": "stdout",
     "output_type": "stream",
     "text": [
      "Requirement already satisfied: torch in /usr/local/lib/python3.8/dist-packages (2.1.0)\n",
      "Requirement already satisfied: filelock in /usr/local/lib/python3.8/dist-packages (from torch) (3.12.4)\n",
      "Requirement already satisfied: typing-extensions in /usr/local/lib/python3.8/dist-packages (from torch) (4.8.0)\n",
      "Requirement already satisfied: sympy in /usr/local/lib/python3.8/dist-packages (from torch) (1.12)\n",
      "Requirement already satisfied: networkx in /usr/local/lib/python3.8/dist-packages (from torch) (3.1)\n",
      "Requirement already satisfied: jinja2 in /usr/local/lib/python3.8/dist-packages (from torch) (3.1.2)\n",
      "Requirement already satisfied: fsspec in /usr/local/lib/python3.8/dist-packages (from torch) (2023.9.2)\n",
      "Requirement already satisfied: nvidia-cuda-nvrtc-cu12==12.1.105 in /usr/local/lib/python3.8/dist-packages (from torch) (12.1.105)\n",
      "Requirement already satisfied: nvidia-cuda-runtime-cu12==12.1.105 in /usr/local/lib/python3.8/dist-packages (from torch) (12.1.105)\n",
      "Requirement already satisfied: nvidia-cuda-cupti-cu12==12.1.105 in /usr/local/lib/python3.8/dist-packages (from torch) (12.1.105)\n",
      "Requirement already satisfied: nvidia-cudnn-cu12==8.9.2.26 in /usr/local/lib/python3.8/dist-packages (from torch) (8.9.2.26)\n",
      "Requirement already satisfied: nvidia-cublas-cu12==12.1.3.1 in /usr/local/lib/python3.8/dist-packages (from torch) (12.1.3.1)\n",
      "Requirement already satisfied: nvidia-cufft-cu12==11.0.2.54 in /usr/local/lib/python3.8/dist-packages (from torch) (11.0.2.54)\n",
      "Requirement already satisfied: nvidia-curand-cu12==10.3.2.106 in /usr/local/lib/python3.8/dist-packages (from torch) (10.3.2.106)\n",
      "Requirement already satisfied: nvidia-cusolver-cu12==11.4.5.107 in /usr/local/lib/python3.8/dist-packages (from torch) (11.4.5.107)\n",
      "Requirement already satisfied: nvidia-cusparse-cu12==12.1.0.106 in /usr/local/lib/python3.8/dist-packages (from torch) (12.1.0.106)\n",
      "Requirement already satisfied: nvidia-nccl-cu12==2.18.1 in /usr/local/lib/python3.8/dist-packages (from torch) (2.18.1)\n",
      "Requirement already satisfied: nvidia-nvtx-cu12==12.1.105 in /usr/local/lib/python3.8/dist-packages (from torch) (12.1.105)\n",
      "Requirement already satisfied: triton==2.1.0 in /usr/local/lib/python3.8/dist-packages (from torch) (2.1.0)\n",
      "Requirement already satisfied: nvidia-nvjitlink-cu12 in /usr/local/lib/python3.8/dist-packages (from nvidia-cusolver-cu12==11.4.5.107->torch) (12.2.140)\n",
      "Requirement already satisfied: MarkupSafe>=2.0 in /usr/local/lib/python3.8/dist-packages (from jinja2->torch) (2.1.3)\n",
      "Requirement already satisfied: mpmath>=0.19 in /usr/local/lib/python3.8/dist-packages (from sympy->torch) (1.3.0)\n",
      "\u001b[33mDEPRECATION: devscripts 2.20.2ubuntu2 has a non-standard version number. pip 23.3 will enforce this behaviour change. A possible replacement is to upgrade to a newer version of devscripts or contact the author to suggest that they release a version with a conforming version number. Discussion can be found at https://github.com/pypa/pip/issues/12063\u001b[0m\u001b[33m\n",
      "\u001b[0m\u001b[33mWARNING: Running pip as the 'root' user can result in broken permissions and conflicting behaviour with the system package manager. It is recommended to use a virtual environment instead: https://pip.pypa.io/warnings/venv\u001b[0m\u001b[33m\n",
      "\u001b[0m\n",
      "\u001b[1m[\u001b[0m\u001b[34;49mnotice\u001b[0m\u001b[1;39;49m]\u001b[0m\u001b[39;49m A new release of pip is available: \u001b[0m\u001b[31;49m23.2.1\u001b[0m\u001b[39;49m -> \u001b[0m\u001b[32;49m23.3\u001b[0m\n",
      "\u001b[1m[\u001b[0m\u001b[34;49mnotice\u001b[0m\u001b[1;39;49m]\u001b[0m\u001b[39;49m To update, run: \u001b[0m\u001b[32;49mpython3 -m pip install --upgrade pip\u001b[0m\n",
      "Requirement already satisfied: pandas in /usr/local/lib/python3.8/dist-packages (2.0.3)\n",
      "Requirement already satisfied: python-dateutil>=2.8.2 in /usr/local/lib/python3.8/dist-packages (from pandas) (2.8.2)\n",
      "Requirement already satisfied: pytz>=2020.1 in /usr/local/lib/python3.8/dist-packages (from pandas) (2023.3.post1)\n",
      "Requirement already satisfied: tzdata>=2022.1 in /usr/local/lib/python3.8/dist-packages (from pandas) (2023.3)\n",
      "Requirement already satisfied: numpy>=1.20.3 in /usr/local/lib/python3.8/dist-packages (from pandas) (1.24.4)\n",
      "Requirement already satisfied: six>=1.5 in /usr/lib/python3/dist-packages (from python-dateutil>=2.8.2->pandas) (1.14.0)\n",
      "\u001b[33mDEPRECATION: devscripts 2.20.2ubuntu2 has a non-standard version number. pip 23.3 will enforce this behaviour change. A possible replacement is to upgrade to a newer version of devscripts or contact the author to suggest that they release a version with a conforming version number. Discussion can be found at https://github.com/pypa/pip/issues/12063\u001b[0m\u001b[33m\n",
      "\u001b[0m\u001b[33mWARNING: Running pip as the 'root' user can result in broken permissions and conflicting behaviour with the system package manager. It is recommended to use a virtual environment instead: https://pip.pypa.io/warnings/venv\u001b[0m\u001b[33m\n",
      "\u001b[0m\n",
      "\u001b[1m[\u001b[0m\u001b[34;49mnotice\u001b[0m\u001b[1;39;49m]\u001b[0m\u001b[39;49m A new release of pip is available: \u001b[0m\u001b[31;49m23.2.1\u001b[0m\u001b[39;49m -> \u001b[0m\u001b[32;49m23.3\u001b[0m\n",
      "\u001b[1m[\u001b[0m\u001b[34;49mnotice\u001b[0m\u001b[1;39;49m]\u001b[0m\u001b[39;49m To update, run: \u001b[0m\u001b[32;49mpython3 -m pip install --upgrade pip\u001b[0m\n",
      "Requirement already satisfied: scikit-image in /usr/local/lib/python3.8/dist-packages (0.21.0)\n",
      "Requirement already satisfied: numpy>=1.21.1 in /usr/local/lib/python3.8/dist-packages (from scikit-image) (1.24.4)\n",
      "Requirement already satisfied: scipy>=1.8 in /usr/local/lib/python3.8/dist-packages (from scikit-image) (1.10.1)\n",
      "Requirement already satisfied: networkx>=2.8 in /usr/local/lib/python3.8/dist-packages (from scikit-image) (3.1)\n",
      "Requirement already satisfied: pillow>=9.0.1 in /usr/local/lib/python3.8/dist-packages (from scikit-image) (10.1.0)\n",
      "Requirement already satisfied: imageio>=2.27 in /usr/local/lib/python3.8/dist-packages (from scikit-image) (2.31.5)\n",
      "Requirement already satisfied: tifffile>=2022.8.12 in /usr/local/lib/python3.8/dist-packages (from scikit-image) (2023.7.10)\n",
      "Requirement already satisfied: PyWavelets>=1.1.1 in /usr/local/lib/python3.8/dist-packages (from scikit-image) (1.4.1)\n",
      "Requirement already satisfied: packaging>=21 in /usr/local/lib/python3.8/dist-packages (from scikit-image) (23.2)\n",
      "Requirement already satisfied: lazy_loader>=0.2 in /usr/local/lib/python3.8/dist-packages (from scikit-image) (0.3)\n",
      "\u001b[33mDEPRECATION: devscripts 2.20.2ubuntu2 has a non-standard version number. pip 23.3 will enforce this behaviour change. A possible replacement is to upgrade to a newer version of devscripts or contact the author to suggest that they release a version with a conforming version number. Discussion can be found at https://github.com/pypa/pip/issues/12063\u001b[0m\u001b[33m\n",
      "\u001b[0m\u001b[33mWARNING: Running pip as the 'root' user can result in broken permissions and conflicting behaviour with the system package manager. It is recommended to use a virtual environment instead: https://pip.pypa.io/warnings/venv\u001b[0m\u001b[33m\n",
      "\u001b[0m\n",
      "\u001b[1m[\u001b[0m\u001b[34;49mnotice\u001b[0m\u001b[1;39;49m]\u001b[0m\u001b[39;49m A new release of pip is available: \u001b[0m\u001b[31;49m23.2.1\u001b[0m\u001b[39;49m -> \u001b[0m\u001b[32;49m23.3\u001b[0m\n",
      "\u001b[1m[\u001b[0m\u001b[34;49mnotice\u001b[0m\u001b[1;39;49m]\u001b[0m\u001b[39;49m To update, run: \u001b[0m\u001b[32;49mpython3 -m pip install --upgrade pip\u001b[0m\n",
      "Requirement already satisfied: scikit-learn in /usr/local/lib/python3.8/dist-packages (1.3.1)\n",
      "Requirement already satisfied: numpy<2.0,>=1.17.3 in /usr/local/lib/python3.8/dist-packages (from scikit-learn) (1.24.4)\n",
      "Requirement already satisfied: scipy>=1.5.0 in /usr/local/lib/python3.8/dist-packages (from scikit-learn) (1.10.1)\n",
      "Requirement already satisfied: joblib>=1.1.1 in /usr/local/lib/python3.8/dist-packages (from scikit-learn) (1.3.2)\n",
      "Requirement already satisfied: threadpoolctl>=2.0.0 in /usr/local/lib/python3.8/dist-packages (from scikit-learn) (3.2.0)\n",
      "\u001b[33mDEPRECATION: devscripts 2.20.2ubuntu2 has a non-standard version number. pip 23.3 will enforce this behaviour change. A possible replacement is to upgrade to a newer version of devscripts or contact the author to suggest that they release a version with a conforming version number. Discussion can be found at https://github.com/pypa/pip/issues/12063\u001b[0m\u001b[33m\n",
      "\u001b[0m\u001b[33mWARNING: Running pip as the 'root' user can result in broken permissions and conflicting behaviour with the system package manager. It is recommended to use a virtual environment instead: https://pip.pypa.io/warnings/venv\u001b[0m\u001b[33m\n",
      "\u001b[0m\n",
      "\u001b[1m[\u001b[0m\u001b[34;49mnotice\u001b[0m\u001b[1;39;49m]\u001b[0m\u001b[39;49m A new release of pip is available: \u001b[0m\u001b[31;49m23.2.1\u001b[0m\u001b[39;49m -> \u001b[0m\u001b[32;49m23.3\u001b[0m\n",
      "\u001b[1m[\u001b[0m\u001b[34;49mnotice\u001b[0m\u001b[1;39;49m]\u001b[0m\u001b[39;49m To update, run: \u001b[0m\u001b[32;49mpython3 -m pip install --upgrade pip\u001b[0m\n",
      "Requirement already satisfied: matplotlib in /usr/local/lib/python3.8/dist-packages (3.7.3)\n",
      "Requirement already satisfied: contourpy>=1.0.1 in /usr/local/lib/python3.8/dist-packages (from matplotlib) (1.1.1)\n",
      "Requirement already satisfied: cycler>=0.10 in /usr/local/lib/python3.8/dist-packages (from matplotlib) (0.12.1)\n",
      "Requirement already satisfied: fonttools>=4.22.0 in /usr/local/lib/python3.8/dist-packages (from matplotlib) (4.43.1)\n",
      "Requirement already satisfied: kiwisolver>=1.0.1 in /usr/local/lib/python3.8/dist-packages (from matplotlib) (1.4.5)\n",
      "Requirement already satisfied: numpy<2,>=1.20 in /usr/local/lib/python3.8/dist-packages (from matplotlib) (1.24.4)\n",
      "Requirement already satisfied: packaging>=20.0 in /usr/local/lib/python3.8/dist-packages (from matplotlib) (23.2)\n",
      "Requirement already satisfied: pillow>=6.2.0 in /usr/local/lib/python3.8/dist-packages (from matplotlib) (10.1.0)\n",
      "Requirement already satisfied: pyparsing>=2.3.1 in /usr/local/lib/python3.8/dist-packages (from matplotlib) (3.1.1)\n",
      "Requirement already satisfied: python-dateutil>=2.7 in /usr/local/lib/python3.8/dist-packages (from matplotlib) (2.8.2)\n",
      "Requirement already satisfied: importlib-resources>=3.2.0 in /usr/local/lib/python3.8/dist-packages (from matplotlib) (6.1.0)\n",
      "Requirement already satisfied: zipp>=3.1.0 in /usr/local/lib/python3.8/dist-packages (from importlib-resources>=3.2.0->matplotlib) (3.17.0)\n",
      "Requirement already satisfied: six>=1.5 in /usr/lib/python3/dist-packages (from python-dateutil>=2.7->matplotlib) (1.14.0)\n",
      "\u001b[33mDEPRECATION: devscripts 2.20.2ubuntu2 has a non-standard version number. pip 23.3 will enforce this behaviour change. A possible replacement is to upgrade to a newer version of devscripts or contact the author to suggest that they release a version with a conforming version number. Discussion can be found at https://github.com/pypa/pip/issues/12063\u001b[0m\u001b[33m\n",
      "\u001b[0m\u001b[33mWARNING: Running pip as the 'root' user can result in broken permissions and conflicting behaviour with the system package manager. It is recommended to use a virtual environment instead: https://pip.pypa.io/warnings/venv\u001b[0m\u001b[33m\n",
      "\u001b[0m\n",
      "\u001b[1m[\u001b[0m\u001b[34;49mnotice\u001b[0m\u001b[1;39;49m]\u001b[0m\u001b[39;49m A new release of pip is available: \u001b[0m\u001b[31;49m23.2.1\u001b[0m\u001b[39;49m -> \u001b[0m\u001b[32;49m23.3\u001b[0m\n",
      "\u001b[1m[\u001b[0m\u001b[34;49mnotice\u001b[0m\u001b[1;39;49m]\u001b[0m\u001b[39;49m To update, run: \u001b[0m\u001b[32;49mpython3 -m pip install --upgrade pip\u001b[0m\n",
      "Requirement already satisfied: torchvision in /usr/local/lib/python3.8/dist-packages (0.16.0)\n",
      "Requirement already satisfied: numpy in /usr/local/lib/python3.8/dist-packages (from torchvision) (1.24.4)\n",
      "Requirement already satisfied: requests in /usr/local/lib/python3.8/dist-packages (from torchvision) (2.31.0)\n",
      "Requirement already satisfied: torch==2.1.0 in /usr/local/lib/python3.8/dist-packages (from torchvision) (2.1.0)\n",
      "Requirement already satisfied: pillow!=8.3.*,>=5.3.0 in /usr/local/lib/python3.8/dist-packages (from torchvision) (10.1.0)\n",
      "Requirement already satisfied: filelock in /usr/local/lib/python3.8/dist-packages (from torch==2.1.0->torchvision) (3.12.4)\n",
      "Requirement already satisfied: typing-extensions in /usr/local/lib/python3.8/dist-packages (from torch==2.1.0->torchvision) (4.8.0)\n",
      "Requirement already satisfied: sympy in /usr/local/lib/python3.8/dist-packages (from torch==2.1.0->torchvision) (1.12)\n",
      "Requirement already satisfied: networkx in /usr/local/lib/python3.8/dist-packages (from torch==2.1.0->torchvision) (3.1)\n",
      "Requirement already satisfied: jinja2 in /usr/local/lib/python3.8/dist-packages (from torch==2.1.0->torchvision) (3.1.2)\n",
      "Requirement already satisfied: fsspec in /usr/local/lib/python3.8/dist-packages (from torch==2.1.0->torchvision) (2023.9.2)\n",
      "Requirement already satisfied: nvidia-cuda-nvrtc-cu12==12.1.105 in /usr/local/lib/python3.8/dist-packages (from torch==2.1.0->torchvision) (12.1.105)\n",
      "Requirement already satisfied: nvidia-cuda-runtime-cu12==12.1.105 in /usr/local/lib/python3.8/dist-packages (from torch==2.1.0->torchvision) (12.1.105)\n",
      "Requirement already satisfied: nvidia-cuda-cupti-cu12==12.1.105 in /usr/local/lib/python3.8/dist-packages (from torch==2.1.0->torchvision) (12.1.105)\n",
      "Requirement already satisfied: nvidia-cudnn-cu12==8.9.2.26 in /usr/local/lib/python3.8/dist-packages (from torch==2.1.0->torchvision) (8.9.2.26)\n",
      "Requirement already satisfied: nvidia-cublas-cu12==12.1.3.1 in /usr/local/lib/python3.8/dist-packages (from torch==2.1.0->torchvision) (12.1.3.1)\n",
      "Requirement already satisfied: nvidia-cufft-cu12==11.0.2.54 in /usr/local/lib/python3.8/dist-packages (from torch==2.1.0->torchvision) (11.0.2.54)\n",
      "Requirement already satisfied: nvidia-curand-cu12==10.3.2.106 in /usr/local/lib/python3.8/dist-packages (from torch==2.1.0->torchvision) (10.3.2.106)\n",
      "Requirement already satisfied: nvidia-cusolver-cu12==11.4.5.107 in /usr/local/lib/python3.8/dist-packages (from torch==2.1.0->torchvision) (11.4.5.107)\n",
      "Requirement already satisfied: nvidia-cusparse-cu12==12.1.0.106 in /usr/local/lib/python3.8/dist-packages (from torch==2.1.0->torchvision) (12.1.0.106)\n",
      "Requirement already satisfied: nvidia-nccl-cu12==2.18.1 in /usr/local/lib/python3.8/dist-packages (from torch==2.1.0->torchvision) (2.18.1)\n",
      "Requirement already satisfied: nvidia-nvtx-cu12==12.1.105 in /usr/local/lib/python3.8/dist-packages (from torch==2.1.0->torchvision) (12.1.105)\n",
      "Requirement already satisfied: triton==2.1.0 in /usr/local/lib/python3.8/dist-packages (from torch==2.1.0->torchvision) (2.1.0)\n",
      "Requirement already satisfied: nvidia-nvjitlink-cu12 in /usr/local/lib/python3.8/dist-packages (from nvidia-cusolver-cu12==11.4.5.107->torch==2.1.0->torchvision) (12.2.140)\n",
      "Requirement already satisfied: charset-normalizer<4,>=2 in /usr/local/lib/python3.8/dist-packages (from requests->torchvision) (3.3.0)\n",
      "Requirement already satisfied: idna<4,>=2.5 in /usr/lib/python3/dist-packages (from requests->torchvision) (2.8)\n",
      "Requirement already satisfied: urllib3<3,>=1.21.1 in /usr/lib/python3/dist-packages (from requests->torchvision) (1.25.8)\n",
      "Requirement already satisfied: certifi>=2017.4.17 in /usr/lib/python3/dist-packages (from requests->torchvision) (2019.11.28)\n",
      "Requirement already satisfied: MarkupSafe>=2.0 in /usr/local/lib/python3.8/dist-packages (from jinja2->torch==2.1.0->torchvision) (2.1.3)\n",
      "Requirement already satisfied: mpmath>=0.19 in /usr/local/lib/python3.8/dist-packages (from sympy->torch==2.1.0->torchvision) (1.3.0)\n",
      "\u001b[33mDEPRECATION: devscripts 2.20.2ubuntu2 has a non-standard version number. pip 23.3 will enforce this behaviour change. A possible replacement is to upgrade to a newer version of devscripts or contact the author to suggest that they release a version with a conforming version number. Discussion can be found at https://github.com/pypa/pip/issues/12063\u001b[0m\u001b[33m\n",
      "\u001b[0m\u001b[33mWARNING: Running pip as the 'root' user can result in broken permissions and conflicting behaviour with the system package manager. It is recommended to use a virtual environment instead: https://pip.pypa.io/warnings/venv\u001b[0m\u001b[33m\n",
      "\u001b[0m\n",
      "\u001b[1m[\u001b[0m\u001b[34;49mnotice\u001b[0m\u001b[1;39;49m]\u001b[0m\u001b[39;49m A new release of pip is available: \u001b[0m\u001b[31;49m23.2.1\u001b[0m\u001b[39;49m -> \u001b[0m\u001b[32;49m23.3\u001b[0m\n",
      "\u001b[1m[\u001b[0m\u001b[34;49mnotice\u001b[0m\u001b[1;39;49m]\u001b[0m\u001b[39;49m To update, run: \u001b[0m\u001b[32;49mpython3 -m pip install --upgrade pip\u001b[0m\n",
      "Requirement already satisfied: s3fs in /usr/local/lib/python3.8/dist-packages (2023.9.2)\n",
      "Requirement already satisfied: aiobotocore~=2.5.4 in /usr/local/lib/python3.8/dist-packages (from s3fs) (2.5.4)\n",
      "Requirement already satisfied: fsspec==2023.9.2 in /usr/local/lib/python3.8/dist-packages (from s3fs) (2023.9.2)\n",
      "Requirement already satisfied: aiohttp!=4.0.0a0,!=4.0.0a1 in /usr/local/lib/python3.8/dist-packages (from s3fs) (3.8.6)\n",
      "Collecting botocore<1.31.18,>=1.31.17 (from aiobotocore~=2.5.4->s3fs)\n",
      "  Obtaining dependency information for botocore<1.31.18,>=1.31.17 from https://files.pythonhosted.org/packages/3d/e5/32a88f5a95e3d43c2e3ed86fc1ffdb715547a04f95a51d00e1185af63b0c/botocore-1.31.17-py3-none-any.whl.metadata\n",
      "  Using cached botocore-1.31.17-py3-none-any.whl.metadata (5.9 kB)\n",
      "Requirement already satisfied: wrapt<2.0.0,>=1.10.10 in /usr/local/lib/python3.8/dist-packages (from aiobotocore~=2.5.4->s3fs) (1.15.0)\n",
      "Requirement already satisfied: aioitertools<1.0.0,>=0.5.1 in /usr/local/lib/python3.8/dist-packages (from aiobotocore~=2.5.4->s3fs) (0.11.0)\n",
      "Requirement already satisfied: attrs>=17.3.0 in /usr/local/lib/python3.8/dist-packages (from aiohttp!=4.0.0a0,!=4.0.0a1->s3fs) (23.1.0)\n",
      "Requirement already satisfied: charset-normalizer<4.0,>=2.0 in /usr/local/lib/python3.8/dist-packages (from aiohttp!=4.0.0a0,!=4.0.0a1->s3fs) (3.3.0)\n",
      "Requirement already satisfied: multidict<7.0,>=4.5 in /usr/local/lib/python3.8/dist-packages (from aiohttp!=4.0.0a0,!=4.0.0a1->s3fs) (6.0.4)\n",
      "Requirement already satisfied: async-timeout<5.0,>=4.0.0a3 in /usr/local/lib/python3.8/dist-packages (from aiohttp!=4.0.0a0,!=4.0.0a1->s3fs) (4.0.3)\n",
      "Requirement already satisfied: yarl<2.0,>=1.0 in /usr/local/lib/python3.8/dist-packages (from aiohttp!=4.0.0a0,!=4.0.0a1->s3fs) (1.9.2)\n",
      "Requirement already satisfied: frozenlist>=1.1.1 in /usr/local/lib/python3.8/dist-packages (from aiohttp!=4.0.0a0,!=4.0.0a1->s3fs) (1.4.0)\n",
      "Requirement already satisfied: aiosignal>=1.1.2 in /usr/local/lib/python3.8/dist-packages (from aiohttp!=4.0.0a0,!=4.0.0a1->s3fs) (1.3.1)\n",
      "Requirement already satisfied: typing_extensions>=4.0 in /usr/local/lib/python3.8/dist-packages (from aioitertools<1.0.0,>=0.5.1->aiobotocore~=2.5.4->s3fs) (4.8.0)\n",
      "Requirement already satisfied: jmespath<2.0.0,>=0.7.1 in /usr/local/lib/python3.8/dist-packages (from botocore<1.31.18,>=1.31.17->aiobotocore~=2.5.4->s3fs) (1.0.1)\n",
      "Requirement already satisfied: python-dateutil<3.0.0,>=2.1 in /usr/local/lib/python3.8/dist-packages (from botocore<1.31.18,>=1.31.17->aiobotocore~=2.5.4->s3fs) (2.8.2)\n",
      "Requirement already satisfied: urllib3<1.27,>=1.25.4 in /usr/lib/python3/dist-packages (from botocore<1.31.18,>=1.31.17->aiobotocore~=2.5.4->s3fs) (1.25.8)\n",
      "Requirement already satisfied: idna>=2.0 in /usr/lib/python3/dist-packages (from yarl<2.0,>=1.0->aiohttp!=4.0.0a0,!=4.0.0a1->s3fs) (2.8)\n",
      "Requirement already satisfied: six>=1.5 in /usr/lib/python3/dist-packages (from python-dateutil<3.0.0,>=2.1->botocore<1.31.18,>=1.31.17->aiobotocore~=2.5.4->s3fs) (1.14.0)\n",
      "Using cached botocore-1.31.17-py3-none-any.whl (11.1 MB)\n",
      "\u001b[33mDEPRECATION: devscripts 2.20.2ubuntu2 has a non-standard version number. pip 23.3 will enforce this behaviour change. A possible replacement is to upgrade to a newer version of devscripts or contact the author to suggest that they release a version with a conforming version number. Discussion can be found at https://github.com/pypa/pip/issues/12063\u001b[0m\u001b[33m\n",
      "\u001b[0mInstalling collected packages: botocore\n",
      "  Attempting uninstall: botocore\n",
      "    Found existing installation: botocore 1.31.66\n",
      "    Uninstalling botocore-1.31.66:\n",
      "      Successfully uninstalled botocore-1.31.66\n",
      "\u001b[31mERROR: pip's dependency resolver does not currently take into account all the packages that are installed. This behaviour is the source of the following dependency conflicts.\n",
      "awscli 1.29.58 requires botocore==1.31.58, but you have botocore 1.31.17 which is incompatible.\n",
      "boto3 1.28.65 requires botocore<1.32.0,>=1.31.65, but you have botocore 1.31.17 which is incompatible.\u001b[0m\u001b[31m\n",
      "\u001b[0mSuccessfully installed botocore-1.31.17\n",
      "\u001b[33mWARNING: Running pip as the 'root' user can result in broken permissions and conflicting behaviour with the system package manager. It is recommended to use a virtual environment instead: https://pip.pypa.io/warnings/venv\u001b[0m\u001b[33m\n",
      "\u001b[0m\n",
      "\u001b[1m[\u001b[0m\u001b[34;49mnotice\u001b[0m\u001b[1;39;49m]\u001b[0m\u001b[39;49m A new release of pip is available: \u001b[0m\u001b[31;49m23.2.1\u001b[0m\u001b[39;49m -> \u001b[0m\u001b[32;49m23.3\u001b[0m\n",
      "\u001b[1m[\u001b[0m\u001b[34;49mnotice\u001b[0m\u001b[1;39;49m]\u001b[0m\u001b[39;49m To update, run: \u001b[0m\u001b[32;49mpython3 -m pip install --upgrade pip\u001b[0m\n",
      "Requirement already satisfied: boto3 in /usr/local/lib/python3.8/dist-packages (1.28.65)\n",
      "Collecting botocore<1.32.0,>=1.31.65 (from boto3)\n",
      "  Obtaining dependency information for botocore<1.32.0,>=1.31.65 from https://files.pythonhosted.org/packages/9f/85/66f93685c7006f32617ba74eaa984ce0fbf8b13312e6255887e509e4a036/botocore-1.31.66-py3-none-any.whl.metadata\n",
      "  Using cached botocore-1.31.66-py3-none-any.whl.metadata (6.1 kB)\n",
      "Requirement already satisfied: jmespath<2.0.0,>=0.7.1 in /usr/local/lib/python3.8/dist-packages (from boto3) (1.0.1)\n",
      "Requirement already satisfied: s3transfer<0.8.0,>=0.7.0 in /usr/local/lib/python3.8/dist-packages (from boto3) (0.7.0)\n",
      "Requirement already satisfied: python-dateutil<3.0.0,>=2.1 in /usr/local/lib/python3.8/dist-packages (from botocore<1.32.0,>=1.31.65->boto3) (2.8.2)\n",
      "Requirement already satisfied: urllib3<1.27,>=1.25.4 in /usr/lib/python3/dist-packages (from botocore<1.32.0,>=1.31.65->boto3) (1.25.8)\n",
      "Requirement already satisfied: six>=1.5 in /usr/lib/python3/dist-packages (from python-dateutil<3.0.0,>=2.1->botocore<1.32.0,>=1.31.65->boto3) (1.14.0)\n",
      "Using cached botocore-1.31.66-py3-none-any.whl (11.3 MB)\n",
      "\u001b[33mDEPRECATION: devscripts 2.20.2ubuntu2 has a non-standard version number. pip 23.3 will enforce this behaviour change. A possible replacement is to upgrade to a newer version of devscripts or contact the author to suggest that they release a version with a conforming version number. Discussion can be found at https://github.com/pypa/pip/issues/12063\u001b[0m\u001b[33m\n",
      "\u001b[0mInstalling collected packages: botocore\n",
      "  Attempting uninstall: botocore\n",
      "    Found existing installation: botocore 1.31.17\n",
      "    Uninstalling botocore-1.31.17:\n",
      "      Successfully uninstalled botocore-1.31.17\n",
      "\u001b[31mERROR: pip's dependency resolver does not currently take into account all the packages that are installed. This behaviour is the source of the following dependency conflicts.\n",
      "aiobotocore 2.5.4 requires botocore<1.31.18,>=1.31.17, but you have botocore 1.31.66 which is incompatible.\n",
      "awscli 1.29.58 requires botocore==1.31.58, but you have botocore 1.31.66 which is incompatible.\u001b[0m\u001b[31m\n",
      "\u001b[0mSuccessfully installed botocore-1.31.66\n",
      "\u001b[33mWARNING: Running pip as the 'root' user can result in broken permissions and conflicting behaviour with the system package manager. It is recommended to use a virtual environment instead: https://pip.pypa.io/warnings/venv\u001b[0m\u001b[33m\n",
      "\u001b[0m\n",
      "\u001b[1m[\u001b[0m\u001b[34;49mnotice\u001b[0m\u001b[1;39;49m]\u001b[0m\u001b[39;49m A new release of pip is available: \u001b[0m\u001b[31;49m23.2.1\u001b[0m\u001b[39;49m -> \u001b[0m\u001b[32;49m23.3\u001b[0m\n",
      "\u001b[1m[\u001b[0m\u001b[34;49mnotice\u001b[0m\u001b[1;39;49m]\u001b[0m\u001b[39;49m To update, run: \u001b[0m\u001b[32;49mpython3 -m pip install --upgrade pip\u001b[0m\n",
      "Requirement already satisfied: tqdm in /usr/local/lib/python3.8/dist-packages (4.66.1)\n",
      "\u001b[33mDEPRECATION: devscripts 2.20.2ubuntu2 has a non-standard version number. pip 23.3 will enforce this behaviour change. A possible replacement is to upgrade to a newer version of devscripts or contact the author to suggest that they release a version with a conforming version number. Discussion can be found at https://github.com/pypa/pip/issues/12063\u001b[0m\u001b[33m\n",
      "\u001b[0m\u001b[33mWARNING: Running pip as the 'root' user can result in broken permissions and conflicting behaviour with the system package manager. It is recommended to use a virtual environment instead: https://pip.pypa.io/warnings/venv\u001b[0m\u001b[33m\n",
      "\u001b[0m\n",
      "\u001b[1m[\u001b[0m\u001b[34;49mnotice\u001b[0m\u001b[1;39;49m]\u001b[0m\u001b[39;49m A new release of pip is available: \u001b[0m\u001b[31;49m23.2.1\u001b[0m\u001b[39;49m -> \u001b[0m\u001b[32;49m23.3\u001b[0m\n",
      "\u001b[1m[\u001b[0m\u001b[34;49mnotice\u001b[0m\u001b[1;39;49m]\u001b[0m\u001b[39;49m To update, run: \u001b[0m\u001b[32;49mpython3 -m pip install --upgrade pip\u001b[0m\n"
     ]
    }
   ],
   "source": [
    "# install for AWS\n",
    "!pip install torch\n",
    "!pip install pandas\n",
    "!pip install scikit-image\n",
    "!pip install scikit-learn\n",
    "!pip install matplotlib\n",
    "!pip install torchvision\n",
    "!pip install s3fs\n",
    "!pip install boto3\n",
    "!pip install tqdm\n",
    "# !pip install fiftyone"
   ]
  },
  {
   "cell_type": "code",
   "execution_count": 2,
   "id": "0d921d67",
   "metadata": {},
   "outputs": [
    {
     "data": {
      "text/plain": [
       "<contextlib.ExitStack at 0x7f5a45b3f310>"
      ]
     },
     "execution_count": 2,
     "metadata": {},
     "output_type": "execute_result"
    }
   ],
   "source": [
    "import os\n",
    "import torch\n",
    "import tarfile\n",
    "import shutil\n",
    "import torchvision\n",
    "import random\n",
    "import warnings\n",
    "import boto3\n",
    "import s3fs\n",
    "import io\n",
    "import time\n",
    "import botocore.exceptions\n",
    "import matplotlib.pyplot as plt\n",
    "import pandas as pd\n",
    "import numpy as np\n",
    "import torch.nn.functional as F\n",
    "\n",
    "from skimage import io, transform\n",
    "from sklearn.model_selection import train_test_split\n",
    "from sklearn.preprocessing import LabelEncoder\n",
    "from sklearn.metrics import accuracy_score, precision_score, recall_score, f1_score\n",
    "from PIL import Image\n",
    "from torch.utils.data import Dataset, DataLoader\n",
    "from torch.utils.data.sampler import SubsetRandomSampler\n",
    "from torchvision import transforms, utils, models, datasets\n",
    "from io import BytesIO\n",
    "from torch import nn, optim\n",
    "from tqdm import tqdm\n",
    "\n",
    "warnings.filterwarnings(\"ignore\")\n",
    "\n",
    "plt.ion()   # interactive mode\n",
    "\n",
    "# import fiftyone as fo\n",
    "# import fiftyone.brain as fob\n",
    "# import fiftyone.zoo as foz\n",
    "# from fiftyone import ViewField as F"
   ]
  },
  {
   "cell_type": "markdown",
   "id": "35460ff2-00fb-4177-8dba-7eb46accc65f",
   "metadata": {},
   "source": [
    "# Define Hyperparams"
   ]
  },
  {
   "cell_type": "code",
   "execution_count": 3,
   "id": "c292eb58-f5d2-4b65-99b7-1146031d6a25",
   "metadata": {},
   "outputs": [],
   "source": [
    "batch_size = 32\n",
    "learning_rate = 0.001\n",
    "fine_tune_learning_rate = learning_rate / 10\n",
    "num_classes = 52\n",
    "num_epochs = 3\n",
    "fine_tune_epochs = 3\n",
    "disparity_weight = 0.1\n",
    "alpha = 0.5\n",
    "temperature = 5.0"
   ]
  },
  {
   "cell_type": "markdown",
   "id": "9291892c",
   "metadata": {},
   "source": [
    "# Load, Transform, and Split Data"
   ]
  },
  {
   "cell_type": "code",
   "execution_count": 4,
   "id": "fcf02a7f-5d9d-45aa-b048-0b82e5f96627",
   "metadata": {},
   "outputs": [],
   "source": [
    "# Initialize S3 client\n",
    "s3_client = boto3.client('s3', region_name='us-west-2')"
   ]
  },
  {
   "cell_type": "code",
   "execution_count": 5,
   "id": "151506f8-ee9b-4e93-9288-f5c9294b54f6",
   "metadata": {},
   "outputs": [],
   "source": [
    "# Define the S3 bucket name and prefixes\n",
    "bucket_name = 'w210facetdata'\n",
    "annotations_prefix = 'annotations/'\n",
    "images_prefix = 'images/'"
   ]
  },
  {
   "cell_type": "code",
   "execution_count": 6,
   "id": "1e8f2565-feba-45cc-ae23-2423efa4555a",
   "metadata": {},
   "outputs": [],
   "source": [
    "# Load CSV annotations from S3\n",
    "annotations_s3_path = f's3://{bucket_name}/{annotations_prefix}annotations.csv'\n",
    "df = pd.read_csv(annotations_s3_path)"
   ]
  },
  {
   "cell_type": "code",
   "execution_count": 7,
   "id": "8c7160d4",
   "metadata": {},
   "outputs": [],
   "source": [
    "# Extracting unique class labels from the 'class1' column\n",
    "classes = df['class1'].unique()\n",
    "\n",
    "# Creating a mapping from index to class label\n",
    "idx_to_class = {i: j for i, j in enumerate(classes)}\n",
    "\n",
    "# Creating a reverse mapping from class label to index\n",
    "class_to_idx = {value: key for key, value in idx_to_class.items()}\n",
    "\n",
    "# Creating a mapping from index to annotation column name starting from the 7th column\n",
    "idx_to_annot = {i: j for i, j in enumerate(df.columns[6:])}\n"
   ]
  },
  {
   "cell_type": "code",
   "execution_count": 8,
   "id": "0854c838-4960-4199-ac65-dc3f1a860ec2",
   "metadata": {},
   "outputs": [
    {
     "name": "stdout",
     "output_type": "stream",
     "text": [
      "Number of .jpg files in the 'w210facetdata/images/' path: 31702\n"
     ]
    }
   ],
   "source": [
    "# check count of jpg files\n",
    "def count_jpg_files(bucket_name, prefix=''):\n",
    "    \"\"\"\n",
    "    Count the number of .jpg files in an S3 bucket under a given prefix.\n",
    "    \n",
    "    Parameters:\n",
    "    - bucket_name (str): Name of the S3 bucket.\n",
    "    - prefix (str): Prefix path to filter results. Default is empty.\n",
    "    \n",
    "    Returns:\n",
    "    - count (int): Count of .jpg files.\n",
    "    \"\"\"\n",
    "    count = 0\n",
    "    paginator = s3_client.get_paginator('list_objects_v2')\n",
    "    \n",
    "    for page in paginator.paginate(Bucket=bucket_name, Prefix=prefix):\n",
    "        for obj in page.get('Contents', []):\n",
    "            if obj['Key'].endswith('.jpg'):\n",
    "                count += 1\n",
    "\n",
    "    return count\n",
    "\n",
    "# Count .jpg files in the 'w210facetdata' bucket under the 'images/' prefix\n",
    "jpg_count = count_jpg_files(bucket_name, images_prefix)\n",
    "print(f\"Number of .jpg files in the '{bucket_name}/{images_prefix}' path: {jpg_count}\")\n"
   ]
  },
  {
   "cell_type": "code",
   "execution_count": 9,
   "id": "7b71e49c",
   "metadata": {},
   "outputs": [
    {
     "data": {
      "text/plain": [
       "gender_presentation_masc          0\n",
       "gender_presentation_fem           1\n",
       "gender_presentation_non_binary    0\n",
       "gender_presentation_na            0\n",
       "skin_tone_1                       2\n",
       "skin_tone_2                       3\n",
       "skin_tone_3                       0\n",
       "skin_tone_4                       0\n",
       "skin_tone_5                       0\n",
       "skin_tone_6                       0\n",
       "skin_tone_7                       0\n",
       "skin_tone_8                       0\n",
       "skin_tone_9                       0\n",
       "skin_tone_10                      0\n",
       "skin_tone_na                      0\n",
       "age_presentation_young            0\n",
       "age_presentation_older            0\n",
       "age_presentation_middle           1\n",
       "age_presentation_na               0\n",
       "hair_color_brown                  0\n",
       "hair_color_blonde                 1\n",
       "hair_color_grey                   0\n",
       "hair_color_na                     0\n",
       "hair_color_black                  0\n",
       "hair_color_colored                0\n",
       "hair_color_red                    0\n",
       "hairtype_coily                    0\n",
       "hairtype_dreadlocks               0\n",
       "hairtype_bald                     0\n",
       "hairtype_straight                 0\n",
       "hairtype_curly                    0\n",
       "hairtype_wavy                     1\n",
       "hairtype_na                       0\n",
       "has_facial_hair                   0\n",
       "has_tattoo                        0\n",
       "has_cap                           0\n",
       "has_mask                          0\n",
       "has_headscarf                     0\n",
       "has_eyeware                       0\n",
       "visible_torso                     1\n",
       "visible_face                      1\n",
       "visible_minimal                   0\n",
       "lighting_underexposed             0\n",
       "lighting_dimly_lit                0\n",
       "lighting_well_lit                 1\n",
       "lighting_na                       0\n",
       "lighting_overexposed              0\n",
       "Name: 0, dtype: object"
      ]
     },
     "execution_count": 9,
     "metadata": {},
     "output_type": "execute_result"
    }
   ],
   "source": [
    "df.iloc[0][6:]"
   ]
  },
  {
   "cell_type": "code",
   "execution_count": 10,
   "id": "c51757c7",
   "metadata": {},
   "outputs": [
    {
     "data": {
      "text/plain": [
       "{0: 'gymnast',\n",
       " 1: 'boatman',\n",
       " 2: 'lifeguard',\n",
       " 3: 'backpacker',\n",
       " 4: 'lawman',\n",
       " 5: 'dancer',\n",
       " 6: 'laborer',\n",
       " 7: 'patient',\n",
       " 8: 'basketball_player',\n",
       " 9: 'nurse',\n",
       " 10: 'singer',\n",
       " 11: 'motorcyclist',\n",
       " 12: 'astronaut',\n",
       " 13: 'fireman',\n",
       " 14: 'referee',\n",
       " 15: 'speaker',\n",
       " 16: 'guitarist',\n",
       " 17: 'repairman',\n",
       " 18: 'craftsman',\n",
       " 19: 'guard',\n",
       " 20: 'painter',\n",
       " 21: 'doctor',\n",
       " 22: 'farmer',\n",
       " 23: 'drummer',\n",
       " 24: 'climber',\n",
       " 25: 'disk_jockey',\n",
       " 26: 'soccer_player',\n",
       " 27: 'student',\n",
       " 28: 'soldier',\n",
       " 29: 'cheerleader',\n",
       " 30: 'flutist',\n",
       " 31: 'runner',\n",
       " 32: 'retailer',\n",
       " 33: 'machinist',\n",
       " 34: 'reporter',\n",
       " 35: 'horseman',\n",
       " 36: 'tennis_player',\n",
       " 37: 'computer_user',\n",
       " 38: 'carpenter',\n",
       " 39: 'seller',\n",
       " 40: 'skateboarder',\n",
       " 41: 'gardener',\n",
       " 42: 'waiter',\n",
       " 43: 'prayer',\n",
       " 44: 'ballplayer',\n",
       " 45: 'sculptor',\n",
       " 46: 'teacher',\n",
       " 47: 'electrician',\n",
       " 48: 'hairdresser',\n",
       " 49: 'judge',\n",
       " 50: 'trumpeter',\n",
       " 51: 'bartender'}"
      ]
     },
     "execution_count": 10,
     "metadata": {},
     "output_type": "execute_result"
    }
   ],
   "source": [
    "idx_to_class"
   ]
  },
  {
   "cell_type": "code",
   "execution_count": 11,
   "id": "d2a24773-8c94-471b-93d7-8325af201183",
   "metadata": {},
   "outputs": [],
   "source": [
    "transform = transforms.Compose([\n",
    "    transforms.Resize((256, 256)),\n",
    "    transforms.ToTensor(),\n",
    "    transforms.Normalize(mean=[0.485, 0.456, 0.406], std=[0.229, 0.224, 0.225]),\n",
    "])\n"
   ]
  },
  {
   "cell_type": "code",
   "execution_count": 12,
   "id": "39a2edac-be96-46de-acac-f821844c4fb9",
   "metadata": {},
   "outputs": [],
   "source": [
    "# Split data into train, validation, and test sets\n",
    "train_data, test_data = train_test_split(df, test_size=0.2, random_state=42)\n",
    "train_data, val_data = train_test_split(train_data, test_size=0.1, random_state=42)\n"
   ]
  },
  {
   "cell_type": "code",
   "execution_count": 13,
   "id": "36fea9e1-5796-4959-87f5-fc7e281ff232",
   "metadata": {},
   "outputs": [],
   "source": [
    "# toggle on/off subsetting\n",
    "# Define the number of samples you want in your subset\n",
    "subset_size = 1000  # Adjust the size as needed\n",
    "\n",
    "# Create a smaller subset of your dataset\n",
    "train_data = train_data[:subset_size]\n",
    "test_data = test_data[:subset_size]\n",
    "val_data = val_data[:subset_size]"
   ]
  },
  {
   "cell_type": "code",
   "execution_count": 14,
   "id": "bca4ae0f-b5e7-49e2-9ca5-c50d417c156a",
   "metadata": {},
   "outputs": [],
   "source": [
    "# Define additional metrics\n",
    "def calculate_metrics(y_true, y_pred):\n",
    "    accuracy = accuracy_score(y_true, y_pred)\n",
    "    precision = precision_score(y_true, y_pred, average='weighted')\n",
    "    recall = recall_score(y_true, y_pred, average='weighted')\n",
    "    f1 = f1_score(y_true, y_pred, average='weighted')\n",
    "    return accuracy, precision, recall, f1\n",
    "\n",
    "# Lists to store metric values during training\n",
    "train_losses_student, val_losses_student, train_losses_teacher, val_losses_teacher = [], [], [], []\n",
    "train_accuracies_student, val_accuracies_student, train_accuracies_teacher, val_accuracies_teacher = [], [], [], []\n"
   ]
  },
  {
   "cell_type": "code",
   "execution_count": 15,
   "id": "de230e63-4d98-4cf6-a36b-aa31ff1c8d50",
   "metadata": {},
   "outputs": [],
   "source": [
    "device = torch.device('cuda' if torch.cuda.is_available() else 'cpu')"
   ]
  },
  {
   "cell_type": "code",
   "execution_count": 16,
   "id": "2fc8ccef",
   "metadata": {},
   "outputs": [],
   "source": [
    "class CustomDataset(Dataset):\n",
    "    def __init__(self, split_data, image_dir, transform=None):\n",
    "        self.data = split_data\n",
    "        self.image_dir = image_dir\n",
    "        self.transform = transform\n",
    "\n",
    "    def __len__(self):\n",
    "        return len(self.data)\n",
    "\n",
    "    def __getitem__(self, idx):\n",
    "        img_name = self.data.iloc[idx, 2]\n",
    "        image_key = f'{images_prefix}{img_name}'  # Construct S3 object key\n",
    "        # Load image from S3\n",
    "        img_object = s3_client.get_object(Bucket=bucket_name, Key=image_key)\n",
    "        img_data = img_object['Body'].read()\n",
    "        # Open the image directly from the byte stream using PIL\n",
    "        image = Image.open(BytesIO(img_data))\n",
    "        annotations = self.data.iloc[idx, 6:].values.astype(np.float16).reshape(-1, 1)\n",
    "        label = class_to_idx[self.data.iloc[idx, 3]]\n",
    "\n",
    "        if self.transform:\n",
    "            image = self.transform(image)\n",
    "\n",
    "        return image, torch.tensor(label), torch.from_numpy(annotations)\n",
    "\n",
    "# Create custom datasets and data loaders\n",
    "image_dir = 'FACET'  # Local directory if you want to save images locally\n",
    "train_dataset = CustomDataset(split_data=train_data, image_dir=image_dir, transform=transform)\n",
    "train_loader = DataLoader(train_dataset, batch_size=batch_size, shuffle=True)\n",
    "\n",
    "test_dataset = CustomDataset(split_data=test_data, image_dir=image_dir, transform=transform)\n",
    "test_loader = DataLoader(test_dataset, batch_size=batch_size, shuffle=False)\n",
    "\n",
    "val_dataset = CustomDataset(split_data=val_data, image_dir=image_dir, transform=transform)\n",
    "val_loader = DataLoader(val_dataset, batch_size=batch_size, shuffle=False)\n"
   ]
  },
  {
   "cell_type": "code",
   "execution_count": 17,
   "id": "73ca0a26",
   "metadata": {},
   "outputs": [
    {
     "name": "stderr",
     "output_type": "stream",
     "text": [
      "Clipping input data to the valid range for imshow with RGB data ([0..1] for floats or [0..255] for integers).\n"
     ]
    },
    {
     "data": {
      "image/png": "[encoded data removed]",
      "text/plain": [
       "<Figure size 640x480 with 1 Axes>"
      ]
     },
     "metadata": {},
     "output_type": "display_data"
    },
    {
     "name": "stderr",
     "output_type": "stream",
     "text": [
      "Clipping input data to the valid range for imshow with RGB data ([0..1] for floats or [0..255] for integers).\n"
     ]
    },
    {
     "data": {
      "image/png": "[encoded data removed]",
      "text/plain": [
       "<Figure size 640x480 with 1 Axes>"
      ]
     },
     "metadata": {},
     "output_type": "display_data"
    },
    {
     "name": "stderr",
     "output_type": "stream",
     "text": [
      "Clipping input data to the valid range for imshow with RGB data ([0..1] for floats or [0..255] for integers).\n"
     ]
    },
    {
     "data": {
      "image/png": "[encoded data removed]",
      "text/plain": [
       "<Figure size 640x480 with 1 Axes>"
      ]
     },
     "metadata": {},
     "output_type": "display_data"
    },
    {
     "name": "stderr",
     "output_type": "stream",
     "text": [
      "Clipping input data to the valid range for imshow with RGB data ([0..1] for floats or [0..255] for integers).\n"
     ]
    },
    {
     "data": {
      "image/png": "[encoded data removed]",
      "text/plain": [
       "<Figure size 640x480 with 1 Axes>"
      ]
     },
     "metadata": {},
     "output_type": "display_data"
    }
   ],
   "source": [
    "fig = plt.figure()\n",
    "\n",
    "for i, sample in enumerate(train_dataset):\n",
    "    ax = plt.subplot(1, 4, i + 1)\n",
    "    plt.imshow(np.transpose(sample[0], [1,2,0]))\n",
    "    plt.tight_layout()\n",
    "    ax.set_title('Sample #{}'.format(i))\n",
    "    ax.axis('off')\n",
    "    plt.show()\n",
    "    if i == 3:\n",
    "        break\n"
   ]
  },
  {
   "cell_type": "markdown",
   "id": "1500c8f1",
   "metadata": {},
   "source": [
    "# Model"
   ]
  },
  {
   "cell_type": "code",
   "execution_count": 18,
   "id": "94e55ab0",
   "metadata": {},
   "outputs": [],
   "source": [
    "# device = torch.device('mps')\n",
    "\n",
    "# Define your smaller ResNet student model\n",
    "# Deeper neural network class to be used as teacher:\n",
    "# class DeepNN(nn.Module):\n",
    "#     def __init__(self, num_classes=52):\n",
    "#         super(DeepNN, self).__init__()\n",
    "#         self.features = nn.Sequential(\n",
    "#             nn.Conv2d(3, 128, kernel_size=3, padding=1),\n",
    "#             nn.ReLU(),\n",
    "#             nn.Conv2d(128, 64, kernel_size=3, padding=1),\n",
    "#             nn.ReLU(),\n",
    "#             nn.MaxPool2d(kernel_size=2, stride=2),\n",
    "#             nn.Conv2d(64, 64, kernel_size=3, padding=1),\n",
    "#             nn.ReLU(),\n",
    "#             nn.Conv2d(64, 32, kernel_size=3, padding=1),\n",
    "#             nn.ReLU(),\n",
    "#             nn.MaxPool2d(kernel_size=2, stride=2),\n",
    "#         )\n",
    "#         self.classifier = nn.Sequential(\n",
    "#             nn.Linear(131072, 512),\n",
    "#             nn.ReLU(),\n",
    "#             nn.Dropout(0.1),\n",
    "#             nn.Linear(512, num_classes)\n",
    "#         )\n",
    "\n",
    "#     def forward(self, x):\n",
    "#         x = self.features(x)\n",
    "#         x = torch.flatten(x, 1)\n",
    "#         x = self.classifier(x)\n",
    "#         return x\n",
    "\n",
    "# Lightweight neural network class to be used as student:\n",
    "class LightNN(nn.Module):\n",
    "    def __init__(self, num_classes=52):\n",
    "        super(LightNN, self).__init__()\n",
    "        self.features = nn.Sequential(\n",
    "            nn.Conv2d(3, 16, kernel_size=3, padding=1),\n",
    "            nn.ReLU(),\n",
    "            nn.MaxPool2d(kernel_size=2, stride=2),\n",
    "            nn.Conv2d(16, 16, kernel_size=3, padding=1),\n",
    "            nn.ReLU(),\n",
    "            nn.MaxPool2d(kernel_size=2, stride=2),\n",
    "        )\n",
    "        self.classifier = nn.Sequential(\n",
    "            nn.Linear(65536, 256),\n",
    "            nn.ReLU(),\n",
    "            nn.Dropout(0.1),\n",
    "            nn.Linear(256, num_classes)\n",
    "        )\n",
    "\n",
    "    def forward(self, x):\n",
    "        x = self.features(x)\n",
    "        x = torch.flatten(x, 1)\n",
    "        x = self.classifier(x)\n",
    "        return x\n",
    "\n",
    "# Define loss functions\n",
    "criterion_teacher = nn.CrossEntropyLoss()  # Loss for teacher model\n",
    "criterion_student = nn.KLDivLoss()  # Knowledge distillation loss\n",
    "\n",
    "# Instantiate the teacher and student models\n",
    "teacher_model = torchvision.models.resnet50(pretrained=True)\n",
    "num_ftrs = teacher_model.fc.in_features\n",
    "teacher_model.fc = nn.Linear(num_ftrs, num_classes)\n",
    "teacher_model = teacher_model.to(device)\n",
    "\n",
    "student_model = LightNN(num_classes=num_classes).to(device)\n",
    "\n",
    "# Load pre-trained weights if available\n",
    "pretrained_path = 'pretrained_student.pth'\n",
    "if os.path.exists(pretrained_path):\n",
    "    student_model.load_state_dict(torch.load(pretrained_path))\n",
    "    print(\"Loaded pre-trained weights for student model.\")\n",
    "\n",
    "# Define optimizer for the student model\n",
    "optimizer_student = optim.Adam(student_model.parameters(), lr=learning_rate)\n",
    "optimizer_teacher = optim.Adam(teacher_model.parameters(), lr=learning_rate)\n"
   ]
  },
  {
   "cell_type": "markdown",
   "id": "1881b911",
   "metadata": {},
   "source": [
    "# Train\n"
   ]
  },
  {
   "cell_type": "code",
   "execution_count": 19,
   "id": "61577f09-4f08-4a5f-a576-38a591f86f5a",
   "metadata": {},
   "outputs": [],
   "source": [
    "# Define attributes and concepts in your dataset\n",
    "attributes = df.columns[6:].tolist()  # All attributes\n",
    "concepts = list(idx_to_class.values())  # All concepts\n",
    "\n",
    "# Create a dictionary to map attribute names to column indices\n",
    "attr_idx = {attr: idx for idx, attr in enumerate(attributes)}\n",
    "\n",
    "# Initialize dictionaries to store recall values for teacher and student models\n",
    "teacher_recall_values = {attr: {concept: [] for concept in concepts} for attr in attributes}\n",
    "student_recall_values = {attr: {concept: [] for concept in concepts} for attr in attributes}\n"
   ]
  },
  {
   "cell_type": "code",
   "execution_count": 20,
   "id": "38b5297e",
   "metadata": {
    "scrolled": true
   },
   "outputs": [
    {
     "name": "stderr",
     "output_type": "stream",
     "text": [
      "Epoch 1/6:   3%|██▎                                                                       | 1/32 [00:11<05:53, 11.42s/it]"
     ]
    },
    {
     "name": "stdout",
     "output_type": "stream",
     "text": [
      "KD Loss: 3.989830656792037e-05\n",
      "CE Loss: 3.9479024410247803\n",
      "Disparity Loss: -0.787501871585846\n",
      "Total Loss: 1.186469316482544\n",
      "teacher_recall: 0.03125, student_recall: 0.0625\n"
     ]
    },
    {
     "name": "stderr",
     "output_type": "stream",
     "text": [
      "Epoch 1/6:   6%|████▋                                                                     | 2/32 [00:23<05:54, 11.82s/it]"
     ]
    },
    {
     "name": "stdout",
     "output_type": "stream",
     "text": [
      "KD Loss: 0.003081283299252391\n",
      "CE Loss: 6.002679824829102\n",
      "Disparity Loss: -0.6687507033348083\n",
      "Total Loss: 2.334129810333252\n",
      "teacher_recall: 0.03125, student_recall: 0.0625\n"
     ]
    },
    {
     "name": "stderr",
     "output_type": "stream",
     "text": [
      "Epoch 1/6:   9%|██████▉                                                                   | 3/32 [00:35<05:41, 11.76s/it]"
     ]
    },
    {
     "name": "stdout",
     "output_type": "stream",
     "text": [
      "KD Loss: 0.0025502743665128946\n",
      "CE Loss: 7.326373100280762\n",
      "Disparity Loss: -0.054687488824129105\n",
      "Total Loss: 3.609774112701416\n",
      "teacher_recall: 0.03125, student_recall: 0.0\n"
     ]
    },
    {
     "name": "stderr",
     "output_type": "stream",
     "text": [
      "Epoch 1/6:  12%|█████████▎                                                                | 4/32 [00:46<05:29, 11.76s/it]"
     ]
    },
    {
     "name": "stdout",
     "output_type": "stream",
     "text": [
      "KD Loss: 0.0013214221689850092\n",
      "CE Loss: 5.507564067840576\n",
      "Disparity Loss: -0.6312509179115295\n",
      "Total Loss: 2.1231918334960938\n",
      "teacher_recall: 0.03125, student_recall: 0.0\n"
     ]
    },
    {
     "name": "stderr",
     "output_type": "stream",
     "text": [
      "Epoch 1/6:  16%|███████████▌                                                              | 5/32 [00:58<05:14, 11.66s/it]"
     ]
    },
    {
     "name": "stdout",
     "output_type": "stream",
     "text": [
      "KD Loss: 0.000960766279604286\n",
      "CE Loss: 4.291683197021484\n",
      "Disparity Loss: -0.1473957896232605\n",
      "Total Loss: 1.9989261627197266\n",
      "teacher_recall: 0.03125, student_recall: 0.0\n"
     ]
    },
    {
     "name": "stderr",
     "output_type": "stream",
     "text": [
      "Epoch 1/6:  19%|█████████████▉                                                            | 6/32 [01:10<05:03, 11.68s/it]"
     ]
    },
    {
     "name": "stdout",
     "output_type": "stream",
     "text": [
      "KD Loss: 0.0008020213572308421\n",
      "CE Loss: 3.975637674331665\n",
      "Disparity Loss: 1.2173947095870972\n",
      "Total Loss: 3.2056145668029785\n",
      "teacher_recall: 0.03125, student_recall: 0.0\n"
     ]
    },
    {
     "name": "stderr",
     "output_type": "stream",
     "text": [
      "Epoch 1/6:  22%|████████████████▏                                                         | 7/32 [01:22<04:54, 11.77s/it]"
     ]
    },
    {
     "name": "stdout",
     "output_type": "stream",
     "text": [
      "KD Loss: 0.0003799235273618251\n",
      "CE Loss: 4.292506217956543\n",
      "Disparity Loss: 1.1027971506118774\n",
      "Total Loss: 3.2492403984069824\n",
      "teacher_recall: 0.03125, student_recall: 0.0\n"
     ]
    },
    {
     "name": "stderr",
     "output_type": "stream",
     "text": [
      "Epoch 1/6:  25%|██████████████████▌                                                       | 8/32 [01:33<04:40, 11.69s/it]"
     ]
    },
    {
     "name": "stdout",
     "output_type": "stream",
     "text": [
      "KD Loss: 0.0002873672638088465\n",
      "CE Loss: 4.470844745635986\n",
      "Disparity Loss: 1.4418078660964966\n",
      "Total Loss: 3.6773738861083984\n",
      "teacher_recall: 0.03125, student_recall: 0.0\n"
     ]
    },
    {
     "name": "stderr",
     "output_type": "stream",
     "text": [
      "Epoch 1/6:  28%|████████████████████▊                                                     | 9/32 [01:44<04:26, 11.58s/it]"
     ]
    },
    {
     "name": "stdout",
     "output_type": "stream",
     "text": [
      "KD Loss: 0.0001862593344412744\n",
      "CE Loss: 4.370635509490967\n",
      "Disparity Loss: 1.0464807748794556\n",
      "Total Loss: 3.231891632080078\n",
      "teacher_recall: 0.03125, student_recall: 0.0\n"
     ]
    },
    {
     "name": "stderr",
     "output_type": "stream",
     "text": [
      "Epoch 1/6:  31%|██████████████████████▊                                                  | 10/32 [01:56<04:11, 11.42s/it]"
     ]
    },
    {
     "name": "stdout",
     "output_type": "stream",
     "text": [
      "KD Loss: 0.0002081925777019933\n",
      "CE Loss: 3.906038999557495\n",
      "Disparity Loss: 1.0161690711975098\n",
      "Total Loss: 2.969292640686035\n",
      "teacher_recall: 0.0625, student_recall: 0.0625\n"
     ]
    },
    {
     "name": "stderr",
     "output_type": "stream",
     "text": [
      "Epoch 1/6:  34%|█████████████████████████                                                | 11/32 [02:07<03:58, 11.38s/it]"
     ]
    },
    {
     "name": "stdout",
     "output_type": "stream",
     "text": [
      "KD Loss: 0.00017748866230249405\n",
      "CE Loss: 4.101935863494873\n",
      "Disparity Loss: 0.9977095723152161\n",
      "Total Loss: 3.0487661361694336\n",
      "teacher_recall: 0.0625, student_recall: 0.0625\n"
     ]
    },
    {
     "name": "stderr",
     "output_type": "stream",
     "text": [
      "Epoch 1/6:  38%|███████████████████████████▍                                             | 12/32 [02:18<03:46, 11.34s/it]"
     ]
    },
    {
     "name": "stdout",
     "output_type": "stream",
     "text": [
      "KD Loss: 0.0001279103016713634\n",
      "CE Loss: 3.956514835357666\n",
      "Disparity Loss: 0.9215680956840515\n",
      "Total Loss: 2.8998894691467285\n",
      "teacher_recall: 0.0625, student_recall: 0.0625\n"
     ]
    },
    {
     "name": "stderr",
     "output_type": "stream",
     "text": [
      "Epoch 1/6:  41%|█████████████████████████████▋                                           | 13/32 [02:30<03:37, 11.46s/it]"
     ]
    },
    {
     "name": "stdout",
     "output_type": "stream",
     "text": [
      "KD Loss: 0.00013190934259910136\n",
      "CE Loss: 3.9754045009613037\n",
      "Disparity Loss: 0.6070955991744995\n",
      "Total Loss: 2.5948638916015625\n",
      "teacher_recall: 0.0, student_recall: 0.03125\n"
     ]
    },
    {
     "name": "stderr",
     "output_type": "stream",
     "text": [
      "Epoch 1/6:  44%|███████████████████████████████▉                                         | 14/32 [02:41<03:23, 11.33s/it]"
     ]
    },
    {
     "name": "stdout",
     "output_type": "stream",
     "text": [
      "KD Loss: 0.00010614613711368293\n",
      "CE Loss: 3.9120142459869385\n",
      "Disparity Loss: 0.36014193296432495\n",
      "Total Loss: 2.316202163696289\n",
      "teacher_recall: 0.0, student_recall: 0.03125\n"
     ]
    },
    {
     "name": "stderr",
     "output_type": "stream",
     "text": [
      "Epoch 1/6:  47%|██████████████████████████████████▏                                      | 15/32 [02:52<03:10, 11.19s/it]"
     ]
    },
    {
     "name": "stdout",
     "output_type": "stream",
     "text": [
      "KD Loss: 8.159034041455016e-05\n",
      "CE Loss: 3.89042067527771\n",
      "Disparity Loss: 0.5925646424293518\n",
      "Total Loss: 2.537815809249878\n",
      "teacher_recall: 0.0, student_recall: 0.03125\n"
     ]
    },
    {
     "name": "stderr",
     "output_type": "stream",
     "text": [
      "Epoch 1/6:  50%|████████████████████████████████████▌                                    | 16/32 [03:03<03:00, 11.27s/it]"
     ]
    },
    {
     "name": "stdout",
     "output_type": "stream",
     "text": [
      "KD Loss: 9.33299379539676e-05\n",
      "CE Loss: 3.8764901161193848\n",
      "Disparity Loss: -0.04903656616806984\n",
      "Total Loss: 1.8892550468444824\n",
      "teacher_recall: 0.0, student_recall: 0.03125\n"
     ]
    },
    {
     "name": "stderr",
     "output_type": "stream",
     "text": [
      "Epoch 1/6:  53%|██████████████████████████████████████▊                                  | 17/32 [03:15<02:49, 11.31s/it]"
     ]
    },
    {
     "name": "stdout",
     "output_type": "stream",
     "text": [
      "KD Loss: 9.949901141226292e-05\n",
      "CE Loss: 3.8534207344055176\n",
      "Disparity Loss: -0.7336133122444153\n",
      "Total Loss: 1.1931467056274414\n",
      "teacher_recall: 0.0, student_recall: 0.03125\n"
     ]
    },
    {
     "name": "stderr",
     "output_type": "stream",
     "text": [
      "Epoch 1/6:  56%|█████████████████████████████████████████                                | 18/32 [03:25<02:36, 11.20s/it]"
     ]
    },
    {
     "name": "stdout",
     "output_type": "stream",
     "text": [
      "KD Loss: 8.128292392939329e-05\n",
      "CE Loss: 3.913051128387451\n",
      "Disparity Loss: -0.7051180601119995\n",
      "Total Loss: 1.251448154449463\n",
      "teacher_recall: 0.0, student_recall: 0.03125\n"
     ]
    },
    {
     "name": "stderr",
     "output_type": "stream",
     "text": [
      "Epoch 1/6:  59%|███████████████████████████████████████████▎                             | 19/32 [03:37<02:28, 11.43s/it]"
     ]
    },
    {
     "name": "stdout",
     "output_type": "stream",
     "text": [
      "KD Loss: 6.679966463707387e-05\n",
      "CE Loss: 3.9318625926971436\n",
      "Disparity Loss: -0.4982021152973175\n",
      "Total Loss: 1.4677625894546509\n",
      "teacher_recall: 0.0, student_recall: 0.03125\n"
     ]
    },
    {
     "name": "stderr",
     "output_type": "stream",
     "text": [
      "Epoch 1/6:  62%|█████████████████████████████████████████████▋                           | 20/32 [03:48<02:15, 11.30s/it]"
     ]
    },
    {
     "name": "stdout",
     "output_type": "stream",
     "text": [
      "KD Loss: 0.00010154569463338703\n",
      "CE Loss: 3.9013619422912598\n",
      "Disparity Loss: -0.6584872603416443\n",
      "Total Loss: 1.2922444343566895\n",
      "teacher_recall: 0.0, student_recall: 0.03125\n"
     ]
    },
    {
     "name": "stderr",
     "output_type": "stream",
     "text": [
      "Epoch 1/6:  66%|███████████████████████████████████████████████▉                         | 21/32 [03:59<02:02, 11.14s/it]"
     ]
    },
    {
     "name": "stdout",
     "output_type": "stream",
     "text": [
      "KD Loss: 9.239435166819021e-05\n",
      "CE Loss: 3.9205949306488037\n",
      "Disparity Loss: -0.6261266469955444\n",
      "Total Loss: 1.3342170715332031\n",
      "teacher_recall: 0.0, student_recall: 0.03125\n"
     ]
    },
    {
     "name": "stderr",
     "output_type": "stream",
     "text": [
      "Epoch 1/6:  69%|██████████████████████████████████████████████████▏                      | 22/32 [04:10<01:50, 11.06s/it]"
     ]
    },
    {
     "name": "stdout",
     "output_type": "stream",
     "text": [
      "KD Loss: 7.596659997943789e-05\n",
      "CE Loss: 3.9393327236175537\n",
      "Disparity Loss: -0.3950187563896179\n",
      "Total Loss: 1.5746855735778809\n",
      "teacher_recall: 0.0625, student_recall: 0.03125\n"
     ]
    },
    {
     "name": "stderr",
     "output_type": "stream",
     "text": [
      "Epoch 1/6:  72%|████████████████████████████████████████████████████▍                    | 23/32 [04:21<01:40, 11.11s/it]"
     ]
    },
    {
     "name": "stdout",
     "output_type": "stream",
     "text": [
      "KD Loss: 7.930471474537626e-05\n",
      "CE Loss: 3.917100667953491\n",
      "Disparity Loss: -0.15110018849372864\n",
      "Total Loss: 1.8074898719787598\n",
      "teacher_recall: 0.0625, student_recall: 0.03125\n"
     ]
    },
    {
     "name": "stderr",
     "output_type": "stream",
     "text": [
      "Epoch 1/6:  75%|██████████████████████████████████████████████████████▊                  | 24/32 [04:33<01:29, 11.19s/it]"
     ]
    },
    {
     "name": "stdout",
     "output_type": "stream",
     "text": [
      "KD Loss: 9.352833876619115e-05\n",
      "CE Loss: 3.885802984237671\n",
      "Disparity Loss: -0.5330170392990112\n",
      "Total Loss: 1.4099311828613281\n",
      "teacher_recall: 0.0625, student_recall: 0.03125\n"
     ]
    },
    {
     "name": "stderr",
     "output_type": "stream",
     "text": [
      "Epoch 1/6:  78%|█████████████████████████████████████████████████████████                | 25/32 [04:44<01:19, 11.33s/it]"
     ]
    },
    {
     "name": "stdout",
     "output_type": "stream",
     "text": [
      "KD Loss: 6.967861554585397e-05\n",
      "CE Loss: 3.878676176071167\n",
      "Disparity Loss: -0.9405968189239502\n",
      "Total Loss: 0.9987760782241821\n",
      "teacher_recall: 0.0625, student_recall: 0.03125\n"
     ]
    },
    {
     "name": "stderr",
     "output_type": "stream",
     "text": [
      "Epoch 1/6:  81%|███████████████████████████████████████████████████████████▎             | 26/32 [04:55<01:06, 11.15s/it]"
     ]
    },
    {
     "name": "stdout",
     "output_type": "stream",
     "text": [
      "KD Loss: 6.783595017623156e-05\n",
      "CE Loss: 3.786202907562256\n",
      "Disparity Loss: -0.9085472226142883\n",
      "Total Loss: 0.9845882058143616\n",
      "teacher_recall: 0.0625, student_recall: 0.03125\n"
     ]
    },
    {
     "name": "stderr",
     "output_type": "stream",
     "text": [
      "Epoch 1/6:  84%|█████████████████████████████████████████████████████████████▌           | 27/32 [05:06<00:55, 11.05s/it]"
     ]
    },
    {
     "name": "stdout",
     "output_type": "stream",
     "text": [
      "KD Loss: 6.230591679923236e-05\n",
      "CE Loss: 3.7961223125457764\n",
      "Disparity Loss: -1.196533441543579\n",
      "Total Loss: 0.7015588283538818\n",
      "teacher_recall: 0.0625, student_recall: 0.03125\n"
     ]
    },
    {
     "name": "stderr",
     "output_type": "stream",
     "text": [
      "Epoch 1/6:  88%|███████████████████████████████████████████████████████████████▉         | 28/32 [05:17<00:44, 11.04s/it]"
     ]
    },
    {
     "name": "stdout",
     "output_type": "stream",
     "text": [
      "KD Loss: 0.000165302146342583\n",
      "CE Loss: 3.999305009841919\n",
      "Disparity Loss: -1.3632676601409912\n",
      "Total Loss: 0.636467456817627\n",
      "teacher_recall: 0.0625, student_recall: 0.03125\n"
     ]
    },
    {
     "name": "stderr",
     "output_type": "stream",
     "text": [
      "Epoch 1/6:  91%|██████████████████████████████████████████████████████████████████▏      | 29/32 [05:27<00:32, 10.89s/it]"
     ]
    },
    {
     "name": "stdout",
     "output_type": "stream",
     "text": [
      "KD Loss: 0.00011269807873759419\n",
      "CE Loss: 3.8750553131103516\n",
      "Disparity Loss: -1.4651782512664795\n",
      "Total Loss: 0.4724057912826538\n",
      "teacher_recall: 0.0625, student_recall: 0.03125\n"
     ]
    },
    {
     "name": "stderr",
     "output_type": "stream",
     "text": [
      "Epoch 1/6:  94%|████████████████████████████████████████████████████████████████████▍    | 30/32 [05:38<00:21, 10.84s/it]"
     ]
    },
    {
     "name": "stdout",
     "output_type": "stream",
     "text": [
      "KD Loss: 0.00016674137441441417\n",
      "CE Loss: 3.691868305206299\n",
      "Disparity Loss: -1.3038465976715088\n",
      "Total Loss: 0.5421708822250366\n",
      "teacher_recall: 0.0625, student_recall: 0.03125\n"
     ]
    },
    {
     "name": "stderr",
     "output_type": "stream",
     "text": [
      "Epoch 1/6:  97%|██████████████████████████████████████████████████████████████████████▋  | 31/32 [05:49<00:10, 10.73s/it]"
     ]
    },
    {
     "name": "stdout",
     "output_type": "stream",
     "text": [
      "KD Loss: 8.072967466432601e-05\n",
      "CE Loss: 3.702427625656128\n",
      "Disparity Loss: -1.4116315841674805\n",
      "Total Loss: 0.4396226406097412\n",
      "teacher_recall: 0.0625, student_recall: 0.03125\n"
     ]
    },
    {
     "name": "stderr",
     "output_type": "stream",
     "text": [
      "Epoch 1/6: 100%|█████████████████████████████████████████████████████████████████████████| 32/32 [05:51<00:00, 10.99s/it]\n"
     ]
    },
    {
     "name": "stdout",
     "output_type": "stream",
     "text": [
      "KD Loss: 0.00011042007827199996\n",
      "CE Loss: 3.673098564147949\n",
      "Disparity Loss: -1.6416985988616943\n",
      "Total Loss: 0.19490587711334229\n",
      "teacher_recall: 0.0625, student_recall: 0.03125\n"
     ]
    },
    {
     "name": "stderr",
     "output_type": "stream",
     "text": [
      "Epoch 2/6:   3%|██▎                                                                       | 1/32 [00:10<05:38, 10.91s/it]"
     ]
    },
    {
     "name": "stdout",
     "output_type": "stream",
     "text": [
      "KD Loss: 9.735902131069452e-05\n",
      "CE Loss: 3.7532336711883545\n",
      "Disparity Loss: -1.9515820741653442\n",
      "Total Loss: -0.07491660118103027\n",
      "teacher_recall: 0.0625, student_recall: 0.03125\n"
     ]
    },
    {
     "name": "stderr",
     "output_type": "stream",
     "text": [
      "Epoch 2/6:   6%|████▋                                                                     | 2/32 [00:22<05:33, 11.11s/it]"
     ]
    },
    {
     "name": "stdout",
     "output_type": "stream",
     "text": [
      "KD Loss: 0.00012801085540559143\n",
      "CE Loss: 3.6728553771972656\n",
      "Disparity Loss: -2.1411588191986084\n",
      "Total Loss: -0.3046671152114868\n",
      "teacher_recall: 0.0625, student_recall: 0.03125\n"
     ]
    },
    {
     "name": "stderr",
     "output_type": "stream",
     "text": [
      "Epoch 2/6:   9%|██████▉                                                                   | 3/32 [00:33<05:23, 11.17s/it]"
     ]
    },
    {
     "name": "stdout",
     "output_type": "stream",
     "text": [
      "KD Loss: 7.188680319814011e-05\n",
      "CE Loss: 3.551321268081665\n",
      "Disparity Loss: -2.603726625442505\n",
      "Total Loss: -0.828029990196228\n",
      "teacher_recall: 0.0625, student_recall: 0.03125\n"
     ]
    },
    {
     "name": "stderr",
     "output_type": "stream",
     "text": [
      "Epoch 2/6:  12%|█████████▎                                                                | 4/32 [00:44<05:12, 11.17s/it]"
     ]
    },
    {
     "name": "stdout",
     "output_type": "stream",
     "text": [
      "KD Loss: 0.0002804869436658919\n",
      "CE Loss: 3.592160701751709\n",
      "Disparity Loss: -2.887774705886841\n",
      "Total Loss: -1.0915541648864746\n",
      "teacher_recall: 0.0625, student_recall: 0.03125\n"
     ]
    },
    {
     "name": "stderr",
     "output_type": "stream",
     "text": [
      "Epoch 2/6:  16%|███████████▌                                                              | 5/32 [00:55<04:58, 11.05s/it]"
     ]
    },
    {
     "name": "stdout",
     "output_type": "stream",
     "text": [
      "KD Loss: 0.00018347070727031678\n",
      "CE Loss: 3.617670774459839\n",
      "Disparity Loss: -3.0658133029937744\n",
      "Total Loss: -1.2568861246109009\n",
      "teacher_recall: 0.0625, student_recall: 0.03125\n"
     ]
    },
    {
     "name": "stderr",
     "output_type": "stream",
     "text": [
      "Epoch 2/6:  19%|█████████████▉                                                            | 6/32 [01:06<04:44, 10.93s/it]"
     ]
    },
    {
     "name": "stdout",
     "output_type": "stream",
     "text": [
      "KD Loss: 0.00016827130457386374\n",
      "CE Loss: 3.703373908996582\n",
      "Disparity Loss: -3.124969244003296\n",
      "Total Loss: -1.273198127746582\n",
      "teacher_recall: 0.0625, student_recall: 0.03125\n"
     ]
    },
    {
     "name": "stderr",
     "output_type": "stream",
     "text": [
      "Epoch 2/6:  22%|████████████████▏                                                         | 7/32 [01:16<04:30, 10.83s/it]"
     ]
    },
    {
     "name": "stdout",
     "output_type": "stream",
     "text": [
      "KD Loss: 0.00037781521677970886\n",
      "CE Loss: 3.8123879432678223\n",
      "Disparity Loss: -3.692214250564575\n",
      "Total Loss: -1.785831332206726\n",
      "teacher_recall: 0.03125, student_recall: 0.109375\n"
     ]
    },
    {
     "name": "stderr",
     "output_type": "stream",
     "text": [
      "Epoch 2/6:  25%|██████████████████▌                                                       | 8/32 [01:27<04:19, 10.81s/it]"
     ]
    },
    {
     "name": "stdout",
     "output_type": "stream",
     "text": [
      "KD Loss: 0.00014791791909374297\n",
      "CE Loss: 3.5712363719940186\n",
      "Disparity Loss: -4.131977081298828\n",
      "Total Loss: -2.346284866333008\n",
      "teacher_recall: 0.03125, student_recall: 0.109375\n"
     ]
    },
    {
     "name": "stderr",
     "output_type": "stream",
     "text": [
      "Epoch 2/6:  28%|████████████████████▊                                                     | 9/32 [01:37<04:05, 10.69s/it]"
     ]
    },
    {
     "name": "stdout",
     "output_type": "stream",
     "text": [
      "KD Loss: 0.0003555569564923644\n",
      "CE Loss: 3.54073166847229\n",
      "Disparity Loss: -4.152733325958252\n",
      "Total Loss: -2.3821897506713867\n",
      "teacher_recall: 0.03125, student_recall: 0.109375\n"
     ]
    },
    {
     "name": "stderr",
     "output_type": "stream",
     "text": [
      "Epoch 2/6:  31%|██████████████████████▊                                                  | 10/32 [01:48<03:54, 10.66s/it]"
     ]
    },
    {
     "name": "stdout",
     "output_type": "stream",
     "text": [
      "KD Loss: 0.00043829710921272635\n",
      "CE Loss: 3.4677186012268066\n",
      "Disparity Loss: -4.073384761810303\n",
      "Total Loss: -2.339306354522705\n",
      "teacher_recall: 0.03125, student_recall: 0.109375\n"
     ]
    },
    {
     "name": "stderr",
     "output_type": "stream",
     "text": [
      "Epoch 2/6:  34%|█████████████████████████                                                | 11/32 [01:59<03:48, 10.87s/it]"
     ]
    },
    {
     "name": "stdout",
     "output_type": "stream",
     "text": [
      "KD Loss: 0.00041582496487535536\n",
      "CE Loss: 3.7501380443573\n",
      "Disparity Loss: -4.114233493804932\n",
      "Total Loss: -2.2389564514160156\n",
      "teacher_recall: 0.03125, student_recall: 0.109375\n"
     ]
    },
    {
     "name": "stderr",
     "output_type": "stream",
     "text": [
      "Epoch 2/6:  38%|███████████████████████████▍                                             | 12/32 [02:10<03:36, 10.84s/it]"
     ]
    },
    {
     "name": "stdout",
     "output_type": "stream",
     "text": [
      "KD Loss: 0.00032680280855856836\n",
      "CE Loss: 3.3425841331481934\n",
      "Disparity Loss: -4.056522846221924\n",
      "Total Loss: -2.3850674629211426\n",
      "teacher_recall: 0.03125, student_recall: 0.109375\n"
     ]
    },
    {
     "name": "stderr",
     "output_type": "stream",
     "text": [
      "Epoch 2/6:  41%|█████████████████████████████▋                                           | 13/32 [02:21<03:25, 10.84s/it]"
     ]
    },
    {
     "name": "stdout",
     "output_type": "stream",
     "text": [
      "KD Loss: 0.0003060037852264941\n",
      "CE Loss: 3.6415388584136963\n",
      "Disparity Loss: -4.282609939575195\n",
      "Total Loss: -2.4616875648498535\n",
      "teacher_recall: 0.03125, student_recall: 0.109375\n"
     ]
    },
    {
     "name": "stderr",
     "output_type": "stream",
     "text": [
      "Epoch 2/6:  44%|███████████████████████████████▉                                         | 14/32 [02:32<03:17, 10.95s/it]"
     ]
    },
    {
     "name": "stdout",
     "output_type": "stream",
     "text": [
      "KD Loss: 0.0004198997630737722\n",
      "CE Loss: 3.3992230892181396\n",
      "Disparity Loss: -4.480165004730225\n",
      "Total Loss: -2.780343532562256\n",
      "teacher_recall: 0.03125, student_recall: 0.109375\n"
     ]
    },
    {
     "name": "stderr",
     "output_type": "stream",
     "text": [
      "Epoch 2/6:  47%|██████████████████████████████████▏                                      | 15/32 [02:43<03:05, 10.90s/it]"
     ]
    },
    {
     "name": "stdout",
     "output_type": "stream",
     "text": [
      "KD Loss: 0.0002894328790716827\n",
      "CE Loss: 3.4570186138153076\n",
      "Disparity Loss: -4.9536542892456055\n",
      "Total Loss: -3.2250003814697266\n",
      "teacher_recall: 0.03125, student_recall: 0.109375\n"
     ]
    },
    {
     "name": "stderr",
     "output_type": "stream",
     "text": [
      "Epoch 2/6:  50%|████████████████████████████████████▌                                    | 16/32 [02:54<02:53, 10.82s/it]"
     ]
    },
    {
     "name": "stdout",
     "output_type": "stream",
     "text": [
      "KD Loss: 0.00028871119138784707\n",
      "CE Loss: 3.5805513858795166\n",
      "Disparity Loss: -5.156337261199951\n",
      "Total Loss: -3.365917205810547\n",
      "teacher_recall: 0.03125, student_recall: 0.109375\n"
     ]
    },
    {
     "name": "stderr",
     "output_type": "stream",
     "text": [
      "Epoch 2/6:  53%|██████████████████████████████████████▊                                  | 17/32 [03:04<02:41, 10.77s/it]"
     ]
    },
    {
     "name": "stdout",
     "output_type": "stream",
     "text": [
      "KD Loss: 0.00023390119895339012\n",
      "CE Loss: 3.433734178543091\n",
      "Disparity Loss: -5.527415752410889\n",
      "Total Loss: -3.810431718826294\n",
      "teacher_recall: 0.03125, student_recall: 0.109375\n"
     ]
    },
    {
     "name": "stderr",
     "output_type": "stream",
     "text": [
      "Epoch 2/6:  56%|█████████████████████████████████████████                                | 18/32 [03:15<02:30, 10.72s/it]"
     ]
    },
    {
     "name": "stdout",
     "output_type": "stream",
     "text": [
      "KD Loss: 0.0003157223982270807\n",
      "CE Loss: 3.7772653102874756\n",
      "Disparity Loss: -5.967884063720703\n",
      "Total Loss: -4.0790934562683105\n",
      "teacher_recall: 0.03125, student_recall: 0.109375\n"
     ]
    },
    {
     "name": "stderr",
     "output_type": "stream",
     "text": [
      "Epoch 2/6:  59%|███████████████████████████████████████████▎                             | 19/32 [03:25<02:18, 10.63s/it]"
     ]
    },
    {
     "name": "stdout",
     "output_type": "stream",
     "text": [
      "KD Loss: 0.00016860384494066238\n",
      "CE Loss: 3.67802357673645\n",
      "Disparity Loss: -6.262292861938477\n",
      "Total Loss: -4.423196792602539\n",
      "teacher_recall: 0.03125, student_recall: 0.109375\n"
     ]
    },
    {
     "name": "stderr",
     "output_type": "stream",
     "text": [
      "Epoch 2/6:  62%|█████████████████████████████████████████████▋                           | 20/32 [03:37<02:10, 10.89s/it]"
     ]
    },
    {
     "name": "stdout",
     "output_type": "stream",
     "text": [
      "KD Loss: 0.0002072133938781917\n",
      "CE Loss: 3.3753414154052734\n",
      "Disparity Loss: -6.582875728607178\n",
      "Total Loss: -4.895101547241211\n",
      "teacher_recall: 0.03125, student_recall: 0.109375\n"
     ]
    },
    {
     "name": "stderr",
     "output_type": "stream",
     "text": [
      "Epoch 2/6:  66%|███████████████████████████████████████████████▉                         | 21/32 [03:47<01:58, 10.82s/it]"
     ]
    },
    {
     "name": "stdout",
     "output_type": "stream",
     "text": [
      "KD Loss: 0.00028450728859752417\n",
      "CE Loss: 3.3411078453063965\n",
      "Disparity Loss: -6.859881401062012\n",
      "Total Loss: -5.18918514251709\n",
      "teacher_recall: 0.03125, student_recall: 0.109375\n"
     ]
    },
    {
     "name": "stderr",
     "output_type": "stream",
     "text": [
      "Epoch 2/6:  69%|██████████████████████████████████████████████████▏                      | 22/32 [03:58<01:48, 10.85s/it]"
     ]
    },
    {
     "name": "stdout",
     "output_type": "stream",
     "text": [
      "KD Loss: 0.00024078198475763202\n",
      "CE Loss: 3.551180124282837\n",
      "Disparity Loss: -7.13731575012207\n",
      "Total Loss: -5.361605167388916\n",
      "teacher_recall: 0.03125, student_recall: 0.109375\n"
     ]
    },
    {
     "name": "stderr",
     "output_type": "stream",
     "text": [
      "Epoch 2/6:  72%|████████████████████████████████████████████████████▍                    | 23/32 [04:09<01:36, 10.74s/it]"
     ]
    },
    {
     "name": "stdout",
     "output_type": "stream",
     "text": [
      "KD Loss: 0.00025690800976008177\n",
      "CE Loss: 3.4574954509735107\n",
      "Disparity Loss: -7.565262794494629\n",
      "Total Loss: -5.836386680603027\n",
      "teacher_recall: 0.03125, student_recall: 0.109375\n"
     ]
    },
    {
     "name": "stderr",
     "output_type": "stream",
     "text": [
      "Epoch 2/6:  75%|██████████████████████████████████████████████████████▊                  | 24/32 [04:19<01:25, 10.69s/it]"
     ]
    },
    {
     "name": "stdout",
     "output_type": "stream",
     "text": [
      "KD Loss: 0.00022776477271690965\n",
      "CE Loss: 3.1895275115966797\n",
      "Disparity Loss: -7.730555057525635\n",
      "Total Loss: -6.135677337646484\n",
      "teacher_recall: 0.03125, student_recall: 0.109375\n"
     ]
    },
    {
     "name": "stderr",
     "output_type": "stream",
     "text": [
      "Epoch 2/6:  78%|█████████████████████████████████████████████████████████                | 25/32 [04:30<01:15, 10.76s/it]"
     ]
    },
    {
     "name": "stdout",
     "output_type": "stream",
     "text": [
      "KD Loss: 0.00017836883489508182\n",
      "CE Loss: 3.44970440864563\n",
      "Disparity Loss: -8.161928176879883\n",
      "Total Loss: -6.436986923217773\n",
      "teacher_recall: 0.03125, student_recall: 0.109375\n"
     ]
    },
    {
     "name": "stderr",
     "output_type": "stream",
     "text": [
      "Epoch 2/6:  81%|███████████████████████████████████████████████████████████▎             | 26/32 [04:41<01:05, 10.85s/it]"
     ]
    },
    {
     "name": "stdout",
     "output_type": "stream",
     "text": [
      "KD Loss: 0.0003634608874563128\n",
      "CE Loss: 3.525465488433838\n",
      "Disparity Loss: -8.312572479248047\n",
      "Total Loss: -6.549657821655273\n",
      "teacher_recall: 0.03125, student_recall: 0.109375\n"
     ]
    },
    {
     "name": "stderr",
     "output_type": "stream",
     "text": [
      "Epoch 2/6:  84%|█████████████████████████████████████████████████████████████▌           | 27/32 [04:52<00:54, 10.81s/it]"
     ]
    },
    {
     "name": "stdout",
     "output_type": "stream",
     "text": [
      "KD Loss: 0.00023163027071859688\n",
      "CE Loss: 3.457529067993164\n",
      "Disparity Loss: -8.465682983398438\n",
      "Total Loss: -6.736802577972412\n",
      "teacher_recall: 0.03125, student_recall: 0.109375\n"
     ]
    },
    {
     "name": "stderr",
     "output_type": "stream",
     "text": [
      "Epoch 2/6:  88%|███████████████████████████████████████████████████████████████▉         | 28/32 [05:03<00:43, 10.75s/it]"
     ]
    },
    {
     "name": "stdout",
     "output_type": "stream",
     "text": [
      "KD Loss: 0.00023258515284396708\n",
      "CE Loss: 3.4082181453704834\n",
      "Disparity Loss: -8.532447814941406\n",
      "Total Loss: -6.828222274780273\n",
      "teacher_recall: 0.03125, student_recall: 0.109375\n"
     ]
    },
    {
     "name": "stderr",
     "output_type": "stream",
     "text": [
      "Epoch 2/6:  91%|██████████████████████████████████████████████████████████████████▏      | 29/32 [05:14<00:32, 10.96s/it]"
     ]
    },
    {
     "name": "stdout",
     "output_type": "stream",
     "text": [
      "KD Loss: 0.00020941774710081518\n",
      "CE Loss: 3.4066903591156006\n",
      "Disparity Loss: -8.75275707244873\n",
      "Total Loss: -7.049307346343994\n",
      "teacher_recall: 0.03125, student_recall: 0.109375\n"
     ]
    },
    {
     "name": "stderr",
     "output_type": "stream",
     "text": [
      "Epoch 2/6:  94%|████████████████████████████████████████████████████████████████████▍    | 30/32 [05:25<00:21, 10.93s/it]"
     ]
    },
    {
     "name": "stdout",
     "output_type": "stream",
     "text": [
      "KD Loss: 0.00019937919569201767\n",
      "CE Loss: 3.5228569507598877\n",
      "Disparity Loss: -8.791203498840332\n",
      "Total Loss: -7.029675483703613\n",
      "teacher_recall: 0.03125, student_recall: 0.109375\n"
     ]
    },
    {
     "name": "stderr",
     "output_type": "stream",
     "text": [
      "Epoch 2/6:  97%|██████████████████████████████████████████████████████████████████████▋  | 31/32 [05:36<00:10, 10.86s/it]"
     ]
    },
    {
     "name": "stdout",
     "output_type": "stream",
     "text": [
      "KD Loss: 0.0001991770404856652\n",
      "CE Loss: 3.4296765327453613\n",
      "Disparity Loss: -8.961015701293945\n",
      "Total Loss: -7.246078014373779\n",
      "teacher_recall: 0.03125, student_recall: 0.109375\n"
     ]
    },
    {
     "name": "stderr",
     "output_type": "stream",
     "text": [
      "Epoch 2/6: 100%|█████████████████████████████████████████████████████████████████████████| 32/32 [05:38<00:00, 10.59s/it]\n"
     ]
    },
    {
     "name": "stdout",
     "output_type": "stream",
     "text": [
      "KD Loss: 0.00030913081718608737\n",
      "CE Loss: 3.3903071880340576\n",
      "Disparity Loss: -8.925868034362793\n",
      "Total Loss: -7.230559825897217\n",
      "teacher_recall: 0.03125, student_recall: 0.109375\n"
     ]
    },
    {
     "name": "stderr",
     "output_type": "stream",
     "text": [
      "Epoch 3/6:   3%|██▎                                                                       | 1/32 [00:10<05:26, 10.55s/it]"
     ]
    },
    {
     "name": "stdout",
     "output_type": "stream",
     "text": [
      "KD Loss: 0.00040615006582811475\n",
      "CE Loss: 2.931457042694092\n",
      "Disparity Loss: -9.242016792297363\n",
      "Total Loss: -7.776084899902344\n",
      "teacher_recall: 0.03125, student_recall: 0.109375\n"
     ]
    },
    {
     "name": "stderr",
     "output_type": "stream",
     "text": [
      "Epoch 3/6:   6%|████▋                                                                     | 2/32 [00:20<05:09, 10.33s/it]"
     ]
    },
    {
     "name": "stdout",
     "output_type": "stream",
     "text": [
      "KD Loss: 0.000482395407743752\n",
      "CE Loss: 2.99513578414917\n",
      "Disparity Loss: -9.449660301208496\n",
      "Total Loss: -7.9518513679504395\n",
      "teacher_recall: 0.03125, student_recall: 0.109375\n"
     ]
    },
    {
     "name": "stderr",
     "output_type": "stream",
     "text": [
      "Epoch 3/6:   9%|██████▉                                                                   | 3/32 [00:31<05:00, 10.36s/it]"
     ]
    },
    {
     "name": "stdout",
     "output_type": "stream",
     "text": [
      "KD Loss: 0.00032811134587973356\n",
      "CE Loss: 3.313261032104492\n",
      "Disparity Loss: -9.589888572692871\n",
      "Total Loss: -7.933094024658203\n",
      "teacher_recall: 0.03125, student_recall: 0.109375\n"
     ]
    },
    {
     "name": "stderr",
     "output_type": "stream",
     "text": [
      "Epoch 3/6:  12%|█████████▎                                                                | 4/32 [00:41<04:48, 10.31s/it]"
     ]
    },
    {
     "name": "stdout",
     "output_type": "stream",
     "text": [
      "KD Loss: 0.0005333093577064574\n",
      "CE Loss: 3.0492727756500244\n",
      "Disparity Loss: -9.724811553955078\n",
      "Total Loss: -8.199908256530762\n",
      "teacher_recall: 0.03125, student_recall: 0.109375\n"
     ]
    },
    {
     "name": "stderr",
     "output_type": "stream",
     "text": [
      "Epoch 3/6:  16%|███████████▌                                                              | 5/32 [00:52<04:43, 10.49s/it]"
     ]
    },
    {
     "name": "stdout",
     "output_type": "stream",
     "text": [
      "KD Loss: 0.0004485311801545322\n",
      "CE Loss: 2.9536728858947754\n",
      "Disparity Loss: -9.848169326782227\n",
      "Total Loss: -8.371109008789062\n",
      "teacher_recall: 0.03125, student_recall: 0.109375\n"
     ]
    },
    {
     "name": "stderr",
     "output_type": "stream",
     "text": [
      "Epoch 3/6:  19%|█████████████▉                                                            | 6/32 [01:02<04:30, 10.41s/it]"
     ]
    },
    {
     "name": "stdout",
     "output_type": "stream",
     "text": [
      "KD Loss: 0.00045384260010905564\n",
      "CE Loss: 2.876572608947754\n",
      "Disparity Loss: -9.968976020812988\n",
      "Total Loss: -8.530462265014648\n",
      "teacher_recall: 0.03125, student_recall: 0.109375\n"
     ]
    },
    {
     "name": "stderr",
     "output_type": "stream",
     "text": [
      "Epoch 3/6:  22%|████████████████▏                                                         | 7/32 [01:12<04:21, 10.45s/it]"
     ]
    },
    {
     "name": "stdout",
     "output_type": "stream",
     "text": [
      "KD Loss: 0.0002704421931412071\n",
      "CE Loss: 2.9741828441619873\n",
      "Disparity Loss: -10.13859748840332\n",
      "Total Loss: -8.651371002197266\n",
      "teacher_recall: 0.03125, student_recall: 0.109375\n"
     ]
    },
    {
     "name": "stderr",
     "output_type": "stream",
     "text": [
      "Epoch 3/6:  25%|██████████████████▌                                                       | 8/32 [01:48<07:25, 18.55s/it]"
     ]
    },
    {
     "name": "stdout",
     "output_type": "stream",
     "text": [
      "KD Loss: 0.00046766523155383766\n",
      "CE Loss: 2.8869261741638184\n",
      "Disparity Loss: -10.399887084960938\n",
      "Total Loss: -8.95619010925293\n",
      "teacher_recall: 0.03125, student_recall: 0.109375\n"
     ]
    },
    {
     "name": "stderr",
     "output_type": "stream",
     "text": [
      "Epoch 3/6:  28%|████████████████████▊                                                     | 9/32 [02:33<10:16, 26.81s/it]"
     ]
    },
    {
     "name": "stdout",
     "output_type": "stream",
     "text": [
      "KD Loss: 0.0003713066107593477\n",
      "CE Loss: 3.1873655319213867\n",
      "Disparity Loss: -10.403247833251953\n",
      "Total Loss: -8.809379577636719\n",
      "teacher_recall: 0.03125, student_recall: 0.109375\n"
     ]
    },
    {
     "name": "stderr",
     "output_type": "stream",
     "text": [
      "Epoch 3/6:  31%|██████████████████████▊                                                  | 10/32 [03:19<11:57, 32.62s/it]"
     ]
    },
    {
     "name": "stdout",
     "output_type": "stream",
     "text": [
      "KD Loss: 0.00041223844164051116\n",
      "CE Loss: 2.874778985977173\n",
      "Disparity Loss: -10.715194702148438\n",
      "Total Loss: -9.277599334716797\n",
      "teacher_recall: 0.03125, student_recall: 0.109375\n"
     ]
    },
    {
     "name": "stderr",
     "output_type": "stream",
     "text": [
      "Epoch 3/6:  34%|█████████████████████████                                                | 11/32 [03:58<12:04, 34.50s/it]"
     ]
    },
    {
     "name": "stdout",
     "output_type": "stream",
     "text": [
      "KD Loss: 0.0004269405035302043\n",
      "CE Loss: 3.057072162628174\n",
      "Disparity Loss: -10.817659378051758\n",
      "Total Loss: -9.288909912109375\n",
      "teacher_recall: 0.03125, student_recall: 0.109375\n"
     ]
    },
    {
     "name": "stderr",
     "output_type": "stream",
     "text": [
      "Epoch 3/6:  38%|███████████████████████████▍                                             | 12/32 [04:09<09:07, 27.39s/it]"
     ]
    },
    {
     "name": "stdout",
     "output_type": "stream",
     "text": [
      "KD Loss: 0.0005803343956358731\n",
      "CE Loss: 3.039698600769043\n",
      "Disparity Loss: -11.113905906677246\n",
      "Total Loss: -9.593766212463379\n",
      "teacher_recall: 0.03125, student_recall: 0.109375\n"
     ]
    },
    {
     "name": "stderr",
     "output_type": "stream",
     "text": [
      "Epoch 3/6:  41%|█████████████████████████████▋                                           | 13/32 [04:19<07:03, 22.30s/it]"
     ]
    },
    {
     "name": "stdout",
     "output_type": "stream",
     "text": [
      "KD Loss: 0.0005665939534083009\n",
      "CE Loss: 2.559816837310791\n",
      "Disparity Loss: -11.418062210083008\n",
      "Total Loss: -10.137870788574219\n",
      "teacher_recall: 0.03125, student_recall: 0.109375\n"
     ]
    },
    {
     "name": "stderr",
     "output_type": "stream",
     "text": [
      "Epoch 3/6:  44%|███████████████████████████████▉                                         | 14/32 [04:30<05:35, 18.63s/it]"
     ]
    },
    {
     "name": "stdout",
     "output_type": "stream",
     "text": [
      "KD Loss: 0.00042997419950552285\n",
      "CE Loss: 3.168919324874878\n",
      "Disparity Loss: -11.606229782104492\n",
      "Total Loss: -10.021554946899414\n",
      "teacher_recall: 0.03125, student_recall: 0.109375\n"
     ]
    },
    {
     "name": "stderr",
     "output_type": "stream",
     "text": [
      "Epoch 3/6:  47%|██████████████████████████████████▏                                      | 15/32 [04:40<04:36, 16.27s/it]"
     ]
    },
    {
     "name": "stdout",
     "output_type": "stream",
     "text": [
      "KD Loss: 0.0006183980731293559\n",
      "CE Loss: 2.879758596420288\n",
      "Disparity Loss: -11.877046585083008\n",
      "Total Loss: -10.436858177185059\n",
      "teacher_recall: 0.03125, student_recall: 0.109375\n"
     ]
    },
    {
     "name": "stderr",
     "output_type": "stream",
     "text": [
      "Epoch 3/6:  50%|████████████████████████████████████▌                                    | 16/32 [04:53<04:01, 15.07s/it]"
     ]
    },
    {
     "name": "stdout",
     "output_type": "stream",
     "text": [
      "KD Loss: 0.0009095341665670276\n",
      "CE Loss: 2.988642930984497\n",
      "Disparity Loss: -11.983148574829102\n",
      "Total Loss: -10.488372802734375\n",
      "teacher_recall: 0.03125, student_recall: 0.109375\n"
     ]
    },
    {
     "name": "stderr",
     "output_type": "stream",
     "text": [
      "Epoch 3/6:  53%|██████████████████████████████████████▊                                  | 17/32 [05:40<06:11, 24.79s/it]"
     ]
    },
    {
     "name": "stdout",
     "output_type": "stream",
     "text": [
      "KD Loss: 0.0005912306951358914\n",
      "CE Loss: 2.8280842304229736\n",
      "Disparity Loss: -12.193737030029297\n",
      "Total Loss: -10.779398918151855\n",
      "teacher_recall: 0.03125, student_recall: 0.109375\n"
     ]
    },
    {
     "name": "stderr",
     "output_type": "stream",
     "text": [
      "Epoch 3/6:  56%|█████████████████████████████████████████                                | 18/32 [06:26<07:15, 31.10s/it]"
     ]
    },
    {
     "name": "stdout",
     "output_type": "stream",
     "text": [
      "KD Loss: 0.0004183850542176515\n",
      "CE Loss: 3.322436809539795\n",
      "Disparity Loss: -12.243061065673828\n",
      "Total Loss: -10.581633567810059\n",
      "teacher_recall: 0.03125, student_recall: 0.109375\n"
     ]
    },
    {
     "name": "stderr",
     "output_type": "stream",
     "text": [
      "Epoch 3/6:  59%|███████████████████████████████████████████▎                             | 19/32 [07:13<07:48, 36.00s/it]"
     ]
    },
    {
     "name": "stdout",
     "output_type": "stream",
     "text": [
      "KD Loss: 0.00044233896187506616\n",
      "CE Loss: 2.6966311931610107\n",
      "Disparity Loss: -12.478442192077637\n",
      "Total Loss: -11.129905700683594\n",
      "teacher_recall: 0.03125, student_recall: 0.109375\n"
     ]
    },
    {
     "name": "stderr",
     "output_type": "stream",
     "text": [
      "Epoch 3/6:  62%|█████████████████████████████████████████████▋                           | 20/32 [08:01<07:54, 39.54s/it]"
     ]
    },
    {
     "name": "stdout",
     "output_type": "stream",
     "text": [
      "KD Loss: 0.0004314793914090842\n",
      "CE Loss: 2.5568654537200928\n",
      "Disparity Loss: -12.913482666015625\n",
      "Total Loss: -11.634834289550781\n",
      "teacher_recall: 0.03125, student_recall: 0.109375\n"
     ]
    },
    {
     "name": "stderr",
     "output_type": "stream",
     "text": [
      "Epoch 3/6:  66%|███████████████████████████████████████████████▉                         | 21/32 [08:48<07:38, 41.69s/it]"
     ]
    },
    {
     "name": "stdout",
     "output_type": "stream",
     "text": [
      "KD Loss: 0.0004535403859335929\n",
      "CE Loss: 3.053396701812744\n",
      "Disparity Loss: -13.217839241027832\n",
      "Total Loss: -11.690914154052734\n",
      "teacher_recall: 0.03125, student_recall: 0.109375\n"
     ]
    },
    {
     "name": "stderr",
     "output_type": "stream",
     "text": [
      "Epoch 3/6:  69%|██████████████████████████████████████████████████▏                      | 22/32 [09:02<05:34, 33.44s/it]"
     ]
    },
    {
     "name": "stdout",
     "output_type": "stream",
     "text": [
      "KD Loss: 0.0006927609210833907\n",
      "CE Loss: 3.0341506004333496\n",
      "Disparity Loss: -13.311546325683594\n",
      "Total Loss: -11.794124603271484\n",
      "teacher_recall: 0.03125, student_recall: 0.109375\n"
     ]
    },
    {
     "name": "stderr",
     "output_type": "stream",
     "text": [
      "Epoch 3/6:  72%|████████████████████████████████████████████████████▍                    | 23/32 [09:13<03:59, 26.63s/it]"
     ]
    },
    {
     "name": "stdout",
     "output_type": "stream",
     "text": [
      "KD Loss: 0.0006354505894705653\n",
      "CE Loss: 2.702007293701172\n",
      "Disparity Loss: -13.7266845703125\n",
      "Total Loss: -12.37536334991455\n",
      "teacher_recall: 0.03125, student_recall: 0.109375\n"
     ]
    },
    {
     "name": "stderr",
     "output_type": "stream",
     "text": [
      "Epoch 3/6:  75%|██████████████████████████████████████████████████████▊                  | 24/32 [09:24<02:55, 21.99s/it]"
     ]
    },
    {
     "name": "stdout",
     "output_type": "stream",
     "text": [
      "KD Loss: 0.0005891527398489416\n",
      "CE Loss: 2.1505141258239746\n",
      "Disparity Loss: -14.055182456970215\n",
      "Total Loss: -12.979630470275879\n",
      "teacher_recall: 0.03125, student_recall: 0.109375\n"
     ]
    },
    {
     "name": "stderr",
     "output_type": "stream",
     "text": [
      "Epoch 3/6:  78%|█████████████████████████████████████████████████████████                | 25/32 [09:35<02:10, 18.70s/it]"
     ]
    },
    {
     "name": "stdout",
     "output_type": "stream",
     "text": [
      "KD Loss: 0.0003545022045727819\n",
      "CE Loss: 2.7514405250549316\n",
      "Disparity Loss: -14.29033088684082\n",
      "Total Loss: -12.914433479309082\n",
      "teacher_recall: 0.0625, student_recall: 0.19791666666666666\n"
     ]
    },
    {
     "name": "stderr",
     "output_type": "stream",
     "text": [
      "Epoch 3/6:  81%|███████████████████████████████████████████████████████████▎             | 26/32 [10:03<02:09, 21.50s/it]"
     ]
    },
    {
     "name": "stdout",
     "output_type": "stream",
     "text": [
      "KD Loss: 0.000332449417328462\n",
      "CE Loss: 3.041149854660034\n",
      "Disparity Loss: -14.367107391357422\n",
      "Total Loss: -12.846365928649902\n",
      "teacher_recall: 0.0625, student_recall: 0.19791666666666666\n"
     ]
    },
    {
     "name": "stderr",
     "output_type": "stream",
     "text": [
      "Epoch 3/6:  84%|█████████████████████████████████████████████████████████████▌           | 27/32 [10:50<02:26, 29.23s/it]"
     ]
    },
    {
     "name": "stdout",
     "output_type": "stream",
     "text": [
      "KD Loss: 0.0006387861212715507\n",
      "CE Loss: 2.8697681427001953\n",
      "Disparity Loss: -14.421523094177246\n",
      "Total Loss: -12.986319541931152\n",
      "teacher_recall: 0.0625, student_recall: 0.19791666666666666\n"
     ]
    },
    {
     "name": "stderr",
     "output_type": "stream",
     "text": [
      "Epoch 3/6:  88%|███████████████████████████████████████████████████████████████▉         | 28/32 [11:37<02:18, 34.50s/it]"
     ]
    },
    {
     "name": "stdout",
     "output_type": "stream",
     "text": [
      "KD Loss: 0.0004935035249218345\n",
      "CE Loss: 2.584146022796631\n",
      "Disparity Loss: -14.513992309570312\n",
      "Total Loss: -13.221672058105469\n",
      "teacher_recall: 0.0625, student_recall: 0.19791666666666666\n"
     ]
    },
    {
     "name": "stderr",
     "output_type": "stream",
     "text": [
      "Epoch 3/6:  91%|██████████████████████████████████████████████████████████████████▏      | 29/32 [12:24<01:54, 38.12s/it]"
     ]
    },
    {
     "name": "stdout",
     "output_type": "stream",
     "text": [
      "KD Loss: 0.0006025602342560887\n",
      "CE Loss: 2.8377108573913574\n",
      "Disparity Loss: -14.745088577270508\n",
      "Total Loss: -13.325931549072266\n",
      "teacher_recall: 0.0625, student_recall: 0.19791666666666666\n"
     ]
    },
    {
     "name": "stderr",
     "output_type": "stream",
     "text": [
      "Epoch 3/6:  94%|████████████████████████████████████████████████████████████████████▍    | 30/32 [13:10<01:21, 40.76s/it]"
     ]
    },
    {
     "name": "stdout",
     "output_type": "stream",
     "text": [
      "KD Loss: 0.00032428072881884873\n",
      "CE Loss: 2.895906686782837\n",
      "Disparity Loss: -14.81364917755127\n",
      "Total Loss: -13.365533828735352\n",
      "teacher_recall: 0.0625, student_recall: 0.19791666666666666\n"
     ]
    },
    {
     "name": "stderr",
     "output_type": "stream",
     "text": [
      "Epoch 3/6:  97%|██████████████████████████████████████████████████████████████████████▋  | 31/32 [13:57<00:42, 42.45s/it]"
     ]
    },
    {
     "name": "stdout",
     "output_type": "stream",
     "text": [
      "KD Loss: 0.0005225457716733217\n",
      "CE Loss: 2.6891515254974365\n",
      "Disparity Loss: -14.932730674743652\n",
      "Total Loss: -13.58789348602295\n",
      "teacher_recall: 0.0625, student_recall: 0.19791666666666666\n"
     ]
    },
    {
     "name": "stderr",
     "output_type": "stream",
     "text": [
      "Epoch 3/6: 100%|█████████████████████████████████████████████████████████████████████████| 32/32 [14:00<00:00, 26.25s/it]\n"
     ]
    },
    {
     "name": "stdout",
     "output_type": "stream",
     "text": [
      "KD Loss: 0.0010651188204064965\n",
      "CE Loss: 2.8610334396362305\n",
      "Disparity Loss: -14.94699764251709\n",
      "Total Loss: -13.515948295593262\n",
      "teacher_recall: 0.0625, student_recall: 0.19791666666666666\n"
     ]
    },
    {
     "name": "stderr",
     "output_type": "stream",
     "text": [
      "Epoch 4/6:   0%|                                                                                  | 0/32 [00:00<?, ?it/s]"
     ]
    },
    {
     "name": "stdout",
     "output_type": "stream",
     "text": [
      "Starting fine-tuning with learning rate: 0.0001\n"
     ]
    },
    {
     "name": "stderr",
     "output_type": "stream",
     "text": [
      "Epoch 4/6:   3%|██▎                                                                       | 1/32 [00:10<05:23, 10.43s/it]"
     ]
    },
    {
     "name": "stdout",
     "output_type": "stream",
     "text": [
      "KD Loss: 0.0004825573705602437\n",
      "CE Loss: 2.176096200942993\n",
      "Disparity Loss: -15.32980728149414\n",
      "Total Loss: -14.241518020629883\n",
      "teacher_recall: 0.0625, student_recall: 0.19791666666666666\n"
     ]
    },
    {
     "name": "stderr",
     "output_type": "stream",
     "text": [
      "Epoch 4/6:   6%|████▋                                                                     | 2/32 [00:21<05:17, 10.60s/it]"
     ]
    },
    {
     "name": "stdout",
     "output_type": "stream",
     "text": [
      "KD Loss: 0.0006606582901440561\n",
      "CE Loss: 2.0591492652893066\n",
      "Disparity Loss: -15.615989685058594\n",
      "Total Loss: -14.586084365844727\n",
      "teacher_recall: 0.0625, student_recall: 0.19791666666666666\n"
     ]
    },
    {
     "name": "stderr",
     "output_type": "stream",
     "text": [
      "Epoch 4/6:   9%|██████▉                                                                   | 3/32 [00:31<05:01, 10.39s/it]"
     ]
    },
    {
     "name": "stdout",
     "output_type": "stream",
     "text": [
      "KD Loss: 0.0008486472652293742\n",
      "CE Loss: 2.2545218467712402\n",
      "Disparity Loss: -15.99404525756836\n",
      "Total Loss: -14.86635971069336\n",
      "teacher_recall: 0.0625, student_recall: 0.19791666666666666\n"
     ]
    },
    {
     "name": "stderr",
     "output_type": "stream",
     "text": [
      "Epoch 4/6:  12%|█████████▎                                                                | 4/32 [00:41<04:51, 10.40s/it]"
     ]
    },
    {
     "name": "stdout",
     "output_type": "stream",
     "text": [
      "KD Loss: 0.0006654729368165135\n",
      "CE Loss: 2.0237486362457275\n",
      "Disparity Loss: -16.488300323486328\n",
      "Total Loss: -15.476093292236328\n",
      "teacher_recall: 0.0625, student_recall: 0.19791666666666666\n"
     ]
    },
    {
     "name": "stderr",
     "output_type": "stream",
     "text": [
      "Epoch 4/6:  16%|███████████▌                                                              | 5/32 [01:12<07:58, 17.71s/it]"
     ]
    },
    {
     "name": "stdout",
     "output_type": "stream",
     "text": [
      "KD Loss: 0.0005256521981209517\n",
      "CE Loss: 2.254000186920166\n",
      "Disparity Loss: -16.814464569091797\n",
      "Total Loss: -15.687201499938965\n",
      "teacher_recall: 0.0625, student_recall: 0.19791666666666666\n"
     ]
    },
    {
     "name": "stderr",
     "output_type": "stream",
     "text": [
      "Epoch 4/6:  19%|█████████████▉                                                            | 6/32 [01:59<11:57, 27.61s/it]"
     ]
    },
    {
     "name": "stdout",
     "output_type": "stream",
     "text": [
      "KD Loss: 0.001112370053306222\n",
      "CE Loss: 2.143378973007202\n",
      "Disparity Loss: -17.177955627441406\n",
      "Total Loss: -16.105709075927734\n",
      "teacher_recall: 0.0625, student_recall: 0.19791666666666666\n"
     ]
    },
    {
     "name": "stderr",
     "output_type": "stream",
     "text": [
      "Epoch 4/6:  22%|████████████████▏                                                         | 7/32 [02:45<14:02, 33.70s/it]"
     ]
    },
    {
     "name": "stdout",
     "output_type": "stream",
     "text": [
      "KD Loss: 0.0008569638011977077\n",
      "CE Loss: 1.8530259132385254\n",
      "Disparity Loss: -17.73848533630371\n",
      "Total Loss: -16.81154441833496\n",
      "teacher_recall: 0.0625, student_recall: 0.2890625\n"
     ]
    },
    {
     "name": "stderr",
     "output_type": "stream",
     "text": [
      "Epoch 4/6:  25%|██████████████████▌                                                       | 8/32 [03:31<15:06, 37.77s/it]"
     ]
    },
    {
     "name": "stdout",
     "output_type": "stream",
     "text": [
      "KD Loss: 0.0005719088949263096\n",
      "CE Loss: 2.0800321102142334\n",
      "Disparity Loss: -18.204797744750977\n",
      "Total Loss: -17.16449546813965\n",
      "teacher_recall: 0.0625, student_recall: 0.2890625\n"
     ]
    },
    {
     "name": "stderr",
     "output_type": "stream",
     "text": [
      "Epoch 4/6:  28%|████████████████████▊                                                     | 9/32 [04:18<15:33, 40.58s/it]"
     ]
    },
    {
     "name": "stdout",
     "output_type": "stream",
     "text": [
      "KD Loss: 0.0005042652483098209\n",
      "CE Loss: 2.115609645843506\n",
      "Disparity Loss: -18.612321853637695\n",
      "Total Loss: -17.554264068603516\n",
      "teacher_recall: 0.0625, student_recall: 0.2890625\n"
     ]
    },
    {
     "name": "stderr",
     "output_type": "stream",
     "text": [
      "Epoch 4/6:  31%|██████████████████████▊                                                  | 10/32 [04:58<14:45, 40.26s/it]"
     ]
    },
    {
     "name": "stdout",
     "output_type": "stream",
     "text": [
      "KD Loss: 0.0010025049559772015\n",
      "CE Loss: 2.085874080657959\n",
      "Disparity Loss: -19.18653106689453\n",
      "Total Loss: -18.14309310913086\n",
      "teacher_recall: 0.0625, student_recall: 0.2890625\n"
     ]
    },
    {
     "name": "stderr",
     "output_type": "stream",
     "text": [
      "Epoch 4/6:  34%|█████████████████████████                                                | 11/32 [05:09<10:56, 31.28s/it]"
     ]
    },
    {
     "name": "stdout",
     "output_type": "stream",
     "text": [
      "KD Loss: 0.0005845755222253501\n",
      "CE Loss: 2.1156065464019775\n",
      "Disparity Loss: -19.513748168945312\n",
      "Total Loss: -18.455652236938477\n",
      "teacher_recall: 0.0625, student_recall: 0.2890625\n"
     ]
    },
    {
     "name": "stderr",
     "output_type": "stream",
     "text": [
      "Epoch 4/6:  38%|███████████████████████████▍                                             | 12/32 [05:19<08:20, 25.05s/it]"
     ]
    },
    {
     "name": "stdout",
     "output_type": "stream",
     "text": [
      "KD Loss: 0.0005402924725785851\n",
      "CE Loss: 1.9931269884109497\n",
      "Disparity Loss: -19.59160614013672\n",
      "Total Loss: -18.594772338867188\n",
      "teacher_recall: 0.0625, student_recall: 0.2890625\n"
     ]
    },
    {
     "name": "stderr",
     "output_type": "stream",
     "text": [
      "Epoch 4/6:  41%|█████████████████████████████▋                                           | 13/32 [05:30<06:31, 20.62s/it]"
     ]
    },
    {
     "name": "stdout",
     "output_type": "stream",
     "text": [
      "KD Loss: 0.0006773944478482008\n",
      "CE Loss: 2.0811901092529297\n",
      "Disparity Loss: -19.92129135131836\n",
      "Total Loss: -18.88035774230957\n",
      "teacher_recall: 0.0625, student_recall: 0.2890625\n"
     ]
    },
    {
     "name": "stderr",
     "output_type": "stream",
     "text": [
      "Epoch 4/6:  44%|███████████████████████████████▉                                         | 14/32 [05:41<05:19, 17.76s/it]"
     ]
    },
    {
     "name": "stdout",
     "output_type": "stream",
     "text": [
      "KD Loss: 0.0015960837481543422\n",
      "CE Loss: 1.870629906654358\n",
      "Disparity Loss: -20.378366470336914\n",
      "Total Loss: -19.44225311279297\n",
      "teacher_recall: 0.0625, student_recall: 0.2890625\n"
     ]
    },
    {
     "name": "stderr",
     "output_type": "stream",
     "text": [
      "Epoch 4/6:  47%|██████████████████████████████████▏                                      | 15/32 [06:16<06:27, 22.82s/it]"
     ]
    },
    {
     "name": "stdout",
     "output_type": "stream",
     "text": [
      "KD Loss: 0.0006212210282683372\n",
      "CE Loss: 1.9187580347061157\n",
      "Disparity Loss: -20.700580596923828\n",
      "Total Loss: -19.740890502929688\n",
      "teacher_recall: 0.0625, student_recall: 0.2890625\n"
     ]
    },
    {
     "name": "stderr",
     "output_type": "stream",
     "text": [
      "Epoch 4/6:  50%|████████████████████████████████████▌                                    | 16/32 [07:02<07:59, 30.00s/it]"
     ]
    },
    {
     "name": "stdout",
     "output_type": "stream",
     "text": [
      "KD Loss: 0.0008336929022334516\n",
      "CE Loss: 1.7131869792938232\n",
      "Disparity Loss: -21.22588539123535\n",
      "Total Loss: -20.36887550354004\n",
      "teacher_recall: 0.0625, student_recall: 0.2890625\n"
     ]
    },
    {
     "name": "stderr",
     "output_type": "stream",
     "text": [
      "Epoch 4/6:  53%|██████████████████████████████████████▊                                  | 17/32 [07:49<08:45, 35.04s/it]"
     ]
    },
    {
     "name": "stdout",
     "output_type": "stream",
     "text": [
      "KD Loss: 0.0005929634789936244\n",
      "CE Loss: 1.7785953283309937\n",
      "Disparity Loss: -21.52849006652832\n",
      "Total Loss: -20.63889503479004\n",
      "teacher_recall: 0.0625, student_recall: 0.2890625\n"
     ]
    },
    {
     "name": "stderr",
     "output_type": "stream",
     "text": [
      "Epoch 4/6:  56%|█████████████████████████████████████████                                | 18/32 [08:36<09:02, 38.72s/it]"
     ]
    },
    {
     "name": "stdout",
     "output_type": "stream",
     "text": [
      "KD Loss: 0.0004731607041321695\n",
      "CE Loss: 2.3932173252105713\n",
      "Disparity Loss: -21.75301742553711\n",
      "Total Loss: -20.556171417236328\n",
      "teacher_recall: 0.0625, student_recall: 0.2890625\n"
     ]
    },
    {
     "name": "stderr",
     "output_type": "stream",
     "text": [
      "Epoch 4/6:  59%|███████████████████████████████████████████▎                             | 19/32 [09:23<08:55, 41.19s/it]"
     ]
    },
    {
     "name": "stdout",
     "output_type": "stream",
     "text": [
      "KD Loss: 0.0005516356322914362\n",
      "CE Loss: 2.180087089538574\n",
      "Disparity Loss: -22.095008850097656\n",
      "Total Loss: -21.004690170288086\n",
      "teacher_recall: 0.0625, student_recall: 0.2890625\n"
     ]
    },
    {
     "name": "stderr",
     "output_type": "stream",
     "text": [
      "Epoch 4/6:  62%|█████████████████████████████████████████████▋                           | 20/32 [09:59<07:53, 39.45s/it]"
     ]
    },
    {
     "name": "stdout",
     "output_type": "stream",
     "text": [
      "KD Loss: 0.00081653892993927\n",
      "CE Loss: 1.4490898847579956\n",
      "Disparity Loss: -22.68368148803711\n",
      "Total Loss: -21.958728790283203\n",
      "teacher_recall: 0.0625, student_recall: 0.2890625\n"
     ]
    },
    {
     "name": "stderr",
     "output_type": "stream",
     "text": [
      "Epoch 4/6:  66%|███████████████████████████████████████████████▉                         | 21/32 [10:11<05:43, 31.22s/it]"
     ]
    },
    {
     "name": "stdout",
     "output_type": "stream",
     "text": [
      "KD Loss: 0.0007933657034300268\n",
      "CE Loss: 1.7506006956100464\n",
      "Disparity Loss: -22.92861557006836\n",
      "Total Loss: -22.052919387817383\n",
      "teacher_recall: 0.0625, student_recall: 0.2890625\n"
     ]
    },
    {
     "name": "stderr",
     "output_type": "stream",
     "text": [
      "Epoch 4/6:  69%|██████████████████████████████████████████████████▏                      | 22/32 [10:22<04:12, 25.25s/it]"
     ]
    },
    {
     "name": "stdout",
     "output_type": "stream",
     "text": [
      "KD Loss: 0.0008757496834732592\n",
      "CE Loss: 1.6935529708862305\n",
      "Disparity Loss: -23.299348831176758\n",
      "Total Loss: -22.45213508605957\n",
      "teacher_recall: 0.0625, student_recall: 0.2890625\n"
     ]
    },
    {
     "name": "stderr",
     "output_type": "stream",
     "text": [
      "Epoch 4/6:  72%|████████████████████████████████████████████████████▍                    | 23/32 [10:33<03:08, 20.96s/it]"
     ]
    },
    {
     "name": "stdout",
     "output_type": "stream",
     "text": [
      "KD Loss: 0.0009589585242792964\n",
      "CE Loss: 1.7906581163406372\n",
      "Disparity Loss: -23.996662139892578\n",
      "Total Loss: -23.100852966308594\n",
      "teacher_recall: 0.0625, student_recall: 0.2890625\n"
     ]
    },
    {
     "name": "stderr",
     "output_type": "stream",
     "text": [
      "Epoch 4/6:  75%|██████████████████████████████████████████████████████▊                  | 24/32 [10:44<02:24, 18.12s/it]"
     ]
    },
    {
     "name": "stdout",
     "output_type": "stream",
     "text": [
      "KD Loss: 0.0007527261623181403\n",
      "CE Loss: 1.654411792755127\n",
      "Disparity Loss: -24.581504821777344\n",
      "Total Loss: -23.753923416137695\n",
      "teacher_recall: 0.0625, student_recall: 0.2890625\n"
     ]
    },
    {
     "name": "stderr",
     "output_type": "stream",
     "text": [
      "Epoch 4/6:  78%|█████████████████████████████████████████████████████████                | 25/32 [11:29<03:02, 26.08s/it]"
     ]
    },
    {
     "name": "stdout",
     "output_type": "stream",
     "text": [
      "KD Loss: 0.0007075052126310766\n",
      "CE Loss: 1.8811193704605103\n",
      "Disparity Loss: -25.01507568359375\n",
      "Total Loss: -24.074161529541016\n",
      "teacher_recall: 0.0625, student_recall: 0.2890625\n"
     ]
    },
    {
     "name": "stderr",
     "output_type": "stream",
     "text": [
      "Epoch 4/6:  81%|███████████████████████████████████████████████████████████▎             | 26/32 [12:17<03:15, 32.62s/it]"
     ]
    },
    {
     "name": "stdout",
     "output_type": "stream",
     "text": [
      "KD Loss: 0.0007439436158165336\n",
      "CE Loss: 2.2197651863098145\n",
      "Disparity Loss: -25.319293975830078\n",
      "Total Loss: -24.20903968811035\n",
      "teacher_recall: 0.0625, student_recall: 0.2890625\n"
     ]
    },
    {
     "name": "stderr",
     "output_type": "stream",
     "text": [
      "Epoch 4/6:  84%|█████████████████████████████████████████████████████████████▌           | 27/32 [13:03<03:02, 36.54s/it]"
     ]
    },
    {
     "name": "stdout",
     "output_type": "stream",
     "text": [
      "KD Loss: 0.0006773114437237382\n",
      "CE Loss: 1.638932466506958\n",
      "Disparity Loss: -26.135900497436523\n",
      "Total Loss: -25.31609535217285\n",
      "teacher_recall: 0.0625, student_recall: 0.2890625\n"
     ]
    },
    {
     "name": "stderr",
     "output_type": "stream",
     "text": [
      "Epoch 4/6:  88%|███████████████████████████████████████████████████████████████▉         | 28/32 [13:49<02:37, 39.49s/it]"
     ]
    },
    {
     "name": "stdout",
     "output_type": "stream",
     "text": [
      "KD Loss: 0.000786264194175601\n",
      "CE Loss: 1.5568077564239502\n",
      "Disparity Loss: -26.653547286987305\n",
      "Total Loss: -25.8747501373291\n",
      "teacher_recall: 0.0625, student_recall: 0.2890625\n"
     ]
    },
    {
     "name": "stderr",
     "output_type": "stream",
     "text": [
      "Epoch 4/6:  91%|██████████████████████████████████████████████████████████████████▏      | 29/32 [14:36<02:04, 41.66s/it]"
     ]
    },
    {
     "name": "stdout",
     "output_type": "stream",
     "text": [
      "KD Loss: 0.0008657220168970525\n",
      "CE Loss: 1.695753574371338\n",
      "Disparity Loss: -27.118976593017578\n",
      "Total Loss: -26.270666122436523\n",
      "teacher_recall: 0.0625, student_recall: 0.2890625\n"
     ]
    },
    {
     "name": "stderr",
     "output_type": "stream",
     "text": [
      "Epoch 4/6:  94%|████████████████████████████████████████████████████████████████████▍    | 30/32 [15:00<01:12, 36.41s/it]"
     ]
    },
    {
     "name": "stdout",
     "output_type": "stream",
     "text": [
      "KD Loss: 0.0008554802043363452\n",
      "CE Loss: 1.882835865020752\n",
      "Disparity Loss: -27.436290740966797\n",
      "Total Loss: -26.49444580078125\n",
      "teacher_recall: 0.0625, student_recall: 0.2890625\n"
     ]
    },
    {
     "name": "stderr",
     "output_type": "stream",
     "text": [
      "Epoch 4/6:  97%|██████████████████████████████████████████████████████████████████████▋  | 31/32 [15:11<00:28, 28.78s/it]"
     ]
    },
    {
     "name": "stdout",
     "output_type": "stream",
     "text": [
      "KD Loss: 0.0007136812200769782\n",
      "CE Loss: 1.8208004236221313\n",
      "Disparity Loss: -27.84104347229004\n",
      "Total Loss: -26.930286407470703\n",
      "teacher_recall: 0.0625, student_recall: 0.2890625\n"
     ]
    },
    {
     "name": "stderr",
     "output_type": "stream",
     "text": [
      "Epoch 4/6: 100%|█████████████████████████████████████████████████████████████████████████| 32/32 [15:14<00:00, 28.57s/it]\n"
     ]
    },
    {
     "name": "stdout",
     "output_type": "stream",
     "text": [
      "KD Loss: 0.0007719187415204942\n",
      "CE Loss: 1.6325469017028809\n",
      "Disparity Loss: -27.990724563598633\n",
      "Total Loss: -27.17406463623047\n",
      "teacher_recall: 0.0625, student_recall: 0.2890625\n"
     ]
    },
    {
     "name": "stderr",
     "output_type": "stream",
     "text": [
      "Epoch 5/6:   3%|██▎                                                                       | 1/32 [00:11<05:44, 11.13s/it]"
     ]
    },
    {
     "name": "stdout",
     "output_type": "stream",
     "text": [
      "KD Loss: 0.000765507691539824\n",
      "CE Loss: 1.647902488708496\n",
      "Disparity Loss: -28.396968841552734\n",
      "Total Loss: -27.572635650634766\n",
      "teacher_recall: 0.0625, student_recall: 0.2890625\n"
     ]
    },
    {
     "name": "stderr",
     "output_type": "stream",
     "text": [
      "Epoch 5/6:   6%|████▋                                                                     | 2/32 [00:21<05:24, 10.80s/it]"
     ]
    },
    {
     "name": "stdout",
     "output_type": "stream",
     "text": [
      "KD Loss: 0.0006944331689737737\n",
      "CE Loss: 1.7083840370178223\n",
      "Disparity Loss: -28.754409790039062\n",
      "Total Loss: -27.899869918823242\n",
      "teacher_recall: 0.0625, student_recall: 0.2890625\n"
     ]
    },
    {
     "name": "stderr",
     "output_type": "stream",
     "text": [
      "Epoch 5/6:   9%|██████▉                                                                   | 3/32 [00:53<09:56, 20.55s/it]"
     ]
    },
    {
     "name": "stdout",
     "output_type": "stream",
     "text": [
      "KD Loss: 0.0006791569758206606\n",
      "CE Loss: 1.7393831014633179\n",
      "Disparity Loss: -29.05204963684082\n",
      "Total Loss: -28.182018280029297\n",
      "teacher_recall: 0.0625, student_recall: 0.2890625\n"
     ]
    },
    {
     "name": "stderr",
     "output_type": "stream",
     "text": [
      "Epoch 5/6:  12%|█████████▎                                                                | 4/32 [01:39<14:12, 30.46s/it]"
     ]
    },
    {
     "name": "stdout",
     "output_type": "stream",
     "text": [
      "KD Loss: 0.0006826600292697549\n",
      "CE Loss: 1.6439510583877563\n",
      "Disparity Loss: -29.395156860351562\n",
      "Total Loss: -28.572839736938477\n",
      "teacher_recall: 0.0625, student_recall: 0.2890625\n"
     ]
    },
    {
     "name": "stderr",
     "output_type": "stream",
     "text": [
      "Epoch 5/6:  16%|███████████▌                                                              | 5/32 [02:26<16:25, 36.49s/it]"
     ]
    },
    {
     "name": "stdout",
     "output_type": "stream",
     "text": [
      "KD Loss: 0.0009116925648413599\n",
      "CE Loss: 1.3501471281051636\n",
      "Disparity Loss: -29.658641815185547\n",
      "Total Loss: -28.983112335205078\n",
      "teacher_recall: 0.0625, student_recall: 0.2890625\n"
     ]
    },
    {
     "name": "stderr",
     "output_type": "stream",
     "text": [
      "Epoch 5/6:  19%|█████████████▉                                                            | 6/32 [03:12<17:15, 39.82s/it]"
     ]
    },
    {
     "name": "stdout",
     "output_type": "stream",
     "text": [
      "KD Loss: 0.0016101838555186987\n",
      "CE Loss: 1.6178741455078125\n",
      "Disparity Loss: -30.02003288269043\n",
      "Total Loss: -29.210290908813477\n",
      "teacher_recall: 0.0625, student_recall: 0.2890625\n"
     ]
    },
    {
     "name": "stderr",
     "output_type": "stream",
     "text": [
      "Epoch 5/6:  22%|████████████████▏                                                         | 7/32 [04:00<17:35, 42.20s/it]"
     ]
    },
    {
     "name": "stdout",
     "output_type": "stream",
     "text": [
      "KD Loss: 0.0007334529072977602\n",
      "CE Loss: 1.5111805200576782\n",
      "Disparity Loss: -30.402523040771484\n",
      "Total Loss: -29.64656639099121\n",
      "teacher_recall: 0.0625, student_recall: 0.2890625\n"
     ]
    },
    {
     "name": "stderr",
     "output_type": "stream",
     "text": [
      "Epoch 5/6:  25%|██████████████████▌                                                       | 8/32 [04:43<17:01, 42.58s/it]"
     ]
    },
    {
     "name": "stdout",
     "output_type": "stream",
     "text": [
      "KD Loss: 0.0007655470399186015\n",
      "CE Loss: 1.9342693090438843\n",
      "Disparity Loss: -30.602872848510742\n",
      "Total Loss: -29.63535499572754\n",
      "teacher_recall: 0.0625, student_recall: 0.2890625\n"
     ]
    },
    {
     "name": "stderr",
     "output_type": "stream",
     "text": [
      "Epoch 5/6:  28%|████████████████████▊                                                     | 9/32 [04:55<12:36, 32.88s/it]"
     ]
    },
    {
     "name": "stdout",
     "output_type": "stream",
     "text": [
      "KD Loss: 0.0006964568747207522\n",
      "CE Loss: 1.7746089696884155\n",
      "Disparity Loss: -31.011587142944336\n",
      "Total Loss: -30.123933792114258\n",
      "teacher_recall: 0.0625, student_recall: 0.2890625\n"
     ]
    },
    {
     "name": "stderr",
     "output_type": "stream",
     "text": [
      "Epoch 5/6:  31%|██████████████████████▊                                                  | 10/32 [05:05<09:33, 26.07s/it]"
     ]
    },
    {
     "name": "stdout",
     "output_type": "stream",
     "text": [
      "KD Loss: 0.00081062619574368\n",
      "CE Loss: 1.3045319318771362\n",
      "Disparity Loss: -31.384950637817383\n",
      "Total Loss: -30.73227882385254\n",
      "teacher_recall: 0.0625, student_recall: 0.2890625\n"
     ]
    },
    {
     "name": "stderr",
     "output_type": "stream",
     "text": [
      "Epoch 5/6:  34%|█████████████████████████                                                | 11/32 [05:16<07:31, 21.50s/it]"
     ]
    },
    {
     "name": "stdout",
     "output_type": "stream",
     "text": [
      "KD Loss: 0.0008645934285596013\n",
      "CE Loss: 1.6262823343276978\n",
      "Disparity Loss: -31.647695541381836\n",
      "Total Loss: -30.834121704101562\n",
      "teacher_recall: 0.0625, student_recall: 0.2890625\n"
     ]
    },
    {
     "name": "stderr",
     "output_type": "stream",
     "text": [
      "Epoch 5/6:  38%|███████████████████████████▍                                             | 12/32 [05:28<06:07, 18.36s/it]"
     ]
    },
    {
     "name": "stdout",
     "output_type": "stream",
     "text": [
      "KD Loss: 0.0007592244655825198\n",
      "CE Loss: 1.7304117679595947\n",
      "Disparity Loss: -31.886974334716797\n",
      "Total Loss: -31.02138900756836\n",
      "teacher_recall: 0.0625, student_recall: 0.2890625\n"
     ]
    },
    {
     "name": "stderr",
     "output_type": "stream",
     "text": [
      "Epoch 5/6:  41%|█████████████████████████████▋                                           | 13/32 [06:05<07:38, 24.16s/it]"
     ]
    },
    {
     "name": "stdout",
     "output_type": "stream",
     "text": [
      "KD Loss: 0.0009407597244717181\n",
      "CE Loss: 1.3794848918914795\n",
      "Disparity Loss: -32.308555603027344\n",
      "Total Loss: -31.618343353271484\n",
      "teacher_recall: 0.0625, student_recall: 0.2890625\n"
     ]
    },
    {
     "name": "stderr",
     "output_type": "stream",
     "text": [
      "Epoch 5/6:  44%|███████████████████████████████▉                                         | 14/32 [06:52<09:17, 30.99s/it]"
     ]
    },
    {
     "name": "stdout",
     "output_type": "stream",
     "text": [
      "KD Loss: 0.0008396207122132182\n",
      "CE Loss: 1.373415231704712\n",
      "Disparity Loss: -32.75590133666992\n",
      "Total Loss: -32.06877517700195\n",
      "teacher_recall: 0.0625, student_recall: 0.2890625\n"
     ]
    },
    {
     "name": "stderr",
     "output_type": "stream",
     "text": [
      "Epoch 5/6:  47%|██████████████████████████████████▏                                      | 15/32 [07:39<10:07, 35.76s/it]"
     ]
    },
    {
     "name": "stdout",
     "output_type": "stream",
     "text": [
      "KD Loss: 0.0010399336460977793\n",
      "CE Loss: 1.705948829650879\n",
      "Disparity Loss: -33.08945846557617\n",
      "Total Loss: -32.235965728759766\n",
      "teacher_recall: 0.0625, student_recall: 0.2890625\n"
     ]
    },
    {
     "name": "stderr",
     "output_type": "stream",
     "text": [
      "Epoch 5/6:  50%|████████████████████████████████████▌                                    | 16/32 [08:26<10:26, 39.13s/it]"
     ]
    },
    {
     "name": "stdout",
     "output_type": "stream",
     "text": [
      "KD Loss: 0.0007979791262187064\n",
      "CE Loss: 1.9882276058197021\n",
      "Disparity Loss: -33.38877868652344\n",
      "Total Loss: -32.394264221191406\n",
      "teacher_recall: 0.0625, student_recall: 0.2890625\n"
     ]
    },
    {
     "name": "stderr",
     "output_type": "stream",
     "text": [
      "Epoch 5/6:  53%|██████████████████████████████████████▊                                  | 17/32 [09:12<10:17, 41.18s/it]"
     ]
    },
    {
     "name": "stdout",
     "output_type": "stream",
     "text": [
      "KD Loss: 0.0008473378838971257\n",
      "CE Loss: 1.668566346168518\n",
      "Disparity Loss: -33.867042541503906\n",
      "Total Loss: -33.0323371887207\n",
      "teacher_recall: 0.0625, student_recall: 0.2890625\n"
     ]
    },
    {
     "name": "stderr",
     "output_type": "stream",
     "text": [
      "Epoch 5/6:  56%|█████████████████████████████████████████                                | 18/32 [09:40<08:43, 37.42s/it]"
     ]
    },
    {
     "name": "stdout",
     "output_type": "stream",
     "text": [
      "KD Loss: 0.000911898969206959\n",
      "CE Loss: 1.7685835361480713\n",
      "Disparity Loss: -34.18696212768555\n",
      "Total Loss: -33.302215576171875\n",
      "teacher_recall: 0.0625, student_recall: 0.2890625\n"
     ]
    },
    {
     "name": "stderr",
     "output_type": "stream",
     "text": [
      "Epoch 5/6:  59%|███████████████████████████████████████████▎                             | 19/32 [09:52<06:24, 29.56s/it]"
     ]
    },
    {
     "name": "stdout",
     "output_type": "stream",
     "text": [
      "KD Loss: 0.000878748600371182\n",
      "CE Loss: 1.5006415843963623\n",
      "Disparity Loss: -34.50741195678711\n",
      "Total Loss: -33.75665283203125\n",
      "teacher_recall: 0.0625, student_recall: 0.2890625\n"
     ]
    },
    {
     "name": "stderr",
     "output_type": "stream",
     "text": [
      "Epoch 5/6:  62%|█████████████████████████████████████████████▋                           | 20/32 [10:04<04:51, 24.31s/it]"
     ]
    },
    {
     "name": "stdout",
     "output_type": "stream",
     "text": [
      "KD Loss: 0.0009923350298777223\n",
      "CE Loss: 1.8849868774414062\n",
      "Disparity Loss: -34.783836364746094\n",
      "Total Loss: -33.84084701538086\n",
      "teacher_recall: 0.0625, student_recall: 0.2890625\n"
     ]
    },
    {
     "name": "stderr",
     "output_type": "stream",
     "text": [
      "Epoch 5/6:  66%|███████████████████████████████████████████████▉                         | 21/32 [10:15<03:43, 20.29s/it]"
     ]
    },
    {
     "name": "stdout",
     "output_type": "stream",
     "text": [
      "KD Loss: 0.0007083011441864073\n",
      "CE Loss: 1.893365740776062\n",
      "Disparity Loss: -35.16263961791992\n",
      "Total Loss: -34.21560287475586\n",
      "teacher_recall: 0.0625, student_recall: 0.2890625\n"
     ]
    },
    {
     "name": "stderr",
     "output_type": "stream",
     "text": [
      "Epoch 5/6:  69%|██████████████████████████████████████████████████▏                      | 22/32 [10:27<02:58, 17.81s/it]"
     ]
    },
    {
     "name": "stdout",
     "output_type": "stream",
     "text": [
      "KD Loss: 0.0016798687865957618\n",
      "CE Loss: 1.3401964902877808\n",
      "Disparity Loss: -35.43603515625\n",
      "Total Loss: -34.765098571777344\n",
      "teacher_recall: 0.0625, student_recall: 0.2890625\n"
     ]
    },
    {
     "name": "stderr",
     "output_type": "stream",
     "text": [
      "Epoch 5/6:  72%|████████████████████████████████████████████████████▍                    | 23/32 [11:12<03:55, 26.13s/it]"
     ]
    },
    {
     "name": "stdout",
     "output_type": "stream",
     "text": [
      "KD Loss: 0.0008566182805225253\n",
      "CE Loss: 1.431692361831665\n",
      "Disparity Loss: -35.711551666259766\n",
      "Total Loss: -34.995277404785156\n",
      "teacher_recall: 0.0625, student_recall: 0.2890625\n"
     ]
    },
    {
     "name": "stderr",
     "output_type": "stream",
     "text": [
      "Epoch 5/6:  75%|██████████████████████████████████████████████████████▊                  | 24/32 [11:59<04:18, 32.37s/it]"
     ]
    },
    {
     "name": "stdout",
     "output_type": "stream",
     "text": [
      "KD Loss: 0.0007590058376081288\n",
      "CE Loss: 1.4799963235855103\n",
      "Disparity Loss: -36.1709098815918\n",
      "Total Loss: -35.4305305480957\n",
      "teacher_recall: 0.0625, student_recall: 0.2890625\n"
     ]
    },
    {
     "name": "stderr",
     "output_type": "stream",
     "text": [
      "Epoch 5/6:  78%|█████████████████████████████████████████████████████████                | 25/32 [12:46<04:17, 36.73s/it]"
     ]
    },
    {
     "name": "stdout",
     "output_type": "stream",
     "text": [
      "KD Loss: 0.001809869077987969\n",
      "CE Loss: 1.2701475620269775\n",
      "Disparity Loss: -36.59381866455078\n",
      "Total Loss: -35.95783996582031\n",
      "teacher_recall: 0.0625, student_recall: 0.2890625\n"
     ]
    },
    {
     "name": "stderr",
     "output_type": "stream",
     "text": [
      "Epoch 5/6:  81%|███████████████████████████████████████████████████████████▎             | 26/32 [13:32<03:57, 39.63s/it]"
     ]
    },
    {
     "name": "stdout",
     "output_type": "stream",
     "text": [
      "KD Loss: 0.0006898942519910634\n",
      "CE Loss: 1.5688204765319824\n",
      "Disparity Loss: -36.86417007446289\n",
      "Total Loss: -36.07941436767578\n",
      "teacher_recall: 0.0625, student_recall: 0.2890625\n"
     ]
    },
    {
     "name": "stderr",
     "output_type": "stream",
     "text": [
      "Epoch 5/6:  84%|█████████████████████████████████████████████████████████████▌           | 27/32 [14:20<03:29, 41.95s/it]"
     ]
    },
    {
     "name": "stdout",
     "output_type": "stream",
     "text": [
      "KD Loss: 0.0011477912776172161\n",
      "CE Loss: 1.6943461894989014\n",
      "Disparity Loss: -37.22105407714844\n",
      "Total Loss: -36.37330627441406\n",
      "teacher_recall: 0.0625, student_recall: 0.2890625\n"
     ]
    },
    {
     "name": "stderr",
     "output_type": "stream",
     "text": [
      "Epoch 5/6:  88%|███████████████████████████████████████████████████████████████▉         | 28/32 [14:41<02:23, 35.89s/it]"
     ]
    },
    {
     "name": "stdout",
     "output_type": "stream",
     "text": [
      "KD Loss: 0.0008392611052840948\n",
      "CE Loss: 1.70827317237854\n",
      "Disparity Loss: -37.37495040893555\n",
      "Total Loss: -36.52039337158203\n",
      "teacher_recall: 0.0625, student_recall: 0.2890625\n"
     ]
    },
    {
     "name": "stderr",
     "output_type": "stream",
     "text": [
      "Epoch 5/6:  91%|██████████████████████████████████████████████████████████████████▏      | 29/32 [14:52<01:24, 28.28s/it]"
     ]
    },
    {
     "name": "stdout",
     "output_type": "stream",
     "text": [
      "KD Loss: 0.0011420882074162364\n",
      "CE Loss: 1.6653079986572266\n",
      "Disparity Loss: -37.746185302734375\n",
      "Total Loss: -36.912960052490234\n",
      "teacher_recall: 0.0625, student_recall: 0.3625\n"
     ]
    },
    {
     "name": "stderr",
     "output_type": "stream",
     "text": [
      "Epoch 5/6:  94%|████████████████████████████████████████████████████████████████████▍    | 30/32 [15:03<00:46, 23.01s/it]"
     ]
    },
    {
     "name": "stdout",
     "output_type": "stream",
     "text": [
      "KD Loss: 0.0008293007267639041\n",
      "CE Loss: 1.1964983940124512\n",
      "Disparity Loss: -37.98046112060547\n",
      "Total Loss: -37.381797790527344\n",
      "teacher_recall: 0.0625, student_recall: 0.3625\n"
     ]
    },
    {
     "name": "stderr",
     "output_type": "stream",
     "text": [
      "Epoch 5/6:  97%|██████████████████████████████████████████████████████████████████████▋  | 31/32 [15:13<00:19, 19.22s/it]"
     ]
    },
    {
     "name": "stdout",
     "output_type": "stream",
     "text": [
      "KD Loss: 0.0008168474305421114\n",
      "CE Loss: 1.7216980457305908\n",
      "Disparity Loss: -38.303009033203125\n",
      "Total Loss: -37.44175338745117\n",
      "teacher_recall: 0.0625, student_recall: 0.3625\n"
     ]
    },
    {
     "name": "stderr",
     "output_type": "stream",
     "text": [
      "Epoch 5/6: 100%|█████████████████████████████████████████████████████████████████████████| 32/32 [15:16<00:00, 28.64s/it]\n"
     ]
    },
    {
     "name": "stdout",
     "output_type": "stream",
     "text": [
      "KD Loss: 0.0007598433294333518\n",
      "CE Loss: 1.300687313079834\n",
      "Disparity Loss: -38.424442291259766\n",
      "Total Loss: -37.773719787597656\n",
      "teacher_recall: 0.0625, student_recall: 0.3625\n"
     ]
    },
    {
     "name": "stderr",
     "output_type": "stream",
     "text": [
      "Epoch 6/6:   3%|██▎                                                                       | 1/32 [00:28<14:44, 28.54s/it]"
     ]
    },
    {
     "name": "stdout",
     "output_type": "stream",
     "text": [
      "KD Loss: 0.0013803682522848248\n",
      "CE Loss: 1.4027246236801147\n",
      "Disparity Loss: -38.73764419555664\n",
      "Total Loss: -38.03559112548828\n",
      "teacher_recall: 0.0625, student_recall: 0.3625\n"
     ]
    },
    {
     "name": "stderr",
     "output_type": "stream",
     "text": [
      "Epoch 6/6:   6%|████▋                                                                     | 2/32 [01:14<19:27, 38.92s/it]"
     ]
    },
    {
     "name": "stdout",
     "output_type": "stream",
     "text": [
      "KD Loss: 0.0007185307913459837\n",
      "CE Loss: 1.5138155221939087\n",
      "Disparity Loss: -38.83159255981445\n",
      "Total Loss: -38.07432556152344\n",
      "teacher_recall: 0.0625, student_recall: 0.3625\n"
     ]
    },
    {
     "name": "stderr",
     "output_type": "stream",
     "text": [
      "Epoch 6/6:   9%|██████▉                                                                   | 3/32 [01:59<20:11, 41.79s/it]"
     ]
    },
    {
     "name": "stdout",
     "output_type": "stream",
     "text": [
      "KD Loss: 0.0010271467035636306\n",
      "CE Loss: 1.4229246377944946\n",
      "Disparity Loss: -39.016239166259766\n",
      "Total Loss: -38.304264068603516\n",
      "teacher_recall: 0.0625, student_recall: 0.3625\n"
     ]
    },
    {
     "name": "stderr",
     "output_type": "stream",
     "text": [
      "Epoch 6/6:  12%|█████████▎                                                                | 4/32 [02:45<20:10, 43.24s/it]"
     ]
    },
    {
     "name": "stdout",
     "output_type": "stream",
     "text": [
      "KD Loss: 0.001034302287735045\n",
      "CE Loss: 1.2130482196807861\n",
      "Disparity Loss: -39.45260238647461\n",
      "Total Loss: -38.84556198120117\n",
      "teacher_recall: 0.0625, student_recall: 0.3625\n"
     ]
    },
    {
     "name": "stderr",
     "output_type": "stream",
     "text": [
      "Epoch 6/6:  16%|███████████▌                                                              | 5/32 [03:30<19:50, 44.08s/it]"
     ]
    },
    {
     "name": "stdout",
     "output_type": "stream",
     "text": [
      "KD Loss: 0.0012724044499918818\n",
      "CE Loss: 1.1474230289459229\n",
      "Disparity Loss: -39.794593811035156\n",
      "Total Loss: -39.220245361328125\n",
      "teacher_recall: 0.0625, student_recall: 0.3625\n"
     ]
    },
    {
     "name": "stderr",
     "output_type": "stream",
     "text": [
      "Epoch 6/6:  19%|█████████████▉                                                            | 6/32 [04:15<19:14, 44.39s/it]"
     ]
    },
    {
     "name": "stdout",
     "output_type": "stream",
     "text": [
      "KD Loss: 0.000923518615309149\n",
      "CE Loss: 1.3698604106903076\n",
      "Disparity Loss: -40.096885681152344\n",
      "Total Loss: -39.411495208740234\n",
      "teacher_recall: 0.0625, student_recall: 0.3625\n"
     ]
    },
    {
     "name": "stderr",
     "output_type": "stream",
     "text": [
      "Epoch 6/6:  22%|████████████████▏                                                         | 7/32 [04:27<14:02, 33.69s/it]"
     ]
    },
    {
     "name": "stdout",
     "output_type": "stream",
     "text": [
      "KD Loss: 0.0011907343287020922\n",
      "CE Loss: 1.1644701957702637\n",
      "Disparity Loss: -40.241275787353516\n",
      "Total Loss: -39.658443450927734\n",
      "teacher_recall: 0.0625, student_recall: 0.3625\n"
     ]
    },
    {
     "name": "stderr",
     "output_type": "stream",
     "text": [
      "Epoch 6/6:  25%|██████████████████▌                                                       | 8/32 [04:38<10:32, 26.34s/it]"
     ]
    },
    {
     "name": "stdout",
     "output_type": "stream",
     "text": [
      "KD Loss: 0.0011880144011229277\n",
      "CE Loss: 0.8951945304870605\n",
      "Disparity Loss: -40.55973815917969\n",
      "Total Loss: -40.11154556274414\n",
      "teacher_recall: 0.0625, student_recall: 0.3625\n"
     ]
    },
    {
     "name": "stderr",
     "output_type": "stream",
     "text": [
      "Epoch 6/6:  28%|████████████████████▊                                                     | 9/32 [04:48<08:12, 21.42s/it]"
     ]
    },
    {
     "name": "stdout",
     "output_type": "stream",
     "text": [
      "KD Loss: 0.0010516110341995955\n",
      "CE Loss: 1.2753294706344604\n",
      "Disparity Loss: -40.84858322143555\n",
      "Total Loss: -40.210391998291016\n",
      "teacher_recall: 0.0625, student_recall: 0.3625\n"
     ]
    },
    {
     "name": "stderr",
     "output_type": "stream",
     "text": [
      "Epoch 6/6:  31%|██████████████████████▊                                                  | 10/32 [05:00<06:42, 18.32s/it]"
     ]
    },
    {
     "name": "stdout",
     "output_type": "stream",
     "text": [
      "KD Loss: 0.0012846325989812613\n",
      "CE Loss: 1.0812238454818726\n",
      "Disparity Loss: -41.05656433105469\n",
      "Total Loss: -40.51530838012695\n",
      "teacher_recall: 0.0625, student_recall: 0.3625\n"
     ]
    },
    {
     "name": "stderr",
     "output_type": "stream",
     "text": [
      "Epoch 6/6:  34%|█████████████████████████                                                | 11/32 [05:13<05:52, 16.77s/it]"
     ]
    },
    {
     "name": "stdout",
     "output_type": "stream",
     "text": [
      "KD Loss: 0.0009540269384160638\n",
      "CE Loss: 1.2093201875686646\n",
      "Disparity Loss: -41.36121368408203\n",
      "Total Loss: -40.75607681274414\n",
      "teacher_recall: 0.0625, student_recall: 0.3625\n"
     ]
    },
    {
     "name": "stderr",
     "output_type": "stream",
     "text": [
      "Epoch 6/6:  38%|███████████████████████████▍                                             | 12/32 [05:59<08:36, 25.81s/it]"
     ]
    },
    {
     "name": "stdout",
     "output_type": "stream",
     "text": [
      "KD Loss: 0.0009169761324301362\n",
      "CE Loss: 1.5882691144943237\n",
      "Disparity Loss: -41.59824752807617\n",
      "Total Loss: -40.803653717041016\n",
      "teacher_recall: 0.0625, student_recall: 0.3625\n"
     ]
    },
    {
     "name": "stderr",
     "output_type": "stream",
     "text": [
      "Epoch 6/6:  41%|█████████████████████████████▋                                           | 13/32 [06:45<10:05, 31.87s/it]"
     ]
    },
    {
     "name": "stdout",
     "output_type": "stream",
     "text": [
      "KD Loss: 0.000923369312658906\n",
      "CE Loss: 1.245047688484192\n",
      "Disparity Loss: -41.82252502441406\n",
      "Total Loss: -41.19953918457031\n",
      "teacher_recall: 0.0625, student_recall: 0.3625\n"
     ]
    },
    {
     "name": "stderr",
     "output_type": "stream",
     "text": [
      "Epoch 6/6:  44%|███████████████████████████████▉                                         | 14/32 [07:31<10:51, 36.17s/it]"
     ]
    },
    {
     "name": "stdout",
     "output_type": "stream",
     "text": [
      "KD Loss: 0.001304927747696638\n",
      "CE Loss: 1.6732022762298584\n",
      "Disparity Loss: -42.27085494995117\n",
      "Total Loss: -41.43360137939453\n",
      "teacher_recall: 0.0625, student_recall: 0.3625\n"
     ]
    },
    {
     "name": "stderr",
     "output_type": "stream",
     "text": [
      "Epoch 6/6:  47%|██████████████████████████████████▏                                      | 15/32 [08:17<11:04, 39.08s/it]"
     ]
    },
    {
     "name": "stdout",
     "output_type": "stream",
     "text": [
      "KD Loss: 0.0018861328717321157\n",
      "CE Loss: 1.7854667901992798\n",
      "Disparity Loss: -42.63508987426758\n",
      "Total Loss: -41.74141311645508\n",
      "teacher_recall: 0.0625, student_recall: 0.3625\n"
     ]
    },
    {
     "name": "stderr",
     "output_type": "stream",
     "text": [
      "Epoch 6/6:  50%|████████████████████████████████████▌                                    | 16/32 [09:04<11:02, 41.42s/it]"
     ]
    },
    {
     "name": "stdout",
     "output_type": "stream",
     "text": [
      "KD Loss: 0.0011185479816049337\n",
      "CE Loss: 1.2016080617904663\n",
      "Disparity Loss: -42.95801544189453\n",
      "Total Loss: -42.356651306152344\n",
      "teacher_recall: 0.0625, student_recall: 0.3625\n"
     ]
    },
    {
     "name": "stderr",
     "output_type": "stream",
     "text": [
      "Epoch 6/6:  53%|██████████████████████████████████████▊                                  | 17/32 [09:25<08:49, 35.30s/it]"
     ]
    },
    {
     "name": "stdout",
     "output_type": "stream",
     "text": [
      "KD Loss: 0.0013839175226166844\n",
      "CE Loss: 1.3994784355163574\n",
      "Disparity Loss: -43.19031524658203\n",
      "Total Loss: -42.48988342285156\n",
      "teacher_recall: 0.0625, student_recall: 0.3625\n"
     ]
    },
    {
     "name": "stderr",
     "output_type": "stream",
     "text": [
      "Epoch 6/6:  56%|█████████████████████████████████████████                                | 18/32 [09:35<06:28, 27.76s/it]"
     ]
    },
    {
     "name": "stdout",
     "output_type": "stream",
     "text": [
      "KD Loss: 0.0009302544640377164\n",
      "CE Loss: 1.5763508081436157\n",
      "Disparity Loss: -43.39988708496094\n",
      "Total Loss: -42.61124801635742\n",
      "teacher_recall: 0.0625, student_recall: 0.3625\n"
     ]
    },
    {
     "name": "stderr",
     "output_type": "stream",
     "text": [
      "Epoch 6/6:  59%|███████████████████████████████████████████▎                             | 19/32 [09:46<04:54, 22.62s/it]"
     ]
    },
    {
     "name": "stdout",
     "output_type": "stream",
     "text": [
      "KD Loss: 0.0009337412193417549\n",
      "CE Loss: 1.430769681930542\n",
      "Disparity Loss: -43.602928161621094\n",
      "Total Loss: -42.88707733154297\n",
      "teacher_recall: 0.0625, student_recall: 0.3625\n"
     ]
    },
    {
     "name": "stderr",
     "output_type": "stream",
     "text": [
      "Epoch 6/6:  62%|█████████████████████████████████████████████▋                           | 20/32 [09:57<03:48, 19.05s/it]"
     ]
    },
    {
     "name": "stdout",
     "output_type": "stream",
     "text": [
      "KD Loss: 0.001073183724656701\n",
      "CE Loss: 1.0426127910614014\n",
      "Disparity Loss: -44.11662673950195\n",
      "Total Loss: -43.594783782958984\n",
      "teacher_recall: 0.0625, student_recall: 0.3625\n"
     ]
    },
    {
     "name": "stderr",
     "output_type": "stream",
     "text": [
      "Epoch 6/6:  66%|███████████████████████████████████████████████▉                         | 21/32 [10:08<03:03, 16.69s/it]"
     ]
    },
    {
     "name": "stdout",
     "output_type": "stream",
     "text": [
      "KD Loss: 0.0011329228291288018\n",
      "CE Loss: 1.3241307735443115\n",
      "Disparity Loss: -44.330047607421875\n",
      "Total Loss: -43.667415618896484\n",
      "teacher_recall: 0.08333333333333333, student_recall: 0.4166666666666667\n"
     ]
    },
    {
     "name": "stderr",
     "output_type": "stream",
     "text": [
      "Epoch 6/6:  69%|██████████████████████████████████████████████████▏                      | 22/32 [10:48<03:57, 23.78s/it]"
     ]
    },
    {
     "name": "stdout",
     "output_type": "stream",
     "text": [
      "KD Loss: 0.0010905812960118055\n",
      "CE Loss: 1.4687716960906982\n",
      "Disparity Loss: -44.707244873046875\n",
      "Total Loss: -43.972312927246094\n",
      "teacher_recall: 0.08333333333333333, student_recall: 0.4166666666666667\n"
     ]
    },
    {
     "name": "stderr",
     "output_type": "stream",
     "text": [
      "Epoch 6/6:  72%|████████████████████████████████████████████████████▍                    | 23/32 [11:37<04:40, 31.19s/it]"
     ]
    },
    {
     "name": "stdout",
     "output_type": "stream",
     "text": [
      "KD Loss: 0.0009204117232002318\n",
      "CE Loss: 1.6887662410736084\n",
      "Disparity Loss: -45.03258514404297\n",
      "Total Loss: -44.187740325927734\n",
      "teacher_recall: 0.08333333333333333, student_recall: 0.4166666666666667\n"
     ]
    },
    {
     "name": "stderr",
     "output_type": "stream",
     "text": [
      "Epoch 6/6:  75%|██████████████████████████████████████████████████████▊                  | 24/32 [12:24<04:49, 36.18s/it]"
     ]
    },
    {
     "name": "stdout",
     "output_type": "stream",
     "text": [
      "KD Loss: 0.0009138910099864006\n",
      "CE Loss: 1.333770751953125\n",
      "Disparity Loss: -45.32902145385742\n",
      "Total Loss: -44.661678314208984\n",
      "teacher_recall: 0.08333333333333333, student_recall: 0.4166666666666667\n"
     ]
    },
    {
     "name": "stderr",
     "output_type": "stream",
     "text": [
      "Epoch 6/6:  78%|█████████████████████████████████████████████████████████                | 25/32 [13:12<04:36, 39.46s/it]"
     ]
    },
    {
     "name": "stdout",
     "output_type": "stream",
     "text": [
      "KD Loss: 0.0008821590454317629\n",
      "CE Loss: 1.3979307413101196\n",
      "Disparity Loss: -45.590545654296875\n",
      "Total Loss: -44.89113998413086\n",
      "teacher_recall: 0.08333333333333333, student_recall: 0.4166666666666667\n"
     ]
    },
    {
     "name": "stderr",
     "output_type": "stream",
     "text": [
      "Epoch 6/6:  81%|███████████████████████████████████████████████████████████▎             | 26/32 [13:58<04:10, 41.67s/it]"
     ]
    },
    {
     "name": "stdout",
     "output_type": "stream",
     "text": [
      "KD Loss: 0.0010987528366968036\n",
      "CE Loss: 1.4619865417480469\n",
      "Disparity Loss: -45.80363464355469\n",
      "Total Loss: -45.07209014892578\n",
      "teacher_recall: 0.08333333333333333, student_recall: 0.4166666666666667\n"
     ]
    },
    {
     "name": "stderr",
     "output_type": "stream",
     "text": [
      "Epoch 6/6:  84%|█████████████████████████████████████████████████████████████▌           | 27/32 [14:24<03:04, 36.89s/it]"
     ]
    },
    {
     "name": "stdout",
     "output_type": "stream",
     "text": [
      "KD Loss: 0.000940878177061677\n",
      "CE Loss: 1.4513232707977295\n",
      "Disparity Loss: -46.14729309082031\n",
      "Total Loss: -45.42116165161133\n",
      "teacher_recall: 0.08333333333333333, student_recall: 0.4166666666666667\n"
     ]
    },
    {
     "name": "stderr",
     "output_type": "stream",
     "text": [
      "Epoch 6/6:  88%|███████████████████████████████████████████████████████████████▉         | 28/32 [14:35<01:56, 29.08s/it]"
     ]
    },
    {
     "name": "stdout",
     "output_type": "stream",
     "text": [
      "KD Loss: 0.0009462160523980856\n",
      "CE Loss: 1.5178388357162476\n",
      "Disparity Loss: -46.381065368652344\n",
      "Total Loss: -45.621673583984375\n",
      "teacher_recall: 0.08333333333333333, student_recall: 0.4166666666666667\n"
     ]
    },
    {
     "name": "stderr",
     "output_type": "stream",
     "text": [
      "Epoch 6/6:  91%|██████████████████████████████████████████████████████████████████▏      | 29/32 [14:46<01:11, 23.69s/it]"
     ]
    },
    {
     "name": "stdout",
     "output_type": "stream",
     "text": [
      "KD Loss: 0.0014063374837860465\n",
      "CE Loss: 1.2450166940689087\n",
      "Disparity Loss: -46.700008392333984\n",
      "Total Loss: -46.07679748535156\n",
      "teacher_recall: 0.08333333333333333, student_recall: 0.4166666666666667\n"
     ]
    },
    {
     "name": "stderr",
     "output_type": "stream",
     "text": [
      "Epoch 6/6:  94%|████████████████████████████████████████████████████████████████████▍    | 30/32 [14:57<00:39, 19.87s/it]"
     ]
    },
    {
     "name": "stdout",
     "output_type": "stream",
     "text": [
      "KD Loss: 0.000841378525365144\n",
      "CE Loss: 1.4747294187545776\n",
      "Disparity Loss: -47.060630798339844\n",
      "Total Loss: -46.322845458984375\n",
      "teacher_recall: 0.08333333333333333, student_recall: 0.4166666666666667\n"
     ]
    },
    {
     "name": "stderr",
     "output_type": "stream",
     "text": [
      "Epoch 6/6:  97%|██████████████████████████████████████████████████████████████████████▋  | 31/32 [15:09<00:17, 17.51s/it]"
     ]
    },
    {
     "name": "stdout",
     "output_type": "stream",
     "text": [
      "KD Loss: 0.001189011032693088\n",
      "CE Loss: 1.381677508354187\n",
      "Disparity Loss: -47.28691864013672\n",
      "Total Loss: -46.59548568725586\n",
      "teacher_recall: 0.08333333333333333, student_recall: 0.4166666666666667\n"
     ]
    },
    {
     "name": "stderr",
     "output_type": "stream",
     "text": [
      "Epoch 6/6: 100%|█████████████████████████████████████████████████████████████████████████| 32/32 [15:13<00:00, 28.55s/it]"
     ]
    },
    {
     "name": "stdout",
     "output_type": "stream",
     "text": [
      "KD Loss: 0.001934008440002799\n",
      "CE Loss: 1.0097072124481201\n",
      "Disparity Loss: -47.329193115234375\n",
      "Total Loss: -46.82337188720703\n",
      "teacher_recall: 0.08333333333333333, student_recall: 0.4166666666666667\n"
     ]
    },
    {
     "name": "stderr",
     "output_type": "stream",
     "text": [
      "\n"
     ]
    },
    {
     "data": {
      "image/png": "[encoded data removed]",
      "text/plain": [
       "<Figure size 1000x600 with 1 Axes>"
      ]
     },
     "metadata": {},
     "output_type": "display_data"
    }
   ],
   "source": [
    "# Enable anomaly detection\n",
    "torch.autograd.set_detect_anomaly(True)\n",
    "\n",
    "# Update the total number of epochs to include fine-tuning epochs\n",
    "total_epochs = num_epochs + fine_tune_epochs\n",
    "\n",
    "# Lists to store loss values\n",
    "kd_loss_values = []\n",
    "ce_loss_values = []\n",
    "disparity_loss_values = []\n",
    "total_loss_values = []\n",
    "\n",
    "# Training loop\n",
    "for epoch in range(total_epochs):\n",
    "    pbar = tqdm(train_loader, desc=f'Epoch {epoch + 1}/{total_epochs}')\n",
    "    # Change learning rate for fine-tuning phase\n",
    "    if epoch == num_epochs:\n",
    "        for param_group in optimizer_student.param_groups:\n",
    "            param_group['lr'] = fine_tune_learning_rate\n",
    "        for param_group in optimizer_teacher.param_groups:\n",
    "            param_group['lr'] = fine_tune_learning_rate\n",
    "        print(f'Starting fine-tuning with learning rate: {fine_tune_learning_rate}')\n",
    "\n",
    "    student_model.train()\n",
    "    teacher_model.train()\n",
    "    for images, labels, annotations in pbar:\n",
    "        images, labels = images.to(device), labels.to(device)\n",
    "        optimizer_student.zero_grad()\n",
    "        optimizer_teacher.zero_grad()\n",
    "\n",
    "        # Forward pass\n",
    "        teacher_outputs = teacher_model(images).to(device)\n",
    "        student_outputs = student_model(images).to(device)\n",
    "\n",
    "        # Calculate additional metrics including recall\n",
    "        y_true = labels.cpu().numpy()\n",
    "        y_pred_student = torch.argmax(student_outputs, dim=1).cpu().numpy()\n",
    "        y_pred_teacher = torch.argmax(teacher_outputs, dim=1).cpu().numpy()\n",
    "        \n",
    "        # Calculate additional metrics including recall\n",
    "        recall_student = recall_score(y_true, y_pred_student, average='weighted', zero_division=0)\n",
    "        recall_teacher = recall_score(y_true, y_pred_teacher, average='weighted', zero_division=0)\n",
    "\n",
    "        # Update recall values\n",
    "        for attr in attributes:\n",
    "            for concept in concepts:\n",
    "                # Check if the sample belongs to the specified attribute and concept\n",
    "                attr_indices = np.where(annotations[:, attr_idx[attr]].cpu().numpy() == 1)[0]  # Get indices where attribute is 1\n",
    "                concept_indices = np.where(labels.cpu().numpy() == class_to_idx[concept])[0]  # Get indices where concept matches\n",
    "                common_indices = np.intersect1d(attr_indices, concept_indices)  # Common indices\n",
    "                if common_indices.size > 0:\n",
    "                    teacher_recall_values[attr][concept].append(recall_teacher)\n",
    "                    student_recall_values[attr][concept].append(recall_student)\n",
    "\n",
    "        # Calculate the Knowledge Distillation loss and Cross Entropy loss\n",
    "        kd_loss = criterion_student(\n",
    "            F.log_softmax(student_outputs / temperature, dim=1),  # Apply temperature scaling\n",
    "            F.softmax(teacher_outputs / temperature, dim=1)  # Apply temperature scaling\n",
    "        )\n",
    "        ce_loss = criterion_teacher(student_outputs, labels)\n",
    "        \n",
    "        # Append the loss values for plotting\n",
    "        kd_loss_values.append(kd_loss.item())\n",
    "        ce_loss_values.append(ce_loss.item())\n",
    "    \n",
    "        # Calculate the disparity for each attribute and concept\n",
    "        disparity_loss_sum = 0  # Initialize a variable to sum the disparity losses\n",
    "        for attr in attributes:\n",
    "            for concept in concepts:\n",
    "                # Check if the recall values lists are not empty before computing the mean\n",
    "                if teacher_recall_values[attr][concept] and student_recall_values[attr][concept]:\n",
    "                    teacher_recall = np.mean(teacher_recall_values[attr][concept])\n",
    "                    student_recall = np.mean(student_recall_values[attr][concept])\n",
    "                    disparity = teacher_recall - student_recall\n",
    "                    disparity_tensor = torch.tensor(disparity, dtype=torch.float32).to(device)  # Convert disparity to a PyTorch tensor\n",
    "                    disparity_loss_sum += disparity_weight * disparity_tensor  # Sum the disparity losses\n",
    "\n",
    "        if torch.isnan(disparity_loss_sum):\n",
    "            disparity_loss_sum = torch.tensor(0.0, dtype=torch.float32).to(device)\n",
    "                \n",
    "        disparity_loss_values.append(disparity_loss_sum.item())\n",
    "        # Combine the losses\n",
    "        total_loss = alpha * kd_loss + (1 - alpha) * ce_loss + disparity_loss_sum\n",
    "\n",
    "        # Append the total loss value for plotting\n",
    "        total_loss_values.append(total_loss.item())\n",
    "\n",
    "        # Perform the backward pass\n",
    "        total_loss.backward()\n",
    "\n",
    "        # Optimize the models\n",
    "        optimizer_student.step()\n",
    "        optimizer_teacher.step()\n",
    "\n",
    "        # Zero the gradients after updating weights\n",
    "        optimizer_student.zero_grad()\n",
    "        optimizer_teacher.zero_grad()\n",
    "\n",
    "        print(f'KD Loss: {kd_loss.item()}')\n",
    "        print(f'CE Loss: {ce_loss.item()}')\n",
    "        print(f'Disparity Loss: {disparity_loss_sum.item()}')\n",
    "        print(f'Total Loss: {total_loss.item()}')\n",
    "        print(f'teacher_recall: {teacher_recall}, student_recall: {student_recall}')\n",
    "\n",
    "        # print(f'Labels: {labels.cpu().numpy()}')\n",
    "        # print(f'Student Predictions: {torch.argmax(student_outputs, dim=1).cpu().numpy()}')\n",
    "        # print(f'Teacher Predictions: {torch.argmax(teacher_outputs, dim=1).cpu().numpy()}')\n",
    "        # print(f'attr_indices: {attr_indices}')\n",
    "        # print(f'concept_indices: {concept_indices}')\n",
    "        # print(f'common_indices: {common_indices}')\n",
    "        # print(f'Student Outputs: {student_outputs}')\n",
    "        # print(f'Teacher Outputs: {teacher_outputs}')\n",
    "        # print(f'annotations: {annotations}')\n",
    "        # print(f'attr: {attr}, concept: {concept}')\n",
    "        # print(f'attr_idx: {attr_idx}, class_to_idx: {class_to_idx}')\n",
    "        # print(f'Size of common_indices: {common_indices.size}')\n",
    "        # print(f'Manual Student Recall: {recall_score(y_true, y_pred_student, average=\"weighted\", zero_division=0)}')\n",
    "        # print(f'Manual Teacher Recall: {recall_score(y_true, y_pred_teacher, average=\"weighted\", zero_division=0)}')\n",
    "\n",
    "# Disable anomaly detection when done\n",
    "torch.autograd.set_detect_anomaly(False)\n",
    "\n",
    "# Plotting the loss values\n",
    "plt.figure(figsize=(10, 6))\n",
    "plt.plot(kd_loss_values, label='KD Loss')\n",
    "plt.plot(ce_loss_values, label='CE Loss')\n",
    "plt.plot(disparity_loss_values, label='Disparity Loss')\n",
    "plt.plot(total_loss_values, label='Total Loss')\n",
    "plt.xlabel('Iteration')\n",
    "plt.ylabel('Loss')\n",
    "plt.legend()\n",
    "plt.title('Loss vs Iteration')\n",
    "plt.show()\n"
   ]
  },
  {
   "cell_type": "markdown",
   "id": "14901784",
   "metadata": {},
   "source": [
    "# Evaluate"
   ]
  },
  {
   "cell_type": "code",
   "execution_count": 21,
   "id": "7269dd13-feeb-4da4-ba83-89af85450e70",
   "metadata": {},
   "outputs": [],
   "source": [
    "def calculate_disparity(teacher_recall_values, student_recall_values):\n",
    "    disparity_values = {}\n",
    "    for attr in attributes:  # Ensure 'attributes' is defined and correctly formatted\n",
    "        disparity_values[attr] = {}\n",
    "        for concept in concepts:  # Ensure 'concepts' is defined and correctly formatted\n",
    "            teacher_values = teacher_recall_values.get(attr, {}).get(concept, [])\n",
    "            student_values = student_recall_values.get(attr, {}).get(concept, [])\n",
    "            if teacher_values and student_values:  # Check non-empty lists\n",
    "                disparity_values[attr][concept] = np.mean(\n",
    "                    [teacher_val - student_val for teacher_val, student_val in zip(teacher_values, student_values)]\n",
    "                )\n",
    "            else:\n",
    "                print(f\"Missing values for attr: {attr}, concept: {concept}\")  # Debugging print statement\n",
    "    return disparity_values"
   ]
  },
  {
   "cell_type": "code",
   "execution_count": 22,
   "id": "8eaac4b6-07b8-44b4-ba19-240926f7bddd",
   "metadata": {},
   "outputs": [
    {
     "name": "stdout",
     "output_type": "stream",
     "text": [
      "Missing values for attr: gender_presentation_masc, concept: cheerleader\n",
      "Missing values for attr: gender_presentation_masc, concept: bartender\n",
      "Missing values for attr: gender_presentation_fem, concept: astronaut\n",
      "Missing values for attr: gender_presentation_fem, concept: fireman\n",
      "Missing values for attr: gender_presentation_fem, concept: referee\n",
      "Missing values for attr: gender_presentation_fem, concept: flutist\n",
      "Missing values for attr: gender_presentation_fem, concept: carpenter\n",
      "Missing values for attr: gender_presentation_fem, concept: ballplayer\n",
      "Missing values for attr: gender_presentation_fem, concept: electrician\n",
      "Missing values for attr: gender_presentation_fem, concept: trumpeter\n",
      "Missing values for attr: gender_presentation_fem, concept: bartender\n",
      "Missing values for attr: gender_presentation_non_binary, concept: gymnast\n",
      "Missing values for attr: gender_presentation_non_binary, concept: boatman\n",
      "Missing values for attr: gender_presentation_non_binary, concept: lifeguard\n",
      "Missing values for attr: gender_presentation_non_binary, concept: backpacker\n",
      "Missing values for attr: gender_presentation_non_binary, concept: lawman\n",
      "Missing values for attr: gender_presentation_non_binary, concept: laborer\n",
      "Missing values for attr: gender_presentation_non_binary, concept: patient\n",
      "Missing values for attr: gender_presentation_non_binary, concept: basketball_player\n",
      "Missing values for attr: gender_presentation_non_binary, concept: nurse\n",
      "Missing values for attr: gender_presentation_non_binary, concept: singer\n",
      "Missing values for attr: gender_presentation_non_binary, concept: motorcyclist\n",
      "Missing values for attr: gender_presentation_non_binary, concept: astronaut\n",
      "Missing values for attr: gender_presentation_non_binary, concept: fireman\n",
      "Missing values for attr: gender_presentation_non_binary, concept: referee\n",
      "Missing values for attr: gender_presentation_non_binary, concept: speaker\n",
      "Missing values for attr: gender_presentation_non_binary, concept: guitarist\n",
      "Missing values for attr: gender_presentation_non_binary, concept: repairman\n",
      "Missing values for attr: gender_presentation_non_binary, concept: craftsman\n",
      "Missing values for attr: gender_presentation_non_binary, concept: guard\n",
      "Missing values for attr: gender_presentation_non_binary, concept: painter\n",
      "Missing values for attr: gender_presentation_non_binary, concept: doctor\n",
      "Missing values for attr: gender_presentation_non_binary, concept: farmer\n",
      "Missing values for attr: gender_presentation_non_binary, concept: drummer\n",
      "Missing values for attr: gender_presentation_non_binary, concept: climber\n",
      "Missing values for attr: gender_presentation_non_binary, concept: disk_jockey\n",
      "Missing values for attr: gender_presentation_non_binary, concept: soccer_player\n",
      "Missing values for attr: gender_presentation_non_binary, concept: student\n",
      "Missing values for attr: gender_presentation_non_binary, concept: soldier\n",
      "Missing values for attr: gender_presentation_non_binary, concept: cheerleader\n",
      "Missing values for attr: gender_presentation_non_binary, concept: flutist\n",
      "Missing values for attr: gender_presentation_non_binary, concept: runner\n",
      "Missing values for attr: gender_presentation_non_binary, concept: retailer\n",
      "Missing values for attr: gender_presentation_non_binary, concept: machinist\n",
      "Missing values for attr: gender_presentation_non_binary, concept: reporter\n",
      "Missing values for attr: gender_presentation_non_binary, concept: horseman\n",
      "Missing values for attr: gender_presentation_non_binary, concept: tennis_player\n",
      "Missing values for attr: gender_presentation_non_binary, concept: computer_user\n",
      "Missing values for attr: gender_presentation_non_binary, concept: carpenter\n",
      "Missing values for attr: gender_presentation_non_binary, concept: seller\n",
      "Missing values for attr: gender_presentation_non_binary, concept: skateboarder\n",
      "Missing values for attr: gender_presentation_non_binary, concept: gardener\n",
      "Missing values for attr: gender_presentation_non_binary, concept: waiter\n",
      "Missing values for attr: gender_presentation_non_binary, concept: prayer\n",
      "Missing values for attr: gender_presentation_non_binary, concept: ballplayer\n",
      "Missing values for attr: gender_presentation_non_binary, concept: sculptor\n",
      "Missing values for attr: gender_presentation_non_binary, concept: teacher\n",
      "Missing values for attr: gender_presentation_non_binary, concept: electrician\n",
      "Missing values for attr: gender_presentation_non_binary, concept: hairdresser\n",
      "Missing values for attr: gender_presentation_non_binary, concept: judge\n",
      "Missing values for attr: gender_presentation_non_binary, concept: trumpeter\n",
      "Missing values for attr: gender_presentation_non_binary, concept: bartender\n",
      "Missing values for attr: gender_presentation_na, concept: singer\n",
      "Missing values for attr: gender_presentation_na, concept: astronaut\n",
      "Missing values for attr: gender_presentation_na, concept: guitarist\n",
      "Missing values for attr: gender_presentation_na, concept: guard\n",
      "Missing values for attr: gender_presentation_na, concept: climber\n",
      "Missing values for attr: gender_presentation_na, concept: disk_jockey\n",
      "Missing values for attr: gender_presentation_na, concept: soccer_player\n",
      "Missing values for attr: gender_presentation_na, concept: retailer\n",
      "Missing values for attr: gender_presentation_na, concept: carpenter\n",
      "Missing values for attr: gender_presentation_na, concept: seller\n",
      "Missing values for attr: gender_presentation_na, concept: skateboarder\n",
      "Missing values for attr: gender_presentation_na, concept: waiter\n",
      "Missing values for attr: gender_presentation_na, concept: sculptor\n",
      "Missing values for attr: gender_presentation_na, concept: teacher\n",
      "Missing values for attr: gender_presentation_na, concept: electrician\n",
      "Missing values for attr: gender_presentation_na, concept: hairdresser\n",
      "Missing values for attr: gender_presentation_na, concept: judge\n",
      "Missing values for attr: gender_presentation_na, concept: bartender\n",
      "Missing values for attr: skin_tone_1, concept: lifeguard\n",
      "Missing values for attr: skin_tone_1, concept: backpacker\n",
      "Missing values for attr: skin_tone_1, concept: singer\n",
      "Missing values for attr: skin_tone_1, concept: astronaut\n",
      "Missing values for attr: skin_tone_1, concept: painter\n",
      "Missing values for attr: skin_tone_1, concept: climber\n",
      "Missing values for attr: skin_tone_1, concept: disk_jockey\n",
      "Missing values for attr: skin_tone_1, concept: machinist\n",
      "Missing values for attr: skin_tone_1, concept: reporter\n",
      "Missing values for attr: skin_tone_1, concept: carpenter\n",
      "Missing values for attr: skin_tone_1, concept: seller\n",
      "Missing values for attr: skin_tone_1, concept: sculptor\n",
      "Missing values for attr: skin_tone_1, concept: teacher\n",
      "Missing values for attr: skin_tone_1, concept: electrician\n",
      "Missing values for attr: skin_tone_1, concept: hairdresser\n",
      "Missing values for attr: skin_tone_1, concept: judge\n",
      "Missing values for attr: skin_tone_1, concept: trumpeter\n",
      "Missing values for attr: skin_tone_1, concept: bartender\n",
      "Missing values for attr: skin_tone_2, concept: astronaut\n",
      "Missing values for attr: skin_tone_2, concept: fireman\n",
      "Missing values for attr: skin_tone_2, concept: farmer\n",
      "Missing values for attr: skin_tone_2, concept: flutist\n",
      "Missing values for attr: skin_tone_2, concept: carpenter\n",
      "Missing values for attr: skin_tone_2, concept: waiter\n",
      "Missing values for attr: skin_tone_2, concept: sculptor\n",
      "Missing values for attr: skin_tone_2, concept: electrician\n",
      "Missing values for attr: skin_tone_2, concept: bartender\n",
      "Missing values for attr: skin_tone_3, concept: astronaut\n",
      "Missing values for attr: skin_tone_3, concept: carpenter\n",
      "Missing values for attr: skin_tone_3, concept: judge\n",
      "Missing values for attr: skin_tone_3, concept: bartender\n",
      "Missing values for attr: skin_tone_4, concept: carpenter\n",
      "Missing values for attr: skin_tone_4, concept: trumpeter\n",
      "Missing values for attr: skin_tone_4, concept: bartender\n",
      "Missing values for attr: skin_tone_5, concept: disk_jockey\n",
      "Missing values for attr: skin_tone_5, concept: sculptor\n",
      "Missing values for attr: skin_tone_5, concept: trumpeter\n",
      "Missing values for attr: skin_tone_5, concept: bartender\n",
      "Missing values for attr: skin_tone_6, concept: astronaut\n",
      "Missing values for attr: skin_tone_6, concept: fireman\n",
      "Missing values for attr: skin_tone_6, concept: cheerleader\n",
      "Missing values for attr: skin_tone_6, concept: flutist\n",
      "Missing values for attr: skin_tone_6, concept: teacher\n",
      "Missing values for attr: skin_tone_6, concept: judge\n",
      "Missing values for attr: skin_tone_6, concept: bartender\n",
      "Missing values for attr: skin_tone_7, concept: astronaut\n",
      "Missing values for attr: skin_tone_7, concept: fireman\n",
      "Missing values for attr: skin_tone_7, concept: painter\n",
      "Missing values for attr: skin_tone_7, concept: climber\n",
      "Missing values for attr: skin_tone_7, concept: disk_jockey\n",
      "Missing values for attr: skin_tone_7, concept: student\n",
      "Missing values for attr: skin_tone_7, concept: cheerleader\n",
      "Missing values for attr: skin_tone_7, concept: flutist\n",
      "Missing values for attr: skin_tone_7, concept: runner\n",
      "Missing values for attr: skin_tone_7, concept: horseman\n",
      "Missing values for attr: skin_tone_7, concept: carpenter\n",
      "Missing values for attr: skin_tone_7, concept: gardener\n",
      "Missing values for attr: skin_tone_7, concept: waiter\n",
      "Missing values for attr: skin_tone_7, concept: sculptor\n",
      "Missing values for attr: skin_tone_7, concept: teacher\n",
      "Missing values for attr: skin_tone_7, concept: electrician\n",
      "Missing values for attr: skin_tone_7, concept: judge\n",
      "Missing values for attr: skin_tone_7, concept: bartender\n",
      "Missing values for attr: skin_tone_8, concept: gymnast\n",
      "Missing values for attr: skin_tone_8, concept: nurse\n",
      "Missing values for attr: skin_tone_8, concept: motorcyclist\n",
      "Missing values for attr: skin_tone_8, concept: astronaut\n",
      "Missing values for attr: skin_tone_8, concept: fireman\n",
      "Missing values for attr: skin_tone_8, concept: referee\n",
      "Missing values for attr: skin_tone_8, concept: speaker\n",
      "Missing values for attr: skin_tone_8, concept: guitarist\n",
      "Missing values for attr: skin_tone_8, concept: guard\n",
      "Missing values for attr: skin_tone_8, concept: climber\n",
      "Missing values for attr: skin_tone_8, concept: disk_jockey\n",
      "Missing values for attr: skin_tone_8, concept: student\n",
      "Missing values for attr: skin_tone_8, concept: cheerleader\n",
      "Missing values for attr: skin_tone_8, concept: flutist\n",
      "Missing values for attr: skin_tone_8, concept: runner\n",
      "Missing values for attr: skin_tone_8, concept: retailer\n",
      "Missing values for attr: skin_tone_8, concept: reporter\n",
      "Missing values for attr: skin_tone_8, concept: horseman\n",
      "Missing values for attr: skin_tone_8, concept: computer_user\n",
      "Missing values for attr: skin_tone_8, concept: carpenter\n",
      "Missing values for attr: skin_tone_8, concept: waiter\n",
      "Missing values for attr: skin_tone_8, concept: prayer\n",
      "Missing values for attr: skin_tone_8, concept: sculptor\n",
      "Missing values for attr: skin_tone_8, concept: teacher\n",
      "Missing values for attr: skin_tone_8, concept: electrician\n",
      "Missing values for attr: skin_tone_8, concept: judge\n",
      "Missing values for attr: skin_tone_8, concept: trumpeter\n",
      "Missing values for attr: skin_tone_8, concept: bartender\n",
      "Missing values for attr: skin_tone_9, concept: boatman\n",
      "Missing values for attr: skin_tone_9, concept: dancer\n",
      "Missing values for attr: skin_tone_9, concept: patient\n",
      "Missing values for attr: skin_tone_9, concept: nurse\n",
      "Missing values for attr: skin_tone_9, concept: motorcyclist\n",
      "Missing values for attr: skin_tone_9, concept: astronaut\n",
      "Missing values for attr: skin_tone_9, concept: fireman\n",
      "Missing values for attr: skin_tone_9, concept: referee\n",
      "Missing values for attr: skin_tone_9, concept: speaker\n",
      "Missing values for attr: skin_tone_9, concept: craftsman\n",
      "Missing values for attr: skin_tone_9, concept: guard\n",
      "Missing values for attr: skin_tone_9, concept: painter\n",
      "Missing values for attr: skin_tone_9, concept: doctor\n",
      "Missing values for attr: skin_tone_9, concept: drummer\n",
      "Missing values for attr: skin_tone_9, concept: climber\n",
      "Missing values for attr: skin_tone_9, concept: disk_jockey\n",
      "Missing values for attr: skin_tone_9, concept: student\n",
      "Missing values for attr: skin_tone_9, concept: soldier\n",
      "Missing values for attr: skin_tone_9, concept: cheerleader\n",
      "Missing values for attr: skin_tone_9, concept: flutist\n",
      "Missing values for attr: skin_tone_9, concept: runner\n",
      "Missing values for attr: skin_tone_9, concept: retailer\n",
      "Missing values for attr: skin_tone_9, concept: horseman\n",
      "Missing values for attr: skin_tone_9, concept: tennis_player\n",
      "Missing values for attr: skin_tone_9, concept: computer_user\n",
      "Missing values for attr: skin_tone_9, concept: carpenter\n",
      "Missing values for attr: skin_tone_9, concept: skateboarder\n",
      "Missing values for attr: skin_tone_9, concept: gardener\n",
      "Missing values for attr: skin_tone_9, concept: waiter\n",
      "Missing values for attr: skin_tone_9, concept: prayer\n",
      "Missing values for attr: skin_tone_9, concept: teacher\n",
      "Missing values for attr: skin_tone_9, concept: electrician\n",
      "Missing values for attr: skin_tone_9, concept: hairdresser\n",
      "Missing values for attr: skin_tone_9, concept: judge\n",
      "Missing values for attr: skin_tone_9, concept: trumpeter\n",
      "Missing values for attr: skin_tone_9, concept: bartender\n",
      "Missing values for attr: skin_tone_10, concept: gymnast\n",
      "Missing values for attr: skin_tone_10, concept: boatman\n",
      "Missing values for attr: skin_tone_10, concept: dancer\n",
      "Missing values for attr: skin_tone_10, concept: patient\n",
      "Missing values for attr: skin_tone_10, concept: nurse\n",
      "Missing values for attr: skin_tone_10, concept: singer\n",
      "Missing values for attr: skin_tone_10, concept: motorcyclist\n",
      "Missing values for attr: skin_tone_10, concept: astronaut\n",
      "Missing values for attr: skin_tone_10, concept: referee\n",
      "Missing values for attr: skin_tone_10, concept: speaker\n",
      "Missing values for attr: skin_tone_10, concept: guitarist\n",
      "Missing values for attr: skin_tone_10, concept: craftsman\n",
      "Missing values for attr: skin_tone_10, concept: guard\n",
      "Missing values for attr: skin_tone_10, concept: painter\n",
      "Missing values for attr: skin_tone_10, concept: farmer\n",
      "Missing values for attr: skin_tone_10, concept: drummer\n",
      "Missing values for attr: skin_tone_10, concept: climber\n",
      "Missing values for attr: skin_tone_10, concept: disk_jockey\n",
      "Missing values for attr: skin_tone_10, concept: soccer_player\n",
      "Missing values for attr: skin_tone_10, concept: student\n",
      "Missing values for attr: skin_tone_10, concept: soldier\n",
      "Missing values for attr: skin_tone_10, concept: cheerleader\n",
      "Missing values for attr: skin_tone_10, concept: flutist\n",
      "Missing values for attr: skin_tone_10, concept: runner\n",
      "Missing values for attr: skin_tone_10, concept: retailer\n",
      "Missing values for attr: skin_tone_10, concept: horseman\n",
      "Missing values for attr: skin_tone_10, concept: tennis_player\n",
      "Missing values for attr: skin_tone_10, concept: computer_user\n",
      "Missing values for attr: skin_tone_10, concept: carpenter\n",
      "Missing values for attr: skin_tone_10, concept: seller\n",
      "Missing values for attr: skin_tone_10, concept: skateboarder\n",
      "Missing values for attr: skin_tone_10, concept: gardener\n",
      "Missing values for attr: skin_tone_10, concept: waiter\n",
      "Missing values for attr: skin_tone_10, concept: prayer\n",
      "Missing values for attr: skin_tone_10, concept: ballplayer\n",
      "Missing values for attr: skin_tone_10, concept: sculptor\n",
      "Missing values for attr: skin_tone_10, concept: teacher\n",
      "Missing values for attr: skin_tone_10, concept: electrician\n",
      "Missing values for attr: skin_tone_10, concept: judge\n",
      "Missing values for attr: skin_tone_10, concept: trumpeter\n",
      "Missing values for attr: skin_tone_10, concept: bartender\n",
      "Missing values for attr: skin_tone_na, concept: singer\n",
      "Missing values for attr: skin_tone_na, concept: guitarist\n",
      "Missing values for attr: skin_tone_na, concept: doctor\n",
      "Missing values for attr: skin_tone_na, concept: cheerleader\n",
      "Missing values for attr: skin_tone_na, concept: reporter\n",
      "Missing values for attr: skin_tone_na, concept: carpenter\n",
      "Missing values for attr: skin_tone_na, concept: gardener\n",
      "Missing values for attr: skin_tone_na, concept: sculptor\n",
      "Missing values for attr: skin_tone_na, concept: electrician\n",
      "Missing values for attr: skin_tone_na, concept: judge\n",
      "Missing values for attr: skin_tone_na, concept: bartender\n",
      "Missing values for attr: age_presentation_young, concept: astronaut\n",
      "Missing values for attr: age_presentation_young, concept: fireman\n",
      "Missing values for attr: age_presentation_young, concept: painter\n",
      "Missing values for attr: age_presentation_young, concept: disk_jockey\n",
      "Missing values for attr: age_presentation_young, concept: flutist\n",
      "Missing values for attr: age_presentation_young, concept: retailer\n",
      "Missing values for attr: age_presentation_young, concept: carpenter\n",
      "Missing values for attr: age_presentation_young, concept: waiter\n",
      "Missing values for attr: age_presentation_young, concept: teacher\n",
      "Missing values for attr: age_presentation_young, concept: electrician\n",
      "Missing values for attr: age_presentation_young, concept: trumpeter\n",
      "Missing values for attr: age_presentation_young, concept: bartender\n",
      "Missing values for attr: age_presentation_older, concept: gymnast\n",
      "Missing values for attr: age_presentation_older, concept: lifeguard\n",
      "Missing values for attr: age_presentation_older, concept: basketball_player\n",
      "Missing values for attr: age_presentation_older, concept: nurse\n",
      "Missing values for attr: age_presentation_older, concept: astronaut\n",
      "Missing values for attr: age_presentation_older, concept: referee\n",
      "Missing values for attr: age_presentation_older, concept: repairman\n",
      "Missing values for attr: age_presentation_older, concept: guard\n",
      "Missing values for attr: age_presentation_older, concept: doctor\n",
      "Missing values for attr: age_presentation_older, concept: disk_jockey\n",
      "Missing values for attr: age_presentation_older, concept: soccer_player\n",
      "Missing values for attr: age_presentation_older, concept: student\n",
      "Missing values for attr: age_presentation_older, concept: soldier\n",
      "Missing values for attr: age_presentation_older, concept: cheerleader\n",
      "Missing values for attr: age_presentation_older, concept: flutist\n",
      "Missing values for attr: age_presentation_older, concept: runner\n",
      "Missing values for attr: age_presentation_older, concept: machinist\n",
      "Missing values for attr: age_presentation_older, concept: horseman\n",
      "Missing values for attr: age_presentation_older, concept: tennis_player\n",
      "Missing values for attr: age_presentation_older, concept: carpenter\n",
      "Missing values for attr: age_presentation_older, concept: skateboarder\n",
      "Missing values for attr: age_presentation_older, concept: gardener\n",
      "Missing values for attr: age_presentation_older, concept: waiter\n",
      "Missing values for attr: age_presentation_older, concept: teacher\n",
      "Missing values for attr: age_presentation_older, concept: electrician\n",
      "Missing values for attr: age_presentation_older, concept: hairdresser\n",
      "Missing values for attr: age_presentation_older, concept: judge\n",
      "Missing values for attr: age_presentation_older, concept: bartender\n",
      "Missing values for attr: age_presentation_middle, concept: cheerleader\n",
      "Missing values for attr: age_presentation_middle, concept: bartender\n",
      "Missing values for attr: age_presentation_na, concept: singer\n",
      "Missing values for attr: age_presentation_na, concept: astronaut\n",
      "Missing values for attr: age_presentation_na, concept: carpenter\n",
      "Missing values for attr: age_presentation_na, concept: skateboarder\n",
      "Missing values for attr: age_presentation_na, concept: waiter\n",
      "Missing values for attr: age_presentation_na, concept: sculptor\n",
      "Missing values for attr: age_presentation_na, concept: teacher\n",
      "Missing values for attr: age_presentation_na, concept: hairdresser\n",
      "Missing values for attr: age_presentation_na, concept: judge\n",
      "Missing values for attr: age_presentation_na, concept: bartender\n",
      "Missing values for attr: hair_color_brown, concept: astronaut\n",
      "Missing values for attr: hair_color_brown, concept: drummer\n",
      "Missing values for attr: hair_color_brown, concept: cheerleader\n",
      "Missing values for attr: hair_color_brown, concept: carpenter\n",
      "Missing values for attr: hair_color_brown, concept: sculptor\n",
      "Missing values for attr: hair_color_brown, concept: electrician\n",
      "Missing values for attr: hair_color_brown, concept: trumpeter\n",
      "Missing values for attr: hair_color_brown, concept: bartender\n",
      "Missing values for attr: hair_color_blonde, concept: lifeguard\n",
      "Missing values for attr: hair_color_blonde, concept: backpacker\n",
      "Missing values for attr: hair_color_blonde, concept: laborer\n",
      "Missing values for attr: hair_color_blonde, concept: patient\n",
      "Missing values for attr: hair_color_blonde, concept: motorcyclist\n",
      "Missing values for attr: hair_color_blonde, concept: astronaut\n",
      "Missing values for attr: hair_color_blonde, concept: fireman\n",
      "Missing values for attr: hair_color_blonde, concept: craftsman\n",
      "Missing values for attr: hair_color_blonde, concept: guard\n",
      "Missing values for attr: hair_color_blonde, concept: farmer\n",
      "Missing values for attr: hair_color_blonde, concept: climber\n",
      "Missing values for attr: hair_color_blonde, concept: disk_jockey\n",
      "Missing values for attr: hair_color_blonde, concept: student\n",
      "Missing values for attr: hair_color_blonde, concept: flutist\n",
      "Missing values for attr: hair_color_blonde, concept: carpenter\n",
      "Missing values for attr: hair_color_blonde, concept: seller\n",
      "Missing values for attr: hair_color_blonde, concept: gardener\n",
      "Missing values for attr: hair_color_blonde, concept: prayer\n",
      "Missing values for attr: hair_color_blonde, concept: teacher\n",
      "Missing values for attr: hair_color_blonde, concept: electrician\n",
      "Missing values for attr: hair_color_blonde, concept: hairdresser\n",
      "Missing values for attr: hair_color_blonde, concept: trumpeter\n",
      "Missing values for attr: hair_color_blonde, concept: bartender\n",
      "Missing values for attr: hair_color_grey, concept: gymnast\n",
      "Missing values for attr: hair_color_grey, concept: lifeguard\n",
      "Missing values for attr: hair_color_grey, concept: laborer\n",
      "Missing values for attr: hair_color_grey, concept: basketball_player\n",
      "Missing values for attr: hair_color_grey, concept: nurse\n",
      "Missing values for attr: hair_color_grey, concept: referee\n",
      "Missing values for attr: hair_color_grey, concept: repairman\n",
      "Missing values for attr: hair_color_grey, concept: painter\n",
      "Missing values for attr: hair_color_grey, concept: doctor\n",
      "Missing values for attr: hair_color_grey, concept: student\n",
      "Missing values for attr: hair_color_grey, concept: soldier\n",
      "Missing values for attr: hair_color_grey, concept: cheerleader\n",
      "Missing values for attr: hair_color_grey, concept: flutist\n",
      "Missing values for attr: hair_color_grey, concept: runner\n",
      "Missing values for attr: hair_color_grey, concept: machinist\n",
      "Missing values for attr: hair_color_grey, concept: horseman\n",
      "Missing values for attr: hair_color_grey, concept: tennis_player\n",
      "Missing values for attr: hair_color_grey, concept: carpenter\n",
      "Missing values for attr: hair_color_grey, concept: skateboarder\n",
      "Missing values for attr: hair_color_grey, concept: gardener\n",
      "Missing values for attr: hair_color_grey, concept: waiter\n",
      "Missing values for attr: hair_color_grey, concept: ballplayer\n",
      "Missing values for attr: hair_color_grey, concept: teacher\n",
      "Missing values for attr: hair_color_grey, concept: electrician\n",
      "Missing values for attr: hair_color_grey, concept: hairdresser\n",
      "Missing values for attr: hair_color_grey, concept: judge\n",
      "Missing values for attr: hair_color_grey, concept: bartender\n",
      "Missing values for attr: hair_color_na, concept: carpenter\n",
      "Missing values for attr: hair_color_na, concept: waiter\n",
      "Missing values for attr: hair_color_na, concept: teacher\n",
      "Missing values for attr: hair_color_na, concept: judge\n",
      "Missing values for attr: hair_color_na, concept: bartender\n",
      "Missing values for attr: hair_color_black, concept: disk_jockey\n",
      "Missing values for attr: hair_color_black, concept: bartender\n",
      "Missing values for attr: hair_color_colored, concept: gymnast\n",
      "Missing values for attr: hair_color_colored, concept: boatman\n",
      "Missing values for attr: hair_color_colored, concept: lifeguard\n",
      "Missing values for attr: hair_color_colored, concept: backpacker\n",
      "Missing values for attr: hair_color_colored, concept: lawman\n",
      "Missing values for attr: hair_color_colored, concept: dancer\n",
      "Missing values for attr: hair_color_colored, concept: patient\n",
      "Missing values for attr: hair_color_colored, concept: basketball_player\n",
      "Missing values for attr: hair_color_colored, concept: nurse\n",
      "Missing values for attr: hair_color_colored, concept: motorcyclist\n",
      "Missing values for attr: hair_color_colored, concept: astronaut\n",
      "Missing values for attr: hair_color_colored, concept: fireman\n",
      "Missing values for attr: hair_color_colored, concept: referee\n",
      "Missing values for attr: hair_color_colored, concept: craftsman\n",
      "Missing values for attr: hair_color_colored, concept: guard\n",
      "Missing values for attr: hair_color_colored, concept: painter\n",
      "Missing values for attr: hair_color_colored, concept: doctor\n",
      "Missing values for attr: hair_color_colored, concept: farmer\n",
      "Missing values for attr: hair_color_colored, concept: drummer\n",
      "Missing values for attr: hair_color_colored, concept: climber\n",
      "Missing values for attr: hair_color_colored, concept: disk_jockey\n",
      "Missing values for attr: hair_color_colored, concept: soccer_player\n",
      "Missing values for attr: hair_color_colored, concept: student\n",
      "Missing values for attr: hair_color_colored, concept: soldier\n",
      "Missing values for attr: hair_color_colored, concept: cheerleader\n",
      "Missing values for attr: hair_color_colored, concept: flutist\n",
      "Missing values for attr: hair_color_colored, concept: runner\n",
      "Missing values for attr: hair_color_colored, concept: retailer\n",
      "Missing values for attr: hair_color_colored, concept: machinist\n",
      "Missing values for attr: hair_color_colored, concept: reporter\n",
      "Missing values for attr: hair_color_colored, concept: horseman\n",
      "Missing values for attr: hair_color_colored, concept: computer_user\n",
      "Missing values for attr: hair_color_colored, concept: carpenter\n",
      "Missing values for attr: hair_color_colored, concept: seller\n",
      "Missing values for attr: hair_color_colored, concept: skateboarder\n",
      "Missing values for attr: hair_color_colored, concept: gardener\n",
      "Missing values for attr: hair_color_colored, concept: waiter\n",
      "Missing values for attr: hair_color_colored, concept: prayer\n",
      "Missing values for attr: hair_color_colored, concept: ballplayer\n",
      "Missing values for attr: hair_color_colored, concept: sculptor\n",
      "Missing values for attr: hair_color_colored, concept: teacher\n",
      "Missing values for attr: hair_color_colored, concept: electrician\n",
      "Missing values for attr: hair_color_colored, concept: hairdresser\n",
      "Missing values for attr: hair_color_colored, concept: judge\n",
      "Missing values for attr: hair_color_colored, concept: trumpeter\n",
      "Missing values for attr: hair_color_colored, concept: bartender\n",
      "Missing values for attr: hair_color_red, concept: gymnast\n",
      "Missing values for attr: hair_color_red, concept: backpacker\n",
      "Missing values for attr: hair_color_red, concept: laborer\n",
      "Missing values for attr: hair_color_red, concept: patient\n",
      "Missing values for attr: hair_color_red, concept: basketball_player\n",
      "Missing values for attr: hair_color_red, concept: nurse\n",
      "Missing values for attr: hair_color_red, concept: singer\n",
      "Missing values for attr: hair_color_red, concept: motorcyclist\n",
      "Missing values for attr: hair_color_red, concept: astronaut\n",
      "Missing values for attr: hair_color_red, concept: fireman\n",
      "Missing values for attr: hair_color_red, concept: referee\n",
      "Missing values for attr: hair_color_red, concept: speaker\n",
      "Missing values for attr: hair_color_red, concept: repairman\n",
      "Missing values for attr: hair_color_red, concept: craftsman\n",
      "Missing values for attr: hair_color_red, concept: guard\n",
      "Missing values for attr: hair_color_red, concept: doctor\n",
      "Missing values for attr: hair_color_red, concept: farmer\n",
      "Missing values for attr: hair_color_red, concept: climber\n",
      "Missing values for attr: hair_color_red, concept: disk_jockey\n",
      "Missing values for attr: hair_color_red, concept: soccer_player\n",
      "Missing values for attr: hair_color_red, concept: student\n",
      "Missing values for attr: hair_color_red, concept: soldier\n",
      "Missing values for attr: hair_color_red, concept: cheerleader\n",
      "Missing values for attr: hair_color_red, concept: flutist\n",
      "Missing values for attr: hair_color_red, concept: retailer\n",
      "Missing values for attr: hair_color_red, concept: machinist\n",
      "Missing values for attr: hair_color_red, concept: reporter\n",
      "Missing values for attr: hair_color_red, concept: horseman\n",
      "Missing values for attr: hair_color_red, concept: tennis_player\n",
      "Missing values for attr: hair_color_red, concept: carpenter\n",
      "Missing values for attr: hair_color_red, concept: seller\n",
      "Missing values for attr: hair_color_red, concept: skateboarder\n",
      "Missing values for attr: hair_color_red, concept: gardener\n",
      "Missing values for attr: hair_color_red, concept: ballplayer\n",
      "Missing values for attr: hair_color_red, concept: sculptor\n",
      "Missing values for attr: hair_color_red, concept: teacher\n",
      "Missing values for attr: hair_color_red, concept: electrician\n",
      "Missing values for attr: hair_color_red, concept: hairdresser\n",
      "Missing values for attr: hair_color_red, concept: judge\n",
      "Missing values for attr: hair_color_red, concept: trumpeter\n",
      "Missing values for attr: hair_color_red, concept: bartender\n",
      "Missing values for attr: hairtype_coily, concept: gymnast\n",
      "Missing values for attr: hairtype_coily, concept: boatman\n",
      "Missing values for attr: hairtype_coily, concept: lifeguard\n",
      "Missing values for attr: hairtype_coily, concept: backpacker\n",
      "Missing values for attr: hairtype_coily, concept: dancer\n",
      "Missing values for attr: hairtype_coily, concept: laborer\n",
      "Missing values for attr: hairtype_coily, concept: patient\n",
      "Missing values for attr: hairtype_coily, concept: basketball_player\n",
      "Missing values for attr: hairtype_coily, concept: singer\n",
      "Missing values for attr: hairtype_coily, concept: motorcyclist\n",
      "Missing values for attr: hairtype_coily, concept: astronaut\n",
      "Missing values for attr: hairtype_coily, concept: fireman\n",
      "Missing values for attr: hairtype_coily, concept: referee\n",
      "Missing values for attr: hairtype_coily, concept: speaker\n",
      "Missing values for attr: hairtype_coily, concept: craftsman\n",
      "Missing values for attr: hairtype_coily, concept: guard\n",
      "Missing values for attr: hairtype_coily, concept: painter\n",
      "Missing values for attr: hairtype_coily, concept: farmer\n",
      "Missing values for attr: hairtype_coily, concept: drummer\n",
      "Missing values for attr: hairtype_coily, concept: climber\n",
      "Missing values for attr: hairtype_coily, concept: disk_jockey\n",
      "Missing values for attr: hairtype_coily, concept: student\n",
      "Missing values for attr: hairtype_coily, concept: soldier\n",
      "Missing values for attr: hairtype_coily, concept: cheerleader\n",
      "Missing values for attr: hairtype_coily, concept: flutist\n",
      "Missing values for attr: hairtype_coily, concept: runner\n",
      "Missing values for attr: hairtype_coily, concept: retailer\n",
      "Missing values for attr: hairtype_coily, concept: machinist\n",
      "Missing values for attr: hairtype_coily, concept: reporter\n",
      "Missing values for attr: hairtype_coily, concept: horseman\n",
      "Missing values for attr: hairtype_coily, concept: tennis_player\n",
      "Missing values for attr: hairtype_coily, concept: computer_user\n",
      "Missing values for attr: hairtype_coily, concept: carpenter\n",
      "Missing values for attr: hairtype_coily, concept: gardener\n",
      "Missing values for attr: hairtype_coily, concept: waiter\n",
      "Missing values for attr: hairtype_coily, concept: prayer\n",
      "Missing values for attr: hairtype_coily, concept: ballplayer\n",
      "Missing values for attr: hairtype_coily, concept: sculptor\n",
      "Missing values for attr: hairtype_coily, concept: teacher\n",
      "Missing values for attr: hairtype_coily, concept: electrician\n",
      "Missing values for attr: hairtype_coily, concept: hairdresser\n",
      "Missing values for attr: hairtype_coily, concept: judge\n",
      "Missing values for attr: hairtype_coily, concept: trumpeter\n",
      "Missing values for attr: hairtype_coily, concept: bartender\n",
      "Missing values for attr: hairtype_dreadlocks, concept: gymnast\n",
      "Missing values for attr: hairtype_dreadlocks, concept: lifeguard\n",
      "Missing values for attr: hairtype_dreadlocks, concept: backpacker\n",
      "Missing values for attr: hairtype_dreadlocks, concept: lawman\n",
      "Missing values for attr: hairtype_dreadlocks, concept: dancer\n",
      "Missing values for attr: hairtype_dreadlocks, concept: laborer\n",
      "Missing values for attr: hairtype_dreadlocks, concept: patient\n",
      "Missing values for attr: hairtype_dreadlocks, concept: nurse\n",
      "Missing values for attr: hairtype_dreadlocks, concept: singer\n",
      "Missing values for attr: hairtype_dreadlocks, concept: motorcyclist\n",
      "Missing values for attr: hairtype_dreadlocks, concept: astronaut\n",
      "Missing values for attr: hairtype_dreadlocks, concept: referee\n",
      "Missing values for attr: hairtype_dreadlocks, concept: speaker\n",
      "Missing values for attr: hairtype_dreadlocks, concept: guitarist\n",
      "Missing values for attr: hairtype_dreadlocks, concept: repairman\n",
      "Missing values for attr: hairtype_dreadlocks, concept: craftsman\n",
      "Missing values for attr: hairtype_dreadlocks, concept: guard\n",
      "Missing values for attr: hairtype_dreadlocks, concept: painter\n",
      "Missing values for attr: hairtype_dreadlocks, concept: doctor\n",
      "Missing values for attr: hairtype_dreadlocks, concept: farmer\n",
      "Missing values for attr: hairtype_dreadlocks, concept: drummer\n",
      "Missing values for attr: hairtype_dreadlocks, concept: climber\n",
      "Missing values for attr: hairtype_dreadlocks, concept: disk_jockey\n",
      "Missing values for attr: hairtype_dreadlocks, concept: soccer_player\n",
      "Missing values for attr: hairtype_dreadlocks, concept: student\n",
      "Missing values for attr: hairtype_dreadlocks, concept: soldier\n",
      "Missing values for attr: hairtype_dreadlocks, concept: cheerleader\n",
      "Missing values for attr: hairtype_dreadlocks, concept: flutist\n",
      "Missing values for attr: hairtype_dreadlocks, concept: runner\n",
      "Missing values for attr: hairtype_dreadlocks, concept: retailer\n",
      "Missing values for attr: hairtype_dreadlocks, concept: machinist\n",
      "Missing values for attr: hairtype_dreadlocks, concept: reporter\n",
      "Missing values for attr: hairtype_dreadlocks, concept: horseman\n",
      "Missing values for attr: hairtype_dreadlocks, concept: computer_user\n",
      "Missing values for attr: hairtype_dreadlocks, concept: carpenter\n",
      "Missing values for attr: hairtype_dreadlocks, concept: seller\n",
      "Missing values for attr: hairtype_dreadlocks, concept: gardener\n",
      "Missing values for attr: hairtype_dreadlocks, concept: waiter\n",
      "Missing values for attr: hairtype_dreadlocks, concept: prayer\n",
      "Missing values for attr: hairtype_dreadlocks, concept: ballplayer\n",
      "Missing values for attr: hairtype_dreadlocks, concept: sculptor\n",
      "Missing values for attr: hairtype_dreadlocks, concept: teacher\n",
      "Missing values for attr: hairtype_dreadlocks, concept: electrician\n",
      "Missing values for attr: hairtype_dreadlocks, concept: hairdresser\n",
      "Missing values for attr: hairtype_dreadlocks, concept: judge\n",
      "Missing values for attr: hairtype_dreadlocks, concept: trumpeter\n",
      "Missing values for attr: hairtype_dreadlocks, concept: bartender\n",
      "Missing values for attr: hairtype_bald, concept: gymnast\n",
      "Missing values for attr: hairtype_bald, concept: boatman\n",
      "Missing values for attr: hairtype_bald, concept: lifeguard\n",
      "Missing values for attr: hairtype_bald, concept: backpacker\n",
      "Missing values for attr: hairtype_bald, concept: dancer\n",
      "Missing values for attr: hairtype_bald, concept: laborer\n",
      "Missing values for attr: hairtype_bald, concept: patient\n",
      "Missing values for attr: hairtype_bald, concept: nurse\n",
      "Missing values for attr: hairtype_bald, concept: singer\n",
      "Missing values for attr: hairtype_bald, concept: motorcyclist\n",
      "Missing values for attr: hairtype_bald, concept: astronaut\n",
      "Missing values for attr: hairtype_bald, concept: fireman\n",
      "Missing values for attr: hairtype_bald, concept: guitarist\n",
      "Missing values for attr: hairtype_bald, concept: repairman\n",
      "Missing values for attr: hairtype_bald, concept: painter\n",
      "Missing values for attr: hairtype_bald, concept: farmer\n",
      "Missing values for attr: hairtype_bald, concept: drummer\n",
      "Missing values for attr: hairtype_bald, concept: climber\n",
      "Missing values for attr: hairtype_bald, concept: disk_jockey\n",
      "Missing values for attr: hairtype_bald, concept: student\n",
      "Missing values for attr: hairtype_bald, concept: soldier\n",
      "Missing values for attr: hairtype_bald, concept: cheerleader\n",
      "Missing values for attr: hairtype_bald, concept: flutist\n",
      "Missing values for attr: hairtype_bald, concept: retailer\n",
      "Missing values for attr: hairtype_bald, concept: machinist\n",
      "Missing values for attr: hairtype_bald, concept: reporter\n",
      "Missing values for attr: hairtype_bald, concept: horseman\n",
      "Missing values for attr: hairtype_bald, concept: tennis_player\n",
      "Missing values for attr: hairtype_bald, concept: computer_user\n",
      "Missing values for attr: hairtype_bald, concept: carpenter\n",
      "Missing values for attr: hairtype_bald, concept: skateboarder\n",
      "Missing values for attr: hairtype_bald, concept: gardener\n",
      "Missing values for attr: hairtype_bald, concept: waiter\n",
      "Missing values for attr: hairtype_bald, concept: prayer\n",
      "Missing values for attr: hairtype_bald, concept: ballplayer\n",
      "Missing values for attr: hairtype_bald, concept: sculptor\n",
      "Missing values for attr: hairtype_bald, concept: teacher\n",
      "Missing values for attr: hairtype_bald, concept: electrician\n",
      "Missing values for attr: hairtype_bald, concept: judge\n",
      "Missing values for attr: hairtype_bald, concept: trumpeter\n",
      "Missing values for attr: hairtype_bald, concept: bartender\n",
      "Missing values for attr: hairtype_straight, concept: carpenter\n",
      "Missing values for attr: hairtype_straight, concept: electrician\n",
      "Missing values for attr: hairtype_straight, concept: bartender\n",
      "Missing values for attr: hairtype_curly, concept: gymnast\n",
      "Missing values for attr: hairtype_curly, concept: lifeguard\n",
      "Missing values for attr: hairtype_curly, concept: laborer\n",
      "Missing values for attr: hairtype_curly, concept: patient\n",
      "Missing values for attr: hairtype_curly, concept: basketball_player\n",
      "Missing values for attr: hairtype_curly, concept: nurse\n",
      "Missing values for attr: hairtype_curly, concept: motorcyclist\n",
      "Missing values for attr: hairtype_curly, concept: astronaut\n",
      "Missing values for attr: hairtype_curly, concept: fireman\n",
      "Missing values for attr: hairtype_curly, concept: referee\n",
      "Missing values for attr: hairtype_curly, concept: speaker\n",
      "Missing values for attr: hairtype_curly, concept: repairman\n",
      "Missing values for attr: hairtype_curly, concept: craftsman\n",
      "Missing values for attr: hairtype_curly, concept: guard\n",
      "Missing values for attr: hairtype_curly, concept: doctor\n",
      "Missing values for attr: hairtype_curly, concept: drummer\n",
      "Missing values for attr: hairtype_curly, concept: climber\n",
      "Missing values for attr: hairtype_curly, concept: disk_jockey\n",
      "Missing values for attr: hairtype_curly, concept: soccer_player\n",
      "Missing values for attr: hairtype_curly, concept: student\n",
      "Missing values for attr: hairtype_curly, concept: soldier\n",
      "Missing values for attr: hairtype_curly, concept: cheerleader\n",
      "Missing values for attr: hairtype_curly, concept: flutist\n",
      "Missing values for attr: hairtype_curly, concept: runner\n",
      "Missing values for attr: hairtype_curly, concept: retailer\n",
      "Missing values for attr: hairtype_curly, concept: machinist\n",
      "Missing values for attr: hairtype_curly, concept: reporter\n",
      "Missing values for attr: hairtype_curly, concept: horseman\n",
      "Missing values for attr: hairtype_curly, concept: tennis_player\n",
      "Missing values for attr: hairtype_curly, concept: computer_user\n",
      "Missing values for attr: hairtype_curly, concept: carpenter\n",
      "Missing values for attr: hairtype_curly, concept: skateboarder\n",
      "Missing values for attr: hairtype_curly, concept: waiter\n",
      "Missing values for attr: hairtype_curly, concept: ballplayer\n",
      "Missing values for attr: hairtype_curly, concept: teacher\n",
      "Missing values for attr: hairtype_curly, concept: electrician\n",
      "Missing values for attr: hairtype_curly, concept: hairdresser\n",
      "Missing values for attr: hairtype_curly, concept: judge\n",
      "Missing values for attr: hairtype_curly, concept: trumpeter\n",
      "Missing values for attr: hairtype_curly, concept: bartender\n",
      "Missing values for attr: hairtype_wavy, concept: cheerleader\n",
      "Missing values for attr: hairtype_wavy, concept: carpenter\n",
      "Missing values for attr: hairtype_wavy, concept: bartender\n",
      "Missing values for attr: hairtype_na, concept: waiter\n",
      "Missing values for attr: hairtype_na, concept: teacher\n",
      "Missing values for attr: hairtype_na, concept: judge\n",
      "Missing values for attr: hairtype_na, concept: bartender\n",
      "Missing values for attr: has_facial_hair, concept: gymnast\n",
      "Missing values for attr: has_facial_hair, concept: lifeguard\n",
      "Missing values for attr: has_facial_hair, concept: nurse\n",
      "Missing values for attr: has_facial_hair, concept: astronaut\n",
      "Missing values for attr: has_facial_hair, concept: climber\n",
      "Missing values for attr: has_facial_hair, concept: student\n",
      "Missing values for attr: has_facial_hair, concept: cheerleader\n",
      "Missing values for attr: has_facial_hair, concept: retailer\n",
      "Missing values for attr: has_facial_hair, concept: machinist\n",
      "Missing values for attr: has_facial_hair, concept: gardener\n",
      "Missing values for attr: has_facial_hair, concept: waiter\n",
      "Missing values for attr: has_facial_hair, concept: sculptor\n",
      "Missing values for attr: has_facial_hair, concept: teacher\n",
      "Missing values for attr: has_facial_hair, concept: electrician\n",
      "Missing values for attr: has_facial_hair, concept: judge\n",
      "Missing values for attr: has_facial_hair, concept: bartender\n",
      "Missing values for attr: has_tattoo, concept: gymnast\n",
      "Missing values for attr: has_tattoo, concept: boatman\n",
      "Missing values for attr: has_tattoo, concept: lifeguard\n",
      "Missing values for attr: has_tattoo, concept: lawman\n",
      "Missing values for attr: has_tattoo, concept: laborer\n",
      "Missing values for attr: has_tattoo, concept: patient\n",
      "Missing values for attr: has_tattoo, concept: nurse\n",
      "Missing values for attr: has_tattoo, concept: motorcyclist\n",
      "Missing values for attr: has_tattoo, concept: astronaut\n",
      "Missing values for attr: has_tattoo, concept: fireman\n",
      "Missing values for attr: has_tattoo, concept: referee\n",
      "Missing values for attr: has_tattoo, concept: speaker\n",
      "Missing values for attr: has_tattoo, concept: craftsman\n",
      "Missing values for attr: has_tattoo, concept: guard\n",
      "Missing values for attr: has_tattoo, concept: painter\n",
      "Missing values for attr: has_tattoo, concept: doctor\n",
      "Missing values for attr: has_tattoo, concept: farmer\n",
      "Missing values for attr: has_tattoo, concept: drummer\n",
      "Missing values for attr: has_tattoo, concept: climber\n",
      "Missing values for attr: has_tattoo, concept: disk_jockey\n",
      "Missing values for attr: has_tattoo, concept: soccer_player\n",
      "Missing values for attr: has_tattoo, concept: student\n",
      "Missing values for attr: has_tattoo, concept: soldier\n",
      "Missing values for attr: has_tattoo, concept: cheerleader\n",
      "Missing values for attr: has_tattoo, concept: flutist\n",
      "Missing values for attr: has_tattoo, concept: runner\n",
      "Missing values for attr: has_tattoo, concept: retailer\n",
      "Missing values for attr: has_tattoo, concept: machinist\n",
      "Missing values for attr: has_tattoo, concept: reporter\n",
      "Missing values for attr: has_tattoo, concept: horseman\n",
      "Missing values for attr: has_tattoo, concept: tennis_player\n",
      "Missing values for attr: has_tattoo, concept: computer_user\n",
      "Missing values for attr: has_tattoo, concept: carpenter\n",
      "Missing values for attr: has_tattoo, concept: skateboarder\n",
      "Missing values for attr: has_tattoo, concept: gardener\n",
      "Missing values for attr: has_tattoo, concept: waiter\n",
      "Missing values for attr: has_tattoo, concept: prayer\n",
      "Missing values for attr: has_tattoo, concept: sculptor\n",
      "Missing values for attr: has_tattoo, concept: teacher\n",
      "Missing values for attr: has_tattoo, concept: electrician\n",
      "Missing values for attr: has_tattoo, concept: hairdresser\n",
      "Missing values for attr: has_tattoo, concept: judge\n",
      "Missing values for attr: has_tattoo, concept: trumpeter\n",
      "Missing values for attr: has_tattoo, concept: bartender\n",
      "Missing values for attr: has_cap, concept: gymnast\n",
      "Missing values for attr: has_cap, concept: basketball_player\n",
      "Missing values for attr: has_cap, concept: disk_jockey\n",
      "Missing values for attr: has_cap, concept: student\n",
      "Missing values for attr: has_cap, concept: cheerleader\n",
      "Missing values for attr: has_cap, concept: carpenter\n",
      "Missing values for attr: has_cap, concept: waiter\n",
      "Missing values for attr: has_cap, concept: teacher\n",
      "Missing values for attr: has_cap, concept: judge\n",
      "Missing values for attr: has_cap, concept: bartender\n",
      "Missing values for attr: has_mask, concept: gymnast\n",
      "Missing values for attr: has_mask, concept: boatman\n",
      "Missing values for attr: has_mask, concept: lifeguard\n",
      "Missing values for attr: has_mask, concept: dancer\n",
      "Missing values for attr: has_mask, concept: singer\n",
      "Missing values for attr: has_mask, concept: astronaut\n",
      "Missing values for attr: has_mask, concept: fireman\n",
      "Missing values for attr: has_mask, concept: referee\n",
      "Missing values for attr: has_mask, concept: speaker\n",
      "Missing values for attr: has_mask, concept: guitarist\n",
      "Missing values for attr: has_mask, concept: repairman\n",
      "Missing values for attr: has_mask, concept: guard\n",
      "Missing values for attr: has_mask, concept: farmer\n",
      "Missing values for attr: has_mask, concept: drummer\n",
      "Missing values for attr: has_mask, concept: climber\n",
      "Missing values for attr: has_mask, concept: disk_jockey\n",
      "Missing values for attr: has_mask, concept: soccer_player\n",
      "Missing values for attr: has_mask, concept: cheerleader\n",
      "Missing values for attr: has_mask, concept: flutist\n",
      "Missing values for attr: has_mask, concept: runner\n",
      "Missing values for attr: has_mask, concept: retailer\n",
      "Missing values for attr: has_mask, concept: horseman\n",
      "Missing values for attr: has_mask, concept: tennis_player\n",
      "Missing values for attr: has_mask, concept: carpenter\n",
      "Missing values for attr: has_mask, concept: skateboarder\n",
      "Missing values for attr: has_mask, concept: waiter\n",
      "Missing values for attr: has_mask, concept: ballplayer\n",
      "Missing values for attr: has_mask, concept: teacher\n",
      "Missing values for attr: has_mask, concept: trumpeter\n",
      "Missing values for attr: has_mask, concept: bartender\n",
      "Missing values for attr: has_headscarf, concept: lifeguard\n",
      "Missing values for attr: has_headscarf, concept: basketball_player\n",
      "Missing values for attr: has_headscarf, concept: singer\n",
      "Missing values for attr: has_headscarf, concept: astronaut\n",
      "Missing values for attr: has_headscarf, concept: referee\n",
      "Missing values for attr: has_headscarf, concept: guitarist\n",
      "Missing values for attr: has_headscarf, concept: repairman\n",
      "Missing values for attr: has_headscarf, concept: guard\n",
      "Missing values for attr: has_headscarf, concept: climber\n",
      "Missing values for attr: has_headscarf, concept: disk_jockey\n",
      "Missing values for attr: has_headscarf, concept: soccer_player\n",
      "Missing values for attr: has_headscarf, concept: student\n",
      "Missing values for attr: has_headscarf, concept: soldier\n",
      "Missing values for attr: has_headscarf, concept: cheerleader\n",
      "Missing values for attr: has_headscarf, concept: flutist\n",
      "Missing values for attr: has_headscarf, concept: retailer\n",
      "Missing values for attr: has_headscarf, concept: machinist\n",
      "Missing values for attr: has_headscarf, concept: reporter\n",
      "Missing values for attr: has_headscarf, concept: horseman\n",
      "Missing values for attr: has_headscarf, concept: tennis_player\n",
      "Missing values for attr: has_headscarf, concept: carpenter\n",
      "Missing values for attr: has_headscarf, concept: ballplayer\n",
      "Missing values for attr: has_headscarf, concept: sculptor\n",
      "Missing values for attr: has_headscarf, concept: electrician\n",
      "Missing values for attr: has_headscarf, concept: hairdresser\n",
      "Missing values for attr: has_headscarf, concept: judge\n",
      "Missing values for attr: has_headscarf, concept: trumpeter\n",
      "Missing values for attr: has_headscarf, concept: bartender\n",
      "Missing values for attr: has_eyeware, concept: gymnast\n",
      "Missing values for attr: has_eyeware, concept: dancer\n",
      "Missing values for attr: has_eyeware, concept: basketball_player\n",
      "Missing values for attr: has_eyeware, concept: disk_jockey\n",
      "Missing values for attr: has_eyeware, concept: soccer_player\n",
      "Missing values for attr: has_eyeware, concept: student\n",
      "Missing values for attr: has_eyeware, concept: cheerleader\n",
      "Missing values for attr: has_eyeware, concept: flutist\n",
      "Missing values for attr: has_eyeware, concept: carpenter\n",
      "Missing values for attr: has_eyeware, concept: gardener\n",
      "Missing values for attr: has_eyeware, concept: ballplayer\n",
      "Missing values for attr: has_eyeware, concept: electrician\n",
      "Missing values for attr: has_eyeware, concept: judge\n",
      "Missing values for attr: has_eyeware, concept: bartender\n",
      "Missing values for attr: visible_torso, concept: carpenter\n",
      "Missing values for attr: visible_torso, concept: bartender\n",
      "Missing values for attr: visible_face, concept: electrician\n",
      "Missing values for attr: visible_face, concept: bartender\n",
      "Missing values for attr: visible_minimal, concept: gymnast\n",
      "Missing values for attr: visible_minimal, concept: fireman\n",
      "Missing values for attr: visible_minimal, concept: speaker\n",
      "Missing values for attr: visible_minimal, concept: climber\n",
      "Missing values for attr: visible_minimal, concept: flutist\n",
      "Missing values for attr: visible_minimal, concept: skateboarder\n",
      "Missing values for attr: visible_minimal, concept: waiter\n",
      "Missing values for attr: visible_minimal, concept: sculptor\n",
      "Missing values for attr: visible_minimal, concept: hairdresser\n",
      "Missing values for attr: visible_minimal, concept: bartender\n",
      "Missing values for attr: lighting_underexposed, concept: gymnast\n",
      "Missing values for attr: lighting_underexposed, concept: boatman\n",
      "Missing values for attr: lighting_underexposed, concept: nurse\n",
      "Missing values for attr: lighting_underexposed, concept: motorcyclist\n",
      "Missing values for attr: lighting_underexposed, concept: astronaut\n",
      "Missing values for attr: lighting_underexposed, concept: fireman\n",
      "Missing values for attr: lighting_underexposed, concept: referee\n",
      "Missing values for attr: lighting_underexposed, concept: speaker\n",
      "Missing values for attr: lighting_underexposed, concept: craftsman\n",
      "Missing values for attr: lighting_underexposed, concept: guard\n",
      "Missing values for attr: lighting_underexposed, concept: painter\n",
      "Missing values for attr: lighting_underexposed, concept: doctor\n",
      "Missing values for attr: lighting_underexposed, concept: climber\n",
      "Missing values for attr: lighting_underexposed, concept: student\n",
      "Missing values for attr: lighting_underexposed, concept: cheerleader\n",
      "Missing values for attr: lighting_underexposed, concept: flutist\n",
      "Missing values for attr: lighting_underexposed, concept: retailer\n",
      "Missing values for attr: lighting_underexposed, concept: machinist\n",
      "Missing values for attr: lighting_underexposed, concept: tennis_player\n",
      "Missing values for attr: lighting_underexposed, concept: computer_user\n",
      "Missing values for attr: lighting_underexposed, concept: carpenter\n",
      "Missing values for attr: lighting_underexposed, concept: seller\n",
      "Missing values for attr: lighting_underexposed, concept: skateboarder\n",
      "Missing values for attr: lighting_underexposed, concept: gardener\n",
      "Missing values for attr: lighting_underexposed, concept: waiter\n",
      "Missing values for attr: lighting_underexposed, concept: prayer\n",
      "Missing values for attr: lighting_underexposed, concept: ballplayer\n",
      "Missing values for attr: lighting_underexposed, concept: teacher\n",
      "Missing values for attr: lighting_underexposed, concept: electrician\n",
      "Missing values for attr: lighting_underexposed, concept: hairdresser\n",
      "Missing values for attr: lighting_underexposed, concept: trumpeter\n",
      "Missing values for attr: lighting_underexposed, concept: bartender\n",
      "Missing values for attr: lighting_dimly_lit, concept: climber\n",
      "Missing values for attr: lighting_dimly_lit, concept: carpenter\n",
      "Missing values for attr: lighting_dimly_lit, concept: electrician\n",
      "Missing values for attr: lighting_dimly_lit, concept: trumpeter\n",
      "Missing values for attr: lighting_dimly_lit, concept: bartender\n",
      "Missing values for attr: lighting_well_lit, concept: bartender\n",
      "Missing values for attr: lighting_na, concept: gymnast\n",
      "Missing values for attr: lighting_na, concept: lifeguard\n",
      "Missing values for attr: lighting_na, concept: lawman\n",
      "Missing values for attr: lighting_na, concept: dancer\n",
      "Missing values for attr: lighting_na, concept: laborer\n",
      "Missing values for attr: lighting_na, concept: patient\n",
      "Missing values for attr: lighting_na, concept: basketball_player\n",
      "Missing values for attr: lighting_na, concept: astronaut\n",
      "Missing values for attr: lighting_na, concept: referee\n",
      "Missing values for attr: lighting_na, concept: guitarist\n",
      "Missing values for attr: lighting_na, concept: craftsman\n",
      "Missing values for attr: lighting_na, concept: guard\n",
      "Missing values for attr: lighting_na, concept: painter\n",
      "Missing values for attr: lighting_na, concept: doctor\n",
      "Missing values for attr: lighting_na, concept: drummer\n",
      "Missing values for attr: lighting_na, concept: climber\n",
      "Missing values for attr: lighting_na, concept: disk_jockey\n",
      "Missing values for attr: lighting_na, concept: student\n",
      "Missing values for attr: lighting_na, concept: cheerleader\n",
      "Missing values for attr: lighting_na, concept: flutist\n",
      "Missing values for attr: lighting_na, concept: retailer\n",
      "Missing values for attr: lighting_na, concept: machinist\n",
      "Missing values for attr: lighting_na, concept: reporter\n",
      "Missing values for attr: lighting_na, concept: horseman\n",
      "Missing values for attr: lighting_na, concept: tennis_player\n",
      "Missing values for attr: lighting_na, concept: computer_user\n",
      "Missing values for attr: lighting_na, concept: carpenter\n",
      "Missing values for attr: lighting_na, concept: seller\n",
      "Missing values for attr: lighting_na, concept: skateboarder\n",
      "Missing values for attr: lighting_na, concept: gardener\n",
      "Missing values for attr: lighting_na, concept: waiter\n",
      "Missing values for attr: lighting_na, concept: prayer\n",
      "Missing values for attr: lighting_na, concept: ballplayer\n",
      "Missing values for attr: lighting_na, concept: sculptor\n",
      "Missing values for attr: lighting_na, concept: teacher\n",
      "Missing values for attr: lighting_na, concept: electrician\n",
      "Missing values for attr: lighting_na, concept: hairdresser\n",
      "Missing values for attr: lighting_na, concept: judge\n",
      "Missing values for attr: lighting_na, concept: trumpeter\n",
      "Missing values for attr: lighting_na, concept: bartender\n",
      "Missing values for attr: lighting_overexposed, concept: gymnast\n",
      "Missing values for attr: lighting_overexposed, concept: lifeguard\n",
      "Missing values for attr: lighting_overexposed, concept: patient\n",
      "Missing values for attr: lighting_overexposed, concept: basketball_player\n",
      "Missing values for attr: lighting_overexposed, concept: singer\n",
      "Missing values for attr: lighting_overexposed, concept: motorcyclist\n",
      "Missing values for attr: lighting_overexposed, concept: astronaut\n",
      "Missing values for attr: lighting_overexposed, concept: craftsman\n",
      "Missing values for attr: lighting_overexposed, concept: painter\n",
      "Missing values for attr: lighting_overexposed, concept: doctor\n",
      "Missing values for attr: lighting_overexposed, concept: farmer\n",
      "Missing values for attr: lighting_overexposed, concept: drummer\n",
      "Missing values for attr: lighting_overexposed, concept: climber\n",
      "Missing values for attr: lighting_overexposed, concept: disk_jockey\n",
      "Missing values for attr: lighting_overexposed, concept: soccer_player\n",
      "Missing values for attr: lighting_overexposed, concept: student\n",
      "Missing values for attr: lighting_overexposed, concept: soldier\n",
      "Missing values for attr: lighting_overexposed, concept: cheerleader\n",
      "Missing values for attr: lighting_overexposed, concept: flutist\n",
      "Missing values for attr: lighting_overexposed, concept: runner\n",
      "Missing values for attr: lighting_overexposed, concept: retailer\n",
      "Missing values for attr: lighting_overexposed, concept: machinist\n",
      "Missing values for attr: lighting_overexposed, concept: reporter\n",
      "Missing values for attr: lighting_overexposed, concept: horseman\n",
      "Missing values for attr: lighting_overexposed, concept: tennis_player\n",
      "Missing values for attr: lighting_overexposed, concept: computer_user\n",
      "Missing values for attr: lighting_overexposed, concept: carpenter\n",
      "Missing values for attr: lighting_overexposed, concept: seller\n",
      "Missing values for attr: lighting_overexposed, concept: skateboarder\n",
      "Missing values for attr: lighting_overexposed, concept: waiter\n",
      "Missing values for attr: lighting_overexposed, concept: prayer\n",
      "Missing values for attr: lighting_overexposed, concept: ballplayer\n",
      "Missing values for attr: lighting_overexposed, concept: teacher\n",
      "Missing values for attr: lighting_overexposed, concept: electrician\n",
      "Missing values for attr: lighting_overexposed, concept: hairdresser\n",
      "Missing values for attr: lighting_overexposed, concept: judge\n",
      "Missing values for attr: lighting_overexposed, concept: trumpeter\n",
      "Missing values for attr: lighting_overexposed, concept: bartender\n",
      "Epoch [6/3] Teacher Loss: 3.8431 Teacher Accuracy: 0.0940 Teacher Recall: 0.0940 Student Loss: 3.9485 Student Accuracy: 0.1340 Student Recall: 0.1340\n",
      "Validation Disparity for gender_presentation_masc and gymnast: -0.3125\n",
      "Validation Disparity for gender_presentation_masc and boatman: -0.3201\n",
      "Validation Disparity for gender_presentation_masc and lifeguard: -0.3068\n",
      "Validation Disparity for gender_presentation_masc and backpacker: -0.3034\n",
      "Validation Disparity for gender_presentation_masc and lawman: -0.3020\n",
      "Validation Disparity for gender_presentation_masc and dancer: -0.2994\n",
      "Validation Disparity for gender_presentation_masc and laborer: -0.3122\n",
      "Validation Disparity for gender_presentation_masc and patient: -0.3086\n",
      "Validation Disparity for gender_presentation_masc and basketball_player: -0.3128\n",
      "Validation Disparity for gender_presentation_masc and nurse: -0.3177\n",
      "Validation Disparity for gender_presentation_masc and singer: -0.3134\n",
      "Validation Disparity for gender_presentation_masc and motorcyclist: -0.3183\n",
      "Validation Disparity for gender_presentation_masc and astronaut: -0.3182\n",
      "Validation Disparity for gender_presentation_masc and fireman: -0.3118\n",
      "Validation Disparity for gender_presentation_masc and referee: -0.3100\n",
      "Validation Disparity for gender_presentation_masc and speaker: -0.3023\n",
      "Validation Disparity for gender_presentation_masc and guitarist: -0.2947\n",
      "Validation Disparity for gender_presentation_masc and repairman: -0.3081\n",
      "Validation Disparity for gender_presentation_masc and craftsman: -0.3256\n",
      "Validation Disparity for gender_presentation_masc and guard: -0.3087\n",
      "Validation Disparity for gender_presentation_masc and painter: -0.3032\n",
      "Validation Disparity for gender_presentation_masc and doctor: -0.3025\n",
      "Validation Disparity for gender_presentation_masc and farmer: -0.3118\n",
      "Validation Disparity for gender_presentation_masc and drummer: -0.3221\n",
      "Validation Disparity for gender_presentation_masc and climber: -0.3250\n",
      "Validation Disparity for gender_presentation_masc and disk_jockey: -0.3180\n",
      "Validation Disparity for gender_presentation_masc and soccer_player: -0.3177\n",
      "Validation Disparity for gender_presentation_masc and student: -0.3099\n",
      "Validation Disparity for gender_presentation_masc and soldier: -0.3010\n",
      "Validation Disparity for gender_presentation_masc and cheerleader: nan\n",
      "Validation Disparity for gender_presentation_masc and flutist: -0.2766\n",
      "Validation Disparity for gender_presentation_masc and runner: -0.2885\n",
      "Validation Disparity for gender_presentation_masc and retailer: -0.3141\n",
      "Validation Disparity for gender_presentation_masc and machinist: -0.3342\n",
      "Validation Disparity for gender_presentation_masc and reporter: -0.2894\n",
      "Validation Disparity for gender_presentation_masc and horseman: -0.3125\n",
      "Validation Disparity for gender_presentation_masc and tennis_player: -0.2941\n",
      "Validation Disparity for gender_presentation_masc and computer_user: -0.3219\n",
      "Validation Disparity for gender_presentation_masc and carpenter: -0.3646\n",
      "Validation Disparity for gender_presentation_masc and seller: -0.3092\n",
      "Validation Disparity for gender_presentation_masc and skateboarder: -0.3085\n",
      "Validation Disparity for gender_presentation_masc and gardener: -0.3438\n",
      "Validation Disparity for gender_presentation_masc and waiter: -0.2917\n",
      "Validation Disparity for gender_presentation_masc and prayer: -0.3078\n",
      "Validation Disparity for gender_presentation_masc and ballplayer: -0.3107\n",
      "Validation Disparity for gender_presentation_masc and sculptor: -0.3073\n",
      "Validation Disparity for gender_presentation_masc and teacher: -0.3235\n",
      "Validation Disparity for gender_presentation_masc and electrician: -0.3038\n",
      "Validation Disparity for gender_presentation_masc and hairdresser: -0.3073\n",
      "Validation Disparity for gender_presentation_masc and judge: -0.3242\n",
      "Validation Disparity for gender_presentation_masc and trumpeter: -0.2923\n",
      "Validation Disparity for gender_presentation_masc and bartender: nan\n",
      "Validation Disparity for gender_presentation_fem and gymnast: -0.3153\n",
      "Validation Disparity for gender_presentation_fem and boatman: -0.3396\n",
      "Validation Disparity for gender_presentation_fem and lifeguard: -0.3021\n",
      "Validation Disparity for gender_presentation_fem and backpacker: -0.3354\n",
      "Validation Disparity for gender_presentation_fem and lawman: -0.2965\n",
      "Validation Disparity for gender_presentation_fem and dancer: -0.2861\n",
      "Validation Disparity for gender_presentation_fem and laborer: -0.2980\n",
      "Validation Disparity for gender_presentation_fem and patient: -0.2917\n",
      "Validation Disparity for gender_presentation_fem and basketball_player: -0.3568\n",
      "Validation Disparity for gender_presentation_fem and nurse: -0.2835\n",
      "Validation Disparity for gender_presentation_fem and singer: -0.3403\n",
      "Validation Disparity for gender_presentation_fem and motorcyclist: -0.3231\n",
      "Validation Disparity for gender_presentation_fem and astronaut: nan\n",
      "Validation Disparity for gender_presentation_fem and fireman: nan\n",
      "Validation Disparity for gender_presentation_fem and referee: nan\n",
      "Validation Disparity for gender_presentation_fem and speaker: -0.3242\n",
      "Validation Disparity for gender_presentation_fem and guitarist: -0.3220\n",
      "Validation Disparity for gender_presentation_fem and repairman: -0.3138\n",
      "Validation Disparity for gender_presentation_fem and craftsman: -0.3015\n",
      "Validation Disparity for gender_presentation_fem and guard: -0.3068\n",
      "Validation Disparity for gender_presentation_fem and painter: -0.2831\n",
      "Validation Disparity for gender_presentation_fem and doctor: -0.2885\n",
      "Validation Disparity for gender_presentation_fem and farmer: -0.3097\n",
      "Validation Disparity for gender_presentation_fem and drummer: -0.3177\n",
      "Validation Disparity for gender_presentation_fem and climber: -0.3073\n",
      "Validation Disparity for gender_presentation_fem and disk_jockey: -0.3385\n",
      "Validation Disparity for gender_presentation_fem and soccer_player: -0.3125\n",
      "Validation Disparity for gender_presentation_fem and student: -0.3125\n",
      "Validation Disparity for gender_presentation_fem and soldier: -0.2995\n",
      "Validation Disparity for gender_presentation_fem and cheerleader: -0.2880\n",
      "Validation Disparity for gender_presentation_fem and flutist: nan\n",
      "Validation Disparity for gender_presentation_fem and runner: -0.3155\n",
      "Validation Disparity for gender_presentation_fem and retailer: -0.2917\n",
      "Validation Disparity for gender_presentation_fem and machinist: -0.2917\n",
      "Validation Disparity for gender_presentation_fem and reporter: -0.3154\n",
      "Validation Disparity for gender_presentation_fem and horseman: -0.3047\n",
      "Validation Disparity for gender_presentation_fem and tennis_player: -0.3052\n",
      "Validation Disparity for gender_presentation_fem and computer_user: -0.3241\n",
      "Validation Disparity for gender_presentation_fem and carpenter: nan\n",
      "Validation Disparity for gender_presentation_fem and seller: -0.3134\n",
      "Validation Disparity for gender_presentation_fem and skateboarder: -0.2739\n",
      "Validation Disparity for gender_presentation_fem and gardener: -0.3217\n",
      "Validation Disparity for gender_presentation_fem and waiter: -0.2880\n",
      "Validation Disparity for gender_presentation_fem and prayer: -0.2895\n",
      "Validation Disparity for gender_presentation_fem and ballplayer: nan\n",
      "Validation Disparity for gender_presentation_fem and sculptor: -0.3420\n",
      "Validation Disparity for gender_presentation_fem and teacher: -0.3070\n",
      "Validation Disparity for gender_presentation_fem and electrician: nan\n",
      "Validation Disparity for gender_presentation_fem and hairdresser: -0.3125\n",
      "Validation Disparity for gender_presentation_fem and judge: -0.2917\n",
      "Validation Disparity for gender_presentation_fem and trumpeter: nan\n",
      "Validation Disparity for gender_presentation_fem and bartender: nan\n",
      "Validation Disparity for gender_presentation_non_binary and gymnast: nan\n",
      "Validation Disparity for gender_presentation_non_binary and boatman: nan\n",
      "Validation Disparity for gender_presentation_non_binary and lifeguard: nan\n",
      "Validation Disparity for gender_presentation_non_binary and backpacker: nan\n",
      "Validation Disparity for gender_presentation_non_binary and lawman: nan\n",
      "Validation Disparity for gender_presentation_non_binary and dancer: -0.3542\n",
      "Validation Disparity for gender_presentation_non_binary and laborer: nan\n",
      "Validation Disparity for gender_presentation_non_binary and patient: nan\n",
      "Validation Disparity for gender_presentation_non_binary and basketball_player: nan\n",
      "Validation Disparity for gender_presentation_non_binary and nurse: nan\n",
      "Validation Disparity for gender_presentation_non_binary and singer: nan\n",
      "Validation Disparity for gender_presentation_non_binary and motorcyclist: nan\n",
      "Validation Disparity for gender_presentation_non_binary and astronaut: nan\n",
      "Validation Disparity for gender_presentation_non_binary and fireman: nan\n",
      "Validation Disparity for gender_presentation_non_binary and referee: nan\n",
      "Validation Disparity for gender_presentation_non_binary and speaker: nan\n",
      "Validation Disparity for gender_presentation_non_binary and guitarist: nan\n",
      "Validation Disparity for gender_presentation_non_binary and repairman: nan\n",
      "Validation Disparity for gender_presentation_non_binary and craftsman: nan\n",
      "Validation Disparity for gender_presentation_non_binary and guard: nan\n",
      "Validation Disparity for gender_presentation_non_binary and painter: nan\n",
      "Validation Disparity for gender_presentation_non_binary and doctor: nan\n",
      "Validation Disparity for gender_presentation_non_binary and farmer: nan\n",
      "Validation Disparity for gender_presentation_non_binary and drummer: nan\n",
      "Validation Disparity for gender_presentation_non_binary and climber: nan\n",
      "Validation Disparity for gender_presentation_non_binary and disk_jockey: nan\n",
      "Validation Disparity for gender_presentation_non_binary and soccer_player: nan\n",
      "Validation Disparity for gender_presentation_non_binary and student: nan\n",
      "Validation Disparity for gender_presentation_non_binary and soldier: nan\n",
      "Validation Disparity for gender_presentation_non_binary and cheerleader: nan\n",
      "Validation Disparity for gender_presentation_non_binary and flutist: nan\n",
      "Validation Disparity for gender_presentation_non_binary and runner: nan\n",
      "Validation Disparity for gender_presentation_non_binary and retailer: nan\n",
      "Validation Disparity for gender_presentation_non_binary and machinist: nan\n",
      "Validation Disparity for gender_presentation_non_binary and reporter: nan\n",
      "Validation Disparity for gender_presentation_non_binary and horseman: nan\n",
      "Validation Disparity for gender_presentation_non_binary and tennis_player: nan\n",
      "Validation Disparity for gender_presentation_non_binary and computer_user: nan\n",
      "Validation Disparity for gender_presentation_non_binary and carpenter: nan\n",
      "Validation Disparity for gender_presentation_non_binary and seller: nan\n",
      "Validation Disparity for gender_presentation_non_binary and skateboarder: nan\n",
      "Validation Disparity for gender_presentation_non_binary and gardener: nan\n",
      "Validation Disparity for gender_presentation_non_binary and waiter: nan\n",
      "Validation Disparity for gender_presentation_non_binary and prayer: nan\n",
      "Validation Disparity for gender_presentation_non_binary and ballplayer: nan\n",
      "Validation Disparity for gender_presentation_non_binary and sculptor: nan\n",
      "Validation Disparity for gender_presentation_non_binary and teacher: nan\n",
      "Validation Disparity for gender_presentation_non_binary and electrician: nan\n",
      "Validation Disparity for gender_presentation_non_binary and hairdresser: nan\n",
      "Validation Disparity for gender_presentation_non_binary and judge: nan\n",
      "Validation Disparity for gender_presentation_non_binary and trumpeter: nan\n",
      "Validation Disparity for gender_presentation_non_binary and bartender: nan\n",
      "Validation Disparity for gender_presentation_na and gymnast: -0.3021\n",
      "Validation Disparity for gender_presentation_na and boatman: -0.3368\n",
      "Validation Disparity for gender_presentation_na and lifeguard: -0.3359\n",
      "Validation Disparity for gender_presentation_na and backpacker: -0.2974\n",
      "Validation Disparity for gender_presentation_na and lawman: -0.3035\n",
      "Validation Disparity for gender_presentation_na and dancer: -0.3162\n",
      "Validation Disparity for gender_presentation_na and laborer: -0.3200\n",
      "Validation Disparity for gender_presentation_na and patient: -0.3010\n",
      "Validation Disparity for gender_presentation_na and basketball_player: -0.3021\n",
      "Validation Disparity for gender_presentation_na and nurse: -0.3190\n",
      "Validation Disparity for gender_presentation_na and singer: nan\n",
      "Validation Disparity for gender_presentation_na and motorcyclist: -0.3302\n",
      "Validation Disparity for gender_presentation_na and astronaut: nan\n",
      "Validation Disparity for gender_presentation_na and fireman: -0.3077\n",
      "Validation Disparity for gender_presentation_na and referee: -0.2656\n",
      "Validation Disparity for gender_presentation_na and speaker: -0.3068\n",
      "Validation Disparity for gender_presentation_na and guitarist: nan\n",
      "Validation Disparity for gender_presentation_na and repairman: -0.2878\n",
      "Validation Disparity for gender_presentation_na and craftsman: -0.2951\n",
      "Validation Disparity for gender_presentation_na and guard: nan\n",
      "Validation Disparity for gender_presentation_na and painter: -0.3397\n",
      "Validation Disparity for gender_presentation_na and doctor: -0.2969\n",
      "Validation Disparity for gender_presentation_na and farmer: -0.2973\n",
      "Validation Disparity for gender_presentation_na and drummer: -0.3151\n",
      "Validation Disparity for gender_presentation_na and climber: nan\n",
      "Validation Disparity for gender_presentation_na and disk_jockey: nan\n",
      "Validation Disparity for gender_presentation_na and soccer_player: nan\n",
      "Validation Disparity for gender_presentation_na and student: -0.3646\n",
      "Validation Disparity for gender_presentation_na and soldier: -0.3043\n",
      "Validation Disparity for gender_presentation_na and cheerleader: -0.2812\n",
      "Validation Disparity for gender_presentation_na and flutist: -0.2760\n",
      "Validation Disparity for gender_presentation_na and runner: -0.3125\n",
      "Validation Disparity for gender_presentation_na and retailer: nan\n",
      "Validation Disparity for gender_presentation_na and machinist: -0.3078\n",
      "Validation Disparity for gender_presentation_na and reporter: -0.2708\n",
      "Validation Disparity for gender_presentation_na and horseman: -0.3268\n",
      "Validation Disparity for gender_presentation_na and tennis_player: -0.2917\n",
      "Validation Disparity for gender_presentation_na and computer_user: -0.3208\n",
      "Validation Disparity for gender_presentation_na and carpenter: nan\n",
      "Validation Disparity for gender_presentation_na and seller: nan\n",
      "Validation Disparity for gender_presentation_na and skateboarder: nan\n",
      "Validation Disparity for gender_presentation_na and gardener: -0.2969\n",
      "Validation Disparity for gender_presentation_na and waiter: nan\n",
      "Validation Disparity for gender_presentation_na and prayer: -0.3646\n",
      "Validation Disparity for gender_presentation_na and ballplayer: -0.3438\n",
      "Validation Disparity for gender_presentation_na and sculptor: nan\n",
      "Validation Disparity for gender_presentation_na and teacher: nan\n",
      "Validation Disparity for gender_presentation_na and electrician: nan\n",
      "Validation Disparity for gender_presentation_na and hairdresser: nan\n",
      "Validation Disparity for gender_presentation_na and judge: nan\n",
      "Validation Disparity for gender_presentation_na and trumpeter: -0.2812\n",
      "Validation Disparity for gender_presentation_na and bartender: nan\n",
      "Validation Disparity for skin_tone_1 and gymnast: -0.3490\n",
      "Validation Disparity for skin_tone_1 and boatman: -0.3151\n",
      "Validation Disparity for skin_tone_1 and lifeguard: nan\n",
      "Validation Disparity for skin_tone_1 and backpacker: nan\n",
      "Validation Disparity for skin_tone_1 and lawman: -0.2958\n",
      "Validation Disparity for skin_tone_1 and dancer: -0.3398\n",
      "Validation Disparity for skin_tone_1 and laborer: -0.2812\n",
      "Validation Disparity for skin_tone_1 and patient: -0.3099\n",
      "Validation Disparity for skin_tone_1 and basketball_player: -0.3504\n",
      "Validation Disparity for skin_tone_1 and nurse: -0.2917\n",
      "Validation Disparity for skin_tone_1 and singer: nan\n",
      "Validation Disparity for skin_tone_1 and motorcyclist: -0.3021\n",
      "Validation Disparity for skin_tone_1 and astronaut: nan\n",
      "Validation Disparity for skin_tone_1 and fireman: -0.3290\n",
      "Validation Disparity for skin_tone_1 and referee: -0.3177\n",
      "Validation Disparity for skin_tone_1 and speaker: -0.3021\n",
      "Validation Disparity for skin_tone_1 and guitarist: -0.3359\n",
      "Validation Disparity for skin_tone_1 and repairman: -0.3177\n",
      "Validation Disparity for skin_tone_1 and craftsman: -0.3281\n",
      "Validation Disparity for skin_tone_1 and guard: -0.3160\n",
      "Validation Disparity for skin_tone_1 and painter: nan\n",
      "Validation Disparity for skin_tone_1 and doctor: -0.3177\n",
      "Validation Disparity for skin_tone_1 and farmer: -0.2917\n",
      "Validation Disparity for skin_tone_1 and drummer: -0.2812\n",
      "Validation Disparity for skin_tone_1 and climber: nan\n",
      "Validation Disparity for skin_tone_1 and disk_jockey: nan\n",
      "Validation Disparity for skin_tone_1 and soccer_player: -0.2951\n",
      "Validation Disparity for skin_tone_1 and student: -0.3229\n",
      "Validation Disparity for skin_tone_1 and soldier: -0.3018\n",
      "Validation Disparity for skin_tone_1 and cheerleader: -0.2995\n",
      "Validation Disparity for skin_tone_1 and flutist: -0.2552\n",
      "Validation Disparity for skin_tone_1 and runner: -0.2552\n",
      "Validation Disparity for skin_tone_1 and retailer: -0.3021\n",
      "Validation Disparity for skin_tone_1 and machinist: nan\n",
      "Validation Disparity for skin_tone_1 and reporter: nan\n",
      "Validation Disparity for skin_tone_1 and horseman: -0.3021\n",
      "Validation Disparity for skin_tone_1 and tennis_player: -0.3203\n",
      "Validation Disparity for skin_tone_1 and computer_user: -0.3125\n",
      "Validation Disparity for skin_tone_1 and carpenter: nan\n",
      "Validation Disparity for skin_tone_1 and seller: nan\n",
      "Validation Disparity for skin_tone_1 and skateboarder: -0.3359\n",
      "Validation Disparity for skin_tone_1 and gardener: -0.3594\n",
      "Validation Disparity for skin_tone_1 and waiter: -0.2396\n",
      "Validation Disparity for skin_tone_1 and prayer: -0.2610\n",
      "Validation Disparity for skin_tone_1 and ballplayer: -0.2865\n",
      "Validation Disparity for skin_tone_1 and sculptor: nan\n",
      "Validation Disparity for skin_tone_1 and teacher: nan\n",
      "Validation Disparity for skin_tone_1 and electrician: nan\n",
      "Validation Disparity for skin_tone_1 and hairdresser: nan\n",
      "Validation Disparity for skin_tone_1 and judge: nan\n",
      "Validation Disparity for skin_tone_1 and trumpeter: nan\n",
      "Validation Disparity for skin_tone_1 and bartender: nan\n",
      "Validation Disparity for skin_tone_2 and gymnast: -0.3099\n",
      "Validation Disparity for skin_tone_2 and boatman: -0.3386\n",
      "Validation Disparity for skin_tone_2 and lifeguard: -0.3542\n",
      "Validation Disparity for skin_tone_2 and backpacker: -0.3320\n",
      "Validation Disparity for skin_tone_2 and lawman: -0.2989\n",
      "Validation Disparity for skin_tone_2 and dancer: -0.3187\n",
      "Validation Disparity for skin_tone_2 and laborer: -0.3157\n",
      "Validation Disparity for skin_tone_2 and patient: -0.3036\n",
      "Validation Disparity for skin_tone_2 and basketball_player: -0.3254\n",
      "Validation Disparity for skin_tone_2 and nurse: -0.3073\n",
      "Validation Disparity for skin_tone_2 and singer: -0.3346\n",
      "Validation Disparity for skin_tone_2 and motorcyclist: -0.2758\n",
      "Validation Disparity for skin_tone_2 and astronaut: nan\n",
      "Validation Disparity for skin_tone_2 and fireman: nan\n",
      "Validation Disparity for skin_tone_2 and referee: -0.3117\n",
      "Validation Disparity for skin_tone_2 and speaker: -0.2917\n",
      "Validation Disparity for skin_tone_2 and guitarist: -0.3162\n",
      "Validation Disparity for skin_tone_2 and repairman: -0.3233\n",
      "Validation Disparity for skin_tone_2 and craftsman: -0.3142\n",
      "Validation Disparity for skin_tone_2 and guard: -0.3185\n",
      "Validation Disparity for skin_tone_2 and painter: -0.2882\n",
      "Validation Disparity for skin_tone_2 and doctor: -0.3125\n",
      "Validation Disparity for skin_tone_2 and farmer: nan\n",
      "Validation Disparity for skin_tone_2 and drummer: -0.2943\n",
      "Validation Disparity for skin_tone_2 and climber: -0.3177\n",
      "Validation Disparity for skin_tone_2 and disk_jockey: -0.3665\n",
      "Validation Disparity for skin_tone_2 and soccer_player: -0.2941\n",
      "Validation Disparity for skin_tone_2 and student: -0.3073\n",
      "Validation Disparity for skin_tone_2 and soldier: -0.3141\n",
      "Validation Disparity for skin_tone_2 and cheerleader: -0.2812\n",
      "Validation Disparity for skin_tone_2 and flutist: nan\n",
      "Validation Disparity for skin_tone_2 and runner: -0.2922\n",
      "Validation Disparity for skin_tone_2 and retailer: -0.2882\n",
      "Validation Disparity for skin_tone_2 and machinist: -0.3542\n",
      "Validation Disparity for skin_tone_2 and reporter: -0.3003\n",
      "Validation Disparity for skin_tone_2 and horseman: -0.2762\n",
      "Validation Disparity for skin_tone_2 and tennis_player: -0.3143\n",
      "Validation Disparity for skin_tone_2 and computer_user: -0.3237\n",
      "Validation Disparity for skin_tone_2 and carpenter: nan\n",
      "Validation Disparity for skin_tone_2 and seller: -0.3084\n",
      "Validation Disparity for skin_tone_2 and skateboarder: -0.3135\n",
      "Validation Disparity for skin_tone_2 and gardener: -0.3125\n",
      "Validation Disparity for skin_tone_2 and waiter: nan\n",
      "Validation Disparity for skin_tone_2 and prayer: -0.3060\n",
      "Validation Disparity for skin_tone_2 and ballplayer: -0.3259\n",
      "Validation Disparity for skin_tone_2 and sculptor: nan\n",
      "Validation Disparity for skin_tone_2 and teacher: -0.2969\n",
      "Validation Disparity for skin_tone_2 and electrician: nan\n",
      "Validation Disparity for skin_tone_2 and hairdresser: -0.2760\n",
      "Validation Disparity for skin_tone_2 and judge: -0.3073\n",
      "Validation Disparity for skin_tone_2 and trumpeter: -0.2995\n",
      "Validation Disparity for skin_tone_2 and bartender: nan\n",
      "Validation Disparity for skin_tone_3 and gymnast: -0.3548\n",
      "Validation Disparity for skin_tone_3 and boatman: -0.3490\n",
      "Validation Disparity for skin_tone_3 and lifeguard: -0.2760\n",
      "Validation Disparity for skin_tone_3 and backpacker: -0.3040\n",
      "Validation Disparity for skin_tone_3 and lawman: -0.3040\n",
      "Validation Disparity for skin_tone_3 and dancer: -0.3116\n",
      "Validation Disparity for skin_tone_3 and laborer: -0.3061\n",
      "Validation Disparity for skin_tone_3 and patient: -0.3060\n",
      "Validation Disparity for skin_tone_3 and basketball_player: -0.3317\n",
      "Validation Disparity for skin_tone_3 and nurse: -0.3136\n",
      "Validation Disparity for skin_tone_3 and singer: -0.3164\n",
      "Validation Disparity for skin_tone_3 and motorcyclist: -0.3161\n",
      "Validation Disparity for skin_tone_3 and astronaut: nan\n",
      "Validation Disparity for skin_tone_3 and fireman: -0.2891\n",
      "Validation Disparity for skin_tone_3 and referee: -0.3173\n",
      "Validation Disparity for skin_tone_3 and speaker: -0.3182\n",
      "Validation Disparity for skin_tone_3 and guitarist: -0.2935\n",
      "Validation Disparity for skin_tone_3 and repairman: -0.3107\n",
      "Validation Disparity for skin_tone_3 and craftsman: -0.3247\n",
      "Validation Disparity for skin_tone_3 and guard: -0.3300\n",
      "Validation Disparity for skin_tone_3 and painter: -0.3385\n",
      "Validation Disparity for skin_tone_3 and doctor: -0.2802\n",
      "Validation Disparity for skin_tone_3 and farmer: -0.2847\n",
      "Validation Disparity for skin_tone_3 and drummer: -0.2961\n",
      "Validation Disparity for skin_tone_3 and climber: -0.3292\n",
      "Validation Disparity for skin_tone_3 and disk_jockey: -0.3594\n",
      "Validation Disparity for skin_tone_3 and soccer_player: -0.2717\n",
      "Validation Disparity for skin_tone_3 and student: -0.2960\n",
      "Validation Disparity for skin_tone_3 and soldier: -0.3036\n",
      "Validation Disparity for skin_tone_3 and cheerleader: -0.2917\n",
      "Validation Disparity for skin_tone_3 and flutist: -0.2656\n",
      "Validation Disparity for skin_tone_3 and runner: -0.3044\n",
      "Validation Disparity for skin_tone_3 and retailer: -0.3073\n",
      "Validation Disparity for skin_tone_3 and machinist: -0.3255\n",
      "Validation Disparity for skin_tone_3 and reporter: -0.3281\n",
      "Validation Disparity for skin_tone_3 and horseman: -0.2938\n",
      "Validation Disparity for skin_tone_3 and tennis_player: -0.3236\n",
      "Validation Disparity for skin_tone_3 and computer_user: -0.3241\n",
      "Validation Disparity for skin_tone_3 and carpenter: nan\n",
      "Validation Disparity for skin_tone_3 and seller: -0.3305\n",
      "Validation Disparity for skin_tone_3 and skateboarder: -0.3040\n",
      "Validation Disparity for skin_tone_3 and gardener: -0.3073\n",
      "Validation Disparity for skin_tone_3 and waiter: -0.2760\n",
      "Validation Disparity for skin_tone_3 and prayer: -0.2943\n",
      "Validation Disparity for skin_tone_3 and ballplayer: -0.3285\n",
      "Validation Disparity for skin_tone_3 and sculptor: -0.3073\n",
      "Validation Disparity for skin_tone_3 and teacher: -0.3177\n",
      "Validation Disparity for skin_tone_3 and electrician: -0.3021\n",
      "Validation Disparity for skin_tone_3 and hairdresser: -0.2989\n",
      "Validation Disparity for skin_tone_3 and judge: nan\n",
      "Validation Disparity for skin_tone_3 and trumpeter: -0.3108\n",
      "Validation Disparity for skin_tone_3 and bartender: nan\n",
      "Validation Disparity for skin_tone_4 and gymnast: -0.3060\n",
      "Validation Disparity for skin_tone_4 and boatman: -0.3168\n",
      "Validation Disparity for skin_tone_4 and lifeguard: -0.2585\n",
      "Validation Disparity for skin_tone_4 and backpacker: -0.3252\n",
      "Validation Disparity for skin_tone_4 and lawman: -0.3092\n",
      "Validation Disparity for skin_tone_4 and dancer: -0.3061\n",
      "Validation Disparity for skin_tone_4 and laborer: -0.2941\n",
      "Validation Disparity for skin_tone_4 and patient: -0.3017\n",
      "Validation Disparity for skin_tone_4 and basketball_player: -0.3215\n",
      "Validation Disparity for skin_tone_4 and nurse: -0.3025\n",
      "Validation Disparity for skin_tone_4 and singer: -0.3125\n",
      "Validation Disparity for skin_tone_4 and motorcyclist: -0.3012\n",
      "Validation Disparity for skin_tone_4 and astronaut: -0.3438\n",
      "Validation Disparity for skin_tone_4 and fireman: -0.3203\n",
      "Validation Disparity for skin_tone_4 and referee: -0.3088\n",
      "Validation Disparity for skin_tone_4 and speaker: -0.3250\n",
      "Validation Disparity for skin_tone_4 and guitarist: -0.2955\n",
      "Validation Disparity for skin_tone_4 and repairman: -0.3220\n",
      "Validation Disparity for skin_tone_4 and craftsman: -0.3187\n",
      "Validation Disparity for skin_tone_4 and guard: -0.3098\n",
      "Validation Disparity for skin_tone_4 and painter: -0.2921\n",
      "Validation Disparity for skin_tone_4 and doctor: -0.2933\n",
      "Validation Disparity for skin_tone_4 and farmer: -0.3068\n",
      "Validation Disparity for skin_tone_4 and drummer: -0.2831\n",
      "Validation Disparity for skin_tone_4 and climber: -0.2917\n",
      "Validation Disparity for skin_tone_4 and disk_jockey: -0.3359\n",
      "Validation Disparity for skin_tone_4 and soccer_player: -0.2932\n",
      "Validation Disparity for skin_tone_4 and student: -0.3058\n",
      "Validation Disparity for skin_tone_4 and soldier: -0.2985\n",
      "Validation Disparity for skin_tone_4 and cheerleader: -0.2702\n",
      "Validation Disparity for skin_tone_4 and flutist: -0.2969\n",
      "Validation Disparity for skin_tone_4 and runner: -0.3069\n",
      "Validation Disparity for skin_tone_4 and retailer: -0.2969\n",
      "Validation Disparity for skin_tone_4 and machinist: -0.3256\n",
      "Validation Disparity for skin_tone_4 and reporter: -0.2824\n",
      "Validation Disparity for skin_tone_4 and horseman: -0.3171\n",
      "Validation Disparity for skin_tone_4 and tennis_player: -0.3103\n",
      "Validation Disparity for skin_tone_4 and computer_user: -0.3111\n",
      "Validation Disparity for skin_tone_4 and carpenter: nan\n",
      "Validation Disparity for skin_tone_4 and seller: -0.2920\n",
      "Validation Disparity for skin_tone_4 and skateboarder: -0.3106\n",
      "Validation Disparity for skin_tone_4 and gardener: -0.3464\n",
      "Validation Disparity for skin_tone_4 and waiter: -0.3073\n",
      "Validation Disparity for skin_tone_4 and prayer: -0.3024\n",
      "Validation Disparity for skin_tone_4 and ballplayer: -0.3438\n",
      "Validation Disparity for skin_tone_4 and sculptor: -0.3203\n",
      "Validation Disparity for skin_tone_4 and teacher: -0.2812\n",
      "Validation Disparity for skin_tone_4 and electrician: -0.2865\n",
      "Validation Disparity for skin_tone_4 and hairdresser: -0.2955\n",
      "Validation Disparity for skin_tone_4 and judge: -0.3281\n",
      "Validation Disparity for skin_tone_4 and trumpeter: nan\n",
      "Validation Disparity for skin_tone_4 and bartender: nan\n",
      "Validation Disparity for skin_tone_5 and gymnast: -0.3092\n",
      "Validation Disparity for skin_tone_5 and boatman: -0.3484\n",
      "Validation Disparity for skin_tone_5 and lifeguard: -0.2727\n",
      "Validation Disparity for skin_tone_5 and backpacker: -0.3284\n",
      "Validation Disparity for skin_tone_5 and lawman: -0.3177\n",
      "Validation Disparity for skin_tone_5 and dancer: -0.2812\n",
      "Validation Disparity for skin_tone_5 and laborer: -0.2969\n",
      "Validation Disparity for skin_tone_5 and patient: -0.2812\n",
      "Validation Disparity for skin_tone_5 and basketball_player: -0.3385\n",
      "Validation Disparity for skin_tone_5 and nurse: -0.2842\n",
      "Validation Disparity for skin_tone_5 and singer: -0.3455\n",
      "Validation Disparity for skin_tone_5 and motorcyclist: -0.3097\n",
      "Validation Disparity for skin_tone_5 and astronaut: -0.2969\n",
      "Validation Disparity for skin_tone_5 and fireman: -0.2865\n",
      "Validation Disparity for skin_tone_5 and referee: -0.3139\n",
      "Validation Disparity for skin_tone_5 and speaker: -0.2922\n",
      "Validation Disparity for skin_tone_5 and guitarist: -0.3005\n",
      "Validation Disparity for skin_tone_5 and repairman: -0.3125\n",
      "Validation Disparity for skin_tone_5 and craftsman: -0.2973\n",
      "Validation Disparity for skin_tone_5 and guard: -0.3189\n",
      "Validation Disparity for skin_tone_5 and painter: -0.2629\n",
      "Validation Disparity for skin_tone_5 and doctor: -0.3457\n",
      "Validation Disparity for skin_tone_5 and farmer: -0.2977\n",
      "Validation Disparity for skin_tone_5 and drummer: -0.2904\n",
      "Validation Disparity for skin_tone_5 and climber: -0.2756\n",
      "Validation Disparity for skin_tone_5 and disk_jockey: nan\n",
      "Validation Disparity for skin_tone_5 and soccer_player: -0.3058\n",
      "Validation Disparity for skin_tone_5 and student: -0.3125\n",
      "Validation Disparity for skin_tone_5 and soldier: -0.2794\n",
      "Validation Disparity for skin_tone_5 and cheerleader: -0.2812\n",
      "Validation Disparity for skin_tone_5 and flutist: -0.2812\n",
      "Validation Disparity for skin_tone_5 and runner: -0.3170\n",
      "Validation Disparity for skin_tone_5 and retailer: -0.2656\n",
      "Validation Disparity for skin_tone_5 and machinist: -0.3578\n",
      "Validation Disparity for skin_tone_5 and reporter: -0.2865\n",
      "Validation Disparity for skin_tone_5 and horseman: -0.3203\n",
      "Validation Disparity for skin_tone_5 and tennis_player: -0.3099\n",
      "Validation Disparity for skin_tone_5 and computer_user: -0.3274\n",
      "Validation Disparity for skin_tone_5 and carpenter: -0.3646\n",
      "Validation Disparity for skin_tone_5 and seller: -0.3045\n",
      "Validation Disparity for skin_tone_5 and skateboarder: -0.3107\n",
      "Validation Disparity for skin_tone_5 and gardener: -0.3229\n",
      "Validation Disparity for skin_tone_5 and waiter: -0.2604\n",
      "Validation Disparity for skin_tone_5 and prayer: -0.2812\n",
      "Validation Disparity for skin_tone_5 and ballplayer: -0.3272\n",
      "Validation Disparity for skin_tone_5 and sculptor: nan\n",
      "Validation Disparity for skin_tone_5 and teacher: -0.2891\n",
      "Validation Disparity for skin_tone_5 and electrician: -0.2865\n",
      "Validation Disparity for skin_tone_5 and hairdresser: -0.2969\n",
      "Validation Disparity for skin_tone_5 and judge: -0.3295\n",
      "Validation Disparity for skin_tone_5 and trumpeter: nan\n",
      "Validation Disparity for skin_tone_5 and bartender: nan\n",
      "Validation Disparity for skin_tone_6 and gymnast: -0.3229\n",
      "Validation Disparity for skin_tone_6 and boatman: -0.3318\n",
      "Validation Disparity for skin_tone_6 and lifeguard: -0.2656\n",
      "Validation Disparity for skin_tone_6 and backpacker: -0.3420\n",
      "Validation Disparity for skin_tone_6 and lawman: -0.2834\n",
      "Validation Disparity for skin_tone_6 and dancer: -0.3077\n",
      "Validation Disparity for skin_tone_6 and laborer: -0.3142\n",
      "Validation Disparity for skin_tone_6 and patient: -0.2794\n",
      "Validation Disparity for skin_tone_6 and basketball_player: -0.3125\n",
      "Validation Disparity for skin_tone_6 and nurse: -0.2969\n",
      "Validation Disparity for skin_tone_6 and singer: -0.3104\n",
      "Validation Disparity for skin_tone_6 and motorcyclist: -0.3438\n",
      "Validation Disparity for skin_tone_6 and astronaut: nan\n",
      "Validation Disparity for skin_tone_6 and fireman: nan\n",
      "Validation Disparity for skin_tone_6 and referee: -0.2909\n",
      "Validation Disparity for skin_tone_6 and speaker: -0.3646\n",
      "Validation Disparity for skin_tone_6 and guitarist: -0.2830\n",
      "Validation Disparity for skin_tone_6 and repairman: -0.3045\n",
      "Validation Disparity for skin_tone_6 and craftsman: -0.3190\n",
      "Validation Disparity for skin_tone_6 and guard: -0.3212\n",
      "Validation Disparity for skin_tone_6 and painter: -0.3359\n",
      "Validation Disparity for skin_tone_6 and doctor: -0.3229\n",
      "Validation Disparity for skin_tone_6 and farmer: -0.3047\n",
      "Validation Disparity for skin_tone_6 and drummer: -0.2899\n",
      "Validation Disparity for skin_tone_6 and climber: -0.3073\n",
      "Validation Disparity for skin_tone_6 and disk_jockey: -0.3594\n",
      "Validation Disparity for skin_tone_6 and soccer_player: -0.3177\n",
      "Validation Disparity for skin_tone_6 and student: -0.2865\n",
      "Validation Disparity for skin_tone_6 and soldier: -0.3016\n",
      "Validation Disparity for skin_tone_6 and cheerleader: nan\n",
      "Validation Disparity for skin_tone_6 and flutist: nan\n",
      "Validation Disparity for skin_tone_6 and runner: -0.2665\n",
      "Validation Disparity for skin_tone_6 and retailer: -0.3038\n",
      "Validation Disparity for skin_tone_6 and machinist: -0.3359\n",
      "Validation Disparity for skin_tone_6 and reporter: -0.3003\n",
      "Validation Disparity for skin_tone_6 and horseman: -0.3021\n",
      "Validation Disparity for skin_tone_6 and tennis_player: -0.2798\n",
      "Validation Disparity for skin_tone_6 and computer_user: -0.3179\n",
      "Validation Disparity for skin_tone_6 and carpenter: -0.3646\n",
      "Validation Disparity for skin_tone_6 and seller: -0.3003\n",
      "Validation Disparity for skin_tone_6 and skateboarder: -0.2950\n",
      "Validation Disparity for skin_tone_6 and gardener: -0.3203\n",
      "Validation Disparity for skin_tone_6 and waiter: -0.3021\n",
      "Validation Disparity for skin_tone_6 and prayer: -0.3377\n",
      "Validation Disparity for skin_tone_6 and ballplayer: -0.3156\n",
      "Validation Disparity for skin_tone_6 and sculptor: -0.3177\n",
      "Validation Disparity for skin_tone_6 and teacher: nan\n",
      "Validation Disparity for skin_tone_6 and electrician: -0.2943\n",
      "Validation Disparity for skin_tone_6 and hairdresser: -0.3084\n",
      "Validation Disparity for skin_tone_6 and judge: nan\n",
      "Validation Disparity for skin_tone_6 and trumpeter: -0.2865\n",
      "Validation Disparity for skin_tone_6 and bartender: nan\n",
      "Validation Disparity for skin_tone_7 and gymnast: -0.2969\n",
      "Validation Disparity for skin_tone_7 and boatman: -0.3073\n",
      "Validation Disparity for skin_tone_7 and lifeguard: -0.3385\n",
      "Validation Disparity for skin_tone_7 and backpacker: -0.3073\n",
      "Validation Disparity for skin_tone_7 and lawman: -0.3236\n",
      "Validation Disparity for skin_tone_7 and dancer: -0.2955\n",
      "Validation Disparity for skin_tone_7 and laborer: -0.3294\n",
      "Validation Disparity for skin_tone_7 and patient: -0.2824\n",
      "Validation Disparity for skin_tone_7 and basketball_player: -0.3098\n",
      "Validation Disparity for skin_tone_7 and nurse: -0.3125\n",
      "Validation Disparity for skin_tone_7 and singer: -0.3636\n",
      "Validation Disparity for skin_tone_7 and motorcyclist: -0.3217\n",
      "Validation Disparity for skin_tone_7 and astronaut: nan\n",
      "Validation Disparity for skin_tone_7 and fireman: nan\n",
      "Validation Disparity for skin_tone_7 and referee: -0.2656\n",
      "Validation Disparity for skin_tone_7 and speaker: -0.3438\n",
      "Validation Disparity for skin_tone_7 and guitarist: -0.3125\n",
      "Validation Disparity for skin_tone_7 and repairman: -0.3177\n",
      "Validation Disparity for skin_tone_7 and craftsman: -0.3021\n",
      "Validation Disparity for skin_tone_7 and guard: -0.2865\n",
      "Validation Disparity for skin_tone_7 and painter: nan\n",
      "Validation Disparity for skin_tone_7 and doctor: -0.3114\n",
      "Validation Disparity for skin_tone_7 and farmer: -0.3088\n",
      "Validation Disparity for skin_tone_7 and drummer: -0.2760\n",
      "Validation Disparity for skin_tone_7 and climber: nan\n",
      "Validation Disparity for skin_tone_7 and disk_jockey: nan\n",
      "Validation Disparity for skin_tone_7 and soccer_player: -0.3490\n",
      "Validation Disparity for skin_tone_7 and student: nan\n",
      "Validation Disparity for skin_tone_7 and soldier: -0.2604\n",
      "Validation Disparity for skin_tone_7 and cheerleader: nan\n",
      "Validation Disparity for skin_tone_7 and flutist: nan\n",
      "Validation Disparity for skin_tone_7 and runner: nan\n",
      "Validation Disparity for skin_tone_7 and retailer: -0.3438\n",
      "Validation Disparity for skin_tone_7 and machinist: -0.3438\n",
      "Validation Disparity for skin_tone_7 and reporter: -0.2995\n",
      "Validation Disparity for skin_tone_7 and horseman: nan\n",
      "Validation Disparity for skin_tone_7 and tennis_player: -0.2865\n",
      "Validation Disparity for skin_tone_7 and computer_user: -0.3073\n",
      "Validation Disparity for skin_tone_7 and carpenter: nan\n",
      "Validation Disparity for skin_tone_7 and seller: -0.2875\n",
      "Validation Disparity for skin_tone_7 and skateboarder: -0.3134\n",
      "Validation Disparity for skin_tone_7 and gardener: nan\n",
      "Validation Disparity for skin_tone_7 and waiter: nan\n",
      "Validation Disparity for skin_tone_7 and prayer: -0.2812\n",
      "Validation Disparity for skin_tone_7 and ballplayer: -0.2839\n",
      "Validation Disparity for skin_tone_7 and sculptor: nan\n",
      "Validation Disparity for skin_tone_7 and teacher: nan\n",
      "Validation Disparity for skin_tone_7 and electrician: nan\n",
      "Validation Disparity for skin_tone_7 and hairdresser: -0.3177\n",
      "Validation Disparity for skin_tone_7 and judge: nan\n",
      "Validation Disparity for skin_tone_7 and trumpeter: -0.3125\n",
      "Validation Disparity for skin_tone_7 and bartender: nan\n",
      "Validation Disparity for skin_tone_8 and gymnast: nan\n",
      "Validation Disparity for skin_tone_8 and boatman: -0.3177\n",
      "Validation Disparity for skin_tone_8 and lifeguard: -0.3385\n",
      "Validation Disparity for skin_tone_8 and backpacker: -0.3177\n",
      "Validation Disparity for skin_tone_8 and lawman: -0.2958\n",
      "Validation Disparity for skin_tone_8 and dancer: -0.3039\n",
      "Validation Disparity for skin_tone_8 and laborer: -0.2969\n",
      "Validation Disparity for skin_tone_8 and patient: -0.3021\n",
      "Validation Disparity for skin_tone_8 and basketball_player: -0.2969\n",
      "Validation Disparity for skin_tone_8 and nurse: nan\n",
      "Validation Disparity for skin_tone_8 and singer: -0.3021\n",
      "Validation Disparity for skin_tone_8 and motorcyclist: nan\n",
      "Validation Disparity for skin_tone_8 and astronaut: nan\n",
      "Validation Disparity for skin_tone_8 and fireman: nan\n",
      "Validation Disparity for skin_tone_8 and referee: nan\n",
      "Validation Disparity for skin_tone_8 and speaker: nan\n",
      "Validation Disparity for skin_tone_8 and guitarist: nan\n",
      "Validation Disparity for skin_tone_8 and repairman: -0.3566\n",
      "Validation Disparity for skin_tone_8 and craftsman: -0.3040\n",
      "Validation Disparity for skin_tone_8 and guard: nan\n",
      "Validation Disparity for skin_tone_8 and painter: -0.3125\n",
      "Validation Disparity for skin_tone_8 and doctor: -0.3073\n",
      "Validation Disparity for skin_tone_8 and farmer: -0.3438\n",
      "Validation Disparity for skin_tone_8 and drummer: -0.3594\n",
      "Validation Disparity for skin_tone_8 and climber: nan\n",
      "Validation Disparity for skin_tone_8 and disk_jockey: nan\n",
      "Validation Disparity for skin_tone_8 and soccer_player: -0.3802\n",
      "Validation Disparity for skin_tone_8 and student: nan\n",
      "Validation Disparity for skin_tone_8 and soldier: -0.2656\n",
      "Validation Disparity for skin_tone_8 and cheerleader: nan\n",
      "Validation Disparity for skin_tone_8 and flutist: nan\n",
      "Validation Disparity for skin_tone_8 and runner: nan\n",
      "Validation Disparity for skin_tone_8 and retailer: nan\n",
      "Validation Disparity for skin_tone_8 and machinist: -0.3281\n",
      "Validation Disparity for skin_tone_8 and reporter: nan\n",
      "Validation Disparity for skin_tone_8 and horseman: nan\n",
      "Validation Disparity for skin_tone_8 and tennis_player: -0.3229\n",
      "Validation Disparity for skin_tone_8 and computer_user: nan\n",
      "Validation Disparity for skin_tone_8 and carpenter: nan\n",
      "Validation Disparity for skin_tone_8 and seller: -0.2734\n",
      "Validation Disparity for skin_tone_8 and skateboarder: -0.3620\n",
      "Validation Disparity for skin_tone_8 and gardener: -0.3021\n",
      "Validation Disparity for skin_tone_8 and waiter: nan\n",
      "Validation Disparity for skin_tone_8 and prayer: nan\n",
      "Validation Disparity for skin_tone_8 and ballplayer: -0.2812\n",
      "Validation Disparity for skin_tone_8 and sculptor: nan\n",
      "Validation Disparity for skin_tone_8 and teacher: nan\n",
      "Validation Disparity for skin_tone_8 and electrician: nan\n",
      "Validation Disparity for skin_tone_8 and hairdresser: -0.2951\n",
      "Validation Disparity for skin_tone_8 and judge: nan\n",
      "Validation Disparity for skin_tone_8 and trumpeter: nan\n",
      "Validation Disparity for skin_tone_8 and bartender: nan\n",
      "Validation Disparity for skin_tone_9 and gymnast: -0.2865\n",
      "Validation Disparity for skin_tone_9 and boatman: nan\n",
      "Validation Disparity for skin_tone_9 and lifeguard: -0.3385\n",
      "Validation Disparity for skin_tone_9 and backpacker: -0.3281\n",
      "Validation Disparity for skin_tone_9 and lawman: -0.2682\n",
      "Validation Disparity for skin_tone_9 and dancer: nan\n",
      "Validation Disparity for skin_tone_9 and laborer: -0.3224\n",
      "Validation Disparity for skin_tone_9 and patient: nan\n",
      "Validation Disparity for skin_tone_9 and basketball_player: -0.2708\n",
      "Validation Disparity for skin_tone_9 and nurse: nan\n",
      "Validation Disparity for skin_tone_9 and singer: -0.2917\n",
      "Validation Disparity for skin_tone_9 and motorcyclist: nan\n",
      "Validation Disparity for skin_tone_9 and astronaut: nan\n",
      "Validation Disparity for skin_tone_9 and fireman: nan\n",
      "Validation Disparity for skin_tone_9 and referee: nan\n",
      "Validation Disparity for skin_tone_9 and speaker: nan\n",
      "Validation Disparity for skin_tone_9 and guitarist: -0.3125\n",
      "Validation Disparity for skin_tone_9 and repairman: -0.3177\n",
      "Validation Disparity for skin_tone_9 and craftsman: nan\n",
      "Validation Disparity for skin_tone_9 and guard: nan\n",
      "Validation Disparity for skin_tone_9 and painter: nan\n",
      "Validation Disparity for skin_tone_9 and doctor: nan\n",
      "Validation Disparity for skin_tone_9 and farmer: -0.3309\n",
      "Validation Disparity for skin_tone_9 and drummer: nan\n",
      "Validation Disparity for skin_tone_9 and climber: nan\n",
      "Validation Disparity for skin_tone_9 and disk_jockey: nan\n",
      "Validation Disparity for skin_tone_9 and soccer_player: -0.3073\n",
      "Validation Disparity for skin_tone_9 and student: nan\n",
      "Validation Disparity for skin_tone_9 and soldier: nan\n",
      "Validation Disparity for skin_tone_9 and cheerleader: nan\n",
      "Validation Disparity for skin_tone_9 and flutist: nan\n",
      "Validation Disparity for skin_tone_9 and runner: nan\n",
      "Validation Disparity for skin_tone_9 and retailer: nan\n",
      "Validation Disparity for skin_tone_9 and machinist: -0.3594\n",
      "Validation Disparity for skin_tone_9 and reporter: -0.3021\n",
      "Validation Disparity for skin_tone_9 and horseman: nan\n",
      "Validation Disparity for skin_tone_9 and tennis_player: nan\n",
      "Validation Disparity for skin_tone_9 and computer_user: nan\n",
      "Validation Disparity for skin_tone_9 and carpenter: nan\n",
      "Validation Disparity for skin_tone_9 and seller: -0.3255\n",
      "Validation Disparity for skin_tone_9 and skateboarder: nan\n",
      "Validation Disparity for skin_tone_9 and gardener: nan\n",
      "Validation Disparity for skin_tone_9 and waiter: nan\n",
      "Validation Disparity for skin_tone_9 and prayer: nan\n",
      "Validation Disparity for skin_tone_9 and ballplayer: -0.3281\n",
      "Validation Disparity for skin_tone_9 and sculptor: -0.3177\n",
      "Validation Disparity for skin_tone_9 and teacher: nan\n",
      "Validation Disparity for skin_tone_9 and electrician: nan\n",
      "Validation Disparity for skin_tone_9 and hairdresser: nan\n",
      "Validation Disparity for skin_tone_9 and judge: nan\n",
      "Validation Disparity for skin_tone_9 and trumpeter: nan\n",
      "Validation Disparity for skin_tone_9 and bartender: nan\n",
      "Validation Disparity for skin_tone_10 and gymnast: nan\n",
      "Validation Disparity for skin_tone_10 and boatman: nan\n",
      "Validation Disparity for skin_tone_10 and lifeguard: -0.3385\n",
      "Validation Disparity for skin_tone_10 and backpacker: -0.3281\n",
      "Validation Disparity for skin_tone_10 and lawman: -0.3021\n",
      "Validation Disparity for skin_tone_10 and dancer: nan\n",
      "Validation Disparity for skin_tone_10 and laborer: -0.3288\n",
      "Validation Disparity for skin_tone_10 and patient: nan\n",
      "Validation Disparity for skin_tone_10 and basketball_player: -0.2969\n",
      "Validation Disparity for skin_tone_10 and nurse: nan\n",
      "Validation Disparity for skin_tone_10 and singer: nan\n",
      "Validation Disparity for skin_tone_10 and motorcyclist: nan\n",
      "Validation Disparity for skin_tone_10 and astronaut: nan\n",
      "Validation Disparity for skin_tone_10 and fireman: -0.3281\n",
      "Validation Disparity for skin_tone_10 and referee: nan\n",
      "Validation Disparity for skin_tone_10 and speaker: nan\n",
      "Validation Disparity for skin_tone_10 and guitarist: nan\n",
      "Validation Disparity for skin_tone_10 and repairman: -0.2917\n",
      "Validation Disparity for skin_tone_10 and craftsman: nan\n",
      "Validation Disparity for skin_tone_10 and guard: nan\n",
      "Validation Disparity for skin_tone_10 and painter: nan\n",
      "Validation Disparity for skin_tone_10 and doctor: -0.3177\n",
      "Validation Disparity for skin_tone_10 and farmer: nan\n",
      "Validation Disparity for skin_tone_10 and drummer: nan\n",
      "Validation Disparity for skin_tone_10 and climber: nan\n",
      "Validation Disparity for skin_tone_10 and disk_jockey: nan\n",
      "Validation Disparity for skin_tone_10 and soccer_player: nan\n",
      "Validation Disparity for skin_tone_10 and student: nan\n",
      "Validation Disparity for skin_tone_10 and soldier: nan\n",
      "Validation Disparity for skin_tone_10 and cheerleader: nan\n",
      "Validation Disparity for skin_tone_10 and flutist: nan\n",
      "Validation Disparity for skin_tone_10 and runner: nan\n",
      "Validation Disparity for skin_tone_10 and retailer: nan\n",
      "Validation Disparity for skin_tone_10 and machinist: -0.3594\n",
      "Validation Disparity for skin_tone_10 and reporter: -0.3021\n",
      "Validation Disparity for skin_tone_10 and horseman: nan\n",
      "Validation Disparity for skin_tone_10 and tennis_player: nan\n",
      "Validation Disparity for skin_tone_10 and computer_user: nan\n",
      "Validation Disparity for skin_tone_10 and carpenter: nan\n",
      "Validation Disparity for skin_tone_10 and seller: nan\n",
      "Validation Disparity for skin_tone_10 and skateboarder: nan\n",
      "Validation Disparity for skin_tone_10 and gardener: nan\n",
      "Validation Disparity for skin_tone_10 and waiter: nan\n",
      "Validation Disparity for skin_tone_10 and prayer: nan\n",
      "Validation Disparity for skin_tone_10 and ballplayer: nan\n",
      "Validation Disparity for skin_tone_10 and sculptor: nan\n",
      "Validation Disparity for skin_tone_10 and teacher: nan\n",
      "Validation Disparity for skin_tone_10 and electrician: nan\n",
      "Validation Disparity for skin_tone_10 and hairdresser: -0.3177\n",
      "Validation Disparity for skin_tone_10 and judge: nan\n",
      "Validation Disparity for skin_tone_10 and trumpeter: nan\n",
      "Validation Disparity for skin_tone_10 and bartender: nan\n",
      "Validation Disparity for skin_tone_na and gymnast: -0.2923\n",
      "Validation Disparity for skin_tone_na and boatman: -0.3381\n",
      "Validation Disparity for skin_tone_na and lifeguard: -0.3385\n",
      "Validation Disparity for skin_tone_na and backpacker: -0.3474\n",
      "Validation Disparity for skin_tone_na and lawman: -0.3026\n",
      "Validation Disparity for skin_tone_na and dancer: -0.2691\n",
      "Validation Disparity for skin_tone_na and laborer: -0.3098\n",
      "Validation Disparity for skin_tone_na and patient: -0.2917\n",
      "Validation Disparity for skin_tone_na and basketball_player: -0.3194\n",
      "Validation Disparity for skin_tone_na and nurse: -0.2969\n",
      "Validation Disparity for skin_tone_na and singer: nan\n",
      "Validation Disparity for skin_tone_na and motorcyclist: -0.3449\n",
      "Validation Disparity for skin_tone_na and astronaut: -0.3438\n",
      "Validation Disparity for skin_tone_na and fireman: -0.3073\n",
      "Validation Disparity for skin_tone_na and referee: -0.3646\n",
      "Validation Disparity for skin_tone_na and speaker: -0.3316\n",
      "Validation Disparity for skin_tone_na and guitarist: nan\n",
      "Validation Disparity for skin_tone_na and repairman: -0.3372\n",
      "Validation Disparity for skin_tone_na and craftsman: -0.3307\n",
      "Validation Disparity for skin_tone_na and guard: -0.3598\n",
      "Validation Disparity for skin_tone_na and painter: -0.3057\n",
      "Validation Disparity for skin_tone_na and doctor: nan\n",
      "Validation Disparity for skin_tone_na and farmer: -0.3205\n",
      "Validation Disparity for skin_tone_na and drummer: -0.3160\n",
      "Validation Disparity for skin_tone_na and climber: -0.3333\n",
      "Validation Disparity for skin_tone_na and disk_jockey: -0.3385\n",
      "Validation Disparity for skin_tone_na and soccer_player: -0.3073\n",
      "Validation Disparity for skin_tone_na and student: -0.3177\n",
      "Validation Disparity for skin_tone_na and soldier: -0.3102\n",
      "Validation Disparity for skin_tone_na and cheerleader: nan\n",
      "Validation Disparity for skin_tone_na and flutist: -0.2778\n",
      "Validation Disparity for skin_tone_na and runner: -0.2898\n",
      "Validation Disparity for skin_tone_na and retailer: -0.2917\n",
      "Validation Disparity for skin_tone_na and machinist: -0.3281\n",
      "Validation Disparity for skin_tone_na and reporter: nan\n",
      "Validation Disparity for skin_tone_na and horseman: -0.2899\n",
      "Validation Disparity for skin_tone_na and tennis_player: -0.2989\n",
      "Validation Disparity for skin_tone_na and computer_user: -0.3438\n",
      "Validation Disparity for skin_tone_na and carpenter: nan\n",
      "Validation Disparity for skin_tone_na and seller: -0.3137\n",
      "Validation Disparity for skin_tone_na and skateboarder: -0.3170\n",
      "Validation Disparity for skin_tone_na and gardener: nan\n",
      "Validation Disparity for skin_tone_na and waiter: -0.2396\n",
      "Validation Disparity for skin_tone_na and prayer: -0.3309\n",
      "Validation Disparity for skin_tone_na and ballplayer: -0.2923\n",
      "Validation Disparity for skin_tone_na and sculptor: nan\n",
      "Validation Disparity for skin_tone_na and teacher: -0.2969\n",
      "Validation Disparity for skin_tone_na and electrician: nan\n",
      "Validation Disparity for skin_tone_na and hairdresser: -0.3021\n",
      "Validation Disparity for skin_tone_na and judge: nan\n",
      "Validation Disparity for skin_tone_na and trumpeter: -0.2708\n",
      "Validation Disparity for skin_tone_na and bartender: nan\n",
      "Validation Disparity for age_presentation_young and gymnast: -0.3262\n",
      "Validation Disparity for age_presentation_young and boatman: -0.3222\n",
      "Validation Disparity for age_presentation_young and lifeguard: -0.3099\n",
      "Validation Disparity for age_presentation_young and backpacker: -0.3021\n",
      "Validation Disparity for age_presentation_young and lawman: -0.3024\n",
      "Validation Disparity for age_presentation_young and dancer: -0.2924\n",
      "Validation Disparity for age_presentation_young and laborer: -0.3063\n",
      "Validation Disparity for age_presentation_young and patient: -0.2951\n",
      "Validation Disparity for age_presentation_young and basketball_player: -0.3331\n",
      "Validation Disparity for age_presentation_young and nurse: -0.2812\n",
      "Validation Disparity for age_presentation_young and singer: -0.3165\n",
      "Validation Disparity for age_presentation_young and motorcyclist: -0.3125\n",
      "Validation Disparity for age_presentation_young and astronaut: nan\n",
      "Validation Disparity for age_presentation_young and fireman: nan\n",
      "Validation Disparity for age_presentation_young and referee: -0.2917\n",
      "Validation Disparity for age_presentation_young and speaker: -0.3351\n",
      "Validation Disparity for age_presentation_young and guitarist: -0.3043\n",
      "Validation Disparity for age_presentation_young and repairman: -0.3125\n",
      "Validation Disparity for age_presentation_young and craftsman: -0.3438\n",
      "Validation Disparity for age_presentation_young and guard: -0.3125\n",
      "Validation Disparity for age_presentation_young and painter: nan\n",
      "Validation Disparity for age_presentation_young and doctor: -0.3151\n",
      "Validation Disparity for age_presentation_young and farmer: -0.3411\n",
      "Validation Disparity for age_presentation_young and drummer: -0.3086\n",
      "Validation Disparity for age_presentation_young and climber: -0.3073\n",
      "Validation Disparity for age_presentation_young and disk_jockey: nan\n",
      "Validation Disparity for age_presentation_young and soccer_player: -0.3275\n",
      "Validation Disparity for age_presentation_young and student: -0.3125\n",
      "Validation Disparity for age_presentation_young and soldier: -0.3415\n",
      "Validation Disparity for age_presentation_young and cheerleader: -0.2880\n",
      "Validation Disparity for age_presentation_young and flutist: nan\n",
      "Validation Disparity for age_presentation_young and runner: -0.2969\n",
      "Validation Disparity for age_presentation_young and retailer: nan\n",
      "Validation Disparity for age_presentation_young and machinist: -0.3281\n",
      "Validation Disparity for age_presentation_young and reporter: -0.3033\n",
      "Validation Disparity for age_presentation_young and horseman: -0.3054\n",
      "Validation Disparity for age_presentation_young and tennis_player: -0.2983\n",
      "Validation Disparity for age_presentation_young and computer_user: -0.3333\n",
      "Validation Disparity for age_presentation_young and carpenter: nan\n",
      "Validation Disparity for age_presentation_young and seller: -0.3133\n",
      "Validation Disparity for age_presentation_young and skateboarder: -0.3201\n",
      "Validation Disparity for age_presentation_young and gardener: -0.3021\n",
      "Validation Disparity for age_presentation_young and waiter: nan\n",
      "Validation Disparity for age_presentation_young and prayer: -0.3162\n",
      "Validation Disparity for age_presentation_young and ballplayer: -0.2985\n",
      "Validation Disparity for age_presentation_young and sculptor: -0.3464\n",
      "Validation Disparity for age_presentation_young and teacher: nan\n",
      "Validation Disparity for age_presentation_young and electrician: nan\n",
      "Validation Disparity for age_presentation_young and hairdresser: -0.2969\n",
      "Validation Disparity for age_presentation_young and judge: -0.3073\n",
      "Validation Disparity for age_presentation_young and trumpeter: nan\n",
      "Validation Disparity for age_presentation_young and bartender: nan\n",
      "Validation Disparity for age_presentation_older and gymnast: nan\n",
      "Validation Disparity for age_presentation_older and boatman: -0.3157\n",
      "Validation Disparity for age_presentation_older and lifeguard: nan\n",
      "Validation Disparity for age_presentation_older and backpacker: -0.3281\n",
      "Validation Disparity for age_presentation_older and lawman: -0.3125\n",
      "Validation Disparity for age_presentation_older and dancer: -0.2969\n",
      "Validation Disparity for age_presentation_older and laborer: -0.3151\n",
      "Validation Disparity for age_presentation_older and patient: -0.3177\n",
      "Validation Disparity for age_presentation_older and basketball_player: nan\n",
      "Validation Disparity for age_presentation_older and nurse: nan\n",
      "Validation Disparity for age_presentation_older and singer: -0.2917\n",
      "Validation Disparity for age_presentation_older and motorcyclist: -0.2839\n",
      "Validation Disparity for age_presentation_older and astronaut: nan\n",
      "Validation Disparity for age_presentation_older and fireman: -0.3229\n",
      "Validation Disparity for age_presentation_older and referee: nan\n",
      "Validation Disparity for age_presentation_older and speaker: -0.3333\n",
      "Validation Disparity for age_presentation_older and guitarist: -0.2946\n",
      "Validation Disparity for age_presentation_older and repairman: nan\n",
      "Validation Disparity for age_presentation_older and craftsman: -0.3102\n",
      "Validation Disparity for age_presentation_older and guard: nan\n",
      "Validation Disparity for age_presentation_older and painter: -0.2786\n",
      "Validation Disparity for age_presentation_older and doctor: nan\n",
      "Validation Disparity for age_presentation_older and farmer: -0.3057\n",
      "Validation Disparity for age_presentation_older and drummer: -0.2708\n",
      "Validation Disparity for age_presentation_older and climber: -0.3333\n",
      "Validation Disparity for age_presentation_older and disk_jockey: nan\n",
      "Validation Disparity for age_presentation_older and soccer_player: nan\n",
      "Validation Disparity for age_presentation_older and student: nan\n",
      "Validation Disparity for age_presentation_older and soldier: nan\n",
      "Validation Disparity for age_presentation_older and cheerleader: nan\n",
      "Validation Disparity for age_presentation_older and flutist: nan\n",
      "Validation Disparity for age_presentation_older and runner: nan\n",
      "Validation Disparity for age_presentation_older and retailer: -0.2969\n",
      "Validation Disparity for age_presentation_older and machinist: nan\n",
      "Validation Disparity for age_presentation_older and reporter: -0.2708\n",
      "Validation Disparity for age_presentation_older and horseman: nan\n",
      "Validation Disparity for age_presentation_older and tennis_player: nan\n",
      "Validation Disparity for age_presentation_older and computer_user: -0.3177\n",
      "Validation Disparity for age_presentation_older and carpenter: nan\n",
      "Validation Disparity for age_presentation_older and seller: -0.3073\n",
      "Validation Disparity for age_presentation_older and skateboarder: nan\n",
      "Validation Disparity for age_presentation_older and gardener: nan\n",
      "Validation Disparity for age_presentation_older and waiter: nan\n",
      "Validation Disparity for age_presentation_older and prayer: -0.3041\n",
      "Validation Disparity for age_presentation_older and ballplayer: -0.2865\n",
      "Validation Disparity for age_presentation_older and sculptor: -0.3073\n",
      "Validation Disparity for age_presentation_older and teacher: nan\n",
      "Validation Disparity for age_presentation_older and electrician: nan\n",
      "Validation Disparity for age_presentation_older and hairdresser: nan\n",
      "Validation Disparity for age_presentation_older and judge: nan\n",
      "Validation Disparity for age_presentation_older and trumpeter: -0.2839\n",
      "Validation Disparity for age_presentation_older and bartender: nan\n",
      "Validation Disparity for age_presentation_middle and gymnast: -0.3057\n",
      "Validation Disparity for age_presentation_middle and boatman: -0.3277\n",
      "Validation Disparity for age_presentation_middle and lifeguard: -0.2923\n",
      "Validation Disparity for age_presentation_middle and backpacker: -0.3184\n",
      "Validation Disparity for age_presentation_middle and lawman: -0.3024\n",
      "Validation Disparity for age_presentation_middle and dancer: -0.3027\n",
      "Validation Disparity for age_presentation_middle and laborer: -0.3186\n",
      "Validation Disparity for age_presentation_middle and patient: -0.3072\n",
      "Validation Disparity for age_presentation_middle and basketball_player: -0.3131\n",
      "Validation Disparity for age_presentation_middle and nurse: -0.2983\n",
      "Validation Disparity for age_presentation_middle and singer: -0.3143\n",
      "Validation Disparity for age_presentation_middle and motorcyclist: -0.3276\n",
      "Validation Disparity for age_presentation_middle and astronaut: -0.3182\n",
      "Validation Disparity for age_presentation_middle and fireman: -0.3074\n",
      "Validation Disparity for age_presentation_middle and referee: -0.3168\n",
      "Validation Disparity for age_presentation_middle and speaker: -0.3056\n",
      "Validation Disparity for age_presentation_middle and guitarist: -0.3171\n",
      "Validation Disparity for age_presentation_middle and repairman: -0.3150\n",
      "Validation Disparity for age_presentation_middle and craftsman: -0.3175\n",
      "Validation Disparity for age_presentation_middle and guard: -0.3168\n",
      "Validation Disparity for age_presentation_middle and painter: -0.2946\n",
      "Validation Disparity for age_presentation_middle and doctor: -0.2938\n",
      "Validation Disparity for age_presentation_middle and farmer: -0.2928\n",
      "Validation Disparity for age_presentation_middle and drummer: -0.3233\n",
      "Validation Disparity for age_presentation_middle and climber: -0.3108\n",
      "Validation Disparity for age_presentation_middle and disk_jockey: -0.3359\n",
      "Validation Disparity for age_presentation_middle and soccer_player: -0.3279\n",
      "Validation Disparity for age_presentation_middle and student: -0.3099\n",
      "Validation Disparity for age_presentation_middle and soldier: -0.2871\n",
      "Validation Disparity for age_presentation_middle and cheerleader: nan\n",
      "Validation Disparity for age_presentation_middle and flutist: -0.2766\n",
      "Validation Disparity for age_presentation_middle and runner: -0.2867\n",
      "Validation Disparity for age_presentation_middle and retailer: -0.3136\n",
      "Validation Disparity for age_presentation_middle and machinist: -0.3255\n",
      "Validation Disparity for age_presentation_middle and reporter: -0.2928\n",
      "Validation Disparity for age_presentation_middle and horseman: -0.3365\n",
      "Validation Disparity for age_presentation_middle and tennis_player: -0.2991\n",
      "Validation Disparity for age_presentation_middle and computer_user: -0.3030\n",
      "Validation Disparity for age_presentation_middle and carpenter: -0.3646\n",
      "Validation Disparity for age_presentation_middle and seller: -0.3251\n",
      "Validation Disparity for age_presentation_middle and skateboarder: -0.2986\n",
      "Validation Disparity for age_presentation_middle and gardener: -0.3448\n",
      "Validation Disparity for age_presentation_middle and waiter: -0.2850\n",
      "Validation Disparity for age_presentation_middle and prayer: -0.2843\n",
      "Validation Disparity for age_presentation_middle and ballplayer: -0.3189\n",
      "Validation Disparity for age_presentation_middle and sculptor: -0.3199\n",
      "Validation Disparity for age_presentation_middle and teacher: -0.3153\n",
      "Validation Disparity for age_presentation_middle and electrician: -0.2865\n",
      "Validation Disparity for age_presentation_middle and hairdresser: -0.3094\n",
      "Validation Disparity for age_presentation_middle and judge: -0.3290\n",
      "Validation Disparity for age_presentation_middle and trumpeter: -0.3138\n",
      "Validation Disparity for age_presentation_middle and bartender: nan\n",
      "Validation Disparity for age_presentation_na and gymnast: -0.2865\n",
      "Validation Disparity for age_presentation_na and boatman: -0.3199\n",
      "Validation Disparity for age_presentation_na and lifeguard: -0.3359\n",
      "Validation Disparity for age_presentation_na and backpacker: -0.3048\n",
      "Validation Disparity for age_presentation_na and lawman: -0.3192\n",
      "Validation Disparity for age_presentation_na and dancer: -0.3064\n",
      "Validation Disparity for age_presentation_na and laborer: -0.3234\n",
      "Validation Disparity for age_presentation_na and patient: -0.2982\n",
      "Validation Disparity for age_presentation_na and basketball_player: -0.3125\n",
      "Validation Disparity for age_presentation_na and nurse: -0.3227\n",
      "Validation Disparity for age_presentation_na and singer: nan\n",
      "Validation Disparity for age_presentation_na and motorcyclist: -0.3232\n",
      "Validation Disparity for age_presentation_na and astronaut: nan\n",
      "Validation Disparity for age_presentation_na and fireman: -0.3125\n",
      "Validation Disparity for age_presentation_na and referee: -0.3033\n",
      "Validation Disparity for age_presentation_na and speaker: -0.3047\n",
      "Validation Disparity for age_presentation_na and guitarist: -0.3073\n",
      "Validation Disparity for age_presentation_na and repairman: -0.2936\n",
      "Validation Disparity for age_presentation_na and craftsman: -0.3333\n",
      "Validation Disparity for age_presentation_na and guard: -0.3125\n",
      "Validation Disparity for age_presentation_na and painter: -0.3244\n",
      "Validation Disparity for age_presentation_na and doctor: -0.2995\n",
      "Validation Disparity for age_presentation_na and farmer: -0.3227\n",
      "Validation Disparity for age_presentation_na and drummer: -0.2868\n",
      "Validation Disparity for age_presentation_na and climber: -0.3177\n",
      "Validation Disparity for age_presentation_na and disk_jockey: -0.3177\n",
      "Validation Disparity for age_presentation_na and soccer_player: -0.3060\n",
      "Validation Disparity for age_presentation_na and student: -0.3646\n",
      "Validation Disparity for age_presentation_na and soldier: -0.2969\n",
      "Validation Disparity for age_presentation_na and cheerleader: -0.2812\n",
      "Validation Disparity for age_presentation_na and flutist: -0.2760\n",
      "Validation Disparity for age_presentation_na and runner: -0.2955\n",
      "Validation Disparity for age_presentation_na and retailer: -0.2917\n",
      "Validation Disparity for age_presentation_na and machinist: -0.3024\n",
      "Validation Disparity for age_presentation_na and reporter: -0.3151\n",
      "Validation Disparity for age_presentation_na and horseman: -0.2861\n",
      "Validation Disparity for age_presentation_na and tennis_player: -0.3051\n",
      "Validation Disparity for age_presentation_na and computer_user: -0.3326\n",
      "Validation Disparity for age_presentation_na and carpenter: nan\n",
      "Validation Disparity for age_presentation_na and seller: -0.3217\n",
      "Validation Disparity for age_presentation_na and skateboarder: nan\n",
      "Validation Disparity for age_presentation_na and gardener: -0.2969\n",
      "Validation Disparity for age_presentation_na and waiter: nan\n",
      "Validation Disparity for age_presentation_na and prayer: -0.3191\n",
      "Validation Disparity for age_presentation_na and ballplayer: -0.3346\n",
      "Validation Disparity for age_presentation_na and sculptor: nan\n",
      "Validation Disparity for age_presentation_na and teacher: nan\n",
      "Validation Disparity for age_presentation_na and electrician: -0.3125\n",
      "Validation Disparity for age_presentation_na and hairdresser: nan\n",
      "Validation Disparity for age_presentation_na and judge: nan\n",
      "Validation Disparity for age_presentation_na and trumpeter: -0.2812\n",
      "Validation Disparity for age_presentation_na and bartender: nan\n",
      "Validation Disparity for hair_color_brown and gymnast: -0.3364\n",
      "Validation Disparity for hair_color_brown and boatman: -0.3173\n",
      "Validation Disparity for hair_color_brown and lifeguard: -0.3099\n",
      "Validation Disparity for hair_color_brown and backpacker: -0.3013\n",
      "Validation Disparity for hair_color_brown and lawman: -0.2926\n",
      "Validation Disparity for hair_color_brown and dancer: -0.2884\n",
      "Validation Disparity for hair_color_brown and laborer: -0.3107\n",
      "Validation Disparity for hair_color_brown and patient: -0.3267\n",
      "Validation Disparity for hair_color_brown and basketball_player: -0.3240\n",
      "Validation Disparity for hair_color_brown and nurse: -0.2958\n",
      "Validation Disparity for hair_color_brown and singer: -0.3201\n",
      "Validation Disparity for hair_color_brown and motorcyclist: -0.3137\n",
      "Validation Disparity for hair_color_brown and astronaut: nan\n",
      "Validation Disparity for hair_color_brown and fireman: -0.3333\n",
      "Validation Disparity for hair_color_brown and referee: -0.2962\n",
      "Validation Disparity for hair_color_brown and speaker: -0.3410\n",
      "Validation Disparity for hair_color_brown and guitarist: -0.3105\n",
      "Validation Disparity for hair_color_brown and repairman: -0.3080\n",
      "Validation Disparity for hair_color_brown and craftsman: -0.3034\n",
      "Validation Disparity for hair_color_brown and guard: -0.3047\n",
      "Validation Disparity for hair_color_brown and painter: -0.2768\n",
      "Validation Disparity for hair_color_brown and doctor: -0.3199\n",
      "Validation Disparity for hair_color_brown and farmer: -0.2386\n",
      "Validation Disparity for hair_color_brown and drummer: nan\n",
      "Validation Disparity for hair_color_brown and climber: -0.2995\n",
      "Validation Disparity for hair_color_brown and disk_jockey: -0.3665\n",
      "Validation Disparity for hair_color_brown and soccer_player: -0.3069\n",
      "Validation Disparity for hair_color_brown and student: -0.3125\n",
      "Validation Disparity for hair_color_brown and soldier: -0.3153\n",
      "Validation Disparity for hair_color_brown and cheerleader: nan\n",
      "Validation Disparity for hair_color_brown and flutist: -0.2812\n",
      "Validation Disparity for hair_color_brown and runner: -0.2969\n",
      "Validation Disparity for hair_color_brown and retailer: -0.2812\n",
      "Validation Disparity for hair_color_brown and machinist: -0.3542\n",
      "Validation Disparity for hair_color_brown and reporter: -0.2969\n",
      "Validation Disparity for hair_color_brown and horseman: -0.3103\n",
      "Validation Disparity for hair_color_brown and tennis_player: -0.3022\n",
      "Validation Disparity for hair_color_brown and computer_user: -0.3103\n",
      "Validation Disparity for hair_color_brown and carpenter: nan\n",
      "Validation Disparity for hair_color_brown and seller: -0.3082\n",
      "Validation Disparity for hair_color_brown and skateboarder: -0.3142\n",
      "Validation Disparity for hair_color_brown and gardener: -0.3464\n",
      "Validation Disparity for hair_color_brown and waiter: -0.2812\n",
      "Validation Disparity for hair_color_brown and prayer: -0.3051\n",
      "Validation Disparity for hair_color_brown and ballplayer: -0.3051\n",
      "Validation Disparity for hair_color_brown and sculptor: nan\n",
      "Validation Disparity for hair_color_brown and teacher: -0.3073\n",
      "Validation Disparity for hair_color_brown and electrician: nan\n",
      "Validation Disparity for hair_color_brown and hairdresser: -0.3073\n",
      "Validation Disparity for hair_color_brown and judge: -0.3304\n",
      "Validation Disparity for hair_color_brown and trumpeter: nan\n",
      "Validation Disparity for hair_color_brown and bartender: nan\n",
      "Validation Disparity for hair_color_blonde and gymnast: -0.2865\n",
      "Validation Disparity for hair_color_blonde and boatman: -0.3516\n",
      "Validation Disparity for hair_color_blonde and lifeguard: nan\n",
      "Validation Disparity for hair_color_blonde and backpacker: nan\n",
      "Validation Disparity for hair_color_blonde and lawman: -0.2776\n",
      "Validation Disparity for hair_color_blonde and dancer: -0.3542\n",
      "Validation Disparity for hair_color_blonde and laborer: nan\n",
      "Validation Disparity for hair_color_blonde and patient: nan\n",
      "Validation Disparity for hair_color_blonde and basketball_player: -0.2995\n",
      "Validation Disparity for hair_color_blonde and nurse: -0.2949\n",
      "Validation Disparity for hair_color_blonde and singer: -0.3220\n",
      "Validation Disparity for hair_color_blonde and motorcyclist: nan\n",
      "Validation Disparity for hair_color_blonde and astronaut: nan\n",
      "Validation Disparity for hair_color_blonde and fireman: nan\n",
      "Validation Disparity for hair_color_blonde and referee: -0.3229\n",
      "Validation Disparity for hair_color_blonde and speaker: -0.3015\n",
      "Validation Disparity for hair_color_blonde and guitarist: -0.2830\n",
      "Validation Disparity for hair_color_blonde and repairman: -0.3511\n",
      "Validation Disparity for hair_color_blonde and craftsman: nan\n",
      "Validation Disparity for hair_color_blonde and guard: nan\n",
      "Validation Disparity for hair_color_blonde and painter: -0.2995\n",
      "Validation Disparity for hair_color_blonde and doctor: -0.3177\n",
      "Validation Disparity for hair_color_blonde and farmer: nan\n",
      "Validation Disparity for hair_color_blonde and drummer: -0.3646\n",
      "Validation Disparity for hair_color_blonde and climber: nan\n",
      "Validation Disparity for hair_color_blonde and disk_jockey: nan\n",
      "Validation Disparity for hair_color_blonde and soccer_player: -0.2943\n",
      "Validation Disparity for hair_color_blonde and student: nan\n",
      "Validation Disparity for hair_color_blonde and soldier: -0.2865\n",
      "Validation Disparity for hair_color_blonde and cheerleader: -0.2756\n",
      "Validation Disparity for hair_color_blonde and flutist: nan\n",
      "Validation Disparity for hair_color_blonde and runner: -0.3229\n",
      "Validation Disparity for hair_color_blonde and retailer: -0.2917\n",
      "Validation Disparity for hair_color_blonde and machinist: -0.3594\n",
      "Validation Disparity for hair_color_blonde and reporter: -0.2839\n",
      "Validation Disparity for hair_color_blonde and horseman: -0.3073\n",
      "Validation Disparity for hair_color_blonde and tennis_player: -0.3084\n",
      "Validation Disparity for hair_color_blonde and computer_user: -0.3073\n",
      "Validation Disparity for hair_color_blonde and carpenter: nan\n",
      "Validation Disparity for hair_color_blonde and seller: nan\n",
      "Validation Disparity for hair_color_blonde and skateboarder: -0.2760\n",
      "Validation Disparity for hair_color_blonde and gardener: nan\n",
      "Validation Disparity for hair_color_blonde and waiter: -0.3281\n",
      "Validation Disparity for hair_color_blonde and prayer: nan\n",
      "Validation Disparity for hair_color_blonde and ballplayer: -0.3656\n",
      "Validation Disparity for hair_color_blonde and sculptor: -0.3333\n",
      "Validation Disparity for hair_color_blonde and teacher: nan\n",
      "Validation Disparity for hair_color_blonde and electrician: nan\n",
      "Validation Disparity for hair_color_blonde and hairdresser: nan\n",
      "Validation Disparity for hair_color_blonde and judge: -0.3295\n",
      "Validation Disparity for hair_color_blonde and trumpeter: nan\n",
      "Validation Disparity for hair_color_blonde and bartender: nan\n",
      "Validation Disparity for hair_color_grey and gymnast: nan\n",
      "Validation Disparity for hair_color_grey and boatman: -0.2969\n",
      "Validation Disparity for hair_color_grey and lifeguard: nan\n",
      "Validation Disparity for hair_color_grey and backpacker: -0.3490\n",
      "Validation Disparity for hair_color_grey and lawman: -0.3158\n",
      "Validation Disparity for hair_color_grey and dancer: -0.3125\n",
      "Validation Disparity for hair_color_grey and laborer: nan\n",
      "Validation Disparity for hair_color_grey and patient: -0.3229\n",
      "Validation Disparity for hair_color_grey and basketball_player: nan\n",
      "Validation Disparity for hair_color_grey and nurse: nan\n",
      "Validation Disparity for hair_color_grey and singer: -0.3255\n",
      "Validation Disparity for hair_color_grey and motorcyclist: -0.2552\n",
      "Validation Disparity for hair_color_grey and astronaut: -0.2708\n",
      "Validation Disparity for hair_color_grey and fireman: -0.3229\n",
      "Validation Disparity for hair_color_grey and referee: nan\n",
      "Validation Disparity for hair_color_grey and speaker: -0.3229\n",
      "Validation Disparity for hair_color_grey and guitarist: -0.2812\n",
      "Validation Disparity for hair_color_grey and repairman: nan\n",
      "Validation Disparity for hair_color_grey and craftsman: -0.3073\n",
      "Validation Disparity for hair_color_grey and guard: -0.2865\n",
      "Validation Disparity for hair_color_grey and painter: nan\n",
      "Validation Disparity for hair_color_grey and doctor: nan\n",
      "Validation Disparity for hair_color_grey and farmer: -0.3333\n",
      "Validation Disparity for hair_color_grey and drummer: -0.2708\n",
      "Validation Disparity for hair_color_grey and climber: -0.3333\n",
      "Validation Disparity for hair_color_grey and disk_jockey: -0.3385\n",
      "Validation Disparity for hair_color_grey and soccer_player: -0.3229\n",
      "Validation Disparity for hair_color_grey and student: nan\n",
      "Validation Disparity for hair_color_grey and soldier: nan\n",
      "Validation Disparity for hair_color_grey and cheerleader: nan\n",
      "Validation Disparity for hair_color_grey and flutist: nan\n",
      "Validation Disparity for hair_color_grey and runner: nan\n",
      "Validation Disparity for hair_color_grey and retailer: -0.3021\n",
      "Validation Disparity for hair_color_grey and machinist: nan\n",
      "Validation Disparity for hair_color_grey and reporter: -0.2708\n",
      "Validation Disparity for hair_color_grey and horseman: nan\n",
      "Validation Disparity for hair_color_grey and tennis_player: nan\n",
      "Validation Disparity for hair_color_grey and computer_user: -0.3177\n",
      "Validation Disparity for hair_color_grey and carpenter: nan\n",
      "Validation Disparity for hair_color_grey and seller: -0.2969\n",
      "Validation Disparity for hair_color_grey and skateboarder: nan\n",
      "Validation Disparity for hair_color_grey and gardener: nan\n",
      "Validation Disparity for hair_color_grey and waiter: nan\n",
      "Validation Disparity for hair_color_grey and prayer: -0.2708\n",
      "Validation Disparity for hair_color_grey and ballplayer: nan\n",
      "Validation Disparity for hair_color_grey and sculptor: -0.3073\n",
      "Validation Disparity for hair_color_grey and teacher: nan\n",
      "Validation Disparity for hair_color_grey and electrician: nan\n",
      "Validation Disparity for hair_color_grey and hairdresser: nan\n",
      "Validation Disparity for hair_color_grey and judge: nan\n",
      "Validation Disparity for hair_color_grey and trumpeter: -0.3125\n",
      "Validation Disparity for hair_color_grey and bartender: nan\n",
      "Validation Disparity for hair_color_na and gymnast: -0.2917\n",
      "Validation Disparity for hair_color_na and boatman: -0.3226\n",
      "Validation Disparity for hair_color_na and lifeguard: -0.3143\n",
      "Validation Disparity for hair_color_na and backpacker: -0.3066\n",
      "Validation Disparity for hair_color_na and lawman: -0.2982\n",
      "Validation Disparity for hair_color_na and dancer: -0.2888\n",
      "Validation Disparity for hair_color_na and laborer: -0.3056\n",
      "Validation Disparity for hair_color_na and patient: -0.3068\n",
      "Validation Disparity for hair_color_na and basketball_player: -0.3066\n",
      "Validation Disparity for hair_color_na and nurse: -0.2962\n",
      "Validation Disparity for hair_color_na and singer: -0.3028\n",
      "Validation Disparity for hair_color_na and motorcyclist: -0.3455\n",
      "Validation Disparity for hair_color_na and astronaut: -0.3438\n",
      "Validation Disparity for hair_color_na and fireman: -0.3079\n",
      "Validation Disparity for hair_color_na and referee: -0.3099\n",
      "Validation Disparity for hair_color_na and speaker: -0.2925\n",
      "Validation Disparity for hair_color_na and guitarist: -0.2921\n",
      "Validation Disparity for hair_color_na and repairman: -0.3031\n",
      "Validation Disparity for hair_color_na and craftsman: -0.3132\n",
      "Validation Disparity for hair_color_na and guard: -0.3223\n",
      "Validation Disparity for hair_color_na and painter: -0.3156\n",
      "Validation Disparity for hair_color_na and doctor: -0.2922\n",
      "Validation Disparity for hair_color_na and farmer: -0.3111\n",
      "Validation Disparity for hair_color_na and drummer: -0.2879\n",
      "Validation Disparity for hair_color_na and climber: -0.3466\n",
      "Validation Disparity for hair_color_na and disk_jockey: -0.3151\n",
      "Validation Disparity for hair_color_na and soccer_player: -0.3464\n",
      "Validation Disparity for hair_color_na and student: -0.3153\n",
      "Validation Disparity for hair_color_na and soldier: -0.2953\n",
      "Validation Disparity for hair_color_na and cheerleader: -0.2812\n",
      "Validation Disparity for hair_color_na and flutist: -0.3070\n",
      "Validation Disparity for hair_color_na and runner: -0.3004\n",
      "Validation Disparity for hair_color_na and retailer: -0.3177\n",
      "Validation Disparity for hair_color_na and machinist: -0.3056\n",
      "Validation Disparity for hair_color_na and reporter: -0.2831\n",
      "Validation Disparity for hair_color_na and horseman: -0.2969\n",
      "Validation Disparity for hair_color_na and tennis_player: -0.2979\n",
      "Validation Disparity for hair_color_na and computer_user: -0.3032\n",
      "Validation Disparity for hair_color_na and carpenter: nan\n",
      "Validation Disparity for hair_color_na and seller: -0.3106\n",
      "Validation Disparity for hair_color_na and skateboarder: -0.3060\n",
      "Validation Disparity for hair_color_na and gardener: -0.3216\n",
      "Validation Disparity for hair_color_na and waiter: nan\n",
      "Validation Disparity for hair_color_na and prayer: -0.3179\n",
      "Validation Disparity for hair_color_na and ballplayer: -0.3177\n",
      "Validation Disparity for hair_color_na and sculptor: -0.2969\n",
      "Validation Disparity for hair_color_na and teacher: nan\n",
      "Validation Disparity for hair_color_na and electrician: -0.3125\n",
      "Validation Disparity for hair_color_na and hairdresser: -0.3073\n",
      "Validation Disparity for hair_color_na and judge: nan\n",
      "Validation Disparity for hair_color_na and trumpeter: -0.2899\n",
      "Validation Disparity for hair_color_na and bartender: nan\n",
      "Validation Disparity for hair_color_black and gymnast: -0.2941\n",
      "Validation Disparity for hair_color_black and boatman: -0.3210\n",
      "Validation Disparity for hair_color_black and lifeguard: -0.3021\n",
      "Validation Disparity for hair_color_black and backpacker: -0.3130\n",
      "Validation Disparity for hair_color_black and lawman: -0.3079\n",
      "Validation Disparity for hair_color_black and dancer: -0.3088\n",
      "Validation Disparity for hair_color_black and laborer: -0.3055\n",
      "Validation Disparity for hair_color_black and patient: -0.3082\n",
      "Validation Disparity for hair_color_black and basketball_player: -0.3097\n",
      "Validation Disparity for hair_color_black and nurse: -0.3166\n",
      "Validation Disparity for hair_color_black and singer: -0.3426\n",
      "Validation Disparity for hair_color_black and motorcyclist: -0.3149\n",
      "Validation Disparity for hair_color_black and astronaut: -0.2926\n",
      "Validation Disparity for hair_color_black and fireman: -0.3354\n",
      "Validation Disparity for hair_color_black and referee: -0.2878\n",
      "Validation Disparity for hair_color_black and speaker: -0.3295\n",
      "Validation Disparity for hair_color_black and guitarist: -0.3237\n",
      "Validation Disparity for hair_color_black and repairman: -0.3306\n",
      "Validation Disparity for hair_color_black and craftsman: -0.3243\n",
      "Validation Disparity for hair_color_black and guard: -0.3236\n",
      "Validation Disparity for hair_color_black and painter: -0.3089\n",
      "Validation Disparity for hair_color_black and doctor: -0.3108\n",
      "Validation Disparity for hair_color_black and farmer: -0.2915\n",
      "Validation Disparity for hair_color_black and drummer: -0.3003\n",
      "Validation Disparity for hair_color_black and climber: -0.2756\n",
      "Validation Disparity for hair_color_black and disk_jockey: nan\n",
      "Validation Disparity for hair_color_black and soccer_player: -0.3114\n",
      "Validation Disparity for hair_color_black and student: -0.3142\n",
      "Validation Disparity for hair_color_black and soldier: -0.2891\n",
      "Validation Disparity for hair_color_black and cheerleader: -0.2995\n",
      "Validation Disparity for hair_color_black and flutist: -0.2656\n",
      "Validation Disparity for hair_color_black and runner: -0.2987\n",
      "Validation Disparity for hair_color_black and retailer: -0.2917\n",
      "Validation Disparity for hair_color_black and machinist: -0.3542\n",
      "Validation Disparity for hair_color_black and reporter: -0.3220\n",
      "Validation Disparity for hair_color_black and horseman: -0.2812\n",
      "Validation Disparity for hair_color_black and tennis_player: -0.2954\n",
      "Validation Disparity for hair_color_black and computer_user: -0.3337\n",
      "Validation Disparity for hair_color_black and carpenter: -0.3646\n",
      "Validation Disparity for hair_color_black and seller: -0.3194\n",
      "Validation Disparity for hair_color_black and skateboarder: -0.3243\n",
      "Validation Disparity for hair_color_black and gardener: -0.3203\n",
      "Validation Disparity for hair_color_black and waiter: -0.2891\n",
      "Validation Disparity for hair_color_black and prayer: -0.3289\n",
      "Validation Disparity for hair_color_black and ballplayer: -0.2920\n",
      "Validation Disparity for hair_color_black and sculptor: -0.3368\n",
      "Validation Disparity for hair_color_black and teacher: -0.3148\n",
      "Validation Disparity for hair_color_black and electrician: -0.2865\n",
      "Validation Disparity for hair_color_black and hairdresser: -0.3077\n",
      "Validation Disparity for hair_color_black and judge: -0.3281\n",
      "Validation Disparity for hair_color_black and trumpeter: -0.3073\n",
      "Validation Disparity for hair_color_black and bartender: nan\n",
      "Validation Disparity for hair_color_colored and gymnast: nan\n",
      "Validation Disparity for hair_color_colored and boatman: nan\n",
      "Validation Disparity for hair_color_colored and lifeguard: nan\n",
      "Validation Disparity for hair_color_colored and backpacker: nan\n",
      "Validation Disparity for hair_color_colored and lawman: nan\n",
      "Validation Disparity for hair_color_colored and dancer: nan\n",
      "Validation Disparity for hair_color_colored and laborer: -0.3490\n",
      "Validation Disparity for hair_color_colored and patient: nan\n",
      "Validation Disparity for hair_color_colored and basketball_player: nan\n",
      "Validation Disparity for hair_color_colored and nurse: nan\n",
      "Validation Disparity for hair_color_colored and singer: -0.3438\n",
      "Validation Disparity for hair_color_colored and motorcyclist: nan\n",
      "Validation Disparity for hair_color_colored and astronaut: nan\n",
      "Validation Disparity for hair_color_colored and fireman: nan\n",
      "Validation Disparity for hair_color_colored and referee: nan\n",
      "Validation Disparity for hair_color_colored and speaker: -0.3281\n",
      "Validation Disparity for hair_color_colored and guitarist: -0.3073\n",
      "Validation Disparity for hair_color_colored and repairman: -0.3151\n",
      "Validation Disparity for hair_color_colored and craftsman: nan\n",
      "Validation Disparity for hair_color_colored and guard: nan\n",
      "Validation Disparity for hair_color_colored and painter: nan\n",
      "Validation Disparity for hair_color_colored and doctor: nan\n",
      "Validation Disparity for hair_color_colored and farmer: nan\n",
      "Validation Disparity for hair_color_colored and drummer: nan\n",
      "Validation Disparity for hair_color_colored and climber: nan\n",
      "Validation Disparity for hair_color_colored and disk_jockey: nan\n",
      "Validation Disparity for hair_color_colored and soccer_player: nan\n",
      "Validation Disparity for hair_color_colored and student: nan\n",
      "Validation Disparity for hair_color_colored and soldier: nan\n",
      "Validation Disparity for hair_color_colored and cheerleader: nan\n",
      "Validation Disparity for hair_color_colored and flutist: nan\n",
      "Validation Disparity for hair_color_colored and runner: nan\n",
      "Validation Disparity for hair_color_colored and retailer: nan\n",
      "Validation Disparity for hair_color_colored and machinist: nan\n",
      "Validation Disparity for hair_color_colored and reporter: nan\n",
      "Validation Disparity for hair_color_colored and horseman: nan\n",
      "Validation Disparity for hair_color_colored and tennis_player: -0.3021\n",
      "Validation Disparity for hair_color_colored and computer_user: nan\n",
      "Validation Disparity for hair_color_colored and carpenter: nan\n",
      "Validation Disparity for hair_color_colored and seller: nan\n",
      "Validation Disparity for hair_color_colored and skateboarder: nan\n",
      "Validation Disparity for hair_color_colored and gardener: nan\n",
      "Validation Disparity for hair_color_colored and waiter: nan\n",
      "Validation Disparity for hair_color_colored and prayer: nan\n",
      "Validation Disparity for hair_color_colored and ballplayer: nan\n",
      "Validation Disparity for hair_color_colored and sculptor: nan\n",
      "Validation Disparity for hair_color_colored and teacher: nan\n",
      "Validation Disparity for hair_color_colored and electrician: nan\n",
      "Validation Disparity for hair_color_colored and hairdresser: nan\n",
      "Validation Disparity for hair_color_colored and judge: nan\n",
      "Validation Disparity for hair_color_colored and trumpeter: nan\n",
      "Validation Disparity for hair_color_colored and bartender: nan\n",
      "Validation Disparity for hair_color_red and gymnast: nan\n",
      "Validation Disparity for hair_color_red and boatman: -0.3235\n",
      "Validation Disparity for hair_color_red and lifeguard: -0.3177\n",
      "Validation Disparity for hair_color_red and backpacker: nan\n",
      "Validation Disparity for hair_color_red and lawman: -0.3099\n",
      "Validation Disparity for hair_color_red and dancer: -0.3021\n",
      "Validation Disparity for hair_color_red and laborer: nan\n",
      "Validation Disparity for hair_color_red and patient: nan\n",
      "Validation Disparity for hair_color_red and basketball_player: nan\n",
      "Validation Disparity for hair_color_red and nurse: nan\n",
      "Validation Disparity for hair_color_red and singer: nan\n",
      "Validation Disparity for hair_color_red and motorcyclist: nan\n",
      "Validation Disparity for hair_color_red and astronaut: nan\n",
      "Validation Disparity for hair_color_red and fireman: nan\n",
      "Validation Disparity for hair_color_red and referee: nan\n",
      "Validation Disparity for hair_color_red and speaker: nan\n",
      "Validation Disparity for hair_color_red and guitarist: -0.2656\n",
      "Validation Disparity for hair_color_red and repairman: nan\n",
      "Validation Disparity for hair_color_red and craftsman: nan\n",
      "Validation Disparity for hair_color_red and guard: nan\n",
      "Validation Disparity for hair_color_red and painter: -0.2760\n",
      "Validation Disparity for hair_color_red and doctor: nan\n",
      "Validation Disparity for hair_color_red and farmer: nan\n",
      "Validation Disparity for hair_color_red and drummer: -0.2812\n",
      "Validation Disparity for hair_color_red and climber: nan\n",
      "Validation Disparity for hair_color_red and disk_jockey: nan\n",
      "Validation Disparity for hair_color_red and soccer_player: nan\n",
      "Validation Disparity for hair_color_red and student: nan\n",
      "Validation Disparity for hair_color_red and soldier: nan\n",
      "Validation Disparity for hair_color_red and cheerleader: nan\n",
      "Validation Disparity for hair_color_red and flutist: nan\n",
      "Validation Disparity for hair_color_red and runner: -0.3021\n",
      "Validation Disparity for hair_color_red and retailer: nan\n",
      "Validation Disparity for hair_color_red and machinist: nan\n",
      "Validation Disparity for hair_color_red and reporter: nan\n",
      "Validation Disparity for hair_color_red and horseman: nan\n",
      "Validation Disparity for hair_color_red and tennis_player: nan\n",
      "Validation Disparity for hair_color_red and computer_user: -0.3359\n",
      "Validation Disparity for hair_color_red and carpenter: nan\n",
      "Validation Disparity for hair_color_red and seller: nan\n",
      "Validation Disparity for hair_color_red and skateboarder: nan\n",
      "Validation Disparity for hair_color_red and gardener: nan\n",
      "Validation Disparity for hair_color_red and waiter: -0.3125\n",
      "Validation Disparity for hair_color_red and prayer: -0.3125\n",
      "Validation Disparity for hair_color_red and ballplayer: nan\n",
      "Validation Disparity for hair_color_red and sculptor: nan\n",
      "Validation Disparity for hair_color_red and teacher: nan\n",
      "Validation Disparity for hair_color_red and electrician: nan\n",
      "Validation Disparity for hair_color_red and hairdresser: nan\n",
      "Validation Disparity for hair_color_red and judge: nan\n",
      "Validation Disparity for hair_color_red and trumpeter: nan\n",
      "Validation Disparity for hair_color_red and bartender: nan\n",
      "Validation Disparity for hairtype_coily and gymnast: nan\n",
      "Validation Disparity for hairtype_coily and boatman: nan\n",
      "Validation Disparity for hairtype_coily and lifeguard: nan\n",
      "Validation Disparity for hairtype_coily and backpacker: nan\n",
      "Validation Disparity for hairtype_coily and lawman: -0.3490\n",
      "Validation Disparity for hairtype_coily and dancer: nan\n",
      "Validation Disparity for hairtype_coily and laborer: nan\n",
      "Validation Disparity for hairtype_coily and patient: nan\n",
      "Validation Disparity for hairtype_coily and basketball_player: nan\n",
      "Validation Disparity for hairtype_coily and nurse: -0.3438\n",
      "Validation Disparity for hairtype_coily and singer: nan\n",
      "Validation Disparity for hairtype_coily and motorcyclist: nan\n",
      "Validation Disparity for hairtype_coily and astronaut: nan\n",
      "Validation Disparity for hairtype_coily and fireman: nan\n",
      "Validation Disparity for hairtype_coily and referee: nan\n",
      "Validation Disparity for hairtype_coily and speaker: nan\n",
      "Validation Disparity for hairtype_coily and guitarist: -0.2656\n",
      "Validation Disparity for hairtype_coily and repairman: -0.2760\n",
      "Validation Disparity for hairtype_coily and craftsman: nan\n",
      "Validation Disparity for hairtype_coily and guard: nan\n",
      "Validation Disparity for hairtype_coily and painter: nan\n",
      "Validation Disparity for hairtype_coily and doctor: -0.3239\n",
      "Validation Disparity for hairtype_coily and farmer: nan\n",
      "Validation Disparity for hairtype_coily and drummer: nan\n",
      "Validation Disparity for hairtype_coily and climber: nan\n",
      "Validation Disparity for hairtype_coily and disk_jockey: nan\n",
      "Validation Disparity for hairtype_coily and soccer_player: -0.3073\n",
      "Validation Disparity for hairtype_coily and student: nan\n",
      "Validation Disparity for hairtype_coily and soldier: nan\n",
      "Validation Disparity for hairtype_coily and cheerleader: nan\n",
      "Validation Disparity for hairtype_coily and flutist: nan\n",
      "Validation Disparity for hairtype_coily and runner: nan\n",
      "Validation Disparity for hairtype_coily and retailer: nan\n",
      "Validation Disparity for hairtype_coily and machinist: nan\n",
      "Validation Disparity for hairtype_coily and reporter: nan\n",
      "Validation Disparity for hairtype_coily and horseman: nan\n",
      "Validation Disparity for hairtype_coily and tennis_player: nan\n",
      "Validation Disparity for hairtype_coily and computer_user: nan\n",
      "Validation Disparity for hairtype_coily and carpenter: nan\n",
      "Validation Disparity for hairtype_coily and seller: -0.3281\n",
      "Validation Disparity for hairtype_coily and skateboarder: -0.2891\n",
      "Validation Disparity for hairtype_coily and gardener: nan\n",
      "Validation Disparity for hairtype_coily and waiter: nan\n",
      "Validation Disparity for hairtype_coily and prayer: nan\n",
      "Validation Disparity for hairtype_coily and ballplayer: nan\n",
      "Validation Disparity for hairtype_coily and sculptor: nan\n",
      "Validation Disparity for hairtype_coily and teacher: nan\n",
      "Validation Disparity for hairtype_coily and electrician: nan\n",
      "Validation Disparity for hairtype_coily and hairdresser: nan\n",
      "Validation Disparity for hairtype_coily and judge: nan\n",
      "Validation Disparity for hairtype_coily and trumpeter: nan\n",
      "Validation Disparity for hairtype_coily and bartender: nan\n",
      "Validation Disparity for hairtype_dreadlocks and gymnast: nan\n",
      "Validation Disparity for hairtype_dreadlocks and boatman: -0.3646\n",
      "Validation Disparity for hairtype_dreadlocks and lifeguard: nan\n",
      "Validation Disparity for hairtype_dreadlocks and backpacker: nan\n",
      "Validation Disparity for hairtype_dreadlocks and lawman: nan\n",
      "Validation Disparity for hairtype_dreadlocks and dancer: nan\n",
      "Validation Disparity for hairtype_dreadlocks and laborer: nan\n",
      "Validation Disparity for hairtype_dreadlocks and patient: nan\n",
      "Validation Disparity for hairtype_dreadlocks and basketball_player: -0.3073\n",
      "Validation Disparity for hairtype_dreadlocks and nurse: nan\n",
      "Validation Disparity for hairtype_dreadlocks and singer: nan\n",
      "Validation Disparity for hairtype_dreadlocks and motorcyclist: nan\n",
      "Validation Disparity for hairtype_dreadlocks and astronaut: nan\n",
      "Validation Disparity for hairtype_dreadlocks and fireman: -0.2865\n",
      "Validation Disparity for hairtype_dreadlocks and referee: nan\n",
      "Validation Disparity for hairtype_dreadlocks and speaker: nan\n",
      "Validation Disparity for hairtype_dreadlocks and guitarist: nan\n",
      "Validation Disparity for hairtype_dreadlocks and repairman: nan\n",
      "Validation Disparity for hairtype_dreadlocks and craftsman: nan\n",
      "Validation Disparity for hairtype_dreadlocks and guard: nan\n",
      "Validation Disparity for hairtype_dreadlocks and painter: nan\n",
      "Validation Disparity for hairtype_dreadlocks and doctor: nan\n",
      "Validation Disparity for hairtype_dreadlocks and farmer: nan\n",
      "Validation Disparity for hairtype_dreadlocks and drummer: nan\n",
      "Validation Disparity for hairtype_dreadlocks and climber: nan\n",
      "Validation Disparity for hairtype_dreadlocks and disk_jockey: nan\n",
      "Validation Disparity for hairtype_dreadlocks and soccer_player: nan\n",
      "Validation Disparity for hairtype_dreadlocks and student: nan\n",
      "Validation Disparity for hairtype_dreadlocks and soldier: nan\n",
      "Validation Disparity for hairtype_dreadlocks and cheerleader: nan\n",
      "Validation Disparity for hairtype_dreadlocks and flutist: nan\n",
      "Validation Disparity for hairtype_dreadlocks and runner: nan\n",
      "Validation Disparity for hairtype_dreadlocks and retailer: nan\n",
      "Validation Disparity for hairtype_dreadlocks and machinist: nan\n",
      "Validation Disparity for hairtype_dreadlocks and reporter: nan\n",
      "Validation Disparity for hairtype_dreadlocks and horseman: nan\n",
      "Validation Disparity for hairtype_dreadlocks and tennis_player: -0.2292\n",
      "Validation Disparity for hairtype_dreadlocks and computer_user: nan\n",
      "Validation Disparity for hairtype_dreadlocks and carpenter: nan\n",
      "Validation Disparity for hairtype_dreadlocks and seller: nan\n",
      "Validation Disparity for hairtype_dreadlocks and skateboarder: -0.3802\n",
      "Validation Disparity for hairtype_dreadlocks and gardener: nan\n",
      "Validation Disparity for hairtype_dreadlocks and waiter: nan\n",
      "Validation Disparity for hairtype_dreadlocks and prayer: nan\n",
      "Validation Disparity for hairtype_dreadlocks and ballplayer: nan\n",
      "Validation Disparity for hairtype_dreadlocks and sculptor: nan\n",
      "Validation Disparity for hairtype_dreadlocks and teacher: nan\n",
      "Validation Disparity for hairtype_dreadlocks and electrician: nan\n",
      "Validation Disparity for hairtype_dreadlocks and hairdresser: nan\n",
      "Validation Disparity for hairtype_dreadlocks and judge: nan\n",
      "Validation Disparity for hairtype_dreadlocks and trumpeter: nan\n",
      "Validation Disparity for hairtype_dreadlocks and bartender: nan\n",
      "Validation Disparity for hairtype_bald and gymnast: nan\n",
      "Validation Disparity for hairtype_bald and boatman: nan\n",
      "Validation Disparity for hairtype_bald and lifeguard: nan\n",
      "Validation Disparity for hairtype_bald and backpacker: nan\n",
      "Validation Disparity for hairtype_bald and lawman: -0.3247\n",
      "Validation Disparity for hairtype_bald and dancer: nan\n",
      "Validation Disparity for hairtype_bald and laborer: nan\n",
      "Validation Disparity for hairtype_bald and patient: nan\n",
      "Validation Disparity for hairtype_bald and basketball_player: -0.3043\n",
      "Validation Disparity for hairtype_bald and nurse: nan\n",
      "Validation Disparity for hairtype_bald and singer: nan\n",
      "Validation Disparity for hairtype_bald and motorcyclist: nan\n",
      "Validation Disparity for hairtype_bald and astronaut: nan\n",
      "Validation Disparity for hairtype_bald and fireman: nan\n",
      "Validation Disparity for hairtype_bald and referee: -0.3073\n",
      "Validation Disparity for hairtype_bald and speaker: -0.2917\n",
      "Validation Disparity for hairtype_bald and guitarist: nan\n",
      "Validation Disparity for hairtype_bald and repairman: nan\n",
      "Validation Disparity for hairtype_bald and craftsman: -0.3438\n",
      "Validation Disparity for hairtype_bald and guard: -0.2865\n",
      "Validation Disparity for hairtype_bald and painter: nan\n",
      "Validation Disparity for hairtype_bald and doctor: -0.3021\n",
      "Validation Disparity for hairtype_bald and farmer: nan\n",
      "Validation Disparity for hairtype_bald and drummer: nan\n",
      "Validation Disparity for hairtype_bald and climber: nan\n",
      "Validation Disparity for hairtype_bald and disk_jockey: nan\n",
      "Validation Disparity for hairtype_bald and soccer_player: -0.4115\n",
      "Validation Disparity for hairtype_bald and student: nan\n",
      "Validation Disparity for hairtype_bald and soldier: nan\n",
      "Validation Disparity for hairtype_bald and cheerleader: nan\n",
      "Validation Disparity for hairtype_bald and flutist: nan\n",
      "Validation Disparity for hairtype_bald and runner: -0.2656\n",
      "Validation Disparity for hairtype_bald and retailer: nan\n",
      "Validation Disparity for hairtype_bald and machinist: nan\n",
      "Validation Disparity for hairtype_bald and reporter: nan\n",
      "Validation Disparity for hairtype_bald and horseman: nan\n",
      "Validation Disparity for hairtype_bald and tennis_player: nan\n",
      "Validation Disparity for hairtype_bald and computer_user: nan\n",
      "Validation Disparity for hairtype_bald and carpenter: nan\n",
      "Validation Disparity for hairtype_bald and seller: -0.3438\n",
      "Validation Disparity for hairtype_bald and skateboarder: nan\n",
      "Validation Disparity for hairtype_bald and gardener: nan\n",
      "Validation Disparity for hairtype_bald and waiter: nan\n",
      "Validation Disparity for hairtype_bald and prayer: nan\n",
      "Validation Disparity for hairtype_bald and ballplayer: nan\n",
      "Validation Disparity for hairtype_bald and sculptor: nan\n",
      "Validation Disparity for hairtype_bald and teacher: nan\n",
      "Validation Disparity for hairtype_bald and electrician: nan\n",
      "Validation Disparity for hairtype_bald and hairdresser: -0.3177\n",
      "Validation Disparity for hairtype_bald and judge: nan\n",
      "Validation Disparity for hairtype_bald and trumpeter: nan\n",
      "Validation Disparity for hairtype_bald and bartender: nan\n",
      "Validation Disparity for hairtype_straight and gymnast: -0.3223\n",
      "Validation Disparity for hairtype_straight and boatman: -0.3103\n",
      "Validation Disparity for hairtype_straight and lifeguard: -0.3542\n",
      "Validation Disparity for hairtype_straight and backpacker: -0.3063\n",
      "Validation Disparity for hairtype_straight and lawman: -0.2998\n",
      "Validation Disparity for hairtype_straight and dancer: -0.3090\n",
      "Validation Disparity for hairtype_straight and laborer: -0.3100\n",
      "Validation Disparity for hairtype_straight and patient: -0.3070\n",
      "Validation Disparity for hairtype_straight and basketball_player: -0.3087\n",
      "Validation Disparity for hairtype_straight and nurse: -0.2950\n",
      "Validation Disparity for hairtype_straight and singer: -0.3387\n",
      "Validation Disparity for hairtype_straight and motorcyclist: -0.3108\n",
      "Validation Disparity for hairtype_straight and astronaut: -0.2926\n",
      "Validation Disparity for hairtype_straight and fireman: -0.3073\n",
      "Validation Disparity for hairtype_straight and referee: -0.3098\n",
      "Validation Disparity for hairtype_straight and speaker: -0.3179\n",
      "Validation Disparity for hairtype_straight and guitarist: -0.3010\n",
      "Validation Disparity for hairtype_straight and repairman: -0.3326\n",
      "Validation Disparity for hairtype_straight and craftsman: -0.3229\n",
      "Validation Disparity for hairtype_straight and guard: -0.3094\n",
      "Validation Disparity for hairtype_straight and painter: -0.2726\n",
      "Validation Disparity for hairtype_straight and doctor: -0.3153\n",
      "Validation Disparity for hairtype_straight and farmer: -0.2767\n",
      "Validation Disparity for hairtype_straight and drummer: -0.3111\n",
      "Validation Disparity for hairtype_straight and climber: -0.2995\n",
      "Validation Disparity for hairtype_straight and disk_jockey: -0.3665\n",
      "Validation Disparity for hairtype_straight and soccer_player: -0.3120\n",
      "Validation Disparity for hairtype_straight and student: -0.3254\n",
      "Validation Disparity for hairtype_straight and soldier: -0.3071\n",
      "Validation Disparity for hairtype_straight and cheerleader: -0.2917\n",
      "Validation Disparity for hairtype_straight and flutist: -0.2812\n",
      "Validation Disparity for hairtype_straight and runner: -0.3038\n",
      "Validation Disparity for hairtype_straight and retailer: -0.3057\n",
      "Validation Disparity for hairtype_straight and machinist: -0.3490\n",
      "Validation Disparity for hairtype_straight and reporter: -0.3244\n",
      "Validation Disparity for hairtype_straight and horseman: -0.2933\n",
      "Validation Disparity for hairtype_straight and tennis_player: -0.2997\n",
      "Validation Disparity for hairtype_straight and computer_user: -0.3260\n",
      "Validation Disparity for hairtype_straight and carpenter: nan\n",
      "Validation Disparity for hairtype_straight and seller: -0.2959\n",
      "Validation Disparity for hairtype_straight and skateboarder: -0.2739\n",
      "Validation Disparity for hairtype_straight and gardener: -0.3021\n",
      "Validation Disparity for hairtype_straight and waiter: -0.2899\n",
      "Validation Disparity for hairtype_straight and prayer: -0.3174\n",
      "Validation Disparity for hairtype_straight and ballplayer: -0.3141\n",
      "Validation Disparity for hairtype_straight and sculptor: -0.3194\n",
      "Validation Disparity for hairtype_straight and teacher: -0.3043\n",
      "Validation Disparity for hairtype_straight and electrician: nan\n",
      "Validation Disparity for hairtype_straight and hairdresser: -0.3040\n",
      "Validation Disparity for hairtype_straight and judge: -0.3272\n",
      "Validation Disparity for hairtype_straight and trumpeter: -0.3255\n",
      "Validation Disparity for hairtype_straight and bartender: nan\n",
      "Validation Disparity for hairtype_curly and gymnast: nan\n",
      "Validation Disparity for hairtype_curly and boatman: -0.3229\n",
      "Validation Disparity for hairtype_curly and lifeguard: nan\n",
      "Validation Disparity for hairtype_curly and backpacker: -0.2917\n",
      "Validation Disparity for hairtype_curly and lawman: -0.3490\n",
      "Validation Disparity for hairtype_curly and dancer: -0.2978\n",
      "Validation Disparity for hairtype_curly and laborer: nan\n",
      "Validation Disparity for hairtype_curly and patient: nan\n",
      "Validation Disparity for hairtype_curly and basketball_player: nan\n",
      "Validation Disparity for hairtype_curly and nurse: nan\n",
      "Validation Disparity for hairtype_curly and singer: -0.3021\n",
      "Validation Disparity for hairtype_curly and motorcyclist: nan\n",
      "Validation Disparity for hairtype_curly and astronaut: nan\n",
      "Validation Disparity for hairtype_curly and fireman: nan\n",
      "Validation Disparity for hairtype_curly and referee: nan\n",
      "Validation Disparity for hairtype_curly and speaker: nan\n",
      "Validation Disparity for hairtype_curly and guitarist: -0.3542\n",
      "Validation Disparity for hairtype_curly and repairman: nan\n",
      "Validation Disparity for hairtype_curly and craftsman: nan\n",
      "Validation Disparity for hairtype_curly and guard: nan\n",
      "Validation Disparity for hairtype_curly and painter: -0.3177\n",
      "Validation Disparity for hairtype_curly and doctor: nan\n",
      "Validation Disparity for hairtype_curly and farmer: -0.3021\n",
      "Validation Disparity for hairtype_curly and drummer: nan\n",
      "Validation Disparity for hairtype_curly and climber: nan\n",
      "Validation Disparity for hairtype_curly and disk_jockey: nan\n",
      "Validation Disparity for hairtype_curly and soccer_player: nan\n",
      "Validation Disparity for hairtype_curly and student: nan\n",
      "Validation Disparity for hairtype_curly and soldier: nan\n",
      "Validation Disparity for hairtype_curly and cheerleader: nan\n",
      "Validation Disparity for hairtype_curly and flutist: nan\n",
      "Validation Disparity for hairtype_curly and runner: nan\n",
      "Validation Disparity for hairtype_curly and retailer: nan\n",
      "Validation Disparity for hairtype_curly and machinist: nan\n",
      "Validation Disparity for hairtype_curly and reporter: nan\n",
      "Validation Disparity for hairtype_curly and horseman: nan\n",
      "Validation Disparity for hairtype_curly and tennis_player: nan\n",
      "Validation Disparity for hairtype_curly and computer_user: nan\n",
      "Validation Disparity for hairtype_curly and carpenter: nan\n",
      "Validation Disparity for hairtype_curly and seller: -0.2865\n",
      "Validation Disparity for hairtype_curly and skateboarder: nan\n",
      "Validation Disparity for hairtype_curly and gardener: -0.3333\n",
      "Validation Disparity for hairtype_curly and waiter: nan\n",
      "Validation Disparity for hairtype_curly and prayer: -0.3125\n",
      "Validation Disparity for hairtype_curly and ballplayer: nan\n",
      "Validation Disparity for hairtype_curly and sculptor: -0.3594\n",
      "Validation Disparity for hairtype_curly and teacher: nan\n",
      "Validation Disparity for hairtype_curly and electrician: nan\n",
      "Validation Disparity for hairtype_curly and hairdresser: nan\n",
      "Validation Disparity for hairtype_curly and judge: nan\n",
      "Validation Disparity for hairtype_curly and trumpeter: nan\n",
      "Validation Disparity for hairtype_curly and bartender: nan\n",
      "Validation Disparity for hairtype_wavy and gymnast: -0.3382\n",
      "Validation Disparity for hairtype_wavy and boatman: -0.3160\n",
      "Validation Disparity for hairtype_wavy and lifeguard: -0.3164\n",
      "Validation Disparity for hairtype_wavy and backpacker: -0.3125\n",
      "Validation Disparity for hairtype_wavy and lawman: -0.3043\n",
      "Validation Disparity for hairtype_wavy and dancer: -0.2969\n",
      "Validation Disparity for hairtype_wavy and laborer: -0.3177\n",
      "Validation Disparity for hairtype_wavy and patient: -0.2917\n",
      "Validation Disparity for hairtype_wavy and basketball_player: -0.3231\n",
      "Validation Disparity for hairtype_wavy and nurse: -0.3125\n",
      "Validation Disparity for hairtype_wavy and singer: -0.3103\n",
      "Validation Disparity for hairtype_wavy and motorcyclist: -0.2997\n",
      "Validation Disparity for hairtype_wavy and astronaut: -0.2926\n",
      "Validation Disparity for hairtype_wavy and fireman: -0.3307\n",
      "Validation Disparity for hairtype_wavy and referee: -0.2778\n",
      "Validation Disparity for hairtype_wavy and speaker: -0.3056\n",
      "Validation Disparity for hairtype_wavy and guitarist: -0.2950\n",
      "Validation Disparity for hairtype_wavy and repairman: -0.3134\n",
      "Validation Disparity for hairtype_wavy and craftsman: -0.3125\n",
      "Validation Disparity for hairtype_wavy and guard: -0.2905\n",
      "Validation Disparity for hairtype_wavy and painter: -0.2888\n",
      "Validation Disparity for hairtype_wavy and doctor: -0.3217\n",
      "Validation Disparity for hairtype_wavy and farmer: -0.2891\n",
      "Validation Disparity for hairtype_wavy and drummer: -0.2839\n",
      "Validation Disparity for hairtype_wavy and climber: -0.3027\n",
      "Validation Disparity for hairtype_wavy and disk_jockey: -0.3594\n",
      "Validation Disparity for hairtype_wavy and soccer_player: -0.3087\n",
      "Validation Disparity for hairtype_wavy and student: -0.2891\n",
      "Validation Disparity for hairtype_wavy and soldier: -0.2762\n",
      "Validation Disparity for hairtype_wavy and cheerleader: nan\n",
      "Validation Disparity for hairtype_wavy and flutist: -0.2656\n",
      "Validation Disparity for hairtype_wavy and runner: -0.3125\n",
      "Validation Disparity for hairtype_wavy and retailer: -0.2949\n",
      "Validation Disparity for hairtype_wavy and machinist: -0.3750\n",
      "Validation Disparity for hairtype_wavy and reporter: -0.2878\n",
      "Validation Disparity for hairtype_wavy and horseman: -0.3021\n",
      "Validation Disparity for hairtype_wavy and tennis_player: -0.3049\n",
      "Validation Disparity for hairtype_wavy and computer_user: -0.3157\n",
      "Validation Disparity for hairtype_wavy and carpenter: nan\n",
      "Validation Disparity for hairtype_wavy and seller: -0.3008\n",
      "Validation Disparity for hairtype_wavy and skateboarder: -0.3229\n",
      "Validation Disparity for hairtype_wavy and gardener: -0.3594\n",
      "Validation Disparity for hairtype_wavy and waiter: -0.2812\n",
      "Validation Disparity for hairtype_wavy and prayer: -0.3082\n",
      "Validation Disparity for hairtype_wavy and ballplayer: -0.3320\n",
      "Validation Disparity for hairtype_wavy and sculptor: -0.3333\n",
      "Validation Disparity for hairtype_wavy and teacher: -0.3220\n",
      "Validation Disparity for hairtype_wavy and electrician: -0.2865\n",
      "Validation Disparity for hairtype_wavy and hairdresser: -0.2917\n",
      "Validation Disparity for hairtype_wavy and judge: -0.3290\n",
      "Validation Disparity for hairtype_wavy and trumpeter: -0.2708\n",
      "Validation Disparity for hairtype_wavy and bartender: nan\n",
      "Validation Disparity for hairtype_na and gymnast: -0.2917\n",
      "Validation Disparity for hairtype_na and boatman: -0.3226\n",
      "Validation Disparity for hairtype_na and lifeguard: -0.3143\n",
      "Validation Disparity for hairtype_na and backpacker: -0.3156\n",
      "Validation Disparity for hairtype_na and lawman: -0.2995\n",
      "Validation Disparity for hairtype_na and dancer: -0.2939\n",
      "Validation Disparity for hairtype_na and laborer: -0.3042\n",
      "Validation Disparity for hairtype_na and patient: -0.3044\n",
      "Validation Disparity for hairtype_na and basketball_player: -0.3209\n",
      "Validation Disparity for hairtype_na and nurse: -0.2969\n",
      "Validation Disparity for hairtype_na and singer: -0.3156\n",
      "Validation Disparity for hairtype_na and motorcyclist: -0.3419\n",
      "Validation Disparity for hairtype_na and astronaut: -0.3438\n",
      "Validation Disparity for hairtype_na and fireman: -0.3096\n",
      "Validation Disparity for hairtype_na and referee: -0.3193\n",
      "Validation Disparity for hairtype_na and speaker: -0.2812\n",
      "Validation Disparity for hairtype_na and guitarist: -0.3052\n",
      "Validation Disparity for hairtype_na and repairman: -0.3014\n",
      "Validation Disparity for hairtype_na and craftsman: -0.3023\n",
      "Validation Disparity for hairtype_na and guard: -0.3170\n",
      "Validation Disparity for hairtype_na and painter: -0.3110\n",
      "Validation Disparity for hairtype_na and doctor: -0.2922\n",
      "Validation Disparity for hairtype_na and farmer: -0.3168\n",
      "Validation Disparity for hairtype_na and drummer: -0.2989\n",
      "Validation Disparity for hairtype_na and climber: -0.3466\n",
      "Validation Disparity for hairtype_na and disk_jockey: -0.3151\n",
      "Validation Disparity for hairtype_na and soccer_player: -0.3321\n",
      "Validation Disparity for hairtype_na and student: -0.3153\n",
      "Validation Disparity for hairtype_na and soldier: -0.2857\n",
      "Validation Disparity for hairtype_na and cheerleader: -0.2943\n",
      "Validation Disparity for hairtype_na and flutist: -0.3070\n",
      "Validation Disparity for hairtype_na and runner: -0.3125\n",
      "Validation Disparity for hairtype_na and retailer: -0.3177\n",
      "Validation Disparity for hairtype_na and machinist: -0.3094\n",
      "Validation Disparity for hairtype_na and reporter: -0.2831\n",
      "Validation Disparity for hairtype_na and horseman: -0.3059\n",
      "Validation Disparity for hairtype_na and tennis_player: -0.3067\n",
      "Validation Disparity for hairtype_na and computer_user: -0.3097\n",
      "Validation Disparity for hairtype_na and carpenter: -0.3646\n",
      "Validation Disparity for hairtype_na and seller: -0.3070\n",
      "Validation Disparity for hairtype_na and skateboarder: -0.3079\n",
      "Validation Disparity for hairtype_na and gardener: -0.3250\n",
      "Validation Disparity for hairtype_na and waiter: nan\n",
      "Validation Disparity for hairtype_na and prayer: -0.3184\n",
      "Validation Disparity for hairtype_na and ballplayer: -0.3151\n",
      "Validation Disparity for hairtype_na and sculptor: -0.2969\n",
      "Validation Disparity for hairtype_na and teacher: nan\n",
      "Validation Disparity for hairtype_na and electrician: -0.3125\n",
      "Validation Disparity for hairtype_na and hairdresser: -0.2831\n",
      "Validation Disparity for hairtype_na and judge: nan\n",
      "Validation Disparity for hairtype_na and trumpeter: -0.2956\n",
      "Validation Disparity for hairtype_na and bartender: nan\n",
      "Validation Disparity for has_facial_hair and gymnast: nan\n",
      "Validation Disparity for has_facial_hair and boatman: -0.2865\n",
      "Validation Disparity for has_facial_hair and lifeguard: nan\n",
      "Validation Disparity for has_facial_hair and backpacker: -0.3302\n",
      "Validation Disparity for has_facial_hair and lawman: -0.2922\n",
      "Validation Disparity for has_facial_hair and dancer: -0.3542\n",
      "Validation Disparity for has_facial_hair and laborer: -0.3125\n",
      "Validation Disparity for has_facial_hair and patient: -0.2943\n",
      "Validation Disparity for has_facial_hair and basketball_player: -0.3211\n",
      "Validation Disparity for has_facial_hair and nurse: nan\n",
      "Validation Disparity for has_facial_hair and singer: -0.3125\n",
      "Validation Disparity for has_facial_hair and motorcyclist: -0.3099\n",
      "Validation Disparity for has_facial_hair and astronaut: nan\n",
      "Validation Disparity for has_facial_hair and fireman: -0.2995\n",
      "Validation Disparity for has_facial_hair and referee: -0.3099\n",
      "Validation Disparity for has_facial_hair and speaker: -0.3542\n",
      "Validation Disparity for has_facial_hair and guitarist: -0.2734\n",
      "Validation Disparity for has_facial_hair and repairman: -0.2899\n",
      "Validation Disparity for has_facial_hair and craftsman: -0.3474\n",
      "Validation Disparity for has_facial_hair and guard: -0.3021\n",
      "Validation Disparity for has_facial_hair and painter: -0.2448\n",
      "Validation Disparity for has_facial_hair and doctor: -0.3229\n",
      "Validation Disparity for has_facial_hair and farmer: -0.3147\n",
      "Validation Disparity for has_facial_hair and drummer: -0.2812\n",
      "Validation Disparity for has_facial_hair and climber: nan\n",
      "Validation Disparity for has_facial_hair and disk_jockey: -0.3125\n",
      "Validation Disparity for has_facial_hair and soccer_player: -0.2831\n",
      "Validation Disparity for has_facial_hair and student: nan\n",
      "Validation Disparity for has_facial_hair and soldier: -0.2917\n",
      "Validation Disparity for has_facial_hair and cheerleader: nan\n",
      "Validation Disparity for has_facial_hair and flutist: -0.2743\n",
      "Validation Disparity for has_facial_hair and runner: -0.3021\n",
      "Validation Disparity for has_facial_hair and retailer: nan\n",
      "Validation Disparity for has_facial_hair and machinist: nan\n",
      "Validation Disparity for has_facial_hair and reporter: -0.3021\n",
      "Validation Disparity for has_facial_hair and horseman: -0.3594\n",
      "Validation Disparity for has_facial_hair and tennis_player: -0.2752\n",
      "Validation Disparity for has_facial_hair and computer_user: -0.3255\n",
      "Validation Disparity for has_facial_hair and carpenter: -0.3646\n",
      "Validation Disparity for has_facial_hair and seller: -0.3146\n",
      "Validation Disparity for has_facial_hair and skateboarder: -0.3181\n",
      "Validation Disparity for has_facial_hair and gardener: nan\n",
      "Validation Disparity for has_facial_hair and waiter: nan\n",
      "Validation Disparity for has_facial_hair and prayer: -0.3264\n",
      "Validation Disparity for has_facial_hair and ballplayer: -0.3143\n",
      "Validation Disparity for has_facial_hair and sculptor: nan\n",
      "Validation Disparity for has_facial_hair and teacher: nan\n",
      "Validation Disparity for has_facial_hair and electrician: nan\n",
      "Validation Disparity for has_facial_hair and hairdresser: -0.2934\n",
      "Validation Disparity for has_facial_hair and judge: nan\n",
      "Validation Disparity for has_facial_hair and trumpeter: -0.3368\n",
      "Validation Disparity for has_facial_hair and bartender: nan\n",
      "Validation Disparity for has_tattoo and gymnast: nan\n",
      "Validation Disparity for has_tattoo and boatman: nan\n",
      "Validation Disparity for has_tattoo and lifeguard: nan\n",
      "Validation Disparity for has_tattoo and backpacker: -0.2760\n",
      "Validation Disparity for has_tattoo and lawman: nan\n",
      "Validation Disparity for has_tattoo and dancer: -0.2865\n",
      "Validation Disparity for has_tattoo and laborer: nan\n",
      "Validation Disparity for has_tattoo and patient: nan\n",
      "Validation Disparity for has_tattoo and basketball_player: -0.3137\n",
      "Validation Disparity for has_tattoo and nurse: nan\n",
      "Validation Disparity for has_tattoo and singer: -0.3088\n",
      "Validation Disparity for has_tattoo and motorcyclist: nan\n",
      "Validation Disparity for has_tattoo and astronaut: nan\n",
      "Validation Disparity for has_tattoo and fireman: nan\n",
      "Validation Disparity for has_tattoo and referee: nan\n",
      "Validation Disparity for has_tattoo and speaker: nan\n",
      "Validation Disparity for has_tattoo and guitarist: -0.2656\n",
      "Validation Disparity for has_tattoo and repairman: -0.2917\n",
      "Validation Disparity for has_tattoo and craftsman: nan\n",
      "Validation Disparity for has_tattoo and guard: nan\n",
      "Validation Disparity for has_tattoo and painter: nan\n",
      "Validation Disparity for has_tattoo and doctor: nan\n",
      "Validation Disparity for has_tattoo and farmer: nan\n",
      "Validation Disparity for has_tattoo and drummer: nan\n",
      "Validation Disparity for has_tattoo and climber: nan\n",
      "Validation Disparity for has_tattoo and disk_jockey: nan\n",
      "Validation Disparity for has_tattoo and soccer_player: nan\n",
      "Validation Disparity for has_tattoo and student: nan\n",
      "Validation Disparity for has_tattoo and soldier: nan\n",
      "Validation Disparity for has_tattoo and cheerleader: nan\n",
      "Validation Disparity for has_tattoo and flutist: nan\n",
      "Validation Disparity for has_tattoo and runner: nan\n",
      "Validation Disparity for has_tattoo and retailer: nan\n",
      "Validation Disparity for has_tattoo and machinist: nan\n",
      "Validation Disparity for has_tattoo and reporter: nan\n",
      "Validation Disparity for has_tattoo and horseman: nan\n",
      "Validation Disparity for has_tattoo and tennis_player: nan\n",
      "Validation Disparity for has_tattoo and computer_user: nan\n",
      "Validation Disparity for has_tattoo and carpenter: nan\n",
      "Validation Disparity for has_tattoo and seller: -0.2865\n",
      "Validation Disparity for has_tattoo and skateboarder: nan\n",
      "Validation Disparity for has_tattoo and gardener: nan\n",
      "Validation Disparity for has_tattoo and waiter: nan\n",
      "Validation Disparity for has_tattoo and prayer: nan\n",
      "Validation Disparity for has_tattoo and ballplayer: -0.3438\n",
      "Validation Disparity for has_tattoo and sculptor: nan\n",
      "Validation Disparity for has_tattoo and teacher: nan\n",
      "Validation Disparity for has_tattoo and electrician: nan\n",
      "Validation Disparity for has_tattoo and hairdresser: nan\n",
      "Validation Disparity for has_tattoo and judge: nan\n",
      "Validation Disparity for has_tattoo and trumpeter: nan\n",
      "Validation Disparity for has_tattoo and bartender: nan\n",
      "Validation Disparity for has_cap and gymnast: nan\n",
      "Validation Disparity for has_cap and boatman: -0.3167\n",
      "Validation Disparity for has_cap and lifeguard: -0.3047\n",
      "Validation Disparity for has_cap and backpacker: -0.3171\n",
      "Validation Disparity for has_cap and lawman: -0.2939\n",
      "Validation Disparity for has_cap and dancer: -0.3047\n",
      "Validation Disparity for has_cap and laborer: -0.3067\n",
      "Validation Disparity for has_cap and patient: -0.3094\n",
      "Validation Disparity for has_cap and basketball_player: nan\n",
      "Validation Disparity for has_cap and nurse: -0.2885\n",
      "Validation Disparity for has_cap and singer: -0.3216\n",
      "Validation Disparity for has_cap and motorcyclist: -0.3407\n",
      "Validation Disparity for has_cap and astronaut: -0.3438\n",
      "Validation Disparity for has_cap and fireman: -0.3030\n",
      "Validation Disparity for has_cap and referee: -0.3261\n",
      "Validation Disparity for has_cap and speaker: -0.3490\n",
      "Validation Disparity for has_cap and guitarist: -0.3057\n",
      "Validation Disparity for has_cap and repairman: -0.3409\n",
      "Validation Disparity for has_cap and craftsman: -0.3438\n",
      "Validation Disparity for has_cap and guard: -0.3201\n",
      "Validation Disparity for has_cap and painter: -0.3090\n",
      "Validation Disparity for has_cap and doctor: -0.2448\n",
      "Validation Disparity for has_cap and farmer: -0.3133\n",
      "Validation Disparity for has_cap and drummer: -0.3234\n",
      "Validation Disparity for has_cap and climber: -0.3333\n",
      "Validation Disparity for has_cap and disk_jockey: nan\n",
      "Validation Disparity for has_cap and soccer_player: -0.3229\n",
      "Validation Disparity for has_cap and student: nan\n",
      "Validation Disparity for has_cap and soldier: -0.3039\n",
      "Validation Disparity for has_cap and cheerleader: nan\n",
      "Validation Disparity for has_cap and flutist: -0.2708\n",
      "Validation Disparity for has_cap and runner: -0.2472\n",
      "Validation Disparity for has_cap and retailer: -0.3021\n",
      "Validation Disparity for has_cap and machinist: -0.3410\n",
      "Validation Disparity for has_cap and reporter: -0.2604\n",
      "Validation Disparity for has_cap and horseman: -0.3021\n",
      "Validation Disparity for has_cap and tennis_player: -0.3157\n",
      "Validation Disparity for has_cap and computer_user: -0.3125\n",
      "Validation Disparity for has_cap and carpenter: nan\n",
      "Validation Disparity for has_cap and seller: -0.3158\n",
      "Validation Disparity for has_cap and skateboarder: -0.3490\n",
      "Validation Disparity for has_cap and gardener: -0.3207\n",
      "Validation Disparity for has_cap and waiter: nan\n",
      "Validation Disparity for has_cap and prayer: -0.3033\n",
      "Validation Disparity for has_cap and ballplayer: -0.3234\n",
      "Validation Disparity for has_cap and sculptor: -0.3333\n",
      "Validation Disparity for has_cap and teacher: nan\n",
      "Validation Disparity for has_cap and electrician: -0.3125\n",
      "Validation Disparity for has_cap and hairdresser: -0.3047\n",
      "Validation Disparity for has_cap and judge: nan\n",
      "Validation Disparity for has_cap and trumpeter: -0.3003\n",
      "Validation Disparity for has_cap and bartender: nan\n",
      "Validation Disparity for has_mask and gymnast: nan\n",
      "Validation Disparity for has_mask and boatman: nan\n",
      "Validation Disparity for has_mask and lifeguard: nan\n",
      "Validation Disparity for has_mask and backpacker: -0.3229\n",
      "Validation Disparity for has_mask and lawman: -0.3015\n",
      "Validation Disparity for has_mask and dancer: nan\n",
      "Validation Disparity for has_mask and laborer: -0.3177\n",
      "Validation Disparity for has_mask and patient: -0.2931\n",
      "Validation Disparity for has_mask and basketball_player: -0.3750\n",
      "Validation Disparity for has_mask and nurse: -0.2956\n",
      "Validation Disparity for has_mask and singer: nan\n",
      "Validation Disparity for has_mask and motorcyclist: -0.3086\n",
      "Validation Disparity for has_mask and astronaut: nan\n",
      "Validation Disparity for has_mask and fireman: nan\n",
      "Validation Disparity for has_mask and referee: nan\n",
      "Validation Disparity for has_mask and speaker: nan\n",
      "Validation Disparity for has_mask and guitarist: nan\n",
      "Validation Disparity for has_mask and repairman: nan\n",
      "Validation Disparity for has_mask and craftsman: -0.3151\n",
      "Validation Disparity for has_mask and guard: nan\n",
      "Validation Disparity for has_mask and painter: -0.3125\n",
      "Validation Disparity for has_mask and doctor: -0.2908\n",
      "Validation Disparity for has_mask and farmer: nan\n",
      "Validation Disparity for has_mask and drummer: nan\n",
      "Validation Disparity for has_mask and climber: nan\n",
      "Validation Disparity for has_mask and disk_jockey: nan\n",
      "Validation Disparity for has_mask and soccer_player: nan\n",
      "Validation Disparity for has_mask and student: -0.3021\n",
      "Validation Disparity for has_mask and soldier: -0.3083\n",
      "Validation Disparity for has_mask and cheerleader: nan\n",
      "Validation Disparity for has_mask and flutist: nan\n",
      "Validation Disparity for has_mask and runner: nan\n",
      "Validation Disparity for has_mask and retailer: nan\n",
      "Validation Disparity for has_mask and machinist: -0.2917\n",
      "Validation Disparity for has_mask and reporter: -0.2708\n",
      "Validation Disparity for has_mask and horseman: nan\n",
      "Validation Disparity for has_mask and tennis_player: nan\n",
      "Validation Disparity for has_mask and computer_user: -0.2969\n",
      "Validation Disparity for has_mask and carpenter: nan\n",
      "Validation Disparity for has_mask and seller: -0.3047\n",
      "Validation Disparity for has_mask and skateboarder: nan\n",
      "Validation Disparity for has_mask and gardener: -0.3490\n",
      "Validation Disparity for has_mask and waiter: nan\n",
      "Validation Disparity for has_mask and prayer: -0.3125\n",
      "Validation Disparity for has_mask and ballplayer: nan\n",
      "Validation Disparity for has_mask and sculptor: -0.3594\n",
      "Validation Disparity for has_mask and teacher: nan\n",
      "Validation Disparity for has_mask and electrician: -0.2865\n",
      "Validation Disparity for has_mask and hairdresser: -0.3008\n",
      "Validation Disparity for has_mask and judge: -0.3073\n",
      "Validation Disparity for has_mask and trumpeter: nan\n",
      "Validation Disparity for has_mask and bartender: nan\n",
      "Validation Disparity for has_headscarf and gymnast: -0.3359\n",
      "Validation Disparity for has_headscarf and boatman: -0.3229\n",
      "Validation Disparity for has_headscarf and lifeguard: nan\n",
      "Validation Disparity for has_headscarf and backpacker: -0.2986\n",
      "Validation Disparity for has_headscarf and lawman: -0.3003\n",
      "Validation Disparity for has_headscarf and dancer: -0.3088\n",
      "Validation Disparity for has_headscarf and laborer: -0.3464\n",
      "Validation Disparity for has_headscarf and patient: -0.3177\n",
      "Validation Disparity for has_headscarf and basketball_player: nan\n",
      "Validation Disparity for has_headscarf and nurse: -0.2891\n",
      "Validation Disparity for has_headscarf and singer: nan\n",
      "Validation Disparity for has_headscarf and motorcyclist: -0.3125\n",
      "Validation Disparity for has_headscarf and astronaut: nan\n",
      "Validation Disparity for has_headscarf and fireman: -0.2865\n",
      "Validation Disparity for has_headscarf and referee: nan\n",
      "Validation Disparity for has_headscarf and speaker: -0.3073\n",
      "Validation Disparity for has_headscarf and guitarist: nan\n",
      "Validation Disparity for has_headscarf and repairman: nan\n",
      "Validation Disparity for has_headscarf and craftsman: -0.2917\n",
      "Validation Disparity for has_headscarf and guard: nan\n",
      "Validation Disparity for has_headscarf and painter: -0.3108\n",
      "Validation Disparity for has_headscarf and doctor: -0.3073\n",
      "Validation Disparity for has_headscarf and farmer: -0.2976\n",
      "Validation Disparity for has_headscarf and drummer: -0.2708\n",
      "Validation Disparity for has_headscarf and climber: nan\n",
      "Validation Disparity for has_headscarf and disk_jockey: nan\n",
      "Validation Disparity for has_headscarf and soccer_player: nan\n",
      "Validation Disparity for has_headscarf and student: nan\n",
      "Validation Disparity for has_headscarf and soldier: nan\n",
      "Validation Disparity for has_headscarf and cheerleader: nan\n",
      "Validation Disparity for has_headscarf and flutist: nan\n",
      "Validation Disparity for has_headscarf and runner: -0.3125\n",
      "Validation Disparity for has_headscarf and retailer: nan\n",
      "Validation Disparity for has_headscarf and machinist: nan\n",
      "Validation Disparity for has_headscarf and reporter: nan\n",
      "Validation Disparity for has_headscarf and horseman: nan\n",
      "Validation Disparity for has_headscarf and tennis_player: nan\n",
      "Validation Disparity for has_headscarf and computer_user: -0.3021\n",
      "Validation Disparity for has_headscarf and carpenter: nan\n",
      "Validation Disparity for has_headscarf and seller: -0.3359\n",
      "Validation Disparity for has_headscarf and skateboarder: -0.2812\n",
      "Validation Disparity for has_headscarf and gardener: -0.2812\n",
      "Validation Disparity for has_headscarf and waiter: -0.2760\n",
      "Validation Disparity for has_headscarf and prayer: -0.3132\n",
      "Validation Disparity for has_headscarf and ballplayer: nan\n",
      "Validation Disparity for has_headscarf and sculptor: nan\n",
      "Validation Disparity for has_headscarf and teacher: -0.2812\n",
      "Validation Disparity for has_headscarf and electrician: nan\n",
      "Validation Disparity for has_headscarf and hairdresser: nan\n",
      "Validation Disparity for has_headscarf and judge: nan\n",
      "Validation Disparity for has_headscarf and trumpeter: nan\n",
      "Validation Disparity for has_headscarf and bartender: nan\n",
      "Validation Disparity for has_eyeware and gymnast: nan\n",
      "Validation Disparity for has_eyeware and boatman: -0.3648\n",
      "Validation Disparity for has_eyeware and lifeguard: -0.2827\n",
      "Validation Disparity for has_eyeware and backpacker: -0.3371\n",
      "Validation Disparity for has_eyeware and lawman: -0.2920\n",
      "Validation Disparity for has_eyeware and dancer: nan\n",
      "Validation Disparity for has_eyeware and laborer: -0.2960\n",
      "Validation Disparity for has_eyeware and patient: -0.3229\n",
      "Validation Disparity for has_eyeware and basketball_player: nan\n",
      "Validation Disparity for has_eyeware and nurse: -0.3021\n",
      "Validation Disparity for has_eyeware and singer: -0.3220\n",
      "Validation Disparity for has_eyeware and motorcyclist: -0.3551\n",
      "Validation Disparity for has_eyeware and astronaut: -0.2708\n",
      "Validation Disparity for has_eyeware and fireman: -0.2839\n",
      "Validation Disparity for has_eyeware and referee: -0.3177\n",
      "Validation Disparity for has_eyeware and speaker: -0.3179\n",
      "Validation Disparity for has_eyeware and guitarist: -0.3030\n",
      "Validation Disparity for has_eyeware and repairman: -0.3047\n",
      "Validation Disparity for has_eyeware and craftsman: -0.3302\n",
      "Validation Disparity for has_eyeware and guard: -0.3021\n",
      "Validation Disparity for has_eyeware and painter: -0.2995\n",
      "Validation Disparity for has_eyeware and doctor: -0.3071\n",
      "Validation Disparity for has_eyeware and farmer: -0.2708\n",
      "Validation Disparity for has_eyeware and drummer: -0.3346\n",
      "Validation Disparity for has_eyeware and climber: -0.3333\n",
      "Validation Disparity for has_eyeware and disk_jockey: nan\n",
      "Validation Disparity for has_eyeware and soccer_player: nan\n",
      "Validation Disparity for has_eyeware and student: nan\n",
      "Validation Disparity for has_eyeware and soldier: -0.2500\n",
      "Validation Disparity for has_eyeware and cheerleader: nan\n",
      "Validation Disparity for has_eyeware and flutist: nan\n",
      "Validation Disparity for has_eyeware and runner: -0.2867\n",
      "Validation Disparity for has_eyeware and retailer: -0.3021\n",
      "Validation Disparity for has_eyeware and machinist: -0.3698\n",
      "Validation Disparity for has_eyeware and reporter: -0.3003\n",
      "Validation Disparity for has_eyeware and horseman: -0.3008\n",
      "Validation Disparity for has_eyeware and tennis_player: -0.3021\n",
      "Validation Disparity for has_eyeware and computer_user: -0.3073\n",
      "Validation Disparity for has_eyeware and carpenter: nan\n",
      "Validation Disparity for has_eyeware and seller: -0.3125\n",
      "Validation Disparity for has_eyeware and skateboarder: -0.2969\n",
      "Validation Disparity for has_eyeware and gardener: nan\n",
      "Validation Disparity for has_eyeware and waiter: -0.2760\n",
      "Validation Disparity for has_eyeware and prayer: -0.2882\n",
      "Validation Disparity for has_eyeware and ballplayer: nan\n",
      "Validation Disparity for has_eyeware and sculptor: -0.3194\n",
      "Validation Disparity for has_eyeware and teacher: -0.3021\n",
      "Validation Disparity for has_eyeware and electrician: nan\n",
      "Validation Disparity for has_eyeware and hairdresser: -0.3290\n",
      "Validation Disparity for has_eyeware and judge: nan\n",
      "Validation Disparity for has_eyeware and trumpeter: -0.3229\n",
      "Validation Disparity for has_eyeware and bartender: nan\n",
      "Validation Disparity for visible_torso and gymnast: -0.3163\n",
      "Validation Disparity for visible_torso and boatman: -0.3293\n",
      "Validation Disparity for visible_torso and lifeguard: -0.3183\n",
      "Validation Disparity for visible_torso and backpacker: -0.3074\n",
      "Validation Disparity for visible_torso and lawman: -0.2997\n",
      "Validation Disparity for visible_torso and dancer: -0.3076\n",
      "Validation Disparity for visible_torso and laborer: -0.3105\n",
      "Validation Disparity for visible_torso and patient: -0.3119\n",
      "Validation Disparity for visible_torso and basketball_player: -0.3244\n",
      "Validation Disparity for visible_torso and nurse: -0.3032\n",
      "Validation Disparity for visible_torso and singer: -0.3269\n",
      "Validation Disparity for visible_torso and motorcyclist: -0.3125\n",
      "Validation Disparity for visible_torso and astronaut: -0.2995\n",
      "Validation Disparity for visible_torso and fireman: -0.3075\n",
      "Validation Disparity for visible_torso and referee: -0.3071\n",
      "Validation Disparity for visible_torso and speaker: -0.3149\n",
      "Validation Disparity for visible_torso and guitarist: -0.2941\n",
      "Validation Disparity for visible_torso and repairman: -0.3135\n",
      "Validation Disparity for visible_torso and craftsman: -0.3279\n",
      "Validation Disparity for visible_torso and guard: -0.3125\n",
      "Validation Disparity for visible_torso and painter: -0.2966\n",
      "Validation Disparity for visible_torso and doctor: -0.3037\n",
      "Validation Disparity for visible_torso and farmer: -0.2994\n",
      "Validation Disparity for visible_torso and drummer: -0.3186\n",
      "Validation Disparity for visible_torso and climber: -0.3105\n",
      "Validation Disparity for visible_torso and disk_jockey: -0.3359\n",
      "Validation Disparity for visible_torso and soccer_player: -0.3164\n",
      "Validation Disparity for visible_torso and student: -0.3093\n",
      "Validation Disparity for visible_torso and soldier: -0.2981\n",
      "Validation Disparity for visible_torso and cheerleader: -0.2840\n",
      "Validation Disparity for visible_torso and flutist: -0.2801\n",
      "Validation Disparity for visible_torso and runner: -0.3019\n",
      "Validation Disparity for visible_torso and retailer: -0.3141\n",
      "Validation Disparity for visible_torso and machinist: -0.3055\n",
      "Validation Disparity for visible_torso and reporter: -0.3214\n",
      "Validation Disparity for visible_torso and horseman: -0.2997\n",
      "Validation Disparity for visible_torso and tennis_player: -0.2962\n",
      "Validation Disparity for visible_torso and computer_user: -0.3174\n",
      "Validation Disparity for visible_torso and carpenter: nan\n",
      "Validation Disparity for visible_torso and seller: -0.3048\n",
      "Validation Disparity for visible_torso and skateboarder: -0.3132\n",
      "Validation Disparity for visible_torso and gardener: -0.3270\n",
      "Validation Disparity for visible_torso and waiter: -0.2980\n",
      "Validation Disparity for visible_torso and prayer: -0.3110\n",
      "Validation Disparity for visible_torso and ballplayer: -0.3162\n",
      "Validation Disparity for visible_torso and sculptor: -0.3254\n",
      "Validation Disparity for visible_torso and teacher: -0.3136\n",
      "Validation Disparity for visible_torso and electrician: -0.3047\n",
      "Validation Disparity for visible_torso and hairdresser: -0.3084\n",
      "Validation Disparity for visible_torso and judge: -0.3177\n",
      "Validation Disparity for visible_torso and trumpeter: -0.3135\n",
      "Validation Disparity for visible_torso and bartender: nan\n",
      "Validation Disparity for visible_face and gymnast: -0.3214\n",
      "Validation Disparity for visible_face and boatman: -0.3236\n",
      "Validation Disparity for visible_face and lifeguard: -0.2986\n",
      "Validation Disparity for visible_face and backpacker: -0.3189\n",
      "Validation Disparity for visible_face and lawman: -0.3051\n",
      "Validation Disparity for visible_face and dancer: -0.2865\n",
      "Validation Disparity for visible_face and laborer: -0.2955\n",
      "Validation Disparity for visible_face and patient: -0.3006\n",
      "Validation Disparity for visible_face and basketball_player: -0.3384\n",
      "Validation Disparity for visible_face and nurse: -0.2939\n",
      "Validation Disparity for visible_face and singer: -0.3071\n",
      "Validation Disparity for visible_face and motorcyclist: -0.3255\n",
      "Validation Disparity for visible_face and astronaut: -0.3073\n",
      "Validation Disparity for visible_face and fireman: -0.3003\n",
      "Validation Disparity for visible_face and referee: -0.3109\n",
      "Validation Disparity for visible_face and speaker: -0.3241\n",
      "Validation Disparity for visible_face and guitarist: -0.3118\n",
      "Validation Disparity for visible_face and repairman: -0.3490\n",
      "Validation Disparity for visible_face and craftsman: -0.3320\n",
      "Validation Disparity for visible_face and guard: -0.3176\n",
      "Validation Disparity for visible_face and painter: -0.2944\n",
      "Validation Disparity for visible_face and doctor: -0.2949\n",
      "Validation Disparity for visible_face and farmer: -0.2917\n",
      "Validation Disparity for visible_face and drummer: -0.3285\n",
      "Validation Disparity for visible_face and climber: -0.3073\n",
      "Validation Disparity for visible_face and disk_jockey: -0.3385\n",
      "Validation Disparity for visible_face and soccer_player: -0.2867\n",
      "Validation Disparity for visible_face and student: -0.3021\n",
      "Validation Disparity for visible_face and soldier: -0.3021\n",
      "Validation Disparity for visible_face and cheerleader: -0.2917\n",
      "Validation Disparity for visible_face and flutist: -0.2552\n",
      "Validation Disparity for visible_face and runner: -0.2980\n",
      "Validation Disparity for visible_face and retailer: -0.2917\n",
      "Validation Disparity for visible_face and machinist: -0.3385\n",
      "Validation Disparity for visible_face and reporter: -0.2886\n",
      "Validation Disparity for visible_face and horseman: -0.2738\n",
      "Validation Disparity for visible_face and tennis_player: -0.3068\n",
      "Validation Disparity for visible_face and computer_user: -0.3237\n",
      "Validation Disparity for visible_face and carpenter: -0.3646\n",
      "Validation Disparity for visible_face and seller: -0.3229\n",
      "Validation Disparity for visible_face and skateboarder: -0.3190\n",
      "Validation Disparity for visible_face and gardener: -0.3250\n",
      "Validation Disparity for visible_face and waiter: -0.2760\n",
      "Validation Disparity for visible_face and prayer: -0.3166\n",
      "Validation Disparity for visible_face and ballplayer: -0.3203\n",
      "Validation Disparity for visible_face and sculptor: -0.3420\n",
      "Validation Disparity for visible_face and teacher: -0.3070\n",
      "Validation Disparity for visible_face and electrician: nan\n",
      "Validation Disparity for visible_face and hairdresser: -0.3099\n",
      "Validation Disparity for visible_face and judge: -0.3125\n",
      "Validation Disparity for visible_face and trumpeter: -0.3229\n",
      "Validation Disparity for visible_face and bartender: nan\n",
      "Validation Disparity for visible_minimal and gymnast: nan\n",
      "Validation Disparity for visible_minimal and boatman: -0.3203\n",
      "Validation Disparity for visible_minimal and lifeguard: -0.3385\n",
      "Validation Disparity for visible_minimal and backpacker: -0.2943\n",
      "Validation Disparity for visible_minimal and lawman: -0.3193\n",
      "Validation Disparity for visible_minimal and dancer: -0.2887\n",
      "Validation Disparity for visible_minimal and laborer: -0.3229\n",
      "Validation Disparity for visible_minimal and patient: -0.3083\n",
      "Validation Disparity for visible_minimal and basketball_player: -0.3160\n",
      "Validation Disparity for visible_minimal and nurse: -0.3184\n",
      "Validation Disparity for visible_minimal and singer: -0.3333\n",
      "Validation Disparity for visible_minimal and motorcyclist: -0.3106\n",
      "Validation Disparity for visible_minimal and astronaut: -0.2708\n",
      "Validation Disparity for visible_minimal and fireman: nan\n",
      "Validation Disparity for visible_minimal and referee: -0.3438\n",
      "Validation Disparity for visible_minimal and speaker: nan\n",
      "Validation Disparity for visible_minimal and guitarist: -0.2961\n",
      "Validation Disparity for visible_minimal and repairman: -0.2986\n",
      "Validation Disparity for visible_minimal and craftsman: -0.3076\n",
      "Validation Disparity for visible_minimal and guard: -0.3047\n",
      "Validation Disparity for visible_minimal and painter: -0.3142\n",
      "Validation Disparity for visible_minimal and doctor: -0.3359\n",
      "Validation Disparity for visible_minimal and farmer: -0.3294\n",
      "Validation Disparity for visible_minimal and drummer: -0.2865\n",
      "Validation Disparity for visible_minimal and climber: nan\n",
      "Validation Disparity for visible_minimal and disk_jockey: -0.3385\n",
      "Validation Disparity for visible_minimal and soccer_player: -0.3333\n",
      "Validation Disparity for visible_minimal and student: -0.3646\n",
      "Validation Disparity for visible_minimal and soldier: -0.2882\n",
      "Validation Disparity for visible_minimal and cheerleader: -0.2760\n",
      "Validation Disparity for visible_minimal and flutist: nan\n",
      "Validation Disparity for visible_minimal and runner: -0.3180\n",
      "Validation Disparity for visible_minimal and retailer: -0.2656\n",
      "Validation Disparity for visible_minimal and machinist: -0.3281\n",
      "Validation Disparity for visible_minimal and reporter: -0.3151\n",
      "Validation Disparity for visible_minimal and horseman: -0.3385\n",
      "Validation Disparity for visible_minimal and tennis_player: -0.3229\n",
      "Validation Disparity for visible_minimal and computer_user: -0.3231\n",
      "Validation Disparity for visible_minimal and carpenter: -0.3646\n",
      "Validation Disparity for visible_minimal and seller: -0.3070\n",
      "Validation Disparity for visible_minimal and skateboarder: nan\n",
      "Validation Disparity for visible_minimal and gardener: -0.3385\n",
      "Validation Disparity for visible_minimal and waiter: nan\n",
      "Validation Disparity for visible_minimal and prayer: -0.3125\n",
      "Validation Disparity for visible_minimal and ballplayer: -0.3212\n",
      "Validation Disparity for visible_minimal and sculptor: nan\n",
      "Validation Disparity for visible_minimal and teacher: -0.2969\n",
      "Validation Disparity for visible_minimal and electrician: -0.3021\n",
      "Validation Disparity for visible_minimal and hairdresser: nan\n",
      "Validation Disparity for visible_minimal and judge: -0.3304\n",
      "Validation Disparity for visible_minimal and trumpeter: -0.2691\n",
      "Validation Disparity for visible_minimal and bartender: nan\n",
      "Validation Disparity for lighting_underexposed and gymnast: nan\n",
      "Validation Disparity for lighting_underexposed and boatman: nan\n",
      "Validation Disparity for lighting_underexposed and lifeguard: -0.3333\n",
      "Validation Disparity for lighting_underexposed and backpacker: -0.2969\n",
      "Validation Disparity for lighting_underexposed and lawman: -0.3030\n",
      "Validation Disparity for lighting_underexposed and dancer: -0.3364\n",
      "Validation Disparity for lighting_underexposed and laborer: -0.3073\n",
      "Validation Disparity for lighting_underexposed and patient: -0.2986\n",
      "Validation Disparity for lighting_underexposed and basketball_player: -0.3021\n",
      "Validation Disparity for lighting_underexposed and nurse: nan\n",
      "Validation Disparity for lighting_underexposed and singer: -0.3385\n",
      "Validation Disparity for lighting_underexposed and motorcyclist: nan\n",
      "Validation Disparity for lighting_underexposed and astronaut: nan\n",
      "Validation Disparity for lighting_underexposed and fireman: nan\n",
      "Validation Disparity for lighting_underexposed and referee: nan\n",
      "Validation Disparity for lighting_underexposed and speaker: nan\n",
      "Validation Disparity for lighting_underexposed and guitarist: -0.3242\n",
      "Validation Disparity for lighting_underexposed and repairman: -0.2812\n",
      "Validation Disparity for lighting_underexposed and craftsman: nan\n",
      "Validation Disparity for lighting_underexposed and guard: nan\n",
      "Validation Disparity for lighting_underexposed and painter: nan\n",
      "Validation Disparity for lighting_underexposed and doctor: nan\n",
      "Validation Disparity for lighting_underexposed and farmer: -0.3333\n",
      "Validation Disparity for lighting_underexposed and drummer: -0.2969\n",
      "Validation Disparity for lighting_underexposed and climber: nan\n",
      "Validation Disparity for lighting_underexposed and disk_jockey: -0.3151\n",
      "Validation Disparity for lighting_underexposed and soccer_player: -0.3307\n",
      "Validation Disparity for lighting_underexposed and student: nan\n",
      "Validation Disparity for lighting_underexposed and soldier: -0.3021\n",
      "Validation Disparity for lighting_underexposed and cheerleader: nan\n",
      "Validation Disparity for lighting_underexposed and flutist: nan\n",
      "Validation Disparity for lighting_underexposed and runner: -0.2812\n",
      "Validation Disparity for lighting_underexposed and retailer: nan\n",
      "Validation Disparity for lighting_underexposed and machinist: nan\n",
      "Validation Disparity for lighting_underexposed and reporter: -0.3594\n",
      "Validation Disparity for lighting_underexposed and horseman: -0.2500\n",
      "Validation Disparity for lighting_underexposed and tennis_player: nan\n",
      "Validation Disparity for lighting_underexposed and computer_user: nan\n",
      "Validation Disparity for lighting_underexposed and carpenter: nan\n",
      "Validation Disparity for lighting_underexposed and seller: nan\n",
      "Validation Disparity for lighting_underexposed and skateboarder: nan\n",
      "Validation Disparity for lighting_underexposed and gardener: nan\n",
      "Validation Disparity for lighting_underexposed and waiter: nan\n",
      "Validation Disparity for lighting_underexposed and prayer: nan\n",
      "Validation Disparity for lighting_underexposed and ballplayer: nan\n",
      "Validation Disparity for lighting_underexposed and sculptor: -0.3073\n",
      "Validation Disparity for lighting_underexposed and teacher: nan\n",
      "Validation Disparity for lighting_underexposed and electrician: nan\n",
      "Validation Disparity for lighting_underexposed and hairdresser: nan\n",
      "Validation Disparity for lighting_underexposed and judge: -0.3125\n",
      "Validation Disparity for lighting_underexposed and trumpeter: nan\n",
      "Validation Disparity for lighting_underexposed and bartender: nan\n",
      "Validation Disparity for lighting_dimly_lit and gymnast: -0.3542\n",
      "Validation Disparity for lighting_dimly_lit and boatman: -0.3229\n",
      "Validation Disparity for lighting_dimly_lit and lifeguard: -0.2656\n",
      "Validation Disparity for lighting_dimly_lit and backpacker: -0.3153\n",
      "Validation Disparity for lighting_dimly_lit and lawman: -0.3150\n",
      "Validation Disparity for lighting_dimly_lit and dancer: -0.2926\n",
      "Validation Disparity for lighting_dimly_lit and laborer: -0.3125\n",
      "Validation Disparity for lighting_dimly_lit and patient: -0.3153\n",
      "Validation Disparity for lighting_dimly_lit and basketball_player: -0.3317\n",
      "Validation Disparity for lighting_dimly_lit and nurse: -0.3116\n",
      "Validation Disparity for lighting_dimly_lit and singer: -0.3147\n",
      "Validation Disparity for lighting_dimly_lit and motorcyclist: -0.3117\n",
      "Validation Disparity for lighting_dimly_lit and astronaut: -0.2969\n",
      "Validation Disparity for lighting_dimly_lit and fireman: -0.2812\n",
      "Validation Disparity for lighting_dimly_lit and referee: -0.3057\n",
      "Validation Disparity for lighting_dimly_lit and speaker: -0.3438\n",
      "Validation Disparity for lighting_dimly_lit and guitarist: -0.3177\n",
      "Validation Disparity for lighting_dimly_lit and repairman: -0.3125\n",
      "Validation Disparity for lighting_dimly_lit and craftsman: -0.3258\n",
      "Validation Disparity for lighting_dimly_lit and guard: -0.3125\n",
      "Validation Disparity for lighting_dimly_lit and painter: -0.2448\n",
      "Validation Disparity for lighting_dimly_lit and doctor: -0.3105\n",
      "Validation Disparity for lighting_dimly_lit and farmer: -0.2992\n",
      "Validation Disparity for lighting_dimly_lit and drummer: -0.2917\n",
      "Validation Disparity for lighting_dimly_lit and climber: nan\n",
      "Validation Disparity for lighting_dimly_lit and disk_jockey: -0.3665\n",
      "Validation Disparity for lighting_dimly_lit and soccer_player: -0.3220\n",
      "Validation Disparity for lighting_dimly_lit and student: -0.2969\n",
      "Validation Disparity for lighting_dimly_lit and soldier: -0.2998\n",
      "Validation Disparity for lighting_dimly_lit and cheerleader: -0.2917\n",
      "Validation Disparity for lighting_dimly_lit and flutist: -0.2760\n",
      "Validation Disparity for lighting_dimly_lit and runner: -0.3099\n",
      "Validation Disparity for lighting_dimly_lit and retailer: -0.2969\n",
      "Validation Disparity for lighting_dimly_lit and machinist: -0.3455\n",
      "Validation Disparity for lighting_dimly_lit and reporter: -0.3108\n",
      "Validation Disparity for lighting_dimly_lit and horseman: -0.3368\n",
      "Validation Disparity for lighting_dimly_lit and tennis_player: -0.2980\n",
      "Validation Disparity for lighting_dimly_lit and computer_user: -0.3171\n",
      "Validation Disparity for lighting_dimly_lit and carpenter: nan\n",
      "Validation Disparity for lighting_dimly_lit and seller: -0.3042\n",
      "Validation Disparity for lighting_dimly_lit and skateboarder: -0.3013\n",
      "Validation Disparity for lighting_dimly_lit and gardener: -0.3125\n",
      "Validation Disparity for lighting_dimly_lit and waiter: -0.2841\n",
      "Validation Disparity for lighting_dimly_lit and prayer: -0.3060\n",
      "Validation Disparity for lighting_dimly_lit and ballplayer: -0.3430\n",
      "Validation Disparity for lighting_dimly_lit and sculptor: -0.3237\n",
      "Validation Disparity for lighting_dimly_lit and teacher: -0.2969\n",
      "Validation Disparity for lighting_dimly_lit and electrician: nan\n",
      "Validation Disparity for lighting_dimly_lit and hairdresser: -0.3021\n",
      "Validation Disparity for lighting_dimly_lit and judge: -0.2917\n",
      "Validation Disparity for lighting_dimly_lit and trumpeter: nan\n",
      "Validation Disparity for lighting_dimly_lit and bartender: nan\n",
      "Validation Disparity for lighting_well_lit and gymnast: -0.3038\n",
      "Validation Disparity for lighting_well_lit and boatman: -0.3328\n",
      "Validation Disparity for lighting_well_lit and lifeguard: -0.3168\n",
      "Validation Disparity for lighting_well_lit and backpacker: -0.3032\n",
      "Validation Disparity for lighting_well_lit and lawman: -0.2980\n",
      "Validation Disparity for lighting_well_lit and dancer: -0.2972\n",
      "Validation Disparity for lighting_well_lit and laborer: -0.3089\n",
      "Validation Disparity for lighting_well_lit and patient: -0.2868\n",
      "Validation Disparity for lighting_well_lit and basketball_player: -0.3210\n",
      "Validation Disparity for lighting_well_lit and nurse: -0.2872\n",
      "Validation Disparity for lighting_well_lit and singer: -0.3211\n",
      "Validation Disparity for lighting_well_lit and motorcyclist: -0.3015\n",
      "Validation Disparity for lighting_well_lit and astronaut: -0.3182\n",
      "Validation Disparity for lighting_well_lit and fireman: -0.3103\n",
      "Validation Disparity for lighting_well_lit and referee: -0.3008\n",
      "Validation Disparity for lighting_well_lit and speaker: -0.3059\n",
      "Validation Disparity for lighting_well_lit and guitarist: -0.3134\n",
      "Validation Disparity for lighting_well_lit and repairman: -0.3075\n",
      "Validation Disparity for lighting_well_lit and craftsman: -0.3288\n",
      "Validation Disparity for lighting_well_lit and guard: -0.3067\n",
      "Validation Disparity for lighting_well_lit and painter: -0.3021\n",
      "Validation Disparity for lighting_well_lit and doctor: -0.2956\n",
      "Validation Disparity for lighting_well_lit and farmer: -0.3018\n",
      "Validation Disparity for lighting_well_lit and drummer: -0.3194\n",
      "Validation Disparity for lighting_well_lit and climber: -0.3105\n",
      "Validation Disparity for lighting_well_lit and disk_jockey: -0.3665\n",
      "Validation Disparity for lighting_well_lit and soccer_player: -0.3194\n",
      "Validation Disparity for lighting_well_lit and student: -0.3059\n",
      "Validation Disparity for lighting_well_lit and soldier: -0.2991\n",
      "Validation Disparity for lighting_well_lit and cheerleader: -0.2757\n",
      "Validation Disparity for lighting_well_lit and flutist: -0.2743\n",
      "Validation Disparity for lighting_well_lit and runner: -0.2981\n",
      "Validation Disparity for lighting_well_lit and retailer: -0.2989\n",
      "Validation Disparity for lighting_well_lit and machinist: -0.3030\n",
      "Validation Disparity for lighting_well_lit and reporter: -0.2927\n",
      "Validation Disparity for lighting_well_lit and horseman: -0.3106\n",
      "Validation Disparity for lighting_well_lit and tennis_player: -0.3067\n",
      "Validation Disparity for lighting_well_lit and computer_user: -0.3300\n",
      "Validation Disparity for lighting_well_lit and carpenter: -0.3646\n",
      "Validation Disparity for lighting_well_lit and seller: -0.3125\n",
      "Validation Disparity for lighting_well_lit and skateboarder: -0.3142\n",
      "Validation Disparity for lighting_well_lit and gardener: -0.3290\n",
      "Validation Disparity for lighting_well_lit and waiter: -0.2867\n",
      "Validation Disparity for lighting_well_lit and prayer: -0.3150\n",
      "Validation Disparity for lighting_well_lit and ballplayer: -0.3135\n",
      "Validation Disparity for lighting_well_lit and sculptor: -0.3239\n",
      "Validation Disparity for lighting_well_lit and teacher: -0.3153\n",
      "Validation Disparity for lighting_well_lit and electrician: -0.3038\n",
      "Validation Disparity for lighting_well_lit and hairdresser: -0.3093\n",
      "Validation Disparity for lighting_well_lit and judge: -0.3177\n",
      "Validation Disparity for lighting_well_lit and trumpeter: -0.2906\n",
      "Validation Disparity for lighting_well_lit and bartender: nan\n",
      "Validation Disparity for lighting_na and gymnast: nan\n",
      "Validation Disparity for lighting_na and boatman: -0.3438\n",
      "Validation Disparity for lighting_na and lifeguard: nan\n",
      "Validation Disparity for lighting_na and backpacker: -0.3333\n",
      "Validation Disparity for lighting_na and lawman: nan\n",
      "Validation Disparity for lighting_na and dancer: nan\n",
      "Validation Disparity for lighting_na and laborer: nan\n",
      "Validation Disparity for lighting_na and patient: nan\n",
      "Validation Disparity for lighting_na and basketball_player: nan\n",
      "Validation Disparity for lighting_na and nurse: -0.3385\n",
      "Validation Disparity for lighting_na and singer: -0.2760\n",
      "Validation Disparity for lighting_na and motorcyclist: -0.2865\n",
      "Validation Disparity for lighting_na and astronaut: nan\n",
      "Validation Disparity for lighting_na and fireman: -0.3229\n",
      "Validation Disparity for lighting_na and referee: nan\n",
      "Validation Disparity for lighting_na and speaker: -0.2917\n",
      "Validation Disparity for lighting_na and guitarist: nan\n",
      "Validation Disparity for lighting_na and repairman: -0.2760\n",
      "Validation Disparity for lighting_na and craftsman: nan\n",
      "Validation Disparity for lighting_na and guard: nan\n",
      "Validation Disparity for lighting_na and painter: nan\n",
      "Validation Disparity for lighting_na and doctor: nan\n",
      "Validation Disparity for lighting_na and farmer: -0.2708\n",
      "Validation Disparity for lighting_na and drummer: nan\n",
      "Validation Disparity for lighting_na and climber: nan\n",
      "Validation Disparity for lighting_na and disk_jockey: nan\n",
      "Validation Disparity for lighting_na and soccer_player: -0.2656\n",
      "Validation Disparity for lighting_na and student: nan\n",
      "Validation Disparity for lighting_na and soldier: -0.3099\n",
      "Validation Disparity for lighting_na and cheerleader: nan\n",
      "Validation Disparity for lighting_na and flutist: nan\n",
      "Validation Disparity for lighting_na and runner: -0.3490\n",
      "Validation Disparity for lighting_na and retailer: nan\n",
      "Validation Disparity for lighting_na and machinist: nan\n",
      "Validation Disparity for lighting_na and reporter: nan\n",
      "Validation Disparity for lighting_na and horseman: nan\n",
      "Validation Disparity for lighting_na and tennis_player: nan\n",
      "Validation Disparity for lighting_na and computer_user: nan\n",
      "Validation Disparity for lighting_na and carpenter: nan\n",
      "Validation Disparity for lighting_na and seller: nan\n",
      "Validation Disparity for lighting_na and skateboarder: nan\n",
      "Validation Disparity for lighting_na and gardener: nan\n",
      "Validation Disparity for lighting_na and waiter: nan\n",
      "Validation Disparity for lighting_na and prayer: nan\n",
      "Validation Disparity for lighting_na and ballplayer: nan\n",
      "Validation Disparity for lighting_na and sculptor: nan\n",
      "Validation Disparity for lighting_na and teacher: nan\n",
      "Validation Disparity for lighting_na and electrician: nan\n",
      "Validation Disparity for lighting_na and hairdresser: nan\n",
      "Validation Disparity for lighting_na and judge: nan\n",
      "Validation Disparity for lighting_na and trumpeter: nan\n",
      "Validation Disparity for lighting_na and bartender: nan\n",
      "Validation Disparity for lighting_overexposed and gymnast: nan\n",
      "Validation Disparity for lighting_overexposed and boatman: -0.3177\n",
      "Validation Disparity for lighting_overexposed and lifeguard: nan\n",
      "Validation Disparity for lighting_overexposed and backpacker: -0.3698\n",
      "Validation Disparity for lighting_overexposed and lawman: -0.2865\n",
      "Validation Disparity for lighting_overexposed and dancer: -0.2708\n",
      "Validation Disparity for lighting_overexposed and laborer: -0.3698\n",
      "Validation Disparity for lighting_overexposed and patient: nan\n",
      "Validation Disparity for lighting_overexposed and basketball_player: nan\n",
      "Validation Disparity for lighting_overexposed and nurse: -0.3177\n",
      "Validation Disparity for lighting_overexposed and singer: nan\n",
      "Validation Disparity for lighting_overexposed and motorcyclist: nan\n",
      "Validation Disparity for lighting_overexposed and astronaut: nan\n",
      "Validation Disparity for lighting_overexposed and fireman: -0.3385\n",
      "Validation Disparity for lighting_overexposed and referee: -0.3151\n",
      "Validation Disparity for lighting_overexposed and speaker: -0.3229\n",
      "Validation Disparity for lighting_overexposed and guitarist: -0.2656\n",
      "Validation Disparity for lighting_overexposed and repairman: -0.3177\n",
      "Validation Disparity for lighting_overexposed and craftsman: nan\n",
      "Validation Disparity for lighting_overexposed and guard: -0.3385\n",
      "Validation Disparity for lighting_overexposed and painter: nan\n",
      "Validation Disparity for lighting_overexposed and doctor: nan\n",
      "Validation Disparity for lighting_overexposed and farmer: nan\n",
      "Validation Disparity for lighting_overexposed and drummer: nan\n",
      "Validation Disparity for lighting_overexposed and climber: nan\n",
      "Validation Disparity for lighting_overexposed and disk_jockey: nan\n",
      "Validation Disparity for lighting_overexposed and soccer_player: nan\n",
      "Validation Disparity for lighting_overexposed and student: nan\n",
      "Validation Disparity for lighting_overexposed and soldier: nan\n",
      "Validation Disparity for lighting_overexposed and cheerleader: nan\n",
      "Validation Disparity for lighting_overexposed and flutist: nan\n",
      "Validation Disparity for lighting_overexposed and runner: nan\n",
      "Validation Disparity for lighting_overexposed and retailer: nan\n",
      "Validation Disparity for lighting_overexposed and machinist: nan\n",
      "Validation Disparity for lighting_overexposed and reporter: nan\n",
      "Validation Disparity for lighting_overexposed and horseman: nan\n",
      "Validation Disparity for lighting_overexposed and tennis_player: nan\n",
      "Validation Disparity for lighting_overexposed and computer_user: nan\n",
      "Validation Disparity for lighting_overexposed and carpenter: nan\n",
      "Validation Disparity for lighting_overexposed and seller: nan\n",
      "Validation Disparity for lighting_overexposed and skateboarder: nan\n",
      "Validation Disparity for lighting_overexposed and gardener: -0.2812\n",
      "Validation Disparity for lighting_overexposed and waiter: nan\n",
      "Validation Disparity for lighting_overexposed and prayer: nan\n",
      "Validation Disparity for lighting_overexposed and ballplayer: nan\n",
      "Validation Disparity for lighting_overexposed and sculptor: -0.3333\n",
      "Validation Disparity for lighting_overexposed and teacher: nan\n",
      "Validation Disparity for lighting_overexposed and electrician: nan\n",
      "Validation Disparity for lighting_overexposed and hairdresser: nan\n",
      "Validation Disparity for lighting_overexposed and judge: nan\n",
      "Validation Disparity for lighting_overexposed and trumpeter: nan\n",
      "Validation Disparity for lighting_overexposed and bartender: nan\n"
     ]
    }
   ],
   "source": [
    "# Validation\n",
    "student_model.eval()\n",
    "teacher_model.eval()\n",
    "val_loss_student = 0.0\n",
    "val_predictions_student = []\n",
    "val_targets_student = []\n",
    "\n",
    "val_loss_teacher = 0.0\n",
    "val_predictions_teacher = []\n",
    "val_targets_teacher = []\n",
    "\n",
    "start_time = time.time()\n",
    "\n",
    "with torch.no_grad():\n",
    "    for images, labels, annotations in val_loader:\n",
    "        images, labels = images.to(device), labels.to(device)\n",
    "        # Forward pass\n",
    "        student_outputs = student_model(images)\n",
    "        teacher_outputs = teacher_model(images)\n",
    "\n",
    "        # Calculate cross-entropy loss for validation\n",
    "        student_loss = criterion_teacher(student_outputs, labels)\n",
    "        teacher_loss = criterion_teacher(teacher_outputs, labels)\n",
    "\n",
    "        val_loss_student += student_loss.item()\n",
    "        val_loss_teacher += teacher_loss.item()\n",
    "\n",
    "        # Store predictions and ground truth labels for metrics\n",
    "        val_predictions_student.extend(torch.argmax(student_outputs, dim=1).cpu().numpy())\n",
    "        val_predictions_teacher.extend(torch.argmax(teacher_outputs, dim=1).cpu().numpy())\n",
    "\n",
    "        val_targets_student.extend(labels.cpu().numpy())\n",
    "        val_targets_teacher.extend(labels.cpu().numpy())\n",
    "\n",
    "end_time = time.time()  # End time measurement\n",
    "inference_time_student = (end_time - start_time) / len(val_loader)\n",
    "inference_time_teacher = (end_time - start_time) / len(val_loader)\n",
    "\n",
    "val_disparity_values = calculate_disparity(teacher_recall_values, student_recall_values)\n",
    "\n",
    "# Calculate the average disparity\n",
    "avg_disparity = np.mean(\n",
    "    [value for attr_dict in val_disparity_values.values()\n",
    "     for concept_dict in attr_dict.values()\n",
    "     for value in (concept_dict.values() if isinstance(concept_dict, dict) else [concept_dict])])\n",
    "\n",
    "\n",
    "# Calculate validation accuracy and recall\n",
    "val_accuracy_student = accuracy_score(val_targets_student, val_predictions_student)\n",
    "val_accuracy_teacher = accuracy_score(val_targets_teacher, val_predictions_teacher)\n",
    "val_recall_student = recall_score(val_targets_student, val_predictions_student, average='weighted')\n",
    "val_recall_teacher = recall_score(val_targets_teacher, val_predictions_teacher, average='weighted')\n",
    "val_precision_student = precision_score(val_targets_student, val_predictions_student, average='weighted')\n",
    "val_precision_teacher = precision_score(val_targets_teacher, val_predictions_teacher, average='weighted')\n",
    "val_f1_student = f1_score(val_targets_student, val_predictions_student, average='weighted')\n",
    "val_f1_teacher = f1_score(val_targets_teacher, val_predictions_teacher, average='weighted')\n",
    "\n",
    "# Get model size (number of parameters)\n",
    "model_size_student = sum(p.numel() for p in student_model.parameters())\n",
    "model_size_teacher = sum(p.numel() for p in teacher_model.parameters())\n",
    "\n",
    "val_metrics_teacher = calculate_metrics(val_targets_teacher, val_predictions_teacher)\n",
    "val_metrics_student = calculate_metrics(val_targets_student, val_predictions_student)\n",
    "  \n",
    "# Gather metrics in dictionaries for easier plotting\n",
    "teacher_metrics = {\n",
    "    'Accuracy': val_metrics_teacher[0],\n",
    "    'Precision': val_metrics_teacher[1],\n",
    "    'Recall': val_metrics_teacher[2],\n",
    "    'F1 Score': val_metrics_teacher[3],\n",
    "    'Disparity': avg_disparity,\n",
    "    'Model Size': model_size_teacher,\n",
    "    'Inference Time': inference_time_teacher\n",
    "}\n",
    "\n",
    "student_metrics = {\n",
    "    'Accuracy': val_metrics_student[0],\n",
    "    'Precision': val_metrics_student[1],\n",
    "    'Recall': val_metrics_student[2],\n",
    "    'F1 Score': val_metrics_student[3],\n",
    "    'Disparity': avg_disparity,\n",
    "    'Model Size': model_size_student,\n",
    "    'Inference Time': inference_time_student\n",
    "}\n",
    "\n",
    "# Define labels for plotting\n",
    "size_labels = ['Model Size']\n",
    "time_labels = ['Inference Time']\n",
    "other_labels = ['Accuracy', 'Precision', 'Recall', 'F1 Score', 'Disparity']  # Define labels for other metrics\n",
    "\n",
    "# Extract values for each type of metric\n",
    "size_teacher_values = [teacher_metrics['Model Size']]\n",
    "size_student_values = [student_metrics['Model Size']]\n",
    "\n",
    "time_teacher_values = [teacher_metrics['Inference Time']]\n",
    "time_student_values = [student_metrics['Inference Time']]\n",
    "\n",
    "other_teacher_values = [teacher_metrics[key] for key in other_labels]\n",
    "other_student_values = [student_metrics[key] for key in other_labels]\n",
    "\n",
    "# Print validation results for this epoch\n",
    "print(f'Epoch [{epoch+1}/{num_epochs}]'\n",
    "      f' Teacher Loss: {val_loss_teacher / len(val_loader):.4f}'\n",
    "      f' Teacher Accuracy: {val_accuracy_teacher:.4f}'\n",
    "      f' Teacher Recall: {val_recall_teacher:.4f}'\n",
    "      f' Student Loss: {val_loss_student / len(val_loader):.4f}'\n",
    "      f' Student Accuracy: {val_accuracy_student:.4f}'\n",
    "      f' Student Recall: {val_recall_student:.4f}')\n",
    "\n",
    "# Print disparity for validation\n",
    "for attr in attributes:\n",
    "    for concept in concepts:\n",
    "        # Handle potential missing values with a default of NaN or another value of your choice\n",
    "        print(f'Validation Disparity for {attr} and {concept}: {val_disparity_values.get(attr, {}).get(concept, np.nan):.4f}')\n"
   ]
  },
  {
   "cell_type": "code",
   "execution_count": 23,
   "id": "55d61927-0920-46d5-93f2-d9c8492d753a",
   "metadata": {},
   "outputs": [
    {
     "data": {
      "image/png": "[encoded data removed]",
      "text/plain": [
       "<Figure size 640x480 with 1 Axes>"
      ]
     },
     "metadata": {},
     "output_type": "display_data"
    },
    {
     "data": {
      "image/png": "[encoded data removed]",
      "text/plain": [
       "<Figure size 640x480 with 1 Axes>"
      ]
     },
     "metadata": {},
     "output_type": "display_data"
    },
    {
     "data": {
      "image/png": "[encoded data removed]",
      "text/plain": [
       "<Figure size 640x480 with 1 Axes>"
      ]
     },
     "metadata": {},
     "output_type": "display_data"
    },
    {
     "data": {
      "image/png": "[encoded data removed]",
      "text/plain": [
       "<Figure size 640x480 with 1 Axes>"
      ]
     },
     "metadata": {},
     "output_type": "display_data"
    }
   ],
   "source": [
    "def create_plot(labels, teacher_values, student_values, title):\n",
    "    x = np.arange(len(labels))\n",
    "    width = 0.35\n",
    "\n",
    "    fig, ax = plt.subplots()\n",
    "    rects1 = ax.bar(x - width/2, teacher_values, width, label='Teacher')\n",
    "    rects2 = ax.bar(x + width/2, student_values, width, label='Student')\n",
    "\n",
    "    ax.set_xlabel('Metrics')\n",
    "    ax.set_ylabel('Values')\n",
    "    ax.set_title(title)\n",
    "    ax.set_xticks(x)\n",
    "    ax.set_xticklabels(labels)\n",
    "    ax.legend()\n",
    "\n",
    "    fig.tight_layout()\n",
    "    plt.show()\n",
    "\n",
    "# Function to create a bar plot specifically for disparity\n",
    "def plot_disparity(title):\n",
    "    labels = ['Disparity']\n",
    "    x = np.arange(len(labels))\n",
    "    width = 0.35\n",
    "\n",
    "    fig, ax = plt.subplots()\n",
    "    rects1 = ax.bar(x - width/2, [teacher_metrics['Disparity']], width, label='Teacher')\n",
    "    rects2 = ax.bar(x + width/2, [student_metrics['Disparity']], width, label='Student')\n",
    "\n",
    "    ax.set_xlabel('Metrics')\n",
    "    ax.set_ylabel('Values')\n",
    "    ax.set_title(title)\n",
    "    ax.set_xticks(x)\n",
    "    ax.set_xticklabels(labels)\n",
    "    ax.legend()\n",
    "\n",
    "    fig.tight_layout()\n",
    "    plt.show()\n",
    "\n",
    "# Create plots\n",
    "create_plot(size_labels, size_teacher_values, size_student_values, 'Model Size Comparison')\n",
    "create_plot(time_labels, time_teacher_values, time_student_values, 'Inference Time Comparison')\n",
    "plot_disparity('Disparity Comparison')\n",
    "create_plot(other_labels[:-1], other_teacher_values[:-1], other_student_values[:-1], 'Other Metrics Comparison')  "
   ]
  },
  {
   "cell_type": "code",
   "execution_count": 24,
   "id": "a6c8a785",
   "metadata": {},
   "outputs": [],
   "source": [
    "torch.save(student_model.state_dict(), 'student_model.pth')\n",
    "torch.save(teacher_model.state_dict(), 'teacher_model.pth')"
   ]
  }
 ],
 "metadata": {
  "kernelspec": {
   "display_name": "Python 3 (ipykernel)",
   "language": "python",
   "name": "python3"
  },
  "language_info": {
   "codemirror_mode": {
    "name": "ipython",
    "version": 3
   },
   "file_extension": ".py",
   "mimetype": "text/x-python",
   "name": "python",
   "nbconvert_exporter": "python",
   "pygments_lexer": "ipython3",
   "version": "3.8.10"
  }
 },
 "nbformat": 4,
 "nbformat_minor": 5
}
