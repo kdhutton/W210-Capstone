{
 "cells": [
  {
   "cell_type": "markdown",
   "id": "e8a2efd7-635f-485c-b18d-a913976643a6",
   "metadata": {},
   "source": [
    "## Efficientnet Adversarial Learning with RKD - WIDER (Class Reduced)"
   ]
  },
  {
   "cell_type": "code",
   "execution_count": 3,
   "id": "50f79206-feac-4302-abb1-d699b6354a05",
   "metadata": {},
   "outputs": [],
   "source": [
    "import time\n",
    "import torch\n",
    "import json\n",
    "import random\n",
    "import math\n",
    "import warnings\n",
    "import torchvision\n",
    "import os\n",
    "import copy\n",
    "import torchvision.transforms as transforms\n",
    "import torch.nn as nn\n",
    "import torch.nn.functional as F\n",
    "import torch.optim as optim\n",
    "import matplotlib.pyplot as plt\n",
    "import seaborn as sns\n",
    "import numpy as np\n",
    "import pandas as pd\n",
    "\n",
    "from datetime import datetime\n",
    "from tqdm import tqdm\n",
    "from PIL import Image\n",
    "from sklearn import metrics\n",
    "from sklearn.preprocessing import StandardScaler\n",
    "from sklearn.metrics import pairwise_distances_argmin_min, accuracy_score, precision_score, recall_score, f1_score, confusion_matrix, classification_report, precision_recall_fscore_support\n",
    "from sklearn.model_selection import train_test_split, StratifiedKFold\n",
    "from torch.utils.data import Subset, Dataset, DataLoader\n",
    "from torchvision.models import EfficientNet\n",
    "\n",
    "from torchvision.datasets import ImageFolder\n",
    "from utils.loss_functions import tkd_kdloss\n",
    "# from models_package.models import Teacher, Student\n",
    "\n",
    "# new libraries\n",
    "from models_package.models import Teacher, Student, CustomResNet18\n",
    "from torchvision import datasets, transforms, models\n",
    "from data.data_loader import load_cifar10, load_cifar100, load_imagenet, load_prof, load_wider\n",
    "from torchvision.models.resnet import ResNet, BasicBlock, Bottleneck\n",
    "from torchvision.models.resnet import ResNet18_Weights, ResNet34_Weights\n",
    "from utils.loss_functions import tkd_kdloss, DD_loss, AD_loss, RKDDistanceLoss, RKDAngleLoss\n",
    "from utils.misc_tools_rkd import best_lr_rkd, rkd_train_teacher, rkd_train_student_with_distillation, rkd_test_model\n",
    "from utils.compare_tools_rkd import compare_model_size, compare_inference_time, compare_performance_metrics, plot_comparison\n",
    "\n",
    "# Suppress all warnings\n",
    "warnings.filterwarnings(\"ignore\")"
   ]
  },
  {
   "cell_type": "code",
   "execution_count": 4,
   "id": "dc3c0ec8-98dc-4933-b9a3-e96fce39c6b5",
   "metadata": {},
   "outputs": [],
   "source": [
    "# Hyperparameters\n",
    "learning_rate = 0.001379 # 0.096779\n",
    "epochs = 300\n",
    "epochs_pretrain = 3 #3\n",
    "epochs_optimal_lr = 3 #5\n",
    "patience_teacher = 7\n",
    "patience_student = 10\n",
    "temperature = 4.0\n",
    "alpha = 0.9\n",
    "momentum = 0.9\n",
    "step_size = 30\n",
    "gamma = 0.1\n",
    "lmda = 3\n",
    "batch_size = 64\n",
    "num_workers = 4\n",
    "\n",
    "# set to true to use stratified sampling\n",
    "stratified_sampling_flag = False # True\n",
    "\n",
    "# list of lambda values to loop through for grid search\n",
    "lmda_list_student = [0,3,5]\n",
    "lmda_list_teacher = [0]\n",
    "# lmda_list_teacher = [0,3,5,10]\n",
    "\n",
    "# labels used including for plotting\n",
    "class_labels = [0, 1, 3, 4, 6, 7, 11, 15, 17, 18, 19, 20, 22, 25, 27, 28, 30, 31, 33, 35, 36, 37, 39, 43, 44, 50, 51, 54, 57, 58]\n",
    "class_labels_new = torch.tensor([i for i in range(len(class_labels))])\n",
    "num_classes = 16 #len(class_labels)\n",
    "class_names_new = [f\"Class {label}\" for label in range(num_classes)]\n",
    "\n",
    "# Create directory and file path to save all outputs\n",
    "output_dir = f'./runs_{datetime.now().strftime(\"%Y_%m_%d_%H_%M\")}'\n",
    "os.makedirs(output_dir, exist_ok=True)"
   ]
  },
  {
   "cell_type": "code",
   "execution_count": 5,
   "id": "a2770eac-10b7-47de-ba06-9aa63cd7ab86",
   "metadata": {},
   "outputs": [],
   "source": [
    "# set device to cuda if available\n",
    "device = torch.device('cuda' if torch.cuda.is_available() else 'cpu')"
   ]
  },
  {
   "cell_type": "code",
   "execution_count": 6,
   "id": "46265942-58a1-4c1a-a7ea-82d919a7e799",
   "metadata": {},
   "outputs": [],
   "source": [
    "# Assuming your JSON file is named 'your_file.json'\n",
    "file_path = 'data/WIDER/Annotations/wider_attribute_trainval.json'\n",
    "\n",
    "with open(file_path, 'r') as file:\n",
    "    # Load the JSON data from the file\n",
    "    data = json.load(file)\n",
    "\n",
    "class_idx = data['scene_id_map']"
   ]
  },
  {
   "cell_type": "code",
   "execution_count": 7,
   "id": "312fa312-b347-4434-862b-d25e32a79108",
   "metadata": {},
   "outputs": [],
   "source": [
    "new_label_mapping = {\n",
    "    0: \"Team_Sports\",\n",
    "    1: \"Celebration\",\n",
    "    2: \"Parade\",\n",
    "    3: \"Waiter_Or_Waitress\",\n",
    "    4: \"Individual_Sports\",\n",
    "    5: \"Surgeons\",\n",
    "    6: \"Spa\",\n",
    "    7: \"Law_Enforcement\",\n",
    "    8: \"Business\",\n",
    "    9: \"Dresses\",\n",
    "    10: \"Water Activities\",\n",
    "    11: \"Picnic\",\n",
    "    12: \"Rescue\",\n",
    "    13: \"Cheering\",\n",
    "    14: \"Performance_And_Entertainment\",\n",
    "    15: \"Family\"\n",
    "}\n",
    "\n",
    "# Ensure that all 16 new classes are covered\n",
    "# If some classes are not explicitly mentioned in new_label_mapping, add them\n",
    "for i in range(16):\n",
    "    if i not in new_label_mapping:\n",
    "        new_label_mapping[i] = \"Additional Category {}\".format(i)\n",
    "\n",
    "class_idx = new_label_mapping"
   ]
  },
  {
   "cell_type": "code",
   "execution_count": 8,
   "id": "8c922f94-bf69-40d5-bc88-1e6fab4b4ed7",
   "metadata": {},
   "outputs": [],
   "source": [
    "class StratifiedBatchSampler:\n",
    "    \"\"\"Stratified batch sampling\n",
    "    Provides equal representation of target classes in each batch\n",
    "    \"\"\"\n",
    "    def __init__(self, y, batch_size, shuffle=True):\n",
    "        if torch.is_tensor(y):\n",
    "            y = y.numpy()\n",
    "        assert len(y.shape) == 1, 'label array must be 1D'\n",
    "        n_batches = int(len(y) / batch_size)\n",
    "        self.skf = StratifiedKFold(n_splits=n_batches, shuffle=shuffle)\n",
    "        self.X = torch.randn(len(y),1).numpy()\n",
    "        self.y = y\n",
    "        self.shuffle = shuffle\n",
    "        self.batch_size = batch_size\n",
    "\n",
    "    def __iter__(self):\n",
    "        if self.shuffle:\n",
    "            self.skf.random_state = torch.randint(0,int(1e8),size=()).item()\n",
    "        for train_idx, test_idx in self.skf.split(self.X, self.y):\n",
    "            yield test_idx\n",
    "\n",
    "    def __len__(self):\n",
    "        return len(self.y)//self.batch_size"
   ]
  },
  {
   "cell_type": "code",
   "execution_count": 9,
   "id": "e1c84514-66c9-4543-8448-cafa751730ff",
   "metadata": {},
   "outputs": [],
   "source": [
    "class DataSet(Dataset):\n",
    "    def __init__(self, ann_files, augs, img_size, dataset):\n",
    "\n",
    "        # Create a mapping from old labels to new labels\n",
    "        self.label_mapping = {old_label: new_label for new_label, old_label in enumerate(sorted(class_labels))}\n",
    "\n",
    "        self.new_label_mapping = {\n",
    "            0: 2,  # Parade\n",
    "            1: 8,  # Business\n",
    "            2: 7,  # Law Enforcement\n",
    "            3: 14,  # Performance and Entertainment\n",
    "            4: 1,  # Celebration\n",
    "            5: 13,  # Cheering\n",
    "            6: 8,  # Business\n",
    "            7: 8,  # Business\n",
    "            8: 1,  # Celebration\n",
    "            9: 14,  # Performance and Entertainment\n",
    "            10: 15, # Family\n",
    "            11: 15, # Family\n",
    "            12: 11, # Picnic\n",
    "            13: 7, # Law Enforcement\n",
    "            14: 6, # Spa\n",
    "            15: 13, # Cheering\n",
    "            16: 5, # Surgeons\n",
    "            17: 3, # Waiter or Waitress\n",
    "            18: 4, # Individual Sports\n",
    "            19: 0, # Team Sports\n",
    "            20: 0, # Team Sports\n",
    "            21: 0, # Team Sports\n",
    "            22: 4, # Individual Sports\n",
    "            23: 10, # Water Activities\n",
    "            24: 4, # Individual Sports\n",
    "            25: 1, # Celebration\n",
    "            26: 9, # Dresses\n",
    "            27: 12, # Rescue\n",
    "            28: 10,# Water Activities\n",
    "            29: 0  # Team Sports\n",
    "        }\n",
    "\n",
    "        \n",
    "        self.dataset = dataset\n",
    "        self.ann_files = ann_files\n",
    "        self.augment = self.augs_function(augs, img_size)\n",
    "        # Initialize transformations directly\n",
    "        self.transform = transforms.Compose(\n",
    "            [\n",
    "                transforms.ToTensor(),\n",
    "                transforms.Normalize(mean=[0, 0, 0], std=[1, 1, 1])\n",
    "            ] \n",
    "        )\n",
    "        if self.dataset == \"wider\":\n",
    "            self.transform = transforms.Compose(\n",
    "                [\n",
    "                    transforms.ToTensor(),\n",
    "                    transforms.Normalize(mean=[0.485, 0.456, 0.406], std=[0.229, 0.224, 0.225])                ] \n",
    "            )        \n",
    "\n",
    "        self.anns = []\n",
    "        self.load_anns()\n",
    "        print(self.augment)\n",
    "\n",
    "    def augs_function(self, augs, img_size):            \n",
    "        t = []\n",
    "        if 'randomflip' in augs:\n",
    "            t.append(transforms.RandomHorizontalFlip())\n",
    "        if 'ColorJitter' in augs:\n",
    "            t.append(transforms.ColorJitter(brightness=0.5, contrast=0.5, saturation=0.5, hue=0))\n",
    "        if 'resizedcrop' in augs:\n",
    "            t.append(transforms.RandomResizedCrop(img_size, scale=(0.7, 1.0)))\n",
    "        if 'RandAugment' in augs:\n",
    "            t.append(transforms.RandAugment())\n",
    "\n",
    "        t.append(transforms.Resize((img_size, img_size)))\n",
    "\n",
    "        return transforms.Compose(t)\n",
    "    \n",
    "    def load_anns(self):\n",
    "        self.anns = []\n",
    "        for ann_file in self.ann_files:\n",
    "            json_data = json.load(open(ann_file, \"r\"))\n",
    "            self.anns += json_data\n",
    "\n",
    "    def __len__(self):\n",
    "        return len(self.anns)\n",
    "\n",
    "    def __getitem__(self, idx):\n",
    "        # Make sure the index is within bounds\n",
    "        idx = idx % len(self)\n",
    "        ann = self.anns[idx]\n",
    "        \n",
    "        try:\n",
    "            # Attempt to open the image file\n",
    "            img = Image.open(f'data/WIDER/Image/{ann[\"file_name\"]}').convert(\"RGB\")\n",
    "\n",
    "            # If this is the wider dataset, proceed with specific processing\n",
    "            # x, y, w, h = ann['bbox']\n",
    "            # img_area = img.crop([x, y, x+w, y+h])\n",
    "            img_area = self.augment(img)\n",
    "            img_area = self.transform(img_area)\n",
    "            attributes_list = [target['attribute'] for target in ann['targets']]\n",
    "            num_people = len(attributes_list)\n",
    "            attributes_distribution = [max(sum(attribute), 0)/num_people for attribute in zip(*attributes_list)]\n",
    "            # Extract label from image path\n",
    "            img_path = f'data/WIDER/Image/{ann[\"file_name\"]}'\n",
    "            label = self.extract_label(img_path)  # You might need to implement this method\n",
    "            \n",
    "            return {\n",
    "                \"label\": label,\n",
    "                \"target\": torch.tensor([attributes_distribution[0]], dtype=torch.float32),\n",
    "                \"img\": img_area\n",
    "            }\n",
    "            \n",
    "        except Exception as e:\n",
    "            # If any error occurs during the processing of an image, log the error and the index\n",
    "            print(f\"Error processing image at index {idx}: {e}\")\n",
    "            # Instead of returning None, raise the exception\n",
    "            raise\n",
    "\n",
    "    def extract_label(self, img_path):\n",
    "        original_label = None\n",
    "    \n",
    "        if \"data/WIDER/Image/train\" in img_path:\n",
    "            label_str = img_path.split(\"data/WIDER/Image/train/\")[1].split(\"/\")[0]\n",
    "            original_label = int(label_str.split(\"--\")[0])\n",
    "        elif \"data/WIDER/Image/test\" in img_path:\n",
    "            label_str = img_path.split(\"data/WIDER/Image/test/\")[1].split(\"/\")[0]\n",
    "            original_label = int(label_str.split(\"--\")[0])\n",
    "        elif \"data/WIDER/Image/val\" in img_path:  # Handle validation images\n",
    "            label_str = img_path.split(\"data/WIDER/Image/val/\")[1].split(\"/\")[0]\n",
    "            original_label = int(label_str.split(\"--\")[0])\n",
    "    \n",
    "        if original_label is not None:\n",
    "            remapped_label = self.label_mapping[original_label]\n",
    "            new_label_mapping = self.new_label_mapping[remapped_label]\n",
    "            return new_label_mapping\n",
    "        else:\n",
    "            raise ValueError(f\"Label could not be extracted from path: {img_path}\")\n"
   ]
  },
  {
   "cell_type": "code",
   "execution_count": 10,
   "id": "ea2490c2-046a-4a19-9717-642adbabb732",
   "metadata": {},
   "outputs": [],
   "source": [
    "train_file = ['data/wider/trainval_wider.json']\n",
    "test_file = ['data/wider/test_wider.json']\n"
   ]
  },
  {
   "cell_type": "code",
   "execution_count": 11,
   "id": "012d6bd8-61d5-4a20-845b-689234718508",
   "metadata": {},
   "outputs": [],
   "source": [
    "def custom_collate(batch):\n",
    "    # Filter out any None items in the batch\n",
    "    batch = [item for item in batch if item is not None]\n",
    "    # If after filtering the batch is empty, handle this case by either returning an empty tensor or raising an exception\n",
    "    if len(batch) == 0:\n",
    "        raise ValueError(\"Batch is empty after filtering out None items.\")\n",
    "    return torch.utils.data.dataloader.default_collate(batch)\n"
   ]
  },
  {
   "cell_type": "code",
   "execution_count": 12,
   "id": "8fe2adb5-687d-4055-a108-a9c041836b64",
   "metadata": {},
   "outputs": [
    {
     "name": "stdout",
     "output_type": "stream",
     "text": [
      "Compose(\n",
      "    RandAugment(num_ops=2, magnitude=9, num_magnitude_bins=31, interpolation=InterpolationMode.NEAREST, fill=None)\n",
      "    Resize(size=(226, 226), interpolation=bilinear, max_size=None, antialias=warn)\n",
      ")\n",
      "Compose(\n",
      "    Resize(size=(226, 226), interpolation=bilinear, max_size=None, antialias=warn)\n",
      ")\n"
     ]
    }
   ],
   "source": [
    "train_dataset = DataSet(train_file, augs = ['RandAugment'], img_size = 226, dataset = 'wider')\n",
    "test_dataset = DataSet(test_file, augs = [], img_size = 226, dataset = 'wider')\n",
    "\n",
    "\n",
    "if stratified_sampling_flag:\n",
    "    trainloader = DataLoader(train_dataset, \n",
    "                             batch_sampler=StratifiedBatchSampler(torch.tensor([train_dataset[i]['label'] for i in range(len(train_dataset))]), \n",
    "                             batch_size=batch_size), num_workers=num_workers, collate_fn=custom_collate)\n",
    "    testloader = DataLoader(test_dataset, batch_sampler=StratifiedBatchSampler(torch.tensor([test_dataset[i]['label'] for i in range(len(test_dataset))]), \n",
    "                             batch_size=batch_size), num_workers=num_workers, collate_fn=custom_collate)\n",
    "else:\n",
    "    trainloader = DataLoader(train_dataset, batch_size=batch_size, shuffle=True, \n",
    "                             num_workers=num_workers, collate_fn=custom_collate)\n",
    "    testloader = DataLoader(test_dataset, batch_size=batch_size, shuffle=False, num_workers=num_workers, collate_fn=custom_collate)"
   ]
  },
  {
   "cell_type": "code",
   "execution_count": 13,
   "id": "cff90b9a-9e51-4fb9-a343-da49cdc713da",
   "metadata": {},
   "outputs": [
    {
     "data": {
      "text/plain": [
       "10324"
      ]
     },
     "execution_count": 13,
     "metadata": {},
     "output_type": "execute_result"
    }
   ],
   "source": [
    "len(train_dataset)"
   ]
  },
  {
   "cell_type": "markdown",
   "id": "a6d18d4b-a3c0-4c5b-ad75-e74b6b1b7296",
   "metadata": {},
   "source": [
    "# Start Training Process"
   ]
  },
  {
   "cell_type": "code",
   "execution_count": 14,
   "id": "1c37c867-c1d1-438c-ac22-755904ce121e",
   "metadata": {},
   "outputs": [],
   "source": [
    "def one_hot_encode(labels, num_classes):\n",
    "    return np.eye(num_classes)[labels]\n",
    "\n",
    "def calculate_recall_multiclass(conf_matrix):\n",
    "    recalls = np.diag(conf_matrix) / np.sum(conf_matrix, axis=1)\n",
    "    recalls[np.isnan(recalls)] = 0  # Replace NaN with 0\n",
    "    return recalls\n",
    "\n",
    "def evaluate_model_with_gender_multiclass(pred, label, gender, num_classes):\n",
    "    predictions = pred.cpu()\n",
    "    true_labels = label.cpu()\n",
    "    gender = gender.cpu()\n",
    "\n",
    "    # Identify male and female indices based on the gender threshold\n",
    "    male_indices = np.where(gender >= 0.5)[0]\n",
    "    female_indices = np.where(gender < 0.5)[0]\n",
    "\n",
    "    # Convert labels to one-hot encoding\n",
    "    one_hot_labels = one_hot_encode(true_labels, num_classes=num_classes)\n",
    "    one_hot_preds = one_hot_encode(predictions, num_classes=num_classes)\n",
    "    # Initialize recall arrays\n",
    "    male_recall = np.zeros(num_classes)\n",
    "    female_recall = np.zeros(num_classes)\n",
    "\n",
    "    # Extract predictions and labels for male and female indices\n",
    "    male_predictions = np.argmax(one_hot_preds[male_indices], axis=1)\n",
    "    female_predictions = np.argmax(one_hot_preds[female_indices], axis=1)\n",
    "    male_labels = np.argmax(one_hot_labels[male_indices], axis=1)\n",
    "    female_labels = np.argmax(one_hot_labels[female_indices], axis=1)\n",
    "\n",
    "    # Check if the class labels are within the expected range\n",
    "    assert (0 <= male_predictions.min() < num_classes) and (0 <= male_predictions.max() < num_classes), \"Invalid class indices in male predictions\"\n",
    "    assert (0 <= female_predictions.min() < num_classes) and (0 <= female_predictions.max() < num_classes), \"Invalid class indices in female predictions\"\n",
    "    assert (0 <= male_labels.min() < num_classes) and (0 <= male_labels.max() < num_classes), \"Invalid class indices in male labels\"\n",
    "    assert (0 <= female_labels.min() < num_classes) and (0 <= female_labels.max() < num_classes), \"Invalid class indices in female labels\"\n",
    "\n",
    "    # Calculate confusion matrices for each gender\n",
    "    male_conf_matrix = confusion_matrix(male_labels, male_predictions, labels=np.arange(num_classes))\n",
    "    female_conf_matrix = confusion_matrix(female_labels, female_predictions, labels=np.arange(num_classes))\n",
    "\n",
    "    # Calculate recall for each class and gender\n",
    "    male_recall[:len(male_conf_matrix)] = calculate_recall_multiclass(male_conf_matrix)\n",
    "    female_recall[:len(female_conf_matrix)] = calculate_recall_multiclass(female_conf_matrix)\n",
    "\n",
    "    return male_recall - female_recall, male_conf_matrix, female_conf_matrix\n"
   ]
  },
  {
   "cell_type": "code",
   "execution_count": 15,
   "id": "1c6b93cb-37c9-448f-a8d9-424d3c4d40fb",
   "metadata": {},
   "outputs": [],
   "source": [
    "# Instantiate the models\n",
    "###################### Testing 1 ######################\n",
    "# Create instances of your models\n",
    "teacher_model = torchvision.models.efficientnet_b3(weights='DEFAULT')\n",
    "teacher_model.classifier = nn.Linear(1536, num_classes)\n",
    "student_model = torchvision.models.efficientnet_b0(weights=None)\n",
    "student_model.classifier = nn.Linear(1280, num_classes)\n",
    "\n",
    "# Load teacher\n",
    "# teacher_model = torch.load('teacher_model_rkd_wider.pth')\n",
    "# teacher_model.load_state_dict(torch.load('teacher_model_weights_rkd_wider.pth'))\n",
    "# torch.save(teacher_model.state_dict(), 'teacher_model_weights_rkd_wider.pth')\n",
    "# # Load the studnet\n",
    "# student_model = torch.load('student_model_rkd_prof.pth')\n",
    "# student_model.load_state_dict(torch.load('student_model_weights_rkd_prof_checkpoint.pth'))\n",
    "# student_model = student_model.to(device)\n"
   ]
  },
  {
   "cell_type": "markdown",
   "id": "ffdcd643-ac9d-4e22-821a-4c784c86e4a5",
   "metadata": {},
   "source": [
    "This is the initialization of the 2-layer Adversary Perceptron. It is initialized with the number of classes*2, which represents the predicted labels (y_hat) and the true labels (y). The output of the final layer is a regression output, which is intended to predict the strength of gender (continuous number where anything past 0.5 is more male).\n"
   ]
  },
  {
   "cell_type": "code",
   "execution_count": 16,
   "id": "836f2993-0505-47c6-85ee-2ad2f45db946",
   "metadata": {},
   "outputs": [],
   "source": [
    "class Adversary(nn.Module):\n",
    "    def __init__(self, input_size=num_classes):\n",
    "        super(Adversary, self).__init__()\n",
    "\n",
    "        self.a1 = nn.Linear(input_size*2, 16)\n",
    "        self.a2 = nn.Linear(16, 1)  # Output size 1 for regression\n",
    "        nn.init.xavier_normal_(self.a1.weight)\n",
    "        nn.init.kaiming_normal_(self.a2.weight, mode='fan_out', nonlinearity='relu')\n",
    "\n",
    "    def forward(self, input_ids):\n",
    "        adversary = F.relu(self.a1(input_ids))\n",
    "        adversary_output = F.sigmoid(self.a2(adversary))  # Linear activation for regression\n",
    "        return adversary_output\n",
    "\n",
    "# Instantiate the Adversary\n",
    "adv = Adversary()"
   ]
  },
  {
   "cell_type": "code",
   "execution_count": 17,
   "id": "a761874d-cc14-482e-9c8c-6342adea3cae",
   "metadata": {},
   "outputs": [],
   "source": [
    "def pretrain_student(student, teacher, trainloader, criterion, optimizer, device, alpha, temperature, epochs_pretrain, patience=patience_student):\n",
    "    teacher.eval()\n",
    "    teacher.to(device)\n",
    "    best_val_loss = float('inf')  \n",
    "    patience_counter = 0 \n",
    "    student_epoch_losses = []\n",
    "    val_losses = []\n",
    "    \n",
    "    for epoch in range(epochs_pretrain):\n",
    "        student.train()\n",
    "        student.to(device)\n",
    "        running_loss = 0.0 \n",
    "        epoch_loss = 0.0  \n",
    "        num_batches = 0  \n",
    "        \n",
    "        for index, data in enumerate(tqdm(trainloader)):\n",
    "\n",
    "            inputs = data['img'].to(device)\n",
    "            labels = data['label'].to(device)\n",
    "            optimizer.zero_grad()\n",
    "            student_outputs = student(inputs)\n",
    "\n",
    "            with torch.no_grad():\n",
    "                teacher_outputs = teacher(inputs)\n",
    "\n",
    "            ce_loss = criterion(student_outputs, labels)\n",
    "            kd_loss = tkd_kdloss(student_outputs, teacher_outputs, temperature=temperature)  # Make sure this returns a scalar\n",
    "            \n",
    "            # If not scalar, sum up to make sure the loss is scalar\n",
    "            if kd_loss.ndim != 0:\n",
    "                kd_loss = kd_loss.sum()\n",
    "                \n",
    "            # Now combine the losses\n",
    "            loss = alpha * kd_loss + (1 - alpha) * ce_loss\n",
    "            loss.backward()\n",
    "            optimizer.step()\n",
    "            running_loss += loss.item()\n",
    "            epoch_loss += loss.item()\n",
    "            num_batches += 1\n",
    "        \n",
    "        epoch_loss /= num_batches\n",
    "        print(f'*******Epoch {epoch}: loss - {epoch_loss}')\n",
    "        student_epoch_losses.append(epoch_loss)\n"
   ]
  },
  {
   "cell_type": "code",
   "execution_count": 18,
   "id": "16f4630d-f0d5-4d83-b61f-8707df8800a6",
   "metadata": {},
   "outputs": [],
   "source": [
    "def pretrain_teacher(teacher, trainloader, criterion, optimizer, device, epochs_pretrain, patience=patience_student):\n",
    "    teacher.to(device)\n",
    "    teacher.train()  # Set the model to training mode\n",
    "    best_val_loss = float('inf')  \n",
    "    patience_counter = 0 \n",
    "    teacher_epoch_losses = []\n",
    "    val_losses = []\n",
    "    \n",
    "    for epoch in range(epochs_pretrain):\n",
    "        running_loss = 0.0 \n",
    "        epoch_loss = 0.0  \n",
    "        num_batches = 0  \n",
    "        \n",
    "        for index, data in enumerate(tqdm(trainloader)):\n",
    "            inputs = data['img'].to(device)\n",
    "            labels = data['label'].to(device)\n",
    "            optimizer.zero_grad()\n",
    "            teacher_outputs = teacher(inputs)\n",
    "\n",
    "            ce_loss = criterion(teacher_outputs, labels)\n",
    "                \n",
    "            loss = ce_loss\n",
    "            loss.backward()\n",
    "            optimizer.step()\n",
    "            running_loss += loss.item()\n",
    "            epoch_loss += loss.item()\n",
    "            num_batches += 1\n",
    "        \n",
    "        epoch_loss /= num_batches\n",
    "        print(f'*******Epoch {epoch}: loss - {epoch_loss}')\n",
    "        teacher_epoch_losses.append(epoch_loss)\n"
   ]
  },
  {
   "cell_type": "code",
   "execution_count": 19,
   "id": "005d66e3-f169-4d59-bc29-b5c0e05816b0",
   "metadata": {},
   "outputs": [],
   "source": [
    "def pretrain_adversary(adv, student, adversary_optimizer, trainloader, adv_criterion, device, epochs_pretrain):\n",
    "\n",
    "  for epoch in range(epochs_pretrain):\n",
    "    epoch_loss = 0\n",
    "    epoch_batches = 0\n",
    "    for i, data in enumerate(tqdm(trainloader)): # starting from the 0th batch\n",
    "        # get the inputs and labels\n",
    "        adv.train()\n",
    "        adv.to(device)\n",
    "        inputs = data['img'].to(device)\n",
    "        labels = data['label'].to(device)\n",
    "        targets = data['target'].to(device)\n",
    "        student = student.to(device)\n",
    "        adversary_optimizer.zero_grad()\n",
    "        student_output = student(inputs)\n",
    "        one_hot_labels = F.one_hot(labels, num_classes=num_classes).to(torch.float32)\n",
    "        concatenated_output = torch.cat((student_output, one_hot_labels), dim=1)\n",
    "        adversary_output = adv(concatenated_output)\n",
    "        adversary_loss = adv_criterion(adversary_output, targets) # compute loss\n",
    "        adversary_loss.backward() # back prop\n",
    "        adversary_optimizer.step()\n",
    "        epoch_loss += adversary_loss.item()\n",
    "        epoch_batches += 1\n",
    "\n",
    "    print(\"Average Pretrain Adversary epoch loss: \", epoch_loss/epoch_batches)\n"
   ]
  },
  {
   "cell_type": "code",
   "execution_count": 20,
   "id": "c7b4731c-f105-4192-9650-6587c46f6e8c",
   "metadata": {},
   "outputs": [],
   "source": [
    "# Optimizer and scheduler for the student model\n",
    "student_optimizer = optim.Adam(student_model.parameters(), lr=learning_rate)\n",
    "\n",
    "# Optimizer and scheduler for the teacher model\n",
    "teacher_optimizer = optim.SGD(teacher_model.parameters(), lr=learning_rate, momentum=momentum)\n",
    "teacher_scheduler = torch.optim.lr_scheduler.StepLR(teacher_optimizer, step_size=step_size, gamma=gamma)\n",
    "\n",
    "optimizer_adv = optim.Adam(adv.parameters(), lr=learning_rate)\n",
    "\n",
    "# Instantiate the model and the loss function\n",
    "criterion_clf = nn.CrossEntropyLoss()\n",
    "adv_criterion = nn.MSELoss()\n"
   ]
  },
  {
   "cell_type": "code",
   "execution_count": 21,
   "id": "b3b7719f-4d65-4601-8e1d-1015de2201cb",
   "metadata": {},
   "outputs": [],
   "source": [
    "# #### finding the optimal learning rate\n",
    "# def train_teacher_optimal_lr(model, trainloader, criterion, optimizer, scheduler, device, epochs_optimal_lr=5, lr_range=(1e-4, 1e-1), plot_loss=True):\n",
    "#     model.train()\n",
    "#     model.to(device)\n",
    "#     lr_values = np.logspace(np.log10(lr_range[0]), np.log10(lr_range[1]), epochs_optimal_lr * len(trainloader))  # Generate learning rates for each batch\n",
    "#     lr_iter = iter(lr_values)\n",
    "#     losses = []\n",
    "#     lrs = []\n",
    "    \n",
    "#     for epoch in range(epochs_optimal_lr):\n",
    "#         for i, batch in enumerate(tqdm(trainloader)):\n",
    "#             lr = next(lr_iter)\n",
    "#             for param_group in optimizer.param_groups:\n",
    "#                 param_group['lr'] = lr  # Set new learning rate\n",
    "            \n",
    "#             inputs, labels = batch['img'].to(device), batch['label'].to(device)\n",
    "#             optimizer.zero_grad()\n",
    "#             outputs = model(inputs)\n",
    "#             loss = criterion(outputs, labels)\n",
    "#             loss.backward()\n",
    "#             optimizer.step()\n",
    "            \n",
    "#             losses.append(loss.item())\n",
    "#             lrs.append(lr)\n",
    "    \n",
    "#     # Calculate the derivative of the loss\n",
    "#     loss_derivative = np.gradient(losses)\n",
    "    \n",
    "#     # Find the learning rate corresponding to the minimum derivative (steepest decline)\n",
    "#     best_lr_index = np.argmin(loss_derivative)\n",
    "#     best_lr = lrs[best_lr_index]\n",
    "    \n",
    "#     if plot_loss:\n",
    "#         import matplotlib.pyplot as plt\n",
    "#         plt.figure()\n",
    "#         plt.plot(lrs, losses)\n",
    "#         plt.xscale('log')\n",
    "#         plt.xlabel('Learning Rate')\n",
    "#         plt.ylabel('Loss')\n",
    "#         plt.title('Learning Rate Range Test - Teacher')\n",
    "#         plt.axvline(x=best_lr, color='red', linestyle='--', label=f'Best LR: {best_lr}')\n",
    "#         plt.legend()\n",
    "#         plt.show()\n",
    "    \n",
    "#     print(f'Best Learning Rate Teacher: {best_lr}')\n",
    "#     return best_lr\n",
    "\n",
    "# ############# input ############## \n",
    "# best_lr_teacher = train_teacher_optimal_lr(teacher_model, trainloader, criterion_clf, teacher_optimizer, teacher_scheduler, device, epochs_optimal_lr)  \n",
    "# print(best_lr_teacher)\n"
   ]
  },
  {
   "cell_type": "code",
   "execution_count": 22,
   "id": "3fc2fd75-c5a3-415d-8da7-32816addb845",
   "metadata": {},
   "outputs": [],
   "source": [
    "# #### finding the optimal learning rate\n",
    "# def train_student_optimal_lr(model, trainloader, criterion, optimizer, device, epochs_optimal_lr=5, lr_range=(1e-4, 1e-1), plot_loss=True):\n",
    "#     model.train()\n",
    "#     model.to(device)\n",
    "#     lr_values = np.logspace(np.log10(lr_range[0]), np.log10(lr_range[1]), epochs_optimal_lr * len(trainloader))  # Generate learning rates for each batch\n",
    "#     lr_iter = iter(lr_values)\n",
    "#     losses = []\n",
    "#     lrs = []\n",
    "    \n",
    "#     for epoch in range(epochs_optimal_lr):\n",
    "#         for i, batch in enumerate(tqdm(trainloader)):\n",
    "#             lr = next(lr_iter)\n",
    "#             for param_group in optimizer.param_groups:\n",
    "#                 param_group['lr'] = lr  # Set new learning rate\n",
    "            \n",
    "#             inputs, labels = batch['img'].to(device), batch['label'].to(device)\n",
    "#             optimizer.zero_grad()\n",
    "#             outputs = model(inputs)\n",
    "#             loss = criterion(outputs, labels)\n",
    "#             loss.backward()\n",
    "#             optimizer.step()\n",
    "            \n",
    "#             losses.append(loss.item())\n",
    "#             lrs.append(lr)\n",
    "    \n",
    "#     # Calculate the derivative of the loss\n",
    "#     loss_derivative = np.gradient(losses)\n",
    "    \n",
    "#     # Find the learning rate corresponding to the minimum derivative (steepest decline)\n",
    "#     best_lr_index = np.argmin(loss_derivative)\n",
    "#     best_lr = lrs[best_lr_index]\n",
    "    \n",
    "#     if plot_loss:\n",
    "#         import matplotlib.pyplot as plt\n",
    "#         plt.figure()\n",
    "#         plt.plot(lrs, losses)\n",
    "#         plt.xscale('log')\n",
    "#         plt.xlabel('Learning Rate')\n",
    "#         plt.ylabel('Loss')\n",
    "#         plt.title('Learning Rate Range Test - Student')\n",
    "#         plt.axvline(x=best_lr, color='red', linestyle='--', label=f'Best LR: {best_lr}')\n",
    "#         plt.legend()\n",
    "#         plt.show()\n",
    "    \n",
    "#     print(f'Best Learning Rate Student: {best_lr}')\n",
    "#     return best_lr\n",
    "\n",
    "# ############# input ############## \n",
    "# best_lr_student = train_student_optimal_lr(student_model, trainloader, criterion_clf, student_optimizer, device, epochs_optimal_lr)  \n",
    "# print(best_lr_student)"
   ]
  },
  {
   "cell_type": "code",
   "execution_count": 23,
   "id": "c2037b64-dba1-4c4b-a586-0a0ac3373d0f",
   "metadata": {},
   "outputs": [],
   "source": [
    "best_lr_student = learning_rate\n",
    "best_lr_teacher = learning_rate"
   ]
  },
  {
   "cell_type": "code",
   "execution_count": 24,
   "id": "411c4f7a-d0b4-478f-9fa5-5e152e08ed14",
   "metadata": {},
   "outputs": [],
   "source": [
    "def plot_loss_curve(losses):\n",
    "    epochs = range(1, len(losses) + 1)\n",
    "    plt.plot(epochs, losses)\n",
    "    plt.xlabel('Epoch')\n",
    "    plt.ylabel('Loss')\n",
    "    plt.title('Val Loss Curve')\n",
    "    plt.show()"
   ]
  },
  {
   "cell_type": "code",
   "execution_count": 25,
   "id": "b4c98aee-9c82-46f8-910b-4ca2ae4b9f3f",
   "metadata": {},
   "outputs": [],
   "source": [
    "# This is the adversary training function, where we input the student outputs, \n",
    "# with the true labels into the adversary model created previously.\n",
    "def train_adversary(adv, model, optimizer, trainloader, criterion, epochs):\n",
    "    best_val_loss = float('inf')\n",
    "    for epoch in range(epochs):\n",
    "        epoch_loss = 0\n",
    "        epoch_batches = 0\n",
    "        for i, data in enumerate(tqdm(trainloader)):\n",
    "            # get the inputs and labels\n",
    "            inputs = data['img'].to(device)\n",
    "            labels = data['label'].to(device)\n",
    "            targets = data['target'].to(device)\n",
    "            model.eval()\n",
    "            model.to(device)\n",
    "            adv.train()\n",
    "            adv.to(device)\n",
    "            optimizer.zero_grad()\n",
    "            # output the student model, join with ohe labels. \n",
    "            model_output = model(inputs)\n",
    "            one_hot_labels = F.one_hot(labels, num_classes=num_classes).to(torch.float32)\n",
    "            concatenated_output = torch.cat((model_output, one_hot_labels), dim=1)\n",
    "            adversary_output = adv(concatenated_output)\n",
    "\n",
    "            adversary_loss = criterion(adversary_output, targets)\n",
    "            adversary_loss.backward()\n",
    "            epoch_loss += adversary_loss.item()\n",
    "            epoch_batches += 1\n",
    "            optimizer.step()\n",
    "        epoch_loss/=epoch_batches\n",
    "        print(\"Average Adversary epoch loss:\", epoch_loss)"
   ]
  },
  {
   "cell_type": "code",
   "execution_count": 26,
   "id": "286386b2-d6e9-447e-95b5-b3dd8f18010b",
   "metadata": {},
   "outputs": [],
   "source": [
    "# Function to train the teacher model\n",
    "\n",
    "\n",
    "def train_teacher(model, adv, trainloader, criterion, adv_criterion, optimizer, optimizer_adv, device, \n",
    "                  epochs, lmda, patience=patience_teacher):\n",
    "\n",
    "    best_val_loss = float('inf')\n",
    "    patience_counter = 0\n",
    "    epoch_losses = [] \n",
    "    val_losses = []\n",
    "    val_disparities = []\n",
    "    val_accuracies = []\n",
    "    best_total_val_loss = float('inf')\n",
    "\n",
    "    for epoch in range(epochs):\n",
    "        model.train()\n",
    "        adv.train()\n",
    "        model.to(device)\n",
    "        adv.to(device)\n",
    "        running_loss = 0.0\n",
    "        epoch_loss = 0.0  \n",
    "        num_batches = 0  \n",
    "        \n",
    "        for index, data in enumerate(tqdm(trainloader)):\n",
    "            inputs = data['img'].to(device)\n",
    "            labels = data['label'].to(device)\n",
    "            targets = data['target'].to(device)\n",
    "        \n",
    "            # Forward pass for teacher model\n",
    "            optimizer.zero_grad()\n",
    "            outputs = model(inputs)\n",
    "            classification_loss = criterion(outputs, labels)\n",
    "        \n",
    "            # Forward pass for adversary model\n",
    "            optimizer_adv.zero_grad()\n",
    "            with torch.no_grad():\n",
    "                teacher_outputs_detached = outputs.detach()\n",
    "            one_hot_labels = F.one_hot(labels, num_classes=num_classes).to(torch.float32)\n",
    "            concatenated_output = torch.cat((teacher_outputs_detached, one_hot_labels), dim=1)\n",
    "            adversary_output = adv(concatenated_output)\n",
    "            adversary_loss = adv_criterion(adversary_output, targets)\n",
    "        \n",
    "            # Calculate the total loss by combining classification and adversary loss\n",
    "            if lmda != 0:\n",
    "                total_loss = classification_loss + classification_loss/adversary_loss - lmda * adversary_loss\n",
    "            else:\n",
    "                total_loss = classification_loss\n",
    "                \n",
    "            total_loss.backward()\n",
    "        \n",
    "            optimizer.step()\n",
    "            optimizer_adv.step()\n",
    "        \n",
    "            running_loss += total_loss.item()\n",
    "            epoch_loss += total_loss.item()\n",
    "            num_batches += 1\n",
    "\n",
    "        epoch_loss /= num_batches  \n",
    "        epoch_losses.append(epoch_loss)\n",
    "\n",
    "        model.eval()\n",
    "        total_correct = 0\n",
    "        total_samples = 0\n",
    "        total_val_loss = 0.0\n",
    "        num_batches = 0\n",
    "        confusion_male = np.zeros((num_classes, num_classes))\n",
    "        confusion_female = np.zeros((num_classes, num_classes))\n",
    "        \n",
    "        with torch.no_grad():\n",
    "            for val_data in tqdm(testloader):\n",
    "                val_inputs = val_data['img'].to(device)\n",
    "                val_labels = val_data['label'].to(device)\n",
    "                val_targets = val_data['target'].to(device)\n",
    "                \n",
    "                val_outputs = model(val_inputs)\n",
    "                with torch.no_grad():\n",
    "                    teacher_outputs_detached_val = val_outputs.detach()                \n",
    "                one_hot_labels_val = F.one_hot(val_labels, num_classes=num_classes).to(torch.float32)\n",
    "                concatenated_output_val = torch.cat((teacher_outputs_detached_val, one_hot_labels_val), dim=1)\n",
    "                adversary_output_val = adv(concatenated_output_val)\n",
    "                adversary_loss_val = adv_criterion(adversary_output_val, val_targets)\n",
    "                \n",
    "                # Compute validation loss\n",
    "                val_ce_loss = criterion(val_outputs, val_labels)\n",
    "\n",
    "                if lmda !=0:\n",
    "                    val_loss = val_ce_loss + val_ce_loss/adversary_loss_val - lmda * adversary_loss_val\n",
    "                else:\n",
    "                    val_loss = val_ce_loss\n",
    "                    \n",
    "                total_val_loss += val_loss.item()\n",
    "\n",
    "                # Compute the validation accuracy\n",
    "                _, predicted = torch.max(val_outputs, 1)\n",
    "                total_samples += val_labels.size(0)\n",
    "                total_correct += (predicted == val_labels).sum().item()\n",
    "                num_batches += 1\n",
    "\n",
    "                # Compute recall differences for gender\n",
    "                recall_diff = evaluate_model_with_gender_multiclass(predicted, val_labels, val_targets, num_classes=num_classes)\n",
    "                confusion_male += recall_diff[1]\n",
    "                confusion_female += recall_diff[2]\n",
    "\n",
    "            total_val_loss /= num_batches\n",
    "            confusion_male /= num_batches\n",
    "            confusion_female /= num_batches\n",
    "            \n",
    "            epoch_disparity = calculate_recall_multiclass(confusion_male) - calculate_recall_multiclass(confusion_female)\n",
    "            val_losses.append(total_val_loss)\n",
    "            non_zero_abs_values = np.abs(epoch_disparity[epoch_disparity != 0])\n",
    "            mean_non_zero_abs_disparity = np.mean(non_zero_abs_values)\n",
    "            val_disparities.append(mean_non_zero_abs_disparity)\n",
    "            accuracy = total_correct / total_samples\n",
    "            val_accuracies.append(accuracy)\n",
    "            print(f'*****Epoch {epoch + 1}/{epochs}*****\\n' \n",
    "            f'*****Train Loss: {epoch_loss: .6f} Val Loss: {total_val_loss: .6f}*****\\n'\n",
    "            f'*****Validation Accuracy: {accuracy * 100:.2f}%*****\\n'\n",
    "            f'*****Total Avg Disparity: {mean_non_zero_abs_disparity}*****\\n')\n",
    "            class_recall_mapping = {class_name: epoch_disparity[int(class_label)] for class_label, class_name in class_idx.items()}\n",
    "            \n",
    "            # Print disparities by class label\n",
    "            for class_label, recall_diff in class_recall_mapping.items():\n",
    "                print(f\"Class {class_label}: Recall Difference = {recall_diff}\")\n",
    "        \n",
    "        # Check for early stopping\n",
    "        if abs(total_val_loss) < abs(best_total_val_loss):\n",
    "            best_total_val_loss = total_val_loss\n",
    "            patience_counter = 0 \n",
    "            best_epoch_mean_abs_disparity = mean_non_zero_abs_disparity\n",
    "            torch.save(model.state_dict(), f'teacher_model_weights_rkd_prof_checkpoint{lmda}.pth')\n",
    "            torch.save(model, f'teacher_model_rkd_prof_checkpoint{lmda}.pth')\n",
    "        else:\n",
    "            patience_counter += 1 \n",
    "\n",
    "        # if patience_counter >= patience:\n",
    "        #     print('Early stopping')\n",
    "        #     break  \n",
    "            \n",
    "        file_path = os.path.join(output_dir, f'teacher_validation_{lmda}.txt')\n",
    "        \n",
    "        # Append data to the text file\n",
    "        with open(file_path, 'a') as file:\n",
    "            file.write(f'********Epoch: {epochs}***********')\n",
    "            \n",
    "            file.write(\"Teacher Val Accuracies:\\n\")\n",
    "            for accuracy in val_accuracies:\n",
    "                file.write(f\"{accuracy}\\n\")\n",
    "        \n",
    "            file.write(\"\\nTeacher Val Disparities:\\n\")\n",
    "            for disparity in val_disparities:\n",
    "                file.write(f\"{disparity}\\n\")\n",
    "\n",
    "            for class_label, recall_diff in class_recall_mapping.items():\n",
    "                file.write(f\"Class {class_label}: Recall Difference = {recall_diff}\\n\")\n",
    "        \n",
    "        print(f\"Data has been appended to {file_path}\")\n",
    "    plot_loss_curve(val_losses)\n",
    "    print(\"Finished Training Teacher\")\n",
    "    return val_disparities\n",
    "\n",
    "\n",
    "# Function to train the student model with knowledge distillation\n",
    "def train_student_with_distillation_disparity(student, teacher, adv, trainloader, testloader, criterion, adv_criterion, optimizer, \n",
    "                                              device, alpha, temperature, epochs, lmda, patience=patience_student, optimizer_adv=None):\n",
    "    teacher.eval()\n",
    "    teacher.to(device)\n",
    "    best_val_accuracy = 0\n",
    "    best_total_val_loss = float('inf')\n",
    "    best_epoch_accuracy = 0.0\n",
    "    best_epoch_disparity = 0.0\n",
    "    patience_counter = 0 \n",
    "    student_epoch_losses = []\n",
    "    val_losses = []\n",
    "    val_disparities = []\n",
    "    val_accuracies = []\n",
    "\n",
    "    for epoch in range(epochs):\n",
    "        # Train the adversary at the start of each epoch\n",
    "        train_adversary(adv, student, optimizer_adv, trainloader, adv_criterion, 1)\n",
    "\n",
    "        student.train()\n",
    "        student.to(device)\n",
    "        adv.eval()\n",
    "        adv.to(device)\n",
    "        running_loss = 0.0 \n",
    "        epoch_loss = 0.0  \n",
    "        num_batches = 0 \n",
    "        confusion_male = np.zeros((num_classes, num_classes))\n",
    "        confusion_female = np.zeros((num_classes, num_classes))\n",
    "\n",
    "        for index, data in enumerate(tqdm(trainloader)):\n",
    "            inputs = data['img'].to(device)\n",
    "            labels = data['label'].to(device)\n",
    "            targets = data['target'].to(device)\n",
    "            optimizer.zero_grad()\n",
    "            student_outputs = student(inputs)\n",
    "            with torch.no_grad():\n",
    "                teacher_outputs = teacher(inputs)\n",
    "\n",
    "            # detach student_outputs to avoid exploding gradients by passing same inputs (with gradience) into two different models. \n",
    "            studentached = student_outputs.detach()\n",
    "            # One-hot encode labels and concatenate with student's predictions\n",
    "            one_hot_labels = F.one_hot(labels, num_classes=num_classes).to(torch.float32)\n",
    "            concatenated_output = torch.cat((studentached, one_hot_labels), dim=1)\n",
    "\n",
    "            # Run the adversarial model on concatenated true labels, and predicted labels\n",
    "            with torch.no_grad():\n",
    "                adversary_output = adv(concatenated_output)\n",
    "\n",
    "            # Calc adversary loss, which is an MSE loss, because this is a regression output. \n",
    "            adversary_loss = adv_criterion(adversary_output, targets)\n",
    "            ce_loss = criterion(student_outputs, labels)\n",
    "            # kd_loss = tkd_kdloss(student_outputs, teacher_outputs, temperature=temperature)  # Make sure this returns a scalar\n",
    "\n",
    "            # RKD Loss\n",
    "            distance_loss = RKDDistanceLoss()(student_outputs, teacher_outputs)\n",
    "            angle_loss = RKDAngleLoss()(student_outputs, teacher_outputs)\n",
    "            \n",
    "            if lmda != 0:\n",
    "                loss = ce_loss + 0.1 * (distance_loss + angle_loss) + (ce_loss + 0.1 * (distance_loss + angle_loss))/adversary_loss - lmda * adversary_loss\n",
    "            else:\n",
    "                loss = ce_loss + 0.1 * (distance_loss + angle_loss)\n",
    "    \n",
    "            # if kd_loss.ndim != 0:\n",
    "            #     kd_loss = kd_loss.sum()\n",
    "\n",
    "            # # Now combine the losses, subtract weighted adversary loss because we need to maximize that loss \n",
    "            # # goal of the model is to have the adversary not predict gender. \n",
    "            # if lmda != 0:\n",
    "            #     loss = (alpha * kd_loss + (1 - alpha) * ce_loss) + (alpha * kd_loss + (1 - alpha) * ce_loss)/adversary_loss - lmda * adversary_loss\n",
    "            # else:\n",
    "            #     loss = alpha * kd_loss + (1 - alpha) * ce_loss\n",
    "                \n",
    "            loss.backward()\n",
    "            optimizer.step()\n",
    "            running_loss += loss.item()\n",
    "            epoch_loss += loss.item()\n",
    "            num_batches += 1\n",
    "\n",
    "        epoch_loss /= num_batches\n",
    "        # print(f'*******Epoch {epoch}: running_recall_with - {running_recall_with/num_batches}  |  running_recall_without - {running_recall_without/num_batches}  |  disparity - {epoch_disparity/num_batches}******')\n",
    "        student_epoch_losses.append(epoch_loss)\n",
    "\n",
    "        student.eval()\n",
    "        total_correct = 0\n",
    "        total_samples = 0\n",
    "        total_val_loss = 0.0\n",
    "        num_batches = 0\n",
    "        # Validation after each epoch\n",
    "        with torch.no_grad():\n",
    "            for val_data in tqdm(testloader):\n",
    "                val_inputs = val_data['img'].to(device)\n",
    "                val_labels = val_data['label'].to(device)\n",
    "                val_targets = val_data['target'].to(device)\n",
    "                \n",
    "                # Forward pass for validation\n",
    "                val_student_outputs = student(val_inputs)\n",
    "                val_teacher_outputs = teacher(val_inputs)\n",
    "\n",
    "                val_studentached = val_student_outputs.detach()   \n",
    "                val_one_hot_labels = F.one_hot(val_labels, num_classes=num_classes).to(torch.float32)\n",
    "                val_concatenated_output = torch.cat((val_studentached, val_one_hot_labels), dim=1)\n",
    "                \n",
    "                val_adversary_output = adv(val_concatenated_output)\n",
    "                val_adversary_loss = adv_criterion(val_adversary_output, val_targets)\n",
    "                val_ce_loss = criterion(val_student_outputs, val_labels)\n",
    "                # val_kd_loss = tkd_kdloss(val_student_outputs, val_teacher_outputs, temperature=temperature)  # Make sure this returns a scalar\n",
    "    \n",
    "                # RKD Loss\n",
    "                val_distance_loss = RKDDistanceLoss()(val_student_outputs, val_teacher_outputs)\n",
    "                val_angle_loss = RKDAngleLoss()(val_student_outputs, val_teacher_outputs)\n",
    "                if lmda != 0:\n",
    "                    val_loss = \\\n",
    "                        val_ce_loss + 0.1 * (val_distance_loss + val_angle_loss) + (val_ce_loss + 0.1 * (val_distance_loss + val_angle_loss))/val_adversary_loss - lmda * val_adversary_loss\n",
    "                else:\n",
    "                    val_loss = val_ce_loss + 0.1 * (val_distance_loss + val_angle_loss)\n",
    "                \n",
    "                # if val_kd_loss.ndim != 0:\n",
    "                #     val_kd_loss = val_kd_loss.sum()\n",
    "                # if lmda != 0:\n",
    "                #     val_loss = (alpha * val_kd_loss + (1 - alpha) * val_ce_loss) + (alpha * val_kd_loss + (1 - alpha) * val_ce_loss)/val_adversary_loss - lmda * val_adversary_loss\n",
    "                # else:\n",
    "                #     val_loss = alpha * val_kd_loss + (1 - alpha) * val_ce_loss\n",
    "                \n",
    "                total_val_loss += val_loss.item()\n",
    "    \n",
    "                # Compute the validation accuracy\n",
    "                _, predicted = torch.max(val_student_outputs, 1)\n",
    "                total_samples += val_labels.size(0)\n",
    "                total_correct += (predicted == val_labels).sum().item()\n",
    "                num_batches += 1\n",
    "                recall_diff = evaluate_model_with_gender_multiclass(predicted, val_labels, val_targets, num_classes=num_classes)\n",
    "                confusion_male += recall_diff[1]\n",
    "                confusion_female += recall_diff[2]\n",
    "    \n",
    "            total_val_loss /= num_batches\n",
    "            confusion_male /= num_batches\n",
    "            confusion_female /= num_batches\n",
    "\n",
    "            epoch_disparity = calculate_recall_multiclass(confusion_male) - calculate_recall_multiclass(confusion_female)\n",
    "            val_losses.append(total_val_loss)\n",
    "            non_zero_abs_values = np.abs(epoch_disparity[epoch_disparity != 0])\n",
    "            mean_non_zero_abs_disparity = np.mean(non_zero_abs_values)\n",
    "            val_disparities.append(mean_non_zero_abs_disparity)\n",
    "            accuracy = total_correct / total_samples\n",
    "            val_accuracies.append(accuracy)\n",
    "            print(f'*****Epoch {epoch + 1}/{epochs}*****\\n' \n",
    "            f'*****Train Loss: {epoch_loss: .6f} Val Loss: {total_val_loss: .6f}*****\\n'\n",
    "            f'*****Validation Accuracy: {accuracy * 100:.2f}%*****\\n'\n",
    "            f'*****Total Avg Disparity: {mean_non_zero_abs_disparity}*****\\n')\n",
    "            class_recall_mapping = {class_name: epoch_disparity[int(class_label)] for class_label, class_name in class_idx.items()}\n",
    "            \n",
    "            # Print disparities by class label\n",
    "            for class_label, recall_diff in class_recall_mapping.items():\n",
    "                print(f\"Class {class_label}: Recall Difference = {recall_diff}\")\n",
    "\n",
    "        # Check for early stopping\n",
    "        if abs(total_val_loss) < abs(best_total_val_loss):\n",
    "            best_total_val_loss = total_val_loss\n",
    "            patience_counter = 0\n",
    "            best_epoch_mean_abs_disparity = mean_non_zero_abs_disparity\n",
    "            torch.save(student.state_dict(), f'student_model_weights_rkd_wider_checkpoint_lambda{lmda}.pth')\n",
    "            torch.save(student, f'student_model_rkd_wider_checkpoint_lambda{lmda}.pth')\n",
    "        else:\n",
    "            patience_counter += 1 \n",
    "\n",
    "        if patience_counter >= patience:\n",
    "            print('Early stopping')\n",
    "            break  \n",
    "    \n",
    "        file_path = os.path.join(output_dir, f'validation_{lmda}.txt')\n",
    "        \n",
    "        # Append data to the text file\n",
    "        with open(file_path, 'a') as file:\n",
    "            file.write(f'********Epoch: {epochs}***********')\n",
    "            \n",
    "            file.write(\"Val Accuracies:\\n\")\n",
    "            for accuracy in val_accuracies:\n",
    "                file.write(f\"{accuracy}\\n\")\n",
    "        \n",
    "            file.write(\"\\nVal Disparities:\\n\")\n",
    "            for disparity in val_disparities:\n",
    "                file.write(f\"{disparity}\\n\")\n",
    "\n",
    "            for class_label, recall_diff in class_recall_mapping.items():\n",
    "                file.write(f\"Class {class_label}: Recall Difference = {recall_diff}\\n\")\n",
    "        \n",
    "        \n",
    "        print(f\"Data has been appended to {file_path}\")\n",
    "    plot_loss_curve(val_losses)\n",
    "                \n",
    "    return best_epoch_mean_abs_disparity"
   ]
  },
  {
   "cell_type": "code",
   "execution_count": 27,
   "id": "17a06902-9ad4-47a6-9a67-181e2dc43218",
   "metadata": {},
   "outputs": [
    {
     "name": "stderr",
     "output_type": "stream",
     "text": [
      "100%|████████████████████████████████████████████████████████████████████████| 162/162 [02:07<00:00,  1.27it/s]\n",
      "100%|██████████████████████████████████████████████████████████████████████████| 55/55 [00:19<00:00,  2.85it/s]\n"
     ]
    },
    {
     "name": "stdout",
     "output_type": "stream",
     "text": [
      "*****Epoch 1/30*****\n",
      "*****Train Loss:  1.692031 Val Loss:  1.373034*****\n",
      "*****Validation Accuracy: 58.93%*****\n",
      "*****Total Avg Disparity: 0.18991072717396362*****\n",
      "\n",
      "Class Team_Sports: Recall Difference = 0.0963686519242074\n",
      "Class Celebration: Recall Difference = 0.07219662058371734\n",
      "Class Parade: Recall Difference = 0.029041566893841853\n",
      "Class Waiter_Or_Waitress: Recall Difference = -0.10439560439560436\n",
      "Class Individual_Sports: Recall Difference = -0.18668954996186127\n",
      "Class Surgeons: Recall Difference = -0.22619047619047616\n",
      "Class Spa: Recall Difference = -0.673469387755102\n",
      "Class Law_Enforcement: Recall Difference = 0.10550401978973406\n",
      "Class Business: Recall Difference = 0.11245748299319736\n",
      "Class Dresses: Recall Difference = -0.6605769230769232\n",
      "Class Water Activities: Recall Difference = 0.13089542036910462\n",
      "Class Picnic: Recall Difference = -0.29090909090909095\n",
      "Class Rescue: Recall Difference = 0.1006493506493506\n",
      "Class Cheering: Recall Difference = -0.03465955701394588\n",
      "Class Performance_And_Entertainment: Recall Difference = 0.17123459894392762\n",
      "Class Family: Recall Difference = -0.04333333333333339\n",
      "Data has been appended to ./runs_2023_12_04_11_22/teacher_validation_0.txt\n"
     ]
    },
    {
     "name": "stderr",
     "output_type": "stream",
     "text": [
      "100%|████████████████████████████████████████████████████████████████████████| 162/162 [02:07<00:00,  1.27it/s]\n",
      "100%|██████████████████████████████████████████████████████████████████████████| 55/55 [00:19<00:00,  2.82it/s]\n"
     ]
    },
    {
     "name": "stdout",
     "output_type": "stream",
     "text": [
      "*****Epoch 2/30*****\n",
      "*****Train Loss:  1.245096 Val Loss:  1.388499*****\n",
      "*****Validation Accuracy: 59.11%*****\n",
      "*****Total Avg Disparity: 0.1682305801939351*****\n",
      "\n",
      "Class Team_Sports: Recall Difference = 0.1032650477094923\n",
      "Class Celebration: Recall Difference = 0.054531490015360895\n",
      "Class Parade: Recall Difference = 0.01780561183766194\n",
      "Class Waiter_Or_Waitress: Recall Difference = -0.1295133437990582\n",
      "Class Individual_Sports: Recall Difference = -0.15690312738367662\n",
      "Class Surgeons: Recall Difference = -0.10416666666666669\n",
      "Class Spa: Recall Difference = -0.4897959183673469\n",
      "Class Law_Enforcement: Recall Difference = 0.13506493506493505\n",
      "Class Business: Recall Difference = 0.03188775510204078\n",
      "Class Dresses: Recall Difference = -0.729326923076923\n",
      "Class Water Activities: Recall Difference = -0.07347915242652081\n",
      "Class Picnic: Recall Difference = -0.3090909090909092\n",
      "Class Rescue: Recall Difference = 0.12337662337662325\n",
      "Class Cheering: Recall Difference = -0.029532403609515978\n",
      "Class Performance_And_Entertainment: Recall Difference = 0.1506160422428967\n",
      "Class Family: Recall Difference = -0.0533333333333334\n",
      "Data has been appended to ./runs_2023_12_04_11_22/teacher_validation_0.txt\n"
     ]
    },
    {
     "name": "stderr",
     "output_type": "stream",
     "text": [
      "100%|████████████████████████████████████████████████████████████████████████| 162/162 [02:08<00:00,  1.27it/s]\n",
      "100%|██████████████████████████████████████████████████████████████████████████| 55/55 [00:18<00:00,  2.93it/s]\n"
     ]
    },
    {
     "name": "stdout",
     "output_type": "stream",
     "text": [
      "*****Epoch 3/30*****\n",
      "*****Train Loss:  1.012808 Val Loss:  1.408750*****\n",
      "*****Validation Accuracy: 61.36%*****\n",
      "*****Total Avg Disparity: 0.1673172768696746*****\n",
      "\n",
      "Class Team_Sports: Recall Difference = 0.07441324107990777\n",
      "Class Celebration: Recall Difference = 0.08986175115207373\n",
      "Class Parade: Recall Difference = -0.010130779149014502\n",
      "Class Waiter_Or_Waitress: Recall Difference = -0.22135007849293564\n",
      "Class Individual_Sports: Recall Difference = -0.14919908466819243\n",
      "Class Surgeons: Recall Difference = -0.038690476190476164\n",
      "Class Spa: Recall Difference = -0.5102040816326531\n",
      "Class Law_Enforcement: Recall Difference = 0.13011750154607304\n",
      "Class Business: Recall Difference = 0.021045918367346927\n",
      "Class Dresses: Recall Difference = -0.65625\n",
      "Class Water Activities: Recall Difference = 0.08498519024834827\n",
      "Class Picnic: Recall Difference = -0.6\n",
      "Class Rescue: Recall Difference = -0.009490509490509447\n",
      "Class Cheering: Recall Difference = -0.056808859721082905\n",
      "Class Performance_And_Entertainment: Recall Difference = 0.01952895817617961\n",
      "Class Family: Recall Difference = -0.0050000000000000044\n",
      "Data has been appended to ./runs_2023_12_04_11_22/teacher_validation_0.txt\n"
     ]
    },
    {
     "name": "stderr",
     "output_type": "stream",
     "text": [
      "100%|████████████████████████████████████████████████████████████████████████| 162/162 [02:08<00:00,  1.26it/s]\n",
      "100%|██████████████████████████████████████████████████████████████████████████| 55/55 [00:19<00:00,  2.85it/s]\n"
     ]
    },
    {
     "name": "stdout",
     "output_type": "stream",
     "text": [
      "*****Epoch 4/30*****\n",
      "*****Train Loss:  0.830222 Val Loss:  1.468092*****\n",
      "*****Validation Accuracy: 61.56%*****\n",
      "*****Total Avg Disparity: 0.16690992348689548*****\n",
      "\n",
      "Class Team_Sports: Recall Difference = 0.03590648035092481\n",
      "Class Celebration: Recall Difference = -0.022273425499232002\n",
      "Class Parade: Recall Difference = 0.006876650089027936\n",
      "Class Waiter_Or_Waitress: Recall Difference = -0.03453689167974883\n",
      "Class Individual_Sports: Recall Difference = -0.12044241037376058\n",
      "Class Surgeons: Recall Difference = 0.08630952380952384\n",
      "Class Spa: Recall Difference = -0.673469387755102\n",
      "Class Law_Enforcement: Recall Difference = 0.11205936920222637\n",
      "Class Business: Recall Difference = 0.0189200680272108\n",
      "Class Dresses: Recall Difference = -0.6437500000000002\n",
      "Class Water Activities: Recall Difference = 0.09227614490772396\n",
      "Class Picnic: Recall Difference = -0.4363636363636364\n",
      "Class Rescue: Recall Difference = 0.04395604395604402\n",
      "Class Cheering: Recall Difference = -0.0908531583264971\n",
      "Class Performance_And_Entertainment: Recall Difference = 0.02589891878300221\n",
      "Class Family: Recall Difference = -0.22666666666666663\n",
      "Data has been appended to ./runs_2023_12_04_11_22/teacher_validation_0.txt\n"
     ]
    },
    {
     "name": "stderr",
     "output_type": "stream",
     "text": [
      "100%|████████████████████████████████████████████████████████████████████████| 162/162 [02:08<00:00,  1.26it/s]\n",
      "100%|██████████████████████████████████████████████████████████████████████████| 55/55 [00:19<00:00,  2.85it/s]\n"
     ]
    },
    {
     "name": "stdout",
     "output_type": "stream",
     "text": [
      "*****Epoch 5/30*****\n",
      "*****Train Loss:  0.697306 Val Loss:  1.456642*****\n",
      "*****Validation Accuracy: 62.71%*****\n",
      "*****Total Avg Disparity: 0.1397862868022821*****\n",
      "\n",
      "Class Team_Sports: Recall Difference = 0.07647085424863198\n",
      "Class Celebration: Recall Difference = -0.028417818740399503\n",
      "Class Parade: Recall Difference = -0.10757045496408169\n",
      "Class Waiter_Or_Waitress: Recall Difference = -0.08948194662480391\n",
      "Class Individual_Sports: Recall Difference = -0.1502288329519451\n",
      "Class Surgeons: Recall Difference = -0.09523809523809518\n",
      "Class Spa: Recall Difference = 0.24489795918367352\n",
      "Class Law_Enforcement: Recall Difference = 0.05528756957328396\n",
      "Class Business: Recall Difference = -0.052721088435374264\n",
      "Class Dresses: Recall Difference = -0.710576923076923\n",
      "Class Water Activities: Recall Difference = 0.01777170198222844\n",
      "Class Picnic: Recall Difference = -0.14545454545454545\n",
      "Class Rescue: Recall Difference = 0.09440559440559443\n",
      "Class Cheering: Recall Difference = -0.19667760459392952\n",
      "Class Performance_And_Entertainment: Recall Difference = 0.008046266029670679\n",
      "Class Family: Recall Difference = -0.16333333333333322\n",
      "Data has been appended to ./runs_2023_12_04_11_22/teacher_validation_0.txt\n"
     ]
    },
    {
     "name": "stderr",
     "output_type": "stream",
     "text": [
      "100%|████████████████████████████████████████████████████████████████████████| 162/162 [02:07<00:00,  1.27it/s]\n",
      "100%|██████████████████████████████████████████████████████████████████████████| 55/55 [00:19<00:00,  2.80it/s]\n"
     ]
    },
    {
     "name": "stdout",
     "output_type": "stream",
     "text": [
      "*****Epoch 6/30*****\n",
      "*****Train Loss:  0.578145 Val Loss:  1.606289*****\n",
      "*****Validation Accuracy: 59.02%*****\n",
      "*****Total Avg Disparity: 0.16719860833812442*****\n",
      "\n",
      "Class Team_Sports: Recall Difference = 0.07029801474245934\n",
      "Class Celebration: Recall Difference = -0.023425499231950864\n",
      "Class Parade: Recall Difference = 0.07938846933136856\n",
      "Class Waiter_Or_Waitress: Recall Difference = -0.08555729984301419\n",
      "Class Individual_Sports: Recall Difference = -0.10247902364607175\n",
      "Class Surgeons: Recall Difference = -0.1830357142857143\n",
      "Class Spa: Recall Difference = -0.7755102040816327\n",
      "Class Law_Enforcement: Recall Difference = 0.05293753865182449\n",
      "Class Business: Recall Difference = 0.03125\n",
      "Class Dresses: Recall Difference = -0.6024038461538463\n",
      "Class Water Activities: Recall Difference = 0.09239006607427669\n",
      "Class Picnic: Recall Difference = -0.1818181818181819\n",
      "Class Rescue: Recall Difference = 0.06643356643356646\n",
      "Class Cheering: Recall Difference = -0.05168170631665303\n",
      "Class Performance_And_Entertainment: Recall Difference = 0.06990193613276335\n",
      "Class Family: Recall Difference = -0.20666666666666672\n",
      "Data has been appended to ./runs_2023_12_04_11_22/teacher_validation_0.txt\n"
     ]
    },
    {
     "name": "stderr",
     "output_type": "stream",
     "text": [
      "100%|████████████████████████████████████████████████████████████████████████| 162/162 [02:08<00:00,  1.26it/s]\n",
      "100%|██████████████████████████████████████████████████████████████████████████| 55/55 [00:19<00:00,  2.87it/s]\n"
     ]
    },
    {
     "name": "stdout",
     "output_type": "stream",
     "text": [
      "*****Epoch 7/30*****\n",
      "*****Train Loss:  0.467196 Val Loss:  1.674609*****\n",
      "*****Validation Accuracy: 59.80%*****\n",
      "*****Total Avg Disparity: 0.16612725427717284*****\n",
      "\n",
      "Class Team_Sports: Recall Difference = 0.018789852123185513\n",
      "Class Celebration: Recall Difference = 0.08947772657450076\n",
      "Class Parade: Recall Difference = -0.09148400564867709\n",
      "Class Waiter_Or_Waitress: Recall Difference = -0.05572998430141285\n",
      "Class Individual_Sports: Recall Difference = -0.17890922959572853\n",
      "Class Surgeons: Recall Difference = -0.023809523809523836\n",
      "Class Spa: Recall Difference = -0.673469387755102\n",
      "Class Law_Enforcement: Recall Difference = 0.055163883735312336\n",
      "Class Business: Recall Difference = -0.11373299319727881\n",
      "Class Dresses: Recall Difference = -0.6504807692307693\n",
      "Class Water Activities: Recall Difference = 0.09295967190704013\n",
      "Class Picnic: Recall Difference = -0.36363636363636365\n",
      "Class Rescue: Recall Difference = 0.042957042957042946\n",
      "Class Cheering: Recall Difference = -0.15463494667760463\n",
      "Class Performance_And_Entertainment: Recall Difference = 0.037800687285223344\n",
      "Class Family: Recall Difference = 0.014999999999999902\n",
      "Data has been appended to ./runs_2023_12_04_11_22/teacher_validation_0.txt\n"
     ]
    },
    {
     "name": "stderr",
     "output_type": "stream",
     "text": [
      "100%|████████████████████████████████████████████████████████████████████████| 162/162 [02:08<00:00,  1.26it/s]\n",
      "100%|██████████████████████████████████████████████████████████████████████████| 55/55 [00:19<00:00,  2.80it/s]\n"
     ]
    },
    {
     "name": "stdout",
     "output_type": "stream",
     "text": [
      "*****Epoch 8/30*****\n",
      "*****Train Loss:  0.407095 Val Loss:  1.704651*****\n",
      "*****Validation Accuracy: 61.73%*****\n",
      "*****Total Avg Disparity: 0.14448313651580236*****\n",
      "\n",
      "Class Team_Sports: Recall Difference = 0.09367792701126043\n",
      "Class Celebration: Recall Difference = 0.0721966205837174\n",
      "Class Parade: Recall Difference = -0.02529624854178192\n",
      "Class Waiter_Or_Waitress: Recall Difference = -0.10361067503924648\n",
      "Class Individual_Sports: Recall Difference = -0.09443173150266959\n",
      "Class Surgeons: Recall Difference = -0.1726190476190475\n",
      "Class Spa: Recall Difference = 0.3877551020408163\n",
      "Class Law_Enforcement: Recall Difference = 0.03722943722943728\n",
      "Class Business: Recall Difference = 0.04017857142857151\n",
      "Class Dresses: Recall Difference = -0.5899038461538462\n",
      "Class Water Activities: Recall Difference = 0.0776942355889726\n",
      "Class Picnic: Recall Difference = -0.2545454545454546\n",
      "Class Rescue: Recall Difference = 0.1665834165834167\n",
      "Class Cheering: Recall Difference = -0.04737489745693191\n",
      "Class Performance_And_Entertainment: Recall Difference = -0.008632972927667515\n",
      "Class Family: Recall Difference = -0.14000000000000012\n",
      "Data has been appended to ./runs_2023_12_04_11_22/teacher_validation_0.txt\n"
     ]
    },
    {
     "name": "stderr",
     "output_type": "stream",
     "text": [
      "100%|████████████████████████████████████████████████████████████████████████| 162/162 [02:08<00:00,  1.26it/s]\n",
      "100%|██████████████████████████████████████████████████████████████████████████| 55/55 [00:19<00:00,  2.84it/s]\n"
     ]
    },
    {
     "name": "stdout",
     "output_type": "stream",
     "text": [
      "*****Epoch 9/30*****\n",
      "*****Train Loss:  0.342663 Val Loss:  1.766364*****\n",
      "*****Validation Accuracy: 60.61%*****\n",
      "*****Total Avg Disparity: 0.15402721818520407*****\n",
      "\n",
      "Class Team_Sports: Recall Difference = 0.07373490706824049\n",
      "Class Celebration: Recall Difference = -0.031105990783410142\n",
      "Class Parade: Recall Difference = 0.03266408792288322\n",
      "Class Waiter_Or_Waitress: Recall Difference = -0.196232339089482\n",
      "Class Individual_Sports: Recall Difference = 0.00930587337910005\n",
      "Class Surgeons: Recall Difference = -0.04017857142857145\n",
      "Class Spa: Recall Difference = -0.6938775510204082\n",
      "Class Law_Enforcement: Recall Difference = 0.06221397649969074\n",
      "Class Business: Recall Difference = 0.030187074829931992\n",
      "Class Dresses: Recall Difference = -0.5730769230769232\n",
      "Class Water Activities: Recall Difference = 0.05547960811118713\n",
      "Class Picnic: Recall Difference = -0.21818181818181823\n",
      "Class Rescue: Recall Difference = 0.13386613386613383\n",
      "Class Cheering: Recall Difference = -0.10172272354388845\n",
      "Class Performance_And_Entertainment: Recall Difference = 0.004274578828262543\n",
      "Class Family: Recall Difference = -0.20833333333333331\n",
      "Data has been appended to ./runs_2023_12_04_11_22/teacher_validation_0.txt\n"
     ]
    },
    {
     "name": "stderr",
     "output_type": "stream",
     "text": [
      "100%|████████████████████████████████████████████████████████████████████████| 162/162 [02:09<00:00,  1.25it/s]\n",
      "100%|██████████████████████████████████████████████████████████████████████████| 55/55 [00:19<00:00,  2.84it/s]\n"
     ]
    },
    {
     "name": "stdout",
     "output_type": "stream",
     "text": [
      "*****Epoch 10/30*****\n",
      "*****Train Loss:  0.315746 Val Loss:  1.769826*****\n",
      "*****Validation Accuracy: 61.04%*****\n",
      "*****Total Avg Disparity: 0.13526077303784595*****\n",
      "\n",
      "Class Team_Sports: Recall Difference = 0.016076516076515945\n",
      "Class Celebration: Recall Difference = 0.0038402457757296116\n",
      "Class Parade: Recall Difference = -0.08209001043777264\n",
      "Class Waiter_Or_Waitress: Recall Difference = -0.14207221350078503\n",
      "Class Individual_Sports: Recall Difference = -0.07799389778794807\n",
      "Class Surgeons: Recall Difference = -0.2053571428571429\n",
      "Class Spa: Recall Difference = 0.2448979591836734\n",
      "Class Law_Enforcement: Recall Difference = 0.05974025974025987\n",
      "Class Business: Recall Difference = 0.04124149659863946\n",
      "Class Dresses: Recall Difference = -0.6336538461538461\n",
      "Class Water Activities: Recall Difference = 0.002050580997949525\n",
      "Class Picnic: Recall Difference = -0.36363636363636365\n",
      "Class Rescue: Recall Difference = 0.13386613386613389\n",
      "Class Cheering: Recall Difference = 0.03814602132895811\n",
      "Class Performance_And_Entertainment: Recall Difference = 0.01617634733048362\n",
      "Class Family: Recall Difference = -0.10333333333333328\n",
      "Data has been appended to ./runs_2023_12_04_11_22/teacher_validation_0.txt\n"
     ]
    },
    {
     "name": "stderr",
     "output_type": "stream",
     "text": [
      "100%|████████████████████████████████████████████████████████████████████████| 162/162 [02:09<00:00,  1.25it/s]\n",
      "100%|██████████████████████████████████████████████████████████████████████████| 55/55 [00:19<00:00,  2.83it/s]\n"
     ]
    },
    {
     "name": "stdout",
     "output_type": "stream",
     "text": [
      "*****Epoch 11/30*****\n",
      "*****Train Loss:  0.254128 Val Loss:  1.958415*****\n",
      "*****Validation Accuracy: 61.15%*****\n",
      "*****Total Avg Disparity: 0.1896546119027938*****\n",
      "\n",
      "Class Team_Sports: Recall Difference = 0.07506896395785279\n",
      "Class Celebration: Recall Difference = -0.004992319508448584\n",
      "Class Parade: Recall Difference = -0.10302695401240236\n",
      "Class Waiter_Or_Waitress: Recall Difference = -0.2189952904238619\n",
      "Class Individual_Sports: Recall Difference = -0.10110602593440132\n",
      "Class Surgeons: Recall Difference = -0.22172619047619052\n",
      "Class Spa: Recall Difference = -0.7959183673469388\n",
      "Class Law_Enforcement: Recall Difference = 0.0644403215831788\n",
      "Class Business: Recall Difference = 0.08227040816326536\n",
      "Class Dresses: Recall Difference = -0.6004807692307693\n",
      "Class Water Activities: Recall Difference = 0.017202096149464663\n",
      "Class Picnic: Recall Difference = -0.29090909090909095\n",
      "Class Rescue: Recall Difference = 0.14685314685314693\n",
      "Class Cheering: Recall Difference = 0.0004101722723543477\n",
      "Class Performance_And_Entertainment: Recall Difference = 0.15774034029000078\n",
      "Class Family: Recall Difference = -0.15333333333333332\n",
      "Data has been appended to ./runs_2023_12_04_11_22/teacher_validation_0.txt\n"
     ]
    },
    {
     "name": "stderr",
     "output_type": "stream",
     "text": [
      "100%|████████████████████████████████████████████████████████████████████████| 162/162 [02:09<00:00,  1.25it/s]\n",
      "100%|██████████████████████████████████████████████████████████████████████████| 55/55 [00:19<00:00,  2.86it/s]\n"
     ]
    },
    {
     "name": "stdout",
     "output_type": "stream",
     "text": [
      "*****Epoch 12/30*****\n",
      "*****Train Loss:  0.261646 Val Loss:  2.015692*****\n",
      "*****Validation Accuracy: 61.70%*****\n",
      "*****Total Avg Disparity: 0.19556484441819663*****\n",
      "\n",
      "Class Team_Sports: Recall Difference = 0.08678153122597565\n",
      "Class Celebration: Recall Difference = -0.019969278033794113\n",
      "Class Parade: Recall Difference = -0.05777614048013757\n",
      "Class Waiter_Or_Waitress: Recall Difference = -0.18838304552590257\n",
      "Class Individual_Sports: Recall Difference = -0.10957284515636934\n",
      "Class Surgeons: Recall Difference = -0.22767857142857134\n",
      "Class Spa: Recall Difference = -0.8163265306122448\n",
      "Class Law_Enforcement: Recall Difference = 0.0871985157699442\n",
      "Class Business: Recall Difference = 0.06377551020408162\n",
      "Class Dresses: Recall Difference = -0.6004807692307692\n",
      "Class Water Activities: Recall Difference = 0.0776942355889726\n",
      "Class Picnic: Recall Difference = -0.2727272727272728\n",
      "Class Rescue: Recall Difference = 0.1328671328671329\n",
      "Class Cheering: Recall Difference = -0.0822395406070549\n",
      "Class Performance_And_Entertainment: Recall Difference = 0.040566591232922666\n",
      "Class Family: Recall Difference = -0.26499999999999996\n",
      "Data has been appended to ./runs_2023_12_04_11_22/teacher_validation_0.txt\n"
     ]
    },
    {
     "name": "stderr",
     "output_type": "stream",
     "text": [
      "100%|████████████████████████████████████████████████████████████████████████| 162/162 [02:09<00:00,  1.25it/s]\n",
      "100%|██████████████████████████████████████████████████████████████████████████| 55/55 [00:19<00:00,  2.83it/s]\n"
     ]
    },
    {
     "name": "stdout",
     "output_type": "stream",
     "text": [
      "*****Epoch 13/30*****\n",
      "*****Train Loss:  0.242685 Val Loss:  2.116843*****\n",
      "*****Validation Accuracy: 59.11%*****\n",
      "*****Total Avg Disparity: 0.14572157586139395*****\n",
      "\n",
      "Class Team_Sports: Recall Difference = 0.05318138651471971\n",
      "Class Celebration: Recall Difference = 0.029953917050691226\n",
      "Class Parade: Recall Difference = 0.030208141462516214\n",
      "Class Waiter_Or_Waitress: Recall Difference = -0.14442700156985866\n",
      "Class Individual_Sports: Recall Difference = -0.016285278413424864\n",
      "Class Surgeons: Recall Difference = -0.1428571428571429\n",
      "Class Spa: Recall Difference = -0.5714285714285714\n",
      "Class Law_Enforcement: Recall Difference = 0.01224489795918371\n",
      "Class Business: Recall Difference = 0.07206632653061218\n",
      "Class Dresses: Recall Difference = -0.6586538461538463\n",
      "Class Water Activities: Recall Difference = 0.10036454773296877\n",
      "Class Picnic: Recall Difference = -0.18181818181818185\n",
      "Class Rescue: Recall Difference = 0.0809190809190809\n",
      "Class Cheering: Recall Difference = -0.023995077932731756\n",
      "Class Performance_And_Entertainment: Recall Difference = 0.06814181543877296\n",
      "Class Family: Recall Difference = -0.14499999999999996\n",
      "Data has been appended to ./runs_2023_12_04_11_22/teacher_validation_0.txt\n"
     ]
    },
    {
     "name": "stderr",
     "output_type": "stream",
     "text": [
      "100%|████████████████████████████████████████████████████████████████████████| 162/162 [02:08<00:00,  1.27it/s]\n",
      "100%|██████████████████████████████████████████████████████████████████████████| 55/55 [00:19<00:00,  2.81it/s]\n"
     ]
    },
    {
     "name": "stdout",
     "output_type": "stream",
     "text": [
      "*****Epoch 14/30*****\n",
      "*****Train Loss:  0.235041 Val Loss:  2.130011*****\n",
      "*****Validation Accuracy: 59.88%*****\n",
      "*****Total Avg Disparity: 0.13812392814646385*****\n",
      "\n",
      "Class Team_Sports: Recall Difference = 0.0731696287251844\n",
      "Class Celebration: Recall Difference = -0.02611367127496167\n",
      "Class Parade: Recall Difference = -0.017130226561061\n",
      "Class Waiter_Or_Waitress: Recall Difference = -0.1467817896389325\n",
      "Class Individual_Sports: Recall Difference = -0.08363844393592668\n",
      "Class Surgeons: Recall Difference = -0.20386904761904773\n",
      "Class Spa: Recall Difference = 0.2448979591836734\n",
      "Class Law_Enforcement: Recall Difference = 0.0531849103277674\n",
      "Class Business: Recall Difference = 0.04145408163265302\n",
      "Class Dresses: Recall Difference = -0.6375\n",
      "Class Water Activities: Recall Difference = 0.048188653451811336\n",
      "Class Picnic: Recall Difference = -0.32727272727272727\n",
      "Class Rescue: Recall Difference = 0.07517482517482521\n",
      "Class Cheering: Recall Difference = -0.06337161607875308\n",
      "Class Performance_And_Entertainment: Recall Difference = 0.06990193613276335\n",
      "Class Family: Recall Difference = -0.09833333333333338\n",
      "Data has been appended to ./runs_2023_12_04_11_22/teacher_validation_0.txt\n"
     ]
    },
    {
     "name": "stderr",
     "output_type": "stream",
     "text": [
      "100%|████████████████████████████████████████████████████████████████████████| 162/162 [02:08<00:00,  1.26it/s]\n",
      "100%|██████████████████████████████████████████████████████████████████████████| 55/55 [00:19<00:00,  2.82it/s]\n"
     ]
    },
    {
     "name": "stdout",
     "output_type": "stream",
     "text": [
      "*****Epoch 15/30*****\n",
      "*****Train Loss:  0.205218 Val Loss:  2.112070*****\n",
      "*****Validation Accuracy: 60.12%*****\n",
      "*****Total Avg Disparity: 0.16086820970644927*****\n",
      "\n",
      "Class Team_Sports: Recall Difference = 0.05243521910188598\n",
      "Class Celebration: Recall Difference = -0.05030721966205842\n",
      "Class Parade: Recall Difference = -0.04961011849941677\n",
      "Class Waiter_Or_Waitress: Recall Difference = -0.12480376766091061\n",
      "Class Individual_Sports: Recall Difference = -0.10358504958047288\n",
      "Class Surgeons: Recall Difference = -0.11755952380952384\n",
      "Class Spa: Recall Difference = 0.34693877551020413\n",
      "Class Law_Enforcement: Recall Difference = 0.057513914656771914\n",
      "Class Business: Recall Difference = 0.12500000000000006\n",
      "Class Dresses: Recall Difference = -0.5899038461538461\n",
      "Class Water Activities: Recall Difference = 0.055365686944634396\n",
      "Class Picnic: Recall Difference = -0.2727272727272728\n",
      "Class Rescue: Recall Difference = 0.08866133866133874\n",
      "Class Cheering: Recall Difference = -0.11997538966365875\n",
      "Class Performance_And_Entertainment: Recall Difference = 0.13117089933785936\n",
      "Class Family: Recall Difference = -0.28833333333333344\n",
      "Data has been appended to ./runs_2023_12_04_11_22/teacher_validation_0.txt\n"
     ]
    },
    {
     "name": "stderr",
     "output_type": "stream",
     "text": [
      "100%|████████████████████████████████████████████████████████████████████████| 162/162 [02:07<00:00,  1.27it/s]\n",
      "100%|██████████████████████████████████████████████████████████████████████████| 55/55 [00:19<00:00,  2.84it/s]\n"
     ]
    },
    {
     "name": "stdout",
     "output_type": "stream",
     "text": [
      "*****Epoch 16/30*****\n",
      "*****Train Loss:  0.180510 Val Loss:  2.239803*****\n",
      "*****Validation Accuracy: 59.94%*****\n",
      "*****Total Avg Disparity: 0.1279768806027744*****\n",
      "\n",
      "Class Team_Sports: Recall Difference = 0.027721249943472248\n",
      "Class Celebration: Recall Difference = -0.014592933947772613\n",
      "Class Parade: Recall Difference = -0.028059188309695005\n",
      "Class Waiter_Or_Waitress: Recall Difference = -0.2142857142857143\n",
      "Class Individual_Sports: Recall Difference = -0.09580472921434025\n",
      "Class Surgeons: Recall Difference = -0.055059523809523836\n",
      "Class Spa: Recall Difference = 0.26530612244897955\n",
      "Class Law_Enforcement: Recall Difference = -0.019542362399505242\n",
      "Class Business: Recall Difference = -0.010629251700680298\n",
      "Class Dresses: Recall Difference = -0.6418269230769231\n",
      "Class Water Activities: Recall Difference = 0.13043973570289358\n",
      "Class Picnic: Recall Difference = -0.18181818181818185\n",
      "Class Rescue: Recall Difference = -0.015234765234765246\n",
      "Class Cheering: Recall Difference = -0.044503691550451197\n",
      "Class Performance_And_Entertainment: Recall Difference = 0.11113904953482528\n",
      "Class Family: Recall Difference = -0.19166666666666665\n",
      "Data has been appended to ./runs_2023_12_04_11_22/teacher_validation_0.txt\n"
     ]
    },
    {
     "name": "stderr",
     "output_type": "stream",
     "text": [
      "100%|████████████████████████████████████████████████████████████████████████| 162/162 [02:10<00:00,  1.24it/s]\n",
      "100%|██████████████████████████████████████████████████████████████████████████| 55/55 [00:19<00:00,  2.82it/s]\n"
     ]
    },
    {
     "name": "stdout",
     "output_type": "stream",
     "text": [
      "*****Epoch 17/30*****\n",
      "*****Train Loss:  0.192539 Val Loss:  2.196071*****\n",
      "*****Validation Accuracy: 61.24%*****\n",
      "*****Total Avg Disparity: 0.16385104400346726*****\n",
      "\n",
      "Class Team_Sports: Recall Difference = 0.01053678831456617\n",
      "Class Celebration: Recall Difference = -0.06874039938556065\n",
      "Class Parade: Recall Difference = -0.04414563762509982\n",
      "Class Waiter_Or_Waitress: Recall Difference = -0.11381475667189955\n",
      "Class Individual_Sports: Recall Difference = -0.17017543859649126\n",
      "Class Surgeons: Recall Difference = -0.25\n",
      "Class Spa: Recall Difference = 0.326530612244898\n",
      "Class Law_Enforcement: Recall Difference = -0.0013605442176870541\n",
      "Class Business: Recall Difference = 0.07312925170068035\n",
      "Class Dresses: Recall Difference = -0.5774038461538461\n",
      "Class Water Activities: Recall Difference = 0.09250398724082953\n",
      "Class Picnic: Recall Difference = -0.3090909090909091\n",
      "Class Rescue: Recall Difference = 0.16458541458541456\n",
      "Class Cheering: Recall Difference = -0.15545529122231333\n",
      "Class Performance_And_Entertainment: Recall Difference = 0.0974771603386137\n",
      "Class Family: Recall Difference = -0.16666666666666669\n",
      "Data has been appended to ./runs_2023_12_04_11_22/teacher_validation_0.txt\n"
     ]
    },
    {
     "name": "stderr",
     "output_type": "stream",
     "text": [
      "100%|████████████████████████████████████████████████████████████████████████| 162/162 [02:09<00:00,  1.25it/s]\n",
      "100%|██████████████████████████████████████████████████████████████████████████| 55/55 [00:19<00:00,  2.87it/s]\n"
     ]
    },
    {
     "name": "stdout",
     "output_type": "stream",
     "text": [
      "*****Epoch 18/30*****\n",
      "*****Train Loss:  0.181124 Val Loss:  2.116850*****\n",
      "*****Validation Accuracy: 61.99%*****\n",
      "*****Total Avg Disparity: 0.18400180560385918*****\n",
      "\n",
      "Class Team_Sports: Recall Difference = 0.05657305657305667\n",
      "Class Celebration: Recall Difference = -0.016129032258064502\n",
      "Class Parade: Recall Difference = -0.04445263093264573\n",
      "Class Waiter_Or_Waitress: Recall Difference = -0.3163265306122449\n",
      "Class Individual_Sports: Recall Difference = -0.116933638443936\n",
      "Class Surgeons: Recall Difference = -0.007440476190476164\n",
      "Class Spa: Recall Difference = -0.7959183673469388\n",
      "Class Law_Enforcement: Recall Difference = 0.07804576376004946\n",
      "Class Business: Recall Difference = -0.030824829931972886\n",
      "Class Dresses: Recall Difference = -0.5129807692307693\n",
      "Class Water Activities: Recall Difference = 0.1305536568694463\n",
      "Class Picnic: Recall Difference = -0.4909090909090909\n",
      "Class Rescue: Recall Difference = 0.10739260739260742\n",
      "Class Cheering: Recall Difference = -0.08141919606234616\n",
      "Class Performance_And_Entertainment: Recall Difference = 0.051462576481434874\n",
      "Class Family: Recall Difference = -0.10666666666666663\n",
      "Data has been appended to ./runs_2023_12_04_11_22/teacher_validation_0.txt\n"
     ]
    },
    {
     "name": "stderr",
     "output_type": "stream",
     "text": [
      "100%|████████████████████████████████████████████████████████████████████████| 162/162 [02:08<00:00,  1.26it/s]\n",
      "100%|██████████████████████████████████████████████████████████████████████████| 55/55 [00:19<00:00,  2.83it/s]\n"
     ]
    },
    {
     "name": "stdout",
     "output_type": "stream",
     "text": [
      "*****Epoch 19/30*****\n",
      "*****Train Loss:  0.175381 Val Loss:  2.129815*****\n",
      "*****Validation Accuracy: 58.90%*****\n",
      "*****Total Avg Disparity: 0.1728934669849649*****\n",
      "\n",
      "Class Team_Sports: Recall Difference = 0.03321575543797772\n",
      "Class Celebration: Recall Difference = -0.006144393241167445\n",
      "Class Parade: Recall Difference = -0.059311107017867126\n",
      "Class Waiter_Or_Waitress: Recall Difference = -0.2142857142857142\n",
      "Class Individual_Sports: Recall Difference = -0.09553775743707105\n",
      "Class Surgeons: Recall Difference = -0.2663690476190476\n",
      "Class Spa: Recall Difference = -0.7142857142857143\n",
      "Class Law_Enforcement: Recall Difference = -0.03042671614100184\n",
      "Class Business: Recall Difference = 0.032525510204081676\n",
      "Class Dresses: Recall Difference = -0.5379807692307692\n",
      "Class Water Activities: Recall Difference = 0.06994759626338587\n",
      "Class Picnic: Recall Difference = -0.3090909090909092\n",
      "Class Rescue: Recall Difference = 0.15934065934065939\n",
      "Class Cheering: Recall Difference = -0.058859721082854755\n",
      "Class Performance_And_Entertainment: Recall Difference = 0.038974101081217016\n",
      "Class Family: Recall Difference = -0.14\n",
      "Data has been appended to ./runs_2023_12_04_11_22/teacher_validation_0.txt\n"
     ]
    },
    {
     "name": "stderr",
     "output_type": "stream",
     "text": [
      "100%|████████████████████████████████████████████████████████████████████████| 162/162 [02:07<00:00,  1.27it/s]\n",
      "100%|██████████████████████████████████████████████████████████████████████████| 55/55 [00:19<00:00,  2.87it/s]\n"
     ]
    },
    {
     "name": "stdout",
     "output_type": "stream",
     "text": [
      "*****Epoch 20/30*****\n",
      "*****Train Loss:  0.153088 Val Loss:  2.183410*****\n",
      "*****Validation Accuracy: 60.78%*****\n",
      "*****Total Avg Disparity: 0.17199510058113138*****\n",
      "\n",
      "Class Team_Sports: Recall Difference = 0.04630760186315719\n",
      "Class Celebration: Recall Difference = 0.029569892473118253\n",
      "Class Parade: Recall Difference = -0.048996131884324834\n",
      "Class Waiter_Or_Waitress: Recall Difference = -0.2755102040816328\n",
      "Class Individual_Sports: Recall Difference = -0.05625476735316537\n",
      "Class Surgeons: Recall Difference = -0.22767857142857134\n",
      "Class Spa: Recall Difference = -0.7551020408163266\n",
      "Class Law_Enforcement: Recall Difference = 0.01224489795918382\n",
      "Class Business: Recall Difference = -0.041879251700680076\n",
      "Class Dresses: Recall Difference = -0.5442307692307693\n",
      "Class Water Activities: Recall Difference = 0.12326270221007085\n",
      "Class Picnic: Recall Difference = -0.25454545454545463\n",
      "Class Rescue: Recall Difference = 0.10839160839160844\n",
      "Class Cheering: Recall Difference = -0.0451189499589828\n",
      "Class Performance_And_Entertainment: Recall Difference = 0.08616209873438935\n",
      "Class Family: Recall Difference = -0.09666666666666662\n",
      "Data has been appended to ./runs_2023_12_04_11_22/teacher_validation_0.txt\n"
     ]
    },
    {
     "name": "stderr",
     "output_type": "stream",
     "text": [
      "100%|████████████████████████████████████████████████████████████████████████| 162/162 [02:07<00:00,  1.27it/s]\n",
      "100%|██████████████████████████████████████████████████████████████████████████| 55/55 [00:19<00:00,  2.82it/s]\n"
     ]
    },
    {
     "name": "stdout",
     "output_type": "stream",
     "text": [
      "*****Epoch 21/30*****\n",
      "*****Train Loss:  0.154575 Val Loss:  2.133461*****\n",
      "*****Validation Accuracy: 60.46%*****\n",
      "*****Total Avg Disparity: 0.16115407885314847*****\n",
      "\n",
      "Class Team_Sports: Recall Difference = 0.04974449418893856\n",
      "Class Celebration: Recall Difference = -0.09139784946236551\n",
      "Class Parade: Recall Difference = -0.07416958310308841\n",
      "Class Waiter_Or_Waitress: Recall Difference = -0.13971742543171128\n",
      "Class Individual_Sports: Recall Difference = -0.01449275362318836\n",
      "Class Surgeons: Recall Difference = 0.07738095238095238\n",
      "Class Spa: Recall Difference = -0.673469387755102\n",
      "Class Law_Enforcement: Recall Difference = -0.030674087816944917\n",
      "Class Business: Recall Difference = 0.04145408163265302\n",
      "Class Dresses: Recall Difference = -0.6230769230769233\n",
      "Class Water Activities: Recall Difference = 0.09273182957393467\n",
      "Class Picnic: Recall Difference = -0.3272727272727274\n",
      "Class Rescue: Recall Difference = 0.02472527472527475\n",
      "Class Cheering: Recall Difference = -0.13146021328958168\n",
      "Class Performance_And_Entertainment: Recall Difference = 0.063364344983656\n",
      "Class Family: Recall Difference = -0.1233333333333334\n",
      "Data has been appended to ./runs_2023_12_04_11_22/teacher_validation_0.txt\n"
     ]
    },
    {
     "name": "stderr",
     "output_type": "stream",
     "text": [
      "100%|████████████████████████████████████████████████████████████████████████| 162/162 [02:07<00:00,  1.28it/s]\n",
      "100%|██████████████████████████████████████████████████████████████████████████| 55/55 [00:20<00:00,  2.71it/s]\n"
     ]
    },
    {
     "name": "stdout",
     "output_type": "stream",
     "text": [
      "*****Epoch 22/30*****\n",
      "*****Train Loss:  0.149432 Val Loss:  2.304027*****\n",
      "*****Validation Accuracy: 60.00%*****\n",
      "*****Total Avg Disparity: 0.16483749115414273*****\n",
      "\n",
      "Class Team_Sports: Recall Difference = 0.06417039750373077\n",
      "Class Celebration: Recall Difference = -0.04531490015360984\n",
      "Class Parade: Recall Difference = -0.00920979922637677\n",
      "Class Waiter_Or_Waitress: Recall Difference = -0.22213500784929374\n",
      "Class Individual_Sports: Recall Difference = -0.0019069412662090501\n",
      "Class Surgeons: Recall Difference = -0.14880952380952384\n",
      "Class Spa: Recall Difference = -0.7142857142857143\n",
      "Class Law_Enforcement: Recall Difference = 0.05318491032776751\n",
      "Class Business: Recall Difference = -0.03125000000000011\n",
      "Class Dresses: Recall Difference = -0.6543269230769232\n",
      "Class Water Activities: Recall Difference = 0.040100250626566414\n",
      "Class Picnic: Recall Difference = -0.32727272727272727\n",
      "Class Rescue: Recall Difference = 0.0054945054945054195\n",
      "Class Cheering: Recall Difference = -0.10602953240360952\n",
      "Class Performance_And_Entertainment: Recall Difference = 0.08557539183639262\n",
      "Class Family: Recall Difference = -0.12833333333333335\n",
      "Data has been appended to ./runs_2023_12_04_11_22/teacher_validation_0.txt\n"
     ]
    },
    {
     "name": "stderr",
     "output_type": "stream",
     "text": [
      "100%|████████████████████████████████████████████████████████████████████████| 162/162 [02:09<00:00,  1.25it/s]\n",
      "100%|██████████████████████████████████████████████████████████████████████████| 55/55 [00:18<00:00,  2.90it/s]\n"
     ]
    },
    {
     "name": "stdout",
     "output_type": "stream",
     "text": [
      "*****Epoch 23/30*****\n",
      "*****Train Loss:  0.157413 Val Loss:  2.186035*****\n",
      "*****Validation Accuracy: 60.69%*****\n",
      "*****Total Avg Disparity: 0.1625613993318696*****\n",
      "\n",
      "Class Team_Sports: Recall Difference = 0.07034323700990375\n",
      "Class Celebration: Recall Difference = -0.04070660522273423\n",
      "Class Parade: Recall Difference = -0.025296248541781807\n",
      "Class Waiter_Or_Waitress: Recall Difference = -0.22919937205651497\n",
      "Class Individual_Sports: Recall Difference = -0.12147215865751326\n",
      "Class Surgeons: Recall Difference = -0.125\n",
      "Class Spa: Recall Difference = -0.6326530612244898\n",
      "Class Law_Enforcement: Recall Difference = -0.02189239332096482\n",
      "Class Business: Recall Difference = 0.062499999999999944\n",
      "Class Dresses: Recall Difference = -0.6524038461538463\n",
      "Class Water Activities: Recall Difference = 0.03189792663476865\n",
      "Class Picnic: Recall Difference = -0.36363636363636365\n",
      "Class Rescue: Recall Difference = 0.029970029970029954\n",
      "Class Cheering: Recall Difference = -0.1031583264971288\n",
      "Class Performance_And_Entertainment: Recall Difference = 0.07585282038387398\n",
      "Class Family: Recall Difference = 0.014999999999999958\n",
      "Data has been appended to ./runs_2023_12_04_11_22/teacher_validation_0.txt\n"
     ]
    },
    {
     "name": "stderr",
     "output_type": "stream",
     "text": [
      "100%|████████████████████████████████████████████████████████████████████████| 162/162 [02:08<00:00,  1.26it/s]\n",
      "100%|██████████████████████████████████████████████████████████████████████████| 55/55 [00:19<00:00,  2.89it/s]\n"
     ]
    },
    {
     "name": "stdout",
     "output_type": "stream",
     "text": [
      "*****Epoch 24/30*****\n",
      "*****Train Loss:  0.161011 Val Loss:  2.123933*****\n",
      "*****Validation Accuracy: 61.24%*****\n",
      "*****Total Avg Disparity: 0.16322976156470947*****\n",
      "\n",
      "Class Team_Sports: Recall Difference = 0.027020304798082595\n",
      "Class Celebration: Recall Difference = -0.022273425499232002\n",
      "Class Parade: Recall Difference = -0.013753300178056205\n",
      "Class Waiter_Or_Waitress: Recall Difference = -0.17032967032967028\n",
      "Class Individual_Sports: Recall Difference = -0.14630053394355458\n",
      "Class Surgeons: Recall Difference = -0.10267857142857145\n",
      "Class Spa: Recall Difference = -0.673469387755102\n",
      "Class Law_Enforcement: Recall Difference = 0.01236858379715533\n",
      "Class Business: Recall Difference = 0.00021258503401361262\n",
      "Class Dresses: Recall Difference = -0.7355769230769229\n",
      "Class Water Activities: Recall Difference = 0.04750512645249505\n",
      "Class Picnic: Recall Difference = -0.2545454545454545\n",
      "Class Rescue: Recall Difference = 0.14010989010989017\n",
      "Class Cheering: Recall Difference = -0.06398687448728474\n",
      "Class Performance_And_Entertainment: Recall Difference = 0.09487888693319924\n",
      "Class Family: Recall Difference = -0.10666666666666685\n",
      "Data has been appended to ./runs_2023_12_04_11_22/teacher_validation_0.txt\n"
     ]
    },
    {
     "name": "stderr",
     "output_type": "stream",
     "text": [
      "100%|████████████████████████████████████████████████████████████████████████| 162/162 [02:08<00:00,  1.26it/s]\n",
      "100%|██████████████████████████████████████████████████████████████████████████| 55/55 [00:19<00:00,  2.83it/s]\n"
     ]
    },
    {
     "name": "stdout",
     "output_type": "stream",
     "text": [
      "*****Epoch 25/30*****\n",
      "*****Train Loss:  0.130735 Val Loss:  2.444619*****\n",
      "*****Validation Accuracy: 60.14%*****\n",
      "*****Total Avg Disparity: 0.16644255208929026*****\n",
      "\n",
      "Class Team_Sports: Recall Difference = 0.040134762356984544\n",
      "Class Celebration: Recall Difference = -0.05529953917050695\n",
      "Class Parade: Recall Difference = -0.025603241849327718\n",
      "Class Waiter_Or_Waitress: Recall Difference = -0.18131868131868134\n",
      "Class Individual_Sports: Recall Difference = -0.08459191456903126\n",
      "Class Surgeons: Recall Difference = -0.11755952380952384\n",
      "Class Spa: Recall Difference = -0.6326530612244898\n",
      "Class Law_Enforcement: Recall Difference = 0.05318491032776751\n",
      "Class Business: Recall Difference = 0.00021258503401366813\n",
      "Class Dresses: Recall Difference = -0.5278846153846153\n",
      "Class Water Activities: Recall Difference = 0.09261790840738227\n",
      "Class Picnic: Recall Difference = -0.4363636363636364\n",
      "Class Rescue: Recall Difference = 0.07367632367632368\n",
      "Class Cheering: Recall Difference = -0.06480721903199343\n",
      "Class Performance_And_Entertainment: Recall Difference = 0.1605062442377001\n",
      "Class Family: Recall Difference = -0.11666666666666664\n",
      "Data has been appended to ./runs_2023_12_04_11_22/teacher_validation_0.txt\n"
     ]
    },
    {
     "name": "stderr",
     "output_type": "stream",
     "text": [
      "100%|████████████████████████████████████████████████████████████████████████| 162/162 [02:08<00:00,  1.26it/s]\n",
      "100%|██████████████████████████████████████████████████████████████████████████| 55/55 [00:18<00:00,  2.91it/s]\n"
     ]
    },
    {
     "name": "stdout",
     "output_type": "stream",
     "text": [
      "*****Epoch 26/30*****\n",
      "*****Train Loss:  0.140785 Val Loss:  2.234769*****\n",
      "*****Validation Accuracy: 61.10%*****\n",
      "*****Total Avg Disparity: 0.17971975554851258*****\n",
      "\n",
      "Class Team_Sports: Recall Difference = 0.01743318409985095\n",
      "Class Celebration: Recall Difference = -0.008448540706605223\n",
      "Class Parade: Recall Difference = -0.07994105728495116\n",
      "Class Waiter_Or_Waitress: Recall Difference = -0.1295133437990581\n",
      "Class Individual_Sports: Recall Difference = -0.12318840579710155\n",
      "Class Surgeons: Recall Difference = -0.16517857142857145\n",
      "Class Spa: Recall Difference = -0.673469387755102\n",
      "Class Law_Enforcement: Recall Difference = 0.03722943722943728\n",
      "Class Business: Recall Difference = 0.06101190476190477\n",
      "Class Dresses: Recall Difference = -0.5317307692307693\n",
      "Class Water Activities: Recall Difference = 0.1380724538619278\n",
      "Class Picnic: Recall Difference = -0.34545454545454546\n",
      "Class Rescue: Recall Difference = 0.10689310689310691\n",
      "Class Cheering: Recall Difference = -0.09454470877768661\n",
      "Class Performance_And_Entertainment: Recall Difference = 0.04174000502891623\n",
      "Class Family: Recall Difference = -0.32166666666666655\n",
      "Data has been appended to ./runs_2023_12_04_11_22/teacher_validation_0.txt\n"
     ]
    },
    {
     "name": "stderr",
     "output_type": "stream",
     "text": [
      "100%|████████████████████████████████████████████████████████████████████████| 162/162 [02:08<00:00,  1.26it/s]\n",
      "100%|██████████████████████████████████████████████████████████████████████████| 55/55 [00:19<00:00,  2.88it/s]\n"
     ]
    },
    {
     "name": "stdout",
     "output_type": "stream",
     "text": [
      "*****Epoch 27/30*****\n",
      "*****Train Loss:  0.132571 Val Loss:  2.455735*****\n",
      "*****Validation Accuracy: 57.46%*****\n",
      "*****Total Avg Disparity: 0.14007739134884092*****\n",
      "\n",
      "Class Team_Sports: Recall Difference = 0.03335142224031096\n",
      "Class Celebration: Recall Difference = -0.08832565284178195\n",
      "Class Parade: Recall Difference = -0.05845152575673851\n",
      "Class Waiter_Or_Waitress: Recall Difference = -0.2040816326530614\n",
      "Class Individual_Sports: Recall Difference = -0.10530129672006094\n",
      "Class Surgeons: Recall Difference = -0.016369047619047616\n",
      "Class Spa: Recall Difference = 0.4285714285714286\n",
      "Class Law_Enforcement: Recall Difference = -0.044279529993815736\n",
      "Class Business: Recall Difference = -0.0027636054421769085\n",
      "Class Dresses: Recall Difference = -0.5211538461538462\n",
      "Class Water Activities: Recall Difference = 0.07746639325586713\n",
      "Class Picnic: Recall Difference = -0.4\n",
      "Class Rescue: Recall Difference = 0.05019980019980025\n",
      "Class Cheering: Recall Difference = -0.02050861361771944\n",
      "Class Performance_And_Entertainment: Recall Difference = 0.07208113318246578\n",
      "Class Family: Recall Difference = -0.11833333333333335\n",
      "Data has been appended to ./runs_2023_12_04_11_22/teacher_validation_0.txt\n"
     ]
    },
    {
     "name": "stderr",
     "output_type": "stream",
     "text": [
      "100%|████████████████████████████████████████████████████████████████████████| 162/162 [02:26<00:00,  1.10it/s]\n",
      "100%|██████████████████████████████████████████████████████████████████████████| 55/55 [00:19<00:00,  2.85it/s]\n"
     ]
    },
    {
     "name": "stdout",
     "output_type": "stream",
     "text": [
      "*****Epoch 28/30*****\n",
      "*****Train Loss:  0.148037 Val Loss:  2.343993*****\n",
      "*****Validation Accuracy: 61.41%*****\n",
      "*****Total Avg Disparity: 0.14324982236287126*****\n",
      "\n",
      "Class Team_Sports: Recall Difference = 0.02776647221091655\n",
      "Class Celebration: Recall Difference = -0.01804915514592942\n",
      "Class Parade: Recall Difference = -0.07054706207404693\n",
      "Class Waiter_Or_Waitress: Recall Difference = -0.12166405023547888\n",
      "Class Individual_Sports: Recall Difference = -0.12608695652173896\n",
      "Class Surgeons: Recall Difference = -0.1874999999999999\n",
      "Class Spa: Recall Difference = 0.34693877551020413\n",
      "Class Law_Enforcement: Recall Difference = 0.057761286332714934\n",
      "Class Business: Recall Difference = 0.00956632653061229\n",
      "Class Dresses: Recall Difference = -0.6730769230769229\n",
      "Class Water Activities: Recall Difference = 0.12314878104351812\n",
      "Class Picnic: Recall Difference = -0.20000000000000004\n",
      "Class Rescue: Recall Difference = 0.1261238761238761\n",
      "Class Cheering: Recall Difference = -0.0822395406070549\n",
      "Class Performance_And_Entertainment: Recall Difference = -0.004861285726259323\n",
      "Class Family: Recall Difference = -0.11666666666666675\n",
      "Data has been appended to ./runs_2023_12_04_11_22/teacher_validation_0.txt\n"
     ]
    },
    {
     "name": "stderr",
     "output_type": "stream",
     "text": [
      "100%|████████████████████████████████████████████████████████████████████████| 162/162 [02:08<00:00,  1.26it/s]\n",
      "100%|██████████████████████████████████████████████████████████████████████████| 55/55 [00:19<00:00,  2.86it/s]\n"
     ]
    },
    {
     "name": "stdout",
     "output_type": "stream",
     "text": [
      "*****Epoch 29/30*****\n",
      "*****Train Loss:  0.138870 Val Loss:  2.250898*****\n",
      "*****Validation Accuracy: 59.60%*****\n",
      "*****Total Avg Disparity: 0.16666966216139117*****\n",
      "\n",
      "Class Team_Sports: Recall Difference = 0.050490661601772735\n",
      "Class Celebration: Recall Difference = -0.0011520737327189168\n",
      "Class Parade: Recall Difference = -0.08878246454227301\n",
      "Class Waiter_Or_Waitress: Recall Difference = -0.22684458398744112\n",
      "Class Individual_Sports: Recall Difference = -0.11300533943554547\n",
      "Class Surgeons: Recall Difference = -0.21279761904761907\n",
      "Class Spa: Recall Difference = -0.673469387755102\n",
      "Class Law_Enforcement: Recall Difference = 0.030303030303030276\n",
      "Class Business: Recall Difference = -0.021045918367346927\n",
      "Class Dresses: Recall Difference = -0.7249999999999999\n",
      "Class Water Activities: Recall Difference = 0.04727728411938947\n",
      "Class Picnic: Recall Difference = -0.32727272727272727\n",
      "Class Rescue: Recall Difference = 0.01698301698301702\n",
      "Class Cheering: Recall Difference = -0.024815422477440507\n",
      "Class Performance_And_Entertainment: Recall Difference = 0.03914173162350176\n",
      "Class Family: Recall Difference = -0.06833333333333336\n",
      "Data has been appended to ./runs_2023_12_04_11_22/teacher_validation_0.txt\n"
     ]
    },
    {
     "name": "stderr",
     "output_type": "stream",
     "text": [
      "100%|████████████████████████████████████████████████████████████████████████| 162/162 [02:07<00:00,  1.28it/s]\n",
      "100%|██████████████████████████████████████████████████████████████████████████| 55/55 [00:19<00:00,  2.86it/s]\n"
     ]
    },
    {
     "name": "stdout",
     "output_type": "stream",
     "text": [
      "*****Epoch 30/30*****\n",
      "*****Train Loss:  0.122703 Val Loss:  2.380965*****\n",
      "*****Validation Accuracy: 61.44%*****\n",
      "*****Total Avg Disparity: 0.21353124589231792*****\n",
      "\n",
      "Class Team_Sports: Recall Difference = 0.06412517523628625\n",
      "Class Celebration: Recall Difference = 0.042242703533026116\n",
      "Class Parade: Recall Difference = -0.13127033830662482\n",
      "Class Waiter_Or_Waitress: Recall Difference = -0.24254317111459972\n",
      "Class Individual_Sports: Recall Difference = -0.18565980167810825\n",
      "Class Surgeons: Recall Difference = -0.06845238095238082\n",
      "Class Spa: Recall Difference = -0.6938775510204082\n",
      "Class Law_Enforcement: Recall Difference = 0.08942486085343238\n",
      "Class Business: Recall Difference = 0.04060374149659873\n",
      "Class Dresses: Recall Difference = -0.6418269230769231\n",
      "Class Water Activities: Recall Difference = 0.13055365686944653\n",
      "Class Picnic: Recall Difference = -0.5454545454545454\n",
      "Class Rescue: Recall Difference = 0.16658341658341658\n",
      "Class Cheering: Recall Difference = -0.07485643970467598\n",
      "Class Performance_And_Entertainment: Recall Difference = 0.06235856172994719\n",
      "Class Family: Recall Difference = -0.23666666666666664\n",
      "Data has been appended to ./runs_2023_12_04_11_22/teacher_validation_0.txt\n"
     ]
    },
    {
     "data": {
      "image/png": "[encoded data removed]",
      "text/plain": [
       "<Figure size 640x480 with 1 Axes>"
      ]
     },
     "metadata": {},
     "output_type": "display_data"
    },
    {
     "name": "stdout",
     "output_type": "stream",
     "text": [
      "Finished Training Teacher\n",
      "Teacher weights and architecture saved and exported for lambda: 0\n"
     ]
    }
   ],
   "source": [
    "# Initialize the dictionary for results\n",
    "lambda_results = {}\n",
    "\n",
    "# Loop for training the teacher model with different lambda values\n",
    "for i in lmda_list_teacher:\n",
    "    # Reset the teacher model for each lambda\n",
    "    teacher_model = torchvision.models.efficientnet_b3(weights='DEFAULT')    \n",
    "    # Replace the last fully connected layer with a new one\n",
    "    teacher_model.classifier = nn.Linear(1536, num_classes)\n",
    "    teacher_optimizer = optim.Adam(teacher_model.parameters(), lr=best_lr_teacher)\n",
    "    \n",
    "    # Initialize the adversary for the teacher\n",
    "    adv = Adversary()\n",
    "    teacher_optimizer_adv = optim.Adam(adv.parameters(), lr=best_lr_teacher)\n",
    "\n",
    "    # pretrain_teacher(teacher_model, trainloader, criterion_clf, teacher_optimizer, device, epochs_pretrain)\n",
    "    # pretrain_adversary(adv, student_model, optimizer_adv, trainloader, adv_criterion, device, epochs_pretrain)\n",
    "    \n",
    "    # Train the teacher model with adversarial training\n",
    "    teacher_mean_abs_val_disparity = train_teacher(teacher_model, adv, trainloader, criterion_clf, adv_criterion, teacher_optimizer, teacher_optimizer_adv, device, 30, i, patience=patience_teacher)\n",
    "\n",
    "    # Save the teacher model and its state\n",
    "    torch.save(teacher_model.state_dict(), f'teacher_model_weights_rkd_wider_lambda{i}2.pth')\n",
    "    torch.save(teacher_model, f'teacher_model_rkd_wider_lambda{i}2.pth')\n",
    "    print('Teacher weights and architecture saved and exported for lambda:', i)\n",
    "\n",
    "    # Store the teacher results in the dictionary\n",
    "    lambda_results[i] = {\n",
    "        'teacher_mean_abs_val_disparity': teacher_mean_abs_val_disparity\n",
    "    }\n"
   ]
  },
  {
   "cell_type": "code",
   "execution_count": 28,
   "id": "f00ed527-6705-4f12-b7af-2c5d0a1e753f",
   "metadata": {},
   "outputs": [
    {
     "name": "stderr",
     "output_type": "stream",
     "text": [
      "100%|████████████████████████████████████████████████████████████████████████| 162/162 [02:00<00:00,  1.34it/s]\n"
     ]
    },
    {
     "name": "stdout",
     "output_type": "stream",
     "text": [
      "*******Epoch 0: loss - 1.621291775026439\n"
     ]
    },
    {
     "name": "stderr",
     "output_type": "stream",
     "text": [
      "100%|████████████████████████████████████████████████████████████████████████| 162/162 [02:01<00:00,  1.33it/s]\n"
     ]
    },
    {
     "name": "stdout",
     "output_type": "stream",
     "text": [
      "*******Epoch 1: loss - 1.5584075495048806\n"
     ]
    },
    {
     "name": "stderr",
     "output_type": "stream",
     "text": [
      "100%|████████████████████████████████████████████████████████████████████████| 162/162 [02:01<00:00,  1.34it/s]\n"
     ]
    },
    {
     "name": "stdout",
     "output_type": "stream",
     "text": [
      "*******Epoch 2: loss - 1.5093599535800792\n"
     ]
    },
    {
     "name": "stderr",
     "output_type": "stream",
     "text": [
      "100%|████████████████████████████████████████████████████████████████████████| 162/162 [02:06<00:00,  1.28it/s]\n"
     ]
    },
    {
     "name": "stdout",
     "output_type": "stream",
     "text": [
      "Average Pretrain Adversary epoch loss:  0.3652281685743803\n"
     ]
    },
    {
     "name": "stderr",
     "output_type": "stream",
     "text": [
      "100%|████████████████████████████████████████████████████████████████████████| 162/162 [02:06<00:00,  1.28it/s]\n"
     ]
    },
    {
     "name": "stdout",
     "output_type": "stream",
     "text": [
      "Average Pretrain Adversary epoch loss:  0.36532716664635106\n"
     ]
    },
    {
     "name": "stderr",
     "output_type": "stream",
     "text": [
      "100%|████████████████████████████████████████████████████████████████████████| 162/162 [02:06<00:00,  1.29it/s]\n"
     ]
    },
    {
     "name": "stdout",
     "output_type": "stream",
     "text": [
      "Average Pretrain Adversary epoch loss:  0.3655868629798477\n"
     ]
    },
    {
     "name": "stderr",
     "output_type": "stream",
     "text": [
      "100%|████████████████████████████████████████████████████████████████████████| 162/162 [01:57<00:00,  1.38it/s]\n"
     ]
    },
    {
     "name": "stdout",
     "output_type": "stream",
     "text": [
      "Average Adversary epoch loss: 0.22408904944672997\n"
     ]
    },
    {
     "name": "stderr",
     "output_type": "stream",
     "text": [
      "100%|████████████████████████████████████████████████████████████████████████| 162/162 [02:00<00:00,  1.34it/s]\n",
      "100%|██████████████████████████████████████████████████████████████████████████| 55/55 [00:20<00:00,  2.73it/s]\n"
     ]
    },
    {
     "name": "stdout",
     "output_type": "stream",
     "text": [
      "*****Epoch 1/300*****\n",
      "*****Train Loss:  4.806035 Val Loss:  4.505193*****\n",
      "*****Validation Accuracy: 23.35%*****\n",
      "*****Total Avg Disparity: 0.058127971856170496*****\n",
      "\n",
      "Class Team_Sports: Recall Difference = 0.1062723284945507\n",
      "Class Celebration: Recall Difference = -0.11866359447004599\n",
      "Class Parade: Recall Difference = -0.07951126665438696\n",
      "Class Waiter_Or_Waitress: Recall Difference = 0.0\n",
      "Class Individual_Sports: Recall Difference = -0.06800152555301303\n",
      "Class Surgeons: Recall Difference = 0.0\n",
      "Class Spa: Recall Difference = 0.0\n",
      "Class Law_Enforcement: Recall Difference = 0.06110080395794681\n",
      "Class Business: Recall Difference = 0.0\n",
      "Class Dresses: Recall Difference = -0.0062499999999999995\n",
      "Class Water Activities: Recall Difference = 0.05855547960811125\n",
      "Class Picnic: Recall Difference = 0.0\n",
      "Class Rescue: Recall Difference = 0.0\n",
      "Class Cheering: Recall Difference = 0.0\n",
      "Class Performance_And_Entertainment: Recall Difference = -0.008130081300813007\n",
      "Class Family: Recall Difference = -0.016666666666666663\n",
      "Data has been appended to ./runs_2023_12_04_11_22/validation_0.txt\n"
     ]
    },
    {
     "name": "stderr",
     "output_type": "stream",
     "text": [
      "100%|████████████████████████████████████████████████████████████████████████| 162/162 [01:55<00:00,  1.40it/s]\n"
     ]
    },
    {
     "name": "stdout",
     "output_type": "stream",
     "text": [
      "Average Adversary epoch loss: 0.1732612102303976\n"
     ]
    },
    {
     "name": "stderr",
     "output_type": "stream",
     "text": [
      "100%|████████████████████████████████████████████████████████████████████████| 162/162 [02:02<00:00,  1.33it/s]\n",
      "100%|██████████████████████████████████████████████████████████████████████████| 55/55 [00:20<00:00,  2.75it/s]\n"
     ]
    },
    {
     "name": "stdout",
     "output_type": "stream",
     "text": [
      "*****Epoch 2/300*****\n",
      "*****Train Loss:  4.629035 Val Loss:  4.255910*****\n",
      "*****Validation Accuracy: 29.32%*****\n",
      "*****Total Avg Disparity: 0.0474287178651308*****\n",
      "\n",
      "Class Team_Sports: Recall Difference = 0.03823542712431616\n",
      "Class Celebration: Recall Difference = -0.02419354838709678\n",
      "Class Parade: Recall Difference = -0.01909498372935471\n",
      "Class Waiter_Or_Waitress: Recall Difference = -0.06593406593406592\n",
      "Class Individual_Sports: Recall Difference = -0.09862700228832955\n",
      "Class Surgeons: Recall Difference = 0.0\n",
      "Class Spa: Recall Difference = 0.0\n",
      "Class Law_Enforcement: Recall Difference = 0.05837971552257265\n",
      "Class Business: Recall Difference = -0.03295068027210886\n",
      "Class Dresses: Recall Difference = -0.10673076923076921\n",
      "Class Water Activities: Recall Difference = -0.0566188197767144\n",
      "Class Picnic: Recall Difference = 0.0\n",
      "Class Rescue: Recall Difference = 0.0\n",
      "Class Cheering: Recall Difference = 0.0\n",
      "Class Performance_And_Entertainment: Recall Difference = -0.005950884251110551\n",
      "Class Family: Recall Difference = -0.015\n",
      "Data has been appended to ./runs_2023_12_04_11_22/validation_0.txt\n"
     ]
    },
    {
     "name": "stderr",
     "output_type": "stream",
     "text": [
      "100%|████████████████████████████████████████████████████████████████████████| 162/162 [01:55<00:00,  1.40it/s]\n"
     ]
    },
    {
     "name": "stdout",
     "output_type": "stream",
     "text": [
      "Average Adversary epoch loss: 0.16928526726953777\n"
     ]
    },
    {
     "name": "stderr",
     "output_type": "stream",
     "text": [
      "100%|████████████████████████████████████████████████████████████████████████| 162/162 [02:00<00:00,  1.35it/s]\n",
      "100%|██████████████████████████████████████████████████████████████████████████| 55/55 [00:20<00:00,  2.73it/s]\n"
     ]
    },
    {
     "name": "stdout",
     "output_type": "stream",
     "text": [
      "*****Epoch 3/300*****\n",
      "*****Train Loss:  4.532826 Val Loss:  4.150535*****\n",
      "*****Validation Accuracy: 31.98%*****\n",
      "*****Total Avg Disparity: 0.12032368847798873*****\n",
      "\n",
      "Class Team_Sports: Recall Difference = 0.09311264866820412\n",
      "Class Celebration: Recall Difference = -0.09216589861751151\n",
      "Class Parade: Recall Difference = -0.07613434027138208\n",
      "Class Waiter_Or_Waitress: Recall Difference = -0.10910518053375198\n",
      "Class Individual_Sports: Recall Difference = -0.13466819221967963\n",
      "Class Surgeons: Recall Difference = 0.02380952380952381\n",
      "Class Spa: Recall Difference = 0.0\n",
      "Class Law_Enforcement: Recall Difference = 0.14471243042671617\n",
      "Class Business: Recall Difference = -0.13860544217687074\n",
      "Class Dresses: Recall Difference = -0.2336538461538461\n",
      "Class Water Activities: Recall Difference = 0.14843928001822743\n",
      "Class Picnic: Recall Difference = -0.18181818181818182\n",
      "Class Rescue: Recall Difference = 0.0\n",
      "Class Cheering: Recall Difference = 0.0\n",
      "Class Performance_And_Entertainment: Recall Difference = 0.11298298549995812\n",
      "Class Family: Recall Difference = -0.075\n",
      "Data has been appended to ./runs_2023_12_04_11_22/validation_0.txt\n"
     ]
    },
    {
     "name": "stderr",
     "output_type": "stream",
     "text": [
      "100%|████████████████████████████████████████████████████████████████████████| 162/162 [01:56<00:00,  1.39it/s]\n"
     ]
    },
    {
     "name": "stdout",
     "output_type": "stream",
     "text": [
      "Average Adversary epoch loss: 0.16585822628788005\n"
     ]
    },
    {
     "name": "stderr",
     "output_type": "stream",
     "text": [
      "100%|████████████████████████████████████████████████████████████████████████| 162/162 [02:04<00:00,  1.30it/s]\n",
      "100%|██████████████████████████████████████████████████████████████████████████| 55/55 [00:20<00:00,  2.68it/s]\n"
     ]
    },
    {
     "name": "stdout",
     "output_type": "stream",
     "text": [
      "*****Epoch 4/300*****\n",
      "*****Train Loss:  4.494120 Val Loss:  4.153438*****\n",
      "*****Validation Accuracy: 31.83%*****\n",
      "*****Total Avg Disparity: 0.08524617500342446*****\n",
      "\n",
      "Class Team_Sports: Recall Difference = 0.10215710215710216\n",
      "Class Celebration: Recall Difference = 0.008448540706605168\n",
      "Class Parade: Recall Difference = -0.09037882974151162\n",
      "Class Waiter_Or_Waitress: Recall Difference = -0.037676609105180545\n",
      "Class Individual_Sports: Recall Difference = -0.13893974065598774\n",
      "Class Surgeons: Recall Difference = 0.0\n",
      "Class Spa: Recall Difference = -0.08163265306122448\n",
      "Class Law_Enforcement: Recall Difference = 0.1804576376004947\n",
      "Class Business: Recall Difference = -0.020833333333333332\n",
      "Class Dresses: Recall Difference = -0.24375\n",
      "Class Water Activities: Recall Difference = -0.032467532467532534\n",
      "Class Picnic: Recall Difference = -0.05454545454545454\n",
      "Class Rescue: Recall Difference = 0.0\n",
      "Class Cheering: Recall Difference = 0.0\n",
      "Class Performance_And_Entertainment: Recall Difference = 0.0\n",
      "Class Family: Recall Difference = -0.03166666666666665\n",
      "Data has been appended to ./runs_2023_12_04_11_22/validation_0.txt\n"
     ]
    },
    {
     "name": "stderr",
     "output_type": "stream",
     "text": [
      "100%|████████████████████████████████████████████████████████████████████████| 162/162 [01:57<00:00,  1.38it/s]\n"
     ]
    },
    {
     "name": "stdout",
     "output_type": "stream",
     "text": [
      "Average Adversary epoch loss: 0.16514718817707932\n"
     ]
    },
    {
     "name": "stderr",
     "output_type": "stream",
     "text": [
      "100%|████████████████████████████████████████████████████████████████████████| 162/162 [02:02<00:00,  1.32it/s]\n",
      "100%|██████████████████████████████████████████████████████████████████████████| 55/55 [00:20<00:00,  2.66it/s]\n"
     ]
    },
    {
     "name": "stdout",
     "output_type": "stream",
     "text": [
      "*****Epoch 5/300*****\n",
      "*****Train Loss:  4.419787 Val Loss:  4.122212*****\n",
      "*****Validation Accuracy: 31.98%*****\n",
      "*****Total Avg Disparity: 0.08178272654309933*****\n",
      "\n",
      "Class Team_Sports: Recall Difference = 0.10832994166327503\n",
      "Class Celebration: Recall Difference = -0.022273425499231947\n",
      "Class Parade: Recall Difference = -0.11831522072818818\n",
      "Class Waiter_Or_Waitress: Recall Difference = -0.05572998430141288\n",
      "Class Individual_Sports: Recall Difference = -0.2030511060259345\n",
      "Class Surgeons: Recall Difference = -0.03125\n",
      "Class Spa: Recall Difference = -0.1836734693877551\n",
      "Class Law_Enforcement: Recall Difference = -0.032776747062461364\n",
      "Class Business: Recall Difference = -0.1698554421768707\n",
      "Class Dresses: Recall Difference = -0.18124999999999997\n",
      "Class Water Activities: Recall Difference = -0.03451811346548184\n",
      "Class Picnic: Recall Difference = -0.05454545454545454\n",
      "Class Rescue: Recall Difference = 0.012987012987012988\n",
      "Class Cheering: Recall Difference = 0.0\n",
      "Class Performance_And_Entertainment: Recall Difference = -0.003184980303411279\n",
      "Class Family: Recall Difference = -0.014999999999999998\n",
      "Data has been appended to ./runs_2023_12_04_11_22/validation_0.txt\n"
     ]
    },
    {
     "name": "stderr",
     "output_type": "stream",
     "text": [
      "100%|████████████████████████████████████████████████████████████████████████| 162/162 [01:57<00:00,  1.38it/s]\n"
     ]
    },
    {
     "name": "stdout",
     "output_type": "stream",
     "text": [
      "Average Adversary epoch loss: 0.16788667049488903\n"
     ]
    },
    {
     "name": "stderr",
     "output_type": "stream",
     "text": [
      "100%|████████████████████████████████████████████████████████████████████████| 162/162 [02:03<00:00,  1.31it/s]\n",
      "100%|██████████████████████████████████████████████████████████████████████████| 55/55 [00:20<00:00,  2.68it/s]\n"
     ]
    },
    {
     "name": "stdout",
     "output_type": "stream",
     "text": [
      "*****Epoch 6/300*****\n",
      "*****Train Loss:  4.389284 Val Loss:  4.051602*****\n",
      "*****Validation Accuracy: 35.58%*****\n",
      "*****Total Avg Disparity: 0.09929629719808175*****\n",
      "\n",
      "Class Team_Sports: Recall Difference = 0.053995387328721\n",
      "Class Celebration: Recall Difference = -0.07296466973886329\n",
      "Class Parade: Recall Difference = -0.07177503530423046\n",
      "Class Waiter_Or_Waitress: Recall Difference = -0.14678178963893254\n",
      "Class Individual_Sports: Recall Difference = -0.10266971777269263\n",
      "Class Surgeons: Recall Difference = 0.0\n",
      "Class Spa: Recall Difference = -0.10204081632653061\n",
      "Class Law_Enforcement: Recall Difference = 0.16042053184910332\n",
      "Class Business: Recall Difference = -0.1294642857142857\n",
      "Class Dresses: Recall Difference = -0.2668269230769231\n",
      "Class Water Activities: Recall Difference = 0.10833902939166085\n",
      "Class Picnic: Recall Difference = -0.03636363636363636\n",
      "Class Rescue: Recall Difference = 0.0\n",
      "Class Cheering: Recall Difference = 0.0\n",
      "Class Performance_And_Entertainment: Recall Difference = -0.007543374402816189\n",
      "Class Family: Recall Difference = -0.03166666666666665\n",
      "Data has been appended to ./runs_2023_12_04_11_22/validation_0.txt\n"
     ]
    },
    {
     "name": "stderr",
     "output_type": "stream",
     "text": [
      "100%|████████████████████████████████████████████████████████████████████████| 162/162 [01:57<00:00,  1.38it/s]\n"
     ]
    },
    {
     "name": "stdout",
     "output_type": "stream",
     "text": [
      "Average Adversary epoch loss: 0.16543058471547234\n"
     ]
    },
    {
     "name": "stderr",
     "output_type": "stream",
     "text": [
      "100%|████████████████████████████████████████████████████████████████████████| 162/162 [02:04<00:00,  1.30it/s]\n",
      "100%|██████████████████████████████████████████████████████████████████████████| 55/55 [00:20<00:00,  2.70it/s]\n"
     ]
    },
    {
     "name": "stdout",
     "output_type": "stream",
     "text": [
      "*****Epoch 7/300*****\n",
      "*****Train Loss:  4.333983 Val Loss:  4.001238*****\n",
      "*****Validation Accuracy: 36.74%*****\n",
      "*****Total Avg Disparity: 0.12023249433588679*****\n",
      "\n",
      "Class Team_Sports: Recall Difference = 0.12834079500746176\n",
      "Class Celebration: Recall Difference = 0.0023041474654377503\n",
      "Class Parade: Recall Difference = -0.11616626757536691\n",
      "Class Waiter_Or_Waitress: Recall Difference = -0.1295133437990581\n",
      "Class Individual_Sports: Recall Difference = -0.11651411136536993\n",
      "Class Surgeons: Recall Difference = -0.03125\n",
      "Class Spa: Recall Difference = -0.24489795918367346\n",
      "Class Law_Enforcement: Recall Difference = 0.16895485466914045\n",
      "Class Business: Recall Difference = -0.06547619047619047\n",
      "Class Dresses: Recall Difference = -0.4480769230769231\n",
      "Class Water Activities: Recall Difference = 0.018910913647755767\n",
      "Class Picnic: Recall Difference = -0.09090909090909091\n",
      "Class Rescue: Recall Difference = 0.0\n",
      "Class Cheering: Recall Difference = 0.0\n",
      "Class Performance_And_Entertainment: Recall Difference = 0.018606990193613282\n",
      "Class Family: Recall Difference = 0.10333333333333333\n",
      "Data has been appended to ./runs_2023_12_04_11_22/validation_0.txt\n"
     ]
    },
    {
     "name": "stderr",
     "output_type": "stream",
     "text": [
      "100%|████████████████████████████████████████████████████████████████████████| 162/162 [01:57<00:00,  1.38it/s]\n"
     ]
    },
    {
     "name": "stdout",
     "output_type": "stream",
     "text": [
      "Average Adversary epoch loss: 0.1632886097111084\n"
     ]
    },
    {
     "name": "stderr",
     "output_type": "stream",
     "text": [
      "100%|████████████████████████████████████████████████████████████████████████| 162/162 [02:01<00:00,  1.33it/s]\n",
      "100%|██████████████████████████████████████████████████████████████████████████| 55/55 [00:20<00:00,  2.69it/s]\n"
     ]
    },
    {
     "name": "stdout",
     "output_type": "stream",
     "text": [
      "*****Epoch 8/300*****\n",
      "*****Train Loss:  4.273868 Val Loss:  3.948812*****\n",
      "*****Validation Accuracy: 37.69%*****\n",
      "*****Total Avg Disparity: 0.12005074934987378*****\n",
      "\n",
      "Class Team_Sports: Recall Difference = 0.12472301361190252\n",
      "Class Celebration: Recall Difference = -0.043394777265745005\n",
      "Class Parade: Recall Difference = -0.08515994351323136\n",
      "Class Waiter_Or_Waitress: Recall Difference = -0.11459968602825746\n",
      "Class Individual_Sports: Recall Difference = -0.2851258581235699\n",
      "Class Surgeons: Recall Difference = 0.0014880952380952328\n",
      "Class Spa: Recall Difference = -0.22448979591836732\n",
      "Class Law_Enforcement: Recall Difference = 0.06283240568954856\n",
      "Class Business: Recall Difference = -0.03869047619047622\n",
      "Class Dresses: Recall Difference = -0.28557692307692306\n",
      "Class Water Activities: Recall Difference = 0.15402141717931195\n",
      "Class Picnic: Recall Difference = -0.1272727272727273\n",
      "Class Rescue: Recall Difference = 0.0\n",
      "Class Cheering: Recall Difference = 0.02830188679245283\n",
      "Class Performance_And_Entertainment: Recall Difference = 0.14508423434749806\n",
      "Class Family: Recall Difference = 0.07999999999999996\n",
      "Data has been appended to ./runs_2023_12_04_11_22/validation_0.txt\n"
     ]
    },
    {
     "name": "stderr",
     "output_type": "stream",
     "text": [
      "100%|████████████████████████████████████████████████████████████████████████| 162/162 [01:56<00:00,  1.39it/s]\n"
     ]
    },
    {
     "name": "stdout",
     "output_type": "stream",
     "text": [
      "Average Adversary epoch loss: 0.16361981938466613\n"
     ]
    },
    {
     "name": "stderr",
     "output_type": "stream",
     "text": [
      "100%|████████████████████████████████████████████████████████████████████████| 162/162 [02:02<00:00,  1.32it/s]\n",
      "100%|██████████████████████████████████████████████████████████████████████████| 55/55 [00:20<00:00,  2.70it/s]\n"
     ]
    },
    {
     "name": "stdout",
     "output_type": "stream",
     "text": [
      "*****Epoch 9/300*****\n",
      "*****Train Loss:  4.237202 Val Loss:  3.853691*****\n",
      "*****Validation Accuracy: 38.61%*****\n",
      "*****Total Avg Disparity: 0.14764508795608486*****\n",
      "\n",
      "Class Team_Sports: Recall Difference = 0.10353638131415899\n",
      "Class Celebration: Recall Difference = 0.004992319508448556\n",
      "Class Parade: Recall Difference = -0.18659053232639522\n",
      "Class Waiter_Or_Waitress: Recall Difference = -0.11930926216640501\n",
      "Class Individual_Sports: Recall Difference = -0.11045003813882537\n",
      "Class Surgeons: Recall Difference = -0.014880952380952384\n",
      "Class Spa: Recall Difference = -0.3469387755102041\n",
      "Class Law_Enforcement: Recall Difference = 0.19406307977736553\n",
      "Class Business: Recall Difference = -0.0580357142857143\n",
      "Class Dresses: Recall Difference = -0.49182692307692316\n",
      "Class Water Activities: Recall Difference = -0.011164274322168988\n",
      "Class Picnic: Recall Difference = -0.36363636363636365\n",
      "Class Rescue: Recall Difference = 0.0\n",
      "Class Cheering: Recall Difference = 0.00512715340442986\n",
      "Class Performance_And_Entertainment: Recall Difference = 0.09412454949291763\n",
      "Class Family: Recall Difference = -0.11000000000000001\n",
      "Data has been appended to ./runs_2023_12_04_11_22/validation_0.txt\n"
     ]
    },
    {
     "name": "stderr",
     "output_type": "stream",
     "text": [
      "100%|████████████████████████████████████████████████████████████████████████| 162/162 [01:58<00:00,  1.37it/s]\n"
     ]
    },
    {
     "name": "stdout",
     "output_type": "stream",
     "text": [
      "Average Adversary epoch loss: 0.1618741553414751\n"
     ]
    },
    {
     "name": "stderr",
     "output_type": "stream",
     "text": [
      "100%|████████████████████████████████████████████████████████████████████████| 162/162 [02:05<00:00,  1.29it/s]\n",
      "100%|██████████████████████████████████████████████████████████████████████████| 55/55 [00:20<00:00,  2.66it/s]\n"
     ]
    },
    {
     "name": "stdout",
     "output_type": "stream",
     "text": [
      "*****Epoch 10/300*****\n",
      "*****Train Loss:  4.201175 Val Loss:  3.958882*****\n",
      "*****Validation Accuracy: 37.60%*****\n",
      "*****Total Avg Disparity: 0.11507739471609707*****\n",
      "\n",
      "Class Team_Sports: Recall Difference = 0.13017229683896359\n",
      "Class Celebration: Recall Difference = 0.018433179723502294\n",
      "Class Parade: Recall Difference = -0.10677227236446235\n",
      "Class Waiter_Or_Waitress: Recall Difference = -0.2032967032967033\n",
      "Class Individual_Sports: Recall Difference = -0.18764302059496568\n",
      "Class Surgeons: Recall Difference = 0.09077380952380948\n",
      "Class Spa: Recall Difference = -0.44897959183673475\n",
      "Class Law_Enforcement: Recall Difference = 0.10364873222016074\n",
      "Class Business: Recall Difference = -0.02657312925170069\n",
      "Class Dresses: Recall Difference = -0.1629807692307693\n",
      "Class Water Activities: Recall Difference = 0.07917521075415818\n",
      "Class Picnic: Recall Difference = -2.7755575615628914e-17\n",
      "Class Rescue: Recall Difference = 0.0\n",
      "Class Cheering: Recall Difference = -0.015176374077112385\n",
      "Class Performance_And_Entertainment: Recall Difference = 0.06420249769508005\n",
      "Class Family: Recall Difference = -0.08833333333333335\n",
      "Data has been appended to ./runs_2023_12_04_11_22/validation_0.txt\n"
     ]
    },
    {
     "name": "stderr",
     "output_type": "stream",
     "text": [
      "100%|████████████████████████████████████████████████████████████████████████| 162/162 [01:58<00:00,  1.37it/s]\n"
     ]
    },
    {
     "name": "stdout",
     "output_type": "stream",
     "text": [
      "Average Adversary epoch loss: 0.16223773029115465\n"
     ]
    },
    {
     "name": "stderr",
     "output_type": "stream",
     "text": [
      "100%|████████████████████████████████████████████████████████████████████████| 162/162 [02:01<00:00,  1.33it/s]\n",
      "100%|██████████████████████████████████████████████████████████████████████████| 55/55 [00:20<00:00,  2.69it/s]\n"
     ]
    },
    {
     "name": "stdout",
     "output_type": "stream",
     "text": [
      "*****Epoch 11/300*****\n",
      "*****Train Loss:  4.130414 Val Loss:  3.893860*****\n",
      "*****Validation Accuracy: 39.19%*****\n",
      "*****Total Avg Disparity: 0.10375882593326037*****\n",
      "\n",
      "Class Team_Sports: Recall Difference = 0.07798580020802237\n",
      "Class Celebration: Recall Difference = -0.10829493087557604\n",
      "Class Parade: Recall Difference = -0.21207097685270465\n",
      "Class Waiter_Or_Waitress: Recall Difference = -0.1295133437990581\n",
      "Class Individual_Sports: Recall Difference = -0.07364607170099169\n",
      "Class Surgeons: Recall Difference = -0.08333333333333337\n",
      "Class Spa: Recall Difference = -0.1836734693877551\n",
      "Class Law_Enforcement: Recall Difference = 0.1533704390847248\n",
      "Class Business: Recall Difference = -0.046768707482993166\n",
      "Class Dresses: Recall Difference = -0.22307692307692306\n",
      "Class Water Activities: Recall Difference = 0.12485759854180911\n",
      "Class Picnic: Recall Difference = -2.7755575615628914e-17\n",
      "Class Rescue: Recall Difference = -0.011988011988011985\n",
      "Class Cheering: Recall Difference = 0.0\n",
      "Class Performance_And_Entertainment: Recall Difference = 0.09613611600033527\n",
      "Class Family: Recall Difference = 0.031666666666666676\n",
      "Data has been appended to ./runs_2023_12_04_11_22/validation_0.txt\n"
     ]
    },
    {
     "name": "stderr",
     "output_type": "stream",
     "text": [
      "100%|████████████████████████████████████████████████████████████████████████| 162/162 [01:56<00:00,  1.39it/s]\n"
     ]
    },
    {
     "name": "stdout",
     "output_type": "stream",
     "text": [
      "Average Adversary epoch loss: 0.16248822653735126\n"
     ]
    },
    {
     "name": "stderr",
     "output_type": "stream",
     "text": [
      "100%|████████████████████████████████████████████████████████████████████████| 162/162 [02:03<00:00,  1.32it/s]\n",
      "100%|██████████████████████████████████████████████████████████████████████████| 55/55 [00:20<00:00,  2.65it/s]\n"
     ]
    },
    {
     "name": "stdout",
     "output_type": "stream",
     "text": [
      "*****Epoch 12/300*****\n",
      "*****Train Loss:  4.089774 Val Loss:  3.807946*****\n",
      "*****Validation Accuracy: 41.01%*****\n",
      "*****Total Avg Disparity: 0.09162335898218617*****\n",
      "\n",
      "Class Team_Sports: Recall Difference = 0.0780762447429113\n",
      "Class Celebration: Recall Difference = -0.0026881720430107503\n",
      "Class Parade: Recall Difference = -0.1112543746546325\n",
      "Class Waiter_Or_Waitress: Recall Difference = -0.14678178963893249\n",
      "Class Individual_Sports: Recall Difference = -0.06945080091533173\n",
      "Class Surgeons: Recall Difference = -0.03869047619047619\n",
      "Class Spa: Recall Difference = -0.22448979591836735\n",
      "Class Law_Enforcement: Recall Difference = 0.07841682127396415\n",
      "Class Business: Recall Difference = -0.06738945578231287\n",
      "Class Dresses: Recall Difference = -0.3024038461538462\n",
      "Class Water Activities: Recall Difference = 0.033264980633401664\n",
      "Class Picnic: Recall Difference = -0.10909090909090909\n",
      "Class Rescue: Recall Difference = 0.0\n",
      "Class Cheering: Recall Difference = 0.02399507793273175\n",
      "Class Performance_And_Entertainment: Recall Difference = 0.07669097309529793\n",
      "Class Family: Recall Difference = -0.011666666666666714\n",
      "Data has been appended to ./runs_2023_12_04_11_22/validation_0.txt\n"
     ]
    },
    {
     "name": "stderr",
     "output_type": "stream",
     "text": [
      "100%|████████████████████████████████████████████████████████████████████████| 162/162 [01:57<00:00,  1.38it/s]\n"
     ]
    },
    {
     "name": "stdout",
     "output_type": "stream",
     "text": [
      "Average Adversary epoch loss: 0.16057230545966714\n"
     ]
    },
    {
     "name": "stderr",
     "output_type": "stream",
     "text": [
      "100%|████████████████████████████████████████████████████████████████████████| 162/162 [02:03<00:00,  1.31it/s]\n",
      "100%|██████████████████████████████████████████████████████████████████████████| 55/55 [00:20<00:00,  2.68it/s]\n"
     ]
    },
    {
     "name": "stdout",
     "output_type": "stream",
     "text": [
      "*****Epoch 13/300*****\n",
      "*****Train Loss:  4.067125 Val Loss:  3.816085*****\n",
      "*****Validation Accuracy: 40.49%*****\n",
      "*****Total Avg Disparity: 0.10779963575811399*****\n",
      "\n",
      "Class Team_Sports: Recall Difference = 0.1013431013431012\n",
      "Class Celebration: Recall Difference = -0.058755760368663645\n",
      "Class Parade: Recall Difference = -0.16258365567630623\n",
      "Class Waiter_Or_Waitress: Recall Difference = -0.15227629513343793\n",
      "Class Individual_Sports: Recall Difference = -0.1420289855072464\n",
      "Class Surgeons: Recall Difference = -0.053571428571428575\n",
      "Class Spa: Recall Difference = -0.16326530612244897\n",
      "Class Law_Enforcement: Recall Difference = 0.07161410018552877\n",
      "Class Business: Recall Difference = -0.004251700680272086\n",
      "Class Dresses: Recall Difference = -0.44375000000000003\n",
      "Class Water Activities: Recall Difference = 0.017999544315333904\n",
      "Class Picnic: Recall Difference = -0.2\n",
      "Class Rescue: Recall Difference = 0.019730269730269725\n",
      "Class Cheering: Recall Difference = 0.036300246103363416\n",
      "Class Performance_And_Entertainment: Recall Difference = 0.027323778392423087\n",
      "Class Family: Recall Difference = 0.06999999999999995\n",
      "Data has been appended to ./runs_2023_12_04_11_22/validation_0.txt\n"
     ]
    },
    {
     "name": "stderr",
     "output_type": "stream",
     "text": [
      "100%|████████████████████████████████████████████████████████████████████████| 162/162 [01:57<00:00,  1.38it/s]\n"
     ]
    },
    {
     "name": "stdout",
     "output_type": "stream",
     "text": [
      "Average Adversary epoch loss: 0.16038396085302034\n"
     ]
    },
    {
     "name": "stderr",
     "output_type": "stream",
     "text": [
      "100%|████████████████████████████████████████████████████████████████████████| 162/162 [02:02<00:00,  1.32it/s]\n",
      "100%|██████████████████████████████████████████████████████████████████████████| 55/55 [00:20<00:00,  2.63it/s]\n"
     ]
    },
    {
     "name": "stdout",
     "output_type": "stream",
     "text": [
      "*****Epoch 14/300*****\n",
      "*****Train Loss:  4.003343 Val Loss:  3.795034*****\n",
      "*****Validation Accuracy: 42.34%*****\n",
      "*****Total Avg Disparity: 0.12567017653250265*****\n",
      "\n",
      "Class Team_Sports: Recall Difference = 0.12944874055985167\n",
      "Class Celebration: Recall Difference = 0.018049155145929252\n",
      "Class Parade: Recall Difference = -0.14379566525449755\n",
      "Class Waiter_Or_Waitress: Recall Difference = -0.20015698587127162\n",
      "Class Individual_Sports: Recall Difference = -0.10804729214340203\n",
      "Class Surgeons: Recall Difference = -0.035714285714285726\n",
      "Class Spa: Recall Difference = -0.36734693877551017\n",
      "Class Law_Enforcement: Recall Difference = 0.0649350649350649\n",
      "Class Business: Recall Difference = -0.07929421768707479\n",
      "Class Dresses: Recall Difference = -0.3504807692307692\n",
      "Class Water Activities: Recall Difference = 0.01834130781499199\n",
      "Class Picnic: Recall Difference = -0.43636363636363634\n",
      "Class Rescue: Recall Difference = 0.007242757242757247\n",
      "Class Cheering: Recall Difference = -0.0014356029532403593\n",
      "Class Performance_And_Entertainment: Recall Difference = 0.02673707149442628\n",
      "Class Family: Recall Difference = -0.023333333333333317\n",
      "Data has been appended to ./runs_2023_12_04_11_22/validation_0.txt\n"
     ]
    },
    {
     "name": "stderr",
     "output_type": "stream",
     "text": [
      "100%|████████████████████████████████████████████████████████████████████████| 162/162 [01:57<00:00,  1.38it/s]\n"
     ]
    },
    {
     "name": "stdout",
     "output_type": "stream",
     "text": [
      "Average Adversary epoch loss: 0.16045642874123137\n"
     ]
    },
    {
     "name": "stderr",
     "output_type": "stream",
     "text": [
      "100%|████████████████████████████████████████████████████████████████████████| 162/162 [02:04<00:00,  1.30it/s]\n",
      "100%|██████████████████████████████████████████████████████████████████████████| 55/55 [00:20<00:00,  2.67it/s]\n"
     ]
    },
    {
     "name": "stdout",
     "output_type": "stream",
     "text": [
      "*****Epoch 15/300*****\n",
      "*****Train Loss:  4.008700 Val Loss:  3.749980*****\n",
      "*****Validation Accuracy: 42.83%*****\n",
      "*****Total Avg Disparity: 0.12505969935179925*****\n",
      "\n",
      "Class Team_Sports: Recall Difference = 0.12332112332112333\n",
      "Class Celebration: Recall Difference = -0.028033794162826475\n",
      "Class Parade: Recall Difference = -0.1197887886044085\n",
      "Class Waiter_Or_Waitress: Recall Difference = -0.15934065934065939\n",
      "Class Individual_Sports: Recall Difference = -0.0596109839816934\n",
      "Class Surgeons: Recall Difference = 0.016369047619047623\n",
      "Class Spa: Recall Difference = -0.30612244897959184\n",
      "Class Law_Enforcement: Recall Difference = 0.16932591218305504\n",
      "Class Business: Recall Difference = -0.006802721088435382\n",
      "Class Dresses: Recall Difference = -0.43990384615384615\n",
      "Class Water Activities: Recall Difference = 0.018796992481203034\n",
      "Class Picnic: Recall Difference = -0.32727272727272727\n",
      "Class Rescue: Recall Difference = 0.07167832167832168\n",
      "Class Cheering: Recall Difference = 0.011689909762100083\n",
      "Class Performance_And_Entertainment: Recall Difference = 0.011231246333081923\n",
      "Class Family: Recall Difference = -0.1316666666666667\n",
      "Data has been appended to ./runs_2023_12_04_11_22/validation_0.txt\n"
     ]
    },
    {
     "name": "stderr",
     "output_type": "stream",
     "text": [
      "100%|████████████████████████████████████████████████████████████████████████| 162/162 [01:57<00:00,  1.38it/s]\n"
     ]
    },
    {
     "name": "stdout",
     "output_type": "stream",
     "text": [
      "Average Adversary epoch loss: 0.16141247358403088\n"
     ]
    },
    {
     "name": "stderr",
     "output_type": "stream",
     "text": [
      "100%|████████████████████████████████████████████████████████████████████████| 162/162 [02:03<00:00,  1.32it/s]\n",
      "100%|██████████████████████████████████████████████████████████████████████████| 55/55 [00:20<00:00,  2.71it/s]\n"
     ]
    },
    {
     "name": "stdout",
     "output_type": "stream",
     "text": [
      "*****Epoch 16/300*****\n",
      "*****Train Loss:  3.946575 Val Loss:  3.788250*****\n",
      "*****Validation Accuracy: 43.29%*****\n",
      "*****Total Avg Disparity: 0.1250762193224361*****\n",
      "\n",
      "Class Team_Sports: Recall Difference = 0.060190837968615796\n",
      "Class Celebration: Recall Difference = 0.058755760368663534\n",
      "Class Parade: Recall Difference = -0.12641984404739992\n",
      "Class Waiter_Or_Waitress: Recall Difference = -0.218210361067504\n",
      "Class Individual_Sports: Recall Difference = -0.16102212051868808\n",
      "Class Surgeons: Recall Difference = -0.09077380952380953\n",
      "Class Spa: Recall Difference = -0.3673469387755102\n",
      "Class Law_Enforcement: Recall Difference = 0.18750773036487323\n",
      "Class Business: Recall Difference = -0.01615646258503395\n",
      "Class Dresses: Recall Difference = -0.4149038461538461\n",
      "Class Water Activities: Recall Difference = -0.01891091364775571\n",
      "Class Picnic: Recall Difference = -0.1272727272727273\n",
      "Class Rescue: Recall Difference = 0.007242757242757254\n",
      "Class Cheering: Recall Difference = -0.024610336341263323\n",
      "Class Performance_And_Entertainment: Recall Difference = -0.02522839661386303\n",
      "Class Family: Recall Difference = -0.09666666666666662\n",
      "Data has been appended to ./runs_2023_12_04_11_22/validation_0.txt\n"
     ]
    },
    {
     "name": "stderr",
     "output_type": "stream",
     "text": [
      "100%|████████████████████████████████████████████████████████████████████████| 162/162 [01:59<00:00,  1.36it/s]\n"
     ]
    },
    {
     "name": "stdout",
     "output_type": "stream",
     "text": [
      "Average Adversary epoch loss: 0.16174397452010048\n"
     ]
    },
    {
     "name": "stderr",
     "output_type": "stream",
     "text": [
      "100%|████████████████████████████████████████████████████████████████████████| 162/162 [02:03<00:00,  1.31it/s]\n",
      "100%|██████████████████████████████████████████████████████████████████████████| 55/55 [00:20<00:00,  2.66it/s]\n"
     ]
    },
    {
     "name": "stdout",
     "output_type": "stream",
     "text": [
      "*****Epoch 17/300*****\n",
      "*****Train Loss:  3.898880 Val Loss:  3.737777*****\n",
      "*****Validation Accuracy: 43.67%*****\n",
      "*****Total Avg Disparity: 0.1345353722065131*****\n",
      "\n",
      "Class Team_Sports: Recall Difference = 0.07387057387057383\n",
      "Class Celebration: Recall Difference = 0.01920122887864817\n",
      "Class Parade: Recall Difference = -0.12494627617117954\n",
      "Class Waiter_Or_Waitress: Recall Difference = -0.2362637362637363\n",
      "Class Individual_Sports: Recall Difference = -0.08981693363844395\n",
      "Class Surgeons: Recall Difference = 0.008928571428571425\n",
      "Class Spa: Recall Difference = -0.30612244897959184\n",
      "Class Law_Enforcement: Recall Difference = 0.07161410018552877\n",
      "Class Business: Recall Difference = -0.09800170068027203\n",
      "Class Dresses: Recall Difference = -0.541826923076923\n",
      "Class Water Activities: Recall Difference = -0.004101161995898828\n",
      "Class Picnic: Recall Difference = -0.1818181818181819\n",
      "Class Rescue: Recall Difference = 0.09765234765234766\n",
      "Class Cheering: Recall Difference = 0.0\n",
      "Class Performance_And_Entertainment: Recall Difference = 0.10719973179113235\n",
      "Class Family: Recall Difference = 0.05666666666666659\n",
      "Data has been appended to ./runs_2023_12_04_11_22/validation_0.txt\n"
     ]
    },
    {
     "name": "stderr",
     "output_type": "stream",
     "text": [
      "100%|████████████████████████████████████████████████████████████████████████| 162/162 [01:57<00:00,  1.38it/s]\n"
     ]
    },
    {
     "name": "stdout",
     "output_type": "stream",
     "text": [
      "Average Adversary epoch loss: 0.16148672551836496\n"
     ]
    },
    {
     "name": "stderr",
     "output_type": "stream",
     "text": [
      "100%|████████████████████████████████████████████████████████████████████████| 162/162 [02:00<00:00,  1.34it/s]\n",
      "100%|██████████████████████████████████████████████████████████████████████████| 55/55 [00:20<00:00,  2.70it/s]\n"
     ]
    },
    {
     "name": "stdout",
     "output_type": "stream",
     "text": [
      "*****Epoch 18/300*****\n",
      "*****Train Loss:  3.847385 Val Loss:  3.743566*****\n",
      "*****Validation Accuracy: 43.32%*****\n",
      "*****Total Avg Disparity: 0.16367178104778407*****\n",
      "\n",
      "Class Team_Sports: Recall Difference = 0.12612490390268172\n",
      "Class Celebration: Recall Difference = -0.06221198156682034\n",
      "Class Parade: Recall Difference = -0.1425676920243139\n",
      "Class Waiter_Or_Waitress: Recall Difference = -0.19073783359497648\n",
      "Class Individual_Sports: Recall Difference = -0.052250190694126675\n",
      "Class Surgeons: Recall Difference = -0.09970238095238096\n",
      "Class Spa: Recall Difference = 0.4693877551020408\n",
      "Class Law_Enforcement: Recall Difference = 0.0944959802102659\n",
      "Class Business: Recall Difference = -0.049957482993197244\n",
      "Class Dresses: Recall Difference = -0.5605769230769231\n",
      "Class Water Activities: Recall Difference = 0.05616313511050364\n",
      "Class Picnic: Recall Difference = -0.5636363636363636\n",
      "Class Rescue: Recall Difference = 0.05244755244755245\n",
      "Class Cheering: Recall Difference = 0.02768662838392126\n",
      "Class Performance_And_Entertainment: Recall Difference = 0.052468359735143744\n",
      "Class Family: Recall Difference = -0.018333333333333368\n",
      "Data has been appended to ./runs_2023_12_04_11_22/validation_0.txt\n"
     ]
    },
    {
     "name": "stderr",
     "output_type": "stream",
     "text": [
      "100%|████████████████████████████████████████████████████████████████████████| 162/162 [01:57<00:00,  1.37it/s]\n"
     ]
    },
    {
     "name": "stdout",
     "output_type": "stream",
     "text": [
      "Average Adversary epoch loss: 0.16075484776570473\n"
     ]
    },
    {
     "name": "stderr",
     "output_type": "stream",
     "text": [
      "100%|████████████████████████████████████████████████████████████████████████| 162/162 [02:02<00:00,  1.32it/s]\n",
      "100%|██████████████████████████████████████████████████████████████████████████| 55/55 [00:20<00:00,  2.66it/s]\n"
     ]
    },
    {
     "name": "stdout",
     "output_type": "stream",
     "text": [
      "*****Epoch 19/300*****\n",
      "*****Train Loss:  3.809835 Val Loss:  3.770992*****\n",
      "*****Validation Accuracy: 42.91%*****\n",
      "*****Total Avg Disparity: 0.1547914896884394*****\n",
      "\n",
      "Class Team_Sports: Recall Difference = 0.1186406186406187\n",
      "Class Celebration: Recall Difference = 0.06105990783410142\n",
      "Class Parade: Recall Difference = -0.22969239270583902\n",
      "Class Waiter_Or_Waitress: Recall Difference = -0.18053375196232335\n",
      "Class Individual_Sports: Recall Difference = -0.052593440122044255\n",
      "Class Surgeons: Recall Difference = -0.17559523809523808\n",
      "Class Spa: Recall Difference = -0.40816326530612246\n",
      "Class Law_Enforcement: Recall Difference = 0.253308596165739\n",
      "Class Business: Recall Difference = -0.02784863945578231\n",
      "Class Dresses: Recall Difference = -0.4586538461538462\n",
      "Class Water Activities: Recall Difference = -0.011392116655274509\n",
      "Class Picnic: Recall Difference = -0.20000000000000004\n",
      "Class Rescue: Recall Difference = 0.006743256743256744\n",
      "Class Cheering: Recall Difference = 0.05086136177194423\n",
      "Class Performance_And_Entertainment: Recall Difference = 0.11491073673623331\n",
      "Class Family: Recall Difference = -0.12666666666666668\n",
      "Data has been appended to ./runs_2023_12_04_11_22/validation_0.txt\n"
     ]
    },
    {
     "name": "stderr",
     "output_type": "stream",
     "text": [
      "100%|████████████████████████████████████████████████████████████████████████| 162/162 [01:58<00:00,  1.37it/s]\n"
     ]
    },
    {
     "name": "stdout",
     "output_type": "stream",
     "text": [
      "Average Adversary epoch loss: 0.1601293935543961\n"
     ]
    },
    {
     "name": "stderr",
     "output_type": "stream",
     "text": [
      "100%|████████████████████████████████████████████████████████████████████████| 162/162 [02:05<00:00,  1.29it/s]\n",
      "100%|██████████████████████████████████████████████████████████████████████████| 55/55 [00:20<00:00,  2.67it/s]\n"
     ]
    },
    {
     "name": "stdout",
     "output_type": "stream",
     "text": [
      "*****Epoch 20/300*****\n",
      "*****Train Loss:  3.786990 Val Loss:  3.659295*****\n",
      "*****Validation Accuracy: 45.95%*****\n",
      "*****Total Avg Disparity: 0.1363880954706933*****\n",
      "\n",
      "Class Team_Sports: Recall Difference = 0.05254827477049706\n",
      "Class Celebration: Recall Difference = -0.14823348694316438\n",
      "Class Parade: Recall Difference = -0.08178301713022651\n",
      "Class Waiter_Or_Waitress: Recall Difference = -0.25667189952904246\n",
      "Class Individual_Sports: Recall Difference = -0.14168573607932877\n",
      "Class Surgeons: Recall Difference = -0.13690476190476192\n",
      "Class Spa: Recall Difference = -0.2653061224489796\n",
      "Class Law_Enforcement: Recall Difference = 0.08299319727891158\n",
      "Class Business: Recall Difference = 0.0046768707482993666\n",
      "Class Dresses: Recall Difference = -0.5293269230769231\n",
      "Class Water Activities: Recall Difference = 0.04761904761904745\n",
      "Class Picnic: Recall Difference = -0.18181818181818185\n",
      "Class Rescue: Recall Difference = -0.031218781218781216\n",
      "Class Cheering: Recall Difference = 0.030557834290401965\n",
      "Class Performance_And_Entertainment: Recall Difference = 0.092532059341212\n",
      "Class Family: Recall Difference = 0.09833333333333338\n",
      "Data has been appended to ./runs_2023_12_04_11_22/validation_0.txt\n"
     ]
    },
    {
     "name": "stderr",
     "output_type": "stream",
     "text": [
      "100%|████████████████████████████████████████████████████████████████████████| 162/162 [01:58<00:00,  1.36it/s]\n"
     ]
    },
    {
     "name": "stdout",
     "output_type": "stream",
     "text": [
      "Average Adversary epoch loss: 0.1594682088420715\n"
     ]
    },
    {
     "name": "stderr",
     "output_type": "stream",
     "text": [
      "100%|████████████████████████████████████████████████████████████████████████| 162/162 [02:04<00:00,  1.30it/s]\n",
      "100%|██████████████████████████████████████████████████████████████████████████| 55/55 [00:20<00:00,  2.66it/s]\n"
     ]
    },
    {
     "name": "stdout",
     "output_type": "stream",
     "text": [
      "*****Epoch 21/300*****\n",
      "*****Train Loss:  3.738577 Val Loss:  3.760594*****\n",
      "*****Validation Accuracy: 44.07%*****\n",
      "*****Total Avg Disparity: 0.11520341171131669*****\n",
      "\n",
      "Class Team_Sports: Recall Difference = 0.09315787093564876\n",
      "Class Celebration: Recall Difference = -0.04416282642089098\n",
      "Class Parade: Recall Difference = -0.14588321974580953\n",
      "Class Waiter_Or_Waitress: Recall Difference = -0.1412872841444271\n",
      "Class Individual_Sports: Recall Difference = -0.17223493516399696\n",
      "Class Surgeons: Recall Difference = -0.004464285714285726\n",
      "Class Spa: Recall Difference = -0.14285714285714285\n",
      "Class Law_Enforcement: Recall Difference = 0.16932591218305504\n",
      "Class Business: Recall Difference = -0.05782312925170063\n",
      "Class Dresses: Recall Difference = -0.5812499999999999\n",
      "Class Water Activities: Recall Difference = 0.048074732285258714\n",
      "Class Picnic: Recall Difference = -0.1272727272727273\n",
      "Class Rescue: Recall Difference = 0.007742257742257744\n",
      "Class Cheering: Recall Difference = 0.009433962264150943\n",
      "Class Performance_And_Entertainment: Recall Difference = -0.034950968066381705\n",
      "Class Family: Recall Difference = -0.0633333333333333\n",
      "Data has been appended to ./runs_2023_12_04_11_22/validation_0.txt\n"
     ]
    },
    {
     "name": "stderr",
     "output_type": "stream",
     "text": [
      "100%|████████████████████████████████████████████████████████████████████████| 162/162 [01:57<00:00,  1.38it/s]\n"
     ]
    },
    {
     "name": "stdout",
     "output_type": "stream",
     "text": [
      "Average Adversary epoch loss: 0.15633230385037117\n"
     ]
    },
    {
     "name": "stderr",
     "output_type": "stream",
     "text": [
      "100%|████████████████████████████████████████████████████████████████████████| 162/162 [02:02<00:00,  1.32it/s]\n",
      "100%|██████████████████████████████████████████████████████████████████████████| 55/55 [00:20<00:00,  2.66it/s]\n"
     ]
    },
    {
     "name": "stdout",
     "output_type": "stream",
     "text": [
      "*****Epoch 22/300*****\n",
      "*****Train Loss:  3.709048 Val Loss:  3.791944*****\n",
      "*****Validation Accuracy: 44.07%*****\n",
      "*****Total Avg Disparity: 0.13767380294755385*****\n",
      "\n",
      "Class Team_Sports: Recall Difference = 0.022995522995522988\n",
      "Class Celebration: Recall Difference = -0.1347926267281106\n",
      "Class Parade: Recall Difference = -0.15411064038803957\n",
      "Class Waiter_Or_Waitress: Recall Difference = -0.27001569858712715\n",
      "Class Individual_Sports: Recall Difference = -0.05369946605644549\n",
      "Class Surgeons: Recall Difference = 0.0654761904761905\n",
      "Class Spa: Recall Difference = -0.30612244897959184\n",
      "Class Law_Enforcement: Recall Difference = 0.08719851576994431\n",
      "Class Business: Recall Difference = -0.10012755102040816\n",
      "Class Dresses: Recall Difference = -0.43750000000000006\n",
      "Class Water Activities: Recall Difference = -0.04226475279106856\n",
      "Class Picnic: Recall Difference = -0.32727272727272727\n",
      "Class Rescue: Recall Difference = 0.09240759240759244\n",
      "Class Cheering: Recall Difference = -0.006357670221493042\n",
      "Class Performance_And_Entertainment: Recall Difference = -0.04743944346659962\n",
      "Class Family: Recall Difference = -0.05500000000000001\n",
      "Data has been appended to ./runs_2023_12_04_11_22/validation_0.txt\n"
     ]
    },
    {
     "name": "stderr",
     "output_type": "stream",
     "text": [
      "100%|████████████████████████████████████████████████████████████████████████| 162/162 [01:56<00:00,  1.39it/s]\n"
     ]
    },
    {
     "name": "stdout",
     "output_type": "stream",
     "text": [
      "Average Adversary epoch loss: 0.1606681928222562\n"
     ]
    },
    {
     "name": "stderr",
     "output_type": "stream",
     "text": [
      "100%|████████████████████████████████████████████████████████████████████████| 162/162 [02:02<00:00,  1.33it/s]\n",
      "100%|██████████████████████████████████████████████████████████████████████████| 55/55 [00:20<00:00,  2.74it/s]\n"
     ]
    },
    {
     "name": "stdout",
     "output_type": "stream",
     "text": [
      "*****Epoch 23/300*****\n",
      "*****Train Loss:  3.656075 Val Loss:  3.777095*****\n",
      "*****Validation Accuracy: 46.58%*****\n",
      "*****Total Avg Disparity: 0.15177094315833933*****\n",
      "\n",
      "Class Team_Sports: Recall Difference = 0.08207841541174876\n",
      "Class Celebration: Recall Difference = -0.006528417818740362\n",
      "Class Parade: Recall Difference = -0.13556824461226746\n",
      "Class Waiter_Or_Waitress: Recall Difference = -0.10518053375196235\n",
      "Class Individual_Sports: Recall Difference = -0.07227307398932115\n",
      "Class Surgeons: Recall Difference = -0.016369047619047616\n",
      "Class Spa: Recall Difference = -0.4693877551020408\n",
      "Class Law_Enforcement: Recall Difference = 0.18268398268398273\n",
      "Class Business: Recall Difference = -0.005527210884353706\n",
      "Class Dresses: Recall Difference = -0.5918269230769231\n",
      "Class Water Activities: Recall Difference = 0.07142857142857151\n",
      "Class Picnic: Recall Difference = -0.36363636363636365\n",
      "Class Rescue: Recall Difference = 0.07842157842157843\n",
      "Class Cheering: Recall Difference = 0.029122231337161616\n",
      "Class Performance_And_Entertainment: Recall Difference = 0.08163607409269966\n",
      "Class Family: Recall Difference = -0.13666666666666671\n",
      "Data has been appended to ./runs_2023_12_04_11_22/validation_0.txt\n"
     ]
    },
    {
     "name": "stderr",
     "output_type": "stream",
     "text": [
      "100%|████████████████████████████████████████████████████████████████████████| 162/162 [01:56<00:00,  1.40it/s]\n"
     ]
    },
    {
     "name": "stdout",
     "output_type": "stream",
     "text": [
      "Average Adversary epoch loss: 0.15848774591713777\n"
     ]
    },
    {
     "name": "stderr",
     "output_type": "stream",
     "text": [
      "100%|████████████████████████████████████████████████████████████████████████| 162/162 [02:02<00:00,  1.32it/s]\n",
      "100%|██████████████████████████████████████████████████████████████████████████| 55/55 [00:20<00:00,  2.70it/s]\n"
     ]
    },
    {
     "name": "stdout",
     "output_type": "stream",
     "text": [
      "*****Epoch 24/300*****\n",
      "*****Train Loss:  3.638991 Val Loss:  3.741212*****\n",
      "*****Validation Accuracy: 45.86%*****\n",
      "*****Total Avg Disparity: 0.15244009618878723*****\n",
      "\n",
      "Class Team_Sports: Recall Difference = 0.0902862569529237\n",
      "Class Celebration: Recall Difference = -0.07258064516129031\n",
      "Class Parade: Recall Difference = -0.13188432492171676\n",
      "Class Waiter_Or_Waitress: Recall Difference = -0.2158555729984301\n",
      "Class Individual_Sports: Recall Difference = -0.09042715484363084\n",
      "Class Surgeons: Recall Difference = -0.07142857142857145\n",
      "Class Spa: Recall Difference = -0.28571428571428564\n",
      "Class Law_Enforcement: Recall Difference = 0.15572047000618433\n",
      "Class Business: Recall Difference = 0.024234693877551117\n",
      "Class Dresses: Recall Difference = -0.5605769230769231\n",
      "Class Water Activities: Recall Difference = -0.005126452494873535\n",
      "Class Picnic: Recall Difference = -0.36363636363636365\n",
      "Class Rescue: Recall Difference = 0.09815184815184816\n",
      "Class Cheering: Recall Difference = 0.06316652994257588\n",
      "Class Performance_And_Entertainment: Recall Difference = -0.00025144581342723127\n",
      "Class Family: Recall Difference = -0.20999999999999996\n",
      "Data has been appended to ./runs_2023_12_04_11_22/validation_0.txt\n"
     ]
    },
    {
     "name": "stderr",
     "output_type": "stream",
     "text": [
      "100%|████████████████████████████████████████████████████████████████████████| 162/162 [01:57<00:00,  1.38it/s]\n"
     ]
    },
    {
     "name": "stdout",
     "output_type": "stream",
     "text": [
      "Average Adversary epoch loss: 0.159045104811221\n"
     ]
    },
    {
     "name": "stderr",
     "output_type": "stream",
     "text": [
      "100%|████████████████████████████████████████████████████████████████████████| 162/162 [02:02<00:00,  1.32it/s]\n",
      "100%|██████████████████████████████████████████████████████████████████████████| 55/55 [00:20<00:00,  2.71it/s]\n"
     ]
    },
    {
     "name": "stdout",
     "output_type": "stream",
     "text": [
      "*****Epoch 25/300*****\n",
      "*****Train Loss:  3.569048 Val Loss:  3.697161*****\n",
      "*****Validation Accuracy: 46.18%*****\n",
      "*****Total Avg Disparity: 0.15129578364915305*****\n",
      "\n",
      "Class Team_Sports: Recall Difference = 0.09037670148781252\n",
      "Class Celebration: Recall Difference = -0.049923195084485394\n",
      "Class Parade: Recall Difference = -0.12070976852704612\n",
      "Class Waiter_Or_Waitress: Recall Difference = -0.3383045525902669\n",
      "Class Individual_Sports: Recall Difference = -0.13859649122807016\n",
      "Class Surgeons: Recall Difference = -0.047619047619047616\n",
      "Class Spa: Recall Difference = -0.4081632653061224\n",
      "Class Law_Enforcement: Recall Difference = 0.03982683982683982\n",
      "Class Business: Recall Difference = -0.015518707482993221\n",
      "Class Dresses: Recall Difference = -0.5480769230769231\n",
      "Class Water Activities: Recall Difference = 0.011050353155616421\n",
      "Class Picnic: Recall Difference = -0.36363636363636365\n",
      "Class Rescue: Recall Difference = 0.07217782217782219\n",
      "Class Cheering: Recall Difference = 0.027686628383921247\n",
      "Class Performance_And_Entertainment: Recall Difference = 0.12739921213645128\n",
      "Class Family: Recall Difference = 0.021666666666666667\n",
      "Data has been appended to ./runs_2023_12_04_11_22/validation_0.txt\n"
     ]
    },
    {
     "name": "stderr",
     "output_type": "stream",
     "text": [
      "100%|████████████████████████████████████████████████████████████████████████| 162/162 [01:57<00:00,  1.38it/s]\n"
     ]
    },
    {
     "name": "stdout",
     "output_type": "stream",
     "text": [
      "Average Adversary epoch loss: 0.15982725848386317\n"
     ]
    },
    {
     "name": "stderr",
     "output_type": "stream",
     "text": [
      "100%|████████████████████████████████████████████████████████████████████████| 162/162 [02:03<00:00,  1.32it/s]\n",
      "100%|██████████████████████████████████████████████████████████████████████████| 55/55 [00:20<00:00,  2.73it/s]\n"
     ]
    },
    {
     "name": "stdout",
     "output_type": "stream",
     "text": [
      "*****Epoch 26/300*****\n",
      "*****Train Loss:  3.540557 Val Loss:  3.704585*****\n",
      "*****Validation Accuracy: 46.49%*****\n",
      "*****Total Avg Disparity: 0.1368691673770704*****\n",
      "\n",
      "Class Team_Sports: Recall Difference = 0.06423823090489766\n",
      "Class Celebration: Recall Difference = -0.042242703533026116\n",
      "Class Parade: Recall Difference = -0.14588321974580953\n",
      "Class Waiter_Or_Waitress: Recall Difference = -0.17974882260596553\n",
      "Class Individual_Sports: Recall Difference = -0.1606788710907704\n",
      "Class Surgeons: Recall Difference = 0.037202380952380876\n",
      "Class Spa: Recall Difference = -0.32653061224489793\n",
      "Class Law_Enforcement: Recall Difference = 0.042300556586270854\n",
      "Class Business: Recall Difference = -0.07929421768707479\n",
      "Class Dresses: Recall Difference = -0.4899038461538462\n",
      "Class Water Activities: Recall Difference = 0.10059239006607446\n",
      "Class Picnic: Recall Difference = -0.18181818181818185\n",
      "Class Rescue: Recall Difference = 0.1048951048951049\n",
      "Class Cheering: Recall Difference = 0.023379819524200166\n",
      "Class Performance_And_Entertainment: Recall Difference = 0.0778643868912916\n",
      "Class Family: Recall Difference = -0.1333333333333334\n",
      "Data has been appended to ./runs_2023_12_04_11_22/validation_0.txt\n"
     ]
    },
    {
     "name": "stderr",
     "output_type": "stream",
     "text": [
      "100%|████████████████████████████████████████████████████████████████████████| 162/162 [01:56<00:00,  1.39it/s]\n"
     ]
    },
    {
     "name": "stdout",
     "output_type": "stream",
     "text": [
      "Average Adversary epoch loss: 0.15968853506593056\n"
     ]
    },
    {
     "name": "stderr",
     "output_type": "stream",
     "text": [
      "100%|████████████████████████████████████████████████████████████████████████| 162/162 [02:02<00:00,  1.33it/s]\n",
      "100%|██████████████████████████████████████████████████████████████████████████| 55/55 [00:20<00:00,  2.72it/s]\n"
     ]
    },
    {
     "name": "stdout",
     "output_type": "stream",
     "text": [
      "*****Epoch 27/300*****\n",
      "*****Train Loss:  3.501261 Val Loss:  3.673465*****\n",
      "*****Validation Accuracy: 46.18%*****\n",
      "*****Total Avg Disparity: 0.1292403407974282*****\n",
      "\n",
      "Class Team_Sports: Recall Difference = 0.05876633654411434\n",
      "Class Celebration: Recall Difference = -0.009216589861751168\n",
      "Class Parade: Recall Difference = -0.20599250936329594\n",
      "Class Waiter_Or_Waitress: Recall Difference = -0.14128728414442704\n",
      "Class Individual_Sports: Recall Difference = -0.14134248665141108\n",
      "Class Surgeons: Recall Difference = 0.01339285714285704\n",
      "Class Spa: Recall Difference = -0.36734693877551017\n",
      "Class Law_Enforcement: Recall Difference = 0.11910946196660493\n",
      "Class Business: Recall Difference = -0.036777210884353706\n",
      "Class Dresses: Recall Difference = -0.55\n",
      "Class Water Activities: Recall Difference = 0.0035315561631352743\n",
      "Class Picnic: Recall Difference = -0.3272727272727274\n",
      "Class Rescue: Recall Difference = 0.02022977022977023\n",
      "Class Cheering: Recall Difference = 0.058244462674323205\n",
      "Class Performance_And_Entertainment: Recall Difference = 0.00033526108456954917\n",
      "Class Family: Recall Difference = -0.015000000000000069\n",
      "Data has been appended to ./runs_2023_12_04_11_22/validation_0.txt\n"
     ]
    },
    {
     "name": "stderr",
     "output_type": "stream",
     "text": [
      "100%|████████████████████████████████████████████████████████████████████████| 162/162 [01:55<00:00,  1.40it/s]\n"
     ]
    },
    {
     "name": "stdout",
     "output_type": "stream",
     "text": [
      "Average Adversary epoch loss: 0.1579482449149644\n"
     ]
    },
    {
     "name": "stderr",
     "output_type": "stream",
     "text": [
      "100%|████████████████████████████████████████████████████████████████████████| 162/162 [02:04<00:00,  1.31it/s]\n",
      "100%|██████████████████████████████████████████████████████████████████████████| 55/55 [00:19<00:00,  2.78it/s]\n"
     ]
    },
    {
     "name": "stdout",
     "output_type": "stream",
     "text": [
      "*****Epoch 28/300*****\n",
      "*****Train Loss:  3.466317 Val Loss:  3.755467*****\n",
      "*****Validation Accuracy: 45.89%*****\n",
      "*****Total Avg Disparity: 0.1461920233689013*****\n",
      "\n",
      "Class Team_Sports: Recall Difference = 0.10964138741916507\n",
      "Class Celebration: Recall Difference = -0.04953917050691248\n",
      "Class Parade: Recall Difference = -0.05753054583410083\n",
      "Class Waiter_Or_Waitress: Recall Difference = -0.11538461538461536\n",
      "Class Individual_Sports: Recall Difference = -0.04420289855072462\n",
      "Class Surgeons: Recall Difference = -0.08630952380952384\n",
      "Class Spa: Recall Difference = -0.44897959183673475\n",
      "Class Law_Enforcement: Recall Difference = 0.10773036487322202\n",
      "Class Business: Recall Difference = -0.048044217687074786\n",
      "Class Dresses: Recall Difference = -0.5067307692307694\n",
      "Class Water Activities: Recall Difference = 0.048872180451127956\n",
      "Class Picnic: Recall Difference = -0.2909090909090909\n",
      "Class Rescue: Recall Difference = 0.03271728271728272\n",
      "Class Cheering: Recall Difference = 0.0705496308449549\n",
      "Class Performance_And_Entertainment: Recall Difference = 0.16193110384712098\n",
      "Class Family: Recall Difference = -0.16000000000000003\n",
      "Data has been appended to ./runs_2023_12_04_11_22/validation_0.txt\n"
     ]
    },
    {
     "name": "stderr",
     "output_type": "stream",
     "text": [
      "100%|████████████████████████████████████████████████████████████████████████| 162/162 [01:56<00:00,  1.39it/s]\n"
     ]
    },
    {
     "name": "stdout",
     "output_type": "stream",
     "text": [
      "Average Adversary epoch loss: 0.1601885092663176\n"
     ]
    },
    {
     "name": "stderr",
     "output_type": "stream",
     "text": [
      "100%|████████████████████████████████████████████████████████████████████████| 162/162 [02:01<00:00,  1.33it/s]\n",
      "100%|██████████████████████████████████████████████████████████████████████████| 55/55 [00:20<00:00,  2.72it/s]\n"
     ]
    },
    {
     "name": "stdout",
     "output_type": "stream",
     "text": [
      "*****Epoch 29/300*****\n",
      "*****Train Loss:  3.406316 Val Loss:  3.787274*****\n",
      "*****Validation Accuracy: 46.35%*****\n",
      "*****Total Avg Disparity: 0.15665198495863997*****\n",
      "\n",
      "Class Team_Sports: Recall Difference = 0.08481436259214037\n",
      "Class Celebration: Recall Difference = 0.055299539170506895\n",
      "Class Parade: Recall Difference = -0.1373488057960337\n",
      "Class Waiter_Or_Waitress: Recall Difference = -0.13893249607535324\n",
      "Class Individual_Sports: Recall Difference = -0.10240274599542332\n",
      "Class Surgeons: Recall Difference = -0.03273809523809529\n",
      "Class Spa: Recall Difference = -0.44897959183673475\n",
      "Class Law_Enforcement: Recall Difference = 0.14681508967223256\n",
      "Class Business: Recall Difference = -0.10948129251700683\n",
      "Class Dresses: Recall Difference = -0.55\n",
      "Class Water Activities: Recall Difference = 0.06390977443609025\n",
      "Class Picnic: Recall Difference = -0.34545454545454546\n",
      "Class Rescue: Recall Difference = 0.046703296703296704\n",
      "Class Cheering: Recall Difference = 0.09372436423297785\n",
      "Class Performance_And_Entertainment: Recall Difference = 0.07149442628446906\n",
      "Class Family: Recall Difference = -0.07833333333333337\n",
      "Data has been appended to ./runs_2023_12_04_11_22/validation_0.txt\n"
     ]
    },
    {
     "name": "stderr",
     "output_type": "stream",
     "text": [
      "100%|████████████████████████████████████████████████████████████████████████| 162/162 [01:56<00:00,  1.40it/s]\n"
     ]
    },
    {
     "name": "stdout",
     "output_type": "stream",
     "text": [
      "Average Adversary epoch loss: 0.16238945138491231\n"
     ]
    },
    {
     "name": "stderr",
     "output_type": "stream",
     "text": [
      "100%|████████████████████████████████████████████████████████████████████████| 162/162 [02:01<00:00,  1.34it/s]\n",
      "100%|██████████████████████████████████████████████████████████████████████████| 55/55 [00:19<00:00,  2.77it/s]\n"
     ]
    },
    {
     "name": "stdout",
     "output_type": "stream",
     "text": [
      "*****Epoch 30/300*****\n",
      "*****Train Loss:  3.367381 Val Loss:  3.854152*****\n",
      "*****Validation Accuracy: 46.00%*****\n",
      "*****Total Avg Disparity: 0.12052451849055533*****\n",
      "\n",
      "Class Team_Sports: Recall Difference = 0.11775878442545085\n",
      "Class Celebration: Recall Difference = -0.020737327188940058\n",
      "Class Parade: Recall Difference = -0.04420703628660899\n",
      "Class Waiter_Or_Waitress: Recall Difference = -0.05180533751962324\n",
      "Class Individual_Sports: Recall Difference = -0.05789473684210539\n",
      "Class Surgeons: Recall Difference = 0.005952380952380931\n",
      "Class Spa: Recall Difference = -0.22448979591836735\n",
      "Class Law_Enforcement: Recall Difference = 0.12838589981447113\n",
      "Class Business: Recall Difference = -0.0686649659863946\n",
      "Class Dresses: Recall Difference = -0.5874999999999999\n",
      "Class Water Activities: Recall Difference = 0.06413761676919588\n",
      "Class Picnic: Recall Difference = -0.25454545454545463\n",
      "Class Rescue: Recall Difference = 0.03421578421578422\n",
      "Class Cheering: Recall Difference = 0.06398687448728463\n",
      "Class Performance_And_Entertainment: Recall Difference = 0.1641103008968234\n",
      "Class Family: Recall Difference = -0.03999999999999998\n",
      "Early stopping\n"
     ]
    },
    {
     "data": {
      "image/png": "[encoded data removed]",
      "text/plain": [
       "<Figure size 640x480 with 1 Axes>"
      ]
     },
     "metadata": {},
     "output_type": "display_data"
    },
    {
     "name": "stdout",
     "output_type": "stream",
     "text": [
      "Student weights and architecture saved and exported for lambda: 0\n"
     ]
    },
    {
     "name": "stderr",
     "output_type": "stream",
     "text": [
      "100%|████████████████████████████████████████████████████████████████████████| 162/162 [02:03<00:00,  1.31it/s]\n"
     ]
    },
    {
     "name": "stdout",
     "output_type": "stream",
     "text": [
      "*******Epoch 0: loss - 1.642734698307367\n"
     ]
    },
    {
     "name": "stderr",
     "output_type": "stream",
     "text": [
      "100%|████████████████████████████████████████████████████████████████████████| 162/162 [02:03<00:00,  1.31it/s]\n"
     ]
    },
    {
     "name": "stdout",
     "output_type": "stream",
     "text": [
      "*******Epoch 1: loss - 1.5633701836621319\n"
     ]
    },
    {
     "name": "stderr",
     "output_type": "stream",
     "text": [
      "100%|████████████████████████████████████████████████████████████████████████| 162/162 [02:01<00:00,  1.34it/s]\n"
     ]
    },
    {
     "name": "stdout",
     "output_type": "stream",
     "text": [
      "*******Epoch 2: loss - 1.5285287366973028\n"
     ]
    },
    {
     "name": "stderr",
     "output_type": "stream",
     "text": [
      "100%|████████████████████████████████████████████████████████████████████████| 162/162 [02:07<00:00,  1.27it/s]\n"
     ]
    },
    {
     "name": "stdout",
     "output_type": "stream",
     "text": [
      "Average Pretrain Adversary epoch loss:  0.3646955972100482\n"
     ]
    },
    {
     "name": "stderr",
     "output_type": "stream",
     "text": [
      "100%|████████████████████████████████████████████████████████████████████████| 162/162 [02:06<00:00,  1.28it/s]\n"
     ]
    },
    {
     "name": "stdout",
     "output_type": "stream",
     "text": [
      "Average Pretrain Adversary epoch loss:  0.3644094744950165\n"
     ]
    },
    {
     "name": "stderr",
     "output_type": "stream",
     "text": [
      "100%|████████████████████████████████████████████████████████████████████████| 162/162 [02:05<00:00,  1.29it/s]\n"
     ]
    },
    {
     "name": "stdout",
     "output_type": "stream",
     "text": [
      "Average Pretrain Adversary epoch loss:  0.3651148071627558\n"
     ]
    },
    {
     "name": "stderr",
     "output_type": "stream",
     "text": [
      "100%|████████████████████████████████████████████████████████████████████████| 162/162 [01:57<00:00,  1.37it/s]\n"
     ]
    },
    {
     "name": "stdout",
     "output_type": "stream",
     "text": [
      "Average Adversary epoch loss: 0.2484772108771183\n"
     ]
    },
    {
     "name": "stderr",
     "output_type": "stream",
     "text": [
      "100%|████████████████████████████████████████████████████████████████████████| 162/162 [02:01<00:00,  1.33it/s]\n",
      "100%|██████████████████████████████████████████████████████████████████████████| 55/55 [00:20<00:00,  2.70it/s]\n"
     ]
    },
    {
     "name": "stdout",
     "output_type": "stream",
     "text": [
      "*****Epoch 1/300*****\n",
      "*****Train Loss:  15.564145 Val Loss:  16.258784*****\n",
      "*****Validation Accuracy: 24.24%*****\n",
      "*****Total Avg Disparity: 0.046597910983283586*****\n",
      "\n",
      "Class Team_Sports: Recall Difference = 0.005019671686338212\n",
      "Class Celebration: Recall Difference = -0.009216589861751154\n",
      "Class Parade: Recall Difference = -0.04119850187265922\n",
      "Class Waiter_Or_Waitress: Recall Difference = 0.0\n",
      "Class Individual_Sports: Recall Difference = 0.1141113653699466\n",
      "Class Surgeons: Recall Difference = 0.0\n",
      "Class Spa: Recall Difference = 0.0\n",
      "Class Law_Enforcement: Recall Difference = 0.08794063079777367\n",
      "Class Business: Recall Difference = 0.0\n",
      "Class Dresses: Recall Difference = 0.0\n",
      "Class Water Activities: Recall Difference = 0.022100706311232635\n",
      "Class Picnic: Recall Difference = 0.0\n",
      "Class Rescue: Recall Difference = 0.0\n",
      "Class Cheering: Recall Difference = 0.0\n",
      "Class Performance_And_Entertainment: Recall Difference = 0.0\n",
      "Class Family: Recall Difference = 0.0\n",
      "Data has been appended to ./runs_2023_12_04_11_22/validation_3.txt\n"
     ]
    },
    {
     "name": "stderr",
     "output_type": "stream",
     "text": [
      "100%|████████████████████████████████████████████████████████████████████████| 162/162 [01:54<00:00,  1.41it/s]\n"
     ]
    },
    {
     "name": "stdout",
     "output_type": "stream",
     "text": [
      "Average Adversary epoch loss: 0.1854337577558594\n"
     ]
    },
    {
     "name": "stderr",
     "output_type": "stream",
     "text": [
      "100%|████████████████████████████████████████████████████████████████████████| 162/162 [02:03<00:00,  1.31it/s]\n",
      "100%|██████████████████████████████████████████████████████████████████████████| 55/55 [00:20<00:00,  2.74it/s]\n"
     ]
    },
    {
     "name": "stdout",
     "output_type": "stream",
     "text": [
      "*****Epoch 2/300*****\n",
      "*****Train Loss:  30.948105 Val Loss:  33.577273*****\n",
      "*****Validation Accuracy: 26.49%*****\n",
      "*****Total Avg Disparity: 0.07721875259073045*****\n",
      "\n",
      "Class Team_Sports: Recall Difference = 0.07059195948084829\n",
      "Class Celebration: Recall Difference = -0.03801843317972349\n",
      "Class Parade: Recall Difference = -0.07699392153251072\n",
      "Class Waiter_Or_Waitress: Recall Difference = 0.03375196232339091\n",
      "Class Individual_Sports: Recall Difference = -0.15896262395118232\n",
      "Class Surgeons: Recall Difference = 0.0\n",
      "Class Spa: Recall Difference = 0.0\n",
      "Class Law_Enforcement: Recall Difference = 0.10859616573902288\n",
      "Class Business: Recall Difference = 0.0\n",
      "Class Dresses: Recall Difference = -0.07307692307692307\n",
      "Class Water Activities: Recall Difference = 0.05775803144224195\n",
      "Class Picnic: Recall Difference = 0.0\n",
      "Class Rescue: Recall Difference = 0.0\n",
      "Class Cheering: Recall Difference = 0.0\n",
      "Class Performance_And_Entertainment: Recall Difference = 0.0\n",
      "Class Family: Recall Difference = 0.0\n",
      "Data has been appended to ./runs_2023_12_04_11_22/validation_3.txt\n"
     ]
    },
    {
     "name": "stderr",
     "output_type": "stream",
     "text": [
      "100%|████████████████████████████████████████████████████████████████████████| 162/162 [01:55<00:00,  1.40it/s]\n"
     ]
    },
    {
     "name": "stdout",
     "output_type": "stream",
     "text": [
      "Average Adversary epoch loss: 0.1709694155940303\n"
     ]
    },
    {
     "name": "stderr",
     "output_type": "stream",
     "text": [
      "100%|████████████████████████████████████████████████████████████████████████| 162/162 [02:00<00:00,  1.34it/s]\n",
      "100%|██████████████████████████████████████████████████████████████████████████| 55/55 [00:19<00:00,  2.76it/s]\n"
     ]
    },
    {
     "name": "stdout",
     "output_type": "stream",
     "text": [
      "*****Epoch 3/300*****\n",
      "*****Train Loss:  30.965706 Val Loss:  30.751165*****\n",
      "*****Validation Accuracy: 28.83%*****\n",
      "*****Total Avg Disparity: 0.0720241873025286*****\n",
      "\n",
      "Class Team_Sports: Recall Difference = 0.04031565142676252\n",
      "Class Celebration: Recall Difference = -0.06067588325652842\n",
      "Class Parade: Recall Difference = -0.15257567385031\n",
      "Class Waiter_Or_Waitress: Recall Difference = -0.045525902668759805\n",
      "Class Individual_Sports: Recall Difference = -0.1421052631578948\n",
      "Class Surgeons: Recall Difference = 0.0\n",
      "Class Spa: Recall Difference = 0.0\n",
      "Class Law_Enforcement: Recall Difference = 0.133704390847248\n",
      "Class Business: Recall Difference = 0.01020408163265306\n",
      "Class Dresses: Recall Difference = 0.008173076923076922\n",
      "Class Water Activities: Recall Difference = 0.1181362497151971\n",
      "Class Picnic: Recall Difference = 0.0\n",
      "Class Rescue: Recall Difference = 0.0\n",
      "Class Cheering: Recall Difference = 0.0\n",
      "Class Performance_And_Entertainment: Recall Difference = 0.060849886849383986\n",
      "Class Family: Recall Difference = -0.02\n",
      "Data has been appended to ./runs_2023_12_04_11_22/validation_3.txt\n"
     ]
    },
    {
     "name": "stderr",
     "output_type": "stream",
     "text": [
      "100%|████████████████████████████████████████████████████████████████████████| 162/162 [01:55<00:00,  1.40it/s]\n"
     ]
    },
    {
     "name": "stdout",
     "output_type": "stream",
     "text": [
      "Average Adversary epoch loss: 0.17101123791050027\n"
     ]
    },
    {
     "name": "stderr",
     "output_type": "stream",
     "text": [
      "100%|████████████████████████████████████████████████████████████████████████| 162/162 [02:02<00:00,  1.32it/s]\n",
      "100%|██████████████████████████████████████████████████████████████████████████| 55/55 [00:20<00:00,  2.71it/s]\n"
     ]
    },
    {
     "name": "stdout",
     "output_type": "stream",
     "text": [
      "*****Epoch 4/300*****\n",
      "*****Train Loss:  29.830728 Val Loss:  34.916403*****\n",
      "*****Validation Accuracy: 29.32%*****\n",
      "*****Total Avg Disparity: 0.09478044463120806*****\n",
      "\n",
      "Class Team_Sports: Recall Difference = 0.061457061457061424\n",
      "Class Celebration: Recall Difference = 0.003456221198156681\n",
      "Class Parade: Recall Difference = -0.13501565665868487\n",
      "Class Waiter_Or_Waitress: Recall Difference = -0.030612244897959183\n",
      "Class Individual_Sports: Recall Difference = -0.20366132723112126\n",
      "Class Surgeons: Recall Difference = 0.0\n",
      "Class Spa: Recall Difference = 0.0\n",
      "Class Law_Enforcement: Recall Difference = 0.24007421150278288\n",
      "Class Business: Recall Difference = -0.0537840136054422\n",
      "Class Dresses: Recall Difference = -0.07788461538461533\n",
      "Class Water Activities: Recall Difference = 0.10925039872408299\n",
      "Class Picnic: Recall Difference = 0.0\n",
      "Class Rescue: Recall Difference = 0.0\n",
      "Class Cheering: Recall Difference = -0.03260869565217391\n",
      "Class Performance_And_Entertainment: Recall Difference = 0.0\n",
      "Class Family: Recall Difference = 0.0\n",
      "Data has been appended to ./runs_2023_12_04_11_22/validation_3.txt\n"
     ]
    },
    {
     "name": "stderr",
     "output_type": "stream",
     "text": [
      "100%|████████████████████████████████████████████████████████████████████████| 162/162 [01:57<00:00,  1.38it/s]\n"
     ]
    },
    {
     "name": "stdout",
     "output_type": "stream",
     "text": [
      "Average Adversary epoch loss: 0.16751560766571832\n"
     ]
    },
    {
     "name": "stderr",
     "output_type": "stream",
     "text": [
      "100%|████████████████████████████████████████████████████████████████████████| 162/162 [02:01<00:00,  1.34it/s]\n",
      "100%|██████████████████████████████████████████████████████████████████████████| 55/55 [00:19<00:00,  2.78it/s]\n"
     ]
    },
    {
     "name": "stdout",
     "output_type": "stream",
     "text": [
      "*****Epoch 5/300*****\n",
      "*****Train Loss:  30.220889 Val Loss:  31.637362*****\n",
      "*****Validation Accuracy: 31.54%*****\n",
      "*****Total Avg Disparity: 0.12164849873828228*****\n",
      "\n",
      "Class Team_Sports: Recall Difference = 0.06441911997467542\n",
      "Class Celebration: Recall Difference = -0.04147465437788017\n",
      "Class Parade: Recall Difference = -0.17928409160680303\n",
      "Class Waiter_Or_Waitress: Recall Difference = -0.06043956043956045\n",
      "Class Individual_Sports: Recall Difference = -0.2939359267734554\n",
      "Class Surgeons: Recall Difference = 0.0\n",
      "Class Spa: Recall Difference = 0.0\n",
      "Class Law_Enforcement: Recall Difference = 0.08101422387136675\n",
      "Class Business: Recall Difference = -0.0939625850340136\n",
      "Class Dresses: Recall Difference = -0.22500000000000003\n",
      "Class Water Activities: Recall Difference = 0.14035087719298256\n",
      "Class Picnic: Recall Difference = 0.14545454545454545\n",
      "Class Rescue: Recall Difference = 0.0\n",
      "Class Cheering: Recall Difference = 0.0\n",
      "Class Performance_And_Entertainment: Recall Difference = 0.1211130668007711\n",
      "Class Family: Recall Difference = 0.013333333333333336\n",
      "Data has been appended to ./runs_2023_12_04_11_22/validation_3.txt\n"
     ]
    },
    {
     "name": "stderr",
     "output_type": "stream",
     "text": [
      "100%|████████████████████████████████████████████████████████████████████████| 162/162 [01:55<00:00,  1.40it/s]\n"
     ]
    },
    {
     "name": "stdout",
     "output_type": "stream",
     "text": [
      "Average Adversary epoch loss: 0.16911638344143642\n"
     ]
    },
    {
     "name": "stderr",
     "output_type": "stream",
     "text": [
      "100%|████████████████████████████████████████████████████████████████████████| 162/162 [02:01<00:00,  1.34it/s]\n",
      "100%|██████████████████████████████████████████████████████████████████████████| 55/55 [00:19<00:00,  2.78it/s]\n"
     ]
    },
    {
     "name": "stdout",
     "output_type": "stream",
     "text": [
      "*****Epoch 6/300*****\n",
      "*****Train Loss:  29.850314 Val Loss:  32.555132*****\n",
      "*****Validation Accuracy: 33.16%*****\n",
      "*****Total Avg Disparity: 0.08312061254013021*****\n",
      "\n",
      "Class Team_Sports: Recall Difference = 0.09324831547053769\n",
      "Class Celebration: Recall Difference = 0.012672811059907807\n",
      "Class Parade: Recall Difference = -0.10885982685577456\n",
      "Class Waiter_Or_Waitress: Recall Difference = -0.1326530612244898\n",
      "Class Individual_Sports: Recall Difference = -0.13363844393592678\n",
      "Class Surgeons: Recall Difference = 0.0\n",
      "Class Spa: Recall Difference = 0.0\n",
      "Class Law_Enforcement: Recall Difference = 0.16239950525664804\n",
      "Class Business: Recall Difference = -0.0542091836734694\n",
      "Class Dresses: Recall Difference = -0.1322115384615385\n",
      "Class Water Activities: Recall Difference = 0.03451811346548189\n",
      "Class Picnic: Recall Difference = -0.07272727272727272\n",
      "Class Rescue: Recall Difference = 0.0\n",
      "Class Cheering: Recall Difference = 0.0\n",
      "Class Performance_And_Entertainment: Recall Difference = 0.010309278350515462\n",
      "Class Family: Recall Difference = -0.05000000000000002\n",
      "Data has been appended to ./runs_2023_12_04_11_22/validation_3.txt\n"
     ]
    },
    {
     "name": "stderr",
     "output_type": "stream",
     "text": [
      "100%|████████████████████████████████████████████████████████████████████████| 162/162 [01:55<00:00,  1.41it/s]\n"
     ]
    },
    {
     "name": "stdout",
     "output_type": "stream",
     "text": [
      "Average Adversary epoch loss: 0.16764559311631286\n"
     ]
    },
    {
     "name": "stderr",
     "output_type": "stream",
     "text": [
      "100%|████████████████████████████████████████████████████████████████████████| 162/162 [02:01<00:00,  1.33it/s]\n",
      "100%|██████████████████████████████████████████████████████████████████████████| 55/55 [00:20<00:00,  2.69it/s]\n"
     ]
    },
    {
     "name": "stdout",
     "output_type": "stream",
     "text": [
      "*****Epoch 7/300*****\n",
      "*****Train Loss:  30.161843 Val Loss:  33.369479*****\n",
      "*****Validation Accuracy: 33.65%*****\n",
      "*****Total Avg Disparity: 0.12121967758275475*****\n",
      "\n",
      "Class Team_Sports: Recall Difference = 0.08908786686564474\n",
      "Class Celebration: Recall Difference = -0.03379416282642088\n",
      "Class Parade: Recall Difference = -0.12795481058512947\n",
      "Class Waiter_Or_Waitress: Recall Difference = -0.10439560439560439\n",
      "Class Individual_Sports: Recall Difference = -0.21502669717772688\n",
      "Class Surgeons: Recall Difference = 0.0\n",
      "Class Spa: Recall Difference = -0.1836734693877551\n",
      "Class Law_Enforcement: Recall Difference = 0.1173778602350031\n",
      "Class Business: Recall Difference = -0.09757653061224489\n",
      "Class Dresses: Recall Difference = -0.2793269230769231\n",
      "Class Water Activities: Recall Difference = 0.14832535885167464\n",
      "Class Picnic: Recall Difference = -0.16363636363636366\n",
      "Class Rescue: Recall Difference = 0.0\n",
      "Class Cheering: Recall Difference = 0.0\n",
      "Class Performance_And_Entertainment: Recall Difference = 0.0023468275919872605\n",
      "Class Family: Recall Difference = -0.01333333333333335\n",
      "Data has been appended to ./runs_2023_12_04_11_22/validation_3.txt\n"
     ]
    },
    {
     "name": "stderr",
     "output_type": "stream",
     "text": [
      "100%|████████████████████████████████████████████████████████████████████████| 162/162 [01:55<00:00,  1.40it/s]\n"
     ]
    },
    {
     "name": "stdout",
     "output_type": "stream",
     "text": [
      "Average Adversary epoch loss: 0.16649057504571516\n"
     ]
    },
    {
     "name": "stderr",
     "output_type": "stream",
     "text": [
      "100%|████████████████████████████████████████████████████████████████████████| 162/162 [02:01<00:00,  1.33it/s]\n",
      "100%|██████████████████████████████████████████████████████████████████████████| 55/55 [00:20<00:00,  2.75it/s]\n"
     ]
    },
    {
     "name": "stdout",
     "output_type": "stream",
     "text": [
      "*****Epoch 8/300*****\n",
      "*****Train Loss:  30.106131 Val Loss:  32.437955*****\n",
      "*****Validation Accuracy: 35.18%*****\n",
      "*****Total Avg Disparity: 0.09972880582343352*****\n",
      "\n",
      "Class Team_Sports: Recall Difference = 0.09327092660425995\n",
      "Class Celebration: Recall Difference = -0.08102918586789554\n",
      "Class Parade: Recall Difference = -0.11978878860440845\n",
      "Class Waiter_Or_Waitress: Recall Difference = -0.09654631083202511\n",
      "Class Individual_Sports: Recall Difference = -0.15324180015255529\n",
      "Class Surgeons: Recall Difference = 0.0\n",
      "Class Spa: Recall Difference = -0.14285714285714285\n",
      "Class Law_Enforcement: Recall Difference = 0.18503401360544214\n",
      "Class Business: Recall Difference = -0.05973639455782309\n",
      "Class Dresses: Recall Difference = -0.33990384615384617\n",
      "Class Water Activities: Recall Difference = 0.06413761676919588\n",
      "Class Picnic: Recall Difference = -0.1090909090909091\n",
      "Class Rescue: Recall Difference = 0.025974025974025976\n",
      "Class Cheering: Recall Difference = -0.0028712059064807186\n",
      "Class Performance_And_Entertainment: Recall Difference = -0.005783253708825764\n",
      "Class Family: Recall Difference = 0.016666666666666663\n",
      "Data has been appended to ./runs_2023_12_04_11_22/validation_3.txt\n"
     ]
    },
    {
     "name": "stderr",
     "output_type": "stream",
     "text": [
      "100%|████████████████████████████████████████████████████████████████████████| 162/162 [01:55<00:00,  1.40it/s]\n"
     ]
    },
    {
     "name": "stdout",
     "output_type": "stream",
     "text": [
      "Average Adversary epoch loss: 0.16619452976702173\n"
     ]
    },
    {
     "name": "stderr",
     "output_type": "stream",
     "text": [
      "100%|████████████████████████████████████████████████████████████████████████| 162/162 [02:01<00:00,  1.33it/s]\n",
      "100%|██████████████████████████████████████████████████████████████████████████| 55/55 [00:19<00:00,  2.77it/s]\n"
     ]
    },
    {
     "name": "stdout",
     "output_type": "stream",
     "text": [
      "*****Epoch 9/300*****\n",
      "*****Train Loss:  30.709267 Val Loss:  33.783244*****\n",
      "*****Validation Accuracy: 34.49%*****\n",
      "*****Total Avg Disparity: 0.11131988956883469*****\n",
      "\n",
      "Class Team_Sports: Recall Difference = 0.07866413421968976\n",
      "Class Celebration: Recall Difference = 0.06029185867895545\n",
      "Class Parade: Recall Difference = -0.08153742248418983\n",
      "Class Waiter_Or_Waitress: Recall Difference = -0.08634222919937204\n",
      "Class Individual_Sports: Recall Difference = -0.2851258581235699\n",
      "Class Surgeons: Recall Difference = 0.0\n",
      "Class Spa: Recall Difference = -0.08163265306122448\n",
      "Class Law_Enforcement: Recall Difference = 0.14693877551020412\n",
      "Class Business: Recall Difference = -0.09800170068027209\n",
      "Class Dresses: Recall Difference = -0.24807692307692308\n",
      "Class Water Activities: Recall Difference = 0.10822510822510811\n",
      "Class Picnic: Recall Difference = 0.0\n",
      "Class Rescue: Recall Difference = 0.0\n",
      "Class Cheering: Recall Difference = 0.0\n",
      "Class Performance_And_Entertainment: Recall Difference = 0.029335344899840757\n",
      "Class Family: Recall Difference = -0.03166666666666665\n",
      "Data has been appended to ./runs_2023_12_04_11_22/validation_3.txt\n"
     ]
    },
    {
     "name": "stderr",
     "output_type": "stream",
     "text": [
      "100%|████████████████████████████████████████████████████████████████████████| 162/162 [01:56<00:00,  1.39it/s]\n"
     ]
    },
    {
     "name": "stdout",
     "output_type": "stream",
     "text": [
      "Average Adversary epoch loss: 0.16316232867079017\n"
     ]
    },
    {
     "name": "stderr",
     "output_type": "stream",
     "text": [
      "100%|████████████████████████████████████████████████████████████████████████| 162/162 [02:02<00:00,  1.33it/s]\n",
      "100%|██████████████████████████████████████████████████████████████████████████| 55/55 [00:20<00:00,  2.74it/s]\n"
     ]
    },
    {
     "name": "stdout",
     "output_type": "stream",
     "text": [
      "*****Epoch 10/300*****\n",
      "*****Train Loss:  30.183160 Val Loss:  35.378042*****\n",
      "*****Validation Accuracy: 35.84%*****\n",
      "*****Total Avg Disparity: 0.11773137757537043*****\n",
      "\n",
      "Class Team_Sports: Recall Difference = 0.05731922398589062\n",
      "Class Celebration: Recall Difference = -0.01766513056835642\n",
      "Class Parade: Recall Difference = -0.0651439798612391\n",
      "Class Waiter_Or_Waitress: Recall Difference = -0.11930926216640501\n",
      "Class Individual_Sports: Recall Difference = -0.25594965675057213\n",
      "Class Surgeons: Recall Difference = 0.0\n",
      "Class Spa: Recall Difference = -0.10204081632653061\n",
      "Class Law_Enforcement: Recall Difference = 0.2055658627087199\n",
      "Class Business: Recall Difference = -0.12882653061224494\n",
      "Class Dresses: Recall Difference = -0.30432692307692305\n",
      "Class Water Activities: Recall Difference = 0.06356801093643194\n",
      "Class Picnic: Recall Difference = -0.16363636363636364\n",
      "Class Rescue: Recall Difference = 0.0\n",
      "Class Cheering: Recall Difference = 0.0\n",
      "Class Performance_And_Entertainment: Recall Difference = 0.02715614785013829\n",
      "Class Family: Recall Difference = 0.01999999999999999\n",
      "Data has been appended to ./runs_2023_12_04_11_22/validation_3.txt\n"
     ]
    },
    {
     "name": "stderr",
     "output_type": "stream",
     "text": [
      "100%|████████████████████████████████████████████████████████████████████████| 162/162 [01:55<00:00,  1.41it/s]\n"
     ]
    },
    {
     "name": "stdout",
     "output_type": "stream",
     "text": [
      "Average Adversary epoch loss: 0.16290055518900906\n"
     ]
    },
    {
     "name": "stderr",
     "output_type": "stream",
     "text": [
      "100%|████████████████████████████████████████████████████████████████████████| 162/162 [02:00<00:00,  1.34it/s]\n",
      "100%|██████████████████████████████████████████████████████████████████████████| 55/55 [00:20<00:00,  2.67it/s]\n"
     ]
    },
    {
     "name": "stdout",
     "output_type": "stream",
     "text": [
      "*****Epoch 11/300*****\n",
      "*****Train Loss:  29.791242 Val Loss:  33.632594*****\n",
      "*****Validation Accuracy: 37.26%*****\n",
      "*****Total Avg Disparity: 0.13948775078361433*****\n",
      "\n",
      "Class Team_Sports: Recall Difference = 0.07730746619635498\n",
      "Class Celebration: Recall Difference = -0.012672811059907835\n",
      "Class Parade: Recall Difference = -0.14803217289863085\n",
      "Class Waiter_Or_Waitress: Recall Difference = -0.11145996860282575\n",
      "Class Individual_Sports: Recall Difference = -0.2051106025934401\n",
      "Class Surgeons: Recall Difference = 0.016369047619047616\n",
      "Class Spa: Recall Difference = -0.12244897959183673\n",
      "Class Law_Enforcement: Recall Difference = 0.23277674706246132\n",
      "Class Business: Recall Difference = -0.06653911564625845\n",
      "Class Dresses: Recall Difference = -0.44615384615384623\n",
      "Class Water Activities: Recall Difference = 0.19229892914103452\n",
      "Class Picnic: Recall Difference = -0.2909090909090909\n",
      "Class Rescue: Recall Difference = 0.0\n",
      "Class Cheering: Recall Difference = 0.00799835931091058\n",
      "Class Performance_And_Entertainment: Recall Difference = 0.0705724583019026\n",
      "Class Family: Recall Difference = -0.09166666666666667\n",
      "Early stopping\n"
     ]
    },
    {
     "data": {
      "image/png": "[encoded data removed]",
      "text/plain": [
       "<Figure size 640x480 with 1 Axes>"
      ]
     },
     "metadata": {},
     "output_type": "display_data"
    },
    {
     "name": "stdout",
     "output_type": "stream",
     "text": [
      "Student weights and architecture saved and exported for lambda: 3\n"
     ]
    },
    {
     "name": "stderr",
     "output_type": "stream",
     "text": [
      "100%|████████████████████████████████████████████████████████████████████████| 162/162 [02:02<00:00,  1.32it/s]\n"
     ]
    },
    {
     "name": "stdout",
     "output_type": "stream",
     "text": [
      "*******Epoch 0: loss - 1.6390774537015844\n"
     ]
    },
    {
     "name": "stderr",
     "output_type": "stream",
     "text": [
      "100%|████████████████████████████████████████████████████████████████████████| 162/162 [02:01<00:00,  1.34it/s]\n"
     ]
    },
    {
     "name": "stdout",
     "output_type": "stream",
     "text": [
      "*******Epoch 1: loss - 1.5614671846966686\n"
     ]
    },
    {
     "name": "stderr",
     "output_type": "stream",
     "text": [
      "100%|████████████████████████████████████████████████████████████████████████| 162/162 [02:01<00:00,  1.33it/s]\n"
     ]
    },
    {
     "name": "stdout",
     "output_type": "stream",
     "text": [
      "*******Epoch 2: loss - 1.5082878992881303\n"
     ]
    },
    {
     "name": "stderr",
     "output_type": "stream",
     "text": [
      "100%|████████████████████████████████████████████████████████████████████████| 162/162 [02:06<00:00,  1.28it/s]\n"
     ]
    },
    {
     "name": "stdout",
     "output_type": "stream",
     "text": [
      "Average Pretrain Adversary epoch loss:  0.3906441971107765\n"
     ]
    },
    {
     "name": "stderr",
     "output_type": "stream",
     "text": [
      "100%|████████████████████████████████████████████████████████████████████████| 162/162 [02:05<00:00,  1.29it/s]\n"
     ]
    },
    {
     "name": "stdout",
     "output_type": "stream",
     "text": [
      "Average Pretrain Adversary epoch loss:  0.39091906871324705\n"
     ]
    },
    {
     "name": "stderr",
     "output_type": "stream",
     "text": [
      "100%|████████████████████████████████████████████████████████████████████████| 162/162 [02:06<00:00,  1.28it/s]\n"
     ]
    },
    {
     "name": "stdout",
     "output_type": "stream",
     "text": [
      "Average Pretrain Adversary epoch loss:  0.39224681690519236\n"
     ]
    },
    {
     "name": "stderr",
     "output_type": "stream",
     "text": [
      "100%|████████████████████████████████████████████████████████████████████████| 162/162 [01:55<00:00,  1.41it/s]\n"
     ]
    },
    {
     "name": "stdout",
     "output_type": "stream",
     "text": [
      "Average Adversary epoch loss: 0.26462060847768076\n"
     ]
    },
    {
     "name": "stderr",
     "output_type": "stream",
     "text": [
      "100%|████████████████████████████████████████████████████████████████████████| 162/162 [02:00<00:00,  1.34it/s]\n",
      "100%|██████████████████████████████████████████████████████████████████████████| 55/55 [00:19<00:00,  2.76it/s]\n"
     ]
    },
    {
     "name": "stdout",
     "output_type": "stream",
     "text": [
      "*****Epoch 1/300*****\n",
      "*****Train Loss:  12.618625 Val Loss:  12.728767*****\n",
      "*****Validation Accuracy: 24.36%*****\n",
      "*****Total Avg Disparity: 0.03927304994271757*****\n",
      "\n",
      "Class Team_Sports: Recall Difference = 0.09238909238909243\n",
      "Class Celebration: Recall Difference = -0.06797235023041476\n",
      "Class Parade: Recall Difference = -0.04672438140848528\n",
      "Class Waiter_Or_Waitress: Recall Difference = -0.01020408163265306\n",
      "Class Individual_Sports: Recall Difference = 0.0399313501144164\n",
      "Class Surgeons: Recall Difference = 0.0\n",
      "Class Spa: Recall Difference = 0.0\n",
      "Class Law_Enforcement: Recall Difference = 0.02040816326530612\n",
      "Class Business: Recall Difference = 0.0\n",
      "Class Dresses: Recall Difference = 0.06634615384615386\n",
      "Class Water Activities: Recall Difference = -0.016632490316700776\n",
      "Class Picnic: Recall Difference = -0.03636363636363636\n",
      "Class Rescue: Recall Difference = 0.0\n",
      "Class Cheering: Recall Difference = 0.0\n",
      "Class Performance_And_Entertainment: Recall Difference = -0.020031849803034112\n",
      "Class Family: Recall Difference = -0.014999999999999998\n",
      "Data has been appended to ./runs_2023_12_04_11_22/validation_5.txt\n"
     ]
    },
    {
     "name": "stderr",
     "output_type": "stream",
     "text": [
      "100%|████████████████████████████████████████████████████████████████████████| 162/162 [01:55<00:00,  1.40it/s]\n"
     ]
    },
    {
     "name": "stdout",
     "output_type": "stream",
     "text": [
      "Average Adversary epoch loss: 0.31732281058290857\n"
     ]
    },
    {
     "name": "stderr",
     "output_type": "stream",
     "text": [
      "100%|████████████████████████████████████████████████████████████████████████| 162/162 [02:03<00:00,  1.32it/s]\n",
      "100%|██████████████████████████████████████████████████████████████████████████| 55/55 [00:20<00:00,  2.75it/s]\n"
     ]
    },
    {
     "name": "stdout",
     "output_type": "stream",
     "text": [
      "*****Epoch 2/300*****\n",
      "*****Train Loss:  26.527443 Val Loss:  33.419726*****\n",
      "*****Validation Accuracy: 26.44%*****\n",
      "*****Total Avg Disparity: 0.0972158389560436*****\n",
      "\n",
      "Class Team_Sports: Recall Difference = 0.06559489892823234\n",
      "Class Celebration: Recall Difference = -0.14247311827956982\n",
      "Class Parade: Recall Difference = -0.13077914901455154\n",
      "Class Waiter_Or_Waitress: Recall Difference = -0.11459968602825743\n",
      "Class Individual_Sports: Recall Difference = -0.16010678871090775\n",
      "Class Surgeons: Recall Difference = 0.0\n",
      "Class Spa: Recall Difference = 0.0\n",
      "Class Law_Enforcement: Recall Difference = 0.04984539270253555\n",
      "Class Business: Recall Difference = 0.0\n",
      "Class Dresses: Recall Difference = 0.0\n",
      "Class Water Activities: Recall Difference = 0.06390977443609014\n",
      "Class Picnic: Recall Difference = -0.14545454545454545\n",
      "Class Rescue: Recall Difference = 0.0\n",
      "Class Cheering: Recall Difference = 0.0\n",
      "Class Performance_And_Entertainment: Recall Difference = 0.0021791970497024547\n",
      "Class Family: Recall Difference = 0.0\n",
      "Data has been appended to ./runs_2023_12_04_11_22/validation_5.txt\n"
     ]
    },
    {
     "name": "stderr",
     "output_type": "stream",
     "text": [
      "100%|████████████████████████████████████████████████████████████████████████| 162/162 [01:57<00:00,  1.37it/s]\n"
     ]
    },
    {
     "name": "stdout",
     "output_type": "stream",
     "text": [
      "Average Adversary epoch loss: 0.17793130653875847\n"
     ]
    },
    {
     "name": "stderr",
     "output_type": "stream",
     "text": [
      "100%|████████████████████████████████████████████████████████████████████████| 162/162 [02:01<00:00,  1.33it/s]\n",
      "100%|██████████████████████████████████████████████████████████████████████████| 55/55 [00:20<00:00,  2.68it/s]\n"
     ]
    },
    {
     "name": "stdout",
     "output_type": "stream",
     "text": [
      "*****Epoch 3/300*****\n",
      "*****Train Loss:  29.133639 Val Loss:  32.927546*****\n",
      "*****Validation Accuracy: 29.21%*****\n",
      "*****Total Avg Disparity: 0.0891930877249598*****\n",
      "\n",
      "Class Team_Sports: Recall Difference = 0.11599511599511603\n",
      "Class Celebration: Recall Difference = -0.09408602150537637\n",
      "Class Parade: Recall Difference = -0.12549886412476208\n",
      "Class Waiter_Or_Waitress: Recall Difference = -0.11459968602825746\n",
      "Class Individual_Sports: Recall Difference = -0.1539282990083906\n",
      "Class Surgeons: Recall Difference = 0.0\n",
      "Class Spa: Recall Difference = 0.0\n",
      "Class Law_Enforcement: Recall Difference = 0.09907235621521332\n",
      "Class Business: Recall Difference = 0.0\n",
      "Class Dresses: Recall Difference = -0.10625000000000001\n",
      "Class Water Activities: Recall Difference = -0.02551834130781494\n",
      "Class Picnic: Recall Difference = -0.03636363636363637\n",
      "Class Rescue: Recall Difference = 0.0\n",
      "Class Cheering: Recall Difference = 0.0\n",
      "Class Performance_And_Entertainment: Recall Difference = 0.020618556701030927\n",
      "Class Family: Recall Difference = 0.0\n",
      "Data has been appended to ./runs_2023_12_04_11_22/validation_5.txt\n"
     ]
    },
    {
     "name": "stderr",
     "output_type": "stream",
     "text": [
      "100%|████████████████████████████████████████████████████████████████████████| 162/162 [01:57<00:00,  1.38it/s]\n"
     ]
    },
    {
     "name": "stdout",
     "output_type": "stream",
     "text": [
      "Average Adversary epoch loss: 0.17321950519158516\n"
     ]
    },
    {
     "name": "stderr",
     "output_type": "stream",
     "text": [
      "100%|████████████████████████████████████████████████████████████████████████| 162/162 [02:00<00:00,  1.35it/s]\n",
      "100%|██████████████████████████████████████████████████████████████████████████| 55/55 [00:19<00:00,  2.76it/s]\n"
     ]
    },
    {
     "name": "stdout",
     "output_type": "stream",
     "text": [
      "*****Epoch 4/300*****\n",
      "*****Train Loss:  28.909923 Val Loss:  31.559693*****\n",
      "*****Validation Accuracy: 29.90%*****\n",
      "*****Total Avg Disparity: 0.09096765076108539*****\n",
      "\n",
      "Class Team_Sports: Recall Difference = 0.12899651788540673\n",
      "Class Celebration: Recall Difference = 0.04070660522273428\n",
      "Class Parade: Recall Difference = -0.04334745502548046\n",
      "Class Waiter_Or_Waitress: Recall Difference = -0.1326530612244898\n",
      "Class Individual_Sports: Recall Difference = -0.25003813882532416\n",
      "Class Surgeons: Recall Difference = 0.0\n",
      "Class Spa: Recall Difference = 0.0\n",
      "Class Law_Enforcement: Recall Difference = 0.1287569573283859\n",
      "Class Business: Recall Difference = 0.0\n",
      "Class Dresses: Recall Difference = 0.04134615384615385\n",
      "Class Water Activities: Recall Difference = 0.13089542036910462\n",
      "Class Picnic: Recall Difference = -0.05454545454545455\n",
      "Class Rescue: Recall Difference = 0.0\n",
      "Class Cheering: Recall Difference = 0.0\n",
      "Class Performance_And_Entertainment: Recall Difference = 0.004358394099404913\n",
      "Class Family: Recall Difference = 0.045\n",
      "Data has been appended to ./runs_2023_12_04_11_22/validation_5.txt\n"
     ]
    },
    {
     "name": "stderr",
     "output_type": "stream",
     "text": [
      "100%|████████████████████████████████████████████████████████████████████████| 162/162 [01:56<00:00,  1.39it/s]\n"
     ]
    },
    {
     "name": "stdout",
     "output_type": "stream",
     "text": [
      "Average Adversary epoch loss: 0.16862819035664017\n"
     ]
    },
    {
     "name": "stderr",
     "output_type": "stream",
     "text": [
      "100%|████████████████████████████████████████████████████████████████████████| 162/162 [02:01<00:00,  1.33it/s]\n",
      "100%|██████████████████████████████████████████████████████████████████████████| 55/55 [00:20<00:00,  2.71it/s]\n"
     ]
    },
    {
     "name": "stdout",
     "output_type": "stream",
     "text": [
      "*****Epoch 5/300*****\n",
      "*****Train Loss:  29.682486 Val Loss:  34.692722*****\n",
      "*****Validation Accuracy: 31.54%*****\n",
      "*****Total Avg Disparity: 0.10788634207934326*****\n",
      "\n",
      "Class Team_Sports: Recall Difference = 0.05196038529371849\n",
      "Class Celebration: Recall Difference = -0.0076804915514592995\n",
      "Class Parade: Recall Difference = -0.11407871308405473\n",
      "Class Waiter_Or_Waitress: Recall Difference = -0.1295133437990581\n",
      "Class Individual_Sports: Recall Difference = -0.17036613272311218\n",
      "Class Surgeons: Recall Difference = 0.0\n",
      "Class Spa: Recall Difference = 0.0\n",
      "Class Law_Enforcement: Recall Difference = 0.2785405071119357\n",
      "Class Business: Recall Difference = -0.08439625850340135\n",
      "Class Dresses: Recall Difference = -0.09471153846153846\n",
      "Class Water Activities: Recall Difference = 0.003987240829346206\n",
      "Class Picnic: Recall Difference = -0.21818181818181823\n",
      "Class Rescue: Recall Difference = 0.0\n",
      "Class Cheering: Recall Difference = 0.0\n",
      "Class Performance_And_Entertainment: Recall Difference = 0.0\n",
      "Class Family: Recall Difference = -0.033333333333333326\n",
      "Data has been appended to ./runs_2023_12_04_11_22/validation_5.txt\n"
     ]
    },
    {
     "name": "stderr",
     "output_type": "stream",
     "text": [
      "100%|████████████████████████████████████████████████████████████████████████| 162/162 [01:56<00:00,  1.39it/s]\n"
     ]
    },
    {
     "name": "stdout",
     "output_type": "stream",
     "text": [
      "Average Adversary epoch loss: 0.16909856146868366\n"
     ]
    },
    {
     "name": "stderr",
     "output_type": "stream",
     "text": [
      "100%|████████████████████████████████████████████████████████████████████████| 162/162 [02:02<00:00,  1.32it/s]\n",
      "100%|██████████████████████████████████████████████████████████████████████████| 55/55 [00:20<00:00,  2.70it/s]\n"
     ]
    },
    {
     "name": "stdout",
     "output_type": "stream",
     "text": [
      "*****Epoch 6/300*****\n",
      "*****Train Loss:  29.979426 Val Loss:  34.636866*****\n",
      "*****Validation Accuracy: 33.71%*****\n",
      "*****Total Avg Disparity: 0.10108990080885426*****\n",
      "\n",
      "Class Team_Sports: Recall Difference = 0.13030796364129704\n",
      "Class Celebration: Recall Difference = 0.016513056835637474\n",
      "Class Parade: Recall Difference = -0.1085528335482287\n",
      "Class Waiter_Or_Waitress: Recall Difference = -0.11616954474097332\n",
      "Class Individual_Sports: Recall Difference = -0.22616323417238748\n",
      "Class Surgeons: Recall Difference = 0.0\n",
      "Class Spa: Recall Difference = 0.0\n",
      "Class Law_Enforcement: Recall Difference = 0.15819418676561528\n",
      "Class Business: Recall Difference = -0.07908163265306123\n",
      "Class Dresses: Recall Difference = -0.07932692307692309\n",
      "Class Water Activities: Recall Difference = 0.06356801093643194\n",
      "Class Picnic: Recall Difference = -0.14545454545454545\n",
      "Class Rescue: Recall Difference = 0.0\n",
      "Class Cheering: Recall Difference = 0.0\n",
      "Class Performance_And_Entertainment: Recall Difference = 0.08641354454781663\n",
      "Class Family: Recall Difference = -0.003333333333333334\n",
      "Data has been appended to ./runs_2023_12_04_11_22/validation_5.txt\n"
     ]
    },
    {
     "name": "stderr",
     "output_type": "stream",
     "text": [
      "100%|████████████████████████████████████████████████████████████████████████| 162/162 [01:56<00:00,  1.39it/s]\n"
     ]
    },
    {
     "name": "stdout",
     "output_type": "stream",
     "text": [
      "Average Adversary epoch loss: 0.16826966294535883\n"
     ]
    },
    {
     "name": "stderr",
     "output_type": "stream",
     "text": [
      "100%|████████████████████████████████████████████████████████████████████████| 162/162 [02:03<00:00,  1.31it/s]\n",
      "100%|██████████████████████████████████████████████████████████████████████████| 55/55 [00:20<00:00,  2.73it/s]\n"
     ]
    },
    {
     "name": "stdout",
     "output_type": "stream",
     "text": [
      "*****Epoch 7/300*****\n",
      "*****Train Loss:  29.630613 Val Loss:  32.987379*****\n",
      "*****Validation Accuracy: 34.23%*****\n",
      "*****Total Avg Disparity: 0.09392229126942671*****\n",
      "\n",
      "Class Team_Sports: Recall Difference = 0.1062271062271063\n",
      "Class Celebration: Recall Difference = 0.0875576036866359\n",
      "Class Parade: Recall Difference = -0.08430036225210297\n",
      "Class Waiter_Or_Waitress: Recall Difference = -0.13736263736263737\n",
      "Class Individual_Sports: Recall Difference = -0.12971014492753624\n",
      "Class Surgeons: Recall Difference = 0.0\n",
      "Class Spa: Recall Difference = 0.0\n",
      "Class Law_Enforcement: Recall Difference = 0.07173778602350034\n",
      "Class Business: Recall Difference = -0.011479591836734693\n",
      "Class Dresses: Recall Difference = -0.01298076923076924\n",
      "Class Water Activities: Recall Difference = 0.025974025974025983\n",
      "Class Picnic: Recall Difference = -0.38181818181818183\n",
      "Class Rescue: Recall Difference = 0.0\n",
      "Class Cheering: Recall Difference = 0.0\n",
      "Class Performance_And_Entertainment: Recall Difference = 0.07291928589388985\n",
      "Class Family: Recall Difference = -0.0050000000000000044\n",
      "Data has been appended to ./runs_2023_12_04_11_22/validation_5.txt\n"
     ]
    },
    {
     "name": "stderr",
     "output_type": "stream",
     "text": [
      "100%|████████████████████████████████████████████████████████████████████████| 162/162 [01:56<00:00,  1.39it/s]\n"
     ]
    },
    {
     "name": "stdout",
     "output_type": "stream",
     "text": [
      "Average Adversary epoch loss: 0.16771672500504387\n"
     ]
    },
    {
     "name": "stderr",
     "output_type": "stream",
     "text": [
      "100%|████████████████████████████████████████████████████████████████████████| 162/162 [02:02<00:00,  1.32it/s]\n",
      "100%|██████████████████████████████████████████████████████████████████████████| 55/55 [00:19<00:00,  2.78it/s]\n"
     ]
    },
    {
     "name": "stdout",
     "output_type": "stream",
     "text": [
      "*****Epoch 8/300*****\n",
      "*****Train Loss:  29.221198 Val Loss:  34.166057*****\n",
      "*****Validation Accuracy: 36.59%*****\n",
      "*****Total Avg Disparity: 0.14512555359879187*****\n",
      "\n",
      "Class Team_Sports: Recall Difference = 0.13996291774069547\n",
      "Class Celebration: Recall Difference = -0.08371735791090629\n",
      "Class Parade: Recall Difference = -0.10554429913427893\n",
      "Class Waiter_Or_Waitress: Recall Difference = -0.13736263736263737\n",
      "Class Individual_Sports: Recall Difference = -0.18943554538520224\n",
      "Class Surgeons: Recall Difference = 0.0\n",
      "Class Spa: Recall Difference = 0.0\n",
      "Class Law_Enforcement: Recall Difference = 0.1760049474335188\n",
      "Class Business: Recall Difference = -0.06823979591836737\n",
      "Class Dresses: Recall Difference = -0.3399038461538461\n",
      "Class Water Activities: Recall Difference = 0.07985873775347463\n",
      "Class Picnic: Recall Difference = -0.2545454545454545\n",
      "Class Rescue: Recall Difference = 0.0\n",
      "Class Cheering: Recall Difference = 0.0\n",
      "Class Performance_And_Entertainment: Recall Difference = 0.16193110384712092\n",
      "Class Family: Recall Difference = 0.0050000000000000044\n",
      "Data has been appended to ./runs_2023_12_04_11_22/validation_5.txt\n"
     ]
    },
    {
     "name": "stderr",
     "output_type": "stream",
     "text": [
      "100%|████████████████████████████████████████████████████████████████████████| 162/162 [01:55<00:00,  1.40it/s]\n"
     ]
    },
    {
     "name": "stdout",
     "output_type": "stream",
     "text": [
      "Average Adversary epoch loss: 0.16541946403406285\n"
     ]
    },
    {
     "name": "stderr",
     "output_type": "stream",
     "text": [
      "100%|████████████████████████████████████████████████████████████████████████| 162/162 [02:03<00:00,  1.32it/s]\n",
      "100%|██████████████████████████████████████████████████████████████████████████| 55/55 [00:19<00:00,  2.76it/s]\n"
     ]
    },
    {
     "name": "stdout",
     "output_type": "stream",
     "text": [
      "*****Epoch 9/300*****\n",
      "*****Train Loss:  26.722000 Val Loss:  31.435831*****\n",
      "*****Validation Accuracy: 36.13%*****\n",
      "*****Total Avg Disparity: 0.12461508787317666*****\n",
      "\n",
      "Class Team_Sports: Recall Difference = 0.16406638628860848\n",
      "Class Celebration: Recall Difference = 0.023425499231950864\n",
      "Class Parade: Recall Difference = -0.17111806962608217\n",
      "Class Waiter_Or_Waitress: Recall Difference = -0.14442700156985872\n",
      "Class Individual_Sports: Recall Difference = -0.2048436308161709\n",
      "Class Surgeons: Recall Difference = 0.0\n",
      "Class Spa: Recall Difference = -0.061224489795918366\n",
      "Class Law_Enforcement: Recall Difference = 0.12195423623995055\n",
      "Class Business: Recall Difference = -0.11926020408163254\n",
      "Class Dresses: Recall Difference = -0.37740384615384615\n",
      "Class Water Activities: Recall Difference = -0.0042150831624515606\n",
      "Class Picnic: Recall Difference = -0.09090909090909091\n",
      "Class Rescue: Recall Difference = 0.0\n",
      "Class Cheering: Recall Difference = 0.0\n",
      "Class Performance_And_Entertainment: Recall Difference = 0.08381527114240214\n",
      "Class Family: Recall Difference = -0.053333333333333344\n",
      "Data has been appended to ./runs_2023_12_04_11_22/validation_5.txt\n"
     ]
    },
    {
     "name": "stderr",
     "output_type": "stream",
     "text": [
      "100%|████████████████████████████████████████████████████████████████████████| 162/162 [01:55<00:00,  1.41it/s]\n"
     ]
    },
    {
     "name": "stdout",
     "output_type": "stream",
     "text": [
      "Average Adversary epoch loss: 0.16561246134432744\n"
     ]
    },
    {
     "name": "stderr",
     "output_type": "stream",
     "text": [
      "100%|████████████████████████████████████████████████████████████████████████| 162/162 [02:01<00:00,  1.33it/s]\n",
      "100%|██████████████████████████████████████████████████████████████████████████| 55/55 [00:20<00:00,  2.70it/s]\n"
     ]
    },
    {
     "name": "stdout",
     "output_type": "stream",
     "text": [
      "*****Epoch 10/300*****\n",
      "*****Train Loss:  27.356159 Val Loss:  30.424342*****\n",
      "*****Validation Accuracy: 37.14%*****\n",
      "*****Total Avg Disparity: 0.15141134881717497*****\n",
      "\n",
      "Class Team_Sports: Recall Difference = 0.10690544023877357\n",
      "Class Celebration: Recall Difference = -0.020737327188940086\n",
      "Class Parade: Recall Difference = -0.056056977957880505\n",
      "Class Waiter_Or_Waitress: Recall Difference = -0.08555729984301416\n",
      "Class Individual_Sports: Recall Difference = -0.18310450038138826\n",
      "Class Surgeons: Recall Difference = 0.0\n",
      "Class Spa: Recall Difference = -0.5306122448979592\n",
      "Class Law_Enforcement: Recall Difference = 0.12158317872603586\n",
      "Class Business: Recall Difference = -0.10926870748299317\n",
      "Class Dresses: Recall Difference = -0.15865384615384615\n",
      "Class Water Activities: Recall Difference = 0.11619958988380052\n",
      "Class Picnic: Recall Difference = -0.4\n",
      "Class Rescue: Recall Difference = 0.0\n",
      "Class Cheering: Recall Difference = -0.02317473338802297\n",
      "Class Performance_And_Entertainment: Recall Difference = 0.14290503729779566\n",
      "Class Family: Recall Difference = -0.06500000000000002\n",
      "Data has been appended to ./runs_2023_12_04_11_22/validation_5.txt\n"
     ]
    },
    {
     "name": "stderr",
     "output_type": "stream",
     "text": [
      "100%|████████████████████████████████████████████████████████████████████████| 162/162 [01:54<00:00,  1.41it/s]\n"
     ]
    },
    {
     "name": "stdout",
     "output_type": "stream",
     "text": [
      "Average Adversary epoch loss: 0.16523582980404666\n"
     ]
    },
    {
     "name": "stderr",
     "output_type": "stream",
     "text": [
      "100%|████████████████████████████████████████████████████████████████████████| 162/162 [02:02<00:00,  1.32it/s]\n",
      "100%|██████████████████████████████████████████████████████████████████████████| 55/55 [00:20<00:00,  2.75it/s]\n"
     ]
    },
    {
     "name": "stdout",
     "output_type": "stream",
     "text": [
      "*****Epoch 11/300*****\n",
      "*****Train Loss:  28.382565 Val Loss:  30.266745*****\n",
      "*****Validation Accuracy: 37.84%*****\n",
      "*****Total Avg Disparity: 0.12921323564294704*****\n",
      "\n",
      "Class Team_Sports: Recall Difference = 0.11855017410572966\n",
      "Class Celebration: Recall Difference = -0.000384024577573\n",
      "Class Parade: Recall Difference = -0.13587523791981343\n",
      "Class Waiter_Or_Waitress: Recall Difference = -0.13108320251177402\n",
      "Class Individual_Sports: Recall Difference = -0.04633867276887882\n",
      "Class Surgeons: Recall Difference = 0.0\n",
      "Class Spa: Recall Difference = -0.32653061224489793\n",
      "Class Law_Enforcement: Recall Difference = 0.171552257266543\n",
      "Class Business: Recall Difference = -0.08864795918367352\n",
      "Class Dresses: Recall Difference = -0.19374999999999998\n",
      "Class Water Activities: Recall Difference = -0.0408976987924356\n",
      "Class Picnic: Recall Difference = -0.3272727272727273\n",
      "Class Rescue: Recall Difference = 0.0\n",
      "Class Cheering: Recall Difference = 0.03199343724364233\n",
      "Class Performance_And_Entertainment: Recall Difference = 0.14944262844690306\n",
      "Class Family: Recall Difference = -0.046666666666666676\n",
      "Early stopping\n"
     ]
    },
    {
     "data": {
      "image/png": "[encoded data removed]",
      "text/plain": [
       "<Figure size 640x480 with 1 Axes>"
      ]
     },
     "metadata": {},
     "output_type": "display_data"
    },
    {
     "name": "stdout",
     "output_type": "stream",
     "text": [
      "Student weights and architecture saved and exported for lambda: 5\n"
     ]
    }
   ],
   "source": [
    "# Loop for training the student model with different lambda values\n",
    "for i in lmda_list_student:\n",
    "    # load teacher model with lambda 0\n",
    "    teacher_model = torch.load('teacher_model_rkd_wider_lambda02.pth')\n",
    "    teacher_model.load_state_dict(torch.load('teacher_model_weights_rkd_wider_lambda02.pth'))\n",
    "    teacher_model = teacher_model.to(device)\n",
    "    \n",
    "    # Reset the student model for each lambda\n",
    "    student_model = torchvision.models.efficientnet_b0(weights=None)\n",
    "    student_model.classifier = nn.Linear(1280, num_classes)\n",
    "    student_optimizer = optim.Adam(student_model.parameters(), lr=best_lr_student)\n",
    "\n",
    "    adv = Adversary()\n",
    "    student_optimizer_adv = optim.Adam(adv.parameters(), lr=best_lr_student)\n",
    "\n",
    "    pretrain_student(student_model, teacher_model, trainloader, criterion_clf, student_optimizer, device, alpha, temperature, epochs_pretrain)\n",
    "    pretrain_adversary(adv, teacher_model, optimizer_adv, trainloader, adv_criterion, device, epochs_pretrain)\n",
    "    \n",
    "    student_mean_abs_val_disparity = train_student_with_distillation_disparity(student_model, teacher_model, adv, trainloader, testloader, criterion_clf, adv_criterion, student_optimizer, device, alpha, temperature, epochs, lmda=i, patience=patience_student, optimizer_adv=student_optimizer_adv)\n",
    "\n",
    "    torch.save(student_model.state_dict(), f'student_model_weights_rkd_wider_lambda{i}.pth')\n",
    "    torch.save(student_model, f'student_model_rkd_wider_lambda{i}.pth')\n",
    "    print('Student weights and architecture saved and exported for lambda:', i)\n",
    "\n",
    "    # Update the dictionary with the student results\n",
    "    if i in lambda_results:\n",
    "        # If the key 'i' is already present in the dictionary\n",
    "        lambda_results[i].update({\n",
    "            'student_mean_abs_val_disparity': student_mean_abs_val_disparity\n",
    "        })\n",
    "    else:\n",
    "        # If the key 'i' is not present in the dictionary\n",
    "        lambda_results[i] = {\n",
    "            'student_mean_abs_val_disparity': student_mean_abs_val_disparity\n",
    "        }"
   ]
  },
  {
   "cell_type": "code",
   "execution_count": 29,
   "id": "073656a3-9d3d-469d-a66f-0afc3c289ab9",
   "metadata": {},
   "outputs": [],
   "source": [
    "def compare_performance_metrics(teacher, student, dataloader):\n",
    "    teacher.eval()\n",
    "    student.eval()\n",
    "    \n",
    "    all_labels = []\n",
    "    all_teacher_preds = []\n",
    "    all_student_preds = []\n",
    "\n",
    "    for batch in dataloader:\n",
    "        inputs = batch['img'].to(device)\n",
    "        labels = batch['label'].to(device)\n",
    "        \n",
    "        with torch.no_grad():\n",
    "            teacher_outputs = teacher(inputs)\n",
    "            student_outputs = student(inputs)\n",
    "            \n",
    "        teacher_preds = torch.argmax(teacher_outputs, dim=1).cpu().numpy()\n",
    "        student_preds = torch.argmax(student_outputs, dim=1).cpu().numpy()\n",
    "        \n",
    "        all_labels.append(labels.cpu().numpy())\n",
    "        all_teacher_preds.append(teacher_preds)\n",
    "        all_student_preds.append(student_preds)\n",
    "\n",
    "    all_labels = np.concatenate(all_labels)\n",
    "    all_teacher_preds = np.concatenate(all_teacher_preds)\n",
    "    all_student_preds = np.concatenate(all_student_preds)\n",
    "    \n",
    "    metrics = {\n",
    "        'accuracy': (accuracy_score(all_labels, all_teacher_preds), accuracy_score(all_labels, all_student_preds)),\n",
    "        'precision': (precision_score(all_labels, all_teacher_preds, average='weighted', zero_division=0), precision_score(all_labels, all_student_preds, average='weighted', zero_division=0)),\n",
    "        'recall': (recall_score(all_labels, all_teacher_preds, average='weighted'), recall_score(all_labels, all_student_preds, average='weighted')),\n",
    "        'f1': (f1_score(all_labels, all_teacher_preds, average='weighted'), f1_score(all_labels, all_student_preds, average='weighted'))\n",
    "    }\n",
    "\n",
    "    return {\n",
    "        'metrics': metrics,\n",
    "        'all_labels': all_labels,\n",
    "        'all_teacher_preds': all_teacher_preds,\n",
    "        'all_student_preds': all_student_preds\n",
    "    }\n",
    "\n",
    "def compare_model_size(teacher, student):\n",
    "    teacher_params = sum(p.numel() for p in teacher.parameters())\n",
    "    student_params = sum(p.numel() for p in student.parameters())\n",
    "    return teacher_params, student_params\n",
    "\n",
    "def compare_inference_time(teacher, student, dataloader):\n",
    "    dataiter = iter(dataloader)\n",
    "    data = next(dataiter)\n",
    "    inputs = data['img']\n",
    "    inputs = inputs.to(device)\n",
    "\n",
    "    teacher_time, student_time = 0, 0\n",
    "\n",
    "    if teacher is not None:\n",
    "        teacher = teacher.to(device)\n",
    "        start_time = time.time()\n",
    "        with torch.no_grad():\n",
    "            teacher_outputs = teacher(inputs)\n",
    "        teacher_time = time.time() - start_time\n",
    "\n",
    "    if student is not None:\n",
    "        student = student.to(device)\n",
    "        start_time = time.time()\n",
    "        with torch.no_grad():\n",
    "            student_outputs = student(inputs)\n",
    "        student_time = time.time() - start_time\n",
    "    \n",
    "    return teacher_time, student_time\n"
   ]
  },
  {
   "cell_type": "code",
   "execution_count": 30,
   "id": "249e04fd-db83-4893-bfd5-31d8808243d9",
   "metadata": {},
   "outputs": [],
   "source": [
    "# # Loop through each lambda value\n",
    "# lmda_list = lmda_list_student\n",
    "# for lmda in lmda_list:\n",
    "#     # Load teacher and student models for the current lambda\n",
    "#     # teacher_model = torch.load(f'teacher_model_rkd_wider_lambda{lmda}.pth')\n",
    "#     # student_model = torch.load(f'student_model_rkd_wider_lambda{lmda}.pth')\n",
    "\n",
    "#     teacher_model = torch.load(f'teacher_model_rkd_wider_lambda02.pth')\n",
    "#     student_model = torch.load(f'student_model_rkd_wider_lambda{lmda}.pth')\n",
    "\n",
    "\n",
    "#     # Compute performance metrics\n",
    "#     performance_metrics = compare_performance_metrics(teacher_model, student_model, testloader)\n",
    "\n",
    "#     # Compute model sizes and inference times\n",
    "#     teacher_params, student_params = compare_model_size(teacher_model, student_model)\n",
    "#     teacher_time, student_time = compare_inference_time(teacher_model, student_model, testloader)\n",
    "\n",
    "#     # Update results for the current lambda value\n",
    "#     if lmda in lambda_results:\n",
    "#         lambda_results[lmda].update({\n",
    "#             'performance_metrics': performance_metrics,\n",
    "#             'teacher_params': teacher_params,\n",
    "#             'student_params': student_params,\n",
    "#             'teacher_time': teacher_time,\n",
    "#             'student_time': student_time\n",
    "#         })\n",
    "#     else:\n",
    "#         lambda_results[lmda] = {\n",
    "#             'performance_metrics': performance_metrics,\n",
    "#             'teacher_params': teacher_params,\n",
    "#             'student_params': student_params,\n",
    "#             'teacher_time': teacher_time,\n",
    "#             'student_time': student_time\n",
    "#         }\n"
   ]
  },
  {
   "cell_type": "code",
   "execution_count": 35,
   "id": "4bba6878-d5fe-42c4-8532-d66a0cb5d612",
   "metadata": {},
   "outputs": [],
   "source": [
    "# Loop through each lambda value\n",
    "for lmda_teacher in lmda_list_teacher:\n",
    "    for lmda_student in lmda_list_student:\n",
    "\n",
    "        # Load the teacher model for the current lambda from the 'output_dir'\n",
    "        # teacher_model_path = os.path.join(output_dir, f'teacher_model_rkd_wider_lambda{lmda_teacher}.pth')\n",
    "        teacher_model_path =f'teacher_model_rkd_wider_lambda02.pth'\n",
    "        teacher_model = torch.load(teacher_model_path)\n",
    "        \n",
    "        # Load the student model for the current lambda from the 'output_dir'\n",
    "        # student_model_path = os.path.join(output_dir, f'student_model_rkd_wider_lambda{lmda_student}.pth')\n",
    "        student_model_path = f'student_model_rkd_wider_lambda{lmda_student}.pth'\n",
    "        student_model = torch.load(student_model_path)\n",
    "    \n",
    "        # Compute performance metrics\n",
    "        performance_metrics = compare_performance_metrics(teacher_model, student_model, testloader)\n",
    "    \n",
    "        # Compute model sizes\n",
    "        teacher_params, student_params = compare_model_size(teacher_model, student_model)\n",
    "    \n",
    "        # Construct a unique key for the current combination of lambda values\n",
    "        lambda_key = (lmda_teacher, lmda_student)\n",
    "\n",
    "        # Update results for the current lambda value\n",
    "        if lambda_key in lambda_results:\n",
    "            lambda_results[lambda_key].update({\n",
    "                'performance_metrics': performance_metrics,\n",
    "                'teacher_params': teacher_params,\n",
    "                'student_params': student_params\n",
    "            })\n",
    "        else:\n",
    "            lambda_results[lambda_key] = {\n",
    "                'performance_metrics': performance_metrics,\n",
    "                'teacher_params': teacher_params,\n",
    "                'student_params': student_params\n",
    "            }\n"
   ]
  },
  {
   "cell_type": "code",
   "execution_count": 36,
   "id": "4c127f4e-cc52-45ff-a035-9e0184fb9a64",
   "metadata": {},
   "outputs": [
    {
     "data": {
      "image/png": "[encoded data removed]",
      "text/plain": [
       "<Figure size 640x480 with 1 Axes>"
      ]
     },
     "metadata": {},
     "output_type": "display_data"
    }
   ],
   "source": [
    "# Initialize lists to store accuracies\n",
    "teacher_accuracies = []\n",
    "student_accuracies = []\n",
    "lambda_pairs = list(lambda_results.keys())\n",
    "\n",
    "# Iterate over the keys in lambda_results\n",
    "for key in lambda_pairs:\n",
    "    # Check if the key is a tuple (indicating a lambda pair)\n",
    "    if isinstance(key, tuple) and len(key) == 2:\n",
    "        lmda_teacher, lmda_student = key\n",
    "    else:\n",
    "        # If the key is not a tuple, skip this iteration\n",
    "        continue\n",
    "\n",
    "    # Access the performance metrics for each pair\n",
    "    teacher_accuracy = lambda_results[(lmda_teacher, lmda_student)]['performance_metrics']['metrics']['accuracy'][0]\n",
    "    student_accuracy = lambda_results[(lmda_teacher, lmda_student)]['performance_metrics']['metrics']['accuracy'][1]\n",
    "\n",
    "    # Append accuracies to the lists\n",
    "    teacher_accuracies.append((lmda_teacher, teacher_accuracy))\n",
    "    student_accuracies.append((lmda_student, student_accuracy))\n",
    "\n",
    "# To plot, you might need to separate the lambda values and accuracies\n",
    "teacher_lambdas, teacher_acc = zip(*teacher_accuracies)\n",
    "student_lambdas, student_acc = zip(*student_accuracies)\n",
    "\n",
    "# Plotting\n",
    "plt.plot(teacher_lambdas, teacher_acc, label='Teacher Accuracy', marker='o')\n",
    "plt.plot(student_lambdas, student_acc, label='Student Accuracy', marker='o')\n",
    "plt.xlabel('Lambda')\n",
    "plt.ylabel('Accuracy')\n",
    "plt.title('Accuracy Comparison Across Lambdas')\n",
    "plt.legend()\n",
    "plt.show()\n"
   ]
  },
  {
   "cell_type": "code",
   "execution_count": 37,
   "id": "cf6d58ea-0417-4a20-bc3f-4b69f15b9452",
   "metadata": {},
   "outputs": [
    {
     "data": {
      "image/png": "[encoded data removed]",
      "text/plain": [
       "<Figure size 1000x600 with 1 Axes>"
      ]
     },
     "metadata": {},
     "output_type": "display_data"
    }
   ],
   "source": [
    "# Initialize lists to store precisions\n",
    "teacher_precisions = []\n",
    "student_precisions = []\n",
    "lambda_pairs = list(lambda_results.keys())\n",
    "\n",
    "# Iterate over the keys in lambda_results\n",
    "for key in lambda_pairs:\n",
    "    # Check if the key is a tuple (indicating a lambda pair)\n",
    "    if isinstance(key, tuple) and len(key) == 2:\n",
    "        lmda_teacher, lmda_student = key\n",
    "        # Access the precision metrics for each pair\n",
    "        teacher_precision = lambda_results[(lmda_teacher, lmda_student)]['performance_metrics']['metrics']['precision'][0]\n",
    "        student_precision = lambda_results[(lmda_teacher, lmda_student)]['performance_metrics']['metrics']['precision'][1]\n",
    "    else:\n",
    "        # If the key is not a tuple, skip this iteration\n",
    "        continue\n",
    "\n",
    "    # Append precisions to the lists along with lambda values\n",
    "    teacher_precisions.append((lmda_teacher, teacher_precision))\n",
    "    student_precisions.append((lmda_student, student_precision))\n",
    "\n",
    "# To plot, you might need to separate the lambda values and precisions\n",
    "teacher_lambdas, teacher_prec = zip(*teacher_precisions)\n",
    "student_lambdas, student_prec = zip(*student_precisions)\n",
    "\n",
    "# Plotting\n",
    "plt.figure(figsize=(10, 6))\n",
    "plt.plot(teacher_lambdas, teacher_prec, label='Teacher Precision', marker='o')\n",
    "plt.plot(student_lambdas, student_prec, label='Student Precision', marker='o')\n",
    "plt.xlabel('Lambda')\n",
    "plt.ylabel('Precision')\n",
    "plt.title('Precision Comparison Across Lambdas')\n",
    "plt.legend()\n",
    "plt.show()\n"
   ]
  },
  {
   "cell_type": "code",
   "execution_count": 38,
   "id": "bf3ee757-c1af-4f1a-85bd-136bc85e6e98",
   "metadata": {},
   "outputs": [
    {
     "data": {
      "image/png": "[encoded data removed]",
      "text/plain": [
       "<Figure size 1000x600 with 1 Axes>"
      ]
     },
     "metadata": {},
     "output_type": "display_data"
    }
   ],
   "source": [
    "# Initialize lists to store recalls\n",
    "teacher_recalls = []\n",
    "student_recalls = []\n",
    "lambda_pairs = list(lambda_results.keys())\n",
    "\n",
    "# Iterate over the keys in lambda_results\n",
    "for key in lambda_pairs:\n",
    "    # Check if the key is a tuple (indicating a lambda pair)\n",
    "    if isinstance(key, tuple) and len(key) == 2:\n",
    "        lmda_teacher, lmda_student = key\n",
    "        # Access the recall metrics for each pair\n",
    "        teacher_recall = lambda_results[(lmda_teacher, lmda_student)]['performance_metrics']['metrics']['recall'][0]\n",
    "        student_recall = lambda_results[(lmda_teacher, lmda_student)]['performance_metrics']['metrics']['recall'][1]\n",
    "    else:\n",
    "        # If the key is not a tuple, skip this iteration\n",
    "        continue\n",
    "\n",
    "    # Append recalls to the lists along with lambda values\n",
    "    teacher_recalls.append((lmda_teacher, teacher_recall))\n",
    "    student_recalls.append((lmda_student, student_recall))\n",
    "\n",
    "# To plot, you might need to separate the lambda values and recalls\n",
    "teacher_lambdas, teacher_rec = zip(*teacher_recalls)\n",
    "student_lambdas, student_rec = zip(*student_recalls)\n",
    "\n",
    "# Plotting\n",
    "plt.figure(figsize=(10, 6))\n",
    "plt.plot(teacher_lambdas, teacher_rec, label='Teacher Recall', marker='o')\n",
    "plt.plot(student_lambdas, student_rec, label='Student Recall', marker='o')\n",
    "plt.xlabel('Lambda')\n",
    "plt.ylabel('Recall')\n",
    "plt.title('Recall Comparison Across Lambdas')\n",
    "plt.legend()\n",
    "plt.show()"
   ]
  },
  {
   "cell_type": "code",
   "execution_count": 39,
   "id": "f0d4e93d-9344-49fc-978f-a00d8d8e8eea",
   "metadata": {},
   "outputs": [
    {
     "data": {
      "image/png": "[encoded data removed]",
      "text/plain": [
       "<Figure size 1000x600 with 1 Axes>"
      ]
     },
     "metadata": {},
     "output_type": "display_data"
    }
   ],
   "source": [
    "# Initialize lists to store F1 scores\n",
    "teacher_f1s = []\n",
    "student_f1s = []\n",
    "lambda_pairs = list(lambda_results.keys())\n",
    "\n",
    "# Iterate over the keys in lambda_results\n",
    "for key in lambda_pairs:\n",
    "    # Check if the key is a tuple (indicating a lambda pair)\n",
    "    if isinstance(key, tuple) and len(key) == 2:\n",
    "        lmda_teacher, lmda_student = key\n",
    "        # Access the F1 scores for each pair\n",
    "        teacher_f1 = lambda_results[(lmda_teacher, lmda_student)]['performance_metrics']['metrics']['f1'][0]\n",
    "        student_f1 = lambda_results[(lmda_teacher, lmda_student)]['performance_metrics']['metrics']['f1'][1]\n",
    "    else:\n",
    "        # If the key is not a tuple, skip this iteration\n",
    "        continue\n",
    "\n",
    "    # Append F1 scores to the lists along with lambda values\n",
    "    teacher_f1s.append((lmda_teacher, teacher_f1))\n",
    "    student_f1s.append((lmda_student, student_f1))\n",
    "\n",
    "# To plot, you might need to separate the lambda values and F1 scores\n",
    "teacher_lambdas, teacher_f1_scores = zip(*teacher_f1s)\n",
    "student_lambdas, student_f1_scores = zip(*student_f1s)\n",
    "\n",
    "# Plotting\n",
    "plt.figure(figsize=(10, 6))\n",
    "plt.plot(teacher_lambdas, teacher_f1_scores, label='Teacher F1 Score', marker='o')\n",
    "plt.plot(student_lambdas, student_f1_scores, label='Student F1 Score', marker='o')\n",
    "plt.xlabel('Lambda')\n",
    "plt.ylabel('F1 Score')\n",
    "plt.title('F1 Score Comparison Across Lambdas')\n",
    "plt.legend()\n",
    "plt.show()"
   ]
  },
  {
   "cell_type": "code",
   "execution_count": 40,
   "id": "85b769e1-25e1-423c-b77f-af275eb11152",
   "metadata": {},
   "outputs": [
    {
     "data": {
      "image/png": "[encoded data removed]",
      "text/plain": [
       "<Figure size 1000x600 with 1 Axes>"
      ]
     },
     "metadata": {},
     "output_type": "display_data"
    }
   ],
   "source": [
    "# Initialize lists to store model sizes\n",
    "teacher_sizes = []\n",
    "student_sizes = []\n",
    "lambda_pairs = list(lambda_results.keys())\n",
    "\n",
    "# Iterate over the keys in lambda_results\n",
    "for key in lambda_pairs:\n",
    "    # Check if the key is a tuple (indicating a lambda pair)\n",
    "    if isinstance(key, tuple) and len(key) == 2:\n",
    "        lmda_teacher, lmda_student = key\n",
    "        # Access the model sizes for each pair\n",
    "        teacher_size = lambda_results[(lmda_teacher, lmda_student)]['teacher_params'] / 1e6  # Convert to millions\n",
    "        student_size = lambda_results[(lmda_teacher, lmda_student)]['student_params'] / 1e6\n",
    "    else:\n",
    "        # If the key is not a tuple, skip this iteration\n",
    "        continue\n",
    "\n",
    "    # Append model sizes to the lists along with lambda values\n",
    "    teacher_sizes.append((lmda_teacher, teacher_size))\n",
    "    student_sizes.append((lmda_student, student_size))\n",
    "\n",
    "# To plot, you might need to separate the lambda values and model sizes\n",
    "teacher_lambdas, teacher_model_sizes = zip(*teacher_sizes)\n",
    "student_lambdas, student_model_sizes = zip(*student_sizes)\n",
    "\n",
    "# Plotting\n",
    "plt.figure(figsize=(10, 6))\n",
    "plt.plot(teacher_lambdas, teacher_model_sizes, label='Teacher Model Size', marker='o')\n",
    "plt.plot(student_lambdas, student_model_sizes, label='Student Model Size', marker='o')\n",
    "plt.xlabel('Lambda')\n",
    "plt.ylabel('Model Size (Millions of Parameters)')\n",
    "plt.title('Model Size Comparison Across Lambdas')\n",
    "plt.legend()\n",
    "plt.show()"
   ]
  },
  {
   "cell_type": "code",
   "execution_count": 43,
   "id": "3c8aae8d-9a0d-45b3-9fc2-c27bc5fcaa5a",
   "metadata": {},
   "outputs": [
    {
     "data": {
      "image/png": "[encoded data removed]",
      "text/plain": [
       "<Figure size 1000x600 with 1 Axes>"
      ]
     },
     "metadata": {},
     "output_type": "display_data"
    }
   ],
   "source": [
    "# Initialize dictionaries to store inference times for each lambda value\n",
    "teacher_times = {}\n",
    "student_times = {}\n",
    "\n",
    "# Loop through each lambda value\n",
    "for lmda_teacher in lmda_list_teacher:\n",
    "    # Load the teacher model for the current lambda\n",
    "    # teacher_model_path = os.path.join(output_dir, f'teacher_model_ckd_wider_lambda{lmda_teacher}.pth')\n",
    "    teacher_model_path = f'teacher_model_rkd_wider_lambda02.pth'\n",
    "    teacher_model = torch.load(teacher_model_path)\n",
    "\n",
    "    teacher_time, _ = compare_inference_time(teacher_model, None, testloader)\n",
    "    teacher_times[lmda_teacher] = teacher_time  # Store the inference time for the teacher model\n",
    "\n",
    "for lmda_student in lmda_list_student:\n",
    "    # Load the student model for the current lambda\n",
    "    # student_model_path = os.path.join(output_dir, f'student_model_rkd_wider_lambda{lmda_student}.pth')\n",
    "    student_model_path = f'student_model_rkd_wider_lambda{lmda_student}.pth'\n",
    "    student_model = torch.load(student_model_path)\n",
    "\n",
    "    _, student_time = compare_inference_time(None, student_model, testloader)\n",
    "    student_times[lmda_student] = student_time  # Store the inference time for the student model\n",
    "\n",
    "# Prepare data for plotting\n",
    "teacher_lambdas, teacher_inference_times = zip(*teacher_times.items())\n",
    "student_lambdas, student_inference_times = zip(*student_times.items())\n",
    "\n",
    "plt.figure(figsize=(10, 6))\n",
    "plt.plot(teacher_lambdas, teacher_inference_times, label='Teacher Inference Time', marker='o')\n",
    "plt.plot(student_lambdas, student_inference_times, label='Student Inference Time', marker='o')\n",
    "plt.xlabel('Lambda')\n",
    "plt.ylabel('Inference Time (s)')\n",
    "plt.title('Inference Time Comparison Across Lambdas')\n",
    "plt.legend()\n",
    "plt.show()"
   ]
  },
  {
   "cell_type": "code",
   "execution_count": 44,
   "id": "6b7cb7f0-12a9-4cec-8188-048c3ffcadad",
   "metadata": {},
   "outputs": [
    {
     "data": {
      "image/png": "[encoded data removed]",
      "text/plain": [
       "<Figure size 1000x600 with 1 Axes>"
      ]
     },
     "metadata": {},
     "output_type": "display_data"
    }
   ],
   "source": [
    "# Initialize lists to store disparity values\n",
    "teacher_disparities = []\n",
    "student_disparities = []\n",
    "lambda_pairs = list(lambda_results.keys())\n",
    "\n",
    "# Iterate over the keys in lambda_results\n",
    "for key in lambda_pairs:\n",
    "    # Check if it's an integer key (indicating a lambda value for student)\n",
    "    if isinstance(key, int):\n",
    "        # Check and extract teacher disparity if it exists\n",
    "        if 'teacher_mean_abs_val_disparity' in lambda_results[key]:\n",
    "            teacher_disparity = lambda_results[key]['teacher_mean_abs_val_disparity']\n",
    "            if isinstance(teacher_disparity, list):  # Assuming the disparity could be stored as a list\n",
    "                teacher_disparity = teacher_disparity[0]\n",
    "            teacher_disparities.append((key, teacher_disparity))\n",
    "\n",
    "        # Extract student disparity\n",
    "        if 'student_mean_abs_val_disparity' in lambda_results[key]:\n",
    "            student_disparity = lambda_results[key]['student_mean_abs_val_disparity']\n",
    "            student_disparities.append((key, student_disparity))\n",
    "\n",
    "# Separate the lambda values and disparity values\n",
    "teacher_lambdas, teacher_disparity_values = zip(*teacher_disparities) if teacher_disparities else ([], [])\n",
    "student_lambdas, student_disparity_values = zip(*student_disparities) if student_disparities else ([], [])\n",
    "\n",
    "# Plotting\n",
    "plt.figure(figsize=(10, 6))\n",
    "if teacher_disparities:\n",
    "    plt.plot(teacher_lambdas, teacher_disparity_values, label='Teacher Average Disparity', marker='o')\n",
    "if student_disparities:\n",
    "    plt.plot(student_lambdas, student_disparity_values, label='Student Average Disparity', marker='o')\n",
    "plt.xlabel('Lambda')\n",
    "plt.ylabel('Average Disparity')\n",
    "plt.title('Average Disparity Comparison Across Lambdas')\n",
    "plt.legend()\n",
    "plt.show()"
   ]
  },
  {
   "cell_type": "code",
   "execution_count": 47,
   "id": "ee80376f-d5b1-4008-8099-18693972c15a",
   "metadata": {},
   "outputs": [
    {
     "data": {
      "image/png": "[encoded data removed]",
      "text/plain": [
       "<Figure size 600x400 with 1 Axes>"
      ]
     },
     "metadata": {},
     "output_type": "display_data"
    },
    {
     "data": {
      "image/png": "[encoded data removed]",
      "text/plain": [
       "<Figure size 600x600 with 2 Axes>"
      ]
     },
     "metadata": {},
     "output_type": "display_data"
    },
    {
     "name": "stdout",
     "output_type": "stream",
     "text": [
      "Classification Report - Teacher Model (Lambda=0)\n",
      "              precision    recall  f1-score   support\n",
      "\n",
      "     Class 0       0.74      0.80      0.77       668\n",
      "     Class 1       0.46      0.42      0.44       301\n",
      "     Class 2       0.71      0.68      0.70       272\n",
      "     Class 3       0.73      0.65      0.69       124\n",
      "     Class 4       0.64      0.71      0.67       377\n",
      "     Class 5       0.62      0.65      0.64        74\n",
      "     Class 6       0.81      0.68      0.74        50\n",
      "     Class 7       0.64      0.63      0.64       202\n",
      "     Class 8       0.50      0.53      0.51       194\n",
      "     Class 9       0.72      0.67      0.69       173\n",
      "    Class 10       0.72      0.72      0.72       199\n",
      "    Class 11       0.49      0.50      0.50        60\n",
      "    Class 12       0.42      0.43      0.42       129\n",
      "    Class 13       0.40      0.38      0.39       198\n",
      "    Class 14       0.46      0.49      0.48       220\n",
      "    Class 15       0.52      0.42      0.47       224\n",
      "\n",
      "    accuracy                           0.61      3465\n",
      "   macro avg       0.60      0.59      0.59      3465\n",
      "weighted avg       0.61      0.61      0.61      3465\n",
      "\n"
     ]
    },
    {
     "ename": "FileNotFoundError",
     "evalue": "[Errno 2] No such file or directory: 'student_model_ckd_wider_lambda0.pth'",
     "output_type": "error",
     "traceback": [
      "\u001b[0;31m---------------------------------------------------------------------------\u001b[0m",
      "\u001b[0;31mFileNotFoundError\u001b[0m                         Traceback (most recent call last)",
      "Cell \u001b[0;32mIn[47], line 67\u001b[0m\n\u001b[1;32m     63\u001b[0m \u001b[38;5;28;01mfor\u001b[39;00m lmda_student \u001b[38;5;129;01min\u001b[39;00m lmda_list_student:\n\u001b[1;32m     64\u001b[0m     \u001b[38;5;66;03m# Load the student model from the 'output_dir'\u001b[39;00m\n\u001b[1;32m     65\u001b[0m     \u001b[38;5;66;03m# student_model_path = os.path.join(output_dir, f'student_model_ckd_wider_lambda{lmda_student}.pth')\u001b[39;00m\n\u001b[1;32m     66\u001b[0m     student_model_path \u001b[38;5;241m=\u001b[39m \u001b[38;5;124mf\u001b[39m\u001b[38;5;124m'\u001b[39m\u001b[38;5;124mstudent_model_ckd_wider_lambda\u001b[39m\u001b[38;5;132;01m{\u001b[39;00mlmda_student\u001b[38;5;132;01m}\u001b[39;00m\u001b[38;5;124m.pth\u001b[39m\u001b[38;5;124m'\u001b[39m\n\u001b[0;32m---> 67\u001b[0m     student_model \u001b[38;5;241m=\u001b[39m \u001b[43mtorch\u001b[49m\u001b[38;5;241;43m.\u001b[39;49m\u001b[43mload\u001b[49m\u001b[43m(\u001b[49m\u001b[43mstudent_model_path\u001b[49m\u001b[43m)\u001b[49m\n\u001b[1;32m     69\u001b[0m     \u001b[38;5;66;03m# Generate predictions for the student model\u001b[39;00m\n\u001b[1;32m     70\u001b[0m     all_labels, all_student_preds \u001b[38;5;241m=\u001b[39m generate_predictions_and_metrics(student_model, testloader)\n",
      "File \u001b[0;32m/opt/conda/lib/python3.10/site-packages/torch/serialization.py:986\u001b[0m, in \u001b[0;36mload\u001b[0;34m(f, map_location, pickle_module, weights_only, mmap, **pickle_load_args)\u001b[0m\n\u001b[1;32m    983\u001b[0m \u001b[38;5;28;01mif\u001b[39;00m \u001b[38;5;124m'\u001b[39m\u001b[38;5;124mencoding\u001b[39m\u001b[38;5;124m'\u001b[39m \u001b[38;5;129;01mnot\u001b[39;00m \u001b[38;5;129;01min\u001b[39;00m pickle_load_args\u001b[38;5;241m.\u001b[39mkeys():\n\u001b[1;32m    984\u001b[0m     pickle_load_args[\u001b[38;5;124m'\u001b[39m\u001b[38;5;124mencoding\u001b[39m\u001b[38;5;124m'\u001b[39m] \u001b[38;5;241m=\u001b[39m \u001b[38;5;124m'\u001b[39m\u001b[38;5;124mutf-8\u001b[39m\u001b[38;5;124m'\u001b[39m\n\u001b[0;32m--> 986\u001b[0m \u001b[38;5;28;01mwith\u001b[39;00m \u001b[43m_open_file_like\u001b[49m\u001b[43m(\u001b[49m\u001b[43mf\u001b[49m\u001b[43m,\u001b[49m\u001b[43m \u001b[49m\u001b[38;5;124;43m'\u001b[39;49m\u001b[38;5;124;43mrb\u001b[39;49m\u001b[38;5;124;43m'\u001b[39;49m\u001b[43m)\u001b[49m \u001b[38;5;28;01mas\u001b[39;00m opened_file:\n\u001b[1;32m    987\u001b[0m     \u001b[38;5;28;01mif\u001b[39;00m _is_zipfile(opened_file):\n\u001b[1;32m    988\u001b[0m         \u001b[38;5;66;03m# The zipfile reader is going to advance the current file position.\u001b[39;00m\n\u001b[1;32m    989\u001b[0m         \u001b[38;5;66;03m# If we want to actually tail call to torch.jit.load, we need to\u001b[39;00m\n\u001b[1;32m    990\u001b[0m         \u001b[38;5;66;03m# reset back to the original position.\u001b[39;00m\n\u001b[1;32m    991\u001b[0m         orig_position \u001b[38;5;241m=\u001b[39m opened_file\u001b[38;5;241m.\u001b[39mtell()\n",
      "File \u001b[0;32m/opt/conda/lib/python3.10/site-packages/torch/serialization.py:435\u001b[0m, in \u001b[0;36m_open_file_like\u001b[0;34m(name_or_buffer, mode)\u001b[0m\n\u001b[1;32m    433\u001b[0m \u001b[38;5;28;01mdef\u001b[39;00m \u001b[38;5;21m_open_file_like\u001b[39m(name_or_buffer, mode):\n\u001b[1;32m    434\u001b[0m     \u001b[38;5;28;01mif\u001b[39;00m _is_path(name_or_buffer):\n\u001b[0;32m--> 435\u001b[0m         \u001b[38;5;28;01mreturn\u001b[39;00m \u001b[43m_open_file\u001b[49m\u001b[43m(\u001b[49m\u001b[43mname_or_buffer\u001b[49m\u001b[43m,\u001b[49m\u001b[43m \u001b[49m\u001b[43mmode\u001b[49m\u001b[43m)\u001b[49m\n\u001b[1;32m    436\u001b[0m     \u001b[38;5;28;01melse\u001b[39;00m:\n\u001b[1;32m    437\u001b[0m         \u001b[38;5;28;01mif\u001b[39;00m \u001b[38;5;124m'\u001b[39m\u001b[38;5;124mw\u001b[39m\u001b[38;5;124m'\u001b[39m \u001b[38;5;129;01min\u001b[39;00m mode:\n",
      "File \u001b[0;32m/opt/conda/lib/python3.10/site-packages/torch/serialization.py:416\u001b[0m, in \u001b[0;36m_open_file.__init__\u001b[0;34m(self, name, mode)\u001b[0m\n\u001b[1;32m    415\u001b[0m \u001b[38;5;28;01mdef\u001b[39;00m \u001b[38;5;21m__init__\u001b[39m(\u001b[38;5;28mself\u001b[39m, name, mode):\n\u001b[0;32m--> 416\u001b[0m     \u001b[38;5;28msuper\u001b[39m()\u001b[38;5;241m.\u001b[39m\u001b[38;5;21m__init__\u001b[39m(\u001b[38;5;28;43mopen\u001b[39;49m\u001b[43m(\u001b[49m\u001b[43mname\u001b[49m\u001b[43m,\u001b[49m\u001b[43m \u001b[49m\u001b[43mmode\u001b[49m\u001b[43m)\u001b[49m)\n",
      "\u001b[0;31mFileNotFoundError\u001b[0m: [Errno 2] No such file or directory: 'student_model_ckd_wider_lambda0.pth'"
     ]
    }
   ],
   "source": [
    "def plot_distribution(predictions, class_names, title):\n",
    "    plt.figure(figsize=(6, 4))\n",
    "    sns.countplot(x=predictions)\n",
    "    plt.title(title)\n",
    "    plt.xlabel('Class')\n",
    "    plt.ylabel('Count')\n",
    "    plt.xticks(range(len(class_names)), class_names, rotation=45)\n",
    "    plt.tight_layout()\n",
    "    plt.show()\n",
    "\n",
    "def plot_confusion_matrix(all_labels, predictions, class_names, title):\n",
    "    cm = confusion_matrix(all_labels, predictions)\n",
    "    plt.figure(figsize=(6, 6))\n",
    "    sns.heatmap(pd.DataFrame(cm, index=class_names, columns=class_names), annot=True, fmt='g')\n",
    "    plt.title(title)\n",
    "    plt.ylabel('True Label')\n",
    "    plt.xlabel('Predicted Label')\n",
    "    plt.tight_layout()\n",
    "    plt.show()\n",
    "\n",
    "# Function to generate predictions and compute metrics\n",
    "def generate_predictions_and_metrics(model, dataloader):\n",
    "    model.eval()\n",
    "    all_labels = []\n",
    "    all_preds = []\n",
    "\n",
    "    with torch.no_grad():\n",
    "        for batch in dataloader:\n",
    "            inputs = batch['img'].to(device)\n",
    "            labels = batch['label'].to(device)\n",
    "            \n",
    "            outputs = model(inputs)\n",
    "            preds = torch.argmax(outputs, dim=1).cpu().numpy()\n",
    "            \n",
    "            all_labels.append(labels.cpu().numpy())\n",
    "            all_preds.append(preds)\n",
    "\n",
    "    all_labels = np.concatenate(all_labels)\n",
    "    all_preds = np.concatenate(all_preds)\n",
    "\n",
    "    return all_labels, all_preds\n",
    "\n",
    "# Loop over each lambda value for the teacher model\n",
    "for lmda_teacher in lmda_list_teacher:\n",
    "    # Load the teacher model from the 'output_dir'\n",
    "    # teacher_model_path = os.path.join(output_dir, f'teacher_model_ckd_wider_lambda{lmda_teacher}.pth')\n",
    "    teacher_model_path = f'teacher_model_rkd_wider_lambda02.pth'\n",
    "    teacher_model = torch.load(teacher_model_path)\n",
    "\n",
    "    # Generate predictions for the teacher model\n",
    "    all_labels, all_teacher_preds = generate_predictions_and_metrics(teacher_model, testloader)\n",
    "\n",
    "    # Plot distribution and confusion matrix for the teacher model\n",
    "    plot_distribution(all_teacher_preds, class_names_new, f'Teacher Model Predictions (Lambda={lmda_teacher})')\n",
    "    plot_confusion_matrix(all_labels, all_teacher_preds, class_names_new, f'Teacher Confusion Matrix (Lambda={lmda_teacher})')\n",
    "\n",
    "    # Print classification report for the teacher model\n",
    "    teacher_report = classification_report(all_labels, all_teacher_preds, target_names=class_names_new, zero_division=0)\n",
    "    print(f'Classification Report - Teacher Model (Lambda={lmda_teacher})')\n",
    "    print(teacher_report)\n",
    "\n",
    "# Loop over each lambda value for the student model\n",
    "for lmda_student in lmda_list_student:\n",
    "    # Load the student model from the 'output_dir'\n",
    "    # student_model_path = os.path.join(output_dir, f'student_model_ckd_wider_lambda{lmda_student}.pth')\n",
    "    student_model_path = f'student_model_ckd_wider_lambda{lmda_student}.pth'\n",
    "    student_model = torch.load(student_model_path)\n",
    "\n",
    "    # Generate predictions for the student model\n",
    "    all_labels, all_student_preds = generate_predictions_and_metrics(student_model, testloader)\n",
    "\n",
    "    # Plot distribution and confusion matrix for the student model\n",
    "    plot_distribution(all_student_preds, class_names_new, f'Student Model Predictions (Lambda={lmda_student})')\n",
    "    plot_confusion_matrix(all_labels, all_student_preds, class_names_new, f'Student Confusion Matrix (Lambda={lmda_student})')\n",
    "\n",
    "    # Print classification report for the student model\n",
    "    student_report = classification_report(all_labels, all_student_preds, target_names=class_names_new, zero_division=0)\n",
    "    print(f'Classification Report - Student Model (Lambda={lmda_student})')\n",
    "    print(student_report)"
   ]
  },
  {
   "cell_type": "code",
   "execution_count": null,
   "id": "8cf516d7-2f71-4abd-b904-0e1364cca7ed",
   "metadata": {},
   "outputs": [],
   "source": [
    "def plot_bias_variance_tradeoff(model_results, model_type, lambdas):\n",
    "    bias_values = []\n",
    "    accuracy_values = []\n",
    "\n",
    "    if model_type == 'teacher':\n",
    "        for lmda in lambdas:\n",
    "            if lmda in model_results and 'teacher_mean_abs_val_disparity' in model_results[lmda]:\n",
    "                bias_values.append(model_results[lmda]['teacher_mean_abs_val_disparity'][0])\n",
    "                performance_key = next((key for key in model_results if isinstance(key, tuple) and key[0] == lmda), None)\n",
    "                if performance_key:\n",
    "                    accuracy_values.append(model_results[performance_key]['performance_metrics']['metrics']['accuracy'][0])\n",
    "        model_name = \"Teacher\"\n",
    "    elif model_type == 'student':\n",
    "        for lmda in lambdas:\n",
    "            if lmda in model_results and 'student_mean_abs_val_disparity' in model_results[lmda]:\n",
    "                bias_values.append(model_results[lmda]['student_mean_abs_val_disparity'])\n",
    "                performance_key = next((key for key in model_results if isinstance(key, tuple) and key[1] == lmda), None)\n",
    "                if performance_key:\n",
    "                    accuracy_values.append(model_results[performance_key]['performance_metrics']['metrics']['accuracy'][1])\n",
    "        model_name = \"Student\"\n",
    "    else:\n",
    "        raise ValueError(\"Invalid model type. Choose 'teacher' or 'student'.\")\n",
    "\n",
    "\n",
    "    # Weight for the trade-off (can be adjusted based on preference)\n",
    "    bias_weight = 1\n",
    "\n",
    "    # Calculate the weighted ratio\n",
    "    weighted_ratios = np.array(accuracy_values) / (1 + bias_weight * np.array(bias_values))\n",
    "    closest_to_one_index = np.argmin(np.abs(weighted_ratios - 1))\n",
    "    optimal_bias = bias_values[closest_to_one_index]\n",
    "    optimal_accuracy = accuracy_values[closest_to_one_index]\n",
    "    optimal_ratio = weighted_ratios[closest_to_one_index]\n",
    "\n",
    "    # Plotting the bias-variance trade-off curve\n",
    "    plt.plot(bias_values, accuracy_values, marker='o', linestyle='-', label=f'{model_name} Trade-off Points')\n",
    "\n",
    "    # Mark all points with their lambda values\n",
    "    for i, (bias, acc, lmbda) in enumerate(zip(bias_values, accuracy_values, lambdas)):\n",
    "        plt.annotate(f'λ={lmbda}', (bias, acc), textcoords=\"offset points\", xytext=(0,10), ha='center')\n",
    "\n",
    "    # Highlight the optimal point\n",
    "    plt.scatter(optimal_bias, optimal_accuracy, color='r', s=100, marker='X', label=f'Optimal Point (λ={lambdas[closest_to_one_index]})')\n",
    "    plt.xlabel('Disparity')\n",
    "    plt.ylabel('Accuracy')\n",
    "    plt.title(f'{model_name} Accuracy-Fairness Trade-off Curve')\n",
    "    plt.legend()\n",
    "    plt.show()\n",
    "\n",
    "    # Print optimal values\n",
    "    print(f\"Optimal Lambda for {model_name}: {lambdas[closest_to_one_index]}\")\n",
    "    print(f\"Optimal Bias/Disparity for {model_name}: {optimal_bias}\")\n",
    "    print(f\"Optimal Accuracy for {model_name}: {optimal_accuracy}\")\n",
    "    print(f\"Optimal Weighted Ratio for {model_name}: {optimal_ratio:.2f}\")\n",
    "    \n",
    "# Plot for Teacher\n",
    "plot_bias_variance_tradeoff(lambda_results, 'teacher', lmda_list_teacher)\n",
    "\n",
    "# Plot for Student\n",
    "plot_bias_variance_tradeoff(lambda_results, 'student', lmda_list_student)\n"
   ]
  },
  {
   "cell_type": "code",
   "execution_count": null,
   "id": "df7caf96-e434-472e-88c5-0bb0b3d300a4",
   "metadata": {},
   "outputs": [],
   "source": [
    "def compare_performance_metrics_for_demo(teacher, student, dataloader):\n",
    "    teacher.eval()\n",
    "    student.eval()\n",
    "\n",
    "    detailed_info = []\n",
    "\n",
    "    for batch in dataloader:\n",
    "        inputs = batch['img'].to(device)\n",
    "        labels = batch['label'].to(device)\n",
    "        # Assuming gender or other attributes are part of 'target'\n",
    "        attributes = batch['target'].to(device)  \n",
    "\n",
    "        with torch.no_grad():\n",
    "            teacher_outputs = teacher(inputs)\n",
    "            student_outputs = student(inputs)\n",
    "\n",
    "        teacher_preds = torch.argmax(teacher_outputs, dim=1)\n",
    "        student_preds = torch.argmax(student_outputs, dim=1)\n",
    "\n",
    "        for i in range(inputs.size(0)):\n",
    "            if teacher_preds[i] != labels[i] and student_preds[i] == labels[i]:\n",
    "                info = {\n",
    "                    'image': inputs[i],\n",
    "                    'actual_class': labels[i].item(),\n",
    "                    'teacher_pred_class': teacher_preds[i].item(),\n",
    "                    'student_pred_class': student_preds[i].item(),\n",
    "                    'actual_attribute': attributes[i].item(),  # Modify based on your dataset\n",
    "                    # If your model also predicts attributes, include them here\n",
    "                }\n",
    "                detailed_info.append(info)\n",
    "\n",
    "    return detailed_info"
   ]
  },
  {
   "cell_type": "code",
   "execution_count": null,
   "id": "d2fd96b9-a3f7-4f06-9dbd-48c8f4ed8762",
   "metadata": {},
   "outputs": [],
   "source": [
    "def plot_images_with_details(info_list, rows=5, cols=5):\n",
    "    fig, axes = plt.subplots(rows, cols, figsize=(15, 15))\n",
    "    axes = axes.ravel()\n",
    "\n",
    "    for i in range(rows * cols):\n",
    "        if i < len(info_list):\n",
    "            data = info_list[i]\n",
    "            image = data['image']\n",
    "            actual_class = data['actual_class']\n",
    "            teacher_pred_class = data['teacher_pred_class']\n",
    "            student_pred_class = data['student_pred_class']\n",
    "            actual_attribute = round(data['actual_attribute'], 2)  # Round to 2 decimal places\n",
    "\n",
    "            # Normalize the image for display\n",
    "            image_display = image.cpu().numpy().transpose(1, 2, 0)\n",
    "            image_display = (image_display - image_display.min()) / (image_display.max() - image_display.min())\n",
    "\n",
    "            title = f'Actual: Class {actual_class}, Attr {actual_attribute}\\n' + \\\n",
    "                    f'Teacher: Class {teacher_pred_class}\\n' + \\\n",
    "                    f'Student: Class {student_pred_class}'\n",
    "\n",
    "            axes[i].imshow(image_display)\n",
    "            axes[i].set_title(title)\n",
    "            axes[i].axis('off')\n",
    "        else:\n",
    "            axes[i].axis('off')\n",
    "\n",
    "    plt.subplots_adjust(wspace=0.5)\n",
    "    plt.show()\n"
   ]
  },
  {
   "cell_type": "code",
   "execution_count": null,
   "id": "257d52a3-1478-49e4-9176-adfd6c6e4027",
   "metadata": {},
   "outputs": [],
   "source": [
    "# Get detailed info where student is correct and teacher is wrong\n",
    "detailed_info = compare_performance_metrics_for_demo(teacher_model, student_model, testloader)\n",
    "\n",
    "# Display images with details\n",
    "plot_images_with_details(detailed_info)"
   ]
  },
  {
   "cell_type": "code",
   "execution_count": null,
   "id": "b1bc6b27-d0a6-4911-89ba-80106801416f",
   "metadata": {},
   "outputs": [],
   "source": []
  }
 ],
 "metadata": {
  "kernelspec": {
   "display_name": "Python 3 (ipykernel)",
   "language": "python",
   "name": "python3"
  },
  "language_info": {
   "codemirror_mode": {
    "name": "ipython",
    "version": 3
   },
   "file_extension": ".py",
   "mimetype": "text/x-python",
   "name": "python",
   "nbconvert_exporter": "python",
   "pygments_lexer": "ipython3",
   "version": "3.10.9"
  }
 },
 "nbformat": 4,
 "nbformat_minor": 5
}
