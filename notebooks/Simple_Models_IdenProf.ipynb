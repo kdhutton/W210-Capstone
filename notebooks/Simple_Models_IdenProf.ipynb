{
 "cells": [
  {
   "cell_type": "code",
   "execution_count": 3,
   "id": "9c972625-0d8d-41d0-9f18-5e60794d4c28",
   "metadata": {},
   "outputs": [],
   "source": [
    "# !pip install xgboost --quiet"
   ]
  },
  {
   "cell_type": "code",
   "execution_count": 4,
   "id": "1ff48206-d437-4652-b317-91a844b5050b",
   "metadata": {},
   "outputs": [],
   "source": [
    "from sklearn.metrics import accuracy_score, f1_score, recall_score, precision_score, roc_auc_score\n",
    "from sklearn.model_selection import train_test_split\n",
    "from sklearn.ensemble import RandomForestClassifier, GradientBoostingClassifier, AdaBoostClassifier\n",
    "from xgboost import XGBClassifier\n",
    "from sklearn.preprocessing import LabelBinarizer\n",
    "import torch\n",
    "from torchvision import datasets, transforms"
   ]
  },
  {
   "cell_type": "code",
   "execution_count": 5,
   "id": "03b52ba7-a5ca-447f-a0f3-0d5d4db438ad",
   "metadata": {},
   "outputs": [],
   "source": [
    "def load_prof_for_ml(train_path, test_path):\n",
    "\n",
    "    transform = transforms.Compose([\n",
    "        transforms.Resize((226, 226)),\n",
    "        transforms.ToTensor(),\n",
    "        transforms.Normalize(mean=[0.485, 0.456, 0.406], std=[0.229, 0.224, 0.225])\n",
    "    ])\n",
    "    \n",
    "    traindataset = datasets.ImageFolder(root=train_path, transform=transform)\n",
    "    testdataset = datasets.ImageFolder(root=test_path, transform=transform)\n",
    "    \n",
    "    # to a list of tuples with images and labels\n",
    "    train_data = [(image.numpy(), label) for image, label in traindataset]\n",
    "    test_data = [(image.numpy(), label) for image, label in testdataset]\n",
    "    \n",
    "    # features and labels\n",
    "    X_train, y_train = zip(*train_data)\n",
    "    X_test, y_test = zip(*test_data)\n",
    "    \n",
    "    # to numpy arrays\n",
    "    X_train = torch.tensor(X_train).numpy().reshape(len(X_train), -1)\n",
    "    X_test = torch.tensor(X_test).numpy().reshape(len(X_test), -1)\n",
    "    y_train = torch.tensor(y_train).numpy()\n",
    "    y_test = torch.tensor(y_test).numpy()\n",
    "    \n",
    "    return X_train, X_test, y_train, y_test\n"
   ]
  },
  {
   "cell_type": "code",
   "execution_count": null,
   "id": "bb4d0e12-8836-44fc-94cf-717e95288c96",
   "metadata": {},
   "outputs": [],
   "source": [
    "train_path = '/home/ubuntu/W210-Capstone/notebooks/idenprof/train'\n",
    "test_path = '/home/ubuntu/W210-Capstone/notebooks/idenprof/test'\n",
    "X_train, X_test, y_train, y_test = load_prof_for_ml(train_path, test_path)"
   ]
  },
  {
   "cell_type": "code",
   "execution_count": null,
   "id": "0851c51d-6eba-48f4-9aa7-397ff15bd8ce",
   "metadata": {},
   "outputs": [],
   "source": [
    "models = {\n",
    "    'Random Forest': RandomForestClassifier(n_estimators=100),\n",
    "    # 'XGBoost': XGBClassifier(use_label_encoder=False, eval_metric='logloss'),\n",
    "    # 'Gradient Boosting': GradientBoostingClassifier(n_estimators=100),\n",
    "    # 'AdaBoost': AdaBoostClassifier(n_estimators=100)\n",
    "}\n",
    "\n",
    "for name, model in models.items():\n",
    "    model.fit(X_train, y_train)\n",
    "    predictions = model.predict(X_test)\n",
    "\n",
    "    accuracy = accuracy_score(y_test, predictions)\n",
    "    f1 = f1_score(y_test, predictions, average='weighted')\n",
    "    recall = recall_score(y_test, predictions, average='weighted')\n",
    "    precision = precision_score(y_test, predictions, average='weighted')\n",
    "    \n",
    "    lb = LabelBinarizer()\n",
    "    y_test_binarized = lb.fit_transform(y_test)\n",
    "    predictions_binarized = lb.transform(predictions)\n",
    "    auc = roc_auc_score(y_test_binarized, predictions_binarized, average='macro')\n",
    "\n",
    "    print(f\"{name} - Accuracy: {accuracy}, F1: {f1}, Recall: {recall}, Precision: {precision}, AUC: {auc}\")\n"
   ]
  },
  {
   "cell_type": "code",
   "execution_count": null,
   "id": "1ec86311-c060-48e3-8118-13841bcc3347",
   "metadata": {},
   "outputs": [],
   "source": [
    "models = {\n",
    "    'XGBoost': XGBClassifier(use_label_encoder=False, eval_metric='logloss'),\n",
    "}\n",
    "\n",
    "for name, model in models.items():\n",
    "    model.fit(X_train, y_train)\n",
    "    predictions = model.predict(X_test)\n",
    "\n",
    "    accuracy = accuracy_score(y_test, predictions)\n",
    "    f1 = f1_score(y_test, predictions, average='weighted')\n",
    "    recall = recall_score(y_test, predictions, average='weighted')\n",
    "    precision = precision_score(y_test, predictions, average='weighted')\n",
    "    \n",
    "    lb = LabelBinarizer()\n",
    "    y_test_binarized = lb.fit_transform(y_test)\n",
    "    predictions_binarized = lb.transform(predictions)\n",
    "    auc = roc_auc_score(y_test_binarized, predictions_binarized, average='macro')\n",
    "\n",
    "    print(f\"{name} - Accuracy: {accuracy}, F1: {f1}, Recall: {recall}, Precision: {precision}, AUC: {auc}\")\n"
   ]
  },
  {
   "cell_type": "code",
   "execution_count": null,
   "id": "cd6a0f79-c995-4771-9a01-00ca7106a3ae",
   "metadata": {},
   "outputs": [],
   "source": [
    "models = {\n",
    "    'Gradient Boosting': GradientBoostingClassifier(n_estimators=100),\n",
    "}\n",
    "\n",
    "for name, model in models.items():\n",
    "    model.fit(X_train, y_train)\n",
    "    predictions = model.predict(X_test)\n",
    "\n",
    "    accuracy = accuracy_score(y_test, predictions)\n",
    "    f1 = f1_score(y_test, predictions, average='weighted')\n",
    "    recall = recall_score(y_test, predictions, average='weighted')\n",
    "    precision = precision_score(y_test, predictions, average='weighted')\n",
    "    \n",
    "    lb = LabelBinarizer()\n",
    "    y_test_binarized = lb.fit_transform(y_test)\n",
    "    predictions_binarized = lb.transform(predictions)\n",
    "    auc = roc_auc_score(y_test_binarized, predictions_binarized, average='macro')\n",
    "\n",
    "    print(f\"{name} - Accuracy: {accuracy}, F1: {f1}, Recall: {recall}, Precision: {precision}, AUC: {auc}\")\n"
   ]
  },
  {
   "cell_type": "code",
   "execution_count": null,
   "id": "b08a3f5e-2827-4570-9ddb-eb585b13b0d4",
   "metadata": {},
   "outputs": [],
   "source": [
    "models = {\n",
    "    'AdaBoost': AdaBoostClassifier(n_estimators=100)\n",
    "}\n",
    "\n",
    "for name, model in models.items():\n",
    "    model.fit(X_train, y_train)\n",
    "    predictions = model.predict(X_test)\n",
    "\n",
    "    accuracy = accuracy_score(y_test, predictions)\n",
    "    f1 = f1_score(y_test, predictions, average='weighted')\n",
    "    recall = recall_score(y_test, predictions, average='weighted')\n",
    "    precision = precision_score(y_test, predictions, average='weighted')\n",
    "    \n",
    "    lb = LabelBinarizer()\n",
    "    y_test_binarized = lb.fit_transform(y_test)\n",
    "    predictions_binarized = lb.transform(predictions)\n",
    "    auc = roc_auc_score(y_test_binarized, predictions_binarized, average='macro')\n",
    "\n",
    "    print(f\"{name} - Accuracy: {accuracy}, F1: {f1}, Recall: {recall}, Precision: {precision}, AUC: {auc}\")\n"
   ]
  }
 ],
 "metadata": {
  "kernelspec": {
   "display_name": "Python 3 (ipykernel)",
   "language": "python",
   "name": "python3"
  },
  "language_info": {
   "codemirror_mode": {
    "name": "ipython",
    "version": 3
   },
   "file_extension": ".py",
   "mimetype": "text/x-python",
   "name": "python",
   "nbconvert_exporter": "python",
   "pygments_lexer": "ipython3",
   "version": "3.10.9"
  }
 },
 "nbformat": 4,
 "nbformat_minor": 5
}
