{
 "cells": [
  {
   "cell_type": "code",
   "execution_count": 1,
   "id": "d692c1e4-7222-46be-a9c4-ffd1331863b7",
   "metadata": {},
   "outputs": [],
   "source": [
    "from utils.loss_functions import DKDLoss\n",
    "import torch\n",
    "import torch.nn as nn\n",
    "import torch.nn.functional as F\n",
    "import torch.optim as optim\n",
    "import torchvision\n",
    "import torchvision.transforms as transforms\n",
    "from tqdm import tqdm\n",
    "from models_package.models import Teacher, Student\n",
    "from torchvision import datasets, transforms, models\n",
    "import models_package\n",
    "import time\n",
    "import matplotlib.pyplot as plt\n",
    "import numpy as np\n",
    "from sklearn.metrics import accuracy_score, precision_score, recall_score, f1_score\n",
    "import os\n",
    "# new libraries\n",
    "from data.data_loader import load_cifar10, load_cifar100, load_imagenet, load_prof\n",
    "import boto3\n",
    "import io\n",
    "from utils.compare_tools import compare_model_size, compare_inference_time, compare_performance_metrics, plot_comparison\n",
    "from utils.misc_tools import best_LR, train_teacher, retrieve_teacher_class_weights, new_teacher_class_weights"
   ]
  },
  {
   "cell_type": "markdown",
   "id": "ffa78713-3fc2-461a-bed6-e4e500e0d133",
   "metadata": {},
   "source": [
    "## Find best LR"
   ]
  },
  {
   "cell_type": "code",
   "execution_count": 2,
   "id": "b94bb557-3c3d-45c0-9b41-ccad6ca0ebee",
   "metadata": {},
   "outputs": [],
   "source": [
    "# Hyperparameters\n",
    "learning_rate = 0.003  # 0.01 for resnet34x2 & 0.1 for resnet8 & 0.003 for resnet 8x4\n",
    "num_epochs = 200\n",
    "num_workers = 2\n",
    "batch_size = 64\n",
    "temperature = 4.0\n",
    "alpha = 0.9\n",
    "momentum = 0.9\n",
    "num_classes = 10\n",
    "step_size = 30\n",
    "gamma = 0.1\n",
    "\n",
    "# new parameters\n",
    "# lr_input = 0.1\n",
    "# momentum_input = 0.9\n",
    "weight_decay_input = 5e-4\n",
    "# epochs = 20\n",
    "# T = 4.0 # temperatureture\n",
    "# alpha = 0.9\n",
    "patience = 5  # for early stopping"
   ]
  },
  {
   "cell_type": "markdown",
   "id": "dd3f4ec2-e075-43a4-8889-67d11543463a",
   "metadata": {},
   "source": [
    "## Load in Data"
   ]
  },
  {
   "cell_type": "code",
   "execution_count": 3,
   "id": "93e47e3a-3889-4b4b-b552-f16efff3aac3",
   "metadata": {},
   "outputs": [],
   "source": [
    "# Load IdenProf dataset\n",
    "train_path = '/home/ubuntu/W210-Capstone/notebooks/idenprof/train'\n",
    "test_path = '/home/ubuntu/W210-Capstone/notebooks/idenprof/test'\n",
    "trainloader, testloader  = load_prof(train_path, test_path, batch_size=batch_size)"
   ]
  },
  {
   "cell_type": "markdown",
   "id": "ba89ecbb-5436-4b4d-8eda-9eca3f47f3aa",
   "metadata": {},
   "source": [
    "## Prep S3 Bucket Info"
   ]
  },
  {
   "cell_type": "code",
   "execution_count": 4,
   "id": "07319566-98cf-4d5e-bb52-e2c4d4b682e9",
   "metadata": {},
   "outputs": [],
   "source": [
    "# Calling the function\n",
    "model_name = 'resnet32x4_idenprof'\n",
    "model_weight_path = 'weights/idenprof_teacher_resnet32x4_weights.pth'\n",
    "num_class = 10\n",
    "data_name = 'idenprof'  \n",
    "batch_size = 32  \n",
    "bucket_name = '210bucket'  "
   ]
  },
  {
   "cell_type": "markdown",
   "id": "78b17689-868d-48c0-a54b-955cd8e49067",
   "metadata": {},
   "source": [
    "## Load in models"
   ]
  },
  {
   "cell_type": "markdown",
   "id": "dc5ba578-9fee-4f80-a4f3-c7f8277c41bc",
   "metadata": {},
   "source": [
    "### resnet32x4_idenprof"
   ]
  },
  {
   "cell_type": "code",
   "execution_count": 4,
   "id": "08995195-43a8-4d2e-a181-af291b5282c1",
   "metadata": {},
   "outputs": [],
   "source": [
    "# Instantiate the models\n",
    "teacher_name = 'resnet32x4_idenprof'\n",
    "teacher_model = models_package.__dict__[teacher_name](num_class=10)\n",
    "teacher_model.fc = nn.Linear(teacher_model.fc.in_features, 10)"
   ]
  },
  {
   "cell_type": "markdown",
   "id": "65f15cba-6773-47ad-bf3c-3a168a4ad3e0",
   "metadata": {},
   "source": [
    "### resnet8x4_idenprof"
   ]
  },
  {
   "cell_type": "code",
   "execution_count": 5,
   "id": "4d207ab1-84fd-4a3c-9d3b-5ea16e136325",
   "metadata": {},
   "outputs": [],
   "source": [
    "student_name = 'resnet8x4_idenprof'\n",
    "student_model = models_package.__dict__[student_name](num_class=10)\n",
    "student_model.fc = nn.Linear(teacher_model.fc.in_features, 10)"
   ]
  },
  {
   "cell_type": "code",
   "execution_count": 6,
   "id": "918fa4ed-2b3e-4b40-be75-1a6500c55eed",
   "metadata": {},
   "outputs": [],
   "source": [
    "# Optimizer and scheduler for the student model\n",
    "student_optimizer = optim.SGD(student_model.parameters(), lr=learning_rate, momentum=momentum)\n",
    "student_scheduler = torch.optim.lr_scheduler.StepLR(student_optimizer, step_size=step_size, gamma=gamma)\n",
    "\n",
    "# Optimizer and scheduler for the teacher model\n",
    "teacher_optimizer = optim.SGD(teacher_model.parameters(), lr=learning_rate, momentum=momentum)\n",
    "teacher_scheduler = torch.optim.lr_scheduler.StepLR(teacher_optimizer, step_size=step_size, gamma=gamma)\n",
    "\n",
    "criterion = nn.CrossEntropyLoss()\n",
    "# Assuming the device is a CUDA device if available\n",
    "device = torch.device('cuda' if torch.cuda.is_available() else 'cpu')"
   ]
  },
  {
   "cell_type": "markdown",
   "id": "e38683df-c675-4462-af47-bc4c418ab11b",
   "metadata": {},
   "source": [
    "## Best LR"
   ]
  },
  {
   "cell_type": "code",
   "execution_count": 9,
   "id": "aef9c911-8961-4f19-bf38-50f5fd897712",
   "metadata": {
    "scrolled": true
   },
   "outputs": [
    {
     "name": "stderr",
     "output_type": "stream",
     "text": [
      "  0%|                                                                                                 | 0/71 [00:01<?, ?it/s]\n"
     ]
    },
    {
     "ename": "OutOfMemoryError",
     "evalue": "CUDA out of memory. Tried to allocate 1.56 GiB. GPU 0 has a total capacty of 22.19 GiB of which 1.47 GiB is free. Including non-PyTorch memory, this process has 20.71 GiB memory in use. Of the allocated memory 20.37 GiB is allocated by PyTorch, and 47.87 MiB is reserved by PyTorch but unallocated. If reserved but unallocated memory is large try setting max_split_size_mb to avoid fragmentation.  See documentation for Memory Management and PYTORCH_CUDA_ALLOC_CONF",
     "output_type": "error",
     "traceback": [
      "\u001b[0;31m---------------------------------------------------------------------------\u001b[0m",
      "\u001b[0;31mOutOfMemoryError\u001b[0m                          Traceback (most recent call last)",
      "Cell \u001b[0;32mIn[9], line 1\u001b[0m\n\u001b[0;32m----> 1\u001b[0m teacher_lr \u001b[38;5;241m=\u001b[39m \u001b[43mbest_LR\u001b[49m\u001b[43m(\u001b[49m\u001b[38;5;124;43m'\u001b[39;49m\u001b[38;5;124;43mresnet32x4_lr_test\u001b[39;49m\u001b[38;5;124;43m'\u001b[39;49m\u001b[43m,\u001b[49m\u001b[43m \u001b[49m\u001b[43mteacher_model\u001b[49m\u001b[43m,\u001b[49m\u001b[43m \u001b[49m\u001b[43mtrainloader\u001b[49m\u001b[43m,\u001b[49m\u001b[43m \u001b[49m\u001b[43mcriterion\u001b[49m\u001b[43m,\u001b[49m\u001b[43m \u001b[49m\u001b[43mteacher_optimizer\u001b[49m\u001b[43m,\u001b[49m\u001b[43m \u001b[49m\u001b[43mteacher_scheduler\u001b[49m\u001b[43m,\u001b[49m\u001b[43m \u001b[49m\u001b[43mnum_epochs\u001b[49m\u001b[38;5;241;43m=\u001b[39;49m\u001b[38;5;241;43m3\u001b[39;49m\u001b[43m,\u001b[49m\u001b[43m \u001b[49m\u001b[43memb\u001b[49m\u001b[43m \u001b[49m\u001b[38;5;241;43m=\u001b[39;49m\u001b[43m \u001b[49m\u001b[38;5;28;43;01mTrue\u001b[39;49;00m\u001b[43m)\u001b[49m\n\u001b[1;32m      2\u001b[0m teacher_lr\n",
      "File \u001b[0;32m~/W210-Capstone/notebooks/utils/misc_tools.py:40\u001b[0m, in \u001b[0;36mbest_LR\u001b[0;34m(save_name, model, trainloader, criterion, optimizer, scheduler, num_epochs, emb, lr_range, plot_loss)\u001b[0m\n\u001b[1;32m     38\u001b[0m \u001b[38;5;66;03m# the Norm and Direction models give 2 outputs - feature embeddings and output\u001b[39;00m\n\u001b[1;32m     39\u001b[0m \u001b[38;5;28;01mif\u001b[39;00m emb:\n\u001b[0;32m---> 40\u001b[0m     _, outputs \u001b[38;5;241m=\u001b[39m \u001b[43mmodel\u001b[49m\u001b[43m(\u001b[49m\u001b[43minputs\u001b[49m\u001b[43m)\u001b[49m\n\u001b[1;32m     41\u001b[0m \u001b[38;5;28;01melse\u001b[39;00m:\n\u001b[1;32m     42\u001b[0m     outputs \u001b[38;5;241m=\u001b[39m model(inputs)\n",
      "File \u001b[0;32m~/.local/lib/python3.8/site-packages/torch/nn/modules/module.py:1518\u001b[0m, in \u001b[0;36mModule._wrapped_call_impl\u001b[0;34m(self, *args, **kwargs)\u001b[0m\n\u001b[1;32m   1516\u001b[0m     \u001b[38;5;28;01mreturn\u001b[39;00m \u001b[38;5;28mself\u001b[39m\u001b[38;5;241m.\u001b[39m_compiled_call_impl(\u001b[38;5;241m*\u001b[39margs, \u001b[38;5;241m*\u001b[39m\u001b[38;5;241m*\u001b[39mkwargs)  \u001b[38;5;66;03m# type: ignore[misc]\u001b[39;00m\n\u001b[1;32m   1517\u001b[0m \u001b[38;5;28;01melse\u001b[39;00m:\n\u001b[0;32m-> 1518\u001b[0m     \u001b[38;5;28;01mreturn\u001b[39;00m \u001b[38;5;28;43mself\u001b[39;49m\u001b[38;5;241;43m.\u001b[39;49m\u001b[43m_call_impl\u001b[49m\u001b[43m(\u001b[49m\u001b[38;5;241;43m*\u001b[39;49m\u001b[43margs\u001b[49m\u001b[43m,\u001b[49m\u001b[43m \u001b[49m\u001b[38;5;241;43m*\u001b[39;49m\u001b[38;5;241;43m*\u001b[39;49m\u001b[43mkwargs\u001b[49m\u001b[43m)\u001b[49m\n",
      "File \u001b[0;32m~/.local/lib/python3.8/site-packages/torch/nn/modules/module.py:1527\u001b[0m, in \u001b[0;36mModule._call_impl\u001b[0;34m(self, *args, **kwargs)\u001b[0m\n\u001b[1;32m   1522\u001b[0m \u001b[38;5;66;03m# If we don't have any hooks, we want to skip the rest of the logic in\u001b[39;00m\n\u001b[1;32m   1523\u001b[0m \u001b[38;5;66;03m# this function, and just call forward.\u001b[39;00m\n\u001b[1;32m   1524\u001b[0m \u001b[38;5;28;01mif\u001b[39;00m \u001b[38;5;129;01mnot\u001b[39;00m (\u001b[38;5;28mself\u001b[39m\u001b[38;5;241m.\u001b[39m_backward_hooks \u001b[38;5;129;01mor\u001b[39;00m \u001b[38;5;28mself\u001b[39m\u001b[38;5;241m.\u001b[39m_backward_pre_hooks \u001b[38;5;129;01mor\u001b[39;00m \u001b[38;5;28mself\u001b[39m\u001b[38;5;241m.\u001b[39m_forward_hooks \u001b[38;5;129;01mor\u001b[39;00m \u001b[38;5;28mself\u001b[39m\u001b[38;5;241m.\u001b[39m_forward_pre_hooks\n\u001b[1;32m   1525\u001b[0m         \u001b[38;5;129;01mor\u001b[39;00m _global_backward_pre_hooks \u001b[38;5;129;01mor\u001b[39;00m _global_backward_hooks\n\u001b[1;32m   1526\u001b[0m         \u001b[38;5;129;01mor\u001b[39;00m _global_forward_hooks \u001b[38;5;129;01mor\u001b[39;00m _global_forward_pre_hooks):\n\u001b[0;32m-> 1527\u001b[0m     \u001b[38;5;28;01mreturn\u001b[39;00m \u001b[43mforward_call\u001b[49m\u001b[43m(\u001b[49m\u001b[38;5;241;43m*\u001b[39;49m\u001b[43margs\u001b[49m\u001b[43m,\u001b[49m\u001b[43m \u001b[49m\u001b[38;5;241;43m*\u001b[39;49m\u001b[38;5;241;43m*\u001b[39;49m\u001b[43mkwargs\u001b[49m\u001b[43m)\u001b[49m\n\u001b[1;32m   1529\u001b[0m \u001b[38;5;28;01mtry\u001b[39;00m:\n\u001b[1;32m   1530\u001b[0m     result \u001b[38;5;241m=\u001b[39m \u001b[38;5;28;01mNone\u001b[39;00m\n",
      "File \u001b[0;32m~/W210-Capstone/notebooks/models_package/resnet_idenprof.py:165\u001b[0m, in \u001b[0;36mResNet.forward\u001b[0;34m(self, x, embed)\u001b[0m\n\u001b[1;32m    162\u001b[0m x \u001b[38;5;241m=\u001b[39m \u001b[38;5;28mself\u001b[39m\u001b[38;5;241m.\u001b[39mbn1(x)\n\u001b[1;32m    163\u001b[0m x \u001b[38;5;241m=\u001b[39m \u001b[38;5;28mself\u001b[39m\u001b[38;5;241m.\u001b[39mrelu(x)    \u001b[38;5;66;03m# 32x32\u001b[39;00m\n\u001b[0;32m--> 165\u001b[0m x \u001b[38;5;241m=\u001b[39m \u001b[38;5;28;43mself\u001b[39;49m\u001b[38;5;241;43m.\u001b[39;49m\u001b[43mlayer1\u001b[49m\u001b[43m(\u001b[49m\u001b[43mx\u001b[49m\u001b[43m)\u001b[49m  \u001b[38;5;66;03m# 32x32\u001b[39;00m\n\u001b[1;32m    166\u001b[0m x \u001b[38;5;241m=\u001b[39m \u001b[38;5;28mself\u001b[39m\u001b[38;5;241m.\u001b[39mlayer2(x)  \u001b[38;5;66;03m# 16x16\u001b[39;00m\n\u001b[1;32m    167\u001b[0m x \u001b[38;5;241m=\u001b[39m \u001b[38;5;28mself\u001b[39m\u001b[38;5;241m.\u001b[39mlayer3(x)  \u001b[38;5;66;03m# 8x8\u001b[39;00m\n",
      "File \u001b[0;32m~/.local/lib/python3.8/site-packages/torch/nn/modules/module.py:1518\u001b[0m, in \u001b[0;36mModule._wrapped_call_impl\u001b[0;34m(self, *args, **kwargs)\u001b[0m\n\u001b[1;32m   1516\u001b[0m     \u001b[38;5;28;01mreturn\u001b[39;00m \u001b[38;5;28mself\u001b[39m\u001b[38;5;241m.\u001b[39m_compiled_call_impl(\u001b[38;5;241m*\u001b[39margs, \u001b[38;5;241m*\u001b[39m\u001b[38;5;241m*\u001b[39mkwargs)  \u001b[38;5;66;03m# type: ignore[misc]\u001b[39;00m\n\u001b[1;32m   1517\u001b[0m \u001b[38;5;28;01melse\u001b[39;00m:\n\u001b[0;32m-> 1518\u001b[0m     \u001b[38;5;28;01mreturn\u001b[39;00m \u001b[38;5;28;43mself\u001b[39;49m\u001b[38;5;241;43m.\u001b[39;49m\u001b[43m_call_impl\u001b[49m\u001b[43m(\u001b[49m\u001b[38;5;241;43m*\u001b[39;49m\u001b[43margs\u001b[49m\u001b[43m,\u001b[49m\u001b[43m \u001b[49m\u001b[38;5;241;43m*\u001b[39;49m\u001b[38;5;241;43m*\u001b[39;49m\u001b[43mkwargs\u001b[49m\u001b[43m)\u001b[49m\n",
      "File \u001b[0;32m~/.local/lib/python3.8/site-packages/torch/nn/modules/module.py:1527\u001b[0m, in \u001b[0;36mModule._call_impl\u001b[0;34m(self, *args, **kwargs)\u001b[0m\n\u001b[1;32m   1522\u001b[0m \u001b[38;5;66;03m# If we don't have any hooks, we want to skip the rest of the logic in\u001b[39;00m\n\u001b[1;32m   1523\u001b[0m \u001b[38;5;66;03m# this function, and just call forward.\u001b[39;00m\n\u001b[1;32m   1524\u001b[0m \u001b[38;5;28;01mif\u001b[39;00m \u001b[38;5;129;01mnot\u001b[39;00m (\u001b[38;5;28mself\u001b[39m\u001b[38;5;241m.\u001b[39m_backward_hooks \u001b[38;5;129;01mor\u001b[39;00m \u001b[38;5;28mself\u001b[39m\u001b[38;5;241m.\u001b[39m_backward_pre_hooks \u001b[38;5;129;01mor\u001b[39;00m \u001b[38;5;28mself\u001b[39m\u001b[38;5;241m.\u001b[39m_forward_hooks \u001b[38;5;129;01mor\u001b[39;00m \u001b[38;5;28mself\u001b[39m\u001b[38;5;241m.\u001b[39m_forward_pre_hooks\n\u001b[1;32m   1525\u001b[0m         \u001b[38;5;129;01mor\u001b[39;00m _global_backward_pre_hooks \u001b[38;5;129;01mor\u001b[39;00m _global_backward_hooks\n\u001b[1;32m   1526\u001b[0m         \u001b[38;5;129;01mor\u001b[39;00m _global_forward_hooks \u001b[38;5;129;01mor\u001b[39;00m _global_forward_pre_hooks):\n\u001b[0;32m-> 1527\u001b[0m     \u001b[38;5;28;01mreturn\u001b[39;00m \u001b[43mforward_call\u001b[49m\u001b[43m(\u001b[49m\u001b[38;5;241;43m*\u001b[39;49m\u001b[43margs\u001b[49m\u001b[43m,\u001b[49m\u001b[43m \u001b[49m\u001b[38;5;241;43m*\u001b[39;49m\u001b[38;5;241;43m*\u001b[39;49m\u001b[43mkwargs\u001b[49m\u001b[43m)\u001b[49m\n\u001b[1;32m   1529\u001b[0m \u001b[38;5;28;01mtry\u001b[39;00m:\n\u001b[1;32m   1530\u001b[0m     result \u001b[38;5;241m=\u001b[39m \u001b[38;5;28;01mNone\u001b[39;00m\n",
      "File \u001b[0;32m~/.local/lib/python3.8/site-packages/torch/nn/modules/container.py:215\u001b[0m, in \u001b[0;36mSequential.forward\u001b[0;34m(self, input)\u001b[0m\n\u001b[1;32m    213\u001b[0m \u001b[38;5;28;01mdef\u001b[39;00m \u001b[38;5;21mforward\u001b[39m(\u001b[38;5;28mself\u001b[39m, \u001b[38;5;28minput\u001b[39m):\n\u001b[1;32m    214\u001b[0m     \u001b[38;5;28;01mfor\u001b[39;00m module \u001b[38;5;129;01min\u001b[39;00m \u001b[38;5;28mself\u001b[39m:\n\u001b[0;32m--> 215\u001b[0m         \u001b[38;5;28minput\u001b[39m \u001b[38;5;241m=\u001b[39m \u001b[43mmodule\u001b[49m\u001b[43m(\u001b[49m\u001b[38;5;28;43minput\u001b[39;49m\u001b[43m)\u001b[49m\n\u001b[1;32m    216\u001b[0m     \u001b[38;5;28;01mreturn\u001b[39;00m \u001b[38;5;28minput\u001b[39m\n",
      "File \u001b[0;32m~/.local/lib/python3.8/site-packages/torch/nn/modules/module.py:1518\u001b[0m, in \u001b[0;36mModule._wrapped_call_impl\u001b[0;34m(self, *args, **kwargs)\u001b[0m\n\u001b[1;32m   1516\u001b[0m     \u001b[38;5;28;01mreturn\u001b[39;00m \u001b[38;5;28mself\u001b[39m\u001b[38;5;241m.\u001b[39m_compiled_call_impl(\u001b[38;5;241m*\u001b[39margs, \u001b[38;5;241m*\u001b[39m\u001b[38;5;241m*\u001b[39mkwargs)  \u001b[38;5;66;03m# type: ignore[misc]\u001b[39;00m\n\u001b[1;32m   1517\u001b[0m \u001b[38;5;28;01melse\u001b[39;00m:\n\u001b[0;32m-> 1518\u001b[0m     \u001b[38;5;28;01mreturn\u001b[39;00m \u001b[38;5;28;43mself\u001b[39;49m\u001b[38;5;241;43m.\u001b[39;49m\u001b[43m_call_impl\u001b[49m\u001b[43m(\u001b[49m\u001b[38;5;241;43m*\u001b[39;49m\u001b[43margs\u001b[49m\u001b[43m,\u001b[49m\u001b[43m \u001b[49m\u001b[38;5;241;43m*\u001b[39;49m\u001b[38;5;241;43m*\u001b[39;49m\u001b[43mkwargs\u001b[49m\u001b[43m)\u001b[49m\n",
      "File \u001b[0;32m~/.local/lib/python3.8/site-packages/torch/nn/modules/module.py:1527\u001b[0m, in \u001b[0;36mModule._call_impl\u001b[0;34m(self, *args, **kwargs)\u001b[0m\n\u001b[1;32m   1522\u001b[0m \u001b[38;5;66;03m# If we don't have any hooks, we want to skip the rest of the logic in\u001b[39;00m\n\u001b[1;32m   1523\u001b[0m \u001b[38;5;66;03m# this function, and just call forward.\u001b[39;00m\n\u001b[1;32m   1524\u001b[0m \u001b[38;5;28;01mif\u001b[39;00m \u001b[38;5;129;01mnot\u001b[39;00m (\u001b[38;5;28mself\u001b[39m\u001b[38;5;241m.\u001b[39m_backward_hooks \u001b[38;5;129;01mor\u001b[39;00m \u001b[38;5;28mself\u001b[39m\u001b[38;5;241m.\u001b[39m_backward_pre_hooks \u001b[38;5;129;01mor\u001b[39;00m \u001b[38;5;28mself\u001b[39m\u001b[38;5;241m.\u001b[39m_forward_hooks \u001b[38;5;129;01mor\u001b[39;00m \u001b[38;5;28mself\u001b[39m\u001b[38;5;241m.\u001b[39m_forward_pre_hooks\n\u001b[1;32m   1525\u001b[0m         \u001b[38;5;129;01mor\u001b[39;00m _global_backward_pre_hooks \u001b[38;5;129;01mor\u001b[39;00m _global_backward_hooks\n\u001b[1;32m   1526\u001b[0m         \u001b[38;5;129;01mor\u001b[39;00m _global_forward_hooks \u001b[38;5;129;01mor\u001b[39;00m _global_forward_pre_hooks):\n\u001b[0;32m-> 1527\u001b[0m     \u001b[38;5;28;01mreturn\u001b[39;00m \u001b[43mforward_call\u001b[49m\u001b[43m(\u001b[49m\u001b[38;5;241;43m*\u001b[39;49m\u001b[43margs\u001b[49m\u001b[43m,\u001b[49m\u001b[43m \u001b[49m\u001b[38;5;241;43m*\u001b[39;49m\u001b[38;5;241;43m*\u001b[39;49m\u001b[43mkwargs\u001b[49m\u001b[43m)\u001b[49m\n\u001b[1;32m   1529\u001b[0m \u001b[38;5;28;01mtry\u001b[39;00m:\n\u001b[1;32m   1530\u001b[0m     result \u001b[38;5;241m=\u001b[39m \u001b[38;5;28;01mNone\u001b[39;00m\n",
      "File \u001b[0;32m~/W210-Capstone/notebooks/models_package/resnet_idenprof.py:44\u001b[0m, in \u001b[0;36mBasicBlock.forward\u001b[0;34m(self, x)\u001b[0m\n\u001b[1;32m     41\u001b[0m out \u001b[38;5;241m=\u001b[39m \u001b[38;5;28mself\u001b[39m\u001b[38;5;241m.\u001b[39mrelu(out)\n\u001b[1;32m     43\u001b[0m out \u001b[38;5;241m=\u001b[39m \u001b[38;5;28mself\u001b[39m\u001b[38;5;241m.\u001b[39mconv2(out)\n\u001b[0;32m---> 44\u001b[0m out \u001b[38;5;241m=\u001b[39m \u001b[38;5;28;43mself\u001b[39;49m\u001b[38;5;241;43m.\u001b[39;49m\u001b[43mbn2\u001b[49m\u001b[43m(\u001b[49m\u001b[43mout\u001b[49m\u001b[43m)\u001b[49m\n\u001b[1;32m     46\u001b[0m \u001b[38;5;28;01mif\u001b[39;00m \u001b[38;5;28mself\u001b[39m\u001b[38;5;241m.\u001b[39mdownsample \u001b[38;5;129;01mis\u001b[39;00m \u001b[38;5;129;01mnot\u001b[39;00m \u001b[38;5;28;01mNone\u001b[39;00m:\n\u001b[1;32m     47\u001b[0m     residual \u001b[38;5;241m=\u001b[39m \u001b[38;5;28mself\u001b[39m\u001b[38;5;241m.\u001b[39mdownsample(x)\n",
      "File \u001b[0;32m~/.local/lib/python3.8/site-packages/torch/nn/modules/module.py:1518\u001b[0m, in \u001b[0;36mModule._wrapped_call_impl\u001b[0;34m(self, *args, **kwargs)\u001b[0m\n\u001b[1;32m   1516\u001b[0m     \u001b[38;5;28;01mreturn\u001b[39;00m \u001b[38;5;28mself\u001b[39m\u001b[38;5;241m.\u001b[39m_compiled_call_impl(\u001b[38;5;241m*\u001b[39margs, \u001b[38;5;241m*\u001b[39m\u001b[38;5;241m*\u001b[39mkwargs)  \u001b[38;5;66;03m# type: ignore[misc]\u001b[39;00m\n\u001b[1;32m   1517\u001b[0m \u001b[38;5;28;01melse\u001b[39;00m:\n\u001b[0;32m-> 1518\u001b[0m     \u001b[38;5;28;01mreturn\u001b[39;00m \u001b[38;5;28;43mself\u001b[39;49m\u001b[38;5;241;43m.\u001b[39;49m\u001b[43m_call_impl\u001b[49m\u001b[43m(\u001b[49m\u001b[38;5;241;43m*\u001b[39;49m\u001b[43margs\u001b[49m\u001b[43m,\u001b[49m\u001b[43m \u001b[49m\u001b[38;5;241;43m*\u001b[39;49m\u001b[38;5;241;43m*\u001b[39;49m\u001b[43mkwargs\u001b[49m\u001b[43m)\u001b[49m\n",
      "File \u001b[0;32m~/.local/lib/python3.8/site-packages/torch/nn/modules/module.py:1527\u001b[0m, in \u001b[0;36mModule._call_impl\u001b[0;34m(self, *args, **kwargs)\u001b[0m\n\u001b[1;32m   1522\u001b[0m \u001b[38;5;66;03m# If we don't have any hooks, we want to skip the rest of the logic in\u001b[39;00m\n\u001b[1;32m   1523\u001b[0m \u001b[38;5;66;03m# this function, and just call forward.\u001b[39;00m\n\u001b[1;32m   1524\u001b[0m \u001b[38;5;28;01mif\u001b[39;00m \u001b[38;5;129;01mnot\u001b[39;00m (\u001b[38;5;28mself\u001b[39m\u001b[38;5;241m.\u001b[39m_backward_hooks \u001b[38;5;129;01mor\u001b[39;00m \u001b[38;5;28mself\u001b[39m\u001b[38;5;241m.\u001b[39m_backward_pre_hooks \u001b[38;5;129;01mor\u001b[39;00m \u001b[38;5;28mself\u001b[39m\u001b[38;5;241m.\u001b[39m_forward_hooks \u001b[38;5;129;01mor\u001b[39;00m \u001b[38;5;28mself\u001b[39m\u001b[38;5;241m.\u001b[39m_forward_pre_hooks\n\u001b[1;32m   1525\u001b[0m         \u001b[38;5;129;01mor\u001b[39;00m _global_backward_pre_hooks \u001b[38;5;129;01mor\u001b[39;00m _global_backward_hooks\n\u001b[1;32m   1526\u001b[0m         \u001b[38;5;129;01mor\u001b[39;00m _global_forward_hooks \u001b[38;5;129;01mor\u001b[39;00m _global_forward_pre_hooks):\n\u001b[0;32m-> 1527\u001b[0m     \u001b[38;5;28;01mreturn\u001b[39;00m \u001b[43mforward_call\u001b[49m\u001b[43m(\u001b[49m\u001b[38;5;241;43m*\u001b[39;49m\u001b[43margs\u001b[49m\u001b[43m,\u001b[49m\u001b[43m \u001b[49m\u001b[38;5;241;43m*\u001b[39;49m\u001b[38;5;241;43m*\u001b[39;49m\u001b[43mkwargs\u001b[49m\u001b[43m)\u001b[49m\n\u001b[1;32m   1529\u001b[0m \u001b[38;5;28;01mtry\u001b[39;00m:\n\u001b[1;32m   1530\u001b[0m     result \u001b[38;5;241m=\u001b[39m \u001b[38;5;28;01mNone\u001b[39;00m\n",
      "File \u001b[0;32m~/.local/lib/python3.8/site-packages/torch/nn/modules/batchnorm.py:171\u001b[0m, in \u001b[0;36m_BatchNorm.forward\u001b[0;34m(self, input)\u001b[0m\n\u001b[1;32m    164\u001b[0m     bn_training \u001b[38;5;241m=\u001b[39m (\u001b[38;5;28mself\u001b[39m\u001b[38;5;241m.\u001b[39mrunning_mean \u001b[38;5;129;01mis\u001b[39;00m \u001b[38;5;28;01mNone\u001b[39;00m) \u001b[38;5;129;01mand\u001b[39;00m (\u001b[38;5;28mself\u001b[39m\u001b[38;5;241m.\u001b[39mrunning_var \u001b[38;5;129;01mis\u001b[39;00m \u001b[38;5;28;01mNone\u001b[39;00m)\n\u001b[1;32m    166\u001b[0m \u001b[38;5;250m\u001b[39m\u001b[38;5;124mr\u001b[39m\u001b[38;5;124;03m\"\"\"\u001b[39;00m\n\u001b[1;32m    167\u001b[0m \u001b[38;5;124;03mBuffers are only updated if they are to be tracked and we are in training mode. Thus they only need to be\u001b[39;00m\n\u001b[1;32m    168\u001b[0m \u001b[38;5;124;03mpassed when the update should occur (i.e. in training mode when they are tracked), or when buffer stats are\u001b[39;00m\n\u001b[1;32m    169\u001b[0m \u001b[38;5;124;03mused for normalization (i.e. in eval mode when buffers are not None).\u001b[39;00m\n\u001b[1;32m    170\u001b[0m \u001b[38;5;124;03m\"\"\"\u001b[39;00m\n\u001b[0;32m--> 171\u001b[0m \u001b[38;5;28;01mreturn\u001b[39;00m \u001b[43mF\u001b[49m\u001b[38;5;241;43m.\u001b[39;49m\u001b[43mbatch_norm\u001b[49m\u001b[43m(\u001b[49m\n\u001b[1;32m    172\u001b[0m \u001b[43m    \u001b[49m\u001b[38;5;28;43minput\u001b[39;49m\u001b[43m,\u001b[49m\n\u001b[1;32m    173\u001b[0m \u001b[43m    \u001b[49m\u001b[38;5;66;43;03m# If buffers are not to be tracked, ensure that they won't be updated\u001b[39;49;00m\n\u001b[1;32m    174\u001b[0m \u001b[43m    \u001b[49m\u001b[38;5;28;43mself\u001b[39;49m\u001b[38;5;241;43m.\u001b[39;49m\u001b[43mrunning_mean\u001b[49m\n\u001b[1;32m    175\u001b[0m \u001b[43m    \u001b[49m\u001b[38;5;28;43;01mif\u001b[39;49;00m\u001b[43m \u001b[49m\u001b[38;5;129;43;01mnot\u001b[39;49;00m\u001b[43m \u001b[49m\u001b[38;5;28;43mself\u001b[39;49m\u001b[38;5;241;43m.\u001b[39;49m\u001b[43mtraining\u001b[49m\u001b[43m \u001b[49m\u001b[38;5;129;43;01mor\u001b[39;49;00m\u001b[43m \u001b[49m\u001b[38;5;28;43mself\u001b[39;49m\u001b[38;5;241;43m.\u001b[39;49m\u001b[43mtrack_running_stats\u001b[49m\n\u001b[1;32m    176\u001b[0m \u001b[43m    \u001b[49m\u001b[38;5;28;43;01melse\u001b[39;49;00m\u001b[43m \u001b[49m\u001b[38;5;28;43;01mNone\u001b[39;49;00m\u001b[43m,\u001b[49m\n\u001b[1;32m    177\u001b[0m \u001b[43m    \u001b[49m\u001b[38;5;28;43mself\u001b[39;49m\u001b[38;5;241;43m.\u001b[39;49m\u001b[43mrunning_var\u001b[49m\u001b[43m \u001b[49m\u001b[38;5;28;43;01mif\u001b[39;49;00m\u001b[43m \u001b[49m\u001b[38;5;129;43;01mnot\u001b[39;49;00m\u001b[43m \u001b[49m\u001b[38;5;28;43mself\u001b[39;49m\u001b[38;5;241;43m.\u001b[39;49m\u001b[43mtraining\u001b[49m\u001b[43m \u001b[49m\u001b[38;5;129;43;01mor\u001b[39;49;00m\u001b[43m \u001b[49m\u001b[38;5;28;43mself\u001b[39;49m\u001b[38;5;241;43m.\u001b[39;49m\u001b[43mtrack_running_stats\u001b[49m\u001b[43m \u001b[49m\u001b[38;5;28;43;01melse\u001b[39;49;00m\u001b[43m \u001b[49m\u001b[38;5;28;43;01mNone\u001b[39;49;00m\u001b[43m,\u001b[49m\n\u001b[1;32m    178\u001b[0m \u001b[43m    \u001b[49m\u001b[38;5;28;43mself\u001b[39;49m\u001b[38;5;241;43m.\u001b[39;49m\u001b[43mweight\u001b[49m\u001b[43m,\u001b[49m\n\u001b[1;32m    179\u001b[0m \u001b[43m    \u001b[49m\u001b[38;5;28;43mself\u001b[39;49m\u001b[38;5;241;43m.\u001b[39;49m\u001b[43mbias\u001b[49m\u001b[43m,\u001b[49m\n\u001b[1;32m    180\u001b[0m \u001b[43m    \u001b[49m\u001b[43mbn_training\u001b[49m\u001b[43m,\u001b[49m\n\u001b[1;32m    181\u001b[0m \u001b[43m    \u001b[49m\u001b[43mexponential_average_factor\u001b[49m\u001b[43m,\u001b[49m\n\u001b[1;32m    182\u001b[0m \u001b[43m    \u001b[49m\u001b[38;5;28;43mself\u001b[39;49m\u001b[38;5;241;43m.\u001b[39;49m\u001b[43meps\u001b[49m\u001b[43m,\u001b[49m\n\u001b[1;32m    183\u001b[0m \u001b[43m\u001b[49m\u001b[43m)\u001b[49m\n",
      "File \u001b[0;32m~/.local/lib/python3.8/site-packages/torch/nn/functional.py:2478\u001b[0m, in \u001b[0;36mbatch_norm\u001b[0;34m(input, running_mean, running_var, weight, bias, training, momentum, eps)\u001b[0m\n\u001b[1;32m   2475\u001b[0m \u001b[38;5;28;01mif\u001b[39;00m training:\n\u001b[1;32m   2476\u001b[0m     _verify_batch_size(\u001b[38;5;28minput\u001b[39m\u001b[38;5;241m.\u001b[39msize())\n\u001b[0;32m-> 2478\u001b[0m \u001b[38;5;28;01mreturn\u001b[39;00m \u001b[43mtorch\u001b[49m\u001b[38;5;241;43m.\u001b[39;49m\u001b[43mbatch_norm\u001b[49m\u001b[43m(\u001b[49m\n\u001b[1;32m   2479\u001b[0m \u001b[43m    \u001b[49m\u001b[38;5;28;43minput\u001b[39;49m\u001b[43m,\u001b[49m\u001b[43m \u001b[49m\u001b[43mweight\u001b[49m\u001b[43m,\u001b[49m\u001b[43m \u001b[49m\u001b[43mbias\u001b[49m\u001b[43m,\u001b[49m\u001b[43m \u001b[49m\u001b[43mrunning_mean\u001b[49m\u001b[43m,\u001b[49m\u001b[43m \u001b[49m\u001b[43mrunning_var\u001b[49m\u001b[43m,\u001b[49m\u001b[43m \u001b[49m\u001b[43mtraining\u001b[49m\u001b[43m,\u001b[49m\u001b[43m \u001b[49m\u001b[43mmomentum\u001b[49m\u001b[43m,\u001b[49m\u001b[43m \u001b[49m\u001b[43meps\u001b[49m\u001b[43m,\u001b[49m\u001b[43m \u001b[49m\u001b[43mtorch\u001b[49m\u001b[38;5;241;43m.\u001b[39;49m\u001b[43mbackends\u001b[49m\u001b[38;5;241;43m.\u001b[39;49m\u001b[43mcudnn\u001b[49m\u001b[38;5;241;43m.\u001b[39;49m\u001b[43menabled\u001b[49m\n\u001b[1;32m   2480\u001b[0m \u001b[43m\u001b[49m\u001b[43m)\u001b[49m\n",
      "\u001b[0;31mOutOfMemoryError\u001b[0m: CUDA out of memory. Tried to allocate 1.56 GiB. GPU 0 has a total capacty of 22.19 GiB of which 1.47 GiB is free. Including non-PyTorch memory, this process has 20.71 GiB memory in use. Of the allocated memory 20.37 GiB is allocated by PyTorch, and 47.87 MiB is reserved by PyTorch but unallocated. If reserved but unallocated memory is large try setting max_split_size_mb to avoid fragmentation.  See documentation for Memory Management and PYTORCH_CUDA_ALLOC_CONF"
     ]
    }
   ],
   "source": [
    "teacher_lr = best_LR('resnet32x4_lr_test', teacher_model, trainloader, criterion, teacher_optimizer, teacher_scheduler, num_epochs=3, emb = True)\n",
    "teacher_lr"
   ]
  },
  {
   "cell_type": "code",
   "execution_count": null,
   "id": "6ee5fbe5-581e-4af0-aeef-c2bd0368ed9b",
   "metadata": {},
   "outputs": [],
   "source": [
    "student_lr = best_LR('resnet8x4_lr', student_model, trainloader, criterion, optimizer, scheduler, num_epochs=3, emb = True)\n",
    "student_lr"
   ]
  },
  {
   "cell_type": "code",
   "execution_count": 9,
   "id": "912793a1-0a69-474f-8470-3b2114d7c1f1",
   "metadata": {},
   "outputs": [],
   "source": [
    "teacher_lr = 0.00036685719526150065\n",
    "student_lr = 0.0016510167498967254"
   ]
  },
  {
   "cell_type": "code",
   "execution_count": 10,
   "id": "b1c54efd-b7d9-44ea-a269-d0d12e87258d",
   "metadata": {},
   "outputs": [],
   "source": [
    "# Optimizer and scheduler for the student model\n",
    "student_optimizer = optim.SGD(student_model.parameters(), lr=student_lr, momentum=momentum)\n",
    "student_scheduler = torch.optim.lr_scheduler.StepLR(student_optimizer, step_size=step_size, gamma=gamma)\n",
    "\n",
    "# Optimizer and scheduler for the teacher model\n",
    "teacher_optimizer = optim.SGD(teacher_model.parameters(), lr=teacher_lr, momentum=momentum)\n",
    "teacher_scheduler = torch.optim.lr_scheduler.StepLR(teacher_optimizer, step_size=step_size, gamma=gamma)\n",
    "\n",
    "criterion = nn.CrossEntropyLoss()\n",
    "# Assuming the device is a CUDA device if available\n",
    "device = torch.device('cuda' if torch.cuda.is_available() else 'cpu')"
   ]
  },
  {
   "cell_type": "markdown",
   "id": "adff0123-c39b-442f-b806-d879d38f466c",
   "metadata": {},
   "source": [
    "## Train Leaderboard Teacher Models"
   ]
  },
  {
   "cell_type": "code",
   "execution_count": 12,
   "id": "2dd2e635-6af8-485c-8e1f-54dc2cca58a1",
   "metadata": {
    "scrolled": true
   },
   "outputs": [
    {
     "name": "stderr",
     "output_type": "stream",
     "text": [
      " 35%|██████████████████████████████▍                                                       | 100/282 [01:27<02:38,  1.15it/s]"
     ]
    },
    {
     "name": "stdout",
     "output_type": "stream",
     "text": [
      "[1, 100] loss: 1.300\n"
     ]
    },
    {
     "name": "stderr",
     "output_type": "stream",
     "text": [
      " 71%|████████████████████████████████████████████████████████████▉                         | 200/282 [02:54<01:11,  1.15it/s]"
     ]
    },
    {
     "name": "stdout",
     "output_type": "stream",
     "text": [
      "[1, 200] loss: 1.255\n"
     ]
    },
    {
     "name": "stderr",
     "output_type": "stream",
     "text": [
      "100%|██████████████████████████████████████████████████████████████████████████████████████| 282/282 [04:05<00:00,  1.15it/s]\n",
      " 35%|██████████████████████████████▍                                                       | 100/282 [01:27<02:38,  1.15it/s]"
     ]
    },
    {
     "name": "stdout",
     "output_type": "stream",
     "text": [
      "[2, 100] loss: 1.132\n"
     ]
    },
    {
     "name": "stderr",
     "output_type": "stream",
     "text": [
      " 71%|████████████████████████████████████████████████████████████▉                         | 200/282 [02:54<01:11,  1.15it/s]"
     ]
    },
    {
     "name": "stdout",
     "output_type": "stream",
     "text": [
      "[2, 200] loss: 1.143\n"
     ]
    },
    {
     "name": "stderr",
     "output_type": "stream",
     "text": [
      "100%|██████████████████████████████████████████████████████████████████████████████████████| 282/282 [04:05<00:00,  1.15it/s]\n",
      " 35%|██████████████████████████████▍                                                       | 100/282 [01:27<02:38,  1.15it/s]"
     ]
    },
    {
     "name": "stdout",
     "output_type": "stream",
     "text": [
      "[3, 100] loss: 1.004\n"
     ]
    },
    {
     "name": "stderr",
     "output_type": "stream",
     "text": [
      " 71%|████████████████████████████████████████████████████████████▉                         | 200/282 [02:54<01:11,  1.15it/s]"
     ]
    },
    {
     "name": "stdout",
     "output_type": "stream",
     "text": [
      "[3, 200] loss: 1.064\n"
     ]
    },
    {
     "name": "stderr",
     "output_type": "stream",
     "text": [
      "100%|██████████████████████████████████████████████████████████████████████████████████████| 282/282 [04:05<00:00,  1.15it/s]\n",
      " 35%|██████████████████████████████▍                                                       | 100/282 [01:27<02:38,  1.15it/s]"
     ]
    },
    {
     "name": "stdout",
     "output_type": "stream",
     "text": [
      "[4, 100] loss: 0.995\n"
     ]
    },
    {
     "name": "stderr",
     "output_type": "stream",
     "text": [
      " 71%|████████████████████████████████████████████████████████████▉                         | 200/282 [02:54<01:11,  1.15it/s]"
     ]
    },
    {
     "name": "stdout",
     "output_type": "stream",
     "text": [
      "[4, 200] loss: 0.993\n"
     ]
    },
    {
     "name": "stderr",
     "output_type": "stream",
     "text": [
      "100%|██████████████████████████████████████████████████████████████████████████████████████| 282/282 [04:05<00:00,  1.15it/s]\n",
      " 35%|██████████████████████████████▍                                                       | 100/282 [01:27<02:38,  1.15it/s]"
     ]
    },
    {
     "name": "stdout",
     "output_type": "stream",
     "text": [
      "[5, 100] loss: 0.886\n"
     ]
    },
    {
     "name": "stderr",
     "output_type": "stream",
     "text": [
      " 71%|████████████████████████████████████████████████████████████▉                         | 200/282 [02:54<01:11,  1.15it/s]"
     ]
    },
    {
     "name": "stdout",
     "output_type": "stream",
     "text": [
      "[5, 200] loss: 0.919\n"
     ]
    },
    {
     "name": "stderr",
     "output_type": "stream",
     "text": [
      "100%|██████████████████████████████████████████████████████████████████████████████████████| 282/282 [04:05<00:00,  1.15it/s]\n",
      " 35%|██████████████████████████████▍                                                       | 100/282 [01:27<02:38,  1.15it/s]"
     ]
    },
    {
     "name": "stdout",
     "output_type": "stream",
     "text": [
      "[6, 100] loss: 0.794\n"
     ]
    },
    {
     "name": "stderr",
     "output_type": "stream",
     "text": [
      " 71%|████████████████████████████████████████████████████████████▉                         | 200/282 [02:54<01:11,  1.15it/s]"
     ]
    },
    {
     "name": "stdout",
     "output_type": "stream",
     "text": [
      "[6, 200] loss: 0.865\n"
     ]
    },
    {
     "name": "stderr",
     "output_type": "stream",
     "text": [
      "100%|██████████████████████████████████████████████████████████████████████████████████████| 282/282 [04:05<00:00,  1.15it/s]\n",
      " 35%|██████████████████████████████▍                                                       | 100/282 [01:27<02:38,  1.15it/s]"
     ]
    },
    {
     "name": "stdout",
     "output_type": "stream",
     "text": [
      "[7, 100] loss: 0.762\n"
     ]
    },
    {
     "name": "stderr",
     "output_type": "stream",
     "text": [
      " 71%|████████████████████████████████████████████████████████████▉                         | 200/282 [02:54<01:11,  1.15it/s]"
     ]
    },
    {
     "name": "stdout",
     "output_type": "stream",
     "text": [
      "[7, 200] loss: 0.801\n"
     ]
    },
    {
     "name": "stderr",
     "output_type": "stream",
     "text": [
      "100%|██████████████████████████████████████████████████████████████████████████████████████| 282/282 [04:05<00:00,  1.15it/s]\n",
      " 35%|██████████████████████████████▍                                                       | 100/282 [01:27<02:38,  1.15it/s]"
     ]
    },
    {
     "name": "stdout",
     "output_type": "stream",
     "text": [
      "[8, 100] loss: 0.737\n"
     ]
    },
    {
     "name": "stderr",
     "output_type": "stream",
     "text": [
      " 71%|████████████████████████████████████████████████████████████▉                         | 200/282 [02:54<01:11,  1.15it/s]"
     ]
    },
    {
     "name": "stdout",
     "output_type": "stream",
     "text": [
      "[8, 200] loss: 0.775\n"
     ]
    },
    {
     "name": "stderr",
     "output_type": "stream",
     "text": [
      "100%|██████████████████████████████████████████████████████████████████████████████████████| 282/282 [04:05<00:00,  1.15it/s]\n",
      " 35%|██████████████████████████████▍                                                       | 100/282 [01:27<02:38,  1.15it/s]"
     ]
    },
    {
     "name": "stdout",
     "output_type": "stream",
     "text": [
      "[9, 100] loss: 0.718\n"
     ]
    },
    {
     "name": "stderr",
     "output_type": "stream",
     "text": [
      " 71%|████████████████████████████████████████████████████████████▉                         | 200/282 [02:54<01:11,  1.15it/s]"
     ]
    },
    {
     "name": "stdout",
     "output_type": "stream",
     "text": [
      "[9, 200] loss: 0.722\n"
     ]
    },
    {
     "name": "stderr",
     "output_type": "stream",
     "text": [
      "100%|██████████████████████████████████████████████████████████████████████████████████████| 282/282 [04:05<00:00,  1.15it/s]\n",
      " 35%|██████████████████████████████▍                                                       | 100/282 [01:27<02:38,  1.15it/s]"
     ]
    },
    {
     "name": "stdout",
     "output_type": "stream",
     "text": [
      "[10, 100] loss: 0.631\n"
     ]
    },
    {
     "name": "stderr",
     "output_type": "stream",
     "text": [
      " 71%|████████████████████████████████████████████████████████████▉                         | 200/282 [02:54<01:11,  1.15it/s]"
     ]
    },
    {
     "name": "stdout",
     "output_type": "stream",
     "text": [
      "[10, 200] loss: 0.699\n"
     ]
    },
    {
     "name": "stderr",
     "output_type": "stream",
     "text": [
      "100%|██████████████████████████████████████████████████████████████████████████████████████| 282/282 [04:05<00:00,  1.15it/s]\n",
      " 35%|██████████████████████████████▍                                                       | 100/282 [01:27<02:38,  1.15it/s]"
     ]
    },
    {
     "name": "stdout",
     "output_type": "stream",
     "text": [
      "[11, 100] loss: 0.611\n"
     ]
    },
    {
     "name": "stderr",
     "output_type": "stream",
     "text": [
      " 71%|████████████████████████████████████████████████████████████▉                         | 200/282 [02:54<01:11,  1.15it/s]"
     ]
    },
    {
     "name": "stdout",
     "output_type": "stream",
     "text": [
      "[11, 200] loss: 0.604\n"
     ]
    },
    {
     "name": "stderr",
     "output_type": "stream",
     "text": [
      "100%|██████████████████████████████████████████████████████████████████████████████████████| 282/282 [04:05<00:00,  1.15it/s]\n",
      " 35%|██████████████████████████████▍                                                       | 100/282 [01:27<02:38,  1.15it/s]"
     ]
    },
    {
     "name": "stdout",
     "output_type": "stream",
     "text": [
      "[12, 100] loss: 0.563\n"
     ]
    },
    {
     "name": "stderr",
     "output_type": "stream",
     "text": [
      " 71%|████████████████████████████████████████████████████████████▉                         | 200/282 [02:54<01:11,  1.15it/s]"
     ]
    },
    {
     "name": "stdout",
     "output_type": "stream",
     "text": [
      "[12, 200] loss: 0.567\n"
     ]
    },
    {
     "name": "stderr",
     "output_type": "stream",
     "text": [
      "100%|██████████████████████████████████████████████████████████████████████████████████████| 282/282 [04:05<00:00,  1.15it/s]\n",
      " 35%|██████████████████████████████▍                                                       | 100/282 [01:27<02:38,  1.15it/s]"
     ]
    },
    {
     "name": "stdout",
     "output_type": "stream",
     "text": [
      "[13, 100] loss: 0.542\n"
     ]
    },
    {
     "name": "stderr",
     "output_type": "stream",
     "text": [
      " 71%|████████████████████████████████████████████████████████████▉                         | 200/282 [02:54<01:11,  1.15it/s]"
     ]
    },
    {
     "name": "stdout",
     "output_type": "stream",
     "text": [
      "[13, 200] loss: 0.543\n"
     ]
    },
    {
     "name": "stderr",
     "output_type": "stream",
     "text": [
      "100%|██████████████████████████████████████████████████████████████████████████████████████| 282/282 [04:05<00:00,  1.15it/s]\n",
      " 35%|██████████████████████████████▍                                                       | 100/282 [01:27<02:38,  1.15it/s]"
     ]
    },
    {
     "name": "stdout",
     "output_type": "stream",
     "text": [
      "[14, 100] loss: 0.494\n"
     ]
    },
    {
     "name": "stderr",
     "output_type": "stream",
     "text": [
      " 71%|████████████████████████████████████████████████████████████▉                         | 200/282 [02:54<01:11,  1.15it/s]"
     ]
    },
    {
     "name": "stdout",
     "output_type": "stream",
     "text": [
      "[14, 200] loss: 0.519\n"
     ]
    },
    {
     "name": "stderr",
     "output_type": "stream",
     "text": [
      "100%|██████████████████████████████████████████████████████████████████████████████████████| 282/282 [04:05<00:00,  1.15it/s]\n",
      " 35%|██████████████████████████████▍                                                       | 100/282 [01:27<02:38,  1.15it/s]"
     ]
    },
    {
     "name": "stdout",
     "output_type": "stream",
     "text": [
      "[15, 100] loss: 0.479\n"
     ]
    },
    {
     "name": "stderr",
     "output_type": "stream",
     "text": [
      " 71%|████████████████████████████████████████████████████████████▉                         | 200/282 [02:54<01:11,  1.15it/s]"
     ]
    },
    {
     "name": "stdout",
     "output_type": "stream",
     "text": [
      "[15, 200] loss: 0.520\n"
     ]
    },
    {
     "name": "stderr",
     "output_type": "stream",
     "text": [
      "100%|██████████████████████████████████████████████████████████████████████████████████████| 282/282 [04:05<00:00,  1.15it/s]\n",
      " 35%|██████████████████████████████▍                                                       | 100/282 [01:27<02:38,  1.15it/s]"
     ]
    },
    {
     "name": "stdout",
     "output_type": "stream",
     "text": [
      "[16, 100] loss: 0.425\n"
     ]
    },
    {
     "name": "stderr",
     "output_type": "stream",
     "text": [
      " 71%|████████████████████████████████████████████████████████████▉                         | 200/282 [02:54<01:11,  1.15it/s]"
     ]
    },
    {
     "name": "stdout",
     "output_type": "stream",
     "text": [
      "[16, 200] loss: 0.405\n"
     ]
    },
    {
     "name": "stderr",
     "output_type": "stream",
     "text": [
      "100%|██████████████████████████████████████████████████████████████████████████████████████| 282/282 [04:05<00:00,  1.15it/s]\n",
      " 35%|██████████████████████████████▍                                                       | 100/282 [01:27<02:38,  1.15it/s]"
     ]
    },
    {
     "name": "stdout",
     "output_type": "stream",
     "text": [
      "[17, 100] loss: 0.400\n"
     ]
    },
    {
     "name": "stderr",
     "output_type": "stream",
     "text": [
      " 71%|████████████████████████████████████████████████████████████▉                         | 200/282 [02:54<01:11,  1.15it/s]"
     ]
    },
    {
     "name": "stdout",
     "output_type": "stream",
     "text": [
      "[17, 200] loss: 0.398\n"
     ]
    },
    {
     "name": "stderr",
     "output_type": "stream",
     "text": [
      "100%|██████████████████████████████████████████████████████████████████████████████████████| 282/282 [04:05<00:00,  1.15it/s]\n",
      " 35%|██████████████████████████████▍                                                       | 100/282 [01:27<02:38,  1.15it/s]"
     ]
    },
    {
     "name": "stdout",
     "output_type": "stream",
     "text": [
      "[18, 100] loss: 0.382\n"
     ]
    },
    {
     "name": "stderr",
     "output_type": "stream",
     "text": [
      " 71%|████████████████████████████████████████████████████████████▉                         | 200/282 [02:54<01:11,  1.15it/s]"
     ]
    },
    {
     "name": "stdout",
     "output_type": "stream",
     "text": [
      "[18, 200] loss: 0.375\n"
     ]
    },
    {
     "name": "stderr",
     "output_type": "stream",
     "text": [
      "100%|██████████████████████████████████████████████████████████████████████████████████████| 282/282 [04:05<00:00,  1.15it/s]\n",
      " 35%|██████████████████████████████▍                                                       | 100/282 [01:27<02:38,  1.15it/s]"
     ]
    },
    {
     "name": "stdout",
     "output_type": "stream",
     "text": [
      "[19, 100] loss: 0.318\n"
     ]
    },
    {
     "name": "stderr",
     "output_type": "stream",
     "text": [
      " 71%|████████████████████████████████████████████████████████████▉                         | 200/282 [02:54<01:11,  1.15it/s]"
     ]
    },
    {
     "name": "stdout",
     "output_type": "stream",
     "text": [
      "[19, 200] loss: 0.345\n"
     ]
    },
    {
     "name": "stderr",
     "output_type": "stream",
     "text": [
      "100%|██████████████████████████████████████████████████████████████████████████████████████| 282/282 [04:05<00:00,  1.15it/s]\n",
      " 35%|██████████████████████████████▍                                                       | 100/282 [01:27<02:38,  1.15it/s]"
     ]
    },
    {
     "name": "stdout",
     "output_type": "stream",
     "text": [
      "[20, 100] loss: 0.290\n"
     ]
    },
    {
     "name": "stderr",
     "output_type": "stream",
     "text": [
      " 71%|████████████████████████████████████████████████████████████▉                         | 200/282 [02:54<01:11,  1.15it/s]"
     ]
    },
    {
     "name": "stdout",
     "output_type": "stream",
     "text": [
      "[20, 200] loss: 0.310\n"
     ]
    },
    {
     "name": "stderr",
     "output_type": "stream",
     "text": [
      "100%|██████████████████████████████████████████████████████████████████████████████████████| 282/282 [04:05<00:00,  1.15it/s]\n",
      " 35%|██████████████████████████████▍                                                       | 100/282 [01:27<02:38,  1.15it/s]"
     ]
    },
    {
     "name": "stdout",
     "output_type": "stream",
     "text": [
      "[21, 100] loss: 0.291\n"
     ]
    },
    {
     "name": "stderr",
     "output_type": "stream",
     "text": [
      " 71%|████████████████████████████████████████████████████████████▉                         | 200/282 [02:54<01:11,  1.15it/s]"
     ]
    },
    {
     "name": "stdout",
     "output_type": "stream",
     "text": [
      "[21, 200] loss: 0.286\n"
     ]
    },
    {
     "name": "stderr",
     "output_type": "stream",
     "text": [
      "100%|██████████████████████████████████████████████████████████████████████████████████████| 282/282 [04:05<00:00,  1.15it/s]\n",
      " 35%|██████████████████████████████▍                                                       | 100/282 [01:27<02:38,  1.15it/s]"
     ]
    },
    {
     "name": "stdout",
     "output_type": "stream",
     "text": [
      "[22, 100] loss: 0.288\n"
     ]
    },
    {
     "name": "stderr",
     "output_type": "stream",
     "text": [
      " 71%|████████████████████████████████████████████████████████████▉                         | 200/282 [02:54<01:11,  1.15it/s]"
     ]
    },
    {
     "name": "stdout",
     "output_type": "stream",
     "text": [
      "[22, 200] loss: 0.257\n"
     ]
    },
    {
     "name": "stderr",
     "output_type": "stream",
     "text": [
      "100%|██████████████████████████████████████████████████████████████████████████████████████| 282/282 [04:05<00:00,  1.15it/s]\n",
      " 35%|██████████████████████████████▍                                                       | 100/282 [01:27<02:38,  1.15it/s]"
     ]
    },
    {
     "name": "stdout",
     "output_type": "stream",
     "text": [
      "[23, 100] loss: 0.215\n"
     ]
    },
    {
     "name": "stderr",
     "output_type": "stream",
     "text": [
      " 71%|████████████████████████████████████████████████████████████▉                         | 200/282 [02:54<01:11,  1.15it/s]"
     ]
    },
    {
     "name": "stdout",
     "output_type": "stream",
     "text": [
      "[23, 200] loss: 0.240\n"
     ]
    },
    {
     "name": "stderr",
     "output_type": "stream",
     "text": [
      "100%|██████████████████████████████████████████████████████████████████████████████████████| 282/282 [04:05<00:00,  1.15it/s]\n",
      " 35%|██████████████████████████████▍                                                       | 100/282 [01:27<02:38,  1.15it/s]"
     ]
    },
    {
     "name": "stdout",
     "output_type": "stream",
     "text": [
      "[24, 100] loss: 0.219\n"
     ]
    },
    {
     "name": "stderr",
     "output_type": "stream",
     "text": [
      " 71%|████████████████████████████████████████████████████████████▉                         | 200/282 [02:54<01:11,  1.15it/s]"
     ]
    },
    {
     "name": "stdout",
     "output_type": "stream",
     "text": [
      "[24, 200] loss: 0.240\n"
     ]
    },
    {
     "name": "stderr",
     "output_type": "stream",
     "text": [
      "100%|██████████████████████████████████████████████████████████████████████████████████████| 282/282 [04:05<00:00,  1.15it/s]\n",
      " 35%|██████████████████████████████▍                                                       | 100/282 [01:27<02:38,  1.15it/s]"
     ]
    },
    {
     "name": "stdout",
     "output_type": "stream",
     "text": [
      "[25, 100] loss: 0.188\n"
     ]
    },
    {
     "name": "stderr",
     "output_type": "stream",
     "text": [
      " 71%|████████████████████████████████████████████████████████████▉                         | 200/282 [02:54<01:11,  1.15it/s]"
     ]
    },
    {
     "name": "stdout",
     "output_type": "stream",
     "text": [
      "[25, 200] loss: 0.213\n"
     ]
    },
    {
     "name": "stderr",
     "output_type": "stream",
     "text": [
      "100%|██████████████████████████████████████████████████████████████████████████████████████| 282/282 [04:05<00:00,  1.15it/s]\n",
      " 35%|██████████████████████████████▍                                                       | 100/282 [01:27<02:38,  1.15it/s]"
     ]
    },
    {
     "name": "stdout",
     "output_type": "stream",
     "text": [
      "[26, 100] loss: 0.162\n"
     ]
    },
    {
     "name": "stderr",
     "output_type": "stream",
     "text": [
      " 71%|████████████████████████████████████████████████████████████▉                         | 200/282 [02:54<01:11,  1.15it/s]"
     ]
    },
    {
     "name": "stdout",
     "output_type": "stream",
     "text": [
      "[26, 200] loss: 0.155\n"
     ]
    },
    {
     "name": "stderr",
     "output_type": "stream",
     "text": [
      "100%|██████████████████████████████████████████████████████████████████████████████████████| 282/282 [04:05<00:00,  1.15it/s]\n",
      " 35%|██████████████████████████████▍                                                       | 100/282 [01:27<02:38,  1.15it/s]"
     ]
    },
    {
     "name": "stdout",
     "output_type": "stream",
     "text": [
      "[27, 100] loss: 0.177\n"
     ]
    },
    {
     "name": "stderr",
     "output_type": "stream",
     "text": [
      " 71%|████████████████████████████████████████████████████████████▉                         | 200/282 [02:54<01:11,  1.15it/s]"
     ]
    },
    {
     "name": "stdout",
     "output_type": "stream",
     "text": [
      "[27, 200] loss: 0.164\n"
     ]
    },
    {
     "name": "stderr",
     "output_type": "stream",
     "text": [
      "100%|██████████████████████████████████████████████████████████████████████████████████████| 282/282 [04:05<00:00,  1.15it/s]\n",
      " 35%|██████████████████████████████▍                                                       | 100/282 [01:27<02:38,  1.15it/s]"
     ]
    },
    {
     "name": "stdout",
     "output_type": "stream",
     "text": [
      "[28, 100] loss: 0.180\n"
     ]
    },
    {
     "name": "stderr",
     "output_type": "stream",
     "text": [
      " 71%|████████████████████████████████████████████████████████████▉                         | 200/282 [02:54<01:11,  1.15it/s]"
     ]
    },
    {
     "name": "stdout",
     "output_type": "stream",
     "text": [
      "[28, 200] loss: 0.154\n"
     ]
    },
    {
     "name": "stderr",
     "output_type": "stream",
     "text": [
      "100%|██████████████████████████████████████████████████████████████████████████████████████| 282/282 [04:05<00:00,  1.15it/s]\n",
      " 35%|██████████████████████████████▍                                                       | 100/282 [01:27<02:38,  1.15it/s]"
     ]
    },
    {
     "name": "stdout",
     "output_type": "stream",
     "text": [
      "[29, 100] loss: 0.096\n"
     ]
    },
    {
     "name": "stderr",
     "output_type": "stream",
     "text": [
      " 71%|████████████████████████████████████████████████████████████▉                         | 200/282 [02:54<01:11,  1.15it/s]"
     ]
    },
    {
     "name": "stdout",
     "output_type": "stream",
     "text": [
      "[29, 200] loss: 0.075\n"
     ]
    },
    {
     "name": "stderr",
     "output_type": "stream",
     "text": [
      "100%|██████████████████████████████████████████████████████████████████████████████████████| 282/282 [04:05<00:00,  1.15it/s]\n",
      " 35%|██████████████████████████████▍                                                       | 100/282 [01:27<02:38,  1.15it/s]"
     ]
    },
    {
     "name": "stdout",
     "output_type": "stream",
     "text": [
      "[30, 100] loss: 0.069\n"
     ]
    },
    {
     "name": "stderr",
     "output_type": "stream",
     "text": [
      " 71%|████████████████████████████████████████████████████████████▉                         | 200/282 [02:54<01:11,  1.15it/s]"
     ]
    },
    {
     "name": "stdout",
     "output_type": "stream",
     "text": [
      "[30, 200] loss: 0.062\n"
     ]
    },
    {
     "name": "stderr",
     "output_type": "stream",
     "text": [
      "100%|██████████████████████████████████████████████████████████████████████████████████████| 282/282 [04:05<00:00,  1.15it/s]\n",
      " 35%|██████████████████████████████▍                                                       | 100/282 [01:27<02:38,  1.15it/s]"
     ]
    },
    {
     "name": "stdout",
     "output_type": "stream",
     "text": [
      "[31, 100] loss: 0.064\n"
     ]
    },
    {
     "name": "stderr",
     "output_type": "stream",
     "text": [
      " 71%|████████████████████████████████████████████████████████████▉                         | 200/282 [02:54<01:11,  1.15it/s]"
     ]
    },
    {
     "name": "stdout",
     "output_type": "stream",
     "text": [
      "[31, 200] loss: 0.069\n"
     ]
    },
    {
     "name": "stderr",
     "output_type": "stream",
     "text": [
      "100%|██████████████████████████████████████████████████████████████████████████████████████| 282/282 [04:05<00:00,  1.15it/s]\n",
      " 35%|██████████████████████████████▍                                                       | 100/282 [01:27<02:38,  1.15it/s]"
     ]
    },
    {
     "name": "stdout",
     "output_type": "stream",
     "text": [
      "[32, 100] loss: 0.065\n"
     ]
    },
    {
     "name": "stderr",
     "output_type": "stream",
     "text": [
      " 71%|████████████████████████████████████████████████████████████▉                         | 200/282 [02:54<01:11,  1.15it/s]"
     ]
    },
    {
     "name": "stdout",
     "output_type": "stream",
     "text": [
      "[32, 200] loss: 0.066\n"
     ]
    },
    {
     "name": "stderr",
     "output_type": "stream",
     "text": [
      "100%|██████████████████████████████████████████████████████████████████████████████████████| 282/282 [04:05<00:00,  1.15it/s]\n",
      " 35%|██████████████████████████████▍                                                       | 100/282 [01:27<02:38,  1.15it/s]"
     ]
    },
    {
     "name": "stdout",
     "output_type": "stream",
     "text": [
      "[33, 100] loss: 0.057\n"
     ]
    },
    {
     "name": "stderr",
     "output_type": "stream",
     "text": [
      " 71%|████████████████████████████████████████████████████████████▉                         | 200/282 [02:54<01:11,  1.15it/s]"
     ]
    },
    {
     "name": "stdout",
     "output_type": "stream",
     "text": [
      "[33, 200] loss: 0.057\n"
     ]
    },
    {
     "name": "stderr",
     "output_type": "stream",
     "text": [
      "100%|██████████████████████████████████████████████████████████████████████████████████████| 282/282 [04:05<00:00,  1.15it/s]\n",
      " 35%|██████████████████████████████▍                                                       | 100/282 [01:27<02:38,  1.15it/s]"
     ]
    },
    {
     "name": "stdout",
     "output_type": "stream",
     "text": [
      "[34, 100] loss: 0.060\n"
     ]
    },
    {
     "name": "stderr",
     "output_type": "stream",
     "text": [
      " 71%|████████████████████████████████████████████████████████████▉                         | 200/282 [02:54<01:11,  1.15it/s]"
     ]
    },
    {
     "name": "stdout",
     "output_type": "stream",
     "text": [
      "[34, 200] loss: 0.060\n"
     ]
    },
    {
     "name": "stderr",
     "output_type": "stream",
     "text": [
      "100%|██████████████████████████████████████████████████████████████████████████████████████| 282/282 [04:05<00:00,  1.15it/s]\n",
      " 35%|██████████████████████████████▍                                                       | 100/282 [01:27<02:38,  1.15it/s]"
     ]
    },
    {
     "name": "stdout",
     "output_type": "stream",
     "text": [
      "[35, 100] loss: 0.052\n"
     ]
    },
    {
     "name": "stderr",
     "output_type": "stream",
     "text": [
      " 71%|████████████████████████████████████████████████████████████▉                         | 200/282 [02:54<01:11,  1.15it/s]"
     ]
    },
    {
     "name": "stdout",
     "output_type": "stream",
     "text": [
      "[35, 200] loss: 0.058\n"
     ]
    },
    {
     "name": "stderr",
     "output_type": "stream",
     "text": [
      "100%|██████████████████████████████████████████████████████████████████████████████████████| 282/282 [04:05<00:00,  1.15it/s]\n",
      " 35%|██████████████████████████████▍                                                       | 100/282 [01:27<02:38,  1.15it/s]"
     ]
    },
    {
     "name": "stdout",
     "output_type": "stream",
     "text": [
      "[36, 100] loss: 0.049\n"
     ]
    },
    {
     "name": "stderr",
     "output_type": "stream",
     "text": [
      " 71%|████████████████████████████████████████████████████████████▉                         | 200/282 [02:54<01:11,  1.15it/s]"
     ]
    },
    {
     "name": "stdout",
     "output_type": "stream",
     "text": [
      "[36, 200] loss: 0.056\n"
     ]
    },
    {
     "name": "stderr",
     "output_type": "stream",
     "text": [
      "100%|██████████████████████████████████████████████████████████████████████████████████████| 282/282 [04:05<00:00,  1.15it/s]\n",
      " 35%|██████████████████████████████▍                                                       | 100/282 [01:27<02:38,  1.15it/s]"
     ]
    },
    {
     "name": "stdout",
     "output_type": "stream",
     "text": [
      "[37, 100] loss: 0.052\n"
     ]
    },
    {
     "name": "stderr",
     "output_type": "stream",
     "text": [
      " 71%|████████████████████████████████████████████████████████████▉                         | 200/282 [02:54<01:11,  1.15it/s]"
     ]
    },
    {
     "name": "stdout",
     "output_type": "stream",
     "text": [
      "[37, 200] loss: 0.057\n"
     ]
    },
    {
     "name": "stderr",
     "output_type": "stream",
     "text": [
      "100%|██████████████████████████████████████████████████████████████████████████████████████| 282/282 [04:05<00:00,  1.15it/s]\n",
      " 35%|██████████████████████████████▍                                                       | 100/282 [01:27<02:38,  1.15it/s]"
     ]
    },
    {
     "name": "stdout",
     "output_type": "stream",
     "text": [
      "[38, 100] loss: 0.054\n"
     ]
    },
    {
     "name": "stderr",
     "output_type": "stream",
     "text": [
      " 71%|████████████████████████████████████████████████████████████▉                         | 200/282 [02:54<01:11,  1.15it/s]"
     ]
    },
    {
     "name": "stdout",
     "output_type": "stream",
     "text": [
      "[38, 200] loss: 0.051\n"
     ]
    },
    {
     "name": "stderr",
     "output_type": "stream",
     "text": [
      "100%|██████████████████████████████████████████████████████████████████████████████████████| 282/282 [04:05<00:00,  1.15it/s]\n",
      " 35%|██████████████████████████████▍                                                       | 100/282 [01:27<02:38,  1.15it/s]"
     ]
    },
    {
     "name": "stdout",
     "output_type": "stream",
     "text": [
      "[39, 100] loss: 0.055\n"
     ]
    },
    {
     "name": "stderr",
     "output_type": "stream",
     "text": [
      " 71%|████████████████████████████████████████████████████████████▉                         | 200/282 [02:54<01:11,  1.15it/s]"
     ]
    },
    {
     "name": "stdout",
     "output_type": "stream",
     "text": [
      "[39, 200] loss: 0.052\n"
     ]
    },
    {
     "name": "stderr",
     "output_type": "stream",
     "text": [
      "100%|██████████████████████████████████████████████████████████████████████████████████████| 282/282 [04:05<00:00,  1.15it/s]\n",
      " 35%|██████████████████████████████▍                                                       | 100/282 [01:27<02:38,  1.15it/s]"
     ]
    },
    {
     "name": "stdout",
     "output_type": "stream",
     "text": [
      "[40, 100] loss: 0.049\n"
     ]
    },
    {
     "name": "stderr",
     "output_type": "stream",
     "text": [
      " 71%|████████████████████████████████████████████████████████████▉                         | 200/282 [02:54<01:11,  1.15it/s]"
     ]
    },
    {
     "name": "stdout",
     "output_type": "stream",
     "text": [
      "[40, 200] loss: 0.052\n"
     ]
    },
    {
     "name": "stderr",
     "output_type": "stream",
     "text": [
      "100%|██████████████████████████████████████████████████████████████████████████████████████| 282/282 [04:05<00:00,  1.15it/s]\n",
      " 35%|██████████████████████████████▍                                                       | 100/282 [01:27<02:38,  1.15it/s]"
     ]
    },
    {
     "name": "stdout",
     "output_type": "stream",
     "text": [
      "[41, 100] loss: 0.056\n"
     ]
    },
    {
     "name": "stderr",
     "output_type": "stream",
     "text": [
      " 71%|████████████████████████████████████████████████████████████▉                         | 200/282 [02:54<01:11,  1.15it/s]"
     ]
    },
    {
     "name": "stdout",
     "output_type": "stream",
     "text": [
      "[41, 200] loss: 0.048\n"
     ]
    },
    {
     "name": "stderr",
     "output_type": "stream",
     "text": [
      "100%|██████████████████████████████████████████████████████████████████████████████████████| 282/282 [04:05<00:00,  1.15it/s]\n",
      " 35%|██████████████████████████████▍                                                       | 100/282 [01:27<02:38,  1.15it/s]"
     ]
    },
    {
     "name": "stdout",
     "output_type": "stream",
     "text": [
      "[42, 100] loss: 0.057\n"
     ]
    },
    {
     "name": "stderr",
     "output_type": "stream",
     "text": [
      " 71%|████████████████████████████████████████████████████████████▉                         | 200/282 [02:54<01:11,  1.15it/s]"
     ]
    },
    {
     "name": "stdout",
     "output_type": "stream",
     "text": [
      "[42, 200] loss: 0.049\n"
     ]
    },
    {
     "name": "stderr",
     "output_type": "stream",
     "text": [
      "100%|██████████████████████████████████████████████████████████████████████████████████████| 282/282 [04:05<00:00,  1.15it/s]\n",
      " 35%|██████████████████████████████▍                                                       | 100/282 [01:27<02:38,  1.15it/s]"
     ]
    },
    {
     "name": "stdout",
     "output_type": "stream",
     "text": [
      "[43, 100] loss: 0.050\n"
     ]
    },
    {
     "name": "stderr",
     "output_type": "stream",
     "text": [
      " 71%|████████████████████████████████████████████████████████████▉                         | 200/282 [02:54<01:11,  1.15it/s]"
     ]
    },
    {
     "name": "stdout",
     "output_type": "stream",
     "text": [
      "[43, 200] loss: 0.049\n"
     ]
    },
    {
     "name": "stderr",
     "output_type": "stream",
     "text": [
      "100%|██████████████████████████████████████████████████████████████████████████████████████| 282/282 [04:05<00:00,  1.15it/s]\n",
      " 35%|██████████████████████████████▍                                                       | 100/282 [01:27<02:38,  1.15it/s]"
     ]
    },
    {
     "name": "stdout",
     "output_type": "stream",
     "text": [
      "[44, 100] loss: 0.049\n"
     ]
    },
    {
     "name": "stderr",
     "output_type": "stream",
     "text": [
      " 71%|████████████████████████████████████████████████████████████▉                         | 200/282 [02:54<01:11,  1.15it/s]"
     ]
    },
    {
     "name": "stdout",
     "output_type": "stream",
     "text": [
      "[44, 200] loss: 0.050\n"
     ]
    },
    {
     "name": "stderr",
     "output_type": "stream",
     "text": [
      "100%|██████████████████████████████████████████████████████████████████████████████████████| 282/282 [04:05<00:00,  1.15it/s]\n",
      " 35%|██████████████████████████████▍                                                       | 100/282 [01:27<02:38,  1.15it/s]"
     ]
    },
    {
     "name": "stdout",
     "output_type": "stream",
     "text": [
      "[45, 100] loss: 0.048\n"
     ]
    },
    {
     "name": "stderr",
     "output_type": "stream",
     "text": [
      " 71%|████████████████████████████████████████████████████████████▉                         | 200/282 [02:54<01:11,  1.15it/s]"
     ]
    },
    {
     "name": "stdout",
     "output_type": "stream",
     "text": [
      "[45, 200] loss: 0.050\n"
     ]
    },
    {
     "name": "stderr",
     "output_type": "stream",
     "text": [
      "100%|██████████████████████████████████████████████████████████████████████████████████████| 282/282 [04:05<00:00,  1.15it/s]\n",
      " 35%|██████████████████████████████▍                                                       | 100/282 [01:27<02:38,  1.15it/s]"
     ]
    },
    {
     "name": "stdout",
     "output_type": "stream",
     "text": [
      "[46, 100] loss: 0.052\n"
     ]
    },
    {
     "name": "stderr",
     "output_type": "stream",
     "text": [
      " 71%|████████████████████████████████████████████████████████████▉                         | 200/282 [02:54<01:11,  1.15it/s]"
     ]
    },
    {
     "name": "stdout",
     "output_type": "stream",
     "text": [
      "[46, 200] loss: 0.044\n"
     ]
    },
    {
     "name": "stderr",
     "output_type": "stream",
     "text": [
      "100%|██████████████████████████████████████████████████████████████████████████████████████| 282/282 [04:05<00:00,  1.15it/s]\n",
      " 35%|██████████████████████████████▍                                                       | 100/282 [01:27<02:38,  1.15it/s]"
     ]
    },
    {
     "name": "stdout",
     "output_type": "stream",
     "text": [
      "[47, 100] loss: 0.046\n"
     ]
    },
    {
     "name": "stderr",
     "output_type": "stream",
     "text": [
      " 71%|████████████████████████████████████████████████████████████▉                         | 200/282 [02:54<01:11,  1.15it/s]"
     ]
    },
    {
     "name": "stdout",
     "output_type": "stream",
     "text": [
      "[47, 200] loss: 0.050\n"
     ]
    },
    {
     "name": "stderr",
     "output_type": "stream",
     "text": [
      "100%|██████████████████████████████████████████████████████████████████████████████████████| 282/282 [04:05<00:00,  1.15it/s]\n",
      " 35%|██████████████████████████████▍                                                       | 100/282 [01:27<02:38,  1.15it/s]"
     ]
    },
    {
     "name": "stdout",
     "output_type": "stream",
     "text": [
      "[48, 100] loss: 0.044\n"
     ]
    },
    {
     "name": "stderr",
     "output_type": "stream",
     "text": [
      " 71%|████████████████████████████████████████████████████████████▉                         | 200/282 [02:54<01:11,  1.15it/s]"
     ]
    },
    {
     "name": "stdout",
     "output_type": "stream",
     "text": [
      "[48, 200] loss: 0.048\n"
     ]
    },
    {
     "name": "stderr",
     "output_type": "stream",
     "text": [
      "100%|██████████████████████████████████████████████████████████████████████████████████████| 282/282 [04:05<00:00,  1.15it/s]\n",
      " 35%|██████████████████████████████▍                                                       | 100/282 [01:27<02:38,  1.15it/s]"
     ]
    },
    {
     "name": "stdout",
     "output_type": "stream",
     "text": [
      "[49, 100] loss: 0.043\n"
     ]
    },
    {
     "name": "stderr",
     "output_type": "stream",
     "text": [
      " 71%|████████████████████████████████████████████████████████████▉                         | 200/282 [02:54<01:11,  1.15it/s]"
     ]
    },
    {
     "name": "stdout",
     "output_type": "stream",
     "text": [
      "[49, 200] loss: 0.046\n"
     ]
    },
    {
     "name": "stderr",
     "output_type": "stream",
     "text": [
      "100%|██████████████████████████████████████████████████████████████████████████████████████| 282/282 [04:05<00:00,  1.15it/s]\n",
      " 35%|██████████████████████████████▍                                                       | 100/282 [01:27<02:38,  1.15it/s]"
     ]
    },
    {
     "name": "stdout",
     "output_type": "stream",
     "text": [
      "[50, 100] loss: 0.045\n"
     ]
    },
    {
     "name": "stderr",
     "output_type": "stream",
     "text": [
      " 71%|████████████████████████████████████████████████████████████▉                         | 200/282 [02:54<01:11,  1.15it/s]"
     ]
    },
    {
     "name": "stdout",
     "output_type": "stream",
     "text": [
      "[50, 200] loss: 0.045\n"
     ]
    },
    {
     "name": "stderr",
     "output_type": "stream",
     "text": [
      "100%|██████████████████████████████████████████████████████████████████████████████████████| 282/282 [04:05<00:00,  1.15it/s]\n",
      " 35%|██████████████████████████████▍                                                       | 100/282 [01:27<02:38,  1.15it/s]"
     ]
    },
    {
     "name": "stdout",
     "output_type": "stream",
     "text": [
      "[51, 100] loss: 0.043\n"
     ]
    },
    {
     "name": "stderr",
     "output_type": "stream",
     "text": [
      " 71%|████████████████████████████████████████████████████████████▉                         | 200/282 [02:54<01:11,  1.15it/s]"
     ]
    },
    {
     "name": "stdout",
     "output_type": "stream",
     "text": [
      "[51, 200] loss: 0.046\n"
     ]
    },
    {
     "name": "stderr",
     "output_type": "stream",
     "text": [
      "100%|██████████████████████████████████████████████████████████████████████████████████████| 282/282 [04:05<00:00,  1.15it/s]\n",
      " 35%|██████████████████████████████▍                                                       | 100/282 [01:27<02:38,  1.15it/s]"
     ]
    },
    {
     "name": "stdout",
     "output_type": "stream",
     "text": [
      "[52, 100] loss: 0.046\n"
     ]
    },
    {
     "name": "stderr",
     "output_type": "stream",
     "text": [
      " 71%|████████████████████████████████████████████████████████████▉                         | 200/282 [02:54<01:11,  1.15it/s]"
     ]
    },
    {
     "name": "stdout",
     "output_type": "stream",
     "text": [
      "[52, 200] loss: 0.046\n"
     ]
    },
    {
     "name": "stderr",
     "output_type": "stream",
     "text": [
      "100%|██████████████████████████████████████████████████████████████████████████████████████| 282/282 [04:05<00:00,  1.15it/s]\n",
      " 35%|██████████████████████████████▍                                                       | 100/282 [01:27<02:38,  1.15it/s]"
     ]
    },
    {
     "name": "stdout",
     "output_type": "stream",
     "text": [
      "[53, 100] loss: 0.044\n"
     ]
    },
    {
     "name": "stderr",
     "output_type": "stream",
     "text": [
      " 71%|████████████████████████████████████████████████████████████▉                         | 200/282 [02:54<01:11,  1.15it/s]"
     ]
    },
    {
     "name": "stdout",
     "output_type": "stream",
     "text": [
      "[53, 200] loss: 0.038\n"
     ]
    },
    {
     "name": "stderr",
     "output_type": "stream",
     "text": [
      "100%|██████████████████████████████████████████████████████████████████████████████████████| 282/282 [04:05<00:00,  1.15it/s]\n",
      " 35%|██████████████████████████████▍                                                       | 100/282 [01:27<02:38,  1.15it/s]"
     ]
    },
    {
     "name": "stdout",
     "output_type": "stream",
     "text": [
      "[54, 100] loss: 0.044\n"
     ]
    },
    {
     "name": "stderr",
     "output_type": "stream",
     "text": [
      " 71%|████████████████████████████████████████████████████████████▉                         | 200/282 [02:54<01:11,  1.15it/s]"
     ]
    },
    {
     "name": "stdout",
     "output_type": "stream",
     "text": [
      "[54, 200] loss: 0.043\n"
     ]
    },
    {
     "name": "stderr",
     "output_type": "stream",
     "text": [
      "100%|██████████████████████████████████████████████████████████████████████████████████████| 282/282 [04:05<00:00,  1.15it/s]\n",
      " 35%|██████████████████████████████▍                                                       | 100/282 [01:27<02:38,  1.15it/s]"
     ]
    },
    {
     "name": "stdout",
     "output_type": "stream",
     "text": [
      "[55, 100] loss: 0.042\n"
     ]
    },
    {
     "name": "stderr",
     "output_type": "stream",
     "text": [
      " 71%|████████████████████████████████████████████████████████████▉                         | 200/282 [02:54<01:11,  1.15it/s]"
     ]
    },
    {
     "name": "stdout",
     "output_type": "stream",
     "text": [
      "[55, 200] loss: 0.045\n"
     ]
    },
    {
     "name": "stderr",
     "output_type": "stream",
     "text": [
      "100%|██████████████████████████████████████████████████████████████████████████████████████| 282/282 [04:05<00:00,  1.15it/s]\n",
      " 35%|██████████████████████████████▍                                                       | 100/282 [01:27<02:38,  1.15it/s]"
     ]
    },
    {
     "name": "stdout",
     "output_type": "stream",
     "text": [
      "[56, 100] loss: 0.044\n"
     ]
    },
    {
     "name": "stderr",
     "output_type": "stream",
     "text": [
      " 71%|████████████████████████████████████████████████████████████▉                         | 200/282 [02:54<01:11,  1.15it/s]"
     ]
    },
    {
     "name": "stdout",
     "output_type": "stream",
     "text": [
      "[56, 200] loss: 0.046\n"
     ]
    },
    {
     "name": "stderr",
     "output_type": "stream",
     "text": [
      "100%|██████████████████████████████████████████████████████████████████████████████████████| 282/282 [04:05<00:00,  1.15it/s]\n",
      " 35%|██████████████████████████████▍                                                       | 100/282 [01:27<02:38,  1.15it/s]"
     ]
    },
    {
     "name": "stdout",
     "output_type": "stream",
     "text": [
      "[57, 100] loss: 0.043\n"
     ]
    },
    {
     "name": "stderr",
     "output_type": "stream",
     "text": [
      " 71%|████████████████████████████████████████████████████████████▉                         | 200/282 [02:54<01:11,  1.15it/s]"
     ]
    },
    {
     "name": "stdout",
     "output_type": "stream",
     "text": [
      "[57, 200] loss: 0.037\n"
     ]
    },
    {
     "name": "stderr",
     "output_type": "stream",
     "text": [
      "100%|██████████████████████████████████████████████████████████████████████████████████████| 282/282 [04:05<00:00,  1.15it/s]\n",
      " 35%|██████████████████████████████▍                                                       | 100/282 [01:27<02:38,  1.15it/s]"
     ]
    },
    {
     "name": "stdout",
     "output_type": "stream",
     "text": [
      "[58, 100] loss: 0.039\n"
     ]
    },
    {
     "name": "stderr",
     "output_type": "stream",
     "text": [
      " 71%|████████████████████████████████████████████████████████████▉                         | 200/282 [02:54<01:11,  1.15it/s]"
     ]
    },
    {
     "name": "stdout",
     "output_type": "stream",
     "text": [
      "[58, 200] loss: 0.040\n"
     ]
    },
    {
     "name": "stderr",
     "output_type": "stream",
     "text": [
      "100%|██████████████████████████████████████████████████████████████████████████████████████| 282/282 [04:05<00:00,  1.15it/s]\n",
      " 35%|██████████████████████████████▍                                                       | 100/282 [01:27<02:38,  1.15it/s]"
     ]
    },
    {
     "name": "stdout",
     "output_type": "stream",
     "text": [
      "[59, 100] loss: 0.039\n"
     ]
    },
    {
     "name": "stderr",
     "output_type": "stream",
     "text": [
      " 71%|████████████████████████████████████████████████████████████▉                         | 200/282 [02:54<01:11,  1.15it/s]"
     ]
    },
    {
     "name": "stdout",
     "output_type": "stream",
     "text": [
      "[59, 200] loss: 0.044\n"
     ]
    },
    {
     "name": "stderr",
     "output_type": "stream",
     "text": [
      "100%|██████████████████████████████████████████████████████████████████████████████████████| 282/282 [04:05<00:00,  1.15it/s]\n",
      " 35%|██████████████████████████████▍                                                       | 100/282 [01:27<02:38,  1.15it/s]"
     ]
    },
    {
     "name": "stdout",
     "output_type": "stream",
     "text": [
      "[60, 100] loss: 0.035\n"
     ]
    },
    {
     "name": "stderr",
     "output_type": "stream",
     "text": [
      " 71%|████████████████████████████████████████████████████████████▉                         | 200/282 [02:54<01:11,  1.15it/s]"
     ]
    },
    {
     "name": "stdout",
     "output_type": "stream",
     "text": [
      "[60, 200] loss: 0.034\n"
     ]
    },
    {
     "name": "stderr",
     "output_type": "stream",
     "text": [
      "100%|██████████████████████████████████████████████████████████████████████████████████████| 282/282 [04:05<00:00,  1.15it/s]\n",
      " 35%|██████████████████████████████▍                                                       | 100/282 [01:27<02:38,  1.15it/s]"
     ]
    },
    {
     "name": "stdout",
     "output_type": "stream",
     "text": [
      "[61, 100] loss: 0.045\n"
     ]
    },
    {
     "name": "stderr",
     "output_type": "stream",
     "text": [
      " 71%|████████████████████████████████████████████████████████████▉                         | 200/282 [02:54<01:11,  1.15it/s]"
     ]
    },
    {
     "name": "stdout",
     "output_type": "stream",
     "text": [
      "[61, 200] loss: 0.040\n"
     ]
    },
    {
     "name": "stderr",
     "output_type": "stream",
     "text": [
      "100%|██████████████████████████████████████████████████████████████████████████████████████| 282/282 [04:05<00:00,  1.15it/s]\n",
      " 35%|██████████████████████████████▍                                                       | 100/282 [01:27<02:38,  1.15it/s]"
     ]
    },
    {
     "name": "stdout",
     "output_type": "stream",
     "text": [
      "[62, 100] loss: 0.042\n"
     ]
    },
    {
     "name": "stderr",
     "output_type": "stream",
     "text": [
      " 71%|████████████████████████████████████████████████████████████▉                         | 200/282 [02:54<01:11,  1.15it/s]"
     ]
    },
    {
     "name": "stdout",
     "output_type": "stream",
     "text": [
      "[62, 200] loss: 0.041\n"
     ]
    },
    {
     "name": "stderr",
     "output_type": "stream",
     "text": [
      "100%|██████████████████████████████████████████████████████████████████████████████████████| 282/282 [04:05<00:00,  1.15it/s]\n",
      " 35%|██████████████████████████████▍                                                       | 100/282 [01:27<02:38,  1.15it/s]"
     ]
    },
    {
     "name": "stdout",
     "output_type": "stream",
     "text": [
      "[63, 100] loss: 0.037\n"
     ]
    },
    {
     "name": "stderr",
     "output_type": "stream",
     "text": [
      " 71%|████████████████████████████████████████████████████████████▉                         | 200/282 [02:54<01:11,  1.15it/s]"
     ]
    },
    {
     "name": "stdout",
     "output_type": "stream",
     "text": [
      "[63, 200] loss: 0.041\n"
     ]
    },
    {
     "name": "stderr",
     "output_type": "stream",
     "text": [
      "100%|██████████████████████████████████████████████████████████████████████████████████████| 282/282 [04:05<00:00,  1.15it/s]\n",
      " 35%|██████████████████████████████▍                                                       | 100/282 [01:27<02:38,  1.15it/s]"
     ]
    },
    {
     "name": "stdout",
     "output_type": "stream",
     "text": [
      "[64, 100] loss: 0.039\n"
     ]
    },
    {
     "name": "stderr",
     "output_type": "stream",
     "text": [
      " 71%|████████████████████████████████████████████████████████████▉                         | 200/282 [02:54<01:11,  1.15it/s]"
     ]
    },
    {
     "name": "stdout",
     "output_type": "stream",
     "text": [
      "[64, 200] loss: 0.038\n"
     ]
    },
    {
     "name": "stderr",
     "output_type": "stream",
     "text": [
      "100%|██████████████████████████████████████████████████████████████████████████████████████| 282/282 [04:05<00:00,  1.15it/s]\n",
      " 35%|██████████████████████████████▍                                                       | 100/282 [01:27<02:38,  1.15it/s]"
     ]
    },
    {
     "name": "stdout",
     "output_type": "stream",
     "text": [
      "[65, 100] loss: 0.038\n"
     ]
    },
    {
     "name": "stderr",
     "output_type": "stream",
     "text": [
      " 71%|████████████████████████████████████████████████████████████▉                         | 200/282 [02:54<01:11,  1.15it/s]"
     ]
    },
    {
     "name": "stdout",
     "output_type": "stream",
     "text": [
      "[65, 200] loss: 0.041\n"
     ]
    },
    {
     "name": "stderr",
     "output_type": "stream",
     "text": [
      "100%|██████████████████████████████████████████████████████████████████████████████████████| 282/282 [04:05<00:00,  1.15it/s]"
     ]
    },
    {
     "name": "stdout",
     "output_type": "stream",
     "text": [
      "Early stopping\n",
      "Finished Training Teacher\n"
     ]
    },
    {
     "name": "stderr",
     "output_type": "stream",
     "text": [
      "\n"
     ]
    }
   ],
   "source": [
    "teacher_resnet32x4 = train_teacher('resnet_32x4', teacher_model, trainloader, criterion, teacher_optimizer, teacher_scheduler, num_epochs=260, patience=5)\n"
   ]
  },
  {
   "cell_type": "markdown",
   "id": "b100ebbb-97d0-459a-a26f-3e62299fd6ff",
   "metadata": {},
   "source": [
    "## Extract Class Weights for Norm and Direction"
   ]
  },
  {
   "cell_type": "markdown",
   "id": "3ade374e-af03-49f7-b88d-b1308479820e",
   "metadata": {},
   "source": [
    "## Train Leaderboard Student Models"
   ]
  },
  {
   "cell_type": "markdown",
   "id": "da8c2041-5f41-47cc-9f2b-3729a8f1100d",
   "metadata": {},
   "source": [
    "## Save Models and Weights"
   ]
  },
  {
   "cell_type": "code",
   "execution_count": null,
   "id": "b79c6094-8e8b-4c15-a886-3222640db9ca",
   "metadata": {},
   "outputs": [],
   "source": [
    "###################### Saving weights and movel using s3 bucket ######################\n",
    "\n",
    "session = boto3.session.Session()\n",
    "s3 = session.client('s3')\n",
    "\n",
    "bucket_name = '210bucket' \n",
    "\n",
    "# Teacher Model\n",
    "#### IMPORTANT!!!!! Change the file name so that you do not overwrite the existing files\n",
    "teacher_model_weights_path = 'weights/teacher_model_weights_resnet8_4.pth'\n",
    "teacher_model_path = 'models/testing_teacher_model_resnet8_4.pth'\n",
    "\n",
    "# Save state dict to buffer\n",
    "teacher_model_weights_buffer = io.BytesIO()\n",
    "torch.save(teacher_model.state_dict(), teacher_model_weights_buffer)\n",
    "teacher_model_weights_buffer.seek(0)\n",
    "\n",
    "# Save entire model to buffer\n",
    "teacher_model_buffer = io.BytesIO()\n",
    "torch.save(teacher_model, teacher_model_buffer)\n",
    "teacher_model_buffer.seek(0)\n",
    "\n",
    "# Upload to S3\n",
    "s3.put_object(Bucket=bucket_name, Key=teacher_model_weights_path, Body=teacher_model_weights_buffer)\n",
    "s3.put_object(Bucket=bucket_name, Key=teacher_model_path, Body=teacher_model_buffer)\n",
    "print('teacher weights and architecture saved and exported to S3')\n",
    "\n",
    "# # Student Model\n",
    "# #### IMPORTANT!!!!! Change the file name so that you do not overwrite the existing files\n",
    "# student_model_weights_path = 'weights/student_model_weights.pth' \n",
    "# student_model_path = 'models/student_model.pth'\n",
    "\n",
    "# # Save state dict to buffer\n",
    "# student_model_weights_buffer = io.BytesIO()\n",
    "# torch.save(student_model.state_dict(), student_model_weights_buffer)\n",
    "# student_model_weights_buffer.seek(0)\n",
    "\n",
    "# # Save entire model to buffer\n",
    "# student_model_buffer = io.BytesIO()\n",
    "# torch.save(student_model, student_model_buffer)\n",
    "# student_model_buffer.seek(0)\n",
    "\n",
    "# # Upload to S3\n",
    "# s3.put_object(Bucket=bucket_name, Key=student_model_weights_path, Body=student_model_weights_buffer)\n",
    "# s3.put_object(Bucket=bucket_name, Key=student_model_path, Body=student_model_buffer)\n",
    "# print('student weights and architecture saved and exported to S3')"
   ]
  },
  {
   "cell_type": "markdown",
   "id": "d6731e70-0e45-4569-a2d1-15a459a05e9f",
   "metadata": {},
   "source": [
    "## Read Models and Weights"
   ]
  },
  {
   "cell_type": "code",
   "execution_count": 5,
   "id": "6b0894a3-e04a-4d27-a0b9-7b795e15ed59",
   "metadata": {
    "scrolled": true
   },
   "outputs": [
    {
     "data": {
      "text/plain": [
       "ResNet(\n",
       "  (conv1): Conv2d(3, 32, kernel_size=(3, 3), stride=(1, 1), padding=(1, 1), bias=False)\n",
       "  (bn1): BatchNorm2d(32, eps=1e-05, momentum=0.1, affine=True, track_running_stats=True)\n",
       "  (relu): ReLU(inplace=True)\n",
       "  (layer1): Sequential(\n",
       "    (0): BasicBlock(\n",
       "      (conv1): Conv2d(32, 64, kernel_size=(3, 3), stride=(1, 1), padding=(1, 1), bias=False)\n",
       "      (bn1): BatchNorm2d(64, eps=1e-05, momentum=0.1, affine=True, track_running_stats=True)\n",
       "      (relu): ReLU(inplace=True)\n",
       "      (conv2): Conv2d(64, 64, kernel_size=(3, 3), stride=(1, 1), padding=(1, 1), bias=False)\n",
       "      (bn2): BatchNorm2d(64, eps=1e-05, momentum=0.1, affine=True, track_running_stats=True)\n",
       "      (downsample): Sequential(\n",
       "        (0): Conv2d(32, 64, kernel_size=(1, 1), stride=(1, 1), bias=False)\n",
       "        (1): BatchNorm2d(64, eps=1e-05, momentum=0.1, affine=True, track_running_stats=True)\n",
       "      )\n",
       "    )\n",
       "    (1): BasicBlock(\n",
       "      (conv1): Conv2d(64, 64, kernel_size=(3, 3), stride=(1, 1), padding=(1, 1), bias=False)\n",
       "      (bn1): BatchNorm2d(64, eps=1e-05, momentum=0.1, affine=True, track_running_stats=True)\n",
       "      (relu): ReLU(inplace=True)\n",
       "      (conv2): Conv2d(64, 64, kernel_size=(3, 3), stride=(1, 1), padding=(1, 1), bias=False)\n",
       "      (bn2): BatchNorm2d(64, eps=1e-05, momentum=0.1, affine=True, track_running_stats=True)\n",
       "    )\n",
       "    (2): BasicBlock(\n",
       "      (conv1): Conv2d(64, 64, kernel_size=(3, 3), stride=(1, 1), padding=(1, 1), bias=False)\n",
       "      (bn1): BatchNorm2d(64, eps=1e-05, momentum=0.1, affine=True, track_running_stats=True)\n",
       "      (relu): ReLU(inplace=True)\n",
       "      (conv2): Conv2d(64, 64, kernel_size=(3, 3), stride=(1, 1), padding=(1, 1), bias=False)\n",
       "      (bn2): BatchNorm2d(64, eps=1e-05, momentum=0.1, affine=True, track_running_stats=True)\n",
       "    )\n",
       "    (3): BasicBlock(\n",
       "      (conv1): Conv2d(64, 64, kernel_size=(3, 3), stride=(1, 1), padding=(1, 1), bias=False)\n",
       "      (bn1): BatchNorm2d(64, eps=1e-05, momentum=0.1, affine=True, track_running_stats=True)\n",
       "      (relu): ReLU(inplace=True)\n",
       "      (conv2): Conv2d(64, 64, kernel_size=(3, 3), stride=(1, 1), padding=(1, 1), bias=False)\n",
       "      (bn2): BatchNorm2d(64, eps=1e-05, momentum=0.1, affine=True, track_running_stats=True)\n",
       "    )\n",
       "    (4): BasicBlock(\n",
       "      (conv1): Conv2d(64, 64, kernel_size=(3, 3), stride=(1, 1), padding=(1, 1), bias=False)\n",
       "      (bn1): BatchNorm2d(64, eps=1e-05, momentum=0.1, affine=True, track_running_stats=True)\n",
       "      (relu): ReLU(inplace=True)\n",
       "      (conv2): Conv2d(64, 64, kernel_size=(3, 3), stride=(1, 1), padding=(1, 1), bias=False)\n",
       "      (bn2): BatchNorm2d(64, eps=1e-05, momentum=0.1, affine=True, track_running_stats=True)\n",
       "    )\n",
       "  )\n",
       "  (layer2): Sequential(\n",
       "    (0): BasicBlock(\n",
       "      (conv1): Conv2d(64, 128, kernel_size=(3, 3), stride=(2, 2), padding=(1, 1), bias=False)\n",
       "      (bn1): BatchNorm2d(128, eps=1e-05, momentum=0.1, affine=True, track_running_stats=True)\n",
       "      (relu): ReLU(inplace=True)\n",
       "      (conv2): Conv2d(128, 128, kernel_size=(3, 3), stride=(1, 1), padding=(1, 1), bias=False)\n",
       "      (bn2): BatchNorm2d(128, eps=1e-05, momentum=0.1, affine=True, track_running_stats=True)\n",
       "      (downsample): Sequential(\n",
       "        (0): Conv2d(64, 128, kernel_size=(1, 1), stride=(2, 2), bias=False)\n",
       "        (1): BatchNorm2d(128, eps=1e-05, momentum=0.1, affine=True, track_running_stats=True)\n",
       "      )\n",
       "    )\n",
       "    (1): BasicBlock(\n",
       "      (conv1): Conv2d(128, 128, kernel_size=(3, 3), stride=(1, 1), padding=(1, 1), bias=False)\n",
       "      (bn1): BatchNorm2d(128, eps=1e-05, momentum=0.1, affine=True, track_running_stats=True)\n",
       "      (relu): ReLU(inplace=True)\n",
       "      (conv2): Conv2d(128, 128, kernel_size=(3, 3), stride=(1, 1), padding=(1, 1), bias=False)\n",
       "      (bn2): BatchNorm2d(128, eps=1e-05, momentum=0.1, affine=True, track_running_stats=True)\n",
       "    )\n",
       "    (2): BasicBlock(\n",
       "      (conv1): Conv2d(128, 128, kernel_size=(3, 3), stride=(1, 1), padding=(1, 1), bias=False)\n",
       "      (bn1): BatchNorm2d(128, eps=1e-05, momentum=0.1, affine=True, track_running_stats=True)\n",
       "      (relu): ReLU(inplace=True)\n",
       "      (conv2): Conv2d(128, 128, kernel_size=(3, 3), stride=(1, 1), padding=(1, 1), bias=False)\n",
       "      (bn2): BatchNorm2d(128, eps=1e-05, momentum=0.1, affine=True, track_running_stats=True)\n",
       "    )\n",
       "    (3): BasicBlock(\n",
       "      (conv1): Conv2d(128, 128, kernel_size=(3, 3), stride=(1, 1), padding=(1, 1), bias=False)\n",
       "      (bn1): BatchNorm2d(128, eps=1e-05, momentum=0.1, affine=True, track_running_stats=True)\n",
       "      (relu): ReLU(inplace=True)\n",
       "      (conv2): Conv2d(128, 128, kernel_size=(3, 3), stride=(1, 1), padding=(1, 1), bias=False)\n",
       "      (bn2): BatchNorm2d(128, eps=1e-05, momentum=0.1, affine=True, track_running_stats=True)\n",
       "    )\n",
       "    (4): BasicBlock(\n",
       "      (conv1): Conv2d(128, 128, kernel_size=(3, 3), stride=(1, 1), padding=(1, 1), bias=False)\n",
       "      (bn1): BatchNorm2d(128, eps=1e-05, momentum=0.1, affine=True, track_running_stats=True)\n",
       "      (relu): ReLU(inplace=True)\n",
       "      (conv2): Conv2d(128, 128, kernel_size=(3, 3), stride=(1, 1), padding=(1, 1), bias=False)\n",
       "      (bn2): BatchNorm2d(128, eps=1e-05, momentum=0.1, affine=True, track_running_stats=True)\n",
       "    )\n",
       "  )\n",
       "  (layer3): Sequential(\n",
       "    (0): BasicBlock(\n",
       "      (conv1): Conv2d(128, 256, kernel_size=(3, 3), stride=(2, 2), padding=(1, 1), bias=False)\n",
       "      (bn1): BatchNorm2d(256, eps=1e-05, momentum=0.1, affine=True, track_running_stats=True)\n",
       "      (relu): ReLU(inplace=True)\n",
       "      (conv2): Conv2d(256, 256, kernel_size=(3, 3), stride=(1, 1), padding=(1, 1), bias=False)\n",
       "      (bn2): BatchNorm2d(256, eps=1e-05, momentum=0.1, affine=True, track_running_stats=True)\n",
       "      (downsample): Sequential(\n",
       "        (0): Conv2d(128, 256, kernel_size=(1, 1), stride=(2, 2), bias=False)\n",
       "        (1): BatchNorm2d(256, eps=1e-05, momentum=0.1, affine=True, track_running_stats=True)\n",
       "      )\n",
       "    )\n",
       "    (1): BasicBlock(\n",
       "      (conv1): Conv2d(256, 256, kernel_size=(3, 3), stride=(1, 1), padding=(1, 1), bias=False)\n",
       "      (bn1): BatchNorm2d(256, eps=1e-05, momentum=0.1, affine=True, track_running_stats=True)\n",
       "      (relu): ReLU(inplace=True)\n",
       "      (conv2): Conv2d(256, 256, kernel_size=(3, 3), stride=(1, 1), padding=(1, 1), bias=False)\n",
       "      (bn2): BatchNorm2d(256, eps=1e-05, momentum=0.1, affine=True, track_running_stats=True)\n",
       "    )\n",
       "    (2): BasicBlock(\n",
       "      (conv1): Conv2d(256, 256, kernel_size=(3, 3), stride=(1, 1), padding=(1, 1), bias=False)\n",
       "      (bn1): BatchNorm2d(256, eps=1e-05, momentum=0.1, affine=True, track_running_stats=True)\n",
       "      (relu): ReLU(inplace=True)\n",
       "      (conv2): Conv2d(256, 256, kernel_size=(3, 3), stride=(1, 1), padding=(1, 1), bias=False)\n",
       "      (bn2): BatchNorm2d(256, eps=1e-05, momentum=0.1, affine=True, track_running_stats=True)\n",
       "    )\n",
       "    (3): BasicBlock(\n",
       "      (conv1): Conv2d(256, 256, kernel_size=(3, 3), stride=(1, 1), padding=(1, 1), bias=False)\n",
       "      (bn1): BatchNorm2d(256, eps=1e-05, momentum=0.1, affine=True, track_running_stats=True)\n",
       "      (relu): ReLU(inplace=True)\n",
       "      (conv2): Conv2d(256, 256, kernel_size=(3, 3), stride=(1, 1), padding=(1, 1), bias=False)\n",
       "      (bn2): BatchNorm2d(256, eps=1e-05, momentum=0.1, affine=True, track_running_stats=True)\n",
       "    )\n",
       "    (4): BasicBlock(\n",
       "      (conv1): Conv2d(256, 256, kernel_size=(3, 3), stride=(1, 1), padding=(1, 1), bias=False)\n",
       "      (bn1): BatchNorm2d(256, eps=1e-05, momentum=0.1, affine=True, track_running_stats=True)\n",
       "      (relu): ReLU(inplace=True)\n",
       "      (conv2): Conv2d(256, 256, kernel_size=(3, 3), stride=(1, 1), padding=(1, 1), bias=False)\n",
       "      (bn2): BatchNorm2d(256, eps=1e-05, momentum=0.1, affine=True, track_running_stats=True)\n",
       "    )\n",
       "  )\n",
       "  (avgpool): AvgPool2d(kernel_size=8, stride=8, padding=0)\n",
       "  (fc): Linear(in_features=12544, out_features=10, bias=True)\n",
       ")"
      ]
     },
     "execution_count": 5,
     "metadata": {},
     "output_type": "execute_result"
    }
   ],
   "source": [
    "# Initialize a session using Boto3 again \n",
    "session = boto3.session.Session()\n",
    "\n",
    "s3 = session.client('s3')\n",
    "bucket_name = '210bucket'  \n",
    "\n",
    "teacher_model_weights_s3_path = 'weights/idenprof_teacher_resnet32x4_weights.pth'\n",
    "# student_model_weights_s3_path = 'weights/testing_student_model_weights_rkd_prof.pth'\n",
    "\n",
    "# Read files directly into memory\n",
    "teacher_model_weights_buffer = io.BytesIO()\n",
    "# student_model_weights_buffer = io.BytesIO()\n",
    "\n",
    "s3.download_fileobj(bucket_name, teacher_model_weights_s3_path, teacher_model_weights_buffer)\n",
    "# s3.download_fileobj(bucket_name, student_model_weights_s3_path, student_model_weights_buffer)\n",
    "\n",
    "# Load the weights into the models\n",
    "teacher_model_weights_buffer.seek(0)  # Move to the beginning of the buffer\n",
    "# student_model_weights_buffer.seek(0)  \n",
    "\n",
    "######## MAKE SURE THAT YOU HAVE THE CORRECT MODELS FOR WEIGHTS ########\n",
    "# Teacher\n",
    "# teacher_name = 'resnet8x4_idenprof'\n",
    "teacher_name = 'resnet32x4_idenprof'\n",
    "teacher_model = models_package.__dict__[teacher_name](num_class=10)\n",
    "teacher_model.fc = nn.Linear(teacher_model.fc.in_features, 10)\n",
    "teacher_model.load_state_dict(torch.load(teacher_model_weights_buffer))\n",
    "teacher_model.eval()\n",
    "# # Student\n",
    "# student_model = CustomResNet18()\n",
    "# student_model.load_state_dict(torch.load(student_model_weights_buffer))\n"
   ]
  },
  {
   "cell_type": "code",
   "execution_count": 4,
   "id": "afb4da13-d912-47e5-bef7-c0f571b343e0",
   "metadata": {},
   "outputs": [],
   "source": [
    "# Calling the function\n",
    "model_name = 'resnet32x4_idenprof'\n",
    "model_weight_path = 'weights/idenprof_teacher_resnet32x4_weights.pth'\n",
    "num_class = 10\n",
    "data_name = 'idenprof'  \n",
    "batch_size = 32  \n",
    "bucket_name = '210bucket'  \n"
   ]
  },
  {
   "cell_type": "code",
   "execution_count": 5,
   "id": "a0cba112-38ca-4ed0-925e-ca4798f6aa4b",
   "metadata": {
    "scrolled": true
   },
   "outputs": [
    {
     "name": "stdout",
     "output_type": "stream",
     "text": [
      "Keys in checkpoint: odict_keys(['conv1.weight', 'bn1.weight', 'bn1.bias', 'bn1.running_mean', 'bn1.running_var', 'bn1.num_batches_tracked', 'layer1.0.conv1.weight', 'layer1.0.bn1.weight', 'layer1.0.bn1.bias', 'layer1.0.bn1.running_mean', 'layer1.0.bn1.running_var', 'layer1.0.bn1.num_batches_tracked', 'layer1.0.conv2.weight', 'layer1.0.bn2.weight', 'layer1.0.bn2.bias', 'layer1.0.bn2.running_mean', 'layer1.0.bn2.running_var', 'layer1.0.bn2.num_batches_tracked', 'layer1.0.downsample.0.weight', 'layer1.0.downsample.1.weight', 'layer1.0.downsample.1.bias', 'layer1.0.downsample.1.running_mean', 'layer1.0.downsample.1.running_var', 'layer1.0.downsample.1.num_batches_tracked', 'layer1.1.conv1.weight', 'layer1.1.bn1.weight', 'layer1.1.bn1.bias', 'layer1.1.bn1.running_mean', 'layer1.1.bn1.running_var', 'layer1.1.bn1.num_batches_tracked', 'layer1.1.conv2.weight', 'layer1.1.bn2.weight', 'layer1.1.bn2.bias', 'layer1.1.bn2.running_mean', 'layer1.1.bn2.running_var', 'layer1.1.bn2.num_batches_tracked', 'layer1.2.conv1.weight', 'layer1.2.bn1.weight', 'layer1.2.bn1.bias', 'layer1.2.bn1.running_mean', 'layer1.2.bn1.running_var', 'layer1.2.bn1.num_batches_tracked', 'layer1.2.conv2.weight', 'layer1.2.bn2.weight', 'layer1.2.bn2.bias', 'layer1.2.bn2.running_mean', 'layer1.2.bn2.running_var', 'layer1.2.bn2.num_batches_tracked', 'layer1.3.conv1.weight', 'layer1.3.bn1.weight', 'layer1.3.bn1.bias', 'layer1.3.bn1.running_mean', 'layer1.3.bn1.running_var', 'layer1.3.bn1.num_batches_tracked', 'layer1.3.conv2.weight', 'layer1.3.bn2.weight', 'layer1.3.bn2.bias', 'layer1.3.bn2.running_mean', 'layer1.3.bn2.running_var', 'layer1.3.bn2.num_batches_tracked', 'layer1.4.conv1.weight', 'layer1.4.bn1.weight', 'layer1.4.bn1.bias', 'layer1.4.bn1.running_mean', 'layer1.4.bn1.running_var', 'layer1.4.bn1.num_batches_tracked', 'layer1.4.conv2.weight', 'layer1.4.bn2.weight', 'layer1.4.bn2.bias', 'layer1.4.bn2.running_mean', 'layer1.4.bn2.running_var', 'layer1.4.bn2.num_batches_tracked', 'layer2.0.conv1.weight', 'layer2.0.bn1.weight', 'layer2.0.bn1.bias', 'layer2.0.bn1.running_mean', 'layer2.0.bn1.running_var', 'layer2.0.bn1.num_batches_tracked', 'layer2.0.conv2.weight', 'layer2.0.bn2.weight', 'layer2.0.bn2.bias', 'layer2.0.bn2.running_mean', 'layer2.0.bn2.running_var', 'layer2.0.bn2.num_batches_tracked', 'layer2.0.downsample.0.weight', 'layer2.0.downsample.1.weight', 'layer2.0.downsample.1.bias', 'layer2.0.downsample.1.running_mean', 'layer2.0.downsample.1.running_var', 'layer2.0.downsample.1.num_batches_tracked', 'layer2.1.conv1.weight', 'layer2.1.bn1.weight', 'layer2.1.bn1.bias', 'layer2.1.bn1.running_mean', 'layer2.1.bn1.running_var', 'layer2.1.bn1.num_batches_tracked', 'layer2.1.conv2.weight', 'layer2.1.bn2.weight', 'layer2.1.bn2.bias', 'layer2.1.bn2.running_mean', 'layer2.1.bn2.running_var', 'layer2.1.bn2.num_batches_tracked', 'layer2.2.conv1.weight', 'layer2.2.bn1.weight', 'layer2.2.bn1.bias', 'layer2.2.bn1.running_mean', 'layer2.2.bn1.running_var', 'layer2.2.bn1.num_batches_tracked', 'layer2.2.conv2.weight', 'layer2.2.bn2.weight', 'layer2.2.bn2.bias', 'layer2.2.bn2.running_mean', 'layer2.2.bn2.running_var', 'layer2.2.bn2.num_batches_tracked', 'layer2.3.conv1.weight', 'layer2.3.bn1.weight', 'layer2.3.bn1.bias', 'layer2.3.bn1.running_mean', 'layer2.3.bn1.running_var', 'layer2.3.bn1.num_batches_tracked', 'layer2.3.conv2.weight', 'layer2.3.bn2.weight', 'layer2.3.bn2.bias', 'layer2.3.bn2.running_mean', 'layer2.3.bn2.running_var', 'layer2.3.bn2.num_batches_tracked', 'layer2.4.conv1.weight', 'layer2.4.bn1.weight', 'layer2.4.bn1.bias', 'layer2.4.bn1.running_mean', 'layer2.4.bn1.running_var', 'layer2.4.bn1.num_batches_tracked', 'layer2.4.conv2.weight', 'layer2.4.bn2.weight', 'layer2.4.bn2.bias', 'layer2.4.bn2.running_mean', 'layer2.4.bn2.running_var', 'layer2.4.bn2.num_batches_tracked', 'layer3.0.conv1.weight', 'layer3.0.bn1.weight', 'layer3.0.bn1.bias', 'layer3.0.bn1.running_mean', 'layer3.0.bn1.running_var', 'layer3.0.bn1.num_batches_tracked', 'layer3.0.conv2.weight', 'layer3.0.bn2.weight', 'layer3.0.bn2.bias', 'layer3.0.bn2.running_mean', 'layer3.0.bn2.running_var', 'layer3.0.bn2.num_batches_tracked', 'layer3.0.downsample.0.weight', 'layer3.0.downsample.1.weight', 'layer3.0.downsample.1.bias', 'layer3.0.downsample.1.running_mean', 'layer3.0.downsample.1.running_var', 'layer3.0.downsample.1.num_batches_tracked', 'layer3.1.conv1.weight', 'layer3.1.bn1.weight', 'layer3.1.bn1.bias', 'layer3.1.bn1.running_mean', 'layer3.1.bn1.running_var', 'layer3.1.bn1.num_batches_tracked', 'layer3.1.conv2.weight', 'layer3.1.bn2.weight', 'layer3.1.bn2.bias', 'layer3.1.bn2.running_mean', 'layer3.1.bn2.running_var', 'layer3.1.bn2.num_batches_tracked', 'layer3.2.conv1.weight', 'layer3.2.bn1.weight', 'layer3.2.bn1.bias', 'layer3.2.bn1.running_mean', 'layer3.2.bn1.running_var', 'layer3.2.bn1.num_batches_tracked', 'layer3.2.conv2.weight', 'layer3.2.bn2.weight', 'layer3.2.bn2.bias', 'layer3.2.bn2.running_mean', 'layer3.2.bn2.running_var', 'layer3.2.bn2.num_batches_tracked', 'layer3.3.conv1.weight', 'layer3.3.bn1.weight', 'layer3.3.bn1.bias', 'layer3.3.bn1.running_mean', 'layer3.3.bn1.running_var', 'layer3.3.bn1.num_batches_tracked', 'layer3.3.conv2.weight', 'layer3.3.bn2.weight', 'layer3.3.bn2.bias', 'layer3.3.bn2.running_mean', 'layer3.3.bn2.running_var', 'layer3.3.bn2.num_batches_tracked', 'layer3.4.conv1.weight', 'layer3.4.bn1.weight', 'layer3.4.bn1.bias', 'layer3.4.bn1.running_mean', 'layer3.4.bn1.running_var', 'layer3.4.bn1.num_batches_tracked', 'layer3.4.conv2.weight', 'layer3.4.bn2.weight', 'layer3.4.bn2.bias', 'layer3.4.bn2.running_mean', 'layer3.4.bn2.running_var', 'layer3.4.bn2.num_batches_tracked', 'fc.weight', 'fc.bias'])\n"
     ]
    }
   ],
   "source": [
    "session = boto3.session.Session()\n",
    "s3 = session.client('s3')\n",
    "\n",
    "teacher_model_weights_buffer = io.BytesIO()\n",
    "s3.download_fileobj(bucket_name, model_weight_path, teacher_model_weights_buffer)\n",
    "teacher_model_weights_buffer.seek(0)  \n",
    "\n",
    "# Load the model\n",
    "model = models_package.__dict__[model_name](num_class=num_class)\n",
    "checkpoint = torch.load(teacher_model_weights_buffer)\n",
    "print(\"Keys in checkpoint:\", checkpoint.keys())"
   ]
  },
  {
   "cell_type": "code",
   "execution_count": 7,
   "id": "b2eeb83d-334b-4d55-8a38-ce7679c09b0f",
   "metadata": {},
   "outputs": [],
   "source": [
    "import boto3\n",
    "import io\n",
    "import os\n",
    "import torch\n",
    "import torch.nn as nn\n",
    "from collections import OrderedDict\n",
    "import json\n",
    "import models_package  \n",
    "import numpy as np\n",
    "\n",
    "\n",
    "# Function definitions\n",
    "def get_lindsey_emb_fea(model, dataloader, batch_size):\n",
    "    # Define the device\n",
    "    device = torch.device('cuda' if torch.cuda.is_available() else 'cpu')\n",
    "    model.to(device)\n",
    "    model.eval() \n",
    "    embeddings = []\n",
    "\n",
    "    with torch.no_grad(): \n",
    "        for data in dataloader:\n",
    "            inputs, labels = data\n",
    "            inputs = inputs.to(device)\n",
    "\n",
    "            output = model(inputs)\n",
    "\n",
    "            if isinstance(output, tuple):\n",
    "                output = output[0]\n",
    "\n",
    "            embeddings.append(output.cpu().numpy())\n",
    "\n",
    "    embeddings = np.concatenate(embeddings, axis=0).tolist() \n",
    "    return embeddings\n",
    "\n",
    "\n",
    "def get_emb_fea(model, dataloader, batch_size):\n",
    "    ''' Used to extract the feature embeddings in a teacher model '''\n",
    "    model.eval()\n",
    "\n",
    "    EMB = {}\n",
    "\n",
    "    with torch.no_grad():\n",
    "        for images, labels in dataloader:\n",
    "            images, labels = images.cuda(), labels.cuda()\n",
    "\n",
    "            # compute output\n",
    "            emb_fea, logits = model(images, embed=True)\n",
    "\n",
    "            for emb, i in zip(emb_fea, labels):\n",
    "                i = i.item()\n",
    "                emb_size = len(emb) \n",
    "                if str(i) in EMB:\n",
    "                    for j in range(emb_size):\n",
    "                        EMB[str(i)][j].append(round(emb[j].item(), 4))\n",
    "                else:\n",
    "                    EMB[str(i)] = [[] for _ in range(emb_size)]\n",
    "                    for j in range(emb_size):\n",
    "                        EMB[str(i)][j].append(round(emb[j].item(), 4))\n",
    "\n",
    "    for key, value in EMB.items():\n",
    "        for i in range(emb_size):\n",
    "            EMB[key][i] = round(np.array(EMB[key][i]).mean(), 4)\n",
    "\n",
    "    return EMB\n",
    "\n",
    "\n",
    "def retrieve_teacher_class_weights(model_name, model_weight_path, num_class, data_name, dataloader, batch_size, bucket_name):\n",
    "    ''' Use the extracted feature embeddings to create a json of class means for teacher'''\n",
    "\n",
    "    session = boto3.session.Session()\n",
    "    s3 = session.client('s3')\n",
    "\n",
    "    teacher_model_weights_buffer = io.BytesIO()\n",
    "    s3.download_fileobj(bucket_name, model_weight_path, teacher_model_weights_buffer)\n",
    "    teacher_model_weights_buffer.seek(0)  \n",
    "\n",
    "    # Load the model\n",
    "    model = models_package.__dict__[model_name](num_class=num_class)\n",
    "    checkpoint = torch.load(teacher_model_weights_buffer)\n",
    "    # print(\"Keys in checkpoint:\", checkpoint.keys())\n",
    "    print(\"model is loaded properly\")\n",
    "\n",
    "    new_state_dict = OrderedDict()\n",
    "    for k, v in checkpoint.items():\n",
    "        name = k[7:] if k.startswith('module.') else k\n",
    "        new_state_dict[name] = v\n",
    "    model.load_state_dict(new_state_dict)\n",
    "    model.eval()\n",
    "\n",
    "    for param in model.parameters():\n",
    "        param.requires_grad = False\n",
    "    \n",
    "    model = model.cuda()\n",
    "\n",
    "    # emb = get_emb_fea(model=model, dataloader=dataloader, batch_size=batch_size)\n",
    "    # emb_json = json.dumps(emb, indent=4)\n",
    "    # with open(\"./class_means/{}_embedding_fea/{}.json\".format(data_name, model_name), 'w', encoding='utf-8') as f:\n",
    "    #     f.write(emb_json)\n",
    "\n",
    "    emb = get_emb_fea(model=model, dataloader=dataloader, batch_size=batch_size)\n",
    "    emb_json = json.dumps(emb, indent=4)\n",
    "\n",
    "    # Create the directory if it doesn't exist\n",
    "    output_dir = \"./class_means/{}_embedding_fea\".format(data_name)\n",
    "    os.makedirs(output_dir, exist_ok=True)\n",
    "\n",
    "    with open(\"{}/{}.json\".format(output_dir, model_name), 'w', encoding='utf-8') as f:\n",
    "        f.write(emb_json)"
   ]
  },
  {
   "cell_type": "code",
   "execution_count": 7,
   "id": "ac2bde0b-c7d5-4187-b912-f4a5104c4383",
   "metadata": {
    "scrolled": true
   },
   "outputs": [
    {
     "name": "stdout",
     "output_type": "stream",
     "text": [
      "model is loaded properly\n"
     ]
    }
   ],
   "source": [
    "retrieve_teacher_class_weights(model_name, model_weight_path, num_class, data_name, testloader, batch_size, bucket_name)"
   ]
  },
  {
   "cell_type": "markdown",
   "id": "5e712850-fc1f-416b-a689-d62bdb71852b",
   "metadata": {},
   "source": [
    "# Knowledge Distillation "
   ]
  },
  {
   "cell_type": "markdown",
   "id": "a37f9fbc-e1d5-47bd-8341-14d3a02cbcf2",
   "metadata": {},
   "source": [
    "## KD++"
   ]
  },
  {
   "cell_type": "code",
   "execution_count": 7,
   "id": "abee7056-3896-40d0-83cb-efb7357199f0",
   "metadata": {},
   "outputs": [],
   "source": [
    "## Training script\n",
    "\n",
    "def train(model, teacher, T_EMB, train_dataloader, optimizer, criterion, kd_loss, nd_loss, args, epoch):\n",
    "    train_loss = AverageMeter()\n",
    "    train_error = AverageMeter()\n",
    "\n",
    "    Cls_loss = AverageMeter()\n",
    "    Div_loss = AverageMeter()\n",
    "    Norm_Dir_loss = AverageMeter()\n",
    "\n",
    "    # Model on train mode\n",
    "    model.train()\n",
    "    teacher.eval()\n",
    "    step_per_epoch = len(train_dataloader)\n",
    "\n",
    "    for step, (images, labels) in enumerate(train_dataloader):\n",
    "        start = time.time()\n",
    "        if torch.cuda.is_available():\n",
    "            images, labels = images.cuda(), labels.cuda() \n",
    "\n",
    "            # compute output\n",
    "            s_emb, s_logits = model(images, embed=True)\n",
    "    \n",
    "            with torch.no_grad():\n",
    "                t_emb, t_logits = teacher(images, embed=True)\n",
    "    \n",
    "            # cls loss\n",
    "            cls_loss = criterion(s_logits, labels) * args.cls_loss_factor\n",
    "            # KD loss\n",
    "            div_loss = kd_loss(s_out = s_logits, t_out = t_logits) * min(1.0, epoch/args.warm_up)\n",
    "            # ND loss\n",
    "            norm_dir_loss = nd_loss(s_emb=s_emb, t_emb=t_emb, T_EMB=T_EMB, labels=labels)\n",
    "    \n",
    "            loss = cls_loss + div_loss + norm_dir_loss\n",
    "            # measure accuracy and record loss\n",
    "            batch_size = images.size(0)\n",
    "            _, pred = s_logits.data.cpu().topk(1, dim=1)\n",
    "            train_error.update(torch.ne(pred.squeeze(), labels.cpu()).float().sum().item() / batch_size, batch_size)\n",
    "            train_loss.update(loss.item(), batch_size)\n",
    "    \n",
    "            Cls_loss.update(cls_loss.item(), batch_size)\n",
    "            Div_loss.update(div_loss.item(), batch_size)\n",
    "            Norm_Dir_loss.update(norm_dir_loss.item(), batch_size)\n",
    "    \n",
    "            # compute gradient and do SGD step\n",
    "            optimizer.zero_grad()\n",
    "            loss.backward()\n",
    "            optimizer.step()\n",
    "\n",
    "            t = time.strftime('%Y-%m-%d %H:%M:%S', time.localtime(time.time()))\n",
    "            s1 = '\\r{} [{}/{}]'.format(t, step+1, step_per_epoch)\n",
    "            s2 = ' - {:.2f}ms/step - nd_loss: {:.3f} - kd_loss: {:.3f} - cls_loss: {:.3f} - train_loss: {:.3f} - train_acc: {:.3f}'.format(\n",
    "                 1000 * (time.time() - start), norm_dir_loss.item(), div_loss.item(), cls_loss.item(), train_loss.val, 1-train_error.val)\n",
    "    \n",
    "            print(s1+s2, end='', flush=True)\n",
    "\n",
    "    print()\n",
    "    return Norm_Dir_loss.avg, Div_loss.avg, Cls_loss.avg, train_loss.avg, train_error.avg\n",
    "\n",
    "\n",
    "def test(model, test_dataloader, criterion):\n",
    "    test_loss = AverageMeter()\n",
    "    test_error = AverageMeter()\n",
    "\n",
    "    # Model on eval mode\n",
    "    model.eval()\n",
    "\n",
    "    with torch.no_grad():\n",
    "        for images, labels in test_dataloader:\n",
    "            images, labels = images.cuda(), labels.cuda()\n",
    "\n",
    "            # compute logits\n",
    "            logits = model(images, embed=False)\n",
    "\n",
    "            loss = criterion(logits, labels)\n",
    "\n",
    "            # measure accuracy and record loss\n",
    "            batch_size = images.size(0)\n",
    "            _, pred = logits.data.cpu().topk(1, dim=1)\n",
    "            test_error.update(torch.ne(pred.squeeze(), labels.cpu()).float().sum().item() / batch_size, batch_size)\n",
    "            test_loss.update(loss.item(), batch_size)\n",
    "\n",
    "    return test_loss.avg, test_error.avg\n",
    "\n",
    "\n",
    "def epoch_loop(model, teacher, train_loader, test_loader, num_class, args):\n",
    "\n",
    "    device = \"cuda\" if torch.cuda.is_available() else \"cpu\"\n",
    "    # model = nn.DataParallel(model, device_ids=args.gpus)\n",
    "    model = nn.DataParallel(model)\n",
    "    model.to(device)\n",
    "    # teacher = nn.DataParallel(teacher, device_ids=args.gpus)\n",
    "    teacher = nn.DataParallel(teacher)\n",
    "    teacher.to(device)\n",
    "\n",
    "    # loss\n",
    "    criterion = nn.CrossEntropyLoss().to(device)\n",
    "    kd_loss = KDLoss(kl_loss_factor=args.kd_loss_factor, T=args.t).to(device)\n",
    "    nd_loss = DirectNormLoss(num_class=num_class, nd_loss_factor=args.nd_loss_factor).to(device)\n",
    "    # optimizer\n",
    "    optimizer = torch.optim.SGD(params=model.parameters(), lr=args.lr, momentum=args.momentum, weight_decay=args.weight_decay, nesterov=True)\n",
    "\n",
    "    # weights\n",
    "    save_dir = Path(args.save_dir)\n",
    "    weights = save_dir / 'weights'\n",
    "    weights.mkdir(parents=True, exist_ok=True)\n",
    "    last = weights / 'last'\n",
    "    best = weights / 'best'\n",
    "\n",
    "    # acc,loss\n",
    "    acc_loss = save_dir / 'acc_loss'\n",
    "    acc_loss.mkdir(parents=True, exist_ok=True)\n",
    "\n",
    "    train_acc_savepath = acc_loss / 'train_acc.npy'\n",
    "    train_loss_savepath = acc_loss / 'train_loss.npy'\n",
    "    val_acc_savepath = acc_loss / 'val_acc.npy'\n",
    "    val_loss_savepath = acc_loss / 'val_loss.npy'\n",
    "\n",
    "    # tensorboard\n",
    "    logdir = save_dir / 'logs'\n",
    "    logdir.mkdir(parents=True, exist_ok=True)\n",
    "    summary_writer = SummaryWriter(logdir, flush_secs=120)\n",
    "\n",
    "    # resume\n",
    "    if args.resume:\n",
    "        checkpoint = torch.load(args.resume)\n",
    "        start_epoch = checkpoint['epoch']\n",
    "        model.load_state_dict(checkpoint['model_state_dict'])\n",
    "        optimizer.load_state_dict(checkpoint['optimizer_state_dict'])\n",
    "        best_error = checkpoint['best_error']\n",
    "        train_acc = checkpoint['train_acc']\n",
    "        train_loss = checkpoint['train_loss']\n",
    "        test_acc = checkpoint['test_acc']\n",
    "        test_loss = checkpoint['test_loss']\n",
    "        logger.info(colorstr('green', 'Resuming training from {} epoch'.format(start_epoch)))\n",
    "    else:\n",
    "        start_epoch = 0\n",
    "        best_error = 0\n",
    "        train_acc = []\n",
    "        train_loss = []\n",
    "        test_acc = []\n",
    "        test_loss = []\n",
    "\n",
    "    # Train model\n",
    "    best_error = 1\n",
    "    for epoch in range(start_epoch, args.epochs):\n",
    "        if epoch in [150, 180, 210]:\n",
    "            for param_group in optimizer.param_groups:\n",
    "                param_group['lr'] *= 0.1\n",
    "        print(\"Epoch {}/{}\".format(epoch + 1, args.epochs))\n",
    "        norm_dir_loss, div_loss, cls_loss, train_epoch_loss, train_error = train(model=model,\n",
    "                                                                                 teacher=teacher,\n",
    "                                                                                 T_EMB=T_EMB,\n",
    "                                                                                 train_dataloader=train_loader,\n",
    "                                                                                 optimizer=optimizer,\n",
    "                                                                                 criterion=criterion,\n",
    "                                                                                 kd_loss=kd_loss,\n",
    "                                                                                 nd_loss=nd_loss,\n",
    "                                                                                 args=args,\n",
    "                                                                                 epoch=epoch)\n",
    "        test_epoch_loss, test_error = test(model=model,\n",
    "                                           test_dataloader=test_loader,\n",
    "                                           criterion=criterion)\n",
    "\n",
    "        s = \"Train Loss: {:.3f}, Train Acc: {:.3f}, Test Loss: {:.3f}, Test Acc: {:.3f}, lr: {:.5f}\".format(\n",
    "            train_epoch_loss, 1-train_error, test_epoch_loss, 1-test_error, optimizer.param_groups[0]['lr'])\n",
    "        logger.info(colorstr('green', s))\n",
    "\n",
    "        # save acc,loss\n",
    "        train_loss.append(train_epoch_loss)\n",
    "        train_acc.append(1-train_error)\n",
    "        test_loss.append(test_epoch_loss)\n",
    "        test_acc.append(1-test_error)\n",
    "\n",
    "        # save model\n",
    "        is_best = test_error < best_error\n",
    "        best_error = min(best_error, test_error)\n",
    "        state = {\n",
    "                'epoch': epoch + 1,\n",
    "                'model_state_dict': model.state_dict(),\n",
    "                'optimizer_state_dict': optimizer.state_dict(),\n",
    "                'best_error': best_error,\n",
    "                'train_acc': train_acc,\n",
    "                'train_loss': train_loss,\n",
    "                'test_acc': test_acc,\n",
    "                'test_loss': test_loss,\n",
    "            }\n",
    "\n",
    "        last_path = last / 'epoch_{}_loss_{:.3f}_acc_{:.3f}'.format(\n",
    "            epoch + 1, test_epoch_loss, 1-test_error)\n",
    "        best_path = best / 'epoch_{}_acc_{:.3f}'.format(\n",
    "                epoch + 1, 1-best_error)\n",
    "\n",
    "        Save_Checkpoint(state, last, last_path, best, best_path, is_best)\n",
    "\n",
    "        # tensorboard\n",
    "        if epoch == 1:\n",
    "            images, labels = next(iter(train_loader))\n",
    "            img_grid = torchvision.utils.make_grid(images)\n",
    "            summary_writer.add_image('Image', img_grid)\n",
    "        summary_writer.add_scalar('lr', optimizer.param_groups[0]['lr'], epoch)\n",
    "        summary_writer.add_scalar('train_loss', train_epoch_loss, epoch)\n",
    "        summary_writer.add_scalar('train_error', train_error, epoch)\n",
    "        summary_writer.add_scalar('val_loss', test_epoch_loss, epoch)\n",
    "        summary_writer.add_scalar('val_error', test_error, epoch)\n",
    "\n",
    "        summary_writer.add_scalar('nd_loss', norm_dir_loss, epoch)\n",
    "        summary_writer.add_scalar('kd_loss', div_loss, epoch)\n",
    "        summary_writer.add_scalar('cls_loss', cls_loss, epoch)\n",
    "\n",
    "    summary_writer.close()\n",
    "    import os\n",
    "    if not os.path.exists(train_acc_savepath) or not os.path.exists(train_loss_savepath):\n",
    "        np.save(train_acc_savepath, train_acc)\n",
    "        np.save(train_loss_savepath, train_loss)\n",
    "        np.save(val_acc_savepath, test_acc)\n",
    "        np.save(val_loss_savepath, test_loss)\n"
   ]
  },
  {
   "cell_type": "code",
   "execution_count": 8,
   "id": "66162974-65eb-437b-90d9-3ea46f5f1735",
   "metadata": {
    "editable": true,
    "scrolled": true,
    "slideshow": {
     "slide_type": ""
    },
    "tags": []
   },
   "outputs": [
    {
     "name": "stderr",
     "output_type": "stream",
     "text": [
      "19 Nov 2023 02:42:27 [line:84] \u001b[32mDistribute train, total batch size:128, epoch:240\u001b[0m\n",
      "19 Nov 2023 02:42:27 [line:1255] Found credentials in shared credentials file: ~/.aws/credentials\n"
     ]
    },
    {
     "name": "stdout",
     "output_type": "stream",
     "text": [
      "Load Teacher Weights\n"
     ]
    },
    {
     "name": "stderr",
     "output_type": "stream",
     "text": [
      "19 Nov 2023 02:42:29 [line:122] \u001b[32mUse resnet32x4_idenprof Training resnet8x4_idenprof ...\u001b[0m\n"
     ]
    },
    {
     "name": "stdout",
     "output_type": "stream",
     "text": [
      "Epoch 1/240\n",
      "2023-11-19 02:44:51 [141/141] - 508.69ms/step - nd_loss: 1.000 - kd_loss: 0.000 - cls_loss: 2.307 - train_loss: 3.307 - train_acc: 0.15009\n"
     ]
    },
    {
     "name": "stderr",
     "output_type": "stream",
     "text": [
      "19 Nov 2023 02:44:55 [line:175] \u001b[32mTrain Loss: 4.750, Train Acc: 0.140, Test Loss: 2.197, Test Acc: 0.193, lr: 0.10000\u001b[0m\n"
     ]
    },
    {
     "name": "stdout",
     "output_type": "stream",
     "text": [
      "Epoch 2/240\n",
      "2023-11-19 02:47:16 [141/141] - 451.49ms/step - nd_loss: 1.000 - kd_loss: 0.701 - cls_loss: 2.081 - train_loss: 3.781 - train_acc: 0.275\n"
     ]
    },
    {
     "name": "stderr",
     "output_type": "stream",
     "text": [
      "19 Nov 2023 02:47:20 [line:175] \u001b[32mTrain Loss: 3.825, Train Acc: 0.239, Test Loss: 2.224, Test Acc: 0.170, lr: 0.10000\u001b[0m\n"
     ]
    },
    {
     "name": "stdout",
     "output_type": "stream",
     "text": [
      "Epoch 3/240\n",
      "2023-11-19 02:49:42 [141/141] - 451.53ms/step - nd_loss: 0.999 - kd_loss: 1.517 - cls_loss: 2.394 - train_loss: 4.910 - train_acc: 0.325\n"
     ]
    },
    {
     "name": "stderr",
     "output_type": "stream",
     "text": [
      "19 Nov 2023 02:49:46 [line:175] \u001b[32mTrain Loss: 4.452, Train Acc: 0.274, Test Loss: 2.059, Test Acc: 0.261, lr: 0.10000\u001b[0m\n"
     ]
    },
    {
     "name": "stdout",
     "output_type": "stream",
     "text": [
      "Epoch 4/240\n",
      "2023-11-19 02:52:06 [141/141] - 450.64ms/step - nd_loss: 0.999 - kd_loss: 1.982 - cls_loss: 2.061 - train_loss: 5.042 - train_acc: 0.325\n"
     ]
    },
    {
     "name": "stderr",
     "output_type": "stream",
     "text": [
      "19 Nov 2023 02:52:10 [line:175] \u001b[32mTrain Loss: 5.100, Train Acc: 0.282, Test Loss: 2.140, Test Acc: 0.268, lr: 0.10000\u001b[0m\n"
     ]
    },
    {
     "name": "stdout",
     "output_type": "stream",
     "text": [
      "Epoch 5/240\n",
      "2023-11-19 02:54:31 [141/141] - 450.15ms/step - nd_loss: 0.999 - kd_loss: 2.394 - cls_loss: 1.927 - train_loss: 5.321 - train_acc: 0.300\n"
     ]
    },
    {
     "name": "stderr",
     "output_type": "stream",
     "text": [
      "19 Nov 2023 02:54:35 [line:175] \u001b[32mTrain Loss: 5.753, Train Acc: 0.288, Test Loss: 2.139, Test Acc: 0.276, lr: 0.10000\u001b[0m\n"
     ]
    },
    {
     "name": "stdout",
     "output_type": "stream",
     "text": [
      "Epoch 6/240\n",
      "2023-11-19 02:56:56 [141/141] - 450.76ms/step - nd_loss: 0.999 - kd_loss: 3.282 - cls_loss: 2.101 - train_loss: 6.383 - train_acc: 0.425\n"
     ]
    },
    {
     "name": "stderr",
     "output_type": "stream",
     "text": [
      "19 Nov 2023 02:57:00 [line:175] \u001b[32mTrain Loss: 6.390, Train Acc: 0.290, Test Loss: 2.069, Test Acc: 0.282, lr: 0.10000\u001b[0m\n"
     ]
    },
    {
     "name": "stdout",
     "output_type": "stream",
     "text": [
      "Epoch 7/240\n",
      "2023-11-19 02:59:20 [141/141] - 451.75ms/step - nd_loss: 0.999 - kd_loss: 3.194 - cls_loss: 2.185 - train_loss: 6.378 - train_acc: 0.200\n"
     ]
    },
    {
     "name": "stderr",
     "output_type": "stream",
     "text": [
      "19 Nov 2023 02:59:24 [line:175] \u001b[32mTrain Loss: 7.070, Train Acc: 0.298, Test Loss: 2.245, Test Acc: 0.298, lr: 0.10000\u001b[0m\n"
     ]
    },
    {
     "name": "stdout",
     "output_type": "stream",
     "text": [
      "Epoch 8/240\n",
      "2023-11-19 03:01:45 [141/141] - 450.01ms/step - nd_loss: 1.000 - kd_loss: 5.026 - cls_loss: 1.982 - train_loss: 8.007 - train_acc: 0.300\n"
     ]
    },
    {
     "name": "stderr",
     "output_type": "stream",
     "text": [
      "19 Nov 2023 03:01:49 [line:175] \u001b[32mTrain Loss: 7.723, Train Acc: 0.289, Test Loss: 2.313, Test Acc: 0.281, lr: 0.10000\u001b[0m\n"
     ]
    },
    {
     "name": "stdout",
     "output_type": "stream",
     "text": [
      "Epoch 9/240\n",
      "2023-11-19 03:04:09 [141/141] - 451.15ms/step - nd_loss: 0.999 - kd_loss: 5.203 - cls_loss: 1.812 - train_loss: 8.015 - train_acc: 0.3254\n"
     ]
    },
    {
     "name": "stderr",
     "output_type": "stream",
     "text": [
      "19 Nov 2023 03:04:13 [line:175] \u001b[32mTrain Loss: 8.385, Train Acc: 0.293, Test Loss: 2.155, Test Acc: 0.288, lr: 0.10000\u001b[0m\n"
     ]
    },
    {
     "name": "stdout",
     "output_type": "stream",
     "text": [
      "Epoch 10/240\n",
      "2023-11-19 03:06:34 [141/141] - 450.58ms/step - nd_loss: 0.999 - kd_loss: 6.619 - cls_loss: 2.084 - train_loss: 9.702 - train_acc: 0.2751\n"
     ]
    },
    {
     "name": "stderr",
     "output_type": "stream",
     "text": [
      "19 Nov 2023 03:06:38 [line:175] \u001b[32mTrain Loss: 9.028, Train Acc: 0.292, Test Loss: 2.325, Test Acc: 0.210, lr: 0.10000\u001b[0m\n"
     ]
    },
    {
     "name": "stdout",
     "output_type": "stream",
     "text": [
      "Epoch 11/240\n",
      "2023-11-19 03:08:59 [141/141] - 450.83ms/step - nd_loss: 0.999 - kd_loss: 6.757 - cls_loss: 2.119 - train_loss: 9.875 - train_acc: 0.4257\n"
     ]
    },
    {
     "name": "stderr",
     "output_type": "stream",
     "text": [
      "19 Nov 2023 03:09:03 [line:175] \u001b[32mTrain Loss: 9.720, Train Acc: 0.294, Test Loss: 2.246, Test Acc: 0.288, lr: 0.10000\u001b[0m\n"
     ]
    },
    {
     "name": "stdout",
     "output_type": "stream",
     "text": [
      "Epoch 12/240\n",
      "2023-11-19 03:11:23 [141/141] - 450.44ms/step - nd_loss: 1.000 - kd_loss: 7.899 - cls_loss: 2.270 - train_loss: 11.169 - train_acc: 0.200\n"
     ]
    },
    {
     "name": "stderr",
     "output_type": "stream",
     "text": [
      "19 Nov 2023 03:11:27 [line:175] \u001b[32mTrain Loss: 10.486, Train Acc: 0.287, Test Loss: 2.176, Test Acc: 0.256, lr: 0.10000\u001b[0m\n"
     ]
    },
    {
     "name": "stdout",
     "output_type": "stream",
     "text": [
      "Epoch 13/240\n",
      "2023-11-19 03:13:48 [141/141] - 450.93ms/step - nd_loss: 1.000 - kd_loss: 8.313 - cls_loss: 2.340 - train_loss: 11.652 - train_acc: 0.250\n"
     ]
    },
    {
     "name": "stderr",
     "output_type": "stream",
     "text": [
      "19 Nov 2023 03:13:52 [line:175] \u001b[32mTrain Loss: 11.088, Train Acc: 0.293, Test Loss: 2.136, Test Acc: 0.267, lr: 0.10000\u001b[0m\n"
     ]
    },
    {
     "name": "stdout",
     "output_type": "stream",
     "text": [
      "Epoch 14/240\n",
      "2023-11-19 03:16:12 [141/141] - 452.60ms/step - nd_loss: 1.000 - kd_loss: 8.043 - cls_loss: 2.177 - train_loss: 11.220 - train_acc: 0.250\n"
     ]
    },
    {
     "name": "stderr",
     "output_type": "stream",
     "text": [
      "19 Nov 2023 03:16:16 [line:175] \u001b[32mTrain Loss: 11.520, Train Acc: 0.307, Test Loss: 2.399, Test Acc: 0.206, lr: 0.10000\u001b[0m\n"
     ]
    },
    {
     "name": "stdout",
     "output_type": "stream",
     "text": [
      "Epoch 15/240\n",
      "2023-11-19 03:18:37 [141/141] - 450.22ms/step - nd_loss: 1.000 - kd_loss: 7.887 - cls_loss: 1.871 - train_loss: 10.758 - train_acc: 0.325\n"
     ]
    },
    {
     "name": "stderr",
     "output_type": "stream",
     "text": [
      "19 Nov 2023 03:18:41 [line:175] \u001b[32mTrain Loss: 11.754, Train Acc: 0.334, Test Loss: 2.244, Test Acc: 0.284, lr: 0.10000\u001b[0m\n"
     ]
    },
    {
     "name": "stdout",
     "output_type": "stream",
     "text": [
      "Epoch 16/240\n",
      "2023-11-19 03:21:02 [141/141] - 451.31ms/step - nd_loss: 0.999 - kd_loss: 7.781 - cls_loss: 1.847 - train_loss: 10.627 - train_acc: 0.4007\n"
     ]
    },
    {
     "name": "stderr",
     "output_type": "stream",
     "text": [
      "19 Nov 2023 03:21:06 [line:175] \u001b[32mTrain Loss: 12.064, Train Acc: 0.343, Test Loss: 2.217, Test Acc: 0.350, lr: 0.10000\u001b[0m\n"
     ]
    },
    {
     "name": "stdout",
     "output_type": "stream",
     "text": [
      "Epoch 17/240\n",
      "2023-11-19 03:23:26 [141/141] - 451.17ms/step - nd_loss: 0.999 - kd_loss: 9.258 - cls_loss: 2.014 - train_loss: 12.271 - train_acc: 0.3251\n"
     ]
    },
    {
     "name": "stderr",
     "output_type": "stream",
     "text": [
      "19 Nov 2023 03:23:30 [line:175] \u001b[32mTrain Loss: 11.479, Train Acc: 0.405, Test Loss: 2.464, Test Acc: 0.366, lr: 0.10000\u001b[0m\n"
     ]
    },
    {
     "name": "stdout",
     "output_type": "stream",
     "text": [
      "Epoch 18/240\n",
      "2023-11-19 03:25:51 [141/141] - 451.24ms/step - nd_loss: 0.998 - kd_loss: 7.062 - cls_loss: 1.978 - train_loss: 10.038 - train_acc: 0.5258\n"
     ]
    },
    {
     "name": "stderr",
     "output_type": "stream",
     "text": [
      "19 Nov 2023 03:25:55 [line:175] \u001b[32mTrain Loss: 10.783, Train Acc: 0.464, Test Loss: 3.608, Test Acc: 0.302, lr: 0.10000\u001b[0m\n"
     ]
    },
    {
     "name": "stdout",
     "output_type": "stream",
     "text": [
      "Epoch 19/240\n",
      "2023-11-19 03:28:15 [141/141] - 451.85ms/step - nd_loss: 0.997 - kd_loss: 5.572 - cls_loss: 1.614 - train_loss: 8.184 - train_acc: 0.6250\n"
     ]
    },
    {
     "name": "stderr",
     "output_type": "stream",
     "text": [
      "19 Nov 2023 03:28:20 [line:175] \u001b[32mTrain Loss: 10.062, Train Acc: 0.513, Test Loss: 2.970, Test Acc: 0.493, lr: 0.10000\u001b[0m\n"
     ]
    },
    {
     "name": "stdout",
     "output_type": "stream",
     "text": [
      "Epoch 20/240\n",
      "2023-11-19 03:30:40 [141/141] - 451.76ms/step - nd_loss: 0.997 - kd_loss: 7.558 - cls_loss: 1.778 - train_loss: 10.333 - train_acc: 0.500\n"
     ]
    },
    {
     "name": "stderr",
     "output_type": "stream",
     "text": [
      "19 Nov 2023 03:30:44 [line:175] \u001b[32mTrain Loss: 9.341, Train Acc: 0.558, Test Loss: 2.862, Test Acc: 0.428, lr: 0.10000\u001b[0m\n"
     ]
    },
    {
     "name": "stdout",
     "output_type": "stream",
     "text": [
      "Epoch 21/240\n",
      "2023-11-19 03:33:05 [141/141] - 452.07ms/step - nd_loss: 0.998 - kd_loss: 5.893 - cls_loss: 1.467 - train_loss: 8.358 - train_acc: 0.5757\n"
     ]
    },
    {
     "name": "stderr",
     "output_type": "stream",
     "text": [
      "19 Nov 2023 03:33:09 [line:175] \u001b[32mTrain Loss: 8.982, Train Acc: 0.588, Test Loss: 2.326, Test Acc: 0.491, lr: 0.10000\u001b[0m\n"
     ]
    },
    {
     "name": "stdout",
     "output_type": "stream",
     "text": [
      "Epoch 22/240\n",
      "2023-11-19 03:35:29 [141/141] - 450.91ms/step - nd_loss: 0.998 - kd_loss: 5.375 - cls_loss: 1.199 - train_loss: 7.571 - train_acc: 0.6502\n"
     ]
    },
    {
     "name": "stderr",
     "output_type": "stream",
     "text": [
      "19 Nov 2023 03:35:33 [line:175] \u001b[32mTrain Loss: 8.620, Train Acc: 0.603, Test Loss: 2.137, Test Acc: 0.510, lr: 0.10000\u001b[0m\n"
     ]
    },
    {
     "name": "stdout",
     "output_type": "stream",
     "text": [
      "Epoch 23/240\n",
      "2023-11-19 03:37:54 [141/141] - 450.45ms/step - nd_loss: 0.998 - kd_loss: 4.829 - cls_loss: 1.452 - train_loss: 7.279 - train_acc: 0.6004\n"
     ]
    },
    {
     "name": "stderr",
     "output_type": "stream",
     "text": [
      "19 Nov 2023 03:37:58 [line:175] \u001b[32mTrain Loss: 8.153, Train Acc: 0.618, Test Loss: 1.696, Test Acc: 0.555, lr: 0.10000\u001b[0m\n"
     ]
    },
    {
     "name": "stdout",
     "output_type": "stream",
     "text": [
      "Epoch 24/240\n",
      "2023-11-19 03:40:19 [141/141] - 450.87ms/step - nd_loss: 0.997 - kd_loss: 7.643 - cls_loss: 2.341 - train_loss: 10.980 - train_acc: 0.500\n"
     ]
    },
    {
     "name": "stderr",
     "output_type": "stream",
     "text": [
      "19 Nov 2023 03:40:23 [line:175] \u001b[32mTrain Loss: 7.943, Train Acc: 0.630, Test Loss: 2.621, Test Acc: 0.516, lr: 0.10000\u001b[0m\n"
     ]
    },
    {
     "name": "stdout",
     "output_type": "stream",
     "text": [
      "Epoch 25/240\n",
      "2023-11-19 03:42:43 [141/141] - 451.19ms/step - nd_loss: 0.997 - kd_loss: 4.163 - cls_loss: 0.966 - train_loss: 6.126 - train_acc: 0.7002\n"
     ]
    },
    {
     "name": "stderr",
     "output_type": "stream",
     "text": [
      "19 Nov 2023 03:42:47 [line:175] \u001b[32mTrain Loss: 7.616, Train Acc: 0.642, Test Loss: 1.987, Test Acc: 0.567, lr: 0.10000\u001b[0m\n"
     ]
    },
    {
     "name": "stdout",
     "output_type": "stream",
     "text": [
      "Epoch 26/240\n",
      "2023-11-19 03:45:08 [141/141] - 450.97ms/step - nd_loss: 0.997 - kd_loss: 7.447 - cls_loss: 1.755 - train_loss: 10.199 - train_acc: 0.550\n"
     ]
    },
    {
     "name": "stderr",
     "output_type": "stream",
     "text": [
      "19 Nov 2023 03:45:12 [line:175] \u001b[32mTrain Loss: 7.352, Train Acc: 0.651, Test Loss: 2.543, Test Acc: 0.487, lr: 0.10000\u001b[0m\n"
     ]
    },
    {
     "name": "stdout",
     "output_type": "stream",
     "text": [
      "Epoch 27/240\n",
      "2023-11-19 03:47:32 [141/141] - 450.54ms/step - nd_loss: 0.997 - kd_loss: 6.447 - cls_loss: 1.859 - train_loss: 9.303 - train_acc: 0.525\n"
     ]
    },
    {
     "name": "stderr",
     "output_type": "stream",
     "text": [
      "19 Nov 2023 03:47:36 [line:175] \u001b[32mTrain Loss: 7.232, Train Acc: 0.651, Test Loss: 1.614, Test Acc: 0.612, lr: 0.10000\u001b[0m\n"
     ]
    },
    {
     "name": "stdout",
     "output_type": "stream",
     "text": [
      "Epoch 28/240\n",
      "2023-11-19 03:49:57 [141/141] - 451.18ms/step - nd_loss: 0.997 - kd_loss: 4.316 - cls_loss: 1.161 - train_loss: 6.474 - train_acc: 0.750\n"
     ]
    },
    {
     "name": "stderr",
     "output_type": "stream",
     "text": [
      "19 Nov 2023 03:50:01 [line:175] \u001b[32mTrain Loss: 6.982, Train Acc: 0.665, Test Loss: 1.593, Test Acc: 0.606, lr: 0.10000\u001b[0m\n"
     ]
    },
    {
     "name": "stdout",
     "output_type": "stream",
     "text": [
      "Epoch 29/240\n",
      "2023-11-19 03:52:22 [141/141] - 451.19ms/step - nd_loss: 0.997 - kd_loss: 4.466 - cls_loss: 1.061 - train_loss: 6.524 - train_acc: 0.600\n"
     ]
    },
    {
     "name": "stderr",
     "output_type": "stream",
     "text": [
      "19 Nov 2023 03:52:26 [line:175] \u001b[32mTrain Loss: 6.783, Train Acc: 0.671, Test Loss: 1.823, Test Acc: 0.605, lr: 0.10000\u001b[0m\n"
     ]
    },
    {
     "name": "stdout",
     "output_type": "stream",
     "text": [
      "Epoch 30/240\n",
      "2023-11-19 03:54:46 [141/141] - 451.29ms/step - nd_loss: 0.997 - kd_loss: 4.074 - cls_loss: 0.794 - train_loss: 5.865 - train_acc: 0.775\n"
     ]
    },
    {
     "name": "stderr",
     "output_type": "stream",
     "text": [
      "19 Nov 2023 03:54:50 [line:175] \u001b[32mTrain Loss: 6.554, Train Acc: 0.682, Test Loss: 1.404, Test Acc: 0.624, lr: 0.10000\u001b[0m\n"
     ]
    },
    {
     "name": "stdout",
     "output_type": "stream",
     "text": [
      "Epoch 31/240\n",
      "2023-11-19 03:57:11 [141/141] - 451.31ms/step - nd_loss: 0.996 - kd_loss: 4.453 - cls_loss: 0.901 - train_loss: 6.350 - train_acc: 0.700\n"
     ]
    },
    {
     "name": "stderr",
     "output_type": "stream",
     "text": [
      "19 Nov 2023 03:57:15 [line:175] \u001b[32mTrain Loss: 6.334, Train Acc: 0.690, Test Loss: 1.444, Test Acc: 0.630, lr: 0.10000\u001b[0m\n"
     ]
    },
    {
     "name": "stdout",
     "output_type": "stream",
     "text": [
      "Epoch 32/240\n",
      "2023-11-19 03:59:35 [141/141] - 451.47ms/step - nd_loss: 0.996 - kd_loss: 5.338 - cls_loss: 1.568 - train_loss: 7.902 - train_acc: 0.700\n"
     ]
    },
    {
     "name": "stderr",
     "output_type": "stream",
     "text": [
      "19 Nov 2023 03:59:40 [line:175] \u001b[32mTrain Loss: 6.189, Train Acc: 0.696, Test Loss: 2.397, Test Acc: 0.532, lr: 0.10000\u001b[0m\n"
     ]
    },
    {
     "name": "stdout",
     "output_type": "stream",
     "text": [
      "Epoch 33/240\n",
      "2023-11-19 04:02:00 [141/141] - 450.52ms/step - nd_loss: 0.996 - kd_loss: 4.023 - cls_loss: 1.241 - train_loss: 6.260 - train_acc: 0.600\n"
     ]
    },
    {
     "name": "stderr",
     "output_type": "stream",
     "text": [
      "19 Nov 2023 04:02:04 [line:175] \u001b[32mTrain Loss: 6.126, Train Acc: 0.704, Test Loss: 1.593, Test Acc: 0.625, lr: 0.10000\u001b[0m\n"
     ]
    },
    {
     "name": "stdout",
     "output_type": "stream",
     "text": [
      "Epoch 34/240\n",
      "2023-11-19 04:04:25 [141/141] - 451.59ms/step - nd_loss: 0.996 - kd_loss: 4.366 - cls_loss: 1.346 - train_loss: 6.707 - train_acc: 0.650\n"
     ]
    },
    {
     "name": "stderr",
     "output_type": "stream",
     "text": [
      "19 Nov 2023 04:04:29 [line:175] \u001b[32mTrain Loss: 5.879, Train Acc: 0.713, Test Loss: 1.682, Test Acc: 0.627, lr: 0.10000\u001b[0m\n"
     ]
    },
    {
     "name": "stdout",
     "output_type": "stream",
     "text": [
      "Epoch 35/240\n",
      "2023-11-19 04:06:49 [141/141] - 451.35ms/step - nd_loss: 0.996 - kd_loss: 5.306 - cls_loss: 1.798 - train_loss: 8.101 - train_acc: 0.575\n"
     ]
    },
    {
     "name": "stderr",
     "output_type": "stream",
     "text": [
      "19 Nov 2023 04:06:53 [line:175] \u001b[32mTrain Loss: 5.997, Train Acc: 0.711, Test Loss: 1.837, Test Acc: 0.595, lr: 0.10000\u001b[0m\n"
     ]
    },
    {
     "name": "stdout",
     "output_type": "stream",
     "text": [
      "Epoch 36/240\n",
      "2023-11-19 04:09:14 [141/141] - 450.66ms/step - nd_loss: 0.996 - kd_loss: 4.278 - cls_loss: 1.159 - train_loss: 6.433 - train_acc: 0.650\n"
     ]
    },
    {
     "name": "stderr",
     "output_type": "stream",
     "text": [
      "19 Nov 2023 04:09:18 [line:175] \u001b[32mTrain Loss: 5.786, Train Acc: 0.719, Test Loss: 1.532, Test Acc: 0.629, lr: 0.10000\u001b[0m\n"
     ]
    },
    {
     "name": "stdout",
     "output_type": "stream",
     "text": [
      "Epoch 37/240\n",
      "2023-11-19 04:11:39 [141/141] - 450.41ms/step - nd_loss: 0.996 - kd_loss: 3.760 - cls_loss: 0.789 - train_loss: 5.545 - train_acc: 0.700\n"
     ]
    },
    {
     "name": "stderr",
     "output_type": "stream",
     "text": [
      "19 Nov 2023 04:11:43 [line:175] \u001b[32mTrain Loss: 5.564, Train Acc: 0.733, Test Loss: 1.474, Test Acc: 0.636, lr: 0.10000\u001b[0m\n"
     ]
    },
    {
     "name": "stdout",
     "output_type": "stream",
     "text": [
      "Epoch 38/240\n",
      "2023-11-19 04:14:03 [141/141] - 451.42ms/step - nd_loss: 0.995 - kd_loss: 3.576 - cls_loss: 0.851 - train_loss: 5.422 - train_acc: 0.800\n"
     ]
    },
    {
     "name": "stderr",
     "output_type": "stream",
     "text": [
      "19 Nov 2023 04:14:07 [line:175] \u001b[32mTrain Loss: 5.635, Train Acc: 0.730, Test Loss: 1.646, Test Acc: 0.581, lr: 0.10000\u001b[0m\n"
     ]
    },
    {
     "name": "stdout",
     "output_type": "stream",
     "text": [
      "Epoch 39/240\n",
      "2023-11-19 04:16:28 [141/141] - 451.75ms/step - nd_loss: 0.995 - kd_loss: 4.501 - cls_loss: 1.258 - train_loss: 6.754 - train_acc: 0.700\n"
     ]
    },
    {
     "name": "stderr",
     "output_type": "stream",
     "text": [
      "19 Nov 2023 04:16:32 [line:175] \u001b[32mTrain Loss: 5.489, Train Acc: 0.736, Test Loss: 1.584, Test Acc: 0.603, lr: 0.10000\u001b[0m\n"
     ]
    },
    {
     "name": "stdout",
     "output_type": "stream",
     "text": [
      "Epoch 40/240\n",
      "2023-11-19 04:18:52 [141/141] - 450.81ms/step - nd_loss: 0.995 - kd_loss: 3.084 - cls_loss: 1.022 - train_loss: 5.101 - train_acc: 0.725\n"
     ]
    },
    {
     "name": "stderr",
     "output_type": "stream",
     "text": [
      "19 Nov 2023 04:18:56 [line:175] \u001b[32mTrain Loss: 5.255, Train Acc: 0.751, Test Loss: 1.586, Test Acc: 0.631, lr: 0.10000\u001b[0m\n"
     ]
    },
    {
     "name": "stdout",
     "output_type": "stream",
     "text": [
      "Epoch 41/240\n",
      "2023-11-19 04:21:17 [141/141] - 451.07ms/step - nd_loss: 0.995 - kd_loss: 3.425 - cls_loss: 0.799 - train_loss: 5.219 - train_acc: 0.775\n"
     ]
    },
    {
     "name": "stderr",
     "output_type": "stream",
     "text": [
      "19 Nov 2023 04:21:21 [line:175] \u001b[32mTrain Loss: 5.135, Train Acc: 0.758, Test Loss: 1.596, Test Acc: 0.644, lr: 0.10000\u001b[0m\n"
     ]
    },
    {
     "name": "stdout",
     "output_type": "stream",
     "text": [
      "Epoch 42/240\n",
      "2023-11-19 04:23:42 [141/141] - 451.77ms/step - nd_loss: 0.995 - kd_loss: 3.773 - cls_loss: 0.841 - train_loss: 5.609 - train_acc: 0.800\n"
     ]
    },
    {
     "name": "stderr",
     "output_type": "stream",
     "text": [
      "19 Nov 2023 04:23:46 [line:175] \u001b[32mTrain Loss: 4.974, Train Acc: 0.767, Test Loss: 1.593, Test Acc: 0.633, lr: 0.10000\u001b[0m\n"
     ]
    },
    {
     "name": "stdout",
     "output_type": "stream",
     "text": [
      "Epoch 43/240\n",
      "2023-11-19 04:26:06 [141/141] - 451.51ms/step - nd_loss: 0.995 - kd_loss: 2.935 - cls_loss: 0.596 - train_loss: 4.526 - train_acc: 0.750\n"
     ]
    },
    {
     "name": "stderr",
     "output_type": "stream",
     "text": [
      "19 Nov 2023 04:26:10 [line:175] \u001b[32mTrain Loss: 4.755, Train Acc: 0.779, Test Loss: 1.360, Test Acc: 0.679, lr: 0.10000\u001b[0m\n"
     ]
    },
    {
     "name": "stdout",
     "output_type": "stream",
     "text": [
      "Epoch 44/240\n",
      "2023-11-19 04:28:31 [141/141] - 451.63ms/step - nd_loss: 0.995 - kd_loss: 3.437 - cls_loss: 0.665 - train_loss: 5.097 - train_acc: 0.850\n"
     ]
    },
    {
     "name": "stderr",
     "output_type": "stream",
     "text": [
      "19 Nov 2023 04:28:35 [line:175] \u001b[32mTrain Loss: 4.746, Train Acc: 0.783, Test Loss: 1.615, Test Acc: 0.623, lr: 0.10000\u001b[0m\n"
     ]
    },
    {
     "name": "stdout",
     "output_type": "stream",
     "text": [
      "Epoch 45/240\n",
      "2023-11-19 04:30:56 [141/141] - 450.56ms/step - nd_loss: 0.995 - kd_loss: 3.764 - cls_loss: 0.579 - train_loss: 5.337 - train_acc: 0.850\n"
     ]
    },
    {
     "name": "stderr",
     "output_type": "stream",
     "text": [
      "19 Nov 2023 04:31:00 [line:175] \u001b[32mTrain Loss: 4.744, Train Acc: 0.783, Test Loss: 1.519, Test Acc: 0.639, lr: 0.10000\u001b[0m\n"
     ]
    },
    {
     "name": "stdout",
     "output_type": "stream",
     "text": [
      "Epoch 46/240\n",
      "2023-11-19 04:33:20 [141/141] - 451.31ms/step - nd_loss: 0.994 - kd_loss: 3.143 - cls_loss: 0.533 - train_loss: 4.670 - train_acc: 0.800\n"
     ]
    },
    {
     "name": "stderr",
     "output_type": "stream",
     "text": [
      "19 Nov 2023 04:33:24 [line:175] \u001b[32mTrain Loss: 4.549, Train Acc: 0.785, Test Loss: 1.787, Test Acc: 0.601, lr: 0.10000\u001b[0m\n"
     ]
    },
    {
     "name": "stdout",
     "output_type": "stream",
     "text": [
      "Epoch 47/240\n",
      "2023-11-19 04:35:45 [141/141] - 450.25ms/step - nd_loss: 0.994 - kd_loss: 2.685 - cls_loss: 0.592 - train_loss: 4.271 - train_acc: 0.775\n"
     ]
    },
    {
     "name": "stderr",
     "output_type": "stream",
     "text": [
      "19 Nov 2023 04:35:49 [line:175] \u001b[32mTrain Loss: 4.459, Train Acc: 0.796, Test Loss: 1.579, Test Acc: 0.635, lr: 0.10000\u001b[0m\n"
     ]
    },
    {
     "name": "stdout",
     "output_type": "stream",
     "text": [
      "Epoch 48/240\n",
      "2023-11-19 04:38:09 [141/141] - 451.19ms/step - nd_loss: 0.994 - kd_loss: 2.598 - cls_loss: 0.359 - train_loss: 3.951 - train_acc: 0.825\n"
     ]
    },
    {
     "name": "stderr",
     "output_type": "stream",
     "text": [
      "19 Nov 2023 04:38:13 [line:175] \u001b[32mTrain Loss: 4.208, Train Acc: 0.813, Test Loss: 1.457, Test Acc: 0.639, lr: 0.10000\u001b[0m\n"
     ]
    },
    {
     "name": "stdout",
     "output_type": "stream",
     "text": [
      "Epoch 49/240\n",
      "2023-11-19 04:40:34 [141/141] - 450.86ms/step - nd_loss: 0.994 - kd_loss: 2.213 - cls_loss: 0.537 - train_loss: 3.744 - train_acc: 0.800\n"
     ]
    },
    {
     "name": "stderr",
     "output_type": "stream",
     "text": [
      "19 Nov 2023 04:40:38 [line:175] \u001b[32mTrain Loss: 4.117, Train Acc: 0.823, Test Loss: 1.772, Test Acc: 0.609, lr: 0.10000\u001b[0m\n"
     ]
    },
    {
     "name": "stdout",
     "output_type": "stream",
     "text": [
      "Epoch 50/240\n",
      "2023-11-19 04:42:58 [141/141] - 450.99ms/step - nd_loss: 0.994 - kd_loss: 2.697 - cls_loss: 0.435 - train_loss: 4.126 - train_acc: 0.875\n"
     ]
    },
    {
     "name": "stderr",
     "output_type": "stream",
     "text": [
      "19 Nov 2023 04:43:03 [line:175] \u001b[32mTrain Loss: 4.185, Train Acc: 0.819, Test Loss: 1.485, Test Acc: 0.641, lr: 0.10000\u001b[0m\n"
     ]
    },
    {
     "name": "stdout",
     "output_type": "stream",
     "text": [
      "Epoch 51/240\n",
      "2023-11-19 04:45:23 [141/141] - 450.64ms/step - nd_loss: 0.994 - kd_loss: 3.425 - cls_loss: 0.899 - train_loss: 5.317 - train_acc: 0.775\n"
     ]
    },
    {
     "name": "stderr",
     "output_type": "stream",
     "text": [
      "19 Nov 2023 04:45:27 [line:175] \u001b[32mTrain Loss: 4.021, Train Acc: 0.827, Test Loss: 1.650, Test Acc: 0.617, lr: 0.10000\u001b[0m\n"
     ]
    },
    {
     "name": "stdout",
     "output_type": "stream",
     "text": [
      "Epoch 52/240\n",
      "2023-11-19 04:47:48 [141/141] - 450.60ms/step - nd_loss: 0.994 - kd_loss: 2.863 - cls_loss: 0.514 - train_loss: 4.370 - train_acc: 0.775\n"
     ]
    },
    {
     "name": "stderr",
     "output_type": "stream",
     "text": [
      "19 Nov 2023 04:47:52 [line:175] \u001b[32mTrain Loss: 4.048, Train Acc: 0.831, Test Loss: 1.621, Test Acc: 0.636, lr: 0.10000\u001b[0m\n"
     ]
    },
    {
     "name": "stdout",
     "output_type": "stream",
     "text": [
      "Epoch 53/240\n",
      "2023-11-19 04:50:12 [141/141] - 452.08ms/step - nd_loss: 0.993 - kd_loss: 2.169 - cls_loss: 0.493 - train_loss: 3.656 - train_acc: 0.875\n"
     ]
    },
    {
     "name": "stderr",
     "output_type": "stream",
     "text": [
      "19 Nov 2023 04:50:16 [line:175] \u001b[32mTrain Loss: 3.856, Train Acc: 0.841, Test Loss: 1.867, Test Acc: 0.582, lr: 0.10000\u001b[0m\n"
     ]
    },
    {
     "name": "stdout",
     "output_type": "stream",
     "text": [
      "Epoch 54/240\n",
      "2023-11-19 04:52:37 [141/141] - 450.87ms/step - nd_loss: 0.992 - kd_loss: 3.150 - cls_loss: 0.677 - train_loss: 4.819 - train_acc: 0.825\n"
     ]
    },
    {
     "name": "stderr",
     "output_type": "stream",
     "text": [
      "19 Nov 2023 04:52:41 [line:175] \u001b[32mTrain Loss: 3.781, Train Acc: 0.845, Test Loss: 1.720, Test Acc: 0.658, lr: 0.10000\u001b[0m\n"
     ]
    },
    {
     "name": "stdout",
     "output_type": "stream",
     "text": [
      "Epoch 55/240\n",
      "2023-11-19 04:55:02 [141/141] - 450.52ms/step - nd_loss: 0.992 - kd_loss: 2.663 - cls_loss: 0.616 - train_loss: 4.272 - train_acc: 0.800\n"
     ]
    },
    {
     "name": "stderr",
     "output_type": "stream",
     "text": [
      "19 Nov 2023 04:55:06 [line:175] \u001b[32mTrain Loss: 3.804, Train Acc: 0.849, Test Loss: 1.662, Test Acc: 0.617, lr: 0.10000\u001b[0m\n"
     ]
    },
    {
     "name": "stdout",
     "output_type": "stream",
     "text": [
      "Epoch 56/240\n",
      "2023-11-19 04:57:26 [141/141] - 450.73ms/step - nd_loss: 0.993 - kd_loss: 3.054 - cls_loss: 0.736 - train_loss: 4.783 - train_acc: 0.800\n"
     ]
    },
    {
     "name": "stderr",
     "output_type": "stream",
     "text": [
      "19 Nov 2023 04:57:30 [line:175] \u001b[32mTrain Loss: 3.547, Train Acc: 0.864, Test Loss: 1.319, Test Acc: 0.671, lr: 0.10000\u001b[0m\n"
     ]
    },
    {
     "name": "stdout",
     "output_type": "stream",
     "text": [
      "Epoch 57/240\n",
      "2023-11-19 04:59:51 [141/141] - 450.24ms/step - nd_loss: 0.993 - kd_loss: 2.622 - cls_loss: 0.751 - train_loss: 4.365 - train_acc: 0.775\n"
     ]
    },
    {
     "name": "stderr",
     "output_type": "stream",
     "text": [
      "19 Nov 2023 04:59:55 [line:175] \u001b[32mTrain Loss: 3.459, Train Acc: 0.872, Test Loss: 1.632, Test Acc: 0.641, lr: 0.10000\u001b[0m\n"
     ]
    },
    {
     "name": "stdout",
     "output_type": "stream",
     "text": [
      "Epoch 58/240\n",
      "2023-11-19 05:02:16 [141/141] - 451.16ms/step - nd_loss: 0.992 - kd_loss: 2.045 - cls_loss: 0.477 - train_loss: 3.514 - train_acc: 0.825\n"
     ]
    },
    {
     "name": "stderr",
     "output_type": "stream",
     "text": [
      "19 Nov 2023 05:02:20 [line:175] \u001b[32mTrain Loss: 3.434, Train Acc: 0.871, Test Loss: 1.951, Test Acc: 0.629, lr: 0.10000\u001b[0m\n"
     ]
    },
    {
     "name": "stdout",
     "output_type": "stream",
     "text": [
      "Epoch 59/240\n",
      "2023-11-19 05:04:40 [141/141] - 451.25ms/step - nd_loss: 0.992 - kd_loss: 2.319 - cls_loss: 0.497 - train_loss: 3.807 - train_acc: 0.825\n"
     ]
    },
    {
     "name": "stderr",
     "output_type": "stream",
     "text": [
      "19 Nov 2023 05:04:44 [line:175] \u001b[32mTrain Loss: 3.472, Train Acc: 0.871, Test Loss: 1.627, Test Acc: 0.644, lr: 0.10000\u001b[0m\n"
     ]
    },
    {
     "name": "stdout",
     "output_type": "stream",
     "text": [
      "Epoch 60/240\n",
      "2023-11-19 05:07:05 [141/141] - 451.12ms/step - nd_loss: 0.992 - kd_loss: 1.562 - cls_loss: 0.256 - train_loss: 2.810 - train_acc: 0.925\n"
     ]
    },
    {
     "name": "stderr",
     "output_type": "stream",
     "text": [
      "19 Nov 2023 05:07:09 [line:175] \u001b[32mTrain Loss: 3.330, Train Acc: 0.882, Test Loss: 1.652, Test Acc: 0.634, lr: 0.10000\u001b[0m\n"
     ]
    },
    {
     "name": "stdout",
     "output_type": "stream",
     "text": [
      "Epoch 61/240\n",
      "2023-11-19 05:09:29 [141/141] - 451.82ms/step - nd_loss: 0.992 - kd_loss: 2.027 - cls_loss: 0.352 - train_loss: 3.371 - train_acc: 0.825\n"
     ]
    },
    {
     "name": "stderr",
     "output_type": "stream",
     "text": [
      "19 Nov 2023 05:09:34 [line:175] \u001b[32mTrain Loss: 3.207, Train Acc: 0.891, Test Loss: 2.058, Test Acc: 0.608, lr: 0.10000\u001b[0m\n"
     ]
    },
    {
     "name": "stdout",
     "output_type": "stream",
     "text": [
      "Epoch 62/240\n",
      "2023-11-19 05:11:54 [141/141] - 450.62ms/step - nd_loss: 0.992 - kd_loss: 2.339 - cls_loss: 0.587 - train_loss: 3.918 - train_acc: 0.775\n"
     ]
    },
    {
     "name": "stderr",
     "output_type": "stream",
     "text": [
      "19 Nov 2023 05:11:58 [line:175] \u001b[32mTrain Loss: 3.251, Train Acc: 0.886, Test Loss: 1.443, Test Acc: 0.650, lr: 0.10000\u001b[0m\n"
     ]
    },
    {
     "name": "stdout",
     "output_type": "stream",
     "text": [
      "Epoch 63/240\n",
      "2023-11-19 05:14:19 [141/141] - 450.21ms/step - nd_loss: 0.992 - kd_loss: 2.283 - cls_loss: 0.444 - train_loss: 3.718 - train_acc: 0.900\n"
     ]
    },
    {
     "name": "stderr",
     "output_type": "stream",
     "text": [
      "19 Nov 2023 05:14:23 [line:175] \u001b[32mTrain Loss: 3.279, Train Acc: 0.885, Test Loss: 1.912, Test Acc: 0.601, lr: 0.10000\u001b[0m\n"
     ]
    },
    {
     "name": "stdout",
     "output_type": "stream",
     "text": [
      "Epoch 64/240\n",
      "2023-11-19 05:16:43 [141/141] - 449.94ms/step - nd_loss: 0.991 - kd_loss: 1.818 - cls_loss: 0.265 - train_loss: 3.074 - train_acc: 0.900\n"
     ]
    },
    {
     "name": "stderr",
     "output_type": "stream",
     "text": [
      "19 Nov 2023 05:16:48 [line:175] \u001b[32mTrain Loss: 3.172, Train Acc: 0.894, Test Loss: 1.656, Test Acc: 0.613, lr: 0.10000\u001b[0m\n"
     ]
    },
    {
     "name": "stdout",
     "output_type": "stream",
     "text": [
      "Epoch 65/240\n",
      "2023-11-19 05:19:08 [141/141] - 450.98ms/step - nd_loss: 0.992 - kd_loss: 1.920 - cls_loss: 0.379 - train_loss: 3.291 - train_acc: 0.800\n"
     ]
    },
    {
     "name": "stderr",
     "output_type": "stream",
     "text": [
      "19 Nov 2023 05:19:12 [line:175] \u001b[32mTrain Loss: 2.934, Train Acc: 0.914, Test Loss: 1.450, Test Acc: 0.641, lr: 0.10000\u001b[0m\n"
     ]
    },
    {
     "name": "stdout",
     "output_type": "stream",
     "text": [
      "Epoch 66/240\n",
      "2023-11-19 05:21:33 [141/141] - 451.41ms/step - nd_loss: 0.991 - kd_loss: 1.788 - cls_loss: 0.411 - train_loss: 3.190 - train_acc: 0.875\n"
     ]
    },
    {
     "name": "stderr",
     "output_type": "stream",
     "text": [
      "19 Nov 2023 05:21:37 [line:175] \u001b[32mTrain Loss: 2.982, Train Acc: 0.916, Test Loss: 1.588, Test Acc: 0.657, lr: 0.10000\u001b[0m\n"
     ]
    },
    {
     "name": "stdout",
     "output_type": "stream",
     "text": [
      "Epoch 67/240\n",
      "2023-11-19 05:23:57 [141/141] - 451.51ms/step - nd_loss: 0.991 - kd_loss: 1.460 - cls_loss: 0.135 - train_loss: 2.586 - train_acc: 0.975\n"
     ]
    },
    {
     "name": "stderr",
     "output_type": "stream",
     "text": [
      "19 Nov 2023 05:24:01 [line:175] \u001b[32mTrain Loss: 2.938, Train Acc: 0.914, Test Loss: 1.554, Test Acc: 0.658, lr: 0.10000\u001b[0m\n"
     ]
    },
    {
     "name": "stdout",
     "output_type": "stream",
     "text": [
      "Epoch 68/240\n",
      "2023-11-19 05:26:22 [141/141] - 450.41ms/step - nd_loss: 0.991 - kd_loss: 1.715 - cls_loss: 0.179 - train_loss: 2.885 - train_acc: 0.950\n"
     ]
    },
    {
     "name": "stderr",
     "output_type": "stream",
     "text": [
      "19 Nov 2023 05:26:26 [line:175] \u001b[32mTrain Loss: 3.023, Train Acc: 0.909, Test Loss: 1.626, Test Acc: 0.655, lr: 0.10000\u001b[0m\n"
     ]
    },
    {
     "name": "stdout",
     "output_type": "stream",
     "text": [
      "Epoch 69/240\n",
      "2023-11-19 05:28:47 [141/141] - 450.79ms/step - nd_loss: 0.991 - kd_loss: 1.839 - cls_loss: 0.335 - train_loss: 3.165 - train_acc: 0.925\n"
     ]
    },
    {
     "name": "stderr",
     "output_type": "stream",
     "text": [
      "19 Nov 2023 05:28:51 [line:175] \u001b[32mTrain Loss: 3.108, Train Acc: 0.903, Test Loss: 1.451, Test Acc: 0.671, lr: 0.10000\u001b[0m\n"
     ]
    },
    {
     "name": "stdout",
     "output_type": "stream",
     "text": [
      "Epoch 70/240\n",
      "2023-11-19 05:31:11 [141/141] - 452.24ms/step - nd_loss: 0.992 - kd_loss: 1.836 - cls_loss: 0.187 - train_loss: 3.014 - train_acc: 0.900\n"
     ]
    },
    {
     "name": "stderr",
     "output_type": "stream",
     "text": [
      "19 Nov 2023 05:31:15 [line:175] \u001b[32mTrain Loss: 2.818, Train Acc: 0.920, Test Loss: 1.639, Test Acc: 0.629, lr: 0.10000\u001b[0m\n"
     ]
    },
    {
     "name": "stdout",
     "output_type": "stream",
     "text": [
      "Epoch 71/240\n",
      "2023-11-19 05:33:36 [141/141] - 450.96ms/step - nd_loss: 0.991 - kd_loss: 1.826 - cls_loss: 0.238 - train_loss: 3.055 - train_acc: 0.900\n"
     ]
    },
    {
     "name": "stderr",
     "output_type": "stream",
     "text": [
      "19 Nov 2023 05:33:40 [line:175] \u001b[32mTrain Loss: 2.880, Train Acc: 0.920, Test Loss: 1.410, Test Acc: 0.683, lr: 0.10000\u001b[0m\n"
     ]
    },
    {
     "name": "stdout",
     "output_type": "stream",
     "text": [
      "Epoch 72/240\n",
      "2023-11-19 05:36:01 [141/141] - 450.11ms/step - nd_loss: 0.991 - kd_loss: 2.131 - cls_loss: 0.512 - train_loss: 3.634 - train_acc: 0.825\n"
     ]
    },
    {
     "name": "stderr",
     "output_type": "stream",
     "text": [
      "19 Nov 2023 05:36:05 [line:175] \u001b[32mTrain Loss: 2.812, Train Acc: 0.922, Test Loss: 1.636, Test Acc: 0.639, lr: 0.10000\u001b[0m\n"
     ]
    },
    {
     "name": "stdout",
     "output_type": "stream",
     "text": [
      "Epoch 73/240\n",
      "2023-11-19 05:38:25 [141/141] - 451.11ms/step - nd_loss: 0.990 - kd_loss: 1.593 - cls_loss: 0.361 - train_loss: 2.945 - train_acc: 0.825\n"
     ]
    },
    {
     "name": "stderr",
     "output_type": "stream",
     "text": [
      "19 Nov 2023 05:38:29 [line:175] \u001b[32mTrain Loss: 2.711, Train Acc: 0.937, Test Loss: 1.524, Test Acc: 0.655, lr: 0.10000\u001b[0m\n"
     ]
    },
    {
     "name": "stdout",
     "output_type": "stream",
     "text": [
      "Epoch 74/240\n",
      "2023-11-19 05:40:50 [141/141] - 451.74ms/step - nd_loss: 0.991 - kd_loss: 1.570 - cls_loss: 0.187 - train_loss: 2.747 - train_acc: 0.925\n"
     ]
    },
    {
     "name": "stderr",
     "output_type": "stream",
     "text": [
      "19 Nov 2023 05:40:54 [line:175] \u001b[32mTrain Loss: 2.736, Train Acc: 0.935, Test Loss: 1.428, Test Acc: 0.672, lr: 0.10000\u001b[0m\n"
     ]
    },
    {
     "name": "stdout",
     "output_type": "stream",
     "text": [
      "Epoch 75/240\n",
      "2023-11-19 05:43:14 [141/141] - 450.69ms/step - nd_loss: 0.991 - kd_loss: 1.902 - cls_loss: 0.346 - train_loss: 3.239 - train_acc: 0.850\n"
     ]
    },
    {
     "name": "stderr",
     "output_type": "stream",
     "text": [
      "19 Nov 2023 05:43:19 [line:175] \u001b[32mTrain Loss: 2.709, Train Acc: 0.934, Test Loss: 1.403, Test Acc: 0.671, lr: 0.10000\u001b[0m\n"
     ]
    },
    {
     "name": "stdout",
     "output_type": "stream",
     "text": [
      "Epoch 76/240\n",
      "2023-11-19 05:45:39 [141/141] - 450.65ms/step - nd_loss: 0.990 - kd_loss: 1.880 - cls_loss: 0.256 - train_loss: 3.125 - train_acc: 0.925\n"
     ]
    },
    {
     "name": "stderr",
     "output_type": "stream",
     "text": [
      "19 Nov 2023 05:45:43 [line:175] \u001b[32mTrain Loss: 2.779, Train Acc: 0.927, Test Loss: 1.574, Test Acc: 0.646, lr: 0.10000\u001b[0m\n"
     ]
    },
    {
     "name": "stdout",
     "output_type": "stream",
     "text": [
      "Epoch 77/240\n",
      "2023-11-19 05:48:04 [141/141] - 451.60ms/step - nd_loss: 0.991 - kd_loss: 2.140 - cls_loss: 0.414 - train_loss: 3.545 - train_acc: 0.825\n"
     ]
    },
    {
     "name": "stderr",
     "output_type": "stream",
     "text": [
      "19 Nov 2023 05:48:08 [line:175] \u001b[32mTrain Loss: 2.830, Train Acc: 0.927, Test Loss: 1.606, Test Acc: 0.651, lr: 0.10000\u001b[0m\n"
     ]
    },
    {
     "name": "stdout",
     "output_type": "stream",
     "text": [
      "Epoch 78/240\n",
      "2023-11-19 05:50:28 [141/141] - 452.59ms/step - nd_loss: 0.990 - kd_loss: 1.550 - cls_loss: 0.247 - train_loss: 2.787 - train_acc: 0.900\n"
     ]
    },
    {
     "name": "stderr",
     "output_type": "stream",
     "text": [
      "19 Nov 2023 05:50:33 [line:175] \u001b[32mTrain Loss: 2.740, Train Acc: 0.930, Test Loss: 1.486, Test Acc: 0.663, lr: 0.10000\u001b[0m\n"
     ]
    },
    {
     "name": "stdout",
     "output_type": "stream",
     "text": [
      "Epoch 79/240\n",
      "2023-11-19 05:52:53 [141/141] - 450.27ms/step - nd_loss: 0.990 - kd_loss: 1.433 - cls_loss: 0.159 - train_loss: 2.582 - train_acc: 0.950\n"
     ]
    },
    {
     "name": "stderr",
     "output_type": "stream",
     "text": [
      "19 Nov 2023 05:52:57 [line:175] \u001b[32mTrain Loss: 2.568, Train Acc: 0.945, Test Loss: 1.471, Test Acc: 0.669, lr: 0.10000\u001b[0m\n"
     ]
    },
    {
     "name": "stdout",
     "output_type": "stream",
     "text": [
      "Epoch 80/240\n",
      "2023-11-19 05:55:18 [141/141] - 450.29ms/step - nd_loss: 0.990 - kd_loss: 1.466 - cls_loss: 0.275 - train_loss: 2.731 - train_acc: 0.900\n"
     ]
    },
    {
     "name": "stderr",
     "output_type": "stream",
     "text": [
      "19 Nov 2023 05:55:22 [line:175] \u001b[32mTrain Loss: 2.602, Train Acc: 0.936, Test Loss: 1.352, Test Acc: 0.667, lr: 0.10000\u001b[0m\n"
     ]
    },
    {
     "name": "stdout",
     "output_type": "stream",
     "text": [
      "Epoch 81/240\n",
      "2023-11-19 05:57:42 [141/141] - 451.00ms/step - nd_loss: 0.989 - kd_loss: 1.445 - cls_loss: 0.336 - train_loss: 2.770 - train_acc: 0.900\n"
     ]
    },
    {
     "name": "stderr",
     "output_type": "stream",
     "text": [
      "19 Nov 2023 05:57:46 [line:175] \u001b[32mTrain Loss: 2.469, Train Acc: 0.955, Test Loss: 1.852, Test Acc: 0.610, lr: 0.10000\u001b[0m\n"
     ]
    },
    {
     "name": "stdout",
     "output_type": "stream",
     "text": [
      "Epoch 82/240\n",
      "2023-11-19 06:00:07 [141/141] - 451.81ms/step - nd_loss: 0.989 - kd_loss: 1.289 - cls_loss: 0.197 - train_loss: 2.476 - train_acc: 0.850\n"
     ]
    },
    {
     "name": "stderr",
     "output_type": "stream",
     "text": [
      "19 Nov 2023 06:00:11 [line:175] \u001b[32mTrain Loss: 2.643, Train Acc: 0.938, Test Loss: 1.442, Test Acc: 0.678, lr: 0.10000\u001b[0m\n"
     ]
    },
    {
     "name": "stdout",
     "output_type": "stream",
     "text": [
      "Epoch 83/240\n",
      "2023-11-19 06:02:32 [141/141] - 451.26ms/step - nd_loss: 0.989 - kd_loss: 1.603 - cls_loss: 0.204 - train_loss: 2.796 - train_acc: 0.875\n"
     ]
    },
    {
     "name": "stderr",
     "output_type": "stream",
     "text": [
      "19 Nov 2023 06:02:36 [line:175] \u001b[32mTrain Loss: 2.472, Train Acc: 0.955, Test Loss: 1.646, Test Acc: 0.642, lr: 0.10000\u001b[0m\n"
     ]
    },
    {
     "name": "stdout",
     "output_type": "stream",
     "text": [
      "Epoch 84/240\n",
      "2023-11-19 06:04:56 [141/141] - 451.94ms/step - nd_loss: 0.989 - kd_loss: 1.712 - cls_loss: 0.132 - train_loss: 2.833 - train_acc: 0.950\n"
     ]
    },
    {
     "name": "stderr",
     "output_type": "stream",
     "text": [
      "19 Nov 2023 06:05:00 [line:175] \u001b[32mTrain Loss: 2.421, Train Acc: 0.956, Test Loss: 1.554, Test Acc: 0.651, lr: 0.10000\u001b[0m\n"
     ]
    },
    {
     "name": "stdout",
     "output_type": "stream",
     "text": [
      "Epoch 85/240\n",
      "2023-11-19 06:07:21 [141/141] - 450.61ms/step - nd_loss: 0.989 - kd_loss: 1.294 - cls_loss: 0.149 - train_loss: 2.432 - train_acc: 0.950\n"
     ]
    },
    {
     "name": "stderr",
     "output_type": "stream",
     "text": [
      "19 Nov 2023 06:07:25 [line:175] \u001b[32mTrain Loss: 2.515, Train Acc: 0.950, Test Loss: 1.510, Test Acc: 0.658, lr: 0.10000\u001b[0m\n"
     ]
    },
    {
     "name": "stdout",
     "output_type": "stream",
     "text": [
      "Epoch 86/240\n",
      "2023-11-19 06:09:45 [141/141] - 450.86ms/step - nd_loss: 0.989 - kd_loss: 1.448 - cls_loss: 0.105 - train_loss: 2.543 - train_acc: 0.975\n"
     ]
    },
    {
     "name": "stderr",
     "output_type": "stream",
     "text": [
      "19 Nov 2023 06:09:50 [line:175] \u001b[32mTrain Loss: 2.504, Train Acc: 0.946, Test Loss: 1.805, Test Acc: 0.628, lr: 0.10000\u001b[0m\n"
     ]
    },
    {
     "name": "stdout",
     "output_type": "stream",
     "text": [
      "Epoch 87/240\n",
      "2023-11-19 06:12:10 [141/141] - 451.75ms/step - nd_loss: 0.989 - kd_loss: 1.412 - cls_loss: 0.155 - train_loss: 2.557 - train_acc: 0.950\n"
     ]
    },
    {
     "name": "stderr",
     "output_type": "stream",
     "text": [
      "19 Nov 2023 06:12:14 [line:175] \u001b[32mTrain Loss: 2.539, Train Acc: 0.946, Test Loss: 1.533, Test Acc: 0.663, lr: 0.10000\u001b[0m\n"
     ]
    },
    {
     "name": "stdout",
     "output_type": "stream",
     "text": [
      "Epoch 88/240\n",
      "2023-11-19 06:14:35 [141/141] - 452.12ms/step - nd_loss: 0.989 - kd_loss: 1.899 - cls_loss: 0.447 - train_loss: 3.335 - train_acc: 0.900\n"
     ]
    },
    {
     "name": "stderr",
     "output_type": "stream",
     "text": [
      "19 Nov 2023 06:14:39 [line:175] \u001b[32mTrain Loss: 2.556, Train Acc: 0.948, Test Loss: 1.441, Test Acc: 0.656, lr: 0.10000\u001b[0m\n"
     ]
    },
    {
     "name": "stdout",
     "output_type": "stream",
     "text": [
      "Epoch 89/240\n",
      "2023-11-19 06:16:59 [141/141] - 451.02ms/step - nd_loss: 0.989 - kd_loss: 1.410 - cls_loss: 0.131 - train_loss: 2.530 - train_acc: 0.975\n"
     ]
    },
    {
     "name": "stderr",
     "output_type": "stream",
     "text": [
      "19 Nov 2023 06:17:03 [line:175] \u001b[32mTrain Loss: 2.414, Train Acc: 0.956, Test Loss: 1.785, Test Acc: 0.629, lr: 0.10000\u001b[0m\n"
     ]
    },
    {
     "name": "stdout",
     "output_type": "stream",
     "text": [
      "Epoch 90/240\n",
      "2023-11-19 06:19:24 [141/141] - 451.18ms/step - nd_loss: 0.988 - kd_loss: 1.303 - cls_loss: 0.133 - train_loss: 2.424 - train_acc: 0.950\n"
     ]
    },
    {
     "name": "stderr",
     "output_type": "stream",
     "text": [
      "19 Nov 2023 06:19:28 [line:175] \u001b[32mTrain Loss: 2.388, Train Acc: 0.957, Test Loss: 1.814, Test Acc: 0.648, lr: 0.10000\u001b[0m\n"
     ]
    },
    {
     "name": "stdout",
     "output_type": "stream",
     "text": [
      "Epoch 91/240\n",
      "2023-11-19 06:21:49 [141/141] - 450.40ms/step - nd_loss: 0.989 - kd_loss: 1.878 - cls_loss: 0.211 - train_loss: 3.079 - train_acc: 0.950\n"
     ]
    },
    {
     "name": "stderr",
     "output_type": "stream",
     "text": [
      "19 Nov 2023 06:21:53 [line:175] \u001b[32mTrain Loss: 2.585, Train Acc: 0.943, Test Loss: 1.906, Test Acc: 0.623, lr: 0.10000\u001b[0m\n"
     ]
    },
    {
     "name": "stdout",
     "output_type": "stream",
     "text": [
      "Epoch 92/240\n",
      "2023-11-19 06:24:13 [141/141] - 451.57ms/step - nd_loss: 0.989 - kd_loss: 1.170 - cls_loss: 0.243 - train_loss: 2.402 - train_acc: 0.925\n"
     ]
    },
    {
     "name": "stderr",
     "output_type": "stream",
     "text": [
      "19 Nov 2023 06:24:17 [line:175] \u001b[32mTrain Loss: 2.500, Train Acc: 0.950, Test Loss: 1.581, Test Acc: 0.645, lr: 0.10000\u001b[0m\n"
     ]
    },
    {
     "name": "stdout",
     "output_type": "stream",
     "text": [
      "Epoch 93/240\n",
      "2023-11-19 06:26:38 [141/141] - 450.94ms/step - nd_loss: 0.988 - kd_loss: 1.539 - cls_loss: 0.132 - train_loss: 2.659 - train_acc: 0.950\n"
     ]
    },
    {
     "name": "stderr",
     "output_type": "stream",
     "text": [
      "19 Nov 2023 06:26:42 [line:175] \u001b[32mTrain Loss: 2.330, Train Acc: 0.963, Test Loss: 1.810, Test Acc: 0.635, lr: 0.10000\u001b[0m\n"
     ]
    },
    {
     "name": "stdout",
     "output_type": "stream",
     "text": [
      "Epoch 94/240\n",
      "2023-11-19 06:29:02 [141/141] - 450.53ms/step - nd_loss: 0.988 - kd_loss: 1.037 - cls_loss: 0.122 - train_loss: 2.148 - train_acc: 0.975\n"
     ]
    },
    {
     "name": "stderr",
     "output_type": "stream",
     "text": [
      "19 Nov 2023 06:29:07 [line:175] \u001b[32mTrain Loss: 2.219, Train Acc: 0.967, Test Loss: 1.509, Test Acc: 0.662, lr: 0.10000\u001b[0m\n"
     ]
    },
    {
     "name": "stdout",
     "output_type": "stream",
     "text": [
      "Epoch 95/240\n",
      "2023-11-19 06:31:27 [141/141] - 450.28ms/step - nd_loss: 0.988 - kd_loss: 1.446 - cls_loss: 0.116 - train_loss: 2.550 - train_acc: 0.950\n"
     ]
    },
    {
     "name": "stderr",
     "output_type": "stream",
     "text": [
      "19 Nov 2023 06:31:31 [line:175] \u001b[32mTrain Loss: 2.163, Train Acc: 0.972, Test Loss: 1.700, Test Acc: 0.645, lr: 0.10000\u001b[0m\n"
     ]
    },
    {
     "name": "stdout",
     "output_type": "stream",
     "text": [
      "Epoch 96/240\n",
      "2023-11-19 06:33:52 [141/141] - 451.13ms/step - nd_loss: 0.988 - kd_loss: 1.443 - cls_loss: 0.337 - train_loss: 2.767 - train_acc: 0.875\n"
     ]
    },
    {
     "name": "stderr",
     "output_type": "stream",
     "text": [
      "19 Nov 2023 06:33:56 [line:175] \u001b[32mTrain Loss: 2.310, Train Acc: 0.962, Test Loss: 1.575, Test Acc: 0.620, lr: 0.10000\u001b[0m\n"
     ]
    },
    {
     "name": "stdout",
     "output_type": "stream",
     "text": [
      "Epoch 97/240\n",
      "2023-11-19 06:36:16 [141/141] - 450.88ms/step - nd_loss: 0.988 - kd_loss: 1.579 - cls_loss: 0.184 - train_loss: 2.752 - train_acc: 0.925\n"
     ]
    },
    {
     "name": "stderr",
     "output_type": "stream",
     "text": [
      "19 Nov 2023 06:36:20 [line:175] \u001b[32mTrain Loss: 2.404, Train Acc: 0.958, Test Loss: 1.596, Test Acc: 0.660, lr: 0.10000\u001b[0m\n"
     ]
    },
    {
     "name": "stdout",
     "output_type": "stream",
     "text": [
      "Epoch 98/240\n",
      "2023-11-19 06:38:41 [141/141] - 451.88ms/step - nd_loss: 0.989 - kd_loss: 1.090 - cls_loss: 0.128 - train_loss: 2.207 - train_acc: 0.975\n"
     ]
    },
    {
     "name": "stderr",
     "output_type": "stream",
     "text": [
      "19 Nov 2023 06:38:45 [line:175] \u001b[32mTrain Loss: 2.574, Train Acc: 0.942, Test Loss: 1.676, Test Acc: 0.641, lr: 0.10000\u001b[0m\n"
     ]
    },
    {
     "name": "stdout",
     "output_type": "stream",
     "text": [
      "Epoch 99/240\n",
      "2023-11-19 06:41:06 [141/141] - 450.81ms/step - nd_loss: 0.988 - kd_loss: 1.522 - cls_loss: 0.219 - train_loss: 2.729 - train_acc: 0.875\n"
     ]
    },
    {
     "name": "stderr",
     "output_type": "stream",
     "text": [
      "19 Nov 2023 06:41:10 [line:175] \u001b[32mTrain Loss: 2.545, Train Acc: 0.944, Test Loss: 1.435, Test Acc: 0.656, lr: 0.10000\u001b[0m\n"
     ]
    },
    {
     "name": "stdout",
     "output_type": "stream",
     "text": [
      "Epoch 100/240\n",
      "2023-11-19 06:43:30 [141/141] - 450.84ms/step - nd_loss: 0.988 - kd_loss: 1.292 - cls_loss: 0.149 - train_loss: 2.429 - train_acc: 0.950\n"
     ]
    },
    {
     "name": "stderr",
     "output_type": "stream",
     "text": [
      "19 Nov 2023 06:43:34 [line:175] \u001b[32mTrain Loss: 2.321, Train Acc: 0.964, Test Loss: 1.423, Test Acc: 0.676, lr: 0.10000\u001b[0m\n"
     ]
    },
    {
     "name": "stdout",
     "output_type": "stream",
     "text": [
      "Epoch 101/240\n",
      "2023-11-19 06:45:55 [141/141] - 450.81ms/step - nd_loss: 0.989 - kd_loss: 1.276 - cls_loss: 0.140 - train_loss: 2.405 - train_acc: 0.975\n"
     ]
    },
    {
     "name": "stderr",
     "output_type": "stream",
     "text": [
      "19 Nov 2023 06:45:59 [line:175] \u001b[32mTrain Loss: 2.145, Train Acc: 0.977, Test Loss: 1.352, Test Acc: 0.653, lr: 0.10000\u001b[0m\n"
     ]
    },
    {
     "name": "stdout",
     "output_type": "stream",
     "text": [
      "Epoch 102/240\n",
      "2023-11-19 06:48:19 [141/141] - 451.91ms/step - nd_loss: 0.988 - kd_loss: 1.127 - cls_loss: 0.172 - train_loss: 2.286 - train_acc: 0.925\n"
     ]
    },
    {
     "name": "stderr",
     "output_type": "stream",
     "text": [
      "19 Nov 2023 06:48:24 [line:175] \u001b[32mTrain Loss: 2.187, Train Acc: 0.970, Test Loss: 1.377, Test Acc: 0.665, lr: 0.10000\u001b[0m\n"
     ]
    },
    {
     "name": "stdout",
     "output_type": "stream",
     "text": [
      "Epoch 103/240\n",
      "2023-11-19 06:50:44 [141/141] - 451.33ms/step - nd_loss: 0.988 - kd_loss: 1.175 - cls_loss: 0.169 - train_loss: 2.332 - train_acc: 0.950\n"
     ]
    },
    {
     "name": "stderr",
     "output_type": "stream",
     "text": [
      "19 Nov 2023 06:50:48 [line:175] \u001b[32mTrain Loss: 2.198, Train Acc: 0.968, Test Loss: 1.693, Test Acc: 0.639, lr: 0.10000\u001b[0m\n"
     ]
    },
    {
     "name": "stdout",
     "output_type": "stream",
     "text": [
      "Epoch 104/240\n",
      "2023-11-19 06:53:09 [141/141] - 450.07ms/step - nd_loss: 0.988 - kd_loss: 1.106 - cls_loss: 0.108 - train_loss: 2.202 - train_acc: 0.975\n"
     ]
    },
    {
     "name": "stderr",
     "output_type": "stream",
     "text": [
      "19 Nov 2023 06:53:13 [line:175] \u001b[32mTrain Loss: 2.352, Train Acc: 0.955, Test Loss: 1.815, Test Acc: 0.635, lr: 0.10000\u001b[0m\n"
     ]
    },
    {
     "name": "stdout",
     "output_type": "stream",
     "text": [
      "Epoch 105/240\n",
      "2023-11-19 06:55:33 [141/141] - 452.18ms/step - nd_loss: 0.988 - kd_loss: 1.048 - cls_loss: 0.072 - train_loss: 2.108 - train_acc: 1.000\n"
     ]
    },
    {
     "name": "stderr",
     "output_type": "stream",
     "text": [
      "19 Nov 2023 06:55:38 [line:175] \u001b[32mTrain Loss: 2.403, Train Acc: 0.953, Test Loss: 1.813, Test Acc: 0.611, lr: 0.10000\u001b[0m\n"
     ]
    },
    {
     "name": "stdout",
     "output_type": "stream",
     "text": [
      "Epoch 106/240\n",
      "2023-11-19 06:57:58 [141/141] - 450.73ms/step - nd_loss: 0.989 - kd_loss: 1.315 - cls_loss: 0.222 - train_loss: 2.525 - train_acc: 0.900\n"
     ]
    },
    {
     "name": "stderr",
     "output_type": "stream",
     "text": [
      "19 Nov 2023 06:58:02 [line:175] \u001b[32mTrain Loss: 2.397, Train Acc: 0.949, Test Loss: 1.564, Test Acc: 0.641, lr: 0.10000\u001b[0m\n"
     ]
    },
    {
     "name": "stdout",
     "output_type": "stream",
     "text": [
      "Epoch 107/240\n",
      "2023-11-19 07:00:23 [141/141] - 451.02ms/step - nd_loss: 0.988 - kd_loss: 1.133 - cls_loss: 0.058 - train_loss: 2.178 - train_acc: 0.975\n"
     ]
    },
    {
     "name": "stderr",
     "output_type": "stream",
     "text": [
      "19 Nov 2023 07:00:27 [line:175] \u001b[32mTrain Loss: 2.377, Train Acc: 0.960, Test Loss: 1.445, Test Acc: 0.654, lr: 0.10000\u001b[0m\n"
     ]
    },
    {
     "name": "stdout",
     "output_type": "stream",
     "text": [
      "Epoch 108/240\n",
      "2023-11-19 07:02:47 [141/141] - 450.55ms/step - nd_loss: 0.988 - kd_loss: 0.893 - cls_loss: 0.115 - train_loss: 1.996 - train_acc: 0.975\n"
     ]
    },
    {
     "name": "stderr",
     "output_type": "stream",
     "text": [
      "19 Nov 2023 07:02:52 [line:175] \u001b[32mTrain Loss: 2.159, Train Acc: 0.972, Test Loss: 1.361, Test Acc: 0.681, lr: 0.10000\u001b[0m\n"
     ]
    },
    {
     "name": "stdout",
     "output_type": "stream",
     "text": [
      "Epoch 109/240\n",
      "2023-11-19 07:05:12 [141/141] - 451.42ms/step - nd_loss: 0.988 - kd_loss: 1.368 - cls_loss: 0.289 - train_loss: 2.644 - train_acc: 0.925\n"
     ]
    },
    {
     "name": "stderr",
     "output_type": "stream",
     "text": [
      "19 Nov 2023 07:05:16 [line:175] \u001b[32mTrain Loss: 2.185, Train Acc: 0.971, Test Loss: 1.408, Test Acc: 0.678, lr: 0.10000\u001b[0m\n"
     ]
    },
    {
     "name": "stdout",
     "output_type": "stream",
     "text": [
      "Epoch 110/240\n",
      "2023-11-19 07:07:37 [141/141] - 450.91ms/step - nd_loss: 0.987 - kd_loss: 1.182 - cls_loss: 0.064 - train_loss: 2.233 - train_acc: 1.000\n"
     ]
    },
    {
     "name": "stderr",
     "output_type": "stream",
     "text": [
      "19 Nov 2023 07:07:41 [line:175] \u001b[32mTrain Loss: 2.123, Train Acc: 0.975, Test Loss: 1.331, Test Acc: 0.690, lr: 0.10000\u001b[0m\n"
     ]
    },
    {
     "name": "stdout",
     "output_type": "stream",
     "text": [
      "Epoch 111/240\n",
      "2023-11-19 07:10:01 [141/141] - 451.47ms/step - nd_loss: 0.988 - kd_loss: 1.091 - cls_loss: 0.109 - train_loss: 2.188 - train_acc: 0.975\n"
     ]
    },
    {
     "name": "stderr",
     "output_type": "stream",
     "text": [
      "19 Nov 2023 07:10:06 [line:175] \u001b[32mTrain Loss: 2.144, Train Acc: 0.973, Test Loss: 1.544, Test Acc: 0.665, lr: 0.10000\u001b[0m\n"
     ]
    },
    {
     "name": "stdout",
     "output_type": "stream",
     "text": [
      "Epoch 112/240\n",
      "2023-11-19 07:12:26 [141/141] - 451.64ms/step - nd_loss: 0.988 - kd_loss: 1.543 - cls_loss: 0.181 - train_loss: 2.712 - train_acc: 0.975\n"
     ]
    },
    {
     "name": "stderr",
     "output_type": "stream",
     "text": [
      "19 Nov 2023 07:12:30 [line:175] \u001b[32mTrain Loss: 2.237, Train Acc: 0.966, Test Loss: 1.527, Test Acc: 0.658, lr: 0.10000\u001b[0m\n"
     ]
    },
    {
     "name": "stdout",
     "output_type": "stream",
     "text": [
      "Epoch 113/240\n",
      "2023-11-19 07:14:51 [141/141] - 451.06ms/step - nd_loss: 0.987 - kd_loss: 1.693 - cls_loss: 0.196 - train_loss: 2.876 - train_acc: 0.925\n"
     ]
    },
    {
     "name": "stderr",
     "output_type": "stream",
     "text": [
      "19 Nov 2023 07:14:55 [line:175] \u001b[32mTrain Loss: 2.353, Train Acc: 0.959, Test Loss: 1.448, Test Acc: 0.659, lr: 0.10000\u001b[0m\n"
     ]
    },
    {
     "name": "stdout",
     "output_type": "stream",
     "text": [
      "Epoch 114/240\n",
      "2023-11-19 07:17:15 [141/141] - 451.41ms/step - nd_loss: 0.988 - kd_loss: 1.436 - cls_loss: 0.235 - train_loss: 2.659 - train_acc: 0.925\n"
     ]
    },
    {
     "name": "stderr",
     "output_type": "stream",
     "text": [
      "19 Nov 2023 07:17:20 [line:175] \u001b[32mTrain Loss: 2.250, Train Acc: 0.963, Test Loss: 1.520, Test Acc: 0.645, lr: 0.10000\u001b[0m\n"
     ]
    },
    {
     "name": "stdout",
     "output_type": "stream",
     "text": [
      "Epoch 115/240\n",
      "2023-11-19 07:19:40 [141/141] - 451.47ms/step - nd_loss: 0.987 - kd_loss: 1.298 - cls_loss: 0.257 - train_loss: 2.543 - train_acc: 0.875\n"
     ]
    },
    {
     "name": "stderr",
     "output_type": "stream",
     "text": [
      "19 Nov 2023 07:19:44 [line:175] \u001b[32mTrain Loss: 2.217, Train Acc: 0.967, Test Loss: 1.405, Test Acc: 0.665, lr: 0.10000\u001b[0m\n"
     ]
    },
    {
     "name": "stdout",
     "output_type": "stream",
     "text": [
      "Epoch 116/240\n",
      "2023-11-19 07:22:05 [141/141] - 451.88ms/step - nd_loss: 0.988 - kd_loss: 0.980 - cls_loss: 0.099 - train_loss: 2.067 - train_acc: 0.975\n"
     ]
    },
    {
     "name": "stderr",
     "output_type": "stream",
     "text": [
      "19 Nov 2023 07:22:09 [line:175] \u001b[32mTrain Loss: 2.147, Train Acc: 0.970, Test Loss: 1.511, Test Acc: 0.658, lr: 0.10000\u001b[0m\n"
     ]
    },
    {
     "name": "stdout",
     "output_type": "stream",
     "text": [
      "Epoch 117/240\n",
      "2023-11-19 07:24:29 [141/141] - 452.36ms/step - nd_loss: 0.986 - kd_loss: 0.875 - cls_loss: 0.093 - train_loss: 1.954 - train_acc: 0.975\n"
     ]
    },
    {
     "name": "stderr",
     "output_type": "stream",
     "text": [
      "19 Nov 2023 07:24:33 [line:175] \u001b[32mTrain Loss: 2.112, Train Acc: 0.974, Test Loss: 1.488, Test Acc: 0.675, lr: 0.10000\u001b[0m\n"
     ]
    },
    {
     "name": "stdout",
     "output_type": "stream",
     "text": [
      "Epoch 118/240\n",
      "2023-11-19 07:26:54 [141/141] - 451.53ms/step - nd_loss: 0.987 - kd_loss: 0.983 - cls_loss: 0.102 - train_loss: 2.072 - train_acc: 0.950\n"
     ]
    },
    {
     "name": "stderr",
     "output_type": "stream",
     "text": [
      "19 Nov 2023 07:26:58 [line:175] \u001b[32mTrain Loss: 2.135, Train Acc: 0.974, Test Loss: 1.316, Test Acc: 0.680, lr: 0.10000\u001b[0m\n"
     ]
    },
    {
     "name": "stdout",
     "output_type": "stream",
     "text": [
      "Epoch 119/240\n",
      "2023-11-19 07:29:19 [141/141] - 452.76ms/step - nd_loss: 0.987 - kd_loss: 1.459 - cls_loss: 0.103 - train_loss: 2.548 - train_acc: 0.975\n"
     ]
    },
    {
     "name": "stderr",
     "output_type": "stream",
     "text": [
      "19 Nov 2023 07:29:23 [line:175] \u001b[32mTrain Loss: 2.182, Train Acc: 0.970, Test Loss: 1.588, Test Acc: 0.636, lr: 0.10000\u001b[0m\n"
     ]
    },
    {
     "name": "stdout",
     "output_type": "stream",
     "text": [
      "Epoch 120/240\n",
      "2023-11-19 07:31:43 [141/141] - 450.39ms/step - nd_loss: 0.988 - kd_loss: 1.696 - cls_loss: 0.212 - train_loss: 2.895 - train_acc: 0.925\n"
     ]
    },
    {
     "name": "stderr",
     "output_type": "stream",
     "text": [
      "19 Nov 2023 07:31:47 [line:175] \u001b[32mTrain Loss: 2.126, Train Acc: 0.971, Test Loss: 1.428, Test Acc: 0.680, lr: 0.10000\u001b[0m\n"
     ]
    },
    {
     "name": "stdout",
     "output_type": "stream",
     "text": [
      "Epoch 121/240\n",
      "2023-11-19 07:34:08 [141/141] - 450.50ms/step - nd_loss: 0.987 - kd_loss: 1.185 - cls_loss: 0.066 - train_loss: 2.237 - train_acc: 0.975\n"
     ]
    },
    {
     "name": "stderr",
     "output_type": "stream",
     "text": [
      "19 Nov 2023 07:34:12 [line:175] \u001b[32mTrain Loss: 2.241, Train Acc: 0.965, Test Loss: 1.375, Test Acc: 0.680, lr: 0.10000\u001b[0m\n"
     ]
    },
    {
     "name": "stdout",
     "output_type": "stream",
     "text": [
      "Epoch 122/240\n",
      "2023-11-19 07:36:33 [141/141] - 450.55ms/step - nd_loss: 0.988 - kd_loss: 1.139 - cls_loss: 0.062 - train_loss: 2.190 - train_acc: 1.000\n"
     ]
    },
    {
     "name": "stderr",
     "output_type": "stream",
     "text": [
      "19 Nov 2023 07:36:37 [line:175] \u001b[32mTrain Loss: 2.164, Train Acc: 0.971, Test Loss: 1.380, Test Acc: 0.669, lr: 0.10000\u001b[0m\n"
     ]
    },
    {
     "name": "stdout",
     "output_type": "stream",
     "text": [
      "Epoch 123/240\n",
      "2023-11-19 07:38:57 [141/141] - 451.21ms/step - nd_loss: 0.987 - kd_loss: 1.222 - cls_loss: 0.172 - train_loss: 2.382 - train_acc: 0.950\n"
     ]
    },
    {
     "name": "stderr",
     "output_type": "stream",
     "text": [
      "19 Nov 2023 07:39:01 [line:175] \u001b[32mTrain Loss: 2.130, Train Acc: 0.971, Test Loss: 1.594, Test Acc: 0.649, lr: 0.10000\u001b[0m\n"
     ]
    },
    {
     "name": "stdout",
     "output_type": "stream",
     "text": [
      "Epoch 124/240\n",
      "2023-11-19 07:41:22 [141/141] - 451.92ms/step - nd_loss: 0.987 - kd_loss: 1.277 - cls_loss: 0.175 - train_loss: 2.439 - train_acc: 0.900\n"
     ]
    },
    {
     "name": "stderr",
     "output_type": "stream",
     "text": [
      "19 Nov 2023 07:41:26 [line:175] \u001b[32mTrain Loss: 2.255, Train Acc: 0.969, Test Loss: 1.474, Test Acc: 0.661, lr: 0.10000\u001b[0m\n"
     ]
    },
    {
     "name": "stdout",
     "output_type": "stream",
     "text": [
      "Epoch 125/240\n",
      "2023-11-19 07:43:47 [141/141] - 450.42ms/step - nd_loss: 0.987 - kd_loss: 1.435 - cls_loss: 0.178 - train_loss: 2.600 - train_acc: 0.925\n"
     ]
    },
    {
     "name": "stderr",
     "output_type": "stream",
     "text": [
      "19 Nov 2023 07:43:51 [line:175] \u001b[32mTrain Loss: 2.267, Train Acc: 0.965, Test Loss: 1.890, Test Acc: 0.626, lr: 0.10000\u001b[0m\n"
     ]
    },
    {
     "name": "stdout",
     "output_type": "stream",
     "text": [
      "Epoch 126/240\n",
      "2023-11-19 07:46:11 [141/141] - 451.39ms/step - nd_loss: 0.987 - kd_loss: 1.080 - cls_loss: 0.079 - train_loss: 2.146 - train_acc: 0.975\n"
     ]
    },
    {
     "name": "stderr",
     "output_type": "stream",
     "text": [
      "19 Nov 2023 07:46:15 [line:175] \u001b[32mTrain Loss: 2.261, Train Acc: 0.963, Test Loss: 1.500, Test Acc: 0.653, lr: 0.10000\u001b[0m\n"
     ]
    },
    {
     "name": "stdout",
     "output_type": "stream",
     "text": [
      "Epoch 127/240\n",
      "2023-11-19 07:48:36 [141/141] - 451.62ms/step - nd_loss: 0.987 - kd_loss: 1.253 - cls_loss: 0.158 - train_loss: 2.398 - train_acc: 0.950\n"
     ]
    },
    {
     "name": "stderr",
     "output_type": "stream",
     "text": [
      "19 Nov 2023 07:48:40 [line:175] \u001b[32mTrain Loss: 2.209, Train Acc: 0.969, Test Loss: 1.445, Test Acc: 0.656, lr: 0.10000\u001b[0m\n"
     ]
    },
    {
     "name": "stdout",
     "output_type": "stream",
     "text": [
      "Epoch 128/240\n",
      "2023-11-19 07:51:01 [141/141] - 451.86ms/step - nd_loss: 0.986 - kd_loss: 0.864 - cls_loss: 0.036 - train_loss: 1.886 - train_acc: 1.000\n"
     ]
    },
    {
     "name": "stderr",
     "output_type": "stream",
     "text": [
      "19 Nov 2023 07:51:05 [line:175] \u001b[32mTrain Loss: 2.114, Train Acc: 0.977, Test Loss: 1.403, Test Acc: 0.677, lr: 0.10000\u001b[0m\n"
     ]
    },
    {
     "name": "stdout",
     "output_type": "stream",
     "text": [
      "Epoch 129/240\n",
      "2023-11-19 07:53:25 [141/141] - 450.87ms/step - nd_loss: 0.987 - kd_loss: 0.945 - cls_loss: 0.045 - train_loss: 1.977 - train_acc: 1.000\n"
     ]
    },
    {
     "name": "stderr",
     "output_type": "stream",
     "text": [
      "19 Nov 2023 07:53:29 [line:175] \u001b[32mTrain Loss: 1.982, Train Acc: 0.980, Test Loss: 1.261, Test Acc: 0.693, lr: 0.10000\u001b[0m\n"
     ]
    },
    {
     "name": "stdout",
     "output_type": "stream",
     "text": [
      "Epoch 130/240\n",
      "2023-11-19 07:55:50 [141/141] - 451.68ms/step - nd_loss: 0.986 - kd_loss: 0.823 - cls_loss: 0.098 - train_loss: 1.907 - train_acc: 1.000\n"
     ]
    },
    {
     "name": "stderr",
     "output_type": "stream",
     "text": [
      "19 Nov 2023 07:55:54 [line:175] \u001b[32mTrain Loss: 2.020, Train Acc: 0.977, Test Loss: 1.317, Test Acc: 0.675, lr: 0.10000\u001b[0m\n"
     ]
    },
    {
     "name": "stdout",
     "output_type": "stream",
     "text": [
      "Epoch 131/240\n",
      "2023-11-19 07:58:14 [141/141] - 450.39ms/step - nd_loss: 0.987 - kd_loss: 1.789 - cls_loss: 0.207 - train_loss: 2.983 - train_acc: 0.925\n"
     ]
    },
    {
     "name": "stderr",
     "output_type": "stream",
     "text": [
      "19 Nov 2023 07:58:19 [line:175] \u001b[32mTrain Loss: 2.157, Train Acc: 0.969, Test Loss: 1.894, Test Acc: 0.624, lr: 0.10000\u001b[0m\n"
     ]
    },
    {
     "name": "stdout",
     "output_type": "stream",
     "text": [
      "Epoch 132/240\n",
      "2023-11-19 08:00:39 [141/141] - 450.60ms/step - nd_loss: 0.987 - kd_loss: 1.299 - cls_loss: 0.077 - train_loss: 2.362 - train_acc: 0.975\n"
     ]
    },
    {
     "name": "stderr",
     "output_type": "stream",
     "text": [
      "19 Nov 2023 08:00:43 [line:175] \u001b[32mTrain Loss: 2.322, Train Acc: 0.960, Test Loss: 1.840, Test Acc: 0.615, lr: 0.10000\u001b[0m\n"
     ]
    },
    {
     "name": "stdout",
     "output_type": "stream",
     "text": [
      "Epoch 133/240\n",
      "2023-11-19 08:03:04 [141/141] - 451.83ms/step - nd_loss: 0.987 - kd_loss: 1.089 - cls_loss: 0.146 - train_loss: 2.222 - train_acc: 0.950\n"
     ]
    },
    {
     "name": "stderr",
     "output_type": "stream",
     "text": [
      "19 Nov 2023 08:03:08 [line:175] \u001b[32mTrain Loss: 2.409, Train Acc: 0.954, Test Loss: 1.761, Test Acc: 0.635, lr: 0.10000\u001b[0m\n"
     ]
    },
    {
     "name": "stdout",
     "output_type": "stream",
     "text": [
      "Epoch 134/240\n",
      "2023-11-19 08:05:28 [141/141] - 450.29ms/step - nd_loss: 0.987 - kd_loss: 1.306 - cls_loss: 0.068 - train_loss: 2.361 - train_acc: 1.000\n"
     ]
    },
    {
     "name": "stderr",
     "output_type": "stream",
     "text": [
      "19 Nov 2023 08:05:33 [line:175] \u001b[32mTrain Loss: 2.211, Train Acc: 0.969, Test Loss: 1.430, Test Acc: 0.674, lr: 0.10000\u001b[0m\n"
     ]
    },
    {
     "name": "stdout",
     "output_type": "stream",
     "text": [
      "Epoch 135/240\n",
      "2023-11-19 08:07:53 [141/141] - 451.21ms/step - nd_loss: 0.987 - kd_loss: 0.829 - cls_loss: 0.064 - train_loss: 1.880 - train_acc: 0.975\n"
     ]
    },
    {
     "name": "stderr",
     "output_type": "stream",
     "text": [
      "19 Nov 2023 08:07:57 [line:175] \u001b[32mTrain Loss: 2.059, Train Acc: 0.976, Test Loss: 1.335, Test Acc: 0.678, lr: 0.10000\u001b[0m\n"
     ]
    },
    {
     "name": "stdout",
     "output_type": "stream",
     "text": [
      "Epoch 136/240\n",
      "2023-11-19 08:10:18 [141/141] - 450.96ms/step - nd_loss: 0.986 - kd_loss: 0.727 - cls_loss: 0.044 - train_loss: 1.758 - train_acc: 1.000\n"
     ]
    },
    {
     "name": "stderr",
     "output_type": "stream",
     "text": [
      "19 Nov 2023 08:10:22 [line:175] \u001b[32mTrain Loss: 1.915, Train Acc: 0.986, Test Loss: 1.617, Test Acc: 0.641, lr: 0.10000\u001b[0m\n"
     ]
    },
    {
     "name": "stdout",
     "output_type": "stream",
     "text": [
      "Epoch 137/240\n",
      "2023-11-19 08:12:42 [141/141] - 450.28ms/step - nd_loss: 0.986 - kd_loss: 0.770 - cls_loss: 0.131 - train_loss: 1.887 - train_acc: 0.950\n"
     ]
    },
    {
     "name": "stderr",
     "output_type": "stream",
     "text": [
      "19 Nov 2023 08:12:47 [line:175] \u001b[32mTrain Loss: 1.887, Train Acc: 0.985, Test Loss: 1.539, Test Acc: 0.643, lr: 0.10000\u001b[0m\n"
     ]
    },
    {
     "name": "stdout",
     "output_type": "stream",
     "text": [
      "Epoch 138/240\n",
      "2023-11-19 08:15:07 [141/141] - 450.27ms/step - nd_loss: 0.987 - kd_loss: 1.099 - cls_loss: 0.068 - train_loss: 2.155 - train_acc: 1.000\n"
     ]
    },
    {
     "name": "stderr",
     "output_type": "stream",
     "text": [
      "19 Nov 2023 08:15:11 [line:175] \u001b[32mTrain Loss: 2.092, Train Acc: 0.973, Test Loss: 1.343, Test Acc: 0.684, lr: 0.10000\u001b[0m\n"
     ]
    },
    {
     "name": "stdout",
     "output_type": "stream",
     "text": [
      "Epoch 139/240\n",
      "2023-11-19 08:17:32 [141/141] - 451.84ms/step - nd_loss: 0.987 - kd_loss: 1.756 - cls_loss: 0.182 - train_loss: 2.925 - train_acc: 0.950\n"
     ]
    },
    {
     "name": "stderr",
     "output_type": "stream",
     "text": [
      "19 Nov 2023 08:17:36 [line:175] \u001b[32mTrain Loss: 2.436, Train Acc: 0.945, Test Loss: 1.522, Test Acc: 0.653, lr: 0.10000\u001b[0m\n"
     ]
    },
    {
     "name": "stdout",
     "output_type": "stream",
     "text": [
      "Epoch 140/240\n",
      "2023-11-19 08:19:56 [141/141] - 451.37ms/step - nd_loss: 0.987 - kd_loss: 1.134 - cls_loss: 0.050 - train_loss: 2.171 - train_acc: 1.000\n"
     ]
    },
    {
     "name": "stderr",
     "output_type": "stream",
     "text": [
      "19 Nov 2023 08:20:01 [line:175] \u001b[32mTrain Loss: 2.414, Train Acc: 0.954, Test Loss: 1.322, Test Acc: 0.667, lr: 0.10000\u001b[0m\n"
     ]
    },
    {
     "name": "stdout",
     "output_type": "stream",
     "text": [
      "Epoch 141/240\n",
      "2023-11-19 08:22:21 [141/141] - 450.70ms/step - nd_loss: 0.987 - kd_loss: 0.970 - cls_loss: 0.076 - train_loss: 2.034 - train_acc: 1.000\n"
     ]
    },
    {
     "name": "stderr",
     "output_type": "stream",
     "text": [
      "19 Nov 2023 08:22:25 [line:175] \u001b[32mTrain Loss: 2.247, Train Acc: 0.964, Test Loss: 1.461, Test Acc: 0.670, lr: 0.10000\u001b[0m\n"
     ]
    },
    {
     "name": "stdout",
     "output_type": "stream",
     "text": [
      "Epoch 142/240\n",
      "2023-11-19 08:24:46 [141/141] - 451.47ms/step - nd_loss: 0.988 - kd_loss: 1.154 - cls_loss: 0.146 - train_loss: 2.288 - train_acc: 0.950\n"
     ]
    },
    {
     "name": "stderr",
     "output_type": "stream",
     "text": [
      "19 Nov 2023 08:24:50 [line:175] \u001b[32mTrain Loss: 2.043, Train Acc: 0.977, Test Loss: 1.525, Test Acc: 0.621, lr: 0.10000\u001b[0m\n"
     ]
    },
    {
     "name": "stdout",
     "output_type": "stream",
     "text": [
      "Epoch 143/240\n",
      "2023-11-19 08:27:10 [141/141] - 451.81ms/step - nd_loss: 0.986 - kd_loss: 1.132 - cls_loss: 0.122 - train_loss: 2.240 - train_acc: 0.975\n"
     ]
    },
    {
     "name": "stderr",
     "output_type": "stream",
     "text": [
      "19 Nov 2023 08:27:14 [line:175] \u001b[32mTrain Loss: 1.916, Train Acc: 0.986, Test Loss: 1.281, Test Acc: 0.689, lr: 0.10000\u001b[0m\n"
     ]
    },
    {
     "name": "stdout",
     "output_type": "stream",
     "text": [
      "Epoch 144/240\n",
      "2023-11-19 08:29:35 [141/141] - 451.39ms/step - nd_loss: 0.986 - kd_loss: 0.801 - cls_loss: 0.048 - train_loss: 1.836 - train_acc: 1.000\n"
     ]
    },
    {
     "name": "stderr",
     "output_type": "stream",
     "text": [
      "19 Nov 2023 08:29:39 [line:175] \u001b[32mTrain Loss: 1.899, Train Acc: 0.987, Test Loss: 1.278, Test Acc: 0.675, lr: 0.10000\u001b[0m\n"
     ]
    },
    {
     "name": "stdout",
     "output_type": "stream",
     "text": [
      "Epoch 145/240\n",
      "2023-11-19 08:32:00 [141/141] - 451.29ms/step - nd_loss: 0.986 - kd_loss: 0.894 - cls_loss: 0.121 - train_loss: 2.000 - train_acc: 0.950\n"
     ]
    },
    {
     "name": "stderr",
     "output_type": "stream",
     "text": [
      "19 Nov 2023 08:32:04 [line:175] \u001b[32mTrain Loss: 1.918, Train Acc: 0.983, Test Loss: 1.510, Test Acc: 0.655, lr: 0.10000\u001b[0m\n"
     ]
    },
    {
     "name": "stdout",
     "output_type": "stream",
     "text": [
      "Epoch 146/240\n",
      "2023-11-19 08:34:24 [141/141] - 451.18ms/step - nd_loss: 0.986 - kd_loss: 1.154 - cls_loss: 0.131 - train_loss: 2.271 - train_acc: 0.950\n"
     ]
    },
    {
     "name": "stderr",
     "output_type": "stream",
     "text": [
      "19 Nov 2023 08:34:28 [line:175] \u001b[32mTrain Loss: 2.045, Train Acc: 0.972, Test Loss: 1.567, Test Acc: 0.653, lr: 0.10000\u001b[0m\n"
     ]
    },
    {
     "name": "stdout",
     "output_type": "stream",
     "text": [
      "Epoch 147/240\n",
      "2023-11-19 08:36:49 [141/141] - 450.43ms/step - nd_loss: 0.986 - kd_loss: 1.274 - cls_loss: 0.159 - train_loss: 2.419 - train_acc: 0.925\n"
     ]
    },
    {
     "name": "stderr",
     "output_type": "stream",
     "text": [
      "19 Nov 2023 08:36:53 [line:175] \u001b[32mTrain Loss: 2.306, Train Acc: 0.960, Test Loss: 1.860, Test Acc: 0.633, lr: 0.10000\u001b[0m\n"
     ]
    },
    {
     "name": "stdout",
     "output_type": "stream",
     "text": [
      "Epoch 148/240\n",
      "2023-11-19 08:39:14 [141/141] - 453.05ms/step - nd_loss: 0.987 - kd_loss: 1.192 - cls_loss: 0.220 - train_loss: 2.399 - train_acc: 0.925\n"
     ]
    },
    {
     "name": "stderr",
     "output_type": "stream",
     "text": [
      "19 Nov 2023 08:39:18 [line:175] \u001b[32mTrain Loss: 2.341, Train Acc: 0.955, Test Loss: 1.433, Test Acc: 0.663, lr: 0.10000\u001b[0m\n"
     ]
    },
    {
     "name": "stdout",
     "output_type": "stream",
     "text": [
      "Epoch 149/240\n",
      "2023-11-19 08:41:38 [141/141] - 451.15ms/step - nd_loss: 0.987 - kd_loss: 0.877 - cls_loss: 0.100 - train_loss: 1.964 - train_acc: 0.975\n"
     ]
    },
    {
     "name": "stderr",
     "output_type": "stream",
     "text": [
      "19 Nov 2023 08:41:42 [line:175] \u001b[32mTrain Loss: 2.123, Train Acc: 0.972, Test Loss: 1.323, Test Acc: 0.676, lr: 0.10000\u001b[0m\n"
     ]
    },
    {
     "name": "stdout",
     "output_type": "stream",
     "text": [
      "Epoch 150/240\n",
      "2023-11-19 08:44:03 [141/141] - 451.49ms/step - nd_loss: 0.986 - kd_loss: 0.933 - cls_loss: 0.068 - train_loss: 1.988 - train_acc: 1.000\n"
     ]
    },
    {
     "name": "stderr",
     "output_type": "stream",
     "text": [
      "19 Nov 2023 08:44:07 [line:175] \u001b[32mTrain Loss: 2.000, Train Acc: 0.979, Test Loss: 1.595, Test Acc: 0.643, lr: 0.10000\u001b[0m\n"
     ]
    },
    {
     "name": "stdout",
     "output_type": "stream",
     "text": [
      "Epoch 151/240\n",
      "2023-11-19 08:46:28 [141/141] - 450.34ms/step - nd_loss: 0.986 - kd_loss: 0.547 - cls_loss: 0.041 - train_loss: 1.575 - train_acc: 0.975\n"
     ]
    },
    {
     "name": "stderr",
     "output_type": "stream",
     "text": [
      "19 Nov 2023 08:46:32 [line:175] \u001b[32mTrain Loss: 1.621, Train Acc: 0.996, Test Loss: 1.179, Test Acc: 0.704, lr: 0.01000\u001b[0m\n"
     ]
    },
    {
     "name": "stdout",
     "output_type": "stream",
     "text": [
      "Epoch 152/240\n",
      "2023-11-19 08:48:52 [141/141] - 450.57ms/step - nd_loss: 0.988 - kd_loss: 0.604 - cls_loss: 0.006 - train_loss: 1.597 - train_acc: 1.000\n"
     ]
    },
    {
     "name": "stderr",
     "output_type": "stream",
     "text": [
      "19 Nov 2023 08:48:56 [line:175] \u001b[32mTrain Loss: 1.482, Train Acc: 0.999, Test Loss: 1.169, Test Acc: 0.701, lr: 0.01000\u001b[0m\n"
     ]
    },
    {
     "name": "stdout",
     "output_type": "stream",
     "text": [
      "Epoch 153/240\n",
      "2023-11-19 08:51:17 [141/141] - 451.04ms/step - nd_loss: 0.987 - kd_loss: 0.459 - cls_loss: 0.059 - train_loss: 1.505 - train_acc: 1.000\n"
     ]
    },
    {
     "name": "stderr",
     "output_type": "stream",
     "text": [
      "19 Nov 2023 08:51:21 [line:175] \u001b[32mTrain Loss: 1.423, Train Acc: 0.999, Test Loss: 1.181, Test Acc: 0.696, lr: 0.01000\u001b[0m\n"
     ]
    },
    {
     "name": "stdout",
     "output_type": "stream",
     "text": [
      "Epoch 154/240\n",
      "2023-11-19 08:53:41 [141/141] - 451.40ms/step - nd_loss: 0.986 - kd_loss: 0.367 - cls_loss: 0.010 - train_loss: 1.363 - train_acc: 1.000\n"
     ]
    },
    {
     "name": "stderr",
     "output_type": "stream",
     "text": [
      "19 Nov 2023 08:53:46 [line:175] \u001b[32mTrain Loss: 1.385, Train Acc: 0.999, Test Loss: 1.185, Test Acc: 0.700, lr: 0.01000\u001b[0m\n"
     ]
    },
    {
     "name": "stdout",
     "output_type": "stream",
     "text": [
      "Epoch 155/240\n",
      "2023-11-19 08:56:06 [141/141] - 450.82ms/step - nd_loss: 0.986 - kd_loss: 0.421 - cls_loss: 0.013 - train_loss: 1.419 - train_acc: 1.000\n"
     ]
    },
    {
     "name": "stderr",
     "output_type": "stream",
     "text": [
      "19 Nov 2023 08:56:10 [line:175] \u001b[32mTrain Loss: 1.371, Train Acc: 0.999, Test Loss: 1.170, Test Acc: 0.704, lr: 0.01000\u001b[0m\n"
     ]
    },
    {
     "name": "stdout",
     "output_type": "stream",
     "text": [
      "Epoch 156/240\n",
      "2023-11-19 08:58:31 [141/141] - 451.95ms/step - nd_loss: 0.985 - kd_loss: 0.368 - cls_loss: 0.015 - train_loss: 1.368 - train_acc: 1.000\n"
     ]
    },
    {
     "name": "stderr",
     "output_type": "stream",
     "text": [
      "19 Nov 2023 08:58:35 [line:175] \u001b[32mTrain Loss: 1.353, Train Acc: 1.000, Test Loss: 1.160, Test Acc: 0.702, lr: 0.01000\u001b[0m\n"
     ]
    },
    {
     "name": "stdout",
     "output_type": "stream",
     "text": [
      "Epoch 157/240\n",
      "2023-11-19 09:00:55 [141/141] - 451.83ms/step - nd_loss: 0.985 - kd_loss: 0.370 - cls_loss: 0.060 - train_loss: 1.416 - train_acc: 0.975\n"
     ]
    },
    {
     "name": "stderr",
     "output_type": "stream",
     "text": [
      "19 Nov 2023 09:00:59 [line:175] \u001b[32mTrain Loss: 1.337, Train Acc: 1.000, Test Loss: 1.189, Test Acc: 0.698, lr: 0.01000\u001b[0m\n"
     ]
    },
    {
     "name": "stdout",
     "output_type": "stream",
     "text": [
      "Epoch 158/240\n",
      "2023-11-19 09:03:20 [141/141] - 451.41ms/step - nd_loss: 0.986 - kd_loss: 0.353 - cls_loss: 0.009 - train_loss: 1.347 - train_acc: 1.000\n"
     ]
    },
    {
     "name": "stderr",
     "output_type": "stream",
     "text": [
      "19 Nov 2023 09:03:24 [line:175] \u001b[32mTrain Loss: 1.318, Train Acc: 0.999, Test Loss: 1.172, Test Acc: 0.701, lr: 0.01000\u001b[0m\n"
     ]
    },
    {
     "name": "stdout",
     "output_type": "stream",
     "text": [
      "Epoch 159/240\n",
      "2023-11-19 09:05:45 [141/141] - 450.50ms/step - nd_loss: 0.985 - kd_loss: 0.338 - cls_loss: 0.013 - train_loss: 1.336 - train_acc: 1.000\n"
     ]
    },
    {
     "name": "stderr",
     "output_type": "stream",
     "text": [
      "19 Nov 2023 09:05:49 [line:175] \u001b[32mTrain Loss: 1.312, Train Acc: 1.000, Test Loss: 1.164, Test Acc: 0.701, lr: 0.01000\u001b[0m\n"
     ]
    },
    {
     "name": "stdout",
     "output_type": "stream",
     "text": [
      "Epoch 160/240\n",
      "2023-11-19 09:08:09 [141/141] - 451.55ms/step - nd_loss: 0.985 - kd_loss: 0.318 - cls_loss: 0.019 - train_loss: 1.321 - train_acc: 1.000\n"
     ]
    },
    {
     "name": "stderr",
     "output_type": "stream",
     "text": [
      "19 Nov 2023 09:08:13 [line:175] \u001b[32mTrain Loss: 1.307, Train Acc: 1.000, Test Loss: 1.180, Test Acc: 0.700, lr: 0.01000\u001b[0m\n"
     ]
    },
    {
     "name": "stdout",
     "output_type": "stream",
     "text": [
      "Epoch 161/240\n",
      "2023-11-19 09:10:34 [141/141] - 451.29ms/step - nd_loss: 0.984 - kd_loss: 0.329 - cls_loss: 0.015 - train_loss: 1.329 - train_acc: 1.000\n"
     ]
    },
    {
     "name": "stderr",
     "output_type": "stream",
     "text": [
      "19 Nov 2023 09:10:38 [line:175] \u001b[32mTrain Loss: 1.298, Train Acc: 1.000, Test Loss: 1.164, Test Acc: 0.698, lr: 0.01000\u001b[0m\n"
     ]
    },
    {
     "name": "stdout",
     "output_type": "stream",
     "text": [
      "Epoch 162/240\n",
      "2023-11-19 09:12:59 [141/141] - 451.64ms/step - nd_loss: 0.984 - kd_loss: 0.296 - cls_loss: 0.017 - train_loss: 1.297 - train_acc: 1.000\n"
     ]
    },
    {
     "name": "stderr",
     "output_type": "stream",
     "text": [
      "19 Nov 2023 09:13:03 [line:175] \u001b[32mTrain Loss: 1.287, Train Acc: 0.999, Test Loss: 1.164, Test Acc: 0.702, lr: 0.01000\u001b[0m\n"
     ]
    },
    {
     "name": "stdout",
     "output_type": "stream",
     "text": [
      "Epoch 163/240\n",
      "2023-11-19 09:15:23 [141/141] - 451.52ms/step - nd_loss: 0.984 - kd_loss: 0.311 - cls_loss: 0.020 - train_loss: 1.315 - train_acc: 1.000\n"
     ]
    },
    {
     "name": "stderr",
     "output_type": "stream",
     "text": [
      "19 Nov 2023 09:15:27 [line:175] \u001b[32mTrain Loss: 1.277, Train Acc: 1.000, Test Loss: 1.183, Test Acc: 0.698, lr: 0.01000\u001b[0m\n"
     ]
    },
    {
     "name": "stdout",
     "output_type": "stream",
     "text": [
      "Epoch 164/240\n",
      "2023-11-19 09:17:48 [141/141] - 451.15ms/step - nd_loss: 0.985 - kd_loss: 0.331 - cls_loss: 0.017 - train_loss: 1.332 - train_acc: 1.000\n"
     ]
    },
    {
     "name": "stderr",
     "output_type": "stream",
     "text": [
      "19 Nov 2023 09:17:52 [line:175] \u001b[32mTrain Loss: 1.269, Train Acc: 1.000, Test Loss: 1.170, Test Acc: 0.700, lr: 0.01000\u001b[0m\n"
     ]
    },
    {
     "name": "stdout",
     "output_type": "stream",
     "text": [
      "Epoch 165/240\n",
      "2023-11-19 09:20:13 [141/141] - 450.63ms/step - nd_loss: 0.984 - kd_loss: 0.263 - cls_loss: 0.015 - train_loss: 1.262 - train_acc: 1.000\n"
     ]
    },
    {
     "name": "stderr",
     "output_type": "stream",
     "text": [
      "19 Nov 2023 09:20:17 [line:175] \u001b[32mTrain Loss: 1.263, Train Acc: 1.000, Test Loss: 1.171, Test Acc: 0.698, lr: 0.01000\u001b[0m\n"
     ]
    },
    {
     "name": "stdout",
     "output_type": "stream",
     "text": [
      "Epoch 166/240\n",
      "2023-11-19 09:22:37 [141/141] - 451.53ms/step - nd_loss: 0.984 - kd_loss: 0.248 - cls_loss: 0.033 - train_loss: 1.265 - train_acc: 0.975\n"
     ]
    },
    {
     "name": "stderr",
     "output_type": "stream",
     "text": [
      "19 Nov 2023 09:22:41 [line:175] \u001b[32mTrain Loss: 1.264, Train Acc: 0.999, Test Loss: 1.167, Test Acc: 0.701, lr: 0.01000\u001b[0m\n"
     ]
    },
    {
     "name": "stdout",
     "output_type": "stream",
     "text": [
      "Epoch 167/240\n",
      "2023-11-19 09:25:02 [141/141] - 450.66ms/step - nd_loss: 0.983 - kd_loss: 0.430 - cls_loss: 0.017 - train_loss: 1.431 - train_acc: 1.000\n"
     ]
    },
    {
     "name": "stderr",
     "output_type": "stream",
     "text": [
      "19 Nov 2023 09:25:06 [line:175] \u001b[32mTrain Loss: 1.256, Train Acc: 1.000, Test Loss: 1.186, Test Acc: 0.703, lr: 0.01000\u001b[0m\n"
     ]
    },
    {
     "name": "stdout",
     "output_type": "stream",
     "text": [
      "Epoch 168/240\n",
      "2023-11-19 09:27:27 [141/141] - 452.06ms/step - nd_loss: 0.983 - kd_loss: 0.280 - cls_loss: 0.017 - train_loss: 1.280 - train_acc: 1.000\n"
     ]
    },
    {
     "name": "stderr",
     "output_type": "stream",
     "text": [
      "19 Nov 2023 09:27:31 [line:175] \u001b[32mTrain Loss: 1.250, Train Acc: 1.000, Test Loss: 1.175, Test Acc: 0.698, lr: 0.01000\u001b[0m\n"
     ]
    },
    {
     "name": "stdout",
     "output_type": "stream",
     "text": [
      "Epoch 169/240\n",
      "2023-11-19 09:29:51 [141/141] - 451.63ms/step - nd_loss: 0.982 - kd_loss: 0.291 - cls_loss: 0.015 - train_loss: 1.288 - train_acc: 1.000\n"
     ]
    },
    {
     "name": "stderr",
     "output_type": "stream",
     "text": [
      "19 Nov 2023 09:29:55 [line:175] \u001b[32mTrain Loss: 1.242, Train Acc: 0.999, Test Loss: 1.197, Test Acc: 0.699, lr: 0.01000\u001b[0m\n"
     ]
    },
    {
     "name": "stdout",
     "output_type": "stream",
     "text": [
      "Epoch 170/240\n",
      "2023-11-19 09:32:16 [141/141] - 451.25ms/step - nd_loss: 0.982 - kd_loss: 0.276 - cls_loss: 0.019 - train_loss: 1.277 - train_acc: 1.000\n"
     ]
    },
    {
     "name": "stderr",
     "output_type": "stream",
     "text": [
      "19 Nov 2023 09:32:20 [line:175] \u001b[32mTrain Loss: 1.237, Train Acc: 0.999, Test Loss: 1.189, Test Acc: 0.700, lr: 0.01000\u001b[0m\n"
     ]
    },
    {
     "name": "stdout",
     "output_type": "stream",
     "text": [
      "Epoch 171/240\n",
      "2023-11-19 09:34:41 [141/141] - 450.78ms/step - nd_loss: 0.982 - kd_loss: 0.279 - cls_loss: 0.008 - train_loss: 1.270 - train_acc: 1.000\n"
     ]
    },
    {
     "name": "stderr",
     "output_type": "stream",
     "text": [
      "19 Nov 2023 09:34:45 [line:175] \u001b[32mTrain Loss: 1.233, Train Acc: 1.000, Test Loss: 1.176, Test Acc: 0.698, lr: 0.01000\u001b[0m\n"
     ]
    },
    {
     "name": "stdout",
     "output_type": "stream",
     "text": [
      "Epoch 172/240\n",
      "2023-11-19 09:37:05 [141/141] - 450.57ms/step - nd_loss: 0.982 - kd_loss: 0.278 - cls_loss: 0.025 - train_loss: 1.285 - train_acc: 1.000\n"
     ]
    },
    {
     "name": "stderr",
     "output_type": "stream",
     "text": [
      "19 Nov 2023 09:37:09 [line:175] \u001b[32mTrain Loss: 1.237, Train Acc: 0.999, Test Loss: 1.189, Test Acc: 0.698, lr: 0.01000\u001b[0m\n"
     ]
    },
    {
     "name": "stdout",
     "output_type": "stream",
     "text": [
      "Epoch 173/240\n",
      "2023-11-19 09:39:30 [141/141] - 451.86ms/step - nd_loss: 0.982 - kd_loss: 0.372 - cls_loss: 0.022 - train_loss: 1.375 - train_acc: 1.000\n"
     ]
    },
    {
     "name": "stderr",
     "output_type": "stream",
     "text": [
      "19 Nov 2023 09:39:34 [line:175] \u001b[32mTrain Loss: 1.228, Train Acc: 1.000, Test Loss: 1.196, Test Acc: 0.699, lr: 0.01000\u001b[0m\n"
     ]
    },
    {
     "name": "stdout",
     "output_type": "stream",
     "text": [
      "Epoch 174/240\n",
      "2023-11-19 09:41:55 [141/141] - 451.82ms/step - nd_loss: 0.982 - kd_loss: 0.233 - cls_loss: 0.015 - train_loss: 1.230 - train_acc: 1.000\n"
     ]
    },
    {
     "name": "stderr",
     "output_type": "stream",
     "text": [
      "19 Nov 2023 09:41:59 [line:175] \u001b[32mTrain Loss: 1.219, Train Acc: 1.000, Test Loss: 1.192, Test Acc: 0.699, lr: 0.01000\u001b[0m\n"
     ]
    },
    {
     "name": "stdout",
     "output_type": "stream",
     "text": [
      "Epoch 175/240\n",
      "2023-11-19 09:44:19 [141/141] - 451.60ms/step - nd_loss: 0.981 - kd_loss: 0.240 - cls_loss: 0.013 - train_loss: 1.234 - train_acc: 1.000\n"
     ]
    },
    {
     "name": "stderr",
     "output_type": "stream",
     "text": [
      "19 Nov 2023 09:44:23 [line:175] \u001b[32mTrain Loss: 1.218, Train Acc: 0.999, Test Loss: 1.189, Test Acc: 0.698, lr: 0.01000\u001b[0m\n"
     ]
    },
    {
     "name": "stdout",
     "output_type": "stream",
     "text": [
      "Epoch 176/240\n",
      "2023-11-19 09:46:44 [141/141] - 450.49ms/step - nd_loss: 0.982 - kd_loss: 0.280 - cls_loss: 0.017 - train_loss: 1.279 - train_acc: 1.000\n"
     ]
    },
    {
     "name": "stderr",
     "output_type": "stream",
     "text": [
      "19 Nov 2023 09:46:48 [line:175] \u001b[32mTrain Loss: 1.211, Train Acc: 1.000, Test Loss: 1.196, Test Acc: 0.699, lr: 0.01000\u001b[0m\n"
     ]
    },
    {
     "name": "stdout",
     "output_type": "stream",
     "text": [
      "Epoch 177/240\n",
      "2023-11-19 09:49:09 [141/141] - 451.34ms/step - nd_loss: 0.980 - kd_loss: 0.208 - cls_loss: 0.008 - train_loss: 1.197 - train_acc: 1.000\n"
     ]
    },
    {
     "name": "stderr",
     "output_type": "stream",
     "text": [
      "19 Nov 2023 09:49:13 [line:175] \u001b[32mTrain Loss: 1.214, Train Acc: 0.999, Test Loss: 1.187, Test Acc: 0.695, lr: 0.01000\u001b[0m\n"
     ]
    },
    {
     "name": "stdout",
     "output_type": "stream",
     "text": [
      "Epoch 178/240\n",
      "2023-11-19 09:51:33 [141/141] - 450.90ms/step - nd_loss: 0.982 - kd_loss: 0.231 - cls_loss: 0.009 - train_loss: 1.221 - train_acc: 1.000\n"
     ]
    },
    {
     "name": "stderr",
     "output_type": "stream",
     "text": [
      "19 Nov 2023 09:51:37 [line:175] \u001b[32mTrain Loss: 1.210, Train Acc: 1.000, Test Loss: 1.174, Test Acc: 0.701, lr: 0.01000\u001b[0m\n"
     ]
    },
    {
     "name": "stdout",
     "output_type": "stream",
     "text": [
      "Epoch 179/240\n",
      "2023-11-19 09:53:58 [141/141] - 450.24ms/step - nd_loss: 0.980 - kd_loss: 0.238 - cls_loss: 0.021 - train_loss: 1.239 - train_acc: 1.000\n"
     ]
    },
    {
     "name": "stderr",
     "output_type": "stream",
     "text": [
      "19 Nov 2023 09:54:02 [line:175] \u001b[32mTrain Loss: 1.207, Train Acc: 0.999, Test Loss: 1.178, Test Acc: 0.697, lr: 0.01000\u001b[0m\n"
     ]
    },
    {
     "name": "stdout",
     "output_type": "stream",
     "text": [
      "Epoch 180/240\n",
      "2023-11-19 09:56:23 [141/141] - 451.69ms/step - nd_loss: 0.980 - kd_loss: 0.250 - cls_loss: 0.015 - train_loss: 1.245 - train_acc: 1.000\n"
     ]
    },
    {
     "name": "stderr",
     "output_type": "stream",
     "text": [
      "19 Nov 2023 09:56:27 [line:175] \u001b[32mTrain Loss: 1.199, Train Acc: 1.000, Test Loss: 1.189, Test Acc: 0.701, lr: 0.01000\u001b[0m\n"
     ]
    },
    {
     "name": "stdout",
     "output_type": "stream",
     "text": [
      "Epoch 181/240\n",
      "2023-11-19 09:58:47 [141/141] - 451.49ms/step - nd_loss: 0.981 - kd_loss: 0.234 - cls_loss: 0.019 - train_loss: 1.234 - train_acc: 1.000\n"
     ]
    },
    {
     "name": "stderr",
     "output_type": "stream",
     "text": [
      "19 Nov 2023 09:58:51 [line:175] \u001b[32mTrain Loss: 1.186, Train Acc: 0.999, Test Loss: 1.187, Test Acc: 0.697, lr: 0.00100\u001b[0m\n"
     ]
    },
    {
     "name": "stdout",
     "output_type": "stream",
     "text": [
      "Epoch 182/240\n",
      "2023-11-19 10:01:12 [141/141] - 450.70ms/step - nd_loss: 0.981 - kd_loss: 0.176 - cls_loss: 0.011 - train_loss: 1.167 - train_acc: 1.000\n"
     ]
    },
    {
     "name": "stderr",
     "output_type": "stream",
     "text": [
      "19 Nov 2023 10:01:16 [line:175] \u001b[32mTrain Loss: 1.184, Train Acc: 1.000, Test Loss: 1.183, Test Acc: 0.699, lr: 0.00100\u001b[0m\n"
     ]
    },
    {
     "name": "stdout",
     "output_type": "stream",
     "text": [
      "Epoch 183/240\n",
      "2023-11-19 10:03:36 [141/141] - 450.87ms/step - nd_loss: 0.980 - kd_loss: 0.187 - cls_loss: 0.015 - train_loss: 1.182 - train_acc: 1.000\n"
     ]
    },
    {
     "name": "stderr",
     "output_type": "stream",
     "text": [
      "19 Nov 2023 10:03:41 [line:175] \u001b[32mTrain Loss: 1.178, Train Acc: 1.000, Test Loss: 1.185, Test Acc: 0.702, lr: 0.00100\u001b[0m\n"
     ]
    },
    {
     "name": "stdout",
     "output_type": "stream",
     "text": [
      "Epoch 184/240\n",
      "2023-11-19 10:06:01 [141/141] - 451.06ms/step - nd_loss: 0.980 - kd_loss: 0.198 - cls_loss: 0.008 - train_loss: 1.186 - train_acc: 1.000\n"
     ]
    },
    {
     "name": "stderr",
     "output_type": "stream",
     "text": [
      "19 Nov 2023 10:06:05 [line:175] \u001b[32mTrain Loss: 1.178, Train Acc: 1.000, Test Loss: 1.190, Test Acc: 0.699, lr: 0.00100\u001b[0m\n"
     ]
    },
    {
     "name": "stdout",
     "output_type": "stream",
     "text": [
      "Epoch 185/240\n",
      "2023-11-19 10:08:26 [141/141] - 450.41ms/step - nd_loss: 0.980 - kd_loss: 0.197 - cls_loss: 0.021 - train_loss: 1.199 - train_acc: 1.000\n"
     ]
    },
    {
     "name": "stderr",
     "output_type": "stream",
     "text": [
      "19 Nov 2023 10:08:30 [line:175] \u001b[32mTrain Loss: 1.178, Train Acc: 0.999, Test Loss: 1.187, Test Acc: 0.700, lr: 0.00100\u001b[0m\n"
     ]
    },
    {
     "name": "stdout",
     "output_type": "stream",
     "text": [
      "Epoch 186/240\n",
      "2023-11-19 10:10:50 [141/141] - 452.32ms/step - nd_loss: 0.979 - kd_loss: 0.209 - cls_loss: 0.014 - train_loss: 1.203 - train_acc: 1.000\n"
     ]
    },
    {
     "name": "stderr",
     "output_type": "stream",
     "text": [
      "19 Nov 2023 10:10:55 [line:175] \u001b[32mTrain Loss: 1.182, Train Acc: 1.000, Test Loss: 1.198, Test Acc: 0.700, lr: 0.00100\u001b[0m\n"
     ]
    },
    {
     "name": "stdout",
     "output_type": "stream",
     "text": [
      "Epoch 187/240\n",
      "2023-11-19 10:13:15 [141/141] - 450.99ms/step - nd_loss: 0.980 - kd_loss: 0.191 - cls_loss: 0.018 - train_loss: 1.189 - train_acc: 1.000\n"
     ]
    },
    {
     "name": "stderr",
     "output_type": "stream",
     "text": [
      "19 Nov 2023 10:13:19 [line:175] \u001b[32mTrain Loss: 1.176, Train Acc: 1.000, Test Loss: 1.189, Test Acc: 0.700, lr: 0.00100\u001b[0m\n"
     ]
    },
    {
     "name": "stdout",
     "output_type": "stream",
     "text": [
      "Epoch 188/240\n",
      "2023-11-19 10:15:40 [141/141] - 450.71ms/step - nd_loss: 0.980 - kd_loss: 0.153 - cls_loss: 0.015 - train_loss: 1.148 - train_acc: 1.000\n"
     ]
    },
    {
     "name": "stderr",
     "output_type": "stream",
     "text": [
      "19 Nov 2023 10:15:44 [line:175] \u001b[32mTrain Loss: 1.181, Train Acc: 1.000, Test Loss: 1.178, Test Acc: 0.698, lr: 0.00100\u001b[0m\n"
     ]
    },
    {
     "name": "stdout",
     "output_type": "stream",
     "text": [
      "Epoch 189/240\n",
      "2023-11-19 10:18:04 [141/141] - 450.57ms/step - nd_loss: 0.979 - kd_loss: 0.218 - cls_loss: 0.006 - train_loss: 1.203 - train_acc: 1.000\n"
     ]
    },
    {
     "name": "stderr",
     "output_type": "stream",
     "text": [
      "19 Nov 2023 10:18:09 [line:175] \u001b[32mTrain Loss: 1.182, Train Acc: 1.000, Test Loss: 1.189, Test Acc: 0.699, lr: 0.00100\u001b[0m\n"
     ]
    },
    {
     "name": "stdout",
     "output_type": "stream",
     "text": [
      "Epoch 190/240\n",
      "2023-11-19 10:20:29 [141/141] - 450.85ms/step - nd_loss: 0.981 - kd_loss: 0.199 - cls_loss: 0.012 - train_loss: 1.192 - train_acc: 1.000\n"
     ]
    },
    {
     "name": "stderr",
     "output_type": "stream",
     "text": [
      "19 Nov 2023 10:20:33 [line:175] \u001b[32mTrain Loss: 1.176, Train Acc: 1.000, Test Loss: 1.187, Test Acc: 0.697, lr: 0.00100\u001b[0m\n"
     ]
    },
    {
     "name": "stdout",
     "output_type": "stream",
     "text": [
      "Epoch 191/240\n",
      "2023-11-19 10:22:54 [141/141] - 450.79ms/step - nd_loss: 0.981 - kd_loss: 0.229 - cls_loss: 0.014 - train_loss: 1.224 - train_acc: 1.000\n"
     ]
    },
    {
     "name": "stderr",
     "output_type": "stream",
     "text": [
      "19 Nov 2023 10:22:58 [line:175] \u001b[32mTrain Loss: 1.178, Train Acc: 1.000, Test Loss: 1.183, Test Acc: 0.698, lr: 0.00100\u001b[0m\n"
     ]
    },
    {
     "name": "stdout",
     "output_type": "stream",
     "text": [
      "Epoch 192/240\n",
      "2023-11-19 10:25:18 [141/141] - 450.72ms/step - nd_loss: 0.980 - kd_loss: 0.208 - cls_loss: 0.014 - train_loss: 1.202 - train_acc: 1.000\n"
     ]
    },
    {
     "name": "stderr",
     "output_type": "stream",
     "text": [
      "19 Nov 2023 10:25:23 [line:175] \u001b[32mTrain Loss: 1.176, Train Acc: 1.000, Test Loss: 1.184, Test Acc: 0.699, lr: 0.00100\u001b[0m\n"
     ]
    },
    {
     "name": "stdout",
     "output_type": "stream",
     "text": [
      "Epoch 193/240\n",
      "2023-11-19 10:27:43 [141/141] - 450.86ms/step - nd_loss: 0.979 - kd_loss: 0.208 - cls_loss: 0.021 - train_loss: 1.208 - train_acc: 1.000\n"
     ]
    },
    {
     "name": "stderr",
     "output_type": "stream",
     "text": [
      "19 Nov 2023 10:27:47 [line:175] \u001b[32mTrain Loss: 1.177, Train Acc: 1.000, Test Loss: 1.188, Test Acc: 0.700, lr: 0.00100\u001b[0m\n"
     ]
    },
    {
     "name": "stdout",
     "output_type": "stream",
     "text": [
      "Epoch 194/240\n",
      "2023-11-19 10:30:08 [141/141] - 452.10ms/step - nd_loss: 0.980 - kd_loss: 0.194 - cls_loss: 0.018 - train_loss: 1.191 - train_acc: 1.000\n"
     ]
    },
    {
     "name": "stderr",
     "output_type": "stream",
     "text": [
      "19 Nov 2023 10:30:12 [line:175] \u001b[32mTrain Loss: 1.177, Train Acc: 0.999, Test Loss: 1.184, Test Acc: 0.699, lr: 0.00100\u001b[0m\n"
     ]
    },
    {
     "name": "stdout",
     "output_type": "stream",
     "text": [
      "Epoch 195/240\n",
      "2023-11-19 10:32:32 [141/141] - 451.26ms/step - nd_loss: 0.980 - kd_loss: 0.234 - cls_loss: 0.015 - train_loss: 1.229 - train_acc: 1.000\n"
     ]
    },
    {
     "name": "stderr",
     "output_type": "stream",
     "text": [
      "19 Nov 2023 10:32:37 [line:175] \u001b[32mTrain Loss: 1.176, Train Acc: 1.000, Test Loss: 1.182, Test Acc: 0.697, lr: 0.00100\u001b[0m\n"
     ]
    },
    {
     "name": "stdout",
     "output_type": "stream",
     "text": [
      "Epoch 196/240\n",
      "2023-11-19 10:34:57 [141/141] - 451.01ms/step - nd_loss: 0.979 - kd_loss: 0.178 - cls_loss: 0.013 - train_loss: 1.170 - train_acc: 1.000\n"
     ]
    },
    {
     "name": "stderr",
     "output_type": "stream",
     "text": [
      "19 Nov 2023 10:35:01 [line:175] \u001b[32mTrain Loss: 1.172, Train Acc: 1.000, Test Loss: 1.185, Test Acc: 0.697, lr: 0.00100\u001b[0m\n"
     ]
    },
    {
     "name": "stdout",
     "output_type": "stream",
     "text": [
      "Epoch 197/240\n",
      "2023-11-19 10:37:22 [141/141] - 451.33ms/step - nd_loss: 0.981 - kd_loss: 0.246 - cls_loss: 0.010 - train_loss: 1.236 - train_acc: 1.000\n"
     ]
    },
    {
     "name": "stderr",
     "output_type": "stream",
     "text": [
      "19 Nov 2023 10:37:26 [line:175] \u001b[32mTrain Loss: 1.175, Train Acc: 1.000, Test Loss: 1.187, Test Acc: 0.698, lr: 0.00100\u001b[0m\n"
     ]
    },
    {
     "name": "stdout",
     "output_type": "stream",
     "text": [
      "Epoch 198/240\n",
      "2023-11-19 10:39:46 [141/141] - 450.80ms/step - nd_loss: 0.979 - kd_loss: 0.240 - cls_loss: 0.023 - train_loss: 1.241 - train_acc: 1.000\n"
     ]
    },
    {
     "name": "stderr",
     "output_type": "stream",
     "text": [
      "19 Nov 2023 10:39:51 [line:175] \u001b[32mTrain Loss: 1.174, Train Acc: 1.000, Test Loss: 1.191, Test Acc: 0.698, lr: 0.00100\u001b[0m\n"
     ]
    },
    {
     "name": "stdout",
     "output_type": "stream",
     "text": [
      "Epoch 199/240\n",
      "2023-11-19 10:42:11 [141/141] - 451.17ms/step - nd_loss: 0.980 - kd_loss: 0.205 - cls_loss: 0.019 - train_loss: 1.204 - train_acc: 1.000\n"
     ]
    },
    {
     "name": "stderr",
     "output_type": "stream",
     "text": [
      "19 Nov 2023 10:42:15 [line:175] \u001b[32mTrain Loss: 1.174, Train Acc: 1.000, Test Loss: 1.186, Test Acc: 0.698, lr: 0.00100\u001b[0m\n"
     ]
    },
    {
     "name": "stdout",
     "output_type": "stream",
     "text": [
      "Epoch 200/240\n",
      "2023-11-19 10:44:36 [141/141] - 451.69ms/step - nd_loss: 0.980 - kd_loss: 0.197 - cls_loss: 0.014 - train_loss: 1.191 - train_acc: 1.000\n"
     ]
    },
    {
     "name": "stderr",
     "output_type": "stream",
     "text": [
      "19 Nov 2023 10:44:40 [line:175] \u001b[32mTrain Loss: 1.172, Train Acc: 1.000, Test Loss: 1.187, Test Acc: 0.699, lr: 0.00100\u001b[0m\n"
     ]
    },
    {
     "name": "stdout",
     "output_type": "stream",
     "text": [
      "Epoch 201/240\n",
      "2023-11-19 10:47:00 [141/141] - 450.34ms/step - nd_loss: 0.979 - kd_loss: 0.169 - cls_loss: 0.018 - train_loss: 1.166 - train_acc: 1.000\n"
     ]
    },
    {
     "name": "stderr",
     "output_type": "stream",
     "text": [
      "19 Nov 2023 10:47:04 [line:175] \u001b[32mTrain Loss: 1.170, Train Acc: 1.000, Test Loss: 1.187, Test Acc: 0.698, lr: 0.00100\u001b[0m\n"
     ]
    },
    {
     "name": "stdout",
     "output_type": "stream",
     "text": [
      "Epoch 202/240\n",
      "2023-11-19 10:49:25 [141/141] - 451.11ms/step - nd_loss: 0.980 - kd_loss: 0.168 - cls_loss: 0.010 - train_loss: 1.157 - train_acc: 1.000\n"
     ]
    },
    {
     "name": "stderr",
     "output_type": "stream",
     "text": [
      "19 Nov 2023 10:49:29 [line:175] \u001b[32mTrain Loss: 1.172, Train Acc: 1.000, Test Loss: 1.186, Test Acc: 0.698, lr: 0.00100\u001b[0m\n"
     ]
    },
    {
     "name": "stdout",
     "output_type": "stream",
     "text": [
      "Epoch 203/240\n",
      "2023-11-19 10:51:50 [141/141] - 450.58ms/step - nd_loss: 0.980 - kd_loss: 0.193 - cls_loss: 0.019 - train_loss: 1.191 - train_acc: 1.000\n"
     ]
    },
    {
     "name": "stderr",
     "output_type": "stream",
     "text": [
      "19 Nov 2023 10:51:54 [line:175] \u001b[32mTrain Loss: 1.172, Train Acc: 1.000, Test Loss: 1.186, Test Acc: 0.700, lr: 0.00100\u001b[0m\n"
     ]
    },
    {
     "name": "stdout",
     "output_type": "stream",
     "text": [
      "Epoch 204/240\n",
      "2023-11-19 10:54:14 [141/141] - 451.28ms/step - nd_loss: 0.980 - kd_loss: 0.212 - cls_loss: 0.029 - train_loss: 1.221 - train_acc: 1.000\n"
     ]
    },
    {
     "name": "stderr",
     "output_type": "stream",
     "text": [
      "19 Nov 2023 10:54:18 [line:175] \u001b[32mTrain Loss: 1.173, Train Acc: 1.000, Test Loss: 1.189, Test Acc: 0.696, lr: 0.00100\u001b[0m\n"
     ]
    },
    {
     "name": "stdout",
     "output_type": "stream",
     "text": [
      "Epoch 205/240\n",
      "2023-11-19 10:56:39 [141/141] - 451.11ms/step - nd_loss: 0.980 - kd_loss: 0.193 - cls_loss: 0.013 - train_loss: 1.185 - train_acc: 1.000\n"
     ]
    },
    {
     "name": "stderr",
     "output_type": "stream",
     "text": [
      "19 Nov 2023 10:56:43 [line:175] \u001b[32mTrain Loss: 1.168, Train Acc: 1.000, Test Loss: 1.185, Test Acc: 0.699, lr: 0.00100\u001b[0m\n"
     ]
    },
    {
     "name": "stdout",
     "output_type": "stream",
     "text": [
      "Epoch 206/240\n",
      "2023-11-19 10:59:04 [141/141] - 451.27ms/step - nd_loss: 0.980 - kd_loss: 0.242 - cls_loss: 0.014 - train_loss: 1.236 - train_acc: 1.000\n"
     ]
    },
    {
     "name": "stderr",
     "output_type": "stream",
     "text": [
      "19 Nov 2023 10:59:08 [line:175] \u001b[32mTrain Loss: 1.172, Train Acc: 1.000, Test Loss: 1.187, Test Acc: 0.698, lr: 0.00100\u001b[0m\n"
     ]
    },
    {
     "name": "stdout",
     "output_type": "stream",
     "text": [
      "Epoch 207/240\n",
      "2023-11-19 11:01:28 [141/141] - 450.65ms/step - nd_loss: 0.980 - kd_loss: 0.217 - cls_loss: 0.022 - train_loss: 1.219 - train_acc: 1.000\n"
     ]
    },
    {
     "name": "stderr",
     "output_type": "stream",
     "text": [
      "19 Nov 2023 11:01:33 [line:175] \u001b[32mTrain Loss: 1.173, Train Acc: 1.000, Test Loss: 1.186, Test Acc: 0.697, lr: 0.00100\u001b[0m\n"
     ]
    },
    {
     "name": "stdout",
     "output_type": "stream",
     "text": [
      "Epoch 208/240\n",
      "2023-11-19 11:03:53 [141/141] - 450.52ms/step - nd_loss: 0.978 - kd_loss: 0.242 - cls_loss: 0.017 - train_loss: 1.238 - train_acc: 1.000\n"
     ]
    },
    {
     "name": "stderr",
     "output_type": "stream",
     "text": [
      "19 Nov 2023 11:03:57 [line:175] \u001b[32mTrain Loss: 1.166, Train Acc: 1.000, Test Loss: 1.198, Test Acc: 0.700, lr: 0.00100\u001b[0m\n"
     ]
    },
    {
     "name": "stdout",
     "output_type": "stream",
     "text": [
      "Epoch 209/240\n",
      "2023-11-19 11:06:18 [141/141] - 451.54ms/step - nd_loss: 0.979 - kd_loss: 0.238 - cls_loss: 0.015 - train_loss: 1.232 - train_acc: 1.000\n"
     ]
    },
    {
     "name": "stderr",
     "output_type": "stream",
     "text": [
      "19 Nov 2023 11:06:22 [line:175] \u001b[32mTrain Loss: 1.168, Train Acc: 1.000, Test Loss: 1.189, Test Acc: 0.699, lr: 0.00100\u001b[0m\n"
     ]
    },
    {
     "name": "stdout",
     "output_type": "stream",
     "text": [
      "Epoch 210/240\n",
      "2023-11-19 11:08:42 [141/141] - 451.26ms/step - nd_loss: 0.979 - kd_loss: 0.140 - cls_loss: 0.012 - train_loss: 1.131 - train_acc: 1.000\n"
     ]
    },
    {
     "name": "stderr",
     "output_type": "stream",
     "text": [
      "19 Nov 2023 11:08:47 [line:175] \u001b[32mTrain Loss: 1.167, Train Acc: 1.000, Test Loss: 1.184, Test Acc: 0.698, lr: 0.00100\u001b[0m\n"
     ]
    },
    {
     "name": "stdout",
     "output_type": "stream",
     "text": [
      "Epoch 211/240\n",
      "2023-11-19 11:11:07 [141/141] - 451.33ms/step - nd_loss: 0.980 - kd_loss: 0.165 - cls_loss: 0.008 - train_loss: 1.153 - train_acc: 1.000\n"
     ]
    },
    {
     "name": "stderr",
     "output_type": "stream",
     "text": [
      "19 Nov 2023 11:11:11 [line:175] \u001b[32mTrain Loss: 1.165, Train Acc: 1.000, Test Loss: 1.192, Test Acc: 0.703, lr: 0.00010\u001b[0m\n"
     ]
    },
    {
     "name": "stdout",
     "output_type": "stream",
     "text": [
      "Epoch 212/240\n",
      "2023-11-19 11:13:32 [141/141] - 450.58ms/step - nd_loss: 0.979 - kd_loss: 0.201 - cls_loss: 0.012 - train_loss: 1.192 - train_acc: 1.000\n"
     ]
    },
    {
     "name": "stderr",
     "output_type": "stream",
     "text": [
      "19 Nov 2023 11:13:36 [line:175] \u001b[32mTrain Loss: 1.170, Train Acc: 1.000, Test Loss: 1.196, Test Acc: 0.697, lr: 0.00010\u001b[0m\n"
     ]
    },
    {
     "name": "stdout",
     "output_type": "stream",
     "text": [
      "Epoch 213/240\n",
      "2023-11-19 11:15:56 [141/141] - 451.08ms/step - nd_loss: 0.979 - kd_loss: 0.185 - cls_loss: 0.019 - train_loss: 1.183 - train_acc: 1.000\n"
     ]
    },
    {
     "name": "stderr",
     "output_type": "stream",
     "text": [
      "19 Nov 2023 11:16:01 [line:175] \u001b[32mTrain Loss: 1.166, Train Acc: 1.000, Test Loss: 1.189, Test Acc: 0.698, lr: 0.00010\u001b[0m\n"
     ]
    },
    {
     "name": "stdout",
     "output_type": "stream",
     "text": [
      "Epoch 214/240\n",
      "2023-11-19 11:18:21 [141/141] - 451.44ms/step - nd_loss: 0.980 - kd_loss: 0.206 - cls_loss: 0.024 - train_loss: 1.210 - train_acc: 1.000\n"
     ]
    },
    {
     "name": "stderr",
     "output_type": "stream",
     "text": [
      "19 Nov 2023 11:18:25 [line:175] \u001b[32mTrain Loss: 1.165, Train Acc: 1.000, Test Loss: 1.189, Test Acc: 0.696, lr: 0.00010\u001b[0m\n"
     ]
    },
    {
     "name": "stdout",
     "output_type": "stream",
     "text": [
      "Epoch 215/240\n",
      "2023-11-19 11:20:46 [141/141] - 451.62ms/step - nd_loss: 0.979 - kd_loss: 0.192 - cls_loss: 0.012 - train_loss: 1.183 - train_acc: 1.000\n"
     ]
    },
    {
     "name": "stderr",
     "output_type": "stream",
     "text": [
      "19 Nov 2023 11:20:50 [line:175] \u001b[32mTrain Loss: 1.167, Train Acc: 1.000, Test Loss: 1.186, Test Acc: 0.701, lr: 0.00010\u001b[0m\n"
     ]
    },
    {
     "name": "stdout",
     "output_type": "stream",
     "text": [
      "Epoch 216/240\n",
      "2023-11-19 11:23:10 [141/141] - 450.30ms/step - nd_loss: 0.980 - kd_loss: 0.148 - cls_loss: 0.016 - train_loss: 1.144 - train_acc: 1.000\n"
     ]
    },
    {
     "name": "stderr",
     "output_type": "stream",
     "text": [
      "19 Nov 2023 11:23:15 [line:175] \u001b[32mTrain Loss: 1.165, Train Acc: 1.000, Test Loss: 1.187, Test Acc: 0.699, lr: 0.00010\u001b[0m\n"
     ]
    },
    {
     "name": "stdout",
     "output_type": "stream",
     "text": [
      "Epoch 217/240\n",
      "2023-11-19 11:25:35 [141/141] - 452.12ms/step - nd_loss: 0.979 - kd_loss: 0.178 - cls_loss: 0.015 - train_loss: 1.173 - train_acc: 1.000\n"
     ]
    },
    {
     "name": "stderr",
     "output_type": "stream",
     "text": [
      "19 Nov 2023 11:25:39 [line:175] \u001b[32mTrain Loss: 1.167, Train Acc: 1.000, Test Loss: 1.186, Test Acc: 0.700, lr: 0.00010\u001b[0m\n"
     ]
    },
    {
     "name": "stdout",
     "output_type": "stream",
     "text": [
      "Epoch 218/240\n",
      "2023-11-19 11:28:00 [141/141] - 450.65ms/step - nd_loss: 0.979 - kd_loss: 0.187 - cls_loss: 0.013 - train_loss: 1.179 - train_acc: 1.000\n"
     ]
    },
    {
     "name": "stderr",
     "output_type": "stream",
     "text": [
      "19 Nov 2023 11:28:04 [line:175] \u001b[32mTrain Loss: 1.165, Train Acc: 1.000, Test Loss: 1.185, Test Acc: 0.699, lr: 0.00010\u001b[0m\n"
     ]
    },
    {
     "name": "stdout",
     "output_type": "stream",
     "text": [
      "Epoch 219/240\n",
      "2023-11-19 11:30:24 [141/141] - 450.33ms/step - nd_loss: 0.979 - kd_loss: 0.133 - cls_loss: 0.011 - train_loss: 1.123 - train_acc: 1.000\n"
     ]
    },
    {
     "name": "stderr",
     "output_type": "stream",
     "text": [
      "19 Nov 2023 11:30:29 [line:175] \u001b[32mTrain Loss: 1.168, Train Acc: 1.000, Test Loss: 1.199, Test Acc: 0.698, lr: 0.00010\u001b[0m\n"
     ]
    },
    {
     "name": "stdout",
     "output_type": "stream",
     "text": [
      "Epoch 220/240\n",
      "2023-11-19 11:32:49 [141/141] - 451.01ms/step - nd_loss: 0.979 - kd_loss: 0.196 - cls_loss: 0.017 - train_loss: 1.192 - train_acc: 1.000\n"
     ]
    },
    {
     "name": "stderr",
     "output_type": "stream",
     "text": [
      "19 Nov 2023 11:32:53 [line:175] \u001b[32mTrain Loss: 1.169, Train Acc: 1.000, Test Loss: 1.189, Test Acc: 0.699, lr: 0.00010\u001b[0m\n"
     ]
    },
    {
     "name": "stdout",
     "output_type": "stream",
     "text": [
      "Epoch 221/240\n",
      "2023-11-19 11:35:14 [141/141] - 452.26ms/step - nd_loss: 0.979 - kd_loss: 0.225 - cls_loss: 0.015 - train_loss: 1.219 - train_acc: 1.000\n"
     ]
    },
    {
     "name": "stderr",
     "output_type": "stream",
     "text": [
      "19 Nov 2023 11:35:18 [line:175] \u001b[32mTrain Loss: 1.168, Train Acc: 1.000, Test Loss: 1.189, Test Acc: 0.697, lr: 0.00010\u001b[0m\n"
     ]
    },
    {
     "name": "stdout",
     "output_type": "stream",
     "text": [
      "Epoch 222/240\n",
      "2023-11-19 11:37:38 [141/141] - 450.63ms/step - nd_loss: 0.980 - kd_loss: 0.192 - cls_loss: 0.013 - train_loss: 1.184 - train_acc: 1.000\n"
     ]
    },
    {
     "name": "stderr",
     "output_type": "stream",
     "text": [
      "19 Nov 2023 11:37:43 [line:175] \u001b[32mTrain Loss: 1.168, Train Acc: 1.000, Test Loss: 1.192, Test Acc: 0.698, lr: 0.00010\u001b[0m\n"
     ]
    },
    {
     "name": "stdout",
     "output_type": "stream",
     "text": [
      "Epoch 223/240\n",
      "2023-11-19 11:40:03 [141/141] - 450.73ms/step - nd_loss: 0.980 - kd_loss: 0.146 - cls_loss: 0.014 - train_loss: 1.140 - train_acc: 1.000\n"
     ]
    },
    {
     "name": "stderr",
     "output_type": "stream",
     "text": [
      "19 Nov 2023 11:40:07 [line:175] \u001b[32mTrain Loss: 1.165, Train Acc: 1.000, Test Loss: 1.185, Test Acc: 0.699, lr: 0.00010\u001b[0m\n"
     ]
    },
    {
     "name": "stdout",
     "output_type": "stream",
     "text": [
      "Epoch 224/240\n",
      "2023-11-19 11:42:28 [141/141] - 450.70ms/step - nd_loss: 0.979 - kd_loss: 0.164 - cls_loss: 0.008 - train_loss: 1.151 - train_acc: 1.000\n"
     ]
    },
    {
     "name": "stderr",
     "output_type": "stream",
     "text": [
      "19 Nov 2023 11:42:32 [line:175] \u001b[32mTrain Loss: 1.169, Train Acc: 1.000, Test Loss: 1.196, Test Acc: 0.699, lr: 0.00010\u001b[0m\n"
     ]
    },
    {
     "name": "stdout",
     "output_type": "stream",
     "text": [
      "Epoch 225/240\n",
      "2023-11-19 11:44:52 [141/141] - 451.11ms/step - nd_loss: 0.980 - kd_loss: 0.200 - cls_loss: 0.015 - train_loss: 1.195 - train_acc: 1.000\n"
     ]
    },
    {
     "name": "stderr",
     "output_type": "stream",
     "text": [
      "19 Nov 2023 11:44:57 [line:175] \u001b[32mTrain Loss: 1.163, Train Acc: 1.000, Test Loss: 1.192, Test Acc: 0.697, lr: 0.00010\u001b[0m\n"
     ]
    },
    {
     "name": "stdout",
     "output_type": "stream",
     "text": [
      "Epoch 226/240\n",
      "2023-11-19 11:47:17 [141/141] - 451.74ms/step - nd_loss: 0.981 - kd_loss: 0.206 - cls_loss: 0.007 - train_loss: 1.194 - train_acc: 1.000\n"
     ]
    },
    {
     "name": "stderr",
     "output_type": "stream",
     "text": [
      "19 Nov 2023 11:47:21 [line:175] \u001b[32mTrain Loss: 1.168, Train Acc: 1.000, Test Loss: 1.186, Test Acc: 0.696, lr: 0.00010\u001b[0m\n"
     ]
    },
    {
     "name": "stdout",
     "output_type": "stream",
     "text": [
      "Epoch 227/240\n",
      "2023-11-19 11:49:42 [141/141] - 451.42ms/step - nd_loss: 0.980 - kd_loss: 0.163 - cls_loss: 0.016 - train_loss: 1.159 - train_acc: 1.000\n"
     ]
    },
    {
     "name": "stderr",
     "output_type": "stream",
     "text": [
      "19 Nov 2023 11:49:46 [line:175] \u001b[32mTrain Loss: 1.165, Train Acc: 1.000, Test Loss: 1.186, Test Acc: 0.699, lr: 0.00010\u001b[0m\n"
     ]
    },
    {
     "name": "stdout",
     "output_type": "stream",
     "text": [
      "Epoch 228/240\n",
      "2023-11-19 11:52:06 [141/141] - 450.70ms/step - nd_loss: 0.979 - kd_loss: 0.207 - cls_loss: 0.019 - train_loss: 1.206 - train_acc: 1.000\n"
     ]
    },
    {
     "name": "stderr",
     "output_type": "stream",
     "text": [
      "19 Nov 2023 11:52:11 [line:175] \u001b[32mTrain Loss: 1.166, Train Acc: 1.000, Test Loss: 1.189, Test Acc: 0.696, lr: 0.00010\u001b[0m\n"
     ]
    },
    {
     "name": "stdout",
     "output_type": "stream",
     "text": [
      "Epoch 229/240\n",
      "2023-11-19 11:54:31 [141/141] - 451.17ms/step - nd_loss: 0.980 - kd_loss: 0.181 - cls_loss: 0.011 - train_loss: 1.172 - train_acc: 1.000\n"
     ]
    },
    {
     "name": "stderr",
     "output_type": "stream",
     "text": [
      "19 Nov 2023 11:54:35 [line:175] \u001b[32mTrain Loss: 1.164, Train Acc: 1.000, Test Loss: 1.194, Test Acc: 0.698, lr: 0.00010\u001b[0m\n"
     ]
    },
    {
     "name": "stdout",
     "output_type": "stream",
     "text": [
      "Epoch 230/240\n",
      "2023-11-19 11:56:56 [141/141] - 450.62ms/step - nd_loss: 0.980 - kd_loss: 0.191 - cls_loss: 0.015 - train_loss: 1.186 - train_acc: 1.000\n"
     ]
    },
    {
     "name": "stderr",
     "output_type": "stream",
     "text": [
      "19 Nov 2023 11:57:00 [line:175] \u001b[32mTrain Loss: 1.163, Train Acc: 1.000, Test Loss: 1.190, Test Acc: 0.698, lr: 0.00010\u001b[0m\n"
     ]
    },
    {
     "name": "stdout",
     "output_type": "stream",
     "text": [
      "Epoch 231/240\n",
      "2023-11-19 11:59:20 [141/141] - 451.09ms/step - nd_loss: 0.979 - kd_loss: 0.132 - cls_loss: 0.013 - train_loss: 1.125 - train_acc: 1.000\n"
     ]
    },
    {
     "name": "stderr",
     "output_type": "stream",
     "text": [
      "19 Nov 2023 11:59:25 [line:175] \u001b[32mTrain Loss: 1.165, Train Acc: 1.000, Test Loss: 1.193, Test Acc: 0.699, lr: 0.00010\u001b[0m\n"
     ]
    },
    {
     "name": "stdout",
     "output_type": "stream",
     "text": [
      "Epoch 232/240\n",
      "2023-11-19 12:01:45 [141/141] - 450.78ms/step - nd_loss: 0.979 - kd_loss: 0.218 - cls_loss: 0.027 - train_loss: 1.224 - train_acc: 1.000\n"
     ]
    },
    {
     "name": "stderr",
     "output_type": "stream",
     "text": [
      "19 Nov 2023 12:01:49 [line:175] \u001b[32mTrain Loss: 1.163, Train Acc: 1.000, Test Loss: 1.189, Test Acc: 0.699, lr: 0.00010\u001b[0m\n"
     ]
    },
    {
     "name": "stdout",
     "output_type": "stream",
     "text": [
      "Epoch 233/240\n",
      "2023-11-19 12:04:10 [141/141] - 452.90ms/step - nd_loss: 0.979 - kd_loss: 0.224 - cls_loss: 0.010 - train_loss: 1.213 - train_acc: 1.000\n"
     ]
    },
    {
     "name": "stderr",
     "output_type": "stream",
     "text": [
      "19 Nov 2023 12:04:14 [line:175] \u001b[32mTrain Loss: 1.165, Train Acc: 1.000, Test Loss: 1.185, Test Acc: 0.699, lr: 0.00010\u001b[0m\n"
     ]
    },
    {
     "name": "stdout",
     "output_type": "stream",
     "text": [
      "Epoch 234/240\n",
      "2023-11-19 12:06:34 [141/141] - 450.80ms/step - nd_loss: 0.978 - kd_loss: 0.174 - cls_loss: 0.018 - train_loss: 1.170 - train_acc: 1.000\n"
     ]
    },
    {
     "name": "stderr",
     "output_type": "stream",
     "text": [
      "19 Nov 2023 12:06:39 [line:175] \u001b[32mTrain Loss: 1.166, Train Acc: 1.000, Test Loss: 1.195, Test Acc: 0.700, lr: 0.00010\u001b[0m\n"
     ]
    },
    {
     "name": "stdout",
     "output_type": "stream",
     "text": [
      "Epoch 235/240\n",
      "2023-11-19 12:08:59 [141/141] - 451.44ms/step - nd_loss: 0.980 - kd_loss: 0.164 - cls_loss: 0.017 - train_loss: 1.160 - train_acc: 1.000\n"
     ]
    },
    {
     "name": "stderr",
     "output_type": "stream",
     "text": [
      "19 Nov 2023 12:09:03 [line:175] \u001b[32mTrain Loss: 1.162, Train Acc: 1.000, Test Loss: 1.186, Test Acc: 0.696, lr: 0.00010\u001b[0m\n"
     ]
    },
    {
     "name": "stdout",
     "output_type": "stream",
     "text": [
      "Epoch 236/240\n",
      "2023-11-19 12:11:24 [141/141] - 450.24ms/step - nd_loss: 0.980 - kd_loss: 0.181 - cls_loss: 0.010 - train_loss: 1.171 - train_acc: 1.000\n"
     ]
    },
    {
     "name": "stderr",
     "output_type": "stream",
     "text": [
      "19 Nov 2023 12:11:28 [line:175] \u001b[32mTrain Loss: 1.166, Train Acc: 0.999, Test Loss: 1.188, Test Acc: 0.698, lr: 0.00010\u001b[0m\n"
     ]
    },
    {
     "name": "stdout",
     "output_type": "stream",
     "text": [
      "Epoch 237/240\n",
      "2023-11-19 12:13:48 [141/141] - 451.40ms/step - nd_loss: 0.980 - kd_loss: 0.225 - cls_loss: 0.013 - train_loss: 1.218 - train_acc: 1.000\n"
     ]
    },
    {
     "name": "stderr",
     "output_type": "stream",
     "text": [
      "19 Nov 2023 12:13:53 [line:175] \u001b[32mTrain Loss: 1.165, Train Acc: 1.000, Test Loss: 1.190, Test Acc: 0.698, lr: 0.00010\u001b[0m\n"
     ]
    },
    {
     "name": "stdout",
     "output_type": "stream",
     "text": [
      "Epoch 238/240\n",
      "2023-11-19 12:16:13 [141/141] - 450.97ms/step - nd_loss: 0.979 - kd_loss: 0.196 - cls_loss: 0.014 - train_loss: 1.189 - train_acc: 1.000\n"
     ]
    },
    {
     "name": "stderr",
     "output_type": "stream",
     "text": [
      "19 Nov 2023 12:16:17 [line:175] \u001b[32mTrain Loss: 1.167, Train Acc: 1.000, Test Loss: 1.186, Test Acc: 0.697, lr: 0.00010\u001b[0m\n"
     ]
    },
    {
     "name": "stdout",
     "output_type": "stream",
     "text": [
      "Epoch 239/240\n",
      "2023-11-19 12:18:38 [141/141] - 452.33ms/step - nd_loss: 0.980 - kd_loss: 0.206 - cls_loss: 0.025 - train_loss: 1.212 - train_acc: 1.000\n"
     ]
    },
    {
     "name": "stderr",
     "output_type": "stream",
     "text": [
      "19 Nov 2023 12:18:42 [line:175] \u001b[32mTrain Loss: 1.169, Train Acc: 1.000, Test Loss: 1.187, Test Acc: 0.697, lr: 0.00010\u001b[0m\n"
     ]
    },
    {
     "name": "stdout",
     "output_type": "stream",
     "text": [
      "Epoch 240/240\n",
      "2023-11-19 12:21:02 [141/141] - 450.69ms/step - nd_loss: 0.979 - kd_loss: 0.152 - cls_loss: 0.013 - train_loss: 1.144 - train_acc: 1.000\n"
     ]
    },
    {
     "name": "stderr",
     "output_type": "stream",
     "text": [
      "19 Nov 2023 12:21:06 [line:175] \u001b[32mTrain Loss: 1.161, Train Acc: 1.000, Test Loss: 1.181, Test Acc: 0.700, lr: 0.00010\u001b[0m\n"
     ]
    }
   ],
   "source": [
    "\n",
    "if __name__ == \"__main__\":\n",
    "    model_names = sorted(name for name in models_package.__dict__\n",
    "                         if name.islower() and not name.startswith(\"__\")\n",
    "                         and callable(models_package.__dict__[name]))\n",
    "\n",
    "    parser = argparse.ArgumentParser(description='PyTorch Cifar Training')\n",
    "    parser.add_argument('-f') # added to make this run in collab\n",
    "    parser.add_argument(\"--model_name\", type=str, default=\"resnet8x4_idenprof\", choices=model_names, help=\"model architecture\")\n",
    "    parser.add_argument(\"--dataset\", type=str, default='idenprof')\n",
    "    parser.add_argument(\"--epochs\", type=int, default=240)\n",
    "    # parser.add_argument(\"--epochs\", type=int, default=4)\n",
    "    parser.add_argument(\"--batch_size\", type=int, default=64, help=\"batch size per gpu\")\n",
    "    parser.add_argument('--workers', default=8, type=int, help='number of data loading workers')\n",
    "    parser.add_argument(\"--lr\", type=float, default=0.1)\n",
    "    parser.add_argument('--momentum', type=float, default=0.9, help='SGD momentum')\n",
    "    parser.add_argument(\"--weight_decay\", type=float, default=5e-4)\n",
    "\n",
    "    parser.add_argument(\"--teacher\", type=str, default=\"resnet32x4_idenprof\", help=\"teacher architecture\")\n",
    "    parser.add_argument(\"--teacher_weights\", type=str, default=\"./weights/resnet_32x4/weights.pth\", help=\"teacher weights path\")\n",
    "    parser.add_argument(\"--cls_loss_factor\", type=float, default=1.0, help=\"cls loss weight factor\")\n",
    "    parser.add_argument(\"--kd_loss_factor\", type=float, default=1.0, help=\"KD loss weight factor\")\n",
    "    parser.add_argument(\"--t\", type=float, default=4.0, help=\"temperature\")\n",
    "    parser.add_argument(\"--nd_loss_factor\", type=float, default=1.0, help=\"ND loss weight factor\")\n",
    "    parser.add_argument(\"--warm_up\", type=float, default=20.0, help='loss weight warm up epochs')\n",
    "\n",
    "    parser.add_argument(\"--gpus\", type=list, default=[0, 1])\n",
    "    parser.add_argument('--seed', default=None, type=int, help='seed for initializing training.')\n",
    "    parser.add_argument(\"--resume\", type=str, help=\"best ckpt's path to resume most recent training\")\n",
    "    parser.add_argument(\"--save_dir\", type=str, default=\"./run/IdenProf/KD++\", help=\"save path, eg, acc_loss, weights, tensorboard, and so on\")\n",
    "    args = parser.parse_args()\n",
    "\n",
    "    if args.seed is not None:\n",
    "        random.seed(args.seed)\n",
    "        torch.manual_seed(args.seed)\n",
    "        cudnn.deterministic = True\n",
    "        cudnn.benchmark = False\n",
    "        warnings.warn('You have chosen to seed training. '\n",
    "                      'This will turn on the CUDNN deterministic setting, '\n",
    "                      'which can slow down your training considerably! '\n",
    "                      'You may see unexpected behavior when restarting '\n",
    "                      'from checkpoints.')\n",
    "\n",
    "    logging.basicConfig(level=logging.INFO, format='%(asctime)s [line:%(lineno)d] %(message)s',\n",
    "                        datefmt='%d %b %Y %H:%M:%S')\n",
    "    logger = logging.getLogger(__name__)\n",
    "\n",
    "    args.batch_size = args.batch_size * len(args.gpus)\n",
    "    # args.batch_size = args.batch_size * 1\n",
    "\n",
    "    # logger.info(colorstr('green', \"Distribute train, gpus:{}, total batch size:{}, epoch:{}\".format(args.gpus, args.batch_size, args.epochs)))\n",
    "    logger.info(colorstr('green', \"Distribute train, total batch size:{}, epoch:{}\".format(args.batch_size, args.epochs)))\n",
    "\n",
    "\n",
    "    # train_set, test_set, num_class = IDENPROF(name=args.dataset)\n",
    "    num_class = 10\n",
    "    model = models_package.__dict__[args.model_name](num_class=num_class)\n",
    "\n",
    "    # if args.model_name in ['wrn40_1_cifar', 'mobilenetv2', 'shufflev1_cifar', 'shufflev2_cifar']:\n",
    "    #     model = EmbTrans(student=model, model_name=args.model_name)\n",
    "\n",
    "    teacher = models_package.__dict__[args.teacher](num_class=num_class)\n",
    "\n",
    "    if args.teacher_weights:\n",
    "        print('Load Teacher Weights')\n",
    "        session = boto3.session.Session()\n",
    "        s3 = session.client('s3')\n",
    "    \n",
    "        teacher_model_weights_buffer = io.BytesIO()\n",
    "        s3.download_fileobj(bucket_name, model_weight_path, teacher_model_weights_buffer)\n",
    "        teacher_model_weights_buffer.seek(0)  \n",
    "    \n",
    "        # Load the model\n",
    "        # model = models_package.__dict__[model_name](num_class=num_class)\n",
    "        teacher_ckpt = torch.load(teacher_model_weights_buffer)\n",
    "        teacher.load_state_dict(teacher_ckpt)\n",
    "        \n",
    "        for param in teacher.parameters():\n",
    "            param.requires_grad = False\n",
    "\n",
    "    # res56    ./ckpt/teacher/resnet56/center_emb_train.json\n",
    "    # res32x4  ./ckpt/teacher/resnet32x4/center_emb_train.json\n",
    "    # wrn40_2  ./ckpt/teacher/wrn_40_2/center_emb_train.json\n",
    "    # res50    ./ckpt/teacher/resnet50/center_emb_train.json\n",
    "    # class-mean\n",
    "    with open(\"./class_means/idenprof_embedding_fea/resnet32x4_idenprof.json\", 'r') as f:\n",
    "        T_EMB = json.load(f)\n",
    "    f.close()\n",
    "\n",
    "    logger.info(colorstr('green', 'Use ' + args.teacher + ' Training ' + args.model_name + ' ...'))\n",
    "    # Train the model\n",
    "    epoch_loop(model=model, teacher=teacher, train_loader = trainloader, test_loader = testloader, num_class = num_class, args=args)\n"
   ]
  },
  {
   "cell_type": "markdown",
   "id": "81ed55a7-a0bc-4a9a-b286-33bce3636b6e",
   "metadata": {},
   "source": [
    "## ReviewKD++"
   ]
  },
  {
   "cell_type": "code",
   "execution_count": 6,
   "id": "3aecd15a-451a-4a11-9435-316ff10c350b",
   "metadata": {},
   "outputs": [
    {
     "name": "stderr",
     "output_type": "stream",
     "text": [
      "19 Nov 2023 23:19:41 [line:83] \u001b[32mDistribute train, total batch size:128, epoch:2\u001b[0m\n",
      "19 Nov 2023 23:19:41 [line:1255] Found credentials in shared credentials file: ~/.aws/credentials\n"
     ]
    },
    {
     "name": "stdout",
     "output_type": "stream",
     "text": [
      "Load Teacher Weights\n"
     ]
    },
    {
     "name": "stderr",
     "output_type": "stream",
     "text": [
      "19 Nov 2023 23:19:42 [line:121] \u001b[32mUse resnet32x4_idenprof Training resnet8x4_idenprof ...\u001b[0m\n"
     ]
    },
    {
     "name": "stdout",
     "output_type": "stream",
     "text": [
      "Epoch 1/2\n"
     ]
    },
    {
     "ename": "ValueError",
     "evalue": "not enough values to unpack (expected 3, got 2)",
     "output_type": "error",
     "traceback": [
      "\u001b[0;31m---------------------------------------------------------------------------\u001b[0m",
      "\u001b[0;31mValueError\u001b[0m                                Traceback (most recent call last)",
      "Cell \u001b[0;32mIn[6], line 123\u001b[0m\n\u001b[1;32m    121\u001b[0m logger\u001b[38;5;241m.\u001b[39minfo(colorstr(\u001b[38;5;124m'\u001b[39m\u001b[38;5;124mgreen\u001b[39m\u001b[38;5;124m'\u001b[39m, \u001b[38;5;124m'\u001b[39m\u001b[38;5;124mUse \u001b[39m\u001b[38;5;124m'\u001b[39m \u001b[38;5;241m+\u001b[39m args\u001b[38;5;241m.\u001b[39mteacher \u001b[38;5;241m+\u001b[39m \u001b[38;5;124m'\u001b[39m\u001b[38;5;124m Training \u001b[39m\u001b[38;5;124m'\u001b[39m \u001b[38;5;241m+\u001b[39m args\u001b[38;5;241m.\u001b[39mmodel_name \u001b[38;5;241m+\u001b[39m \u001b[38;5;124m'\u001b[39m\u001b[38;5;124m ...\u001b[39m\u001b[38;5;124m'\u001b[39m))\n\u001b[1;32m    122\u001b[0m \u001b[38;5;66;03m# Train the model\u001b[39;00m\n\u001b[0;32m--> 123\u001b[0m \u001b[43mepoch_loop_reviewkd\u001b[49m\u001b[43m(\u001b[49m\u001b[43mmodel\u001b[49m\u001b[38;5;241;43m=\u001b[39;49m\u001b[43mmodel\u001b[49m\u001b[43m,\u001b[49m\u001b[43m \u001b[49m\u001b[43mteacher\u001b[49m\u001b[38;5;241;43m=\u001b[39;49m\u001b[43mteacher\u001b[49m\u001b[43m,\u001b[49m\u001b[43m \u001b[49m\u001b[43mtrain_loader\u001b[49m\u001b[43m \u001b[49m\u001b[38;5;241;43m=\u001b[39;49m\u001b[43m \u001b[49m\u001b[43mtrainloader\u001b[49m\u001b[43m,\u001b[49m\u001b[43m \u001b[49m\u001b[43mtest_loader\u001b[49m\u001b[43m \u001b[49m\u001b[38;5;241;43m=\u001b[39;49m\u001b[43m \u001b[49m\u001b[43mtestloader\u001b[49m\u001b[43m,\u001b[49m\u001b[43m \u001b[49m\u001b[43mnum_class\u001b[49m\u001b[43m \u001b[49m\u001b[38;5;241;43m=\u001b[39;49m\u001b[43m \u001b[49m\u001b[43mnum_class\u001b[49m\u001b[43m,\u001b[49m\u001b[43m \u001b[49m\u001b[43mT_EMB\u001b[49m\u001b[38;5;241;43m=\u001b[39;49m\u001b[43mT_EMB\u001b[49m\u001b[43m,\u001b[49m\u001b[43m \u001b[49m\u001b[43margs\u001b[49m\u001b[38;5;241;43m=\u001b[39;49m\u001b[43margs\u001b[49m\u001b[43m)\u001b[49m\n",
      "File \u001b[0;32m~/W210-Capstone/notebooks/utils/misc_tools.py:621\u001b[0m, in \u001b[0;36mepoch_loop_reviewkd\u001b[0;34m(model, teacher, train_loader, test_loader, num_class, T_EMB, args)\u001b[0m\n\u001b[1;32m    619\u001b[0m         param_group[\u001b[38;5;124m'\u001b[39m\u001b[38;5;124mlr\u001b[39m\u001b[38;5;124m'\u001b[39m] \u001b[38;5;241m*\u001b[39m\u001b[38;5;241m=\u001b[39m \u001b[38;5;241m0.1\u001b[39m\n\u001b[1;32m    620\u001b[0m \u001b[38;5;28mprint\u001b[39m(\u001b[38;5;124m\"\u001b[39m\u001b[38;5;124mEpoch \u001b[39m\u001b[38;5;132;01m{}\u001b[39;00m\u001b[38;5;124m/\u001b[39m\u001b[38;5;132;01m{}\u001b[39;00m\u001b[38;5;124m\"\u001b[39m\u001b[38;5;241m.\u001b[39mformat(epoch \u001b[38;5;241m+\u001b[39m \u001b[38;5;241m1\u001b[39m, args\u001b[38;5;241m.\u001b[39mepochs))\n\u001b[0;32m--> 621\u001b[0m norm_dir_loss, div_loss, cls_loss, train_epoch_loss, train_error \u001b[38;5;241m=\u001b[39m \u001b[43mtrain_reviewkd\u001b[49m\u001b[43m(\u001b[49m\u001b[43mmodel\u001b[49m\u001b[38;5;241;43m=\u001b[39;49m\u001b[43mmodel\u001b[49m\u001b[43m,\u001b[49m\n\u001b[1;32m    622\u001b[0m \u001b[43m                                                                         \u001b[49m\u001b[43mteacher\u001b[49m\u001b[38;5;241;43m=\u001b[39;49m\u001b[43mteacher\u001b[49m\u001b[43m,\u001b[49m\n\u001b[1;32m    623\u001b[0m \u001b[43m                                                                         \u001b[49m\u001b[43mT_EMB\u001b[49m\u001b[38;5;241;43m=\u001b[39;49m\u001b[43mT_EMB\u001b[49m\u001b[43m,\u001b[49m\n\u001b[1;32m    624\u001b[0m \u001b[43m                                                                         \u001b[49m\u001b[43mtrain_dataloader\u001b[49m\u001b[38;5;241;43m=\u001b[39;49m\u001b[43mtrain_loader\u001b[49m\u001b[43m,\u001b[49m\n\u001b[1;32m    625\u001b[0m \u001b[43m                                                                         \u001b[49m\u001b[43moptimizer\u001b[49m\u001b[38;5;241;43m=\u001b[39;49m\u001b[43moptimizer\u001b[49m\u001b[43m,\u001b[49m\n\u001b[1;32m    626\u001b[0m \u001b[43m                                                                         \u001b[49m\u001b[43mcriterion\u001b[49m\u001b[38;5;241;43m=\u001b[39;49m\u001b[43mcriterion\u001b[49m\u001b[43m,\u001b[49m\n\u001b[1;32m    627\u001b[0m \u001b[43m                                                                         \u001b[49m\u001b[43mnd_loss\u001b[49m\u001b[38;5;241;43m=\u001b[39;49m\u001b[43mnd_loss\u001b[49m\u001b[43m,\u001b[49m\n\u001b[1;32m    628\u001b[0m \u001b[43m                                                                         \u001b[49m\u001b[43margs\u001b[49m\u001b[38;5;241;43m=\u001b[39;49m\u001b[43margs\u001b[49m\u001b[43m,\u001b[49m\n\u001b[1;32m    629\u001b[0m \u001b[43m                                                                         \u001b[49m\u001b[43mepoch\u001b[49m\u001b[38;5;241;43m=\u001b[39;49m\u001b[43mepoch\u001b[49m\u001b[43m)\u001b[49m\n\u001b[1;32m    630\u001b[0m test_epoch_loss, test_error \u001b[38;5;241m=\u001b[39m test_reviewkd(model\u001b[38;5;241m=\u001b[39mmodel,\n\u001b[1;32m    631\u001b[0m                                    test_dataloader\u001b[38;5;241m=\u001b[39mtest_loader,\n\u001b[1;32m    632\u001b[0m                                    criterion\u001b[38;5;241m=\u001b[39mcriterion)\n\u001b[1;32m    634\u001b[0m s \u001b[38;5;241m=\u001b[39m \u001b[38;5;124m\"\u001b[39m\u001b[38;5;124mTrain Loss: \u001b[39m\u001b[38;5;132;01m{:.3f}\u001b[39;00m\u001b[38;5;124m, Train Acc: \u001b[39m\u001b[38;5;132;01m{:.3f}\u001b[39;00m\u001b[38;5;124m, Test Loss: \u001b[39m\u001b[38;5;132;01m{:.3f}\u001b[39;00m\u001b[38;5;124m, Test Acc: \u001b[39m\u001b[38;5;132;01m{:.3f}\u001b[39;00m\u001b[38;5;124m, lr: \u001b[39m\u001b[38;5;132;01m{:.5f}\u001b[39;00m\u001b[38;5;124m\"\u001b[39m\u001b[38;5;241m.\u001b[39mformat(\n\u001b[1;32m    635\u001b[0m     train_epoch_loss, \u001b[38;5;241m1\u001b[39m\u001b[38;5;241m-\u001b[39mtrain_error, test_epoch_loss, \u001b[38;5;241m1\u001b[39m\u001b[38;5;241m-\u001b[39mtest_error, optimizer\u001b[38;5;241m.\u001b[39mparam_groups[\u001b[38;5;241m0\u001b[39m][\u001b[38;5;124m'\u001b[39m\u001b[38;5;124mlr\u001b[39m\u001b[38;5;124m'\u001b[39m])\n",
      "File \u001b[0;32m~/W210-Capstone/notebooks/utils/misc_tools.py:491\u001b[0m, in \u001b[0;36mtrain_reviewkd\u001b[0;34m(model, teacher, T_EMB, train_dataloader, optimizer, criterion, nd_loss, args, epoch)\u001b[0m\n\u001b[1;32m    488\u001b[0m images, labels \u001b[38;5;241m=\u001b[39m images\u001b[38;5;241m.\u001b[39mcuda(), labels\u001b[38;5;241m.\u001b[39mcuda()\n\u001b[1;32m    490\u001b[0m \u001b[38;5;66;03m# compute output\u001b[39;00m\n\u001b[0;32m--> 491\u001b[0m s_features, s_emb, s_logits \u001b[38;5;241m=\u001b[39m model(images)\n\u001b[1;32m    493\u001b[0m \u001b[38;5;28;01mwith\u001b[39;00m torch\u001b[38;5;241m.\u001b[39mno_grad():\n\u001b[1;32m    494\u001b[0m     t_features, t_emb, t_logits \u001b[38;5;241m=\u001b[39m teacher(images, is_feat\u001b[38;5;241m=\u001b[39m\u001b[38;5;28;01mTrue\u001b[39;00m, preact\u001b[38;5;241m=\u001b[39m\u001b[38;5;28;01mTrue\u001b[39;00m)\n",
      "\u001b[0;31mValueError\u001b[0m: not enough values to unpack (expected 3, got 2)"
     ]
    }
   ],
   "source": [
    "import os\n",
    "os.environ['CUDA_VISIBLE_DEVICES'] = '0,1'\n",
    "import torch\n",
    "import torchvision\n",
    "from torch import nn\n",
    "from torch.utils.data import DataLoader\n",
    "import torch.nn.functional as F\n",
    "import torch.backends.cudnn as cudnn\n",
    "\n",
    "import models_package\n",
    "from utils.loss_functions import DKDLoss, DirectNormLoss, KDLoss\n",
    "# from Models.embtrans_cifar import EmbTrans\n",
    "# from Dataset import CIFAR, IDENPROF\n",
    "from utils.misc_tools import colorstr, Save_Checkpoint, AverageMeter, epoch_loop_reviewkd\n",
    "\n",
    "import numpy as np\n",
    "from pathlib import Path\n",
    "import time\n",
    "import json\n",
    "import random\n",
    "import logging\n",
    "import argparse\n",
    "import warnings\n",
    "from torch.utils.tensorboard import SummaryWriter\n",
    "import pdb\n",
    "\n",
    "import gc\n",
    "torch.cuda.empty_cache()\n",
    "gc.collect()\n",
    "\n",
    "torch.cuda.empty_cache()\n",
    "\n",
    "\n",
    "\n",
    "if __name__ == \"__main__\":\n",
    "    model_names = sorted(name for name in models.__dict__\n",
    "                         if name.islower() and not name.startswith(\"__\")\n",
    "                         and callable(models.__dict__[name]))\n",
    "\n",
    "    parser = argparse.ArgumentParser(description='PyTorch Cifar Training')\n",
    "    parser.add_argument('-f') # added to make this run in collab\n",
    "    parser.add_argument(\"--model_name\", type=str, default=\"resnet8x4_idenprof\", choices=model_names, help=\"model architecture\")\n",
    "    parser.add_argument(\"--dataset\", type=str, default='idenprof')\n",
    "    parser.add_argument(\"--epochs\", type=int, default=2)\n",
    "    # parser.add_argument(\"--epochs\", type=int, default=4)\n",
    "    parser.add_argument(\"--batch_size\", type=int, default=64, help=\"batch size per gpu\")\n",
    "    parser.add_argument('--workers', default=8, type=int, help='number of data loading workers')\n",
    "    parser.add_argument(\"--lr\", type=float, default=0.1)\n",
    "    parser.add_argument('--momentum', type=float, default=0.9, help='SGD momentum')\n",
    "    parser.add_argument(\"--weight_decay\", type=float, default=5e-4)\n",
    "\n",
    "    parser.add_argument(\"--teacher\", type=str, default=\"resnet32x4_idenprof\", help=\"teacher architecture\")\n",
    "    parser.add_argument(\"--teacher_weights\", type=str, default=\"./weights/resnet_32x4/weights.pth\", help=\"teacher weights path\")\n",
    "    parser.add_argument(\"--kd_loss_factor\", type=float, default=1.0, help=\"KL loss weight factor\")\n",
    "    parser.add_argument(\"--nd_loss_factor\", type=float, default=1.0, help=\"ND loss weight factor\")\n",
    "    parser.add_argument(\"--warm_up\", type=float, default=20.0, help='loss weight warm up epochs')\n",
    "\n",
    "    parser.add_argument(\"--gpus\", type=list, default=[0, 1])\n",
    "    parser.add_argument('--seed', default=None, type=int, help='seed for initializing training.')\n",
    "    parser.add_argument(\"--resume\", type=str, help=\"best ckpt's path to resume most recent training\")\n",
    "    parser.add_argument(\"--save_dir\", type=str, default=\"./run/IdenProf/ReviewKD++\", help=\"save path, eg, acc_loss, weights, tensorboard, and so on\")\n",
    "    args = parser.parse_args()\n",
    "\n",
    "    if args.seed is not None:\n",
    "        random.seed(args.seed)\n",
    "        torch.manual_seed(args.seed)\n",
    "        cudnn.deterministic = True\n",
    "        cudnn.benchmark = False\n",
    "        warnings.warn('You have chosen to seed training. '\n",
    "                      'This will turn on the CUDNN deterministic setting, '\n",
    "                      'which can slow down your training considerably! '\n",
    "                      'You may see unexpected behavior when restarting '\n",
    "                      'from checkpoints.')\n",
    "\n",
    "    logging.basicConfig(level=logging.INFO, format='%(asctime)s [line:%(lineno)d] %(message)s',\n",
    "                        datefmt='%d %b %Y %H:%M:%S')\n",
    "    logger = logging.getLogger(__name__)\n",
    "\n",
    "    args.batch_size = args.batch_size * len(args.gpus)\n",
    "    # args.batch_size = args.batch_size * 1\n",
    "\n",
    "    # logger.info(colorstr('green', \"Distribute train, gpus:{}, total batch size:{}, epoch:{}\".format(args.gpus, args.batch_size, args.epochs)))\n",
    "    logger.info(colorstr('green', \"Distribute train, total batch size:{}, epoch:{}\".format(args.batch_size, args.epochs)))\n",
    "\n",
    "\n",
    "    # train_set, test_set, num_class = IDENPROF(name=args.dataset)\n",
    "    num_class = 10\n",
    "    model = models_package.__dict__[args.model_name](num_class=num_class)\n",
    "\n",
    "    # if args.model_name in ['wrn40_1_cifar', 'mobilenetv2', 'shufflev1_cifar', 'shufflev2_cifar']:\n",
    "    #     model = EmbTrans(student=model, model_name=args.model_name)\n",
    "\n",
    "    teacher = models_package.__dict__[args.teacher](num_class=num_class)\n",
    "\n",
    "    if args.teacher_weights:\n",
    "        print('Load Teacher Weights')\n",
    "        session = boto3.session.Session()\n",
    "        s3 = session.client('s3')\n",
    "    \n",
    "        teacher_model_weights_buffer = io.BytesIO()\n",
    "        s3.download_fileobj(bucket_name, model_weight_path, teacher_model_weights_buffer)\n",
    "        teacher_model_weights_buffer.seek(0)  \n",
    "    \n",
    "        # Load the model\n",
    "        # model = models_package.__dict__[model_name](num_class=num_class)\n",
    "        teacher_ckpt = torch.load(teacher_model_weights_buffer)\n",
    "        teacher.load_state_dict(teacher_ckpt)\n",
    "        \n",
    "        for param in teacher.parameters():\n",
    "            param.requires_grad = False\n",
    "\n",
    "    # res56    ./ckpt/teacher/resnet56/center_emb_train.json\n",
    "    # res32x4  ./ckpt/teacher/resnet32x4/center_emb_train.json\n",
    "    # wrn40_2  ./ckpt/teacher/wrn_40_2/center_emb_train.json\n",
    "    # res50    ./ckpt/teacher/resnet50/center_emb_train.json\n",
    "    # class-mean\n",
    "    with open(\"./class_means/idenprof_embedding_fea/resnet32x4_idenprof.json\", 'r') as f:\n",
    "        T_EMB = json.load(f)\n",
    "    f.close()\n",
    "\n",
    "    logger.info(colorstr('green', 'Use ' + args.teacher + ' Training ' + args.model_name + ' ...'))\n",
    "    # Train the model\n",
    "    epoch_loop_reviewkd(model=model, teacher=teacher, train_loader = trainloader, test_loader = testloader, num_class = num_class, T_EMB=T_EMB, args=args)\n"
   ]
  },
  {
   "cell_type": "code",
   "execution_count": null,
   "id": "57f17651-3f61-4a7c-86f1-273c0a951c0f",
   "metadata": {},
   "outputs": [],
   "source": []
  }
 ],
 "metadata": {
  "kernelspec": {
   "display_name": "Python 3 (ipykernel)",
   "language": "python",
   "name": "python3"
  },
  "language_info": {
   "codemirror_mode": {
    "name": "ipython",
    "version": 3
   },
   "file_extension": ".py",
   "mimetype": "text/x-python",
   "name": "python",
   "nbconvert_exporter": "python",
   "pygments_lexer": "ipython3",
   "version": "3.8.10"
  }
 },
 "nbformat": 4,
 "nbformat_minor": 5
}
