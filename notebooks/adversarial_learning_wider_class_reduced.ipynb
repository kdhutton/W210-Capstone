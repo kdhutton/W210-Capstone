{
 "cells": [
  {
   "cell_type": "code",
   "execution_count": 1,
   "id": "50f79206-feac-4302-abb1-d699b6354a05",
   "metadata": {},
   "outputs": [],
   "source": [
    "import time\n",
    "import torch\n",
    "import json\n",
    "import random\n",
    "import math\n",
    "import warnings\n",
    "import torchvision\n",
    "import os\n",
    "import torchvision.transforms as transforms\n",
    "import torch.nn as nn\n",
    "import torch.nn.functional as F\n",
    "import torch.optim as optim\n",
    "import matplotlib.pyplot as plt\n",
    "import seaborn as sns\n",
    "import numpy as np\n",
    "import pandas as pd\n",
    "\n",
    "from datetime import datetime\n",
    "from tqdm import tqdm\n",
    "from PIL import Image\n",
    "from sklearn import metrics\n",
    "from sklearn.preprocessing import StandardScaler\n",
    "from sklearn.metrics import pairwise_distances_argmin_min, accuracy_score, precision_score, recall_score, f1_score, confusion_matrix, classification_report, precision_recall_fscore_support\n",
    "from sklearn.model_selection import train_test_split, StratifiedKFold\n",
    "from torch.utils.data import Subset, Dataset, DataLoader\n",
    "from torchvision.models.resnet import ResNet34_Weights\n",
    "from torchvision.datasets import ImageFolder\n",
    "from utils.loss_functions import tkd_kdloss\n",
    "# from models_package.models import Teacher, Student\n",
    "\n",
    "# Suppress all warnings\n",
    "warnings.filterwarnings(\"ignore\")"
   ]
  },
  {
   "cell_type": "code",
   "execution_count": 2,
   "id": "dc3c0ec8-98dc-4933-b9a3-e96fce39c6b5",
   "metadata": {},
   "outputs": [],
   "source": [
    "# Hyperparameters\n",
    "learning_rate = 0.001\n",
    "epochs = 300\n",
    "epochs_pretrain = 3\n",
    "epochs_optimal_lr = 3\n",
    "patience_teacher = 10\n",
    "patience_student = 10\n",
    "temperature = 4.0\n",
    "alpha = 0.9\n",
    "momentum = 0.9\n",
    "step_size = 30\n",
    "gamma = 0.1\n",
    "batch_size = 384\n",
    "num_workers = 4\n",
    "\n",
    "# set to true to use stratified sampling\n",
    "stratified_sampling_flag = True\n",
    "\n",
    "# list of lambda values to loop through for grid search\n",
    "lmda_list = [0]\n"
   ]
  },
  {
   "cell_type": "code",
   "execution_count": 3,
   "id": "b2fff6d5-d21d-4c74-8bda-5039d2cf34b5",
   "metadata": {},
   "outputs": [],
   "source": [
    "# labels used including for plotting\n",
    "class_labels = [0, 1, 3, 4, 6, 7, 11, 15, 17, 18, 19, 20, 22, 25, 27, 28, 30, 31, 33, 35, 36, 37, 39, 43, 44, 50, 51, 54, 57, 58]\n",
    "class_labels_new = torch.tensor([i for i in range(len(class_labels))])\n",
    "num_classes = 16 #len(class_labels)\n",
    "class_names_new = [f\"Class {label}\" for label in range(num_classes)]\n",
    "\n",
    "# Create directory and file path to save all outputs\n",
    "output_dir = f'./runs_{datetime.now().strftime(\"%Y_%m_%d_%H_%M\")}'\n",
    "os.makedirs(output_dir, exist_ok=True)"
   ]
  },
  {
   "cell_type": "code",
   "execution_count": 4,
   "id": "a2770eac-10b7-47de-ba06-9aa63cd7ab86",
   "metadata": {},
   "outputs": [],
   "source": [
    "# set device to cuda if available\n",
    "device = torch.device('cuda' if torch.cuda.is_available() else 'cpu')"
   ]
  },
  {
   "cell_type": "code",
   "execution_count": 5,
   "id": "46265942-58a1-4c1a-a7ea-82d919a7e799",
   "metadata": {},
   "outputs": [],
   "source": [
    "# Assuming your JSON file is named 'your_file.json'\n",
    "file_path = './WIDER/Annotations/wider_attribute_trainval.json'\n",
    "\n",
    "with open(file_path, 'r') as file:\n",
    "    # Load the JSON data from the file\n",
    "    data = json.load(file)\n",
    "\n",
    "class_idx = data['scene_id_map']"
   ]
  },
  {
   "cell_type": "code",
   "execution_count": 6,
   "id": "312fa312-b347-4434-862b-d25e32a79108",
   "metadata": {},
   "outputs": [],
   "source": [
    "new_label_mapping = {\n",
    "    0: \"Team_Sports\",\n",
    "    1: \"Celebration\",\n",
    "    2: \"Parade\",\n",
    "    3: \"Waiter_Or_Waitress\",\n",
    "    4: \"Individual_Sports\",\n",
    "    5: \"Surgeons\",\n",
    "    6: \"Spa\",\n",
    "    7: \"Law_Enforcement\",\n",
    "    8: \"Business\",\n",
    "    9: \"Dresses\",\n",
    "    10: \"Water_Activities\",\n",
    "    11: \"Picnic\",\n",
    "    12: \"Rescue\",\n",
    "    13: \"Cheering\",\n",
    "    14: \"Performance_And_Entertainment\",\n",
    "    15: \"Family\"\n",
    "}\n",
    "\n",
    "# Ensure that all 16 new classes are covered\n",
    "# If some classes are not explicitly mentioned in new_label_mapping, add them\n",
    "for i in range(16):\n",
    "    if i not in new_label_mapping:\n",
    "        new_label_mapping[i] = \"Additional Category {}\".format(i)\n",
    "\n",
    "class_idx = new_label_mapping"
   ]
  },
  {
   "cell_type": "code",
   "execution_count": 7,
   "id": "8c922f94-bf69-40d5-bc88-1e6fab4b4ed7",
   "metadata": {},
   "outputs": [],
   "source": [
    "class StratifiedBatchSampler:\n",
    "    \"\"\"Stratified batch sampling\n",
    "    Provides equal representation of target classes in each batch\n",
    "    \"\"\"\n",
    "    def __init__(self, y, batch_size, shuffle=True):\n",
    "        if torch.is_tensor(y):\n",
    "            y = y.numpy()\n",
    "        assert len(y.shape) == 1, 'label array must be 1D'\n",
    "        n_batches = int(len(y) / batch_size)\n",
    "        self.skf = StratifiedKFold(n_splits=n_batches, shuffle=shuffle)\n",
    "        self.X = torch.randn(len(y),1).numpy()\n",
    "        self.y = y\n",
    "        self.shuffle = shuffle\n",
    "        self.batch_size = batch_size\n",
    "\n",
    "    def __iter__(self):\n",
    "        if self.shuffle:\n",
    "            self.skf.random_state = torch.randint(0,int(1e8),size=()).item()\n",
    "        for train_idx, test_idx in self.skf.split(self.X, self.y):\n",
    "            yield test_idx\n",
    "\n",
    "    def __len__(self):\n",
    "        return len(self.y)//self.batch_size"
   ]
  },
  {
   "cell_type": "code",
   "execution_count": 8,
   "id": "e1c84514-66c9-4543-8448-cafa751730ff",
   "metadata": {},
   "outputs": [],
   "source": [
    "class DataSet(Dataset):\n",
    "    def __init__(self, ann_files, augs, img_size, dataset):\n",
    "\n",
    "        # Create a mapping from old labels to new labels\n",
    "        self.label_mapping = {old_label: new_label for new_label, old_label in enumerate(sorted(class_labels))}\n",
    "\n",
    "        self.new_label_mapping = {\n",
    "            0: 2,  # Parade\n",
    "            1: 8,  # Business\n",
    "            2: 7,  # Law Enforcement\n",
    "            3: 14,  # Performance and Entertainment\n",
    "            4: 1,  # Celebration\n",
    "            5: 13,  # Cheering\n",
    "            6: 8,  # Business\n",
    "            7: 8,  # Business\n",
    "            8: 1,  # Celebration\n",
    "            9: 14,  # Performance and Entertainment\n",
    "            10: 15, # Family\n",
    "            11: 15, # Family\n",
    "            12: 11, # Picnic\n",
    "            13: 7, # Law Enforcement\n",
    "            14: 6, # Spa\n",
    "            15: 13, # Cheering\n",
    "            16: 5, # Surgeons\n",
    "            17: 3, # Waiter or Waitress\n",
    "            18: 4, # Individual Sports\n",
    "            19: 0, # Team Sports\n",
    "            20: 0, # Team Sports\n",
    "            21: 0, # Team Sports\n",
    "            22: 4, # Individual Sports\n",
    "            23: 10, # Water Activities\n",
    "            24: 4, # Individual Sports\n",
    "            25: 1, # Celebration\n",
    "            26: 9, # Dresses\n",
    "            27: 12, # Rescue\n",
    "            28: 10,# Water Activities\n",
    "            29: 0  # Team Sports\n",
    "        }\n",
    "\n",
    "        \n",
    "        self.dataset = dataset\n",
    "        self.ann_files = ann_files\n",
    "        self.augment = self.augs_function(augs, img_size)\n",
    "        # Initialize transformations directly\n",
    "        self.transform = transforms.Compose(\n",
    "            [\n",
    "                transforms.ToTensor(),\n",
    "                transforms.Normalize(mean=[0, 0, 0], std=[1, 1, 1])\n",
    "            ] \n",
    "        )\n",
    "        if self.dataset == \"wider\":\n",
    "            self.transform = transforms.Compose(\n",
    "                [\n",
    "                    transforms.ToTensor(),\n",
    "                    transforms.Normalize(mean=[0.485, 0.456, 0.406], std=[0.229, 0.224, 0.225])                ] \n",
    "            )        \n",
    "\n",
    "        self.anns = []\n",
    "        self.load_anns()\n",
    "        print(self.augment)\n",
    "\n",
    "    def augs_function(self, augs, img_size):            \n",
    "        t = []\n",
    "        if 'randomflip' in augs:\n",
    "            t.append(transforms.RandomHorizontalFlip())\n",
    "        if 'ColorJitter' in augs:\n",
    "            t.append(transforms.ColorJitter(brightness=0.5, contrast=0.5, saturation=0.5, hue=0))\n",
    "        if 'resizedcrop' in augs:\n",
    "            t.append(transforms.RandomResizedCrop(img_size, scale=(0.7, 1.0)))\n",
    "        if 'RandAugment' in augs:\n",
    "            t.append(transforms.RandAugment())\n",
    "\n",
    "        t.append(transforms.Resize((img_size, img_size)))\n",
    "\n",
    "        return transforms.Compose(t)\n",
    "    \n",
    "    def load_anns(self):\n",
    "        self.anns = []\n",
    "        for ann_file in self.ann_files:\n",
    "            json_data = json.load(open(ann_file, \"r\"))\n",
    "            self.anns += json_data\n",
    "\n",
    "    def __len__(self):\n",
    "        return len(self.anns)\n",
    "\n",
    "    def __getitem__(self, idx):\n",
    "        # Make sure the index is within bounds\n",
    "        idx = idx % len(self)\n",
    "        ann = self.anns[idx]\n",
    "        \n",
    "        try:\n",
    "            # Attempt to open the image file\n",
    "            img = Image.open(f'data/WIDER/Image/{ann[\"file_name\"]}').convert(\"RGB\")\n",
    "\n",
    "            # If this is the wider dataset, proceed with specific processing\n",
    "            # x, y, w, h = ann['bbox']\n",
    "            # img_area = img.crop([x, y, x+w, y+h])\n",
    "            img_area = self.augment(img)\n",
    "            img_area = self.transform(img_area)\n",
    "            attributes_list = [target['attribute'] for target in ann['targets']]\n",
    "            num_people = len(attributes_list)\n",
    "            attributes_distribution = [max(sum(attribute), 0)/num_people for attribute in zip(*attributes_list)]\n",
    "            # Extract label from image path\n",
    "            img_path = f'data/WIDER/Image/{ann[\"file_name\"]}'\n",
    "            label = self.extract_label(img_path)  # You might need to implement this method\n",
    "            \n",
    "            return {\n",
    "                \"label\": label,\n",
    "                \"target\": torch.tensor([attributes_distribution[0]], dtype=torch.float32),\n",
    "                \"img\": img_area\n",
    "            }\n",
    "            \n",
    "        except Exception as e:\n",
    "            # If any error occurs during the processing of an image, log the error and the index\n",
    "            print(f\"Error processing image at index {idx}: {e}\")\n",
    "            # Instead of returning None, raise the exception\n",
    "            raise\n",
    "\n",
    "    def extract_label(self, img_path):\n",
    "        original_label = None\n",
    "    \n",
    "        if \"data/WIDER/Image/train\" in img_path:\n",
    "            label_str = img_path.split(\"WIDER/Image/train/\")[1].split(\"/\")[0]\n",
    "            original_label = int(label_str.split(\"--\")[0])\n",
    "        elif \"data/WIDER/Image/test\" in img_path:\n",
    "            label_str = img_path.split(\"WIDER/Image/test/\")[1].split(\"/\")[0]\n",
    "            original_label = int(label_str.split(\"--\")[0])\n",
    "        elif \"data/WIDER/Image/val\" in img_path:  # Handle validation images\n",
    "            label_str = img_path.split(\"WIDER/Image/val/\")[1].split(\"/\")[0]\n",
    "            original_label = int(label_str.split(\"--\")[0])\n",
    "    \n",
    "        if original_label is not None:\n",
    "            remapped_label = self.label_mapping[original_label]\n",
    "            new_label_mapping = self.new_label_mapping[remapped_label]\n",
    "            return new_label_mapping\n",
    "        else:\n",
    "            raise ValueError(f\"Label could not be extracted from path: {img_path}\")\n"
   ]
  },
  {
   "cell_type": "code",
   "execution_count": 9,
   "id": "ea2490c2-046a-4a19-9717-642adbabb732",
   "metadata": {},
   "outputs": [],
   "source": [
    "train_file = ['data/wider/trainval_wider.json']\n",
    "test_file = ['data/wider/test_wider.json']\n"
   ]
  },
  {
   "cell_type": "code",
   "execution_count": 10,
   "id": "012d6bd8-61d5-4a20-845b-689234718508",
   "metadata": {},
   "outputs": [],
   "source": [
    "def custom_collate(batch):\n",
    "    # Filter out any None items in the batch\n",
    "    batch = [item for item in batch if item is not None]\n",
    "    # If after filtering the batch is empty, handle this case by either returning an empty tensor or raising an exception\n",
    "    if len(batch) == 0:\n",
    "        raise ValueError(\"Batch is empty after filtering out None items.\")\n",
    "    return torch.utils.data.dataloader.default_collate(batch)\n"
   ]
  },
  {
   "cell_type": "code",
   "execution_count": 11,
   "id": "8fe2adb5-687d-4055-a108-a9c041836b64",
   "metadata": {
    "scrolled": true
   },
   "outputs": [
    {
     "name": "stdout",
     "output_type": "stream",
     "text": [
      "Compose(\n",
      "    RandAugment(num_ops=2, magnitude=9, num_magnitude_bins=31, interpolation=InterpolationMode.NEAREST, fill=None)\n",
      "    Resize(size=(226, 226), interpolation=bilinear, max_size=None, antialias=warn)\n",
      ")\n",
      "Compose(\n",
      "    Resize(size=(226, 226), interpolation=bilinear, max_size=None, antialias=warn)\n",
      ")\n"
     ]
    }
   ],
   "source": [
    "train_dataset = DataSet(train_file, augs = ['RandAugment'], img_size = 226, dataset = 'wider')\n",
    "test_dataset = DataSet(test_file, augs = [], img_size = 226, dataset = 'wider')\n",
    "\n",
    "\n",
    "if stratified_sampling_flag:\n",
    "    trainloader = DataLoader(train_dataset, \n",
    "                             batch_sampler=StratifiedBatchSampler(torch.tensor([train_dataset[i]['label'] for i in range(len(train_dataset))]), \n",
    "                             batch_size=batch_size), num_workers=num_workers, collate_fn=custom_collate)\n",
    "else:\n",
    "    trainloader = DataLoader(train_dataset, batch_size=batch_size, shuffle=True, \n",
    "                             num_workers=num_workers, collate_fn=custom_collate)\n",
    "\n",
    "testloader = DataLoader(test_dataset, batch_size=batch_size, shuffle=False, num_workers=num_workers, collate_fn=custom_collate)"
   ]
  },
  {
   "cell_type": "markdown",
   "id": "a6d18d4b-a3c0-4c5b-ad75-e74b6b1b7296",
   "metadata": {},
   "source": [
    "# Start Training Process"
   ]
  },
  {
   "cell_type": "code",
   "execution_count": 12,
   "id": "1c37c867-c1d1-438c-ac22-755904ce121e",
   "metadata": {},
   "outputs": [],
   "source": [
    "def one_hot_encode(labels, num_classes):\n",
    "    return np.eye(num_classes)[labels]\n",
    "\n",
    "def calculate_recall_multiclass(conf_matrix):\n",
    "    recalls = np.diag(conf_matrix) / np.sum(conf_matrix, axis=1)\n",
    "    recalls[np.isnan(recalls)] = 0  # Replace NaN with 0\n",
    "    return recalls\n",
    "\n",
    "def evaluate_model_with_gender_multiclass(pred, label, gender, num_classes):\n",
    "    predictions = pred.cpu()\n",
    "    true_labels = label.cpu()\n",
    "    gender = gender.cpu()\n",
    "\n",
    "    # Identify male and female indices based on the gender threshold\n",
    "    male_indices = np.where(gender >= 0.5)[0]\n",
    "    female_indices = np.where(gender < 0.5)[0]\n",
    "\n",
    "    # Convert labels to one-hot encoding\n",
    "    one_hot_labels = one_hot_encode(true_labels, num_classes=num_classes)\n",
    "    one_hot_preds = one_hot_encode(predictions, num_classes=num_classes)\n",
    "    # Initialize recall arrays\n",
    "    male_recall = np.zeros(num_classes)\n",
    "    female_recall = np.zeros(num_classes)\n",
    "\n",
    "    # Extract predictions and labels for male and female indices\n",
    "    male_predictions = np.argmax(one_hot_preds[male_indices], axis=1)\n",
    "    female_predictions = np.argmax(one_hot_preds[female_indices], axis=1)\n",
    "    male_labels = np.argmax(one_hot_labels[male_indices], axis=1)\n",
    "    female_labels = np.argmax(one_hot_labels[female_indices], axis=1)\n",
    "\n",
    "    # Check if the class labels are within the expected range\n",
    "    assert (0 <= male_predictions.min() < num_classes) and (0 <= male_predictions.max() < num_classes), \"Invalid class indices in male predictions\"\n",
    "    assert (0 <= female_predictions.min() < num_classes) and (0 <= female_predictions.max() < num_classes), \"Invalid class indices in female predictions\"\n",
    "    assert (0 <= male_labels.min() < num_classes) and (0 <= male_labels.max() < num_classes), \"Invalid class indices in male labels\"\n",
    "    assert (0 <= female_labels.min() < num_classes) and (0 <= female_labels.max() < num_classes), \"Invalid class indices in female labels\"\n",
    "\n",
    "    # Calculate confusion matrices for each gender\n",
    "    male_conf_matrix = confusion_matrix(male_labels, male_predictions, labels=np.arange(num_classes))\n",
    "    female_conf_matrix = confusion_matrix(female_labels, female_predictions, labels=np.arange(num_classes))\n",
    "\n",
    "    # Calculate recall for each class and gender\n",
    "    male_recall[:len(male_conf_matrix)] = calculate_recall_multiclass(male_conf_matrix)\n",
    "    female_recall[:len(female_conf_matrix)] = calculate_recall_multiclass(female_conf_matrix)\n",
    "\n",
    "    return male_recall - female_recall, male_conf_matrix, female_conf_matrix\n"
   ]
  },
  {
   "cell_type": "code",
   "execution_count": 13,
   "id": "1c6b93cb-37c9-448f-a8d9-424d3c4d40fb",
   "metadata": {},
   "outputs": [],
   "source": [
    "# Instantiate the models\n",
    "###################### Testing 1 ######################\n",
    "# Create instances of your models\n",
    "teacher_model = torchvision.models.resnet34(weights=ResNet34_Weights.IMAGENET1K_V1).to(device)\n",
    "teacher_model.fc = nn.Linear(512, num_classes)\n",
    "student_model = torchvision.models.resnet18(weights=None)\n",
    "student_model.fc = nn.Linear(512, num_classes)\n",
    "\n",
    "# Load teacher\n",
    "# teacher_model = torch.load('teacher_model_ckd_wider.pth')\n",
    "# teacher_model.load_state_dict(torch.load('teacher_model_weights_ckd_wider.pth'))\n",
    "# torch.save(teacher_model.state_dict(), 'teacher_model_weights_ckd_wider.pth')\n",
    "# # Load the studnet\n",
    "# student_model = torch.load('student_model_ckd_prof.pth')\n",
    "# student_model.load_state_dict(torch.load('student_model_weights_ckd_prof_checkpoint.pth'))\n",
    "# student_model = student_model.to(device)\n"
   ]
  },
  {
   "cell_type": "markdown",
   "id": "ffdcd643-ac9d-4e22-821a-4c784c86e4a5",
   "metadata": {},
   "source": [
    "This is the initialization of the 2-layer Adversary Perceptron. It is initialized with the number of classes*2, which represents the predicted labels (y_hat) and the true labels (y). The output of the final layer is a regression output, which is intended to predict the strength of gender (continuous number where anything past 0.5 is more male).\n"
   ]
  },
  {
   "cell_type": "code",
   "execution_count": 14,
   "id": "836f2993-0505-47c6-85ee-2ad2f45db946",
   "metadata": {},
   "outputs": [],
   "source": [
    "class Adversary(nn.Module):\n",
    "    def __init__(self, input_size=num_classes):\n",
    "        super(Adversary, self).__init__()\n",
    "\n",
    "        self.a1 = nn.Linear(input_size*2, 16)\n",
    "        self.a2 = nn.Linear(16, 1)  # Output size 1 for regression\n",
    "        nn.init.xavier_normal_(self.a1.weight)\n",
    "        nn.init.kaiming_normal_(self.a2.weight, mode='fan_out', nonlinearity='relu')\n",
    "\n",
    "    def forward(self, input_ids):\n",
    "        adversary = F.relu(self.a1(input_ids))\n",
    "        adversary_output = F.sigmoid(self.a2(adversary))  # Linear activation for regression\n",
    "        return adversary_output\n",
    "\n",
    "# Instantiate the Adversary\n",
    "adv = Adversary()"
   ]
  },
  {
   "cell_type": "code",
   "execution_count": 15,
   "id": "a761874d-cc14-482e-9c8c-6342adea3cae",
   "metadata": {},
   "outputs": [],
   "source": [
    "def pretrain_student(student, teacher, trainloader, criterion, optimizer, device, alpha, temperature, epochs_pretrain, patience=patience_student):\n",
    "    teacher.eval()\n",
    "    teacher.to(device)\n",
    "    best_val_loss = float('inf')  \n",
    "    patience_counter = 0 \n",
    "    student_epoch_losses = []\n",
    "    val_losses = []\n",
    "    \n",
    "    for epoch in range(epochs_pretrain):\n",
    "        student.train()\n",
    "        student.to(device)\n",
    "        running_loss = 0.0 \n",
    "        epoch_loss = 0.0  \n",
    "        num_batches = 0  \n",
    "        \n",
    "        for index, data in enumerate(tqdm(trainloader)):\n",
    "\n",
    "            inputs = data['img'].to(device)\n",
    "            labels = data['label'].to(device)\n",
    "            optimizer.zero_grad()\n",
    "            student_outputs = student(inputs)\n",
    "\n",
    "            with torch.no_grad():\n",
    "                teacher_outputs = teacher(inputs)\n",
    "\n",
    "            ce_loss = criterion(student_outputs, labels)\n",
    "            kd_loss = tkd_kdloss(student_outputs, teacher_outputs, temperature=temperature)  # Make sure this returns a scalar\n",
    "            \n",
    "            # If not scalar, sum up to make sure the loss is scalar\n",
    "            if kd_loss.ndim != 0:\n",
    "                kd_loss = kd_loss.sum()\n",
    "                \n",
    "            # Now combine the losses\n",
    "            loss = alpha * kd_loss + (1 - alpha) * ce_loss\n",
    "            loss.backward()\n",
    "            optimizer.step()\n",
    "            running_loss += loss.item()\n",
    "            epoch_loss += loss.item()\n",
    "            num_batches += 1\n",
    "        \n",
    "        epoch_loss /= num_batches\n",
    "        print(f'*******Epoch {epoch}: loss - {epoch_loss}')\n",
    "        student_epoch_losses.append(epoch_loss)\n"
   ]
  },
  {
   "cell_type": "code",
   "execution_count": 16,
   "id": "16f4630d-f0d5-4d83-b61f-8707df8800a6",
   "metadata": {},
   "outputs": [],
   "source": [
    "def pretrain_teacher(teacher, trainloader, criterion, optimizer, device, epochs_pretrain, patience=patience_student):\n",
    "    teacher.to(device)\n",
    "    teacher.train()  # Set the model to training mode\n",
    "    best_val_loss = float('inf')  \n",
    "    patience_counter = 0 \n",
    "    teacher_epoch_losses = []\n",
    "    val_losses = []\n",
    "    \n",
    "    for epoch in range(epochs_pretrain):\n",
    "        running_loss = 0.0 \n",
    "        epoch_loss = 0.0  \n",
    "        num_batches = 0  \n",
    "        \n",
    "        for index, data in enumerate(tqdm(trainloader)):\n",
    "            inputs = data['img'].to(device)\n",
    "            labels = data['label'].to(device)\n",
    "            optimizer.zero_grad()\n",
    "            teacher_outputs = teacher(inputs)\n",
    "\n",
    "            ce_loss = criterion(teacher_outputs, labels)\n",
    "                \n",
    "            loss = ce_loss\n",
    "            loss.backward()\n",
    "            optimizer.step()\n",
    "            running_loss += loss.item()\n",
    "            epoch_loss += loss.item()\n",
    "            num_batches += 1\n",
    "        \n",
    "        epoch_loss /= num_batches\n",
    "        print(f'*******Epoch {epoch}: loss - {epoch_loss}')\n",
    "        teacher_epoch_losses.append(epoch_loss)\n"
   ]
  },
  {
   "cell_type": "code",
   "execution_count": 17,
   "id": "005d66e3-f169-4d59-bc29-b5c0e05816b0",
   "metadata": {},
   "outputs": [],
   "source": [
    "def pretrain_adversary(adv, model, adversary_optimizer, trainloader, adv_criterion, device, epochs_pretrain):\n",
    "\n",
    "  for epoch in range(epochs_pretrain):\n",
    "    epoch_loss = 0\n",
    "    epoch_batches = 0\n",
    "    for i, data in enumerate(tqdm(trainloader)): # starting from the 0th batch\n",
    "        # get the inputs and labels\n",
    "        adv.train()\n",
    "        adv.to(device)\n",
    "        inputs = data['img'].to(device)\n",
    "        labels = data['label'].to(device)\n",
    "        targets = data['target'].to(device)\n",
    "        model = model.to(device)\n",
    "        adversary_optimizer.zero_grad()\n",
    "        student_output = model(inputs)\n",
    "        one_hot_labels = F.one_hot(labels, num_classes=num_classes).to(torch.float32)\n",
    "        concatenated_output = torch.cat((student_output, one_hot_labels), dim=1)\n",
    "        adversary_output = adv(concatenated_output)\n",
    "        adversary_loss = adv_criterion(adversary_output, targets) # compute loss\n",
    "        adversary_loss.backward() # back prop\n",
    "        adversary_optimizer.step()\n",
    "        epoch_loss += adversary_loss.item()\n",
    "        epoch_batches += 1\n",
    "\n",
    "    print(\"Average Pretrain Adversary epoch loss: \", epoch_loss/epoch_batches)\n"
   ]
  },
  {
   "cell_type": "code",
   "execution_count": 18,
   "id": "c7b4731c-f105-4192-9650-6587c46f6e8c",
   "metadata": {},
   "outputs": [],
   "source": [
    "# Optimizer and scheduler for the student model\n",
    "student_optimizer = optim.Adam(student_model.parameters(), lr=learning_rate)\n",
    "\n",
    "# Optimizer and scheduler for the teacher model\n",
    "teacher_optimizer = optim.SGD(teacher_model.parameters(), lr=learning_rate, momentum=momentum)\n",
    "teacher_scheduler = torch.optim.lr_scheduler.StepLR(teacher_optimizer, step_size=step_size, gamma=gamma)\n",
    "\n",
    "optimizer_adv = optim.Adam(adv.parameters(), lr=learning_rate)\n",
    "\n",
    "# Instantiate the model and the loss function\n",
    "criterion_clf = nn.CrossEntropyLoss()\n",
    "adv_criterion = nn.MSELoss()\n"
   ]
  },
  {
   "cell_type": "code",
   "execution_count": 19,
   "id": "b3b7719f-4d65-4601-8e1d-1015de2201cb",
   "metadata": {},
   "outputs": [],
   "source": [
    "# #### finding the optimal learning rate\n",
    "# def train_teacher_optimal_lr(model, trainloader, criterion, optimizer, scheduler, device, epochs_optimal_lr=5, lr_range=(1e-4, 1e-1), plot_loss=True):\n",
    "#     model.train()\n",
    "#     model.to(device)\n",
    "#     lr_values = np.logspace(np.log10(lr_range[0]), np.log10(lr_range[1]), epochs_optimal_lr * len(trainloader))  # Generate learning rates for each batch\n",
    "#     lr_iter = iter(lr_values)\n",
    "#     losses = []\n",
    "#     lrs = []\n",
    "    \n",
    "#     for epoch in range(epochs_optimal_lr):\n",
    "#         for i, batch in enumerate(tqdm(trainloader)):\n",
    "#             lr = next(lr_iter)\n",
    "#             for param_group in optimizer.param_groups:\n",
    "#                 param_group['lr'] = lr  # Set new learning rate\n",
    "            \n",
    "#             inputs, labels = batch['img'].to(device), batch['label'].to(device)\n",
    "#             optimizer.zero_grad()\n",
    "#             outputs = model(inputs)\n",
    "#             loss = criterion(outputs, labels)\n",
    "#             loss.backward()\n",
    "#             optimizer.step()\n",
    "            \n",
    "#             losses.append(loss.item())\n",
    "#             lrs.append(lr)\n",
    "    \n",
    "#     # Calculate the derivative of the loss\n",
    "#     loss_derivative = np.gradient(losses)\n",
    "    \n",
    "#     # Find the learning rate corresponding to the minimum derivative (steepest decline)\n",
    "#     best_lr_index = np.argmin(loss_derivative)\n",
    "#     best_lr = lrs[best_lr_index]\n",
    "    \n",
    "#     if plot_loss:\n",
    "#         import matplotlib.pyplot as plt\n",
    "#         plt.figure()\n",
    "#         plt.plot(lrs, losses)\n",
    "#         plt.xscale('log')\n",
    "#         plt.xlabel('Learning Rate')\n",
    "#         plt.ylabel('Loss')\n",
    "#         plt.title('Learning Rate Range Test - Teacher')\n",
    "#         plt.axvline(x=best_lr, color='red', linestyle='--', label=f'Best LR: {best_lr}')\n",
    "#         plt.legend()\n",
    "#         plt.show()\n",
    "    \n",
    "#     print(f'Best Learning Rate Teacher: {best_lr}')\n",
    "#     return best_lr\n",
    "\n",
    "# ############# input ############## \n",
    "# best_lr_teacher = train_teacher_optimal_lr(teacher_model, trainloader, criterion_clf, teacher_optimizer, teacher_scheduler, device, epochs_optimal_lr)  \n",
    "# print(best_lr_teacher)\n"
   ]
  },
  {
   "cell_type": "code",
   "execution_count": 20,
   "id": "3fc2fd75-c5a3-415d-8da7-32816addb845",
   "metadata": {},
   "outputs": [],
   "source": [
    "# #### finding the optimal learning rate\n",
    "# def train_student_optimal_lr(model, trainloader, criterion, optimizer, device, epochs_optimal_lr=5, lr_range=(1e-4, 1e-1), plot_loss=True):\n",
    "#     model.train()\n",
    "#     model.to(device)\n",
    "#     lr_values = np.logspace(np.log10(lr_range[0]), np.log10(lr_range[1]), epochs_optimal_lr * len(trainloader))  # Generate learning rates for each batch\n",
    "#     lr_iter = iter(lr_values)\n",
    "#     losses = []\n",
    "#     lrs = []\n",
    "    \n",
    "#     for epoch in range(epochs_optimal_lr):\n",
    "#         for i, batch in enumerate(tqdm(trainloader)):\n",
    "#             lr = next(lr_iter)\n",
    "#             for param_group in optimizer.param_groups:\n",
    "#                 param_group['lr'] = lr  # Set new learning rate\n",
    "            \n",
    "#             inputs, labels = batch['img'].to(device), batch['label'].to(device)\n",
    "#             optimizer.zero_grad()\n",
    "#             outputs = model(inputs)\n",
    "#             loss = criterion(outputs, labels)\n",
    "#             loss.backward()\n",
    "#             optimizer.step()\n",
    "            \n",
    "#             losses.append(loss.item())\n",
    "#             lrs.append(lr)\n",
    "    \n",
    "#     # Calculate the derivative of the loss\n",
    "#     loss_derivative = np.gradient(losses)\n",
    "    \n",
    "#     # Find the learning rate corresponding to the minimum derivative (steepest decline)\n",
    "#     best_lr_index = np.argmin(loss_derivative)\n",
    "#     best_lr = lrs[best_lr_index]\n",
    "    \n",
    "#     if plot_loss:\n",
    "#         import matplotlib.pyplot as plt\n",
    "#         plt.figure()\n",
    "#         plt.plot(lrs, losses)\n",
    "#         plt.xscale('log')\n",
    "#         plt.xlabel('Learning Rate')\n",
    "#         plt.ylabel('Loss')\n",
    "#         plt.title('Learning Rate Range Test - Student')\n",
    "#         plt.axvline(x=best_lr, color='red', linestyle='--', label=f'Best LR: {best_lr}')\n",
    "#         plt.legend()\n",
    "#         plt.show()\n",
    "    \n",
    "#     print(f'Best Learning Rate Student: {best_lr}')\n",
    "#     return best_lr\n",
    "\n",
    "# ############# input ############## \n",
    "# best_lr_student = train_student_optimal_lr(student_model, trainloader, criterion_clf, student_optimizer, device, epochs_optimal_lr)  \n",
    "# print(best_lr_student)"
   ]
  },
  {
   "cell_type": "code",
   "execution_count": 21,
   "id": "3997f6f4-9e71-41f1-964e-02d7b98e9b93",
   "metadata": {},
   "outputs": [],
   "source": [
    "# # for testing, delete this cell\n",
    "best_lr_teacher = learning_rate\n",
    "best_lr_student = learning_rate"
   ]
  },
  {
   "cell_type": "code",
   "execution_count": 22,
   "id": "411c4f7a-d0b4-478f-9fa5-5e152e08ed14",
   "metadata": {},
   "outputs": [],
   "source": [
    "def plot_loss_curve(losses):\n",
    "    epochs = range(1, len(losses) + 1)\n",
    "    plt.plot(epochs, losses)\n",
    "    plt.xlabel('Epoch')\n",
    "    plt.ylabel('Loss')\n",
    "    plt.title('Val Loss Curve')\n",
    "    plt.show()"
   ]
  },
  {
   "cell_type": "code",
   "execution_count": 23,
   "id": "b4c98aee-9c82-46f8-910b-4ca2ae4b9f3f",
   "metadata": {},
   "outputs": [],
   "source": [
    "# This is the adversary training function, where we input the student outputs, \n",
    "# with the true labels into the adversary model created previously.\n",
    "def train_adversary(adv, model, optimizer, trainloader, criterion, epochs):\n",
    "    best_val_loss = float('inf')\n",
    "    for epoch in range(epochs):\n",
    "        epoch_loss = 0\n",
    "        epoch_batches = 0\n",
    "        for i, data in enumerate(tqdm(trainloader)):\n",
    "            # get the inputs and labels\n",
    "            inputs = data['img'].to(device)\n",
    "            labels = data['label'].to(device)\n",
    "            targets = data['target'].to(device)\n",
    "            model.eval()\n",
    "            model.to(device)\n",
    "            adv.train()\n",
    "            adv.to(device)\n",
    "            optimizer.zero_grad()\n",
    "            # output the student model, join with ohe labels. \n",
    "            model_output = model(inputs)\n",
    "            one_hot_labels = F.one_hot(labels, num_classes=num_classes).to(torch.float32)\n",
    "            concatenated_output = torch.cat((model_output, one_hot_labels), dim=1)\n",
    "            adversary_output = adv(concatenated_output)\n",
    "\n",
    "            adversary_loss = criterion(adversary_output, targets)\n",
    "            adversary_loss.backward()\n",
    "            epoch_loss += adversary_loss.item()\n",
    "            epoch_batches += 1\n",
    "            optimizer.step()\n",
    "        epoch_loss/=epoch_batches\n",
    "        print(\"Average Adversary epoch loss:\", epoch_loss)"
   ]
  },
  {
   "cell_type": "code",
   "execution_count": 24,
   "id": "286386b2-d6e9-447e-95b5-b3dd8f18010b",
   "metadata": {},
   "outputs": [],
   "source": [
    "# Function to train the teacher model\n",
    "def train_teacher(model, adv, trainloader, criterion, adv_criterion, optimizer, optimizer_adv, device, \n",
    "                  epochs, lmda, patience=patience_teacher):\n",
    "\n",
    "    best_val_loss = float('inf')\n",
    "    patience_counter = 0\n",
    "    epoch_losses = [] \n",
    "    val_losses = []\n",
    "    val_disparities = []\n",
    "    val_accuracies = []\n",
    "    best_total_val_loss = float('inf')\n",
    "\n",
    "    for epoch in range(epochs):\n",
    "        model.train()\n",
    "        adv.train()\n",
    "        model.to(device)\n",
    "        adv.to(device)\n",
    "        running_loss = 0.0\n",
    "        epoch_loss = 0.0  \n",
    "        num_batches = 0  \n",
    "        \n",
    "        for index, data in enumerate(tqdm(trainloader)):\n",
    "            inputs = data['img'].to(device)\n",
    "            labels = data['label'].to(device)\n",
    "            targets = data['target'].to(device)\n",
    "        \n",
    "            # Forward pass for teacher model\n",
    "            optimizer.zero_grad()\n",
    "            outputs = model(inputs)\n",
    "            classification_loss = criterion(outputs, labels)\n",
    "        \n",
    "            # Forward pass for adversary model\n",
    "            optimizer_adv.zero_grad()\n",
    "            with torch.no_grad():\n",
    "                teacher_outputs_detached = outputs.detach()\n",
    "            one_hot_labels = F.one_hot(labels, num_classes=num_classes).to(torch.float32)\n",
    "            concatenated_output = torch.cat((teacher_outputs_detached, one_hot_labels), dim=1)\n",
    "            adversary_output = adv(concatenated_output)\n",
    "            adversary_loss = adv_criterion(adversary_output, targets)\n",
    "        \n",
    "            # Calculate the total loss by combining classification and adversary loss\n",
    "            if lmda != 0:\n",
    "                total_loss = classification_loss + classification_loss/adversary_loss - lmda * adversary_loss\n",
    "            else:\n",
    "                total_loss = classification_loss\n",
    "                \n",
    "            total_loss.backward()\n",
    "        \n",
    "            optimizer.step()\n",
    "            optimizer_adv.step()\n",
    "        \n",
    "            running_loss += total_loss.item()\n",
    "            epoch_loss += total_loss.item()\n",
    "            num_batches += 1\n",
    "\n",
    "        epoch_loss /= num_batches  \n",
    "        epoch_losses.append(epoch_loss)\n",
    "\n",
    "        model.eval()\n",
    "        total_correct = 0\n",
    "        total_samples = 0\n",
    "        total_val_loss = 0.0\n",
    "        num_batches = 0\n",
    "        confusion_male = np.zeros((num_classes, num_classes))\n",
    "        confusion_female = np.zeros((num_classes, num_classes))\n",
    "        \n",
    "        with torch.no_grad():\n",
    "            for val_data in tqdm(testloader):\n",
    "                val_inputs = val_data['img'].to(device)\n",
    "                val_labels = val_data['label'].to(device)\n",
    "                val_targets = val_data['target'].to(device)\n",
    "                \n",
    "                val_outputs = model(val_inputs)\n",
    "                with torch.no_grad():\n",
    "                    teacher_outputs_detached_val = val_outputs.detach()                \n",
    "                one_hot_labels_val = F.one_hot(val_labels, num_classes=num_classes).to(torch.float32)\n",
    "                concatenated_output_val = torch.cat((teacher_outputs_detached_val, one_hot_labels_val), dim=1)\n",
    "                adversary_output_val = adv(concatenated_output_val)\n",
    "                adversary_loss_val = adv_criterion(adversary_output_val, val_targets)\n",
    "                \n",
    "                # Compute validation loss\n",
    "                val_ce_loss = criterion(val_outputs, val_labels)\n",
    "\n",
    "                if lmda !=0:\n",
    "                    val_loss = val_ce_loss + val_ce_loss/adversary_loss_val - lmda * adversary_loss_val\n",
    "                else:\n",
    "                    val_loss = val_ce_loss\n",
    "                    \n",
    "                total_val_loss += val_loss.item()\n",
    "\n",
    "                # Compute the validation accuracy\n",
    "                _, predicted = torch.max(val_outputs, 1)\n",
    "                total_samples += val_labels.size(0)\n",
    "                total_correct += (predicted == val_labels).sum().item()\n",
    "                num_batches += 1\n",
    "\n",
    "                # Compute recall differences for gender\n",
    "                recall_diff = evaluate_model_with_gender_multiclass(predicted, val_labels, val_targets, num_classes=num_classes)\n",
    "                confusion_male += recall_diff[1]\n",
    "                confusion_female += recall_diff[2]\n",
    "\n",
    "            total_val_loss /= num_batches\n",
    "            confusion_male /= num_batches\n",
    "            confusion_female /= num_batches\n",
    "            \n",
    "            epoch_disparity = calculate_recall_multiclass(confusion_male) - calculate_recall_multiclass(confusion_female)\n",
    "            val_losses.append(total_val_loss)\n",
    "            non_zero_abs_values = np.abs(epoch_disparity[epoch_disparity != 0])\n",
    "            mean_non_zero_abs_disparity = np.mean(non_zero_abs_values)\n",
    "            val_disparities.append(mean_non_zero_abs_disparity)\n",
    "            accuracy = total_correct / total_samples\n",
    "            val_accuracies.append(accuracy)\n",
    "            print(f'*****Epoch {epoch + 1}/{epochs}*****\\n' \n",
    "            f'*****Train Loss: {epoch_loss: .6f} Val Loss: {total_val_loss: .6f}*****\\n'\n",
    "            f'*****Validation Accuracy: {accuracy * 100:.2f}%*****\\n'\n",
    "            f'*****Total Avg Disparity: {mean_non_zero_abs_disparity}*****\\n')\n",
    "            class_recall_mapping = {class_name: epoch_disparity[int(class_label)] for class_label, class_name in class_idx.items()}\n",
    "            \n",
    "            # Print disparities by class label\n",
    "            for class_label, recall_diff in class_recall_mapping.items():\n",
    "                print(f\"Class {class_label}: Recall Difference = {recall_diff}\")\n",
    "        \n",
    "        # Check for early stopping\n",
    "        if abs(total_val_loss) < abs(best_total_val_loss):\n",
    "            best_total_val_loss = total_val_loss\n",
    "            patience_counter = 0 \n",
    "            best_epoch_mean_abs_disparity = mean_non_zero_abs_disparity\n",
    "            torch.save(model.state_dict(), f'teacher_model_weights_ckd_prof_checkpoint{lmda}.pth')\n",
    "            torch.save(model, f'teacher_model_ckd_prof_checkpoint{lmda}.pth')\n",
    "        else:\n",
    "            patience_counter += 1 \n",
    "\n",
    "        if patience_counter >= patience:\n",
    "            print('Early stopping')\n",
    "            break  \n",
    "        \n",
    "    plot_loss_curve(val_losses)\n",
    "    print(\"Finished Training Teacher\")\n",
    "    return val_disparities\n",
    "\n",
    "\n",
    "# Function to train the student model with knowledge distillation\n",
    "def train_student_with_distillation_disparity(student, teacher, adv, trainloader, testloader, criterion, adv_criterion, optimizer, \n",
    "                                              device, alpha, temperature, epochs, lmda, patience=patience_student, optimizer_adv=None):\n",
    "    teacher.eval()\n",
    "    teacher.to(device)\n",
    "    best_val_accuracy = 0\n",
    "    best_total_val_loss = float('inf')\n",
    "    best_epoch_accuracy = 0.0\n",
    "    best_epoch_disparity = 0.0\n",
    "    patience_counter = 0 \n",
    "    student_epoch_losses = []\n",
    "    val_losses = []\n",
    "    val_disparities = []\n",
    "    val_accuracies = []\n",
    "\n",
    "    for epoch in range(epochs):\n",
    "        # Train the adversary at the start of each epoch\n",
    "        train_adversary(adv, student, optimizer_adv, trainloader, adv_criterion, 1)\n",
    "\n",
    "        student.train()\n",
    "        student.to(device)\n",
    "        adv.eval()\n",
    "        adv.to(device)\n",
    "        running_loss = 0.0 \n",
    "        epoch_loss = 0.0  \n",
    "        num_batches = 0 \n",
    "        confusion_male = np.zeros((num_classes, num_classes))\n",
    "        confusion_female = np.zeros((num_classes, num_classes))\n",
    "\n",
    "        for index, data in enumerate(tqdm(trainloader)):\n",
    "            inputs = data['img'].to(device)\n",
    "            labels = data['label'].to(device)\n",
    "            targets = data['target'].to(device)\n",
    "            optimizer.zero_grad()\n",
    "            student_outputs = student(inputs)\n",
    "            with torch.no_grad():\n",
    "                teacher_outputs = teacher(inputs)\n",
    "\n",
    "            # detach student_outputs to avoid exploding gradients by passing same inputs (with gradience) into two different models. \n",
    "            studentached = student_outputs.detach()\n",
    "            # One-hot encode labels and concatenate with student's predictions\n",
    "            one_hot_labels = F.one_hot(labels, num_classes=num_classes).to(torch.float32)\n",
    "            concatenated_output = torch.cat((studentached, one_hot_labels), dim=1)\n",
    "\n",
    "            # Run the adversarial model on concatenated true labels, and predicted labels\n",
    "            with torch.no_grad():\n",
    "                adversary_output = adv(concatenated_output)\n",
    "\n",
    "            # Calc adversary loss, which is an MSE loss, because this is a regression output. \n",
    "            adversary_loss = adv_criterion(adversary_output, targets)\n",
    "            ce_loss = criterion(student_outputs, labels)\n",
    "            kd_loss = tkd_kdloss(student_outputs, teacher_outputs, temperature=temperature)  # Make sure this returns a scalar\n",
    "            \n",
    "            if kd_loss.ndim != 0:\n",
    "                kd_loss = kd_loss.sum()\n",
    "\n",
    "            # Now combine the losses, subtract weighted adversary loss because we need to maximize that loss \n",
    "            # goal of the model is to have the adversary not predict gender. \n",
    "            if lmda != 0:\n",
    "                loss = (alpha * kd_loss + (1 - alpha) * ce_loss) + (alpha * kd_loss + (1 - alpha) * ce_loss)/adversary_loss - lmda * adversary_loss\n",
    "            else:\n",
    "                loss = alpha * kd_loss + (1 - alpha) * ce_loss\n",
    "                \n",
    "            loss.backward()\n",
    "            optimizer.step()\n",
    "            running_loss += loss.item()\n",
    "            epoch_loss += loss.item()\n",
    "            num_batches += 1\n",
    "\n",
    "        epoch_loss /= num_batches\n",
    "        # print(f'*******Epoch {epoch}: running_recall_with - {running_recall_with/num_batches}  |  running_recall_without - {running_recall_without/num_batches}  |  disparity - {epoch_disparity/num_batches}******')\n",
    "        student_epoch_losses.append(epoch_loss)\n",
    "\n",
    "        student.eval()\n",
    "        total_correct = 0\n",
    "        total_samples = 0\n",
    "        total_val_loss = 0.0\n",
    "        num_batches = 0\n",
    "        # Validation after each epoch\n",
    "        with torch.no_grad():\n",
    "            for val_data in tqdm(testloader):\n",
    "                val_inputs = val_data['img'].to(device)\n",
    "                val_labels = val_data['label'].to(device)\n",
    "                val_targets = val_data['target'].to(device)\n",
    "                \n",
    "                # Forward pass for validation\n",
    "                val_student_outputs = student(val_inputs)\n",
    "                val_teacher_outputs = teacher(val_inputs)\n",
    "\n",
    "                val_studentached = val_student_outputs.detach()   \n",
    "                val_one_hot_labels = F.one_hot(val_labels, num_classes=num_classes).to(torch.float32)\n",
    "                val_concatenated_output = torch.cat((val_studentached, val_one_hot_labels), dim=1)\n",
    "                \n",
    "                val_adversary_output = adv(val_concatenated_output)\n",
    "                val_adversary_loss = adv_criterion(val_adversary_output, val_targets)\n",
    "                val_ce_loss = criterion(val_student_outputs, val_labels)\n",
    "                val_kd_loss = tkd_kdloss(val_student_outputs, val_teacher_outputs, temperature=temperature)  # Make sure this returns a scalar\n",
    "                \n",
    "                if val_kd_loss.ndim != 0:\n",
    "                    val_kd_loss = val_kd_loss.sum()\n",
    "                if lmda != 0:\n",
    "                    val_loss = (alpha * val_kd_loss + (1 - alpha) * val_ce_loss) + (alpha * val_kd_loss + (1 - alpha) * val_ce_loss)/val_adversary_loss - lmda * val_adversary_loss\n",
    "                else:\n",
    "                    val_loss = alpha * val_kd_loss + (1 - alpha) * val_ce_loss\n",
    "                total_val_loss += val_loss.item()\n",
    "    \n",
    "                # Compute the validation accuracy\n",
    "                _, predicted = torch.max(val_student_outputs, 1)\n",
    "                total_samples += val_labels.size(0)\n",
    "                total_correct += (predicted == val_labels).sum().item()\n",
    "                num_batches += 1\n",
    "                recall_diff = evaluate_model_with_gender_multiclass(predicted, val_labels, val_targets, num_classes=num_classes)\n",
    "                confusion_male += recall_diff[1]\n",
    "                confusion_female += recall_diff[2]\n",
    "    \n",
    "            total_val_loss /= num_batches\n",
    "            confusion_male /= num_batches\n",
    "            confusion_female /= num_batches\n",
    "\n",
    "            epoch_disparity = calculate_recall_multiclass(confusion_male) - calculate_recall_multiclass(confusion_female)\n",
    "            val_losses.append(total_val_loss)\n",
    "            non_zero_abs_values = np.abs(epoch_disparity[epoch_disparity != 0])\n",
    "            mean_non_zero_abs_disparity = np.mean(non_zero_abs_values)\n",
    "            val_disparities.append(mean_non_zero_abs_disparity)\n",
    "            accuracy = total_correct / total_samples\n",
    "            val_accuracies.append(accuracy)\n",
    "            print(f'*****Epoch {epoch + 1}/{epochs}*****\\n' \n",
    "            f'*****Train Loss: {epoch_loss: .6f} Val Loss: {total_val_loss: .6f}*****\\n'\n",
    "            f'*****Validation Accuracy: {accuracy * 100:.2f}%*****\\n'\n",
    "            f'*****Total Avg Disparity: {mean_non_zero_abs_disparity}*****\\n')\n",
    "            class_recall_mapping = {class_name: epoch_disparity[int(class_label)] for class_label, class_name in class_idx.items()}\n",
    "            \n",
    "            # Print disparities by class label\n",
    "            for class_label, recall_diff in class_recall_mapping.items():\n",
    "                print(f\"Class {class_label}: Recall Difference = {recall_diff}\")\n",
    "\n",
    "        # Check for early stopping\n",
    "        if abs(total_val_loss) < abs(best_total_val_loss):\n",
    "            best_total_val_loss = total_val_loss\n",
    "            patience_counter = 0\n",
    "            best_epoch_mean_abs_disparity = mean_non_zero_abs_disparity\n",
    "            torch.save(student.state_dict(), f'student_model_weights_ckd_wider_checkpoint_lambda{lmda}.pth')\n",
    "            torch.save(student, f'student_model_ckd_wider_checkpoint_lambda{lmda}.pth')\n",
    "        else:\n",
    "            patience_counter += 1 \n",
    "    \n",
    "        file_path = os.path.join(output_dir, f'validation_{lmda}.txt')\n",
    "        \n",
    "        # Append data to the text file\n",
    "        with open(file_path, 'a') as file:\n",
    "            file.write(f'********Epoch: {epochs}***********')\n",
    "            \n",
    "            file.write(\"Val Accuracies:\\n\")\n",
    "            for accuracy in val_accuracies:\n",
    "                file.write(f\"{accuracy}\\n\")\n",
    "        \n",
    "            file.write(\"\\nVal Disparities:\\n\")\n",
    "            for disparity in val_disparities:\n",
    "                file.write(f\"{disparity}\\n\")\n",
    "\n",
    "            for class_label, recall_diff in class_recall_mapping.items():\n",
    "                file.write(f\"Class {class_label}: Recall Difference = {recall_diff}\\n\")\n",
    "        \n",
    "        print(f\"Data has been appended to {file_path}\")\n",
    "    plot_loss_curve(val_losses)\n",
    "                \n",
    "    return best_epoch_mean_abs_disparity"
   ]
  },
  {
   "cell_type": "code",
   "execution_count": 25,
   "id": "17a06902-9ad4-47a6-9a67-181e2dc43218",
   "metadata": {},
   "outputs": [
    {
     "name": "stderr",
     "output_type": "stream",
     "text": [
      "100%|███████████████████████████████████████████████████████████████████████████| 26/26 [01:54<00:00,  4.41s/it]\n"
     ]
    },
    {
     "name": "stdout",
     "output_type": "stream",
     "text": [
      "*******Epoch 0: loss - 2.657790422439575\n"
     ]
    },
    {
     "name": "stderr",
     "output_type": "stream",
     "text": [
      "100%|███████████████████████████████████████████████████████████████████████████| 26/26 [01:56<00:00,  4.50s/it]\n"
     ]
    },
    {
     "name": "stdout",
     "output_type": "stream",
     "text": [
      "*******Epoch 1: loss - 2.3593386870164137\n"
     ]
    },
    {
     "name": "stderr",
     "output_type": "stream",
     "text": [
      "100%|███████████████████████████████████████████████████████████████████████████| 26/26 [01:57<00:00,  4.51s/it]\n"
     ]
    },
    {
     "name": "stdout",
     "output_type": "stream",
     "text": [
      "*******Epoch 2: loss - 2.2760015909488382\n"
     ]
    },
    {
     "name": "stderr",
     "output_type": "stream",
     "text": [
      "100%|███████████████████████████████████████████████████████████████████████████| 26/26 [01:53<00:00,  4.35s/it]\n"
     ]
    },
    {
     "name": "stdout",
     "output_type": "stream",
     "text": [
      "Average Pretrain Adversary epoch loss:  0.26983793939535433\n"
     ]
    },
    {
     "name": "stderr",
     "output_type": "stream",
     "text": [
      "100%|███████████████████████████████████████████████████████████████████████████| 26/26 [01:50<00:00,  4.24s/it]\n"
     ]
    },
    {
     "name": "stdout",
     "output_type": "stream",
     "text": [
      "Average Pretrain Adversary epoch loss:  0.26926888582798153\n"
     ]
    },
    {
     "name": "stderr",
     "output_type": "stream",
     "text": [
      "100%|███████████████████████████████████████████████████████████████████████████| 26/26 [01:51<00:00,  4.28s/it]\n"
     ]
    },
    {
     "name": "stdout",
     "output_type": "stream",
     "text": [
      "Average Pretrain Adversary epoch loss:  0.26889801254639256\n"
     ]
    },
    {
     "name": "stderr",
     "output_type": "stream",
     "text": [
      "100%|███████████████████████████████████████████████████████████████████████████| 26/26 [01:56<00:00,  4.48s/it]\n",
      "100%|███████████████████████████████████████████████████████████████████████████| 10/10 [00:19<00:00,  1.96s/it]\n"
     ]
    },
    {
     "name": "stdout",
     "output_type": "stream",
     "text": [
      "*****Epoch 1/300*****\n",
      "*****Train Loss:  2.214620 Val Loss:  2.338321*****\n",
      "*****Validation Accuracy: 28.43%*****\n",
      "*****Total Avg Disparity: 0.09760471731428265*****\n",
      "\n",
      "Class Team_Sports: Recall Difference = 0.10289017341040452\n",
      "Class Celebration: Recall Difference = 0.05581395348837212\n",
      "Class Parade: Recall Difference = 0.0780153977758768\n",
      "Class Waiter_Or_Waitress: Recall Difference = 0.03791030975496995\n",
      "Class Individual_Sports: Recall Difference = 0.038126609117067944\n",
      "Class Surgeons: Recall Difference = 0.0\n",
      "Class Spa: Recall Difference = -0.48\n",
      "Class Law_Enforcement: Recall Difference = 0.10560560560560561\n",
      "Class Business: Recall Difference = 0.026565667342366376\n",
      "Class Dresses: Recall Difference = -0.15718157181571824\n",
      "Class Water_Activities: Recall Difference = -0.051243243243243225\n",
      "Class Picnic: Recall Difference = -0.036363636363636404\n",
      "Class Rescue: Recall Difference = 0.0\n",
      "Class Cheering: Recall Difference = 0.0\n",
      "Class Performance_And_Entertainment: Recall Difference = 0.06414515716841301\n",
      "Class Family: Recall Difference = 0.034999999999999976\n"
     ]
    },
    {
     "name": "stderr",
     "output_type": "stream",
     "text": [
      "100%|███████████████████████████████████████████████████████████████████████████| 26/26 [01:56<00:00,  4.49s/it]\n",
      "100%|███████████████████████████████████████████████████████████████████████████| 10/10 [00:19<00:00,  1.94s/it]\n"
     ]
    },
    {
     "name": "stdout",
     "output_type": "stream",
     "text": [
      "*****Epoch 2/300*****\n",
      "*****Train Loss:  2.173851 Val Loss:  2.254413*****\n",
      "*****Validation Accuracy: 32.50%*****\n",
      "*****Total Avg Disparity: 0.10521980769104064*****\n",
      "\n",
      "Class Team_Sports: Recall Difference = 0.07410521398960707\n",
      "Class Celebration: Recall Difference = -0.03953488372093028\n",
      "Class Parade: Recall Difference = 0.05132591958939259\n",
      "Class Waiter_Or_Waitress: Recall Difference = 0.08090614886731395\n",
      "Class Individual_Sports: Recall Difference = -0.008329547175526253\n",
      "Class Surgeons: Recall Difference = -0.030303030303030307\n",
      "Class Spa: Recall Difference = -0.5\n",
      "Class Law_Enforcement: Recall Difference = 0.18993993993993988\n",
      "Class Business: Recall Difference = -0.04886375760162173\n",
      "Class Dresses: Recall Difference = -0.33401084010840104\n",
      "Class Water_Activities: Recall Difference = -0.03935135135135137\n",
      "Class Picnic: Recall Difference = -0.0727272727272727\n",
      "Class Rescue: Recall Difference = 0.0\n",
      "Class Cheering: Recall Difference = -0.010869565217391304\n",
      "Class Performance_And_Entertainment: Recall Difference = 0.0013629781071641395\n",
      "Class Family: Recall Difference = -0.09666666666666666\n"
     ]
    },
    {
     "name": "stderr",
     "output_type": "stream",
     "text": [
      "100%|███████████████████████████████████████████████████████████████████████████| 26/26 [01:56<00:00,  4.49s/it]\n",
      "100%|███████████████████████████████████████████████████████████████████████████| 10/10 [00:19<00:00,  1.92s/it]\n"
     ]
    },
    {
     "name": "stdout",
     "output_type": "stream",
     "text": [
      "*****Epoch 3/300*****\n",
      "*****Train Loss:  2.131666 Val Loss:  2.349196*****\n",
      "*****Validation Accuracy: 31.86%*****\n",
      "*****Total Avg Disparity: 0.11438720658611419*****\n",
      "\n",
      "Class Team_Sports: Recall Difference = 0.040871139137034995\n",
      "Class Celebration: Recall Difference = 0.02093023255813954\n",
      "Class Parade: Recall Difference = -0.09786142001710851\n",
      "Class Waiter_Or_Waitress: Recall Difference = -0.07165973185390662\n",
      "Class Individual_Sports: Recall Difference = 0.0733378767227017\n",
      "Class Surgeons: Recall Difference = -0.03621581670362159\n",
      "Class Spa: Recall Difference = -0.4\n",
      "Class Law_Enforcement: Recall Difference = 0.23548548548548542\n",
      "Class Business: Recall Difference = -0.05878587431985491\n",
      "Class Dresses: Recall Difference = -0.2804878048780487\n",
      "Class Water_Activities: Recall Difference = 0.002810810810810832\n",
      "Class Picnic: Recall Difference = -0.2\n",
      "Class Rescue: Recall Difference = 0.0\n",
      "Class Cheering: Recall Difference = 0.0\n",
      "Class Performance_And_Entertainment: Recall Difference = 0.05630803305221911\n",
      "Class Family: Recall Difference = -0.026666666666666672\n"
     ]
    },
    {
     "name": "stderr",
     "output_type": "stream",
     "text": [
      "100%|███████████████████████████████████████████████████████████████████████████| 26/26 [01:55<00:00,  4.46s/it]\n",
      "100%|███████████████████████████████████████████████████████████████████████████| 10/10 [00:19<00:00,  1.95s/it]\n"
     ]
    },
    {
     "name": "stdout",
     "output_type": "stream",
     "text": [
      "*****Epoch 4/300*****\n",
      "*****Train Loss:  2.099052 Val Loss:  2.280706*****\n",
      "*****Validation Accuracy: 32.99%*****\n",
      "*****Total Avg Disparity: 0.10343486131196047*****\n",
      "\n",
      "Class Team_Sports: Recall Difference = 0.045075027733987305\n",
      "Class Celebration: Recall Difference = -0.020930232558139535\n",
      "Class Parade: Recall Difference = 0.021157684630738527\n",
      "Class Waiter_Or_Waitress: Recall Difference = -0.04946833102172908\n",
      "Class Individual_Sports: Recall Difference = 0.007383007723761881\n",
      "Class Surgeons: Recall Difference = 0.03104212860310422\n",
      "Class Spa: Recall Difference = -0.5\n",
      "Class Law_Enforcement: Recall Difference = 0.19144144144144137\n",
      "Class Business: Recall Difference = -0.13368185212845407\n",
      "Class Dresses: Recall Difference = -0.3658536585365854\n",
      "Class Water_Activities: Recall Difference = 0.04648648648648657\n",
      "Class Picnic: Recall Difference = -0.14545454545454545\n",
      "Class Rescue: Recall Difference = -0.01468354430379747\n",
      "Class Cheering: Recall Difference = -0.010869565217391306\n",
      "Class Performance_And_Entertainment: Recall Difference = -0.05809694181787205\n",
      "Class Family: Recall Difference = -0.013333333333333343\n"
     ]
    },
    {
     "name": "stderr",
     "output_type": "stream",
     "text": [
      "100%|███████████████████████████████████████████████████████████████████████████| 26/26 [01:55<00:00,  4.46s/it]\n",
      "100%|███████████████████████████████████████████████████████████████████████████| 10/10 [00:18<00:00,  1.89s/it]\n"
     ]
    },
    {
     "name": "stdout",
     "output_type": "stream",
     "text": [
      "*****Epoch 5/300*****\n",
      "*****Train Loss:  2.077890 Val Loss:  2.251719*****\n",
      "*****Validation Accuracy: 33.85%*****\n",
      "*****Total Avg Disparity: 0.10593918825552605*****\n",
      "\n",
      "Class Team_Sports: Recall Difference = 0.11287440882816613\n",
      "Class Celebration: Recall Difference = -0.07441860465116282\n",
      "Class Parade: Recall Difference = -0.009124607927003203\n",
      "Class Waiter_Or_Waitress: Recall Difference = 0.1558021266759131\n",
      "Class Individual_Sports: Recall Difference = 0.1206269877328488\n",
      "Class Surgeons: Recall Difference = 0.1411677753141168\n",
      "Class Spa: Recall Difference = -0.13999999999999999\n",
      "Class Law_Enforcement: Recall Difference = 0.11511511511511513\n",
      "Class Business: Recall Difference = -0.11682492265016536\n",
      "Class Dresses: Recall Difference = -0.0962059620596206\n",
      "Class Water_Activities: Recall Difference = 0.02518918918918922\n",
      "Class Picnic: Recall Difference = 0.309090909090909\n",
      "Class Rescue: Recall Difference = 0.0\n",
      "Class Cheering: Recall Difference = -0.02173913043478261\n",
      "Class Performance_And_Entertainment: Recall Difference = 0.06090808416389812\n",
      "Class Family: Recall Difference = -0.09000000000000002\n"
     ]
    },
    {
     "name": "stderr",
     "output_type": "stream",
     "text": [
      "100%|███████████████████████████████████████████████████████████████████████████| 26/26 [01:56<00:00,  4.47s/it]\n",
      "100%|███████████████████████████████████████████████████████████████████████████| 10/10 [00:19<00:00,  1.92s/it]\n"
     ]
    },
    {
     "name": "stdout",
     "output_type": "stream",
     "text": [
      "*****Epoch 6/300*****\n",
      "*****Train Loss:  2.054491 Val Loss:  2.264024*****\n",
      "*****Validation Accuracy: 33.54%*****\n",
      "*****Total Avg Disparity: 0.10482512712248274*****\n",
      "\n",
      "Class Team_Sports: Recall Difference = 0.06813802767559984\n",
      "Class Celebration: Recall Difference = -0.06511627906976745\n",
      "Class Parade: Recall Difference = -0.05012831479897353\n",
      "Class Waiter_Or_Waitress: Recall Difference = 0.07212205270457694\n",
      "Class Individual_Sports: Recall Difference = 0.09207935786763594\n",
      "Class Surgeons: Recall Difference = 0.11603843311160386\n",
      "Class Spa: Recall Difference = -0.22000000000000003\n",
      "Class Law_Enforcement: Recall Difference = 0.1564064064064064\n",
      "Class Business: Recall Difference = -0.058039048330310455\n",
      "Class Dresses: Recall Difference = -0.4390243902439025\n",
      "Class Water_Activities: Recall Difference = 0.054162162162162186\n",
      "Class Picnic: Recall Difference = 0.054545454545454564\n",
      "Class Rescue: Recall Difference = 0.0\n",
      "Class Cheering: Recall Difference = 0.0\n",
      "Class Performance_And_Entertainment: Recall Difference = 8.518613169777867e-05\n",
      "Class Family: Recall Difference = -0.021666666666666667\n"
     ]
    },
    {
     "name": "stderr",
     "output_type": "stream",
     "text": [
      "100%|███████████████████████████████████████████████████████████████████████████| 26/26 [01:56<00:00,  4.50s/it]\n",
      "100%|███████████████████████████████████████████████████████████████████████████| 10/10 [00:19<00:00,  1.97s/it]\n"
     ]
    },
    {
     "name": "stdout",
     "output_type": "stream",
     "text": [
      "*****Epoch 7/300*****\n",
      "*****Train Loss:  2.010166 Val Loss:  2.309600*****\n",
      "*****Validation Accuracy: 35.38%*****\n",
      "*****Total Avg Disparity: 0.10433932515893612*****\n",
      "\n",
      "Class Team_Sports: Recall Difference = 0.09222864482980098\n",
      "Class Celebration: Recall Difference = 0.016279069767441923\n",
      "Class Parade: Recall Difference = -0.009637867122897104\n",
      "Class Waiter_Or_Waitress: Recall Difference = 0.07813222376329171\n",
      "Class Individual_Sports: Recall Difference = 0.005565651976374375\n",
      "Class Surgeons: Recall Difference = -0.07243163340724318\n",
      "Class Spa: Recall Difference = -0.16\n",
      "Class Law_Enforcement: Recall Difference = 0.15290290290290287\n",
      "Class Business: Recall Difference = -0.20014936519790893\n",
      "Class Dresses: Recall Difference = -0.27303523035230354\n",
      "Class Water_Activities: Recall Difference = 0.042054054054054046\n",
      "Class Picnic: Recall Difference = 0.309090909090909\n",
      "Class Rescue: Recall Difference = 0.0\n",
      "Class Cheering: Recall Difference = -0.013740771123872023\n",
      "Class Performance_And_Entertainment: Recall Difference = 0.07317488712837553\n",
      "Class Family: Recall Difference = -0.06666666666666665\n"
     ]
    },
    {
     "name": "stderr",
     "output_type": "stream",
     "text": [
      "100%|███████████████████████████████████████████████████████████████████████████| 26/26 [01:54<00:00,  4.39s/it]\n",
      "100%|███████████████████████████████████████████████████████████████████████████| 10/10 [00:19<00:00,  1.95s/it]\n"
     ]
    },
    {
     "name": "stdout",
     "output_type": "stream",
     "text": [
      "*****Epoch 8/300*****\n",
      "*****Train Loss:  1.971038 Val Loss:  2.206933*****\n",
      "*****Validation Accuracy: 32.41%*****\n",
      "*****Total Avg Disparity: 0.09763944531526145*****\n",
      "\n",
      "Class Team_Sports: Recall Difference = 0.0683832545104221\n",
      "Class Celebration: Recall Difference = 0.06744186046511624\n",
      "Class Parade: Recall Difference = 0.022469347020245223\n",
      "Class Waiter_Or_Waitress: Recall Difference = -0.106333795654184\n",
      "Class Individual_Sports: Recall Difference = -0.062358019082235316\n",
      "Class Surgeons: Recall Difference = 0.03252032520325204\n",
      "Class Spa: Recall Difference = -0.4\n",
      "Class Law_Enforcement: Recall Difference = 0.19194194194194203\n",
      "Class Business: Recall Difference = -0.0603862157260216\n",
      "Class Dresses: Recall Difference = -0.13414634146341467\n",
      "Class Water_Activities: Recall Difference = 0.08864864864864863\n",
      "Class Picnic: Recall Difference = 0.036363636363636376\n",
      "Class Rescue: Recall Difference = 0.0\n",
      "Class Cheering: Recall Difference = -0.012305168170631669\n",
      "Class Performance_And_Entertainment: Recall Difference = 0.04795979214583862\n",
      "Class Family: Recall Difference = -0.13333333333333336\n"
     ]
    },
    {
     "name": "stderr",
     "output_type": "stream",
     "text": [
      "100%|███████████████████████████████████████████████████████████████████████████| 26/26 [01:57<00:00,  4.51s/it]\n",
      "100%|███████████████████████████████████████████████████████████████████████████| 10/10 [00:19<00:00,  1.91s/it]\n"
     ]
    },
    {
     "name": "stdout",
     "output_type": "stream",
     "text": [
      "*****Epoch 9/300*****\n",
      "*****Train Loss:  1.951964 Val Loss:  2.161450*****\n",
      "*****Validation Accuracy: 36.02%*****\n",
      "*****Total Avg Disparity: 0.12777860907189104*****\n",
      "\n",
      "Class Team_Sports: Recall Difference = 0.1102936883283705\n",
      "Class Celebration: Recall Difference = -0.011627906976744207\n",
      "Class Parade: Recall Difference = 0.004790419161676662\n",
      "Class Waiter_Or_Waitress: Recall Difference = -0.09292649098474332\n",
      "Class Individual_Sports: Recall Difference = -0.1343328789943966\n",
      "Class Surgeons: Recall Difference = -0.04212860310421284\n",
      "Class Spa: Recall Difference = -0.5599999999999999\n",
      "Class Law_Enforcement: Recall Difference = 0.10010010010010012\n",
      "Class Business: Recall Difference = -0.1664355062413314\n",
      "Class Dresses: Recall Difference = -0.12804878048780488\n",
      "Class Water_Activities: Recall Difference = 0.13470270270270274\n",
      "Class Picnic: Recall Difference = 0.2909090909090909\n",
      "Class Rescue: Recall Difference = -0.022025316455696206\n",
      "Class Cheering: Recall Difference = -0.03547990155865462\n",
      "Class Performance_And_Entertainment: Recall Difference = -0.07232302581139792\n",
      "Class Family: Recall Difference = -0.13833333333333334\n"
     ]
    },
    {
     "name": "stderr",
     "output_type": "stream",
     "text": [
      "100%|███████████████████████████████████████████████████████████████████████████| 26/26 [01:57<00:00,  4.54s/it]\n",
      "100%|███████████████████████████████████████████████████████████████████████████| 10/10 [00:19<00:00,  1.96s/it]\n"
     ]
    },
    {
     "name": "stdout",
     "output_type": "stream",
     "text": [
      "*****Epoch 10/300*****\n",
      "*****Train Loss:  1.936236 Val Loss:  2.298455*****\n",
      "*****Validation Accuracy: 36.19%*****\n",
      "*****Total Avg Disparity: 0.11108506044846825*****\n",
      "\n",
      "Class Team_Sports: Recall Difference = 0.13381210953465295\n",
      "Class Celebration: Recall Difference = -0.08837209302325583\n",
      "Class Parade: Recall Difference = -0.030624465355004182\n",
      "Class Waiter_Or_Waitress: Recall Difference = 0.1391585760517799\n",
      "Class Individual_Sports: Recall Difference = -0.04895502044525224\n",
      "Class Surgeons: Recall Difference = 0.013303769401330406\n",
      "Class Spa: Recall Difference = -0.54\n",
      "Class Law_Enforcement: Recall Difference = 0.1631631631631631\n",
      "Class Business: Recall Difference = -0.04448949109143284\n",
      "Class Dresses: Recall Difference = -0.13617886178861793\n",
      "Class Water_Activities: Recall Difference = 0.09859459459459463\n",
      "Class Picnic: Recall Difference = -0.18181818181818182\n",
      "Class Rescue: Recall Difference = 0.061265822784810124\n",
      "Class Cheering: Recall Difference = 0.007998359310910584\n",
      "Class Performance_And_Entertainment: Recall Difference = 0.04795979214583865\n",
      "Class Family: Recall Difference = -0.04166666666666667\n"
     ]
    },
    {
     "name": "stderr",
     "output_type": "stream",
     "text": [
      "100%|███████████████████████████████████████████████████████████████████████████| 26/26 [01:57<00:00,  4.53s/it]\n",
      "100%|███████████████████████████████████████████████████████████████████████████| 10/10 [00:19<00:00,  1.94s/it]\n"
     ]
    },
    {
     "name": "stdout",
     "output_type": "stream",
     "text": [
      "*****Epoch 11/300*****\n",
      "*****Train Loss:  1.909884 Val Loss:  2.217694*****\n",
      "*****Validation Accuracy: 34.31%*****\n",
      "*****Total Avg Disparity: 0.11255697948604884*****\n",
      "\n",
      "Class Team_Sports: Recall Difference = 0.14010626496175632\n",
      "Class Celebration: Recall Difference = -0.009302325581395376\n",
      "Class Parade: Recall Difference = 0.024408326204733377\n",
      "Class Waiter_Or_Waitress: Recall Difference = 0.1502542764678687\n",
      "Class Individual_Sports: Recall Difference = 0.03649856126003337\n",
      "Class Surgeons: Recall Difference = -0.01108647450110864\n",
      "Class Spa: Recall Difference = -0.2\n",
      "Class Law_Enforcement: Recall Difference = 0.30980980980980977\n",
      "Class Business: Recall Difference = -0.04630321135175508\n",
      "Class Dresses: Recall Difference = -0.3252032520325203\n",
      "Class Water_Activities: Recall Difference = 0.11102702702702699\n",
      "Class Picnic: Recall Difference = 0.38181818181818183\n",
      "Class Rescue: Recall Difference = 0.0179746835443038\n",
      "Class Cheering: Recall Difference = -0.02317473338802296\n",
      "Class Performance_And_Entertainment: Recall Difference = -0.008944543828264762\n",
      "Class Family: Recall Difference = -0.0050000000000000044\n"
     ]
    },
    {
     "name": "stderr",
     "output_type": "stream",
     "text": [
      "100%|███████████████████████████████████████████████████████████████████████████| 26/26 [01:54<00:00,  4.41s/it]\n",
      "100%|███████████████████████████████████████████████████████████████████████████| 10/10 [00:19<00:00,  1.98s/it]\n"
     ]
    },
    {
     "name": "stdout",
     "output_type": "stream",
     "text": [
      "*****Epoch 12/300*****\n",
      "*****Train Loss:  1.871947 Val Loss:  2.144706*****\n",
      "*****Validation Accuracy: 38.59%*****\n",
      "*****Total Avg Disparity: 0.1074295132510976*****\n",
      "\n",
      "Class Team_Sports: Recall Difference = 0.046873357856016984\n",
      "Class Celebration: Recall Difference = -0.04651162790697675\n",
      "Class Parade: Recall Difference = 0.07065868263473057\n",
      "Class Waiter_Or_Waitress: Recall Difference = 0.1326860841423948\n",
      "Class Individual_Sports: Recall Difference = 0.007004391943056132\n",
      "Class Surgeons: Recall Difference = -0.03473762010347364\n",
      "Class Spa: Recall Difference = -0.27999999999999997\n",
      "Class Law_Enforcement: Recall Difference = 0.14289289289289286\n",
      "Class Business: Recall Difference = -0.17870479035527576\n",
      "Class Dresses: Recall Difference = -0.187669376693767\n",
      "Class Water_Activities: Recall Difference = 0.1270270270270269\n",
      "Class Picnic: Recall Difference = 0.2545454545454545\n",
      "Class Rescue: Recall Difference = 0.026582278481012633\n",
      "Class Cheering: Recall Difference = -0.03691550451189499\n",
      "Class Performance_And_Entertainment: Recall Difference = 0.01439645625692143\n",
      "Class Family: Recall Difference = -0.13166666666666665\n"
     ]
    },
    {
     "name": "stderr",
     "output_type": "stream",
     "text": [
      "100%|███████████████████████████████████████████████████████████████████████████| 26/26 [01:56<00:00,  4.47s/it]\n",
      "100%|███████████████████████████████████████████████████████████████████████████| 10/10 [00:19<00:00,  1.91s/it]\n"
     ]
    },
    {
     "name": "stdout",
     "output_type": "stream",
     "text": [
      "*****Epoch 13/300*****\n",
      "*****Train Loss:  1.836336 Val Loss:  2.134407*****\n",
      "*****Validation Accuracy: 35.84%*****\n",
      "*****Total Avg Disparity: 0.10652032223761734*****\n",
      "\n",
      "Class Team_Sports: Recall Difference = 0.16198984060255733\n",
      "Class Celebration: Recall Difference = 0.01860465116279067\n",
      "Class Parade: Recall Difference = -0.10516110635871107\n",
      "Class Waiter_Or_Waitress: Recall Difference = -0.04438280166435504\n",
      "Class Individual_Sports: Recall Difference = -3.7861578070619295e-05\n",
      "Class Surgeons: Recall Difference = 0.04951958610495197\n",
      "Class Spa: Recall Difference = -0.24\n",
      "Class Law_Enforcement: Recall Difference = 0.17392392392392403\n",
      "Class Business: Recall Difference = -0.05473167609089938\n",
      "Class Dresses: Recall Difference = -0.22289972899728996\n",
      "Class Water_Activities: Recall Difference = 0.1540540540540541\n",
      "Class Picnic: Recall Difference = 0.09090909090909093\n",
      "Class Rescue: Recall Difference = -0.04\n",
      "Class Cheering: Recall Difference = -0.01948318293683346\n",
      "Class Performance_And_Entertainment: Recall Difference = 0.15529431808501568\n",
      "Class Family: Recall Difference = -0.1733333333333334\n"
     ]
    },
    {
     "name": "stderr",
     "output_type": "stream",
     "text": [
      "100%|███████████████████████████████████████████████████████████████████████████| 26/26 [01:55<00:00,  4.44s/it]\n",
      "100%|███████████████████████████████████████████████████████████████████████████| 10/10 [00:19<00:00,  1.94s/it]\n"
     ]
    },
    {
     "name": "stdout",
     "output_type": "stream",
     "text": [
      "*****Epoch 14/300*****\n",
      "*****Train Loss:  1.810577 Val Loss:  2.182035*****\n",
      "*****Validation Accuracy: 38.53%*****\n",
      "*****Total Avg Disparity: 0.11422256336656422*****\n",
      "\n",
      "Class Team_Sports: Recall Difference = 0.10939452326735544\n",
      "Class Celebration: Recall Difference = -0.04651162790697676\n",
      "Class Parade: Recall Difference = 0.04995722840034217\n",
      "Class Waiter_Or_Waitress: Recall Difference = 0.022653721682847905\n",
      "Class Individual_Sports: Recall Difference = -0.09484325306678776\n",
      "Class Surgeons: Recall Difference = 0.05543237250554327\n",
      "Class Spa: Recall Difference = -0.5\n",
      "Class Law_Enforcement: Recall Difference = 0.28303303303303307\n",
      "Class Business: Recall Difference = -0.03222020697748852\n",
      "Class Dresses: Recall Difference = -0.38888888888888884\n",
      "Class Water_Activities: Recall Difference = 0.07600000000000007\n",
      "Class Picnic: Recall Difference = -0.09090909090909094\n",
      "Class Rescue: Recall Difference = -0.02\n",
      "Class Cheering: Recall Difference = -0.021739130434782608\n",
      "Class Performance_And_Entertainment: Recall Difference = 0.01431127012522354\n",
      "Class Family: Recall Difference = -0.02166666666666668\n"
     ]
    },
    {
     "name": "stderr",
     "output_type": "stream",
     "text": [
      "100%|███████████████████████████████████████████████████████████████████████████| 26/26 [01:58<00:00,  4.56s/it]\n",
      "100%|███████████████████████████████████████████████████████████████████████████| 10/10 [00:19<00:00,  1.90s/it]\n"
     ]
    },
    {
     "name": "stdout",
     "output_type": "stream",
     "text": [
      "*****Epoch 15/300*****\n",
      "*****Train Loss:  1.780524 Val Loss:  2.070157*****\n",
      "*****Validation Accuracy: 38.10%*****\n",
      "*****Total Avg Disparity: 0.10934487345054106*****\n",
      "\n",
      "Class Team_Sports: Recall Difference = 0.13796928825830568\n",
      "Class Celebration: Recall Difference = 0.006976744186046546\n",
      "Class Parade: Recall Difference = 0.003934987168520143\n",
      "Class Waiter_Or_Waitress: Recall Difference = -0.036523347202958856\n",
      "Class Individual_Sports: Recall Difference = -0.07333787672270176\n",
      "Class Surgeons: Recall Difference = 0.05099778270509986\n",
      "Class Spa: Recall Difference = -0.33999999999999997\n",
      "Class Law_Enforcement: Recall Difference = 0.22372372372372368\n",
      "Class Business: Recall Difference = 0.04288914968526622\n",
      "Class Dresses: Recall Difference = -0.2987804878048781\n",
      "Class Water_Activities: Recall Difference = 0.05329729729729732\n",
      "Class Picnic: Recall Difference = -0.09090909090909094\n",
      "Class Rescue: Recall Difference = -0.007341772151898735\n",
      "Class Cheering: Recall Difference = -0.06070549630844957\n",
      "Class Performance_And_Entertainment: Recall Difference = 0.11713093108441941\n",
      "Class Family: Recall Difference = -0.20500000000000002\n"
     ]
    },
    {
     "name": "stderr",
     "output_type": "stream",
     "text": [
      "100%|███████████████████████████████████████████████████████████████████████████| 26/26 [01:56<00:00,  4.49s/it]\n",
      "100%|███████████████████████████████████████████████████████████████████████████| 10/10 [00:19<00:00,  1.90s/it]\n"
     ]
    },
    {
     "name": "stdout",
     "output_type": "stream",
     "text": [
      "*****Epoch 16/300*****\n",
      "*****Train Loss:  1.750134 Val Loss:  2.118181*****\n",
      "*****Validation Accuracy: 38.79%*****\n",
      "*****Total Avg Disparity: 0.12249142688307926*****\n",
      "\n",
      "Class Team_Sports: Recall Difference = 0.03587318269399198\n",
      "Class Celebration: Recall Difference = -0.034883720930232565\n",
      "Class Parade: Recall Difference = -0.09569432563444524\n",
      "Class Waiter_Or_Waitress: Recall Difference = 0.10910772075820618\n",
      "Class Individual_Sports: Recall Difference = 0.08427987278509769\n",
      "Class Surgeons: Recall Difference = -0.07095343680709537\n",
      "Class Spa: Recall Difference = -0.24\n",
      "Class Law_Enforcement: Recall Difference = 0.17967967967967968\n",
      "Class Business: Recall Difference = -0.08513816280806571\n",
      "Class Dresses: Recall Difference = -0.3082655826558266\n",
      "Class Water_Activities: Recall Difference = 0.04291891891891908\n",
      "Class Picnic: Recall Difference = 0.4727272727272727\n",
      "Class Rescue: Recall Difference = -0.020759493670886087\n",
      "Class Cheering: Recall Difference = -0.058654634946677615\n",
      "Class Performance_And_Entertainment: Recall Difference = 0.08092682511287164\n",
      "Class Family: Recall Difference = 0.04000000000000001\n"
     ]
    },
    {
     "name": "stderr",
     "output_type": "stream",
     "text": [
      "100%|███████████████████████████████████████████████████████████████████████████| 26/26 [01:57<00:00,  4.53s/it]\n",
      "100%|███████████████████████████████████████████████████████████████████████████| 10/10 [00:19<00:00,  1.94s/it]\n"
     ]
    },
    {
     "name": "stdout",
     "output_type": "stream",
     "text": [
      "*****Epoch 17/300*****\n",
      "*****Train Loss:  1.714977 Val Loss:  2.082127*****\n",
      "*****Validation Accuracy: 41.53%*****\n",
      "*****Total Avg Disparity: 0.1140435460754034*****\n",
      "\n",
      "Class Team_Sports: Recall Difference = 0.11584048578268202\n",
      "Class Celebration: Recall Difference = -0.011627906976744179\n",
      "Class Parade: Recall Difference = 0.051554034787567704\n",
      "Class Waiter_Or_Waitress: Recall Difference = 0.1239019879796579\n",
      "Class Individual_Sports: Recall Difference = -0.029153415114341996\n",
      "Class Surgeons: Recall Difference = 0.02143385070214332\n",
      "Class Spa: Recall Difference = -0.27999999999999997\n",
      "Class Law_Enforcement: Recall Difference = 0.27302302302302306\n",
      "Class Business: Recall Difference = -0.1071161847860877\n",
      "Class Dresses: Recall Difference = -0.44376693766937675\n",
      "Class Water_Activities: Recall Difference = 0.008108108108108136\n",
      "Class Picnic: Recall Difference = -0.14545454545454545\n",
      "Class Rescue: Recall Difference = 0.02329113924050632\n",
      "Class Cheering: Recall Difference = -0.015176374077112392\n",
      "Class Performance_And_Entertainment: Recall Difference = -0.05358207683789079\n",
      "Class Family: Recall Difference = -0.12166666666666665\n"
     ]
    },
    {
     "name": "stderr",
     "output_type": "stream",
     "text": [
      "100%|███████████████████████████████████████████████████████████████████████████| 26/26 [01:55<00:00,  4.46s/it]\n",
      "100%|███████████████████████████████████████████████████████████████████████████| 10/10 [00:19<00:00,  1.96s/it]\n"
     ]
    },
    {
     "name": "stdout",
     "output_type": "stream",
     "text": [
      "*****Epoch 18/300*****\n",
      "*****Train Loss:  1.675895 Val Loss:  2.043735*****\n",
      "*****Validation Accuracy: 40.35%*****\n",
      "*****Total Avg Disparity: 0.13331371172587622*****\n",
      "\n",
      "Class Team_Sports: Recall Difference = 0.11770888071466101\n",
      "Class Celebration: Recall Difference = -0.03255813953488371\n",
      "Class Parade: Recall Difference = -0.0809808953521528\n",
      "Class Waiter_Or_Waitress: Recall Difference = -0.17429496070272776\n",
      "Class Individual_Sports: Recall Difference = -0.08189459336665139\n",
      "Class Surgeons: Recall Difference = 0.09238728750923875\n",
      "Class Spa: Recall Difference = -0.5\n",
      "Class Law_Enforcement: Recall Difference = 0.21321321321321324\n",
      "Class Business: Recall Difference = -0.15213912301290938\n",
      "Class Dresses: Recall Difference = -0.39024390243902435\n",
      "Class Water_Activities: Recall Difference = 0.06854054054054054\n",
      "Class Picnic: Recall Difference = 0.03636363636363643\n",
      "Class Rescue: Recall Difference = 0.03924050632911391\n",
      "Class Cheering: Recall Difference = -0.019483182936833487\n",
      "Class Performance_And_Entertainment: Recall Difference = -0.013970525598432593\n",
      "Class Family: Recall Difference = -0.12000000000000005\n"
     ]
    },
    {
     "name": "stderr",
     "output_type": "stream",
     "text": [
      "100%|███████████████████████████████████████████████████████████████████████████| 26/26 [01:54<00:00,  4.39s/it]\n",
      "100%|███████████████████████████████████████████████████████████████████████████| 10/10 [00:19<00:00,  1.93s/it]\n"
     ]
    },
    {
     "name": "stdout",
     "output_type": "stream",
     "text": [
      "*****Epoch 19/300*****\n",
      "*****Train Loss:  1.662879 Val Loss:  2.222873*****\n",
      "*****Validation Accuracy: 40.40%*****\n",
      "*****Total Avg Disparity: 0.15451897745357293*****\n",
      "\n",
      "Class Team_Sports: Recall Difference = 0.08408944940736851\n",
      "Class Celebration: Recall Difference = -0.0976744186046512\n",
      "Class Parade: Recall Difference = 0.020587396635300792\n",
      "Class Waiter_Or_Waitress: Recall Difference = 0.04715672676837723\n",
      "Class Individual_Sports: Recall Difference = 0.007837346660608868\n",
      "Class Surgeons: Recall Difference = 0.11677753141167774\n",
      "Class Spa: Recall Difference = -0.64\n",
      "Class Law_Enforcement: Recall Difference = 0.18268268268268267\n",
      "Class Business: Recall Difference = -0.04427611223727729\n",
      "Class Dresses: Recall Difference = -0.628048780487805\n",
      "Class Water_Activities: Recall Difference = -0.01978378378378376\n",
      "Class Picnic: Recall Difference = 0.36363636363636365\n",
      "Class Rescue: Recall Difference = -0.027341772151898737\n",
      "Class Cheering: Recall Difference = 0.005947497949138639\n",
      "Class Performance_And_Entertainment: Recall Difference = 0.03194479938665978\n",
      "Class Family: Recall Difference = 0.0\n"
     ]
    },
    {
     "name": "stderr",
     "output_type": "stream",
     "text": [
      "100%|███████████████████████████████████████████████████████████████████████████| 26/26 [01:55<00:00,  4.44s/it]\n",
      "100%|███████████████████████████████████████████████████████████████████████████| 10/10 [00:19<00:00,  1.94s/it]\n"
     ]
    },
    {
     "name": "stdout",
     "output_type": "stream",
     "text": [
      "*****Epoch 20/300*****\n",
      "*****Train Loss:  1.611754 Val Loss:  2.029913*****\n",
      "*****Validation Accuracy: 39.19%*****\n",
      "*****Total Avg Disparity: 0.10353991817264964*****\n",
      "\n",
      "Class Team_Sports: Recall Difference = 0.06477491679803815\n",
      "Class Celebration: Recall Difference = -0.07441860465116279\n",
      "Class Parade: Recall Difference = -0.014029084687767313\n",
      "Class Waiter_Or_Waitress: Recall Difference = -0.12390198797965779\n",
      "Class Individual_Sports: Recall Difference = 0.02298197788883838\n",
      "Class Surgeons: Recall Difference = 0.013303769401330406\n",
      "Class Spa: Recall Difference = -0.42000000000000004\n",
      "Class Law_Enforcement: Recall Difference = 0.1403903903903904\n",
      "Class Business: Recall Difference = -0.09303318041182115\n",
      "Class Dresses: Recall Difference = -0.2134146341463415\n",
      "Class Water_Activities: Recall Difference = 0.04172972972972977\n",
      "Class Picnic: Recall Difference = -0.23636363636363633\n",
      "Class Rescue: Recall Difference = 0.04658227848101264\n",
      "Class Cheering: Recall Difference = -0.05045118949958988\n",
      "Class Performance_And_Entertainment: Recall Difference = 0.03126331033307772\n",
      "Class Family: Recall Difference = -0.07\n"
     ]
    },
    {
     "name": "stderr",
     "output_type": "stream",
     "text": [
      "100%|███████████████████████████████████████████████████████████████████████████| 26/26 [01:56<00:00,  4.49s/it]\n",
      "100%|███████████████████████████████████████████████████████████████████████████| 10/10 [00:19<00:00,  1.95s/it]\n"
     ]
    },
    {
     "name": "stdout",
     "output_type": "stream",
     "text": [
      "*****Epoch 21/300*****\n",
      "*****Train Loss:  1.588552 Val Loss:  2.056960*****\n",
      "*****Validation Accuracy: 44.18%*****\n",
      "*****Total Avg Disparity: 0.15779212257012074*****\n",
      "\n",
      "Class Team_Sports: Recall Difference = 0.0891341157237111\n",
      "Class Celebration: Recall Difference = 0.030232558139534904\n",
      "Class Parade: Recall Difference = -0.08394639292842893\n",
      "Class Waiter_Or_Waitress: Recall Difference = -0.1830790568654645\n",
      "Class Individual_Sports: Recall Difference = -0.017946388005452008\n",
      "Class Surgeons: Recall Difference = -0.05764966740576499\n",
      "Class Spa: Recall Difference = -0.54\n",
      "Class Law_Enforcement: Recall Difference = 0.29679679679679677\n",
      "Class Business: Recall Difference = -0.17411714499093145\n",
      "Class Dresses: Recall Difference = -0.41327913279132794\n",
      "Class Water_Activities: Recall Difference = 0.047567567567567526\n",
      "Class Picnic: Recall Difference = 0.290909090909091\n",
      "Class Rescue: Recall Difference = -0.04936708860759494\n",
      "Class Cheering: Recall Difference = -0.021534044298605448\n",
      "Class Performance_And_Entertainment: Recall Difference = 0.009114916091660277\n",
      "Class Family: Recall Difference = -0.22000000000000003\n"
     ]
    },
    {
     "name": "stderr",
     "output_type": "stream",
     "text": [
      "100%|███████████████████████████████████████████████████████████████████████████| 26/26 [01:55<00:00,  4.44s/it]\n",
      "100%|███████████████████████████████████████████████████████████████████████████| 10/10 [00:19<00:00,  1.91s/it]\n"
     ]
    },
    {
     "name": "stdout",
     "output_type": "stream",
     "text": [
      "*****Epoch 22/300*****\n",
      "*****Train Loss:  1.561125 Val Loss:  2.564419*****\n",
      "*****Validation Accuracy: 34.75%*****\n",
      "*****Total Avg Disparity: 0.07611789361749316*****\n",
      "\n",
      "Class Team_Sports: Recall Difference = 0.11350499211770887\n",
      "Class Celebration: Recall Difference = -0.025581395348837202\n",
      "Class Parade: Recall Difference = -0.06301682349586535\n",
      "Class Waiter_Or_Waitress: Recall Difference = 0.0013869625520110396\n",
      "Class Individual_Sports: Recall Difference = -0.08810389217022563\n",
      "Class Surgeons: Recall Difference = 0.006651884700665217\n",
      "Class Spa: Recall Difference = -0.13999999999999999\n",
      "Class Law_Enforcement: Recall Difference = 0.2607607607607607\n",
      "Class Business: Recall Difference = -0.14392403712792054\n",
      "Class Dresses: Recall Difference = -0.10365853658536586\n",
      "Class Water_Activities: Recall Difference = 0.006378378378378388\n",
      "Class Picnic: Recall Difference = 0.054545454545454564\n",
      "Class Rescue: Recall Difference = 0.012658227848101266\n",
      "Class Cheering: Recall Difference = -0.027481542247744045\n",
      "Class Performance_And_Entertainment: Recall Difference = -0.006900076667518573\n",
      "Class Family: Recall Difference = -0.1633333333333333\n"
     ]
    },
    {
     "name": "stderr",
     "output_type": "stream",
     "text": [
      "100%|███████████████████████████████████████████████████████████████████████████| 26/26 [01:57<00:00,  4.53s/it]\n",
      "100%|███████████████████████████████████████████████████████████████████████████| 10/10 [00:19<00:00,  1.97s/it]\n"
     ]
    },
    {
     "name": "stdout",
     "output_type": "stream",
     "text": [
      "*****Epoch 23/300*****\n",
      "*****Train Loss:  1.515574 Val Loss:  2.423929*****\n",
      "*****Validation Accuracy: 34.60%*****\n",
      "*****Total Avg Disparity: 0.13026672909938264*****\n",
      "\n",
      "Class Team_Sports: Recall Difference = 0.12360600221871892\n",
      "Class Celebration: Recall Difference = 0.013953488372093037\n",
      "Class Parade: Recall Difference = -0.09153122326775026\n",
      "Class Waiter_Or_Waitress: Recall Difference = 0.020804438280166426\n",
      "Class Individual_Sports: Recall Difference = 0.05126457670755713\n",
      "Class Surgeons: Recall Difference = 0.09164818920916484\n",
      "Class Spa: Recall Difference = -0.02\n",
      "Class Law_Enforcement: Recall Difference = 0.22422422422422428\n",
      "Class Business: Recall Difference = 0.03446068494612184\n",
      "Class Dresses: Recall Difference = -0.40582655826558267\n",
      "Class Water_Activities: Recall Difference = 0.02572972972972981\n",
      "Class Picnic: Recall Difference = 0.5818181818181818\n",
      "Class Rescue: Recall Difference = -0.03468354430379747\n",
      "Class Cheering: Recall Difference = -0.026661197703035253\n",
      "Class Performance_And_Entertainment: Recall Difference = -0.0063889598773319844\n",
      "Class Family: Recall Difference = -0.33166666666666667\n"
     ]
    },
    {
     "name": "stderr",
     "output_type": "stream",
     "text": [
      "100%|███████████████████████████████████████████████████████████████████████████| 26/26 [01:55<00:00,  4.42s/it]\n",
      "100%|███████████████████████████████████████████████████████████████████████████| 10/10 [00:19<00:00,  1.96s/it]\n"
     ]
    },
    {
     "name": "stdout",
     "output_type": "stream",
     "text": [
      "*****Epoch 24/300*****\n",
      "*****Train Loss:  1.461080 Val Loss:  2.109667*****\n",
      "*****Validation Accuracy: 41.36%*****\n",
      "*****Total Avg Disparity: 0.13111961700073974*****\n",
      "\n",
      "Class Team_Sports: Recall Difference = 0.09138786711041036\n",
      "Class Celebration: Recall Difference = -0.0488372093023256\n",
      "Class Parade: Recall Difference = -0.06575420587396652\n",
      "Class Waiter_Or_Waitress: Recall Difference = -0.12482662968099861\n",
      "Class Individual_Sports: Recall Difference = -0.06046494017870668\n",
      "Class Surgeons: Recall Difference = 0.13599408721359935\n",
      "Class Spa: Recall Difference = -0.6599999999999999\n",
      "Class Law_Enforcement: Recall Difference = 0.15140140140140151\n",
      "Class Business: Recall Difference = -0.15523311639816506\n",
      "Class Dresses: Recall Difference = -0.26829268292682934\n",
      "Class Water_Activities: Recall Difference = 0.06637837837837846\n",
      "Class Picnic: Recall Difference = 0.018181818181818243\n",
      "Class Rescue: Recall Difference = 0.030632911392405062\n",
      "Class Cheering: Recall Difference = -0.017227235438884325\n",
      "Class Performance_And_Entertainment: Recall Difference = 0.12496805520061327\n",
      "Class Family: Recall Difference = -0.07833333333333331\n"
     ]
    },
    {
     "name": "stderr",
     "output_type": "stream",
     "text": [
      "100%|███████████████████████████████████████████████████████████████████████████| 26/26 [01:55<00:00,  4.45s/it]\n",
      "100%|███████████████████████████████████████████████████████████████████████████| 10/10 [00:19<00:00,  1.94s/it]\n"
     ]
    },
    {
     "name": "stdout",
     "output_type": "stream",
     "text": [
      "*****Epoch 25/300*****\n",
      "*****Train Loss:  1.421984 Val Loss:  2.282594*****\n",
      "*****Validation Accuracy: 38.61%*****\n",
      "*****Total Avg Disparity: 0.10067387478088494*****\n",
      "\n",
      "Class Team_Sports: Recall Difference = 0.06835989957377253\n",
      "Class Celebration: Recall Difference = -0.08837209302325581\n",
      "Class Parade: Recall Difference = 0.03666951810664387\n",
      "Class Waiter_Or_Waitress: Recall Difference = -0.029126213592233007\n",
      "Class Individual_Sports: Recall Difference = 0.05963198546115395\n",
      "Class Surgeons: Recall Difference = 0.10569105691056913\n",
      "Class Spa: Recall Difference = -0.33999999999999997\n",
      "Class Law_Enforcement: Recall Difference = 0.218968968968969\n",
      "Class Business: Recall Difference = -0.08567160994345455\n",
      "Class Dresses: Recall Difference = -0.24864498644986452\n",
      "Class Water_Activities: Recall Difference = 0.06518918918918926\n",
      "Class Picnic: Recall Difference = -0.16363636363636364\n",
      "Class Rescue: Recall Difference = -0.007341772151898735\n",
      "Class Cheering: Recall Difference = -0.07424118129614449\n",
      "Class Performance_And_Entertainment: Recall Difference = -0.010903824857313199\n",
      "Class Family: Recall Difference = -0.008333333333333304\n"
     ]
    },
    {
     "name": "stderr",
     "output_type": "stream",
     "text": [
      "100%|███████████████████████████████████████████████████████████████████████████| 26/26 [01:57<00:00,  4.50s/it]\n",
      "100%|███████████████████████████████████████████████████████████████████████████| 10/10 [00:19<00:00,  1.94s/it]\n"
     ]
    },
    {
     "name": "stdout",
     "output_type": "stream",
     "text": [
      "*****Epoch 26/300*****\n",
      "*****Train Loss:  1.389393 Val Loss:  2.123364*****\n",
      "*****Validation Accuracy: 40.72%*****\n",
      "*****Total Avg Disparity: 0.11400746652313179*****\n",
      "\n",
      "Class Team_Sports: Recall Difference = 0.08739417294330576\n",
      "Class Celebration: Recall Difference = -0.05581395348837204\n",
      "Class Parade: Recall Difference = 0.030681494154548072\n",
      "Class Waiter_Or_Waitress: Recall Difference = -0.033749422098936666\n",
      "Class Individual_Sports: Recall Difference = 0.019460851128274947\n",
      "Class Surgeons: Recall Difference = 0.13599408721359946\n",
      "Class Spa: Recall Difference = -0.58\n",
      "Class Law_Enforcement: Recall Difference = 0.060060060060060094\n",
      "Class Business: Recall Difference = -0.03840819374799953\n",
      "Class Dresses: Recall Difference = -0.4024390243902439\n",
      "Class Water_Activities: Recall Difference = 0.015567567567567553\n",
      "Class Picnic: Recall Difference = 0.036363636363636376\n",
      "Class Rescue: Recall Difference = 0.013924050632911383\n",
      "Class Cheering: Recall Difference = -0.009228876127973767\n",
      "Class Performance_And_Entertainment: Recall Difference = 0.06670074111934576\n",
      "Class Family: Recall Difference = -0.2383333333333333\n"
     ]
    },
    {
     "name": "stderr",
     "output_type": "stream",
     "text": [
      "100%|███████████████████████████████████████████████████████████████████████████| 26/26 [01:58<00:00,  4.54s/it]\n",
      "100%|███████████████████████████████████████████████████████████████████████████| 10/10 [00:19<00:00,  1.95s/it]\n"
     ]
    },
    {
     "name": "stdout",
     "output_type": "stream",
     "text": [
      "*****Epoch 27/300*****\n",
      "*****Train Loss:  1.358846 Val Loss:  2.707731*****\n",
      "*****Validation Accuracy: 35.76%*****\n",
      "*****Total Avg Disparity: 0.12654526696543633*****\n",
      "\n",
      "Class Team_Sports: Recall Difference = 0.1780930694225491\n",
      "Class Celebration: Recall Difference = -0.011627906976744179\n",
      "Class Parade: Recall Difference = 0.010037068719703474\n",
      "Class Waiter_Or_Waitress: Recall Difference = 0.01294498381877024\n",
      "Class Individual_Sports: Recall Difference = 0.010904134484325312\n",
      "Class Surgeons: Recall Difference = 0.03843311160384333\n",
      "Class Spa: Recall Difference = -0.48\n",
      "Class Law_Enforcement: Recall Difference = 0.23348348348348347\n",
      "Class Business: Recall Difference = -0.17305025072015362\n",
      "Class Dresses: Recall Difference = -0.5169376693766938\n",
      "Class Water_Activities: Recall Difference = -0.024432432432432483\n",
      "Class Picnic: Recall Difference = 0.1454545454545455\n",
      "Class Rescue: Recall Difference = -0.01873417721518987\n",
      "Class Cheering: Recall Difference = -0.012920426579163244\n",
      "Class Performance_And_Entertainment: Recall Difference = 0.057671011159383306\n",
      "Class Family: Recall Difference = -0.10000000000000003\n"
     ]
    },
    {
     "name": "stderr",
     "output_type": "stream",
     "text": [
      "100%|███████████████████████████████████████████████████████████████████████████| 26/26 [01:55<00:00,  4.46s/it]\n",
      "100%|███████████████████████████████████████████████████████████████████████████| 10/10 [00:19<00:00,  1.92s/it]\n"
     ]
    },
    {
     "name": "stdout",
     "output_type": "stream",
     "text": [
      "*****Epoch 28/300*****\n",
      "*****Train Loss:  1.314825 Val Loss:  2.375113*****\n",
      "*****Validation Accuracy: 36.77%*****\n",
      "*****Total Avg Disparity: 0.1226338392432799*****\n",
      "\n",
      "Class Team_Sports: Recall Difference = 0.07226017399427803\n",
      "Class Celebration: Recall Difference = 0.006976744186046546\n",
      "Class Parade: Recall Difference = 0.021100655831194748\n",
      "Class Waiter_Or_Waitress: Recall Difference = -0.009246417013407282\n",
      "Class Individual_Sports: Recall Difference = -0.07106618203846726\n",
      "Class Surgeons: Recall Difference = 0.08721359940872142\n",
      "Class Spa: Recall Difference = -0.7199999999999999\n",
      "Class Law_Enforcement: Recall Difference = 0.10235235235235235\n",
      "Class Business: Recall Difference = -0.006934812760055475\n",
      "Class Dresses: Recall Difference = -0.4390243902439025\n",
      "Class Water_Activities: Recall Difference = -0.031351351351351364\n",
      "Class Picnic: Recall Difference = 0.14545454545454545\n",
      "Class Rescue: Recall Difference = -0.007341772151898733\n",
      "Class Cheering: Recall Difference = -0.05209187858900739\n",
      "Class Performance_And_Entertainment: Recall Difference = 0.05639321918391682\n",
      "Class Family: Recall Difference = -0.1333333333333333\n"
     ]
    },
    {
     "name": "stderr",
     "output_type": "stream",
     "text": [
      "100%|███████████████████████████████████████████████████████████████████████████| 26/26 [01:55<00:00,  4.44s/it]\n",
      "100%|███████████████████████████████████████████████████████████████████████████| 10/10 [00:19<00:00,  1.93s/it]\n"
     ]
    },
    {
     "name": "stdout",
     "output_type": "stream",
     "text": [
      "*****Epoch 29/300*****\n",
      "*****Train Loss:  1.264723 Val Loss:  2.270586*****\n",
      "*****Validation Accuracy: 40.61%*****\n",
      "*****Total Avg Disparity: 0.09614518662542379*****\n",
      "\n",
      "Class Team_Sports: Recall Difference = 0.1552986512524085\n",
      "Class Celebration: Recall Difference = -0.07209302325581393\n",
      "Class Parade: Recall Difference = -0.021613915027088704\n",
      "Class Waiter_Or_Waitress: Recall Difference = 0.06934812760055487\n",
      "Class Individual_Sports: Recall Difference = -0.01821141905194612\n",
      "Class Surgeons: Recall Difference = 0.15299334811529935\n",
      "Class Spa: Recall Difference = -0.33999999999999997\n",
      "Class Law_Enforcement: Recall Difference = 0.17542542542542555\n",
      "Class Business: Recall Difference = -0.07542942494398805\n",
      "Class Dresses: Recall Difference = -0.1863143631436314\n",
      "Class Water_Activities: Recall Difference = -0.012324324324324343\n",
      "Class Picnic: Recall Difference = 0.054545454545454564\n",
      "Class Rescue: Recall Difference = 0.004556962025316441\n",
      "Class Cheering: Recall Difference = -0.03589007383100909\n",
      "Class Performance_And_Entertainment: Recall Difference = -0.0626118067978533\n",
      "Class Family: Recall Difference = -0.10166666666666663\n"
     ]
    },
    {
     "name": "stderr",
     "output_type": "stream",
     "text": [
      "100%|███████████████████████████████████████████████████████████████████████████| 26/26 [01:57<00:00,  4.51s/it]\n",
      "100%|███████████████████████████████████████████████████████████████████████████| 10/10 [00:19<00:00,  1.93s/it]\n"
     ]
    },
    {
     "name": "stdout",
     "output_type": "stream",
     "text": [
      "*****Epoch 30/300*****\n",
      "*****Train Loss:  1.207186 Val Loss:  2.460047*****\n",
      "*****Validation Accuracy: 41.70%*****\n",
      "*****Total Avg Disparity: 0.1350506216279723*****\n",
      "\n",
      "Class Team_Sports: Recall Difference = 0.131336486249781\n",
      "Class Celebration: Recall Difference = -0.03720930232558137\n",
      "Class Parade: Recall Difference = -0.006900484744796098\n",
      "Class Waiter_Or_Waitress: Recall Difference = -0.23300970873786406\n",
      "Class Individual_Sports: Recall Difference = -0.03812660911706811\n",
      "Class Surgeons: Recall Difference = 0.08573540280857356\n",
      "Class Spa: Recall Difference = -0.38\n",
      "Class Law_Enforcement: Recall Difference = 0.3053053053053054\n",
      "Class Business: Recall Difference = -0.2285287528005975\n",
      "Class Dresses: Recall Difference = -0.34756097560975613\n",
      "Class Water_Activities: Recall Difference = 0.03351351351351356\n",
      "Class Picnic: Recall Difference = 0.18181818181818182\n",
      "Class Rescue: Recall Difference = 0.005316455696202534\n",
      "Class Cheering: Recall Difference = -0.0693191140278917\n",
      "Class Performance_And_Entertainment: Recall Difference = 0.0021296532924440226\n",
      "Class Family: Recall Difference = -0.07500000000000004\n",
      "Early stopping\n"
     ]
    },
    {
     "data": {
      "image/png": "[encoded data removed]",
      "text/plain": [
       "<Figure size 640x480 with 1 Axes>"
      ]
     },
     "metadata": {},
     "output_type": "display_data"
    },
    {
     "name": "stdout",
     "output_type": "stream",
     "text": [
      "Finished Training Teacher\n",
      "Teacher weights and architecture saved and exported for lambda: 0\n"
     ]
    }
   ],
   "source": [
    "# Initialize the dictionary for results\n",
    "lambda_results = {}\n",
    "\n",
    "# Loop for training the teacher model with different lambda values\n",
    "for i in lmda_list:\n",
    "    # Reset the teacher model for each lambda\n",
    "    teacher_model = torchvision.models.resnet34(weights=None).to(device)\n",
    "    teacher_model.fc = nn.Linear(512, num_classes)\n",
    "    teacher_optimizer = optim.Adam(teacher_model.parameters(), lr=best_lr_teacher)\n",
    "    \n",
    "    # Initialize the adversary for the teacher\n",
    "    adv = Adversary()\n",
    "    teacher_optimizer_adv = optim.Adam(adv.parameters(), lr=best_lr_teacher)\n",
    "\n",
    "    pretrain_teacher(teacher_model, trainloader, criterion_clf, teacher_optimizer, device, epochs_pretrain)\n",
    "    pretrain_adversary(adv, student_model, optimizer_adv, trainloader, adv_criterion, device, epochs_pretrain)\n",
    "    \n",
    "    # Train the teacher model with adversarial training\n",
    "    teacher_mean_abs_val_disparity = train_teacher(teacher_model, adv, trainloader, criterion_clf, adv_criterion, teacher_optimizer, teacher_optimizer_adv, device, epochs, i, patience=patience_teacher)\n",
    "\n",
    "    # Save the teacher model and its state\n",
    "    torch.save(teacher_model.state_dict(), f'teacher_model_weights_ckd_wider_lambda{i}.pth')\n",
    "    torch.save(teacher_model, f'teacher_model_ckd_wider_lambda{i}.pth')\n",
    "    print('Teacher weights and architecture saved and exported for lambda:', i)\n",
    "\n",
    "    # Store the teacher results in the dictionary\n",
    "    lambda_results[i] = {\n",
    "        'teacher_mean_abs_val_disparity': teacher_mean_abs_val_disparity\n",
    "    }\n"
   ]
  },
  {
   "cell_type": "code",
   "execution_count": null,
   "id": "f00ed527-6705-4f12-b7af-2c5d0a1e753f",
   "metadata": {},
   "outputs": [
    {
     "name": "stderr",
     "output_type": "stream",
     "text": [
      "100%|███████████████████████████████████████████████████████████████████████████| 26/26 [01:55<00:00,  4.45s/it]\n"
     ]
    },
    {
     "name": "stdout",
     "output_type": "stream",
     "text": [
      "*******Epoch 0: loss - 0.43815056865031904\n"
     ]
    },
    {
     "name": "stderr",
     "output_type": "stream",
     "text": [
      "100%|███████████████████████████████████████████████████████████████████████████| 26/26 [01:54<00:00,  4.40s/it]\n"
     ]
    },
    {
     "name": "stdout",
     "output_type": "stream",
     "text": [
      "*******Epoch 1: loss - 0.3710183810729247\n"
     ]
    },
    {
     "name": "stderr",
     "output_type": "stream",
     "text": [
      "100%|███████████████████████████████████████████████████████████████████████████| 26/26 [01:54<00:00,  4.41s/it]\n"
     ]
    },
    {
     "name": "stdout",
     "output_type": "stream",
     "text": [
      "*******Epoch 2: loss - 0.34297792040384734\n"
     ]
    },
    {
     "name": "stderr",
     "output_type": "stream",
     "text": [
      "100%|███████████████████████████████████████████████████████████████████████████| 26/26 [01:55<00:00,  4.43s/it]\n"
     ]
    },
    {
     "name": "stdout",
     "output_type": "stream",
     "text": [
      "Average Pretrain Adversary epoch loss:  0.38575901893469006\n"
     ]
    },
    {
     "name": "stderr",
     "output_type": "stream",
     "text": [
      "100%|███████████████████████████████████████████████████████████████████████████| 26/26 [01:54<00:00,  4.42s/it]\n"
     ]
    },
    {
     "name": "stdout",
     "output_type": "stream",
     "text": [
      "Average Pretrain Adversary epoch loss:  0.38889855490281033\n"
     ]
    },
    {
     "name": "stderr",
     "output_type": "stream",
     "text": [
      "100%|███████████████████████████████████████████████████████████████████████████| 26/26 [01:55<00:00,  4.44s/it]\n"
     ]
    },
    {
     "name": "stdout",
     "output_type": "stream",
     "text": [
      "Average Pretrain Adversary epoch loss:  0.38502874282690197\n"
     ]
    },
    {
     "name": "stderr",
     "output_type": "stream",
     "text": [
      "100%|███████████████████████████████████████████████████████████████████████████| 26/26 [01:50<00:00,  4.26s/it]\n"
     ]
    },
    {
     "name": "stdout",
     "output_type": "stream",
     "text": [
      "Average Adversary epoch loss: 0.28597814532426685\n"
     ]
    },
    {
     "name": "stderr",
     "output_type": "stream",
     "text": [
      "100%|███████████████████████████████████████████████████████████████████████████| 26/26 [01:55<00:00,  4.44s/it]\n",
      "100%|███████████████████████████████████████████████████████████████████████████| 10/10 [00:20<00:00,  2.02s/it]\n"
     ]
    },
    {
     "name": "stdout",
     "output_type": "stream",
     "text": [
      "*****Epoch 1/300*****\n",
      "*****Train Loss:  0.324368 Val Loss:  0.366515*****\n",
      "*****Validation Accuracy: 33.85%*****\n",
      "*****Total Avg Disparity: 0.11308453844241106*****\n",
      "\n",
      "Class Team_Sports: Recall Difference = 0.0673089274245342\n",
      "Class Celebration: Recall Difference = -0.06511627906976747\n",
      "Class Parade: Recall Difference = 0.0715141146278871\n",
      "Class Waiter_Or_Waitress: Recall Difference = 0.03236245954692557\n",
      "Class Individual_Sports: Recall Difference = -0.058193245494472245\n",
      "Class Surgeons: Recall Difference = 0.02439024390243903\n",
      "Class Spa: Recall Difference = -0.44000000000000006\n",
      "Class Law_Enforcement: Recall Difference = 0.1373873873873874\n",
      "Class Business: Recall Difference = -0.1851061559799423\n",
      "Class Dresses: Recall Difference = -0.20731707317073172\n",
      "Class Water_Activities: Recall Difference = 0.07459459459459461\n",
      "Class Picnic: Recall Difference = 0.2181818181818182\n",
      "Class Rescue: Recall Difference = 0.0\n",
      "Class Cheering: Recall Difference = -0.004306808859721081\n",
      "Class Performance_And_Entertainment: Recall Difference = 0.007155635062611798\n",
      "Class Family: Recall Difference = -0.10333333333333336\n",
      "Data has been appended to ./runs_2023_12_02_11_08/validation_0.txt\n"
     ]
    },
    {
     "name": "stderr",
     "output_type": "stream",
     "text": [
      "100%|███████████████████████████████████████████████████████████████████████████| 26/26 [01:49<00:00,  4.22s/it]\n"
     ]
    },
    {
     "name": "stdout",
     "output_type": "stream",
     "text": [
      "Average Adversary epoch loss: 0.27536072582006454\n"
     ]
    },
    {
     "name": "stderr",
     "output_type": "stream",
     "text": [
      "100%|███████████████████████████████████████████████████████████████████████████| 26/26 [01:53<00:00,  4.36s/it]\n",
      "100%|███████████████████████████████████████████████████████████████████████████| 10/10 [00:19<00:00,  1.97s/it]\n"
     ]
    },
    {
     "name": "stdout",
     "output_type": "stream",
     "text": [
      "*****Epoch 2/300*****\n",
      "*****Train Loss:  0.307486 Val Loss:  0.423448*****\n",
      "*****Validation Accuracy: 32.61%*****\n",
      "*****Total Avg Disparity: 0.11429138864094947*****\n",
      "\n",
      "Class Team_Sports: Recall Difference = 0.11614409995912883\n",
      "Class Celebration: Recall Difference = -0.03953488372093025\n",
      "Class Parade: Recall Difference = -0.04123182207014553\n",
      "Class Waiter_Or_Waitress: Recall Difference = 0.11003236245954695\n",
      "Class Individual_Sports: Recall Difference = -0.082651824928063\n",
      "Class Surgeons: Recall Difference = 0.0\n",
      "Class Spa: Recall Difference = -0.27999999999999997\n",
      "Class Law_Enforcement: Recall Difference = 0.2332332332332332\n",
      "Class Business: Recall Difference = -0.07948362317294355\n",
      "Class Dresses: Recall Difference = -0.3340108401084011\n",
      "Class Water_Activities: Recall Difference = 0.03243243243243232\n",
      "Class Picnic: Recall Difference = -0.18181818181818182\n",
      "Class Rescue: Recall Difference = 0.0\n",
      "Class Cheering: Recall Difference = -0.001435602953240361\n",
      "Class Performance_And_Entertainment: Recall Difference = -0.014737200783712434\n",
      "Class Family: Recall Difference = -0.05333333333333334\n",
      "Data has been appended to ./runs_2023_12_02_11_08/validation_0.txt\n"
     ]
    },
    {
     "name": "stderr",
     "output_type": "stream",
     "text": [
      "100%|███████████████████████████████████████████████████████████████████████████| 26/26 [01:49<00:00,  4.21s/it]\n"
     ]
    },
    {
     "name": "stdout",
     "output_type": "stream",
     "text": [
      "Average Adversary epoch loss: 0.2427281175668423\n"
     ]
    },
    {
     "name": "stderr",
     "output_type": "stream",
     "text": [
      "100%|███████████████████████████████████████████████████████████████████████████| 26/26 [01:55<00:00,  4.46s/it]\n",
      "100%|███████████████████████████████████████████████████████████████████████████| 10/10 [00:19<00:00,  1.99s/it]\n"
     ]
    },
    {
     "name": "stdout",
     "output_type": "stream",
     "text": [
      "*****Epoch 3/300*****\n",
      "*****Train Loss:  0.288033 Val Loss:  0.381367*****\n",
      "*****Validation Accuracy: 32.50%*****\n",
      "*****Total Avg Disparity: 0.1410348256509261*****\n",
      "\n",
      "Class Team_Sports: Recall Difference = 0.0770362585391487\n",
      "Class Celebration: Recall Difference = -0.041860465116279166\n",
      "Class Parade: Recall Difference = 0.02087254063301963\n",
      "Class Waiter_Or_Waitress: Recall Difference = 0.04207119741100318\n",
      "Class Individual_Sports: Recall Difference = 0.04448735423292438\n",
      "Class Surgeons: Recall Difference = 0.11677753141167771\n",
      "Class Spa: Recall Difference = -0.6\n",
      "Class Law_Enforcement: Recall Difference = 0.2562562562562563\n",
      "Class Business: Recall Difference = -0.16131441374159827\n",
      "Class Dresses: Recall Difference = -0.20325203252032514\n",
      "Class Water_Activities: Recall Difference = 0.04918918918918924\n",
      "Class Picnic: Recall Difference = 0.3818181818181819\n",
      "Class Rescue: Recall Difference = 0.0\n",
      "Class Cheering: Recall Difference = -0.012305168170631669\n",
      "Class Performance_And_Entertainment: Recall Difference = -0.02828179572365619\n",
      "Class Family: Recall Difference = -0.07999999999999999\n",
      "Data has been appended to ./runs_2023_12_02_11_08/validation_0.txt\n"
     ]
    },
    {
     "name": "stderr",
     "output_type": "stream",
     "text": [
      "100%|███████████████████████████████████████████████████████████████████████████| 26/26 [01:49<00:00,  4.23s/it]\n"
     ]
    },
    {
     "name": "stdout",
     "output_type": "stream",
     "text": [
      "Average Adversary epoch loss: 0.22498392256406638\n"
     ]
    },
    {
     "name": "stderr",
     "output_type": "stream",
     "text": [
      "100%|███████████████████████████████████████████████████████████████████████████| 26/26 [01:55<00:00,  4.43s/it]\n",
      "100%|███████████████████████████████████████████████████████████████████████████| 10/10 [00:19<00:00,  2.00s/it]\n"
     ]
    },
    {
     "name": "stdout",
     "output_type": "stream",
     "text": [
      "*****Epoch 4/300*****\n",
      "*****Train Loss:  0.279286 Val Loss:  0.311130*****\n",
      "*****Validation Accuracy: 41.13%*****\n",
      "*****Total Avg Disparity: 0.1259258626025249*****\n",
      "\n",
      "Class Team_Sports: Recall Difference = 0.1403748467332281\n",
      "Class Celebration: Recall Difference = -0.011627906976744151\n",
      "Class Parade: Recall Difference = -0.02680353578557182\n",
      "Class Waiter_Or_Waitress: Recall Difference = -0.029588534442903325\n",
      "Class Individual_Sports: Recall Difference = -0.0320308950477054\n",
      "Class Surgeons: Recall Difference = 0.014042867701404338\n",
      "Class Spa: Recall Difference = -0.5\n",
      "Class Law_Enforcement: Recall Difference = 0.2777777777777778\n",
      "Class Business: Recall Difference = -0.20655073082257544\n",
      "Class Dresses: Recall Difference = -0.32655826558265577\n",
      "Class Water_Activities: Recall Difference = 0.12205405405405406\n",
      "Class Picnic: Recall Difference = 0.12727272727272726\n",
      "Class Rescue: Recall Difference = 0.02531645569620253\n",
      "Class Cheering: Recall Difference = 0.02255947497949138\n",
      "Class Performance_And_Entertainment: Recall Difference = 0.015589062100689999\n",
      "Class Family: Recall Difference = -0.13666666666666671\n",
      "Data has been appended to ./runs_2023_12_02_11_08/validation_0.txt\n"
     ]
    },
    {
     "name": "stderr",
     "output_type": "stream",
     "text": [
      "100%|███████████████████████████████████████████████████████████████████████████| 26/26 [01:50<00:00,  4.24s/it]\n"
     ]
    },
    {
     "name": "stdout",
     "output_type": "stream",
     "text": [
      "Average Adversary epoch loss: 0.22865406882304412\n"
     ]
    },
    {
     "name": "stderr",
     "output_type": "stream",
     "text": [
      "100%|███████████████████████████████████████████████████████████████████████████| 26/26 [01:54<00:00,  4.40s/it]\n",
      "100%|███████████████████████████████████████████████████████████████████████████| 10/10 [00:19<00:00,  1.97s/it]\n"
     ]
    },
    {
     "name": "stdout",
     "output_type": "stream",
     "text": [
      "*****Epoch 5/300*****\n",
      "*****Train Loss:  0.263582 Val Loss:  0.419805*****\n",
      "*****Validation Accuracy: 33.62%*****\n",
      "*****Total Avg Disparity: 0.08980125250694834*****\n",
      "\n",
      "Class Team_Sports: Recall Difference = 0.1414958836924155\n",
      "Class Celebration: Recall Difference = -0.06046511627906977\n",
      "Class Parade: Recall Difference = 0.0029654975762760244\n",
      "Class Waiter_Or_Waitress: Recall Difference = -0.0036985668053629295\n",
      "Class Individual_Sports: Recall Difference = -0.06781008632439811\n",
      "Class Surgeons: Recall Difference = 0.04360679970436071\n",
      "Class Spa: Recall Difference = -0.32\n",
      "Class Law_Enforcement: Recall Difference = 0.2014514514514515\n",
      "Class Business: Recall Difference = -0.22927557879014193\n",
      "Class Dresses: Recall Difference = -0.18157181571815723\n",
      "Class Water_Activities: Recall Difference = -0.018918918918918892\n",
      "Class Picnic: Recall Difference = -0.03636363636363632\n",
      "Class Rescue: Recall Difference = 0.0\n",
      "Class Cheering: Recall Difference = 0.01743232157506152\n",
      "Class Performance_And_Entertainment: Recall Difference = 0.01362978107164152\n",
      "Class Family: Recall Difference = 0.008333333333333345\n",
      "Data has been appended to ./runs_2023_12_02_11_08/validation_0.txt\n"
     ]
    },
    {
     "name": "stderr",
     "output_type": "stream",
     "text": [
      "100%|███████████████████████████████████████████████████████████████████████████| 26/26 [01:51<00:00,  4.30s/it]\n"
     ]
    },
    {
     "name": "stdout",
     "output_type": "stream",
     "text": [
      "Average Adversary epoch loss: 0.22883570939302444\n"
     ]
    },
    {
     "name": "stderr",
     "output_type": "stream",
     "text": [
      "100%|███████████████████████████████████████████████████████████████████████████| 26/26 [01:53<00:00,  4.38s/it]\n",
      "100%|███████████████████████████████████████████████████████████████████████████| 10/10 [00:20<00:00,  2.02s/it]\n"
     ]
    },
    {
     "name": "stdout",
     "output_type": "stream",
     "text": [
      "*****Epoch 6/300*****\n",
      "*****Train Loss:  0.255776 Val Loss:  0.304202*****\n",
      "*****Validation Accuracy: 39.39%*****\n",
      "*****Total Avg Disparity: 0.08610411154344469*****\n",
      "\n",
      "Class Team_Sports: Recall Difference = 0.06887370818006644\n",
      "Class Celebration: Recall Difference = -0.009302325581395376\n",
      "Class Parade: Recall Difference = 0.007470772740233889\n",
      "Class Waiter_Or_Waitress: Recall Difference = -0.07073509015256588\n",
      "Class Individual_Sports: Recall Difference = -0.10559594123883098\n",
      "Class Surgeons: Recall Difference = 0.08573540280857356\n",
      "Class Spa: Recall Difference = -0.08\n",
      "Class Law_Enforcement: Recall Difference = 0.23098098098098097\n",
      "Class Business: Recall Difference = -0.15544649525232052\n",
      "Class Dresses: Recall Difference = -0.2547425474254743\n",
      "Class Water_Activities: Recall Difference = 0.04529729729729731\n",
      "Class Picnic: Recall Difference = -0.054545454545454564\n",
      "Class Rescue: Recall Difference = 0.005316455696202531\n",
      "Class Cheering: Recall Difference = 0.05229696472518457\n",
      "Class Performance_And_Entertainment: Recall Difference = -0.03799301473720079\n",
      "Class Family: Recall Difference = -0.11333333333333331\n",
      "Data has been appended to ./runs_2023_12_02_11_08/validation_0.txt\n"
     ]
    },
    {
     "name": "stderr",
     "output_type": "stream",
     "text": [
      "100%|███████████████████████████████████████████████████████████████████████████| 26/26 [01:49<00:00,  4.21s/it]\n"
     ]
    },
    {
     "name": "stdout",
     "output_type": "stream",
     "text": [
      "Average Adversary epoch loss: 0.21307819680525705\n"
     ]
    },
    {
     "name": "stderr",
     "output_type": "stream",
     "text": [
      "100%|███████████████████████████████████████████████████████████████████████████| 26/26 [01:53<00:00,  4.37s/it]\n",
      "100%|███████████████████████████████████████████████████████████████████████████| 10/10 [00:20<00:00,  2.01s/it]\n"
     ]
    },
    {
     "name": "stdout",
     "output_type": "stream",
     "text": [
      "*****Epoch 7/300*****\n",
      "*****Train Loss:  0.248171 Val Loss:  0.312611*****\n",
      "*****Validation Accuracy: 41.07%*****\n",
      "*****Total Avg Disparity: 0.10649278529747422*****\n",
      "\n",
      "Class Team_Sports: Recall Difference = 0.15787937175220434\n",
      "Class Celebration: Recall Difference = 2.7755575615628914e-17\n",
      "Class Parade: Recall Difference = -0.007470772740233778\n",
      "Class Waiter_Or_Waitress: Recall Difference = -0.06934812760055475\n",
      "Class Individual_Sports: Recall Difference = -0.07969862183855814\n",
      "Class Surgeons: Recall Difference = 0.12934220251293413\n",
      "Class Spa: Recall Difference = -0.33999999999999997\n",
      "Class Law_Enforcement: Recall Difference = 0.1611611611611612\n",
      "Class Business: Recall Difference = -0.17667769124079807\n",
      "Class Dresses: Recall Difference = -0.23644986449864497\n",
      "Class Water_Activities: Recall Difference = 0.049513513513513574\n",
      "Class Picnic: Recall Difference = 0.10909090909090902\n",
      "Class Rescue: Recall Difference = -0.007341772151898735\n",
      "Class Cheering: Recall Difference = 0.0008203445447087648\n",
      "Class Performance_And_Entertainment: Recall Difference = 0.11909021211346796\n",
      "Class Family: Recall Difference = -0.060000000000000026\n",
      "Data has been appended to ./runs_2023_12_02_11_08/validation_0.txt\n"
     ]
    },
    {
     "name": "stderr",
     "output_type": "stream",
     "text": [
      "100%|███████████████████████████████████████████████████████████████████████████| 26/26 [01:50<00:00,  4.26s/it]\n"
     ]
    },
    {
     "name": "stdout",
     "output_type": "stream",
     "text": [
      "Average Adversary epoch loss: 0.2091072557064203\n"
     ]
    },
    {
     "name": "stderr",
     "output_type": "stream",
     "text": [
      "100%|███████████████████████████████████████████████████████████████████████████| 26/26 [01:55<00:00,  4.44s/it]\n",
      "100%|███████████████████████████████████████████████████████████████████████████| 10/10 [00:20<00:00,  2.03s/it]\n"
     ]
    },
    {
     "name": "stdout",
     "output_type": "stream",
     "text": [
      "*****Epoch 8/300*****\n",
      "*****Train Loss:  0.234113 Val Loss:  0.306049*****\n",
      "*****Validation Accuracy: 40.32%*****\n",
      "*****Total Avg Disparity: 0.10438951958266499*****\n",
      "\n",
      "Class Team_Sports: Recall Difference = 0.08789630408127513\n",
      "Class Celebration: Recall Difference = -0.05348837209302329\n",
      "Class Parade: Recall Difference = -0.07231251782149983\n",
      "Class Waiter_Or_Waitress: Recall Difference = -0.07859454461396209\n",
      "Class Individual_Sports: Recall Difference = -0.015068908072088438\n",
      "Class Surgeons: Recall Difference = 0.08130081300813014\n",
      "Class Spa: Recall Difference = -0.18\n",
      "Class Law_Enforcement: Recall Difference = 0.2917917917917918\n",
      "Class Business: Recall Difference = -0.1181051957750987\n",
      "Class Dresses: Recall Difference = -0.3265582655826559\n",
      "Class Water_Activities: Recall Difference = 0.08010810810810814\n",
      "Class Picnic: Recall Difference = 0.16363636363636364\n",
      "Class Rescue: Recall Difference = 0.02329113924050632\n",
      "Class Cheering: Recall Difference = -0.03322395406070551\n",
      "Class Performance_And_Entertainment: Recall Difference = -0.04318936877076407\n",
      "Class Family: Recall Difference = -0.021666666666666667\n",
      "Data has been appended to ./runs_2023_12_02_11_08/validation_0.txt\n"
     ]
    },
    {
     "name": "stderr",
     "output_type": "stream",
     "text": [
      "100%|███████████████████████████████████████████████████████████████████████████| 26/26 [01:51<00:00,  4.30s/it]\n"
     ]
    },
    {
     "name": "stdout",
     "output_type": "stream",
     "text": [
      "Average Adversary epoch loss: 0.18617431360941666\n"
     ]
    },
    {
     "name": "stderr",
     "output_type": "stream",
     "text": [
      "100%|███████████████████████████████████████████████████████████████████████████| 26/26 [01:54<00:00,  4.42s/it]\n",
      "100%|███████████████████████████████████████████████████████████████████████████| 10/10 [00:19<00:00,  2.00s/it]\n"
     ]
    },
    {
     "name": "stdout",
     "output_type": "stream",
     "text": [
      "*****Epoch 9/300*****\n",
      "*****Train Loss:  0.222962 Val Loss:  0.305202*****\n",
      "*****Validation Accuracy: 41.62%*****\n",
      "*****Total Avg Disparity: 0.10764908219379471*****\n",
      "\n",
      "Class Team_Sports: Recall Difference = 0.13481637181059136\n",
      "Class Celebration: Recall Difference = 0.03488372093023254\n",
      "Class Parade: Recall Difference = -0.003934987168520032\n",
      "Class Waiter_Or_Waitress: Recall Difference = -0.0998613037447989\n",
      "Class Individual_Sports: Recall Difference = -0.06360745115856437\n",
      "Class Surgeons: Recall Difference = 0.09238728750923872\n",
      "Class Spa: Recall Difference = -0.16\n",
      "Class Law_Enforcement: Recall Difference = 0.15915915915915924\n",
      "Class Business: Recall Difference = -0.0301931078630108\n",
      "Class Dresses: Recall Difference = -0.559620596205962\n",
      "Class Water_Activities: Recall Difference = 0.11156756756756758\n",
      "Class Picnic: Recall Difference = -0.05454545454545451\n",
      "Class Rescue: Recall Difference = -0.04405063291139241\n",
      "Class Cheering: Recall Difference = -0.04470877768662837\n",
      "Class Performance_And_Entertainment: Recall Difference = 0.06738223017292772\n",
      "Class Family: Recall Difference = -0.061666666666666675\n",
      "Data has been appended to ./runs_2023_12_02_11_08/validation_0.txt\n"
     ]
    },
    {
     "name": "stderr",
     "output_type": "stream",
     "text": [
      "100%|███████████████████████████████████████████████████████████████████████████| 26/26 [01:50<00:00,  4.24s/it]\n"
     ]
    },
    {
     "name": "stdout",
     "output_type": "stream",
     "text": [
      "Average Adversary epoch loss: 0.18839136740336052\n"
     ]
    },
    {
     "name": "stderr",
     "output_type": "stream",
     "text": [
      "100%|███████████████████████████████████████████████████████████████████████████| 26/26 [01:54<00:00,  4.42s/it]\n",
      "100%|███████████████████████████████████████████████████████████████████████████| 10/10 [00:20<00:00,  2.03s/it]\n"
     ]
    },
    {
     "name": "stdout",
     "output_type": "stream",
     "text": [
      "*****Epoch 10/300*****\n",
      "*****Train Loss:  0.218768 Val Loss:  0.313056*****\n",
      "*****Validation Accuracy: 40.38%*****\n",
      "*****Total Avg Disparity: 0.1279135871783979*****\n",
      "\n",
      "Class Team_Sports: Recall Difference = 0.12887254043323398\n",
      "Class Celebration: Recall Difference = 0.020930232558139417\n",
      "Class Parade: Recall Difference = -0.023838038209295753\n",
      "Class Waiter_Or_Waitress: Recall Difference = -0.045307443365695754\n",
      "Class Individual_Sports: Recall Difference = -0.067810086324398\n",
      "Class Surgeons: Recall Difference = 0.04360679970436071\n",
      "Class Spa: Recall Difference = -0.62\n",
      "Class Law_Enforcement: Recall Difference = 0.056306306306306286\n",
      "Class Business: Recall Difference = -0.10690280593193219\n",
      "Class Dresses: Recall Difference = -0.38414634146341464\n",
      "Class Water_Activities: Recall Difference = 0.08918918918918922\n",
      "Class Picnic: Recall Difference = 0.12727272727272732\n",
      "Class Rescue: Recall Difference = 0.0\n",
      "Class Cheering: Recall Difference = 0.016817063166529922\n",
      "Class Performance_And_Entertainment: Recall Difference = -0.04770423375074542\n",
      "Class Family: Recall Difference = -0.14000000000000004\n",
      "Data has been appended to ./runs_2023_12_02_11_08/validation_0.txt\n"
     ]
    },
    {
     "name": "stderr",
     "output_type": "stream",
     "text": [
      "100%|███████████████████████████████████████████████████████████████████████████| 26/26 [01:50<00:00,  4.24s/it]\n"
     ]
    },
    {
     "name": "stdout",
     "output_type": "stream",
     "text": [
      "Average Adversary epoch loss: 0.20684462441847876\n"
     ]
    },
    {
     "name": "stderr",
     "output_type": "stream",
     "text": [
      "100%|███████████████████████████████████████████████████████████████████████████| 26/26 [01:55<00:00,  4.45s/it]\n",
      "100%|███████████████████████████████████████████████████████████████████████████| 10/10 [00:19<00:00,  1.99s/it]\n"
     ]
    },
    {
     "name": "stdout",
     "output_type": "stream",
     "text": [
      "*****Epoch 11/300*****\n",
      "*****Train Loss:  0.212858 Val Loss:  0.280047*****\n",
      "*****Validation Accuracy: 42.66%*****\n",
      "*****Total Avg Disparity: 0.12740764756498008*****\n",
      "\n",
      "Class Team_Sports: Recall Difference = 0.16831902843463542\n",
      "Class Celebration: Recall Difference = -0.025581395348837188\n",
      "Class Parade: Recall Difference = -0.001482748788138033\n",
      "Class Waiter_Or_Waitress: Recall Difference = -0.12112806287563577\n",
      "Class Individual_Sports: Recall Difference = -0.033242465545963995\n",
      "Class Surgeons: Recall Difference = 0.15373244641537318\n",
      "Class Spa: Recall Difference = -0.27999999999999997\n",
      "Class Law_Enforcement: Recall Difference = 0.2682682682682682\n",
      "Class Business: Recall Difference = -0.1799850634802091\n",
      "Class Dresses: Recall Difference = -0.44241192411924124\n",
      "Class Water_Activities: Recall Difference = 0.13805405405405408\n",
      "Class Picnic: Recall Difference = -0.09090909090909094\n",
      "Class Rescue: Recall Difference = 0.03924050632911391\n",
      "Class Cheering: Recall Difference = -0.01702214930270718\n",
      "Class Performance_And_Entertainment: Recall Difference = 0.06414515716841296\n",
      "Class Family: Recall Difference = -0.015000000000000069\n",
      "Data has been appended to ./runs_2023_12_02_11_08/validation_0.txt\n"
     ]
    },
    {
     "name": "stderr",
     "output_type": "stream",
     "text": [
      "100%|███████████████████████████████████████████████████████████████████████████| 26/26 [01:51<00:00,  4.30s/it]\n"
     ]
    },
    {
     "name": "stdout",
     "output_type": "stream",
     "text": [
      "Average Adversary epoch loss: 0.18277389097672242\n"
     ]
    },
    {
     "name": "stderr",
     "output_type": "stream",
     "text": [
      "100%|███████████████████████████████████████████████████████████████████████████| 26/26 [01:55<00:00,  4.45s/it]\n",
      "100%|███████████████████████████████████████████████████████████████████████████| 10/10 [00:19<00:00,  1.99s/it]\n"
     ]
    },
    {
     "name": "stdout",
     "output_type": "stream",
     "text": [
      "*****Epoch 12/300*****\n",
      "*****Train Loss:  0.203335 Val Loss:  0.284436*****\n",
      "*****Validation Accuracy: 41.67%*****\n",
      "*****Total Avg Disparity: 0.16921915474210886*****\n",
      "\n",
      "Class Team_Sports: Recall Difference = 0.1583931803584983\n",
      "Class Celebration: Recall Difference = -0.05581395348837212\n",
      "Class Parade: Recall Difference = -0.0523524379811805\n",
      "Class Waiter_Or_Waitress: Recall Difference = -0.2112806287563569\n",
      "Class Individual_Sports: Recall Difference = -0.042026351658337124\n",
      "Class Surgeons: Recall Difference = 0.12342941611234295\n",
      "Class Spa: Recall Difference = -0.4\n",
      "Class Law_Enforcement: Recall Difference = 0.22547547547547545\n",
      "Class Business: Recall Difference = -0.17891816920943132\n",
      "Class Dresses: Recall Difference = -0.4315718157181572\n",
      "Class Water_Activities: Recall Difference = 0.07243243243243258\n",
      "Class Picnic: Recall Difference = 0.3636363636363637\n",
      "Class Rescue: Recall Difference = -0.0020253164556962022\n",
      "Class Cheering: Recall Difference = -0.06070549630844954\n",
      "Class Performance_And_Entertainment: Recall Difference = 0.0894454382826475\n",
      "Class Family: Recall Difference = -0.24\n",
      "Data has been appended to ./runs_2023_12_02_11_08/validation_0.txt\n"
     ]
    },
    {
     "name": "stderr",
     "output_type": "stream",
     "text": [
      "100%|███████████████████████████████████████████████████████████████████████████| 26/26 [01:50<00:00,  4.25s/it]\n"
     ]
    },
    {
     "name": "stdout",
     "output_type": "stream",
     "text": [
      "Average Adversary epoch loss: 0.17852682620286942\n"
     ]
    },
    {
     "name": "stderr",
     "output_type": "stream",
     "text": [
      "100%|███████████████████████████████████████████████████████████████████████████| 26/26 [01:53<00:00,  4.38s/it]\n",
      "100%|███████████████████████████████████████████████████████████████████████████| 10/10 [00:20<00:00,  2.01s/it]\n"
     ]
    },
    {
     "name": "stdout",
     "output_type": "stream",
     "text": [
      "*****Epoch 13/300*****\n",
      "*****Train Loss:  0.195700 Val Loss:  0.363390*****\n",
      "*****Validation Accuracy: 42.63%*****\n",
      "*****Total Avg Disparity: 0.1018230555219532*****\n",
      "\n",
      "Class Team_Sports: Recall Difference = 0.2024405908798973\n",
      "Class Celebration: Recall Difference = -0.037209302325581395\n",
      "Class Parade: Recall Difference = -0.04123182207014553\n",
      "Class Waiter_Or_Waitress: Recall Difference = -0.07998150716597319\n",
      "Class Individual_Sports: Recall Difference = -0.1128275026503105\n",
      "Class Surgeons: Recall Difference = 0.031042128603104235\n",
      "Class Spa: Recall Difference = -0.36\n",
      "Class Law_Enforcement: Recall Difference = 0.21221221221221215\n",
      "Class Business: Recall Difference = -0.04758348447668839\n",
      "Class Dresses: Recall Difference = -0.2825203252032521\n",
      "Class Water_Activities: Recall Difference = -0.006810810810810808\n",
      "Class Picnic: Recall Difference = 0.10909090909090902\n",
      "Class Rescue: Recall Difference = -0.007341772151898733\n",
      "Class Cheering: Recall Difference = -0.04922067268252665\n",
      "Class Performance_And_Entertainment: Recall Difference = -0.026322514694607835\n",
      "Class Family: Recall Difference = -0.02333333333333333\n",
      "Data has been appended to ./runs_2023_12_02_11_08/validation_0.txt\n"
     ]
    },
    {
     "name": "stderr",
     "output_type": "stream",
     "text": [
      "100%|███████████████████████████████████████████████████████████████████████████| 26/26 [01:50<00:00,  4.27s/it]\n"
     ]
    },
    {
     "name": "stdout",
     "output_type": "stream",
     "text": [
      "Average Adversary epoch loss: 0.17718976334883615\n"
     ]
    },
    {
     "name": "stderr",
     "output_type": "stream",
     "text": [
      "100%|███████████████████████████████████████████████████████████████████████████| 26/26 [01:54<00:00,  4.42s/it]\n",
      "100%|███████████████████████████████████████████████████████████████████████████| 10/10 [00:19<00:00,  1.99s/it]\n"
     ]
    },
    {
     "name": "stdout",
     "output_type": "stream",
     "text": [
      "*****Epoch 14/300*****\n",
      "*****Train Loss:  0.190093 Val Loss:  0.321760*****\n",
      "*****Validation Accuracy: 39.19%*****\n",
      "*****Total Avg Disparity: 0.14089135316813206*****\n",
      "\n",
      "Class Team_Sports: Recall Difference = 0.17747416360133117\n",
      "Class Celebration: Recall Difference = -0.0651162790697675\n",
      "Class Parade: Recall Difference = -0.005018534359851834\n",
      "Class Waiter_Or_Waitress: Recall Difference = -0.15626444752658344\n",
      "Class Individual_Sports: Recall Difference = 0.0009844010298347694\n",
      "Class Surgeons: Recall Difference = 0.13599408721359946\n",
      "Class Spa: Recall Difference = -0.64\n",
      "Class Law_Enforcement: Recall Difference = 0.16841841841841848\n",
      "Class Business: Recall Difference = -0.11938546890003199\n",
      "Class Dresses: Recall Difference = -0.26829268292682923\n",
      "Class Water_Activities: Recall Difference = -0.00421621621621604\n",
      "Class Picnic: Recall Difference = -0.2545454545454545\n",
      "Class Rescue: Recall Difference = 0.005316455696202531\n",
      "Class Cheering: Recall Difference = -0.1216160787530763\n",
      "Class Performance_And_Entertainment: Recall Difference = -0.03995229576624923\n",
      "Class Family: Recall Difference = -0.09166666666666665\n",
      "Data has been appended to ./runs_2023_12_02_11_08/validation_0.txt\n"
     ]
    },
    {
     "name": "stderr",
     "output_type": "stream",
     "text": [
      "100%|███████████████████████████████████████████████████████████████████████████| 26/26 [01:52<00:00,  4.33s/it]\n"
     ]
    },
    {
     "name": "stdout",
     "output_type": "stream",
     "text": [
      "Average Adversary epoch loss: 0.17804695207339066\n"
     ]
    },
    {
     "name": "stderr",
     "output_type": "stream",
     "text": [
      "100%|███████████████████████████████████████████████████████████████████████████| 26/26 [01:55<00:00,  4.43s/it]\n",
      "100%|███████████████████████████████████████████████████████████████████████████| 10/10 [00:20<00:00,  2.01s/it]\n"
     ]
    },
    {
     "name": "stdout",
     "output_type": "stream",
     "text": [
      "*****Epoch 15/300*****\n",
      "*****Train Loss:  0.185967 Val Loss:  0.296866*****\n",
      "*****Validation Accuracy: 42.16%*****\n",
      "*****Total Avg Disparity: 0.11386168331711516*****\n",
      "\n",
      "Class Team_Sports: Recall Difference = 0.10860045542126473\n",
      "Class Celebration: Recall Difference = 0.0209302325581395\n",
      "Class Parade: Recall Difference = 0.06655260906757926\n",
      "Class Waiter_Or_Waitress: Recall Difference = -0.1465557096625058\n",
      "Class Individual_Sports: Recall Difference = -0.12479176132061187\n",
      "Class Surgeons: Recall Difference = 0.06799704360679973\n",
      "Class Spa: Recall Difference = -0.18\n",
      "Class Law_Enforcement: Recall Difference = 0.21121121121121122\n",
      "Class Business: Recall Difference = -0.15800704150218708\n",
      "Class Dresses: Recall Difference = -0.3766937669376694\n",
      "Class Water_Activities: Recall Difference = 0.114054054054054\n",
      "Class Picnic: Recall Difference = -0.10909090909090902\n",
      "Class Rescue: Recall Difference = -0.024050632911392422\n",
      "Class Cheering: Recall Difference = -0.06419196062346186\n",
      "Class Performance_And_Entertainment: Recall Difference = -0.025726211772723384\n",
      "Class Family: Recall Difference = -0.02333333333333333\n",
      "Data has been appended to ./runs_2023_12_02_11_08/validation_0.txt\n"
     ]
    },
    {
     "name": "stderr",
     "output_type": "stream",
     "text": [
      "100%|███████████████████████████████████████████████████████████████████████████| 26/26 [01:51<00:00,  4.29s/it]\n"
     ]
    },
    {
     "name": "stdout",
     "output_type": "stream",
     "text": [
      "Average Adversary epoch loss: 0.1735337279163874\n"
     ]
    },
    {
     "name": "stderr",
     "output_type": "stream",
     "text": [
      "100%|███████████████████████████████████████████████████████████████████████████| 26/26 [01:52<00:00,  4.34s/it]\n",
      "100%|███████████████████████████████████████████████████████████████████████████| 10/10 [00:20<00:00,  2.02s/it]\n"
     ]
    },
    {
     "name": "stdout",
     "output_type": "stream",
     "text": [
      "*****Epoch 16/300*****\n",
      "*****Train Loss:  0.177884 Val Loss:  0.303218*****\n",
      "*****Validation Accuracy: 42.63%*****\n",
      "*****Total Avg Disparity: 0.11070285625071165*****\n",
      "\n",
      "Class Team_Sports: Recall Difference = 0.07453728031762707\n",
      "Class Celebration: Recall Difference = 0.006976744186046491\n",
      "Class Parade: Recall Difference = 0.023552894211576914\n",
      "Class Waiter_Or_Waitress: Recall Difference = -0.16597318539066114\n",
      "Class Individual_Sports: Recall Difference = -0.028396183552930554\n",
      "Class Surgeons: Recall Difference = 0.13451589061345162\n",
      "Class Spa: Recall Difference = -0.24\n",
      "Class Law_Enforcement: Recall Difference = 0.2597597597597597\n",
      "Class Business: Recall Difference = -0.09025925530779902\n",
      "Class Dresses: Recall Difference = -0.42682926829268286\n",
      "Class Water_Activities: Recall Difference = 0.01059459459459472\n",
      "Class Picnic: Recall Difference = -0.09090909090909094\n",
      "Class Rescue: Recall Difference = 0.02860759493670885\n",
      "Class Cheering: Recall Difference = 0.011074651353568499\n",
      "Class Performance_And_Entertainment: Recall Difference = -0.004259306584888045\n",
      "Class Family: Recall Difference = -0.175\n",
      "Data has been appended to ./runs_2023_12_02_11_08/validation_0.txt\n"
     ]
    },
    {
     "name": "stderr",
     "output_type": "stream",
     "text": [
      "100%|███████████████████████████████████████████████████████████████████████████| 26/26 [01:49<00:00,  4.22s/it]\n"
     ]
    },
    {
     "name": "stdout",
     "output_type": "stream",
     "text": [
      "Average Adversary epoch loss: 0.16661393355864745\n"
     ]
    },
    {
     "name": "stderr",
     "output_type": "stream",
     "text": [
      "100%|███████████████████████████████████████████████████████████████████████████| 26/26 [01:57<00:00,  4.50s/it]\n",
      "100%|███████████████████████████████████████████████████████████████████████████| 10/10 [00:19<00:00,  1.99s/it]\n"
     ]
    },
    {
     "name": "stdout",
     "output_type": "stream",
     "text": [
      "*****Epoch 17/300*****\n",
      "*****Train Loss:  0.171876 Val Loss:  0.291028*****\n",
      "*****Validation Accuracy: 42.74%*****\n",
      "*****Total Avg Disparity: 0.1402696398869949*****\n",
      "\n",
      "Class Team_Sports: Recall Difference = 0.12465697436795697\n",
      "Class Celebration: Recall Difference = -0.0023255813953488302\n",
      "Class Parade: Recall Difference = 0.04533789563729684\n",
      "Class Waiter_Or_Waitress: Recall Difference = -0.14932963476652789\n",
      "Class Individual_Sports: Recall Difference = -0.050469483568075124\n",
      "Class Surgeons: Recall Difference = 0.18994826311899476\n",
      "Class Spa: Recall Difference = -0.36\n",
      "Class Law_Enforcement: Recall Difference = 0.24799799799799793\n",
      "Class Business: Recall Difference = -0.05398485010135498\n",
      "Class Dresses: Recall Difference = -0.49254742547425484\n",
      "Class Water_Activities: Recall Difference = 0.07794594594594595\n",
      "Class Picnic: Recall Difference = 0.10909090909090902\n",
      "Class Rescue: Recall Difference = 0.09316455696202527\n",
      "Class Cheering: Recall Difference = 0.009844134536505345\n",
      "Class Performance_And_Entertainment: Recall Difference = -0.01933725189539144\n",
      "Class Family: Recall Difference = -0.21833333333333332\n",
      "Data has been appended to ./runs_2023_12_02_11_08/validation_0.txt\n"
     ]
    },
    {
     "name": "stderr",
     "output_type": "stream",
     "text": [
      "100%|███████████████████████████████████████████████████████████████████████████| 26/26 [01:52<00:00,  4.31s/it]\n"
     ]
    },
    {
     "name": "stdout",
     "output_type": "stream",
     "text": [
      "Average Adversary epoch loss: 0.1732367345919976\n"
     ]
    },
    {
     "name": "stderr",
     "output_type": "stream",
     "text": [
      "100%|███████████████████████████████████████████████████████████████████████████| 26/26 [01:53<00:00,  4.38s/it]\n",
      "100%|███████████████████████████████████████████████████████████████████████████| 10/10 [00:19<00:00,  2.00s/it]\n"
     ]
    },
    {
     "name": "stdout",
     "output_type": "stream",
     "text": [
      "*****Epoch 18/300*****\n",
      "*****Train Loss:  0.164583 Val Loss:  0.352901*****\n",
      "*****Validation Accuracy: 40.72%*****\n",
      "*****Total Avg Disparity: 0.0987125003872704*****\n",
      "\n",
      "Class Team_Sports: Recall Difference = 0.07958194663396967\n",
      "Class Celebration: Recall Difference = -0.07209302325581393\n",
      "Class Parade: Recall Difference = -0.040889649272882855\n",
      "Class Waiter_Or_Waitress: Recall Difference = -0.07535829865926941\n",
      "Class Individual_Sports: Recall Difference = -0.011093442374678242\n",
      "Class Surgeons: Recall Difference = 0.013303769401330351\n",
      "Class Spa: Recall Difference = -0.32\n",
      "Class Law_Enforcement: Recall Difference = 0.18668668668668664\n",
      "Class Business: Recall Difference = -0.1472314093673317\n",
      "Class Dresses: Recall Difference = -0.2378048780487805\n",
      "Class Water_Activities: Recall Difference = -0.0892972972972973\n",
      "Class Picnic: Recall Difference = -0.1636363636363637\n",
      "Class Rescue: Recall Difference = -0.0020253164556962022\n",
      "Class Cheering: Recall Difference = 0.04142739950779326\n",
      "Class Performance_And_Entertainment: Recall Difference = -0.013970525598432537\n",
      "Class Family: Recall Difference = -0.08500000000000005\n",
      "Data has been appended to ./runs_2023_12_02_11_08/validation_0.txt\n"
     ]
    },
    {
     "name": "stderr",
     "output_type": "stream",
     "text": [
      "100%|███████████████████████████████████████████████████████████████████████████| 26/26 [01:49<00:00,  4.22s/it]\n"
     ]
    },
    {
     "name": "stdout",
     "output_type": "stream",
     "text": [
      "Average Adversary epoch loss: 0.16789605583135897\n"
     ]
    },
    {
     "name": "stderr",
     "output_type": "stream",
     "text": [
      "100%|███████████████████████████████████████████████████████████████████████████| 26/26 [01:55<00:00,  4.43s/it]\n",
      "100%|███████████████████████████████████████████████████████████████████████████| 10/10 [00:19<00:00,  2.00s/it]\n"
     ]
    },
    {
     "name": "stdout",
     "output_type": "stream",
     "text": [
      "*****Epoch 19/300*****\n",
      "*****Train Loss:  0.162112 Val Loss:  0.278485*****\n",
      "*****Validation Accuracy: 43.20%*****\n",
      "*****Total Avg Disparity: 0.11124497969699856*****\n",
      "\n",
      "Class Team_Sports: Recall Difference = 0.11797746248613294\n",
      "Class Celebration: Recall Difference = -0.06046511627906974\n",
      "Class Parade: Recall Difference = 0.057827202737382455\n",
      "Class Waiter_Or_Waitress: Recall Difference = -0.036523347202958856\n",
      "Class Individual_Sports: Recall Difference = -0.006322883537785928\n",
      "Class Surgeons: Recall Difference = 0.12342941611234298\n",
      "Class Spa: Recall Difference = -0.16\n",
      "Class Law_Enforcement: Recall Difference = 0.3150650650650651\n",
      "Class Business: Recall Difference = -0.005227781926811115\n",
      "Class Dresses: Recall Difference = -0.19512195121951217\n",
      "Class Water_Activities: Recall Difference = 0.03654054054054051\n",
      "Class Picnic: Recall Difference = 0.2727272727272727\n",
      "Class Rescue: Recall Difference = 0.0551898734177215\n",
      "Class Cheering: Recall Difference = -0.022764561115668602\n",
      "Class Performance_And_Entertainment: Recall Difference = -0.014737200783712406\n",
      "Class Family: Recall Difference = -0.30000000000000004\n",
      "Data has been appended to ./runs_2023_12_02_11_08/validation_0.txt\n"
     ]
    },
    {
     "name": "stderr",
     "output_type": "stream",
     "text": [
      "100%|███████████████████████████████████████████████████████████████████████████| 26/26 [01:50<00:00,  4.24s/it]\n"
     ]
    },
    {
     "name": "stdout",
     "output_type": "stream",
     "text": [
      "Average Adversary epoch loss: 0.1646690947505144\n"
     ]
    },
    {
     "name": "stderr",
     "output_type": "stream",
     "text": [
      "100%|███████████████████████████████████████████████████████████████████████████| 26/26 [01:55<00:00,  4.44s/it]\n",
      "100%|███████████████████████████████████████████████████████████████████████████| 10/10 [00:19<00:00,  2.00s/it]\n"
     ]
    },
    {
     "name": "stdout",
     "output_type": "stream",
     "text": [
      "*****Epoch 20/300*****\n",
      "*****Train Loss:  0.152381 Val Loss:  0.306221*****\n",
      "*****Validation Accuracy: 42.02%*****\n",
      "*****Total Avg Disparity: 0.12471495543145532*****\n",
      "\n",
      "Class Team_Sports: Recall Difference = 0.14088865533952238\n",
      "Class Celebration: Recall Difference = 0.05116279069767449\n",
      "Class Parade: Recall Difference = -0.10544625035642996\n",
      "Class Waiter_Or_Waitress: Recall Difference = -0.033749422098936666\n",
      "Class Individual_Sports: Recall Difference = -0.00034075420263512957\n",
      "Class Surgeons: Recall Difference = 0.056910569105691144\n",
      "Class Spa: Recall Difference = -0.36\n",
      "Class Law_Enforcement: Recall Difference = 0.24124124124124113\n",
      "Class Business: Recall Difference = -0.11426437640029873\n",
      "Class Dresses: Recall Difference = -0.5094850948509486\n",
      "Class Water_Activities: Recall Difference = 0.009513513513513538\n",
      "Class Picnic: Recall Difference = -0.16363636363636364\n",
      "Class Rescue: Recall Difference = 0.05063291139240506\n",
      "Class Cheering: Recall Difference = -0.048400328137817875\n",
      "Class Performance_And_Entertainment: Recall Difference = -0.031433682596473334\n",
      "Class Family: Recall Difference = -0.07833333333333337\n",
      "Data has been appended to ./runs_2023_12_02_11_08/validation_0.txt\n"
     ]
    },
    {
     "name": "stderr",
     "output_type": "stream",
     "text": [
      "100%|███████████████████████████████████████████████████████████████████████████| 26/26 [01:50<00:00,  4.24s/it]\n"
     ]
    },
    {
     "name": "stdout",
     "output_type": "stream",
     "text": [
      "Average Adversary epoch loss: 0.16309296626311082\n"
     ]
    },
    {
     "name": "stderr",
     "output_type": "stream",
     "text": [
      "100%|███████████████████████████████████████████████████████████████████████████| 26/26 [01:55<00:00,  4.42s/it]\n",
      "100%|███████████████████████████████████████████████████████████████████████████| 10/10 [00:19<00:00,  1.98s/it]\n"
     ]
    },
    {
     "name": "stdout",
     "output_type": "stream",
     "text": [
      "*****Epoch 21/300*****\n",
      "*****Train Loss:  0.147717 Val Loss:  0.281574*****\n",
      "*****Validation Accuracy: 43.35%*****\n",
      "*****Total Avg Disparity: 0.10943144326970189*****\n",
      "\n",
      "Class Team_Sports: Recall Difference = 0.09121270508553747\n",
      "Class Celebration: Recall Difference = -0.12558139534883722\n",
      "Class Parade: Recall Difference = -0.0537781579697747\n",
      "Class Waiter_Or_Waitress: Recall Difference = 0.000462320850670328\n",
      "Class Individual_Sports: Recall Difference = -0.06599273057701044\n",
      "Class Surgeons: Recall Difference = 0.17073170731707318\n",
      "Class Spa: Recall Difference = -0.42000000000000004\n",
      "Class Law_Enforcement: Recall Difference = 0.10885885885885885\n",
      "Class Business: Recall Difference = -0.13144137415982082\n",
      "Class Dresses: Recall Difference = -0.35975609756097565\n",
      "Class Water_Activities: Recall Difference = 0.017189189189189213\n",
      "Class Picnic: Recall Difference = -0.018181818181818132\n",
      "Class Rescue: Recall Difference = 0.02708860759493681\n",
      "Class Cheering: Recall Difference = -0.03712059064807216\n",
      "Class Performance_And_Entertainment: Recall Difference = 0.01184087230598857\n",
      "Class Family: Recall Difference = -0.11166666666666666\n",
      "Data has been appended to ./runs_2023_12_02_11_08/validation_0.txt\n"
     ]
    },
    {
     "name": "stderr",
     "output_type": "stream",
     "text": [
      "100%|███████████████████████████████████████████████████████████████████████████| 26/26 [01:49<00:00,  4.23s/it]\n"
     ]
    },
    {
     "name": "stdout",
     "output_type": "stream",
     "text": [
      "Average Adversary epoch loss: 0.16428779294857612\n"
     ]
    },
    {
     "name": "stderr",
     "output_type": "stream",
     "text": [
      "100%|███████████████████████████████████████████████████████████████████████████| 26/26 [01:52<00:00,  4.35s/it]\n",
      "100%|███████████████████████████████████████████████████████████████████████████| 10/10 [00:19<00:00,  2.00s/it]\n"
     ]
    },
    {
     "name": "stdout",
     "output_type": "stream",
     "text": [
      "*****Epoch 22/300*****\n",
      "*****Train Loss:  0.142653 Val Loss:  0.296529*****\n",
      "*****Validation Accuracy: 41.96%*****\n",
      "*****Total Avg Disparity: 0.11424040976432843*****\n",
      "\n",
      "Class Team_Sports: Recall Difference = 0.14991533835464466\n",
      "Class Celebration: Recall Difference = -0.016279069767441867\n",
      "Class Parade: Recall Difference = -0.009637867122896993\n",
      "Class Waiter_Or_Waitress: Recall Difference = -0.10171058714748027\n",
      "Class Individual_Sports: Recall Difference = -0.036990761774950864\n",
      "Class Surgeons: Recall Difference = 0.0753880266075389\n",
      "Class Spa: Recall Difference = -0.62\n",
      "Class Law_Enforcement: Recall Difference = 0.18693693693693697\n",
      "Class Business: Recall Difference = -0.00821508588498876\n",
      "Class Dresses: Recall Difference = -0.39972899728997285\n",
      "Class Water_Activities: Recall Difference = -0.009837837837837926\n",
      "Class Picnic: Recall Difference = -0.10909090909090907\n",
      "Class Rescue: Recall Difference = 0.010632911392405062\n",
      "Class Cheering: Recall Difference = -0.012100082034454479\n",
      "Class Performance_And_Entertainment: Recall Difference = 0.05971547832012952\n",
      "Class Family: Recall Difference = -0.021666666666666667\n",
      "Data has been appended to ./runs_2023_12_02_11_08/validation_0.txt\n"
     ]
    },
    {
     "name": "stderr",
     "output_type": "stream",
     "text": [
      "100%|███████████████████████████████████████████████████████████████████████████| 26/26 [01:51<00:00,  4.30s/it]\n"
     ]
    },
    {
     "name": "stdout",
     "output_type": "stream",
     "text": [
      "Average Adversary epoch loss: 0.1629847758091413\n"
     ]
    },
    {
     "name": "stderr",
     "output_type": "stream",
     "text": [
      "100%|███████████████████████████████████████████████████████████████████████████| 26/26 [01:55<00:00,  4.46s/it]\n",
      "100%|███████████████████████████████████████████████████████████████████████████| 10/10 [00:19<00:00,  1.95s/it]\n"
     ]
    },
    {
     "name": "stdout",
     "output_type": "stream",
     "text": [
      "*****Epoch 23/300*****\n",
      "*****Train Loss:  0.138728 Val Loss:  0.291481*****\n",
      "*****Validation Accuracy: 43.12%*****\n",
      "*****Total Avg Disparity: 0.13178035125333132*****\n",
      "\n",
      "Class Team_Sports: Recall Difference = 0.142161499386933\n",
      "Class Celebration: Recall Difference = -0.07209302325581396\n",
      "Class Parade: Recall Difference = -0.1057313943541488\n",
      "Class Waiter_Or_Waitress: Recall Difference = -0.1950993989828941\n",
      "Class Individual_Sports: Recall Difference = -0.11006360745115851\n",
      "Class Surgeons: Recall Difference = 0.10495195861049514\n",
      "Class Spa: Recall Difference = -0.5599999999999999\n",
      "Class Law_Enforcement: Recall Difference = 0.11736736736736733\n",
      "Class Business: Recall Difference = -0.1830790568654646\n",
      "Class Dresses: Recall Difference = -0.3292682926829269\n",
      "Class Water_Activities: Recall Difference = 0.024972972972973073\n",
      "Class Picnic: Recall Difference = -0.03636363636363632\n",
      "Class Rescue: Recall Difference = 0.047848101265822784\n",
      "Class Cheering: Recall Difference = -0.018662838392124695\n",
      "Class Performance_And_Entertainment: Recall Difference = -0.022489138768208572\n",
      "Class Family: Recall Difference = -0.03833333333333333\n",
      "Data has been appended to ./runs_2023_12_02_11_08/validation_0.txt\n"
     ]
    },
    {
     "name": "stderr",
     "output_type": "stream",
     "text": [
      "100%|███████████████████████████████████████████████████████████████████████████| 26/26 [01:49<00:00,  4.22s/it]\n"
     ]
    },
    {
     "name": "stdout",
     "output_type": "stream",
     "text": [
      "Average Adversary epoch loss: 0.16328692550842577\n"
     ]
    },
    {
     "name": "stderr",
     "output_type": "stream",
     "text": [
      "100%|███████████████████████████████████████████████████████████████████████████| 26/26 [01:55<00:00,  4.44s/it]\n",
      "100%|███████████████████████████████████████████████████████████████████████████| 10/10 [00:19<00:00,  1.98s/it]\n"
     ]
    },
    {
     "name": "stdout",
     "output_type": "stream",
     "text": [
      "*****Epoch 24/300*****\n",
      "*****Train Loss:  0.131491 Val Loss:  0.328035*****\n",
      "*****Validation Accuracy: 40.89%*****\n",
      "*****Total Avg Disparity: 0.1062372864104608*****\n",
      "\n",
      "Class Team_Sports: Recall Difference = 0.08727739826005709\n",
      "Class Celebration: Recall Difference = -0.05116279069767442\n",
      "Class Parade: Recall Difference = -0.018591388651268914\n",
      "Class Waiter_Or_Waitress: Recall Difference = -0.07165973185390662\n",
      "Class Individual_Sports: Recall Difference = -0.1141526578827805\n",
      "Class Surgeons: Recall Difference = 0.11677753141167782\n",
      "Class Spa: Recall Difference = -0.22000000000000003\n",
      "Class Law_Enforcement: Recall Difference = 0.10385385385385384\n",
      "Class Business: Recall Difference = -0.06774778619438813\n",
      "Class Dresses: Recall Difference = -0.4024390243902439\n",
      "Class Water_Activities: Recall Difference = -0.004756756756756686\n",
      "Class Picnic: Recall Difference = -0.21818181818181817\n",
      "Class Rescue: Recall Difference = 0.02531645569620253\n",
      "Class Cheering: Recall Difference = -0.038146021328958196\n",
      "Class Performance_And_Entertainment: Recall Difference = -0.0030667007411193103\n",
      "Class Family: Recall Difference = -0.15666666666666665\n",
      "Data has been appended to ./runs_2023_12_02_11_08/validation_0.txt\n"
     ]
    },
    {
     "name": "stderr",
     "output_type": "stream",
     "text": [
      "100%|███████████████████████████████████████████████████████████████████████████| 26/26 [01:50<00:00,  4.24s/it]\n"
     ]
    },
    {
     "name": "stdout",
     "output_type": "stream",
     "text": [
      "Average Adversary epoch loss: 0.16275223745749548\n"
     ]
    },
    {
     "name": "stderr",
     "output_type": "stream",
     "text": [
      "100%|███████████████████████████████████████████████████████████████████████████| 26/26 [01:55<00:00,  4.44s/it]\n",
      "100%|███████████████████████████████████████████████████████████████████████████| 10/10 [00:19<00:00,  1.99s/it]\n"
     ]
    },
    {
     "name": "stdout",
     "output_type": "stream",
     "text": [
      "*****Epoch 25/300*****\n",
      "*****Train Loss:  0.129997 Val Loss:  0.302919*****\n",
      "*****Validation Accuracy: 38.64%*****\n",
      "*****Total Avg Disparity: 0.13491286111043072*****\n",
      "\n",
      "Class Team_Sports: Recall Difference = 0.07141939627488758\n",
      "Class Celebration: Recall Difference = -0.03720930232558137\n",
      "Class Parade: Recall Difference = -0.0284573709723408\n",
      "Class Waiter_Or_Waitress: Recall Difference = -0.10078594544613961\n",
      "Class Individual_Sports: Recall Difference = -0.04013327275480838\n",
      "Class Surgeons: Recall Difference = 0.1411677753141168\n",
      "Class Spa: Recall Difference = -0.3\n",
      "Class Law_Enforcement: Recall Difference = 0.1661661661661662\n",
      "Class Business: Recall Difference = -0.0761762509335325\n",
      "Class Dresses: Recall Difference = -0.5121951219512195\n",
      "Class Water_Activities: Recall Difference = 0.0514594594594594\n",
      "Class Picnic: Recall Difference = -0.38181818181818183\n",
      "Class Rescue: Recall Difference = -0.006075949367088593\n",
      "Class Cheering: Recall Difference = -0.005537325676784277\n",
      "Class Performance_And_Entertainment: Recall Difference = 0.050004259306584864\n",
      "Class Family: Recall Difference = -0.19000000000000006\n",
      "Data has been appended to ./runs_2023_12_02_11_08/validation_0.txt\n"
     ]
    },
    {
     "name": "stderr",
     "output_type": "stream",
     "text": [
      "100%|███████████████████████████████████████████████████████████████████████████| 26/26 [01:51<00:00,  4.29s/it]\n"
     ]
    },
    {
     "name": "stdout",
     "output_type": "stream",
     "text": [
      "Average Adversary epoch loss: 0.1605599236029845\n"
     ]
    },
    {
     "name": "stderr",
     "output_type": "stream",
     "text": [
      "100%|███████████████████████████████████████████████████████████████████████████| 26/26 [01:55<00:00,  4.44s/it]\n",
      "100%|███████████████████████████████████████████████████████████████████████████| 10/10 [00:19<00:00,  1.96s/it]\n"
     ]
    },
    {
     "name": "stdout",
     "output_type": "stream",
     "text": [
      "*****Epoch 26/300*****\n",
      "*****Train Loss:  0.125914 Val Loss:  0.320954*****\n",
      "*****Validation Accuracy: 42.94%*****\n",
      "*****Total Avg Disparity: 0.14097175551604668*****\n",
      "\n",
      "Class Team_Sports: Recall Difference = 0.14171775559058786\n",
      "Class Celebration: Recall Difference = -0.025581395348837216\n",
      "Class Parade: Recall Difference = 0.03604220131166236\n",
      "Class Waiter_Or_Waitress: Recall Difference = -0.1317614424410541\n",
      "Class Individual_Sports: Recall Difference = -0.08541572012721499\n",
      "Class Surgeons: Recall Difference = 0.17812269031781233\n",
      "Class Spa: Recall Difference = -0.44000000000000006\n",
      "Class Law_Enforcement: Recall Difference = 0.20020020020020024\n",
      "Class Business: Recall Difference = -0.057292222340766086\n",
      "Class Dresses: Recall Difference = -0.31097560975609756\n",
      "Class Water_Activities: Recall Difference = 0.09643243243243249\n",
      "Class Picnic: Recall Difference = 0.2727272727272728\n",
      "Class Rescue: Recall Difference = 0.009113924050632882\n",
      "Class Cheering: Recall Difference = -0.06788351107465135\n",
      "Class Performance_And_Entertainment: Recall Difference = -0.020615043870857802\n",
      "Class Family: Recall Difference = -0.1816666666666667\n",
      "Data has been appended to ./runs_2023_12_02_11_08/validation_0.txt\n"
     ]
    },
    {
     "name": "stderr",
     "output_type": "stream",
     "text": [
      "100%|███████████████████████████████████████████████████████████████████████████| 26/26 [01:51<00:00,  4.27s/it]\n"
     ]
    },
    {
     "name": "stdout",
     "output_type": "stream",
     "text": [
      "Average Adversary epoch loss: 0.16821394230310732\n"
     ]
    },
    {
     "name": "stderr",
     "output_type": "stream",
     "text": [
      "100%|███████████████████████████████████████████████████████████████████████████| 26/26 [01:55<00:00,  4.46s/it]\n",
      "100%|███████████████████████████████████████████████████████████████████████████| 10/10 [00:19<00:00,  1.99s/it]\n"
     ]
    },
    {
     "name": "stdout",
     "output_type": "stream",
     "text": [
      "*****Epoch 27/300*****\n",
      "*****Train Loss:  0.119873 Val Loss:  0.326490*****\n",
      "*****Validation Accuracy: 40.61%*****\n",
      "*****Total Avg Disparity: 0.13261077294878612*****\n",
      "\n",
      "Class Team_Sports: Recall Difference = 0.10832019618146804\n",
      "Class Celebration: Recall Difference = -0.09302325581395349\n",
      "Class Parade: Recall Difference = 0.04813230681494156\n",
      "Class Waiter_Or_Waitress: Recall Difference = -0.19602404068423485\n",
      "Class Individual_Sports: Recall Difference = -0.04675904891715893\n",
      "Class Surgeons: Recall Difference = 0.08203991130820393\n",
      "Class Spa: Recall Difference = -0.33999999999999997\n",
      "Class Law_Enforcement: Recall Difference = 0.1816816816816817\n",
      "Class Business: Recall Difference = -0.08460471567267686\n",
      "Class Dresses: Recall Difference = -0.47425474254742556\n",
      "Class Water_Activities: Recall Difference = 0.06994594594594605\n",
      "Class Picnic: Recall Difference = 0.18181818181818188\n",
      "Class Rescue: Recall Difference = 0.02531645569620253\n",
      "Class Cheering: Recall Difference = 0.042247744052502034\n",
      "Class Performance_And_Entertainment: Recall Difference = -0.03927080671266717\n",
      "Class Family: Recall Difference = -0.10833333333333334\n",
      "Data has been appended to ./runs_2023_12_02_11_08/validation_0.txt\n"
     ]
    },
    {
     "name": "stderr",
     "output_type": "stream",
     "text": [
      "100%|███████████████████████████████████████████████████████████████████████████| 26/26 [01:51<00:00,  4.28s/it]\n"
     ]
    },
    {
     "name": "stdout",
     "output_type": "stream",
     "text": [
      "Average Adversary epoch loss: 0.16512207457652459\n"
     ]
    },
    {
     "name": "stderr",
     "output_type": "stream",
     "text": [
      "100%|███████████████████████████████████████████████████████████████████████████| 26/26 [01:54<00:00,  4.40s/it]\n",
      "100%|███████████████████████████████████████████████████████████████████████████| 10/10 [00:20<00:00,  2.02s/it]\n"
     ]
    },
    {
     "name": "stdout",
     "output_type": "stream",
     "text": [
      "*****Epoch 28/300*****\n",
      "*****Train Loss:  0.117422 Val Loss:  0.316057*****\n",
      "*****Validation Accuracy: 40.58%*****\n",
      "*****Total Avg Disparity: 0.12278119026014958*****\n",
      "\n",
      "Class Team_Sports: Recall Difference = 0.16787528463829038\n",
      "Class Celebration: Recall Difference = 0.011627906976744096\n",
      "Class Parade: Recall Difference = 0.03147989734816076\n",
      "Class Waiter_Or_Waitress: Recall Difference = -0.17475728155339806\n",
      "Class Individual_Sports: Recall Difference = -0.004240496743904365\n",
      "Class Surgeons: Recall Difference = 0.14042867701404288\n",
      "Class Spa: Recall Difference = -0.44000000000000006\n",
      "Class Law_Enforcement: Recall Difference = 0.2985485485485486\n",
      "Class Business: Recall Difference = -0.1239731142643764\n",
      "Class Dresses: Recall Difference = -0.2621951219512195\n",
      "Class Water_Activities: Recall Difference = 0.0023783783783785095\n",
      "Class Picnic: Recall Difference = 0.1454545454545455\n",
      "Class Rescue: Recall Difference = 0.03797468354430379\n",
      "Class Cheering: Recall Difference = -0.02666119770303528\n",
      "Class Performance_And_Entertainment: Recall Difference = -0.01857057671011164\n",
      "Class Family: Recall Difference = -0.07833333333333337\n",
      "Data has been appended to ./runs_2023_12_02_11_08/validation_0.txt\n"
     ]
    },
    {
     "name": "stderr",
     "output_type": "stream",
     "text": [
      "100%|███████████████████████████████████████████████████████████████████████████| 26/26 [01:50<00:00,  4.23s/it]\n"
     ]
    },
    {
     "name": "stdout",
     "output_type": "stream",
     "text": [
      "Average Adversary epoch loss: 0.16493786011750883\n"
     ]
    },
    {
     "name": "stderr",
     "output_type": "stream",
     "text": [
      "100%|███████████████████████████████████████████████████████████████████████████| 26/26 [01:55<00:00,  4.44s/it]\n",
      "100%|███████████████████████████████████████████████████████████████████████████| 10/10 [00:20<00:00,  2.01s/it]\n"
     ]
    },
    {
     "name": "stdout",
     "output_type": "stream",
     "text": [
      "*****Epoch 29/300*****\n",
      "*****Train Loss:  0.110991 Val Loss:  0.287057*****\n",
      "*****Validation Accuracy: 44.50%*****\n",
      "*****Total Avg Disparity: 0.13555033258794652*****\n",
      "\n",
      "Class Team_Sports: Recall Difference = 0.12773982600572176\n",
      "Class Celebration: Recall Difference = -0.03488372093023255\n",
      "Class Parade: Recall Difference = -0.0518391787852866\n",
      "Class Waiter_Or_Waitress: Recall Difference = -0.04623208506703658\n",
      "Class Individual_Sports: Recall Difference = -0.18181129789489636\n",
      "Class Surgeons: Recall Difference = 0.1529933481152993\n",
      "Class Spa: Recall Difference = -0.3\n",
      "Class Law_Enforcement: Recall Difference = 0.2885385385385384\n",
      "Class Business: Recall Difference = -0.11682492265016534\n",
      "Class Dresses: Recall Difference = -0.4803523035230352\n",
      "Class Water_Activities: Recall Difference = 0.03816216216216212\n",
      "Class Picnic: Recall Difference = -0.18181818181818182\n",
      "Class Rescue: Recall Difference = -0.07873417721518985\n",
      "Class Cheering: Recall Difference = 0.013945857260049224\n",
      "Class Performance_And_Entertainment: Recall Difference = -0.008263054774682671\n",
      "Class Family: Recall Difference = -0.06666666666666671\n",
      "Data has been appended to ./runs_2023_12_02_11_08/validation_0.txt\n"
     ]
    },
    {
     "name": "stderr",
     "output_type": "stream",
     "text": [
      "100%|███████████████████████████████████████████████████████████████████████████| 26/26 [01:51<00:00,  4.28s/it]\n"
     ]
    },
    {
     "name": "stdout",
     "output_type": "stream",
     "text": [
      "Average Adversary epoch loss: 0.16122613216821963\n"
     ]
    },
    {
     "name": "stderr",
     "output_type": "stream",
     "text": [
      "100%|███████████████████████████████████████████████████████████████████████████| 26/26 [01:54<00:00,  4.41s/it]\n",
      "100%|███████████████████████████████████████████████████████████████████████████| 10/10 [00:20<00:00,  2.00s/it]\n"
     ]
    },
    {
     "name": "stdout",
     "output_type": "stream",
     "text": [
      "*****Epoch 30/300*****\n",
      "*****Train Loss:  0.111206 Val Loss:  0.320545*****\n",
      "*****Validation Accuracy: 42.48%*****\n",
      "*****Total Avg Disparity: 0.13539676333077644*****\n",
      "\n",
      "Class Team_Sports: Recall Difference = 0.08565423016290064\n",
      "Class Celebration: Recall Difference = -0.08604651162790697\n",
      "Class Parade: Recall Difference = -0.04237239806102089\n",
      "Class Waiter_Or_Waitress: Recall Difference = -0.14147018030513175\n",
      "Class Individual_Sports: Recall Difference = -0.048879297289111\n",
      "Class Surgeons: Recall Difference = 0.05617147080561724\n",
      "Class Spa: Recall Difference = -0.6599999999999999\n",
      "Class Law_Enforcement: Recall Difference = 0.18943943943943942\n",
      "Class Business: Recall Difference = -0.11533127067107646\n",
      "Class Dresses: Recall Difference = -0.42682926829268286\n",
      "Class Water_Activities: Recall Difference = 0.01913513513513515\n",
      "Class Picnic: Recall Difference = 0.018181818181818077\n",
      "Class Rescue: Recall Difference = -0.03468354430379747\n",
      "Class Cheering: Recall Difference = 0.056193601312551356\n",
      "Class Performance_And_Entertainment: Recall Difference = -0.07096004770423378\n",
      "Class Family: Recall Difference = -0.11500000000000002\n",
      "Data has been appended to ./runs_2023_12_02_11_08/validation_0.txt\n"
     ]
    },
    {
     "name": "stderr",
     "output_type": "stream",
     "text": [
      "100%|███████████████████████████████████████████████████████████████████████████| 26/26 [01:50<00:00,  4.24s/it]\n"
     ]
    },
    {
     "name": "stdout",
     "output_type": "stream",
     "text": [
      "Average Adversary epoch loss: 0.16135166585445404\n"
     ]
    },
    {
     "name": "stderr",
     "output_type": "stream",
     "text": [
      "100%|███████████████████████████████████████████████████████████████████████████| 26/26 [01:54<00:00,  4.41s/it]\n",
      "100%|███████████████████████████████████████████████████████████████████████████| 10/10 [00:20<00:00,  2.00s/it]\n"
     ]
    },
    {
     "name": "stdout",
     "output_type": "stream",
     "text": [
      "*****Epoch 31/300*****\n",
      "*****Train Loss:  0.107306 Val Loss:  0.347015*****\n",
      "*****Validation Accuracy: 39.25%*****\n",
      "*****Total Avg Disparity: 0.10206318649573662*****\n",
      "\n",
      "Class Team_Sports: Recall Difference = 0.14553628773281957\n",
      "Class Celebration: Recall Difference = -0.018604651162790642\n",
      "Class Parade: Recall Difference = 0.0532648987738808\n",
      "Class Waiter_Or_Waitress: Recall Difference = -0.05409153952843271\n",
      "Class Individual_Sports: Recall Difference = -0.001930940481599308\n",
      "Class Surgeons: Recall Difference = 0.12269031781226905\n",
      "Class Spa: Recall Difference = -0.45999999999999996\n",
      "Class Law_Enforcement: Recall Difference = 0.28278278278278274\n",
      "Class Business: Recall Difference = -0.05505174437213273\n",
      "Class Dresses: Recall Difference = -0.15243902439024387\n",
      "Class Water_Activities: Recall Difference = 0.055027027027027\n",
      "Class Picnic: Recall Difference = -0.05454545454545451\n",
      "Class Rescue: Recall Difference = 0.06177215189873425\n",
      "Class Cheering: Recall Difference = -0.030147662018047583\n",
      "Class Performance_And_Entertainment: Recall Difference = 0.05179316807223783\n",
      "Class Family: Recall Difference = 0.03333333333333334\n",
      "Data has been appended to ./runs_2023_12_02_11_08/validation_0.txt\n"
     ]
    },
    {
     "name": "stderr",
     "output_type": "stream",
     "text": [
      "100%|███████████████████████████████████████████████████████████████████████████| 26/26 [01:51<00:00,  4.27s/it]\n"
     ]
    },
    {
     "name": "stdout",
     "output_type": "stream",
     "text": [
      "Average Adversary epoch loss: 0.16818920637552554\n"
     ]
    },
    {
     "name": "stderr",
     "output_type": "stream",
     "text": [
      "100%|███████████████████████████████████████████████████████████████████████████| 26/26 [01:54<00:00,  4.39s/it]\n",
      "100%|███████████████████████████████████████████████████████████████████████████| 10/10 [00:19<00:00,  1.98s/it]\n"
     ]
    },
    {
     "name": "stdout",
     "output_type": "stream",
     "text": [
      "*****Epoch 32/300*****\n",
      "*****Train Loss:  0.104704 Val Loss:  0.316887*****\n",
      "*****Validation Accuracy: 39.71%*****\n",
      "*****Total Avg Disparity: 0.10808081704913758*****\n",
      "\n",
      "Class Team_Sports: Recall Difference = 0.1357155368716062\n",
      "Class Celebration: Recall Difference = -0.0697674418604651\n",
      "Class Parade: Recall Difference = 0.012945537496435622\n",
      "Class Waiter_Or_Waitress: Recall Difference = -0.17845584835876094\n",
      "Class Individual_Sports: Recall Difference = -0.04384370740572474\n",
      "Class Surgeons: Recall Difference = 0.09903917220990383\n",
      "Class Spa: Recall Difference = -0.38\n",
      "Class Law_Enforcement: Recall Difference = 0.22022022022022017\n",
      "Class Business: Recall Difference = -0.02997972900885526\n",
      "Class Dresses: Recall Difference = -0.31097560975609756\n",
      "Class Water_Activities: Recall Difference = 0.02908108108108104\n",
      "Class Picnic: Recall Difference = -0.14545454545454548\n",
      "Class Rescue: Recall Difference = 0.025316455696202535\n",
      "Class Cheering: Recall Difference = -0.007383100902378981\n",
      "Class Performance_And_Entertainment: Recall Difference = -0.024448419797257037\n",
      "Class Family: Recall Difference = 0.01666666666666669\n",
      "Data has been appended to ./runs_2023_12_02_11_08/validation_0.txt\n"
     ]
    },
    {
     "name": "stderr",
     "output_type": "stream",
     "text": [
      "100%|███████████████████████████████████████████████████████████████████████████| 26/26 [01:51<00:00,  4.27s/it]\n"
     ]
    },
    {
     "name": "stdout",
     "output_type": "stream",
     "text": [
      "Average Adversary epoch loss: 0.163146245938081\n"
     ]
    },
    {
     "name": "stderr",
     "output_type": "stream",
     "text": [
      "100%|███████████████████████████████████████████████████████████████████████████| 26/26 [01:57<00:00,  4.50s/it]\n",
      "100%|███████████████████████████████████████████████████████████████████████████| 10/10 [00:19<00:00,  1.95s/it]\n"
     ]
    },
    {
     "name": "stdout",
     "output_type": "stream",
     "text": [
      "*****Epoch 33/300*****\n",
      "*****Train Loss:  0.100820 Val Loss:  0.332418*****\n",
      "*****Validation Accuracy: 36.13%*****\n",
      "*****Total Avg Disparity: 0.12721472041545157*****\n",
      "\n",
      "Class Team_Sports: Recall Difference = 0.09117767268056287\n",
      "Class Celebration: Recall Difference = -0.13953488372093026\n",
      "Class Parade: Recall Difference = 0.016823495865412014\n",
      "Class Waiter_Or_Waitress: Recall Difference = -0.140545538603791\n",
      "Class Individual_Sports: Recall Difference = -0.051453884597910116\n",
      "Class Surgeons: Recall Difference = 0.10421286031042132\n",
      "Class Spa: Recall Difference = -0.3399999999999999\n",
      "Class Law_Enforcement: Recall Difference = 0.15490490490490488\n",
      "Class Business: Recall Difference = -0.024325189373733097\n",
      "Class Dresses: Recall Difference = -0.16463414634146345\n",
      "Class Water_Activities: Recall Difference = 0.021081081081081088\n",
      "Class Picnic: Recall Difference = -0.4\n",
      "Class Rescue: Recall Difference = -0.06810126582278483\n",
      "Class Cheering: Recall Difference = 0.0680885972108286\n",
      "Class Performance_And_Entertainment: Recall Difference = 0.013885339466734814\n",
      "Class Family: Recall Difference = -0.2366666666666667\n",
      "Data has been appended to ./runs_2023_12_02_11_08/validation_0.txt\n"
     ]
    },
    {
     "name": "stderr",
     "output_type": "stream",
     "text": [
      "100%|███████████████████████████████████████████████████████████████████████████| 26/26 [01:50<00:00,  4.24s/it]\n"
     ]
    },
    {
     "name": "stdout",
     "output_type": "stream",
     "text": [
      "Average Adversary epoch loss: 0.1619825798731584\n"
     ]
    },
    {
     "name": "stderr",
     "output_type": "stream",
     "text": [
      "100%|███████████████████████████████████████████████████████████████████████████| 26/26 [01:56<00:00,  4.47s/it]\n",
      "100%|███████████████████████████████████████████████████████████████████████████| 10/10 [00:20<00:00,  2.01s/it]\n"
     ]
    },
    {
     "name": "stdout",
     "output_type": "stream",
     "text": [
      "*****Epoch 34/300*****\n",
      "*****Train Loss:  0.099944 Val Loss:  0.324058*****\n",
      "*****Validation Accuracy: 44.30%*****\n",
      "*****Total Avg Disparity: 0.1400751483354144*****\n",
      "\n",
      "Class Team_Sports: Recall Difference = 0.12768143866409765\n",
      "Class Celebration: Recall Difference = -0.020930232558139528\n",
      "Class Parade: Recall Difference = 0.05218135158254916\n",
      "Class Waiter_Or_Waitress: Recall Difference = -0.15996301433194637\n",
      "Class Individual_Sports: Recall Difference = -0.019082235347569254\n",
      "Class Surgeons: Recall Difference = 0.147819660014782\n",
      "Class Spa: Recall Difference = -0.32\n",
      "Class Law_Enforcement: Recall Difference = 0.25475475475475473\n",
      "Class Business: Recall Difference = -0.1536327749919983\n",
      "Class Dresses: Recall Difference = -0.4803523035230352\n",
      "Class Water_Activities: Recall Difference = 0.02086486486486483\n",
      "Class Picnic: Recall Difference = 0.19999999999999996\n",
      "Class Rescue: Recall Difference = 0.03594936708860758\n",
      "Class Cheering: Recall Difference = -0.05065627563576702\n",
      "Class Performance_And_Entertainment: Recall Difference = -0.06900076667518523\n",
      "Class Family: Recall Difference = -0.12833333333333335\n",
      "Data has been appended to ./runs_2023_12_02_11_08/validation_0.txt\n"
     ]
    },
    {
     "name": "stderr",
     "output_type": "stream",
     "text": [
      "100%|███████████████████████████████████████████████████████████████████████████| 26/26 [01:51<00:00,  4.29s/it]\n"
     ]
    },
    {
     "name": "stdout",
     "output_type": "stream",
     "text": [
      "Average Adversary epoch loss: 0.16094756642213234\n"
     ]
    },
    {
     "name": "stderr",
     "output_type": "stream",
     "text": [
      "100%|███████████████████████████████████████████████████████████████████████████| 26/26 [01:56<00:00,  4.49s/it]\n",
      "100%|███████████████████████████████████████████████████████████████████████████| 10/10 [00:19<00:00,  1.95s/it]\n"
     ]
    },
    {
     "name": "stdout",
     "output_type": "stream",
     "text": [
      "*****Epoch 35/300*****\n",
      "*****Train Loss:  0.098242 Val Loss:  0.301758*****\n",
      "*****Validation Accuracy: 43.75%*****\n",
      "*****Total Avg Disparity: 0.10416078157047265*****\n",
      "\n",
      "Class Team_Sports: Recall Difference = 0.0996788696210662\n",
      "Class Celebration: Recall Difference = -0.041860465116279055\n",
      "Class Parade: Recall Difference = 0.0034217279726260763\n",
      "Class Waiter_Or_Waitress: Recall Difference = -0.05085529357374019\n",
      "Class Individual_Sports: Recall Difference = -0.08503710434650924\n",
      "Class Surgeons: Recall Difference = 0.02586844050258691\n",
      "Class Spa: Recall Difference = -0.42000000000000004\n",
      "Class Law_Enforcement: Recall Difference = 0.17717717717717707\n",
      "Class Business: Recall Difference = -0.12066574202496538\n",
      "Class Dresses: Recall Difference = -0.37804878048780494\n",
      "Class Water_Activities: Recall Difference = -0.05091891891891892\n",
      "Class Picnic: Recall Difference = 0.054545454545454564\n",
      "Class Rescue: Recall Difference = 0.02531645569620253\n",
      "Class Cheering: Recall Difference = -0.08080393765381458\n",
      "Class Performance_And_Entertainment: Recall Difference = -0.005707470823749922\n",
      "Class Family: Recall Difference = 0.04666666666666669\n",
      "Data has been appended to ./runs_2023_12_02_11_08/validation_0.txt\n"
     ]
    },
    {
     "name": "stderr",
     "output_type": "stream",
     "text": [
      "100%|███████████████████████████████████████████████████████████████████████████| 26/26 [01:50<00:00,  4.26s/it]\n"
     ]
    },
    {
     "name": "stdout",
     "output_type": "stream",
     "text": [
      "Average Adversary epoch loss: 0.16182494163513184\n"
     ]
    },
    {
     "name": "stderr",
     "output_type": "stream",
     "text": [
      "100%|███████████████████████████████████████████████████████████████████████████| 26/26 [01:55<00:00,  4.46s/it]\n",
      "100%|███████████████████████████████████████████████████████████████████████████| 10/10 [00:19<00:00,  2.00s/it]\n"
     ]
    },
    {
     "name": "stdout",
     "output_type": "stream",
     "text": [
      "*****Epoch 36/300*****\n",
      "*****Train Loss:  0.094125 Val Loss:  0.274078*****\n",
      "*****Validation Accuracy: 43.78%*****\n",
      "*****Total Avg Disparity: 0.11733703158327481*****\n",
      "\n",
      "Class Team_Sports: Recall Difference = 0.11297950604308982\n",
      "Class Celebration: Recall Difference = -0.09069767441860468\n",
      "Class Parade: Recall Difference = 0.04100370687197036\n",
      "Class Waiter_Or_Waitress: Recall Difference = -0.140545538603791\n",
      "Class Individual_Sports: Recall Difference = -0.028585491443283317\n",
      "Class Surgeons: Recall Difference = 0.12934220251293427\n",
      "Class Spa: Recall Difference = -0.5599999999999999\n",
      "Class Law_Enforcement: Recall Difference = 0.1048548548548549\n",
      "Class Business: Recall Difference = -0.0926064227035101\n",
      "Class Dresses: Recall Difference = -0.2547425474254743\n",
      "Class Water_Activities: Recall Difference = -0.029081081081080984\n",
      "Class Picnic: Recall Difference = -0.05454545454545462\n",
      "Class Rescue: Recall Difference = 0.055189873417721524\n",
      "Class Cheering: Recall Difference = -0.09598031173092703\n",
      "Class Performance_And_Entertainment: Recall Difference = -0.07223783967970018\n",
      "Class Family: Recall Difference = 0.014999999999999986\n",
      "Data has been appended to ./runs_2023_12_02_11_08/validation_0.txt\n"
     ]
    },
    {
     "name": "stderr",
     "output_type": "stream",
     "text": [
      "100%|███████████████████████████████████████████████████████████████████████████| 26/26 [01:51<00:00,  4.30s/it]\n"
     ]
    },
    {
     "name": "stdout",
     "output_type": "stream",
     "text": [
      "Average Adversary epoch loss: 0.16097583507116026\n"
     ]
    },
    {
     "name": "stderr",
     "output_type": "stream",
     "text": [
      "100%|███████████████████████████████████████████████████████████████████████████| 26/26 [01:54<00:00,  4.40s/it]\n",
      "100%|███████████████████████████████████████████████████████████████████████████| 10/10 [00:19<00:00,  2.00s/it]\n"
     ]
    },
    {
     "name": "stdout",
     "output_type": "stream",
     "text": [
      "*****Epoch 37/300*****\n",
      "*****Train Loss:  0.092590 Val Loss:  0.306081*****\n",
      "*****Validation Accuracy: 42.14%*****\n",
      "*****Total Avg Disparity: 0.11060891851951686*****\n",
      "\n",
      "Class Team_Sports: Recall Difference = 0.12190109184328857\n",
      "Class Celebration: Recall Difference = 0.011627906976744179\n",
      "Class Parade: Recall Difference = 0.05434844596521249\n",
      "Class Waiter_Or_Waitress: Recall Difference = -0.17753120665742023\n",
      "Class Individual_Sports: Recall Difference = -0.03907314856883226\n",
      "Class Surgeons: Recall Difference = 0.05617147080561721\n",
      "Class Spa: Recall Difference = -0.44000000000000006\n",
      "Class Law_Enforcement: Recall Difference = 0.18768768768768773\n",
      "Class Business: Recall Difference = -0.13090792702443185\n",
      "Class Dresses: Recall Difference = -0.25\n",
      "Class Water_Activities: Recall Difference = -0.04789189189189191\n",
      "Class Picnic: Recall Difference = -0.018181818181818132\n",
      "Class Rescue: Recall Difference = 0.0837974683544303\n",
      "Class Cheering: Recall Difference = -0.052707136997538984\n",
      "Class Performance_And_Entertainment: Recall Difference = -0.06124882869068912\n",
      "Class Family: Recall Difference = 0.03666666666666668\n",
      "Data has been appended to ./runs_2023_12_02_11_08/validation_0.txt\n"
     ]
    },
    {
     "name": "stderr",
     "output_type": "stream",
     "text": [
      "100%|███████████████████████████████████████████████████████████████████████████| 26/26 [01:49<00:00,  4.20s/it]\n"
     ]
    },
    {
     "name": "stdout",
     "output_type": "stream",
     "text": [
      "Average Adversary epoch loss: 0.1615718861038868\n"
     ]
    },
    {
     "name": "stderr",
     "output_type": "stream",
     "text": [
      "100%|███████████████████████████████████████████████████████████████████████████| 26/26 [01:56<00:00,  4.47s/it]\n",
      "100%|███████████████████████████████████████████████████████████████████████████| 10/10 [00:19<00:00,  1.99s/it]\n"
     ]
    },
    {
     "name": "stdout",
     "output_type": "stream",
     "text": [
      "*****Epoch 38/300*****\n",
      "*****Train Loss:  0.091509 Val Loss:  0.271557*****\n",
      "*****Validation Accuracy: 45.11%*****\n",
      "*****Total Avg Disparity: 0.1621014304975097*****\n",
      "\n",
      "Class Team_Sports: Recall Difference = 0.09429555672330237\n",
      "Class Celebration: Recall Difference = -0.009302325581395376\n",
      "Class Parade: Recall Difference = -0.12968349016253206\n",
      "Class Waiter_Or_Waitress: Recall Difference = -0.22607489597780855\n",
      "Class Individual_Sports: Recall Difference = -0.13395426321369086\n",
      "Class Surgeons: Recall Difference = 0.07390983000739096\n",
      "Class Spa: Recall Difference = -0.66\n",
      "Class Law_Enforcement: Recall Difference = 0.2615115115115114\n",
      "Class Business: Recall Difference = -0.13400192040968734\n",
      "Class Dresses: Recall Difference = -0.524390243902439\n",
      "Class Water_Activities: Recall Difference = 0.012540540540540601\n",
      "Class Picnic: Recall Difference = 0.10909090909090902\n",
      "Class Rescue: Recall Difference = 0.07594936708860758\n",
      "Class Cheering: Recall Difference = -0.04327317473338807\n",
      "Class Performance_And_Entertainment: Recall Difference = -0.037311525683618674\n",
      "Class Family: Recall Difference = -0.06833333333333333\n",
      "Data has been appended to ./runs_2023_12_02_11_08/validation_0.txt\n"
     ]
    },
    {
     "name": "stderr",
     "output_type": "stream",
     "text": [
      "100%|███████████████████████████████████████████████████████████████████████████| 26/26 [01:51<00:00,  4.28s/it]\n"
     ]
    },
    {
     "name": "stdout",
     "output_type": "stream",
     "text": [
      "Average Adversary epoch loss: 0.16075010826954475\n"
     ]
    },
    {
     "name": "stderr",
     "output_type": "stream",
     "text": [
      "100%|███████████████████████████████████████████████████████████████████████████| 26/26 [01:56<00:00,  4.48s/it]\n",
      "100%|███████████████████████████████████████████████████████████████████████████| 10/10 [00:20<00:00,  2.01s/it]\n"
     ]
    },
    {
     "name": "stdout",
     "output_type": "stream",
     "text": [
      "*****Epoch 39/300*****\n",
      "*****Train Loss:  0.090184 Val Loss:  0.281781*****\n",
      "*****Validation Accuracy: 45.08%*****\n",
      "*****Total Avg Disparity: 0.1459471040691449*****\n",
      "\n",
      "Class Team_Sports: Recall Difference = 0.12072166754247682\n",
      "Class Celebration: Recall Difference = -0.018604651162790697\n",
      "Class Parade: Recall Difference = -0.08639863130881081\n",
      "Class Waiter_Or_Waitress: Recall Difference = -0.13083680073971332\n",
      "Class Individual_Sports: Recall Difference = -0.04762986521278212\n",
      "Class Surgeons: Recall Difference = 0.17147080561714712\n",
      "Class Spa: Recall Difference = -0.4\n",
      "Class Law_Enforcement: Recall Difference = 0.22272272272272275\n",
      "Class Business: Recall Difference = -0.2111383761869198\n",
      "Class Dresses: Recall Difference = -0.34756097560975613\n",
      "Class Water_Activities: Recall Difference = 0.07405405405405413\n",
      "Class Picnic: Recall Difference = -0.4\n",
      "Class Rescue: Recall Difference = -0.053417721518987354\n",
      "Class Cheering: Recall Difference = -0.010049220672682546\n",
      "Class Performance_And_Entertainment: Recall Difference = 0.0022148394241417457\n",
      "Class Family: Recall Difference = 0.03833333333333333\n",
      "Data has been appended to ./runs_2023_12_02_11_08/validation_0.txt\n"
     ]
    },
    {
     "name": "stderr",
     "output_type": "stream",
     "text": [
      "100%|███████████████████████████████████████████████████████████████████████████| 26/26 [01:51<00:00,  4.30s/it]\n"
     ]
    },
    {
     "name": "stdout",
     "output_type": "stream",
     "text": [
      "Average Adversary epoch loss: 0.16045540399276292\n"
     ]
    },
    {
     "name": "stderr",
     "output_type": "stream",
     "text": [
      "100%|███████████████████████████████████████████████████████████████████████████| 26/26 [01:56<00:00,  4.46s/it]\n",
      "100%|███████████████████████████████████████████████████████████████████████████| 10/10 [00:19<00:00,  1.99s/it]\n"
     ]
    },
    {
     "name": "stdout",
     "output_type": "stream",
     "text": [
      "*****Epoch 40/300*****\n",
      "*****Train Loss:  0.088576 Val Loss:  0.271338*****\n",
      "*****Validation Accuracy: 43.32%*****\n",
      "*****Total Avg Disparity: 0.12094664354558354*****\n",
      "\n",
      "Class Team_Sports: Recall Difference = 0.12729608220937694\n",
      "Class Celebration: Recall Difference = -0.0046511627906977715\n",
      "Class Parade: Recall Difference = 0.07145708582834343\n",
      "Class Waiter_Or_Waitress: Recall Difference = -0.09200184928340266\n",
      "Class Individual_Sports: Recall Difference = -0.0441087384522188\n",
      "Class Surgeons: Recall Difference = 0.15964523281596454\n",
      "Class Spa: Recall Difference = -0.18\n",
      "Class Law_Enforcement: Recall Difference = 0.1799299299299299\n",
      "Class Business: Recall Difference = -0.12706710764963186\n",
      "Class Dresses: Recall Difference = -0.25609756097560976\n",
      "Class Water_Activities: Recall Difference = 0.09697297297297292\n",
      "Class Picnic: Recall Difference = -0.16363636363636364\n",
      "Class Rescue: Recall Difference = 0.07721518987341769\n",
      "Class Cheering: Recall Difference = -0.14171452009844138\n",
      "Class Performance_And_Entertainment: Recall Difference = 0.05835250021296534\n",
      "Class Family: Recall Difference = -0.15499999999999997\n",
      "Data has been appended to ./runs_2023_12_02_11_08/validation_0.txt\n"
     ]
    },
    {
     "name": "stderr",
     "output_type": "stream",
     "text": [
      "100%|███████████████████████████████████████████████████████████████████████████| 26/26 [01:50<00:00,  4.26s/it]\n"
     ]
    },
    {
     "name": "stdout",
     "output_type": "stream",
     "text": [
      "Average Adversary epoch loss: 0.15892176444713885\n"
     ]
    },
    {
     "name": "stderr",
     "output_type": "stream",
     "text": [
      "100%|███████████████████████████████████████████████████████████████████████████| 26/26 [01:54<00:00,  4.40s/it]\n",
      "100%|███████████████████████████████████████████████████████████████████████████| 10/10 [00:19<00:00,  1.99s/it]\n"
     ]
    },
    {
     "name": "stdout",
     "output_type": "stream",
     "text": [
      "*****Epoch 41/300*****\n",
      "*****Train Loss:  0.087648 Val Loss:  0.262363*****\n",
      "*****Validation Accuracy: 44.01%*****\n",
      "*****Total Avg Disparity: 0.12308639166011763*****\n",
      "\n",
      "Class Team_Sports: Recall Difference = 0.1065802534010627\n",
      "Class Celebration: Recall Difference = -0.05813953488372095\n",
      "Class Parade: Recall Difference = -0.01830624465355002\n",
      "Class Waiter_Or_Waitress: Recall Difference = 0.019879796578825715\n",
      "Class Individual_Sports: Recall Difference = -0.06580342268665762\n",
      "Class Surgeons: Recall Difference = 0.12860310421286028\n",
      "Class Spa: Recall Difference = -0.43999999999999995\n",
      "Class Law_Enforcement: Recall Difference = 0.2294794794794795\n",
      "Class Business: Recall Difference = -0.06700096020484364\n",
      "Class Dresses: Recall Difference = -0.3766937669376694\n",
      "Class Water_Activities: Recall Difference = 0.015027027027027018\n",
      "Class Picnic: Recall Difference = -0.09090909090909088\n",
      "Class Rescue: Recall Difference = 0.09189873417721517\n",
      "Class Cheering: Recall Difference = -0.11115668580803933\n",
      "Class Performance_And_Entertainment: Recall Difference = 0.04157083226850666\n",
      "Class Family: Recall Difference = -0.10833333333333336\n",
      "Data has been appended to ./runs_2023_12_02_11_08/validation_0.txt\n"
     ]
    },
    {
     "name": "stderr",
     "output_type": "stream",
     "text": [
      "100%|███████████████████████████████████████████████████████████████████████████| 26/26 [01:49<00:00,  4.20s/it]\n"
     ]
    },
    {
     "name": "stdout",
     "output_type": "stream",
     "text": [
      "Average Adversary epoch loss: 0.15768393071798179\n"
     ]
    },
    {
     "name": "stderr",
     "output_type": "stream",
     "text": [
      "100%|███████████████████████████████████████████████████████████████████████████| 26/26 [01:54<00:00,  4.42s/it]\n",
      "100%|███████████████████████████████████████████████████████████████████████████| 10/10 [00:20<00:00,  2.02s/it]\n"
     ]
    },
    {
     "name": "stdout",
     "output_type": "stream",
     "text": [
      "*****Epoch 42/300*****\n",
      "*****Train Loss:  0.087068 Val Loss:  0.305331*****\n",
      "*****Validation Accuracy: 42.57%*****\n",
      "*****Total Avg Disparity: 0.13434850670369516*****\n",
      "\n",
      "Class Team_Sports: Recall Difference = 0.1326326852338413\n",
      "Class Celebration: Recall Difference = -0.009302325581395349\n",
      "Class Parade: Recall Difference = -0.06489877388080983\n",
      "Class Waiter_Or_Waitress: Recall Difference = -0.19787332408691627\n",
      "Class Individual_Sports: Recall Difference = -0.08905043162198989\n",
      "Class Surgeons: Recall Difference = 0.13525498891352558\n",
      "Class Spa: Recall Difference = -0.34\n",
      "Class Law_Enforcement: Recall Difference = 0.1649149149149149\n",
      "Class Business: Recall Difference = -0.15726021551264263\n",
      "Class Dresses: Recall Difference = -0.34146341463414637\n",
      "Class Water_Activities: Recall Difference = 0.008972972972973059\n",
      "Class Picnic: Recall Difference = -0.10909090909090913\n",
      "Class Rescue: Recall Difference = 0.06329113924050632\n",
      "Class Cheering: Recall Difference = -0.04552912223133716\n",
      "Class Performance_And_Entertainment: Recall Difference = -0.013374222676548198\n",
      "Class Family: Recall Difference = -0.2766666666666666\n",
      "Data has been appended to ./runs_2023_12_02_11_08/validation_0.txt\n"
     ]
    },
    {
     "name": "stderr",
     "output_type": "stream",
     "text": [
      "100%|███████████████████████████████████████████████████████████████████████████| 26/26 [01:49<00:00,  4.21s/it]\n"
     ]
    },
    {
     "name": "stdout",
     "output_type": "stream",
     "text": [
      "Average Adversary epoch loss: 0.15714807980335677\n"
     ]
    },
    {
     "name": "stderr",
     "output_type": "stream",
     "text": [
      "100%|███████████████████████████████████████████████████████████████████████████| 26/26 [01:56<00:00,  4.48s/it]\n",
      "100%|███████████████████████████████████████████████████████████████████████████| 10/10 [00:20<00:00,  2.01s/it]\n"
     ]
    },
    {
     "name": "stdout",
     "output_type": "stream",
     "text": [
      "*****Epoch 43/300*****\n",
      "*****Train Loss:  0.083838 Val Loss:  0.260271*****\n",
      "*****Validation Accuracy: 47.22%*****\n",
      "*****Total Avg Disparity: 0.14003660950593821*****\n",
      "\n",
      "Class Team_Sports: Recall Difference = 0.0715128160214864\n",
      "Class Celebration: Recall Difference = 0.027906976744186046\n",
      "Class Parade: Recall Difference = -0.1079555175363559\n",
      "Class Waiter_Or_Waitress: Recall Difference = -0.17244567730004634\n",
      "Class Individual_Sports: Recall Difference = -0.04316219900045448\n",
      "Class Surgeons: Recall Difference = 0.08721359940872131\n",
      "Class Spa: Recall Difference = -0.42000000000000004\n",
      "Class Law_Enforcement: Recall Difference = 0.19944944944944942\n",
      "Class Business: Recall Difference = -0.14573775738824274\n",
      "Class Dresses: Recall Difference = -0.49254742547425484\n",
      "Class Water_Activities: Recall Difference = 0.016972972972973066\n",
      "Class Picnic: Recall Difference = 0.16363636363636364\n",
      "Class Rescue: Recall Difference = 0.06329113924050633\n",
      "Class Cheering: Recall Difference = -0.051271534044298614\n",
      "Class Performance_And_Entertainment: Recall Difference = 0.07581565721100608\n",
      "Class Family: Recall Difference = -0.10166666666666668\n",
      "Data has been appended to ./runs_2023_12_02_11_08/validation_0.txt\n"
     ]
    },
    {
     "name": "stderr",
     "output_type": "stream",
     "text": [
      "100%|███████████████████████████████████████████████████████████████████████████| 26/26 [01:52<00:00,  4.31s/it]\n"
     ]
    },
    {
     "name": "stdout",
     "output_type": "stream",
     "text": [
      "Average Adversary epoch loss: 0.1581559651173078\n"
     ]
    },
    {
     "name": "stderr",
     "output_type": "stream",
     "text": [
      "100%|███████████████████████████████████████████████████████████████████████████| 26/26 [01:55<00:00,  4.44s/it]\n",
      "100%|███████████████████████████████████████████████████████████████████████████| 10/10 [00:19<00:00,  1.95s/it]\n"
     ]
    },
    {
     "name": "stdout",
     "output_type": "stream",
     "text": [
      "*****Epoch 44/300*****\n",
      "*****Train Loss:  0.083583 Val Loss:  0.276459*****\n",
      "*****Validation Accuracy: 41.59%*****\n",
      "*****Total Avg Disparity: 0.13762452576882528*****\n",
      "\n",
      "Class Team_Sports: Recall Difference = 0.11366847667425706\n",
      "Class Celebration: Recall Difference = -0.03953488372093025\n",
      "Class Parade: Recall Difference = -0.044995722840034225\n",
      "Class Waiter_Or_Waitress: Recall Difference = -0.2339343504392048\n",
      "Class Individual_Sports: Recall Difference = -0.05736029077691962\n",
      "Class Surgeons: Recall Difference = 0.0746489283074648\n",
      "Class Spa: Recall Difference = -0.4\n",
      "Class Law_Enforcement: Recall Difference = 0.22472472472472482\n",
      "Class Business: Recall Difference = -0.1153312706710764\n",
      "Class Dresses: Recall Difference = -0.5304878048780488\n",
      "Class Water_Activities: Recall Difference = 0.035675675675675644\n",
      "Class Picnic: Recall Difference = 0.16363636363636364\n",
      "Class Rescue: Recall Difference = 0.03797468354430379\n",
      "Class Cheering: Recall Difference = -0.11054142739950784\n",
      "Class Performance_And_Entertainment: Recall Difference = 0.0028111423460259743\n",
      "Class Family: Recall Difference = 0.01666666666666669\n",
      "Data has been appended to ./runs_2023_12_02_11_08/validation_0.txt\n"
     ]
    },
    {
     "name": "stderr",
     "output_type": "stream",
     "text": [
      "100%|███████████████████████████████████████████████████████████████████████████| 26/26 [01:51<00:00,  4.30s/it]\n"
     ]
    },
    {
     "name": "stdout",
     "output_type": "stream",
     "text": [
      "Average Adversary epoch loss: 0.15724441065238073\n"
     ]
    },
    {
     "name": "stderr",
     "output_type": "stream",
     "text": [
      "100%|███████████████████████████████████████████████████████████████████████████| 26/26 [01:54<00:00,  4.40s/it]\n",
      "100%|███████████████████████████████████████████████████████████████████████████| 10/10 [00:19<00:00,  1.96s/it]\n"
     ]
    },
    {
     "name": "stdout",
     "output_type": "stream",
     "text": [
      "*****Epoch 45/300*****\n",
      "*****Train Loss:  0.082864 Val Loss:  0.292178*****\n",
      "*****Validation Accuracy: 44.88%*****\n",
      "*****Total Avg Disparity: 0.13552500773639015*****\n",
      "\n",
      "Class Team_Sports: Recall Difference = 0.1150580954049163\n",
      "Class Celebration: Recall Difference = -0.05581395348837204\n",
      "Class Parade: Recall Difference = -0.03222127174222977\n",
      "Class Waiter_Or_Waitress: Recall Difference = -0.3028201571890892\n",
      "Class Individual_Sports: Recall Difference = 0.06913524155686818\n",
      "Class Surgeons: Recall Difference = 0.16555801921655575\n",
      "Class Spa: Recall Difference = -0.24\n",
      "Class Law_Enforcement: Recall Difference = 0.16066066066066076\n",
      "Class Business: Recall Difference = -0.12760055478502086\n",
      "Class Dresses: Recall Difference = -0.5060975609756099\n",
      "Class Water_Activities: Recall Difference = -0.0040000000000000036\n",
      "Class Picnic: Recall Difference = -0.10909090909090907\n",
      "Class Rescue: Recall Difference = 0.018481012658227824\n",
      "Class Cheering: Recall Difference = -0.03609515996718622\n",
      "Class Performance_And_Entertainment: Recall Difference = -0.07743419371326346\n",
      "Class Family: Recall Difference = -0.1483333333333333\n",
      "Data has been appended to ./runs_2023_12_02_11_08/validation_0.txt\n"
     ]
    },
    {
     "name": "stderr",
     "output_type": "stream",
     "text": [
      "100%|███████████████████████████████████████████████████████████████████████████| 26/26 [01:50<00:00,  4.24s/it]\n"
     ]
    },
    {
     "name": "stdout",
     "output_type": "stream",
     "text": [
      "Average Adversary epoch loss: 0.16023279439944488\n"
     ]
    },
    {
     "name": "stderr",
     "output_type": "stream",
     "text": [
      "100%|███████████████████████████████████████████████████████████████████████████| 26/26 [01:54<00:00,  4.41s/it]\n",
      "100%|███████████████████████████████████████████████████████████████████████████| 10/10 [00:19<00:00,  1.97s/it]\n"
     ]
    },
    {
     "name": "stdout",
     "output_type": "stream",
     "text": [
      "*****Epoch 46/300*****\n",
      "*****Train Loss:  0.081916 Val Loss:  0.266685*****\n",
      "*****Validation Accuracy: 42.86%*****\n",
      "*****Total Avg Disparity: 0.15912505424964843*****\n",
      "\n",
      "Class Team_Sports: Recall Difference = 0.03666725054008291\n",
      "Class Celebration: Recall Difference = -0.05581395348837211\n",
      "Class Parade: Recall Difference = -0.10191046478471627\n",
      "Class Waiter_Or_Waitress: Recall Difference = -0.11927877947295423\n",
      "Class Individual_Sports: Recall Difference = -0.03839164016356206\n",
      "Class Surgeons: Recall Difference = 0.20177383592017742\n",
      "Class Spa: Recall Difference = -0.5\n",
      "Class Law_Enforcement: Recall Difference = 0.17592592592592582\n",
      "Class Business: Recall Difference = -0.12482662968099867\n",
      "Class Dresses: Recall Difference = -0.5792682926829269\n",
      "Class Water_Activities: Recall Difference = 0.05448648648648646\n",
      "Class Picnic: Recall Difference = -0.21818181818181814\n",
      "Class Rescue: Recall Difference = 0.04126582278481013\n",
      "Class Cheering: Recall Difference = -0.14376538146021323\n",
      "Class Performance_And_Entertainment: Recall Difference = -0.012777919754663997\n",
      "Class Family: Recall Difference = -0.14166666666666666\n",
      "Data has been appended to ./runs_2023_12_02_11_08/validation_0.txt\n"
     ]
    },
    {
     "name": "stderr",
     "output_type": "stream",
     "text": [
      "100%|███████████████████████████████████████████████████████████████████████████| 26/26 [01:51<00:00,  4.27s/it]\n"
     ]
    },
    {
     "name": "stdout",
     "output_type": "stream",
     "text": [
      "Average Adversary epoch loss: 0.1577758571276298\n"
     ]
    },
    {
     "name": "stderr",
     "output_type": "stream",
     "text": [
      "100%|███████████████████████████████████████████████████████████████████████████| 26/26 [01:54<00:00,  4.40s/it]\n",
      "100%|███████████████████████████████████████████████████████████████████████████| 10/10 [00:20<00:00,  2.02s/it]\n"
     ]
    },
    {
     "name": "stdout",
     "output_type": "stream",
     "text": [
      "*****Epoch 47/300*****\n",
      "*****Train Loss:  0.079230 Val Loss:  0.255065*****\n",
      "*****Validation Accuracy: 47.01%*****\n",
      "*****Total Avg Disparity: 0.16280618140317055*****\n",
      "\n",
      "Class Team_Sports: Recall Difference = 0.11236060022187178\n",
      "Class Celebration: Recall Difference = -0.04418604651162791\n",
      "Class Parade: Recall Difference = 0.003421727972626132\n",
      "Class Waiter_Or_Waitress: Recall Difference = -0.19879796578825704\n",
      "Class Individual_Sports: Recall Difference = -0.07818415871573536\n",
      "Class Surgeons: Recall Difference = 0.18994826311899485\n",
      "Class Spa: Recall Difference = -0.6\n",
      "Class Law_Enforcement: Recall Difference = 0.20745745745745747\n",
      "Class Business: Recall Difference = -0.1347487463992318\n",
      "Class Dresses: Recall Difference = -0.41463414634146345\n",
      "Class Water_Activities: Recall Difference = 0.06799999999999995\n",
      "Class Picnic: Recall Difference = 0.3818181818181819\n",
      "Class Rescue: Recall Difference = -0.0007594936708860689\n",
      "Class Cheering: Recall Difference = 0.03137817883511072\n",
      "Class Performance_And_Entertainment: Recall Difference = 0.02087060226595111\n",
      "Class Family: Recall Difference = -0.11833333333333329\n",
      "Data has been appended to ./runs_2023_12_02_11_08/validation_0.txt\n"
     ]
    },
    {
     "name": "stderr",
     "output_type": "stream",
     "text": [
      "100%|███████████████████████████████████████████████████████████████████████████| 26/26 [01:52<00:00,  4.31s/it]\n"
     ]
    },
    {
     "name": "stdout",
     "output_type": "stream",
     "text": [
      "Average Adversary epoch loss: 0.15723696465675646\n"
     ]
    },
    {
     "name": "stderr",
     "output_type": "stream",
     "text": [
      "100%|███████████████████████████████████████████████████████████████████████████| 26/26 [01:55<00:00,  4.45s/it]\n",
      "100%|███████████████████████████████████████████████████████████████████████████| 10/10 [00:19<00:00,  1.95s/it]\n"
     ]
    },
    {
     "name": "stdout",
     "output_type": "stream",
     "text": [
      "*****Epoch 48/300*****\n",
      "*****Train Loss:  0.080084 Val Loss:  0.266420*****\n",
      "*****Validation Accuracy: 45.92%*****\n",
      "*****Total Avg Disparity: 0.14917557512161772*****\n",
      "\n",
      "Class Team_Sports: Recall Difference = 0.1526011560693643\n",
      "Class Celebration: Recall Difference = -0.0767441860465117\n",
      "Class Parade: Recall Difference = -0.023267750213857963\n",
      "Class Waiter_Or_Waitress: Recall Difference = -0.18908922792417937\n",
      "Class Individual_Sports: Recall Difference = -0.04887929728911122\n",
      "Class Surgeons: Recall Difference = 0.16555801921655586\n",
      "Class Spa: Recall Difference = -0.5999999999999999\n",
      "Class Law_Enforcement: Recall Difference = 0.18868868868868877\n",
      "Class Business: Recall Difference = -0.15341939613784283\n",
      "Class Dresses: Recall Difference = -0.5365853658536587\n",
      "Class Water_Activities: Recall Difference = -0.05394594594594587\n",
      "Class Picnic: Recall Difference = -0.05454545454545451\n",
      "Class Rescue: Recall Difference = 0.04658227848101264\n",
      "Class Cheering: Recall Difference = -0.006357670221493042\n",
      "Class Performance_And_Entertainment: Recall Difference = -0.028878098645540473\n",
      "Class Family: Recall Difference = -0.06166666666666666\n",
      "Data has been appended to ./runs_2023_12_02_11_08/validation_0.txt\n"
     ]
    },
    {
     "name": "stderr",
     "output_type": "stream",
     "text": [
      "100%|███████████████████████████████████████████████████████████████████████████| 26/26 [01:51<00:00,  4.31s/it]\n"
     ]
    },
    {
     "name": "stdout",
     "output_type": "stream",
     "text": [
      "Average Adversary epoch loss: 0.1567129555803079\n"
     ]
    },
    {
     "name": "stderr",
     "output_type": "stream",
     "text": [
      "100%|███████████████████████████████████████████████████████████████████████████| 26/26 [01:55<00:00,  4.46s/it]\n",
      "100%|███████████████████████████████████████████████████████████████████████████| 10/10 [00:19<00:00,  1.98s/it]\n"
     ]
    },
    {
     "name": "stdout",
     "output_type": "stream",
     "text": [
      "*****Epoch 49/300*****\n",
      "*****Train Loss:  0.080051 Val Loss:  0.263976*****\n",
      "*****Validation Accuracy: 44.07%*****\n",
      "*****Total Avg Disparity: 0.11550409093205*****\n",
      "\n",
      "Class Team_Sports: Recall Difference = 0.08846850002919365\n",
      "Class Celebration: Recall Difference = -0.032558139534883734\n",
      "Class Parade: Recall Difference = 0.0009694895922440216\n",
      "Class Waiter_Or_Waitress: Recall Difference = -0.1405455386037911\n",
      "Class Individual_Sports: Recall Difference = -0.0537255792821445\n",
      "Class Surgeons: Recall Difference = 0.19586104951958616\n",
      "Class Spa: Recall Difference = -0.36\n",
      "Class Law_Enforcement: Recall Difference = 0.1971971971971972\n",
      "Class Business: Recall Difference = -0.0918595967139656\n",
      "Class Dresses: Recall Difference = -0.510840108401084\n",
      "Class Water_Activities: Recall Difference = 0.052000000000000046\n",
      "Class Picnic: Recall Difference = 0.018181818181818188\n",
      "Class Rescue: Recall Difference = 0.04329113924050633\n",
      "Class Cheering: Recall Difference = 0.0006152584085314938\n",
      "Class Performance_And_Entertainment: Recall Difference = 0.016952040207854208\n",
      "Class Family: Recall Difference = -0.04499999999999996\n",
      "Data has been appended to ./runs_2023_12_02_11_08/validation_0.txt\n"
     ]
    },
    {
     "name": "stderr",
     "output_type": "stream",
     "text": [
      "100%|███████████████████████████████████████████████████████████████████████████| 26/26 [01:53<00:00,  4.38s/it]\n"
     ]
    },
    {
     "name": "stdout",
     "output_type": "stream",
     "text": [
      "Average Adversary epoch loss: 0.15717322379350662\n"
     ]
    },
    {
     "name": "stderr",
     "output_type": "stream",
     "text": [
      "100%|███████████████████████████████████████████████████████████████████████████| 26/26 [01:55<00:00,  4.45s/it]\n",
      "100%|███████████████████████████████████████████████████████████████████████████| 10/10 [00:20<00:00,  2.02s/it]\n"
     ]
    },
    {
     "name": "stdout",
     "output_type": "stream",
     "text": [
      "*****Epoch 50/300*****\n",
      "*****Train Loss:  0.077620 Val Loss:  0.254290*****\n",
      "*****Validation Accuracy: 44.10%*****\n",
      "*****Total Avg Disparity: 0.1189925079756228*****\n",
      "\n",
      "Class Team_Sports: Recall Difference = 0.09739008582939224\n",
      "Class Celebration: Recall Difference = -0.023255813953488386\n",
      "Class Parade: Recall Difference = -0.022469347020245167\n",
      "Class Waiter_Or_Waitress: Recall Difference = -0.13083680073971332\n",
      "Class Individual_Sports: Recall Difference = -0.03165227926699998\n",
      "Class Surgeons: Recall Difference = 0.09238728750923875\n",
      "Class Spa: Recall Difference = -0.44000000000000006\n",
      "Class Law_Enforcement: Recall Difference = 0.27827827827827817\n",
      "Class Business: Recall Difference = -0.01792382374906648\n",
      "Class Dresses: Recall Difference = -0.4878048780487804\n",
      "Class Water_Activities: Recall Difference = 0.0029189189189189335\n",
      "Class Picnic: Recall Difference = 0.1636363636363637\n",
      "Class Rescue: Recall Difference = -0.011392405063291144\n",
      "Class Cheering: Recall Difference = -0.06378178835110754\n",
      "Class Performance_And_Entertainment: Recall Difference = -0.018485390578413863\n",
      "Class Family: Recall Difference = 0.021666666666666695\n",
      "Data has been appended to ./runs_2023_12_02_11_08/validation_0.txt\n"
     ]
    },
    {
     "name": "stderr",
     "output_type": "stream",
     "text": [
      "100%|███████████████████████████████████████████████████████████████████████████| 26/26 [01:52<00:00,  4.31s/it]\n"
     ]
    },
    {
     "name": "stdout",
     "output_type": "stream",
     "text": [
      "Average Adversary epoch loss: 0.15679558595785728\n"
     ]
    },
    {
     "name": "stderr",
     "output_type": "stream",
     "text": [
      "100%|███████████████████████████████████████████████████████████████████████████| 26/26 [01:54<00:00,  4.40s/it]\n",
      "100%|███████████████████████████████████████████████████████████████████████████| 10/10 [00:19<00:00,  1.99s/it]\n"
     ]
    },
    {
     "name": "stdout",
     "output_type": "stream",
     "text": [
      "*****Epoch 51/300*****\n",
      "*****Train Loss:  0.077214 Val Loss:  0.260843*****\n",
      "*****Validation Accuracy: 46.03%*****\n",
      "*****Total Avg Disparity: 0.15460785964778168*****\n",
      "\n",
      "Class Team_Sports: Recall Difference = 0.1592222806095639\n",
      "Class Celebration: Recall Difference = -0.048837209302325546\n",
      "Class Parade: Recall Difference = -0.0009124607927002981\n",
      "Class Waiter_Or_Waitress: Recall Difference = -0.28432732316227466\n",
      "Class Individual_Sports: Recall Difference = -0.10968499167045287\n",
      "Class Surgeons: Recall Difference = 0.10495195861049525\n",
      "Class Spa: Recall Difference = -0.44000000000000006\n",
      "Class Law_Enforcement: Recall Difference = 0.20945945945945932\n",
      "Class Business: Recall Difference = -0.1735836978555426\n",
      "Class Dresses: Recall Difference = -0.46205962059620603\n",
      "Class Water_Activities: Recall Difference = -0.038486486486486504\n",
      "Class Picnic: Recall Difference = -0.2727272727272727\n",
      "Class Rescue: Recall Difference = 0.04860759493670886\n",
      "Class Cheering: Recall Difference = -0.04696472518457753\n",
      "Class Performance_And_Entertainment: Recall Difference = -0.06056733963710709\n",
      "Class Family: Recall Difference = -0.013333333333333364\n",
      "Data has been appended to ./runs_2023_12_02_11_08/validation_0.txt\n"
     ]
    },
    {
     "name": "stderr",
     "output_type": "stream",
     "text": [
      "100%|███████████████████████████████████████████████████████████████████████████| 26/26 [01:52<00:00,  4.32s/it]\n"
     ]
    },
    {
     "name": "stdout",
     "output_type": "stream",
     "text": [
      "Average Adversary epoch loss: 0.15693959765709364\n"
     ]
    },
    {
     "name": "stderr",
     "output_type": "stream",
     "text": [
      "100%|███████████████████████████████████████████████████████████████████████████| 26/26 [01:54<00:00,  4.41s/it]\n",
      "100%|███████████████████████████████████████████████████████████████████████████| 10/10 [00:20<00:00,  2.00s/it]\n"
     ]
    },
    {
     "name": "stdout",
     "output_type": "stream",
     "text": [
      "*****Epoch 52/300*****\n",
      "*****Train Loss:  0.077416 Val Loss:  0.260599*****\n",
      "*****Validation Accuracy: 45.71%*****\n",
      "*****Total Avg Disparity: 0.12427242411392402*****\n",
      "\n",
      "Class Team_Sports: Recall Difference = 0.16012144567057862\n",
      "Class Celebration: Recall Difference = 0.016279069767441923\n",
      "Class Parade: Recall Difference = 0.04562303963501574\n",
      "Class Waiter_Or_Waitress: Recall Difference = -0.22607489597780855\n",
      "Class Individual_Sports: Recall Difference = -0.034605482356504624\n",
      "Class Surgeons: Recall Difference = 0.11677753141167771\n",
      "Class Spa: Recall Difference = -0.33999999999999997\n",
      "Class Law_Enforcement: Recall Difference = 0.17192192192192196\n",
      "Class Business: Recall Difference = -0.11735836978555425\n",
      "Class Dresses: Recall Difference = -0.3353658536585366\n",
      "Class Water_Activities: Recall Difference = 0.016108108108108088\n",
      "Class Picnic: Recall Difference = -0.09090909090909094\n",
      "Class Rescue: Recall Difference = 0.07518987341772151\n",
      "Class Cheering: Recall Difference = -0.03158326497128794\n",
      "Class Performance_And_Entertainment: Recall Difference = -0.008774171564869149\n",
      "Class Family: Recall Difference = -0.20166666666666663\n",
      "Data has been appended to ./runs_2023_12_02_11_08/validation_0.txt\n"
     ]
    },
    {
     "name": "stderr",
     "output_type": "stream",
     "text": [
      "100%|███████████████████████████████████████████████████████████████████████████| 26/26 [01:51<00:00,  4.27s/it]\n"
     ]
    },
    {
     "name": "stdout",
     "output_type": "stream",
     "text": [
      "Average Adversary epoch loss: 0.15724916756153107\n"
     ]
    },
    {
     "name": "stderr",
     "output_type": "stream",
     "text": [
      "100%|███████████████████████████████████████████████████████████████████████████| 26/26 [01:53<00:00,  4.38s/it]\n",
      "100%|███████████████████████████████████████████████████████████████████████████| 10/10 [00:20<00:00,  2.01s/it]\n"
     ]
    },
    {
     "name": "stdout",
     "output_type": "stream",
     "text": [
      "*****Epoch 53/300*****\n",
      "*****Train Loss:  0.075815 Val Loss:  0.242563*****\n",
      "*****Validation Accuracy: 46.52%*****\n",
      "*****Total Avg Disparity: 0.13567763001774993*****\n",
      "\n",
      "Class Team_Sports: Recall Difference = 0.08935598762188368\n",
      "Class Celebration: Recall Difference = -0.018604651162790753\n",
      "Class Parade: Recall Difference = -0.022697462218420283\n",
      "Class Waiter_Or_Waitress: Recall Difference = -0.15996301433194637\n",
      "Class Individual_Sports: Recall Difference = -0.05800393760411926\n",
      "Class Surgeons: Recall Difference = 0.1840354767184036\n",
      "Class Spa: Recall Difference = -0.44000000000000006\n",
      "Class Law_Enforcement: Recall Difference = 0.2597597597597598\n",
      "Class Business: Recall Difference = -0.07777659233969919\n",
      "Class Dresses: Recall Difference = -0.5121951219512195\n",
      "Class Water_Activities: Recall Difference = -0.02248648648648649\n",
      "Class Picnic: Recall Difference = 0.14545454545454545\n",
      "Class Rescue: Recall Difference = 0.04126582278481013\n",
      "Class Cheering: Recall Difference = -0.03937653814602132\n",
      "Class Performance_And_Entertainment: Recall Difference = 0.0015333503705596274\n",
      "Class Family: Recall Difference = -0.09833333333333336\n",
      "Data has been appended to ./runs_2023_12_02_11_08/validation_0.txt\n"
     ]
    },
    {
     "name": "stderr",
     "output_type": "stream",
     "text": [
      "100%|███████████████████████████████████████████████████████████████████████████| 26/26 [01:50<00:00,  4.24s/it]\n"
     ]
    },
    {
     "name": "stdout",
     "output_type": "stream",
     "text": [
      "Average Adversary epoch loss: 0.1557044335282766\n"
     ]
    },
    {
     "name": "stderr",
     "output_type": "stream",
     "text": [
      "100%|███████████████████████████████████████████████████████████████████████████| 26/26 [01:53<00:00,  4.38s/it]\n",
      "100%|███████████████████████████████████████████████████████████████████████████| 10/10 [00:19<00:00,  1.98s/it]\n"
     ]
    },
    {
     "name": "stdout",
     "output_type": "stream",
     "text": [
      "*****Epoch 54/300*****\n",
      "*****Train Loss:  0.075531 Val Loss:  0.258532*****\n",
      "*****Validation Accuracy: 44.04%*****\n",
      "*****Total Avg Disparity: 0.15093770679717194*****\n",
      "\n",
      "Class Team_Sports: Recall Difference = 0.10501547264553046\n",
      "Class Celebration: Recall Difference = -0.020930232558139555\n",
      "Class Parade: Recall Difference = -0.024066153407470703\n",
      "Class Waiter_Or_Waitress: Recall Difference = -0.2048081368469718\n",
      "Class Individual_Sports: Recall Difference = -0.04887929728911111\n",
      "Class Surgeons: Recall Difference = 0.16555801921655575\n",
      "Class Spa: Recall Difference = -0.38\n",
      "Class Law_Enforcement: Recall Difference = 0.22297297297297292\n",
      "Class Business: Recall Difference = -0.17539741811586484\n",
      "Class Dresses: Recall Difference = -0.5060975609756098\n",
      "Class Water_Activities: Recall Difference = -0.021405405405405364\n",
      "Class Picnic: Recall Difference = -0.36363636363636365\n",
      "Class Rescue: Recall Difference = 0.04658227848101264\n",
      "Class Cheering: Recall Difference = -0.10910582444626746\n",
      "Class Performance_And_Entertainment: Recall Difference = 0.0022148394241418012\n",
      "Class Family: Recall Difference = -0.018333333333333326\n",
      "Data has been appended to ./runs_2023_12_02_11_08/validation_0.txt\n"
     ]
    },
    {
     "name": "stderr",
     "output_type": "stream",
     "text": [
      "100%|███████████████████████████████████████████████████████████████████████████| 26/26 [01:49<00:00,  4.20s/it]\n"
     ]
    },
    {
     "name": "stdout",
     "output_type": "stream",
     "text": [
      "Average Adversary epoch loss: 0.15719878845489943\n"
     ]
    },
    {
     "name": "stderr",
     "output_type": "stream",
     "text": [
      "100%|███████████████████████████████████████████████████████████████████████████| 26/26 [01:54<00:00,  4.39s/it]\n",
      "100%|███████████████████████████████████████████████████████████████████████████| 10/10 [00:19<00:00,  1.96s/it]\n"
     ]
    },
    {
     "name": "stdout",
     "output_type": "stream",
     "text": [
      "*****Epoch 55/300*****\n",
      "*****Train Loss:  0.074427 Val Loss:  0.269586*****\n",
      "*****Validation Accuracy: 45.74%*****\n",
      "*****Total Avg Disparity: 0.15818695259071835*****\n",
      "\n",
      "Class Team_Sports: Recall Difference = 0.12162083260349155\n",
      "Class Celebration: Recall Difference = -0.15813953488372093\n",
      "Class Parade: Recall Difference = 0.007755916737952673\n",
      "Class Waiter_Or_Waitress: Recall Difference = -0.08414239482200642\n",
      "Class Individual_Sports: Recall Difference = -0.14622141450855675\n",
      "Class Surgeons: Recall Difference = 0.2505543237250555\n",
      "Class Spa: Recall Difference = -0.6599999999999999\n",
      "Class Law_Enforcement: Recall Difference = 0.24099099099099103\n",
      "Class Business: Recall Difference = -0.1385895657740318\n",
      "Class Dresses: Recall Difference = -0.39024390243902435\n",
      "Class Water_Activities: Recall Difference = -0.018918918918918892\n",
      "Class Picnic: Recall Difference = 0.12727272727272726\n",
      "Class Rescue: Recall Difference = 0.02531645569620253\n",
      "Class Cheering: Recall Difference = -0.05414273995077931\n",
      "Class Performance_And_Entertainment: Recall Difference = -0.003748189794701401\n",
      "Class Family: Recall Difference = -0.10333333333333336\n",
      "Data has been appended to ./runs_2023_12_02_11_08/validation_0.txt\n"
     ]
    },
    {
     "name": "stderr",
     "output_type": "stream",
     "text": [
      "100%|███████████████████████████████████████████████████████████████████████████| 26/26 [01:50<00:00,  4.27s/it]\n"
     ]
    },
    {
     "name": "stdout",
     "output_type": "stream",
     "text": [
      "Average Adversary epoch loss: 0.15597974852873728\n"
     ]
    },
    {
     "name": "stderr",
     "output_type": "stream",
     "text": [
      "100%|███████████████████████████████████████████████████████████████████████████| 26/26 [01:55<00:00,  4.43s/it]\n",
      "100%|███████████████████████████████████████████████████████████████████████████| 10/10 [00:20<00:00,  2.00s/it]\n"
     ]
    },
    {
     "name": "stdout",
     "output_type": "stream",
     "text": [
      "*****Epoch 56/300*****\n",
      "*****Train Loss:  0.074430 Val Loss:  0.260934*****\n",
      "*****Validation Accuracy: 46.23%*****\n",
      "*****Total Avg Disparity: 0.14745475431061428*****\n",
      "\n",
      "Class Team_Sports: Recall Difference = 0.10596134757984466\n",
      "Class Celebration: Recall Difference = 0.05348837209302326\n",
      "Class Parade: Recall Difference = 0.03963501568291988\n",
      "Class Waiter_Or_Waitress: Recall Difference = -0.18908922792417937\n",
      "Class Individual_Sports: Recall Difference = -0.06190368014538844\n",
      "Class Surgeons: Recall Difference = 0.16555801921655586\n",
      "Class Spa: Recall Difference = -0.52\n",
      "Class Law_Enforcement: Recall Difference = 0.21421421421421416\n",
      "Class Business: Recall Difference = -0.18126533660514238\n",
      "Class Dresses: Recall Difference = -0.4451219512195122\n",
      "Class Water_Activities: Recall Difference = 0.026054054054054143\n",
      "Class Picnic: Recall Difference = -0.18181818181818182\n",
      "Class Rescue: Recall Difference = 0.0379746835443038\n",
      "Class Cheering: Recall Difference = -0.05701394585726011\n",
      "Class Performance_And_Entertainment: Recall Difference = 0.023511372348581527\n",
      "Class Family: Recall Difference = -0.05666666666666664\n",
      "Data has been appended to ./runs_2023_12_02_11_08/validation_0.txt\n"
     ]
    },
    {
     "name": "stderr",
     "output_type": "stream",
     "text": [
      "100%|███████████████████████████████████████████████████████████████████████████| 26/26 [01:50<00:00,  4.24s/it]\n"
     ]
    },
    {
     "name": "stdout",
     "output_type": "stream",
     "text": [
      "Average Adversary epoch loss: 0.1562582667057331\n"
     ]
    },
    {
     "name": "stderr",
     "output_type": "stream",
     "text": [
      "100%|███████████████████████████████████████████████████████████████████████████| 26/26 [01:55<00:00,  4.44s/it]\n",
      "100%|███████████████████████████████████████████████████████████████████████████| 10/10 [00:19<00:00,  2.00s/it]\n"
     ]
    },
    {
     "name": "stdout",
     "output_type": "stream",
     "text": [
      "*****Epoch 57/300*****\n",
      "*****Train Loss:  0.073533 Val Loss:  0.259364*****\n",
      "*****Validation Accuracy: 46.20%*****\n",
      "*****Total Avg Disparity: 0.12641514177821367*****\n",
      "\n",
      "Class Team_Sports: Recall Difference = 0.08245460384188708\n",
      "Class Celebration: Recall Difference = -0.0046511627906976605\n",
      "Class Parade: Recall Difference = -0.0322783005417735\n",
      "Class Waiter_Or_Waitress: Recall Difference = -0.2085067036523347\n",
      "Class Individual_Sports: Recall Difference = -0.06391034378312876\n",
      "Class Surgeons: Recall Difference = 0.11086474501108654\n",
      "Class Spa: Recall Difference = -0.52\n",
      "Class Law_Enforcement: Recall Difference = 0.23223223223223224\n",
      "Class Business: Recall Difference = -0.08033713858956576\n",
      "Class Dresses: Recall Difference = -0.39634146341463417\n",
      "Class Water_Activities: Recall Difference = 0.050594594594594644\n",
      "Class Picnic: Recall Difference = 0.054545454545454564\n",
      "Class Rescue: Recall Difference = 0.05594936708860758\n",
      "Class Cheering: Recall Difference = -0.004101722723543921\n",
      "Class Performance_And_Entertainment: Recall Difference = 0.03254110230854418\n",
      "Class Family: Recall Difference = -0.09333333333333332\n",
      "Data has been appended to ./runs_2023_12_02_11_08/validation_0.txt\n"
     ]
    },
    {
     "name": "stderr",
     "output_type": "stream",
     "text": [
      "100%|███████████████████████████████████████████████████████████████████████████| 26/26 [01:51<00:00,  4.30s/it]\n"
     ]
    },
    {
     "name": "stdout",
     "output_type": "stream",
     "text": [
      "Average Adversary epoch loss: 0.15661785407708242\n"
     ]
    },
    {
     "name": "stderr",
     "output_type": "stream",
     "text": [
      "100%|███████████████████████████████████████████████████████████████████████████| 26/26 [01:55<00:00,  4.45s/it]\n",
      "100%|███████████████████████████████████████████████████████████████████████████| 10/10 [00:19<00:00,  1.97s/it]\n"
     ]
    },
    {
     "name": "stdout",
     "output_type": "stream",
     "text": [
      "*****Epoch 58/300*****\n",
      "*****Train Loss:  0.073226 Val Loss:  0.247090*****\n",
      "*****Validation Accuracy: 44.07%*****\n",
      "*****Total Avg Disparity: 0.12438687963544565*****\n",
      "\n",
      "Class Team_Sports: Recall Difference = 0.061972324400069945\n",
      "Class Celebration: Recall Difference = -0.11627906976744187\n",
      "Class Parade: Recall Difference = 0.012147134302822993\n",
      "Class Waiter_Or_Waitress: Recall Difference = -0.20850670365233465\n",
      "Class Individual_Sports: Recall Difference = -0.11661366045736782\n",
      "Class Surgeons: Recall Difference = 0.12860310421286036\n",
      "Class Spa: Recall Difference = -0.32\n",
      "Class Law_Enforcement: Recall Difference = 0.1296296296296296\n",
      "Class Business: Recall Difference = -0.0752160460898324\n",
      "Class Dresses: Recall Difference = -0.26693766937669383\n",
      "Class Water_Activities: Recall Difference = 0.06497297297297311\n",
      "Class Picnic: Recall Difference = 0.12727272727272726\n",
      "Class Rescue: Recall Difference = 0.07189873417721517\n",
      "Class Cheering: Recall Difference = -0.0652173913043479\n",
      "Class Performance_And_Entertainment: Recall Difference = 0.0615895732174801\n",
      "Class Family: Recall Difference = -0.1633333333333333\n",
      "Data has been appended to ./runs_2023_12_02_11_08/validation_0.txt\n"
     ]
    },
    {
     "name": "stderr",
     "output_type": "stream",
     "text": [
      "100%|███████████████████████████████████████████████████████████████████████████| 26/26 [01:51<00:00,  4.27s/it]\n"
     ]
    },
    {
     "name": "stdout",
     "output_type": "stream",
     "text": [
      "Average Adversary epoch loss: 0.1578242417711478\n"
     ]
    },
    {
     "name": "stderr",
     "output_type": "stream",
     "text": [
      "100%|███████████████████████████████████████████████████████████████████████████| 26/26 [01:54<00:00,  4.39s/it]\n",
      "100%|███████████████████████████████████████████████████████████████████████████| 10/10 [00:19<00:00,  1.97s/it]\n"
     ]
    },
    {
     "name": "stdout",
     "output_type": "stream",
     "text": [
      "*****Epoch 59/300*****\n",
      "*****Train Loss:  0.071864 Val Loss:  0.273381*****\n",
      "*****Validation Accuracy: 44.16%*****\n",
      "*****Total Avg Disparity: 0.13410194585961882*****\n",
      "\n",
      "Class Team_Sports: Recall Difference = 0.12229812576633392\n",
      "Class Celebration: Recall Difference = -0.0767441860465117\n",
      "Class Parade: Recall Difference = -0.028970630168235034\n",
      "Class Waiter_Or_Waitress: Recall Difference = -0.21914008321775313\n",
      "Class Individual_Sports: Recall Difference = -0.06887021051037412\n",
      "Class Surgeons: Recall Difference = 0.09903917220990391\n",
      "Class Spa: Recall Difference = -0.42000000000000004\n",
      "Class Law_Enforcement: Recall Difference = 0.23448448448448445\n",
      "Class Business: Recall Difference = -0.11607809666062091\n",
      "Class Dresses: Recall Difference = -0.4329268292682927\n",
      "Class Water_Activities: Recall Difference = -0.023891891891891892\n",
      "Class Picnic: Recall Difference = -0.05454545454545451\n",
      "Class Rescue: Recall Difference = 0.07594936708860758\n",
      "Class Cheering: Recall Difference = -0.031788351107465154\n",
      "Class Performance_And_Entertainment: Recall Difference = 0.04923758412130502\n",
      "Class Family: Recall Difference = -0.09166666666666666\n",
      "Data has been appended to ./runs_2023_12_02_11_08/validation_0.txt\n"
     ]
    },
    {
     "name": "stderr",
     "output_type": "stream",
     "text": [
      "100%|███████████████████████████████████████████████████████████████████████████| 26/26 [01:50<00:00,  4.26s/it]\n"
     ]
    },
    {
     "name": "stdout",
     "output_type": "stream",
     "text": [
      "Average Adversary epoch loss: 0.1564680183163056\n"
     ]
    },
    {
     "name": "stderr",
     "output_type": "stream",
     "text": [
      "100%|███████████████████████████████████████████████████████████████████████████| 26/26 [01:55<00:00,  4.44s/it]\n",
      "100%|███████████████████████████████████████████████████████████████████████████| 10/10 [00:20<00:00,  2.01s/it]\n"
     ]
    },
    {
     "name": "stdout",
     "output_type": "stream",
     "text": [
      "*****Epoch 60/300*****\n",
      "*****Train Loss:  0.071720 Val Loss:  0.255251*****\n",
      "*****Validation Accuracy: 45.51%*****\n",
      "*****Total Avg Disparity: 0.1563022051843661*****\n",
      "\n",
      "Class Team_Sports: Recall Difference = 0.12459858702633264\n",
      "Class Celebration: Recall Difference = -0.05348837209302325\n",
      "Class Parade: Recall Difference = -0.012090105503279103\n",
      "Class Waiter_Or_Waitress: Recall Difference = -0.19787332408691638\n",
      "Class Individual_Sports: Recall Difference = -0.10987429956080574\n",
      "Class Surgeons: Recall Difference = 0.18403547671840362\n",
      "Class Spa: Recall Difference = -0.42000000000000004\n",
      "Class Law_Enforcement: Recall Difference = 0.20945945945945954\n",
      "Class Business: Recall Difference = -0.18894697535474242\n",
      "Class Dresses: Recall Difference = -0.535230352303523\n",
      "Class Water_Activities: Recall Difference = -0.034594594594594574\n",
      "Class Picnic: Recall Difference = -0.16363636363636364\n",
      "Class Rescue: Recall Difference = -0.004050632911392418\n",
      "Class Cheering: Recall Difference = -0.055578342904019695\n",
      "Class Performance_And_Entertainment: Recall Difference = 0.05571173013033484\n",
      "Class Family: Recall Difference = -0.15166666666666667\n",
      "Data has been appended to ./runs_2023_12_02_11_08/validation_0.txt\n"
     ]
    },
    {
     "name": "stderr",
     "output_type": "stream",
     "text": [
      "100%|███████████████████████████████████████████████████████████████████████████| 26/26 [01:51<00:00,  4.30s/it]\n"
     ]
    },
    {
     "name": "stdout",
     "output_type": "stream",
     "text": [
      "Average Adversary epoch loss: 0.15821370769005555\n"
     ]
    },
    {
     "name": "stderr",
     "output_type": "stream",
     "text": [
      "100%|███████████████████████████████████████████████████████████████████████████| 26/26 [01:54<00:00,  4.39s/it]\n",
      "100%|███████████████████████████████████████████████████████████████████████████| 10/10 [00:19<00:00,  1.96s/it]\n"
     ]
    },
    {
     "name": "stdout",
     "output_type": "stream",
     "text": [
      "*****Epoch 61/300*****\n",
      "*****Train Loss:  0.072477 Val Loss:  0.273670*****\n",
      "*****Validation Accuracy: 45.19%*****\n",
      "*****Total Avg Disparity: 0.1203813831192451*****\n",
      "\n",
      "Class Team_Sports: Recall Difference = 0.13318152624511004\n",
      "Class Celebration: Recall Difference = -0.03023255813953496\n",
      "Class Parade: Recall Difference = -0.028970630168235034\n",
      "Class Waiter_Or_Waitress: Recall Difference = -0.13962089690245033\n",
      "Class Individual_Sports: Recall Difference = -0.08484779645615625\n",
      "Class Surgeons: Recall Difference = 0.1840354767184036\n",
      "Class Spa: Recall Difference = -0.33999999999999997\n",
      "Class Law_Enforcement: Recall Difference = 0.2144644644644645\n",
      "Class Business: Recall Difference = -0.23493011842526396\n",
      "Class Dresses: Recall Difference = -0.3292682926829268\n",
      "Class Water_Activities: Recall Difference = -0.036540540540540456\n",
      "Class Picnic: Recall Difference = -0.036363636363636376\n",
      "Class Rescue: Recall Difference = 0.06329113924050632\n",
      "Class Cheering: Recall Difference = -0.01579163248564397\n",
      "Class Performance_And_Entertainment: Recall Difference = -0.04123008774171563\n",
      "Class Family: Recall Difference = -0.013333333333333308\n",
      "Data has been appended to ./runs_2023_12_02_11_08/validation_0.txt\n"
     ]
    },
    {
     "name": "stderr",
     "output_type": "stream",
     "text": [
      "100%|███████████████████████████████████████████████████████████████████████████| 26/26 [01:50<00:00,  4.23s/it]\n"
     ]
    },
    {
     "name": "stdout",
     "output_type": "stream",
     "text": [
      "Average Adversary epoch loss: 0.15616866659659606\n"
     ]
    },
    {
     "name": "stderr",
     "output_type": "stream",
     "text": [
      "100%|███████████████████████████████████████████████████████████████████████████| 26/26 [01:54<00:00,  4.41s/it]\n",
      "100%|███████████████████████████████████████████████████████████████████████████| 10/10 [00:19<00:00,  1.97s/it]\n"
     ]
    },
    {
     "name": "stdout",
     "output_type": "stream",
     "text": [
      "*****Epoch 62/300*****\n",
      "*****Train Loss:  0.070553 Val Loss:  0.264491*****\n",
      "*****Validation Accuracy: 44.68%*****\n",
      "*****Total Avg Disparity: 0.1437420646280752*****\n",
      "\n",
      "Class Team_Sports: Recall Difference = 0.12241490044958248\n",
      "Class Celebration: Recall Difference = 0.01395348837209301\n",
      "Class Parade: Recall Difference = -0.011576846307385202\n",
      "Class Waiter_Or_Waitress: Recall Difference = -0.14748035136384646\n",
      "Class Individual_Sports: Recall Difference = -0.013668029683477245\n",
      "Class Surgeons: Recall Difference = 0.15890613451589064\n",
      "Class Spa: Recall Difference = -0.36\n",
      "Class Law_Enforcement: Recall Difference = 0.1839339339339341\n",
      "Class Business: Recall Difference = -0.16003414061666488\n",
      "Class Dresses: Recall Difference = -0.6219512195121951\n",
      "Class Water_Activities: Recall Difference = -0.032972972972973025\n",
      "Class Picnic: Recall Difference = 0.14545454545454545\n",
      "Class Rescue: Recall Difference = 0.05063291139240506\n",
      "Class Cheering: Recall Difference = -0.11648892534864645\n",
      "Class Performance_And_Entertainment: Recall Difference = 0.08373796745889761\n",
      "Class Family: Recall Difference = -0.07666666666666672\n",
      "Data has been appended to ./runs_2023_12_02_11_08/validation_0.txt\n"
     ]
    },
    {
     "name": "stderr",
     "output_type": "stream",
     "text": [
      "100%|███████████████████████████████████████████████████████████████████████████| 26/26 [01:51<00:00,  4.29s/it]\n"
     ]
    },
    {
     "name": "stdout",
     "output_type": "stream",
     "text": [
      "Average Adversary epoch loss: 0.1564883331839855\n"
     ]
    },
    {
     "name": "stderr",
     "output_type": "stream",
     "text": [
      "100%|███████████████████████████████████████████████████████████████████████████| 26/26 [01:54<00:00,  4.40s/it]\n",
      "100%|███████████████████████████████████████████████████████████████████████████| 10/10 [00:19<00:00,  1.98s/it]\n"
     ]
    },
    {
     "name": "stdout",
     "output_type": "stream",
     "text": [
      "*****Epoch 63/300*****\n",
      "*****Train Loss:  0.070892 Val Loss:  0.252123*****\n",
      "*****Validation Accuracy: 47.10%*****\n",
      "*****Total Avg Disparity: 0.15042453286103635*****\n",
      "\n",
      "Class Team_Sports: Recall Difference = 0.11505809540491618\n",
      "Class Celebration: Recall Difference = -0.06511627906976744\n",
      "Class Parade: Recall Difference = -0.09267179925862568\n",
      "Class Waiter_Or_Waitress: Recall Difference = -0.11326860841423947\n",
      "Class Individual_Sports: Recall Difference = -0.03668786915038624\n",
      "Class Surgeons: Recall Difference = 0.1537324464153733\n",
      "Class Spa: Recall Difference = -0.38\n",
      "Class Law_Enforcement: Recall Difference = 0.2309809809809809\n",
      "Class Business: Recall Difference = -0.12226608343113199\n",
      "Class Dresses: Recall Difference = -0.5914634146341463\n",
      "Class Water_Activities: Recall Difference = 0.09891891891891902\n",
      "Class Picnic: Recall Difference = 0.16363636363636364\n",
      "Class Rescue: Recall Difference = 0.010632911392405062\n",
      "Class Cheering: Recall Difference = -0.06419196062346186\n",
      "Class Performance_And_Entertainment: Recall Difference = -0.011500127779197594\n",
      "Class Family: Recall Difference = -0.15666666666666673\n",
      "Data has been appended to ./runs_2023_12_02_11_08/validation_0.txt\n"
     ]
    },
    {
     "name": "stderr",
     "output_type": "stream",
     "text": [
      "100%|███████████████████████████████████████████████████████████████████████████| 26/26 [01:50<00:00,  4.24s/it]\n"
     ]
    },
    {
     "name": "stdout",
     "output_type": "stream",
     "text": [
      "Average Adversary epoch loss: 0.15555851849225852\n"
     ]
    },
    {
     "name": "stderr",
     "output_type": "stream",
     "text": [
      "100%|███████████████████████████████████████████████████████████████████████████| 26/26 [01:53<00:00,  4.36s/it]\n",
      "100%|███████████████████████████████████████████████████████████████████████████| 10/10 [00:19<00:00,  1.99s/it]\n"
     ]
    },
    {
     "name": "stdout",
     "output_type": "stream",
     "text": [
      "*****Epoch 64/300*****\n",
      "*****Train Loss:  0.069213 Val Loss:  0.247277*****\n",
      "*****Validation Accuracy: 46.55%*****\n",
      "*****Total Avg Disparity: 0.15307573601209717*****\n",
      "\n",
      "Class Team_Sports: Recall Difference = 0.08335376890290191\n",
      "Class Celebration: Recall Difference = -0.07209302325581401\n",
      "Class Parade: Recall Difference = -0.027316794981465664\n",
      "Class Waiter_Or_Waitress: Recall Difference = -0.2639852057327786\n",
      "Class Individual_Sports: Recall Difference = -0.07314856883234899\n",
      "Class Surgeons: Recall Difference = 0.19512195121951217\n",
      "Class Spa: Recall Difference = -0.4\n",
      "Class Law_Enforcement: Recall Difference = 0.1941941941941942\n",
      "Class Business: Recall Difference = -0.17593086525125362\n",
      "Class Dresses: Recall Difference = -0.5914634146341463\n",
      "Class Water_Activities: Recall Difference = 0.09859459459459458\n",
      "Class Picnic: Recall Difference = -0.0727272727272727\n",
      "Class Rescue: Recall Difference = -0.011392405063291158\n",
      "Class Cheering: Recall Difference = -0.0961853978671042\n",
      "Class Performance_And_Entertainment: Recall Difference = -0.055370985603543754\n",
      "Class Family: Recall Difference = -0.03833333333333333\n",
      "Data has been appended to ./runs_2023_12_02_11_08/validation_0.txt\n"
     ]
    },
    {
     "name": "stderr",
     "output_type": "stream",
     "text": [
      "100%|███████████████████████████████████████████████████████████████████████████| 26/26 [01:50<00:00,  4.25s/it]\n"
     ]
    },
    {
     "name": "stdout",
     "output_type": "stream",
     "text": [
      "Average Adversary epoch loss: 0.15617468380011046\n"
     ]
    },
    {
     "name": "stderr",
     "output_type": "stream",
     "text": [
      "100%|███████████████████████████████████████████████████████████████████████████| 26/26 [01:57<00:00,  4.53s/it]\n",
      "100%|███████████████████████████████████████████████████████████████████████████| 10/10 [00:20<00:00,  2.03s/it]\n"
     ]
    },
    {
     "name": "stdout",
     "output_type": "stream",
     "text": [
      "*****Epoch 65/300*****\n",
      "*****Train Loss:  0.069057 Val Loss:  0.250996*****\n",
      "*****Validation Accuracy: 47.30%*****\n",
      "*****Total Avg Disparity: 0.11635634728516814*****\n",
      "\n",
      "Class Team_Sports: Recall Difference = 0.09407368482513001\n",
      "Class Celebration: Recall Difference = 0.05348837209302315\n",
      "Class Parade: Recall Difference = -0.0842315369261476\n",
      "Class Waiter_Or_Waitress: Recall Difference = -0.1114193250115581\n",
      "Class Individual_Sports: Recall Difference = -0.04925791306981675\n",
      "Class Surgeons: Recall Difference = 0.12934220251293427\n",
      "Class Spa: Recall Difference = -0.33999999999999997\n",
      "Class Law_Enforcement: Recall Difference = 0.19094094094094105\n",
      "Class Business: Recall Difference = -0.12450656139976521\n",
      "Class Dresses: Recall Difference = -0.4193766937669377\n",
      "Class Water_Activities: Recall Difference = 0.026054054054054143\n",
      "Class Picnic: Recall Difference = -0.09090909090909094\n",
      "Class Rescue: Recall Difference = 0.0012658227848101195\n",
      "Class Cheering: Recall Difference = 0.009023789991796483\n",
      "Class Performance_And_Entertainment: Recall Difference = -0.04114490161001805\n",
      "Class Family: Recall Difference = -0.09666666666666665\n",
      "Data has been appended to ./runs_2023_12_02_11_08/validation_0.txt\n"
     ]
    },
    {
     "name": "stderr",
     "output_type": "stream",
     "text": [
      "100%|███████████████████████████████████████████████████████████████████████████| 26/26 [01:50<00:00,  4.24s/it]\n"
     ]
    },
    {
     "name": "stdout",
     "output_type": "stream",
     "text": [
      "Average Adversary epoch loss: 0.15516028954432562\n"
     ]
    },
    {
     "name": "stderr",
     "output_type": "stream",
     "text": [
      "100%|███████████████████████████████████████████████████████████████████████████| 26/26 [01:55<00:00,  4.43s/it]\n",
      "100%|███████████████████████████████████████████████████████████████████████████| 10/10 [00:19<00:00,  1.99s/it]\n"
     ]
    },
    {
     "name": "stdout",
     "output_type": "stream",
     "text": [
      "*****Epoch 66/300*****\n",
      "*****Train Loss:  0.068679 Val Loss:  0.263778*****\n",
      "*****Validation Accuracy: 44.70%*****\n",
      "*****Total Avg Disparity: 0.14635334599496488*****\n",
      "\n",
      "Class Team_Sports: Recall Difference = 0.10777135517019909\n",
      "Class Celebration: Recall Difference = -0.0023255813953488302\n",
      "Class Parade: Recall Difference = -0.06353008269175942\n",
      "Class Waiter_Or_Waitress: Recall Difference = -0.2376329172445677\n",
      "Class Individual_Sports: Recall Difference = -0.10351355444494936\n",
      "Class Surgeons: Recall Difference = 0.17738359201773832\n",
      "Class Spa: Recall Difference = -0.5399999999999999\n",
      "Class Law_Enforcement: Recall Difference = 0.20070070070070067\n",
      "Class Business: Recall Difference = -0.046836658487143856\n",
      "Class Dresses: Recall Difference = -0.225609756097561\n",
      "Class Water_Activities: Recall Difference = -0.04562162162162153\n",
      "Class Picnic: Recall Difference = 0.23636363636363633\n",
      "Class Rescue: Recall Difference = 0.010632911392405069\n",
      "Class Cheering: Recall Difference = -0.0061525840853158265\n",
      "Class Performance_And_Entertainment: Recall Difference = 0.0725785842064911\n",
      "Class Family: Recall Difference = -0.26500000000000007\n",
      "Data has been appended to ./runs_2023_12_02_11_08/validation_0.txt\n"
     ]
    },
    {
     "name": "stderr",
     "output_type": "stream",
     "text": [
      "100%|███████████████████████████████████████████████████████████████████████████| 26/26 [01:49<00:00,  4.20s/it]\n"
     ]
    },
    {
     "name": "stdout",
     "output_type": "stream",
     "text": [
      "Average Adversary epoch loss: 0.15616100969222876\n"
     ]
    },
    {
     "name": "stderr",
     "output_type": "stream",
     "text": [
      "100%|███████████████████████████████████████████████████████████████████████████| 26/26 [01:54<00:00,  4.40s/it]\n",
      "100%|███████████████████████████████████████████████████████████████████████████| 10/10 [00:19<00:00,  1.99s/it]\n"
     ]
    },
    {
     "name": "stdout",
     "output_type": "stream",
     "text": [
      "*****Epoch 67/300*****\n",
      "*****Train Loss:  0.068496 Val Loss:  0.252669*****\n",
      "*****Validation Accuracy: 46.58%*****\n",
      "*****Total Avg Disparity: 0.15063308043638313*****\n",
      "\n",
      "Class Team_Sports: Recall Difference = 0.09289426052431815\n",
      "Class Celebration: Recall Difference = -0.016279069767441867\n",
      "Class Parade: Recall Difference = -0.05566010835471913\n",
      "Class Waiter_Or_Waitress: Recall Difference = -0.2454923717059639\n",
      "Class Individual_Sports: Recall Difference = -0.05743601393306075\n",
      "Class Surgeons: Recall Difference = 0.2143385070214339\n",
      "Class Spa: Recall Difference = -0.13999999999999999\n",
      "Class Law_Enforcement: Recall Difference = 0.24124124124124124\n",
      "Class Business: Recall Difference = -0.15907393577296486\n",
      "Class Dresses: Recall Difference = -0.6341463414634148\n",
      "Class Water_Activities: Recall Difference = 0.03459459459459463\n",
      "Class Picnic: Recall Difference = -0.14545454545454545\n",
      "Class Rescue: Recall Difference = 0.061265822784810124\n",
      "Class Cheering: Recall Difference = -0.05988515176374082\n",
      "Class Performance_And_Entertainment: Recall Difference = 0.059033989266547404\n",
      "Class Family: Recall Difference = -0.19333333333333327\n",
      "Data has been appended to ./runs_2023_12_02_11_08/validation_0.txt\n"
     ]
    },
    {
     "name": "stderr",
     "output_type": "stream",
     "text": [
      "100%|███████████████████████████████████████████████████████████████████████████| 26/26 [01:50<00:00,  4.24s/it]\n"
     ]
    },
    {
     "name": "stdout",
     "output_type": "stream",
     "text": [
      "Average Adversary epoch loss: 0.15540901915385172\n"
     ]
    },
    {
     "name": "stderr",
     "output_type": "stream",
     "text": [
      "100%|███████████████████████████████████████████████████████████████████████████| 26/26 [01:55<00:00,  4.44s/it]\n",
      "100%|███████████████████████████████████████████████████████████████████████████| 10/10 [00:20<00:00,  2.01s/it]\n"
     ]
    },
    {
     "name": "stdout",
     "output_type": "stream",
     "text": [
      "*****Epoch 68/300*****\n",
      "*****Train Loss:  0.067634 Val Loss:  0.242609*****\n",
      "*****Validation Accuracy: 45.22%*****\n",
      "*****Total Avg Disparity: 0.13736960626208586*****\n",
      "\n",
      "Class Team_Sports: Recall Difference = 0.13077596777018752\n",
      "Class Celebration: Recall Difference = -0.05348837209302332\n",
      "Class Parade: Recall Difference = -0.006900484744796098\n",
      "Class Waiter_Or_Waitress: Recall Difference = -0.22699953767914932\n",
      "Class Individual_Sports: Recall Difference = -0.05221111615932161\n",
      "Class Surgeons: Recall Difference = 0.12269031781226898\n",
      "Class Spa: Recall Difference = -0.41999999999999993\n",
      "Class Law_Enforcement: Recall Difference = 0.15565565565565553\n",
      "Class Business: Recall Difference = -0.1199189160354209\n",
      "Class Dresses: Recall Difference = -0.5\n",
      "Class Water_Activities: Recall Difference = 0.0020540540540540664\n",
      "Class Picnic: Recall Difference = -0.23636363636363633\n",
      "Class Rescue: Recall Difference = 0.06658227848101264\n",
      "Class Cheering: Recall Difference = 0.0004101722723542922\n",
      "Class Performance_And_Entertainment: Recall Difference = -0.020529857739160023\n",
      "Class Family: Recall Difference = -0.08333333333333331\n",
      "Data has been appended to ./runs_2023_12_02_11_08/validation_0.txt\n"
     ]
    },
    {
     "name": "stderr",
     "output_type": "stream",
     "text": [
      "100%|███████████████████████████████████████████████████████████████████████████| 26/26 [01:50<00:00,  4.23s/it]\n"
     ]
    },
    {
     "name": "stdout",
     "output_type": "stream",
     "text": [
      "Average Adversary epoch loss: 0.1551772178365634\n"
     ]
    },
    {
     "name": "stderr",
     "output_type": "stream",
     "text": [
      "100%|███████████████████████████████████████████████████████████████████████████| 26/26 [01:54<00:00,  4.40s/it]\n",
      "100%|███████████████████████████████████████████████████████████████████████████| 10/10 [00:19<00:00,  1.98s/it]\n"
     ]
    },
    {
     "name": "stdout",
     "output_type": "stream",
     "text": [
      "*****Epoch 69/300*****\n",
      "*****Train Loss:  0.067341 Val Loss:  0.259512*****\n",
      "*****Validation Accuracy: 46.06%*****\n",
      "*****Total Avg Disparity: 0.13175710501758717*****\n",
      "\n",
      "Class Team_Sports: Recall Difference = 0.10383604834471893\n",
      "Class Celebration: Recall Difference = 0.013953488372092981\n",
      "Class Parade: Recall Difference = 0.0009694895922440216\n",
      "Class Waiter_Or_Waitress: Recall Difference = -0.22884882108183074\n",
      "Class Individual_Sports: Recall Difference = -0.08761169165530835\n",
      "Class Surgeons: Recall Difference = 0.23798965262379893\n",
      "Class Spa: Recall Difference = -0.54\n",
      "Class Law_Enforcement: Recall Difference = 0.2042042042042041\n",
      "Class Business: Recall Difference = -0.11202389843166544\n",
      "Class Dresses: Recall Difference = -0.4207317073170732\n",
      "Class Water_Activities: Recall Difference = 0.012540540540540601\n",
      "Class Picnic: Recall Difference = -0.018181818181818132\n",
      "Class Rescue: Recall Difference = 0.02860759493670885\n",
      "Class Cheering: Recall Difference = -0.02522559474979494\n",
      "Class Performance_And_Entertainment: Recall Difference = -0.021722463582928675\n",
      "Class Family: Recall Difference = -0.05166666666666664\n",
      "Data has been appended to ./runs_2023_12_02_11_08/validation_0.txt\n"
     ]
    },
    {
     "name": "stderr",
     "output_type": "stream",
     "text": [
      "100%|███████████████████████████████████████████████████████████████████████████| 26/26 [01:50<00:00,  4.26s/it]\n"
     ]
    },
    {
     "name": "stdout",
     "output_type": "stream",
     "text": [
      "Average Adversary epoch loss: 0.15502948142015016\n"
     ]
    },
    {
     "name": "stderr",
     "output_type": "stream",
     "text": [
      "100%|███████████████████████████████████████████████████████████████████████████| 26/26 [01:54<00:00,  4.41s/it]\n",
      "100%|███████████████████████████████████████████████████████████████████████████| 10/10 [00:19<00:00,  2.00s/it]\n"
     ]
    },
    {
     "name": "stdout",
     "output_type": "stream",
     "text": [
      "*****Epoch 70/300*****\n",
      "*****Train Loss:  0.067353 Val Loss:  0.261637*****\n",
      "*****Validation Accuracy: 47.22%*****\n",
      "*****Total Avg Disparity: 0.1379565951409624*****\n",
      "\n",
      "Class Team_Sports: Recall Difference = 0.11977579260816251\n",
      "Class Celebration: Recall Difference = -0.07441860465116279\n",
      "Class Parade: Recall Difference = -0.03906472768748215\n",
      "Class Waiter_Or_Waitress: Recall Difference = -0.21636615811373094\n",
      "Class Individual_Sports: Recall Difference = -0.05334696350143875\n",
      "Class Surgeons: Recall Difference = 0.1840354767184036\n",
      "Class Spa: Recall Difference = -0.42000000000000004\n",
      "Class Law_Enforcement: Recall Difference = 0.22972972972972971\n",
      "Class Business: Recall Difference = -0.16131441374159822\n",
      "Class Dresses: Recall Difference = -0.39024390243902446\n",
      "Class Water_Activities: Recall Difference = -0.021621621621621512\n",
      "Class Picnic: Recall Difference = -0.09090909090909094\n",
      "Class Rescue: Recall Difference = 0.01721518987341772\n",
      "Class Cheering: Recall Difference = -0.028096800656275678\n",
      "Class Performance_And_Entertainment: Recall Difference = 0.034500383337592644\n",
      "Class Family: Recall Difference = -0.1266666666666666\n",
      "Data has been appended to ./runs_2023_12_02_11_08/validation_0.txt\n"
     ]
    },
    {
     "name": "stderr",
     "output_type": "stream",
     "text": [
      "100%|███████████████████████████████████████████████████████████████████████████| 26/26 [01:50<00:00,  4.26s/it]\n"
     ]
    },
    {
     "name": "stdout",
     "output_type": "stream",
     "text": [
      "Average Adversary epoch loss: 0.15615843064509904\n"
     ]
    },
    {
     "name": "stderr",
     "output_type": "stream",
     "text": [
      "100%|███████████████████████████████████████████████████████████████████████████| 26/26 [01:55<00:00,  4.45s/it]\n",
      "100%|███████████████████████████████████████████████████████████████████████████| 10/10 [00:20<00:00,  2.00s/it]\n"
     ]
    },
    {
     "name": "stdout",
     "output_type": "stream",
     "text": [
      "*****Epoch 71/300*****\n",
      "*****Train Loss:  0.067431 Val Loss:  0.257128*****\n",
      "*****Validation Accuracy: 46.93%*****\n",
      "*****Total Avg Disparity: 0.1411040824924684*****\n",
      "\n",
      "Class Team_Sports: Recall Difference = 0.16820225375138664\n",
      "Class Celebration: Recall Difference = -0.02790697674418602\n",
      "Class Parade: Recall Difference = -0.055374964357000345\n",
      "Class Waiter_Or_Waitress: Recall Difference = -0.13083680073971327\n",
      "Class Individual_Sports: Recall Difference = -0.08484779645615625\n",
      "Class Surgeons: Recall Difference = 0.16555801921655589\n",
      "Class Spa: Recall Difference = -0.48\n",
      "Class Law_Enforcement: Recall Difference = 0.1669169169169169\n",
      "Class Business: Recall Difference = -0.22266083431131978\n",
      "Class Dresses: Recall Difference = -0.3658536585365854\n",
      "Class Water_Activities: Recall Difference = -0.05718918918918914\n",
      "Class Picnic: Recall Difference = -0.12727272727272726\n",
      "Class Rescue: Recall Difference = 0.061265822784810124\n",
      "Class Cheering: Recall Difference = -0.11341263330598847\n",
      "Class Performance_And_Entertainment: Recall Difference = 0.005366726296958835\n",
      "Class Family: Recall Difference = 0.024999999999999967\n",
      "Data has been appended to ./runs_2023_12_02_11_08/validation_0.txt\n"
     ]
    },
    {
     "name": "stderr",
     "output_type": "stream",
     "text": [
      "100%|███████████████████████████████████████████████████████████████████████████| 26/26 [01:50<00:00,  4.25s/it]\n"
     ]
    },
    {
     "name": "stdout",
     "output_type": "stream",
     "text": [
      "Average Adversary epoch loss: 0.15595541092065665\n"
     ]
    },
    {
     "name": "stderr",
     "output_type": "stream",
     "text": [
      "100%|███████████████████████████████████████████████████████████████████████████| 26/26 [01:53<00:00,  4.37s/it]\n",
      "100%|███████████████████████████████████████████████████████████████████████████| 10/10 [00:20<00:00,  2.00s/it]\n"
     ]
    },
    {
     "name": "stdout",
     "output_type": "stream",
     "text": [
      "*****Epoch 72/300*****\n",
      "*****Train Loss:  0.067259 Val Loss:  0.255980*****\n",
      "*****Validation Accuracy: 46.98%*****\n",
      "*****Total Avg Disparity: 0.1545498256968049*****\n",
      "\n",
      "Class Team_Sports: Recall Difference = 0.07123255678168972\n",
      "Class Celebration: Recall Difference = -0.037209302325581395\n",
      "Class Parade: Recall Difference = -0.05594525235243797\n",
      "Class Waiter_Or_Waitress: Recall Difference = -0.2376329172445677\n",
      "Class Individual_Sports: Recall Difference = -0.1384219294260185\n",
      "Class Surgeons: Recall Difference = 0.17147080561714712\n",
      "Class Spa: Recall Difference = -0.52\n",
      "Class Law_Enforcement: Recall Difference = 0.17842842842842838\n",
      "Class Business: Recall Difference = -0.15544649525232052\n",
      "Class Dresses: Recall Difference = -0.573170731707317\n",
      "Class Water_Activities: Recall Difference = 0.06054054054054059\n",
      "Class Picnic: Recall Difference = -0.07272727272727275\n",
      "Class Rescue: Recall Difference = -0.011392405063291158\n",
      "Class Cheering: Recall Difference = -0.07588187038556196\n",
      "Class Performance_And_Entertainment: Recall Difference = -0.03663003663003661\n",
      "Class Family: Recall Difference = -0.07666666666666669\n",
      "Data has been appended to ./runs_2023_12_02_11_08/validation_0.txt\n"
     ]
    },
    {
     "name": "stderr",
     "output_type": "stream",
     "text": [
      "100%|███████████████████████████████████████████████████████████████████████████| 26/26 [01:49<00:00,  4.21s/it]\n"
     ]
    },
    {
     "name": "stdout",
     "output_type": "stream",
     "text": [
      "Average Adversary epoch loss: 0.15493826740063155\n"
     ]
    },
    {
     "name": "stderr",
     "output_type": "stream",
     "text": [
      "100%|███████████████████████████████████████████████████████████████████████████| 26/26 [01:54<00:00,  4.41s/it]\n",
      "100%|███████████████████████████████████████████████████████████████████████████| 10/10 [00:20<00:00,  2.01s/it]\n"
     ]
    },
    {
     "name": "stdout",
     "output_type": "stream",
     "text": [
      "*****Epoch 73/300*****\n",
      "*****Train Loss:  0.066215 Val Loss:  0.238646*****\n",
      "*****Validation Accuracy: 45.02%*****\n",
      "*****Total Avg Disparity: 0.12701240423502827*****\n",
      "\n",
      "Class Team_Sports: Recall Difference = 0.08975302154492903\n",
      "Class Celebration: Recall Difference = 0.041860465116279055\n",
      "Class Parade: Recall Difference = -0.0009124607927002426\n",
      "Class Waiter_Or_Waitress: Recall Difference = -0.18816458622283871\n",
      "Class Individual_Sports: Recall Difference = -0.045736786309253374\n",
      "Class Surgeons: Recall Difference = 0.12342941611234298\n",
      "Class Spa: Recall Difference = -0.38\n",
      "Class Law_Enforcement: Recall Difference = 0.19394394394394388\n",
      "Class Business: Recall Difference = -0.13346847327429856\n",
      "Class Dresses: Recall Difference = -0.5792682926829269\n",
      "Class Water_Activities: Recall Difference = 0.0009729729729730519\n",
      "Class Picnic: Recall Difference = 0.09090909090909094\n",
      "Class Rescue: Recall Difference = 0.030632911392405062\n",
      "Class Cheering: Recall Difference = -0.047990155865463624\n",
      "Class Performance_And_Entertainment: Recall Difference = -0.030155890621006987\n",
      "Class Family: Recall Difference = -0.05500000000000002\n",
      "Data has been appended to ./runs_2023_12_02_11_08/validation_0.txt\n"
     ]
    },
    {
     "name": "stderr",
     "output_type": "stream",
     "text": [
      "100%|███████████████████████████████████████████████████████████████████████████| 26/26 [01:49<00:00,  4.21s/it]\n"
     ]
    },
    {
     "name": "stdout",
     "output_type": "stream",
     "text": [
      "Average Adversary epoch loss: 0.15568471871889555\n"
     ]
    },
    {
     "name": "stderr",
     "output_type": "stream",
     "text": [
      "100%|███████████████████████████████████████████████████████████████████████████| 26/26 [01:53<00:00,  4.36s/it]\n",
      "100%|███████████████████████████████████████████████████████████████████████████| 10/10 [00:19<00:00,  1.96s/it]\n"
     ]
    },
    {
     "name": "stdout",
     "output_type": "stream",
     "text": [
      "*****Epoch 74/300*****\n",
      "*****Train Loss:  0.066096 Val Loss:  0.238637*****\n",
      "*****Validation Accuracy: 46.58%*****\n",
      "*****Total Avg Disparity: 0.13320455155188965*****\n",
      "\n",
      "Class Team_Sports: Recall Difference = 0.10029777544228402\n",
      "Class Celebration: Recall Difference = -5.551115123125783e-17\n",
      "Class Parade: Recall Difference = 0.049957228400342224\n",
      "Class Waiter_Or_Waitress: Recall Difference = -0.2085067036523347\n",
      "Class Individual_Sports: Recall Difference = -0.08503710434650924\n",
      "Class Surgeons: Recall Difference = 0.18329637841832966\n",
      "Class Spa: Recall Difference = -0.4\n",
      "Class Law_Enforcement: Recall Difference = 0.21071071071071068\n",
      "Class Business: Recall Difference = -0.1488317507734982\n",
      "Class Dresses: Recall Difference = -0.48780487804878053\n",
      "Class Water_Activities: Recall Difference = 0.028000000000000025\n",
      "Class Picnic: Recall Difference = 0.018181818181818188\n",
      "Class Rescue: Recall Difference = 0.02531645569620253\n",
      "Class Cheering: Recall Difference = -0.08654634946677603\n",
      "Class Performance_And_Entertainment: Recall Difference = -0.04378567169264849\n",
      "Class Family: Recall Difference = -0.05499999999999999\n",
      "Data has been appended to ./runs_2023_12_02_11_08/validation_0.txt\n"
     ]
    },
    {
     "name": "stderr",
     "output_type": "stream",
     "text": [
      "100%|███████████████████████████████████████████████████████████████████████████| 26/26 [01:50<00:00,  4.26s/it]\n"
     ]
    },
    {
     "name": "stdout",
     "output_type": "stream",
     "text": [
      "Average Adversary epoch loss: 0.15563769523914045\n"
     ]
    },
    {
     "name": "stderr",
     "output_type": "stream",
     "text": [
      "100%|███████████████████████████████████████████████████████████████████████████| 26/26 [01:54<00:00,  4.41s/it]\n",
      "100%|███████████████████████████████████████████████████████████████████████████| 10/10 [00:20<00:00,  2.02s/it]\n"
     ]
    },
    {
     "name": "stdout",
     "output_type": "stream",
     "text": [
      "*****Epoch 75/300*****\n",
      "*****Train Loss:  0.066765 Val Loss:  0.250827*****\n",
      "*****Validation Accuracy: 45.51%*****\n",
      "*****Total Avg Disparity: 0.13019160467911584*****\n",
      "\n",
      "Class Team_Sports: Recall Difference = 0.12201786652653701\n",
      "Class Celebration: Recall Difference = -0.06511627906976747\n",
      "Class Parade: Recall Difference = -0.02651839178785287\n",
      "Class Waiter_Or_Waitress: Recall Difference = -0.22422561257512713\n",
      "Class Individual_Sports: Recall Difference = -0.07875208238679388\n",
      "Class Surgeons: Recall Difference = 0.1840354767184036\n",
      "Class Spa: Recall Difference = -0.27999999999999997\n",
      "Class Law_Enforcement: Recall Difference = 0.2227227227227227\n",
      "Class Business: Recall Difference = -0.16056758775205382\n",
      "Class Dresses: Recall Difference = -0.3353658536585366\n",
      "Class Water_Activities: Recall Difference = 0.033513513513513504\n",
      "Class Picnic: Recall Difference = 0.07272727272727275\n",
      "Class Rescue: Recall Difference = 0.061265822784810124\n",
      "Class Cheering: Recall Difference = -0.03014766201804761\n",
      "Class Performance_And_Entertainment: Recall Difference = 0.057756197291081\n",
      "Class Family: Recall Difference = -0.12833333333333338\n",
      "Data has been appended to ./runs_2023_12_02_11_08/validation_0.txt\n"
     ]
    },
    {
     "name": "stderr",
     "output_type": "stream",
     "text": [
      "100%|███████████████████████████████████████████████████████████████████████████| 26/26 [01:50<00:00,  4.25s/it]\n"
     ]
    },
    {
     "name": "stdout",
     "output_type": "stream",
     "text": [
      "Average Adversary epoch loss: 0.15625054389238358\n"
     ]
    },
    {
     "name": "stderr",
     "output_type": "stream",
     "text": [
      "100%|███████████████████████████████████████████████████████████████████████████| 26/26 [01:52<00:00,  4.34s/it]\n",
      "100%|███████████████████████████████████████████████████████████████████████████| 10/10 [00:19<00:00,  1.95s/it]\n"
     ]
    },
    {
     "name": "stdout",
     "output_type": "stream",
     "text": [
      "*****Epoch 76/300*****\n",
      "*****Train Loss:  0.066355 Val Loss:  0.248090*****\n",
      "*****Validation Accuracy: 44.53%*****\n",
      "*****Total Avg Disparity: 0.12432470276034652*****\n",
      "\n",
      "Class Team_Sports: Recall Difference = 0.08581771471944866\n",
      "Class Celebration: Recall Difference = 0.07906976744186048\n",
      "Class Parade: Recall Difference = -0.009067579127459424\n",
      "Class Waiter_Or_Waitress: Recall Difference = -0.10263522884882115\n",
      "Class Individual_Sports: Recall Difference = -0.06970316522792674\n",
      "Class Surgeons: Recall Difference = 0.12342941611234298\n",
      "Class Spa: Recall Difference = -0.38\n",
      "Class Law_Enforcement: Recall Difference = 0.23773773773773776\n",
      "Class Business: Recall Difference = -0.1283473807745653\n",
      "Class Dresses: Recall Difference = -0.4451219512195122\n",
      "Class Water_Activities: Recall Difference = -0.05362162162162165\n",
      "Class Picnic: Recall Difference = -0.10909090909090907\n",
      "Class Rescue: Recall Difference = -0.02405063291139241\n",
      "Class Cheering: Recall Difference = -0.03712059064807227\n",
      "Class Performance_And_Entertainment: Recall Difference = 0.006048215350540842\n",
      "Class Family: Recall Difference = -0.09833333333333333\n",
      "Data has been appended to ./runs_2023_12_02_11_08/validation_0.txt\n"
     ]
    },
    {
     "name": "stderr",
     "output_type": "stream",
     "text": [
      "100%|███████████████████████████████████████████████████████████████████████████| 26/26 [01:50<00:00,  4.24s/it]\n"
     ]
    },
    {
     "name": "stdout",
     "output_type": "stream",
     "text": [
      "Average Adversary epoch loss: 0.15690850294553316\n"
     ]
    },
    {
     "name": "stderr",
     "output_type": "stream",
     "text": [
      "100%|███████████████████████████████████████████████████████████████████████████| 26/26 [01:55<00:00,  4.43s/it]\n",
      "100%|███████████████████████████████████████████████████████████████████████████| 10/10 [00:20<00:00,  2.00s/it]\n"
     ]
    },
    {
     "name": "stdout",
     "output_type": "stream",
     "text": [
      "*****Epoch 77/300*****\n",
      "*****Train Loss:  0.065918 Val Loss:  0.268608*****\n",
      "*****Validation Accuracy: 45.40%*****\n",
      "*****Total Avg Disparity: 0.1331051966088426*****\n",
      "\n",
      "Class Team_Sports: Recall Difference = 0.13633444269282413\n",
      "Class Celebration: Recall Difference = -0.07906976744186045\n",
      "Class Parade: Recall Difference = -0.03877958368976331\n",
      "Class Waiter_Or_Waitress: Recall Difference = -0.17753120665742023\n",
      "Class Individual_Sports: Recall Difference = -0.07352718461305474\n",
      "Class Surgeons: Recall Difference = 0.11751662971175159\n",
      "Class Spa: Recall Difference = -0.44000000000000006\n",
      "Class Law_Enforcement: Recall Difference = 0.22797797797797797\n",
      "Class Business: Recall Difference = -0.1398698388989651\n",
      "Class Dresses: Recall Difference = -0.41463414634146345\n",
      "Class Water_Activities: Recall Difference = 0.06994594594594594\n",
      "Class Picnic: Recall Difference = 0.09090909090909094\n",
      "Class Rescue: Recall Difference = 0.0032911392405063217\n",
      "Class Cheering: Recall Difference = -0.06644790812141099\n",
      "Class Performance_And_Entertainment: Recall Difference = -0.012181616832779657\n",
      "Class Family: Recall Difference = -0.04166666666666666\n",
      "Data has been appended to ./runs_2023_12_02_11_08/validation_0.txt\n"
     ]
    },
    {
     "name": "stderr",
     "output_type": "stream",
     "text": [
      "100%|███████████████████████████████████████████████████████████████████████████| 26/26 [01:51<00:00,  4.27s/it]\n"
     ]
    },
    {
     "name": "stdout",
     "output_type": "stream",
     "text": [
      "Average Adversary epoch loss: 0.15615765635783857\n"
     ]
    },
    {
     "name": "stderr",
     "output_type": "stream",
     "text": [
      "100%|███████████████████████████████████████████████████████████████████████████| 26/26 [01:56<00:00,  4.47s/it]\n",
      "100%|███████████████████████████████████████████████████████████████████████████| 10/10 [00:19<00:00,  1.96s/it]\n"
     ]
    },
    {
     "name": "stdout",
     "output_type": "stream",
     "text": [
      "*****Epoch 78/300*****\n",
      "*****Train Loss:  0.064826 Val Loss:  0.250292*****\n",
      "*****Validation Accuracy: 47.01%*****\n",
      "*****Total Avg Disparity: 0.14105437631987539*****\n",
      "\n",
      "Class Team_Sports: Recall Difference = 0.09384013545863257\n",
      "Class Celebration: Recall Difference = 0.030232558139534876\n",
      "Class Parade: Recall Difference = -0.09021956087824345\n",
      "Class Waiter_Or_Waitress: Recall Difference = -0.18908922792417937\n",
      "Class Individual_Sports: Recall Difference = -0.086740875359685\n",
      "Class Surgeons: Recall Difference = 0.18403547671840362\n",
      "Class Spa: Recall Difference = -0.45999999999999996\n",
      "Class Law_Enforcement: Recall Difference = 0.151901901901902\n",
      "Class Business: Recall Difference = -0.20452363170809773\n",
      "Class Dresses: Recall Difference = -0.42682926829268286\n",
      "Class Water_Activities: Recall Difference = 0.0318918918918919\n",
      "Class Picnic: Recall Difference = 0.16363636363636358\n",
      "Class Rescue: Recall Difference = 0.023291139240506332\n",
      "Class Cheering: Recall Difference = -0.062141099261689856\n",
      "Class Performance_And_Entertainment: Recall Difference = -0.053496890706192984\n",
      "Class Family: Recall Difference = -0.004999999999999949\n",
      "Data has been appended to ./runs_2023_12_02_11_08/validation_0.txt\n"
     ]
    },
    {
     "name": "stderr",
     "output_type": "stream",
     "text": [
      "100%|███████████████████████████████████████████████████████████████████████████| 26/26 [01:49<00:00,  4.21s/it]\n"
     ]
    },
    {
     "name": "stdout",
     "output_type": "stream",
     "text": [
      "Average Adversary epoch loss: 0.15548127488448069\n"
     ]
    },
    {
     "name": "stderr",
     "output_type": "stream",
     "text": [
      "100%|███████████████████████████████████████████████████████████████████████████| 26/26 [01:56<00:00,  4.49s/it]\n",
      "100%|███████████████████████████████████████████████████████████████████████████| 10/10 [00:19<00:00,  1.97s/it]\n"
     ]
    },
    {
     "name": "stdout",
     "output_type": "stream",
     "text": [
      "*****Epoch 79/300*****\n",
      "*****Train Loss:  0.064251 Val Loss:  0.249545*****\n",
      "*****Validation Accuracy: 46.55%*****\n",
      "*****Total Avg Disparity: 0.16277491167199654*****\n",
      "\n",
      "Class Team_Sports: Recall Difference = 0.15524026391078405\n",
      "Class Celebration: Recall Difference = -0.09069767441860477\n",
      "Class Parade: Recall Difference = -0.022469347020245167\n",
      "Class Waiter_Or_Waitress: Recall Difference = -0.23393435043920485\n",
      "Class Individual_Sports: Recall Difference = -0.09264728153869439\n",
      "Class Surgeons: Recall Difference = 0.18994826311899485\n",
      "Class Spa: Recall Difference = -0.44000000000000006\n",
      "Class Law_Enforcement: Recall Difference = 0.2077077077077077\n",
      "Class Business: Recall Difference = -0.18254560973007578\n",
      "Class Dresses: Recall Difference = -0.48170731707317077\n",
      "Class Water_Activities: Recall Difference = -0.0040000000000000036\n",
      "Class Picnic: Recall Difference = 0.290909090909091\n",
      "Class Rescue: Recall Difference = 0.030632911392405055\n",
      "Class Cheering: Recall Difference = -0.049835931091058217\n",
      "Class Performance_And_Entertainment: Recall Difference = -0.055456171735241505\n",
      "Class Family: Recall Difference = -0.07666666666666669\n",
      "Data has been appended to ./runs_2023_12_02_11_08/validation_0.txt\n"
     ]
    },
    {
     "name": "stderr",
     "output_type": "stream",
     "text": [
      "100%|███████████████████████████████████████████████████████████████████████████| 26/26 [01:51<00:00,  4.29s/it]\n"
     ]
    },
    {
     "name": "stdout",
     "output_type": "stream",
     "text": [
      "Average Adversary epoch loss: 0.15671466004389983\n"
     ]
    },
    {
     "name": "stderr",
     "output_type": "stream",
     "text": [
      "100%|███████████████████████████████████████████████████████████████████████████| 26/26 [01:53<00:00,  4.37s/it]\n",
      "100%|███████████████████████████████████████████████████████████████████████████| 10/10 [00:19<00:00,  2.00s/it]\n"
     ]
    },
    {
     "name": "stdout",
     "output_type": "stream",
     "text": [
      "*****Epoch 80/300*****\n",
      "*****Train Loss:  0.064689 Val Loss:  0.251322*****\n",
      "*****Validation Accuracy: 47.13%*****\n",
      "*****Total Avg Disparity: 0.15728421973838871*****\n",
      "\n",
      "Class Team_Sports: Recall Difference = 0.09928183569802063\n",
      "Class Celebration: Recall Difference = 0.06744186046511624\n",
      "Class Parade: Recall Difference = -0.044767607641859164\n",
      "Class Waiter_Or_Waitress: Recall Difference = -0.16874711049468333\n",
      "Class Individual_Sports: Recall Difference = -0.07988792972891123\n",
      "Class Surgeons: Recall Difference = 0.18403547671840362\n",
      "Class Spa: Recall Difference = -0.3\n",
      "Class Law_Enforcement: Recall Difference = 0.24124124124124124\n",
      "Class Business: Recall Difference = -0.20324335858316434\n",
      "Class Dresses: Recall Difference = -0.46951219512195125\n",
      "Class Water_Activities: Recall Difference = 0.0004324324324324058\n",
      "Class Picnic: Recall Difference = -0.36363636363636365\n",
      "Class Rescue: Recall Difference = 0.05594936708860758\n",
      "Class Cheering: Recall Difference = -0.052707136997538956\n",
      "Class Performance_And_Entertainment: Recall Difference = -0.057330266632592275\n",
      "Class Family: Recall Difference = -0.12833333333333335\n",
      "Data has been appended to ./runs_2023_12_02_11_08/validation_0.txt\n"
     ]
    },
    {
     "name": "stderr",
     "output_type": "stream",
     "text": [
      "100%|███████████████████████████████████████████████████████████████████████████| 26/26 [01:50<00:00,  4.26s/it]\n"
     ]
    },
    {
     "name": "stdout",
     "output_type": "stream",
     "text": [
      "Average Adversary epoch loss: 0.1561133420238128\n"
     ]
    },
    {
     "name": "stderr",
     "output_type": "stream",
     "text": [
      "100%|███████████████████████████████████████████████████████████████████████████| 26/26 [01:55<00:00,  4.44s/it]\n",
      "100%|███████████████████████████████████████████████████████████████████████████| 10/10 [00:19<00:00,  1.96s/it]\n"
     ]
    },
    {
     "name": "stdout",
     "output_type": "stream",
     "text": [
      "*****Epoch 81/300*****\n",
      "*****Train Loss:  0.063682 Val Loss:  0.239313*****\n",
      "*****Validation Accuracy: 47.01%*****\n",
      "*****Total Avg Disparity: 0.13924061870752716*****\n",
      "\n",
      "Class Team_Sports: Recall Difference = 0.12223973842470937\n",
      "Class Celebration: Recall Difference = 0.018604651162790725\n",
      "Class Parade: Recall Difference = 0.029826062161391553\n",
      "Class Waiter_Or_Waitress: Recall Difference = -0.16597318539066114\n",
      "Class Individual_Sports: Recall Difference = -0.07428441617446602\n",
      "Class Surgeons: Recall Difference = 0.22616407982261635\n",
      "Class Spa: Recall Difference = -0.4\n",
      "Class Law_Enforcement: Recall Difference = 0.2444944944944944\n",
      "Class Business: Recall Difference = -0.1224794622852875\n",
      "Class Dresses: Recall Difference = -0.41327913279132794\n",
      "Class Water_Activities: Recall Difference = 0.04400000000000004\n",
      "Class Picnic: Recall Difference = -0.05454545454545451\n",
      "Class Rescue: Recall Difference = 0.007848101265822749\n",
      "Class Cheering: Recall Difference = -0.09823625922887619\n",
      "Class Performance_And_Entertainment: Recall Difference = -0.07087486157253597\n",
      "Class Family: Recall Difference = -0.135\n",
      "Data has been appended to ./runs_2023_12_02_11_08/validation_0.txt\n"
     ]
    },
    {
     "name": "stderr",
     "output_type": "stream",
     "text": [
      "100%|███████████████████████████████████████████████████████████████████████████| 26/26 [01:50<00:00,  4.24s/it]\n"
     ]
    },
    {
     "name": "stdout",
     "output_type": "stream",
     "text": [
      "Average Adversary epoch loss: 0.15458519298296708\n"
     ]
    },
    {
     "name": "stderr",
     "output_type": "stream",
     "text": [
      "100%|███████████████████████████████████████████████████████████████████████████| 26/26 [01:54<00:00,  4.39s/it]\n",
      "100%|███████████████████████████████████████████████████████████████████████████| 10/10 [00:19<00:00,  1.95s/it]\n"
     ]
    },
    {
     "name": "stdout",
     "output_type": "stream",
     "text": [
      "*****Epoch 82/300*****\n",
      "*****Train Loss:  0.064219 Val Loss:  0.242505*****\n",
      "*****Validation Accuracy: 47.13%*****\n",
      "*****Total Avg Disparity: 0.1674104652084755*****\n",
      "\n",
      "Class Team_Sports: Recall Difference = 0.09059379926431943\n",
      "Class Celebration: Recall Difference = -0.025581395348837188\n",
      "Class Parade: Recall Difference = -0.038494439692044524\n",
      "Class Waiter_Or_Waitress: Recall Difference = -0.24641701340730465\n",
      "Class Individual_Sports: Recall Difference = -0.06610631531122224\n",
      "Class Surgeons: Recall Difference = 0.18994826311899474\n",
      "Class Spa: Recall Difference = -0.6399999999999999\n",
      "Class Law_Enforcement: Recall Difference = 0.18568568568568566\n",
      "Class Business: Recall Difference = -0.21988690920729753\n",
      "Class Dresses: Recall Difference = -0.5548780487804879\n",
      "Class Water_Activities: Recall Difference = 0.018918918918918948\n",
      "Class Picnic: Recall Difference = 0.0\n",
      "Class Rescue: Recall Difference = -0.002025316455696209\n",
      "Class Cheering: Recall Difference = -0.04757998359310911\n",
      "Class Performance_And_Entertainment: Recall Difference = -0.013374222676548142\n",
      "Class Family: Recall Difference = -0.1716666666666667\n",
      "Data has been appended to ./runs_2023_12_02_11_08/validation_0.txt\n"
     ]
    },
    {
     "name": "stderr",
     "output_type": "stream",
     "text": [
      "100%|███████████████████████████████████████████████████████████████████████████| 26/26 [01:49<00:00,  4.22s/it]\n"
     ]
    },
    {
     "name": "stdout",
     "output_type": "stream",
     "text": [
      "Average Adversary epoch loss: 0.15414209950428742\n"
     ]
    },
    {
     "name": "stderr",
     "output_type": "stream",
     "text": [
      "100%|███████████████████████████████████████████████████████████████████████████| 26/26 [01:54<00:00,  4.42s/it]\n",
      "100%|███████████████████████████████████████████████████████████████████████████| 10/10 [00:19<00:00,  2.00s/it]\n"
     ]
    },
    {
     "name": "stdout",
     "output_type": "stream",
     "text": [
      "*****Epoch 83/300*****\n",
      "*****Train Loss:  0.063853 Val Loss:  0.258237*****\n",
      "*****Validation Accuracy: 46.23%*****\n",
      "*****Total Avg Disparity: 0.1481329824873821*****\n",
      "\n",
      "Class Team_Sports: Recall Difference = 0.10658025340106259\n",
      "Class Celebration: Recall Difference = -0.03720930232558145\n",
      "Class Parade: Recall Difference = -0.0755061305959509\n",
      "Class Waiter_Or_Waitress: Recall Difference = -0.1766065649560795\n",
      "Class Individual_Sports: Recall Difference = -0.12471603816447074\n",
      "Class Surgeons: Recall Difference = 0.28085735402808576\n",
      "Class Spa: Recall Difference = -0.26\n",
      "Class Law_Enforcement: Recall Difference = 0.24974974974974984\n",
      "Class Business: Recall Difference = -0.22191400832177527\n",
      "Class Dresses: Recall Difference = -0.4451219512195122\n",
      "Class Water_Activities: Recall Difference = 0.048108108108108116\n",
      "Class Picnic: Recall Difference = -0.09090909090909083\n",
      "Class Rescue: Recall Difference = 0.09924050632911394\n",
      "Class Cheering: Recall Difference = -0.06931911402789176\n",
      "Class Performance_And_Entertainment: Recall Difference = -0.05928954766164071\n",
      "Class Family: Recall Difference = 0.024999999999999967\n",
      "Data has been appended to ./runs_2023_12_02_11_08/validation_0.txt\n"
     ]
    },
    {
     "name": "stderr",
     "output_type": "stream",
     "text": [
      "100%|███████████████████████████████████████████████████████████████████████████| 26/26 [01:51<00:00,  4.27s/it]\n"
     ]
    },
    {
     "name": "stdout",
     "output_type": "stream",
     "text": [
      "Average Adversary epoch loss: 0.15416114204205\n"
     ]
    },
    {
     "name": "stderr",
     "output_type": "stream",
     "text": [
      "100%|███████████████████████████████████████████████████████████████████████████| 26/26 [01:53<00:00,  4.38s/it]\n",
      "100%|███████████████████████████████████████████████████████████████████████████| 10/10 [00:20<00:00,  2.00s/it]\n"
     ]
    },
    {
     "name": "stdout",
     "output_type": "stream",
     "text": [
      "*****Epoch 84/300*****\n",
      "*****Train Loss:  0.063412 Val Loss:  0.238587*****\n",
      "*****Validation Accuracy: 47.62%*****\n",
      "*****Total Avg Disparity: 0.14742850570786145*****\n",
      "\n",
      "Class Team_Sports: Recall Difference = 0.13503824370876405\n",
      "Class Celebration: Recall Difference = -0.009302325581395376\n",
      "Class Parade: Recall Difference = -0.06056458511548335\n",
      "Class Waiter_Or_Waitress: Recall Difference = -0.07628294036061029\n",
      "Class Individual_Sports: Recall Difference = -0.1343328789943966\n",
      "Class Surgeons: Recall Difference = 0.2143385070214339\n",
      "Class Spa: Recall Difference = -0.5\n",
      "Class Law_Enforcement: Recall Difference = 0.24649649649649663\n",
      "Class Business: Recall Difference = -0.16718233223087597\n",
      "Class Dresses: Recall Difference = -0.4024390243902439\n",
      "Class Water_Activities: Recall Difference = -0.04259459459459458\n",
      "Class Picnic: Recall Difference = -0.2\n",
      "Class Rescue: Recall Difference = 0.04860759493670886\n",
      "Class Cheering: Recall Difference = -0.04101722723543885\n",
      "Class Performance_And_Entertainment: Recall Difference = 0.0073260073260073\n",
      "Class Family: Recall Difference = -0.07333333333333333\n",
      "Data has been appended to ./runs_2023_12_02_11_08/validation_0.txt\n"
     ]
    },
    {
     "name": "stderr",
     "output_type": "stream",
     "text": [
      "100%|███████████████████████████████████████████████████████████████████████████| 26/26 [01:50<00:00,  4.26s/it]\n"
     ]
    },
    {
     "name": "stdout",
     "output_type": "stream",
     "text": [
      "Average Adversary epoch loss: 0.15399073007015082\n"
     ]
    },
    {
     "name": "stderr",
     "output_type": "stream",
     "text": [
      "100%|███████████████████████████████████████████████████████████████████████████| 26/26 [01:55<00:00,  4.46s/it]\n",
      "100%|███████████████████████████████████████████████████████████████████████████| 10/10 [00:19<00:00,  1.98s/it]\n"
     ]
    },
    {
     "name": "stdout",
     "output_type": "stream",
     "text": [
      "*****Epoch 85/300*****\n",
      "*****Train Loss:  0.063533 Val Loss:  0.242506*****\n",
      "*****Validation Accuracy: 45.92%*****\n",
      "*****Total Avg Disparity: 0.12198834148287427*****\n",
      "\n",
      "Class Team_Sports: Recall Difference = 0.10153558708471999\n",
      "Class Celebration: Recall Difference = -0.013953488372093037\n",
      "Class Parade: Recall Difference = -0.007470772740233778\n",
      "Class Waiter_Or_Waitress: Recall Difference = -0.21451687471104947\n",
      "Class Individual_Sports: Recall Difference = -0.029266999848553743\n",
      "Class Surgeons: Recall Difference = 0.18994826311899485\n",
      "Class Spa: Recall Difference = -0.3\n",
      "Class Law_Enforcement: Recall Difference = 0.20270270270270274\n",
      "Class Business: Recall Difference = -0.055798570361677235\n",
      "Class Dresses: Recall Difference = -0.573170731707317\n",
      "Class Water_Activities: Recall Difference = 0.01643243243243242\n",
      "Class Picnic: Recall Difference = -0.03636363636363632\n",
      "Class Rescue: Recall Difference = 0.05063291139240506\n",
      "Class Cheering: Recall Difference = -0.018867924528301883\n",
      "Class Performance_And_Entertainment: Recall Difference = -0.06448590169520405\n",
      "Class Family: Recall Difference = -0.07666666666666672\n",
      "Data has been appended to ./runs_2023_12_02_11_08/validation_0.txt\n"
     ]
    },
    {
     "name": "stderr",
     "output_type": "stream",
     "text": [
      "100%|███████████████████████████████████████████████████████████████████████████| 26/26 [01:49<00:00,  4.21s/it]\n"
     ]
    },
    {
     "name": "stdout",
     "output_type": "stream",
     "text": [
      "Average Adversary epoch loss: 0.15437650909790626\n"
     ]
    },
    {
     "name": "stderr",
     "output_type": "stream",
     "text": [
      "100%|███████████████████████████████████████████████████████████████████████████| 26/26 [01:54<00:00,  4.40s/it]\n",
      "100%|███████████████████████████████████████████████████████████████████████████| 10/10 [00:20<00:00,  2.02s/it]\n"
     ]
    },
    {
     "name": "stdout",
     "output_type": "stream",
     "text": [
      "*****Epoch 86/300*****\n",
      "*****Train Loss:  0.062607 Val Loss:  0.251125*****\n",
      "*****Validation Accuracy: 47.13%*****\n",
      "*****Total Avg Disparity: 0.14589965507788402*****\n",
      "\n",
      "Class Team_Sports: Recall Difference = 0.0958603374788346\n",
      "Class Celebration: Recall Difference = 0.0488372093023256\n",
      "Class Parade: Recall Difference = 0.004790419161676662\n",
      "Class Waiter_Or_Waitress: Recall Difference = -0.12297734627831708\n",
      "Class Individual_Sports: Recall Difference = -0.05020445252158112\n",
      "Class Surgeons: Recall Difference = 0.18403547671840362\n",
      "Class Spa: Recall Difference = -0.5\n",
      "Class Law_Enforcement: Recall Difference = 0.19369369369369366\n",
      "Class Business: Recall Difference = -0.1761442441054092\n",
      "Class Dresses: Recall Difference = -0.603658536585366\n",
      "Class Water_Activities: Recall Difference = 0.0034594594594595796\n",
      "Class Picnic: Recall Difference = 0.10909090909090902\n",
      "Class Rescue: Recall Difference = 0.061265822784810124\n",
      "Class Cheering: Recall Difference = -0.020098441345365065\n",
      "Class Performance_And_Entertainment: Recall Difference = 0.03194479938665984\n",
      "Class Family: Recall Difference = -0.1283333333333333\n",
      "Data has been appended to ./runs_2023_12_02_11_08/validation_0.txt\n"
     ]
    },
    {
     "name": "stderr",
     "output_type": "stream",
     "text": [
      "100%|███████████████████████████████████████████████████████████████████████████| 26/26 [01:51<00:00,  4.30s/it]\n"
     ]
    },
    {
     "name": "stdout",
     "output_type": "stream",
     "text": [
      "Average Adversary epoch loss: 0.15584153338120535\n"
     ]
    },
    {
     "name": "stderr",
     "output_type": "stream",
     "text": [
      "100%|███████████████████████████████████████████████████████████████████████████| 26/26 [01:55<00:00,  4.46s/it]\n",
      "100%|███████████████████████████████████████████████████████████████████████████| 10/10 [00:20<00:00,  2.02s/it]\n"
     ]
    },
    {
     "name": "stdout",
     "output_type": "stream",
     "text": [
      "*****Epoch 87/300*****\n",
      "*****Train Loss:  0.062022 Val Loss:  0.238362*****\n",
      "*****Validation Accuracy: 44.99%*****\n",
      "*****Total Avg Disparity: 0.14045860262124735*****\n",
      "\n",
      "Class Team_Sports: Recall Difference = 0.12241490044958236\n",
      "Class Celebration: Recall Difference = 0.055813953488372064\n",
      "Class Parade: Recall Difference = -0.0885657256914742\n",
      "Class Waiter_Or_Waitress: Recall Difference = -0.20850670365233465\n",
      "Class Individual_Sports: Recall Difference = -0.08780099954566101\n",
      "Class Surgeons: Recall Difference = 0.17738359201773835\n",
      "Class Spa: Recall Difference = -0.36\n",
      "Class Law_Enforcement: Recall Difference = 0.1874374374374374\n",
      "Class Business: Recall Difference = -0.1056225328069989\n",
      "Class Dresses: Recall Difference = -0.4024390243902438\n",
      "Class Water_Activities: Recall Difference = -0.02248648648648649\n",
      "Class Picnic: Recall Difference = 0.16363636363636364\n",
      "Class Rescue: Recall Difference = 0.015949367088607586\n",
      "Class Cheering: Recall Difference = -0.06460213289581629\n",
      "Class Performance_And_Entertainment: Recall Difference = -0.05801175568617428\n",
      "Class Family: Recall Difference = -0.1266666666666667\n",
      "Data has been appended to ./runs_2023_12_02_11_08/validation_0.txt\n"
     ]
    },
    {
     "name": "stderr",
     "output_type": "stream",
     "text": [
      "100%|███████████████████████████████████████████████████████████████████████████| 26/26 [01:49<00:00,  4.21s/it]\n"
     ]
    },
    {
     "name": "stdout",
     "output_type": "stream",
     "text": [
      "Average Adversary epoch loss: 0.1551254242658615\n"
     ]
    },
    {
     "name": "stderr",
     "output_type": "stream",
     "text": [
      "100%|███████████████████████████████████████████████████████████████████████████| 26/26 [01:55<00:00,  4.44s/it]\n",
      "100%|███████████████████████████████████████████████████████████████████████████| 10/10 [00:19<00:00,  1.99s/it]\n"
     ]
    },
    {
     "name": "stdout",
     "output_type": "stream",
     "text": [
      "*****Epoch 88/300*****\n",
      "*****Train Loss:  0.062701 Val Loss:  0.256225*****\n",
      "*****Validation Accuracy: 45.25%*****\n",
      "*****Total Avg Disparity: 0.13691564321476532*****\n",
      "\n",
      "Class Team_Sports: Recall Difference = 0.137677351550184\n",
      "Class Celebration: Recall Difference = -0.011627906976744234\n",
      "Class Parade: Recall Difference = -0.027601938979184504\n",
      "Class Waiter_Or_Waitress: Recall Difference = -0.19787332408691632\n",
      "Class Individual_Sports: Recall Difference = -0.015106769650158891\n",
      "Class Surgeons: Recall Difference = 0.1840354767184036\n",
      "Class Spa: Recall Difference = -0.48\n",
      "Class Law_Enforcement: Recall Difference = 0.1836836836836837\n",
      "Class Business: Recall Difference = -0.16440840712685378\n",
      "Class Dresses: Recall Difference = -0.38414634146341464\n",
      "Class Water_Activities: Recall Difference = -0.026594594594594678\n",
      "Class Picnic: Recall Difference = 0.0\n",
      "Class Rescue: Recall Difference = 0.010632911392405062\n",
      "Class Cheering: Recall Difference = -0.11710418375717804\n",
      "Class Performance_And_Entertainment: Recall Difference = -0.09157509157509164\n",
      "Class Family: Recall Difference = -0.02166666666666664\n",
      "Data has been appended to ./runs_2023_12_02_11_08/validation_0.txt\n"
     ]
    },
    {
     "name": "stderr",
     "output_type": "stream",
     "text": [
      "100%|███████████████████████████████████████████████████████████████████████████| 26/26 [01:48<00:00,  4.17s/it]\n"
     ]
    },
    {
     "name": "stdout",
     "output_type": "stream",
     "text": [
      "Average Adversary epoch loss: 0.1542059274820181\n"
     ]
    },
    {
     "name": "stderr",
     "output_type": "stream",
     "text": [
      "100%|███████████████████████████████████████████████████████████████████████████| 26/26 [01:54<00:00,  4.40s/it]\n",
      "100%|███████████████████████████████████████████████████████████████████████████| 10/10 [00:19<00:00,  1.99s/it]\n"
     ]
    },
    {
     "name": "stdout",
     "output_type": "stream",
     "text": [
      "*****Epoch 89/300*****\n",
      "*****Train Loss:  0.062057 Val Loss:  0.259823*****\n",
      "*****Validation Accuracy: 46.29%*****\n",
      "*****Total Avg Disparity: 0.13636373267651913*****\n",
      "\n",
      "Class Team_Sports: Recall Difference = 0.06723886261458512\n",
      "Class Celebration: Recall Difference = 0.018604651162790642\n",
      "Class Parade: Recall Difference = 0.030111206159110337\n",
      "Class Waiter_Or_Waitress: Recall Difference = -0.2260748959778086\n",
      "Class Individual_Sports: Recall Difference = -0.003558988338633995\n",
      "Class Surgeons: Recall Difference = 0.22025129342202515\n",
      "Class Spa: Recall Difference = -0.62\n",
      "Class Law_Enforcement: Recall Difference = 0.19919919919919915\n",
      "Class Business: Recall Difference = -0.1312279953056652\n",
      "Class Dresses: Recall Difference = -0.45596205962059627\n",
      "Class Water_Activities: Recall Difference = -0.0040000000000000036\n",
      "Class Picnic: Recall Difference = -0.05454545454545451\n",
      "Class Rescue: Recall Difference = 0.07392405063291138\n",
      "Class Cheering: Recall Difference = -0.056398687448728474\n",
      "Class Performance_And_Entertainment: Recall Difference = -0.014055711730130316\n",
      "Class Family: Recall Difference = 0.006666666666666654\n",
      "Data has been appended to ./runs_2023_12_02_11_08/validation_0.txt\n"
     ]
    },
    {
     "name": "stderr",
     "output_type": "stream",
     "text": [
      "100%|███████████████████████████████████████████████████████████████████████████| 26/26 [01:49<00:00,  4.22s/it]\n"
     ]
    },
    {
     "name": "stdout",
     "output_type": "stream",
     "text": [
      "Average Adversary epoch loss: 0.15508369413705972\n"
     ]
    },
    {
     "name": "stderr",
     "output_type": "stream",
     "text": [
      "100%|███████████████████████████████████████████████████████████████████████████| 26/26 [01:54<00:00,  4.42s/it]\n",
      "100%|███████████████████████████████████████████████████████████████████████████| 10/10 [00:19<00:00,  1.99s/it]\n"
     ]
    },
    {
     "name": "stdout",
     "output_type": "stream",
     "text": [
      "*****Epoch 90/300*****\n",
      "*****Train Loss:  0.062231 Val Loss:  0.285317*****\n",
      "*****Validation Accuracy: 44.07%*****\n",
      "*****Total Avg Disparity: 0.1323423482143074*****\n",
      "\n",
      "Class Team_Sports: Recall Difference = 0.11662287616044842\n",
      "Class Celebration: Recall Difference = -0.037209302325581395\n",
      "Class Parade: Recall Difference = -0.0044482463644139325\n",
      "Class Waiter_Or_Waitress: Recall Difference = -0.19694868238557553\n",
      "Class Individual_Sports: Recall Difference = -0.02832046039678937\n",
      "Class Surgeons: Recall Difference = 0.12860310421286028\n",
      "Class Spa: Recall Difference = -0.45999999999999996\n",
      "Class Law_Enforcement: Recall Difference = 0.13788788788788792\n",
      "Class Business: Recall Difference = -0.16643550624133152\n",
      "Class Dresses: Recall Difference = -0.31097560975609756\n",
      "Class Water_Activities: Recall Difference = -0.02410810810810815\n",
      "Class Picnic: Recall Difference = 0.23636363636363633\n",
      "Class Rescue: Recall Difference = 0.08860759493670885\n",
      "Class Cheering: Recall Difference = -0.05414273995077934\n",
      "Class Performance_And_Entertainment: Recall Difference = -0.01013714967203333\n",
      "Class Family: Recall Difference = -0.11666666666666667\n",
      "Data has been appended to ./runs_2023_12_02_11_08/validation_0.txt\n"
     ]
    },
    {
     "name": "stderr",
     "output_type": "stream",
     "text": [
      "100%|███████████████████████████████████████████████████████████████████████████| 26/26 [01:50<00:00,  4.24s/it]\n"
     ]
    },
    {
     "name": "stdout",
     "output_type": "stream",
     "text": [
      "Average Adversary epoch loss: 0.15627983556343958\n"
     ]
    },
    {
     "name": "stderr",
     "output_type": "stream",
     "text": [
      "100%|███████████████████████████████████████████████████████████████████████████| 26/26 [01:53<00:00,  4.38s/it]\n",
      "100%|███████████████████████████████████████████████████████████████████████████| 10/10 [00:19<00:00,  1.99s/it]\n"
     ]
    },
    {
     "name": "stdout",
     "output_type": "stream",
     "text": [
      "*****Epoch 91/300*****\n",
      "*****Train Loss:  0.062967 Val Loss:  0.231162*****\n",
      "*****Validation Accuracy: 47.94%*****\n",
      "*****Total Avg Disparity: 0.1401994291997584*****\n",
      "\n",
      "Class Team_Sports: Recall Difference = 0.08677526712208805\n",
      "Class Celebration: Recall Difference = -0.08372093023255814\n",
      "Class Parade: Recall Difference = -0.072255489021956\n",
      "Class Waiter_Or_Waitress: Recall Difference = -0.1521035598705502\n",
      "Class Individual_Sports: Recall Difference = -0.02498864152657876\n",
      "Class Surgeons: Recall Difference = 0.16555801921655586\n",
      "Class Spa: Recall Difference = -0.45999999999999996\n",
      "Class Law_Enforcement: Recall Difference = 0.22097097097097096\n",
      "Class Business: Recall Difference = -0.13528219353462073\n",
      "Class Dresses: Recall Difference = -0.4207317073170732\n",
      "Class Water_Activities: Recall Difference = 0.02086486486486483\n",
      "Class Picnic: Recall Difference = -0.05454545454545451\n",
      "Class Rescue: Recall Difference = 0.030632911392405062\n",
      "Class Cheering: Recall Difference = -0.09023789991796557\n",
      "Class Performance_And_Entertainment: Recall Difference = 0.0661896243291592\n",
      "Class Family: Recall Difference = -0.15833333333333335\n",
      "Data has been appended to ./runs_2023_12_02_11_08/validation_0.txt\n"
     ]
    },
    {
     "name": "stderr",
     "output_type": "stream",
     "text": [
      "100%|███████████████████████████████████████████████████████████████████████████| 26/26 [01:50<00:00,  4.26s/it]\n"
     ]
    },
    {
     "name": "stdout",
     "output_type": "stream",
     "text": [
      "Average Adversary epoch loss: 0.15524373375452483\n"
     ]
    },
    {
     "name": "stderr",
     "output_type": "stream",
     "text": [
      "100%|███████████████████████████████████████████████████████████████████████████| 26/26 [01:55<00:00,  4.43s/it]\n",
      "100%|███████████████████████████████████████████████████████████████████████████| 10/10 [00:19<00:00,  2.00s/it]\n"
     ]
    },
    {
     "name": "stdout",
     "output_type": "stream",
     "text": [
      "*****Epoch 92/300*****\n",
      "*****Train Loss:  0.062095 Val Loss:  0.256074*****\n",
      "*****Validation Accuracy: 45.28%*****\n",
      "*****Total Avg Disparity: 0.14830083084644788*****\n",
      "\n",
      "Class Team_Sports: Recall Difference = 0.0690371927366148\n",
      "Class Celebration: Recall Difference = -0.013953488372093023\n",
      "Class Parade: Recall Difference = -0.06107784431137714\n",
      "Class Waiter_Or_Waitress: Recall Difference = -0.21451687471104947\n",
      "Class Individual_Sports: Recall Difference = -0.08855823110707262\n",
      "Class Surgeons: Recall Difference = 0.18994826311899485\n",
      "Class Spa: Recall Difference = -0.5\n",
      "Class Law_Enforcement: Recall Difference = 0.19094094094094094\n",
      "Class Business: Recall Difference = -0.16259468686653145\n",
      "Class Dresses: Recall Difference = -0.48780487804878053\n",
      "Class Water_Activities: Recall Difference = -0.034594594594594574\n",
      "Class Picnic: Recall Difference = 0.14545454545454534\n",
      "Class Rescue: Recall Difference = 0.02531645569620253\n",
      "Class Cheering: Recall Difference = -0.01927809680065623\n",
      "Class Performance_And_Entertainment: Recall Difference = -0.014737200783712434\n",
      "Class Family: Recall Difference = -0.155\n",
      "Data has been appended to ./runs_2023_12_02_11_08/validation_0.txt\n"
     ]
    },
    {
     "name": "stderr",
     "output_type": "stream",
     "text": [
      "100%|███████████████████████████████████████████████████████████████████████████| 26/26 [01:49<00:00,  4.21s/it]\n"
     ]
    },
    {
     "name": "stdout",
     "output_type": "stream",
     "text": [
      "Average Adversary epoch loss: 0.15597643302037165\n"
     ]
    },
    {
     "name": "stderr",
     "output_type": "stream",
     "text": [
      "100%|███████████████████████████████████████████████████████████████████████████| 26/26 [01:55<00:00,  4.45s/it]\n",
      "100%|███████████████████████████████████████████████████████████████████████████| 10/10 [00:19<00:00,  1.99s/it]\n"
     ]
    },
    {
     "name": "stdout",
     "output_type": "stream",
     "text": [
      "*****Epoch 93/300*****\n",
      "*****Train Loss:  0.061351 Val Loss:  0.244388*****\n",
      "*****Validation Accuracy: 45.80%*****\n",
      "*****Total Avg Disparity: 0.12401787255960511*****\n",
      "\n",
      "Class Team_Sports: Recall Difference = 0.12313890348572432\n",
      "Class Celebration: Recall Difference = 0.023255813953488358\n",
      "Class Parade: Recall Difference = 0.030111206159110337\n",
      "Class Waiter_Or_Waitress: Recall Difference = -0.19602404068423485\n",
      "Class Individual_Sports: Recall Difference = -0.06428895956383451\n",
      "Class Surgeons: Recall Difference = 0.18403547671840348\n",
      "Class Spa: Recall Difference = -0.3\n",
      "Class Law_Enforcement: Recall Difference = 0.2227227227227227\n",
      "Class Business: Recall Difference = -0.14371065827376506\n",
      "Class Dresses: Recall Difference = -0.34146341463414637\n",
      "Class Water_Activities: Recall Difference = 0.10551351351351362\n",
      "Class Picnic: Recall Difference = 0.09090909090909094\n",
      "Class Rescue: Recall Difference = 0.022531645569620257\n",
      "Class Cheering: Recall Difference = -0.03876127973748972\n",
      "Class Performance_And_Entertainment: Recall Difference = -0.06448590169520405\n",
      "Class Family: Recall Difference = -0.03333333333333338\n",
      "Data has been appended to ./runs_2023_12_02_11_08/validation_0.txt\n"
     ]
    },
    {
     "name": "stderr",
     "output_type": "stream",
     "text": [
      "100%|███████████████████████████████████████████████████████████████████████████| 26/26 [01:49<00:00,  4.21s/it]\n"
     ]
    },
    {
     "name": "stdout",
     "output_type": "stream",
     "text": [
      "Average Adversary epoch loss: 0.15472796330085167\n"
     ]
    },
    {
     "name": "stderr",
     "output_type": "stream",
     "text": [
      "100%|███████████████████████████████████████████████████████████████████████████| 26/26 [01:56<00:00,  4.49s/it]\n",
      "100%|███████████████████████████████████████████████████████████████████████████| 10/10 [00:20<00:00,  2.04s/it]\n"
     ]
    },
    {
     "name": "stdout",
     "output_type": "stream",
     "text": [
      "*****Epoch 94/300*****\n",
      "*****Train Loss:  0.060839 Val Loss:  0.254510*****\n",
      "*****Validation Accuracy: 46.29%*****\n",
      "*****Total Avg Disparity: 0.13594319172463432*****\n",
      "\n",
      "Class Team_Sports: Recall Difference = 0.15479652011443923\n",
      "Class Celebration: Recall Difference = -0.020930232558139528\n",
      "Class Parade: Recall Difference = -0.07008839463929273\n",
      "Class Waiter_Or_Waitress: Recall Difference = -0.0832177531206657\n",
      "Class Individual_Sports: Recall Difference = -0.024042102074814498\n",
      "Class Surgeons: Recall Difference = 0.1840354767184036\n",
      "Class Spa: Recall Difference = -0.3\n",
      "Class Law_Enforcement: Recall Difference = 0.25500500500500506\n",
      "Class Business: Recall Difference = -0.1418969380134429\n",
      "Class Dresses: Recall Difference = -0.5\n",
      "Class Water_Activities: Recall Difference = -0.011675675675675623\n",
      "Class Picnic: Recall Difference = 0.14545454545454545\n",
      "Class Rescue: Recall Difference = 0.04126582278481013\n",
      "Class Cheering: Recall Difference = -0.03527481542247743\n",
      "Class Performance_And_Entertainment: Recall Difference = -0.03407445267910386\n",
      "Class Family: Recall Difference = -0.17333333333333334\n",
      "Data has been appended to ./runs_2023_12_02_11_08/validation_0.txt\n"
     ]
    },
    {
     "name": "stderr",
     "output_type": "stream",
     "text": [
      "100%|███████████████████████████████████████████████████████████████████████████| 26/26 [01:48<00:00,  4.17s/it]\n"
     ]
    },
    {
     "name": "stdout",
     "output_type": "stream",
     "text": [
      "Average Adversary epoch loss: 0.1549223277431268\n"
     ]
    },
    {
     "name": "stderr",
     "output_type": "stream",
     "text": [
      "100%|███████████████████████████████████████████████████████████████████████████| 26/26 [01:55<00:00,  4.46s/it]\n",
      "100%|███████████████████████████████████████████████████████████████████████████| 10/10 [00:19<00:00,  1.98s/it]\n"
     ]
    },
    {
     "name": "stdout",
     "output_type": "stream",
     "text": [
      "*****Epoch 95/300*****\n",
      "*****Train Loss:  0.061328 Val Loss:  0.247320*****\n",
      "*****Validation Accuracy: 46.26%*****\n",
      "*****Total Avg Disparity: 0.12924528352620815*****\n",
      "\n",
      "Class Team_Sports: Recall Difference = 0.10343901442167347\n",
      "Class Celebration: Recall Difference = 0.02790697674418602\n",
      "Class Parade: Recall Difference = 0.07693185058454521\n",
      "Class Waiter_Or_Waitress: Recall Difference = -0.19602404068423482\n",
      "Class Individual_Sports: Recall Difference = -0.02127820687566262\n",
      "Class Surgeons: Recall Difference = 0.14708056171470812\n",
      "Class Spa: Recall Difference = -0.42000000000000004\n",
      "Class Law_Enforcement: Recall Difference = 0.24799799799799793\n",
      "Class Business: Recall Difference = -0.1470180305131762\n",
      "Class Dresses: Recall Difference = -0.4085365853658537\n",
      "Class Water_Activities: Recall Difference = 0.056432432432432456\n",
      "Class Picnic: Recall Difference = 0.018181818181818188\n",
      "Class Rescue: Recall Difference = 0.005316455696202531\n",
      "Class Cheering: Recall Difference = -0.06849876948318295\n",
      "Class Performance_And_Entertainment: Recall Difference = -0.028281795723656245\n",
      "Class Family: Recall Difference = -0.09500000000000008\n",
      "Data has been appended to ./runs_2023_12_02_11_08/validation_0.txt\n"
     ]
    },
    {
     "name": "stderr",
     "output_type": "stream",
     "text": [
      "100%|███████████████████████████████████████████████████████████████████████████| 26/26 [01:51<00:00,  4.30s/it]\n"
     ]
    },
    {
     "name": "stdout",
     "output_type": "stream",
     "text": [
      "Average Adversary epoch loss: 0.1544947916498551\n"
     ]
    },
    {
     "name": "stderr",
     "output_type": "stream",
     "text": [
      "100%|███████████████████████████████████████████████████████████████████████████| 26/26 [01:54<00:00,  4.40s/it]\n",
      "100%|███████████████████████████████████████████████████████████████████████████| 10/10 [00:20<00:00,  2.01s/it]\n"
     ]
    },
    {
     "name": "stdout",
     "output_type": "stream",
     "text": [
      "*****Epoch 96/300*****\n",
      "*****Train Loss:  0.060926 Val Loss:  0.254582*****\n",
      "*****Validation Accuracy: 45.95%*****\n",
      "*****Total Avg Disparity: 0.1288242351099675*****\n",
      "\n",
      "Class Team_Sports: Recall Difference = 0.0959304022887838\n",
      "Class Celebration: Recall Difference = 0.004651162790697633\n",
      "Class Parade: Recall Difference = -0.03416025092671804\n",
      "Class Waiter_Or_Waitress: Recall Difference = -0.030513176144244092\n",
      "Class Individual_Sports: Recall Difference = -0.06534908374981074\n",
      "Class Surgeons: Recall Difference = 0.17738359201773846\n",
      "Class Spa: Recall Difference = -0.42000000000000004\n",
      "Class Law_Enforcement: Recall Difference = 0.13963963963963966\n",
      "Class Business: Recall Difference = -0.19865571321882003\n",
      "Class Dresses: Recall Difference = -0.48170731707317077\n",
      "Class Water_Activities: Recall Difference = 0.025513513513513497\n",
      "Class Picnic: Recall Difference = 0.14545454545454545\n",
      "Class Rescue: Recall Difference = 0.012658227848101266\n",
      "Class Cheering: Recall Difference = 0.01927809680065623\n",
      "Class Performance_And_Entertainment: Recall Difference = 0.040293040293040316\n",
      "Class Family: Recall Difference = -0.1700000000000001\n",
      "Data has been appended to ./runs_2023_12_02_11_08/validation_0.txt\n"
     ]
    },
    {
     "name": "stderr",
     "output_type": "stream",
     "text": [
      "100%|███████████████████████████████████████████████████████████████████████████| 26/26 [01:51<00:00,  4.28s/it]\n"
     ]
    },
    {
     "name": "stdout",
     "output_type": "stream",
     "text": [
      "Average Adversary epoch loss: 0.1546970709012105\n"
     ]
    },
    {
     "name": "stderr",
     "output_type": "stream",
     "text": [
      "100%|███████████████████████████████████████████████████████████████████████████| 26/26 [01:55<00:00,  4.43s/it]\n",
      "100%|███████████████████████████████████████████████████████████████████████████| 10/10 [00:19<00:00,  1.97s/it]\n"
     ]
    },
    {
     "name": "stdout",
     "output_type": "stream",
     "text": [
      "*****Epoch 97/300*****\n",
      "*****Train Loss:  0.060643 Val Loss:  0.259064*****\n",
      "*****Validation Accuracy: 43.81%*****\n",
      "*****Total Avg Disparity: 0.14809134631553533*****\n",
      "\n",
      "Class Team_Sports: Recall Difference = 0.10035616278390835\n",
      "Class Celebration: Recall Difference = -0.05813953488372095\n",
      "Class Parade: Recall Difference = 0.0325634445394925\n",
      "Class Waiter_Or_Waitress: Recall Difference = -0.16782246879334256\n",
      "Class Individual_Sports: Recall Difference = -0.12501893078903537\n",
      "Class Surgeons: Recall Difference = 0.2505543237250555\n",
      "Class Spa: Recall Difference = -0.5199999999999999\n",
      "Class Law_Enforcement: Recall Difference = 0.22597597597597602\n",
      "Class Business: Recall Difference = -0.07137522671503255\n",
      "Class Dresses: Recall Difference = -0.4512195121951219\n",
      "Class Water_Activities: Recall Difference = -0.007891891891891878\n",
      "Class Picnic: Recall Difference = 0.16363636363636364\n",
      "Class Rescue: Recall Difference = 0.06860759493670884\n",
      "Class Cheering: Recall Difference = -0.06644790812141096\n",
      "Class Performance_And_Entertainment: Recall Difference = -0.03151886872817111\n",
      "Class Family: Recall Difference = -0.02833333333333335\n",
      "Data has been appended to ./runs_2023_12_02_11_08/validation_0.txt\n"
     ]
    },
    {
     "name": "stderr",
     "output_type": "stream",
     "text": [
      "100%|███████████████████████████████████████████████████████████████████████████| 26/26 [01:51<00:00,  4.29s/it]\n"
     ]
    },
    {
     "name": "stdout",
     "output_type": "stream",
     "text": [
      "Average Adversary epoch loss: 0.15481473620121294\n"
     ]
    },
    {
     "name": "stderr",
     "output_type": "stream",
     "text": [
      "100%|███████████████████████████████████████████████████████████████████████████| 26/26 [01:54<00:00,  4.39s/it]\n",
      "100%|███████████████████████████████████████████████████████████████████████████| 10/10 [00:19<00:00,  2.00s/it]\n"
     ]
    },
    {
     "name": "stdout",
     "output_type": "stream",
     "text": [
      "*****Epoch 98/300*****\n",
      "*****Train Loss:  0.060554 Val Loss:  0.256152*****\n",
      "*****Validation Accuracy: 45.51%*****\n",
      "*****Total Avg Disparity: 0.16394718816226683*****\n",
      "\n",
      "Class Team_Sports: Recall Difference = 0.10102177847842608\n",
      "Class Celebration: Recall Difference = -0.04651162790697677\n",
      "Class Parade: Recall Difference = 0.05406330196749359\n",
      "Class Waiter_Or_Waitress: Recall Difference = -0.21451687471104947\n",
      "Class Individual_Sports: Recall Difference = -0.09635771618961086\n",
      "Class Surgeons: Recall Difference = 0.20768662232076862\n",
      "Class Spa: Recall Difference = -0.48\n",
      "Class Law_Enforcement: Recall Difference = 0.21921921921921922\n",
      "Class Business: Recall Difference = -0.16771577936626475\n",
      "Class Dresses: Recall Difference = -0.39634146341463417\n",
      "Class Water_Activities: Recall Difference = 0.010918918918919052\n",
      "Class Picnic: Recall Difference = -0.4\n",
      "Class Rescue: Recall Difference = 0.026582278481012633\n",
      "Class Cheering: Recall Difference = -0.046144380639868754\n",
      "Class Performance_And_Entertainment: Recall Difference = -0.0877417156486924\n",
      "Class Family: Recall Difference = -0.06833333333333333\n",
      "Data has been appended to ./runs_2023_12_02_11_08/validation_0.txt\n"
     ]
    },
    {
     "name": "stderr",
     "output_type": "stream",
     "text": [
      "100%|███████████████████████████████████████████████████████████████████████████| 26/26 [01:52<00:00,  4.31s/it]\n"
     ]
    },
    {
     "name": "stdout",
     "output_type": "stream",
     "text": [
      "Average Adversary epoch loss: 0.15413173402731234\n"
     ]
    },
    {
     "name": "stderr",
     "output_type": "stream",
     "text": [
      "100%|███████████████████████████████████████████████████████████████████████████| 26/26 [01:54<00:00,  4.39s/it]\n",
      "100%|███████████████████████████████████████████████████████████████████████████| 10/10 [00:20<00:00,  2.01s/it]\n"
     ]
    },
    {
     "name": "stdout",
     "output_type": "stream",
     "text": [
      "*****Epoch 99/300*****\n",
      "*****Train Loss:  0.060752 Val Loss:  0.240479*****\n",
      "*****Validation Accuracy: 47.07%*****\n",
      "*****Total Avg Disparity: 0.14210853155891376*****\n",
      "\n",
      "Class Team_Sports: Recall Difference = 0.09299935773924228\n",
      "Class Celebration: Recall Difference = -0.06511627906976747\n",
      "Class Parade: Recall Difference = -0.02623324779013403\n",
      "Class Waiter_Or_Waitress: Recall Difference = -0.21636615811373094\n",
      "Class Individual_Sports: Recall Difference = -0.12861578070573992\n",
      "Class Surgeons: Recall Difference = 0.20842572062084253\n",
      "Class Spa: Recall Difference = -0.45999999999999996\n",
      "Class Law_Enforcement: Recall Difference = 0.24474474474474472\n",
      "Class Business: Recall Difference = -0.13346847327429856\n",
      "Class Dresses: Recall Difference = -0.47425474254742556\n",
      "Class Water_Activities: Recall Difference = 0.01643243243243242\n",
      "Class Picnic: Recall Difference = -0.05454545454545451\n",
      "Class Rescue: Recall Difference = 0.02329113924050632\n",
      "Class Cheering: Recall Difference = -0.10910582444626746\n",
      "Class Performance_And_Entertainment: Recall Difference = -0.01013714967203344\n",
      "Class Family: Recall Difference = 0.009999999999999981\n",
      "Data has been appended to ./runs_2023_12_02_11_08/validation_0.txt\n"
     ]
    },
    {
     "name": "stderr",
     "output_type": "stream",
     "text": [
      "100%|███████████████████████████████████████████████████████████████████████████| 26/26 [01:51<00:00,  4.27s/it]\n"
     ]
    },
    {
     "name": "stdout",
     "output_type": "stream",
     "text": [
      "Average Adversary epoch loss: 0.1533174027617161\n"
     ]
    },
    {
     "name": "stderr",
     "output_type": "stream",
     "text": [
      "100%|███████████████████████████████████████████████████████████████████████████| 26/26 [01:53<00:00,  4.37s/it]\n",
      "100%|███████████████████████████████████████████████████████████████████████████| 10/10 [00:19<00:00,  1.96s/it]\n"
     ]
    },
    {
     "name": "stdout",
     "output_type": "stream",
     "text": [
      "*****Epoch 100/300*****\n",
      "*****Train Loss:  0.060645 Val Loss:  0.249336*****\n",
      "*****Validation Accuracy: 45.17%*****\n",
      "*****Total Avg Disparity: 0.14200343245922642*****\n",
      "\n",
      "Class Team_Sports: Recall Difference = 0.10075319670695404\n",
      "Class Celebration: Recall Difference = -0.03488372093023262\n",
      "Class Parade: Recall Difference = 0.027088679783290603\n",
      "Class Waiter_Or_Waitress: Recall Difference = -0.1581137309292649\n",
      "Class Individual_Sports: Recall Difference = -0.08685446009389675\n",
      "Class Surgeons: Recall Difference = 0.28085735402808576\n",
      "Class Spa: Recall Difference = -0.27999999999999997\n",
      "Class Law_Enforcement: Recall Difference = 0.21946946946946966\n",
      "Class Business: Recall Difference = -0.1638749599914648\n",
      "Class Dresses: Recall Difference = -0.49254742547425484\n",
      "Class Water_Activities: Recall Difference = 0.06054054054054059\n",
      "Class Picnic: Recall Difference = -0.18181818181818182\n",
      "Class Rescue: Recall Difference = -0.016708860759493682\n",
      "Class Cheering: Recall Difference = -0.06644790812141102\n",
      "Class Performance_And_Entertainment: Recall Difference = -0.012096430701081906\n",
      "Class Family: Recall Difference = -0.09000000000000002\n",
      "Data has been appended to ./runs_2023_12_02_11_08/validation_0.txt\n"
     ]
    },
    {
     "name": "stderr",
     "output_type": "stream",
     "text": [
      "100%|███████████████████████████████████████████████████████████████████████████| 26/26 [01:50<00:00,  4.26s/it]\n"
     ]
    },
    {
     "name": "stdout",
     "output_type": "stream",
     "text": [
      "Average Adversary epoch loss: 0.15366429950182253\n"
     ]
    },
    {
     "name": "stderr",
     "output_type": "stream",
     "text": [
      "100%|███████████████████████████████████████████████████████████████████████████| 26/26 [01:56<00:00,  4.47s/it]\n",
      "100%|███████████████████████████████████████████████████████████████████████████| 10/10 [00:20<00:00,  2.00s/it]\n"
     ]
    },
    {
     "name": "stdout",
     "output_type": "stream",
     "text": [
      "*****Epoch 101/300*****\n",
      "*****Train Loss:  0.058871 Val Loss:  0.232694*****\n",
      "*****Validation Accuracy: 48.31%*****\n",
      "*****Total Avg Disparity: 0.13621578433731646*****\n",
      "\n",
      "Class Team_Sports: Recall Difference = 0.10579786302329652\n",
      "Class Celebration: Recall Difference = -0.025581395348837188\n",
      "Class Parade: Recall Difference = -0.059994297120045614\n",
      "Class Waiter_Or_Waitress: Recall Difference = -0.1872399445214979\n",
      "Class Individual_Sports: Recall Difference = -0.03184158715735286\n",
      "Class Surgeons: Recall Difference = 0.2143385070214339\n",
      "Class Spa: Recall Difference = -0.45999999999999996\n",
      "Class Law_Enforcement: Recall Difference = 0.23973973973973972\n",
      "Class Business: Recall Difference = -0.12119918916035421\n",
      "Class Dresses: Recall Difference = -0.5779132791327912\n",
      "Class Water_Activities: Recall Difference = 0.011459459459459476\n",
      "Class Picnic: Recall Difference = -0.018181818181818132\n",
      "Class Rescue: Recall Difference = -0.0007594936708860689\n",
      "Class Cheering: Recall Difference = -0.02502050861361771\n",
      "Class Performance_And_Entertainment: Recall Difference = 0.025385467245932436\n",
      "Class Family: Recall Difference = -0.07500000000000007\n",
      "Data has been appended to ./runs_2023_12_02_11_08/validation_0.txt\n"
     ]
    },
    {
     "name": "stderr",
     "output_type": "stream",
     "text": [
      "100%|███████████████████████████████████████████████████████████████████████████| 26/26 [01:50<00:00,  4.26s/it]\n"
     ]
    },
    {
     "name": "stdout",
     "output_type": "stream",
     "text": [
      "Average Adversary epoch loss: 0.15283547055262786\n"
     ]
    },
    {
     "name": "stderr",
     "output_type": "stream",
     "text": [
      "100%|███████████████████████████████████████████████████████████████████████████| 26/26 [01:57<00:00,  4.52s/it]\n",
      "100%|███████████████████████████████████████████████████████████████████████████| 10/10 [00:19<00:00,  1.99s/it]\n"
     ]
    },
    {
     "name": "stdout",
     "output_type": "stream",
     "text": [
      "*****Epoch 102/300*****\n",
      "*****Train Loss:  0.059490 Val Loss:  0.240006*****\n",
      "*****Validation Accuracy: 45.69%*****\n",
      "*****Total Avg Disparity: 0.13084749212491414*****\n",
      "\n",
      "Class Team_Sports: Recall Difference = 0.09609388684533215\n",
      "Class Celebration: Recall Difference = 0.03023255813953485\n",
      "Class Parade: Recall Difference = -0.021613915027088704\n",
      "Class Waiter_Or_Waitress: Recall Difference = -0.1474803513638465\n",
      "Class Individual_Sports: Recall Difference = -0.03384825079509324\n",
      "Class Surgeons: Recall Difference = 0.23281596452328152\n",
      "Class Spa: Recall Difference = -0.4\n",
      "Class Law_Enforcement: Recall Difference = 0.20595595595595595\n",
      "Class Business: Recall Difference = -0.15341939613784272\n",
      "Class Dresses: Recall Difference = -0.4573170731707317\n",
      "Class Water_Activities: Recall Difference = 0.009513513513513594\n",
      "Class Picnic: Recall Difference = -0.2\n",
      "Class Rescue: Recall Difference = 0.02329113924050632\n",
      "Class Cheering: Recall Difference = -0.02358490566037741\n",
      "Class Performance_And_Entertainment: Recall Difference = -0.03339296362552174\n",
      "Class Family: Recall Difference = -0.025000000000000078\n",
      "Data has been appended to ./runs_2023_12_02_11_08/validation_0.txt\n"
     ]
    },
    {
     "name": "stderr",
     "output_type": "stream",
     "text": [
      "100%|███████████████████████████████████████████████████████████████████████████| 26/26 [01:48<00:00,  4.16s/it]\n"
     ]
    },
    {
     "name": "stdout",
     "output_type": "stream",
     "text": [
      "Average Adversary epoch loss: 0.1536180434318689\n"
     ]
    },
    {
     "name": "stderr",
     "output_type": "stream",
     "text": [
      "100%|███████████████████████████████████████████████████████████████████████████| 26/26 [01:55<00:00,  4.45s/it]\n",
      "100%|███████████████████████████████████████████████████████████████████████████| 10/10 [00:20<00:00,  2.00s/it]\n"
     ]
    },
    {
     "name": "stdout",
     "output_type": "stream",
     "text": [
      "*****Epoch 103/300*****\n",
      "*****Train Loss:  0.059043 Val Loss:  0.250795*****\n",
      "*****Validation Accuracy: 46.90%*****\n",
      "*****Total Avg Disparity: 0.14335277974376223*****\n",
      "\n",
      "Class Team_Sports: Recall Difference = 0.0892392129386349\n",
      "Class Celebration: Recall Difference = -0.04186046511627911\n",
      "Class Parade: Recall Difference = -0.03957798688337605\n",
      "Class Waiter_Or_Waitress: Recall Difference = -0.24456773000462315\n",
      "Class Individual_Sports: Recall Difference = -0.07799485082538249\n",
      "Class Surgeons: Recall Difference = 0.19586104951958605\n",
      "Class Spa: Recall Difference = -0.4\n",
      "Class Law_Enforcement: Recall Difference = 0.22797797797797809\n",
      "Class Business: Recall Difference = -0.20527045769764213\n",
      "Class Dresses: Recall Difference = -0.475609756097561\n",
      "Class Water_Activities: Recall Difference = 0.02356756756756756\n",
      "Class Picnic: Recall Difference = 0.14545454545454545\n",
      "Class Rescue: Recall Difference = 0.01797468354430379\n",
      "Class Cheering: Recall Difference = -0.022969647251845804\n",
      "Class Performance_And_Entertainment: Recall Difference = -0.002385211687537192\n",
      "Class Family: Recall Difference = -0.08333333333333331\n",
      "Data has been appended to ./runs_2023_12_02_11_08/validation_0.txt\n"
     ]
    },
    {
     "name": "stderr",
     "output_type": "stream",
     "text": [
      "100%|███████████████████████████████████████████████████████████████████████████| 26/26 [01:50<00:00,  4.25s/it]\n"
     ]
    },
    {
     "name": "stdout",
     "output_type": "stream",
     "text": [
      "Average Adversary epoch loss: 0.15388233673114043\n"
     ]
    },
    {
     "name": "stderr",
     "output_type": "stream",
     "text": [
      "100%|███████████████████████████████████████████████████████████████████████████| 26/26 [01:56<00:00,  4.48s/it]\n",
      "100%|███████████████████████████████████████████████████████████████████████████| 10/10 [00:19<00:00,  1.99s/it]\n"
     ]
    },
    {
     "name": "stdout",
     "output_type": "stream",
     "text": [
      "*****Epoch 104/300*****\n",
      "*****Train Loss:  0.058981 Val Loss:  0.239936*****\n",
      "*****Validation Accuracy: 46.93%*****\n",
      "*****Total Avg Disparity: 0.13759769336327327*****\n",
      "\n",
      "Class Team_Sports: Recall Difference = 0.12005605184795942\n",
      "Class Celebration: Recall Difference = 0.0046511627906976605\n",
      "Class Parade: Recall Difference = 0.03689763330481882\n",
      "Class Waiter_Or_Waitress: Recall Difference = -0.1317614424410541\n",
      "Class Individual_Sports: Recall Difference = 0.03210661820384664\n",
      "Class Surgeons: Recall Difference = 0.2143385070214339\n",
      "Class Spa: Recall Difference = -0.38\n",
      "Class Law_Enforcement: Recall Difference = 0.20045045045045046\n",
      "Class Business: Recall Difference = -0.2129520964472421\n",
      "Class Dresses: Recall Difference = -0.44512195121951215\n",
      "Class Water_Activities: Recall Difference = -0.026594594594594678\n",
      "Class Picnic: Recall Difference = -0.21818181818181814\n",
      "Class Rescue: Recall Difference = -0.013417721518987319\n",
      "Class Cheering: Recall Difference = -0.014150943396226412\n",
      "Class Performance_And_Entertainment: Recall Difference = 0.05588210239373026\n",
      "Class Family: Recall Difference = -0.09500000000000006\n",
      "Data has been appended to ./runs_2023_12_02_11_08/validation_0.txt\n"
     ]
    },
    {
     "name": "stderr",
     "output_type": "stream",
     "text": [
      "100%|███████████████████████████████████████████████████████████████████████████| 26/26 [01:49<00:00,  4.21s/it]\n"
     ]
    },
    {
     "name": "stdout",
     "output_type": "stream",
     "text": [
      "Average Adversary epoch loss: 0.1540949298785283\n"
     ]
    },
    {
     "name": "stderr",
     "output_type": "stream",
     "text": [
      "100%|███████████████████████████████████████████████████████████████████████████| 26/26 [01:54<00:00,  4.41s/it]\n",
      "100%|███████████████████████████████████████████████████████████████████████████| 10/10 [00:20<00:00,  2.02s/it]\n"
     ]
    },
    {
     "name": "stdout",
     "output_type": "stream",
     "text": [
      "*****Epoch 105/300*****\n",
      "*****Train Loss:  0.060300 Val Loss:  0.247000*****\n",
      "*****Validation Accuracy: 46.96%*****\n",
      "*****Total Avg Disparity: 0.1228548897400688*****\n",
      "\n",
      "Class Team_Sports: Recall Difference = 0.0645530448998658\n",
      "Class Celebration: Recall Difference = -0.05116279069767449\n",
      "Class Parade: Recall Difference = -0.048018249215854014\n",
      "Class Waiter_Or_Waitress: Recall Difference = -0.07535829865926952\n",
      "Class Individual_Sports: Recall Difference = -0.069059518400727\n",
      "Class Surgeons: Recall Difference = 0.18994826311899474\n",
      "Class Spa: Recall Difference = -0.3999999999999999\n",
      "Class Law_Enforcement: Recall Difference = 0.22097097097097096\n",
      "Class Business: Recall Difference = -0.1669689533767204\n",
      "Class Dresses: Recall Difference = -0.4329268292682927\n",
      "Class Water_Activities: Recall Difference = -0.008432432432432468\n",
      "Class Picnic: Recall Difference = 0.12727272727272726\n",
      "Class Rescue: Recall Difference = 0.02329113924050632\n",
      "Class Cheering: Recall Difference = -0.053322395406070505\n",
      "Class Performance_And_Entertainment: Recall Difference = 0.0027259562143283067\n",
      "Class Family: Recall Difference = -0.03166666666666665\n",
      "Data has been appended to ./runs_2023_12_02_11_08/validation_0.txt\n"
     ]
    },
    {
     "name": "stderr",
     "output_type": "stream",
     "text": [
      "100%|███████████████████████████████████████████████████████████████████████████| 26/26 [01:50<00:00,  4.26s/it]\n"
     ]
    },
    {
     "name": "stdout",
     "output_type": "stream",
     "text": [
      "Average Adversary epoch loss: 0.15388174068469268\n"
     ]
    },
    {
     "name": "stderr",
     "output_type": "stream",
     "text": [
      "100%|███████████████████████████████████████████████████████████████████████████| 26/26 [01:52<00:00,  4.34s/it]\n",
      "100%|███████████████████████████████████████████████████████████████████████████| 10/10 [00:19<00:00,  1.98s/it]\n"
     ]
    },
    {
     "name": "stdout",
     "output_type": "stream",
     "text": [
      "*****Epoch 106/300*****\n",
      "*****Train Loss:  0.058764 Val Loss:  0.253340*****\n",
      "*****Validation Accuracy: 45.51%*****\n",
      "*****Total Avg Disparity: 0.1503781452717342*****\n",
      "\n",
      "Class Team_Sports: Recall Difference = 0.0971565364628948\n",
      "Class Celebration: Recall Difference = 0.02558139534883716\n",
      "Class Parade: Recall Difference = -0.05263758197889934\n",
      "Class Waiter_Or_Waitress: Recall Difference = -0.18631530282015718\n",
      "Class Individual_Sports: Recall Difference = -0.04887929728911111\n",
      "Class Surgeons: Recall Difference = 0.20177383592017745\n",
      "Class Spa: Recall Difference = -0.54\n",
      "Class Law_Enforcement: Recall Difference = 0.2750250250250249\n",
      "Class Business: Recall Difference = -0.20655073082257544\n",
      "Class Dresses: Recall Difference = -0.4390243902439025\n",
      "Class Water_Activities: Recall Difference = 0.0029189189189188225\n",
      "Class Picnic: Recall Difference = 0.0\n",
      "Class Rescue: Recall Difference = 0.02531645569620253\n",
      "Class Cheering: Recall Difference = -0.080188679245283\n",
      "Class Performance_And_Entertainment: Recall Difference = 0.02930402930402931\n",
      "Class Family: Recall Difference = -0.045000000000000095\n",
      "Data has been appended to ./runs_2023_12_02_11_08/validation_0.txt\n"
     ]
    },
    {
     "name": "stderr",
     "output_type": "stream",
     "text": [
      "100%|███████████████████████████████████████████████████████████████████████████| 26/26 [01:49<00:00,  4.22s/it]\n"
     ]
    },
    {
     "name": "stdout",
     "output_type": "stream",
     "text": [
      "Average Adversary epoch loss: 0.15472441797073072\n"
     ]
    },
    {
     "name": "stderr",
     "output_type": "stream",
     "text": [
      "100%|███████████████████████████████████████████████████████████████████████████| 26/26 [01:56<00:00,  4.49s/it]\n",
      "100%|███████████████████████████████████████████████████████████████████████████| 10/10 [00:19<00:00,  1.98s/it]\n"
     ]
    },
    {
     "name": "stdout",
     "output_type": "stream",
     "text": [
      "*****Epoch 107/300*****\n",
      "*****Train Loss:  0.058880 Val Loss:  0.238180*****\n",
      "*****Validation Accuracy: 47.76%*****\n",
      "*****Total Avg Disparity: 0.15320510565923706*****\n",
      "\n",
      "Class Team_Sports: Recall Difference = 0.079815496000467\n",
      "Class Celebration: Recall Difference = -0.11860465116279068\n",
      "Class Parade: Recall Difference = -0.015112631879098837\n",
      "Class Waiter_Or_Waitress: Recall Difference = -0.20758206195099393\n",
      "Class Individual_Sports: Recall Difference = -0.04868998939875813\n",
      "Class Surgeons: Recall Difference = 0.22025129342202515\n",
      "Class Spa: Recall Difference = -0.45999999999999996\n",
      "Class Law_Enforcement: Recall Difference = 0.16366366366366364\n",
      "Class Business: Recall Difference = -0.1508588498879761\n",
      "Class Dresses: Recall Difference = -0.45731707317073167\n",
      "Class Water_Activities: Recall Difference = 0.024432432432432538\n",
      "Class Picnic: Recall Difference = 0.16363636363636364\n",
      "Class Rescue: Recall Difference = 0.04126582278481013\n",
      "Class Cheering: Recall Difference = -0.09762100082034458\n",
      "Class Performance_And_Entertainment: Recall Difference = -0.06576369367067048\n",
      "Class Family: Recall Difference = -0.1366666666666667\n",
      "Data has been appended to ./runs_2023_12_02_11_08/validation_0.txt\n"
     ]
    },
    {
     "name": "stderr",
     "output_type": "stream",
     "text": [
      "100%|███████████████████████████████████████████████████████████████████████████| 26/26 [01:50<00:00,  4.24s/it]\n"
     ]
    },
    {
     "name": "stdout",
     "output_type": "stream",
     "text": [
      "Average Adversary epoch loss: 0.15462774210251296\n"
     ]
    },
    {
     "name": "stderr",
     "output_type": "stream",
     "text": [
      "100%|███████████████████████████████████████████████████████████████████████████| 26/26 [01:56<00:00,  4.47s/it]\n",
      "100%|███████████████████████████████████████████████████████████████████████████| 10/10 [00:19<00:00,  1.99s/it]\n"
     ]
    },
    {
     "name": "stdout",
     "output_type": "stream",
     "text": [
      "*****Epoch 108/300*****\n",
      "*****Train Loss:  0.059645 Val Loss:  0.254617*****\n",
      "*****Validation Accuracy: 45.71%*****\n",
      "*****Total Avg Disparity: 0.15425610625526479*****\n",
      "\n",
      "Class Team_Sports: Recall Difference = 0.13026215916389328\n",
      "Class Celebration: Recall Difference = 0.06046511627906975\n",
      "Class Parade: Recall Difference = 0.019788993441688052\n",
      "Class Waiter_Or_Waitress: Recall Difference = -0.17753120665742028\n",
      "Class Individual_Sports: Recall Difference = -0.05913978494623662\n",
      "Class Surgeons: Recall Difference = 0.28085735402808565\n",
      "Class Spa: Recall Difference = -0.38\n",
      "Class Law_Enforcement: Recall Difference = 0.2532532532532532\n",
      "Class Business: Recall Difference = -0.22266083431131978\n",
      "Class Dresses: Recall Difference = -0.4315718157181572\n",
      "Class Water_Activities: Recall Difference = 0.04043243243243233\n",
      "Class Picnic: Recall Difference = 0.14545454545454545\n",
      "Class Rescue: Recall Difference = 0.08126582278481012\n",
      "Class Cheering: Recall Difference = -0.06419196062346191\n",
      "Class Performance_And_Entertainment: Recall Difference = -0.01788908765652958\n",
      "Class Family: Recall Difference = -0.10333333333333339\n",
      "Data has been appended to ./runs_2023_12_02_11_08/validation_0.txt\n"
     ]
    },
    {
     "name": "stderr",
     "output_type": "stream",
     "text": [
      " 92%|█████████████████████████████████████████████████████████████████████▏     | 24/26 [01:44<00:05,  2.82s/it]"
     ]
    }
   ],
   "source": [
    "# Loop for training the student model with different lambda values\n",
    "for i in lmda_list:\n",
    "    # load teacher model with lambda 0\n",
    "    teacher_model = torch.load('teacher_model_ckd_wider_lambda0.pth')\n",
    "    teacher_model.load_state_dict(torch.load('teacher_model_weights_ckd_wider_lambda0.pth'))\n",
    "    teacher_model = teacher_model.to(device)\n",
    "    \n",
    "    # Reset the student model for each lambda\n",
    "    student_model = torchvision.models.resnet18(weights=None).to(device)\n",
    "    student_model.fc = nn.Linear(512, num_classes)\n",
    "    student_optimizer = optim.Adam(student_model.parameters(), lr=best_lr_student)\n",
    "    student_scheduler = torch.optim.lr_scheduler.StepLR(student_optimizer, step_size=step_size, gamma=gamma)\n",
    "\n",
    "    adv = Adversary()\n",
    "    student_optimizer_adv = optim.Adam(adv.parameters(), lr=best_lr_student)\n",
    "\n",
    "    pretrain_student(student_model, teacher_model, trainloader, criterion_clf, student_optimizer, device, alpha, temperature, epochs_pretrain)\n",
    "    pretrain_adversary(adv, teacher_model, optimizer_adv, trainloader, adv_criterion, device, epochs_pretrain)\n",
    "    \n",
    "    student_mean_abs_val_disparity = train_student_with_distillation_disparity(student_model, teacher_model, adv, trainloader, testloader, criterion_clf, adv_criterion, student_optimizer, device, alpha, temperature, epochs, lmda=0, patience=patience_student, optimizer_adv=student_optimizer_adv)\n",
    "\n",
    "    torch.save(student_model.state_dict(), f'student_model_weights_ckd_wider_lambda{i}.pth')\n",
    "    torch.save(student_model, f'student_model_ckd_wider_lambda{i}.pth')\n",
    "    print('Student weights and architecture saved and exported for lambda:', i)\n",
    "\n",
    "    # Update the dictionary with the student results\n",
    "    lambda_results[i].update({\n",
    "        'student_mean_abs_val_disparity': student_mean_abs_val_disparity\n",
    "    })\n"
   ]
  },
  {
   "cell_type": "code",
   "execution_count": null,
   "id": "073656a3-9d3d-469d-a66f-0afc3c289ab9",
   "metadata": {},
   "outputs": [],
   "source": [
    "def compare_performance_metrics(teacher, student, dataloader):\n",
    "    teacher.eval()\n",
    "    student.eval()\n",
    "    \n",
    "    all_labels = []\n",
    "    all_teacher_preds = []\n",
    "    all_student_preds = []\n",
    "\n",
    "    for batch in dataloader:\n",
    "        inputs = batch['img'].to(device)\n",
    "        labels = batch['label'].to(device)\n",
    "        \n",
    "        with torch.no_grad():\n",
    "            teacher_outputs = teacher(inputs)\n",
    "            student_outputs = student(inputs)\n",
    "            \n",
    "        teacher_preds = torch.argmax(teacher_outputs, dim=1).cpu().numpy()\n",
    "        student_preds = torch.argmax(student_outputs, dim=1).cpu().numpy()\n",
    "        \n",
    "        all_labels.append(labels.cpu().numpy())\n",
    "        all_teacher_preds.append(teacher_preds)\n",
    "        all_student_preds.append(student_preds)\n",
    "\n",
    "    all_labels = np.concatenate(all_labels)\n",
    "    all_teacher_preds = np.concatenate(all_teacher_preds)\n",
    "    all_student_preds = np.concatenate(all_student_preds)\n",
    "    \n",
    "    metrics = {\n",
    "        'accuracy': (accuracy_score(all_labels, all_teacher_preds), accuracy_score(all_labels, all_student_preds)),\n",
    "        'precision': (precision_score(all_labels, all_teacher_preds, average='weighted', zero_division=0), precision_score(all_labels, all_student_preds, average='weighted', zero_division=0)),\n",
    "        'recall': (recall_score(all_labels, all_teacher_preds, average='weighted'), recall_score(all_labels, all_student_preds, average='weighted')),\n",
    "        'f1': (f1_score(all_labels, all_teacher_preds, average='weighted'), f1_score(all_labels, all_student_preds, average='weighted'))\n",
    "    }\n",
    "\n",
    "    return {\n",
    "        'metrics': metrics,\n",
    "        'all_labels': all_labels,\n",
    "        'all_teacher_preds': all_teacher_preds,\n",
    "        'all_student_preds': all_student_preds\n",
    "    }\n",
    "\n",
    "def compare_model_size(teacher, student):\n",
    "    teacher_params = sum(p.numel() for p in teacher.parameters())\n",
    "    student_params = sum(p.numel() for p in student.parameters())\n",
    "    return teacher_params, student_params\n",
    "\n",
    "def compare_inference_time(teacher, student, dataloader):\n",
    "    dataiter = iter(dataloader)\n",
    "    data = next(dataiter)\n",
    "    inputs = data['img']\n",
    "    \n",
    "    teacher = teacher.to(device)\n",
    "    student = student.to(device)\n",
    "    inputs = inputs.to(device)\n",
    "    \n",
    "    start_time = time.time()\n",
    "    with torch.no_grad():\n",
    "        teacher_outputs = teacher(inputs)\n",
    "    teacher_time = time.time() - start_time\n",
    "\n",
    "    start_time = time.time()\n",
    "    with torch.no_grad():\n",
    "        student_outputs = student(inputs)\n",
    "    student_time = time.time() - start_time\n",
    "    \n",
    "    return teacher_time, student_time"
   ]
  },
  {
   "cell_type": "code",
   "execution_count": null,
   "id": "249e04fd-db83-4893-bfd5-31d8808243d9",
   "metadata": {},
   "outputs": [],
   "source": [
    "# Loop through each lambda value\n",
    "for lmda in lmda_list:\n",
    "    # Load teacher and student models for the current lambda\n",
    "    teacher_model = torch.load(f'teacher_model_ckd_wider_lambda{lmda}.pth')\n",
    "    student_model = torch.load(f'student_model_ckd_wider_lambda{lmda}.pth')\n",
    "\n",
    "    # Compute performance metrics\n",
    "    performance_metrics = compare_performance_metrics(teacher_model, student_model, testloader)\n",
    "\n",
    "    # Compute model sizes and inference times\n",
    "    teacher_params, student_params = compare_model_size(teacher_model, student_model)\n",
    "    teacher_time, student_time = compare_inference_time(teacher_model, student_model, testloader)\n",
    "\n",
    "    # Update results for the current lambda value\n",
    "    if lmda in lambda_results:\n",
    "        lambda_results[lmda].update({\n",
    "            'performance_metrics': performance_metrics,\n",
    "            'teacher_params': teacher_params,\n",
    "            'student_params': student_params,\n",
    "            'teacher_time': teacher_time,\n",
    "            'student_time': student_time\n",
    "        })\n",
    "    else:\n",
    "        lambda_results[lmda] = {\n",
    "            'performance_metrics': performance_metrics,\n",
    "            'teacher_params': teacher_params,\n",
    "            'student_params': student_params,\n",
    "            'teacher_time': teacher_time,\n",
    "            'student_time': student_time\n",
    "        }\n"
   ]
  },
  {
   "cell_type": "code",
   "execution_count": null,
   "id": "4c127f4e-cc52-45ff-a035-9e0184fb9a64",
   "metadata": {},
   "outputs": [],
   "source": [
    "lambdas = list(lambda_results.keys())\n",
    "teacher_accuracies = [lambda_results[lmda]['performance_metrics']['metrics']['accuracy'][0] for lmda in lambdas]\n",
    "student_accuracies = [lambda_results[lmda]['performance_metrics']['metrics']['accuracy'][1] for lmda in lambdas]\n",
    "\n",
    "plt.plot(lambdas, teacher_accuracies, label='Teacher Accuracy', marker='o')\n",
    "plt.plot(lambdas, student_accuracies, label='Student Accuracy', marker='o')\n",
    "plt.xlabel('Lambda')\n",
    "plt.ylabel('Accuracy')\n",
    "plt.title('Accuracy Comparison Across Lambdas')\n",
    "plt.legend()\n",
    "plt.show()\n"
   ]
  },
  {
   "cell_type": "code",
   "execution_count": null,
   "id": "cf6d58ea-0417-4a20-bc3f-4b69f15b9452",
   "metadata": {},
   "outputs": [],
   "source": [
    "# Precision\n",
    "teacher_precisions = [lambda_results[lmda]['performance_metrics']['metrics']['precision'][0] for lmda in lambdas]\n",
    "student_precisions = [lambda_results[lmda]['performance_metrics']['metrics']['precision'][1] for lmda in lambdas]\n",
    "\n",
    "plt.figure(figsize=(10, 6))\n",
    "plt.plot(lambdas, teacher_precisions, label='Teacher Precision', marker='o')\n",
    "plt.plot(lambdas, student_precisions, label='Student Precision', marker='o')\n",
    "plt.xlabel('Lambda')\n",
    "plt.ylabel('Precision')\n",
    "plt.title('Precision Comparison Across Lambdas')\n",
    "plt.legend()\n",
    "plt.show()\n"
   ]
  },
  {
   "cell_type": "code",
   "execution_count": null,
   "id": "bf3ee757-c1af-4f1a-85bd-136bc85e6e98",
   "metadata": {},
   "outputs": [],
   "source": [
    "# Recall\n",
    "teacher_recalls = [lambda_results[lmda]['performance_metrics']['metrics']['recall'][0] for lmda in lambdas]\n",
    "student_recalls = [lambda_results[lmda]['performance_metrics']['metrics']['recall'][1] for lmda in lambdas]\n",
    "\n",
    "plt.figure(figsize=(10, 6))\n",
    "plt.plot(lambdas, teacher_recalls, label='Teacher Recall', marker='o')\n",
    "plt.plot(lambdas, student_recalls, label='Student Recall', marker='o')\n",
    "plt.xlabel('Lambda')\n",
    "plt.ylabel('Recall')\n",
    "plt.title('Recall Comparison Across Lambdas')\n",
    "plt.legend()\n",
    "plt.show()\n"
   ]
  },
  {
   "cell_type": "code",
   "execution_count": null,
   "id": "f0d4e93d-9344-49fc-978f-a00d8d8e8eea",
   "metadata": {},
   "outputs": [],
   "source": [
    "# F1 Score\n",
    "teacher_f1s = [lambda_results[lmda]['performance_metrics']['metrics']['f1'][0] for lmda in lambdas]\n",
    "student_f1s = [lambda_results[lmda]['performance_metrics']['metrics']['f1'][1] for lmda in lambdas]\n",
    "\n",
    "plt.figure(figsize=(10, 6))\n",
    "plt.plot(lambdas, teacher_f1s, label='Teacher F1 Score', marker='o')\n",
    "plt.plot(lambdas, student_f1s, label='Student F1 Score', marker='o')\n",
    "plt.xlabel('Lambda')\n",
    "plt.ylabel('F1 Score')\n",
    "plt.title('F1 Score Comparison Across Lambdas')\n",
    "plt.legend()\n",
    "plt.show()\n"
   ]
  },
  {
   "cell_type": "code",
   "execution_count": null,
   "id": "85b769e1-25e1-423c-b77f-af275eb11152",
   "metadata": {},
   "outputs": [],
   "source": [
    "# Model Size\n",
    "teacher_sizes = [lambda_results[lmda]['teacher_params'] / 1e6 for lmda in lambdas]  # Convert to millions\n",
    "student_sizes = [lambda_results[lmda]['student_params'] / 1e6 for lmda in lambdas]\n",
    "\n",
    "plt.figure(figsize=(10, 6))\n",
    "plt.plot(lambdas, teacher_sizes, label='Teacher Model Size', marker='o')\n",
    "plt.plot(lambdas, student_sizes, label='Student Model Size', marker='o')\n",
    "plt.xlabel('Lambda')\n",
    "plt.ylabel('Model Size (Millions of Parameters)')\n",
    "plt.title('Model Size Comparison Across Lambdas')\n",
    "plt.legend()\n",
    "plt.show()\n"
   ]
  },
  {
   "cell_type": "code",
   "execution_count": null,
   "id": "3c8aae8d-9a0d-45b3-9fc2-c27bc5fcaa5a",
   "metadata": {},
   "outputs": [],
   "source": [
    "# Inference Time\n",
    "teacher_times = [lambda_results[lmda]['teacher_time'] for lmda in lambdas]\n",
    "student_times = [lambda_results[lmda]['student_time'] for lmda in lambdas]\n",
    "\n",
    "plt.figure(figsize=(10, 6))\n",
    "plt.plot(lambdas, teacher_times, label='Teacher Inference Time', marker='o')\n",
    "plt.plot(lambdas, student_times, label='Student Inference Time', marker='o')\n",
    "plt.xlabel('Lambda')\n",
    "plt.ylabel('Inference Time (s)')\n",
    "plt.title('Inference Time Comparison Across Lambdas')\n",
    "plt.legend()\n",
    "plt.show()\n"
   ]
  },
  {
   "cell_type": "code",
   "execution_count": null,
   "id": "6b7cb7f0-12a9-4cec-8188-048c3ffcadad",
   "metadata": {},
   "outputs": [],
   "source": [
    "# Extracting disparity values for both teacher and student models\n",
    "teacher_disparities = [lambda_results[lmda]['teacher_mean_abs_val_disparity'] for lmda in lambdas]\n",
    "student_disparities = [lambda_results[lmda]['student_mean_abs_val_disparity'] for lmda in lambdas]\n",
    "\n",
    "plt.figure(figsize=(10, 6))\n",
    "plt.plot(lambdas, teacher_disparities, label='Teacher Average Disparity', marker='o')\n",
    "plt.plot(lambdas, student_disparities, label='Student Average Disparity', marker='o')\n",
    "plt.xlabel('Lambda')\n",
    "plt.ylabel('Average Disparity')\n",
    "plt.title('Average Disparity Comparison Across Lambdas')\n",
    "plt.legend()\n",
    "plt.show()\n"
   ]
  },
  {
   "cell_type": "code",
   "execution_count": null,
   "id": "ee80376f-d5b1-4008-8099-18693972c15a",
   "metadata": {},
   "outputs": [],
   "source": [
    "def plot_combined_distribution(teacher_preds, student_preds, class_names, lmda):\n",
    "    plt.figure(figsize=(12, 6))\n",
    "    plt.subplot(1, 2, 1)\n",
    "    sns.countplot(x=teacher_preds)\n",
    "    plt.title(f'Teacher Model Predictions (Lambda={lmda})')\n",
    "    plt.xlabel('Class')\n",
    "    plt.ylabel('Count')\n",
    "    plt.xticks(range(len(class_names)), class_names, rotation=45)\n",
    "\n",
    "    plt.subplot(1, 2, 2)\n",
    "    sns.countplot(x=student_preds)\n",
    "    plt.title(f'Student Model Predictions (Lambda={lmda})')\n",
    "    plt.xlabel('Class')\n",
    "    plt.ylabel('Count')\n",
    "    plt.xticks(range(len(class_names)), class_names, rotation=45)\n",
    "    plt.tight_layout()\n",
    "    plt.show()\n",
    "\n",
    "def plot_combined_confusion_matrix(all_labels, teacher_preds, student_preds, class_names, lmda):\n",
    "    cm_teacher = confusion_matrix(all_labels, teacher_preds)\n",
    "    cm_student = confusion_matrix(all_labels, student_preds)\n",
    "    plt.figure(figsize=(12, 6))\n",
    "    plt.subplot(1, 2, 1)\n",
    "    sns.heatmap(pd.DataFrame(cm_teacher, index=class_names, columns=class_names), annot=True, fmt='g')\n",
    "    plt.title(f'Teacher Confusion Matrix (Lambda={lmda})')\n",
    "    plt.ylabel('True Label')\n",
    "    plt.xlabel('Predicted Label')\n",
    "\n",
    "    plt.subplot(1, 2, 2)\n",
    "    sns.heatmap(pd.DataFrame(cm_student, index=class_names, columns=class_names), annot=True, fmt='g')\n",
    "    plt.title(f'Student Confusion Matrix (Lambda={lmda})')\n",
    "    plt.ylabel('True Label')\n",
    "    plt.xlabel('Predicted Label')\n",
    "    plt.tight_layout()\n",
    "    plt.show()\n",
    "\n",
    "# Loop over each lambda value\n",
    "for lmda in lmda_list:\n",
    "    # Load teacher and student models\n",
    "    teacher_model = torch.load(f'teacher_model_ckd_wider_lambda{lmda}.pth')\n",
    "    student_model = torch.load(f'student_model_ckd_wider_lambda{lmda}.pth')\n",
    "\n",
    "    # Generate predictions and compute metrics\n",
    "    performance_metrics = compare_performance_metrics(teacher_model, student_model, testloader)\n",
    "    all_labels = performance_metrics['all_labels']\n",
    "    all_teacher_preds = performance_metrics['all_teacher_preds']\n",
    "    all_student_preds = performance_metrics['all_student_preds']\n",
    "\n",
    "    # Plot distribution and confusion matrices\n",
    "    plot_combined_distribution(all_teacher_preds, all_student_preds, class_names_new, lmda)\n",
    "    plot_combined_confusion_matrix(all_labels, all_teacher_preds, all_student_preds, class_names_new, lmda)\n",
    "\n",
    "    # Print classification reports\n",
    "    teacher_report = classification_report(all_labels, all_teacher_preds, target_names=class_names_new, zero_division=0)\n",
    "    student_report = classification_report(all_labels, all_student_preds, target_names=class_names_new, zero_division=0)\n",
    "    print(f'Classification Report - Teacher Model (Lambda={lmda})')\n",
    "    print(teacher_report)\n",
    "    print(f'Classification Report - Student Model (Lambda={lmda})')\n",
    "    print(student_report)\n"
   ]
  },
  {
   "cell_type": "code",
   "execution_count": null,
   "id": "8cf516d7-2f71-4abd-b904-0e1364cca7ed",
   "metadata": {},
   "outputs": [],
   "source": [
    "def plot_bias_variance_tradeoff(model_results, model_type, lambdas):\n",
    "    # Extract bias (disparity) and accuracy values\n",
    "    if model_type == 'teacher':\n",
    "        bias_values = [result['teacher_mean_abs_val_disparity'][0] for result in model_results.values()]\n",
    "        accuracy_values = [result['performance_metrics']['metrics']['accuracy'][0] for result in model_results.values()]\n",
    "        model_name = \"Teacher\"\n",
    "    elif model_type == 'student':\n",
    "        bias_values = [result['student_mean_abs_val_disparity'] for result in model_results.values()]\n",
    "        accuracy_values = [result['performance_metrics']['metrics']['accuracy'][1] for result in model_results.values()]\n",
    "        model_name = \"Student\"\n",
    "    else:\n",
    "        raise ValueError(\"Invalid model type. Choose 'teacher' or 'student'.\")\n",
    "\n",
    "    # Weight for the trade-off (can be adjusted based on preference)\n",
    "    bias_weight = 1\n",
    "\n",
    "    # Calculate the weighted ratio\n",
    "    weighted_ratios = np.array(accuracy_values) / (1 + bias_weight * np.array(bias_values))\n",
    "    closest_to_one_index = np.argmin(np.abs(weighted_ratios - 1))\n",
    "    optimal_bias = bias_values[closest_to_one_index]\n",
    "    optimal_accuracy = accuracy_values[closest_to_one_index]\n",
    "    optimal_ratio = weighted_ratios[closest_to_one_index]\n",
    "\n",
    "    # Plotting the bias-variance trade-off curve\n",
    "    plt.plot(bias_values, accuracy_values, marker='o', linestyle='-', label=f'{model_name} Trade-off Points')\n",
    "\n",
    "    # Mark all points with their lambda values\n",
    "    for i, (bias, acc, lmbda) in enumerate(zip(bias_values, accuracy_values, lambdas)):\n",
    "        plt.annotate(f'λ={lmbda}', (bias, acc), textcoords=\"offset points\", xytext=(0,10), ha='center')\n",
    "\n",
    "    # Highlight the optimal point\n",
    "    plt.scatter(optimal_bias, optimal_accuracy, color='r', s=100, marker='X', label=f'Optimal Point (λ={lambdas[closest_to_one_index]})')\n",
    "    plt.xlabel('Disparity')\n",
    "    plt.ylabel('Accuracy')\n",
    "    plt.title(f'{model_name} Accuracy-Fairness Trade-off Curve')\n",
    "    plt.legend()\n",
    "    plt.show()\n",
    "\n",
    "    # Print optimal values\n",
    "    print(f\"Optimal Lambda for {model_name}: {lambdas[closest_to_one_index]}\")\n",
    "    print(f\"Optimal Bias/Disparity for {model_name}: {optimal_bias}\")\n",
    "    print(f\"Optimal Accuracy for {model_name}: {optimal_accuracy}\")\n",
    "    print(f\"Optimal Weighted Ratio for {model_name}: {optimal_ratio:.2f}\")\n",
    "\n",
    "# Plot for Teacher\n",
    "plot_bias_variance_tradeoff(lambda_results, 'teacher', lmda_list)\n",
    "\n",
    "# Plot for Student\n",
    "plot_bias_variance_tradeoff(lambda_results, 'student', lmda_list)\n"
   ]
  },
  {
   "cell_type": "code",
   "execution_count": null,
   "id": "c80b0ac6-bf11-4263-8d58-e3a0f6ca29a1",
   "metadata": {},
   "outputs": [],
   "source": []
  },
  {
   "cell_type": "code",
   "execution_count": null,
   "id": "b6cfad1e-f278-4c44-bbaa-46da0763eddb",
   "metadata": {},
   "outputs": [],
   "source": []
  }
 ],
 "metadata": {
  "kernelspec": {
   "display_name": "Python 3 (ipykernel)",
   "language": "python",
   "name": "python3"
  },
  "language_info": {
   "codemirror_mode": {
    "name": "ipython",
    "version": 3
   },
   "file_extension": ".py",
   "mimetype": "text/x-python",
   "name": "python",
   "nbconvert_exporter": "python",
   "pygments_lexer": "ipython3",
   "version": "3.10.9"
  }
 },
 "nbformat": 4,
 "nbformat_minor": 5
}
