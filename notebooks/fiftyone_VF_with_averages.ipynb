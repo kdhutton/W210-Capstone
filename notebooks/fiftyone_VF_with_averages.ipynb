{
 "cells": [
  {
   "cell_type": "code",
   "execution_count": 1,
   "id": "6c0a8b3b-5189-4857-887c-e93b637bf000",
   "metadata": {},
   "outputs": [
    {
     "name": "stdout",
     "output_type": "stream",
     "text": [
      "\u001b[31mERROR: pip's dependency resolver does not currently take into account all the packages that are installed. This behaviour is the source of the following dependency conflicts.\n",
      "boto3 1.28.68 requires botocore<1.32.0,>=1.31.68, but you have botocore 1.31.64 which is incompatible.\u001b[0m\u001b[31m\n",
      "\u001b[0m\u001b[31mERROR: pip's dependency resolver does not currently take into account all the packages that are installed. This behaviour is the source of the following dependency conflicts.\n",
      "aiobotocore 2.7.0 requires botocore<1.31.65,>=1.31.16, but you have botocore 1.31.74 which is incompatible.\u001b[0m\u001b[31m\n",
      "\u001b[0m"
     ]
    }
   ],
   "source": [
    "# install for AWS\n",
    "!pip install torch --quiet\n",
    "!pip install matplotlib --quiet\n",
    "!pip install torchvision --quiet\n",
    "!pip install s3fs --quiet\n",
    "!pip install boto3 --quiet\n",
    "!pip install fiftyone --quiet\n",
    "!pip install pandas --quiet"
   ]
  },
  {
   "cell_type": "code",
   "execution_count": 2,
   "id": "76c928e2-c18b-457c-8640-f03b4b11b979",
   "metadata": {},
   "outputs": [],
   "source": [
    "import torch\n",
    "import torchvision\n",
    "from torch.utils.data import DataLoader\n",
    "import json\n",
    "import torchvision.transforms as transforms\n",
    "from torchvision.models import resnet18\n",
    "import numpy as np\n",
    "import boto3\n",
    "import s3fs\n",
    "import matplotlib.pyplot as plt\n",
    "import pandas as pd\n",
    "import os\n",
    "\n",
    "import fiftyone.utils.torch as fout\n",
    "import fiftyone as fo\n",
    "import fiftyone.brain as fob\n",
    "import fiftyone.zoo as foz\n",
    "from fiftyone import ViewField as F\n",
    "import fiftyone.core.expressions as foe\n",
    "\n",
    "from models_package import *\n",
    "\n",
    "device = torch.device('cuda' if torch.cuda.is_available() else 'cpu')\n"
   ]
  },
  {
   "cell_type": "code",
   "execution_count": 3,
   "id": "7f329f00-bc92-4a2c-9f76-9d7a8f3aff44",
   "metadata": {},
   "outputs": [],
   "source": [
    "# ########## LM ##########\n",
    "\n",
    "# access_key = getpass.getpass(\"Enter your access: \")\n",
    "\n",
    "# secret_key = password = getpass.getpass(\"Enter your secret: \")\n",
    "\n",
    "# bucket_name = 'w210facetdata'\n",
    "# annotations_prefix = 'annotations/'\n",
    "# images_prefix = '/home/ubuntu/W210-Capstone'\n",
    "\n",
    "# s3 = s3fs.S3FileSystem(key=access_key, secret=secret_key)\n",
    "\n",
    "# # Use s3.open to open the CSV file and read its content into a Pandas DataFrame\n",
    "# with s3.open(f's3://{bucket_name}/{annotations_prefix}annotations.csv', 'rb') as file:\n",
    "#     gt_df = pd.read_csv(file)\n",
    "\n"
   ]
  },
  {
   "cell_type": "code",
   "execution_count": 4,
   "id": "60f7c272-668d-4671-84b1-16e16b01439c",
   "metadata": {},
   "outputs": [],
   "source": [
    "# ########## LM ##########\n",
    "\n",
    "# # use relative paths to your image dirs\n",
    "# dataset = fo.Dataset(name = \"IDP\", persistent=True)\n",
    "# # dataset = fo.load_dataset('IDP')\n",
    "# dataset.add_images_dir(images_prefix)\n",
    "# dataset.compute_metadata()"
   ]
  },
  {
   "cell_type": "code",
   "execution_count": 5,
   "id": "bf7a9c86-d180-4065-b902-93d75cf2515e",
   "metadata": {},
   "outputs": [],
   "source": [
    "########## KH ##########\n",
    "\n",
    "# Initialize S3 client\n",
    "s3_client = boto3.client('s3', region_name='us-west-2')\n",
    "\n",
    "# Define the S3 bucket name and prefixes\n",
    "bucket_name = 'w210facetdata'\n",
    "annotations_prefix = 'annotations/'\n",
    "images_prefix = 'images/'\n",
    "\n",
    "# Load CSV annotations from S3\n",
    "annotations_s3_path = f's3://{bucket_name}/{annotations_prefix}'\n",
    "gt_df = pd.read_csv(f'{annotations_s3_path}annotations.csv')"
   ]
  },
  {
   "cell_type": "code",
   "execution_count": 6,
   "id": "04df1e08-51f4-42ee-9459-9f3fa86b1340",
   "metadata": {},
   "outputs": [],
   "source": [
    "# ########## KH ##########\n",
    "\n",
    "# UNCOMMENT THIS BLOCK TO PULL FACET DATA FROM S3\n",
    "\n",
    "# local_images_dir = 'local_images_dir'\n",
    "# os.makedirs(local_images_dir, exist_ok=True)\n",
    "\n",
    "# # Create a paginator to handle pagination of the results\n",
    "# paginator = s3_client.get_paginator('list_objects_v2')\n",
    "\n",
    "# # Use the paginator to retrieve all objects\n",
    "# for page in paginator.paginate(Bucket=bucket_name, Prefix=images_prefix):\n",
    "#     for obj in page.get('Contents', []):\n",
    "#         # Skip the prefix itself\n",
    "#         if obj['Key'] == images_prefix:\n",
    "#             continue\n",
    "#         local_file_path = os.path.join(local_images_dir, os.path.basename(obj['Key']))\n",
    "#         s3_client.download_file(bucket_name, obj['Key'], local_file_path)\n"
   ]
  },
  {
   "cell_type": "code",
   "execution_count": 7,
   "id": "3f0cfd8a-0b73-4f7b-8b4a-33af7033b4cf",
   "metadata": {},
   "outputs": [
    {
     "name": "stdout",
     "output_type": "stream",
     "text": []
    },
    {
     "name": "stdout",
     "output_type": "stream",
     "text": [
      " 100% |█████████████| 31703/31703 [5.0s elapsed, 0s remaining, 6.0K samples/s]      \n",
      "Computing metadata...\n",
      " 100% |█████████████| 31703/31703 [1.0m elapsed, 0s remaining, 589.4 samples/s]       \n"
     ]
    }
   ],
   "source": [
    "########## KH ##########\n",
    "local_images_dir = 'local_images_dir'\n",
    "fo.delete_dataset('local_images_dir')\n",
    "dataset = fo.Dataset(name='local_images_dir', persistent=True)\n",
    "dataset.add_images_dir(local_images_dir)\n",
    "dataset.compute_metadata()"
   ]
  },
  {
   "cell_type": "code",
   "execution_count": 8,
   "id": "3dc58bbf-ed5e-4f3a-b86a-77e58abb1ad2",
   "metadata": {},
   "outputs": [
    {
     "name": "stdout",
     "output_type": "stream",
     "text": [
      "31702\n"
     ]
    }
   ],
   "source": [
    "# Count the number of files in the local_images_dir\n",
    "num_files = len([f for f in os.listdir(local_images_dir) if os.path.isfile(os.path.join(local_images_dir, f))])\n",
    "print(num_files)"
   ]
  },
  {
   "cell_type": "markdown",
   "id": "47c721ef-146f-4f48-a411-7fb93bca9d84",
   "metadata": {},
   "source": [
    "# Object Detection Functions"
   ]
  },
  {
   "cell_type": "code",
   "execution_count": 9,
   "id": "be99a8b0-a415-4560-a578-2b9f8bba27ae",
   "metadata": {},
   "outputs": [],
   "source": [
    "BOOLEAN_PERSONAL_ATTRS = (\n",
    "    \"has_facial_hair\",\n",
    "    \"has_tattoo\",\n",
    "    \"has_cap\",\n",
    "    \"has_mask\",\n",
    "    \"has_headscarf\",\n",
    "    \"has_eyeware\",\n",
    ")\n",
    "def add_boolean_person_attributes(detection, row_index):\n",
    "    for attr in BOOLEAN_PERSONAL_ATTRS:\n",
    "        detection[attr] = gt_df.loc[row_index, attr].astype(bool)"
   ]
  },
  {
   "cell_type": "code",
   "execution_count": 10,
   "id": "892ad9c7-cb94-49ee-bbe6-caf72e3e7bf9",
   "metadata": {},
   "outputs": [],
   "source": [
    "def get_hairtype(row_index):\n",
    "    hair_info = gt_df.loc[row_index, gt_df.columns.str.startswith('hairtype')]\n",
    "    hairtype = hair_info[hair_info == 1]\n",
    "    if len(hairtype) == 0:\n",
    "        return None\n",
    "    return hairtype.index[0].split('_')[1]\n",
    "\n",
    "def get_haircolor(row_index):\n",
    "    hair_info = gt_df.loc[row_index, gt_df.columns.str.startswith('hair_color')]\n",
    "    haircolor = hair_info[hair_info == 1]\n",
    "    if len(haircolor) == 0:\n",
    "        return None\n",
    "    return haircolor.index[0].split('_')[2]"
   ]
  },
  {
   "cell_type": "code",
   "execution_count": 11,
   "id": "d8fc5510-2fd8-42f9-a58a-c301286b3f24",
   "metadata": {},
   "outputs": [],
   "source": [
    "def add_person_attributes(detection, row_index):\n",
    "    detection[\"hairtype\"] = get_hairtype(row_index)\n",
    "    detection[\"haircolor\"] = get_haircolor(row_index)\n",
    "    add_boolean_person_attributes(detection, row_index)"
   ]
  },
  {
   "cell_type": "code",
   "execution_count": 12,
   "id": "0091b7eb-d570-4b21-8290-17fee15d226f",
   "metadata": {},
   "outputs": [],
   "source": [
    "def get_perceived_gender_presentation(row_index):\n",
    "    gender_info = gt_df.loc[row_index, gt_df.columns.str.startswith('gender')]\n",
    "    pgp = gender_info[gender_info == 1]\n",
    "    if len(pgp) == 0:\n",
    "        return None\n",
    "    return pgp.index[0].replace(\"gender_presentation_\", \"\").replace(\"_\", \" \")\n",
    "\n",
    "def get_perceived_age_presentation(row_index):\n",
    "    age_info = gt_df.loc[row_index, gt_df.columns.str.startswith('age')]\n",
    "    pap = age_info[age_info == 1]\n",
    "    if len(pap) == 0:\n",
    "        return None\n",
    "    return pap.index[0].split('_')[2]"
   ]
  },
  {
   "cell_type": "code",
   "execution_count": 13,
   "id": "c49856f0-9c40-44f1-b8dc-afc8a0c80786",
   "metadata": {},
   "outputs": [],
   "source": [
    "def get_skintone(row_index):\n",
    "    skin_info = gt_df.loc[row_index, gt_df.columns.str.startswith('skin_tone')]\n",
    "    return skin_info.to_dict()"
   ]
  },
  {
   "cell_type": "code",
   "execution_count": 14,
   "id": "1a702e8b-93a2-4e8b-879c-f82be93830ea",
   "metadata": {},
   "outputs": [],
   "source": [
    "def add_protected_attributes(detection, row_index):\n",
    "    detection[\"perceived_age_presentation\"] = get_perceived_age_presentation(row_index)\n",
    "    detection[\"perceived_gender_presentation\"] = get_perceived_gender_presentation(row_index)\n",
    "    detection[\"skin_tone\"] = get_skintone(row_index)"
   ]
  },
  {
   "cell_type": "code",
   "execution_count": 15,
   "id": "01f3a95d-e491-4de4-be5a-d53de547f0d4",
   "metadata": {},
   "outputs": [],
   "source": [
    "VISIBILITY_ATTRS = (\"visible_torso\", \"visible_face\", \"visible_minimal\")"
   ]
  },
  {
   "cell_type": "code",
   "execution_count": 16,
   "id": "cc9ed1ed-c71d-4583-963f-bfa23563309c",
   "metadata": {},
   "outputs": [],
   "source": [
    "def get_lighting(row_index):\n",
    "    lighting_info = gt_df.loc[row_index, gt_df.columns.str.startswith('lighting')]\n",
    "    lighting = lighting_info[lighting_info == 1]\n",
    "    if len(lighting) == 0:\n",
    "        return None\n",
    "    lighting = lighting.index[0].replace(\"lighting_\", \"\").replace(\"_\", \" \")\n",
    "    return lighting\n",
    "\n",
    "def add_other_attributes(detection, row_index):\n",
    "    detection[\"lighting\"] = get_lighting(row_index)\n",
    "    for attr in VISIBILITY_ATTRS:\n",
    "        detection[attr] = gt_df.loc[row_index, attr].astype(bool)"
   ]
  },
  {
   "cell_type": "code",
   "execution_count": 17,
   "id": "3de3c768-bfa3-4727-95ed-59346a5788a9",
   "metadata": {},
   "outputs": [],
   "source": [
    "def create_detection(row_index, sample):\n",
    "    bbox_dict = json.loads(gt_df.loc[row_index, \"bounding_box\"])\n",
    "    x, y, w, h = bbox_dict[\"x\"], bbox_dict[\"y\"], bbox_dict[\"width\"], bbox_dict[\"height\"]\n",
    "    cat1, cat2 = bbox_dict[\"dict_attributes\"][\"cat1\"], bbox_dict[\"dict_attributes\"][\"cat2\"]\n",
    "\n",
    "    person_id = gt_df.loc[row_index, \"person_id\"]\n",
    "\n",
    "    img_width, img_height = sample.metadata.width, sample.metadata.height\n",
    "\n",
    "    bounding_box = [x/img_width, y/img_height, w/img_width, h/img_height]\n",
    "    detection = fo.Detection(\n",
    "        label=cat1, \n",
    "        bounding_box=bounding_box,\n",
    "        person_id=person_id,\n",
    "        )\n",
    "\n",
    "    detection[\"class2\"] = cat2\n",
    "\n",
    "    add_person_attributes(detection, row_index)\n",
    "    add_protected_attributes(detection, row_index)\n",
    "    add_other_attributes(detection, row_index)\n",
    "\n",
    "    return detection"
   ]
  },
  {
   "cell_type": "code",
   "execution_count": 18,
   "id": "d1869986-c9eb-454e-b164-cd5f8b598286",
   "metadata": {},
   "outputs": [],
   "source": [
    "def add_ground_truth_labels(dataset):\n",
    "    for sample in dataset.iter_samples(autosave=True, progress=True):\n",
    "        sample_annos = gt_df[gt_df['filename'] == sample.filename]\n",
    "        detections = []\n",
    "        for row in sample_annos.iterrows():\n",
    "            row_index = row[0]\n",
    "            detection = create_detection(row_index, sample)\n",
    "            detections.append(detection)\n",
    "        sample[\"ground_truth\"] = fo.Detections(detections=detections)\n",
    "    dataset.add_dynamic_sample_fields()\n",
    "\n"
   ]
  },
  {
   "cell_type": "markdown",
   "id": "bec896ec-9aa5-4033-839d-ced0b1ae54d6",
   "metadata": {},
   "source": [
    "# Add labels"
   ]
  },
  {
   "cell_type": "code",
   "execution_count": 19,
   "id": "d068d1d0-38e0-43b7-b827-5006503182d3",
   "metadata": {},
   "outputs": [
    {
     "name": "stdout",
     "output_type": "stream",
     "text": []
    },
    {
     "name": "stdout",
     "output_type": "stream",
     "text": [
      " 100% |█████████████| 31703/31703 [5.7m elapsed, 0s remaining, 91.8 samples/s]       \n"
     ]
    }
   ],
   "source": [
    "## add all of the ground truth labels\n",
    "add_ground_truth_labels(dataset)"
   ]
  },
  {
   "cell_type": "markdown",
   "id": "434a7918-51d0-41f4-a53f-a2324a250437",
   "metadata": {},
   "source": [
    "# Student and Teacher Disparity Evaluation Pipeline"
   ]
  },
  {
   "cell_type": "code",
   "execution_count": 20,
   "id": "e20632e4-2b30-4c89-84a6-b4d0aa7e334f",
   "metadata": {},
   "outputs": [],
   "source": [
    "# dataset = fo.load_dataset('IDP')\n",
    "# fo.list_datasets()\n",
    "# dataset = fo.load_dataset('local_images_dir')\n"
   ]
  },
  {
   "cell_type": "code",
   "execution_count": 21,
   "id": "7b1137d9-6b03-469e-bebf-6bd050112555",
   "metadata": {},
   "outputs": [],
   "source": [
    "reversed_mapping = {\n",
    "    'bartender': 'Chef',\n",
    "    'doctor': 'Doctor',\n",
    "    'carpenter': 'Engineer',\n",
    "    'computer_user': 'Engineer',\n",
    "    'electrician': 'Engineer',\n",
    "    'farmer': 'Farmer',\n",
    "    'gardener': 'Farmer',\n",
    "    'fireman': 'Firefighter',\n",
    "    'judge': 'Judge',\n",
    "    'laborer': 'Mechanic',\n",
    "    'machinist': 'Mechanic',\n",
    "    'astronaut': 'Pilot',\n",
    "    'lawman': 'Police',\n",
    "    'guard': 'Police',\n",
    "    'waiter': 'Waiter',\n",
    "    'soldier': 'Police'\n",
    "}"
   ]
  },
  {
   "cell_type": "code",
   "execution_count": 60,
   "id": "845a37c7-1e35-4963-a0fb-988e4558adaa",
   "metadata": {},
   "outputs": [],
   "source": [
    "def update_label(detections):\n",
    "    for detection in detections.detections:\n",
    "        detection.label = reversed_mapping.get(detection.label, detection.label)\n",
    "        if detection.class2:\n",
    "            detection.class2 = reversed_mapping.get(detection.class2, detection.class2)\n",
    "    return detections\n",
    "\n",
    "def compute_weighted_avg_skin_tone(detections):\n",
    "    for detection in detections.detections:\n",
    "        skin_tone_dict = detection.skin_tone\n",
    "        total_counts = sum(value for key, value in skin_tone_dict.items() if key != 'skin_tone_na')\n",
    "        if total_counts == 0:\n",
    "            detection['binary_skin_tone'] = 0\n",
    "            continue\n",
    "        weighted_avg_skin_tone = sum(int(key.split('_')[-1]) * value for key, value in skin_tone_dict.items() if key != 'skin_tone_na') / total_counts\n",
    "        detection['light_skin_tone_indicator'] = False if weighted_avg_skin_tone > 5.5 else True\n",
    "\n",
    "# Iterate through the dataset and update the labels\n",
    "for sample in dataset:\n",
    "    sample['ground_truth'] = update_label(sample['ground_truth'])  \n",
    "    compute_weighted_avg_skin_tone(sample['ground_truth'])\n",
    "    sample.save()\n"
   ]
  },
  {
   "cell_type": "code",
   "execution_count": 61,
   "id": "4fb3f810-0334-498d-8aea-01051532de8a",
   "metadata": {},
   "outputs": [
    {
     "data": {
      "text/plain": [
       "<All keys matched successfully>"
      ]
     },
     "execution_count": 61,
     "metadata": {},
     "output_type": "execute_result"
    }
   ],
   "source": [
    "# Load the student model architecture and weights\n",
    "student_model = StudentModel(in_features=16, num_classes=10)\n",
    "# student_model = resnet18(weights=None)\n",
    "teacher_model = TeacherModel(in_features=16, num_classes=10)\n",
    "\n",
    "# weights_path = 'student_model_weights_ckd_1.pth'\n",
    "student_weights_path = 'student_model_weights3.pth'\n",
    "teacher_weights_path = 'teacher_model_weights3.pth'\n",
    "\n",
    "student_model.load_state_dict(torch.load(weights_path))\n",
    "teacher_model.load_state_dict(torch.load(weights_path))"
   ]
  },
  {
   "cell_type": "code",
   "execution_count": 62,
   "id": "f06058c4-f25f-4905-8c3f-e82e714e67e6",
   "metadata": {},
   "outputs": [],
   "source": [
    "def make_data_loader(image_paths, sample_ids, batch_size):\n",
    "    mean = [0.5071, 0.4867, 0.4408]\n",
    "    std = [0.2675, 0.2565, 0.2761]\n",
    "    transforms = torchvision.transforms.Compose(\n",
    "        [\n",
    "            torchvision.transforms.Resize((256, 256)),\n",
    "            torchvision.transforms.ToTensor(),\n",
    "            torchvision.transforms.Normalize(mean, std),\n",
    "        ]\n",
    "    )\n",
    "    dataset = fout.TorchImageDataset(\n",
    "        image_paths, sample_ids=sample_ids, transform=transforms\n",
    "    )\n",
    "    return DataLoader(dataset, batch_size=batch_size, num_workers=4)\n",
    "\n",
    "model = student_model.to(device)\n"
   ]
  },
  {
   "cell_type": "code",
   "execution_count": 63,
   "id": "fff460c1-0bdf-46f4-949d-a620be5f2f6d",
   "metadata": {},
   "outputs": [],
   "source": [
    "def predict(model, imgs):\n",
    "    logits = model(imgs).detach().cpu().numpy()\n",
    "    predictions = np.argmax(logits, axis=1)\n",
    "    odds = np.exp(logits)\n",
    "    confidences = np.max(odds, axis=1) / np.sum(odds, axis=1)\n",
    "    return predictions, confidences"
   ]
  },
  {
   "cell_type": "code",
   "execution_count": 64,
   "id": "5d813418-51c8-442b-b2da-5e58d5d32886",
   "metadata": {},
   "outputs": [],
   "source": [
    "batch_size = 32\n",
    "\n",
    "view = dataset.match({\"ground_truth.detections.label\": {\"$in\": ['Police', 'Mechanic', 'Pilot', 'Firefighter', 'Doctor',\n",
    "       'Farmer', 'Engineer', 'Waiter', 'Judge', 'Chef']}})\n",
    "\n",
    "image_paths, sample_ids = zip(*[(s.filepath, s.id) for s in view])\n",
    "data_loader = make_data_loader(image_paths, sample_ids, batch_size)\n"
   ]
  },
  {
   "cell_type": "code",
   "execution_count": 65,
   "id": "8de2d72f-361d-44cd-9505-1e4a10057c42",
   "metadata": {},
   "outputs": [],
   "source": [
    "# counter = 0\n",
    "# for i in view.iter_samples():\n",
    "#     print(i.ground_truth.detections)\n",
    "#     counter += 1\n",
    "#     if counter >= 10:\n",
    "#         break\n"
   ]
  },
  {
   "cell_type": "code",
   "execution_count": 66,
   "id": "563f5bdc-622a-4109-8cbd-1d54d09f3ab5",
   "metadata": {},
   "outputs": [],
   "source": [
    "classes = {\n",
    "    \"9\" : \"Waiter\",\n",
    "    \"6\" : \"Mechanic\",\n",
    "    \"2\" : \"Engineer\",\n",
    "    \"4\" : \"Firefighter\",\n",
    "    \"0\" : \"Chef\",\n",
    "    \"5\" : \"Judge\",\n",
    "    \"7\" : \"Pilot\",\n",
    "    \"8\" : \"Police\",\n",
    "    \"3\" : \"Farmer\",\n",
    "    \"1\" : \"Doctor\"\n",
    "}"
   ]
  },
  {
   "cell_type": "code",
   "execution_count": 67,
   "id": "0ecb3bdd-31ef-4a66-afee-f6ed696f08cc",
   "metadata": {},
   "outputs": [],
   "source": [
    "# Perform prediction and store results in dataset\n",
    "\n",
    "for imgs, sample_ids in data_loader:\n",
    "    imgs = imgs.to(device)\n",
    "    predictions, confidences = predict(model, imgs)\n",
    "\n",
    "    # Add predictions to your FiftyOne dataset\n",
    "    for sample_id, prediction, confidence in zip(\n",
    "        sample_ids, predictions, confidences\n",
    "    ):\n",
    "        sample = view[sample_id]\n",
    "        sample[\"pred\"] = fo.Classification(\n",
    "            label=classes[str(prediction)],  # Use the mapping to get class labels\n",
    "            confidence=confidence,\n",
    "        )\n",
    "        sample.save()"
   ]
  },
  {
   "cell_type": "code",
   "execution_count": 68,
   "id": "364c1cc6-e500-4a32-9b5b-6425e21864db",
   "metadata": {},
   "outputs": [],
   "source": [
    "def _evaluate_classification_modelr(dataset, prediction_field):\n",
    "    eval_key = \"eval_\" + prediction_field\n",
    "    \n",
    "    for sample in dataset.iter_samples(progress=True):\n",
    "        labels = []\n",
    "\n",
    "        # Iterate through the detections and extract the \"label\" field\n",
    "        for detection in sample.ground_truth.detections:\n",
    "            label = detection.label\n",
    "            label2 = detection.class2\n",
    "            if label is not None:  # Check if \"label\" exists in the dictionary\n",
    "                labels.append(label)\n",
    "            if label2 is not None: \n",
    "                labels.append(label2)\n",
    "                \n",
    "        if sample[prediction_field].label in labels:\n",
    "            sample[eval_key] = True\n",
    "        else:\n",
    "            sample[eval_key] = False\n",
    "        sample.save()\n"
   ]
  },
  {
   "cell_type": "code",
   "execution_count": 69,
   "id": "1067a92a-6d53-4d62-b512-cb43083d3777",
   "metadata": {},
   "outputs": [
    {
     "name": "stdout",
     "output_type": "stream",
     "text": []
    },
    {
     "name": "stdout",
     "output_type": "stream",
     "text": [
      " 100% |█████████████| 10510/10510 [25.6s elapsed, 0s remaining, 405.0 samples/s]      \n"
     ]
    }
   ],
   "source": [
    "_evaluate_classification_modelr(view, 'pred')"
   ]
  },
  {
   "cell_type": "code",
   "execution_count": 70,
   "id": "f7f87bbe-6a3c-40da-86b3-0baee1ba3cbd",
   "metadata": {},
   "outputs": [],
   "source": [
    "def _compute_classification_recall(patch_collection, label_field):\n",
    "    eval_key = \"eval_\" + label_field\n",
    "    counts = patch_collection.count_values(eval_key)\n",
    "    tp, fn = counts.get(True, 0), counts.get(False, 0)\n",
    "    recall = tp/float(tp + fn) if tp > 0 else 1e-6\n",
    "    return recall"
   ]
  },
  {
   "cell_type": "code",
   "execution_count": 71,
   "id": "407b491e-e3d7-4d97-9161-554390b1af7d",
   "metadata": {},
   "outputs": [],
   "source": [
    "def _compute_classification_results(patch_collection, label_field):\n",
    "    eval_key = \"eval_\" + label_field\n",
    "    counts = patch_collection.count_values(eval_key)\n",
    "    tp, fn = counts.get(True, 0), counts.get(False, 0)\n",
    "    recall = tp/float(tp + fn) if tp > 0 else 1e-6\n",
    "    return counts"
   ]
  },
  {
   "cell_type": "code",
   "execution_count": 72,
   "id": "204e607b-164f-4326-9971-f09bbd4ce18a",
   "metadata": {},
   "outputs": [],
   "source": [
    "def get_concept_attr_classification_recall(dataset, label_field, concept, attributes):\n",
    "    sub_patch_view_primary = dataset.filter_labels(\"ground_truth\", F(\"label\") == concept)\n",
    "    for attribute in attributes.items():\n",
    "        if \"skin_tone\" in attribute[0]:\n",
    "            sub_patch_view_primary = sub_patch_view_primary.filter_labels('ground_truth', F(f\"skin_tone.{attribute[0]}\") != 0)\n",
    "        else:\n",
    "            sub_patch_view_primary = sub_patch_view_primary.filter_labels('ground_truth', F(f\"{attribute[0]}\") == attribute[1])\n",
    "    primary = _compute_classification_recall(sub_patch_view_primary, label_field)\n",
    "    return primary"
   ]
  },
  {
   "cell_type": "code",
   "execution_count": 73,
   "id": "bff09138-a09c-4f10-9e3f-2ebf3de961f3",
   "metadata": {},
   "outputs": [],
   "source": [
    "def compute_disparity(dataset, label_field, concept, attribute1, attribute2):\n",
    "    recall1 = get_concept_attr_classification_recall(dataset, label_field, concept, attribute1)\n",
    "    recall2 = get_concept_attr_classification_recall(dataset, label_field, concept, attribute2)\n",
    "    return (recall1 - recall2)"
   ]
  },
  {
   "cell_type": "code",
   "execution_count": 84,
   "id": "8fcac311-f6a8-49f4-bca7-9edf63851a17",
   "metadata": {},
   "outputs": [
    {
     "data": {
      "image/png": "[encoded data removed]",
      "text/plain": [
       "<Figure size 640x480 with 1 Axes>"
      ]
     },
     "metadata": {},
     "output_type": "display_data"
    }
   ],
   "source": [
    "import matplotlib.pyplot as plt\n",
    "from collections import Counter\n",
    "\n",
    "preds = []\n",
    "for i in view.iter_samples(): \n",
    "    preds.append(i.pred.label)\n",
    "\n",
    "# Get counts for each unique label\n",
    "label_counts = Counter(preds)\n",
    "\n",
    "# Create a bar chart\n",
    "plt.bar(label_counts.keys(), label_counts.values(), edgecolor='k')\n",
    "\n",
    "# Add labels and a title\n",
    "plt.ylabel('Frequency')\n",
    "plt.title('Histogram')\n",
    "\n",
    "# Rotate x-axis labels to vertical\n",
    "plt.xticks(rotation='vertical')\n",
    "\n",
    "# Show the bar chart\n",
    "plt.show()\n"
   ]
  },
  {
   "cell_type": "code",
   "execution_count": 75,
   "id": "3994f554-273f-4e4f-a1c7-5e3c2c85fcbf",
   "metadata": {},
   "outputs": [
    {
     "name": "stdout",
     "output_type": "stream",
     "text": [
      "Police:0.21349963316214232\n",
      "Mechanic:0.2577903682719547\n",
      "Pilot:0.0196078431372549\n",
      "Firefighter:0.16733067729083664\n",
      "Doctor:0.1712\n",
      "Farmer:0.8025435073627845\n",
      "Engineer:0.17090216010165185\n",
      "Waiter:0.08888888888888889\n",
      "Judge:0.125\n",
      "Chef:0.09090909090909091\n"
     ]
    }
   ],
   "source": [
    "concepts = ['Police', 'Mechanic', 'Pilot', 'Firefighter', 'Doctor',\n",
    "       'Farmer', 'Engineer', 'Waiter', 'Judge', 'Chef']\n",
    "\n",
    "for i in concepts: \n",
    "    print(f'{i}:{_compute_classification_recall(view.filter_labels(\"ground_truth\", F(\"label\") == i), \"pred\")}')"
   ]
  },
  {
   "cell_type": "code",
   "execution_count": 76,
   "id": "41f5ef13-5599-41df-b219-e105d95c6d24",
   "metadata": {},
   "outputs": [],
   "source": [
    "# desired attribute list for disparity calcs\n",
    "attributes = {\n",
    "    'hairtype': ['straight', 'curly', 'bald', 'wavy', 'dreadlocks', 'coily'],\n",
    "    'haircolor': ['black', 'blonde', 'red', 'colored', 'brown', 'grey'],\n",
    "    'perceived_age_presentation': ['young', 'middle', 'older'],\n",
    "    'perceived_gender_presentation': ['fem', 'masc', 'non binary'],\n",
    "    'has_facial_hair': [False, True],\n",
    "    'has_tattoo': [False, True],\n",
    "    'has_cap': [False, True],\n",
    "    'has_mask': [False, True],\n",
    "    'has_headscarf': [False, True],\n",
    "    'has_eyeware': [False, True],\n",
    "    'light_skin_tone_indicator': [False, True], # 0 is light, 1 is dark\n",
    "}\n"
   ]
  },
  {
   "cell_type": "code",
   "execution_count": 77,
   "id": "d266e00e-e215-4398-b071-4fba8ef96b74",
   "metadata": {},
   "outputs": [
    {
     "name": "stdout",
     "output_type": "stream",
     "text": [
      "Average disparity for hairtype in concept Police: 0.0943\n",
      "Average disparity for haircolor in concept Police: 0.0803\n",
      "Average disparity for perceived_age_presentation in concept Police: 0.0134\n",
      "Average disparity for perceived_gender_presentation in concept Police: 0.0467\n",
      "Average disparity for has_facial_hair in concept Police: 0.0489\n",
      "Average disparity for has_tattoo in concept Police: 0.0864\n",
      "Average disparity for has_cap in concept Police: 0.0126\n",
      "Average disparity for has_mask in concept Police: 0.0133\n",
      "Average disparity for has_headscarf in concept Police: 0.0332\n",
      "Average disparity for has_eyeware in concept Police: 0.0055\n",
      "Average disparity for light_tone_indicator in concept Police: 0.0379\n",
      "Average disparity for hairtype in concept Mechanic: 0.0959\n",
      "Average disparity for haircolor in concept Mechanic: 0.0673\n",
      "Average disparity for perceived_age_presentation in concept Mechanic: 0.0084\n",
      "Average disparity for perceived_gender_presentation in concept Mechanic: 0.1908\n",
      "Average disparity for has_facial_hair in concept Mechanic: 0.0048\n",
      "Average disparity for has_tattoo in concept Mechanic: 0.0502\n",
      "Average disparity for has_cap in concept Mechanic: 0.0662\n",
      "Average disparity for has_mask in concept Mechanic: 0.0304\n",
      "Average disparity for has_headscarf in concept Mechanic: 0.0256\n",
      "Average disparity for has_eyeware in concept Mechanic: 0.0049\n",
      "Average disparity for light_tone_indicator in concept Mechanic: 0.0304\n",
      "Average disparity for hairtype in concept Pilot: 0.0159\n",
      "Average disparity for haircolor in concept Pilot: 0.0111\n",
      "Average disparity for perceived_age_presentation in concept Pilot: 0.0112\n",
      "Average disparity for perceived_gender_presentation in concept Pilot: 0.0108\n",
      "Average disparity for has_facial_hair in concept Pilot: 0.0199\n",
      "Average disparity for has_tattoo in concept Pilot: 0.0196\n",
      "Average disparity for has_cap in concept Pilot: 0.0060\n",
      "Average disparity for has_mask in concept Pilot: 0.0340\n",
      "Average disparity for has_headscarf in concept Pilot: 0.0201\n",
      "Average disparity for has_eyeware in concept Pilot: 0.0197\n",
      "Average disparity for light_tone_indicator in concept Pilot: 0.0202\n",
      "Average disparity for hairtype in concept Firefighter: 0.2160\n",
      "Average disparity for haircolor in concept Firefighter: 0.3927\n",
      "Average disparity for perceived_age_presentation in concept Firefighter: 0.1099\n",
      "Average disparity for perceived_gender_presentation in concept Firefighter: 0.1720\n",
      "Average disparity for has_facial_hair in concept Firefighter: 0.0396\n",
      "Average disparity for has_tattoo in concept Firefighter: 0.1673\n",
      "Average disparity for has_cap in concept Firefighter: 0.0146\n",
      "Average disparity for has_mask in concept Firefighter: 0.1153\n",
      "Average disparity for has_headscarf in concept Firefighter: 0.1181\n",
      "Average disparity for has_eyeware in concept Firefighter: 0.0312\n",
      "Average disparity for light_tone_indicator in concept Firefighter: 0.0081\n",
      "Average disparity for hairtype in concept Doctor: 0.2105\n",
      "Average disparity for haircolor in concept Doctor: 0.2074\n",
      "Average disparity for perceived_age_presentation in concept Doctor: 0.0273\n",
      "Average disparity for perceived_gender_presentation in concept Doctor: 0.1142\n",
      "Average disparity for has_facial_hair in concept Doctor: 0.0001\n",
      "Average disparity for has_tattoo in concept Doctor: 0.1712\n",
      "Average disparity for has_cap in concept Doctor: 0.0107\n",
      "Average disparity for has_mask in concept Doctor: 0.0099\n",
      "Average disparity for has_headscarf in concept Doctor: 0.0068\n",
      "Average disparity for has_eyeware in concept Doctor: 0.0182\n",
      "Average disparity for light_tone_indicator in concept Doctor: 0.1011\n",
      "Average disparity for hairtype in concept Farmer: 0.1419\n",
      "Average disparity for haircolor in concept Farmer: 0.1686\n",
      "Average disparity for perceived_age_presentation in concept Farmer: 0.0549\n",
      "Average disparity for perceived_gender_presentation in concept Farmer: 0.1324\n",
      "Average disparity for has_facial_hair in concept Farmer: 0.0418\n",
      "Average disparity for has_tattoo in concept Farmer: 0.2032\n",
      "Average disparity for has_cap in concept Farmer: 0.0389\n",
      "Average disparity for has_mask in concept Farmer: 0.0533\n",
      "Average disparity for has_headscarf in concept Farmer: 0.0391\n",
      "Average disparity for has_eyeware in concept Farmer: 0.0206\n",
      "Average disparity for light_tone_indicator in concept Farmer: 0.0391\n",
      "Average disparity for hairtype in concept Engineer: 0.0950\n",
      "Average disparity for haircolor in concept Engineer: 0.0611\n",
      "Average disparity for perceived_age_presentation in concept Engineer: 0.0415\n",
      "Average disparity for perceived_gender_presentation in concept Engineer: 0.1313\n",
      "Average disparity for has_facial_hair in concept Engineer: 0.0251\n",
      "Average disparity for has_tattoo in concept Engineer: 0.1626\n",
      "Average disparity for has_cap in concept Engineer: 0.1740\n",
      "Average disparity for has_mask in concept Engineer: 0.1027\n",
      "Average disparity for has_headscarf in concept Engineer: 0.1103\n",
      "Average disparity for has_eyeware in concept Engineer: 0.0326\n",
      "Average disparity for light_tone_indicator in concept Engineer: 0.0508\n",
      "Average disparity for hairtype in concept Waiter: 0.0514\n",
      "Average disparity for haircolor in concept Waiter: 0.0784\n",
      "Average disparity for perceived_age_presentation in concept Waiter: 0.0968\n",
      "Average disparity for perceived_gender_presentation in concept Waiter: 0.0578\n",
      "Average disparity for has_facial_hair in concept Waiter: 0.0875\n",
      "Average disparity for has_tattoo in concept Waiter: 0.0896\n",
      "Average disparity for has_cap in concept Waiter: 0.0029\n",
      "Average disparity for has_mask in concept Waiter: 0.0465\n",
      "Average disparity for has_headscarf in concept Waiter: 0.0947\n",
      "Average disparity for has_eyeware in concept Waiter: 0.0634\n",
      "Average disparity for light_tone_indicator in concept Waiter: 0.0125\n",
      "Average disparity for hairtype in concept Judge: 0.4441\n",
      "Average disparity for haircolor in concept Judge: 0.0996\n",
      "Average disparity for perceived_age_presentation in concept Judge: 0.0370\n",
      "Average disparity for perceived_gender_presentation in concept Judge: 0.1159\n",
      "Average disparity for has_facial_hair in concept Judge: 0.0222\n",
      "Average disparity for has_tattoo in concept Judge: 0.1250\n",
      "Average disparity for has_cap in concept Judge: 0.1364\n",
      "Average disparity for has_mask in concept Judge: 0.1250\n",
      "Average disparity for has_headscarf in concept Judge: 0.1250\n",
      "Average disparity for has_eyeware in concept Judge: 0.0586\n",
      "Average disparity for light_tone_indicator in concept Judge: 0.1304\n",
      "Average disparity for hairtype in concept Chef: 0.0513\n",
      "Average disparity for haircolor in concept Chef: 0.3832\n",
      "Average disparity for perceived_age_presentation in concept Chef: 0.0784\n",
      "Average disparity for perceived_gender_presentation in concept Chef: 0.1111\n",
      "Average disparity for has_facial_hair in concept Chef: 0.0242\n",
      "Average disparity for has_tattoo in concept Chef: 0.0976\n",
      "Average disparity for has_cap in concept Chef: 0.0952\n",
      "Average disparity for has_mask in concept Chef: 0.0952\n",
      "Average disparity for has_headscarf in concept Chef: 0.0930\n",
      "Average disparity for has_eyeware in concept Chef: 0.0322\n",
      "Average disparity for light_tone_indicator in concept Chef: 0.1731\n"
     ]
    }
   ],
   "source": [
    "# Dictionary to store cumulative disparity and count for each attribute / concept combo\n",
    "disparity_dict = {}\n",
    "\n",
    "# Iterate through each concept\n",
    "for concept in concepts:\n",
    "    # Iterate through each attribute\n",
    "    for attribute_name, attribute_values in attributes.items():\n",
    "        total_disparity = 0\n",
    "        count = 0\n",
    "        # Iterate through each pair of attribute values\n",
    "        for i in range(len(attribute_values)):\n",
    "            for j in range(i + 1, len(attribute_values)):\n",
    "                attribute1 = {attribute_name: attribute_values[i]}\n",
    "                attribute2 = {attribute_name: attribute_values[j]}\n",
    "                # Compute disparity\n",
    "                disparity = compute_disparity(view, 'pred', concept, attribute1, attribute2)\n",
    "                total_disparity += abs(disparity)\n",
    "                count += 1\n",
    "        # Update the dictionary with the average disparity for this attribute within this concept\n",
    "        key = (concept, attribute_name)\n",
    "        average_disparity = total_disparity / count if count > 0 else 0\n",
    "        disparity_dict[key] = average_disparity\n",
    "\n",
    "# Output the average disparity for each attribute within each concept\n",
    "for key, average_disparity in disparity_dict.items():\n",
    "    concept, attribute_name = key\n",
    "    print(f'Average disparity for {attribute_name} in concept {concept}: {average_disparity:.4f}')\n"
   ]
  },
  {
   "cell_type": "code",
   "execution_count": 78,
   "id": "d7d7a61c-9e31-43dd-9e19-4910891d0abf",
   "metadata": {},
   "outputs": [
    {
     "name": "stdout",
     "output_type": "stream",
     "text": [
      "Average disparity in concept Police: 0.0706\n",
      "Average disparity in concept Mechanic: 0.0758\n",
      "Average disparity in concept Pilot: 0.0142\n",
      "Average disparity in concept Firefighter: 0.2435\n",
      "Average disparity in concept Doctor: 0.1631\n",
      "Average disparity in concept Farmer: 0.1315\n",
      "Average disparity in concept Engineer: 0.0818\n",
      "Average disparity in concept Waiter: 0.0653\n",
      "Average disparity in concept Judge: 0.2172\n",
      "Average disparity in concept Chef: 0.1790\n"
     ]
    }
   ],
   "source": [
    "# Dictionary to store cumulative disparity and count for each concept\n",
    "concept_disparity_dict = {}\n",
    "\n",
    "# Iterate through each concept\n",
    "for concept in concepts:\n",
    "    total_disparity = 0\n",
    "    count = 0\n",
    "    # Iterate through each attribute\n",
    "    for attribute_name, attribute_values in attributes.items():\n",
    "        # Iterate through each pair of attribute values\n",
    "        for i in range(len(attribute_values)):\n",
    "            for j in range(i + 1, len(attribute_values)):\n",
    "                attribute1 = {attribute_name: attribute_values[i]}\n",
    "                attribute2 = {attribute_name: attribute_values[j]}\n",
    "                # Compute disparity\n",
    "                disparity = compute_disparity(view, 'pred', concept, attribute1, attribute2)\n",
    "                total_disparity += abs(disparity)\n",
    "                count += 1\n",
    "    # Update the dictionary with the average disparity for this concept\n",
    "    average_disparity = total_disparity / count if count > 0 else 0\n",
    "    concept_disparity_dict[concept] = average_disparity\n",
    "\n",
    "# Output the average disparity for each concept\n",
    "for concept, average_disparity in concept_disparity_dict.items():\n",
    "    print(f'Average disparity in concept {concept}: {average_disparity:.4f}')\n"
   ]
  },
  {
   "cell_type": "code",
   "execution_count": 82,
   "id": "25d79afe-ba89-4651-a3e8-aeb58d2cff55",
   "metadata": {},
   "outputs": [
    {
     "data": {
      "text/plain": [
       "0.1242"
      ]
     },
     "execution_count": 82,
     "metadata": {},
     "output_type": "execute_result"
    }
   ],
   "source": [
    "# calcluate overall model disparity\n",
    "mean_disparity = round(np.mean(list(concept_disparity_dict.values())), 4)\n",
    "mean_disparity"
   ]
  },
  {
   "cell_type": "code",
   "execution_count": 80,
   "id": "44e87906-4cfc-4661-972e-a991c94fe944",
   "metadata": {},
   "outputs": [],
   "source": [
    "# write overall disparity to txt file\n",
    "file_name = f'mean_overall_disparity_{weights_path.replace(\".pth\", \"\")}.txt'\n",
    "with open(file_name, 'w') as file:\n",
    "    file.write(str(mean_disparity))"
   ]
  },
  {
   "cell_type": "code",
   "execution_count": 81,
   "id": "c1c62e65-bb4e-444a-b05b-e0baf6120d3d",
   "metadata": {},
   "outputs": [
    {
     "name": "stdout",
     "output_type": "stream",
     "text": [
      "Dictionary saved to mean_concept_disparity_student_model_weights3.txt\n"
     ]
    }
   ],
   "source": [
    "# write disparity by concept to txt file\n",
    "file_name = f'mean_concept_disparity_{weights_path.replace(\".pth\", \"\")}.txt'\n",
    "\n",
    "with open(file_name, 'w') as file:\n",
    "    json.dump(concept_disparity_dict, file, indent=4)\n",
    "\n",
    "print(f'Dictionary saved to {file_name}')"
   ]
  },
  {
   "cell_type": "code",
   "execution_count": null,
   "id": "94748fc0-eb07-4b34-9941-270f6fc3188a",
   "metadata": {},
   "outputs": [],
   "source": []
  },
  {
   "cell_type": "code",
   "execution_count": null,
   "id": "23fab484-83d8-45d3-8363-41c6c358fc75",
   "metadata": {},
   "outputs": [],
   "source": []
  }
 ],
 "metadata": {
  "kernelspec": {
   "display_name": "Python 3 (ipykernel)",
   "language": "python",
   "name": "python3"
  },
  "language_info": {
   "codemirror_mode": {
    "name": "ipython",
    "version": 3
   },
   "file_extension": ".py",
   "mimetype": "text/x-python",
   "name": "python",
   "nbconvert_exporter": "python",
   "pygments_lexer": "ipython3",
   "version": "3.10.9"
  }
 },
 "nbformat": 4,
 "nbformat_minor": 5
}
