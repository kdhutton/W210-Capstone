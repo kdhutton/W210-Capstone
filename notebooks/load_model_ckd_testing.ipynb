{
 "cells": [
  {
   "cell_type": "code",
   "execution_count": 4,
   "id": "e2fb3f4f-2e8b-47c2-b830-163a98a24009",
   "metadata": {},
   "outputs": [],
   "source": [
    "import torch\n",
    "import torchvision\n",
    "import torchvision.transforms as transforms\n",
    "import torch.nn as nn\n",
    "import torch.nn.functional as F\n",
    "# new libraries\n",
    "from data.data_loader import load_cifar10, load_cifar100, load_imagenet\n",
    "from torchvision.models.resnet import ResNet, BasicBlock, Bottleneck\n",
    "from torchvision.models.resnet import ResNet18_Weights, ResNet34_Weights"
   ]
  },
  {
   "cell_type": "code",
   "execution_count": 3,
   "id": "4f348f11-a9d1-4d6c-a12f-61926a09a933",
   "metadata": {},
   "outputs": [
    {
     "name": "stdout",
     "output_type": "stream",
     "text": [
      "True\n",
      "1\n",
      "Files already downloaded and verified\n",
      "Files already downloaded and verified\n",
      "Accuracy of the network on the 10000 test images: 27.44%\n"
     ]
    }
   ],
   "source": [
    "####################### Testing 1\n",
    "print(torch.cuda.is_available())\n",
    "print(torch.cuda.device_count())\n",
    "device = torch.device('cuda' if torch.cuda.is_available() else 'cpu')\n",
    "\n",
    "# # Load the model architecture from the saved file\n",
    "# exec(open('model_arch.py').read())\n",
    "\n",
    "# Create an instance of the model and load the saved weights\n",
    "# student_model = StudentCNN()\n",
    "student_model = torchvision.models.resnet18(weights=None).cuda()\n",
    "student_model.load_state_dict(torch.load('student_model_ckd_1.pth'))\n",
    "student_model = student_model.to(device)\n",
    "student_model.eval()\n",
    "\n",
    "# teacher_model = TeacherCNN()\n",
    "# Create instances of your models\n",
    "teacher_model = torchvision.models.resnet34(weights=ResNet34_Weights.IMAGENET1K_V1).cuda()\n",
    "teacher_model.load_state_dict(torch.load('student_model_ckd_1.pth'))\n",
    "teacher_model = teacher_model.to(device)\n",
    "teacher_model.eval()\n",
    "\n",
    "# Load CIFAR-10 dataset\n",
    "trainloader, testloader  = load_cifar100()\n",
    "\n",
    "# Evaluate the model on CIFAR-10\n",
    "correct = 0\n",
    "total = 0\n",
    "with torch.no_grad():\n",
    "    for data in testloader:\n",
    "        images, labels = data[0].to(device), data[1].to(device)\n",
    "        outputs = student_model(images)\n",
    "        _, predicted = torch.max(outputs.data, 1)\n",
    "        total += labels.size(0)\n",
    "        correct += (predicted == labels).sum().item()\n",
    "\n",
    "print(f'Accuracy of the network on the 10000 test images: {100 * correct / total}%')\n"
   ]
  },
  {
   "cell_type": "code",
   "execution_count": 6,
   "id": "157249dc-8e28-4ee4-8649-7344372789bb",
   "metadata": {},
   "outputs": [
    {
     "name": "stdout",
     "output_type": "stream",
     "text": [
      "True\n",
      "1\n",
      "Files already downloaded and verified\n",
      "Files already downloaded and verified\n",
      "Accuracy of the network on the 10000 test images: 4.24%\n"
     ]
    }
   ],
   "source": [
    "####################### Testing 2\n",
    "print(torch.cuda.is_available())\n",
    "print(torch.cuda.device_count())\n",
    "device = torch.device('cuda' if torch.cuda.is_available() else 'cpu')\n",
    "\n",
    "# Load the model architecture from the saved file\n",
    "exec(open('model_arch.py').read())\n",
    "\n",
    "# Create an instance of the model and load the saved weights\n",
    "# student_model = StudentCNN()\n",
    "student_model = Student()\n",
    "student_model.load_state_dict(torch.load('student_model_ckd_2.pth'))\n",
    "student_model = student_model.to(device)\n",
    "student_model.eval()\n",
    "\n",
    "# Create instances of your models\n",
    "teacher_model = Teacher()\n",
    "teacher_model.load_state_dict(torch.load('teacher_model_ckd_2.pth'))\n",
    "teacher_model = teacher_model.to(device)\n",
    "teacher_model.eval()\n",
    "\n",
    "# Load CIFAR-10 dataset\n",
    "trainloader, testloader  = load_cifar100()\n",
    "\n",
    "# Evaluate the model on CIFAR-10\n",
    "correct = 0\n",
    "total = 0\n",
    "with torch.no_grad():\n",
    "    for data in testloader:\n",
    "        images, labels = data[0].to(device), data[1].to(device)\n",
    "        outputs = student_model(images)\n",
    "        _, predicted = torch.max(outputs.data, 1)\n",
    "        total += labels.size(0)\n",
    "        correct += (predicted == labels).sum().item()\n",
    "\n",
    "print(f'Accuracy of the network on the 10000 test images: {100 * correct / total}%')\n"
   ]
  },
  {
   "cell_type": "code",
   "execution_count": null,
   "id": "1a01c609-9290-4d40-bec7-89bb1e1c58a6",
   "metadata": {},
   "outputs": [],
   "source": []
  }
 ],
 "metadata": {
  "kernelspec": {
   "display_name": "Python 3 (ipykernel)",
   "language": "python",
   "name": "python3"
  },
  "language_info": {
   "codemirror_mode": {
    "name": "ipython",
    "version": 3
   },
   "file_extension": ".py",
   "mimetype": "text/x-python",
   "name": "python",
   "nbconvert_exporter": "python",
   "pygments_lexer": "ipython3",
   "version": "3.10.9"
  }
 },
 "nbformat": 4,
 "nbformat_minor": 5
}
