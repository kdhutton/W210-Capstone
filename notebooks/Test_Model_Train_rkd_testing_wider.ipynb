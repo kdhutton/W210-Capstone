{
 "cells": [
  {
   "cell_type": "markdown",
   "id": "6693d25a-fdac-4f5c-bf37-9b4a41a9eb30",
   "metadata": {},
   "source": [
    "# Relational Knowledge Distillation - Wider Dataset\n",
    "\n",
    "https://arxiv.org/abs/1904.05068"
   ]
  },
  {
   "cell_type": "code",
   "execution_count": 5,
   "id": "50f79206-feac-4302-abb1-d699b6354a05",
   "metadata": {},
   "outputs": [],
   "source": [
    "import torch\n",
    "import torch.nn as nn\n",
    "import torch.nn.functional as F\n",
    "import torch.optim as optim\n",
    "import torchvision\n",
    "import torchvision.transforms as transforms\n",
    "from tqdm import tqdm\n",
    "import time\n",
    "import matplotlib.pyplot as plt\n",
    "import numpy as np\n",
    "from sklearn.metrics import accuracy_score, precision_score, recall_score, f1_score\n",
    "import boto3\n",
    "import io\n",
    "import os\n",
    "\n",
    "# new libraries\n",
    "from models_package.models import Teacher, Student, CustomResNet18\n",
    "from torchvision import datasets, transforms, models\n",
    "from data.data_loader import load_cifar10, load_cifar100, load_imagenet, load_prof, load_wider\n",
    "from torchvision.models.resnet import ResNet, BasicBlock, Bottleneck\n",
    "from torchvision.models.resnet import ResNet18_Weights, ResNet34_Weights\n",
    "from utils.loss_functions import tkd_kdloss, DD_loss, AD_loss, RKDDistanceLoss, RKDAngleLoss\n",
    "from utils.misc_tools_rkd import best_lr_rkd, rkd_train_teacher, rkd_train_student_with_distillation\n",
    "from utils.compare_tools_rkd import compare_model_size, compare_inference_time, compare_performance_metrics, plot_comparison\n"
   ]
  },
  {
   "cell_type": "code",
   "execution_count": 6,
   "id": "3e8e4cb8-8eae-4aff-ba07-b22fc5920dcb",
   "metadata": {},
   "outputs": [],
   "source": [
    "# Hyperparameters\n",
    "learning_rate = 0.01\n",
    "num_epochs = 240\n",
    "temperature = 4.0\n",
    "alpha = 0.9\n",
    "momentum = 0.9\n",
    "num_classes = 30\n",
    "step_size = 30\n",
    "gamma = 0.1\n",
    "beta = 0.0\n",
    "patience = 7  # for early stopping\n",
    "\n",
    "batch_size = 16\n",
    "num_workers = 2\n",
    "\n",
    "# class_labels = [0, 1, 3, 4, 6, 7, 11, 15, 17, 18, 19, 20, 22, 25, 27, 28, 30, 31, 33, 35, 36, 37, 39, 43, 44, 50, 51, 54, 57, 58]\n",
    "# class_labels_new = torch.tensor([i for i in range(len(class_labels))])"
   ]
  },
  {
   "cell_type": "code",
   "execution_count": 7,
   "id": "4102246d-d7c8-4230-ae3b-735081a608eb",
   "metadata": {},
   "outputs": [
    {
     "name": "stdout",
     "output_type": "stream",
     "text": [
      "Compose(\n",
      "    RandAugment(num_ops=2, magnitude=9, num_magnitude_bins=31, interpolation=InterpolationMode.NEAREST, fill=None)\n",
      "    Resize(size=(226, 226), interpolation=bilinear, max_size=None, antialias=warn)\n",
      ")\n",
      "Compose(\n",
      "    Resize(size=(226, 226), interpolation=bilinear, max_size=None, antialias=warn)\n",
      ")\n"
     ]
    }
   ],
   "source": [
    "# Load WIDER dataset\n",
    "\n",
    "\n",
    "train_file = ['data/wider/trainval_wider.json']\n",
    "test_file = ['data/wider/test_wider.json']\n",
    "\n",
    "class_labels = [0, 1, 3, 4, 6, 7, 11, 15, 17, 18, 19, 20, 22, 25, 27, 28, 30, 31, 33, 35, 36, 37, 39, 43, 44, 50, 51, 54, 57, 58]\n",
    "class_labels_new = torch.tensor([i for i in range(len(class_labels))])\n",
    "\n",
    "\n",
    "trainloader, testloader  =  load_wider(train_file, test_file, class_labels, \n",
    "                                       batch_size, num_workers) "
   ]
  },
  {
   "cell_type": "code",
   "execution_count": 8,
   "id": "0a027ee6-e58d-42df-ab2f-5b4e4624d96b",
   "metadata": {},
   "outputs": [],
   "source": [
    "# # Accessing a single batch from the DataLoader\n",
    "# batch = next(iter(trainloader))\n",
    "# batch"
   ]
  },
  {
   "cell_type": "code",
   "execution_count": 9,
   "id": "1c6b93cb-37c9-448f-a8d9-424d3c4d40fb",
   "metadata": {},
   "outputs": [],
   "source": [
    "# Instantiate the models\n",
    "###################### Testing 1 ######################\n",
    "# Create instances of your models\n",
    "teacher_model = models.resnet50(pretrained=True)  # Keep ResNet50 as it is\n",
    "teacher_model.eval()  # Set teacher model to evaluation mode\n",
    "student_model = CustomResNet18()"
   ]
  },
  {
   "cell_type": "code",
   "execution_count": 10,
   "id": "c7b4731c-f105-4192-9650-6587c46f6e8c",
   "metadata": {},
   "outputs": [],
   "source": [
    "# Ensure the final classification layer is added to the model\n",
    "teacher_model.fc = nn.Linear(teacher_model.fc.in_features, num_classes)\n",
    "student_model.fc = nn.Linear(student_model.output_size, num_classes)\n",
    "\n",
    "# Optimizer and scheduler for the teacher model\n",
    "teacher_optimizer = optim.SGD(teacher_model.parameters(), lr=learning_rate, momentum=momentum)\n",
    "teacher_scheduler = torch.optim.lr_scheduler.StepLR(teacher_optimizer, step_size=step_size, gamma=gamma)\n",
    "\n",
    "# Optimizer and scheduler for the student model\n",
    "student_optimizer = optim.SGD(student_model.parameters(), lr=learning_rate, momentum=momentum)\n",
    "student_scheduler = torch.optim.lr_scheduler.StepLR(student_optimizer, step_size=step_size, gamma=gamma)\n",
    "\n",
    "\n",
    "criterion = nn.CrossEntropyLoss()\n",
    "# Assuming the device is a CUDA device if available\n",
    "device = torch.device('cuda' if torch.cuda.is_available() else 'cpu')\n"
   ]
  },
  {
   "cell_type": "code",
   "execution_count": 11,
   "id": "b48768ff-33b1-4655-9084-c7ce46a814ef",
   "metadata": {},
   "outputs": [],
   "source": [
    "torch.cuda.empty_cache()"
   ]
  },
  {
   "cell_type": "code",
   "execution_count": 8,
   "id": "f4bb2d94-73c5-4597-854f-85baf11d0f1f",
   "metadata": {},
   "outputs": [],
   "source": [
    "# os.environ['CUDA_LAUNCH_BLOCKING'] = \"1\""
   ]
  },
  {
   "cell_type": "code",
   "execution_count": 9,
   "id": "12a62b68-6e7e-4031-b3b4-cd7572827389",
   "metadata": {},
   "outputs": [],
   "source": [
    "# os.environ['CUDA_LAUNCH_BLOCKING'] = \"0\"\n"
   ]
  },
  {
   "cell_type": "markdown",
   "id": "003c24c9-1eb7-42ba-bc6e-c07b73fd44b2",
   "metadata": {},
   "source": [
    "## Fina the best learning rate"
   ]
  },
  {
   "cell_type": "code",
   "execution_count": null,
   "id": "54ccd29c-9f39-4546-9374-32d099eeb630",
   "metadata": {},
   "outputs": [],
   "source": [
    "studnet_lr = best_lr_rkd(teacher_model, trainloader, criterion, \n",
    "                        teacher_optimizer, teacher_scheduler, device, num_epochs=3)  \n",
    "print(studnet_lr)"
   ]
  },
  {
   "cell_type": "code",
   "execution_count": 9,
   "id": "5ff9e811-4912-436f-be9e-c6126ee8a3e3",
   "metadata": {},
   "outputs": [
    {
     "name": "stderr",
     "output_type": "stream",
     "text": [
      "100%|████████████████████████████████████████████████████████████████████████| 754/754 [02:26<00:00,  5.15it/s]\n",
      "100%|████████████████████████████████████████████████████████████████████████| 754/754 [02:27<00:00,  5.11it/s]\n",
      "100%|████████████████████████████████████████████████████████████████████████| 754/754 [02:27<00:00,  5.11it/s]\n"
     ]
    },
    {
     "data": {
      "image/png": "[encoded data removed]",
      "text/plain": [
       "<Figure size 640x480 with 1 Axes>"
      ]
     },
     "metadata": {},
     "output_type": "display_data"
    },
    {
     "name": "stdout",
     "output_type": "stream",
     "text": [
      "Best learning rate: 0.007944091326229011\n",
      "0.007944091326229011\n"
     ]
    }
   ],
   "source": [
    "studnet_lr = best_lr_rkd(student_model, trainloader, criterion, \n",
    "                         student_optimizer, student_scheduler, device, num_epochs=3)  \n",
    "print(studnet_lr)"
   ]
  },
  {
   "cell_type": "code",
   "execution_count": 12,
   "id": "6167a573-e21b-4076-8ecf-0652cf9aee25",
   "metadata": {},
   "outputs": [],
   "source": [
    "teacher_lr = 0.09999999999999999\n",
    "student_lr = 0.007944091326229011"
   ]
  },
  {
   "cell_type": "code",
   "execution_count": 13,
   "id": "a40f1a1d-d19a-47e4-8c07-c3511285ae43",
   "metadata": {},
   "outputs": [],
   "source": [
    "# Ensure the final classification layer is added to the model\n",
    "# num_class = 30\n",
    "teacher_model.fc = nn.Linear(teacher_model.fc.in_features, num_classes)\n",
    "student_model.fc = nn.Linear(student_model.output_size, num_classes)\n",
    "\n",
    "# Optimizer and scheduler for the student model\n",
    "student_optimizer = optim.SGD(student_model.parameters(), lr=student_lr, momentum=momentum)\n",
    "student_scheduler = torch.optim.lr_scheduler.StepLR(student_optimizer, step_size=step_size, gamma=gamma)\n",
    "\n",
    "# Optimizer and scheduler for the teacher model\n",
    "teacher_optimizer = optim.SGD(teacher_model.parameters(), lr=teacher_lr, momentum=momentum)\n",
    "teacher_scheduler = torch.optim.lr_scheduler.StepLR(teacher_optimizer, step_size=step_size, gamma=gamma)\n",
    "\n",
    "criterion = nn.CrossEntropyLoss()\n",
    "# Assuming the device is a CUDA device if available\n",
    "device = torch.device('cuda' if torch.cuda.is_available() else 'cpu')\n"
   ]
  },
  {
   "cell_type": "markdown",
   "id": "da0592ed-9291-4cf7-b6f8-ed61fae673a0",
   "metadata": {},
   "source": [
    "## Training Teacher and Student Models"
   ]
  },
  {
   "cell_type": "code",
   "execution_count": 14,
   "id": "c13beecf-fc5d-44bb-bf56-bd7ec84726ae",
   "metadata": {},
   "outputs": [],
   "source": [
    "# import os\n",
    "# os.environ['CUDA_LAUNCH_BLOCKING'] = \"1\""
   ]
  },
  {
   "cell_type": "code",
   "execution_count": 15,
   "id": "540397f4-0bb9-4f55-88a5-bdd7671a913e",
   "metadata": {},
   "outputs": [
    {
     "name": "stderr",
     "output_type": "stream",
     "text": [
      "100%|████████████████████████████████████████████████████████████████████████| 754/754 [02:48<00:00,  4.47it/s]\n",
      "100%|████████████████████████████████████████████████████████████████████████| 754/754 [02:29<00:00,  5.03it/s]\n"
     ]
    },
    {
     "name": "stdout",
     "output_type": "stream",
     "text": [
      "*****Epoch 1/240*****\n",
      "*****Train Loss:  3.428959 Val Loss:  3.309714*****\n",
      "*****Validation Accuracy: 6.59%*****\n",
      "\n"
     ]
    },
    {
     "name": "stderr",
     "output_type": "stream",
     "text": [
      "100%|████████████████████████████████████████████████████████████████████████| 754/754 [02:49<00:00,  4.46it/s]\n",
      "100%|████████████████████████████████████████████████████████████████████████| 754/754 [02:30<00:00,  5.01it/s]\n"
     ]
    },
    {
     "name": "stdout",
     "output_type": "stream",
     "text": [
      "*****Epoch 2/240*****\n",
      "*****Train Loss:  3.311750 Val Loss:  3.309647*****\n",
      "*****Validation Accuracy: 7.81%*****\n",
      "\n"
     ]
    },
    {
     "name": "stderr",
     "output_type": "stream",
     "text": [
      "100%|████████████████████████████████████████████████████████████████████████| 754/754 [02:44<00:00,  4.59it/s]\n",
      "100%|████████████████████████████████████████████████████████████████████████| 754/754 [02:29<00:00,  5.03it/s]\n"
     ]
    },
    {
     "name": "stdout",
     "output_type": "stream",
     "text": [
      "*****Epoch 3/240*****\n",
      "*****Train Loss:  3.310989 Val Loss:  3.307490*****\n",
      "*****Validation Accuracy: 9.32%*****\n",
      "\n"
     ]
    },
    {
     "name": "stderr",
     "output_type": "stream",
     "text": [
      "100%|████████████████████████████████████████████████████████████████████████| 754/754 [02:46<00:00,  4.52it/s]\n",
      "100%|████████████████████████████████████████████████████████████████████████| 754/754 [02:26<00:00,  5.13it/s]\n"
     ]
    },
    {
     "name": "stdout",
     "output_type": "stream",
     "text": [
      "*****Epoch 4/240*****\n",
      "*****Train Loss:  3.309606 Val Loss:  3.316704*****\n",
      "*****Validation Accuracy: 9.32%*****\n",
      "\n"
     ]
    },
    {
     "name": "stderr",
     "output_type": "stream",
     "text": [
      "100%|████████████████████████████████████████████████████████████████████████| 754/754 [02:44<00:00,  4.58it/s]\n",
      "100%|████████████████████████████████████████████████████████████████████████| 754/754 [02:28<00:00,  5.07it/s]\n"
     ]
    },
    {
     "name": "stdout",
     "output_type": "stream",
     "text": [
      "*****Epoch 5/240*****\n",
      "*****Train Loss:  3.311579 Val Loss:  3.308710*****\n",
      "*****Validation Accuracy: 9.32%*****\n",
      "\n"
     ]
    },
    {
     "name": "stderr",
     "output_type": "stream",
     "text": [
      "100%|████████████████████████████████████████████████████████████████████████| 754/754 [02:45<00:00,  4.55it/s]\n",
      "100%|████████████████████████████████████████████████████████████████████████| 754/754 [02:28<00:00,  5.07it/s]\n"
     ]
    },
    {
     "name": "stdout",
     "output_type": "stream",
     "text": [
      "*****Epoch 6/240*****\n",
      "*****Train Loss:  3.311465 Val Loss:  3.305447*****\n",
      "*****Validation Accuracy: 9.32%*****\n",
      "\n"
     ]
    },
    {
     "name": "stderr",
     "output_type": "stream",
     "text": [
      "100%|████████████████████████████████████████████████████████████████████████| 754/754 [02:43<00:00,  4.61it/s]\n",
      "100%|████████████████████████████████████████████████████████████████████████| 754/754 [02:29<00:00,  5.05it/s]\n"
     ]
    },
    {
     "name": "stdout",
     "output_type": "stream",
     "text": [
      "*****Epoch 7/240*****\n",
      "*****Train Loss:  3.312504 Val Loss:  3.306775*****\n",
      "*****Validation Accuracy: 9.32%*****\n",
      "\n"
     ]
    },
    {
     "name": "stderr",
     "output_type": "stream",
     "text": [
      "100%|████████████████████████████████████████████████████████████████████████| 754/754 [02:46<00:00,  4.52it/s]\n",
      "100%|████████████████████████████████████████████████████████████████████████| 754/754 [02:27<00:00,  5.12it/s]\n"
     ]
    },
    {
     "name": "stdout",
     "output_type": "stream",
     "text": [
      "*****Epoch 8/240*****\n",
      "*****Train Loss:  3.311934 Val Loss:  3.308801*****\n",
      "*****Validation Accuracy: 7.81%*****\n",
      "\n"
     ]
    },
    {
     "name": "stderr",
     "output_type": "stream",
     "text": [
      "100%|████████████████████████████████████████████████████████████████████████| 754/754 [02:48<00:00,  4.48it/s]\n",
      "100%|████████████████████████████████████████████████████████████████████████| 754/754 [02:27<00:00,  5.12it/s]"
     ]
    },
    {
     "name": "stdout",
     "output_type": "stream",
     "text": [
      "*****Epoch 9/240*****\n",
      "*****Train Loss:  3.310903 Val Loss:  3.304774*****\n",
      "*****Validation Accuracy: 9.32%*****\n",
      "\n",
      "Early stopping\n",
      "Finished Training Teacher\n"
     ]
    },
    {
     "name": "stderr",
     "output_type": "stream",
     "text": [
      "\n"
     ]
    }
   ],
   "source": [
    "# Assuming the device is a CUDA device if available\n",
    "device = torch.device('cuda' if torch.cuda.is_available() else 'cpu')\n",
    "\n",
    "# Call the function to train the teacher model\n",
    "rkd_train_teacher(teacher_model, trainloader, criterion, teacher_optimizer, teacher_scheduler, device, num_epochs=num_epochs)\n"
   ]
  },
  {
   "cell_type": "code",
   "execution_count": 16,
   "id": "4cbe8c1d-c26c-411b-8b30-5aec7f11ac94",
   "metadata": {},
   "outputs": [
    {
     "name": "stdout",
     "output_type": "stream",
     "text": [
      "teacher weights and architecture saved and exported\n"
     ]
    }
   ],
   "source": [
    "torch.save(teacher_model.state_dict(), 'teacher_model_weights_rkd_wider.pth')\n",
    "torch.save(teacher_model, 'teacher_model_rkd_wider.pth')\n",
    "print('teacher weights and architecture saved and exported')"
   ]
  },
  {
   "cell_type": "code",
   "execution_count": 17,
   "id": "cc24ecd2-0aba-4759-9e4e-93b2e5200878",
   "metadata": {},
   "outputs": [
    {
     "name": "stderr",
     "output_type": "stream",
     "text": [
      "100%|████████████████████████████████████████████████████████████████████████| 754/754 [02:33<00:00,  4.90it/s]\n",
      "100%|████████████████████████████████████████████████████████████████████████| 754/754 [02:23<00:00,  5.26it/s]\n"
     ]
    },
    {
     "name": "stdout",
     "output_type": "stream",
     "text": [
      "*****Epoch 1/240*****\n",
      "*****Train Loss:  3.476309 Val Loss:  3.229463*****\n",
      "*****Validation Accuracy: 15.64%*****\n",
      "\n"
     ]
    },
    {
     "name": "stderr",
     "output_type": "stream",
     "text": [
      "100%|████████████████████████████████████████████████████████████████████████| 754/754 [02:35<00:00,  4.85it/s]\n",
      "100%|████████████████████████████████████████████████████████████████████████| 754/754 [02:23<00:00,  5.27it/s]\n"
     ]
    },
    {
     "name": "stdout",
     "output_type": "stream",
     "text": [
      "*****Epoch 2/240*****\n",
      "*****Train Loss:  3.286153 Val Loss:  3.115139*****\n",
      "*****Validation Accuracy: 15.95%*****\n",
      "\n"
     ]
    },
    {
     "name": "stderr",
     "output_type": "stream",
     "text": [
      "100%|████████████████████████████████████████████████████████████████████████| 754/754 [02:36<00:00,  4.82it/s]\n",
      "100%|████████████████████████████████████████████████████████████████████████| 754/754 [02:25<00:00,  5.19it/s]\n"
     ]
    },
    {
     "name": "stdout",
     "output_type": "stream",
     "text": [
      "*****Epoch 3/240*****\n",
      "*****Train Loss:  3.247914 Val Loss:  3.079936*****\n",
      "*****Validation Accuracy: 18.49%*****\n",
      "\n"
     ]
    },
    {
     "name": "stderr",
     "output_type": "stream",
     "text": [
      "100%|████████████████████████████████████████████████████████████████████████| 754/754 [02:35<00:00,  4.84it/s]\n",
      "100%|████████████████████████████████████████████████████████████████████████| 754/754 [02:29<00:00,  5.03it/s]\n"
     ]
    },
    {
     "name": "stdout",
     "output_type": "stream",
     "text": [
      "*****Epoch 4/240*****\n",
      "*****Train Loss:  3.219821 Val Loss:  3.105066*****\n",
      "*****Validation Accuracy: 16.88%*****\n",
      "\n"
     ]
    },
    {
     "name": "stderr",
     "output_type": "stream",
     "text": [
      "100%|████████████████████████████████████████████████████████████████████████| 754/754 [02:38<00:00,  4.77it/s]\n",
      "100%|████████████████████████████████████████████████████████████████████████| 754/754 [02:25<00:00,  5.18it/s]\n"
     ]
    },
    {
     "name": "stdout",
     "output_type": "stream",
     "text": [
      "*****Epoch 5/240*****\n",
      "*****Train Loss:  3.197665 Val Loss:  3.020034*****\n",
      "*****Validation Accuracy: 18.76%*****\n",
      "\n"
     ]
    },
    {
     "name": "stderr",
     "output_type": "stream",
     "text": [
      "100%|████████████████████████████████████████████████████████████████████████| 754/754 [02:39<00:00,  4.74it/s]\n",
      "100%|████████████████████████████████████████████████████████████████████████| 754/754 [02:23<00:00,  5.25it/s]\n"
     ]
    },
    {
     "name": "stdout",
     "output_type": "stream",
     "text": [
      "*****Epoch 6/240*****\n",
      "*****Train Loss:  3.175266 Val Loss:  2.970079*****\n",
      "*****Validation Accuracy: 20.48%*****\n",
      "\n"
     ]
    },
    {
     "name": "stderr",
     "output_type": "stream",
     "text": [
      "100%|████████████████████████████████████████████████████████████████████████| 754/754 [02:38<00:00,  4.76it/s]\n",
      "100%|████████████████████████████████████████████████████████████████████████| 754/754 [02:24<00:00,  5.21it/s]\n"
     ]
    },
    {
     "name": "stdout",
     "output_type": "stream",
     "text": [
      "*****Epoch 7/240*****\n",
      "*****Train Loss:  3.145708 Val Loss:  2.942017*****\n",
      "*****Validation Accuracy: 19.49%*****\n",
      "\n"
     ]
    },
    {
     "name": "stderr",
     "output_type": "stream",
     "text": [
      "100%|████████████████████████████████████████████████████████████████████████| 754/754 [02:36<00:00,  4.82it/s]\n",
      "100%|████████████████████████████████████████████████████████████████████████| 754/754 [02:25<00:00,  5.17it/s]\n"
     ]
    },
    {
     "name": "stdout",
     "output_type": "stream",
     "text": [
      "*****Epoch 8/240*****\n",
      "*****Train Loss:  3.133631 Val Loss:  2.928577*****\n",
      "*****Validation Accuracy: 21.23%*****\n",
      "\n"
     ]
    },
    {
     "name": "stderr",
     "output_type": "stream",
     "text": [
      "100%|████████████████████████████████████████████████████████████████████████| 754/754 [02:36<00:00,  4.81it/s]\n",
      "100%|████████████████████████████████████████████████████████████████████████| 754/754 [02:24<00:00,  5.22it/s]\n"
     ]
    },
    {
     "name": "stdout",
     "output_type": "stream",
     "text": [
      "*****Epoch 9/240*****\n",
      "*****Train Loss:  3.108287 Val Loss:  2.867380*****\n",
      "*****Validation Accuracy: 24.09%*****\n",
      "\n"
     ]
    },
    {
     "name": "stderr",
     "output_type": "stream",
     "text": [
      "100%|████████████████████████████████████████████████████████████████████████| 754/754 [02:34<00:00,  4.87it/s]\n",
      "100%|████████████████████████████████████████████████████████████████████████| 754/754 [02:23<00:00,  5.27it/s]\n"
     ]
    },
    {
     "name": "stdout",
     "output_type": "stream",
     "text": [
      "*****Epoch 10/240*****\n",
      "*****Train Loss:  3.098506 Val Loss:  2.848629*****\n",
      "*****Validation Accuracy: 23.73%*****\n",
      "\n"
     ]
    },
    {
     "name": "stderr",
     "output_type": "stream",
     "text": [
      "100%|████████████████████████████████████████████████████████████████████████| 754/754 [02:40<00:00,  4.70it/s]\n",
      "100%|████████████████████████████████████████████████████████████████████████| 754/754 [02:22<00:00,  5.27it/s]\n"
     ]
    },
    {
     "name": "stdout",
     "output_type": "stream",
     "text": [
      "*****Epoch 11/240*****\n",
      "*****Train Loss:  3.071307 Val Loss:  2.822035*****\n",
      "*****Validation Accuracy: 23.90%*****\n",
      "\n"
     ]
    },
    {
     "name": "stderr",
     "output_type": "stream",
     "text": [
      "100%|████████████████████████████████████████████████████████████████████████| 754/754 [02:37<00:00,  4.77it/s]\n",
      "100%|████████████████████████████████████████████████████████████████████████| 754/754 [02:25<00:00,  5.19it/s]\n"
     ]
    },
    {
     "name": "stdout",
     "output_type": "stream",
     "text": [
      "*****Epoch 12/240*****\n",
      "*****Train Loss:  3.059771 Val Loss:  2.843442*****\n",
      "*****Validation Accuracy: 23.96%*****\n",
      "\n"
     ]
    },
    {
     "name": "stderr",
     "output_type": "stream",
     "text": [
      "100%|████████████████████████████████████████████████████████████████████████| 754/754 [02:38<00:00,  4.76it/s]\n",
      "100%|████████████████████████████████████████████████████████████████████████| 754/754 [02:26<00:00,  5.16it/s]\n"
     ]
    },
    {
     "name": "stdout",
     "output_type": "stream",
     "text": [
      "*****Epoch 13/240*****\n",
      "*****Train Loss:  3.032064 Val Loss:  2.726762*****\n",
      "*****Validation Accuracy: 27.08%*****\n",
      "\n"
     ]
    },
    {
     "name": "stderr",
     "output_type": "stream",
     "text": [
      "100%|████████████████████████████████████████████████████████████████████████| 754/754 [02:38<00:00,  4.77it/s]\n",
      "100%|████████████████████████████████████████████████████████████████████████| 754/754 [02:24<00:00,  5.22it/s]\n"
     ]
    },
    {
     "name": "stdout",
     "output_type": "stream",
     "text": [
      "*****Epoch 14/240*****\n",
      "*****Train Loss:  3.011847 Val Loss:  2.699879*****\n",
      "*****Validation Accuracy: 27.15%*****\n",
      "\n"
     ]
    },
    {
     "name": "stderr",
     "output_type": "stream",
     "text": [
      "100%|████████████████████████████████████████████████████████████████████████| 754/754 [02:37<00:00,  4.79it/s]\n",
      "100%|████████████████████████████████████████████████████████████████████████| 754/754 [02:26<00:00,  5.16it/s]\n"
     ]
    },
    {
     "name": "stdout",
     "output_type": "stream",
     "text": [
      "*****Epoch 15/240*****\n",
      "*****Train Loss:  2.993802 Val Loss:  2.658444*****\n",
      "*****Validation Accuracy: 28.26%*****\n",
      "\n"
     ]
    },
    {
     "name": "stderr",
     "output_type": "stream",
     "text": [
      "100%|████████████████████████████████████████████████████████████████████████| 754/754 [02:36<00:00,  4.83it/s]\n",
      "100%|████████████████████████████████████████████████████████████████████████| 754/754 [02:25<00:00,  5.20it/s]\n"
     ]
    },
    {
     "name": "stdout",
     "output_type": "stream",
     "text": [
      "*****Epoch 16/240*****\n",
      "*****Train Loss:  2.969773 Val Loss:  2.707333*****\n",
      "*****Validation Accuracy: 27.02%*****\n",
      "\n"
     ]
    },
    {
     "name": "stderr",
     "output_type": "stream",
     "text": [
      "100%|████████████████████████████████████████████████████████████████████████| 754/754 [02:38<00:00,  4.76it/s]\n",
      "100%|████████████████████████████████████████████████████████████████████████| 754/754 [02:23<00:00,  5.26it/s]\n"
     ]
    },
    {
     "name": "stdout",
     "output_type": "stream",
     "text": [
      "*****Epoch 17/240*****\n",
      "*****Train Loss:  2.954466 Val Loss:  2.582439*****\n",
      "*****Validation Accuracy: 32.24%*****\n",
      "\n"
     ]
    },
    {
     "name": "stderr",
     "output_type": "stream",
     "text": [
      "100%|████████████████████████████████████████████████████████████████████████| 754/754 [02:35<00:00,  4.85it/s]\n",
      "100%|████████████████████████████████████████████████████████████████████████| 754/754 [02:24<00:00,  5.22it/s]\n"
     ]
    },
    {
     "name": "stdout",
     "output_type": "stream",
     "text": [
      "*****Epoch 18/240*****\n",
      "*****Train Loss:  2.928295 Val Loss:  2.587297*****\n",
      "*****Validation Accuracy: 29.80%*****\n",
      "\n"
     ]
    },
    {
     "name": "stderr",
     "output_type": "stream",
     "text": [
      "100%|████████████████████████████████████████████████████████████████████████| 754/754 [02:36<00:00,  4.82it/s]\n",
      "100%|████████████████████████████████████████████████████████████████████████| 754/754 [02:27<00:00,  5.13it/s]\n"
     ]
    },
    {
     "name": "stdout",
     "output_type": "stream",
     "text": [
      "*****Epoch 19/240*****\n",
      "*****Train Loss:  2.904940 Val Loss:  2.515080*****\n",
      "*****Validation Accuracy: 31.97%*****\n",
      "\n"
     ]
    },
    {
     "name": "stderr",
     "output_type": "stream",
     "text": [
      "100%|████████████████████████████████████████████████████████████████████████| 754/754 [02:39<00:00,  4.73it/s]\n",
      "100%|████████████████████████████████████████████████████████████████████████| 754/754 [02:29<00:00,  5.04it/s]\n"
     ]
    },
    {
     "name": "stdout",
     "output_type": "stream",
     "text": [
      "*****Epoch 20/240*****\n",
      "*****Train Loss:  2.876591 Val Loss:  2.466506*****\n",
      "*****Validation Accuracy: 36.06%*****\n",
      "\n"
     ]
    },
    {
     "name": "stderr",
     "output_type": "stream",
     "text": [
      "100%|████████████████████████████████████████████████████████████████████████| 754/754 [02:40<00:00,  4.71it/s]\n",
      "100%|████████████████████████████████████████████████████████████████████████| 754/754 [02:26<00:00,  5.14it/s]\n"
     ]
    },
    {
     "name": "stdout",
     "output_type": "stream",
     "text": [
      "*****Epoch 21/240*****\n",
      "*****Train Loss:  2.855141 Val Loss:  2.442999*****\n",
      "*****Validation Accuracy: 35.36%*****\n",
      "\n"
     ]
    },
    {
     "name": "stderr",
     "output_type": "stream",
     "text": [
      "100%|████████████████████████████████████████████████████████████████████████| 754/754 [02:37<00:00,  4.78it/s]\n",
      "100%|████████████████████████████████████████████████████████████████████████| 754/754 [02:23<00:00,  5.24it/s]\n"
     ]
    },
    {
     "name": "stdout",
     "output_type": "stream",
     "text": [
      "*****Epoch 22/240*****\n",
      "*****Train Loss:  2.836803 Val Loss:  2.512347*****\n",
      "*****Validation Accuracy: 32.70%*****\n",
      "\n"
     ]
    },
    {
     "name": "stderr",
     "output_type": "stream",
     "text": [
      "100%|████████████████████████████████████████████████████████████████████████| 754/754 [02:36<00:00,  4.81it/s]\n",
      "100%|████████████████████████████████████████████████████████████████████████| 754/754 [02:23<00:00,  5.27it/s]\n"
     ]
    },
    {
     "name": "stdout",
     "output_type": "stream",
     "text": [
      "*****Epoch 23/240*****\n",
      "*****Train Loss:  2.812224 Val Loss:  2.393155*****\n",
      "*****Validation Accuracy: 36.15%*****\n",
      "\n"
     ]
    },
    {
     "name": "stderr",
     "output_type": "stream",
     "text": [
      "100%|████████████████████████████████████████████████████████████████████████| 754/754 [02:48<00:00,  4.48it/s]\n",
      "100%|████████████████████████████████████████████████████████████████████████| 754/754 [02:26<00:00,  5.13it/s]\n"
     ]
    },
    {
     "name": "stdout",
     "output_type": "stream",
     "text": [
      "*****Epoch 24/240*****\n",
      "*****Train Loss:  2.790071 Val Loss:  2.360378*****\n",
      "*****Validation Accuracy: 37.12%*****\n",
      "\n"
     ]
    },
    {
     "name": "stderr",
     "output_type": "stream",
     "text": [
      "100%|████████████████████████████████████████████████████████████████████████| 754/754 [02:36<00:00,  4.82it/s]\n",
      "100%|████████████████████████████████████████████████████████████████████████| 754/754 [02:23<00:00,  5.25it/s]\n"
     ]
    },
    {
     "name": "stdout",
     "output_type": "stream",
     "text": [
      "*****Epoch 25/240*****\n",
      "*****Train Loss:  2.763588 Val Loss:  2.356203*****\n",
      "*****Validation Accuracy: 36.84%*****\n",
      "\n"
     ]
    },
    {
     "name": "stderr",
     "output_type": "stream",
     "text": [
      "100%|████████████████████████████████████████████████████████████████████████| 754/754 [02:37<00:00,  4.79it/s]\n",
      "100%|████████████████████████████████████████████████████████████████████████| 754/754 [02:26<00:00,  5.14it/s]\n"
     ]
    },
    {
     "name": "stdout",
     "output_type": "stream",
     "text": [
      "*****Epoch 26/240*****\n",
      "*****Train Loss:  2.733635 Val Loss:  2.276160*****\n",
      "*****Validation Accuracy: 38.90%*****\n",
      "\n"
     ]
    },
    {
     "name": "stderr",
     "output_type": "stream",
     "text": [
      "100%|████████████████████████████████████████████████████████████████████████| 754/754 [02:38<00:00,  4.76it/s]\n",
      "100%|████████████████████████████████████████████████████████████████████████| 754/754 [02:21<00:00,  5.31it/s]\n"
     ]
    },
    {
     "name": "stdout",
     "output_type": "stream",
     "text": [
      "*****Epoch 27/240*****\n",
      "*****Train Loss:  2.698608 Val Loss:  2.304792*****\n",
      "*****Validation Accuracy: 37.33%*****\n",
      "\n"
     ]
    },
    {
     "name": "stderr",
     "output_type": "stream",
     "text": [
      "100%|████████████████████████████████████████████████████████████████████████| 754/754 [02:36<00:00,  4.83it/s]\n",
      "100%|████████████████████████████████████████████████████████████████████████| 754/754 [02:25<00:00,  5.19it/s]\n"
     ]
    },
    {
     "name": "stdout",
     "output_type": "stream",
     "text": [
      "*****Epoch 28/240*****\n",
      "*****Train Loss:  2.671125 Val Loss:  2.131243*****\n",
      "*****Validation Accuracy: 43.56%*****\n",
      "\n"
     ]
    },
    {
     "name": "stderr",
     "output_type": "stream",
     "text": [
      "100%|████████████████████████████████████████████████████████████████████████| 754/754 [02:34<00:00,  4.88it/s]\n",
      "100%|████████████████████████████████████████████████████████████████████████| 754/754 [02:23<00:00,  5.26it/s]\n"
     ]
    },
    {
     "name": "stdout",
     "output_type": "stream",
     "text": [
      "*****Epoch 29/240*****\n",
      "*****Train Loss:  2.644399 Val Loss:  2.169450*****\n",
      "*****Validation Accuracy: 42.15%*****\n",
      "\n"
     ]
    },
    {
     "name": "stderr",
     "output_type": "stream",
     "text": [
      "100%|████████████████████████████████████████████████████████████████████████| 754/754 [02:36<00:00,  4.81it/s]\n",
      "100%|████████████████████████████████████████████████████████████████████████| 754/754 [02:24<00:00,  5.20it/s]\n"
     ]
    },
    {
     "name": "stdout",
     "output_type": "stream",
     "text": [
      "*****Epoch 30/240*****\n",
      "*****Train Loss:  2.603953 Val Loss:  2.154076*****\n",
      "*****Validation Accuracy: 42.46%*****\n",
      "\n"
     ]
    },
    {
     "name": "stderr",
     "output_type": "stream",
     "text": [
      "100%|████████████████████████████████████████████████████████████████████████| 754/754 [02:35<00:00,  4.84it/s]\n",
      "100%|████████████████████████████████████████████████████████████████████████| 754/754 [02:23<00:00,  5.26it/s]\n"
     ]
    },
    {
     "name": "stdout",
     "output_type": "stream",
     "text": [
      "*****Epoch 31/240*****\n",
      "*****Train Loss:  2.412814 Val Loss:  1.862332*****\n",
      "*****Validation Accuracy: 51.63%*****\n",
      "\n"
     ]
    },
    {
     "name": "stderr",
     "output_type": "stream",
     "text": [
      "100%|████████████████████████████████████████████████████████████████████████| 754/754 [02:39<00:00,  4.74it/s]\n",
      "100%|████████████████████████████████████████████████████████████████████████| 754/754 [02:23<00:00,  5.26it/s]\n"
     ]
    },
    {
     "name": "stdout",
     "output_type": "stream",
     "text": [
      "*****Epoch 32/240*****\n",
      "*****Train Loss:  2.358620 Val Loss:  1.823891*****\n",
      "*****Validation Accuracy: 53.30%*****\n",
      "\n"
     ]
    },
    {
     "name": "stderr",
     "output_type": "stream",
     "text": [
      "100%|████████████████████████████████████████████████████████████████████████| 754/754 [02:34<00:00,  4.87it/s]\n",
      "100%|████████████████████████████████████████████████████████████████████████| 754/754 [02:24<00:00,  5.21it/s]\n"
     ]
    },
    {
     "name": "stdout",
     "output_type": "stream",
     "text": [
      "*****Epoch 33/240*****\n",
      "*****Train Loss:  2.336402 Val Loss:  1.776170*****\n",
      "*****Validation Accuracy: 53.23%*****\n",
      "\n"
     ]
    },
    {
     "name": "stderr",
     "output_type": "stream",
     "text": [
      "100%|████████████████████████████████████████████████████████████████████████| 754/754 [02:36<00:00,  4.81it/s]\n",
      "100%|████████████████████████████████████████████████████████████████████████| 754/754 [02:25<00:00,  5.17it/s]\n"
     ]
    },
    {
     "name": "stdout",
     "output_type": "stream",
     "text": [
      "*****Epoch 34/240*****\n",
      "*****Train Loss:  2.299629 Val Loss:  1.732094*****\n",
      "*****Validation Accuracy: 54.51%*****\n",
      "\n"
     ]
    },
    {
     "name": "stderr",
     "output_type": "stream",
     "text": [
      "100%|████████████████████████████████████████████████████████████████████████| 754/754 [02:35<00:00,  4.85it/s]\n",
      "100%|████████████████████████████████████████████████████████████████████████| 754/754 [02:22<00:00,  5.31it/s]\n"
     ]
    },
    {
     "name": "stdout",
     "output_type": "stream",
     "text": [
      "*****Epoch 35/240*****\n",
      "*****Train Loss:  2.277980 Val Loss:  1.713772*****\n",
      "*****Validation Accuracy: 55.04%*****\n",
      "\n"
     ]
    },
    {
     "name": "stderr",
     "output_type": "stream",
     "text": [
      "100%|████████████████████████████████████████████████████████████████████████| 754/754 [02:38<00:00,  4.75it/s]\n",
      "100%|████████████████████████████████████████████████████████████████████████| 754/754 [02:26<00:00,  5.14it/s]\n"
     ]
    },
    {
     "name": "stdout",
     "output_type": "stream",
     "text": [
      "*****Epoch 36/240*****\n",
      "*****Train Loss:  2.264718 Val Loss:  1.670752*****\n",
      "*****Validation Accuracy: 56.68%*****\n",
      "\n"
     ]
    },
    {
     "name": "stderr",
     "output_type": "stream",
     "text": [
      "100%|████████████████████████████████████████████████████████████████████████| 754/754 [02:36<00:00,  4.83it/s]\n",
      "100%|████████████████████████████████████████████████████████████████████████| 754/754 [02:22<00:00,  5.27it/s]\n"
     ]
    },
    {
     "name": "stdout",
     "output_type": "stream",
     "text": [
      "*****Epoch 37/240*****\n",
      "*****Train Loss:  2.242588 Val Loss:  1.644999*****\n",
      "*****Validation Accuracy: 57.63%*****\n",
      "\n"
     ]
    },
    {
     "name": "stderr",
     "output_type": "stream",
     "text": [
      "100%|████████████████████████████████████████████████████████████████████████| 754/754 [02:37<00:00,  4.78it/s]\n",
      "100%|████████████████████████████████████████████████████████████████████████| 754/754 [02:23<00:00,  5.25it/s]\n"
     ]
    },
    {
     "name": "stdout",
     "output_type": "stream",
     "text": [
      "*****Epoch 38/240*****\n",
      "*****Train Loss:  2.222033 Val Loss:  1.647619*****\n",
      "*****Validation Accuracy: 58.19%*****\n",
      "\n"
     ]
    },
    {
     "name": "stderr",
     "output_type": "stream",
     "text": [
      "100%|████████████████████████████████████████████████████████████████████████| 754/754 [02:36<00:00,  4.81it/s]\n",
      "100%|████████████████████████████████████████████████████████████████████████| 754/754 [02:23<00:00,  5.24it/s]\n"
     ]
    },
    {
     "name": "stdout",
     "output_type": "stream",
     "text": [
      "*****Epoch 39/240*****\n",
      "*****Train Loss:  2.212896 Val Loss:  1.605454*****\n",
      "*****Validation Accuracy: 59.14%*****\n",
      "\n"
     ]
    },
    {
     "name": "stderr",
     "output_type": "stream",
     "text": [
      "100%|████████████████████████████████████████████████████████████████████████| 754/754 [02:37<00:00,  4.78it/s]\n",
      "100%|████████████████████████████████████████████████████████████████████████| 754/754 [02:25<00:00,  5.19it/s]\n"
     ]
    },
    {
     "name": "stdout",
     "output_type": "stream",
     "text": [
      "*****Epoch 40/240*****\n",
      "*****Train Loss:  2.186860 Val Loss:  1.574426*****\n",
      "*****Validation Accuracy: 59.90%*****\n",
      "\n"
     ]
    },
    {
     "name": "stderr",
     "output_type": "stream",
     "text": [
      "100%|████████████████████████████████████████████████████████████████████████| 754/754 [02:37<00:00,  4.78it/s]\n",
      "100%|████████████████████████████████████████████████████████████████████████| 754/754 [02:23<00:00,  5.27it/s]\n"
     ]
    },
    {
     "name": "stdout",
     "output_type": "stream",
     "text": [
      "*****Epoch 41/240*****\n",
      "*****Train Loss:  2.172620 Val Loss:  1.550571*****\n",
      "*****Validation Accuracy: 60.37%*****\n",
      "\n"
     ]
    },
    {
     "name": "stderr",
     "output_type": "stream",
     "text": [
      "100%|████████████████████████████████████████████████████████████████████████| 754/754 [02:37<00:00,  4.78it/s]\n",
      "100%|████████████████████████████████████████████████████████████████████████| 754/754 [02:23<00:00,  5.24it/s]\n"
     ]
    },
    {
     "name": "stdout",
     "output_type": "stream",
     "text": [
      "*****Epoch 42/240*****\n",
      "*****Train Loss:  2.155904 Val Loss:  1.498964*****\n",
      "*****Validation Accuracy: 62.27%*****\n",
      "\n"
     ]
    },
    {
     "name": "stderr",
     "output_type": "stream",
     "text": [
      "100%|████████████████████████████████████████████████████████████████████████| 754/754 [02:36<00:00,  4.83it/s]\n",
      "100%|████████████████████████████████████████████████████████████████████████| 754/754 [02:25<00:00,  5.20it/s]\n"
     ]
    },
    {
     "name": "stdout",
     "output_type": "stream",
     "text": [
      "*****Epoch 43/240*****\n",
      "*****Train Loss:  2.122235 Val Loss:  1.467004*****\n",
      "*****Validation Accuracy: 63.49%*****\n",
      "\n"
     ]
    },
    {
     "name": "stderr",
     "output_type": "stream",
     "text": [
      "100%|████████████████████████████████████████████████████████████████████████| 754/754 [02:34<00:00,  4.87it/s]\n",
      "100%|████████████████████████████████████████████████████████████████████████| 754/754 [02:24<00:00,  5.21it/s]\n"
     ]
    },
    {
     "name": "stdout",
     "output_type": "stream",
     "text": [
      "*****Epoch 44/240*****\n",
      "*****Train Loss:  2.104947 Val Loss:  1.428749*****\n",
      "*****Validation Accuracy: 63.66%*****\n",
      "\n"
     ]
    },
    {
     "name": "stderr",
     "output_type": "stream",
     "text": [
      "100%|████████████████████████████████████████████████████████████████████████| 754/754 [02:35<00:00,  4.84it/s]\n",
      "100%|████████████████████████████████████████████████████████████████████████| 754/754 [02:24<00:00,  5.20it/s]\n"
     ]
    },
    {
     "name": "stdout",
     "output_type": "stream",
     "text": [
      "*****Epoch 45/240*****\n",
      "*****Train Loss:  2.090045 Val Loss:  1.435757*****\n",
      "*****Validation Accuracy: 64.94%*****\n",
      "\n"
     ]
    },
    {
     "name": "stderr",
     "output_type": "stream",
     "text": [
      "100%|████████████████████████████████████████████████████████████████████████| 754/754 [02:36<00:00,  4.81it/s]\n",
      "100%|████████████████████████████████████████████████████████████████████████| 754/754 [02:26<00:00,  5.15it/s]\n"
     ]
    },
    {
     "name": "stdout",
     "output_type": "stream",
     "text": [
      "*****Epoch 46/240*****\n",
      "*****Train Loss:  2.062849 Val Loss:  1.378183*****\n",
      "*****Validation Accuracy: 66.19%*****\n",
      "\n"
     ]
    },
    {
     "name": "stderr",
     "output_type": "stream",
     "text": [
      "100%|████████████████████████████████████████████████████████████████████████| 754/754 [02:37<00:00,  4.80it/s]\n",
      "100%|████████████████████████████████████████████████████████████████████████| 754/754 [02:23<00:00,  5.24it/s]\n"
     ]
    },
    {
     "name": "stdout",
     "output_type": "stream",
     "text": [
      "*****Epoch 47/240*****\n",
      "*****Train Loss:  2.046744 Val Loss:  1.361100*****\n",
      "*****Validation Accuracy: 66.58%*****\n",
      "\n"
     ]
    },
    {
     "name": "stderr",
     "output_type": "stream",
     "text": [
      "100%|████████████████████████████████████████████████████████████████████████| 754/754 [02:38<00:00,  4.76it/s]\n",
      "100%|████████████████████████████████████████████████████████████████████████| 754/754 [02:26<00:00,  5.15it/s]\n"
     ]
    },
    {
     "name": "stdout",
     "output_type": "stream",
     "text": [
      "*****Epoch 48/240*****\n",
      "*****Train Loss:  2.022080 Val Loss:  1.327565*****\n",
      "*****Validation Accuracy: 68.31%*****\n",
      "\n"
     ]
    },
    {
     "name": "stderr",
     "output_type": "stream",
     "text": [
      "100%|████████████████████████████████████████████████████████████████████████| 754/754 [02:37<00:00,  4.80it/s]\n",
      "100%|████████████████████████████████████████████████████████████████████████| 754/754 [02:24<00:00,  5.21it/s]\n"
     ]
    },
    {
     "name": "stdout",
     "output_type": "stream",
     "text": [
      "*****Epoch 49/240*****\n",
      "*****Train Loss:  1.998889 Val Loss:  1.306707*****\n",
      "*****Validation Accuracy: 67.88%*****\n",
      "\n"
     ]
    },
    {
     "name": "stderr",
     "output_type": "stream",
     "text": [
      "100%|████████████████████████████████████████████████████████████████████████| 754/754 [02:38<00:00,  4.75it/s]\n",
      "100%|████████████████████████████████████████████████████████████████████████| 754/754 [02:25<00:00,  5.20it/s]\n"
     ]
    },
    {
     "name": "stdout",
     "output_type": "stream",
     "text": [
      "*****Epoch 50/240*****\n",
      "*****Train Loss:  1.970193 Val Loss:  1.218744*****\n",
      "*****Validation Accuracy: 70.11%*****\n",
      "\n"
     ]
    },
    {
     "name": "stderr",
     "output_type": "stream",
     "text": [
      "100%|████████████████████████████████████████████████████████████████████████| 754/754 [02:35<00:00,  4.85it/s]\n",
      "100%|████████████████████████████████████████████████████████████████████████| 754/754 [02:22<00:00,  5.30it/s]\n"
     ]
    },
    {
     "name": "stdout",
     "output_type": "stream",
     "text": [
      "*****Epoch 51/240*****\n",
      "*****Train Loss:  1.935347 Val Loss:  1.216727*****\n",
      "*****Validation Accuracy: 71.15%*****\n",
      "\n"
     ]
    },
    {
     "name": "stderr",
     "output_type": "stream",
     "text": [
      "100%|████████████████████████████████████████████████████████████████████████| 754/754 [02:38<00:00,  4.75it/s]\n",
      "100%|████████████████████████████████████████████████████████████████████████| 754/754 [02:25<00:00,  5.19it/s]\n"
     ]
    },
    {
     "name": "stdout",
     "output_type": "stream",
     "text": [
      "*****Epoch 52/240*****\n",
      "*****Train Loss:  1.921571 Val Loss:  1.213535*****\n",
      "*****Validation Accuracy: 70.63%*****\n",
      "\n"
     ]
    },
    {
     "name": "stderr",
     "output_type": "stream",
     "text": [
      "100%|████████████████████████████████████████████████████████████████████████| 754/754 [02:36<00:00,  4.81it/s]\n",
      "100%|████████████████████████████████████████████████████████████████████████| 754/754 [02:23<00:00,  5.25it/s]\n"
     ]
    },
    {
     "name": "stdout",
     "output_type": "stream",
     "text": [
      "*****Epoch 53/240*****\n",
      "*****Train Loss:  1.897199 Val Loss:  1.128848*****\n",
      "*****Validation Accuracy: 73.57%*****\n",
      "\n"
     ]
    },
    {
     "name": "stderr",
     "output_type": "stream",
     "text": [
      "100%|████████████████████████████████████████████████████████████████████████| 754/754 [02:36<00:00,  4.82it/s]\n",
      "100%|████████████████████████████████████████████████████████████████████████| 754/754 [02:27<00:00,  5.12it/s]\n"
     ]
    },
    {
     "name": "stdout",
     "output_type": "stream",
     "text": [
      "*****Epoch 54/240*****\n",
      "*****Train Loss:  1.875698 Val Loss:  1.098758*****\n",
      "*****Validation Accuracy: 74.02%*****\n",
      "\n"
     ]
    },
    {
     "name": "stderr",
     "output_type": "stream",
     "text": [
      "100%|████████████████████████████████████████████████████████████████████████| 754/754 [02:37<00:00,  4.78it/s]\n",
      "100%|████████████████████████████████████████████████████████████████████████| 754/754 [02:24<00:00,  5.20it/s]\n"
     ]
    },
    {
     "name": "stdout",
     "output_type": "stream",
     "text": [
      "*****Epoch 55/240*****\n",
      "*****Train Loss:  1.854015 Val Loss:  1.063578*****\n",
      "*****Validation Accuracy: 75.10%*****\n",
      "\n"
     ]
    },
    {
     "name": "stderr",
     "output_type": "stream",
     "text": [
      "100%|████████████████████████████████████████████████████████████████████████| 754/754 [02:35<00:00,  4.84it/s]\n",
      "100%|████████████████████████████████████████████████████████████████████████| 754/754 [02:25<00:00,  5.18it/s]\n"
     ]
    },
    {
     "name": "stdout",
     "output_type": "stream",
     "text": [
      "*****Epoch 56/240*****\n",
      "*****Train Loss:  1.837264 Val Loss:  1.049830*****\n",
      "*****Validation Accuracy: 76.23%*****\n",
      "\n"
     ]
    },
    {
     "name": "stderr",
     "output_type": "stream",
     "text": [
      "100%|████████████████████████████████████████████████████████████████████████| 754/754 [02:38<00:00,  4.75it/s]\n",
      "100%|████████████████████████████████████████████████████████████████████████| 754/754 [02:23<00:00,  5.27it/s]\n"
     ]
    },
    {
     "name": "stdout",
     "output_type": "stream",
     "text": [
      "*****Epoch 57/240*****\n",
      "*****Train Loss:  1.802267 Val Loss:  1.059279*****\n",
      "*****Validation Accuracy: 77.99%*****\n",
      "\n"
     ]
    },
    {
     "name": "stderr",
     "output_type": "stream",
     "text": [
      "100%|████████████████████████████████████████████████████████████████████████| 754/754 [02:36<00:00,  4.82it/s]\n",
      "100%|████████████████████████████████████████████████████████████████████████| 754/754 [02:28<00:00,  5.07it/s]\n"
     ]
    },
    {
     "name": "stdout",
     "output_type": "stream",
     "text": [
      "*****Epoch 58/240*****\n",
      "*****Train Loss:  1.776687 Val Loss:  0.980232*****\n",
      "*****Validation Accuracy: 78.09%*****\n",
      "\n"
     ]
    },
    {
     "name": "stderr",
     "output_type": "stream",
     "text": [
      "100%|████████████████████████████████████████████████████████████████████████| 754/754 [02:36<00:00,  4.83it/s]\n",
      "100%|████████████████████████████████████████████████████████████████████████| 754/754 [02:25<00:00,  5.18it/s]\n"
     ]
    },
    {
     "name": "stdout",
     "output_type": "stream",
     "text": [
      "*****Epoch 59/240*****\n",
      "*****Train Loss:  1.767551 Val Loss:  0.930906*****\n",
      "*****Validation Accuracy: 79.56%*****\n",
      "\n"
     ]
    },
    {
     "name": "stderr",
     "output_type": "stream",
     "text": [
      "100%|████████████████████████████████████████████████████████████████████████| 754/754 [02:36<00:00,  4.83it/s]\n",
      "100%|████████████████████████████████████████████████████████████████████████| 754/754 [02:25<00:00,  5.19it/s]\n"
     ]
    },
    {
     "name": "stdout",
     "output_type": "stream",
     "text": [
      "*****Epoch 60/240*****\n",
      "*****Train Loss:  1.718930 Val Loss:  0.956002*****\n",
      "*****Validation Accuracy: 80.45%*****\n",
      "\n"
     ]
    },
    {
     "name": "stderr",
     "output_type": "stream",
     "text": [
      "100%|████████████████████████████████████████████████████████████████████████| 754/754 [02:38<00:00,  4.77it/s]\n",
      "100%|████████████████████████████████████████████████████████████████████████| 754/754 [02:23<00:00,  5.26it/s]\n"
     ]
    },
    {
     "name": "stdout",
     "output_type": "stream",
     "text": [
      "*****Epoch 61/240*****\n",
      "*****Train Loss:  1.625195 Val Loss:  0.843884*****\n",
      "*****Validation Accuracy: 83.26%*****\n",
      "\n"
     ]
    },
    {
     "name": "stderr",
     "output_type": "stream",
     "text": [
      "100%|████████████████████████████████████████████████████████████████████████| 754/754 [02:36<00:00,  4.81it/s]\n",
      "100%|████████████████████████████████████████████████████████████████████████| 754/754 [02:21<00:00,  5.34it/s]\n"
     ]
    },
    {
     "name": "stdout",
     "output_type": "stream",
     "text": [
      "*****Epoch 62/240*****\n",
      "*****Train Loss:  1.597288 Val Loss:  0.824227*****\n",
      "*****Validation Accuracy: 83.81%*****\n",
      "\n"
     ]
    },
    {
     "name": "stderr",
     "output_type": "stream",
     "text": [
      "100%|████████████████████████████████████████████████████████████████████████| 754/754 [02:37<00:00,  4.78it/s]\n",
      "100%|████████████████████████████████████████████████████████████████████████| 754/754 [02:23<00:00,  5.27it/s]\n"
     ]
    },
    {
     "name": "stdout",
     "output_type": "stream",
     "text": [
      "*****Epoch 63/240*****\n",
      "*****Train Loss:  1.588797 Val Loss:  0.808774*****\n",
      "*****Validation Accuracy: 84.38%*****\n",
      "\n"
     ]
    },
    {
     "name": "stderr",
     "output_type": "stream",
     "text": [
      "100%|████████████████████████████████████████████████████████████████████████| 754/754 [02:39<00:00,  4.71it/s]\n",
      "100%|████████████████████████████████████████████████████████████████████████| 754/754 [02:26<00:00,  5.13it/s]\n"
     ]
    },
    {
     "name": "stdout",
     "output_type": "stream",
     "text": [
      "*****Epoch 64/240*****\n",
      "*****Train Loss:  1.590141 Val Loss:  0.788459*****\n",
      "*****Validation Accuracy: 84.54%*****\n",
      "\n"
     ]
    },
    {
     "name": "stderr",
     "output_type": "stream",
     "text": [
      "100%|████████████████████████████████████████████████████████████████████████| 754/754 [02:37<00:00,  4.77it/s]\n",
      "100%|████████████████████████████████████████████████████████████████████████| 754/754 [02:25<00:00,  5.18it/s]\n"
     ]
    },
    {
     "name": "stdout",
     "output_type": "stream",
     "text": [
      "*****Epoch 65/240*****\n",
      "*****Train Loss:  1.573642 Val Loss:  0.789344*****\n",
      "*****Validation Accuracy: 84.41%*****\n",
      "\n"
     ]
    },
    {
     "name": "stderr",
     "output_type": "stream",
     "text": [
      "100%|████████████████████████████████████████████████████████████████████████| 754/754 [02:37<00:00,  4.79it/s]\n",
      "100%|████████████████████████████████████████████████████████████████████████| 754/754 [02:23<00:00,  5.24it/s]\n"
     ]
    },
    {
     "name": "stdout",
     "output_type": "stream",
     "text": [
      "*****Epoch 66/240*****\n",
      "*****Train Loss:  1.570463 Val Loss:  0.785986*****\n",
      "*****Validation Accuracy: 84.86%*****\n",
      "\n"
     ]
    },
    {
     "name": "stderr",
     "output_type": "stream",
     "text": [
      "100%|████████████████████████████████████████████████████████████████████████| 754/754 [02:37<00:00,  4.79it/s]\n",
      "100%|████████████████████████████████████████████████████████████████████████| 754/754 [02:25<00:00,  5.17it/s]\n"
     ]
    },
    {
     "name": "stdout",
     "output_type": "stream",
     "text": [
      "*****Epoch 67/240*****\n",
      "*****Train Loss:  1.575265 Val Loss:  0.779175*****\n",
      "*****Validation Accuracy: 85.00%*****\n",
      "\n"
     ]
    },
    {
     "name": "stderr",
     "output_type": "stream",
     "text": [
      "100%|████████████████████████████████████████████████████████████████████████| 754/754 [02:40<00:00,  4.70it/s]\n",
      "100%|████████████████████████████████████████████████████████████████████████| 754/754 [02:27<00:00,  5.11it/s]\n"
     ]
    },
    {
     "name": "stdout",
     "output_type": "stream",
     "text": [
      "*****Epoch 68/240*****\n",
      "*****Train Loss:  1.564464 Val Loss:  0.766445*****\n",
      "*****Validation Accuracy: 85.72%*****\n",
      "\n"
     ]
    },
    {
     "name": "stderr",
     "output_type": "stream",
     "text": [
      "100%|████████████████████████████████████████████████████████████████████████| 754/754 [02:41<00:00,  4.67it/s]\n",
      "100%|████████████████████████████████████████████████████████████████████████| 754/754 [02:25<00:00,  5.18it/s]\n"
     ]
    },
    {
     "name": "stdout",
     "output_type": "stream",
     "text": [
      "*****Epoch 69/240*****\n",
      "*****Train Loss:  1.557442 Val Loss:  0.763615*****\n",
      "*****Validation Accuracy: 85.01%*****\n",
      "\n"
     ]
    },
    {
     "name": "stderr",
     "output_type": "stream",
     "text": [
      "100%|████████████████████████████████████████████████████████████████████████| 754/754 [02:35<00:00,  4.84it/s]\n",
      "100%|████████████████████████████████████████████████████████████████████████| 754/754 [02:28<00:00,  5.07it/s]\n"
     ]
    },
    {
     "name": "stdout",
     "output_type": "stream",
     "text": [
      "*****Epoch 70/240*****\n",
      "*****Train Loss:  1.565168 Val Loss:  0.762241*****\n",
      "*****Validation Accuracy: 85.81%*****\n",
      "\n"
     ]
    },
    {
     "name": "stderr",
     "output_type": "stream",
     "text": [
      "100%|████████████████████████████████████████████████████████████████████████| 754/754 [02:39<00:00,  4.71it/s]\n",
      "100%|████████████████████████████████████████████████████████████████████████| 754/754 [02:26<00:00,  5.16it/s]\n"
     ]
    },
    {
     "name": "stdout",
     "output_type": "stream",
     "text": [
      "*****Epoch 71/240*****\n",
      "*****Train Loss:  1.546707 Val Loss:  0.749965*****\n",
      "*****Validation Accuracy: 86.09%*****\n",
      "\n"
     ]
    },
    {
     "name": "stderr",
     "output_type": "stream",
     "text": [
      "100%|████████████████████████████████████████████████████████████████████████| 754/754 [02:39<00:00,  4.72it/s]\n",
      "100%|████████████████████████████████████████████████████████████████████████| 754/754 [02:26<00:00,  5.16it/s]\n"
     ]
    },
    {
     "name": "stdout",
     "output_type": "stream",
     "text": [
      "*****Epoch 72/240*****\n",
      "*****Train Loss:  1.547525 Val Loss:  0.756599*****\n",
      "*****Validation Accuracy: 85.46%*****\n",
      "\n"
     ]
    },
    {
     "name": "stderr",
     "output_type": "stream",
     "text": [
      "100%|████████████████████████████████████████████████████████████████████████| 754/754 [02:38<00:00,  4.76it/s]\n",
      "100%|████████████████████████████████████████████████████████████████████████| 754/754 [02:23<00:00,  5.24it/s]\n"
     ]
    },
    {
     "name": "stdout",
     "output_type": "stream",
     "text": [
      "*****Epoch 73/240*****\n",
      "*****Train Loss:  1.544445 Val Loss:  0.752430*****\n",
      "*****Validation Accuracy: 85.88%*****\n",
      "\n"
     ]
    },
    {
     "name": "stderr",
     "output_type": "stream",
     "text": [
      "100%|████████████████████████████████████████████████████████████████████████| 754/754 [02:34<00:00,  4.87it/s]\n",
      "100%|████████████████████████████████████████████████████████████████████████| 754/754 [02:24<00:00,  5.21it/s]\n"
     ]
    },
    {
     "name": "stdout",
     "output_type": "stream",
     "text": [
      "*****Epoch 74/240*****\n",
      "*****Train Loss:  1.547710 Val Loss:  0.732973*****\n",
      "*****Validation Accuracy: 85.36%*****\n",
      "\n"
     ]
    },
    {
     "name": "stderr",
     "output_type": "stream",
     "text": [
      "100%|████████████████████████████████████████████████████████████████████████| 754/754 [02:35<00:00,  4.86it/s]\n",
      "100%|████████████████████████████████████████████████████████████████████████| 754/754 [02:25<00:00,  5.17it/s]\n"
     ]
    },
    {
     "name": "stdout",
     "output_type": "stream",
     "text": [
      "*****Epoch 75/240*****\n",
      "*****Train Loss:  1.548477 Val Loss:  0.741196*****\n",
      "*****Validation Accuracy: 86.16%*****\n",
      "\n"
     ]
    },
    {
     "name": "stderr",
     "output_type": "stream",
     "text": [
      "100%|████████████████████████████████████████████████████████████████████████| 754/754 [02:37<00:00,  4.79it/s]\n",
      "100%|████████████████████████████████████████████████████████████████████████| 754/754 [02:24<00:00,  5.22it/s]\n"
     ]
    },
    {
     "name": "stdout",
     "output_type": "stream",
     "text": [
      "*****Epoch 76/240*****\n",
      "*****Train Loss:  1.517169 Val Loss:  0.731974*****\n",
      "*****Validation Accuracy: 86.22%*****\n",
      "\n"
     ]
    },
    {
     "name": "stderr",
     "output_type": "stream",
     "text": [
      "100%|████████████████████████████████████████████████████████████████████████| 754/754 [02:38<00:00,  4.77it/s]\n",
      "100%|████████████████████████████████████████████████████████████████████████| 754/754 [02:24<00:00,  5.23it/s]\n"
     ]
    },
    {
     "name": "stdout",
     "output_type": "stream",
     "text": [
      "*****Epoch 77/240*****\n",
      "*****Train Loss:  1.536409 Val Loss:  0.728659*****\n",
      "*****Validation Accuracy: 86.41%*****\n",
      "\n"
     ]
    },
    {
     "name": "stderr",
     "output_type": "stream",
     "text": [
      "100%|████████████████████████████████████████████████████████████████████████| 754/754 [02:38<00:00,  4.75it/s]\n",
      "100%|████████████████████████████████████████████████████████████████████████| 754/754 [02:22<00:00,  5.28it/s]\n"
     ]
    },
    {
     "name": "stdout",
     "output_type": "stream",
     "text": [
      "*****Epoch 78/240*****\n",
      "*****Train Loss:  1.532751 Val Loss:  0.734421*****\n",
      "*****Validation Accuracy: 86.39%*****\n",
      "\n"
     ]
    },
    {
     "name": "stderr",
     "output_type": "stream",
     "text": [
      "100%|████████████████████████████████████████████████████████████████████████| 754/754 [02:37<00:00,  4.79it/s]\n",
      "100%|████████████████████████████████████████████████████████████████████████| 754/754 [02:23<00:00,  5.26it/s]\n"
     ]
    },
    {
     "name": "stdout",
     "output_type": "stream",
     "text": [
      "*****Epoch 79/240*****\n",
      "*****Train Loss:  1.527138 Val Loss:  0.722920*****\n",
      "*****Validation Accuracy: 86.94%*****\n",
      "\n"
     ]
    },
    {
     "name": "stderr",
     "output_type": "stream",
     "text": [
      "100%|████████████████████████████████████████████████████████████████████████| 754/754 [02:37<00:00,  4.79it/s]\n",
      "100%|████████████████████████████████████████████████████████████████████████| 754/754 [02:24<00:00,  5.23it/s]\n"
     ]
    },
    {
     "name": "stdout",
     "output_type": "stream",
     "text": [
      "*****Epoch 80/240*****\n",
      "*****Train Loss:  1.520792 Val Loss:  0.735616*****\n",
      "*****Validation Accuracy: 86.47%*****\n",
      "\n"
     ]
    },
    {
     "name": "stderr",
     "output_type": "stream",
     "text": [
      "100%|████████████████████████████████████████████████████████████████████████| 754/754 [02:37<00:00,  4.77it/s]\n",
      "100%|████████████████████████████████████████████████████████████████████████| 754/754 [02:21<00:00,  5.31it/s]\n"
     ]
    },
    {
     "name": "stdout",
     "output_type": "stream",
     "text": [
      "*****Epoch 81/240*****\n",
      "*****Train Loss:  1.506178 Val Loss:  0.730779*****\n",
      "*****Validation Accuracy: 86.83%*****\n",
      "\n"
     ]
    },
    {
     "name": "stderr",
     "output_type": "stream",
     "text": [
      "100%|████████████████████████████████████████████████████████████████████████| 754/754 [02:36<00:00,  4.81it/s]\n",
      "100%|████████████████████████████████████████████████████████████████████████| 754/754 [02:24<00:00,  5.22it/s]\n"
     ]
    },
    {
     "name": "stdout",
     "output_type": "stream",
     "text": [
      "*****Epoch 82/240*****\n",
      "*****Train Loss:  1.505957 Val Loss:  0.719204*****\n",
      "*****Validation Accuracy: 86.73%*****\n",
      "\n"
     ]
    },
    {
     "name": "stderr",
     "output_type": "stream",
     "text": [
      "100%|████████████████████████████████████████████████████████████████████████| 754/754 [02:35<00:00,  4.85it/s]\n",
      "100%|████████████████████████████████████████████████████████████████████████| 754/754 [02:25<00:00,  5.17it/s]\n"
     ]
    },
    {
     "name": "stdout",
     "output_type": "stream",
     "text": [
      "*****Epoch 83/240*****\n",
      "*****Train Loss:  1.518751 Val Loss:  0.712606*****\n",
      "*****Validation Accuracy: 86.79%*****\n",
      "\n"
     ]
    },
    {
     "name": "stderr",
     "output_type": "stream",
     "text": [
      "100%|████████████████████████████████████████████████████████████████████████| 754/754 [02:37<00:00,  4.80it/s]\n",
      "100%|████████████████████████████████████████████████████████████████████████| 754/754 [02:25<00:00,  5.18it/s]\n"
     ]
    },
    {
     "name": "stdout",
     "output_type": "stream",
     "text": [
      "*****Epoch 84/240*****\n",
      "*****Train Loss:  1.519671 Val Loss:  0.705428*****\n",
      "*****Validation Accuracy: 86.67%*****\n",
      "\n"
     ]
    },
    {
     "name": "stderr",
     "output_type": "stream",
     "text": [
      "100%|████████████████████████████████████████████████████████████████████████| 754/754 [02:34<00:00,  4.88it/s]\n",
      "100%|████████████████████████████████████████████████████████████████████████| 754/754 [02:22<00:00,  5.29it/s]\n"
     ]
    },
    {
     "name": "stdout",
     "output_type": "stream",
     "text": [
      "*****Epoch 85/240*****\n",
      "*****Train Loss:  1.514954 Val Loss:  0.703543*****\n",
      "*****Validation Accuracy: 87.12%*****\n",
      "\n"
     ]
    },
    {
     "name": "stderr",
     "output_type": "stream",
     "text": [
      "100%|████████████████████████████████████████████████████████████████████████| 754/754 [02:34<00:00,  4.87it/s]\n",
      "100%|████████████████████████████████████████████████████████████████████████| 754/754 [02:24<00:00,  5.21it/s]\n"
     ]
    },
    {
     "name": "stdout",
     "output_type": "stream",
     "text": [
      "*****Epoch 86/240*****\n",
      "*****Train Loss:  1.496099 Val Loss:  0.699138*****\n",
      "*****Validation Accuracy: 86.90%*****\n",
      "\n"
     ]
    },
    {
     "name": "stderr",
     "output_type": "stream",
     "text": [
      "100%|████████████████████████████████████████████████████████████████████████| 754/754 [02:36<00:00,  4.82it/s]\n",
      "100%|████████████████████████████████████████████████████████████████████████| 754/754 [02:25<00:00,  5.18it/s]\n"
     ]
    },
    {
     "name": "stdout",
     "output_type": "stream",
     "text": [
      "*****Epoch 87/240*****\n",
      "*****Train Loss:  1.490316 Val Loss:  0.701448*****\n",
      "*****Validation Accuracy: 87.06%*****\n",
      "\n"
     ]
    },
    {
     "name": "stderr",
     "output_type": "stream",
     "text": [
      "100%|████████████████████████████████████████████████████████████████████████| 754/754 [02:36<00:00,  4.83it/s]\n",
      "100%|████████████████████████████████████████████████████████████████████████| 754/754 [02:24<00:00,  5.23it/s]\n"
     ]
    },
    {
     "name": "stdout",
     "output_type": "stream",
     "text": [
      "*****Epoch 88/240*****\n",
      "*****Train Loss:  1.496663 Val Loss:  0.692310*****\n",
      "*****Validation Accuracy: 87.56%*****\n",
      "\n"
     ]
    },
    {
     "name": "stderr",
     "output_type": "stream",
     "text": [
      "100%|████████████████████████████████████████████████████████████████████████| 754/754 [02:37<00:00,  4.80it/s]\n",
      "100%|████████████████████████████████████████████████████████████████████████| 754/754 [02:23<00:00,  5.24it/s]\n"
     ]
    },
    {
     "name": "stdout",
     "output_type": "stream",
     "text": [
      "*****Epoch 89/240*****\n",
      "*****Train Loss:  1.508868 Val Loss:  0.692894*****\n",
      "*****Validation Accuracy: 87.30%*****\n",
      "\n"
     ]
    },
    {
     "name": "stderr",
     "output_type": "stream",
     "text": [
      "100%|████████████████████████████████████████████████████████████████████████| 754/754 [02:37<00:00,  4.78it/s]\n",
      "100%|████████████████████████████████████████████████████████████████████████| 754/754 [02:24<00:00,  5.21it/s]\n"
     ]
    },
    {
     "name": "stdout",
     "output_type": "stream",
     "text": [
      "*****Epoch 90/240*****\n",
      "*****Train Loss:  1.503242 Val Loss:  0.701516*****\n",
      "*****Validation Accuracy: 87.39%*****\n",
      "\n"
     ]
    },
    {
     "name": "stderr",
     "output_type": "stream",
     "text": [
      "100%|████████████████████████████████████████████████████████████████████████| 754/754 [02:38<00:00,  4.77it/s]\n",
      "100%|████████████████████████████████████████████████████████████████████████| 754/754 [02:22<00:00,  5.31it/s]\n"
     ]
    },
    {
     "name": "stdout",
     "output_type": "stream",
     "text": [
      "*****Epoch 91/240*****\n",
      "*****Train Loss:  1.470192 Val Loss:  0.686214*****\n",
      "*****Validation Accuracy: 88.06%*****\n",
      "\n"
     ]
    },
    {
     "name": "stderr",
     "output_type": "stream",
     "text": [
      "100%|████████████████████████████████████████████████████████████████████████| 754/754 [02:40<00:00,  4.70it/s]\n",
      "100%|████████████████████████████████████████████████████████████████████████| 754/754 [02:24<00:00,  5.20it/s]\n"
     ]
    },
    {
     "name": "stdout",
     "output_type": "stream",
     "text": [
      "*****Epoch 92/240*****\n",
      "*****Train Loss:  1.482486 Val Loss:  0.686711*****\n",
      "*****Validation Accuracy: 87.67%*****\n",
      "\n"
     ]
    },
    {
     "name": "stderr",
     "output_type": "stream",
     "text": [
      "100%|████████████████████████████████████████████████████████████████████████| 754/754 [02:35<00:00,  4.85it/s]\n",
      "100%|████████████████████████████████████████████████████████████████████████| 754/754 [02:22<00:00,  5.28it/s]\n"
     ]
    },
    {
     "name": "stdout",
     "output_type": "stream",
     "text": [
      "*****Epoch 93/240*****\n",
      "*****Train Loss:  1.482721 Val Loss:  0.675421*****\n",
      "*****Validation Accuracy: 87.76%*****\n",
      "\n"
     ]
    },
    {
     "name": "stderr",
     "output_type": "stream",
     "text": [
      "100%|████████████████████████████████████████████████████████████████████████| 754/754 [02:37<00:00,  4.80it/s]\n",
      "100%|████████████████████████████████████████████████████████████████████████| 754/754 [02:23<00:00,  5.27it/s]\n"
     ]
    },
    {
     "name": "stdout",
     "output_type": "stream",
     "text": [
      "*****Epoch 94/240*****\n",
      "*****Train Loss:  1.476956 Val Loss:  0.666625*****\n",
      "*****Validation Accuracy: 88.21%*****\n",
      "\n"
     ]
    },
    {
     "name": "stderr",
     "output_type": "stream",
     "text": [
      "100%|████████████████████████████████████████████████████████████████████████| 754/754 [02:34<00:00,  4.88it/s]\n",
      "100%|████████████████████████████████████████████████████████████████████████| 754/754 [02:24<00:00,  5.22it/s]\n"
     ]
    },
    {
     "name": "stdout",
     "output_type": "stream",
     "text": [
      "*****Epoch 95/240*****\n",
      "*****Train Loss:  1.474383 Val Loss:  0.680408*****\n",
      "*****Validation Accuracy: 88.05%*****\n",
      "\n"
     ]
    },
    {
     "name": "stderr",
     "output_type": "stream",
     "text": [
      "100%|████████████████████████████████████████████████████████████████████████| 754/754 [02:36<00:00,  4.82it/s]\n",
      "100%|████████████████████████████████████████████████████████████████████████| 754/754 [02:23<00:00,  5.24it/s]"
     ]
    },
    {
     "name": "stdout",
     "output_type": "stream",
     "text": [
      "*****Epoch 96/240*****\n",
      "*****Train Loss:  1.480186 Val Loss:  0.669617*****\n",
      "*****Validation Accuracy: 87.83%*****\n",
      "\n",
      "Early stopping\n",
      "Finished Training Student\n"
     ]
    },
    {
     "name": "stderr",
     "output_type": "stream",
     "text": [
      "\n"
     ]
    }
   ],
   "source": [
    "# Call the function to train the student model with knowledge distillation\n",
    "rkd_train_student_with_distillation(student_model, teacher_model, trainloader, criterion,\n",
    "                                    student_optimizer, student_scheduler, device, alpha, \n",
    "                                    temperature, num_epochs=num_epochs)"
   ]
  },
  {
   "cell_type": "code",
   "execution_count": 18,
   "id": "9752e6ac-85ee-4a75-a97e-f0518ee902f7",
   "metadata": {},
   "outputs": [
    {
     "name": "stdout",
     "output_type": "stream",
     "text": [
      "student weights and architecture saved and exported\n"
     ]
    }
   ],
   "source": [
    "torch.save(student_model.state_dict(), 'student_model_weights_rkd_wider.pth')\n",
    "torch.save(student_model, 'student_model_rkd_wider.pth')\n",
    "print('student weights and architecture saved and exported')\n"
   ]
  },
  {
   "cell_type": "code",
   "execution_count": 19,
   "id": "ed2e86c5-b89e-4f68-a35d-3e43a4368ea9",
   "metadata": {},
   "outputs": [
    {
     "name": "stdout",
     "output_type": "stream",
     "text": [
      "student weights and architecture saved and exported to S3\n",
      "teacher weights and architecture saved and exported to S3\n"
     ]
    }
   ],
   "source": [
    "###################### Testing 1 using s3 bucket ######################\n",
    "\n",
    "session = boto3.session.Session()\n",
    "s3 = session.client('s3')\n",
    "\n",
    "bucket_name = '210bucket' \n",
    "\n",
    "# Student Model\n",
    "student_model_weights_path = 'weights/testing_student_model_weights_rkd_wider.pth'\n",
    "student_model_path = 'models/testing_student_model_rkd_wider.pth'\n",
    "\n",
    "# Save state dict to buffer\n",
    "student_model_weights_buffer = io.BytesIO()\n",
    "torch.save(student_model.state_dict(), student_model_weights_buffer)\n",
    "student_model_weights_buffer.seek(0)\n",
    "\n",
    "# Save entire model to buffer\n",
    "student_model_buffer = io.BytesIO()\n",
    "torch.save(student_model, student_model_buffer)\n",
    "student_model_buffer.seek(0)\n",
    "\n",
    "# Upload to S3\n",
    "s3.put_object(Bucket=bucket_name, Key=student_model_weights_path, Body=student_model_weights_buffer)\n",
    "s3.put_object(Bucket=bucket_name, Key=student_model_path, Body=student_model_buffer)\n",
    "print('student weights and architecture saved and exported to S3')\n",
    "\n",
    "# Teacher Model\n",
    "teacher_model_weights_path = 'weights/testing_teacher_model_weights_rkd_wider.pth'\n",
    "teacher_model_path = 'models/testing_teacher_model_rkd_wider.pth'\n",
    "\n",
    "# Save state dict to buffer\n",
    "teacher_model_weights_buffer = io.BytesIO()\n",
    "torch.save(teacher_model.state_dict(), teacher_model_weights_buffer)\n",
    "teacher_model_weights_buffer.seek(0)\n",
    "\n",
    "# Save entire model to buffer\n",
    "teacher_model_buffer = io.BytesIO()\n",
    "torch.save(teacher_model, teacher_model_buffer)\n",
    "teacher_model_buffer.seek(0)\n",
    "\n",
    "# Upload to S3\n",
    "s3.put_object(Bucket=bucket_name, Key=teacher_model_weights_path, Body=teacher_model_weights_buffer)\n",
    "s3.put_object(Bucket=bucket_name, Key=teacher_model_path, Body=teacher_model_buffer)\n",
    "print('teacher weights and architecture saved and exported to S3')\n"
   ]
  },
  {
   "cell_type": "code",
   "execution_count": null,
   "id": "c30aad75-7eb3-4a59-b1ac-dc3582cfa65c",
   "metadata": {},
   "outputs": [],
   "source": [
    "# ###################### Testing 1 ######################\n",
    "# # Save the student and teacher model weights and architecture\n",
    "# torch.save(student_model.state_dict(), 'student_model_weights_rkd_wider.pth')\n",
    "# torch.save(student_model, 'student_model_rkd_wider.pth')\n",
    "# print('student weights and architecture saved and exported')\n",
    "\n",
    "# torch.save(teacher_model.state_dict(), 'teacher_model_weights_rkd_wider.pth')\n",
    "# torch.save(teacher_model, 'teacher_model_rkd_wider.pth')\n",
    "# print('teacher weights and architecture saved and exported')"
   ]
  },
  {
   "cell_type": "code",
   "execution_count": 23,
   "id": "02e29951-1e09-4d6d-8d04-15897dd00723",
   "metadata": {},
   "outputs": [],
   "source": [
    "# ###################### Testing 2 ######################\n",
    "# # Save the student and teacher model weights and architecture\n",
    "# torch.save(student_model.state_dict(), 'student_model_weights_ckd_2.pth')\n",
    "# torch.save(student_model, 'student_model_ckd_2.pth')\n",
    "# print('weights and architecture saved and exported')\n",
    "\n",
    "# torch.save(teacher_model.state_dict(), 'teacher_model_weights_ckd_2.pth')\n",
    "# torch.save(teacher_model, 'teacher_model_ckd_2.pth')\n",
    "# print('teacher weights and architecture saved and exported')"
   ]
  },
  {
   "cell_type": "code",
   "execution_count": 17,
   "id": "7fea653a-24fa-43ef-8491-316aede3daac",
   "metadata": {},
   "outputs": [
    {
     "name": "stdout",
     "output_type": "stream",
     "text": [
      "teacher weights and architecture saved and exported to S3\n",
      "student weights and architecture saved and exported to S3\n"
     ]
    }
   ],
   "source": [
    "# ###################### Saving weights and model using s3 bucket ######################\n",
    "# session = boto3.session.Session()\n",
    "# s3 = session.client('s3')\n",
    "\n",
    "# bucket_name = '210bucket' \n",
    "\n",
    "# # Teacher Model\n",
    "# #### IMPORTANT!!!!! Change the file name so that you do not overwrite the existing files\n",
    "# teacher_model_weights_path = 'weights/student_model_weights_rkd_wider.pth'\n",
    "# teacher_model_path = 'models/student_model_rkd_wider.pth'\n",
    "\n",
    "# # Save state dict to buffer\n",
    "# teacher_model_weights_buffer = io.BytesIO()\n",
    "# torch.save(teacher_model.state_dict(), teacher_model_weights_buffer)\n",
    "# teacher_model_weights_buffer.seek(0)\n",
    "\n",
    "# # Save entire model to buffer\n",
    "# teacher_model_buffer = io.BytesIO()\n",
    "# torch.save(teacher_model, teacher_model_buffer)\n",
    "# teacher_model_buffer.seek(0)\n",
    "\n",
    "# # Upload to S3\n",
    "# s3.put_object(Bucket=bucket_name, Key=teacher_model_weights_path, Body=teacher_model_weights_buffer)\n",
    "# s3.put_object(Bucket=bucket_name, Key=teacher_model_path, Body=teacher_model_buffer)\n",
    "# print('teacher weights and architecture saved and exported to S3')\n",
    "\n",
    "# # Student Model\n",
    "# #### IMPORTANT!!!!! Change the file name so that you do not overwrite the existing files\n",
    "# student_model_weights_path = 'weights/teacher_model_weights_rkd_wider.pth' \n",
    "# student_model_path = 'models/teacher_model_rkd_wider.pth'\n",
    "\n",
    "# # Save state dict to buffer\n",
    "# student_model_weights_buffer = io.BytesIO()\n",
    "# torch.save(student_model.state_dict(), student_model_weights_buffer)\n",
    "# student_model_weights_buffer.seek(0)\n",
    "\n",
    "# # Save entire model to buffer\n",
    "# student_model_buffer = io.BytesIO()\n",
    "# torch.save(student_model, student_model_buffer)\n",
    "# student_model_buffer.seek(0)\n",
    "\n",
    "# # Upload to S3\n",
    "# s3.put_object(Bucket=bucket_name, Key=student_model_weights_path, Body=student_model_weights_buffer)\n",
    "# s3.put_object(Bucket=bucket_name, Key=student_model_path, Body=student_model_buffer)\n",
    "# print('student weights and architecture saved and exported to S3')"
   ]
  },
  {
   "cell_type": "code",
   "execution_count": 20,
   "id": "8abe5a31-ac27-4c96-ba5c-af8f7f5b94f8",
   "metadata": {},
   "outputs": [],
   "source": [
    "device = torch.device('cuda' if torch.cuda.is_available() else 'cpu')\n",
    "\n",
    "# Load the student model architecture and weights\n",
    "student_model = torch.load('student_model_rkd_wider.pth')\n",
    "student_model.load_state_dict(torch.load('student_model_weights_rkd_wider.pth'))\n",
    "student_model = student_model.to(device)\n",
    "\n",
    "# Load the student model architecture and weights\n",
    "teacher_model = torch.load('teacher_model_rkd_wider.pth')\n",
    "teacher_model.load_state_dict(torch.load('teacher_model_weights_rkd_wider.pth'))\n",
    "teacher_model = teacher_model.to(device)"
   ]
  },
  {
   "cell_type": "code",
   "execution_count": 21,
   "id": "91498cce-fa00-45af-b7fc-7bb42e22f778",
   "metadata": {},
   "outputs": [
    {
     "data": {
      "text/plain": [
       "0"
      ]
     },
     "execution_count": 21,
     "metadata": {},
     "output_type": "execute_result"
    }
   ],
   "source": [
    "# Initialize a session using Boto3 again \n",
    "session = boto3.session.Session()\n",
    "\n",
    "s3 = session.client('s3')\n",
    "bucket_name = '210bucket'  \n",
    "\n",
    "teacher_model_weights_s3_path = 'weights/teacher_model_weights_rkd_wider.pth'\n",
    "student_model_weights_s3_path = 'weights/student_model_weights_rkd_wider.pth'\n",
    "\n",
    "# Read files directly into memory\n",
    "teacher_model_weights_buffer = io.BytesIO()\n",
    "# student_model_weights_buffer = io.BytesIO()\n",
    "\n",
    "s3.download_fileobj(bucket_name, teacher_model_weights_s3_path, teacher_model_weights_buffer)\n",
    "# s3.download_fileobj(bucket_name, student_model_weights_s3_path, student_model_weights_buffer)\n",
    "\n",
    "# Load the weights into the models\n",
    "teacher_model_weights_buffer.seek(0)  # Move to the beginning of the buffer\n",
    "# student_model_weights_buffer.seek(0)  "
   ]
  },
  {
   "cell_type": "code",
   "execution_count": 22,
   "id": "3995827c-1726-44e2-89aa-5f346a3d4987",
   "metadata": {},
   "outputs": [
    {
     "name": "stdout",
     "output_type": "stream",
     "text": [
      "{'accuracy': (0.09324705491952878, 0.8789613406338145), 'precision': (0.008695013251165618, 0.8851664353052364), 'recall': (0.09324705491952878, 0.8789613406338145), 'f1': (0.015906767298459606, 0.8781034364153576)}\n"
     ]
    },
    {
     "data": {
      "image/png": "[encoded data removed]",
      "text/plain": [
       "<Figure size 640x480 with 1 Axes>"
      ]
     },
     "metadata": {},
     "output_type": "display_data"
    },
    {
     "data": {
      "image/png": "[encoded data removed]",
      "text/plain": [
       "<Figure size 640x480 with 1 Axes>"
      ]
     },
     "metadata": {},
     "output_type": "display_data"
    },
    {
     "data": {
      "image/png": "[encoded data removed]",
      "text/plain": [
       "<Figure size 640x480 with 1 Axes>"
      ]
     },
     "metadata": {},
     "output_type": "display_data"
    }
   ],
   "source": [
    "# Call the comparison and plotting functions after training\n",
    "teacher_params, student_params = compare_model_size(teacher_model, student_model)\n",
    "teacher_time, student_time = compare_inference_time(teacher_model, student_model, trainloader)\n",
    "performance_metrics = compare_performance_metrics(teacher_model, student_model, trainloader)['metrics']\n",
    "print(performance_metrics)\n",
    "\n",
    "# Extracting the metric values for plotting\n",
    "performance_labels = ['accuracy', 'precision', 'recall', 'f1']\n",
    "teacher_performance_values = [performance_metrics[metric][0] for metric in performance_labels]\n",
    "\n",
    "student_performance_values = [performance_metrics[metric][1] for metric in performance_labels]\n",
    "\n",
    "# Plotting the comparison for performance metrics\n",
    "plot_comparison(performance_labels, teacher_performance_values, student_performance_values, 'Performance Comparison', 'Score')\n",
    "\n",
    "# Plotting the comparison for model size\n",
    "model_size_labels = ['Model Size']\n",
    "teacher_model_size_values = [teacher_params]\n",
    "student_model_size_values = [student_params]\n",
    "plot_comparison(model_size_labels, teacher_model_size_values, student_model_size_values, 'Model Size Comparison', 'Parameter Count (millions)')\n",
    "\n",
    "# Plotting the comparison for inference time\n",
    "inference_time_labels = ['Inference Time']\n",
    "teacher_inference_time_values = [teacher_time]\n",
    "student_inference_time_values = [student_time]\n",
    "plot_comparison(inference_time_labels, teacher_inference_time_values, student_inference_time_values, 'Inference Time Comparison', 'Time (s)')"
   ]
  },
  {
   "cell_type": "code",
   "execution_count": 23,
   "id": "435ba618-d585-4c1a-a383-82e54f074c40",
   "metadata": {},
   "outputs": [
    {
     "name": "stdout",
     "output_type": "stream",
     "text": [
      "{'accuracy': (0.09221902017291066, 0.4040345821325648), 'precision': (0.008504347681651703, 0.41274801411558554), 'recall': (0.09221902017291066, 0.4040345821325648), 'f1': (0.015572604989620794, 0.39281734064573404)}\n"
     ]
    },
    {
     "data": {
      "image/png": "[encoded data removed]",
      "text/plain": [
       "<Figure size 640x480 with 1 Axes>"
      ]
     },
     "metadata": {},
     "output_type": "display_data"
    },
    {
     "data": {
      "image/png": "[encoded data removed]",
      "text/plain": [
       "<Figure size 640x480 with 1 Axes>"
      ]
     },
     "metadata": {},
     "output_type": "display_data"
    },
    {
     "data": {
      "image/png": "[encoded data removed]",
      "text/plain": [
       "<Figure size 640x480 with 1 Axes>"
      ]
     },
     "metadata": {},
     "output_type": "display_data"
    }
   ],
   "source": [
    "# Call the comparison and plotting functions after training\n",
    "teacher_params, student_params = compare_model_size(teacher_model, student_model)\n",
    "teacher_time, student_time = compare_inference_time(teacher_model, student_model, testloader)\n",
    "performance_metrics = compare_performance_metrics(teacher_model, student_model, testloader)['metrics']\n",
    "print(performance_metrics)\n",
    "\n",
    "# Extracting the metric values for plotting\n",
    "performance_labels = ['accuracy', 'precision', 'recall', 'f1']\n",
    "teacher_performance_values = [performance_metrics[metric][0] for metric in performance_labels]\n",
    "\n",
    "student_performance_values = [performance_metrics[metric][1] for metric in performance_labels]\n",
    "\n",
    "# Plotting the comparison for performance metrics\n",
    "plot_comparison(performance_labels, teacher_performance_values, student_performance_values, 'Performance Comparison', 'Score')\n",
    "\n",
    "# Plotting the comparison for model size\n",
    "model_size_labels = ['Model Size']\n",
    "teacher_model_size_values = [teacher_params]\n",
    "student_model_size_values = [student_params]\n",
    "plot_comparison(model_size_labels, teacher_model_size_values, student_model_size_values, 'Model Size Comparison', 'Parameter Count (millions)')\n",
    "\n",
    "# Plotting the comparison for inference time\n",
    "inference_time_labels = ['Inference Time']\n",
    "teacher_inference_time_values = [teacher_time]\n",
    "student_inference_time_values = [student_time]\n",
    "plot_comparison(inference_time_labels, teacher_inference_time_values, student_inference_time_values, 'Inference Time Comparison', 'Time (s)')"
   ]
  },
  {
   "cell_type": "code",
   "execution_count": null,
   "id": "b87fbb22-ac9f-4e38-adff-eee9621872d3",
   "metadata": {},
   "outputs": [],
   "source": []
  }
 ],
 "metadata": {
  "kernelspec": {
   "display_name": "Python 3 (ipykernel)",
   "language": "python",
   "name": "python3"
  },
  "language_info": {
   "codemirror_mode": {
    "name": "ipython",
    "version": 3
   },
   "file_extension": ".py",
   "mimetype": "text/x-python",
   "name": "python",
   "nbconvert_exporter": "python",
   "pygments_lexer": "ipython3",
   "version": "3.10.9"
  }
 },
 "nbformat": 4,
 "nbformat_minor": 5
}
