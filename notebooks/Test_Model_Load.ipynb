{
 "cells": [
  {
   "cell_type": "code",
   "execution_count": 1,
   "id": "6cf0377e-84b8-439a-9332-cc383f9bfd60",
   "metadata": {},
   "outputs": [
    {
     "name": "stdout",
     "output_type": "stream",
     "text": [
      "Files already downloaded and verified\n",
      "Accuracy of the network on the CIFAR-10 dataset: 13.73%\n"
     ]
    }
   ],
   "source": [
    "# test load with CIFAR10 as it has less classes similar to FACET\n",
    "\n",
    "import torch\n",
    "import torch.nn as nn\n",
    "import torch.optim as optim\n",
    "import torchvision\n",
    "import torchvision.transforms as transforms\n",
    "from models_package import StudentModel\n",
    "\n",
    "device = torch.device('cuda' if torch.cuda.is_available() else 'cpu')\n",
    "\n",
    "# Load the student model architecture and weights\n",
    "student_model = torch.load('student_model.pth')\n",
    "student_model.load_state_dict(torch.load('student_model_weights.pth'))\n",
    "student_model = student_model.to(device)\n",
    "\n",
    "\n",
    "# Modify the student model for the CIFAR-10 dataset\n",
    "class ModifiedStudentModel(nn.Module):\n",
    "    def __init__(self, student_model, num_classes):\n",
    "        super(ModifiedStudentModel, self).__init__()\n",
    "        self.features = nn.Sequential(*list(student_model.children())[:-1]) # Preserve the features part of the student model\n",
    "        self.fc1 = nn.Linear(16 * 15 * 15, num_classes)\n",
    "\n",
    "    def forward(self, x):\n",
    "        x = self.features(x)\n",
    "        x = x.view(-1, 16 * 15 * 15)\n",
    "        x = self.fc1(x)\n",
    "        return x\n",
    "\n",
    "modified_student_model = ModifiedStudentModel(student_model, num_classes=10)  # CIFAR-10 has 10 classes\n",
    "modified_student_model = modified_student_model.to(device)\n",
    "\n",
    "# Load the CIFAR-10 dataset\n",
    "transform = transforms.Compose([transforms.ToTensor(), transforms.Normalize((0.5, 0.5, 0.5), (0.5, 0.5, 0.5))])\n",
    "trainset = torchvision.datasets.CIFAR10(root='./data', train=True, download=True, transform=transform)\n",
    "trainloader = torch.utils.data.DataLoader(trainset, batch_size=32, shuffle=True, num_workers=2)\n",
    "\n",
    "# Evaluate the model on the CIFAR-10 dataset\n",
    "criterion = nn.CrossEntropyLoss()\n",
    "optimizer = optim.SGD(modified_student_model.parameters(), lr=0.001, momentum=0.9)\n",
    "\n",
    "correct = 0\n",
    "total = 0\n",
    "with torch.no_grad():\n",
    "    for data in trainloader:\n",
    "        images, labels = data\n",
    "        images, labels = images.to(device), labels.to(device)\n",
    "        outputs = modified_student_model(images)\n",
    "        _, predicted = torch.max(outputs.data, 1)\n",
    "        total += labels.size(0)\n",
    "        correct += (predicted == labels).sum().item()\n",
    "\n",
    "print(f'Accuracy of the network on the CIFAR-10 dataset: {100 * correct / total}%')\n",
    "\n"
   ]
  },
  {
   "cell_type": "code",
   "execution_count": null,
   "id": "0da8e0b9-b194-4e04-8b80-4e1bf0470fe1",
   "metadata": {},
   "outputs": [],
   "source": []
  }
 ],
 "metadata": {
  "kernelspec": {
   "display_name": "Python 3 (ipykernel)",
   "language": "python",
   "name": "python3"
  },
  "language_info": {
   "codemirror_mode": {
    "name": "ipython",
    "version": 3
   },
   "file_extension": ".py",
   "mimetype": "text/x-python",
   "name": "python",
   "nbconvert_exporter": "python",
   "pygments_lexer": "ipython3",
   "version": "3.10.9"
  }
 },
 "nbformat": 4,
 "nbformat_minor": 5
}
