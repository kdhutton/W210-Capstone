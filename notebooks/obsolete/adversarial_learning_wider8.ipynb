{
 "cells": [
  {
   "cell_type": "code",
   "execution_count": 1,
   "id": "50f79206-feac-4302-abb1-d699b6354a05",
   "metadata": {},
   "outputs": [],
   "source": [
    "import time\n",
    "import torch\n",
    "import json\n",
    "import random\n",
    "import torch.nn as nn\n",
    "import torch.nn.functional as F\n",
    "import torch.optim as optim\n",
    "import torchvision\n",
    "import torchvision.transforms as transforms\n",
    "import matplotlib.pyplot as plt\n",
    "import numpy as np\n",
    "import pandas as pd\n",
    "import seaborn as sns\n",
    "import math\n",
    "\n",
    "from tqdm import tqdm\n",
    "from PIL import Image\n",
    "from sklearn import metrics\n",
    "from sklearn.preprocessing import StandardScaler\n",
    "from sklearn.manifold import TSNE\n",
    "from sklearn.metrics import pairwise_distances_argmin_min\n",
    "from sklearn.metrics import accuracy_score, precision_score, recall_score, f1_score, confusion_matrix, classification_report\n",
    "from sklearn.model_selection import train_test_split, StratifiedKFold\n",
    "from torch.utils.data import Subset, Dataset, DataLoader\n",
    "from torchvision.models.resnet import ResNet, BasicBlock, Bottleneck, ResNet18_Weights, ResNet34_Weights, resnet18\n",
    "from torchvision.datasets import ImageFolder\n",
    "from utils.loss_functions import tkd_kdloss\n",
    "\n",
    "from models_package.models import Teacher, Student\n",
    "\n",
    "import warnings\n",
    "\n",
    "# Suppress all warnings\n",
    "warnings.filterwarnings(\"ignore\")"
   ]
  },
  {
   "cell_type": "code",
   "execution_count": 2,
   "id": "dc3c0ec8-98dc-4933-b9a3-e96fce39c6b5",
   "metadata": {},
   "outputs": [],
   "source": [
    "# Hyperparameters\n",
    "learning_rate = 0.001379 # 0.096779\n",
    "num_epochs = 300 # 200\n",
    "temperature = 4.0\n",
    "alpha = 0.9\n",
    "momentum = 0.9\n",
    "num_classes = 30\n",
    "step_size = 30\n",
    "gamma = 0.1\n",
    "patience = 5  # for early stopping\n",
    "lmda = 3\n",
    "batch_size = 330\n",
    "num_workers = 4\n",
    "\n",
    "class_labels = [0, 1, 3, 4, 6, 7, 11, 15, 17, 18, 19, 20, 22, 25, 27, 28, 30, 31, 33, 35, 36, 37, 39, 43, 44, 50, 51, 54, 57, 58]\n",
    "class_labels_new = torch.tensor([i for i in range(len(class_labels))])\n",
    "\n"
   ]
  },
  {
   "cell_type": "code",
   "execution_count": 3,
   "id": "a2770eac-10b7-47de-ba06-9aa63cd7ab86",
   "metadata": {},
   "outputs": [],
   "source": [
    "device = torch.device('cuda' if torch.cuda.is_available() else 'cpu')\n"
   ]
  },
  {
   "cell_type": "code",
   "execution_count": 4,
   "id": "46265942-58a1-4c1a-a7ea-82d919a7e799",
   "metadata": {},
   "outputs": [],
   "source": [
    "# Assuming your JSON file is named 'your_file.json'\n",
    "file_path = './WIDER/Annotations/wider_attribute_trainval.json'\n",
    "\n",
    "with open(file_path, 'r') as file:\n",
    "    # Load the JSON data from the file\n",
    "    data = json.load(file)\n",
    "\n",
    "class_idx = data['scene_id_map']"
   ]
  },
  {
   "cell_type": "code",
   "execution_count": 5,
   "id": "8c922f94-bf69-40d5-bc88-1e6fab4b4ed7",
   "metadata": {},
   "outputs": [],
   "source": [
    "class StratifiedBatchSampler:\n",
    "    \"\"\"Stratified batch sampling\n",
    "    Provides equal representation of target classes in each batch\n",
    "    \"\"\"\n",
    "    def __init__(self, y, batch_size, shuffle=True):\n",
    "        if torch.is_tensor(y):\n",
    "            y = y.numpy()\n",
    "        assert len(y.shape) == 1, 'label array must be 1D'\n",
    "        n_batches = int(len(y) / batch_size)\n",
    "        self.skf = StratifiedKFold(n_splits=n_batches, shuffle=shuffle)\n",
    "        self.X = torch.randn(len(y),1).numpy()\n",
    "        self.y = y\n",
    "        self.shuffle = shuffle\n",
    "        self.batch_size = batch_size\n",
    "\n",
    "    def __iter__(self):\n",
    "        if self.shuffle:\n",
    "            self.skf.random_state = torch.randint(0,int(1e8),size=()).item()\n",
    "        for train_idx, test_idx in self.skf.split(self.X, self.y):\n",
    "            yield test_idx\n",
    "\n",
    "    def __len__(self):\n",
    "        return len(self.y)//self.batch_size"
   ]
  },
  {
   "cell_type": "code",
   "execution_count": 6,
   "id": "e1c84514-66c9-4543-8448-cafa751730ff",
   "metadata": {},
   "outputs": [],
   "source": [
    "class DataSet(Dataset):\n",
    "    def __init__(self, ann_files, augs, img_size, dataset):\n",
    "        # Define the original class labels\n",
    "\n",
    "        # Create a mapping from old labels to new labels\n",
    "        self.label_mapping = {old_label: new_label for new_label, old_label in enumerate(sorted(class_labels))}\n",
    "\n",
    "        self.dataset = dataset\n",
    "        self.ann_files = ann_files\n",
    "        self.augment = self.augs_function(augs, img_size)\n",
    "        # Initialize transformations directly\n",
    "        self.transform = transforms.Compose(\n",
    "            [\n",
    "                transforms.ToTensor(),\n",
    "                transforms.Normalize(mean=[0, 0, 0], std=[1, 1, 1])\n",
    "            ] \n",
    "        )\n",
    "        if self.dataset == \"wider\":\n",
    "            self.transform = transforms.Compose(\n",
    "                [\n",
    "                    transforms.ToTensor(),\n",
    "                    transforms.Normalize(mean=[0.485, 0.456, 0.406], std=[0.229, 0.224, 0.225])                ] \n",
    "            )        \n",
    "\n",
    "        self.anns = []\n",
    "        self.load_anns()\n",
    "        print(self.augment)\n",
    "\n",
    "    def augs_function(self, augs, img_size):            \n",
    "        t = []\n",
    "        if 'randomflip' in augs:\n",
    "            t.append(transforms.RandomHorizontalFlip())\n",
    "        if 'ColorJitter' in augs:\n",
    "            t.append(transforms.ColorJitter(brightness=0.5, contrast=0.5, saturation=0.5, hue=0))\n",
    "        if 'resizedcrop' in augs:\n",
    "            t.append(transforms.RandomResizedCrop(img_size, scale=(0.7, 1.0)))\n",
    "        if 'RandAugment' in augs:\n",
    "            t.append(transforms.RandAugment())\n",
    "\n",
    "        t.append(transforms.Resize((img_size, img_size)))\n",
    "\n",
    "        return transforms.Compose(t)\n",
    "    \n",
    "    def load_anns(self):\n",
    "        self.anns = []\n",
    "        for ann_file in self.ann_files:\n",
    "            json_data = json.load(open(ann_file, \"r\"))\n",
    "            self.anns += json_data['images']\n",
    "\n",
    "    def __len__(self):\n",
    "        return len(self.anns)\n",
    "\n",
    "    def __getitem__(self, idx):\n",
    "        # Make sure the index is within bounds\n",
    "        idx = idx % len(self)\n",
    "        ann = self.anns[idx]\n",
    "        \n",
    "        try:\n",
    "            # Attempt to open the image file\n",
    "            img = Image.open(f'WIDER/Image/{ann[\"file_name\"]}').convert(\"RGB\")\n",
    "\n",
    "            # If this is the wider dataset, proceed with specific processing\n",
    "            # x, y, w, h = ann['bbox']\n",
    "            # img_area = img.crop([x, y, x+w, y+h])\n",
    "            img_area = self.augment(img)\n",
    "            img_area = self.transform(img_area)\n",
    "            attributes_list = [target['attribute'] for target in ann['targets']]\n",
    "            num_people = len(attributes_list)\n",
    "            attributes_distribution = [max(sum(attribute), 0)/num_people for attribute in zip(*attributes_list)]\n",
    "            # Extract label from image path\n",
    "            img_path = f'WIDER/Image/{ann[\"file_name\"]}'\n",
    "            label = self.extract_label(img_path)  # You might need to implement this method\n",
    "            \n",
    "            return {\n",
    "                \"label\": label,\n",
    "                \"target\": torch.tensor([attributes_distribution[0]], dtype=torch.float32),\n",
    "                \"img\": img_area\n",
    "            }\n",
    "            \n",
    "\n",
    "        except Exception as e:\n",
    "            # If any error occurs during the processing of an image, log the error and the index\n",
    "            print(f\"Error processing image at index {idx}: {e}\")\n",
    "            # Instead of returning None, raise the exception\n",
    "            raise\n",
    "\n",
    "    def extract_label(self, img_path):\n",
    "        original_label = None\n",
    "    \n",
    "        if \"WIDER/Image/train\" in img_path:\n",
    "            label_str = img_path.split(\"WIDER/Image/train/\")[1].split(\"/\")[0]\n",
    "            original_label = int(label_str.split(\"--\")[0])\n",
    "        elif \"WIDER/Image/test\" in img_path:\n",
    "            label_str = img_path.split(\"WIDER/Image/test/\")[1].split(\"/\")[0]\n",
    "            original_label = int(label_str.split(\"--\")[0])\n",
    "        elif \"WIDER/Image/val\" in img_path:  # Handle validation images\n",
    "            label_str = img_path.split(\"WIDER/Image/val/\")[1].split(\"/\")[0]\n",
    "            original_label = int(label_str.split(\"--\")[0])\n",
    "    \n",
    "        if original_label is not None:\n",
    "            remapped_label = self.label_mapping[original_label]\n",
    "            return remapped_label\n",
    "        else:\n",
    "            raise ValueError(f\"Label could not be extracted from path: {img_path}\")\n"
   ]
  },
  {
   "cell_type": "code",
   "execution_count": 7,
   "id": "ea2490c2-046a-4a19-9717-642adbabb732",
   "metadata": {},
   "outputs": [],
   "source": [
    "train_file = ['data/wider/trainval_wider.json']\n",
    "test_file = ['data/wider/test_wider.json']\n"
   ]
  },
  {
   "cell_type": "code",
   "execution_count": 8,
   "id": "012d6bd8-61d5-4a20-845b-689234718508",
   "metadata": {},
   "outputs": [],
   "source": [
    "def custom_collate(batch):\n",
    "    # Filter out any None items in the batch\n",
    "    batch = [item for item in batch if item is not None]\n",
    "    # If after filtering the batch is empty, handle this case by either returning an empty tensor or raising an exception\n",
    "    if len(batch) == 0:\n",
    "        # Option 1: Return a placeholder tensor (adapt the shape to match your data)\n",
    "        # return torch.tensor([]), torch.tensor([])\n",
    "        # Option 2: Raise an exception\n",
    "        raise ValueError(\"Batch is empty after filtering out None items.\")\n",
    "    return torch.utils.data.dataloader.default_collate(batch)\n"
   ]
  },
  {
   "cell_type": "code",
   "execution_count": 9,
   "id": "8fe2adb5-687d-4055-a108-a9c041836b64",
   "metadata": {},
   "outputs": [
    {
     "name": "stdout",
     "output_type": "stream",
     "text": [
      "Compose(\n",
      "    RandAugment(num_ops=2, magnitude=9, num_magnitude_bins=31, interpolation=InterpolationMode.NEAREST, fill=None)\n",
      "    Resize(size=(226, 226), interpolation=bilinear, max_size=None, antialias=warn)\n",
      ")\n",
      "Compose(\n",
      "    Resize(size=(226, 226), interpolation=bilinear, max_size=None, antialias=warn)\n",
      ")\n"
     ]
    }
   ],
   "source": [
    "train_dataset = DataSet(train_file, augs = ['RandAugment'], img_size = 226, dataset = 'wider')\n",
    "test_dataset = DataSet(test_file, augs = [], img_size = 226, dataset = 'wider')\n",
    "\n",
    "\n",
    "trainloader = DataLoader(train_dataset, \n",
    "                         batch_sampler=StratifiedBatchSampler(torch.tensor([train_dataset[i]['label'] for i in range(len(train_dataset))]), batch_size=batch_size),\n",
    "                         num_workers=num_workers, collate_fn=custom_collate)\n",
    "testloader = DataLoader(test_dataset, batch_size=batch_size, shuffle=False, num_workers=num_workers, collate_fn=custom_collate)\n",
    "\n",
    "\n"
   ]
  },
  {
   "cell_type": "markdown",
   "id": "a6d18d4b-a3c0-4c5b-ad75-e74b6b1b7296",
   "metadata": {},
   "source": [
    "# Start Training Process"
   ]
  },
  {
   "cell_type": "code",
   "execution_count": 10,
   "id": "49c941e9-954c-4d7b-932e-06d3297c02c1",
   "metadata": {},
   "outputs": [],
   "source": [
    "def compare_model_size(teacher, student):\n",
    "    teacher_params = sum(p.numel() for p in teacher.parameters())\n",
    "    student_params = sum(p.numel() for p in student.parameters())\n",
    "    return teacher_params, student_params\n",
    "\n",
    "def compare_inference_time(teacher, student, dataloader):\n",
    "    dataiter = iter(dataloader)\n",
    "    data = next(dataiter)\n",
    "    inputs = data['img']\n",
    "    \n",
    "    teacher = teacher.to(device)\n",
    "    student = student.to(device)\n",
    "    inputs = inputs.to(device)\n",
    "    \n",
    "    start_time = time.time()\n",
    "    with torch.no_grad():\n",
    "        teacher_outputs = teacher(inputs)\n",
    "    teacher_time = time.time() - start_time\n",
    "\n",
    "    start_time = time.time()\n",
    "    with torch.no_grad():\n",
    "        student_outputs = student(inputs)\n",
    "    student_time = time.time() - start_time\n",
    "    \n",
    "    return teacher_time, student_time\n",
    "\n",
    "def compare_performance_metrics(teacher, student, dataloader):\n",
    "    teacher.eval()\n",
    "    student.eval()\n",
    "    \n",
    "    all_labels = []\n",
    "    all_teacher_preds = []\n",
    "    all_student_preds = []\n",
    "\n",
    "    for batch in dataloader:\n",
    "        inputs = batch['img'].to(device)\n",
    "        labels = batch['label'].to(device)\n",
    "        \n",
    "        with torch.no_grad():\n",
    "            teacher_outputs = teacher(inputs)\n",
    "            student_outputs = student(inputs)\n",
    "            \n",
    "        teacher_preds = torch.argmax(teacher_outputs, dim=1).cpu().numpy()\n",
    "        student_preds = torch.argmax(student_outputs, dim=1).cpu().numpy()\n",
    "        \n",
    "        all_labels.append(labels.cpu().numpy())\n",
    "        all_teacher_preds.append(teacher_preds)\n",
    "        all_student_preds.append(student_preds)\n",
    "\n",
    "    all_labels = np.concatenate(all_labels)\n",
    "    all_teacher_preds = np.concatenate(all_teacher_preds)\n",
    "    all_student_preds = np.concatenate(all_student_preds)\n",
    "    \n",
    "    metrics = {\n",
    "        'accuracy': (accuracy_score(all_labels, all_teacher_preds), accuracy_score(all_labels, all_student_preds)),\n",
    "        'precision': (precision_score(all_labels, all_teacher_preds, average='weighted', zero_division=0), precision_score(all_labels, all_student_preds, average='weighted', zero_division=0)),\n",
    "        'recall': (recall_score(all_labels, all_teacher_preds, average='weighted'), recall_score(all_labels, all_student_preds, average='weighted')),\n",
    "        'f1': (f1_score(all_labels, all_teacher_preds, average='weighted'), f1_score(all_labels, all_student_preds, average='weighted'))\n",
    "    }\n",
    "\n",
    "    return {\n",
    "        'metrics': metrics,\n",
    "        'all_labels': all_labels,\n",
    "        'all_teacher_preds': all_teacher_preds,\n",
    "        'all_student_preds': all_student_preds\n",
    "    }\n",
    "    \n",
    "def plot_comparison(labels, teacher_values, student_values, title, ylabel):\n",
    "    # Convert parameter count to millions\n",
    "    if 'Parameter Count' in title or 'Parameter Count' in ylabel:\n",
    "        teacher_values = [value / 1e6 for value in teacher_values]\n",
    "        student_values = [value / 1e6 for value in student_values]\n",
    "\n",
    "    x = np.arange(len(labels))  # the label locations\n",
    "    width = 0.35  # the width of the bars\n",
    "\n",
    "    fig, ax = plt.subplots()\n",
    "    rects1 = ax.bar(x - width/2, teacher_values, width, label='Teacher')\n",
    "    rects2 = ax.bar(x + width/2, student_values, width, label='Student')\n",
    "\n",
    "    ax.set_ylabel(ylabel)\n",
    "    ax.set_title(title)\n",
    "    ax.set_xticks(x)\n",
    "    ax.set_xticklabels(labels)\n",
    "    ax.legend()\n",
    "    fig.tight_layout()\n",
    "    plt.show()\n",
    "\n"
   ]
  },
  {
   "cell_type": "code",
   "execution_count": 11,
   "id": "1c37c867-c1d1-438c-ac22-755904ce121e",
   "metadata": {},
   "outputs": [],
   "source": [
    "import numpy as np\n",
    "from sklearn.metrics import confusion_matrix\n",
    "\n",
    "def one_hot_encode(labels, num_classes):\n",
    "    return np.eye(num_classes)[labels]\n",
    "\n",
    "def calculate_recall_multiclass(conf_matrix):\n",
    "    recalls = np.diag(conf_matrix) / np.sum(conf_matrix, axis=1)\n",
    "    recalls[np.isnan(recalls)] = 0  # Replace NaN with 0\n",
    "    return recalls\n",
    "\n",
    "def evaluate_model_with_gender_multiclass(pred, label, gender, num_classes=30):\n",
    "    predictions = pred.cpu()\n",
    "    true_labels = label.cpu()\n",
    "    gender = gender.cpu()\n",
    "\n",
    "    # Identify male and female indices based on the gender threshold\n",
    "    male_indices = np.where(gender >= 0.5)[0]\n",
    "    female_indices = np.where(gender < 0.5)[0]\n",
    "\n",
    "    # Convert labels to one-hot encoding\n",
    "    one_hot_labels = one_hot_encode(true_labels, num_classes=num_classes)\n",
    "    one_hot_preds = one_hot_encode(predictions, num_classes=num_classes)\n",
    "    # Initialize recall arrays\n",
    "    male_recall = np.zeros(num_classes)\n",
    "    female_recall = np.zeros(num_classes)\n",
    "\n",
    "    # Extract predictions and labels for male and female indices\n",
    "    male_predictions = np.argmax(one_hot_preds[male_indices], axis=1)\n",
    "    female_predictions = np.argmax(one_hot_preds[female_indices], axis=1)\n",
    "    male_labels = np.argmax(one_hot_labels[male_indices], axis=1)\n",
    "    female_labels = np.argmax(one_hot_labels[female_indices], axis=1)\n",
    "\n",
    "    # Check if the class labels are within the expected range\n",
    "    assert (0 <= male_predictions.min() < num_classes) and (0 <= male_predictions.max() < num_classes), \"Invalid class indices in male predictions\"\n",
    "    assert (0 <= female_predictions.min() < num_classes) and (0 <= female_predictions.max() < num_classes), \"Invalid class indices in female predictions\"\n",
    "    assert (0 <= male_labels.min() < num_classes) and (0 <= male_labels.max() < num_classes), \"Invalid class indices in male labels\"\n",
    "    assert (0 <= female_labels.min() < num_classes) and (0 <= female_labels.max() < num_classes), \"Invalid class indices in female labels\"\n",
    "\n",
    "    # Calculate confusion matrices for each gender\n",
    "    male_conf_matrix = confusion_matrix(male_labels, male_predictions, labels=np.arange(num_classes))\n",
    "    female_conf_matrix = confusion_matrix(female_labels, female_predictions, labels=np.arange(num_classes))\n",
    "\n",
    "    # Calculate recall for each class and gender\n",
    "    male_recall[:len(male_conf_matrix)] = calculate_recall_multiclass(male_conf_matrix)\n",
    "    female_recall[:len(female_conf_matrix)] = calculate_recall_multiclass(female_conf_matrix)\n",
    "\n",
    "    return male_recall - female_recall, male_conf_matrix, female_conf_matrix\n"
   ]
  },
  {
   "cell_type": "code",
   "execution_count": 12,
   "id": "1c6b93cb-37c9-448f-a8d9-424d3c4d40fb",
   "metadata": {},
   "outputs": [
    {
     "data": {
      "text/plain": [
       "<All keys matched successfully>"
      ]
     },
     "execution_count": 12,
     "metadata": {},
     "output_type": "execute_result"
    }
   ],
   "source": [
    "# Instantiate the models\n",
    "###################### Testing 1 ######################\n",
    "# Create instances of your models\n",
    "# teacher_model = torchvision.models.resnet34(weights=ResNet34_Weights.IMAGENET1K_V1).to(device)\n",
    "# teacher_model.fc = nn.Linear(512,30)\n",
    "student_model = torchvision.models.resnet18(weights=None).to(device)\n",
    "student_model.fc = nn.Linear(512,30)\n",
    "\n",
    "\n",
    "# # Load teacher\n",
    "teacher_model = torch.load('teacher_model_ckd_wider.pth')\n",
    "teacher_model.load_state_dict(torch.load('teacher_model_weights_ckd_wider.pth'))\n",
    "# # Load the studnet\n",
    "# student_model = torch.load('student_model_ckd_prof.pth')\n",
    "# student_model.load_state_dict(torch.load('student_model_weights_ckd_prof_checkpoint.pth'))\n",
    "# student_model = student_model.to(device)\n",
    "\n",
    "\n"
   ]
  },
  {
   "cell_type": "markdown",
   "id": "dd3e7f70-4333-4472-96c4-788e22382d9e",
   "metadata": {},
   "source": [
    "### This is the initialization of the 2-layer Adversary Perceptron. It is initialized with the number of classes*2, which represents the predicted labels (y_hat) and the true labels (y). The output of the final layer is a regression output, which is intended to predict the strength of gender (continuous number where anything past 0.5 is more male)."
   ]
  },
  {
   "cell_type": "code",
   "execution_count": 13,
   "id": "836f2993-0505-47c6-85ee-2ad2f45db946",
   "metadata": {},
   "outputs": [],
   "source": [
    "class Adversary(nn.Module):\n",
    "    def __init__(self, input_size=30):\n",
    "        super(Adversary, self).__init__()\n",
    "\n",
    "        self.a1 = nn.Linear(input_size*2, 16)\n",
    "        self.a2 = nn.Linear(16, 1)  # Output size 1 for regression\n",
    "        nn.init.xavier_normal_(self.a1.weight)\n",
    "        nn.init.kaiming_normal_(self.a2.weight, mode='fan_out', nonlinearity='relu')\n",
    "\n",
    "    def forward(self, input_ids):\n",
    "        adversary = F.relu(self.a1(input_ids))\n",
    "        adversary_output = F.sigmoid(self.a2(adversary))  # Linear activation for regression\n",
    "        return adversary_output\n",
    "\n",
    "# Instantiate the Adversary\n",
    "adv = Adversary()\n",
    "\n",
    "\n"
   ]
  },
  {
   "cell_type": "code",
   "execution_count": 14,
   "id": "a761874d-cc14-482e-9c8c-6342adea3cae",
   "metadata": {},
   "outputs": [],
   "source": [
    "def pretrain_student(student, teacher, trainloader, criterion, optimizer, scheduler, device, alpha, temperature, epochs, patience=5):\n",
    "    teacher.eval()\n",
    "    teacher.to(device)\n",
    "    best_val_loss = float('inf')  \n",
    "    patience_counter = 0 \n",
    "    student_epoch_losses = []\n",
    "    val_losses = []\n",
    "    \n",
    "    for epoch in range(epochs):\n",
    "        student.train()\n",
    "        student.to(device)\n",
    "        running_loss = 0.0 \n",
    "        epoch_loss = 0.0  \n",
    "        num_batches = 0  \n",
    "        # epoch_disparity = 0.0\n",
    "        \n",
    "        for index, data in enumerate(tqdm(trainloader)):\n",
    "\n",
    "            inputs = data['img'].to(device)\n",
    "            labels = data['label'].to(device)\n",
    "            optimizer.zero_grad()\n",
    "            student_outputs = student(inputs)\n",
    "\n",
    "            with torch.no_grad():\n",
    "                teacher_outputs = teacher(inputs)\n",
    "\n",
    "            \n",
    "            ce_loss = criterion(student_outputs, labels)\n",
    "            kd_loss = tkd_kdloss(student_outputs, teacher_outputs, temperature=temperature)  # Make sure this returns a scalar\n",
    "            \n",
    "            # If not scalar, sum up to make sure the loss is scalar\n",
    "            if kd_loss.ndim != 0:\n",
    "                kd_loss = kd_loss.sum()\n",
    "                \n",
    "            # Now combine the losses\n",
    "            loss = alpha * kd_loss + (1 - alpha) * ce_loss\n",
    "            loss.backward()\n",
    "            optimizer.step()\n",
    "            running_loss += loss.item()\n",
    "            epoch_loss += loss.item()\n",
    "            num_batches += 1\n",
    "\n",
    "        \n",
    "        epoch_loss /= num_batches\n",
    "        print(f'*******Epoch {epoch}: loss - {epoch_loss}')\n",
    "        student_epoch_losses.append(epoch_loss)\n",
    "\n"
   ]
  },
  {
   "cell_type": "code",
   "execution_count": 15,
   "id": "005d66e3-f169-4d59-bc29-b5c0e05816b0",
   "metadata": {},
   "outputs": [],
   "source": [
    "def pretrain_adversary(adv, student, adversary_optimizer, trainloader, adv_criterion, epochs):\n",
    "\n",
    "  for epoch in range(epochs):\n",
    "    epoch_loss = 0\n",
    "    epoch_batches = 0\n",
    "    for i, data in enumerate(tqdm(trainloader)): # starting from the 0th batch\n",
    "        # get the inputs and labels\n",
    "        adv.train()\n",
    "        adv.to(device)\n",
    "        inputs = data['img'].to(device)\n",
    "        labels = data['label'].to(device)\n",
    "        targets = data['target'].to(device)\n",
    "        student = student.to(device)\n",
    "        adversary_optimizer.zero_grad()\n",
    "        student_output = student(inputs)\n",
    "        one_hot_labels = F.one_hot(labels, num_classes=num_classes).to(torch.float32)\n",
    "        concatenated_output = torch.cat((student_output, one_hot_labels), dim=1)\n",
    "        adversary_output = adv(concatenated_output)\n",
    "        adversary_loss = adv_criterion(adversary_output, targets) # compute loss\n",
    "        adversary_loss.backward() # back prop\n",
    "        adversary_optimizer.step()\n",
    "        epoch_loss += adversary_loss.item()\n",
    "        epoch_batches += 1\n",
    "\n",
    "    print(\"Average Pretrain Adversary epoch loss: \", epoch_loss/epoch_batches)\n",
    "\n"
   ]
  },
  {
   "cell_type": "code",
   "execution_count": 16,
   "id": "c7b4731c-f105-4192-9650-6587c46f6e8c",
   "metadata": {},
   "outputs": [],
   "source": [
    "# Optimizer and scheduler for the student model\n",
    "student_optimizer = optim.SGD(student_model.parameters(), lr=learning_rate, momentum=momentum)\n",
    "student_scheduler = torch.optim.lr_scheduler.StepLR(student_optimizer, step_size=step_size, gamma=gamma)\n",
    "\n",
    "# Optimizer and scheduler for the teacher model\n",
    "teacher_optimizer = optim.SGD(teacher_model.parameters(), lr=learning_rate, momentum=momentum)\n",
    "teacher_scheduler = torch.optim.lr_scheduler.StepLR(teacher_optimizer, step_size=step_size, gamma=gamma)\n",
    "\n",
    "optimizer_adv = optim.Adam(adv.parameters(), lr=learning_rate)\n",
    "\n",
    "# Instantiate the model and the loss function\n",
    "criterion_clf = nn.CrossEntropyLoss()\n",
    "adv_criterion = nn.MSELoss()\n"
   ]
  },
  {
   "cell_type": "code",
   "execution_count": 17,
   "id": "b3b7719f-4d65-4601-8e1d-1015de2201cb",
   "metadata": {},
   "outputs": [
    {
     "name": "stderr",
     "output_type": "stream",
     "text": [
      "100%|███████████████████████████████████████████| 31/31 [01:52<00:00,  3.64s/it]\n",
      "100%|███████████████████████████████████████████| 31/31 [01:52<00:00,  3.61s/it]\n",
      "100%|███████████████████████████████████████████| 31/31 [01:54<00:00,  3.68s/it]\n"
     ]
    },
    {
     "data": {
      "image/png": "[encoded data removed]",
      "text/plain": [
       "<Figure size 640x480 with 1 Axes>"
      ]
     },
     "metadata": {},
     "output_type": "display_data"
    },
    {
     "name": "stdout",
     "output_type": "stream",
     "text": [
      "Best learning rate: 0.000882372925611205\n",
      "0.000882372925611205\n"
     ]
    }
   ],
   "source": [
    "#### finding the optimal learning rate\n",
    "def train_teacher(model, trainloader, criterion, optimizer, scheduler, device, num_epochs=5, lr_range=(1e-4, 1e-1), plot_loss=True):\n",
    "    model.train()\n",
    "    model.to(device)\n",
    "    lr_values = np.logspace(np.log10(lr_range[0]), np.log10(lr_range[1]), num_epochs * len(trainloader))  # Generate learning rates for each batch\n",
    "    lr_iter = iter(lr_values)\n",
    "    losses = []\n",
    "    lrs = []\n",
    "    \n",
    "    for epoch in range(num_epochs):\n",
    "        for i, batch in enumerate(tqdm(trainloader)):\n",
    "            lr = next(lr_iter)\n",
    "            for param_group in optimizer.param_groups:\n",
    "                param_group['lr'] = lr  # Set new learning rate\n",
    "            \n",
    "            inputs, labels = batch['img'].to(device), batch['label'].to(device)\n",
    "            optimizer.zero_grad()\n",
    "            outputs = model(inputs)\n",
    "            loss = criterion(outputs, labels)\n",
    "            loss.backward()\n",
    "            optimizer.step()\n",
    "            \n",
    "            losses.append(loss.item())\n",
    "            lrs.append(lr)\n",
    "    \n",
    "    # Calculate the derivative of the loss\n",
    "    loss_derivative = np.gradient(losses)\n",
    "    \n",
    "    # Find the learning rate corresponding to the minimum derivative (steepest decline)\n",
    "    best_lr_index = np.argmin(loss_derivative)\n",
    "    best_lr = lrs[best_lr_index]\n",
    "    \n",
    "    if plot_loss:\n",
    "        import matplotlib.pyplot as plt\n",
    "        plt.figure()\n",
    "        plt.plot(lrs, losses)\n",
    "        plt.xscale('log')\n",
    "        plt.xlabel('Learning Rate')\n",
    "        plt.ylabel('Loss')\n",
    "        plt.title('Learning Rate Range Test')\n",
    "        plt.axvline(x=best_lr, color='red', linestyle='--', label=f'Best LR: {best_lr}')\n",
    "        plt.legend()\n",
    "        plt.show()\n",
    "    \n",
    "    print(f'Best learning rate: {best_lr}')\n",
    "    return best_lr\n",
    "\n",
    "############# input ############## \n",
    "best_lr = train_teacher(teacher_model, trainloader, criterion_clf, teacher_optimizer, teacher_scheduler, device, num_epochs=3)  \n",
    "print(best_lr)"
   ]
  },
  {
   "cell_type": "code",
   "execution_count": 18,
   "id": "411c4f7a-d0b4-478f-9fa5-5e152e08ed14",
   "metadata": {},
   "outputs": [],
   "source": [
    "def plot_loss_curve(losses):\n",
    "    epochs = range(1, len(losses) + 1)\n",
    "    plt.plot(epochs, losses)\n",
    "    plt.xlabel('Epochs')\n",
    "    plt.ylabel('Loss')\n",
    "    plt.title('Training Loss Curve')\n",
    "    plt.show()"
   ]
  },
  {
   "cell_type": "code",
   "execution_count": 19,
   "id": "286386b2-d6e9-447e-95b5-b3dd8f18010b",
   "metadata": {},
   "outputs": [],
   "source": [
    "# Function to train the teacher model\n",
    "def train_teacher(model, trainloader, criterion, optimizer, scheduler, device, epochs, patience=5):\n",
    "\n",
    "    best_val_loss = float('inf')\n",
    "    patience_counter = 0\n",
    "    epoch_losses = [] \n",
    "    val_losses = []\n",
    "\n",
    "    for epoch in range(num_epochs):\n",
    "        model.train()\n",
    "        model.to(device)\n",
    "        running_loss = 0.0\n",
    "        epoch_loss = 0.0  \n",
    "        num_batches = 0  \n",
    "        for index, data in enumerate(tqdm(trainloader)):\n",
    "            inputs = data['img'].to(device)\n",
    "            labels = data['label'].to(device)\n",
    "            optimizer.zero_grad()\n",
    "            outputs = model(inputs)\n",
    "            loss = criterion(outputs, labels)\n",
    "            loss.backward()\n",
    "            optimizer.step()\n",
    "            running_loss += loss.item()\n",
    "            epoch_loss += loss.item()\n",
    "            num_batches += 1\n",
    "\n",
    "\n",
    "        epoch_loss /= num_batches  \n",
    "        epoch_losses.append(epoch_loss)\n",
    "\n",
    "\n",
    "        model.eval()\n",
    "        total_correct = 0\n",
    "        total_samples = 0\n",
    "        total_val_loss = 0.0\n",
    "        num_batches = 0  \n",
    "        with torch.no_grad():\n",
    "            for val_data in tqdm(testloader):\n",
    "                val_inputs = val_data['img'].to(device)\n",
    "                val_labels = val_data['label'].to(device)\n",
    "    \n",
    "                # Forward pass for validation\n",
    "                val_outputs = model(val_inputs)\n",
    "    \n",
    "                val_loss = criterion(val_outputs, val_labels)\n",
    "\n",
    "                total_val_loss += val_loss.item()\n",
    "    \n",
    "                # Compute the validation accuracy\n",
    "                _, predicted = torch.max(val_outputs, 1)\n",
    "                total_samples += val_labels.size(0)\n",
    "                total_correct += (predicted == val_labels).sum().item()\n",
    "                num_batches += 1\n",
    "            total_val_loss /= num_batches\n",
    "            val_losses.append(total_val_loss)\n",
    "            accuracy = total_correct / total_samples\n",
    "            print(f'Epoch {epoch + 1}/{num_epochs}, Train Loss: {epoch_loss: .6f} Val Loss: {total_val_loss: .6f}| Validation Accuracy: {accuracy * 100:.2f}%')\n",
    "            \n",
    "        # Check for early stopping\n",
    "        if total_val_loss < best_val_loss:\n",
    "            best_val_loss = total_val_loss\n",
    "            patience_counter = 0 \n",
    "            torch.save(model.state_dict(), f'teacher_model_weights_ckd_wider_checkpoint.pth')\n",
    "            torch.save(model, f'teacher_model_ckd_wider_checkpoint.pth')\n",
    "        else:\n",
    "            patience_counter += 1 \n",
    "\n",
    "        if patience_counter >= patience:\n",
    "            print('Early stopping')\n",
    "            break  \n",
    "\n",
    "        scheduler.step()\n",
    "    plot_loss_curve(val_losses)\n",
    "    print(\"Finished Training Teacher\")\n",
    "\n",
    "# This is the adversary training function, where we input the student outputs, \n",
    "# with the true labels into the adversary model created previously.\n",
    "def train_adversary(adv, student, optimizer, trainloader, criterion, epochs):\n",
    "    best_val_loss = float('inf')\n",
    "    for epoch in range(epochs):\n",
    "        epoch_loss = 0\n",
    "        epoch_batches = 0\n",
    "        for i, data in enumerate(tqdm(trainloader)):\n",
    "            # get the inputs and labels\n",
    "            inputs = data['img'].to(device)\n",
    "            labels = data['label'].to(device)\n",
    "            targets = data['target'].to(device)\n",
    "            student.eval()\n",
    "            student.to(device)\n",
    "            adv.train()\n",
    "            adv.to(device)\n",
    "            optimizer.zero_grad()\n",
    "            # output the student model, join with ohe labels. \n",
    "            student_output = student(inputs)\n",
    "            one_hot_labels = F.one_hot(labels, num_classes=num_classes).to(torch.float32)\n",
    "            concatenated_output = torch.cat((student_output, one_hot_labels), dim=1)\n",
    "            adversary_output = adv(concatenated_output)\n",
    "\n",
    "            adversary_loss = criterion(adversary_output, targets)\n",
    "            adversary_loss.backward()\n",
    "            epoch_loss += adversary_loss.item()\n",
    "            epoch_batches += 1\n",
    "            optimizer.step()\n",
    "        epoch_loss/=epoch_batches\n",
    "        print(\"Average Adversary epoch loss:\", epoch_loss)\n",
    "\n",
    "\n",
    "# Function to train the student model with knowledge distillation\n",
    "def train_student_with_distillation_disparity(student, teacher, adv, trainloader, testloader, \n",
    "                                              criterion, adv_criterion, optimizer, scheduler, \n",
    "                                              device, alpha, temperature, epochs, lmda, patience=5):\n",
    "    teacher.eval()\n",
    "    teacher.to(device)\n",
    "    num_classes = len(class_labels)\n",
    "    best_val_loss = float('inf')  \n",
    "    patience_counter = 0 \n",
    "    student_epoch_losses = []\n",
    "    val_losses = []\n",
    "    val_disparities = []\n",
    "    val_accuracies = []\n",
    "    for epoch in range(epochs):\n",
    "        student.train()\n",
    "        student.to(device)\n",
    "        adv.eval()\n",
    "        adv.to(device)\n",
    "        running_loss = 0.0 \n",
    "        epoch_loss = 0.0  \n",
    "        num_batches = 0 \n",
    "        confusion_male = np.zeros((num_classes, num_classes))\n",
    "        confusion_female = np.zeros((num_classes, num_classes))\n",
    "\n",
    "        \n",
    "        for index, data in enumerate(tqdm(trainloader)):\n",
    "            inputs = data['img'].to(device)\n",
    "            labels = data['label'].to(device)\n",
    "            targets = data['target'].to(device)\n",
    "            optimizer.zero_grad()\n",
    "            student_outputs = student(inputs)\n",
    "            with torch.no_grad():\n",
    "                teacher_outputs = teacher(inputs)\n",
    "\n",
    "            # detach student_outputs to avoid exploding gradients by passing same inputs (with gradience) into two different models. \n",
    "            studetached = student_outputs.detach()\n",
    "            # One-hot encode labels and concatenate with student's predictions\n",
    "            one_hot_labels = F.one_hot(labels, num_classes=num_classes).to(torch.float32)\n",
    "            concatenated_output = torch.cat((studetached, one_hot_labels), dim=1)\n",
    "            \n",
    "            # Run the adversarial model on concatenated true labels, and predicted labels\n",
    "            with torch.no_grad():\n",
    "                adversary_output = adv(concatenated_output)\n",
    "\n",
    "            # Calc adversary loss, which is an MSE loss, because this is a regression output. \n",
    "            adversary_loss = adv_criterion(adversary_output, targets)\n",
    "            ce_loss = criterion(student_outputs, labels)\n",
    "            kd_loss = tkd_kdloss(student_outputs, teacher_outputs, temperature=temperature)  # Make sure this returns a scalar\n",
    "            \n",
    "\n",
    "            if kd_loss.ndim != 0:\n",
    "                kd_loss = kd_loss.sum()\n",
    "\n",
    "            \n",
    "            # Now combine the losses, subtract weighted adversary loss because we need to maximize that loss \n",
    "            # goal of the model is to have the adversary not predict gender. \n",
    "            loss = alpha * kd_loss + (1 - alpha) * ce_loss - lmda * adversary_loss\n",
    "            loss.backward()\n",
    "            optimizer.step()\n",
    "            running_loss += loss.item()\n",
    "            epoch_loss += loss.item()\n",
    "            num_batches += 1\n",
    "            # epoch_disparity += disparity\n",
    "\n",
    "        \n",
    "        epoch_loss /= num_batches\n",
    "        # print(f'*******Epoch {epoch}: running_recall_with - {running_recall_with/num_batches}  |  running_recall_without - {running_recall_without/num_batches}  |  disparity - {epoch_disparity/num_batches}******')\n",
    "        student_epoch_losses.append(epoch_loss)\n",
    "\n",
    "        student.eval()\n",
    "        total_correct = 0\n",
    "        total_samples = 0\n",
    "        total_val_loss = 0.0\n",
    "        num_batches = 0\n",
    "        # Validation after each epoch\n",
    "        with torch.no_grad():\n",
    "            for val_data in tqdm(testloader):\n",
    "                val_inputs = val_data['img'].to(device)\n",
    "                val_labels = val_data['label'].to(device)\n",
    "                val_targets = val_data['target'].to(device)\n",
    "                \n",
    "                # Forward pass for validation\n",
    "                val_student_outputs = student(val_inputs)\n",
    "                val_teacher_outputs = teacher(val_inputs)\n",
    "\n",
    "                val_studetached = val_student_outputs.detach()   \n",
    "                val_one_hot_labels = F.one_hot(val_labels, num_classes=num_classes).to(torch.float32)\n",
    "                val_concatenated_output = torch.cat((val_studetached, val_one_hot_labels), dim=1)\n",
    "                \n",
    "                val_adversary_output = adv(val_concatenated_output)\n",
    "                val_adversary_loss = adv_criterion(val_adversary_output, val_targets)\n",
    "                val_ce_loss = criterion(val_student_outputs, val_labels)\n",
    "                val_kd_loss = tkd_kdloss(val_student_outputs, val_teacher_outputs, temperature=temperature)  # Make sure this returns a scalar\n",
    "                \n",
    "                if val_kd_loss.ndim != 0:\n",
    "                    val_kd_loss = val_kd_loss.sum()\n",
    "\n",
    "                \n",
    "                val_loss = alpha * val_kd_loss + (1 - alpha) * val_ce_loss - lmda * val_adversary_loss\n",
    "                total_val_loss += val_loss.item()\n",
    "    \n",
    "                # Compute the validation accuracy\n",
    "                _, predicted = torch.max(val_student_outputs, 1)\n",
    "                total_samples += val_labels.size(0)\n",
    "                total_correct += (predicted == val_labels).sum().item()\n",
    "                num_batches += 1\n",
    "                recall_diff = evaluate_model_with_gender_multiclass(predicted, val_labels, val_targets)\n",
    "                confusion_male += recall_diff[1]\n",
    "                confusion_female += recall_diff[2]\n",
    "    \n",
    "            total_val_loss /= num_batches\n",
    "            confusion_male /= num_batches\n",
    "            confusion_female /= num_batches\n",
    "\n",
    "            epoch_disparity = calculate_recall_multiclass(confusion_male) - calculate_recall_multiclass(confusion_female)\n",
    "            val_losses.append(total_val_loss)\n",
    "            non_zero_abs_values = np.abs(epoch_disparity[epoch_disparity != 0])\n",
    "            mean_non_zero_abs_disparity = np.mean(non_zero_abs_values)\n",
    "            val_disparities.append(mean_non_zero_abs_disparity)\n",
    "            accuracy = total_correct / total_samples\n",
    "            val_accuracies.append(accuracy)\n",
    "            print(f'*****Epoch {epoch + 1}/{num_epochs}*****\\n' \n",
    "            f'*****Train Loss: {epoch_loss: .6f} Val Loss: {total_val_loss: .6f}*****\\n'\n",
    "            f'*****Validation Accuracy: {accuracy * 100:.2f}%*****\\n'\n",
    "            f'*****Total Avg Disparity: {mean_non_zero_abs_disparity}*****\\n')\n",
    "            class_recall_mapping = {class_name: epoch_disparity[int(class_label)] for class_label, class_name in class_idx.items()}\n",
    "            \n",
    "            # Print disparities by class label\n",
    "            for class_label, recall_diff in class_recall_mapping.items():\n",
    "                print(f\"Class {class_label}: Recall Difference = {recall_diff}\")\n",
    "\n",
    "        # Check for early stopping\n",
    "        if total_val_loss < best_val_loss:\n",
    "            best_val_loss = total_val_loss\n",
    "            patience_counter = 0 \n",
    "            torch.save(student.state_dict(), f'student_model_weights_ckd_prof_checkpoint.pth')\n",
    "            torch.save(student, f'student_model_ckd_prof_checkpoint.pth')\n",
    "        else:\n",
    "            patience_counter += 1 \n",
    "\n",
    "        if patience_counter >= patience:\n",
    "            print('Early stopping')\n",
    "            break  \n",
    "\n",
    "        scheduler.step()\n",
    "        \n",
    "        file_path = f'validation{lmda}.txt'\n",
    "        \n",
    "        # Append data to the text file\n",
    "        with open(file_path, 'a') as file:\n",
    "            file.write(\"Val Accuracies:\\n\")\n",
    "            for accuracy in val_accuracies:\n",
    "                file.write(f\"{accuracy}\\n\")\n",
    "        \n",
    "            file.write(\"\\nVal Disparities:\\n\")\n",
    "            for disparity in val_disparities:\n",
    "                file.write(f\"{disparity}\\n\")\n",
    "        \n",
    "        print(f\"Data has been appended to {file_path}\")"
   ]
  },
  {
   "cell_type": "code",
   "execution_count": null,
   "id": "17a06902-9ad4-47a6-9a67-181e2dc43218",
   "metadata": {},
   "outputs": [
    {
     "name": "stderr",
     "output_type": "stream",
     "text": [
      "100%|███████████████████████████████████████████| 31/31 [01:52<00:00,  3.64s/it]\n",
      "100%|███████████████████████████████████████████| 11/11 [00:18<00:00,  1.69s/it]\n"
     ]
    },
    {
     "name": "stdout",
     "output_type": "stream",
     "text": [
      "Epoch 1/300, Train Loss:  0.776978 Val Loss:  0.505661| Validation Accuracy: 86.48%\n"
     ]
    },
    {
     "name": "stderr",
     "output_type": "stream",
     "text": [
      "100%|███████████████████████████████████████████| 31/31 [01:53<00:00,  3.65s/it]\n",
      "100%|███████████████████████████████████████████| 11/11 [00:18<00:00,  1.69s/it]\n"
     ]
    },
    {
     "name": "stdout",
     "output_type": "stream",
     "text": [
      "Epoch 2/300, Train Loss:  0.707730 Val Loss:  0.456062| Validation Accuracy: 88.24%\n"
     ]
    },
    {
     "name": "stderr",
     "output_type": "stream",
     "text": [
      "100%|███████████████████████████████████████████| 31/31 [01:54<00:00,  3.70s/it]\n",
      "100%|███████████████████████████████████████████| 11/11 [00:18<00:00,  1.69s/it]\n"
     ]
    },
    {
     "name": "stdout",
     "output_type": "stream",
     "text": [
      "Epoch 3/300, Train Loss:  0.675309 Val Loss:  0.423788| Validation Accuracy: 89.28%\n"
     ]
    },
    {
     "name": "stderr",
     "output_type": "stream",
     "text": [
      "100%|███████████████████████████████████████████| 31/31 [01:53<00:00,  3.65s/it]\n",
      "100%|███████████████████████████████████████████| 11/11 [00:18<00:00,  1.67s/it]\n"
     ]
    },
    {
     "name": "stdout",
     "output_type": "stream",
     "text": [
      "Epoch 4/300, Train Loss:  0.644458 Val Loss:  0.400315| Validation Accuracy: 89.81%\n"
     ]
    },
    {
     "name": "stderr",
     "output_type": "stream",
     "text": [
      "100%|███████████████████████████████████████████| 31/31 [01:53<00:00,  3.66s/it]\n",
      "100%|███████████████████████████████████████████| 11/11 [00:18<00:00,  1.70s/it]\n"
     ]
    },
    {
     "name": "stdout",
     "output_type": "stream",
     "text": [
      "Epoch 5/300, Train Loss:  0.617201 Val Loss:  0.379828| Validation Accuracy: 90.47%\n"
     ]
    },
    {
     "name": "stderr",
     "output_type": "stream",
     "text": [
      "100%|███████████████████████████████████████████| 31/31 [01:52<00:00,  3.63s/it]\n",
      "100%|███████████████████████████████████████████| 11/11 [00:18<00:00,  1.69s/it]\n"
     ]
    },
    {
     "name": "stdout",
     "output_type": "stream",
     "text": [
      "Epoch 6/300, Train Loss:  0.605840 Val Loss:  0.362245| Validation Accuracy: 91.02%\n"
     ]
    },
    {
     "name": "stderr",
     "output_type": "stream",
     "text": [
      "100%|███████████████████████████████████████████| 31/31 [01:53<00:00,  3.66s/it]\n",
      "100%|███████████████████████████████████████████| 11/11 [00:18<00:00,  1.68s/it]\n"
     ]
    },
    {
     "name": "stdout",
     "output_type": "stream",
     "text": [
      "Epoch 7/300, Train Loss:  0.575578 Val Loss:  0.346432| Validation Accuracy: 91.34%\n"
     ]
    },
    {
     "name": "stderr",
     "output_type": "stream",
     "text": [
      "100%|███████████████████████████████████████████| 31/31 [01:53<00:00,  3.66s/it]\n",
      "100%|███████████████████████████████████████████| 11/11 [00:18<00:00,  1.70s/it]\n"
     ]
    },
    {
     "name": "stdout",
     "output_type": "stream",
     "text": [
      "Epoch 8/300, Train Loss:  0.567192 Val Loss:  0.331819| Validation Accuracy: 91.49%\n"
     ]
    },
    {
     "name": "stderr",
     "output_type": "stream",
     "text": [
      "100%|███████████████████████████████████████████| 31/31 [01:53<00:00,  3.65s/it]\n",
      "100%|███████████████████████████████████████████| 11/11 [00:18<00:00,  1.69s/it]\n"
     ]
    },
    {
     "name": "stdout",
     "output_type": "stream",
     "text": [
      "Epoch 9/300, Train Loss:  0.563136 Val Loss:  0.318272| Validation Accuracy: 91.98%\n"
     ]
    },
    {
     "name": "stderr",
     "output_type": "stream",
     "text": [
      "100%|███████████████████████████████████████████| 31/31 [01:53<00:00,  3.66s/it]\n",
      "100%|███████████████████████████████████████████| 11/11 [00:18<00:00,  1.70s/it]\n"
     ]
    },
    {
     "name": "stdout",
     "output_type": "stream",
     "text": [
      "Epoch 10/300, Train Loss:  0.541299 Val Loss:  0.306800| Validation Accuracy: 92.73%\n"
     ]
    },
    {
     "name": "stderr",
     "output_type": "stream",
     "text": [
      "100%|███████████████████████████████████████████| 31/31 [01:52<00:00,  3.63s/it]\n",
      "100%|███████████████████████████████████████████| 11/11 [00:18<00:00,  1.68s/it]\n"
     ]
    },
    {
     "name": "stdout",
     "output_type": "stream",
     "text": [
      "Epoch 11/300, Train Loss:  0.537384 Val Loss:  0.296658| Validation Accuracy: 93.02%\n"
     ]
    },
    {
     "name": "stderr",
     "output_type": "stream",
     "text": [
      "100%|███████████████████████████████████████████| 31/31 [01:53<00:00,  3.65s/it]\n",
      "100%|███████████████████████████████████████████| 11/11 [00:18<00:00,  1.69s/it]\n"
     ]
    },
    {
     "name": "stdout",
     "output_type": "stream",
     "text": [
      "Epoch 12/300, Train Loss:  0.530814 Val Loss:  0.285500| Validation Accuracy: 93.31%\n"
     ]
    },
    {
     "name": "stderr",
     "output_type": "stream",
     "text": [
      "100%|███████████████████████████████████████████| 31/31 [01:53<00:00,  3.66s/it]\n",
      "100%|███████████████████████████████████████████| 11/11 [00:18<00:00,  1.69s/it]\n"
     ]
    },
    {
     "name": "stdout",
     "output_type": "stream",
     "text": [
      "Epoch 13/300, Train Loss:  0.508003 Val Loss:  0.277400| Validation Accuracy: 93.54%\n"
     ]
    },
    {
     "name": "stderr",
     "output_type": "stream",
     "text": [
      "100%|███████████████████████████████████████████| 31/31 [01:53<00:00,  3.66s/it]\n",
      "100%|███████████████████████████████████████████| 11/11 [00:18<00:00,  1.72s/it]\n"
     ]
    },
    {
     "name": "stdout",
     "output_type": "stream",
     "text": [
      "Epoch 14/300, Train Loss:  0.494671 Val Loss:  0.267894| Validation Accuracy: 93.60%\n"
     ]
    },
    {
     "name": "stderr",
     "output_type": "stream",
     "text": [
      "100%|███████████████████████████████████████████| 31/31 [01:51<00:00,  3.60s/it]\n",
      "100%|███████████████████████████████████████████| 11/11 [00:18<00:00,  1.69s/it]\n"
     ]
    },
    {
     "name": "stdout",
     "output_type": "stream",
     "text": [
      "Epoch 15/300, Train Loss:  0.494236 Val Loss:  0.259866| Validation Accuracy: 94.03%\n"
     ]
    },
    {
     "name": "stderr",
     "output_type": "stream",
     "text": [
      "100%|███████████████████████████████████████████| 31/31 [01:52<00:00,  3.64s/it]\n",
      "100%|███████████████████████████████████████████| 11/11 [00:18<00:00,  1.70s/it]\n"
     ]
    },
    {
     "name": "stdout",
     "output_type": "stream",
     "text": [
      "Epoch 16/300, Train Loss:  0.478912 Val Loss:  0.250687| Validation Accuracy: 94.44%\n"
     ]
    },
    {
     "name": "stderr",
     "output_type": "stream",
     "text": [
      "100%|███████████████████████████████████████████| 31/31 [01:53<00:00,  3.65s/it]\n",
      "100%|███████████████████████████████████████████| 11/11 [00:18<00:00,  1.68s/it]\n"
     ]
    },
    {
     "name": "stdout",
     "output_type": "stream",
     "text": [
      "Epoch 17/300, Train Loss:  0.473443 Val Loss:  0.242706| Validation Accuracy: 94.58%\n"
     ]
    },
    {
     "name": "stderr",
     "output_type": "stream",
     "text": [
      "100%|███████████████████████████████████████████| 31/31 [01:51<00:00,  3.59s/it]\n",
      "100%|███████████████████████████████████████████| 11/11 [00:18<00:00,  1.70s/it]\n"
     ]
    },
    {
     "name": "stdout",
     "output_type": "stream",
     "text": [
      "Epoch 18/300, Train Loss:  0.464955 Val Loss:  0.235862| Validation Accuracy: 94.82%\n"
     ]
    },
    {
     "name": "stderr",
     "output_type": "stream",
     "text": [
      "100%|███████████████████████████████████████████| 31/31 [01:52<00:00,  3.64s/it]\n",
      "100%|███████████████████████████████████████████| 11/11 [00:18<00:00,  1.68s/it]\n"
     ]
    },
    {
     "name": "stdout",
     "output_type": "stream",
     "text": [
      "Epoch 19/300, Train Loss:  0.464913 Val Loss:  0.228057| Validation Accuracy: 95.05%\n"
     ]
    },
    {
     "name": "stderr",
     "output_type": "stream",
     "text": [
      "100%|███████████████████████████████████████████| 31/31 [01:52<00:00,  3.64s/it]\n",
      "100%|███████████████████████████████████████████| 11/11 [00:18<00:00,  1.69s/it]\n"
     ]
    },
    {
     "name": "stdout",
     "output_type": "stream",
     "text": [
      "Epoch 20/300, Train Loss:  0.446906 Val Loss:  0.220026| Validation Accuracy: 95.16%\n"
     ]
    },
    {
     "name": "stderr",
     "output_type": "stream",
     "text": [
      "100%|███████████████████████████████████████████| 31/31 [01:53<00:00,  3.68s/it]\n",
      "100%|███████████████████████████████████████████| 11/11 [00:18<00:00,  1.69s/it]\n"
     ]
    },
    {
     "name": "stdout",
     "output_type": "stream",
     "text": [
      "Epoch 21/300, Train Loss:  0.435514 Val Loss:  0.213575| Validation Accuracy: 95.37%\n"
     ]
    },
    {
     "name": "stderr",
     "output_type": "stream",
     "text": [
      "100%|███████████████████████████████████████████| 31/31 [01:52<00:00,  3.64s/it]\n",
      "100%|███████████████████████████████████████████| 11/11 [00:18<00:00,  1.70s/it]\n"
     ]
    },
    {
     "name": "stdout",
     "output_type": "stream",
     "text": [
      "Epoch 22/300, Train Loss:  0.429478 Val Loss:  0.207264| Validation Accuracy: 95.51%\n"
     ]
    },
    {
     "name": "stderr",
     "output_type": "stream",
     "text": [
      "100%|███████████████████████████████████████████| 31/31 [01:53<00:00,  3.67s/it]\n",
      "100%|███████████████████████████████████████████| 11/11 [00:18<00:00,  1.70s/it]\n"
     ]
    },
    {
     "name": "stdout",
     "output_type": "stream",
     "text": [
      "Epoch 23/300, Train Loss:  0.427927 Val Loss:  0.199091| Validation Accuracy: 95.60%\n"
     ]
    },
    {
     "name": "stderr",
     "output_type": "stream",
     "text": [
      "100%|███████████████████████████████████████████| 31/31 [01:53<00:00,  3.65s/it]\n",
      "100%|███████████████████████████████████████████| 11/11 [00:18<00:00,  1.70s/it]\n"
     ]
    },
    {
     "name": "stdout",
     "output_type": "stream",
     "text": [
      "Epoch 24/300, Train Loss:  0.426619 Val Loss:  0.194110| Validation Accuracy: 96.00%\n"
     ]
    },
    {
     "name": "stderr",
     "output_type": "stream",
     "text": [
      "100%|███████████████████████████████████████████| 31/31 [01:53<00:00,  3.65s/it]\n",
      "100%|███████████████████████████████████████████| 11/11 [00:18<00:00,  1.69s/it]\n"
     ]
    },
    {
     "name": "stdout",
     "output_type": "stream",
     "text": [
      "Epoch 25/300, Train Loss:  0.418136 Val Loss:  0.188002| Validation Accuracy: 96.15%\n"
     ]
    },
    {
     "name": "stderr",
     "output_type": "stream",
     "text": [
      "100%|███████████████████████████████████████████| 31/31 [01:54<00:00,  3.68s/it]\n",
      "100%|███████████████████████████████████████████| 11/11 [00:18<00:00,  1.68s/it]\n"
     ]
    },
    {
     "name": "stdout",
     "output_type": "stream",
     "text": [
      "Epoch 26/300, Train Loss:  0.398864 Val Loss:  0.182357| Validation Accuracy: 96.32%\n"
     ]
    },
    {
     "name": "stderr",
     "output_type": "stream",
     "text": [
      "100%|███████████████████████████████████████████| 31/31 [01:54<00:00,  3.69s/it]\n",
      "100%|███████████████████████████████████████████| 11/11 [00:18<00:00,  1.69s/it]\n"
     ]
    },
    {
     "name": "stdout",
     "output_type": "stream",
     "text": [
      "Epoch 27/300, Train Loss:  0.399019 Val Loss:  0.175409| Validation Accuracy: 96.52%\n"
     ]
    },
    {
     "name": "stderr",
     "output_type": "stream",
     "text": [
      "100%|███████████████████████████████████████████| 31/31 [01:53<00:00,  3.65s/it]\n",
      "100%|███████████████████████████████████████████| 11/11 [00:18<00:00,  1.71s/it]\n"
     ]
    },
    {
     "name": "stdout",
     "output_type": "stream",
     "text": [
      "Epoch 28/300, Train Loss:  0.398693 Val Loss:  0.170630| Validation Accuracy: 96.58%\n"
     ]
    },
    {
     "name": "stderr",
     "output_type": "stream",
     "text": [
      "100%|███████████████████████████████████████████| 31/31 [01:53<00:00,  3.68s/it]\n",
      "100%|███████████████████████████████████████████| 11/11 [00:18<00:00,  1.70s/it]\n"
     ]
    },
    {
     "name": "stdout",
     "output_type": "stream",
     "text": [
      "Epoch 29/300, Train Loss:  0.393743 Val Loss:  0.164744| Validation Accuracy: 96.70%\n"
     ]
    },
    {
     "name": "stderr",
     "output_type": "stream",
     "text": [
      "100%|███████████████████████████████████████████| 31/31 [01:52<00:00,  3.64s/it]\n",
      "100%|███████████████████████████████████████████| 11/11 [00:18<00:00,  1.70s/it]\n"
     ]
    },
    {
     "name": "stdout",
     "output_type": "stream",
     "text": [
      "Epoch 30/300, Train Loss:  0.370887 Val Loss:  0.159511| Validation Accuracy: 96.93%\n"
     ]
    },
    {
     "name": "stderr",
     "output_type": "stream",
     "text": [
      "100%|███████████████████████████████████████████| 31/31 [01:52<00:00,  3.64s/it]\n",
      "100%|███████████████████████████████████████████| 11/11 [00:18<00:00,  1.70s/it]\n"
     ]
    },
    {
     "name": "stdout",
     "output_type": "stream",
     "text": [
      "Epoch 31/300, Train Loss:  0.374550 Val Loss:  0.157669| Validation Accuracy: 96.90%\n"
     ]
    },
    {
     "name": "stderr",
     "output_type": "stream",
     "text": [
      "100%|███████████████████████████████████████████| 31/31 [01:53<00:00,  3.65s/it]\n",
      "100%|███████████████████████████████████████████| 11/11 [00:18<00:00,  1.70s/it]\n"
     ]
    },
    {
     "name": "stdout",
     "output_type": "stream",
     "text": [
      "Epoch 32/300, Train Loss:  0.375945 Val Loss:  0.157240| Validation Accuracy: 96.99%\n"
     ]
    },
    {
     "name": "stderr",
     "output_type": "stream",
     "text": [
      "100%|███████████████████████████████████████████| 31/31 [01:53<00:00,  3.67s/it]\n",
      "100%|███████████████████████████████████████████| 11/11 [00:18<00:00,  1.70s/it]\n"
     ]
    },
    {
     "name": "stdout",
     "output_type": "stream",
     "text": [
      "Epoch 33/300, Train Loss:  0.372244 Val Loss:  0.157224| Validation Accuracy: 96.93%\n"
     ]
    },
    {
     "name": "stderr",
     "output_type": "stream",
     "text": [
      "100%|███████████████████████████████████████████| 31/31 [01:53<00:00,  3.66s/it]\n",
      "100%|███████████████████████████████████████████| 11/11 [00:18<00:00,  1.71s/it]\n"
     ]
    },
    {
     "name": "stdout",
     "output_type": "stream",
     "text": [
      "Epoch 34/300, Train Loss:  0.374309 Val Loss:  0.155864| Validation Accuracy: 96.96%\n"
     ]
    },
    {
     "name": "stderr",
     "output_type": "stream",
     "text": [
      "100%|███████████████████████████████████████████| 31/31 [01:53<00:00,  3.65s/it]\n",
      "100%|███████████████████████████████████████████| 11/11 [00:18<00:00,  1.71s/it]\n"
     ]
    },
    {
     "name": "stdout",
     "output_type": "stream",
     "text": [
      "Epoch 35/300, Train Loss:  0.366616 Val Loss:  0.155326| Validation Accuracy: 96.99%\n"
     ]
    },
    {
     "name": "stderr",
     "output_type": "stream",
     "text": [
      "100%|███████████████████████████████████████████| 31/31 [01:54<00:00,  3.71s/it]\n",
      "100%|███████████████████████████████████████████| 11/11 [00:18<00:00,  1.71s/it]\n"
     ]
    },
    {
     "name": "stdout",
     "output_type": "stream",
     "text": [
      "Epoch 36/300, Train Loss:  0.365888 Val Loss:  0.154893| Validation Accuracy: 96.99%\n"
     ]
    },
    {
     "name": "stderr",
     "output_type": "stream",
     "text": [
      "100%|███████████████████████████████████████████| 31/31 [01:52<00:00,  3.64s/it]\n",
      "100%|███████████████████████████████████████████| 11/11 [00:18<00:00,  1.70s/it]\n"
     ]
    },
    {
     "name": "stdout",
     "output_type": "stream",
     "text": [
      "Epoch 37/300, Train Loss:  0.381986 Val Loss:  0.154543| Validation Accuracy: 96.93%\n"
     ]
    },
    {
     "name": "stderr",
     "output_type": "stream",
     "text": [
      "100%|███████████████████████████████████████████| 31/31 [01:54<00:00,  3.68s/it]\n",
      "100%|███████████████████████████████████████████| 11/11 [00:18<00:00,  1.72s/it]\n"
     ]
    },
    {
     "name": "stdout",
     "output_type": "stream",
     "text": [
      "Epoch 38/300, Train Loss:  0.367928 Val Loss:  0.154148| Validation Accuracy: 97.05%\n"
     ]
    },
    {
     "name": "stderr",
     "output_type": "stream",
     "text": [
      "100%|███████████████████████████████████████████| 31/31 [01:52<00:00,  3.64s/it]\n",
      "100%|███████████████████████████████████████████| 11/11 [00:18<00:00,  1.70s/it]\n"
     ]
    },
    {
     "name": "stdout",
     "output_type": "stream",
     "text": [
      "Epoch 39/300, Train Loss:  0.371475 Val Loss:  0.153416| Validation Accuracy: 97.16%\n"
     ]
    },
    {
     "name": "stderr",
     "output_type": "stream",
     "text": [
      "100%|███████████████████████████████████████████| 31/31 [01:54<00:00,  3.68s/it]\n",
      "100%|███████████████████████████████████████████| 11/11 [00:18<00:00,  1.71s/it]\n"
     ]
    },
    {
     "name": "stdout",
     "output_type": "stream",
     "text": [
      "Epoch 40/300, Train Loss:  0.368156 Val Loss:  0.153461| Validation Accuracy: 97.16%\n"
     ]
    },
    {
     "name": "stderr",
     "output_type": "stream",
     "text": [
      "100%|███████████████████████████████████████████| 31/31 [01:53<00:00,  3.66s/it]\n",
      "100%|███████████████████████████████████████████| 11/11 [00:18<00:00,  1.69s/it]\n"
     ]
    },
    {
     "name": "stdout",
     "output_type": "stream",
     "text": [
      "Epoch 41/300, Train Loss:  0.373390 Val Loss:  0.152430| Validation Accuracy: 97.22%\n"
     ]
    },
    {
     "name": "stderr",
     "output_type": "stream",
     "text": [
      "100%|███████████████████████████████████████████| 31/31 [01:53<00:00,  3.65s/it]\n",
      "100%|███████████████████████████████████████████| 11/11 [00:18<00:00,  1.69s/it]\n"
     ]
    },
    {
     "name": "stdout",
     "output_type": "stream",
     "text": [
      "Epoch 42/300, Train Loss:  0.366138 Val Loss:  0.152046| Validation Accuracy: 97.16%\n"
     ]
    },
    {
     "name": "stderr",
     "output_type": "stream",
     "text": [
      "100%|███████████████████████████████████████████| 31/31 [01:52<00:00,  3.62s/it]\n",
      "100%|███████████████████████████████████████████| 11/11 [00:18<00:00,  1.70s/it]\n"
     ]
    },
    {
     "name": "stdout",
     "output_type": "stream",
     "text": [
      "Epoch 43/300, Train Loss:  0.375830 Val Loss:  0.151665| Validation Accuracy: 97.10%\n"
     ]
    },
    {
     "name": "stderr",
     "output_type": "stream",
     "text": [
      "100%|███████████████████████████████████████████| 31/31 [01:52<00:00,  3.62s/it]\n",
      "100%|███████████████████████████████████████████| 11/11 [00:18<00:00,  1.69s/it]\n"
     ]
    },
    {
     "name": "stdout",
     "output_type": "stream",
     "text": [
      "Epoch 44/300, Train Loss:  0.369861 Val Loss:  0.151193| Validation Accuracy: 97.19%\n"
     ]
    },
    {
     "name": "stderr",
     "output_type": "stream",
     "text": [
      "100%|███████████████████████████████████████████| 31/31 [01:53<00:00,  3.66s/it]\n",
      "100%|███████████████████████████████████████████| 11/11 [00:18<00:00,  1.69s/it]\n"
     ]
    },
    {
     "name": "stdout",
     "output_type": "stream",
     "text": [
      "Epoch 45/300, Train Loss:  0.364194 Val Loss:  0.150573| Validation Accuracy: 97.16%\n"
     ]
    },
    {
     "name": "stderr",
     "output_type": "stream",
     "text": [
      "100%|███████████████████████████████████████████| 31/31 [01:52<00:00,  3.64s/it]\n",
      "100%|███████████████████████████████████████████| 11/11 [00:18<00:00,  1.69s/it]\n"
     ]
    },
    {
     "name": "stdout",
     "output_type": "stream",
     "text": [
      "Epoch 46/300, Train Loss:  0.359712 Val Loss:  0.149463| Validation Accuracy: 97.19%\n"
     ]
    },
    {
     "name": "stderr",
     "output_type": "stream",
     "text": [
      "100%|███████████████████████████████████████████| 31/31 [01:54<00:00,  3.69s/it]\n",
      "100%|███████████████████████████████████████████| 11/11 [00:18<00:00,  1.71s/it]\n"
     ]
    },
    {
     "name": "stdout",
     "output_type": "stream",
     "text": [
      "Epoch 47/300, Train Loss:  0.365110 Val Loss:  0.148557| Validation Accuracy: 97.16%\n"
     ]
    },
    {
     "name": "stderr",
     "output_type": "stream",
     "text": [
      "100%|███████████████████████████████████████████| 31/31 [01:54<00:00,  3.70s/it]\n",
      "100%|███████████████████████████████████████████| 11/11 [00:18<00:00,  1.70s/it]\n"
     ]
    },
    {
     "name": "stdout",
     "output_type": "stream",
     "text": [
      "Epoch 48/300, Train Loss:  0.373631 Val Loss:  0.148003| Validation Accuracy: 97.31%\n"
     ]
    },
    {
     "name": "stderr",
     "output_type": "stream",
     "text": [
      "100%|███████████████████████████████████████████| 31/31 [01:54<00:00,  3.68s/it]\n",
      "100%|███████████████████████████████████████████| 11/11 [00:18<00:00,  1.71s/it]\n"
     ]
    },
    {
     "name": "stdout",
     "output_type": "stream",
     "text": [
      "Epoch 49/300, Train Loss:  0.366470 Val Loss:  0.148199| Validation Accuracy: 97.36%\n"
     ]
    },
    {
     "name": "stderr",
     "output_type": "stream",
     "text": [
      "100%|███████████████████████████████████████████| 31/31 [01:53<00:00,  3.66s/it]\n",
      "100%|███████████████████████████████████████████| 11/11 [00:18<00:00,  1.70s/it]\n"
     ]
    },
    {
     "name": "stdout",
     "output_type": "stream",
     "text": [
      "Epoch 50/300, Train Loss:  0.352780 Val Loss:  0.147711| Validation Accuracy: 97.25%\n"
     ]
    },
    {
     "name": "stderr",
     "output_type": "stream",
     "text": [
      "100%|███████████████████████████████████████████| 31/31 [01:53<00:00,  3.65s/it]\n",
      "100%|███████████████████████████████████████████| 11/11 [00:18<00:00,  1.69s/it]\n"
     ]
    },
    {
     "name": "stdout",
     "output_type": "stream",
     "text": [
      "Epoch 51/300, Train Loss:  0.355348 Val Loss:  0.147464| Validation Accuracy: 97.28%\n"
     ]
    },
    {
     "name": "stderr",
     "output_type": "stream",
     "text": [
      "100%|███████████████████████████████████████████| 31/31 [01:52<00:00,  3.63s/it]\n",
      "100%|███████████████████████████████████████████| 11/11 [00:18<00:00,  1.69s/it]\n"
     ]
    },
    {
     "name": "stdout",
     "output_type": "stream",
     "text": [
      "Epoch 52/300, Train Loss:  0.363749 Val Loss:  0.146697| Validation Accuracy: 97.34%\n"
     ]
    },
    {
     "name": "stderr",
     "output_type": "stream",
     "text": [
      "100%|███████████████████████████████████████████| 31/31 [01:53<00:00,  3.67s/it]\n",
      "100%|███████████████████████████████████████████| 11/11 [00:18<00:00,  1.72s/it]\n"
     ]
    },
    {
     "name": "stdout",
     "output_type": "stream",
     "text": [
      "Epoch 53/300, Train Loss:  0.358418 Val Loss:  0.146451| Validation Accuracy: 97.31%\n"
     ]
    },
    {
     "name": "stderr",
     "output_type": "stream",
     "text": [
      "100%|███████████████████████████████████████████| 31/31 [01:53<00:00,  3.66s/it]\n",
      "100%|███████████████████████████████████████████| 11/11 [00:18<00:00,  1.72s/it]\n"
     ]
    },
    {
     "name": "stdout",
     "output_type": "stream",
     "text": [
      "Epoch 54/300, Train Loss:  0.355815 Val Loss:  0.145317| Validation Accuracy: 97.28%\n"
     ]
    },
    {
     "name": "stderr",
     "output_type": "stream",
     "text": [
      "100%|███████████████████████████████████████████| 31/31 [01:53<00:00,  3.68s/it]\n",
      "100%|███████████████████████████████████████████| 11/11 [00:18<00:00,  1.71s/it]\n"
     ]
    },
    {
     "name": "stdout",
     "output_type": "stream",
     "text": [
      "Epoch 55/300, Train Loss:  0.357139 Val Loss:  0.145072| Validation Accuracy: 97.39%\n"
     ]
    },
    {
     "name": "stderr",
     "output_type": "stream",
     "text": [
      "100%|███████████████████████████████████████████| 31/31 [01:52<00:00,  3.64s/it]\n",
      "100%|███████████████████████████████████████████| 11/11 [00:18<00:00,  1.70s/it]\n"
     ]
    },
    {
     "name": "stdout",
     "output_type": "stream",
     "text": [
      "Epoch 56/300, Train Loss:  0.359061 Val Loss:  0.144814| Validation Accuracy: 97.28%\n"
     ]
    },
    {
     "name": "stderr",
     "output_type": "stream",
     "text": [
      "100%|███████████████████████████████████████████| 31/31 [01:53<00:00,  3.67s/it]\n",
      "100%|███████████████████████████████████████████| 11/11 [00:18<00:00,  1.69s/it]\n"
     ]
    },
    {
     "name": "stdout",
     "output_type": "stream",
     "text": [
      "Epoch 57/300, Train Loss:  0.355343 Val Loss:  0.144224| Validation Accuracy: 97.42%\n"
     ]
    },
    {
     "name": "stderr",
     "output_type": "stream",
     "text": [
      "100%|███████████████████████████████████████████| 31/31 [01:53<00:00,  3.67s/it]\n",
      "100%|███████████████████████████████████████████| 11/11 [00:18<00:00,  1.71s/it]\n"
     ]
    },
    {
     "name": "stdout",
     "output_type": "stream",
     "text": [
      "Epoch 58/300, Train Loss:  0.361750 Val Loss:  0.144092| Validation Accuracy: 97.42%\n"
     ]
    },
    {
     "name": "stderr",
     "output_type": "stream",
     "text": [
      "100%|███████████████████████████████████████████| 31/31 [01:52<00:00,  3.64s/it]\n",
      "100%|███████████████████████████████████████████| 11/11 [00:18<00:00,  1.69s/it]\n"
     ]
    },
    {
     "name": "stdout",
     "output_type": "stream",
     "text": [
      "Epoch 59/300, Train Loss:  0.350000 Val Loss:  0.142944| Validation Accuracy: 97.34%\n"
     ]
    },
    {
     "name": "stderr",
     "output_type": "stream",
     "text": [
      "100%|███████████████████████████████████████████| 31/31 [01:53<00:00,  3.66s/it]\n",
      "100%|███████████████████████████████████████████| 11/11 [00:18<00:00,  1.70s/it]\n"
     ]
    },
    {
     "name": "stdout",
     "output_type": "stream",
     "text": [
      "Epoch 60/300, Train Loss:  0.357349 Val Loss:  0.142758| Validation Accuracy: 97.42%\n"
     ]
    },
    {
     "name": "stderr",
     "output_type": "stream",
     "text": [
      "100%|███████████████████████████████████████████| 31/31 [01:52<00:00,  3.64s/it]\n",
      "100%|███████████████████████████████████████████| 11/11 [00:18<00:00,  1.69s/it]\n"
     ]
    },
    {
     "name": "stdout",
     "output_type": "stream",
     "text": [
      "Epoch 61/300, Train Loss:  0.353551 Val Loss:  0.142842| Validation Accuracy: 97.45%\n"
     ]
    },
    {
     "name": "stderr",
     "output_type": "stream",
     "text": [
      "100%|███████████████████████████████████████████| 31/31 [01:52<00:00,  3.62s/it]\n",
      "100%|███████████████████████████████████████████| 11/11 [00:18<00:00,  1.69s/it]\n"
     ]
    },
    {
     "name": "stdout",
     "output_type": "stream",
     "text": [
      "Epoch 62/300, Train Loss:  0.356893 Val Loss:  0.142743| Validation Accuracy: 97.34%\n"
     ]
    },
    {
     "name": "stderr",
     "output_type": "stream",
     "text": [
      "100%|███████████████████████████████████████████| 31/31 [01:52<00:00,  3.64s/it]\n",
      "100%|███████████████████████████████████████████| 11/11 [00:18<00:00,  1.71s/it]\n"
     ]
    },
    {
     "name": "stdout",
     "output_type": "stream",
     "text": [
      "Epoch 63/300, Train Loss:  0.349004 Val Loss:  0.142933| Validation Accuracy: 97.42%\n"
     ]
    },
    {
     "name": "stderr",
     "output_type": "stream",
     "text": [
      "100%|███████████████████████████████████████████| 31/31 [01:53<00:00,  3.66s/it]\n",
      "100%|███████████████████████████████████████████| 11/11 [00:18<00:00,  1.70s/it]\n"
     ]
    },
    {
     "name": "stdout",
     "output_type": "stream",
     "text": [
      "Epoch 64/300, Train Loss:  0.348783 Val Loss:  0.142329| Validation Accuracy: 97.39%\n"
     ]
    },
    {
     "name": "stderr",
     "output_type": "stream",
     "text": [
      "100%|███████████████████████████████████████████| 31/31 [01:52<00:00,  3.64s/it]\n",
      "100%|███████████████████████████████████████████| 11/11 [00:18<00:00,  1.69s/it]\n"
     ]
    },
    {
     "name": "stdout",
     "output_type": "stream",
     "text": [
      "Epoch 65/300, Train Loss:  0.353426 Val Loss:  0.142228| Validation Accuracy: 97.39%\n"
     ]
    },
    {
     "name": "stderr",
     "output_type": "stream",
     "text": [
      "100%|███████████████████████████████████████████| 31/31 [01:52<00:00,  3.64s/it]\n",
      "100%|███████████████████████████████████████████| 11/11 [00:18<00:00,  1.70s/it]\n"
     ]
    },
    {
     "name": "stdout",
     "output_type": "stream",
     "text": [
      "Epoch 66/300, Train Loss:  0.352886 Val Loss:  0.143016| Validation Accuracy: 97.42%\n"
     ]
    },
    {
     "name": "stderr",
     "output_type": "stream",
     "text": [
      "100%|███████████████████████████████████████████| 31/31 [01:52<00:00,  3.63s/it]\n",
      "100%|███████████████████████████████████████████| 11/11 [00:18<00:00,  1.70s/it]\n"
     ]
    },
    {
     "name": "stdout",
     "output_type": "stream",
     "text": [
      "Epoch 67/300, Train Loss:  0.353621 Val Loss:  0.142260| Validation Accuracy: 97.45%\n"
     ]
    },
    {
     "name": "stderr",
     "output_type": "stream",
     "text": [
      "100%|███████████████████████████████████████████| 31/31 [01:52<00:00,  3.62s/it]\n",
      "100%|███████████████████████████████████████████| 11/11 [00:18<00:00,  1.71s/it]\n"
     ]
    },
    {
     "name": "stdout",
     "output_type": "stream",
     "text": [
      "Epoch 68/300, Train Loss:  0.351037 Val Loss:  0.142319| Validation Accuracy: 97.42%\n",
      "Early stopping\n"
     ]
    },
    {
     "data": {
      "image/png": "[encoded data removed]",
      "text/plain": [
       "<Figure size 640x480 with 1 Axes>"
      ]
     },
     "metadata": {},
     "output_type": "display_data"
    },
    {
     "name": "stdout",
     "output_type": "stream",
     "text": [
      "Finished Training Teacher\n",
      "teacher weights and architecture saved and exported\n"
     ]
    },
    {
     "name": "stderr",
     "output_type": "stream",
     "text": [
      "100%|███████████████████████████████████████████| 31/31 [01:51<00:00,  3.59s/it]\n"
     ]
    },
    {
     "name": "stdout",
     "output_type": "stream",
     "text": [
      "*******Epoch 0: loss - 1.009620189666748\n"
     ]
    },
    {
     "name": "stderr",
     "output_type": "stream",
     "text": [
      "100%|███████████████████████████████████████████| 31/31 [01:51<00:00,  3.61s/it]\n"
     ]
    },
    {
     "name": "stdout",
     "output_type": "stream",
     "text": [
      "*******Epoch 1: loss - 0.9647866852821843\n"
     ]
    },
    {
     "name": "stderr",
     "output_type": "stream",
     "text": [
      "100%|███████████████████████████████████████████| 31/31 [01:50<00:00,  3.56s/it]\n"
     ]
    },
    {
     "name": "stdout",
     "output_type": "stream",
     "text": [
      "*******Epoch 2: loss - 0.9580168185695526\n"
     ]
    },
    {
     "name": "stderr",
     "output_type": "stream",
     "text": [
      "100%|███████████████████████████████████████████| 31/31 [01:48<00:00,  3.50s/it]\n"
     ]
    },
    {
     "name": "stdout",
     "output_type": "stream",
     "text": [
      "Average Pretrain Adversary epoch loss:  2.6654849975339827\n"
     ]
    },
    {
     "name": "stderr",
     "output_type": "stream",
     "text": [
      "100%|███████████████████████████████████████████| 31/31 [01:47<00:00,  3.48s/it]\n"
     ]
    },
    {
     "name": "stdout",
     "output_type": "stream",
     "text": [
      "Average Pretrain Adversary epoch loss:  0.5772194141341794\n"
     ]
    },
    {
     "name": "stderr",
     "output_type": "stream",
     "text": [
      "100%|███████████████████████████████████████████| 31/31 [01:47<00:00,  3.48s/it]\n"
     ]
    },
    {
     "name": "stdout",
     "output_type": "stream",
     "text": [
      "Average Pretrain Adversary epoch loss:  0.3495949900919391\n",
      "Epoch Number 0, Lambda: 0\n"
     ]
    },
    {
     "name": "stderr",
     "output_type": "stream",
     "text": [
      "100%|███████████████████████████████████████████| 31/31 [01:46<00:00,  3.43s/it]\n"
     ]
    },
    {
     "name": "stdout",
     "output_type": "stream",
     "text": [
      "Average Adversary epoch loss: 0.2609400244489793\n"
     ]
    },
    {
     "name": "stderr",
     "output_type": "stream",
     "text": [
      "100%|███████████████████████████████████████████| 31/31 [01:51<00:00,  3.60s/it]\n",
      "100%|███████████████████████████████████████████| 11/11 [00:19<00:00,  1.78s/it]\n"
     ]
    },
    {
     "name": "stdout",
     "output_type": "stream",
     "text": [
      "*****Epoch 1/300*****\n",
      "*****Train Loss:  0.954155 Val Loss:  1.087008*****\n",
      "*****Validation Accuracy: 11.50%*****\n",
      "*****Total Avg Disparity: 0.024429134111058032*****\n",
      "\n",
      "Class Parade: Recall Difference = 0.007141287629092552\n",
      "Class Handshaking: Recall Difference = 0.0\n",
      "Class Riot: Recall Difference = 0.0\n",
      "Class Dancing: Recall Difference = 0.0\n",
      "Class Funeral: Recall Difference = 0.0\n",
      "Class Cheering: Recall Difference = 0.0\n",
      "Class Meeting: Recall Difference = 0.0\n",
      "Class Stock_Market: Recall Difference = 0.0\n",
      "Class Ceremony: Recall Difference = 0.0\n",
      "Class Concerts: Recall Difference = 0.0\n",
      "Class Couple: Recall Difference = 0.0\n",
      "Class Family_Group: Recall Difference = 0.0\n",
      "Class Picnic: Recall Difference = 0.0\n",
      "Class Soldier_Patrol: Recall Difference = 0.0\n",
      "Class Spa: Recall Difference = 0.0\n",
      "Class Sports_Fan: Recall Difference = 0.0\n",
      "Class Surgeons: Recall Difference = 0.0\n",
      "Class Waiter_Waitress: Recall Difference = 0.0\n",
      "Class Running: Recall Difference = 0.0\n",
      "Class Basketball: Recall Difference = 0.038725490196078405\n",
      "Class Football: Recall Difference = 0.0\n",
      "Class Soccer: Recall Difference = 0.0\n",
      "Class Ice_Skating: Recall Difference = -0.02742062450800315\n",
      "Class Row_Boat: Recall Difference = 0.0\n",
      "Class Aerobics: Recall Difference = 0.0\n",
      "Class Celebration_Or_Party: Recall Difference = 0.0\n",
      "Class Dresses: Recall Difference = 0.0\n",
      "Class Rescue: Recall Difference = 0.0\n",
      "Class Angler: Recall Difference = 0.0\n",
      "Class Hockey: Recall Difference = 0.0\n",
      "Data has been appended to validation0.txt\n",
      "Epoch Number 1, Lambda: 0\n"
     ]
    },
    {
     "name": "stderr",
     "output_type": "stream",
     "text": [
      "100%|███████████████████████████████████████████| 31/31 [01:46<00:00,  3.45s/it]\n"
     ]
    },
    {
     "name": "stdout",
     "output_type": "stream",
     "text": [
      "Average Adversary epoch loss: 0.24574667407620338\n"
     ]
    },
    {
     "name": "stderr",
     "output_type": "stream",
     "text": [
      "100%|███████████████████████████████████████████| 31/31 [01:51<00:00,  3.60s/it]\n",
      "100%|███████████████████████████████████████████| 11/11 [00:19<00:00,  1.77s/it]\n"
     ]
    },
    {
     "name": "stdout",
     "output_type": "stream",
     "text": [
      "*****Epoch 1/300*****\n",
      "*****Train Loss:  0.947015 Val Loss:  1.083764*****\n",
      "*****Validation Accuracy: 11.58%*****\n",
      "*****Total Avg Disparity: 0.013402839058431357*****\n",
      "\n",
      "Class Parade: Recall Difference = -0.010382333553065282\n",
      "Class Handshaking: Recall Difference = 0.0\n",
      "Class Riot: Recall Difference = 0.0\n",
      "Class Dancing: Recall Difference = 0.0\n",
      "Class Funeral: Recall Difference = 0.0\n",
      "Class Cheering: Recall Difference = 0.0\n",
      "Class Meeting: Recall Difference = 0.0\n",
      "Class Stock_Market: Recall Difference = 0.0\n",
      "Class Ceremony: Recall Difference = 0.0\n",
      "Class Concerts: Recall Difference = 0.0\n",
      "Class Couple: Recall Difference = 0.0\n",
      "Class Family_Group: Recall Difference = 0.0\n",
      "Class Picnic: Recall Difference = 0.0\n",
      "Class Soldier_Patrol: Recall Difference = 0.0\n",
      "Class Spa: Recall Difference = 0.0\n",
      "Class Sports_Fan: Recall Difference = 0.0\n",
      "Class Surgeons: Recall Difference = 0.0\n",
      "Class Waiter_Waitress: Recall Difference = 0.0\n",
      "Class Running: Recall Difference = 0.0\n",
      "Class Basketball: Recall Difference = -0.00030637254901966227\n",
      "Class Football: Recall Difference = 0.0\n",
      "Class Soccer: Recall Difference = 0.0\n",
      "Class Ice_Skating: Recall Difference = -0.029519811073209126\n",
      "Class Row_Boat: Recall Difference = 0.0\n",
      "Class Aerobics: Recall Difference = 0.0\n",
      "Class Celebration_Or_Party: Recall Difference = 0.0\n",
      "Class Dresses: Recall Difference = 0.0\n",
      "Class Rescue: Recall Difference = 0.0\n",
      "Class Angler: Recall Difference = 0.0\n",
      "Class Hockey: Recall Difference = 0.0\n",
      "Data has been appended to validation0.txt\n",
      "Epoch Number 2, Lambda: 0\n"
     ]
    },
    {
     "name": "stderr",
     "output_type": "stream",
     "text": [
      "100%|███████████████████████████████████████████| 31/31 [01:47<00:00,  3.48s/it]\n"
     ]
    },
    {
     "name": "stdout",
     "output_type": "stream",
     "text": [
      "Average Adversary epoch loss: 0.2239637379684756\n"
     ]
    },
    {
     "name": "stderr",
     "output_type": "stream",
     "text": [
      "100%|███████████████████████████████████████████| 31/31 [01:53<00:00,  3.66s/it]\n",
      "100%|███████████████████████████████████████████| 11/11 [00:19<00:00,  1.80s/it]\n"
     ]
    },
    {
     "name": "stdout",
     "output_type": "stream",
     "text": [
      "*****Epoch 1/300*****\n",
      "*****Train Loss:  0.953281 Val Loss:  1.081271*****\n",
      "*****Validation Accuracy: 11.73%*****\n",
      "*****Total Avg Disparity: 0.020236232448896607*****\n",
      "\n",
      "Class Parade: Recall Difference = -0.0022522522522522292\n",
      "Class Handshaking: Recall Difference = 0.0\n",
      "Class Riot: Recall Difference = 0.0\n",
      "Class Dancing: Recall Difference = 0.0\n",
      "Class Funeral: Recall Difference = 0.0\n",
      "Class Cheering: Recall Difference = 0.0\n",
      "Class Meeting: Recall Difference = 0.0\n",
      "Class Stock_Market: Recall Difference = 0.0\n",
      "Class Ceremony: Recall Difference = 0.0\n",
      "Class Concerts: Recall Difference = 0.0\n",
      "Class Couple: Recall Difference = 0.0\n",
      "Class Family_Group: Recall Difference = 0.0\n",
      "Class Picnic: Recall Difference = 0.0\n",
      "Class Soldier_Patrol: Recall Difference = 0.0\n",
      "Class Spa: Recall Difference = 0.0\n",
      "Class Sports_Fan: Recall Difference = 0.0\n",
      "Class Surgeons: Recall Difference = 0.0\n",
      "Class Waiter_Waitress: Recall Difference = 0.0\n",
      "Class Running: Recall Difference = 0.0\n",
      "Class Basketball: Recall Difference = 0.003615196078431304\n",
      "Class Football: Recall Difference = 0.0\n",
      "Class Soccer: Recall Difference = 0.0\n",
      "Class Ice_Skating: Recall Difference = -0.05484124901600629\n",
      "Class Row_Boat: Recall Difference = 0.0\n",
      "Class Aerobics: Recall Difference = 0.0\n",
      "Class Celebration_Or_Party: Recall Difference = 0.0\n",
      "Class Dresses: Recall Difference = 0.0\n",
      "Class Rescue: Recall Difference = 0.0\n",
      "Class Angler: Recall Difference = 0.0\n",
      "Class Hockey: Recall Difference = 0.0\n",
      "Data has been appended to validation0.txt\n",
      "Epoch Number 3, Lambda: 0\n"
     ]
    },
    {
     "name": "stderr",
     "output_type": "stream",
     "text": [
      "100%|███████████████████████████████████████████| 31/31 [01:48<00:00,  3.49s/it]\n"
     ]
    },
    {
     "name": "stdout",
     "output_type": "stream",
     "text": [
      "Average Adversary epoch loss: 0.2286709806611461\n"
     ]
    },
    {
     "name": "stderr",
     "output_type": "stream",
     "text": [
      "100%|███████████████████████████████████████████| 31/31 [01:52<00:00,  3.63s/it]\n",
      "100%|███████████████████████████████████████████| 11/11 [00:19<00:00,  1.76s/it]\n"
     ]
    },
    {
     "name": "stdout",
     "output_type": "stream",
     "text": [
      "*****Epoch 1/300*****\n",
      "*****Train Loss:  0.948745 Val Loss:  1.078171*****\n",
      "*****Validation Accuracy: 12.40%*****\n",
      "*****Total Avg Disparity: 0.013947072045928497*****\n",
      "\n",
      "Class Parade: Recall Difference = 0.009778070753680534\n",
      "Class Handshaking: Recall Difference = 0.0\n",
      "Class Riot: Recall Difference = 0.0\n",
      "Class Dancing: Recall Difference = 0.0\n",
      "Class Funeral: Recall Difference = 0.0\n",
      "Class Cheering: Recall Difference = 0.0\n",
      "Class Meeting: Recall Difference = 0.0\n",
      "Class Stock_Market: Recall Difference = 0.0\n",
      "Class Ceremony: Recall Difference = 0.0\n",
      "Class Concerts: Recall Difference = 0.0\n",
      "Class Couple: Recall Difference = 0.0\n",
      "Class Family_Group: Recall Difference = 0.0\n",
      "Class Picnic: Recall Difference = 0.0\n",
      "Class Soldier_Patrol: Recall Difference = 0.0\n",
      "Class Spa: Recall Difference = 0.0\n",
      "Class Sports_Fan: Recall Difference = 0.0\n",
      "Class Surgeons: Recall Difference = 0.0\n",
      "Class Waiter_Waitress: Recall Difference = 0.0\n",
      "Class Running: Recall Difference = 0.0\n",
      "Class Basketball: Recall Difference = 0.030882352941176583\n",
      "Class Football: Recall Difference = 0.0\n",
      "Class Soccer: Recall Difference = 0.0\n",
      "Class Ice_Skating: Recall Difference = -0.0011807924429283745\n",
      "Class Row_Boat: Recall Difference = 0.0\n",
      "Class Aerobics: Recall Difference = 0.0\n",
      "Class Celebration_Or_Party: Recall Difference = 0.0\n",
      "Class Dresses: Recall Difference = 0.0\n",
      "Class Rescue: Recall Difference = 0.0\n",
      "Class Angler: Recall Difference = 0.0\n",
      "Class Hockey: Recall Difference = 0.0\n",
      "Data has been appended to validation0.txt\n",
      "Epoch Number 4, Lambda: 0\n"
     ]
    },
    {
     "name": "stderr",
     "output_type": "stream",
     "text": [
      "100%|███████████████████████████████████████████| 31/31 [01:47<00:00,  3.48s/it]\n"
     ]
    },
    {
     "name": "stdout",
     "output_type": "stream",
     "text": [
      "Average Adversary epoch loss: 0.2205515883622631\n"
     ]
    },
    {
     "name": "stderr",
     "output_type": "stream",
     "text": [
      "100%|███████████████████████████████████████████| 31/31 [01:52<00:00,  3.64s/it]\n",
      "100%|███████████████████████████████████████████| 11/11 [00:19<00:00,  1.76s/it]\n"
     ]
    },
    {
     "name": "stdout",
     "output_type": "stream",
     "text": [
      "*****Epoch 1/300*****\n",
      "*****Train Loss:  0.947110 Val Loss:  1.074867*****\n",
      "*****Validation Accuracy: 13.03%*****\n",
      "*****Total Avg Disparity: 0.03525790794416039*****\n",
      "\n",
      "Class Parade: Recall Difference = 0.07448912326961105\n",
      "Class Handshaking: Recall Difference = 0.0\n",
      "Class Riot: Recall Difference = 0.0\n",
      "Class Dancing: Recall Difference = 0.0\n",
      "Class Funeral: Recall Difference = 0.0\n",
      "Class Cheering: Recall Difference = 0.0\n",
      "Class Meeting: Recall Difference = 0.0\n",
      "Class Stock_Market: Recall Difference = 0.0\n",
      "Class Ceremony: Recall Difference = 0.0\n",
      "Class Concerts: Recall Difference = 0.0\n",
      "Class Couple: Recall Difference = 0.0\n",
      "Class Family_Group: Recall Difference = 0.0\n",
      "Class Picnic: Recall Difference = 0.0\n",
      "Class Soldier_Patrol: Recall Difference = 0.0\n",
      "Class Spa: Recall Difference = 0.0\n",
      "Class Sports_Fan: Recall Difference = 0.0\n",
      "Class Surgeons: Recall Difference = 0.0\n",
      "Class Waiter_Waitress: Recall Difference = 0.0\n",
      "Class Running: Recall Difference = 0.0\n",
      "Class Basketball: Recall Difference = 0.03075980392156863\n",
      "Class Football: Recall Difference = 0.0\n",
      "Class Soccer: Recall Difference = 0.0\n",
      "Class Ice_Skating: Recall Difference = 0.0005247966413014782\n",
      "Class Row_Boat: Recall Difference = 0.0\n",
      "Class Aerobics: Recall Difference = 0.0\n",
      "Class Celebration_Or_Party: Recall Difference = 0.0\n",
      "Class Dresses: Recall Difference = 0.0\n",
      "Class Rescue: Recall Difference = 0.0\n",
      "Class Angler: Recall Difference = 0.0\n",
      "Class Hockey: Recall Difference = 0.0\n",
      "Data has been appended to validation0.txt\n",
      "Epoch Number 5, Lambda: 0\n"
     ]
    },
    {
     "name": "stderr",
     "output_type": "stream",
     "text": [
      "100%|███████████████████████████████████████████| 31/31 [01:46<00:00,  3.44s/it]\n"
     ]
    },
    {
     "name": "stdout",
     "output_type": "stream",
     "text": [
      "Average Adversary epoch loss: 0.21573214425194648\n"
     ]
    },
    {
     "name": "stderr",
     "output_type": "stream",
     "text": [
      "100%|███████████████████████████████████████████| 31/31 [01:51<00:00,  3.60s/it]\n",
      "100%|███████████████████████████████████████████| 11/11 [00:19<00:00,  1.81s/it]\n"
     ]
    },
    {
     "name": "stdout",
     "output_type": "stream",
     "text": [
      "*****Epoch 1/300*****\n",
      "*****Train Loss:  0.940246 Val Loss:  1.073366*****\n",
      "*****Validation Accuracy: 13.12%*****\n",
      "*****Total Avg Disparity: 0.040788140524528095*****\n",
      "\n",
      "Class Parade: Recall Difference = 0.03142166556800707\n",
      "Class Handshaking: Recall Difference = 0.0\n",
      "Class Riot: Recall Difference = 0.0\n",
      "Class Dancing: Recall Difference = 0.0\n",
      "Class Funeral: Recall Difference = 0.0\n",
      "Class Cheering: Recall Difference = 0.0\n",
      "Class Meeting: Recall Difference = 0.0\n",
      "Class Stock_Market: Recall Difference = 0.0\n",
      "Class Ceremony: Recall Difference = 0.0\n",
      "Class Concerts: Recall Difference = 0.0\n",
      "Class Couple: Recall Difference = 0.0\n",
      "Class Family_Group: Recall Difference = 0.0\n",
      "Class Picnic: Recall Difference = 0.0\n",
      "Class Soldier_Patrol: Recall Difference = 0.0\n",
      "Class Spa: Recall Difference = 0.0\n",
      "Class Sports_Fan: Recall Difference = 0.0\n",
      "Class Surgeons: Recall Difference = 0.0\n",
      "Class Waiter_Waitress: Recall Difference = 0.0\n",
      "Class Running: Recall Difference = 0.0\n",
      "Class Basketball: Recall Difference = 0.038725490196078405\n",
      "Class Football: Recall Difference = 0.0\n",
      "Class Soccer: Recall Difference = 0.0\n",
      "Class Ice_Skating: Recall Difference = -0.052217265809498814\n",
      "Class Row_Boat: Recall Difference = 0.0\n",
      "Class Aerobics: Recall Difference = 0.0\n",
      "Class Celebration_Or_Party: Recall Difference = 0.0\n",
      "Class Dresses: Recall Difference = 0.0\n",
      "Class Rescue: Recall Difference = 0.0\n",
      "Class Angler: Recall Difference = 0.0\n",
      "Class Hockey: Recall Difference = 0.0\n",
      "Data has been appended to validation0.txt\n",
      "Epoch Number 6, Lambda: 0\n"
     ]
    },
    {
     "name": "stderr",
     "output_type": "stream",
     "text": [
      "100%|███████████████████████████████████████████| 31/31 [01:47<00:00,  3.47s/it]\n"
     ]
    },
    {
     "name": "stdout",
     "output_type": "stream",
     "text": [
      "Average Adversary epoch loss: 0.20597085693190176\n"
     ]
    },
    {
     "name": "stderr",
     "output_type": "stream",
     "text": [
      "100%|███████████████████████████████████████████| 31/31 [01:50<00:00,  3.57s/it]\n",
      "100%|███████████████████████████████████████████| 11/11 [00:19<00:00,  1.80s/it]\n"
     ]
    },
    {
     "name": "stdout",
     "output_type": "stream",
     "text": [
      "*****Epoch 1/300*****\n",
      "*****Train Loss:  0.941252 Val Loss:  1.070833*****\n",
      "*****Validation Accuracy: 13.50%*****\n",
      "*****Total Avg Disparity: 0.019482147732555206*****\n",
      "\n",
      "Class Parade: Recall Difference = 0.027301691935838313\n",
      "Class Handshaking: Recall Difference = 0.0\n",
      "Class Riot: Recall Difference = 0.0\n",
      "Class Dancing: Recall Difference = 0.0\n",
      "Class Funeral: Recall Difference = 0.0\n",
      "Class Cheering: Recall Difference = 0.0\n",
      "Class Meeting: Recall Difference = 0.0\n",
      "Class Stock_Market: Recall Difference = 0.0\n",
      "Class Ceremony: Recall Difference = 0.0\n",
      "Class Concerts: Recall Difference = 0.0\n",
      "Class Couple: Recall Difference = 0.0\n",
      "Class Family_Group: Recall Difference = 0.0\n",
      "Class Picnic: Recall Difference = 0.0\n",
      "Class Soldier_Patrol: Recall Difference = 0.0\n",
      "Class Spa: Recall Difference = 0.0\n",
      "Class Sports_Fan: Recall Difference = 0.0\n",
      "Class Surgeons: Recall Difference = 0.0\n",
      "Class Waiter_Waitress: Recall Difference = 0.0\n",
      "Class Running: Recall Difference = 0.0\n",
      "Class Basketball: Recall Difference = 0.030882352941176583\n",
      "Class Football: Recall Difference = 0.0\n",
      "Class Soccer: Recall Difference = 0.0\n",
      "Class Ice_Skating: Recall Difference = -0.0002623983206507252\n",
      "Class Row_Boat: Recall Difference = 0.0\n",
      "Class Aerobics: Recall Difference = 0.0\n",
      "Class Celebration_Or_Party: Recall Difference = 0.0\n",
      "Class Dresses: Recall Difference = 0.0\n",
      "Class Rescue: Recall Difference = 0.0\n",
      "Class Angler: Recall Difference = 0.0\n",
      "Class Hockey: Recall Difference = 0.0\n",
      "Data has been appended to validation0.txt\n",
      "Epoch Number 7, Lambda: 0\n"
     ]
    },
    {
     "name": "stderr",
     "output_type": "stream",
     "text": [
      "100%|███████████████████████████████████████████| 31/31 [01:46<00:00,  3.44s/it]\n"
     ]
    },
    {
     "name": "stdout",
     "output_type": "stream",
     "text": [
      "Average Adversary epoch loss: 0.1957575414449938\n"
     ]
    },
    {
     "name": "stderr",
     "output_type": "stream",
     "text": [
      "100%|███████████████████████████████████████████| 31/31 [01:52<00:00,  3.62s/it]\n",
      "100%|███████████████████████████████████████████| 11/11 [00:19<00:00,  1.79s/it]\n"
     ]
    },
    {
     "name": "stdout",
     "output_type": "stream",
     "text": [
      "*****Epoch 1/300*****\n",
      "*****Train Loss:  0.936962 Val Loss:  1.067619*****\n",
      "*****Validation Accuracy: 13.81%*****\n",
      "*****Total Avg Disparity: 0.027996469057892177*****\n",
      "\n",
      "Class Parade: Recall Difference = 0.050098879367172056\n",
      "Class Handshaking: Recall Difference = 0.0\n",
      "Class Riot: Recall Difference = 0.0\n",
      "Class Dancing: Recall Difference = 0.0\n",
      "Class Funeral: Recall Difference = 0.0\n",
      "Class Cheering: Recall Difference = 0.0\n",
      "Class Meeting: Recall Difference = 0.0\n",
      "Class Stock_Market: Recall Difference = 0.0\n",
      "Class Ceremony: Recall Difference = 0.0\n",
      "Class Concerts: Recall Difference = 0.0\n",
      "Class Couple: Recall Difference = 0.0\n",
      "Class Family_Group: Recall Difference = 0.0\n",
      "Class Picnic: Recall Difference = 0.0\n",
      "Class Soldier_Patrol: Recall Difference = 0.0\n",
      "Class Spa: Recall Difference = 0.0\n",
      "Class Sports_Fan: Recall Difference = 0.0\n",
      "Class Surgeons: Recall Difference = 0.0\n",
      "Class Waiter_Waitress: Recall Difference = 0.0\n",
      "Class Running: Recall Difference = 0.0\n",
      "Class Basketball: Recall Difference = 0.018933823529411864\n",
      "Class Football: Recall Difference = 0.0\n",
      "Class Soccer: Recall Difference = 0.0\n",
      "Class Ice_Skating: Recall Difference = 0.014956704277092614\n",
      "Class Row_Boat: Recall Difference = 0.0\n",
      "Class Aerobics: Recall Difference = 0.0\n",
      "Class Celebration_Or_Party: Recall Difference = 0.0\n",
      "Class Dresses: Recall Difference = 0.0\n",
      "Class Rescue: Recall Difference = 0.0\n",
      "Class Angler: Recall Difference = 0.0\n",
      "Class Hockey: Recall Difference = 0.0\n",
      "Data has been appended to validation0.txt\n",
      "Epoch Number 8, Lambda: 0\n"
     ]
    },
    {
     "name": "stderr",
     "output_type": "stream",
     "text": [
      "100%|███████████████████████████████████████████| 31/31 [01:46<00:00,  3.44s/it]\n"
     ]
    },
    {
     "name": "stdout",
     "output_type": "stream",
     "text": [
      "Average Adversary epoch loss: 0.1883985871268857\n"
     ]
    },
    {
     "name": "stderr",
     "output_type": "stream",
     "text": [
      "100%|███████████████████████████████████████████| 31/31 [01:51<00:00,  3.61s/it]\n",
      "100%|███████████████████████████████████████████| 11/11 [00:20<00:00,  1.83s/it]\n"
     ]
    },
    {
     "name": "stdout",
     "output_type": "stream",
     "text": [
      "*****Epoch 1/300*****\n",
      "*****Train Loss:  0.938644 Val Loss:  1.065634*****\n",
      "*****Validation Accuracy: 13.55%*****\n",
      "*****Total Avg Disparity: 0.03598966234589953*****\n",
      "\n",
      "Class Parade: Recall Difference = 0.06646890793232252\n",
      "Class Handshaking: Recall Difference = 0.0\n",
      "Class Riot: Recall Difference = 0.0\n",
      "Class Dancing: Recall Difference = 0.0\n",
      "Class Funeral: Recall Difference = 0.0\n",
      "Class Cheering: Recall Difference = 0.0\n",
      "Class Meeting: Recall Difference = 0.0\n",
      "Class Stock_Market: Recall Difference = 0.0\n",
      "Class Ceremony: Recall Difference = 0.0\n",
      "Class Concerts: Recall Difference = 0.0\n",
      "Class Couple: Recall Difference = 0.0\n",
      "Class Family_Group: Recall Difference = 0.0\n",
      "Class Picnic: Recall Difference = 0.0\n",
      "Class Soldier_Patrol: Recall Difference = 0.0\n",
      "Class Spa: Recall Difference = 0.0\n",
      "Class Sports_Fan: Recall Difference = 0.0\n",
      "Class Surgeons: Recall Difference = 0.0\n",
      "Class Waiter_Waitress: Recall Difference = 0.0\n",
      "Class Running: Recall Difference = 0.0\n",
      "Class Basketball: Recall Difference = 0.018933823529411753\n",
      "Class Football: Recall Difference = 0.0\n",
      "Class Soccer: Recall Difference = 0.0\n",
      "Class Ice_Skating: Recall Difference = 0.02256625557596431\n",
      "Class Row_Boat: Recall Difference = 0.0\n",
      "Class Aerobics: Recall Difference = 0.0\n",
      "Class Celebration_Or_Party: Recall Difference = 0.0\n",
      "Class Dresses: Recall Difference = 0.0\n",
      "Class Rescue: Recall Difference = 0.0\n",
      "Class Angler: Recall Difference = 0.0\n",
      "Class Hockey: Recall Difference = 0.0\n",
      "Data has been appended to validation0.txt\n",
      "Epoch Number 9, Lambda: 0\n"
     ]
    },
    {
     "name": "stderr",
     "output_type": "stream",
     "text": [
      "100%|███████████████████████████████████████████| 31/31 [01:47<00:00,  3.47s/it]\n"
     ]
    },
    {
     "name": "stdout",
     "output_type": "stream",
     "text": [
      "Average Adversary epoch loss: 0.18618834595526418\n"
     ]
    },
    {
     "name": "stderr",
     "output_type": "stream",
     "text": [
      "100%|███████████████████████████████████████████| 31/31 [01:51<00:00,  3.59s/it]\n",
      "100%|███████████████████████████████████████████| 11/11 [00:19<00:00,  1.81s/it]\n"
     ]
    },
    {
     "name": "stdout",
     "output_type": "stream",
     "text": [
      "*****Epoch 1/300*****\n",
      "*****Train Loss:  0.934543 Val Loss:  1.062153*****\n",
      "*****Validation Accuracy: 13.87%*****\n",
      "*****Total Avg Disparity: 0.045680055882936554*****\n",
      "\n",
      "Class Parade: Recall Difference = 0.051472203911228365\n",
      "Class Handshaking: Recall Difference = 0.0\n",
      "Class Riot: Recall Difference = 0.0\n",
      "Class Dancing: Recall Difference = 0.0\n",
      "Class Funeral: Recall Difference = 0.0\n",
      "Class Cheering: Recall Difference = 0.0\n",
      "Class Meeting: Recall Difference = 0.0\n",
      "Class Stock_Market: Recall Difference = 0.0\n",
      "Class Ceremony: Recall Difference = 0.0\n",
      "Class Concerts: Recall Difference = 0.0\n",
      "Class Couple: Recall Difference = 0.0\n",
      "Class Family_Group: Recall Difference = 0.0\n",
      "Class Picnic: Recall Difference = 0.0\n",
      "Class Soldier_Patrol: Recall Difference = 0.0\n",
      "Class Spa: Recall Difference = 0.0\n",
      "Class Sports_Fan: Recall Difference = 0.0\n",
      "Class Surgeons: Recall Difference = 0.0\n",
      "Class Waiter_Waitress: Recall Difference = 0.0\n",
      "Class Running: Recall Difference = 0.0\n",
      "Class Basketball: Recall Difference = -0.055392156862745234\n",
      "Class Football: Recall Difference = 0.0\n",
      "Class Soccer: Recall Difference = 0.0\n",
      "Class Ice_Skating: Recall Difference = 0.030175806874836064\n",
      "Class Row_Boat: Recall Difference = 0.0\n",
      "Class Aerobics: Recall Difference = 0.0\n",
      "Class Celebration_Or_Party: Recall Difference = 0.0\n",
      "Class Dresses: Recall Difference = 0.0\n",
      "Class Rescue: Recall Difference = 0.0\n",
      "Class Angler: Recall Difference = 0.0\n",
      "Class Hockey: Recall Difference = 0.0\n",
      "Data has been appended to validation0.txt\n",
      "Epoch Number 10, Lambda: 0\n"
     ]
    },
    {
     "name": "stderr",
     "output_type": "stream",
     "text": [
      "100%|███████████████████████████████████████████| 31/31 [01:47<00:00,  3.47s/it]\n"
     ]
    },
    {
     "name": "stdout",
     "output_type": "stream",
     "text": [
      "Average Adversary epoch loss: 0.18145804203325702\n"
     ]
    },
    {
     "name": "stderr",
     "output_type": "stream",
     "text": [
      "100%|███████████████████████████████████████████| 31/31 [01:51<00:00,  3.59s/it]\n",
      "100%|███████████████████████████████████████████| 11/11 [00:19<00:00,  1.80s/it]\n"
     ]
    },
    {
     "name": "stdout",
     "output_type": "stream",
     "text": [
      "*****Epoch 1/300*****\n",
      "*****Train Loss:  0.934040 Val Loss:  1.060283*****\n",
      "*****Validation Accuracy: 13.90%*****\n",
      "*****Total Avg Disparity: 0.01658471516501255*****\n",
      "\n",
      "Class Parade: Recall Difference = 0.03246539222148981\n",
      "Class Handshaking: Recall Difference = 0.0\n",
      "Class Riot: Recall Difference = 0.0\n",
      "Class Dancing: Recall Difference = 0.0\n",
      "Class Funeral: Recall Difference = 0.0\n",
      "Class Cheering: Recall Difference = 0.0\n",
      "Class Meeting: Recall Difference = 0.0\n",
      "Class Stock_Market: Recall Difference = 0.0\n",
      "Class Ceremony: Recall Difference = 0.0\n",
      "Class Concerts: Recall Difference = 0.0\n",
      "Class Couple: Recall Difference = 0.0\n",
      "Class Family_Group: Recall Difference = 0.0\n",
      "Class Picnic: Recall Difference = 0.0\n",
      "Class Soldier_Patrol: Recall Difference = 0.0\n",
      "Class Spa: Recall Difference = 0.0\n",
      "Class Sports_Fan: Recall Difference = 0.0\n",
      "Class Surgeons: Recall Difference = 0.0\n",
      "Class Waiter_Waitress: Recall Difference = 0.0\n",
      "Class Running: Recall Difference = 0.0\n",
      "Class Basketball: Recall Difference = 0.006924019607843279\n",
      "Class Football: Recall Difference = 0.0\n",
      "Class Soccer: Recall Difference = 0.0\n",
      "Class Ice_Skating: Recall Difference = 0.010364733665704562\n",
      "Class Row_Boat: Recall Difference = 0.0\n",
      "Class Aerobics: Recall Difference = 0.0\n",
      "Class Celebration_Or_Party: Recall Difference = 0.0\n",
      "Class Dresses: Recall Difference = 0.0\n",
      "Class Rescue: Recall Difference = 0.0\n",
      "Class Angler: Recall Difference = 0.0\n",
      "Class Hockey: Recall Difference = 0.0\n",
      "Data has been appended to validation0.txt\n",
      "Epoch Number 11, Lambda: 0\n"
     ]
    },
    {
     "name": "stderr",
     "output_type": "stream",
     "text": [
      "100%|███████████████████████████████████████████| 31/31 [01:46<00:00,  3.45s/it]\n"
     ]
    },
    {
     "name": "stdout",
     "output_type": "stream",
     "text": [
      "Average Adversary epoch loss: 0.1817920890546614\n"
     ]
    },
    {
     "name": "stderr",
     "output_type": "stream",
     "text": [
      "100%|███████████████████████████████████████████| 31/31 [01:53<00:00,  3.65s/it]\n",
      "100%|███████████████████████████████████████████| 11/11 [00:19<00:00,  1.79s/it]\n"
     ]
    },
    {
     "name": "stdout",
     "output_type": "stream",
     "text": [
      "*****Epoch 1/300*****\n",
      "*****Train Loss:  0.929883 Val Loss:  1.058242*****\n",
      "*****Validation Accuracy: 14.05%*****\n",
      "*****Total Avg Disparity: 0.025441378613085375*****\n",
      "\n",
      "Class Parade: Recall Difference = 0.031092067677433444\n",
      "Class Handshaking: Recall Difference = 0.0\n",
      "Class Riot: Recall Difference = 0.0\n",
      "Class Dancing: Recall Difference = 0.0\n",
      "Class Funeral: Recall Difference = 0.0\n",
      "Class Cheering: Recall Difference = 0.0\n",
      "Class Meeting: Recall Difference = 0.0\n",
      "Class Stock_Market: Recall Difference = 0.0\n",
      "Class Ceremony: Recall Difference = 0.0\n",
      "Class Concerts: Recall Difference = 0.0\n",
      "Class Couple: Recall Difference = 0.0\n",
      "Class Family_Group: Recall Difference = 0.0\n",
      "Class Picnic: Recall Difference = 0.0\n",
      "Class Soldier_Patrol: Recall Difference = 0.0\n",
      "Class Spa: Recall Difference = 0.0\n",
      "Class Sports_Fan: Recall Difference = 0.0\n",
      "Class Surgeons: Recall Difference = 0.0\n",
      "Class Waiter_Waitress: Recall Difference = 0.0\n",
      "Class Running: Recall Difference = 0.0\n",
      "Class Basketball: Recall Difference = 0.026470588235294246\n",
      "Class Football: Recall Difference = 0.0\n",
      "Class Soccer: Recall Difference = 0.0\n",
      "Class Ice_Skating: Recall Difference = -0.018761479926528435\n",
      "Class Row_Boat: Recall Difference = 0.0\n",
      "Class Aerobics: Recall Difference = 0.0\n",
      "Class Celebration_Or_Party: Recall Difference = 0.0\n",
      "Class Dresses: Recall Difference = 0.0\n",
      "Class Rescue: Recall Difference = 0.0\n",
      "Class Angler: Recall Difference = 0.0\n",
      "Class Hockey: Recall Difference = 0.0\n",
      "Data has been appended to validation0.txt\n",
      "Epoch Number 12, Lambda: 0\n"
     ]
    },
    {
     "name": "stderr",
     "output_type": "stream",
     "text": [
      "100%|███████████████████████████████████████████| 31/31 [01:46<00:00,  3.45s/it]\n"
     ]
    },
    {
     "name": "stdout",
     "output_type": "stream",
     "text": [
      "Average Adversary epoch loss: 0.17221346449467442\n"
     ]
    },
    {
     "name": "stderr",
     "output_type": "stream",
     "text": [
      "100%|███████████████████████████████████████████| 31/31 [01:52<00:00,  3.61s/it]\n",
      "100%|███████████████████████████████████████████| 11/11 [00:19<00:00,  1.81s/it]\n"
     ]
    },
    {
     "name": "stdout",
     "output_type": "stream",
     "text": [
      "*****Epoch 1/300*****\n",
      "*****Train Loss:  0.929769 Val Loss:  1.055550*****\n",
      "*****Validation Accuracy: 14.02%*****\n",
      "*****Total Avg Disparity: 0.04399344458574559*****\n",
      "\n",
      "Class Parade: Recall Difference = 0.051472203911228365\n",
      "Class Handshaking: Recall Difference = 0.0\n",
      "Class Riot: Recall Difference = 0.0\n",
      "Class Dancing: Recall Difference = 0.0\n",
      "Class Funeral: Recall Difference = 0.0\n",
      "Class Cheering: Recall Difference = 0.0\n",
      "Class Meeting: Recall Difference = 0.0\n",
      "Class Stock_Market: Recall Difference = 0.0\n",
      "Class Ceremony: Recall Difference = 0.0\n",
      "Class Concerts: Recall Difference = 0.0\n",
      "Class Couple: Recall Difference = 0.0\n",
      "Class Family_Group: Recall Difference = 0.0\n",
      "Class Picnic: Recall Difference = 0.0\n",
      "Class Soldier_Patrol: Recall Difference = 0.0\n",
      "Class Spa: Recall Difference = 0.0\n",
      "Class Sports_Fan: Recall Difference = 0.0\n",
      "Class Surgeons: Recall Difference = 0.0\n",
      "Class Waiter_Waitress: Recall Difference = 0.0\n",
      "Class Running: Recall Difference = 0.0\n",
      "Class Basketball: Recall Difference = 0.04993872549019618\n",
      "Class Football: Recall Difference = 0.0\n",
      "Class Soccer: Recall Difference = 0.0\n",
      "Class Ice_Skating: Recall Difference = -0.030569404355812235\n",
      "Class Row_Boat: Recall Difference = 0.0\n",
      "Class Aerobics: Recall Difference = 0.0\n",
      "Class Celebration_Or_Party: Recall Difference = 0.0\n",
      "Class Dresses: Recall Difference = 0.0\n",
      "Class Rescue: Recall Difference = 0.0\n",
      "Class Angler: Recall Difference = 0.0\n",
      "Class Hockey: Recall Difference = 0.0\n",
      "Data has been appended to validation0.txt\n",
      "Epoch Number 13, Lambda: 0\n"
     ]
    },
    {
     "name": "stderr",
     "output_type": "stream",
     "text": [
      "100%|███████████████████████████████████████████| 31/31 [01:48<00:00,  3.51s/it]\n"
     ]
    },
    {
     "name": "stdout",
     "output_type": "stream",
     "text": [
      "Average Adversary epoch loss: 0.16797614578277834\n"
     ]
    },
    {
     "name": "stderr",
     "output_type": "stream",
     "text": [
      "100%|███████████████████████████████████████████| 31/31 [01:52<00:00,  3.64s/it]\n",
      "100%|███████████████████████████████████████████| 11/11 [00:20<00:00,  1.82s/it]\n"
     ]
    },
    {
     "name": "stdout",
     "output_type": "stream",
     "text": [
      "*****Epoch 1/300*****\n",
      "*****Train Loss:  0.928245 Val Loss:  1.053935*****\n",
      "*****Validation Accuracy: 14.10%*****\n",
      "*****Total Avg Disparity: 0.04909473929614646*****\n",
      "\n",
      "Class Parade: Recall Difference = 0.056855636123928854\n",
      "Class Handshaking: Recall Difference = 0.0\n",
      "Class Riot: Recall Difference = 0.0\n",
      "Class Dancing: Recall Difference = 0.0\n",
      "Class Funeral: Recall Difference = 0.0\n",
      "Class Cheering: Recall Difference = 0.0\n",
      "Class Meeting: Recall Difference = 0.0\n",
      "Class Stock_Market: Recall Difference = 0.0\n",
      "Class Ceremony: Recall Difference = 0.0\n",
      "Class Concerts: Recall Difference = 0.0\n",
      "Class Couple: Recall Difference = 0.0\n",
      "Class Family_Group: Recall Difference = 0.0\n",
      "Class Picnic: Recall Difference = 0.0\n",
      "Class Soldier_Patrol: Recall Difference = 0.0\n",
      "Class Spa: Recall Difference = 0.0\n",
      "Class Sports_Fan: Recall Difference = 0.0\n",
      "Class Surgeons: Recall Difference = 0.0\n",
      "Class Waiter_Waitress: Recall Difference = 0.0\n",
      "Class Running: Recall Difference = 0.0\n",
      "Class Basketball: Recall Difference = 0.0772671568627451\n",
      "Class Football: Recall Difference = 0.0\n",
      "Class Soccer: Recall Difference = 0.0\n",
      "Class Ice_Skating: Recall Difference = -0.0402781422198899\n",
      "Class Row_Boat: Recall Difference = 0.0\n",
      "Class Aerobics: Recall Difference = 0.0\n",
      "Class Celebration_Or_Party: Recall Difference = 0.0\n",
      "Class Dresses: Recall Difference = 0.0\n",
      "Class Rescue: Recall Difference = 0.0\n",
      "Class Angler: Recall Difference = 0.0\n",
      "Class Hockey: Recall Difference = 0.021978021978021976\n",
      "Data has been appended to validation0.txt\n",
      "Epoch Number 14, Lambda: 0\n"
     ]
    },
    {
     "name": "stderr",
     "output_type": "stream",
     "text": [
      "100%|███████████████████████████████████████████| 31/31 [01:47<00:00,  3.46s/it]\n"
     ]
    },
    {
     "name": "stdout",
     "output_type": "stream",
     "text": [
      "Average Adversary epoch loss: 0.16191660060036567\n"
     ]
    },
    {
     "name": "stderr",
     "output_type": "stream",
     "text": [
      "100%|███████████████████████████████████████████| 31/31 [01:51<00:00,  3.60s/it]\n",
      "100%|███████████████████████████████████████████| 11/11 [00:19<00:00,  1.80s/it]\n"
     ]
    },
    {
     "name": "stdout",
     "output_type": "stream",
     "text": [
      "*****Epoch 1/300*****\n",
      "*****Train Loss:  0.927251 Val Loss:  1.050664*****\n",
      "*****Validation Accuracy: 14.31%*****\n",
      "*****Total Avg Disparity: 0.023563860177310547*****\n",
      "\n",
      "Class Parade: Recall Difference = 0.028345418589320936\n",
      "Class Handshaking: Recall Difference = 0.0\n",
      "Class Riot: Recall Difference = 0.0\n",
      "Class Dancing: Recall Difference = 0.0\n",
      "Class Funeral: Recall Difference = 0.0\n",
      "Class Cheering: Recall Difference = 0.0\n",
      "Class Meeting: Recall Difference = 0.0\n",
      "Class Stock_Market: Recall Difference = 0.0\n",
      "Class Ceremony: Recall Difference = 0.0\n",
      "Class Concerts: Recall Difference = 0.0\n",
      "Class Couple: Recall Difference = 0.0\n",
      "Class Family_Group: Recall Difference = 0.0\n",
      "Class Picnic: Recall Difference = 0.0\n",
      "Class Soldier_Patrol: Recall Difference = 0.0\n",
      "Class Spa: Recall Difference = 0.0\n",
      "Class Sports_Fan: Recall Difference = 0.0\n",
      "Class Surgeons: Recall Difference = 0.0\n",
      "Class Waiter_Waitress: Recall Difference = -0.00261848651479445\n",
      "Class Running: Recall Difference = 0.0\n",
      "Class Basketball: Recall Difference = 0.03811274509803919\n",
      "Class Football: Recall Difference = 0.0\n",
      "Class Soccer: Recall Difference = 0.0\n",
      "Class Ice_Skating: Recall Difference = -0.026764628706376192\n",
      "Class Row_Boat: Recall Difference = 0.0\n",
      "Class Aerobics: Recall Difference = 0.0\n",
      "Class Celebration_Or_Party: Recall Difference = 0.0\n",
      "Class Dresses: Recall Difference = 0.0\n",
      "Class Rescue: Recall Difference = 0.0\n",
      "Class Angler: Recall Difference = 0.0\n",
      "Class Hockey: Recall Difference = 0.021978021978021976\n",
      "Data has been appended to validation0.txt\n",
      "Epoch Number 15, Lambda: 0\n"
     ]
    },
    {
     "name": "stderr",
     "output_type": "stream",
     "text": [
      "100%|███████████████████████████████████████████| 31/31 [01:48<00:00,  3.49s/it]\n"
     ]
    },
    {
     "name": "stdout",
     "output_type": "stream",
     "text": [
      "Average Adversary epoch loss: 0.16476985571845884\n"
     ]
    },
    {
     "name": "stderr",
     "output_type": "stream",
     "text": [
      "100%|███████████████████████████████████████████| 31/31 [01:52<00:00,  3.63s/it]\n",
      "100%|███████████████████████████████████████████| 11/11 [00:19<00:00,  1.81s/it]\n"
     ]
    },
    {
     "name": "stdout",
     "output_type": "stream",
     "text": [
      "*****Epoch 1/300*****\n",
      "*****Train Loss:  0.923755 Val Loss:  1.047530*****\n",
      "*****Validation Accuracy: 14.42%*****\n",
      "*****Total Avg Disparity: 0.03521004596280116*****\n",
      "\n",
      "Class Parade: Recall Difference = 0.045869039771478826\n",
      "Class Handshaking: Recall Difference = 0.0\n",
      "Class Riot: Recall Difference = 0.0\n",
      "Class Dancing: Recall Difference = 0.0\n",
      "Class Funeral: Recall Difference = 0.0\n",
      "Class Cheering: Recall Difference = 0.0\n",
      "Class Meeting: Recall Difference = 0.0\n",
      "Class Stock_Market: Recall Difference = 0.0\n",
      "Class Ceremony: Recall Difference = 0.0\n",
      "Class Concerts: Recall Difference = 0.0\n",
      "Class Couple: Recall Difference = 0.0\n",
      "Class Family_Group: Recall Difference = 0.0\n",
      "Class Picnic: Recall Difference = 0.0\n",
      "Class Soldier_Patrol: Recall Difference = 0.0\n",
      "Class Spa: Recall Difference = 0.0\n",
      "Class Sports_Fan: Recall Difference = 0.0\n",
      "Class Surgeons: Recall Difference = 0.0\n",
      "Class Waiter_Waitress: Recall Difference = 0.027232259753862256\n",
      "Class Running: Recall Difference = 0.0\n",
      "Class Basketball: Recall Difference = 0.04197303921568629\n",
      "Class Football: Recall Difference = 0.0\n",
      "Class Soccer: Recall Difference = 0.0\n",
      "Class Ice_Skating: Recall Difference = -0.049986880083967455\n",
      "Class Row_Boat: Recall Difference = 0.0\n",
      "Class Aerobics: Recall Difference = 0.0\n",
      "Class Celebration_Or_Party: Recall Difference = 0.0\n",
      "Class Dresses: Recall Difference = 0.0\n",
      "Class Rescue: Recall Difference = 0.0\n",
      "Class Angler: Recall Difference = 0.0\n",
      "Class Hockey: Recall Difference = 0.010989010989010988\n",
      "Data has been appended to validation0.txt\n",
      "Epoch Number 16, Lambda: 0\n"
     ]
    },
    {
     "name": "stderr",
     "output_type": "stream",
     "text": [
      "100%|███████████████████████████████████████████| 31/31 [01:48<00:00,  3.49s/it]\n"
     ]
    },
    {
     "name": "stdout",
     "output_type": "stream",
     "text": [
      "Average Adversary epoch loss: 0.15768221164903334\n"
     ]
    },
    {
     "name": "stderr",
     "output_type": "stream",
     "text": [
      "100%|███████████████████████████████████████████| 31/31 [01:52<00:00,  3.62s/it]\n",
      "100%|███████████████████████████████████████████| 11/11 [00:19<00:00,  1.76s/it]\n"
     ]
    },
    {
     "name": "stdout",
     "output_type": "stream",
     "text": [
      "*****Epoch 1/300*****\n",
      "*****Train Loss:  0.921104 Val Loss:  1.044819*****\n",
      "*****Validation Accuracy: 14.57%*****\n",
      "*****Total Avg Disparity: 0.03966373786303602*****\n",
      "\n",
      "Class Parade: Recall Difference = 0.04987914744012312\n",
      "Class Handshaking: Recall Difference = 0.0\n",
      "Class Riot: Recall Difference = 0.0\n",
      "Class Dancing: Recall Difference = 0.0\n",
      "Class Funeral: Recall Difference = 0.0\n",
      "Class Cheering: Recall Difference = 0.0\n",
      "Class Meeting: Recall Difference = 0.0\n",
      "Class Stock_Market: Recall Difference = 0.0\n",
      "Class Ceremony: Recall Difference = 0.0\n",
      "Class Concerts: Recall Difference = 0.0\n",
      "Class Couple: Recall Difference = 0.0\n",
      "Class Family_Group: Recall Difference = 0.0\n",
      "Class Picnic: Recall Difference = 0.0\n",
      "Class Soldier_Patrol: Recall Difference = 0.0\n",
      "Class Spa: Recall Difference = 0.0\n",
      "Class Sports_Fan: Recall Difference = 0.0\n",
      "Class Surgeons: Recall Difference = 0.0\n",
      "Class Waiter_Waitress: Recall Difference = 0.05708300602251898\n",
      "Class Running: Recall Difference = 0.0\n",
      "Class Basketball: Recall Difference = 0.03799019607843135\n",
      "Class Football: Recall Difference = 0.0\n",
      "Class Soccer: Recall Difference = 0.0\n",
      "Class Ice_Skating: Recall Difference = -0.0423773287850957\n",
      "Class Row_Boat: Recall Difference = 0.0\n",
      "Class Aerobics: Recall Difference = 0.0\n",
      "Class Celebration_Or_Party: Recall Difference = 0.0\n",
      "Class Dresses: Recall Difference = 0.0\n",
      "Class Rescue: Recall Difference = 0.0\n",
      "Class Angler: Recall Difference = 0.0\n",
      "Class Hockey: Recall Difference = 0.010989010989010988\n",
      "Data has been appended to validation0.txt\n",
      "Epoch Number 17, Lambda: 0\n"
     ]
    },
    {
     "name": "stderr",
     "output_type": "stream",
     "text": [
      "100%|███████████████████████████████████████████| 31/31 [01:47<00:00,  3.46s/it]\n"
     ]
    },
    {
     "name": "stdout",
     "output_type": "stream",
     "text": [
      "Average Adversary epoch loss: 0.1607086499852519\n"
     ]
    },
    {
     "name": "stderr",
     "output_type": "stream",
     "text": [
      "100%|███████████████████████████████████████████| 31/31 [01:51<00:00,  3.60s/it]\n",
      "100%|███████████████████████████████████████████| 11/11 [00:19<00:00,  1.78s/it]\n"
     ]
    },
    {
     "name": "stdout",
     "output_type": "stream",
     "text": [
      "*****Epoch 1/300*****\n",
      "*****Train Loss:  0.917474 Val Loss:  1.042139*****\n",
      "*****Validation Accuracy: 14.83%*****\n",
      "*****Total Avg Disparity: 0.03975137700469111*****\n",
      "\n",
      "Class Parade: Recall Difference = 0.04449571522742257\n",
      "Class Handshaking: Recall Difference = 0.0\n",
      "Class Riot: Recall Difference = 0.0\n",
      "Class Dancing: Recall Difference = 0.0\n",
      "Class Funeral: Recall Difference = 0.0\n",
      "Class Cheering: Recall Difference = 0.0\n",
      "Class Meeting: Recall Difference = 0.0\n",
      "Class Stock_Market: Recall Difference = 0.0\n",
      "Class Ceremony: Recall Difference = 0.0\n",
      "Class Concerts: Recall Difference = 0.0\n",
      "Class Couple: Recall Difference = 0.0\n",
      "Class Family_Group: Recall Difference = 0.0\n",
      "Class Picnic: Recall Difference = 0.0\n",
      "Class Soldier_Patrol: Recall Difference = 0.0\n",
      "Class Spa: Recall Difference = 0.0\n",
      "Class Sports_Fan: Recall Difference = 0.0\n",
      "Class Surgeons: Recall Difference = 0.0\n",
      "Class Waiter_Waitress: Recall Difference = 0.0869337522911757\n",
      "Class Running: Recall Difference = 0.0\n",
      "Class Basketball: Recall Difference = 0.026348039215686292\n",
      "Class Football: Recall Difference = 0.0\n",
      "Class Soccer: Recall Difference = 0.0\n",
      "Class Ice_Skating: Recall Difference = -0.05208606664917348\n",
      "Class Row_Boat: Recall Difference = 0.0\n",
      "Class Aerobics: Recall Difference = 0.0\n",
      "Class Celebration_Or_Party: Recall Difference = 0.0\n",
      "Class Dresses: Recall Difference = -0.006666666666666667\n",
      "Class Rescue: Recall Difference = 0.0\n",
      "Class Angler: Recall Difference = 0.0\n",
      "Class Hockey: Recall Difference = 0.021978021978021983\n",
      "Data has been appended to validation0.txt\n",
      "Epoch Number 18, Lambda: 0\n"
     ]
    },
    {
     "name": "stderr",
     "output_type": "stream",
     "text": [
      "100%|███████████████████████████████████████████| 31/31 [01:46<00:00,  3.45s/it]\n"
     ]
    },
    {
     "name": "stdout",
     "output_type": "stream",
     "text": [
      "Average Adversary epoch loss: 0.15447331532355277\n"
     ]
    },
    {
     "name": "stderr",
     "output_type": "stream",
     "text": [
      "100%|███████████████████████████████████████████| 31/31 [01:51<00:00,  3.61s/it]\n",
      "100%|███████████████████████████████████████████| 11/11 [00:19<00:00,  1.76s/it]\n"
     ]
    },
    {
     "name": "stdout",
     "output_type": "stream",
     "text": [
      "*****Epoch 1/300*****\n",
      "*****Train Loss:  0.920277 Val Loss:  1.039094*****\n",
      "*****Validation Accuracy: 14.74%*****\n",
      "*****Total Avg Disparity: 0.03904188332111258*****\n",
      "\n",
      "Class Parade: Recall Difference = 0.06602944407822453\n",
      "Class Handshaking: Recall Difference = 0.0\n",
      "Class Riot: Recall Difference = 0.0\n",
      "Class Dancing: Recall Difference = 0.0\n",
      "Class Funeral: Recall Difference = 0.0\n",
      "Class Cheering: Recall Difference = 0.0\n",
      "Class Meeting: Recall Difference = 0.0\n",
      "Class Stock_Market: Recall Difference = 0.0\n",
      "Class Ceremony: Recall Difference = 0.0\n",
      "Class Concerts: Recall Difference = 0.0\n",
      "Class Couple: Recall Difference = 0.0\n",
      "Class Family_Group: Recall Difference = 0.0\n",
      "Class Picnic: Recall Difference = 0.0\n",
      "Class Soldier_Patrol: Recall Difference = 0.0\n",
      "Class Spa: Recall Difference = 0.0\n",
      "Class Sports_Fan: Recall Difference = 0.0\n",
      "Class Surgeons: Recall Difference = 0.0\n",
      "Class Waiter_Waitress: Recall Difference = 0.0869337522911757\n",
      "Class Running: Recall Difference = 0.0\n",
      "Class Basketball: Recall Difference = 0.03394607843137265\n",
      "Class Football: Recall Difference = 0.0\n",
      "Class Soccer: Recall Difference = 0.0\n",
      "Class Ice_Skating: Recall Difference = -0.03857255313565988\n",
      "Class Row_Boat: Recall Difference = 0.0125\n",
      "Class Aerobics: Recall Difference = 0.0\n",
      "Class Celebration_Or_Party: Recall Difference = 0.0\n",
      "Class Dresses: Recall Difference = -0.013333333333333336\n",
      "Class Rescue: Recall Difference = 0.0\n",
      "Class Angler: Recall Difference = 0.0\n",
      "Class Hockey: Recall Difference = 0.021978021978021983\n",
      "Data has been appended to validation0.txt\n",
      "Epoch Number 19, Lambda: 0\n"
     ]
    },
    {
     "name": "stderr",
     "output_type": "stream",
     "text": [
      "100%|███████████████████████████████████████████| 31/31 [01:47<00:00,  3.47s/it]\n"
     ]
    },
    {
     "name": "stdout",
     "output_type": "stream",
     "text": [
      "Average Adversary epoch loss: 0.15493258353202574\n"
     ]
    },
    {
     "name": "stderr",
     "output_type": "stream",
     "text": [
      "100%|███████████████████████████████████████████| 31/31 [01:52<00:00,  3.64s/it]\n",
      "100%|███████████████████████████████████████████| 11/11 [00:19<00:00,  1.77s/it]\n"
     ]
    },
    {
     "name": "stdout",
     "output_type": "stream",
     "text": [
      "*****Epoch 1/300*****\n",
      "*****Train Loss:  0.912848 Val Loss:  1.037153*****\n",
      "*****Validation Accuracy: 15.15%*****\n",
      "*****Total Avg Disparity: 0.04616570022422671*****\n",
      "\n",
      "Class Parade: Recall Difference = 0.05388925510876719\n",
      "Class Handshaking: Recall Difference = 0.0\n",
      "Class Riot: Recall Difference = 0.0\n",
      "Class Dancing: Recall Difference = 0.0\n",
      "Class Funeral: Recall Difference = 0.0\n",
      "Class Cheering: Recall Difference = 0.0\n",
      "Class Meeting: Recall Difference = 0.0\n",
      "Class Stock_Market: Recall Difference = 0.0\n",
      "Class Ceremony: Recall Difference = 0.0\n",
      "Class Concerts: Recall Difference = 0.0\n",
      "Class Couple: Recall Difference = 0.0\n",
      "Class Family_Group: Recall Difference = 0.0\n",
      "Class Picnic: Recall Difference = 0.0\n",
      "Class Soldier_Patrol: Recall Difference = 0.0\n",
      "Class Spa: Recall Difference = 0.0\n",
      "Class Sports_Fan: Recall Difference = 0.0\n",
      "Class Surgeons: Recall Difference = 0.0\n",
      "Class Waiter_Waitress: Recall Difference = 0.0869337522911757\n",
      "Class Running: Recall Difference = 0.0\n",
      "Class Basketball: Recall Difference = 0.045772058823529416\n",
      "Class Football: Recall Difference = 0.0\n",
      "Class Soccer: Recall Difference = -0.03703703703703704\n",
      "Class Ice_Skating: Recall Difference = -0.08711624245604821\n",
      "Class Row_Boat: Recall Difference = -0.007954545454545464\n",
      "Class Aerobics: Recall Difference = 0.0\n",
      "Class Celebration_Or_Party: Recall Difference = 0.0\n",
      "Class Dresses: Recall Difference = -0.006666666666666667\n",
      "Class Rescue: Recall Difference = 0.0\n",
      "Class Angler: Recall Difference = 0.0\n",
      "Class Hockey: Recall Difference = 0.043956043956043966\n",
      "Data has been appended to validation0.txt\n",
      "Epoch Number 20, Lambda: 0\n"
     ]
    },
    {
     "name": "stderr",
     "output_type": "stream",
     "text": [
      "100%|███████████████████████████████████████████| 31/31 [01:47<00:00,  3.47s/it]\n"
     ]
    },
    {
     "name": "stdout",
     "output_type": "stream",
     "text": [
      "Average Adversary epoch loss: 0.15339931989869765\n"
     ]
    },
    {
     "name": "stderr",
     "output_type": "stream",
     "text": [
      "100%|███████████████████████████████████████████| 31/31 [01:53<00:00,  3.65s/it]\n",
      "100%|███████████████████████████████████████████| 11/11 [00:19<00:00,  1.79s/it]\n"
     ]
    },
    {
     "name": "stdout",
     "output_type": "stream",
     "text": [
      "*****Epoch 1/300*****\n",
      "*****Train Loss:  0.910389 Val Loss:  1.033145*****\n",
      "*****Validation Accuracy: 15.32%*****\n",
      "*****Total Avg Disparity: 0.04079843749952786*****\n",
      "\n",
      "Class Parade: Recall Difference = 0.03900241705119756\n",
      "Class Handshaking: Recall Difference = 0.0\n",
      "Class Riot: Recall Difference = 0.0\n",
      "Class Dancing: Recall Difference = 0.0\n",
      "Class Funeral: Recall Difference = 0.0\n",
      "Class Cheering: Recall Difference = 0.0\n",
      "Class Meeting: Recall Difference = 0.0\n",
      "Class Stock_Market: Recall Difference = 0.0\n",
      "Class Ceremony: Recall Difference = 0.0\n",
      "Class Concerts: Recall Difference = 0.0\n",
      "Class Couple: Recall Difference = 0.0\n",
      "Class Family_Group: Recall Difference = 0.0\n",
      "Class Picnic: Recall Difference = 0.0\n",
      "Class Soldier_Patrol: Recall Difference = 0.0\n",
      "Class Spa: Recall Difference = 0.0\n",
      "Class Sports_Fan: Recall Difference = 0.0\n",
      "Class Surgeons: Recall Difference = 0.0\n",
      "Class Waiter_Waitress: Recall Difference = 0.10185912542550407\n",
      "Class Running: Recall Difference = 0.0\n",
      "Class Basketball: Recall Difference = 0.02236519607843135\n",
      "Class Football: Recall Difference = 0.0\n",
      "Class Soccer: Recall Difference = -0.018345448251990314\n",
      "Class Ice_Skating: Recall Difference = -0.0850170558908423\n",
      "Class Row_Boat: Recall Difference = -0.007954545454545457\n",
      "Class Aerobics: Recall Difference = 0.0\n",
      "Class Celebration_Or_Party: Recall Difference = 0.0\n",
      "Class Dresses: Recall Difference = -0.006666666666666666\n",
      "Class Rescue: Recall Difference = 0.0\n",
      "Class Angler: Recall Difference = 0.0\n",
      "Class Hockey: Recall Difference = -0.04517704517704518\n",
      "Data has been appended to validation0.txt\n",
      "Epoch Number 21, Lambda: 0\n"
     ]
    },
    {
     "name": "stderr",
     "output_type": "stream",
     "text": [
      "100%|███████████████████████████████████████████| 31/31 [01:47<00:00,  3.46s/it]\n"
     ]
    },
    {
     "name": "stdout",
     "output_type": "stream",
     "text": [
      "Average Adversary epoch loss: 0.15105754281243972\n"
     ]
    },
    {
     "name": "stderr",
     "output_type": "stream",
     "text": [
      "100%|███████████████████████████████████████████| 31/31 [01:50<00:00,  3.58s/it]\n",
      "100%|███████████████████████████████████████████| 11/11 [00:19<00:00,  1.82s/it]\n"
     ]
    },
    {
     "name": "stdout",
     "output_type": "stream",
     "text": [
      "*****Epoch 1/300*****\n",
      "*****Train Loss:  0.906953 Val Loss:  1.029921*****\n",
      "*****Validation Accuracy: 15.38%*****\n",
      "*****Total Avg Disparity: 0.0427361870595145*****\n",
      "\n",
      "Class Parade: Recall Difference = 0.018512414853878223\n",
      "Class Handshaking: Recall Difference = 0.0\n",
      "Class Riot: Recall Difference = 0.0\n",
      "Class Dancing: Recall Difference = 0.0\n",
      "Class Funeral: Recall Difference = 0.0\n",
      "Class Cheering: Recall Difference = 0.0\n",
      "Class Meeting: Recall Difference = 0.0\n",
      "Class Stock_Market: Recall Difference = 0.0\n",
      "Class Ceremony: Recall Difference = 0.0\n",
      "Class Concerts: Recall Difference = 0.0\n",
      "Class Couple: Recall Difference = 0.0\n",
      "Class Family_Group: Recall Difference = 0.0\n",
      "Class Picnic: Recall Difference = 0.0\n",
      "Class Soldier_Patrol: Recall Difference = 0.0\n",
      "Class Spa: Recall Difference = 0.0\n",
      "Class Sports_Fan: Recall Difference = 0.0\n",
      "Class Surgeons: Recall Difference = 0.0\n",
      "Class Waiter_Waitress: Recall Difference = 0.08431526577638127\n",
      "Class Running: Recall Difference = 0.0\n",
      "Class Basketball: Recall Difference = 0.02990196078431373\n",
      "Class Football: Recall Difference = 0.0\n",
      "Class Soccer: Recall Difference = -0.018345448251990307\n",
      "Class Ice_Skating: Recall Difference = -0.11033849383363947\n",
      "Class Row_Boat: Recall Difference = -0.03295454545454546\n",
      "Class Aerobics: Recall Difference = 0.0\n",
      "Class Celebration_Or_Party: Recall Difference = 0.0\n",
      "Class Dresses: Recall Difference = -0.013333333333333336\n",
      "Class Rescue: Recall Difference = 0.0\n",
      "Class Angler: Recall Difference = 0.0\n",
      "Class Hockey: Recall Difference = -0.03418803418803419\n",
      "Data has been appended to validation0.txt\n",
      "Epoch Number 22, Lambda: 0\n"
     ]
    },
    {
     "name": "stderr",
     "output_type": "stream",
     "text": [
      "100%|███████████████████████████████████████████| 31/31 [01:46<00:00,  3.43s/it]\n"
     ]
    },
    {
     "name": "stdout",
     "output_type": "stream",
     "text": [
      "Average Adversary epoch loss: 0.14976122134154843\n"
     ]
    },
    {
     "name": "stderr",
     "output_type": "stream",
     "text": [
      "100%|███████████████████████████████████████████| 31/31 [01:50<00:00,  3.57s/it]\n",
      "100%|███████████████████████████████████████████| 11/11 [00:19<00:00,  1.74s/it]\n"
     ]
    },
    {
     "name": "stdout",
     "output_type": "stream",
     "text": [
      "*****Epoch 1/300*****\n",
      "*****Train Loss:  0.910268 Val Loss:  1.026629*****\n",
      "*****Validation Accuracy: 15.67%*****\n",
      "*****Total Avg Disparity: 0.041208908114955776*****\n",
      "\n",
      "Class Parade: Recall Difference = 0.02801582069874753\n",
      "Class Handshaking: Recall Difference = 0.0\n",
      "Class Riot: Recall Difference = 0.0\n",
      "Class Dancing: Recall Difference = 0.0\n",
      "Class Funeral: Recall Difference = 0.0\n",
      "Class Cheering: Recall Difference = 0.0\n",
      "Class Meeting: Recall Difference = 0.0\n",
      "Class Stock_Market: Recall Difference = 0.0\n",
      "Class Ceremony: Recall Difference = 0.0\n",
      "Class Concerts: Recall Difference = 0.0\n",
      "Class Couple: Recall Difference = 0.0\n",
      "Class Family_Group: Recall Difference = 0.0\n",
      "Class Picnic: Recall Difference = 0.0\n",
      "Class Soldier_Patrol: Recall Difference = 0.0\n",
      "Class Spa: Recall Difference = 0.0\n",
      "Class Sports_Fan: Recall Difference = 0.0\n",
      "Class Surgeons: Recall Difference = 0.0\n",
      "Class Waiter_Waitress: Recall Difference = 0.08431526577638127\n",
      "Class Running: Recall Difference = 0.0\n",
      "Class Basketball: Recall Difference = 0.06525735294117652\n",
      "Class Football: Recall Difference = 0.0\n",
      "Class Soccer: Recall Difference = 0.009345794392523366\n",
      "Class Ice_Skating: Recall Difference = -0.07150354237732881\n",
      "Class Row_Boat: Recall Difference = 0.017045454545454544\n",
      "Class Aerobics: Recall Difference = 0.0\n",
      "Class Celebration_Or_Party: Recall Difference = 0.0\n",
      "Class Dresses: Recall Difference = -0.019999999999999997\n",
      "Class Rescue: Recall Difference = 0.0\n",
      "Class Angler: Recall Difference = 0.0\n",
      "Class Hockey: Recall Difference = -0.03418803418803418\n",
      "Data has been appended to validation0.txt\n",
      "Epoch Number 23, Lambda: 0\n"
     ]
    },
    {
     "name": "stderr",
     "output_type": "stream",
     "text": [
      "100%|███████████████████████████████████████████| 31/31 [01:46<00:00,  3.44s/it]\n"
     ]
    },
    {
     "name": "stdout",
     "output_type": "stream",
     "text": [
      "Average Adversary epoch loss: 0.1480605943549064\n"
     ]
    },
    {
     "name": "stderr",
     "output_type": "stream",
     "text": [
      "100%|███████████████████████████████████████████| 31/31 [01:51<00:00,  3.60s/it]\n",
      "100%|███████████████████████████████████████████| 11/11 [00:19<00:00,  1.80s/it]\n"
     ]
    },
    {
     "name": "stdout",
     "output_type": "stream",
     "text": [
      "*****Epoch 1/300*****\n",
      "*****Train Loss:  0.905464 Val Loss:  1.024531*****\n",
      "*****Validation Accuracy: 15.93%*****\n",
      "*****Total Avg Disparity: 0.050897252502576984*****\n",
      "\n",
      "Class Parade: Recall Difference = 0.045649307844429776\n",
      "Class Handshaking: Recall Difference = 0.0\n",
      "Class Riot: Recall Difference = 0.0\n",
      "Class Dancing: Recall Difference = 0.0\n",
      "Class Funeral: Recall Difference = 0.0\n",
      "Class Cheering: Recall Difference = 0.0\n",
      "Class Meeting: Recall Difference = 0.0\n",
      "Class Stock_Market: Recall Difference = 0.0\n",
      "Class Ceremony: Recall Difference = 0.0\n",
      "Class Concerts: Recall Difference = 0.0\n",
      "Class Couple: Recall Difference = 0.0\n",
      "Class Family_Group: Recall Difference = 0.0\n",
      "Class Picnic: Recall Difference = 0.0\n",
      "Class Soldier_Patrol: Recall Difference = -0.0954248366013072\n",
      "Class Spa: Recall Difference = 0.0\n",
      "Class Sports_Fan: Recall Difference = 0.0\n",
      "Class Surgeons: Recall Difference = 0.0\n",
      "Class Waiter_Waitress: Recall Difference = 0.06677140612725846\n",
      "Class Running: Recall Difference = 0.0\n",
      "Class Basketball: Recall Difference = 0.05741421568627447\n",
      "Class Football: Recall Difference = 0.0\n",
      "Class Soccer: Recall Difference = -0.027691242644513676\n",
      "Class Ice_Skating: Recall Difference = -0.11033849383363947\n",
      "Class Row_Boat: Recall Difference = -0.015909090909090914\n",
      "Class Aerobics: Recall Difference = 0.0\n",
      "Class Celebration_Or_Party: Recall Difference = 0.0\n",
      "Class Dresses: Recall Difference = -0.02666666666666667\n",
      "Class Rescue: Recall Difference = 0.0\n",
      "Class Angler: Recall Difference = 0.0\n",
      "Class Hockey: Recall Difference = -0.012210012210012208\n",
      "Data has been appended to validation0.txt\n",
      "Epoch Number 24, Lambda: 0\n"
     ]
    },
    {
     "name": "stderr",
     "output_type": "stream",
     "text": [
      "100%|███████████████████████████████████████████| 31/31 [01:47<00:00,  3.46s/it]\n"
     ]
    },
    {
     "name": "stdout",
     "output_type": "stream",
     "text": [
      "Average Adversary epoch loss: 0.14857711618946445\n"
     ]
    },
    {
     "name": "stderr",
     "output_type": "stream",
     "text": [
      "100%|███████████████████████████████████████████| 31/31 [01:52<00:00,  3.64s/it]\n",
      "100%|███████████████████████████████████████████| 11/11 [00:19<00:00,  1.81s/it]\n"
     ]
    },
    {
     "name": "stdout",
     "output_type": "stream",
     "text": [
      "*****Epoch 1/300*****\n",
      "*****Train Loss:  0.903619 Val Loss:  1.021405*****\n",
      "*****Validation Accuracy: 15.84%*****\n",
      "*****Total Avg Disparity: 0.056632669890313826*****\n",
      "\n",
      "Class Parade: Recall Difference = 0.034882443419028686\n",
      "Class Handshaking: Recall Difference = 0.0\n",
      "Class Riot: Recall Difference = 0.0\n",
      "Class Dancing: Recall Difference = 0.0\n",
      "Class Funeral: Recall Difference = 0.0\n",
      "Class Cheering: Recall Difference = 0.0\n",
      "Class Meeting: Recall Difference = 0.0\n",
      "Class Stock_Market: Recall Difference = 0.0\n",
      "Class Ceremony: Recall Difference = 0.0\n",
      "Class Concerts: Recall Difference = 0.0\n",
      "Class Couple: Recall Difference = 0.0\n",
      "Class Family_Group: Recall Difference = 0.0\n",
      "Class Picnic: Recall Difference = 0.0\n",
      "Class Soldier_Patrol: Recall Difference = -0.10653594771241831\n",
      "Class Spa: Recall Difference = 0.0\n",
      "Class Sports_Fan: Recall Difference = 0.0\n",
      "Class Surgeons: Recall Difference = 0.0\n",
      "Class Waiter_Waitress: Recall Difference = 0.06677140612725846\n",
      "Class Running: Recall Difference = 0.0\n",
      "Class Basketball: Recall Difference = 0.07702205882352942\n",
      "Class Football: Recall Difference = 0.0\n",
      "Class Soccer: Recall Difference = -0.027691242644513676\n",
      "Class Ice_Skating: Recall Difference = -0.11033849383363947\n",
      "Class Row_Boat: Recall Difference = -0.040909090909090916\n",
      "Class Aerobics: Recall Difference = 0.0\n",
      "Class Celebration_Or_Party: Recall Difference = 0.0\n",
      "Class Dresses: Recall Difference = -0.033333333333333326\n",
      "Class Rescue: Recall Difference = 0.0\n",
      "Class Angler: Recall Difference = 0.0\n",
      "Class Hockey: Recall Difference = -0.012210012210012208\n",
      "Data has been appended to validation0.txt\n",
      "Epoch Number 25, Lambda: 0\n"
     ]
    },
    {
     "name": "stderr",
     "output_type": "stream",
     "text": [
      "100%|███████████████████████████████████████████| 31/31 [01:46<00:00,  3.43s/it]\n"
     ]
    },
    {
     "name": "stdout",
     "output_type": "stream",
     "text": [
      "Average Adversary epoch loss: 0.14742178205520876\n"
     ]
    },
    {
     "name": "stderr",
     "output_type": "stream",
     "text": [
      "100%|███████████████████████████████████████████| 31/31 [01:52<00:00,  3.62s/it]\n",
      "100%|███████████████████████████████████████████| 11/11 [00:19<00:00,  1.76s/it]\n"
     ]
    },
    {
     "name": "stdout",
     "output_type": "stream",
     "text": [
      "*****Epoch 1/300*****\n",
      "*****Train Loss:  0.899664 Val Loss:  1.017357*****\n",
      "*****Validation Accuracy: 15.87%*****\n",
      "*****Total Avg Disparity: 0.053042609183757375*****\n",
      "\n",
      "Class Parade: Recall Difference = 0.03477257745550422\n",
      "Class Handshaking: Recall Difference = 0.0\n",
      "Class Riot: Recall Difference = 0.0\n",
      "Class Dancing: Recall Difference = 0.0\n",
      "Class Funeral: Recall Difference = 0.0\n",
      "Class Cheering: Recall Difference = 0.0\n",
      "Class Meeting: Recall Difference = 0.0\n",
      "Class Stock_Market: Recall Difference = 0.0\n",
      "Class Ceremony: Recall Difference = 0.0\n",
      "Class Concerts: Recall Difference = 0.0\n",
      "Class Couple: Recall Difference = 0.0\n",
      "Class Family_Group: Recall Difference = 0.0\n",
      "Class Picnic: Recall Difference = 0.0\n",
      "Class Soldier_Patrol: Recall Difference = -0.0954248366013072\n",
      "Class Spa: Recall Difference = 0.0\n",
      "Class Sports_Fan: Recall Difference = 0.0\n",
      "Class Surgeons: Recall Difference = 0.0\n",
      "Class Waiter_Waitress: Recall Difference = 0.11416601204503796\n",
      "Class Running: Recall Difference = 0.0\n",
      "Class Basketball: Recall Difference = 0.022120098039215774\n",
      "Class Football: Recall Difference = 0.0\n",
      "Class Soccer: Recall Difference = 0.0\n",
      "Class Ice_Skating: Recall Difference = -0.11033849383363947\n",
      "Class Row_Boat: Recall Difference = -0.040909090909090916\n",
      "Class Aerobics: Recall Difference = 0.0\n",
      "Class Celebration_Or_Party: Recall Difference = 0.0\n",
      "Class Dresses: Recall Difference = -0.04666666666666666\n",
      "Class Rescue: Recall Difference = 0.0\n",
      "Class Angler: Recall Difference = 0.011764705882352941\n",
      "Class Hockey: Recall Difference = -0.0012210012210012028\n",
      "Data has been appended to validation0.txt\n",
      "Epoch Number 26, Lambda: 0\n"
     ]
    },
    {
     "name": "stderr",
     "output_type": "stream",
     "text": [
      "100%|███████████████████████████████████████████| 31/31 [01:47<00:00,  3.45s/it]\n"
     ]
    },
    {
     "name": "stdout",
     "output_type": "stream",
     "text": [
      "Average Adversary epoch loss: 0.14453658317365953\n"
     ]
    },
    {
     "name": "stderr",
     "output_type": "stream",
     "text": [
      "100%|███████████████████████████████████████████| 31/31 [01:52<00:00,  3.63s/it]\n",
      "100%|███████████████████████████████████████████| 11/11 [00:19<00:00,  1.80s/it]\n"
     ]
    },
    {
     "name": "stdout",
     "output_type": "stream",
     "text": [
      "*****Epoch 1/300*****\n",
      "*****Train Loss:  0.895739 Val Loss:  1.015622*****\n",
      "*****Validation Accuracy: 16.45%*****\n",
      "*****Total Avg Disparity: 0.050399110065465325*****\n",
      "\n",
      "Class Parade: Recall Difference = 0.033399252911448074\n",
      "Class Handshaking: Recall Difference = 0.0\n",
      "Class Riot: Recall Difference = 0.0\n",
      "Class Dancing: Recall Difference = 0.0\n",
      "Class Funeral: Recall Difference = 0.0\n",
      "Class Cheering: Recall Difference = 0.0\n",
      "Class Meeting: Recall Difference = 0.0\n",
      "Class Stock_Market: Recall Difference = 0.0\n",
      "Class Ceremony: Recall Difference = 0.0\n",
      "Class Concerts: Recall Difference = 0.0\n",
      "Class Couple: Recall Difference = 0.0\n",
      "Class Family_Group: Recall Difference = 0.0\n",
      "Class Picnic: Recall Difference = 0.0\n",
      "Class Soldier_Patrol: Recall Difference = -0.0954248366013072\n",
      "Class Spa: Recall Difference = 0.0\n",
      "Class Sports_Fan: Recall Difference = 0.0\n",
      "Class Surgeons: Recall Difference = 0.0\n",
      "Class Waiter_Waitress: Recall Difference = 0.08431526577638127\n",
      "Class Running: Recall Difference = 0.0\n",
      "Class Basketball: Recall Difference = 0.07696078431372533\n",
      "Class Football: Recall Difference = 0.0\n",
      "Class Soccer: Recall Difference = 0.0\n",
      "Class Ice_Skating: Recall Difference = -0.10653371818420354\n",
      "Class Row_Boat: Recall Difference = -0.011363636363636367\n",
      "Class Aerobics: Recall Difference = 0.0\n",
      "Class Celebration_Or_Party: Recall Difference = 0.0\n",
      "Class Dresses: Recall Difference = -0.009855072463768114\n",
      "Class Rescue: Recall Difference = 0.0\n",
      "Class Angler: Recall Difference = 0.023529411764705885\n",
      "Class Hockey: Recall Difference = -0.01221001221001218\n",
      "Data has been appended to validation0.txt\n",
      "Epoch Number 27, Lambda: 0\n"
     ]
    },
    {
     "name": "stderr",
     "output_type": "stream",
     "text": [
      "100%|███████████████████████████████████████████| 31/31 [01:48<00:00,  3.49s/it]\n"
     ]
    },
    {
     "name": "stdout",
     "output_type": "stream",
     "text": [
      "Average Adversary epoch loss: 0.14418450214209094\n"
     ]
    },
    {
     "name": "stderr",
     "output_type": "stream",
     "text": [
      "100%|███████████████████████████████████████████| 31/31 [01:51<00:00,  3.61s/it]\n",
      "100%|███████████████████████████████████████████| 11/11 [00:19<00:00,  1.82s/it]\n"
     ]
    },
    {
     "name": "stdout",
     "output_type": "stream",
     "text": [
      "*****Epoch 1/300*****\n",
      "*****Train Loss:  0.897691 Val Loss:  1.010853*****\n",
      "*****Validation Accuracy: 16.77%*****\n",
      "*****Total Avg Disparity: 0.05133335723729576*****\n",
      "\n",
      "Class Parade: Recall Difference = 0.0482860909690177\n",
      "Class Handshaking: Recall Difference = 0.0\n",
      "Class Riot: Recall Difference = 0.0\n",
      "Class Dancing: Recall Difference = 0.0\n",
      "Class Funeral: Recall Difference = 0.0\n",
      "Class Cheering: Recall Difference = 0.0\n",
      "Class Meeting: Recall Difference = 0.0\n",
      "Class Stock_Market: Recall Difference = 0.0\n",
      "Class Ceremony: Recall Difference = 0.0\n",
      "Class Concerts: Recall Difference = 0.0\n",
      "Class Couple: Recall Difference = 0.0\n",
      "Class Family_Group: Recall Difference = 0.0\n",
      "Class Picnic: Recall Difference = 0.0\n",
      "Class Soldier_Patrol: Recall Difference = -0.07320261437908498\n",
      "Class Spa: Recall Difference = 0.0\n",
      "Class Sports_Fan: Recall Difference = 0.0\n",
      "Class Surgeons: Recall Difference = 0.0\n",
      "Class Waiter_Waitress: Recall Difference = 0.0816967792615868\n",
      "Class Running: Recall Difference = 0.0\n",
      "Class Basketball: Recall Difference = 0.0691176470588234\n",
      "Class Football: Recall Difference = 0.0\n",
      "Class Soccer: Recall Difference = -0.018345448251990314\n",
      "Class Ice_Skating: Recall Difference = -0.10272894253476772\n",
      "Class Row_Boat: Recall Difference = -0.011363636363636367\n",
      "Class Aerobics: Recall Difference = 0.0\n",
      "Class Celebration_Or_Party: Recall Difference = 0.0\n",
      "Class Dresses: Recall Difference = -0.01652173913043478\n",
      "Class Rescue: Recall Difference = 0.0\n",
      "Class Angler: Recall Difference = 0.03529411764705882\n",
      "Class Hockey: Recall Difference = -0.056776556776556755\n",
      "Data has been appended to validation0.txt\n",
      "Epoch Number 28, Lambda: 0\n"
     ]
    },
    {
     "name": "stderr",
     "output_type": "stream",
     "text": [
      "100%|███████████████████████████████████████████| 31/31 [01:46<00:00,  3.44s/it]\n"
     ]
    },
    {
     "name": "stdout",
     "output_type": "stream",
     "text": [
      "Average Adversary epoch loss: 0.14474288470322086\n"
     ]
    },
    {
     "name": "stderr",
     "output_type": "stream",
     "text": [
      "100%|███████████████████████████████████████████| 31/31 [01:51<00:00,  3.59s/it]\n",
      "100%|███████████████████████████████████████████| 11/11 [00:19<00:00,  1.78s/it]\n"
     ]
    },
    {
     "name": "stdout",
     "output_type": "stream",
     "text": [
      "*****Epoch 1/300*****\n",
      "*****Train Loss:  0.892069 Val Loss:  1.007637*****\n",
      "*****Validation Accuracy: 16.94%*****\n",
      "*****Total Avg Disparity: 0.0574950648993367*****\n",
      "\n",
      "Class Parade: Recall Difference = 0.03477257745550422\n",
      "Class Handshaking: Recall Difference = 0.0\n",
      "Class Riot: Recall Difference = 0.0\n",
      "Class Dancing: Recall Difference = 0.0\n",
      "Class Funeral: Recall Difference = 0.0\n",
      "Class Cheering: Recall Difference = 0.0\n",
      "Class Meeting: Recall Difference = 0.0\n",
      "Class Stock_Market: Recall Difference = 0.0\n",
      "Class Ceremony: Recall Difference = 0.0\n",
      "Class Concerts: Recall Difference = 0.0\n",
      "Class Couple: Recall Difference = 0.0\n",
      "Class Family_Group: Recall Difference = 0.0\n",
      "Class Picnic: Recall Difference = 0.0\n",
      "Class Soldier_Patrol: Recall Difference = -0.07320261437908498\n",
      "Class Spa: Recall Difference = 0.0\n",
      "Class Sports_Fan: Recall Difference = 0.0\n",
      "Class Surgeons: Recall Difference = 0.0\n",
      "Class Waiter_Waitress: Recall Difference = 0.0816967792615868\n",
      "Class Running: Recall Difference = 0.0\n",
      "Class Basketball: Recall Difference = 0.07689950980392146\n",
      "Class Football: Recall Difference = 0.0\n",
      "Class Soccer: Recall Difference = -0.09207338179300796\n",
      "Class Ice_Skating: Recall Difference = -0.12004723169771714\n",
      "Class Row_Boat: Recall Difference = -0.03977272727272729\n",
      "Class Aerobics: Recall Difference = 0.0\n",
      "Class Celebration_Or_Party: Recall Difference = 0.0\n",
      "Class Dresses: Recall Difference = -0.023188405797101443\n",
      "Class Rescue: Recall Difference = 0.0\n",
      "Class Angler: Recall Difference = 0.023529411764705882\n",
      "Class Hockey: Recall Difference = 0.009768009768009761\n",
      "Data has been appended to validation0.txt\n",
      "Epoch Number 29, Lambda: 0\n"
     ]
    },
    {
     "name": "stderr",
     "output_type": "stream",
     "text": [
      "100%|███████████████████████████████████████████| 31/31 [01:48<00:00,  3.51s/it]\n"
     ]
    },
    {
     "name": "stdout",
     "output_type": "stream",
     "text": [
      "Average Adversary epoch loss: 0.14239283074294368\n"
     ]
    },
    {
     "name": "stderr",
     "output_type": "stream",
     "text": [
      "100%|███████████████████████████████████████████| 31/31 [01:52<00:00,  3.64s/it]\n",
      "100%|███████████████████████████████████████████| 11/11 [00:19<00:00,  1.79s/it]\n"
     ]
    },
    {
     "name": "stdout",
     "output_type": "stream",
     "text": [
      "*****Epoch 1/300*****\n",
      "*****Train Loss:  0.889236 Val Loss:  1.003451*****\n",
      "*****Validation Accuracy: 17.49%*****\n",
      "*****Total Avg Disparity: 0.06343490200472732*****\n",
      "\n",
      "Class Parade: Recall Difference = 0.03614590199956047\n",
      "Class Handshaking: Recall Difference = 0.0\n",
      "Class Riot: Recall Difference = 0.0\n",
      "Class Dancing: Recall Difference = 0.0\n",
      "Class Funeral: Recall Difference = 0.0\n",
      "Class Cheering: Recall Difference = 0.0\n",
      "Class Meeting: Recall Difference = 0.0\n",
      "Class Stock_Market: Recall Difference = 0.0\n",
      "Class Ceremony: Recall Difference = 0.0\n",
      "Class Concerts: Recall Difference = 0.0\n",
      "Class Couple: Recall Difference = 0.0\n",
      "Class Family_Group: Recall Difference = 0.0\n",
      "Class Picnic: Recall Difference = 0.0\n",
      "Class Soldier_Patrol: Recall Difference = -0.06209150326797388\n",
      "Class Spa: Recall Difference = 0.0\n",
      "Class Sports_Fan: Recall Difference = 0.0\n",
      "Class Surgeons: Recall Difference = 0.0\n",
      "Class Waiter_Waitress: Recall Difference = 0.10892903901544905\n",
      "Class Running: Recall Difference = 0.0\n",
      "Class Basketball: Recall Difference = 0.08082107843137243\n",
      "Class Football: Recall Difference = 0.0\n",
      "Class Soccer: Recall Difference = -0.11007268951194185\n",
      "Class Ice_Skating: Recall Difference = -0.1162424560482811\n",
      "Class Row_Boat: Recall Difference = -0.05227272727272725\n",
      "Class Aerobics: Recall Difference = 0.0\n",
      "Class Celebration_Or_Party: Recall Difference = 0.0\n",
      "Class Dresses: Recall Difference = -0.043188405797101447\n",
      "Class Rescue: Recall Difference = 0.0\n",
      "Class Angler: Recall Difference = 0.011764705882352941\n",
      "Class Hockey: Recall Difference = -0.012820512820512803\n",
      "Data has been appended to validation0.txt\n",
      "Epoch Number 30, Lambda: 0\n"
     ]
    },
    {
     "name": "stderr",
     "output_type": "stream",
     "text": [
      "100%|███████████████████████████████████████████| 31/31 [01:46<00:00,  3.44s/it]\n"
     ]
    },
    {
     "name": "stdout",
     "output_type": "stream",
     "text": [
      "Average Adversary epoch loss: 0.140342615544796\n"
     ]
    },
    {
     "name": "stderr",
     "output_type": "stream",
     "text": [
      "100%|███████████████████████████████████████████| 31/31 [01:52<00:00,  3.61s/it]\n",
      "100%|███████████████████████████████████████████| 11/11 [00:19<00:00,  1.79s/it]\n"
     ]
    },
    {
     "name": "stdout",
     "output_type": "stream",
     "text": [
      "*****Epoch 1/300*****\n",
      "*****Train Loss:  0.890430 Val Loss:  1.004459*****\n",
      "*****Validation Accuracy: 17.61%*****\n",
      "*****Total Avg Disparity: 0.06360363543177974*****\n",
      "\n",
      "Class Parade: Recall Difference = 0.029389145242803782\n",
      "Class Handshaking: Recall Difference = 0.0\n",
      "Class Riot: Recall Difference = 0.0\n",
      "Class Dancing: Recall Difference = 0.0\n",
      "Class Funeral: Recall Difference = 0.0\n",
      "Class Cheering: Recall Difference = 0.0\n",
      "Class Meeting: Recall Difference = 0.0\n",
      "Class Stock_Market: Recall Difference = 0.0\n",
      "Class Ceremony: Recall Difference = 0.0\n",
      "Class Concerts: Recall Difference = 0.0\n",
      "Class Couple: Recall Difference = 0.0\n",
      "Class Family_Group: Recall Difference = 0.0\n",
      "Class Picnic: Recall Difference = 0.0\n",
      "Class Soldier_Patrol: Recall Difference = -0.05098039215686276\n",
      "Class Spa: Recall Difference = 0.0\n",
      "Class Sports_Fan: Recall Difference = 0.0\n",
      "Class Surgeons: Recall Difference = 0.0\n",
      "Class Waiter_Waitress: Recall Difference = 0.11154752553024352\n",
      "Class Running: Recall Difference = 0.0\n",
      "Class Basketball: Recall Difference = 0.06519607843137243\n",
      "Class Football: Recall Difference = 0.0\n",
      "Class Soccer: Recall Difference = -0.09138110072689512\n",
      "Class Ice_Skating: Recall Difference = -0.12595119391235876\n",
      "Class Row_Boat: Recall Difference = -0.027272727272727254\n",
      "Class Aerobics: Recall Difference = 0.0\n",
      "Class Celebration_Or_Party: Recall Difference = 0.0\n",
      "Class Dresses: Recall Difference = -0.043188405797101447\n",
      "Class Rescue: Recall Difference = 0.0\n",
      "Class Angler: Recall Difference = 0.011764705882352941\n",
      "Class Hockey: Recall Difference = -0.07936507936507939\n",
      "Data has been appended to validation0.txt\n",
      "Epoch Number 31, Lambda: 0\n"
     ]
    },
    {
     "name": "stderr",
     "output_type": "stream",
     "text": [
      "100%|███████████████████████████████████████████| 31/31 [01:48<00:00,  3.49s/it]\n"
     ]
    },
    {
     "name": "stdout",
     "output_type": "stream",
     "text": [
      "Average Adversary epoch loss: 0.1410666843575816\n"
     ]
    },
    {
     "name": "stderr",
     "output_type": "stream",
     "text": [
      "100%|███████████████████████████████████████████| 31/31 [01:50<00:00,  3.56s/it]\n",
      "100%|███████████████████████████████████████████| 11/11 [00:19<00:00,  1.81s/it]\n"
     ]
    },
    {
     "name": "stdout",
     "output_type": "stream",
     "text": [
      "*****Epoch 1/300*****\n",
      "*****Train Loss:  0.887823 Val Loss:  1.003403*****\n",
      "*****Validation Accuracy: 17.43%*****\n",
      "*****Total Avg Disparity: 0.06080017286171816*****\n",
      "\n",
      "Class Parade: Recall Difference = 0.02125906394199073\n",
      "Class Handshaking: Recall Difference = 0.0\n",
      "Class Riot: Recall Difference = 0.0\n",
      "Class Dancing: Recall Difference = 0.0\n",
      "Class Funeral: Recall Difference = 0.0\n",
      "Class Cheering: Recall Difference = 0.0\n",
      "Class Meeting: Recall Difference = 0.0\n",
      "Class Stock_Market: Recall Difference = 0.0\n",
      "Class Ceremony: Recall Difference = 0.0\n",
      "Class Concerts: Recall Difference = 0.0\n",
      "Class Couple: Recall Difference = 0.0\n",
      "Class Family_Group: Recall Difference = 0.0\n",
      "Class Picnic: Recall Difference = 0.0\n",
      "Class Soldier_Patrol: Recall Difference = -0.039869281045751645\n",
      "Class Spa: Recall Difference = 0.0\n",
      "Class Sports_Fan: Recall Difference = 0.0\n",
      "Class Surgeons: Recall Difference = 0.0\n",
      "Class Waiter_Waitress: Recall Difference = 0.11154752553024352\n",
      "Class Running: Recall Difference = 0.0\n",
      "Class Basketball: Recall Difference = 0.06513480392156856\n",
      "Class Football: Recall Difference = 0.0\n",
      "Class Soccer: Recall Difference = -0.08203530633437178\n",
      "Class Ice_Skating: Recall Difference = -0.13946470742587236\n",
      "Class Row_Boat: Recall Difference = -0.05227272727272725\n",
      "Class Aerobics: Recall Difference = 0.0\n",
      "Class Celebration_Or_Party: Recall Difference = 0.0\n",
      "Class Dresses: Recall Difference = -0.0498550724637681\n",
      "Class Rescue: Recall Difference = 0.0\n",
      "Class Angler: Recall Difference = 0.011764705882352941\n",
      "Class Hockey: Recall Difference = -0.034798534798534786\n",
      "Data has been appended to validation0.txt\n",
      "Epoch Number 32, Lambda: 0\n"
     ]
    },
    {
     "name": "stderr",
     "output_type": "stream",
     "text": [
      "100%|███████████████████████████████████████████| 31/31 [01:48<00:00,  3.51s/it]\n"
     ]
    },
    {
     "name": "stdout",
     "output_type": "stream",
     "text": [
      "Average Adversary epoch loss: 0.13892614673222264\n"
     ]
    },
    {
     "name": "stderr",
     "output_type": "stream",
     "text": [
      "100%|███████████████████████████████████████████| 31/31 [01:50<00:00,  3.57s/it]\n",
      "100%|███████████████████████████████████████████| 11/11 [00:19<00:00,  1.80s/it]\n"
     ]
    },
    {
     "name": "stdout",
     "output_type": "stream",
     "text": [
      "*****Epoch 1/300*****\n",
      "*****Train Loss:  0.883339 Val Loss:  1.002942*****\n",
      "*****Validation Accuracy: 17.43%*****\n",
      "*****Total Avg Disparity: 0.07068472600988251*****\n",
      "\n",
      "Class Parade: Recall Difference = 0.029389145242803782\n",
      "Class Handshaking: Recall Difference = 0.0\n",
      "Class Riot: Recall Difference = 0.0\n",
      "Class Dancing: Recall Difference = 0.0\n",
      "Class Funeral: Recall Difference = 0.0\n",
      "Class Cheering: Recall Difference = 0.0\n",
      "Class Meeting: Recall Difference = 0.0\n",
      "Class Stock_Market: Recall Difference = 0.0\n",
      "Class Ceremony: Recall Difference = 0.0\n",
      "Class Concerts: Recall Difference = 0.0\n",
      "Class Couple: Recall Difference = 0.0\n",
      "Class Family_Group: Recall Difference = 0.0\n",
      "Class Picnic: Recall Difference = 0.0\n",
      "Class Soldier_Patrol: Recall Difference = -0.05098039215686276\n",
      "Class Spa: Recall Difference = 0.0\n",
      "Class Sports_Fan: Recall Difference = 0.0\n",
      "Class Surgeons: Recall Difference = 0.0\n",
      "Class Waiter_Waitress: Recall Difference = 0.12647289866457187\n",
      "Class Running: Recall Difference = 0.0\n",
      "Class Basketball: Recall Difference = 0.0729779411764705\n",
      "Class Football: Recall Difference = 0.0\n",
      "Class Soccer: Recall Difference = -0.08203530633437178\n",
      "Class Ice_Skating: Recall Difference = -0.1297559695617947\n",
      "Class Row_Boat: Recall Difference = -0.05227272727272725\n",
      "Class Aerobics: Recall Difference = 0.0\n",
      "Class Celebration_Or_Party: Recall Difference = 0.0\n",
      "Class Dresses: Recall Difference = -0.0498550724637681\n",
      "Class Rescue: Recall Difference = 0.0\n",
      "Class Angler: Recall Difference = 0.011764705882352941\n",
      "Class Hockey: Recall Difference = -0.10134310134310137\n",
      "Data has been appended to validation0.txt\n",
      "Epoch Number 33, Lambda: 0\n"
     ]
    },
    {
     "name": "stderr",
     "output_type": "stream",
     "text": [
      "100%|███████████████████████████████████████████| 31/31 [01:47<00:00,  3.46s/it]\n"
     ]
    },
    {
     "name": "stdout",
     "output_type": "stream",
     "text": [
      "Average Adversary epoch loss: 0.14143621609095605\n"
     ]
    },
    {
     "name": "stderr",
     "output_type": "stream",
     "text": [
      "100%|███████████████████████████████████████████| 31/31 [01:49<00:00,  3.54s/it]\n",
      "100%|███████████████████████████████████████████| 11/11 [00:19<00:00,  1.79s/it]\n"
     ]
    },
    {
     "name": "stdout",
     "output_type": "stream",
     "text": [
      "*****Epoch 1/300*****\n",
      "*****Train Loss:  0.886080 Val Loss:  1.002236*****\n",
      "*****Validation Accuracy: 17.55%*****\n",
      "*****Total Avg Disparity: 0.07027653589498842*****\n",
      "\n",
      "Class Parade: Recall Difference = 0.02125906394199073\n",
      "Class Handshaking: Recall Difference = 0.0\n",
      "Class Riot: Recall Difference = 0.0\n",
      "Class Dancing: Recall Difference = 0.0\n",
      "Class Funeral: Recall Difference = 0.0\n",
      "Class Cheering: Recall Difference = 0.0\n",
      "Class Meeting: Recall Difference = 0.0\n",
      "Class Stock_Market: Recall Difference = 0.0\n",
      "Class Ceremony: Recall Difference = 0.0\n",
      "Class Concerts: Recall Difference = 0.0\n",
      "Class Couple: Recall Difference = 0.0\n",
      "Class Family_Group: Recall Difference = 0.0\n",
      "Class Picnic: Recall Difference = 0.0\n",
      "Class Soldier_Patrol: Recall Difference = -0.05098039215686276\n",
      "Class Spa: Recall Difference = 0.0\n",
      "Class Sports_Fan: Recall Difference = 0.0\n",
      "Class Surgeons: Recall Difference = 0.0\n",
      "Class Waiter_Waitress: Recall Difference = 0.12385441214977742\n",
      "Class Running: Recall Difference = 0.0\n",
      "Class Basketball: Recall Difference = 0.07297794117647038\n",
      "Class Football: Recall Difference = 0.0\n",
      "Class Soccer: Recall Difference = -0.08203530633437181\n",
      "Class Ice_Skating: Recall Difference = -0.1297559695617947\n",
      "Class Row_Boat: Recall Difference = -0.05227272727272725\n",
      "Class Aerobics: Recall Difference = 0.0\n",
      "Class Celebration_Or_Party: Recall Difference = 0.0\n",
      "Class Dresses: Recall Difference = -0.05652173913043477\n",
      "Class Rescue: Recall Difference = 0.0\n",
      "Class Angler: Recall Difference = 0.011764705882352941\n",
      "Class Hockey: Recall Difference = -0.10134310134310137\n",
      "Data has been appended to validation0.txt\n",
      "Epoch Number 34, Lambda: 0\n"
     ]
    },
    {
     "name": "stderr",
     "output_type": "stream",
     "text": [
      "100%|███████████████████████████████████████████| 31/31 [01:48<00:00,  3.49s/it]\n"
     ]
    },
    {
     "name": "stdout",
     "output_type": "stream",
     "text": [
      "Average Adversary epoch loss: 0.13768078843432088\n"
     ]
    },
    {
     "name": "stderr",
     "output_type": "stream",
     "text": [
      "100%|███████████████████████████████████████████| 31/31 [01:52<00:00,  3.63s/it]\n",
      "100%|███████████████████████████████████████████| 11/11 [00:19<00:00,  1.81s/it]\n"
     ]
    },
    {
     "name": "stdout",
     "output_type": "stream",
     "text": [
      "*****Epoch 1/300*****\n",
      "*****Train Loss:  0.882706 Val Loss:  1.001956*****\n",
      "*****Validation Accuracy: 17.61%*****\n",
      "*****Total Avg Disparity: 0.06276055621614787*****\n",
      "\n",
      "Class Parade: Recall Difference = 0.029389145242803782\n",
      "Class Handshaking: Recall Difference = 0.0\n",
      "Class Riot: Recall Difference = 0.0\n",
      "Class Dancing: Recall Difference = 0.0\n",
      "Class Funeral: Recall Difference = 0.0\n",
      "Class Cheering: Recall Difference = 0.0\n",
      "Class Meeting: Recall Difference = 0.0\n",
      "Class Stock_Market: Recall Difference = 0.0\n",
      "Class Ceremony: Recall Difference = 0.0\n",
      "Class Concerts: Recall Difference = 0.0\n",
      "Class Couple: Recall Difference = 0.0\n",
      "Class Family_Group: Recall Difference = 0.0\n",
      "Class Picnic: Recall Difference = 0.0\n",
      "Class Soldier_Patrol: Recall Difference = -0.05098039215686276\n",
      "Class Spa: Recall Difference = 0.0\n",
      "Class Sports_Fan: Recall Difference = 0.0\n",
      "Class Surgeons: Recall Difference = 0.0\n",
      "Class Waiter_Waitress: Recall Difference = 0.12385441214977742\n",
      "Class Running: Recall Difference = 0.0\n",
      "Class Basketball: Recall Difference = 0.06905637254901953\n",
      "Class Football: Recall Difference = 0.0\n",
      "Class Soccer: Recall Difference = -0.10038075458636206\n",
      "Class Ice_Skating: Recall Difference = -0.1162424560482811\n",
      "Class Row_Boat: Recall Difference = -0.05227272727272725\n",
      "Class Aerobics: Recall Difference = 0.0\n",
      "Class Celebration_Or_Party: Recall Difference = 0.0\n",
      "Class Dresses: Recall Difference = -0.0498550724637681\n",
      "Class Rescue: Recall Difference = 0.0\n",
      "Class Angler: Recall Difference = 0.011764705882352941\n",
      "Class Hockey: Recall Difference = -0.023809523809523808\n",
      "Data has been appended to validation0.txt\n",
      "Epoch Number 35, Lambda: 0\n"
     ]
    },
    {
     "name": "stderr",
     "output_type": "stream",
     "text": [
      "100%|███████████████████████████████████████████| 31/31 [01:47<00:00,  3.48s/it]\n"
     ]
    },
    {
     "name": "stdout",
     "output_type": "stream",
     "text": [
      "Average Adversary epoch loss: 0.13367463359909673\n"
     ]
    },
    {
     "name": "stderr",
     "output_type": "stream",
     "text": [
      "100%|███████████████████████████████████████████| 31/31 [01:52<00:00,  3.61s/it]\n",
      "100%|███████████████████████████████████████████| 11/11 [00:19<00:00,  1.77s/it]\n"
     ]
    },
    {
     "name": "stdout",
     "output_type": "stream",
     "text": [
      "*****Epoch 1/300*****\n",
      "*****Train Loss:  0.885528 Val Loss:  1.001799*****\n",
      "*****Validation Accuracy: 17.67%*****\n",
      "*****Total Avg Disparity: 0.06963211741327749*****\n",
      "\n",
      "Class Parade: Recall Difference = 0.029389145242803782\n",
      "Class Handshaking: Recall Difference = 0.0\n",
      "Class Riot: Recall Difference = 0.0\n",
      "Class Dancing: Recall Difference = 0.0\n",
      "Class Funeral: Recall Difference = 0.0\n",
      "Class Cheering: Recall Difference = 0.0\n",
      "Class Meeting: Recall Difference = 0.0\n",
      "Class Stock_Market: Recall Difference = 0.0\n",
      "Class Ceremony: Recall Difference = 0.0\n",
      "Class Concerts: Recall Difference = 0.0\n",
      "Class Couple: Recall Difference = 0.0\n",
      "Class Family_Group: Recall Difference = 0.0\n",
      "Class Picnic: Recall Difference = 0.0\n",
      "Class Soldier_Patrol: Recall Difference = -0.039869281045751645\n",
      "Class Spa: Recall Difference = 0.0\n",
      "Class Sports_Fan: Recall Difference = 0.0\n",
      "Class Surgeons: Recall Difference = 0.0\n",
      "Class Waiter_Waitress: Recall Difference = 0.13877978528410578\n",
      "Class Running: Recall Difference = 0.0\n",
      "Class Basketball: Recall Difference = 0.06905637254901953\n",
      "Class Football: Recall Difference = 0.0\n",
      "Class Soccer: Recall Difference = -0.10972654897888542\n",
      "Class Ice_Skating: Recall Difference = -0.1162424560482811\n",
      "Class Row_Boat: Recall Difference = -0.05227272727272725\n",
      "Class Aerobics: Recall Difference = 0.0\n",
      "Class Celebration_Or_Party: Recall Difference = 0.0\n",
      "Class Dresses: Recall Difference = -0.0498550724637681\n",
      "Class Rescue: Recall Difference = 0.0\n",
      "Class Angler: Recall Difference = 0.011764705882352941\n",
      "Class Hockey: Recall Difference = -0.07936507936507939\n",
      "Data has been appended to validation0.txt\n",
      "Epoch Number 36, Lambda: 0\n"
     ]
    },
    {
     "name": "stderr",
     "output_type": "stream",
     "text": [
      "100%|███████████████████████████████████████████| 31/31 [01:46<00:00,  3.44s/it]\n"
     ]
    },
    {
     "name": "stdout",
     "output_type": "stream",
     "text": [
      "Average Adversary epoch loss: 0.13233130449248898\n"
     ]
    },
    {
     "name": "stderr",
     "output_type": "stream",
     "text": [
      "100%|███████████████████████████████████████████| 31/31 [01:52<00:00,  3.62s/it]\n",
      "100%|███████████████████████████████████████████| 11/11 [00:19<00:00,  1.81s/it]\n"
     ]
    },
    {
     "name": "stdout",
     "output_type": "stream",
     "text": [
      "*****Epoch 1/300*****\n",
      "*****Train Loss:  0.886657 Val Loss:  1.001687*****\n",
      "*****Validation Accuracy: 17.67%*****\n",
      "*****Total Avg Disparity: 0.07010974925661712*****\n",
      "\n",
      "Class Parade: Recall Difference = 0.02125906394199073\n",
      "Class Handshaking: Recall Difference = 0.0\n",
      "Class Riot: Recall Difference = 0.0\n",
      "Class Dancing: Recall Difference = 0.0\n",
      "Class Funeral: Recall Difference = 0.0\n",
      "Class Cheering: Recall Difference = 0.0\n",
      "Class Meeting: Recall Difference = 0.0\n",
      "Class Stock_Market: Recall Difference = 0.0\n",
      "Class Ceremony: Recall Difference = 0.0\n",
      "Class Concerts: Recall Difference = 0.0\n",
      "Class Couple: Recall Difference = 0.0\n",
      "Class Family_Group: Recall Difference = 0.0\n",
      "Class Picnic: Recall Difference = 0.0\n",
      "Class Soldier_Patrol: Recall Difference = -0.05098039215686276\n",
      "Class Spa: Recall Difference = 0.0\n",
      "Class Sports_Fan: Recall Difference = 0.0\n",
      "Class Surgeons: Recall Difference = 0.0\n",
      "Class Waiter_Waitress: Recall Difference = 0.12385441214977742\n",
      "Class Running: Recall Difference = 0.0\n",
      "Class Basketball: Recall Difference = 0.06127450980392146\n",
      "Class Football: Recall Difference = 0.0\n",
      "Class Soccer: Recall Difference = -0.10972654897888542\n",
      "Class Ice_Skating: Recall Difference = -0.1297559695617947\n",
      "Class Row_Boat: Recall Difference = -0.05227272727272725\n",
      "Class Aerobics: Recall Difference = 0.0\n",
      "Class Celebration_Or_Party: Recall Difference = 0.0\n",
      "Class Dresses: Recall Difference = -0.0498550724637681\n",
      "Class Rescue: Recall Difference = 0.0\n",
      "Class Angler: Recall Difference = 0.011764705882352941\n",
      "Class Hockey: Recall Difference = -0.09035409035409037\n",
      "Data has been appended to validation0.txt\n",
      "Epoch Number 37, Lambda: 0\n"
     ]
    },
    {
     "name": "stderr",
     "output_type": "stream",
     "text": [
      "100%|███████████████████████████████████████████| 31/31 [01:47<00:00,  3.47s/it]\n"
     ]
    },
    {
     "name": "stdout",
     "output_type": "stream",
     "text": [
      "Average Adversary epoch loss: 0.1332020245252117\n"
     ]
    },
    {
     "name": "stderr",
     "output_type": "stream",
     "text": [
      "100%|███████████████████████████████████████████| 31/31 [01:51<00:00,  3.59s/it]\n",
      "100%|███████████████████████████████████████████| 11/11 [00:19<00:00,  1.81s/it]\n"
     ]
    },
    {
     "name": "stdout",
     "output_type": "stream",
     "text": [
      "*****Epoch 1/300*****\n",
      "*****Train Loss:  0.881658 Val Loss:  1.000499*****\n",
      "*****Validation Accuracy: 17.78%*****\n",
      "*****Total Avg Disparity: 0.06531796259626206*****\n",
      "\n",
      "Class Parade: Recall Difference = 0.02125906394199084\n",
      "Class Handshaking: Recall Difference = 0.0\n",
      "Class Riot: Recall Difference = 0.0\n",
      "Class Dancing: Recall Difference = 0.0\n",
      "Class Funeral: Recall Difference = 0.0\n",
      "Class Cheering: Recall Difference = 0.0\n",
      "Class Meeting: Recall Difference = 0.0\n",
      "Class Stock_Market: Recall Difference = 0.0\n",
      "Class Ceremony: Recall Difference = 0.0\n",
      "Class Concerts: Recall Difference = 0.0\n",
      "Class Couple: Recall Difference = 0.0\n",
      "Class Family_Group: Recall Difference = 0.0\n",
      "Class Picnic: Recall Difference = 0.0\n",
      "Class Soldier_Patrol: Recall Difference = -0.05098039215686276\n",
      "Class Spa: Recall Difference = 0.0\n",
      "Class Sports_Fan: Recall Difference = 0.0\n",
      "Class Surgeons: Recall Difference = 0.0\n",
      "Class Waiter_Waitress: Recall Difference = 0.12123592563498298\n",
      "Class Running: Recall Difference = 0.0\n",
      "Class Basketball: Recall Difference = 0.06513480392156856\n",
      "Class Football: Recall Difference = 0.0\n",
      "Class Soccer: Recall Difference = -0.10038075458636203\n",
      "Class Ice_Skating: Recall Difference = -0.1162424560482811\n",
      "Class Row_Boat: Recall Difference = -0.05227272727272725\n",
      "Class Aerobics: Recall Difference = 0.0\n",
      "Class Celebration_Or_Party: Recall Difference = 0.0\n",
      "Class Dresses: Recall Difference = -0.05652173913043478\n",
      "Class Rescue: Recall Difference = 0.0\n",
      "Class Angler: Recall Difference = 0.011764705882352941\n",
      "Class Hockey: Recall Difference = -0.05738705738705743\n",
      "Data has been appended to validation0.txt\n",
      "Epoch Number 38, Lambda: 0\n"
     ]
    },
    {
     "name": "stderr",
     "output_type": "stream",
     "text": [
      "100%|███████████████████████████████████████████| 31/31 [01:46<00:00,  3.45s/it]\n"
     ]
    },
    {
     "name": "stdout",
     "output_type": "stream",
     "text": [
      "Average Adversary epoch loss: 0.1349434280587781\n"
     ]
    },
    {
     "name": "stderr",
     "output_type": "stream",
     "text": [
      "100%|███████████████████████████████████████████| 31/31 [01:51<00:00,  3.61s/it]\n",
      "100%|███████████████████████████████████████████| 11/11 [00:19<00:00,  1.79s/it]\n"
     ]
    },
    {
     "name": "stdout",
     "output_type": "stream",
     "text": [
      "*****Epoch 1/300*****\n",
      "*****Train Loss:  0.884964 Val Loss:  1.000785*****\n",
      "*****Validation Accuracy: 17.64%*****\n",
      "*****Total Avg Disparity: 0.06530552516463188*****\n",
      "\n",
      "Class Parade: Recall Difference = 0.02125906394199073\n",
      "Class Handshaking: Recall Difference = 0.0\n",
      "Class Riot: Recall Difference = 0.0\n",
      "Class Dancing: Recall Difference = 0.0\n",
      "Class Funeral: Recall Difference = 0.0\n",
      "Class Cheering: Recall Difference = 0.0\n",
      "Class Meeting: Recall Difference = 0.0\n",
      "Class Stock_Market: Recall Difference = 0.0\n",
      "Class Ceremony: Recall Difference = 0.0\n",
      "Class Concerts: Recall Difference = 0.0\n",
      "Class Couple: Recall Difference = 0.0\n",
      "Class Family_Group: Recall Difference = 0.0\n",
      "Class Picnic: Recall Difference = 0.0\n",
      "Class Soldier_Patrol: Recall Difference = -0.05098039215686276\n",
      "Class Spa: Recall Difference = 0.0\n",
      "Class Sports_Fan: Recall Difference = 0.0\n",
      "Class Surgeons: Recall Difference = 0.0\n",
      "Class Waiter_Waitress: Recall Difference = 0.12385441214977742\n",
      "Class Running: Recall Difference = 0.0\n",
      "Class Basketball: Recall Difference = 0.07297794117647038\n",
      "Class Football: Recall Difference = 0.0\n",
      "Class Soccer: Recall Difference = -0.10038075458636206\n",
      "Class Ice_Skating: Recall Difference = -0.1297559695617947\n",
      "Class Row_Boat: Recall Difference = -0.039772727272727265\n",
      "Class Aerobics: Recall Difference = 0.0\n",
      "Class Celebration_Or_Party: Recall Difference = 0.0\n",
      "Class Dresses: Recall Difference = -0.05652173913043477\n",
      "Class Rescue: Recall Difference = 0.0\n",
      "Class Angler: Recall Difference = 0.011764705882352941\n",
      "Class Hockey: Recall Difference = -0.04578754578754579\n",
      "Data has been appended to validation0.txt\n",
      "Epoch Number 39, Lambda: 0\n"
     ]
    },
    {
     "name": "stderr",
     "output_type": "stream",
     "text": [
      "100%|███████████████████████████████████████████| 31/31 [01:47<00:00,  3.46s/it]\n"
     ]
    },
    {
     "name": "stdout",
     "output_type": "stream",
     "text": [
      "Average Adversary epoch loss: 0.1322749141723879\n"
     ]
    },
    {
     "name": "stderr",
     "output_type": "stream",
     "text": [
      "100%|███████████████████████████████████████████| 31/31 [01:52<00:00,  3.63s/it]\n",
      "100%|███████████████████████████████████████████| 11/11 [00:19<00:00,  1.81s/it]\n"
     ]
    },
    {
     "name": "stdout",
     "output_type": "stream",
     "text": [
      "*****Epoch 1/300*****\n",
      "*****Train Loss:  0.884401 Val Loss:  1.000385*****\n",
      "*****Validation Accuracy: 17.75%*****\n",
      "*****Total Avg Disparity: 0.07313691901277064*****\n",
      "\n",
      "Class Parade: Recall Difference = 0.02125906394199084\n",
      "Class Handshaking: Recall Difference = 0.0\n",
      "Class Riot: Recall Difference = 0.0\n",
      "Class Dancing: Recall Difference = 0.0\n",
      "Class Funeral: Recall Difference = 0.0\n",
      "Class Cheering: Recall Difference = 0.0\n",
      "Class Meeting: Recall Difference = 0.0\n",
      "Class Stock_Market: Recall Difference = 0.0\n",
      "Class Ceremony: Recall Difference = 0.0\n",
      "Class Concerts: Recall Difference = 0.0\n",
      "Class Couple: Recall Difference = 0.0\n",
      "Class Family_Group: Recall Difference = 0.0\n",
      "Class Picnic: Recall Difference = 0.0\n",
      "Class Soldier_Patrol: Recall Difference = -0.06209150326797388\n",
      "Class Spa: Recall Difference = 0.0\n",
      "Class Sports_Fan: Recall Difference = 0.0\n",
      "Class Surgeons: Recall Difference = 0.0\n",
      "Class Waiter_Waitress: Recall Difference = 0.13877978528410578\n",
      "Class Running: Recall Difference = 0.0\n",
      "Class Basketball: Recall Difference = 0.08082107843137254\n",
      "Class Football: Recall Difference = 0.0\n",
      "Class Soccer: Recall Difference = -0.10972654897888542\n",
      "Class Ice_Skating: Recall Difference = -0.1297559695617947\n",
      "Class Row_Boat: Recall Difference = -0.05227272727272725\n",
      "Class Aerobics: Recall Difference = 0.0\n",
      "Class Celebration_Or_Party: Recall Difference = 0.0\n",
      "Class Dresses: Recall Difference = -0.05652173913043477\n",
      "Class Rescue: Recall Difference = 0.0\n",
      "Class Angler: Recall Difference = 0.011764705882352941\n",
      "Class Hockey: Recall Difference = -0.06837606837606838\n",
      "Data has been appended to validation0.txt\n",
      "Epoch Number 40, Lambda: 0\n"
     ]
    },
    {
     "name": "stderr",
     "output_type": "stream",
     "text": [
      "100%|███████████████████████████████████████████| 31/31 [01:47<00:00,  3.46s/it]\n"
     ]
    },
    {
     "name": "stdout",
     "output_type": "stream",
     "text": [
      "Average Adversary epoch loss: 0.13198598978980894\n"
     ]
    },
    {
     "name": "stderr",
     "output_type": "stream",
     "text": [
      "100%|███████████████████████████████████████████| 31/31 [01:53<00:00,  3.65s/it]\n",
      "100%|███████████████████████████████████████████| 11/11 [00:19<00:00,  1.77s/it]\n"
     ]
    },
    {
     "name": "stdout",
     "output_type": "stream",
     "text": [
      "*****Epoch 1/300*****\n",
      "*****Train Loss:  0.886270 Val Loss:  1.000118*****\n",
      "*****Validation Accuracy: 17.87%*****\n",
      "*****Total Avg Disparity: 0.07039983851930469*****\n",
      "\n",
      "Class Parade: Recall Difference = 0.02125906394199073\n",
      "Class Handshaking: Recall Difference = 0.0\n",
      "Class Riot: Recall Difference = 0.0\n",
      "Class Dancing: Recall Difference = 0.0\n",
      "Class Funeral: Recall Difference = 0.0\n",
      "Class Cheering: Recall Difference = 0.0\n",
      "Class Meeting: Recall Difference = 0.0\n",
      "Class Stock_Market: Recall Difference = 0.0\n",
      "Class Ceremony: Recall Difference = 0.0\n",
      "Class Concerts: Recall Difference = 0.0\n",
      "Class Couple: Recall Difference = 0.0\n",
      "Class Family_Group: Recall Difference = 0.0\n",
      "Class Picnic: Recall Difference = 0.0\n",
      "Class Soldier_Patrol: Recall Difference = -0.039869281045751645\n",
      "Class Spa: Recall Difference = 0.0\n",
      "Class Sports_Fan: Recall Difference = 0.0\n",
      "Class Surgeons: Recall Difference = 0.0\n",
      "Class Waiter_Waitress: Recall Difference = 0.1563236449332286\n",
      "Class Running: Recall Difference = 0.0\n",
      "Class Basketball: Recall Difference = 0.0691176470588234\n",
      "Class Football: Recall Difference = 0.0\n",
      "Class Soccer: Recall Difference = -0.10972654897888542\n",
      "Class Ice_Skating: Recall Difference = -0.1297559695617947\n",
      "Class Row_Boat: Recall Difference = -0.05227272727272725\n",
      "Class Aerobics: Recall Difference = 0.0\n",
      "Class Celebration_Or_Party: Recall Difference = 0.0\n",
      "Class Dresses: Recall Difference = -0.05652173913043478\n",
      "Class Rescue: Recall Difference = 0.0\n",
      "Class Angler: Recall Difference = 0.011764705882352941\n",
      "Class Hockey: Recall Difference = -0.05738705738705743\n",
      "Data has been appended to validation0.txt\n",
      "Epoch Number 41, Lambda: 0\n"
     ]
    },
    {
     "name": "stderr",
     "output_type": "stream",
     "text": [
      "100%|███████████████████████████████████████████| 31/31 [01:47<00:00,  3.47s/it]\n"
     ]
    },
    {
     "name": "stdout",
     "output_type": "stream",
     "text": [
      "Average Adversary epoch loss: 0.1302273609945851\n"
     ]
    },
    {
     "name": "stderr",
     "output_type": "stream",
     "text": [
      "100%|███████████████████████████████████████████| 31/31 [01:51<00:00,  3.59s/it]\n",
      "100%|███████████████████████████████████████████| 11/11 [00:19<00:00,  1.80s/it]\n"
     ]
    },
    {
     "name": "stdout",
     "output_type": "stream",
     "text": [
      "*****Epoch 1/300*****\n",
      "*****Train Loss:  0.884511 Val Loss:  0.999419*****\n",
      "*****Validation Accuracy: 17.75%*****\n",
      "*****Total Avg Disparity: 0.06340716245101832*****\n",
      "\n",
      "Class Parade: Recall Difference = 0.029389145242803782\n",
      "Class Handshaking: Recall Difference = 0.0\n",
      "Class Riot: Recall Difference = 0.0\n",
      "Class Dancing: Recall Difference = 0.0\n",
      "Class Funeral: Recall Difference = 0.0\n",
      "Class Cheering: Recall Difference = 0.0\n",
      "Class Meeting: Recall Difference = 0.0\n",
      "Class Stock_Market: Recall Difference = 0.0\n",
      "Class Ceremony: Recall Difference = 0.0\n",
      "Class Concerts: Recall Difference = 0.0\n",
      "Class Couple: Recall Difference = 0.0\n",
      "Class Family_Group: Recall Difference = 0.0\n",
      "Class Picnic: Recall Difference = 0.0\n",
      "Class Soldier_Patrol: Recall Difference = 0.018954248366013067\n",
      "Class Spa: Recall Difference = 0.0\n",
      "Class Sports_Fan: Recall Difference = 0.0\n",
      "Class Surgeons: Recall Difference = 0.0\n",
      "Class Waiter_Waitress: Recall Difference = 0.10631055250065463\n",
      "Class Running: Recall Difference = 0.0\n",
      "Class Basketball: Recall Difference = 0.0729779411764705\n",
      "Class Football: Recall Difference = 0.0\n",
      "Class Soccer: Recall Difference = -0.10972654897888542\n",
      "Class Ice_Skating: Recall Difference = -0.1297559695617947\n",
      "Class Row_Boat: Recall Difference = -0.05227272727272725\n",
      "Class Aerobics: Recall Difference = 0.0\n",
      "Class Celebration_Or_Party: Recall Difference = 0.0\n",
      "Class Dresses: Recall Difference = -0.05652173913043477\n",
      "Class Rescue: Recall Difference = 0.0\n",
      "Class Angler: Recall Difference = 0.011764705882352941\n",
      "Class Hockey: Recall Difference = -0.04639804639804637\n",
      "Data has been appended to validation0.txt\n",
      "Epoch Number 42, Lambda: 0\n"
     ]
    },
    {
     "name": "stderr",
     "output_type": "stream",
     "text": [
      "100%|███████████████████████████████████████████| 31/31 [01:48<00:00,  3.50s/it]\n"
     ]
    },
    {
     "name": "stdout",
     "output_type": "stream",
     "text": [
      "Average Adversary epoch loss: 0.13110952704183518\n"
     ]
    },
    {
     "name": "stderr",
     "output_type": "stream",
     "text": [
      "100%|███████████████████████████████████████████| 31/31 [01:50<00:00,  3.58s/it]\n",
      "100%|███████████████████████████████████████████| 11/11 [00:19<00:00,  1.81s/it]\n"
     ]
    },
    {
     "name": "stdout",
     "output_type": "stream",
     "text": [
      "*****Epoch 1/300*****\n",
      "*****Train Loss:  0.883173 Val Loss:  0.999252*****\n",
      "*****Validation Accuracy: 17.93%*****\n",
      "*****Total Avg Disparity: 0.0733589923908686*****\n",
      "\n",
      "Class Parade: Recall Difference = 0.029389145242803782\n",
      "Class Handshaking: Recall Difference = 0.0\n",
      "Class Riot: Recall Difference = 0.0\n",
      "Class Dancing: Recall Difference = 0.0\n",
      "Class Funeral: Recall Difference = 0.0\n",
      "Class Cheering: Recall Difference = 0.0\n",
      "Class Meeting: Recall Difference = 0.0\n",
      "Class Stock_Market: Recall Difference = 0.0\n",
      "Class Ceremony: Recall Difference = 0.0\n",
      "Class Concerts: Recall Difference = 0.0\n",
      "Class Couple: Recall Difference = 0.0\n",
      "Class Family_Group: Recall Difference = 0.0\n",
      "Class Picnic: Recall Difference = 0.0\n",
      "Class Soldier_Patrol: Recall Difference = -0.02875816993464053\n",
      "Class Spa: Recall Difference = 0.0\n",
      "Class Sports_Fan: Recall Difference = 0.0\n",
      "Class Surgeons: Recall Difference = 0.0\n",
      "Class Waiter_Waitress: Recall Difference = 0.12123592563498298\n",
      "Class Running: Recall Difference = 0.0\n",
      "Class Basketball: Recall Difference = 0.0729779411764705\n",
      "Class Football: Recall Difference = 0.0\n",
      "Class Soccer: Recall Difference = -0.12807199723087573\n",
      "Class Ice_Skating: Recall Difference = -0.1297559695617947\n",
      "Class Row_Boat: Recall Difference = -0.09772727272727272\n",
      "Class Aerobics: Recall Difference = 0.0\n",
      "Class Celebration_Or_Party: Recall Difference = 0.0\n",
      "Class Dresses: Recall Difference = -0.05652173913043477\n",
      "Class Rescue: Recall Difference = 0.0\n",
      "Class Angler: Recall Difference = 0.011764705882352941\n",
      "Class Hockey: Recall Difference = -0.05738705738705743\n",
      "Data has been appended to validation0.txt\n",
      "Epoch Number 43, Lambda: 0\n"
     ]
    },
    {
     "name": "stderr",
     "output_type": "stream",
     "text": [
      "100%|███████████████████████████████████████████| 31/31 [01:47<00:00,  3.46s/it]\n"
     ]
    },
    {
     "name": "stdout",
     "output_type": "stream",
     "text": [
      "Average Adversary epoch loss: 0.1295713558793068\n"
     ]
    },
    {
     "name": "stderr",
     "output_type": "stream",
     "text": [
      "100%|███████████████████████████████████████████| 31/31 [01:52<00:00,  3.61s/it]\n",
      "100%|███████████████████████████████████████████| 11/11 [00:19<00:00,  1.80s/it]\n"
     ]
    },
    {
     "name": "stdout",
     "output_type": "stream",
     "text": [
      "*****Epoch 1/300*****\n",
      "*****Train Loss:  0.885258 Val Loss:  0.999196*****\n",
      "*****Validation Accuracy: 17.98%*****\n",
      "*****Total Avg Disparity: 0.07349398237890811*****\n",
      "\n",
      "Class Parade: Recall Difference = 0.04564930784442989\n",
      "Class Handshaking: Recall Difference = 0.0\n",
      "Class Riot: Recall Difference = 0.0\n",
      "Class Dancing: Recall Difference = 0.0\n",
      "Class Funeral: Recall Difference = 0.0\n",
      "Class Cheering: Recall Difference = 0.0\n",
      "Class Meeting: Recall Difference = 0.0\n",
      "Class Stock_Market: Recall Difference = 0.0\n",
      "Class Ceremony: Recall Difference = 0.0\n",
      "Class Concerts: Recall Difference = 0.0\n",
      "Class Couple: Recall Difference = 0.0\n",
      "Class Family_Group: Recall Difference = 0.0\n",
      "Class Picnic: Recall Difference = 0.0\n",
      "Class Soldier_Patrol: Recall Difference = -0.02875816993464053\n",
      "Class Spa: Recall Difference = 0.0\n",
      "Class Sports_Fan: Recall Difference = 0.0\n",
      "Class Surgeons: Recall Difference = 0.0\n",
      "Class Waiter_Waitress: Recall Difference = 0.10631055250065463\n",
      "Class Running: Recall Difference = 0.0\n",
      "Class Basketball: Recall Difference = 0.057352941176470495\n",
      "Class Football: Recall Difference = 0.0\n",
      "Class Soccer: Recall Difference = -0.12807199723087573\n",
      "Class Ice_Skating: Recall Difference = -0.13946470742587236\n",
      "Class Row_Boat: Recall Difference = -0.08522727272727273\n",
      "Class Aerobics: Recall Difference = 0.0\n",
      "Class Celebration_Or_Party: Recall Difference = 0.0\n",
      "Class Dresses: Recall Difference = -0.06318840579710147\n",
      "Class Rescue: Recall Difference = 0.0\n",
      "Class Angler: Recall Difference = 0.023529411764705882\n",
      "Class Hockey: Recall Difference = -0.05738705738705743\n",
      "Data has been appended to validation0.txt\n",
      "Epoch Number 44, Lambda: 0\n"
     ]
    },
    {
     "name": "stderr",
     "output_type": "stream",
     "text": [
      "100%|███████████████████████████████████████████| 31/31 [01:46<00:00,  3.42s/it]\n"
     ]
    },
    {
     "name": "stdout",
     "output_type": "stream",
     "text": [
      "Average Adversary epoch loss: 0.12873757197972266\n"
     ]
    },
    {
     "name": "stderr",
     "output_type": "stream",
     "text": [
      "100%|███████████████████████████████████████████| 31/31 [01:51<00:00,  3.59s/it]\n",
      "100%|███████████████████████████████████████████| 11/11 [00:19<00:00,  1.82s/it]\n"
     ]
    },
    {
     "name": "stdout",
     "output_type": "stream",
     "text": [
      "*****Epoch 1/300*****\n",
      "*****Train Loss:  0.884291 Val Loss:  0.998254*****\n",
      "*****Validation Accuracy: 17.84%*****\n",
      "*****Total Avg Disparity: 0.07679030385626473*****\n",
      "\n",
      "Class Parade: Recall Difference = 0.029389145242803782\n",
      "Class Handshaking: Recall Difference = 0.0\n",
      "Class Riot: Recall Difference = 0.0\n",
      "Class Dancing: Recall Difference = 0.0\n",
      "Class Funeral: Recall Difference = 0.0\n",
      "Class Cheering: Recall Difference = 0.0\n",
      "Class Meeting: Recall Difference = 0.0\n",
      "Class Stock_Market: Recall Difference = 0.0\n",
      "Class Ceremony: Recall Difference = 0.0\n",
      "Class Concerts: Recall Difference = 0.0\n",
      "Class Couple: Recall Difference = 0.0\n",
      "Class Family_Group: Recall Difference = 0.0\n",
      "Class Picnic: Recall Difference = 0.0\n",
      "Class Soldier_Patrol: Recall Difference = -0.05098039215686276\n",
      "Class Spa: Recall Difference = 0.0\n",
      "Class Sports_Fan: Recall Difference = 0.0\n",
      "Class Surgeons: Recall Difference = 0.0\n",
      "Class Waiter_Waitress: Recall Difference = 0.12123592563498298\n",
      "Class Running: Recall Difference = 0.0\n",
      "Class Basketball: Recall Difference = 0.06905637254901953\n",
      "Class Football: Recall Difference = 0.0\n",
      "Class Soccer: Recall Difference = -0.1374177916233991\n",
      "Class Ice_Skating: Recall Difference = -0.1297559695617947\n",
      "Class Row_Boat: Recall Difference = -0.09772727272727272\n",
      "Class Aerobics: Recall Difference = 0.0\n",
      "Class Celebration_Or_Party: Recall Difference = 0.0\n",
      "Class Dresses: Recall Difference = -0.06318840579710144\n",
      "Class Rescue: Recall Difference = 0.0\n",
      "Class Angler: Recall Difference = 0.011764705882352941\n",
      "Class Hockey: Recall Difference = -0.05738705738705743\n",
      "Data has been appended to validation0.txt\n",
      "Epoch Number 45, Lambda: 0\n"
     ]
    },
    {
     "name": "stderr",
     "output_type": "stream",
     "text": [
      "100%|███████████████████████████████████████████| 31/31 [01:46<00:00,  3.43s/it]\n"
     ]
    },
    {
     "name": "stdout",
     "output_type": "stream",
     "text": [
      "Average Adversary epoch loss: 0.12999454861687076\n"
     ]
    },
    {
     "name": "stderr",
     "output_type": "stream",
     "text": [
      "100%|███████████████████████████████████████████| 31/31 [01:51<00:00,  3.59s/it]\n",
      "100%|███████████████████████████████████████████| 11/11 [00:19<00:00,  1.80s/it]\n"
     ]
    },
    {
     "name": "stdout",
     "output_type": "stream",
     "text": [
      "*****Epoch 1/300*****\n",
      "*****Train Loss:  0.882028 Val Loss:  0.998254*****\n",
      "*****Validation Accuracy: 17.93%*****\n",
      "*****Total Avg Disparity: 0.07537787500810036*****\n",
      "\n",
      "Class Parade: Recall Difference = 0.04564930784442989\n",
      "Class Handshaking: Recall Difference = 0.0\n",
      "Class Riot: Recall Difference = 0.0\n",
      "Class Dancing: Recall Difference = 0.0\n",
      "Class Funeral: Recall Difference = 0.0\n",
      "Class Cheering: Recall Difference = 0.0\n",
      "Class Meeting: Recall Difference = 0.0\n",
      "Class Stock_Market: Recall Difference = 0.0\n",
      "Class Ceremony: Recall Difference = 0.0\n",
      "Class Concerts: Recall Difference = 0.0\n",
      "Class Couple: Recall Difference = 0.0\n",
      "Class Family_Group: Recall Difference = 0.0\n",
      "Class Picnic: Recall Difference = 0.0\n",
      "Class Soldier_Patrol: Recall Difference = -0.02875816993464053\n",
      "Class Spa: Recall Difference = 0.0\n",
      "Class Sports_Fan: Recall Difference = 0.0\n",
      "Class Surgeons: Recall Difference = 0.0\n",
      "Class Waiter_Waitress: Recall Difference = 0.13877978528410578\n",
      "Class Running: Recall Difference = 0.0\n",
      "Class Basketball: Recall Difference = 0.05343137254901953\n",
      "Class Football: Recall Difference = 0.0\n",
      "Class Soccer: Recall Difference = -0.12807199723087573\n",
      "Class Ice_Skating: Recall Difference = -0.1297559695617947\n",
      "Class Row_Boat: Recall Difference = -0.08522727272727273\n",
      "Class Aerobics: Recall Difference = 0.0\n",
      "Class Celebration_Or_Party: Recall Difference = 0.0\n",
      "Class Dresses: Recall Difference = -0.06318840579710144\n",
      "Class Rescue: Recall Difference = 0.0\n",
      "Class Angler: Recall Difference = 0.023529411764705882\n",
      "Class Hockey: Recall Difference = -0.05738705738705743\n",
      "Data has been appended to validation0.txt\n",
      "Epoch Number 46, Lambda: 0\n"
     ]
    },
    {
     "name": "stderr",
     "output_type": "stream",
     "text": [
      "100%|███████████████████████████████████████████| 31/31 [01:46<00:00,  3.43s/it]\n"
     ]
    },
    {
     "name": "stdout",
     "output_type": "stream",
     "text": [
      "Average Adversary epoch loss: 0.12767801313630997\n"
     ]
    },
    {
     "name": "stderr",
     "output_type": "stream",
     "text": [
      "100%|███████████████████████████████████████████| 31/31 [01:52<00:00,  3.63s/it]\n",
      "100%|███████████████████████████████████████████| 11/11 [00:19<00:00,  1.79s/it]\n"
     ]
    },
    {
     "name": "stdout",
     "output_type": "stream",
     "text": [
      "*****Epoch 1/300*****\n",
      "*****Train Loss:  0.882103 Val Loss:  0.998112*****\n",
      "*****Validation Accuracy: 18.07%*****\n",
      "*****Total Avg Disparity: 0.07320293390875512*****\n",
      "\n",
      "Class Parade: Recall Difference = 0.03213579433091629\n",
      "Class Handshaking: Recall Difference = 0.0\n",
      "Class Riot: Recall Difference = 0.0\n",
      "Class Dancing: Recall Difference = 0.0\n",
      "Class Funeral: Recall Difference = 0.0\n",
      "Class Cheering: Recall Difference = 0.0\n",
      "Class Meeting: Recall Difference = 0.0\n",
      "Class Stock_Market: Recall Difference = 0.0\n",
      "Class Ceremony: Recall Difference = 0.0\n",
      "Class Concerts: Recall Difference = 0.0\n",
      "Class Couple: Recall Difference = 0.0\n",
      "Class Family_Group: Recall Difference = 0.0\n",
      "Class Picnic: Recall Difference = 0.0\n",
      "Class Soldier_Patrol: Recall Difference = -0.02875816993464053\n",
      "Class Spa: Recall Difference = 0.0\n",
      "Class Sports_Fan: Recall Difference = 0.0\n",
      "Class Surgeons: Recall Difference = 0.0\n",
      "Class Waiter_Waitress: Recall Difference = 0.12123592563498298\n",
      "Class Running: Recall Difference = 0.0\n",
      "Class Basketball: Recall Difference = 0.0691176470588234\n",
      "Class Football: Recall Difference = 0.0\n",
      "Class Soccer: Recall Difference = -0.12807199723087573\n",
      "Class Ice_Skating: Recall Difference = -0.13946470742587236\n",
      "Class Row_Boat: Recall Difference = -0.08522727272727273\n",
      "Class Aerobics: Recall Difference = 0.0\n",
      "Class Celebration_Or_Party: Recall Difference = 0.0\n",
      "Class Dresses: Recall Difference = -0.06985507246376813\n",
      "Class Rescue: Recall Difference = 0.0\n",
      "Class Angler: Recall Difference = 0.011764705882352941\n",
      "Class Hockey: Recall Difference = -0.04639804639804637\n",
      "Data has been appended to validation0.txt\n",
      "Epoch Number 47, Lambda: 0\n"
     ]
    },
    {
     "name": "stderr",
     "output_type": "stream",
     "text": [
      "100%|███████████████████████████████████████████| 31/31 [01:46<00:00,  3.43s/it]\n"
     ]
    },
    {
     "name": "stdout",
     "output_type": "stream",
     "text": [
      "Average Adversary epoch loss: 0.12815843258173235\n"
     ]
    },
    {
     "name": "stderr",
     "output_type": "stream",
     "text": [
      "100%|███████████████████████████████████████████| 31/31 [01:51<00:00,  3.61s/it]\n",
      "100%|███████████████████████████████████████████| 11/11 [00:19<00:00,  1.80s/it]\n"
     ]
    },
    {
     "name": "stdout",
     "output_type": "stream",
     "text": [
      "*****Epoch 1/300*****\n",
      "*****Train Loss:  0.882338 Val Loss:  0.997406*****\n",
      "*****Validation Accuracy: 18.01%*****\n",
      "*****Total Avg Disparity: 0.07978084961231337*****\n",
      "\n",
      "Class Parade: Recall Difference = 0.03889255108767309\n",
      "Class Handshaking: Recall Difference = 0.0\n",
      "Class Riot: Recall Difference = 0.0\n",
      "Class Dancing: Recall Difference = 0.0\n",
      "Class Funeral: Recall Difference = 0.0\n",
      "Class Cheering: Recall Difference = 0.0\n",
      "Class Meeting: Recall Difference = 0.0\n",
      "Class Stock_Market: Recall Difference = 0.0\n",
      "Class Ceremony: Recall Difference = 0.0\n",
      "Class Concerts: Recall Difference = 0.0\n",
      "Class Couple: Recall Difference = 0.0\n",
      "Class Family_Group: Recall Difference = 0.0\n",
      "Class Picnic: Recall Difference = 0.0\n",
      "Class Soldier_Patrol: Recall Difference = -0.03986928104575166\n",
      "Class Spa: Recall Difference = 0.0\n",
      "Class Sports_Fan: Recall Difference = 0.0\n",
      "Class Surgeons: Recall Difference = 0.0\n",
      "Class Waiter_Waitress: Recall Difference = 0.12123592563498298\n",
      "Class Running: Recall Difference = 0.0\n",
      "Class Basketball: Recall Difference = 0.06519607843137254\n",
      "Class Football: Recall Difference = 0.0\n",
      "Class Soccer: Recall Difference = -0.12807199723087573\n",
      "Class Ice_Skating: Recall Difference = -0.1297559695617947\n",
      "Class Row_Boat: Recall Difference = -0.1306818181818182\n",
      "Class Aerobics: Recall Difference = 0.0\n",
      "Class Celebration_Or_Party: Recall Difference = 0.0\n",
      "Class Dresses: Recall Difference = -0.06318840579710144\n",
      "Class Rescue: Recall Difference = 0.0\n",
      "Class Angler: Recall Difference = 0.023529411764705882\n",
      "Class Hockey: Recall Difference = -0.05738705738705743\n",
      "Data has been appended to validation0.txt\n",
      "Epoch Number 48, Lambda: 0\n"
     ]
    },
    {
     "name": "stderr",
     "output_type": "stream",
     "text": [
      "100%|███████████████████████████████████████████| 31/31 [01:46<00:00,  3.45s/it]\n"
     ]
    },
    {
     "name": "stdout",
     "output_type": "stream",
     "text": [
      "Average Adversary epoch loss: 0.12931766144690976\n"
     ]
    },
    {
     "name": "stderr",
     "output_type": "stream",
     "text": [
      "100%|███████████████████████████████████████████| 31/31 [01:51<00:00,  3.61s/it]\n",
      "100%|███████████████████████████████████████████| 11/11 [00:20<00:00,  1.83s/it]\n"
     ]
    },
    {
     "name": "stdout",
     "output_type": "stream",
     "text": [
      "*****Epoch 1/300*****\n",
      "*****Train Loss:  0.879508 Val Loss:  0.997343*****\n",
      "*****Validation Accuracy: 18.16%*****\n",
      "*****Total Avg Disparity: 0.0821155220902931*****\n",
      "\n",
      "Class Parade: Recall Difference = 0.03889255108767298\n",
      "Class Handshaking: Recall Difference = 0.0\n",
      "Class Riot: Recall Difference = 0.0\n",
      "Class Dancing: Recall Difference = 0.0\n",
      "Class Funeral: Recall Difference = 0.0\n",
      "Class Cheering: Recall Difference = 0.0\n",
      "Class Meeting: Recall Difference = 0.0\n",
      "Class Stock_Market: Recall Difference = 0.0\n",
      "Class Ceremony: Recall Difference = 0.0\n",
      "Class Concerts: Recall Difference = 0.0\n",
      "Class Couple: Recall Difference = 0.0\n",
      "Class Family_Group: Recall Difference = 0.0\n",
      "Class Picnic: Recall Difference = 0.0\n",
      "Class Soldier_Patrol: Recall Difference = -0.02875816993464053\n",
      "Class Spa: Recall Difference = 0.0\n",
      "Class Sports_Fan: Recall Difference = 0.0\n",
      "Class Surgeons: Recall Difference = 0.0\n",
      "Class Waiter_Waitress: Recall Difference = 0.12385441214977742\n",
      "Class Running: Recall Difference = 0.0\n",
      "Class Basketball: Recall Difference = 0.05741421568627458\n",
      "Class Football: Recall Difference = 0.0\n",
      "Class Soccer: Recall Difference = -0.12807199723087573\n",
      "Class Ice_Skating: Recall Difference = -0.1297559695617947\n",
      "Class Row_Boat: Recall Difference = -0.16363636363636366\n",
      "Class Aerobics: Recall Difference = 0.0\n",
      "Class Celebration_Or_Party: Recall Difference = 0.0\n",
      "Class Dresses: Recall Difference = -0.06985507246376813\n",
      "Class Rescue: Recall Difference = 0.0\n",
      "Class Angler: Recall Difference = 0.023529411764705882\n",
      "Class Hockey: Recall Difference = -0.057387057387057405\n",
      "Data has been appended to validation0.txt\n",
      "Epoch Number 49, Lambda: 0\n"
     ]
    },
    {
     "name": "stderr",
     "output_type": "stream",
     "text": [
      "100%|███████████████████████████████████████████| 31/31 [01:49<00:00,  3.52s/it]\n"
     ]
    },
    {
     "name": "stdout",
     "output_type": "stream",
     "text": [
      "Average Adversary epoch loss: 0.12672520789407915\n"
     ]
    },
    {
     "name": "stderr",
     "output_type": "stream",
     "text": [
      "100%|███████████████████████████████████████████| 31/31 [01:52<00:00,  3.64s/it]\n",
      "100%|███████████████████████████████████████████| 11/11 [00:19<00:00,  1.80s/it]\n"
     ]
    },
    {
     "name": "stdout",
     "output_type": "stream",
     "text": [
      "*****Epoch 1/300*****\n",
      "*****Train Loss:  0.882895 Val Loss:  0.997057*****\n",
      "*****Validation Accuracy: 18.01%*****\n",
      "*****Total Avg Disparity: 0.07746018928629148*****\n",
      "\n",
      "Class Parade: Recall Difference = 0.03213579433091629\n",
      "Class Handshaking: Recall Difference = 0.0\n",
      "Class Riot: Recall Difference = 0.0\n",
      "Class Dancing: Recall Difference = 0.0\n",
      "Class Funeral: Recall Difference = 0.0\n",
      "Class Cheering: Recall Difference = 0.0\n",
      "Class Meeting: Recall Difference = 0.0\n",
      "Class Stock_Market: Recall Difference = 0.0\n",
      "Class Ceremony: Recall Difference = 0.0\n",
      "Class Concerts: Recall Difference = 0.0\n",
      "Class Couple: Recall Difference = 0.0\n",
      "Class Family_Group: Recall Difference = 0.0\n",
      "Class Picnic: Recall Difference = 0.0\n",
      "Class Soldier_Patrol: Recall Difference = -0.01764705882352942\n",
      "Class Spa: Recall Difference = 0.0\n",
      "Class Sports_Fan: Recall Difference = 0.0\n",
      "Class Surgeons: Recall Difference = 0.0\n",
      "Class Waiter_Waitress: Recall Difference = 0.10631055250065463\n",
      "Class Running: Recall Difference = 0.0\n",
      "Class Basketball: Recall Difference = 0.06519607843137254\n",
      "Class Football: Recall Difference = 0.0\n",
      "Class Soccer: Recall Difference = -0.12807199723087573\n",
      "Class Ice_Skating: Recall Difference = -0.13946470742587236\n",
      "Class Row_Boat: Recall Difference = -0.1306818181818182\n",
      "Class Aerobics: Recall Difference = 0.0\n",
      "Class Celebration_Or_Party: Recall Difference = 0.0\n",
      "Class Dresses: Recall Difference = -0.06318840579710144\n",
      "Class Rescue: Recall Difference = 0.0\n",
      "Class Angler: Recall Difference = 0.023529411764705882\n",
      "Class Hockey: Recall Difference = -0.06837606837606838\n",
      "Data has been appended to validation0.txt\n",
      "Epoch Number 50, Lambda: 0\n"
     ]
    },
    {
     "name": "stderr",
     "output_type": "stream",
     "text": [
      "100%|███████████████████████████████████████████| 31/31 [01:48<00:00,  3.51s/it]\n"
     ]
    },
    {
     "name": "stdout",
     "output_type": "stream",
     "text": [
      "Average Adversary epoch loss: 0.1286495207778869\n"
     ]
    },
    {
     "name": "stderr",
     "output_type": "stream",
     "text": [
      "100%|███████████████████████████████████████████| 31/31 [01:52<00:00,  3.63s/it]\n",
      "100%|███████████████████████████████████████████| 11/11 [00:19<00:00,  1.78s/it]\n"
     ]
    },
    {
     "name": "stdout",
     "output_type": "stream",
     "text": [
      "*****Epoch 1/300*****\n",
      "*****Train Loss:  0.881106 Val Loss:  0.996549*****\n",
      "*****Validation Accuracy: 17.98%*****\n",
      "*****Total Avg Disparity: 0.08155761261456276*****\n",
      "\n",
      "Class Parade: Recall Difference = 0.04026587563172934\n",
      "Class Handshaking: Recall Difference = 0.0\n",
      "Class Riot: Recall Difference = 0.0\n",
      "Class Dancing: Recall Difference = 0.0\n",
      "Class Funeral: Recall Difference = 0.0\n",
      "Class Cheering: Recall Difference = 0.0\n",
      "Class Meeting: Recall Difference = 0.0\n",
      "Class Stock_Market: Recall Difference = 0.0\n",
      "Class Ceremony: Recall Difference = 0.0\n",
      "Class Concerts: Recall Difference = 0.0\n",
      "Class Couple: Recall Difference = 0.0\n",
      "Class Family_Group: Recall Difference = 0.0\n",
      "Class Picnic: Recall Difference = 0.0\n",
      "Class Soldier_Patrol: Recall Difference = 0.041176470588235294\n",
      "Class Spa: Recall Difference = 0.0\n",
      "Class Sports_Fan: Recall Difference = 0.0\n",
      "Class Surgeons: Recall Difference = 0.0\n",
      "Class Waiter_Waitress: Recall Difference = 0.13877978528410578\n",
      "Class Running: Recall Difference = 0.0\n",
      "Class Basketball: Recall Difference = 0.057352941176470495\n",
      "Class Football: Recall Difference = 0.0\n",
      "Class Soccer: Recall Difference = -0.12807199723087573\n",
      "Class Ice_Skating: Recall Difference = -0.13946470742587236\n",
      "Class Row_Boat: Recall Difference = -0.1306818181818182\n",
      "Class Aerobics: Recall Difference = 0.0\n",
      "Class Celebration_Or_Party: Recall Difference = 0.0\n",
      "Class Dresses: Recall Difference = -0.06985507246376813\n",
      "Class Rescue: Recall Difference = 0.0\n",
      "Class Angler: Recall Difference = 0.023529411764705882\n",
      "Class Hockey: Recall Difference = -0.04639804639804637\n",
      "Data has been appended to validation0.txt\n",
      "Epoch Number 51, Lambda: 0\n"
     ]
    },
    {
     "name": "stderr",
     "output_type": "stream",
     "text": [
      "100%|███████████████████████████████████████████| 31/31 [01:46<00:00,  3.45s/it]\n"
     ]
    },
    {
     "name": "stdout",
     "output_type": "stream",
     "text": [
      "Average Adversary epoch loss: 0.12871337730077007\n"
     ]
    },
    {
     "name": "stderr",
     "output_type": "stream",
     "text": [
      "100%|███████████████████████████████████████████| 31/31 [01:52<00:00,  3.62s/it]\n",
      "100%|███████████████████████████████████████████| 11/11 [00:20<00:00,  1.86s/it]\n"
     ]
    },
    {
     "name": "stdout",
     "output_type": "stream",
     "text": [
      "*****Epoch 1/300*****\n",
      "*****Train Loss:  0.879781 Val Loss:  0.996286*****\n",
      "*****Validation Accuracy: 18.19%*****\n",
      "*****Total Avg Disparity: 0.08555322922278237*****\n",
      "\n",
      "Class Parade: Recall Difference = 0.04702263238848592\n",
      "Class Handshaking: Recall Difference = 0.0\n",
      "Class Riot: Recall Difference = 0.0\n",
      "Class Dancing: Recall Difference = 0.0\n",
      "Class Funeral: Recall Difference = 0.0\n",
      "Class Cheering: Recall Difference = 0.0\n",
      "Class Meeting: Recall Difference = 0.0\n",
      "Class Stock_Market: Recall Difference = 0.0\n",
      "Class Ceremony: Recall Difference = 0.0\n",
      "Class Concerts: Recall Difference = 0.0\n",
      "Class Couple: Recall Difference = 0.0\n",
      "Class Family_Group: Recall Difference = 0.0\n",
      "Class Picnic: Recall Difference = 0.0\n",
      "Class Soldier_Patrol: Recall Difference = -0.07647058823529411\n",
      "Class Spa: Recall Difference = 0.0\n",
      "Class Sports_Fan: Recall Difference = 0.0\n",
      "Class Surgeons: Recall Difference = 0.0\n",
      "Class Waiter_Waitress: Recall Difference = 0.10631055250065462\n",
      "Class Running: Recall Difference = 0.0\n",
      "Class Basketball: Recall Difference = 0.053492647058823506\n",
      "Class Football: Recall Difference = 0.0\n",
      "Class Soccer: Recall Difference = -0.12807199723087573\n",
      "Class Ice_Skating: Recall Difference = -0.1297559695617947\n",
      "Class Row_Boat: Recall Difference = -0.16363636363636366\n",
      "Class Aerobics: Recall Difference = 0.0\n",
      "Class Celebration_Or_Party: Recall Difference = 0.0\n",
      "Class Dresses: Recall Difference = -0.06985507246376813\n",
      "Class Rescue: Recall Difference = 0.0\n",
      "Class Angler: Recall Difference = 0.023529411764705882\n",
      "Class Hockey: Recall Difference = -0.057387057387057405\n",
      "Data has been appended to validation0.txt\n",
      "Epoch Number 52, Lambda: 0\n"
     ]
    },
    {
     "name": "stderr",
     "output_type": "stream",
     "text": [
      "100%|███████████████████████████████████████████| 31/31 [01:46<00:00,  3.45s/it]\n"
     ]
    },
    {
     "name": "stdout",
     "output_type": "stream",
     "text": [
      "Average Adversary epoch loss: 0.12562680076206884\n"
     ]
    },
    {
     "name": "stderr",
     "output_type": "stream",
     "text": [
      "100%|███████████████████████████████████████████| 31/31 [01:51<00:00,  3.61s/it]\n",
      "100%|███████████████████████████████████████████| 11/11 [00:19<00:00,  1.78s/it]\n"
     ]
    },
    {
     "name": "stdout",
     "output_type": "stream",
     "text": [
      "*****Epoch 1/300*****\n",
      "*****Train Loss:  0.884524 Val Loss:  0.995543*****\n",
      "*****Validation Accuracy: 18.01%*****\n",
      "*****Total Avg Disparity: 0.07552366116012606*****\n",
      "\n",
      "Class Parade: Recall Difference = 0.04702263238848592\n",
      "Class Handshaking: Recall Difference = 0.0\n",
      "Class Riot: Recall Difference = 0.0\n",
      "Class Dancing: Recall Difference = 0.0\n",
      "Class Funeral: Recall Difference = 0.0\n",
      "Class Cheering: Recall Difference = 0.0\n",
      "Class Meeting: Recall Difference = 0.0\n",
      "Class Stock_Market: Recall Difference = 0.0\n",
      "Class Ceremony: Recall Difference = 0.0\n",
      "Class Concerts: Recall Difference = 0.0\n",
      "Class Couple: Recall Difference = 0.0\n",
      "Class Family_Group: Recall Difference = 0.0\n",
      "Class Picnic: Recall Difference = 0.0\n",
      "Class Soldier_Patrol: Recall Difference = -0.02875816993464053\n",
      "Class Spa: Recall Difference = 0.0\n",
      "Class Sports_Fan: Recall Difference = 0.0\n",
      "Class Surgeons: Recall Difference = 0.0\n",
      "Class Waiter_Waitress: Recall Difference = 0.10631055250065462\n",
      "Class Running: Recall Difference = 0.0\n",
      "Class Basketball: Recall Difference = 0.057352941176470495\n",
      "Class Football: Recall Difference = 0.0\n",
      "Class Soccer: Recall Difference = -0.12807199723087573\n",
      "Class Ice_Skating: Recall Difference = -0.1297559695617947\n",
      "Class Row_Boat: Recall Difference = -0.1181818181818182\n",
      "Class Aerobics: Recall Difference = 0.0\n",
      "Class Celebration_Or_Party: Recall Difference = 0.0\n",
      "Class Dresses: Recall Difference = -0.06985507246376813\n",
      "Class Rescue: Recall Difference = 0.0\n",
      "Class Angler: Recall Difference = 0.023529411764705882\n",
      "Class Hockey: Recall Difference = -0.04639804639804637\n",
      "Data has been appended to validation0.txt\n",
      "Epoch Number 53, Lambda: 0\n"
     ]
    },
    {
     "name": "stderr",
     "output_type": "stream",
     "text": [
      "100%|███████████████████████████████████████████| 31/31 [01:47<00:00,  3.47s/it]\n"
     ]
    },
    {
     "name": "stdout",
     "output_type": "stream",
     "text": [
      "Average Adversary epoch loss: 0.12626019648967252\n"
     ]
    },
    {
     "name": "stderr",
     "output_type": "stream",
     "text": [
      "100%|███████████████████████████████████████████| 31/31 [01:52<00:00,  3.61s/it]\n",
      "100%|███████████████████████████████████████████| 11/11 [00:19<00:00,  1.78s/it]\n"
     ]
    },
    {
     "name": "stdout",
     "output_type": "stream",
     "text": [
      "*****Epoch 1/300*****\n",
      "*****Train Loss:  0.876393 Val Loss:  0.995589*****\n",
      "*****Validation Accuracy: 18.10%*****\n",
      "*****Total Avg Disparity: 0.07590517200231194*****\n",
      "\n",
      "Class Parade: Recall Difference = 0.04026587563172923\n",
      "Class Handshaking: Recall Difference = 0.0\n",
      "Class Riot: Recall Difference = 0.0\n",
      "Class Dancing: Recall Difference = 0.0\n",
      "Class Funeral: Recall Difference = 0.0\n",
      "Class Cheering: Recall Difference = 0.0\n",
      "Class Meeting: Recall Difference = 0.0\n",
      "Class Stock_Market: Recall Difference = 0.0\n",
      "Class Ceremony: Recall Difference = 0.0\n",
      "Class Concerts: Recall Difference = 0.0\n",
      "Class Couple: Recall Difference = 0.0\n",
      "Class Family_Group: Recall Difference = 0.0\n",
      "Class Picnic: Recall Difference = 0.0\n",
      "Class Soldier_Patrol: Recall Difference = 0.04117647058823528\n",
      "Class Spa: Recall Difference = 0.0\n",
      "Class Sports_Fan: Recall Difference = 0.0\n",
      "Class Surgeons: Recall Difference = 0.0\n",
      "Class Waiter_Waitress: Recall Difference = 0.10369206598586017\n",
      "Class Running: Recall Difference = 0.0\n",
      "Class Basketball: Recall Difference = 0.06127450980392135\n",
      "Class Football: Recall Difference = 0.0\n",
      "Class Soccer: Recall Difference = -0.10938040844582902\n",
      "Class Ice_Skating: Recall Difference = -0.13946470742587236\n",
      "Class Row_Boat: Recall Difference = -0.1306818181818182\n",
      "Class Aerobics: Recall Difference = 0.0\n",
      "Class Celebration_Or_Party: Recall Difference = 0.0\n",
      "Class Dresses: Recall Difference = -0.06318840579710144\n",
      "Class Rescue: Recall Difference = 0.0\n",
      "Class Angler: Recall Difference = 0.023529411764705882\n",
      "Class Hockey: Recall Difference = -0.04639804639804637\n",
      "Data has been appended to validation0.txt\n",
      "Epoch Number 54, Lambda: 0\n"
     ]
    },
    {
     "name": "stderr",
     "output_type": "stream",
     "text": [
      "100%|███████████████████████████████████████████| 31/31 [01:47<00:00,  3.47s/it]\n"
     ]
    },
    {
     "name": "stdout",
     "output_type": "stream",
     "text": [
      "Average Adversary epoch loss: 0.12775211877399875\n"
     ]
    },
    {
     "name": "stderr",
     "output_type": "stream",
     "text": [
      "100%|███████████████████████████████████████████| 31/31 [01:51<00:00,  3.59s/it]\n",
      "100%|███████████████████████████████████████████| 11/11 [00:19<00:00,  1.77s/it]\n"
     ]
    },
    {
     "name": "stdout",
     "output_type": "stream",
     "text": [
      "*****Epoch 1/300*****\n",
      "*****Train Loss:  0.875450 Val Loss:  0.995088*****\n",
      "*****Validation Accuracy: 18.04%*****\n",
      "*****Total Avg Disparity: 0.07711991427644516*****\n",
      "\n",
      "Class Parade: Recall Difference = 0.04026587563172923\n",
      "Class Handshaking: Recall Difference = 0.0\n",
      "Class Riot: Recall Difference = 0.0\n",
      "Class Dancing: Recall Difference = 0.0\n",
      "Class Funeral: Recall Difference = 0.0\n",
      "Class Cheering: Recall Difference = 0.0\n",
      "Class Meeting: Recall Difference = 0.0\n",
      "Class Stock_Market: Recall Difference = 0.0\n",
      "Class Ceremony: Recall Difference = 0.0\n",
      "Class Concerts: Recall Difference = 0.0\n",
      "Class Couple: Recall Difference = 0.0\n",
      "Class Family_Group: Recall Difference = 0.0\n",
      "Class Picnic: Recall Difference = 0.0\n",
      "Class Soldier_Patrol: Recall Difference = -0.017647058823529432\n",
      "Class Spa: Recall Difference = 0.0\n",
      "Class Sports_Fan: Recall Difference = 0.0\n",
      "Class Surgeons: Recall Difference = 0.0\n",
      "Class Waiter_Waitress: Recall Difference = 0.10631055250065463\n",
      "Class Running: Recall Difference = 0.0\n",
      "Class Basketball: Recall Difference = 0.05343137254901942\n",
      "Class Football: Recall Difference = 0.0\n",
      "Class Soccer: Recall Difference = -0.10938040844582902\n",
      "Class Ice_Skating: Recall Difference = -0.1297559695617947\n",
      "Class Row_Boat: Recall Difference = -0.16363636363636366\n",
      "Class Aerobics: Recall Difference = 0.0\n",
      "Class Celebration_Or_Party: Recall Difference = 0.0\n",
      "Class Dresses: Recall Difference = -0.06985507246376813\n",
      "Class Rescue: Recall Difference = 0.0\n",
      "Class Angler: Recall Difference = 0.023529411764705882\n",
      "Class Hockey: Recall Difference = -0.05738705738705743\n",
      "Data has been appended to validation0.txt\n",
      "Epoch Number 55, Lambda: 0\n"
     ]
    },
    {
     "name": "stderr",
     "output_type": "stream",
     "text": [
      "100%|███████████████████████████████████████████| 31/31 [01:47<00:00,  3.48s/it]\n"
     ]
    },
    {
     "name": "stdout",
     "output_type": "stream",
     "text": [
      "Average Adversary epoch loss: 0.12544842545063264\n"
     ]
    },
    {
     "name": "stderr",
     "output_type": "stream",
     "text": [
      "100%|███████████████████████████████████████████| 31/31 [01:53<00:00,  3.65s/it]\n",
      "100%|███████████████████████████████████████████| 11/11 [00:19<00:00,  1.81s/it]\n"
     ]
    },
    {
     "name": "stdout",
     "output_type": "stream",
     "text": [
      "*****Epoch 1/300*****\n",
      "*****Train Loss:  0.879538 Val Loss:  0.994679*****\n",
      "*****Validation Accuracy: 18.04%*****\n",
      "*****Total Avg Disparity: 0.07097469297685824*****\n",
      "\n",
      "Class Parade: Recall Difference = 0.04026587563172923\n",
      "Class Handshaking: Recall Difference = 0.0\n",
      "Class Riot: Recall Difference = 0.0\n",
      "Class Dancing: Recall Difference = 0.0\n",
      "Class Funeral: Recall Difference = 0.0\n",
      "Class Cheering: Recall Difference = 0.0\n",
      "Class Meeting: Recall Difference = 0.0\n",
      "Class Stock_Market: Recall Difference = 0.0\n",
      "Class Ceremony: Recall Difference = 0.0\n",
      "Class Concerts: Recall Difference = 0.0\n",
      "Class Couple: Recall Difference = 0.0\n",
      "Class Family_Group: Recall Difference = 0.0\n",
      "Class Picnic: Recall Difference = 0.0\n",
      "Class Soldier_Patrol: Recall Difference = -0.017647058823529432\n",
      "Class Spa: Recall Difference = 0.0\n",
      "Class Sports_Fan: Recall Difference = 0.0\n",
      "Class Surgeons: Recall Difference = 0.0\n",
      "Class Waiter_Waitress: Recall Difference = 0.12123592563498296\n",
      "Class Running: Recall Difference = 0.0\n",
      "Class Basketball: Recall Difference = 0.04950980392156845\n",
      "Class Football: Recall Difference = 0.0\n",
      "Class Soccer: Recall Difference = -0.10003461405330563\n",
      "Class Ice_Skating: Recall Difference = -0.1297559695617947\n",
      "Class Row_Boat: Recall Difference = -0.1181818181818182\n",
      "Class Aerobics: Recall Difference = 0.0\n",
      "Class Celebration_Or_Party: Recall Difference = 0.0\n",
      "Class Dresses: Recall Difference = -0.06318840579710147\n",
      "Class Rescue: Recall Difference = 0.0\n",
      "Class Angler: Recall Difference = 0.023529411764705882\n",
      "Class Hockey: Recall Difference = -0.04639804639804637\n",
      "Data has been appended to validation0.txt\n",
      "Epoch Number 56, Lambda: 0\n"
     ]
    },
    {
     "name": "stderr",
     "output_type": "stream",
     "text": [
      "100%|███████████████████████████████████████████| 31/31 [01:46<00:00,  3.44s/it]\n"
     ]
    },
    {
     "name": "stdout",
     "output_type": "stream",
     "text": [
      "Average Adversary epoch loss: 0.12661878836731758\n"
     ]
    },
    {
     "name": "stderr",
     "output_type": "stream",
     "text": [
      "100%|███████████████████████████████████████████| 31/31 [01:51<00:00,  3.59s/it]\n",
      "100%|███████████████████████████████████████████| 11/11 [00:19<00:00,  1.77s/it]\n"
     ]
    },
    {
     "name": "stdout",
     "output_type": "stream",
     "text": [
      "*****Epoch 1/300*****\n",
      "*****Train Loss:  0.878478 Val Loss:  0.994350*****\n",
      "*****Validation Accuracy: 18.25%*****\n",
      "*****Total Avg Disparity: 0.0713742484179249*****\n",
      "\n",
      "Class Parade: Recall Difference = 0.04026587563172923\n",
      "Class Handshaking: Recall Difference = 0.0\n",
      "Class Riot: Recall Difference = 0.0\n",
      "Class Dancing: Recall Difference = 0.0\n",
      "Class Funeral: Recall Difference = 0.0\n",
      "Class Cheering: Recall Difference = 0.0\n",
      "Class Meeting: Recall Difference = 0.0\n",
      "Class Stock_Market: Recall Difference = 0.0\n",
      "Class Ceremony: Recall Difference = 0.0\n",
      "Class Concerts: Recall Difference = 0.0\n",
      "Class Couple: Recall Difference = 0.0\n",
      "Class Family_Group: Recall Difference = 0.0\n",
      "Class Picnic: Recall Difference = 0.0\n",
      "Class Soldier_Patrol: Recall Difference = -0.01764705882352942\n",
      "Class Spa: Recall Difference = 0.0\n",
      "Class Sports_Fan: Recall Difference = 0.0\n",
      "Class Surgeons: Recall Difference = 0.0\n",
      "Class Waiter_Waitress: Recall Difference = 0.10369206598586016\n",
      "Class Running: Recall Difference = 0.0\n",
      "Class Basketball: Recall Difference = 0.057352941176470384\n",
      "Class Football: Recall Difference = 0.0\n",
      "Class Soccer: Recall Difference = -0.0906888196607823\n",
      "Class Ice_Skating: Recall Difference = -0.13946470742587236\n",
      "Class Row_Boat: Recall Difference = -0.1181818181818182\n",
      "Class Aerobics: Recall Difference = 0.0\n",
      "Class Celebration_Or_Party: Recall Difference = 0.0\n",
      "Class Dresses: Recall Difference = -0.07652173913043478\n",
      "Class Rescue: Recall Difference = 0.0\n",
      "Class Angler: Recall Difference = 0.023529411764705882\n",
      "Class Hockey: Recall Difference = -0.04639804639804637\n",
      "Data has been appended to validation0.txt\n",
      "Epoch Number 57, Lambda: 0\n"
     ]
    },
    {
     "name": "stderr",
     "output_type": "stream",
     "text": [
      "100%|███████████████████████████████████████████| 31/31 [01:48<00:00,  3.50s/it]\n"
     ]
    },
    {
     "name": "stdout",
     "output_type": "stream",
     "text": [
      "Average Adversary epoch loss: 0.12714127835727507\n"
     ]
    },
    {
     "name": "stderr",
     "output_type": "stream",
     "text": [
      "100%|███████████████████████████████████████████| 31/31 [01:51<00:00,  3.60s/it]\n",
      "100%|███████████████████████████████████████████| 11/11 [00:19<00:00,  1.80s/it]\n"
     ]
    },
    {
     "name": "stdout",
     "output_type": "stream",
     "text": [
      "*****Epoch 1/300*****\n",
      "*****Train Loss:  0.877559 Val Loss:  0.994142*****\n",
      "*****Validation Accuracy: 18.36%*****\n",
      "*****Total Avg Disparity: 0.07578091313545073*****\n",
      "\n",
      "Class Parade: Recall Difference = 0.04026587563172923\n",
      "Class Handshaking: Recall Difference = 0.0\n",
      "Class Riot: Recall Difference = 0.0\n",
      "Class Dancing: Recall Difference = 0.0\n",
      "Class Funeral: Recall Difference = 0.0\n",
      "Class Cheering: Recall Difference = 0.0\n",
      "Class Meeting: Recall Difference = 0.0\n",
      "Class Stock_Market: Recall Difference = 0.0\n",
      "Class Ceremony: Recall Difference = 0.0\n",
      "Class Concerts: Recall Difference = 0.0\n",
      "Class Couple: Recall Difference = 0.0\n",
      "Class Family_Group: Recall Difference = 0.0\n",
      "Class Picnic: Recall Difference = 0.0\n",
      "Class Soldier_Patrol: Recall Difference = -0.017647058823529432\n",
      "Class Spa: Recall Difference = 0.0\n",
      "Class Sports_Fan: Recall Difference = 0.0\n",
      "Class Surgeons: Recall Difference = 0.0\n",
      "Class Waiter_Waitress: Recall Difference = 0.10369206598586016\n",
      "Class Running: Recall Difference = 0.0\n",
      "Class Basketball: Recall Difference = 0.057352941176470384\n",
      "Class Football: Recall Difference = 0.0\n",
      "Class Soccer: Recall Difference = -0.11838006230529602\n",
      "Class Ice_Skating: Recall Difference = -0.14917344528995014\n",
      "Class Row_Boat: Recall Difference = -0.1181818181818182\n",
      "Class Aerobics: Recall Difference = 0.0\n",
      "Class Celebration_Or_Party: Recall Difference = 0.0\n",
      "Class Dresses: Recall Difference = -0.08318840579710146\n",
      "Class Rescue: Recall Difference = 0.0\n",
      "Class Angler: Recall Difference = 0.023529411764705882\n",
      "Class Hockey: Recall Difference = -0.04639804639804637\n",
      "Data has been appended to validation0.txt\n",
      "Epoch Number 58, Lambda: 0\n"
     ]
    },
    {
     "name": "stderr",
     "output_type": "stream",
     "text": [
      "100%|███████████████████████████████████████████| 31/31 [01:47<00:00,  3.47s/it]\n"
     ]
    },
    {
     "name": "stdout",
     "output_type": "stream",
     "text": [
      "Average Adversary epoch loss: 0.12572317522379658\n"
     ]
    },
    {
     "name": "stderr",
     "output_type": "stream",
     "text": [
      "100%|███████████████████████████████████████████| 31/31 [01:52<00:00,  3.62s/it]\n",
      "100%|███████████████████████████████████████████| 11/11 [00:19<00:00,  1.80s/it]\n"
     ]
    },
    {
     "name": "stdout",
     "output_type": "stream",
     "text": [
      "*****Epoch 1/300*****\n",
      "*****Train Loss:  0.879618 Val Loss:  0.993831*****\n",
      "*****Validation Accuracy: 18.25%*****\n",
      "*****Total Avg Disparity: 0.07617685322052974*****\n",
      "\n",
      "Class Parade: Recall Difference = 0.04026587563172923\n",
      "Class Handshaking: Recall Difference = 0.0\n",
      "Class Riot: Recall Difference = 0.0\n",
      "Class Dancing: Recall Difference = 0.0\n",
      "Class Funeral: Recall Difference = 0.0\n",
      "Class Cheering: Recall Difference = 0.0\n",
      "Class Meeting: Recall Difference = 0.0\n",
      "Class Stock_Market: Recall Difference = 0.0\n",
      "Class Ceremony: Recall Difference = 0.0\n",
      "Class Concerts: Recall Difference = 0.0\n",
      "Class Couple: Recall Difference = 0.0\n",
      "Class Family_Group: Recall Difference = 0.0\n",
      "Class Picnic: Recall Difference = 0.0\n",
      "Class Soldier_Patrol: Recall Difference = -0.017647058823529432\n",
      "Class Spa: Recall Difference = 0.0\n",
      "Class Sports_Fan: Recall Difference = 0.0\n",
      "Class Surgeons: Recall Difference = 0.0\n",
      "Class Waiter_Waitress: Recall Difference = 0.10369206598586016\n",
      "Class Running: Recall Difference = 0.0\n",
      "Class Basketball: Recall Difference = 0.057352941176470384\n",
      "Class Football: Recall Difference = 0.0\n",
      "Class Soccer: Recall Difference = -0.12772585669781938\n",
      "Class Ice_Skating: Recall Difference = -0.13946470742587247\n",
      "Class Row_Boat: Recall Difference = -0.1181818181818182\n",
      "Class Aerobics: Recall Difference = 0.0\n",
      "Class Celebration_Or_Party: Recall Difference = 0.0\n",
      "Class Dresses: Recall Difference = -0.07652173913043478\n",
      "Class Rescue: Recall Difference = 0.0\n",
      "Class Angler: Recall Difference = 0.023529411764705882\n",
      "Class Hockey: Recall Difference = -0.05738705738705743\n",
      "Data has been appended to validation0.txt\n",
      "Epoch Number 59, Lambda: 0\n"
     ]
    },
    {
     "name": "stderr",
     "output_type": "stream",
     "text": [
      "100%|███████████████████████████████████████████| 31/31 [01:47<00:00,  3.46s/it]\n"
     ]
    },
    {
     "name": "stdout",
     "output_type": "stream",
     "text": [
      "Average Adversary epoch loss: 0.12473069059271966\n"
     ]
    },
    {
     "name": "stderr",
     "output_type": "stream",
     "text": [
      "100%|███████████████████████████████████████████| 31/31 [01:52<00:00,  3.64s/it]\n",
      "100%|███████████████████████████████████████████| 11/11 [00:19<00:00,  1.78s/it]\n"
     ]
    },
    {
     "name": "stdout",
     "output_type": "stream",
     "text": [
      "*****Epoch 1/300*****\n",
      "*****Train Loss:  0.876280 Val Loss:  0.993142*****\n",
      "*****Validation Accuracy: 18.22%*****\n",
      "*****Total Avg Disparity: 0.0745158441495393*****\n",
      "\n",
      "Class Parade: Recall Difference = 0.03889255108767298\n",
      "Class Handshaking: Recall Difference = 0.0\n",
      "Class Riot: Recall Difference = 0.0\n",
      "Class Dancing: Recall Difference = 0.0\n",
      "Class Funeral: Recall Difference = 0.0\n",
      "Class Cheering: Recall Difference = 0.0\n",
      "Class Meeting: Recall Difference = 0.0\n",
      "Class Stock_Market: Recall Difference = 0.0\n",
      "Class Ceremony: Recall Difference = 0.0\n",
      "Class Concerts: Recall Difference = 0.0\n",
      "Class Couple: Recall Difference = 0.0\n",
      "Class Family_Group: Recall Difference = 0.0\n",
      "Class Picnic: Recall Difference = 0.0\n",
      "Class Soldier_Patrol: Recall Difference = 0.04117647058823528\n",
      "Class Spa: Recall Difference = 0.0\n",
      "Class Sports_Fan: Recall Difference = 0.0\n",
      "Class Surgeons: Recall Difference = 0.0\n",
      "Class Waiter_Waitress: Recall Difference = 0.10369206598586016\n",
      "Class Running: Recall Difference = 0.0\n",
      "Class Basketball: Recall Difference = 0.045588235294117485\n",
      "Class Football: Recall Difference = 0.0\n",
      "Class Soccer: Recall Difference = -0.11838006230529602\n",
      "Class Ice_Skating: Recall Difference = -0.13946470742587247\n",
      "Class Row_Boat: Recall Difference = -0.1181818181818182\n",
      "Class Aerobics: Recall Difference = 0.0\n",
      "Class Celebration_Or_Party: Recall Difference = 0.0\n",
      "Class Dresses: Recall Difference = -0.06985507246376813\n",
      "Class Rescue: Recall Difference = 0.0\n",
      "Class Angler: Recall Difference = 0.023529411764705882\n",
      "Class Hockey: Recall Difference = -0.04639804639804637\n",
      "Data has been appended to validation0.txt\n",
      "Epoch Number 60, Lambda: 0\n"
     ]
    },
    {
     "name": "stderr",
     "output_type": "stream",
     "text": [
      "100%|███████████████████████████████████████████| 31/31 [01:47<00:00,  3.47s/it]\n"
     ]
    },
    {
     "name": "stdout",
     "output_type": "stream",
     "text": [
      "Average Adversary epoch loss: 0.12854230091456445\n"
     ]
    },
    {
     "name": "stderr",
     "output_type": "stream",
     "text": [
      "100%|███████████████████████████████████████████| 31/31 [01:53<00:00,  3.68s/it]\n",
      "100%|███████████████████████████████████████████| 11/11 [00:19<00:00,  1.79s/it]\n"
     ]
    },
    {
     "name": "stdout",
     "output_type": "stream",
     "text": [
      "*****Epoch 1/300*****\n",
      "*****Train Loss:  0.879718 Val Loss:  0.993022*****\n",
      "*****Validation Accuracy: 18.30%*****\n",
      "*****Total Avg Disparity: 0.07583624422351612*****\n",
      "\n",
      "Class Parade: Recall Difference = 0.04026587563172923\n",
      "Class Handshaking: Recall Difference = 0.0\n",
      "Class Riot: Recall Difference = 0.0\n",
      "Class Dancing: Recall Difference = 0.0\n",
      "Class Funeral: Recall Difference = 0.0\n",
      "Class Cheering: Recall Difference = 0.0\n",
      "Class Meeting: Recall Difference = 0.0\n",
      "Class Stock_Market: Recall Difference = 0.0\n",
      "Class Ceremony: Recall Difference = 0.0\n",
      "Class Concerts: Recall Difference = 0.0\n",
      "Class Couple: Recall Difference = 0.0\n",
      "Class Family_Group: Recall Difference = 0.0\n",
      "Class Picnic: Recall Difference = 0.0\n",
      "Class Soldier_Patrol: Recall Difference = 0.04117647058823528\n",
      "Class Spa: Recall Difference = 0.0\n",
      "Class Sports_Fan: Recall Difference = 0.0\n",
      "Class Surgeons: Recall Difference = 0.0\n",
      "Class Waiter_Waitress: Recall Difference = 0.10369206598586016\n",
      "Class Running: Recall Difference = 0.0\n",
      "Class Basketball: Recall Difference = 0.05343137254901953\n",
      "Class Football: Recall Difference = 0.0\n",
      "Class Soccer: Recall Difference = -0.10903426791277265\n",
      "Class Ice_Skating: Recall Difference = -0.13946470742587247\n",
      "Class Row_Boat: Recall Difference = -0.1181818181818182\n",
      "Class Aerobics: Recall Difference = 0.0\n",
      "Class Celebration_Or_Party: Recall Difference = 0.0\n",
      "Class Dresses: Recall Difference = -0.08318840579710146\n",
      "Class Rescue: Recall Difference = 0.0\n",
      "Class Angler: Recall Difference = 0.023529411764705882\n",
      "Class Hockey: Recall Difference = -0.04639804639804637\n",
      "Data has been appended to validation0.txt\n",
      "Epoch Number 61, Lambda: 0\n"
     ]
    },
    {
     "name": "stderr",
     "output_type": "stream",
     "text": [
      "100%|███████████████████████████████████████████| 31/31 [01:47<00:00,  3.45s/it]\n"
     ]
    },
    {
     "name": "stdout",
     "output_type": "stream",
     "text": [
      "Average Adversary epoch loss: 0.12666229639322527\n"
     ]
    },
    {
     "name": "stderr",
     "output_type": "stream",
     "text": [
      "100%|███████████████████████████████████████████| 31/31 [01:52<00:00,  3.64s/it]\n",
      "100%|███████████████████████████████████████████| 11/11 [00:19<00:00,  1.78s/it]\n"
     ]
    },
    {
     "name": "stdout",
     "output_type": "stream",
     "text": [
      "*****Epoch 1/300*****\n",
      "*****Train Loss:  0.875837 Val Loss:  0.993391*****\n",
      "*****Validation Accuracy: 18.27%*****\n",
      "*****Total Avg Disparity: 0.07516957755684946*****\n",
      "\n",
      "Class Parade: Recall Difference = 0.04026587563172923\n",
      "Class Handshaking: Recall Difference = 0.0\n",
      "Class Riot: Recall Difference = 0.0\n",
      "Class Dancing: Recall Difference = 0.0\n",
      "Class Funeral: Recall Difference = 0.0\n",
      "Class Cheering: Recall Difference = 0.0\n",
      "Class Meeting: Recall Difference = 0.0\n",
      "Class Stock_Market: Recall Difference = 0.0\n",
      "Class Ceremony: Recall Difference = 0.0\n",
      "Class Concerts: Recall Difference = 0.0\n",
      "Class Couple: Recall Difference = 0.0\n",
      "Class Family_Group: Recall Difference = 0.0\n",
      "Class Picnic: Recall Difference = 0.0\n",
      "Class Soldier_Patrol: Recall Difference = 0.04117647058823528\n",
      "Class Spa: Recall Difference = 0.0\n",
      "Class Sports_Fan: Recall Difference = 0.0\n",
      "Class Surgeons: Recall Difference = 0.0\n",
      "Class Waiter_Waitress: Recall Difference = 0.10369206598586016\n",
      "Class Running: Recall Difference = 0.0\n",
      "Class Basketball: Recall Difference = 0.05343137254901953\n",
      "Class Football: Recall Difference = 0.0\n",
      "Class Soccer: Recall Difference = -0.10903426791277265\n",
      "Class Ice_Skating: Recall Difference = -0.13946470742587247\n",
      "Class Row_Boat: Recall Difference = -0.1181818181818182\n",
      "Class Aerobics: Recall Difference = 0.0\n",
      "Class Celebration_Or_Party: Recall Difference = 0.0\n",
      "Class Dresses: Recall Difference = -0.07652173913043478\n",
      "Class Rescue: Recall Difference = 0.0\n",
      "Class Angler: Recall Difference = 0.023529411764705882\n",
      "Class Hockey: Recall Difference = -0.04639804639804637\n",
      "Data has been appended to validation0.txt\n",
      "Epoch Number 62, Lambda: 0\n"
     ]
    },
    {
     "name": "stderr",
     "output_type": "stream",
     "text": [
      "100%|███████████████████████████████████████████| 31/31 [01:46<00:00,  3.45s/it]\n"
     ]
    },
    {
     "name": "stdout",
     "output_type": "stream",
     "text": [
      "Average Adversary epoch loss: 0.12439126232939382\n"
     ]
    },
    {
     "name": "stderr",
     "output_type": "stream",
     "text": [
      "100%|███████████████████████████████████████████| 31/31 [01:52<00:00,  3.62s/it]\n",
      "100%|███████████████████████████████████████████| 11/11 [00:19<00:00,  1.78s/it]\n"
     ]
    },
    {
     "name": "stdout",
     "output_type": "stream",
     "text": [
      "*****Epoch 1/300*****\n",
      "*****Train Loss:  0.875895 Val Loss:  0.993648*****\n",
      "*****Validation Accuracy: 18.30%*****\n",
      "*****Total Avg Disparity: 0.07732730218516232*****\n",
      "\n",
      "Class Parade: Recall Difference = 0.04026587563172923\n",
      "Class Handshaking: Recall Difference = 0.0\n",
      "Class Riot: Recall Difference = 0.0\n",
      "Class Dancing: Recall Difference = 0.0\n",
      "Class Funeral: Recall Difference = 0.0\n",
      "Class Cheering: Recall Difference = 0.0\n",
      "Class Meeting: Recall Difference = 0.0\n",
      "Class Stock_Market: Recall Difference = 0.0\n",
      "Class Ceremony: Recall Difference = 0.0\n",
      "Class Concerts: Recall Difference = 0.0\n",
      "Class Couple: Recall Difference = 0.0\n",
      "Class Family_Group: Recall Difference = 0.0\n",
      "Class Picnic: Recall Difference = 0.0\n",
      "Class Soldier_Patrol: Recall Difference = 0.041176470588235294\n",
      "Class Spa: Recall Difference = 0.0\n",
      "Class Sports_Fan: Recall Difference = 0.0\n",
      "Class Surgeons: Recall Difference = 0.0\n",
      "Class Waiter_Waitress: Recall Difference = 0.10369206598586016\n",
      "Class Running: Recall Difference = 0.0\n",
      "Class Basketball: Recall Difference = 0.057352941176470384\n",
      "Class Football: Recall Difference = 0.0\n",
      "Class Soccer: Recall Difference = -0.10903426791277265\n",
      "Class Ice_Skating: Recall Difference = -0.13946470742587247\n",
      "Class Row_Boat: Recall Difference = -0.1181818181818182\n",
      "Class Aerobics: Recall Difference = 0.0\n",
      "Class Celebration_Or_Party: Recall Difference = 0.0\n",
      "Class Dresses: Recall Difference = -0.08318840579710146\n",
      "Class Rescue: Recall Difference = 0.0\n",
      "Class Angler: Recall Difference = 0.023529411764705882\n",
      "Class Hockey: Recall Difference = -0.05738705738705743\n",
      "Data has been appended to validation0.txt\n",
      "Epoch Number 63, Lambda: 0\n"
     ]
    },
    {
     "name": "stderr",
     "output_type": "stream",
     "text": [
      "100%|███████████████████████████████████████████| 31/31 [01:47<00:00,  3.46s/it]\n"
     ]
    },
    {
     "name": "stdout",
     "output_type": "stream",
     "text": [
      "Average Adversary epoch loss: 0.12482194794762519\n"
     ]
    },
    {
     "name": "stderr",
     "output_type": "stream",
     "text": [
      "100%|███████████████████████████████████████████| 31/31 [01:51<00:00,  3.59s/it]\n",
      "100%|███████████████████████████████████████████| 11/11 [00:19<00:00,  1.81s/it]\n"
     ]
    },
    {
     "name": "stdout",
     "output_type": "stream",
     "text": [
      "*****Epoch 1/300*****\n",
      "*****Train Loss:  0.875711 Val Loss:  0.993038*****\n",
      "*****Validation Accuracy: 18.36%*****\n",
      "*****Total Avg Disparity: 0.0757602248286402*****\n",
      "\n",
      "Class Parade: Recall Difference = 0.04702263238848592\n",
      "Class Handshaking: Recall Difference = 0.0\n",
      "Class Riot: Recall Difference = 0.0\n",
      "Class Dancing: Recall Difference = 0.0\n",
      "Class Funeral: Recall Difference = 0.0\n",
      "Class Cheering: Recall Difference = 0.0\n",
      "Class Meeting: Recall Difference = 0.0\n",
      "Class Stock_Market: Recall Difference = 0.0\n",
      "Class Ceremony: Recall Difference = 0.0\n",
      "Class Concerts: Recall Difference = 0.0\n",
      "Class Couple: Recall Difference = 0.0\n",
      "Class Family_Group: Recall Difference = 0.0\n",
      "Class Picnic: Recall Difference = 0.0\n",
      "Class Soldier_Patrol: Recall Difference = -0.01764705882352942\n",
      "Class Spa: Recall Difference = 0.0\n",
      "Class Sports_Fan: Recall Difference = 0.0\n",
      "Class Surgeons: Recall Difference = 0.0\n",
      "Class Waiter_Waitress: Recall Difference = 0.10369206598586016\n",
      "Class Running: Recall Difference = 0.0\n",
      "Class Basketball: Recall Difference = 0.05343137254901942\n",
      "Class Football: Recall Difference = 0.0\n",
      "Class Soccer: Recall Difference = -0.11838006230529602\n",
      "Class Ice_Skating: Recall Difference = -0.13946470742587247\n",
      "Class Row_Boat: Recall Difference = -0.1181818181818182\n",
      "Class Aerobics: Recall Difference = 0.0\n",
      "Class Celebration_Or_Party: Recall Difference = 0.0\n",
      "Class Dresses: Recall Difference = -0.08985507246376812\n",
      "Class Rescue: Recall Difference = 0.0\n",
      "Class Angler: Recall Difference = 0.023529411764705885\n",
      "Class Hockey: Recall Difference = -0.04639804639804637\n",
      "Data has been appended to validation0.txt\n",
      "Epoch Number 64, Lambda: 0\n"
     ]
    },
    {
     "name": "stderr",
     "output_type": "stream",
     "text": [
      "100%|███████████████████████████████████████████| 31/31 [01:47<00:00,  3.46s/it]\n"
     ]
    },
    {
     "name": "stdout",
     "output_type": "stream",
     "text": [
      "Average Adversary epoch loss: 0.12626255880440435\n"
     ]
    },
    {
     "name": "stderr",
     "output_type": "stream",
     "text": [
      "100%|███████████████████████████████████████████| 31/31 [01:53<00:00,  3.66s/it]\n",
      "100%|███████████████████████████████████████████| 11/11 [00:20<00:00,  1.82s/it]\n"
     ]
    },
    {
     "name": "stdout",
     "output_type": "stream",
     "text": [
      "*****Epoch 1/300*****\n",
      "*****Train Loss:  0.878741 Val Loss:  0.993197*****\n",
      "*****Validation Accuracy: 18.42%*****\n",
      "*****Total Avg Disparity: 0.08608104517419943*****\n",
      "\n",
      "Class Parade: Recall Difference = 0.04026587563172923\n",
      "Class Handshaking: Recall Difference = 0.0\n",
      "Class Riot: Recall Difference = 0.0\n",
      "Class Dancing: Recall Difference = 0.0\n",
      "Class Funeral: Recall Difference = 0.0\n",
      "Class Cheering: Recall Difference = 0.0\n",
      "Class Meeting: Recall Difference = 0.0\n",
      "Class Stock_Market: Recall Difference = 0.0\n",
      "Class Ceremony: Recall Difference = 0.0\n",
      "Class Concerts: Recall Difference = 0.0\n",
      "Class Couple: Recall Difference = 0.0\n",
      "Class Family_Group: Recall Difference = 0.0\n",
      "Class Picnic: Recall Difference = 0.0\n",
      "Class Soldier_Patrol: Recall Difference = -0.08758169934640521\n",
      "Class Spa: Recall Difference = 0.0\n",
      "Class Sports_Fan: Recall Difference = 0.0\n",
      "Class Surgeons: Recall Difference = 0.0\n",
      "Class Waiter_Waitress: Recall Difference = 0.10369206598586016\n",
      "Class Running: Recall Difference = 0.0\n",
      "Class Basketball: Recall Difference = 0.057352941176470384\n",
      "Class Football: Recall Difference = 0.0\n",
      "Class Soccer: Recall Difference = -0.10903426791277265\n",
      "Class Ice_Skating: Recall Difference = -0.13946470742587247\n",
      "Class Row_Boat: Recall Difference = -0.16363636363636366\n",
      "Class Aerobics: Recall Difference = 0.0\n",
      "Class Celebration_Or_Party: Recall Difference = 0.0\n",
      "Class Dresses: Recall Difference = -0.08985507246376812\n",
      "Class Rescue: Recall Difference = 0.0\n",
      "Class Angler: Recall Difference = 0.023529411764705882\n",
      "Class Hockey: Recall Difference = -0.04639804639804637\n",
      "Data has been appended to validation0.txt\n",
      "Epoch Number 65, Lambda: 0\n"
     ]
    },
    {
     "name": "stderr",
     "output_type": "stream",
     "text": [
      "100%|███████████████████████████████████████████| 31/31 [01:47<00:00,  3.47s/it]\n"
     ]
    },
    {
     "name": "stdout",
     "output_type": "stream",
     "text": [
      "Average Adversary epoch loss: 0.12675184804585674\n"
     ]
    },
    {
     "name": "stderr",
     "output_type": "stream",
     "text": [
      "100%|███████████████████████████████████████████| 31/31 [01:51<00:00,  3.59s/it]\n",
      "100%|███████████████████████████████████████████| 11/11 [00:19<00:00,  1.78s/it]\n"
     ]
    },
    {
     "name": "stdout",
     "output_type": "stream",
     "text": [
      "*****Epoch 1/300*****\n",
      "*****Train Loss:  0.877313 Val Loss:  0.993016*****\n",
      "*****Validation Accuracy: 18.36%*****\n",
      "*****Total Avg Disparity: 0.0754130188002907*****\n",
      "\n",
      "Class Parade: Recall Difference = 0.04702263238848592\n",
      "Class Handshaking: Recall Difference = 0.0\n",
      "Class Riot: Recall Difference = 0.0\n",
      "Class Dancing: Recall Difference = 0.0\n",
      "Class Funeral: Recall Difference = 0.0\n",
      "Class Cheering: Recall Difference = 0.0\n",
      "Class Meeting: Recall Difference = 0.0\n",
      "Class Stock_Market: Recall Difference = 0.0\n",
      "Class Ceremony: Recall Difference = 0.0\n",
      "Class Concerts: Recall Difference = 0.0\n",
      "Class Couple: Recall Difference = 0.0\n",
      "Class Family_Group: Recall Difference = 0.0\n",
      "Class Picnic: Recall Difference = 0.0\n",
      "Class Soldier_Patrol: Recall Difference = 0.04117647058823528\n",
      "Class Spa: Recall Difference = 0.0\n",
      "Class Sports_Fan: Recall Difference = 0.0\n",
      "Class Surgeons: Recall Difference = 0.0\n",
      "Class Waiter_Waitress: Recall Difference = 0.10369206598586016\n",
      "Class Running: Recall Difference = 0.0\n",
      "Class Basketball: Recall Difference = 0.05343137254901953\n",
      "Class Football: Recall Difference = 0.0\n",
      "Class Soccer: Recall Difference = -0.10903426791277265\n",
      "Class Ice_Skating: Recall Difference = -0.13946470742587247\n",
      "Class Row_Boat: Recall Difference = -0.1181818181818182\n",
      "Class Aerobics: Recall Difference = 0.0\n",
      "Class Celebration_Or_Party: Recall Difference = 0.0\n",
      "Class Dresses: Recall Difference = -0.08318840579710146\n",
      "Class Rescue: Recall Difference = 0.0\n",
      "Class Angler: Recall Difference = 0.023529411764705882\n",
      "Class Hockey: Recall Difference = -0.03540903540903545\n",
      "Data has been appended to validation0.txt\n",
      "Epoch Number 66, Lambda: 0\n"
     ]
    },
    {
     "name": "stderr",
     "output_type": "stream",
     "text": [
      "100%|███████████████████████████████████████████| 31/31 [01:46<00:00,  3.45s/it]\n"
     ]
    },
    {
     "name": "stdout",
     "output_type": "stream",
     "text": [
      "Average Adversary epoch loss: 0.12334409284014855\n"
     ]
    },
    {
     "name": "stderr",
     "output_type": "stream",
     "text": [
      "100%|███████████████████████████████████████████| 31/31 [01:51<00:00,  3.59s/it]\n",
      "100%|███████████████████████████████████████████| 11/11 [00:19<00:00,  1.81s/it]\n"
     ]
    },
    {
     "name": "stdout",
     "output_type": "stream",
     "text": [
      "*****Epoch 1/300*****\n",
      "*****Train Loss:  0.879447 Val Loss:  0.993445*****\n",
      "*****Validation Accuracy: 18.33%*****\n",
      "*****Total Avg Disparity: 0.07529077814064283*****\n",
      "\n",
      "Class Parade: Recall Difference = 0.04026587563172923\n",
      "Class Handshaking: Recall Difference = 0.0\n",
      "Class Riot: Recall Difference = 0.0\n",
      "Class Dancing: Recall Difference = 0.0\n",
      "Class Funeral: Recall Difference = 0.0\n",
      "Class Cheering: Recall Difference = 0.0\n",
      "Class Meeting: Recall Difference = 0.0\n",
      "Class Stock_Market: Recall Difference = 0.0\n",
      "Class Ceremony: Recall Difference = 0.0\n",
      "Class Concerts: Recall Difference = 0.0\n",
      "Class Couple: Recall Difference = 0.0\n",
      "Class Family_Group: Recall Difference = 0.0\n",
      "Class Picnic: Recall Difference = 0.0\n",
      "Class Soldier_Patrol: Recall Difference = -0.028758169934640546\n",
      "Class Spa: Recall Difference = 0.0\n",
      "Class Sports_Fan: Recall Difference = 0.0\n",
      "Class Surgeons: Recall Difference = 0.0\n",
      "Class Waiter_Waitress: Recall Difference = 0.10369206598586016\n",
      "Class Running: Recall Difference = 0.0\n",
      "Class Basketball: Recall Difference = 0.057352941176470384\n",
      "Class Football: Recall Difference = 0.0\n",
      "Class Soccer: Recall Difference = -0.10903426791277265\n",
      "Class Ice_Skating: Recall Difference = -0.14917344528995014\n",
      "Class Row_Boat: Recall Difference = -0.1181818181818182\n",
      "Class Aerobics: Recall Difference = 0.0\n",
      "Class Celebration_Or_Party: Recall Difference = 0.0\n",
      "Class Dresses: Recall Difference = -0.07652173913043478\n",
      "Class Rescue: Recall Difference = 0.0\n",
      "Class Angler: Recall Difference = 0.023529411764705882\n",
      "Class Hockey: Recall Difference = -0.04639804639804637\n",
      "Data has been appended to validation0.txt\n",
      "Epoch Number 67, Lambda: 0\n"
     ]
    },
    {
     "name": "stderr",
     "output_type": "stream",
     "text": [
      "100%|███████████████████████████████████████████| 31/31 [01:48<00:00,  3.50s/it]\n"
     ]
    },
    {
     "name": "stdout",
     "output_type": "stream",
     "text": [
      "Average Adversary epoch loss: 0.12343575781391512\n"
     ]
    },
    {
     "name": "stderr",
     "output_type": "stream",
     "text": [
      "100%|███████████████████████████████████████████| 31/31 [01:52<00:00,  3.64s/it]\n",
      "100%|███████████████████████████████████████████| 11/11 [00:20<00:00,  1.83s/it]\n"
     ]
    },
    {
     "name": "stdout",
     "output_type": "stream",
     "text": [
      "*****Epoch 1/300*****\n",
      "*****Train Loss:  0.875004 Val Loss:  0.993006*****\n",
      "*****Validation Accuracy: 18.30%*****\n",
      "*****Total Avg Disparity: 0.07459441415815664*****\n",
      "\n",
      "Class Parade: Recall Difference = 0.04026587563172923\n",
      "Class Handshaking: Recall Difference = 0.0\n",
      "Class Riot: Recall Difference = 0.0\n",
      "Class Dancing: Recall Difference = 0.0\n",
      "Class Funeral: Recall Difference = 0.0\n",
      "Class Cheering: Recall Difference = 0.0\n",
      "Class Meeting: Recall Difference = 0.0\n",
      "Class Stock_Market: Recall Difference = 0.0\n",
      "Class Ceremony: Recall Difference = 0.0\n",
      "Class Concerts: Recall Difference = 0.0\n",
      "Class Couple: Recall Difference = 0.0\n",
      "Class Family_Group: Recall Difference = 0.0\n",
      "Class Picnic: Recall Difference = 0.0\n",
      "Class Soldier_Patrol: Recall Difference = -0.02875816993464053\n",
      "Class Spa: Recall Difference = 0.0\n",
      "Class Sports_Fan: Recall Difference = 0.0\n",
      "Class Surgeons: Recall Difference = 0.0\n",
      "Class Waiter_Waitress: Recall Difference = 0.10369206598586016\n",
      "Class Running: Recall Difference = 0.0\n",
      "Class Basketball: Recall Difference = 0.05343137254901942\n",
      "Class Football: Recall Difference = 0.0\n",
      "Class Soccer: Recall Difference = -0.10903426791277265\n",
      "Class Ice_Skating: Recall Difference = -0.13946470742587247\n",
      "Class Row_Boat: Recall Difference = -0.1181818181818182\n",
      "Class Aerobics: Recall Difference = 0.0\n",
      "Class Celebration_Or_Party: Recall Difference = 0.0\n",
      "Class Dresses: Recall Difference = -0.08318840579710146\n",
      "Class Rescue: Recall Difference = 0.0\n",
      "Class Angler: Recall Difference = 0.023529411764705882\n",
      "Class Hockey: Recall Difference = -0.04639804639804637\n",
      "Data has been appended to validation0.txt\n",
      "Epoch Number 68, Lambda: 0\n"
     ]
    },
    {
     "name": "stderr",
     "output_type": "stream",
     "text": [
      "100%|███████████████████████████████████████████| 31/31 [01:47<00:00,  3.48s/it]\n"
     ]
    },
    {
     "name": "stdout",
     "output_type": "stream",
     "text": [
      "Average Adversary epoch loss: 0.12361338374114805\n"
     ]
    },
    {
     "name": "stderr",
     "output_type": "stream",
     "text": [
      "100%|███████████████████████████████████████████| 31/31 [01:52<00:00,  3.62s/it]\n",
      "100%|███████████████████████████████████████████| 11/11 [00:19<00:00,  1.78s/it]\n"
     ]
    },
    {
     "name": "stdout",
     "output_type": "stream",
     "text": [
      "*****Epoch 1/300*****\n",
      "*****Train Loss:  0.879235 Val Loss:  0.993267*****\n",
      "*****Validation Accuracy: 18.27%*****\n",
      "*****Total Avg Disparity: 0.07516957755684944*****\n",
      "\n",
      "Class Parade: Recall Difference = 0.04026587563172923\n",
      "Class Handshaking: Recall Difference = 0.0\n",
      "Class Riot: Recall Difference = 0.0\n",
      "Class Dancing: Recall Difference = 0.0\n",
      "Class Funeral: Recall Difference = 0.0\n",
      "Class Cheering: Recall Difference = 0.0\n",
      "Class Meeting: Recall Difference = 0.0\n",
      "Class Stock_Market: Recall Difference = 0.0\n",
      "Class Ceremony: Recall Difference = 0.0\n",
      "Class Concerts: Recall Difference = 0.0\n",
      "Class Couple: Recall Difference = 0.0\n",
      "Class Family_Group: Recall Difference = 0.0\n",
      "Class Picnic: Recall Difference = 0.0\n",
      "Class Soldier_Patrol: Recall Difference = 0.04117647058823528\n",
      "Class Spa: Recall Difference = 0.0\n",
      "Class Sports_Fan: Recall Difference = 0.0\n",
      "Class Surgeons: Recall Difference = 0.0\n",
      "Class Waiter_Waitress: Recall Difference = 0.10369206598586016\n",
      "Class Running: Recall Difference = 0.0\n",
      "Class Basketball: Recall Difference = 0.05343137254901953\n",
      "Class Football: Recall Difference = 0.0\n",
      "Class Soccer: Recall Difference = -0.10903426791277265\n",
      "Class Ice_Skating: Recall Difference = -0.13946470742587236\n",
      "Class Row_Boat: Recall Difference = -0.1181818181818182\n",
      "Class Aerobics: Recall Difference = 0.0\n",
      "Class Celebration_Or_Party: Recall Difference = 0.0\n",
      "Class Dresses: Recall Difference = -0.07652173913043478\n",
      "Class Rescue: Recall Difference = 0.0\n",
      "Class Angler: Recall Difference = 0.023529411764705882\n",
      "Class Hockey: Recall Difference = -0.04639804639804637\n",
      "Data has been appended to validation0.txt\n",
      "Epoch Number 69, Lambda: 0\n"
     ]
    },
    {
     "name": "stderr",
     "output_type": "stream",
     "text": [
      "100%|███████████████████████████████████████████| 31/31 [01:46<00:00,  3.43s/it]\n"
     ]
    },
    {
     "name": "stdout",
     "output_type": "stream",
     "text": [
      "Average Adversary epoch loss: 0.1238848360315446\n"
     ]
    },
    {
     "name": "stderr",
     "output_type": "stream",
     "text": [
      "100%|███████████████████████████████████████████| 31/31 [01:51<00:00,  3.60s/it]\n",
      "100%|███████████████████████████████████████████| 11/11 [00:20<00:00,  1.83s/it]\n"
     ]
    },
    {
     "name": "stdout",
     "output_type": "stream",
     "text": [
      "*****Epoch 1/300*****\n",
      "*****Train Loss:  0.877182 Val Loss:  0.993334*****\n",
      "*****Validation Accuracy: 18.30%*****\n",
      "*****Total Avg Disparity: 0.0741433726823763*****\n",
      "\n",
      "Class Parade: Recall Difference = 0.04026587563172923\n",
      "Class Handshaking: Recall Difference = 0.0\n",
      "Class Riot: Recall Difference = 0.0\n",
      "Class Dancing: Recall Difference = 0.0\n",
      "Class Funeral: Recall Difference = 0.0\n",
      "Class Cheering: Recall Difference = 0.0\n",
      "Class Meeting: Recall Difference = 0.0\n",
      "Class Stock_Market: Recall Difference = 0.0\n",
      "Class Ceremony: Recall Difference = 0.0\n",
      "Class Concerts: Recall Difference = 0.0\n",
      "Class Couple: Recall Difference = 0.0\n",
      "Class Family_Group: Recall Difference = 0.0\n",
      "Class Picnic: Recall Difference = 0.0\n",
      "Class Soldier_Patrol: Recall Difference = -0.017647058823529432\n",
      "Class Spa: Recall Difference = 0.0\n",
      "Class Sports_Fan: Recall Difference = 0.0\n",
      "Class Surgeons: Recall Difference = 0.0\n",
      "Class Waiter_Waitress: Recall Difference = 0.10369206598586016\n",
      "Class Running: Recall Difference = 0.0\n",
      "Class Basketball: Recall Difference = 0.057352941176470384\n",
      "Class Football: Recall Difference = 0.0\n",
      "Class Soccer: Recall Difference = -0.11838006230529602\n",
      "Class Ice_Skating: Recall Difference = -0.13946470742587247\n",
      "Class Row_Boat: Recall Difference = -0.1181818181818182\n",
      "Class Aerobics: Recall Difference = 0.0\n",
      "Class Celebration_Or_Party: Recall Difference = 0.0\n",
      "Class Dresses: Recall Difference = -0.07652173913043478\n",
      "Class Rescue: Recall Difference = 0.0\n",
      "Class Angler: Recall Difference = 0.023529411764705882\n",
      "Class Hockey: Recall Difference = -0.04639804639804637\n",
      "Data has been appended to validation0.txt\n",
      "Epoch Number 70, Lambda: 0\n"
     ]
    },
    {
     "name": "stderr",
     "output_type": "stream",
     "text": [
      "100%|███████████████████████████████████████████| 31/31 [01:48<00:00,  3.49s/it]\n"
     ]
    },
    {
     "name": "stdout",
     "output_type": "stream",
     "text": [
      "Average Adversary epoch loss: 0.1233045578964295\n"
     ]
    },
    {
     "name": "stderr",
     "output_type": "stream",
     "text": [
      "100%|███████████████████████████████████████████| 31/31 [01:51<00:00,  3.60s/it]\n",
      "100%|███████████████████████████████████████████| 11/11 [00:19<00:00,  1.78s/it]\n"
     ]
    },
    {
     "name": "stdout",
     "output_type": "stream",
     "text": [
      "*****Epoch 1/300*****\n",
      "*****Train Loss:  0.881208 Val Loss:  0.993207*****\n",
      "*****Validation Accuracy: 18.51%*****\n",
      "*****Total Avg Disparity: 0.08412531368438325*****\n",
      "\n",
      "Class Parade: Recall Difference = 0.04026587563172912\n",
      "Class Handshaking: Recall Difference = 0.0\n",
      "Class Riot: Recall Difference = 0.0\n",
      "Class Dancing: Recall Difference = 0.0\n",
      "Class Funeral: Recall Difference = 0.0\n",
      "Class Cheering: Recall Difference = 0.0\n",
      "Class Meeting: Recall Difference = 0.0\n",
      "Class Stock_Market: Recall Difference = 0.0\n",
      "Class Ceremony: Recall Difference = 0.0\n",
      "Class Concerts: Recall Difference = 0.0\n",
      "Class Couple: Recall Difference = 0.0\n",
      "Class Family_Group: Recall Difference = 0.0\n",
      "Class Picnic: Recall Difference = 0.0\n",
      "Class Soldier_Patrol: Recall Difference = -0.0764705882352941\n",
      "Class Spa: Recall Difference = 0.0\n",
      "Class Sports_Fan: Recall Difference = 0.0\n",
      "Class Surgeons: Recall Difference = 0.0\n",
      "Class Waiter_Waitress: Recall Difference = 0.10369206598586017\n",
      "Class Running: Recall Difference = 0.0\n",
      "Class Basketball: Recall Difference = 0.06127450980392146\n",
      "Class Football: Recall Difference = 0.0\n",
      "Class Soccer: Recall Difference = -0.09968847352024926\n",
      "Class Ice_Skating: Recall Difference = -0.13946470742587236\n",
      "Class Row_Boat: Recall Difference = -0.13863636363636364\n",
      "Class Aerobics: Recall Difference = 0.0\n",
      "Class Celebration_Or_Party: Recall Difference = 0.0\n",
      "Class Dresses: Recall Difference = -0.08985507246376812\n",
      "Class Rescue: Recall Difference = 0.0\n",
      "Class Angler: Recall Difference = 0.023529411764705882\n",
      "Class Hockey: Recall Difference = -0.06837606837606838\n",
      "Data has been appended to validation0.txt\n",
      "Epoch Number 71, Lambda: 0\n"
     ]
    },
    {
     "name": "stderr",
     "output_type": "stream",
     "text": [
      "100%|███████████████████████████████████████████| 31/31 [01:47<00:00,  3.46s/it]\n"
     ]
    },
    {
     "name": "stdout",
     "output_type": "stream",
     "text": [
      "Average Adversary epoch loss: 0.122935343653925\n"
     ]
    },
    {
     "name": "stderr",
     "output_type": "stream",
     "text": [
      "100%|███████████████████████████████████████████| 31/31 [01:51<00:00,  3.61s/it]\n",
      "100%|███████████████████████████████████████████| 11/11 [00:19<00:00,  1.80s/it]\n"
     ]
    },
    {
     "name": "stdout",
     "output_type": "stream",
     "text": [
      "*****Epoch 1/300*****\n",
      "*****Train Loss:  0.876887 Val Loss:  0.993103*****\n",
      "*****Validation Accuracy: 18.42%*****\n",
      "*****Total Avg Disparity: 0.0801499697137122*****\n",
      "\n",
      "Class Parade: Recall Difference = 0.04026587563172923\n",
      "Class Handshaking: Recall Difference = 0.0\n",
      "Class Riot: Recall Difference = 0.0\n",
      "Class Dancing: Recall Difference = 0.0\n",
      "Class Funeral: Recall Difference = 0.0\n",
      "Class Cheering: Recall Difference = 0.0\n",
      "Class Meeting: Recall Difference = 0.0\n",
      "Class Stock_Market: Recall Difference = 0.0\n",
      "Class Ceremony: Recall Difference = 0.0\n",
      "Class Concerts: Recall Difference = 0.0\n",
      "Class Couple: Recall Difference = 0.0\n",
      "Class Family_Group: Recall Difference = 0.0\n",
      "Class Picnic: Recall Difference = 0.0\n",
      "Class Soldier_Patrol: Recall Difference = -0.0764705882352941\n",
      "Class Spa: Recall Difference = 0.0\n",
      "Class Sports_Fan: Recall Difference = 0.0\n",
      "Class Surgeons: Recall Difference = 0.0\n",
      "Class Waiter_Waitress: Recall Difference = 0.10369206598586016\n",
      "Class Running: Recall Difference = 0.0\n",
      "Class Basketball: Recall Difference = 0.06127450980392146\n",
      "Class Football: Recall Difference = 0.0\n",
      "Class Soccer: Recall Difference = -0.10903426791277265\n",
      "Class Ice_Skating: Recall Difference = -0.13946470742587247\n",
      "Class Row_Boat: Recall Difference = -0.1181818181818182\n",
      "Class Aerobics: Recall Difference = 0.0\n",
      "Class Celebration_Or_Party: Recall Difference = 0.0\n",
      "Class Dresses: Recall Difference = -0.08318840579710146\n",
      "Class Rescue: Recall Difference = 0.0\n",
      "Class Angler: Recall Difference = 0.023529411764705882\n",
      "Class Hockey: Recall Difference = -0.04639804639804637\n",
      "Data has been appended to validation0.txt\n",
      "Epoch Number 72, Lambda: 0\n"
     ]
    },
    {
     "name": "stderr",
     "output_type": "stream",
     "text": [
      "100%|███████████████████████████████████████████| 31/31 [01:46<00:00,  3.45s/it]\n"
     ]
    },
    {
     "name": "stdout",
     "output_type": "stream",
     "text": [
      "Average Adversary epoch loss: 0.12381962903084294\n"
     ]
    },
    {
     "name": "stderr",
     "output_type": "stream",
     "text": [
      "100%|███████████████████████████████████████████| 31/31 [01:53<00:00,  3.68s/it]\n",
      "100%|███████████████████████████████████████████| 11/11 [00:19<00:00,  1.78s/it]\n"
     ]
    },
    {
     "name": "stdout",
     "output_type": "stream",
     "text": [
      "*****Epoch 1/300*****\n",
      "*****Train Loss:  0.879273 Val Loss:  0.993170*****\n",
      "*****Validation Accuracy: 18.45%*****\n",
      "*****Total Avg Disparity: 0.08054212657645729*****\n",
      "\n",
      "Class Parade: Recall Difference = 0.04026587563172923\n",
      "Class Handshaking: Recall Difference = 0.0\n",
      "Class Riot: Recall Difference = 0.0\n",
      "Class Dancing: Recall Difference = 0.0\n",
      "Class Funeral: Recall Difference = 0.0\n",
      "Class Cheering: Recall Difference = 0.0\n",
      "Class Meeting: Recall Difference = 0.0\n",
      "Class Stock_Market: Recall Difference = 0.0\n",
      "Class Ceremony: Recall Difference = 0.0\n",
      "Class Concerts: Recall Difference = 0.0\n",
      "Class Couple: Recall Difference = 0.0\n",
      "Class Family_Group: Recall Difference = 0.0\n",
      "Class Picnic: Recall Difference = 0.0\n",
      "Class Soldier_Patrol: Recall Difference = -0.07647058823529411\n",
      "Class Spa: Recall Difference = 0.0\n",
      "Class Sports_Fan: Recall Difference = 0.0\n",
      "Class Surgeons: Recall Difference = 0.0\n",
      "Class Waiter_Waitress: Recall Difference = 0.10369206598586017\n",
      "Class Running: Recall Difference = 0.0\n",
      "Class Basketball: Recall Difference = 0.06519607843137243\n",
      "Class Football: Recall Difference = 0.0\n",
      "Class Soccer: Recall Difference = -0.10903426791277265\n",
      "Class Ice_Skating: Recall Difference = -0.13946470742587247\n",
      "Class Row_Boat: Recall Difference = -0.1181818181818182\n",
      "Class Aerobics: Recall Difference = 0.0\n",
      "Class Celebration_Or_Party: Recall Difference = 0.0\n",
      "Class Dresses: Recall Difference = -0.08318840579710146\n",
      "Class Rescue: Recall Difference = 0.0\n",
      "Class Angler: Recall Difference = 0.023529411764705882\n",
      "Class Hockey: Recall Difference = -0.04639804639804637\n",
      "Data has been appended to validation0.txt\n",
      "Epoch Number 73, Lambda: 0\n"
     ]
    },
    {
     "name": "stderr",
     "output_type": "stream",
     "text": [
      "100%|███████████████████████████████████████████| 31/31 [01:47<00:00,  3.45s/it]\n"
     ]
    },
    {
     "name": "stdout",
     "output_type": "stream",
     "text": [
      "Average Adversary epoch loss: 0.12273274578394429\n"
     ]
    },
    {
     "name": "stderr",
     "output_type": "stream",
     "text": [
      "100%|███████████████████████████████████████████| 31/31 [01:51<00:00,  3.60s/it]\n",
      "100%|███████████████████████████████████████████| 11/11 [00:19<00:00,  1.77s/it]\n"
     ]
    },
    {
     "name": "stdout",
     "output_type": "stream",
     "text": [
      "*****Epoch 1/300*****\n",
      "*****Train Loss:  0.880439 Val Loss:  0.993224*****\n",
      "*****Validation Accuracy: 18.48%*****\n",
      "*****Total Avg Disparity: 0.08396303298262887*****\n",
      "\n",
      "Class Parade: Recall Difference = 0.04026587563172923\n",
      "Class Handshaking: Recall Difference = 0.0\n",
      "Class Riot: Recall Difference = 0.0\n",
      "Class Dancing: Recall Difference = 0.0\n",
      "Class Funeral: Recall Difference = 0.0\n",
      "Class Cheering: Recall Difference = 0.0\n",
      "Class Meeting: Recall Difference = 0.0\n",
      "Class Stock_Market: Recall Difference = 0.0\n",
      "Class Ceremony: Recall Difference = 0.0\n",
      "Class Concerts: Recall Difference = 0.0\n",
      "Class Couple: Recall Difference = 0.0\n",
      "Class Family_Group: Recall Difference = 0.0\n",
      "Class Picnic: Recall Difference = 0.0\n",
      "Class Soldier_Patrol: Recall Difference = -0.0764705882352941\n",
      "Class Spa: Recall Difference = 0.0\n",
      "Class Sports_Fan: Recall Difference = 0.0\n",
      "Class Surgeons: Recall Difference = 0.0\n",
      "Class Waiter_Waitress: Recall Difference = 0.12123592563498298\n",
      "Class Running: Recall Difference = 0.0\n",
      "Class Basketball: Recall Difference = 0.06127450980392146\n",
      "Class Football: Recall Difference = 0.0\n",
      "Class Soccer: Recall Difference = -0.09968847352024926\n",
      "Class Ice_Skating: Recall Difference = -0.13946470742587236\n",
      "Class Row_Boat: Recall Difference = -0.12613636363636366\n",
      "Class Aerobics: Recall Difference = 0.0\n",
      "Class Celebration_Or_Party: Recall Difference = 0.0\n",
      "Class Dresses: Recall Difference = -0.08318840579710146\n",
      "Class Rescue: Recall Difference = 0.0\n",
      "Class Angler: Recall Difference = 0.023529411764705882\n",
      "Class Hockey: Recall Difference = -0.06837606837606838\n",
      "Data has been appended to validation0.txt\n",
      "Epoch Number 74, Lambda: 0\n"
     ]
    },
    {
     "name": "stderr",
     "output_type": "stream",
     "text": [
      "100%|███████████████████████████████████████████| 31/31 [01:47<00:00,  3.48s/it]\n"
     ]
    },
    {
     "name": "stdout",
     "output_type": "stream",
     "text": [
      "Average Adversary epoch loss: 0.1226549013968437\n"
     ]
    },
    {
     "name": "stderr",
     "output_type": "stream",
     "text": [
      "100%|███████████████████████████████████████████| 31/31 [01:50<00:00,  3.56s/it]\n",
      "100%|███████████████████████████████████████████| 11/11 [00:19<00:00,  1.80s/it]\n"
     ]
    },
    {
     "name": "stdout",
     "output_type": "stream",
     "text": [
      "*****Epoch 1/300*****\n",
      "*****Train Loss:  0.878213 Val Loss:  0.993298*****\n",
      "*****Validation Accuracy: 18.39%*****\n",
      "*****Total Avg Disparity: 0.07426761677253572*****\n",
      "\n",
      "Class Parade: Recall Difference = 0.04026587563172923\n",
      "Class Handshaking: Recall Difference = 0.0\n",
      "Class Riot: Recall Difference = 0.0\n",
      "Class Dancing: Recall Difference = 0.0\n",
      "Class Funeral: Recall Difference = 0.0\n",
      "Class Cheering: Recall Difference = 0.0\n",
      "Class Meeting: Recall Difference = 0.0\n",
      "Class Stock_Market: Recall Difference = 0.0\n",
      "Class Ceremony: Recall Difference = 0.0\n",
      "Class Concerts: Recall Difference = 0.0\n",
      "Class Couple: Recall Difference = 0.0\n",
      "Class Family_Group: Recall Difference = 0.0\n",
      "Class Picnic: Recall Difference = 0.0\n",
      "Class Soldier_Patrol: Recall Difference = -0.017647058823529432\n",
      "Class Spa: Recall Difference = 0.0\n",
      "Class Sports_Fan: Recall Difference = 0.0\n",
      "Class Surgeons: Recall Difference = 0.0\n",
      "Class Waiter_Waitress: Recall Difference = 0.10369206598586017\n",
      "Class Running: Recall Difference = 0.0\n",
      "Class Basketball: Recall Difference = 0.06127450980392146\n",
      "Class Football: Recall Difference = 0.0\n",
      "Class Soccer: Recall Difference = -0.10903426791277265\n",
      "Class Ice_Skating: Recall Difference = -0.13946470742587247\n",
      "Class Row_Boat: Recall Difference = -0.1181818181818182\n",
      "Class Aerobics: Recall Difference = 0.0\n",
      "Class Celebration_Or_Party: Recall Difference = 0.0\n",
      "Class Dresses: Recall Difference = -0.08318840579710146\n",
      "Class Rescue: Recall Difference = 0.0\n",
      "Class Angler: Recall Difference = 0.023529411764705882\n",
      "Class Hockey: Recall Difference = -0.04639804639804637\n",
      "Data has been appended to validation0.txt\n",
      "Epoch Number 75, Lambda: 0\n"
     ]
    },
    {
     "name": "stderr",
     "output_type": "stream",
     "text": [
      "100%|███████████████████████████████████████████| 31/31 [01:46<00:00,  3.44s/it]\n"
     ]
    },
    {
     "name": "stdout",
     "output_type": "stream",
     "text": [
      "Average Adversary epoch loss: 0.12347492287235876\n"
     ]
    },
    {
     "name": "stderr",
     "output_type": "stream",
     "text": [
      "100%|███████████████████████████████████████████| 31/31 [01:52<00:00,  3.64s/it]\n",
      "100%|███████████████████████████████████████████| 11/11 [00:19<00:00,  1.81s/it]\n"
     ]
    },
    {
     "name": "stdout",
     "output_type": "stream",
     "text": [
      "*****Epoch 1/300*****\n",
      "*****Train Loss:  0.876190 Val Loss:  0.992857*****\n",
      "*****Validation Accuracy: 18.33%*****\n",
      "*****Total Avg Disparity: 0.08251569158410696*****\n",
      "\n",
      "Class Parade: Recall Difference = 0.04702263238848592\n",
      "Class Handshaking: Recall Difference = 0.0\n",
      "Class Riot: Recall Difference = 0.0\n",
      "Class Dancing: Recall Difference = 0.0\n",
      "Class Funeral: Recall Difference = 0.0\n",
      "Class Cheering: Recall Difference = 0.0\n",
      "Class Meeting: Recall Difference = 0.0\n",
      "Class Stock_Market: Recall Difference = 0.0\n",
      "Class Ceremony: Recall Difference = 0.0\n",
      "Class Concerts: Recall Difference = 0.0\n",
      "Class Couple: Recall Difference = 0.0\n",
      "Class Family_Group: Recall Difference = 0.0\n",
      "Class Picnic: Recall Difference = 0.0\n",
      "Class Soldier_Patrol: Recall Difference = -0.02875816993464053\n",
      "Class Spa: Recall Difference = 0.0\n",
      "Class Sports_Fan: Recall Difference = 0.0\n",
      "Class Surgeons: Recall Difference = 0.0\n",
      "Class Waiter_Waitress: Recall Difference = 0.10369206598586016\n",
      "Class Running: Recall Difference = 0.0\n",
      "Class Basketball: Recall Difference = 0.05343137254901942\n",
      "Class Football: Recall Difference = 0.0\n",
      "Class Soccer: Recall Difference = -0.11838006230529602\n",
      "Class Ice_Skating: Recall Difference = -0.13946470742587236\n",
      "Class Row_Boat: Recall Difference = -0.16363636363636366\n",
      "Class Aerobics: Recall Difference = 0.0\n",
      "Class Celebration_Or_Party: Recall Difference = 0.0\n",
      "Class Dresses: Recall Difference = -0.08985507246376812\n",
      "Class Rescue: Recall Difference = 0.0\n",
      "Class Angler: Recall Difference = 0.023529411764705885\n",
      "Class Hockey: Recall Difference = -0.05738705738705743\n",
      "Data has been appended to validation0.txt\n",
      "Epoch Number 76, Lambda: 0\n"
     ]
    },
    {
     "name": "stderr",
     "output_type": "stream",
     "text": [
      "100%|███████████████████████████████████████████| 31/31 [01:47<00:00,  3.47s/it]\n"
     ]
    },
    {
     "name": "stdout",
     "output_type": "stream",
     "text": [
      "Average Adversary epoch loss: 0.1230734658818091\n"
     ]
    },
    {
     "name": "stderr",
     "output_type": "stream",
     "text": [
      "100%|███████████████████████████████████████████| 31/31 [01:52<00:00,  3.64s/it]\n",
      "100%|███████████████████████████████████████████| 11/11 [00:19<00:00,  1.81s/it]\n"
     ]
    },
    {
     "name": "stdout",
     "output_type": "stream",
     "text": [
      "*****Epoch 1/300*****\n",
      "*****Train Loss:  0.880196 Val Loss:  0.992670*****\n",
      "*****Validation Accuracy: 18.48%*****\n",
      "*****Total Avg Disparity: 0.07658758112191182*****\n",
      "\n",
      "Class Parade: Recall Difference = 0.04026587563172923\n",
      "Class Handshaking: Recall Difference = 0.0\n",
      "Class Riot: Recall Difference = 0.0\n",
      "Class Dancing: Recall Difference = 0.0\n",
      "Class Funeral: Recall Difference = 0.0\n",
      "Class Cheering: Recall Difference = 0.0\n",
      "Class Meeting: Recall Difference = 0.0\n",
      "Class Stock_Market: Recall Difference = 0.0\n",
      "Class Ceremony: Recall Difference = 0.0\n",
      "Class Concerts: Recall Difference = 0.0\n",
      "Class Couple: Recall Difference = 0.0\n",
      "Class Family_Group: Recall Difference = 0.0\n",
      "Class Picnic: Recall Difference = 0.0\n",
      "Class Soldier_Patrol: Recall Difference = -0.01764705882352942\n",
      "Class Spa: Recall Difference = 0.0\n",
      "Class Sports_Fan: Recall Difference = 0.0\n",
      "Class Surgeons: Recall Difference = 0.0\n",
      "Class Waiter_Waitress: Recall Difference = 0.10369206598586016\n",
      "Class Running: Recall Difference = 0.0\n",
      "Class Basketball: Recall Difference = 0.057352941176470384\n",
      "Class Football: Recall Difference = 0.0\n",
      "Class Soccer: Recall Difference = -0.10903426791277265\n",
      "Class Ice_Skating: Recall Difference = -0.13946470742587236\n",
      "Class Row_Boat: Recall Difference = -0.13863636363636364\n",
      "Class Aerobics: Recall Difference = 0.0\n",
      "Class Celebration_Or_Party: Recall Difference = 0.0\n",
      "Class Dresses: Recall Difference = -0.08985507246376812\n",
      "Class Rescue: Recall Difference = 0.0\n",
      "Class Angler: Recall Difference = 0.023529411764705885\n",
      "Class Hockey: Recall Difference = -0.04639804639804637\n",
      "Data has been appended to validation0.txt\n",
      "Epoch Number 77, Lambda: 0\n"
     ]
    },
    {
     "name": "stderr",
     "output_type": "stream",
     "text": [
      "100%|███████████████████████████████████████████| 31/31 [01:47<00:00,  3.47s/it]\n"
     ]
    },
    {
     "name": "stdout",
     "output_type": "stream",
     "text": [
      "Average Adversary epoch loss: 0.12306570333819236\n"
     ]
    },
    {
     "name": "stderr",
     "output_type": "stream",
     "text": [
      "100%|███████████████████████████████████████████| 31/31 [01:52<00:00,  3.61s/it]\n",
      "100%|███████████████████████████████████████████| 11/11 [00:19<00:00,  1.79s/it]\n"
     ]
    },
    {
     "name": "stdout",
     "output_type": "stream",
     "text": [
      "*****Epoch 1/300*****\n",
      "*****Train Loss:  0.878067 Val Loss:  0.992852*****\n",
      "*****Validation Accuracy: 18.36%*****\n",
      "*****Total Avg Disparity: 0.07512949998736011*****\n",
      "\n",
      "Class Parade: Recall Difference = 0.04026587563172923\n",
      "Class Handshaking: Recall Difference = 0.0\n",
      "Class Riot: Recall Difference = 0.0\n",
      "Class Dancing: Recall Difference = 0.0\n",
      "Class Funeral: Recall Difference = 0.0\n",
      "Class Cheering: Recall Difference = 0.0\n",
      "Class Meeting: Recall Difference = 0.0\n",
      "Class Stock_Market: Recall Difference = 0.0\n",
      "Class Ceremony: Recall Difference = 0.0\n",
      "Class Concerts: Recall Difference = 0.0\n",
      "Class Couple: Recall Difference = 0.0\n",
      "Class Family_Group: Recall Difference = 0.0\n",
      "Class Picnic: Recall Difference = 0.0\n",
      "Class Soldier_Patrol: Recall Difference = 0.04117647058823528\n",
      "Class Spa: Recall Difference = 0.0\n",
      "Class Sports_Fan: Recall Difference = 0.0\n",
      "Class Surgeons: Recall Difference = 0.0\n",
      "Class Waiter_Waitress: Recall Difference = 0.10369206598586016\n",
      "Class Running: Recall Difference = 0.0\n",
      "Class Basketball: Recall Difference = 0.057352941176470384\n",
      "Class Football: Recall Difference = 0.0\n",
      "Class Soccer: Recall Difference = -0.10903426791277265\n",
      "Class Ice_Skating: Recall Difference = -0.13946470742587247\n",
      "Class Row_Boat: Recall Difference = -0.1181818181818182\n",
      "Class Aerobics: Recall Difference = 0.0\n",
      "Class Celebration_Or_Party: Recall Difference = 0.0\n",
      "Class Dresses: Recall Difference = -0.08318840579710146\n",
      "Class Rescue: Recall Difference = 0.0\n",
      "Class Angler: Recall Difference = 0.023529411764705882\n",
      "Class Hockey: Recall Difference = -0.03540903540903545\n",
      "Data has been appended to validation0.txt\n",
      "Epoch Number 78, Lambda: 0\n"
     ]
    },
    {
     "name": "stderr",
     "output_type": "stream",
     "text": [
      "100%|███████████████████████████████████████████| 31/31 [01:48<00:00,  3.50s/it]\n"
     ]
    },
    {
     "name": "stdout",
     "output_type": "stream",
     "text": [
      "Average Adversary epoch loss: 0.12288099911905104\n"
     ]
    },
    {
     "name": "stderr",
     "output_type": "stream",
     "text": [
      "100%|███████████████████████████████████████████| 31/31 [01:51<00:00,  3.60s/it]\n",
      "100%|███████████████████████████████████████████| 11/11 [00:19<00:00,  1.80s/it]\n"
     ]
    },
    {
     "name": "stdout",
     "output_type": "stream",
     "text": [
      "*****Epoch 1/300*****\n",
      "*****Train Loss:  0.876965 Val Loss:  0.993022*****\n",
      "*****Validation Accuracy: 18.39%*****\n",
      "*****Total Avg Disparity: 0.07277655881088954*****\n",
      "\n",
      "Class Parade: Recall Difference = 0.04026587563172923\n",
      "Class Handshaking: Recall Difference = 0.0\n",
      "Class Riot: Recall Difference = 0.0\n",
      "Class Dancing: Recall Difference = 0.0\n",
      "Class Funeral: Recall Difference = 0.0\n",
      "Class Cheering: Recall Difference = 0.0\n",
      "Class Meeting: Recall Difference = 0.0\n",
      "Class Stock_Market: Recall Difference = 0.0\n",
      "Class Ceremony: Recall Difference = 0.0\n",
      "Class Concerts: Recall Difference = 0.0\n",
      "Class Couple: Recall Difference = 0.0\n",
      "Class Family_Group: Recall Difference = 0.0\n",
      "Class Picnic: Recall Difference = 0.0\n",
      "Class Soldier_Patrol: Recall Difference = -0.017647058823529432\n",
      "Class Spa: Recall Difference = 0.0\n",
      "Class Sports_Fan: Recall Difference = 0.0\n",
      "Class Surgeons: Recall Difference = 0.0\n",
      "Class Waiter_Waitress: Recall Difference = 0.10369206598586016\n",
      "Class Running: Recall Difference = 0.0\n",
      "Class Basketball: Recall Difference = 0.057352941176470384\n",
      "Class Football: Recall Difference = 0.0\n",
      "Class Soccer: Recall Difference = -0.10903426791277265\n",
      "Class Ice_Skating: Recall Difference = -0.13946470742587247\n",
      "Class Row_Boat: Recall Difference = -0.1181818181818182\n",
      "Class Aerobics: Recall Difference = 0.0\n",
      "Class Celebration_Or_Party: Recall Difference = 0.0\n",
      "Class Dresses: Recall Difference = -0.08318840579710146\n",
      "Class Rescue: Recall Difference = 0.0\n",
      "Class Angler: Recall Difference = 0.023529411764705885\n",
      "Class Hockey: Recall Difference = -0.03540903540903545\n",
      "Data has been appended to validation0.txt\n",
      "Epoch Number 79, Lambda: 0\n"
     ]
    },
    {
     "name": "stderr",
     "output_type": "stream",
     "text": [
      "100%|███████████████████████████████████████████| 31/31 [01:47<00:00,  3.46s/it]\n"
     ]
    },
    {
     "name": "stdout",
     "output_type": "stream",
     "text": [
      "Average Adversary epoch loss: 0.12223371406716685\n"
     ]
    },
    {
     "name": "stderr",
     "output_type": "stream",
     "text": [
      "100%|███████████████████████████████████████████| 31/31 [01:53<00:00,  3.65s/it]\n",
      "100%|███████████████████████████████████████████| 11/11 [00:19<00:00,  1.80s/it]\n"
     ]
    },
    {
     "name": "stdout",
     "output_type": "stream",
     "text": [
      "*****Epoch 1/300*****\n",
      "*****Train Loss:  0.879046 Val Loss:  0.992689*****\n",
      "*****Validation Accuracy: 18.39%*****\n",
      "*****Total Avg Disparity: 0.08154459963775386*****\n",
      "\n",
      "Class Parade: Recall Difference = 0.04702263238848592\n",
      "Class Handshaking: Recall Difference = 0.0\n",
      "Class Riot: Recall Difference = 0.0\n",
      "Class Dancing: Recall Difference = 0.0\n",
      "Class Funeral: Recall Difference = 0.0\n",
      "Class Cheering: Recall Difference = 0.0\n",
      "Class Meeting: Recall Difference = 0.0\n",
      "Class Stock_Market: Recall Difference = 0.0\n",
      "Class Ceremony: Recall Difference = 0.0\n",
      "Class Concerts: Recall Difference = 0.0\n",
      "Class Couple: Recall Difference = 0.0\n",
      "Class Family_Group: Recall Difference = 0.0\n",
      "Class Picnic: Recall Difference = 0.0\n",
      "Class Soldier_Patrol: Recall Difference = -0.08758169934640521\n",
      "Class Spa: Recall Difference = 0.0\n",
      "Class Sports_Fan: Recall Difference = 0.0\n",
      "Class Surgeons: Recall Difference = 0.0\n",
      "Class Waiter_Waitress: Recall Difference = 0.10369206598586016\n",
      "Class Running: Recall Difference = 0.0\n",
      "Class Basketball: Recall Difference = 0.057352941176470384\n",
      "Class Football: Recall Difference = 0.0\n",
      "Class Soccer: Recall Difference = -0.10903426791277265\n",
      "Class Ice_Skating: Recall Difference = -0.13946470742587236\n",
      "Class Row_Boat: Recall Difference = -0.1181818181818182\n",
      "Class Aerobics: Recall Difference = 0.0\n",
      "Class Celebration_Or_Party: Recall Difference = 0.0\n",
      "Class Dresses: Recall Difference = -0.08318840579710146\n",
      "Class Rescue: Recall Difference = 0.0\n",
      "Class Angler: Recall Difference = 0.023529411764705882\n",
      "Class Hockey: Recall Difference = -0.04639804639804637\n",
      "Data has been appended to validation0.txt\n",
      "Epoch Number 80, Lambda: 0\n"
     ]
    },
    {
     "name": "stderr",
     "output_type": "stream",
     "text": [
      "100%|███████████████████████████████████████████| 31/31 [01:46<00:00,  3.43s/it]\n"
     ]
    },
    {
     "name": "stdout",
     "output_type": "stream",
     "text": [
      "Average Adversary epoch loss: 0.1232301309224098\n"
     ]
    },
    {
     "name": "stderr",
     "output_type": "stream",
     "text": [
      "100%|███████████████████████████████████████████| 31/31 [01:52<00:00,  3.62s/it]\n",
      "100%|███████████████████████████████████████████| 11/11 [00:19<00:00,  1.79s/it]\n"
     ]
    },
    {
     "name": "stdout",
     "output_type": "stream",
     "text": [
      "*****Epoch 1/300*****\n",
      "*****Train Loss:  0.875500 Val Loss:  0.992662*****\n",
      "*****Validation Accuracy: 18.39%*****\n",
      "*****Total Avg Disparity: 0.07976682185997608*****\n",
      "\n",
      "Class Parade: Recall Difference = 0.04702263238848592\n",
      "Class Handshaking: Recall Difference = 0.0\n",
      "Class Riot: Recall Difference = 0.0\n",
      "Class Dancing: Recall Difference = 0.0\n",
      "Class Funeral: Recall Difference = 0.0\n",
      "Class Cheering: Recall Difference = 0.0\n",
      "Class Meeting: Recall Difference = 0.0\n",
      "Class Stock_Market: Recall Difference = 0.0\n",
      "Class Ceremony: Recall Difference = 0.0\n",
      "Class Concerts: Recall Difference = 0.0\n",
      "Class Couple: Recall Difference = 0.0\n",
      "Class Family_Group: Recall Difference = 0.0\n",
      "Class Picnic: Recall Difference = 0.0\n",
      "Class Soldier_Patrol: Recall Difference = -0.0764705882352941\n",
      "Class Spa: Recall Difference = 0.0\n",
      "Class Sports_Fan: Recall Difference = 0.0\n",
      "Class Surgeons: Recall Difference = 0.0\n",
      "Class Waiter_Waitress: Recall Difference = 0.10369206598586016\n",
      "Class Running: Recall Difference = 0.0\n",
      "Class Basketball: Recall Difference = 0.057352941176470384\n",
      "Class Football: Recall Difference = 0.0\n",
      "Class Soccer: Recall Difference = -0.10903426791277265\n",
      "Class Ice_Skating: Recall Difference = -0.13946470742587236\n",
      "Class Row_Boat: Recall Difference = -0.1181818181818182\n",
      "Class Aerobics: Recall Difference = 0.0\n",
      "Class Celebration_Or_Party: Recall Difference = 0.0\n",
      "Class Dresses: Recall Difference = -0.07652173913043478\n",
      "Class Rescue: Recall Difference = 0.0\n",
      "Class Angler: Recall Difference = 0.023529411764705885\n",
      "Class Hockey: Recall Difference = -0.04639804639804637\n",
      "Data has been appended to validation0.txt\n",
      "Epoch Number 81, Lambda: 0\n"
     ]
    },
    {
     "name": "stderr",
     "output_type": "stream",
     "text": [
      "100%|███████████████████████████████████████████| 31/31 [01:46<00:00,  3.43s/it]\n"
     ]
    },
    {
     "name": "stdout",
     "output_type": "stream",
     "text": [
      "Average Adversary epoch loss: 0.12359962732561174\n"
     ]
    },
    {
     "name": "stderr",
     "output_type": "stream",
     "text": [
      "100%|███████████████████████████████████████████| 31/31 [01:52<00:00,  3.64s/it]\n",
      "100%|███████████████████████████████████████████| 11/11 [00:19<00:00,  1.78s/it]\n"
     ]
    },
    {
     "name": "stdout",
     "output_type": "stream",
     "text": [
      "*****Epoch 1/300*****\n",
      "*****Train Loss:  0.875518 Val Loss:  0.992968*****\n",
      "*****Validation Accuracy: 18.56%*****\n",
      "*****Total Avg Disparity: 0.08431270693263761*****\n",
      "\n",
      "Class Parade: Recall Difference = 0.04026587563172923\n",
      "Class Handshaking: Recall Difference = 0.0\n",
      "Class Riot: Recall Difference = 0.0\n",
      "Class Dancing: Recall Difference = 0.0\n",
      "Class Funeral: Recall Difference = 0.0\n",
      "Class Cheering: Recall Difference = 0.0\n",
      "Class Meeting: Recall Difference = 0.0\n",
      "Class Stock_Market: Recall Difference = 0.0\n",
      "Class Ceremony: Recall Difference = 0.0\n",
      "Class Concerts: Recall Difference = 0.0\n",
      "Class Couple: Recall Difference = 0.0\n",
      "Class Family_Group: Recall Difference = 0.0\n",
      "Class Picnic: Recall Difference = 0.0\n",
      "Class Soldier_Patrol: Recall Difference = -0.0764705882352941\n",
      "Class Spa: Recall Difference = 0.0\n",
      "Class Sports_Fan: Recall Difference = 0.0\n",
      "Class Surgeons: Recall Difference = 0.0\n",
      "Class Waiter_Waitress: Recall Difference = 0.10369206598586017\n",
      "Class Running: Recall Difference = 0.0\n",
      "Class Basketball: Recall Difference = 0.06127450980392146\n",
      "Class Football: Recall Difference = 0.0\n",
      "Class Soccer: Recall Difference = -0.09034267912772592\n",
      "Class Ice_Skating: Recall Difference = -0.14917344528995002\n",
      "Class Row_Boat: Recall Difference = -0.15113636363636368\n",
      "Class Aerobics: Recall Difference = 0.0\n",
      "Class Celebration_Or_Party: Recall Difference = 0.0\n",
      "Class Dresses: Recall Difference = -0.08985507246376812\n",
      "Class Rescue: Recall Difference = 0.0\n",
      "Class Angler: Recall Difference = 0.023529411764705882\n",
      "Class Hockey: Recall Difference = -0.05738705738705743\n",
      "Data has been appended to validation0.txt\n",
      "Epoch Number 82, Lambda: 0\n"
     ]
    },
    {
     "name": "stderr",
     "output_type": "stream",
     "text": [
      "100%|███████████████████████████████████████████| 31/31 [01:47<00:00,  3.47s/it]\n"
     ]
    },
    {
     "name": "stdout",
     "output_type": "stream",
     "text": [
      "Average Adversary epoch loss: 0.12220341303656178\n"
     ]
    },
    {
     "name": "stderr",
     "output_type": "stream",
     "text": [
      "100%|███████████████████████████████████████████| 31/31 [01:52<00:00,  3.62s/it]\n",
      "100%|███████████████████████████████████████████| 11/11 [00:19<00:00,  1.77s/it]\n"
     ]
    },
    {
     "name": "stdout",
     "output_type": "stream",
     "text": [
      "*****Epoch 1/300*****\n",
      "*****Train Loss:  0.878385 Val Loss:  0.992765*****\n",
      "*****Validation Accuracy: 18.45%*****\n",
      "*****Total Avg Disparity: 0.08023178557697735*****\n",
      "\n",
      "Class Parade: Recall Difference = 0.04702263238848592\n",
      "Class Handshaking: Recall Difference = 0.0\n",
      "Class Riot: Recall Difference = 0.0\n",
      "Class Dancing: Recall Difference = 0.0\n",
      "Class Funeral: Recall Difference = 0.0\n",
      "Class Cheering: Recall Difference = 0.0\n",
      "Class Meeting: Recall Difference = 0.0\n",
      "Class Stock_Market: Recall Difference = 0.0\n",
      "Class Ceremony: Recall Difference = 0.0\n",
      "Class Concerts: Recall Difference = 0.0\n",
      "Class Couple: Recall Difference = 0.0\n",
      "Class Family_Group: Recall Difference = 0.0\n",
      "Class Picnic: Recall Difference = 0.0\n",
      "Class Soldier_Patrol: Recall Difference = -0.01764705882352942\n",
      "Class Spa: Recall Difference = 0.0\n",
      "Class Sports_Fan: Recall Difference = 0.0\n",
      "Class Surgeons: Recall Difference = 0.0\n",
      "Class Waiter_Waitress: Recall Difference = 0.10369206598586017\n",
      "Class Running: Recall Difference = 0.0\n",
      "Class Basketball: Recall Difference = 0.057352941176470384\n",
      "Class Football: Recall Difference = 0.0\n",
      "Class Soccer: Recall Difference = -0.09968847352024926\n",
      "Class Ice_Skating: Recall Difference = -0.14917344528995002\n",
      "Class Row_Boat: Recall Difference = -0.16363636363636366\n",
      "Class Aerobics: Recall Difference = 0.0\n",
      "Class Celebration_Or_Party: Recall Difference = 0.0\n",
      "Class Dresses: Recall Difference = -0.08318840579710146\n",
      "Class Rescue: Recall Difference = 0.0\n",
      "Class Angler: Recall Difference = 0.023529411764705882\n",
      "Class Hockey: Recall Difference = -0.05738705738705743\n",
      "Data has been appended to validation0.txt\n",
      "Epoch Number 83, Lambda: 0\n"
     ]
    },
    {
     "name": "stderr",
     "output_type": "stream",
     "text": [
      "100%|███████████████████████████████████████████| 31/31 [01:47<00:00,  3.47s/it]\n"
     ]
    },
    {
     "name": "stdout",
     "output_type": "stream",
     "text": [
      "Average Adversary epoch loss: 0.12315391604938815\n"
     ]
    },
    {
     "name": "stderr",
     "output_type": "stream",
     "text": [
      "100%|███████████████████████████████████████████| 31/31 [01:54<00:00,  3.69s/it]\n",
      "100%|███████████████████████████████████████████| 11/11 [00:19<00:00,  1.81s/it]\n"
     ]
    },
    {
     "name": "stdout",
     "output_type": "stream",
     "text": [
      "*****Epoch 1/300*****\n",
      "*****Train Loss:  0.875932 Val Loss:  0.993195*****\n",
      "*****Validation Accuracy: 18.30%*****\n",
      "*****Total Avg Disparity: 0.07648765737160673*****\n",
      "\n",
      "Class Parade: Recall Difference = 0.04026587563172923\n",
      "Class Handshaking: Recall Difference = 0.0\n",
      "Class Riot: Recall Difference = 0.0\n",
      "Class Dancing: Recall Difference = 0.0\n",
      "Class Funeral: Recall Difference = 0.0\n",
      "Class Cheering: Recall Difference = 0.0\n",
      "Class Meeting: Recall Difference = 0.0\n",
      "Class Stock_Market: Recall Difference = 0.0\n",
      "Class Ceremony: Recall Difference = 0.0\n",
      "Class Concerts: Recall Difference = 0.0\n",
      "Class Couple: Recall Difference = 0.0\n",
      "Class Family_Group: Recall Difference = 0.0\n",
      "Class Picnic: Recall Difference = 0.0\n",
      "Class Soldier_Patrol: Recall Difference = -0.017647058823529432\n",
      "Class Spa: Recall Difference = 0.0\n",
      "Class Sports_Fan: Recall Difference = 0.0\n",
      "Class Surgeons: Recall Difference = 0.0\n",
      "Class Waiter_Waitress: Recall Difference = 0.10369206598586017\n",
      "Class Running: Recall Difference = 0.0\n",
      "Class Basketball: Recall Difference = 0.05343137254901953\n",
      "Class Football: Recall Difference = 0.0\n",
      "Class Soccer: Recall Difference = -0.11838006230529602\n",
      "Class Ice_Skating: Recall Difference = -0.14917344528995002\n",
      "Class Row_Boat: Recall Difference = -0.1181818181818182\n",
      "Class Aerobics: Recall Difference = 0.0\n",
      "Class Celebration_Or_Party: Recall Difference = 0.0\n",
      "Class Dresses: Recall Difference = -0.08318840579710146\n",
      "Class Rescue: Recall Difference = 0.0\n",
      "Class Angler: Recall Difference = 0.023529411764705882\n",
      "Class Hockey: Recall Difference = -0.05738705738705743\n",
      "Data has been appended to validation0.txt\n",
      "Epoch Number 84, Lambda: 0\n"
     ]
    },
    {
     "name": "stderr",
     "output_type": "stream",
     "text": [
      "100%|███████████████████████████████████████████| 31/31 [01:48<00:00,  3.51s/it]\n"
     ]
    },
    {
     "name": "stdout",
     "output_type": "stream",
     "text": [
      "Average Adversary epoch loss: 0.12280460471107114\n"
     ]
    },
    {
     "name": "stderr",
     "output_type": "stream",
     "text": [
      "100%|███████████████████████████████████████████| 31/31 [01:56<00:00,  3.75s/it]\n",
      "100%|███████████████████████████████████████████| 11/11 [00:20<00:00,  1.89s/it]\n"
     ]
    },
    {
     "name": "stdout",
     "output_type": "stream",
     "text": [
      "*****Epoch 1/300*****\n",
      "*****Train Loss:  0.878718 Val Loss:  0.992366*****\n",
      "*****Validation Accuracy: 18.51%*****\n",
      "*****Total Avg Disparity: 0.08499454911244222*****\n",
      "\n",
      "Class Parade: Recall Difference = 0.05377938914524272\n",
      "Class Handshaking: Recall Difference = 0.0\n",
      "Class Riot: Recall Difference = 0.0\n",
      "Class Dancing: Recall Difference = 0.0\n",
      "Class Funeral: Recall Difference = 0.0\n",
      "Class Cheering: Recall Difference = 0.0\n",
      "Class Meeting: Recall Difference = 0.0\n",
      "Class Stock_Market: Recall Difference = 0.0\n",
      "Class Ceremony: Recall Difference = 0.0\n",
      "Class Concerts: Recall Difference = 0.0\n",
      "Class Couple: Recall Difference = 0.0\n",
      "Class Family_Group: Recall Difference = 0.0\n",
      "Class Picnic: Recall Difference = 0.0\n",
      "Class Soldier_Patrol: Recall Difference = -0.0764705882352941\n",
      "Class Spa: Recall Difference = 0.0\n",
      "Class Sports_Fan: Recall Difference = 0.0\n",
      "Class Surgeons: Recall Difference = 0.0\n",
      "Class Waiter_Waitress: Recall Difference = 0.10369206598586016\n",
      "Class Running: Recall Difference = 0.0\n",
      "Class Basketball: Recall Difference = 0.05343137254901953\n",
      "Class Football: Recall Difference = 0.0\n",
      "Class Soccer: Recall Difference = -0.09968847352024926\n",
      "Class Ice_Skating: Recall Difference = -0.13946470742587236\n",
      "Class Row_Boat: Recall Difference = -0.16363636363636366\n",
      "Class Aerobics: Recall Difference = 0.0\n",
      "Class Celebration_Or_Party: Recall Difference = 0.0\n",
      "Class Dresses: Recall Difference = -0.08985507246376812\n",
      "Class Rescue: Recall Difference = 0.0\n",
      "Class Angler: Recall Difference = 0.023529411764705885\n",
      "Class Hockey: Recall Difference = -0.04639804639804637\n",
      "Data has been appended to validation0.txt\n",
      "Epoch Number 85, Lambda: 0\n"
     ]
    },
    {
     "name": "stderr",
     "output_type": "stream",
     "text": [
      "100%|███████████████████████████████████████████| 31/31 [01:51<00:00,  3.59s/it]\n"
     ]
    },
    {
     "name": "stdout",
     "output_type": "stream",
     "text": [
      "Average Adversary epoch loss: 0.1223530029096911\n"
     ]
    },
    {
     "name": "stderr",
     "output_type": "stream",
     "text": [
      "100%|███████████████████████████████████████████| 31/31 [01:55<00:00,  3.73s/it]\n",
      "100%|███████████████████████████████████████████| 11/11 [00:20<00:00,  1.86s/it]\n"
     ]
    },
    {
     "name": "stdout",
     "output_type": "stream",
     "text": [
      "*****Epoch 1/300*****\n",
      "*****Train Loss:  0.875246 Val Loss:  0.992548*****\n",
      "*****Validation Accuracy: 18.36%*****\n",
      "*****Total Avg Disparity: 0.07388766992200065*****\n",
      "\n",
      "Class Parade: Recall Difference = 0.04026587563172923\n",
      "Class Handshaking: Recall Difference = 0.0\n",
      "Class Riot: Recall Difference = 0.0\n",
      "Class Dancing: Recall Difference = 0.0\n",
      "Class Funeral: Recall Difference = 0.0\n",
      "Class Cheering: Recall Difference = 0.0\n",
      "Class Meeting: Recall Difference = 0.0\n",
      "Class Stock_Market: Recall Difference = 0.0\n",
      "Class Ceremony: Recall Difference = 0.0\n",
      "Class Concerts: Recall Difference = 0.0\n",
      "Class Couple: Recall Difference = 0.0\n",
      "Class Family_Group: Recall Difference = 0.0\n",
      "Class Picnic: Recall Difference = 0.0\n",
      "Class Soldier_Patrol: Recall Difference = -0.028758169934640546\n",
      "Class Spa: Recall Difference = 0.0\n",
      "Class Sports_Fan: Recall Difference = 0.0\n",
      "Class Surgeons: Recall Difference = 0.0\n",
      "Class Waiter_Waitress: Recall Difference = 0.10369206598586016\n",
      "Class Running: Recall Difference = 0.0\n",
      "Class Basketball: Recall Difference = 0.057352941176470384\n",
      "Class Football: Recall Difference = 0.0\n",
      "Class Soccer: Recall Difference = -0.10903426791277265\n",
      "Class Ice_Skating: Recall Difference = -0.13946470742587247\n",
      "Class Row_Boat: Recall Difference = -0.1181818181818182\n",
      "Class Aerobics: Recall Difference = 0.0\n",
      "Class Celebration_Or_Party: Recall Difference = 0.0\n",
      "Class Dresses: Recall Difference = -0.08318840579710146\n",
      "Class Rescue: Recall Difference = 0.0\n",
      "Class Angler: Recall Difference = 0.023529411764705882\n",
      "Class Hockey: Recall Difference = -0.03540903540903545\n",
      "Data has been appended to validation0.txt\n",
      "Epoch Number 86, Lambda: 0\n"
     ]
    },
    {
     "name": "stderr",
     "output_type": "stream",
     "text": [
      "100%|███████████████████████████████████████████| 31/31 [01:52<00:00,  3.63s/it]\n"
     ]
    },
    {
     "name": "stdout",
     "output_type": "stream",
     "text": [
      "Average Adversary epoch loss: 0.12202722218728834\n"
     ]
    },
    {
     "name": "stderr",
     "output_type": "stream",
     "text": [
      "100%|███████████████████████████████████████████| 31/31 [01:56<00:00,  3.76s/it]\n",
      "100%|███████████████████████████████████████████| 11/11 [00:20<00:00,  1.84s/it]\n"
     ]
    },
    {
     "name": "stdout",
     "output_type": "stream",
     "text": [
      "*****Epoch 1/300*****\n",
      "*****Train Loss:  0.880104 Val Loss:  0.992772*****\n",
      "*****Validation Accuracy: 18.45%*****\n",
      "*****Total Avg Disparity: 0.08513425572273707*****\n",
      "\n",
      "Class Parade: Recall Difference = 0.04026587563172923\n",
      "Class Handshaking: Recall Difference = 0.0\n",
      "Class Riot: Recall Difference = 0.0\n",
      "Class Dancing: Recall Difference = 0.0\n",
      "Class Funeral: Recall Difference = 0.0\n",
      "Class Cheering: Recall Difference = 0.0\n",
      "Class Meeting: Recall Difference = 0.0\n",
      "Class Stock_Market: Recall Difference = 0.0\n",
      "Class Ceremony: Recall Difference = 0.0\n",
      "Class Concerts: Recall Difference = 0.0\n",
      "Class Couple: Recall Difference = 0.0\n",
      "Class Family_Group: Recall Difference = 0.0\n",
      "Class Picnic: Recall Difference = 0.0\n",
      "Class Soldier_Patrol: Recall Difference = -0.0764705882352941\n",
      "Class Spa: Recall Difference = 0.0\n",
      "Class Sports_Fan: Recall Difference = 0.0\n",
      "Class Surgeons: Recall Difference = 0.0\n",
      "Class Waiter_Waitress: Recall Difference = 0.10369206598586017\n",
      "Class Running: Recall Difference = 0.0\n",
      "Class Basketball: Recall Difference = 0.057352941176470384\n",
      "Class Football: Recall Difference = 0.0\n",
      "Class Soccer: Recall Difference = -0.09968847352024926\n",
      "Class Ice_Skating: Recall Difference = -0.13946470742587247\n",
      "Class Row_Boat: Recall Difference = -0.16363636363636366\n",
      "Class Aerobics: Recall Difference = 0.0\n",
      "Class Celebration_Or_Party: Recall Difference = 0.0\n",
      "Class Dresses: Recall Difference = -0.08985507246376812\n",
      "Class Rescue: Recall Difference = 0.0\n",
      "Class Angler: Recall Difference = 0.023529411764705885\n",
      "Class Hockey: Recall Difference = -0.05738705738705743\n",
      "Data has been appended to validation0.txt\n",
      "Epoch Number 87, Lambda: 0\n"
     ]
    },
    {
     "name": "stderr",
     "output_type": "stream",
     "text": [
      "100%|███████████████████████████████████████████| 31/31 [01:51<00:00,  3.58s/it]\n"
     ]
    },
    {
     "name": "stdout",
     "output_type": "stream",
     "text": [
      "Average Adversary epoch loss: 0.1223953390313733\n"
     ]
    },
    {
     "name": "stderr",
     "output_type": "stream",
     "text": [
      "100%|███████████████████████████████████████████| 31/31 [01:56<00:00,  3.76s/it]\n",
      "100%|███████████████████████████████████████████| 11/11 [00:20<00:00,  1.86s/it]\n"
     ]
    },
    {
     "name": "stdout",
     "output_type": "stream",
     "text": [
      "*****Epoch 1/300*****\n",
      "*****Train Loss:  0.881260 Val Loss:  0.992600*****\n",
      "*****Validation Accuracy: 18.42%*****\n",
      "*****Total Avg Disparity: 0.08446758905607041*****\n",
      "\n",
      "Class Parade: Recall Difference = 0.04026587563172923\n",
      "Class Handshaking: Recall Difference = 0.0\n",
      "Class Riot: Recall Difference = 0.0\n",
      "Class Dancing: Recall Difference = 0.0\n",
      "Class Funeral: Recall Difference = 0.0\n",
      "Class Cheering: Recall Difference = 0.0\n",
      "Class Meeting: Recall Difference = 0.0\n",
      "Class Stock_Market: Recall Difference = 0.0\n",
      "Class Ceremony: Recall Difference = 0.0\n",
      "Class Concerts: Recall Difference = 0.0\n",
      "Class Couple: Recall Difference = 0.0\n",
      "Class Family_Group: Recall Difference = 0.0\n",
      "Class Picnic: Recall Difference = 0.0\n",
      "Class Soldier_Patrol: Recall Difference = -0.0764705882352941\n",
      "Class Spa: Recall Difference = 0.0\n",
      "Class Sports_Fan: Recall Difference = 0.0\n",
      "Class Surgeons: Recall Difference = 0.0\n",
      "Class Waiter_Waitress: Recall Difference = 0.10369206598586016\n",
      "Class Running: Recall Difference = 0.0\n",
      "Class Basketball: Recall Difference = 0.057352941176470384\n",
      "Class Football: Recall Difference = 0.0\n",
      "Class Soccer: Recall Difference = -0.09968847352024926\n",
      "Class Ice_Skating: Recall Difference = -0.13946470742587247\n",
      "Class Row_Boat: Recall Difference = -0.16363636363636366\n",
      "Class Aerobics: Recall Difference = 0.0\n",
      "Class Celebration_Or_Party: Recall Difference = 0.0\n",
      "Class Dresses: Recall Difference = -0.08318840579710146\n",
      "Class Rescue: Recall Difference = 0.0\n",
      "Class Angler: Recall Difference = 0.023529411764705882\n",
      "Class Hockey: Recall Difference = -0.05738705738705743\n",
      "Data has been appended to validation0.txt\n",
      "Epoch Number 88, Lambda: 0\n"
     ]
    },
    {
     "name": "stderr",
     "output_type": "stream",
     "text": [
      "100%|███████████████████████████████████████████| 31/31 [01:50<00:00,  3.58s/it]\n"
     ]
    },
    {
     "name": "stdout",
     "output_type": "stream",
     "text": [
      "Average Adversary epoch loss: 0.12271950802495403\n"
     ]
    },
    {
     "name": "stderr",
     "output_type": "stream",
     "text": [
      "100%|███████████████████████████████████████████| 31/31 [01:58<00:00,  3.81s/it]\n",
      "100%|███████████████████████████████████████████| 11/11 [00:21<00:00,  1.97s/it]\n"
     ]
    },
    {
     "name": "stdout",
     "output_type": "stream",
     "text": [
      "*****Epoch 1/300*****\n",
      "*****Train Loss:  0.878025 Val Loss:  0.992478*****\n",
      "*****Validation Accuracy: 18.36%*****\n",
      "*****Total Avg Disparity: 0.07238440194814444*****\n",
      "\n",
      "Class Parade: Recall Difference = 0.04026587563172923\n",
      "Class Handshaking: Recall Difference = 0.0\n",
      "Class Riot: Recall Difference = 0.0\n",
      "Class Dancing: Recall Difference = 0.0\n",
      "Class Funeral: Recall Difference = 0.0\n",
      "Class Cheering: Recall Difference = 0.0\n",
      "Class Meeting: Recall Difference = 0.0\n",
      "Class Stock_Market: Recall Difference = 0.0\n",
      "Class Ceremony: Recall Difference = 0.0\n",
      "Class Concerts: Recall Difference = 0.0\n",
      "Class Couple: Recall Difference = 0.0\n",
      "Class Family_Group: Recall Difference = 0.0\n",
      "Class Picnic: Recall Difference = 0.0\n",
      "Class Soldier_Patrol: Recall Difference = -0.017647058823529432\n",
      "Class Spa: Recall Difference = 0.0\n",
      "Class Sports_Fan: Recall Difference = 0.0\n",
      "Class Surgeons: Recall Difference = 0.0\n",
      "Class Waiter_Waitress: Recall Difference = 0.10369206598586016\n",
      "Class Running: Recall Difference = 0.0\n",
      "Class Basketball: Recall Difference = 0.05343137254901953\n",
      "Class Football: Recall Difference = 0.0\n",
      "Class Soccer: Recall Difference = -0.10903426791277265\n",
      "Class Ice_Skating: Recall Difference = -0.13946470742587247\n",
      "Class Row_Boat: Recall Difference = -0.1181818181818182\n",
      "Class Aerobics: Recall Difference = 0.0\n",
      "Class Celebration_Or_Party: Recall Difference = 0.0\n",
      "Class Dresses: Recall Difference = -0.08318840579710146\n",
      "Class Rescue: Recall Difference = 0.0\n",
      "Class Angler: Recall Difference = 0.023529411764705882\n",
      "Class Hockey: Recall Difference = -0.03540903540903545\n",
      "Data has been appended to validation0.txt\n",
      "Epoch Number 89, Lambda: 0\n"
     ]
    },
    {
     "name": "stderr",
     "output_type": "stream",
     "text": [
      "100%|███████████████████████████████████████████| 31/31 [01:53<00:00,  3.68s/it]\n"
     ]
    },
    {
     "name": "stdout",
     "output_type": "stream",
     "text": [
      "Average Adversary epoch loss: 0.12171367123242348\n"
     ]
    },
    {
     "name": "stderr",
     "output_type": "stream",
     "text": [
      "100%|███████████████████████████████████████████| 31/31 [02:01<00:00,  3.91s/it]\n",
      "100%|███████████████████████████████████████████| 11/11 [00:21<00:00,  1.92s/it]\n"
     ]
    },
    {
     "name": "stdout",
     "output_type": "stream",
     "text": [
      "*****Epoch 1/300*****\n",
      "*****Train Loss:  0.877198 Val Loss:  0.992783*****\n",
      "*****Validation Accuracy: 18.48%*****\n",
      "*****Total Avg Disparity: 0.0767609117905696*****\n",
      "\n",
      "Class Parade: Recall Difference = 0.04702263238848592\n",
      "Class Handshaking: Recall Difference = 0.0\n",
      "Class Riot: Recall Difference = 0.0\n",
      "Class Dancing: Recall Difference = 0.0\n",
      "Class Funeral: Recall Difference = 0.0\n",
      "Class Cheering: Recall Difference = 0.0\n",
      "Class Meeting: Recall Difference = 0.0\n",
      "Class Stock_Market: Recall Difference = 0.0\n",
      "Class Ceremony: Recall Difference = 0.0\n",
      "Class Concerts: Recall Difference = 0.0\n",
      "Class Couple: Recall Difference = 0.0\n",
      "Class Family_Group: Recall Difference = 0.0\n",
      "Class Picnic: Recall Difference = 0.0\n",
      "Class Soldier_Patrol: Recall Difference = -0.01764705882352942\n",
      "Class Spa: Recall Difference = 0.0\n",
      "Class Sports_Fan: Recall Difference = 0.0\n",
      "Class Surgeons: Recall Difference = 0.0\n",
      "Class Waiter_Waitress: Recall Difference = 0.10369206598586017\n",
      "Class Running: Recall Difference = 0.0\n",
      "Class Basketball: Recall Difference = 0.057352941176470384\n",
      "Class Football: Recall Difference = 0.0\n",
      "Class Soccer: Recall Difference = -0.09968847352024926\n",
      "Class Ice_Skating: Recall Difference = -0.13946470742587236\n",
      "Class Row_Boat: Recall Difference = -0.13863636363636364\n",
      "Class Aerobics: Recall Difference = 0.0\n",
      "Class Celebration_Or_Party: Recall Difference = 0.0\n",
      "Class Dresses: Recall Difference = -0.08318840579710146\n",
      "Class Rescue: Recall Difference = 0.0\n",
      "Class Angler: Recall Difference = 0.023529411764705885\n",
      "Class Hockey: Recall Difference = -0.05738705738705743\n",
      "Data has been appended to validation0.txt\n",
      "Epoch Number 90, Lambda: 0\n"
     ]
    },
    {
     "name": "stderr",
     "output_type": "stream",
     "text": [
      "100%|███████████████████████████████████████████| 31/31 [01:54<00:00,  3.70s/it]\n"
     ]
    },
    {
     "name": "stdout",
     "output_type": "stream",
     "text": [
      "Average Adversary epoch loss: 0.12167689492625575\n"
     ]
    },
    {
     "name": "stderr",
     "output_type": "stream",
     "text": [
      "100%|███████████████████████████████████████████| 31/31 [01:59<00:00,  3.84s/it]\n",
      "100%|███████████████████████████████████████████| 11/11 [00:21<00:00,  1.93s/it]\n"
     ]
    },
    {
     "name": "stdout",
     "output_type": "stream",
     "text": [
      "*****Epoch 1/300*****\n",
      "*****Train Loss:  0.878959 Val Loss:  0.992689*****\n",
      "*****Validation Accuracy: 18.36%*****\n",
      "*****Total Avg Disparity: 0.07403978156943938*****\n",
      "\n",
      "Class Parade: Recall Difference = 0.04026587563172923\n",
      "Class Handshaking: Recall Difference = 0.0\n",
      "Class Riot: Recall Difference = 0.0\n",
      "Class Dancing: Recall Difference = 0.0\n",
      "Class Funeral: Recall Difference = 0.0\n",
      "Class Cheering: Recall Difference = 0.0\n",
      "Class Meeting: Recall Difference = 0.0\n",
      "Class Stock_Market: Recall Difference = 0.0\n",
      "Class Ceremony: Recall Difference = 0.0\n",
      "Class Concerts: Recall Difference = 0.0\n",
      "Class Couple: Recall Difference = 0.0\n",
      "Class Family_Group: Recall Difference = 0.0\n",
      "Class Picnic: Recall Difference = 0.0\n",
      "Class Soldier_Patrol: Recall Difference = -0.01764705882352942\n",
      "Class Spa: Recall Difference = 0.0\n",
      "Class Sports_Fan: Recall Difference = 0.0\n",
      "Class Surgeons: Recall Difference = 0.0\n",
      "Class Waiter_Waitress: Recall Difference = 0.10369206598586017\n",
      "Class Running: Recall Difference = 0.0\n",
      "Class Basketball: Recall Difference = 0.057352941176470384\n",
      "Class Football: Recall Difference = 0.0\n",
      "Class Soccer: Recall Difference = -0.09968847352024926\n",
      "Class Ice_Skating: Recall Difference = -0.13946470742587247\n",
      "Class Row_Boat: Recall Difference = -0.1181818181818182\n",
      "Class Aerobics: Recall Difference = 0.0\n",
      "Class Celebration_Or_Party: Recall Difference = 0.0\n",
      "Class Dresses: Recall Difference = -0.08318840579710146\n",
      "Class Rescue: Recall Difference = 0.0\n",
      "Class Angler: Recall Difference = 0.023529411764705882\n",
      "Class Hockey: Recall Difference = -0.05738705738705743\n",
      "Data has been appended to validation0.txt\n",
      "Epoch Number 91, Lambda: 0\n"
     ]
    },
    {
     "name": "stderr",
     "output_type": "stream",
     "text": [
      "100%|███████████████████████████████████████████| 31/31 [01:55<00:00,  3.72s/it]\n"
     ]
    },
    {
     "name": "stdout",
     "output_type": "stream",
     "text": [
      "Average Adversary epoch loss: 0.12331895770565156\n"
     ]
    },
    {
     "name": "stderr",
     "output_type": "stream",
     "text": [
      "100%|███████████████████████████████████████████| 31/31 [02:00<00:00,  3.88s/it]\n",
      "100%|███████████████████████████████████████████| 11/11 [00:21<00:00,  1.93s/it]\n"
     ]
    },
    {
     "name": "stdout",
     "output_type": "stream",
     "text": [
      "*****Epoch 1/300*****\n",
      "*****Train Loss:  0.878420 Val Loss:  0.992217*****\n",
      "*****Validation Accuracy: 18.56%*****\n",
      "*****Total Avg Disparity: 0.07946849298607879*****\n",
      "\n",
      "Class Parade: Recall Difference = 0.04702263238848592\n",
      "Class Handshaking: Recall Difference = 0.0\n",
      "Class Riot: Recall Difference = 0.0\n",
      "Class Dancing: Recall Difference = 0.0\n",
      "Class Funeral: Recall Difference = 0.0\n",
      "Class Cheering: Recall Difference = 0.0\n",
      "Class Meeting: Recall Difference = 0.0\n",
      "Class Stock_Market: Recall Difference = 0.0\n",
      "Class Ceremony: Recall Difference = 0.0\n",
      "Class Concerts: Recall Difference = 0.0\n",
      "Class Couple: Recall Difference = 0.0\n",
      "Class Family_Group: Recall Difference = 0.0\n",
      "Class Picnic: Recall Difference = 0.0\n",
      "Class Soldier_Patrol: Recall Difference = -0.0764705882352941\n",
      "Class Spa: Recall Difference = 0.0\n",
      "Class Sports_Fan: Recall Difference = 0.0\n",
      "Class Surgeons: Recall Difference = 0.0\n",
      "Class Waiter_Waitress: Recall Difference = 0.08876669285153178\n",
      "Class Running: Recall Difference = 0.0\n",
      "Class Basketball: Recall Difference = 0.057352941176470384\n",
      "Class Football: Recall Difference = 0.0\n",
      "Class Soccer: Recall Difference = -0.09968847352024926\n",
      "Class Ice_Skating: Recall Difference = -0.13946470742587236\n",
      "Class Row_Boat: Recall Difference = -0.12613636363636366\n",
      "Class Aerobics: Recall Difference = 0.0\n",
      "Class Celebration_Or_Party: Recall Difference = 0.0\n",
      "Class Dresses: Recall Difference = -0.08985507246376812\n",
      "Class Rescue: Recall Difference = 0.0\n",
      "Class Angler: Recall Difference = 0.023529411764705885\n",
      "Class Hockey: Recall Difference = -0.04639804639804637\n",
      "Data has been appended to validation0.txt\n",
      "Epoch Number 92, Lambda: 0\n"
     ]
    },
    {
     "name": "stderr",
     "output_type": "stream",
     "text": [
      "100%|███████████████████████████████████████████| 31/31 [01:55<00:00,  3.73s/it]\n"
     ]
    },
    {
     "name": "stdout",
     "output_type": "stream",
     "text": [
      "Average Adversary epoch loss: 0.12377268893103446\n"
     ]
    },
    {
     "name": "stderr",
     "output_type": "stream",
     "text": [
      "100%|███████████████████████████████████████████| 31/31 [01:58<00:00,  3.83s/it]\n",
      "100%|███████████████████████████████████████████| 11/11 [00:21<00:00,  1.92s/it]\n"
     ]
    },
    {
     "name": "stdout",
     "output_type": "stream",
     "text": [
      "*****Epoch 1/300*****\n",
      "*****Train Loss:  0.876450 Val Loss:  0.992676*****\n",
      "*****Validation Accuracy: 18.48%*****\n",
      "*****Total Avg Disparity: 0.08169307925214883*****\n",
      "\n",
      "Class Parade: Recall Difference = 0.04026587563172923\n",
      "Class Handshaking: Recall Difference = 0.0\n",
      "Class Riot: Recall Difference = 0.0\n",
      "Class Dancing: Recall Difference = 0.0\n",
      "Class Funeral: Recall Difference = 0.0\n",
      "Class Cheering: Recall Difference = 0.0\n",
      "Class Meeting: Recall Difference = 0.0\n",
      "Class Stock_Market: Recall Difference = 0.0\n",
      "Class Ceremony: Recall Difference = 0.0\n",
      "Class Concerts: Recall Difference = 0.0\n",
      "Class Couple: Recall Difference = 0.0\n",
      "Class Family_Group: Recall Difference = 0.0\n",
      "Class Picnic: Recall Difference = 0.0\n",
      "Class Soldier_Patrol: Recall Difference = -0.0764705882352941\n",
      "Class Spa: Recall Difference = 0.0\n",
      "Class Sports_Fan: Recall Difference = 0.0\n",
      "Class Surgeons: Recall Difference = 0.0\n",
      "Class Waiter_Waitress: Recall Difference = 0.10369206598586017\n",
      "Class Running: Recall Difference = 0.0\n",
      "Class Basketball: Recall Difference = 0.06127450980392146\n",
      "Class Football: Recall Difference = 0.0\n",
      "Class Soccer: Recall Difference = -0.09968847352024926\n",
      "Class Ice_Skating: Recall Difference = -0.13946470742587236\n",
      "Class Row_Boat: Recall Difference = -0.13863636363636364\n",
      "Class Aerobics: Recall Difference = 0.0\n",
      "Class Celebration_Or_Party: Recall Difference = 0.0\n",
      "Class Dresses: Recall Difference = -0.07652173913043478\n",
      "Class Rescue: Recall Difference = 0.0\n",
      "Class Angler: Recall Difference = 0.023529411764705885\n",
      "Class Hockey: Recall Difference = -0.05738705738705743\n",
      "Data has been appended to validation0.txt\n",
      "Epoch Number 93, Lambda: 0\n"
     ]
    },
    {
     "name": "stderr",
     "output_type": "stream",
     "text": [
      "100%|███████████████████████████████████████████| 31/31 [01:55<00:00,  3.73s/it]\n"
     ]
    },
    {
     "name": "stdout",
     "output_type": "stream",
     "text": [
      "Average Adversary epoch loss: 0.12207881938065251\n"
     ]
    },
    {
     "name": "stderr",
     "output_type": "stream",
     "text": [
      "100%|███████████████████████████████████████████| 31/31 [01:58<00:00,  3.82s/it]\n",
      "100%|███████████████████████████████████████████| 11/11 [00:21<00:00,  1.92s/it]\n"
     ]
    },
    {
     "name": "stdout",
     "output_type": "stream",
     "text": [
      "*****Epoch 1/300*****\n",
      "*****Train Loss:  0.872950 Val Loss:  0.992480*****\n",
      "*****Validation Accuracy: 18.56%*****\n",
      "*****Total Avg Disparity: 0.08221103029951163*****\n",
      "\n",
      "Class Parade: Recall Difference = 0.04702263238848592\n",
      "Class Handshaking: Recall Difference = 0.0\n",
      "Class Riot: Recall Difference = 0.0\n",
      "Class Dancing: Recall Difference = 0.0\n",
      "Class Funeral: Recall Difference = 0.0\n",
      "Class Cheering: Recall Difference = 0.0\n",
      "Class Meeting: Recall Difference = 0.0\n",
      "Class Stock_Market: Recall Difference = 0.0\n",
      "Class Ceremony: Recall Difference = 0.0\n",
      "Class Concerts: Recall Difference = 0.0\n",
      "Class Couple: Recall Difference = 0.0\n",
      "Class Family_Group: Recall Difference = 0.0\n",
      "Class Picnic: Recall Difference = 0.0\n",
      "Class Soldier_Patrol: Recall Difference = -0.0764705882352941\n",
      "Class Spa: Recall Difference = 0.0\n",
      "Class Sports_Fan: Recall Difference = 0.0\n",
      "Class Surgeons: Recall Difference = 0.0\n",
      "Class Waiter_Waitress: Recall Difference = 0.10369206598586016\n",
      "Class Running: Recall Difference = 0.0\n",
      "Class Basketball: Recall Difference = 0.057352941176470384\n",
      "Class Football: Recall Difference = 0.0\n",
      "Class Soccer: Recall Difference = -0.09968847352024926\n",
      "Class Ice_Skating: Recall Difference = -0.13946470742587236\n",
      "Class Row_Boat: Recall Difference = -0.13863636363636364\n",
      "Class Aerobics: Recall Difference = 0.0\n",
      "Class Celebration_Or_Party: Recall Difference = 0.0\n",
      "Class Dresses: Recall Difference = -0.08985507246376812\n",
      "Class Rescue: Recall Difference = 0.0\n",
      "Class Angler: Recall Difference = 0.023529411764705885\n",
      "Class Hockey: Recall Difference = -0.04639804639804637\n",
      "Data has been appended to validation0.txt\n",
      "Epoch Number 94, Lambda: 0\n"
     ]
    },
    {
     "name": "stderr",
     "output_type": "stream",
     "text": [
      "100%|███████████████████████████████████████████| 31/31 [01:55<00:00,  3.74s/it]\n"
     ]
    },
    {
     "name": "stdout",
     "output_type": "stream",
     "text": [
      "Average Adversary epoch loss: 0.12287344038486481\n"
     ]
    },
    {
     "name": "stderr",
     "output_type": "stream",
     "text": [
      "100%|███████████████████████████████████████████| 31/31 [02:01<00:00,  3.94s/it]\n",
      "100%|███████████████████████████████████████████| 11/11 [00:21<00:00,  1.93s/it]\n"
     ]
    },
    {
     "name": "stdout",
     "output_type": "stream",
     "text": [
      "*****Epoch 1/300*****\n",
      "*****Train Loss:  0.878135 Val Loss:  0.992390*****\n",
      "*****Validation Accuracy: 18.48%*****\n",
      "*****Total Avg Disparity: 0.08226331788121097*****\n",
      "\n",
      "Class Parade: Recall Difference = 0.04702263238848592\n",
      "Class Handshaking: Recall Difference = 0.0\n",
      "Class Riot: Recall Difference = 0.0\n",
      "Class Dancing: Recall Difference = 0.0\n",
      "Class Funeral: Recall Difference = 0.0\n",
      "Class Cheering: Recall Difference = 0.0\n",
      "Class Meeting: Recall Difference = 0.0\n",
      "Class Stock_Market: Recall Difference = 0.0\n",
      "Class Ceremony: Recall Difference = 0.0\n",
      "Class Concerts: Recall Difference = 0.0\n",
      "Class Couple: Recall Difference = 0.0\n",
      "Class Family_Group: Recall Difference = 0.0\n",
      "Class Picnic: Recall Difference = 0.0\n",
      "Class Soldier_Patrol: Recall Difference = -0.08758169934640521\n",
      "Class Spa: Recall Difference = 0.0\n",
      "Class Sports_Fan: Recall Difference = 0.0\n",
      "Class Surgeons: Recall Difference = 0.0\n",
      "Class Waiter_Waitress: Recall Difference = 0.10369206598586016\n",
      "Class Running: Recall Difference = 0.0\n",
      "Class Basketball: Recall Difference = 0.05343137254901953\n",
      "Class Football: Recall Difference = 0.0\n",
      "Class Soccer: Recall Difference = -0.09968847352024926\n",
      "Class Ice_Skating: Recall Difference = -0.13946470742587236\n",
      "Class Row_Boat: Recall Difference = -0.13863636363636364\n",
      "Class Aerobics: Recall Difference = 0.0\n",
      "Class Celebration_Or_Party: Recall Difference = 0.0\n",
      "Class Dresses: Recall Difference = -0.08318840579710146\n",
      "Class Rescue: Recall Difference = 0.0\n",
      "Class Angler: Recall Difference = 0.023529411764705882\n",
      "Class Hockey: Recall Difference = -0.04639804639804637\n",
      "Data has been appended to validation0.txt\n",
      "Epoch Number 95, Lambda: 0\n"
     ]
    },
    {
     "name": "stderr",
     "output_type": "stream",
     "text": [
      "100%|███████████████████████████████████████████| 31/31 [01:55<00:00,  3.72s/it]\n"
     ]
    },
    {
     "name": "stdout",
     "output_type": "stream",
     "text": [
      "Average Adversary epoch loss: 0.12244776972839909\n"
     ]
    },
    {
     "name": "stderr",
     "output_type": "stream",
     "text": [
      "100%|███████████████████████████████████████████| 31/31 [01:59<00:00,  3.85s/it]\n",
      "100%|███████████████████████████████████████████| 11/11 [00:21<00:00,  1.97s/it]\n"
     ]
    },
    {
     "name": "stdout",
     "output_type": "stream",
     "text": [
      "*****Epoch 1/300*****\n",
      "*****Train Loss:  0.875425 Val Loss:  0.992267*****\n",
      "*****Validation Accuracy: 18.36%*****\n",
      "*****Total Avg Disparity: 0.0703895170376585*****\n",
      "\n",
      "Class Parade: Recall Difference = 0.04026587563172923\n",
      "Class Handshaking: Recall Difference = 0.0\n",
      "Class Riot: Recall Difference = 0.0\n",
      "Class Dancing: Recall Difference = 0.0\n",
      "Class Funeral: Recall Difference = 0.0\n",
      "Class Cheering: Recall Difference = 0.0\n",
      "Class Meeting: Recall Difference = 0.0\n",
      "Class Stock_Market: Recall Difference = 0.0\n",
      "Class Ceremony: Recall Difference = 0.0\n",
      "Class Concerts: Recall Difference = 0.0\n",
      "Class Couple: Recall Difference = 0.0\n",
      "Class Family_Group: Recall Difference = 0.0\n",
      "Class Picnic: Recall Difference = 0.0\n",
      "Class Soldier_Patrol: Recall Difference = 0.04117647058823528\n",
      "Class Spa: Recall Difference = 0.0\n",
      "Class Sports_Fan: Recall Difference = 0.0\n",
      "Class Surgeons: Recall Difference = 0.0\n",
      "Class Waiter_Waitress: Recall Difference = 0.10369206598586013\n",
      "Class Running: Recall Difference = 0.0\n",
      "Class Basketball: Recall Difference = 0.05343137254901953\n",
      "Class Football: Recall Difference = 0.0\n",
      "Class Soccer: Recall Difference = -0.10903426791277265\n",
      "Class Ice_Skating: Recall Difference = -0.13946470742587247\n",
      "Class Row_Boat: Recall Difference = -0.1181818181818182\n",
      "Class Aerobics: Recall Difference = 0.0\n",
      "Class Celebration_Or_Party: Recall Difference = 0.0\n",
      "Class Dresses: Recall Difference = -0.03971014492753623\n",
      "Class Rescue: Recall Difference = 0.0\n",
      "Class Angler: Recall Difference = 0.023529411764705882\n",
      "Class Hockey: Recall Difference = -0.03540903540903545\n",
      "Data has been appended to validation0.txt\n",
      "Epoch Number 96, Lambda: 0\n"
     ]
    },
    {
     "name": "stderr",
     "output_type": "stream",
     "text": [
      "100%|███████████████████████████████████████████| 31/31 [01:56<00:00,  3.74s/it]\n"
     ]
    },
    {
     "name": "stdout",
     "output_type": "stream",
     "text": [
      "Average Adversary epoch loss: 0.12298690551711668\n"
     ]
    },
    {
     "name": "stderr",
     "output_type": "stream",
     "text": [
      "100%|███████████████████████████████████████████| 31/31 [02:01<00:00,  3.92s/it]\n",
      "100%|███████████████████████████████████████████| 11/11 [00:21<00:00,  1.94s/it]\n"
     ]
    },
    {
     "name": "stdout",
     "output_type": "stream",
     "text": [
      "*****Epoch 1/300*****\n",
      "*****Train Loss:  0.877773 Val Loss:  0.992668*****\n",
      "*****Validation Accuracy: 18.36%*****\n",
      "*****Total Avg Disparity: 0.07403978156943938*****\n",
      "\n",
      "Class Parade: Recall Difference = 0.04026587563172923\n",
      "Class Handshaking: Recall Difference = 0.0\n",
      "Class Riot: Recall Difference = 0.0\n",
      "Class Dancing: Recall Difference = 0.0\n",
      "Class Funeral: Recall Difference = 0.0\n",
      "Class Cheering: Recall Difference = 0.0\n",
      "Class Meeting: Recall Difference = 0.0\n",
      "Class Stock_Market: Recall Difference = 0.0\n",
      "Class Ceremony: Recall Difference = 0.0\n",
      "Class Concerts: Recall Difference = 0.0\n",
      "Class Couple: Recall Difference = 0.0\n",
      "Class Family_Group: Recall Difference = 0.0\n",
      "Class Picnic: Recall Difference = 0.0\n",
      "Class Soldier_Patrol: Recall Difference = -0.017647058823529432\n",
      "Class Spa: Recall Difference = 0.0\n",
      "Class Sports_Fan: Recall Difference = 0.0\n",
      "Class Surgeons: Recall Difference = 0.0\n",
      "Class Waiter_Waitress: Recall Difference = 0.10369206598586016\n",
      "Class Running: Recall Difference = 0.0\n",
      "Class Basketball: Recall Difference = 0.057352941176470384\n",
      "Class Football: Recall Difference = 0.0\n",
      "Class Soccer: Recall Difference = -0.09968847352024926\n",
      "Class Ice_Skating: Recall Difference = -0.13946470742587247\n",
      "Class Row_Boat: Recall Difference = -0.1181818181818182\n",
      "Class Aerobics: Recall Difference = 0.0\n",
      "Class Celebration_Or_Party: Recall Difference = 0.0\n",
      "Class Dresses: Recall Difference = -0.08318840579710146\n",
      "Class Rescue: Recall Difference = 0.0\n",
      "Class Angler: Recall Difference = 0.023529411764705882\n",
      "Class Hockey: Recall Difference = -0.05738705738705743\n",
      "Data has been appended to validation0.txt\n",
      "Epoch Number 97, Lambda: 0\n"
     ]
    },
    {
     "name": "stderr",
     "output_type": "stream",
     "text": [
      "100%|███████████████████████████████████████████| 31/31 [01:54<00:00,  3.69s/it]\n"
     ]
    },
    {
     "name": "stdout",
     "output_type": "stream",
     "text": [
      "Average Adversary epoch loss: 0.12348362322776549\n"
     ]
    },
    {
     "name": "stderr",
     "output_type": "stream",
     "text": [
      "100%|███████████████████████████████████████████| 31/31 [02:00<00:00,  3.89s/it]\n",
      "100%|███████████████████████████████████████████| 11/11 [00:21<00:00,  1.96s/it]\n"
     ]
    },
    {
     "name": "stdout",
     "output_type": "stream",
     "text": [
      "*****Epoch 1/300*****\n",
      "*****Train Loss:  0.876931 Val Loss:  0.992504*****\n",
      "*****Validation Accuracy: 18.39%*****\n",
      "*****Total Avg Disparity: 0.07471545724511505*****\n",
      "\n",
      "Class Parade: Recall Difference = 0.04702263238848592\n",
      "Class Handshaking: Recall Difference = 0.0\n",
      "Class Riot: Recall Difference = 0.0\n",
      "Class Dancing: Recall Difference = 0.0\n",
      "Class Funeral: Recall Difference = 0.0\n",
      "Class Cheering: Recall Difference = 0.0\n",
      "Class Meeting: Recall Difference = 0.0\n",
      "Class Stock_Market: Recall Difference = 0.0\n",
      "Class Ceremony: Recall Difference = 0.0\n",
      "Class Concerts: Recall Difference = 0.0\n",
      "Class Couple: Recall Difference = 0.0\n",
      "Class Family_Group: Recall Difference = 0.0\n",
      "Class Picnic: Recall Difference = 0.0\n",
      "Class Soldier_Patrol: Recall Difference = -0.017647058823529432\n",
      "Class Spa: Recall Difference = 0.0\n",
      "Class Sports_Fan: Recall Difference = 0.0\n",
      "Class Surgeons: Recall Difference = 0.0\n",
      "Class Waiter_Waitress: Recall Difference = 0.10369206598586016\n",
      "Class Running: Recall Difference = 0.0\n",
      "Class Basketball: Recall Difference = 0.057352941176470384\n",
      "Class Football: Recall Difference = 0.0\n",
      "Class Soccer: Recall Difference = -0.09968847352024926\n",
      "Class Ice_Skating: Recall Difference = -0.13946470742587236\n",
      "Class Row_Boat: Recall Difference = -0.1181818181818182\n",
      "Class Aerobics: Recall Difference = 0.0\n",
      "Class Celebration_Or_Party: Recall Difference = 0.0\n",
      "Class Dresses: Recall Difference = -0.08318840579710146\n",
      "Class Rescue: Recall Difference = 0.0\n",
      "Class Angler: Recall Difference = 0.023529411764705882\n",
      "Class Hockey: Recall Difference = -0.05738705738705743\n",
      "Data has been appended to validation0.txt\n",
      "Epoch Number 98, Lambda: 0\n"
     ]
    },
    {
     "name": "stderr",
     "output_type": "stream",
     "text": [
      "100%|███████████████████████████████████████████| 31/31 [01:54<00:00,  3.70s/it]\n"
     ]
    },
    {
     "name": "stdout",
     "output_type": "stream",
     "text": [
      "Average Adversary epoch loss: 0.12168909056532767\n"
     ]
    },
    {
     "name": "stderr",
     "output_type": "stream",
     "text": [
      "100%|███████████████████████████████████████████| 31/31 [02:01<00:00,  3.92s/it]\n",
      "100%|███████████████████████████████████████████| 11/11 [00:21<00:00,  1.95s/it]\n"
     ]
    },
    {
     "name": "stdout",
     "output_type": "stream",
     "text": [
      "*****Epoch 1/300*****\n",
      "*****Train Loss:  0.877985 Val Loss:  0.992556*****\n",
      "*****Validation Accuracy: 18.51%*****\n",
      "*****Total Avg Disparity: 0.08425672084987507*****\n",
      "\n",
      "Class Parade: Recall Difference = 0.04702263238848592\n",
      "Class Handshaking: Recall Difference = 0.0\n",
      "Class Riot: Recall Difference = 0.0\n",
      "Class Dancing: Recall Difference = 0.0\n",
      "Class Funeral: Recall Difference = 0.0\n",
      "Class Cheering: Recall Difference = 0.0\n",
      "Class Meeting: Recall Difference = 0.0\n",
      "Class Stock_Market: Recall Difference = 0.0\n",
      "Class Ceremony: Recall Difference = 0.0\n",
      "Class Concerts: Recall Difference = 0.0\n",
      "Class Couple: Recall Difference = 0.0\n",
      "Class Family_Group: Recall Difference = 0.0\n",
      "Class Picnic: Recall Difference = 0.0\n",
      "Class Soldier_Patrol: Recall Difference = -0.08758169934640521\n",
      "Class Spa: Recall Difference = 0.0\n",
      "Class Sports_Fan: Recall Difference = 0.0\n",
      "Class Surgeons: Recall Difference = 0.0\n",
      "Class Waiter_Waitress: Recall Difference = 0.10369206598586016\n",
      "Class Running: Recall Difference = 0.0\n",
      "Class Basketball: Recall Difference = 0.057352941176470384\n",
      "Class Football: Recall Difference = 0.0\n",
      "Class Soccer: Recall Difference = -0.10903426791277265\n",
      "Class Ice_Skating: Recall Difference = -0.13946470742587236\n",
      "Class Row_Boat: Recall Difference = -0.13863636363636364\n",
      "Class Aerobics: Recall Difference = 0.0\n",
      "Class Celebration_Or_Party: Recall Difference = 0.0\n",
      "Class Dresses: Recall Difference = -0.08985507246376812\n",
      "Class Rescue: Recall Difference = 0.0\n",
      "Class Angler: Recall Difference = 0.023529411764705885\n",
      "Class Hockey: Recall Difference = -0.04639804639804637\n",
      "Data has been appended to validation0.txt\n",
      "Epoch Number 99, Lambda: 0\n"
     ]
    },
    {
     "name": "stderr",
     "output_type": "stream",
     "text": [
      "100%|███████████████████████████████████████████| 31/31 [01:54<00:00,  3.68s/it]\n"
     ]
    },
    {
     "name": "stdout",
     "output_type": "stream",
     "text": [
      "Average Adversary epoch loss: 0.12096414835222306\n"
     ]
    },
    {
     "name": "stderr",
     "output_type": "stream",
     "text": [
      "100%|███████████████████████████████████████████| 31/31 [02:00<00:00,  3.89s/it]\n",
      "100%|███████████████████████████████████████████| 11/11 [00:21<00:00,  1.93s/it]\n"
     ]
    },
    {
     "name": "stdout",
     "output_type": "stream",
     "text": [
      "*****Epoch 1/300*****\n",
      "*****Train Loss:  0.876962 Val Loss:  0.992623*****\n",
      "*****Validation Accuracy: 18.42%*****\n",
      "*****Total Avg Disparity: 0.07538212391178171*****\n",
      "\n",
      "Class Parade: Recall Difference = 0.04702263238848592\n",
      "Class Handshaking: Recall Difference = 0.0\n",
      "Class Riot: Recall Difference = 0.0\n",
      "Class Dancing: Recall Difference = 0.0\n",
      "Class Funeral: Recall Difference = 0.0\n",
      "Class Cheering: Recall Difference = 0.0\n",
      "Class Meeting: Recall Difference = 0.0\n",
      "Class Stock_Market: Recall Difference = 0.0\n",
      "Class Ceremony: Recall Difference = 0.0\n",
      "Class Concerts: Recall Difference = 0.0\n",
      "Class Couple: Recall Difference = 0.0\n",
      "Class Family_Group: Recall Difference = 0.0\n",
      "Class Picnic: Recall Difference = 0.0\n",
      "Class Soldier_Patrol: Recall Difference = -0.017647058823529432\n",
      "Class Spa: Recall Difference = 0.0\n",
      "Class Sports_Fan: Recall Difference = 0.0\n",
      "Class Surgeons: Recall Difference = 0.0\n",
      "Class Waiter_Waitress: Recall Difference = 0.10369206598586017\n",
      "Class Running: Recall Difference = 0.0\n",
      "Class Basketball: Recall Difference = 0.057352941176470384\n",
      "Class Football: Recall Difference = 0.0\n",
      "Class Soccer: Recall Difference = -0.09968847352024926\n",
      "Class Ice_Skating: Recall Difference = -0.13946470742587236\n",
      "Class Row_Boat: Recall Difference = -0.1181818181818182\n",
      "Class Aerobics: Recall Difference = 0.0\n",
      "Class Celebration_Or_Party: Recall Difference = 0.0\n",
      "Class Dresses: Recall Difference = -0.08985507246376812\n",
      "Class Rescue: Recall Difference = 0.0\n",
      "Class Angler: Recall Difference = 0.023529411764705882\n",
      "Class Hockey: Recall Difference = -0.05738705738705743\n",
      "Data has been appended to validation0.txt\n",
      "Epoch Number 100, Lambda: 0\n"
     ]
    },
    {
     "name": "stderr",
     "output_type": "stream",
     "text": [
      "100%|███████████████████████████████████████████| 31/31 [01:54<00:00,  3.69s/it]\n"
     ]
    },
    {
     "name": "stdout",
     "output_type": "stream",
     "text": [
      "Average Adversary epoch loss: 0.12098597975507859\n"
     ]
    },
    {
     "name": "stderr",
     "output_type": "stream",
     "text": [
      "100%|███████████████████████████████████████████| 31/31 [01:59<00:00,  3.87s/it]\n",
      "100%|███████████████████████████████████████████| 11/11 [00:21<00:00,  1.96s/it]\n"
     ]
    },
    {
     "name": "stdout",
     "output_type": "stream",
     "text": [
      "*****Epoch 1/300*****\n",
      "*****Train Loss:  0.878298 Val Loss:  0.992630*****\n",
      "*****Validation Accuracy: 18.53%*****\n",
      "*****Total Avg Disparity: 0.08557171594164661*****\n",
      "\n",
      "Class Parade: Recall Difference = 0.04702263238848592\n",
      "Class Handshaking: Recall Difference = 0.0\n",
      "Class Riot: Recall Difference = 0.0\n",
      "Class Dancing: Recall Difference = 0.0\n",
      "Class Funeral: Recall Difference = 0.0\n",
      "Class Cheering: Recall Difference = 0.0\n",
      "Class Meeting: Recall Difference = 0.0\n",
      "Class Stock_Market: Recall Difference = 0.0\n",
      "Class Ceremony: Recall Difference = 0.0\n",
      "Class Concerts: Recall Difference = 0.0\n",
      "Class Couple: Recall Difference = 0.0\n",
      "Class Family_Group: Recall Difference = 0.0\n",
      "Class Picnic: Recall Difference = 0.0\n",
      "Class Soldier_Patrol: Recall Difference = -0.07647058823529411\n",
      "Class Spa: Recall Difference = 0.0\n",
      "Class Sports_Fan: Recall Difference = 0.0\n",
      "Class Surgeons: Recall Difference = 0.0\n",
      "Class Waiter_Waitress: Recall Difference = 0.10369206598586017\n",
      "Class Running: Recall Difference = 0.0\n",
      "Class Basketball: Recall Difference = 0.06127450980392146\n",
      "Class Football: Recall Difference = 0.0\n",
      "Class Soccer: Recall Difference = -0.09034267912772592\n",
      "Class Ice_Skating: Recall Difference = -0.14917344528995002\n",
      "Class Row_Boat: Recall Difference = -0.16363636363636366\n",
      "Class Aerobics: Recall Difference = 0.0\n",
      "Class Celebration_Or_Party: Recall Difference = 0.0\n",
      "Class Dresses: Recall Difference = -0.08318840579710146\n",
      "Class Rescue: Recall Difference = 0.0\n",
      "Class Angler: Recall Difference = 0.023529411764705882\n",
      "Class Hockey: Recall Difference = -0.05738705738705743\n",
      "Data has been appended to validation0.txt\n",
      "Epoch Number 101, Lambda: 0\n"
     ]
    },
    {
     "name": "stderr",
     "output_type": "stream",
     "text": [
      "100%|███████████████████████████████████████████| 31/31 [01:54<00:00,  3.69s/it]\n"
     ]
    },
    {
     "name": "stdout",
     "output_type": "stream",
     "text": [
      "Average Adversary epoch loss: 0.12137762817644304\n"
     ]
    },
    {
     "name": "stderr",
     "output_type": "stream",
     "text": [
      "100%|███████████████████████████████████████████| 31/31 [01:59<00:00,  3.87s/it]\n",
      "100%|███████████████████████████████████████████| 11/11 [00:21<00:00,  1.95s/it]\n"
     ]
    },
    {
     "name": "stdout",
     "output_type": "stream",
     "text": [
      "*****Epoch 1/300*****\n",
      "*****Train Loss:  0.878269 Val Loss:  0.992166*****\n",
      "*****Validation Accuracy: 18.36%*****\n",
      "*****Total Avg Disparity: 0.0808689239620782*****\n",
      "\n",
      "Class Parade: Recall Difference = 0.04026587563172923\n",
      "Class Handshaking: Recall Difference = 0.0\n",
      "Class Riot: Recall Difference = 0.0\n",
      "Class Dancing: Recall Difference = 0.0\n",
      "Class Funeral: Recall Difference = 0.0\n",
      "Class Cheering: Recall Difference = 0.0\n",
      "Class Meeting: Recall Difference = 0.0\n",
      "Class Stock_Market: Recall Difference = 0.0\n",
      "Class Ceremony: Recall Difference = 0.0\n",
      "Class Concerts: Recall Difference = 0.0\n",
      "Class Couple: Recall Difference = 0.0\n",
      "Class Family_Group: Recall Difference = 0.0\n",
      "Class Picnic: Recall Difference = 0.0\n",
      "Class Soldier_Patrol: Recall Difference = -0.08758169934640521\n",
      "Class Spa: Recall Difference = 0.0\n",
      "Class Sports_Fan: Recall Difference = 0.0\n",
      "Class Surgeons: Recall Difference = 0.0\n",
      "Class Waiter_Waitress: Recall Difference = 0.10369206598586016\n",
      "Class Running: Recall Difference = 0.0\n",
      "Class Basketball: Recall Difference = 0.057352941176470384\n",
      "Class Football: Recall Difference = 0.0\n",
      "Class Soccer: Recall Difference = -0.10903426791277265\n",
      "Class Ice_Skating: Recall Difference = -0.13946470742587247\n",
      "Class Row_Boat: Recall Difference = -0.1181818181818182\n",
      "Class Aerobics: Recall Difference = 0.0\n",
      "Class Celebration_Or_Party: Recall Difference = 0.0\n",
      "Class Dresses: Recall Difference = -0.08318840579710146\n",
      "Class Rescue: Recall Difference = 0.0\n",
      "Class Angler: Recall Difference = 0.023529411764705885\n",
      "Class Hockey: Recall Difference = -0.04639804639804637\n",
      "Data has been appended to validation0.txt\n",
      "Epoch Number 102, Lambda: 0\n"
     ]
    },
    {
     "name": "stderr",
     "output_type": "stream",
     "text": [
      "100%|███████████████████████████████████████████| 31/31 [01:56<00:00,  3.75s/it]\n"
     ]
    },
    {
     "name": "stdout",
     "output_type": "stream",
     "text": [
      "Average Adversary epoch loss: 0.12136954525786062\n"
     ]
    },
    {
     "name": "stderr",
     "output_type": "stream",
     "text": [
      "100%|███████████████████████████████████████████| 31/31 [02:00<00:00,  3.90s/it]\n",
      "100%|███████████████████████████████████████████| 11/11 [00:21<00:00,  1.94s/it]\n"
     ]
    },
    {
     "name": "stdout",
     "output_type": "stream",
     "text": [
      "*****Epoch 1/300*****\n",
      "*****Train Loss:  0.873657 Val Loss:  0.992496*****\n",
      "*****Validation Accuracy: 18.48%*****\n",
      "*****Total Avg Disparity: 0.08507210313584561*****\n",
      "\n",
      "Class Parade: Recall Difference = 0.04026587563172923\n",
      "Class Handshaking: Recall Difference = 0.0\n",
      "Class Riot: Recall Difference = 0.0\n",
      "Class Dancing: Recall Difference = 0.0\n",
      "Class Funeral: Recall Difference = 0.0\n",
      "Class Cheering: Recall Difference = 0.0\n",
      "Class Meeting: Recall Difference = 0.0\n",
      "Class Stock_Market: Recall Difference = 0.0\n",
      "Class Ceremony: Recall Difference = 0.0\n",
      "Class Concerts: Recall Difference = 0.0\n",
      "Class Couple: Recall Difference = 0.0\n",
      "Class Family_Group: Recall Difference = 0.0\n",
      "Class Picnic: Recall Difference = 0.0\n",
      "Class Soldier_Patrol: Recall Difference = -0.08758169934640521\n",
      "Class Spa: Recall Difference = 0.0\n",
      "Class Sports_Fan: Recall Difference = 0.0\n",
      "Class Surgeons: Recall Difference = 0.0\n",
      "Class Waiter_Waitress: Recall Difference = 0.10369206598586016\n",
      "Class Running: Recall Difference = 0.0\n",
      "Class Basketball: Recall Difference = 0.06127450980392146\n",
      "Class Football: Recall Difference = 0.0\n",
      "Class Soccer: Recall Difference = -0.10903426791277265\n",
      "Class Ice_Skating: Recall Difference = -0.13946470742587236\n",
      "Class Row_Boat: Recall Difference = -0.13863636363636364\n",
      "Class Aerobics: Recall Difference = 0.0\n",
      "Class Celebration_Or_Party: Recall Difference = 0.0\n",
      "Class Dresses: Recall Difference = -0.08985507246376812\n",
      "Class Rescue: Recall Difference = 0.0\n",
      "Class Angler: Recall Difference = 0.023529411764705885\n",
      "Class Hockey: Recall Difference = -0.05738705738705743\n",
      "Data has been appended to validation0.txt\n",
      "Epoch Number 103, Lambda: 0\n"
     ]
    },
    {
     "name": "stderr",
     "output_type": "stream",
     "text": [
      "100%|███████████████████████████████████████████| 31/31 [01:55<00:00,  3.72s/it]\n"
     ]
    },
    {
     "name": "stdout",
     "output_type": "stream",
     "text": [
      "Average Adversary epoch loss: 0.12119890461044927\n"
     ]
    },
    {
     "name": "stderr",
     "output_type": "stream",
     "text": [
      "100%|███████████████████████████████████████████| 31/31 [02:01<00:00,  3.91s/it]\n",
      "100%|███████████████████████████████████████████| 11/11 [00:21<00:00,  1.94s/it]\n"
     ]
    },
    {
     "name": "stdout",
     "output_type": "stream",
     "text": [
      "*****Epoch 1/300*****\n",
      "*****Train Loss:  0.876226 Val Loss:  0.992627*****\n",
      "*****Validation Accuracy: 18.51%*****\n",
      "*****Total Avg Disparity: 0.08473171860632216*****\n",
      "\n",
      "Class Parade: Recall Difference = 0.04026587563172923\n",
      "Class Handshaking: Recall Difference = 0.0\n",
      "Class Riot: Recall Difference = 0.0\n",
      "Class Dancing: Recall Difference = 0.0\n",
      "Class Funeral: Recall Difference = 0.0\n",
      "Class Cheering: Recall Difference = 0.0\n",
      "Class Meeting: Recall Difference = 0.0\n",
      "Class Stock_Market: Recall Difference = 0.0\n",
      "Class Ceremony: Recall Difference = 0.0\n",
      "Class Concerts: Recall Difference = 0.0\n",
      "Class Couple: Recall Difference = 0.0\n",
      "Class Family_Group: Recall Difference = 0.0\n",
      "Class Picnic: Recall Difference = 0.0\n",
      "Class Soldier_Patrol: Recall Difference = -0.0764705882352941\n",
      "Class Spa: Recall Difference = 0.0\n",
      "Class Sports_Fan: Recall Difference = 0.0\n",
      "Class Surgeons: Recall Difference = 0.0\n",
      "Class Waiter_Waitress: Recall Difference = 0.10369206598586017\n",
      "Class Running: Recall Difference = 0.0\n",
      "Class Basketball: Recall Difference = 0.06127450980392146\n",
      "Class Football: Recall Difference = 0.0\n",
      "Class Soccer: Recall Difference = -0.09968847352024926\n",
      "Class Ice_Skating: Recall Difference = -0.14917344528995002\n",
      "Class Row_Boat: Recall Difference = -0.16363636363636366\n",
      "Class Aerobics: Recall Difference = 0.0\n",
      "Class Celebration_Or_Party: Recall Difference = 0.0\n",
      "Class Dresses: Recall Difference = -0.08318840579710146\n",
      "Class Rescue: Recall Difference = 0.0\n",
      "Class Angler: Recall Difference = 0.023529411764705882\n",
      "Class Hockey: Recall Difference = -0.04639804639804637\n",
      "Data has been appended to validation0.txt\n",
      "Epoch Number 104, Lambda: 0\n"
     ]
    },
    {
     "name": "stderr",
     "output_type": "stream",
     "text": [
      "100%|███████████████████████████████████████████| 31/31 [01:55<00:00,  3.71s/it]\n"
     ]
    },
    {
     "name": "stdout",
     "output_type": "stream",
     "text": [
      "Average Adversary epoch loss: 0.1219771011702476\n"
     ]
    },
    {
     "name": "stderr",
     "output_type": "stream",
     "text": [
      "100%|███████████████████████████████████████████| 31/31 [01:58<00:00,  3.83s/it]\n",
      "100%|███████████████████████████████████████████| 11/11 [00:21<00:00,  1.94s/it]\n"
     ]
    },
    {
     "name": "stdout",
     "output_type": "stream",
     "text": [
      "*****Epoch 1/300*****\n",
      "*****Train Loss:  0.873901 Val Loss:  0.992565*****\n",
      "*****Validation Accuracy: 18.45%*****\n",
      "*****Total Avg Disparity: 0.08455653537027785*****\n",
      "\n",
      "Class Parade: Recall Difference = 0.04026587563172923\n",
      "Class Handshaking: Recall Difference = 0.0\n",
      "Class Riot: Recall Difference = 0.0\n",
      "Class Dancing: Recall Difference = 0.0\n",
      "Class Funeral: Recall Difference = 0.0\n",
      "Class Cheering: Recall Difference = 0.0\n",
      "Class Meeting: Recall Difference = 0.0\n",
      "Class Stock_Market: Recall Difference = 0.0\n",
      "Class Ceremony: Recall Difference = 0.0\n",
      "Class Concerts: Recall Difference = 0.0\n",
      "Class Couple: Recall Difference = 0.0\n",
      "Class Family_Group: Recall Difference = 0.0\n",
      "Class Picnic: Recall Difference = 0.0\n",
      "Class Soldier_Patrol: Recall Difference = -0.08758169934640521\n",
      "Class Spa: Recall Difference = 0.0\n",
      "Class Sports_Fan: Recall Difference = 0.0\n",
      "Class Surgeons: Recall Difference = 0.0\n",
      "Class Waiter_Waitress: Recall Difference = 0.10369206598586014\n",
      "Class Running: Recall Difference = 0.0\n",
      "Class Basketball: Recall Difference = 0.06127450980392146\n",
      "Class Football: Recall Difference = 0.0\n",
      "Class Soccer: Recall Difference = -0.10903426791277265\n",
      "Class Ice_Skating: Recall Difference = -0.13946470742587247\n",
      "Class Row_Boat: Recall Difference = -0.15113636363636368\n",
      "Class Aerobics: Recall Difference = 0.0\n",
      "Class Celebration_Or_Party: Recall Difference = 0.0\n",
      "Class Dresses: Recall Difference = -0.08318840579710146\n",
      "Class Rescue: Recall Difference = 0.0\n",
      "Class Angler: Recall Difference = 0.023529411764705885\n",
      "Class Hockey: Recall Difference = -0.04639804639804637\n",
      "Data has been appended to validation0.txt\n",
      "Epoch Number 105, Lambda: 0\n"
     ]
    },
    {
     "name": "stderr",
     "output_type": "stream",
     "text": [
      "100%|███████████████████████████████████████████| 31/31 [01:54<00:00,  3.69s/it]\n"
     ]
    },
    {
     "name": "stdout",
     "output_type": "stream",
     "text": [
      "Average Adversary epoch loss: 0.12238347962979347\n"
     ]
    },
    {
     "name": "stderr",
     "output_type": "stream",
     "text": [
      "100%|███████████████████████████████████████████| 31/31 [02:00<00:00,  3.89s/it]\n",
      "100%|███████████████████████████████████████████| 11/11 [00:21<00:00,  1.94s/it]\n"
     ]
    },
    {
     "name": "stdout",
     "output_type": "stream",
     "text": [
      "*****Epoch 1/300*****\n",
      "*****Train Loss:  0.877107 Val Loss:  0.992261*****\n",
      "*****Validation Accuracy: 18.51%*****\n",
      "*****Total Avg Disparity: 0.08264646573494706*****\n",
      "\n",
      "Class Parade: Recall Difference = 0.04026587563172923\n",
      "Class Handshaking: Recall Difference = 0.0\n",
      "Class Riot: Recall Difference = 0.0\n",
      "Class Dancing: Recall Difference = 0.0\n",
      "Class Funeral: Recall Difference = 0.0\n",
      "Class Cheering: Recall Difference = 0.0\n",
      "Class Meeting: Recall Difference = 0.0\n",
      "Class Stock_Market: Recall Difference = 0.0\n",
      "Class Ceremony: Recall Difference = 0.0\n",
      "Class Concerts: Recall Difference = 0.0\n",
      "Class Couple: Recall Difference = 0.0\n",
      "Class Family_Group: Recall Difference = 0.0\n",
      "Class Picnic: Recall Difference = 0.0\n",
      "Class Soldier_Patrol: Recall Difference = -0.08758169934640521\n",
      "Class Spa: Recall Difference = 0.0\n",
      "Class Sports_Fan: Recall Difference = 0.0\n",
      "Class Surgeons: Recall Difference = 0.0\n",
      "Class Waiter_Waitress: Recall Difference = 0.10369206598586016\n",
      "Class Running: Recall Difference = 0.0\n",
      "Class Basketball: Recall Difference = 0.057352941176470384\n",
      "Class Football: Recall Difference = 0.0\n",
      "Class Soccer: Recall Difference = -0.09968847352024926\n",
      "Class Ice_Skating: Recall Difference = -0.13946470742587236\n",
      "Class Row_Boat: Recall Difference = -0.13863636363636364\n",
      "Class Aerobics: Recall Difference = 0.0\n",
      "Class Celebration_Or_Party: Recall Difference = 0.0\n",
      "Class Dresses: Recall Difference = -0.08985507246376812\n",
      "Class Rescue: Recall Difference = 0.0\n",
      "Class Angler: Recall Difference = 0.023529411764705885\n",
      "Class Hockey: Recall Difference = -0.04639804639804637\n",
      "Data has been appended to validation0.txt\n",
      "Epoch Number 106, Lambda: 0\n"
     ]
    },
    {
     "name": "stderr",
     "output_type": "stream",
     "text": [
      "100%|███████████████████████████████████████████| 31/31 [01:55<00:00,  3.72s/it]\n"
     ]
    },
    {
     "name": "stdout",
     "output_type": "stream",
     "text": [
      "Average Adversary epoch loss: 0.12097171285460072\n"
     ]
    },
    {
     "name": "stderr",
     "output_type": "stream",
     "text": [
      "100%|███████████████████████████████████████████| 31/31 [01:59<00:00,  3.84s/it]\n",
      "100%|███████████████████████████████████████████| 11/11 [00:21<00:00,  1.92s/it]\n"
     ]
    },
    {
     "name": "stdout",
     "output_type": "stream",
     "text": [
      "*****Epoch 1/300*****\n",
      "*****Train Loss:  0.875940 Val Loss:  0.992514*****\n",
      "*****Validation Accuracy: 18.51%*****\n",
      "*****Total Avg Disparity: 0.08278535462383596*****\n",
      "\n",
      "Class Parade: Recall Difference = 0.04026587563172923\n",
      "Class Handshaking: Recall Difference = 0.0\n",
      "Class Riot: Recall Difference = 0.0\n",
      "Class Dancing: Recall Difference = 0.0\n",
      "Class Funeral: Recall Difference = 0.0\n",
      "Class Cheering: Recall Difference = 0.0\n",
      "Class Meeting: Recall Difference = 0.0\n",
      "Class Stock_Market: Recall Difference = 0.0\n",
      "Class Ceremony: Recall Difference = 0.0\n",
      "Class Concerts: Recall Difference = 0.0\n",
      "Class Couple: Recall Difference = 0.0\n",
      "Class Family_Group: Recall Difference = 0.0\n",
      "Class Picnic: Recall Difference = 0.0\n",
      "Class Soldier_Patrol: Recall Difference = -0.0764705882352941\n",
      "Class Spa: Recall Difference = 0.0\n",
      "Class Sports_Fan: Recall Difference = 0.0\n",
      "Class Surgeons: Recall Difference = 0.0\n",
      "Class Waiter_Waitress: Recall Difference = 0.10369206598586016\n",
      "Class Running: Recall Difference = 0.0\n",
      "Class Basketball: Recall Difference = 0.057352941176470384\n",
      "Class Football: Recall Difference = 0.0\n",
      "Class Soccer: Recall Difference = -0.09968847352024926\n",
      "Class Ice_Skating: Recall Difference = -0.13946470742587236\n",
      "Class Row_Boat: Recall Difference = -0.15113636363636368\n",
      "Class Aerobics: Recall Difference = 0.0\n",
      "Class Celebration_Or_Party: Recall Difference = 0.0\n",
      "Class Dresses: Recall Difference = -0.08985507246376812\n",
      "Class Rescue: Recall Difference = 0.0\n",
      "Class Angler: Recall Difference = 0.023529411764705885\n",
      "Class Hockey: Recall Difference = -0.04639804639804637\n",
      "Data has been appended to validation0.txt\n",
      "Epoch Number 107, Lambda: 0\n"
     ]
    },
    {
     "name": "stderr",
     "output_type": "stream",
     "text": [
      "100%|███████████████████████████████████████████| 31/31 [01:54<00:00,  3.68s/it]\n"
     ]
    },
    {
     "name": "stdout",
     "output_type": "stream",
     "text": [
      "Average Adversary epoch loss: 0.12101682996557604\n"
     ]
    },
    {
     "name": "stderr",
     "output_type": "stream",
     "text": [
      "100%|███████████████████████████████████████████| 31/31 [02:01<00:00,  3.91s/it]\n",
      "100%|███████████████████████████████████████████| 11/11 [00:21<00:00,  1.95s/it]\n"
     ]
    },
    {
     "name": "stdout",
     "output_type": "stream",
     "text": [
      "*****Epoch 1/300*****\n",
      "*****Train Loss:  0.878323 Val Loss:  0.992749*****\n",
      "*****Validation Accuracy: 18.39%*****\n",
      "*****Total Avg Disparity: 0.07661190146176615*****\n",
      "\n",
      "Class Parade: Recall Difference = 0.04026587563172923\n",
      "Class Handshaking: Recall Difference = 0.0\n",
      "Class Riot: Recall Difference = 0.0\n",
      "Class Dancing: Recall Difference = 0.0\n",
      "Class Funeral: Recall Difference = 0.0\n",
      "Class Cheering: Recall Difference = 0.0\n",
      "Class Meeting: Recall Difference = 0.0\n",
      "Class Stock_Market: Recall Difference = 0.0\n",
      "Class Ceremony: Recall Difference = 0.0\n",
      "Class Concerts: Recall Difference = 0.0\n",
      "Class Couple: Recall Difference = 0.0\n",
      "Class Family_Group: Recall Difference = 0.0\n",
      "Class Picnic: Recall Difference = 0.0\n",
      "Class Soldier_Patrol: Recall Difference = -0.017647058823529432\n",
      "Class Spa: Recall Difference = 0.0\n",
      "Class Sports_Fan: Recall Difference = 0.0\n",
      "Class Surgeons: Recall Difference = 0.0\n",
      "Class Waiter_Waitress: Recall Difference = 0.10369206598586017\n",
      "Class Running: Recall Difference = 0.0\n",
      "Class Basketball: Recall Difference = 0.057352941176470384\n",
      "Class Football: Recall Difference = 0.0\n",
      "Class Soccer: Recall Difference = -0.10903426791277265\n",
      "Class Ice_Skating: Recall Difference = -0.14917344528995002\n",
      "Class Row_Boat: Recall Difference = -0.1181818181818182\n",
      "Class Aerobics: Recall Difference = 0.0\n",
      "Class Celebration_Or_Party: Recall Difference = 0.0\n",
      "Class Dresses: Recall Difference = -0.08985507246376812\n",
      "Class Rescue: Recall Difference = 0.0\n",
      "Class Angler: Recall Difference = 0.023529411764705885\n",
      "Class Hockey: Recall Difference = -0.05738705738705743\n",
      "Data has been appended to validation0.txt\n",
      "Epoch Number 108, Lambda: 0\n"
     ]
    },
    {
     "name": "stderr",
     "output_type": "stream",
     "text": [
      "100%|███████████████████████████████████████████| 31/31 [01:55<00:00,  3.74s/it]\n"
     ]
    },
    {
     "name": "stdout",
     "output_type": "stream",
     "text": [
      "Average Adversary epoch loss: 0.12123325923758169\n"
     ]
    },
    {
     "name": "stderr",
     "output_type": "stream",
     "text": [
      "100%|███████████████████████████████████████████| 31/31 [01:58<00:00,  3.83s/it]\n",
      "100%|███████████████████████████████████████████| 11/11 [00:21<00:00,  1.91s/it]\n"
     ]
    },
    {
     "name": "stdout",
     "output_type": "stream",
     "text": [
      "*****Epoch 1/300*****\n",
      "*****Train Loss:  0.878333 Val Loss:  0.992429*****\n",
      "*****Validation Accuracy: 18.65%*****\n",
      "*****Total Avg Disparity: 0.08070212653593498*****\n",
      "\n",
      "Class Parade: Recall Difference = 0.05377938914524272\n",
      "Class Handshaking: Recall Difference = 0.0\n",
      "Class Riot: Recall Difference = 0.0\n",
      "Class Dancing: Recall Difference = 0.0\n",
      "Class Funeral: Recall Difference = 0.0\n",
      "Class Cheering: Recall Difference = 0.0\n",
      "Class Meeting: Recall Difference = 0.0\n",
      "Class Stock_Market: Recall Difference = 0.0\n",
      "Class Ceremony: Recall Difference = 0.0\n",
      "Class Concerts: Recall Difference = 0.0\n",
      "Class Couple: Recall Difference = 0.0\n",
      "Class Family_Group: Recall Difference = 0.0\n",
      "Class Picnic: Recall Difference = 0.0\n",
      "Class Soldier_Patrol: Recall Difference = -0.0764705882352941\n",
      "Class Spa: Recall Difference = 0.0\n",
      "Class Sports_Fan: Recall Difference = 0.0\n",
      "Class Surgeons: Recall Difference = 0.0\n",
      "Class Waiter_Waitress: Recall Difference = 0.10369206598586016\n",
      "Class Running: Recall Difference = 0.0\n",
      "Class Basketball: Recall Difference = 0.057352941176470384\n",
      "Class Football: Recall Difference = 0.0\n",
      "Class Soccer: Recall Difference = -0.09034267912772592\n",
      "Class Ice_Skating: Recall Difference = -0.13946470742587236\n",
      "Class Row_Boat: Recall Difference = -0.12613636363636366\n",
      "Class Aerobics: Recall Difference = 0.0\n",
      "Class Celebration_Or_Party: Recall Difference = 0.0\n",
      "Class Dresses: Recall Difference = -0.08985507246376812\n",
      "Class Rescue: Recall Difference = 0.0\n",
      "Class Angler: Recall Difference = 0.023529411764705882\n",
      "Class Hockey: Recall Difference = -0.04639804639804637\n",
      "Data has been appended to validation0.txt\n",
      "Epoch Number 109, Lambda: 0\n"
     ]
    },
    {
     "name": "stderr",
     "output_type": "stream",
     "text": [
      "100%|███████████████████████████████████████████| 31/31 [01:55<00:00,  3.72s/it]\n"
     ]
    },
    {
     "name": "stdout",
     "output_type": "stream",
     "text": [
      "Average Adversary epoch loss: 0.12140817002904031\n"
     ]
    },
    {
     "name": "stderr",
     "output_type": "stream",
     "text": [
      "100%|███████████████████████████████████████████| 31/31 [01:59<00:00,  3.85s/it]\n",
      "100%|███████████████████████████████████████████| 11/11 [00:21<00:00,  1.95s/it]\n"
     ]
    },
    {
     "name": "stdout",
     "output_type": "stream",
     "text": [
      "*****Epoch 1/300*****\n",
      "*****Train Loss:  0.878483 Val Loss:  0.992566*****\n",
      "*****Validation Accuracy: 18.51%*****\n",
      "*****Total Avg Disparity: 0.07230149914201803*****\n",
      "\n",
      "Class Parade: Recall Difference = 0.04702263238848592\n",
      "Class Handshaking: Recall Difference = 0.0\n",
      "Class Riot: Recall Difference = 0.0\n",
      "Class Dancing: Recall Difference = 0.0\n",
      "Class Funeral: Recall Difference = 0.0\n",
      "Class Cheering: Recall Difference = 0.0\n",
      "Class Meeting: Recall Difference = 0.0\n",
      "Class Stock_Market: Recall Difference = 0.0\n",
      "Class Ceremony: Recall Difference = 0.0\n",
      "Class Concerts: Recall Difference = 0.0\n",
      "Class Couple: Recall Difference = 0.0\n",
      "Class Family_Group: Recall Difference = 0.0\n",
      "Class Picnic: Recall Difference = 0.0\n",
      "Class Soldier_Patrol: Recall Difference = -0.017647058823529432\n",
      "Class Spa: Recall Difference = 0.0\n",
      "Class Sports_Fan: Recall Difference = 0.0\n",
      "Class Surgeons: Recall Difference = 0.0\n",
      "Class Waiter_Waitress: Recall Difference = 0.10369206598586017\n",
      "Class Running: Recall Difference = 0.0\n",
      "Class Basketball: Recall Difference = 0.057352941176470384\n",
      "Class Football: Recall Difference = 0.0\n",
      "Class Soccer: Recall Difference = -0.09034267912772592\n",
      "Class Ice_Skating: Recall Difference = -0.13565993177643654\n",
      "Class Row_Boat: Recall Difference = -0.1181818181818182\n",
      "Class Aerobics: Recall Difference = 0.0\n",
      "Class Celebration_Or_Party: Recall Difference = 0.0\n",
      "Class Dresses: Recall Difference = -0.08318840579710146\n",
      "Class Rescue: Recall Difference = 0.0\n",
      "Class Angler: Recall Difference = 0.023529411764705882\n",
      "Class Hockey: Recall Difference = -0.04639804639804637\n",
      "Data has been appended to validation0.txt\n",
      "Epoch Number 110, Lambda: 0\n"
     ]
    },
    {
     "name": "stderr",
     "output_type": "stream",
     "text": [
      "100%|███████████████████████████████████████████| 31/31 [01:54<00:00,  3.71s/it]\n"
     ]
    },
    {
     "name": "stdout",
     "output_type": "stream",
     "text": [
      "Average Adversary epoch loss: 0.12176360406221882\n"
     ]
    },
    {
     "name": "stderr",
     "output_type": "stream",
     "text": [
      "100%|███████████████████████████████████████████| 31/31 [01:59<00:00,  3.86s/it]\n",
      "100%|███████████████████████████████████████████| 11/11 [00:21<00:00,  1.96s/it]\n"
     ]
    },
    {
     "name": "stdout",
     "output_type": "stream",
     "text": [
      "*****Epoch 1/300*****\n",
      "*****Train Loss:  0.876305 Val Loss:  0.992578*****\n",
      "*****Validation Accuracy: 18.33%*****\n",
      "*****Total Avg Disparity: 0.07800297786083799*****\n",
      "\n",
      "Class Parade: Recall Difference = 0.04702263238848592\n",
      "Class Handshaking: Recall Difference = 0.0\n",
      "Class Riot: Recall Difference = 0.0\n",
      "Class Dancing: Recall Difference = 0.0\n",
      "Class Funeral: Recall Difference = 0.0\n",
      "Class Cheering: Recall Difference = 0.0\n",
      "Class Meeting: Recall Difference = 0.0\n",
      "Class Stock_Market: Recall Difference = 0.0\n",
      "Class Ceremony: Recall Difference = 0.0\n",
      "Class Concerts: Recall Difference = 0.0\n",
      "Class Couple: Recall Difference = 0.0\n",
      "Class Family_Group: Recall Difference = 0.0\n",
      "Class Picnic: Recall Difference = 0.0\n",
      "Class Soldier_Patrol: Recall Difference = 0.04117647058823528\n",
      "Class Spa: Recall Difference = 0.0\n",
      "Class Sports_Fan: Recall Difference = 0.0\n",
      "Class Surgeons: Recall Difference = 0.0\n",
      "Class Waiter_Waitress: Recall Difference = 0.10369206598586016\n",
      "Class Running: Recall Difference = 0.0\n",
      "Class Basketball: Recall Difference = 0.057352941176470384\n",
      "Class Football: Recall Difference = 0.0\n",
      "Class Soccer: Recall Difference = -0.10903426791277265\n",
      "Class Ice_Skating: Recall Difference = -0.13946470742587247\n",
      "Class Row_Boat: Recall Difference = -0.1181818181818182\n",
      "Class Aerobics: Recall Difference = 0.0\n",
      "Class Celebration_Or_Party: Recall Difference = 0.0\n",
      "Class Dresses: Recall Difference = -0.08318840579710146\n",
      "Class Rescue: Recall Difference = 0.0\n",
      "Class Angler: Recall Difference = 0.023529411764705882\n",
      "Class Hockey: Recall Difference = -0.05738705738705743\n",
      "Data has been appended to validation0.txt\n",
      "Epoch Number 111, Lambda: 0\n"
     ]
    },
    {
     "name": "stderr",
     "output_type": "stream",
     "text": [
      "100%|███████████████████████████████████████████| 31/31 [01:56<00:00,  3.76s/it]\n"
     ]
    },
    {
     "name": "stdout",
     "output_type": "stream",
     "text": [
      "Average Adversary epoch loss: 0.12100820796143624\n"
     ]
    },
    {
     "name": "stderr",
     "output_type": "stream",
     "text": [
      "100%|███████████████████████████████████████████| 31/31 [01:59<00:00,  3.87s/it]\n",
      "100%|███████████████████████████████████████████| 11/11 [00:21<00:00,  1.94s/it]\n"
     ]
    },
    {
     "name": "stdout",
     "output_type": "stream",
     "text": [
      "*****Epoch 1/300*****\n",
      "*****Train Loss:  0.875760 Val Loss:  0.992701*****\n",
      "*****Validation Accuracy: 18.39%*****\n",
      "*****Total Avg Disparity: 0.07310282548210194*****\n",
      "\n",
      "Class Parade: Recall Difference = 0.04026587563172923\n",
      "Class Handshaking: Recall Difference = 0.0\n",
      "Class Riot: Recall Difference = 0.0\n",
      "Class Dancing: Recall Difference = 0.0\n",
      "Class Funeral: Recall Difference = 0.0\n",
      "Class Cheering: Recall Difference = 0.0\n",
      "Class Meeting: Recall Difference = 0.0\n",
      "Class Stock_Market: Recall Difference = 0.0\n",
      "Class Ceremony: Recall Difference = 0.0\n",
      "Class Concerts: Recall Difference = 0.0\n",
      "Class Couple: Recall Difference = 0.0\n",
      "Class Family_Group: Recall Difference = 0.0\n",
      "Class Picnic: Recall Difference = 0.0\n",
      "Class Soldier_Patrol: Recall Difference = -0.017647058823529432\n",
      "Class Spa: Recall Difference = 0.0\n",
      "Class Sports_Fan: Recall Difference = 0.0\n",
      "Class Surgeons: Recall Difference = 0.0\n",
      "Class Waiter_Waitress: Recall Difference = 0.10369206598586016\n",
      "Class Running: Recall Difference = 0.0\n",
      "Class Basketball: Recall Difference = 0.05343137254901953\n",
      "Class Football: Recall Difference = 0.0\n",
      "Class Soccer: Recall Difference = -0.10903426791277265\n",
      "Class Ice_Skating: Recall Difference = -0.13565993177643654\n",
      "Class Row_Boat: Recall Difference = -0.1181818181818182\n",
      "Class Aerobics: Recall Difference = 0.0\n",
      "Class Celebration_Or_Party: Recall Difference = 0.0\n",
      "Class Dresses: Recall Difference = -0.08318840579710146\n",
      "Class Rescue: Recall Difference = 0.0\n",
      "Class Angler: Recall Difference = 0.023529411764705882\n",
      "Class Hockey: Recall Difference = -0.04639804639804637\n",
      "Data has been appended to validation0.txt\n",
      "Epoch Number 112, Lambda: 0\n"
     ]
    },
    {
     "name": "stderr",
     "output_type": "stream",
     "text": [
      "100%|███████████████████████████████████████████| 31/31 [01:53<00:00,  3.66s/it]\n"
     ]
    },
    {
     "name": "stdout",
     "output_type": "stream",
     "text": [
      "Average Adversary epoch loss: 0.12264617051809065\n"
     ]
    },
    {
     "name": "stderr",
     "output_type": "stream",
     "text": [
      "100%|███████████████████████████████████████████| 31/31 [01:58<00:00,  3.81s/it]\n",
      "100%|███████████████████████████████████████████| 11/11 [00:21<00:00,  1.92s/it]\n"
     ]
    },
    {
     "name": "stdout",
     "output_type": "stream",
     "text": [
      "*****Epoch 1/300*****\n",
      "*****Train Loss:  0.874493 Val Loss:  0.992644*****\n",
      "*****Validation Accuracy: 18.39%*****\n",
      "*****Total Avg Disparity: 0.07440003668436738*****\n",
      "\n",
      "Class Parade: Recall Difference = 0.04702263238848592\n",
      "Class Handshaking: Recall Difference = 0.0\n",
      "Class Riot: Recall Difference = 0.0\n",
      "Class Dancing: Recall Difference = 0.0\n",
      "Class Funeral: Recall Difference = 0.0\n",
      "Class Cheering: Recall Difference = 0.0\n",
      "Class Meeting: Recall Difference = 0.0\n",
      "Class Stock_Market: Recall Difference = 0.0\n",
      "Class Ceremony: Recall Difference = 0.0\n",
      "Class Concerts: Recall Difference = 0.0\n",
      "Class Couple: Recall Difference = 0.0\n",
      "Class Family_Group: Recall Difference = 0.0\n",
      "Class Picnic: Recall Difference = 0.0\n",
      "Class Soldier_Patrol: Recall Difference = -0.017647058823529432\n",
      "Class Spa: Recall Difference = 0.0\n",
      "Class Sports_Fan: Recall Difference = 0.0\n",
      "Class Surgeons: Recall Difference = 0.0\n",
      "Class Waiter_Waitress: Recall Difference = 0.10369206598586017\n",
      "Class Running: Recall Difference = 0.0\n",
      "Class Basketball: Recall Difference = 0.057352941176470384\n",
      "Class Football: Recall Difference = 0.0\n",
      "Class Soccer: Recall Difference = -0.10903426791277265\n",
      "Class Ice_Skating: Recall Difference = -0.13946470742587236\n",
      "Class Row_Boat: Recall Difference = -0.10568181818181821\n",
      "Class Aerobics: Recall Difference = 0.0\n",
      "Class Celebration_Or_Party: Recall Difference = 0.0\n",
      "Class Dresses: Recall Difference = -0.08318840579710146\n",
      "Class Rescue: Recall Difference = 0.0\n",
      "Class Angler: Recall Difference = 0.023529411764705885\n",
      "Class Hockey: Recall Difference = -0.05738705738705743\n",
      "Data has been appended to validation0.txt\n",
      "Epoch Number 113, Lambda: 0\n"
     ]
    },
    {
     "name": "stderr",
     "output_type": "stream",
     "text": [
      "100%|███████████████████████████████████████████| 31/31 [01:55<00:00,  3.71s/it]\n"
     ]
    },
    {
     "name": "stdout",
     "output_type": "stream",
     "text": [
      "Average Adversary epoch loss: 0.12178180943573674\n"
     ]
    },
    {
     "name": "stderr",
     "output_type": "stream",
     "text": [
      "100%|███████████████████████████████████████████| 31/31 [01:59<00:00,  3.86s/it]\n",
      "100%|███████████████████████████████████████████| 11/11 [00:21<00:00,  1.96s/it]\n"
     ]
    },
    {
     "name": "stdout",
     "output_type": "stream",
     "text": [
      "*****Epoch 1/300*****\n",
      "*****Train Loss:  0.878931 Val Loss:  0.992452*****\n",
      "*****Validation Accuracy: 18.48%*****\n",
      "*****Total Avg Disparity: 0.08347085702992661*****\n",
      "\n",
      "Class Parade: Recall Difference = 0.04026587563172923\n",
      "Class Handshaking: Recall Difference = 0.0\n",
      "Class Riot: Recall Difference = 0.0\n",
      "Class Dancing: Recall Difference = 0.0\n",
      "Class Funeral: Recall Difference = 0.0\n",
      "Class Cheering: Recall Difference = 0.0\n",
      "Class Meeting: Recall Difference = 0.0\n",
      "Class Stock_Market: Recall Difference = 0.0\n",
      "Class Ceremony: Recall Difference = 0.0\n",
      "Class Concerts: Recall Difference = 0.0\n",
      "Class Couple: Recall Difference = 0.0\n",
      "Class Family_Group: Recall Difference = 0.0\n",
      "Class Picnic: Recall Difference = 0.0\n",
      "Class Soldier_Patrol: Recall Difference = -0.08758169934640521\n",
      "Class Spa: Recall Difference = 0.0\n",
      "Class Sports_Fan: Recall Difference = 0.0\n",
      "Class Surgeons: Recall Difference = 0.0\n",
      "Class Waiter_Waitress: Recall Difference = 0.10369206598586016\n",
      "Class Running: Recall Difference = 0.0\n",
      "Class Basketball: Recall Difference = 0.06127450980392146\n",
      "Class Football: Recall Difference = 0.0\n",
      "Class Soccer: Recall Difference = -0.09968847352024926\n",
      "Class Ice_Skating: Recall Difference = -0.13946470742587247\n",
      "Class Row_Boat: Recall Difference = -0.13863636363636364\n",
      "Class Aerobics: Recall Difference = 0.0\n",
      "Class Celebration_Or_Party: Recall Difference = 0.0\n",
      "Class Dresses: Recall Difference = -0.08318840579710146\n",
      "Class Rescue: Recall Difference = 0.0\n",
      "Class Angler: Recall Difference = 0.023529411764705885\n",
      "Class Hockey: Recall Difference = -0.05738705738705743\n",
      "Data has been appended to validation0.txt\n",
      "Epoch Number 114, Lambda: 0\n"
     ]
    },
    {
     "name": "stderr",
     "output_type": "stream",
     "text": [
      "100%|███████████████████████████████████████████| 31/31 [01:56<00:00,  3.77s/it]\n"
     ]
    },
    {
     "name": "stdout",
     "output_type": "stream",
     "text": [
      "Average Adversary epoch loss: 0.12139477484649228\n"
     ]
    },
    {
     "name": "stderr",
     "output_type": "stream",
     "text": [
      "100%|███████████████████████████████████████████| 31/31 [01:59<00:00,  3.87s/it]\n",
      "100%|███████████████████████████████████████████| 11/11 [00:21<00:00,  1.92s/it]\n"
     ]
    },
    {
     "name": "stdout",
     "output_type": "stream",
     "text": [
      "*****Epoch 1/300*****\n",
      "*****Train Loss:  0.877932 Val Loss:  0.992826*****\n",
      "*****Validation Accuracy: 18.51%*****\n",
      "*****Total Avg Disparity: 0.08574369968080325*****\n",
      "\n",
      "Class Parade: Recall Difference = 0.04026587563172923\n",
      "Class Handshaking: Recall Difference = 0.0\n",
      "Class Riot: Recall Difference = 0.0\n",
      "Class Dancing: Recall Difference = 0.0\n",
      "Class Funeral: Recall Difference = 0.0\n",
      "Class Cheering: Recall Difference = 0.0\n",
      "Class Meeting: Recall Difference = 0.0\n",
      "Class Stock_Market: Recall Difference = 0.0\n",
      "Class Ceremony: Recall Difference = 0.0\n",
      "Class Concerts: Recall Difference = 0.0\n",
      "Class Couple: Recall Difference = 0.0\n",
      "Class Family_Group: Recall Difference = 0.0\n",
      "Class Picnic: Recall Difference = 0.0\n",
      "Class Soldier_Patrol: Recall Difference = -0.08758169934640521\n",
      "Class Spa: Recall Difference = 0.0\n",
      "Class Sports_Fan: Recall Difference = 0.0\n",
      "Class Surgeons: Recall Difference = 0.0\n",
      "Class Waiter_Waitress: Recall Difference = 0.10369206598586017\n",
      "Class Running: Recall Difference = 0.0\n",
      "Class Basketball: Recall Difference = 0.04564950980392157\n",
      "Class Football: Recall Difference = 0.0\n",
      "Class Soccer: Recall Difference = -0.09968847352024926\n",
      "Class Ice_Skating: Recall Difference = -0.14917344528995002\n",
      "Class Row_Boat: Recall Difference = -0.13863636363636364\n",
      "Class Aerobics: Recall Difference = 0.0\n",
      "Class Celebration_Or_Party: Recall Difference = 0.0\n",
      "Class Dresses: Recall Difference = -0.08985507246376812\n",
      "Class Rescue: Recall Difference = 0.0\n",
      "Class Angler: Recall Difference = 0.023529411764705885\n",
      "Class Hockey: Recall Difference = -0.07936507936507939\n",
      "Data has been appended to validation0.txt\n",
      "Epoch Number 115, Lambda: 0\n"
     ]
    },
    {
     "name": "stderr",
     "output_type": "stream",
     "text": [
      "100%|███████████████████████████████████████████| 31/31 [01:54<00:00,  3.70s/it]\n"
     ]
    },
    {
     "name": "stdout",
     "output_type": "stream",
     "text": [
      "Average Adversary epoch loss: 0.1225571961652848\n"
     ]
    },
    {
     "name": "stderr",
     "output_type": "stream",
     "text": [
      "100%|███████████████████████████████████████████| 31/31 [02:00<00:00,  3.89s/it]\n",
      "100%|███████████████████████████████████████████| 11/11 [00:21<00:00,  1.94s/it]\n"
     ]
    },
    {
     "name": "stdout",
     "output_type": "stream",
     "text": [
      "*****Epoch 1/300*****\n",
      "*****Train Loss:  0.876785 Val Loss:  0.992309*****\n",
      "*****Validation Accuracy: 18.45%*****\n",
      "*****Total Avg Disparity: 0.08452463362246074*****\n",
      "\n",
      "Class Parade: Recall Difference = 0.04702263238848592\n",
      "Class Handshaking: Recall Difference = 0.0\n",
      "Class Riot: Recall Difference = 0.0\n",
      "Class Dancing: Recall Difference = 0.0\n",
      "Class Funeral: Recall Difference = 0.0\n",
      "Class Cheering: Recall Difference = 0.0\n",
      "Class Meeting: Recall Difference = 0.0\n",
      "Class Stock_Market: Recall Difference = 0.0\n",
      "Class Ceremony: Recall Difference = 0.0\n",
      "Class Concerts: Recall Difference = 0.0\n",
      "Class Couple: Recall Difference = 0.0\n",
      "Class Family_Group: Recall Difference = 0.0\n",
      "Class Picnic: Recall Difference = 0.0\n",
      "Class Soldier_Patrol: Recall Difference = -0.08758169934640521\n",
      "Class Spa: Recall Difference = 0.0\n",
      "Class Sports_Fan: Recall Difference = 0.0\n",
      "Class Surgeons: Recall Difference = 0.0\n",
      "Class Waiter_Waitress: Recall Difference = 0.10369206598586016\n",
      "Class Running: Recall Difference = 0.0\n",
      "Class Basketball: Recall Difference = 0.057352941176470384\n",
      "Class Football: Recall Difference = 0.0\n",
      "Class Soccer: Recall Difference = -0.11838006230529602\n",
      "Class Ice_Skating: Recall Difference = -0.13946470742587236\n",
      "Class Row_Boat: Recall Difference = -0.13863636363636364\n",
      "Class Aerobics: Recall Difference = 0.0\n",
      "Class Celebration_Or_Party: Recall Difference = 0.0\n",
      "Class Dresses: Recall Difference = -0.08318840579710146\n",
      "Class Rescue: Recall Difference = 0.0\n",
      "Class Angler: Recall Difference = 0.023529411764705885\n",
      "Class Hockey: Recall Difference = -0.04639804639804637\n",
      "Data has been appended to validation0.txt\n",
      "Epoch Number 116, Lambda: 0\n"
     ]
    },
    {
     "name": "stderr",
     "output_type": "stream",
     "text": [
      "  0%|                                                    | 0/31 [00:00<?, ?it/s]"
     ]
    }
   ],
   "source": [
    "loops = num_epochs\n",
    "lmba_list = [0,0.5,1,3]\n",
    "teacher_optimizer = optim.SGD(teacher_model.parameters(), lr=best_lr, momentum=momentum)\n",
    "teacher_scheduler = torch.optim.lr_scheduler.StepLR(teacher_optimizer, step_size=step_size, gamma=gamma)\n",
    "    \n",
    "train_teacher(teacher_model, trainloader, criterion_clf, teacher_optimizer, teacher_scheduler, device, epochs=num_epochs, patience=3)\n",
    "\n",
    "torch.save(teacher_model.state_dict(), 'teacher_model_weights_ckd_wider.pth')\n",
    "torch.save(teacher_model, 'teacher_model_ckd_wider.pth')\n",
    "print('teacher weights and architecture saved and exported')\n",
    "\n",
    "for i in lmba_list:\n",
    "    student_model = torchvision.models.resnet18(weights=None).to(device)\n",
    "    student_model.fc = nn.Linear(512,30)\n",
    "    adv = Adversary()\n",
    "    student_optimizer = optim.SGD(student_model.parameters(), lr=learning_rate, momentum=momentum)\n",
    "    student_scheduler = torch.optim.lr_scheduler.StepLR(student_optimizer, step_size=step_size, gamma=gamma)\n",
    "    \n",
    "    optimizer_adv = optim.Adam(adv.parameters(), lr=learning_rate)\n",
    "    \n",
    "    pretrain_student(student_model, teacher_model, trainloader, \n",
    "                 criterion_clf, student_optimizer, student_scheduler, \n",
    "                 device, alpha, temperature, epochs=3)\n",
    "    pretrain_adversary(adv, student_model, optimizer_adv, trainloader, adv_criterion, epochs=3)\n",
    "    for j in range(loops):\n",
    "        print(f'Epoch Number {j}, Lambda: {i}')\n",
    "        train_adversary(adv=adv, student=student_model, optimizer=optimizer_adv, trainloader=trainloader, criterion=adv_criterion, epochs=1)\n",
    "        train_student_with_distillation_disparity(student_model, teacher_model, adv, trainloader, \n",
    "                                              testloader, criterion_clf, adv_criterion, student_optimizer, student_scheduler, \n",
    "                                              device, alpha, temperature, epochs=1, lmda=i, patience=5)\n",
    "    torch.save(student_model.state_dict(), f'student_model_weights_ckd_wider_lambda{i}.pth')\n",
    "    torch.save(student_model, f'student_model_ckd_wider_lambda{i}.pth')"
   ]
  },
  {
   "cell_type": "code",
   "execution_count": null,
   "id": "3c59176a-d2e0-4dbc-9526-2bd511ac7434",
   "metadata": {},
   "outputs": [],
   "source": [
    "\n",
    "# Sample data (replace this with your actual data)\n",
    "bias_values = [0.1, 0.15, 0.2, 0.25]\n",
    "accuracy_values = [0.8, 0.85, 0.88, 0.9]\n",
    "\n",
    "# Plotting the bias-variance trade-off curve\n",
    "plt.plot(bias_values, accuracy_values, marker='o', linestyle='-', color='b')\n",
    "plt.xlabel('Bias')\n",
    "plt.ylabel('Accuracy')\n",
    "plt.title('Bias-Variance Trade-off Curve')\n",
    "\n",
    "# Identify the optimal point (for simplicity, just finding the maximum accuracy)\n",
    "optimal_index = accuracy_values.index(max(accuracy_values))\n",
    "optimal_bias = bias_values[optimal_index]\n",
    "optimal_accuracy = accuracy_values[optimal_index]\n",
    "\n",
    "# Mark the optimal point on the curve\n",
    "plt.scatter(optimal_bias, optimal_accuracy, color='r', label='Optimal Point')\n",
    "\n",
    "plt.legend()\n",
    "plt.show()\n",
    "\n",
    "print(f\"Optimal Bias: {optimal_bias}\")\n",
    "print(f\"Optimal Accuracy: {optimal_accuracy}\")"
   ]
  },
  {
   "cell_type": "code",
   "execution_count": 30,
   "id": "3995827c-1726-44e2-89aa-5f346a3d4987",
   "metadata": {},
   "outputs": [
    {
     "data": {
      "image/png": "[encoded data removed]",
      "text/plain": [
       "<Figure size 640x480 with 1 Axes>"
      ]
     },
     "metadata": {},
     "output_type": "display_data"
    },
    {
     "data": {
      "image/png": "[encoded data removed]",
      "text/plain": [
       "<Figure size 640x480 with 1 Axes>"
      ]
     },
     "metadata": {},
     "output_type": "display_data"
    },
    {
     "data": {
      "image/png": "[encoded data removed]",
      "text/plain": [
       "<Figure size 640x480 with 1 Axes>"
      ]
     },
     "metadata": {},
     "output_type": "display_data"
    }
   ],
   "source": [
    "# Call the comparison and plotting functions after training\n",
    "teacher_params, student_params = compare_model_size(teacher_model, student_model)\n",
    "teacher_time, student_time = compare_inference_time(teacher_model, student_model, testloader)\n",
    "performance_metrics = compare_performance_metrics(teacher_model, student_model, testloader)\n",
    "\n",
    "# Extracting the metric values for plotting\n",
    "performance_labels = ['accuracy', 'precision', 'recall', 'f1']\n",
    "teacher_performance_values = [performance_metrics['metrics'][metric][0] for metric in performance_labels]\n",
    "student_performance_values = [performance_metrics['metrics'][metric][1] for metric in performance_labels]\n",
    "\n",
    "# Plotting the comparison for performance metrics\n",
    "plot_comparison(performance_labels, teacher_performance_values, student_performance_values, 'Performance Comparison', 'Score')\n",
    "\n",
    "# Plotting the comparison for model size\n",
    "model_size_labels = ['Model Size']\n",
    "teacher_model_size_values = [teacher_params]\n",
    "student_model_size_values = [student_params]\n",
    "plot_comparison(model_size_labels, teacher_model_size_values, student_model_size_values, 'Model Size Comparison', 'Parameter Count (millions)')\n",
    "\n",
    "# Plotting the comparison for inference time\n",
    "inference_time_labels = ['Inference Time']\n",
    "teacher_inference_time_values = [teacher_time]\n",
    "student_inference_time_values = [student_time]\n",
    "plot_comparison(inference_time_labels, teacher_inference_time_values, student_inference_time_values, 'Inference Time Comparison', 'Time (s)')"
   ]
  },
  {
   "cell_type": "code",
   "execution_count": 27,
   "id": "d289f549-42fc-4c17-ad60-415775d9d35f",
   "metadata": {},
   "outputs": [],
   "source": [
    "def calculate_recall(preds, targets, condition):\n",
    "    \"\"\"\n",
    "    Calculate recall for a given condition in a multi-class setting.\n",
    "\n",
    "    :param preds: Predicted classes.\n",
    "    :param targets: True classes.\n",
    "    :param condition: Boolean tensor indicating the condition (subset) for which to calculate recall.\n",
    "    :return: Recall value.\n",
    "    \"\"\"\n",
    "    if condition.sum() == 0:  # No samples meet the condition\n",
    "        return 0.0\n",
    "\n",
    "    filtered_preds = preds[condition]\n",
    "    filtered_targets = targets[condition]\n",
    "\n",
    "    true_positive = (filtered_preds == filtered_targets).sum().float()\n",
    "    condition_positive = filtered_targets.size(0)\n",
    "\n",
    "    recall = true_positive / condition_positive if condition_positive > 0 else 0.0\n",
    "    return recall\n",
    "    \n",
    "def calculate_weighted_disparity(disparity_sums, counts):\n",
    "    \"\"\"\n",
    "    Calculate weighted disparity for each class-attribute pair.\n",
    "    \"\"\"\n",
    "    weighted_disparities = torch.zeros_like(disparity_sums)\n",
    "    for class_idx in range(disparity_sums.size(0)):\n",
    "        for attr_idx in range(disparity_sums.size(1)):\n",
    "            if counts[class_idx][attr_idx] > 0:\n",
    "                weighted_disparities[class_idx][attr_idx] = disparity_sums[class_idx][attr_idx] / counts[class_idx][attr_idx]\n",
    "            else:\n",
    "                weighted_disparities[class_idx][attr_idx] = 0.0\n",
    "    return weighted_disparities\n",
    "\n",
    "def evaluate_disparity(model, dataloader, num_classes, device):\n",
    "    \"\"\"\n",
    "    Evaluate the disparity on the test data with weighted consideration.\n",
    "    \"\"\"\n",
    "    model.eval()\n",
    "    disparity_sums = None\n",
    "    counts = None\n",
    "\n",
    "    with torch.no_grad():\n",
    "        for batch in dataloader:\n",
    "            inputs = batch['img'].to(device)\n",
    "            targets = batch['label'].to(device)\n",
    "            attributes = batch['target'].to(device)\n",
    "\n",
    "            if disparity_sums is None:\n",
    "                disparity_sums = torch.zeros(num_classes, attributes.size(1), device=device)\n",
    "                counts = torch.zeros(num_classes, attributes.size(1), device=device)\n",
    "\n",
    "            outputs = model(inputs)\n",
    "            preds = torch.argmax(outputs, dim=1)\n",
    "\n",
    "            for class_idx in range(num_classes):\n",
    "                for attr_idx in range(attributes.size(1)):\n",
    "                    condition_present = (attributes[:, attr_idx] == 1) & (targets == class_idx)\n",
    "                    condition_absent = (attributes[:, attr_idx] == 0) & (targets == class_idx)\n",
    "\n",
    "                    if condition_present.sum() > 0 or condition_absent.sum() > 0:\n",
    "                        recall_present = calculate_recall(preds, targets, condition_present)\n",
    "                        recall_absent = calculate_recall(preds, targets, condition_absent)\n",
    "\n",
    "                        disparity = abs(recall_present - recall_absent)\n",
    "                        count = condition_present.sum() + condition_absent.sum()\n",
    "                        disparity_sums[class_idx][attr_idx] += disparity * count\n",
    "                        counts[class_idx][attr_idx] += count\n",
    "\n",
    "    weighted_disparities = calculate_weighted_disparity(disparity_sums, counts)\n",
    "\n",
    "    for class_idx in range(num_classes):\n",
    "        for attr_idx in range(attributes.size(1)):\n",
    "            print(f\"Class: {class_idx}, Attr: {attr_idx}, Weighted Disparity: {weighted_disparities[class_idx][attr_idx]}\")\n",
    "\n",
    "    weighted_average = weighted_disparities.flatten()\n",
    "    weighted_average = weighted_average.sum()/weighted_average.numel()\n",
    "    return weighted_average"
   ]
  },
  {
   "cell_type": "code",
   "execution_count": 28,
   "id": "85c3dd66-85c6-4a91-9c4d-f20fbc011342",
   "metadata": {},
   "outputs": [
    {
     "name": "stdout",
     "output_type": "stream",
     "text": [
      "Class: 0, Attr: 0, Weighted Disparity: 0.0\n",
      "Class: 1, Attr: 0, Weighted Disparity: 0.0\n",
      "Class: 2, Attr: 0, Weighted Disparity: 0.0\n",
      "Class: 3, Attr: 0, Weighted Disparity: 0.0\n",
      "Class: 4, Attr: 0, Weighted Disparity: 0.0\n",
      "Class: 5, Attr: 0, Weighted Disparity: 0.0\n",
      "Class: 6, Attr: 0, Weighted Disparity: 0.0\n",
      "Class: 7, Attr: 0, Weighted Disparity: 0.0\n",
      "Class: 8, Attr: 0, Weighted Disparity: 0.0\n",
      "Class: 9, Attr: 0, Weighted Disparity: 0.044026415795087814\n",
      "Class: 10, Attr: 0, Weighted Disparity: 0.0\n",
      "Class: 11, Attr: 0, Weighted Disparity: 0.0\n",
      "Class: 12, Attr: 0, Weighted Disparity: 0.0\n",
      "Class: 13, Attr: 0, Weighted Disparity: 0.0\n",
      "Class: 14, Attr: 0, Weighted Disparity: 0.0\n",
      "Class: 15, Attr: 0, Weighted Disparity: 0.0\n",
      "Class: 16, Attr: 0, Weighted Disparity: 0.0\n",
      "Class: 17, Attr: 0, Weighted Disparity: 0.0\n",
      "Class: 18, Attr: 0, Weighted Disparity: 0.0\n",
      "Class: 19, Attr: 0, Weighted Disparity: 0.12697367370128632\n",
      "Class: 20, Attr: 0, Weighted Disparity: 0.0\n",
      "Class: 21, Attr: 0, Weighted Disparity: 0.0\n",
      "Class: 22, Attr: 0, Weighted Disparity: 0.0\n",
      "Class: 23, Attr: 0, Weighted Disparity: 0.0\n",
      "Class: 24, Attr: 0, Weighted Disparity: 0.0\n",
      "Class: 25, Attr: 0, Weighted Disparity: 0.0\n",
      "Class: 26, Attr: 0, Weighted Disparity: 0.0\n",
      "Class: 27, Attr: 0, Weighted Disparity: 0.0\n",
      "Class: 28, Attr: 0, Weighted Disparity: 0.0\n",
      "Class: 29, Attr: 0, Weighted Disparity: 0.0\n",
      "Average recall disparity across all attributes and classes: 0.005700003355741501\n"
     ]
    }
   ],
   "source": [
    "disparity = evaluate_disparity(student_model, testloader, num_classes=num_classes, device=device)\n",
    "print(f'Average recall disparity across all attributes and classes: {disparity}')\n"
   ]
  },
  {
   "cell_type": "code",
   "execution_count": 29,
   "id": "eaa18cfd-8f83-4c3f-bbe9-c834403adf91",
   "metadata": {},
   "outputs": [
    {
     "data": {
      "image/png": "[encoded data removed]",
      "text/plain": [
       "<Figure size 640x480 with 1 Axes>"
      ]
     },
     "metadata": {},
     "output_type": "display_data"
    },
    {
     "data": {
      "image/png": "[encoded data removed]",
      "text/plain": [
       "<Figure size 1000x700 with 2 Axes>"
      ]
     },
     "metadata": {},
     "output_type": "display_data"
    },
    {
     "name": "stdout",
     "output_type": "stream",
     "text": [
      "              precision    recall  f1-score   support\n",
      "\n",
      "     Class 0       0.66      0.32      0.43       271\n",
      "     Class 1       0.00      0.00      0.00        70\n",
      "     Class 2       0.23      0.14      0.17        94\n",
      "     Class 3       0.11      0.21      0.15       104\n",
      "     Class 4       0.43      0.03      0.06       100\n",
      "     Class 5       1.00      0.02      0.04        94\n",
      "     Class 6       0.55      0.07      0.13        81\n",
      "     Class 7       0.00      0.00      0.00        42\n",
      "     Class 8       1.00      0.01      0.02        89\n",
      "     Class 9       0.06      0.91      0.11       115\n",
      "    Class 10       0.15      0.26      0.19        78\n",
      "    Class 11       0.60      0.12      0.21       145\n",
      "    Class 12       1.00      0.03      0.07        59\n",
      "    Class 13       0.96      0.21      0.34       107\n",
      "    Class 14       0.00      0.00      0.00        50\n",
      "    Class 15       0.26      0.05      0.08       104\n",
      "    Class 16       0.85      0.15      0.25        74\n",
      "    Class 17       0.48      0.27      0.34       124\n",
      "    Class 18       0.64      0.11      0.18        65\n",
      "    Class 19       0.69      0.55      0.61       319\n",
      "    Class 20       0.59      0.46      0.52       104\n",
      "    Class 21       0.58      0.60      0.59       134\n",
      "    Class 22       0.56      0.36      0.44       177\n",
      "    Class 23       0.79      0.36      0.50       102\n",
      "    Class 24       0.70      0.14      0.24       134\n",
      "    Class 25       0.24      0.22      0.23       110\n",
      "    Class 26       0.72      0.42      0.53       173\n",
      "    Class 27       0.42      0.04      0.07       129\n",
      "    Class 28       0.65      0.16      0.25        96\n",
      "    Class 29       0.75      0.11      0.19       109\n",
      "\n",
      "    accuracy                           0.26      3453\n",
      "   macro avg       0.52      0.21      0.23      3453\n",
      "weighted avg       0.56      0.26      0.29      3453\n",
      "\n"
     ]
    },
    {
     "data": {
      "image/png": "[encoded data removed]",
      "text/plain": [
       "<Figure size 640x480 with 1 Axes>"
      ]
     },
     "metadata": {},
     "output_type": "display_data"
    },
    {
     "data": {
      "image/png": "[encoded data removed]",
      "text/plain": [
       "<Figure size 1000x700 with 2 Axes>"
      ]
     },
     "metadata": {},
     "output_type": "display_data"
    },
    {
     "name": "stdout",
     "output_type": "stream",
     "text": [
      "              precision    recall  f1-score   support\n",
      "\n",
      "     Class 0       0.00      0.00      0.00       271\n",
      "     Class 1       0.00      0.00      0.00        70\n",
      "     Class 2       0.00      0.00      0.00        94\n",
      "     Class 3       0.00      0.00      0.00       104\n",
      "     Class 4       0.00      0.00      0.00       100\n",
      "     Class 5       0.00      0.00      0.00        94\n",
      "     Class 6       0.00      0.00      0.00        81\n",
      "     Class 7       0.00      0.00      0.00        42\n",
      "     Class 8       0.00      0.00      0.00        89\n",
      "     Class 9       0.04      0.40      0.07       115\n",
      "    Class 10       0.00      0.00      0.00        78\n",
      "    Class 11       0.00      0.00      0.00       145\n",
      "    Class 12       0.00      0.00      0.00        59\n",
      "    Class 13       0.00      0.00      0.00       107\n",
      "    Class 14       0.00      0.00      0.00        50\n",
      "    Class 15       0.00      0.00      0.00       104\n",
      "    Class 16       0.00      0.00      0.00        74\n",
      "    Class 17       0.00      0.00      0.00       124\n",
      "    Class 18       0.00      0.00      0.00        65\n",
      "    Class 19       0.10      0.69      0.18       319\n",
      "    Class 20       0.00      0.00      0.00       104\n",
      "    Class 21       0.00      0.00      0.00       134\n",
      "    Class 22       0.00      0.00      0.00       177\n",
      "    Class 23       0.00      0.00      0.00       102\n",
      "    Class 24       0.00      0.00      0.00       134\n",
      "    Class 25       0.00      0.00      0.00       110\n",
      "    Class 26       0.00      0.00      0.00       173\n",
      "    Class 27       0.00      0.00      0.00       129\n",
      "    Class 28       0.00      0.00      0.00        96\n",
      "    Class 29       0.00      0.00      0.00       109\n",
      "\n",
      "    accuracy                           0.08      3453\n",
      "   macro avg       0.00      0.04      0.01      3453\n",
      "weighted avg       0.01      0.08      0.02      3453\n",
      "\n"
     ]
    }
   ],
   "source": [
    "class_names_new = [f\"Class {label}\" for label in range(30)]\n",
    "def plot_prediction_distribution_and_confusion_matrix(labels, preds, class_names):\n",
    "    # Plotting the distribution of predictions\n",
    "    sns.countplot(x=preds)\n",
    "    plt.title('Distribution of Predictions')\n",
    "    plt.xlabel('Class')\n",
    "    plt.ylabel('Count')\n",
    "    plt.xticks(range(len(class_names)), class_names, rotation=45)\n",
    "    plt.show()\n",
    "\n",
    "    # Computing the confusion matrix\n",
    "    cm = confusion_matrix(labels, preds)\n",
    "    cm_df = pd.DataFrame(cm, index=class_names_new, columns=class_names_new)\n",
    "\n",
    "    # Plotting the confusion matrix\n",
    "    plt.figure(figsize=(10, 7))\n",
    "    sns.heatmap(cm_df, annot=True, fmt='g')\n",
    "    plt.title('Confusion Matrix')\n",
    "    plt.ylabel('True Label')\n",
    "    plt.xlabel('Predicted Label')\n",
    "    plt.show()\n",
    "\n",
    "    # Print classification report for detailed metrics\n",
    "    print(classification_report(labels, preds, target_names=class_names, zero_division=0))\n",
    "\n",
    "performance_metrics_teacher = compare_performance_metrics(teacher_model, student_model, testloader)\n",
    "all_labels = performance_metrics_teacher['all_labels']\n",
    "all_teacher_preds = performance_metrics_teacher['all_teacher_preds']\n",
    "all_student_preds = performance_metrics_teacher['all_student_preds']\n",
    "\n",
    "# For the Teacher Model\n",
    "plot_prediction_distribution_and_confusion_matrix(all_labels, all_teacher_preds, class_names_new)\n",
    "\n",
    "# For the Student Model\n",
    "plot_prediction_distribution_and_confusion_matrix(all_labels, all_student_preds, class_names_new)"
   ]
  },
  {
   "cell_type": "code",
   "execution_count": null,
   "id": "7c7ccf26-26ea-468d-877a-d8c24d8b45a5",
   "metadata": {},
   "outputs": [],
   "source": []
  },
  {
   "cell_type": "code",
   "execution_count": 30,
   "id": "fcf4430b-9213-444d-9288-b03b6011266f",
   "metadata": {},
   "outputs": [
    {
     "data": {
      "text/plain": [
       "ResNet(\n",
       "  (conv1): Conv2d(3, 64, kernel_size=(7, 7), stride=(2, 2), padding=(3, 3), bias=False)\n",
       "  (bn1): BatchNorm2d(64, eps=1e-05, momentum=0.1, affine=True, track_running_stats=True)\n",
       "  (relu): ReLU(inplace=True)\n",
       "  (maxpool): MaxPool2d(kernel_size=3, stride=2, padding=1, dilation=1, ceil_mode=False)\n",
       "  (layer1): Sequential(\n",
       "    (0): BasicBlock(\n",
       "      (conv1): Conv2d(64, 64, kernel_size=(3, 3), stride=(1, 1), padding=(1, 1), bias=False)\n",
       "      (bn1): BatchNorm2d(64, eps=1e-05, momentum=0.1, affine=True, track_running_stats=True)\n",
       "      (relu): ReLU(inplace=True)\n",
       "      (conv2): Conv2d(64, 64, kernel_size=(3, 3), stride=(1, 1), padding=(1, 1), bias=False)\n",
       "      (bn2): BatchNorm2d(64, eps=1e-05, momentum=0.1, affine=True, track_running_stats=True)\n",
       "    )\n",
       "    (1): BasicBlock(\n",
       "      (conv1): Conv2d(64, 64, kernel_size=(3, 3), stride=(1, 1), padding=(1, 1), bias=False)\n",
       "      (bn1): BatchNorm2d(64, eps=1e-05, momentum=0.1, affine=True, track_running_stats=True)\n",
       "      (relu): ReLU(inplace=True)\n",
       "      (conv2): Conv2d(64, 64, kernel_size=(3, 3), stride=(1, 1), padding=(1, 1), bias=False)\n",
       "      (bn2): BatchNorm2d(64, eps=1e-05, momentum=0.1, affine=True, track_running_stats=True)\n",
       "    )\n",
       "  )\n",
       "  (layer2): Sequential(\n",
       "    (0): BasicBlock(\n",
       "      (conv1): Conv2d(64, 128, kernel_size=(3, 3), stride=(2, 2), padding=(1, 1), bias=False)\n",
       "      (bn1): BatchNorm2d(128, eps=1e-05, momentum=0.1, affine=True, track_running_stats=True)\n",
       "      (relu): ReLU(inplace=True)\n",
       "      (conv2): Conv2d(128, 128, kernel_size=(3, 3), stride=(1, 1), padding=(1, 1), bias=False)\n",
       "      (bn2): BatchNorm2d(128, eps=1e-05, momentum=0.1, affine=True, track_running_stats=True)\n",
       "      (downsample): Sequential(\n",
       "        (0): Conv2d(64, 128, kernel_size=(1, 1), stride=(2, 2), bias=False)\n",
       "        (1): BatchNorm2d(128, eps=1e-05, momentum=0.1, affine=True, track_running_stats=True)\n",
       "      )\n",
       "    )\n",
       "    (1): BasicBlock(\n",
       "      (conv1): Conv2d(128, 128, kernel_size=(3, 3), stride=(1, 1), padding=(1, 1), bias=False)\n",
       "      (bn1): BatchNorm2d(128, eps=1e-05, momentum=0.1, affine=True, track_running_stats=True)\n",
       "      (relu): ReLU(inplace=True)\n",
       "      (conv2): Conv2d(128, 128, kernel_size=(3, 3), stride=(1, 1), padding=(1, 1), bias=False)\n",
       "      (bn2): BatchNorm2d(128, eps=1e-05, momentum=0.1, affine=True, track_running_stats=True)\n",
       "    )\n",
       "  )\n",
       "  (layer3): Sequential(\n",
       "    (0): BasicBlock(\n",
       "      (conv1): Conv2d(128, 256, kernel_size=(3, 3), stride=(2, 2), padding=(1, 1), bias=False)\n",
       "      (bn1): BatchNorm2d(256, eps=1e-05, momentum=0.1, affine=True, track_running_stats=True)\n",
       "      (relu): ReLU(inplace=True)\n",
       "      (conv2): Conv2d(256, 256, kernel_size=(3, 3), stride=(1, 1), padding=(1, 1), bias=False)\n",
       "      (bn2): BatchNorm2d(256, eps=1e-05, momentum=0.1, affine=True, track_running_stats=True)\n",
       "      (downsample): Sequential(\n",
       "        (0): Conv2d(128, 256, kernel_size=(1, 1), stride=(2, 2), bias=False)\n",
       "        (1): BatchNorm2d(256, eps=1e-05, momentum=0.1, affine=True, track_running_stats=True)\n",
       "      )\n",
       "    )\n",
       "    (1): BasicBlock(\n",
       "      (conv1): Conv2d(256, 256, kernel_size=(3, 3), stride=(1, 1), padding=(1, 1), bias=False)\n",
       "      (bn1): BatchNorm2d(256, eps=1e-05, momentum=0.1, affine=True, track_running_stats=True)\n",
       "      (relu): ReLU(inplace=True)\n",
       "      (conv2): Conv2d(256, 256, kernel_size=(3, 3), stride=(1, 1), padding=(1, 1), bias=False)\n",
       "      (bn2): BatchNorm2d(256, eps=1e-05, momentum=0.1, affine=True, track_running_stats=True)\n",
       "    )\n",
       "  )\n",
       "  (layer4): Sequential(\n",
       "    (0): BasicBlock(\n",
       "      (conv1): Conv2d(256, 512, kernel_size=(3, 3), stride=(2, 2), padding=(1, 1), bias=False)\n",
       "      (bn1): BatchNorm2d(512, eps=1e-05, momentum=0.1, affine=True, track_running_stats=True)\n",
       "      (relu): ReLU(inplace=True)\n",
       "      (conv2): Conv2d(512, 512, kernel_size=(3, 3), stride=(1, 1), padding=(1, 1), bias=False)\n",
       "      (bn2): BatchNorm2d(512, eps=1e-05, momentum=0.1, affine=True, track_running_stats=True)\n",
       "      (downsample): Sequential(\n",
       "        (0): Conv2d(256, 512, kernel_size=(1, 1), stride=(2, 2), bias=False)\n",
       "        (1): BatchNorm2d(512, eps=1e-05, momentum=0.1, affine=True, track_running_stats=True)\n",
       "      )\n",
       "    )\n",
       "    (1): BasicBlock(\n",
       "      (conv1): Conv2d(512, 512, kernel_size=(3, 3), stride=(1, 1), padding=(1, 1), bias=False)\n",
       "      (bn1): BatchNorm2d(512, eps=1e-05, momentum=0.1, affine=True, track_running_stats=True)\n",
       "      (relu): ReLU(inplace=True)\n",
       "      (conv2): Conv2d(512, 512, kernel_size=(3, 3), stride=(1, 1), padding=(1, 1), bias=False)\n",
       "      (bn2): BatchNorm2d(512, eps=1e-05, momentum=0.1, affine=True, track_running_stats=True)\n",
       "    )\n",
       "  )\n",
       "  (avgpool): AdaptiveAvgPool2d(output_size=(1, 1))\n",
       "  (fc): Linear(in_features=512, out_features=30, bias=True)\n",
       ")"
      ]
     },
     "execution_count": 30,
     "metadata": {},
     "output_type": "execute_result"
    }
   ],
   "source": [
    "student_model"
   ]
  },
  {
   "cell_type": "code",
   "execution_count": 31,
   "id": "8ef97ca7-c21c-4463-8845-1d4cf2e45927",
   "metadata": {},
   "outputs": [],
   "source": [
    "modules=list(student_model.children())[:-1]\n",
    "student_features=nn.Sequential(*modules)"
   ]
  },
  {
   "cell_type": "code",
   "execution_count": 32,
   "id": "15bd9fea-f2c5-469c-aaf1-5a045dfb0ef0",
   "metadata": {},
   "outputs": [
    {
     "data": {
      "text/plain": [
       "Sequential(\n",
       "  (0): Conv2d(3, 64, kernel_size=(7, 7), stride=(2, 2), padding=(3, 3), bias=False)\n",
       "  (1): BatchNorm2d(64, eps=1e-05, momentum=0.1, affine=True, track_running_stats=True)\n",
       "  (2): ReLU(inplace=True)\n",
       "  (3): MaxPool2d(kernel_size=3, stride=2, padding=1, dilation=1, ceil_mode=False)\n",
       "  (4): Sequential(\n",
       "    (0): BasicBlock(\n",
       "      (conv1): Conv2d(64, 64, kernel_size=(3, 3), stride=(1, 1), padding=(1, 1), bias=False)\n",
       "      (bn1): BatchNorm2d(64, eps=1e-05, momentum=0.1, affine=True, track_running_stats=True)\n",
       "      (relu): ReLU(inplace=True)\n",
       "      (conv2): Conv2d(64, 64, kernel_size=(3, 3), stride=(1, 1), padding=(1, 1), bias=False)\n",
       "      (bn2): BatchNorm2d(64, eps=1e-05, momentum=0.1, affine=True, track_running_stats=True)\n",
       "    )\n",
       "    (1): BasicBlock(\n",
       "      (conv1): Conv2d(64, 64, kernel_size=(3, 3), stride=(1, 1), padding=(1, 1), bias=False)\n",
       "      (bn1): BatchNorm2d(64, eps=1e-05, momentum=0.1, affine=True, track_running_stats=True)\n",
       "      (relu): ReLU(inplace=True)\n",
       "      (conv2): Conv2d(64, 64, kernel_size=(3, 3), stride=(1, 1), padding=(1, 1), bias=False)\n",
       "      (bn2): BatchNorm2d(64, eps=1e-05, momentum=0.1, affine=True, track_running_stats=True)\n",
       "    )\n",
       "  )\n",
       "  (5): Sequential(\n",
       "    (0): BasicBlock(\n",
       "      (conv1): Conv2d(64, 128, kernel_size=(3, 3), stride=(2, 2), padding=(1, 1), bias=False)\n",
       "      (bn1): BatchNorm2d(128, eps=1e-05, momentum=0.1, affine=True, track_running_stats=True)\n",
       "      (relu): ReLU(inplace=True)\n",
       "      (conv2): Conv2d(128, 128, kernel_size=(3, 3), stride=(1, 1), padding=(1, 1), bias=False)\n",
       "      (bn2): BatchNorm2d(128, eps=1e-05, momentum=0.1, affine=True, track_running_stats=True)\n",
       "      (downsample): Sequential(\n",
       "        (0): Conv2d(64, 128, kernel_size=(1, 1), stride=(2, 2), bias=False)\n",
       "        (1): BatchNorm2d(128, eps=1e-05, momentum=0.1, affine=True, track_running_stats=True)\n",
       "      )\n",
       "    )\n",
       "    (1): BasicBlock(\n",
       "      (conv1): Conv2d(128, 128, kernel_size=(3, 3), stride=(1, 1), padding=(1, 1), bias=False)\n",
       "      (bn1): BatchNorm2d(128, eps=1e-05, momentum=0.1, affine=True, track_running_stats=True)\n",
       "      (relu): ReLU(inplace=True)\n",
       "      (conv2): Conv2d(128, 128, kernel_size=(3, 3), stride=(1, 1), padding=(1, 1), bias=False)\n",
       "      (bn2): BatchNorm2d(128, eps=1e-05, momentum=0.1, affine=True, track_running_stats=True)\n",
       "    )\n",
       "  )\n",
       "  (6): Sequential(\n",
       "    (0): BasicBlock(\n",
       "      (conv1): Conv2d(128, 256, kernel_size=(3, 3), stride=(2, 2), padding=(1, 1), bias=False)\n",
       "      (bn1): BatchNorm2d(256, eps=1e-05, momentum=0.1, affine=True, track_running_stats=True)\n",
       "      (relu): ReLU(inplace=True)\n",
       "      (conv2): Conv2d(256, 256, kernel_size=(3, 3), stride=(1, 1), padding=(1, 1), bias=False)\n",
       "      (bn2): BatchNorm2d(256, eps=1e-05, momentum=0.1, affine=True, track_running_stats=True)\n",
       "      (downsample): Sequential(\n",
       "        (0): Conv2d(128, 256, kernel_size=(1, 1), stride=(2, 2), bias=False)\n",
       "        (1): BatchNorm2d(256, eps=1e-05, momentum=0.1, affine=True, track_running_stats=True)\n",
       "      )\n",
       "    )\n",
       "    (1): BasicBlock(\n",
       "      (conv1): Conv2d(256, 256, kernel_size=(3, 3), stride=(1, 1), padding=(1, 1), bias=False)\n",
       "      (bn1): BatchNorm2d(256, eps=1e-05, momentum=0.1, affine=True, track_running_stats=True)\n",
       "      (relu): ReLU(inplace=True)\n",
       "      (conv2): Conv2d(256, 256, kernel_size=(3, 3), stride=(1, 1), padding=(1, 1), bias=False)\n",
       "      (bn2): BatchNorm2d(256, eps=1e-05, momentum=0.1, affine=True, track_running_stats=True)\n",
       "    )\n",
       "  )\n",
       "  (7): Sequential(\n",
       "    (0): BasicBlock(\n",
       "      (conv1): Conv2d(256, 512, kernel_size=(3, 3), stride=(2, 2), padding=(1, 1), bias=False)\n",
       "      (bn1): BatchNorm2d(512, eps=1e-05, momentum=0.1, affine=True, track_running_stats=True)\n",
       "      (relu): ReLU(inplace=True)\n",
       "      (conv2): Conv2d(512, 512, kernel_size=(3, 3), stride=(1, 1), padding=(1, 1), bias=False)\n",
       "      (bn2): BatchNorm2d(512, eps=1e-05, momentum=0.1, affine=True, track_running_stats=True)\n",
       "      (downsample): Sequential(\n",
       "        (0): Conv2d(256, 512, kernel_size=(1, 1), stride=(2, 2), bias=False)\n",
       "        (1): BatchNorm2d(512, eps=1e-05, momentum=0.1, affine=True, track_running_stats=True)\n",
       "      )\n",
       "    )\n",
       "    (1): BasicBlock(\n",
       "      (conv1): Conv2d(512, 512, kernel_size=(3, 3), stride=(1, 1), padding=(1, 1), bias=False)\n",
       "      (bn1): BatchNorm2d(512, eps=1e-05, momentum=0.1, affine=True, track_running_stats=True)\n",
       "      (relu): ReLU(inplace=True)\n",
       "      (conv2): Conv2d(512, 512, kernel_size=(3, 3), stride=(1, 1), padding=(1, 1), bias=False)\n",
       "      (bn2): BatchNorm2d(512, eps=1e-05, momentum=0.1, affine=True, track_running_stats=True)\n",
       "    )\n",
       "  )\n",
       "  (8): AdaptiveAvgPool2d(output_size=(1, 1))\n",
       ")"
      ]
     },
     "execution_count": 32,
     "metadata": {},
     "output_type": "execute_result"
    }
   ],
   "source": [
    "student_features"
   ]
  },
  {
   "cell_type": "code",
   "execution_count": 33,
   "id": "963e634a-992d-4ae1-8883-fb8065970cf4",
   "metadata": {},
   "outputs": [],
   "source": [
    "for name, param in student_model.named_parameters():\n",
    "    if \"weight\" in name:  # assuming the last layer has a weight parameter\n",
    "        last_layer_hidden_size = param.size(0)  # The first dimension is the hidden size\n",
    "        break"
   ]
  },
  {
   "cell_type": "code",
   "execution_count": 34,
   "id": "05762185-9db6-46c5-93f1-3eb7e52402ca",
   "metadata": {},
   "outputs": [
    {
     "data": {
      "text/plain": [
       "64"
      ]
     },
     "execution_count": 34,
     "metadata": {},
     "output_type": "execute_result"
    }
   ],
   "source": [
    "last_layer_hidden_size"
   ]
  },
  {
   "cell_type": "code",
   "execution_count": 35,
   "id": "aea8f21a-ed8f-42bb-9b91-fce9fe3c1b23",
   "metadata": {},
   "outputs": [
    {
     "data": {
      "text/plain": [
       "ResNet(\n",
       "  (conv1): Conv2d(3, 64, kernel_size=(7, 7), stride=(2, 2), padding=(3, 3), bias=False)\n",
       "  (bn1): BatchNorm2d(64, eps=1e-05, momentum=0.1, affine=True, track_running_stats=True)\n",
       "  (relu): ReLU(inplace=True)\n",
       "  (maxpool): MaxPool2d(kernel_size=3, stride=2, padding=1, dilation=1, ceil_mode=False)\n",
       "  (layer1): Sequential(\n",
       "    (0): BasicBlock(\n",
       "      (conv1): Conv2d(64, 64, kernel_size=(3, 3), stride=(1, 1), padding=(1, 1), bias=False)\n",
       "      (bn1): BatchNorm2d(64, eps=1e-05, momentum=0.1, affine=True, track_running_stats=True)\n",
       "      (relu): ReLU(inplace=True)\n",
       "      (conv2): Conv2d(64, 64, kernel_size=(3, 3), stride=(1, 1), padding=(1, 1), bias=False)\n",
       "      (bn2): BatchNorm2d(64, eps=1e-05, momentum=0.1, affine=True, track_running_stats=True)\n",
       "    )\n",
       "    (1): BasicBlock(\n",
       "      (conv1): Conv2d(64, 64, kernel_size=(3, 3), stride=(1, 1), padding=(1, 1), bias=False)\n",
       "      (bn1): BatchNorm2d(64, eps=1e-05, momentum=0.1, affine=True, track_running_stats=True)\n",
       "      (relu): ReLU(inplace=True)\n",
       "      (conv2): Conv2d(64, 64, kernel_size=(3, 3), stride=(1, 1), padding=(1, 1), bias=False)\n",
       "      (bn2): BatchNorm2d(64, eps=1e-05, momentum=0.1, affine=True, track_running_stats=True)\n",
       "    )\n",
       "  )\n",
       "  (layer2): Sequential(\n",
       "    (0): BasicBlock(\n",
       "      (conv1): Conv2d(64, 128, kernel_size=(3, 3), stride=(2, 2), padding=(1, 1), bias=False)\n",
       "      (bn1): BatchNorm2d(128, eps=1e-05, momentum=0.1, affine=True, track_running_stats=True)\n",
       "      (relu): ReLU(inplace=True)\n",
       "      (conv2): Conv2d(128, 128, kernel_size=(3, 3), stride=(1, 1), padding=(1, 1), bias=False)\n",
       "      (bn2): BatchNorm2d(128, eps=1e-05, momentum=0.1, affine=True, track_running_stats=True)\n",
       "      (downsample): Sequential(\n",
       "        (0): Conv2d(64, 128, kernel_size=(1, 1), stride=(2, 2), bias=False)\n",
       "        (1): BatchNorm2d(128, eps=1e-05, momentum=0.1, affine=True, track_running_stats=True)\n",
       "      )\n",
       "    )\n",
       "    (1): BasicBlock(\n",
       "      (conv1): Conv2d(128, 128, kernel_size=(3, 3), stride=(1, 1), padding=(1, 1), bias=False)\n",
       "      (bn1): BatchNorm2d(128, eps=1e-05, momentum=0.1, affine=True, track_running_stats=True)\n",
       "      (relu): ReLU(inplace=True)\n",
       "      (conv2): Conv2d(128, 128, kernel_size=(3, 3), stride=(1, 1), padding=(1, 1), bias=False)\n",
       "      (bn2): BatchNorm2d(128, eps=1e-05, momentum=0.1, affine=True, track_running_stats=True)\n",
       "    )\n",
       "  )\n",
       "  (layer3): Sequential(\n",
       "    (0): BasicBlock(\n",
       "      (conv1): Conv2d(128, 256, kernel_size=(3, 3), stride=(2, 2), padding=(1, 1), bias=False)\n",
       "      (bn1): BatchNorm2d(256, eps=1e-05, momentum=0.1, affine=True, track_running_stats=True)\n",
       "      (relu): ReLU(inplace=True)\n",
       "      (conv2): Conv2d(256, 256, kernel_size=(3, 3), stride=(1, 1), padding=(1, 1), bias=False)\n",
       "      (bn2): BatchNorm2d(256, eps=1e-05, momentum=0.1, affine=True, track_running_stats=True)\n",
       "      (downsample): Sequential(\n",
       "        (0): Conv2d(128, 256, kernel_size=(1, 1), stride=(2, 2), bias=False)\n",
       "        (1): BatchNorm2d(256, eps=1e-05, momentum=0.1, affine=True, track_running_stats=True)\n",
       "      )\n",
       "    )\n",
       "    (1): BasicBlock(\n",
       "      (conv1): Conv2d(256, 256, kernel_size=(3, 3), stride=(1, 1), padding=(1, 1), bias=False)\n",
       "      (bn1): BatchNorm2d(256, eps=1e-05, momentum=0.1, affine=True, track_running_stats=True)\n",
       "      (relu): ReLU(inplace=True)\n",
       "      (conv2): Conv2d(256, 256, kernel_size=(3, 3), stride=(1, 1), padding=(1, 1), bias=False)\n",
       "      (bn2): BatchNorm2d(256, eps=1e-05, momentum=0.1, affine=True, track_running_stats=True)\n",
       "    )\n",
       "  )\n",
       "  (layer4): Sequential(\n",
       "    (0): BasicBlock(\n",
       "      (conv1): Conv2d(256, 512, kernel_size=(3, 3), stride=(2, 2), padding=(1, 1), bias=False)\n",
       "      (bn1): BatchNorm2d(512, eps=1e-05, momentum=0.1, affine=True, track_running_stats=True)\n",
       "      (relu): ReLU(inplace=True)\n",
       "      (conv2): Conv2d(512, 512, kernel_size=(3, 3), stride=(1, 1), padding=(1, 1), bias=False)\n",
       "      (bn2): BatchNorm2d(512, eps=1e-05, momentum=0.1, affine=True, track_running_stats=True)\n",
       "      (downsample): Sequential(\n",
       "        (0): Conv2d(256, 512, kernel_size=(1, 1), stride=(2, 2), bias=False)\n",
       "        (1): BatchNorm2d(512, eps=1e-05, momentum=0.1, affine=True, track_running_stats=True)\n",
       "      )\n",
       "    )\n",
       "    (1): BasicBlock(\n",
       "      (conv1): Conv2d(512, 512, kernel_size=(3, 3), stride=(1, 1), padding=(1, 1), bias=False)\n",
       "      (bn1): BatchNorm2d(512, eps=1e-05, momentum=0.1, affine=True, track_running_stats=True)\n",
       "      (relu): ReLU(inplace=True)\n",
       "      (conv2): Conv2d(512, 512, kernel_size=(3, 3), stride=(1, 1), padding=(1, 1), bias=False)\n",
       "      (bn2): BatchNorm2d(512, eps=1e-05, momentum=0.1, affine=True, track_running_stats=True)\n",
       "    )\n",
       "  )\n",
       "  (avgpool): AdaptiveAvgPool2d(output_size=(1, 1))\n",
       "  (fc): Linear(in_features=512, out_features=30, bias=True)\n",
       ")"
      ]
     },
     "execution_count": 35,
     "metadata": {},
     "output_type": "execute_result"
    }
   ],
   "source": [
    "student_model"
   ]
  },
  {
   "cell_type": "code",
   "execution_count": null,
   "id": "c9d76a0f-a3e9-416d-861b-52c733cf9d95",
   "metadata": {},
   "outputs": [],
   "source": []
  }
 ],
 "metadata": {
  "kernelspec": {
   "display_name": "Python 3 (ipykernel)",
   "language": "python",
   "name": "python3"
  },
  "language_info": {
   "codemirror_mode": {
    "name": "ipython",
    "version": 3
   },
   "file_extension": ".py",
   "mimetype": "text/x-python",
   "name": "python",
   "nbconvert_exporter": "python",
   "pygments_lexer": "ipython3",
   "version": "3.10.9"
  }
 },
 "nbformat": 4,
 "nbformat_minor": 5
}
