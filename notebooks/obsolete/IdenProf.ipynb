{
 "cells": [
  {
   "cell_type": "code",
   "execution_count": 1,
   "id": "840d10cf-9482-46f6-8fab-9be1cf72b535",
   "metadata": {},
   "outputs": [
    {
     "name": "stdout",
     "output_type": "stream",
     "text": [
      "Downloading idenprof-jpg.zip\n",
      "['train', 'test']\n"
     ]
    }
   ],
   "source": [
    "import os\n",
    "from io import open\n",
    "import requests\n",
    "import shutil\n",
    "from zipfile import ZipFile\n",
    "import numpy as np\n",
    "import json\n",
    "\n",
    "execution_path = os.getcwd()\n",
    "\n",
    "\n",
    "SOURCE_PATH = \"https://github.com/OlafenwaMoses/IdenProf/releases/download/v1.0/idenprof-jpg.zip\"\n",
    "FILE_DIR = os.path.join(execution_path, \"idenprof-jpg.zip\")\n",
    "DATASET_DIR = os.path.join(execution_path, \"idenprof\")\n",
    "DATASET_TRAIN_DIR = os.path.join(DATASET_DIR, \"train\")\n",
    "DATASET_TEST_DIR = os.path.join(DATASET_DIR, \"test\")\n",
    "\n",
    "\n",
    "def download_idenprof():\n",
    "    if (os.path.exists(FILE_DIR) == False):\n",
    "        print(\"Downloading idenprof-jpg.zip\")\n",
    "        data = requests.get(SOURCE_PATH,\n",
    "                            stream=True)\n",
    "\n",
    "        with open(FILE_DIR, \"wb\") as file:\n",
    "            shutil.copyfileobj(data.raw, file)\n",
    "        del data\n",
    "\n",
    "        extract = ZipFile(FILE_DIR)\n",
    "        extract.extractall(execution_path)\n",
    "        extract.close()\n",
    "\n",
    "download_idenprof()\n",
    "print(os.listdir(os.path.join(execution_path, \"idenprof\")))"
   ]
  },
  {
   "cell_type": "code",
   "execution_count": 6,
   "id": "8cf231b8-8e76-4d60-b2ad-de68614824e4",
   "metadata": {},
   "outputs": [
    {
     "data": {
      "text/plain": [
       "'/home/ubuntu/capstone/W210-Capstone/notebooks'"
      ]
     },
     "execution_count": 6,
     "metadata": {},
     "output_type": "execute_result"
    }
   ],
   "source": [
    "os.getcwd()"
   ]
  },
  {
   "cell_type": "code",
   "execution_count": null,
   "id": "a0114cdc-e868-4216-96df-591bf2ea51bc",
   "metadata": {},
   "outputs": [],
   "source": []
  }
 ],
 "metadata": {
  "kernelspec": {
   "display_name": "Python 3 (ipykernel)",
   "language": "python",
   "name": "python3"
  },
  "language_info": {
   "codemirror_mode": {
    "name": "ipython",
    "version": 3
   },
   "file_extension": ".py",
   "mimetype": "text/x-python",
   "name": "python",
   "nbconvert_exporter": "python",
   "pygments_lexer": "ipython3",
   "version": "3.10.9"
  }
 },
 "nbformat": 4,
 "nbformat_minor": 5
}
