{
 "cells": [
  {
   "cell_type": "code",
   "execution_count": null,
   "id": "5868f8ac-6899-4fb9-8878-9bdfee845359",
   "metadata": {},
   "outputs": [
    {
     "name": "stdout",
     "output_type": "stream",
     "text": [
      "Collecting fiftyone\n",
      "  Obtaining dependency information for fiftyone from https://files.pythonhosted.org/packages/10/f1/aa6eb02fda4640fde27824af6a3c31b09ca0634afa095ed97ac6c8ddf868/fiftyone-0.22.1-py3-none-any.whl.metadata\n",
      "  Downloading fiftyone-0.22.1-py3-none-any.whl.metadata (12 kB)\n",
      "Collecting aiofiles (from fiftyone)\n",
      "  Obtaining dependency information for aiofiles from https://files.pythonhosted.org/packages/c5/19/5af6804c4cc0fed83f47bff6e413a98a36618e7d40185cd36e69737f3b0e/aiofiles-23.2.1-py3-none-any.whl.metadata\n",
      "  Downloading aiofiles-23.2.1-py3-none-any.whl.metadata (9.7 kB)\n",
      "Collecting argcomplete (from fiftyone)\n",
      "  Obtaining dependency information for argcomplete from https://files.pythonhosted.org/packages/1e/05/223116a4a5905d6b26bff334ffc7b74474fafe23fcb10532caf0ef86ca69/argcomplete-3.1.2-py3-none-any.whl.metadata\n",
      "  Downloading argcomplete-3.1.2-py3-none-any.whl.metadata (16 kB)\n",
      "Requirement already satisfied: beautifulsoup4 in /Library/Frameworks/Python.framework/Versions/3.9/lib/python3.9/site-packages (from fiftyone) (4.12.2)\n",
      "Collecting boto3 (from fiftyone)\n",
      "  Obtaining dependency information for boto3 from https://files.pythonhosted.org/packages/c0/67/4d23a38313d7b37892a6d9c9260809f1a2f5a37feaf6f13da0aa27f57d6d/boto3-1.28.63-py3-none-any.whl.metadata\n",
      "  Downloading boto3-1.28.63-py3-none-any.whl.metadata (6.7 kB)\n",
      "Collecting cachetools (from fiftyone)\n",
      "  Obtaining dependency information for cachetools from https://files.pythonhosted.org/packages/a9/c9/c8a7710f2cedcb1db9224fdd4d8307c9e48cbddc46c18b515fefc0f1abbe/cachetools-5.3.1-py3-none-any.whl.metadata\n",
      "  Downloading cachetools-5.3.1-py3-none-any.whl.metadata (5.2 kB)\n",
      "Collecting dacite<1.8.0,>=1.6.0 (from fiftyone)\n",
      "  Downloading dacite-1.7.0-py3-none-any.whl (12 kB)\n",
      "Collecting Deprecated (from fiftyone)\n",
      "  Obtaining dependency information for Deprecated from https://files.pythonhosted.org/packages/20/8d/778b7d51b981a96554f29136cd59ca7880bf58094338085bcf2a979a0e6a/Deprecated-1.2.14-py2.py3-none-any.whl.metadata\n",
      "  Downloading Deprecated-1.2.14-py2.py3-none-any.whl.metadata (5.4 kB)\n",
      "Collecting ftfy (from fiftyone)\n",
      "  Downloading ftfy-6.1.1-py3-none-any.whl (53 kB)\n",
      "\u001b[2K     \u001b[90m━━━━━━━━━━━━━━━━━━━━━━━━━━━━━━━━━━━━━━━━\u001b[0m \u001b[32m53.1/53.1 kB\u001b[0m \u001b[31m1.0 MB/s\u001b[0m eta \u001b[36m0:00:00\u001b[0ma \u001b[36m0:00:01\u001b[0m\n",
      "\u001b[?25hCollecting hypercorn>=0.13.2 (from fiftyone)\n",
      "  Obtaining dependency information for hypercorn>=0.13.2 from https://files.pythonhosted.org/packages/f8/aa/0632f628205f09ec7daa5875e4142db519bfa7a161d48a6417b0f9ab5e08/hypercorn-0.14.4-py3-none-any.whl.metadata\n",
      "  Downloading hypercorn-0.14.4-py3-none-any.whl.metadata (5.4 kB)\n",
      "Requirement already satisfied: Jinja2>=3 in /Library/Frameworks/Python.framework/Versions/3.9/lib/python3.9/site-packages (from fiftyone) (3.1.2)\n",
      "Collecting kaleido!=0.2.1.post1 (from fiftyone)\n",
      "  Downloading kaleido-0.2.1-py2.py3-none-macosx_10_11_x86_64.whl (85.2 MB)\n",
      "\u001b[2K     \u001b[91m━━━━━━━━━━━━━━━━━━━━━━━━━━━━\u001b[0m\u001b[90m╺\u001b[0m\u001b[90m━━━━━━━━━━━\u001b[0m \u001b[32m59.6/85.2 MB\u001b[0m \u001b[31m5.0 MB/s\u001b[0m eta \u001b[36m0:00:06\u001b[0m"
     ]
    }
   ],
   "source": [
    "!pip install fiftyone"
   ]
  },
  {
   "cell_type": "code",
   "execution_count": null,
   "id": "b75b68a7-5330-4b64-805d-3fe0e0064a4e",
   "metadata": {},
   "outputs": [],
   "source": [
    "# install for AWS\n",
    "!pip install torch\n",
    "!pip install pandas\n",
    "!pip install scikit-image\n",
    "!pip install scikit-learn\n",
    "!pip install matplotlib\n",
    "!pip install torchvision"
   ]
  },
  {
   "cell_type": "code",
   "execution_count": 92,
   "id": "0d921d67",
   "metadata": {},
   "outputs": [
    {
     "data": {
      "text/plain": [
       "<matplotlib.pyplot._IonContext at 0x7fbba21dc460>"
      ]
     },
     "execution_count": 92,
     "metadata": {},
     "output_type": "execute_result"
    }
   ],
   "source": [
    "import os\n",
    "import torch\n",
    "import pandas as pd\n",
    "import tarfile\n",
    "import shutil\n",
    "import numpy as np\n",
    "import matplotlib.pyplot as plt\n",
    "import torch.nn.functional as F\n",
    "import torch.nn as nn\n",
    "import torch.optim as optim\n",
    "import torchvision\n",
    "import random\n",
    "import warnings\n",
    "import boto3\n",
    "\n",
    "from skimage import io, transform\n",
    "from sklearn.model_selection import train_test_split\n",
    "from sklearn.metrics import accuracy_score\n",
    "from PIL import Image\n",
    "from sklearn.preprocessing import LabelEncoder\n",
    "from torch.utils.data import Dataset, DataLoader\n",
    "from torch.utils.data.sampler import SubsetRandomSampler\n",
    "from torchvision import transforms, utils, models, datasets\n",
    "\n",
    "warnings.filterwarnings(\"ignore\")\n",
    "\n",
    "plt.ion()   # interactive mode"
   ]
  },
  {
   "cell_type": "markdown",
   "id": "9291892c",
   "metadata": {},
   "source": [
    "# Load and Split"
   ]
  },
  {
   "cell_type": "code",
   "execution_count": null,
   "id": "151506f8-ee9b-4e93-9288-f5c9294b54f6",
   "metadata": {},
   "outputs": [],
   "source": [
    "# use data directly from s3 without pulling onto EC2"
   ]
  },
  {
   "cell_type": "code",
   "execution_count": null,
   "id": "1e8f2565-feba-45cc-ae23-2423efa4555a",
   "metadata": {},
   "outputs": [],
   "source": [
    "path = '../data/'"
   ]
  },
  {
   "cell_type": "code",
   "execution_count": 71,
   "id": "8c7160d4",
   "metadata": {},
   "outputs": [],
   "source": [
    "df = pd.read_csv(f'{path}annotations.csv')\n",
    "classes = df['class1'].unique()\n",
    "\n",
    "idx_to_class = {i:j for i, j in enumerate(classes)}\n",
    "class_to_idx = {value:key for key,value in idx_to_class.items()}"
   ]
  },
  {
   "cell_type": "code",
   "execution_count": null,
   "id": "2366b5c0-383f-494e-93ab-f504f7729300",
   "metadata": {},
   "outputs": [],
   "source": [
    "# # pull the data and untar it\n",
    "\n",
    "# facet_dir = '../data/FACET'\n",
    "# if not os.path.exists(facet_dir):\n",
    "#     os.makedirs(facet_dir)\n",
    "\n",
    "# # List of tar files to extract\n",
    "# tar_files = [\n",
    "#     'An-eiAKujFQ7M85gO7i3_GRYWn8rEQV3YkAHJj3r6-VnBGtZaMXHcbL0B6SzheQC0G4hiRgrrX2Q',\n",
    "#     'An93bEI19SVh7AcucvBCxtlNQbmFu7VHA5F2ohTup8oD_2UqWhoGWfUuTxH7fx7INUtl5g9PssYR',\n",
    "#     'An_dQ-jGpseAUdnVrzTm6Fi6SDH5Fqs1hoopIrJbVZ2og71GwYgu3G2bgmtKrjrP8l69-MUsttDg'\n",
    "# ]\n",
    "\n",
    "# # Loop through each tar file\n",
    "# for tar_file in tar_files:\n",
    "#     # Extract the tar file to a temporary directory\n",
    "#     with tarfile.open(f'{path}{tar_file}', 'r') as tar:\n",
    "#         temp_dir = f'./temp_{tar_file}'\n",
    "#         if not os.path.exists(temp_dir):\n",
    "#             os.makedirs(temp_dir)\n",
    "#         tar.extractall(path=temp_dir)\n",
    "    \n",
    "#     # Move the JPG files to the FACET directory\n",
    "#     for root, dirs, files in os.walk(temp_dir):\n",
    "#         for file in files:\n",
    "#             if file.endswith('.jpg'):\n",
    "#                 jpg_file_path = os.path.join(root, file)\n",
    "#                 shutil.move(jpg_file_path, os.path.join(facet_dir, file))\n",
    "    \n",
    "#     # Clean up the temporary directory\n",
    "#     shutil.rmtree(temp_dir)\n"
   ]
  },
  {
   "cell_type": "code",
   "execution_count": null,
   "id": "0854c838-4960-4199-ac65-dc3f1a860ec2",
   "metadata": {},
   "outputs": [],
   "source": [
    "# count number of files\n",
    "# !find $facet_dir -type f | wc -l"
   ]
  },
  {
   "cell_type": "code",
   "execution_count": 78,
   "id": "7b71e49c",
   "metadata": {},
   "outputs": [
    {
     "data": {
      "text/plain": [
       "gender_presentation_masc          0\n",
       "gender_presentation_fem           1\n",
       "gender_presentation_non_binary    0\n",
       "gender_presentation_na            0\n",
       "skin_tone_1                       2\n",
       "skin_tone_2                       3\n",
       "skin_tone_3                       0\n",
       "skin_tone_4                       0\n",
       "skin_tone_5                       0\n",
       "skin_tone_6                       0\n",
       "skin_tone_7                       0\n",
       "skin_tone_8                       0\n",
       "skin_tone_9                       0\n",
       "skin_tone_10                      0\n",
       "skin_tone_na                      0\n",
       "age_presentation_young            0\n",
       "age_presentation_older            0\n",
       "age_presentation_middle           1\n",
       "age_presentation_na               0\n",
       "hair_color_brown                  0\n",
       "hair_color_blonde                 1\n",
       "hair_color_grey                   0\n",
       "hair_color_na                     0\n",
       "hair_color_black                  0\n",
       "hair_color_colored                0\n",
       "hair_color_red                    0\n",
       "hairtype_coily                    0\n",
       "hairtype_dreadlocks               0\n",
       "hairtype_bald                     0\n",
       "hairtype_straight                 0\n",
       "hairtype_curly                    0\n",
       "hairtype_wavy                     1\n",
       "hairtype_na                       0\n",
       "has_facial_hair                   0\n",
       "has_tattoo                        0\n",
       "has_cap                           0\n",
       "has_mask                          0\n",
       "has_headscarf                     0\n",
       "has_eyeware                       0\n",
       "visible_torso                     1\n",
       "visible_face                      1\n",
       "visible_minimal                   0\n",
       "lighting_underexposed             0\n",
       "lighting_dimly_lit                0\n",
       "lighting_well_lit                 1\n",
       "lighting_na                       0\n",
       "lighting_overexposed              0\n",
       "Name: 0, dtype: object"
      ]
     },
     "execution_count": 78,
     "metadata": {},
     "output_type": "execute_result"
    }
   ],
   "source": [
    "df.iloc[0][6:]"
   ]
  },
  {
   "cell_type": "code",
   "execution_count": 108,
   "id": "c51757c7",
   "metadata": {},
   "outputs": [
    {
     "data": {
      "text/plain": [
       "{0: 'gymnast',\n",
       " 1: 'boatman',\n",
       " 2: 'lifeguard',\n",
       " 3: 'backpacker',\n",
       " 4: 'lawman',\n",
       " 5: 'dancer',\n",
       " 6: 'laborer',\n",
       " 7: 'patient',\n",
       " 8: 'basketball_player',\n",
       " 9: 'nurse',\n",
       " 10: 'singer',\n",
       " 11: 'motorcyclist',\n",
       " 12: 'astronaut',\n",
       " 13: 'fireman',\n",
       " 14: 'referee',\n",
       " 15: 'speaker',\n",
       " 16: 'guitarist',\n",
       " 17: 'repairman',\n",
       " 18: 'craftsman',\n",
       " 19: 'guard',\n",
       " 20: 'painter',\n",
       " 21: 'doctor',\n",
       " 22: 'farmer',\n",
       " 23: 'drummer',\n",
       " 24: 'climber',\n",
       " 25: 'disk_jockey',\n",
       " 26: 'soccer_player',\n",
       " 27: 'student',\n",
       " 28: 'soldier',\n",
       " 29: 'cheerleader',\n",
       " 30: 'flutist',\n",
       " 31: 'runner',\n",
       " 32: 'retailer',\n",
       " 33: 'machinist',\n",
       " 34: 'reporter',\n",
       " 35: 'horseman',\n",
       " 36: 'tennis_player',\n",
       " 37: 'computer_user',\n",
       " 38: 'carpenter',\n",
       " 39: 'seller',\n",
       " 40: 'skateboarder',\n",
       " 41: 'gardener',\n",
       " 42: 'waiter',\n",
       " 43: 'prayer',\n",
       " 44: 'ballplayer',\n",
       " 45: 'sculptor',\n",
       " 46: 'teacher',\n",
       " 47: 'electrician',\n",
       " 48: 'hairdresser',\n",
       " 49: 'judge',\n",
       " 50: 'trumpeter',\n",
       " 51: 'bartender'}"
      ]
     },
     "execution_count": 108,
     "metadata": {},
     "output_type": "execute_result"
    }
   ],
   "source": [
    "idx_to_class"
   ]
  },
  {
   "cell_type": "code",
   "execution_count": null,
   "id": "c292eb58-f5d2-4b65-99b7-1146031d6a25",
   "metadata": {},
   "outputs": [],
   "source": [
    "batch_size = 32\n",
    "learning_rate = 0.001\n",
    "num_classes = 52\n",
    "num_epochs = 1\n",
    "\n",
    "\n",
    "# Load CSV annotations and split data\n",
    "csv_file = 's3:/annotations/annotations.csv'??\n",
    "image_dir = 's3://FACET'??"
   ]
  },
  {
   "cell_type": "code",
   "execution_count": 105,
   "id": "2fc8ccef",
   "metadata": {},
   "outputs": [],
   "source": [
    "class CustomDataset(Dataset):\n",
    "    def __init__(self, split_data, image_dir, transform=None):\n",
    "        self.data = split_data\n",
    "        self.image_dir = image_dir\n",
    "        self.transform = transform\n",
    "\n",
    "    def __len__(self):\n",
    "        return len(self.data)\n",
    "\n",
    "    def __getitem__(self, idx):\n",
    "\n",
    "        img_name = os.path.join(self.image_dir, self.data.iloc[idx, 2])\n",
    "        image = Image.open(img_name)\n",
    "        annotations = self.data.iloc[idx, 6:]  # Assuming annotations are in the 6th column\n",
    "        annotations = np.array([annotations], dtype = np.float16).reshape(-1, 1)\n",
    "        label = class_to_idx[self.data.iloc[idx, 3]]\n",
    "\n",
    "        if self.transform:\n",
    "            image = self.transform(image)\n",
    "\n",
    "        return image, torch.tensor(label), torch.from_numpy(annotations)\n",
    "\n",
    "# Define data transformations\n",
    "transform = transforms.Compose([\n",
    "    transforms.Resize((256, 256)),\n",
    "    transforms.ToTensor(),\n",
    "    transforms.Normalize(mean=[0.485, 0.456, 0.406], std=[0.229, 0.224, 0.225]),\n",
    "])\n",
    "\n",
    "\n",
    "data = pd.read_csv(csv_file)\n",
    "\n",
    "train_data, test_data = train_test_split(data, test_size=0.2, random_state=42)\n",
    "train_data, val_data = train_test_split(train_data, test_size=0.1, random_state=42)\n",
    "\n",
    "# Create custom datasets and data loaders\n",
    "train_dataset = CustomDataset(split_data=train_data, image_dir=image_dir, transform=transform)\n",
    "train_loader = DataLoader(train_dataset, batch_size=batch_size, shuffle=True)\n",
    "\n",
    "test_dataset = CustomDataset(split_data=test_data, image_dir=image_dir, transform=transform)\n",
    "test_loader = DataLoader(test_dataset, batch_size=batch_size, shuffle=False)\n",
    "\n",
    "val_dataset = CustomDataset(split_data=val_data, image_dir=image_dir, transform=transform)\n",
    "val_loader = DataLoader(val_dataset, batch_size=batch_size, shuffle=False)"
   ]
  },
  {
   "cell_type": "code",
   "execution_count": 5,
   "id": "73ca0a26",
   "metadata": {},
   "outputs": [
    {
     "name": "stderr",
     "output_type": "stream",
     "text": [
      "Clipping input data to the valid range for imshow with RGB data ([0..1] for floats or [0..255] for integers).\n"
     ]
    },
    {
     "data": {
      "image/png": "[encoded data removed]",
      "text/plain": [
       "<Figure size 432x288 with 1 Axes>"
      ]
     },
     "metadata": {
      "needs_background": "light"
     },
     "output_type": "display_data"
    },
    {
     "name": "stderr",
     "output_type": "stream",
     "text": [
      "Clipping input data to the valid range for imshow with RGB data ([0..1] for floats or [0..255] for integers).\n"
     ]
    },
    {
     "data": {
      "image/png": "[encoded data removed]",
      "text/plain": [
       "<Figure size 432x288 with 1 Axes>"
      ]
     },
     "metadata": {
      "needs_background": "light"
     },
     "output_type": "display_data"
    },
    {
     "name": "stderr",
     "output_type": "stream",
     "text": [
      "Clipping input data to the valid range for imshow with RGB data ([0..1] for floats or [0..255] for integers).\n"
     ]
    },
    {
     "data": {
      "image/png": "[encoded data removed]",
      "text/plain": [
       "<Figure size 432x288 with 1 Axes>"
      ]
     },
     "metadata": {
      "needs_background": "light"
     },
     "output_type": "display_data"
    },
    {
     "name": "stderr",
     "output_type": "stream",
     "text": [
      "Clipping input data to the valid range for imshow with RGB data ([0..1] for floats or [0..255] for integers).\n"
     ]
    },
    {
     "data": {
      "image/png": "[encoded data removed]",
      "text/plain": [
       "<Figure size 432x288 with 1 Axes>"
      ]
     },
     "metadata": {
      "needs_background": "light"
     },
     "output_type": "display_data"
    }
   ],
   "source": [
    "\n",
    "fig = plt.figure()\n",
    "\n",
    "for i, sample in enumerate(train_dataset):\n",
    "    ax = plt.subplot(1, 4, i + 1)\n",
    "    plt.imshow(np.transpose(sample[0], [1,2,0]))\n",
    "    plt.tight_layout()\n",
    "    ax.set_title('Sample #{}'.format(i))\n",
    "    ax.axis('off')\n",
    "    plt.show()\n",
    "    if i == 3:\n",
    "        break"
   ]
  },
  {
   "cell_type": "markdown",
   "id": "1500c8f1",
   "metadata": {},
   "source": [
    "# Model"
   ]
  },
  {
   "cell_type": "code",
   "execution_count": 6,
   "id": "94e55ab0",
   "metadata": {},
   "outputs": [],
   "source": [
    "device = torch.device('mps')\n",
    "# Define your smaller ResNet student model\n",
    "# Deeper neural network class to be used as teacher:\n",
    "class DeepNN(nn.Module):\n",
    "    def __init__(self, num_classes=52):\n",
    "        super(DeepNN, self).__init__()\n",
    "        self.features = nn.Sequential(\n",
    "            nn.Conv2d(3, 128, kernel_size=3, padding=1),\n",
    "            nn.ReLU(),\n",
    "            nn.Conv2d(128, 64, kernel_size=3, padding=1),\n",
    "            nn.ReLU(),\n",
    "            nn.MaxPool2d(kernel_size=2, stride=2),\n",
    "            nn.Conv2d(64, 64, kernel_size=3, padding=1),\n",
    "            nn.ReLU(),\n",
    "            nn.Conv2d(64, 32, kernel_size=3, padding=1),\n",
    "            nn.ReLU(),\n",
    "            nn.MaxPool2d(kernel_size=2, stride=2),\n",
    "        )\n",
    "        self.classifier = nn.Sequential(\n",
    "            nn.Linear(131072, 512),\n",
    "            nn.ReLU(),\n",
    "            nn.Dropout(0.1),\n",
    "            nn.Linear(512, num_classes)\n",
    "        )\n",
    "\n",
    "    def forward(self, x):\n",
    "        x = self.features(x)\n",
    "        x = torch.flatten(x, 1)\n",
    "        x = self.classifier(x)\n",
    "        return x\n",
    "\n",
    "# Lightweight neural network class to be used as student:\n",
    "class LightNN(nn.Module):\n",
    "    def __init__(self, num_classes=52):\n",
    "        super(LightNN, self).__init__()\n",
    "        self.features = nn.Sequential(\n",
    "            nn.Conv2d(3, 16, kernel_size=3, padding=1),\n",
    "            nn.ReLU(),\n",
    "            nn.MaxPool2d(kernel_size=2, stride=2),\n",
    "            nn.Conv2d(16, 16, kernel_size=3, padding=1),\n",
    "            nn.ReLU(),\n",
    "            nn.MaxPool2d(kernel_size=2, stride=2),\n",
    "        )\n",
    "        self.classifier = nn.Sequential(\n",
    "            nn.Linear(65536, 256),\n",
    "            nn.ReLU(),\n",
    "            nn.Dropout(0.1),\n",
    "            nn.Linear(256, num_classes)\n",
    "        )\n",
    "\n",
    "    def forward(self, x):\n",
    "        x = self.features(x)\n",
    "        x = torch.flatten(x, 1)\n",
    "        x = self.classifier(x)\n",
    "        return x\n",
    "\n",
    "    \n",
    "# Define loss functions\n",
    "criterion_teacher = nn.CrossEntropyLoss()  # Loss for teacher model\n",
    "criterion_student = nn.KLDivLoss()  # Knowledge distillation loss\n",
    "\n",
    "# Instantiate the teacher and student models\n",
    "teacher_model = DeepNN(num_classes=num_classes).to(device)\n",
    "student_model = LightNN(num_classes=num_classes).to(device)  # Adjust num_classes as needed\n",
    "\n",
    "\n",
    "# Define optimizer for the student model\n",
    "optimizer_student = optim.Adam(student_model.parameters(), lr=learning_rate)\n",
    "teacher_optimizer = optim.Adam(teacher_model.parameters(), lr=learning_rate)\n"
   ]
  },
  {
   "cell_type": "markdown",
   "id": "1881b911",
   "metadata": {},
   "source": [
    "# Train\n"
   ]
  },
  {
   "cell_type": "code",
   "execution_count": 7,
   "id": "38b5297e",
   "metadata": {},
   "outputs": [
    {
     "name": "stdout",
     "output_type": "stream",
     "text": [
      "Epoch [1/5] Teacher Loss: 3.1680 Teacher Accuracy: 0.1939 Student Loss: 2.0362 Student Accuracy: 0.4565\n",
      "Epoch [2/5] Teacher Loss: 2.4605 Teacher Accuracy: 0.3443 Student Loss: 0.8468 Student Accuracy: 0.7942\n",
      "Epoch [3/5] Teacher Loss: 1.9127 Teacher Accuracy: 0.4867 Student Loss: 0.4018 Student Accuracy: 0.9000\n",
      "Epoch [4/5] Teacher Loss: 1.3793 Teacher Accuracy: 0.6172 Student Loss: 0.3178 Student Accuracy: 0.9194\n",
      "Epoch [5/5] Teacher Loss: 1.0010 Teacher Accuracy: 0.7146 Student Loss: 0.2600 Student Accuracy: 0.9281\n"
     ]
    }
   ],
   "source": [
    "# Training loop\n",
    "num_epochs = 5  # Adjust as needed\n",
    "for epoch in range(num_epochs):\n",
    "    student_model.train()\n",
    "    for images, labels, annotations in train_loader:\n",
    "        images, labels = images.to(device), labels.to(device)\n",
    "        optimizer_student.zero_grad()\n",
    "        teacher_optimizer.zero_grad()\n",
    "        \n",
    "        # Forward pass\n",
    "        teacher_outputs = teacher_model(images).to(device)\n",
    "        student_outputs = student_model(images).to(device)\n",
    "        \n",
    "        # Compute loss for knowledge distillation\n",
    "        kd_loss = criterion_student(\n",
    "            torch.log_softmax(student_outputs / 5, dim=1),  # Apply temperature scaling\n",
    "            torch.softmax(teacher_outputs / 5, dim=1)  # Apply temperature scaling\n",
    "        )\n",
    "        \n",
    "        # Compute regular cross-entropy loss\n",
    "        ce_loss = criterion_teacher(student_outputs, labels)\n",
    "        \n",
    "        # Combine the two losses with a weighting factor (alpha)\n",
    "        alpha = 0.5  # Adjust as needed\n",
    "        total_loss = alpha * kd_loss + (1 - alpha) * ce_loss\n",
    "        \n",
    "        total_loss.backward()\n",
    "        optimizer_student.step()\n",
    "        teacher_optimizer.step()\n",
    "\n",
    "   # Validation\n",
    "    student_model.eval()\n",
    "    teacher_model.eval()\n",
    "    val_loss_student = 0.0\n",
    "    val_predictions_student = []\n",
    "    val_targets_student = []\n",
    "    \n",
    "    val_loss_teacher = 0.0\n",
    "    val_predictions_teacher = []\n",
    "    val_targets_teacher = []\n",
    "    \n",
    "    with torch.no_grad():\n",
    "        for images, labels, annotations in val_loader:\n",
    "            images, labels = images.to(device), labels.to(device)\n",
    "            # Forward pass\n",
    "            student_outputs = student_model(images)\n",
    "            teacher_outputs = teacher_model(images)\n",
    "            \n",
    "            # Compute cross-entropy loss for validation\n",
    "            student_loss = criterion_teacher(student_outputs, labels)\n",
    "            teacher_loss = criterion_teacher(teacher_outputs, labels)\n",
    "            \n",
    "            val_loss_student += student_loss.item()\n",
    "            val_loss_teacher += teacher_loss.item()\n",
    "            \n",
    "            # Store predictions and ground truth labels for metrics\n",
    "            val_predictions_student.extend(torch.argmax(student_outputs, dim=1).cpu().numpy())\n",
    "            val_predictions_teacher.extend(torch.argmax(teacher_outputs, dim=1).cpu().numpy())\n",
    "\n",
    "            val_targets_student.extend(labels.cpu().numpy())\n",
    "            val_targets_teacher.extend(labels.cpu().numpy())\n",
    "\n",
    "\n",
    "    # Calculate validation accuracy\n",
    "    val_accuracy_student = accuracy_score(val_targets_student, val_predictions_student)\n",
    "    val_accuracy_teacher = accuracy_score(val_targets_teacher, val_predictions_teacher)\n",
    "    val_recall_student = recall_score(val_targets_student, val_predictions_student, average='weighted')\n",
    "    val_recall_teacher = recall_score(val_targets_teacher, val_predictions_teacher, average='weighted')\n",
    "    \n",
    "    # Print validation results for this epoch\n",
    "    print(f'Epoch [{epoch+1}/{num_epochs}]'\n",
    "          f' Teacher Loss: {val_loss_teacher / len(val_loader):.4f}'\n",
    "          f' Teacher Accuracy: {val_accuracy_teacher:.4f}'\n",
    "          f' Student Loss: {val_loss_student / len(val_loader):.4f}'\n",
    "          f' Student Accuracy: {val_accuracy_student:.4f}')\n",
    "\n",
    "# Save the trained student model for future inference\n",
    "# torch.save(student_model.state_dict(), 'student_model.pth')\n"
   ]
  },
  {
   "cell_type": "code",
   "execution_count": 8,
   "id": "a6c8a785",
   "metadata": {},
   "outputs": [],
   "source": [
    "torch.save(student_model.state_dict(), 'student_model2.pth')"
   ]
  },
  {
   "cell_type": "code",
   "execution_count": 9,
   "id": "34d910cd",
   "metadata": {},
   "outputs": [],
   "source": [
    "torch.save(teacher_model.state_dict(), 'teacher_model2.pth')"
   ]
  },
  {
   "cell_type": "code",
   "execution_count": 10,
   "id": "92f26941",
   "metadata": {},
   "outputs": [
    {
     "data": {
      "text/plain": [
       "0.9280539242396723"
      ]
     },
     "execution_count": 10,
     "metadata": {},
     "output_type": "execute_result"
    }
   ],
   "source": [
    "accuracy_score(val_targets_student, val_predictions_student)"
   ]
  },
  {
   "cell_type": "code",
   "execution_count": 11,
   "id": "0e5e50e8",
   "metadata": {},
   "outputs": [
    {
     "data": {
      "text/plain": [
       "0.714617263021937"
      ]
     },
     "execution_count": 11,
     "metadata": {},
     "output_type": "execute_result"
    }
   ],
   "source": [
    "accuracy_score(val_targets_teacher, val_predictions_teacher)"
   ]
  },
  {
   "cell_type": "code",
   "execution_count": null,
   "id": "46008340",
   "metadata": {},
   "outputs": [],
   "source": [
    "val_loss_student / len(val_loader)"
   ]
  },
  {
   "cell_type": "code",
   "execution_count": null,
   "id": "5e39f9ef",
   "metadata": {},
   "outputs": [],
   "source": [
    "val_loss_teacher / len(val_loader)"
   ]
  },
  {
   "cell_type": "markdown",
   "id": "14901784",
   "metadata": {},
   "source": [
    "# Evaluate"
   ]
  },
  {
   "cell_type": "code",
   "execution_count": 101,
   "id": "c8f81537",
   "metadata": {},
   "outputs": [
    {
     "name": "stderr",
     "output_type": "stream",
     "text": [
      "Clipping input data to the valid range for imshow with RGB data ([0..1] for floats or [0..255] for integers).\n"
     ]
    },
    {
     "data": {
      "image/png": "[encoded data removed]",
      "text/plain": [
       "<Figure size 432x288 with 1 Axes>"
      ]
     },
     "metadata": {
      "needs_background": "light"
     },
     "output_type": "display_data"
    }
   ],
   "source": [
    "student_model.eval()\n",
    "for images, labels, annotation in val_loader:\n",
    "    images, labels = images.to(device), labels.to(device)\n",
    "\n",
    "    with torch.no_grad():\n",
    "        outputs = student_model(images)\n",
    "    \n",
    "    # Assuming you're working with a classification model, find the predicted class index\n",
    "    predicted = torch.argmax(outputs, dim=1).cpu().numpy()\n",
    "    predicted_class = predicted[13]\n",
    "    labels = labels.cpu().numpy()[13]\n",
    "    annotations = annotation.cpu().numpy()[13]\n",
    "    # Display the image and its predicted class\n",
    "    image = images[13].permute(1, 2, 0).cpu().numpy()  # Convert the tensor to a numpy array and adjust dimensions\n",
    "    plt.imshow(image)\n",
    "    plt.title(f'Predicted Class: {idx_to_class[predicted_class]}        |         Label: {idx_to_class[labels]}')\n",
    "    plt.show()\n",
    "    break  # Stop after displaying the first image\n"
   ]
  },
  {
   "cell_type": "code",
   "execution_count": 102,
   "id": "99f1f91e",
   "metadata": {},
   "outputs": [],
   "source": [
    "student_model.eval()\n",
    "for images, labels, annotation in val_loader:\n",
    "    images, labels = images.to(device), labels.to(device)\n",
    "\n",
    "    with torch.no_grad():\n",
    "        outputs = student_model(images)\n",
    "    \n",
    "    # Assuming you're working with a classification model, find the predicted class index\n",
    "    predicted = torch.argmax(outputs, dim=1).cpu().numpy()\n",
    "    labels = labels.cpu().numpy()\n",
    "    recall = recall_score(labels, predicted, average='weighted')\n",
    "    break\n"
   ]
  },
  {
   "cell_type": "code",
   "execution_count": 103,
   "id": "221e3a49",
   "metadata": {},
   "outputs": [
    {
     "data": {
      "text/plain": [
       "0.90625"
      ]
     },
     "execution_count": 103,
     "metadata": {},
     "output_type": "execute_result"
    }
   ],
   "source": [
    "recall"
   ]
  },
  {
   "cell_type": "code",
   "execution_count": 90,
   "id": "fa208c08",
   "metadata": {},
   "outputs": [],
   "source": [
    "def get_attributes_from_annotations(annotations):\n",
    "    attributes = set()\n",
    "\n",
    "    for i in range(len(annotations)):\n",
    "        if annotations[i][0] != 0:\n",
    "            attributes.add(idx_to_annot[i])\n",
    "\n",
    "    return attributes"
   ]
  },
  {
   "cell_type": "code",
   "execution_count": 91,
   "id": "88c5d5fd",
   "metadata": {},
   "outputs": [
    {
     "data": {
      "text/plain": [
       "{'age_presentation_young',\n",
       " 'gender_presentation_fem',\n",
       " 'hair_color_black',\n",
       " 'hairtype_straight',\n",
       " 'lighting_well_lit',\n",
       " 'skin_tone_3',\n",
       " 'skin_tone_4',\n",
       " 'skin_tone_5',\n",
       " 'visible_torso'}"
      ]
     },
     "execution_count": 91,
     "metadata": {},
     "output_type": "execute_result"
    }
   ],
   "source": [
    "get_attributes_from_annotations(annotations)"
   ]
  }
 ],
 "metadata": {
  "kernelspec": {
   "display_name": "Python 3 (ipykernel)",
   "language": "python",
   "name": "python3"
  },
  "language_info": {
   "codemirror_mode": {
    "name": "ipython",
    "version": 3
   },
   "file_extension": ".py",
   "mimetype": "text/x-python",
   "name": "python",
   "nbconvert_exporter": "python",
   "pygments_lexer": "ipython3",
   "version": "3.9.5"
  }
 },
 "nbformat": 4,
 "nbformat_minor": 5
}
