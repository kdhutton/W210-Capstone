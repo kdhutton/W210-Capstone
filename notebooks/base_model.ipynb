{
 "cells": [
  {
   "cell_type": "code",
   "execution_count": 1,
   "id": "3e447132-a37d-4965-a872-89eebbb36950",
   "metadata": {},
   "outputs": [],
   "source": [
    "import torch\n",
    "import torch.nn as nn\n",
    "import torch.optim as optim\n",
    "import torchvision\n",
    "import torchvision.transforms as transforms\n",
    "import matplotlib.pyplot as plt\n",
    "import numpy as np\n",
    "from sklearn.metrics import precision_score, recall_score, f1_score, accuracy_score\n",
    "import time\n",
    "import os\n",
    "import torch.nn.functional as F\n",
    "from tqdm import tqdm"
   ]
  },
  {
   "cell_type": "code",
   "execution_count": 2,
   "id": "294a7872-e102-432b-bff4-44ca2adf0e9e",
   "metadata": {},
   "outputs": [
    {
     "name": "stdout",
     "output_type": "stream",
     "text": [
      "False\n",
      "0\n"
     ]
    },
    {
     "name": "stderr",
     "output_type": "stream",
     "text": [
      "/usr/local/lib/python3.8/dist-packages/torch/cuda/__init__.py:611: UserWarning: Can't initialize NVML\n",
      "  warnings.warn(\"Can't initialize NVML\")\n"
     ]
    }
   ],
   "source": [
    "print(torch.cuda.is_available())\n",
    "print(torch.cuda.device_count())\n",
    "device = torch.device('cuda' if torch.cuda.is_available() else 'cpu')"
   ]
  },
  {
   "cell_type": "code",
   "execution_count": null,
   "id": "f94e5d93-8865-4050-b7fd-2370b1699acf",
   "metadata": {},
   "outputs": [],
   "source": [
    "learning_rate = 0.001\n",
    "num_epochs = 2"
   ]
  },
  {
   "cell_type": "code",
   "execution_count": 3,
   "id": "59f96c9b-f6d8-4ab1-9c09-c0e4aad0d27e",
   "metadata": {},
   "outputs": [
    {
     "name": "stdout",
     "output_type": "stream",
     "text": [
      "Files already downloaded and verified\n",
      "Files already downloaded and verified\n"
     ]
    }
   ],
   "source": [
    "# Load CIFAR-10 data\n",
    "transform = transforms.Compose([transforms.ToTensor(), transforms.Normalize((0.5, 0.5, 0.5), (0.5, 0.5, 0.5))])\n",
    "trainset = torchvision.datasets.CIFAR10(root='./data', train=True, download=True, transform=transform)\n",
    "trainloader = torch.utils.data.DataLoader(trainset, batch_size=100, shuffle=True, num_workers=2)\n",
    "testset = torchvision.datasets.CIFAR10(root='./data', train=False, download=True, transform=transform)\n",
    "testloader = torch.utils.data.DataLoader(testset, batch_size=100, shuffle=False, num_workers=2)\n"
   ]
  },
  {
   "cell_type": "code",
   "execution_count": 4,
   "id": "be579a0c-26c0-47e1-a006-54a6cf65cb7d",
   "metadata": {},
   "outputs": [],
   "source": [
    "# Define the Teacher model\n",
    "class Teacher(nn.Module):\n",
    "    def __init__(self):\n",
    "        super(Teacher, self).__init__()\n",
    "        self.conv1 = nn.Conv2d(3, 64, 5)\n",
    "        self.pool = nn.MaxPool2d(2, 2)\n",
    "        self.conv2 = nn.Conv2d(64, 128, 5)\n",
    "        self.fc1 = nn.Linear(128*5*5, 256)\n",
    "        self.fc2 = nn.Linear(256, 10)\n",
    "\n",
    "    def forward(self, x):\n",
    "        x = self.pool(F.relu(self.conv1(x)))\n",
    "        x = self.pool(F.relu(self.conv2(x)))\n",
    "        x = x.view(-1, 128*5*5)\n",
    "        x = F.relu(self.fc1(x))\n",
    "        x = self.fc2(x)\n",
    "        return x\n",
    "\n",
    "# Define the Student model\n",
    "class Student(nn.Module):\n",
    "    def __init__(self):\n",
    "        super(Student, self).__init__()\n",
    "        self.conv1 = nn.Conv2d(3, 16, 5)\n",
    "        self.pool = nn.MaxPool2d(2, 2)\n",
    "        self.fc1 = nn.Linear(16*14*14, 120)\n",
    "        self.fc2 = nn.Linear(120, 10)\n",
    "\n",
    "    def forward(self, x):\n",
    "        x = self.pool(F.relu(self.conv1(x)))\n",
    "        x = x.view(-1, 16*14*14)\n",
    "        x = F.relu(self.fc1(x))\n",
    "        x = self.fc2(x)\n",
    "        return x"
   ]
  },
  {
   "cell_type": "code",
   "execution_count": 5,
   "id": "0fbd446f-99ec-45af-9157-690ab9e65e26",
   "metadata": {},
   "outputs": [],
   "source": [
    "# def fairness_constraint(outputs, sensitive_attrs):\n",
    "#     # This is a simplified fairness constraint for demonstration purposes.\n",
    "#     group0_indices = (sensitive_attrs < 5).nonzero(as_tuple=True)\n",
    "#     group1_indices = (sensitive_attrs >= 5).nonzero(as_tuple=True)\n",
    "#     positive_rate_group0 = (outputs[group0_indices].max(1)[1] >= 5).float().mean()\n",
    "#     positive_rate_group1 = (outputs[group1_indices].max(1)[1] >= 5).float().mean()\n",
    "#     return torch.abs(positive_rate_group0 - positive_rate_group1)\n",
    "\n",
    "# def adversarial_train_model(model, dataloader, criterion, optimizer, epoch):\n",
    "#     model.train()\n",
    "#     running_loss = 0.0\n",
    "#     progress_bar = tqdm(enumerate(dataloader, 0), total=len(dataloader), unit=\"batch\")\n",
    "#     for i, data in progress_bar:\n",
    "#         inputs, labels = data\n",
    "#         sensitive_attrs = labels  # Assuming label itself as a sensitive attribute\n",
    "#         optimizer.zero_grad()\n",
    "#         outputs = model(inputs.to(device))\n",
    "#         loss = criterion(outputs, labels.to(device))\n",
    "#         fairness_penalty = fairness_constraint(outputs, sensitive_attrs.to(device))\n",
    "#         combined_loss = loss + fairness_penalty  # Combine original loss and fairness penalty\n",
    "#         combined_loss.backward()\n",
    "#         optimizer.step()\n",
    "#         running_loss += combined_loss.item()\n",
    "#         progress_bar.set_description(f\"Epoch {epoch} Loss: {running_loss/(i+1):.4f}\")\n",
    "#     return running_loss / len(dataloader)"
   ]
  },
  {
   "cell_type": "code",
   "execution_count": 6,
   "id": "11e6eaf8-8b30-4337-a168-60b068d18b68",
   "metadata": {},
   "outputs": [],
   "source": [
    "# Define the fair_metric function from the RELIANT code\n",
    "def fair_metric(pred, labels, sens):\n",
    "    idx_s0 = sens == 0\n",
    "    idx_s1 = sens == 1\n",
    "    idx_s0_y1 = idx_s0 & (labels == 1)\n",
    "    idx_s1_y1 = idx_s1 & (labels == 1)\n",
    "\n",
    "    if idx_s0.sum().item() == 0 or idx_s1.sum().item() == 0 or idx_s0_y1.sum().item() == 0 or idx_s1_y1.sum().item() == 0:\n",
    "        return torch.tensor(0.0), torch.tensor(0.0)  # Return zeros\n",
    "\n",
    "    # print(idx_s0.sum().item(), idx_s1.sum().item(), idx_s0_y1.sum().item(), idx_s1_y1.sum().item())\n",
    "    # smoothing term added\n",
    "    parity = torch.abs((pred[idx_s0].sum() / (idx_s0.sum().item() + 1e-8)) - (pred[idx_s1].sum() / (idx_s1.sum().item() + 1e-8)))\n",
    "    equality = torch.abs((pred[idx_s0_y1].sum() / (idx_s0_y1.sum().item() + 1e-8)) - (pred[idx_s1_y1].sum() / (idx_s1_y1.sum().item() + 1e-8)))\n",
    "\n",
    "    return parity.item(), equality.item()"
   ]
  },
  {
   "cell_type": "code",
   "execution_count": 7,
   "id": "0e738d00-2459-45ee-b2a3-d676700f861c",
   "metadata": {},
   "outputs": [],
   "source": [
    "# Define the approx_loss and approx_loss_eo functions from the RELIANT code\n",
    "def approx_loss(logits, sens, idx):\n",
    "    g1 = np.argwhere(sens == 0.0).reshape(-1)\n",
    "    g2 = np.argwhere(sens == 1.0).reshape(-1)\n",
    "    idx_set = set(idx.cpu().numpy())\n",
    "    g1 = np.array(list(set(g1) & idx_set))\n",
    "    g2 = np.array(list(set(g2) & idx_set))\n",
    "\n",
    "    if g1.shape[0] == 0 or g2.shape[0] == 0:\n",
    "        return torch.tensor(0.0) # Return zero\n",
    "    \n",
    "    # print(g1.shape[0], g2.shape[0])\n",
    "    # smoothing term added\n",
    "    loss = torch.square(approx_func(logits[g1]).sum(axis=0) / (g1.shape[0] + 1e-8) - approx_func(logits[g2]).sum(axis=0) / (g2.shape[0] + 1e-8)).sum()\n",
    "    return loss\n"
   ]
  },
  {
   "cell_type": "code",
   "execution_count": 8,
   "id": "0aeea206-2ef1-49c4-a878-1666d120f9b3",
   "metadata": {},
   "outputs": [],
   "source": [
    "def approx_loss_eo(logits, sens, labels, idx):\n",
    "    g1 = np.argwhere(sens == 0).reshape(-1)\n",
    "    g2 = np.argwhere(sens == 1).reshape(-1)\n",
    "    g = np.argwhere(labels.cpu().numpy() == 1).reshape(-1)\n",
    "    idx_set = set(idx.cpu().numpy())\n",
    "    g1 = np.array(list(set(g1) & set(g) & idx_set))\n",
    "    g2 = np.array(list(set(g2) & set(g) & idx_set))\n",
    "    \n",
    "    if g1.shape[0] == 0 or g2.shape[0] == 0:\n",
    "        return torch.tensor(0.0)  # Return zero \n",
    "        \n",
    "    # print(g1.shape[0], g2.shape[0])\n",
    "    # smoothing term added\n",
    "    loss = torch.square(approx_func(logits[g1]).sum(axis=0) / (g1.shape[0] + 1e-8) - approx_func(logits[g2]).sum(axis=0) / (g2.shape[0] + 1e-8)).sum()\n",
    "    return loss"
   ]
  },
  {
   "cell_type": "code",
   "execution_count": 9,
   "id": "055eb67c-194c-4f9a-b27a-2ea4cf692bc9",
   "metadata": {},
   "outputs": [],
   "source": [
    "def approx_func(s):\n",
    "    x = 2 * s - 1\n",
    "    result = 1 / 2 + 1 / 2 * x - 1 / 8 / 2 * (5 * x * x * x - 3 * x) + 1 / 16 / 8 * (\n",
    "                63 * x * x * x * x * x - 70 * x * x * x + 15 * x) - 5 / 128 / 16 * (\n",
    "                       429 * x * x * x * x * x * x * x - 693 * x * x * x * x * x + 315 * x * x * x - 35 * x) + 7 / 256 / 128 * (\n",
    "                       12155 * x * x * x * x * x * x * x * x * x - 25740 * x * x * x * x * x * x * x + 18018 * x * x * x * x * x - 4620 * x * x * x + 315 * x)\n",
    "    # print(s, x, result)\n",
    "    return result"
   ]
  },
  {
   "cell_type": "code",
   "execution_count": 10,
   "id": "b4e60b0d-5baf-49a4-ad57-65f33e821168",
   "metadata": {},
   "outputs": [],
   "source": [
    "def adversarial_train_model(model, dataloader, criterion, optimizer, epoch):\n",
    "    model.train()\n",
    "    running_loss = 0.0\n",
    "    progress_bar = tqdm(enumerate(dataloader, 0), total=len(dataloader), unit=\"batch\")\n",
    "    for i, data in progress_bar:\n",
    "        inputs, labels = data\n",
    "        sensitive_attrs = labels  # Assuming label itself as a sensitive attribute\n",
    "        optimizer.zero_grad()\n",
    "        outputs = model(inputs.to(device))\n",
    "        loss = criterion(outputs, labels.to(device))\n",
    "        \n",
    "        # Incorporate fairness metrics\n",
    "        fairness_penalty_sp, fairness_penalty_eo = fair_metric(outputs, labels, sensitive_attrs)\n",
    "        fairness_penalty_approx = approx_loss(outputs, sensitive_attrs, torch.arange(len(labels)).to(device))\n",
    "        fairness_penalty_approx_eo = approx_loss_eo(outputs, sensitive_attrs, labels, torch.arange(len(labels)).to(device))\n",
    "        combined_loss = loss + fairness_penalty_sp + fairness_penalty_eo + fairness_penalty_approx + fairness_penalty_approx_eo\n",
    "\n",
    "        print(combined_loss.item(), fairness_penalty_sp, fairness_penalty_eo, fairness_penalty_approx.item(), fairness_penalty_approx_eo.item())\n",
    "        combined_loss.backward()\n",
    "        optimizer.step()\n",
    "        running_loss += combined_loss.item()\n",
    "        progress_bar.set_description(f\"Epoch {epoch} Loss: {running_loss/(i+1):.4f}\")\n",
    "    return running_loss / len(dataloader)"
   ]
  },
  {
   "cell_type": "code",
   "execution_count": 11,
   "id": "51e9ff51-8fea-432d-b6f1-a4fb354f02ad",
   "metadata": {},
   "outputs": [],
   "source": [
    "# Initialize models, optimizers, and loss function\n",
    "teacher = Teacher().to(device)\n",
    "student = Student().to(device)\n",
    "optimizer_teacher = optim.Adam(teacher.parameters(), lr=learning_rate)\n",
    "optimizer_student = optim.Adam(student.parameters(), lr=learning_rate)\n",
    "criterion = nn.CrossEntropyLoss()\n"
   ]
  },
  {
   "cell_type": "code",
   "execution_count": 12,
   "id": "2ff8a092-8548-4114-8279-fe3321b8bfbd",
   "metadata": {},
   "outputs": [
    {
     "name": "stderr",
     "output_type": "stream",
     "text": [
      "  0%|                                                            | 0/500 [00:00<?, ?batch/s]"
     ]
    },
    {
     "name": "stdout",
     "output_type": "stream",
     "text": [
      "2.3037619590759277 tensor(0.) tensor(0.) 0.0 0.0\n"
     ]
    },
    {
     "name": "stderr",
     "output_type": "stream",
     "text": [
      "Epoch 0 Loss: 2.3038:   0%|                              | 1/500 [00:00<05:54,  1.41batch/s]"
     ]
    },
    {
     "name": "stdout",
     "output_type": "stream",
     "text": [
      "2.3219072818756104 tensor(0.) tensor(0.) 0.0 0.0\n"
     ]
    },
    {
     "name": "stderr",
     "output_type": "stream",
     "text": [
      "Epoch 0 Loss: 2.3128:   0%|                              | 2/500 [00:01<05:10,  1.60batch/s]"
     ]
    },
    {
     "name": "stdout",
     "output_type": "stream",
     "text": [
      "2.2786855697631836 tensor(0.) tensor(0.) 0.0 0.0\n"
     ]
    },
    {
     "name": "stderr",
     "output_type": "stream",
     "text": [
      "Epoch 0 Loss: 2.3015:   1%|▏                             | 3/500 [00:01<04:57,  1.67batch/s]"
     ]
    },
    {
     "name": "stdout",
     "output_type": "stream",
     "text": [
      "2.2265563011169434 tensor(0.) tensor(0.) 0.0 0.0\n"
     ]
    },
    {
     "name": "stderr",
     "output_type": "stream",
     "text": [
      "Epoch 0 Loss: 2.2827:   1%|▏                             | 4/500 [00:02<04:39,  1.77batch/s]"
     ]
    },
    {
     "name": "stdout",
     "output_type": "stream",
     "text": [
      "2.2033464908599854 tensor(0.) tensor(0.) 0.0 0.0\n"
     ]
    },
    {
     "name": "stderr",
     "output_type": "stream",
     "text": [
      "Epoch 0 Loss: 2.2669:   1%|▎                             | 5/500 [00:02<04:39,  1.77batch/s]"
     ]
    },
    {
     "name": "stdout",
     "output_type": "stream",
     "text": [
      "2.2394280433654785 tensor(0.) tensor(0.) 0.0 0.0\n"
     ]
    },
    {
     "name": "stderr",
     "output_type": "stream",
     "text": [
      "Epoch 0 Loss: 2.2623:   1%|▎                             | 6/500 [00:03<04:35,  1.79batch/s]"
     ]
    },
    {
     "name": "stdout",
     "output_type": "stream",
     "text": [
      "2.1413745880126953 tensor(0.) tensor(0.) 0.0 0.0\n"
     ]
    },
    {
     "name": "stderr",
     "output_type": "stream",
     "text": [
      "Epoch 0 Loss: 2.2450:   1%|▍                             | 7/500 [00:04<04:35,  1.79batch/s]"
     ]
    },
    {
     "name": "stdout",
     "output_type": "stream",
     "text": [
      "2.1067488193511963 tensor(0.) tensor(0.) 0.0 0.0\n"
     ]
    },
    {
     "name": "stderr",
     "output_type": "stream",
     "text": [
      "Epoch 0 Loss: 2.2277:   2%|▍                             | 8/500 [00:04<04:30,  1.82batch/s]"
     ]
    },
    {
     "name": "stdout",
     "output_type": "stream",
     "text": [
      "2.096789836883545 tensor(0.) tensor(0.) 0.0 0.0\n"
     ]
    },
    {
     "name": "stderr",
     "output_type": "stream",
     "text": [
      "Epoch 0 Loss: 2.2132:   2%|▌                             | 9/500 [00:05<04:26,  1.84batch/s]"
     ]
    },
    {
     "name": "stdout",
     "output_type": "stream",
     "text": [
      "2.0324394702911377 tensor(0.) tensor(0.) 0.0 0.0\n"
     ]
    },
    {
     "name": "stderr",
     "output_type": "stream",
     "text": [
      "Epoch 0 Loss: 2.1951:   2%|▌                            | 10/500 [00:05<04:07,  1.98batch/s]"
     ]
    },
    {
     "name": "stdout",
     "output_type": "stream",
     "text": [
      "1.9542884826660156 tensor(0.) tensor(0.) 0.0 0.0\n"
     ]
    },
    {
     "name": "stderr",
     "output_type": "stream",
     "text": [
      "Epoch 0 Loss: 2.1732:   2%|▋                            | 11/500 [00:06<04:15,  1.91batch/s]"
     ]
    },
    {
     "name": "stdout",
     "output_type": "stream",
     "text": [
      "2.1184380054473877 tensor(0.) tensor(0.) 0.0 0.0\n"
     ]
    },
    {
     "name": "stderr",
     "output_type": "stream",
     "text": [
      "Epoch 0 Loss: 2.1686:   2%|▋                            | 12/500 [00:06<04:20,  1.87batch/s]"
     ]
    },
    {
     "name": "stdout",
     "output_type": "stream",
     "text": [
      "1.9796594381332397 tensor(0.) tensor(0.) 0.0 0.0\n"
     ]
    },
    {
     "name": "stderr",
     "output_type": "stream",
     "text": [
      "Epoch 0 Loss: 2.1541:   3%|▊                            | 13/500 [00:07<04:23,  1.85batch/s]"
     ]
    },
    {
     "name": "stdout",
     "output_type": "stream",
     "text": [
      "2.084735631942749 tensor(0.) tensor(0.) 0.0 0.0\n"
     ]
    },
    {
     "name": "stderr",
     "output_type": "stream",
     "text": [
      "Epoch 0 Loss: 2.1492:   3%|▊                            | 14/500 [00:07<04:25,  1.83batch/s]"
     ]
    },
    {
     "name": "stdout",
     "output_type": "stream",
     "text": [
      "1.890273928642273 tensor(0.) tensor(0.) 0.0 0.0\n"
     ]
    },
    {
     "name": "stderr",
     "output_type": "stream",
     "text": [
      "Epoch 0 Loss: 2.1319:   3%|▊                            | 15/500 [00:08<04:24,  1.83batch/s]"
     ]
    },
    {
     "name": "stdout",
     "output_type": "stream",
     "text": [
      "1.9294391870498657 tensor(0.) tensor(0.) 0.0 0.0\n"
     ]
    },
    {
     "name": "stderr",
     "output_type": "stream",
     "text": [
      "Epoch 0 Loss: 2.1192:   3%|▉                            | 16/500 [00:08<04:08,  1.95batch/s]"
     ]
    },
    {
     "name": "stdout",
     "output_type": "stream",
     "text": [
      "2.2745907306671143 tensor(0.) tensor(0.) 0.0 0.0\n"
     ]
    },
    {
     "name": "stderr",
     "output_type": "stream",
     "text": [
      "Epoch 0 Loss: 2.1284:   3%|▉                            | 17/500 [00:09<04:11,  1.92batch/s]"
     ]
    },
    {
     "name": "stdout",
     "output_type": "stream",
     "text": [
      "1.9800100326538086 tensor(0.) tensor(0.) 0.0 0.0\n"
     ]
    },
    {
     "name": "stderr",
     "output_type": "stream",
     "text": [
      "Epoch 0 Loss: 2.1201:   4%|█                            | 18/500 [00:09<04:14,  1.89batch/s]"
     ]
    },
    {
     "name": "stdout",
     "output_type": "stream",
     "text": [
      "2.0082716941833496 tensor(0.) tensor(0.) 0.0 0.0\n"
     ]
    },
    {
     "name": "stderr",
     "output_type": "stream",
     "text": [
      "Epoch 0 Loss: 2.1142:   4%|█                            | 19/500 [00:10<04:15,  1.88batch/s]"
     ]
    },
    {
     "name": "stdout",
     "output_type": "stream",
     "text": [
      "2.002241611480713 tensor(0.) tensor(0.) 0.0 0.0\n"
     ]
    },
    {
     "name": "stderr",
     "output_type": "stream",
     "text": [
      "Epoch 0 Loss: 2.1086:   4%|█▏                           | 20/500 [00:10<04:08,  1.93batch/s]"
     ]
    },
    {
     "name": "stdout",
     "output_type": "stream",
     "text": [
      "1.8539539575576782 tensor(0.) tensor(0.) 0.0 0.0\n"
     ]
    },
    {
     "name": "stderr",
     "output_type": "stream",
     "text": [
      "Epoch 0 Loss: 2.0965:   4%|█▏                           | 21/500 [00:11<04:12,  1.90batch/s]"
     ]
    },
    {
     "name": "stdout",
     "output_type": "stream",
     "text": [
      "2.0050928592681885 tensor(0.) tensor(0.) 0.0 0.0\n"
     ]
    },
    {
     "name": "stderr",
     "output_type": "stream",
     "text": [
      "Epoch 0 Loss: 2.0924:   4%|█▎                           | 22/500 [00:11<04:11,  1.90batch/s]"
     ]
    },
    {
     "name": "stdout",
     "output_type": "stream",
     "text": [
      "1.9240748882293701 tensor(0.) tensor(0.) 0.0 0.0\n"
     ]
    },
    {
     "name": "stderr",
     "output_type": "stream",
     "text": [
      "Epoch 0 Loss: 2.0850:   5%|█▎                           | 23/500 [00:12<04:11,  1.90batch/s]"
     ]
    },
    {
     "name": "stdout",
     "output_type": "stream",
     "text": [
      "1.9488005638122559 tensor(0.) tensor(0.) 0.0 0.0\n"
     ]
    },
    {
     "name": "stderr",
     "output_type": "stream",
     "text": [
      "Epoch 0 Loss: 2.0794:   5%|█▍                           | 24/500 [00:12<04:15,  1.86batch/s]"
     ]
    },
    {
     "name": "stdout",
     "output_type": "stream",
     "text": [
      "1.8044869899749756 tensor(0.) tensor(0.) 0.0 0.0\n"
     ]
    },
    {
     "name": "stderr",
     "output_type": "stream",
     "text": [
      "Epoch 0 Loss: 2.0684:   5%|█▍                           | 25/500 [00:13<03:57,  2.00batch/s]"
     ]
    },
    {
     "name": "stdout",
     "output_type": "stream",
     "text": [
      "1.923033595085144 tensor(0.) tensor(0.) 0.0 0.0\n"
     ]
    },
    {
     "name": "stderr",
     "output_type": "stream",
     "text": [
      "Epoch 0 Loss: 2.0628:   5%|█▌                           | 26/500 [00:13<04:06,  1.93batch/s]"
     ]
    },
    {
     "name": "stdout",
     "output_type": "stream",
     "text": [
      "1.8066766262054443 tensor(0.) tensor(0.) 0.0 0.0\n"
     ]
    },
    {
     "name": "stderr",
     "output_type": "stream",
     "text": [
      "Epoch 0 Loss: 2.0533:   5%|█▌                           | 27/500 [00:14<03:58,  1.98batch/s]"
     ]
    },
    {
     "name": "stdout",
     "output_type": "stream",
     "text": [
      "1.8733742237091064 tensor(0.) tensor(0.) 0.0 0.0\n"
     ]
    },
    {
     "name": "stderr",
     "output_type": "stream",
     "text": [
      "Epoch 0 Loss: 2.0469:   6%|█▌                           | 28/500 [00:15<04:08,  1.90batch/s]"
     ]
    },
    {
     "name": "stdout",
     "output_type": "stream",
     "text": [
      "1.9196803569793701 tensor(0.) tensor(0.) 0.0 0.0\n"
     ]
    },
    {
     "name": "stderr",
     "output_type": "stream",
     "text": [
      "Epoch 0 Loss: 2.0425:   6%|█▋                           | 29/500 [00:15<04:09,  1.89batch/s]"
     ]
    },
    {
     "name": "stdout",
     "output_type": "stream",
     "text": [
      "1.7879539728164673 tensor(0.) tensor(0.) 0.0 0.0\n"
     ]
    },
    {
     "name": "stderr",
     "output_type": "stream",
     "text": [
      "Epoch 0 Loss: 2.0340:   6%|█▋                           | 30/500 [00:16<04:12,  1.86batch/s]"
     ]
    },
    {
     "name": "stdout",
     "output_type": "stream",
     "text": [
      "1.663110375404358 tensor(0.) tensor(0.) 0.0 0.0\n"
     ]
    },
    {
     "name": "stderr",
     "output_type": "stream",
     "text": [
      "Epoch 0 Loss: 2.0220:   6%|█▊                           | 31/500 [00:16<04:20,  1.80batch/s]"
     ]
    },
    {
     "name": "stdout",
     "output_type": "stream",
     "text": [
      "1.7487832307815552 tensor(0.) tensor(0.) 0.0 0.0\n"
     ]
    },
    {
     "name": "stderr",
     "output_type": "stream",
     "text": [
      "Epoch 0 Loss: 2.0135:   6%|█▊                           | 32/500 [00:17<04:21,  1.79batch/s]"
     ]
    },
    {
     "name": "stdout",
     "output_type": "stream",
     "text": [
      "1.9825094938278198 tensor(0.) tensor(0.) 0.0 0.0\n"
     ]
    },
    {
     "name": "stderr",
     "output_type": "stream",
     "text": [
      "Epoch 0 Loss: 2.0126:   7%|█▉                           | 33/500 [00:17<04:18,  1.81batch/s]"
     ]
    },
    {
     "name": "stdout",
     "output_type": "stream",
     "text": [
      "1.8807079792022705 tensor(0.) tensor(0.) 0.0 0.0\n"
     ]
    },
    {
     "name": "stderr",
     "output_type": "stream",
     "text": [
      "Epoch 0 Loss: 2.0087:   7%|█▉                           | 34/500 [00:18<04:17,  1.81batch/s]"
     ]
    },
    {
     "name": "stdout",
     "output_type": "stream",
     "text": [
      "1.6952896118164062 tensor(0.) tensor(0.) 0.0 0.0\n"
     ]
    },
    {
     "name": "stderr",
     "output_type": "stream",
     "text": [
      "Epoch 0 Loss: 1.9997:   7%|██                           | 35/500 [00:18<04:18,  1.80batch/s]"
     ]
    },
    {
     "name": "stdout",
     "output_type": "stream",
     "text": [
      "1.7449301481246948 tensor(0.) tensor(0.) 0.0 0.0\n"
     ]
    },
    {
     "name": "stderr",
     "output_type": "stream",
     "text": [
      "Epoch 0 Loss: 1.9927:   7%|██                           | 36/500 [00:19<04:17,  1.81batch/s]"
     ]
    },
    {
     "name": "stdout",
     "output_type": "stream",
     "text": [
      "1.8080912828445435 tensor(0.) tensor(0.) 0.0 0.0\n"
     ]
    },
    {
     "name": "stderr",
     "output_type": "stream",
     "text": [
      "Epoch 0 Loss: 1.9877:   7%|██▏                          | 37/500 [00:20<04:18,  1.79batch/s]"
     ]
    },
    {
     "name": "stdout",
     "output_type": "stream",
     "text": [
      "1.6656410694122314 tensor(0.) tensor(0.) 0.0 0.0\n"
     ]
    },
    {
     "name": "stderr",
     "output_type": "stream",
     "text": [
      "Epoch 0 Loss: 1.9792:   8%|██▏                          | 38/500 [00:20<03:58,  1.94batch/s]"
     ]
    },
    {
     "name": "stdout",
     "output_type": "stream",
     "text": [
      "1.760225534439087 tensor(0.) tensor(0.) 0.0 0.0\n"
     ]
    },
    {
     "name": "stderr",
     "output_type": "stream",
     "text": [
      "Epoch 0 Loss: 1.9736:   8%|██▎                          | 39/500 [00:21<04:04,  1.89batch/s]"
     ]
    },
    {
     "name": "stdout",
     "output_type": "stream",
     "text": [
      "1.7714108228683472 tensor(0.) tensor(0.) 0.0 0.0\n"
     ]
    },
    {
     "name": "stderr",
     "output_type": "stream",
     "text": [
      "Epoch 0 Loss: 1.9685:   8%|██▎                          | 40/500 [00:21<03:58,  1.93batch/s]"
     ]
    },
    {
     "name": "stdout",
     "output_type": "stream",
     "text": [
      "1.7354198694229126 tensor(0.) tensor(0.) 0.0 0.0\n"
     ]
    },
    {
     "name": "stderr",
     "output_type": "stream",
     "text": [
      "Epoch 0 Loss: 1.9628:   8%|██▍                          | 41/500 [00:22<04:03,  1.88batch/s]"
     ]
    },
    {
     "name": "stdout",
     "output_type": "stream",
     "text": [
      "1.6889503002166748 tensor(0.) tensor(0.) 0.0 0.0\n"
     ]
    },
    {
     "name": "stderr",
     "output_type": "stream",
     "text": [
      "Epoch 0 Loss: 1.9563:   8%|██▍                          | 42/500 [00:22<04:05,  1.87batch/s]"
     ]
    },
    {
     "name": "stdout",
     "output_type": "stream",
     "text": [
      "1.8324992656707764 tensor(0.) tensor(0.) 0.0 0.0\n"
     ]
    },
    {
     "name": "stderr",
     "output_type": "stream",
     "text": [
      "Epoch 0 Loss: 1.9534:   9%|██▍                          | 43/500 [00:23<04:06,  1.86batch/s]"
     ]
    },
    {
     "name": "stdout",
     "output_type": "stream",
     "text": [
      "1.7679542303085327 tensor(0.) tensor(0.) 0.0 0.0\n"
     ]
    },
    {
     "name": "stderr",
     "output_type": "stream",
     "text": [
      "Epoch 0 Loss: 1.9492:   9%|██▌                          | 44/500 [00:23<04:04,  1.86batch/s]"
     ]
    },
    {
     "name": "stdout",
     "output_type": "stream",
     "text": [
      "1.7605284452438354 tensor(0.) tensor(0.) 0.0 0.0\n"
     ]
    },
    {
     "name": "stderr",
     "output_type": "stream",
     "text": [
      "Epoch 0 Loss: 1.9450:   9%|██▌                          | 45/500 [00:24<04:04,  1.86batch/s]"
     ]
    },
    {
     "name": "stdout",
     "output_type": "stream",
     "text": [
      "1.611496090888977 tensor(0.) tensor(0.) 0.0 0.0\n"
     ]
    },
    {
     "name": "stderr",
     "output_type": "stream",
     "text": [
      "Epoch 0 Loss: 1.9378:   9%|██▋                          | 46/500 [00:24<04:06,  1.84batch/s]"
     ]
    },
    {
     "name": "stdout",
     "output_type": "stream",
     "text": [
      "1.7692844867706299 tensor(0.) tensor(0.) 0.0 0.0\n"
     ]
    },
    {
     "name": "stderr",
     "output_type": "stream",
     "text": [
      "Epoch 0 Loss: 1.9342:   9%|██▋                          | 47/500 [00:25<03:59,  1.89batch/s]"
     ]
    },
    {
     "name": "stdout",
     "output_type": "stream",
     "text": [
      "1.7121673822402954 tensor(0.) tensor(0.) 0.0 0.0\n"
     ]
    },
    {
     "name": "stderr",
     "output_type": "stream",
     "text": [
      "Epoch 0 Loss: 1.9296:  10%|██▊                          | 48/500 [00:25<03:59,  1.89batch/s]"
     ]
    },
    {
     "name": "stdout",
     "output_type": "stream",
     "text": [
      "1.686368703842163 tensor(0.) tensor(0.) 0.0 0.0\n"
     ]
    },
    {
     "name": "stderr",
     "output_type": "stream",
     "text": [
      "Epoch 0 Loss: 1.9246:  10%|██▊                          | 49/500 [00:26<03:58,  1.89batch/s]"
     ]
    },
    {
     "name": "stdout",
     "output_type": "stream",
     "text": [
      "1.692611813545227 tensor(0.) tensor(0.) 0.0 0.0\n"
     ]
    },
    {
     "name": "stderr",
     "output_type": "stream",
     "text": [
      "Epoch 0 Loss: 1.9200:  10%|██▉                          | 50/500 [00:26<03:58,  1.89batch/s]"
     ]
    },
    {
     "name": "stdout",
     "output_type": "stream",
     "text": [
      "1.7162877321243286 tensor(0.) tensor(0.) 0.0 0.0\n"
     ]
    },
    {
     "name": "stderr",
     "output_type": "stream",
     "text": [
      "Epoch 0 Loss: 1.9160:  10%|██▉                          | 51/500 [00:27<03:56,  1.90batch/s]"
     ]
    },
    {
     "name": "stdout",
     "output_type": "stream",
     "text": [
      "1.8125947713851929 tensor(0.) tensor(0.) 0.0 0.0\n"
     ]
    },
    {
     "name": "stderr",
     "output_type": "stream",
     "text": [
      "Epoch 0 Loss: 1.9140:  10%|███                          | 52/500 [00:28<04:05,  1.82batch/s]"
     ]
    },
    {
     "name": "stdout",
     "output_type": "stream",
     "text": [
      "1.5318195819854736 tensor(0.) tensor(0.) 0.0 0.0\n"
     ]
    },
    {
     "name": "stderr",
     "output_type": "stream",
     "text": [
      "Epoch 0 Loss: 1.9068:  11%|███                          | 53/500 [00:28<04:01,  1.85batch/s]"
     ]
    },
    {
     "name": "stdout",
     "output_type": "stream",
     "text": [
      "1.6440191268920898 tensor(0.) tensor(0.) 0.0 0.0\n"
     ]
    },
    {
     "name": "stderr",
     "output_type": "stream",
     "text": [
      "Epoch 0 Loss: 1.9019:  11%|███▏                         | 54/500 [00:29<03:59,  1.86batch/s]"
     ]
    },
    {
     "name": "stdout",
     "output_type": "stream",
     "text": [
      "1.6532080173492432 tensor(0.) tensor(0.) 0.0 0.0\n"
     ]
    },
    {
     "name": "stderr",
     "output_type": "stream",
     "text": [
      "Epoch 0 Loss: 1.8974:  11%|███▏                         | 55/500 [00:29<04:00,  1.85batch/s]"
     ]
    },
    {
     "name": "stdout",
     "output_type": "stream",
     "text": [
      "1.6405619382858276 tensor(0.) tensor(0.) 0.0 0.0\n"
     ]
    },
    {
     "name": "stderr",
     "output_type": "stream",
     "text": [
      "Epoch 0 Loss: 1.8928:  11%|███▏                         | 56/500 [00:30<04:03,  1.82batch/s]"
     ]
    },
    {
     "name": "stdout",
     "output_type": "stream",
     "text": [
      "1.5759698152542114 tensor(0.) tensor(0.) 0.0 0.0\n"
     ]
    },
    {
     "name": "stderr",
     "output_type": "stream",
     "text": [
      "Epoch 0 Loss: 1.8872:  11%|███▎                         | 57/500 [00:30<04:02,  1.83batch/s]"
     ]
    },
    {
     "name": "stdout",
     "output_type": "stream",
     "text": [
      "1.5635972023010254 tensor(0.) tensor(0.) 0.0 0.0\n"
     ]
    },
    {
     "name": "stderr",
     "output_type": "stream",
     "text": [
      "Epoch 0 Loss: 1.8817:  12%|███▎                         | 58/500 [00:31<04:03,  1.82batch/s]"
     ]
    },
    {
     "name": "stdout",
     "output_type": "stream",
     "text": [
      "1.6684032678604126 tensor(0.) tensor(0.) 0.0 0.0\n"
     ]
    },
    {
     "name": "stderr",
     "output_type": "stream",
     "text": [
      "Epoch 0 Loss: 1.8780:  12%|███▍                         | 59/500 [00:31<04:05,  1.80batch/s]"
     ]
    },
    {
     "name": "stdout",
     "output_type": "stream",
     "text": [
      "1.673492431640625 tensor(0.) tensor(0.) 0.0 0.0\n"
     ]
    },
    {
     "name": "stderr",
     "output_type": "stream",
     "text": [
      "Epoch 0 Loss: 1.8746:  12%|███▍                         | 60/500 [00:32<04:03,  1.81batch/s]"
     ]
    },
    {
     "name": "stdout",
     "output_type": "stream",
     "text": [
      "1.7810406684875488 tensor(0.) tensor(0.) 0.0 0.0\n"
     ]
    },
    {
     "name": "stderr",
     "output_type": "stream",
     "text": [
      "Epoch 0 Loss: 1.8731:  12%|███▌                         | 61/500 [00:32<04:08,  1.77batch/s]"
     ]
    },
    {
     "name": "stdout",
     "output_type": "stream",
     "text": [
      "1.6214938163757324 tensor(0.) tensor(0.) 0.0 0.0\n"
     ]
    },
    {
     "name": "stderr",
     "output_type": "stream",
     "text": [
      "Epoch 0 Loss: 1.8690:  12%|███▌                         | 62/500 [00:33<04:02,  1.81batch/s]"
     ]
    },
    {
     "name": "stdout",
     "output_type": "stream",
     "text": [
      "1.6968162059783936 tensor(0.) tensor(0.) 0.0 0.0\n"
     ]
    },
    {
     "name": "stderr",
     "output_type": "stream",
     "text": [
      "Epoch 0 Loss: 1.8663:  13%|███▋                         | 63/500 [00:34<04:03,  1.80batch/s]"
     ]
    },
    {
     "name": "stdout",
     "output_type": "stream",
     "text": [
      "1.5651605129241943 tensor(0.) tensor(0.) 0.0 0.0\n"
     ]
    },
    {
     "name": "stderr",
     "output_type": "stream",
     "text": [
      "Epoch 0 Loss: 1.8616:  13%|███▋                         | 64/500 [00:34<03:55,  1.85batch/s]"
     ]
    },
    {
     "name": "stdout",
     "output_type": "stream",
     "text": [
      "1.588331937789917 tensor(0.) tensor(0.) 0.0 0.0\n"
     ]
    },
    {
     "name": "stderr",
     "output_type": "stream",
     "text": [
      "Epoch 0 Loss: 1.8574:  13%|███▊                         | 65/500 [00:35<03:55,  1.85batch/s]"
     ]
    },
    {
     "name": "stdout",
     "output_type": "stream",
     "text": [
      "1.780851125717163 tensor(0.) tensor(0.) 0.0 0.0\n"
     ]
    },
    {
     "name": "stderr",
     "output_type": "stream",
     "text": [
      "Epoch 0 Loss: 1.8562:  13%|███▊                         | 66/500 [00:35<03:54,  1.85batch/s]"
     ]
    },
    {
     "name": "stdout",
     "output_type": "stream",
     "text": [
      "1.5324084758758545 tensor(0.) tensor(0.) 0.0 0.0\n"
     ]
    },
    {
     "name": "stderr",
     "output_type": "stream",
     "text": [
      "Epoch 0 Loss: 1.8514:  13%|███▉                         | 67/500 [00:36<03:56,  1.83batch/s]"
     ]
    },
    {
     "name": "stdout",
     "output_type": "stream",
     "text": [
      "1.5027843713760376 tensor(0.) tensor(0.) 0.0 0.0\n"
     ]
    },
    {
     "name": "stderr",
     "output_type": "stream",
     "text": [
      "Epoch 0 Loss: 1.8463:  14%|███▉                         | 68/500 [00:36<03:56,  1.83batch/s]"
     ]
    },
    {
     "name": "stdout",
     "output_type": "stream",
     "text": [
      "1.3727062940597534 tensor(0.) tensor(0.) 0.0 0.0\n"
     ]
    },
    {
     "name": "stderr",
     "output_type": "stream",
     "text": [
      "Epoch 0 Loss: 1.8394:  14%|████                         | 69/500 [00:37<03:57,  1.82batch/s]"
     ]
    },
    {
     "name": "stdout",
     "output_type": "stream",
     "text": [
      "1.7824863195419312 tensor(0.) tensor(0.) 0.0 0.0\n"
     ]
    },
    {
     "name": "stderr",
     "output_type": "stream",
     "text": [
      "Epoch 0 Loss: 1.8386:  14%|████                         | 70/500 [00:37<03:53,  1.84batch/s]"
     ]
    },
    {
     "name": "stdout",
     "output_type": "stream",
     "text": [
      "1.6415482759475708 tensor(0.) tensor(0.) 0.0 0.0\n"
     ]
    },
    {
     "name": "stderr",
     "output_type": "stream",
     "text": [
      "Epoch 0 Loss: 1.8358:  14%|████                         | 71/500 [00:38<03:50,  1.86batch/s]"
     ]
    },
    {
     "name": "stdout",
     "output_type": "stream",
     "text": [
      "1.6555917263031006 tensor(0.) tensor(0.) 0.0 0.0\n"
     ]
    },
    {
     "name": "stderr",
     "output_type": "stream",
     "text": [
      "Epoch 0 Loss: 1.8333:  14%|████▏                        | 72/500 [00:38<03:48,  1.87batch/s]"
     ]
    },
    {
     "name": "stdout",
     "output_type": "stream",
     "text": [
      "1.6199102401733398 tensor(0.) tensor(0.) 0.0 0.0\n"
     ]
    },
    {
     "name": "stderr",
     "output_type": "stream",
     "text": [
      "Epoch 0 Loss: 1.8304:  15%|████▏                        | 73/500 [00:39<03:47,  1.88batch/s]"
     ]
    },
    {
     "name": "stdout",
     "output_type": "stream",
     "text": [
      "1.5731370449066162 tensor(0.) tensor(0.) 0.0 0.0\n"
     ]
    },
    {
     "name": "stderr",
     "output_type": "stream",
     "text": [
      "Epoch 0 Loss: 1.8269:  15%|████▎                        | 74/500 [00:39<03:43,  1.90batch/s]"
     ]
    },
    {
     "name": "stdout",
     "output_type": "stream",
     "text": [
      "1.6607551574707031 tensor(0.) tensor(0.) 0.0 0.0\n"
     ]
    },
    {
     "name": "stderr",
     "output_type": "stream",
     "text": [
      "Epoch 0 Loss: 1.8247:  15%|████▎                        | 75/500 [00:40<03:47,  1.87batch/s]"
     ]
    },
    {
     "name": "stdout",
     "output_type": "stream",
     "text": [
      "1.59983229637146 tensor(0.) tensor(0.) 0.0 0.0\n"
     ]
    },
    {
     "name": "stderr",
     "output_type": "stream",
     "text": [
      "Epoch 0 Loss: 1.8217:  15%|████▍                        | 76/500 [00:41<03:50,  1.84batch/s]"
     ]
    },
    {
     "name": "stdout",
     "output_type": "stream",
     "text": [
      "1.6133918762207031 tensor(0.) tensor(0.) 0.0 0.0\n"
     ]
    },
    {
     "name": "stderr",
     "output_type": "stream",
     "text": [
      "Epoch 0 Loss: 1.8190:  15%|████▍                        | 77/500 [00:41<03:55,  1.79batch/s]"
     ]
    },
    {
     "name": "stdout",
     "output_type": "stream",
     "text": [
      "1.565192699432373 tensor(0.) tensor(0.) 0.0 0.0\n"
     ]
    },
    {
     "name": "stderr",
     "output_type": "stream",
     "text": [
      "Epoch 0 Loss: 1.8158:  16%|████▌                        | 78/500 [00:42<03:54,  1.80batch/s]"
     ]
    },
    {
     "name": "stdout",
     "output_type": "stream",
     "text": [
      "1.540988564491272 tensor(0.) tensor(0.) 0.0 0.0\n"
     ]
    },
    {
     "name": "stderr",
     "output_type": "stream",
     "text": [
      "Epoch 0 Loss: 1.8123:  16%|████▌                        | 79/500 [00:42<03:57,  1.77batch/s]"
     ]
    },
    {
     "name": "stdout",
     "output_type": "stream",
     "text": [
      "1.3416866064071655 tensor(0.) tensor(0.) 0.0 0.0\n"
     ]
    },
    {
     "name": "stderr",
     "output_type": "stream",
     "text": [
      "Epoch 0 Loss: 1.8064:  16%|████▋                        | 80/500 [00:43<03:52,  1.81batch/s]"
     ]
    },
    {
     "name": "stdout",
     "output_type": "stream",
     "text": [
      "1.5329203605651855 tensor(0.) tensor(0.) 0.0 0.0\n"
     ]
    },
    {
     "name": "stderr",
     "output_type": "stream",
     "text": [
      "Epoch 0 Loss: 1.8031:  16%|████▋                        | 81/500 [00:43<03:52,  1.80batch/s]"
     ]
    },
    {
     "name": "stdout",
     "output_type": "stream",
     "text": [
      "1.6201281547546387 tensor(0.) tensor(0.) 0.0 0.0\n"
     ]
    },
    {
     "name": "stderr",
     "output_type": "stream",
     "text": [
      "Epoch 0 Loss: 1.8008:  16%|████▊                        | 82/500 [00:44<03:45,  1.85batch/s]"
     ]
    },
    {
     "name": "stdout",
     "output_type": "stream",
     "text": [
      "1.5174311399459839 tensor(0.) tensor(0.) 0.0 0.0\n"
     ]
    },
    {
     "name": "stderr",
     "output_type": "stream",
     "text": [
      "Epoch 0 Loss: 1.7974:  17%|████▊                        | 83/500 [00:44<03:44,  1.85batch/s]"
     ]
    },
    {
     "name": "stdout",
     "output_type": "stream",
     "text": [
      "1.6206603050231934 tensor(0.) tensor(0.) 0.0 0.0\n"
     ]
    },
    {
     "name": "stderr",
     "output_type": "stream",
     "text": [
      "Epoch 0 Loss: 1.7953:  17%|████▊                        | 84/500 [00:45<03:47,  1.83batch/s]"
     ]
    },
    {
     "name": "stdout",
     "output_type": "stream",
     "text": [
      "1.4484755992889404 tensor(0.) tensor(0.) 0.0 0.0\n"
     ]
    },
    {
     "name": "stderr",
     "output_type": "stream",
     "text": [
      "Epoch 0 Loss: 1.7912:  17%|████▉                        | 85/500 [00:46<03:48,  1.81batch/s]"
     ]
    },
    {
     "name": "stdout",
     "output_type": "stream",
     "text": [
      "1.410064697265625 tensor(0.) tensor(0.) 0.0 0.0\n"
     ]
    },
    {
     "name": "stderr",
     "output_type": "stream",
     "text": [
      "Epoch 0 Loss: 1.7868:  17%|████▉                        | 86/500 [00:46<03:50,  1.80batch/s]"
     ]
    },
    {
     "name": "stdout",
     "output_type": "stream",
     "text": [
      "1.567674160003662 tensor(0.) tensor(0.) 0.0 0.0\n"
     ]
    },
    {
     "name": "stderr",
     "output_type": "stream",
     "text": [
      "Epoch 0 Loss: 1.7843:  17%|█████                        | 87/500 [00:47<03:50,  1.80batch/s]"
     ]
    },
    {
     "name": "stdout",
     "output_type": "stream",
     "text": [
      "1.4509860277175903 tensor(0.) tensor(0.) 0.0 0.0\n"
     ]
    },
    {
     "name": "stderr",
     "output_type": "stream",
     "text": [
      "Epoch 0 Loss: 1.7805:  18%|█████                        | 88/500 [00:47<03:47,  1.81batch/s]"
     ]
    },
    {
     "name": "stdout",
     "output_type": "stream",
     "text": [
      "1.7060314416885376 tensor(0.) tensor(0.) 0.0 0.0\n"
     ]
    },
    {
     "name": "stderr",
     "output_type": "stream",
     "text": [
      "Epoch 0 Loss: 1.7796:  18%|█████▏                       | 89/500 [00:48<03:46,  1.82batch/s]"
     ]
    },
    {
     "name": "stdout",
     "output_type": "stream",
     "text": [
      "1.3442538976669312 tensor(0.) tensor(0.) 0.0 0.0\n"
     ]
    },
    {
     "name": "stderr",
     "output_type": "stream",
     "text": [
      "Epoch 0 Loss: 1.7748:  18%|█████▏                       | 90/500 [00:48<03:44,  1.82batch/s]"
     ]
    },
    {
     "name": "stdout",
     "output_type": "stream",
     "text": [
      "1.4618991613388062 tensor(0.) tensor(0.) 0.0 0.0\n"
     ]
    },
    {
     "name": "stderr",
     "output_type": "stream",
     "text": [
      "Epoch 0 Loss: 1.7714:  18%|█████▎                       | 91/500 [00:49<03:31,  1.93batch/s]"
     ]
    },
    {
     "name": "stdout",
     "output_type": "stream",
     "text": [
      "1.534703254699707 tensor(0.) tensor(0.) 0.0 0.0\n"
     ]
    },
    {
     "name": "stderr",
     "output_type": "stream",
     "text": [
      "Epoch 0 Loss: 1.7688:  18%|█████▎                       | 92/500 [00:49<03:34,  1.90batch/s]"
     ]
    },
    {
     "name": "stdout",
     "output_type": "stream",
     "text": [
      "1.2958751916885376 tensor(0.) tensor(0.) 0.0 0.0\n"
     ]
    },
    {
     "name": "stderr",
     "output_type": "stream",
     "text": [
      "Epoch 0 Loss: 1.7637:  19%|█████▍                       | 93/500 [00:50<03:34,  1.90batch/s]"
     ]
    },
    {
     "name": "stdout",
     "output_type": "stream",
     "text": [
      "1.4125158786773682 tensor(0.) tensor(0.) 0.0 0.0\n"
     ]
    },
    {
     "name": "stderr",
     "output_type": "stream",
     "text": [
      "Epoch 0 Loss: 1.7600:  19%|█████▍                       | 94/500 [00:50<03:33,  1.90batch/s]"
     ]
    },
    {
     "name": "stdout",
     "output_type": "stream",
     "text": [
      "1.5583044290542603 tensor(0.) tensor(0.) 0.0 0.0\n"
     ]
    },
    {
     "name": "stderr",
     "output_type": "stream",
     "text": [
      "Epoch 0 Loss: 1.7579:  19%|█████▌                       | 95/500 [00:51<03:35,  1.88batch/s]"
     ]
    },
    {
     "name": "stdout",
     "output_type": "stream",
     "text": [
      "1.2945202589035034 tensor(0.) tensor(0.) 0.0 0.0\n"
     ]
    },
    {
     "name": "stderr",
     "output_type": "stream",
     "text": [
      "Epoch 0 Loss: 1.7530:  19%|█████▌                       | 96/500 [00:51<03:27,  1.94batch/s]"
     ]
    },
    {
     "name": "stdout",
     "output_type": "stream",
     "text": [
      "1.403517723083496 tensor(0.) tensor(0.) 0.0 0.0\n"
     ]
    },
    {
     "name": "stderr",
     "output_type": "stream",
     "text": [
      "Epoch 0 Loss: 1.7494:  19%|█████▋                       | 97/500 [00:52<03:14,  2.07batch/s]"
     ]
    },
    {
     "name": "stdout",
     "output_type": "stream",
     "text": [
      "1.3823710680007935 tensor(0.) tensor(0.) 0.0 0.0\n"
     ]
    },
    {
     "name": "stderr",
     "output_type": "stream",
     "text": [
      "Epoch 0 Loss: 1.7457:  20%|█████▋                       | 98/500 [00:52<03:25,  1.95batch/s]"
     ]
    },
    {
     "name": "stdout",
     "output_type": "stream",
     "text": [
      "1.6983489990234375 tensor(0.) tensor(0.) 0.0 0.0\n"
     ]
    },
    {
     "name": "stderr",
     "output_type": "stream",
     "text": [
      "Epoch 0 Loss: 1.7452:  20%|█████▋                       | 99/500 [00:53<03:12,  2.08batch/s]"
     ]
    },
    {
     "name": "stdout",
     "output_type": "stream",
     "text": [
      "1.425880789756775 tensor(0.) tensor(0.) 0.0 0.0\n"
     ]
    },
    {
     "name": "stderr",
     "output_type": "stream",
     "text": [
      "Epoch 0 Loss: 1.7420:  20%|█████▌                      | 100/500 [00:53<03:20,  1.99batch/s]"
     ]
    },
    {
     "name": "stdout",
     "output_type": "stream",
     "text": [
      "1.4709599018096924 tensor(0.) tensor(0.) 0.0 0.0\n"
     ]
    },
    {
     "name": "stderr",
     "output_type": "stream",
     "text": [
      "Epoch 0 Loss: 1.7393:  20%|█████▋                      | 101/500 [00:54<03:25,  1.94batch/s]"
     ]
    },
    {
     "name": "stdout",
     "output_type": "stream",
     "text": [
      "1.365488886833191 tensor(0.) tensor(0.) 0.0 0.0\n"
     ]
    },
    {
     "name": "stderr",
     "output_type": "stream",
     "text": [
      "Epoch 0 Loss: 1.7357:  20%|█████▋                      | 102/500 [00:54<03:30,  1.89batch/s]"
     ]
    },
    {
     "name": "stdout",
     "output_type": "stream",
     "text": [
      "1.6055876016616821 tensor(0.) tensor(0.) 0.0 0.0\n"
     ]
    },
    {
     "name": "stderr",
     "output_type": "stream",
     "text": [
      "Epoch 0 Loss: 1.7344:  21%|█████▊                      | 103/500 [00:55<03:35,  1.84batch/s]"
     ]
    },
    {
     "name": "stdout",
     "output_type": "stream",
     "text": [
      "1.4491610527038574 tensor(0.) tensor(0.) 0.0 0.0\n"
     ]
    },
    {
     "name": "stderr",
     "output_type": "stream",
     "text": [
      "Epoch 0 Loss: 1.7317:  21%|█████▊                      | 104/500 [00:56<03:39,  1.80batch/s]"
     ]
    },
    {
     "name": "stdout",
     "output_type": "stream",
     "text": [
      "1.4105418920516968 tensor(0.) tensor(0.) 0.0 0.0\n"
     ]
    },
    {
     "name": "stderr",
     "output_type": "stream",
     "text": [
      "Epoch 0 Loss: 1.7286:  21%|█████▉                      | 105/500 [00:56<03:42,  1.77batch/s]"
     ]
    },
    {
     "name": "stdout",
     "output_type": "stream",
     "text": [
      "1.2808387279510498 tensor(0.) tensor(0.) 0.0 0.0\n"
     ]
    },
    {
     "name": "stderr",
     "output_type": "stream",
     "text": [
      "Epoch 0 Loss: 1.7244:  21%|█████▉                      | 106/500 [00:57<03:37,  1.81batch/s]"
     ]
    },
    {
     "name": "stdout",
     "output_type": "stream",
     "text": [
      "1.462592363357544 tensor(0.) tensor(0.) 0.0 0.0\n"
     ]
    },
    {
     "name": "stderr",
     "output_type": "stream",
     "text": [
      "Epoch 0 Loss: 1.7219:  21%|█████▉                      | 107/500 [00:57<03:35,  1.82batch/s]"
     ]
    },
    {
     "name": "stdout",
     "output_type": "stream",
     "text": [
      "1.3938542604446411 tensor(0.) tensor(0.) 0.0 0.0\n"
     ]
    },
    {
     "name": "stderr",
     "output_type": "stream",
     "text": [
      "Epoch 0 Loss: 1.7189:  22%|██████                      | 108/500 [00:58<03:34,  1.82batch/s]"
     ]
    },
    {
     "name": "stdout",
     "output_type": "stream",
     "text": [
      "1.610572099685669 tensor(0.) tensor(0.) 0.0 0.0\n"
     ]
    },
    {
     "name": "stderr",
     "output_type": "stream",
     "text": [
      "Epoch 0 Loss: 1.7179:  22%|██████                      | 109/500 [00:58<03:30,  1.86batch/s]"
     ]
    },
    {
     "name": "stdout",
     "output_type": "stream",
     "text": [
      "1.341251015663147 tensor(0.) tensor(0.) 0.0 0.0\n"
     ]
    },
    {
     "name": "stderr",
     "output_type": "stream",
     "text": [
      "Epoch 0 Loss: 1.7145:  22%|██████▏                     | 110/500 [00:59<03:35,  1.81batch/s]"
     ]
    },
    {
     "name": "stdout",
     "output_type": "stream",
     "text": [
      "1.488383173942566 tensor(0.) tensor(0.) 0.0 0.0\n"
     ]
    },
    {
     "name": "stderr",
     "output_type": "stream",
     "text": [
      "Epoch 0 Loss: 1.7124:  22%|██████▏                     | 111/500 [00:59<03:33,  1.82batch/s]"
     ]
    },
    {
     "name": "stdout",
     "output_type": "stream",
     "text": [
      "1.518311619758606 tensor(0.) tensor(0.) 0.0 0.0\n"
     ]
    },
    {
     "name": "stderr",
     "output_type": "stream",
     "text": [
      "Epoch 0 Loss: 1.7107:  22%|██████▎                     | 112/500 [01:00<03:34,  1.81batch/s]"
     ]
    },
    {
     "name": "stdout",
     "output_type": "stream",
     "text": [
      "1.580613613128662 tensor(0.) tensor(0.) 0.0 0.0\n"
     ]
    },
    {
     "name": "stderr",
     "output_type": "stream",
     "text": [
      "Epoch 0 Loss: 1.7095:  23%|██████▎                     | 113/500 [01:01<03:37,  1.78batch/s]"
     ]
    },
    {
     "name": "stdout",
     "output_type": "stream",
     "text": [
      "1.4493283033370972 tensor(0.) tensor(0.) 0.0 0.0\n"
     ]
    },
    {
     "name": "stderr",
     "output_type": "stream",
     "text": [
      "Epoch 0 Loss: 1.7073:  23%|██████▍                     | 114/500 [01:01<03:41,  1.74batch/s]"
     ]
    },
    {
     "name": "stdout",
     "output_type": "stream",
     "text": [
      "1.5019903182983398 tensor(0.) tensor(0.) 0.0 0.0\n"
     ]
    },
    {
     "name": "stderr",
     "output_type": "stream",
     "text": [
      "Epoch 0 Loss: 1.7055:  23%|██████▍                     | 115/500 [01:02<03:42,  1.73batch/s]"
     ]
    },
    {
     "name": "stdout",
     "output_type": "stream",
     "text": [
      "1.467463731765747 tensor(0.) tensor(0.) 0.0 0.0\n"
     ]
    },
    {
     "name": "stderr",
     "output_type": "stream",
     "text": [
      "Epoch 0 Loss: 1.7034:  23%|██████▍                     | 116/500 [01:02<03:38,  1.76batch/s]"
     ]
    },
    {
     "name": "stdout",
     "output_type": "stream",
     "text": [
      "1.5995144844055176 tensor(0.) tensor(0.) 0.0 0.0\n"
     ]
    },
    {
     "name": "stderr",
     "output_type": "stream",
     "text": [
      "Epoch 0 Loss: 1.7025:  23%|██████▌                     | 117/500 [01:03<03:38,  1.75batch/s]"
     ]
    },
    {
     "name": "stdout",
     "output_type": "stream",
     "text": [
      "1.2902095317840576 tensor(0.) tensor(0.) 0.0 0.0\n"
     ]
    },
    {
     "name": "stderr",
     "output_type": "stream",
     "text": [
      "Epoch 0 Loss: 1.6990:  24%|██████▌                     | 118/500 [01:03<03:38,  1.75batch/s]"
     ]
    },
    {
     "name": "stdout",
     "output_type": "stream",
     "text": [
      "1.3848929405212402 tensor(0.) tensor(0.) 0.0 0.0\n"
     ]
    },
    {
     "name": "stderr",
     "output_type": "stream",
     "text": [
      "Epoch 0 Loss: 1.6964:  24%|██████▋                     | 119/500 [01:04<03:38,  1.74batch/s]"
     ]
    },
    {
     "name": "stdout",
     "output_type": "stream",
     "text": [
      "1.6767776012420654 tensor(0.) tensor(0.) 0.0 0.0\n"
     ]
    },
    {
     "name": "stderr",
     "output_type": "stream",
     "text": [
      "Epoch 0 Loss: 1.6962:  24%|██████▋                     | 120/500 [01:05<03:34,  1.77batch/s]"
     ]
    },
    {
     "name": "stdout",
     "output_type": "stream",
     "text": [
      "1.4499144554138184 tensor(0.) tensor(0.) 0.0 0.0\n"
     ]
    },
    {
     "name": "stderr",
     "output_type": "stream",
     "text": [
      "Epoch 0 Loss: 1.6942:  24%|██████▊                     | 121/500 [01:05<03:32,  1.78batch/s]"
     ]
    },
    {
     "name": "stdout",
     "output_type": "stream",
     "text": [
      "1.3749171495437622 tensor(0.) tensor(0.) 0.0 0.0\n"
     ]
    },
    {
     "name": "stderr",
     "output_type": "stream",
     "text": [
      "Epoch 0 Loss: 1.6916:  24%|██████▊                     | 122/500 [01:06<03:33,  1.77batch/s]"
     ]
    },
    {
     "name": "stdout",
     "output_type": "stream",
     "text": [
      "1.4806828498840332 tensor(0.) tensor(0.) 0.0 0.0\n"
     ]
    },
    {
     "name": "stderr",
     "output_type": "stream",
     "text": [
      "Epoch 0 Loss: 1.6899:  25%|██████▉                     | 123/500 [01:06<03:36,  1.74batch/s]"
     ]
    },
    {
     "name": "stdout",
     "output_type": "stream",
     "text": [
      "1.4587960243225098 tensor(0.) tensor(0.) 0.0 0.0\n"
     ]
    },
    {
     "name": "stderr",
     "output_type": "stream",
     "text": [
      "Epoch 0 Loss: 1.6880:  25%|██████▉                     | 124/500 [01:07<03:31,  1.77batch/s]"
     ]
    },
    {
     "name": "stdout",
     "output_type": "stream",
     "text": [
      "1.7264617681503296 tensor(0.) tensor(0.) 0.0 0.0\n"
     ]
    },
    {
     "name": "stderr",
     "output_type": "stream",
     "text": [
      "Epoch 0 Loss: 1.6883:  25%|███████                     | 125/500 [01:07<03:33,  1.76batch/s]"
     ]
    },
    {
     "name": "stdout",
     "output_type": "stream",
     "text": [
      "1.472132682800293 tensor(0.) tensor(0.) 0.0 0.0\n"
     ]
    },
    {
     "name": "stderr",
     "output_type": "stream",
     "text": [
      "Epoch 0 Loss: 1.6866:  25%|███████                     | 126/500 [01:08<03:28,  1.79batch/s]"
     ]
    },
    {
     "name": "stdout",
     "output_type": "stream",
     "text": [
      "1.4426344633102417 tensor(0.) tensor(0.) 0.0 0.0\n"
     ]
    },
    {
     "name": "stderr",
     "output_type": "stream",
     "text": [
      "Epoch 0 Loss: 1.6847:  25%|███████                     | 127/500 [01:09<03:31,  1.76batch/s]"
     ]
    },
    {
     "name": "stdout",
     "output_type": "stream",
     "text": [
      "1.4910861253738403 tensor(0.) tensor(0.) 0.0 0.0\n"
     ]
    },
    {
     "name": "stderr",
     "output_type": "stream",
     "text": [
      "Epoch 0 Loss: 1.6832:  26%|███████▏                    | 128/500 [01:09<03:32,  1.75batch/s]"
     ]
    },
    {
     "name": "stdout",
     "output_type": "stream",
     "text": [
      "1.6972841024398804 tensor(0.) tensor(0.) 0.0 0.0\n"
     ]
    },
    {
     "name": "stderr",
     "output_type": "stream",
     "text": [
      "Epoch 0 Loss: 1.6833:  26%|███████▏                    | 129/500 [01:10<03:26,  1.79batch/s]"
     ]
    },
    {
     "name": "stdout",
     "output_type": "stream",
     "text": [
      "1.3919320106506348 tensor(0.) tensor(0.) 0.0 0.0\n"
     ]
    },
    {
     "name": "stderr",
     "output_type": "stream",
     "text": [
      "Epoch 0 Loss: 1.6810:  26%|███████▎                    | 130/500 [01:10<03:28,  1.78batch/s]"
     ]
    },
    {
     "name": "stdout",
     "output_type": "stream",
     "text": [
      "1.3613667488098145 tensor(0.) tensor(0.) 0.0 0.0\n"
     ]
    },
    {
     "name": "stderr",
     "output_type": "stream",
     "text": [
      "Epoch 0 Loss: 1.6786:  26%|███████▎                    | 131/500 [01:11<03:27,  1.78batch/s]"
     ]
    },
    {
     "name": "stdout",
     "output_type": "stream",
     "text": [
      "1.436271071434021 tensor(0.) tensor(0.) 0.0 0.0\n"
     ]
    },
    {
     "name": "stderr",
     "output_type": "stream",
     "text": [
      "Epoch 0 Loss: 1.6768:  26%|███████▍                    | 132/500 [01:11<03:23,  1.81batch/s]"
     ]
    },
    {
     "name": "stdout",
     "output_type": "stream",
     "text": [
      "1.3899388313293457 tensor(0.) tensor(0.) 0.0 0.0\n"
     ]
    },
    {
     "name": "stderr",
     "output_type": "stream",
     "text": [
      "Epoch 0 Loss: 1.6746:  27%|███████▍                    | 133/500 [01:12<03:24,  1.79batch/s]"
     ]
    },
    {
     "name": "stdout",
     "output_type": "stream",
     "text": [
      "1.4223048686981201 tensor(0.) tensor(0.) 0.0 0.0\n"
     ]
    },
    {
     "name": "stderr",
     "output_type": "stream",
     "text": [
      "Epoch 0 Loss: 1.6727:  27%|███████▌                    | 134/500 [01:12<03:17,  1.85batch/s]"
     ]
    },
    {
     "name": "stdout",
     "output_type": "stream",
     "text": [
      "1.4235010147094727 tensor(0.) tensor(0.) 0.0 0.0\n"
     ]
    },
    {
     "name": "stderr",
     "output_type": "stream",
     "text": [
      "Epoch 0 Loss: 1.6709:  27%|███████▌                    | 135/500 [01:13<03:17,  1.85batch/s]"
     ]
    },
    {
     "name": "stdout",
     "output_type": "stream",
     "text": [
      "1.5652472972869873 tensor(0.) tensor(0.) 0.0 0.0\n"
     ]
    },
    {
     "name": "stderr",
     "output_type": "stream",
     "text": [
      "Epoch 0 Loss: 1.6701:  27%|███████▌                    | 136/500 [01:13<03:19,  1.83batch/s]"
     ]
    },
    {
     "name": "stdout",
     "output_type": "stream",
     "text": [
      "1.3673118352890015 tensor(0.) tensor(0.) 0.0 0.0\n"
     ]
    },
    {
     "name": "stderr",
     "output_type": "stream",
     "text": [
      "Epoch 0 Loss: 1.6679:  27%|███████▋                    | 137/500 [01:14<03:19,  1.82batch/s]"
     ]
    },
    {
     "name": "stdout",
     "output_type": "stream",
     "text": [
      "1.305912733078003 tensor(0.) tensor(0.) 0.0 0.0\n"
     ]
    },
    {
     "name": "stderr",
     "output_type": "stream",
     "text": [
      "Epoch 0 Loss: 1.6653:  28%|███████▋                    | 138/500 [01:15<03:19,  1.82batch/s]"
     ]
    },
    {
     "name": "stdout",
     "output_type": "stream",
     "text": [
      "1.4740829467773438 tensor(0.) tensor(0.) 0.0 0.0\n"
     ]
    },
    {
     "name": "stderr",
     "output_type": "stream",
     "text": [
      "Epoch 0 Loss: 1.6639:  28%|███████▊                    | 139/500 [01:15<03:17,  1.83batch/s]"
     ]
    },
    {
     "name": "stdout",
     "output_type": "stream",
     "text": [
      "1.4106556177139282 tensor(0.) tensor(0.) 0.0 0.0\n"
     ]
    },
    {
     "name": "stderr",
     "output_type": "stream",
     "text": [
      "Epoch 0 Loss: 1.6621:  28%|███████▊                    | 140/500 [01:16<03:17,  1.82batch/s]"
     ]
    },
    {
     "name": "stdout",
     "output_type": "stream",
     "text": [
      "1.6402690410614014 tensor(0.) tensor(0.) 0.0 0.0\n"
     ]
    },
    {
     "name": "stderr",
     "output_type": "stream",
     "text": [
      "Epoch 0 Loss: 1.6619:  28%|███████▉                    | 141/500 [01:16<03:15,  1.84batch/s]"
     ]
    },
    {
     "name": "stdout",
     "output_type": "stream",
     "text": [
      "1.3419184684753418 tensor(0.) tensor(0.) 0.0 0.0\n"
     ]
    },
    {
     "name": "stderr",
     "output_type": "stream",
     "text": [
      "Epoch 0 Loss: 1.6597:  28%|███████▉                    | 142/500 [01:17<03:16,  1.82batch/s]"
     ]
    },
    {
     "name": "stdout",
     "output_type": "stream",
     "text": [
      "1.1905410289764404 tensor(0.) tensor(0.) 0.0 0.0\n"
     ]
    },
    {
     "name": "stderr",
     "output_type": "stream",
     "text": [
      "Epoch 0 Loss: 1.6564:  29%|████████                    | 143/500 [01:17<03:16,  1.81batch/s]"
     ]
    },
    {
     "name": "stdout",
     "output_type": "stream",
     "text": [
      "1.625566840171814 tensor(0.) tensor(0.) 0.0 0.0\n"
     ]
    },
    {
     "name": "stderr",
     "output_type": "stream",
     "text": [
      "Epoch 0 Loss: 1.6562:  29%|████████                    | 144/500 [01:18<03:17,  1.81batch/s]"
     ]
    },
    {
     "name": "stdout",
     "output_type": "stream",
     "text": [
      "1.4481920003890991 tensor(0.) tensor(0.) 0.0 0.0\n"
     ]
    },
    {
     "name": "stderr",
     "output_type": "stream",
     "text": [
      "Epoch 0 Loss: 1.6547:  29%|████████                    | 145/500 [01:18<03:15,  1.81batch/s]"
     ]
    },
    {
     "name": "stdout",
     "output_type": "stream",
     "text": [
      "1.3709993362426758 tensor(0.) tensor(0.) 0.0 0.0\n"
     ]
    },
    {
     "name": "stderr",
     "output_type": "stream",
     "text": [
      "Epoch 0 Loss: 1.6528:  29%|████████▏                   | 146/500 [01:19<03:15,  1.81batch/s]"
     ]
    },
    {
     "name": "stdout",
     "output_type": "stream",
     "text": [
      "1.5184836387634277 tensor(0.) tensor(0.) 0.0 0.0\n"
     ]
    },
    {
     "name": "stderr",
     "output_type": "stream",
     "text": [
      "Epoch 0 Loss: 1.6519:  29%|████████▏                   | 147/500 [01:20<03:17,  1.79batch/s]"
     ]
    },
    {
     "name": "stdout",
     "output_type": "stream",
     "text": [
      "1.5481170415878296 tensor(0.) tensor(0.) 0.0 0.0\n"
     ]
    },
    {
     "name": "stderr",
     "output_type": "stream",
     "text": [
      "Epoch 0 Loss: 1.6512:  30%|████████▎                   | 148/500 [01:20<03:13,  1.82batch/s]"
     ]
    },
    {
     "name": "stdout",
     "output_type": "stream",
     "text": [
      "1.3032995462417603 tensor(0.) tensor(0.) 0.0 0.0\n"
     ]
    },
    {
     "name": "stderr",
     "output_type": "stream",
     "text": [
      "Epoch 0 Loss: 1.6489:  30%|████████▎                   | 149/500 [01:21<03:14,  1.80batch/s]"
     ]
    },
    {
     "name": "stdout",
     "output_type": "stream",
     "text": [
      "1.441158413887024 tensor(0.) tensor(0.) 0.0 0.0\n"
     ]
    },
    {
     "name": "stderr",
     "output_type": "stream",
     "text": [
      "Epoch 0 Loss: 1.6475:  30%|████████▍                   | 150/500 [01:21<03:11,  1.83batch/s]"
     ]
    },
    {
     "name": "stdout",
     "output_type": "stream",
     "text": [
      "1.3770371675491333 tensor(0.) tensor(0.) 0.0 0.0\n"
     ]
    },
    {
     "name": "stderr",
     "output_type": "stream",
     "text": [
      "Epoch 0 Loss: 1.6457:  30%|████████▍                   | 151/500 [01:22<03:16,  1.78batch/s]"
     ]
    },
    {
     "name": "stdout",
     "output_type": "stream",
     "text": [
      "1.5838911533355713 tensor(0.) tensor(0.) 0.0 0.0\n"
     ]
    },
    {
     "name": "stderr",
     "output_type": "stream",
     "text": [
      "Epoch 0 Loss: 1.6453:  30%|████████▌                   | 152/500 [01:22<03:12,  1.81batch/s]"
     ]
    },
    {
     "name": "stdout",
     "output_type": "stream",
     "text": [
      "1.654401421546936 tensor(0.) tensor(0.) 0.0 0.0\n"
     ]
    },
    {
     "name": "stderr",
     "output_type": "stream",
     "text": [
      "Epoch 0 Loss: 1.6453:  31%|████████▌                   | 153/500 [01:23<03:12,  1.80batch/s]"
     ]
    },
    {
     "name": "stdout",
     "output_type": "stream",
     "text": [
      "1.4881013631820679 tensor(0.) tensor(0.) 0.0 0.0\n"
     ]
    },
    {
     "name": "stderr",
     "output_type": "stream",
     "text": [
      "Epoch 0 Loss: 1.6443:  31%|████████▌                   | 154/500 [01:23<02:55,  1.97batch/s]"
     ]
    },
    {
     "name": "stdout",
     "output_type": "stream",
     "text": [
      "1.4224205017089844 tensor(0.) tensor(0.) 0.0 0.0\n"
     ]
    },
    {
     "name": "stderr",
     "output_type": "stream",
     "text": [
      "Epoch 0 Loss: 1.6429:  31%|████████▋                   | 155/500 [01:24<03:00,  1.91batch/s]"
     ]
    },
    {
     "name": "stdout",
     "output_type": "stream",
     "text": [
      "1.1765234470367432 tensor(0.) tensor(0.) 0.0 0.0\n"
     ]
    },
    {
     "name": "stderr",
     "output_type": "stream",
     "text": [
      "Epoch 0 Loss: 1.6399:  31%|████████▋                   | 156/500 [01:24<03:04,  1.86batch/s]"
     ]
    },
    {
     "name": "stdout",
     "output_type": "stream",
     "text": [
      "1.398592472076416 tensor(0.) tensor(0.) 0.0 0.0\n"
     ]
    },
    {
     "name": "stderr",
     "output_type": "stream",
     "text": [
      "Epoch 0 Loss: 1.6384:  31%|████████▊                   | 157/500 [01:25<03:03,  1.87batch/s]"
     ]
    },
    {
     "name": "stdout",
     "output_type": "stream",
     "text": [
      "1.555139183998108 tensor(0.) tensor(0.) 0.0 0.0\n"
     ]
    },
    {
     "name": "stderr",
     "output_type": "stream",
     "text": [
      "Epoch 0 Loss: 1.6378:  32%|████████▊                   | 158/500 [01:25<03:05,  1.84batch/s]"
     ]
    },
    {
     "name": "stdout",
     "output_type": "stream",
     "text": [
      "1.4013183116912842 tensor(0.) tensor(0.) 0.0 0.0\n"
     ]
    },
    {
     "name": "stderr",
     "output_type": "stream",
     "text": [
      "Epoch 0 Loss: 1.6363:  32%|████████▉                   | 159/500 [01:26<03:08,  1.81batch/s]"
     ]
    },
    {
     "name": "stdout",
     "output_type": "stream",
     "text": [
      "1.4700818061828613 tensor(0.) tensor(0.) 0.0 0.0\n"
     ]
    },
    {
     "name": "stderr",
     "output_type": "stream",
     "text": [
      "Epoch 0 Loss: 1.6353:  32%|████████▉                   | 160/500 [01:27<03:06,  1.82batch/s]"
     ]
    },
    {
     "name": "stdout",
     "output_type": "stream",
     "text": [
      "1.431891679763794 tensor(0.) tensor(0.) 0.0 0.0\n"
     ]
    },
    {
     "name": "stderr",
     "output_type": "stream",
     "text": [
      "Epoch 0 Loss: 1.6340:  32%|█████████                   | 161/500 [01:27<03:06,  1.82batch/s]"
     ]
    },
    {
     "name": "stdout",
     "output_type": "stream",
     "text": [
      "1.2476043701171875 tensor(0.) tensor(0.) 0.0 0.0\n"
     ]
    },
    {
     "name": "stderr",
     "output_type": "stream",
     "text": [
      "Epoch 0 Loss: 1.6316:  32%|█████████                   | 162/500 [01:28<03:06,  1.81batch/s]"
     ]
    },
    {
     "name": "stdout",
     "output_type": "stream",
     "text": [
      "1.483365774154663 tensor(0.) tensor(0.) 0.0 0.0\n"
     ]
    },
    {
     "name": "stderr",
     "output_type": "stream",
     "text": [
      "Epoch 0 Loss: 1.6307:  33%|█████████▏                  | 163/500 [01:28<02:59,  1.88batch/s]"
     ]
    },
    {
     "name": "stdout",
     "output_type": "stream",
     "text": [
      "1.4077163934707642 tensor(0.) tensor(0.) 0.0 0.0\n"
     ]
    },
    {
     "name": "stderr",
     "output_type": "stream",
     "text": [
      "Epoch 0 Loss: 1.6294:  33%|█████████▏                  | 164/500 [01:29<03:02,  1.84batch/s]"
     ]
    },
    {
     "name": "stdout",
     "output_type": "stream",
     "text": [
      "1.3976284265518188 tensor(0.) tensor(0.) 0.0 0.0\n"
     ]
    },
    {
     "name": "stderr",
     "output_type": "stream",
     "text": [
      "Epoch 0 Loss: 1.6280:  33%|█████████▏                  | 165/500 [01:29<03:00,  1.85batch/s]"
     ]
    },
    {
     "name": "stdout",
     "output_type": "stream",
     "text": [
      "1.2914847135543823 tensor(0.) tensor(0.) 0.0 0.0\n"
     ]
    },
    {
     "name": "stderr",
     "output_type": "stream",
     "text": [
      "Epoch 0 Loss: 1.6259:  33%|█████████▎                  | 166/500 [01:30<02:59,  1.86batch/s]"
     ]
    },
    {
     "name": "stdout",
     "output_type": "stream",
     "text": [
      "1.447725772857666 tensor(0.) tensor(0.) 0.0 0.0\n"
     ]
    },
    {
     "name": "stderr",
     "output_type": "stream",
     "text": [
      "Epoch 0 Loss: 1.6249:  33%|█████████▎                  | 167/500 [01:30<03:01,  1.84batch/s]"
     ]
    },
    {
     "name": "stdout",
     "output_type": "stream",
     "text": [
      "1.4046227931976318 tensor(0.) tensor(0.) 0.0 0.0\n"
     ]
    },
    {
     "name": "stderr",
     "output_type": "stream",
     "text": [
      "Epoch 0 Loss: 1.6236:  34%|█████████▍                  | 168/500 [01:31<02:59,  1.85batch/s]"
     ]
    },
    {
     "name": "stdout",
     "output_type": "stream",
     "text": [
      "1.6191933155059814 tensor(0.) tensor(0.) 0.0 0.0\n"
     ]
    },
    {
     "name": "stderr",
     "output_type": "stream",
     "text": [
      "Epoch 0 Loss: 1.6235:  34%|█████████▍                  | 169/500 [01:31<03:01,  1.83batch/s]"
     ]
    },
    {
     "name": "stdout",
     "output_type": "stream",
     "text": [
      "1.3312311172485352 tensor(0.) tensor(0.) 0.0 0.0\n"
     ]
    },
    {
     "name": "stderr",
     "output_type": "stream",
     "text": [
      "Epoch 0 Loss: 1.6218:  34%|█████████▌                  | 170/500 [01:32<03:01,  1.82batch/s]"
     ]
    },
    {
     "name": "stdout",
     "output_type": "stream",
     "text": [
      "1.4255518913269043 tensor(0.) tensor(0.) 0.0 0.0\n"
     ]
    },
    {
     "name": "stderr",
     "output_type": "stream",
     "text": [
      "Epoch 0 Loss: 1.6207:  34%|█████████▌                  | 171/500 [01:33<02:59,  1.83batch/s]"
     ]
    },
    {
     "name": "stdout",
     "output_type": "stream",
     "text": [
      "1.3500629663467407 tensor(0.) tensor(0.) 0.0 0.0\n"
     ]
    },
    {
     "name": "stderr",
     "output_type": "stream",
     "text": [
      "Epoch 0 Loss: 1.6191:  34%|█████████▋                  | 172/500 [01:33<02:56,  1.86batch/s]"
     ]
    },
    {
     "name": "stdout",
     "output_type": "stream",
     "text": [
      "1.5096338987350464 tensor(0.) tensor(0.) 0.0 0.0\n"
     ]
    },
    {
     "name": "stderr",
     "output_type": "stream",
     "text": [
      "Epoch 0 Loss: 1.6185:  35%|█████████▋                  | 173/500 [01:34<02:54,  1.87batch/s]"
     ]
    },
    {
     "name": "stdout",
     "output_type": "stream",
     "text": [
      "1.3351869583129883 tensor(0.) tensor(0.) 0.0 0.0\n"
     ]
    },
    {
     "name": "stderr",
     "output_type": "stream",
     "text": [
      "Epoch 0 Loss: 1.6168:  35%|█████████▋                  | 174/500 [01:34<02:55,  1.86batch/s]"
     ]
    },
    {
     "name": "stdout",
     "output_type": "stream",
     "text": [
      "1.4369527101516724 tensor(0.) tensor(0.) 0.0 0.0\n"
     ]
    },
    {
     "name": "stderr",
     "output_type": "stream",
     "text": [
      "Epoch 0 Loss: 1.6158:  35%|█████████▊                  | 175/500 [01:35<02:54,  1.87batch/s]"
     ]
    },
    {
     "name": "stdout",
     "output_type": "stream",
     "text": [
      "1.577980637550354 tensor(0.) tensor(0.) 0.0 0.0\n"
     ]
    },
    {
     "name": "stderr",
     "output_type": "stream",
     "text": [
      "Epoch 0 Loss: 1.6156:  35%|█████████▊                  | 176/500 [01:35<02:54,  1.86batch/s]"
     ]
    },
    {
     "name": "stdout",
     "output_type": "stream",
     "text": [
      "1.3992081880569458 tensor(0.) tensor(0.) 0.0 0.0\n"
     ]
    },
    {
     "name": "stderr",
     "output_type": "stream",
     "text": [
      "Epoch 0 Loss: 1.6144:  35%|█████████▉                  | 177/500 [01:36<02:54,  1.86batch/s]"
     ]
    },
    {
     "name": "stdout",
     "output_type": "stream",
     "text": [
      "1.493593692779541 tensor(0.) tensor(0.) 0.0 0.0\n"
     ]
    },
    {
     "name": "stderr",
     "output_type": "stream",
     "text": [
      "Epoch 0 Loss: 1.6137:  36%|█████████▉                  | 178/500 [01:36<02:51,  1.87batch/s]"
     ]
    },
    {
     "name": "stdout",
     "output_type": "stream",
     "text": [
      "1.395787000656128 tensor(0.) tensor(0.) 0.0 0.0\n"
     ]
    },
    {
     "name": "stderr",
     "output_type": "stream",
     "text": [
      "Epoch 0 Loss: 1.6125:  36%|██████████                  | 179/500 [01:37<02:49,  1.89batch/s]"
     ]
    },
    {
     "name": "stdout",
     "output_type": "stream",
     "text": [
      "1.3189103603363037 tensor(0.) tensor(0.) 0.0 0.0\n"
     ]
    },
    {
     "name": "stderr",
     "output_type": "stream",
     "text": [
      "Epoch 0 Loss: 1.6108:  36%|██████████                  | 180/500 [01:37<02:50,  1.87batch/s]"
     ]
    },
    {
     "name": "stdout",
     "output_type": "stream",
     "text": [
      "1.2812752723693848 tensor(0.) tensor(0.) 0.0 0.0\n"
     ]
    },
    {
     "name": "stderr",
     "output_type": "stream",
     "text": [
      "Epoch 0 Loss: 1.6090:  36%|██████████▏                 | 181/500 [01:38<02:35,  2.05batch/s]"
     ]
    },
    {
     "name": "stdout",
     "output_type": "stream",
     "text": [
      "1.3217071294784546 tensor(0.) tensor(0.) 0.0 0.0\n"
     ]
    },
    {
     "name": "stderr",
     "output_type": "stream",
     "text": [
      "Epoch 0 Loss: 1.6074:  36%|██████████▏                 | 182/500 [01:38<02:41,  1.96batch/s]"
     ]
    },
    {
     "name": "stdout",
     "output_type": "stream",
     "text": [
      "1.2091141939163208 tensor(0.) tensor(0.) 0.0 0.0\n"
     ]
    },
    {
     "name": "stderr",
     "output_type": "stream",
     "text": [
      "Epoch 0 Loss: 1.6053:  37%|██████████▏                 | 183/500 [01:39<02:45,  1.91batch/s]"
     ]
    },
    {
     "name": "stdout",
     "output_type": "stream",
     "text": [
      "1.346431016921997 tensor(0.) tensor(0.) 0.0 0.0\n"
     ]
    },
    {
     "name": "stderr",
     "output_type": "stream",
     "text": [
      "Epoch 0 Loss: 1.6039:  37%|██████████▎                 | 184/500 [01:39<02:48,  1.87batch/s]"
     ]
    },
    {
     "name": "stdout",
     "output_type": "stream",
     "text": [
      "1.4401943683624268 tensor(0.) tensor(0.) 0.0 0.0\n"
     ]
    },
    {
     "name": "stderr",
     "output_type": "stream",
     "text": [
      "Epoch 0 Loss: 1.6030:  37%|██████████▎                 | 185/500 [01:40<02:50,  1.85batch/s]"
     ]
    },
    {
     "name": "stdout",
     "output_type": "stream",
     "text": [
      "1.1493446826934814 tensor(0.) tensor(0.) 0.0 0.0\n"
     ]
    },
    {
     "name": "stderr",
     "output_type": "stream",
     "text": [
      "Epoch 0 Loss: 1.6005:  37%|██████████▍                 | 186/500 [01:41<02:52,  1.82batch/s]"
     ]
    },
    {
     "name": "stdout",
     "output_type": "stream",
     "text": [
      "1.515153169631958 tensor(0.) tensor(0.) 0.0 0.0\n"
     ]
    },
    {
     "name": "stderr",
     "output_type": "stream",
     "text": [
      "Epoch 0 Loss: 1.6001:  37%|██████████▍                 | 187/500 [01:41<02:50,  1.84batch/s]"
     ]
    },
    {
     "name": "stdout",
     "output_type": "stream",
     "text": [
      "1.3731639385223389 tensor(0.) tensor(0.) 0.0 0.0\n"
     ]
    },
    {
     "name": "stderr",
     "output_type": "stream",
     "text": [
      "Epoch 0 Loss: 1.5989:  38%|██████████▌                 | 188/500 [01:42<02:51,  1.82batch/s]"
     ]
    },
    {
     "name": "stdout",
     "output_type": "stream",
     "text": [
      "1.316238522529602 tensor(0.) tensor(0.) 0.0 0.0\n"
     ]
    },
    {
     "name": "stderr",
     "output_type": "stream",
     "text": [
      "Epoch 0 Loss: 1.5974:  38%|██████████▌                 | 189/500 [01:42<02:52,  1.81batch/s]"
     ]
    },
    {
     "name": "stdout",
     "output_type": "stream",
     "text": [
      "1.2962958812713623 tensor(0.) tensor(0.) 0.0 0.0\n"
     ]
    },
    {
     "name": "stderr",
     "output_type": "stream",
     "text": [
      "Epoch 0 Loss: 1.5958:  38%|██████████▋                 | 190/500 [01:43<02:51,  1.80batch/s]"
     ]
    },
    {
     "name": "stdout",
     "output_type": "stream",
     "text": [
      "1.398970365524292 tensor(0.) tensor(0.) 0.0 0.0\n"
     ]
    },
    {
     "name": "stderr",
     "output_type": "stream",
     "text": [
      "Epoch 0 Loss: 1.5948:  38%|██████████▋                 | 191/500 [01:43<02:48,  1.83batch/s]"
     ]
    },
    {
     "name": "stdout",
     "output_type": "stream",
     "text": [
      "1.4587335586547852 tensor(0.) tensor(0.) 0.0 0.0\n"
     ]
    },
    {
     "name": "stderr",
     "output_type": "stream",
     "text": [
      "Epoch 0 Loss: 1.5941:  38%|██████████▊                 | 192/500 [01:44<02:49,  1.82batch/s]"
     ]
    },
    {
     "name": "stdout",
     "output_type": "stream",
     "text": [
      "1.2889643907546997 tensor(0.) tensor(0.) 0.0 0.0\n"
     ]
    },
    {
     "name": "stderr",
     "output_type": "stream",
     "text": [
      "Epoch 0 Loss: 1.5925:  39%|██████████▊                 | 193/500 [01:44<02:49,  1.81batch/s]"
     ]
    },
    {
     "name": "stdout",
     "output_type": "stream",
     "text": [
      "1.4002574682235718 tensor(0.) tensor(0.) 0.0 0.0\n"
     ]
    },
    {
     "name": "stderr",
     "output_type": "stream",
     "text": [
      "Epoch 0 Loss: 1.5915:  39%|██████████▊                 | 194/500 [01:45<02:49,  1.81batch/s]"
     ]
    },
    {
     "name": "stdout",
     "output_type": "stream",
     "text": [
      "1.4362890720367432 tensor(0.) tensor(0.) 0.0 0.0\n"
     ]
    },
    {
     "name": "stderr",
     "output_type": "stream",
     "text": [
      "Epoch 0 Loss: 1.5907:  39%|██████████▉                 | 195/500 [01:45<02:46,  1.83batch/s]"
     ]
    },
    {
     "name": "stdout",
     "output_type": "stream",
     "text": [
      "1.2635289430618286 tensor(0.) tensor(0.) 0.0 0.0\n"
     ]
    },
    {
     "name": "stderr",
     "output_type": "stream",
     "text": [
      "Epoch 0 Loss: 1.5890:  39%|██████████▉                 | 196/500 [01:46<02:47,  1.81batch/s]"
     ]
    },
    {
     "name": "stdout",
     "output_type": "stream",
     "text": [
      "1.1681251525878906 tensor(0.) tensor(0.) 0.0 0.0\n"
     ]
    },
    {
     "name": "stderr",
     "output_type": "stream",
     "text": [
      "Epoch 0 Loss: 1.5869:  39%|███████████                 | 197/500 [01:47<02:44,  1.84batch/s]"
     ]
    },
    {
     "name": "stdout",
     "output_type": "stream",
     "text": [
      "1.3370318412780762 tensor(0.) tensor(0.) 0.0 0.0\n"
     ]
    },
    {
     "name": "stderr",
     "output_type": "stream",
     "text": [
      "Epoch 0 Loss: 1.5856:  40%|███████████                 | 198/500 [01:47<02:34,  1.96batch/s]"
     ]
    },
    {
     "name": "stdout",
     "output_type": "stream",
     "text": [
      "1.430209755897522 tensor(0.) tensor(0.) 0.0 0.0\n"
     ]
    },
    {
     "name": "stderr",
     "output_type": "stream",
     "text": [
      "Epoch 0 Loss: 1.5848:  40%|███████████▏                | 199/500 [01:48<02:34,  1.95batch/s]"
     ]
    },
    {
     "name": "stdout",
     "output_type": "stream",
     "text": [
      "1.2600065469741821 tensor(0.) tensor(0.) 0.0 0.0\n"
     ]
    },
    {
     "name": "stderr",
     "output_type": "stream",
     "text": [
      "Epoch 0 Loss: 1.5832:  40%|███████████▏                | 200/500 [01:48<02:35,  1.93batch/s]"
     ]
    },
    {
     "name": "stdout",
     "output_type": "stream",
     "text": [
      "1.470944881439209 tensor(0.) tensor(0.) 0.0 0.0\n"
     ]
    },
    {
     "name": "stderr",
     "output_type": "stream",
     "text": [
      "Epoch 0 Loss: 1.5827:  40%|███████████▎                | 201/500 [01:49<02:41,  1.85batch/s]"
     ]
    },
    {
     "name": "stdout",
     "output_type": "stream",
     "text": [
      "1.3045196533203125 tensor(0.) tensor(0.) 0.0 0.0\n"
     ]
    },
    {
     "name": "stderr",
     "output_type": "stream",
     "text": [
      "Epoch 0 Loss: 1.5813:  40%|███████████▎                | 202/500 [01:49<02:41,  1.85batch/s]"
     ]
    },
    {
     "name": "stdout",
     "output_type": "stream",
     "text": [
      "1.2239514589309692 tensor(0.) tensor(0.) 0.0 0.0\n"
     ]
    },
    {
     "name": "stderr",
     "output_type": "stream",
     "text": [
      "Epoch 0 Loss: 1.5795:  41%|███████████▎                | 203/500 [01:50<02:39,  1.87batch/s]"
     ]
    },
    {
     "name": "stdout",
     "output_type": "stream",
     "text": [
      "1.3993935585021973 tensor(0.) tensor(0.) 0.0 0.0\n"
     ]
    },
    {
     "name": "stderr",
     "output_type": "stream",
     "text": [
      "Epoch 0 Loss: 1.5786:  41%|███████████▍                | 204/500 [01:50<02:38,  1.87batch/s]"
     ]
    },
    {
     "name": "stdout",
     "output_type": "stream",
     "text": [
      "1.4560011625289917 tensor(0.) tensor(0.) 0.0 0.0\n"
     ]
    },
    {
     "name": "stderr",
     "output_type": "stream",
     "text": [
      "Epoch 0 Loss: 1.5780:  41%|███████████▍                | 205/500 [01:51<02:37,  1.87batch/s]"
     ]
    },
    {
     "name": "stdout",
     "output_type": "stream",
     "text": [
      "1.3156338930130005 tensor(0.) tensor(0.) 0.0 0.0\n"
     ]
    },
    {
     "name": "stderr",
     "output_type": "stream",
     "text": [
      "Epoch 0 Loss: 1.5768:  41%|███████████▌                | 206/500 [01:51<02:38,  1.85batch/s]"
     ]
    },
    {
     "name": "stdout",
     "output_type": "stream",
     "text": [
      "1.3182692527770996 tensor(0.) tensor(0.) 0.0 0.0\n"
     ]
    },
    {
     "name": "stderr",
     "output_type": "stream",
     "text": [
      "Epoch 0 Loss: 1.5755:  41%|███████████▌                | 207/500 [01:52<02:42,  1.81batch/s]"
     ]
    },
    {
     "name": "stdout",
     "output_type": "stream",
     "text": [
      "1.2909538745880127 tensor(0.) tensor(0.) 0.0 0.0\n"
     ]
    },
    {
     "name": "stderr",
     "output_type": "stream",
     "text": [
      "Epoch 0 Loss: 1.5742:  42%|███████████▋                | 208/500 [01:52<02:42,  1.79batch/s]"
     ]
    },
    {
     "name": "stdout",
     "output_type": "stream",
     "text": [
      "1.3937724828720093 tensor(0.) tensor(0.) 0.0 0.0\n"
     ]
    },
    {
     "name": "stderr",
     "output_type": "stream",
     "text": [
      "Epoch 0 Loss: 1.5733:  42%|███████████▋                | 209/500 [01:53<02:43,  1.78batch/s]"
     ]
    },
    {
     "name": "stdout",
     "output_type": "stream",
     "text": [
      "1.2164238691329956 tensor(0.) tensor(0.) 0.0 0.0\n"
     ]
    },
    {
     "name": "stderr",
     "output_type": "stream",
     "text": [
      "Epoch 0 Loss: 1.5716:  42%|███████████▊                | 210/500 [01:54<02:43,  1.77batch/s]"
     ]
    },
    {
     "name": "stdout",
     "output_type": "stream",
     "text": [
      "1.4027446508407593 tensor(0.) tensor(0.) 0.0 0.0\n"
     ]
    },
    {
     "name": "stderr",
     "output_type": "stream",
     "text": [
      "Epoch 0 Loss: 1.5708:  42%|███████████▊                | 211/500 [01:54<02:41,  1.79batch/s]"
     ]
    },
    {
     "name": "stdout",
     "output_type": "stream",
     "text": [
      "1.506008267402649 tensor(0.) tensor(0.) 0.0 0.0\n"
     ]
    },
    {
     "name": "stderr",
     "output_type": "stream",
     "text": [
      "Epoch 0 Loss: 1.5705:  42%|███████████▊                | 212/500 [01:55<02:41,  1.79batch/s]"
     ]
    },
    {
     "name": "stdout",
     "output_type": "stream",
     "text": [
      "1.5504339933395386 tensor(0.) tensor(0.) 0.0 0.0\n"
     ]
    },
    {
     "name": "stderr",
     "output_type": "stream",
     "text": [
      "Epoch 0 Loss: 1.5704:  43%|███████████▉                | 213/500 [01:55<02:40,  1.79batch/s]"
     ]
    },
    {
     "name": "stdout",
     "output_type": "stream",
     "text": [
      "1.4193075895309448 tensor(0.) tensor(0.) 0.0 0.0\n"
     ]
    },
    {
     "name": "stderr",
     "output_type": "stream",
     "text": [
      "Epoch 0 Loss: 1.5697:  43%|███████████▉                | 214/500 [01:56<02:39,  1.80batch/s]"
     ]
    },
    {
     "name": "stdout",
     "output_type": "stream",
     "text": [
      "1.383481740951538 tensor(0.) tensor(0.) 0.0 0.0\n"
     ]
    },
    {
     "name": "stderr",
     "output_type": "stream",
     "text": [
      "Epoch 0 Loss: 1.5688:  43%|████████████                | 215/500 [01:56<02:35,  1.83batch/s]"
     ]
    },
    {
     "name": "stdout",
     "output_type": "stream",
     "text": [
      "1.4139469861984253 tensor(0.) tensor(0.) 0.0 0.0\n"
     ]
    },
    {
     "name": "stderr",
     "output_type": "stream",
     "text": [
      "Epoch 0 Loss: 1.5681:  43%|████████████                | 216/500 [01:57<02:35,  1.83batch/s]"
     ]
    },
    {
     "name": "stdout",
     "output_type": "stream",
     "text": [
      "1.3012957572937012 tensor(0.) tensor(0.) 0.0 0.0\n"
     ]
    },
    {
     "name": "stderr",
     "output_type": "stream",
     "text": [
      "Epoch 0 Loss: 1.5669:  43%|████████████▏               | 217/500 [01:57<02:36,  1.81batch/s]"
     ]
    },
    {
     "name": "stdout",
     "output_type": "stream",
     "text": [
      "1.3222776651382446 tensor(0.) tensor(0.) 0.0 0.0\n"
     ]
    },
    {
     "name": "stderr",
     "output_type": "stream",
     "text": [
      "Epoch 0 Loss: 1.5657:  44%|████████████▏               | 218/500 [01:58<02:34,  1.82batch/s]"
     ]
    },
    {
     "name": "stdout",
     "output_type": "stream",
     "text": [
      "1.4100574254989624 tensor(0.) tensor(0.) 0.0 0.0\n"
     ]
    },
    {
     "name": "stderr",
     "output_type": "stream",
     "text": [
      "Epoch 0 Loss: 1.5650:  44%|████████████▎               | 219/500 [01:59<02:34,  1.82batch/s]"
     ]
    },
    {
     "name": "stdout",
     "output_type": "stream",
     "text": [
      "1.2301521301269531 tensor(0.) tensor(0.) 0.0 0.0\n"
     ]
    },
    {
     "name": "stderr",
     "output_type": "stream",
     "text": [
      "Epoch 0 Loss: 1.5635:  44%|████████████▎               | 220/500 [01:59<02:36,  1.79batch/s]"
     ]
    },
    {
     "name": "stdout",
     "output_type": "stream",
     "text": [
      "1.3159598112106323 tensor(0.) tensor(0.) 0.0 0.0\n"
     ]
    },
    {
     "name": "stderr",
     "output_type": "stream",
     "text": [
      "Epoch 0 Loss: 1.5624:  44%|████████████▍               | 221/500 [02:00<02:28,  1.88batch/s]"
     ]
    },
    {
     "name": "stdout",
     "output_type": "stream",
     "text": [
      "1.418073296546936 tensor(0.) tensor(0.) 0.0 0.0\n"
     ]
    },
    {
     "name": "stderr",
     "output_type": "stream",
     "text": [
      "Epoch 0 Loss: 1.5617:  44%|████████████▍               | 222/500 [02:00<02:27,  1.88batch/s]"
     ]
    },
    {
     "name": "stdout",
     "output_type": "stream",
     "text": [
      "1.334456205368042 tensor(0.) tensor(0.) 0.0 0.0\n"
     ]
    },
    {
     "name": "stderr",
     "output_type": "stream",
     "text": [
      "Epoch 0 Loss: 1.5607:  45%|████████████▍               | 223/500 [02:01<02:29,  1.86batch/s]"
     ]
    },
    {
     "name": "stdout",
     "output_type": "stream",
     "text": [
      "1.420509696006775 tensor(0.) tensor(0.) 0.0 0.0\n"
     ]
    },
    {
     "name": "stderr",
     "output_type": "stream",
     "text": [
      "Epoch 0 Loss: 1.5601:  45%|████████████▌               | 224/500 [02:01<02:27,  1.87batch/s]"
     ]
    },
    {
     "name": "stdout",
     "output_type": "stream",
     "text": [
      "1.2244939804077148 tensor(0.) tensor(0.) 0.0 0.0\n"
     ]
    },
    {
     "name": "stderr",
     "output_type": "stream",
     "text": [
      "Epoch 0 Loss: 1.5586:  45%|████████████▌               | 225/500 [02:02<02:28,  1.85batch/s]"
     ]
    },
    {
     "name": "stdout",
     "output_type": "stream",
     "text": [
      "1.3784431219100952 tensor(0.) tensor(0.) 0.0 0.0\n"
     ]
    },
    {
     "name": "stderr",
     "output_type": "stream",
     "text": [
      "Epoch 0 Loss: 1.5578:  45%|████████████▋               | 226/500 [02:02<02:30,  1.82batch/s]"
     ]
    },
    {
     "name": "stdout",
     "output_type": "stream",
     "text": [
      "1.4137067794799805 tensor(0.) tensor(0.) 0.0 0.0\n"
     ]
    },
    {
     "name": "stderr",
     "output_type": "stream",
     "text": [
      "Epoch 0 Loss: 1.5572:  45%|████████████▋               | 227/500 [02:03<02:31,  1.80batch/s]"
     ]
    },
    {
     "name": "stdout",
     "output_type": "stream",
     "text": [
      "1.2917042970657349 tensor(0.) tensor(0.) 0.0 0.0\n"
     ]
    },
    {
     "name": "stderr",
     "output_type": "stream",
     "text": [
      "Epoch 0 Loss: 1.5560:  46%|████████████▊               | 228/500 [02:03<02:30,  1.81batch/s]"
     ]
    },
    {
     "name": "stdout",
     "output_type": "stream",
     "text": [
      "1.064846158027649 tensor(0.) tensor(0.) 0.0 0.0\n"
     ]
    },
    {
     "name": "stderr",
     "output_type": "stream",
     "text": [
      "Epoch 0 Loss: 1.5539:  46%|████████████▊               | 229/500 [02:04<02:20,  1.93batch/s]"
     ]
    },
    {
     "name": "stdout",
     "output_type": "stream",
     "text": [
      "1.0616533756256104 tensor(0.) tensor(0.) 0.0 0.0\n"
     ]
    },
    {
     "name": "stderr",
     "output_type": "stream",
     "text": [
      "Epoch 0 Loss: 1.5517:  46%|████████████▉               | 230/500 [02:04<02:24,  1.87batch/s]"
     ]
    },
    {
     "name": "stdout",
     "output_type": "stream",
     "text": [
      "1.2418951988220215 tensor(0.) tensor(0.) 0.0 0.0\n"
     ]
    },
    {
     "name": "stderr",
     "output_type": "stream",
     "text": [
      "Epoch 0 Loss: 1.5504:  46%|████████████▉               | 231/500 [02:05<02:26,  1.84batch/s]"
     ]
    },
    {
     "name": "stdout",
     "output_type": "stream",
     "text": [
      "1.4314290285110474 tensor(0.) tensor(0.) 0.0 0.0\n"
     ]
    },
    {
     "name": "stderr",
     "output_type": "stream",
     "text": [
      "Epoch 0 Loss: 1.5499:  46%|████████████▉               | 232/500 [02:06<02:26,  1.83batch/s]"
     ]
    },
    {
     "name": "stdout",
     "output_type": "stream",
     "text": [
      "1.3066203594207764 tensor(0.) tensor(0.) 0.0 0.0\n"
     ]
    },
    {
     "name": "stderr",
     "output_type": "stream",
     "text": [
      "Epoch 0 Loss: 1.5488:  47%|█████████████               | 233/500 [02:06<02:28,  1.80batch/s]"
     ]
    },
    {
     "name": "stdout",
     "output_type": "stream",
     "text": [
      "1.4586470127105713 tensor(0.) tensor(0.) 0.0 0.0\n"
     ]
    },
    {
     "name": "stderr",
     "output_type": "stream",
     "text": [
      "Epoch 0 Loss: 1.5484:  47%|█████████████               | 234/500 [02:07<02:26,  1.82batch/s]"
     ]
    },
    {
     "name": "stdout",
     "output_type": "stream",
     "text": [
      "1.1859397888183594 tensor(0.) tensor(0.) 0.0 0.0\n"
     ]
    },
    {
     "name": "stderr",
     "output_type": "stream",
     "text": [
      "Epoch 0 Loss: 1.5469:  47%|█████████████▏              | 235/500 [02:07<02:27,  1.80batch/s]"
     ]
    },
    {
     "name": "stdout",
     "output_type": "stream",
     "text": [
      "1.415596604347229 tensor(0.) tensor(0.) 0.0 0.0\n"
     ]
    },
    {
     "name": "stderr",
     "output_type": "stream",
     "text": [
      "Epoch 0 Loss: 1.5463:  47%|█████████████▏              | 236/500 [02:08<02:24,  1.82batch/s]"
     ]
    },
    {
     "name": "stdout",
     "output_type": "stream",
     "text": [
      "1.2481404542922974 tensor(0.) tensor(0.) 0.0 0.0\n"
     ]
    },
    {
     "name": "stderr",
     "output_type": "stream",
     "text": [
      "Epoch 0 Loss: 1.5451:  47%|█████████████▎              | 237/500 [02:08<02:24,  1.82batch/s]"
     ]
    },
    {
     "name": "stdout",
     "output_type": "stream",
     "text": [
      "1.4376060962677002 tensor(0.) tensor(0.) 0.0 0.0\n"
     ]
    },
    {
     "name": "stderr",
     "output_type": "stream",
     "text": [
      "Epoch 0 Loss: 1.5446:  48%|█████████████▎              | 238/500 [02:09<02:24,  1.81batch/s]"
     ]
    },
    {
     "name": "stdout",
     "output_type": "stream",
     "text": [
      "1.2839053869247437 tensor(0.) tensor(0.) 0.0 0.0\n"
     ]
    },
    {
     "name": "stderr",
     "output_type": "stream",
     "text": [
      "Epoch 0 Loss: 1.5435:  48%|█████████████▍              | 239/500 [02:09<02:23,  1.82batch/s]"
     ]
    },
    {
     "name": "stdout",
     "output_type": "stream",
     "text": [
      "1.3380177021026611 tensor(0.) tensor(0.) 0.0 0.0\n"
     ]
    },
    {
     "name": "stderr",
     "output_type": "stream",
     "text": [
      "Epoch 0 Loss: 1.5427:  48%|█████████████▍              | 240/500 [02:10<02:21,  1.84batch/s]"
     ]
    },
    {
     "name": "stdout",
     "output_type": "stream",
     "text": [
      "1.167145848274231 tensor(0.) tensor(0.) 0.0 0.0\n"
     ]
    },
    {
     "name": "stderr",
     "output_type": "stream",
     "text": [
      "Epoch 0 Loss: 1.5411:  48%|█████████████▍              | 241/500 [02:11<02:19,  1.86batch/s]"
     ]
    },
    {
     "name": "stdout",
     "output_type": "stream",
     "text": [
      "1.2736316919326782 tensor(0.) tensor(0.) 0.0 0.0\n"
     ]
    },
    {
     "name": "stderr",
     "output_type": "stream",
     "text": [
      "Epoch 0 Loss: 1.5400:  48%|█████████████▌              | 242/500 [02:11<02:18,  1.86batch/s]"
     ]
    },
    {
     "name": "stdout",
     "output_type": "stream",
     "text": [
      "1.2395628690719604 tensor(0.) tensor(0.) 0.0 0.0\n"
     ]
    },
    {
     "name": "stderr",
     "output_type": "stream",
     "text": [
      "Epoch 0 Loss: 1.5388:  49%|█████████████▌              | 243/500 [02:12<02:17,  1.87batch/s]"
     ]
    },
    {
     "name": "stdout",
     "output_type": "stream",
     "text": [
      "1.4166536331176758 tensor(0.) tensor(0.) 0.0 0.0\n"
     ]
    },
    {
     "name": "stderr",
     "output_type": "stream",
     "text": [
      "Epoch 0 Loss: 1.5383:  49%|█████████████▋              | 244/500 [02:12<02:18,  1.85batch/s]"
     ]
    },
    {
     "name": "stdout",
     "output_type": "stream",
     "text": [
      "1.2847912311553955 tensor(0.) tensor(0.) 0.0 0.0\n"
     ]
    },
    {
     "name": "stderr",
     "output_type": "stream",
     "text": [
      "Epoch 0 Loss: 1.5373:  49%|█████████████▋              | 245/500 [02:13<02:16,  1.87batch/s]"
     ]
    },
    {
     "name": "stdout",
     "output_type": "stream",
     "text": [
      "1.3630571365356445 tensor(0.) tensor(0.) 0.0 0.0\n"
     ]
    },
    {
     "name": "stderr",
     "output_type": "stream",
     "text": [
      "Epoch 0 Loss: 1.5365:  49%|█████████████▊              | 246/500 [02:13<02:17,  1.85batch/s]"
     ]
    },
    {
     "name": "stdout",
     "output_type": "stream",
     "text": [
      "1.120658278465271 tensor(0.) tensor(0.) 0.0 0.0\n"
     ]
    },
    {
     "name": "stderr",
     "output_type": "stream",
     "text": [
      "Epoch 0 Loss: 1.5349:  49%|█████████████▊              | 247/500 [02:14<02:17,  1.84batch/s]"
     ]
    },
    {
     "name": "stdout",
     "output_type": "stream",
     "text": [
      "1.505550503730774 tensor(0.) tensor(0.) 0.0 0.0\n"
     ]
    },
    {
     "name": "stderr",
     "output_type": "stream",
     "text": [
      "Epoch 0 Loss: 1.5347:  50%|█████████████▉              | 248/500 [02:14<02:18,  1.82batch/s]"
     ]
    },
    {
     "name": "stdout",
     "output_type": "stream",
     "text": [
      "1.5064893960952759 tensor(0.) tensor(0.) 0.0 0.0\n"
     ]
    },
    {
     "name": "stderr",
     "output_type": "stream",
     "text": [
      "Epoch 0 Loss: 1.5346:  50%|█████████████▉              | 249/500 [02:15<02:18,  1.81batch/s]"
     ]
    },
    {
     "name": "stdout",
     "output_type": "stream",
     "text": [
      "1.2612804174423218 tensor(0.) tensor(0.) 0.0 0.0\n"
     ]
    },
    {
     "name": "stderr",
     "output_type": "stream",
     "text": [
      "Epoch 0 Loss: 1.5335:  50%|██████████████              | 250/500 [02:15<02:16,  1.83batch/s]"
     ]
    },
    {
     "name": "stdout",
     "output_type": "stream",
     "text": [
      "1.2468832731246948 tensor(0.) tensor(0.) 0.0 0.0\n"
     ]
    },
    {
     "name": "stderr",
     "output_type": "stream",
     "text": [
      "Epoch 0 Loss: 1.5324:  50%|██████████████              | 251/500 [02:16<02:13,  1.87batch/s]"
     ]
    },
    {
     "name": "stdout",
     "output_type": "stream",
     "text": [
      "1.2640161514282227 tensor(0.) tensor(0.) 0.0 0.0\n"
     ]
    },
    {
     "name": "stderr",
     "output_type": "stream",
     "text": [
      "Epoch 0 Loss: 1.5313:  50%|██████████████              | 252/500 [02:16<02:11,  1.89batch/s]"
     ]
    },
    {
     "name": "stdout",
     "output_type": "stream",
     "text": [
      "1.2038078308105469 tensor(0.) tensor(0.) 0.0 0.0\n"
     ]
    },
    {
     "name": "stderr",
     "output_type": "stream",
     "text": [
      "Epoch 0 Loss: 1.5300:  51%|██████████████▏             | 253/500 [02:17<02:11,  1.88batch/s]"
     ]
    },
    {
     "name": "stdout",
     "output_type": "stream",
     "text": [
      "1.073119044303894 tensor(0.) tensor(0.) 0.0 0.0\n"
     ]
    },
    {
     "name": "stderr",
     "output_type": "stream",
     "text": [
      "Epoch 0 Loss: 1.5282:  51%|██████████████▏             | 254/500 [02:18<02:09,  1.90batch/s]"
     ]
    },
    {
     "name": "stdout",
     "output_type": "stream",
     "text": [
      "1.279834270477295 tensor(0.) tensor(0.) 0.0 0.0\n"
     ]
    },
    {
     "name": "stderr",
     "output_type": "stream",
     "text": [
      "Epoch 0 Loss: 1.5273:  51%|██████████████▎             | 255/500 [02:18<02:05,  1.95batch/s]"
     ]
    },
    {
     "name": "stdout",
     "output_type": "stream",
     "text": [
      "1.2322964668273926 tensor(0.) tensor(0.) 0.0 0.0\n"
     ]
    },
    {
     "name": "stderr",
     "output_type": "stream",
     "text": [
      "Epoch 0 Loss: 1.5261:  51%|██████████████▎             | 256/500 [02:19<02:06,  1.93batch/s]"
     ]
    },
    {
     "name": "stdout",
     "output_type": "stream",
     "text": [
      "1.3088241815567017 tensor(0.) tensor(0.) 0.0 0.0\n"
     ]
    },
    {
     "name": "stderr",
     "output_type": "stream",
     "text": [
      "Epoch 0 Loss: 1.5253:  51%|██████████████▍             | 257/500 [02:19<02:08,  1.89batch/s]"
     ]
    },
    {
     "name": "stdout",
     "output_type": "stream",
     "text": [
      "1.2890846729278564 tensor(0.) tensor(0.) 0.0 0.0\n"
     ]
    },
    {
     "name": "stderr",
     "output_type": "stream",
     "text": [
      "Epoch 0 Loss: 1.5243:  52%|██████████████▍             | 258/500 [02:20<02:10,  1.85batch/s]"
     ]
    },
    {
     "name": "stdout",
     "output_type": "stream",
     "text": [
      "1.2758748531341553 tensor(0.) tensor(0.) 0.0 0.0\n"
     ]
    },
    {
     "name": "stderr",
     "output_type": "stream",
     "text": [
      "Epoch 0 Loss: 1.5234:  52%|██████████████▌             | 259/500 [02:20<02:11,  1.83batch/s]"
     ]
    },
    {
     "name": "stdout",
     "output_type": "stream",
     "text": [
      "1.2623987197875977 tensor(0.) tensor(0.) 0.0 0.0\n"
     ]
    },
    {
     "name": "stderr",
     "output_type": "stream",
     "text": [
      "Epoch 0 Loss: 1.5224:  52%|██████████████▌             | 260/500 [02:21<02:13,  1.79batch/s]"
     ]
    },
    {
     "name": "stdout",
     "output_type": "stream",
     "text": [
      "1.3427057266235352 tensor(0.) tensor(0.) 0.0 0.0\n"
     ]
    },
    {
     "name": "stderr",
     "output_type": "stream",
     "text": [
      "Epoch 0 Loss: 1.5217:  52%|██████████████▌             | 261/500 [02:21<02:12,  1.81batch/s]"
     ]
    },
    {
     "name": "stdout",
     "output_type": "stream",
     "text": [
      "1.5381301641464233 tensor(0.) tensor(0.) 0.0 0.0\n"
     ]
    },
    {
     "name": "stderr",
     "output_type": "stream",
     "text": [
      "Epoch 0 Loss: 1.5218:  52%|██████████████▋             | 262/500 [02:22<02:10,  1.83batch/s]"
     ]
    },
    {
     "name": "stdout",
     "output_type": "stream",
     "text": [
      "1.3338052034378052 tensor(0.) tensor(0.) 0.0 0.0\n"
     ]
    },
    {
     "name": "stderr",
     "output_type": "stream",
     "text": [
      "Epoch 0 Loss: 1.5210:  53%|██████████████▋             | 263/500 [02:22<02:08,  1.85batch/s]"
     ]
    },
    {
     "name": "stdout",
     "output_type": "stream",
     "text": [
      "1.244187355041504 tensor(0.) tensor(0.) 0.0 0.0\n"
     ]
    },
    {
     "name": "stderr",
     "output_type": "stream",
     "text": [
      "Epoch 0 Loss: 1.5200:  53%|██████████████▊             | 264/500 [02:23<02:07,  1.85batch/s]"
     ]
    },
    {
     "name": "stdout",
     "output_type": "stream",
     "text": [
      "1.4473201036453247 tensor(0.) tensor(0.) 0.0 0.0\n"
     ]
    },
    {
     "name": "stderr",
     "output_type": "stream",
     "text": [
      "Epoch 0 Loss: 1.5197:  53%|██████████████▊             | 265/500 [02:23<02:06,  1.86batch/s]"
     ]
    },
    {
     "name": "stdout",
     "output_type": "stream",
     "text": [
      "1.1524510383605957 tensor(0.) tensor(0.) 0.0 0.0\n"
     ]
    },
    {
     "name": "stderr",
     "output_type": "stream",
     "text": [
      "Epoch 0 Loss: 1.5183:  53%|██████████████▉             | 266/500 [02:24<02:06,  1.85batch/s]"
     ]
    },
    {
     "name": "stdout",
     "output_type": "stream",
     "text": [
      "1.2980751991271973 tensor(0.) tensor(0.) 0.0 0.0\n"
     ]
    },
    {
     "name": "stderr",
     "output_type": "stream",
     "text": [
      "Epoch 0 Loss: 1.5175:  53%|██████████████▉             | 267/500 [02:25<02:06,  1.84batch/s]"
     ]
    },
    {
     "name": "stdout",
     "output_type": "stream",
     "text": [
      "1.3613947629928589 tensor(0.) tensor(0.) 0.0 0.0\n"
     ]
    },
    {
     "name": "stderr",
     "output_type": "stream",
     "text": [
      "Epoch 0 Loss: 1.5169:  54%|███████████████             | 268/500 [02:25<02:07,  1.82batch/s]"
     ]
    },
    {
     "name": "stdout",
     "output_type": "stream",
     "text": [
      "1.3962242603302002 tensor(0.) tensor(0.) 0.0 0.0\n"
     ]
    },
    {
     "name": "stderr",
     "output_type": "stream",
     "text": [
      "Epoch 0 Loss: 1.5165:  54%|███████████████             | 269/500 [02:26<02:07,  1.81batch/s]"
     ]
    },
    {
     "name": "stdout",
     "output_type": "stream",
     "text": [
      "1.1590157747268677 tensor(0.) tensor(0.) 0.0 0.0\n"
     ]
    },
    {
     "name": "stderr",
     "output_type": "stream",
     "text": [
      "Epoch 0 Loss: 1.5152:  54%|███████████████             | 270/500 [02:26<02:07,  1.81batch/s]"
     ]
    },
    {
     "name": "stdout",
     "output_type": "stream",
     "text": [
      "1.4223582744598389 tensor(0.) tensor(0.) 0.0 0.0\n"
     ]
    },
    {
     "name": "stderr",
     "output_type": "stream",
     "text": [
      "Epoch 0 Loss: 1.5148:  54%|███████████████▏            | 271/500 [02:27<01:56,  1.97batch/s]"
     ]
    },
    {
     "name": "stdout",
     "output_type": "stream",
     "text": [
      "1.3155385255813599 tensor(0.) tensor(0.) 0.0 0.0\n"
     ]
    },
    {
     "name": "stderr",
     "output_type": "stream",
     "text": [
      "Epoch 0 Loss: 1.5141:  54%|███████████████▏            | 272/500 [02:27<02:00,  1.89batch/s]"
     ]
    },
    {
     "name": "stdout",
     "output_type": "stream",
     "text": [
      "1.3571301698684692 tensor(0.) tensor(0.) 0.0 0.0\n"
     ]
    },
    {
     "name": "stderr",
     "output_type": "stream",
     "text": [
      "Epoch 0 Loss: 1.5135:  55%|███████████████▎            | 273/500 [02:28<01:56,  1.94batch/s]"
     ]
    },
    {
     "name": "stdout",
     "output_type": "stream",
     "text": [
      "1.2846879959106445 tensor(0.) tensor(0.) 0.0 0.0\n"
     ]
    },
    {
     "name": "stderr",
     "output_type": "stream",
     "text": [
      "Epoch 0 Loss: 1.5127:  55%|███████████████▎            | 274/500 [02:28<02:00,  1.88batch/s]"
     ]
    },
    {
     "name": "stdout",
     "output_type": "stream",
     "text": [
      "1.2193509340286255 tensor(0.) tensor(0.) 0.0 0.0\n"
     ]
    },
    {
     "name": "stderr",
     "output_type": "stream",
     "text": [
      "Epoch 0 Loss: 1.5116:  55%|███████████████▍            | 275/500 [02:29<02:01,  1.85batch/s]"
     ]
    },
    {
     "name": "stdout",
     "output_type": "stream",
     "text": [
      "1.3391411304473877 tensor(0.) tensor(0.) 0.0 0.0\n"
     ]
    },
    {
     "name": "stderr",
     "output_type": "stream",
     "text": [
      "Epoch 0 Loss: 1.5110:  55%|███████████████▍            | 276/500 [02:29<02:04,  1.81batch/s]"
     ]
    },
    {
     "name": "stdout",
     "output_type": "stream",
     "text": [
      "1.2913107872009277 tensor(0.) tensor(0.) 0.0 0.0\n"
     ]
    },
    {
     "name": "stderr",
     "output_type": "stream",
     "text": [
      "Epoch 0 Loss: 1.5102:  55%|███████████████▌            | 277/500 [02:30<02:03,  1.81batch/s]"
     ]
    },
    {
     "name": "stdout",
     "output_type": "stream",
     "text": [
      "1.0788700580596924 tensor(0.) tensor(0.) 0.0 0.0\n"
     ]
    },
    {
     "name": "stderr",
     "output_type": "stream",
     "text": [
      "Epoch 0 Loss: 1.5086:  56%|███████████████▌            | 278/500 [02:31<02:03,  1.80batch/s]"
     ]
    },
    {
     "name": "stdout",
     "output_type": "stream",
     "text": [
      "1.3585063219070435 tensor(0.) tensor(0.) 0.0 0.0\n"
     ]
    },
    {
     "name": "stderr",
     "output_type": "stream",
     "text": [
      "Epoch 0 Loss: 1.5081:  56%|███████████████▌            | 279/500 [02:31<02:01,  1.82batch/s]"
     ]
    },
    {
     "name": "stdout",
     "output_type": "stream",
     "text": [
      "1.3238104581832886 tensor(0.) tensor(0.) 0.0 0.0\n"
     ]
    },
    {
     "name": "stderr",
     "output_type": "stream",
     "text": [
      "Epoch 0 Loss: 1.5074:  56%|███████████████▋            | 280/500 [02:32<02:00,  1.82batch/s]"
     ]
    },
    {
     "name": "stdout",
     "output_type": "stream",
     "text": [
      "1.441239595413208 tensor(0.) tensor(0.) 0.0 0.0\n"
     ]
    },
    {
     "name": "stderr",
     "output_type": "stream",
     "text": [
      "Epoch 0 Loss: 1.5072:  56%|███████████████▋            | 281/500 [02:32<01:59,  1.84batch/s]"
     ]
    },
    {
     "name": "stdout",
     "output_type": "stream",
     "text": [
      "1.2712664604187012 tensor(0.) tensor(0.) 0.0 0.0\n"
     ]
    },
    {
     "name": "stderr",
     "output_type": "stream",
     "text": [
      "Epoch 0 Loss: 1.5064:  56%|███████████████▊            | 282/500 [02:33<01:59,  1.82batch/s]"
     ]
    },
    {
     "name": "stdout",
     "output_type": "stream",
     "text": [
      "1.264952540397644 tensor(0.) tensor(0.) 0.0 0.0\n"
     ]
    },
    {
     "name": "stderr",
     "output_type": "stream",
     "text": [
      "Epoch 0 Loss: 1.5055:  57%|███████████████▊            | 283/500 [02:33<02:00,  1.81batch/s]"
     ]
    },
    {
     "name": "stdout",
     "output_type": "stream",
     "text": [
      "1.0176658630371094 tensor(0.) tensor(0.) 0.0 0.0\n"
     ]
    },
    {
     "name": "stderr",
     "output_type": "stream",
     "text": [
      "Epoch 0 Loss: 1.5038:  57%|███████████████▉            | 284/500 [02:34<01:59,  1.80batch/s]"
     ]
    },
    {
     "name": "stdout",
     "output_type": "stream",
     "text": [
      "1.193893313407898 tensor(0.) tensor(0.) 0.0 0.0\n"
     ]
    },
    {
     "name": "stderr",
     "output_type": "stream",
     "text": [
      "Epoch 0 Loss: 1.5027:  57%|███████████████▉            | 285/500 [02:34<01:58,  1.82batch/s]"
     ]
    },
    {
     "name": "stdout",
     "output_type": "stream",
     "text": [
      "1.3288557529449463 tensor(0.) tensor(0.) 0.0 0.0\n"
     ]
    },
    {
     "name": "stderr",
     "output_type": "stream",
     "text": [
      "Epoch 0 Loss: 1.5021:  57%|████████████████            | 286/500 [02:35<01:58,  1.81batch/s]"
     ]
    },
    {
     "name": "stdout",
     "output_type": "stream",
     "text": [
      "1.5038505792617798 tensor(0.) tensor(0.) 0.0 0.0\n"
     ]
    },
    {
     "name": "stderr",
     "output_type": "stream",
     "text": [
      "Epoch 0 Loss: 1.5021:  57%|████████████████            | 287/500 [02:35<01:55,  1.84batch/s]"
     ]
    },
    {
     "name": "stdout",
     "output_type": "stream",
     "text": [
      "1.3399605751037598 tensor(0.) tensor(0.) 0.0 0.0\n"
     ]
    },
    {
     "name": "stderr",
     "output_type": "stream",
     "text": [
      "Epoch 0 Loss: 1.5015:  58%|████████████████▏           | 288/500 [02:36<01:56,  1.81batch/s]"
     ]
    },
    {
     "name": "stdout",
     "output_type": "stream",
     "text": [
      "1.221147894859314 tensor(0.) tensor(0.) 0.0 0.0\n"
     ]
    },
    {
     "name": "stderr",
     "output_type": "stream",
     "text": [
      "Epoch 0 Loss: 1.5006:  58%|████████████████▏           | 289/500 [02:37<01:55,  1.82batch/s]"
     ]
    },
    {
     "name": "stdout",
     "output_type": "stream",
     "text": [
      "1.2238342761993408 tensor(0.) tensor(0.) 0.0 0.0\n"
     ]
    },
    {
     "name": "stderr",
     "output_type": "stream",
     "text": [
      "Epoch 0 Loss: 1.4996:  58%|████████████████▏           | 290/500 [02:37<01:54,  1.84batch/s]"
     ]
    },
    {
     "name": "stdout",
     "output_type": "stream",
     "text": [
      "1.1829462051391602 tensor(0.) tensor(0.) 0.0 0.0\n"
     ]
    },
    {
     "name": "stderr",
     "output_type": "stream",
     "text": [
      "Epoch 0 Loss: 1.4985:  58%|████████████████▎           | 291/500 [02:38<01:52,  1.86batch/s]"
     ]
    },
    {
     "name": "stdout",
     "output_type": "stream",
     "text": [
      "1.4137673377990723 tensor(0.) tensor(0.) 0.0 0.0\n"
     ]
    },
    {
     "name": "stderr",
     "output_type": "stream",
     "text": [
      "Epoch 0 Loss: 1.4982:  58%|████████████████▎           | 292/500 [02:38<01:52,  1.85batch/s]"
     ]
    },
    {
     "name": "stdout",
     "output_type": "stream",
     "text": [
      "1.3328150510787964 tensor(0.) tensor(0.) 0.0 0.0\n"
     ]
    },
    {
     "name": "stderr",
     "output_type": "stream",
     "text": [
      "Epoch 0 Loss: 1.4977:  59%|████████████████▍           | 293/500 [02:39<01:47,  1.93batch/s]"
     ]
    },
    {
     "name": "stdout",
     "output_type": "stream",
     "text": [
      "1.1229677200317383 tensor(0.) tensor(0.) 0.0 0.0\n"
     ]
    },
    {
     "name": "stderr",
     "output_type": "stream",
     "text": [
      "Epoch 0 Loss: 1.4964:  59%|████████████████▍           | 294/500 [02:39<01:48,  1.90batch/s]"
     ]
    },
    {
     "name": "stdout",
     "output_type": "stream",
     "text": [
      "1.270064353942871 tensor(0.) tensor(0.) 0.0 0.0\n"
     ]
    },
    {
     "name": "stderr",
     "output_type": "stream",
     "text": [
      "Epoch 0 Loss: 1.4956:  59%|████████████████▌           | 295/500 [02:40<01:48,  1.90batch/s]"
     ]
    },
    {
     "name": "stdout",
     "output_type": "stream",
     "text": [
      "1.3856555223464966 tensor(0.) tensor(0.) 0.0 0.0\n"
     ]
    },
    {
     "name": "stderr",
     "output_type": "stream",
     "text": [
      "Epoch 0 Loss: 1.4953:  59%|████████████████▌           | 296/500 [02:40<01:41,  2.01batch/s]"
     ]
    },
    {
     "name": "stdout",
     "output_type": "stream",
     "text": [
      "1.2471734285354614 tensor(0.) tensor(0.) 0.0 0.0\n"
     ]
    },
    {
     "name": "stderr",
     "output_type": "stream",
     "text": [
      "Epoch 0 Loss: 1.4944:  59%|████████████████▋           | 297/500 [02:41<01:45,  1.93batch/s]"
     ]
    },
    {
     "name": "stdout",
     "output_type": "stream",
     "text": [
      "1.503725528717041 tensor(0.) tensor(0.) 0.0 0.0\n"
     ]
    },
    {
     "name": "stderr",
     "output_type": "stream",
     "text": [
      "Epoch 0 Loss: 1.4945:  60%|████████████████▋           | 298/500 [02:41<01:37,  2.08batch/s]"
     ]
    },
    {
     "name": "stdout",
     "output_type": "stream",
     "text": [
      "1.1696311235427856 tensor(0.) tensor(0.) 0.0 0.0\n"
     ]
    },
    {
     "name": "stderr",
     "output_type": "stream",
     "text": [
      "Epoch 0 Loss: 1.4934:  60%|████████████████▋           | 299/500 [02:42<01:39,  2.02batch/s]"
     ]
    },
    {
     "name": "stdout",
     "output_type": "stream",
     "text": [
      "1.2280465364456177 tensor(0.) tensor(0.) 0.0 0.0\n"
     ]
    },
    {
     "name": "stderr",
     "output_type": "stream",
     "text": [
      "Epoch 0 Loss: 1.4925:  60%|████████████████▊           | 300/500 [02:42<01:38,  2.04batch/s]"
     ]
    },
    {
     "name": "stdout",
     "output_type": "stream",
     "text": [
      "1.386603593826294 tensor(0.) tensor(0.) 0.0 0.0\n"
     ]
    },
    {
     "name": "stderr",
     "output_type": "stream",
     "text": [
      "Epoch 0 Loss: 1.4921:  60%|████████████████▊           | 301/500 [02:43<01:43,  1.92batch/s]"
     ]
    },
    {
     "name": "stdout",
     "output_type": "stream",
     "text": [
      "1.3418155908584595 tensor(0.) tensor(0.) 0.0 0.0\n"
     ]
    },
    {
     "name": "stderr",
     "output_type": "stream",
     "text": [
      "Epoch 0 Loss: 1.4916:  60%|████████████████▉           | 302/500 [02:43<01:43,  1.92batch/s]"
     ]
    },
    {
     "name": "stdout",
     "output_type": "stream",
     "text": [
      "1.3853693008422852 tensor(0.) tensor(0.) 0.0 0.0\n"
     ]
    },
    {
     "name": "stderr",
     "output_type": "stream",
     "text": [
      "Epoch 0 Loss: 1.4913:  61%|████████████████▉           | 303/500 [02:44<01:44,  1.88batch/s]"
     ]
    },
    {
     "name": "stdout",
     "output_type": "stream",
     "text": [
      "1.286069631576538 tensor(0.) tensor(0.) 0.0 0.0\n"
     ]
    },
    {
     "name": "stderr",
     "output_type": "stream",
     "text": [
      "Epoch 0 Loss: 1.4906:  61%|█████████████████           | 304/500 [02:44<01:41,  1.93batch/s]"
     ]
    },
    {
     "name": "stdout",
     "output_type": "stream",
     "text": [
      "1.25630521774292 tensor(0.) tensor(0.) 0.0 0.0\n"
     ]
    },
    {
     "name": "stderr",
     "output_type": "stream",
     "text": [
      "Epoch 0 Loss: 1.4898:  61%|█████████████████           | 305/500 [02:45<01:44,  1.87batch/s]"
     ]
    },
    {
     "name": "stdout",
     "output_type": "stream",
     "text": [
      "1.3106565475463867 tensor(0.) tensor(0.) 0.0 0.0\n"
     ]
    },
    {
     "name": "stderr",
     "output_type": "stream",
     "text": [
      "Epoch 0 Loss: 1.4893:  61%|█████████████████▏          | 306/500 [02:45<01:44,  1.86batch/s]"
     ]
    },
    {
     "name": "stdout",
     "output_type": "stream",
     "text": [
      "1.237728476524353 tensor(0.) tensor(0.) 0.0 0.0\n"
     ]
    },
    {
     "name": "stderr",
     "output_type": "stream",
     "text": [
      "Epoch 0 Loss: 1.4884:  61%|█████████████████▏          | 307/500 [02:46<01:44,  1.84batch/s]"
     ]
    },
    {
     "name": "stdout",
     "output_type": "stream",
     "text": [
      "1.1547240018844604 tensor(0.) tensor(0.) 0.0 0.0\n"
     ]
    },
    {
     "name": "stderr",
     "output_type": "stream",
     "text": [
      "Epoch 0 Loss: 1.4874:  62%|█████████████████▏          | 308/500 [02:46<01:45,  1.82batch/s]"
     ]
    },
    {
     "name": "stdout",
     "output_type": "stream",
     "text": [
      "1.3077698945999146 tensor(0.) tensor(0.) 0.0 0.0\n"
     ]
    },
    {
     "name": "stderr",
     "output_type": "stream",
     "text": [
      "Epoch 0 Loss: 1.4868:  62%|█████████████████▎          | 309/500 [02:47<01:45,  1.81batch/s]"
     ]
    },
    {
     "name": "stdout",
     "output_type": "stream",
     "text": [
      "1.1791071891784668 tensor(0.) tensor(0.) 0.0 0.0\n"
     ]
    },
    {
     "name": "stderr",
     "output_type": "stream",
     "text": [
      "Epoch 0 Loss: 1.4858:  62%|█████████████████▎          | 310/500 [02:48<01:44,  1.81batch/s]"
     ]
    },
    {
     "name": "stdout",
     "output_type": "stream",
     "text": [
      "1.1865901947021484 tensor(0.) tensor(0.) 0.0 0.0\n"
     ]
    },
    {
     "name": "stderr",
     "output_type": "stream",
     "text": [
      "Epoch 0 Loss: 1.4848:  62%|█████████████████▍          | 311/500 [02:48<01:43,  1.83batch/s]"
     ]
    },
    {
     "name": "stdout",
     "output_type": "stream",
     "text": [
      "1.1342730522155762 tensor(0.) tensor(0.) 0.0 0.0\n"
     ]
    },
    {
     "name": "stderr",
     "output_type": "stream",
     "text": [
      "Epoch 0 Loss: 1.4837:  62%|█████████████████▍          | 312/500 [02:49<01:43,  1.82batch/s]"
     ]
    },
    {
     "name": "stdout",
     "output_type": "stream",
     "text": [
      "1.183634877204895 tensor(0.) tensor(0.) 0.0 0.0\n"
     ]
    },
    {
     "name": "stderr",
     "output_type": "stream",
     "text": [
      "Epoch 0 Loss: 1.4827:  63%|█████████████████▌          | 313/500 [02:49<01:43,  1.81batch/s]"
     ]
    },
    {
     "name": "stdout",
     "output_type": "stream",
     "text": [
      "1.0868360996246338 tensor(0.) tensor(0.) 0.0 0.0\n"
     ]
    },
    {
     "name": "stderr",
     "output_type": "stream",
     "text": [
      "Epoch 0 Loss: 1.4815:  63%|█████████████████▌          | 314/500 [02:50<01:42,  1.81batch/s]"
     ]
    },
    {
     "name": "stdout",
     "output_type": "stream",
     "text": [
      "1.28605318069458 tensor(0.) tensor(0.) 0.0 0.0\n"
     ]
    },
    {
     "name": "stderr",
     "output_type": "stream",
     "text": [
      "Epoch 0 Loss: 1.4809:  63%|█████████████████▋          | 315/500 [02:50<01:42,  1.81batch/s]"
     ]
    },
    {
     "name": "stdout",
     "output_type": "stream",
     "text": [
      "1.179666519165039 tensor(0.) tensor(0.) 0.0 0.0\n"
     ]
    },
    {
     "name": "stderr",
     "output_type": "stream",
     "text": [
      "Epoch 0 Loss: 1.4799:  63%|█████████████████▋          | 316/500 [02:51<01:39,  1.84batch/s]"
     ]
    },
    {
     "name": "stdout",
     "output_type": "stream",
     "text": [
      "1.1483608484268188 tensor(0.) tensor(0.) 0.0 0.0\n"
     ]
    },
    {
     "name": "stderr",
     "output_type": "stream",
     "text": [
      "Epoch 0 Loss: 1.4789:  63%|█████████████████▊          | 317/500 [02:51<01:40,  1.82batch/s]"
     ]
    },
    {
     "name": "stdout",
     "output_type": "stream",
     "text": [
      "1.2320488691329956 tensor(0.) tensor(0.) 0.0 0.0\n"
     ]
    },
    {
     "name": "stderr",
     "output_type": "stream",
     "text": [
      "Epoch 0 Loss: 1.4781:  64%|█████████████████▊          | 318/500 [02:52<01:40,  1.81batch/s]"
     ]
    },
    {
     "name": "stdout",
     "output_type": "stream",
     "text": [
      "0.9754670858383179 tensor(0.) tensor(0.) 0.0 0.0\n"
     ]
    },
    {
     "name": "stderr",
     "output_type": "stream",
     "text": [
      "Epoch 0 Loss: 1.4765:  64%|█████████████████▊          | 319/500 [02:53<01:41,  1.79batch/s]"
     ]
    },
    {
     "name": "stdout",
     "output_type": "stream",
     "text": [
      "1.3470475673675537 tensor(0.) tensor(0.) 0.0 0.0\n"
     ]
    },
    {
     "name": "stderr",
     "output_type": "stream",
     "text": [
      "Epoch 0 Loss: 1.4761:  64%|█████████████████▉          | 320/500 [02:53<01:35,  1.89batch/s]"
     ]
    },
    {
     "name": "stdout",
     "output_type": "stream",
     "text": [
      "1.4674259424209595 tensor(0.) tensor(0.) 0.0 0.0\n"
     ]
    },
    {
     "name": "stderr",
     "output_type": "stream",
     "text": [
      "Epoch 0 Loss: 1.4761:  64%|█████████████████▉          | 321/500 [02:54<01:34,  1.89batch/s]"
     ]
    },
    {
     "name": "stdout",
     "output_type": "stream",
     "text": [
      "1.3448375463485718 tensor(0.) tensor(0.) 0.0 0.0\n"
     ]
    },
    {
     "name": "stderr",
     "output_type": "stream",
     "text": [
      "Epoch 0 Loss: 1.4757:  64%|██████████████████          | 322/500 [02:54<01:34,  1.89batch/s]"
     ]
    },
    {
     "name": "stdout",
     "output_type": "stream",
     "text": [
      "1.2037553787231445 tensor(0.) tensor(0.) 0.0 0.0\n"
     ]
    },
    {
     "name": "stderr",
     "output_type": "stream",
     "text": [
      "Epoch 0 Loss: 1.4748:  65%|██████████████████          | 323/500 [02:55<01:34,  1.87batch/s]"
     ]
    },
    {
     "name": "stdout",
     "output_type": "stream",
     "text": [
      "1.4241987466812134 tensor(0.) tensor(0.) 0.0 0.0\n"
     ]
    },
    {
     "name": "stderr",
     "output_type": "stream",
     "text": [
      "Epoch 0 Loss: 1.4747:  65%|██████████████████▏         | 324/500 [02:55<01:34,  1.87batch/s]"
     ]
    },
    {
     "name": "stdout",
     "output_type": "stream",
     "text": [
      "1.232446551322937 tensor(0.) tensor(0.) 0.0 0.0\n"
     ]
    },
    {
     "name": "stderr",
     "output_type": "stream",
     "text": [
      "Epoch 0 Loss: 1.4739:  65%|██████████████████▏         | 325/500 [02:56<01:35,  1.84batch/s]"
     ]
    },
    {
     "name": "stdout",
     "output_type": "stream",
     "text": [
      "1.2820160388946533 tensor(0.) tensor(0.) 0.0 0.0\n"
     ]
    },
    {
     "name": "stderr",
     "output_type": "stream",
     "text": [
      "Epoch 0 Loss: 1.4733:  65%|██████████████████▎         | 326/500 [02:56<01:34,  1.85batch/s]"
     ]
    },
    {
     "name": "stdout",
     "output_type": "stream",
     "text": [
      "1.196215033531189 tensor(0.) tensor(0.) 0.0 0.0\n"
     ]
    },
    {
     "name": "stderr",
     "output_type": "stream",
     "text": [
      "Epoch 0 Loss: 1.4725:  65%|██████████████████▎         | 327/500 [02:57<01:34,  1.84batch/s]"
     ]
    },
    {
     "name": "stdout",
     "output_type": "stream",
     "text": [
      "1.2045950889587402 tensor(0.) tensor(0.) 0.0 0.0\n"
     ]
    },
    {
     "name": "stderr",
     "output_type": "stream",
     "text": [
      "Epoch 0 Loss: 1.4717:  66%|██████████████████▎         | 328/500 [02:57<01:32,  1.85batch/s]"
     ]
    },
    {
     "name": "stdout",
     "output_type": "stream",
     "text": [
      "1.2848225831985474 tensor(0.) tensor(0.) 0.0 0.0\n"
     ]
    },
    {
     "name": "stderr",
     "output_type": "stream",
     "text": [
      "Epoch 0 Loss: 1.4711:  66%|██████████████████▍         | 329/500 [02:58<01:33,  1.82batch/s]"
     ]
    },
    {
     "name": "stdout",
     "output_type": "stream",
     "text": [
      "1.2433134317398071 tensor(0.) tensor(0.) 0.0 0.0\n"
     ]
    },
    {
     "name": "stderr",
     "output_type": "stream",
     "text": [
      "Epoch 0 Loss: 1.4704:  66%|██████████████████▍         | 330/500 [02:58<01:32,  1.84batch/s]"
     ]
    },
    {
     "name": "stdout",
     "output_type": "stream",
     "text": [
      "1.156279444694519 tensor(0.) tensor(0.) 0.0 0.0\n"
     ]
    },
    {
     "name": "stderr",
     "output_type": "stream",
     "text": [
      "Epoch 0 Loss: 1.4695:  66%|██████████████████▌         | 331/500 [02:59<01:33,  1.82batch/s]"
     ]
    },
    {
     "name": "stdout",
     "output_type": "stream",
     "text": [
      "1.2681065797805786 tensor(0.) tensor(0.) 0.0 0.0\n"
     ]
    },
    {
     "name": "stderr",
     "output_type": "stream",
     "text": [
      "Epoch 0 Loss: 1.4689:  66%|██████████████████▌         | 332/500 [03:00<01:31,  1.85batch/s]"
     ]
    },
    {
     "name": "stdout",
     "output_type": "stream",
     "text": [
      "1.2873138189315796 tensor(0.) tensor(0.) 0.0 0.0\n"
     ]
    },
    {
     "name": "stderr",
     "output_type": "stream",
     "text": [
      "Epoch 0 Loss: 1.4683:  67%|██████████████████▋         | 333/500 [03:00<01:31,  1.83batch/s]"
     ]
    },
    {
     "name": "stdout",
     "output_type": "stream",
     "text": [
      "1.1950242519378662 tensor(0.) tensor(0.) 0.0 0.0\n"
     ]
    },
    {
     "name": "stderr",
     "output_type": "stream",
     "text": [
      "Epoch 0 Loss: 1.4675:  67%|██████████████████▋         | 334/500 [03:01<01:32,  1.79batch/s]"
     ]
    },
    {
     "name": "stdout",
     "output_type": "stream",
     "text": [
      "1.0510600805282593 tensor(0.) tensor(0.) 0.0 0.0\n"
     ]
    },
    {
     "name": "stderr",
     "output_type": "stream",
     "text": [
      "Epoch 0 Loss: 1.4663:  67%|██████████████████▊         | 335/500 [03:01<01:31,  1.80batch/s]"
     ]
    },
    {
     "name": "stdout",
     "output_type": "stream",
     "text": [
      "1.2059859037399292 tensor(0.) tensor(0.) 0.0 0.0\n"
     ]
    },
    {
     "name": "stderr",
     "output_type": "stream",
     "text": [
      "Epoch 0 Loss: 1.4655:  67%|██████████████████▊         | 336/500 [03:02<01:30,  1.81batch/s]"
     ]
    },
    {
     "name": "stdout",
     "output_type": "stream",
     "text": [
      "1.177506685256958 tensor(0.) tensor(0.) 0.0 0.0\n"
     ]
    },
    {
     "name": "stderr",
     "output_type": "stream",
     "text": [
      "Epoch 0 Loss: 1.4646:  67%|██████████████████▊         | 337/500 [03:02<01:29,  1.82batch/s]"
     ]
    },
    {
     "name": "stdout",
     "output_type": "stream",
     "text": [
      "1.159456491470337 tensor(0.) tensor(0.) 0.0 0.0\n"
     ]
    },
    {
     "name": "stderr",
     "output_type": "stream",
     "text": [
      "Epoch 0 Loss: 1.4637:  68%|██████████████████▉         | 338/500 [03:03<01:29,  1.82batch/s]"
     ]
    },
    {
     "name": "stdout",
     "output_type": "stream",
     "text": [
      "1.187971830368042 tensor(0.) tensor(0.) 0.0 0.0\n"
     ]
    },
    {
     "name": "stderr",
     "output_type": "stream",
     "text": [
      "Epoch 0 Loss: 1.4629:  68%|██████████████████▉         | 339/500 [03:03<01:22,  1.94batch/s]"
     ]
    },
    {
     "name": "stdout",
     "output_type": "stream",
     "text": [
      "1.147709608078003 tensor(0.) tensor(0.) 0.0 0.0\n"
     ]
    },
    {
     "name": "stderr",
     "output_type": "stream",
     "text": [
      "Epoch 0 Loss: 1.4620:  68%|███████████████████         | 340/500 [03:04<01:24,  1.89batch/s]"
     ]
    },
    {
     "name": "stdout",
     "output_type": "stream",
     "text": [
      "1.2200467586517334 tensor(0.) tensor(0.) 0.0 0.0\n"
     ]
    },
    {
     "name": "stderr",
     "output_type": "stream",
     "text": [
      "Epoch 0 Loss: 1.4613:  68%|███████████████████         | 341/500 [03:04<01:25,  1.85batch/s]"
     ]
    },
    {
     "name": "stdout",
     "output_type": "stream",
     "text": [
      "1.204676628112793 tensor(0.) tensor(0.) 0.0 0.0\n"
     ]
    },
    {
     "name": "stderr",
     "output_type": "stream",
     "text": [
      "Epoch 0 Loss: 1.4605:  68%|███████████████████▏        | 342/500 [03:05<01:26,  1.82batch/s]"
     ]
    },
    {
     "name": "stdout",
     "output_type": "stream",
     "text": [
      "1.2268340587615967 tensor(0.) tensor(0.) 0.0 0.0\n"
     ]
    },
    {
     "name": "stderr",
     "output_type": "stream",
     "text": [
      "Epoch 0 Loss: 1.4598:  69%|███████████████████▏        | 343/500 [03:06<01:25,  1.84batch/s]"
     ]
    },
    {
     "name": "stdout",
     "output_type": "stream",
     "text": [
      "1.1545852422714233 tensor(0.) tensor(0.) 0.0 0.0\n"
     ]
    },
    {
     "name": "stderr",
     "output_type": "stream",
     "text": [
      "Epoch 0 Loss: 1.4590:  69%|███████████████████▎        | 344/500 [03:06<01:25,  1.83batch/s]"
     ]
    },
    {
     "name": "stdout",
     "output_type": "stream",
     "text": [
      "1.006630778312683 tensor(0.) tensor(0.) 0.0 0.0\n"
     ]
    },
    {
     "name": "stderr",
     "output_type": "stream",
     "text": [
      "Epoch 0 Loss: 1.4576:  69%|███████████████████▎        | 345/500 [03:07<01:27,  1.78batch/s]"
     ]
    },
    {
     "name": "stdout",
     "output_type": "stream",
     "text": [
      "1.1428205966949463 tensor(0.) tensor(0.) 0.0 0.0\n"
     ]
    },
    {
     "name": "stderr",
     "output_type": "stream",
     "text": [
      "Epoch 0 Loss: 1.4567:  69%|███████████████████▍        | 346/500 [03:07<01:26,  1.78batch/s]"
     ]
    },
    {
     "name": "stdout",
     "output_type": "stream",
     "text": [
      "1.1112675666809082 tensor(0.) tensor(0.) 0.0 0.0\n"
     ]
    },
    {
     "name": "stderr",
     "output_type": "stream",
     "text": [
      "Epoch 0 Loss: 1.4557:  69%|███████████████████▍        | 347/500 [03:08<01:25,  1.79batch/s]"
     ]
    },
    {
     "name": "stdout",
     "output_type": "stream",
     "text": [
      "1.2305961847305298 tensor(0.) tensor(0.) 0.0 0.0\n"
     ]
    },
    {
     "name": "stderr",
     "output_type": "stream",
     "text": [
      "Epoch 0 Loss: 1.4551:  70%|███████████████████▍        | 348/500 [03:08<01:25,  1.78batch/s]"
     ]
    },
    {
     "name": "stdout",
     "output_type": "stream",
     "text": [
      "1.296239972114563 tensor(0.) tensor(0.) 0.0 0.0\n"
     ]
    },
    {
     "name": "stderr",
     "output_type": "stream",
     "text": [
      "Epoch 0 Loss: 1.4546:  70%|███████████████████▌        | 349/500 [03:09<01:25,  1.77batch/s]"
     ]
    },
    {
     "name": "stdout",
     "output_type": "stream",
     "text": [
      "1.1986044645309448 tensor(0.) tensor(0.) 0.0 0.0\n"
     ]
    },
    {
     "name": "stderr",
     "output_type": "stream",
     "text": [
      "Epoch 0 Loss: 1.4539:  70%|███████████████████▌        | 350/500 [03:09<01:24,  1.78batch/s]"
     ]
    },
    {
     "name": "stdout",
     "output_type": "stream",
     "text": [
      "1.2212437391281128 tensor(0.) tensor(0.) 0.0 0.0\n"
     ]
    },
    {
     "name": "stderr",
     "output_type": "stream",
     "text": [
      "Epoch 0 Loss: 1.4532:  70%|███████████████████▋        | 351/500 [03:10<01:23,  1.78batch/s]"
     ]
    },
    {
     "name": "stdout",
     "output_type": "stream",
     "text": [
      "1.316456913948059 tensor(0.) tensor(0.) 0.0 0.0\n"
     ]
    },
    {
     "name": "stderr",
     "output_type": "stream",
     "text": [
      "Epoch 0 Loss: 1.4529:  70%|███████████████████▋        | 352/500 [03:11<01:22,  1.78batch/s]"
     ]
    },
    {
     "name": "stdout",
     "output_type": "stream",
     "text": [
      "1.241611123085022 tensor(0.) tensor(0.) 0.0 0.0\n"
     ]
    },
    {
     "name": "stderr",
     "output_type": "stream",
     "text": [
      "Epoch 0 Loss: 1.4523:  71%|███████████████████▊        | 353/500 [03:11<01:20,  1.83batch/s]"
     ]
    },
    {
     "name": "stdout",
     "output_type": "stream",
     "text": [
      "1.30851149559021 tensor(0.) tensor(0.) 0.0 0.0\n"
     ]
    },
    {
     "name": "stderr",
     "output_type": "stream",
     "text": [
      "Epoch 0 Loss: 1.4518:  71%|███████████████████▊        | 354/500 [03:12<01:20,  1.81batch/s]"
     ]
    },
    {
     "name": "stdout",
     "output_type": "stream",
     "text": [
      "1.025222897529602 tensor(0.) tensor(0.) 0.0 0.0\n"
     ]
    },
    {
     "name": "stderr",
     "output_type": "stream",
     "text": [
      "Epoch 0 Loss: 1.4506:  71%|███████████████████▉        | 355/500 [03:12<01:13,  1.97batch/s]"
     ]
    },
    {
     "name": "stdout",
     "output_type": "stream",
     "text": [
      "1.276237964630127 tensor(0.) tensor(0.) 0.0 0.0\n"
     ]
    },
    {
     "name": "stderr",
     "output_type": "stream",
     "text": [
      "Epoch 0 Loss: 1.4502:  71%|███████████████████▉        | 356/500 [03:13<01:14,  1.94batch/s]"
     ]
    },
    {
     "name": "stdout",
     "output_type": "stream",
     "text": [
      "1.0391018390655518 tensor(0.) tensor(0.) 0.0 0.0\n"
     ]
    },
    {
     "name": "stderr",
     "output_type": "stream",
     "text": [
      "Epoch 0 Loss: 1.4490:  71%|███████████████████▉        | 357/500 [03:13<01:15,  1.89batch/s]"
     ]
    },
    {
     "name": "stdout",
     "output_type": "stream",
     "text": [
      "1.291038155555725 tensor(0.) tensor(0.) 0.0 0.0\n"
     ]
    },
    {
     "name": "stderr",
     "output_type": "stream",
     "text": [
      "Epoch 0 Loss: 1.4486:  72%|████████████████████        | 358/500 [03:14<01:15,  1.88batch/s]"
     ]
    },
    {
     "name": "stdout",
     "output_type": "stream",
     "text": [
      "1.3009636402130127 tensor(0.) tensor(0.) 0.0 0.0\n"
     ]
    },
    {
     "name": "stderr",
     "output_type": "stream",
     "text": [
      "Epoch 0 Loss: 1.4482:  72%|████████████████████        | 359/500 [03:14<01:15,  1.88batch/s]"
     ]
    },
    {
     "name": "stdout",
     "output_type": "stream",
     "text": [
      "1.226040244102478 tensor(0.) tensor(0.) 0.0 0.0\n"
     ]
    },
    {
     "name": "stderr",
     "output_type": "stream",
     "text": [
      "Epoch 0 Loss: 1.4475:  72%|████████████████████▏       | 360/500 [03:15<01:15,  1.86batch/s]"
     ]
    },
    {
     "name": "stdout",
     "output_type": "stream",
     "text": [
      "1.1729745864868164 tensor(0.) tensor(0.) 0.0 0.0\n"
     ]
    },
    {
     "name": "stderr",
     "output_type": "stream",
     "text": [
      "Epoch 0 Loss: 1.4468:  72%|████████████████████▏       | 361/500 [03:15<01:11,  1.95batch/s]"
     ]
    },
    {
     "name": "stdout",
     "output_type": "stream",
     "text": [
      "1.1743085384368896 tensor(0.) tensor(0.) 0.0 0.0\n"
     ]
    },
    {
     "name": "stderr",
     "output_type": "stream",
     "text": [
      "Epoch 0 Loss: 1.4460:  72%|████████████████████▎       | 362/500 [03:16<01:12,  1.89batch/s]"
     ]
    },
    {
     "name": "stdout",
     "output_type": "stream",
     "text": [
      "1.330481767654419 tensor(0.) tensor(0.) 0.0 0.0\n"
     ]
    },
    {
     "name": "stderr",
     "output_type": "stream",
     "text": [
      "Epoch 0 Loss: 1.4457:  73%|████████████████████▎       | 363/500 [03:16<01:12,  1.90batch/s]"
     ]
    },
    {
     "name": "stdout",
     "output_type": "stream",
     "text": [
      "1.2666015625 tensor(0.) tensor(0.) 0.0 0.0\n"
     ]
    },
    {
     "name": "stderr",
     "output_type": "stream",
     "text": [
      "Epoch 0 Loss: 1.4452:  73%|████████████████████▍       | 364/500 [03:17<01:14,  1.83batch/s]"
     ]
    },
    {
     "name": "stdout",
     "output_type": "stream",
     "text": [
      "1.3206614255905151 tensor(0.) tensor(0.) 0.0 0.0\n"
     ]
    },
    {
     "name": "stderr",
     "output_type": "stream",
     "text": [
      "Epoch 0 Loss: 1.4449:  73%|████████████████████▍       | 365/500 [03:17<01:09,  1.95batch/s]"
     ]
    },
    {
     "name": "stdout",
     "output_type": "stream",
     "text": [
      "1.1622741222381592 tensor(0.) tensor(0.) 0.0 0.0\n"
     ]
    },
    {
     "name": "stderr",
     "output_type": "stream",
     "text": [
      "Epoch 0 Loss: 1.4441:  73%|████████████████████▍       | 366/500 [03:18<01:10,  1.90batch/s]"
     ]
    },
    {
     "name": "stdout",
     "output_type": "stream",
     "text": [
      "1.149845838546753 tensor(0.) tensor(0.) 0.0 0.0\n"
     ]
    },
    {
     "name": "stderr",
     "output_type": "stream",
     "text": [
      "Epoch 0 Loss: 1.4433:  73%|████████████████████▌       | 367/500 [03:19<01:11,  1.86batch/s]"
     ]
    },
    {
     "name": "stdout",
     "output_type": "stream",
     "text": [
      "1.3018473386764526 tensor(0.) tensor(0.) 0.0 0.0\n"
     ]
    },
    {
     "name": "stderr",
     "output_type": "stream",
     "text": [
      "Epoch 0 Loss: 1.4429:  74%|████████████████████▌       | 368/500 [03:19<01:11,  1.84batch/s]"
     ]
    },
    {
     "name": "stdout",
     "output_type": "stream",
     "text": [
      "1.4674490690231323 tensor(0.) tensor(0.) 0.0 0.0\n"
     ]
    },
    {
     "name": "stderr",
     "output_type": "stream",
     "text": [
      "Epoch 0 Loss: 1.4430:  74%|████████████████████▋       | 369/500 [03:20<01:11,  1.83batch/s]"
     ]
    },
    {
     "name": "stdout",
     "output_type": "stream",
     "text": [
      "1.2436938285827637 tensor(0.) tensor(0.) 0.0 0.0\n"
     ]
    },
    {
     "name": "stderr",
     "output_type": "stream",
     "text": [
      "Epoch 0 Loss: 1.4424:  74%|████████████████████▋       | 370/500 [03:20<01:11,  1.82batch/s]"
     ]
    },
    {
     "name": "stdout",
     "output_type": "stream",
     "text": [
      "1.2220975160598755 tensor(0.) tensor(0.) 0.0 0.0\n"
     ]
    },
    {
     "name": "stderr",
     "output_type": "stream",
     "text": [
      "Epoch 0 Loss: 1.4418:  74%|████████████████████▊       | 371/500 [03:21<01:10,  1.84batch/s]"
     ]
    },
    {
     "name": "stdout",
     "output_type": "stream",
     "text": [
      "1.2182480096817017 tensor(0.) tensor(0.) 0.0 0.0\n"
     ]
    },
    {
     "name": "stderr",
     "output_type": "stream",
     "text": [
      "Epoch 0 Loss: 1.4412:  74%|████████████████████▊       | 372/500 [03:21<01:10,  1.82batch/s]"
     ]
    },
    {
     "name": "stdout",
     "output_type": "stream",
     "text": [
      "1.2677210569381714 tensor(0.) tensor(0.) 0.0 0.0\n"
     ]
    },
    {
     "name": "stderr",
     "output_type": "stream",
     "text": [
      "Epoch 0 Loss: 1.4408:  75%|████████████████████▉       | 373/500 [03:22<01:08,  1.84batch/s]"
     ]
    },
    {
     "name": "stdout",
     "output_type": "stream",
     "text": [
      "1.0817344188690186 tensor(0.) tensor(0.) 0.0 0.0\n"
     ]
    },
    {
     "name": "stderr",
     "output_type": "stream",
     "text": [
      "Epoch 0 Loss: 1.4398:  75%|████████████████████▉       | 374/500 [03:22<01:09,  1.82batch/s]"
     ]
    },
    {
     "name": "stdout",
     "output_type": "stream",
     "text": [
      "1.104686975479126 tensor(0.) tensor(0.) 0.0 0.0\n"
     ]
    },
    {
     "name": "stderr",
     "output_type": "stream",
     "text": [
      "Epoch 0 Loss: 1.4389:  75%|█████████████████████       | 375/500 [03:23<01:09,  1.79batch/s]"
     ]
    },
    {
     "name": "stdout",
     "output_type": "stream",
     "text": [
      "1.457014560699463 tensor(0.) tensor(0.) 0.0 0.0\n"
     ]
    },
    {
     "name": "stderr",
     "output_type": "stream",
     "text": [
      "Epoch 0 Loss: 1.4390:  75%|█████████████████████       | 376/500 [03:23<01:09,  1.79batch/s]"
     ]
    },
    {
     "name": "stdout",
     "output_type": "stream",
     "text": [
      "1.2160717248916626 tensor(0.) tensor(0.) 0.0 0.0\n"
     ]
    },
    {
     "name": "stderr",
     "output_type": "stream",
     "text": [
      "Epoch 0 Loss: 1.4384:  75%|█████████████████████       | 377/500 [03:24<01:07,  1.82batch/s]"
     ]
    },
    {
     "name": "stdout",
     "output_type": "stream",
     "text": [
      "1.1830720901489258 tensor(0.) tensor(0.) 0.0 0.0\n"
     ]
    },
    {
     "name": "stderr",
     "output_type": "stream",
     "text": [
      "Epoch 0 Loss: 1.4377:  76%|█████████████████████▏      | 378/500 [03:25<01:06,  1.83batch/s]"
     ]
    },
    {
     "name": "stdout",
     "output_type": "stream",
     "text": [
      "1.1500147581100464 tensor(0.) tensor(0.) 0.0 0.0\n"
     ]
    },
    {
     "name": "stderr",
     "output_type": "stream",
     "text": [
      "Epoch 0 Loss: 1.4369:  76%|█████████████████████▏      | 379/500 [03:25<01:06,  1.82batch/s]"
     ]
    },
    {
     "name": "stdout",
     "output_type": "stream",
     "text": [
      "1.0401639938354492 tensor(0.) tensor(0.) 0.0 0.0\n"
     ]
    },
    {
     "name": "stderr",
     "output_type": "stream",
     "text": [
      "Epoch 0 Loss: 1.4359:  76%|█████████████████████▎      | 380/500 [03:26<01:05,  1.82batch/s]"
     ]
    },
    {
     "name": "stdout",
     "output_type": "stream",
     "text": [
      "1.1500107049942017 tensor(0.) tensor(0.) 0.0 0.0\n"
     ]
    },
    {
     "name": "stderr",
     "output_type": "stream",
     "text": [
      "Epoch 0 Loss: 1.4352:  76%|█████████████████████▎      | 381/500 [03:26<01:00,  1.97batch/s]"
     ]
    },
    {
     "name": "stdout",
     "output_type": "stream",
     "text": [
      "1.2113025188446045 tensor(0.) tensor(0.) 0.0 0.0\n"
     ]
    },
    {
     "name": "stderr",
     "output_type": "stream",
     "text": [
      "Epoch 0 Loss: 1.4346:  76%|█████████████████████▍      | 382/500 [03:27<01:00,  1.94batch/s]"
     ]
    },
    {
     "name": "stdout",
     "output_type": "stream",
     "text": [
      "1.0307718515396118 tensor(0.) tensor(0.) 0.0 0.0\n"
     ]
    },
    {
     "name": "stderr",
     "output_type": "stream",
     "text": [
      "Epoch 0 Loss: 1.4335:  77%|█████████████████████▍      | 383/500 [03:27<00:55,  2.09batch/s]"
     ]
    },
    {
     "name": "stdout",
     "output_type": "stream",
     "text": [
      "1.1833232641220093 tensor(0.) tensor(0.) 0.0 0.0\n"
     ]
    },
    {
     "name": "stderr",
     "output_type": "stream",
     "text": [
      "Epoch 0 Loss: 1.4329:  77%|█████████████████████▌      | 384/500 [03:28<00:57,  2.03batch/s]"
     ]
    },
    {
     "name": "stdout",
     "output_type": "stream",
     "text": [
      "1.4064476490020752 tensor(0.) tensor(0.) 0.0 0.0\n"
     ]
    },
    {
     "name": "stderr",
     "output_type": "stream",
     "text": [
      "Epoch 0 Loss: 1.4328:  77%|█████████████████████▌      | 385/500 [03:28<00:58,  1.95batch/s]"
     ]
    },
    {
     "name": "stdout",
     "output_type": "stream",
     "text": [
      "1.3279523849487305 tensor(0.) tensor(0.) 0.0 0.0\n"
     ]
    },
    {
     "name": "stderr",
     "output_type": "stream",
     "text": [
      "Epoch 0 Loss: 1.4325:  77%|█████████████████████▌      | 386/500 [03:29<00:59,  1.90batch/s]"
     ]
    },
    {
     "name": "stdout",
     "output_type": "stream",
     "text": [
      "1.1543713808059692 tensor(0.) tensor(0.) 0.0 0.0\n"
     ]
    },
    {
     "name": "stderr",
     "output_type": "stream",
     "text": [
      "Epoch 0 Loss: 1.4318:  77%|█████████████████████▋      | 387/500 [03:29<00:59,  1.90batch/s]"
     ]
    },
    {
     "name": "stdout",
     "output_type": "stream",
     "text": [
      "1.26980721950531 tensor(0.) tensor(0.) 0.0 0.0\n"
     ]
    },
    {
     "name": "stderr",
     "output_type": "stream",
     "text": [
      "Epoch 0 Loss: 1.4314:  78%|█████████████████████▋      | 388/500 [03:30<00:59,  1.87batch/s]"
     ]
    },
    {
     "name": "stdout",
     "output_type": "stream",
     "text": [
      "1.1699920892715454 tensor(0.) tensor(0.) 0.0 0.0\n"
     ]
    },
    {
     "name": "stderr",
     "output_type": "stream",
     "text": [
      "Epoch 0 Loss: 1.4307:  78%|█████████████████████▊      | 389/500 [03:30<01:00,  1.83batch/s]"
     ]
    },
    {
     "name": "stdout",
     "output_type": "stream",
     "text": [
      "1.0718309879302979 tensor(0.) tensor(0.) 0.0 0.0\n"
     ]
    },
    {
     "name": "stderr",
     "output_type": "stream",
     "text": [
      "Epoch 0 Loss: 1.4298:  78%|█████████████████████▊      | 390/500 [03:31<01:01,  1.78batch/s]"
     ]
    },
    {
     "name": "stdout",
     "output_type": "stream",
     "text": [
      "1.0626320838928223 tensor(0.) tensor(0.) 0.0 0.0\n"
     ]
    },
    {
     "name": "stderr",
     "output_type": "stream",
     "text": [
      "Epoch 0 Loss: 1.4289:  78%|█████████████████████▉      | 391/500 [03:31<01:00,  1.81batch/s]"
     ]
    },
    {
     "name": "stdout",
     "output_type": "stream",
     "text": [
      "1.2213754653930664 tensor(0.) tensor(0.) 0.0 0.0\n"
     ]
    },
    {
     "name": "stderr",
     "output_type": "stream",
     "text": [
      "Epoch 0 Loss: 1.4283:  78%|█████████████████████▉      | 392/500 [03:32<00:59,  1.82batch/s]"
     ]
    },
    {
     "name": "stdout",
     "output_type": "stream",
     "text": [
      "1.2432799339294434 tensor(0.) tensor(0.) 0.0 0.0\n"
     ]
    },
    {
     "name": "stderr",
     "output_type": "stream",
     "text": [
      "Epoch 0 Loss: 1.4279:  79%|██████████████████████      | 393/500 [03:33<00:58,  1.84batch/s]"
     ]
    },
    {
     "name": "stdout",
     "output_type": "stream",
     "text": [
      "1.1120566129684448 tensor(0.) tensor(0.) 0.0 0.0\n"
     ]
    },
    {
     "name": "stderr",
     "output_type": "stream",
     "text": [
      "Epoch 0 Loss: 1.4271:  79%|██████████████████████      | 394/500 [03:33<00:58,  1.80batch/s]"
     ]
    },
    {
     "name": "stdout",
     "output_type": "stream",
     "text": [
      "1.4068905115127563 tensor(0.) tensor(0.) 0.0 0.0\n"
     ]
    },
    {
     "name": "stderr",
     "output_type": "stream",
     "text": [
      "Epoch 0 Loss: 1.4270:  79%|██████████████████████      | 395/500 [03:34<00:57,  1.83batch/s]"
     ]
    },
    {
     "name": "stdout",
     "output_type": "stream",
     "text": [
      "1.226962924003601 tensor(0.) tensor(0.) 0.0 0.0\n"
     ]
    },
    {
     "name": "stderr",
     "output_type": "stream",
     "text": [
      "Epoch 0 Loss: 1.4265:  79%|██████████████████████▏     | 396/500 [03:34<00:56,  1.85batch/s]"
     ]
    },
    {
     "name": "stdout",
     "output_type": "stream",
     "text": [
      "1.366105556488037 tensor(0.) tensor(0.) 0.0 0.0\n"
     ]
    },
    {
     "name": "stderr",
     "output_type": "stream",
     "text": [
      "Epoch 0 Loss: 1.4263:  79%|██████████████████████▏     | 397/500 [03:35<00:55,  1.86batch/s]"
     ]
    },
    {
     "name": "stdout",
     "output_type": "stream",
     "text": [
      "1.2495276927947998 tensor(0.) tensor(0.) 0.0 0.0\n"
     ]
    },
    {
     "name": "stderr",
     "output_type": "stream",
     "text": [
      "Epoch 0 Loss: 1.4259:  80%|██████████████████████▎     | 398/500 [03:35<00:54,  1.86batch/s]"
     ]
    },
    {
     "name": "stdout",
     "output_type": "stream",
     "text": [
      "1.1847347021102905 tensor(0.) tensor(0.) 0.0 0.0\n"
     ]
    },
    {
     "name": "stderr",
     "output_type": "stream",
     "text": [
      "Epoch 0 Loss: 1.4253:  80%|██████████████████████▎     | 399/500 [03:36<00:55,  1.82batch/s]"
     ]
    },
    {
     "name": "stdout",
     "output_type": "stream",
     "text": [
      "1.048694133758545 tensor(0.) tensor(0.) 0.0 0.0\n"
     ]
    },
    {
     "name": "stderr",
     "output_type": "stream",
     "text": [
      "Epoch 0 Loss: 1.4244:  80%|██████████████████████▍     | 400/500 [03:36<00:54,  1.82batch/s]"
     ]
    },
    {
     "name": "stdout",
     "output_type": "stream",
     "text": [
      "1.1976507902145386 tensor(0.) tensor(0.) 0.0 0.0\n"
     ]
    },
    {
     "name": "stderr",
     "output_type": "stream",
     "text": [
      "Epoch 0 Loss: 1.4238:  80%|██████████████████████▍     | 401/500 [03:37<00:49,  1.98batch/s]"
     ]
    },
    {
     "name": "stdout",
     "output_type": "stream",
     "text": [
      "1.1114808320999146 tensor(0.) tensor(0.) 0.0 0.0\n"
     ]
    },
    {
     "name": "stderr",
     "output_type": "stream",
     "text": [
      "Epoch 0 Loss: 1.4230:  80%|██████████████████████▌     | 402/500 [03:37<00:51,  1.90batch/s]"
     ]
    },
    {
     "name": "stdout",
     "output_type": "stream",
     "text": [
      "1.234011173248291 tensor(0.) tensor(0.) 0.0 0.0\n"
     ]
    },
    {
     "name": "stderr",
     "output_type": "stream",
     "text": [
      "Epoch 0 Loss: 1.4225:  81%|██████████████████████▌     | 403/500 [03:38<00:51,  1.90batch/s]"
     ]
    },
    {
     "name": "stdout",
     "output_type": "stream",
     "text": [
      "1.1150696277618408 tensor(0.) tensor(0.) 0.0 0.0\n"
     ]
    },
    {
     "name": "stderr",
     "output_type": "stream",
     "text": [
      "Epoch 0 Loss: 1.4218:  81%|██████████████████████▌     | 404/500 [03:38<00:50,  1.89batch/s]"
     ]
    },
    {
     "name": "stdout",
     "output_type": "stream",
     "text": [
      "1.2144898176193237 tensor(0.) tensor(0.) 0.0 0.0\n"
     ]
    },
    {
     "name": "stderr",
     "output_type": "stream",
     "text": [
      "Epoch 0 Loss: 1.4213:  81%|██████████████████████▋     | 405/500 [03:39<00:50,  1.86batch/s]"
     ]
    },
    {
     "name": "stdout",
     "output_type": "stream",
     "text": [
      "1.1050009727478027 tensor(0.) tensor(0.) 0.0 0.0\n"
     ]
    },
    {
     "name": "stderr",
     "output_type": "stream",
     "text": [
      "Epoch 0 Loss: 1.4205:  81%|██████████████████████▋     | 406/500 [03:39<00:50,  1.87batch/s]"
     ]
    },
    {
     "name": "stdout",
     "output_type": "stream",
     "text": [
      "1.2062709331512451 tensor(0.) tensor(0.) 0.0 0.0\n"
     ]
    },
    {
     "name": "stderr",
     "output_type": "stream",
     "text": [
      "Epoch 0 Loss: 1.4200:  81%|██████████████████████▊     | 407/500 [03:40<00:48,  1.91batch/s]"
     ]
    },
    {
     "name": "stdout",
     "output_type": "stream",
     "text": [
      "1.3302791118621826 tensor(0.) tensor(0.) 0.0 0.0\n"
     ]
    },
    {
     "name": "stderr",
     "output_type": "stream",
     "text": [
      "Epoch 0 Loss: 1.4197:  82%|██████████████████████▊     | 408/500 [03:40<00:48,  1.90batch/s]"
     ]
    },
    {
     "name": "stdout",
     "output_type": "stream",
     "text": [
      "1.258719801902771 tensor(0.) tensor(0.) 0.0 0.0\n"
     ]
    },
    {
     "name": "stderr",
     "output_type": "stream",
     "text": [
      "Epoch 0 Loss: 1.4194:  82%|██████████████████████▉     | 409/500 [03:41<00:48,  1.89batch/s]"
     ]
    },
    {
     "name": "stdout",
     "output_type": "stream",
     "text": [
      "1.2186373472213745 tensor(0.) tensor(0.) 0.0 0.0\n"
     ]
    },
    {
     "name": "stderr",
     "output_type": "stream",
     "text": [
      "Epoch 0 Loss: 1.4189:  82%|██████████████████████▉     | 410/500 [03:42<00:46,  1.94batch/s]"
     ]
    },
    {
     "name": "stdout",
     "output_type": "stream",
     "text": [
      "1.229987382888794 tensor(0.) tensor(0.) 0.0 0.0\n"
     ]
    },
    {
     "name": "stderr",
     "output_type": "stream",
     "text": [
      "Epoch 0 Loss: 1.4184:  82%|███████████████████████     | 411/500 [03:42<00:46,  1.90batch/s]"
     ]
    },
    {
     "name": "stdout",
     "output_type": "stream",
     "text": [
      "1.128770351409912 tensor(0.) tensor(0.) 0.0 0.0\n"
     ]
    },
    {
     "name": "stderr",
     "output_type": "stream",
     "text": [
      "Epoch 0 Loss: 1.4177:  82%|███████████████████████     | 412/500 [03:43<00:46,  1.90batch/s]"
     ]
    },
    {
     "name": "stdout",
     "output_type": "stream",
     "text": [
      "1.0814520120620728 tensor(0.) tensor(0.) 0.0 0.0\n"
     ]
    },
    {
     "name": "stderr",
     "output_type": "stream",
     "text": [
      "Epoch 0 Loss: 1.4169:  83%|███████████████████████▏    | 413/500 [03:43<00:47,  1.84batch/s]"
     ]
    },
    {
     "name": "stdout",
     "output_type": "stream",
     "text": [
      "1.1512987613677979 tensor(0.) tensor(0.) 0.0 0.0\n"
     ]
    },
    {
     "name": "stderr",
     "output_type": "stream",
     "text": [
      "Epoch 0 Loss: 1.4162:  83%|███████████████████████▏    | 414/500 [03:44<00:43,  2.00batch/s]"
     ]
    },
    {
     "name": "stdout",
     "output_type": "stream",
     "text": [
      "1.1413980722427368 tensor(0.) tensor(0.) 0.0 0.0\n"
     ]
    },
    {
     "name": "stderr",
     "output_type": "stream",
     "text": [
      "Epoch 0 Loss: 1.4156:  83%|███████████████████████▏    | 415/500 [03:44<00:43,  1.98batch/s]"
     ]
    },
    {
     "name": "stdout",
     "output_type": "stream",
     "text": [
      "1.0553927421569824 tensor(0.) tensor(0.) 0.0 0.0\n"
     ]
    },
    {
     "name": "stderr",
     "output_type": "stream",
     "text": [
      "Epoch 0 Loss: 1.4147:  83%|███████████████████████▎    | 416/500 [03:45<00:43,  1.91batch/s]"
     ]
    },
    {
     "name": "stdout",
     "output_type": "stream",
     "text": [
      "1.3375959396362305 tensor(0.) tensor(0.) 0.0 0.0\n"
     ]
    },
    {
     "name": "stderr",
     "output_type": "stream",
     "text": [
      "Epoch 0 Loss: 1.4145:  83%|███████████████████████▎    | 417/500 [03:45<00:44,  1.86batch/s]"
     ]
    },
    {
     "name": "stdout",
     "output_type": "stream",
     "text": [
      "1.1483772993087769 tensor(0.) tensor(0.) 0.0 0.0\n"
     ]
    },
    {
     "name": "stderr",
     "output_type": "stream",
     "text": [
      "Epoch 0 Loss: 1.4139:  84%|███████████████████████▍    | 418/500 [03:46<00:44,  1.83batch/s]"
     ]
    },
    {
     "name": "stdout",
     "output_type": "stream",
     "text": [
      "1.2321884632110596 tensor(0.) tensor(0.) 0.0 0.0\n"
     ]
    },
    {
     "name": "stderr",
     "output_type": "stream",
     "text": [
      "Epoch 0 Loss: 1.4135:  84%|███████████████████████▍    | 419/500 [03:46<00:41,  1.93batch/s]"
     ]
    },
    {
     "name": "stdout",
     "output_type": "stream",
     "text": [
      "1.1530641317367554 tensor(0.) tensor(0.) 0.0 0.0\n"
     ]
    },
    {
     "name": "stderr",
     "output_type": "stream",
     "text": [
      "Epoch 0 Loss: 1.4128:  84%|███████████████████████▌    | 420/500 [03:47<00:42,  1.87batch/s]"
     ]
    },
    {
     "name": "stdout",
     "output_type": "stream",
     "text": [
      "1.0161038637161255 tensor(0.) tensor(0.) 0.0 0.0\n"
     ]
    },
    {
     "name": "stderr",
     "output_type": "stream",
     "text": [
      "Epoch 0 Loss: 1.4119:  84%|███████████████████████▌    | 421/500 [03:47<00:42,  1.86batch/s]"
     ]
    },
    {
     "name": "stdout",
     "output_type": "stream",
     "text": [
      "0.9794301390647888 tensor(0.) tensor(0.) 0.0 0.0\n"
     ]
    },
    {
     "name": "stderr",
     "output_type": "stream",
     "text": [
      "Epoch 0 Loss: 1.4109:  84%|███████████████████████▋    | 422/500 [03:48<00:42,  1.83batch/s]"
     ]
    },
    {
     "name": "stdout",
     "output_type": "stream",
     "text": [
      "1.2757234573364258 tensor(0.) tensor(0.) 0.0 0.0\n"
     ]
    },
    {
     "name": "stderr",
     "output_type": "stream",
     "text": [
      "Epoch 0 Loss: 1.4106:  85%|███████████████████████▋    | 423/500 [03:48<00:42,  1.82batch/s]"
     ]
    },
    {
     "name": "stdout",
     "output_type": "stream",
     "text": [
      "1.2106621265411377 tensor(0.) tensor(0.) 0.0 0.0\n"
     ]
    },
    {
     "name": "stderr",
     "output_type": "stream",
     "text": [
      "Epoch 0 Loss: 1.4101:  85%|███████████████████████▋    | 424/500 [03:49<00:41,  1.83batch/s]"
     ]
    },
    {
     "name": "stdout",
     "output_type": "stream",
     "text": [
      "1.317287564277649 tensor(0.) tensor(0.) 0.0 0.0\n"
     ]
    },
    {
     "name": "stderr",
     "output_type": "stream",
     "text": [
      "Epoch 0 Loss: 1.4099:  85%|███████████████████████▊    | 425/500 [03:50<00:40,  1.83batch/s]"
     ]
    },
    {
     "name": "stdout",
     "output_type": "stream",
     "text": [
      "1.2628518342971802 tensor(0.) tensor(0.) 0.0 0.0\n"
     ]
    },
    {
     "name": "stderr",
     "output_type": "stream",
     "text": [
      "Epoch 0 Loss: 1.4095:  85%|███████████████████████▊    | 426/500 [03:50<00:40,  1.82batch/s]"
     ]
    },
    {
     "name": "stdout",
     "output_type": "stream",
     "text": [
      "1.1956114768981934 tensor(0.) tensor(0.) 0.0 0.0\n"
     ]
    },
    {
     "name": "stderr",
     "output_type": "stream",
     "text": [
      "Epoch 0 Loss: 1.4090:  85%|███████████████████████▉    | 427/500 [03:51<00:37,  1.95batch/s]"
     ]
    },
    {
     "name": "stdout",
     "output_type": "stream",
     "text": [
      "1.268051028251648 tensor(0.) tensor(0.) 0.0 0.0\n"
     ]
    },
    {
     "name": "stderr",
     "output_type": "stream",
     "text": [
      "Epoch 0 Loss: 1.4087:  86%|███████████████████████▉    | 428/500 [03:51<00:37,  1.92batch/s]"
     ]
    },
    {
     "name": "stdout",
     "output_type": "stream",
     "text": [
      "1.167162299156189 tensor(0.) tensor(0.) 0.0 0.0\n"
     ]
    },
    {
     "name": "stderr",
     "output_type": "stream",
     "text": [
      "Epoch 0 Loss: 1.4081:  86%|████████████████████████    | 429/500 [03:52<00:37,  1.91batch/s]"
     ]
    },
    {
     "name": "stdout",
     "output_type": "stream",
     "text": [
      "1.1945983171463013 tensor(0.) tensor(0.) 0.0 0.0\n"
     ]
    },
    {
     "name": "stderr",
     "output_type": "stream",
     "text": [
      "Epoch 0 Loss: 1.4076:  86%|████████████████████████    | 430/500 [03:52<00:37,  1.87batch/s]"
     ]
    },
    {
     "name": "stdout",
     "output_type": "stream",
     "text": [
      "1.2638033628463745 tensor(0.) tensor(0.) 0.0 0.0\n"
     ]
    },
    {
     "name": "stderr",
     "output_type": "stream",
     "text": [
      "Epoch 0 Loss: 1.4073:  86%|████████████████████████▏   | 431/500 [03:53<00:36,  1.87batch/s]"
     ]
    },
    {
     "name": "stdout",
     "output_type": "stream",
     "text": [
      "1.2396936416625977 tensor(0.) tensor(0.) 0.0 0.0\n"
     ]
    },
    {
     "name": "stderr",
     "output_type": "stream",
     "text": [
      "Epoch 0 Loss: 1.4069:  86%|████████████████████████▏   | 432/500 [03:53<00:37,  1.83batch/s]"
     ]
    },
    {
     "name": "stdout",
     "output_type": "stream",
     "text": [
      "1.1918584108352661 tensor(0.) tensor(0.) 0.0 0.0\n"
     ]
    },
    {
     "name": "stderr",
     "output_type": "stream",
     "text": [
      "Epoch 0 Loss: 1.4064:  87%|████████████████████████▏   | 433/500 [03:54<00:36,  1.85batch/s]"
     ]
    },
    {
     "name": "stdout",
     "output_type": "stream",
     "text": [
      "1.209744930267334 tensor(0.) tensor(0.) 0.0 0.0\n"
     ]
    },
    {
     "name": "stderr",
     "output_type": "stream",
     "text": [
      "Epoch 0 Loss: 1.4060:  87%|████████████████████████▎   | 434/500 [03:54<00:35,  1.86batch/s]"
     ]
    },
    {
     "name": "stdout",
     "output_type": "stream",
     "text": [
      "1.1456233263015747 tensor(0.) tensor(0.) 0.0 0.0\n"
     ]
    },
    {
     "name": "stderr",
     "output_type": "stream",
     "text": [
      "Epoch 0 Loss: 1.4054:  87%|████████████████████████▎   | 435/500 [03:55<00:34,  1.86batch/s]"
     ]
    },
    {
     "name": "stdout",
     "output_type": "stream",
     "text": [
      "1.2170231342315674 tensor(0.) tensor(0.) 0.0 0.0\n"
     ]
    },
    {
     "name": "stderr",
     "output_type": "stream",
     "text": [
      "Epoch 0 Loss: 1.4049:  87%|████████████████████████▍   | 436/500 [03:55<00:34,  1.87batch/s]"
     ]
    },
    {
     "name": "stdout",
     "output_type": "stream",
     "text": [
      "1.108091115951538 tensor(0.) tensor(0.) 0.0 0.0\n"
     ]
    },
    {
     "name": "stderr",
     "output_type": "stream",
     "text": [
      "Epoch 0 Loss: 1.4042:  87%|████████████████████████▍   | 437/500 [03:56<00:33,  1.88batch/s]"
     ]
    },
    {
     "name": "stdout",
     "output_type": "stream",
     "text": [
      "1.2440882921218872 tensor(0.) tensor(0.) 0.0 0.0\n"
     ]
    },
    {
     "name": "stderr",
     "output_type": "stream",
     "text": [
      "Epoch 0 Loss: 1.4039:  88%|████████████████████████▌   | 438/500 [03:56<00:33,  1.88batch/s]"
     ]
    },
    {
     "name": "stdout",
     "output_type": "stream",
     "text": [
      "1.3632577657699585 tensor(0.) tensor(0.) 0.0 0.0\n"
     ]
    },
    {
     "name": "stderr",
     "output_type": "stream",
     "text": [
      "Epoch 0 Loss: 1.4038:  88%|████████████████████████▌   | 439/500 [03:57<00:32,  1.85batch/s]"
     ]
    },
    {
     "name": "stdout",
     "output_type": "stream",
     "text": [
      "1.0440104007720947 tensor(0.) tensor(0.) 0.0 0.0\n"
     ]
    },
    {
     "name": "stderr",
     "output_type": "stream",
     "text": [
      "Epoch 0 Loss: 1.4030:  88%|████████████████████████▋   | 440/500 [03:58<00:32,  1.83batch/s]"
     ]
    },
    {
     "name": "stdout",
     "output_type": "stream",
     "text": [
      "1.1069576740264893 tensor(0.) tensor(0.) 0.0 0.0\n"
     ]
    },
    {
     "name": "stderr",
     "output_type": "stream",
     "text": [
      "Epoch 0 Loss: 1.4023:  88%|████████████████████████▋   | 441/500 [03:58<00:33,  1.78batch/s]"
     ]
    },
    {
     "name": "stdout",
     "output_type": "stream",
     "text": [
      "1.1879510879516602 tensor(0.) tensor(0.) 0.0 0.0\n"
     ]
    },
    {
     "name": "stderr",
     "output_type": "stream",
     "text": [
      "Epoch 0 Loss: 1.4018:  88%|████████████████████████▊   | 442/500 [03:59<00:32,  1.78batch/s]"
     ]
    },
    {
     "name": "stdout",
     "output_type": "stream",
     "text": [
      "1.3617238998413086 tensor(0.) tensor(0.) 0.0 0.0\n"
     ]
    },
    {
     "name": "stderr",
     "output_type": "stream",
     "text": [
      "Epoch 0 Loss: 1.4017:  89%|████████████████████████▊   | 443/500 [03:59<00:31,  1.79batch/s]"
     ]
    },
    {
     "name": "stdout",
     "output_type": "stream",
     "text": [
      "1.1973042488098145 tensor(0.) tensor(0.) 0.0 0.0\n"
     ]
    },
    {
     "name": "stderr",
     "output_type": "stream",
     "text": [
      "Epoch 0 Loss: 1.4013:  89%|████████████████████████▊   | 444/500 [04:00<00:30,  1.81batch/s]"
     ]
    },
    {
     "name": "stdout",
     "output_type": "stream",
     "text": [
      "0.8728606700897217 tensor(0.) tensor(0.) 0.0 0.0\n"
     ]
    },
    {
     "name": "stderr",
     "output_type": "stream",
     "text": [
      "Epoch 0 Loss: 1.4001:  89%|████████████████████████▉   | 445/500 [04:00<00:27,  1.97batch/s]"
     ]
    },
    {
     "name": "stdout",
     "output_type": "stream",
     "text": [
      "1.0720967054367065 tensor(0.) tensor(0.) 0.0 0.0\n"
     ]
    },
    {
     "name": "stderr",
     "output_type": "stream",
     "text": [
      "Epoch 0 Loss: 1.3993:  89%|████████████████████████▉   | 446/500 [04:01<00:27,  1.95batch/s]"
     ]
    },
    {
     "name": "stdout",
     "output_type": "stream",
     "text": [
      "1.1102709770202637 tensor(0.) tensor(0.) 0.0 0.0\n"
     ]
    },
    {
     "name": "stderr",
     "output_type": "stream",
     "text": [
      "Epoch 0 Loss: 1.3987:  89%|█████████████████████████   | 447/500 [04:01<00:27,  1.94batch/s]"
     ]
    },
    {
     "name": "stdout",
     "output_type": "stream",
     "text": [
      "1.1809362173080444 tensor(0.) tensor(0.) 0.0 0.0\n"
     ]
    },
    {
     "name": "stderr",
     "output_type": "stream",
     "text": [
      "Epoch 0 Loss: 1.3982:  90%|█████████████████████████   | 448/500 [04:02<00:27,  1.91batch/s]"
     ]
    },
    {
     "name": "stdout",
     "output_type": "stream",
     "text": [
      "1.3373804092407227 tensor(0.) tensor(0.) 0.0 0.0\n"
     ]
    },
    {
     "name": "stderr",
     "output_type": "stream",
     "text": [
      "Epoch 0 Loss: 1.3981:  90%|█████████████████████████▏  | 449/500 [04:02<00:26,  1.90batch/s]"
     ]
    },
    {
     "name": "stdout",
     "output_type": "stream",
     "text": [
      "0.9920182824134827 tensor(0.) tensor(0.) 0.0 0.0\n"
     ]
    },
    {
     "name": "stderr",
     "output_type": "stream",
     "text": [
      "Epoch 0 Loss: 1.3972:  90%|█████████████████████████▏  | 450/500 [04:03<00:27,  1.85batch/s]"
     ]
    },
    {
     "name": "stdout",
     "output_type": "stream",
     "text": [
      "1.0065274238586426 tensor(0.) tensor(0.) 0.0 0.0\n"
     ]
    },
    {
     "name": "stderr",
     "output_type": "stream",
     "text": [
      "Epoch 0 Loss: 1.3963:  90%|█████████████████████████▎  | 451/500 [04:03<00:25,  1.92batch/s]"
     ]
    },
    {
     "name": "stdout",
     "output_type": "stream",
     "text": [
      "1.0769872665405273 tensor(0.) tensor(0.) 0.0 0.0\n"
     ]
    },
    {
     "name": "stderr",
     "output_type": "stream",
     "text": [
      "Epoch 0 Loss: 1.3956:  90%|█████████████████████████▎  | 452/500 [04:04<00:25,  1.89batch/s]"
     ]
    },
    {
     "name": "stdout",
     "output_type": "stream",
     "text": [
      "1.0804452896118164 tensor(0.) tensor(0.) 0.0 0.0\n"
     ]
    },
    {
     "name": "stderr",
     "output_type": "stream",
     "text": [
      "Epoch 0 Loss: 1.3949:  91%|█████████████████████████▎  | 453/500 [04:04<00:24,  1.90batch/s]"
     ]
    },
    {
     "name": "stdout",
     "output_type": "stream",
     "text": [
      "0.9006149768829346 tensor(0.) tensor(0.) 0.0 0.0\n"
     ]
    },
    {
     "name": "stderr",
     "output_type": "stream",
     "text": [
      "Epoch 0 Loss: 1.3938:  91%|█████████████████████████▍  | 454/500 [04:05<00:24,  1.90batch/s]"
     ]
    },
    {
     "name": "stdout",
     "output_type": "stream",
     "text": [
      "1.0294972658157349 tensor(0.) tensor(0.) 0.0 0.0\n"
     ]
    },
    {
     "name": "stderr",
     "output_type": "stream",
     "text": [
      "Epoch 0 Loss: 1.3930:  91%|█████████████████████████▍  | 455/500 [04:06<00:24,  1.86batch/s]"
     ]
    },
    {
     "name": "stdout",
     "output_type": "stream",
     "text": [
      "1.1187500953674316 tensor(0.) tensor(0.) 0.0 0.0\n"
     ]
    },
    {
     "name": "stderr",
     "output_type": "stream",
     "text": [
      "Epoch 0 Loss: 1.3924:  91%|█████████████████████████▌  | 456/500 [04:06<00:23,  1.87batch/s]"
     ]
    },
    {
     "name": "stdout",
     "output_type": "stream",
     "text": [
      "1.1588653326034546 tensor(0.) tensor(0.) 0.0 0.0\n"
     ]
    },
    {
     "name": "stderr",
     "output_type": "stream",
     "text": [
      "Epoch 0 Loss: 1.3919:  91%|█████████████████████████▌  | 457/500 [04:07<00:22,  1.88batch/s]"
     ]
    },
    {
     "name": "stdout",
     "output_type": "stream",
     "text": [
      "0.9940029382705688 tensor(0.) tensor(0.) 0.0 0.0\n"
     ]
    },
    {
     "name": "stderr",
     "output_type": "stream",
     "text": [
      "Epoch 0 Loss: 1.3910:  92%|█████████████████████████▋  | 458/500 [04:07<00:22,  1.85batch/s]"
     ]
    },
    {
     "name": "stdout",
     "output_type": "stream",
     "text": [
      "0.9486182928085327 tensor(0.) tensor(0.) 0.0 0.0\n"
     ]
    },
    {
     "name": "stderr",
     "output_type": "stream",
     "text": [
      "Epoch 0 Loss: 1.3901:  92%|█████████████████████████▋  | 459/500 [04:08<00:22,  1.85batch/s]"
     ]
    },
    {
     "name": "stdout",
     "output_type": "stream",
     "text": [
      "1.1116762161254883 tensor(0.) tensor(0.) 0.0 0.0\n"
     ]
    },
    {
     "name": "stderr",
     "output_type": "stream",
     "text": [
      "Epoch 0 Loss: 1.3895:  92%|█████████████████████████▊  | 460/500 [04:08<00:21,  1.85batch/s]"
     ]
    },
    {
     "name": "stdout",
     "output_type": "stream",
     "text": [
      "1.1394915580749512 tensor(0.) tensor(0.) 0.0 0.0\n"
     ]
    },
    {
     "name": "stderr",
     "output_type": "stream",
     "text": [
      "Epoch 0 Loss: 1.3889:  92%|█████████████████████████▊  | 461/500 [04:09<00:20,  1.86batch/s]"
     ]
    },
    {
     "name": "stdout",
     "output_type": "stream",
     "text": [
      "1.1656501293182373 tensor(0.) tensor(0.) 0.0 0.0\n"
     ]
    },
    {
     "name": "stderr",
     "output_type": "stream",
     "text": [
      "Epoch 0 Loss: 1.3884:  92%|█████████████████████████▊  | 462/500 [04:09<00:20,  1.86batch/s]"
     ]
    },
    {
     "name": "stdout",
     "output_type": "stream",
     "text": [
      "0.910752534866333 tensor(0.) tensor(0.) 0.0 0.0\n"
     ]
    },
    {
     "name": "stderr",
     "output_type": "stream",
     "text": [
      "Epoch 0 Loss: 1.3874:  93%|█████████████████████████▉  | 463/500 [04:10<00:19,  1.87batch/s]"
     ]
    },
    {
     "name": "stdout",
     "output_type": "stream",
     "text": [
      "0.9495410919189453 tensor(0.) tensor(0.) 0.0 0.0\n"
     ]
    },
    {
     "name": "stderr",
     "output_type": "stream",
     "text": [
      "Epoch 0 Loss: 1.3865:  93%|█████████████████████████▉  | 464/500 [04:10<00:19,  1.84batch/s]"
     ]
    },
    {
     "name": "stdout",
     "output_type": "stream",
     "text": [
      "1.0618401765823364 tensor(0.) tensor(0.) 0.0 0.0\n"
     ]
    },
    {
     "name": "stderr",
     "output_type": "stream",
     "text": [
      "Epoch 0 Loss: 1.3858:  93%|██████████████████████████  | 465/500 [04:11<00:19,  1.82batch/s]"
     ]
    },
    {
     "name": "stdout",
     "output_type": "stream",
     "text": [
      "1.175076961517334 tensor(0.) tensor(0.) 0.0 0.0\n"
     ]
    },
    {
     "name": "stderr",
     "output_type": "stream",
     "text": [
      "Epoch 0 Loss: 1.3853:  93%|██████████████████████████  | 466/500 [04:12<00:18,  1.80batch/s]"
     ]
    },
    {
     "name": "stdout",
     "output_type": "stream",
     "text": [
      "0.8479385375976562 tensor(0.) tensor(0.) 0.0 0.0\n"
     ]
    },
    {
     "name": "stderr",
     "output_type": "stream",
     "text": [
      "Epoch 0 Loss: 1.3842:  93%|██████████████████████████▏ | 467/500 [04:12<00:18,  1.79batch/s]"
     ]
    },
    {
     "name": "stdout",
     "output_type": "stream",
     "text": [
      "1.2944953441619873 tensor(0.) tensor(0.) 0.0 0.0\n"
     ]
    },
    {
     "name": "stderr",
     "output_type": "stream",
     "text": [
      "Epoch 0 Loss: 1.3840:  94%|██████████████████████████▏ | 468/500 [04:13<00:17,  1.79batch/s]"
     ]
    },
    {
     "name": "stdout",
     "output_type": "stream",
     "text": [
      "1.1685194969177246 tensor(0.) tensor(0.) 0.0 0.0\n"
     ]
    },
    {
     "name": "stderr",
     "output_type": "stream",
     "text": [
      "Epoch 0 Loss: 1.3835:  94%|██████████████████████████▎ | 469/500 [04:13<00:17,  1.79batch/s]"
     ]
    },
    {
     "name": "stdout",
     "output_type": "stream",
     "text": [
      "1.1628631353378296 tensor(0.) tensor(0.) 0.0 0.0\n"
     ]
    },
    {
     "name": "stderr",
     "output_type": "stream",
     "text": [
      "Epoch 0 Loss: 1.3830:  94%|██████████████████████████▎ | 470/500 [04:14<00:16,  1.79batch/s]"
     ]
    },
    {
     "name": "stdout",
     "output_type": "stream",
     "text": [
      "1.1703026294708252 tensor(0.) tensor(0.) 0.0 0.0\n"
     ]
    },
    {
     "name": "stderr",
     "output_type": "stream",
     "text": [
      "Epoch 0 Loss: 1.3826:  94%|██████████████████████████▍ | 471/500 [04:14<00:16,  1.78batch/s]"
     ]
    },
    {
     "name": "stdout",
     "output_type": "stream",
     "text": [
      "0.9788689613342285 tensor(0.) tensor(0.) 0.0 0.0\n"
     ]
    },
    {
     "name": "stderr",
     "output_type": "stream",
     "text": [
      "Epoch 0 Loss: 1.3817:  94%|██████████████████████████▍ | 472/500 [04:15<00:15,  1.80batch/s]"
     ]
    },
    {
     "name": "stdout",
     "output_type": "stream",
     "text": [
      "1.1127305030822754 tensor(0.) tensor(0.) 0.0 0.0\n"
     ]
    },
    {
     "name": "stderr",
     "output_type": "stream",
     "text": [
      "Epoch 0 Loss: 1.3812:  95%|██████████████████████████▍ | 473/500 [04:15<00:15,  1.80batch/s]"
     ]
    },
    {
     "name": "stdout",
     "output_type": "stream",
     "text": [
      "1.1688144207000732 tensor(0.) tensor(0.) 0.0 0.0\n"
     ]
    },
    {
     "name": "stderr",
     "output_type": "stream",
     "text": [
      "Epoch 0 Loss: 1.3807:  95%|██████████████████████████▌ | 474/500 [04:16<00:14,  1.79batch/s]"
     ]
    },
    {
     "name": "stdout",
     "output_type": "stream",
     "text": [
      "1.0843755006790161 tensor(0.) tensor(0.) 0.0 0.0\n"
     ]
    },
    {
     "name": "stderr",
     "output_type": "stream",
     "text": [
      "Epoch 0 Loss: 1.3801:  95%|██████████████████████████▌ | 475/500 [04:17<00:13,  1.86batch/s]"
     ]
    },
    {
     "name": "stdout",
     "output_type": "stream",
     "text": [
      "1.4414680004119873 tensor(0.) tensor(0.) 0.0 0.0\n"
     ]
    },
    {
     "name": "stderr",
     "output_type": "stream",
     "text": [
      "Epoch 0 Loss: 1.3802:  95%|██████████████████████████▋ | 476/500 [04:17<00:12,  1.85batch/s]"
     ]
    },
    {
     "name": "stdout",
     "output_type": "stream",
     "text": [
      "1.3134838342666626 tensor(0.) tensor(0.) 0.0 0.0\n"
     ]
    },
    {
     "name": "stderr",
     "output_type": "stream",
     "text": [
      "Epoch 0 Loss: 1.3801:  95%|██████████████████████████▋ | 477/500 [04:18<00:12,  1.83batch/s]"
     ]
    },
    {
     "name": "stdout",
     "output_type": "stream",
     "text": [
      "0.9994127750396729 tensor(0.) tensor(0.) 0.0 0.0\n"
     ]
    },
    {
     "name": "stderr",
     "output_type": "stream",
     "text": [
      "Epoch 0 Loss: 1.3793:  96%|██████████████████████████▊ | 478/500 [04:18<00:11,  1.86batch/s]"
     ]
    },
    {
     "name": "stdout",
     "output_type": "stream",
     "text": [
      "1.2275570631027222 tensor(0.) tensor(0.) 0.0 0.0\n"
     ]
    },
    {
     "name": "stderr",
     "output_type": "stream",
     "text": [
      "Epoch 0 Loss: 1.3790:  96%|██████████████████████████▊ | 479/500 [04:19<00:11,  1.85batch/s]"
     ]
    },
    {
     "name": "stdout",
     "output_type": "stream",
     "text": [
      "1.2105454206466675 tensor(0.) tensor(0.) 0.0 0.0\n"
     ]
    },
    {
     "name": "stderr",
     "output_type": "stream",
     "text": [
      "Epoch 0 Loss: 1.3786:  96%|██████████████████████████▉ | 480/500 [04:19<00:10,  1.99batch/s]"
     ]
    },
    {
     "name": "stdout",
     "output_type": "stream",
     "text": [
      "1.0202898979187012 tensor(0.) tensor(0.) 0.0 0.0\n"
     ]
    },
    {
     "name": "stderr",
     "output_type": "stream",
     "text": [
      "Epoch 0 Loss: 1.3779:  96%|██████████████████████████▉ | 481/500 [04:20<00:09,  1.98batch/s]"
     ]
    },
    {
     "name": "stdout",
     "output_type": "stream",
     "text": [
      "1.1740105152130127 tensor(0.) tensor(0.) 0.0 0.0\n"
     ]
    },
    {
     "name": "stderr",
     "output_type": "stream",
     "text": [
      "Epoch 0 Loss: 1.3774:  96%|██████████████████████████▉ | 482/500 [04:20<00:09,  1.94batch/s]"
     ]
    },
    {
     "name": "stdout",
     "output_type": "stream",
     "text": [
      "1.0698668956756592 tensor(0.) tensor(0.) 0.0 0.0\n"
     ]
    },
    {
     "name": "stderr",
     "output_type": "stream",
     "text": [
      "Epoch 0 Loss: 1.3768:  97%|███████████████████████████ | 483/500 [04:21<00:08,  2.04batch/s]"
     ]
    },
    {
     "name": "stdout",
     "output_type": "stream",
     "text": [
      "1.080295443534851 tensor(0.) tensor(0.) 0.0 0.0\n"
     ]
    },
    {
     "name": "stderr",
     "output_type": "stream",
     "text": [
      "Epoch 0 Loss: 1.3762:  97%|███████████████████████████ | 484/500 [04:21<00:08,  1.95batch/s]"
     ]
    },
    {
     "name": "stdout",
     "output_type": "stream",
     "text": [
      "1.103662133216858 tensor(0.) tensor(0.) 0.0 0.0\n"
     ]
    },
    {
     "name": "stderr",
     "output_type": "stream",
     "text": [
      "Epoch 0 Loss: 1.3756:  97%|███████████████████████████▏| 485/500 [04:22<00:07,  1.93batch/s]"
     ]
    },
    {
     "name": "stdout",
     "output_type": "stream",
     "text": [
      "1.134097933769226 tensor(0.) tensor(0.) 0.0 0.0\n"
     ]
    },
    {
     "name": "stderr",
     "output_type": "stream",
     "text": [
      "Epoch 0 Loss: 1.3751:  97%|███████████████████████████▏| 486/500 [04:22<00:07,  1.86batch/s]"
     ]
    },
    {
     "name": "stdout",
     "output_type": "stream",
     "text": [
      "1.1733853816986084 tensor(0.) tensor(0.) 0.0 0.0\n"
     ]
    },
    {
     "name": "stderr",
     "output_type": "stream",
     "text": [
      "Epoch 0 Loss: 1.3747:  97%|███████████████████████████▎| 487/500 [04:23<00:07,  1.83batch/s]"
     ]
    },
    {
     "name": "stdout",
     "output_type": "stream",
     "text": [
      "1.0582560300827026 tensor(0.) tensor(0.) 0.0 0.0\n"
     ]
    },
    {
     "name": "stderr",
     "output_type": "stream",
     "text": [
      "Epoch 0 Loss: 1.3741:  98%|███████████████████████████▎| 488/500 [04:23<00:06,  1.82batch/s]"
     ]
    },
    {
     "name": "stdout",
     "output_type": "stream",
     "text": [
      "1.0665818452835083 tensor(0.) tensor(0.) 0.0 0.0\n"
     ]
    },
    {
     "name": "stderr",
     "output_type": "stream",
     "text": [
      "Epoch 0 Loss: 1.3734:  98%|███████████████████████████▍| 489/500 [04:24<00:06,  1.81batch/s]"
     ]
    },
    {
     "name": "stdout",
     "output_type": "stream",
     "text": [
      "1.0549252033233643 tensor(0.) tensor(0.) 0.0 0.0\n"
     ]
    },
    {
     "name": "stderr",
     "output_type": "stream",
     "text": [
      "Epoch 0 Loss: 1.3728:  98%|███████████████████████████▍| 490/500 [04:25<00:05,  1.79batch/s]"
     ]
    },
    {
     "name": "stdout",
     "output_type": "stream",
     "text": [
      "0.9988608360290527 tensor(0.) tensor(0.) 0.0 0.0\n"
     ]
    },
    {
     "name": "stderr",
     "output_type": "stream",
     "text": [
      "Epoch 0 Loss: 1.3720:  98%|███████████████████████████▍| 491/500 [04:25<00:05,  1.80batch/s]"
     ]
    },
    {
     "name": "stdout",
     "output_type": "stream",
     "text": [
      "1.1443876028060913 tensor(0.) tensor(0.) 0.0 0.0\n"
     ]
    },
    {
     "name": "stderr",
     "output_type": "stream",
     "text": [
      "Epoch 0 Loss: 1.3716:  98%|███████████████████████████▌| 492/500 [04:26<00:04,  1.76batch/s]"
     ]
    },
    {
     "name": "stdout",
     "output_type": "stream",
     "text": [
      "1.2223920822143555 tensor(0.) tensor(0.) 0.0 0.0\n"
     ]
    },
    {
     "name": "stderr",
     "output_type": "stream",
     "text": [
      "Epoch 0 Loss: 1.3713:  99%|███████████████████████████▌| 493/500 [04:26<00:03,  1.79batch/s]"
     ]
    },
    {
     "name": "stdout",
     "output_type": "stream",
     "text": [
      "1.1210410594940186 tensor(0.) tensor(0.) 0.0 0.0\n"
     ]
    },
    {
     "name": "stderr",
     "output_type": "stream",
     "text": [
      "Epoch 0 Loss: 1.3708:  99%|███████████████████████████▋| 494/500 [04:27<00:03,  1.79batch/s]"
     ]
    },
    {
     "name": "stdout",
     "output_type": "stream",
     "text": [
      "0.9498849511146545 tensor(0.) tensor(0.) 0.0 0.0\n"
     ]
    },
    {
     "name": "stderr",
     "output_type": "stream",
     "text": [
      "Epoch 0 Loss: 1.3699:  99%|███████████████████████████▋| 495/500 [04:27<00:02,  1.92batch/s]"
     ]
    },
    {
     "name": "stdout",
     "output_type": "stream",
     "text": [
      "1.2407463788986206 tensor(0.) tensor(0.) 0.0 0.0\n"
     ]
    },
    {
     "name": "stderr",
     "output_type": "stream",
     "text": [
      "Epoch 0 Loss: 1.3697:  99%|███████████████████████████▊| 496/500 [04:28<00:02,  1.85batch/s]"
     ]
    },
    {
     "name": "stdout",
     "output_type": "stream",
     "text": [
      "0.8850506544113159 tensor(0.) tensor(0.) 0.0 0.0\n"
     ]
    },
    {
     "name": "stderr",
     "output_type": "stream",
     "text": [
      "Epoch 0 Loss: 1.3687:  99%|███████████████████████████▊| 497/500 [04:28<00:01,  1.84batch/s]"
     ]
    },
    {
     "name": "stdout",
     "output_type": "stream",
     "text": [
      "0.9953700304031372 tensor(0.) tensor(0.) 0.0 0.0\n"
     ]
    },
    {
     "name": "stderr",
     "output_type": "stream",
     "text": [
      "Epoch 0 Loss: 1.3679: 100%|███████████████████████████▉| 498/500 [04:29<00:01,  1.85batch/s]"
     ]
    },
    {
     "name": "stdout",
     "output_type": "stream",
     "text": [
      "0.9710793495178223 tensor(0.) tensor(0.) 0.0 0.0\n"
     ]
    },
    {
     "name": "stderr",
     "output_type": "stream",
     "text": [
      "Epoch 0 Loss: 1.3671: 100%|███████████████████████████▉| 499/500 [04:29<00:00,  1.85batch/s]"
     ]
    },
    {
     "name": "stdout",
     "output_type": "stream",
     "text": [
      "1.1117222309112549 tensor(0.) tensor(0.) 0.0 0.0\n"
     ]
    },
    {
     "name": "stderr",
     "output_type": "stream",
     "text": [
      "Epoch 0 Loss: 1.3666: 100%|████████████████████████████| 500/500 [04:30<00:00,  1.85batch/s]"
     ]
    },
    {
     "name": "stdout",
     "output_type": "stream",
     "text": [
      "Teacher Training Loss: 1.366624853014946\n"
     ]
    },
    {
     "name": "stderr",
     "output_type": "stream",
     "text": [
      "\n",
      "Epoch 0 Loss: 2.2937:   0%|                              | 1/500 [00:00<02:26,  3.40batch/s]"
     ]
    },
    {
     "name": "stdout",
     "output_type": "stream",
     "text": [
      "2.2937428951263428 tensor(0.) tensor(0.) 0.0 0.0\n",
      "2.294928789138794 tensor(0.) tensor(0.) 0.0 0.0\n"
     ]
    },
    {
     "name": "stderr",
     "output_type": "stream",
     "text": [
      "Epoch 0 Loss: 2.2955:   1%|▏                             | 3/500 [00:00<01:35,  5.22batch/s]"
     ]
    },
    {
     "name": "stdout",
     "output_type": "stream",
     "text": [
      "2.297715187072754 tensor(0.) tensor(0.) 0.0 0.0\n",
      "2.2034668922424316 tensor(0.) tensor(0.) 0.0 0.0\n"
     ]
    },
    {
     "name": "stderr",
     "output_type": "stream",
     "text": [
      "Epoch 0 Loss: 2.2266:   1%|▎                             | 5/500 [00:01<01:22,  6.03batch/s]"
     ]
    },
    {
     "name": "stdout",
     "output_type": "stream",
     "text": [
      "2.137061595916748 tensor(0.) tensor(0.) 0.0 0.0\n",
      "2.1329665184020996 tensor(0.) tensor(0.) 0.0 0.0\n"
     ]
    },
    {
     "name": "stderr",
     "output_type": "stream",
     "text": [
      "Epoch 0 Loss: 2.1851:   1%|▍                             | 7/500 [00:01<01:14,  6.60batch/s]"
     ]
    },
    {
     "name": "stdout",
     "output_type": "stream",
     "text": [
      "2.0762598514556885 tensor(0.) tensor(0.) 0.0 0.0\n",
      "2.0449631214141846 tensor(0.) tensor(0.) 0.0 0.0\n"
     ]
    },
    {
     "name": "stderr",
     "output_type": "stream",
     "text": [
      "Epoch 0 Loss: 2.1646:   2%|▌                             | 9/500 [00:01<01:08,  7.16batch/s]"
     ]
    },
    {
     "name": "stdout",
     "output_type": "stream",
     "text": [
      "2.0003843307495117 tensor(0.) tensor(0.) 0.0 0.0\n",
      "2.0743846893310547 tensor(0.) tensor(0.) 0.0 0.0\n"
     ]
    },
    {
     "name": "stderr",
     "output_type": "stream",
     "text": [
      "Epoch 0 Loss: 2.1495:   2%|▋                            | 11/500 [00:01<01:11,  6.82batch/s]"
     ]
    },
    {
     "name": "stdout",
     "output_type": "stream",
     "text": [
      "2.0890893936157227 tensor(0.) tensor(0.) 0.0 0.0\n",
      "1.9630355834960938 tensor(0.) tensor(0.) 0.0 0.0\n"
     ]
    },
    {
     "name": "stderr",
     "output_type": "stream",
     "text": [
      "Epoch 0 Loss: 2.1246:   3%|▊                            | 13/500 [00:02<01:11,  6.77batch/s]"
     ]
    },
    {
     "name": "stdout",
     "output_type": "stream",
     "text": [
      "2.011180877685547 tensor(0.) tensor(0.) 0.0 0.0\n",
      "1.9142717123031616 tensor(0.) tensor(0.) 0.0 0.0\n"
     ]
    },
    {
     "name": "stderr",
     "output_type": "stream",
     "text": [
      "Epoch 0 Loss: 2.1057:   3%|▊                            | 15/500 [00:02<01:10,  6.86batch/s]"
     ]
    },
    {
     "name": "stdout",
     "output_type": "stream",
     "text": [
      "2.051778793334961 tensor(0.) tensor(0.) 0.0 0.0\n",
      "1.8676468133926392 tensor(0.) tensor(0.) 0.0 0.0\n"
     ]
    },
    {
     "name": "stderr",
     "output_type": "stream",
     "text": [
      "Epoch 0 Loss: 2.0783:   3%|▉                            | 17/500 [00:02<01:09,  6.92batch/s]"
     ]
    },
    {
     "name": "stdout",
     "output_type": "stream",
     "text": [
      "1.878791332244873 tensor(0.) tensor(0.) 0.0 0.0\n",
      "1.8610132932662964 tensor(0.) tensor(0.) 0.0 0.0\n"
     ]
    },
    {
     "name": "stderr",
     "output_type": "stream",
     "text": [
      "Epoch 0 Loss: 2.0618:   4%|█                            | 19/500 [00:02<01:10,  6.84batch/s]"
     ]
    },
    {
     "name": "stdout",
     "output_type": "stream",
     "text": [
      "1.9824621677398682 tensor(0.) tensor(0.) 0.0 0.0\n",
      "1.927830457687378 tensor(0.) tensor(0.) 0.0 0.0\n"
     ]
    },
    {
     "name": "stderr",
     "output_type": "stream",
     "text": [
      "Epoch 0 Loss: 2.0437:   4%|█▏                           | 21/500 [00:03<01:09,  6.85batch/s]"
     ]
    },
    {
     "name": "stdout",
     "output_type": "stream",
     "text": [
      "1.8137595653533936 tensor(0.) tensor(0.) 0.0 0.0\n",
      "1.9106031656265259 tensor(0.) tensor(0.) 0.0 0.0\n"
     ]
    },
    {
     "name": "stderr",
     "output_type": "stream",
     "text": [
      "Epoch 0 Loss: 2.0277:   5%|█▎                           | 23/500 [00:03<01:14,  6.40batch/s]"
     ]
    },
    {
     "name": "stdout",
     "output_type": "stream",
     "text": [
      "1.8102816343307495 tensor(0.) tensor(0.) 0.0 0.0\n",
      "1.7558250427246094 tensor(0.) tensor(0.) 0.0 0.0\n"
     ]
    },
    {
     "name": "stderr",
     "output_type": "stream",
     "text": [
      "Epoch 0 Loss: 2.0099:   5%|█▍                           | 25/500 [00:03<01:14,  6.35batch/s]"
     ]
    },
    {
     "name": "stdout",
     "output_type": "stream",
     "text": [
      "1.8542648553848267 tensor(0.) tensor(0.) 0.0 0.0\n",
      "1.7610756158828735 tensor(0.) tensor(0.) 0.0 0.0\n"
     ]
    },
    {
     "name": "stderr",
     "output_type": "stream",
     "text": [
      "Epoch 0 Loss: 1.9952:   5%|█▌                           | 27/500 [00:04<01:12,  6.51batch/s]"
     ]
    },
    {
     "name": "stdout",
     "output_type": "stream",
     "text": [
      "1.8621302843093872 tensor(0.) tensor(0.) 0.0 0.0\n",
      "1.9102592468261719 tensor(0.) tensor(0.) 0.0 0.0\n"
     ]
    },
    {
     "name": "stderr",
     "output_type": "stream",
     "text": [
      "Epoch 0 Loss: 1.9863:   6%|█▋                           | 29/500 [00:04<01:11,  6.61batch/s]"
     ]
    },
    {
     "name": "stdout",
     "output_type": "stream",
     "text": [
      "1.8209986686706543 tensor(0.) tensor(0.) 0.0 0.0\n",
      "1.7843716144561768 tensor(0.) tensor(0.) 0.0 0.0\n"
     ]
    },
    {
     "name": "stderr",
     "output_type": "stream",
     "text": [
      "Epoch 0 Loss: 1.9755:   6%|█▊                           | 31/500 [00:04<01:10,  6.64batch/s]"
     ]
    },
    {
     "name": "stdout",
     "output_type": "stream",
     "text": [
      "1.8536922931671143 tensor(0.) tensor(0.) 0.0 0.0\n",
      "1.8046717643737793 tensor(0.) tensor(0.) 0.0 0.0\n"
     ]
    },
    {
     "name": "stderr",
     "output_type": "stream",
     "text": [
      "Epoch 0 Loss: 1.9610:   7%|█▉                           | 33/500 [00:05<01:11,  6.55batch/s]"
     ]
    },
    {
     "name": "stdout",
     "output_type": "stream",
     "text": [
      "1.667138695716858 tensor(0.) tensor(0.) 0.0 0.0\n",
      "1.8042429685592651 tensor(0.) tensor(0.) 0.0 0.0\n"
     ]
    },
    {
     "name": "stderr",
     "output_type": "stream",
     "text": [
      "Epoch 0 Loss: 1.9507:   7%|██                           | 35/500 [00:05<01:07,  6.90batch/s]"
     ]
    },
    {
     "name": "stdout",
     "output_type": "stream",
     "text": [
      "1.853234052658081 tensor(0.) tensor(0.) 0.0 0.0\n",
      "1.8546321392059326 tensor(0.) tensor(0.) 0.0 0.0\n"
     ]
    },
    {
     "name": "stderr",
     "output_type": "stream",
     "text": [
      "Epoch 0 Loss: 1.9436:   7%|██▏                          | 37/500 [00:05<01:01,  7.49batch/s]"
     ]
    },
    {
     "name": "stdout",
     "output_type": "stream",
     "text": [
      "1.6893047094345093 tensor(0.) tensor(0.) 0.0 0.0\n",
      "1.8410649299621582 tensor(0.) tensor(0.) 0.0 0.0\n"
     ]
    },
    {
     "name": "stderr",
     "output_type": "stream",
     "text": [
      "Epoch 0 Loss: 1.9362:   8%|██▎                          | 39/500 [00:05<01:10,  6.51batch/s]"
     ]
    },
    {
     "name": "stdout",
     "output_type": "stream",
     "text": [
      "1.7580446004867554 tensor(0.) tensor(0.) 0.0 0.0\n",
      "1.9187370538711548 tensor(0.) tensor(0.) 0.0 0.0\n"
     ]
    },
    {
     "name": "stderr",
     "output_type": "stream",
     "text": [
      "Epoch 0 Loss: 1.9315:   8%|██▍                          | 41/500 [00:06<01:11,  6.45batch/s]"
     ]
    },
    {
     "name": "stdout",
     "output_type": "stream",
     "text": [
      "1.7596455812454224 tensor(0.) tensor(0.) 0.0 0.0\n",
      "1.754994511604309 tensor(0.) tensor(0.) 0.0 0.0\n"
     ]
    },
    {
     "name": "stderr",
     "output_type": "stream",
     "text": [
      "Epoch 0 Loss: 1.9210:   9%|██▍                          | 43/500 [00:06<01:11,  6.41batch/s]"
     ]
    },
    {
     "name": "stdout",
     "output_type": "stream",
     "text": [
      "1.6828110218048096 tensor(0.) tensor(0.) 0.0 0.0\n",
      "1.8967809677124023 tensor(0.) tensor(0.) 0.0 0.0\n",
      "1.7534462213516235 tensor(0.) tensor(0.) 0.0 0.0\n"
     ]
    },
    {
     "name": "stderr",
     "output_type": "stream",
     "text": [
      "Epoch 0 Loss: 1.9084:   9%|██▋                          | 46/500 [00:06<00:52,  8.59batch/s]"
     ]
    },
    {
     "name": "stdout",
     "output_type": "stream",
     "text": [
      "1.6928292512893677 tensor(0.) tensor(0.) 0.0 0.0\n",
      "1.725273609161377 tensor(0.) tensor(0.) 0.0 0.0\n"
     ]
    },
    {
     "name": "stderr",
     "output_type": "stream",
     "text": [
      "Epoch 0 Loss: 1.9030:  10%|██▊                          | 48/500 [00:07<00:52,  8.61batch/s]"
     ]
    },
    {
     "name": "stdout",
     "output_type": "stream",
     "text": [
      "1.6468831300735474 tensor(0.) tensor(0.) 0.0 0.0\n",
      "1.661780834197998 tensor(0.) tensor(0.) 0.0 0.0\n"
     ]
    },
    {
     "name": "stderr",
     "output_type": "stream",
     "text": [
      "Epoch 0 Loss: 1.8883:  10%|██▉                          | 51/500 [00:07<00:52,  8.52batch/s]"
     ]
    },
    {
     "name": "stdout",
     "output_type": "stream",
     "text": [
      "1.6940147876739502 tensor(0.) tensor(0.) 0.0 0.0\n",
      "1.602026104927063 tensor(0.) tensor(0.) 0.0 0.0\n"
     ]
    },
    {
     "name": "stderr",
     "output_type": "stream",
     "text": [
      "Epoch 0 Loss: 1.8846:  10%|███                          | 52/500 [00:07<00:54,  8.23batch/s]"
     ]
    },
    {
     "name": "stdout",
     "output_type": "stream",
     "text": [
      "1.696214199066162 tensor(0.) tensor(0.) 0.0 0.0\n",
      "1.7082345485687256 tensor(0.) tensor(0.) 0.0 0.0\n"
     ]
    },
    {
     "name": "stderr",
     "output_type": "stream",
     "text": [
      "Epoch 0 Loss: 1.8786:  11%|███▏                         | 54/500 [00:07<01:01,  7.23batch/s]"
     ]
    },
    {
     "name": "stdout",
     "output_type": "stream",
     "text": [
      "1.7379993200302124 tensor(0.) tensor(0.) 0.0 0.0\n",
      "1.7447952032089233 tensor(0.) tensor(0.) 0.0 0.0\n"
     ]
    },
    {
     "name": "stderr",
     "output_type": "stream",
     "text": [
      "Epoch 0 Loss: 1.8723:  11%|███▏                         | 56/500 [00:08<01:04,  6.85batch/s]"
     ]
    },
    {
     "name": "stdout",
     "output_type": "stream",
     "text": [
      "1.6622995138168335 tensor(0.) tensor(0.) 0.0 0.0\n",
      "1.8149867057800293 tensor(0.) tensor(0.) 0.0 0.0\n"
     ]
    },
    {
     "name": "stderr",
     "output_type": "stream",
     "text": [
      "Epoch 0 Loss: 1.8682:  12%|███▎                         | 58/500 [00:08<01:04,  6.87batch/s]"
     ]
    },
    {
     "name": "stdout",
     "output_type": "stream",
     "text": [
      "1.6869159936904907 tensor(0.) tensor(0.) 0.0 0.0\n",
      "1.6112860441207886 tensor(0.) tensor(0.) 0.0 0.0\n"
     ]
    },
    {
     "name": "stderr",
     "output_type": "stream",
     "text": [
      "Epoch 0 Loss: 1.8599:  12%|███▍                         | 60/500 [00:08<01:06,  6.66batch/s]"
     ]
    },
    {
     "name": "stdout",
     "output_type": "stream",
     "text": [
      "1.627739667892456 tensor(0.) tensor(0.) 0.0 0.0\n",
      "1.7630103826522827 tensor(0.) tensor(0.) 0.0 0.0\n"
     ]
    },
    {
     "name": "stderr",
     "output_type": "stream",
     "text": [
      "Epoch 0 Loss: 1.8554:  12%|███▌                         | 62/500 [00:09<01:05,  6.66batch/s]"
     ]
    },
    {
     "name": "stdout",
     "output_type": "stream",
     "text": [
      "1.6765016317367554 tensor(0.) tensor(0.) 0.0 0.0\n",
      "1.727816104888916 tensor(0.) tensor(0.) 0.0 0.0\n"
     ]
    },
    {
     "name": "stderr",
     "output_type": "stream",
     "text": [
      "Epoch 0 Loss: 1.8540:  13%|███▋                         | 64/500 [00:09<01:05,  6.64batch/s]"
     ]
    },
    {
     "name": "stdout",
     "output_type": "stream",
     "text": [
      "1.8974097967147827 tensor(0.) tensor(0.) 0.0 0.0\n",
      "1.7197442054748535 tensor(0.) tensor(0.) 0.0 0.0\n"
     ]
    },
    {
     "name": "stderr",
     "output_type": "stream",
     "text": [
      "Epoch 0 Loss: 1.8489:  13%|███▊                         | 66/500 [00:09<01:04,  6.77batch/s]"
     ]
    },
    {
     "name": "stdout",
     "output_type": "stream",
     "text": [
      "1.6486114263534546 tensor(0.) tensor(0.) 0.0 0.0\n",
      "1.6710195541381836 tensor(0.) tensor(0.) 0.0 0.0\n"
     ]
    },
    {
     "name": "stderr",
     "output_type": "stream",
     "text": [
      "Epoch 0 Loss: 1.8429:  14%|████                         | 69/500 [00:10<01:01,  7.04batch/s]"
     ]
    },
    {
     "name": "stdout",
     "output_type": "stream",
     "text": [
      "1.7204196453094482 tensor(0.) tensor(0.) 0.0 0.0\n",
      "1.742250680923462 tensor(0.) tensor(0.) 0.0 0.0\n"
     ]
    },
    {
     "name": "stderr",
     "output_type": "stream",
     "text": [
      "Epoch 0 Loss: 1.8401:  14%|████                         | 70/500 [00:10<01:02,  6.86batch/s]"
     ]
    },
    {
     "name": "stdout",
     "output_type": "stream",
     "text": [
      "1.645811915397644 tensor(0.) tensor(0.) 0.0 0.0\n",
      "1.6837424039840698 tensor(0.) tensor(0.) 0.0 0.0\n"
     ]
    },
    {
     "name": "stderr",
     "output_type": "stream",
     "text": [
      "Epoch 0 Loss: 1.8351:  14%|████▏                        | 72/500 [00:10<01:00,  7.11batch/s]"
     ]
    },
    {
     "name": "stdout",
     "output_type": "stream",
     "text": [
      "1.642098069190979 tensor(0.) tensor(0.) 0.0 0.0\n",
      "1.4712669849395752 tensor(0.) tensor(0.) 0.0 0.0\n"
     ]
    },
    {
     "name": "stderr",
     "output_type": "stream",
     "text": [
      "Epoch 0 Loss: 1.8283:  15%|████▎                        | 74/500 [00:10<00:59,  7.17batch/s]"
     ]
    },
    {
     "name": "stdout",
     "output_type": "stream",
     "text": [
      "1.6943130493164062 tensor(0.) tensor(0.) 0.0 0.0\n",
      "1.6621752977371216 tensor(0.) tensor(0.) 0.0 0.0\n"
     ]
    },
    {
     "name": "stderr",
     "output_type": "stream",
     "text": [
      "Epoch 0 Loss: 1.8207:  15%|████▍                        | 76/500 [00:11<01:01,  6.87batch/s]"
     ]
    },
    {
     "name": "stdout",
     "output_type": "stream",
     "text": [
      "1.6183199882507324 tensor(0.) tensor(0.) 0.0 0.0\n",
      "1.6206748485565186 tensor(0.) tensor(0.) 0.0 0.0\n"
     ]
    },
    {
     "name": "stderr",
     "output_type": "stream",
     "text": [
      "Epoch 0 Loss: 1.8150:  16%|████▌                        | 79/500 [00:11<00:52,  8.07batch/s]"
     ]
    },
    {
     "name": "stdout",
     "output_type": "stream",
     "text": [
      "1.6003574132919312 tensor(0.) tensor(0.) 0.0 0.0\n",
      "1.5880711078643799 tensor(0.) tensor(0.) 0.0 0.0\n"
     ]
    },
    {
     "name": "stderr",
     "output_type": "stream",
     "text": [
      "Epoch 0 Loss: 1.8121:  16%|████▋                        | 80/500 [00:11<00:52,  8.04batch/s]"
     ]
    },
    {
     "name": "stdout",
     "output_type": "stream",
     "text": [
      "1.5789157152175903 tensor(0.) tensor(0.) 0.0 0.0\n",
      "1.538621187210083 tensor(0.) tensor(0.) 0.0 0.0\n"
     ]
    },
    {
     "name": "stderr",
     "output_type": "stream",
     "text": [
      "Epoch 0 Loss: 1.8078:  16%|████▊                        | 82/500 [00:11<00:55,  7.56batch/s]"
     ]
    },
    {
     "name": "stdout",
     "output_type": "stream",
     "text": [
      "1.7351950407028198 tensor(0.) tensor(0.) 0.0 0.0\n",
      "1.6805282831192017 tensor(0.) tensor(0.) 0.0 0.0\n"
     ]
    },
    {
     "name": "stderr",
     "output_type": "stream",
     "text": [
      "Epoch 0 Loss: 1.8038:  17%|████▊                        | 84/500 [00:12<00:57,  7.29batch/s]"
     ]
    },
    {
     "name": "stdout",
     "output_type": "stream",
     "text": [
      "1.6010022163391113 tensor(0.) tensor(0.) 0.0 0.0\n",
      "1.6129244565963745 tensor(0.) tensor(0.) 0.0 0.0\n"
     ]
    },
    {
     "name": "stderr",
     "output_type": "stream",
     "text": [
      "Epoch 0 Loss: 1.7963:  17%|█████                        | 87/500 [00:12<00:52,  7.90batch/s]"
     ]
    },
    {
     "name": "stdout",
     "output_type": "stream",
     "text": [
      "1.5513319969177246 tensor(0.) tensor(0.) 0.0 0.0\n",
      "1.5898817777633667 tensor(0.) tensor(0.) 0.0 0.0\n"
     ]
    },
    {
     "name": "stderr",
     "output_type": "stream",
     "text": [
      "Epoch 0 Loss: 1.7935:  18%|█████                        | 88/500 [00:12<00:52,  7.88batch/s]"
     ]
    },
    {
     "name": "stdout",
     "output_type": "stream",
     "text": [
      "1.551824927330017 tensor(0.) tensor(0.) 0.0 0.0\n",
      "1.6278303861618042 tensor(0.) tensor(0.) 0.0 0.0\n"
     ]
    },
    {
     "name": "stderr",
     "output_type": "stream",
     "text": [
      "Epoch 0 Loss: 1.7865:  18%|█████▏                       | 90/500 [00:12<00:54,  7.46batch/s]"
     ]
    },
    {
     "name": "stdout",
     "output_type": "stream",
     "text": [
      "1.4352177381515503 tensor(0.) tensor(0.) 0.0 0.0\n",
      "1.6818089485168457 tensor(0.) tensor(0.) 0.0 0.0\n"
     ]
    },
    {
     "name": "stderr",
     "output_type": "stream",
     "text": [
      "Epoch 0 Loss: 1.7799:  19%|█████▍                       | 93/500 [00:13<00:43,  9.43batch/s]"
     ]
    },
    {
     "name": "stdout",
     "output_type": "stream",
     "text": [
      "1.621495246887207 tensor(0.) tensor(0.) 0.0 0.0\n",
      "1.5589396953582764 tensor(0.) tensor(0.) 0.0 0.0\n",
      "1.5591557025909424 tensor(0.) tensor(0.) 0.0 0.0\n"
     ]
    },
    {
     "name": "stderr",
     "output_type": "stream",
     "text": [
      "Epoch 0 Loss: 1.7782:  19%|█████▌                       | 95/500 [00:13<00:41,  9.71batch/s]"
     ]
    },
    {
     "name": "stdout",
     "output_type": "stream",
     "text": [
      "1.6178854703903198 tensor(0.) tensor(0.) 0.0 0.0\n",
      "1.427871584892273 tensor(0.) tensor(0.) 0.0 0.0\n"
     ]
    },
    {
     "name": "stderr",
     "output_type": "stream",
     "text": [
      "Epoch 0 Loss: 1.7695:  20%|█████▋                       | 98/500 [00:13<00:42,  9.57batch/s]"
     ]
    },
    {
     "name": "stdout",
     "output_type": "stream",
     "text": [
      "1.4572964906692505 tensor(0.) tensor(0.) 0.0 0.0\n",
      "1.5936607122421265 tensor(0.) tensor(0.) 0.0 0.0\n"
     ]
    },
    {
     "name": "stderr",
     "output_type": "stream",
     "text": [
      "Epoch 0 Loss: 1.7670:  20%|█████▌                      | 100/500 [00:13<00:36, 10.92batch/s]"
     ]
    },
    {
     "name": "stdout",
     "output_type": "stream",
     "text": [
      "1.5754623413085938 tensor(0.) tensor(0.) 0.0 0.0\n",
      "1.7204796075820923 tensor(0.) tensor(0.) 0.0 0.0\n",
      "1.759618878364563 tensor(0.) tensor(0.) 0.0 0.0\n"
     ]
    },
    {
     "name": "stderr",
     "output_type": "stream",
     "text": [
      "Epoch 0 Loss: 1.7608:  20%|█████▋                      | 102/500 [00:14<00:40,  9.93batch/s]"
     ]
    },
    {
     "name": "stdout",
     "output_type": "stream",
     "text": [
      "1.4858518838882446 tensor(0.) tensor(0.) 0.0 0.0\n",
      "1.4107319116592407 tensor(0.) tensor(0.) 0.0 0.0\n"
     ]
    },
    {
     "name": "stderr",
     "output_type": "stream",
     "text": [
      "Epoch 0 Loss: 1.7580:  21%|█████▉                      | 105/500 [00:14<00:41,  9.46batch/s]"
     ]
    },
    {
     "name": "stdout",
     "output_type": "stream",
     "text": [
      "1.7197206020355225 tensor(0.) tensor(0.) 0.0 0.0\n",
      "1.5124750137329102 tensor(0.) tensor(0.) 0.0 0.0\n"
     ]
    },
    {
     "name": "stderr",
     "output_type": "stream",
     "text": [
      "Epoch 0 Loss: 1.7537:  21%|█████▉                      | 107/500 [00:14<00:39,  9.88batch/s]"
     ]
    },
    {
     "name": "stdout",
     "output_type": "stream",
     "text": [
      "1.4354722499847412 tensor(0.) tensor(0.) 0.0 0.0\n",
      "1.6196554899215698 tensor(0.) tensor(0.) 0.0 0.0\n"
     ]
    },
    {
     "name": "stderr",
     "output_type": "stream",
     "text": [
      "Epoch 0 Loss: 1.7519:  22%|██████                      | 108/500 [00:14<00:44,  8.85batch/s]"
     ]
    },
    {
     "name": "stdout",
     "output_type": "stream",
     "text": [
      "1.5593265295028687 tensor(0.) tensor(0.) 0.0 0.0\n",
      "1.6623765230178833 tensor(0.) tensor(0.) 0.0 0.0\n"
     ]
    },
    {
     "name": "stderr",
     "output_type": "stream",
     "text": [
      "Epoch 0 Loss: 1.7488:  22%|██████▏                     | 111/500 [00:15<00:43,  8.84batch/s]"
     ]
    },
    {
     "name": "stdout",
     "output_type": "stream",
     "text": [
      "1.507116675376892 tensor(0.) tensor(0.) 0.0 0.0\n",
      "1.740590214729309 tensor(0.) tensor(0.) 0.0 0.0\n"
     ]
    },
    {
     "name": "stderr",
     "output_type": "stream",
     "text": [
      "Epoch 0 Loss: 1.7431:  22%|██████▎                     | 112/500 [00:15<00:48,  8.01batch/s]"
     ]
    },
    {
     "name": "stdout",
     "output_type": "stream",
     "text": [
      "1.3710112571716309 tensor(0.) tensor(0.) 0.0 0.0\n",
      "1.4862496852874756 tensor(0.) tensor(0.) 0.0 0.0\n"
     ]
    },
    {
     "name": "stderr",
     "output_type": "stream",
     "text": [
      "Epoch 0 Loss: 1.7420:  23%|██████▍                     | 114/500 [00:15<00:45,  8.52batch/s]"
     ]
    },
    {
     "name": "stdout",
     "output_type": "stream",
     "text": [
      "1.613123893737793 tensor(0.) tensor(0.) 0.0 0.0\n",
      "1.6698628664016724 tensor(0.) tensor(0.) 0.0 0.0\n"
     ]
    },
    {
     "name": "stderr",
     "output_type": "stream",
     "text": [
      "Epoch 0 Loss: 1.7402:  23%|██████▍                     | 116/500 [00:15<00:50,  7.55batch/s]"
     ]
    },
    {
     "name": "stdout",
     "output_type": "stream",
     "text": [
      "1.6086370944976807 tensor(0.) tensor(0.) 0.0 0.0\n",
      "1.3928436040878296 tensor(0.) tensor(0.) 0.0 0.0\n"
     ]
    },
    {
     "name": "stderr",
     "output_type": "stream",
     "text": [
      "Epoch 0 Loss: 1.7358:  24%|██████▌                     | 118/500 [00:15<00:50,  7.60batch/s]"
     ]
    },
    {
     "name": "stdout",
     "output_type": "stream",
     "text": [
      "1.5653471946716309 tensor(0.) tensor(0.) 0.0 0.0\n",
      "1.6992628574371338 tensor(0.) tensor(0.) 0.0 0.0\n"
     ]
    },
    {
     "name": "stderr",
     "output_type": "stream",
     "text": [
      "Epoch 0 Loss: 1.7344:  24%|██████▊                     | 121/500 [00:16<00:48,  7.78batch/s]"
     ]
    },
    {
     "name": "stdout",
     "output_type": "stream",
     "text": [
      "1.7280534505844116 tensor(0.) tensor(0.) 0.0 0.0\n",
      "1.6139931678771973 tensor(0.) tensor(0.) 0.0 0.0\n"
     ]
    },
    {
     "name": "stderr",
     "output_type": "stream",
     "text": [
      "Epoch 0 Loss: 1.7309:  25%|██████▉                     | 123/500 [00:16<00:40,  9.34batch/s]"
     ]
    },
    {
     "name": "stdout",
     "output_type": "stream",
     "text": [
      "1.6107821464538574 tensor(0.) tensor(0.) 0.0 0.0\n",
      "1.4263149499893188 tensor(0.) tensor(0.) 0.0 0.0\n",
      "1.5368083715438843 tensor(0.) tensor(0.) 0.0 0.0\n"
     ]
    },
    {
     "name": "stderr",
     "output_type": "stream",
     "text": [
      "Epoch 0 Loss: 1.7292:  25%|███████                     | 125/500 [00:16<00:46,  8.14batch/s]"
     ]
    },
    {
     "name": "stdout",
     "output_type": "stream",
     "text": [
      "1.709646463394165 tensor(0.) tensor(0.) 0.0 0.0\n",
      "1.387565016746521 tensor(0.) tensor(0.) 0.0 0.0\n"
     ]
    },
    {
     "name": "stderr",
     "output_type": "stream",
     "text": [
      "Epoch 0 Loss: 1.7243:  25%|███████                     | 127/500 [00:17<00:48,  7.70batch/s]"
     ]
    },
    {
     "name": "stdout",
     "output_type": "stream",
     "text": [
      "1.4530757665634155 tensor(0.) tensor(0.) 0.0 0.0\n",
      "1.5954588651657104 tensor(0.) tensor(0.) 0.0 0.0\n"
     ]
    },
    {
     "name": "stderr",
     "output_type": "stream",
     "text": [
      "Epoch 0 Loss: 1.7227:  26%|███████▏                    | 129/500 [00:17<00:49,  7.43batch/s]"
     ]
    },
    {
     "name": "stdout",
     "output_type": "stream",
     "text": [
      "1.6466724872589111 tensor(0.) tensor(0.) 0.0 0.0\n",
      "1.4711750745773315 tensor(0.) tensor(0.) 0.0 0.0\n"
     ]
    },
    {
     "name": "stderr",
     "output_type": "stream",
     "text": [
      "Epoch 0 Loss: 1.7199:  26%|███████▎                    | 131/500 [00:17<00:49,  7.39batch/s]"
     ]
    },
    {
     "name": "stdout",
     "output_type": "stream",
     "text": [
      "1.6085342168807983 tensor(0.) tensor(0.) 0.0 0.0\n",
      "1.579900860786438 tensor(0.) tensor(0.) 0.0 0.0\n"
     ]
    },
    {
     "name": "stderr",
     "output_type": "stream",
     "text": [
      "Epoch 0 Loss: 1.7182:  27%|███████▍                    | 133/500 [00:17<00:52,  7.03batch/s]"
     ]
    },
    {
     "name": "stdout",
     "output_type": "stream",
     "text": [
      "1.623517632484436 tensor(0.) tensor(0.) 0.0 0.0\n",
      "1.4037355184555054 tensor(0.) tensor(0.) 0.0 0.0\n"
     ]
    },
    {
     "name": "stderr",
     "output_type": "stream",
     "text": [
      "Epoch 0 Loss: 1.7135:  27%|███████▌                    | 135/500 [00:18<00:52,  6.94batch/s]"
     ]
    },
    {
     "name": "stdout",
     "output_type": "stream",
     "text": [
      "1.4084597826004028 tensor(0.) tensor(0.) 0.0 0.0\n",
      "1.4775923490524292 tensor(0.) tensor(0.) 0.0 0.0\n"
     ]
    },
    {
     "name": "stderr",
     "output_type": "stream",
     "text": [
      "Epoch 0 Loss: 1.7103:  27%|███████▋                    | 137/500 [00:18<00:53,  6.77batch/s]"
     ]
    },
    {
     "name": "stdout",
     "output_type": "stream",
     "text": [
      "1.5063230991363525 tensor(0.) tensor(0.) 0.0 0.0\n",
      "1.391777515411377 tensor(0.) tensor(0.) 0.0 0.0\n"
     ]
    },
    {
     "name": "stderr",
     "output_type": "stream",
     "text": [
      "Epoch 0 Loss: 1.7064:  28%|███████▊                    | 139/500 [00:18<00:51,  6.97batch/s]"
     ]
    },
    {
     "name": "stdout",
     "output_type": "stream",
     "text": [
      "1.4890681505203247 tensor(0.) tensor(0.) 0.0 0.0\n",
      "1.6196961402893066 tensor(0.) tensor(0.) 0.0 0.0\n"
     ]
    },
    {
     "name": "stderr",
     "output_type": "stream",
     "text": [
      "Epoch 0 Loss: 1.7048:  28%|███████▉                    | 141/500 [00:19<00:53,  6.65batch/s]"
     ]
    },
    {
     "name": "stdout",
     "output_type": "stream",
     "text": [
      "1.5653561353683472 tensor(0.) tensor(0.) 0.0 0.0\n",
      "1.6074459552764893 tensor(0.) tensor(0.) 0.0 0.0\n"
     ]
    },
    {
     "name": "stderr",
     "output_type": "stream",
     "text": [
      "Epoch 0 Loss: 1.7025:  29%|████████                    | 143/500 [00:19<00:51,  6.96batch/s]"
     ]
    },
    {
     "name": "stdout",
     "output_type": "stream",
     "text": [
      "1.6511106491088867 tensor(0.) tensor(0.) 0.0 0.0\n",
      "1.5197185277938843 tensor(0.) tensor(0.) 0.0 0.0\n"
     ]
    },
    {
     "name": "stderr",
     "output_type": "stream",
     "text": [
      "Epoch 0 Loss: 1.6988:  29%|████████▏                   | 146/500 [00:19<00:40,  8.72batch/s]"
     ]
    },
    {
     "name": "stdout",
     "output_type": "stream",
     "text": [
      "1.4146928787231445 tensor(0.) tensor(0.) 0.0 0.0\n",
      "1.4621522426605225 tensor(0.) tensor(0.) 0.0 0.0\n"
     ]
    },
    {
     "name": "stderr",
     "output_type": "stream",
     "text": [
      "Epoch 0 Loss: 1.6971:  29%|████████▏                   | 147/500 [00:19<00:44,  7.95batch/s]"
     ]
    },
    {
     "name": "stdout",
     "output_type": "stream",
     "text": [
      "1.4444563388824463 tensor(0.) tensor(0.) 0.0 0.0\n",
      "1.497145175933838 tensor(0.) tensor(0.) 0.0 0.0\n"
     ]
    },
    {
     "name": "stderr",
     "output_type": "stream",
     "text": [
      "Epoch 0 Loss: 1.6933:  30%|████████▎                   | 149/500 [00:20<00:44,  7.97batch/s]"
     ]
    },
    {
     "name": "stdout",
     "output_type": "stream",
     "text": [
      "1.3222343921661377 tensor(0.) tensor(0.) 0.0 0.0\n",
      "1.6644630432128906 tensor(0.) tensor(0.) 0.0 0.0\n"
     ]
    },
    {
     "name": "stderr",
     "output_type": "stream",
     "text": [
      "Epoch 0 Loss: 1.6930:  30%|████████▍                   | 151/500 [00:20<00:46,  7.49batch/s]"
     ]
    },
    {
     "name": "stdout",
     "output_type": "stream",
     "text": [
      "1.678907871246338 tensor(0.) tensor(0.) 0.0 0.0\n",
      "1.4316378831863403 tensor(0.) tensor(0.) 0.0 0.0\n"
     ]
    },
    {
     "name": "stderr",
     "output_type": "stream",
     "text": [
      "Epoch 0 Loss: 1.6894:  31%|████████▌                   | 153/500 [00:20<00:50,  6.81batch/s]"
     ]
    },
    {
     "name": "stdout",
     "output_type": "stream",
     "text": [
      "1.4036768674850464 tensor(0.) tensor(0.) 0.0 0.0\n",
      "1.5994901657104492 tensor(0.) tensor(0.) 0.0 0.0\n"
     ]
    },
    {
     "name": "stderr",
     "output_type": "stream",
     "text": [
      "Epoch 0 Loss: 1.6862:  31%|████████▋                   | 156/500 [00:21<00:46,  7.37batch/s]"
     ]
    },
    {
     "name": "stdout",
     "output_type": "stream",
     "text": [
      "1.5388436317443848 tensor(0.) tensor(0.) 0.0 0.0\n",
      "1.4396045207977295 tensor(0.) tensor(0.) 0.0 0.0\n"
     ]
    },
    {
     "name": "stderr",
     "output_type": "stream",
     "text": [
      "Epoch 0 Loss: 1.6845:  31%|████████▊                   | 157/500 [00:21<00:48,  7.08batch/s]"
     ]
    },
    {
     "name": "stdout",
     "output_type": "stream",
     "text": [
      "1.410660982131958 tensor(0.) tensor(0.) 0.0 0.0\n",
      "1.3206732273101807 tensor(0.) tensor(0.) 0.0 0.0\n"
     ]
    },
    {
     "name": "stderr",
     "output_type": "stream",
     "text": [
      "Epoch 0 Loss: 1.6820:  32%|████████▉                   | 160/500 [00:21<00:45,  7.49batch/s]"
     ]
    },
    {
     "name": "stdout",
     "output_type": "stream",
     "text": [
      "1.6084685325622559 tensor(0.) tensor(0.) 0.0 0.0\n",
      "1.7274683713912964 tensor(0.) tensor(0.) 0.0 0.0\n"
     ]
    },
    {
     "name": "stderr",
     "output_type": "stream",
     "text": [
      "Epoch 0 Loss: 1.6807:  32%|█████████                   | 161/500 [00:21<00:45,  7.49batch/s]"
     ]
    },
    {
     "name": "stdout",
     "output_type": "stream",
     "text": [
      "1.4768486022949219 tensor(0.) tensor(0.) 0.0 0.0\n",
      "1.5297458171844482 tensor(0.) tensor(0.) 0.0 0.0\n"
     ]
    },
    {
     "name": "stderr",
     "output_type": "stream",
     "text": [
      "Epoch 0 Loss: 1.6783:  33%|█████████▏                  | 163/500 [00:22<00:46,  7.22batch/s]"
     ]
    },
    {
     "name": "stdout",
     "output_type": "stream",
     "text": [
      "1.4431167840957642 tensor(0.) tensor(0.) 0.0 0.0\n",
      "1.4326571226119995 tensor(0.) tensor(0.) 0.0 0.0\n"
     ]
    },
    {
     "name": "stderr",
     "output_type": "stream",
     "text": [
      "Epoch 0 Loss: 1.6757:  33%|█████████▏                  | 165/500 [00:22<00:46,  7.21batch/s]"
     ]
    },
    {
     "name": "stdout",
     "output_type": "stream",
     "text": [
      "1.4870578050613403 tensor(0.) tensor(0.) 0.0 0.0\n",
      "1.4488564729690552 tensor(0.) tensor(0.) 0.0 0.0\n"
     ]
    },
    {
     "name": "stderr",
     "output_type": "stream",
     "text": [
      "Epoch 0 Loss: 1.6728:  33%|█████████▎                  | 167/500 [00:22<00:47,  7.01batch/s]"
     ]
    },
    {
     "name": "stdout",
     "output_type": "stream",
     "text": [
      "1.4240155220031738 tensor(0.) tensor(0.) 0.0 0.0\n",
      "1.570999264717102 tensor(0.) tensor(0.) 0.0 0.0\n"
     ]
    },
    {
     "name": "stderr",
     "output_type": "stream",
     "text": [
      "Epoch 0 Loss: 1.6691:  34%|█████████▌                  | 170/500 [00:23<00:40,  8.07batch/s]"
     ]
    },
    {
     "name": "stdout",
     "output_type": "stream",
     "text": [
      "1.460159420967102 tensor(0.) tensor(0.) 0.0 0.0\n",
      "1.355288028717041 tensor(0.) tensor(0.) 0.0 0.0\n",
      "1.6271998882293701 tensor(0.) tensor(0.) 0.0 0.0\n"
     ]
    },
    {
     "name": "stderr",
     "output_type": "stream",
     "text": [
      "Epoch 0 Loss: 1.6673:  35%|█████████▋                  | 173/500 [00:23<00:38,  8.46batch/s]"
     ]
    },
    {
     "name": "stdout",
     "output_type": "stream",
     "text": [
      "1.4926550388336182 tensor(0.) tensor(0.) 0.0 0.0\n",
      "1.5736087560653687 tensor(0.) tensor(0.) 0.0 0.0\n"
     ]
    },
    {
     "name": "stderr",
     "output_type": "stream",
     "text": [
      "Epoch 0 Loss: 1.6665:  35%|█████████▊                  | 175/500 [00:23<00:39,  8.25batch/s]"
     ]
    },
    {
     "name": "stdout",
     "output_type": "stream",
     "text": [
      "1.6294697523117065 tensor(0.) tensor(0.) 0.0 0.0\n",
      "1.5586752891540527 tensor(0.) tensor(0.) 0.0 0.0\n"
     ]
    },
    {
     "name": "stderr",
     "output_type": "stream",
     "text": [
      "Epoch 0 Loss: 1.6652:  35%|█████████▊                  | 176/500 [00:23<00:41,  7.74batch/s]"
     ]
    },
    {
     "name": "stdout",
     "output_type": "stream",
     "text": [
      "1.4405800104141235 tensor(0.) tensor(0.) 0.0 0.0\n",
      "1.583064317703247 tensor(0.) tensor(0.) 0.0 0.0\n"
     ]
    },
    {
     "name": "stderr",
     "output_type": "stream",
     "text": [
      "Epoch 0 Loss: 1.6630:  36%|█████████▉                  | 178/500 [00:24<00:44,  7.16batch/s]"
     ]
    },
    {
     "name": "stdout",
     "output_type": "stream",
     "text": [
      "1.3600833415985107 tensor(0.) tensor(0.) 0.0 0.0\n",
      "1.6085805892944336 tensor(0.) tensor(0.) 0.0 0.0\n"
     ]
    },
    {
     "name": "stderr",
     "output_type": "stream",
     "text": [
      "Epoch 0 Loss: 1.6615:  36%|██████████                  | 180/500 [00:24<00:43,  7.30batch/s]"
     ]
    },
    {
     "name": "stdout",
     "output_type": "stream",
     "text": [
      "1.4539155960083008 tensor(0.) tensor(0.) 0.0 0.0\n",
      "1.470557451248169 tensor(0.) tensor(0.) 0.0 0.0\n"
     ]
    },
    {
     "name": "stderr",
     "output_type": "stream",
     "text": [
      "Epoch 0 Loss: 1.6601:  36%|██████████▏                 | 182/500 [00:24<00:43,  7.26batch/s]"
     ]
    },
    {
     "name": "stdout",
     "output_type": "stream",
     "text": [
      "1.5951286554336548 tensor(0.) tensor(0.) 0.0 0.0\n",
      "1.4982796907424927 tensor(0.) tensor(0.) 0.0 0.0\n"
     ]
    },
    {
     "name": "stderr",
     "output_type": "stream",
     "text": [
      "Epoch 0 Loss: 1.6558:  37%|██████████▎                 | 184/500 [00:24<00:45,  7.02batch/s]"
     ]
    },
    {
     "name": "stdout",
     "output_type": "stream",
     "text": [
      "1.312708854675293 tensor(0.) tensor(0.) 0.0 0.0\n",
      "1.3753116130828857 tensor(0.) tensor(0.) 0.0 0.0\n"
     ]
    },
    {
     "name": "stderr",
     "output_type": "stream",
     "text": [
      "Epoch 0 Loss: 1.6526:  37%|██████████▍                 | 186/500 [00:25<00:43,  7.16batch/s]"
     ]
    },
    {
     "name": "stdout",
     "output_type": "stream",
     "text": [
      "1.3124783039093018 tensor(0.) tensor(0.) 0.0 0.0\n",
      "1.3949776887893677 tensor(0.) tensor(0.) 0.0 0.0\n"
     ]
    },
    {
     "name": "stderr",
     "output_type": "stream",
     "text": [
      "Epoch 0 Loss: 1.6524:  38%|██████████▌                 | 188/500 [00:25<00:41,  7.50batch/s]"
     ]
    },
    {
     "name": "stdout",
     "output_type": "stream",
     "text": [
      "1.6127345561981201 tensor(0.) tensor(0.) 0.0 0.0\n",
      "1.3478436470031738 tensor(0.) tensor(0.) 0.0 0.0\n"
     ]
    },
    {
     "name": "stderr",
     "output_type": "stream",
     "text": [
      "Epoch 0 Loss: 1.6495:  38%|██████████▋                 | 190/500 [00:25<00:39,  7.84batch/s]"
     ]
    },
    {
     "name": "stdout",
     "output_type": "stream",
     "text": [
      "1.5146909952163696 tensor(0.) tensor(0.) 0.0 0.0\n",
      "1.5534826517105103 tensor(0.) tensor(0.) 0.0 0.0\n",
      "1.380914330482483 tensor(0.) tensor(0.) 0.0 0.0\n"
     ]
    },
    {
     "name": "stderr",
     "output_type": "stream",
     "text": [
      "Epoch 0 Loss: 1.6473:  39%|██████████▊                 | 193/500 [00:25<00:37,  8.22batch/s]"
     ]
    },
    {
     "name": "stdout",
     "output_type": "stream",
     "text": [
      "1.4912729263305664 tensor(0.) tensor(0.) 0.0 0.0\n",
      "1.3735451698303223 tensor(0.) tensor(0.) 0.0 0.0\n"
     ]
    },
    {
     "name": "stderr",
     "output_type": "stream",
     "text": [
      "Epoch 0 Loss: 1.6450:  39%|██████████▉                 | 195/500 [00:26<00:42,  7.22batch/s]"
     ]
    },
    {
     "name": "stdout",
     "output_type": "stream",
     "text": [
      "1.4708102941513062 tensor(0.) tensor(0.) 0.0 0.0\n",
      "1.4552181959152222 tensor(0.) tensor(0.) 0.0 0.0\n"
     ]
    },
    {
     "name": "stderr",
     "output_type": "stream",
     "text": [
      "Epoch 0 Loss: 1.6424:  39%|███████████                 | 197/500 [00:26<00:41,  7.26batch/s]"
     ]
    },
    {
     "name": "stdout",
     "output_type": "stream",
     "text": [
      "1.313033938407898 tensor(0.) tensor(0.) 0.0 0.0\n",
      "1.465227484703064 tensor(0.) tensor(0.) 0.0 0.0\n"
     ]
    },
    {
     "name": "stderr",
     "output_type": "stream",
     "text": [
      "Epoch 0 Loss: 1.6404:  40%|███████████▏                | 199/500 [00:26<00:41,  7.18batch/s]"
     ]
    },
    {
     "name": "stdout",
     "output_type": "stream",
     "text": [
      "1.4268553256988525 tensor(0.) tensor(0.) 0.0 0.0\n",
      "1.4689651727676392 tensor(0.) tensor(0.) 0.0 0.0\n"
     ]
    },
    {
     "name": "stderr",
     "output_type": "stream",
     "text": [
      "Epoch 0 Loss: 1.6382:  40%|███████████▎                | 201/500 [00:27<00:42,  7.10batch/s]"
     ]
    },
    {
     "name": "stdout",
     "output_type": "stream",
     "text": [
      "1.3772741556167603 tensor(0.) tensor(0.) 0.0 0.0\n",
      "1.1502898931503296 tensor(0.) tensor(0.) 0.0 0.0\n"
     ]
    },
    {
     "name": "stderr",
     "output_type": "stream",
     "text": [
      "Epoch 0 Loss: 1.6352:  41%|███████████▎                | 203/500 [00:27<00:41,  7.22batch/s]"
     ]
    },
    {
     "name": "stdout",
     "output_type": "stream",
     "text": [
      "1.5133426189422607 tensor(0.) tensor(0.) 0.0 0.0\n",
      "1.3430556058883667 tensor(0.) tensor(0.) 0.0 0.0\n"
     ]
    },
    {
     "name": "stderr",
     "output_type": "stream",
     "text": [
      "Epoch 0 Loss: 1.6337:  41%|███████████▍                | 205/500 [00:27<00:41,  7.19batch/s]"
     ]
    },
    {
     "name": "stdout",
     "output_type": "stream",
     "text": [
      "1.614374041557312 tensor(0.) tensor(0.) 0.0 0.0\n",
      "1.2631865739822388 tensor(0.) tensor(0.) 0.0 0.0\n"
     ]
    },
    {
     "name": "stderr",
     "output_type": "stream",
     "text": [
      "Epoch 0 Loss: 1.6304:  41%|███████████▌                | 207/500 [00:28<00:43,  6.81batch/s]"
     ]
    },
    {
     "name": "stdout",
     "output_type": "stream",
     "text": [
      "1.3219796419143677 tensor(0.) tensor(0.) 0.0 0.0\n",
      "1.3562904596328735 tensor(0.) tensor(0.) 0.0 0.0\n"
     ]
    },
    {
     "name": "stderr",
     "output_type": "stream",
     "text": [
      "Epoch 0 Loss: 1.6289:  42%|███████████▋                | 209/500 [00:28<00:45,  6.45batch/s]"
     ]
    },
    {
     "name": "stdout",
     "output_type": "stream",
     "text": [
      "1.5968842506408691 tensor(0.) tensor(0.) 0.0 0.0\n",
      "1.5285981893539429 tensor(0.) tensor(0.) 0.0 0.0\n"
     ]
    },
    {
     "name": "stderr",
     "output_type": "stream",
     "text": [
      "Epoch 0 Loss: 1.6267:  42%|███████████▊                | 212/500 [00:28<00:40,  7.16batch/s]"
     ]
    },
    {
     "name": "stdout",
     "output_type": "stream",
     "text": [
      "1.4508723020553589 tensor(0.) tensor(0.) 0.0 0.0\n",
      "1.4426459074020386 tensor(0.) tensor(0.) 0.0 0.0\n"
     ]
    },
    {
     "name": "stderr",
     "output_type": "stream",
     "text": [
      "Epoch 0 Loss: 1.6260:  43%|███████████▉                | 213/500 [00:28<00:40,  7.17batch/s]"
     ]
    },
    {
     "name": "stdout",
     "output_type": "stream",
     "text": [
      "1.471055507659912 tensor(0.) tensor(0.) 0.0 0.0\n",
      "1.6489677429199219 tensor(0.) tensor(0.) 0.0 0.0\n"
     ]
    },
    {
     "name": "stderr",
     "output_type": "stream",
     "text": [
      "Epoch 0 Loss: 1.6255:  43%|████████████                | 215/500 [00:29<00:41,  6.86batch/s]"
     ]
    },
    {
     "name": "stdout",
     "output_type": "stream",
     "text": [
      "1.5042750835418701 tensor(0.) tensor(0.) 0.0 0.0\n",
      "1.3767160177230835 tensor(0.) tensor(0.) 0.0 0.0\n"
     ]
    },
    {
     "name": "stderr",
     "output_type": "stream",
     "text": [
      "Epoch 0 Loss: 1.6225:  44%|████████████▏               | 218/500 [00:29<00:39,  7.15batch/s]"
     ]
    },
    {
     "name": "stdout",
     "output_type": "stream",
     "text": [
      "1.3945804834365845 tensor(0.) tensor(0.) 0.0 0.0\n",
      "1.4486684799194336 tensor(0.) tensor(0.) 0.0 0.0\n"
     ]
    },
    {
     "name": "stderr",
     "output_type": "stream",
     "text": [
      "Epoch 0 Loss: 1.6207:  44%|████████████▎               | 220/500 [00:29<00:31,  8.85batch/s]"
     ]
    },
    {
     "name": "stdout",
     "output_type": "stream",
     "text": [
      "1.4630013704299927 tensor(0.) tensor(0.) 0.0 0.0\n",
      "1.386985421180725 tensor(0.) tensor(0.) 0.0 0.0\n",
      "1.454259991645813 tensor(0.) tensor(0.) 0.0 0.0\n"
     ]
    },
    {
     "name": "stderr",
     "output_type": "stream",
     "text": [
      "Epoch 0 Loss: 1.6198:  44%|████████████▍               | 222/500 [00:30<00:36,  7.67batch/s]"
     ]
    },
    {
     "name": "stdout",
     "output_type": "stream",
     "text": [
      "1.586326003074646 tensor(0.) tensor(0.) 0.0 0.0\n",
      "1.2389061450958252 tensor(0.) tensor(0.) 0.0 0.0\n"
     ]
    },
    {
     "name": "stderr",
     "output_type": "stream",
     "text": [
      "Epoch 0 Loss: 1.6175:  45%|████████████▌               | 224/500 [00:30<00:39,  6.97batch/s]"
     ]
    },
    {
     "name": "stdout",
     "output_type": "stream",
     "text": [
      "1.480711817741394 tensor(0.) tensor(0.) 0.0 0.0\n",
      "1.4189000129699707 tensor(0.) tensor(0.) 0.0 0.0\n"
     ]
    },
    {
     "name": "stderr",
     "output_type": "stream",
     "text": [
      "Epoch 0 Loss: 1.6163:  45%|████████████▋               | 226/500 [00:30<00:37,  7.26batch/s]"
     ]
    },
    {
     "name": "stdout",
     "output_type": "stream",
     "text": [
      "1.5438799858093262 tensor(0.) tensor(0.) 0.0 0.0\n",
      "1.3657362461090088 tensor(0.) tensor(0.) 0.0 0.0\n"
     ]
    },
    {
     "name": "stderr",
     "output_type": "stream",
     "text": [
      "Epoch 0 Loss: 1.6142:  46%|████████████▊               | 228/500 [00:30<00:38,  7.15batch/s]"
     ]
    },
    {
     "name": "stdout",
     "output_type": "stream",
     "text": [
      "1.3920872211456299 tensor(0.) tensor(0.) 0.0 0.0\n",
      "1.3530151844024658 tensor(0.) tensor(0.) 0.0 0.0\n"
     ]
    },
    {
     "name": "stderr",
     "output_type": "stream",
     "text": [
      "Epoch 0 Loss: 1.6122:  46%|████████████▉               | 230/500 [00:31<00:38,  7.06batch/s]"
     ]
    },
    {
     "name": "stdout",
     "output_type": "stream",
     "text": [
      "1.4108079671859741 tensor(0.) tensor(0.) 0.0 0.0\n",
      "1.5526554584503174 tensor(0.) tensor(0.) 0.0 0.0\n"
     ]
    },
    {
     "name": "stderr",
     "output_type": "stream",
     "text": [
      "Epoch 0 Loss: 1.6111:  46%|████████████▉               | 232/500 [00:31<00:39,  6.82batch/s]"
     ]
    },
    {
     "name": "stdout",
     "output_type": "stream",
     "text": [
      "1.4154449701309204 tensor(0.) tensor(0.) 0.0 0.0\n",
      "1.3933453559875488 tensor(0.) tensor(0.) 0.0 0.0\n"
     ]
    },
    {
     "name": "stderr",
     "output_type": "stream",
     "text": [
      "Epoch 0 Loss: 1.6086:  47%|█████████████▏              | 235/500 [00:31<00:35,  7.50batch/s]"
     ]
    },
    {
     "name": "stdout",
     "output_type": "stream",
     "text": [
      "1.4718304872512817 tensor(0.) tensor(0.) 0.0 0.0\n",
      "1.3885000944137573 tensor(0.) tensor(0.) 0.0 0.0\n"
     ]
    },
    {
     "name": "stderr",
     "output_type": "stream",
     "text": [
      "Epoch 0 Loss: 1.6084:  47%|█████████████▎              | 237/500 [00:32<00:34,  7.54batch/s]"
     ]
    },
    {
     "name": "stdout",
     "output_type": "stream",
     "text": [
      "1.5154451131820679 tensor(0.) tensor(0.) 0.0 0.0\n",
      "1.6419378519058228 tensor(0.) tensor(0.) 0.0 0.0\n"
     ]
    },
    {
     "name": "stderr",
     "output_type": "stream",
     "text": [
      "Epoch 0 Loss: 1.6078:  48%|█████████████▎              | 238/500 [00:32<00:36,  7.08batch/s]"
     ]
    },
    {
     "name": "stdout",
     "output_type": "stream",
     "text": [
      "1.4614814519882202 tensor(0.) tensor(0.) 0.0 0.0\n",
      "1.4671269655227661 tensor(0.) tensor(0.) 0.0 0.0\n"
     ]
    },
    {
     "name": "stderr",
     "output_type": "stream",
     "text": [
      "Epoch 0 Loss: 1.6054:  48%|█████████████▍              | 240/500 [00:32<00:36,  7.21batch/s]"
     ]
    },
    {
     "name": "stdout",
     "output_type": "stream",
     "text": [
      "1.3731062412261963 tensor(0.) tensor(0.) 0.0 0.0\n",
      "1.4063012599945068 tensor(0.) tensor(0.) 0.0 0.0\n",
      "1.288322925567627 tensor(0.) tensor(0.) 0.0 0.0\n"
     ]
    },
    {
     "name": "stderr",
     "output_type": "stream",
     "text": [
      "Epoch 0 Loss: 1.6035:  49%|█████████████▌              | 243/500 [00:32<00:32,  7.83batch/s]"
     ]
    },
    {
     "name": "stdout",
     "output_type": "stream",
     "text": [
      "1.4748201370239258 tensor(0.) tensor(0.) 0.0 0.0\n",
      "1.2642967700958252 tensor(0.) tensor(0.) 0.0 0.0\n"
     ]
    },
    {
     "name": "stderr",
     "output_type": "stream",
     "text": [
      "Epoch 0 Loss: 1.6009:  49%|█████████████▋              | 245/500 [00:33<00:33,  7.55batch/s]"
     ]
    },
    {
     "name": "stdout",
     "output_type": "stream",
     "text": [
      "1.298036813735962 tensor(0.) tensor(0.) 0.0 0.0\n",
      "1.3346976041793823 tensor(0.) tensor(0.) 0.0 0.0\n"
     ]
    },
    {
     "name": "stderr",
     "output_type": "stream",
     "text": [
      "Epoch 0 Loss: 1.5989:  49%|█████████████▊              | 247/500 [00:33<00:36,  6.94batch/s]"
     ]
    },
    {
     "name": "stdout",
     "output_type": "stream",
     "text": [
      "1.3719500303268433 tensor(0.) tensor(0.) 0.0 0.0\n",
      "1.5306254625320435 tensor(0.) tensor(0.) 0.0 0.0\n"
     ]
    },
    {
     "name": "stderr",
     "output_type": "stream",
     "text": [
      "Epoch 0 Loss: 1.5976:  50%|█████████████▉              | 249/500 [00:33<00:37,  6.65batch/s]"
     ]
    },
    {
     "name": "stdout",
     "output_type": "stream",
     "text": [
      "1.3425973653793335 tensor(0.) tensor(0.) 0.0 0.0\n",
      "1.4083198308944702 tensor(0.) tensor(0.) 0.0 0.0\n"
     ]
    },
    {
     "name": "stderr",
     "output_type": "stream",
     "text": [
      "Epoch 0 Loss: 1.5957:  50%|██████████████              | 252/500 [00:34<00:32,  7.66batch/s]"
     ]
    },
    {
     "name": "stdout",
     "output_type": "stream",
     "text": [
      "1.3945204019546509 tensor(0.) tensor(0.) 0.0 0.0\n",
      "1.5014848709106445 tensor(0.) tensor(0.) 0.0 0.0\n"
     ]
    },
    {
     "name": "stderr",
     "output_type": "stream",
     "text": [
      "Epoch 0 Loss: 1.5953:  51%|██████████████▏             | 253/500 [00:34<00:33,  7.28batch/s]"
     ]
    },
    {
     "name": "stdout",
     "output_type": "stream",
     "text": [
      "1.516384482383728 tensor(0.) tensor(0.) 0.0 0.0\n",
      "1.2226166725158691 tensor(0.) tensor(0.) 0.0 0.0\n"
     ]
    },
    {
     "name": "stderr",
     "output_type": "stream",
     "text": [
      "Epoch 0 Loss: 1.5922:  51%|██████████████▎             | 256/500 [00:34<00:27,  8.91batch/s]"
     ]
    },
    {
     "name": "stdout",
     "output_type": "stream",
     "text": [
      "1.3762538433074951 tensor(0.) tensor(0.) 0.0 0.0\n",
      "1.378395438194275 tensor(0.) tensor(0.) 0.0 0.0\n",
      "1.4510990381240845 tensor(0.) tensor(0.) 0.0 0.0\n"
     ]
    },
    {
     "name": "stderr",
     "output_type": "stream",
     "text": [
      "Epoch 0 Loss: 1.5912:  52%|██████████████▍             | 258/500 [00:34<00:31,  7.74batch/s]"
     ]
    },
    {
     "name": "stdout",
     "output_type": "stream",
     "text": [
      "1.4720425605773926 tensor(0.) tensor(0.) 0.0 0.0\n",
      "1.3823802471160889 tensor(0.) tensor(0.) 0.0 0.0\n"
     ]
    },
    {
     "name": "stderr",
     "output_type": "stream",
     "text": [
      "Epoch 0 Loss: 1.5898:  52%|██████████████▌             | 260/500 [00:35<00:33,  7.16batch/s]"
     ]
    },
    {
     "name": "stdout",
     "output_type": "stream",
     "text": [
      "1.4358052015304565 tensor(0.) tensor(0.) 0.0 0.0\n",
      "1.2762796878814697 tensor(0.) tensor(0.) 0.0 0.0\n"
     ]
    },
    {
     "name": "stderr",
     "output_type": "stream",
     "text": [
      "Epoch 0 Loss: 1.5878:  52%|██████████████▋             | 262/500 [00:35<00:33,  7.07batch/s]"
     ]
    },
    {
     "name": "stdout",
     "output_type": "stream",
     "text": [
      "1.385921597480774 tensor(0.) tensor(0.) 0.0 0.0\n",
      "1.3929530382156372 tensor(0.) tensor(0.) 0.0 0.0\n"
     ]
    },
    {
     "name": "stderr",
     "output_type": "stream",
     "text": [
      "Epoch 0 Loss: 1.5862:  53%|██████████████▊             | 264/500 [00:35<00:33,  6.99batch/s]"
     ]
    },
    {
     "name": "stdout",
     "output_type": "stream",
     "text": [
      "1.361559271812439 tensor(0.) tensor(0.) 0.0 0.0\n",
      "1.3668365478515625 tensor(0.) tensor(0.) 0.0 0.0\n"
     ]
    },
    {
     "name": "stderr",
     "output_type": "stream",
     "text": [
      "Epoch 0 Loss: 1.5849:  53%|██████████████▉             | 266/500 [00:36<00:33,  6.94batch/s]"
     ]
    },
    {
     "name": "stdout",
     "output_type": "stream",
     "text": [
      "1.4526828527450562 tensor(0.) tensor(0.) 0.0 0.0\n",
      "1.3974008560180664 tensor(0.) tensor(0.) 0.0 0.0\n"
     ]
    },
    {
     "name": "stderr",
     "output_type": "stream",
     "text": [
      "Epoch 0 Loss: 1.5839:  54%|███████████████             | 268/500 [00:36<00:33,  6.97batch/s]"
     ]
    },
    {
     "name": "stdout",
     "output_type": "stream",
     "text": [
      "1.499910593032837 tensor(0.) tensor(0.) 0.0 0.0\n",
      "1.346061110496521 tensor(0.) tensor(0.) 0.0 0.0\n"
     ]
    },
    {
     "name": "stderr",
     "output_type": "stream",
     "text": [
      "Epoch 0 Loss: 1.5817:  54%|███████████████             | 270/500 [00:36<00:34,  6.65batch/s]"
     ]
    },
    {
     "name": "stdout",
     "output_type": "stream",
     "text": [
      "1.248002290725708 tensor(0.) tensor(0.) 0.0 0.0\n",
      "1.6455328464508057 tensor(0.) tensor(0.) 0.0 0.0\n"
     ]
    },
    {
     "name": "stderr",
     "output_type": "stream",
     "text": [
      "Epoch 0 Loss: 1.5813:  54%|███████████████▏            | 272/500 [00:36<00:35,  6.48batch/s]"
     ]
    },
    {
     "name": "stdout",
     "output_type": "stream",
     "text": [
      "1.3965156078338623 tensor(0.) tensor(0.) 0.0 0.0\n",
      "1.4153170585632324 tensor(0.) tensor(0.) 0.0 0.0\n"
     ]
    },
    {
     "name": "stderr",
     "output_type": "stream",
     "text": [
      "Epoch 0 Loss: 1.5796:  55%|███████████████▎            | 274/500 [00:37<00:34,  6.55batch/s]"
     ]
    },
    {
     "name": "stdout",
     "output_type": "stream",
     "text": [
      "1.2810155153274536 tensor(0.) tensor(0.) 0.0 0.0\n",
      "1.4652626514434814 tensor(0.) tensor(0.) 0.0 0.0\n"
     ]
    },
    {
     "name": "stderr",
     "output_type": "stream",
     "text": [
      "Epoch 0 Loss: 1.5778:  55%|███████████████▌            | 277/500 [00:37<00:26,  8.54batch/s]"
     ]
    },
    {
     "name": "stdout",
     "output_type": "stream",
     "text": [
      "1.3707772493362427 tensor(0.) tensor(0.) 0.0 0.0\n",
      "1.5114712715148926 tensor(0.) tensor(0.) 0.0 0.0\n",
      "1.4859851598739624 tensor(0.) tensor(0.) 0.0 0.0\n"
     ]
    },
    {
     "name": "stderr",
     "output_type": "stream",
     "text": [
      "Epoch 0 Loss: 1.5765:  56%|███████████████▌            | 279/500 [00:37<00:26,  8.38batch/s]"
     ]
    },
    {
     "name": "stdout",
     "output_type": "stream",
     "text": [
      "1.2007704973220825 tensor(0.) tensor(0.) 0.0 0.0\n",
      "1.4045263528823853 tensor(0.) tensor(0.) 0.0 0.0\n"
     ]
    },
    {
     "name": "stderr",
     "output_type": "stream",
     "text": [
      "Epoch 0 Loss: 1.5743:  56%|███████████████▋            | 281/500 [00:38<00:28,  7.69batch/s]"
     ]
    },
    {
     "name": "stdout",
     "output_type": "stream",
     "text": [
      "1.1330292224884033 tensor(0.) tensor(0.) 0.0 0.0\n",
      "1.3604190349578857 tensor(0.) tensor(0.) 0.0 0.0\n"
     ]
    },
    {
     "name": "stderr",
     "output_type": "stream",
     "text": [
      "Epoch 0 Loss: 1.5729:  57%|███████████████▊            | 283/500 [00:38<00:31,  6.93batch/s]"
     ]
    },
    {
     "name": "stdout",
     "output_type": "stream",
     "text": [
      "1.3847975730895996 tensor(0.) tensor(0.) 0.0 0.0\n",
      "1.1307718753814697 tensor(0.) tensor(0.) 0.0 0.0\n"
     ]
    },
    {
     "name": "stderr",
     "output_type": "stream",
     "text": [
      "Epoch 0 Loss: 1.5706:  57%|███████████████▉            | 285/500 [00:38<00:31,  6.83batch/s]"
     ]
    },
    {
     "name": "stdout",
     "output_type": "stream",
     "text": [
      "1.3588457107543945 tensor(0.) tensor(0.) 0.0 0.0\n",
      "1.498611569404602 tensor(0.) tensor(0.) 0.0 0.0\n"
     ]
    },
    {
     "name": "stderr",
     "output_type": "stream",
     "text": [
      "Epoch 0 Loss: 1.5702:  57%|████████████████            | 287/500 [00:39<00:31,  6.75batch/s]"
     ]
    },
    {
     "name": "stdout",
     "output_type": "stream",
     "text": [
      "1.5235700607299805 tensor(0.) tensor(0.) 0.0 0.0\n",
      "1.3551840782165527 tensor(0.) tensor(0.) 0.0 0.0\n"
     ]
    },
    {
     "name": "stderr",
     "output_type": "stream",
     "text": [
      "Epoch 0 Loss: 1.5683:  58%|████████████████▏           | 289/500 [00:39<00:31,  6.64batch/s]"
     ]
    },
    {
     "name": "stdout",
     "output_type": "stream",
     "text": [
      "1.236506700515747 tensor(0.) tensor(0.) 0.0 0.0\n",
      "1.2743940353393555 tensor(0.) tensor(0.) 0.0 0.0\n"
     ]
    },
    {
     "name": "stderr",
     "output_type": "stream",
     "text": [
      "Epoch 0 Loss: 1.5672:  58%|████████████████▎           | 291/500 [00:39<00:32,  6.45batch/s]"
     ]
    },
    {
     "name": "stdout",
     "output_type": "stream",
     "text": [
      "1.5618382692337036 tensor(0.) tensor(0.) 0.0 0.0\n",
      "1.3783063888549805 tensor(0.) tensor(0.) 0.0 0.0\n"
     ]
    },
    {
     "name": "stderr",
     "output_type": "stream",
     "text": [
      "Epoch 0 Loss: 1.5658:  59%|████████████████▍           | 293/500 [00:39<00:32,  6.30batch/s]"
     ]
    },
    {
     "name": "stdout",
     "output_type": "stream",
     "text": [
      "1.3478038311004639 tensor(0.) tensor(0.) 0.0 0.0\n",
      "1.3068938255310059 tensor(0.) tensor(0.) 0.0 0.0\n"
     ]
    },
    {
     "name": "stderr",
     "output_type": "stream",
     "text": [
      "Epoch 0 Loss: 1.5643:  59%|████████████████▌           | 295/500 [00:40<00:32,  6.27batch/s]"
     ]
    },
    {
     "name": "stdout",
     "output_type": "stream",
     "text": [
      "1.373471975326538 tensor(0.) tensor(0.) 0.0 0.0\n",
      "1.4229904413223267 tensor(0.) tensor(0.) 0.0 0.0\n"
     ]
    },
    {
     "name": "stderr",
     "output_type": "stream",
     "text": [
      "Epoch 0 Loss: 1.5636:  59%|████████████████▋           | 297/500 [00:40<00:31,  6.36batch/s]"
     ]
    },
    {
     "name": "stdout",
     "output_type": "stream",
     "text": [
      "1.4835537672042847 tensor(0.) tensor(0.) 0.0 0.0\n",
      "1.3836380243301392 tensor(0.) tensor(0.) 0.0 0.0\n"
     ]
    },
    {
     "name": "stderr",
     "output_type": "stream",
     "text": [
      "Epoch 0 Loss: 1.5627:  60%|████████████████▋           | 299/500 [00:40<00:30,  6.62batch/s]"
     ]
    },
    {
     "name": "stdout",
     "output_type": "stream",
     "text": [
      "1.4894238710403442 tensor(0.) tensor(0.) 0.0 0.0\n",
      "1.3520275354385376 tensor(0.) tensor(0.) 0.0 0.0\n"
     ]
    },
    {
     "name": "stderr",
     "output_type": "stream",
     "text": [
      "Epoch 0 Loss: 1.5611:  60%|████████████████▊           | 301/500 [00:41<00:29,  6.76batch/s]"
     ]
    },
    {
     "name": "stdout",
     "output_type": "stream",
     "text": [
      "1.3054051399230957 tensor(0.) tensor(0.) 0.0 0.0\n",
      "1.4909521341323853 tensor(0.) tensor(0.) 0.0 0.0\n"
     ]
    },
    {
     "name": "stderr",
     "output_type": "stream",
     "text": [
      "Epoch 0 Loss: 1.5601:  61%|████████████████▉           | 303/500 [00:41<00:29,  6.60batch/s]"
     ]
    },
    {
     "name": "stdout",
     "output_type": "stream",
     "text": [
      "1.3135159015655518 tensor(0.) tensor(0.) 0.0 0.0\n",
      "1.3230154514312744 tensor(0.) tensor(0.) 0.0 0.0\n"
     ]
    },
    {
     "name": "stderr",
     "output_type": "stream",
     "text": [
      "Epoch 0 Loss: 1.5588:  61%|█████████████████           | 305/500 [00:41<00:26,  7.43batch/s]"
     ]
    },
    {
     "name": "stdout",
     "output_type": "stream",
     "text": [
      "1.5845000743865967 tensor(0.) tensor(0.) 0.0 0.0\n",
      "1.379893183708191 tensor(0.) tensor(0.) 0.0 0.0\n"
     ]
    },
    {
     "name": "stderr",
     "output_type": "stream",
     "text": [
      "Epoch 0 Loss: 1.5587:  61%|█████████████████▏          | 307/500 [00:41<00:25,  7.56batch/s]"
     ]
    },
    {
     "name": "stdout",
     "output_type": "stream",
     "text": [
      "1.5210435390472412 tensor(0.) tensor(0.) 0.0 0.0\n",
      "1.4907264709472656 tensor(0.) tensor(0.) 0.0 0.0\n"
     ]
    },
    {
     "name": "stderr",
     "output_type": "stream",
     "text": [
      "Epoch 0 Loss: 1.5570:  62%|█████████████████▎          | 310/500 [00:42<00:25,  7.56batch/s]"
     ]
    },
    {
     "name": "stdout",
     "output_type": "stream",
     "text": [
      "1.5031132698059082 tensor(0.) tensor(0.) 0.0 0.0\n",
      "1.1734448671340942 tensor(0.) tensor(0.) 0.0 0.0\n"
     ]
    },
    {
     "name": "stderr",
     "output_type": "stream",
     "text": [
      "Epoch 0 Loss: 1.5560:  62%|█████████████████▍          | 311/500 [00:42<00:26,  7.15batch/s]"
     ]
    },
    {
     "name": "stdout",
     "output_type": "stream",
     "text": [
      "1.3620294332504272 tensor(0.) tensor(0.) 0.0 0.0\n",
      "1.4103012084960938 tensor(0.) tensor(0.) 0.0 0.0\n"
     ]
    },
    {
     "name": "stderr",
     "output_type": "stream",
     "text": [
      "Epoch 0 Loss: 1.5557:  63%|█████████████████▌          | 313/500 [00:42<00:23,  7.81batch/s]"
     ]
    },
    {
     "name": "stdout",
     "output_type": "stream",
     "text": [
      "1.4645686149597168 tensor(0.) tensor(0.) 0.0 0.0\n",
      "1.3273365497589111 tensor(0.) tensor(0.) 0.0 0.0\n"
     ]
    },
    {
     "name": "stderr",
     "output_type": "stream",
     "text": [
      "Epoch 0 Loss: 1.5532:  63%|█████████████████▋          | 315/500 [00:43<00:24,  7.50batch/s]"
     ]
    },
    {
     "name": "stdout",
     "output_type": "stream",
     "text": [
      "1.0166523456573486 tensor(0.) tensor(0.) 0.0 0.0\n",
      "1.4419312477111816 tensor(0.) tensor(0.) 0.0 0.0\n"
     ]
    },
    {
     "name": "stderr",
     "output_type": "stream",
     "text": [
      "Epoch 0 Loss: 1.5523:  63%|█████████████████▊          | 317/500 [00:43<00:24,  7.45batch/s]"
     ]
    },
    {
     "name": "stdout",
     "output_type": "stream",
     "text": [
      "1.3797191381454468 tensor(0.) tensor(0.) 0.0 0.0\n",
      "1.3346632719039917 tensor(0.) tensor(0.) 0.0 0.0\n"
     ]
    },
    {
     "name": "stderr",
     "output_type": "stream",
     "text": [
      "Epoch 0 Loss: 1.5507:  64%|█████████████████▊          | 319/500 [00:43<00:24,  7.30batch/s]"
     ]
    },
    {
     "name": "stdout",
     "output_type": "stream",
     "text": [
      "1.2592085599899292 tensor(0.) tensor(0.) 0.0 0.0\n",
      "1.4961967468261719 tensor(0.) tensor(0.) 0.0 0.0\n"
     ]
    },
    {
     "name": "stderr",
     "output_type": "stream",
     "text": [
      "Epoch 0 Loss: 1.5495:  64%|█████████████████▉          | 321/500 [00:43<00:24,  7.29batch/s]"
     ]
    },
    {
     "name": "stdout",
     "output_type": "stream",
     "text": [
      "1.2236199378967285 tensor(0.) tensor(0.) 0.0 0.0\n",
      "1.3704910278320312 tensor(0.) tensor(0.) 0.0 0.0\n"
     ]
    },
    {
     "name": "stderr",
     "output_type": "stream",
     "text": [
      "Epoch 0 Loss: 1.5481:  65%|██████████████████          | 323/500 [00:44<00:24,  7.23batch/s]"
     ]
    },
    {
     "name": "stdout",
     "output_type": "stream",
     "text": [
      "1.2726531028747559 tensor(0.) tensor(0.) 0.0 0.0\n",
      "1.3949689865112305 tensor(0.) tensor(0.) 0.0 0.0\n"
     ]
    },
    {
     "name": "stderr",
     "output_type": "stream",
     "text": [
      "Epoch 0 Loss: 1.5473:  65%|██████████████████▏         | 325/500 [00:44<00:23,  7.31batch/s]"
     ]
    },
    {
     "name": "stdout",
     "output_type": "stream",
     "text": [
      "1.4242751598358154 tensor(0.) tensor(0.) 0.0 0.0\n",
      "1.3407362699508667 tensor(0.) tensor(0.) 0.0 0.0\n"
     ]
    },
    {
     "name": "stderr",
     "output_type": "stream",
     "text": [
      "Epoch 0 Loss: 1.5448:  66%|██████████████████▎         | 328/500 [00:44<00:22,  7.79batch/s]"
     ]
    },
    {
     "name": "stdout",
     "output_type": "stream",
     "text": [
      "1.1923013925552368 tensor(0.) tensor(0.) 0.0 0.0\n",
      "1.2858636379241943 tensor(0.) tensor(0.) 0.0 0.0\n"
     ]
    },
    {
     "name": "stderr",
     "output_type": "stream",
     "text": [
      "Epoch 0 Loss: 1.5442:  66%|██████████████████▍         | 329/500 [00:44<00:22,  7.76batch/s]"
     ]
    },
    {
     "name": "stdout",
     "output_type": "stream",
     "text": [
      "1.367234468460083 tensor(0.) tensor(0.) 0.0 0.0\n",
      "1.2676427364349365 tensor(0.) tensor(0.) 0.0 0.0\n"
     ]
    },
    {
     "name": "stderr",
     "output_type": "stream",
     "text": [
      "Epoch 0 Loss: 1.5432:  66%|██████████████████▌         | 331/500 [00:45<00:21,  7.71batch/s]"
     ]
    },
    {
     "name": "stdout",
     "output_type": "stream",
     "text": [
      "1.4728847742080688 tensor(0.) tensor(0.) 0.0 0.0\n",
      "1.3932292461395264 tensor(0.) tensor(0.) 0.0 0.0\n"
     ]
    },
    {
     "name": "stderr",
     "output_type": "stream",
     "text": [
      "Epoch 0 Loss: 1.5420:  67%|██████████████████▋         | 333/500 [00:45<00:22,  7.40batch/s]"
     ]
    },
    {
     "name": "stdout",
     "output_type": "stream",
     "text": [
      "1.2958662509918213 tensor(0.) tensor(0.) 0.0 0.0\n",
      "1.4780255556106567 tensor(0.) tensor(0.) 0.0 0.0\n"
     ]
    },
    {
     "name": "stderr",
     "output_type": "stream",
     "text": [
      "Epoch 0 Loss: 1.5415:  67%|██████████████████▊         | 335/500 [00:45<00:22,  7.22batch/s]"
     ]
    },
    {
     "name": "stdout",
     "output_type": "stream",
     "text": [
      "1.4430530071258545 tensor(0.) tensor(0.) 0.0 0.0\n",
      "1.469598412513733 tensor(0.) tensor(0.) 0.0 0.0\n"
     ]
    },
    {
     "name": "stderr",
     "output_type": "stream",
     "text": [
      "Epoch 0 Loss: 1.5404:  67%|██████████████████▊         | 337/500 [00:46<00:23,  6.95batch/s]"
     ]
    },
    {
     "name": "stdout",
     "output_type": "stream",
     "text": [
      "1.240626573562622 tensor(0.) tensor(0.) 0.0 0.0\n",
      "1.2699668407440186 tensor(0.) tensor(0.) 0.0 0.0\n"
     ]
    },
    {
     "name": "stderr",
     "output_type": "stream",
     "text": [
      "Epoch 0 Loss: 1.5375:  68%|███████████████████         | 340/500 [00:46<00:21,  7.57batch/s]"
     ]
    },
    {
     "name": "stdout",
     "output_type": "stream",
     "text": [
      "1.2208912372589111 tensor(0.) tensor(0.) 0.0 0.0\n",
      "1.1522345542907715 tensor(0.) tensor(0.) 0.0 0.0\n"
     ]
    },
    {
     "name": "stderr",
     "output_type": "stream",
     "text": [
      "Epoch 0 Loss: 1.5368:  68%|███████████████████         | 341/500 [00:46<00:22,  7.05batch/s]"
     ]
    },
    {
     "name": "stdout",
     "output_type": "stream",
     "text": [
      "1.2806168794631958 tensor(0.) tensor(0.) 0.0 0.0\n",
      "1.4305520057678223 tensor(0.) tensor(0.) 0.0 0.0\n"
     ]
    },
    {
     "name": "stderr",
     "output_type": "stream",
     "text": [
      "Epoch 0 Loss: 1.5358:  69%|███████████████████▏        | 343/500 [00:46<00:23,  6.58batch/s]"
     ]
    },
    {
     "name": "stdout",
     "output_type": "stream",
     "text": [
      "1.3255904912948608 tensor(0.) tensor(0.) 0.0 0.0\n",
      "1.2932004928588867 tensor(0.) tensor(0.) 0.0 0.0\n"
     ]
    },
    {
     "name": "stderr",
     "output_type": "stream",
     "text": [
      "Epoch 0 Loss: 1.5345:  69%|███████████████████▎        | 345/500 [00:47<00:23,  6.59batch/s]"
     ]
    },
    {
     "name": "stdout",
     "output_type": "stream",
     "text": [
      "1.3083854913711548 tensor(0.) tensor(0.) 0.0 0.0\n",
      "1.2372504472732544 tensor(0.) tensor(0.) 0.0 0.0\n"
     ]
    },
    {
     "name": "stderr",
     "output_type": "stream",
     "text": [
      "Epoch 0 Loss: 1.5336:  69%|███████████████████▍        | 347/500 [00:47<00:22,  6.76batch/s]"
     ]
    },
    {
     "name": "stdout",
     "output_type": "stream",
     "text": [
      "1.5456923246383667 tensor(0.) tensor(0.) 0.0 0.0\n",
      "1.224349021911621 tensor(0.) tensor(0.) 0.0 0.0\n"
     ]
    },
    {
     "name": "stderr",
     "output_type": "stream",
     "text": [
      "Epoch 0 Loss: 1.5324:  70%|███████████████████▌        | 349/500 [00:47<00:21,  7.04batch/s]"
     ]
    },
    {
     "name": "stdout",
     "output_type": "stream",
     "text": [
      "1.3944313526153564 tensor(0.) tensor(0.) 0.0 0.0\n",
      "1.2933475971221924 tensor(0.) tensor(0.) 0.0 0.0\n"
     ]
    },
    {
     "name": "stderr",
     "output_type": "stream",
     "text": [
      "Epoch 0 Loss: 1.5296:  70%|███████████████████▋        | 352/500 [00:48<00:19,  7.42batch/s]"
     ]
    },
    {
     "name": "stdout",
     "output_type": "stream",
     "text": [
      "1.209884524345398 tensor(0.) tensor(0.) 0.0 0.0\n",
      "1.1042695045471191 tensor(0.) tensor(0.) 0.0 0.0\n"
     ]
    },
    {
     "name": "stderr",
     "output_type": "stream",
     "text": [
      "Epoch 0 Loss: 1.5285:  71%|███████████████████▊        | 353/500 [00:48<00:20,  7.10batch/s]"
     ]
    },
    {
     "name": "stdout",
     "output_type": "stream",
     "text": [
      "1.1429955959320068 tensor(0.) tensor(0.) 0.0 0.0\n",
      "1.355500340461731 tensor(0.) tensor(0.) 0.0 0.0\n"
     ]
    },
    {
     "name": "stderr",
     "output_type": "stream",
     "text": [
      "Epoch 0 Loss: 1.5271:  71%|███████████████████▉        | 355/500 [00:48<00:22,  6.40batch/s]"
     ]
    },
    {
     "name": "stdout",
     "output_type": "stream",
     "text": [
      "1.2148278951644897 tensor(0.) tensor(0.) 0.0 0.0\n",
      "1.2260754108428955 tensor(0.) tensor(0.) 0.0 0.0\n"
     ]
    },
    {
     "name": "stderr",
     "output_type": "stream",
     "text": [
      "Epoch 0 Loss: 1.5257:  71%|███████████████████▉        | 357/500 [00:49<00:21,  6.51batch/s]"
     ]
    },
    {
     "name": "stdout",
     "output_type": "stream",
     "text": [
      "1.3359278440475464 tensor(0.) tensor(0.) 0.0 0.0\n",
      "1.3028573989868164 tensor(0.) tensor(0.) 0.0 0.0\n"
     ]
    },
    {
     "name": "stderr",
     "output_type": "stream",
     "text": [
      "Epoch 0 Loss: 1.5247:  72%|████████████████████        | 359/500 [00:49<00:19,  7.21batch/s]"
     ]
    },
    {
     "name": "stdout",
     "output_type": "stream",
     "text": [
      "1.3724430799484253 tensor(0.) tensor(0.) 0.0 0.0\n",
      "1.2462780475616455 tensor(0.) tensor(0.) 0.0 0.0\n"
     ]
    },
    {
     "name": "stderr",
     "output_type": "stream",
     "text": [
      "Epoch 0 Loss: 1.5235:  72%|████████████████████▏       | 361/500 [00:49<00:19,  6.99batch/s]"
     ]
    },
    {
     "name": "stdout",
     "output_type": "stream",
     "text": [
      "1.397315263748169 tensor(0.) tensor(0.) 0.0 0.0\n",
      "1.2244176864624023 tensor(0.) tensor(0.) 0.0 0.0\n"
     ]
    },
    {
     "name": "stderr",
     "output_type": "stream",
     "text": [
      "Epoch 0 Loss: 1.5227:  73%|████████████████████▎       | 363/500 [00:49<00:19,  6.90batch/s]"
     ]
    },
    {
     "name": "stdout",
     "output_type": "stream",
     "text": [
      "1.5212026834487915 tensor(0.) tensor(0.) 0.0 0.0\n",
      "1.436662197113037 tensor(0.) tensor(0.) 0.0 0.0\n"
     ]
    },
    {
     "name": "stderr",
     "output_type": "stream",
     "text": [
      "Epoch 0 Loss: 1.5214:  73%|████████████████████▍       | 366/500 [00:50<00:18,  7.26batch/s]"
     ]
    },
    {
     "name": "stdout",
     "output_type": "stream",
     "text": [
      "1.3328139781951904 tensor(0.) tensor(0.) 0.0 0.0\n",
      "1.3392174243927002 tensor(0.) tensor(0.) 0.0 0.0\n"
     ]
    },
    {
     "name": "stderr",
     "output_type": "stream",
     "text": [
      "Epoch 0 Loss: 1.5204:  73%|████████████████████▌       | 367/500 [00:50<00:19,  6.93batch/s]"
     ]
    },
    {
     "name": "stdout",
     "output_type": "stream",
     "text": [
      "1.3853191137313843 tensor(0.) tensor(0.) 0.0 0.0\n",
      "1.263227105140686 tensor(0.) tensor(0.) 0.0 0.0\n"
     ]
    },
    {
     "name": "stderr",
     "output_type": "stream",
     "text": [
      "Epoch 0 Loss: 1.5199:  74%|████████████████████▋       | 369/500 [00:50<00:18,  6.95batch/s]"
     ]
    },
    {
     "name": "stdout",
     "output_type": "stream",
     "text": [
      "1.3393030166625977 tensor(0.) tensor(0.) 0.0 0.0\n",
      "1.524419903755188 tensor(0.) tensor(0.) 0.0 0.0\n"
     ]
    },
    {
     "name": "stderr",
     "output_type": "stream",
     "text": [
      "Epoch 0 Loss: 1.5195:  74%|████████████████████▊       | 371/500 [00:51<00:18,  6.79batch/s]"
     ]
    },
    {
     "name": "stdout",
     "output_type": "stream",
     "text": [
      "1.3589293956756592 tensor(0.) tensor(0.) 0.0 0.0\n",
      "1.2904740571975708 tensor(0.) tensor(0.) 0.0 0.0\n"
     ]
    },
    {
     "name": "stderr",
     "output_type": "stream",
     "text": [
      "Epoch 0 Loss: 1.5184:  75%|████████████████████▉       | 373/500 [00:51<00:18,  7.01batch/s]"
     ]
    },
    {
     "name": "stdout",
     "output_type": "stream",
     "text": [
      "1.3493695259094238 tensor(0.) tensor(0.) 0.0 0.0\n",
      "1.1008750200271606 tensor(0.) tensor(0.) 0.0 0.0\n"
     ]
    },
    {
     "name": "stderr",
     "output_type": "stream",
     "text": [
      "Epoch 0 Loss: 1.5166:  75%|█████████████████████       | 375/500 [00:51<00:17,  7.04batch/s]"
     ]
    },
    {
     "name": "stdout",
     "output_type": "stream",
     "text": [
      "1.2639886140823364 tensor(0.) tensor(0.) 0.0 0.0\n",
      "1.353574514389038 tensor(0.) tensor(0.) 0.0 0.0\n"
     ]
    },
    {
     "name": "stderr",
     "output_type": "stream",
     "text": [
      "Epoch 0 Loss: 1.5159:  75%|█████████████████████       | 377/500 [00:51<00:17,  7.20batch/s]"
     ]
    },
    {
     "name": "stdout",
     "output_type": "stream",
     "text": [
      "1.42119562625885 tensor(0.) tensor(0.) 0.0 0.0\n",
      "1.1815189123153687 tensor(0.) tensor(0.) 0.0 0.0\n"
     ]
    },
    {
     "name": "stderr",
     "output_type": "stream",
     "text": [
      "Epoch 0 Loss: 1.5145:  76%|█████████████████████▏      | 379/500 [00:52<00:16,  7.20batch/s]"
     ]
    },
    {
     "name": "stdout",
     "output_type": "stream",
     "text": [
      "1.2970925569534302 tensor(0.) tensor(0.) 0.0 0.0\n",
      "1.472075343132019 tensor(0.) tensor(0.) 0.0 0.0\n"
     ]
    },
    {
     "name": "stderr",
     "output_type": "stream",
     "text": [
      "Epoch 0 Loss: 1.5139:  76%|█████████████████████▎      | 381/500 [00:52<00:16,  7.42batch/s]"
     ]
    },
    {
     "name": "stdout",
     "output_type": "stream",
     "text": [
      "1.3523361682891846 tensor(0.) tensor(0.) 0.0 0.0\n",
      "1.3039939403533936 tensor(0.) tensor(0.) 0.0 0.0\n"
     ]
    },
    {
     "name": "stderr",
     "output_type": "stream",
     "text": [
      "Epoch 0 Loss: 1.5133:  77%|█████████████████████▍      | 383/500 [00:52<00:16,  7.10batch/s]"
     ]
    },
    {
     "name": "stdout",
     "output_type": "stream",
     "text": [
      "1.4712448120117188 tensor(0.) tensor(0.) 0.0 0.0\n",
      "1.492438793182373 tensor(0.) tensor(0.) 0.0 0.0\n"
     ]
    },
    {
     "name": "stderr",
     "output_type": "stream",
     "text": [
      "Epoch 0 Loss: 1.5126:  77%|█████████████████████▌      | 385/500 [00:53<00:17,  6.60batch/s]"
     ]
    },
    {
     "name": "stdout",
     "output_type": "stream",
     "text": [
      "1.2699930667877197 tensor(0.) tensor(0.) 0.0 0.0\n",
      "1.3197426795959473 tensor(0.) tensor(0.) 0.0 0.0\n"
     ]
    },
    {
     "name": "stderr",
     "output_type": "stream",
     "text": [
      "Epoch 0 Loss: 1.5115:  77%|█████████████████████▋      | 387/500 [00:53<00:17,  6.49batch/s]"
     ]
    },
    {
     "name": "stdout",
     "output_type": "stream",
     "text": [
      "1.2844353914260864 tensor(0.) tensor(0.) 0.0 0.0\n",
      "1.2104202508926392 tensor(0.) tensor(0.) 0.0 0.0\n"
     ]
    },
    {
     "name": "stderr",
     "output_type": "stream",
     "text": [
      "Epoch 0 Loss: 1.5106:  78%|█████████████████████▊      | 389/500 [00:53<00:17,  6.39batch/s]"
     ]
    },
    {
     "name": "stdout",
     "output_type": "stream",
     "text": [
      "1.4765727519989014 tensor(0.) tensor(0.) 0.0 0.0\n",
      "1.341626763343811 tensor(0.) tensor(0.) 0.0 0.0\n"
     ]
    },
    {
     "name": "stderr",
     "output_type": "stream",
     "text": [
      "Epoch 0 Loss: 1.5094:  78%|█████████████████████▉      | 391/500 [00:53<00:16,  6.54batch/s]"
     ]
    },
    {
     "name": "stdout",
     "output_type": "stream",
     "text": [
      "1.1949381828308105 tensor(0.) tensor(0.) 0.0 0.0\n",
      "1.4709343910217285 tensor(0.) tensor(0.) 0.0 0.0\n"
     ]
    },
    {
     "name": "stderr",
     "output_type": "stream",
     "text": [
      "Epoch 0 Loss: 1.5089:  79%|██████████████████████      | 393/500 [00:54<00:16,  6.62batch/s]"
     ]
    },
    {
     "name": "stdout",
     "output_type": "stream",
     "text": [
      "1.3637213706970215 tensor(0.) tensor(0.) 0.0 0.0\n",
      "1.328538417816162 tensor(0.) tensor(0.) 0.0 0.0\n"
     ]
    },
    {
     "name": "stderr",
     "output_type": "stream",
     "text": [
      "Epoch 0 Loss: 1.5082:  79%|██████████████████████      | 395/500 [00:54<00:15,  6.83batch/s]"
     ]
    },
    {
     "name": "stdout",
     "output_type": "stream",
     "text": [
      "1.424678921699524 tensor(0.) tensor(0.) 0.0 0.0\n",
      "1.2651044130325317 tensor(0.) tensor(0.) 0.0 0.0\n"
     ]
    },
    {
     "name": "stderr",
     "output_type": "stream",
     "text": [
      "Epoch 0 Loss: 1.5071:  79%|██████████████████████▏     | 397/500 [00:54<00:14,  7.05batch/s]"
     ]
    },
    {
     "name": "stdout",
     "output_type": "stream",
     "text": [
      "1.3073753118515015 tensor(0.) tensor(0.) 0.0 0.0\n",
      "1.295861840248108 tensor(0.) tensor(0.) 0.0 0.0\n"
     ]
    },
    {
     "name": "stderr",
     "output_type": "stream",
     "text": [
      "Epoch 0 Loss: 1.5059:  80%|██████████████████████▎     | 399/500 [00:55<00:14,  7.08batch/s]"
     ]
    },
    {
     "name": "stdout",
     "output_type": "stream",
     "text": [
      "1.2342756986618042 tensor(0.) tensor(0.) 0.0 0.0\n",
      "1.4341908693313599 tensor(0.) tensor(0.) 0.0 0.0\n"
     ]
    },
    {
     "name": "stderr",
     "output_type": "stream",
     "text": [
      "Epoch 0 Loss: 1.5059:  80%|██████████████████████▍     | 401/500 [00:55<00:13,  7.08batch/s]"
     ]
    },
    {
     "name": "stdout",
     "output_type": "stream",
     "text": [
      "1.5637032985687256 tensor(0.) tensor(0.) 0.0 0.0\n",
      "1.2795650959014893 tensor(0.) tensor(0.) 0.0 0.0\n"
     ]
    },
    {
     "name": "stderr",
     "output_type": "stream",
     "text": [
      "Epoch 0 Loss: 1.5053:  81%|██████████████████████▌     | 403/500 [00:55<00:13,  7.06batch/s]"
     ]
    },
    {
     "name": "stdout",
     "output_type": "stream",
     "text": [
      "1.496575951576233 tensor(0.) tensor(0.) 0.0 0.0\n",
      "1.3159435987472534 tensor(0.) tensor(0.) 0.0 0.0\n"
     ]
    },
    {
     "name": "stderr",
     "output_type": "stream",
     "text": [
      "Epoch 0 Loss: 1.5045:  81%|██████████████████████▋     | 405/500 [00:56<00:14,  6.75batch/s]"
     ]
    },
    {
     "name": "stdout",
     "output_type": "stream",
     "text": [
      "1.3702502250671387 tensor(0.) tensor(0.) 0.0 0.0\n",
      "1.3471838235855103 tensor(0.) tensor(0.) 0.0 0.0\n"
     ]
    },
    {
     "name": "stderr",
     "output_type": "stream",
     "text": [
      "Epoch 0 Loss: 1.5037:  81%|██████████████████████▊     | 407/500 [00:56<00:13,  6.68batch/s]"
     ]
    },
    {
     "name": "stdout",
     "output_type": "stream",
     "text": [
      "1.320581078529358 tensor(0.) tensor(0.) 0.0 0.0\n",
      "1.3015468120574951 tensor(0.) tensor(0.) 0.0 0.0\n"
     ]
    },
    {
     "name": "stderr",
     "output_type": "stream",
     "text": [
      "Epoch 0 Loss: 1.5026:  82%|██████████████████████▉     | 409/500 [00:56<00:13,  6.66batch/s]"
     ]
    },
    {
     "name": "stdout",
     "output_type": "stream",
     "text": [
      "1.2841686010360718 tensor(0.) tensor(0.) 0.0 0.0\n",
      "1.3310189247131348 tensor(0.) tensor(0.) 0.0 0.0\n"
     ]
    },
    {
     "name": "stderr",
     "output_type": "stream",
     "text": [
      "Epoch 0 Loss: 1.5020:  82%|███████████████████████     | 411/500 [00:56<00:12,  6.98batch/s]"
     ]
    },
    {
     "name": "stdout",
     "output_type": "stream",
     "text": [
      "1.4248462915420532 tensor(0.) tensor(0.) 0.0 0.0\n",
      "1.2610230445861816 tensor(0.) tensor(0.) 0.0 0.0\n"
     ]
    },
    {
     "name": "stderr",
     "output_type": "stream",
     "text": [
      "Epoch 0 Loss: 1.5009:  83%|███████████████████████▏    | 413/500 [00:57<00:13,  6.54batch/s]"
     ]
    },
    {
     "name": "stdout",
     "output_type": "stream",
     "text": [
      "1.279653549194336 tensor(0.) tensor(0.) 0.0 0.0\n",
      "1.3804477453231812 tensor(0.) tensor(0.) 0.0 0.0\n"
     ]
    },
    {
     "name": "stderr",
     "output_type": "stream",
     "text": [
      "Epoch 0 Loss: 1.5004:  83%|███████████████████████▏    | 415/500 [00:57<00:11,  7.21batch/s]"
     ]
    },
    {
     "name": "stdout",
     "output_type": "stream",
     "text": [
      "1.4564993381500244 tensor(0.) tensor(0.) 0.0 0.0\n",
      "1.4556792974472046 tensor(0.) tensor(0.) 0.0 0.0\n",
      "1.1705992221832275 tensor(0.) tensor(0.) 0.0 0.0\n"
     ]
    },
    {
     "name": "stderr",
     "output_type": "stream",
     "text": [
      "Epoch 0 Loss: 1.4992:  84%|███████████████████████▍    | 418/500 [00:57<00:10,  7.67batch/s]"
     ]
    },
    {
     "name": "stdout",
     "output_type": "stream",
     "text": [
      "1.3169779777526855 tensor(0.) tensor(0.) 0.0 0.0\n",
      "1.4109398126602173 tensor(0.) tensor(0.) 0.0 0.0\n"
     ]
    },
    {
     "name": "stderr",
     "output_type": "stream",
     "text": [
      "Epoch 0 Loss: 1.4980:  84%|███████████████████████▌    | 420/500 [00:58<00:10,  7.51batch/s]"
     ]
    },
    {
     "name": "stdout",
     "output_type": "stream",
     "text": [
      "1.0788360834121704 tensor(0.) tensor(0.) 0.0 0.0\n",
      "1.4736896753311157 tensor(0.) tensor(0.) 0.0 0.0\n"
     ]
    },
    {
     "name": "stderr",
     "output_type": "stream",
     "text": [
      "Epoch 0 Loss: 1.4976:  84%|███████████████████████▋    | 422/500 [00:58<00:10,  7.37batch/s]"
     ]
    },
    {
     "name": "stdout",
     "output_type": "stream",
     "text": [
      "1.3637983798980713 tensor(0.) tensor(0.) 0.0 0.0\n",
      "1.4145760536193848 tensor(0.) tensor(0.) 0.0 0.0\n"
     ]
    },
    {
     "name": "stderr",
     "output_type": "stream",
     "text": [
      "Epoch 0 Loss: 1.4963:  85%|███████████████████████▋    | 424/500 [00:58<00:10,  7.35batch/s]"
     ]
    },
    {
     "name": "stdout",
     "output_type": "stream",
     "text": [
      "1.232108235359192 tensor(0.) tensor(0.) 0.0 0.0\n",
      "1.2850887775421143 tensor(0.) tensor(0.) 0.0 0.0\n",
      "1.2587438821792603 tensor(0.) tensor(0.) 0.0 0.0\n"
     ]
    },
    {
     "name": "stderr",
     "output_type": "stream",
     "text": [
      "Epoch 0 Loss: 1.4947:  86%|███████████████████████▉    | 428/500 [00:59<00:07,  9.95batch/s]"
     ]
    },
    {
     "name": "stdout",
     "output_type": "stream",
     "text": [
      "1.2127516269683838 tensor(0.) tensor(0.) 0.0 0.0\n",
      "1.3488502502441406 tensor(0.) tensor(0.) 0.0 0.0\n",
      "1.279493808746338 tensor(0.) tensor(0.) 0.0 0.0\n"
     ]
    },
    {
     "name": "stderr",
     "output_type": "stream",
     "text": [
      "Epoch 0 Loss: 1.4932:  86%|████████████████████████▏   | 431/500 [00:59<00:07,  9.83batch/s]"
     ]
    },
    {
     "name": "stdout",
     "output_type": "stream",
     "text": [
      "1.191758394241333 tensor(0.) tensor(0.) 0.0 0.0\n",
      "1.3540284633636475 tensor(0.) tensor(0.) 0.0 0.0\n"
     ]
    },
    {
     "name": "stderr",
     "output_type": "stream",
     "text": [
      "Epoch 0 Loss: 1.4926:  86%|████████████████████████▏   | 432/500 [00:59<00:07,  8.62batch/s]"
     ]
    },
    {
     "name": "stdout",
     "output_type": "stream",
     "text": [
      "1.2675728797912598 tensor(0.) tensor(0.) 0.0 0.0\n",
      "1.1528717279434204 tensor(0.) tensor(0.) 0.0 0.0\n"
     ]
    },
    {
     "name": "stderr",
     "output_type": "stream",
     "text": [
      "Epoch 0 Loss: 1.4911:  87%|████████████████████████▎   | 434/500 [00:59<00:08,  7.66batch/s]"
     ]
    },
    {
     "name": "stdout",
     "output_type": "stream",
     "text": [
      "1.4383004903793335 tensor(0.) tensor(0.) 0.0 0.0\n",
      "1.1996179819107056 tensor(0.) tensor(0.) 0.0 0.0\n",
      "1.3617252111434937 tensor(0.) tensor(0.) 0.0 0.0\n"
     ]
    },
    {
     "name": "stderr",
     "output_type": "stream",
     "text": [
      "Epoch 0 Loss: 1.4903:  87%|████████████████████████▍   | 437/500 [01:00<00:07,  8.37batch/s]"
     ]
    },
    {
     "name": "stdout",
     "output_type": "stream",
     "text": [
      "1.295718789100647 tensor(0.) tensor(0.) 0.0 0.0\n",
      "1.265790581703186 tensor(0.) tensor(0.) 0.0 0.0\n"
     ]
    },
    {
     "name": "stderr",
     "output_type": "stream",
     "text": [
      "Epoch 0 Loss: 1.4893:  88%|████████████████████████▌   | 439/500 [01:00<00:08,  7.39batch/s]"
     ]
    },
    {
     "name": "stdout",
     "output_type": "stream",
     "text": [
      "1.2517287731170654 tensor(0.) tensor(0.) 0.0 0.0\n",
      "1.371463418006897 tensor(0.) tensor(0.) 0.0 0.0\n"
     ]
    },
    {
     "name": "stderr",
     "output_type": "stream",
     "text": [
      "Epoch 0 Loss: 1.4877:  88%|████████████████████████▊   | 442/500 [01:00<00:07,  7.42batch/s]"
     ]
    },
    {
     "name": "stdout",
     "output_type": "stream",
     "text": [
      "1.23501718044281 tensor(0.) tensor(0.) 0.0 0.0\n",
      "1.1860913038253784 tensor(0.) tensor(0.) 0.0 0.0\n"
     ]
    },
    {
     "name": "stderr",
     "output_type": "stream",
     "text": [
      "Epoch 0 Loss: 1.4876:  89%|████████████████████████▊   | 443/500 [01:00<00:07,  7.13batch/s]"
     ]
    },
    {
     "name": "stdout",
     "output_type": "stream",
     "text": [
      "1.4438308477401733 tensor(0.) tensor(0.) 0.0 0.0\n",
      "1.2482290267944336 tensor(0.) tensor(0.) 0.0 0.0\n"
     ]
    },
    {
     "name": "stderr",
     "output_type": "stream",
     "text": [
      "Epoch 0 Loss: 1.4867:  89%|████████████████████████▉   | 445/500 [01:01<00:08,  6.76batch/s]"
     ]
    },
    {
     "name": "stdout",
     "output_type": "stream",
     "text": [
      "1.3302617073059082 tensor(0.) tensor(0.) 0.0 0.0\n",
      "1.2967089414596558 tensor(0.) tensor(0.) 0.0 0.0\n"
     ]
    },
    {
     "name": "stderr",
     "output_type": "stream",
     "text": [
      "Epoch 0 Loss: 1.4863:  89%|█████████████████████████   | 447/500 [01:01<00:08,  6.59batch/s]"
     ]
    },
    {
     "name": "stdout",
     "output_type": "stream",
     "text": [
      "1.4679090976715088 tensor(0.) tensor(0.) 0.0 0.0\n",
      "1.5210580825805664 tensor(0.) tensor(0.) 0.0 0.0\n"
     ]
    },
    {
     "name": "stderr",
     "output_type": "stream",
     "text": [
      "Epoch 0 Loss: 1.4858:  90%|█████████████████████████▏  | 449/500 [01:01<00:07,  6.52batch/s]"
     ]
    },
    {
     "name": "stdout",
     "output_type": "stream",
     "text": [
      "1.2535696029663086 tensor(0.) tensor(0.) 0.0 0.0\n",
      "1.3703014850616455 tensor(0.) tensor(0.) 0.0 0.0\n"
     ]
    },
    {
     "name": "stderr",
     "output_type": "stream",
     "text": [
      "Epoch 0 Loss: 1.4848:  90%|█████████████████████████▎  | 451/500 [01:02<00:07,  6.67batch/s]"
     ]
    },
    {
     "name": "stdout",
     "output_type": "stream",
     "text": [
      "1.139275312423706 tensor(0.) tensor(0.) 0.0 0.0\n",
      "1.233099341392517 tensor(0.) tensor(0.) 0.0 0.0\n"
     ]
    },
    {
     "name": "stderr",
     "output_type": "stream",
     "text": [
      "Epoch 0 Loss: 1.4837:  91%|█████████████████████████▎  | 453/500 [01:02<00:06,  6.80batch/s]"
     ]
    },
    {
     "name": "stdout",
     "output_type": "stream",
     "text": [
      "1.249136209487915 tensor(0.) tensor(0.) 0.0 0.0\n",
      "1.3443125486373901 tensor(0.) tensor(0.) 0.0 0.0\n"
     ]
    },
    {
     "name": "stderr",
     "output_type": "stream",
     "text": [
      "Epoch 0 Loss: 1.4829:  91%|█████████████████████████▍  | 455/500 [01:02<00:06,  7.00batch/s]"
     ]
    },
    {
     "name": "stdout",
     "output_type": "stream",
     "text": [
      "1.2415791749954224 tensor(0.) tensor(0.) 0.0 0.0\n",
      "1.3235925436019897 tensor(0.) tensor(0.) 0.0 0.0\n"
     ]
    },
    {
     "name": "stderr",
     "output_type": "stream",
     "text": [
      "Epoch 0 Loss: 1.4824:  91%|█████████████████████████▌  | 457/500 [01:03<00:06,  7.13batch/s]"
     ]
    },
    {
     "name": "stdout",
     "output_type": "stream",
     "text": [
      "1.425992488861084 tensor(0.) tensor(0.) 0.0 0.0\n",
      "1.237578272819519 tensor(0.) tensor(0.) 0.0 0.0\n"
     ]
    },
    {
     "name": "stderr",
     "output_type": "stream",
     "text": [
      "Epoch 0 Loss: 1.4816:  92%|█████████████████████████▋  | 459/500 [01:03<00:05,  7.19batch/s]"
     ]
    },
    {
     "name": "stdout",
     "output_type": "stream",
     "text": [
      "1.3243460655212402 tensor(0.) tensor(0.) 0.0 0.0\n",
      "1.3021025657653809 tensor(0.) tensor(0.) 0.0 0.0\n"
     ]
    },
    {
     "name": "stderr",
     "output_type": "stream",
     "text": [
      "Epoch 0 Loss: 1.4802:  92%|█████████████████████████▊  | 462/500 [01:03<00:04,  7.74batch/s]"
     ]
    },
    {
     "name": "stdout",
     "output_type": "stream",
     "text": [
      "1.1945997476577759 tensor(0.) tensor(0.) 0.0 0.0\n",
      "1.329806923866272 tensor(0.) tensor(0.) 0.0 0.0\n"
     ]
    },
    {
     "name": "stderr",
     "output_type": "stream",
     "text": [
      "Epoch 0 Loss: 1.4792:  93%|█████████████████████████▉  | 464/500 [01:03<00:03,  9.70batch/s]"
     ]
    },
    {
     "name": "stdout",
     "output_type": "stream",
     "text": [
      "1.360552191734314 tensor(0.) tensor(0.) 0.0 0.0\n",
      "1.3504109382629395 tensor(0.) tensor(0.) 0.0 0.0\n",
      "1.281542181968689 tensor(0.) tensor(0.) 0.0 0.0\n"
     ]
    },
    {
     "name": "stderr",
     "output_type": "stream",
     "text": [
      "Epoch 0 Loss: 1.4789:  93%|██████████████████████████  | 466/500 [01:04<00:03,  9.48batch/s]"
     ]
    },
    {
     "name": "stdout",
     "output_type": "stream",
     "text": [
      "1.3317534923553467 tensor(0.) tensor(0.) 0.0 0.0\n",
      "1.3400899171829224 tensor(0.) tensor(0.) 0.0 0.0\n"
     ]
    },
    {
     "name": "stderr",
     "output_type": "stream",
     "text": [
      "Epoch 0 Loss: 1.4783:  94%|██████████████████████████▏ | 468/500 [01:04<00:03,  8.10batch/s]"
     ]
    },
    {
     "name": "stdout",
     "output_type": "stream",
     "text": [
      "1.3405559062957764 tensor(0.) tensor(0.) 0.0 0.0\n",
      "1.28569757938385 tensor(0.) tensor(0.) 0.0 0.0\n"
     ]
    },
    {
     "name": "stderr",
     "output_type": "stream",
     "text": [
      "Epoch 0 Loss: 1.4772:  94%|██████████████████████████▎ | 470/500 [01:04<00:04,  7.15batch/s]"
     ]
    },
    {
     "name": "stdout",
     "output_type": "stream",
     "text": [
      "1.1281285285949707 tensor(0.) tensor(0.) 0.0 0.0\n",
      "1.4150422811508179 tensor(0.) tensor(0.) 0.0 0.0\n"
     ]
    },
    {
     "name": "stderr",
     "output_type": "stream",
     "text": [
      "Epoch 0 Loss: 1.4766:  94%|██████████████████████████▍ | 472/500 [01:05<00:04,  6.92batch/s]"
     ]
    },
    {
     "name": "stdout",
     "output_type": "stream",
     "text": [
      "1.2798702716827393 tensor(0.) tensor(0.) 0.0 0.0\n",
      "1.3688963651657104 tensor(0.) tensor(0.) 0.0 0.0\n"
     ]
    },
    {
     "name": "stderr",
     "output_type": "stream",
     "text": [
      "Epoch 0 Loss: 1.4763:  95%|██████████████████████████▌ | 475/500 [01:05<00:02,  8.62batch/s]"
     ]
    },
    {
     "name": "stdout",
     "output_type": "stream",
     "text": [
      "1.4254878759384155 tensor(0.) tensor(0.) 0.0 0.0\n",
      "1.4741073846817017 tensor(0.) tensor(0.) 0.0 0.0\n",
      "1.1206800937652588 tensor(0.) tensor(0.) 0.0 0.0\n"
     ]
    },
    {
     "name": "stderr",
     "output_type": "stream",
     "text": [
      "Epoch 0 Loss: 1.4748:  96%|██████████████████████████▊ | 478/500 [01:05<00:02,  8.26batch/s]"
     ]
    },
    {
     "name": "stdout",
     "output_type": "stream",
     "text": [
      "1.2191866636276245 tensor(0.) tensor(0.) 0.0 0.0\n",
      "1.3586134910583496 tensor(0.) tensor(0.) 0.0 0.0\n"
     ]
    },
    {
     "name": "stderr",
     "output_type": "stream",
     "text": [
      "Epoch 0 Loss: 1.4742:  96%|██████████████████████████▊ | 479/500 [01:05<00:02,  8.12batch/s]"
     ]
    },
    {
     "name": "stdout",
     "output_type": "stream",
     "text": [
      "1.1988506317138672 tensor(0.) tensor(0.) 0.0 0.0\n",
      "1.3466280698776245 tensor(0.) tensor(0.) 0.0 0.0\n"
     ]
    },
    {
     "name": "stderr",
     "output_type": "stream",
     "text": [
      "Epoch 0 Loss: 1.4737:  96%|██████████████████████████▉ | 481/500 [01:06<00:02,  6.74batch/s]"
     ]
    },
    {
     "name": "stdout",
     "output_type": "stream",
     "text": [
      "1.353373408317566 tensor(0.) tensor(0.) 0.0 0.0\n",
      "1.3400975465774536 tensor(0.) tensor(0.) 0.0 0.0\n"
     ]
    },
    {
     "name": "stderr",
     "output_type": "stream",
     "text": [
      "Epoch 0 Loss: 1.4729:  97%|███████████████████████████ | 483/500 [01:06<00:02,  6.54batch/s]"
     ]
    },
    {
     "name": "stdout",
     "output_type": "stream",
     "text": [
      "1.2168514728546143 tensor(0.) tensor(0.) 0.0 0.0\n",
      "1.0842078924179077 tensor(0.) tensor(0.) 0.0 0.0\n"
     ]
    },
    {
     "name": "stderr",
     "output_type": "stream",
     "text": [
      "Epoch 0 Loss: 1.4718:  97%|███████████████████████████▏| 485/500 [01:06<00:02,  6.61batch/s]"
     ]
    },
    {
     "name": "stdout",
     "output_type": "stream",
     "text": [
      "1.3304632902145386 tensor(0.) tensor(0.) 0.0 0.0\n",
      "1.3644696474075317 tensor(0.) tensor(0.) 0.0 0.0\n"
     ]
    },
    {
     "name": "stderr",
     "output_type": "stream",
     "text": [
      "Epoch 0 Loss: 1.4717:  97%|███████████████████████████▎| 487/500 [01:07<00:01,  6.76batch/s]"
     ]
    },
    {
     "name": "stdout",
     "output_type": "stream",
     "text": [
      "1.541085958480835 tensor(0.) tensor(0.) 0.0 0.0\n",
      "1.4356482028961182 tensor(0.) tensor(0.) 0.0 0.0\n"
     ]
    },
    {
     "name": "stderr",
     "output_type": "stream",
     "text": [
      "Epoch 0 Loss: 1.4711:  98%|███████████████████████████▍| 489/500 [01:07<00:01,  7.46batch/s]"
     ]
    },
    {
     "name": "stdout",
     "output_type": "stream",
     "text": [
      "1.2223896980285645 tensor(0.) tensor(0.) 0.0 0.0\n",
      "1.3124089241027832 tensor(0.) tensor(0.) 0.0 0.0\n"
     ]
    },
    {
     "name": "stderr",
     "output_type": "stream",
     "text": [
      "Epoch 0 Loss: 1.4700:  98%|███████████████████████████▌| 492/500 [01:07<00:00,  8.22batch/s]"
     ]
    },
    {
     "name": "stdout",
     "output_type": "stream",
     "text": [
      "1.2842439413070679 tensor(0.) tensor(0.) 0.0 0.0\n",
      "1.2731207609176636 tensor(0.) tensor(0.) 0.0 0.0\n"
     ]
    },
    {
     "name": "stderr",
     "output_type": "stream",
     "text": [
      "Epoch 0 Loss: 1.4698:  99%|███████████████████████████▌| 493/500 [01:07<00:00,  7.48batch/s]"
     ]
    },
    {
     "name": "stdout",
     "output_type": "stream",
     "text": [
      "1.3502287864685059 tensor(0.) tensor(0.) 0.0 0.0\n",
      "1.0598737001419067 tensor(0.) tensor(0.) 0.0 0.0\n"
     ]
    },
    {
     "name": "stderr",
     "output_type": "stream",
     "text": [
      "Epoch 0 Loss: 1.4689:  99%|███████████████████████████▊| 496/500 [01:08<00:00,  8.34batch/s]"
     ]
    },
    {
     "name": "stdout",
     "output_type": "stream",
     "text": [
      "1.4962375164031982 tensor(0.) tensor(0.) 0.0 0.0\n",
      "1.4490472078323364 tensor(0.) tensor(0.) 0.0 0.0\n"
     ]
    },
    {
     "name": "stderr",
     "output_type": "stream",
     "text": [
      "Epoch 0 Loss: 1.4683:  99%|███████████████████████████▊| 497/500 [01:08<00:00,  8.12batch/s]"
     ]
    },
    {
     "name": "stdout",
     "output_type": "stream",
     "text": [
      "1.1641680002212524 tensor(0.) tensor(0.) 0.0 0.0\n",
      "1.413092851638794 tensor(0.) tensor(0.) 0.0 0.0\n"
     ]
    },
    {
     "name": "stderr",
     "output_type": "stream",
     "text": [
      "Epoch 0 Loss: 1.4674: 100%|███████████████████████████▉| 499/500 [01:08<00:00,  8.20batch/s]"
     ]
    },
    {
     "name": "stdout",
     "output_type": "stream",
     "text": [
      "1.0542657375335693 tensor(0.) tensor(0.) 0.0 0.0\n",
      "1.1992671489715576 tensor(0.) tensor(0.) 0.0 0.0\n"
     ]
    },
    {
     "name": "stderr",
     "output_type": "stream",
     "text": [
      "Epoch 0 Loss: 1.4669: 100%|████████████████████████████| 500/500 [01:08<00:00,  7.27batch/s]"
     ]
    },
    {
     "name": "stdout",
     "output_type": "stream",
     "text": [
      "Student Training Loss: 1.4668576760292054\n"
     ]
    },
    {
     "name": "stderr",
     "output_type": "stream",
     "text": [
      "\n",
      "  0%|                                                            | 0/500 [00:00<?, ?batch/s]"
     ]
    },
    {
     "name": "stdout",
     "output_type": "stream",
     "text": [
      "1.0877833366394043 tensor(0.) tensor(0.) 0.0 0.0\n"
     ]
    },
    {
     "name": "stderr",
     "output_type": "stream",
     "text": [
      "Epoch 1 Loss: 1.0878:   0%|                              | 1/500 [00:00<06:10,  1.35batch/s]"
     ]
    },
    {
     "name": "stdout",
     "output_type": "stream",
     "text": [
      "0.8473384976387024 tensor(0.) tensor(0.) 0.0 0.0\n"
     ]
    },
    {
     "name": "stderr",
     "output_type": "stream",
     "text": [
      "Epoch 1 Loss: 0.9676:   0%|                              | 2/500 [00:01<05:19,  1.56batch/s]"
     ]
    },
    {
     "name": "stdout",
     "output_type": "stream",
     "text": [
      "0.9560671448707581 tensor(0.) tensor(0.) 0.0 0.0\n"
     ]
    },
    {
     "name": "stderr",
     "output_type": "stream",
     "text": [
      "Epoch 1 Loss: 0.9637:   1%|▏                             | 3/500 [00:01<04:59,  1.66batch/s]"
     ]
    },
    {
     "name": "stdout",
     "output_type": "stream",
     "text": [
      "1.0005441904067993 tensor(0.) tensor(0.) 0.0 0.0\n"
     ]
    },
    {
     "name": "stderr",
     "output_type": "stream",
     "text": [
      "Epoch 1 Loss: 0.9729:   1%|▏                             | 4/500 [00:02<04:50,  1.71batch/s]"
     ]
    },
    {
     "name": "stdout",
     "output_type": "stream",
     "text": [
      "1.0287604331970215 tensor(0.) tensor(0.) 0.0 0.0\n"
     ]
    },
    {
     "name": "stderr",
     "output_type": "stream",
     "text": [
      "Epoch 1 Loss: 0.9841:   1%|▎                             | 5/500 [00:02<04:44,  1.74batch/s]"
     ]
    },
    {
     "name": "stdout",
     "output_type": "stream",
     "text": [
      "1.086449384689331 tensor(0.) tensor(0.) 0.0 0.0\n"
     ]
    },
    {
     "name": "stderr",
     "output_type": "stream",
     "text": [
      "Epoch 1 Loss: 1.0012:   1%|▎                             | 6/500 [00:03<04:40,  1.76batch/s]"
     ]
    },
    {
     "name": "stdout",
     "output_type": "stream",
     "text": [
      "1.011285662651062 tensor(0.) tensor(0.) 0.0 0.0\n"
     ]
    },
    {
     "name": "stderr",
     "output_type": "stream",
     "text": [
      "Epoch 1 Loss: 1.0026:   1%|▍                             | 7/500 [00:04<04:36,  1.78batch/s]"
     ]
    },
    {
     "name": "stdout",
     "output_type": "stream",
     "text": [
      "1.110242486000061 tensor(0.) tensor(0.) 0.0 0.0\n"
     ]
    },
    {
     "name": "stderr",
     "output_type": "stream",
     "text": [
      "Epoch 1 Loss: 1.0161:   2%|▍                             | 8/500 [00:04<04:36,  1.78batch/s]"
     ]
    },
    {
     "name": "stdout",
     "output_type": "stream",
     "text": [
      "1.1830697059631348 tensor(0.) tensor(0.) 0.0 0.0\n"
     ]
    },
    {
     "name": "stderr",
     "output_type": "stream",
     "text": [
      "Epoch 1 Loss: 1.0346:   2%|▌                             | 9/500 [00:05<04:36,  1.78batch/s]"
     ]
    },
    {
     "name": "stdout",
     "output_type": "stream",
     "text": [
      "1.130478858947754 tensor(0.) tensor(0.) 0.0 0.0\n"
     ]
    },
    {
     "name": "stderr",
     "output_type": "stream",
     "text": [
      "Epoch 1 Loss: 1.0442:   2%|▌                            | 10/500 [00:05<04:39,  1.75batch/s]"
     ]
    },
    {
     "name": "stdout",
     "output_type": "stream",
     "text": [
      "1.0751163959503174 tensor(0.) tensor(0.) 0.0 0.0\n"
     ]
    },
    {
     "name": "stderr",
     "output_type": "stream",
     "text": [
      "Epoch 1 Loss: 1.0470:   2%|▋                            | 11/500 [00:06<04:36,  1.77batch/s]"
     ]
    },
    {
     "name": "stdout",
     "output_type": "stream",
     "text": [
      "1.0690737962722778 tensor(0.) tensor(0.) 0.0 0.0\n"
     ]
    },
    {
     "name": "stderr",
     "output_type": "stream",
     "text": [
      "Epoch 1 Loss: 1.0489:   2%|▋                            | 12/500 [00:06<04:35,  1.77batch/s]"
     ]
    },
    {
     "name": "stdout",
     "output_type": "stream",
     "text": [
      "1.075385332107544 tensor(0.) tensor(0.) 0.0 0.0\n"
     ]
    },
    {
     "name": "stderr",
     "output_type": "stream",
     "text": [
      "Epoch 1 Loss: 1.0509:   3%|▊                            | 13/500 [00:07<04:29,  1.81batch/s]"
     ]
    },
    {
     "name": "stdout",
     "output_type": "stream",
     "text": [
      "1.062435507774353 tensor(0.) tensor(0.) 0.0 0.0\n"
     ]
    },
    {
     "name": "stderr",
     "output_type": "stream",
     "text": [
      "Epoch 1 Loss: 1.0517:   3%|▊                            | 14/500 [00:08<04:32,  1.79batch/s]"
     ]
    },
    {
     "name": "stdout",
     "output_type": "stream",
     "text": [
      "1.2036548852920532 tensor(0.) tensor(0.) 0.0 0.0\n"
     ]
    },
    {
     "name": "stderr",
     "output_type": "stream",
     "text": [
      "Epoch 1 Loss: 1.0618:   3%|▊                            | 15/500 [00:08<04:32,  1.78batch/s]"
     ]
    },
    {
     "name": "stdout",
     "output_type": "stream",
     "text": [
      "0.8218209147453308 tensor(0.) tensor(0.) 0.0 0.0\n"
     ]
    },
    {
     "name": "stderr",
     "output_type": "stream",
     "text": [
      "Epoch 1 Loss: 1.0468:   3%|▉                            | 16/500 [00:09<04:27,  1.81batch/s]"
     ]
    },
    {
     "name": "stdout",
     "output_type": "stream",
     "text": [
      "1.046613335609436 tensor(0.) tensor(0.) 0.0 0.0\n"
     ]
    },
    {
     "name": "stderr",
     "output_type": "stream",
     "text": [
      "Epoch 1 Loss: 1.0468:   3%|▉                            | 17/500 [00:09<04:23,  1.83batch/s]"
     ]
    },
    {
     "name": "stdout",
     "output_type": "stream",
     "text": [
      "1.1266006231307983 tensor(0.) tensor(0.) 0.0 0.0\n"
     ]
    },
    {
     "name": "stderr",
     "output_type": "stream",
     "text": [
      "Epoch 1 Loss: 1.0513:   4%|█                            | 18/500 [00:10<04:23,  1.83batch/s]"
     ]
    },
    {
     "name": "stdout",
     "output_type": "stream",
     "text": [
      "0.9200160503387451 tensor(0.) tensor(0.) 0.0 0.0\n"
     ]
    },
    {
     "name": "stderr",
     "output_type": "stream",
     "text": [
      "Epoch 1 Loss: 1.0444:   4%|█                            | 19/500 [00:10<04:21,  1.84batch/s]"
     ]
    },
    {
     "name": "stdout",
     "output_type": "stream",
     "text": [
      "1.0523968935012817 tensor(0.) tensor(0.) 0.0 0.0\n"
     ]
    },
    {
     "name": "stderr",
     "output_type": "stream",
     "text": [
      "Epoch 1 Loss: 1.0448:   4%|█▏                           | 20/500 [00:11<04:18,  1.86batch/s]"
     ]
    },
    {
     "name": "stdout",
     "output_type": "stream",
     "text": [
      "1.0990756750106812 tensor(0.) tensor(0.) 0.0 0.0\n"
     ]
    },
    {
     "name": "stderr",
     "output_type": "stream",
     "text": [
      "Epoch 1 Loss: 1.0473:   4%|█▏                           | 21/500 [00:11<04:17,  1.86batch/s]"
     ]
    },
    {
     "name": "stdout",
     "output_type": "stream",
     "text": [
      "1.0520052909851074 tensor(0.) tensor(0.) 0.0 0.0\n"
     ]
    },
    {
     "name": "stderr",
     "output_type": "stream",
     "text": [
      "Epoch 1 Loss: 1.0476:   4%|█▎                           | 22/500 [00:12<04:16,  1.86batch/s]"
     ]
    },
    {
     "name": "stdout",
     "output_type": "stream",
     "text": [
      "0.9855272769927979 tensor(0.) tensor(0.) 0.0 0.0\n"
     ]
    },
    {
     "name": "stderr",
     "output_type": "stream",
     "text": [
      "Epoch 1 Loss: 1.0449:   5%|█▎                           | 23/500 [00:12<04:15,  1.87batch/s]"
     ]
    },
    {
     "name": "stdout",
     "output_type": "stream",
     "text": [
      "0.9474315643310547 tensor(0.) tensor(0.) 0.0 0.0\n"
     ]
    },
    {
     "name": "stderr",
     "output_type": "stream",
     "text": [
      "Epoch 1 Loss: 1.0408:   5%|█▍                           | 24/500 [00:13<04:15,  1.86batch/s]"
     ]
    },
    {
     "name": "stdout",
     "output_type": "stream",
     "text": [
      "1.1487175226211548 tensor(0.) tensor(0.) 0.0 0.0\n"
     ]
    },
    {
     "name": "stderr",
     "output_type": "stream",
     "text": [
      "Epoch 1 Loss: 1.0451:   5%|█▍                           | 25/500 [00:13<04:15,  1.86batch/s]"
     ]
    },
    {
     "name": "stdout",
     "output_type": "stream",
     "text": [
      "1.068783164024353 tensor(0.) tensor(0.) 0.0 0.0\n"
     ]
    },
    {
     "name": "stderr",
     "output_type": "stream",
     "text": [
      "Epoch 1 Loss: 1.0460:   5%|█▌                           | 26/500 [00:14<04:16,  1.84batch/s]"
     ]
    },
    {
     "name": "stdout",
     "output_type": "stream",
     "text": [
      "1.1002768278121948 tensor(0.) tensor(0.) 0.0 0.0\n"
     ]
    },
    {
     "name": "stderr",
     "output_type": "stream",
     "text": [
      "Epoch 1 Loss: 1.0480:   5%|█▌                           | 27/500 [00:15<04:17,  1.84batch/s]"
     ]
    },
    {
     "name": "stdout",
     "output_type": "stream",
     "text": [
      "1.0833213329315186 tensor(0.) tensor(0.) 0.0 0.0\n"
     ]
    },
    {
     "name": "stderr",
     "output_type": "stream",
     "text": [
      "Epoch 1 Loss: 1.0493:   6%|█▌                           | 28/500 [00:15<04:19,  1.82batch/s]"
     ]
    },
    {
     "name": "stdout",
     "output_type": "stream",
     "text": [
      "1.036960244178772 tensor(0.) tensor(0.) 0.0 0.0\n"
     ]
    },
    {
     "name": "stderr",
     "output_type": "stream",
     "text": [
      "Epoch 1 Loss: 1.0489:   6%|█▋                           | 29/500 [00:16<04:21,  1.80batch/s]"
     ]
    },
    {
     "name": "stdout",
     "output_type": "stream",
     "text": [
      "1.2693486213684082 tensor(0.) tensor(0.) 0.0 0.0\n"
     ]
    },
    {
     "name": "stderr",
     "output_type": "stream",
     "text": [
      "Epoch 1 Loss: 1.0562:   6%|█▋                           | 30/500 [00:16<04:21,  1.80batch/s]"
     ]
    },
    {
     "name": "stdout",
     "output_type": "stream",
     "text": [
      "1.051749348640442 tensor(0.) tensor(0.) 0.0 0.0\n"
     ]
    },
    {
     "name": "stderr",
     "output_type": "stream",
     "text": [
      "Epoch 1 Loss: 1.0561:   6%|█▊                           | 31/500 [00:17<04:21,  1.80batch/s]"
     ]
    },
    {
     "name": "stdout",
     "output_type": "stream",
     "text": [
      "0.9876722693443298 tensor(0.) tensor(0.) 0.0 0.0\n"
     ]
    },
    {
     "name": "stderr",
     "output_type": "stream",
     "text": [
      "Epoch 1 Loss: 1.0539:   6%|█▊                           | 32/500 [00:17<04:21,  1.79batch/s]"
     ]
    },
    {
     "name": "stdout",
     "output_type": "stream",
     "text": [
      "1.0537488460540771 tensor(0.) tensor(0.) 0.0 0.0\n"
     ]
    },
    {
     "name": "stderr",
     "output_type": "stream",
     "text": [
      "Epoch 1 Loss: 1.0539:   7%|█▉                           | 33/500 [00:18<04:22,  1.78batch/s]"
     ]
    },
    {
     "name": "stdout",
     "output_type": "stream",
     "text": [
      "1.1781178712844849 tensor(0.) tensor(0.) 0.0 0.0\n"
     ]
    },
    {
     "name": "stderr",
     "output_type": "stream",
     "text": [
      "Epoch 1 Loss: 1.0576:   7%|█▉                           | 34/500 [00:18<04:02,  1.92batch/s]"
     ]
    },
    {
     "name": "stdout",
     "output_type": "stream",
     "text": [
      "1.06403386592865 tensor(0.) tensor(0.) 0.0 0.0\n"
     ]
    },
    {
     "name": "stderr",
     "output_type": "stream",
     "text": [
      "Epoch 1 Loss: 1.0578:   7%|██                           | 35/500 [00:19<04:06,  1.89batch/s]"
     ]
    },
    {
     "name": "stdout",
     "output_type": "stream",
     "text": [
      "0.8401861786842346 tensor(0.) tensor(0.) 0.0 0.0\n"
     ]
    },
    {
     "name": "stderr",
     "output_type": "stream",
     "text": [
      "Epoch 1 Loss: 1.0517:   7%|██                           | 36/500 [00:19<04:06,  1.88batch/s]"
     ]
    },
    {
     "name": "stdout",
     "output_type": "stream",
     "text": [
      "1.1065791845321655 tensor(0.) tensor(0.) 0.0 0.0\n"
     ]
    },
    {
     "name": "stderr",
     "output_type": "stream",
     "text": [
      "Epoch 1 Loss: 1.0532:   7%|██▏                          | 37/500 [00:20<04:13,  1.83batch/s]"
     ]
    },
    {
     "name": "stdout",
     "output_type": "stream",
     "text": [
      "1.1211154460906982 tensor(0.) tensor(0.) 0.0 0.0\n"
     ]
    },
    {
     "name": "stderr",
     "output_type": "stream",
     "text": [
      "Epoch 1 Loss: 1.0550:   8%|██▏                          | 38/500 [00:21<04:12,  1.83batch/s]"
     ]
    },
    {
     "name": "stdout",
     "output_type": "stream",
     "text": [
      "1.105621576309204 tensor(0.) tensor(0.) 0.0 0.0\n"
     ]
    },
    {
     "name": "stderr",
     "output_type": "stream",
     "text": [
      "Epoch 1 Loss: 1.0563:   8%|██▎                          | 39/500 [00:21<04:14,  1.81batch/s]"
     ]
    },
    {
     "name": "stdout",
     "output_type": "stream",
     "text": [
      "1.1737996339797974 tensor(0.) tensor(0.) 0.0 0.0\n"
     ]
    },
    {
     "name": "stderr",
     "output_type": "stream",
     "text": [
      "Epoch 1 Loss: 1.0592:   8%|██▎                          | 40/500 [00:22<04:14,  1.81batch/s]"
     ]
    },
    {
     "name": "stdout",
     "output_type": "stream",
     "text": [
      "1.0035698413848877 tensor(0.) tensor(0.) 0.0 0.0\n"
     ]
    },
    {
     "name": "stderr",
     "output_type": "stream",
     "text": [
      "Epoch 1 Loss: 1.0579:   8%|██▍                          | 41/500 [00:22<04:11,  1.82batch/s]"
     ]
    },
    {
     "name": "stdout",
     "output_type": "stream",
     "text": [
      "1.2519562244415283 tensor(0.) tensor(0.) 0.0 0.0\n"
     ]
    },
    {
     "name": "stderr",
     "output_type": "stream",
     "text": [
      "Epoch 1 Loss: 1.0625:   8%|██▍                          | 42/500 [00:23<04:08,  1.85batch/s]"
     ]
    },
    {
     "name": "stdout",
     "output_type": "stream",
     "text": [
      "1.1231342554092407 tensor(0.) tensor(0.) 0.0 0.0\n"
     ]
    },
    {
     "name": "stderr",
     "output_type": "stream",
     "text": [
      "Epoch 1 Loss: 1.0639:   9%|██▍                          | 43/500 [00:23<04:10,  1.83batch/s]"
     ]
    },
    {
     "name": "stdout",
     "output_type": "stream",
     "text": [
      "1.1507246494293213 tensor(0.) tensor(0.) 0.0 0.0\n"
     ]
    },
    {
     "name": "stderr",
     "output_type": "stream",
     "text": [
      "Epoch 1 Loss: 1.0659:   9%|██▌                          | 44/500 [00:24<04:09,  1.83batch/s]"
     ]
    },
    {
     "name": "stdout",
     "output_type": "stream",
     "text": [
      "0.8561496734619141 tensor(0.) tensor(0.) 0.0 0.0\n"
     ]
    },
    {
     "name": "stderr",
     "output_type": "stream",
     "text": [
      "Epoch 1 Loss: 1.0612:   9%|██▌                          | 45/500 [00:24<04:13,  1.79batch/s]"
     ]
    },
    {
     "name": "stdout",
     "output_type": "stream",
     "text": [
      "0.9137319922447205 tensor(0.) tensor(0.) 0.0 0.0\n"
     ]
    },
    {
     "name": "stderr",
     "output_type": "stream",
     "text": [
      "Epoch 1 Loss: 1.0580:   9%|██▋                          | 46/500 [00:25<04:16,  1.77batch/s]"
     ]
    },
    {
     "name": "stdout",
     "output_type": "stream",
     "text": [
      "0.9662887454032898 tensor(0.) tensor(0.) 0.0 0.0\n"
     ]
    },
    {
     "name": "stderr",
     "output_type": "stream",
     "text": [
      "Epoch 1 Loss: 1.0561:   9%|██▋                          | 47/500 [00:26<04:15,  1.77batch/s]"
     ]
    },
    {
     "name": "stdout",
     "output_type": "stream",
     "text": [
      "1.1306980848312378 tensor(0.) tensor(0.) 0.0 0.0\n"
     ]
    },
    {
     "name": "stderr",
     "output_type": "stream",
     "text": [
      "Epoch 1 Loss: 1.0576:  10%|██▊                          | 48/500 [00:26<04:09,  1.81batch/s]"
     ]
    },
    {
     "name": "stdout",
     "output_type": "stream",
     "text": [
      "0.8847373723983765 tensor(0.) tensor(0.) 0.0 0.0\n"
     ]
    },
    {
     "name": "stderr",
     "output_type": "stream",
     "text": [
      "Epoch 1 Loss: 1.0541:  10%|██▊                          | 49/500 [00:27<04:10,  1.80batch/s]"
     ]
    },
    {
     "name": "stdout",
     "output_type": "stream",
     "text": [
      "0.9610397815704346 tensor(0.) tensor(0.) 0.0 0.0\n"
     ]
    },
    {
     "name": "stderr",
     "output_type": "stream",
     "text": [
      "Epoch 1 Loss: 1.0522:  10%|██▉                          | 50/500 [00:27<04:05,  1.84batch/s]"
     ]
    },
    {
     "name": "stdout",
     "output_type": "stream",
     "text": [
      "1.0182359218597412 tensor(0.) tensor(0.) 0.0 0.0\n"
     ]
    },
    {
     "name": "stderr",
     "output_type": "stream",
     "text": [
      "Epoch 1 Loss: 1.0516:  10%|██▉                          | 51/500 [00:28<04:05,  1.83batch/s]"
     ]
    },
    {
     "name": "stdout",
     "output_type": "stream",
     "text": [
      "1.4054856300354004 tensor(0.) tensor(0.) 0.0 0.0\n"
     ]
    },
    {
     "name": "stderr",
     "output_type": "stream",
     "text": [
      "Epoch 1 Loss: 1.0584:  10%|███                          | 52/500 [00:28<04:06,  1.82batch/s]"
     ]
    },
    {
     "name": "stdout",
     "output_type": "stream",
     "text": [
      "0.9946658611297607 tensor(0.) tensor(0.) 0.0 0.0\n"
     ]
    },
    {
     "name": "stderr",
     "output_type": "stream",
     "text": [
      "Epoch 1 Loss: 1.0572:  11%|███                          | 53/500 [00:29<04:05,  1.82batch/s]"
     ]
    },
    {
     "name": "stdout",
     "output_type": "stream",
     "text": [
      "1.2625564336776733 tensor(0.) tensor(0.) 0.0 0.0\n"
     ]
    },
    {
     "name": "stderr",
     "output_type": "stream",
     "text": [
      "Epoch 1 Loss: 1.0610:  11%|███▏                         | 54/500 [00:29<03:59,  1.86batch/s]"
     ]
    },
    {
     "name": "stdout",
     "output_type": "stream",
     "text": [
      "0.9964364767074585 tensor(0.) tensor(0.) 0.0 0.0\n"
     ]
    },
    {
     "name": "stderr",
     "output_type": "stream",
     "text": [
      "Epoch 1 Loss: 1.0598:  11%|███▏                         | 55/500 [00:30<04:01,  1.84batch/s]"
     ]
    },
    {
     "name": "stdout",
     "output_type": "stream",
     "text": [
      "1.06170654296875 tensor(0.) tensor(0.) 0.0 0.0\n"
     ]
    },
    {
     "name": "stderr",
     "output_type": "stream",
     "text": [
      "Epoch 1 Loss: 1.0598:  11%|███▏                         | 56/500 [00:30<03:43,  1.99batch/s]"
     ]
    },
    {
     "name": "stdout",
     "output_type": "stream",
     "text": [
      "1.1927725076675415 tensor(0.) tensor(0.) 0.0 0.0\n"
     ]
    },
    {
     "name": "stderr",
     "output_type": "stream",
     "text": [
      "Epoch 1 Loss: 1.0622:  11%|███▎                         | 57/500 [00:31<03:50,  1.92batch/s]"
     ]
    },
    {
     "name": "stdout",
     "output_type": "stream",
     "text": [
      "0.9533642530441284 tensor(0.) tensor(0.) 0.0 0.0\n"
     ]
    },
    {
     "name": "stderr",
     "output_type": "stream",
     "text": [
      "Epoch 1 Loss: 1.0603:  12%|███▎                         | 58/500 [00:31<03:53,  1.89batch/s]"
     ]
    },
    {
     "name": "stdout",
     "output_type": "stream",
     "text": [
      "0.9918540120124817 tensor(0.) tensor(0.) 0.0 0.0\n"
     ]
    },
    {
     "name": "stderr",
     "output_type": "stream",
     "text": [
      "Epoch 1 Loss: 1.0591:  12%|███▍                         | 59/500 [00:32<03:58,  1.85batch/s]"
     ]
    },
    {
     "name": "stdout",
     "output_type": "stream",
     "text": [
      "1.1998001337051392 tensor(0.) tensor(0.) 0.0 0.0\n"
     ]
    },
    {
     "name": "stderr",
     "output_type": "stream",
     "text": [
      "Epoch 1 Loss: 1.0615:  12%|███▍                         | 60/500 [00:33<03:59,  1.84batch/s]"
     ]
    },
    {
     "name": "stdout",
     "output_type": "stream",
     "text": [
      "1.0672765970230103 tensor(0.) tensor(0.) 0.0 0.0\n"
     ]
    },
    {
     "name": "stderr",
     "output_type": "stream",
     "text": [
      "Epoch 1 Loss: 1.0616:  12%|███▌                         | 61/500 [00:33<04:00,  1.82batch/s]"
     ]
    },
    {
     "name": "stdout",
     "output_type": "stream",
     "text": [
      "1.0149019956588745 tensor(0.) tensor(0.) 0.0 0.0\n"
     ]
    },
    {
     "name": "stderr",
     "output_type": "stream",
     "text": [
      "Epoch 1 Loss: 1.0608:  12%|███▌                         | 62/500 [00:34<04:03,  1.80batch/s]"
     ]
    },
    {
     "name": "stdout",
     "output_type": "stream",
     "text": [
      "1.2759430408477783 tensor(0.) tensor(0.) 0.0 0.0\n"
     ]
    },
    {
     "name": "stderr",
     "output_type": "stream",
     "text": [
      "Epoch 1 Loss: 1.0642:  13%|███▋                         | 63/500 [00:34<04:05,  1.78batch/s]"
     ]
    },
    {
     "name": "stdout",
     "output_type": "stream",
     "text": [
      "1.1953874826431274 tensor(0.) tensor(0.) 0.0 0.0\n"
     ]
    },
    {
     "name": "stderr",
     "output_type": "stream",
     "text": [
      "Epoch 1 Loss: 1.0663:  13%|███▋                         | 64/500 [00:35<04:04,  1.78batch/s]"
     ]
    },
    {
     "name": "stdout",
     "output_type": "stream",
     "text": [
      "1.0236319303512573 tensor(0.) tensor(0.) 0.0 0.0\n"
     ]
    },
    {
     "name": "stderr",
     "output_type": "stream",
     "text": [
      "Epoch 1 Loss: 1.0656:  13%|███▊                         | 65/500 [00:35<04:04,  1.78batch/s]"
     ]
    },
    {
     "name": "stdout",
     "output_type": "stream",
     "text": [
      "1.0879156589508057 tensor(0.) tensor(0.) 0.0 0.0\n"
     ]
    },
    {
     "name": "stderr",
     "output_type": "stream",
     "text": [
      "Epoch 1 Loss: 1.0660:  13%|███▊                         | 66/500 [00:36<04:02,  1.79batch/s]"
     ]
    },
    {
     "name": "stdout",
     "output_type": "stream",
     "text": [
      "1.021033525466919 tensor(0.) tensor(0.) 0.0 0.0\n"
     ]
    },
    {
     "name": "stderr",
     "output_type": "stream",
     "text": [
      "Epoch 1 Loss: 1.0653:  13%|███▉                         | 67/500 [00:36<04:01,  1.79batch/s]"
     ]
    },
    {
     "name": "stdout",
     "output_type": "stream",
     "text": [
      "1.071183443069458 tensor(0.) tensor(0.) 0.0 0.0\n"
     ]
    },
    {
     "name": "stderr",
     "output_type": "stream",
     "text": [
      "Epoch 1 Loss: 1.0654:  14%|███▉                         | 68/500 [00:37<03:45,  1.91batch/s]"
     ]
    },
    {
     "name": "stdout",
     "output_type": "stream",
     "text": [
      "1.1063255071640015 tensor(0.) tensor(0.) 0.0 0.0\n"
     ]
    },
    {
     "name": "stderr",
     "output_type": "stream",
     "text": [
      "Epoch 1 Loss: 1.0660:  14%|████                         | 69/500 [00:38<03:54,  1.84batch/s]"
     ]
    },
    {
     "name": "stdout",
     "output_type": "stream",
     "text": [
      "1.032355785369873 tensor(0.) tensor(0.) 0.0 0.0\n"
     ]
    },
    {
     "name": "stderr",
     "output_type": "stream",
     "text": [
      "Epoch 1 Loss: 1.0655:  14%|████                         | 70/500 [00:38<03:51,  1.85batch/s]"
     ]
    },
    {
     "name": "stdout",
     "output_type": "stream",
     "text": [
      "0.9605777263641357 tensor(0.) tensor(0.) 0.0 0.0\n"
     ]
    },
    {
     "name": "stderr",
     "output_type": "stream",
     "text": [
      "Epoch 1 Loss: 1.0640:  14%|████                         | 71/500 [00:39<03:49,  1.87batch/s]"
     ]
    },
    {
     "name": "stdout",
     "output_type": "stream",
     "text": [
      "0.9510225653648376 tensor(0.) tensor(0.) 0.0 0.0\n"
     ]
    },
    {
     "name": "stderr",
     "output_type": "stream",
     "text": [
      "Epoch 1 Loss: 1.0624:  14%|████▏                        | 72/500 [00:39<03:48,  1.87batch/s]"
     ]
    },
    {
     "name": "stdout",
     "output_type": "stream",
     "text": [
      "0.9088589549064636 tensor(0.) tensor(0.) 0.0 0.0\n"
     ]
    },
    {
     "name": "stderr",
     "output_type": "stream",
     "text": [
      "Epoch 1 Loss: 1.0603:  15%|████▏                        | 73/500 [00:40<03:50,  1.85batch/s]"
     ]
    },
    {
     "name": "stdout",
     "output_type": "stream",
     "text": [
      "0.864248514175415 tensor(0.) tensor(0.) 0.0 0.0\n"
     ]
    },
    {
     "name": "stderr",
     "output_type": "stream",
     "text": [
      "Epoch 1 Loss: 1.0577:  15%|████▎                        | 74/500 [00:40<03:50,  1.84batch/s]"
     ]
    },
    {
     "name": "stdout",
     "output_type": "stream",
     "text": [
      "0.9209547638893127 tensor(0.) tensor(0.) 0.0 0.0\n"
     ]
    },
    {
     "name": "stderr",
     "output_type": "stream",
     "text": [
      "Epoch 1 Loss: 1.0559:  15%|████▎                        | 75/500 [00:41<03:53,  1.82batch/s]"
     ]
    },
    {
     "name": "stdout",
     "output_type": "stream",
     "text": [
      "0.9341446161270142 tensor(0.) tensor(0.) 0.0 0.0\n"
     ]
    },
    {
     "name": "stderr",
     "output_type": "stream",
     "text": [
      "Epoch 1 Loss: 1.0543:  15%|████▍                        | 76/500 [00:41<03:49,  1.85batch/s]"
     ]
    },
    {
     "name": "stdout",
     "output_type": "stream",
     "text": [
      "1.0078526735305786 tensor(0.) tensor(0.) 0.0 0.0\n"
     ]
    },
    {
     "name": "stderr",
     "output_type": "stream",
     "text": [
      "Epoch 1 Loss: 1.0537:  15%|████▍                        | 77/500 [00:42<03:47,  1.86batch/s]"
     ]
    },
    {
     "name": "stdout",
     "output_type": "stream",
     "text": [
      "1.1264536380767822 tensor(0.) tensor(0.) 0.0 0.0\n"
     ]
    },
    {
     "name": "stderr",
     "output_type": "stream",
     "text": [
      "Epoch 1 Loss: 1.0546:  16%|████▌                        | 78/500 [00:42<03:46,  1.87batch/s]"
     ]
    },
    {
     "name": "stdout",
     "output_type": "stream",
     "text": [
      "1.082937479019165 tensor(0.) tensor(0.) 0.0 0.0\n"
     ]
    },
    {
     "name": "stderr",
     "output_type": "stream",
     "text": [
      "Epoch 1 Loss: 1.0550:  16%|████▌                        | 79/500 [00:43<03:44,  1.87batch/s]"
     ]
    },
    {
     "name": "stdout",
     "output_type": "stream",
     "text": [
      "0.9697229862213135 tensor(0.) tensor(0.) 0.0 0.0\n"
     ]
    },
    {
     "name": "stderr",
     "output_type": "stream",
     "text": [
      "Epoch 1 Loss: 1.0539:  16%|████▋                        | 80/500 [00:43<03:48,  1.84batch/s]"
     ]
    },
    {
     "name": "stdout",
     "output_type": "stream",
     "text": [
      "0.996085524559021 tensor(0.) tensor(0.) 0.0 0.0\n"
     ]
    },
    {
     "name": "stderr",
     "output_type": "stream",
     "text": [
      "Epoch 1 Loss: 1.0532:  16%|████▋                        | 81/500 [00:44<03:50,  1.82batch/s]"
     ]
    },
    {
     "name": "stdout",
     "output_type": "stream",
     "text": [
      "1.0902525186538696 tensor(0.) tensor(0.) 0.0 0.0\n"
     ]
    },
    {
     "name": "stderr",
     "output_type": "stream",
     "text": [
      "Epoch 1 Loss: 1.0536:  16%|████▊                        | 82/500 [00:45<03:51,  1.81batch/s]"
     ]
    },
    {
     "name": "stdout",
     "output_type": "stream",
     "text": [
      "0.9809783101081848 tensor(0.) tensor(0.) 0.0 0.0\n"
     ]
    },
    {
     "name": "stderr",
     "output_type": "stream",
     "text": [
      "Epoch 1 Loss: 1.0527:  17%|████▊                        | 83/500 [00:45<03:51,  1.80batch/s]"
     ]
    },
    {
     "name": "stdout",
     "output_type": "stream",
     "text": [
      "1.1591333150863647 tensor(0.) tensor(0.) 0.0 0.0\n"
     ]
    },
    {
     "name": "stderr",
     "output_type": "stream",
     "text": [
      "Epoch 1 Loss: 1.0540:  17%|████▊                        | 84/500 [00:46<03:50,  1.80batch/s]"
     ]
    },
    {
     "name": "stdout",
     "output_type": "stream",
     "text": [
      "0.8859317302703857 tensor(0.) tensor(0.) 0.0 0.0\n"
     ]
    },
    {
     "name": "stderr",
     "output_type": "stream",
     "text": [
      "Epoch 1 Loss: 1.0520:  17%|████▉                        | 85/500 [00:46<03:47,  1.83batch/s]"
     ]
    },
    {
     "name": "stdout",
     "output_type": "stream",
     "text": [
      "0.8135372996330261 tensor(0.) tensor(0.) 0.0 0.0\n"
     ]
    },
    {
     "name": "stderr",
     "output_type": "stream",
     "text": [
      "Epoch 1 Loss: 1.0493:  17%|████▉                        | 86/500 [00:47<03:43,  1.85batch/s]"
     ]
    },
    {
     "name": "stdout",
     "output_type": "stream",
     "text": [
      "1.0150834321975708 tensor(0.) tensor(0.) 0.0 0.0\n"
     ]
    },
    {
     "name": "stderr",
     "output_type": "stream",
     "text": [
      "Epoch 1 Loss: 1.0489:  17%|█████                        | 87/500 [00:47<03:53,  1.77batch/s]"
     ]
    },
    {
     "name": "stdout",
     "output_type": "stream",
     "text": [
      "1.0703712701797485 tensor(0.) tensor(0.) 0.0 0.0\n"
     ]
    },
    {
     "name": "stderr",
     "output_type": "stream",
     "text": [
      "Epoch 1 Loss: 1.0491:  18%|█████                        | 88/500 [00:48<03:50,  1.79batch/s]"
     ]
    },
    {
     "name": "stdout",
     "output_type": "stream",
     "text": [
      "1.0711063146591187 tensor(0.) tensor(0.) 0.0 0.0\n"
     ]
    },
    {
     "name": "stderr",
     "output_type": "stream",
     "text": [
      "Epoch 1 Loss: 1.0494:  18%|█████▏                       | 89/500 [00:48<03:45,  1.82batch/s]"
     ]
    },
    {
     "name": "stdout",
     "output_type": "stream",
     "text": [
      "0.9458417296409607 tensor(0.) tensor(0.) 0.0 0.0\n"
     ]
    },
    {
     "name": "stderr",
     "output_type": "stream",
     "text": [
      "Epoch 1 Loss: 1.0482:  18%|█████▏                       | 90/500 [00:49<03:44,  1.83batch/s]"
     ]
    },
    {
     "name": "stdout",
     "output_type": "stream",
     "text": [
      "1.0230967998504639 tensor(0.) tensor(0.) 0.0 0.0\n"
     ]
    },
    {
     "name": "stderr",
     "output_type": "stream",
     "text": [
      "Epoch 1 Loss: 1.0479:  18%|█████▎                       | 91/500 [00:49<03:39,  1.86batch/s]"
     ]
    },
    {
     "name": "stdout",
     "output_type": "stream",
     "text": [
      "0.9403332471847534 tensor(0.) tensor(0.) 0.0 0.0\n"
     ]
    },
    {
     "name": "stderr",
     "output_type": "stream",
     "text": [
      "Epoch 1 Loss: 1.0468:  18%|█████▎                       | 92/500 [00:50<03:42,  1.83batch/s]"
     ]
    },
    {
     "name": "stdout",
     "output_type": "stream",
     "text": [
      "1.0364826917648315 tensor(0.) tensor(0.) 0.0 0.0\n"
     ]
    },
    {
     "name": "stderr",
     "output_type": "stream",
     "text": [
      "Epoch 1 Loss: 1.0467:  19%|█████▍                       | 93/500 [00:51<03:40,  1.85batch/s]"
     ]
    },
    {
     "name": "stdout",
     "output_type": "stream",
     "text": [
      "0.9052683115005493 tensor(0.) tensor(0.) 0.0 0.0\n"
     ]
    },
    {
     "name": "stderr",
     "output_type": "stream",
     "text": [
      "Epoch 1 Loss: 1.0452:  19%|█████▍                       | 94/500 [00:51<03:40,  1.85batch/s]"
     ]
    },
    {
     "name": "stdout",
     "output_type": "stream",
     "text": [
      "1.0222914218902588 tensor(0.) tensor(0.) 0.0 0.0\n"
     ]
    },
    {
     "name": "stderr",
     "output_type": "stream",
     "text": [
      "Epoch 1 Loss: 1.0449:  19%|█████▌                       | 95/500 [00:52<03:39,  1.84batch/s]"
     ]
    },
    {
     "name": "stdout",
     "output_type": "stream",
     "text": [
      "1.1149922609329224 tensor(0.) tensor(0.) 0.0 0.0\n"
     ]
    },
    {
     "name": "stderr",
     "output_type": "stream",
     "text": [
      "Epoch 1 Loss: 1.0456:  19%|█████▌                       | 96/500 [00:52<03:41,  1.83batch/s]"
     ]
    },
    {
     "name": "stdout",
     "output_type": "stream",
     "text": [
      "0.8999784588813782 tensor(0.) tensor(0.) 0.0 0.0\n"
     ]
    },
    {
     "name": "stderr",
     "output_type": "stream",
     "text": [
      "Epoch 1 Loss: 1.0441:  19%|█████▋                       | 97/500 [00:53<03:38,  1.84batch/s]"
     ]
    },
    {
     "name": "stdout",
     "output_type": "stream",
     "text": [
      "1.0420116186141968 tensor(0.) tensor(0.) 0.0 0.0\n"
     ]
    },
    {
     "name": "stderr",
     "output_type": "stream",
     "text": [
      "Epoch 1 Loss: 1.0441:  20%|█████▋                       | 98/500 [00:53<03:38,  1.84batch/s]"
     ]
    },
    {
     "name": "stdout",
     "output_type": "stream",
     "text": [
      "0.9947158694267273 tensor(0.) tensor(0.) 0.0 0.0\n"
     ]
    },
    {
     "name": "stderr",
     "output_type": "stream",
     "text": [
      "Epoch 1 Loss: 1.0436:  20%|█████▋                       | 99/500 [00:54<03:42,  1.80batch/s]"
     ]
    },
    {
     "name": "stdout",
     "output_type": "stream",
     "text": [
      "1.1515376567840576 tensor(0.) tensor(0.) 0.0 0.0\n"
     ]
    },
    {
     "name": "stderr",
     "output_type": "stream",
     "text": [
      "Epoch 1 Loss: 1.0447:  20%|█████▌                      | 100/500 [00:54<03:37,  1.84batch/s]"
     ]
    },
    {
     "name": "stdout",
     "output_type": "stream",
     "text": [
      "1.0722912549972534 tensor(0.) tensor(0.) 0.0 0.0\n"
     ]
    },
    {
     "name": "stderr",
     "output_type": "stream",
     "text": [
      "Epoch 1 Loss: 1.0450:  20%|█████▋                      | 101/500 [00:55<03:37,  1.84batch/s]"
     ]
    },
    {
     "name": "stdout",
     "output_type": "stream",
     "text": [
      "1.3425946235656738 tensor(0.) tensor(0.) 0.0 0.0\n"
     ]
    },
    {
     "name": "stderr",
     "output_type": "stream",
     "text": [
      "Epoch 1 Loss: 1.0479:  20%|█████▋                      | 102/500 [00:56<03:37,  1.83batch/s]"
     ]
    },
    {
     "name": "stdout",
     "output_type": "stream",
     "text": [
      "0.8585605621337891 tensor(0.) tensor(0.) 0.0 0.0\n"
     ]
    },
    {
     "name": "stderr",
     "output_type": "stream",
     "text": [
      "Epoch 1 Loss: 1.0461:  21%|█████▊                      | 103/500 [00:56<03:39,  1.81batch/s]"
     ]
    },
    {
     "name": "stdout",
     "output_type": "stream",
     "text": [
      "1.1287639141082764 tensor(0.) tensor(0.) 0.0 0.0\n"
     ]
    },
    {
     "name": "stderr",
     "output_type": "stream",
     "text": [
      "Epoch 1 Loss: 1.0468:  21%|█████▊                      | 104/500 [00:57<03:40,  1.80batch/s]"
     ]
    },
    {
     "name": "stdout",
     "output_type": "stream",
     "text": [
      "1.0681225061416626 tensor(0.) tensor(0.) 0.0 0.0\n"
     ]
    },
    {
     "name": "stderr",
     "output_type": "stream",
     "text": [
      "Epoch 1 Loss: 1.0470:  21%|█████▉                      | 105/500 [00:57<03:36,  1.82batch/s]"
     ]
    },
    {
     "name": "stdout",
     "output_type": "stream",
     "text": [
      "0.957232654094696 tensor(0.) tensor(0.) 0.0 0.0\n"
     ]
    },
    {
     "name": "stderr",
     "output_type": "stream",
     "text": [
      "Epoch 1 Loss: 1.0462:  21%|█████▉                      | 106/500 [00:58<03:37,  1.81batch/s]"
     ]
    },
    {
     "name": "stdout",
     "output_type": "stream",
     "text": [
      "1.0058019161224365 tensor(0.) tensor(0.) 0.0 0.0\n"
     ]
    },
    {
     "name": "stderr",
     "output_type": "stream",
     "text": [
      "Epoch 1 Loss: 1.0458:  21%|█████▉                      | 107/500 [00:58<03:33,  1.84batch/s]"
     ]
    },
    {
     "name": "stdout",
     "output_type": "stream",
     "text": [
      "1.0457031726837158 tensor(0.) tensor(0.) 0.0 0.0\n"
     ]
    },
    {
     "name": "stderr",
     "output_type": "stream",
     "text": [
      "Epoch 1 Loss: 1.0458:  22%|██████                      | 108/500 [00:59<03:31,  1.85batch/s]"
     ]
    },
    {
     "name": "stdout",
     "output_type": "stream",
     "text": [
      "0.9179801344871521 tensor(0.) tensor(0.) 0.0 0.0\n"
     ]
    },
    {
     "name": "stderr",
     "output_type": "stream",
     "text": [
      "Epoch 1 Loss: 1.0447:  22%|██████                      | 109/500 [00:59<03:28,  1.87batch/s]"
     ]
    },
    {
     "name": "stdout",
     "output_type": "stream",
     "text": [
      "1.0815379619598389 tensor(0.) tensor(0.) 0.0 0.0\n"
     ]
    },
    {
     "name": "stderr",
     "output_type": "stream",
     "text": [
      "Epoch 1 Loss: 1.0450:  22%|██████▏                     | 110/500 [01:00<03:27,  1.88batch/s]"
     ]
    },
    {
     "name": "stdout",
     "output_type": "stream",
     "text": [
      "1.0312485694885254 tensor(0.) tensor(0.) 0.0 0.0\n"
     ]
    },
    {
     "name": "stderr",
     "output_type": "stream",
     "text": [
      "Epoch 1 Loss: 1.0449:  22%|██████▏                     | 111/500 [01:00<03:26,  1.88batch/s]"
     ]
    },
    {
     "name": "stdout",
     "output_type": "stream",
     "text": [
      "0.981997013092041 tensor(0.) tensor(0.) 0.0 0.0\n"
     ]
    },
    {
     "name": "stderr",
     "output_type": "stream",
     "text": [
      "Epoch 1 Loss: 1.0443:  22%|██████▎                     | 112/500 [01:01<03:26,  1.88batch/s]"
     ]
    },
    {
     "name": "stdout",
     "output_type": "stream",
     "text": [
      "0.9884539246559143 tensor(0.) tensor(0.) 0.0 0.0\n"
     ]
    },
    {
     "name": "stderr",
     "output_type": "stream",
     "text": [
      "Epoch 1 Loss: 1.0438:  23%|██████▎                     | 113/500 [01:01<03:26,  1.87batch/s]"
     ]
    },
    {
     "name": "stdout",
     "output_type": "stream",
     "text": [
      "1.2033886909484863 tensor(0.) tensor(0.) 0.0 0.0\n"
     ]
    },
    {
     "name": "stderr",
     "output_type": "stream",
     "text": [
      "Epoch 1 Loss: 1.0452:  23%|██████▍                     | 114/500 [01:02<03:29,  1.84batch/s]"
     ]
    },
    {
     "name": "stdout",
     "output_type": "stream",
     "text": [
      "0.966174840927124 tensor(0.) tensor(0.) 0.0 0.0\n"
     ]
    },
    {
     "name": "stderr",
     "output_type": "stream",
     "text": [
      "Epoch 1 Loss: 1.0445:  23%|██████▍                     | 115/500 [01:03<03:32,  1.81batch/s]"
     ]
    },
    {
     "name": "stdout",
     "output_type": "stream",
     "text": [
      "1.0573875904083252 tensor(0.) tensor(0.) 0.0 0.0\n"
     ]
    },
    {
     "name": "stderr",
     "output_type": "stream",
     "text": [
      "Epoch 1 Loss: 1.0446:  23%|██████▍                     | 116/500 [01:03<03:33,  1.80batch/s]"
     ]
    },
    {
     "name": "stdout",
     "output_type": "stream",
     "text": [
      "1.209956169128418 tensor(0.) tensor(0.) 0.0 0.0\n"
     ]
    },
    {
     "name": "stderr",
     "output_type": "stream",
     "text": [
      "Epoch 1 Loss: 1.0460:  23%|██████▌                     | 117/500 [01:04<03:33,  1.79batch/s]"
     ]
    },
    {
     "name": "stdout",
     "output_type": "stream",
     "text": [
      "0.9254750609397888 tensor(0.) tensor(0.) 0.0 0.0\n"
     ]
    },
    {
     "name": "stderr",
     "output_type": "stream",
     "text": [
      "Epoch 1 Loss: 1.0450:  24%|██████▌                     | 118/500 [01:04<03:30,  1.81batch/s]"
     ]
    },
    {
     "name": "stdout",
     "output_type": "stream",
     "text": [
      "1.0626424551010132 tensor(0.) tensor(0.) 0.0 0.0\n"
     ]
    },
    {
     "name": "stderr",
     "output_type": "stream",
     "text": [
      "Epoch 1 Loss: 1.0452:  24%|██████▋                     | 119/500 [01:05<03:29,  1.82batch/s]"
     ]
    },
    {
     "name": "stdout",
     "output_type": "stream",
     "text": [
      "1.2122819423675537 tensor(0.) tensor(0.) 0.0 0.0\n"
     ]
    },
    {
     "name": "stderr",
     "output_type": "stream",
     "text": [
      "Epoch 1 Loss: 1.0466:  24%|██████▋                     | 120/500 [01:05<03:26,  1.84batch/s]"
     ]
    },
    {
     "name": "stdout",
     "output_type": "stream",
     "text": [
      "1.0219943523406982 tensor(0.) tensor(0.) 0.0 0.0\n"
     ]
    },
    {
     "name": "stderr",
     "output_type": "stream",
     "text": [
      "Epoch 1 Loss: 1.0464:  24%|██████▊                     | 121/500 [01:06<03:30,  1.80batch/s]"
     ]
    },
    {
     "name": "stdout",
     "output_type": "stream",
     "text": [
      "1.0033499002456665 tensor(0.) tensor(0.) 0.0 0.0\n"
     ]
    },
    {
     "name": "stderr",
     "output_type": "stream",
     "text": [
      "Epoch 1 Loss: 1.0460:  24%|██████▊                     | 122/500 [01:06<03:29,  1.81batch/s]"
     ]
    },
    {
     "name": "stdout",
     "output_type": "stream",
     "text": [
      "1.0347907543182373 tensor(0.) tensor(0.) 0.0 0.0\n"
     ]
    },
    {
     "name": "stderr",
     "output_type": "stream",
     "text": [
      "Epoch 1 Loss: 1.0459:  25%|██████▉                     | 123/500 [01:07<03:27,  1.82batch/s]"
     ]
    },
    {
     "name": "stdout",
     "output_type": "stream",
     "text": [
      "0.9673708081245422 tensor(0.) tensor(0.) 0.0 0.0\n"
     ]
    },
    {
     "name": "stderr",
     "output_type": "stream",
     "text": [
      "Epoch 1 Loss: 1.0453:  25%|██████▉                     | 124/500 [01:08<03:24,  1.84batch/s]"
     ]
    },
    {
     "name": "stdout",
     "output_type": "stream",
     "text": [
      "1.0637924671173096 tensor(0.) tensor(0.) 0.0 0.0\n"
     ]
    },
    {
     "name": "stderr",
     "output_type": "stream",
     "text": [
      "Epoch 1 Loss: 1.0454:  25%|███████                     | 125/500 [01:08<03:26,  1.82batch/s]"
     ]
    },
    {
     "name": "stdout",
     "output_type": "stream",
     "text": [
      "1.037969946861267 tensor(0.) tensor(0.) 0.0 0.0\n"
     ]
    },
    {
     "name": "stderr",
     "output_type": "stream",
     "text": [
      "Epoch 1 Loss: 1.0454:  25%|███████                     | 126/500 [01:09<03:25,  1.82batch/s]"
     ]
    },
    {
     "name": "stdout",
     "output_type": "stream",
     "text": [
      "0.9117128849029541 tensor(0.) tensor(0.) 0.0 0.0\n"
     ]
    },
    {
     "name": "stderr",
     "output_type": "stream",
     "text": [
      "Epoch 1 Loss: 1.0443:  25%|███████                     | 127/500 [01:09<03:24,  1.83batch/s]"
     ]
    },
    {
     "name": "stdout",
     "output_type": "stream",
     "text": [
      "1.1741108894348145 tensor(0.) tensor(0.) 0.0 0.0\n"
     ]
    },
    {
     "name": "stderr",
     "output_type": "stream",
     "text": [
      "Epoch 1 Loss: 1.0453:  26%|███████▏                    | 128/500 [01:10<03:24,  1.82batch/s]"
     ]
    },
    {
     "name": "stdout",
     "output_type": "stream",
     "text": [
      "1.059876799583435 tensor(0.) tensor(0.) 0.0 0.0\n"
     ]
    },
    {
     "name": "stderr",
     "output_type": "stream",
     "text": [
      "Epoch 1 Loss: 1.0454:  26%|███████▏                    | 129/500 [01:10<03:24,  1.81batch/s]"
     ]
    },
    {
     "name": "stdout",
     "output_type": "stream",
     "text": [
      "0.7891587018966675 tensor(0.) tensor(0.) 0.0 0.0\n"
     ]
    },
    {
     "name": "stderr",
     "output_type": "stream",
     "text": [
      "Epoch 1 Loss: 1.0435:  26%|███████▎                    | 130/500 [01:11<03:27,  1.78batch/s]"
     ]
    },
    {
     "name": "stdout",
     "output_type": "stream",
     "text": [
      "1.2206759452819824 tensor(0.) tensor(0.) 0.0 0.0\n"
     ]
    },
    {
     "name": "stderr",
     "output_type": "stream",
     "text": [
      "Epoch 1 Loss: 1.0448:  26%|███████▎                    | 131/500 [01:11<03:28,  1.77batch/s]"
     ]
    },
    {
     "name": "stdout",
     "output_type": "stream",
     "text": [
      "0.9320016503334045 tensor(0.) tensor(0.) 0.0 0.0\n"
     ]
    },
    {
     "name": "stderr",
     "output_type": "stream",
     "text": [
      "Epoch 1 Loss: 1.0440:  26%|███████▍                    | 132/500 [01:12<03:28,  1.76batch/s]"
     ]
    },
    {
     "name": "stdout",
     "output_type": "stream",
     "text": [
      "1.0225340127944946 tensor(0.) tensor(0.) 0.0 0.0\n"
     ]
    },
    {
     "name": "stderr",
     "output_type": "stream",
     "text": [
      "Epoch 1 Loss: 1.0438:  27%|███████▍                    | 133/500 [01:13<03:29,  1.76batch/s]"
     ]
    },
    {
     "name": "stdout",
     "output_type": "stream",
     "text": [
      "1.0678919553756714 tensor(0.) tensor(0.) 0.0 0.0\n"
     ]
    },
    {
     "name": "stderr",
     "output_type": "stream",
     "text": [
      "Epoch 1 Loss: 1.0440:  27%|███████▌                    | 134/500 [01:13<03:24,  1.79batch/s]"
     ]
    },
    {
     "name": "stdout",
     "output_type": "stream",
     "text": [
      "0.9408729672431946 tensor(0.) tensor(0.) 0.0 0.0\n"
     ]
    },
    {
     "name": "stderr",
     "output_type": "stream",
     "text": [
      "Epoch 1 Loss: 1.0432:  27%|███████▌                    | 135/500 [01:14<03:21,  1.81batch/s]"
     ]
    },
    {
     "name": "stdout",
     "output_type": "stream",
     "text": [
      "1.2110439538955688 tensor(0.) tensor(0.) 0.0 0.0\n"
     ]
    },
    {
     "name": "stderr",
     "output_type": "stream",
     "text": [
      "Epoch 1 Loss: 1.0445:  27%|███████▌                    | 136/500 [01:14<03:23,  1.79batch/s]"
     ]
    },
    {
     "name": "stdout",
     "output_type": "stream",
     "text": [
      "1.0169873237609863 tensor(0.) tensor(0.) 0.0 0.0\n"
     ]
    },
    {
     "name": "stderr",
     "output_type": "stream",
     "text": [
      "Epoch 1 Loss: 1.0443:  27%|███████▋                    | 137/500 [01:15<03:23,  1.78batch/s]"
     ]
    },
    {
     "name": "stdout",
     "output_type": "stream",
     "text": [
      "0.8927844762802124 tensor(0.) tensor(0.) 0.0 0.0\n"
     ]
    },
    {
     "name": "stderr",
     "output_type": "stream",
     "text": [
      "Epoch 1 Loss: 1.0432:  28%|███████▋                    | 138/500 [01:15<03:26,  1.76batch/s]"
     ]
    },
    {
     "name": "stdout",
     "output_type": "stream",
     "text": [
      "0.9543500542640686 tensor(0.) tensor(0.) 0.0 0.0\n"
     ]
    },
    {
     "name": "stderr",
     "output_type": "stream",
     "text": [
      "Epoch 1 Loss: 1.0425:  28%|███████▊                    | 139/500 [01:16<03:26,  1.75batch/s]"
     ]
    },
    {
     "name": "stdout",
     "output_type": "stream",
     "text": [
      "0.9357466697692871 tensor(0.) tensor(0.) 0.0 0.0\n"
     ]
    },
    {
     "name": "stderr",
     "output_type": "stream",
     "text": [
      "Epoch 1 Loss: 1.0418:  28%|███████▊                    | 140/500 [01:17<03:25,  1.75batch/s]"
     ]
    },
    {
     "name": "stdout",
     "output_type": "stream",
     "text": [
      "0.99843430519104 tensor(0.) tensor(0.) 0.0 0.0\n"
     ]
    },
    {
     "name": "stderr",
     "output_type": "stream",
     "text": [
      "Epoch 1 Loss: 1.0415:  28%|███████▉                    | 141/500 [01:17<03:22,  1.77batch/s]"
     ]
    },
    {
     "name": "stdout",
     "output_type": "stream",
     "text": [
      "1.1724728345870972 tensor(0.) tensor(0.) 0.0 0.0\n"
     ]
    },
    {
     "name": "stderr",
     "output_type": "stream",
     "text": [
      "Epoch 1 Loss: 1.0424:  28%|███████▉                    | 142/500 [01:18<03:22,  1.77batch/s]"
     ]
    },
    {
     "name": "stdout",
     "output_type": "stream",
     "text": [
      "0.9116004705429077 tensor(0.) tensor(0.) 0.0 0.0\n"
     ]
    },
    {
     "name": "stderr",
     "output_type": "stream",
     "text": [
      "Epoch 1 Loss: 1.0415:  29%|████████                    | 143/500 [01:18<03:04,  1.93batch/s]"
     ]
    },
    {
     "name": "stdout",
     "output_type": "stream",
     "text": [
      "0.9613099694252014 tensor(0.) tensor(0.) 0.0 0.0\n"
     ]
    },
    {
     "name": "stderr",
     "output_type": "stream",
     "text": [
      "Epoch 1 Loss: 1.0409:  29%|████████                    | 144/500 [01:19<03:08,  1.89batch/s]"
     ]
    },
    {
     "name": "stdout",
     "output_type": "stream",
     "text": [
      "1.0548423528671265 tensor(0.) tensor(0.) 0.0 0.0\n"
     ]
    },
    {
     "name": "stderr",
     "output_type": "stream",
     "text": [
      "Epoch 1 Loss: 1.0410:  29%|████████                    | 145/500 [01:19<03:11,  1.85batch/s]"
     ]
    },
    {
     "name": "stdout",
     "output_type": "stream",
     "text": [
      "0.9776305556297302 tensor(0.) tensor(0.) 0.0 0.0\n"
     ]
    },
    {
     "name": "stderr",
     "output_type": "stream",
     "text": [
      "Epoch 1 Loss: 1.0406:  29%|████████▏                   | 146/500 [01:20<03:13,  1.83batch/s]"
     ]
    },
    {
     "name": "stdout",
     "output_type": "stream",
     "text": [
      "0.9753960371017456 tensor(0.) tensor(0.) 0.0 0.0\n"
     ]
    },
    {
     "name": "stderr",
     "output_type": "stream",
     "text": [
      "Epoch 1 Loss: 1.0401:  29%|████████▏                   | 147/500 [01:20<03:13,  1.83batch/s]"
     ]
    },
    {
     "name": "stdout",
     "output_type": "stream",
     "text": [
      "0.9248449802398682 tensor(0.) tensor(0.) 0.0 0.0\n"
     ]
    },
    {
     "name": "stderr",
     "output_type": "stream",
     "text": [
      "Epoch 1 Loss: 1.0393:  30%|████████▎                   | 148/500 [01:21<03:11,  1.84batch/s]"
     ]
    },
    {
     "name": "stdout",
     "output_type": "stream",
     "text": [
      "0.9157342314720154 tensor(0.) tensor(0.) 0.0 0.0\n"
     ]
    },
    {
     "name": "stderr",
     "output_type": "stream",
     "text": [
      "Epoch 1 Loss: 1.0385:  30%|████████▎                   | 149/500 [01:21<03:10,  1.84batch/s]"
     ]
    },
    {
     "name": "stdout",
     "output_type": "stream",
     "text": [
      "0.880378246307373 tensor(0.) tensor(0.) 0.0 0.0\n"
     ]
    },
    {
     "name": "stderr",
     "output_type": "stream",
     "text": [
      "Epoch 1 Loss: 1.0375:  30%|████████▍                   | 150/500 [01:22<03:09,  1.85batch/s]"
     ]
    },
    {
     "name": "stdout",
     "output_type": "stream",
     "text": [
      "0.8660918474197388 tensor(0.) tensor(0.) 0.0 0.0\n"
     ]
    },
    {
     "name": "stderr",
     "output_type": "stream",
     "text": [
      "Epoch 1 Loss: 1.0363:  30%|████████▍                   | 151/500 [01:22<03:10,  1.84batch/s]"
     ]
    },
    {
     "name": "stdout",
     "output_type": "stream",
     "text": [
      "1.0217578411102295 tensor(0.) tensor(0.) 0.0 0.0\n"
     ]
    },
    {
     "name": "stderr",
     "output_type": "stream",
     "text": [
      "Epoch 1 Loss: 1.0362:  30%|████████▌                   | 152/500 [01:23<03:09,  1.84batch/s]"
     ]
    },
    {
     "name": "stdout",
     "output_type": "stream",
     "text": [
      "1.1353834867477417 tensor(0.) tensor(0.) 0.0 0.0\n"
     ]
    },
    {
     "name": "stderr",
     "output_type": "stream",
     "text": [
      "Epoch 1 Loss: 1.0369:  31%|████████▌                   | 153/500 [01:24<03:08,  1.84batch/s]"
     ]
    },
    {
     "name": "stdout",
     "output_type": "stream",
     "text": [
      "1.131830096244812 tensor(0.) tensor(0.) 0.0 0.0\n"
     ]
    },
    {
     "name": "stderr",
     "output_type": "stream",
     "text": [
      "Epoch 1 Loss: 1.0375:  31%|████████▌                   | 154/500 [01:24<03:07,  1.85batch/s]"
     ]
    },
    {
     "name": "stdout",
     "output_type": "stream",
     "text": [
      "0.9897537231445312 tensor(0.) tensor(0.) 0.0 0.0\n"
     ]
    },
    {
     "name": "stderr",
     "output_type": "stream",
     "text": [
      "Epoch 1 Loss: 1.0372:  31%|████████▋                   | 155/500 [01:25<03:07,  1.84batch/s]"
     ]
    },
    {
     "name": "stdout",
     "output_type": "stream",
     "text": [
      "1.0125832557678223 tensor(0.) tensor(0.) 0.0 0.0\n"
     ]
    },
    {
     "name": "stderr",
     "output_type": "stream",
     "text": [
      "Epoch 1 Loss: 1.0370:  31%|████████▋                   | 156/500 [01:25<03:06,  1.84batch/s]"
     ]
    },
    {
     "name": "stdout",
     "output_type": "stream",
     "text": [
      "1.1877591609954834 tensor(0.) tensor(0.) 0.0 0.0\n"
     ]
    },
    {
     "name": "stderr",
     "output_type": "stream",
     "text": [
      "Epoch 1 Loss: 1.0380:  31%|████████▊                   | 157/500 [01:26<03:05,  1.85batch/s]"
     ]
    },
    {
     "name": "stdout",
     "output_type": "stream",
     "text": [
      "1.0931906700134277 tensor(0.) tensor(0.) 0.0 0.0\n"
     ]
    },
    {
     "name": "stderr",
     "output_type": "stream",
     "text": [
      "Epoch 1 Loss: 1.0383:  32%|████████▊                   | 158/500 [01:26<03:07,  1.82batch/s]"
     ]
    },
    {
     "name": "stdout",
     "output_type": "stream",
     "text": [
      "1.0666004419326782 tensor(0.) tensor(0.) 0.0 0.0\n"
     ]
    },
    {
     "name": "stderr",
     "output_type": "stream",
     "text": [
      "Epoch 1 Loss: 1.0385:  32%|████████▉                   | 159/500 [01:27<03:10,  1.79batch/s]"
     ]
    },
    {
     "name": "stdout",
     "output_type": "stream",
     "text": [
      "0.9395939707756042 tensor(0.) tensor(0.) 0.0 0.0\n"
     ]
    },
    {
     "name": "stderr",
     "output_type": "stream",
     "text": [
      "Epoch 1 Loss: 1.0379:  32%|████████▉                   | 160/500 [01:27<03:08,  1.81batch/s]"
     ]
    },
    {
     "name": "stdout",
     "output_type": "stream",
     "text": [
      "1.1965025663375854 tensor(0.) tensor(0.) 0.0 0.0\n"
     ]
    },
    {
     "name": "stderr",
     "output_type": "stream",
     "text": [
      "Epoch 1 Loss: 1.0389:  32%|█████████                   | 161/500 [01:28<03:05,  1.83batch/s]"
     ]
    },
    {
     "name": "stdout",
     "output_type": "stream",
     "text": [
      "1.0962646007537842 tensor(0.) tensor(0.) 0.0 0.0\n"
     ]
    },
    {
     "name": "stderr",
     "output_type": "stream",
     "text": [
      "Epoch 1 Loss: 1.0392:  32%|█████████                   | 162/500 [01:28<03:03,  1.85batch/s]"
     ]
    },
    {
     "name": "stdout",
     "output_type": "stream",
     "text": [
      "0.9009200930595398 tensor(0.) tensor(0.) 0.0 0.0\n"
     ]
    },
    {
     "name": "stderr",
     "output_type": "stream",
     "text": [
      "Epoch 1 Loss: 1.0384:  33%|█████████▏                  | 163/500 [01:29<03:02,  1.85batch/s]"
     ]
    },
    {
     "name": "stdout",
     "output_type": "stream",
     "text": [
      "0.8499475121498108 tensor(0.) tensor(0.) 0.0 0.0\n"
     ]
    },
    {
     "name": "stderr",
     "output_type": "stream",
     "text": [
      "Epoch 1 Loss: 1.0372:  33%|█████████▏                  | 164/500 [01:30<03:00,  1.86batch/s]"
     ]
    },
    {
     "name": "stdout",
     "output_type": "stream",
     "text": [
      "0.9826932549476624 tensor(0.) tensor(0.) 0.0 0.0\n"
     ]
    },
    {
     "name": "stderr",
     "output_type": "stream",
     "text": [
      "Epoch 1 Loss: 1.0369:  33%|█████████▏                  | 165/500 [01:30<02:59,  1.86batch/s]"
     ]
    },
    {
     "name": "stdout",
     "output_type": "stream",
     "text": [
      "0.9067382216453552 tensor(0.) tensor(0.) 0.0 0.0\n"
     ]
    },
    {
     "name": "stderr",
     "output_type": "stream",
     "text": [
      "Epoch 1 Loss: 1.0361:  33%|█████████▎                  | 166/500 [01:31<02:59,  1.86batch/s]"
     ]
    },
    {
     "name": "stdout",
     "output_type": "stream",
     "text": [
      "0.8619918823242188 tensor(0.) tensor(0.) 0.0 0.0\n"
     ]
    },
    {
     "name": "stderr",
     "output_type": "stream",
     "text": [
      "Epoch 1 Loss: 1.0351:  33%|█████████▎                  | 167/500 [01:31<02:58,  1.86batch/s]"
     ]
    },
    {
     "name": "stdout",
     "output_type": "stream",
     "text": [
      "1.0373048782348633 tensor(0.) tensor(0.) 0.0 0.0\n"
     ]
    },
    {
     "name": "stderr",
     "output_type": "stream",
     "text": [
      "Epoch 1 Loss: 1.0351:  34%|█████████▍                  | 168/500 [01:32<03:01,  1.83batch/s]"
     ]
    },
    {
     "name": "stdout",
     "output_type": "stream",
     "text": [
      "1.2479642629623413 tensor(0.) tensor(0.) 0.0 0.0\n"
     ]
    },
    {
     "name": "stderr",
     "output_type": "stream",
     "text": [
      "Epoch 1 Loss: 1.0364:  34%|█████████▍                  | 169/500 [01:32<03:02,  1.81batch/s]"
     ]
    },
    {
     "name": "stdout",
     "output_type": "stream",
     "text": [
      "0.9408336877822876 tensor(0.) tensor(0.) 0.0 0.0\n"
     ]
    },
    {
     "name": "stderr",
     "output_type": "stream",
     "text": [
      "Epoch 1 Loss: 1.0358:  34%|█████████▌                  | 170/500 [01:33<03:01,  1.82batch/s]"
     ]
    },
    {
     "name": "stdout",
     "output_type": "stream",
     "text": [
      "1.025413155555725 tensor(0.) tensor(0.) 0.0 0.0\n"
     ]
    },
    {
     "name": "stderr",
     "output_type": "stream",
     "text": [
      "Epoch 1 Loss: 1.0357:  34%|█████████▌                  | 171/500 [01:33<03:03,  1.79batch/s]"
     ]
    },
    {
     "name": "stdout",
     "output_type": "stream",
     "text": [
      "1.0820180177688599 tensor(0.) tensor(0.) 0.0 0.0\n"
     ]
    },
    {
     "name": "stderr",
     "output_type": "stream",
     "text": [
      "Epoch 1 Loss: 1.0360:  34%|█████████▋                  | 172/500 [01:34<03:00,  1.82batch/s]"
     ]
    },
    {
     "name": "stdout",
     "output_type": "stream",
     "text": [
      "0.8925047516822815 tensor(0.) tensor(0.) 0.0 0.0\n"
     ]
    },
    {
     "name": "stderr",
     "output_type": "stream",
     "text": [
      "Epoch 1 Loss: 1.0352:  35%|█████████▋                  | 173/500 [01:34<02:58,  1.83batch/s]"
     ]
    },
    {
     "name": "stdout",
     "output_type": "stream",
     "text": [
      "1.2396318912506104 tensor(0.) tensor(0.) 0.0 0.0\n"
     ]
    },
    {
     "name": "stderr",
     "output_type": "stream",
     "text": [
      "Epoch 1 Loss: 1.0363:  35%|█████████▋                  | 174/500 [01:35<03:01,  1.80batch/s]"
     ]
    },
    {
     "name": "stdout",
     "output_type": "stream",
     "text": [
      "1.1851598024368286 tensor(0.) tensor(0.) 0.0 0.0\n"
     ]
    },
    {
     "name": "stderr",
     "output_type": "stream",
     "text": [
      "Epoch 1 Loss: 1.0372:  35%|█████████▊                  | 175/500 [01:36<03:02,  1.78batch/s]"
     ]
    },
    {
     "name": "stdout",
     "output_type": "stream",
     "text": [
      "0.9928829669952393 tensor(0.) tensor(0.) 0.0 0.0\n"
     ]
    },
    {
     "name": "stderr",
     "output_type": "stream",
     "text": [
      "Epoch 1 Loss: 1.0369:  35%|█████████▊                  | 176/500 [01:36<03:06,  1.73batch/s]"
     ]
    },
    {
     "name": "stdout",
     "output_type": "stream",
     "text": [
      "1.0394237041473389 tensor(0.) tensor(0.) 0.0 0.0\n"
     ]
    },
    {
     "name": "stderr",
     "output_type": "stream",
     "text": [
      "Epoch 1 Loss: 1.0370:  35%|█████████▉                  | 177/500 [01:37<02:57,  1.82batch/s]"
     ]
    },
    {
     "name": "stdout",
     "output_type": "stream",
     "text": [
      "1.0867457389831543 tensor(0.) tensor(0.) 0.0 0.0\n"
     ]
    },
    {
     "name": "stderr",
     "output_type": "stream",
     "text": [
      "Epoch 1 Loss: 1.0372:  36%|█████████▉                  | 178/500 [01:37<03:02,  1.76batch/s]"
     ]
    },
    {
     "name": "stdout",
     "output_type": "stream",
     "text": [
      "1.1557700634002686 tensor(0.) tensor(0.) 0.0 0.0\n"
     ]
    },
    {
     "name": "stderr",
     "output_type": "stream",
     "text": [
      "Epoch 1 Loss: 1.0379:  36%|██████████                  | 179/500 [01:38<02:58,  1.80batch/s]"
     ]
    },
    {
     "name": "stdout",
     "output_type": "stream",
     "text": [
      "1.0649769306182861 tensor(0.) tensor(0.) 0.0 0.0\n"
     ]
    },
    {
     "name": "stderr",
     "output_type": "stream",
     "text": [
      "Epoch 1 Loss: 1.0381:  36%|██████████                  | 180/500 [01:38<02:59,  1.78batch/s]"
     ]
    },
    {
     "name": "stdout",
     "output_type": "stream",
     "text": [
      "0.9406136870384216 tensor(0.) tensor(0.) 0.0 0.0\n"
     ]
    },
    {
     "name": "stderr",
     "output_type": "stream",
     "text": [
      "Epoch 1 Loss: 1.0375:  36%|██████████▏                 | 181/500 [01:39<02:58,  1.79batch/s]"
     ]
    },
    {
     "name": "stdout",
     "output_type": "stream",
     "text": [
      "1.1285170316696167 tensor(0.) tensor(0.) 0.0 0.0\n"
     ]
    },
    {
     "name": "stderr",
     "output_type": "stream",
     "text": [
      "Epoch 1 Loss: 1.0380:  36%|██████████▏                 | 182/500 [01:39<02:44,  1.94batch/s]"
     ]
    },
    {
     "name": "stdout",
     "output_type": "stream",
     "text": [
      "1.0160669088363647 tensor(0.) tensor(0.) 0.0 0.0\n"
     ]
    },
    {
     "name": "stderr",
     "output_type": "stream",
     "text": [
      "Epoch 1 Loss: 1.0379:  37%|██████████▏                 | 183/500 [01:40<02:48,  1.89batch/s]"
     ]
    },
    {
     "name": "stdout",
     "output_type": "stream",
     "text": [
      "1.1532909870147705 tensor(0.) tensor(0.) 0.0 0.0\n"
     ]
    },
    {
     "name": "stderr",
     "output_type": "stream",
     "text": [
      "Epoch 1 Loss: 1.0385:  37%|██████████▎                 | 184/500 [01:41<02:47,  1.88batch/s]"
     ]
    },
    {
     "name": "stdout",
     "output_type": "stream",
     "text": [
      "0.8827347755432129 tensor(0.) tensor(0.) 0.0 0.0\n"
     ]
    },
    {
     "name": "stderr",
     "output_type": "stream",
     "text": [
      "Epoch 1 Loss: 1.0377:  37%|██████████▎                 | 185/500 [01:41<02:50,  1.85batch/s]"
     ]
    },
    {
     "name": "stdout",
     "output_type": "stream",
     "text": [
      "1.021779179573059 tensor(0.) tensor(0.) 0.0 0.0\n"
     ]
    },
    {
     "name": "stderr",
     "output_type": "stream",
     "text": [
      "Epoch 1 Loss: 1.0376:  37%|██████████▍                 | 186/500 [01:42<02:50,  1.84batch/s]"
     ]
    },
    {
     "name": "stdout",
     "output_type": "stream",
     "text": [
      "0.8348565697669983 tensor(0.) tensor(0.) 0.0 0.0\n"
     ]
    },
    {
     "name": "stderr",
     "output_type": "stream",
     "text": [
      "Epoch 1 Loss: 1.0365:  37%|██████████▍                 | 187/500 [01:42<02:49,  1.84batch/s]"
     ]
    },
    {
     "name": "stdout",
     "output_type": "stream",
     "text": [
      "0.9125062823295593 tensor(0.) tensor(0.) 0.0 0.0\n"
     ]
    },
    {
     "name": "stderr",
     "output_type": "stream",
     "text": [
      "Epoch 1 Loss: 1.0358:  38%|██████████▌                 | 188/500 [01:43<02:36,  1.99batch/s]"
     ]
    },
    {
     "name": "stdout",
     "output_type": "stream",
     "text": [
      "1.1992745399475098 tensor(0.) tensor(0.) 0.0 0.0\n"
     ]
    },
    {
     "name": "stderr",
     "output_type": "stream",
     "text": [
      "Epoch 1 Loss: 1.0367:  38%|██████████▌                 | 189/500 [01:43<02:42,  1.91batch/s]"
     ]
    },
    {
     "name": "stdout",
     "output_type": "stream",
     "text": [
      "1.136553168296814 tensor(0.) tensor(0.) 0.0 0.0\n"
     ]
    },
    {
     "name": "stderr",
     "output_type": "stream",
     "text": [
      "Epoch 1 Loss: 1.0372:  38%|██████████▋                 | 190/500 [01:44<02:45,  1.87batch/s]"
     ]
    },
    {
     "name": "stdout",
     "output_type": "stream",
     "text": [
      "0.8400672674179077 tensor(0.) tensor(0.) 0.0 0.0\n"
     ]
    },
    {
     "name": "stderr",
     "output_type": "stream",
     "text": [
      "Epoch 1 Loss: 1.0362:  38%|██████████▋                 | 191/500 [01:44<02:45,  1.87batch/s]"
     ]
    },
    {
     "name": "stdout",
     "output_type": "stream",
     "text": [
      "1.0602550506591797 tensor(0.) tensor(0.) 0.0 0.0\n"
     ]
    },
    {
     "name": "stderr",
     "output_type": "stream",
     "text": [
      "Epoch 1 Loss: 1.0363:  38%|██████████▊                 | 192/500 [01:45<02:45,  1.86batch/s]"
     ]
    },
    {
     "name": "stdout",
     "output_type": "stream",
     "text": [
      "1.0070440769195557 tensor(0.) tensor(0.) 0.0 0.0\n"
     ]
    },
    {
     "name": "stderr",
     "output_type": "stream",
     "text": [
      "Epoch 1 Loss: 1.0362:  39%|██████████▊                 | 193/500 [01:45<02:46,  1.84batch/s]"
     ]
    },
    {
     "name": "stdout",
     "output_type": "stream",
     "text": [
      "0.9938725829124451 tensor(0.) tensor(0.) 0.0 0.0\n"
     ]
    },
    {
     "name": "stderr",
     "output_type": "stream",
     "text": [
      "Epoch 1 Loss: 1.0360:  39%|██████████▊                 | 194/500 [01:46<02:48,  1.82batch/s]"
     ]
    },
    {
     "name": "stdout",
     "output_type": "stream",
     "text": [
      "1.0014433860778809 tensor(0.) tensor(0.) 0.0 0.0\n"
     ]
    },
    {
     "name": "stderr",
     "output_type": "stream",
     "text": [
      "Epoch 1 Loss: 1.0358:  39%|██████████▉                 | 195/500 [01:46<02:51,  1.77batch/s]"
     ]
    },
    {
     "name": "stdout",
     "output_type": "stream",
     "text": [
      "0.7286499738693237 tensor(0.) tensor(0.) 0.0 0.0\n"
     ]
    },
    {
     "name": "stderr",
     "output_type": "stream",
     "text": [
      "Epoch 1 Loss: 1.0342:  39%|██████████▉                 | 196/500 [01:47<02:48,  1.80batch/s]"
     ]
    },
    {
     "name": "stdout",
     "output_type": "stream",
     "text": [
      "1.1499134302139282 tensor(0.) tensor(0.) 0.0 0.0\n"
     ]
    },
    {
     "name": "stderr",
     "output_type": "stream",
     "text": [
      "Epoch 1 Loss: 1.0348:  39%|███████████                 | 197/500 [01:48<02:49,  1.79batch/s]"
     ]
    },
    {
     "name": "stdout",
     "output_type": "stream",
     "text": [
      "0.9649028778076172 tensor(0.) tensor(0.) 0.0 0.0\n"
     ]
    },
    {
     "name": "stderr",
     "output_type": "stream",
     "text": [
      "Epoch 1 Loss: 1.0345:  40%|███████████                 | 198/500 [01:48<02:46,  1.81batch/s]"
     ]
    },
    {
     "name": "stdout",
     "output_type": "stream",
     "text": [
      "0.8645517826080322 tensor(0.) tensor(0.) 0.0 0.0\n"
     ]
    },
    {
     "name": "stderr",
     "output_type": "stream",
     "text": [
      "Epoch 1 Loss: 1.0336:  40%|███████████▏                | 199/500 [01:49<02:46,  1.81batch/s]"
     ]
    },
    {
     "name": "stdout",
     "output_type": "stream",
     "text": [
      "0.901570737361908 tensor(0.) tensor(0.) 0.0 0.0\n"
     ]
    },
    {
     "name": "stderr",
     "output_type": "stream",
     "text": [
      "Epoch 1 Loss: 1.0329:  40%|███████████▏                | 200/500 [01:49<02:47,  1.79batch/s]"
     ]
    },
    {
     "name": "stdout",
     "output_type": "stream",
     "text": [
      "1.160683274269104 tensor(0.) tensor(0.) 0.0 0.0\n"
     ]
    },
    {
     "name": "stderr",
     "output_type": "stream",
     "text": [
      "Epoch 1 Loss: 1.0336:  40%|███████████▎                | 201/500 [01:50<02:44,  1.81batch/s]"
     ]
    },
    {
     "name": "stdout",
     "output_type": "stream",
     "text": [
      "0.957669734954834 tensor(0.) tensor(0.) 0.0 0.0\n"
     ]
    },
    {
     "name": "stderr",
     "output_type": "stream",
     "text": [
      "Epoch 1 Loss: 1.0332:  40%|███████████▎                | 202/500 [01:50<02:46,  1.79batch/s]"
     ]
    },
    {
     "name": "stdout",
     "output_type": "stream",
     "text": [
      "1.0474178791046143 tensor(0.) tensor(0.) 0.0 0.0\n"
     ]
    },
    {
     "name": "stderr",
     "output_type": "stream",
     "text": [
      "Epoch 1 Loss: 1.0333:  41%|███████████▎                | 203/500 [01:51<02:45,  1.80batch/s]"
     ]
    },
    {
     "name": "stdout",
     "output_type": "stream",
     "text": [
      "0.8377625346183777 tensor(0.) tensor(0.) 0.0 0.0\n"
     ]
    },
    {
     "name": "stderr",
     "output_type": "stream",
     "text": [
      "Epoch 1 Loss: 1.0323:  41%|███████████▍                | 204/500 [01:51<02:45,  1.79batch/s]"
     ]
    },
    {
     "name": "stdout",
     "output_type": "stream",
     "text": [
      "1.2960160970687866 tensor(0.) tensor(0.) 0.0 0.0\n"
     ]
    },
    {
     "name": "stderr",
     "output_type": "stream",
     "text": [
      "Epoch 1 Loss: 1.0336:  41%|███████████▍                | 205/500 [01:52<02:43,  1.80batch/s]"
     ]
    },
    {
     "name": "stdout",
     "output_type": "stream",
     "text": [
      "0.9532304406166077 tensor(0.) tensor(0.) 0.0 0.0\n"
     ]
    },
    {
     "name": "stderr",
     "output_type": "stream",
     "text": [
      "Epoch 1 Loss: 1.0332:  41%|███████████▌                | 206/500 [01:53<02:43,  1.79batch/s]"
     ]
    },
    {
     "name": "stdout",
     "output_type": "stream",
     "text": [
      "0.820519208908081 tensor(0.) tensor(0.) 0.0 0.0\n"
     ]
    },
    {
     "name": "stderr",
     "output_type": "stream",
     "text": [
      "Epoch 1 Loss: 1.0322:  41%|███████████▌                | 207/500 [01:53<02:45,  1.77batch/s]"
     ]
    },
    {
     "name": "stdout",
     "output_type": "stream",
     "text": [
      "0.7801726460456848 tensor(0.) tensor(0.) 0.0 0.0\n"
     ]
    },
    {
     "name": "stderr",
     "output_type": "stream",
     "text": [
      "Epoch 1 Loss: 1.0310:  42%|███████████▋                | 208/500 [01:54<02:42,  1.79batch/s]"
     ]
    },
    {
     "name": "stdout",
     "output_type": "stream",
     "text": [
      "1.1574902534484863 tensor(0.) tensor(0.) 0.0 0.0\n"
     ]
    },
    {
     "name": "stderr",
     "output_type": "stream",
     "text": [
      "Epoch 1 Loss: 1.0316:  42%|███████████▋                | 209/500 [01:54<02:38,  1.84batch/s]"
     ]
    },
    {
     "name": "stdout",
     "output_type": "stream",
     "text": [
      "0.9679808020591736 tensor(0.) tensor(0.) 0.0 0.0\n"
     ]
    },
    {
     "name": "stderr",
     "output_type": "stream",
     "text": [
      "Epoch 1 Loss: 1.0313:  42%|███████████▊                | 210/500 [01:55<02:31,  1.92batch/s]"
     ]
    },
    {
     "name": "stdout",
     "output_type": "stream",
     "text": [
      "0.6846346259117126 tensor(0.) tensor(0.) 0.0 0.0\n"
     ]
    },
    {
     "name": "stderr",
     "output_type": "stream",
     "text": [
      "Epoch 1 Loss: 1.0296:  42%|███████████▊                | 211/500 [01:55<02:29,  1.93batch/s]"
     ]
    },
    {
     "name": "stdout",
     "output_type": "stream",
     "text": [
      "0.9380771517753601 tensor(0.) tensor(0.) 0.0 0.0\n"
     ]
    },
    {
     "name": "stderr",
     "output_type": "stream",
     "text": [
      "Epoch 1 Loss: 1.0292:  42%|███████████▊                | 212/500 [01:56<02:27,  1.95batch/s]"
     ]
    },
    {
     "name": "stdout",
     "output_type": "stream",
     "text": [
      "0.974463701248169 tensor(0.) tensor(0.) 0.0 0.0\n"
     ]
    },
    {
     "name": "stderr",
     "output_type": "stream",
     "text": [
      "Epoch 1 Loss: 1.0289:  43%|███████████▉                | 213/500 [01:56<02:23,  2.00batch/s]"
     ]
    },
    {
     "name": "stdout",
     "output_type": "stream",
     "text": [
      "1.0886962413787842 tensor(0.) tensor(0.) 0.0 0.0\n"
     ]
    },
    {
     "name": "stderr",
     "output_type": "stream",
     "text": [
      "Epoch 1 Loss: 1.0292:  43%|███████████▉                | 214/500 [01:57<02:14,  2.12batch/s]"
     ]
    },
    {
     "name": "stdout",
     "output_type": "stream",
     "text": [
      "0.9270934462547302 tensor(0.) tensor(0.) 0.0 0.0\n"
     ]
    },
    {
     "name": "stderr",
     "output_type": "stream",
     "text": [
      "Epoch 1 Loss: 1.0287:  43%|████████████                | 215/500 [01:57<02:15,  2.10batch/s]"
     ]
    },
    {
     "name": "stdout",
     "output_type": "stream",
     "text": [
      "0.9255820512771606 tensor(0.) tensor(0.) 0.0 0.0\n"
     ]
    },
    {
     "name": "stderr",
     "output_type": "stream",
     "text": [
      "Epoch 1 Loss: 1.0283:  43%|████████████                | 216/500 [01:58<02:18,  2.04batch/s]"
     ]
    },
    {
     "name": "stdout",
     "output_type": "stream",
     "text": [
      "1.128477692604065 tensor(0.) tensor(0.) 0.0 0.0\n"
     ]
    },
    {
     "name": "stderr",
     "output_type": "stream",
     "text": [
      "Epoch 1 Loss: 1.0287:  43%|████████████▏               | 217/500 [01:58<02:23,  1.97batch/s]"
     ]
    },
    {
     "name": "stdout",
     "output_type": "stream",
     "text": [
      "1.0512125492095947 tensor(0.) tensor(0.) 0.0 0.0\n"
     ]
    },
    {
     "name": "stderr",
     "output_type": "stream",
     "text": [
      "Epoch 1 Loss: 1.0288:  44%|████████████▏               | 218/500 [01:59<02:22,  1.98batch/s]"
     ]
    },
    {
     "name": "stdout",
     "output_type": "stream",
     "text": [
      "0.9692317843437195 tensor(0.) tensor(0.) 0.0 0.0\n"
     ]
    },
    {
     "name": "stderr",
     "output_type": "stream",
     "text": [
      "Epoch 1 Loss: 1.0286:  44%|████████████▎               | 219/500 [01:59<02:18,  2.03batch/s]"
     ]
    },
    {
     "name": "stdout",
     "output_type": "stream",
     "text": [
      "1.0820881128311157 tensor(0.) tensor(0.) 0.0 0.0\n"
     ]
    },
    {
     "name": "stderr",
     "output_type": "stream",
     "text": [
      "Epoch 1 Loss: 1.0288:  44%|████████████▎               | 220/500 [02:00<02:12,  2.11batch/s]"
     ]
    },
    {
     "name": "stdout",
     "output_type": "stream",
     "text": [
      "1.1119976043701172 tensor(0.) tensor(0.) 0.0 0.0\n"
     ]
    },
    {
     "name": "stderr",
     "output_type": "stream",
     "text": [
      "Epoch 1 Loss: 1.0292:  44%|████████████▍               | 221/500 [02:00<02:17,  2.03batch/s]"
     ]
    },
    {
     "name": "stdout",
     "output_type": "stream",
     "text": [
      "0.8373664021492004 tensor(0.) tensor(0.) 0.0 0.0\n"
     ]
    },
    {
     "name": "stderr",
     "output_type": "stream",
     "text": [
      "Epoch 1 Loss: 1.0283:  44%|████████████▍               | 222/500 [02:01<02:13,  2.08batch/s]"
     ]
    },
    {
     "name": "stdout",
     "output_type": "stream",
     "text": [
      "1.029473066329956 tensor(0.) tensor(0.) 0.0 0.0\n"
     ]
    },
    {
     "name": "stderr",
     "output_type": "stream",
     "text": [
      "Epoch 1 Loss: 1.0283:  45%|████████████▍               | 223/500 [02:01<02:20,  1.97batch/s]"
     ]
    },
    {
     "name": "stdout",
     "output_type": "stream",
     "text": [
      "0.8389137983322144 tensor(0.) tensor(0.) 0.0 0.0\n"
     ]
    },
    {
     "name": "stderr",
     "output_type": "stream",
     "text": [
      "Epoch 1 Loss: 1.0275:  45%|████████████▌               | 224/500 [02:02<02:17,  2.01batch/s]"
     ]
    },
    {
     "name": "stdout",
     "output_type": "stream",
     "text": [
      "0.8612161874771118 tensor(0.) tensor(0.) 0.0 0.0\n"
     ]
    },
    {
     "name": "stderr",
     "output_type": "stream",
     "text": [
      "Epoch 1 Loss: 1.0267:  45%|████████████▌               | 225/500 [02:02<02:09,  2.12batch/s]"
     ]
    },
    {
     "name": "stdout",
     "output_type": "stream",
     "text": [
      "1.0912904739379883 tensor(0.) tensor(0.) 0.0 0.0\n"
     ]
    },
    {
     "name": "stderr",
     "output_type": "stream",
     "text": [
      "Epoch 1 Loss: 1.0270:  45%|████████████▋               | 226/500 [02:02<02:03,  2.22batch/s]"
     ]
    },
    {
     "name": "stdout",
     "output_type": "stream",
     "text": [
      "1.0701918601989746 tensor(0.) tensor(0.) 0.0 0.0\n"
     ]
    },
    {
     "name": "stderr",
     "output_type": "stream",
     "text": [
      "Epoch 1 Loss: 1.0272:  45%|████████████▋               | 227/500 [02:03<01:59,  2.28batch/s]"
     ]
    },
    {
     "name": "stdout",
     "output_type": "stream",
     "text": [
      "0.7117939591407776 tensor(0.) tensor(0.) 0.0 0.0\n"
     ]
    },
    {
     "name": "stderr",
     "output_type": "stream",
     "text": [
      "Epoch 1 Loss: 1.0258:  46%|████████████▊               | 228/500 [02:03<02:01,  2.24batch/s]"
     ]
    },
    {
     "name": "stdout",
     "output_type": "stream",
     "text": [
      "0.943523108959198 tensor(0.) tensor(0.) 0.0 0.0\n"
     ]
    },
    {
     "name": "stderr",
     "output_type": "stream",
     "text": [
      "Epoch 1 Loss: 1.0255:  46%|████████████▊               | 229/500 [02:04<02:11,  2.07batch/s]"
     ]
    },
    {
     "name": "stdout",
     "output_type": "stream",
     "text": [
      "0.7428555488586426 tensor(0.) tensor(0.) 0.0 0.0\n"
     ]
    },
    {
     "name": "stderr",
     "output_type": "stream",
     "text": [
      "Epoch 1 Loss: 1.0242:  46%|████████████▉               | 230/500 [02:04<02:17,  1.96batch/s]"
     ]
    },
    {
     "name": "stdout",
     "output_type": "stream",
     "text": [
      "1.109948754310608 tensor(0.) tensor(0.) 0.0 0.0\n"
     ]
    },
    {
     "name": "stderr",
     "output_type": "stream",
     "text": [
      "Epoch 1 Loss: 1.0246:  46%|████████████▉               | 231/500 [02:05<02:19,  1.92batch/s]"
     ]
    },
    {
     "name": "stdout",
     "output_type": "stream",
     "text": [
      "0.8558913469314575 tensor(0.) tensor(0.) 0.0 0.0\n"
     ]
    },
    {
     "name": "stderr",
     "output_type": "stream",
     "text": [
      "Epoch 1 Loss: 1.0239:  46%|████████████▉               | 232/500 [02:05<02:21,  1.90batch/s]"
     ]
    },
    {
     "name": "stdout",
     "output_type": "stream",
     "text": [
      "1.3114372491836548 tensor(0.) tensor(0.) 0.0 0.0\n"
     ]
    },
    {
     "name": "stderr",
     "output_type": "stream",
     "text": [
      "Epoch 1 Loss: 1.0251:  47%|█████████████               | 233/500 [02:06<02:22,  1.87batch/s]"
     ]
    },
    {
     "name": "stdout",
     "output_type": "stream",
     "text": [
      "0.965354859828949 tensor(0.) tensor(0.) 0.0 0.0\n"
     ]
    },
    {
     "name": "stderr",
     "output_type": "stream",
     "text": [
      "Epoch 1 Loss: 1.0249:  47%|█████████████               | 234/500 [02:07<02:21,  1.88batch/s]"
     ]
    },
    {
     "name": "stdout",
     "output_type": "stream",
     "text": [
      "1.0125970840454102 tensor(0.) tensor(0.) 0.0 0.0\n"
     ]
    },
    {
     "name": "stderr",
     "output_type": "stream",
     "text": [
      "Epoch 1 Loss: 1.0248:  47%|█████████████▏              | 235/500 [02:07<02:23,  1.84batch/s]"
     ]
    },
    {
     "name": "stdout",
     "output_type": "stream",
     "text": [
      "0.9644440412521362 tensor(0.) tensor(0.) 0.0 0.0\n"
     ]
    },
    {
     "name": "stderr",
     "output_type": "stream",
     "text": [
      "Epoch 1 Loss: 1.0246:  47%|█████████████▏              | 236/500 [02:08<02:26,  1.80batch/s]"
     ]
    },
    {
     "name": "stdout",
     "output_type": "stream",
     "text": [
      "0.9953005909919739 tensor(0.) tensor(0.) 0.0 0.0\n"
     ]
    },
    {
     "name": "stderr",
     "output_type": "stream",
     "text": [
      "Epoch 1 Loss: 1.0244:  47%|█████████████▎              | 237/500 [02:08<02:27,  1.78batch/s]"
     ]
    },
    {
     "name": "stdout",
     "output_type": "stream",
     "text": [
      "1.1087032556533813 tensor(0.) tensor(0.) 0.0 0.0\n"
     ]
    },
    {
     "name": "stderr",
     "output_type": "stream",
     "text": [
      "Epoch 1 Loss: 1.0248:  48%|█████████████▎              | 238/500 [02:09<02:25,  1.81batch/s]"
     ]
    },
    {
     "name": "stdout",
     "output_type": "stream",
     "text": [
      "1.1349774599075317 tensor(0.) tensor(0.) 0.0 0.0\n"
     ]
    },
    {
     "name": "stderr",
     "output_type": "stream",
     "text": [
      "Epoch 1 Loss: 1.0252:  48%|█████████████▍              | 239/500 [02:09<02:26,  1.79batch/s]"
     ]
    },
    {
     "name": "stdout",
     "output_type": "stream",
     "text": [
      "0.7387523651123047 tensor(0.) tensor(0.) 0.0 0.0\n"
     ]
    },
    {
     "name": "stderr",
     "output_type": "stream",
     "text": [
      "Epoch 1 Loss: 1.0241:  48%|█████████████▍              | 240/500 [02:10<02:26,  1.77batch/s]"
     ]
    },
    {
     "name": "stdout",
     "output_type": "stream",
     "text": [
      "0.8366546034812927 tensor(0.) tensor(0.) 0.0 0.0\n"
     ]
    },
    {
     "name": "stderr",
     "output_type": "stream",
     "text": [
      "Epoch 1 Loss: 1.0233:  48%|█████████████▍              | 241/500 [02:11<02:28,  1.74batch/s]"
     ]
    },
    {
     "name": "stdout",
     "output_type": "stream",
     "text": [
      "1.1575967073440552 tensor(0.) tensor(0.) 0.0 0.0\n"
     ]
    },
    {
     "name": "stderr",
     "output_type": "stream",
     "text": [
      "Epoch 1 Loss: 1.0238:  48%|█████████████▌              | 242/500 [02:11<02:24,  1.78batch/s]"
     ]
    },
    {
     "name": "stdout",
     "output_type": "stream",
     "text": [
      "1.085341453552246 tensor(0.) tensor(0.) 0.0 0.0\n"
     ]
    },
    {
     "name": "stderr",
     "output_type": "stream",
     "text": [
      "Epoch 1 Loss: 1.0241:  49%|█████████████▌              | 243/500 [02:12<02:23,  1.79batch/s]"
     ]
    },
    {
     "name": "stdout",
     "output_type": "stream",
     "text": [
      "0.9174513220787048 tensor(0.) tensor(0.) 0.0 0.0\n"
     ]
    },
    {
     "name": "stderr",
     "output_type": "stream",
     "text": [
      "Epoch 1 Loss: 1.0236:  49%|█████████████▋              | 244/500 [02:12<02:21,  1.81batch/s]"
     ]
    },
    {
     "name": "stdout",
     "output_type": "stream",
     "text": [
      "0.9719274044036865 tensor(0.) tensor(0.) 0.0 0.0\n"
     ]
    },
    {
     "name": "stderr",
     "output_type": "stream",
     "text": [
      "Epoch 1 Loss: 1.0234:  49%|█████████████▋              | 245/500 [02:13<02:20,  1.82batch/s]"
     ]
    },
    {
     "name": "stdout",
     "output_type": "stream",
     "text": [
      "0.7824790477752686 tensor(0.) tensor(0.) 0.0 0.0\n"
     ]
    },
    {
     "name": "stderr",
     "output_type": "stream",
     "text": [
      "Epoch 1 Loss: 1.0225:  49%|█████████████▊              | 246/500 [02:13<02:27,  1.72batch/s]"
     ]
    },
    {
     "name": "stdout",
     "output_type": "stream",
     "text": [
      "0.87113356590271 tensor(0.) tensor(0.) 0.0 0.0\n"
     ]
    },
    {
     "name": "stderr",
     "output_type": "stream",
     "text": [
      "Epoch 1 Loss: 1.0218:  49%|█████████████▊              | 247/500 [02:14<02:24,  1.75batch/s]"
     ]
    },
    {
     "name": "stdout",
     "output_type": "stream",
     "text": [
      "0.9120034575462341 tensor(0.) tensor(0.) 0.0 0.0\n"
     ]
    },
    {
     "name": "stderr",
     "output_type": "stream",
     "text": [
      "Epoch 1 Loss: 1.0214:  50%|█████████████▉              | 248/500 [02:14<02:19,  1.81batch/s]"
     ]
    },
    {
     "name": "stdout",
     "output_type": "stream",
     "text": [
      "0.8653469681739807 tensor(0.) tensor(0.) 0.0 0.0\n"
     ]
    },
    {
     "name": "stderr",
     "output_type": "stream",
     "text": [
      "Epoch 1 Loss: 1.0208:  50%|█████████████▉              | 249/500 [02:15<02:20,  1.78batch/s]"
     ]
    },
    {
     "name": "stdout",
     "output_type": "stream",
     "text": [
      "0.8756646513938904 tensor(0.) tensor(0.) 0.0 0.0\n"
     ]
    },
    {
     "name": "stderr",
     "output_type": "stream",
     "text": [
      "Epoch 1 Loss: 1.0202:  50%|██████████████              | 250/500 [02:16<02:19,  1.79batch/s]"
     ]
    },
    {
     "name": "stdout",
     "output_type": "stream",
     "text": [
      "0.9252870678901672 tensor(0.) tensor(0.) 0.0 0.0\n"
     ]
    },
    {
     "name": "stderr",
     "output_type": "stream",
     "text": [
      "Epoch 1 Loss: 1.0198:  50%|██████████████              | 251/500 [02:16<02:18,  1.79batch/s]"
     ]
    },
    {
     "name": "stdout",
     "output_type": "stream",
     "text": [
      "0.8499962091445923 tensor(0.) tensor(0.) 0.0 0.0\n"
     ]
    },
    {
     "name": "stderr",
     "output_type": "stream",
     "text": [
      "Epoch 1 Loss: 1.0191:  50%|██████████████              | 252/500 [02:17<02:21,  1.75batch/s]"
     ]
    },
    {
     "name": "stdout",
     "output_type": "stream",
     "text": [
      "1.1472318172454834 tensor(0.) tensor(0.) 0.0 0.0\n"
     ]
    },
    {
     "name": "stderr",
     "output_type": "stream",
     "text": [
      "Epoch 1 Loss: 1.0196:  51%|██████████████▏             | 253/500 [02:17<02:22,  1.74batch/s]"
     ]
    },
    {
     "name": "stdout",
     "output_type": "stream",
     "text": [
      "1.1697622537612915 tensor(0.) tensor(0.) 0.0 0.0\n"
     ]
    },
    {
     "name": "stderr",
     "output_type": "stream",
     "text": [
      "Epoch 1 Loss: 1.0202:  51%|██████████████▏             | 254/500 [02:18<02:20,  1.75batch/s]"
     ]
    },
    {
     "name": "stdout",
     "output_type": "stream",
     "text": [
      "0.866005003452301 tensor(0.) tensor(0.) 0.0 0.0\n"
     ]
    },
    {
     "name": "stderr",
     "output_type": "stream",
     "text": [
      "Epoch 1 Loss: 1.0196:  51%|██████████████▎             | 255/500 [02:18<02:22,  1.72batch/s]"
     ]
    },
    {
     "name": "stdout",
     "output_type": "stream",
     "text": [
      "0.943122386932373 tensor(0.) tensor(0.) 0.0 0.0\n"
     ]
    },
    {
     "name": "stderr",
     "output_type": "stream",
     "text": [
      "Epoch 1 Loss: 1.0193:  51%|██████████████▎             | 256/500 [02:19<02:18,  1.76batch/s]"
     ]
    },
    {
     "name": "stdout",
     "output_type": "stream",
     "text": [
      "1.0843732357025146 tensor(0.) tensor(0.) 0.0 0.0\n"
     ]
    },
    {
     "name": "stderr",
     "output_type": "stream",
     "text": [
      "Epoch 1 Loss: 1.0196:  51%|██████████████▍             | 257/500 [02:20<02:18,  1.75batch/s]"
     ]
    },
    {
     "name": "stdout",
     "output_type": "stream",
     "text": [
      "1.0051233768463135 tensor(0.) tensor(0.) 0.0 0.0\n"
     ]
    },
    {
     "name": "stderr",
     "output_type": "stream",
     "text": [
      "Epoch 1 Loss: 1.0195:  52%|██████████████▍             | 258/500 [02:20<02:17,  1.76batch/s]"
     ]
    },
    {
     "name": "stdout",
     "output_type": "stream",
     "text": [
      "0.9753142595291138 tensor(0.) tensor(0.) 0.0 0.0\n"
     ]
    },
    {
     "name": "stderr",
     "output_type": "stream",
     "text": [
      "Epoch 1 Loss: 1.0194:  52%|██████████████▌             | 259/500 [02:21<02:17,  1.76batch/s]"
     ]
    },
    {
     "name": "stdout",
     "output_type": "stream",
     "text": [
      "0.8298677802085876 tensor(0.) tensor(0.) 0.0 0.0\n"
     ]
    },
    {
     "name": "stderr",
     "output_type": "stream",
     "text": [
      "Epoch 1 Loss: 1.0186:  52%|██████████████▌             | 260/500 [02:21<02:15,  1.77batch/s]"
     ]
    },
    {
     "name": "stdout",
     "output_type": "stream",
     "text": [
      "1.0036205053329468 tensor(0.) tensor(0.) 0.0 0.0\n"
     ]
    },
    {
     "name": "stderr",
     "output_type": "stream",
     "text": [
      "Epoch 1 Loss: 1.0186:  52%|██████████████▌             | 261/500 [02:22<02:14,  1.77batch/s]"
     ]
    },
    {
     "name": "stdout",
     "output_type": "stream",
     "text": [
      "0.9932523965835571 tensor(0.) tensor(0.) 0.0 0.0\n"
     ]
    },
    {
     "name": "stderr",
     "output_type": "stream",
     "text": [
      "Epoch 1 Loss: 1.0185:  52%|██████████████▋             | 262/500 [02:22<02:10,  1.83batch/s]"
     ]
    },
    {
     "name": "stdout",
     "output_type": "stream",
     "text": [
      "0.8043770790100098 tensor(0.) tensor(0.) 0.0 0.0\n"
     ]
    },
    {
     "name": "stderr",
     "output_type": "stream",
     "text": [
      "Epoch 1 Loss: 1.0177:  53%|██████████████▋             | 263/500 [02:23<02:11,  1.80batch/s]"
     ]
    },
    {
     "name": "stdout",
     "output_type": "stream",
     "text": [
      "0.9783378839492798 tensor(0.) tensor(0.) 0.0 0.0\n"
     ]
    },
    {
     "name": "stderr",
     "output_type": "stream",
     "text": [
      "Epoch 1 Loss: 1.0175:  53%|██████████████▊             | 264/500 [02:23<02:10,  1.81batch/s]"
     ]
    },
    {
     "name": "stdout",
     "output_type": "stream",
     "text": [
      "0.9989471435546875 tensor(0.) tensor(0.) 0.0 0.0\n"
     ]
    },
    {
     "name": "stderr",
     "output_type": "stream",
     "text": [
      "Epoch 1 Loss: 1.0174:  53%|██████████████▊             | 265/500 [02:24<02:10,  1.79batch/s]"
     ]
    },
    {
     "name": "stdout",
     "output_type": "stream",
     "text": [
      "0.9528980851173401 tensor(0.) tensor(0.) 0.0 0.0\n"
     ]
    },
    {
     "name": "stderr",
     "output_type": "stream",
     "text": [
      "Epoch 1 Loss: 1.0172:  53%|██████████████▉             | 266/500 [02:25<02:09,  1.80batch/s]"
     ]
    },
    {
     "name": "stdout",
     "output_type": "stream",
     "text": [
      "1.0145716667175293 tensor(0.) tensor(0.) 0.0 0.0\n"
     ]
    },
    {
     "name": "stderr",
     "output_type": "stream",
     "text": [
      "Epoch 1 Loss: 1.0172:  53%|██████████████▉             | 267/500 [02:25<02:12,  1.75batch/s]"
     ]
    },
    {
     "name": "stdout",
     "output_type": "stream",
     "text": [
      "0.8431041836738586 tensor(0.) tensor(0.) 0.0 0.0\n"
     ]
    },
    {
     "name": "stderr",
     "output_type": "stream",
     "text": [
      "Epoch 1 Loss: 1.0165:  54%|███████████████             | 268/500 [02:26<02:13,  1.74batch/s]"
     ]
    },
    {
     "name": "stdout",
     "output_type": "stream",
     "text": [
      "0.8155160546302795 tensor(0.) tensor(0.) 0.0 0.0\n"
     ]
    },
    {
     "name": "stderr",
     "output_type": "stream",
     "text": [
      "Epoch 1 Loss: 1.0158:  54%|███████████████             | 269/500 [02:26<02:13,  1.73batch/s]"
     ]
    },
    {
     "name": "stdout",
     "output_type": "stream",
     "text": [
      "1.0720205307006836 tensor(0.) tensor(0.) 0.0 0.0\n"
     ]
    },
    {
     "name": "stderr",
     "output_type": "stream",
     "text": [
      "Epoch 1 Loss: 1.0160:  54%|███████████████             | 270/500 [02:27<02:14,  1.72batch/s]"
     ]
    },
    {
     "name": "stdout",
     "output_type": "stream",
     "text": [
      "1.0404986143112183 tensor(0.) tensor(0.) 0.0 0.0\n"
     ]
    },
    {
     "name": "stderr",
     "output_type": "stream",
     "text": [
      "Epoch 1 Loss: 1.0161:  54%|███████████████▏            | 271/500 [02:28<02:12,  1.73batch/s]"
     ]
    },
    {
     "name": "stdout",
     "output_type": "stream",
     "text": [
      "0.96893709897995 tensor(0.) tensor(0.) 0.0 0.0\n"
     ]
    },
    {
     "name": "stderr",
     "output_type": "stream",
     "text": [
      "Epoch 1 Loss: 1.0159:  54%|███████████████▏            | 272/500 [02:28<02:10,  1.75batch/s]"
     ]
    },
    {
     "name": "stdout",
     "output_type": "stream",
     "text": [
      "0.8306770920753479 tensor(0.) tensor(0.) 0.0 0.0\n"
     ]
    },
    {
     "name": "stderr",
     "output_type": "stream",
     "text": [
      "Epoch 1 Loss: 1.0152:  55%|███████████████▎            | 273/500 [02:29<02:04,  1.83batch/s]"
     ]
    },
    {
     "name": "stdout",
     "output_type": "stream",
     "text": [
      "0.9854771494865417 tensor(0.) tensor(0.) 0.0 0.0\n"
     ]
    },
    {
     "name": "stderr",
     "output_type": "stream",
     "text": [
      "Epoch 1 Loss: 1.0151:  55%|███████████████▎            | 274/500 [02:29<02:05,  1.80batch/s]"
     ]
    },
    {
     "name": "stdout",
     "output_type": "stream",
     "text": [
      "0.818378210067749 tensor(0.) tensor(0.) 0.0 0.0\n"
     ]
    },
    {
     "name": "stderr",
     "output_type": "stream",
     "text": [
      "Epoch 1 Loss: 1.0144:  55%|███████████████▍            | 275/500 [02:30<02:05,  1.79batch/s]"
     ]
    },
    {
     "name": "stdout",
     "output_type": "stream",
     "text": [
      "0.9873155951499939 tensor(0.) tensor(0.) 0.0 0.0\n"
     ]
    },
    {
     "name": "stderr",
     "output_type": "stream",
     "text": [
      "Epoch 1 Loss: 1.0143:  55%|███████████████▍            | 276/500 [02:30<02:01,  1.85batch/s]"
     ]
    },
    {
     "name": "stdout",
     "output_type": "stream",
     "text": [
      "0.9000105857849121 tensor(0.) tensor(0.) 0.0 0.0\n"
     ]
    },
    {
     "name": "stderr",
     "output_type": "stream",
     "text": [
      "Epoch 1 Loss: 1.0139:  55%|███████████████▌            | 277/500 [02:31<02:02,  1.83batch/s]"
     ]
    },
    {
     "name": "stdout",
     "output_type": "stream",
     "text": [
      "1.0897709131240845 tensor(0.) tensor(0.) 0.0 0.0\n"
     ]
    },
    {
     "name": "stderr",
     "output_type": "stream",
     "text": [
      "Epoch 1 Loss: 1.0142:  56%|███████████████▌            | 278/500 [02:31<02:07,  1.75batch/s]"
     ]
    },
    {
     "name": "stdout",
     "output_type": "stream",
     "text": [
      "0.9262356758117676 tensor(0.) tensor(0.) 0.0 0.0\n"
     ]
    },
    {
     "name": "stderr",
     "output_type": "stream",
     "text": [
      "Epoch 1 Loss: 1.0139:  56%|███████████████▌            | 279/500 [02:32<02:08,  1.73batch/s]"
     ]
    },
    {
     "name": "stdout",
     "output_type": "stream",
     "text": [
      "0.8732258677482605 tensor(0.) tensor(0.) 0.0 0.0\n"
     ]
    },
    {
     "name": "stderr",
     "output_type": "stream",
     "text": [
      "Epoch 1 Loss: 1.0134:  56%|███████████████▋            | 280/500 [02:33<02:04,  1.76batch/s]"
     ]
    },
    {
     "name": "stdout",
     "output_type": "stream",
     "text": [
      "0.9662052989006042 tensor(0.) tensor(0.) 0.0 0.0\n"
     ]
    },
    {
     "name": "stderr",
     "output_type": "stream",
     "text": [
      "Epoch 1 Loss: 1.0132:  56%|███████████████▋            | 281/500 [02:33<01:59,  1.84batch/s]"
     ]
    },
    {
     "name": "stdout",
     "output_type": "stream",
     "text": [
      "0.9039584994316101 tensor(0.) tensor(0.) 0.0 0.0\n"
     ]
    },
    {
     "name": "stderr",
     "output_type": "stream",
     "text": [
      "Epoch 1 Loss: 1.0128:  56%|███████████████▊            | 282/500 [02:34<02:01,  1.79batch/s]"
     ]
    },
    {
     "name": "stdout",
     "output_type": "stream",
     "text": [
      "1.0934112071990967 tensor(0.) tensor(0.) 0.0 0.0\n"
     ]
    },
    {
     "name": "stderr",
     "output_type": "stream",
     "text": [
      "Epoch 1 Loss: 1.0131:  57%|███████████████▊            | 283/500 [02:34<02:01,  1.79batch/s]"
     ]
    },
    {
     "name": "stdout",
     "output_type": "stream",
     "text": [
      "1.0864468812942505 tensor(0.) tensor(0.) 0.0 0.0\n"
     ]
    },
    {
     "name": "stderr",
     "output_type": "stream",
     "text": [
      "Epoch 1 Loss: 1.0133:  57%|███████████████▉            | 284/500 [02:35<02:02,  1.77batch/s]"
     ]
    },
    {
     "name": "stdout",
     "output_type": "stream",
     "text": [
      "1.019666314125061 tensor(0.) tensor(0.) 0.0 0.0\n"
     ]
    },
    {
     "name": "stderr",
     "output_type": "stream",
     "text": [
      "Epoch 1 Loss: 1.0134:  57%|███████████████▉            | 285/500 [02:35<02:02,  1.76batch/s]"
     ]
    },
    {
     "name": "stdout",
     "output_type": "stream",
     "text": [
      "1.185092568397522 tensor(0.) tensor(0.) 0.0 0.0\n"
     ]
    },
    {
     "name": "stderr",
     "output_type": "stream",
     "text": [
      "Epoch 1 Loss: 1.0140:  57%|████████████████            | 286/500 [02:36<02:00,  1.78batch/s]"
     ]
    },
    {
     "name": "stdout",
     "output_type": "stream",
     "text": [
      "0.9336240887641907 tensor(0.) tensor(0.) 0.0 0.0\n"
     ]
    },
    {
     "name": "stderr",
     "output_type": "stream",
     "text": [
      "Epoch 1 Loss: 1.0137:  57%|████████████████            | 287/500 [02:37<02:01,  1.76batch/s]"
     ]
    },
    {
     "name": "stdout",
     "output_type": "stream",
     "text": [
      "1.0003937482833862 tensor(0.) tensor(0.) 0.0 0.0\n"
     ]
    },
    {
     "name": "stderr",
     "output_type": "stream",
     "text": [
      "Epoch 1 Loss: 1.0136:  58%|████████████████▏           | 288/500 [02:37<02:03,  1.72batch/s]"
     ]
    },
    {
     "name": "stdout",
     "output_type": "stream",
     "text": [
      "1.0549671649932861 tensor(0.) tensor(0.) 0.0 0.0\n"
     ]
    },
    {
     "name": "stderr",
     "output_type": "stream",
     "text": [
      "Epoch 1 Loss: 1.0138:  58%|████████████████▏           | 289/500 [02:38<02:01,  1.74batch/s]"
     ]
    },
    {
     "name": "stdout",
     "output_type": "stream",
     "text": [
      "0.8904438018798828 tensor(0.) tensor(0.) 0.0 0.0\n"
     ]
    },
    {
     "name": "stderr",
     "output_type": "stream",
     "text": [
      "Epoch 1 Loss: 1.0134:  58%|████████████████▏           | 290/500 [02:38<01:59,  1.75batch/s]"
     ]
    },
    {
     "name": "stdout",
     "output_type": "stream",
     "text": [
      "0.9301673173904419 tensor(0.) tensor(0.) 0.0 0.0\n"
     ]
    },
    {
     "name": "stderr",
     "output_type": "stream",
     "text": [
      "Epoch 1 Loss: 1.0131:  58%|████████████████▎           | 291/500 [02:39<01:57,  1.78batch/s]"
     ]
    },
    {
     "name": "stdout",
     "output_type": "stream",
     "text": [
      "1.0733251571655273 tensor(0.) tensor(0.) 0.0 0.0\n"
     ]
    },
    {
     "name": "stderr",
     "output_type": "stream",
     "text": [
      "Epoch 1 Loss: 1.0133:  58%|████████████████▎           | 292/500 [02:39<01:58,  1.75batch/s]"
     ]
    },
    {
     "name": "stdout",
     "output_type": "stream",
     "text": [
      "0.9849848747253418 tensor(0.) tensor(0.) 0.0 0.0\n"
     ]
    },
    {
     "name": "stderr",
     "output_type": "stream",
     "text": [
      "Epoch 1 Loss: 1.0132:  59%|████████████████▍           | 293/500 [02:40<01:56,  1.78batch/s]"
     ]
    },
    {
     "name": "stdout",
     "output_type": "stream",
     "text": [
      "0.9509751796722412 tensor(0.) tensor(0.) 0.0 0.0\n"
     ]
    },
    {
     "name": "stderr",
     "output_type": "stream",
     "text": [
      "Epoch 1 Loss: 1.0130:  59%|████████████████▍           | 294/500 [02:40<01:54,  1.80batch/s]"
     ]
    },
    {
     "name": "stdout",
     "output_type": "stream",
     "text": [
      "0.8377037048339844 tensor(0.) tensor(0.) 0.0 0.0\n"
     ]
    },
    {
     "name": "stderr",
     "output_type": "stream",
     "text": [
      "Epoch 1 Loss: 1.0124:  59%|████████████████▌           | 295/500 [02:41<01:55,  1.78batch/s]"
     ]
    },
    {
     "name": "stdout",
     "output_type": "stream",
     "text": [
      "1.018999457359314 tensor(0.) tensor(0.) 0.0 0.0\n"
     ]
    },
    {
     "name": "stderr",
     "output_type": "stream",
     "text": [
      "Epoch 1 Loss: 1.0124:  59%|████████████████▌           | 296/500 [02:42<01:55,  1.76batch/s]"
     ]
    },
    {
     "name": "stdout",
     "output_type": "stream",
     "text": [
      "1.0794495344161987 tensor(0.) tensor(0.) 0.0 0.0\n"
     ]
    },
    {
     "name": "stderr",
     "output_type": "stream",
     "text": [
      "Epoch 1 Loss: 1.0126:  59%|████████████████▋           | 297/500 [02:42<01:56,  1.75batch/s]"
     ]
    },
    {
     "name": "stdout",
     "output_type": "stream",
     "text": [
      "0.8564697504043579 tensor(0.) tensor(0.) 0.0 0.0\n"
     ]
    },
    {
     "name": "stderr",
     "output_type": "stream",
     "text": [
      "Epoch 1 Loss: 1.0121:  60%|████████████████▋           | 298/500 [02:43<01:54,  1.76batch/s]"
     ]
    },
    {
     "name": "stdout",
     "output_type": "stream",
     "text": [
      "1.1699886322021484 tensor(0.) tensor(0.) 0.0 0.0\n"
     ]
    },
    {
     "name": "stderr",
     "output_type": "stream",
     "text": [
      "Epoch 1 Loss: 1.0126:  60%|████████████████▋           | 299/500 [02:43<01:45,  1.90batch/s]"
     ]
    },
    {
     "name": "stdout",
     "output_type": "stream",
     "text": [
      "0.9090729355812073 tensor(0.) tensor(0.) 0.0 0.0\n"
     ]
    },
    {
     "name": "stderr",
     "output_type": "stream",
     "text": [
      "Epoch 1 Loss: 1.0123:  60%|████████████████▊           | 300/500 [02:44<01:47,  1.87batch/s]"
     ]
    },
    {
     "name": "stdout",
     "output_type": "stream",
     "text": [
      "1.0631976127624512 tensor(0.) tensor(0.) 0.0 0.0\n"
     ]
    },
    {
     "name": "stderr",
     "output_type": "stream",
     "text": [
      "Epoch 1 Loss: 1.0125:  60%|████████████████▊           | 301/500 [02:44<01:47,  1.85batch/s]"
     ]
    },
    {
     "name": "stdout",
     "output_type": "stream",
     "text": [
      "0.9652224183082581 tensor(0.) tensor(0.) 0.0 0.0\n"
     ]
    },
    {
     "name": "stderr",
     "output_type": "stream",
     "text": [
      "Epoch 1 Loss: 1.0123:  60%|████████████████▉           | 302/500 [02:45<01:47,  1.84batch/s]"
     ]
    },
    {
     "name": "stdout",
     "output_type": "stream",
     "text": [
      "1.0716794729232788 tensor(0.) tensor(0.) 0.0 0.0\n"
     ]
    },
    {
     "name": "stderr",
     "output_type": "stream",
     "text": [
      "Epoch 1 Loss: 1.0125:  61%|████████████████▉           | 303/500 [02:45<01:47,  1.82batch/s]"
     ]
    },
    {
     "name": "stdout",
     "output_type": "stream",
     "text": [
      "1.019209384918213 tensor(0.) tensor(0.) 0.0 0.0\n"
     ]
    },
    {
     "name": "stderr",
     "output_type": "stream",
     "text": [
      "Epoch 1 Loss: 1.0125:  61%|█████████████████           | 304/500 [02:46<01:48,  1.80batch/s]"
     ]
    },
    {
     "name": "stdout",
     "output_type": "stream",
     "text": [
      "0.8225595951080322 tensor(0.) tensor(0.) 0.0 0.0\n"
     ]
    },
    {
     "name": "stderr",
     "output_type": "stream",
     "text": [
      "Epoch 1 Loss: 1.0119:  61%|█████████████████           | 305/500 [02:47<01:47,  1.81batch/s]"
     ]
    },
    {
     "name": "stdout",
     "output_type": "stream",
     "text": [
      "1.1712357997894287 tensor(0.) tensor(0.) 0.0 0.0\n"
     ]
    },
    {
     "name": "stderr",
     "output_type": "stream",
     "text": [
      "Epoch 1 Loss: 1.0124:  61%|█████████████████▏          | 306/500 [02:47<01:47,  1.80batch/s]"
     ]
    },
    {
     "name": "stdout",
     "output_type": "stream",
     "text": [
      "1.1252878904342651 tensor(0.) tensor(0.) 0.0 0.0\n"
     ]
    },
    {
     "name": "stderr",
     "output_type": "stream",
     "text": [
      "Epoch 1 Loss: 1.0128:  61%|█████████████████▏          | 307/500 [02:48<01:50,  1.74batch/s]"
     ]
    },
    {
     "name": "stdout",
     "output_type": "stream",
     "text": [
      "1.0096299648284912 tensor(0.) tensor(0.) 0.0 0.0\n"
     ]
    },
    {
     "name": "stderr",
     "output_type": "stream",
     "text": [
      "Epoch 1 Loss: 1.0128:  62%|█████████████████▏          | 308/500 [02:48<01:49,  1.75batch/s]"
     ]
    },
    {
     "name": "stdout",
     "output_type": "stream",
     "text": [
      "0.8544349670410156 tensor(0.) tensor(0.) 0.0 0.0\n"
     ]
    },
    {
     "name": "stderr",
     "output_type": "stream",
     "text": [
      "Epoch 1 Loss: 1.0123:  62%|█████████████████▎          | 309/500 [02:49<01:50,  1.73batch/s]"
     ]
    },
    {
     "name": "stdout",
     "output_type": "stream",
     "text": [
      "0.7045765519142151 tensor(0.) tensor(0.) 0.0 0.0\n"
     ]
    },
    {
     "name": "stderr",
     "output_type": "stream",
     "text": [
      "Epoch 1 Loss: 1.0113:  62%|█████████████████▎          | 310/500 [02:49<01:51,  1.71batch/s]"
     ]
    },
    {
     "name": "stdout",
     "output_type": "stream",
     "text": [
      "1.0710185766220093 tensor(0.) tensor(0.) 0.0 0.0\n"
     ]
    },
    {
     "name": "stderr",
     "output_type": "stream",
     "text": [
      "Epoch 1 Loss: 1.0115:  62%|█████████████████▍          | 311/500 [02:50<01:49,  1.73batch/s]"
     ]
    },
    {
     "name": "stdout",
     "output_type": "stream",
     "text": [
      "1.0758830308914185 tensor(0.) tensor(0.) 0.0 0.0\n"
     ]
    },
    {
     "name": "stderr",
     "output_type": "stream",
     "text": [
      "Epoch 1 Loss: 1.0117:  62%|█████████████████▍          | 312/500 [02:51<01:46,  1.77batch/s]"
     ]
    },
    {
     "name": "stdout",
     "output_type": "stream",
     "text": [
      "1.005660891532898 tensor(0.) tensor(0.) 0.0 0.0\n"
     ]
    },
    {
     "name": "stderr",
     "output_type": "stream",
     "text": [
      "Epoch 1 Loss: 1.0116:  63%|█████████████████▌          | 313/500 [02:51<01:43,  1.81batch/s]"
     ]
    },
    {
     "name": "stdout",
     "output_type": "stream",
     "text": [
      "0.8349522352218628 tensor(0.) tensor(0.) 0.0 0.0\n"
     ]
    },
    {
     "name": "stderr",
     "output_type": "stream",
     "text": [
      "Epoch 1 Loss: 1.0111:  63%|█████████████████▌          | 314/500 [02:52<01:43,  1.80batch/s]"
     ]
    },
    {
     "name": "stdout",
     "output_type": "stream",
     "text": [
      "0.9549679756164551 tensor(0.) tensor(0.) 0.0 0.0\n"
     ]
    },
    {
     "name": "stderr",
     "output_type": "stream",
     "text": [
      "Epoch 1 Loss: 1.0109:  63%|█████████████████▋          | 315/500 [02:52<01:42,  1.80batch/s]"
     ]
    },
    {
     "name": "stdout",
     "output_type": "stream",
     "text": [
      "0.8655350208282471 tensor(0.) tensor(0.) 0.0 0.0\n"
     ]
    },
    {
     "name": "stderr",
     "output_type": "stream",
     "text": [
      "Epoch 1 Loss: 1.0104:  63%|█████████████████▋          | 316/500 [02:53<01:44,  1.77batch/s]"
     ]
    },
    {
     "name": "stdout",
     "output_type": "stream",
     "text": [
      "0.8199191093444824 tensor(0.) tensor(0.) 0.0 0.0\n"
     ]
    },
    {
     "name": "stderr",
     "output_type": "stream",
     "text": [
      "Epoch 1 Loss: 1.0098:  63%|█████████████████▊          | 317/500 [02:53<01:42,  1.78batch/s]"
     ]
    },
    {
     "name": "stdout",
     "output_type": "stream",
     "text": [
      "0.9984707832336426 tensor(0.) tensor(0.) 0.0 0.0\n"
     ]
    },
    {
     "name": "stderr",
     "output_type": "stream",
     "text": [
      "Epoch 1 Loss: 1.0098:  64%|█████████████████▊          | 318/500 [02:54<01:41,  1.80batch/s]"
     ]
    },
    {
     "name": "stdout",
     "output_type": "stream",
     "text": [
      "0.768829882144928 tensor(0.) tensor(0.) 0.0 0.0\n"
     ]
    },
    {
     "name": "stderr",
     "output_type": "stream",
     "text": [
      "Epoch 1 Loss: 1.0091:  64%|█████████████████▊          | 319/500 [02:54<01:37,  1.86batch/s]"
     ]
    },
    {
     "name": "stdout",
     "output_type": "stream",
     "text": [
      "0.9674521088600159 tensor(0.) tensor(0.) 0.0 0.0\n"
     ]
    },
    {
     "name": "stderr",
     "output_type": "stream",
     "text": [
      "Epoch 1 Loss: 1.0089:  64%|█████████████████▉          | 320/500 [02:55<01:38,  1.84batch/s]"
     ]
    },
    {
     "name": "stdout",
     "output_type": "stream",
     "text": [
      "0.8629689812660217 tensor(0.) tensor(0.) 0.0 0.0\n"
     ]
    },
    {
     "name": "stderr",
     "output_type": "stream",
     "text": [
      "Epoch 1 Loss: 1.0085:  64%|█████████████████▉          | 321/500 [02:55<01:38,  1.82batch/s]"
     ]
    },
    {
     "name": "stdout",
     "output_type": "stream",
     "text": [
      "0.8853693604469299 tensor(0.) tensor(0.) 0.0 0.0\n"
     ]
    },
    {
     "name": "stderr",
     "output_type": "stream",
     "text": [
      "Epoch 1 Loss: 1.0081:  64%|██████████████████          | 322/500 [02:56<01:37,  1.83batch/s]"
     ]
    },
    {
     "name": "stdout",
     "output_type": "stream",
     "text": [
      "0.8095201849937439 tensor(0.) tensor(0.) 0.0 0.0\n"
     ]
    },
    {
     "name": "stderr",
     "output_type": "stream",
     "text": [
      "Epoch 1 Loss: 1.0075:  65%|██████████████████          | 323/500 [02:57<01:37,  1.81batch/s]"
     ]
    },
    {
     "name": "stdout",
     "output_type": "stream",
     "text": [
      "0.8698604106903076 tensor(0.) tensor(0.) 0.0 0.0\n"
     ]
    },
    {
     "name": "stderr",
     "output_type": "stream",
     "text": [
      "Epoch 1 Loss: 1.0070:  65%|██████████████████▏         | 324/500 [02:57<01:37,  1.81batch/s]"
     ]
    },
    {
     "name": "stdout",
     "output_type": "stream",
     "text": [
      "0.9911701679229736 tensor(0.) tensor(0.) 0.0 0.0\n"
     ]
    },
    {
     "name": "stderr",
     "output_type": "stream",
     "text": [
      "Epoch 1 Loss: 1.0070:  65%|██████████████████▏         | 325/500 [02:58<01:37,  1.80batch/s]"
     ]
    },
    {
     "name": "stdout",
     "output_type": "stream",
     "text": [
      "0.8606577515602112 tensor(0.) tensor(0.) 0.0 0.0\n"
     ]
    },
    {
     "name": "stderr",
     "output_type": "stream",
     "text": [
      "Epoch 1 Loss: 1.0066:  65%|██████████████████▎         | 326/500 [02:58<01:36,  1.80batch/s]"
     ]
    },
    {
     "name": "stdout",
     "output_type": "stream",
     "text": [
      "1.0234673023223877 tensor(0.) tensor(0.) 0.0 0.0\n"
     ]
    },
    {
     "name": "stderr",
     "output_type": "stream",
     "text": [
      "Epoch 1 Loss: 1.0066:  65%|██████████████████▎         | 327/500 [02:59<01:39,  1.74batch/s]"
     ]
    },
    {
     "name": "stdout",
     "output_type": "stream",
     "text": [
      "1.1362717151641846 tensor(0.) tensor(0.) 0.0 0.0\n"
     ]
    },
    {
     "name": "stderr",
     "output_type": "stream",
     "text": [
      "Epoch 1 Loss: 1.0070:  66%|██████████████████▎         | 328/500 [03:00<01:40,  1.70batch/s]"
     ]
    },
    {
     "name": "stdout",
     "output_type": "stream",
     "text": [
      "0.9710712432861328 tensor(0.) tensor(0.) 0.0 0.0\n"
     ]
    },
    {
     "name": "stderr",
     "output_type": "stream",
     "text": [
      "Epoch 1 Loss: 1.0069:  66%|██████████████████▍         | 329/500 [03:00<01:35,  1.79batch/s]"
     ]
    },
    {
     "name": "stdout",
     "output_type": "stream",
     "text": [
      "0.8191239833831787 tensor(0.) tensor(0.) 0.0 0.0\n"
     ]
    },
    {
     "name": "stderr",
     "output_type": "stream",
     "text": [
      "Epoch 1 Loss: 1.0063:  66%|██████████████████▍         | 330/500 [03:01<01:36,  1.77batch/s]"
     ]
    },
    {
     "name": "stdout",
     "output_type": "stream",
     "text": [
      "0.9508683681488037 tensor(0.) tensor(0.) 0.0 0.0\n"
     ]
    },
    {
     "name": "stderr",
     "output_type": "stream",
     "text": [
      "Epoch 1 Loss: 1.0062:  66%|██████████████████▌         | 331/500 [03:01<01:35,  1.76batch/s]"
     ]
    },
    {
     "name": "stdout",
     "output_type": "stream",
     "text": [
      "1.0316542387008667 tensor(0.) tensor(0.) 0.0 0.0\n"
     ]
    },
    {
     "name": "stderr",
     "output_type": "stream",
     "text": [
      "Epoch 1 Loss: 1.0062:  66%|██████████████████▌         | 332/500 [03:02<01:34,  1.77batch/s]"
     ]
    },
    {
     "name": "stdout",
     "output_type": "stream",
     "text": [
      "0.9858678579330444 tensor(0.) tensor(0.) 0.0 0.0\n"
     ]
    },
    {
     "name": "stderr",
     "output_type": "stream",
     "text": [
      "Epoch 1 Loss: 1.0062:  67%|██████████████████▋         | 333/500 [03:02<01:34,  1.76batch/s]"
     ]
    },
    {
     "name": "stdout",
     "output_type": "stream",
     "text": [
      "1.1755385398864746 tensor(0.) tensor(0.) 0.0 0.0\n"
     ]
    },
    {
     "name": "stderr",
     "output_type": "stream",
     "text": [
      "Epoch 1 Loss: 1.0067:  67%|██████████████████▋         | 334/500 [03:03<01:32,  1.79batch/s]"
     ]
    },
    {
     "name": "stdout",
     "output_type": "stream",
     "text": [
      "1.2283287048339844 tensor(0.) tensor(0.) 0.0 0.0\n"
     ]
    },
    {
     "name": "stderr",
     "output_type": "stream",
     "text": [
      "Epoch 1 Loss: 1.0073:  67%|██████████████████▊         | 335/500 [03:03<01:33,  1.77batch/s]"
     ]
    },
    {
     "name": "stdout",
     "output_type": "stream",
     "text": [
      "1.1495215892791748 tensor(0.) tensor(0.) 0.0 0.0\n"
     ]
    },
    {
     "name": "stderr",
     "output_type": "stream",
     "text": [
      "Epoch 1 Loss: 1.0078:  67%|██████████████████▊         | 336/500 [03:04<01:33,  1.76batch/s]"
     ]
    },
    {
     "name": "stdout",
     "output_type": "stream",
     "text": [
      "1.053056240081787 tensor(0.) tensor(0.) 0.0 0.0\n"
     ]
    },
    {
     "name": "stderr",
     "output_type": "stream",
     "text": [
      "Epoch 1 Loss: 1.0079:  67%|██████████████████▊         | 337/500 [03:05<01:32,  1.76batch/s]"
     ]
    },
    {
     "name": "stdout",
     "output_type": "stream",
     "text": [
      "1.096096396446228 tensor(0.) tensor(0.) 0.0 0.0\n"
     ]
    },
    {
     "name": "stderr",
     "output_type": "stream",
     "text": [
      "Epoch 1 Loss: 1.0082:  68%|██████████████████▉         | 338/500 [03:05<01:33,  1.74batch/s]"
     ]
    },
    {
     "name": "stdout",
     "output_type": "stream",
     "text": [
      "0.8724319338798523 tensor(0.) tensor(0.) 0.0 0.0\n"
     ]
    },
    {
     "name": "stderr",
     "output_type": "stream",
     "text": [
      "Epoch 1 Loss: 1.0078:  68%|██████████████████▉         | 339/500 [03:06<01:30,  1.77batch/s]"
     ]
    },
    {
     "name": "stdout",
     "output_type": "stream",
     "text": [
      "1.0516356229782104 tensor(0.) tensor(0.) 0.0 0.0\n"
     ]
    },
    {
     "name": "stderr",
     "output_type": "stream",
     "text": [
      "Epoch 1 Loss: 1.0079:  68%|███████████████████         | 340/500 [03:06<01:30,  1.77batch/s]"
     ]
    },
    {
     "name": "stdout",
     "output_type": "stream",
     "text": [
      "0.9786754846572876 tensor(0.) tensor(0.) 0.0 0.0\n"
     ]
    },
    {
     "name": "stderr",
     "output_type": "stream",
     "text": [
      "Epoch 1 Loss: 1.0078:  68%|███████████████████         | 341/500 [03:07<01:27,  1.81batch/s]"
     ]
    },
    {
     "name": "stdout",
     "output_type": "stream",
     "text": [
      "1.0446912050247192 tensor(0.) tensor(0.) 0.0 0.0\n"
     ]
    },
    {
     "name": "stderr",
     "output_type": "stream",
     "text": [
      "Epoch 1 Loss: 1.0079:  68%|███████████████████▏        | 342/500 [03:07<01:28,  1.79batch/s]"
     ]
    },
    {
     "name": "stdout",
     "output_type": "stream",
     "text": [
      "0.8337612748146057 tensor(0.) tensor(0.) 0.0 0.0\n"
     ]
    },
    {
     "name": "stderr",
     "output_type": "stream",
     "text": [
      "Epoch 1 Loss: 1.0074:  69%|███████████████████▏        | 343/500 [03:08<01:28,  1.78batch/s]"
     ]
    },
    {
     "name": "stdout",
     "output_type": "stream",
     "text": [
      "0.924996018409729 tensor(0.) tensor(0.) 0.0 0.0\n"
     ]
    },
    {
     "name": "stderr",
     "output_type": "stream",
     "text": [
      "Epoch 1 Loss: 1.0072:  69%|███████████████████▎        | 344/500 [03:08<01:26,  1.81batch/s]"
     ]
    },
    {
     "name": "stdout",
     "output_type": "stream",
     "text": [
      "0.8932567834854126 tensor(0.) tensor(0.) 0.0 0.0\n"
     ]
    },
    {
     "name": "stderr",
     "output_type": "stream",
     "text": [
      "Epoch 1 Loss: 1.0068:  69%|███████████████████▎        | 345/500 [03:09<01:23,  1.86batch/s]"
     ]
    },
    {
     "name": "stdout",
     "output_type": "stream",
     "text": [
      "0.8632676005363464 tensor(0.) tensor(0.) 0.0 0.0\n"
     ]
    },
    {
     "name": "stderr",
     "output_type": "stream",
     "text": [
      "Epoch 1 Loss: 1.0064:  69%|███████████████████▍        | 346/500 [03:09<01:22,  1.86batch/s]"
     ]
    },
    {
     "name": "stdout",
     "output_type": "stream",
     "text": [
      "0.7875470519065857 tensor(0.) tensor(0.) 0.0 0.0\n"
     ]
    },
    {
     "name": "stderr",
     "output_type": "stream",
     "text": [
      "Epoch 1 Loss: 1.0058:  69%|███████████████████▍        | 347/500 [03:10<01:23,  1.83batch/s]"
     ]
    },
    {
     "name": "stdout",
     "output_type": "stream",
     "text": [
      "0.8834306597709656 tensor(0.) tensor(0.) 0.0 0.0\n"
     ]
    },
    {
     "name": "stderr",
     "output_type": "stream",
     "text": [
      "Epoch 1 Loss: 1.0054:  70%|███████████████████▍        | 348/500 [03:11<01:23,  1.83batch/s]"
     ]
    },
    {
     "name": "stdout",
     "output_type": "stream",
     "text": [
      "0.9052085280418396 tensor(0.) tensor(0.) 0.0 0.0\n"
     ]
    },
    {
     "name": "stderr",
     "output_type": "stream",
     "text": [
      "Epoch 1 Loss: 1.0051:  70%|███████████████████▌        | 349/500 [03:11<01:20,  1.87batch/s]"
     ]
    },
    {
     "name": "stdout",
     "output_type": "stream",
     "text": [
      "0.8160825371742249 tensor(0.) tensor(0.) 0.0 0.0\n"
     ]
    },
    {
     "name": "stderr",
     "output_type": "stream",
     "text": [
      "Epoch 1 Loss: 1.0046:  70%|███████████████████▌        | 350/500 [03:12<01:21,  1.85batch/s]"
     ]
    },
    {
     "name": "stdout",
     "output_type": "stream",
     "text": [
      "0.9188752770423889 tensor(0.) tensor(0.) 0.0 0.0\n"
     ]
    },
    {
     "name": "stderr",
     "output_type": "stream",
     "text": [
      "Epoch 1 Loss: 1.0044:  70%|███████████████████▋        | 351/500 [03:12<01:22,  1.80batch/s]"
     ]
    },
    {
     "name": "stdout",
     "output_type": "stream",
     "text": [
      "0.9029638171195984 tensor(0.) tensor(0.) 0.0 0.0\n"
     ]
    },
    {
     "name": "stderr",
     "output_type": "stream",
     "text": [
      "Epoch 1 Loss: 1.0041:  70%|███████████████████▋        | 352/500 [03:13<01:22,  1.79batch/s]"
     ]
    },
    {
     "name": "stdout",
     "output_type": "stream",
     "text": [
      "0.9341028332710266 tensor(0.) tensor(0.) 0.0 0.0\n"
     ]
    },
    {
     "name": "stderr",
     "output_type": "stream",
     "text": [
      "Epoch 1 Loss: 1.0039:  71%|███████████████████▊        | 353/500 [03:13<01:21,  1.81batch/s]"
     ]
    },
    {
     "name": "stdout",
     "output_type": "stream",
     "text": [
      "1.0633567571640015 tensor(0.) tensor(0.) 0.0 0.0\n"
     ]
    },
    {
     "name": "stderr",
     "output_type": "stream",
     "text": [
      "Epoch 1 Loss: 1.0040:  71%|███████████████████▊        | 354/500 [03:14<01:22,  1.78batch/s]"
     ]
    },
    {
     "name": "stdout",
     "output_type": "stream",
     "text": [
      "1.231208324432373 tensor(0.) tensor(0.) 0.0 0.0\n"
     ]
    },
    {
     "name": "stderr",
     "output_type": "stream",
     "text": [
      "Epoch 1 Loss: 1.0047:  71%|███████████████████▉        | 355/500 [03:14<01:21,  1.78batch/s]"
     ]
    },
    {
     "name": "stdout",
     "output_type": "stream",
     "text": [
      "0.9470067024230957 tensor(0.) tensor(0.) 0.0 0.0\n"
     ]
    },
    {
     "name": "stderr",
     "output_type": "stream",
     "text": [
      "Epoch 1 Loss: 1.0045:  71%|███████████████████▉        | 356/500 [03:15<01:22,  1.74batch/s]"
     ]
    },
    {
     "name": "stdout",
     "output_type": "stream",
     "text": [
      "0.90324866771698 tensor(0.) tensor(0.) 0.0 0.0\n"
     ]
    },
    {
     "name": "stderr",
     "output_type": "stream",
     "text": [
      "Epoch 1 Loss: 1.0042:  71%|███████████████████▉        | 357/500 [03:16<01:22,  1.74batch/s]"
     ]
    },
    {
     "name": "stdout",
     "output_type": "stream",
     "text": [
      "1.0042412281036377 tensor(0.) tensor(0.) 0.0 0.0\n"
     ]
    },
    {
     "name": "stderr",
     "output_type": "stream",
     "text": [
      "Epoch 1 Loss: 1.0042:  72%|████████████████████        | 358/500 [03:16<01:19,  1.78batch/s]"
     ]
    },
    {
     "name": "stdout",
     "output_type": "stream",
     "text": [
      "0.718309760093689 tensor(0.) tensor(0.) 0.0 0.0\n"
     ]
    },
    {
     "name": "stderr",
     "output_type": "stream",
     "text": [
      "Epoch 1 Loss: 1.0034:  72%|████████████████████        | 359/500 [03:17<01:19,  1.78batch/s]"
     ]
    },
    {
     "name": "stdout",
     "output_type": "stream",
     "text": [
      "1.0182100534439087 tensor(0.) tensor(0.) 0.0 0.0\n"
     ]
    },
    {
     "name": "stderr",
     "output_type": "stream",
     "text": [
      "Epoch 1 Loss: 1.0035:  72%|████████████████████▏       | 360/500 [03:17<01:18,  1.78batch/s]"
     ]
    },
    {
     "name": "stdout",
     "output_type": "stream",
     "text": [
      "0.8217623233795166 tensor(0.) tensor(0.) 0.0 0.0\n"
     ]
    },
    {
     "name": "stderr",
     "output_type": "stream",
     "text": [
      "Epoch 1 Loss: 1.0030:  72%|████████████████████▏       | 361/500 [03:18<01:18,  1.77batch/s]"
     ]
    },
    {
     "name": "stdout",
     "output_type": "stream",
     "text": [
      "1.0516146421432495 tensor(0.) tensor(0.) 0.0 0.0\n"
     ]
    },
    {
     "name": "stderr",
     "output_type": "stream",
     "text": [
      "Epoch 1 Loss: 1.0031:  72%|████████████████████▎       | 362/500 [03:18<01:16,  1.80batch/s]"
     ]
    },
    {
     "name": "stdout",
     "output_type": "stream",
     "text": [
      "0.9670505523681641 tensor(0.) tensor(0.) 0.0 0.0\n"
     ]
    },
    {
     "name": "stderr",
     "output_type": "stream",
     "text": [
      "Epoch 1 Loss: 1.0030:  73%|████████████████████▎       | 363/500 [03:19<01:17,  1.78batch/s]"
     ]
    },
    {
     "name": "stdout",
     "output_type": "stream",
     "text": [
      "0.9071338772773743 tensor(0.) tensor(0.) 0.0 0.0\n"
     ]
    },
    {
     "name": "stderr",
     "output_type": "stream",
     "text": [
      "Epoch 1 Loss: 1.0027:  73%|████████████████████▍       | 364/500 [03:20<01:18,  1.74batch/s]"
     ]
    },
    {
     "name": "stdout",
     "output_type": "stream",
     "text": [
      "0.8587937355041504 tensor(0.) tensor(0.) 0.0 0.0\n"
     ]
    },
    {
     "name": "stderr",
     "output_type": "stream",
     "text": [
      "Epoch 1 Loss: 1.0024:  73%|████████████████████▍       | 365/500 [03:20<01:17,  1.75batch/s]"
     ]
    },
    {
     "name": "stdout",
     "output_type": "stream",
     "text": [
      "0.8924026489257812 tensor(0.) tensor(0.) 0.0 0.0\n"
     ]
    },
    {
     "name": "stderr",
     "output_type": "stream",
     "text": [
      "Epoch 1 Loss: 1.0021:  73%|████████████████████▍       | 366/500 [03:21<01:17,  1.72batch/s]"
     ]
    },
    {
     "name": "stdout",
     "output_type": "stream",
     "text": [
      "0.7878836989402771 tensor(0.) tensor(0.) 0.0 0.0\n"
     ]
    },
    {
     "name": "stderr",
     "output_type": "stream",
     "text": [
      "Epoch 1 Loss: 1.0015:  73%|████████████████████▌       | 367/500 [03:21<01:15,  1.76batch/s]"
     ]
    },
    {
     "name": "stdout",
     "output_type": "stream",
     "text": [
      "0.7760041952133179 tensor(0.) tensor(0.) 0.0 0.0\n"
     ]
    },
    {
     "name": "stderr",
     "output_type": "stream",
     "text": [
      "Epoch 1 Loss: 1.0009:  74%|████████████████████▌       | 368/500 [03:22<01:15,  1.76batch/s]"
     ]
    },
    {
     "name": "stdout",
     "output_type": "stream",
     "text": [
      "0.7838485240936279 tensor(0.) tensor(0.) 0.0 0.0\n"
     ]
    },
    {
     "name": "stderr",
     "output_type": "stream",
     "text": [
      "Epoch 1 Loss: 1.0003:  74%|████████████████████▋       | 369/500 [03:22<01:14,  1.75batch/s]"
     ]
    },
    {
     "name": "stdout",
     "output_type": "stream",
     "text": [
      "0.899090051651001 tensor(0.) tensor(0.) 0.0 0.0\n"
     ]
    },
    {
     "name": "stderr",
     "output_type": "stream",
     "text": [
      "Epoch 1 Loss: 1.0000:  74%|████████████████████▋       | 370/500 [03:23<01:13,  1.76batch/s]"
     ]
    },
    {
     "name": "stdout",
     "output_type": "stream",
     "text": [
      "0.9809557199478149 tensor(0.) tensor(0.) 0.0 0.0\n"
     ]
    },
    {
     "name": "stderr",
     "output_type": "stream",
     "text": [
      "Epoch 1 Loss: 0.9999:  74%|████████████████████▊       | 371/500 [03:24<01:13,  1.76batch/s]"
     ]
    },
    {
     "name": "stdout",
     "output_type": "stream",
     "text": [
      "0.9059560894966125 tensor(0.) tensor(0.) 0.0 0.0\n"
     ]
    },
    {
     "name": "stderr",
     "output_type": "stream",
     "text": [
      "Epoch 1 Loss: 0.9997:  74%|████████████████████▊       | 372/500 [03:24<01:09,  1.83batch/s]"
     ]
    },
    {
     "name": "stdout",
     "output_type": "stream",
     "text": [
      "0.9375534653663635 tensor(0.) tensor(0.) 0.0 0.0\n"
     ]
    },
    {
     "name": "stderr",
     "output_type": "stream",
     "text": [
      "Epoch 1 Loss: 0.9995:  75%|████████████████████▉       | 373/500 [03:25<01:09,  1.84batch/s]"
     ]
    },
    {
     "name": "stdout",
     "output_type": "stream",
     "text": [
      "0.8943811058998108 tensor(0.) tensor(0.) 0.0 0.0\n"
     ]
    },
    {
     "name": "stderr",
     "output_type": "stream",
     "text": [
      "Epoch 1 Loss: 0.9992:  75%|████████████████████▉       | 374/500 [03:25<01:09,  1.80batch/s]"
     ]
    },
    {
     "name": "stdout",
     "output_type": "stream",
     "text": [
      "1.0320820808410645 tensor(0.) tensor(0.) 0.0 0.0\n"
     ]
    },
    {
     "name": "stderr",
     "output_type": "stream",
     "text": [
      "Epoch 1 Loss: 0.9993:  75%|█████████████████████       | 375/500 [03:26<01:10,  1.78batch/s]"
     ]
    },
    {
     "name": "stdout",
     "output_type": "stream",
     "text": [
      "0.9027848839759827 tensor(0.) tensor(0.) 0.0 0.0\n"
     ]
    },
    {
     "name": "stderr",
     "output_type": "stream",
     "text": [
      "Epoch 1 Loss: 0.9991:  75%|█████████████████████       | 376/500 [03:26<01:07,  1.84batch/s]"
     ]
    },
    {
     "name": "stdout",
     "output_type": "stream",
     "text": [
      "0.8111149072647095 tensor(0.) tensor(0.) 0.0 0.0\n"
     ]
    },
    {
     "name": "stderr",
     "output_type": "stream",
     "text": [
      "Epoch 1 Loss: 0.9986:  75%|█████████████████████       | 377/500 [03:27<01:07,  1.81batch/s]"
     ]
    },
    {
     "name": "stdout",
     "output_type": "stream",
     "text": [
      "1.0153864622116089 tensor(0.) tensor(0.) 0.0 0.0\n"
     ]
    },
    {
     "name": "stderr",
     "output_type": "stream",
     "text": [
      "Epoch 1 Loss: 0.9986:  76%|█████████████████████▏      | 378/500 [03:27<01:07,  1.80batch/s]"
     ]
    },
    {
     "name": "stdout",
     "output_type": "stream",
     "text": [
      "0.9155154228210449 tensor(0.) tensor(0.) 0.0 0.0\n"
     ]
    },
    {
     "name": "stderr",
     "output_type": "stream",
     "text": [
      "Epoch 1 Loss: 0.9984:  76%|█████████████████████▏      | 379/500 [03:28<01:07,  1.79batch/s]"
     ]
    },
    {
     "name": "stdout",
     "output_type": "stream",
     "text": [
      "0.9067652821540833 tensor(0.) tensor(0.) 0.0 0.0\n"
     ]
    },
    {
     "name": "stderr",
     "output_type": "stream",
     "text": [
      "Epoch 1 Loss: 0.9982:  76%|█████████████████████▎      | 380/500 [03:29<01:07,  1.77batch/s]"
     ]
    },
    {
     "name": "stdout",
     "output_type": "stream",
     "text": [
      "0.7605969309806824 tensor(0.) tensor(0.) 0.0 0.0\n"
     ]
    },
    {
     "name": "stderr",
     "output_type": "stream",
     "text": [
      "Epoch 1 Loss: 0.9975:  76%|█████████████████████▎      | 381/500 [03:29<01:08,  1.74batch/s]"
     ]
    },
    {
     "name": "stdout",
     "output_type": "stream",
     "text": [
      "0.9120060205459595 tensor(0.) tensor(0.) 0.0 0.0\n"
     ]
    },
    {
     "name": "stderr",
     "output_type": "stream",
     "text": [
      "Epoch 1 Loss: 0.9973:  76%|█████████████████████▍      | 382/500 [03:30<01:06,  1.76batch/s]"
     ]
    },
    {
     "name": "stdout",
     "output_type": "stream",
     "text": [
      "0.8333637714385986 tensor(0.) tensor(0.) 0.0 0.0\n"
     ]
    },
    {
     "name": "stderr",
     "output_type": "stream",
     "text": [
      "Epoch 1 Loss: 0.9969:  77%|█████████████████████▍      | 383/500 [03:30<01:05,  1.79batch/s]"
     ]
    },
    {
     "name": "stdout",
     "output_type": "stream",
     "text": [
      "1.2514477968215942 tensor(0.) tensor(0.) 0.0 0.0\n"
     ]
    },
    {
     "name": "stderr",
     "output_type": "stream",
     "text": [
      "Epoch 1 Loss: 0.9975:  77%|█████████████████████▌      | 384/500 [03:31<01:04,  1.80batch/s]"
     ]
    },
    {
     "name": "stdout",
     "output_type": "stream",
     "text": [
      "0.9261245727539062 tensor(0.) tensor(0.) 0.0 0.0\n"
     ]
    },
    {
     "name": "stderr",
     "output_type": "stream",
     "text": [
      "Epoch 1 Loss: 0.9974:  77%|█████████████████████▌      | 385/500 [03:31<01:00,  1.89batch/s]"
     ]
    },
    {
     "name": "stdout",
     "output_type": "stream",
     "text": [
      "0.9254114031791687 tensor(0.) tensor(0.) 0.0 0.0\n"
     ]
    },
    {
     "name": "stderr",
     "output_type": "stream",
     "text": [
      "Epoch 1 Loss: 0.9972:  77%|█████████████████████▌      | 386/500 [03:32<01:02,  1.83batch/s]"
     ]
    },
    {
     "name": "stdout",
     "output_type": "stream",
     "text": [
      "1.0809993743896484 tensor(0.) tensor(0.) 0.0 0.0\n"
     ]
    },
    {
     "name": "stderr",
     "output_type": "stream",
     "text": [
      "Epoch 1 Loss: 0.9974:  77%|█████████████████████▋      | 387/500 [03:32<01:01,  1.84batch/s]"
     ]
    },
    {
     "name": "stdout",
     "output_type": "stream",
     "text": [
      "1.0073282718658447 tensor(0.) tensor(0.) 0.0 0.0\n"
     ]
    },
    {
     "name": "stderr",
     "output_type": "stream",
     "text": [
      "Epoch 1 Loss: 0.9974:  78%|█████████████████████▋      | 388/500 [03:33<01:01,  1.82batch/s]"
     ]
    },
    {
     "name": "stdout",
     "output_type": "stream",
     "text": [
      "1.0150971412658691 tensor(0.) tensor(0.) 0.0 0.0\n"
     ]
    },
    {
     "name": "stderr",
     "output_type": "stream",
     "text": [
      "Epoch 1 Loss: 0.9975:  78%|█████████████████████▊      | 389/500 [03:34<01:01,  1.80batch/s]"
     ]
    },
    {
     "name": "stdout",
     "output_type": "stream",
     "text": [
      "0.9382386803627014 tensor(0.) tensor(0.) 0.0 0.0\n"
     ]
    },
    {
     "name": "stderr",
     "output_type": "stream",
     "text": [
      "Epoch 1 Loss: 0.9973:  78%|█████████████████████▊      | 390/500 [03:34<01:01,  1.78batch/s]"
     ]
    },
    {
     "name": "stdout",
     "output_type": "stream",
     "text": [
      "0.9020619988441467 tensor(0.) tensor(0.) 0.0 0.0\n"
     ]
    },
    {
     "name": "stderr",
     "output_type": "stream",
     "text": [
      "Epoch 1 Loss: 0.9971:  78%|█████████████████████▉      | 391/500 [03:35<01:02,  1.73batch/s]"
     ]
    },
    {
     "name": "stdout",
     "output_type": "stream",
     "text": [
      "0.8802438974380493 tensor(0.) tensor(0.) 0.0 0.0\n"
     ]
    },
    {
     "name": "stderr",
     "output_type": "stream",
     "text": [
      "Epoch 1 Loss: 0.9968:  78%|█████████████████████▉      | 392/500 [03:35<01:01,  1.76batch/s]"
     ]
    },
    {
     "name": "stdout",
     "output_type": "stream",
     "text": [
      "1.1251899003982544 tensor(0.) tensor(0.) 0.0 0.0\n"
     ]
    },
    {
     "name": "stderr",
     "output_type": "stream",
     "text": [
      "Epoch 1 Loss: 0.9971:  79%|██████████████████████      | 393/500 [03:36<01:01,  1.73batch/s]"
     ]
    },
    {
     "name": "stdout",
     "output_type": "stream",
     "text": [
      "1.0285670757293701 tensor(0.) tensor(0.) 0.0 0.0\n"
     ]
    },
    {
     "name": "stderr",
     "output_type": "stream",
     "text": [
      "Epoch 1 Loss: 0.9972:  79%|██████████████████████      | 394/500 [03:36<00:59,  1.78batch/s]"
     ]
    },
    {
     "name": "stdout",
     "output_type": "stream",
     "text": [
      "0.7655563354492188 tensor(0.) tensor(0.) 0.0 0.0\n"
     ]
    },
    {
     "name": "stderr",
     "output_type": "stream",
     "text": [
      "Epoch 1 Loss: 0.9966:  79%|██████████████████████      | 395/500 [03:37<00:56,  1.85batch/s]"
     ]
    },
    {
     "name": "stdout",
     "output_type": "stream",
     "text": [
      "0.8775621652603149 tensor(0.) tensor(0.) 0.0 0.0\n"
     ]
    },
    {
     "name": "stderr",
     "output_type": "stream",
     "text": [
      "Epoch 1 Loss: 0.9963:  79%|██████████████████████▏     | 396/500 [03:38<00:58,  1.77batch/s]"
     ]
    },
    {
     "name": "stdout",
     "output_type": "stream",
     "text": [
      "0.7961885333061218 tensor(0.) tensor(0.) 0.0 0.0\n"
     ]
    },
    {
     "name": "stderr",
     "output_type": "stream",
     "text": [
      "Epoch 1 Loss: 0.9958:  79%|██████████████████████▏     | 397/500 [03:38<00:57,  1.79batch/s]"
     ]
    },
    {
     "name": "stdout",
     "output_type": "stream",
     "text": [
      "1.0427902936935425 tensor(0.) tensor(0.) 0.0 0.0\n"
     ]
    },
    {
     "name": "stderr",
     "output_type": "stream",
     "text": [
      "Epoch 1 Loss: 0.9959:  80%|██████████████████████▎     | 398/500 [03:39<00:54,  1.88batch/s]"
     ]
    },
    {
     "name": "stdout",
     "output_type": "stream",
     "text": [
      "0.8036545515060425 tensor(0.) tensor(0.) 0.0 0.0\n"
     ]
    },
    {
     "name": "stderr",
     "output_type": "stream",
     "text": [
      "Epoch 1 Loss: 0.9954:  80%|██████████████████████▎     | 399/500 [03:39<00:54,  1.85batch/s]"
     ]
    },
    {
     "name": "stdout",
     "output_type": "stream",
     "text": [
      "1.0416890382766724 tensor(0.) tensor(0.) 0.0 0.0\n"
     ]
    },
    {
     "name": "stderr",
     "output_type": "stream",
     "text": [
      "Epoch 1 Loss: 0.9955:  80%|██████████████████████▍     | 400/500 [03:40<00:54,  1.83batch/s]"
     ]
    },
    {
     "name": "stdout",
     "output_type": "stream",
     "text": [
      "0.9928978085517883 tensor(0.) tensor(0.) 0.0 0.0\n"
     ]
    },
    {
     "name": "stderr",
     "output_type": "stream",
     "text": [
      "Epoch 1 Loss: 0.9955:  80%|██████████████████████▍     | 401/500 [03:40<00:54,  1.83batch/s]"
     ]
    },
    {
     "name": "stdout",
     "output_type": "stream",
     "text": [
      "0.8040744066238403 tensor(0.) tensor(0.) 0.0 0.0\n"
     ]
    },
    {
     "name": "stderr",
     "output_type": "stream",
     "text": [
      "Epoch 1 Loss: 0.9951:  80%|██████████████████████▌     | 402/500 [03:41<00:54,  1.80batch/s]"
     ]
    },
    {
     "name": "stdout",
     "output_type": "stream",
     "text": [
      "0.9283812642097473 tensor(0.) tensor(0.) 0.0 0.0\n"
     ]
    },
    {
     "name": "stderr",
     "output_type": "stream",
     "text": [
      "Epoch 1 Loss: 0.9949:  81%|██████████████████████▌     | 403/500 [03:41<00:53,  1.81batch/s]"
     ]
    },
    {
     "name": "stdout",
     "output_type": "stream",
     "text": [
      "0.8344881534576416 tensor(0.) tensor(0.) 0.0 0.0\n"
     ]
    },
    {
     "name": "stderr",
     "output_type": "stream",
     "text": [
      "Epoch 1 Loss: 0.9945:  81%|██████████████████████▌     | 404/500 [03:42<00:53,  1.79batch/s]"
     ]
    },
    {
     "name": "stdout",
     "output_type": "stream",
     "text": [
      "0.918140709400177 tensor(0.) tensor(0.) 0.0 0.0\n"
     ]
    },
    {
     "name": "stderr",
     "output_type": "stream",
     "text": [
      "Epoch 1 Loss: 0.9943:  81%|██████████████████████▋     | 405/500 [03:42<00:54,  1.76batch/s]"
     ]
    },
    {
     "name": "stdout",
     "output_type": "stream",
     "text": [
      "0.8117141723632812 tensor(0.) tensor(0.) 0.0 0.0\n"
     ]
    },
    {
     "name": "stderr",
     "output_type": "stream",
     "text": [
      "Epoch 1 Loss: 0.9939:  81%|██████████████████████▋     | 406/500 [03:43<00:51,  1.83batch/s]"
     ]
    },
    {
     "name": "stdout",
     "output_type": "stream",
     "text": [
      "0.9890198707580566 tensor(0.) tensor(0.) 0.0 0.0\n"
     ]
    },
    {
     "name": "stderr",
     "output_type": "stream",
     "text": [
      "Epoch 1 Loss: 0.9938:  81%|██████████████████████▊     | 407/500 [03:44<00:51,  1.80batch/s]"
     ]
    },
    {
     "name": "stdout",
     "output_type": "stream",
     "text": [
      "0.7661739587783813 tensor(0.) tensor(0.) 0.0 0.0\n"
     ]
    },
    {
     "name": "stderr",
     "output_type": "stream",
     "text": [
      "Epoch 1 Loss: 0.9933:  82%|██████████████████████▊     | 408/500 [03:44<00:51,  1.79batch/s]"
     ]
    },
    {
     "name": "stdout",
     "output_type": "stream",
     "text": [
      "1.1363660097122192 tensor(0.) tensor(0.) 0.0 0.0\n"
     ]
    },
    {
     "name": "stderr",
     "output_type": "stream",
     "text": [
      "Epoch 1 Loss: 0.9936:  82%|██████████████████████▉     | 409/500 [03:45<00:51,  1.76batch/s]"
     ]
    },
    {
     "name": "stdout",
     "output_type": "stream",
     "text": [
      "0.8260291814804077 tensor(0.) tensor(0.) 0.0 0.0\n"
     ]
    },
    {
     "name": "stderr",
     "output_type": "stream",
     "text": [
      "Epoch 1 Loss: 0.9932:  82%|██████████████████████▉     | 410/500 [03:45<00:50,  1.77batch/s]"
     ]
    },
    {
     "name": "stdout",
     "output_type": "stream",
     "text": [
      "0.8867759704589844 tensor(0.) tensor(0.) 0.0 0.0\n"
     ]
    },
    {
     "name": "stderr",
     "output_type": "stream",
     "text": [
      "Epoch 1 Loss: 0.9930:  82%|███████████████████████     | 411/500 [03:46<00:50,  1.77batch/s]"
     ]
    },
    {
     "name": "stdout",
     "output_type": "stream",
     "text": [
      "0.9119155406951904 tensor(0.) tensor(0.) 0.0 0.0\n"
     ]
    },
    {
     "name": "stderr",
     "output_type": "stream",
     "text": [
      "Epoch 1 Loss: 0.9928:  82%|███████████████████████     | 412/500 [03:46<00:49,  1.77batch/s]"
     ]
    },
    {
     "name": "stdout",
     "output_type": "stream",
     "text": [
      "0.9380713105201721 tensor(0.) tensor(0.) 0.0 0.0\n"
     ]
    },
    {
     "name": "stderr",
     "output_type": "stream",
     "text": [
      "Epoch 1 Loss: 0.9926:  83%|███████████████████████▏    | 413/500 [03:47<00:49,  1.76batch/s]"
     ]
    },
    {
     "name": "stdout",
     "output_type": "stream",
     "text": [
      "0.8282532691955566 tensor(0.) tensor(0.) 0.0 0.0\n"
     ]
    },
    {
     "name": "stderr",
     "output_type": "stream",
     "text": [
      "Epoch 1 Loss: 0.9922:  83%|███████████████████████▏    | 414/500 [03:48<00:48,  1.77batch/s]"
     ]
    },
    {
     "name": "stdout",
     "output_type": "stream",
     "text": [
      "1.0183916091918945 tensor(0.) tensor(0.) 0.0 0.0\n"
     ]
    },
    {
     "name": "stderr",
     "output_type": "stream",
     "text": [
      "Epoch 1 Loss: 0.9923:  83%|███████████████████████▏    | 415/500 [03:48<00:47,  1.79batch/s]"
     ]
    },
    {
     "name": "stdout",
     "output_type": "stream",
     "text": [
      "0.889976978302002 tensor(0.) tensor(0.) 0.0 0.0\n"
     ]
    },
    {
     "name": "stderr",
     "output_type": "stream",
     "text": [
      "Epoch 1 Loss: 0.9921:  83%|███████████████████████▎    | 416/500 [03:49<00:46,  1.81batch/s]"
     ]
    },
    {
     "name": "stdout",
     "output_type": "stream",
     "text": [
      "0.978944718837738 tensor(0.) tensor(0.) 0.0 0.0\n"
     ]
    },
    {
     "name": "stderr",
     "output_type": "stream",
     "text": [
      "Epoch 1 Loss: 0.9920:  83%|███████████████████████▎    | 417/500 [03:49<00:45,  1.83batch/s]"
     ]
    },
    {
     "name": "stdout",
     "output_type": "stream",
     "text": [
      "0.931657075881958 tensor(0.) tensor(0.) 0.0 0.0\n"
     ]
    },
    {
     "name": "stderr",
     "output_type": "stream",
     "text": [
      "Epoch 1 Loss: 0.9919:  84%|███████████████████████▍    | 418/500 [03:50<00:44,  1.83batch/s]"
     ]
    },
    {
     "name": "stdout",
     "output_type": "stream",
     "text": [
      "0.9519338011741638 tensor(0.) tensor(0.) 0.0 0.0\n"
     ]
    },
    {
     "name": "stderr",
     "output_type": "stream",
     "text": [
      "Epoch 1 Loss: 0.9918:  84%|███████████████████████▍    | 419/500 [03:50<00:44,  1.84batch/s]"
     ]
    },
    {
     "name": "stdout",
     "output_type": "stream",
     "text": [
      "0.8912315368652344 tensor(0.) tensor(0.) 0.0 0.0\n"
     ]
    },
    {
     "name": "stderr",
     "output_type": "stream",
     "text": [
      "Epoch 1 Loss: 0.9915:  84%|███████████████████████▌    | 420/500 [03:51<00:44,  1.81batch/s]"
     ]
    },
    {
     "name": "stdout",
     "output_type": "stream",
     "text": [
      "1.0851155519485474 tensor(0.) tensor(0.) 0.0 0.0\n"
     ]
    },
    {
     "name": "stderr",
     "output_type": "stream",
     "text": [
      "Epoch 1 Loss: 0.9918:  84%|███████████████████████▌    | 421/500 [03:51<00:43,  1.80batch/s]"
     ]
    },
    {
     "name": "stdout",
     "output_type": "stream",
     "text": [
      "0.8631420135498047 tensor(0.) tensor(0.) 0.0 0.0\n"
     ]
    },
    {
     "name": "stderr",
     "output_type": "stream",
     "text": [
      "Epoch 1 Loss: 0.9915:  84%|███████████████████████▋    | 422/500 [03:52<00:43,  1.80batch/s]"
     ]
    },
    {
     "name": "stdout",
     "output_type": "stream",
     "text": [
      "1.0248910188674927 tensor(0.) tensor(0.) 0.0 0.0\n"
     ]
    },
    {
     "name": "stderr",
     "output_type": "stream",
     "text": [
      "Epoch 1 Loss: 0.9915:  85%|███████████████████████▋    | 423/500 [03:53<00:43,  1.75batch/s]"
     ]
    },
    {
     "name": "stdout",
     "output_type": "stream",
     "text": [
      "0.767545759677887 tensor(0.) tensor(0.) 0.0 0.0\n"
     ]
    },
    {
     "name": "stderr",
     "output_type": "stream",
     "text": [
      "Epoch 1 Loss: 0.9910:  85%|███████████████████████▋    | 424/500 [03:53<00:42,  1.78batch/s]"
     ]
    },
    {
     "name": "stdout",
     "output_type": "stream",
     "text": [
      "0.7686960697174072 tensor(0.) tensor(0.) 0.0 0.0\n"
     ]
    },
    {
     "name": "stderr",
     "output_type": "stream",
     "text": [
      "Epoch 1 Loss: 0.9905:  85%|███████████████████████▊    | 425/500 [03:54<00:42,  1.77batch/s]"
     ]
    },
    {
     "name": "stdout",
     "output_type": "stream",
     "text": [
      "0.9037522673606873 tensor(0.) tensor(0.) 0.0 0.0\n"
     ]
    },
    {
     "name": "stderr",
     "output_type": "stream",
     "text": [
      "Epoch 1 Loss: 0.9903:  85%|███████████████████████▊    | 426/500 [03:54<00:43,  1.71batch/s]"
     ]
    },
    {
     "name": "stdout",
     "output_type": "stream",
     "text": [
      "0.8497723340988159 tensor(0.) tensor(0.) 0.0 0.0\n"
     ]
    },
    {
     "name": "stderr",
     "output_type": "stream",
     "text": [
      "Epoch 1 Loss: 0.9900:  85%|███████████████████████▉    | 427/500 [03:55<00:41,  1.76batch/s]"
     ]
    },
    {
     "name": "stdout",
     "output_type": "stream",
     "text": [
      "0.8888976573944092 tensor(0.) tensor(0.) 0.0 0.0\n"
     ]
    },
    {
     "name": "stderr",
     "output_type": "stream",
     "text": [
      "Epoch 1 Loss: 0.9897:  86%|███████████████████████▉    | 428/500 [03:55<00:40,  1.78batch/s]"
     ]
    },
    {
     "name": "stdout",
     "output_type": "stream",
     "text": [
      "0.9554420709609985 tensor(0.) tensor(0.) 0.0 0.0\n"
     ]
    },
    {
     "name": "stderr",
     "output_type": "stream",
     "text": [
      "Epoch 1 Loss: 0.9896:  86%|████████████████████████    | 429/500 [03:56<00:39,  1.81batch/s]"
     ]
    },
    {
     "name": "stdout",
     "output_type": "stream",
     "text": [
      "1.1025186777114868 tensor(0.) tensor(0.) 0.0 0.0\n"
     ]
    },
    {
     "name": "stderr",
     "output_type": "stream",
     "text": [
      "Epoch 1 Loss: 0.9899:  86%|████████████████████████    | 430/500 [03:56<00:39,  1.79batch/s]"
     ]
    },
    {
     "name": "stdout",
     "output_type": "stream",
     "text": [
      "0.964377760887146 tensor(0.) tensor(0.) 0.0 0.0\n"
     ]
    },
    {
     "name": "stderr",
     "output_type": "stream",
     "text": [
      "Epoch 1 Loss: 0.9898:  86%|████████████████████████▏   | 431/500 [03:57<00:38,  1.80batch/s]"
     ]
    },
    {
     "name": "stdout",
     "output_type": "stream",
     "text": [
      "0.8601844906806946 tensor(0.) tensor(0.) 0.0 0.0\n"
     ]
    },
    {
     "name": "stderr",
     "output_type": "stream",
     "text": [
      "Epoch 1 Loss: 0.9895:  86%|████████████████████████▏   | 432/500 [03:58<00:37,  1.81batch/s]"
     ]
    },
    {
     "name": "stdout",
     "output_type": "stream",
     "text": [
      "0.8648536205291748 tensor(0.) tensor(0.) 0.0 0.0\n"
     ]
    },
    {
     "name": "stderr",
     "output_type": "stream",
     "text": [
      "Epoch 1 Loss: 0.9893:  87%|████████████████████████▏   | 433/500 [03:58<00:37,  1.80batch/s]"
     ]
    },
    {
     "name": "stdout",
     "output_type": "stream",
     "text": [
      "0.926170825958252 tensor(0.) tensor(0.) 0.0 0.0\n"
     ]
    },
    {
     "name": "stderr",
     "output_type": "stream",
     "text": [
      "Epoch 1 Loss: 0.9891:  87%|████████████████████████▎   | 434/500 [03:59<00:36,  1.81batch/s]"
     ]
    },
    {
     "name": "stdout",
     "output_type": "stream",
     "text": [
      "0.8714578747749329 tensor(0.) tensor(0.) 0.0 0.0\n"
     ]
    },
    {
     "name": "stderr",
     "output_type": "stream",
     "text": [
      "Epoch 1 Loss: 0.9888:  87%|████████████████████████▎   | 435/500 [03:59<00:35,  1.81batch/s]"
     ]
    },
    {
     "name": "stdout",
     "output_type": "stream",
     "text": [
      "1.0145496129989624 tensor(0.) tensor(0.) 0.0 0.0\n"
     ]
    },
    {
     "name": "stderr",
     "output_type": "stream",
     "text": [
      "Epoch 1 Loss: 0.9889:  87%|████████████████████████▍   | 436/500 [04:00<00:35,  1.82batch/s]"
     ]
    },
    {
     "name": "stdout",
     "output_type": "stream",
     "text": [
      "0.8745225667953491 tensor(0.) tensor(0.) 0.0 0.0\n"
     ]
    },
    {
     "name": "stderr",
     "output_type": "stream",
     "text": [
      "Epoch 1 Loss: 0.9886:  87%|████████████████████████▍   | 437/500 [04:00<00:34,  1.82batch/s]"
     ]
    },
    {
     "name": "stdout",
     "output_type": "stream",
     "text": [
      "0.9417824745178223 tensor(0.) tensor(0.) 0.0 0.0\n"
     ]
    },
    {
     "name": "stderr",
     "output_type": "stream",
     "text": [
      "Epoch 1 Loss: 0.9885:  88%|████████████████████████▌   | 438/500 [04:01<00:33,  1.83batch/s]"
     ]
    },
    {
     "name": "stdout",
     "output_type": "stream",
     "text": [
      "1.0566365718841553 tensor(0.) tensor(0.) 0.0 0.0\n"
     ]
    },
    {
     "name": "stderr",
     "output_type": "stream",
     "text": [
      "Epoch 1 Loss: 0.9887:  88%|████████████████████████▌   | 439/500 [04:01<00:34,  1.78batch/s]"
     ]
    },
    {
     "name": "stdout",
     "output_type": "stream",
     "text": [
      "0.8550092577934265 tensor(0.) tensor(0.) 0.0 0.0\n"
     ]
    },
    {
     "name": "stderr",
     "output_type": "stream",
     "text": [
      "Epoch 1 Loss: 0.9884:  88%|████████████████████████▋   | 440/500 [04:02<00:33,  1.78batch/s]"
     ]
    },
    {
     "name": "stdout",
     "output_type": "stream",
     "text": [
      "0.8127660155296326 tensor(0.) tensor(0.) 0.0 0.0\n"
     ]
    },
    {
     "name": "stderr",
     "output_type": "stream",
     "text": [
      "Epoch 1 Loss: 0.9880:  88%|████████████████████████▋   | 441/500 [04:02<00:31,  1.86batch/s]"
     ]
    },
    {
     "name": "stdout",
     "output_type": "stream",
     "text": [
      "0.7149497866630554 tensor(0.) tensor(0.) 0.0 0.0\n"
     ]
    },
    {
     "name": "stderr",
     "output_type": "stream",
     "text": [
      "Epoch 1 Loss: 0.9874:  88%|████████████████████████▊   | 442/500 [04:03<00:30,  1.90batch/s]"
     ]
    },
    {
     "name": "stdout",
     "output_type": "stream",
     "text": [
      "1.1130549907684326 tensor(0.) tensor(0.) 0.0 0.0\n"
     ]
    },
    {
     "name": "stderr",
     "output_type": "stream",
     "text": [
      "Epoch 1 Loss: 0.9877:  89%|████████████████████████▊   | 443/500 [04:04<00:30,  1.90batch/s]"
     ]
    },
    {
     "name": "stdout",
     "output_type": "stream",
     "text": [
      "1.087448239326477 tensor(0.) tensor(0.) 0.0 0.0\n"
     ]
    },
    {
     "name": "stderr",
     "output_type": "stream",
     "text": [
      "Epoch 1 Loss: 0.9879:  89%|████████████████████████▊   | 444/500 [04:04<00:30,  1.85batch/s]"
     ]
    },
    {
     "name": "stdout",
     "output_type": "stream",
     "text": [
      "0.8915082812309265 tensor(0.) tensor(0.) 0.0 0.0\n"
     ]
    },
    {
     "name": "stderr",
     "output_type": "stream",
     "text": [
      "Epoch 1 Loss: 0.9877:  89%|████████████████████████▉   | 445/500 [04:05<00:30,  1.82batch/s]"
     ]
    },
    {
     "name": "stdout",
     "output_type": "stream",
     "text": [
      "0.8539735674858093 tensor(0.) tensor(0.) 0.0 0.0\n"
     ]
    },
    {
     "name": "stderr",
     "output_type": "stream",
     "text": [
      "Epoch 1 Loss: 0.9874:  89%|████████████████████████▉   | 446/500 [04:05<00:29,  1.80batch/s]"
     ]
    },
    {
     "name": "stdout",
     "output_type": "stream",
     "text": [
      "0.9219934940338135 tensor(0.) tensor(0.) 0.0 0.0\n"
     ]
    },
    {
     "name": "stderr",
     "output_type": "stream",
     "text": [
      "Epoch 1 Loss: 0.9872:  89%|█████████████████████████   | 447/500 [04:06<00:29,  1.79batch/s]"
     ]
    },
    {
     "name": "stdout",
     "output_type": "stream",
     "text": [
      "0.94126296043396 tensor(0.) tensor(0.) 0.0 0.0\n"
     ]
    },
    {
     "name": "stderr",
     "output_type": "stream",
     "text": [
      "Epoch 1 Loss: 0.9871:  90%|█████████████████████████   | 448/500 [04:06<00:28,  1.79batch/s]"
     ]
    },
    {
     "name": "stdout",
     "output_type": "stream",
     "text": [
      "0.9678489565849304 tensor(0.) tensor(0.) 0.0 0.0\n"
     ]
    },
    {
     "name": "stderr",
     "output_type": "stream",
     "text": [
      "Epoch 1 Loss: 0.9871:  90%|█████████████████████████▏  | 449/500 [04:07<00:28,  1.78batch/s]"
     ]
    },
    {
     "name": "stdout",
     "output_type": "stream",
     "text": [
      "0.7677882313728333 tensor(0.) tensor(0.) 0.0 0.0\n"
     ]
    },
    {
     "name": "stderr",
     "output_type": "stream",
     "text": [
      "Epoch 1 Loss: 0.9866:  90%|█████████████████████████▏  | 450/500 [04:07<00:27,  1.81batch/s]"
     ]
    },
    {
     "name": "stdout",
     "output_type": "stream",
     "text": [
      "0.8675557971000671 tensor(0.) tensor(0.) 0.0 0.0\n"
     ]
    },
    {
     "name": "stderr",
     "output_type": "stream",
     "text": [
      "Epoch 1 Loss: 0.9863:  90%|█████████████████████████▎  | 451/500 [04:08<00:27,  1.79batch/s]"
     ]
    },
    {
     "name": "stdout",
     "output_type": "stream",
     "text": [
      "0.790632426738739 tensor(0.) tensor(0.) 0.0 0.0\n"
     ]
    },
    {
     "name": "stderr",
     "output_type": "stream",
     "text": [
      "Epoch 1 Loss: 0.9859:  90%|█████████████████████████▎  | 452/500 [04:09<00:26,  1.80batch/s]"
     ]
    },
    {
     "name": "stdout",
     "output_type": "stream",
     "text": [
      "0.9427925944328308 tensor(0.) tensor(0.) 0.0 0.0\n"
     ]
    },
    {
     "name": "stderr",
     "output_type": "stream",
     "text": [
      "Epoch 1 Loss: 0.9858:  91%|█████████████████████████▎  | 453/500 [04:09<00:26,  1.81batch/s]"
     ]
    },
    {
     "name": "stdout",
     "output_type": "stream",
     "text": [
      "1.045799732208252 tensor(0.) tensor(0.) 0.0 0.0\n"
     ]
    },
    {
     "name": "stderr",
     "output_type": "stream",
     "text": [
      "Epoch 1 Loss: 0.9859:  91%|█████████████████████████▍  | 454/500 [04:10<00:24,  1.84batch/s]"
     ]
    },
    {
     "name": "stdout",
     "output_type": "stream",
     "text": [
      "0.9365597367286682 tensor(0.) tensor(0.) 0.0 0.0\n"
     ]
    },
    {
     "name": "stderr",
     "output_type": "stream",
     "text": [
      "Epoch 1 Loss: 0.9858:  91%|█████████████████████████▍  | 455/500 [04:10<00:24,  1.82batch/s]"
     ]
    },
    {
     "name": "stdout",
     "output_type": "stream",
     "text": [
      "0.7738822102546692 tensor(0.) tensor(0.) 0.0 0.0\n"
     ]
    },
    {
     "name": "stderr",
     "output_type": "stream",
     "text": [
      "Epoch 1 Loss: 0.9853:  91%|█████████████████████████▌  | 456/500 [04:11<00:24,  1.80batch/s]"
     ]
    },
    {
     "name": "stdout",
     "output_type": "stream",
     "text": [
      "0.9629461169242859 tensor(0.) tensor(0.) 0.0 0.0\n"
     ]
    },
    {
     "name": "stderr",
     "output_type": "stream",
     "text": [
      "Epoch 1 Loss: 0.9853:  91%|█████████████████████████▌  | 457/500 [04:11<00:24,  1.77batch/s]"
     ]
    },
    {
     "name": "stdout",
     "output_type": "stream",
     "text": [
      "1.0011563301086426 tensor(0.) tensor(0.) 0.0 0.0\n"
     ]
    },
    {
     "name": "stderr",
     "output_type": "stream",
     "text": [
      "Epoch 1 Loss: 0.9853:  92%|█████████████████████████▋  | 458/500 [04:12<00:23,  1.79batch/s]"
     ]
    },
    {
     "name": "stdout",
     "output_type": "stream",
     "text": [
      "0.8270983099937439 tensor(0.) tensor(0.) 0.0 0.0\n"
     ]
    },
    {
     "name": "stderr",
     "output_type": "stream",
     "text": [
      "Epoch 1 Loss: 0.9850:  92%|█████████████████████████▋  | 459/500 [04:12<00:21,  1.93batch/s]"
     ]
    },
    {
     "name": "stdout",
     "output_type": "stream",
     "text": [
      "1.0407429933547974 tensor(0.) tensor(0.) 0.0 0.0\n"
     ]
    },
    {
     "name": "stderr",
     "output_type": "stream",
     "text": [
      "Epoch 1 Loss: 0.9851:  92%|█████████████████████████▊  | 460/500 [04:13<00:20,  1.94batch/s]"
     ]
    },
    {
     "name": "stdout",
     "output_type": "stream",
     "text": [
      "1.1020103693008423 tensor(0.) tensor(0.) 0.0 0.0\n"
     ]
    },
    {
     "name": "stderr",
     "output_type": "stream",
     "text": [
      "Epoch 1 Loss: 0.9854:  92%|█████████████████████████▊  | 461/500 [04:13<00:20,  1.88batch/s]"
     ]
    },
    {
     "name": "stdout",
     "output_type": "stream",
     "text": [
      "0.8911208510398865 tensor(0.) tensor(0.) 0.0 0.0\n"
     ]
    },
    {
     "name": "stderr",
     "output_type": "stream",
     "text": [
      "Epoch 1 Loss: 0.9852:  92%|█████████████████████████▊  | 462/500 [04:14<00:19,  1.94batch/s]"
     ]
    },
    {
     "name": "stdout",
     "output_type": "stream",
     "text": [
      "0.8985769748687744 tensor(0.) tensor(0.) 0.0 0.0\n"
     ]
    },
    {
     "name": "stderr",
     "output_type": "stream",
     "text": [
      "Epoch 1 Loss: 0.9850:  93%|█████████████████████████▉  | 463/500 [04:14<00:19,  1.89batch/s]"
     ]
    },
    {
     "name": "stdout",
     "output_type": "stream",
     "text": [
      "0.8635632991790771 tensor(0.) tensor(0.) 0.0 0.0\n"
     ]
    },
    {
     "name": "stderr",
     "output_type": "stream",
     "text": [
      "Epoch 1 Loss: 0.9847:  93%|█████████████████████████▉  | 464/500 [04:15<00:19,  1.83batch/s]"
     ]
    },
    {
     "name": "stdout",
     "output_type": "stream",
     "text": [
      "0.7928621768951416 tensor(0.) tensor(0.) 0.0 0.0\n"
     ]
    },
    {
     "name": "stderr",
     "output_type": "stream",
     "text": [
      "Epoch 1 Loss: 0.9843:  93%|██████████████████████████  | 465/500 [04:16<00:19,  1.82batch/s]"
     ]
    },
    {
     "name": "stdout",
     "output_type": "stream",
     "text": [
      "1.0219454765319824 tensor(0.) tensor(0.) 0.0 0.0\n"
     ]
    },
    {
     "name": "stderr",
     "output_type": "stream",
     "text": [
      "Epoch 1 Loss: 0.9844:  93%|██████████████████████████  | 466/500 [04:16<00:19,  1.78batch/s]"
     ]
    },
    {
     "name": "stdout",
     "output_type": "stream",
     "text": [
      "0.7325733304023743 tensor(0.) tensor(0.) 0.0 0.0\n"
     ]
    },
    {
     "name": "stderr",
     "output_type": "stream",
     "text": [
      "Epoch 1 Loss: 0.9838:  93%|██████████████████████████▏ | 467/500 [04:17<00:18,  1.76batch/s]"
     ]
    },
    {
     "name": "stdout",
     "output_type": "stream",
     "text": [
      "0.8660790920257568 tensor(0.) tensor(0.) 0.0 0.0\n"
     ]
    },
    {
     "name": "stderr",
     "output_type": "stream",
     "text": [
      "Epoch 1 Loss: 0.9836:  94%|██████████████████████████▏ | 468/500 [04:17<00:17,  1.78batch/s]"
     ]
    },
    {
     "name": "stdout",
     "output_type": "stream",
     "text": [
      "0.8879456520080566 tensor(0.) tensor(0.) 0.0 0.0\n"
     ]
    },
    {
     "name": "stderr",
     "output_type": "stream",
     "text": [
      "Epoch 1 Loss: 0.9834:  94%|██████████████████████████▎ | 469/500 [04:18<00:17,  1.74batch/s]"
     ]
    },
    {
     "name": "stdout",
     "output_type": "stream",
     "text": [
      "0.701151430606842 tensor(0.) tensor(0.) 0.0 0.0\n"
     ]
    },
    {
     "name": "stderr",
     "output_type": "stream",
     "text": [
      "Epoch 1 Loss: 0.9828:  94%|██████████████████████████▎ | 470/500 [04:18<00:16,  1.77batch/s]"
     ]
    },
    {
     "name": "stdout",
     "output_type": "stream",
     "text": [
      "0.9751384258270264 tensor(0.) tensor(0.) 0.0 0.0\n"
     ]
    },
    {
     "name": "stderr",
     "output_type": "stream",
     "text": [
      "Epoch 1 Loss: 0.9828:  94%|██████████████████████████▍ | 471/500 [04:19<00:16,  1.79batch/s]"
     ]
    },
    {
     "name": "stdout",
     "output_type": "stream",
     "text": [
      "0.9143238663673401 tensor(0.) tensor(0.) 0.0 0.0\n"
     ]
    },
    {
     "name": "stderr",
     "output_type": "stream",
     "text": [
      "Epoch 1 Loss: 0.9826:  94%|██████████████████████████▍ | 472/500 [04:20<00:15,  1.81batch/s]"
     ]
    },
    {
     "name": "stdout",
     "output_type": "stream",
     "text": [
      "0.8923446536064148 tensor(0.) tensor(0.) 0.0 0.0\n"
     ]
    },
    {
     "name": "stderr",
     "output_type": "stream",
     "text": [
      "Epoch 1 Loss: 0.9824:  95%|██████████████████████████▍ | 473/500 [04:20<00:15,  1.75batch/s]"
     ]
    },
    {
     "name": "stdout",
     "output_type": "stream",
     "text": [
      "0.8961742520332336 tensor(0.) tensor(0.) 0.0 0.0\n"
     ]
    },
    {
     "name": "stderr",
     "output_type": "stream",
     "text": [
      "Epoch 1 Loss: 0.9823:  95%|██████████████████████████▌ | 474/500 [04:21<00:14,  1.78batch/s]"
     ]
    },
    {
     "name": "stdout",
     "output_type": "stream",
     "text": [
      "0.8884324431419373 tensor(0.) tensor(0.) 0.0 0.0\n"
     ]
    },
    {
     "name": "stderr",
     "output_type": "stream",
     "text": [
      "Epoch 1 Loss: 0.9821:  95%|██████████████████████████▌ | 475/500 [04:21<00:13,  1.82batch/s]"
     ]
    },
    {
     "name": "stdout",
     "output_type": "stream",
     "text": [
      "0.8733367323875427 tensor(0.) tensor(0.) 0.0 0.0\n"
     ]
    },
    {
     "name": "stderr",
     "output_type": "stream",
     "text": [
      "Epoch 1 Loss: 0.9818:  95%|██████████████████████████▋ | 476/500 [04:22<00:13,  1.76batch/s]"
     ]
    },
    {
     "name": "stdout",
     "output_type": "stream",
     "text": [
      "0.974755048751831 tensor(0.) tensor(0.) 0.0 0.0\n"
     ]
    },
    {
     "name": "stderr",
     "output_type": "stream",
     "text": [
      "Epoch 1 Loss: 0.9818:  95%|██████████████████████████▋ | 477/500 [04:22<00:12,  1.78batch/s]"
     ]
    },
    {
     "name": "stdout",
     "output_type": "stream",
     "text": [
      "0.8307796716690063 tensor(0.) tensor(0.) 0.0 0.0\n"
     ]
    },
    {
     "name": "stderr",
     "output_type": "stream",
     "text": [
      "Epoch 1 Loss: 0.9815:  96%|██████████████████████████▊ | 478/500 [04:23<00:12,  1.80batch/s]"
     ]
    },
    {
     "name": "stdout",
     "output_type": "stream",
     "text": [
      "1.0677495002746582 tensor(0.) tensor(0.) 0.0 0.0\n"
     ]
    },
    {
     "name": "stderr",
     "output_type": "stream",
     "text": [
      "Epoch 1 Loss: 0.9817:  96%|██████████████████████████▊ | 479/500 [04:23<00:11,  1.77batch/s]"
     ]
    },
    {
     "name": "stdout",
     "output_type": "stream",
     "text": [
      "0.9814262390136719 tensor(0.) tensor(0.) 0.0 0.0\n"
     ]
    },
    {
     "name": "stderr",
     "output_type": "stream",
     "text": [
      "Epoch 1 Loss: 0.9817:  96%|██████████████████████████▉ | 480/500 [04:24<00:11,  1.79batch/s]"
     ]
    },
    {
     "name": "stdout",
     "output_type": "stream",
     "text": [
      "0.8332122564315796 tensor(0.) tensor(0.) 0.0 0.0\n"
     ]
    },
    {
     "name": "stderr",
     "output_type": "stream",
     "text": [
      "Epoch 1 Loss: 0.9814:  96%|██████████████████████████▉ | 481/500 [04:25<00:10,  1.80batch/s]"
     ]
    },
    {
     "name": "stdout",
     "output_type": "stream",
     "text": [
      "0.8350746035575867 tensor(0.) tensor(0.) 0.0 0.0\n"
     ]
    },
    {
     "name": "stderr",
     "output_type": "stream",
     "text": [
      "Epoch 1 Loss: 0.9811:  96%|██████████████████████████▉ | 482/500 [04:25<00:10,  1.75batch/s]"
     ]
    },
    {
     "name": "stdout",
     "output_type": "stream",
     "text": [
      "1.0718375444412231 tensor(0.) tensor(0.) 0.0 0.0\n"
     ]
    },
    {
     "name": "stderr",
     "output_type": "stream",
     "text": [
      "Epoch 1 Loss: 0.9812:  97%|███████████████████████████ | 483/500 [04:26<00:09,  1.75batch/s]"
     ]
    },
    {
     "name": "stdout",
     "output_type": "stream",
     "text": [
      "1.0010699033737183 tensor(0.) tensor(0.) 0.0 0.0\n"
     ]
    },
    {
     "name": "stderr",
     "output_type": "stream",
     "text": [
      "Epoch 1 Loss: 0.9813:  97%|███████████████████████████ | 484/500 [04:26<00:09,  1.76batch/s]"
     ]
    },
    {
     "name": "stdout",
     "output_type": "stream",
     "text": [
      "0.7206824421882629 tensor(0.) tensor(0.) 0.0 0.0\n"
     ]
    },
    {
     "name": "stderr",
     "output_type": "stream",
     "text": [
      "Epoch 1 Loss: 0.9808:  97%|███████████████████████████▏| 485/500 [04:27<00:07,  1.90batch/s]"
     ]
    },
    {
     "name": "stdout",
     "output_type": "stream",
     "text": [
      "0.6967312097549438 tensor(0.) tensor(0.) 0.0 0.0\n"
     ]
    },
    {
     "name": "stderr",
     "output_type": "stream",
     "text": [
      "Epoch 1 Loss: 0.9802:  97%|███████████████████████████▏| 486/500 [04:27<00:07,  1.89batch/s]"
     ]
    },
    {
     "name": "stdout",
     "output_type": "stream",
     "text": [
      "0.9629175066947937 tensor(0.) tensor(0.) 0.0 0.0\n"
     ]
    },
    {
     "name": "stderr",
     "output_type": "stream",
     "text": [
      "Epoch 1 Loss: 0.9801:  97%|███████████████████████████▎| 487/500 [04:28<00:06,  1.89batch/s]"
     ]
    },
    {
     "name": "stdout",
     "output_type": "stream",
     "text": [
      "0.978556752204895 tensor(0.) tensor(0.) 0.0 0.0\n"
     ]
    },
    {
     "name": "stderr",
     "output_type": "stream",
     "text": [
      "Epoch 1 Loss: 0.9801:  98%|███████████████████████████▎| 488/500 [04:28<00:06,  1.86batch/s]"
     ]
    },
    {
     "name": "stdout",
     "output_type": "stream",
     "text": [
      "0.9430647492408752 tensor(0.) tensor(0.) 0.0 0.0\n"
     ]
    },
    {
     "name": "stderr",
     "output_type": "stream",
     "text": [
      "Epoch 1 Loss: 0.9801:  98%|███████████████████████████▍| 489/500 [04:29<00:05,  1.86batch/s]"
     ]
    },
    {
     "name": "stdout",
     "output_type": "stream",
     "text": [
      "0.7518721222877502 tensor(0.) tensor(0.) 0.0 0.0\n"
     ]
    },
    {
     "name": "stderr",
     "output_type": "stream",
     "text": [
      "Epoch 1 Loss: 0.9796:  98%|███████████████████████████▍| 490/500 [04:29<00:05,  1.86batch/s]"
     ]
    },
    {
     "name": "stdout",
     "output_type": "stream",
     "text": [
      "0.8307800889015198 tensor(0.) tensor(0.) 0.0 0.0\n"
     ]
    },
    {
     "name": "stderr",
     "output_type": "stream",
     "text": [
      "Epoch 1 Loss: 0.9793:  98%|███████████████████████████▍| 491/500 [04:30<00:04,  1.83batch/s]"
     ]
    },
    {
     "name": "stdout",
     "output_type": "stream",
     "text": [
      "0.818885087966919 tensor(0.) tensor(0.) 0.0 0.0\n"
     ]
    },
    {
     "name": "stderr",
     "output_type": "stream",
     "text": [
      "Epoch 1 Loss: 0.9790:  98%|███████████████████████████▌| 492/500 [04:31<00:04,  1.85batch/s]"
     ]
    },
    {
     "name": "stdout",
     "output_type": "stream",
     "text": [
      "1.0000553131103516 tensor(0.) tensor(0.) 0.0 0.0\n"
     ]
    },
    {
     "name": "stderr",
     "output_type": "stream",
     "text": [
      "Epoch 1 Loss: 0.9790:  99%|███████████████████████████▌| 493/500 [04:31<00:03,  1.80batch/s]"
     ]
    },
    {
     "name": "stdout",
     "output_type": "stream",
     "text": [
      "0.836773157119751 tensor(0.) tensor(0.) 0.0 0.0\n"
     ]
    },
    {
     "name": "stderr",
     "output_type": "stream",
     "text": [
      "Epoch 1 Loss: 0.9787:  99%|███████████████████████████▋| 494/500 [04:32<00:03,  1.86batch/s]"
     ]
    },
    {
     "name": "stdout",
     "output_type": "stream",
     "text": [
      "0.972983181476593 tensor(0.) tensor(0.) 0.0 0.0\n"
     ]
    },
    {
     "name": "stderr",
     "output_type": "stream",
     "text": [
      "Epoch 1 Loss: 0.9787:  99%|███████████████████████████▋| 495/500 [04:32<00:02,  1.85batch/s]"
     ]
    },
    {
     "name": "stdout",
     "output_type": "stream",
     "text": [
      "1.000879168510437 tensor(0.) tensor(0.) 0.0 0.0\n"
     ]
    },
    {
     "name": "stderr",
     "output_type": "stream",
     "text": [
      "Epoch 1 Loss: 0.9787:  99%|███████████████████████████▊| 496/500 [04:33<00:02,  1.84batch/s]"
     ]
    },
    {
     "name": "stdout",
     "output_type": "stream",
     "text": [
      "0.949483335018158 tensor(0.) tensor(0.) 0.0 0.0\n"
     ]
    },
    {
     "name": "stderr",
     "output_type": "stream",
     "text": [
      "Epoch 1 Loss: 0.9787:  99%|███████████████████████████▊| 497/500 [04:33<00:01,  1.83batch/s]"
     ]
    },
    {
     "name": "stdout",
     "output_type": "stream",
     "text": [
      "0.8917794227600098 tensor(0.) tensor(0.) 0.0 0.0\n"
     ]
    },
    {
     "name": "stderr",
     "output_type": "stream",
     "text": [
      "Epoch 1 Loss: 0.9785: 100%|███████████████████████████▉| 498/500 [04:34<00:01,  1.81batch/s]"
     ]
    },
    {
     "name": "stdout",
     "output_type": "stream",
     "text": [
      "0.9205963611602783 tensor(0.) tensor(0.) 0.0 0.0\n"
     ]
    },
    {
     "name": "stderr",
     "output_type": "stream",
     "text": [
      "Epoch 1 Loss: 0.9784: 100%|███████████████████████████▉| 499/500 [04:34<00:00,  1.84batch/s]"
     ]
    },
    {
     "name": "stdout",
     "output_type": "stream",
     "text": [
      "1.0720754861831665 tensor(0.) tensor(0.) 0.0 0.0\n"
     ]
    },
    {
     "name": "stderr",
     "output_type": "stream",
     "text": [
      "Epoch 1 Loss: 0.9786: 100%|████████████████████████████| 500/500 [04:35<00:00,  1.82batch/s]"
     ]
    },
    {
     "name": "stdout",
     "output_type": "stream",
     "text": [
      "Teacher Training Loss: 0.97858502471447\n"
     ]
    },
    {
     "name": "stderr",
     "output_type": "stream",
     "text": [
      "\n",
      "Epoch 1 Loss: 1.2132:   0%|                              | 1/500 [00:00<02:40,  3.10batch/s]"
     ]
    },
    {
     "name": "stdout",
     "output_type": "stream",
     "text": [
      "1.2131990194320679 tensor(0.) tensor(0.) 0.0 0.0\n",
      "1.1140201091766357 tensor(0.) tensor(0.) 0.0 0.0\n"
     ]
    },
    {
     "name": "stderr",
     "output_type": "stream",
     "text": [
      "Epoch 1 Loss: 1.1358:   1%|▏                             | 3/500 [00:00<01:27,  5.65batch/s]"
     ]
    },
    {
     "name": "stdout",
     "output_type": "stream",
     "text": [
      "1.0801570415496826 tensor(0.) tensor(0.) 0.0 0.0\n",
      "1.1217060089111328 tensor(0.) tensor(0.) 0.0 0.0\n"
     ]
    },
    {
     "name": "stderr",
     "output_type": "stream",
     "text": [
      "Epoch 1 Loss: 1.1458:   1%|▎                             | 5/500 [00:00<01:16,  6.51batch/s]"
     ]
    },
    {
     "name": "stdout",
     "output_type": "stream",
     "text": [
      "1.2000652551651 tensor(0.) tensor(0.) 0.0 0.0\n",
      "1.1954745054244995 tensor(0.) tensor(0.) 0.0 0.0\n"
     ]
    },
    {
     "name": "stderr",
     "output_type": "stream",
     "text": [
      "Epoch 1 Loss: 1.1480:   1%|▍                             | 7/500 [00:01<01:13,  6.74batch/s]"
     ]
    },
    {
     "name": "stdout",
     "output_type": "stream",
     "text": [
      "1.1110894680023193 tensor(0.) tensor(0.) 0.0 0.0\n",
      "1.203445315361023 tensor(0.) tensor(0.) 0.0 0.0\n"
     ]
    },
    {
     "name": "stderr",
     "output_type": "stream",
     "text": [
      "Epoch 1 Loss: 1.1508:   2%|▌                            | 10/500 [00:01<01:06,  7.32batch/s]"
     ]
    },
    {
     "name": "stdout",
     "output_type": "stream",
     "text": [
      "1.1720929145812988 tensor(0.) tensor(0.) 0.0 0.0\n",
      "1.0965638160705566 tensor(0.) tensor(0.) 0.0 0.0\n"
     ]
    },
    {
     "name": "stderr",
     "output_type": "stream",
     "text": [
      "Epoch 1 Loss: 1.1613:   2%|▋                            | 11/500 [00:01<01:09,  6.99batch/s]"
     ]
    },
    {
     "name": "stdout",
     "output_type": "stream",
     "text": [
      "1.2665081024169922 tensor(0.) tensor(0.) 0.0 0.0\n",
      "1.2586342096328735 tensor(0.) tensor(0.) 0.0 0.0\n"
     ]
    },
    {
     "name": "stderr",
     "output_type": "stream",
     "text": [
      "Epoch 1 Loss: 1.1604:   3%|▊                            | 13/500 [00:02<01:11,  6.77batch/s]"
     ]
    },
    {
     "name": "stdout",
     "output_type": "stream",
     "text": [
      "1.0523916482925415 tensor(0.) tensor(0.) 0.0 0.0\n",
      "1.401362419128418 tensor(0.) tensor(0.) 0.0 0.0\n"
     ]
    },
    {
     "name": "stderr",
     "output_type": "stream",
     "text": [
      "Epoch 1 Loss: 1.1795:   3%|▉                            | 16/500 [00:02<00:55,  8.67batch/s]"
     ]
    },
    {
     "name": "stdout",
     "output_type": "stream",
     "text": [
      "1.2817517518997192 tensor(0.) tensor(0.) 0.0 0.0\n",
      "1.1031032800674438 tensor(0.) tensor(0.) 0.0 0.0\n",
      "1.0120328664779663 tensor(0.) tensor(0.) 0.0 0.0\n"
     ]
    },
    {
     "name": "stderr",
     "output_type": "stream",
     "text": [
      "Epoch 1 Loss: 1.1687:   4%|█                            | 18/500 [00:02<01:03,  7.64batch/s]"
     ]
    },
    {
     "name": "stdout",
     "output_type": "stream",
     "text": [
      "1.153886079788208 tensor(0.) tensor(0.) 0.0 0.0\n",
      "1.0632083415985107 tensor(0.) tensor(0.) 0.0 0.0\n"
     ]
    },
    {
     "name": "stderr",
     "output_type": "stream",
     "text": [
      "Epoch 1 Loss: 1.1629:   4%|█▏                           | 20/500 [00:02<01:02,  7.71batch/s]"
     ]
    },
    {
     "name": "stdout",
     "output_type": "stream",
     "text": [
      "1.1569836139678955 tensor(0.) tensor(0.) 0.0 0.0\n",
      "1.2044955492019653 tensor(0.) tensor(0.) 0.0 0.0\n"
     ]
    },
    {
     "name": "stderr",
     "output_type": "stream",
     "text": [
      "Epoch 1 Loss: 1.1637:   4%|█▎                           | 22/500 [00:03<01:06,  7.20batch/s]"
     ]
    },
    {
     "name": "stdout",
     "output_type": "stream",
     "text": [
      "1.1393804550170898 tensor(0.) tensor(0.) 0.0 0.0\n",
      "1.3423118591308594 tensor(0.) tensor(0.) 0.0 0.0\n"
     ]
    },
    {
     "name": "stderr",
     "output_type": "stream",
     "text": [
      "Epoch 1 Loss: 1.1757:   5%|█▍                           | 24/500 [00:03<01:11,  6.69batch/s]"
     ]
    },
    {
     "name": "stdout",
     "output_type": "stream",
     "text": [
      "1.2717722654342651 tensor(0.) tensor(0.) 0.0 0.0\n",
      "1.2147904634475708 tensor(0.) tensor(0.) 0.0 0.0\n"
     ]
    },
    {
     "name": "stderr",
     "output_type": "stream",
     "text": [
      "Epoch 1 Loss: 1.1814:   5%|█▌                           | 26/500 [00:03<01:10,  6.77batch/s]"
     ]
    },
    {
     "name": "stdout",
     "output_type": "stream",
     "text": [
      "1.2861827611923218 tensor(0.) tensor(0.) 0.0 0.0\n",
      "1.1526793241500854 tensor(0.) tensor(0.) 0.0 0.0\n"
     ]
    },
    {
     "name": "stderr",
     "output_type": "stream",
     "text": [
      "Epoch 1 Loss: 1.1857:   6%|█▌                           | 28/500 [00:04<01:12,  6.54batch/s]"
     ]
    },
    {
     "name": "stdout",
     "output_type": "stream",
     "text": [
      "1.3303380012512207 tensor(0.) tensor(0.) 0.0 0.0\n",
      "1.2387574911117554 tensor(0.) tensor(0.) 0.0 0.0\n"
     ]
    },
    {
     "name": "stderr",
     "output_type": "stream",
     "text": [
      "Epoch 1 Loss: 1.1949:   6%|█▋                           | 30/500 [00:04<01:12,  6.48batch/s]"
     ]
    },
    {
     "name": "stdout",
     "output_type": "stream",
     "text": [
      "1.4098330736160278 tensor(0.) tensor(0.) 0.0 0.0\n",
      "1.2865383625030518 tensor(0.) tensor(0.) 0.0 0.0\n"
     ]
    },
    {
     "name": "stderr",
     "output_type": "stream",
     "text": [
      "Epoch 1 Loss: 1.2028:   6%|█▊                           | 32/500 [00:04<01:10,  6.60batch/s]"
     ]
    },
    {
     "name": "stdout",
     "output_type": "stream",
     "text": [
      "1.3559640645980835 tensor(0.) tensor(0.) 0.0 0.0\n",
      "1.103835105895996 tensor(0.) tensor(0.) 0.0 0.0\n"
     ]
    },
    {
     "name": "stderr",
     "output_type": "stream",
     "text": [
      "Epoch 1 Loss: 1.1972:   7%|█▉                           | 34/500 [00:05<01:09,  6.74batch/s]"
     ]
    },
    {
     "name": "stdout",
     "output_type": "stream",
     "text": [
      "1.1100287437438965 tensor(0.) tensor(0.) 0.0 0.0\n",
      "1.338353157043457 tensor(0.) tensor(0.) 0.0 0.0\n"
     ]
    },
    {
     "name": "stderr",
     "output_type": "stream",
     "text": [
      "Epoch 1 Loss: 1.2047:   7%|██                           | 36/500 [00:05<01:10,  6.54batch/s]"
     ]
    },
    {
     "name": "stdout",
     "output_type": "stream",
     "text": [
      "1.3263769149780273 tensor(0.) tensor(0.) 0.0 0.0\n",
      "1.326340675354004 tensor(0.) tensor(0.) 0.0 0.0\n"
     ]
    },
    {
     "name": "stderr",
     "output_type": "stream",
     "text": [
      "Epoch 1 Loss: 1.2070:   8%|██▏                          | 38/500 [00:05<01:11,  6.43batch/s]"
     ]
    },
    {
     "name": "stdout",
     "output_type": "stream",
     "text": [
      "1.1705759763717651 tensor(0.) tensor(0.) 0.0 0.0\n",
      "1.018099308013916 tensor(0.) tensor(0.) 0.0 0.0\n"
     ]
    },
    {
     "name": "stderr",
     "output_type": "stream",
     "text": [
      "Epoch 1 Loss: 1.1973:   8%|██▎                          | 40/500 [00:05<01:12,  6.33batch/s]"
     ]
    },
    {
     "name": "stdout",
     "output_type": "stream",
     "text": [
      "1.0080002546310425 tensor(0.) tensor(0.) 0.0 0.0\n",
      "1.2704339027404785 tensor(0.) tensor(0.) 0.0 0.0\n"
     ]
    },
    {
     "name": "stderr",
     "output_type": "stream",
     "text": [
      "Epoch 1 Loss: 1.1985:   8%|██▍                          | 42/500 [00:06<01:13,  6.22batch/s]"
     ]
    },
    {
     "name": "stdout",
     "output_type": "stream",
     "text": [
      "1.1724711656570435 tensor(0.) tensor(0.) 0.0 0.0\n",
      "1.3881579637527466 tensor(0.) tensor(0.) 0.0 0.0\n"
     ]
    },
    {
     "name": "stderr",
     "output_type": "stream",
     "text": [
      "Epoch 1 Loss: 1.2066:   9%|██▌                          | 44/500 [00:06<01:09,  6.53batch/s]"
     ]
    },
    {
     "name": "stdout",
     "output_type": "stream",
     "text": [
      "1.367150902748108 tensor(0.) tensor(0.) 0.0 0.0\n",
      "1.2342571020126343 tensor(0.) tensor(0.) 0.0 0.0\n"
     ]
    },
    {
     "name": "stderr",
     "output_type": "stream",
     "text": [
      "Epoch 1 Loss: 1.2106:   9%|██▋                          | 46/500 [00:06<01:10,  6.48batch/s]"
     ]
    },
    {
     "name": "stdout",
     "output_type": "stream",
     "text": [
      "1.3633248805999756 tensor(0.) tensor(0.) 0.0 0.0\n",
      "1.1297504901885986 tensor(0.) tensor(0.) 0.0 0.0\n"
     ]
    },
    {
     "name": "stderr",
     "output_type": "stream",
     "text": [
      "Epoch 1 Loss: 1.2117:  10%|██▊                          | 48/500 [00:07<01:10,  6.41batch/s]"
     ]
    },
    {
     "name": "stdout",
     "output_type": "stream",
     "text": [
      "1.341649055480957 tensor(0.) tensor(0.) 0.0 0.0\n",
      "1.175408124923706 tensor(0.) tensor(0.) 0.0 0.0\n"
     ]
    },
    {
     "name": "stderr",
     "output_type": "stream",
     "text": [
      "Epoch 1 Loss: 1.2090:  10%|██▉                          | 50/500 [00:07<01:10,  6.38batch/s]"
     ]
    },
    {
     "name": "stdout",
     "output_type": "stream",
     "text": [
      "1.115248441696167 tensor(0.) tensor(0.) 0.0 0.0\n",
      "1.257120132446289 tensor(0.) tensor(0.) 0.0 0.0\n"
     ]
    },
    {
     "name": "stderr",
     "output_type": "stream",
     "text": [
      "Epoch 1 Loss: 1.2100:  10%|███                          | 52/500 [00:07<01:10,  6.35batch/s]"
     ]
    },
    {
     "name": "stdout",
     "output_type": "stream",
     "text": [
      "1.213354229927063 tensor(0.) tensor(0.) 0.0 0.0\n",
      "1.0883817672729492 tensor(0.) tensor(0.) 0.0 0.0\n"
     ]
    },
    {
     "name": "stderr",
     "output_type": "stream",
     "text": [
      "Epoch 1 Loss: 1.2086:  11%|███▏                         | 54/500 [00:08<01:08,  6.47batch/s]"
     ]
    },
    {
     "name": "stdout",
     "output_type": "stream",
     "text": [
      "1.2574762105941772 tensor(0.) tensor(0.) 0.0 0.0\n",
      "1.2539360523223877 tensor(0.) tensor(0.) 0.0 0.0\n"
     ]
    },
    {
     "name": "stderr",
     "output_type": "stream",
     "text": [
      "Epoch 1 Loss: 1.2086:  11%|███▏                         | 56/500 [00:08<01:06,  6.71batch/s]"
     ]
    },
    {
     "name": "stdout",
     "output_type": "stream",
     "text": [
      "1.1585700511932373 tensor(0.) tensor(0.) 0.0 0.0\n",
      "1.3375478982925415 tensor(0.) tensor(0.) 0.0 0.0\n"
     ]
    },
    {
     "name": "stderr",
     "output_type": "stream",
     "text": [
      "Epoch 1 Loss: 1.2141:  12%|███▎                         | 58/500 [00:08<01:04,  6.82batch/s]"
     ]
    },
    {
     "name": "stdout",
     "output_type": "stream",
     "text": [
      "1.4037121534347534 tensor(0.) tensor(0.) 0.0 0.0\n",
      "1.3308504819869995 tensor(0.) tensor(0.) 0.0 0.0\n"
     ]
    },
    {
     "name": "stderr",
     "output_type": "stream",
     "text": [
      "Epoch 1 Loss: 1.2140:  12%|███▍                         | 60/500 [00:08<01:04,  6.84batch/s]"
     ]
    },
    {
     "name": "stdout",
     "output_type": "stream",
     "text": [
      "1.0884110927581787 tensor(0.) tensor(0.) 0.0 0.0\n",
      "0.9836347103118896 tensor(0.) tensor(0.) 0.0 0.0\n"
     ]
    },
    {
     "name": "stderr",
     "output_type": "stream",
     "text": [
      "Epoch 1 Loss: 1.2085:  12%|███▌                         | 62/500 [00:09<01:05,  6.65batch/s]"
     ]
    },
    {
     "name": "stdout",
     "output_type": "stream",
     "text": [
      "1.1066904067993164 tensor(0.) tensor(0.) 0.0 0.0\n",
      "1.237022876739502 tensor(0.) tensor(0.) 0.0 0.0\n"
     ]
    },
    {
     "name": "stderr",
     "output_type": "stream",
     "text": [
      "Epoch 1 Loss: 1.2094:  13%|███▋                         | 64/500 [00:09<01:05,  6.62batch/s]"
     ]
    },
    {
     "name": "stdout",
     "output_type": "stream",
     "text": [
      "1.23353111743927 tensor(0.) tensor(0.) 0.0 0.0\n",
      "1.181342601776123 tensor(0.) tensor(0.) 0.0 0.0\n"
     ]
    },
    {
     "name": "stderr",
     "output_type": "stream",
     "text": [
      "Epoch 1 Loss: 1.2085:  13%|███▊                         | 66/500 [00:09<01:03,  6.84batch/s]"
     ]
    },
    {
     "name": "stdout",
     "output_type": "stream",
     "text": [
      "1.176730751991272 tensor(0.) tensor(0.) 0.0 0.0\n",
      "1.1388146877288818 tensor(0.) tensor(0.) 0.0 0.0\n"
     ]
    },
    {
     "name": "stderr",
     "output_type": "stream",
     "text": [
      "Epoch 1 Loss: 1.2079:  14%|███▉                         | 68/500 [00:10<01:05,  6.62batch/s]"
     ]
    },
    {
     "name": "stdout",
     "output_type": "stream",
     "text": [
      "1.2365938425064087 tensor(0.) tensor(0.) 0.0 0.0\n",
      "1.2644875049591064 tensor(0.) tensor(0.) 0.0 0.0\n"
     ]
    },
    {
     "name": "stderr",
     "output_type": "stream",
     "text": [
      "Epoch 1 Loss: 1.2061:  14%|████                         | 70/500 [00:10<01:02,  6.89batch/s]"
     ]
    },
    {
     "name": "stdout",
     "output_type": "stream",
     "text": [
      "1.0311400890350342 tensor(0.) tensor(0.) 0.0 0.0\n",
      "1.3751962184906006 tensor(0.) tensor(0.) 0.0 0.0\n"
     ]
    },
    {
     "name": "stderr",
     "output_type": "stream",
     "text": [
      "Epoch 1 Loss: 1.2081:  14%|████▏                        | 72/500 [00:10<01:02,  6.89batch/s]"
     ]
    },
    {
     "name": "stdout",
     "output_type": "stream",
     "text": [
      "1.1752480268478394 tensor(0.) tensor(0.) 0.0 0.0\n",
      "1.0580663681030273 tensor(0.) tensor(0.) 0.0 0.0\n"
     ]
    },
    {
     "name": "stderr",
     "output_type": "stream",
     "text": [
      "Epoch 1 Loss: 1.2040:  15%|████▎                        | 74/500 [00:11<00:59,  7.15batch/s]"
     ]
    },
    {
     "name": "stdout",
     "output_type": "stream",
     "text": [
      "1.057410478591919 tensor(0.) tensor(0.) 0.0 0.0\n",
      "1.2573432922363281 tensor(0.) tensor(0.) 0.0 0.0\n"
     ]
    },
    {
     "name": "stderr",
     "output_type": "stream",
     "text": [
      "Epoch 1 Loss: 1.2068:  15%|████▍                        | 76/500 [00:11<00:59,  7.17batch/s]"
     ]
    },
    {
     "name": "stdout",
     "output_type": "stream",
     "text": [
      "1.3611197471618652 tensor(0.) tensor(0.) 0.0 0.0\n",
      "1.0301326513290405 tensor(0.) tensor(0.) 0.0 0.0\n"
     ]
    },
    {
     "name": "stderr",
     "output_type": "stream",
     "text": [
      "Epoch 1 Loss: 1.2056:  16%|████▌                        | 78/500 [00:11<01:02,  6.72batch/s]"
     ]
    },
    {
     "name": "stdout",
     "output_type": "stream",
     "text": [
      "1.2891066074371338 tensor(0.) tensor(0.) 0.0 0.0\n",
      "1.2207952737808228 tensor(0.) tensor(0.) 0.0 0.0\n"
     ]
    },
    {
     "name": "stderr",
     "output_type": "stream",
     "text": [
      "Epoch 1 Loss: 1.2047:  16%|████▋                        | 80/500 [00:11<01:05,  6.46batch/s]"
     ]
    },
    {
     "name": "stdout",
     "output_type": "stream",
     "text": [
      "1.1222789287567139 tensor(0.) tensor(0.) 0.0 0.0\n",
      "1.1792163848876953 tensor(0.) tensor(0.) 0.0 0.0\n"
     ]
    },
    {
     "name": "stderr",
     "output_type": "stream",
     "text": [
      "Epoch 1 Loss: 1.2050:  16%|████▊                        | 82/500 [00:12<01:05,  6.38batch/s]"
     ]
    },
    {
     "name": "stdout",
     "output_type": "stream",
     "text": [
      "1.2580249309539795 tensor(0.) tensor(0.) 0.0 0.0\n",
      "1.2012927532196045 tensor(0.) tensor(0.) 0.0 0.0\n"
     ]
    },
    {
     "name": "stderr",
     "output_type": "stream",
     "text": [
      "Epoch 1 Loss: 1.2028:  17%|████▉                        | 85/500 [00:12<01:00,  6.89batch/s]"
     ]
    },
    {
     "name": "stdout",
     "output_type": "stream",
     "text": [
      "1.054479718208313 tensor(0.) tensor(0.) 0.0 0.0\n",
      "1.1677533388137817 tensor(0.) tensor(0.) 0.0 0.0\n"
     ]
    },
    {
     "name": "stderr",
     "output_type": "stream",
     "text": [
      "Epoch 1 Loss: 1.2009:  17%|████▉                        | 86/500 [00:12<00:58,  7.09batch/s]"
     ]
    },
    {
     "name": "stdout",
     "output_type": "stream",
     "text": [
      "1.04290771484375 tensor(0.) tensor(0.) 0.0 0.0\n",
      "1.0115351676940918 tensor(0.) tensor(0.) 0.0 0.0\n"
     ]
    },
    {
     "name": "stderr",
     "output_type": "stream",
     "text": [
      "Epoch 1 Loss: 1.1986:  18%|█████                        | 88/500 [00:13<01:06,  6.16batch/s]"
     ]
    },
    {
     "name": "stdout",
     "output_type": "stream",
     "text": [
      "1.1825850009918213 tensor(0.) tensor(0.) 0.0 0.0\n"
     ]
    },
    {
     "name": "stderr",
     "output_type": "stream",
     "text": [
      "Epoch 1 Loss: 1.1981:  18%|█████▏                       | 89/500 [00:13<01:11,  5.72batch/s]"
     ]
    },
    {
     "name": "stdout",
     "output_type": "stream",
     "text": [
      "1.1601842641830444 tensor(0.) tensor(0.) 0.0 0.0\n",
      "1.2552261352539062 tensor(0.) tensor(0.) 0.0 0.0\n"
     ]
    },
    {
     "name": "stderr",
     "output_type": "stream",
     "text": [
      "Epoch 1 Loss: 1.1991:  18%|█████▎                       | 92/500 [00:13<00:51,  7.86batch/s]"
     ]
    },
    {
     "name": "stdout",
     "output_type": "stream",
     "text": [
      "1.1874457597732544 tensor(0.) tensor(0.) 0.0 0.0\n",
      "1.2434130907058716 tensor(0.) tensor(0.) 0.0 0.0\n"
     ]
    },
    {
     "name": "stderr",
     "output_type": "stream",
     "text": [
      "Epoch 1 Loss: 1.1990:  19%|█████▍                       | 93/500 [00:13<00:54,  7.44batch/s]"
     ]
    },
    {
     "name": "stdout",
     "output_type": "stream",
     "text": [
      "1.1822941303253174 tensor(0.) tensor(0.) 0.0 0.0\n",
      "1.1929192543029785 tensor(0.) tensor(0.) 0.0 0.0\n"
     ]
    },
    {
     "name": "stderr",
     "output_type": "stream",
     "text": [
      "Epoch 1 Loss: 1.2025:  19%|█████▌                       | 95/500 [00:14<00:58,  6.95batch/s]"
     ]
    },
    {
     "name": "stdout",
     "output_type": "stream",
     "text": [
      "1.542446494102478 tensor(0.) tensor(0.) 0.0 0.0\n",
      "1.0280027389526367 tensor(0.) tensor(0.) 0.0 0.0\n"
     ]
    },
    {
     "name": "stderr",
     "output_type": "stream",
     "text": [
      "Epoch 1 Loss: 1.2029:  19%|█████▋                       | 97/500 [00:14<01:00,  6.68batch/s]"
     ]
    },
    {
     "name": "stdout",
     "output_type": "stream",
     "text": [
      "1.4113755226135254 tensor(0.) tensor(0.) 0.0 0.0\n",
      "1.2196297645568848 tensor(0.) tensor(0.) 0.0 0.0\n"
     ]
    },
    {
     "name": "stderr",
     "output_type": "stream",
     "text": [
      "Epoch 1 Loss: 1.2047:  20%|█████▌                      | 100/500 [00:14<00:49,  8.05batch/s]"
     ]
    },
    {
     "name": "stdout",
     "output_type": "stream",
     "text": [
      "1.3284640312194824 tensor(0.) tensor(0.) 0.0 0.0\n",
      "1.246665358543396 tensor(0.) tensor(0.) 0.0 0.0\n"
     ]
    },
    {
     "name": "stderr",
     "output_type": "stream",
     "text": [
      "Epoch 1 Loss: 1.2046:  20%|█████▋                      | 101/500 [00:14<00:52,  7.55batch/s]"
     ]
    },
    {
     "name": "stdout",
     "output_type": "stream",
     "text": [
      "1.1902272701263428 tensor(0.) tensor(0.) 0.0 0.0\n",
      "1.219376564025879 tensor(0.) tensor(0.) 0.0 0.0\n"
     ]
    },
    {
     "name": "stderr",
     "output_type": "stream",
     "text": [
      "Epoch 1 Loss: 1.2057:  21%|█████▊                      | 103/500 [00:15<00:55,  7.13batch/s]"
     ]
    },
    {
     "name": "stdout",
     "output_type": "stream",
     "text": [
      "1.3099493980407715 tensor(0.) tensor(0.) 0.0 0.0\n",
      "1.2984319925308228 tensor(0.) tensor(0.) 0.0 0.0\n"
     ]
    },
    {
     "name": "stderr",
     "output_type": "stream",
     "text": [
      "Epoch 1 Loss: 1.2057:  21%|█████▉                      | 105/500 [00:15<00:59,  6.62batch/s]"
     ]
    },
    {
     "name": "stdout",
     "output_type": "stream",
     "text": [
      "1.1057149171829224 tensor(0.) tensor(0.) 0.0 0.0\n",
      "1.073144555091858 tensor(0.) tensor(0.) 0.0 0.0\n"
     ]
    },
    {
     "name": "stderr",
     "output_type": "stream",
     "text": [
      "Epoch 1 Loss: 1.2049:  21%|█████▉                      | 107/500 [00:15<00:57,  6.79batch/s]"
     ]
    },
    {
     "name": "stdout",
     "output_type": "stream",
     "text": [
      "1.2568985223770142 tensor(0.) tensor(0.) 0.0 0.0\n",
      "1.1284799575805664 tensor(0.) tensor(0.) 0.0 0.0\n"
     ]
    },
    {
     "name": "stderr",
     "output_type": "stream",
     "text": [
      "Epoch 1 Loss: 1.2032:  22%|██████                      | 109/500 [00:16<00:57,  6.82batch/s]"
     ]
    },
    {
     "name": "stdout",
     "output_type": "stream",
     "text": [
      "1.0971943140029907 tensor(0.) tensor(0.) 0.0 0.0\n",
      "1.1070964336395264 tensor(0.) tensor(0.) 0.0 0.0\n"
     ]
    },
    {
     "name": "stderr",
     "output_type": "stream",
     "text": [
      "Epoch 1 Loss: 1.2016:  22%|██████▏                     | 111/500 [00:16<00:59,  6.57batch/s]"
     ]
    },
    {
     "name": "stdout",
     "output_type": "stream",
     "text": [
      "1.1169706583023071 tensor(0.) tensor(0.) 0.0 0.0\n",
      "1.2026950120925903 tensor(0.) tensor(0.) 0.0 0.0\n"
     ]
    },
    {
     "name": "stderr",
     "output_type": "stream",
     "text": [
      "Epoch 1 Loss: 1.2012:  23%|██████▎                     | 113/500 [00:16<00:58,  6.66batch/s]"
     ]
    },
    {
     "name": "stdout",
     "output_type": "stream",
     "text": [
      "1.1617780923843384 tensor(0.) tensor(0.) 0.0 0.0\n",
      "1.182122826576233 tensor(0.) tensor(0.) 0.0 0.0\n"
     ]
    },
    {
     "name": "stderr",
     "output_type": "stream",
     "text": [
      "Epoch 1 Loss: 1.1992:  23%|██████▍                     | 115/500 [00:17<00:56,  6.82batch/s]"
     ]
    },
    {
     "name": "stdout",
     "output_type": "stream",
     "text": [
      "0.9807919859886169 tensor(0.) tensor(0.) 0.0 0.0\n",
      "1.1682342290878296 tensor(0.) tensor(0.) 0.0 0.0\n"
     ]
    },
    {
     "name": "stderr",
     "output_type": "stream",
     "text": [
      "Epoch 1 Loss: 1.1975:  24%|██████▌                     | 118/500 [00:17<00:45,  8.33batch/s]"
     ]
    },
    {
     "name": "stdout",
     "output_type": "stream",
     "text": [
      "1.1926153898239136 tensor(0.) tensor(0.) 0.0 0.0\n",
      "1.0881779193878174 tensor(0.) tensor(0.) 0.0 0.0\n",
      "1.1535853147506714 tensor(0.) tensor(0.) 0.0 0.0\n"
     ]
    },
    {
     "name": "stderr",
     "output_type": "stream",
     "text": [
      "Epoch 1 Loss: 1.1980:  24%|██████▋                     | 120/500 [00:17<00:40,  9.28batch/s]"
     ]
    },
    {
     "name": "stdout",
     "output_type": "stream",
     "text": [
      "1.3184007406234741 tensor(0.) tensor(0.) 0.0 0.0\n",
      "1.1321982145309448 tensor(0.) tensor(0.) 0.0 0.0\n",
      "1.2448650598526 tensor(0.) tensor(0.) 0.0 0.0\n"
     ]
    },
    {
     "name": "stderr",
     "output_type": "stream",
     "text": [
      "Epoch 1 Loss: 1.1989:  25%|██████▉                     | 123/500 [00:17<00:44,  8.54batch/s]"
     ]
    },
    {
     "name": "stdout",
     "output_type": "stream",
     "text": [
      "1.26974356174469 tensor(0.) tensor(0.) 0.0 0.0\n",
      "1.2292407751083374 tensor(0.) tensor(0.) 0.0 0.0\n"
     ]
    },
    {
     "name": "stderr",
     "output_type": "stream",
     "text": [
      "Epoch 1 Loss: 1.1993:  25%|███████                     | 125/500 [00:18<00:49,  7.53batch/s]"
     ]
    },
    {
     "name": "stdout",
     "output_type": "stream",
     "text": [
      "1.2117961645126343 tensor(0.) tensor(0.) 0.0 0.0\n",
      "1.1232253313064575 tensor(0.) tensor(0.) 0.0 0.0\n"
     ]
    },
    {
     "name": "stderr",
     "output_type": "stream",
     "text": [
      "Epoch 1 Loss: 1.1997:  25%|███████                     | 127/500 [00:18<00:53,  6.95batch/s]"
     ]
    },
    {
     "name": "stdout",
     "output_type": "stream",
     "text": [
      "1.3246982097625732 tensor(0.) tensor(0.) 0.0 0.0\n",
      "1.0604456663131714 tensor(0.) tensor(0.) 0.0 0.0\n"
     ]
    },
    {
     "name": "stderr",
     "output_type": "stream",
     "text": [
      "Epoch 1 Loss: 1.1992:  26%|███████▏                    | 129/500 [00:18<00:52,  7.12batch/s]"
     ]
    },
    {
     "name": "stdout",
     "output_type": "stream",
     "text": [
      "1.281790018081665 tensor(0.) tensor(0.) 0.0 0.0\n",
      "1.2097690105438232 tensor(0.) tensor(0.) 0.0 0.0\n"
     ]
    },
    {
     "name": "stderr",
     "output_type": "stream",
     "text": [
      "Epoch 1 Loss: 1.1990:  26%|███████▎                    | 131/500 [00:19<00:56,  6.58batch/s]"
     ]
    },
    {
     "name": "stdout",
     "output_type": "stream",
     "text": [
      "1.1508947610855103 tensor(0.) tensor(0.) 0.0 0.0\n",
      "1.190177321434021 tensor(0.) tensor(0.) 0.0 0.0\n"
     ]
    },
    {
     "name": "stderr",
     "output_type": "stream",
     "text": [
      "Epoch 1 Loss: 1.1982:  27%|███████▍                    | 133/500 [00:19<00:56,  6.51batch/s]"
     ]
    },
    {
     "name": "stdout",
     "output_type": "stream",
     "text": [
      "1.1140106916427612 tensor(0.) tensor(0.) 0.0 0.0\n",
      "1.280306100845337 tensor(0.) tensor(0.) 0.0 0.0\n"
     ]
    },
    {
     "name": "stderr",
     "output_type": "stream",
     "text": [
      "Epoch 1 Loss: 1.1981:  27%|███████▌                    | 135/500 [00:19<00:56,  6.43batch/s]"
     ]
    },
    {
     "name": "stdout",
     "output_type": "stream",
     "text": [
      "1.0930120944976807 tensor(0.) tensor(0.) 0.0 0.0\n",
      "1.150154709815979 tensor(0.) tensor(0.) 0.0 0.0\n"
     ]
    },
    {
     "name": "stderr",
     "output_type": "stream",
     "text": [
      "Epoch 1 Loss: 1.1971:  27%|███████▋                    | 137/500 [00:20<00:56,  6.42batch/s]"
     ]
    },
    {
     "name": "stdout",
     "output_type": "stream",
     "text": [
      "1.1124974489212036 tensor(0.) tensor(0.) 0.0 0.0\n",
      "1.290926456451416 tensor(0.) tensor(0.) 0.0 0.0\n"
     ]
    },
    {
     "name": "stderr",
     "output_type": "stream",
     "text": [
      "Epoch 1 Loss: 1.1960:  28%|███████▊                    | 140/500 [00:20<00:45,  7.87batch/s]"
     ]
    },
    {
     "name": "stdout",
     "output_type": "stream",
     "text": [
      "1.1350938081741333 tensor(0.) tensor(0.) 0.0 0.0\n",
      "1.0144740343093872 tensor(0.) tensor(0.) 0.0 0.0\n",
      "1.1233736276626587 tensor(0.) tensor(0.) 0.0 0.0\n"
     ]
    },
    {
     "name": "stderr",
     "output_type": "stream",
     "text": [
      "Epoch 1 Loss: 1.1958:  28%|███████▉                    | 142/500 [00:20<00:48,  7.33batch/s]"
     ]
    },
    {
     "name": "stdout",
     "output_type": "stream",
     "text": [
      "1.243940830230713 tensor(0.) tensor(0.) 0.0 0.0\n",
      "1.3233866691589355 tensor(0.) tensor(0.) 0.0 0.0\n"
     ]
    },
    {
     "name": "stderr",
     "output_type": "stream",
     "text": [
      "Epoch 1 Loss: 1.1963:  29%|████████                    | 144/500 [00:21<00:51,  6.93batch/s]"
     ]
    },
    {
     "name": "stdout",
     "output_type": "stream",
     "text": [
      "1.1379698514938354 tensor(0.) tensor(0.) 0.0 0.0\n",
      "1.164860486984253 tensor(0.) tensor(0.) 0.0 0.0\n"
     ]
    },
    {
     "name": "stderr",
     "output_type": "stream",
     "text": [
      "Epoch 1 Loss: 1.1962:  29%|████████▏                   | 147/500 [00:21<00:47,  7.42batch/s]"
     ]
    },
    {
     "name": "stdout",
     "output_type": "stream",
     "text": [
      "1.3586175441741943 tensor(0.) tensor(0.) 0.0 0.0\n",
      "1.0498002767562866 tensor(0.) tensor(0.) 0.0 0.0\n"
     ]
    },
    {
     "name": "stderr",
     "output_type": "stream",
     "text": [
      "Epoch 1 Loss: 1.1965:  30%|████████▎                   | 149/500 [00:21<00:41,  8.41batch/s]"
     ]
    },
    {
     "name": "stdout",
     "output_type": "stream",
     "text": [
      "1.113722562789917 tensor(0.) tensor(0.) 0.0 0.0\n",
      "1.3242981433868408 tensor(0.) tensor(0.) 0.0 0.0\n"
     ]
    },
    {
     "name": "stderr",
     "output_type": "stream",
     "text": [
      "Epoch 1 Loss: 1.1951:  30%|████████▍                   | 151/500 [00:21<00:40,  8.53batch/s]"
     ]
    },
    {
     "name": "stdout",
     "output_type": "stream",
     "text": [
      "1.1206212043762207 tensor(0.) tensor(0.) 0.0 0.0\n",
      "1.0498080253601074 tensor(0.) tensor(0.) 0.0 0.0\n"
     ]
    },
    {
     "name": "stderr",
     "output_type": "stream",
     "text": [
      "Epoch 1 Loss: 1.1943:  30%|████████▌                   | 152/500 [00:22<00:45,  7.61batch/s]"
     ]
    },
    {
     "name": "stdout",
     "output_type": "stream",
     "text": [
      "1.0857067108154297 tensor(0.) tensor(0.) 0.0 0.0\n",
      "1.352541446685791 tensor(0.) tensor(0.) 0.0 0.0\n"
     ]
    },
    {
     "name": "stderr",
     "output_type": "stream",
     "text": [
      "Epoch 1 Loss: 1.1950:  31%|████████▌                   | 154/500 [00:22<00:47,  7.32batch/s]"
     ]
    },
    {
     "name": "stdout",
     "output_type": "stream",
     "text": [
      "1.1311302185058594 tensor(0.) tensor(0.) 0.0 0.0\n",
      "1.2154390811920166 tensor(0.) tensor(0.) 0.0 0.0\n"
     ]
    },
    {
     "name": "stderr",
     "output_type": "stream",
     "text": [
      "Epoch 1 Loss: 1.1952:  31%|████████▊                   | 157/500 [00:22<00:43,  7.95batch/s]"
     ]
    },
    {
     "name": "stdout",
     "output_type": "stream",
     "text": [
      "1.3054662942886353 tensor(0.) tensor(0.) 0.0 0.0\n",
      "1.0986697673797607 tensor(0.) tensor(0.) 0.0 0.0\n"
     ]
    },
    {
     "name": "stderr",
     "output_type": "stream",
     "text": [
      "Epoch 1 Loss: 1.1953:  32%|████████▉                   | 159/500 [00:22<00:43,  7.92batch/s]"
     ]
    },
    {
     "name": "stdout",
     "output_type": "stream",
     "text": [
      "1.2400954961776733 tensor(0.) tensor(0.) 0.0 0.0\n",
      "1.1734473705291748 tensor(0.) tensor(0.) 0.0 0.0\n"
     ]
    },
    {
     "name": "stderr",
     "output_type": "stream",
     "text": [
      "Epoch 1 Loss: 1.1945:  32%|████████▉                   | 160/500 [00:23<00:45,  7.48batch/s]"
     ]
    },
    {
     "name": "stdout",
     "output_type": "stream",
     "text": [
      "1.1443015336990356 tensor(0.) tensor(0.) 0.0 0.0\n",
      "1.1179136037826538 tensor(0.) tensor(0.) 0.0 0.0\n"
     ]
    },
    {
     "name": "stderr",
     "output_type": "stream",
     "text": [
      "Epoch 1 Loss: 1.1955:  32%|█████████                   | 162/500 [00:23<00:41,  8.15batch/s]"
     ]
    },
    {
     "name": "stdout",
     "output_type": "stream",
     "text": [
      "1.3570046424865723 tensor(0.) tensor(0.) 0.0 0.0\n",
      "1.0268032550811768 tensor(0.) tensor(0.) 0.0 0.0\n"
     ]
    },
    {
     "name": "stderr",
     "output_type": "stream",
     "text": [
      "Epoch 1 Loss: 1.1947:  33%|█████████▏                  | 164/500 [00:23<00:43,  7.70batch/s]"
     ]
    },
    {
     "name": "stdout",
     "output_type": "stream",
     "text": [
      "1.2208809852600098 tensor(0.) tensor(0.) 0.0 0.0\n",
      "1.0841877460479736 tensor(0.) tensor(0.) 0.0 0.0\n"
     ]
    },
    {
     "name": "stderr",
     "output_type": "stream",
     "text": [
      "Epoch 1 Loss: 1.1944:  33%|█████████▎                  | 166/500 [00:23<00:43,  7.61batch/s]"
     ]
    },
    {
     "name": "stdout",
     "output_type": "stream",
     "text": [
      "1.266183614730835 tensor(0.) tensor(0.) 0.0 0.0\n",
      "1.1205487251281738 tensor(0.) tensor(0.) 0.0 0.0\n"
     ]
    },
    {
     "name": "stderr",
     "output_type": "stream",
     "text": [
      "Epoch 1 Loss: 1.1924:  34%|█████████▍                  | 169/500 [00:24<00:44,  7.48batch/s]"
     ]
    },
    {
     "name": "stdout",
     "output_type": "stream",
     "text": [
      "1.0033254623413086 tensor(0.) tensor(0.) 0.0 0.0\n",
      "1.119688868522644 tensor(0.) tensor(0.) 0.0 0.0\n"
     ]
    },
    {
     "name": "stderr",
     "output_type": "stream",
     "text": [
      "Epoch 1 Loss: 1.1926:  34%|█████████▍                  | 169/500 [00:24<00:44,  7.48batch/s]"
     ]
    },
    {
     "name": "stdout",
     "output_type": "stream",
     "text": [
      "1.2217460870742798 tensor(0.) tensor(0.) 0.0 0.0\n",
      "1.0947216749191284 tensor(0.) tensor(0.) 0.0 0.0\n"
     ]
    },
    {
     "name": "stderr",
     "output_type": "stream",
     "text": [
      "Epoch 1 Loss: 1.1923:  34%|█████████▋                  | 172/500 [00:24<00:42,  7.66batch/s]"
     ]
    },
    {
     "name": "stdout",
     "output_type": "stream",
     "text": [
      "1.2363008260726929 tensor(0.) tensor(0.) 0.0 0.0\n",
      "1.127024531364441 tensor(0.) tensor(0.) 0.0 0.0\n"
     ]
    },
    {
     "name": "stderr",
     "output_type": "stream",
     "text": [
      "Epoch 1 Loss: 1.1917:  35%|█████████▋                  | 174/500 [00:24<00:43,  7.54batch/s]"
     ]
    },
    {
     "name": "stdout",
     "output_type": "stream",
     "text": [
      "1.165372371673584 tensor(0.) tensor(0.) 0.0 0.0\n",
      "1.1158671379089355 tensor(0.) tensor(0.) 0.0 0.0\n"
     ]
    },
    {
     "name": "stderr",
     "output_type": "stream",
     "text": [
      "Epoch 1 Loss: 1.1915:  35%|█████████▊                  | 176/500 [00:25<00:42,  7.64batch/s]"
     ]
    },
    {
     "name": "stdout",
     "output_type": "stream",
     "text": [
      "1.199934720993042 tensor(0.) tensor(0.) 0.0 0.0\n",
      "1.2107197046279907 tensor(0.) tensor(0.) 0.0 0.0\n"
     ]
    },
    {
     "name": "stderr",
     "output_type": "stream",
     "text": [
      "Epoch 1 Loss: 1.1909:  36%|█████████▉                  | 178/500 [00:25<00:40,  8.01batch/s]"
     ]
    },
    {
     "name": "stdout",
     "output_type": "stream",
     "text": [
      "1.0861639976501465 tensor(0.) tensor(0.) 0.0 0.0\n",
      "1.2759872674942017 tensor(0.) tensor(0.) 0.0 0.0\n"
     ]
    },
    {
     "name": "stderr",
     "output_type": "stream",
     "text": [
      "Epoch 1 Loss: 1.1919:  36%|██████████                  | 180/500 [00:25<00:40,  7.82batch/s]"
     ]
    },
    {
     "name": "stdout",
     "output_type": "stream",
     "text": [
      "1.2883589267730713 tensor(0.) tensor(0.) 0.0 0.0\n",
      "1.2833982706069946 tensor(0.) tensor(0.) 0.0 0.0\n"
     ]
    },
    {
     "name": "stderr",
     "output_type": "stream",
     "text": [
      "Epoch 1 Loss: 1.1929:  36%|██████████▏                 | 182/500 [00:25<00:40,  7.81batch/s]"
     ]
    },
    {
     "name": "stdout",
     "output_type": "stream",
     "text": [
      "1.2928260564804077 tensor(0.) tensor(0.) 0.0 0.0\n",
      "1.194223403930664 tensor(0.) tensor(0.) 0.0 0.0\n"
     ]
    },
    {
     "name": "stderr",
     "output_type": "stream",
     "text": [
      "Epoch 1 Loss: 1.1931:  37%|██████████▎                 | 185/500 [00:26<00:44,  7.02batch/s]"
     ]
    },
    {
     "name": "stdout",
     "output_type": "stream",
     "text": [
      "1.2893558740615845 tensor(0.) tensor(0.) 0.0 0.0\n",
      "1.1222574710845947 tensor(0.) tensor(0.) 0.0 0.0\n"
     ]
    },
    {
     "name": "stderr",
     "output_type": "stream",
     "text": [
      "Epoch 1 Loss: 1.1924:  37%|██████████▍                 | 186/500 [00:26<00:43,  7.26batch/s]"
     ]
    },
    {
     "name": "stdout",
     "output_type": "stream",
     "text": [
      "1.0661885738372803 tensor(0.) tensor(0.) 0.0 0.0\n",
      "1.1319639682769775 tensor(0.) tensor(0.) 0.0 0.0\n"
     ]
    },
    {
     "name": "stderr",
     "output_type": "stream",
     "text": [
      "Epoch 1 Loss: 1.1922:  38%|██████████▌                 | 188/500 [00:26<00:46,  6.67batch/s]"
     ]
    },
    {
     "name": "stdout",
     "output_type": "stream",
     "text": [
      "1.207076907157898 tensor(0.) tensor(0.) 0.0 0.0\n",
      "1.3507026433944702 tensor(0.) tensor(0.) 0.0 0.0\n"
     ]
    },
    {
     "name": "stderr",
     "output_type": "stream",
     "text": [
      "Epoch 1 Loss: 1.1929:  38%|██████████▋                 | 190/500 [00:27<00:45,  6.88batch/s]"
     ]
    },
    {
     "name": "stdout",
     "output_type": "stream",
     "text": [
      "1.1767414808273315 tensor(0.) tensor(0.) 0.0 0.0\n",
      "1.0931143760681152 tensor(0.) tensor(0.) 0.0 0.0\n"
     ]
    },
    {
     "name": "stderr",
     "output_type": "stream",
     "text": [
      "Epoch 1 Loss: 1.1929:  38%|██████████▊                 | 192/500 [00:27<00:44,  6.88batch/s]"
     ]
    },
    {
     "name": "stdout",
     "output_type": "stream",
     "text": [
      "1.2895008325576782 tensor(0.) tensor(0.) 0.0 0.0\n",
      "1.1868361234664917 tensor(0.) tensor(0.) 0.0 0.0\n"
     ]
    },
    {
     "name": "stderr",
     "output_type": "stream",
     "text": [
      "Epoch 1 Loss: 1.1936:  39%|██████████▊                 | 194/500 [00:27<00:46,  6.57batch/s]"
     ]
    },
    {
     "name": "stdout",
     "output_type": "stream",
     "text": [
      "1.3373026847839355 tensor(0.) tensor(0.) 0.0 0.0\n",
      "1.1416019201278687 tensor(0.) tensor(0.) 0.0 0.0\n"
     ]
    },
    {
     "name": "stderr",
     "output_type": "stream",
     "text": [
      "Epoch 1 Loss: 1.1936:  39%|██████████▉                 | 196/500 [00:28<00:44,  6.77batch/s]"
     ]
    },
    {
     "name": "stdout",
     "output_type": "stream",
     "text": [
      "1.2382495403289795 tensor(0.) tensor(0.) 0.0 0.0\n",
      "1.2507729530334473 tensor(0.) tensor(0.) 0.0 0.0\n"
     ]
    },
    {
     "name": "stderr",
     "output_type": "stream",
     "text": [
      "Epoch 1 Loss: 1.1935:  40%|███████████                 | 198/500 [00:28<00:41,  7.31batch/s]"
     ]
    },
    {
     "name": "stdout",
     "output_type": "stream",
     "text": [
      "1.1148560047149658 tensor(0.) tensor(0.) 0.0 0.0\n",
      "1.0811994075775146 tensor(0.) tensor(0.) 0.0 0.0\n"
     ]
    },
    {
     "name": "stderr",
     "output_type": "stream",
     "text": [
      "Epoch 1 Loss: 1.1937:  40%|███████████▏                | 200/500 [00:28<00:41,  7.26batch/s]"
     ]
    },
    {
     "name": "stdout",
     "output_type": "stream",
     "text": [
      "1.3458980321884155 tensor(0.) tensor(0.) 0.0 0.0\n",
      "1.45704984664917 tensor(0.) tensor(0.) 0.0 0.0\n"
     ]
    },
    {
     "name": "stderr",
     "output_type": "stream",
     "text": [
      "Epoch 1 Loss: 1.1943:  40%|███████████▎                | 202/500 [00:28<00:45,  6.59batch/s]"
     ]
    },
    {
     "name": "stdout",
     "output_type": "stream",
     "text": [
      "1.0554134845733643 tensor(0.) tensor(0.) 0.0 0.0\n",
      "1.219765067100525 tensor(0.) tensor(0.) 0.0 0.0\n"
     ]
    },
    {
     "name": "stderr",
     "output_type": "stream",
     "text": [
      "Epoch 1 Loss: 1.1938:  41%|███████████▍                | 205/500 [00:29<00:40,  7.24batch/s]"
     ]
    },
    {
     "name": "stdout",
     "output_type": "stream",
     "text": [
      "1.0250129699707031 tensor(0.) tensor(0.) 0.0 0.0\n",
      "1.2302289009094238 tensor(0.) tensor(0.) 0.0 0.0\n"
     ]
    },
    {
     "name": "stderr",
     "output_type": "stream",
     "text": [
      "Epoch 1 Loss: 1.1939:  41%|███████████▌                | 206/500 [00:29<00:42,  6.96batch/s]"
     ]
    },
    {
     "name": "stdout",
     "output_type": "stream",
     "text": [
      "1.2219715118408203 tensor(0.) tensor(0.) 0.0 0.0\n",
      "0.9817805290222168 tensor(0.) tensor(0.) 0.0 0.0\n"
     ]
    },
    {
     "name": "stderr",
     "output_type": "stream",
     "text": [
      "Epoch 1 Loss: 1.1933:  42%|███████████▋                | 208/500 [00:29<00:41,  7.12batch/s]"
     ]
    },
    {
     "name": "stdout",
     "output_type": "stream",
     "text": [
      "1.2913905382156372 tensor(0.) tensor(0.) 0.0 0.0\n",
      "1.1340012550354004 tensor(0.) tensor(0.) 0.0 0.0\n"
     ]
    },
    {
     "name": "stderr",
     "output_type": "stream",
     "text": [
      "Epoch 1 Loss: 1.1925:  42%|███████████▊                | 210/500 [00:30<00:42,  6.87batch/s]"
     ]
    },
    {
     "name": "stdout",
     "output_type": "stream",
     "text": [
      "1.0832775831222534 tensor(0.) tensor(0.) 0.0 0.0\n",
      "1.3305270671844482 tensor(0.) tensor(0.) 0.0 0.0\n"
     ]
    },
    {
     "name": "stderr",
     "output_type": "stream",
     "text": [
      "Epoch 1 Loss: 1.1929:  42%|███████████▊                | 212/500 [00:30<00:41,  7.02batch/s]"
     ]
    },
    {
     "name": "stdout",
     "output_type": "stream",
     "text": [
      "1.1570172309875488 tensor(0.) tensor(0.) 0.0 0.0\n",
      "1.1609396934509277 tensor(0.) tensor(0.) 0.0 0.0\n"
     ]
    },
    {
     "name": "stderr",
     "output_type": "stream",
     "text": [
      "Epoch 1 Loss: 1.1931:  43%|████████████                | 215/500 [00:30<00:34,  8.19batch/s]"
     ]
    },
    {
     "name": "stdout",
     "output_type": "stream",
     "text": [
      "1.2179419994354248 tensor(0.) tensor(0.) 0.0 0.0\n",
      "1.2134209871292114 tensor(0.) tensor(0.) 0.0 0.0\n"
     ]
    },
    {
     "name": "stderr",
     "output_type": "stream",
     "text": [
      "Epoch 1 Loss: 1.1925:  43%|████████████                | 216/500 [00:30<00:36,  7.80batch/s]"
     ]
    },
    {
     "name": "stdout",
     "output_type": "stream",
     "text": [
      "1.0632456541061401 tensor(0.) tensor(0.) 0.0 0.0\n",
      "1.2524336576461792 tensor(0.) tensor(0.) 0.0 0.0\n"
     ]
    },
    {
     "name": "stderr",
     "output_type": "stream",
     "text": [
      "Epoch 1 Loss: 1.1930:  44%|████████████▏               | 218/500 [00:31<00:37,  7.48batch/s]"
     ]
    },
    {
     "name": "stdout",
     "output_type": "stream",
     "text": [
      "1.249293327331543 tensor(0.) tensor(0.) 0.0 0.0\n",
      "1.2135525941848755 tensor(0.) tensor(0.) 0.0 0.0\n"
     ]
    },
    {
     "name": "stderr",
     "output_type": "stream",
     "text": [
      "Epoch 1 Loss: 1.1924:  44%|████████████▎               | 220/500 [00:31<00:36,  7.66batch/s]"
     ]
    },
    {
     "name": "stdout",
     "output_type": "stream",
     "text": [
      "1.0388967990875244 tensor(0.) tensor(0.) 0.0 0.0\n",
      "1.1312364339828491 tensor(0.) tensor(0.) 0.0 0.0\n"
     ]
    },
    {
     "name": "stderr",
     "output_type": "stream",
     "text": [
      "Epoch 1 Loss: 1.1920:  44%|████████████▍               | 221/500 [00:31<00:36,  7.56batch/s]"
     ]
    },
    {
     "name": "stdout",
     "output_type": "stream",
     "text": [
      "1.1676857471466064 tensor(0.) tensor(0.) 0.0 0.0\n",
      "1.0540578365325928 tensor(0.) tensor(0.) 0.0 0.0\n"
     ]
    },
    {
     "name": "stderr",
     "output_type": "stream",
     "text": [
      "Epoch 1 Loss: 1.1900:  45%|████████████▌               | 225/500 [00:31<00:33,  8.11batch/s]"
     ]
    },
    {
     "name": "stdout",
     "output_type": "stream",
     "text": [
      "1.028069019317627 tensor(0.) tensor(0.) 0.0 0.0\n",
      "1.0365029573440552 tensor(0.) tensor(0.) 0.0 0.0\n"
     ]
    },
    {
     "name": "stderr",
     "output_type": "stream",
     "text": [
      "Epoch 1 Loss: 1.1895:  45%|████████████▋               | 226/500 [00:32<00:35,  7.68batch/s]"
     ]
    },
    {
     "name": "stdout",
     "output_type": "stream",
     "text": [
      "1.0738779306411743 tensor(0.) tensor(0.) 0.0 0.0\n",
      "1.0636361837387085 tensor(0.) tensor(0.) 0.0 0.0\n"
     ]
    },
    {
     "name": "stderr",
     "output_type": "stream",
     "text": [
      "Epoch 1 Loss: 1.1889:  46%|████████████▊               | 228/500 [00:32<00:37,  7.20batch/s]"
     ]
    },
    {
     "name": "stdout",
     "output_type": "stream",
     "text": [
      "1.1894068717956543 tensor(0.) tensor(0.) 0.0 0.0\n",
      "1.1525038480758667 tensor(0.) tensor(0.) 0.0 0.0\n"
     ]
    },
    {
     "name": "stderr",
     "output_type": "stream",
     "text": [
      "Epoch 1 Loss: 1.1881:  46%|████████████▉               | 230/500 [00:32<00:38,  7.02batch/s]"
     ]
    },
    {
     "name": "stdout",
     "output_type": "stream",
     "text": [
      "1.030229926109314 tensor(0.) tensor(0.) 0.0 0.0\n",
      "1.1949504613876343 tensor(0.) tensor(0.) 0.0 0.0\n"
     ]
    },
    {
     "name": "stderr",
     "output_type": "stream",
     "text": [
      "Epoch 1 Loss: 1.1882:  46%|████████████▉               | 232/500 [00:33<00:41,  6.46batch/s]"
     ]
    },
    {
     "name": "stdout",
     "output_type": "stream",
     "text": [
      "1.202096939086914 tensor(0.) tensor(0.) 0.0 0.0\n",
      "1.1404683589935303 tensor(0.) tensor(0.) 0.0 0.0\n"
     ]
    },
    {
     "name": "stderr",
     "output_type": "stream",
     "text": [
      "Epoch 1 Loss: 1.1885:  47%|█████████████               | 234/500 [00:33<00:39,  6.79batch/s]"
     ]
    },
    {
     "name": "stdout",
     "output_type": "stream",
     "text": [
      "1.3222041130065918 tensor(0.) tensor(0.) 0.0 0.0\n",
      "1.1987614631652832 tensor(0.) tensor(0.) 0.0 0.0\n"
     ]
    },
    {
     "name": "stderr",
     "output_type": "stream",
     "text": [
      "Epoch 1 Loss: 1.1875:  47%|█████████████▏              | 236/500 [00:33<00:39,  6.69batch/s]"
     ]
    },
    {
     "name": "stdout",
     "output_type": "stream",
     "text": [
      "0.9554396271705627 tensor(0.) tensor(0.) 0.0 0.0\n",
      "1.159440279006958 tensor(0.) tensor(0.) 0.0 0.0\n"
     ]
    },
    {
     "name": "stderr",
     "output_type": "stream",
     "text": [
      "Epoch 1 Loss: 1.1867:  48%|█████████████▎              | 238/500 [00:33<00:33,  7.72batch/s]"
     ]
    },
    {
     "name": "stdout",
     "output_type": "stream",
     "text": [
      "1.0147242546081543 tensor(0.) tensor(0.) 0.0 0.0\n",
      "1.1327869892120361 tensor(0.) tensor(0.) 0.0 0.0\n"
     ]
    },
    {
     "name": "stderr",
     "output_type": "stream",
     "text": [
      "Epoch 1 Loss: 1.1867:  48%|█████████████▍              | 240/500 [00:34<00:36,  7.09batch/s]"
     ]
    },
    {
     "name": "stdout",
     "output_type": "stream",
     "text": [
      "1.2306032180786133 tensor(0.) tensor(0.) 0.0 0.0\n",
      "1.0038315057754517 tensor(0.) tensor(0.) 0.0 0.0\n"
     ]
    },
    {
     "name": "stderr",
     "output_type": "stream",
     "text": [
      "Epoch 1 Loss: 1.1860:  48%|█████████████▌              | 242/500 [00:34<00:37,  6.96batch/s]"
     ]
    },
    {
     "name": "stdout",
     "output_type": "stream",
     "text": [
      "1.0936022996902466 tensor(0.) tensor(0.) 0.0 0.0\n",
      "1.298412799835205 tensor(0.) tensor(0.) 0.0 0.0\n"
     ]
    },
    {
     "name": "stderr",
     "output_type": "stream",
     "text": [
      "Epoch 1 Loss: 1.1864:  49%|█████████████▋              | 244/500 [00:34<00:34,  7.48batch/s]"
     ]
    },
    {
     "name": "stdout",
     "output_type": "stream",
     "text": [
      "1.2827762365341187 tensor(0.) tensor(0.) 0.0 0.0\n",
      "1.0752707719802856 tensor(0.) tensor(0.) 0.0 0.0\n"
     ]
    },
    {
     "name": "stderr",
     "output_type": "stream",
     "text": [
      "Epoch 1 Loss: 1.1855:  49%|█████████████▊              | 246/500 [00:34<00:38,  6.68batch/s]"
     ]
    },
    {
     "name": "stdout",
     "output_type": "stream",
     "text": [
      "1.0677859783172607 tensor(0.) tensor(0.) 0.0 0.0\n",
      "1.2502080202102661 tensor(0.) tensor(0.) 0.0 0.0\n"
     ]
    },
    {
     "name": "stderr",
     "output_type": "stream",
     "text": [
      "Epoch 1 Loss: 1.1851:  50%|█████████████▉              | 248/500 [00:35<00:36,  6.94batch/s]"
     ]
    },
    {
     "name": "stdout",
     "output_type": "stream",
     "text": [
      "1.0315699577331543 tensor(0.) tensor(0.) 0.0 0.0\n",
      "1.1172659397125244 tensor(0.) tensor(0.) 0.0 0.0\n"
     ]
    },
    {
     "name": "stderr",
     "output_type": "stream",
     "text": [
      "Epoch 1 Loss: 1.1852:  50%|██████████████              | 250/500 [00:35<00:39,  6.34batch/s]"
     ]
    },
    {
     "name": "stdout",
     "output_type": "stream",
     "text": [
      "1.2733254432678223 tensor(0.) tensor(0.) 0.0 0.0\n",
      "1.2504218816757202 tensor(0.) tensor(0.) 0.0 0.0\n"
     ]
    },
    {
     "name": "stderr",
     "output_type": "stream",
     "text": [
      "Epoch 1 Loss: 1.1849:  50%|██████████████              | 252/500 [00:36<00:38,  6.37batch/s]"
     ]
    },
    {
     "name": "stdout",
     "output_type": "stream",
     "text": [
      "1.0982918739318848 tensor(0.) tensor(0.) 0.0 0.0\n",
      "1.1283955574035645 tensor(0.) tensor(0.) 0.0 0.0\n"
     ]
    },
    {
     "name": "stderr",
     "output_type": "stream",
     "text": [
      "Epoch 1 Loss: 1.1843:  51%|██████████████▏             | 254/500 [00:36<00:30,  8.16batch/s]"
     ]
    },
    {
     "name": "stdout",
     "output_type": "stream",
     "text": [
      "1.0346803665161133 tensor(0.) tensor(0.) 0.0 0.0\n",
      "1.0240182876586914 tensor(0.) tensor(0.) 0.0 0.0\n"
     ]
    },
    {
     "name": "stderr",
     "output_type": "stream",
     "text": [
      "Epoch 1 Loss: 1.1839:  51%|██████████████▎             | 256/500 [00:36<00:33,  7.28batch/s]"
     ]
    },
    {
     "name": "stdout",
     "output_type": "stream",
     "text": [
      "1.241057276725769 tensor(0.) tensor(0.) 0.0 0.0\n",
      "1.007237434387207 tensor(0.) tensor(0.) 0.0 0.0\n"
     ]
    },
    {
     "name": "stderr",
     "output_type": "stream",
     "text": [
      "Epoch 1 Loss: 1.1830:  52%|██████████████▍             | 258/500 [00:36<00:35,  6.75batch/s]"
     ]
    },
    {
     "name": "stdout",
     "output_type": "stream",
     "text": [
      "1.1171190738677979 tensor(0.) tensor(0.) 0.0 0.0\n",
      "1.2284332513809204 tensor(0.) tensor(0.) 0.0 0.0\n"
     ]
    },
    {
     "name": "stderr",
     "output_type": "stream",
     "text": [
      "Epoch 1 Loss: 1.1828:  52%|██████████████▌             | 260/500 [00:37<00:37,  6.40batch/s]"
     ]
    },
    {
     "name": "stdout",
     "output_type": "stream",
     "text": [
      "1.0928313732147217 tensor(0.) tensor(0.) 0.0 0.0\n",
      "1.140399694442749 tensor(0.) tensor(0.) 0.0 0.0\n"
     ]
    },
    {
     "name": "stderr",
     "output_type": "stream",
     "text": [
      "Epoch 1 Loss: 1.1829:  52%|██████████████▋             | 262/500 [00:37<00:36,  6.45batch/s]"
     ]
    },
    {
     "name": "stdout",
     "output_type": "stream",
     "text": [
      "1.254578948020935 tensor(0.) tensor(0.) 0.0 0.0\n",
      "1.2617475986480713 tensor(0.) tensor(0.) 0.0 0.0\n"
     ]
    },
    {
     "name": "stderr",
     "output_type": "stream",
     "text": [
      "Epoch 1 Loss: 1.1831:  53%|██████████████▊             | 264/500 [00:37<00:36,  6.46batch/s]"
     ]
    },
    {
     "name": "stdout",
     "output_type": "stream",
     "text": [
      "1.157332181930542 tensor(0.) tensor(0.) 0.0 0.0\n",
      "1.269736886024475 tensor(0.) tensor(0.) 0.0 0.0\n"
     ]
    },
    {
     "name": "stderr",
     "output_type": "stream",
     "text": [
      "Epoch 1 Loss: 1.1836:  53%|██████████████▉             | 266/500 [00:37<00:36,  6.33batch/s]"
     ]
    },
    {
     "name": "stdout",
     "output_type": "stream",
     "text": [
      "1.2247767448425293 tensor(0.) tensor(0.) 0.0 0.0\n",
      "1.1206589937210083 tensor(0.) tensor(0.) 0.0 0.0\n"
     ]
    },
    {
     "name": "stderr",
     "output_type": "stream",
     "text": [
      "Epoch 1 Loss: 1.1831:  54%|███████████████             | 268/500 [00:38<00:36,  6.29batch/s]"
     ]
    },
    {
     "name": "stdout",
     "output_type": "stream",
     "text": [
      "1.109073281288147 tensor(0.) tensor(0.) 0.0 0.0\n",
      "1.1708879470825195 tensor(0.) tensor(0.) 0.0 0.0\n"
     ]
    },
    {
     "name": "stderr",
     "output_type": "stream",
     "text": [
      "Epoch 1 Loss: 1.1834:  54%|███████████████             | 270/500 [00:38<00:36,  6.24batch/s]"
     ]
    },
    {
     "name": "stdout",
     "output_type": "stream",
     "text": [
      "1.288196086883545 tensor(0.) tensor(0.) 0.0 0.0\n",
      "1.0481749773025513 tensor(0.) tensor(0.) 0.0 0.0\n"
     ]
    },
    {
     "name": "stderr",
     "output_type": "stream",
     "text": [
      "Epoch 1 Loss: 1.1826:  55%|███████████████▎            | 273/500 [00:39<00:32,  7.02batch/s]"
     ]
    },
    {
     "name": "stdout",
     "output_type": "stream",
     "text": [
      "1.0909883975982666 tensor(0.) tensor(0.) 0.0 0.0\n",
      "1.1772832870483398 tensor(0.) tensor(0.) 0.0 0.0\n"
     ]
    },
    {
     "name": "stderr",
     "output_type": "stream",
     "text": [
      "Epoch 1 Loss: 1.1823:  55%|███████████████▎            | 274/500 [00:39<00:30,  7.31batch/s]"
     ]
    },
    {
     "name": "stdout",
     "output_type": "stream",
     "text": [
      "1.1184029579162598 tensor(0.) tensor(0.) 0.0 0.0\n",
      "1.260343074798584 tensor(0.) tensor(0.) 0.0 0.0\n"
     ]
    },
    {
     "name": "stderr",
     "output_type": "stream",
     "text": [
      "Epoch 1 Loss: 1.1830:  55%|███████████████▍            | 276/500 [00:39<00:33,  6.78batch/s]"
     ]
    },
    {
     "name": "stdout",
     "output_type": "stream",
     "text": [
      "1.2910979986190796 tensor(0.) tensor(0.) 0.0 0.0\n",
      "1.2217960357666016 tensor(0.) tensor(0.) 0.0 0.0\n"
     ]
    },
    {
     "name": "stderr",
     "output_type": "stream",
     "text": [
      "Epoch 1 Loss: 1.1839:  56%|███████████████▌            | 278/500 [00:39<00:31,  7.02batch/s]"
     ]
    },
    {
     "name": "stdout",
     "output_type": "stream",
     "text": [
      "1.3845946788787842 tensor(0.) tensor(0.) 0.0 0.0\n",
      "1.0466519594192505 tensor(0.) tensor(0.) 0.0 0.0\n"
     ]
    },
    {
     "name": "stderr",
     "output_type": "stream",
     "text": [
      "Epoch 1 Loss: 1.1826:  56%|███████████████▋            | 280/500 [00:40<00:31,  7.02batch/s]"
     ]
    },
    {
     "name": "stdout",
     "output_type": "stream",
     "text": [
      "0.9737141132354736 tensor(0.) tensor(0.) 0.0 0.0\n",
      "1.0289336442947388 tensor(0.) tensor(0.) 0.0 0.0\n"
     ]
    },
    {
     "name": "stderr",
     "output_type": "stream",
     "text": [
      "Epoch 1 Loss: 1.1829:  57%|███████████████▊            | 283/500 [00:40<00:29,  7.38batch/s]"
     ]
    },
    {
     "name": "stdout",
     "output_type": "stream",
     "text": [
      "1.3533591032028198 tensor(0.) tensor(0.) 0.0 0.0\n",
      "1.238021969795227 tensor(0.) tensor(0.) 0.0 0.0\n"
     ]
    },
    {
     "name": "stderr",
     "output_type": "stream",
     "text": [
      "Epoch 1 Loss: 1.1825:  57%|███████████████▉            | 285/500 [00:40<00:24,  8.60batch/s]"
     ]
    },
    {
     "name": "stdout",
     "output_type": "stream",
     "text": [
      "1.1664279699325562 tensor(0.) tensor(0.) 0.0 0.0\n",
      "1.1023805141448975 tensor(0.) tensor(0.) 0.0 0.0\n"
     ]
    },
    {
     "name": "stderr",
     "output_type": "stream",
     "text": [
      "Epoch 1 Loss: 1.1819:  57%|████████████████            | 287/500 [00:40<00:26,  8.05batch/s]"
     ]
    },
    {
     "name": "stdout",
     "output_type": "stream",
     "text": [
      "1.1390548944473267 tensor(0.) tensor(0.) 0.0 0.0\n",
      "1.0396413803100586 tensor(0.) tensor(0.) 0.0 0.0\n"
     ]
    },
    {
     "name": "stderr",
     "output_type": "stream",
     "text": [
      "Epoch 1 Loss: 1.1813:  58%|████████████████▏           | 288/500 [00:41<00:28,  7.47batch/s]"
     ]
    },
    {
     "name": "stdout",
     "output_type": "stream",
     "text": [
      "0.9982645511627197 tensor(0.) tensor(0.) 0.0 0.0\n",
      "1.0502156019210815 tensor(0.) tensor(0.) 0.0 0.0\n"
     ]
    },
    {
     "name": "stderr",
     "output_type": "stream",
     "text": [
      "Epoch 1 Loss: 1.1809:  58%|████████████████▏           | 290/500 [00:41<00:30,  6.93batch/s]"
     ]
    },
    {
     "name": "stdout",
     "output_type": "stream",
     "text": [
      "1.2156729698181152 tensor(0.) tensor(0.) 0.0 0.0\n",
      "1.0892517566680908 tensor(0.) tensor(0.) 0.0 0.0\n"
     ]
    },
    {
     "name": "stderr",
     "output_type": "stream",
     "text": [
      "Epoch 1 Loss: 1.1809:  58%|████████████████▎           | 292/500 [00:41<00:31,  6.59batch/s]"
     ]
    },
    {
     "name": "stdout",
     "output_type": "stream",
     "text": [
      "1.269749402999878 tensor(0.) tensor(0.) 0.0 0.0\n",
      "1.1261016130447388 tensor(0.) tensor(0.) 0.0 0.0\n"
     ]
    },
    {
     "name": "stderr",
     "output_type": "stream",
     "text": [
      "Epoch 1 Loss: 1.1805:  59%|████████████████▍           | 294/500 [00:42<00:31,  6.60batch/s]"
     ]
    },
    {
     "name": "stdout",
     "output_type": "stream",
     "text": [
      "1.1155345439910889 tensor(0.) tensor(0.) 0.0 0.0\n",
      "1.1435935497283936 tensor(0.) tensor(0.) 0.0 0.0\n"
     ]
    },
    {
     "name": "stderr",
     "output_type": "stream",
     "text": [
      "Epoch 1 Loss: 1.1800:  59%|████████████████▌           | 296/500 [00:42<00:27,  7.33batch/s]"
     ]
    },
    {
     "name": "stdout",
     "output_type": "stream",
     "text": [
      "1.076392650604248 tensor(0.) tensor(0.) 0.0 0.0\n",
      "1.2049918174743652 tensor(0.) tensor(0.) 0.0 0.0\n"
     ]
    },
    {
     "name": "stderr",
     "output_type": "stream",
     "text": [
      "Epoch 1 Loss: 1.1803:  60%|████████████████▋           | 298/500 [00:42<00:31,  6.46batch/s]"
     ]
    },
    {
     "name": "stdout",
     "output_type": "stream",
     "text": [
      "1.2368024587631226 tensor(0.) tensor(0.) 0.0 0.0\n",
      "0.9860084652900696 tensor(0.) tensor(0.) 0.0 0.0\n"
     ]
    },
    {
     "name": "stderr",
     "output_type": "stream",
     "text": [
      "Epoch 1 Loss: 1.1799:  60%|████████████████▊           | 300/500 [00:42<00:30,  6.60batch/s]"
     ]
    },
    {
     "name": "stdout",
     "output_type": "stream",
     "text": [
      "1.2674986124038696 tensor(0.) tensor(0.) 0.0 0.0\n",
      "1.1979148387908936 tensor(0.) tensor(0.) 0.0 0.0\n"
     ]
    },
    {
     "name": "stderr",
     "output_type": "stream",
     "text": [
      "Epoch 1 Loss: 1.1799:  60%|████████████████▉           | 302/500 [00:43<00:29,  6.72batch/s]"
     ]
    },
    {
     "name": "stdout",
     "output_type": "stream",
     "text": [
      "1.1348812580108643 tensor(0.) tensor(0.) 0.0 0.0\n",
      "1.1110857725143433 tensor(0.) tensor(0.) 0.0 0.0\n"
     ]
    },
    {
     "name": "stderr",
     "output_type": "stream",
     "text": [
      "Epoch 1 Loss: 1.1798:  61%|█████████████████           | 304/500 [00:43<00:28,  6.82batch/s]"
     ]
    },
    {
     "name": "stdout",
     "output_type": "stream",
     "text": [
      "1.2368983030319214 tensor(0.) tensor(0.) 0.0 0.0\n",
      "1.0975525379180908 tensor(0.) tensor(0.) 0.0 0.0\n"
     ]
    },
    {
     "name": "stderr",
     "output_type": "stream",
     "text": [
      "Epoch 1 Loss: 1.1794:  61%|█████████████████▏          | 306/500 [00:43<00:30,  6.46batch/s]"
     ]
    },
    {
     "name": "stdout",
     "output_type": "stream",
     "text": [
      "1.1418352127075195 tensor(0.) tensor(0.) 0.0 0.0\n",
      "1.433517336845398 tensor(0.) tensor(0.) 0.0 0.0\n"
     ]
    },
    {
     "name": "stderr",
     "output_type": "stream",
     "text": [
      "Epoch 1 Loss: 1.1807:  62%|█████████████████▏          | 308/500 [00:44<00:29,  6.59batch/s]"
     ]
    },
    {
     "name": "stdout",
     "output_type": "stream",
     "text": [
      "1.3124951124191284 tensor(0.) tensor(0.) 0.0 0.0\n",
      "1.0575982332229614 tensor(0.) tensor(0.) 0.0 0.0\n"
     ]
    },
    {
     "name": "stderr",
     "output_type": "stream",
     "text": [
      "Epoch 1 Loss: 1.1800:  62%|█████████████████▎          | 310/500 [00:44<00:29,  6.47batch/s]"
     ]
    },
    {
     "name": "stdout",
     "output_type": "stream",
     "text": [
      "1.0870696306228638 tensor(0.) tensor(0.) 0.0 0.0\n",
      "1.1207871437072754 tensor(0.) tensor(0.) 0.0 0.0\n"
     ]
    },
    {
     "name": "stderr",
     "output_type": "stream",
     "text": [
      "Epoch 1 Loss: 1.1796:  62%|█████████████████▍          | 312/500 [00:44<00:28,  6.57batch/s]"
     ]
    },
    {
     "name": "stdout",
     "output_type": "stream",
     "text": [
      "1.1108320951461792 tensor(0.) tensor(0.) 0.0 0.0\n",
      "1.2321174144744873 tensor(0.) tensor(0.) 0.0 0.0\n"
     ]
    },
    {
     "name": "stderr",
     "output_type": "stream",
     "text": [
      "Epoch 1 Loss: 1.1793:  63%|█████████████████▌          | 314/500 [00:44<00:27,  6.67batch/s]"
     ]
    },
    {
     "name": "stdout",
     "output_type": "stream",
     "text": [
      "1.053378701210022 tensor(0.) tensor(0.) 0.0 0.0\n",
      "1.1884503364562988 tensor(0.) tensor(0.) 0.0 0.0\n"
     ]
    },
    {
     "name": "stderr",
     "output_type": "stream",
     "text": [
      "Epoch 1 Loss: 1.1794:  63%|█████████████████▊          | 317/500 [00:45<00:23,  7.72batch/s]"
     ]
    },
    {
     "name": "stdout",
     "output_type": "stream",
     "text": [
      "1.1163461208343506 tensor(0.) tensor(0.) 0.0 0.0\n",
      "1.253303050994873 tensor(0.) tensor(0.) 0.0 0.0\n"
     ]
    },
    {
     "name": "stderr",
     "output_type": "stream",
     "text": [
      "Epoch 1 Loss: 1.1794:  64%|█████████████████▊          | 318/500 [00:45<00:27,  6.53batch/s]"
     ]
    },
    {
     "name": "stdout",
     "output_type": "stream",
     "text": [
      "1.191636085510254 tensor(0.) tensor(0.) 0.0 0.0\n",
      "1.1481190919876099 tensor(0.) tensor(0.) 0.0 0.0\n"
     ]
    },
    {
     "name": "stderr",
     "output_type": "stream",
     "text": [
      "Epoch 1 Loss: 1.1798:  64%|█████████████████▉          | 320/500 [00:45<00:25,  6.99batch/s]"
     ]
    },
    {
     "name": "stdout",
     "output_type": "stream",
     "text": [
      "1.3131309747695923 tensor(0.) tensor(0.) 0.0 0.0\n",
      "1.1009132862091064 tensor(0.) tensor(0.) 0.0 0.0\n"
     ]
    },
    {
     "name": "stderr",
     "output_type": "stream",
     "text": [
      "Epoch 1 Loss: 1.1790:  65%|██████████████████          | 323/500 [00:46<00:22,  7.71batch/s]"
     ]
    },
    {
     "name": "stdout",
     "output_type": "stream",
     "text": [
      "1.0351253747940063 tensor(0.) tensor(0.) 0.0 0.0\n",
      "1.1441973447799683 tensor(0.) tensor(0.) 0.0 0.0\n"
     ]
    },
    {
     "name": "stderr",
     "output_type": "stream",
     "text": [
      "Epoch 1 Loss: 1.1783:  65%|██████████████████▏         | 324/500 [00:46<00:25,  6.97batch/s]"
     ]
    },
    {
     "name": "stdout",
     "output_type": "stream",
     "text": [
      "0.9642046093940735 tensor(0.) tensor(0.) 0.0 0.0\n",
      "1.1418782472610474 tensor(0.) tensor(0.) 0.0 0.0\n"
     ]
    },
    {
     "name": "stderr",
     "output_type": "stream",
     "text": [
      "Epoch 1 Loss: 1.1778:  65%|██████████████████▎         | 326/500 [00:46<00:25,  6.73batch/s]"
     ]
    },
    {
     "name": "stdout",
     "output_type": "stream",
     "text": [
      "1.0579168796539307 tensor(0.) tensor(0.) 0.0 0.0\n",
      "1.1474947929382324 tensor(0.) tensor(0.) 0.0 0.0\n"
     ]
    },
    {
     "name": "stderr",
     "output_type": "stream",
     "text": [
      "Epoch 1 Loss: 1.1778:  66%|██████████████████▎         | 328/500 [00:46<00:24,  7.05batch/s]"
     ]
    },
    {
     "name": "stdout",
     "output_type": "stream",
     "text": [
      "1.2153079509735107 tensor(0.) tensor(0.) 0.0 0.0\n",
      "1.1085152626037598 tensor(0.) tensor(0.) 0.0 0.0\n"
     ]
    },
    {
     "name": "stderr",
     "output_type": "stream",
     "text": [
      "Epoch 1 Loss: 1.1770:  66%|██████████████████▍         | 330/500 [00:47<00:25,  6.59batch/s]"
     ]
    },
    {
     "name": "stdout",
     "output_type": "stream",
     "text": [
      "0.9866412878036499 tensor(0.) tensor(0.) 0.0 0.0\n",
      "1.2346813678741455 tensor(0.) tensor(0.) 0.0 0.0\n"
     ]
    },
    {
     "name": "stderr",
     "output_type": "stream",
     "text": [
      "Epoch 1 Loss: 1.1771:  66%|██████████████████▌         | 332/500 [00:47<00:23,  7.28batch/s]"
     ]
    },
    {
     "name": "stdout",
     "output_type": "stream",
     "text": [
      "1.1298631429672241 tensor(0.) tensor(0.) 0.0 0.0\n",
      "1.2997361421585083 tensor(0.) tensor(0.) 0.0 0.0\n"
     ]
    },
    {
     "name": "stderr",
     "output_type": "stream",
     "text": [
      "Epoch 1 Loss: 1.1781:  67%|██████████████████▋         | 334/500 [00:47<00:22,  7.52batch/s]"
     ]
    },
    {
     "name": "stdout",
     "output_type": "stream",
     "text": [
      "1.4007433652877808 tensor(0.) tensor(0.) 0.0 0.0\n",
      "1.1613000631332397 tensor(0.) tensor(0.) 0.0 0.0\n"
     ]
    },
    {
     "name": "stderr",
     "output_type": "stream",
     "text": [
      "Epoch 1 Loss: 1.1780:  67%|██████████████████▊         | 336/500 [00:48<00:22,  7.29batch/s]"
     ]
    },
    {
     "name": "stdout",
     "output_type": "stream",
     "text": [
      "1.1684311628341675 tensor(0.) tensor(0.) 0.0 0.0\n",
      "1.1246623992919922 tensor(0.) tensor(0.) 0.0 0.0\n"
     ]
    },
    {
     "name": "stderr",
     "output_type": "stream",
     "text": [
      "Epoch 1 Loss: 1.1775:  68%|██████████████████▉         | 338/500 [00:48<00:23,  6.78batch/s]"
     ]
    },
    {
     "name": "stdout",
     "output_type": "stream",
     "text": [
      "1.0444432497024536 tensor(0.) tensor(0.) 0.0 0.0\n",
      "1.0427289009094238 tensor(0.) tensor(0.) 0.0 0.0\n"
     ]
    },
    {
     "name": "stderr",
     "output_type": "stream",
     "text": [
      "Epoch 1 Loss: 1.1772:  68%|███████████████████         | 340/500 [00:48<00:22,  7.27batch/s]"
     ]
    },
    {
     "name": "stdout",
     "output_type": "stream",
     "text": [
      "1.2056392431259155 tensor(0.) tensor(0.) 0.0 0.0\n",
      "1.005984902381897 tensor(0.) tensor(0.) 0.0 0.0\n"
     ]
    },
    {
     "name": "stderr",
     "output_type": "stream",
     "text": [
      "Epoch 1 Loss: 1.1766:  68%|███████████████████▏        | 342/500 [00:48<00:22,  7.15batch/s]"
     ]
    },
    {
     "name": "stdout",
     "output_type": "stream",
     "text": [
      "1.1578336954116821 tensor(0.) tensor(0.) 0.0 0.0\n",
      "1.1563620567321777 tensor(0.) tensor(0.) 0.0 0.0\n"
     ]
    },
    {
     "name": "stderr",
     "output_type": "stream",
     "text": [
      "Epoch 1 Loss: 1.1762:  69%|███████████████████▎        | 344/500 [00:49<00:22,  6.90batch/s]"
     ]
    },
    {
     "name": "stdout",
     "output_type": "stream",
     "text": [
      "1.059782862663269 tensor(0.) tensor(0.) 0.0 0.0\n",
      "1.205987811088562 tensor(0.) tensor(0.) 0.0 0.0\n"
     ]
    },
    {
     "name": "stderr",
     "output_type": "stream",
     "text": [
      "Epoch 1 Loss: 1.1759:  69%|███████████████████▍        | 346/500 [00:49<00:24,  6.30batch/s]"
     ]
    },
    {
     "name": "stdout",
     "output_type": "stream",
     "text": [
      "1.037981629371643 tensor(0.) tensor(0.) 0.0 0.0\n",
      "1.185063362121582 tensor(0.) tensor(0.) 0.0 0.0\n"
     ]
    },
    {
     "name": "stderr",
     "output_type": "stream",
     "text": [
      "Epoch 1 Loss: 1.1763:  70%|███████████████████▍        | 348/500 [00:49<00:23,  6.61batch/s]"
     ]
    },
    {
     "name": "stdout",
     "output_type": "stream",
     "text": [
      "1.2939773797988892 tensor(0.) tensor(0.) 0.0 0.0\n",
      "1.1266745328903198 tensor(0.) tensor(0.) 0.0 0.0\n"
     ]
    },
    {
     "name": "stderr",
     "output_type": "stream",
     "text": [
      "Epoch 1 Loss: 1.1761:  70%|███████████████████▌        | 350/500 [00:50<00:22,  6.70batch/s]"
     ]
    },
    {
     "name": "stdout",
     "output_type": "stream",
     "text": [
      "1.1833056211471558 tensor(0.) tensor(0.) 0.0 0.0\n",
      "1.0640437602996826 tensor(0.) tensor(0.) 0.0 0.0\n"
     ]
    },
    {
     "name": "stderr",
     "output_type": "stream",
     "text": [
      "Epoch 1 Loss: 1.1756:  70%|███████████████████▋        | 352/500 [00:50<00:21,  6.77batch/s]"
     ]
    },
    {
     "name": "stdout",
     "output_type": "stream",
     "text": [
      "1.1012059450149536 tensor(0.) tensor(0.) 0.0 0.0\n",
      "0.9566280841827393 tensor(0.) tensor(0.) 0.0 0.0\n"
     ]
    },
    {
     "name": "stderr",
     "output_type": "stream",
     "text": [
      "Epoch 1 Loss: 1.1751:  71%|███████████████████▉        | 355/500 [00:50<00:21,  6.89batch/s]"
     ]
    },
    {
     "name": "stdout",
     "output_type": "stream",
     "text": [
      "1.174126148223877 tensor(0.) tensor(0.) 0.0 0.0\n",
      "1.228637456893921 tensor(0.) tensor(0.) 0.0 0.0\n"
     ]
    },
    {
     "name": "stderr",
     "output_type": "stream",
     "text": [
      "Epoch 1 Loss: 1.1746:  71%|███████████████████▉        | 356/500 [00:51<00:21,  6.74batch/s]"
     ]
    },
    {
     "name": "stdout",
     "output_type": "stream",
     "text": [
      "1.0608947277069092 tensor(0.) tensor(0.) 0.0 0.0\n",
      "1.1081247329711914 tensor(0.) tensor(0.) 0.0 0.0\n"
     ]
    },
    {
     "name": "stderr",
     "output_type": "stream",
     "text": [
      "Epoch 1 Loss: 1.1751:  72%|████████████████████        | 358/500 [00:51<00:19,  7.26batch/s]"
     ]
    },
    {
     "name": "stdout",
     "output_type": "stream",
     "text": [
      "1.3498214483261108 tensor(0.) tensor(0.) 0.0 0.0\n",
      "1.0420165061950684 tensor(0.) tensor(0.) 0.0 0.0\n"
     ]
    },
    {
     "name": "stderr",
     "output_type": "stream",
     "text": [
      "Epoch 1 Loss: 1.1751:  72%|████████████████████▏       | 360/500 [00:51<00:20,  6.90batch/s]"
     ]
    },
    {
     "name": "stdout",
     "output_type": "stream",
     "text": [
      "1.3157497644424438 tensor(0.) tensor(0.) 0.0 0.0\n",
      "1.1945608854293823 tensor(0.) tensor(0.) 0.0 0.0\n"
     ]
    },
    {
     "name": "stderr",
     "output_type": "stream",
     "text": [
      "Epoch 1 Loss: 1.1748:  72%|████████████████████▎       | 362/500 [00:51<00:18,  7.46batch/s]"
     ]
    },
    {
     "name": "stdout",
     "output_type": "stream",
     "text": [
      "1.0192195177078247 tensor(0.) tensor(0.) 0.0 0.0\n",
      "1.01918363571167 tensor(0.) tensor(0.) 0.0 0.0\n"
     ]
    },
    {
     "name": "stderr",
     "output_type": "stream",
     "text": [
      "Epoch 1 Loss: 1.1743:  73%|████████████████████▍       | 364/500 [00:52<00:19,  7.15batch/s]"
     ]
    },
    {
     "name": "stdout",
     "output_type": "stream",
     "text": [
      "1.1509032249450684 tensor(0.) tensor(0.) 0.0 0.0\n",
      "1.0963410139083862 tensor(0.) tensor(0.) 0.0 0.0\n"
     ]
    },
    {
     "name": "stderr",
     "output_type": "stream",
     "text": [
      "Epoch 1 Loss: 1.1738:  73%|████████████████████▍       | 366/500 [00:52<00:18,  7.22batch/s]"
     ]
    },
    {
     "name": "stdout",
     "output_type": "stream",
     "text": [
      "1.0891956090927124 tensor(0.) tensor(0.) 0.0 0.0\n",
      "1.1627357006072998 tensor(0.) tensor(0.) 0.0 0.0\n",
      "1.1206601858139038 tensor(0.) tensor(0.) 0.0 0.0\n"
     ]
    },
    {
     "name": "stderr",
     "output_type": "stream",
     "text": [
      "Epoch 1 Loss: 1.1733:  74%|████████████████████▋       | 369/500 [00:52<00:15,  8.50batch/s]"
     ]
    },
    {
     "name": "stdout",
     "output_type": "stream",
     "text": [
      "1.1155227422714233 tensor(0.) tensor(0.) 0.0 0.0\n",
      "1.088688611984253 tensor(0.) tensor(0.) 0.0 0.0\n"
     ]
    },
    {
     "name": "stderr",
     "output_type": "stream",
     "text": [
      "Epoch 1 Loss: 1.1730:  74%|████████████████████▊       | 371/500 [00:53<00:14,  8.62batch/s]"
     ]
    },
    {
     "name": "stdout",
     "output_type": "stream",
     "text": [
      "1.3395217657089233 tensor(0.) tensor(0.) 0.0 0.0\n",
      "0.9099667072296143 tensor(0.) tensor(0.) 0.0 0.0\n",
      "1.2171903848648071 tensor(0.) tensor(0.) 0.0 0.0\n"
     ]
    },
    {
     "name": "stderr",
     "output_type": "stream",
     "text": [
      "Epoch 1 Loss: 1.1727:  75%|█████████████████████       | 375/500 [00:53<00:11, 10.78batch/s]"
     ]
    },
    {
     "name": "stdout",
     "output_type": "stream",
     "text": [
      "0.9720978736877441 tensor(0.) tensor(0.) 0.0 0.0\n",
      "1.14014732837677 tensor(0.) tensor(0.) 0.0 0.0\n",
      "1.2464367151260376 tensor(0.) tensor(0.) 0.0 0.0\n"
     ]
    },
    {
     "name": "stderr",
     "output_type": "stream",
     "text": [
      "Epoch 1 Loss: 1.1716:  76%|█████████████████████▏      | 379/500 [00:53<00:09, 12.85batch/s]"
     ]
    },
    {
     "name": "stdout",
     "output_type": "stream",
     "text": [
      "1.2090508937835693 tensor(0.) tensor(0.) 0.0 0.0\n",
      "0.9887832403182983 tensor(0.) tensor(0.) 0.0 0.0\n",
      "0.9132614135742188 tensor(0.) tensor(0.) 0.0 0.0\n"
     ]
    },
    {
     "name": "stderr",
     "output_type": "stream",
     "text": [
      "Epoch 1 Loss: 1.1713:  76%|█████████████████████▏      | 379/500 [00:53<00:09, 12.85batch/s]"
     ]
    },
    {
     "name": "stdout",
     "output_type": "stream",
     "text": [
      "1.060063123703003 tensor(0.) tensor(0.) 0.0 0.0\n",
      "1.2285475730895996 tensor(0.) tensor(0.) 0.0 0.0\n"
     ]
    },
    {
     "name": "stderr",
     "output_type": "stream",
     "text": [
      "Epoch 1 Loss: 1.1711:  76%|█████████████████████▎      | 381/500 [00:54<00:12,  9.52batch/s]"
     ]
    },
    {
     "name": "stdout",
     "output_type": "stream",
     "text": [
      "1.0387436151504517 tensor(0.) tensor(0.) 0.0 0.0\n",
      "1.193215250968933 tensor(0.) tensor(0.) 0.0 0.0\n"
     ]
    },
    {
     "name": "stderr",
     "output_type": "stream",
     "text": [
      "Epoch 1 Loss: 1.1713:  77%|█████████████████████▌      | 385/500 [00:54<00:12,  9.47batch/s]"
     ]
    },
    {
     "name": "stdout",
     "output_type": "stream",
     "text": [
      "1.2206746339797974 tensor(0.) tensor(0.) 0.0 0.0\n",
      "1.3915683031082153 tensor(0.) tensor(0.) 0.0 0.0\n",
      "0.9388835430145264 tensor(0.) tensor(0.) 0.0 0.0\n"
     ]
    },
    {
     "name": "stderr",
     "output_type": "stream",
     "text": [
      "Epoch 1 Loss: 1.1711:  77%|█████████████████████▋      | 387/500 [00:54<00:11, 10.13batch/s]"
     ]
    },
    {
     "name": "stdout",
     "output_type": "stream",
     "text": [
      "1.1162049770355225 tensor(0.) tensor(0.) 0.0 0.0\n",
      "1.1402883529663086 tensor(0.) tensor(0.) 0.0 0.0\n"
     ]
    },
    {
     "name": "stderr",
     "output_type": "stream",
     "text": [
      "Epoch 1 Loss: 1.1705:  78%|█████████████████████▊      | 389/500 [00:54<00:12,  8.73batch/s]"
     ]
    },
    {
     "name": "stdout",
     "output_type": "stream",
     "text": [
      "0.9544601440429688 tensor(0.) tensor(0.) 0.0 0.0\n",
      "1.0722110271453857 tensor(0.) tensor(0.) 0.0 0.0\n"
     ]
    },
    {
     "name": "stderr",
     "output_type": "stream",
     "text": [
      "Epoch 1 Loss: 1.1707:  78%|█████████████████████▉      | 391/500 [00:55<00:13,  8.05batch/s]"
     ]
    },
    {
     "name": "stdout",
     "output_type": "stream",
     "text": [
      "1.356502890586853 tensor(0.) tensor(0.) 0.0 0.0\n",
      "1.1757678985595703 tensor(0.) tensor(0.) 0.0 0.0\n"
     ]
    },
    {
     "name": "stderr",
     "output_type": "stream",
     "text": [
      "Epoch 1 Loss: 1.1703:  79%|██████████████████████      | 393/500 [00:55<00:15,  7.04batch/s]"
     ]
    },
    {
     "name": "stdout",
     "output_type": "stream",
     "text": [
      "1.0147095918655396 tensor(0.) tensor(0.) 0.0 0.0\n",
      "1.1152430772781372 tensor(0.) tensor(0.) 0.0 0.0\n"
     ]
    },
    {
     "name": "stderr",
     "output_type": "stream",
     "text": [
      "Epoch 1 Loss: 1.1702:  79%|██████████████████████▏     | 396/500 [00:55<00:12,  8.09batch/s]"
     ]
    },
    {
     "name": "stdout",
     "output_type": "stream",
     "text": [
      "1.1217906475067139 tensor(0.) tensor(0.) 0.0 0.0\n",
      "1.2122918367385864 tensor(0.) tensor(0.) 0.0 0.0\n"
     ]
    },
    {
     "name": "stderr",
     "output_type": "stream",
     "text": [
      "Epoch 1 Loss: 1.1700:  79%|██████████████████████▏     | 397/500 [00:55<00:13,  7.63batch/s]"
     ]
    },
    {
     "name": "stdout",
     "output_type": "stream",
     "text": [
      "1.1113708019256592 tensor(0.) tensor(0.) 0.0 0.0\n",
      "1.1612831354141235 tensor(0.) tensor(0.) 0.0 0.0\n"
     ]
    },
    {
     "name": "stderr",
     "output_type": "stream",
     "text": [
      "Epoch 1 Loss: 1.1699:  80%|██████████████████████▎     | 399/500 [00:56<00:15,  6.69batch/s]"
     ]
    },
    {
     "name": "stdout",
     "output_type": "stream",
     "text": [
      "1.129094123840332 tensor(0.) tensor(0.) 0.0 0.0\n",
      "0.9705852270126343 tensor(0.) tensor(0.) 0.0 0.0\n"
     ]
    },
    {
     "name": "stderr",
     "output_type": "stream",
     "text": [
      "Epoch 1 Loss: 1.1695:  80%|██████████████████████▍     | 401/500 [00:56<00:14,  6.72batch/s]"
     ]
    },
    {
     "name": "stdout",
     "output_type": "stream",
     "text": [
      "1.186023235321045 tensor(0.) tensor(0.) 0.0 0.0\n",
      "1.0563617944717407 tensor(0.) tensor(0.) 0.0 0.0\n"
     ]
    },
    {
     "name": "stderr",
     "output_type": "stream",
     "text": [
      "Epoch 1 Loss: 1.1696:  81%|██████████████████████▌     | 403/500 [00:56<00:14,  6.50batch/s]"
     ]
    },
    {
     "name": "stdout",
     "output_type": "stream",
     "text": [
      "1.3189903497695923 tensor(0.) tensor(0.) 0.0 0.0\n",
      "0.8754554986953735 tensor(0.) tensor(0.) 0.0 0.0\n"
     ]
    },
    {
     "name": "stderr",
     "output_type": "stream",
     "text": [
      "Epoch 1 Loss: 1.1689:  81%|██████████████████████▋     | 405/500 [00:57<00:15,  6.30batch/s]"
     ]
    },
    {
     "name": "stdout",
     "output_type": "stream",
     "text": [
      "1.2060929536819458 tensor(0.) tensor(0.) 0.0 0.0\n",
      "1.1651713848114014 tensor(0.) tensor(0.) 0.0 0.0\n"
     ]
    },
    {
     "name": "stderr",
     "output_type": "stream",
     "text": [
      "Epoch 1 Loss: 1.1688:  81%|██████████████████████▊     | 407/500 [00:57<00:14,  6.32batch/s]"
     ]
    },
    {
     "name": "stdout",
     "output_type": "stream",
     "text": [
      "1.138221025466919 tensor(0.) tensor(0.) 0.0 0.0\n",
      "1.0550434589385986 tensor(0.) tensor(0.) 0.0 0.0\n"
     ]
    },
    {
     "name": "stderr",
     "output_type": "stream",
     "text": [
      "Epoch 1 Loss: 1.1688:  82%|██████████████████████▉     | 409/500 [00:57<00:13,  6.66batch/s]"
     ]
    },
    {
     "name": "stdout",
     "output_type": "stream",
     "text": [
      "1.2787833213806152 tensor(0.) tensor(0.) 0.0 0.0\n",
      "0.950929582118988 tensor(0.) tensor(0.) 0.0 0.0\n"
     ]
    },
    {
     "name": "stderr",
     "output_type": "stream",
     "text": [
      "Epoch 1 Loss: 1.1682:  82%|███████████████████████     | 411/500 [00:58<00:13,  6.75batch/s]"
     ]
    },
    {
     "name": "stdout",
     "output_type": "stream",
     "text": [
      "1.1245156526565552 tensor(0.) tensor(0.) 0.0 0.0\n",
      "1.0295242071151733 tensor(0.) tensor(0.) 0.0 0.0\n"
     ]
    },
    {
     "name": "stderr",
     "output_type": "stream",
     "text": [
      "Epoch 1 Loss: 1.1678:  83%|███████████████████████▏    | 413/500 [00:58<00:13,  6.65batch/s]"
     ]
    },
    {
     "name": "stdout",
     "output_type": "stream",
     "text": [
      "1.1388565301895142 tensor(0.) tensor(0.) 0.0 0.0\n",
      "1.0809881687164307 tensor(0.) tensor(0.) 0.0 0.0\n"
     ]
    },
    {
     "name": "stderr",
     "output_type": "stream",
     "text": [
      "Epoch 1 Loss: 1.1673:  83%|███████████████████████▏    | 415/500 [00:58<00:13,  6.47batch/s]"
     ]
    },
    {
     "name": "stdout",
     "output_type": "stream",
     "text": [
      "1.0556814670562744 tensor(0.) tensor(0.) 0.0 0.0\n",
      "1.2014117240905762 tensor(0.) tensor(0.) 0.0 0.0\n"
     ]
    },
    {
     "name": "stderr",
     "output_type": "stream",
     "text": [
      "Epoch 1 Loss: 1.1678:  84%|███████████████████████▍    | 418/500 [00:59<00:11,  7.31batch/s]"
     ]
    },
    {
     "name": "stdout",
     "output_type": "stream",
     "text": [
      "1.2360179424285889 tensor(0.) tensor(0.) 0.0 0.0\n",
      "1.2536944150924683 tensor(0.) tensor(0.) 0.0 0.0\n"
     ]
    },
    {
     "name": "stderr",
     "output_type": "stream",
     "text": [
      "Epoch 1 Loss: 1.1678:  84%|███████████████████████▍    | 419/500 [00:59<00:10,  7.40batch/s]"
     ]
    },
    {
     "name": "stdout",
     "output_type": "stream",
     "text": [
      "1.170878529548645 tensor(0.) tensor(0.) 0.0 0.0\n",
      "1.286972165107727 tensor(0.) tensor(0.) 0.0 0.0\n"
     ]
    },
    {
     "name": "stderr",
     "output_type": "stream",
     "text": [
      "Epoch 1 Loss: 1.1679:  84%|███████████████████████▌    | 421/500 [00:59<00:11,  7.05batch/s]"
     ]
    },
    {
     "name": "stdout",
     "output_type": "stream",
     "text": [
      "1.0868231058120728 tensor(0.) tensor(0.) 0.0 0.0\n",
      "1.1546788215637207 tensor(0.) tensor(0.) 0.0 0.0\n"
     ]
    },
    {
     "name": "stderr",
     "output_type": "stream",
     "text": [
      "Epoch 1 Loss: 1.1676:  85%|███████████████████████▋    | 423/500 [00:59<00:11,  6.64batch/s]"
     ]
    },
    {
     "name": "stdout",
     "output_type": "stream",
     "text": [
      "1.094268798828125 tensor(0.) tensor(0.) 0.0 0.0\n",
      "1.1884706020355225 tensor(0.) tensor(0.) 0.0 0.0\n"
     ]
    },
    {
     "name": "stderr",
     "output_type": "stream",
     "text": [
      "Epoch 1 Loss: 1.1675:  85%|███████████████████████▊    | 426/500 [01:00<00:09,  7.58batch/s]"
     ]
    },
    {
     "name": "stdout",
     "output_type": "stream",
     "text": [
      "1.192939043045044 tensor(0.) tensor(0.) 0.0 0.0\n",
      "1.042379379272461 tensor(0.) tensor(0.) 0.0 0.0\n"
     ]
    },
    {
     "name": "stderr",
     "output_type": "stream",
     "text": [
      "Epoch 1 Loss: 1.1672:  85%|███████████████████████▉    | 427/500 [01:00<00:10,  7.25batch/s]"
     ]
    },
    {
     "name": "stdout",
     "output_type": "stream",
     "text": [
      "1.0747761726379395 tensor(0.) tensor(0.) 0.0 0.0\n",
      "1.1810023784637451 tensor(0.) tensor(0.) 0.0 0.0\n"
     ]
    },
    {
     "name": "stderr",
     "output_type": "stream",
     "text": [
      "Epoch 1 Loss: 1.1671:  86%|████████████████████████    | 429/500 [01:00<00:09,  7.26batch/s]"
     ]
    },
    {
     "name": "stdout",
     "output_type": "stream",
     "text": [
      "1.0941495895385742 tensor(0.) tensor(0.) 0.0 0.0\n",
      "1.0304055213928223 tensor(0.) tensor(0.) 0.0 0.0\n"
     ]
    },
    {
     "name": "stderr",
     "output_type": "stream",
     "text": [
      "Epoch 1 Loss: 1.1670:  86%|████████████████████████▏   | 431/500 [01:00<00:09,  7.14batch/s]"
     ]
    },
    {
     "name": "stdout",
     "output_type": "stream",
     "text": [
      "1.2698285579681396 tensor(0.) tensor(0.) 0.0 0.0\n",
      "1.0154330730438232 tensor(0.) tensor(0.) 0.0 0.0\n"
     ]
    },
    {
     "name": "stderr",
     "output_type": "stream",
     "text": [
      "Epoch 1 Loss: 1.1660:  87%|████████████████████████▏   | 433/500 [01:01<00:09,  6.80batch/s]"
     ]
    },
    {
     "name": "stdout",
     "output_type": "stream",
     "text": [
      "0.867168128490448 tensor(0.) tensor(0.) 0.0 0.0\n",
      "1.066047191619873 tensor(0.) tensor(0.) 0.0 0.0\n"
     ]
    },
    {
     "name": "stderr",
     "output_type": "stream",
     "text": [
      "Epoch 1 Loss: 1.1657:  87%|████████████████████████▎   | 435/500 [01:01<00:08,  7.32batch/s]"
     ]
    },
    {
     "name": "stdout",
     "output_type": "stream",
     "text": [
      "1.1578516960144043 tensor(0.) tensor(0.) 0.0 0.0\n",
      "1.03372061252594 tensor(0.) tensor(0.) 0.0 0.0\n"
     ]
    },
    {
     "name": "stderr",
     "output_type": "stream",
     "text": [
      "Epoch 1 Loss: 1.1653:  87%|████████████████████████▍   | 437/500 [01:01<00:08,  7.25batch/s]"
     ]
    },
    {
     "name": "stdout",
     "output_type": "stream",
     "text": [
      "1.1184906959533691 tensor(0.) tensor(0.) 0.0 0.0\n",
      "1.2110382318496704 tensor(0.) tensor(0.) 0.0 0.0\n"
     ]
    },
    {
     "name": "stderr",
     "output_type": "stream",
     "text": [
      "Epoch 1 Loss: 1.1652:  88%|████████████████████████▌   | 439/500 [01:02<00:08,  7.19batch/s]"
     ]
    },
    {
     "name": "stdout",
     "output_type": "stream",
     "text": [
      "1.0551360845565796 tensor(0.) tensor(0.) 0.0 0.0\n",
      "1.0695710182189941 tensor(0.) tensor(0.) 0.0 0.0\n"
     ]
    },
    {
     "name": "stderr",
     "output_type": "stream",
     "text": [
      "Epoch 1 Loss: 1.1647:  88%|████████████████████████▋   | 441/500 [01:02<00:08,  6.71batch/s]"
     ]
    },
    {
     "name": "stdout",
     "output_type": "stream",
     "text": [
      "1.0435339212417603 tensor(0.) tensor(0.) 0.0 0.0\n",
      "1.3642802238464355 tensor(0.) tensor(0.) 0.0 0.0\n"
     ]
    },
    {
     "name": "stderr",
     "output_type": "stream",
     "text": [
      "Epoch 1 Loss: 1.1647:  89%|████████████████████████▊   | 443/500 [01:02<00:08,  6.86batch/s]"
     ]
    },
    {
     "name": "stdout",
     "output_type": "stream",
     "text": [
      "0.9519822597503662 tensor(0.) tensor(0.) 0.0 0.0\n",
      "1.19300377368927 tensor(0.) tensor(0.) 0.0 0.0\n"
     ]
    },
    {
     "name": "stderr",
     "output_type": "stream",
     "text": [
      "Epoch 1 Loss: 1.1646:  89%|████████████████████████▉   | 445/500 [01:02<00:07,  6.98batch/s]"
     ]
    },
    {
     "name": "stdout",
     "output_type": "stream",
     "text": [
      "1.1194713115692139 tensor(0.) tensor(0.) 0.0 0.0\n",
      "0.9263052344322205 tensor(0.) tensor(0.) 0.0 0.0\n"
     ]
    },
    {
     "name": "stderr",
     "output_type": "stream",
     "text": [
      "Epoch 1 Loss: 1.1642:  89%|█████████████████████████   | 447/500 [01:03<00:07,  6.70batch/s]"
     ]
    },
    {
     "name": "stdout",
     "output_type": "stream",
     "text": [
      "1.2245334386825562 tensor(0.) tensor(0.) 0.0 0.0\n",
      "1.0258755683898926 tensor(0.) tensor(0.) 0.0 0.0\n"
     ]
    },
    {
     "name": "stderr",
     "output_type": "stream",
     "text": [
      "Epoch 1 Loss: 1.1636:  90%|█████████████████████████▏  | 449/500 [01:03<00:07,  6.76batch/s]"
     ]
    },
    {
     "name": "stdout",
     "output_type": "stream",
     "text": [
      "1.0357683897018433 tensor(0.) tensor(0.) 0.0 0.0\n",
      "1.113334059715271 tensor(0.) tensor(0.) 0.0 0.0\n"
     ]
    },
    {
     "name": "stderr",
     "output_type": "stream",
     "text": [
      "Epoch 1 Loss: 1.1635:  90%|█████████████████████████▎  | 451/500 [01:03<00:07,  6.69batch/s]"
     ]
    },
    {
     "name": "stdout",
     "output_type": "stream",
     "text": [
      "1.1680353879928589 tensor(0.) tensor(0.) 0.0 0.0\n",
      "1.243118166923523 tensor(0.) tensor(0.) 0.0 0.0\n"
     ]
    },
    {
     "name": "stderr",
     "output_type": "stream",
     "text": [
      "Epoch 1 Loss: 1.1636:  91%|█████████████████████████▎  | 453/500 [01:04<00:06,  7.13batch/s]"
     ]
    },
    {
     "name": "stdout",
     "output_type": "stream",
     "text": [
      "1.0978941917419434 tensor(0.) tensor(0.) 0.0 0.0\n",
      "1.187382459640503 tensor(0.) tensor(0.) 0.0 0.0\n"
     ]
    },
    {
     "name": "stderr",
     "output_type": "stream",
     "text": [
      "Epoch 1 Loss: 1.1635:  91%|█████████████████████████▍  | 455/500 [01:04<00:06,  6.76batch/s]"
     ]
    },
    {
     "name": "stdout",
     "output_type": "stream",
     "text": [
      "1.1024099588394165 tensor(0.) tensor(0.) 0.0 0.0\n",
      "1.0452382564544678 tensor(0.) tensor(0.) 0.0 0.0\n"
     ]
    },
    {
     "name": "stderr",
     "output_type": "stream",
     "text": [
      "Epoch 1 Loss: 1.1629:  91%|█████████████████████████▌  | 457/500 [01:04<00:06,  7.07batch/s]"
     ]
    },
    {
     "name": "stdout",
     "output_type": "stream",
     "text": [
      "1.0004891157150269 tensor(0.) tensor(0.) 0.0 0.0\n",
      "1.0895062685012817 tensor(0.) tensor(0.) 0.0 0.0\n"
     ]
    },
    {
     "name": "stderr",
     "output_type": "stream",
     "text": [
      "Epoch 1 Loss: 1.1630:  92%|█████████████████████████▋  | 459/500 [01:04<00:06,  6.49batch/s]"
     ]
    },
    {
     "name": "stdout",
     "output_type": "stream",
     "text": [
      "1.2896183729171753 tensor(0.) tensor(0.) 0.0 0.0\n",
      "1.2763819694519043 tensor(0.) tensor(0.) 0.0 0.0\n"
     ]
    },
    {
     "name": "stderr",
     "output_type": "stream",
     "text": [
      "Epoch 1 Loss: 1.1630:  92%|█████████████████████████▊  | 461/500 [01:05<00:06,  6.37batch/s]"
     ]
    },
    {
     "name": "stdout",
     "output_type": "stream",
     "text": [
      "1.0569469928741455 tensor(0.) tensor(0.) 0.0 0.0\n",
      "1.0631592273712158 tensor(0.) tensor(0.) 0.0 0.0\n"
     ]
    },
    {
     "name": "stderr",
     "output_type": "stream",
     "text": [
      "Epoch 1 Loss: 1.1626:  93%|█████████████████████████▉  | 463/500 [01:05<00:06,  6.13batch/s]"
     ]
    },
    {
     "name": "stdout",
     "output_type": "stream",
     "text": [
      "1.0857172012329102 tensor(0.) tensor(0.) 0.0 0.0\n",
      "1.24068021774292 tensor(0.) tensor(0.) 0.0 0.0\n"
     ]
    },
    {
     "name": "stderr",
     "output_type": "stream",
     "text": [
      "Epoch 1 Loss: 1.1629:  93%|██████████████████████████  | 465/500 [01:05<00:05,  6.23batch/s]"
     ]
    },
    {
     "name": "stdout",
     "output_type": "stream",
     "text": [
      "1.206243872642517 tensor(0.) tensor(0.) 0.0 0.0\n",
      "0.9713084697723389 tensor(0.) tensor(0.) 0.0 0.0\n"
     ]
    },
    {
     "name": "stderr",
     "output_type": "stream",
     "text": [
      "Epoch 1 Loss: 1.1625:  93%|██████████████████████████▏ | 467/500 [01:06<00:05,  6.33batch/s]"
     ]
    },
    {
     "name": "stdout",
     "output_type": "stream",
     "text": [
      "1.2009062767028809 tensor(0.) tensor(0.) 0.0 0.0\n",
      "1.0882458686828613 tensor(0.) tensor(0.) 0.0 0.0\n"
     ]
    },
    {
     "name": "stderr",
     "output_type": "stream",
     "text": [
      "Epoch 1 Loss: 1.1622:  94%|██████████████████████████▎ | 469/500 [01:06<00:04,  7.03batch/s]"
     ]
    },
    {
     "name": "stdout",
     "output_type": "stream",
     "text": [
      "1.0639688968658447 tensor(0.) tensor(0.) 0.0 0.0\n",
      "1.1022511720657349 tensor(0.) tensor(0.) 0.0 0.0\n"
     ]
    },
    {
     "name": "stderr",
     "output_type": "stream",
     "text": [
      "Epoch 1 Loss: 1.1625:  94%|██████████████████████████▍ | 471/500 [01:06<00:04,  6.81batch/s]"
     ]
    },
    {
     "name": "stdout",
     "output_type": "stream",
     "text": [
      "1.3786996603012085 tensor(0.) tensor(0.) 0.0 0.0\n",
      "0.9456480145454407 tensor(0.) tensor(0.) 0.0 0.0\n"
     ]
    },
    {
     "name": "stderr",
     "output_type": "stream",
     "text": [
      "Epoch 1 Loss: 1.1618:  95%|██████████████████████████▍ | 473/500 [01:07<00:03,  7.09batch/s]"
     ]
    },
    {
     "name": "stdout",
     "output_type": "stream",
     "text": [
      "1.2057561874389648 tensor(0.) tensor(0.) 0.0 0.0\n",
      "1.0067082643508911 tensor(0.) tensor(0.) 0.0 0.0\n"
     ]
    },
    {
     "name": "stderr",
     "output_type": "stream",
     "text": [
      "Epoch 1 Loss: 1.1617:  95%|██████████████████████████▌ | 475/500 [01:07<00:03,  7.66batch/s]"
     ]
    },
    {
     "name": "stdout",
     "output_type": "stream",
     "text": [
      "1.090403437614441 tensor(0.) tensor(0.) 0.0 0.0\n",
      "1.2572298049926758 tensor(0.) tensor(0.) 0.0 0.0\n"
     ]
    },
    {
     "name": "stderr",
     "output_type": "stream",
     "text": [
      "Epoch 1 Loss: 1.1619:  95%|██████████████████████████▋ | 477/500 [01:07<00:03,  7.35batch/s]"
     ]
    },
    {
     "name": "stdout",
     "output_type": "stream",
     "text": [
      "1.194941759109497 tensor(0.) tensor(0.) 0.0 0.0\n",
      "1.086240291595459 tensor(0.) tensor(0.) 0.0 0.0\n"
     ]
    },
    {
     "name": "stderr",
     "output_type": "stream",
     "text": [
      "Epoch 1 Loss: 1.1618:  96%|██████████████████████████▊ | 479/500 [01:07<00:03,  6.88batch/s]"
     ]
    },
    {
     "name": "stdout",
     "output_type": "stream",
     "text": [
      "1.186057686805725 tensor(0.) tensor(0.) 0.0 0.0\n",
      "1.1136051416397095 tensor(0.) tensor(0.) 0.0 0.0\n"
     ]
    },
    {
     "name": "stderr",
     "output_type": "stream",
     "text": [
      "Epoch 1 Loss: 1.1619:  96%|██████████████████████████▉ | 481/500 [01:08<00:02,  6.99batch/s]"
     ]
    },
    {
     "name": "stdout",
     "output_type": "stream",
     "text": [
      "1.2285583019256592 tensor(0.) tensor(0.) 0.0 0.0\n",
      "1.0194079875946045 tensor(0.) tensor(0.) 0.0 0.0\n"
     ]
    },
    {
     "name": "stderr",
     "output_type": "stream",
     "text": [
      "Epoch 1 Loss: 1.1621:  97%|███████████████████████████ | 484/500 [01:08<00:02,  7.43batch/s]"
     ]
    },
    {
     "name": "stdout",
     "output_type": "stream",
     "text": [
      "1.2434135675430298 tensor(0.) tensor(0.) 0.0 0.0\n",
      "1.3179638385772705 tensor(0.) tensor(0.) 0.0 0.0\n"
     ]
    },
    {
     "name": "stderr",
     "output_type": "stream",
     "text": [
      "Epoch 1 Loss: 1.1622:  97%|███████████████████████████▏| 485/500 [01:08<00:02,  7.40batch/s]"
     ]
    },
    {
     "name": "stdout",
     "output_type": "stream",
     "text": [
      "1.2342296838760376 tensor(0.) tensor(0.) 0.0 0.0\n",
      "1.2324795722961426 tensor(0.) tensor(0.) 0.0 0.0\n"
     ]
    },
    {
     "name": "stderr",
     "output_type": "stream",
     "text": [
      "Epoch 1 Loss: 1.1618:  98%|███████████████████████████▎| 488/500 [01:09<00:01,  9.01batch/s]"
     ]
    },
    {
     "name": "stdout",
     "output_type": "stream",
     "text": [
      "1.0911455154418945 tensor(0.) tensor(0.) 0.0 0.0\n",
      "0.9423697590827942 tensor(0.) tensor(0.) 0.0 0.0\n",
      "1.2487133741378784 tensor(0.) tensor(0.) 0.0 0.0\n"
     ]
    },
    {
     "name": "stderr",
     "output_type": "stream",
     "text": [
      "Epoch 1 Loss: 1.1616:  98%|███████████████████████████▍| 490/500 [01:09<00:01,  8.06batch/s]"
     ]
    },
    {
     "name": "stdout",
     "output_type": "stream",
     "text": [
      "0.9919736981391907 tensor(0.) tensor(0.) 0.0 0.0\n",
      "0.9727895855903625 tensor(0.) tensor(0.) 0.0 0.0\n"
     ]
    },
    {
     "name": "stderr",
     "output_type": "stream",
     "text": [
      "Epoch 1 Loss: 1.1612:  98%|███████████████████████████▌| 492/500 [01:09<00:01,  7.10batch/s]"
     ]
    },
    {
     "name": "stdout",
     "output_type": "stream",
     "text": [
      "1.1422955989837646 tensor(0.) tensor(0.) 0.0 0.0\n",
      "1.1056567430496216 tensor(0.) tensor(0.) 0.0 0.0\n"
     ]
    },
    {
     "name": "stderr",
     "output_type": "stream",
     "text": [
      "Epoch 1 Loss: 1.1610:  99%|███████████████████████████▋| 494/500 [01:09<00:00,  7.07batch/s]"
     ]
    },
    {
     "name": "stdout",
     "output_type": "stream",
     "text": [
      "1.1513078212738037 tensor(0.) tensor(0.) 0.0 0.0\n",
      "1.2113298177719116 tensor(0.) tensor(0.) 0.0 0.0\n"
     ]
    },
    {
     "name": "stderr",
     "output_type": "stream",
     "text": [
      "Epoch 1 Loss: 1.1610:  99%|███████████████████████████▊| 496/500 [01:10<00:00,  7.06batch/s]"
     ]
    },
    {
     "name": "stdout",
     "output_type": "stream",
     "text": [
      "1.0928419828414917 tensor(0.) tensor(0.) 0.0 0.0\n",
      "0.976986825466156 tensor(0.) tensor(0.) 0.0 0.0\n"
     ]
    },
    {
     "name": "stderr",
     "output_type": "stream",
     "text": [
      "Epoch 1 Loss: 1.1604: 100%|███████████████████████████▉| 498/500 [01:10<00:00,  7.18batch/s]"
     ]
    },
    {
     "name": "stdout",
     "output_type": "stream",
     "text": [
      "1.0310341119766235 tensor(0.) tensor(0.) 0.0 0.0\n",
      "1.209946632385254 tensor(0.) tensor(0.) 0.0 0.0\n"
     ]
    },
    {
     "name": "stderr",
     "output_type": "stream",
     "text": [
      "Epoch 1 Loss: 1.1603: 100%|████████████████████████████| 500/500 [01:10<00:00,  7.06batch/s]"
     ]
    },
    {
     "name": "stdout",
     "output_type": "stream",
     "text": [
      "1.091935396194458 tensor(0.) tensor(0.) 0.0 0.0\n",
      "Student Training Loss: 1.1603232004642487\n"
     ]
    },
    {
     "name": "stderr",
     "output_type": "stream",
     "text": [
      "\n"
     ]
    }
   ],
   "source": [
    "# Training Loop\n",
    "for epoch in range(num_epochs):\n",
    "    train_loss_teacher = adversarial_train_model(teacher, trainloader, criterion, optimizer_teacher, epoch)\n",
    "    print(f'Teacher Training Loss: {train_loss_teacher}')\n",
    "    train_loss_student = adversarial_train_model(student, trainloader, criterion, optimizer_student, epoch)\n",
    "    print(f'Student Training Loss: {train_loss_student}')"
   ]
  },
  {
   "cell_type": "code",
   "execution_count": 13,
   "id": "96c34c1f-e439-4a13-be54-cf5fa28ca191",
   "metadata": {},
   "outputs": [],
   "source": [
    "# Evaluation and Metrics\n",
    "def evaluate(model, dataloader):\n",
    "    model.eval()\n",
    "    all_labels = []\n",
    "    all_preds = []\n",
    "    start_time = time.time()\n",
    "    with torch.no_grad():\n",
    "        for data in dataloader:\n",
    "            inputs, labels = data\n",
    "            inputs, labels = inputs.to(device), labels.to(device)\n",
    "            outputs = model(inputs)\n",
    "            _, preds = torch.max(outputs.data, 1)\n",
    "            all_labels.append(labels.cpu().numpy())\n",
    "            all_preds.append(preds.cpu().numpy())\n",
    "    end_time = time.time()\n",
    "    inference_time = end_time - start_time\n",
    "    all_labels = np.concatenate(all_labels)\n",
    "    all_preds = np.concatenate(all_preds)\n",
    "    precision = precision_score(all_labels, all_preds, average='weighted')\n",
    "    recall = recall_score(all_labels, all_preds, average='weighted')\n",
    "    accuracy = accuracy_score(all_labels, all_preds)\n",
    "    f1 = f1_score(all_labels, all_preds, average='weighted')\n",
    "    return inference_time, precision, recall, accuracy, f1\n"
   ]
  },
  {
   "cell_type": "code",
   "execution_count": 14,
   "id": "4d5872db-5852-40fe-a3d8-d672f04c50f5",
   "metadata": {},
   "outputs": [
    {
     "name": "stdout",
     "output_type": "stream",
     "text": [
      "Teacher Metrics: (20.571057081222534, 0.6747847588117001, 0.6709, 0.6709, 0.6643685930197498)\n",
      "Student Metrics: (6.319691181182861, 0.606594311336325, 0.5805, 0.5805, 0.5771152991241887)\n"
     ]
    }
   ],
   "source": [
    "# Get metrics for both teacher and student\n",
    "metrics_teacher = evaluate(teacher, testloader)\n",
    "metrics_student = evaluate(student, testloader)\n",
    "print('Teacher Metrics:', metrics_teacher)\n",
    "print('Student Metrics:', metrics_student)"
   ]
  },
  {
   "cell_type": "code",
   "execution_count": 15,
   "id": "d063bfcd-158a-4e8d-8d6e-55f725a57bec",
   "metadata": {},
   "outputs": [],
   "source": [
    "# Save the model weights\n",
    "torch.save(student.state_dict(), 'student.pth')\n",
    "torch.save(teacher.state_dict(), 'teacher.pth')"
   ]
  },
  {
   "cell_type": "code",
   "execution_count": null,
   "id": "9050b11a-3ed6-4322-9b0e-a5961dfd3ee5",
   "metadata": {},
   "outputs": [],
   "source": []
  }
 ],
 "metadata": {
  "kernelspec": {
   "display_name": "Python 3 (ipykernel)",
   "language": "python",
   "name": "python3"
  },
  "language_info": {
   "codemirror_mode": {
    "name": "ipython",
    "version": 3
   },
   "file_extension": ".py",
   "mimetype": "text/x-python",
   "name": "python",
   "nbconvert_exporter": "python",
   "pygments_lexer": "ipython3",
   "version": "3.8.10"
  }
 },
 "nbformat": 4,
 "nbformat_minor": 5
}
