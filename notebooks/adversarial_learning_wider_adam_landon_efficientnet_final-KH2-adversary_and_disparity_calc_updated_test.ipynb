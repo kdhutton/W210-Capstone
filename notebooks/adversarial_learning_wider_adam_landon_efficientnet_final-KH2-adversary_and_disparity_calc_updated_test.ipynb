{
 "cells": [
  {
   "cell_type": "code",
   "execution_count": 1,
   "id": "50f79206-feac-4302-abb1-d699b6354a05",
   "metadata": {},
   "outputs": [],
   "source": [
    "import time\n",
    "import torch\n",
    "import json\n",
    "import random\n",
    "import math\n",
    "import warnings\n",
    "import torchvision\n",
    "import os\n",
    "import torchvision.transforms as transforms\n",
    "import torch.nn as nn\n",
    "import torch.nn.functional as F\n",
    "import torch.optim as optim\n",
    "import matplotlib.pyplot as plt\n",
    "import seaborn as sns\n",
    "import numpy as np\n",
    "import pandas as pd\n",
    "\n",
    "from pathlib import Path\n",
    "from tqdm import tqdm\n",
    "from PIL import Image\n",
    "from sklearn import metrics\n",
    "from sklearn.preprocessing import StandardScaler\n",
    "from sklearn.metrics import pairwise_distances_argmin_min, accuracy_score, precision_score, recall_score, f1_score, confusion_matrix, classification_report, precision_recall_fscore_support\n",
    "from sklearn.model_selection import train_test_split, StratifiedKFold\n",
    "from torch.utils.data import Subset, Dataset, DataLoader\n",
    "from torchvision.models import EfficientNet\n",
    "\n",
    "from torchvision.datasets import ImageFolder\n",
    "from utils.loss_functions import tkd_kdloss\n",
    "# from models_package.models import Teacher, Student\n",
    "\n",
    "# Suppress all warnings\n",
    "warnings.filterwarnings(\"ignore\")"
   ]
  },
  {
   "cell_type": "code",
   "execution_count": 2,
   "id": "55b8b44c-02d4-41a9-b260-c921a5d99c24",
   "metadata": {},
   "outputs": [],
   "source": [
    "def get_next_available_dir(root_dir):\n",
    "    \"\"\"\n",
    "    If a directory at 'root_dir' exists, append a number to create a new path.\n",
    "    For example, if 'RUN' exists, this returns 'RUN_01', and so on.\n",
    "    \"\"\"\n",
    "    if not os.path.exists(root_dir):\n",
    "        return root_dir\n",
    "\n",
    "    i = 1\n",
    "    new_dir = f\"{root_dir}_{str(i).zfill(2)}\"\n",
    "\n",
    "    while os.path.exists(new_dir):\n",
    "        i += 1\n",
    "        new_dir = f\"{root_dir}_{str(i).zfill(2)}\"\n",
    "\n",
    "    return new_dir"
   ]
  },
  {
   "cell_type": "code",
   "execution_count": 3,
   "id": "dc3c0ec8-98dc-4933-b9a3-e96fce39c6b5",
   "metadata": {},
   "outputs": [],
   "source": [
    "# Hyperparameters\n",
    "learning_rate = 0.001 # 0.096779\n",
    "epochs = 300\n",
    "epochs_pretrain = 3\n",
    "epochs_optimal_lr = 5\n",
    "patience_teacher = 20\n",
    "patience_student = 7\n",
    "temperature = 4.0\n",
    "alpha = 0.9\n",
    "momentum = 0.9\n",
    "step_size = 30\n",
    "gamma = 0.1\n",
    "batch_size = 64\n",
    "num_workers = 4\n",
    "\n",
    "# set to true to use stratified sampling\n",
    "stratified_sampling_flag = False\n",
    "\n",
    "# list of lambda values to loop through for grid search\n",
    "lmda_list_teacher = [0,4,8]\n",
    "lmda_list_student = [0,4,8]\n",
    "\n",
    "# labels used including for plotting\n",
    "class_labels = [0, 1, 3, 4, 6, 7, 11, 15, 17, 18, 19, 20, 22, 25, 27, 28, 30, 31, 33, 35, 36, 37, 39, 43, 44, 50, 51, 54, 57, 58]\n",
    "class_labels_new = torch.tensor([i for i in range(len(class_labels))])\n",
    "num_classes = 16\n",
    "class_names_new = [f\"Class {label}\" for label in range(num_classes)]\n",
    "\n",
    "# SPECIFY OUT DIR NAME\n",
    "# Create directory and file path to save all outputs\n",
    "directory_name = 'No_Attenuation'\n",
    "output_dir = get_next_available_dir(directory_name)\n",
    "os.makedirs(output_dir, exist_ok=True)"
   ]
  },
  {
   "cell_type": "code",
   "execution_count": 4,
   "id": "a2770eac-10b7-47de-ba06-9aa63cd7ab86",
   "metadata": {},
   "outputs": [
    {
     "name": "stdout",
     "output_type": "stream",
     "text": [
      "CUDA Available: True\n",
      "Number of GPUs: 1\n"
     ]
    }
   ],
   "source": [
    "# set device to cuda if available\n",
    "device = torch.device('cuda' if torch.cuda.is_available() else 'cpu')\n",
    "\n",
    "# Check if CUDA is available\n",
    "cuda_available = torch.cuda.is_available()\n",
    "\n",
    "# Count the number of GPUs available\n",
    "num_gpus = torch.cuda.device_count()\n",
    "\n",
    "print(\"CUDA Available:\", cuda_available)\n",
    "print(\"Number of GPUs:\", num_gpus)\n",
    "\n",
    "torch.cuda.empty_cache()"
   ]
  },
  {
   "cell_type": "code",
   "execution_count": 5,
   "id": "46265942-58a1-4c1a-a7ea-82d919a7e799",
   "metadata": {},
   "outputs": [],
   "source": [
    "# Assuming your JSON file is named 'your_file.json'\n",
    "file_path = './WIDER/Annotations/wider_attribute_trainval.json'\n",
    "\n",
    "with open(file_path, 'r') as file:\n",
    "    # Load the JSON data from the file\n",
    "    data = json.load(file)\n",
    "\n",
    "class_idx = data['scene_id_map']"
   ]
  },
  {
   "cell_type": "code",
   "execution_count": 6,
   "id": "312fa312-b347-4434-862b-d25e32a79108",
   "metadata": {},
   "outputs": [],
   "source": [
    "new_label_mapping = {\n",
    "    0: \"Team_Sports\",\n",
    "    1: \"Celebration\",\n",
    "    2: \"Parade\",\n",
    "    3: \"Waiter_Or_Waitress\",\n",
    "    4: \"Individual_Sports\",\n",
    "    5: \"Surgeons\",\n",
    "    6: \"Spa\",\n",
    "    7: \"Law_Enforcement\",\n",
    "    8: \"Business\",\n",
    "    9: \"Dresses\",\n",
    "    10: \"Water_Activities\",\n",
    "    11: \"Picnic\",\n",
    "    12: \"Rescue\",\n",
    "    13: \"Cheering\",\n",
    "    14: \"Performance_And_Entertainment\",\n",
    "    15: \"Family\"\n",
    "}\n",
    "\n",
    "# Ensure that all 16 new classes are covered\n",
    "# If some classes are not explicitly mentioned in new_label_mapping, add them\n",
    "for i in range(num_classes):\n",
    "    if i not in new_label_mapping:\n",
    "        new_label_mapping[i] = \"Additional Category {}\".format(i)\n",
    "\n",
    "class_idx = new_label_mapping"
   ]
  },
  {
   "cell_type": "code",
   "execution_count": 7,
   "id": "8c922f94-bf69-40d5-bc88-1e6fab4b4ed7",
   "metadata": {},
   "outputs": [],
   "source": [
    "class StratifiedBatchSampler:\n",
    "    \"\"\"Stratified batch sampling\n",
    "    Provides equal representation of target classes in each batch\n",
    "    \"\"\"\n",
    "    def __init__(self, y, batch_size, shuffle=True):\n",
    "        if torch.is_tensor(y):\n",
    "            y = y.numpy()\n",
    "        assert len(y.shape) == 1, 'label array must be 1D'\n",
    "        n_batches = int(len(y) / batch_size)\n",
    "        self.skf = StratifiedKFold(n_splits=n_batches, shuffle=shuffle)\n",
    "        self.X = torch.randn(len(y),1).numpy()\n",
    "        self.y = y\n",
    "        self.shuffle = shuffle\n",
    "        self.batch_size = batch_size\n",
    "\n",
    "    def __iter__(self):\n",
    "        if self.shuffle:\n",
    "            self.skf.random_state = torch.randint(0,int(1e8),size=()).item()\n",
    "        for train_idx, test_idx in self.skf.split(self.X, self.y):\n",
    "            yield test_idx\n",
    "\n",
    "    def __len__(self):\n",
    "        return len(self.y)//self.batch_size"
   ]
  },
  {
   "cell_type": "code",
   "execution_count": 8,
   "id": "e1c84514-66c9-4543-8448-cafa751730ff",
   "metadata": {},
   "outputs": [],
   "source": [
    "class DataSet(Dataset):\n",
    "    def __init__(self, ann_files, augs, img_size, dataset):\n",
    "\n",
    "        # Create a mapping from old labels to new labels\n",
    "        self.label_mapping = {old_label: new_label for new_label, old_label in enumerate(sorted(class_labels))}\n",
    "\n",
    "        self.new_label_mapping = {\n",
    "            0: 2,  # Parade\n",
    "            1: 8,  # Business\n",
    "            2: 7,  # Law Enforcement\n",
    "            3: 14,  # Performance and Entertainment\n",
    "            4: 1,  # Celebration\n",
    "            5: 13,  # Cheering\n",
    "            6: 8,  # Business\n",
    "            7: 8,  # Business\n",
    "            8: 1,  # Celebration\n",
    "            9: 14,  # Performance and Entertainment\n",
    "            10: 15, # Family\n",
    "            11: 15, # Family\n",
    "            12: 11, # Picnic\n",
    "            13: 7, # Law Enforcement\n",
    "            14: 6, # Spa\n",
    "            15: 13, # Cheering\n",
    "            16: 5, # Surgeons\n",
    "            17: 3, # Waiter or Waitress\n",
    "            18: 4, # Individual Sports\n",
    "            19: 0, # Team Sports\n",
    "            20: 0, # Team Sports\n",
    "            21: 0, # Team Sports\n",
    "            22: 4, # Individual Sports\n",
    "            23: 10, # Water Activities\n",
    "            24: 4, # Individual Sports\n",
    "            25: 1, # Celebration\n",
    "            26: 9, # Dresses\n",
    "            27: 12, # Rescue\n",
    "            28: 10,# Water Activities\n",
    "            29: 0  # Team Sports\n",
    "        }\n",
    "\n",
    "        \n",
    "        self.dataset = dataset\n",
    "        self.ann_files = ann_files\n",
    "        self.augment = self.augs_function(augs, img_size)\n",
    "        # Initialize transformations directly\n",
    "        self.transform = transforms.Compose(\n",
    "            [\n",
    "                transforms.ToTensor(),\n",
    "                transforms.Normalize(mean=[0, 0, 0], std=[1, 1, 1])\n",
    "            ] \n",
    "        )\n",
    "        if self.dataset == \"wider\":\n",
    "            self.transform = transforms.Compose(\n",
    "                [\n",
    "                    transforms.ToTensor(),\n",
    "                    transforms.Normalize(mean=[0.485, 0.456, 0.406], std=[0.229, 0.224, 0.225])                ] \n",
    "            )        \n",
    "\n",
    "        self.anns = []\n",
    "        self.load_anns()\n",
    "        print(self.augment)\n",
    "\n",
    "    def augs_function(self, augs, img_size):            \n",
    "        t = []\n",
    "        if 'randomflip' in augs:\n",
    "            t.append(transforms.RandomHorizontalFlip())\n",
    "        if 'ColorJitter' in augs:\n",
    "            t.append(transforms.ColorJitter(brightness=0.5, contrast=0.5, saturation=0.5, hue=0))\n",
    "        if 'resizedcrop' in augs:\n",
    "            t.append(transforms.RandomResizedCrop(img_size, scale=(0.7, 1.0)))\n",
    "        if 'RandAugment' in augs:\n",
    "            t.append(transforms.RandAugment())\n",
    "\n",
    "        t.append(transforms.Resize((img_size, img_size)))\n",
    "\n",
    "        return transforms.Compose(t)\n",
    "    \n",
    "    def load_anns(self):\n",
    "        self.anns = []\n",
    "        for ann_file in self.ann_files:\n",
    "            json_data = json.load(open(ann_file, \"r\"))\n",
    "            self.anns += json_data\n",
    "\n",
    "    def __len__(self):\n",
    "        return len(self.anns)\n",
    "\n",
    "    def __getitem__(self, idx):\n",
    "        # Make sure the index is within bounds\n",
    "        idx = idx % len(self)\n",
    "        ann = self.anns[idx]\n",
    "        \n",
    "        try:\n",
    "            # Attempt to open the image file\n",
    "            img = Image.open(f'WIDER/Image/{ann[\"file_name\"]}').convert(\"RGB\")\n",
    "\n",
    "            # If this is the wider dataset, proceed with specific processing\n",
    "            # x, y, w, h = ann['bbox']\n",
    "            # img_area = img.crop([x, y, x+w, y+h])\n",
    "            img_area = self.augment(img)\n",
    "            img_area = self.transform(img_area)\n",
    "            attributes_list = [target['attribute'] for target in ann['targets']]\n",
    "            num_people = len(attributes_list)\n",
    "            attributes_distribution = [max(sum(attribute), 0)/num_people for attribute in zip(*attributes_list)]\n",
    "            # Extract label from image path\n",
    "            img_path = f'WIDER/Image/{ann[\"file_name\"]}'\n",
    "            label = self.extract_label(img_path)  # You might need to implement this method\n",
    "            \n",
    "            return {\n",
    "                \"label\": label,\n",
    "                \"target\": torch.tensor([attributes_distribution[0]], dtype=torch.float32),\n",
    "                \"img\": img_area\n",
    "            }\n",
    "            \n",
    "        except Exception as e:\n",
    "            # If any error occurs during the processing of an image, log the error and the index\n",
    "            print(f\"Error processing image at index {idx}: {e}\")\n",
    "            # Instead of returning None, raise the exception\n",
    "            raise\n",
    "\n",
    "    def extract_label(self, img_path):\n",
    "        original_label = None\n",
    "    \n",
    "        if \"WIDER/Image/train\" in img_path:\n",
    "            label_str = img_path.split(\"WIDER/Image/train/\")[1].split(\"/\")[0]\n",
    "            original_label = int(label_str.split(\"--\")[0])\n",
    "        elif \"WIDER/Image/test\" in img_path:\n",
    "            label_str = img_path.split(\"WIDER/Image/test/\")[1].split(\"/\")[0]\n",
    "            original_label = int(label_str.split(\"--\")[0])\n",
    "        elif \"WIDER/Image/val\" in img_path:  # Handle validation images\n",
    "            label_str = img_path.split(\"WIDER/Image/val/\")[1].split(\"/\")[0]\n",
    "            original_label = int(label_str.split(\"--\")[0])\n",
    "    \n",
    "        if original_label is not None:\n",
    "            remapped_label = self.label_mapping[original_label]\n",
    "            new_label_mapping = self.new_label_mapping[remapped_label]\n",
    "            return new_label_mapping\n",
    "        else:\n",
    "            raise ValueError(f\"Label could not be extracted from path: {img_path}\")\n"
   ]
  },
  {
   "cell_type": "code",
   "execution_count": 9,
   "id": "ea2490c2-046a-4a19-9717-642adbabb732",
   "metadata": {},
   "outputs": [],
   "source": [
    "train_file = ['data/wider/trainval_wider.json']\n",
    "test_file = ['data/wider/test_wider.json']\n"
   ]
  },
  {
   "cell_type": "code",
   "execution_count": 10,
   "id": "012d6bd8-61d5-4a20-845b-689234718508",
   "metadata": {},
   "outputs": [],
   "source": [
    "def custom_collate(batch):\n",
    "    # Filter out any None items in the batch\n",
    "    batch = [item for item in batch if item is not None]\n",
    "    # If after filtering the batch is empty, handle this case by either returning an empty tensor or raising an exception\n",
    "    if len(batch) == 0:\n",
    "        raise ValueError(\"Batch is empty after filtering out None items.\")\n",
    "    return torch.utils.data.dataloader.default_collate(batch)\n"
   ]
  },
  {
   "cell_type": "code",
   "execution_count": 11,
   "id": "8fe2adb5-687d-4055-a108-a9c041836b64",
   "metadata": {},
   "outputs": [
    {
     "name": "stdout",
     "output_type": "stream",
     "text": [
      "Compose(\n",
      "    Resize(size=(226, 226), interpolation=bilinear, max_size=None, antialias=warn)\n",
      ")\n",
      "Compose(\n",
      "    Resize(size=(226, 226), interpolation=bilinear, max_size=None, antialias=warn)\n",
      ")\n"
     ]
    }
   ],
   "source": [
    "# train_dataset = DataSet(train_file, augs = ['RandAugment'], img_size = 226, dataset = 'wider')\n",
    "train_dataset = DataSet(train_file, augs = [], img_size = 226, dataset = 'wider')\n",
    "test_dataset = DataSet(test_file, augs = [], img_size = 226, dataset = 'wider')\n",
    "\n",
    "if stratified_sampling_flag:\n",
    "    trainloader = DataLoader(train_dataset, \n",
    "                             batch_sampler=StratifiedBatchSampler(torch.tensor([train_dataset[i]['label'] for i in range(len(train_dataset))]), \n",
    "                             batch_size=batch_size), num_workers=num_workers, collate_fn=custom_collate)\n",
    "    testloader = DataLoader(test_dataset, batch_sampler=StratifiedBatchSampler(torch.tensor([test_dataset[i]['label'] for i in range(len(test_dataset))]), \n",
    "                             batch_size=batch_size), num_workers=num_workers, collate_fn=custom_collate)\n",
    "else:\n",
    "    trainloader = DataLoader(train_dataset, batch_size=batch_size, shuffle=True, \n",
    "                             num_workers=num_workers, collate_fn=custom_collate)\n",
    "    testloader = DataLoader(test_dataset, batch_size=batch_size, shuffle=False, num_workers=num_workers, collate_fn=custom_collate)"
   ]
  },
  {
   "cell_type": "code",
   "execution_count": 12,
   "id": "cff90b9a-9e51-4fb9-a343-da49cdc713da",
   "metadata": {},
   "outputs": [
    {
     "data": {
      "text/plain": [
       "10324"
      ]
     },
     "execution_count": 12,
     "metadata": {},
     "output_type": "execute_result"
    }
   ],
   "source": [
    "len(train_dataset)"
   ]
  },
  {
   "cell_type": "code",
   "execution_count": 13,
   "id": "9f155c74-dfca-45a3-baa6-42a26437d47d",
   "metadata": {},
   "outputs": [],
   "source": [
    "# def print_batch_class_counts(data_loader, label_mapping, num_batches=5):\n",
    "#     for i, batch in enumerate(data_loader):\n",
    "#         if i >= num_batches:\n",
    "#             break\n",
    "\n",
    "#         # Extract labels from the batch\n",
    "#         labels = batch['label']\n",
    "\n",
    "#         # Count occurrences of each class\n",
    "#         class_counts = torch.bincount(labels)\n",
    "\n",
    "#         # Map class counts to class names\n",
    "#         class_counts_with_names = {label_mapping.get(j, f\"Unknown Class {j}\"): class_counts[j].item() for j in range(len(class_counts))}\n",
    "\n",
    "#         # Print class counts and total observations\n",
    "#         print(f\"Batch {i + 1}:\")\n",
    "#         for class_name, count in class_counts_with_names.items():\n",
    "#             print(f\"    {class_name}: {count}\")\n",
    "#         print(f\"Total Observations: {len(labels)}\\n\")\n",
    "\n",
    "# print_batch_class_counts(trainloader, new_label_mapping)\n"
   ]
  },
  {
   "cell_type": "markdown",
   "id": "a6d18d4b-a3c0-4c5b-ad75-e74b6b1b7296",
   "metadata": {},
   "source": [
    "# Start Training Process"
   ]
  },
  {
   "cell_type": "code",
   "execution_count": 14,
   "id": "1c37c867-c1d1-438c-ac22-755904ce121e",
   "metadata": {},
   "outputs": [],
   "source": [
    "def one_hot_encode(labels, num_classes):\n",
    "    return np.eye(num_classes)[labels]\n",
    "\n",
    "def calculate_recall_multiclass(conf_matrix):\n",
    "    recalls = np.diag(conf_matrix) / np.sum(conf_matrix, axis=1)\n",
    "    recalls[np.isnan(recalls)] = 0  # Replace NaN with 0\n",
    "    return recalls\n",
    "\n",
    "def evaluate_model_with_gender_multiclass(pred, label, gender, num_classes):\n",
    "    predictions = pred.cpu()\n",
    "    true_labels = label.cpu()\n",
    "    gender = gender.cpu()\n",
    "\n",
    "    # Identify male and female indices based on the gender threshold\n",
    "    male_indices = np.where(gender >= 0.5)[0]\n",
    "    female_indices = np.where(gender < 0.5)[0]\n",
    "\n",
    "    # Convert labels to one-hot encoding\n",
    "    one_hot_labels = one_hot_encode(true_labels, num_classes=num_classes)\n",
    "    one_hot_preds = one_hot_encode(predictions, num_classes=num_classes)\n",
    "    # Initialize recall arrays\n",
    "    male_recall = np.zeros(num_classes)\n",
    "    female_recall = np.zeros(num_classes)\n",
    "\n",
    "    # Extract predictions and labels for male and female indices\n",
    "    male_predictions = np.argmax(one_hot_preds[male_indices], axis=1)\n",
    "    female_predictions = np.argmax(one_hot_preds[female_indices], axis=1)\n",
    "    male_labels = np.argmax(one_hot_labels[male_indices], axis=1)\n",
    "    female_labels = np.argmax(one_hot_labels[female_indices], axis=1)\n",
    "\n",
    "    # Check if the class labels are within the expected range\n",
    "    assert (0 <= male_predictions.min() < num_classes) and (0 <= male_predictions.max() < num_classes), \"Invalid class indices in male predictions\"\n",
    "    assert (0 <= female_predictions.min() < num_classes) and (0 <= female_predictions.max() < num_classes), \"Invalid class indices in female predictions\"\n",
    "    assert (0 <= male_labels.min() < num_classes) and (0 <= male_labels.max() < num_classes), \"Invalid class indices in male labels\"\n",
    "    assert (0 <= female_labels.min() < num_classes) and (0 <= female_labels.max() < num_classes), \"Invalid class indices in female labels\"\n",
    "\n",
    "    # Calculate confusion matrices for each gender\n",
    "    male_conf_matrix = confusion_matrix(male_labels, male_predictions, labels=np.arange(num_classes))\n",
    "    female_conf_matrix = confusion_matrix(female_labels, female_predictions, labels=np.arange(num_classes))\n",
    "\n",
    "    # Calculate recall for each class and gender\n",
    "    male_recall[:len(male_conf_matrix)] = calculate_recall_multiclass(male_conf_matrix)\n",
    "    female_recall[:len(female_conf_matrix)] = calculate_recall_multiclass(female_conf_matrix)\n",
    "\n",
    "    return male_recall - female_recall, male_conf_matrix, female_conf_matrix\n"
   ]
  },
  {
   "cell_type": "code",
   "execution_count": 15,
   "id": "1c6b93cb-37c9-448f-a8d9-424d3c4d40fb",
   "metadata": {},
   "outputs": [],
   "source": [
    "# Instantiate the models\n",
    "###################### Testing 1 ######################\n",
    "# Create instances of your models\n",
    "teacher_model = torchvision.models.efficientnet_b3(weights='DEFAULT')\n",
    "teacher_model.classifier = nn.Linear(1536, num_classes)\n",
    "student_model = torchvision.models.efficientnet_b0(weights='DEFAULT')\n",
    "student_model.classifier = nn.Linear(1280, num_classes)\n"
   ]
  },
  {
   "cell_type": "markdown",
   "id": "ffdcd643-ac9d-4e22-821a-4c784c86e4a5",
   "metadata": {},
   "source": [
    "This is the initialization of the 2-layer Adversary Perceptron. It is initialized with the number of classes*2, which represents the predicted labels (y_hat) and the true labels (y). The output of the final layer is a regression output, which is intended to predict the strength of gender (continuous number where anything past 0.5 is more male).\n"
   ]
  },
  {
   "cell_type": "code",
   "execution_count": 16,
   "id": "836f2993-0505-47c6-85ee-2ad2f45db946",
   "metadata": {},
   "outputs": [],
   "source": [
    "class Adversary(nn.Module):\n",
    "    def __init__(self, input_size=num_classes):\n",
    "        super(Adversary, self).__init__()\n",
    "\n",
    "        self.a1 = nn.Linear(input_size*2, 16)\n",
    "        self.a2 = nn.Linear(16, 1)  # Output size 1 for regression\n",
    "        nn.init.xavier_normal_(self.a1.weight)\n",
    "        nn.init.kaiming_normal_(self.a2.weight, mode='fan_out', nonlinearity='relu')\n",
    "\n",
    "    def forward(self, input_ids):\n",
    "        adversary = F.relu(self.a1(input_ids))\n",
    "        adversary_output = F.sigmoid(self.a2(adversary))  # Linear activation for regression\n",
    "        return adversary_output\n",
    "\n",
    "# Instantiate the Adversary\n",
    "adv = Adversary()"
   ]
  },
  {
   "cell_type": "code",
   "execution_count": 17,
   "id": "a761874d-cc14-482e-9c8c-6342adea3cae",
   "metadata": {},
   "outputs": [],
   "source": [
    "def pretrain_student(student, teacher, trainloader, criterion, optimizer, device, alpha, temperature, epochs_pretrain, patience=patience_student):\n",
    "    teacher.eval()\n",
    "    teacher.to(device)\n",
    "    best_val_loss = float('inf')  \n",
    "    patience_counter = 0 \n",
    "    student_epoch_losses = []\n",
    "    val_losses = []\n",
    "    \n",
    "    for epoch in range(epochs_pretrain):\n",
    "        student.train()\n",
    "        student.to(device)\n",
    "        running_loss = 0.0 \n",
    "        epoch_loss = 0.0  \n",
    "        num_batches = 0  \n",
    "        \n",
    "        for index, data in enumerate(tqdm(trainloader)):\n",
    "\n",
    "            inputs = data['img'].to(device)\n",
    "            labels = data['label'].to(device)\n",
    "            optimizer.zero_grad()\n",
    "            student_outputs = student(inputs)\n",
    "\n",
    "            with torch.no_grad():\n",
    "                teacher_outputs = teacher(inputs)\n",
    "\n",
    "            ce_loss = criterion(student_outputs, labels)\n",
    "            kd_loss = tkd_kdloss(student_outputs, teacher_outputs, temperature=temperature)  # Make sure this returns a scalar\n",
    "            \n",
    "            # If not scalar, sum up to make sure the loss is scalar\n",
    "            if kd_loss.ndim != 0:\n",
    "                kd_loss = kd_loss.sum()\n",
    "                \n",
    "            # Now combine the losses\n",
    "            loss = alpha * kd_loss + (1 - alpha) * ce_loss\n",
    "            loss.backward()\n",
    "            optimizer.step()\n",
    "            running_loss += loss.item()\n",
    "            epoch_loss += loss.item()\n",
    "            num_batches += 1\n",
    "        \n",
    "        epoch_loss /= num_batches\n",
    "        print(f'*******Epoch {epoch}: loss - {epoch_loss}')\n",
    "        student_epoch_losses.append(epoch_loss)\n"
   ]
  },
  {
   "cell_type": "code",
   "execution_count": 18,
   "id": "16f4630d-f0d5-4d83-b61f-8707df8800a6",
   "metadata": {},
   "outputs": [],
   "source": [
    "def pretrain_teacher(teacher, trainloader, criterion, optimizer, device, epochs_pretrain, patience=patience_student):\n",
    "    teacher.to(device)\n",
    "    teacher.train()  # Set the model to training mode\n",
    "    best_val_loss = float('inf')  \n",
    "    patience_counter = 0 \n",
    "    teacher_epoch_losses = []\n",
    "    val_losses = []\n",
    "    \n",
    "    for epoch in range(epochs_pretrain):\n",
    "        running_loss = 0.0 \n",
    "        epoch_loss = 0.0  \n",
    "        num_batches = 0  \n",
    "        \n",
    "        for index, data in enumerate(tqdm(trainloader)):\n",
    "            inputs = data['img'].to(device)\n",
    "            labels = data['label'].to(device)\n",
    "            optimizer.zero_grad()\n",
    "            teacher_outputs = teacher(inputs)\n",
    "\n",
    "            ce_loss = criterion(teacher_outputs, labels)\n",
    "                \n",
    "            loss = ce_loss\n",
    "            loss.backward()\n",
    "            optimizer.step()\n",
    "            running_loss += loss.item()\n",
    "            epoch_loss += loss.item()\n",
    "            num_batches += 1\n",
    "        \n",
    "        epoch_loss /= num_batches\n",
    "        print(f'*******Epoch {epoch}: loss - {epoch_loss}')\n",
    "        teacher_epoch_losses.append(epoch_loss)\n"
   ]
  },
  {
   "cell_type": "code",
   "execution_count": 19,
   "id": "005d66e3-f169-4d59-bc29-b5c0e05816b0",
   "metadata": {},
   "outputs": [],
   "source": [
    "def pretrain_adversary(adv, student, adversary_optimizer, trainloader, adv_criterion, device, epochs_pretrain):\n",
    "\n",
    "  for epoch in range(epochs_pretrain):\n",
    "    epoch_loss = 0\n",
    "    epoch_batches = 0\n",
    "    for i, data in enumerate(tqdm(trainloader)): # starting from the 0th batch\n",
    "        # get the inputs and labels\n",
    "        adv.train()\n",
    "        adv.to(device)\n",
    "        inputs = data['img'].to(device)\n",
    "        labels = data['label'].to(device)\n",
    "        targets = data['target'].to(device)\n",
    "        student = student.to(device)\n",
    "        adversary_optimizer.zero_grad()\n",
    "        student_output = student(inputs)\n",
    "        one_hot_labels = F.one_hot(labels, num_classes=num_classes).to(torch.float32)\n",
    "        concatenated_output = torch.cat((student_output, one_hot_labels), dim=1)\n",
    "        adversary_output = adv(concatenated_output)\n",
    "        adversary_loss = adv_criterion(adversary_output, targets) # compute loss\n",
    "        adversary_loss.backward() # back prop\n",
    "        adversary_optimizer.step()\n",
    "        epoch_loss += adversary_loss.item()\n",
    "        epoch_batches += 1\n",
    "\n",
    "    print(\"Average Pretrain Adversary epoch loss: \", epoch_loss/epoch_batches)\n"
   ]
  },
  {
   "cell_type": "code",
   "execution_count": 20,
   "id": "c7b4731c-f105-4192-9650-6587c46f6e8c",
   "metadata": {},
   "outputs": [],
   "source": [
    "# Optimizer and scheduler for the student model\n",
    "student_optimizer = optim.Adam(student_model.parameters(), lr=learning_rate)\n",
    "\n",
    "# Optimizer and scheduler for the teacher model\n",
    "teacher_optimizer = optim.SGD(teacher_model.parameters(), lr=learning_rate, momentum=momentum)\n",
    "teacher_scheduler = torch.optim.lr_scheduler.StepLR(teacher_optimizer, step_size=step_size, gamma=gamma)\n",
    "\n",
    "optimizer_adv = optim.Adam(adv.parameters(), lr=learning_rate)\n",
    "\n",
    "# Instantiate the model and the loss function\n",
    "criterion_clf = nn.CrossEntropyLoss()\n",
    "adv_criterion = nn.MSELoss()\n"
   ]
  },
  {
   "cell_type": "code",
   "execution_count": 21,
   "id": "b3b7719f-4d65-4601-8e1d-1015de2201cb",
   "metadata": {},
   "outputs": [],
   "source": [
    "# #### finding the optimal learning rate\n",
    "# def train_teacher_optimal_lr(model, trainloader, criterion, optimizer, scheduler, device, epochs_optimal_lr=5, lr_range=(1e-4, 1e-1), plot_loss=True):\n",
    "#     model.train()\n",
    "#     model.to(device)\n",
    "#     lr_values = np.logspace(np.log10(lr_range[0]), np.log10(lr_range[1]), epochs_optimal_lr * len(trainloader))  # Generate learning rates for each batch\n",
    "#     lr_iter = iter(lr_values)\n",
    "#     losses = []\n",
    "#     lrs = []\n",
    "    \n",
    "#     for epoch in range(epochs_optimal_lr):\n",
    "#         for i, batch in enumerate(tqdm(trainloader)):\n",
    "#             lr = next(lr_iter)\n",
    "#             for param_group in optimizer.param_groups:\n",
    "#                 param_group['lr'] = lr  # Set new learning rate\n",
    "            \n",
    "#             inputs, labels = batch['img'].to(device), batch['label'].to(device)\n",
    "#             optimizer.zero_grad()\n",
    "#             outputs = model(inputs)\n",
    "#             loss = criterion(outputs, labels)\n",
    "#             loss.backward()\n",
    "#             optimizer.step()\n",
    "            \n",
    "#             losses.append(loss.item())\n",
    "#             lrs.append(lr)\n",
    "    \n",
    "#     # Calculate the derivative of the loss\n",
    "#     loss_derivative = np.gradient(losses)\n",
    "    \n",
    "#     # Find the learning rate corresponding to the minimum derivative (steepest decline)\n",
    "#     best_lr_index = np.argmin(loss_derivative)\n",
    "#     best_lr = lrs[best_lr_index]\n",
    "    \n",
    "#     if plot_loss:\n",
    "#         import matplotlib.pyplot as plt\n",
    "#         plt.figure()\n",
    "#         plt.plot(lrs, losses)\n",
    "#         plt.xscale('log')\n",
    "#         plt.xlabel('Learning Rate')\n",
    "#         plt.ylabel('Loss')\n",
    "#         plt.title('Learning Rate Range Test - Teacher')\n",
    "#         plt.axvline(x=best_lr, color='red', linestyle='--', label=f'Best LR: {best_lr}')\n",
    "#         plt.legend()\n",
    "#         plt.show()\n",
    "    \n",
    "#     print(f'Best Learning Rate Teacher: {best_lr}')\n",
    "#     return best_lr\n",
    "\n",
    "# ############# input ############## \n",
    "# best_lr_teacher = train_teacher_optimal_lr(teacher_model, trainloader, criterion_clf, teacher_optimizer, teacher_scheduler, device, epochs_optimal_lr)  \n",
    "# print(best_lr_teacher)\n"
   ]
  },
  {
   "cell_type": "code",
   "execution_count": 22,
   "id": "3fc2fd75-c5a3-415d-8da7-32816addb845",
   "metadata": {},
   "outputs": [],
   "source": [
    "# #### finding the optimal learning rate\n",
    "# def train_student_optimal_lr(model, trainloader, criterion, optimizer, device, epochs_optimal_lr=5, lr_range=(1e-4, 1e-1), plot_loss=True):\n",
    "#     model.train()\n",
    "#     model.to(device)\n",
    "#     lr_values = np.logspace(np.log10(lr_range[0]), np.log10(lr_range[1]), epochs_optimal_lr * len(trainloader))  # Generate learning rates for each batch\n",
    "#     lr_iter = iter(lr_values)\n",
    "#     losses = []\n",
    "#     lrs = []\n",
    "    \n",
    "#     for epoch in range(epochs_optimal_lr):\n",
    "#         for i, batch in enumerate(tqdm(trainloader)):\n",
    "#             lr = next(lr_iter)\n",
    "#             for param_group in optimizer.param_groups:\n",
    "#                 param_group['lr'] = lr  # Set new learning rate\n",
    "            \n",
    "#             inputs, labels = batch['img'].to(device), batch['label'].to(device)\n",
    "#             optimizer.zero_grad()\n",
    "#             outputs = model(inputs)\n",
    "#             loss = criterion(outputs, labels)\n",
    "#             loss.backward()\n",
    "#             optimizer.step()\n",
    "            \n",
    "#             losses.append(loss.item())\n",
    "#             lrs.append(lr)\n",
    "    \n",
    "#     # Calculate the derivative of the loss\n",
    "#     loss_derivative = np.gradient(losses)\n",
    "    \n",
    "#     # Find the learning rate corresponding to the minimum derivative (steepest decline)\n",
    "#     best_lr_index = np.argmin(loss_derivative)\n",
    "#     best_lr = lrs[best_lr_index]\n",
    "    \n",
    "#     if plot_loss:\n",
    "#         import matplotlib.pyplot as plt\n",
    "#         plt.figure()\n",
    "#         plt.plot(lrs, losses)\n",
    "#         plt.xscale('log')\n",
    "#         plt.xlabel('Learning Rate')\n",
    "#         plt.ylabel('Loss')\n",
    "#         plt.title('Learning Rate Range Test - Student')\n",
    "#         plt.axvline(x=best_lr, color='red', linestyle='--', label=f'Best LR: {best_lr}')\n",
    "#         plt.legend()\n",
    "#         plt.show()\n",
    "    \n",
    "#     print(f'Best Learning Rate Student: {best_lr}')\n",
    "#     return best_lr\n",
    "\n",
    "# ############# input ############## \n",
    "# best_lr_student = train_student_optimal_lr(student_model, trainloader, criterion_clf, student_optimizer, device, epochs_optimal_lr)  \n",
    "# print(best_lr_student)"
   ]
  },
  {
   "cell_type": "code",
   "execution_count": 23,
   "id": "c2037b64-dba1-4c4b-a586-0a0ac3373d0f",
   "metadata": {},
   "outputs": [],
   "source": [
    "best_lr_student = learning_rate\n",
    "best_lr_teacher = learning_rate"
   ]
  },
  {
   "cell_type": "code",
   "execution_count": 24,
   "id": "411c4f7a-d0b4-478f-9fa5-5e152e08ed14",
   "metadata": {},
   "outputs": [],
   "source": [
    "def plot_loss_curve(losses):\n",
    "    epochs = range(1, len(losses) + 1)\n",
    "    plt.plot(epochs, losses)\n",
    "    plt.xlabel('Epoch')\n",
    "    plt.ylabel('Loss')\n",
    "    plt.title('Val Loss Curve')\n",
    "    plt.show()"
   ]
  },
  {
   "cell_type": "code",
   "execution_count": 25,
   "id": "b4c98aee-9c82-46f8-910b-4ca2ae4b9f3f",
   "metadata": {},
   "outputs": [],
   "source": [
    "# This is the adversary training function, where we input the student outputs, \n",
    "# with the true labels into the adversary model created previously.\n",
    "def train_adversary(adv, model, optimizer, trainloader, criterion, epochs):\n",
    "    best_val_loss = float('inf')\n",
    "    for epoch in range(epochs):\n",
    "        epoch_loss = 0\n",
    "        epoch_batches = 0\n",
    "        for i, data in enumerate(tqdm(trainloader)):\n",
    "            # get the inputs and labels\n",
    "            inputs = data['img'].to(device)\n",
    "            labels = data['label'].to(device)\n",
    "            targets = data['target'].to(device)\n",
    "            model.eval()\n",
    "            model.to(device)\n",
    "            adv.train()\n",
    "            adv.to(device)\n",
    "            optimizer.zero_grad()\n",
    "            # output the student model, join with ohe labels. \n",
    "            model_output = model(inputs)\n",
    "            one_hot_labels = F.one_hot(labels, num_classes=num_classes).to(torch.float32)\n",
    "            concatenated_output = torch.cat((model_output, one_hot_labels), dim=1)\n",
    "            adversary_output = adv(concatenated_output)\n",
    "\n",
    "            adversary_loss = criterion(adversary_output, targets)\n",
    "            adversary_loss.backward()\n",
    "            epoch_loss += adversary_loss.item()\n",
    "            epoch_batches += 1\n",
    "            optimizer.step()\n",
    "        epoch_loss/=epoch_batches\n",
    "        print(\"Average Adversary epoch loss:\", epoch_loss)"
   ]
  },
  {
   "cell_type": "code",
   "execution_count": 26,
   "id": "286386b2-d6e9-447e-95b5-b3dd8f18010b",
   "metadata": {},
   "outputs": [],
   "source": [
    "# Function to train the teacher model\n",
    "def train_teacher(model, adv, trainloader, criterion, adv_criterion, optimizer, optimizer_adv, device, \n",
    "                  epochs, lmda, patience=patience_teacher):\n",
    "\n",
    "    best_val_loss = float('inf')\n",
    "    patience_counter = 0\n",
    "    epoch_losses = [] \n",
    "    val_losses = []\n",
    "    val_disparities = []\n",
    "    val_accuracies = []\n",
    "    best_total_val_loss = float('inf')\n",
    "\n",
    "    for epoch in range(epochs):\n",
    "        model.train()\n",
    "        adv.train()\n",
    "        model.to(device)\n",
    "        adv.to(device)\n",
    "        running_loss = 0.0\n",
    "        epoch_loss = 0.0  \n",
    "        num_batches = 0  \n",
    "        \n",
    "        for index, data in enumerate(tqdm(trainloader)):\n",
    "            inputs = data['img'].to(device)\n",
    "            labels = data['label'].to(device)\n",
    "            targets = data['target'].to(device)\n",
    "        \n",
    "            # Forward pass for teacher model\n",
    "            optimizer.zero_grad()\n",
    "            outputs = model(inputs)\n",
    "            classification_loss = criterion(outputs, labels)\n",
    "        \n",
    "            # Forward pass for adversary model\n",
    "            optimizer_adv.zero_grad()\n",
    "            with torch.no_grad():\n",
    "                teacher_outputs_detached = outputs.detach()\n",
    "            one_hot_labels = F.one_hot(labels, num_classes=num_classes).to(torch.float32)\n",
    "            concatenated_output = torch.cat((teacher_outputs_detached, one_hot_labels), dim=1)\n",
    "            adversary_output = adv(concatenated_output)\n",
    "            adversary_loss = adv_criterion(adversary_output, targets)\n",
    "        \n",
    "            # Calculate the total loss by combining classification and adversary loss\n",
    "            if lmda != 0:\n",
    "                total_loss = classification_loss  - lmda * adversary_loss #+ classification_loss/adversary_loss \n",
    "            else:\n",
    "                total_loss = classification_loss\n",
    "                \n",
    "            total_loss.backward()\n",
    "        \n",
    "            optimizer.step()\n",
    "            optimizer_adv.step()\n",
    "        \n",
    "            running_loss += total_loss.item()\n",
    "            epoch_loss += total_loss.item()\n",
    "            num_batches += 1\n",
    "\n",
    "        epoch_loss /= num_batches  \n",
    "        epoch_losses.append(epoch_loss)\n",
    "\n",
    "        model.eval()\n",
    "        total_correct = 0\n",
    "        total_samples = 0\n",
    "        total_val_loss = 0.0\n",
    "        num_batches = 0\n",
    "        confusion_male = np.zeros((num_classes, num_classes))\n",
    "        confusion_female = np.zeros((num_classes, num_classes))\n",
    "\n",
    "        with torch.no_grad():\n",
    "            for val_data in tqdm(testloader):\n",
    "                val_inputs = val_data['img'].to(device)\n",
    "                val_labels = val_data['label'].to(device)\n",
    "                val_targets = val_data['target'].to(device)\n",
    "                \n",
    "                val_outputs = model(val_inputs)\n",
    "                with torch.no_grad():\n",
    "                    teacher_outputs_detached_val = val_outputs.detach()                \n",
    "                one_hot_labels_val = F.one_hot(val_labels, num_classes=num_classes).to(torch.float32)\n",
    "                concatenated_output_val = torch.cat((teacher_outputs_detached_val, one_hot_labels_val), dim=1)\n",
    "                adversary_output_val = adv(concatenated_output_val)\n",
    "                adversary_loss_val = adv_criterion(adversary_output_val, val_targets)\n",
    "\n",
    "                # Compute validation loss\n",
    "                val_ce_loss = criterion(val_outputs, val_labels)\n",
    "\n",
    "                if lmda !=0:\n",
    "                    val_loss = val_ce_loss - lmda * adversary_loss_val #+ val_ce_loss/adversary_loss_val \n",
    "                else:\n",
    "                    val_loss = val_ce_loss\n",
    "                    \n",
    "                total_val_loss += val_loss.item()\n",
    "\n",
    "                # Compute the validation accuracy\n",
    "                _, predicted = torch.max(val_outputs, 1)\n",
    "                total_samples += val_labels.size(0)\n",
    "                total_correct += (predicted == val_labels).sum().item()\n",
    "                num_batches += 1\n",
    "\n",
    "                # Compute recall differences for gender\n",
    "                recall_diff = evaluate_model_with_gender_multiclass(predicted, val_labels, val_targets, num_classes=num_classes)\n",
    "                confusion_male += recall_diff[1]\n",
    "                confusion_female += recall_diff[2]\n",
    "\n",
    "            total_val_loss /= num_batches\n",
    "            confusion_male /= num_batches\n",
    "            confusion_female /= num_batches\n",
    "            \n",
    "            epoch_disparity = calculate_recall_multiclass(confusion_male) - calculate_recall_multiclass(confusion_female)\n",
    "            val_losses.append(total_val_loss)\n",
    "            non_zero_abs_values = np.abs(epoch_disparity[epoch_disparity != 0])\n",
    "            mean_non_zero_abs_disparity = np.mean(non_zero_abs_values)\n",
    "            val_disparities.append(mean_non_zero_abs_disparity)\n",
    "            accuracy = total_correct / total_samples\n",
    "            val_accuracies.append(accuracy)\n",
    "            class_recall_mapping = {class_name: epoch_disparity[int(class_label)] for class_label, class_name in class_idx.items()}\n",
    "\n",
    "            print(f'*****Epoch {epoch + 1}/{epochs}*****\\n' \n",
    "            f'*****Train Loss: {epoch_loss: .6f} Val Loss: {total_val_loss: .6f}*****\\n'\n",
    "            f'*****Validation Accuracy: {accuracy * 100:.2f}%*****\\n'\n",
    "            f'*****Total Avg Disparity: {mean_non_zero_abs_disparity}*****\\n')\n",
    "            \n",
    "            # Print disparities by class label\n",
    "            for class_label, recall_diff in class_recall_mapping.items():\n",
    "                print(f\"Class {class_label}: Recall Difference = {recall_diff}\")\n",
    "\n",
    "        # Check for early stopping\n",
    "        if abs(total_val_loss) < abs(best_total_val_loss):\n",
    "            best_total_val_loss = total_val_loss\n",
    "            patience_counter = 0 \n",
    "            best_epoch_mean_abs_disparity = mean_non_zero_abs_disparity\n",
    "\n",
    "            # Save the teacher model and its state to the 'output_dir'\n",
    "            teacher_model_weights_path = os.path.join(output_dir, f'teacher_model_ckd_wider_lambda{i}.pth')\n",
    "            torch.save(teacher_model.state_dict(), teacher_model_weights_path)\n",
    "            \n",
    "            teacher_model_path = os.path.join(output_dir, f'teacher_model_ckd_wider_checkpoint{i}.pth')\n",
    "            torch.save(teacher_model, teacher_model_path)\n",
    "        else:\n",
    "            patience_counter += 1 \n",
    "\n",
    "        if patience_counter >= patience:\n",
    "            print('Early stopping')\n",
    "            break  \n",
    "\n",
    "        # Writing epoch data to file\n",
    "        file_path = os.path.join(output_dir, f'teacher_validation_{lmda}.txt')\n",
    "        with open(file_path, 'a') as file:\n",
    "            file.write(f'*****Epoch {epoch + 1}/{epochs}*****\\n')\n",
    "            file.write(f'*****Train Loss: {epoch_loss:.6f} Val Loss: {total_val_loss:.6f}*****\\n')\n",
    "            file.write(f'*****Validation Accuracy: {accuracy * 100:.2f}%*****\\n')\n",
    "            file.write(f'*****Total Avg Disparity: {mean_non_zero_abs_disparity}*****\\n')\n",
    "    \n",
    "            # Writing disparities by class label\n",
    "            for class_label, recall_diff in class_recall_mapping.items():\n",
    "                file.write(f\"Class {class_label}: Recall Difference = {recall_diff}\\n\")\n",
    "\n",
    "        print(f\"Data has been appended to {file_path}\")\n",
    "        \n",
    "    plot_loss_curve(val_losses)\n",
    "    print(f\"Finished Training Teacher for lambda val of {lmda}\")\n",
    "    return val_disparities\n",
    "\n",
    "# Function to train the student model with knowledge distillation\n",
    "def train_student_with_distillation_disparity(student, teacher, adv, trainloader, testloader, criterion, adv_criterion, optimizer, \n",
    "                                              device, alpha, temperature, epochs, lmda, patience=patience_student, optimizer_adv=None):\n",
    "    teacher.eval()\n",
    "    teacher.to(device)\n",
    "    best_val_accuracy = 0\n",
    "    best_total_val_loss = float('inf')\n",
    "    best_epoch_accuracy = 0.0\n",
    "    best_epoch_disparity = 0.0\n",
    "    patience_counter = 0 \n",
    "    student_epoch_losses = []\n",
    "    val_losses = []\n",
    "    val_disparities = []\n",
    "    val_accuracies = []\n",
    "\n",
    "    for epoch in range(epochs):\n",
    "        student.train()\n",
    "        student.to(device)\n",
    "        adv.train()\n",
    "        adv.to(device)\n",
    "        running_loss = 0.0 \n",
    "        epoch_loss = 0.0  \n",
    "        num_batches = 0 \n",
    "        confusion_male = np.zeros((num_classes, num_classes))\n",
    "        confusion_female = np.zeros((num_classes, num_classes))\n",
    "\n",
    "        for index, data in enumerate(tqdm(trainloader)):\n",
    "            inputs = data['img'].to(device)\n",
    "            labels = data['label'].to(device)\n",
    "            targets = data['target'].to(device)\n",
    "            optimizers.szero_grad()\n",
    "            optimizera.szero_grad()\n",
    "\n",
    "            student_outputs = student(inputs)\n",
    "            with torch.no_grad():\n",
    "                teacher_outputs = teacher(inputs)\n",
    "\n",
    "            # detach student_outputs to avoid exploding gradients by passing same inputs (with gradience) into two different models. \n",
    "            studentached = student_outputs.detach()\n",
    "\n",
    "            # Run the adversarial model on concatenated true labels, and predicted labels\n",
    "            with torch.no_grad():\n",
    "                adversary_output = adv(concatenated_output)\n",
    "\n",
    "            # Calc adversary loss, which is an MSE loss, because this is a regression output. \n",
    "            adversary_loss = adv_criterion(adversary_output, targets)\n",
    "            ce_loss = criterion(student_outputs, labels)\n",
    "            kd_loss = tkd_kdloss(student_outputs, teacher_outputs, temperature=temperature)  # Make sure this returns a scalar\n",
    "            \n",
    "            if kd_loss.ndim != 0:\n",
    "                kd_loss = kd_loss.sum()\n",
    "\n",
    "            # Now combine the losses, subtract weighted adversary loss because we need to maximize that loss \n",
    "            # goal of the model is to have the adversary not predict gender. \n",
    "            if lmda != 0:\n",
    "                loss = (alpha * kd_loss + (1 - alpha) * ce_loss) - lmda * adversary_loss #+ (alpha * kd_loss + (1 - alpha) * ce_loss)/adversary_loss \n",
    "            else:\n",
    "                loss = alpha * kd_loss + (1 - alpha) * ce_loss\n",
    "                \n",
    "            loss.backward()\n",
    "            optimizer.step()\n",
    "            running_loss += loss.item()\n",
    "            epoch_loss += loss.item()\n",
    "            num_batches += 1\n",
    "\n",
    "        epoch_loss /= num_batches\n",
    "        student_epoch_losses.append(epoch_loss)\n",
    "\n",
    "        student.eval()\n",
    "        total_correct = 0\n",
    "        total_samples = 0\n",
    "        total_val_loss = 0.0\n",
    "        num_batches = 0\n",
    "        # Validation after each epoch\n",
    "        with torch.no_grad():\n",
    "            for val_data in tqdm(testloader):\n",
    "                val_inputs = val_data['img'].to(device)\n",
    "                val_labels = val_data['label'].to(device)\n",
    "                val_targets = val_data['target'].to(device)\n",
    "                \n",
    "                # Forward pass for validation\n",
    "                val_student_outputs = student(val_inputs)\n",
    "                val_teacher_outputs = teacher(val_inputs)\n",
    "\n",
    "                val_studentached = val_student_outputs.detach()   \n",
    "                val_one_hot_labels = F.one_hot(val_labels, num_classes=num_classes).to(torch.float32)\n",
    "                val_concatenated_output = torch.cat((val_studentached, val_one_hot_labels), dim=1)\n",
    "                \n",
    "                val_adversary_output = adv(val_concatenated_output)\n",
    "                val_adversary_loss = adv_criterion(val_adversary_output, val_targets)\n",
    "                val_ce_loss = criterion(val_student_outputs, val_labels)\n",
    "                val_kd_loss = tkd_kdloss(val_student_outputs, val_teacher_outputs, temperature=temperature)  # Make sure this returns a scalar\n",
    "                \n",
    "                if val_kd_loss.ndim != 0:\n",
    "                    val_kd_loss = val_kd_loss.sum()\n",
    "                if lmda != 0:\n",
    "                    val_loss = (alpha * kd_loss + (1 - alpha) * ce_loss) - lmda * adversary_loss #+ (alpha * kd_loss + (1 - alpha) * ce_loss)/adversary_loss \n",
    "                else:\n",
    "                    val_loss = alpha * val_kd_loss + (1 - alpha) * val_ce_loss\n",
    "                total_val_loss += val_loss.item()\n",
    "    \n",
    "                # Compute the validation accuracy\n",
    "                _, predicted = torch.max(val_student_outputs, 1)\n",
    "                total_samples += val_labels.size(0)\n",
    "                total_correct += (predicted == val_labels).sum().item()\n",
    "                num_batches += 1\n",
    "                recall_diff = evaluate_model_with_gender_multiclass(predicted, val_labels, val_targets, num_classes=num_classes)\n",
    "                confusion_male += recall_diff[1]\n",
    "                confusion_female += recall_diff[2]\n",
    "    \n",
    "            total_val_loss /= num_batches\n",
    "            confusion_male /= num_batches\n",
    "            confusion_female /= num_batches\n",
    "\n",
    "            epoch_disparity = calculate_recall_multiclass(confusion_male) - calculate_recall_multiclass(confusion_female)\n",
    "            val_losses.append(total_val_loss)\n",
    "            non_zero_abs_values = np.abs(epoch_disparity[epoch_disparity != 0])\n",
    "            mean_non_zero_abs_disparity = np.mean(non_zero_abs_values)\n",
    "            val_disparities.append(mean_non_zero_abs_disparity)\n",
    "            accuracy = total_correct / total_samples\n",
    "            val_accuracies.append(accuracy)\n",
    "            class_recall_mapping = {class_name: epoch_disparity[int(class_label)] for class_label, class_name in class_idx.items()}\n",
    "            print(f'*****Epoch {epoch + 1}/{epochs}*****\\n' \n",
    "            f'*****Train Loss: {epoch_loss: .6f} Val Loss: {total_val_loss: .6f}*****\\n'\n",
    "            f'*****Validation Accuracy: {accuracy * 100:.2f}%*****\\n'\n",
    "            f'*****Total Avg Disparity: {mean_non_zero_abs_disparity}*****\\n')\n",
    "        \n",
    "            # Print disparities by class label\n",
    "            for class_label, recall_diff in class_recall_mapping.items():\n",
    "                print(f\"Class {class_label}: Recall Difference = {recall_diff}\")\n",
    "\n",
    "        # Check for early stopping\n",
    "        if abs(total_val_loss) < abs(best_total_val_loss):\n",
    "            best_total_val_loss = total_val_loss\n",
    "            patience_counter = 0\n",
    "            best_epoch_mean_abs_disparity = mean_non_zero_abs_disparity\n",
    "            state_dict_path = os.path.join(output_dir, f'student_model_weights_ckd_wider_checkpoint_lambda{lmda}.pth')\n",
    "            torch.save(student.state_dict(), state_dict_path)\n",
    "            model_path = os.path.join(output_dir, f'student_model_ckd_wider_checkpoint_lambda{lmda}.pth')\n",
    "            torch.save(student, model_path)\n",
    "        else:\n",
    "            patience_counter += 1 \n",
    "\n",
    "        if patience_counter >= patience:\n",
    "            print('Early stopping')\n",
    "            break  \n",
    "\n",
    "        # Writing epoch data to file\n",
    "        file_path = os.path.join(output_dir, f'student_validation_{lmda}.txt')\n",
    "        with open(file_path, 'a') as file:\n",
    "            file.write(f'*****Epoch {epoch + 1}/{epochs}*****\\n')\n",
    "            file.write(f'*****Train Loss: {epoch_loss:.6f} Val Loss: {total_val_loss:.6f}*****\\n')\n",
    "            file.write(f'*****Validation Accuracy: {accuracy * 100:.2f}%*****\\n')\n",
    "            file.write(f'*****Total Avg Disparity: {mean_non_zero_abs_disparity}*****\\n')\n",
    "    \n",
    "            # Writing disparities by class label\n",
    "            for class_label, recall_diff in class_recall_mapping.items():\n",
    "                file.write(f\"Class {class_label}: Recall Difference = {recall_diff}\\n\")\n",
    "        print(f\"Data has been appended to {file_path}\")\n",
    "\n",
    "    plot_loss_curve(val_losses)\n",
    "    print(f'Finished Training Student for lambda value of {lmda}')\n",
    "    return best_epoch_mean_abs_disparity\n"
   ]
  },
  {
   "cell_type": "code",
   "execution_count": 27,
   "id": "17a06902-9ad4-47a6-9a67-181e2dc43218",
   "metadata": {},
   "outputs": [
    {
     "name": "stderr",
     "output_type": "stream",
     "text": [
      "100%|█████████████████████████████████████████████████████████████████████████| 162/162 [01:50<00:00,  1.47it/s]\n",
      "100%|███████████████████████████████████████████████████████████████████████████| 55/55 [00:18<00:00,  2.91it/s]\n"
     ]
    },
    {
     "name": "stdout",
     "output_type": "stream",
     "text": [
      "*****Epoch 1/300*****\n",
      "*****Train Loss:  1.567408 Val Loss:  1.311099*****\n",
      "*****Validation Accuracy: 60.61%*****\n",
      "*****Total Avg Disparity: 0.20725764775568034*****\n",
      "\n",
      "Class Team_Sports: Recall Difference = 0.11180008174227818\n",
      "Class Celebration: Recall Difference = -0.08372093023255811\n",
      "Class Parade: Recall Difference = 0.02594810379241519\n",
      "Class Waiter_Or_Waitress: Recall Difference = -0.09246417013407315\n",
      "Class Individual_Sports: Recall Difference = -0.12081629562320162\n",
      "Class Surgeons: Recall Difference = -0.25203252032520324\n",
      "Class Spa: Recall Difference = -0.86\n",
      "Class Law_Enforcement: Recall Difference = 0.19119119119119143\n",
      "Class Business: Recall Difference = -0.18105195775098692\n",
      "Class Dresses: Recall Difference = -0.6436314363143631\n",
      "Class Water_Activities: Recall Difference = 0.11686486486486491\n",
      "Class Picnic: Recall Difference = -0.18181818181818185\n",
      "Class Rescue: Recall Difference = 0.0518987341772152\n",
      "Class Cheering: Recall Difference = -0.05188679245283015\n",
      "Class Performance_And_Entertainment: Recall Difference = 0.07266377033818894\n",
      "Class Family: Recall Difference = -0.27833333333333343\n",
      "Data has been appended to No_Attenuation_07/teacher_validation_0.txt\n"
     ]
    },
    {
     "name": "stderr",
     "output_type": "stream",
     "text": [
      "100%|█████████████████████████████████████████████████████████████████████████| 162/162 [01:49<00:00,  1.47it/s]\n",
      "100%|███████████████████████████████████████████████████████████████████████████| 55/55 [00:18<00:00,  2.97it/s]\n"
     ]
    },
    {
     "name": "stdout",
     "output_type": "stream",
     "text": [
      "*****Epoch 2/300*****\n",
      "*****Train Loss:  0.959389 Val Loss:  1.374439*****\n",
      "*****Validation Accuracy: 60.63%*****\n",
      "*****Total Avg Disparity: 0.19482394068392622*****\n",
      "\n",
      "Class Team_Sports: Recall Difference = 0.07071874817539558\n",
      "Class Celebration: Recall Difference = 0.023255813953488358\n",
      "Class Parade: Recall Difference = 0.02406615340747076\n",
      "Class Waiter_Or_Waitress: Recall Difference = -0.24318076745261197\n",
      "Class Individual_Sports: Recall Difference = -0.166023019839467\n",
      "Class Surgeons: Recall Difference = -0.15447154471544722\n",
      "Class Spa: Recall Difference = -0.7999999999999999\n",
      "Class Law_Enforcement: Recall Difference = 0.15065065065065053\n",
      "Class Business: Recall Difference = -0.08855222447455458\n",
      "Class Dresses: Recall Difference = -0.6815718157181572\n",
      "Class Water_Activities: Recall Difference = 0.08129729729729718\n",
      "Class Picnic: Recall Difference = 0.21818181818181814\n",
      "Class Rescue: Recall Difference = 0.06784810126582277\n",
      "Class Cheering: Recall Difference = -0.04532403609515995\n",
      "Class Performance_And_Entertainment: Recall Difference = 0.028707726382145027\n",
      "Class Family: Recall Difference = -0.2733333333333333\n",
      "Data has been appended to No_Attenuation_07/teacher_validation_0.txt\n"
     ]
    },
    {
     "name": "stderr",
     "output_type": "stream",
     "text": [
      "100%|█████████████████████████████████████████████████████████████████████████| 162/162 [01:50<00:00,  1.47it/s]\n",
      "100%|███████████████████████████████████████████████████████████████████████████| 55/55 [00:18<00:00,  2.99it/s]\n"
     ]
    },
    {
     "name": "stdout",
     "output_type": "stream",
     "text": [
      "*****Epoch 3/300*****\n",
      "*****Train Loss:  0.599856 Val Loss:  1.394978*****\n",
      "*****Validation Accuracy: 61.24%*****\n",
      "*****Total Avg Disparity: 0.16825806233218932*****\n",
      "\n",
      "Class Team_Sports: Recall Difference = 0.08177731067904481\n",
      "Class Celebration: Recall Difference = -0.07209302325581401\n",
      "Class Parade: Recall Difference = 0.0003992015968063978\n",
      "Class Waiter_Or_Waitress: Recall Difference = 0.014331946370781168\n",
      "Class Individual_Sports: Recall Difference = -0.1435711040436164\n",
      "Class Surgeons: Recall Difference = -0.11825572801182543\n",
      "Class Spa: Recall Difference = -0.54\n",
      "Class Law_Enforcement: Recall Difference = 0.0745745745745745\n",
      "Class Business: Recall Difference = -0.05633201749706601\n",
      "Class Dresses: Recall Difference = -0.7804878048780488\n",
      "Class Water_Activities: Recall Difference = 0.10194594594594586\n",
      "Class Picnic: Recall Difference = 0.036363636363636265\n",
      "Class Rescue: Recall Difference = 0.129620253164557\n",
      "Class Cheering: Recall Difference = -0.15525020508613607\n",
      "Class Performance_And_Entertainment: Recall Difference = -0.028792912513842694\n",
      "Class Family: Recall Difference = -0.3583333333333334\n",
      "Data has been appended to No_Attenuation_07/teacher_validation_0.txt\n"
     ]
    },
    {
     "name": "stderr",
     "output_type": "stream",
     "text": [
      "100%|█████████████████████████████████████████████████████████████████████████| 162/162 [01:50<00:00,  1.47it/s]\n",
      "100%|███████████████████████████████████████████████████████████████████████████| 55/55 [00:18<00:00,  2.93it/s]\n"
     ]
    },
    {
     "name": "stdout",
     "output_type": "stream",
     "text": [
      "*****Epoch 4/300*****\n",
      "*****Train Loss:  0.389854 Val Loss:  1.534458*****\n",
      "*****Validation Accuracy: 61.53%*****\n",
      "*****Total Avg Disparity: 0.16327345253580583*****\n",
      "\n",
      "Class Team_Sports: Recall Difference = 0.05955508845682245\n",
      "Class Celebration: Recall Difference = 0.006976744186046546\n",
      "Class Parade: Recall Difference = 0.031650983746792205\n",
      "Class Waiter_Or_Waitress: Recall Difference = -0.16551086453999064\n",
      "Class Individual_Sports: Recall Difference = -0.09113281841587162\n",
      "Class Surgeons: Recall Difference = -0.16703621581670364\n",
      "Class Spa: Recall Difference = -0.6\n",
      "Class Law_Enforcement: Recall Difference = 0.12887887887887894\n",
      "Class Business: Recall Difference = -0.08929905046409892\n",
      "Class Dresses: Recall Difference = -0.6876693766937669\n",
      "Class Water_Activities: Recall Difference = 0.06032432432432422\n",
      "Class Picnic: Recall Difference = -0.054545454545454564\n",
      "Class Rescue: Recall Difference = 0.005063291139240478\n",
      "Class Cheering: Recall Difference = -0.02337981952420015\n",
      "Class Performance_And_Entertainment: Recall Difference = -0.04301899650736851\n",
      "Class Family: Recall Difference = -0.3983333333333333\n",
      "Data has been appended to No_Attenuation_07/teacher_validation_0.txt\n"
     ]
    },
    {
     "name": "stderr",
     "output_type": "stream",
     "text": [
      "100%|█████████████████████████████████████████████████████████████████████████| 162/162 [01:50<00:00,  1.47it/s]\n",
      "100%|███████████████████████████████████████████████████████████████████████████| 55/55 [00:18<00:00,  3.00it/s]\n"
     ]
    },
    {
     "name": "stdout",
     "output_type": "stream",
     "text": [
      "*****Epoch 5/300*****\n",
      "*****Train Loss:  0.270229 Val Loss:  1.715443*****\n",
      "*****Validation Accuracy: 60.72%*****\n",
      "*****Total Avg Disparity: 0.1463550251051085*****\n",
      "\n",
      "Class Team_Sports: Recall Difference = 0.06701699071641254\n",
      "Class Celebration: Recall Difference = 0.030232558139534793\n",
      "Class Parade: Recall Difference = 0.0308525805531793\n",
      "Class Waiter_Or_Waitress: Recall Difference = -0.02265372168284807\n",
      "Class Individual_Sports: Recall Difference = -0.02052097531425101\n",
      "Class Surgeons: Recall Difference = -0.022172949002217224\n",
      "Class Spa: Recall Difference = -0.5399999999999999\n",
      "Class Law_Enforcement: Recall Difference = 0.09134134134134142\n",
      "Class Business: Recall Difference = -0.046623279632988346\n",
      "Class Dresses: Recall Difference = -0.6754742547425474\n",
      "Class Water_Activities: Recall Difference = 0.06637837837837846\n",
      "Class Picnic: Recall Difference = 0.07272727272727275\n",
      "Class Rescue: Recall Difference = 0.029113924050632956\n",
      "Class Cheering: Recall Difference = -0.10890073831009017\n",
      "Class Performance_And_Entertainment: Recall Difference = 0.09600477042337496\n",
      "Class Family: Recall Difference = -0.42166666666666663\n",
      "Data has been appended to No_Attenuation_07/teacher_validation_0.txt\n"
     ]
    },
    {
     "name": "stderr",
     "output_type": "stream",
     "text": [
      "100%|█████████████████████████████████████████████████████████████████████████| 162/162 [01:50<00:00,  1.47it/s]\n",
      "100%|███████████████████████████████████████████████████████████████████████████| 55/55 [00:18<00:00,  2.97it/s]\n"
     ]
    },
    {
     "name": "stdout",
     "output_type": "stream",
     "text": [
      "*****Epoch 6/300*****\n",
      "*****Train Loss:  0.212924 Val Loss:  1.814927*****\n",
      "*****Validation Accuracy: 61.36%*****\n",
      "*****Total Avg Disparity: 0.16564935876421624*****\n",
      "\n",
      "Class Team_Sports: Recall Difference = 0.06185554971682139\n",
      "Class Celebration: Recall Difference = 0.041860465116279055\n",
      "Class Parade: Recall Difference = 0.04499572284003428\n",
      "Class Waiter_Or_Waitress: Recall Difference = -0.16828478964401306\n",
      "Class Individual_Sports: Recall Difference = -0.09912161138876274\n",
      "Class Surgeons: Recall Difference = -0.052475979305247555\n",
      "Class Spa: Recall Difference = -0.5799999999999998\n",
      "Class Law_Enforcement: Recall Difference = 0.16391391391391397\n",
      "Class Business: Recall Difference = -0.09954123546356564\n",
      "Class Dresses: Recall Difference = -0.5718157181571817\n",
      "Class Water_Activities: Recall Difference = 0.08486486486486478\n",
      "Class Picnic: Recall Difference = 0.23636363636363633\n",
      "Class Rescue: Recall Difference = 0.04582278481012653\n",
      "Class Cheering: Recall Difference = -0.13494667760459395\n",
      "Class Performance_And_Entertainment: Recall Difference = -0.07786012437175222\n",
      "Class Family: Recall Difference = -0.1866666666666667\n",
      "Data has been appended to No_Attenuation_07/teacher_validation_0.txt\n"
     ]
    },
    {
     "name": "stderr",
     "output_type": "stream",
     "text": [
      "100%|█████████████████████████████████████████████████████████████████████████| 162/162 [01:50<00:00,  1.47it/s]\n",
      "100%|███████████████████████████████████████████████████████████████████████████| 55/55 [00:18<00:00,  2.98it/s]\n"
     ]
    },
    {
     "name": "stdout",
     "output_type": "stream",
     "text": [
      "*****Epoch 7/300*****\n",
      "*****Train Loss:  0.175138 Val Loss:  1.883872*****\n",
      "*****Validation Accuracy: 62.08%*****\n",
      "*****Total Avg Disparity: 0.1773302698303922*****\n",
      "\n",
      "Class Team_Sports: Recall Difference = 0.07257546563904949\n",
      "Class Celebration: Recall Difference = -0.07674418604651156\n",
      "Class Parade: Recall Difference = -0.08674080410607343\n",
      "Class Waiter_Or_Waitress: Recall Difference = -0.024503005085529383\n",
      "Class Individual_Sports: Recall Difference = -0.05592155081023786\n",
      "Class Surgeons: Recall Difference = -0.1544715447154471\n",
      "Class Spa: Recall Difference = -0.6799999999999999\n",
      "Class Law_Enforcement: Recall Difference = 0.07282282282282293\n",
      "Class Business: Recall Difference = -0.042035634268643984\n",
      "Class Dresses: Recall Difference = -0.6646341463414636\n",
      "Class Water_Activities: Recall Difference = 0.11437837837837839\n",
      "Class Picnic: Recall Difference = 0.054545454545454564\n",
      "Class Rescue: Recall Difference = 0.17367088607594944\n",
      "Class Cheering: Recall Difference = -0.11689909762100087\n",
      "Class Performance_And_Entertainment: Recall Difference = -0.05400800749637946\n",
      "Class Family: Recall Difference = -0.3933333333333334\n",
      "Data has been appended to No_Attenuation_07/teacher_validation_0.txt\n"
     ]
    },
    {
     "name": "stderr",
     "output_type": "stream",
     "text": [
      "100%|█████████████████████████████████████████████████████████████████████████| 162/162 [01:50<00:00,  1.47it/s]\n",
      "100%|███████████████████████████████████████████████████████████████████████████| 55/55 [00:19<00:00,  2.85it/s]\n"
     ]
    },
    {
     "name": "stdout",
     "output_type": "stream",
     "text": [
      "*****Epoch 8/300*****\n",
      "*****Train Loss:  0.167920 Val Loss:  1.960359*****\n",
      "*****Validation Accuracy: 61.24%*****\n",
      "*****Total Avg Disparity: 0.1420551658708494*****\n",
      "\n",
      "Class Team_Sports: Recall Difference = 0.0996788696210662\n",
      "Class Celebration: Recall Difference = 0.044186046511627886\n",
      "Class Parade: Recall Difference = 0.027031650983746602\n",
      "Class Waiter_Or_Waitress: Recall Difference = -0.09061488673139184\n",
      "Class Individual_Sports: Recall Difference = -0.12320157504164775\n",
      "Class Surgeons: Recall Difference = -0.05838876570583884\n",
      "Class Spa: Recall Difference = -0.72\n",
      "Class Law_Enforcement: Recall Difference = 0.08958958958958974\n",
      "Class Business: Recall Difference = -0.04662327963298829\n",
      "Class Dresses: Recall Difference = -0.3177506775067751\n",
      "Class Water_Activities: Recall Difference = 0.05589189189189203\n",
      "Class Picnic: Recall Difference = 0.07272727272727275\n",
      "Class Rescue: Recall Difference = 0.12101265822784812\n",
      "Class Cheering: Recall Difference = -0.048810500410172264\n",
      "Class Performance_And_Entertainment: Recall Difference = -0.08237498935173343\n",
      "Class Family: Recall Difference = -0.275\n",
      "Data has been appended to No_Attenuation_07/teacher_validation_0.txt\n"
     ]
    },
    {
     "name": "stderr",
     "output_type": "stream",
     "text": [
      "100%|█████████████████████████████████████████████████████████████████████████| 162/162 [01:50<00:00,  1.47it/s]\n",
      "100%|███████████████████████████████████████████████████████████████████████████| 55/55 [00:18<00:00,  3.04it/s]\n"
     ]
    },
    {
     "name": "stdout",
     "output_type": "stream",
     "text": [
      "*****Epoch 9/300*****\n",
      "*****Train Loss:  0.140647 Val Loss:  1.986367*****\n",
      "*****Validation Accuracy: 61.30%*****\n",
      "*****Total Avg Disparity: 0.1618165186608422*****\n",
      "\n",
      "Class Team_Sports: Recall Difference = 0.08581771471944877\n",
      "Class Celebration: Recall Difference = 0.0790697674418605\n",
      "Class Parade: Recall Difference = 0.02132877102936981\n",
      "Class Waiter_Or_Waitress: Recall Difference = 0.03190013869625519\n",
      "Class Individual_Sports: Recall Difference = -0.08874753899742538\n",
      "Class Surgeons: Recall Difference = -0.11825572801182543\n",
      "Class Spa: Recall Difference = -0.62\n",
      "Class Law_Enforcement: Recall Difference = 0.052552552552552645\n",
      "Class Business: Recall Difference = 0.0466232796329884\n",
      "Class Dresses: Recall Difference = -0.75\n",
      "Class Water_Activities: Recall Difference = 0.11189189189189208\n",
      "Class Picnic: Recall Difference = 0.21818181818181814\n",
      "Class Rescue: Recall Difference = 0.015696202531645442\n",
      "Class Cheering: Recall Difference = -0.10090237899917964\n",
      "Class Performance_And_Entertainment: Recall Difference = -0.019763182553880265\n",
      "Class Family: Recall Difference = -0.2283333333333334\n",
      "Data has been appended to No_Attenuation_07/teacher_validation_0.txt\n"
     ]
    },
    {
     "name": "stderr",
     "output_type": "stream",
     "text": [
      "100%|█████████████████████████████████████████████████████████████████████████| 162/162 [01:50<00:00,  1.47it/s]\n",
      "100%|███████████████████████████████████████████████████████████████████████████| 55/55 [00:18<00:00,  3.01it/s]\n"
     ]
    },
    {
     "name": "stdout",
     "output_type": "stream",
     "text": [
      "*****Epoch 10/300*****\n",
      "*****Train Loss:  0.118154 Val Loss:  2.045093*****\n",
      "*****Validation Accuracy: 62.42%*****\n",
      "*****Total Avg Disparity: 0.13449953790125735*****\n",
      "\n",
      "Class Team_Sports: Recall Difference = 0.09529981899924089\n",
      "Class Celebration: Recall Difference = -0.05348837209302326\n",
      "Class Parade: Recall Difference = 0.001996007984031878\n",
      "Class Waiter_Or_Waitress: Recall Difference = -0.07212205270457717\n",
      "Class Individual_Sports: Recall Difference = -0.066295623201575\n",
      "Class Surgeons: Recall Difference = 0.04508499630450857\n",
      "Class Spa: Recall Difference = -0.72\n",
      "Class Law_Enforcement: Recall Difference = 0.09809809809809811\n",
      "Class Business: Recall Difference = -0.036914541768910625\n",
      "Class Dresses: Recall Difference = -0.43495934959349597\n",
      "Class Water_Activities: Recall Difference = 0.07989189189189194\n",
      "Class Picnic: Recall Difference = 0.036363636363636265\n",
      "Class Rescue: Recall Difference = 0.03645569620253164\n",
      "Class Cheering: Recall Difference = -0.06255127153404433\n",
      "Class Performance_And_Entertainment: Recall Difference = 0.07913791634721873\n",
      "Class Family: Recall Difference = -0.2333333333333335\n",
      "Data has been appended to No_Attenuation_07/teacher_validation_0.txt\n"
     ]
    },
    {
     "name": "stderr",
     "output_type": "stream",
     "text": [
      "100%|█████████████████████████████████████████████████████████████████████████| 162/162 [01:50<00:00,  1.47it/s]\n",
      "100%|███████████████████████████████████████████████████████████████████████████| 55/55 [00:18<00:00,  2.95it/s]\n"
     ]
    },
    {
     "name": "stdout",
     "output_type": "stream",
     "text": [
      "*****Epoch 11/300*****\n",
      "*****Train Loss:  0.115259 Val Loss:  2.238171*****\n",
      "*****Validation Accuracy: 59.86%*****\n",
      "*****Total Avg Disparity: 0.15779278629530682*****\n",
      "\n",
      "Class Team_Sports: Recall Difference = 0.0555146844164186\n",
      "Class Celebration: Recall Difference = -0.034883720930232565\n",
      "Class Parade: Recall Difference = 0.0025662959794696683\n",
      "Class Waiter_Or_Waitress: Recall Difference = -0.04576976421636614\n",
      "Class Individual_Sports: Recall Difference = -0.09503256095714063\n",
      "Class Surgeons: Recall Difference = -0.015521064301551979\n",
      "Class Spa: Recall Difference = -0.84\n",
      "Class Law_Enforcement: Recall Difference = 0.11636636636636649\n",
      "Class Business: Recall Difference = -0.029019524165155297\n",
      "Class Dresses: Recall Difference = -0.6266937669376693\n",
      "Class Water_Activities: Recall Difference = 0.1303783783783783\n",
      "Class Picnic: Recall Difference = 0.054545454545454564\n",
      "Class Rescue: Recall Difference = -0.043544303797468376\n",
      "Class Cheering: Recall Difference = -0.1279737489745693\n",
      "Class Performance_And_Entertainment: Recall Difference = 0.07854161342533439\n",
      "Class Family: Recall Difference = -0.2283333333333334\n",
      "Data has been appended to No_Attenuation_07/teacher_validation_0.txt\n"
     ]
    },
    {
     "name": "stderr",
     "output_type": "stream",
     "text": [
      "100%|█████████████████████████████████████████████████████████████████████████| 162/162 [01:50<00:00,  1.47it/s]\n",
      "100%|███████████████████████████████████████████████████████████████████████████| 55/55 [00:18<00:00,  2.99it/s]\n"
     ]
    },
    {
     "name": "stdout",
     "output_type": "stream",
     "text": [
      "*****Epoch 12/300*****\n",
      "*****Train Loss:  0.129051 Val Loss:  2.146079*****\n",
      "*****Validation Accuracy: 59.57%*****\n",
      "*****Total Avg Disparity: 0.15593170663142716*****\n",
      "\n",
      "Class Team_Sports: Recall Difference = 0.0670753780580371\n",
      "Class Celebration: Recall Difference = -0.07674418604651168\n",
      "Class Parade: Recall Difference = -0.03176504134587965\n",
      "Class Waiter_Or_Waitress: Recall Difference = -0.0915395284327325\n",
      "Class Individual_Sports: Recall Difference = -0.08075874602453426\n",
      "Class Surgeons: Recall Difference = -0.09460458240946051\n",
      "Class Spa: Recall Difference = -0.66\n",
      "Class Law_Enforcement: Recall Difference = 0.06706706706706717\n",
      "Class Business: Recall Difference = -0.05611863864291067\n",
      "Class Dresses: Recall Difference = -0.6341463414634146\n",
      "Class Water_Activities: Recall Difference = 0.11135135135135155\n",
      "Class Picnic: Recall Difference = 0.018181818181818188\n",
      "Class Rescue: Recall Difference = 0.2169620253164557\n",
      "Class Cheering: Recall Difference = -0.035069729286300255\n",
      "Class Performance_And_Entertainment: Recall Difference = -0.05852287247636079\n",
      "Class Family: Recall Difference = -0.195\n",
      "Data has been appended to No_Attenuation_07/teacher_validation_0.txt\n"
     ]
    },
    {
     "name": "stderr",
     "output_type": "stream",
     "text": [
      "100%|█████████████████████████████████████████████████████████████████████████| 162/162 [01:50<00:00,  1.47it/s]\n",
      "100%|███████████████████████████████████████████████████████████████████████████| 55/55 [00:18<00:00,  2.99it/s]\n"
     ]
    },
    {
     "name": "stdout",
     "output_type": "stream",
     "text": [
      "*****Epoch 13/300*****\n",
      "*****Train Loss:  0.094192 Val Loss:  2.239274*****\n",
      "*****Validation Accuracy: 60.87%*****\n",
      "*****Total Avg Disparity: 0.14384772091047326*****\n",
      "\n",
      "Class Team_Sports: Recall Difference = 0.05803701757459012\n",
      "Class Celebration: Recall Difference = -0.046511627906976716\n",
      "Class Parade: Recall Difference = -0.008896492728828087\n",
      "Class Waiter_Or_Waitress: Recall Difference = -0.052704576976421724\n",
      "Class Individual_Sports: Recall Difference = -0.020142359533545262\n",
      "Class Surgeons: Recall Difference = 0.0088691796008869\n",
      "Class Spa: Recall Difference = -0.7\n",
      "Class Law_Enforcement: Recall Difference = 0.025775775775775833\n",
      "Class Business: Recall Difference = -0.09570041608876567\n",
      "Class Dresses: Recall Difference = -0.3008130081300813\n",
      "Class Water_Activities: Recall Difference = 0.11437837837837839\n",
      "Class Picnic: Recall Difference = -0.4727272727272728\n",
      "Class Rescue: Recall Difference = 0.04177215189873418\n",
      "Class Cheering: Recall Difference = -0.06398687448728468\n",
      "Class Performance_And_Entertainment: Recall Difference = 0.0229150694266973\n",
      "Class Family: Recall Difference = -0.2683333333333333\n",
      "Data has been appended to No_Attenuation_07/teacher_validation_0.txt\n"
     ]
    },
    {
     "name": "stderr",
     "output_type": "stream",
     "text": [
      "100%|█████████████████████████████████████████████████████████████████████████| 162/162 [01:50<00:00,  1.47it/s]\n",
      "100%|███████████████████████████████████████████████████████████████████████████| 55/55 [00:18<00:00,  2.95it/s]\n"
     ]
    },
    {
     "name": "stdout",
     "output_type": "stream",
     "text": [
      "*****Epoch 14/300*****\n",
      "*****Train Loss:  0.106789 Val Loss:  2.230527*****\n",
      "*****Validation Accuracy: 61.01%*****\n",
      "*****Total Avg Disparity: 0.1392827767005166*****\n",
      "\n",
      "Class Team_Sports: Recall Difference = 0.08957785952005604\n",
      "Class Celebration: Recall Difference = 0.051162790697674376\n",
      "Class Parade: Recall Difference = 0.02075848303393213\n",
      "Class Waiter_Or_Waitress: Recall Difference = -0.015718908922792596\n",
      "Class Individual_Sports: Recall Difference = -0.08742238376495526\n",
      "Class Surgeons: Recall Difference = -0.04508499630450835\n",
      "Class Spa: Recall Difference = -0.6599999999999999\n",
      "Class Law_Enforcement: Recall Difference = 0.05405405405405406\n",
      "Class Business: Recall Difference = -0.1273871759308653\n",
      "Class Dresses: Recall Difference = -0.4607046070460704\n",
      "Class Water_Activities: Recall Difference = 0.06389189189189215\n",
      "Class Picnic: Recall Difference = -0.09090909090909094\n",
      "Class Rescue: Recall Difference = 0.13443037974683542\n",
      "Class Cheering: Recall Difference = -0.06911402789171461\n",
      "Class Performance_And_Entertainment: Recall Difference = -0.033307777493824076\n",
      "Class Family: Recall Difference = -0.2250000000000001\n",
      "Data has been appended to No_Attenuation_07/teacher_validation_0.txt\n"
     ]
    },
    {
     "name": "stderr",
     "output_type": "stream",
     "text": [
      "100%|█████████████████████████████████████████████████████████████████████████| 162/162 [01:50<00:00,  1.47it/s]\n",
      "100%|███████████████████████████████████████████████████████████████████████████| 55/55 [00:18<00:00,  2.90it/s]\n"
     ]
    },
    {
     "name": "stdout",
     "output_type": "stream",
     "text": [
      "*****Epoch 15/300*****\n",
      "*****Train Loss:  0.075872 Val Loss:  2.404760*****\n",
      "*****Validation Accuracy: 61.07%*****\n",
      "*****Total Avg Disparity: 0.14518137823427973*****\n",
      "\n",
      "Class Team_Sports: Recall Difference = 0.08009575524026391\n",
      "Class Celebration: Recall Difference = 0.020930232558139583\n",
      "Class Parade: Recall Difference = -0.002338180781294441\n",
      "Class Waiter_Or_Waitress: Recall Difference = -0.06333795654184016\n",
      "Class Individual_Sports: Recall Difference = -0.091890049977283\n",
      "Class Surgeons: Recall Difference = -0.05099778270509958\n",
      "Class Spa: Recall Difference = -0.5199999999999999\n",
      "Class Law_Enforcement: Recall Difference = 0.15065065065065075\n",
      "Class Business: Recall Difference = -0.04384935452896632\n",
      "Class Dresses: Recall Difference = -0.6449864498644986\n",
      "Class Water_Activities: Recall Difference = 0.09837837837837837\n",
      "Class Picnic: Recall Difference = -0.2181818181818182\n",
      "Class Rescue: Recall Difference = 0.06303797468354433\n",
      "Class Cheering: Recall Difference = -0.04142739950779323\n",
      "Class Performance_And_Entertainment: Recall Difference = 0.006133401482238787\n",
      "Class Family: Recall Difference = -0.22666666666666663\n",
      "Data has been appended to No_Attenuation_07/teacher_validation_0.txt\n"
     ]
    },
    {
     "name": "stderr",
     "output_type": "stream",
     "text": [
      "100%|█████████████████████████████████████████████████████████████████████████| 162/162 [01:50<00:00,  1.47it/s]\n",
      "100%|███████████████████████████████████████████████████████████████████████████| 55/55 [00:18<00:00,  3.01it/s]\n"
     ]
    },
    {
     "name": "stdout",
     "output_type": "stream",
     "text": [
      "*****Epoch 16/300*****\n",
      "*****Train Loss:  0.101026 Val Loss:  2.290438*****\n",
      "*****Validation Accuracy: 60.61%*****\n",
      "*****Total Avg Disparity: 0.17526974128105677*****\n",
      "\n",
      "Class Team_Sports: Recall Difference = 0.0768377415776259\n",
      "Class Celebration: Recall Difference = 0.04418604651162783\n",
      "Class Parade: Recall Difference = -0.03227830054177372\n",
      "Class Waiter_Or_Waitress: Recall Difference = -0.04299583911234417\n",
      "Class Individual_Sports: Recall Difference = -0.077048311373618\n",
      "Class Surgeons: Recall Difference = -0.04508499630450835\n",
      "Class Spa: Recall Difference = -0.7\n",
      "Class Law_Enforcement: Recall Difference = 0.16716716716716723\n",
      "Class Business: Recall Difference = -0.10668942707777662\n",
      "Class Dresses: Recall Difference = -0.6571815718157181\n",
      "Class Water_Activities: Recall Difference = 0.10443243243243261\n",
      "Class Picnic: Recall Difference = -0.18181818181818182\n",
      "Class Rescue: Recall Difference = 0.190379746835443\n",
      "Class Cheering: Recall Difference = 0.042452830188679236\n",
      "Class Performance_And_Entertainment: Recall Difference = -0.027429934406678513\n",
      "Class Family: Recall Difference = -0.3083333333333334\n",
      "Data has been appended to No_Attenuation_07/teacher_validation_0.txt\n"
     ]
    },
    {
     "name": "stderr",
     "output_type": "stream",
     "text": [
      "100%|█████████████████████████████████████████████████████████████████████████| 162/162 [01:50<00:00,  1.47it/s]\n",
      "100%|███████████████████████████████████████████████████████████████████████████| 55/55 [00:18<00:00,  2.90it/s]\n"
     ]
    },
    {
     "name": "stdout",
     "output_type": "stream",
     "text": [
      "*****Epoch 17/300*****\n",
      "*****Train Loss:  0.080912 Val Loss:  2.288487*****\n",
      "*****Validation Accuracy: 60.61%*****\n",
      "*****Total Avg Disparity: 0.16516140995502754*****\n",
      "\n",
      "Class Team_Sports: Recall Difference = 0.09103754306066425\n",
      "Class Celebration: Recall Difference = -0.05813953488372098\n",
      "Class Parade: Recall Difference = -0.034217279726261984\n",
      "Class Waiter_Or_Waitress: Recall Difference = -0.06241331484049939\n",
      "Class Individual_Sports: Recall Difference = -0.04240496743904287\n",
      "Class Surgeons: Recall Difference = 0.009608277900960971\n",
      "Class Spa: Recall Difference = -0.72\n",
      "Class Law_Enforcement: Recall Difference = 0.15890890890890896\n",
      "Class Business: Recall Difference = -0.09772751520324341\n",
      "Class Dresses: Recall Difference = -0.6144986449864498\n",
      "Class Water_Activities: Recall Difference = 0.15491891891891885\n",
      "Class Picnic: Recall Difference = 0.054545454545454564\n",
      "Class Rescue: Recall Difference = 0.17772151898734176\n",
      "Class Cheering: Recall Difference = -0.07136997538966361\n",
      "Class Performance_And_Entertainment: Recall Difference = -0.030070704489309208\n",
      "Class Family: Recall Difference = -0.26499999999999996\n",
      "Data has been appended to No_Attenuation_07/teacher_validation_0.txt\n"
     ]
    },
    {
     "name": "stderr",
     "output_type": "stream",
     "text": [
      "100%|█████████████████████████████████████████████████████████████████████████| 162/162 [01:50<00:00,  1.47it/s]\n",
      "100%|███████████████████████████████████████████████████████████████████████████| 55/55 [00:18<00:00,  3.01it/s]\n"
     ]
    },
    {
     "name": "stdout",
     "output_type": "stream",
     "text": [
      "*****Epoch 18/300*****\n",
      "*****Train Loss:  0.094243 Val Loss:  2.377817*****\n",
      "*****Validation Accuracy: 61.73%*****\n",
      "*****Total Avg Disparity: 0.1579043482751506*****\n",
      "\n",
      "Class Team_Sports: Recall Difference = 0.059835347696619245\n",
      "Class Celebration: Recall Difference = 0.009302325581395376\n",
      "Class Parade: Recall Difference = 0.03792415169660679\n",
      "Class Waiter_Or_Waitress: Recall Difference = 0.015256588072121935\n",
      "Class Individual_Sports: Recall Difference = -0.11483416628805088\n",
      "Class Surgeons: Recall Difference = -0.07021433850702147\n",
      "Class Spa: Recall Difference = -0.7599999999999999\n",
      "Class Law_Enforcement: Recall Difference = 0.15365365365365374\n",
      "Class Business: Recall Difference = 0.0006401365624665867\n",
      "Class Dresses: Recall Difference = -0.5779132791327914\n",
      "Class Water_Activities: Recall Difference = 0.08345945945945954\n",
      "Class Picnic: Recall Difference = -0.18181818181818182\n",
      "Class Rescue: Recall Difference = 0.09974683544303792\n",
      "Class Cheering: Recall Difference = -0.08141919606234616\n",
      "Class Performance_And_Entertainment: Recall Difference = -0.005451912428656724\n",
      "Class Family: Recall Difference = -0.275\n",
      "Data has been appended to No_Attenuation_07/teacher_validation_0.txt\n"
     ]
    },
    {
     "name": "stderr",
     "output_type": "stream",
     "text": [
      "100%|█████████████████████████████████████████████████████████████████████████| 162/162 [01:50<00:00,  1.47it/s]\n",
      "100%|███████████████████████████████████████████████████████████████████████████| 55/55 [00:18<00:00,  2.97it/s]\n"
     ]
    },
    {
     "name": "stdout",
     "output_type": "stream",
     "text": [
      "*****Epoch 19/300*****\n",
      "*****Train Loss:  0.079465 Val Loss:  2.325505*****\n",
      "*****Validation Accuracy: 61.56%*****\n",
      "*****Total Avg Disparity: 0.16994658248671163*****\n",
      "\n",
      "Class Team_Sports: Recall Difference = 0.03317568751094757\n",
      "Class Celebration: Recall Difference = 0.086046511627907\n",
      "Class Parade: Recall Difference = -0.002623324779013392\n",
      "Class Waiter_Or_Waitress: Recall Difference = -0.11003236245954706\n",
      "Class Individual_Sports: Recall Difference = -0.1302438285627746\n",
      "Class Surgeons: Recall Difference = -0.03917220990391712\n",
      "Class Spa: Recall Difference = -0.64\n",
      "Class Law_Enforcement: Recall Difference = 0.0930930930930931\n",
      "Class Business: Recall Difference = -0.10540915395284334\n",
      "Class Dresses: Recall Difference = -0.6571815718157181\n",
      "Class Water_Activities: Recall Difference = 0.11135135135135155\n",
      "Class Picnic: Recall Difference = 0.2909090909090909\n",
      "Class Rescue: Recall Difference = 0.07443037974683547\n",
      "Class Cheering: Recall Difference = -0.13720262510254316\n",
      "Class Performance_And_Entertainment: Recall Difference = -0.004940795638470052\n",
      "Class Family: Recall Difference = -0.20333333333333337\n",
      "Data has been appended to No_Attenuation_07/teacher_validation_0.txt\n"
     ]
    },
    {
     "name": "stderr",
     "output_type": "stream",
     "text": [
      "100%|█████████████████████████████████████████████████████████████████████████| 162/162 [01:50<00:00,  1.47it/s]\n",
      "100%|███████████████████████████████████████████████████████████████████████████| 55/55 [00:18<00:00,  3.01it/s]\n"
     ]
    },
    {
     "name": "stdout",
     "output_type": "stream",
     "text": [
      "*****Epoch 20/300*****\n",
      "*****Train Loss:  0.072376 Val Loss:  2.446001*****\n",
      "*****Validation Accuracy: 60.49%*****\n",
      "*****Total Avg Disparity: 0.16645785040765798*****\n",
      "\n",
      "Class Team_Sports: Recall Difference = 0.024254101710749265\n",
      "Class Celebration: Recall Difference = -0.0906976744186046\n",
      "Class Parade: Recall Difference = -0.010208155118334838\n",
      "Class Waiter_Or_Waitress: Recall Difference = -0.09061488673139173\n",
      "Class Individual_Sports: Recall Difference = -0.13804331364531275\n",
      "Class Surgeons: Recall Difference = -0.1426459719142646\n",
      "Class Spa: Recall Difference = -0.7799999999999999\n",
      "Class Law_Enforcement: Recall Difference = 0.126876876876877\n",
      "Class Business: Recall Difference = -0.009602048436999966\n",
      "Class Dresses: Recall Difference = -0.521680216802168\n",
      "Class Water_Activities: Recall Difference = 0.08432432432432424\n",
      "Class Picnic: Recall Difference = -0.2181818181818182\n",
      "Class Rescue: Recall Difference = -0.040253164556962095\n",
      "Class Cheering: Recall Difference = -0.10028712059064804\n",
      "Class Performance_And_Entertainment: Recall Difference = -0.03398926654740603\n",
      "Class Family: Recall Difference = -0.25166666666666665\n",
      "Data has been appended to No_Attenuation_07/teacher_validation_0.txt\n"
     ]
    },
    {
     "name": "stderr",
     "output_type": "stream",
     "text": [
      "100%|█████████████████████████████████████████████████████████████████████████| 162/162 [01:50<00:00,  1.47it/s]\n",
      "100%|███████████████████████████████████████████████████████████████████████████| 55/55 [00:19<00:00,  2.89it/s]\n"
     ]
    },
    {
     "name": "stdout",
     "output_type": "stream",
     "text": [
      "*****Epoch 21/300*****\n",
      "*****Train Loss:  0.063610 Val Loss:  2.604560*****\n",
      "*****Validation Accuracy: 59.62%*****\n",
      "*****Total Avg Disparity: 0.14868276805092248*****\n",
      "\n",
      "Class Team_Sports: Recall Difference = 0.06977287324108139\n",
      "Class Celebration: Recall Difference = -0.06046511627906992\n",
      "Class Parade: Recall Difference = 0.06461362988309094\n",
      "Class Waiter_Or_Waitress: Recall Difference = -0.0711974110032364\n",
      "Class Individual_Sports: Recall Difference = -0.13709677419354838\n",
      "Class Surgeons: Recall Difference = -0.0761271249076127\n",
      "Class Spa: Recall Difference = -0.6799999999999999\n",
      "Class Law_Enforcement: Recall Difference = 0.06106106106106113\n",
      "Class Business: Recall Difference = -0.005761229062199891\n",
      "Class Dresses: Recall Difference = -0.6632791327913279\n",
      "Class Water_Activities: Recall Difference = 0.07740540540540553\n",
      "Class Picnic: Recall Difference = -0.07272727272727275\n",
      "Class Rescue: Recall Difference = 0.0637974683544304\n",
      "Class Cheering: Recall Difference = 0.023789991796554555\n",
      "Class Performance_And_Entertainment: Recall Difference = 0.015163131442201216\n",
      "Class Family: Recall Difference = -0.23666666666666675\n",
      "Early stopping\n"
     ]
    },
    {
     "data": {
      "image/png": "[encoded data removed]",
      "text/plain": [
       "<Figure size 640x480 with 1 Axes>"
      ]
     },
     "metadata": {},
     "output_type": "display_data"
    },
    {
     "name": "stdout",
     "output_type": "stream",
     "text": [
      "Finished Training Teacher for lambda val of 0\n",
      "Teacher weights and architecture saved and exported for lambda: 0\n"
     ]
    },
    {
     "name": "stderr",
     "output_type": "stream",
     "text": [
      "100%|█████████████████████████████████████████████████████████████████████████| 162/162 [01:50<00:00,  1.47it/s]\n",
      "100%|███████████████████████████████████████████████████████████████████████████| 55/55 [00:18<00:00,  2.94it/s]\n"
     ]
    },
    {
     "name": "stdout",
     "output_type": "stream",
     "text": [
      "*****Epoch 1/300*****\n",
      "*****Train Loss: -0.420925 Val Loss: -0.790608*****\n",
      "*****Validation Accuracy: 58.73%*****\n",
      "*****Total Avg Disparity: 0.17466050606036365*****\n",
      "\n",
      "Class Team_Sports: Recall Difference = 0.03997197407602038\n",
      "Class Celebration: Recall Difference = -0.11395348837209296\n",
      "Class Parade: Recall Difference = 0.01123467351012264\n",
      "Class Waiter_Or_Waitress: Recall Difference = -0.1470180305131762\n",
      "Class Individual_Sports: Recall Difference = -0.06228229592609413\n",
      "Class Surgeons: Recall Difference = -0.04582409460458253\n",
      "Class Spa: Recall Difference = -0.6599999999999999\n",
      "Class Law_Enforcement: Recall Difference = 0.08008008008008005\n",
      "Class Business: Recall Difference = -0.07959031260002136\n",
      "Class Dresses: Recall Difference = -0.538617886178862\n",
      "Class Water_Activities: Recall Difference = 0.09783783783783784\n",
      "Class Picnic: Recall Difference = -0.4545454545454546\n",
      "Class Rescue: Recall Difference = -0.01822784810126582\n",
      "Class Cheering: Recall Difference = 0.056398687448728446\n",
      "Class Performance_And_Entertainment: Recall Difference = -0.02231876650481296\n",
      "Class Family: Recall Difference = -0.3666666666666667\n",
      "Data has been appended to No_Attenuation_07/teacher_validation_4.txt\n"
     ]
    },
    {
     "name": "stderr",
     "output_type": "stream",
     "text": [
      "100%|█████████████████████████████████████████████████████████████████████████| 162/162 [01:50<00:00,  1.47it/s]\n",
      "100%|███████████████████████████████████████████████████████████████████████████| 55/55 [00:18<00:00,  2.90it/s]\n"
     ]
    },
    {
     "name": "stdout",
     "output_type": "stream",
     "text": [
      "*****Epoch 2/300*****\n",
      "*****Train Loss: -1.137864 Val Loss: -0.808554*****\n",
      "*****Validation Accuracy: 62.68%*****\n",
      "*****Total Avg Disparity: 0.20026220477641632*****\n",
      "\n",
      "Class Team_Sports: Recall Difference = 0.05287557657499853\n",
      "Class Celebration: Recall Difference = -0.044186046511627886\n",
      "Class Parade: Recall Difference = 0.07927003136583965\n",
      "Class Waiter_Or_Waitress: Recall Difference = 0.04160887656033285\n",
      "Class Individual_Sports: Recall Difference = -0.140428593063759\n",
      "Class Surgeons: Recall Difference = -0.04508499630450835\n",
      "Class Spa: Recall Difference = -0.86\n",
      "Class Law_Enforcement: Recall Difference = 0.02902902902902904\n",
      "Class Business: Recall Difference = -0.0918595967139656\n",
      "Class Dresses: Recall Difference = -0.5887533875338754\n",
      "Class Water_Activities: Recall Difference = 0.10583783783783784\n",
      "Class Picnic: Recall Difference = -0.4181818181818183\n",
      "Class Rescue: Recall Difference = 0.10303797468354431\n",
      "Class Cheering: Recall Difference = -0.11033634126333058\n",
      "Class Performance_And_Entertainment: Recall Difference = 0.13203850413152735\n",
      "Class Family: Recall Difference = -0.36166666666666675\n",
      "Data has been appended to No_Attenuation_07/teacher_validation_4.txt\n"
     ]
    },
    {
     "name": "stderr",
     "output_type": "stream",
     "text": [
      "100%|█████████████████████████████████████████████████████████████████████████| 162/162 [01:50<00:00,  1.47it/s]\n",
      "100%|███████████████████████████████████████████████████████████████████████████| 55/55 [00:19<00:00,  2.87it/s]\n"
     ]
    },
    {
     "name": "stdout",
     "output_type": "stream",
     "text": [
      "*****Epoch 3/300*****\n",
      "*****Train Loss: -1.504683 Val Loss: -0.635533*****\n",
      "*****Validation Accuracy: 61.53%*****\n",
      "*****Total Avg Disparity: 0.17383834828715733*****\n",
      "\n",
      "Class Team_Sports: Recall Difference = 0.050236468733578676\n",
      "Class Celebration: Recall Difference = -0.19069767441860463\n",
      "Class Parade: Recall Difference = 0.17074422583404625\n",
      "Class Waiter_Or_Waitress: Recall Difference = -0.02542764678687015\n",
      "Class Individual_Sports: Recall Difference = -0.11930183250037873\n",
      "Class Surgeons: Recall Difference = -0.08795269770879538\n",
      "Class Spa: Recall Difference = -0.5599999999999999\n",
      "Class Law_Enforcement: Recall Difference = 0.16416416416416424\n",
      "Class Business: Recall Difference = 0.023364984530032995\n",
      "Class Dresses: Recall Difference = -0.61449864498645\n",
      "Class Water_Activities: Recall Difference = 0.018378378378378524\n",
      "Class Picnic: Recall Difference = -0.2909090909090909\n",
      "Class Rescue: Recall Difference = 0.13974683544303795\n",
      "Class Cheering: Recall Difference = -0.00020508613617720162\n",
      "Class Performance_And_Entertainment: Recall Difference = 0.05911917539824507\n",
      "Class Family: Recall Difference = -0.2666666666666666\n",
      "Data has been appended to No_Attenuation_07/teacher_validation_4.txt\n"
     ]
    },
    {
     "name": "stderr",
     "output_type": "stream",
     "text": [
      "100%|█████████████████████████████████████████████████████████████████████████| 162/162 [01:50<00:00,  1.47it/s]\n",
      "100%|███████████████████████████████████████████████████████████████████████████| 55/55 [00:18<00:00,  2.91it/s]\n"
     ]
    },
    {
     "name": "stdout",
     "output_type": "stream",
     "text": [
      "*****Epoch 4/300*****\n",
      "*****Train Loss: -1.714417 Val Loss: -0.492868*****\n",
      "*****Validation Accuracy: 59.19%*****\n",
      "*****Total Avg Disparity: 0.15707105771070604*****\n",
      "\n",
      "Class Team_Sports: Recall Difference = 0.03419162725521108\n",
      "Class Celebration: Recall Difference = -0.17906976744186048\n",
      "Class Parade: Recall Difference = 0.07003136583974912\n",
      "Class Waiter_Or_Waitress: Recall Difference = 0.004623208506703613\n",
      "Class Individual_Sports: Recall Difference = -0.0863622595789793\n",
      "Class Surgeons: Recall Difference = -0.10643015521064297\n",
      "Class Spa: Recall Difference = -0.5999999999999999\n",
      "Class Law_Enforcement: Recall Difference = 0.13713713713713738\n",
      "Class Business: Recall Difference = 0.017497066040755405\n",
      "Class Dresses: Recall Difference = -0.6754742547425474\n",
      "Class Water_Activities: Recall Difference = 0.06940540540540541\n",
      "Class Picnic: Recall Difference = -0.20000000000000004\n",
      "Class Rescue: Recall Difference = 0.06962025316455689\n",
      "Class Cheering: Recall Difference = 0.02440525020508616\n",
      "Class Performance_And_Entertainment: Recall Difference = -0.025555839509327938\n",
      "Class Family: Recall Difference = -0.21333333333333337\n",
      "Data has been appended to No_Attenuation_07/teacher_validation_4.txt\n"
     ]
    },
    {
     "name": "stderr",
     "output_type": "stream",
     "text": [
      "100%|█████████████████████████████████████████████████████████████████████████| 162/162 [01:50<00:00,  1.47it/s]\n",
      "100%|███████████████████████████████████████████████████████████████████████████| 55/55 [00:18<00:00,  2.92it/s]\n"
     ]
    },
    {
     "name": "stdout",
     "output_type": "stream",
     "text": [
      "*****Epoch 5/300*****\n",
      "*****Train Loss: -1.847358 Val Loss: -0.438419*****\n",
      "*****Validation Accuracy: 61.01%*****\n",
      "*****Total Avg Disparity: 0.1749135023230563*****\n",
      "\n",
      "Class Team_Sports: Recall Difference = 0.06051264085946173\n",
      "Class Celebration: Recall Difference = -0.07209302325581396\n",
      "Class Parade: Recall Difference = -0.000741374394068961\n",
      "Class Waiter_Or_Waitress: Recall Difference = -0.09061488673139173\n",
      "Class Individual_Sports: Recall Difference = -0.008632439800090652\n",
      "Class Surgeons: Recall Difference = -0.14855875831485577\n",
      "Class Spa: Recall Difference = -0.72\n",
      "Class Law_Enforcement: Recall Difference = 0.04954954954954971\n",
      "Class Business: Recall Difference = -0.05686546463245501\n",
      "Class Dresses: Recall Difference = -0.7181571815718157\n",
      "Class Water_Activities: Recall Difference = 0.09232432432432436\n",
      "Class Picnic: Recall Difference = -0.2363636363636364\n",
      "Class Rescue: Recall Difference = 0.07443037974683547\n",
      "Class Cheering: Recall Difference = -0.09803117309269888\n",
      "Class Performance_And_Entertainment: Recall Difference = -0.04174120453190222\n",
      "Class Family: Recall Difference = -0.33\n",
      "Data has been appended to No_Attenuation_07/teacher_validation_4.txt\n"
     ]
    },
    {
     "name": "stderr",
     "output_type": "stream",
     "text": [
      "100%|█████████████████████████████████████████████████████████████████████████| 162/162 [01:50<00:00,  1.47it/s]\n",
      "100%|███████████████████████████████████████████████████████████████████████████| 55/55 [00:19<00:00,  2.89it/s]\n"
     ]
    },
    {
     "name": "stdout",
     "output_type": "stream",
     "text": [
      "*****Epoch 6/300*****\n",
      "*****Train Loss: -1.913720 Val Loss: -0.224733*****\n",
      "*****Validation Accuracy: 61.39%*****\n",
      "*****Total Avg Disparity: 0.14538409448373907*****\n",
      "\n",
      "Class Team_Sports: Recall Difference = 0.10001751620248733\n",
      "Class Celebration: Recall Difference = 0.039534883720930225\n",
      "Class Parade: Recall Difference = 0.16122041631023665\n",
      "Class Waiter_Or_Waitress: Recall Difference = -0.024503005085529383\n",
      "Class Individual_Sports: Recall Difference = -0.0583068302286841\n",
      "Class Surgeons: Recall Difference = -0.028085735402808565\n",
      "Class Spa: Recall Difference = -0.72\n",
      "Class Law_Enforcement: Recall Difference = 0.034034034034034155\n",
      "Class Business: Recall Difference = 0.04203563426864387\n",
      "Class Dresses: Recall Difference = -0.5460704607046072\n",
      "Class Water_Activities: Recall Difference = 0.10637837837837849\n",
      "Class Picnic: Recall Difference = -0.10909090909090913\n",
      "Class Rescue: Recall Difference = 0.03772151898734172\n",
      "Class Cheering: Recall Difference = -0.07054963084495491\n",
      "Class Performance_And_Entertainment: Recall Difference = -0.023596558480279473\n",
      "Class Family: Recall Difference = -0.22499999999999998\n",
      "Data has been appended to No_Attenuation_07/teacher_validation_4.txt\n"
     ]
    },
    {
     "name": "stderr",
     "output_type": "stream",
     "text": [
      "100%|█████████████████████████████████████████████████████████████████████████| 162/162 [01:50<00:00,  1.47it/s]\n",
      "100%|███████████████████████████████████████████████████████████████████████████| 55/55 [00:18<00:00,  2.93it/s]\n"
     ]
    },
    {
     "name": "stdout",
     "output_type": "stream",
     "text": [
      "*****Epoch 7/300*****\n",
      "*****Train Loss: -1.947785 Val Loss: -0.216584*****\n",
      "*****Validation Accuracy: 61.88%*****\n",
      "*****Total Avg Disparity: 0.19955577591384044*****\n",
      "\n",
      "Class Team_Sports: Recall Difference = 0.04541367431540844\n",
      "Class Celebration: Recall Difference = 0.05813953488372098\n",
      "Class Parade: Recall Difference = 0.024579412603364603\n",
      "Class Waiter_Or_Waitress: Recall Difference = -0.12852519648636174\n",
      "Class Individual_Sports: Recall Difference = -0.008821747690443638\n",
      "Class Surgeons: Recall Difference = -0.07612712490761253\n",
      "Class Spa: Recall Difference = -0.7599999999999999\n",
      "Class Law_Enforcement: Recall Difference = 0.12187187187187187\n",
      "Class Business: Recall Difference = -0.08417795796436572\n",
      "Class Dresses: Recall Difference = -0.7012195121951219\n",
      "Class Water_Activities: Recall Difference = 0.06583783783783781\n",
      "Class Picnic: Recall Difference = -0.4545454545454546\n",
      "Class Rescue: Recall Difference = 0.01113924050632914\n",
      "Class Cheering: Recall Difference = -0.17637407711238723\n",
      "Class Performance_And_Entertainment: Recall Difference = 0.11278643836783381\n",
      "Class Family: Recall Difference = -0.3633333333333333\n",
      "Data has been appended to No_Attenuation_07/teacher_validation_4.txt\n"
     ]
    },
    {
     "name": "stderr",
     "output_type": "stream",
     "text": [
      "100%|█████████████████████████████████████████████████████████████████████████| 162/162 [01:50<00:00,  1.47it/s]\n",
      "100%|███████████████████████████████████████████████████████████████████████████| 55/55 [00:18<00:00,  2.90it/s]\n"
     ]
    },
    {
     "name": "stdout",
     "output_type": "stream",
     "text": [
      "*****Epoch 8/300*****\n",
      "*****Train Loss: -1.952620 Val Loss: -0.121436*****\n",
      "*****Validation Accuracy: 60.69%*****\n",
      "*****Total Avg Disparity: 0.18707049081743454*****\n",
      "\n",
      "Class Team_Sports: Recall Difference = 0.120277923746132\n",
      "Class Celebration: Recall Difference = -0.018604651162790642\n",
      "Class Parade: Recall Difference = 0.06592529227259769\n",
      "Class Waiter_Or_Waitress: Recall Difference = -0.09153952843273239\n",
      "Class Individual_Sports: Recall Difference = -0.08704376798424951\n",
      "Class Surgeons: Recall Difference = 0.09386548410938655\n",
      "Class Spa: Recall Difference = -0.62\n",
      "Class Law_Enforcement: Recall Difference = 0.13163163163163166\n",
      "Class Business: Recall Difference = -0.006508055051744399\n",
      "Class Dresses: Recall Difference = -0.6571815718157181\n",
      "Class Water_Activities: Recall Difference = 0.07935135135135152\n",
      "Class Picnic: Recall Difference = -0.4181818181818182\n",
      "Class Rescue: Recall Difference = 0.12911392405063296\n",
      "Class Cheering: Recall Difference = -0.1031583264971288\n",
      "Class Performance_And_Entertainment: Recall Difference = 0.007411193457705134\n",
      "Class Family: Recall Difference = -0.3633333333333333\n",
      "Data has been appended to No_Attenuation_07/teacher_validation_4.txt\n"
     ]
    },
    {
     "name": "stderr",
     "output_type": "stream",
     "text": [
      "100%|█████████████████████████████████████████████████████████████████████████| 162/162 [01:50<00:00,  1.47it/s]\n",
      "100%|███████████████████████████████████████████████████████████████████████████| 55/55 [00:18<00:00,  2.91it/s]\n"
     ]
    },
    {
     "name": "stdout",
     "output_type": "stream",
     "text": [
      "*****Epoch 9/300*****\n",
      "*****Train Loss: -1.983044 Val Loss: -0.061378*****\n",
      "*****Validation Accuracy: 62.05%*****\n",
      "*****Total Avg Disparity: 0.17127363178914778*****\n",
      "\n",
      "Class Team_Sports: Recall Difference = 0.06527704793600753\n",
      "Class Celebration: Recall Difference = 0.0255813953488373\n",
      "Class Parade: Recall Difference = -0.025491873396065068\n",
      "Class Waiter_Or_Waitress: Recall Difference = -0.024503005085529383\n",
      "Class Individual_Sports: Recall Difference = -0.11729516886263824\n",
      "Class Surgeons: Recall Difference = -0.057649667405765104\n",
      "Class Spa: Recall Difference = -0.6\n",
      "Class Law_Enforcement: Recall Difference = 0.11186186186186187\n",
      "Class Business: Recall Difference = -0.04971727301824391\n",
      "Class Dresses: Recall Difference = -0.7317073170731708\n",
      "Class Water_Activities: Recall Difference = 0.11740540540540534\n",
      "Class Picnic: Recall Difference = -0.38181818181818183\n",
      "Class Rescue: Recall Difference = 0.04101265822784811\n",
      "Class Cheering: Recall Difference = -0.036505332239540556\n",
      "Class Performance_And_Entertainment: Recall Difference = -0.006218587613936344\n",
      "Class Family: Recall Difference = -0.3483333333333333\n",
      "Data has been appended to No_Attenuation_07/teacher_validation_4.txt\n"
     ]
    },
    {
     "name": "stderr",
     "output_type": "stream",
     "text": [
      "100%|█████████████████████████████████████████████████████████████████████████| 162/162 [01:50<00:00,  1.47it/s]\n",
      "100%|███████████████████████████████████████████████████████████████████████████| 55/55 [00:19<00:00,  2.85it/s]\n"
     ]
    },
    {
     "name": "stdout",
     "output_type": "stream",
     "text": [
      "*****Epoch 10/300*****\n",
      "*****Train Loss: -1.972093 Val Loss: -0.055300*****\n",
      "*****Validation Accuracy: 61.73%*****\n",
      "*****Total Avg Disparity: 0.1843058248275676*****\n",
      "\n",
      "Class Team_Sports: Recall Difference = 0.10456005138086055\n",
      "Class Celebration: Recall Difference = 0.016279069767441867\n",
      "Class Parade: Recall Difference = 0.06649558026803526\n",
      "Class Waiter_Or_Waitress: Recall Difference = 0.014331946370781279\n",
      "Class Individual_Sports: Recall Difference = -0.06610631531122213\n",
      "Class Surgeons: Recall Difference = -0.03399852180339996\n",
      "Class Spa: Recall Difference = -0.7\n",
      "Class Law_Enforcement: Recall Difference = 0.1501501501501501\n",
      "Class Business: Recall Difference = -0.08161741171449904\n",
      "Class Dresses: Recall Difference = -0.552168021680217\n",
      "Class Water_Activities: Recall Difference = 0.11189189189189186\n",
      "Class Picnic: Recall Difference = -0.43636363636363634\n",
      "Class Rescue: Recall Difference = 0.15443037974683546\n",
      "Class Cheering: Recall Difference = -0.06972928630024611\n",
      "Class Performance_And_Entertainment: Recall Difference = -0.050770934491864816\n",
      "Class Family: Recall Difference = -0.3400000000000001\n",
      "Data has been appended to No_Attenuation_07/teacher_validation_4.txt\n"
     ]
    },
    {
     "name": "stderr",
     "output_type": "stream",
     "text": [
      "100%|█████████████████████████████████████████████████████████████████████████| 162/162 [01:50<00:00,  1.47it/s]\n",
      "100%|███████████████████████████████████████████████████████████████████████████| 55/55 [00:19<00:00,  2.85it/s]\n"
     ]
    },
    {
     "name": "stdout",
     "output_type": "stream",
     "text": [
      "*****Epoch 11/300*****\n",
      "*****Train Loss: -2.006346 Val Loss:  0.032882*****\n",
      "*****Validation Accuracy: 60.23%*****\n",
      "*****Total Avg Disparity: 0.15989612290677196*****\n",
      "\n",
      "Class Team_Sports: Recall Difference = 0.10175745898289235\n",
      "Class Celebration: Recall Difference = -0.023255813953488302\n",
      "Class Parade: Recall Difference = 0.04744796122041628\n",
      "Class Waiter_Or_Waitress: Recall Difference = -0.012944983818770406\n",
      "Class Individual_Sports: Recall Difference = -0.07553384825079501\n",
      "Class Surgeons: Recall Difference = -0.08795269770879527\n",
      "Class Spa: Recall Difference = -0.6799999999999999\n",
      "Class Law_Enforcement: Recall Difference = 0.16541541541541538\n",
      "Class Business: Recall Difference = -0.13325509442014294\n",
      "Class Dresses: Recall Difference = -0.6131436314363145\n",
      "Class Water_Activities: Recall Difference = 0.005945945945945996\n",
      "Class Picnic: Recall Difference = -0.14545454545454556\n",
      "Class Rescue: Recall Difference = -0.011645569620253204\n",
      "Class Cheering: Recall Difference = 0.027276456111566816\n",
      "Class Performance_And_Entertainment: Recall Difference = 0.10230854416900925\n",
      "Class Family: Recall Difference = -0.32500000000000007\n",
      "Data has been appended to No_Attenuation_07/teacher_validation_4.txt\n"
     ]
    },
    {
     "name": "stderr",
     "output_type": "stream",
     "text": [
      "100%|█████████████████████████████████████████████████████████████████████████| 162/162 [01:50<00:00,  1.47it/s]\n",
      "100%|███████████████████████████████████████████████████████████████████████████| 55/55 [00:19<00:00,  2.85it/s]\n"
     ]
    },
    {
     "name": "stdout",
     "output_type": "stream",
     "text": [
      "*****Epoch 12/300*****\n",
      "*****Train Loss: -2.023236 Val Loss: -0.037420*****\n",
      "*****Validation Accuracy: 62.05%*****\n",
      "*****Total Avg Disparity: 0.1862492373655395*****\n",
      "\n",
      "Class Team_Sports: Recall Difference = 0.06729724995620945\n",
      "Class Celebration: Recall Difference = -0.086046511627907\n",
      "Class Parade: Recall Difference = 0.1010550327915598\n",
      "Class Waiter_Or_Waitress: Recall Difference = -0.07212205270457706\n",
      "Class Individual_Sports: Recall Difference = -0.05906406179009549\n",
      "Class Surgeons: Recall Difference = -0.07612712490761264\n",
      "Class Spa: Recall Difference = -0.7799999999999999\n",
      "Class Law_Enforcement: Recall Difference = 0.1013513513513512\n",
      "Class Business: Recall Difference = -0.058892563746932636\n",
      "Class Dresses: Recall Difference = -0.7439024390243903\n",
      "Class Water_Activities: Recall Difference = 0.0713513513513514\n",
      "Class Picnic: Recall Difference = -0.29090909090909095\n",
      "Class Rescue: Recall Difference = 0.11974683544303794\n",
      "Class Cheering: Recall Difference = 0.057013945857259996\n",
      "Class Performance_And_Entertainment: Recall Difference = 0.07010818638725602\n",
      "Class Family: Recall Difference = -0.2250000000000001\n",
      "Data has been appended to No_Attenuation_07/teacher_validation_4.txt\n"
     ]
    },
    {
     "name": "stderr",
     "output_type": "stream",
     "text": [
      "100%|█████████████████████████████████████████████████████████████████████████| 162/162 [01:50<00:00,  1.47it/s]\n",
      "100%|███████████████████████████████████████████████████████████████████████████| 55/55 [00:18<00:00,  2.96it/s]\n"
     ]
    },
    {
     "name": "stdout",
     "output_type": "stream",
     "text": [
      "*****Epoch 13/300*****\n",
      "*****Train Loss: -2.005547 Val Loss:  0.066215*****\n",
      "*****Validation Accuracy: 59.91%*****\n",
      "*****Total Avg Disparity: 0.20623480730679*****\n",
      "\n",
      "Class Team_Sports: Recall Difference = 0.0555146844164186\n",
      "Class Celebration: Recall Difference = 0.06511627906976736\n",
      "Class Parade: Recall Difference = -0.08999144568006856\n",
      "Class Waiter_Or_Waitress: Recall Difference = -0.03143781784558497\n",
      "Class Individual_Sports: Recall Difference = -0.06353172800242313\n",
      "Class Surgeons: Recall Difference = -0.009608277900960804\n",
      "Class Spa: Recall Difference = -0.7999999999999999\n",
      "Class Law_Enforcement: Recall Difference = 0.25300300300300316\n",
      "Class Business: Recall Difference = -0.12098581030619865\n",
      "Class Dresses: Recall Difference = -0.7181571815718157\n",
      "Class Water_Activities: Recall Difference = 0.05481081081081085\n",
      "Class Picnic: Recall Difference = -0.4363636363636364\n",
      "Class Rescue: Recall Difference = 0.022531645569620257\n",
      "Class Cheering: Recall Difference = 0.02522559474979491\n",
      "Class Performance_And_Entertainment: Recall Difference = 0.11014566828520322\n",
      "Class Family: Recall Difference = -0.4433333333333333\n",
      "Data has been appended to No_Attenuation_07/teacher_validation_4.txt\n"
     ]
    },
    {
     "name": "stderr",
     "output_type": "stream",
     "text": [
      "100%|█████████████████████████████████████████████████████████████████████████| 162/162 [01:50<00:00,  1.47it/s]\n",
      "100%|███████████████████████████████████████████████████████████████████████████| 55/55 [00:18<00:00,  2.93it/s]\n"
     ]
    },
    {
     "name": "stdout",
     "output_type": "stream",
     "text": [
      "*****Epoch 14/300*****\n",
      "*****Train Loss: -2.014207 Val Loss:  0.120650*****\n",
      "*****Validation Accuracy: 60.06%*****\n",
      "*****Total Avg Disparity: 0.17559067565266312*****\n",
      "\n",
      "Class Team_Sports: Recall Difference = 0.0635371051556024\n",
      "Class Celebration: Recall Difference = -0.03023255813953485\n",
      "Class Parade: Recall Difference = 0.1160536070715712\n",
      "Class Waiter_Or_Waitress: Recall Difference = 0.004623208506703502\n",
      "Class Individual_Sports: Recall Difference = -0.1061638649098895\n",
      "Class Surgeons: Recall Difference = 0.06282335550628232\n",
      "Class Spa: Recall Difference = -0.6599999999999999\n",
      "Class Law_Enforcement: Recall Difference = 0.09984984984985001\n",
      "Class Business: Recall Difference = -0.01675024005121095\n",
      "Class Dresses: Recall Difference = -0.6646341463414634\n",
      "Class Water_Activities: Recall Difference = 0.054270270270270315\n",
      "Class Picnic: Recall Difference = -0.36363636363636365\n",
      "Class Rescue: Recall Difference = 0.13974683544303793\n",
      "Class Cheering: Recall Difference = -0.06972928630024605\n",
      "Class Performance_And_Entertainment: Recall Difference = -0.010733452593917614\n",
      "Class Family: Recall Difference = -0.3466666666666666\n",
      "Data has been appended to No_Attenuation_07/teacher_validation_4.txt\n"
     ]
    },
    {
     "name": "stderr",
     "output_type": "stream",
     "text": [
      "100%|█████████████████████████████████████████████████████████████████████████| 162/162 [01:50<00:00,  1.47it/s]\n",
      "100%|███████████████████████████████████████████████████████████████████████████| 55/55 [00:18<00:00,  2.92it/s]\n"
     ]
    },
    {
     "name": "stdout",
     "output_type": "stream",
     "text": [
      "*****Epoch 15/300*****\n",
      "*****Train Loss: -2.037929 Val Loss:  0.281143*****\n",
      "*****Validation Accuracy: 59.71%*****\n",
      "*****Total Avg Disparity: 0.1864408808267249*****\n",
      "\n",
      "Class Team_Sports: Recall Difference = 0.09041863723944643\n",
      "Class Celebration: Recall Difference = -0.11395348837209296\n",
      "Class Parade: Recall Difference = 0.0654690618762474\n",
      "Class Waiter_Or_Waitress: Recall Difference = -0.1294498381877024\n",
      "Class Individual_Sports: Recall Difference = -0.10245343025897324\n",
      "Class Surgeons: Recall Difference = -0.09386548410938655\n",
      "Class Spa: Recall Difference = -0.6799999999999999\n",
      "Class Law_Enforcement: Recall Difference = 0.13213213213213226\n",
      "Class Business: Recall Difference = -0.12023898431665425\n",
      "Class Dresses: Recall Difference = -0.4607046070460705\n",
      "Class Water_Activities: Recall Difference = 0.16486486486486496\n",
      "Class Picnic: Recall Difference = -0.4545454545454546\n",
      "Class Rescue: Recall Difference = 0.014430379746835476\n",
      "Class Cheering: Recall Difference = -0.08429040196882692\n",
      "Class Performance_And_Entertainment: Recall Difference = -0.02623732856290989\n",
      "Class Family: Recall Difference = -0.2500000000000001\n",
      "Data has been appended to No_Attenuation_07/teacher_validation_4.txt\n"
     ]
    },
    {
     "name": "stderr",
     "output_type": "stream",
     "text": [
      "100%|█████████████████████████████████████████████████████████████████████████| 162/162 [01:50<00:00,  1.47it/s]\n",
      "100%|███████████████████████████████████████████████████████████████████████████| 55/55 [00:18<00:00,  2.93it/s]\n"
     ]
    },
    {
     "name": "stdout",
     "output_type": "stream",
     "text": [
      "*****Epoch 16/300*****\n",
      "*****Train Loss: -2.045628 Val Loss:  0.202035*****\n",
      "*****Validation Accuracy: 61.47%*****\n",
      "*****Total Avg Disparity: 0.18035025305355756*****\n",
      "\n",
      "Class Team_Sports: Recall Difference = 0.0782390377766099\n",
      "Class Celebration: Recall Difference = -0.0906976744186046\n",
      "Class Parade: Recall Difference = 0.13863701169090414\n",
      "Class Waiter_Or_Waitress: Recall Difference = -0.04299583911234406\n",
      "Class Individual_Sports: Recall Difference = -0.12005906406179012\n",
      "Class Surgeons: Recall Difference = -0.057649667405765104\n",
      "Class Spa: Recall Difference = -0.6399999999999999\n",
      "Class Law_Enforcement: Recall Difference = 0.04429429429429421\n",
      "Class Business: Recall Difference = -0.04331590739357727\n",
      "Class Dresses: Recall Difference = -0.6815718157181574\n",
      "Class Water_Activities: Recall Difference = 0.09340540540540543\n",
      "Class Picnic: Recall Difference = -0.23636363636363636\n",
      "Class Rescue: Recall Difference = 0.05316455696202527\n",
      "Class Cheering: Recall Difference = -0.14376538146021328\n",
      "Class Performance_And_Entertainment: Recall Difference = -0.028111423460260687\n",
      "Class Family: Recall Difference = -0.3933333333333333\n",
      "Data has been appended to No_Attenuation_07/teacher_validation_4.txt\n"
     ]
    },
    {
     "name": "stderr",
     "output_type": "stream",
     "text": [
      "100%|█████████████████████████████████████████████████████████████████████████| 162/162 [01:50<00:00,  1.47it/s]\n",
      "100%|███████████████████████████████████████████████████████████████████████████| 55/55 [00:18<00:00,  2.95it/s]\n"
     ]
    },
    {
     "name": "stdout",
     "output_type": "stream",
     "text": [
      "*****Epoch 17/300*****\n",
      "*****Train Loss: -2.012903 Val Loss:  0.116148*****\n",
      "*****Validation Accuracy: 60.66%*****\n",
      "*****Total Avg Disparity: 0.18959167648861483*****\n",
      "\n",
      "Class Team_Sports: Recall Difference = 0.042832953815612806\n",
      "Class Celebration: Recall Difference = 0.07441860465116273\n",
      "Class Parade: Recall Difference = 0.04471057884231544\n",
      "Class Waiter_Or_Waitress: Recall Difference = -0.021729079981507304\n",
      "Class Individual_Sports: Recall Difference = -0.11578070573981525\n",
      "Class Surgeons: Recall Difference = 0.11751662971175164\n",
      "Class Spa: Recall Difference = -0.6399999999999999\n",
      "Class Law_Enforcement: Recall Difference = 0.09459459459459463\n",
      "Class Business: Recall Difference = -0.10284860770297666\n",
      "Class Dresses: Recall Difference = -0.6998644986449865\n",
      "Class Water_Activities: Recall Difference = 0.10637837837837838\n",
      "Class Picnic: Recall Difference = -0.4363636363636364\n",
      "Class Rescue: Recall Difference = 0.031139240506329047\n",
      "Class Cheering: Recall Difference = -0.04224774405250209\n",
      "Class Performance_And_Entertainment: Recall Difference = 0.07470823749893529\n",
      "Class Family: Recall Difference = -0.3883333333333333\n",
      "Data has been appended to No_Attenuation_07/teacher_validation_4.txt\n"
     ]
    },
    {
     "name": "stderr",
     "output_type": "stream",
     "text": [
      "100%|█████████████████████████████████████████████████████████████████████████| 162/162 [01:50<00:00,  1.47it/s]\n",
      "100%|███████████████████████████████████████████████████████████████████████████| 55/55 [00:18<00:00,  2.93it/s]\n"
     ]
    },
    {
     "name": "stdout",
     "output_type": "stream",
     "text": [
      "*****Epoch 18/300*****\n",
      "*****Train Loss: -2.011657 Val Loss:  0.151034*****\n",
      "*****Validation Accuracy: 61.24%*****\n",
      "*****Total Avg Disparity: 0.19431356044978282*****\n",
      "\n",
      "Class Team_Sports: Recall Difference = 0.042155660652770655\n",
      "Class Celebration: Recall Difference = 0.05116279069767443\n",
      "Class Parade: Recall Difference = -0.012147134302822882\n",
      "Class Waiter_Or_Waitress: Recall Difference = -0.014794267221451718\n",
      "Class Individual_Sports: Recall Difference = -0.12301226715129465\n",
      "Class Surgeons: Recall Difference = -0.08203991130820398\n",
      "Class Spa: Recall Difference = -0.6399999999999999\n",
      "Class Law_Enforcement: Recall Difference = 0.12312312312312307\n",
      "Class Business: Recall Difference = -0.0737223941107436\n",
      "Class Dresses: Recall Difference = -0.7804878048780488\n",
      "Class Water_Activities: Recall Difference = 0.08432432432432413\n",
      "Class Picnic: Recall Difference = -0.509090909090909\n",
      "Class Rescue: Recall Difference = 0.1356962025316456\n",
      "Class Cheering: Recall Difference = -0.07424118129614443\n",
      "Class Performance_And_Entertainment: Recall Difference = -0.04301899650736857\n",
      "Class Family: Recall Difference = -0.32\n",
      "Data has been appended to No_Attenuation_07/teacher_validation_4.txt\n"
     ]
    },
    {
     "name": "stderr",
     "output_type": "stream",
     "text": [
      "100%|█████████████████████████████████████████████████████████████████████████| 162/162 [01:50<00:00,  1.47it/s]\n",
      "100%|███████████████████████████████████████████████████████████████████████████| 55/55 [00:18<00:00,  2.93it/s]\n"
     ]
    },
    {
     "name": "stdout",
     "output_type": "stream",
     "text": [
      "*****Epoch 19/300*****\n",
      "*****Train Loss: -2.019995 Val Loss:  0.143666*****\n",
      "*****Validation Accuracy: 60.38%*****\n",
      "*****Total Avg Disparity: 0.15892397463606842*****\n",
      "\n",
      "Class Team_Sports: Recall Difference = 0.1051789572020786\n",
      "Class Celebration: Recall Difference = 0.020930232558139583\n",
      "Class Parade: Recall Difference = -0.03011120615911045\n",
      "Class Waiter_Or_Waitress: Recall Difference = 0.006472491909384925\n",
      "Class Individual_Sports: Recall Difference = -0.031841587157352635\n",
      "Class Surgeons: Recall Difference = -0.08203991130820415\n",
      "Class Spa: Recall Difference = -0.7\n",
      "Class Law_Enforcement: Recall Difference = 0.07132132132132141\n",
      "Class Business: Recall Difference = -0.009068601301611079\n",
      "Class Dresses: Recall Difference = -0.6951219512195123\n",
      "Class Water_Activities: Recall Difference = 0.09340540540540543\n",
      "Class Picnic: Recall Difference = -0.2545454545454545\n",
      "Class Rescue: Recall Difference = 0.035696202531645516\n",
      "Class Cheering: Recall Difference = -0.10459392945036916\n",
      "Class Performance_And_Entertainment: Recall Difference = 0.07078967544083825\n",
      "Class Family: Recall Difference = -0.23166666666666674\n",
      "Data has been appended to No_Attenuation_07/teacher_validation_4.txt\n"
     ]
    },
    {
     "name": "stderr",
     "output_type": "stream",
     "text": [
      "100%|█████████████████████████████████████████████████████████████████████████| 162/162 [01:50<00:00,  1.47it/s]\n",
      "100%|███████████████████████████████████████████████████████████████████████████| 55/55 [00:18<00:00,  2.95it/s]\n"
     ]
    },
    {
     "name": "stdout",
     "output_type": "stream",
     "text": [
      "*****Epoch 20/300*****\n",
      "*****Train Loss: -2.020659 Val Loss:  0.171940*****\n",
      "*****Validation Accuracy: 61.82%*****\n",
      "*****Total Avg Disparity: 0.1791125626259923*****\n",
      "\n",
      "Class Team_Sports: Recall Difference = 0.06179716237519717\n",
      "Class Celebration: Recall Difference = -0.06279069767441858\n",
      "Class Parade: Recall Difference = 0.014257199885942318\n",
      "Class Waiter_Or_Waitress: Recall Difference = 0.014331946370781279\n",
      "Class Individual_Sports: Recall Difference = -0.13338633954263213\n",
      "Class Surgeons: Recall Difference = -0.04508499630450835\n",
      "Class Spa: Recall Difference = -0.6399999999999999\n",
      "Class Law_Enforcement: Recall Difference = 0.14214214214214227\n",
      "Class Business: Recall Difference = -0.08471140509975461\n",
      "Class Dresses: Recall Difference = -0.6571815718157181\n",
      "Class Water_Activities: Recall Difference = 0.060864864864864976\n",
      "Class Picnic: Recall Difference = -0.38181818181818183\n",
      "Class Rescue: Recall Difference = -0.043544303797468376\n",
      "Class Cheering: Recall Difference = -0.06480721903199343\n",
      "Class Performance_And_Entertainment: Recall Difference = 0.1340829712922736\n",
      "Class Family: Recall Difference = -0.32500000000000007\n",
      "Data has been appended to No_Attenuation_07/teacher_validation_4.txt\n"
     ]
    },
    {
     "name": "stderr",
     "output_type": "stream",
     "text": [
      "100%|█████████████████████████████████████████████████████████████████████████| 162/162 [01:50<00:00,  1.47it/s]\n",
      "100%|███████████████████████████████████████████████████████████████████████████| 55/55 [00:19<00:00,  2.89it/s]\n"
     ]
    },
    {
     "name": "stdout",
     "output_type": "stream",
     "text": [
      "*****Epoch 21/300*****\n",
      "*****Train Loss: -2.060841 Val Loss:  0.267236*****\n",
      "*****Validation Accuracy: 62.83%*****\n",
      "*****Total Avg Disparity: 0.1507214421552175*****\n",
      "\n",
      "Class Team_Sports: Recall Difference = 0.0903602498978221\n",
      "Class Celebration: Recall Difference = 0.016279069767441867\n",
      "Class Parade: Recall Difference = 0.03028229255774173\n",
      "Class Waiter_Or_Waitress: Recall Difference = -0.05362921867776238\n",
      "Class Individual_Sports: Recall Difference = -0.10835983643798275\n",
      "Class Surgeons: Recall Difference = -0.02734663710273455\n",
      "Class Spa: Recall Difference = -0.6\n",
      "Class Law_Enforcement: Recall Difference = 0.08133133133133141\n",
      "Class Business: Recall Difference = -0.1281340019204097\n",
      "Class Dresses: Recall Difference = -0.6388888888888891\n",
      "Class Water_Activities: Recall Difference = 0.044324324324324316\n",
      "Class Picnic: Recall Difference = -0.10909090909090907\n",
      "Class Rescue: Recall Difference = 0.07645569620253165\n",
      "Class Cheering: Recall Difference = -0.06993437243642331\n",
      "Class Performance_And_Entertainment: Recall Difference = -0.028792912513842805\n",
      "Class Family: Recall Difference = -0.30833333333333346\n",
      "Data has been appended to No_Attenuation_07/teacher_validation_4.txt\n"
     ]
    },
    {
     "name": "stderr",
     "output_type": "stream",
     "text": [
      "100%|█████████████████████████████████████████████████████████████████████████| 162/162 [01:50<00:00,  1.47it/s]\n",
      "100%|███████████████████████████████████████████████████████████████████████████| 55/55 [00:18<00:00,  2.93it/s]\n"
     ]
    },
    {
     "name": "stdout",
     "output_type": "stream",
     "text": [
      "*****Epoch 22/300*****\n",
      "*****Train Loss: -2.073835 Val Loss:  0.282600*****\n",
      "*****Validation Accuracy: 61.07%*****\n",
      "*****Total Avg Disparity: 0.16159149608609144*****\n",
      "\n",
      "Class Team_Sports: Recall Difference = 0.12740117942430085\n",
      "Class Celebration: Recall Difference = 0.023255813953488358\n",
      "Class Parade: Recall Difference = 0.034388366124893044\n",
      "Class Waiter_Or_Waitress: Recall Difference = -0.021729079981507304\n",
      "Class Individual_Sports: Recall Difference = -0.11578070573981525\n",
      "Class Surgeons: Recall Difference = -0.0761271249076127\n",
      "Class Spa: Recall Difference = -0.52\n",
      "Class Law_Enforcement: Recall Difference = 0.07782782782782793\n",
      "Class Business: Recall Difference = -0.10284860770297666\n",
      "Class Dresses: Recall Difference = -0.6585365853658537\n",
      "Class Water_Activities: Recall Difference = 0.1303783783783784\n",
      "Class Picnic: Recall Difference = -0.14545454545454545\n",
      "Class Rescue: Recall Difference = 0.12101265822784812\n",
      "Class Cheering: Recall Difference = -0.1017227235438885\n",
      "Class Performance_And_Entertainment: Recall Difference = 0.030667007411193492\n",
      "Class Family: Recall Difference = -0.29833333333333334\n",
      "Data has been appended to No_Attenuation_07/teacher_validation_4.txt\n"
     ]
    },
    {
     "name": "stderr",
     "output_type": "stream",
     "text": [
      "100%|█████████████████████████████████████████████████████████████████████████| 162/162 [01:50<00:00,  1.47it/s]\n",
      "100%|███████████████████████████████████████████████████████████████████████████| 55/55 [00:18<00:00,  2.95it/s]\n"
     ]
    },
    {
     "name": "stdout",
     "output_type": "stream",
     "text": [
      "*****Epoch 23/300*****\n",
      "*****Train Loss: -2.046932 Val Loss:  0.289775*****\n",
      "*****Validation Accuracy: 58.96%*****\n",
      "*****Total Avg Disparity: 0.17343753440462534*****\n",
      "\n",
      "Class Team_Sports: Recall Difference = 0.06679511881824018\n",
      "Class Celebration: Recall Difference = -0.08837209302325583\n",
      "Class Parade: Recall Difference = -0.003992015968063756\n",
      "Class Waiter_Or_Waitress: Recall Difference = -0.10032362459546929\n",
      "Class Individual_Sports: Recall Difference = -0.07038467363319723\n",
      "Class Surgeons: Recall Difference = 0.03917220990391723\n",
      "Class Spa: Recall Difference = -0.36\n",
      "Class Law_Enforcement: Recall Difference = 0.0745745745745745\n",
      "Class Business: Recall Difference = -0.14296383228422066\n",
      "Class Dresses: Recall Difference = -0.725609756097561\n",
      "Class Water_Activities: Recall Difference = 0.12486486486486492\n",
      "Class Picnic: Recall Difference = -0.5454545454545455\n",
      "Class Rescue: Recall Difference = -0.050886075949367005\n",
      "Class Cheering: Recall Difference = 0.05045118949958988\n",
      "Class Performance_And_Entertainment: Recall Difference = 0.0378226424738054\n",
      "Class Family: Recall Difference = -0.29333333333333333\n",
      "Data has been appended to No_Attenuation_07/teacher_validation_4.txt\n"
     ]
    },
    {
     "name": "stderr",
     "output_type": "stream",
     "text": [
      "100%|█████████████████████████████████████████████████████████████████████████| 162/162 [01:50<00:00,  1.47it/s]\n",
      "100%|███████████████████████████████████████████████████████████████████████████| 55/55 [00:18<00:00,  2.91it/s]\n"
     ]
    },
    {
     "name": "stdout",
     "output_type": "stream",
     "text": [
      "*****Epoch 24/300*****\n",
      "*****Train Loss: -2.038162 Val Loss:  0.385184*****\n",
      "*****Validation Accuracy: 58.96%*****\n",
      "*****Total Avg Disparity: 0.15951746232033925*****\n",
      "\n",
      "Class Team_Sports: Recall Difference = 0.08895895369883788\n",
      "Class Celebration: Recall Difference = -0.0720930232558139\n",
      "Class Parade: Recall Difference = -0.008611348731109136\n",
      "Class Waiter_Or_Waitress: Recall Difference = -0.1266759130836801\n",
      "Class Individual_Sports: Recall Difference = -0.085226412236862\n",
      "Class Surgeons: Recall Difference = -0.03917220990391712\n",
      "Class Spa: Recall Difference = -0.6000000000000001\n",
      "Class Law_Enforcement: Recall Difference = 0.19919919919919932\n",
      "Class Business: Recall Difference = -0.18051851061559787\n",
      "Class Dresses: Recall Difference = -0.44105691056910573\n",
      "Class Water_Activities: Recall Difference = 0.07189189189189193\n",
      "Class Picnic: Recall Difference = -0.03636363636363643\n",
      "Class Rescue: Recall Difference = 0.14177215189873416\n",
      "Class Cheering: Recall Difference = 0.012920426579163258\n",
      "Class Performance_And_Entertainment: Recall Difference = 0.026152142431212166\n",
      "Class Family: Recall Difference = -0.4216666666666667\n",
      "Data has been appended to No_Attenuation_07/teacher_validation_4.txt\n"
     ]
    },
    {
     "name": "stderr",
     "output_type": "stream",
     "text": [
      "100%|█████████████████████████████████████████████████████████████████████████| 162/162 [01:50<00:00,  1.47it/s]\n",
      "100%|███████████████████████████████████████████████████████████████████████████| 55/55 [00:18<00:00,  2.91it/s]\n"
     ]
    },
    {
     "name": "stdout",
     "output_type": "stream",
     "text": [
      "*****Epoch 25/300*****\n",
      "*****Train Loss: -2.013146 Val Loss:  0.389015*****\n",
      "*****Validation Accuracy: 59.57%*****\n",
      "*****Total Avg Disparity: 0.17511529076804377*****\n",
      "\n",
      "Class Team_Sports: Recall Difference = 0.12431832778653595\n",
      "Class Celebration: Recall Difference = 0.006976744186046546\n",
      "Class Parade: Recall Difference = 0.04716281722269733\n",
      "Class Waiter_Or_Waitress: Recall Difference = 0.05316689782709194\n",
      "Class Individual_Sports: Recall Difference = -0.06239588066030599\n",
      "Class Surgeons: Recall Difference = -0.17368810051736877\n",
      "Class Spa: Recall Difference = -0.6200000000000001\n",
      "Class Law_Enforcement: Recall Difference = 0.09809809809809811\n",
      "Class Business: Recall Difference = -0.07574949322522134\n",
      "Class Dresses: Recall Difference = -0.7378048780487805\n",
      "Class Water_Activities: Recall Difference = 0.10691891891891891\n",
      "Class Picnic: Recall Difference = -0.2545454545454546\n",
      "Class Rescue: Recall Difference = 0.1124050632911392\n",
      "Class Cheering: Recall Difference = -0.06624282198523379\n",
      "Class Performance_And_Entertainment: Recall Difference = 0.07070448930914053\n",
      "Class Family: Recall Difference = -0.1916666666666667\n",
      "Data has been appended to No_Attenuation_07/teacher_validation_4.txt\n"
     ]
    },
    {
     "name": "stderr",
     "output_type": "stream",
     "text": [
      "100%|█████████████████████████████████████████████████████████████████████████| 162/162 [01:50<00:00,  1.47it/s]\n",
      "100%|███████████████████████████████████████████████████████████████████████████| 55/55 [00:18<00:00,  3.01it/s]\n"
     ]
    },
    {
     "name": "stdout",
     "output_type": "stream",
     "text": [
      "*****Epoch 26/300*****\n",
      "*****Train Loss: -2.038816 Val Loss:  0.303722*****\n",
      "*****Validation Accuracy: 59.71%*****\n",
      "*****Total Avg Disparity: 0.1879601301185611*****\n",
      "\n",
      "Class Team_Sports: Recall Difference = 0.05669410871723013\n",
      "Class Celebration: Recall Difference = -0.06279069767441864\n",
      "Class Parade: Recall Difference = 0.05178214998574282\n",
      "Class Waiter_Or_Waitress: Recall Difference = 0.024040684234858833\n",
      "Class Individual_Sports: Recall Difference = -0.06372103589277589\n",
      "Class Surgeons: Recall Difference = -0.033998521803399795\n",
      "Class Spa: Recall Difference = -0.7599999999999999\n",
      "Class Law_Enforcement: Recall Difference = 0.10810810810810811\n",
      "Class Business: Recall Difference = -0.0859916782246879\n",
      "Class Dresses: Recall Difference = -0.6402439024390244\n",
      "Class Water_Activities: Recall Difference = 0.12486486486486503\n",
      "Class Picnic: Recall Difference = -0.38181818181818183\n",
      "Class Rescue: Recall Difference = -0.00354430379746834\n",
      "Class Cheering: Recall Difference = -0.09228876127973751\n",
      "Class Performance_And_Entertainment: Recall Difference = 0.0908084163898118\n",
      "Class Family: Recall Difference = -0.42666666666666664\n",
      "Data has been appended to No_Attenuation_07/teacher_validation_4.txt\n"
     ]
    },
    {
     "name": "stderr",
     "output_type": "stream",
     "text": [
      "100%|█████████████████████████████████████████████████████████████████████████| 162/162 [01:50<00:00,  1.47it/s]\n",
      "100%|███████████████████████████████████████████████████████████████████████████| 55/55 [00:18<00:00,  2.93it/s]\n"
     ]
    },
    {
     "name": "stdout",
     "output_type": "stream",
     "text": [
      "*****Epoch 27/300*****\n",
      "*****Train Loss: -2.034234 Val Loss:  0.374111*****\n",
      "*****Validation Accuracy: 59.83%*****\n",
      "*****Total Avg Disparity: 0.16495036923584783*****\n",
      "\n",
      "Class Team_Sports: Recall Difference = 0.04905704443276704\n",
      "Class Celebration: Recall Difference = -0.027906976744186074\n",
      "Class Parade: Recall Difference = 0.050983746792130025\n",
      "Class Waiter_Or_Waitress: Recall Difference = 0.12020342117429472\n",
      "Class Individual_Sports: Recall Difference = -0.07133121308496149\n",
      "Class Surgeons: Recall Difference = -0.11899482631189945\n",
      "Class Spa: Recall Difference = -0.6799999999999999\n",
      "Class Law_Enforcement: Recall Difference = 0.0915915915915918\n",
      "Class Business: Recall Difference = -0.08855222447455469\n",
      "Class Dresses: Recall Difference = -0.44241192411924113\n",
      "Class Water_Activities: Recall Difference = 0.13891891891891883\n",
      "Class Picnic: Recall Difference = -0.16363636363636375\n",
      "Class Rescue: Recall Difference = 0.11645569620253157\n",
      "Class Cheering: Recall Difference = -0.0750615258408531\n",
      "Class Performance_And_Entertainment: Recall Difference = 0.03910043444927169\n",
      "Class Family: Recall Difference = -0.365\n",
      "Data has been appended to No_Attenuation_07/teacher_validation_4.txt\n"
     ]
    },
    {
     "name": "stderr",
     "output_type": "stream",
     "text": [
      "100%|█████████████████████████████████████████████████████████████████████████| 162/162 [01:50<00:00,  1.47it/s]\n",
      "100%|███████████████████████████████████████████████████████████████████████████| 55/55 [00:18<00:00,  2.94it/s]\n"
     ]
    },
    {
     "name": "stdout",
     "output_type": "stream",
     "text": [
      "*****Epoch 28/300*****\n",
      "*****Train Loss: -2.067253 Val Loss:  0.408685*****\n",
      "*****Validation Accuracy: 59.19%*****\n",
      "*****Total Avg Disparity: 0.170406710803029*****\n",
      "\n",
      "Class Team_Sports: Recall Difference = 0.07117416944006538\n",
      "Class Celebration: Recall Difference = 0.023255813953488413\n",
      "Class Parade: Recall Difference = -0.0020530367835758234\n",
      "Class Waiter_Or_Waitress: Recall Difference = -0.03236245954692574\n",
      "Class Individual_Sports: Recall Difference = -0.05440708768741476\n",
      "Class Surgeons: Recall Difference = -0.05838876570583884\n",
      "Class Spa: Recall Difference = -0.58\n",
      "Class Law_Enforcement: Recall Difference = 0.06281281281281281\n",
      "Class Business: Recall Difference = -0.09698068921369901\n",
      "Class Dresses: Recall Difference = -0.6388888888888891\n",
      "Class Water_Activities: Recall Difference = 0.16400000000000003\n",
      "Class Picnic: Recall Difference = -0.36363636363636376\n",
      "Class Rescue: Recall Difference = 0.0017721518987341423\n",
      "Class Cheering: Recall Difference = -0.19298605414273995\n",
      "Class Performance_And_Entertainment: Recall Difference = -0.01712241247124968\n",
      "Class Family: Recall Difference = -0.36666666666666664\n",
      "Data has been appended to No_Attenuation_07/teacher_validation_4.txt\n"
     ]
    },
    {
     "name": "stderr",
     "output_type": "stream",
     "text": [
      "100%|█████████████████████████████████████████████████████████████████████████| 162/162 [01:50<00:00,  1.47it/s]\n",
      "100%|███████████████████████████████████████████████████████████████████████████| 55/55 [00:19<00:00,  2.88it/s]\n"
     ]
    },
    {
     "name": "stdout",
     "output_type": "stream",
     "text": [
      "*****Epoch 29/300*****\n",
      "*****Train Loss: -2.054683 Val Loss:  0.246570*****\n",
      "*****Validation Accuracy: 60.72%*****\n",
      "*****Total Avg Disparity: 0.15341218984882143*****\n",
      "\n",
      "Class Team_Sports: Recall Difference = 0.05399661353418572\n",
      "Class Celebration: Recall Difference = 0.018604651162790697\n",
      "Class Parade: Recall Difference = 0.0763045337895637\n",
      "Class Waiter_Or_Waitress: Recall Difference = -0.06056403143781797\n",
      "Class Individual_Sports: Recall Difference = -0.18029683477207337\n",
      "Class Surgeons: Recall Difference = -0.009608277900960749\n",
      "Class Spa: Recall Difference = -0.5399999999999999\n",
      "Class Law_Enforcement: Recall Difference = 0.10310310310310311\n",
      "Class Business: Recall Difference = -0.05889256374693275\n",
      "Class Dresses: Recall Difference = -0.7439024390243903\n",
      "Class Water_Activities: Recall Difference = 0.1168648648648648\n",
      "Class Picnic: Recall Difference = -0.07272727272727281\n",
      "Class Rescue: Recall Difference = -0.009620253164557058\n",
      "Class Cheering: Recall Difference = -0.05250205086136178\n",
      "Class Performance_And_Entertainment: Recall Difference = -0.012607547491268523\n",
      "Class Family: Recall Difference = -0.345\n",
      "Data has been appended to No_Attenuation_07/teacher_validation_4.txt\n"
     ]
    },
    {
     "name": "stderr",
     "output_type": "stream",
     "text": [
      "100%|█████████████████████████████████████████████████████████████████████████| 162/162 [01:50<00:00,  1.47it/s]\n",
      "100%|███████████████████████████████████████████████████████████████████████████| 55/55 [00:18<00:00,  2.95it/s]\n"
     ]
    },
    {
     "name": "stdout",
     "output_type": "stream",
     "text": [
      "*****Epoch 30/300*****\n",
      "*****Train Loss: -2.069347 Val Loss:  0.380810*****\n",
      "*****Validation Accuracy: 60.55%*****\n",
      "*****Total Avg Disparity: 0.17198220090076863*****\n",
      "\n",
      "Class Team_Sports: Recall Difference = 0.07975710865884267\n",
      "Class Celebration: Recall Difference = 0.09302325581395349\n",
      "Class Parade: Recall Difference = 0.058055317935557516\n",
      "Class Waiter_Or_Waitress: Recall Difference = -0.04022191400832176\n",
      "Class Individual_Sports: Recall Difference = -0.08000151446312276\n",
      "Class Surgeons: Recall Difference = -0.11308203991130816\n",
      "Class Spa: Recall Difference = -0.84\n",
      "Class Law_Enforcement: Recall Difference = 0.04404404404404416\n",
      "Class Business: Recall Difference = -0.11511789181692095\n",
      "Class Dresses: Recall Difference = -0.7378048780487805\n",
      "Class Water_Activities: Recall Difference = 0.09589189189189207\n",
      "Class Picnic: Recall Difference = -0.12727272727272726\n",
      "Class Rescue: Recall Difference = 0.03443037974683544\n",
      "Class Cheering: Recall Difference = -0.02707136997538967\n",
      "Class Performance_And_Entertainment: Recall Difference = -0.012607547491268412\n",
      "Class Family: Recall Difference = -0.25333333333333324\n",
      "Data has been appended to No_Attenuation_07/teacher_validation_4.txt\n"
     ]
    },
    {
     "name": "stderr",
     "output_type": "stream",
     "text": [
      "100%|█████████████████████████████████████████████████████████████████████████| 162/162 [01:50<00:00,  1.47it/s]\n",
      "100%|███████████████████████████████████████████████████████████████████████████| 55/55 [00:18<00:00,  2.91it/s]\n"
     ]
    },
    {
     "name": "stdout",
     "output_type": "stream",
     "text": [
      "*****Epoch 31/300*****\n",
      "*****Train Loss: -2.064860 Val Loss:  0.428899*****\n",
      "*****Validation Accuracy: 60.49%*****\n",
      "*****Total Avg Disparity: 0.17813056645983033*****\n",
      "\n",
      "Class Team_Sports: Recall Difference = 0.12167921994511588\n",
      "Class Celebration: Recall Difference = -0.12558139534883722\n",
      "Class Parade: Recall Difference = 0.06244653550042778\n",
      "Class Waiter_Or_Waitress: Recall Difference = 0.08136846971798417\n",
      "Class Individual_Sports: Recall Difference = -0.10074965924579726\n",
      "Class Surgeons: Recall Difference = -0.18551367331855134\n",
      "Class Spa: Recall Difference = -0.6599999999999999\n",
      "Class Law_Enforcement: Recall Difference = 0.022272272272272353\n",
      "Class Business: Recall Difference = -0.1383761869198763\n",
      "Class Dresses: Recall Difference = -0.7195121951219512\n",
      "Class Water_Activities: Recall Difference = 0.11491891891891892\n",
      "Class Picnic: Recall Difference = -0.10909090909090907\n",
      "Class Rescue: Recall Difference = 0.08177215189873416\n",
      "Class Cheering: Recall Difference = -0.01538146021328951\n",
      "Class Performance_And_Entertainment: Recall Difference = 0.00809268251128703\n",
      "Class Family: Recall Difference = -0.3033333333333333\n",
      "Early stopping\n"
     ]
    },
    {
     "data": {
      "image/png": "[encoded data removed]",
      "text/plain": [
       "<Figure size 640x480 with 1 Axes>"
      ]
     },
     "metadata": {},
     "output_type": "display_data"
    },
    {
     "name": "stdout",
     "output_type": "stream",
     "text": [
      "Finished Training Teacher for lambda val of 4\n",
      "Teacher weights and architecture saved and exported for lambda: 4\n"
     ]
    },
    {
     "name": "stderr",
     "output_type": "stream",
     "text": [
      "100%|█████████████████████████████████████████████████████████████████████████| 162/162 [01:50<00:00,  1.47it/s]\n",
      "100%|███████████████████████████████████████████████████████████████████████████| 55/55 [00:19<00:00,  2.89it/s]\n"
     ]
    },
    {
     "name": "stdout",
     "output_type": "stream",
     "text": [
      "*****Epoch 1/300*****\n",
      "*****Train Loss: -1.896112 Val Loss: -2.743863*****\n",
      "*****Validation Accuracy: 61.10%*****\n",
      "*****Total Avg Disparity: 0.17201121218695434*****\n",
      "\n",
      "Class Team_Sports: Recall Difference = 0.09496117241781965\n",
      "Class Celebration: Recall Difference = 0.1\n",
      "Class Parade: Recall Difference = 0.048531508411748026\n",
      "Class Waiter_Or_Waitress: Recall Difference = -0.024503005085529383\n",
      "Class Individual_Sports: Recall Difference = -0.25223383310616376\n",
      "Class Surgeons: Recall Difference = -0.033259423503326\n",
      "Class Spa: Recall Difference = -0.86\n",
      "Class Law_Enforcement: Recall Difference = 0.2127127127127128\n",
      "Class Business: Recall Difference = -0.08855222447455469\n",
      "Class Dresses: Recall Difference = -0.3556910569105693\n",
      "Class Water_Activities: Recall Difference = 0.15135135135135147\n",
      "Class Picnic: Recall Difference = -0.2\n",
      "Class Rescue: Recall Difference = 0.07113924050632908\n",
      "Class Cheering: Recall Difference = -0.041632485643970485\n",
      "Class Performance_And_Entertainment: Recall Difference = 0.024278047533861424\n",
      "Class Family: Recall Difference = -0.19333333333333336\n",
      "Data has been appended to No_Attenuation_07/teacher_validation_8.txt\n"
     ]
    },
    {
     "name": "stderr",
     "output_type": "stream",
     "text": [
      "100%|█████████████████████████████████████████████████████████████████████████| 162/162 [01:50<00:00,  1.47it/s]\n",
      "100%|███████████████████████████████████████████████████████████████████████████| 55/55 [00:18<00:00,  2.90it/s]\n"
     ]
    },
    {
     "name": "stdout",
     "output_type": "stream",
     "text": [
      "*****Epoch 2/300*****\n",
      "*****Train Loss: -3.247417 Val Loss: -2.926942*****\n",
      "*****Validation Accuracy: 62.02%*****\n",
      "*****Total Avg Disparity: 0.1914229100283546*****\n",
      "\n",
      "Class Team_Sports: Recall Difference = 0.12078005488410104\n",
      "Class Celebration: Recall Difference = 0.018604651162790753\n",
      "Class Parade: Recall Difference = 0.08691189050470483\n",
      "Class Waiter_Or_Waitress: Recall Difference = -0.12066574202496538\n",
      "Class Individual_Sports: Recall Difference = -0.06220657276995312\n",
      "Class Surgeons: Recall Difference = -0.1359940872135993\n",
      "Class Spa: Recall Difference = -0.72\n",
      "Class Law_Enforcement: Recall Difference = 0.16216216216216212\n",
      "Class Business: Recall Difference = -0.03158007041502198\n",
      "Class Dresses: Recall Difference = -0.61449864498645\n",
      "Class Water_Activities: Recall Difference = 0.14140540540540547\n",
      "Class Picnic: Recall Difference = -0.4\n",
      "Class Rescue: Recall Difference = 0.05645569620253166\n",
      "Class Cheering: Recall Difference = -0.06931911402789173\n",
      "Class Performance_And_Entertainment: Recall Difference = -0.08884913536076322\n",
      "Class Family: Recall Difference = -0.23333333333333334\n",
      "Data has been appended to No_Attenuation_07/teacher_validation_8.txt\n"
     ]
    },
    {
     "name": "stderr",
     "output_type": "stream",
     "text": [
      "100%|█████████████████████████████████████████████████████████████████████████| 162/162 [01:50<00:00,  1.47it/s]\n",
      "100%|███████████████████████████████████████████████████████████████████████████| 55/55 [00:18<00:00,  2.95it/s]\n"
     ]
    },
    {
     "name": "stdout",
     "output_type": "stream",
     "text": [
      "*****Epoch 3/300*****\n",
      "*****Train Loss: -3.799916 Val Loss: -3.086996*****\n",
      "*****Validation Accuracy: 60.63%*****\n",
      "*****Total Avg Disparity: 0.18106972248012815*****\n",
      "\n",
      "Class Team_Sports: Recall Difference = 0.11617913236410349\n",
      "Class Celebration: Recall Difference = -0.03023255813953485\n",
      "Class Parade: Recall Difference = 0.06432848588537221\n",
      "Class Waiter_Or_Waitress: Recall Difference = -0.15765141007859462\n",
      "Class Individual_Sports: Recall Difference = -0.09836437982735113\n",
      "Class Surgeons: Recall Difference = -0.11825572801182566\n",
      "Class Spa: Recall Difference = -0.84\n",
      "Class Law_Enforcement: Recall Difference = 0.14039039039039058\n",
      "Class Business: Recall Difference = -0.1532060172836872\n",
      "Class Dresses: Recall Difference = -0.40447154471544716\n",
      "Class Water_Activities: Recall Difference = 0.060864864864864865\n",
      "Class Picnic: Recall Difference = -0.2545454545454546\n",
      "Class Rescue: Recall Difference = 0.0870886075949367\n",
      "Class Cheering: Recall Difference = -0.005947497949138625\n",
      "Class Performance_And_Entertainment: Recall Difference = 0.05392282136468185\n",
      "Class Family: Recall Difference = -0.3116666666666667\n",
      "Data has been appended to No_Attenuation_07/teacher_validation_8.txt\n"
     ]
    },
    {
     "name": "stderr",
     "output_type": "stream",
     "text": [
      "100%|█████████████████████████████████████████████████████████████████████████| 162/162 [01:50<00:00,  1.47it/s]\n",
      "100%|███████████████████████████████████████████████████████████████████████████| 55/55 [00:18<00:00,  2.90it/s]\n"
     ]
    },
    {
     "name": "stdout",
     "output_type": "stream",
     "text": [
      "*****Epoch 4/300*****\n",
      "*****Train Loss: -4.192141 Val Loss: -2.998331*****\n",
      "*****Validation Accuracy: 61.96%*****\n",
      "*****Total Avg Disparity: 0.13819485799678982*****\n",
      "\n",
      "Class Team_Sports: Recall Difference = 0.1126408594616688\n",
      "Class Celebration: Recall Difference = -0.0255813953488373\n",
      "Class Parade: Recall Difference = 0.043341887653264966\n",
      "Class Waiter_Or_Waitress: Recall Difference = -0.08183079056865483\n",
      "Class Individual_Sports: Recall Difference = -0.04497955474784199\n",
      "Class Surgeons: Recall Difference = -0.03325942350332589\n",
      "Class Spa: Recall Difference = -0.7799999999999999\n",
      "Class Law_Enforcement: Recall Difference = 0.05105105105105112\n",
      "Class Business: Recall Difference = 0.005227781926811059\n",
      "Class Dresses: Recall Difference = -0.3787262872628727\n",
      "Class Water_Activities: Recall Difference = 0.06389189189189204\n",
      "Class Picnic: Recall Difference = 0.19999999999999996\n",
      "Class Rescue: Recall Difference = -0.020253164556962022\n",
      "Class Cheering: Recall Difference = -0.05332239540607056\n",
      "Class Performance_And_Entertainment: Recall Difference = -0.012011244569384127\n",
      "Class Family: Recall Difference = -0.30500000000000005\n",
      "Data has been appended to No_Attenuation_07/teacher_validation_8.txt\n"
     ]
    },
    {
     "name": "stderr",
     "output_type": "stream",
     "text": [
      "100%|█████████████████████████████████████████████████████████████████████████| 162/162 [01:50<00:00,  1.47it/s]\n",
      "100%|███████████████████████████████████████████████████████████████████████████| 55/55 [00:18<00:00,  2.90it/s]\n"
     ]
    },
    {
     "name": "stdout",
     "output_type": "stream",
     "text": [
      "*****Epoch 5/300*****\n",
      "*****Train Loss: -4.455123 Val Loss: -3.266592*****\n",
      "*****Validation Accuracy: 60.69%*****\n",
      "*****Total Avg Disparity: 0.14280349401009584*****\n",
      "\n",
      "Class Team_Sports: Recall Difference = 0.07801716587843732\n",
      "Class Celebration: Recall Difference = 0.0023255813953488857\n",
      "Class Parade: Recall Difference = 0.032221271742229884\n",
      "Class Waiter_Or_Waitress: Recall Difference = -0.0684234858992141\n",
      "Class Individual_Sports: Recall Difference = -0.07629107981220673\n",
      "Class Surgeons: Recall Difference = -0.014781966001478075\n",
      "Class Spa: Recall Difference = -0.6199999999999999\n",
      "Class Law_Enforcement: Recall Difference = 0.07607607607607614\n",
      "Class Business: Recall Difference = -0.04640990077883289\n",
      "Class Dresses: Recall Difference = -0.6205962059620596\n",
      "Class Water_Activities: Recall Difference = 0.12486486486486503\n",
      "Class Picnic: Recall Difference = -0.054545454545454564\n",
      "Class Rescue: Recall Difference = 0.027088607594936698\n",
      "Class Cheering: Recall Difference = -0.06685808039376534\n",
      "Class Performance_And_Entertainment: Recall Difference = -0.05468949654996158\n",
      "Class Family: Recall Difference = -0.32166666666666666\n",
      "Data has been appended to No_Attenuation_07/teacher_validation_8.txt\n"
     ]
    },
    {
     "name": "stderr",
     "output_type": "stream",
     "text": [
      "100%|█████████████████████████████████████████████████████████████████████████| 162/162 [01:50<00:00,  1.47it/s]\n",
      "100%|███████████████████████████████████████████████████████████████████████████| 55/55 [00:18<00:00,  2.95it/s]\n"
     ]
    },
    {
     "name": "stdout",
     "output_type": "stream",
     "text": [
      "*****Epoch 6/300*****\n",
      "*****Train Loss: -4.813752 Val Loss: -3.171221*****\n",
      "*****Validation Accuracy: 60.26%*****\n",
      "*****Total Avg Disparity: 0.17620609829376754*****\n",
      "\n",
      "Class Team_Sports: Recall Difference = 0.07919659017924918\n",
      "Class Celebration: Recall Difference = -0.004651162790697716\n",
      "Class Parade: Recall Difference = 0.03330481893356152\n",
      "Class Waiter_Or_Waitress: Recall Difference = -0.19463707813222375\n",
      "Class Individual_Sports: Recall Difference = -0.04259427532939575\n",
      "Class Surgeons: Recall Difference = -0.12342941611234293\n",
      "Class Spa: Recall Difference = -0.66\n",
      "Class Law_Enforcement: Recall Difference = 0.06781781781781782\n",
      "Class Business: Recall Difference = -0.05377147124719939\n",
      "Class Dresses: Recall Difference = -0.6951219512195121\n",
      "Class Water_Activities: Recall Difference = 0.10940540540540544\n",
      "Class Picnic: Recall Difference = -0.1272727272727273\n",
      "Class Rescue: Recall Difference = 0.1316455696202532\n",
      "Class Cheering: Recall Difference = -0.10664479081214107\n",
      "Class Performance_And_Entertainment: Recall Difference = 0.07147116449442015\n",
      "Class Family: Recall Difference = -0.31833333333333336\n",
      "Data has been appended to No_Attenuation_07/teacher_validation_8.txt\n"
     ]
    },
    {
     "name": "stderr",
     "output_type": "stream",
     "text": [
      "100%|█████████████████████████████████████████████████████████████████████████| 162/162 [01:50<00:00,  1.47it/s]\n",
      "100%|███████████████████████████████████████████████████████████████████████████| 55/55 [00:18<00:00,  2.95it/s]\n"
     ]
    },
    {
     "name": "stdout",
     "output_type": "stream",
     "text": [
      "*****Epoch 7/300*****\n",
      "*****Train Loss: -5.012778 Val Loss: -3.188039*****\n",
      "*****Validation Accuracy: 60.06%*****\n",
      "*****Total Avg Disparity: 0.13707420424930722*****\n",
      "\n",
      "Class Team_Sports: Recall Difference = 0.11034039820166985\n",
      "Class Celebration: Recall Difference = 0.0023255813953487747\n",
      "Class Parade: Recall Difference = -0.007527801539777501\n",
      "Class Waiter_Or_Waitress: Recall Difference = -0.14516874711049466\n",
      "Class Individual_Sports: Recall Difference = -0.09560048462819937\n",
      "Class Surgeons: Recall Difference = 0.028085735402808676\n",
      "Class Spa: Recall Difference = -0.6\n",
      "Class Law_Enforcement: Recall Difference = 0.14539539539539548\n",
      "Class Business: Recall Difference = -0.08161741171449904\n",
      "Class Dresses: Recall Difference = -0.4789972899728998\n",
      "Class Water_Activities: Recall Difference = 0.055351351351351386\n",
      "Class Picnic: Recall Difference = -0.018181818181818188\n",
      "Class Rescue: Recall Difference = 0.04506329113924051\n",
      "Class Cheering: Recall Difference = -0.023379819524200207\n",
      "Class Performance_And_Entertainment: Recall Difference = 0.02615214243121211\n",
      "Class Family: Recall Difference = -0.33\n",
      "Data has been appended to No_Attenuation_07/teacher_validation_8.txt\n"
     ]
    },
    {
     "name": "stderr",
     "output_type": "stream",
     "text": [
      "100%|█████████████████████████████████████████████████████████████████████████| 162/162 [01:50<00:00,  1.47it/s]\n",
      "100%|███████████████████████████████████████████████████████████████████████████| 55/55 [00:19<00:00,  2.89it/s]\n"
     ]
    },
    {
     "name": "stdout",
     "output_type": "stream",
     "text": [
      "*****Epoch 8/300*****\n",
      "*****Train Loss: -4.995815 Val Loss: -3.016782*****\n",
      "*****Validation Accuracy: 59.42%*****\n",
      "*****Total Avg Disparity: 0.15708093807831566*****\n",
      "\n",
      "Class Team_Sports: Recall Difference = 0.06809131780230038\n",
      "Class Celebration: Recall Difference = -0.08372093023255817\n",
      "Class Parade: Recall Difference = 0.0667807242657541\n",
      "Class Waiter_Or_Waitress: Recall Difference = 0.003698566805362846\n",
      "Class Individual_Sports: Recall Difference = -0.036612145994245116\n",
      "Class Surgeons: Recall Difference = -0.12416851441241672\n",
      "Class Spa: Recall Difference = -0.82\n",
      "Class Law_Enforcement: Recall Difference = 0.092842842842843\n",
      "Class Business: Recall Difference = -0.05430491838258822\n",
      "Class Dresses: Recall Difference = -0.6158536585365852\n",
      "Class Water_Activities: Recall Difference = 0.09037837837837848\n",
      "Class Picnic: Recall Difference = 0.05454545454545445\n",
      "Class Rescue: Recall Difference = 0.06506329113924048\n",
      "Class Cheering: Recall Difference = -0.018252666119770278\n",
      "Class Performance_And_Entertainment: Recall Difference = 0.01064826646221989\n",
      "Class Family: Recall Difference = -0.30833333333333335\n",
      "Data has been appended to No_Attenuation_07/teacher_validation_8.txt\n"
     ]
    },
    {
     "name": "stderr",
     "output_type": "stream",
     "text": [
      "100%|█████████████████████████████████████████████████████████████████████████| 162/162 [01:50<00:00,  1.47it/s]\n",
      "100%|███████████████████████████████████████████████████████████████████████████| 55/55 [00:18<00:00,  2.93it/s]\n"
     ]
    },
    {
     "name": "stdout",
     "output_type": "stream",
     "text": [
      "*****Epoch 9/300*****\n",
      "*****Train Loss: -5.053150 Val Loss: -3.071377*****\n",
      "*****Validation Accuracy: 61.18%*****\n",
      "*****Total Avg Disparity: 0.17791165986404725*****\n",
      "\n",
      "Class Team_Sports: Recall Difference = 0.1010801658200502\n",
      "Class Celebration: Recall Difference = 0.07209302325581385\n",
      "Class Parade: Recall Difference = 0.019389791844881765\n",
      "Class Waiter_Or_Waitress: Recall Difference = -0.2829403606102636\n",
      "Class Individual_Sports: Recall Difference = 0.0009844010298348804\n",
      "Class Surgeons: Recall Difference = -0.1367331855136732\n",
      "Class Spa: Recall Difference = -0.72\n",
      "Class Law_Enforcement: Recall Difference = 0.10835835835835839\n",
      "Class Business: Recall Difference = -0.085991678224688\n",
      "Class Dresses: Recall Difference = -0.628048780487805\n",
      "Class Water_Activities: Recall Difference = 0.06886486486486498\n",
      "Class Picnic: Recall Difference = -0.10909090909090907\n",
      "Class Rescue: Recall Difference = 0.10835443037974679\n",
      "Class Cheering: Recall Difference = -0.13084495488105\n",
      "Class Performance_And_Entertainment: Recall Difference = -0.04881165346281624\n",
      "Class Family: Recall Difference = -0.22500000000000003\n",
      "Data has been appended to No_Attenuation_07/teacher_validation_8.txt\n"
     ]
    },
    {
     "name": "stderr",
     "output_type": "stream",
     "text": [
      "100%|█████████████████████████████████████████████████████████████████████████| 162/162 [01:50<00:00,  1.47it/s]\n",
      "100%|███████████████████████████████████████████████████████████████████████████| 55/55 [00:19<00:00,  2.89it/s]\n"
     ]
    },
    {
     "name": "stdout",
     "output_type": "stream",
     "text": [
      "*****Epoch 10/300*****\n",
      "*****Train Loss: -5.068902 Val Loss: -3.255795*****\n",
      "*****Validation Accuracy: 61.70%*****\n",
      "*****Total Avg Disparity: 0.18777468788358292*****\n",
      "\n",
      "Class Team_Sports: Recall Difference = 0.12251999766450639\n",
      "Class Celebration: Recall Difference = -0.06976744186046518\n",
      "Class Parade: Recall Difference = -0.006444254348445977\n",
      "Class Waiter_Or_Waitress: Recall Difference = -0.14008321775312083\n",
      "Class Individual_Sports: Recall Difference = -0.09132212630622438\n",
      "Class Surgeons: Recall Difference = 0.08795269770879532\n",
      "Class Spa: Recall Difference = -0.6799999999999999\n",
      "Class Law_Enforcement: Recall Difference = 0.16391391391391397\n",
      "Class Business: Recall Difference = -0.12685372879547635\n",
      "Class Dresses: Recall Difference = -0.7743902439024392\n",
      "Class Water_Activities: Recall Difference = 0.08043243243243248\n",
      "Class Picnic: Recall Difference = -0.16363636363636364\n",
      "Class Rescue: Recall Difference = 0.06506329113924048\n",
      "Class Cheering: Recall Difference = -0.0022559474979491623\n",
      "Class Performance_And_Entertainment: Recall Difference = 0.00809268251128703\n",
      "Class Family: Recall Difference = -0.42166666666666663\n",
      "Data has been appended to No_Attenuation_07/teacher_validation_8.txt\n"
     ]
    },
    {
     "name": "stderr",
     "output_type": "stream",
     "text": [
      "100%|█████████████████████████████████████████████████████████████████████████| 162/162 [01:50<00:00,  1.47it/s]\n",
      "100%|███████████████████████████████████████████████████████████████████████████| 55/55 [00:18<00:00,  2.93it/s]\n"
     ]
    },
    {
     "name": "stdout",
     "output_type": "stream",
     "text": [
      "*****Epoch 11/300*****\n",
      "*****Train Loss: -5.044567 Val Loss: -3.042286*****\n",
      "*****Validation Accuracy: 61.15%*****\n",
      "*****Total Avg Disparity: 0.16577235421995984*****\n",
      "\n",
      "Class Team_Sports: Recall Difference = 0.08985811875985272\n",
      "Class Celebration: Recall Difference = -0.03720930232558145\n",
      "Class Parade: Recall Difference = 0.0651268890789849\n",
      "Class Waiter_Or_Waitress: Recall Difference = -0.1761442441054092\n",
      "Class Individual_Sports: Recall Difference = -0.07742692715432375\n",
      "Class Surgeons: Recall Difference = 0.02734663710273466\n",
      "Class Spa: Recall Difference = -0.7799999999999999\n",
      "Class Law_Enforcement: Recall Difference = 0.10985985985985991\n",
      "Class Business: Recall Difference = -0.05761229062199941\n",
      "Class Dresses: Recall Difference = -0.6084010840108403\n",
      "Class Water_Activities: Recall Difference = 0.07632432432432434\n",
      "Class Picnic: Recall Difference = -0.054545454545454564\n",
      "Class Rescue: Recall Difference = 0.013164556962025259\n",
      "Class Cheering: Recall Difference = -0.11771944216570962\n",
      "Class Performance_And_Entertainment: Recall Difference = -0.0016185365022574616\n",
      "Class Family: Recall Difference = -0.35999999999999993\n",
      "Data has been appended to No_Attenuation_07/teacher_validation_8.txt\n"
     ]
    },
    {
     "name": "stderr",
     "output_type": "stream",
     "text": [
      "100%|█████████████████████████████████████████████████████████████████████████| 162/162 [01:50<00:00,  1.47it/s]\n",
      "100%|███████████████████████████████████████████████████████████████████████████| 55/55 [00:18<00:00,  2.93it/s]\n"
     ]
    },
    {
     "name": "stdout",
     "output_type": "stream",
     "text": [
      "*****Epoch 12/300*****\n",
      "*****Train Loss: -5.108230 Val Loss: -2.984068*****\n",
      "*****Validation Accuracy: 60.95%*****\n",
      "*****Total Avg Disparity: 0.18333015017877077*****\n",
      "\n",
      "Class Team_Sports: Recall Difference = 0.10085829392187784\n",
      "Class Celebration: Recall Difference = -0.02790697674418602\n",
      "Class Parade: Recall Difference = -0.000741374394069072\n",
      "Class Waiter_Or_Waitress: Recall Difference = -0.12066574202496538\n",
      "Class Individual_Sports: Recall Difference = -0.04278358321974873\n",
      "Class Surgeons: Recall Difference = -0.07612712490761281\n",
      "Class Spa: Recall Difference = -0.86\n",
      "Class Law_Enforcement: Recall Difference = 0.06281281281281292\n",
      "Class Business: Recall Difference = -0.08343113197482127\n",
      "Class Dresses: Recall Difference = -0.7378048780487804\n",
      "Class Water_Activities: Recall Difference = 0.10389189189189196\n",
      "Class Picnic: Recall Difference = -0.18181818181818182\n",
      "Class Rescue: Recall Difference = 0.11037974683544305\n",
      "Class Cheering: Recall Difference = -0.10459392945036916\n",
      "Class Performance_And_Entertainment: Recall Difference = 0.006133401482238621\n",
      "Class Family: Recall Difference = -0.31333333333333335\n",
      "Data has been appended to No_Attenuation_07/teacher_validation_8.txt\n"
     ]
    },
    {
     "name": "stderr",
     "output_type": "stream",
     "text": [
      "100%|█████████████████████████████████████████████████████████████████████████| 162/162 [01:50<00:00,  1.47it/s]\n",
      "100%|███████████████████████████████████████████████████████████████████████████| 55/55 [00:18<00:00,  2.93it/s]\n"
     ]
    },
    {
     "name": "stdout",
     "output_type": "stream",
     "text": [
      "*****Epoch 13/300*****\n",
      "*****Train Loss: -5.091489 Val Loss: -2.964549*****\n",
      "*****Validation Accuracy: 61.41%*****\n",
      "*****Total Avg Disparity: 0.13945295690365497*****\n",
      "\n",
      "Class Team_Sports: Recall Difference = 0.0881181759794476\n",
      "Class Celebration: Recall Difference = -0.06744186046511613\n",
      "Class Parade: Recall Difference = -0.03227830054177372\n",
      "Class Waiter_Or_Waitress: Recall Difference = -0.23532131299121606\n",
      "Class Individual_Sports: Recall Difference = -0.05107526881720448\n",
      "Class Surgeons: Recall Difference = -0.03325942350332611\n",
      "Class Spa: Recall Difference = -0.27999999999999997\n",
      "Class Law_Enforcement: Recall Difference = 0.0983483483483486\n",
      "Class Business: Recall Difference = -0.042035634268643984\n",
      "Class Dresses: Recall Difference = -0.5948509485094852\n",
      "Class Water_Activities: Recall Difference = 0.03935135135135148\n",
      "Class Picnic: Recall Difference = 0.21818181818181814\n",
      "Class Rescue: Recall Difference = -0.0015189873417721378\n",
      "Class Cheering: Recall Difference = -0.08223954060705496\n",
      "Class Performance_And_Entertainment: Recall Difference = -0.03722633955192095\n",
      "Class Family: Recall Difference = -0.33000000000000007\n",
      "Data has been appended to No_Attenuation_07/teacher_validation_8.txt\n"
     ]
    },
    {
     "name": "stderr",
     "output_type": "stream",
     "text": [
      "100%|█████████████████████████████████████████████████████████████████████████| 162/162 [01:50<00:00,  1.47it/s]\n",
      "100%|███████████████████████████████████████████████████████████████████████████| 55/55 [00:18<00:00,  2.97it/s]\n"
     ]
    },
    {
     "name": "stdout",
     "output_type": "stream",
     "text": [
      "*****Epoch 14/300*****\n",
      "*****Train Loss: -5.133026 Val Loss: -2.956122*****\n",
      "*****Validation Accuracy: 60.81%*****\n",
      "*****Total Avg Disparity: 0.15301163705630205*****\n",
      "\n",
      "Class Team_Sports: Recall Difference = 0.10231797746248616\n",
      "Class Celebration: Recall Difference = -0.06279069767441858\n",
      "Class Parade: Recall Difference = -0.012432278300541721\n",
      "Class Waiter_Or_Waitress: Recall Difference = -0.0915395284327325\n",
      "Class Individual_Sports: Recall Difference = -0.1094956837801\n",
      "Class Surgeons: Recall Difference = -0.12490761271249079\n",
      "Class Spa: Recall Difference = -0.58\n",
      "Class Law_Enforcement: Recall Difference = 0.04754754754754764\n",
      "Class Business: Recall Difference = 0.007788328176677628\n",
      "Class Dresses: Recall Difference = -0.45460704607046076\n",
      "Class Water_Activities: Recall Difference = 0.13091891891891894\n",
      "Class Picnic: Recall Difference = -0.14545454545454556\n",
      "Class Rescue: Recall Difference = 0.06708860759493679\n",
      "Class Cheering: Recall Difference = -0.09741591468416733\n",
      "Class Performance_And_Entertainment: Recall Difference = 0.0022148394241417457\n",
      "Class Family: Recall Difference = -0.4116666666666667\n",
      "Data has been appended to No_Attenuation_07/teacher_validation_8.txt\n"
     ]
    },
    {
     "name": "stderr",
     "output_type": "stream",
     "text": [
      "100%|█████████████████████████████████████████████████████████████████████████| 162/162 [01:50<00:00,  1.47it/s]\n",
      "100%|███████████████████████████████████████████████████████████████████████████| 55/55 [00:18<00:00,  2.94it/s]\n"
     ]
    },
    {
     "name": "stdout",
     "output_type": "stream",
     "text": [
      "*****Epoch 15/300*****\n",
      "*****Train Loss: -5.124002 Val Loss: -2.981525*****\n",
      "*****Validation Accuracy: 60.87%*****\n",
      "*****Total Avg Disparity: 0.13113402160823395*****\n",
      "\n",
      "Class Team_Sports: Recall Difference = 0.026834822210544784\n",
      "Class Celebration: Recall Difference = -0.03488372093023251\n",
      "Class Parade: Recall Difference = 0.015055603079555224\n",
      "Class Waiter_Or_Waitress: Recall Difference = -0.10818307905686553\n",
      "Class Individual_Sports: Recall Difference = 0.03028926245645913\n",
      "Class Surgeons: Recall Difference = 0.07021433850702163\n",
      "Class Spa: Recall Difference = -0.74\n",
      "Class Law_Enforcement: Recall Difference = 0.1198698698698698\n",
      "Class Business: Recall Difference = -0.03232689640456632\n",
      "Class Dresses: Recall Difference = -0.5352303523035231\n",
      "Class Water_Activities: Recall Difference = 0.08486486486486478\n",
      "Class Picnic: Recall Difference = -0.036363636363636376\n",
      "Class Rescue: Recall Difference = 0.06911392405063294\n",
      "Class Cheering: Recall Difference = -0.0053322395406070755\n",
      "Class Performance_And_Entertainment: Recall Difference = 0.02291506942669741\n",
      "Class Family: Recall Difference = -0.16666666666666674\n",
      "Data has been appended to No_Attenuation_07/teacher_validation_8.txt\n"
     ]
    },
    {
     "name": "stderr",
     "output_type": "stream",
     "text": [
      "100%|█████████████████████████████████████████████████████████████████████████| 162/162 [01:50<00:00,  1.47it/s]\n",
      "100%|███████████████████████████████████████████████████████████████████████████| 55/55 [00:19<00:00,  2.87it/s]\n"
     ]
    },
    {
     "name": "stdout",
     "output_type": "stream",
     "text": [
      "*****Epoch 16/300*****\n",
      "*****Train Loss: -5.134437 Val Loss: -2.658376*****\n",
      "*****Validation Accuracy: 60.92%*****\n",
      "*****Total Avg Disparity: 0.1847722608477531*****\n",
      "\n",
      "Class Team_Sports: Recall Difference = 0.07397676183803337\n",
      "Class Celebration: Recall Difference = -0.034883720930232565\n",
      "Class Parade: Recall Difference = 0.001996007984031989\n",
      "Class Waiter_Or_Waitress: Recall Difference = -0.24133148404993066\n",
      "Class Individual_Sports: Recall Difference = 0.005830683022868599\n",
      "Class Surgeons: Recall Difference = -0.06947524020694751\n",
      "Class Spa: Recall Difference = -0.56\n",
      "Class Law_Enforcement: Recall Difference = 0.126876876876877\n",
      "Class Business: Recall Difference = -0.08215085884988804\n",
      "Class Dresses: Recall Difference = -0.774390243902439\n",
      "Class Water_Activities: Recall Difference = 0.08789189189189206\n",
      "Class Picnic: Recall Difference = -0.41818181818181815\n",
      "Class Rescue: Recall Difference = 0.0524050632911392\n",
      "Class Cheering: Recall Difference = -0.025635767022149314\n",
      "Class Performance_And_Entertainment: Recall Difference = 0.011329755515801954\n",
      "Class Family: Recall Difference = -0.39\n",
      "Data has been appended to No_Attenuation_07/teacher_validation_8.txt\n"
     ]
    },
    {
     "name": "stderr",
     "output_type": "stream",
     "text": [
      "100%|█████████████████████████████████████████████████████████████████████████| 162/162 [01:50<00:00,  1.47it/s]\n",
      "100%|███████████████████████████████████████████████████████████████████████████| 55/55 [00:19<00:00,  2.83it/s]\n"
     ]
    },
    {
     "name": "stdout",
     "output_type": "stream",
     "text": [
      "*****Epoch 17/300*****\n",
      "*****Train Loss: -5.153852 Val Loss: -2.851622*****\n",
      "*****Validation Accuracy: 60.75%*****\n",
      "*****Total Avg Disparity: 0.1508291891122559*****\n",
      "\n",
      "Class Team_Sports: Recall Difference = 0.11034039820166985\n",
      "Class Celebration: Recall Difference = 0.013953488372092981\n",
      "Class Parade: Recall Difference = 0.09506700883946384\n",
      "Class Waiter_Or_Waitress: Recall Difference = -0.14794267221451707\n",
      "Class Individual_Sports: Recall Difference = -0.02290625473269725\n",
      "Class Surgeons: Recall Difference = 0.01478196600147813\n",
      "Class Spa: Recall Difference = -0.5599999999999999\n",
      "Class Law_Enforcement: Recall Difference = 0.14364364364364368\n",
      "Class Business: Recall Difference = -0.07041502187133253\n",
      "Class Dresses: Recall Difference = -0.6585365853658536\n",
      "Class Water_Activities: Recall Difference = 0.10691891891891891\n",
      "Class Picnic: Recall Difference = 0.10909090909090902\n",
      "Class Rescue: Recall Difference = 0.05645569620253166\n",
      "Class Cheering: Recall Difference = -0.0691140278917145\n",
      "Class Performance_And_Entertainment: Recall Difference = -0.039100434449271526\n",
      "Class Family: Recall Difference = -0.19500000000000012\n",
      "Data has been appended to No_Attenuation_07/teacher_validation_8.txt\n"
     ]
    },
    {
     "name": "stderr",
     "output_type": "stream",
     "text": [
      "100%|█████████████████████████████████████████████████████████████████████████| 162/162 [01:50<00:00,  1.47it/s]\n",
      "100%|███████████████████████████████████████████████████████████████████████████| 55/55 [00:19<00:00,  2.88it/s]\n"
     ]
    },
    {
     "name": "stdout",
     "output_type": "stream",
     "text": [
      "*****Epoch 18/300*****\n",
      "*****Train Loss: -5.105089 Val Loss: -2.777544*****\n",
      "*****Validation Accuracy: 60.17%*****\n",
      "*****Total Avg Disparity: 0.1705347788983977*****\n",
      "\n",
      "Class Team_Sports: Recall Difference = 0.09749518304431593\n",
      "Class Celebration: Recall Difference = -0.01627906976744181\n",
      "Class Parade: Recall Difference = 0.09124607927003148\n",
      "Class Waiter_Or_Waitress: Recall Difference = -0.0915395284327325\n",
      "Class Individual_Sports: Recall Difference = -0.07220202938058451\n",
      "Class Surgeons: Recall Difference = 0.01478196600147813\n",
      "Class Spa: Recall Difference = -0.72\n",
      "Class Law_Enforcement: Recall Difference = 0.1048548548548549\n",
      "Class Business: Recall Difference = -0.011629147551477592\n",
      "Class Dresses: Recall Difference = -0.6754742547425474\n",
      "Class Water_Activities: Recall Difference = 0.11545945945945946\n",
      "Class Picnic: Recall Difference = -0.2363636363636364\n",
      "Class Rescue: Recall Difference = 0.18177215189873416\n",
      "Class Cheering: Recall Difference = -0.01312551271534046\n",
      "Class Performance_And_Entertainment: Recall Difference = -0.023000255558395077\n",
      "Class Family: Recall Difference = -0.2633333333333334\n",
      "Data has been appended to No_Attenuation_07/teacher_validation_8.txt\n"
     ]
    },
    {
     "name": "stderr",
     "output_type": "stream",
     "text": [
      "100%|█████████████████████████████████████████████████████████████████████████| 162/162 [01:50<00:00,  1.47it/s]\n",
      "100%|███████████████████████████████████████████████████████████████████████████| 55/55 [00:18<00:00,  2.91it/s]\n"
     ]
    },
    {
     "name": "stdout",
     "output_type": "stream",
     "text": [
      "*****Epoch 19/300*****\n",
      "*****Train Loss: -5.105644 Val Loss: -2.765443*****\n",
      "*****Validation Accuracy: 59.57%*****\n",
      "*****Total Avg Disparity: 0.1611314683953437*****\n",
      "\n",
      "Class Team_Sports: Recall Difference = 0.03615344193378878\n",
      "Class Celebration: Recall Difference = 0.05813953488372098\n",
      "Class Parade: Recall Difference = 0.04990019960079828\n",
      "Class Waiter_Or_Waitress: Recall Difference = -0.10032362459546951\n",
      "Class Individual_Sports: Recall Difference = -0.0068150840527032575\n",
      "Class Surgeons: Recall Difference = -0.1374722838137472\n",
      "Class Spa: Recall Difference = -0.6799999999999999\n",
      "Class Law_Enforcement: Recall Difference = 0.06631631631631629\n",
      "Class Business: Recall Difference = 0.02133788541555537\n",
      "Class Dresses: Recall Difference = -0.6815718157181572\n",
      "Class Water_Activities: Recall Difference = 0.143891891891892\n",
      "Class Picnic: Recall Difference = -0.16363636363636375\n",
      "Class Rescue: Recall Difference = 0.08506329113924055\n",
      "Class Cheering: Recall Difference = -0.11320754716981124\n",
      "Class Performance_And_Entertainment: Recall Difference = -0.012607547491268467\n",
      "Class Family: Recall Difference = -0.22166666666666665\n",
      "Data has been appended to No_Attenuation_07/teacher_validation_8.txt\n"
     ]
    },
    {
     "name": "stderr",
     "output_type": "stream",
     "text": [
      "100%|█████████████████████████████████████████████████████████████████████████| 162/162 [01:50<00:00,  1.47it/s]\n",
      "100%|███████████████████████████████████████████████████████████████████████████| 55/55 [00:18<00:00,  2.91it/s]\n"
     ]
    },
    {
     "name": "stdout",
     "output_type": "stream",
     "text": [
      "*****Epoch 20/300*****\n",
      "*****Train Loss: -5.133063 Val Loss: -2.944553*****\n",
      "*****Validation Accuracy: 61.10%*****\n",
      "*****Total Avg Disparity: 0.1747360870743555*****\n",
      "\n",
      "Class Team_Sports: Recall Difference = 0.062077421614993855\n",
      "Class Celebration: Recall Difference = 0.05581395348837215\n",
      "Class Parade: Recall Difference = 0.014770459081836385\n",
      "Class Waiter_Or_Waitress: Recall Difference = -0.09061488673139184\n",
      "Class Individual_Sports: Recall Difference = -0.0764803877025595\n",
      "Class Surgeons: Recall Difference = -0.13082039911308213\n",
      "Class Spa: Recall Difference = -0.6399999999999999\n",
      "Class Law_Enforcement: Recall Difference = 0.1166166166166166\n",
      "Class Business: Recall Difference = -0.05174437213272165\n",
      "Class Dresses: Recall Difference = -0.49119241192411933\n",
      "Class Water_Activities: Recall Difference = 0.13145945945945958\n",
      "Class Picnic: Recall Difference = -0.36363636363636365\n",
      "Class Rescue: Recall Difference = 0.15645569620253166\n",
      "Class Cheering: Recall Difference = 0.026661197703035266\n",
      "Class Performance_And_Entertainment: Recall Difference = -0.03910043444927164\n",
      "Class Family: Recall Difference = -0.34833333333333333\n",
      "Data has been appended to No_Attenuation_07/teacher_validation_8.txt\n"
     ]
    },
    {
     "name": "stderr",
     "output_type": "stream",
     "text": [
      "100%|█████████████████████████████████████████████████████████████████████████| 162/162 [01:50<00:00,  1.47it/s]\n",
      "100%|███████████████████████████████████████████████████████████████████████████| 55/55 [00:19<00:00,  2.89it/s]\n"
     ]
    },
    {
     "name": "stdout",
     "output_type": "stream",
     "text": [
      "*****Epoch 21/300*****\n",
      "*****Train Loss: -5.091948 Val Loss: -3.008852*****\n",
      "*****Validation Accuracy: 61.70%*****\n",
      "*****Total Avg Disparity: 0.17255811096277074*****\n",
      "\n",
      "Class Team_Sports: Recall Difference = 0.06477491679803815\n",
      "Class Celebration: Recall Difference = 0.04418604651162794\n",
      "Class Parade: Recall Difference = -0.04699173082406616\n",
      "Class Waiter_Or_Waitress: Recall Difference = -0.24410540915395285\n",
      "Class Individual_Sports: Recall Difference = -0.0946539451764351\n",
      "Class Surgeons: Recall Difference = -0.014781966001478075\n",
      "Class Spa: Recall Difference = -0.62\n",
      "Class Law_Enforcement: Recall Difference = 0.08808808808808832\n",
      "Class Business: Recall Difference = -0.07169529499626603\n",
      "Class Dresses: Recall Difference = -0.6951219512195123\n",
      "Class Water_Activities: Recall Difference = 0.06583783783783792\n",
      "Class Picnic: Recall Difference = -0.018181818181818188\n",
      "Class Rescue: Recall Difference = 0.21240506329113923\n",
      "Class Cheering: Recall Difference = -0.029942575881870492\n",
      "Class Performance_And_Entertainment: Recall Difference = -0.015163131442201161\n",
      "Class Family: Recall Difference = -0.43500000000000005\n",
      "Data has been appended to No_Attenuation_07/teacher_validation_8.txt\n"
     ]
    },
    {
     "name": "stderr",
     "output_type": "stream",
     "text": [
      "100%|█████████████████████████████████████████████████████████████████████████| 162/162 [01:50<00:00,  1.47it/s]\n",
      "100%|███████████████████████████████████████████████████████████████████████████| 55/55 [00:18<00:00,  2.91it/s]\n"
     ]
    },
    {
     "name": "stdout",
     "output_type": "stream",
     "text": [
      "*****Epoch 22/300*****\n",
      "*****Train Loss: -5.094292 Val Loss: -2.777597*****\n",
      "*****Validation Accuracy: 60.17%*****\n",
      "*****Total Avg Disparity: 0.18975227204801395*****\n",
      "\n",
      "Class Team_Sports: Recall Difference = 0.07285572487884628\n",
      "Class Celebration: Recall Difference = 0.11395348837209307\n",
      "Class Parade: Recall Difference = 0.015340747077274064\n",
      "Class Waiter_Or_Waitress: Recall Difference = -0.12852519648636163\n",
      "Class Individual_Sports: Recall Difference = -0.09836437982735102\n",
      "Class Surgeons: Recall Difference = -0.11234294161123426\n",
      "Class Spa: Recall Difference = -0.7599999999999999\n",
      "Class Law_Enforcement: Recall Difference = 0.20745745745745753\n",
      "Class Business: Recall Difference = -0.09111277072442125\n",
      "Class Dresses: Recall Difference = -0.5277777777777778\n",
      "Class Water_Activities: Recall Difference = 0.14940540540540537\n",
      "Class Picnic: Recall Difference = 0.09090909090909094\n",
      "Class Rescue: Recall Difference = 0.1450632911392405\n",
      "Class Cheering: Recall Difference = -0.0914684167350287\n",
      "Class Performance_And_Entertainment: Recall Difference = 0.036459664366641\n",
      "Class Family: Recall Difference = -0.3949999999999999\n",
      "Data has been appended to No_Attenuation_07/teacher_validation_8.txt\n"
     ]
    },
    {
     "name": "stderr",
     "output_type": "stream",
     "text": [
      "100%|█████████████████████████████████████████████████████████████████████████| 162/162 [01:50<00:00,  1.47it/s]\n",
      "100%|███████████████████████████████████████████████████████████████████████████| 55/55 [00:18<00:00,  2.93it/s]\n"
     ]
    },
    {
     "name": "stdout",
     "output_type": "stream",
     "text": [
      "*****Epoch 23/300*****\n",
      "*****Train Loss: -5.120687 Val Loss: -2.802262*****\n",
      "*****Validation Accuracy: 60.78%*****\n",
      "*****Total Avg Disparity: 0.15775394619276667*****\n",
      "\n",
      "Class Team_Sports: Recall Difference = 0.0927774858410697\n",
      "Class Celebration: Recall Difference = -0.009302325581395321\n",
      "Class Parade: Recall Difference = -0.016766467065868262\n",
      "Class Waiter_Or_Waitress: Recall Difference = -0.00601017105871493\n",
      "Class Individual_Sports: Recall Difference = -0.02938058458276538\n",
      "Class Surgeons: Recall Difference = -0.1796008869179601\n",
      "Class Spa: Recall Difference = -0.64\n",
      "Class Law_Enforcement: Recall Difference = 0.04754754754754775\n",
      "Class Business: Recall Difference = -0.0962338632241545\n",
      "Class Dresses: Recall Difference = -0.5155826558265582\n",
      "Class Water_Activities: Recall Difference = 0.10443243243243239\n",
      "Class Picnic: Recall Difference = -0.090909090909091\n",
      "Class Rescue: Recall Difference = 0.19974683544303795\n",
      "Class Cheering: Recall Difference = -0.1437653814602134\n",
      "Class Performance_And_Entertainment: Recall Difference = -0.0003407445267908926\n",
      "Class Family: Recall Difference = -0.35166666666666674\n",
      "Data has been appended to No_Attenuation_07/teacher_validation_8.txt\n"
     ]
    },
    {
     "name": "stderr",
     "output_type": "stream",
     "text": [
      "100%|█████████████████████████████████████████████████████████████████████████| 162/162 [01:50<00:00,  1.47it/s]\n",
      "100%|███████████████████████████████████████████████████████████████████████████| 55/55 [00:18<00:00,  2.92it/s]\n"
     ]
    },
    {
     "name": "stdout",
     "output_type": "stream",
     "text": [
      "*****Epoch 24/300*****\n",
      "*****Train Loss: -5.182074 Val Loss: -2.498073*****\n",
      "*****Validation Accuracy: 59.54%*****\n",
      "*****Total Avg Disparity: 0.15698344803194603*****\n",
      "\n",
      "Class Team_Sports: Recall Difference = 0.06965609855783272\n",
      "Class Celebration: Recall Difference = -0.04883720930232549\n",
      "Class Parade: Recall Difference = -0.015968063872255578\n",
      "Class Waiter_Or_Waitress: Recall Difference = -0.10725843735552476\n",
      "Class Individual_Sports: Recall Difference = -0.09874299560805688\n",
      "Class Surgeons: Recall Difference = 0.07021433850702163\n",
      "Class Spa: Recall Difference = -0.64\n",
      "Class Law_Enforcement: Recall Difference = 0.08958958958958962\n",
      "Class Business: Recall Difference = -0.028486077029766355\n",
      "Class Dresses: Recall Difference = -0.48509485094850957\n",
      "Class Water_Activities: Recall Difference = 0.08432432432432435\n",
      "Class Picnic: Recall Difference = 0.09090909090909083\n",
      "Class Rescue: Recall Difference = 0.21898734177215196\n",
      "Class Cheering: Recall Difference = -0.13289581624282198\n",
      "Class Performance_And_Entertainment: Recall Difference = -0.050770934491864705\n",
      "Class Family: Recall Difference = -0.27999999999999997\n",
      "Data has been appended to No_Attenuation_07/teacher_validation_8.txt\n"
     ]
    },
    {
     "name": "stderr",
     "output_type": "stream",
     "text": [
      "100%|█████████████████████████████████████████████████████████████████████████| 162/162 [01:50<00:00,  1.47it/s]\n",
      "100%|███████████████████████████████████████████████████████████████████████████| 55/55 [00:18<00:00,  2.94it/s]\n"
     ]
    },
    {
     "name": "stdout",
     "output_type": "stream",
     "text": [
      "*****Epoch 25/300*****\n",
      "*****Train Loss: -5.140337 Val Loss: -2.854252*****\n",
      "*****Validation Accuracy: 60.81%*****\n",
      "*****Total Avg Disparity: 0.19679983918602126*****\n",
      "\n",
      "Class Team_Sports: Recall Difference = 0.10113855316167453\n",
      "Class Celebration: Recall Difference = -0.046511627906976716\n",
      "Class Parade: Recall Difference = -0.05839749073282008\n",
      "Class Waiter_Or_Waitress: Recall Difference = -0.17706888580674995\n",
      "Class Individual_Sports: Recall Difference = -0.06201726487960013\n",
      "Class Surgeons: Recall Difference = 0.13082039911308213\n",
      "Class Spa: Recall Difference = -0.7599999999999999\n",
      "Class Law_Enforcement: Recall Difference = 0.17242242242242234\n",
      "Class Business: Recall Difference = -0.058145737757388294\n",
      "Class Dresses: Recall Difference = -0.676829268292683\n",
      "Class Water_Activities: Recall Difference = 0.1008648648648649\n",
      "Class Picnic: Recall Difference = -0.23636363636363641\n",
      "Class Rescue: Recall Difference = 0.10379746835443038\n",
      "Class Cheering: Recall Difference = -0.05393765381460214\n",
      "Class Performance_And_Entertainment: Recall Difference = -0.06048215350540931\n",
      "Class Family: Recall Difference = -0.35\n",
      "Data has been appended to No_Attenuation_07/teacher_validation_8.txt\n"
     ]
    },
    {
     "name": "stderr",
     "output_type": "stream",
     "text": [
      "100%|█████████████████████████████████████████████████████████████████████████| 162/162 [01:50<00:00,  1.47it/s]\n",
      "100%|███████████████████████████████████████████████████████████████████████████| 55/55 [00:18<00:00,  2.91it/s]\n"
     ]
    },
    {
     "name": "stdout",
     "output_type": "stream",
     "text": [
      "*****Epoch 26/300*****\n",
      "*****Train Loss: -5.130918 Val Loss: -2.696453*****\n",
      "*****Validation Accuracy: 60.03%*****\n",
      "*****Total Avg Disparity: 0.15734897222936522*****\n",
      "\n",
      "Class Team_Sports: Recall Difference = 0.004052081508728933\n",
      "Class Celebration: Recall Difference = -0.03488372093023251\n",
      "Class Parade: Recall Difference = 0.07847162817222686\n",
      "Class Waiter_Or_Waitress: Recall Difference = -0.11003236245954706\n",
      "Class Individual_Sports: Recall Difference = -0.020142359533545373\n",
      "Class Surgeons: Recall Difference = -0.10643015521064297\n",
      "Class Spa: Recall Difference = -0.6799999999999999\n",
      "Class Law_Enforcement: Recall Difference = 0.19244244244244235\n",
      "Class Business: Recall Difference = -0.12941427504534303\n",
      "Class Dresses: Recall Difference = -0.4485094850948509\n",
      "Class Water_Activities: Recall Difference = 0.09891891891891891\n",
      "Class Picnic: Recall Difference = -0.07272727272727281\n",
      "Class Rescue: Recall Difference = 0.15569620253164568\n",
      "Class Cheering: Recall Difference = -0.055373256767842494\n",
      "Class Performance_And_Entertainment: Recall Difference = -0.045489394326603705\n",
      "Class Family: Recall Difference = -0.28500000000000014\n",
      "Data has been appended to No_Attenuation_07/teacher_validation_8.txt\n"
     ]
    },
    {
     "name": "stderr",
     "output_type": "stream",
     "text": [
      "100%|█████████████████████████████████████████████████████████████████████████| 162/162 [01:50<00:00,  1.47it/s]\n",
      "100%|███████████████████████████████████████████████████████████████████████████| 55/55 [00:18<00:00,  2.91it/s]\n"
     ]
    },
    {
     "name": "stdout",
     "output_type": "stream",
     "text": [
      "*****Epoch 27/300*****\n",
      "*****Train Loss: -5.153070 Val Loss: -2.995410*****\n",
      "*****Validation Accuracy: 61.79%*****\n",
      "*****Total Avg Disparity: 0.17773912058518176*****\n",
      "\n",
      "Class Team_Sports: Recall Difference = 0.050236468733578676\n",
      "Class Celebration: Recall Difference = 0.013953488372093037\n",
      "Class Parade: Recall Difference = 0.041459937268320535\n",
      "Class Waiter_Or_Waitress: Recall Difference = -0.0915395284327325\n",
      "Class Individual_Sports: Recall Difference = -0.06239588066030588\n",
      "Class Surgeons: Recall Difference = -0.12416851441241672\n",
      "Class Spa: Recall Difference = -0.7799999999999999\n",
      "Class Law_Enforcement: Recall Difference = 0.14864864864864857\n",
      "Class Business: Recall Difference = -0.06529392937159934\n",
      "Class Dresses: Recall Difference = -0.6266937669376693\n",
      "Class Water_Activities: Recall Difference = 0.042378378378378434\n",
      "Class Picnic: Recall Difference = -0.2545454545454546\n",
      "Class Rescue: Recall Difference = 0.13974683544303798\n",
      "Class Cheering: Recall Difference = -0.06624282198523385\n",
      "Class Performance_And_Entertainment: Recall Difference = -0.004855609506772385\n",
      "Class Family: Recall Difference = -0.3316666666666667\n",
      "Data has been appended to No_Attenuation_07/teacher_validation_8.txt\n"
     ]
    },
    {
     "name": "stderr",
     "output_type": "stream",
     "text": [
      "100%|█████████████████████████████████████████████████████████████████████████| 162/162 [01:50<00:00,  1.47it/s]\n",
      "100%|███████████████████████████████████████████████████████████████████████████| 55/55 [00:18<00:00,  2.92it/s]\n"
     ]
    },
    {
     "name": "stdout",
     "output_type": "stream",
     "text": [
      "*****Epoch 28/300*****\n",
      "*****Train Loss: -5.159517 Val Loss: -2.425963*****\n",
      "*****Validation Accuracy: 61.13%*****\n",
      "*****Total Avg Disparity: 0.18703715045664399*****\n",
      "\n",
      "Class Team_Sports: Recall Difference = 0.10287849594207987\n",
      "Class Celebration: Recall Difference = 0.020930232558139583\n",
      "Class Parade: Recall Difference = 0.07140005702879959\n",
      "Class Waiter_Or_Waitress: Recall Difference = -0.03236245954692574\n",
      "Class Individual_Sports: Recall Difference = -0.04422232318643049\n",
      "Class Surgeons: Recall Difference = -0.09386548410938644\n",
      "Class Spa: Recall Difference = -0.7999999999999999\n",
      "Class Law_Enforcement: Recall Difference = 0.04729729729729715\n",
      "Class Business: Recall Difference = -0.050464099007788366\n",
      "Class Dresses: Recall Difference = -0.6388888888888888\n",
      "Class Water_Activities: Recall Difference = 0.03437837837837854\n",
      "Class Picnic: Recall Difference = -0.4363636363636364\n",
      "Class Rescue: Recall Difference = 0.20303797468354431\n",
      "Class Cheering: Recall Difference = -0.10459392945036922\n",
      "Class Performance_And_Entertainment: Recall Difference = 0.003577817531306038\n",
      "Class Family: Recall Difference = -0.30833333333333346\n",
      "Data has been appended to No_Attenuation_07/teacher_validation_8.txt\n"
     ]
    },
    {
     "name": "stderr",
     "output_type": "stream",
     "text": [
      "100%|█████████████████████████████████████████████████████████████████████████| 162/162 [01:50<00:00,  1.47it/s]\n",
      "100%|███████████████████████████████████████████████████████████████████████████| 55/55 [00:18<00:00,  2.91it/s]\n"
     ]
    },
    {
     "name": "stdout",
     "output_type": "stream",
     "text": [
      "*****Epoch 29/300*****\n",
      "*****Train Loss: -5.180254 Val Loss: -2.636729*****\n",
      "*****Validation Accuracy: 60.78%*****\n",
      "*****Total Avg Disparity: 0.15846594183122883*****\n",
      "\n",
      "Class Team_Sports: Recall Difference = 0.09097915571904003\n",
      "Class Celebration: Recall Difference = -0.006976744186046491\n",
      "Class Parade: Recall Difference = 0.02594810379241519\n",
      "Class Waiter_Or_Waitress: Recall Difference = -0.043920480813684826\n",
      "Class Individual_Sports: Recall Difference = -0.0455474784189005\n",
      "Class Surgeons: Recall Difference = -0.08203991130820398\n",
      "Class Spa: Recall Difference = -0.58\n",
      "Class Law_Enforcement: Recall Difference = 0.025525525525525672\n",
      "Class Business: Recall Difference = -0.10796970020271002\n",
      "Class Dresses: Recall Difference = -0.5399728997289973\n",
      "Class Water_Activities: Recall Difference = 0.0928648648648649\n",
      "Class Picnic: Recall Difference = -0.32727272727272727\n",
      "Class Rescue: Recall Difference = 0.09772151898734183\n",
      "Class Cheering: Recall Difference = -0.05455291222313369\n",
      "Class Performance_And_Entertainment: Recall Difference = -0.007496379589402913\n",
      "Class Family: Recall Difference = -0.40666666666666673\n",
      "Data has been appended to No_Attenuation_07/teacher_validation_8.txt\n"
     ]
    },
    {
     "name": "stderr",
     "output_type": "stream",
     "text": [
      "100%|█████████████████████████████████████████████████████████████████████████| 162/162 [01:50<00:00,  1.47it/s]\n",
      "100%|███████████████████████████████████████████████████████████████████████████| 55/55 [00:18<00:00,  2.95it/s]\n"
     ]
    },
    {
     "name": "stdout",
     "output_type": "stream",
     "text": [
      "*****Epoch 30/300*****\n",
      "*****Train Loss: -5.212333 Val Loss: -2.766503*****\n",
      "*****Validation Accuracy: 60.98%*****\n",
      "*****Total Avg Disparity: 0.16315048597164583*****\n",
      "\n",
      "Class Team_Sports: Recall Difference = 0.07801716587843754\n",
      "Class Celebration: Recall Difference = 0.02790697674418613\n",
      "Class Parade: Recall Difference = 0.02840034217279719\n",
      "Class Waiter_Or_Waitress: Recall Difference = -0.02265372168284807\n",
      "Class Individual_Sports: Recall Difference = -0.05459639557776774\n",
      "Class Surgeons: Recall Difference = -0.02143385070214343\n",
      "Class Spa: Recall Difference = -0.7799999999999999\n",
      "Class Law_Enforcement: Recall Difference = 0.12012012012012019\n",
      "Class Business: Recall Difference = -0.047903552757921575\n",
      "Class Dresses: Recall Difference = -0.676829268292683\n",
      "Class Water_Activities: Recall Difference = 0.10994594594594609\n",
      "Class Picnic: Recall Difference = -0.07272727272727275\n",
      "Class Rescue: Recall Difference = 0.08177215189873416\n",
      "Class Cheering: Recall Difference = -0.09228876127973756\n",
      "Class Performance_And_Entertainment: Recall Difference = 0.10247891643240481\n",
      "Class Family: Recall Difference = -0.29333333333333333\n",
      "Data has been appended to No_Attenuation_07/teacher_validation_8.txt\n"
     ]
    },
    {
     "name": "stderr",
     "output_type": "stream",
     "text": [
      "100%|█████████████████████████████████████████████████████████████████████████| 162/162 [01:50<00:00,  1.47it/s]\n",
      "100%|███████████████████████████████████████████████████████████████████████████| 55/55 [00:18<00:00,  2.95it/s]\n"
     ]
    },
    {
     "name": "stdout",
     "output_type": "stream",
     "text": [
      "*****Epoch 31/300*****\n",
      "*****Train Loss: -5.172297 Val Loss: -2.646659*****\n",
      "*****Validation Accuracy: 60.40%*****\n",
      "*****Total Avg Disparity: 0.1445884715196358*****\n",
      "\n",
      "Class Team_Sports: Recall Difference = 0.06505517603783495\n",
      "Class Celebration: Recall Difference = 0.03023255813953496\n",
      "Class Parade: Recall Difference = 0.023781009409751808\n",
      "Class Waiter_Or_Waitress: Recall Difference = -0.07027276930189574\n",
      "Class Individual_Sports: Recall Difference = -0.04441163107678325\n",
      "Class Surgeons: Recall Difference = -0.11825572801182554\n",
      "Class Spa: Recall Difference = -0.6\n",
      "Class Law_Enforcement: Recall Difference = 0.1924424424424424\n",
      "Class Business: Recall Difference = -0.09900778832817675\n",
      "Class Dresses: Recall Difference = -0.5033875338753389\n",
      "Class Water_Activities: Recall Difference = 0.03189189189189212\n",
      "Class Picnic: Recall Difference = -0.3090909090909091\n",
      "Class Rescue: Recall Difference = -0.0035443037974682845\n",
      "Class Cheering: Recall Difference = -0.04081214109926168\n",
      "Class Performance_And_Entertainment: Recall Difference = -0.0028963284777239195\n",
      "Class Family: Recall Difference = -0.17833333333333345\n",
      "Data has been appended to No_Attenuation_07/teacher_validation_8.txt\n"
     ]
    },
    {
     "name": "stderr",
     "output_type": "stream",
     "text": [
      "100%|█████████████████████████████████████████████████████████████████████████| 162/162 [01:50<00:00,  1.47it/s]\n",
      "100%|███████████████████████████████████████████████████████████████████████████| 55/55 [00:18<00:00,  2.91it/s]\n"
     ]
    },
    {
     "name": "stdout",
     "output_type": "stream",
     "text": [
      "*****Epoch 32/300*****\n",
      "*****Train Loss: -5.136232 Val Loss: -2.621194*****\n",
      "*****Validation Accuracy: 59.94%*****\n",
      "*****Total Avg Disparity: 0.1649395198391091*****\n",
      "\n",
      "Class Team_Sports: Recall Difference = 0.07353301804168866\n",
      "Class Celebration: Recall Difference = 0.03488372093023251\n",
      "Class Parade: Recall Difference = -0.018135158254918737\n",
      "Class Waiter_Or_Waitress: Recall Difference = -0.02357836338418884\n",
      "Class Individual_Sports: Recall Difference = -0.10502801756777225\n",
      "Class Surgeons: Recall Difference = 0.07021433850702163\n",
      "Class Spa: Recall Difference = -0.7599999999999999\n",
      "Class Law_Enforcement: Recall Difference = 0.1776776776776775\n",
      "Class Business: Recall Difference = -0.13453536754507628\n",
      "Class Dresses: Recall Difference = -0.5582655826558266\n",
      "Class Water_Activities: Recall Difference = 0.050918918918918754\n",
      "Class Picnic: Recall Difference = 0.18181818181818177\n",
      "Class Rescue: Recall Difference = 0.07113924050632908\n",
      "Class Cheering: Recall Difference = -0.024815422477440507\n",
      "Class Performance_And_Entertainment: Recall Difference = 0.0378226424738054\n",
      "Class Family: Recall Difference = -0.3166666666666667\n",
      "Data has been appended to No_Attenuation_07/teacher_validation_8.txt\n"
     ]
    },
    {
     "name": "stderr",
     "output_type": "stream",
     "text": [
      "100%|█████████████████████████████████████████████████████████████████████████| 162/162 [01:50<00:00,  1.47it/s]\n",
      "100%|███████████████████████████████████████████████████████████████████████████| 55/55 [00:18<00:00,  2.92it/s]\n"
     ]
    },
    {
     "name": "stdout",
     "output_type": "stream",
     "text": [
      "*****Epoch 33/300*****\n",
      "*****Train Loss: -5.116539 Val Loss: -2.607549*****\n",
      "*****Validation Accuracy: 60.66%*****\n",
      "*****Total Avg Disparity: 0.1668928792676699*****\n",
      "\n",
      "Class Team_Sports: Recall Difference = 0.0667951188182403\n",
      "Class Celebration: Recall Difference = -0.048837209302325546\n",
      "Class Parade: Recall Difference = 0.0428286284573709\n",
      "Class Waiter_Or_Waitress: Recall Difference = -0.18677762367082773\n",
      "Class Individual_Sports: Recall Difference = -0.06591700742086937\n",
      "Class Surgeons: Recall Difference = -0.02143385070214343\n",
      "Class Spa: Recall Difference = -0.6\n",
      "Class Law_Enforcement: Recall Difference = 0.08283283283283294\n",
      "Class Business: Recall Difference = -0.12407980369145433\n",
      "Class Dresses: Recall Difference = -0.5155826558265583\n",
      "Class Water_Activities: Recall Difference = 0.0774054054054053\n",
      "Class Picnic: Recall Difference = 0.0\n",
      "Class Rescue: Recall Difference = 0.16101265822784816\n",
      "Class Cheering: Recall Difference = 0.028096800656275678\n",
      "Class Performance_And_Entertainment: Recall Difference = 0.09012692733622968\n",
      "Class Family: Recall Difference = -0.3916666666666667\n",
      "Data has been appended to No_Attenuation_07/teacher_validation_8.txt\n"
     ]
    },
    {
     "name": "stderr",
     "output_type": "stream",
     "text": [
      "100%|█████████████████████████████████████████████████████████████████████████| 162/162 [01:50<00:00,  1.47it/s]\n",
      "100%|███████████████████████████████████████████████████████████████████████████| 55/55 [00:19<00:00,  2.89it/s]\n"
     ]
    },
    {
     "name": "stdout",
     "output_type": "stream",
     "text": [
      "*****Epoch 34/300*****\n",
      "*****Train Loss: -5.186046 Val Loss: -2.544495*****\n",
      "*****Validation Accuracy: 59.22%*****\n",
      "*****Total Avg Disparity: 0.16742347458923712*****\n",
      "\n",
      "Class Team_Sports: Recall Difference = 0.07801716587843766\n",
      "Class Celebration: Recall Difference = -0.037209302325581395\n",
      "Class Parade: Recall Difference = 0.05537496435700029\n",
      "Class Waiter_Or_Waitress: Recall Difference = -0.16828478964401306\n",
      "Class Individual_Sports: Recall Difference = -0.06667423898228075\n",
      "Class Surgeons: Recall Difference = -0.02734663710273466\n",
      "Class Spa: Recall Difference = -0.6799999999999999\n",
      "Class Law_Enforcement: Recall Difference = 0.14514514514514498\n",
      "Class Business: Recall Difference = -0.13784273978448736\n",
      "Class Dresses: Recall Difference = -0.6205962059620596\n",
      "Class Water_Activities: Recall Difference = 0.07189189189189193\n",
      "Class Picnic: Recall Difference = 0.16363636363636364\n",
      "Class Rescue: Recall Difference = -0.0463291139240507\n",
      "Class Cheering: Recall Difference = -0.015381460213289566\n",
      "Class Performance_And_Entertainment: Recall Difference = 0.10171224124712497\n",
      "Class Family: Recall Difference = -0.2633333333333334\n",
      "Data has been appended to No_Attenuation_07/teacher_validation_8.txt\n"
     ]
    },
    {
     "name": "stderr",
     "output_type": "stream",
     "text": [
      "100%|█████████████████████████████████████████████████████████████████████████| 162/162 [01:50<00:00,  1.46it/s]\n",
      "100%|███████████████████████████████████████████████████████████████████████████| 55/55 [00:18<00:00,  2.90it/s]\n"
     ]
    },
    {
     "name": "stdout",
     "output_type": "stream",
     "text": [
      "*****Epoch 35/300*****\n",
      "*****Train Loss: -5.215895 Val Loss: -2.216449*****\n",
      "*****Validation Accuracy: 59.13%*****\n",
      "*****Total Avg Disparity: 0.17530810100778796*****\n",
      "\n",
      "Class Team_Sports: Recall Difference = 0.0560752028960122\n",
      "Class Celebration: Recall Difference = -0.07674418604651162\n",
      "Class Parade: Recall Difference = 0.1065297975477616\n",
      "Class Waiter_Or_Waitress: Recall Difference = -0.14794267221451696\n",
      "Class Individual_Sports: Recall Difference = -0.06591700742086937\n",
      "Class Surgeons: Recall Difference = -0.03399852180339985\n",
      "Class Spa: Recall Difference = -0.6399999999999999\n",
      "Class Law_Enforcement: Recall Difference = 0.13388388388388406\n",
      "Class Business: Recall Difference = -0.13837618691987624\n",
      "Class Dresses: Recall Difference = -0.5399728997289973\n",
      "Class Water_Activities: Recall Difference = 0.07989189189189205\n",
      "Class Picnic: Recall Difference = 0.32727272727272716\n",
      "Class Rescue: Recall Difference = 0.1324050632911392\n",
      "Class Cheering: Recall Difference = -0.07977850697292854\n",
      "Class Performance_And_Entertainment: Recall Difference = -0.029474401567424813\n",
      "Class Family: Recall Difference = -0.21666666666666665\n",
      "Data has been appended to No_Attenuation_07/teacher_validation_8.txt\n"
     ]
    },
    {
     "name": "stderr",
     "output_type": "stream",
     "text": [
      "100%|█████████████████████████████████████████████████████████████████████████| 162/162 [01:50<00:00,  1.47it/s]\n",
      "100%|███████████████████████████████████████████████████████████████████████████| 55/55 [00:18<00:00,  2.93it/s]\n"
     ]
    },
    {
     "name": "stdout",
     "output_type": "stream",
     "text": [
      "*****Epoch 36/300*****\n",
      "*****Train Loss: -5.189112 Val Loss: -2.502774*****\n",
      "*****Validation Accuracy: 59.60%*****\n",
      "*****Total Avg Disparity: 0.15363770492446183*****\n",
      "\n",
      "Class Team_Sports: Recall Difference = 0.06589595375722535\n",
      "Class Celebration: Recall Difference = -0.027906976744186074\n",
      "Class Parade: Recall Difference = -0.017850014257199898\n",
      "Class Waiter_Or_Waitress: Recall Difference = -0.0032362459546927402\n",
      "Class Individual_Sports: Recall Difference = -0.055542935029532114\n",
      "Class Surgeons: Recall Difference = -0.1611234294161123\n",
      "Class Spa: Recall Difference = -0.52\n",
      "Class Law_Enforcement: Recall Difference = 0.03578578578578595\n",
      "Class Business: Recall Difference = -0.05814573775738818\n",
      "Class Dresses: Recall Difference = -0.6815718157181572\n",
      "Class Water_Activities: Recall Difference = 0.11189189189189186\n",
      "Class Picnic: Recall Difference = 0.10909090909090907\n",
      "Class Rescue: Recall Difference = 0.14708860759493667\n",
      "Class Cheering: Recall Difference = -0.03876127973748977\n",
      "Class Performance_And_Entertainment: Recall Difference = 0.05264502938921545\n",
      "Class Family: Recall Difference = -0.3716666666666667\n",
      "Data has been appended to No_Attenuation_07/teacher_validation_8.txt\n"
     ]
    },
    {
     "name": "stderr",
     "output_type": "stream",
     "text": [
      "100%|█████████████████████████████████████████████████████████████████████████| 162/162 [01:50<00:00,  1.47it/s]\n",
      "100%|███████████████████████████████████████████████████████████████████████████| 55/55 [00:18<00:00,  2.91it/s]\n"
     ]
    },
    {
     "name": "stdout",
     "output_type": "stream",
     "text": [
      "*****Epoch 37/300*****\n",
      "*****Train Loss: -5.167529 Val Loss: -2.531633*****\n",
      "*****Validation Accuracy: 60.69%*****\n",
      "*****Total Avg Disparity: 0.17087892648161657*****\n",
      "\n",
      "Class Team_Sports: Recall Difference = 0.13318152624511015\n",
      "Class Celebration: Recall Difference = 0.020930232558139528\n",
      "Class Parade: Recall Difference = 0.0548046763615625\n",
      "Class Waiter_Or_Waitress: Recall Difference = -0.04299583911234406\n",
      "Class Individual_Sports: Recall Difference = -0.02661668938361339\n",
      "Class Surgeons: Recall Difference = -0.14855875831485577\n",
      "Class Spa: Recall Difference = -0.68\n",
      "Class Law_Enforcement: Recall Difference = 0.11136136136136138\n",
      "Class Business: Recall Difference = -0.1836125040008535\n",
      "Class Dresses: Recall Difference = -0.5948509485094852\n",
      "Class Water_Activities: Recall Difference = 0.06637837837837823\n",
      "Class Picnic: Recall Difference = -0.10909090909090907\n",
      "Class Rescue: Recall Difference = 0.11240506329113925\n",
      "Class Cheering: Recall Difference = -0.09085315832649715\n",
      "Class Performance_And_Entertainment: Recall Difference = -0.05008944543828264\n",
      "Class Family: Recall Difference = -0.30833333333333346\n",
      "Data has been appended to No_Attenuation_07/teacher_validation_8.txt\n"
     ]
    },
    {
     "name": "stderr",
     "output_type": "stream",
     "text": [
      "100%|█████████████████████████████████████████████████████████████████████████| 162/162 [01:50<00:00,  1.47it/s]\n",
      "100%|███████████████████████████████████████████████████████████████████████████| 55/55 [00:19<00:00,  2.89it/s]\n"
     ]
    },
    {
     "name": "stdout",
     "output_type": "stream",
     "text": [
      "*****Epoch 38/300*****\n",
      "*****Train Loss: -5.166612 Val Loss: -2.713273*****\n",
      "*****Validation Accuracy: 62.19%*****\n",
      "*****Total Avg Disparity: 0.15374152238643007*****\n",
      "\n",
      "Class Team_Sports: Recall Difference = 0.10601973492146921\n",
      "Class Celebration: Recall Difference = -0.03720930232558134\n",
      "Class Parade: Recall Difference = 0.014257199885942429\n",
      "Class Waiter_Or_Waitress: Recall Difference = -0.11003236245954706\n",
      "Class Individual_Sports: Recall Difference = -0.07182341359987876\n",
      "Class Surgeons: Recall Difference = 0.07021433850702152\n",
      "Class Spa: Recall Difference = -0.74\n",
      "Class Law_Enforcement: Recall Difference = 0.07607607607607614\n",
      "Class Business: Recall Difference = -0.04000853515416625\n",
      "Class Dresses: Recall Difference = -0.5216802168021681\n",
      "Class Water_Activities: Recall Difference = 0.06886486486486487\n",
      "Class Picnic: Recall Difference = 0.09090909090909083\n",
      "Class Rescue: Recall Difference = 0.09645569620253167\n",
      "Class Cheering: Recall Difference = -0.06624282198523379\n",
      "Class Performance_And_Entertainment: Recall Difference = -0.030070704489309152\n",
      "Class Family: Recall Difference = -0.32000000000000006\n",
      "Data has been appended to No_Attenuation_07/teacher_validation_8.txt\n"
     ]
    },
    {
     "name": "stderr",
     "output_type": "stream",
     "text": [
      "100%|█████████████████████████████████████████████████████████████████████████| 162/162 [01:50<00:00,  1.47it/s]\n",
      "100%|███████████████████████████████████████████████████████████████████████████| 55/55 [00:18<00:00,  2.99it/s]\n"
     ]
    },
    {
     "name": "stdout",
     "output_type": "stream",
     "text": [
      "*****Epoch 39/300*****\n",
      "*****Train Loss: -5.215592 Val Loss: -2.533537*****\n",
      "*****Validation Accuracy: 60.78%*****\n",
      "*****Total Avg Disparity: 0.16889860351718933*****\n",
      "\n",
      "Class Team_Sports: Recall Difference = 0.09153967419863374\n",
      "Class Celebration: Recall Difference = -0.10930232558139524\n",
      "Class Parade: Recall Difference = -0.03284858853721129\n",
      "Class Waiter_Or_Waitress: Recall Difference = -0.21590383726306062\n",
      "Class Individual_Sports: Recall Difference = -0.03479479024685761\n",
      "Class Surgeons: Recall Difference = -0.08869179600886923\n",
      "Class Spa: Recall Difference = -0.6\n",
      "Class Law_Enforcement: Recall Difference = 0.06106106106106102\n",
      "Class Business: Recall Difference = -0.09826096233863224\n",
      "Class Dresses: Recall Difference = -0.6449864498644986\n",
      "Class Water_Activities: Recall Difference = 0.13589189189189177\n",
      "Class Picnic: Recall Difference = 0.07272727272727264\n",
      "Class Rescue: Recall Difference = 0.1650632911392405\n",
      "Class Cheering: Recall Difference = -0.09310910582444615\n",
      "Class Performance_And_Entertainment: Recall Difference = -0.028196609591958355\n",
      "Class Family: Recall Difference = -0.23000000000000004\n",
      "Data has been appended to No_Attenuation_07/teacher_validation_8.txt\n"
     ]
    },
    {
     "name": "stderr",
     "output_type": "stream",
     "text": [
      "100%|█████████████████████████████████████████████████████████████████████████| 162/162 [01:50<00:00,  1.47it/s]\n",
      "100%|███████████████████████████████████████████████████████████████████████████| 55/55 [00:18<00:00,  2.92it/s]\n"
     ]
    },
    {
     "name": "stdout",
     "output_type": "stream",
     "text": [
      "*****Epoch 40/300*****\n",
      "*****Train Loss: -5.221542 Val Loss: -2.593940*****\n",
      "*****Validation Accuracy: 60.20%*****\n",
      "*****Total Avg Disparity: 0.1688577983475451*****\n",
      "\n",
      "Class Team_Sports: Recall Difference = 0.07627722309803242\n",
      "Class Celebration: Recall Difference = 0.006976744186046546\n",
      "Class Parade: Recall Difference = -0.015968063872255356\n",
      "Class Waiter_Or_Waitress: Recall Difference = -0.11003236245954717\n",
      "Class Individual_Sports: Recall Difference = -0.01681054066333476\n",
      "Class Surgeons: Recall Difference = -0.021433850702143376\n",
      "Class Spa: Recall Difference = -0.66\n",
      "Class Law_Enforcement: Recall Difference = 0.03903903903903905\n",
      "Class Business: Recall Difference = -0.08599167822468806\n",
      "Class Dresses: Recall Difference = -0.7256097560975611\n",
      "Class Water_Activities: Recall Difference = 0.10194594594594586\n",
      "Class Picnic: Recall Difference = -0.12727272727272737\n",
      "Class Rescue: Recall Difference = 0.2030379746835443\n",
      "Class Cheering: Recall Difference = -0.0691140278917145\n",
      "Class Performance_And_Entertainment: Recall Difference = 0.00221483942414169\n",
      "Class Family: Recall Difference = -0.44000000000000006\n",
      "Data has been appended to No_Attenuation_07/teacher_validation_8.txt\n"
     ]
    },
    {
     "name": "stderr",
     "output_type": "stream",
     "text": [
      "100%|█████████████████████████████████████████████████████████████████████████| 162/162 [01:50<00:00,  1.47it/s]\n",
      "100%|███████████████████████████████████████████████████████████████████████████| 55/55 [00:18<00:00,  3.00it/s]\n"
     ]
    },
    {
     "name": "stdout",
     "output_type": "stream",
     "text": [
      "*****Epoch 41/300*****\n",
      "*****Train Loss: -5.206619 Val Loss: -2.529216*****\n",
      "*****Validation Accuracy: 58.90%*****\n",
      "*****Total Avg Disparity: 0.1845595026269425*****\n",
      "\n",
      "Class Team_Sports: Recall Difference = 0.08127517954107533\n",
      "Class Celebration: Recall Difference = -0.07209302325581396\n",
      "Class Parade: Recall Difference = -0.0840034217279727\n",
      "Class Waiter_Or_Waitress: Recall Difference = -0.13915857605178017\n",
      "Class Individual_Sports: Recall Difference = -0.09912161138876274\n",
      "Class Surgeons: Recall Difference = -0.0761271249076127\n",
      "Class Spa: Recall Difference = -0.68\n",
      "Class Law_Enforcement: Recall Difference = 0.09134134134134131\n",
      "Class Business: Recall Difference = -0.10615597994238762\n",
      "Class Dresses: Recall Difference = -0.5596205962059622\n",
      "Class Water_Activities: Recall Difference = 0.10940540540540533\n",
      "Class Picnic: Recall Difference = -0.2181818181818182\n",
      "Class Rescue: Recall Difference = 0.08708860759493675\n",
      "Class Cheering: Recall Difference = -0.058859721082854755\n",
      "Class Performance_And_Entertainment: Recall Difference = -0.1005196354033564\n",
      "Class Family: Recall Difference = -0.39\n",
      "Data has been appended to No_Attenuation_07/teacher_validation_8.txt\n"
     ]
    },
    {
     "name": "stderr",
     "output_type": "stream",
     "text": [
      "100%|█████████████████████████████████████████████████████████████████████████| 162/162 [01:50<00:00,  1.47it/s]\n",
      "100%|███████████████████████████████████████████████████████████████████████████| 55/55 [00:19<00:00,  2.89it/s]\n"
     ]
    },
    {
     "name": "stdout",
     "output_type": "stream",
     "text": [
      "*****Epoch 42/300*****\n",
      "*****Train Loss: -5.176261 Val Loss: -2.310853*****\n",
      "*****Validation Accuracy: 58.01%*****\n",
      "*****Total Avg Disparity: 0.1762818239729616*****\n",
      "\n",
      "Class Team_Sports: Recall Difference = 0.0460909674782507\n",
      "Class Celebration: Recall Difference = 0.004651162790697716\n",
      "Class Parade: Recall Difference = -0.03119475335044186\n",
      "Class Waiter_Or_Waitress: Recall Difference = -0.11003236245954717\n",
      "Class Individual_Sports: Recall Difference = -0.12244434348023636\n",
      "Class Surgeons: Recall Difference = -0.2645971914264596\n",
      "Class Spa: Recall Difference = -0.6199999999999999\n",
      "Class Law_Enforcement: Recall Difference = 0.10310310310310322\n",
      "Class Business: Recall Difference = -0.10796970020271002\n",
      "Class Dresses: Recall Difference = -0.5474254742547426\n",
      "Class Water_Activities: Recall Difference = 0.07740540540540564\n",
      "Class Picnic: Recall Difference = -0.2727272727272728\n",
      "Class Rescue: Recall Difference = 0.10911392405063292\n",
      "Class Cheering: Recall Difference = 0.0034864643150123165\n",
      "Class Performance_And_Entertainment: Recall Difference = -0.03526705852287243\n",
      "Class Family: Recall Difference = -0.365\n",
      "Data has been appended to No_Attenuation_07/teacher_validation_8.txt\n"
     ]
    },
    {
     "name": "stderr",
     "output_type": "stream",
     "text": [
      "100%|█████████████████████████████████████████████████████████████████████████| 162/162 [01:50<00:00,  1.47it/s]\n",
      "100%|███████████████████████████████████████████████████████████████████████████| 55/55 [00:18<00:00,  2.96it/s]\n"
     ]
    },
    {
     "name": "stdout",
     "output_type": "stream",
     "text": [
      "*****Epoch 43/300*****\n",
      "*****Train Loss: -5.168762 Val Loss: -2.489000*****\n",
      "*****Validation Accuracy: 57.81%*****\n",
      "*****Total Avg Disparity: 0.16936769467779414*****\n",
      "\n",
      "Class Team_Sports: Recall Difference = 0.07173468791965909\n",
      "Class Celebration: Recall Difference = -0.0046511627906976605\n",
      "Class Parade: Recall Difference = 0.01916167664670665\n",
      "Class Waiter_Or_Waitress: Recall Difference = -0.1266759130836801\n",
      "Class Individual_Sports: Recall Difference = -0.10854914432833573\n",
      "Class Surgeons: Recall Difference = -0.11234294161123426\n",
      "Class Spa: Recall Difference = -0.62\n",
      "Class Law_Enforcement: Recall Difference = 0.1133633633633635\n",
      "Class Business: Recall Difference = -0.0686013016110103\n",
      "Class Dresses: Recall Difference = -0.5277777777777779\n",
      "Class Water_Activities: Recall Difference = 0.12151351351351353\n",
      "Class Picnic: Recall Difference = -0.2909090909090909\n",
      "Class Rescue: Recall Difference = 0.1291139240506329\n",
      "Class Cheering: Recall Difference = -0.11259228876127986\n",
      "Class Performance_And_Entertainment: Recall Difference = 0.0028963284777238085\n",
      "Class Family: Recall Difference = -0.28\n",
      "Data has been appended to No_Attenuation_07/teacher_validation_8.txt\n"
     ]
    },
    {
     "name": "stderr",
     "output_type": "stream",
     "text": [
      "100%|█████████████████████████████████████████████████████████████████████████| 162/162 [01:50<00:00,  1.47it/s]\n",
      "100%|███████████████████████████████████████████████████████████████████████████| 55/55 [00:18<00:00,  2.91it/s]\n"
     ]
    },
    {
     "name": "stdout",
     "output_type": "stream",
     "text": [
      "*****Epoch 44/300*****\n",
      "*****Train Loss: -5.179127 Val Loss: -2.553989*****\n",
      "*****Validation Accuracy: 60.43%*****\n",
      "*****Total Avg Disparity: 0.1904361542971217*****\n",
      "\n",
      "Class Team_Sports: Recall Difference = 0.07139604133823774\n",
      "Class Celebration: Recall Difference = 0.013953488372093037\n",
      "Class Parade: Recall Difference = -0.044824636441403\n",
      "Class Waiter_Or_Waitress: Recall Difference = -0.10032362459546951\n",
      "Class Individual_Sports: Recall Difference = -0.11263819475995762\n",
      "Class Surgeons: Recall Difference = -0.24020694752402066\n",
      "Class Spa: Recall Difference = -0.72\n",
      "Class Law_Enforcement: Recall Difference = 0.09634634634634642\n",
      "Class Business: Recall Difference = -0.054304918382588274\n",
      "Class Dresses: Recall Difference = -0.6754742547425474\n",
      "Class Water_Activities: Recall Difference = 0.09945945945945955\n",
      "Class Picnic: Recall Difference = -0.2181818181818182\n",
      "Class Rescue: Recall Difference = 0.1883544303797468\n",
      "Class Cheering: Recall Difference = -0.048810500410172264\n",
      "Class Performance_And_Entertainment: Recall Difference = 0.009370474486753488\n",
      "Class Family: Recall Difference = -0.3533333333333334\n",
      "Data has been appended to No_Attenuation_07/teacher_validation_8.txt\n"
     ]
    },
    {
     "name": "stderr",
     "output_type": "stream",
     "text": [
      "100%|█████████████████████████████████████████████████████████████████████████| 162/162 [01:50<00:00,  1.46it/s]\n",
      "100%|███████████████████████████████████████████████████████████████████████████| 55/55 [00:18<00:00,  2.97it/s]\n"
     ]
    },
    {
     "name": "stdout",
     "output_type": "stream",
     "text": [
      "*****Epoch 45/300*****\n",
      "*****Train Loss: -5.168889 Val Loss: -2.188169*****\n",
      "*****Validation Accuracy: 58.73%*****\n",
      "*****Total Avg Disparity: 0.16817899590877772*****\n",
      "\n",
      "Class Team_Sports: Recall Difference = 0.11730016932329068\n",
      "Class Celebration: Recall Difference = 0.05813953488372092\n",
      "Class Parade: Recall Difference = 0.048816652409466865\n",
      "Class Waiter_Or_Waitress: Recall Difference = -0.11881645862228396\n",
      "Class Individual_Sports: Recall Difference = -0.05459639557776763\n",
      "Class Surgeons: Recall Difference = -0.0044345898004434225\n",
      "Class Spa: Recall Difference = -0.52\n",
      "Class Law_Enforcement: Recall Difference = 0.08258258258258266\n",
      "Class Business: Recall Difference = -0.022618158540488653\n",
      "Class Dresses: Recall Difference = -0.6890243902439025\n",
      "Class Water_Activities: Recall Difference = 0.12291891891891893\n",
      "Class Picnic: Recall Difference = -0.32727272727272727\n",
      "Class Rescue: Recall Difference = 0.15772151898734177\n",
      "Class Cheering: Recall Difference = -0.04163248564397043\n",
      "Class Performance_And_Entertainment: Recall Difference = 0.0416560184002045\n",
      "Class Family: Recall Difference = -0.2833333333333333\n",
      "Data has been appended to No_Attenuation_07/teacher_validation_8.txt\n"
     ]
    },
    {
     "name": "stderr",
     "output_type": "stream",
     "text": [
      "100%|█████████████████████████████████████████████████████████████████████████| 162/162 [01:50<00:00,  1.47it/s]\n",
      "100%|███████████████████████████████████████████████████████████████████████████| 55/55 [00:18<00:00,  2.91it/s]\n"
     ]
    },
    {
     "name": "stdout",
     "output_type": "stream",
     "text": [
      "*****Epoch 46/300*****\n",
      "*****Train Loss: -5.228337 Val Loss: -2.512292*****\n",
      "*****Validation Accuracy: 59.60%*****\n",
      "*****Total Avg Disparity: 0.14961472946622204*****\n",
      "\n",
      "Class Team_Sports: Recall Difference = 0.12858060372511249\n",
      "Class Celebration: Recall Difference = -0.11860465116279068\n",
      "Class Parade: Recall Difference = -0.003992015968063867\n",
      "Class Waiter_Or_Waitress: Recall Difference = -0.16828478964401306\n",
      "Class Individual_Sports: Recall Difference = -0.08799030743601399\n",
      "Class Surgeons: Recall Difference = -0.02143385070214332\n",
      "Class Spa: Recall Difference = -0.5999999999999999\n",
      "Class Law_Enforcement: Recall Difference = 0.022522522522522515\n",
      "Class Business: Recall Difference = -0.02976635015469975\n",
      "Class Dresses: Recall Difference = -0.5413279132791327\n",
      "Class Water_Activities: Recall Difference = 0.10691891891891891\n",
      "Class Picnic: Recall Difference = 0.018181818181818188\n",
      "Class Rescue: Recall Difference = 0.10911392405063294\n",
      "Class Cheering: Recall Difference = -0.025635767022149314\n",
      "Class Performance_And_Entertainment: Recall Difference = 0.06814890535820772\n",
      "Class Family: Recall Difference = -0.3433333333333334\n",
      "Data has been appended to No_Attenuation_07/teacher_validation_8.txt\n"
     ]
    },
    {
     "name": "stderr",
     "output_type": "stream",
     "text": [
      "100%|█████████████████████████████████████████████████████████████████████████| 162/162 [01:50<00:00,  1.47it/s]\n",
      "100%|███████████████████████████████████████████████████████████████████████████| 55/55 [00:18<00:00,  2.95it/s]\n"
     ]
    },
    {
     "name": "stdout",
     "output_type": "stream",
     "text": [
      "*****Epoch 47/300*****\n",
      "*****Train Loss: -5.238988 Val Loss: -2.423103*****\n",
      "*****Validation Accuracy: 60.89%*****\n",
      "*****Total Avg Disparity: 0.17823713067428093*****\n",
      "\n",
      "Class Team_Sports: Recall Difference = 0.10023938810065969\n",
      "Class Celebration: Recall Difference = -0.025581395348837244\n",
      "Class Parade: Recall Difference = 0.011519817507841368\n",
      "Class Waiter_Or_Waitress: Recall Difference = -0.024503005085529383\n",
      "Class Individual_Sports: Recall Difference = -0.09836437982735113\n",
      "Class Surgeons: Recall Difference = -0.09386548410938644\n",
      "Class Spa: Recall Difference = -0.6\n",
      "Class Law_Enforcement: Recall Difference = 0.16016016016016016\n",
      "Class Business: Recall Difference = -0.075002667235677\n",
      "Class Dresses: Recall Difference = -0.7378048780487804\n",
      "Class Water_Activities: Recall Difference = 0.07686486486486499\n",
      "Class Picnic: Recall Difference = 0.309090909090909\n",
      "Class Rescue: Recall Difference = 0.08582278481012656\n",
      "Class Cheering: Recall Difference = 0.0324036095159968\n",
      "Class Performance_And_Entertainment: Recall Difference = 0.033904080415708415\n",
      "Class Family: Recall Difference = -0.3866666666666666\n",
      "Data has been appended to No_Attenuation_07/teacher_validation_8.txt\n"
     ]
    },
    {
     "name": "stderr",
     "output_type": "stream",
     "text": [
      "100%|█████████████████████████████████████████████████████████████████████████| 162/162 [01:50<00:00,  1.47it/s]\n",
      "100%|███████████████████████████████████████████████████████████████████████████| 55/55 [00:18<00:00,  2.94it/s]\n"
     ]
    },
    {
     "name": "stdout",
     "output_type": "stream",
     "text": [
      "*****Epoch 48/300*****\n",
      "*****Train Loss: -5.219844 Val Loss: -2.219023*****\n",
      "*****Validation Accuracy: 58.10%*****\n",
      "*****Total Avg Disparity: 0.18453458256916788*****\n",
      "\n",
      "Class Team_Sports: Recall Difference = 0.0982775734220821\n",
      "Class Celebration: Recall Difference = -0.0720930232558139\n",
      "Class Parade: Recall Difference = 0.13156544054747643\n",
      "Class Waiter_Or_Waitress: Recall Difference = -0.11003236245954717\n",
      "Class Individual_Sports: Recall Difference = -0.10074965924579715\n",
      "Class Surgeons: Recall Difference = -0.13673318551367336\n",
      "Class Spa: Recall Difference = -0.54\n",
      "Class Law_Enforcement: Recall Difference = 0.1481481481481482\n",
      "Class Business: Recall Difference = -0.13656246665955407\n",
      "Class Dresses: Recall Difference = -0.6023035230352305\n",
      "Class Water_Activities: Recall Difference = 0.0884324324324326\n",
      "Class Picnic: Recall Difference = 0.21818181818181814\n",
      "Class Rescue: Recall Difference = 0.12177215189873417\n",
      "Class Cheering: Recall Difference = -0.11115668580803945\n",
      "Class Performance_And_Entertainment: Recall Difference = 0.03654485049833878\n",
      "Class Family: Recall Difference = -0.30000000000000004\n",
      "Data has been appended to No_Attenuation_07/teacher_validation_8.txt\n"
     ]
    },
    {
     "name": "stderr",
     "output_type": "stream",
     "text": [
      "100%|█████████████████████████████████████████████████████████████████████████| 162/162 [01:50<00:00,  1.47it/s]\n",
      "100%|███████████████████████████████████████████████████████████████████████████| 55/55 [00:19<00:00,  2.88it/s]\n"
     ]
    },
    {
     "name": "stdout",
     "output_type": "stream",
     "text": [
      "*****Epoch 49/300*****\n",
      "*****Train Loss: -5.210528 Val Loss: -2.461522*****\n",
      "*****Validation Accuracy: 58.99%*****\n",
      "*****Total Avg Disparity: 0.17793001767053174*****\n",
      "\n",
      "Class Team_Sports: Recall Difference = 0.1089974893443102\n",
      "Class Celebration: Recall Difference = -0.04651162790697677\n",
      "Class Parade: Recall Difference = 0.034388366124893044\n",
      "Class Waiter_Or_Waitress: Recall Difference = -0.20434581599630142\n",
      "Class Individual_Sports: Recall Difference = -0.044411631076783364\n",
      "Class Surgeons: Recall Difference = -0.06356245380635628\n",
      "Class Spa: Recall Difference = -0.6199999999999999\n",
      "Class Law_Enforcement: Recall Difference = 0.18718718718718724\n",
      "Class Business: Recall Difference = -0.12557345567054307\n",
      "Class Dresses: Recall Difference = -0.5413279132791329\n",
      "Class Water_Activities: Recall Difference = 0.055351351351351386\n",
      "Class Picnic: Recall Difference = -0.3090909090909092\n",
      "Class Rescue: Recall Difference = 0.08177215189873416\n",
      "Class Cheering: Recall Difference = -0.04060705496308448\n",
      "Class Performance_And_Entertainment: Recall Difference = 0.09208620836527809\n",
      "Class Family: Recall Difference = -0.29166666666666663\n",
      "Data has been appended to No_Attenuation_07/teacher_validation_8.txt\n"
     ]
    },
    {
     "name": "stderr",
     "output_type": "stream",
     "text": [
      "100%|█████████████████████████████████████████████████████████████████████████| 162/162 [01:50<00:00,  1.47it/s]\n",
      "100%|███████████████████████████████████████████████████████████████████████████| 55/55 [00:18<00:00,  2.99it/s]\n"
     ]
    },
    {
     "name": "stdout",
     "output_type": "stream",
     "text": [
      "*****Epoch 50/300*****\n",
      "*****Train Loss: -5.191560 Val Loss: -2.386655*****\n",
      "*****Validation Accuracy: 59.19%*****\n",
      "*****Total Avg Disparity: 0.15560793756623176*****\n",
      "\n",
      "Class Team_Sports: Recall Difference = 0.13464120978571847\n",
      "Class Celebration: Recall Difference = -0.041860465116279055\n",
      "Class Parade: Recall Difference = 0.058340461933276355\n",
      "Class Waiter_Or_Waitress: Recall Difference = 0.018030513176144236\n",
      "Class Individual_Sports: Recall Difference = -0.04925791306981675\n",
      "Class Surgeons: Recall Difference = 0.03917220990391729\n",
      "Class Spa: Recall Difference = -0.74\n",
      "Class Law_Enforcement: Recall Difference = 0.11136136136136149\n",
      "Class Business: Recall Difference = -0.09570041608876567\n",
      "Class Dresses: Recall Difference = -0.5460704607046071\n",
      "Class Water_Activities: Recall Difference = 0.055351351351351386\n",
      "Class Picnic: Recall Difference = -0.16363636363636375\n",
      "Class Rescue: Recall Difference = 0.10177215189873415\n",
      "Class Cheering: Recall Difference = -0.0030762920426578577\n",
      "Class Performance_And_Entertainment: Recall Difference = 0.02478916432404804\n",
      "Class Family: Recall Difference = -0.3066666666666666\n",
      "Data has been appended to No_Attenuation_07/teacher_validation_8.txt\n"
     ]
    },
    {
     "name": "stderr",
     "output_type": "stream",
     "text": [
      "100%|█████████████████████████████████████████████████████████████████████████| 162/162 [01:50<00:00,  1.47it/s]\n",
      "100%|███████████████████████████████████████████████████████████████████████████| 55/55 [00:18<00:00,  2.95it/s]\n"
     ]
    },
    {
     "name": "stdout",
     "output_type": "stream",
     "text": [
      "*****Epoch 51/300*****\n",
      "*****Train Loss: -5.181995 Val Loss: -2.213235*****\n",
      "*****Validation Accuracy: 57.63%*****\n",
      "*****Total Avg Disparity: 0.18053564158680374*****\n",
      "\n",
      "Class Team_Sports: Recall Difference = 0.06623460033864648\n",
      "Class Celebration: Recall Difference = 0.0023255813953489413\n",
      "Class Parade: Recall Difference = 0.10350727117194192\n",
      "Class Waiter_Or_Waitress: Recall Difference = -0.0711974110032364\n",
      "Class Individual_Sports: Recall Difference = -0.1321369074663032\n",
      "Class Surgeons: Recall Difference = 0.1603843311160384\n",
      "Class Spa: Recall Difference = -0.6\n",
      "Class Law_Enforcement: Recall Difference = 0.09459459459459463\n",
      "Class Business: Recall Difference = -0.12023898431665431\n",
      "Class Dresses: Recall Difference = -0.6707317073170731\n",
      "Class Water_Activities: Recall Difference = 0.05037837837837855\n",
      "Class Picnic: Recall Difference = -0.4363636363636364\n",
      "Class Rescue: Recall Difference = 0.043797468354430436\n",
      "Class Cheering: Recall Difference = -0.06337161607875308\n",
      "Class Performance_And_Entertainment: Recall Difference = 0.033307777493823965\n",
      "Class Family: Recall Difference = -0.24\n",
      "Data has been appended to No_Attenuation_07/teacher_validation_8.txt\n"
     ]
    },
    {
     "name": "stderr",
     "output_type": "stream",
     "text": [
      "100%|█████████████████████████████████████████████████████████████████████████| 162/162 [01:50<00:00,  1.47it/s]\n",
      "100%|███████████████████████████████████████████████████████████████████████████| 55/55 [00:18<00:00,  2.91it/s]\n"
     ]
    },
    {
     "name": "stdout",
     "output_type": "stream",
     "text": [
      "*****Epoch 52/300*****\n",
      "*****Train Loss: -5.206856 Val Loss: -2.302357*****\n",
      "*****Validation Accuracy: 59.11%*****\n",
      "*****Total Avg Disparity: 0.17097813609250012*****\n",
      "\n",
      "Class Team_Sports: Recall Difference = 0.1051789572020786\n",
      "Class Celebration: Recall Difference = -0.13255813953488366\n",
      "Class Parade: Recall Difference = -0.021385799828913532\n",
      "Class Waiter_Or_Waitress: Recall Difference = -0.08090614886731406\n",
      "Class Individual_Sports: Recall Difference = -0.07352718461305485\n",
      "Class Surgeons: Recall Difference = -0.10051736881005163\n",
      "Class Spa: Recall Difference = -0.66\n",
      "Class Law_Enforcement: Recall Difference = 0.1166166166166166\n",
      "Class Business: Recall Difference = -0.1325082684305986\n",
      "Class Dresses: Recall Difference = -0.6388888888888891\n",
      "Class Water_Activities: Recall Difference = 0.07848648648648648\n",
      "Class Picnic: Recall Difference = -0.21818181818181817\n",
      "Class Rescue: Recall Difference = 0.08911392405063293\n",
      "Class Cheering: Recall Difference = -0.03937653814602132\n",
      "Class Performance_And_Entertainment: Recall Difference = -0.030070704489309208\n",
      "Class Family: Recall Difference = -0.2183333333333335\n",
      "Data has been appended to No_Attenuation_07/teacher_validation_8.txt\n"
     ]
    },
    {
     "name": "stderr",
     "output_type": "stream",
     "text": [
      "100%|█████████████████████████████████████████████████████████████████████████| 162/162 [01:50<00:00,  1.47it/s]\n",
      "100%|███████████████████████████████████████████████████████████████████████████| 55/55 [00:18<00:00,  2.92it/s]\n"
     ]
    },
    {
     "name": "stdout",
     "output_type": "stream",
     "text": [
      "*****Epoch 53/300*****\n",
      "*****Train Loss: -5.212214 Val Loss: -2.126760*****\n",
      "*****Validation Accuracy: 59.08%*****\n",
      "*****Total Avg Disparity: 0.1689785355479543*****\n",
      "\n",
      "Class Team_Sports: Recall Difference = 0.08053949903660895\n",
      "Class Celebration: Recall Difference = -0.09767441860465115\n",
      "Class Parade: Recall Difference = -0.026290276589677752\n",
      "Class Waiter_Or_Waitress: Recall Difference = -0.18677762367082773\n",
      "Class Individual_Sports: Recall Difference = -0.08893684688777825\n",
      "Class Surgeons: Recall Difference = -0.002956393200295504\n",
      "Class Spa: Recall Difference = -0.5\n",
      "Class Law_Enforcement: Recall Difference = 0.06256256256256254\n",
      "Class Business: Recall Difference = -0.10412888082790994\n",
      "Class Dresses: Recall Difference = -0.5291327913279134\n",
      "Class Water_Activities: Recall Difference = 0.009837837837837982\n",
      "Class Picnic: Recall Difference = -0.4909090909090909\n",
      "Class Rescue: Recall Difference = 0.11240506329113925\n",
      "Class Cheering: Recall Difference = -0.01763740771123873\n",
      "Class Performance_And_Entertainment: Recall Difference = -0.10886787630973677\n",
      "Class Family: Recall Difference = -0.28500000000000003\n",
      "Data has been appended to No_Attenuation_07/teacher_validation_8.txt\n"
     ]
    },
    {
     "name": "stderr",
     "output_type": "stream",
     "text": [
      "100%|█████████████████████████████████████████████████████████████████████████| 162/162 [01:50<00:00,  1.47it/s]\n",
      "100%|███████████████████████████████████████████████████████████████████████████| 55/55 [00:19<00:00,  2.84it/s]\n"
     ]
    },
    {
     "name": "stdout",
     "output_type": "stream",
     "text": [
      "*****Epoch 54/300*****\n",
      "*****Train Loss: -5.207275 Val Loss: -2.287721*****\n",
      "*****Validation Accuracy: 58.21%*****\n",
      "*****Total Avg Disparity: 0.1814401934703056*****\n",
      "\n",
      "Class Team_Sports: Recall Difference = 0.054055000875810166\n",
      "Class Celebration: Recall Difference = -0.086046511627907\n",
      "Class Parade: Recall Difference = 0.025149700598802505\n",
      "Class Waiter_Or_Waitress: Recall Difference = -0.23162274618585305\n",
      "Class Individual_Sports: Recall Difference = -0.11835529304861414\n",
      "Class Surgeons: Recall Difference = -0.21581670362158162\n",
      "Class Spa: Recall Difference = -0.7\n",
      "Class Law_Enforcement: Recall Difference = 0.0658158158158158\n",
      "Class Business: Recall Difference = -0.15011202389843165\n",
      "Class Dresses: Recall Difference = -0.5853658536585367\n",
      "Class Water_Activities: Recall Difference = 0.04237837837837832\n",
      "Class Picnic: Recall Difference = -0.07272727272727275\n",
      "Class Rescue: Recall Difference = 0.0784810126582278\n",
      "Class Cheering: Recall Difference = 0.04696472518457756\n",
      "Class Performance_And_Entertainment: Recall Difference = -0.018485390578413752\n",
      "Class Family: Recall Difference = -0.4116666666666666\n",
      "Data has been appended to No_Attenuation_07/teacher_validation_8.txt\n"
     ]
    },
    {
     "name": "stderr",
     "output_type": "stream",
     "text": [
      "100%|█████████████████████████████████████████████████████████████████████████| 162/162 [01:50<00:00,  1.47it/s]\n",
      "100%|███████████████████████████████████████████████████████████████████████████| 55/55 [00:18<00:00,  2.93it/s]\n"
     ]
    },
    {
     "name": "stdout",
     "output_type": "stream",
     "text": [
      "*****Epoch 55/300*****\n",
      "*****Train Loss: -5.182961 Val Loss: -2.362049*****\n",
      "*****Validation Accuracy: 58.38%*****\n",
      "*****Total Avg Disparity: 0.16984089032657848*****\n",
      "\n",
      "Class Team_Sports: Recall Difference = 0.09709814912127046\n",
      "Class Celebration: Recall Difference = -0.011627906976744151\n",
      "Class Parade: Recall Difference = 0.03763900769888795\n",
      "Class Waiter_Or_Waitress: Recall Difference = -0.006010171058714819\n",
      "Class Individual_Sports: Recall Difference = -0.06315311222171738\n",
      "Class Surgeons: Recall Difference = -0.20990391722099044\n",
      "Class Spa: Recall Difference = -0.72\n",
      "Class Law_Enforcement: Recall Difference = -0.006506506506506415\n",
      "Class Business: Recall Difference = -0.07116184786087698\n",
      "Class Dresses: Recall Difference = -0.5962059620596207\n",
      "Class Water_Activities: Recall Difference = 0.08237837837837836\n",
      "Class Picnic: Recall Difference = -0.4181818181818183\n",
      "Class Rescue: Recall Difference = 0.08582278481012656\n",
      "Class Cheering: Recall Difference = -0.02050861361771944\n",
      "Class Performance_And_Entertainment: Recall Difference = -0.046256069511883546\n",
      "Class Family: Recall Difference = -0.24499999999999997\n",
      "Data has been appended to No_Attenuation_07/teacher_validation_8.txt\n"
     ]
    },
    {
     "name": "stderr",
     "output_type": "stream",
     "text": [
      "100%|█████████████████████████████████████████████████████████████████████████| 162/162 [01:50<00:00,  1.46it/s]\n",
      "100%|███████████████████████████████████████████████████████████████████████████| 55/55 [00:18<00:00,  2.98it/s]\n"
     ]
    },
    {
     "name": "stdout",
     "output_type": "stream",
     "text": [
      "*****Epoch 56/300*****\n",
      "*****Train Loss: -5.171822 Val Loss: -2.354142*****\n",
      "*****Validation Accuracy: 58.64%*****\n",
      "*****Total Avg Disparity: 0.13081150365220884*****\n",
      "\n",
      "Class Team_Sports: Recall Difference = 0.11769720324633626\n",
      "Class Celebration: Recall Difference = 0.0046511627906976605\n",
      "Class Parade: Recall Difference = -0.012432278300541721\n",
      "Class Waiter_Or_Waitress: Recall Difference = -0.07905686546463253\n",
      "Class Individual_Sports: Recall Difference = -0.041647735877631376\n",
      "Class Surgeons: Recall Difference = -0.01552106430155209\n",
      "Class Spa: Recall Difference = -0.52\n",
      "Class Law_Enforcement: Recall Difference = 0.10985985985985991\n",
      "Class Business: Recall Difference = -0.03232689640456621\n",
      "Class Dresses: Recall Difference = -0.5399728997289973\n",
      "Class Water_Activities: Recall Difference = 0.07740540540540541\n",
      "Class Picnic: Recall Difference = -0.07272727272727275\n",
      "Class Rescue: Recall Difference = 0.10911392405063286\n",
      "Class Cheering: Recall Difference = -0.04081214109926168\n",
      "Class Performance_And_Entertainment: Recall Difference = 0.008092682511287141\n",
      "Class Family: Recall Difference = -0.31166666666666654\n",
      "Data has been appended to No_Attenuation_07/teacher_validation_8.txt\n"
     ]
    },
    {
     "name": "stderr",
     "output_type": "stream",
     "text": [
      "100%|█████████████████████████████████████████████████████████████████████████| 162/162 [01:50<00:00,  1.47it/s]\n",
      "100%|███████████████████████████████████████████████████████████████████████████| 55/55 [00:18<00:00,  2.92it/s]\n"
     ]
    },
    {
     "name": "stdout",
     "output_type": "stream",
     "text": [
      "*****Epoch 57/300*****\n",
      "*****Train Loss: -5.173039 Val Loss: -2.446592*****\n",
      "*****Validation Accuracy: 58.76%*****\n",
      "*****Total Avg Disparity: 0.17455386777084086*****\n",
      "\n",
      "Class Team_Sports: Recall Difference = 0.0419921760962223\n",
      "Class Celebration: Recall Difference = 0.023255813953488413\n",
      "Class Parade: Recall Difference = 0.051268890789848975\n",
      "Class Waiter_Or_Waitress: Recall Difference = -0.12852519648636163\n",
      "Class Individual_Sports: Recall Difference = -0.09408602150537637\n",
      "Class Surgeons: Recall Difference = -0.11308203991130822\n",
      "Class Spa: Recall Difference = -0.5599999999999999\n",
      "Class Law_Enforcement: Recall Difference = 0.01726726726726735\n",
      "Class Business: Recall Difference = -0.12354635655606533\n",
      "Class Dresses: Recall Difference = -0.552168021680217\n",
      "Class Water_Activities: Recall Difference = 0.058918918918919094\n",
      "Class Picnic: Recall Difference = -0.38181818181818183\n",
      "Class Rescue: Recall Difference = 0.1037974683544304\n",
      "Class Cheering: Recall Difference = 0.01661197703035272\n",
      "Class Performance_And_Entertainment: Recall Difference = 0.11985688729874788\n",
      "Class Family: Recall Difference = -0.40666666666666673\n",
      "Data has been appended to No_Attenuation_07/teacher_validation_8.txt\n"
     ]
    },
    {
     "name": "stderr",
     "output_type": "stream",
     "text": [
      "100%|█████████████████████████████████████████████████████████████████████████| 162/162 [01:50<00:00,  1.47it/s]\n",
      "100%|███████████████████████████████████████████████████████████████████████████| 55/55 [00:18<00:00,  2.94it/s]\n"
     ]
    },
    {
     "name": "stdout",
     "output_type": "stream",
     "text": [
      "*****Epoch 58/300*****\n",
      "*****Train Loss: -5.224128 Val Loss: -2.465754*****\n",
      "*****Validation Accuracy: 60.40%*****\n",
      "*****Total Avg Disparity: 0.17677120885909464*****\n",
      "\n",
      "Class Team_Sports: Recall Difference = 0.07649909499620478\n",
      "Class Celebration: Recall Difference = -0.025581395348837244\n",
      "Class Parade: Recall Difference = -0.027944111776447067\n",
      "Class Waiter_Or_Waitress: Recall Difference = -0.02357836338418884\n",
      "Class Individual_Sports: Recall Difference = -0.07761623504467663\n",
      "Class Surgeons: Recall Difference = -0.11825572801182549\n",
      "Class Spa: Recall Difference = -0.5999999999999999\n",
      "Class Law_Enforcement: Recall Difference = 0.05430430430430444\n",
      "Class Business: Recall Difference = -0.08343113197482133\n",
      "Class Dresses: Recall Difference = -0.6144986449864498\n",
      "Class Water_Activities: Recall Difference = 0.050918918918918865\n",
      "Class Picnic: Recall Difference = -0.6\n",
      "Class Rescue: Recall Difference = 0.12177215189873414\n",
      "Class Cheering: Recall Difference = -0.016201804757998317\n",
      "Class Performance_And_Entertainment: Recall Difference = 0.03773745634210751\n",
      "Class Family: Recall Difference = -0.30000000000000004\n",
      "Data has been appended to No_Attenuation_07/teacher_validation_8.txt\n"
     ]
    },
    {
     "name": "stderr",
     "output_type": "stream",
     "text": [
      "100%|█████████████████████████████████████████████████████████████████████████| 162/162 [01:50<00:00,  1.47it/s]\n",
      "100%|███████████████████████████████████████████████████████████████████████████| 55/55 [00:18<00:00,  2.95it/s]\n"
     ]
    },
    {
     "name": "stdout",
     "output_type": "stream",
     "text": [
      "*****Epoch 59/300*****\n",
      "*****Train Loss: -5.214311 Val Loss: -2.354096*****\n",
      "*****Validation Accuracy: 59.25%*****\n",
      "*****Total Avg Disparity: 0.14773789668127563*****\n",
      "\n",
      "Class Team_Sports: Recall Difference = 0.06847667425702098\n",
      "Class Celebration: Recall Difference = -0.06976744186046507\n",
      "Class Parade: Recall Difference = 0.027601938979184615\n",
      "Class Waiter_Or_Waitress: Recall Difference = 0.01618122977346259\n",
      "Class Individual_Sports: Recall Difference = -0.09113281841587173\n",
      "Class Surgeons: Recall Difference = -0.07538802660753863\n",
      "Class Spa: Recall Difference = -0.5399999999999999\n",
      "Class Law_Enforcement: Recall Difference = 0.07957957957957962\n",
      "Class Business: Recall Difference = -0.06273338312173249\n",
      "Class Dresses: Recall Difference = -0.6890243902439026\n",
      "Class Water_Activities: Recall Difference = 0.0318918918918919\n",
      "Class Picnic: Recall Difference = -0.10909090909090907\n",
      "Class Rescue: Recall Difference = 0.011139240506329195\n",
      "Class Cheering: Recall Difference = -0.04593929450369155\n",
      "Class Performance_And_Entertainment: Recall Difference = 0.024192861402163757\n",
      "Class Family: Recall Difference = -0.42166666666666663\n",
      "Data has been appended to No_Attenuation_07/teacher_validation_8.txt\n"
     ]
    },
    {
     "name": "stderr",
     "output_type": "stream",
     "text": [
      "100%|█████████████████████████████████████████████████████████████████████████| 162/162 [01:50<00:00,  1.47it/s]\n",
      "100%|███████████████████████████████████████████████████████████████████████████| 55/55 [00:18<00:00,  2.93it/s]\n"
     ]
    },
    {
     "name": "stdout",
     "output_type": "stream",
     "text": [
      "*****Epoch 60/300*****\n",
      "*****Train Loss: -5.244414 Val Loss: -2.095739*****\n",
      "*****Validation Accuracy: 58.79%*****\n",
      "*****Total Avg Disparity: 0.1697177115513751*****\n",
      "\n",
      "Class Team_Sports: Recall Difference = 0.07773690663864086\n",
      "Class Celebration: Recall Difference = -0.027906976744186074\n",
      "Class Parade: Recall Difference = 0.04990019960079828\n",
      "Class Waiter_Or_Waitress: Recall Difference = 0.10355987055016158\n",
      "Class Individual_Sports: Recall Difference = -0.04460093896713613\n",
      "Class Surgeons: Recall Difference = -0.09460458240946051\n",
      "Class Spa: Recall Difference = -0.58\n",
      "Class Law_Enforcement: Recall Difference = 0.08983983983984001\n",
      "Class Business: Recall Difference = -0.11895871119172097\n",
      "Class Dresses: Recall Difference = -0.7560975609756098\n",
      "Class Water_Activities: Recall Difference = 0.03383783783783778\n",
      "Class Picnic: Recall Difference = -0.34545454545454546\n",
      "Class Rescue: Recall Difference = 0.03518987341772151\n",
      "Class Cheering: Recall Difference = -0.06193601312551278\n",
      "Class Performance_And_Entertainment: Recall Difference = 0.0241928614021637\n",
      "Class Family: Recall Difference = -0.2716666666666666\n",
      "Data has been appended to No_Attenuation_07/teacher_validation_8.txt\n"
     ]
    },
    {
     "name": "stderr",
     "output_type": "stream",
     "text": [
      "100%|█████████████████████████████████████████████████████████████████████████| 162/162 [01:50<00:00,  1.47it/s]\n",
      "100%|███████████████████████████████████████████████████████████████████████████| 55/55 [00:18<00:00,  2.92it/s]\n"
     ]
    },
    {
     "name": "stdout",
     "output_type": "stream",
     "text": [
      "*****Epoch 61/300*****\n",
      "*****Train Loss: -5.250759 Val Loss: -2.195287*****\n",
      "*****Validation Accuracy: 58.18%*****\n",
      "*****Total Avg Disparity: 0.16985027849909806*****\n",
      "\n",
      "Class Team_Sports: Recall Difference = 0.039913586734396045\n",
      "Class Celebration: Recall Difference = 0.044186046511627886\n",
      "Class Parade: Recall Difference = -0.0393498716852011\n",
      "Class Waiter_Or_Waitress: Recall Difference = 0.046232085067036466\n",
      "Class Individual_Sports: Recall Difference = -0.05183250037861575\n",
      "Class Surgeons: Recall Difference = 0.002956393200295615\n",
      "Class Spa: Recall Difference = -0.68\n",
      "Class Law_Enforcement: Recall Difference = 0.1283783783783784\n",
      "Class Business: Recall Difference = -0.12482662968099856\n",
      "Class Dresses: Recall Difference = -0.6205962059620596\n",
      "Class Water_Activities: Recall Difference = 0.013405405405405468\n",
      "Class Picnic: Recall Difference = -0.45454545454545453\n",
      "Class Rescue: Recall Difference = 0.04177215189873418\n",
      "Class Cheering: Recall Difference = -0.12715340442986056\n",
      "Class Performance_And_Entertainment: Recall Difference = 0.07078967544083814\n",
      "Class Family: Recall Difference = -0.23166666666666663\n",
      "Data has been appended to No_Attenuation_07/teacher_validation_8.txt\n"
     ]
    },
    {
     "name": "stderr",
     "output_type": "stream",
     "text": [
      "100%|█████████████████████████████████████████████████████████████████████████| 162/162 [01:50<00:00,  1.47it/s]\n",
      "100%|███████████████████████████████████████████████████████████████████████████| 55/55 [00:18<00:00,  2.92it/s]\n"
     ]
    },
    {
     "name": "stdout",
     "output_type": "stream",
     "text": [
      "*****Epoch 62/300*****\n",
      "*****Train Loss: -5.231031 Val Loss: -2.343441*****\n",
      "*****Validation Accuracy: 58.04%*****\n",
      "*****Total Avg Disparity: 0.17146423740101402*****\n",
      "\n",
      "Class Team_Sports: Recall Difference = 0.05905295731885318\n",
      "Class Celebration: Recall Difference = -0.041860465116279\n",
      "Class Parade: Recall Difference = -0.11228970630168233\n",
      "Class Waiter_Or_Waitress: Recall Difference = -0.03328710124826639\n",
      "Class Individual_Sports: Recall Difference = -0.016431924882629234\n",
      "Class Surgeons: Recall Difference = -0.11234294161123426\n",
      "Class Spa: Recall Difference = -0.7999999999999999\n",
      "Class Law_Enforcement: Recall Difference = 0.09334334334334349\n",
      "Class Business: Recall Difference = -0.10028806145311003\n",
      "Class Dresses: Recall Difference = -0.6693766937669376\n",
      "Class Water_Activities: Recall Difference = 0.08789189189189195\n",
      "Class Picnic: Recall Difference = -0.34545454545454546\n",
      "Class Rescue: Recall Difference = 0.04379746835443038\n",
      "Class Cheering: Recall Difference = 0.00266611977030351\n",
      "Class Performance_And_Entertainment: Recall Difference = -0.012011244569384072\n",
      "Class Family: Recall Difference = -0.21333333333333337\n",
      "Data has been appended to No_Attenuation_07/teacher_validation_8.txt\n"
     ]
    },
    {
     "name": "stderr",
     "output_type": "stream",
     "text": [
      "100%|█████████████████████████████████████████████████████████████████████████| 162/162 [01:50<00:00,  1.47it/s]\n",
      "100%|███████████████████████████████████████████████████████████████████████████| 55/55 [00:18<00:00,  2.93it/s]\n"
     ]
    },
    {
     "name": "stdout",
     "output_type": "stream",
     "text": [
      "*****Epoch 63/300*****\n",
      "*****Train Loss: -5.208957 Val Loss: -2.455810*****\n",
      "*****Validation Accuracy: 58.85%*****\n",
      "*****Total Avg Disparity: 0.18232069319463712*****\n",
      "\n",
      "Class Team_Sports: Recall Difference = 0.0645530448998658\n",
      "Class Celebration: Recall Difference = 0.006976744186046435\n",
      "Class Parade: Recall Difference = -0.024408326204733433\n",
      "Class Waiter_Or_Waitress: Recall Difference = -0.12159038372630615\n",
      "Class Individual_Sports: Recall Difference = -0.002536725730728384\n",
      "Class Surgeons: Recall Difference = -0.09460458240946035\n",
      "Class Spa: Recall Difference = -0.6799999999999999\n",
      "Class Law_Enforcement: Recall Difference = 0.07782782782782793\n",
      "Class Business: Recall Difference = -0.018777339165688745\n",
      "Class Dresses: Recall Difference = -0.6815718157181572\n",
      "Class Water_Activities: Recall Difference = 0.13145945945945958\n",
      "Class Picnic: Recall Difference = -0.4909090909090909\n",
      "Class Rescue: Recall Difference = 0.11974683544303799\n",
      "Class Cheering: Recall Difference = -0.029942575881870492\n",
      "Class Performance_And_Entertainment: Recall Difference = -0.037226339551920895\n",
      "Class Family: Recall Difference = -0.33499999999999996\n",
      "Data has been appended to No_Attenuation_07/teacher_validation_8.txt\n"
     ]
    },
    {
     "name": "stderr",
     "output_type": "stream",
     "text": [
      "100%|█████████████████████████████████████████████████████████████████████████| 162/162 [01:50<00:00,  1.47it/s]\n",
      "100%|███████████████████████████████████████████████████████████████████████████| 55/55 [00:18<00:00,  2.97it/s]\n"
     ]
    },
    {
     "name": "stdout",
     "output_type": "stream",
     "text": [
      "*****Epoch 64/300*****\n",
      "*****Train Loss: -5.221364 Val Loss: -2.280269*****\n",
      "*****Validation Accuracy: 59.48%*****\n",
      "*****Total Avg Disparity: 0.17389593089531452*****\n",
      "\n",
      "Class Team_Sports: Recall Difference = 0.05029485607520301\n",
      "Class Celebration: Recall Difference = 0.025581395348837133\n",
      "Class Parade: Recall Difference = 0.04471057884231544\n",
      "Class Waiter_Or_Waitress: Recall Difference = -0.02357836338418884\n",
      "Class Individual_Sports: Recall Difference = -0.011964258670301153\n",
      "Class Surgeons: Recall Difference = -0.045824094604582255\n",
      "Class Spa: Recall Difference = -0.7999999999999999\n",
      "Class Law_Enforcement: Recall Difference = 0.0037537537537538634\n",
      "Class Business: Recall Difference = -0.15907393577296491\n",
      "Class Dresses: Recall Difference = -0.7134146341463415\n",
      "Class Water_Activities: Recall Difference = 0.10637837837837827\n",
      "Class Picnic: Recall Difference = -0.2727272727272727\n",
      "Class Rescue: Recall Difference = 0.061772151898734196\n",
      "Class Cheering: Recall Difference = 0.11566858080393763\n",
      "Class Performance_And_Entertainment: Recall Difference = -0.004259306584887934\n",
      "Class Family: Recall Difference = -0.3433333333333333\n",
      "Data has been appended to No_Attenuation_07/teacher_validation_8.txt\n"
     ]
    },
    {
     "name": "stderr",
     "output_type": "stream",
     "text": [
      "100%|█████████████████████████████████████████████████████████████████████████| 162/162 [01:50<00:00,  1.47it/s]\n",
      "100%|███████████████████████████████████████████████████████████████████████████| 55/55 [00:18<00:00,  2.96it/s]\n"
     ]
    },
    {
     "name": "stdout",
     "output_type": "stream",
     "text": [
      "*****Epoch 65/300*****\n",
      "*****Train Loss: -5.201265 Val Loss: -2.154177*****\n",
      "*****Validation Accuracy: 58.99%*****\n",
      "*****Total Avg Disparity: 0.18942946841187175*****\n",
      "\n",
      "Class Team_Sports: Recall Difference = 0.08463829041863724\n",
      "Class Celebration: Recall Difference = 0.05813953488372092\n",
      "Class Parade: Recall Difference = 0.060792700313658576\n",
      "Class Waiter_Or_Waitress: Recall Difference = -0.060564031437817856\n",
      "Class Individual_Sports: Recall Difference = -0.07000605785249114\n",
      "Class Surgeons: Recall Difference = -0.0820399113082041\n",
      "Class Spa: Recall Difference = -0.7599999999999999\n",
      "Class Law_Enforcement: Recall Difference = 0.13838838838838824\n",
      "Class Business: Recall Difference = -0.11767843806678774\n",
      "Class Dresses: Recall Difference = -0.5657181571815717\n",
      "Class Water_Activities: Recall Difference = 0.1474594594594596\n",
      "Class Picnic: Recall Difference = -0.43636363636363634\n",
      "Class Rescue: Recall Difference = 0.0964556962025317\n",
      "Class Cheering: Recall Difference = -0.02050861361771944\n",
      "Class Performance_And_Entertainment: Recall Difference = -0.005451912428656613\n",
      "Class Family: Recall Difference = -0.32666666666666666\n",
      "Data has been appended to No_Attenuation_07/teacher_validation_8.txt\n"
     ]
    },
    {
     "name": "stderr",
     "output_type": "stream",
     "text": [
      "100%|█████████████████████████████████████████████████████████████████████████| 162/162 [01:50<00:00,  1.47it/s]\n",
      "100%|███████████████████████████████████████████████████████████████████████████| 55/55 [00:18<00:00,  2.93it/s]\n"
     ]
    },
    {
     "name": "stdout",
     "output_type": "stream",
     "text": [
      "*****Epoch 66/300*****\n",
      "*****Train Loss: -5.209278 Val Loss: -2.208565*****\n",
      "*****Validation Accuracy: 59.83%*****\n",
      "*****Total Avg Disparity: 0.14513698556070512*****\n",
      "\n",
      "Class Team_Sports: Recall Difference = 0.09181993343843065\n",
      "Class Celebration: Recall Difference = 0.04418604651162794\n",
      "Class Parade: Recall Difference = -0.006444254348445866\n",
      "Class Waiter_Or_Waitress: Recall Difference = -0.04299583911234406\n",
      "Class Individual_Sports: Recall Difference = -0.098742995608057\n",
      "Class Surgeons: Recall Difference = -0.009608277900960749\n",
      "Class Spa: Recall Difference = -0.72\n",
      "Class Law_Enforcement: Recall Difference = 0.07957957957957973\n",
      "Class Business: Recall Difference = -0.10540915395284334\n",
      "Class Dresses: Recall Difference = -0.5155826558265583\n",
      "Class Water_Activities: Recall Difference = 0.023891891891892003\n",
      "Class Picnic: Recall Difference = -0.21818181818181817\n",
      "Class Rescue: Recall Difference = 0.07569620253164566\n",
      "Class Cheering: Recall Difference = -0.035890073831009006\n",
      "Class Performance_And_Entertainment: Recall Difference = -0.007496379589402913\n",
      "Class Family: Recall Difference = -0.24666666666666667\n",
      "Data has been appended to No_Attenuation_07/teacher_validation_8.txt\n"
     ]
    },
    {
     "name": "stderr",
     "output_type": "stream",
     "text": [
      "100%|█████████████████████████████████████████████████████████████████████████| 162/162 [01:50<00:00,  1.47it/s]\n",
      "100%|███████████████████████████████████████████████████████████████████████████| 55/55 [00:18<00:00,  2.96it/s]\n"
     ]
    },
    {
     "name": "stdout",
     "output_type": "stream",
     "text": [
      "*****Epoch 67/300*****\n",
      "*****Train Loss: -5.240741 Val Loss: -2.304660*****\n",
      "*****Validation Accuracy: 59.28%*****\n",
      "*****Total Avg Disparity: 0.19169227606159148*****\n",
      "\n",
      "Class Team_Sports: Recall Difference = 0.05461551935540376\n",
      "Class Celebration: Recall Difference = 0.05348837209302326\n",
      "Class Parade: Recall Difference = 0.04037639007698879\n",
      "Class Waiter_Or_Waitress: Recall Difference = -0.04299583911234406\n",
      "Class Individual_Sports: Recall Difference = -0.08761169165530802\n",
      "Class Surgeons: Recall Difference = -0.13082039911308202\n",
      "Class Spa: Recall Difference = -0.7599999999999999\n",
      "Class Law_Enforcement: Recall Difference = 0.1383883883883883\n",
      "Class Business: Recall Difference = -0.14552437853408723\n",
      "Class Dresses: Recall Difference = -0.6449864498644986\n",
      "Class Water_Activities: Recall Difference = 0.07189189189189193\n",
      "Class Picnic: Recall Difference = -0.3090909090909091\n",
      "Class Rescue: Recall Difference = 0.18911392405063296\n",
      "Class Cheering: Recall Difference = -0.05680885972108285\n",
      "Class Performance_And_Entertainment: Recall Difference = 0.03969673737115603\n",
      "Class Family: Recall Difference = -0.30166666666666675\n",
      "Data has been appended to No_Attenuation_07/teacher_validation_8.txt\n"
     ]
    },
    {
     "name": "stderr",
     "output_type": "stream",
     "text": [
      "100%|█████████████████████████████████████████████████████████████████████████| 162/162 [01:50<00:00,  1.47it/s]\n",
      "100%|███████████████████████████████████████████████████████████████████████████| 55/55 [00:18<00:00,  2.94it/s]\n"
     ]
    },
    {
     "name": "stdout",
     "output_type": "stream",
     "text": [
      "*****Epoch 68/300*****\n",
      "*****Train Loss: -5.221973 Val Loss: -2.257401*****\n",
      "*****Validation Accuracy: 59.28%*****\n",
      "*****Total Avg Disparity: 0.17927600464471324*****\n",
      "\n",
      "Class Team_Sports: Recall Difference = 0.09165644888188229\n",
      "Class Celebration: Recall Difference = -0.03255813953488362\n",
      "Class Parade: Recall Difference = 0.04716281722269755\n",
      "Class Waiter_Or_Waitress: Recall Difference = -0.1091077207582064\n",
      "Class Individual_Sports: Recall Difference = -0.09446463728608201\n",
      "Class Surgeons: Recall Difference = -0.13082039911308202\n",
      "Class Spa: Recall Difference = -0.7\n",
      "Class Law_Enforcement: Recall Difference = 0.1083583583583585\n",
      "Class Business: Recall Difference = -0.13581564067000962\n",
      "Class Dresses: Recall Difference = -0.6266937669376693\n",
      "Class Water_Activities: Recall Difference = 0.125945945945946\n",
      "Class Picnic: Recall Difference = -0.2\n",
      "Class Rescue: Recall Difference = 0.06911392405063294\n",
      "Class Cheering: Recall Difference = -0.027891714520098476\n",
      "Class Performance_And_Entertainment: Recall Difference = 0.05715989436919666\n",
      "Class Family: Recall Difference = -0.31166666666666665\n",
      "Data has been appended to No_Attenuation_07/teacher_validation_8.txt\n"
     ]
    },
    {
     "name": "stderr",
     "output_type": "stream",
     "text": [
      "100%|█████████████████████████████████████████████████████████████████████████| 162/162 [01:50<00:00,  1.47it/s]\n",
      "100%|███████████████████████████████████████████████████████████████████████████| 55/55 [00:18<00:00,  2.94it/s]\n"
     ]
    },
    {
     "name": "stdout",
     "output_type": "stream",
     "text": [
      "*****Epoch 69/300*****\n",
      "*****Train Loss: -5.242896 Val Loss: -2.201479*****\n",
      "*****Validation Accuracy: 57.92%*****\n",
      "*****Total Avg Disparity: 0.18754979930925642*****\n",
      "\n",
      "Class Team_Sports: Recall Difference = 0.06471652945641382\n",
      "Class Celebration: Recall Difference = -0.048837209302325546\n",
      "Class Parade: Recall Difference = 0.09672084402623315\n",
      "Class Waiter_Or_Waitress: Recall Difference = -0.0799815071659733\n",
      "Class Individual_Sports: Recall Difference = -0.07000605785249137\n",
      "Class Surgeons: Recall Difference = -0.13082039911308202\n",
      "Class Spa: Recall Difference = -0.7\n",
      "Class Law_Enforcement: Recall Difference = 0.0860860860860862\n",
      "Class Business: Recall Difference = -0.063480209111277\n",
      "Class Dresses: Recall Difference = -0.60840108401084\n",
      "Class Water_Activities: Recall Difference = 0.08594594594594585\n",
      "Class Picnic: Recall Difference = -0.18181818181818182\n",
      "Class Rescue: Recall Difference = 0.17974683544303785\n",
      "Class Cheering: Recall Difference = -0.0908531583264971\n",
      "Class Performance_And_Entertainment: Recall Difference = 0.11338274128971804\n",
      "Class Family: Recall Difference = -0.4\n",
      "Data has been appended to No_Attenuation_07/teacher_validation_8.txt\n"
     ]
    },
    {
     "name": "stderr",
     "output_type": "stream",
     "text": [
      "100%|█████████████████████████████████████████████████████████████████████████| 162/162 [01:50<00:00,  1.47it/s]\n",
      "100%|███████████████████████████████████████████████████████████████████████████| 55/55 [00:18<00:00,  2.95it/s]\n"
     ]
    },
    {
     "name": "stdout",
     "output_type": "stream",
     "text": [
      "*****Epoch 70/300*****\n",
      "*****Train Loss: -5.242978 Val Loss: -2.033366*****\n",
      "*****Validation Accuracy: 57.06%*****\n",
      "*****Total Avg Disparity: 0.17031197978592383*****\n",
      "\n",
      "Class Team_Sports: Recall Difference = 0.05439364745723141\n",
      "Class Celebration: Recall Difference = 0.009302325581395376\n",
      "Class Parade: Recall Difference = 0.07818648417450813\n",
      "Class Waiter_Or_Waitress: Recall Difference = 0.043458159963014276\n",
      "Class Individual_Sports: Recall Difference = -0.10521732545812501\n",
      "Class Surgeons: Recall Difference = -0.02734663710273455\n",
      "Class Spa: Recall Difference = -0.74\n",
      "Class Law_Enforcement: Recall Difference = 0.0930930930930931\n",
      "Class Business: Recall Difference = -0.050464099007788366\n",
      "Class Dresses: Recall Difference = -0.6205962059620596\n",
      "Class Water_Activities: Recall Difference = 0.029945945945945907\n",
      "Class Picnic: Recall Difference = -0.34545454545454546\n",
      "Class Rescue: Recall Difference = 0.19443037974683544\n",
      "Class Cheering: Recall Difference = -0.05311730926989339\n",
      "Class Performance_And_Entertainment: Recall Difference = 0.029985518357611374\n",
      "Class Family: Recall Difference = -0.24999999999999994\n",
      "Data has been appended to No_Attenuation_07/teacher_validation_8.txt\n"
     ]
    },
    {
     "name": "stderr",
     "output_type": "stream",
     "text": [
      "100%|█████████████████████████████████████████████████████████████████████████| 162/162 [01:50<00:00,  1.47it/s]\n",
      "100%|███████████████████████████████████████████████████████████████████████████| 55/55 [00:19<00:00,  2.89it/s]\n"
     ]
    },
    {
     "name": "stdout",
     "output_type": "stream",
     "text": [
      "*****Epoch 71/300*****\n",
      "*****Train Loss: -5.141251 Val Loss: -2.406834*****\n",
      "*****Validation Accuracy: 57.78%*****\n",
      "*****Total Avg Disparity: 0.19181579779232483*****\n",
      "\n",
      "Class Team_Sports: Recall Difference = 0.08637823319904248\n",
      "Class Celebration: Recall Difference = -0.10232558139534886\n",
      "Class Parade: Recall Difference = 0.04254348445965206\n",
      "Class Waiter_Or_Waitress: Recall Difference = -0.0508552935737403\n",
      "Class Individual_Sports: Recall Difference = -0.14213236407693475\n",
      "Class Surgeons: Recall Difference = -0.11234294161123426\n",
      "Class Spa: Recall Difference = -0.7999999999999999\n",
      "Class Law_Enforcement: Recall Difference = 0.10985985985985991\n",
      "Class Business: Recall Difference = -0.15726021551264263\n",
      "Class Dresses: Recall Difference = -0.5474254742547424\n",
      "Class Water_Activities: Recall Difference = 0.09891891891891891\n",
      "Class Picnic: Recall Difference = -0.34545454545454546\n",
      "Class Rescue: Recall Difference = 0.14177215189873418\n",
      "Class Cheering: Recall Difference = -0.04532403609515995\n",
      "Class Performance_And_Entertainment: Recall Difference = 0.036459664366641165\n",
      "Class Family: Recall Difference = -0.25000000000000006\n",
      "Data has been appended to No_Attenuation_07/teacher_validation_8.txt\n"
     ]
    },
    {
     "name": "stderr",
     "output_type": "stream",
     "text": [
      "100%|█████████████████████████████████████████████████████████████████████████| 162/162 [01:50<00:00,  1.47it/s]\n",
      "100%|███████████████████████████████████████████████████████████████████████████| 55/55 [00:18<00:00,  2.91it/s]\n"
     ]
    },
    {
     "name": "stdout",
     "output_type": "stream",
     "text": [
      "*****Epoch 72/300*****\n",
      "*****Train Loss: -5.251990 Val Loss: -2.148160*****\n",
      "*****Validation Accuracy: 58.41%*****\n",
      "*****Total Avg Disparity: 0.18092857389481665*****\n",
      "\n",
      "Class Team_Sports: Recall Difference = 0.0991183511414725\n",
      "Class Celebration: Recall Difference = -0.1093023255813953\n",
      "Class Parade: Recall Difference = 0.04225834046193322\n",
      "Class Waiter_Or_Waitress: Recall Difference = 0.005547850208044158\n",
      "Class Individual_Sports: Recall Difference = -0.10692109647130099\n",
      "Class Surgeons: Recall Difference = -0.12490761271249079\n",
      "Class Spa: Recall Difference = -0.62\n",
      "Class Law_Enforcement: Recall Difference = 0.12312312312312307\n",
      "Class Business: Recall Difference = -0.1015683345780432\n",
      "Class Dresses: Recall Difference = -0.5657181571815719\n",
      "Class Water_Activities: Recall Difference = 0.08540540540540542\n",
      "Class Picnic: Recall Difference = -0.5818181818181818\n",
      "Class Rescue: Recall Difference = 0.041012658227848\n",
      "Class Cheering: Recall Difference = 0.0098441345365054\n",
      "Class Performance_And_Entertainment: Recall Difference = -0.04497827753641703\n",
      "Class Family: Recall Difference = -0.2333333333333334\n",
      "Data has been appended to No_Attenuation_07/teacher_validation_8.txt\n"
     ]
    },
    {
     "name": "stderr",
     "output_type": "stream",
     "text": [
      "100%|█████████████████████████████████████████████████████████████████████████| 162/162 [01:50<00:00,  1.47it/s]\n",
      "100%|███████████████████████████████████████████████████████████████████████████| 55/55 [00:18<00:00,  2.94it/s]\n"
     ]
    },
    {
     "name": "stdout",
     "output_type": "stream",
     "text": [
      "*****Epoch 73/300*****\n",
      "*****Train Loss: -5.230018 Val Loss: -2.269719*****\n",
      "*****Validation Accuracy: 58.10%*****\n",
      "*****Total Avg Disparity: 0.15734098907076188*****\n",
      "\n",
      "Class Team_Sports: Recall Difference = 0.07857768435803114\n",
      "Class Celebration: Recall Difference = -0.030232558139534904\n",
      "Class Parade: Recall Difference = 0.07248360422013111\n",
      "Class Waiter_Or_Waitress: Recall Difference = -0.023578363384188727\n",
      "Class Individual_Sports: Recall Difference = -0.10635317280024237\n",
      "Class Surgeons: Recall Difference = -0.009608277900960749\n",
      "Class Spa: Recall Difference = -0.7\n",
      "Class Law_Enforcement: Recall Difference = 0.12337337337337351\n",
      "Class Business: Recall Difference = -0.15267257014829833\n",
      "Class Dresses: Recall Difference = -0.4668021680216803\n",
      "Class Water_Activities: Recall Difference = 0.08097297297297301\n",
      "Class Picnic: Recall Difference = -0.2727272727272727\n",
      "Class Rescue: Recall Difference = 0.09848101265822784\n",
      "Class Cheering: Recall Difference = -0.010459392945036894\n",
      "Class Performance_And_Entertainment: Recall Difference = -0.006133401482238843\n",
      "Class Family: Recall Difference = -0.28500000000000003\n",
      "Data has been appended to No_Attenuation_07/teacher_validation_8.txt\n"
     ]
    },
    {
     "name": "stderr",
     "output_type": "stream",
     "text": [
      "100%|█████████████████████████████████████████████████████████████████████████| 162/162 [01:50<00:00,  1.47it/s]\n",
      "100%|███████████████████████████████████████████████████████████████████████████| 55/55 [00:18<00:00,  2.97it/s]\n"
     ]
    },
    {
     "name": "stdout",
     "output_type": "stream",
     "text": [
      "*****Epoch 74/300*****\n",
      "*****Train Loss: -5.195168 Val Loss: -2.297750*****\n",
      "*****Validation Accuracy: 58.41%*****\n",
      "*****Total Avg Disparity: 0.16789985051401898*****\n",
      "\n",
      "Class Team_Sports: Recall Difference = 0.09171483622350673\n",
      "Class Celebration: Recall Difference = -0.08139534883720928\n",
      "Class Parade: Recall Difference = 0.04961505560307977\n",
      "Class Waiter_Or_Waitress: Recall Difference = -0.03421174294960716\n",
      "Class Individual_Sports: Recall Difference = -0.10930637588974712\n",
      "Class Surgeons: Recall Difference = 0.02734663710273466\n",
      "Class Spa: Recall Difference = -0.6199999999999999\n",
      "Class Law_Enforcement: Recall Difference = 0.14214214214214227\n",
      "Class Business: Recall Difference = -0.15523311639816495\n",
      "Class Dresses: Recall Difference = -0.5718157181571815\n",
      "Class Water_Activities: Recall Difference = 0.09643243243243249\n",
      "Class Picnic: Recall Difference = -0.18181818181818182\n",
      "Class Rescue: Recall Difference = 0.14708860759493667\n",
      "Class Cheering: Recall Difference = -0.035069729286300255\n",
      "Class Performance_And_Entertainment: Recall Difference = 0.024874350455745986\n",
      "Class Family: Recall Difference = -0.3183333333333333\n",
      "Data has been appended to No_Attenuation_07/teacher_validation_8.txt\n"
     ]
    },
    {
     "name": "stderr",
     "output_type": "stream",
     "text": [
      "100%|█████████████████████████████████████████████████████████████████████████| 162/162 [01:50<00:00,  1.47it/s]\n",
      "100%|███████████████████████████████████████████████████████████████████████████| 55/55 [00:19<00:00,  2.89it/s]\n"
     ]
    },
    {
     "name": "stdout",
     "output_type": "stream",
     "text": [
      "*****Epoch 75/300*****\n",
      "*****Train Loss: -5.240100 Val Loss: -2.306393*****\n",
      "*****Validation Accuracy: 58.30%*****\n",
      "*****Total Avg Disparity: 0.1799058661656726*****\n",
      "\n",
      "Class Team_Sports: Recall Difference = 0.11275763414491735\n",
      "Class Celebration: Recall Difference = -0.15581395348837213\n",
      "Class Parade: Recall Difference = 0.022412318220701555\n",
      "Class Waiter_Or_Waitress: Recall Difference = -0.061488673139158845\n",
      "Class Individual_Sports: Recall Difference = -0.16897622292897174\n",
      "Class Surgeons: Recall Difference = -0.14929785661492984\n",
      "Class Spa: Recall Difference = -0.5399999999999999\n",
      "Class Law_Enforcement: Recall Difference = 0.15540540540540526\n",
      "Class Business: Recall Difference = -0.11511789181692089\n",
      "Class Dresses: Recall Difference = -0.521680216802168\n",
      "Class Water_Activities: Recall Difference = 0.05643243243243257\n",
      "Class Picnic: Recall Difference = -0.2\n",
      "Class Rescue: Recall Difference = 0.18506329113924047\n",
      "Class Cheering: Recall Difference = -0.051066447908121426\n",
      "Class Performance_And_Entertainment: Recall Difference = -0.0029815146094215317\n",
      "Class Family: Recall Difference = -0.3800000000000001\n",
      "Data has been appended to No_Attenuation_07/teacher_validation_8.txt\n"
     ]
    },
    {
     "name": "stderr",
     "output_type": "stream",
     "text": [
      "100%|█████████████████████████████████████████████████████████████████████████| 162/162 [01:50<00:00,  1.47it/s]\n",
      "100%|███████████████████████████████████████████████████████████████████████████| 55/55 [00:18<00:00,  2.95it/s]\n"
     ]
    },
    {
     "name": "stdout",
     "output_type": "stream",
     "text": [
      "*****Epoch 76/300*****\n",
      "*****Train Loss: -5.225933 Val Loss: -2.230765*****\n",
      "*****Validation Accuracy: 58.27%*****\n",
      "*****Total Avg Disparity: 0.1863533125520586*****\n",
      "\n",
      "Class Team_Sports: Recall Difference = 0.07083552285864414\n",
      "Class Celebration: Recall Difference = -0.018604651162790642\n",
      "Class Parade: Recall Difference = 0.08366124893070992\n",
      "Class Waiter_Or_Waitress: Recall Difference = -0.04207119741100329\n",
      "Class Individual_Sports: Recall Difference = -0.09855368771770412\n",
      "Class Surgeons: Recall Difference = 0.10495195861049522\n",
      "Class Spa: Recall Difference = -0.62\n",
      "Class Law_Enforcement: Recall Difference = 0.15690690690690695\n",
      "Class Business: Recall Difference = -0.16035420889789836\n",
      "Class Dresses: Recall Difference = -0.5765582655826558\n",
      "Class Water_Activities: Recall Difference = 0.03989189189189202\n",
      "Class Picnic: Recall Difference = -0.5272727272727273\n",
      "Class Rescue: Recall Difference = 0.0850632911392405\n",
      "Class Cheering: Recall Difference = -0.12489745693191145\n",
      "Class Performance_And_Entertainment: Recall Difference = -0.03202998551835762\n",
      "Class Family: Recall Difference = -0.23999999999999994\n",
      "Data has been appended to No_Attenuation_07/teacher_validation_8.txt\n"
     ]
    },
    {
     "name": "stderr",
     "output_type": "stream",
     "text": [
      "100%|█████████████████████████████████████████████████████████████████████████| 162/162 [01:50<00:00,  1.47it/s]\n",
      "100%|███████████████████████████████████████████████████████████████████████████| 55/55 [00:18<00:00,  2.95it/s]\n"
     ]
    },
    {
     "name": "stdout",
     "output_type": "stream",
     "text": [
      "*****Epoch 77/300*****\n",
      "*****Train Loss: -5.231075 Val Loss: -2.166556*****\n",
      "*****Validation Accuracy: 58.56%*****\n",
      "*****Total Avg Disparity: 0.1760592845131848*****\n",
      "\n",
      "Class Team_Sports: Recall Difference = 0.05809540491621412\n",
      "Class Celebration: Recall Difference = -0.06976744186046513\n",
      "Class Parade: Recall Difference = 0.05183917878528649\n",
      "Class Waiter_Or_Waitress: Recall Difference = -0.08090614886731406\n",
      "Class Individual_Sports: Recall Difference = -0.06201726487960013\n",
      "Class Surgeons: Recall Difference = -0.17294900221729503\n",
      "Class Spa: Recall Difference = -0.5999999999999999\n",
      "Class Law_Enforcement: Recall Difference = 0.17742742742742745\n",
      "Class Business: Recall Difference = -0.10540915395284334\n",
      "Class Dresses: Recall Difference = -0.5962059620596207\n",
      "Class Water_Activities: Recall Difference = 0.09394594594594596\n",
      "Class Picnic: Recall Difference = -0.38181818181818183\n",
      "Class Rescue: Recall Difference = 0.05443037974683557\n",
      "Class Cheering: Recall Difference = -0.06480721903199349\n",
      "Class Performance_And_Entertainment: Recall Difference = 0.018996507368600313\n",
      "Class Family: Recall Difference = -0.2283333333333334\n",
      "Data has been appended to No_Attenuation_07/teacher_validation_8.txt\n"
     ]
    },
    {
     "name": "stderr",
     "output_type": "stream",
     "text": [
      "100%|█████████████████████████████████████████████████████████████████████████| 162/162 [01:50<00:00,  1.47it/s]\n",
      "100%|███████████████████████████████████████████████████████████████████████████| 55/55 [00:19<00:00,  2.89it/s]\n"
     ]
    },
    {
     "name": "stdout",
     "output_type": "stream",
     "text": [
      "*****Epoch 78/300*****\n",
      "*****Train Loss: -5.218376 Val Loss: -2.033287*****\n",
      "*****Validation Accuracy: 58.12%*****\n",
      "*****Total Avg Disparity: 0.1913551572328242*****\n",
      "\n",
      "Class Team_Sports: Recall Difference = 0.0919367081216792\n",
      "Class Celebration: Recall Difference = -0.0790697674418605\n",
      "Class Parade: Recall Difference = -0.027088679783290548\n",
      "Class Waiter_Or_Waitress: Recall Difference = -0.06241331484049939\n",
      "Class Individual_Sports: Recall Difference = -0.10892776010904137\n",
      "Class Surgeons: Recall Difference = -0.11234294161123437\n",
      "Class Spa: Recall Difference = -0.6199999999999999\n",
      "Class Law_Enforcement: Recall Difference = 0.06781781781781782\n",
      "Class Business: Recall Difference = -0.12226608343113199\n",
      "Class Dresses: Recall Difference = -0.712059620596206\n",
      "Class Water_Activities: Recall Difference = 0.09643243243243249\n",
      "Class Picnic: Recall Difference = -0.4909090909090909\n",
      "Class Rescue: Recall Difference = 0.08177215189873416\n",
      "Class Cheering: Recall Difference = -0.07054963084495486\n",
      "Class Performance_And_Entertainment: Recall Difference = -0.01976318255388021\n",
      "Class Family: Recall Difference = -0.29833333333333334\n",
      "Data has been appended to No_Attenuation_07/teacher_validation_8.txt\n"
     ]
    },
    {
     "name": "stderr",
     "output_type": "stream",
     "text": [
      "100%|█████████████████████████████████████████████████████████████████████████| 162/162 [01:50<00:00,  1.47it/s]\n",
      "100%|███████████████████████████████████████████████████████████████████████████| 55/55 [00:18<00:00,  2.91it/s]\n"
     ]
    },
    {
     "name": "stdout",
     "output_type": "stream",
     "text": [
      "*****Epoch 79/300*****\n",
      "*****Train Loss: -5.196047 Val Loss: -2.209303*****\n",
      "*****Validation Accuracy: 58.30%*****\n",
      "*****Total Avg Disparity: 0.16230526675845924*****\n",
      "\n",
      "Class Team_Sports: Recall Difference = 0.09849944532025456\n",
      "Class Celebration: Recall Difference = -0.04651162790697677\n",
      "Class Parade: Recall Difference = 0.017792985457656063\n",
      "Class Waiter_Or_Waitress: Recall Difference = -0.04022191400832176\n",
      "Class Individual_Sports: Recall Difference = -0.09560048462819937\n",
      "Class Surgeons: Recall Difference = -0.08203991130820387\n",
      "Class Spa: Recall Difference = -0.6799999999999999\n",
      "Class Law_Enforcement: Recall Difference = 0.1116116116116116\n",
      "Class Business: Recall Difference = -0.12226608343113188\n",
      "Class Dresses: Recall Difference = -0.5962059620596207\n",
      "Class Water_Activities: Recall Difference = 0.09340540540540543\n",
      "Class Picnic: Recall Difference = -0.16363636363636364\n",
      "Class Rescue: Recall Difference = -0.01822784810126582\n",
      "Class Cheering: Recall Difference = -0.1611977030352748\n",
      "Class Performance_And_Entertainment: Recall Difference = -0.023000255558395022\n",
      "Class Family: Recall Difference = -0.24666666666666673\n",
      "Data has been appended to No_Attenuation_07/teacher_validation_8.txt\n"
     ]
    },
    {
     "name": "stderr",
     "output_type": "stream",
     "text": [
      "100%|█████████████████████████████████████████████████████████████████████████| 162/162 [01:50<00:00,  1.47it/s]\n",
      "100%|███████████████████████████████████████████████████████████████████████████| 55/55 [00:18<00:00,  2.92it/s]\n"
     ]
    },
    {
     "name": "stdout",
     "output_type": "stream",
     "text": [
      "*****Epoch 80/300*****\n",
      "*****Train Loss: -5.225308 Val Loss: -2.393714*****\n",
      "*****Validation Accuracy: 57.43%*****\n",
      "*****Total Avg Disparity: 0.14756149119090622*****\n",
      "\n",
      "Class Team_Sports: Recall Difference = 0.06769428387925491\n",
      "Class Celebration: Recall Difference = -0.044186046511627886\n",
      "Class Parade: Recall Difference = 0.036840604505275154\n",
      "Class Waiter_Or_Waitress: Recall Difference = -0.07212205270457706\n",
      "Class Individual_Sports: Recall Difference = -0.06667423898228075\n",
      "Class Surgeons: Recall Difference = -0.14264597191426465\n",
      "Class Spa: Recall Difference = -0.5599999999999999\n",
      "Class Law_Enforcement: Recall Difference = 0.19744744744744752\n",
      "Class Business: Recall Difference = -0.1268537287954764\n",
      "Class Dresses: Recall Difference = -0.4105691056910569\n",
      "Class Water_Activities: Recall Difference = 0.07848648648648648\n",
      "Class Picnic: Recall Difference = -0.09090909090909094\n",
      "Class Rescue: Recall Difference = 0.08379746835443039\n",
      "Class Cheering: Recall Difference = -0.02768662838392133\n",
      "Class Performance_And_Entertainment: Recall Difference = -0.030070704489309152\n",
      "Class Family: Recall Difference = -0.32500000000000007\n",
      "Data has been appended to No_Attenuation_07/teacher_validation_8.txt\n"
     ]
    },
    {
     "name": "stderr",
     "output_type": "stream",
     "text": [
      "100%|█████████████████████████████████████████████████████████████████████████| 162/162 [01:50<00:00,  1.47it/s]\n",
      "100%|███████████████████████████████████████████████████████████████████████████| 55/55 [00:19<00:00,  2.88it/s]\n"
     ]
    },
    {
     "name": "stdout",
     "output_type": "stream",
     "text": [
      "*****Epoch 81/300*****\n",
      "*****Train Loss: -5.181913 Val Loss: -2.010527*****\n",
      "*****Validation Accuracy: 58.53%*****\n",
      "*****Total Avg Disparity: 0.15707329872051626*****\n",
      "\n",
      "Class Team_Sports: Recall Difference = 0.028072633852980644\n",
      "Class Celebration: Recall Difference = 0.013953488372092981\n",
      "Class Parade: Recall Difference = 0.05394924436840609\n",
      "Class Waiter_Or_Waitress: Recall Difference = -0.03421174294960716\n",
      "Class Individual_Sports: Recall Difference = -0.08151597758594598\n",
      "Class Surgeons: Recall Difference = 0.0502586844050259\n",
      "Class Spa: Recall Difference = -0.5799999999999998\n",
      "Class Law_Enforcement: Recall Difference = 0.12662662662662666\n",
      "Class Business: Recall Difference = -0.15651338952309835\n",
      "Class Dresses: Recall Difference = -0.7181571815718157\n",
      "Class Water_Activities: Recall Difference = 0.06994594594594616\n",
      "Class Picnic: Recall Difference = -0.14545454545454545\n",
      "Class Rescue: Recall Difference = 0.07974683544303801\n",
      "Class Cheering: Recall Difference = -0.041632485643970485\n",
      "Class Performance_And_Entertainment: Recall Difference = 0.0598006644518273\n",
      "Class Family: Recall Difference = -0.27333333333333343\n",
      "Data has been appended to No_Attenuation_07/teacher_validation_8.txt\n"
     ]
    },
    {
     "name": "stderr",
     "output_type": "stream",
     "text": [
      "100%|█████████████████████████████████████████████████████████████████████████| 162/162 [01:50<00:00,  1.47it/s]\n",
      "100%|███████████████████████████████████████████████████████████████████████████| 55/55 [00:18<00:00,  2.92it/s]\n"
     ]
    },
    {
     "name": "stdout",
     "output_type": "stream",
     "text": [
      "*****Epoch 82/300*****\n",
      "*****Train Loss: -5.243701 Val Loss: -2.417649*****\n",
      "*****Validation Accuracy: 58.35%*****\n",
      "*****Total Avg Disparity: 0.1591639951198872*****\n",
      "\n",
      "Class Team_Sports: Recall Difference = 0.018532142231564075\n",
      "Class Celebration: Recall Difference = -0.013953488372093037\n",
      "Class Parade: Recall Difference = 0.05942400912460788\n",
      "Class Waiter_Or_Waitress: Recall Difference = -0.19556171983356452\n",
      "Class Individual_Sports: Recall Difference = -0.0307057398152355\n",
      "Class Surgeons: Recall Difference = -0.05099778270509958\n",
      "Class Spa: Recall Difference = -0.6\n",
      "Class Law_Enforcement: Recall Difference = 0.11511511511511507\n",
      "Class Business: Recall Difference = -0.08087058572495465\n",
      "Class Dresses: Recall Difference = -0.5657181571815717\n",
      "Class Water_Activities: Recall Difference = 0.05643243243243257\n",
      "Class Picnic: Recall Difference = -0.14545454545454556\n",
      "Class Rescue: Recall Difference = 0.09443037974683544\n",
      "Class Cheering: Recall Difference = -0.19093519278096804\n",
      "Class Performance_And_Entertainment: Recall Difference = 0.0034926313996082037\n",
      "Class Family: Recall Difference = -0.32499999999999996\n",
      "Data has been appended to No_Attenuation_07/teacher_validation_8.txt\n"
     ]
    },
    {
     "name": "stderr",
     "output_type": "stream",
     "text": [
      "100%|█████████████████████████████████████████████████████████████████████████| 162/162 [01:50<00:00,  1.47it/s]\n",
      "100%|███████████████████████████████████████████████████████████████████████████| 55/55 [00:19<00:00,  2.84it/s]\n"
     ]
    },
    {
     "name": "stdout",
     "output_type": "stream",
     "text": [
      "*****Epoch 83/300*****\n",
      "*****Train Loss: -5.239915 Val Loss: -2.244427*****\n",
      "*****Validation Accuracy: 58.96%*****\n",
      "*****Total Avg Disparity: 0.1420662167648008*****\n",
      "\n",
      "Class Team_Sports: Recall Difference = 0.0927774858410697\n",
      "Class Celebration: Recall Difference = 0.023255813953488413\n",
      "Class Parade: Recall Difference = 0.01613915027088686\n",
      "Class Waiter_Or_Waitress: Recall Difference = -0.06426259824318092\n",
      "Class Individual_Sports: Recall Difference = -0.055542935029532\n",
      "Class Surgeons: Recall Difference = 0.02143385070214343\n",
      "Class Spa: Recall Difference = -0.6\n",
      "Class Law_Enforcement: Recall Difference = 0.1066066066066067\n",
      "Class Business: Recall Difference = -0.15011202389843165\n",
      "Class Dresses: Recall Difference = -0.6327913279132791\n",
      "Class Water_Activities: Recall Difference = 0.011459459459459254\n",
      "Class Picnic: Recall Difference = -0.036363636363636376\n",
      "Class Rescue: Recall Difference = 0.04506329113924051\n",
      "Class Cheering: Recall Difference = -0.09598031173092703\n",
      "Class Performance_And_Entertainment: Recall Difference = 0.05460431041826397\n",
      "Class Family: Recall Difference = -0.26666666666666666\n",
      "Data has been appended to No_Attenuation_07/teacher_validation_8.txt\n"
     ]
    },
    {
     "name": "stderr",
     "output_type": "stream",
     "text": [
      "100%|█████████████████████████████████████████████████████████████████████████| 162/162 [01:50<00:00,  1.47it/s]\n",
      "100%|███████████████████████████████████████████████████████████████████████████| 55/55 [00:19<00:00,  2.89it/s]\n"
     ]
    },
    {
     "name": "stdout",
     "output_type": "stream",
     "text": [
      "*****Epoch 84/300*****\n",
      "*****Train Loss: -5.248848 Val Loss: -2.112247*****\n",
      "*****Validation Accuracy: 57.66%*****\n",
      "*****Total Avg Disparity: 0.143337484650632*****\n",
      "\n",
      "Class Team_Sports: Recall Difference = 0.10927774858410699\n",
      "Class Celebration: Recall Difference = -0.13488372093023254\n",
      "Class Parade: Recall Difference = 0.09751924721984606\n",
      "Class Waiter_Or_Waitress: Recall Difference = -0.013869625520111062\n",
      "Class Individual_Sports: Recall Difference = -0.0414584279872785\n",
      "Class Surgeons: Recall Difference = -0.11899482631189945\n",
      "Class Spa: Recall Difference = -0.5399999999999999\n",
      "Class Law_Enforcement: Recall Difference = 0.09459459459459474\n",
      "Class Business: Recall Difference = -0.11127707244212093\n",
      "Class Dresses: Recall Difference = -0.43631436314363137\n",
      "Class Water_Activities: Recall Difference = 0.039891891891891906\n",
      "Class Picnic: Recall Difference = -0.018181818181818188\n",
      "Class Rescue: Recall Difference = 0.13645569620253167\n",
      "Class Cheering: Recall Difference = -0.11628383921246921\n",
      "Class Performance_And_Entertainment: Recall Difference = -0.05273021552091317\n",
      "Class Family: Recall Difference = -0.23166666666666672\n",
      "Data has been appended to No_Attenuation_07/teacher_validation_8.txt\n"
     ]
    },
    {
     "name": "stderr",
     "output_type": "stream",
     "text": [
      "100%|█████████████████████████████████████████████████████████████████████████| 162/162 [01:50<00:00,  1.47it/s]\n",
      "100%|███████████████████████████████████████████████████████████████████████████| 55/55 [00:18<00:00,  2.95it/s]\n"
     ]
    },
    {
     "name": "stdout",
     "output_type": "stream",
     "text": [
      "*****Epoch 85/300*****\n",
      "*****Train Loss: -5.227663 Val Loss: -2.394862*****\n",
      "*****Validation Accuracy: 58.41%*****\n",
      "*****Total Avg Disparity: 0.15798241542446706*****\n",
      "\n",
      "Class Team_Sports: Recall Difference = 0.05259531733520162\n",
      "Class Celebration: Recall Difference = -0.03023255813953485\n",
      "Class Parade: Recall Difference = 0.060792700313658465\n",
      "Class Waiter_Or_Waitress: Recall Difference = -0.11095700416088772\n",
      "Class Individual_Sports: Recall Difference = -0.058496138119036756\n",
      "Class Surgeons: Recall Difference = 0.002956393200295615\n",
      "Class Spa: Recall Difference = -0.6199999999999999\n",
      "Class Law_Enforcement: Recall Difference = 0.17242242242242234\n",
      "Class Business: Recall Difference = -0.11127707244212093\n",
      "Class Dresses: Recall Difference = -0.6327913279132791\n",
      "Class Water_Activities: Recall Difference = 0.07243243243243247\n",
      "Class Picnic: Recall Difference = -0.16363636363636364\n",
      "Class Rescue: Recall Difference = 0.16506329113924048\n",
      "Class Cheering: Recall Difference = -0.0459392945036915\n",
      "Class Performance_And_Entertainment: Recall Difference = 0.036459664366641\n",
      "Class Family: Recall Difference = -0.19166666666666668\n",
      "Data has been appended to No_Attenuation_07/teacher_validation_8.txt\n"
     ]
    },
    {
     "name": "stderr",
     "output_type": "stream",
     "text": [
      "100%|█████████████████████████████████████████████████████████████████████████| 162/162 [01:50<00:00,  1.47it/s]\n",
      "100%|███████████████████████████████████████████████████████████████████████████| 55/55 [00:18<00:00,  2.90it/s]\n"
     ]
    },
    {
     "name": "stdout",
     "output_type": "stream",
     "text": [
      "*****Epoch 86/300*****\n",
      "*****Train Loss: -5.206701 Val Loss: -2.104245*****\n",
      "*****Validation Accuracy: 58.35%*****\n",
      "*****Total Avg Disparity: 0.14192449191937173*****\n",
      "\n",
      "Class Team_Sports: Recall Difference = 0.08553745547965208\n",
      "Class Celebration: Recall Difference = -0.08139534883720939\n",
      "Class Parade: Recall Difference = 0.03330481893356152\n",
      "Class Waiter_Or_Waitress: Recall Difference = -0.14794267221451696\n",
      "Class Individual_Sports: Recall Difference = -0.09760714826593975\n",
      "Class Surgeons: Recall Difference = -0.021433850702143487\n",
      "Class Spa: Recall Difference = -0.5599999999999999\n",
      "Class Law_Enforcement: Recall Difference = 0.10510510510510529\n",
      "Class Business: Recall Difference = -0.13581564067000956\n",
      "Class Dresses: Recall Difference = -0.48644986449864497\n",
      "Class Water_Activities: Recall Difference = 0.08345945945945954\n",
      "Class Picnic: Recall Difference = 0.036363636363636376\n",
      "Class Rescue: Recall Difference = 0.0637974683544304\n",
      "Class Cheering: Recall Difference = -0.06993437243642325\n",
      "Class Performance_And_Entertainment: Recall Difference = 0.05264502938921539\n",
      "Class Family: Recall Difference = -0.2099999999999999\n",
      "Data has been appended to No_Attenuation_07/teacher_validation_8.txt\n"
     ]
    },
    {
     "name": "stderr",
     "output_type": "stream",
     "text": [
      "100%|█████████████████████████████████████████████████████████████████████████| 162/162 [01:50<00:00,  1.47it/s]\n",
      "100%|███████████████████████████████████████████████████████████████████████████| 55/55 [00:19<00:00,  2.89it/s]\n"
     ]
    },
    {
     "name": "stdout",
     "output_type": "stream",
     "text": [
      "*****Epoch 87/300*****\n",
      "*****Train Loss: -5.206686 Val Loss: -2.037562*****\n",
      "*****Validation Accuracy: 57.63%*****\n",
      "*****Total Avg Disparity: 0.1291386579182257*****\n",
      "\n",
      "Class Team_Sports: Recall Difference = 0.07481753955742387\n",
      "Class Celebration: Recall Difference = -0.0023255813953488302\n",
      "Class Parade: Recall Difference = 0.023781009409751808\n",
      "Class Waiter_Or_Waitress: Recall Difference = 0.0744336569579287\n",
      "Class Individual_Sports: Recall Difference = -0.14137513251552325\n",
      "Class Surgeons: Recall Difference = 0.020694752402069416\n",
      "Class Spa: Recall Difference = -0.4599999999999999\n",
      "Class Law_Enforcement: Recall Difference = 0.04429429429429432\n",
      "Class Business: Recall Difference = -0.003200682812333322\n",
      "Class Dresses: Recall Difference = -0.5474254742547426\n",
      "Class Water_Activities: Recall Difference = 0.026918918918918955\n",
      "Class Picnic: Recall Difference = -0.18181818181818182\n",
      "Class Rescue: Recall Difference = 0.051139240506329064\n",
      "Class Cheering: Recall Difference = -0.04306808859721084\n",
      "Class Performance_And_Entertainment: Recall Difference = -0.00425930658488799\n",
      "Class Family: Recall Difference = -0.3666666666666666\n",
      "Data has been appended to No_Attenuation_07/teacher_validation_8.txt\n"
     ]
    },
    {
     "name": "stderr",
     "output_type": "stream",
     "text": [
      "100%|█████████████████████████████████████████████████████████████████████████| 162/162 [01:50<00:00,  1.47it/s]\n",
      "100%|███████████████████████████████████████████████████████████████████████████| 55/55 [00:18<00:00,  2.96it/s]\n"
     ]
    },
    {
     "name": "stdout",
     "output_type": "stream",
     "text": [
      "*****Epoch 88/300*****\n",
      "*****Train Loss: -5.224316 Val Loss: -2.023828*****\n",
      "*****Validation Accuracy: 57.52%*****\n",
      "*****Total Avg Disparity: 0.14851408430295593*****\n",
      "\n",
      "Class Team_Sports: Recall Difference = 0.07257546563904949\n",
      "Class Celebration: Recall Difference = -0.06046511627906975\n",
      "Class Parade: Recall Difference = 0.10134017678927865\n",
      "Class Waiter_Or_Waitress: Recall Difference = -0.03236245954692574\n",
      "Class Individual_Sports: Recall Difference = -0.09931091927911562\n",
      "Class Surgeons: Recall Difference = -0.1729490022172948\n",
      "Class Spa: Recall Difference = -0.5599999999999999\n",
      "Class Law_Enforcement: Recall Difference = 0.020270270270270285\n",
      "Class Business: Recall Difference = -0.09313986983889894\n",
      "Class Dresses: Recall Difference = -0.4471544715447155\n",
      "Class Water_Activities: Recall Difference = 0.02637837837837842\n",
      "Class Picnic: Recall Difference = -0.09090909090909094\n",
      "Class Rescue: Recall Difference = 0.08911392405063298\n",
      "Class Cheering: Recall Difference = 0.00266611977030351\n",
      "Class Performance_And_Entertainment: Recall Difference = 0.10759008433427036\n",
      "Class Family: Recall Difference = -0.4\n",
      "Data has been appended to No_Attenuation_07/teacher_validation_8.txt\n"
     ]
    },
    {
     "name": "stderr",
     "output_type": "stream",
     "text": [
      "100%|█████████████████████████████████████████████████████████████████████████| 162/162 [01:50<00:00,  1.47it/s]\n",
      "100%|███████████████████████████████████████████████████████████████████████████| 55/55 [00:18<00:00,  2.96it/s]\n"
     ]
    },
    {
     "name": "stdout",
     "output_type": "stream",
     "text": [
      "*****Epoch 89/300*****\n",
      "*****Train Loss: -5.221083 Val Loss: -1.931479*****\n",
      "*****Validation Accuracy: 56.77%*****\n",
      "*****Total Avg Disparity: 0.1518471678239252*****\n",
      "\n",
      "Class Team_Sports: Recall Difference = 0.05069188999824836\n",
      "Class Celebration: Recall Difference = -0.020930232558139528\n",
      "Class Parade: Recall Difference = 0.09997148560022795\n",
      "Class Waiter_Or_Waitress: Recall Difference = -0.012944983818770406\n",
      "Class Individual_Sports: Recall Difference = -0.04592609419960614\n",
      "Class Surgeons: Recall Difference = -0.13673318551367336\n",
      "Class Spa: Recall Difference = -0.6599999999999999\n",
      "Class Law_Enforcement: Recall Difference = 0.10635635635635632\n",
      "Class Business: Recall Difference = -0.07702976635015468\n",
      "Class Dresses: Recall Difference = -0.5914634146341463\n",
      "Class Water_Activities: Recall Difference = 0.0578378378378378\n",
      "Class Picnic: Recall Difference = -0.054545454545454564\n",
      "Class Rescue: Recall Difference = -0.006835443037974731\n",
      "Class Cheering: Recall Difference = -0.0559885151763741\n",
      "Class Performance_And_Entertainment: Recall Difference = 0.0023000255558394134\n",
      "Class Family: Recall Difference = -0.44999999999999996\n",
      "Data has been appended to No_Attenuation_07/teacher_validation_8.txt\n"
     ]
    },
    {
     "name": "stderr",
     "output_type": "stream",
     "text": [
      "100%|█████████████████████████████████████████████████████████████████████████| 162/162 [01:50<00:00,  1.47it/s]\n",
      "100%|███████████████████████████████████████████████████████████████████████████| 55/55 [00:18<00:00,  2.93it/s]\n"
     ]
    },
    {
     "name": "stdout",
     "output_type": "stream",
     "text": [
      "*****Epoch 90/300*****\n",
      "*****Train Loss: -5.208579 Val Loss: -2.072796*****\n",
      "*****Validation Accuracy: 57.84%*****\n",
      "*****Total Avg Disparity: 0.16275928342029056*****\n",
      "\n",
      "Class Team_Sports: Recall Difference = 0.044794768494190285\n",
      "Class Celebration: Recall Difference = 0.013953488372093037\n",
      "Class Parade: Recall Difference = 0.016994582264043268\n",
      "Class Waiter_Or_Waitress: Recall Difference = -0.1003236245954694\n",
      "Class Individual_Sports: Recall Difference = -0.08075874602453426\n",
      "Class Surgeons: Recall Difference = -0.17886178861788615\n",
      "Class Spa: Recall Difference = -0.66\n",
      "Class Law_Enforcement: Recall Difference = 0.1233733733733734\n",
      "Class Business: Recall Difference = -0.08929905046409897\n",
      "Class Dresses: Recall Difference = -0.5094850948509485\n",
      "Class Water_Activities: Recall Difference = 0.06691891891891899\n",
      "Class Picnic: Recall Difference = -0.25454545454545463\n",
      "Class Rescue: Recall Difference = 0.10911392405063294\n",
      "Class Cheering: Recall Difference = -0.057629204265791656\n",
      "Class Performance_And_Entertainment: Recall Difference = -0.01976318255388021\n",
      "Class Family: Recall Difference = -0.27833333333333343\n",
      "Data has been appended to No_Attenuation_07/teacher_validation_8.txt\n"
     ]
    },
    {
     "name": "stderr",
     "output_type": "stream",
     "text": [
      "100%|█████████████████████████████████████████████████████████████████████████| 162/162 [01:50<00:00,  1.47it/s]\n",
      "100%|███████████████████████████████████████████████████████████████████████████| 55/55 [00:18<00:00,  2.90it/s]\n"
     ]
    },
    {
     "name": "stdout",
     "output_type": "stream",
     "text": [
      "*****Epoch 91/300*****\n",
      "*****Train Loss: -5.261126 Val Loss: -1.954657*****\n",
      "*****Validation Accuracy: 57.98%*****\n",
      "*****Total Avg Disparity: 0.16874559995212285*****\n",
      "\n",
      "Class Team_Sports: Recall Difference = 0.06595434109884979\n",
      "Class Celebration: Recall Difference = 0.04186046511627911\n",
      "Class Parade: Recall Difference = 0.036555460507556314\n",
      "Class Waiter_Or_Waitress: Recall Difference = -0.13915857605178017\n",
      "Class Individual_Sports: Recall Difference = -0.11263819475995751\n",
      "Class Surgeons: Recall Difference = -0.21581670362158162\n",
      "Class Spa: Recall Difference = -0.52\n",
      "Class Law_Enforcement: Recall Difference = 0.0948448448448449\n",
      "Class Business: Recall Difference = -0.0982609623386323\n",
      "Class Dresses: Recall Difference = -0.6205962059620596\n",
      "Class Water_Activities: Recall Difference = 0.047891891891892135\n",
      "Class Picnic: Recall Difference = -0.16363636363636364\n",
      "Class Rescue: Recall Difference = 0.06708860759493668\n",
      "Class Cheering: Recall Difference = -0.08798195242001638\n",
      "Class Performance_And_Entertainment: Recall Difference = 0.05264502938921539\n",
      "Class Family: Recall Difference = -0.33499999999999996\n",
      "Data has been appended to No_Attenuation_07/teacher_validation_8.txt\n"
     ]
    },
    {
     "name": "stderr",
     "output_type": "stream",
     "text": [
      "100%|█████████████████████████████████████████████████████████████████████████| 162/162 [01:50<00:00,  1.47it/s]\n",
      "100%|███████████████████████████████████████████████████████████████████████████| 55/55 [00:18<00:00,  2.90it/s]\n"
     ]
    },
    {
     "name": "stdout",
     "output_type": "stream",
     "text": [
      "*****Epoch 92/300*****\n",
      "*****Train Loss: -5.188683 Val Loss: -2.095049*****\n",
      "*****Validation Accuracy: 57.72%*****\n",
      "*****Total Avg Disparity: 0.18031799219066744*****\n",
      "\n",
      "Class Team_Sports: Recall Difference = 0.020493956910141775\n",
      "Class Celebration: Recall Difference = -0.05348837209302332\n",
      "Class Parade: Recall Difference = 0.024864556601083554\n",
      "Class Waiter_Or_Waitress: Recall Difference = -0.29079981507165975\n",
      "Class Individual_Sports: Recall Difference = -0.11968044828108426\n",
      "Class Surgeons: Recall Difference = -0.18551367331855134\n",
      "Class Spa: Recall Difference = -0.5599999999999999\n",
      "Class Law_Enforcement: Recall Difference = 0.10135135135135137\n",
      "Class Business: Recall Difference = -0.12354635655606527\n",
      "Class Dresses: Recall Difference = -0.5338753387533876\n",
      "Class Water_Activities: Recall Difference = 0.058918918918919094\n",
      "Class Picnic: Recall Difference = -0.23636363636363641\n",
      "Class Rescue: Recall Difference = 0.11316455696202529\n",
      "Class Cheering: Recall Difference = -0.09023789991796552\n",
      "Class Performance_And_Entertainment: Recall Difference = -0.009455660618451212\n",
      "Class Family: Recall Difference = -0.3633333333333333\n",
      "Data has been appended to No_Attenuation_07/teacher_validation_8.txt\n"
     ]
    },
    {
     "name": "stderr",
     "output_type": "stream",
     "text": [
      "100%|█████████████████████████████████████████████████████████████████████████| 162/162 [01:50<00:00,  1.47it/s]\n",
      "100%|███████████████████████████████████████████████████████████████████████████| 55/55 [00:18<00:00,  2.93it/s]\n"
     ]
    },
    {
     "name": "stdout",
     "output_type": "stream",
     "text": [
      "*****Epoch 93/300*****\n",
      "*****Train Loss: -5.238929 Val Loss: -2.081155*****\n",
      "*****Validation Accuracy: 58.38%*****\n",
      "*****Total Avg Disparity: 0.18529027363033468*****\n",
      "\n",
      "Class Team_Sports: Recall Difference = 0.04619606469317461\n",
      "Class Celebration: Recall Difference = -0.009302325581395321\n",
      "Class Parade: Recall Difference = 0.07140005702879959\n",
      "Class Waiter_Or_Waitress: Recall Difference = -0.18585298196948696\n",
      "Class Individual_Sports: Recall Difference = -0.05573224291988488\n",
      "Class Surgeons: Recall Difference = -0.1611234294161123\n",
      "Class Spa: Recall Difference = -0.7799999999999999\n",
      "Class Law_Enforcement: Recall Difference = 0.0813313313313313\n",
      "Class Business: Recall Difference = -0.11586471780646534\n",
      "Class Dresses: Recall Difference = -0.5399728997289974\n",
      "Class Water_Activities: Recall Difference = 0.08237837837837825\n",
      "Class Picnic: Recall Difference = -0.3090909090909091\n",
      "Class Rescue: Recall Difference = 0.13316455696202534\n",
      "Class Cheering: Recall Difference = -0.06993437243642325\n",
      "Class Performance_And_Entertainment: Recall Difference = 0.009966777408637884\n",
      "Class Family: Recall Difference = -0.31333333333333324\n",
      "Data has been appended to No_Attenuation_07/teacher_validation_8.txt\n"
     ]
    },
    {
     "name": "stderr",
     "output_type": "stream",
     "text": [
      "100%|█████████████████████████████████████████████████████████████████████████| 162/162 [01:50<00:00,  1.47it/s]\n",
      "100%|███████████████████████████████████████████████████████████████████████████| 55/55 [00:18<00:00,  2.92it/s]\n"
     ]
    },
    {
     "name": "stdout",
     "output_type": "stream",
     "text": [
      "*****Epoch 94/300*****\n",
      "*****Train Loss: -5.250747 Val Loss: -2.067212*****\n",
      "*****Validation Accuracy: 57.81%*****\n",
      "*****Total Avg Disparity: 0.18456598970791255*****\n",
      "\n",
      "Class Team_Sports: Recall Difference = 0.039913586734396045\n",
      "Class Celebration: Recall Difference = -0.07441860465116279\n",
      "Class Parade: Recall Difference = 0.12420872540633021\n",
      "Class Waiter_Or_Waitress: Recall Difference = -0.16551086453999075\n",
      "Class Individual_Sports: Recall Difference = -0.09836437982735113\n",
      "Class Surgeons: Recall Difference = -0.13082039911308213\n",
      "Class Spa: Recall Difference = -0.7999999999999999\n",
      "Class Law_Enforcement: Recall Difference = 0.08633633633633642\n",
      "Class Business: Recall Difference = -0.11895871119172091\n",
      "Class Dresses: Recall Difference = -0.61449864498645\n",
      "Class Water_Activities: Recall Difference = 0.09945945945945933\n",
      "Class Picnic: Recall Difference = -0.2\n",
      "Class Rescue: Recall Difference = 0.08784810126582282\n",
      "Class Cheering: Recall Difference = -0.06193601312551272\n",
      "Class Performance_And_Entertainment: Recall Difference = 0.047448675355652226\n",
      "Class Family: Recall Difference = -0.20333333333333342\n",
      "Data has been appended to No_Attenuation_07/teacher_validation_8.txt\n"
     ]
    },
    {
     "name": "stderr",
     "output_type": "stream",
     "text": [
      "100%|█████████████████████████████████████████████████████████████████████████| 162/162 [01:50<00:00,  1.47it/s]\n",
      "100%|███████████████████████████████████████████████████████████████████████████| 55/55 [00:19<00:00,  2.85it/s]\n"
     ]
    },
    {
     "name": "stdout",
     "output_type": "stream",
     "text": [
      "*****Epoch 95/300*****\n",
      "*****Train Loss: -5.224523 Val Loss: -2.109937*****\n",
      "*****Validation Accuracy: 57.14%*****\n",
      "*****Total Avg Disparity: 0.1800318683886683*****\n",
      "\n",
      "Class Team_Sports: Recall Difference = 0.0979973141822853\n",
      "Class Celebration: Recall Difference = -0.09534883720930232\n",
      "Class Parade: Recall Difference = -0.004790419161676662\n",
      "Class Waiter_Or_Waitress: Recall Difference = -0.10032362459546917\n",
      "Class Individual_Sports: Recall Difference = -0.05535362713917902\n",
      "Class Surgeons: Recall Difference = -0.24538063562453805\n",
      "Class Spa: Recall Difference = -0.64\n",
      "Class Law_Enforcement: Recall Difference = 0.11511511511511507\n",
      "Class Business: Recall Difference = -0.0926064227035101\n",
      "Class Dresses: Recall Difference = -0.5962059620596205\n",
      "Class Water_Activities: Recall Difference = 0.09837837837837837\n",
      "Class Picnic: Recall Difference = -0.18181818181818185\n",
      "Class Rescue: Recall Difference = 0.17974683544303793\n",
      "Class Cheering: Recall Difference = -0.048810500410172264\n",
      "Class Performance_And_Entertainment: Recall Difference = 0.06363404037822634\n",
      "Class Family: Recall Difference = -0.26499999999999996\n",
      "Data has been appended to No_Attenuation_07/teacher_validation_8.txt\n"
     ]
    },
    {
     "name": "stderr",
     "output_type": "stream",
     "text": [
      "100%|█████████████████████████████████████████████████████████████████████████| 162/162 [01:50<00:00,  1.47it/s]\n",
      "100%|███████████████████████████████████████████████████████████████████████████| 55/55 [00:18<00:00,  2.94it/s]\n"
     ]
    },
    {
     "name": "stdout",
     "output_type": "stream",
     "text": [
      "*****Epoch 96/300*****\n",
      "*****Train Loss: -5.232119 Val Loss: -2.052805*****\n",
      "*****Validation Accuracy: 56.97%*****\n",
      "*****Total Avg Disparity: 0.18119913603610688*****\n",
      "\n",
      "Class Team_Sports: Recall Difference = 0.039294680913178115\n",
      "Class Celebration: Recall Difference = -0.02790697674418602\n",
      "Class Parade: Recall Difference = 0.0003992015968063978\n",
      "Class Waiter_Or_Waitress: Recall Difference = -0.24318076745261208\n",
      "Class Individual_Sports: Recall Difference = -0.049068605179463765\n",
      "Class Surgeons: Recall Difference = -0.15521064301552118\n",
      "Class Spa: Recall Difference = -0.82\n",
      "Class Law_Enforcement: Recall Difference = 0.11961961961961964\n",
      "Class Business: Recall Difference = -0.11511789181692089\n",
      "Class Dresses: Recall Difference = -0.5962059620596207\n",
      "Class Water_Activities: Recall Difference = 0.0909189189189189\n",
      "Class Picnic: Recall Difference = -0.16363636363636364\n",
      "Class Rescue: Recall Difference = 0.1278481012658228\n",
      "Class Cheering: Recall Difference = -0.02194421657095985\n",
      "Class Performance_And_Entertainment: Recall Difference = -0.0805008944543828\n",
      "Class Family: Recall Difference = -0.2483333333333333\n",
      "Data has been appended to No_Attenuation_07/teacher_validation_8.txt\n"
     ]
    },
    {
     "name": "stderr",
     "output_type": "stream",
     "text": [
      "100%|█████████████████████████████████████████████████████████████████████████| 162/162 [01:50<00:00,  1.47it/s]\n",
      "100%|███████████████████████████████████████████████████████████████████████████| 55/55 [00:19<00:00,  2.88it/s]\n"
     ]
    },
    {
     "name": "stdout",
     "output_type": "stream",
     "text": [
      "*****Epoch 97/300*****\n",
      "*****Train Loss: -5.218059 Val Loss: -1.876934*****\n",
      "*****Validation Accuracy: 57.32%*****\n",
      "*****Total Avg Disparity: 0.1763231101269501*****\n",
      "\n",
      "Class Team_Sports: Recall Difference = 0.011011852630349539\n",
      "Class Celebration: Recall Difference = -0.07441860465116273\n",
      "Class Parade: Recall Difference = 0.03849443969204447\n",
      "Class Waiter_Or_Waitress: Recall Difference = -0.21497919556171985\n",
      "Class Individual_Sports: Recall Difference = -0.06239588066030599\n",
      "Class Surgeons: Recall Difference = -0.17960088691796017\n",
      "Class Spa: Recall Difference = -0.7\n",
      "Class Law_Enforcement: Recall Difference = 0.05755755755755754\n",
      "Class Business: Recall Difference = -0.11127707244212104\n",
      "Class Dresses: Recall Difference = -0.5155826558265583\n",
      "Class Water_Activities: Recall Difference = 0.10194594594594619\n",
      "Class Picnic: Recall Difference = -0.2545454545454545\n",
      "Class Rescue: Recall Difference = 0.13316455696202528\n",
      "Class Cheering: Recall Difference = -0.027891714520098476\n",
      "Class Performance_And_Entertainment: Recall Difference = -0.021637277451230896\n",
      "Class Family: Recall Difference = -0.31666666666666665\n",
      "Data has been appended to No_Attenuation_07/teacher_validation_8.txt\n"
     ]
    },
    {
     "name": "stderr",
     "output_type": "stream",
     "text": [
      "100%|█████████████████████████████████████████████████████████████████████████| 162/162 [01:50<00:00,  1.47it/s]\n",
      "100%|███████████████████████████████████████████████████████████████████████████| 55/55 [00:19<00:00,  2.88it/s]\n"
     ]
    },
    {
     "name": "stdout",
     "output_type": "stream",
     "text": [
      "*****Epoch 98/300*****\n",
      "*****Train Loss: -5.216489 Val Loss: -2.107084*****\n",
      "*****Validation Accuracy: 57.46%*****\n",
      "*****Total Avg Disparity: 0.1760578509494739*****\n",
      "\n",
      "Class Team_Sports: Recall Difference = 0.10287849594207976\n",
      "Class Celebration: Recall Difference = -0.025581395348837244\n",
      "Class Parade: Recall Difference = -0.0124322783005415\n",
      "Class Waiter_Or_Waitress: Recall Difference = -0.21312991215903831\n",
      "Class Individual_Sports: Recall Difference = -0.10578524912918374\n",
      "Class Surgeons: Recall Difference = -0.29416112342941614\n",
      "Class Spa: Recall Difference = -0.48\n",
      "Class Law_Enforcement: Recall Difference = 0.10310310310310322\n",
      "Class Business: Recall Difference = -0.08855222447455458\n",
      "Class Dresses: Recall Difference = -0.6449864498644986\n",
      "Class Water_Activities: Recall Difference = 0.0909189189189189\n",
      "Class Picnic: Recall Difference = -0.12727272727272726\n",
      "Class Rescue: Recall Difference = 0.08379746835443039\n",
      "Class Cheering: Recall Difference = -0.035684987694831805\n",
      "Class Performance_And_Entertainment: Recall Difference = 0.048641281199420766\n",
      "Class Family: Recall Difference = -0.36\n",
      "Data has been appended to No_Attenuation_07/teacher_validation_8.txt\n"
     ]
    },
    {
     "name": "stderr",
     "output_type": "stream",
     "text": [
      "100%|█████████████████████████████████████████████████████████████████████████| 162/162 [01:50<00:00,  1.47it/s]\n",
      "100%|███████████████████████████████████████████████████████████████████████████| 55/55 [00:18<00:00,  2.97it/s]\n"
     ]
    },
    {
     "name": "stdout",
     "output_type": "stream",
     "text": [
      "*****Epoch 99/300*****\n",
      "*****Train Loss: -5.224976 Val Loss: -2.042040*****\n",
      "*****Validation Accuracy: 57.75%*****\n",
      "*****Total Avg Disparity: 0.18672619899222417*****\n",
      "\n",
      "Class Team_Sports: Recall Difference = 0.0693758393180357\n",
      "Class Celebration: Recall Difference = 0.03953488372093017\n",
      "Class Parade: Recall Difference = 0.09672084402623349\n",
      "Class Waiter_Or_Waitress: Recall Difference = -0.15672676837725386\n",
      "Class Individual_Sports: Recall Difference = -0.05202180826896874\n",
      "Class Surgeons: Recall Difference = -0.2276422764227642\n",
      "Class Spa: Recall Difference = -0.6\n",
      "Class Law_Enforcement: Recall Difference = 0.1233733733733734\n",
      "Class Business: Recall Difference = -0.16110103488744265\n",
      "Class Dresses: Recall Difference = -0.5704607046070462\n",
      "Class Water_Activities: Recall Difference = 0.09643243243243249\n",
      "Class Picnic: Recall Difference = -0.3090909090909092\n",
      "Class Rescue: Recall Difference = 0.06582278481012654\n",
      "Class Cheering: Recall Difference = -0.08141919606234621\n",
      "Class Performance_And_Entertainment: Recall Difference = 0.0028963284777239195\n",
      "Class Family: Recall Difference = -0.33499999999999996\n",
      "Data has been appended to No_Attenuation_07/teacher_validation_8.txt\n"
     ]
    },
    {
     "name": "stderr",
     "output_type": "stream",
     "text": [
      "100%|█████████████████████████████████████████████████████████████████████████| 162/162 [01:50<00:00,  1.47it/s]\n",
      "100%|███████████████████████████████████████████████████████████████████████████| 55/55 [00:18<00:00,  2.95it/s]\n"
     ]
    },
    {
     "name": "stdout",
     "output_type": "stream",
     "text": [
      "*****Epoch 100/300*****\n",
      "*****Train Loss: -5.204303 Val Loss: -1.922663*****\n",
      "*****Validation Accuracy: 57.46%*****\n",
      "*****Total Avg Disparity: 0.19372172371504492*****\n",
      "\n",
      "Class Team_Sports: Recall Difference = 0.11797746248613294\n",
      "Class Celebration: Recall Difference = -0.039534883720930225\n",
      "Class Parade: Recall Difference = 0.032221271742229884\n",
      "Class Waiter_Or_Waitress: Recall Difference = -0.09939898289412863\n",
      "Class Individual_Sports: Recall Difference = -0.02366348629410875\n",
      "Class Surgeons: Recall Difference = -0.24020694752402066\n",
      "Class Spa: Recall Difference = -0.72\n",
      "Class Law_Enforcement: Recall Difference = 0.13538538538538547\n",
      "Class Business: Recall Difference = -0.1378427397844873\n",
      "Class Dresses: Recall Difference = -0.5779132791327914\n",
      "Class Water_Activities: Recall Difference = 0.03437837837837843\n",
      "Class Picnic: Recall Difference = -0.3090909090909091\n",
      "Class Rescue: Recall Difference = 0.1491139240506329\n",
      "Class Cheering: Recall Difference = 0.021534044298605393\n",
      "Class Performance_And_Entertainment: Recall Difference = 0.06295255132464439\n",
      "Class Family: Recall Difference = -0.3983333333333333\n",
      "Data has been appended to No_Attenuation_07/teacher_validation_8.txt\n"
     ]
    },
    {
     "name": "stderr",
     "output_type": "stream",
     "text": [
      "100%|█████████████████████████████████████████████████████████████████████████| 162/162 [01:50<00:00,  1.47it/s]\n",
      "100%|███████████████████████████████████████████████████████████████████████████| 55/55 [00:18<00:00,  2.95it/s]\n"
     ]
    },
    {
     "name": "stdout",
     "output_type": "stream",
     "text": [
      "*****Epoch 101/300*****\n",
      "*****Train Loss: -5.199118 Val Loss: -1.941607*****\n",
      "*****Validation Accuracy: 56.91%*****\n",
      "*****Total Avg Disparity: 0.19874228032841085*****\n",
      "\n",
      "Class Team_Sports: Recall Difference = 0.05473229403865254\n",
      "Class Celebration: Recall Difference = 0.046511627906976716\n",
      "Class Parade: Recall Difference = 0.0825777017393784\n",
      "Class Waiter_Or_Waitress: Recall Difference = -0.02265372168284807\n",
      "Class Individual_Sports: Recall Difference = -0.07723761926397099\n",
      "Class Surgeons: Recall Difference = -0.35550628233555065\n",
      "Class Spa: Recall Difference = -0.6\n",
      "Class Law_Enforcement: Recall Difference = 0.12487487487487492\n",
      "Class Business: Recall Difference = -0.10028806145310998\n",
      "Class Dresses: Recall Difference = -0.5460704607046072\n",
      "Class Water_Activities: Recall Difference = 0.04735135135135149\n",
      "Class Picnic: Recall Difference = -0.4727272727272728\n",
      "Class Rescue: Recall Difference = 0.08177215189873421\n",
      "Class Cheering: Recall Difference = 0.09044298605414275\n",
      "Class Performance_And_Entertainment: Recall Difference = -0.040463412556435874\n",
      "Class Family: Recall Difference = -0.43666666666666665\n",
      "Data has been appended to No_Attenuation_07/teacher_validation_8.txt\n"
     ]
    },
    {
     "name": "stderr",
     "output_type": "stream",
     "text": [
      "100%|█████████████████████████████████████████████████████████████████████████| 162/162 [01:50<00:00,  1.47it/s]\n",
      "100%|███████████████████████████████████████████████████████████████████████████| 55/55 [00:19<00:00,  2.86it/s]\n"
     ]
    },
    {
     "name": "stdout",
     "output_type": "stream",
     "text": [
      "*****Epoch 102/300*****\n",
      "*****Train Loss: -5.227019 Val Loss: -1.937992*****\n",
      "*****Validation Accuracy: 57.63%*****\n",
      "*****Total Avg Disparity: 0.18537724640105396*****\n",
      "\n",
      "Class Team_Sports: Recall Difference = 0.07829742511823434\n",
      "Class Celebration: Recall Difference = 0.009302325581395376\n",
      "Class Parade: Recall Difference = -0.0537781579697747\n",
      "Class Waiter_Or_Waitress: Recall Difference = -0.1091077207582063\n",
      "Class Individual_Sports: Recall Difference = -0.038315917007420874\n",
      "Class Surgeons: Recall Difference = -0.21581670362158162\n",
      "Class Spa: Recall Difference = -0.64\n",
      "Class Law_Enforcement: Recall Difference = 0.16216216216216217\n",
      "Class Business: Recall Difference = -0.125573455670543\n",
      "Class Dresses: Recall Difference = -0.6510840108401084\n",
      "Class Water_Activities: Recall Difference = 0.09340540540540543\n",
      "Class Picnic: Recall Difference = -0.3090909090909091\n",
      "Class Rescue: Recall Difference = 0.15443037974683546\n",
      "Class Cheering: Recall Difference = -0.040196882690730074\n",
      "Class Performance_And_Entertainment: Recall Difference = 0.03714115342022317\n",
      "Class Family: Recall Difference = -0.24833333333333332\n",
      "Data has been appended to No_Attenuation_07/teacher_validation_8.txt\n"
     ]
    },
    {
     "name": "stderr",
     "output_type": "stream",
     "text": [
      "100%|█████████████████████████████████████████████████████████████████████████| 162/162 [01:50<00:00,  1.47it/s]\n",
      "100%|███████████████████████████████████████████████████████████████████████████| 55/55 [00:19<00:00,  2.88it/s]\n"
     ]
    },
    {
     "name": "stdout",
     "output_type": "stream",
     "text": [
      "*****Epoch 103/300*****\n",
      "*****Train Loss: -5.269864 Val Loss: -2.032193*****\n",
      "*****Validation Accuracy: 57.98%*****\n",
      "*****Total Avg Disparity: 0.1623264962869445*****\n",
      "\n",
      "Class Team_Sports: Recall Difference = 0.05955508845682245\n",
      "Class Celebration: Recall Difference = 0.023255813953488413\n",
      "Class Parade: Recall Difference = -0.050242372398061064\n",
      "Class Waiter_Or_Waitress: Recall Difference = -0.07212205270457706\n",
      "Class Individual_Sports: Recall Difference = -0.044979554747841766\n",
      "Class Surgeons: Recall Difference = -0.1973392461197338\n",
      "Class Spa: Recall Difference = -0.5\n",
      "Class Law_Enforcement: Recall Difference = 0.18393393393393404\n",
      "Class Business: Recall Difference = -0.06219993598634377\n",
      "Class Dresses: Recall Difference = -0.6463414634146342\n",
      "Class Water_Activities: Recall Difference = 0.09091891891891901\n",
      "Class Picnic: Recall Difference = -0.2181818181818182\n",
      "Class Rescue: Recall Difference = 0.0037974683544304\n",
      "Class Cheering: Recall Difference = -0.026456111566858065\n",
      "Class Performance_And_Entertainment: Recall Difference = 0.014566828520316988\n",
      "Class Family: Recall Difference = -0.4033333333333333\n",
      "Data has been appended to No_Attenuation_07/teacher_validation_8.txt\n"
     ]
    },
    {
     "name": "stderr",
     "output_type": "stream",
     "text": [
      "100%|█████████████████████████████████████████████████████████████████████████| 162/162 [01:50<00:00,  1.47it/s]\n",
      "100%|███████████████████████████████████████████████████████████████████████████| 55/55 [00:18<00:00,  2.95it/s]\n"
     ]
    },
    {
     "name": "stdout",
     "output_type": "stream",
     "text": [
      "*****Epoch 104/300*****\n",
      "*****Train Loss: -5.273833 Val Loss: -1.956973*****\n",
      "*****Validation Accuracy: 59.60%*****\n",
      "*****Total Avg Disparity: 0.15288452445216613*****\n",
      "\n",
      "Class Team_Sports: Recall Difference = 0.03699421965317928\n",
      "Class Celebration: Recall Difference = 0.009302325581395376\n",
      "Class Parade: Recall Difference = -0.05514684915882517\n",
      "Class Waiter_Or_Waitress: Recall Difference = -0.0711974110032364\n",
      "Class Individual_Sports: Recall Difference = -0.0017794941693169974\n",
      "Class Surgeons: Recall Difference = -0.14264597191426465\n",
      "Class Spa: Recall Difference = -0.64\n",
      "Class Law_Enforcement: Recall Difference = 0.1333833833833834\n",
      "Class Business: Recall Difference = -0.08161741171449904\n",
      "Class Dresses: Recall Difference = -0.4166666666666667\n",
      "Class Water_Activities: Recall Difference = 0.08735135135135141\n",
      "Class Picnic: Recall Difference = -0.34545454545454557\n",
      "Class Rescue: Recall Difference = 0.06050632911392406\n",
      "Class Cheering: Recall Difference = 0.013535684987694807\n",
      "Class Performance_And_Entertainment: Recall Difference = 0.033904080415708526\n",
      "Class Family: Recall Difference = -0.31666666666666665\n",
      "Data has been appended to No_Attenuation_07/teacher_validation_8.txt\n"
     ]
    },
    {
     "name": "stderr",
     "output_type": "stream",
     "text": [
      "100%|█████████████████████████████████████████████████████████████████████████| 162/162 [01:50<00:00,  1.47it/s]\n",
      "100%|███████████████████████████████████████████████████████████████████████████| 55/55 [00:18<00:00,  2.96it/s]\n"
     ]
    },
    {
     "name": "stdout",
     "output_type": "stream",
     "text": [
      "*****Epoch 105/300*****\n",
      "*****Train Loss: -5.200619 Val Loss: -2.063861*****\n",
      "*****Validation Accuracy: 57.92%*****\n",
      "*****Total Avg Disparity: 0.1610060063672455*****\n",
      "\n",
      "Class Team_Sports: Recall Difference = 0.0670753780580371\n",
      "Class Celebration: Recall Difference = -0.011627906976744151\n",
      "Class Parade: Recall Difference = 0.015340747077274064\n",
      "Class Waiter_Or_Waitress: Recall Difference = -0.03236245954692574\n",
      "Class Individual_Sports: Recall Difference = -0.10817052854762965\n",
      "Class Surgeons: Recall Difference = -0.03399852180339985\n",
      "Class Spa: Recall Difference = -0.5999999999999999\n",
      "Class Law_Enforcement: Recall Difference = 0.1519019019019019\n",
      "Class Business: Recall Difference = -0.11842526405633191\n",
      "Class Dresses: Recall Difference = -0.5033875338753387\n",
      "Class Water_Activities: Recall Difference = 0.14551351351351355\n",
      "Class Picnic: Recall Difference = -0.36363636363636365\n",
      "Class Rescue: Recall Difference = 0.07443037974683547\n",
      "Class Cheering: Recall Difference = -0.028506972928630026\n",
      "Class Performance_And_Entertainment: Recall Difference = -0.010051963540335551\n",
      "Class Family: Recall Difference = -0.3116666666666666\n",
      "Data has been appended to No_Attenuation_07/teacher_validation_8.txt\n"
     ]
    },
    {
     "name": "stderr",
     "output_type": "stream",
     "text": [
      "100%|█████████████████████████████████████████████████████████████████████████| 162/162 [01:50<00:00,  1.47it/s]\n",
      "100%|███████████████████████████████████████████████████████████████████████████| 55/55 [00:18<00:00,  2.90it/s]\n"
     ]
    },
    {
     "name": "stdout",
     "output_type": "stream",
     "text": [
      "*****Epoch 106/300*****\n",
      "*****Train Loss: -5.233102 Val Loss: -2.016742*****\n",
      "*****Validation Accuracy: 57.89%*****\n",
      "*****Total Avg Disparity: 0.18321275464692582*****\n",
      "\n",
      "Class Team_Sports: Recall Difference = 0.10809832428329547\n",
      "Class Celebration: Recall Difference = -0.044186046511627886\n",
      "Class Parade: Recall Difference = 0.043341887653264854\n",
      "Class Waiter_Or_Waitress: Recall Difference = -0.03236245954692574\n",
      "Class Individual_Sports: Recall Difference = -0.07333787672270176\n",
      "Class Surgeons: Recall Difference = -0.17886178861788615\n",
      "Class Spa: Recall Difference = -0.6\n",
      "Class Law_Enforcement: Recall Difference = 0.1116116116116117\n",
      "Class Business: Recall Difference = -0.07702976635015468\n",
      "Class Dresses: Recall Difference = -0.6205962059620596\n",
      "Class Water_Activities: Recall Difference = 0.08648648648648649\n",
      "Class Picnic: Recall Difference = -0.5090909090909091\n",
      "Class Rescue: Recall Difference = 0.08911392405063295\n",
      "Class Cheering: Recall Difference = -0.06993437243642331\n",
      "Class Performance_And_Entertainment: Recall Difference = 0.05068574836016704\n",
      "Class Family: Recall Difference = -0.23666666666666666\n",
      "Data has been appended to No_Attenuation_07/teacher_validation_8.txt\n"
     ]
    },
    {
     "name": "stderr",
     "output_type": "stream",
     "text": [
      "100%|█████████████████████████████████████████████████████████████████████████| 162/162 [01:50<00:00,  1.47it/s]\n",
      "100%|███████████████████████████████████████████████████████████████████████████| 55/55 [00:18<00:00,  3.02it/s]\n"
     ]
    },
    {
     "name": "stdout",
     "output_type": "stream",
     "text": [
      "*****Epoch 107/300*****\n",
      "*****Train Loss: -5.243552 Val Loss: -1.816454*****\n",
      "*****Validation Accuracy: 58.07%*****\n",
      "*****Total Avg Disparity: 0.18153452554749902*****\n",
      "\n",
      "Class Team_Sports: Recall Difference = 0.06129503123722779\n",
      "Class Celebration: Recall Difference = -0.06976744186046518\n",
      "Class Parade: Recall Difference = 0.07328200741374391\n",
      "Class Waiter_Or_Waitress: Recall Difference = -0.09847434119278786\n",
      "Class Individual_Sports: Recall Difference = -0.030137816144176988\n",
      "Class Surgeons: Recall Difference = -0.16038433111603834\n",
      "Class Spa: Recall Difference = -0.7799999999999999\n",
      "Class Law_Enforcement: Recall Difference = 0.11486486486486491\n",
      "Class Business: Recall Difference = -0.08417795796436572\n",
      "Class Dresses: Recall Difference = -0.49254742547425473\n",
      "Class Water_Activities: Recall Difference = 0.05837837837837845\n",
      "Class Picnic: Recall Difference = -0.36363636363636365\n",
      "Class Rescue: Recall Difference = 0.10708860759493671\n",
      "Class Cheering: Recall Difference = -0.048195242001640715\n",
      "Class Performance_And_Entertainment: Recall Difference = -0.03398926654740608\n",
      "Class Family: Recall Difference = -0.32833333333333337\n",
      "Data has been appended to No_Attenuation_07/teacher_validation_8.txt\n"
     ]
    },
    {
     "name": "stderr",
     "output_type": "stream",
     "text": [
      "100%|█████████████████████████████████████████████████████████████████████████| 162/162 [01:50<00:00,  1.47it/s]\n",
      "100%|███████████████████████████████████████████████████████████████████████████| 55/55 [00:18<00:00,  2.91it/s]\n"
     ]
    },
    {
     "name": "stdout",
     "output_type": "stream",
     "text": [
      "*****Epoch 108/300*****\n",
      "*****Train Loss: -5.228051 Val Loss: -1.853869*****\n",
      "*****Validation Accuracy: 58.30%*****\n",
      "*****Total Avg Disparity: 0.20675328221270745*****\n",
      "\n",
      "Class Team_Sports: Recall Difference = 0.05921644187540154\n",
      "Class Celebration: Recall Difference = -0.09534883720930226\n",
      "Class Parade: Recall Difference = 0.05725691474194483\n",
      "Class Waiter_Or_Waitress: Recall Difference = -0.14886731391585784\n",
      "Class Individual_Sports: Recall Difference = -0.0017794941693168864\n",
      "Class Surgeons: Recall Difference = -0.25794530672579447\n",
      "Class Spa: Recall Difference = -0.7599999999999999\n",
      "Class Law_Enforcement: Recall Difference = 0.14864864864864857\n",
      "Class Business: Recall Difference = -0.17795796436573136\n",
      "Class Dresses: Recall Difference = -0.7560975609756098\n",
      "Class Water_Activities: Recall Difference = 0.031351351351351475\n",
      "Class Picnic: Recall Difference = -0.34545454545454546\n",
      "Class Rescue: Recall Difference = 0.0637974683544304\n",
      "Class Cheering: Recall Difference = -0.09023789991796555\n",
      "Class Performance_And_Entertainment: Recall Difference = 0.0157594343640855\n",
      "Class Family: Recall Difference = -0.29833333333333345\n",
      "Data has been appended to No_Attenuation_07/teacher_validation_8.txt\n"
     ]
    },
    {
     "name": "stderr",
     "output_type": "stream",
     "text": [
      "100%|█████████████████████████████████████████████████████████████████████████| 162/162 [01:50<00:00,  1.47it/s]\n",
      "100%|███████████████████████████████████████████████████████████████████████████| 55/55 [00:18<00:00,  2.94it/s]\n"
     ]
    },
    {
     "name": "stdout",
     "output_type": "stream",
     "text": [
      "*****Epoch 109/300*****\n",
      "*****Train Loss: -5.236284 Val Loss: -1.714097*****\n",
      "*****Validation Accuracy: 58.01%*****\n",
      "*****Total Avg Disparity: 0.18710083441220812*****\n",
      "\n",
      "Class Team_Sports: Recall Difference = 0.004670987329946863\n",
      "Class Celebration: Recall Difference = -0.06279069767441858\n",
      "Class Parade: Recall Difference = -0.03256344453949245\n",
      "Class Waiter_Or_Waitress: Recall Difference = -0.21497919556171985\n",
      "Class Individual_Sports: Recall Difference = -0.05535362713917913\n",
      "Class Surgeons: Recall Difference = -0.17886178861788615\n",
      "Class Spa: Recall Difference = -0.64\n",
      "Class Law_Enforcement: Recall Difference = 0.17067067067067065\n",
      "Class Business: Recall Difference = -0.1720900458764536\n",
      "Class Dresses: Recall Difference = -0.5962059620596207\n",
      "Class Water_Activities: Recall Difference = 0.11297297297297293\n",
      "Class Picnic: Recall Difference = -0.2727272727272727\n",
      "Class Rescue: Recall Difference = 0.08177215189873416\n",
      "Class Cheering: Recall Difference = -0.025635767022149314\n",
      "Class Performance_And_Entertainment: Recall Difference = -0.02231876650481296\n",
      "Class Family: Recall Difference = -0.35\n",
      "Data has been appended to No_Attenuation_07/teacher_validation_8.txt\n"
     ]
    },
    {
     "name": "stderr",
     "output_type": "stream",
     "text": [
      "100%|█████████████████████████████████████████████████████████████████████████| 162/162 [01:50<00:00,  1.47it/s]\n",
      "100%|███████████████████████████████████████████████████████████████████████████| 55/55 [00:19<00:00,  2.89it/s]\n"
     ]
    },
    {
     "name": "stdout",
     "output_type": "stream",
     "text": [
      "*****Epoch 110/300*****\n",
      "*****Train Loss: -5.233372 Val Loss: -1.791291*****\n",
      "*****Validation Accuracy: 57.32%*****\n",
      "*****Total Avg Disparity: 0.16199925004780083*****\n",
      "\n",
      "Class Team_Sports: Recall Difference = 0.03593157003561609\n",
      "Class Celebration: Recall Difference = -0.08372093023255817\n",
      "Class Parade: Recall Difference = 0.042030225263758214\n",
      "Class Waiter_Or_Waitress: Recall Difference = -0.03236245954692574\n",
      "Class Individual_Sports: Recall Difference = -0.00806451612903214\n",
      "Class Surgeons: Recall Difference = -0.19733924611973402\n",
      "Class Spa: Recall Difference = -0.6000000000000001\n",
      "Class Law_Enforcement: Recall Difference = 0.1116116116116116\n",
      "Class Business: Recall Difference = -0.1268537287954764\n",
      "Class Dresses: Recall Difference = -0.49119241192411933\n",
      "Class Water_Activities: Recall Difference = 0.10140540540540544\n",
      "Class Picnic: Recall Difference = -0.32727272727272727\n",
      "Class Rescue: Recall Difference = 0.10177215189873418\n",
      "Class Cheering: Recall Difference = -0.006767842493847431\n",
      "Class Performance_And_Entertainment: Recall Difference = 0.018996507368600424\n",
      "Class Family: Recall Difference = -0.3066666666666667\n",
      "Data has been appended to No_Attenuation_07/teacher_validation_8.txt\n"
     ]
    },
    {
     "name": "stderr",
     "output_type": "stream",
     "text": [
      "100%|█████████████████████████████████████████████████████████████████████████| 162/162 [01:50<00:00,  1.47it/s]\n",
      "100%|███████████████████████████████████████████████████████████████████████████| 55/55 [00:18<00:00,  2.96it/s]\n"
     ]
    },
    {
     "name": "stdout",
     "output_type": "stream",
     "text": [
      "*****Epoch 111/300*****\n",
      "*****Train Loss: -5.231835 Val Loss: -1.765849*****\n",
      "*****Validation Accuracy: 56.80%*****\n",
      "*****Total Avg Disparity: 0.17720485084788626*****\n",
      "\n",
      "Class Team_Sports: Recall Difference = 0.02437087639399771\n",
      "Class Celebration: Recall Difference = 0.004651162790697716\n",
      "Class Parade: Recall Difference = -0.018135158254918626\n",
      "Class Waiter_Or_Waitress: Recall Difference = -0.17706888580674995\n",
      "Class Individual_Sports: Recall Difference = -0.04384370740572463\n",
      "Class Surgeons: Recall Difference = -0.19660014781965995\n",
      "Class Spa: Recall Difference = -0.6399999999999999\n",
      "Class Law_Enforcement: Recall Difference = 0.20095095095095084\n",
      "Class Business: Recall Difference = -0.11255734556705416\n",
      "Class Dresses: Recall Difference = -0.6327913279132791\n",
      "Class Water_Activities: Recall Difference = 0.0884324324324326\n",
      "Class Picnic: Recall Difference = -0.20000000000000004\n",
      "Class Rescue: Recall Difference = 0.018481012658227824\n",
      "Class Cheering: Recall Difference = 0.09249384741591468\n",
      "Class Performance_And_Entertainment: Recall Difference = -0.06823409148990534\n",
      "Class Family: Recall Difference = -0.31666666666666676\n",
      "Data has been appended to No_Attenuation_07/teacher_validation_8.txt\n"
     ]
    },
    {
     "name": "stderr",
     "output_type": "stream",
     "text": [
      "100%|█████████████████████████████████████████████████████████████████████████| 162/162 [01:50<00:00,  1.47it/s]\n",
      "100%|███████████████████████████████████████████████████████████████████████████| 55/55 [00:18<00:00,  2.98it/s]\n"
     ]
    },
    {
     "name": "stdout",
     "output_type": "stream",
     "text": [
      "*****Epoch 112/300*****\n",
      "*****Train Loss: -5.246594 Val Loss: -1.838546*****\n",
      "*****Validation Accuracy: 55.73%*****\n",
      "*****Total Avg Disparity: 0.18739787301931654*****\n",
      "\n",
      "Class Team_Sports: Recall Difference = 0.08941437496350779\n",
      "Class Celebration: Recall Difference = -0.009302325581395376\n",
      "Class Parade: Recall Difference = 0.11879098944967204\n",
      "Class Waiter_Or_Waitress: Recall Difference = -0.0799815071659733\n",
      "Class Individual_Sports: Recall Difference = -0.047743449946993866\n",
      "Class Surgeons: Recall Difference = -0.27716186252771613\n",
      "Class Spa: Recall Difference = -0.5800000000000001\n",
      "Class Law_Enforcement: Recall Difference = 0.1266266266266265\n",
      "Class Business: Recall Difference = -0.13709591379494301\n",
      "Class Dresses: Recall Difference = -0.5792682926829269\n",
      "Class Water_Activities: Recall Difference = 0.10443243243243261\n",
      "Class Picnic: Recall Difference = -0.38181818181818183\n",
      "Class Rescue: Recall Difference = 0.10177215189873418\n",
      "Class Cheering: Recall Difference = -0.09372436423297786\n",
      "Class Performance_And_Entertainment: Recall Difference = -0.014566828520316877\n",
      "Class Family: Recall Difference = -0.25666666666666665\n",
      "Data has been appended to No_Attenuation_07/teacher_validation_8.txt\n"
     ]
    },
    {
     "name": "stderr",
     "output_type": "stream",
     "text": [
      "100%|█████████████████████████████████████████████████████████████████████████| 162/162 [01:50<00:00,  1.47it/s]\n",
      "100%|███████████████████████████████████████████████████████████████████████████| 55/55 [00:18<00:00,  2.94it/s]\n"
     ]
    },
    {
     "name": "stdout",
     "output_type": "stream",
     "text": [
      "*****Epoch 113/300*****\n",
      "*****Train Loss: -5.224334 Val Loss: -2.250727*****\n",
      "*****Validation Accuracy: 58.30%*****\n",
      "*****Total Avg Disparity: 0.15688868710154508*****\n",
      "\n",
      "Class Team_Sports: Recall Difference = 0.09973725696269031\n",
      "Class Celebration: Recall Difference = -0.11162790697674418\n",
      "Class Parade: Recall Difference = 0.029769033361847663\n",
      "Class Waiter_Or_Waitress: Recall Difference = -0.07119741100323651\n",
      "Class Individual_Sports: Recall Difference = -0.05164319248826288\n",
      "Class Surgeons: Recall Difference = -0.14855875831485577\n",
      "Class Spa: Recall Difference = -0.6799999999999999\n",
      "Class Law_Enforcement: Recall Difference = 0.10660660660660681\n",
      "Class Business: Recall Difference = -0.16750240051210918\n",
      "Class Dresses: Recall Difference = -0.5657181571815717\n",
      "Class Water_Activities: Recall Difference = 0.10691891891891903\n",
      "Class Picnic: Recall Difference = -0.018181818181818188\n",
      "Class Rescue: Recall Difference = 0.03974683544303803\n",
      "Class Cheering: Recall Difference = 0.00266611977030351\n",
      "Class Performance_And_Entertainment: Recall Difference = -0.012011244569384127\n",
      "Class Family: Recall Difference = -0.29833333333333334\n",
      "Data has been appended to No_Attenuation_07/teacher_validation_8.txt\n"
     ]
    },
    {
     "name": "stderr",
     "output_type": "stream",
     "text": [
      "100%|█████████████████████████████████████████████████████████████████████████| 162/162 [01:50<00:00,  1.47it/s]\n",
      "100%|███████████████████████████████████████████████████████████████████████████| 55/55 [00:18<00:00,  2.90it/s]\n"
     ]
    },
    {
     "name": "stdout",
     "output_type": "stream",
     "text": [
      "*****Epoch 114/300*****\n",
      "*****Train Loss: -5.243111 Val Loss: -1.906516*****\n",
      "*****Validation Accuracy: 57.29%*****\n",
      "*****Total Avg Disparity: 0.1988715822522797*****\n",
      "\n",
      "Class Team_Sports: Recall Difference = 0.07363811525661246\n",
      "Class Celebration: Recall Difference = -0.041860465116279055\n",
      "Class Parade: Recall Difference = 0.07493584260051311\n",
      "Class Waiter_Or_Waitress: Recall Difference = -0.24225612575127142\n",
      "Class Individual_Sports: Recall Difference = -0.0347947902468575\n",
      "Class Surgeons: Recall Difference = -0.2099039172209904\n",
      "Class Spa: Recall Difference = -0.74\n",
      "Class Law_Enforcement: Recall Difference = 0.14489489489489488\n",
      "Class Business: Recall Difference = -0.15907393577296491\n",
      "Class Dresses: Recall Difference = -0.6205962059620598\n",
      "Class Water_Activities: Recall Difference = 0.11048648648648662\n",
      "Class Picnic: Recall Difference = -0.25454545454545463\n",
      "Class Rescue: Recall Difference = 0.11569620253164553\n",
      "Class Cheering: Recall Difference = -0.06480721903199343\n",
      "Class Performance_And_Entertainment: Recall Difference = -0.009455660618451378\n",
      "Class Family: Recall Difference = -0.285\n",
      "Data has been appended to No_Attenuation_07/teacher_validation_8.txt\n"
     ]
    },
    {
     "name": "stderr",
     "output_type": "stream",
     "text": [
      "100%|█████████████████████████████████████████████████████████████████████████| 162/162 [01:50<00:00,  1.47it/s]\n",
      "100%|███████████████████████████████████████████████████████████████████████████| 55/55 [00:18<00:00,  2.97it/s]\n"
     ]
    },
    {
     "name": "stdout",
     "output_type": "stream",
     "text": [
      "*****Epoch 115/300*****\n",
      "*****Train Loss: -5.242694 Val Loss: -1.930141*****\n",
      "*****Validation Accuracy: 58.61%*****\n",
      "*****Total Avg Disparity: 0.16949337003232384*****\n",
      "\n",
      "Class Team_Sports: Recall Difference = 0.06757750919600602\n",
      "Class Celebration: Recall Difference = 0.032558139534883734\n",
      "Class Parade: Recall Difference = 0.053721129170230864\n",
      "Class Waiter_Or_Waitress: Recall Difference = -0.12852519648636163\n",
      "Class Individual_Sports: Recall Difference = -0.12766924125397539\n",
      "Class Surgeons: Recall Difference = -0.1788617886178862\n",
      "Class Spa: Recall Difference = -0.5999999999999999\n",
      "Class Law_Enforcement: Recall Difference = 0.11636636636636633\n",
      "Class Business: Recall Difference = -0.1940680678544756\n",
      "Class Dresses: Recall Difference = -0.5155826558265582\n",
      "Class Water_Activities: Recall Difference = 0.08291891891891878\n",
      "Class Picnic: Recall Difference = -0.16363636363636375\n",
      "Class Rescue: Recall Difference = 0.13443037974683536\n",
      "Class Cheering: Recall Difference = 0.005537325676784222\n",
      "Class Performance_And_Entertainment: Recall Difference = -0.008774171564869204\n",
      "Class Family: Recall Difference = -0.3016666666666666\n",
      "Data has been appended to No_Attenuation_07/teacher_validation_8.txt\n"
     ]
    },
    {
     "name": "stderr",
     "output_type": "stream",
     "text": [
      "100%|█████████████████████████████████████████████████████████████████████████| 162/162 [01:50<00:00,  1.47it/s]\n",
      "100%|███████████████████████████████████████████████████████████████████████████| 55/55 [00:18<00:00,  2.92it/s]\n"
     ]
    },
    {
     "name": "stdout",
     "output_type": "stream",
     "text": [
      "*****Epoch 116/300*****\n",
      "*****Train Loss: -5.259692 Val Loss: -1.864461*****\n",
      "*****Validation Accuracy: 58.27%*****\n",
      "*****Total Avg Disparity: 0.19001708282980428*****\n",
      "\n",
      "Class Team_Sports: Recall Difference = 0.08727739826005709\n",
      "Class Celebration: Recall Difference = -0.006976744186046491\n",
      "Class Parade: Recall Difference = 0.0548046763615625\n",
      "Class Waiter_Or_Waitress: Recall Difference = -0.17429496070272776\n",
      "Class Individual_Sports: Recall Difference = -0.08075874602453426\n",
      "Class Surgeons: Recall Difference = -0.3008130081300813\n",
      "Class Spa: Recall Difference = -0.5599999999999999\n",
      "Class Law_Enforcement: Recall Difference = 0.07457457457457461\n",
      "Class Business: Recall Difference = -0.1442441054091539\n",
      "Class Dresses: Recall Difference = -0.7073170731707318\n",
      "Class Water_Activities: Recall Difference = 0.10691891891891869\n",
      "Class Picnic: Recall Difference = -0.2727272727272727\n",
      "Class Rescue: Recall Difference = 0.10177215189873415\n",
      "Class Cheering: Recall Difference = -0.0061525840853158265\n",
      "Class Performance_And_Entertainment: Recall Difference = -0.033307777493823965\n",
      "Class Family: Recall Difference = -0.32833333333333337\n",
      "Data has been appended to No_Attenuation_07/teacher_validation_8.txt\n"
     ]
    },
    {
     "name": "stderr",
     "output_type": "stream",
     "text": [
      "100%|█████████████████████████████████████████████████████████████████████████| 162/162 [01:50<00:00,  1.47it/s]\n",
      "100%|███████████████████████████████████████████████████████████████████████████| 55/55 [00:18<00:00,  2.93it/s]\n"
     ]
    },
    {
     "name": "stdout",
     "output_type": "stream",
     "text": [
      "*****Epoch 117/300*****\n",
      "*****Train Loss: -5.250351 Val Loss: -1.853478*****\n",
      "*****Validation Accuracy: 58.67%*****\n",
      "*****Total Avg Disparity: 0.19716562615621397*****\n",
      "\n",
      "Class Team_Sports: Recall Difference = 0.1167980381853213\n",
      "Class Celebration: Recall Difference = -0.06279069767441864\n",
      "Class Parade: Recall Difference = 0.070031365839749\n",
      "Class Waiter_Or_Waitress: Recall Difference = -0.18585298196948696\n",
      "Class Individual_Sports: Recall Difference = -0.08019082235347563\n",
      "Class Surgeons: Recall Difference = -0.18551367331855134\n",
      "Class Spa: Recall Difference = -0.6599999999999999\n",
      "Class Law_Enforcement: Recall Difference = 0.19069069069069078\n",
      "Class Business: Recall Difference = -0.18563960311533134\n",
      "Class Dresses: Recall Difference = -0.5474254742547426\n",
      "Class Water_Activities: Recall Difference = 0.11189189189189208\n",
      "Class Picnic: Recall Difference = -0.3090909090909091\n",
      "Class Rescue: Recall Difference = 0.07848101265822785\n",
      "Class Cheering: Recall Difference = -0.026456111566858065\n",
      "Class Performance_And_Entertainment: Recall Difference = -0.04046341255643576\n",
      "Class Family: Recall Difference = -0.30333333333333334\n",
      "Data has been appended to No_Attenuation_07/teacher_validation_8.txt\n"
     ]
    },
    {
     "name": "stderr",
     "output_type": "stream",
     "text": [
      "100%|█████████████████████████████████████████████████████████████████████████| 162/162 [01:50<00:00,  1.47it/s]\n",
      "100%|███████████████████████████████████████████████████████████████████████████| 55/55 [00:18<00:00,  2.92it/s]\n"
     ]
    },
    {
     "name": "stdout",
     "output_type": "stream",
     "text": [
      "*****Epoch 118/300*****\n",
      "*****Train Loss: -5.224492 Val Loss: -1.850567*****\n",
      "*****Validation Accuracy: 57.46%*****\n",
      "*****Total Avg Disparity: 0.17595951947139157*****\n",
      "\n",
      "Class Team_Sports: Recall Difference = 0.11095930402288778\n",
      "Class Celebration: Recall Difference = -0.0744186046511629\n",
      "Class Parade: Recall Difference = 0.0730538922155689\n",
      "Class Waiter_Or_Waitress: Recall Difference = -0.18585298196948685\n",
      "Class Individual_Sports: Recall Difference = -0.05240042404967449\n",
      "Class Surgeons: Recall Difference = -0.2283813747228382\n",
      "Class Spa: Recall Difference = -0.56\n",
      "Class Law_Enforcement: Recall Difference = 0.12837837837837845\n",
      "Class Business: Recall Difference = -0.13453536754507617\n",
      "Class Dresses: Recall Difference = -0.6524390243902438\n",
      "Class Water_Activities: Recall Difference = 0.09643243243243249\n",
      "Class Picnic: Recall Difference = -0.036363636363636376\n",
      "Class Rescue: Recall Difference = 0.18708860759493673\n",
      "Class Cheering: Recall Difference = 0.05988515176374082\n",
      "Class Performance_And_Entertainment: Recall Difference = 0.015163131442201216\n",
      "Class Family: Recall Difference = -0.22000000000000008\n",
      "Data has been appended to No_Attenuation_07/teacher_validation_8.txt\n"
     ]
    },
    {
     "name": "stderr",
     "output_type": "stream",
     "text": [
      "100%|█████████████████████████████████████████████████████████████████████████| 162/162 [01:50<00:00,  1.47it/s]\n",
      "100%|███████████████████████████████████████████████████████████████████████████| 55/55 [00:19<00:00,  2.89it/s]\n"
     ]
    },
    {
     "name": "stdout",
     "output_type": "stream",
     "text": [
      "*****Epoch 119/300*****\n",
      "*****Train Loss: -5.249759 Val Loss: -1.770783*****\n",
      "*****Validation Accuracy: 56.94%*****\n",
      "*****Total Avg Disparity: 0.1510032713189814*****\n",
      "\n",
      "Class Team_Sports: Recall Difference = 0.08525719623985517\n",
      "Class Celebration: Recall Difference = -0.027906976744186074\n",
      "Class Parade: Recall Difference = 0.010208155118334783\n",
      "Class Waiter_Or_Waitress: Recall Difference = -0.09061488673139173\n",
      "Class Individual_Sports: Recall Difference = -0.16420566409207937\n",
      "Class Surgeons: Recall Difference = -0.16112342941611224\n",
      "Class Spa: Recall Difference = -0.5199999999999999\n",
      "Class Law_Enforcement: Recall Difference = 0.09459459459459452\n",
      "Class Business: Recall Difference = -0.10615597994238779\n",
      "Class Dresses: Recall Difference = -0.4959349593495936\n",
      "Class Water_Activities: Recall Difference = 0.04237837837837832\n",
      "Class Picnic: Recall Difference = -0.16363636363636364\n",
      "Class Rescue: Recall Difference = 0.05772151898734179\n",
      "Class Cheering: Recall Difference = 0.0112797374897457\n",
      "Class Performance_And_Entertainment: Recall Difference = 0.10503450038333761\n",
      "Class Family: Recall Difference = -0.28\n",
      "Data has been appended to No_Attenuation_07/teacher_validation_8.txt\n"
     ]
    },
    {
     "name": "stderr",
     "output_type": "stream",
     "text": [
      "100%|█████████████████████████████████████████████████████████████████████████| 162/162 [01:50<00:00,  1.47it/s]\n",
      "100%|███████████████████████████████████████████████████████████████████████████| 55/55 [00:18<00:00,  2.92it/s]\n"
     ]
    },
    {
     "name": "stdout",
     "output_type": "stream",
     "text": [
      "*****Epoch 120/300*****\n",
      "*****Train Loss: -5.239561 Val Loss: -1.668270*****\n",
      "*****Validation Accuracy: 57.23%*****\n",
      "*****Total Avg Disparity: 0.12882472841674616*****\n",
      "\n",
      "Class Team_Sports: Recall Difference = 0.050855374554796495\n",
      "Class Celebration: Recall Difference = -0.023255813953488358\n",
      "Class Parade: Recall Difference = 0.04037639007698879\n",
      "Class Waiter_Or_Waitress: Recall Difference = -0.07119741100323651\n",
      "Class Individual_Sports: Recall Difference = -0.09893230349840976\n",
      "Class Surgeons: Recall Difference = -0.08869179600886923\n",
      "Class Spa: Recall Difference = -0.5199999999999999\n",
      "Class Law_Enforcement: Recall Difference = 0.10310310310310311\n",
      "Class Business: Recall Difference = -0.013442867811799819\n",
      "Class Dresses: Recall Difference = -0.42276422764227645\n",
      "Class Water_Activities: Recall Difference = -0.00010810810810801819\n",
      "Class Picnic: Recall Difference = -0.12727272727272737\n",
      "Class Rescue: Recall Difference = 0.12708860759493673\n",
      "Class Cheering: Recall Difference = -0.03937653814602138\n",
      "Class Performance_And_Entertainment: Recall Difference = 0.06806371922651\n",
      "Class Family: Recall Difference = -0.2666666666666667\n",
      "Data has been appended to No_Attenuation_07/teacher_validation_8.txt\n"
     ]
    },
    {
     "name": "stderr",
     "output_type": "stream",
     "text": [
      "100%|█████████████████████████████████████████████████████████████████████████| 162/162 [01:50<00:00,  1.47it/s]\n",
      "100%|███████████████████████████████████████████████████████████████████████████| 55/55 [00:18<00:00,  2.94it/s]\n"
     ]
    },
    {
     "name": "stdout",
     "output_type": "stream",
     "text": [
      "*****Epoch 121/300*****\n",
      "*****Train Loss: -5.205670 Val Loss: -1.737015*****\n",
      "*****Validation Accuracy: 57.75%*****\n",
      "*****Total Avg Disparity: 0.1621298660131374*****\n",
      "\n",
      "Class Team_Sports: Recall Difference = 0.07195655981783156\n",
      "Class Celebration: Recall Difference = -0.03255813953488368\n",
      "Class Parade: Recall Difference = 0.09780439121756479\n",
      "Class Waiter_Or_Waitress: Recall Difference = -0.06241331484049939\n",
      "Class Individual_Sports: Recall Difference = -0.08761169165530802\n",
      "Class Surgeons: Recall Difference = -0.16777531411677754\n",
      "Class Spa: Recall Difference = -0.5\n",
      "Class Law_Enforcement: Recall Difference = 0.07782782782782793\n",
      "Class Business: Recall Difference = -0.0737223941107436\n",
      "Class Dresses: Recall Difference = -0.6402439024390243\n",
      "Class Water_Activities: Recall Difference = 0.11491891891891892\n",
      "Class Picnic: Recall Difference = -0.2727272727272728\n",
      "Class Rescue: Recall Difference = 0.03848101265822784\n",
      "Class Cheering: Recall Difference = -0.07362592288761277\n",
      "Class Performance_And_Entertainment: Recall Difference = 0.007411193457705134\n",
      "Class Family: Recall Difference = -0.275\n",
      "Data has been appended to No_Attenuation_07/teacher_validation_8.txt\n"
     ]
    },
    {
     "name": "stderr",
     "output_type": "stream",
     "text": [
      "100%|█████████████████████████████████████████████████████████████████████████| 162/162 [01:50<00:00,  1.47it/s]\n",
      "100%|███████████████████████████████████████████████████████████████████████████| 55/55 [00:18<00:00,  2.96it/s]\n"
     ]
    },
    {
     "name": "stdout",
     "output_type": "stream",
     "text": [
      "*****Epoch 122/300*****\n",
      "*****Train Loss: -5.253662 Val Loss: -1.813033*****\n",
      "*****Validation Accuracy: 58.56%*****\n",
      "*****Total Avg Disparity: 0.1456912406153766*****\n",
      "\n",
      "Class Team_Sports: Recall Difference = 0.09681788988147366\n",
      "Class Celebration: Recall Difference = -0.05813953488372092\n",
      "Class Parade: Recall Difference = 0.05206729398346155\n",
      "Class Waiter_Or_Waitress: Recall Difference = -0.0032362459546927402\n",
      "Class Individual_Sports: Recall Difference = -0.07295926094199601\n",
      "Class Surgeons: Recall Difference = -0.14264597191426454\n",
      "Class Spa: Recall Difference = -0.7\n",
      "Class Law_Enforcement: Recall Difference = 0.04404404404404405\n",
      "Class Business: Recall Difference = -0.03563426864397734\n",
      "Class Dresses: Recall Difference = -0.4776422764227643\n",
      "Class Water_Activities: Recall Difference = 0.09945945945945944\n",
      "Class Picnic: Recall Difference = -0.12727272727272737\n",
      "Class Rescue: Recall Difference = 0.031139240506329102\n",
      "Class Cheering: Recall Difference = -0.05680885972108285\n",
      "Class Performance_And_Entertainment: Recall Difference = -0.016526109549365398\n",
      "Class Family: Recall Difference = -0.31666666666666665\n",
      "Data has been appended to No_Attenuation_07/teacher_validation_8.txt\n"
     ]
    },
    {
     "name": "stderr",
     "output_type": "stream",
     "text": [
      "100%|█████████████████████████████████████████████████████████████████████████| 162/162 [01:50<00:00,  1.47it/s]\n",
      "100%|███████████████████████████████████████████████████████████████████████████| 55/55 [00:18<00:00,  2.94it/s]\n"
     ]
    },
    {
     "name": "stdout",
     "output_type": "stream",
     "text": [
      "*****Epoch 123/300*****\n",
      "*****Train Loss: -5.229549 Val Loss: -1.789213*****\n",
      "*****Validation Accuracy: 57.29%*****\n",
      "*****Total Avg Disparity: 0.16195693133060138*****\n",
      "\n",
      "Class Team_Sports: Recall Difference = 0.06791615577742727\n",
      "Class Celebration: Recall Difference = -0.07674418604651162\n",
      "Class Parade: Recall Difference = 0.029483889364129046\n",
      "Class Waiter_Or_Waitress: Recall Difference = -0.0711974110032364\n",
      "Class Individual_Sports: Recall Difference = -0.04183704376798436\n",
      "Class Surgeons: Recall Difference = 0.003695491500369741\n",
      "Class Spa: Recall Difference = -0.6799999999999999\n",
      "Class Law_Enforcement: Recall Difference = 0.09609609609609615\n",
      "Class Business: Recall Difference = -0.13784273978448724\n",
      "Class Dresses: Recall Difference = -0.6084010840108403\n",
      "Class Water_Activities: Recall Difference = 0.06637837837837823\n",
      "Class Picnic: Recall Difference = -0.3454545454545455\n",
      "Class Rescue: Recall Difference = 0.10379746835443043\n",
      "Class Cheering: Recall Difference = 0.02358490566037738\n",
      "Class Performance_And_Entertainment: Recall Difference = 0.0022148394241417457\n",
      "Class Family: Recall Difference = -0.23666666666666675\n",
      "Data has been appended to No_Attenuation_07/teacher_validation_8.txt\n"
     ]
    },
    {
     "name": "stderr",
     "output_type": "stream",
     "text": [
      "100%|█████████████████████████████████████████████████████████████████████████| 162/162 [01:50<00:00,  1.47it/s]\n",
      "100%|███████████████████████████████████████████████████████████████████████████| 55/55 [00:18<00:00,  2.94it/s]\n"
     ]
    },
    {
     "name": "stdout",
     "output_type": "stream",
     "text": [
      "*****Epoch 124/300*****\n",
      "*****Train Loss: -5.222980 Val Loss: -1.868748*****\n",
      "*****Validation Accuracy: 57.43%*****\n",
      "*****Total Avg Disparity: 0.14825094897389707*****\n",
      "\n",
      "Class Team_Sports: Recall Difference = 0.06623460033864637\n",
      "Class Celebration: Recall Difference = -0.041860465116279055\n",
      "Class Parade: Recall Difference = 0.07031650983746796\n",
      "Class Waiter_Or_Waitress: Recall Difference = 0.025889967637540257\n",
      "Class Individual_Sports: Recall Difference = -0.04384370740572474\n",
      "Class Surgeons: Recall Difference = -0.06356245380635617\n",
      "Class Spa: Recall Difference = -0.6199999999999999\n",
      "Class Law_Enforcement: Recall Difference = 0.04404404404404416\n",
      "Class Business: Recall Difference = -0.06017283687186592\n",
      "Class Dresses: Recall Difference = -0.6158536585365855\n",
      "Class Water_Activities: Recall Difference = 0.050918918918918865\n",
      "Class Picnic: Recall Difference = -0.21818181818181823\n",
      "Class Rescue: Recall Difference = 0.07848101265822785\n",
      "Class Cheering: Recall Difference = 0.05926989335520927\n",
      "Class Performance_And_Entertainment: Recall Difference = -0.010051963540335718\n",
      "Class Family: Recall Difference = -0.30333333333333334\n",
      "Data has been appended to No_Attenuation_07/teacher_validation_8.txt\n"
     ]
    },
    {
     "name": "stderr",
     "output_type": "stream",
     "text": [
      "100%|█████████████████████████████████████████████████████████████████████████| 162/162 [01:50<00:00,  1.47it/s]\n",
      "100%|███████████████████████████████████████████████████████████████████████████| 55/55 [00:18<00:00,  2.92it/s]\n"
     ]
    },
    {
     "name": "stdout",
     "output_type": "stream",
     "text": [
      "*****Epoch 125/300*****\n",
      "*****Train Loss: -5.241868 Val Loss: -1.851784*****\n",
      "*****Validation Accuracy: 57.81%*****\n",
      "*****Total Avg Disparity: 0.16647763176011188*****\n",
      "\n",
      "Class Team_Sports: Recall Difference = 0.10719915922228052\n",
      "Class Celebration: Recall Difference = -0.013953488372093037\n",
      "Class Parade: Recall Difference = 0.05018534359851723\n",
      "Class Waiter_Or_Waitress: Recall Difference = -0.1761442441054093\n",
      "Class Individual_Sports: Recall Difference = -0.07685900348326513\n",
      "Class Surgeons: Recall Difference = 0.02143385070214343\n",
      "Class Spa: Recall Difference = -0.5599999999999999\n",
      "Class Law_Enforcement: Recall Difference = 0.06606606606606624\n",
      "Class Business: Recall Difference = -0.07244212098581027\n",
      "Class Dresses: Recall Difference = -0.5962059620596207\n",
      "Class Water_Activities: Recall Difference = 0.08594594594594618\n",
      "Class Picnic: Recall Difference = -0.4909090909090909\n",
      "Class Rescue: Recall Difference = 0.09443037974683555\n",
      "Class Cheering: Recall Difference = -0.0676784249384742\n",
      "Class Performance_And_Entertainment: Recall Difference = 0.012522361359570688\n",
      "Class Family: Recall Difference = -0.1716666666666667\n",
      "Data has been appended to No_Attenuation_07/teacher_validation_8.txt\n"
     ]
    },
    {
     "name": "stderr",
     "output_type": "stream",
     "text": [
      "100%|█████████████████████████████████████████████████████████████████████████| 162/162 [01:50<00:00,  1.47it/s]\n",
      "100%|███████████████████████████████████████████████████████████████████████████| 55/55 [00:18<00:00,  2.92it/s]\n"
     ]
    },
    {
     "name": "stdout",
     "output_type": "stream",
     "text": [
      "*****Epoch 126/300*****\n",
      "*****Train Loss: -5.243662 Val Loss: -2.125489*****\n",
      "*****Validation Accuracy: 58.50%*****\n",
      "*****Total Avg Disparity: 0.16376706953421197*****\n",
      "\n",
      "Class Team_Sports: Recall Difference = 0.09187832078005487\n",
      "Class Celebration: Recall Difference = -0.011627906976744207\n",
      "Class Parade: Recall Difference = 0.06404334188765315\n",
      "Class Waiter_Or_Waitress: Recall Difference = -0.09847434119278786\n",
      "Class Individual_Sports: Recall Difference = -0.05592155081023786\n",
      "Class Surgeons: Recall Difference = -0.13082039911308196\n",
      "Class Spa: Recall Difference = -0.5199999999999999\n",
      "Class Law_Enforcement: Recall Difference = 0.1148648648648648\n",
      "Class Business: Recall Difference = -0.13069454817027626\n",
      "Class Dresses: Recall Difference = -0.6266937669376695\n",
      "Class Water_Activities: Recall Difference = 0.18000000000000005\n",
      "Class Picnic: Recall Difference = -0.2545454545454546\n",
      "Class Rescue: Recall Difference = 0.09974683544303792\n",
      "Class Cheering: Recall Difference = -0.01189499589827725\n",
      "Class Performance_And_Entertainment: Recall Difference = -0.010733452593917614\n",
      "Class Family: Recall Difference = -0.21833333333333338\n",
      "Data has been appended to No_Attenuation_07/teacher_validation_8.txt\n"
     ]
    },
    {
     "name": "stderr",
     "output_type": "stream",
     "text": [
      "100%|█████████████████████████████████████████████████████████████████████████| 162/162 [01:50<00:00,  1.47it/s]\n",
      "100%|███████████████████████████████████████████████████████████████████████████| 55/55 [00:18<00:00,  2.93it/s]\n"
     ]
    },
    {
     "name": "stdout",
     "output_type": "stream",
     "text": [
      "*****Epoch 127/300*****\n",
      "*****Train Loss: -5.275506 Val Loss: -1.858241*****\n",
      "*****Validation Accuracy: 58.56%*****\n",
      "*****Total Avg Disparity: 0.15461696481948523*****\n",
      "\n",
      "Class Team_Sports: Recall Difference = 0.08637823319904248\n",
      "Class Celebration: Recall Difference = -0.018604651162790642\n",
      "Class Parade: Recall Difference = 0.04961505560307966\n",
      "Class Waiter_Or_Waitress: Recall Difference = -0.18492834026814609\n",
      "Class Individual_Sports: Recall Difference = -0.019006512191428127\n",
      "Class Surgeons: Recall Difference = -0.13082039911308202\n",
      "Class Spa: Recall Difference = -0.45999999999999996\n",
      "Class Law_Enforcement: Recall Difference = 0.08283283283283283\n",
      "Class Business: Recall Difference = -0.19865571321881986\n",
      "Class Dresses: Recall Difference = -0.584010840108401\n",
      "Class Water_Activities: Recall Difference = 0.04291891891891897\n",
      "Class Picnic: Recall Difference = -0.2363636363636364\n",
      "Class Rescue: Recall Difference = 0.06911392405063294\n",
      "Class Cheering: Recall Difference = -0.03732567678424936\n",
      "Class Performance_And_Entertainment: Recall Difference = -0.03663003663003661\n",
      "Class Family: Recall Difference = -0.23666666666666666\n",
      "Data has been appended to No_Attenuation_07/teacher_validation_8.txt\n"
     ]
    },
    {
     "name": "stderr",
     "output_type": "stream",
     "text": [
      "100%|█████████████████████████████████████████████████████████████████████████| 162/162 [01:50<00:00,  1.47it/s]\n",
      "100%|███████████████████████████████████████████████████████████████████████████| 55/55 [00:18<00:00,  2.93it/s]\n"
     ]
    },
    {
     "name": "stdout",
     "output_type": "stream",
     "text": [
      "*****Epoch 128/300*****\n",
      "*****Train Loss: -5.249677 Val Loss: -1.927549*****\n",
      "*****Validation Accuracy: 58.99%*****\n",
      "*****Total Avg Disparity: 0.1704442580919983*****\n",
      "\n",
      "Class Team_Sports: Recall Difference = 0.0927774858410697\n",
      "Class Celebration: Recall Difference = 0.0\n",
      "Class Parade: Recall Difference = 0.02566295979469646\n",
      "Class Waiter_Or_Waitress: Recall Difference = -0.1877022653721685\n",
      "Class Individual_Sports: Recall Difference = -0.04145842798727861\n",
      "Class Surgeons: Recall Difference = -0.07095343680709537\n",
      "Class Spa: Recall Difference = -0.5\n",
      "Class Law_Enforcement: Recall Difference = 0.1216216216216216\n",
      "Class Business: Recall Difference = -0.024645257654966446\n",
      "Class Dresses: Recall Difference = -0.6084010840108403\n",
      "Class Water_Activities: Recall Difference = 0.00983783783783787\n",
      "Class Picnic: Recall Difference = -0.4\n",
      "Class Rescue: Recall Difference = 0.09848101265822784\n",
      "Class Cheering: Recall Difference = -0.01045939294503695\n",
      "Class Performance_And_Entertainment: Recall Difference = -0.011329755515801954\n",
      "Class Family: Recall Difference = -0.35333333333333333\n",
      "Data has been appended to No_Attenuation_07/teacher_validation_8.txt\n"
     ]
    },
    {
     "name": "stderr",
     "output_type": "stream",
     "text": [
      "100%|█████████████████████████████████████████████████████████████████████████| 162/162 [01:50<00:00,  1.47it/s]\n",
      "100%|███████████████████████████████████████████████████████████████████████████| 55/55 [00:18<00:00,  2.97it/s]\n"
     ]
    },
    {
     "name": "stdout",
     "output_type": "stream",
     "text": [
      "*****Epoch 129/300*****\n",
      "*****Train Loss: -5.257011 Val Loss: -1.865562*****\n",
      "*****Validation Accuracy: 59.34%*****\n",
      "*****Total Avg Disparity: 0.1485248129325981*****\n",
      "\n",
      "Class Team_Sports: Recall Difference = 0.08547906813802764\n",
      "Class Celebration: Recall Difference = 0.0046511627906976605\n",
      "Class Parade: Recall Difference = 0.08691189050470483\n",
      "Class Waiter_Or_Waitress: Recall Difference = -0.12066574202496538\n",
      "Class Individual_Sports: Recall Difference = -0.03869453278812651\n",
      "Class Surgeons: Recall Difference = -0.02143385070214343\n",
      "Class Spa: Recall Difference = -0.5\n",
      "Class Law_Enforcement: Recall Difference = 0.10310310310310311\n",
      "Class Business: Recall Difference = -0.09388669582844339\n",
      "Class Dresses: Recall Difference = -0.61449864498645\n",
      "Class Water_Activities: Recall Difference = 0.03740540540540549\n",
      "Class Picnic: Recall Difference = -0.2363636363636364\n",
      "Class Rescue: Recall Difference = 0.04582278481012653\n",
      "Class Cheering: Recall Difference = -0.032198523379819544\n",
      "Class Performance_And_Entertainment: Recall Difference = -0.04361529942925302\n",
      "Class Family: Recall Difference = -0.31166666666666654\n",
      "Data has been appended to No_Attenuation_07/teacher_validation_8.txt\n"
     ]
    },
    {
     "name": "stderr",
     "output_type": "stream",
     "text": [
      "100%|█████████████████████████████████████████████████████████████████████████| 162/162 [01:50<00:00,  1.47it/s]\n",
      "100%|███████████████████████████████████████████████████████████████████████████| 55/55 [00:18<00:00,  2.93it/s]\n"
     ]
    },
    {
     "name": "stdout",
     "output_type": "stream",
     "text": [
      "*****Epoch 130/300*****\n",
      "*****Train Loss: -5.206188 Val Loss: -1.640605*****\n",
      "*****Validation Accuracy: 56.97%*****\n",
      "*****Total Avg Disparity: 0.14515907196153494*****\n",
      "\n",
      "Class Team_Sports: Recall Difference = 0.057873533018041656\n",
      "Class Celebration: Recall Difference = -0.04651162790697677\n",
      "Class Parade: Recall Difference = 0.02349586541203308\n",
      "Class Waiter_Or_Waitress: Recall Difference = -0.0420711974110034\n",
      "Class Individual_Sports: Recall Difference = -0.06610631531122224\n",
      "Class Surgeons: Recall Difference = -0.10125646711012565\n",
      "Class Spa: Recall Difference = -0.26\n",
      "Class Law_Enforcement: Recall Difference = 0.2647647647647648\n",
      "Class Business: Recall Difference = -0.023898431665421938\n",
      "Class Dresses: Recall Difference = -0.6144986449864498\n",
      "Class Water_Activities: Recall Difference = 0.061945945945946046\n",
      "Class Picnic: Recall Difference = -0.3272727272727274\n",
      "Class Rescue: Recall Difference = 0.07113924050632911\n",
      "Class Cheering: Recall Difference = -0.025635767022149314\n",
      "Class Performance_And_Entertainment: Recall Difference = 0.04940795638470069\n",
      "Class Family: Recall Difference = -0.28666666666666674\n",
      "Data has been appended to No_Attenuation_07/teacher_validation_8.txt\n"
     ]
    },
    {
     "name": "stderr",
     "output_type": "stream",
     "text": [
      "100%|█████████████████████████████████████████████████████████████████████████| 162/162 [01:50<00:00,  1.47it/s]\n",
      "100%|███████████████████████████████████████████████████████████████████████████| 55/55 [00:18<00:00,  2.90it/s]\n"
     ]
    },
    {
     "name": "stdout",
     "output_type": "stream",
     "text": [
      "*****Epoch 131/300*****\n",
      "*****Train Loss: -5.218443 Val Loss: -1.992786*****\n",
      "*****Validation Accuracy: 56.97%*****\n",
      "*****Total Avg Disparity: 0.19128518420192625*****\n",
      "\n",
      "Class Team_Sports: Recall Difference = 0.10573947568167219\n",
      "Class Celebration: Recall Difference = -0.10697674418604647\n",
      "Class Parade: Recall Difference = 0.01670943826632454\n",
      "Class Waiter_Or_Waitress: Recall Difference = -0.15765141007859473\n",
      "Class Individual_Sports: Recall Difference = -0.055542935029532114\n",
      "Class Surgeons: Recall Difference = -0.1374722838137472\n",
      "Class Spa: Recall Difference = -0.6599999999999999\n",
      "Class Law_Enforcement: Recall Difference = 0.07957957957957973\n",
      "Class Business: Recall Difference = -0.16110103488744254\n",
      "Class Dresses: Recall Difference = -0.61449864498645\n",
      "Class Water_Activities: Recall Difference = 0.0895135135135135\n",
      "Class Picnic: Recall Difference = -0.25454545454545463\n",
      "Class Rescue: Recall Difference = 0.09974683544303797\n",
      "Class Cheering: Recall Difference = -0.06419196062346183\n",
      "Class Performance_And_Entertainment: Recall Difference = 0.09396030326262883\n",
      "Class Family: Recall Difference = -0.3633333333333334\n",
      "Data has been appended to No_Attenuation_07/teacher_validation_8.txt\n"
     ]
    },
    {
     "name": "stderr",
     "output_type": "stream",
     "text": [
      "100%|█████████████████████████████████████████████████████████████████████████| 162/162 [01:50<00:00,  1.47it/s]\n",
      "100%|███████████████████████████████████████████████████████████████████████████| 55/55 [00:18<00:00,  2.96it/s]\n"
     ]
    },
    {
     "name": "stdout",
     "output_type": "stream",
     "text": [
      "*****Epoch 132/300*****\n",
      "*****Train Loss: -5.260014 Val Loss: -1.927931*****\n",
      "*****Validation Accuracy: 58.21%*****\n",
      "*****Total Avg Disparity: 0.1867727230505311*****\n",
      "\n",
      "Class Team_Sports: Recall Difference = 0.09821918608045765\n",
      "Class Celebration: Recall Difference = -0.09999999999999998\n",
      "Class Parade: Recall Difference = 0.11576846307385225\n",
      "Class Waiter_Or_Waitress: Recall Difference = -0.0711974110032364\n",
      "Class Individual_Sports: Recall Difference = -0.08780099954566101\n",
      "Class Surgeons: Recall Difference = -0.21655580192165558\n",
      "Class Spa: Recall Difference = -0.72\n",
      "Class Law_Enforcement: Recall Difference = -0.01976976976976963\n",
      "Class Business: Recall Difference = -0.08876560332871014\n",
      "Class Dresses: Recall Difference = -0.5596205962059622\n",
      "Class Water_Activities: Recall Difference = 0.08648648648648649\n",
      "Class Picnic: Recall Difference = -0.34545454545454557\n",
      "Class Rescue: Recall Difference = 0.09443037974683544\n",
      "Class Cheering: Recall Difference = -0.036505332239540556\n",
      "Class Performance_And_Entertainment: Recall Difference = -0.009455660618451267\n",
      "Class Family: Recall Difference = -0.3383333333333334\n",
      "Data has been appended to No_Attenuation_07/teacher_validation_8.txt\n"
     ]
    },
    {
     "name": "stderr",
     "output_type": "stream",
     "text": [
      "100%|█████████████████████████████████████████████████████████████████████████| 162/162 [01:50<00:00,  1.47it/s]\n",
      "100%|███████████████████████████████████████████████████████████████████████████| 55/55 [00:18<00:00,  2.90it/s]\n"
     ]
    },
    {
     "name": "stdout",
     "output_type": "stream",
     "text": [
      "*****Epoch 133/300*****\n",
      "*****Train Loss: -5.256148 Val Loss: -1.807053*****\n",
      "*****Validation Accuracy: 58.38%*****\n",
      "*****Total Avg Disparity: 0.17144574059646284*****\n",
      "\n",
      "Class Team_Sports: Recall Difference = 0.06505517603783495\n",
      "Class Celebration: Recall Difference = 0.030232558139534793\n",
      "Class Parade: Recall Difference = 0.07168520102651854\n",
      "Class Waiter_Or_Waitress: Recall Difference = -0.09061488673139173\n",
      "Class Individual_Sports: Recall Difference = -0.033280327124034725\n",
      "Class Surgeons: Recall Difference = -0.15521064301552118\n",
      "Class Spa: Recall Difference = -0.64\n",
      "Class Law_Enforcement: Recall Difference = 0.06256256256256254\n",
      "Class Business: Recall Difference = -0.025925530779899675\n",
      "Class Dresses: Recall Difference = -0.6632791327913279\n",
      "Class Water_Activities: Recall Difference = 0.11545945945945957\n",
      "Class Picnic: Recall Difference = -0.3090909090909092\n",
      "Class Rescue: Recall Difference = 0.031139240506329102\n",
      "Class Cheering: Recall Difference = -0.08511074651353567\n",
      "Class Performance_And_Entertainment: Recall Difference = 0.026152142431212222\n",
      "Class Family: Recall Difference = -0.3383333333333334\n",
      "Data has been appended to No_Attenuation_07/teacher_validation_8.txt\n"
     ]
    },
    {
     "name": "stderr",
     "output_type": "stream",
     "text": [
      "100%|█████████████████████████████████████████████████████████████████████████| 162/162 [01:50<00:00,  1.47it/s]\n",
      "100%|███████████████████████████████████████████████████████████████████████████| 55/55 [00:18<00:00,  2.97it/s]\n"
     ]
    },
    {
     "name": "stdout",
     "output_type": "stream",
     "text": [
      "*****Epoch 134/300*****\n",
      "*****Train Loss: -5.202010 Val Loss: -1.728840*****\n",
      "*****Validation Accuracy: 57.81%*****\n",
      "*****Total Avg Disparity: 0.18517468083920802*****\n",
      "\n",
      "Class Team_Sports: Recall Difference = 0.04047410521398964\n",
      "Class Celebration: Recall Difference = -0.1651162790697674\n",
      "Class Parade: Recall Difference = 0.06786427145708585\n",
      "Class Waiter_Or_Waitress: Recall Difference = -0.023578363384188727\n",
      "Class Individual_Sports: Recall Difference = -0.09427532939572936\n",
      "Class Surgeons: Recall Difference = -0.2283813747228382\n",
      "Class Spa: Recall Difference = -0.74\n",
      "Class Law_Enforcement: Recall Difference = 0.045795795795795846\n",
      "Class Business: Recall Difference = -0.02667235676944424\n",
      "Class Dresses: Recall Difference = -0.7317073170731706\n",
      "Class Water_Activities: Recall Difference = 0.0354594594594595\n",
      "Class Picnic: Recall Difference = -0.18181818181818182\n",
      "Class Rescue: Recall Difference = 0.15974683544303786\n",
      "Class Cheering: Recall Difference = -0.09741591468416738\n",
      "Class Performance_And_Entertainment: Recall Difference = -0.03782264247380529\n",
      "Class Family: Recall Difference = -0.2866666666666667\n",
      "Data has been appended to No_Attenuation_07/teacher_validation_8.txt\n"
     ]
    },
    {
     "name": "stderr",
     "output_type": "stream",
     "text": [
      "100%|█████████████████████████████████████████████████████████████████████████| 162/162 [01:50<00:00,  1.47it/s]\n",
      "100%|███████████████████████████████████████████████████████████████████████████| 55/55 [00:18<00:00,  2.92it/s]\n"
     ]
    },
    {
     "name": "stdout",
     "output_type": "stream",
     "text": [
      "*****Epoch 135/300*****\n",
      "*****Train Loss: -5.256537 Val Loss: -1.855612*****\n",
      "*****Validation Accuracy: 57.29%*****\n",
      "*****Total Avg Disparity: 0.17990589461306447*****\n",
      "\n",
      "Class Team_Sports: Recall Difference = 0.10461843872248477\n",
      "Class Celebration: Recall Difference = -0.037209302325581395\n",
      "Class Parade: Recall Difference = 0.02623324779013403\n",
      "Class Waiter_Or_Waitress: Recall Difference = -0.10818307905686553\n",
      "Class Individual_Sports: Recall Difference = -0.08056943813418138\n",
      "Class Surgeons: Recall Difference = -0.16777531411677754\n",
      "Class Spa: Recall Difference = -0.62\n",
      "Class Law_Enforcement: Recall Difference = 0.059559559559559605\n",
      "Class Business: Recall Difference = -0.09847434119278786\n",
      "Class Dresses: Recall Difference = -0.5840108401084012\n",
      "Class Water_Activities: Recall Difference = 0.05145945945945951\n",
      "Class Picnic: Recall Difference = -0.38181818181818183\n",
      "Class Rescue: Recall Difference = 0.09645569620253167\n",
      "Class Cheering: Recall Difference = -0.12428219852337985\n",
      "Class Performance_And_Entertainment: Recall Difference = -0.06951188346537185\n",
      "Class Family: Recall Difference = -0.2683333333333333\n",
      "Data has been appended to No_Attenuation_07/teacher_validation_8.txt\n"
     ]
    },
    {
     "name": "stderr",
     "output_type": "stream",
     "text": [
      "100%|█████████████████████████████████████████████████████████████████████████| 162/162 [01:50<00:00,  1.47it/s]\n",
      "100%|███████████████████████████████████████████████████████████████████████████| 55/55 [00:18<00:00,  2.92it/s]\n"
     ]
    },
    {
     "name": "stdout",
     "output_type": "stream",
     "text": [
      "*****Epoch 136/300*****\n",
      "*****Train Loss: -5.237833 Val Loss: -1.572584*****\n",
      "*****Validation Accuracy: 57.49%*****\n",
      "*****Total Avg Disparity: 0.16675397396766306*****\n",
      "\n",
      "Class Team_Sports: Recall Difference = 0.11758042856308748\n",
      "Class Celebration: Recall Difference = -0.11395348837209301\n",
      "Class Parade: Recall Difference = -0.03798118049615051\n",
      "Class Waiter_Or_Waitress: Recall Difference = -0.1955617198335644\n",
      "Class Individual_Sports: Recall Difference = -0.09446463728608201\n",
      "Class Surgeons: Recall Difference = -0.1611234294161124\n",
      "Class Spa: Recall Difference = -0.6199999999999999\n",
      "Class Law_Enforcement: Recall Difference = 0.017517517517517622\n",
      "Class Business: Recall Difference = -0.09132614957857677\n",
      "Class Dresses: Recall Difference = -0.5474254742547424\n",
      "Class Water_Activities: Recall Difference = 0.04843243243243245\n",
      "Class Picnic: Recall Difference = -0.18181818181818182\n",
      "Class Rescue: Recall Difference = 0.038481012658227814\n",
      "Class Cheering: Recall Difference = -0.06050041017227237\n",
      "Class Performance_And_Entertainment: Recall Difference = -0.11023085441690095\n",
      "Class Family: Recall Difference = -0.23166666666666666\n",
      "Data has been appended to No_Attenuation_07/teacher_validation_8.txt\n"
     ]
    },
    {
     "name": "stderr",
     "output_type": "stream",
     "text": [
      "100%|█████████████████████████████████████████████████████████████████████████| 162/162 [01:50<00:00,  1.47it/s]\n",
      "100%|███████████████████████████████████████████████████████████████████████████| 55/55 [00:18<00:00,  2.91it/s]\n"
     ]
    },
    {
     "name": "stdout",
     "output_type": "stream",
     "text": [
      "*****Epoch 137/300*****\n",
      "*****Train Loss: -5.215318 Val Loss: -1.731654*****\n",
      "*****Validation Accuracy: 57.09%*****\n",
      "*****Total Avg Disparity: 0.15227634778132054*****\n",
      "\n",
      "Class Team_Sports: Recall Difference = 0.08609797395924557\n",
      "Class Celebration: Recall Difference = -0.0720930232558139\n",
      "Class Parade: Recall Difference = -0.0015397775876818676\n",
      "Class Waiter_Or_Waitress: Recall Difference = -0.012944983818770406\n",
      "Class Individual_Sports: Recall Difference = -0.06887021051037401\n",
      "Class Surgeons: Recall Difference = 0.008869179600887012\n",
      "Class Spa: Recall Difference = -0.6799999999999999\n",
      "Class Law_Enforcement: Recall Difference = 0.055555555555555636\n",
      "Class Business: Recall Difference = -0.13325509442014294\n",
      "Class Dresses: Recall Difference = -0.5853658536585367\n",
      "Class Water_Activities: Recall Difference = 0.10497297297297303\n",
      "Class Picnic: Recall Difference = -0.3090909090909092\n",
      "Class Rescue: Recall Difference = 0.07113924050632908\n",
      "Class Cheering: Recall Difference = -0.06275635767022147\n",
      "Class Performance_And_Entertainment: Recall Difference = -0.005537098560354392\n",
      "Class Family: Recall Difference = -0.1783333333333334\n",
      "Data has been appended to No_Attenuation_07/teacher_validation_8.txt\n"
     ]
    },
    {
     "name": "stderr",
     "output_type": "stream",
     "text": [
      "100%|█████████████████████████████████████████████████████████████████████████| 162/162 [01:50<00:00,  1.47it/s]\n",
      "100%|███████████████████████████████████████████████████████████████████████████| 55/55 [00:18<00:00,  2.92it/s]\n"
     ]
    },
    {
     "name": "stdout",
     "output_type": "stream",
     "text": [
      "*****Epoch 138/300*****\n",
      "*****Train Loss: -5.199551 Val Loss: -1.962189*****\n",
      "*****Validation Accuracy: 58.41%*****\n",
      "*****Total Avg Disparity: 0.14802161948552134*****\n",
      "\n",
      "Class Team_Sports: Recall Difference = 0.10719915922228052\n",
      "Class Celebration: Recall Difference = -0.09534883720930232\n",
      "Class Parade: Recall Difference = -0.04453949244368405\n",
      "Class Waiter_Or_Waitress: Recall Difference = -0.061488673139158734\n",
      "Class Individual_Sports: Recall Difference = -0.08742238376495537\n",
      "Class Surgeons: Recall Difference = -0.01552106430155209\n",
      "Class Spa: Recall Difference = -0.62\n",
      "Class Law_Enforcement: Recall Difference = 0.04404404404404394\n",
      "Class Business: Recall Difference = -0.04993065187239942\n",
      "Class Dresses: Recall Difference = -0.5657181571815719\n",
      "Class Water_Activities: Recall Difference = 0.08843243243243248\n",
      "Class Picnic: Recall Difference = -0.12727272727272737\n",
      "Class Rescue: Recall Difference = 0.130379746835443\n",
      "Class Cheering: Recall Difference = -0.044503691550451197\n",
      "Class Performance_And_Entertainment: Recall Difference = -0.03654485049833883\n",
      "Class Family: Recall Difference = -0.24999999999999994\n",
      "Data has been appended to No_Attenuation_07/teacher_validation_8.txt\n"
     ]
    },
    {
     "name": "stderr",
     "output_type": "stream",
     "text": [
      "100%|█████████████████████████████████████████████████████████████████████████| 162/162 [01:50<00:00,  1.47it/s]\n",
      "100%|███████████████████████████████████████████████████████████████████████████| 55/55 [00:18<00:00,  2.90it/s]\n"
     ]
    },
    {
     "name": "stdout",
     "output_type": "stream",
     "text": [
      "*****Epoch 139/300*****\n",
      "*****Train Loss: -5.243073 Val Loss: -1.927746*****\n",
      "*****Validation Accuracy: 58.24%*****\n",
      "*****Total Avg Disparity: 0.1279279459141084*****\n",
      "\n",
      "Class Team_Sports: Recall Difference = 0.099959128860863\n",
      "Class Celebration: Recall Difference = -0.05581395348837209\n",
      "Class Parade: Recall Difference = -0.008611348731109136\n",
      "Class Waiter_Or_Waitress: Recall Difference = -0.004160887656033396\n",
      "Class Individual_Sports: Recall Difference = -0.04202635165833701\n",
      "Class Surgeons: Recall Difference = -0.045824094604582366\n",
      "Class Spa: Recall Difference = -0.6399999999999999\n",
      "Class Law_Enforcement: Recall Difference = 0.06106106106106113\n",
      "Class Business: Recall Difference = -0.020804438280166426\n",
      "Class Dresses: Recall Difference = -0.4119241192411923\n",
      "Class Water_Activities: Recall Difference = 0.08594594594594618\n",
      "Class Picnic: Recall Difference = -0.23636363636363636\n",
      "Class Rescue: Recall Difference = 0.04708860759493677\n",
      "Class Cheering: Recall Difference = -0.06480721903199338\n",
      "Class Performance_And_Entertainment: Recall Difference = -0.0707896754408382\n",
      "Class Family: Recall Difference = -0.15166666666666667\n",
      "Data has been appended to No_Attenuation_07/teacher_validation_8.txt\n"
     ]
    },
    {
     "name": "stderr",
     "output_type": "stream",
     "text": [
      "100%|█████████████████████████████████████████████████████████████████████████| 162/162 [01:50<00:00,  1.47it/s]\n",
      "100%|███████████████████████████████████████████████████████████████████████████| 55/55 [00:18<00:00,  2.95it/s]\n"
     ]
    },
    {
     "name": "stdout",
     "output_type": "stream",
     "text": [
      "*****Epoch 140/300*****\n",
      "*****Train Loss: -5.230326 Val Loss: -1.982975*****\n",
      "*****Validation Accuracy: 58.76%*****\n",
      "*****Total Avg Disparity: 0.14940857587630876*****\n",
      "\n",
      "Class Team_Sports: Recall Difference = 0.10775967770187422\n",
      "Class Celebration: Recall Difference = -0.1837209302325581\n",
      "Class Parade: Recall Difference = -0.05868263473053903\n",
      "Class Waiter_Or_Waitress: Recall Difference = 0.005547850208044269\n",
      "Class Individual_Sports: Recall Difference = -0.09836437982735124\n",
      "Class Surgeons: Recall Difference = -0.1182557280118256\n",
      "Class Spa: Recall Difference = -0.5599999999999999\n",
      "Class Law_Enforcement: Recall Difference = 0.08308308308308321\n",
      "Class Business: Recall Difference = -0.016963618905366462\n",
      "Class Dresses: Recall Difference = -0.6510840108401084\n",
      "Class Water_Activities: Recall Difference = 0.1080000000000001\n",
      "Class Picnic: Recall Difference = 0.19999999999999996\n",
      "Class Rescue: Recall Difference = 0.04177215189873418\n",
      "Class Cheering: Recall Difference = -0.05537325676784255\n",
      "Class Performance_And_Entertainment: Recall Difference = -0.023596558480279473\n",
      "Class Family: Recall Difference = -0.07833333333333337\n",
      "Data has been appended to No_Attenuation_07/teacher_validation_8.txt\n"
     ]
    },
    {
     "name": "stderr",
     "output_type": "stream",
     "text": [
      "100%|█████████████████████████████████████████████████████████████████████████| 162/162 [01:50<00:00,  1.47it/s]\n",
      "100%|███████████████████████████████████████████████████████████████████████████| 55/55 [00:18<00:00,  2.94it/s]\n"
     ]
    },
    {
     "name": "stdout",
     "output_type": "stream",
     "text": [
      "*****Epoch 141/300*****\n",
      "*****Train Loss: -5.260637 Val Loss: -1.788651*****\n",
      "*****Validation Accuracy: 58.67%*****\n",
      "*****Total Avg Disparity: 0.1433430417617109*****\n",
      "\n",
      "Class Team_Sports: Recall Difference = 0.10837858352309215\n",
      "Class Celebration: Recall Difference = -0.14883720930232563\n",
      "Class Parade: Recall Difference = 0.027316794981465664\n",
      "Class Waiter_Or_Waitress: Recall Difference = -0.005085529357374052\n",
      "Class Individual_Sports: Recall Difference = -0.04441163107678325\n",
      "Class Surgeons: Recall Difference = -0.10051736881005163\n",
      "Class Spa: Recall Difference = -0.5999999999999999\n",
      "Class Law_Enforcement: Recall Difference = 0.0745745745745745\n",
      "Class Business: Recall Difference = -0.02336498453003305\n",
      "Class Dresses: Recall Difference = -0.6815718157181572\n",
      "Class Water_Activities: Recall Difference = 0.06994594594594594\n",
      "Class Picnic: Recall Difference = -0.12727272727272737\n",
      "Class Rescue: Recall Difference = 0.07848101265822782\n",
      "Class Cheering: Recall Difference = -0.07424118129614432\n",
      "Class Performance_And_Entertainment: Recall Difference = -0.037822642473805346\n",
      "Class Family: Recall Difference = -0.09166666666666667\n",
      "Data has been appended to No_Attenuation_07/teacher_validation_8.txt\n"
     ]
    },
    {
     "name": "stderr",
     "output_type": "stream",
     "text": [
      "100%|█████████████████████████████████████████████████████████████████████████| 162/162 [01:50<00:00,  1.47it/s]\n",
      "100%|███████████████████████████████████████████████████████████████████████████| 55/55 [00:18<00:00,  2.90it/s]\n"
     ]
    },
    {
     "name": "stdout",
     "output_type": "stream",
     "text": [
      "*****Epoch 142/300*****\n",
      "*****Train Loss: -5.234838 Val Loss: -1.621456*****\n",
      "*****Validation Accuracy: 58.33%*****\n",
      "*****Total Avg Disparity: 0.17031904095326794*****\n",
      "\n",
      "Class Team_Sports: Recall Difference = 0.09479768786127174\n",
      "Class Celebration: Recall Difference = -0.11627906976744184\n",
      "Class Parade: Recall Difference = -0.024123182207014593\n",
      "Class Waiter_Or_Waitress: Recall Difference = 0.15811373092926484\n",
      "Class Individual_Sports: Recall Difference = -0.15527033166742388\n",
      "Class Surgeons: Recall Difference = -0.09386548410938644\n",
      "Class Spa: Recall Difference = -0.6799999999999999\n",
      "Class Law_Enforcement: Recall Difference = 0.09134134134134131\n",
      "Class Business: Recall Difference = -0.056332017497065956\n",
      "Class Dresses: Recall Difference = -0.5962059620596207\n",
      "Class Water_Activities: Recall Difference = 0.15048648648648655\n",
      "Class Picnic: Recall Difference = 0.09090909090909083\n",
      "Class Rescue: Recall Difference = 0.05645569620253166\n",
      "Class Cheering: Recall Difference = -0.035890073831009006\n",
      "Class Performance_And_Entertainment: Recall Difference = -0.10503450038333745\n",
      "Class Family: Recall Difference = -0.22000000000000003\n",
      "Data has been appended to No_Attenuation_07/teacher_validation_8.txt\n"
     ]
    },
    {
     "name": "stderr",
     "output_type": "stream",
     "text": [
      "100%|█████████████████████████████████████████████████████████████████████████| 162/162 [01:50<00:00,  1.47it/s]\n",
      "100%|███████████████████████████████████████████████████████████████████████████| 55/55 [00:18<00:00,  2.92it/s]\n"
     ]
    },
    {
     "name": "stdout",
     "output_type": "stream",
     "text": [
      "*****Epoch 143/300*****\n",
      "*****Train Loss: -5.230217 Val Loss: -1.440415*****\n",
      "*****Validation Accuracy: 56.83%*****\n",
      "*****Total Avg Disparity: 0.18154186927741833*****\n",
      "\n",
      "Class Team_Sports: Recall Difference = 0.1641618497109827\n",
      "Class Celebration: Recall Difference = -0.09069767441860466\n",
      "Class Parade: Recall Difference = 0.029483889364128935\n",
      "Class Waiter_Or_Waitress: Recall Difference = -0.11003236245954706\n",
      "Class Individual_Sports: Recall Difference = -0.10245343025897313\n",
      "Class Surgeons: Recall Difference = -0.10051736881005174\n",
      "Class Spa: Recall Difference = -0.88\n",
      "Class Law_Enforcement: Recall Difference = 0.06431431431431445\n",
      "Class Business: Recall Difference = -0.05377147124719944\n",
      "Class Dresses: Recall Difference = -0.6266937669376693\n",
      "Class Water_Activities: Recall Difference = 0.061945945945945935\n",
      "Class Picnic: Recall Difference = -0.10909090909090915\n",
      "Class Rescue: Recall Difference = 0.19443037974683544\n",
      "Class Cheering: Recall Difference = -0.05250205086136178\n",
      "Class Performance_And_Entertainment: Recall Difference = -0.03790782860550301\n",
      "Class Family: Recall Difference = -0.22666666666666674\n",
      "Data has been appended to No_Attenuation_07/teacher_validation_8.txt\n"
     ]
    },
    {
     "name": "stderr",
     "output_type": "stream",
     "text": [
      "100%|█████████████████████████████████████████████████████████████████████████| 162/162 [01:50<00:00,  1.47it/s]\n",
      "100%|███████████████████████████████████████████████████████████████████████████| 55/55 [00:18<00:00,  2.93it/s]\n"
     ]
    },
    {
     "name": "stdout",
     "output_type": "stream",
     "text": [
      "*****Epoch 144/300*****\n",
      "*****Train Loss: -5.244275 Val Loss: -1.579147*****\n",
      "*****Validation Accuracy: 57.32%*****\n",
      "*****Total Avg Disparity: 0.16576977338579363*****\n",
      "\n",
      "Class Team_Sports: Recall Difference = 0.10557599112512406\n",
      "Class Celebration: Recall Difference = -0.19069767441860463\n",
      "Class Parade: Recall Difference = 0.02840034217279719\n",
      "Class Waiter_Or_Waitress: Recall Difference = -0.10818307905686553\n",
      "Class Individual_Sports: Recall Difference = -0.07610177192185363\n",
      "Class Surgeons: Recall Difference = -0.09386548410938644\n",
      "Class Spa: Recall Difference = -0.64\n",
      "Class Law_Enforcement: Recall Difference = 0.07957957957957962\n",
      "Class Business: Recall Difference = -0.10156833457804337\n",
      "Class Dresses: Recall Difference = -0.3983739837398374\n",
      "Class Water_Activities: Recall Difference = 0.05697297297297299\n",
      "Class Picnic: Recall Difference = -0.2545454545454546\n",
      "Class Rescue: Recall Difference = 0.08379746835443036\n",
      "Class Cheering: Recall Difference = -0.036505332239540556\n",
      "Class Performance_And_Entertainment: Recall Difference = 0.06814890535820767\n",
      "Class Family: Recall Difference = -0.33\n",
      "Data has been appended to No_Attenuation_07/teacher_validation_8.txt\n"
     ]
    },
    {
     "name": "stderr",
     "output_type": "stream",
     "text": [
      "100%|█████████████████████████████████████████████████████████████████████████| 162/162 [01:50<00:00,  1.47it/s]\n",
      "100%|███████████████████████████████████████████████████████████████████████████| 55/55 [00:18<00:00,  2.96it/s]\n"
     ]
    },
    {
     "name": "stdout",
     "output_type": "stream",
     "text": [
      "*****Epoch 145/300*****\n",
      "*****Train Loss: -5.213506 Val Loss: -1.770499*****\n",
      "*****Validation Accuracy: 57.23%*****\n",
      "*****Total Avg Disparity: 0.17292321095873325*****\n",
      "\n",
      "Class Team_Sports: Recall Difference = 0.11107607870613645\n",
      "Class Celebration: Recall Difference = -0.09999999999999998\n",
      "Class Parade: Recall Difference = 0.050983746792130136\n",
      "Class Waiter_Or_Waitress: Recall Difference = -0.1266759130836801\n",
      "Class Individual_Sports: Recall Difference = -0.051832500378615864\n",
      "Class Surgeons: Recall Difference = 0.05764966740576499\n",
      "Class Spa: Recall Difference = -0.64\n",
      "Class Law_Enforcement: Recall Difference = 0.19069069069069078\n",
      "Class Business: Recall Difference = -0.14040328603435398\n",
      "Class Dresses: Recall Difference = -0.61449864498645\n",
      "Class Water_Activities: Recall Difference = 0.0454054054054055\n",
      "Class Picnic: Recall Difference = 0.18181818181818177\n",
      "Class Rescue: Recall Difference = 0.14632911392405057\n",
      "Class Cheering: Recall Difference = -0.07424118129614438\n",
      "Class Performance_And_Entertainment: Recall Difference = -0.026833631484794285\n",
      "Class Family: Recall Difference = -0.2083333333333334\n",
      "Data has been appended to No_Attenuation_07/teacher_validation_8.txt\n"
     ]
    },
    {
     "name": "stderr",
     "output_type": "stream",
     "text": [
      "100%|█████████████████████████████████████████████████████████████████████████| 162/162 [01:50<00:00,  1.47it/s]\n",
      "100%|███████████████████████████████████████████████████████████████████████████| 55/55 [00:18<00:00,  2.92it/s]\n"
     ]
    },
    {
     "name": "stdout",
     "output_type": "stream",
     "text": [
      "*****Epoch 146/300*****\n",
      "*****Train Loss: -5.231806 Val Loss: -2.085583*****\n",
      "*****Validation Accuracy: 57.43%*****\n",
      "*****Total Avg Disparity: 0.1844268053668626*****\n",
      "\n",
      "Class Team_Sports: Recall Difference = 0.0982775734220821\n",
      "Class Celebration: Recall Difference = 0.05581395348837209\n",
      "Class Parade: Recall Difference = 0.10732820074137439\n",
      "Class Waiter_Or_Waitress: Recall Difference = -0.12760055478502086\n",
      "Class Individual_Sports: Recall Difference = -0.14413902771467513\n",
      "Class Surgeons: Recall Difference = 0.020694752402069472\n",
      "Class Spa: Recall Difference = -0.58\n",
      "Class Law_Enforcement: Recall Difference = 0.18718718718718708\n",
      "Class Business: Recall Difference = -0.0977275152032433\n",
      "Class Dresses: Recall Difference = -0.8109756097560977\n",
      "Class Water_Activities: Recall Difference = 0.08043243243243248\n",
      "Class Picnic: Recall Difference = 0.16363636363636358\n",
      "Class Rescue: Recall Difference = 0.08708860759493675\n",
      "Class Cheering: Recall Difference = -0.06050041017227231\n",
      "Class Performance_And_Entertainment: Recall Difference = 0.06942669733367413\n",
      "Class Family: Recall Difference = -0.26\n",
      "Data has been appended to No_Attenuation_07/teacher_validation_8.txt\n"
     ]
    },
    {
     "name": "stderr",
     "output_type": "stream",
     "text": [
      "100%|█████████████████████████████████████████████████████████████████████████| 162/162 [01:50<00:00,  1.47it/s]\n",
      "100%|███████████████████████████████████████████████████████████████████████████| 55/55 [00:18<00:00,  2.95it/s]\n"
     ]
    },
    {
     "name": "stdout",
     "output_type": "stream",
     "text": [
      "*****Epoch 147/300*****\n",
      "*****Train Loss: -5.240232 Val Loss: -1.995761*****\n",
      "*****Validation Accuracy: 57.95%*****\n",
      "*****Total Avg Disparity: 0.15100711877955197*****\n",
      "\n",
      "Class Team_Sports: Recall Difference = 0.06561569451742866\n",
      "Class Celebration: Recall Difference = -0.09767441860465115\n",
      "Class Parade: Recall Difference = 0.04773310521813512\n",
      "Class Waiter_Or_Waitress: Recall Difference = 0.014331946370781279\n",
      "Class Individual_Sports: Recall Difference = -0.11634862941087376\n",
      "Class Surgeons: Recall Difference = -0.05764966740576494\n",
      "Class Spa: Recall Difference = -0.58\n",
      "Class Law_Enforcement: Recall Difference = 0.14539539539539548\n",
      "Class Business: Recall Difference = -0.055585191507521614\n",
      "Class Dresses: Recall Difference = -0.60840108401084\n",
      "Class Water_Activities: Recall Difference = 0.12897297297297305\n",
      "Class Picnic: Recall Difference = -0.18181818181818185\n",
      "Class Rescue: Recall Difference = -0.006835443037974731\n",
      "Class Cheering: Recall Difference = -0.024200164068908903\n",
      "Class Performance_And_Entertainment: Recall Difference = 0.013885339466734814\n",
      "Class Family: Recall Difference = -0.2716666666666666\n",
      "Data has been appended to No_Attenuation_07/teacher_validation_8.txt\n"
     ]
    },
    {
     "name": "stderr",
     "output_type": "stream",
     "text": [
      "100%|█████████████████████████████████████████████████████████████████████████| 162/162 [01:50<00:00,  1.47it/s]\n",
      "100%|███████████████████████████████████████████████████████████████████████████| 55/55 [00:18<00:00,  2.92it/s]\n"
     ]
    },
    {
     "name": "stdout",
     "output_type": "stream",
     "text": [
      "*****Epoch 148/300*****\n",
      "*****Train Loss: -5.259022 Val Loss: -2.019466*****\n",
      "*****Validation Accuracy: 58.33%*****\n",
      "*****Total Avg Disparity: 0.1672616167534462*****\n",
      "\n",
      "Class Team_Sports: Recall Difference = 0.07313598411864308\n",
      "Class Celebration: Recall Difference = -0.02790697674418602\n",
      "Class Parade: Recall Difference = 0.03330481893356152\n",
      "Class Waiter_Or_Waitress: Recall Difference = -0.061488673139158734\n",
      "Class Individual_Sports: Recall Difference = -0.08761169165530802\n",
      "Class Surgeons: Recall Difference = -0.25203252032520324\n",
      "Class Spa: Recall Difference = -0.66\n",
      "Class Law_Enforcement: Recall Difference = 0.16241241241241255\n",
      "Class Business: Recall Difference = -0.1099967993171877\n",
      "Class Dresses: Recall Difference = -0.6205962059620596\n",
      "Class Water_Activities: Recall Difference = 0.047891891891892024\n",
      "Class Picnic: Recall Difference = -0.05454545454545462\n",
      "Class Rescue: Recall Difference = 0.07113924050632911\n",
      "Class Cheering: Recall Difference = -0.07424118129614438\n",
      "Class Performance_And_Entertainment: Recall Difference = -0.04821535054093201\n",
      "Class Family: Recall Difference = -0.29166666666666663\n",
      "Data has been appended to No_Attenuation_07/teacher_validation_8.txt\n"
     ]
    },
    {
     "name": "stderr",
     "output_type": "stream",
     "text": [
      "100%|█████████████████████████████████████████████████████████████████████████| 162/162 [01:50<00:00,  1.47it/s]\n",
      "100%|███████████████████████████████████████████████████████████████████████████| 55/55 [00:18<00:00,  2.99it/s]\n"
     ]
    },
    {
     "name": "stdout",
     "output_type": "stream",
     "text": [
      "*****Epoch 149/300*****\n",
      "*****Train Loss: -5.279559 Val Loss: -1.841216*****\n",
      "*****Validation Accuracy: 58.90%*****\n",
      "*****Total Avg Disparity: 0.16811921179962225*****\n",
      "\n",
      "Class Team_Sports: Recall Difference = 0.05921644187540154\n",
      "Class Celebration: Recall Difference = -0.05581395348837215\n",
      "Class Parade: Recall Difference = 0.04961505560307955\n",
      "Class Waiter_Or_Waitress: Recall Difference = -0.02357836338418884\n",
      "Class Individual_Sports: Recall Difference = -0.0913221263062245\n",
      "Class Surgeons: Recall Difference = -0.13082039911308213\n",
      "Class Spa: Recall Difference = -0.72\n",
      "Class Law_Enforcement: Recall Difference = 0.1704204204204205\n",
      "Class Business: Recall Difference = -0.07574949322522129\n",
      "Class Dresses: Recall Difference = -0.6388888888888888\n",
      "Class Water_Activities: Recall Difference = 0.08043243243243248\n",
      "Class Picnic: Recall Difference = 0.07272727272727275\n",
      "Class Rescue: Recall Difference = 0.12506329113924053\n",
      "Class Cheering: Recall Difference = -0.07793273174733384\n",
      "Class Performance_And_Entertainment: Recall Difference = 0.05332651844279751\n",
      "Class Family: Recall Difference = -0.2649999999999999\n",
      "Data has been appended to No_Attenuation_07/teacher_validation_8.txt\n"
     ]
    },
    {
     "name": "stderr",
     "output_type": "stream",
     "text": [
      "100%|█████████████████████████████████████████████████████████████████████████| 162/162 [01:50<00:00,  1.47it/s]\n",
      "100%|███████████████████████████████████████████████████████████████████████████| 55/55 [00:18<00:00,  2.92it/s]\n"
     ]
    },
    {
     "name": "stdout",
     "output_type": "stream",
     "text": [
      "*****Epoch 150/300*****\n",
      "*****Train Loss: -5.263861 Val Loss: -1.760947*****\n",
      "*****Validation Accuracy: 58.99%*****\n",
      "*****Total Avg Disparity: 0.17767074448480152*****\n",
      "\n",
      "Class Team_Sports: Recall Difference = 0.07717638815904704\n",
      "Class Celebration: Recall Difference = -0.10232558139534881\n",
      "Class Parade: Recall Difference = 0.06678072426575421\n",
      "Class Waiter_Or_Waitress: Recall Difference = -0.05177993527508107\n",
      "Class Individual_Sports: Recall Difference = -0.13652885052248964\n",
      "Class Surgeons: Recall Difference = -0.06356245380635628\n",
      "Class Spa: Recall Difference = -0.7\n",
      "Class Law_Enforcement: Recall Difference = 0.141891891891892\n",
      "Class Business: Recall Difference = -0.031793449269177376\n",
      "Class Dresses: Recall Difference = -0.6266937669376695\n",
      "Class Water_Activities: Recall Difference = 0.050918918918918865\n",
      "Class Picnic: Recall Difference = -0.2909090909090909\n",
      "Class Rescue: Recall Difference = 0.07974683544303796\n",
      "Class Cheering: Recall Difference = 0.030968006562756334\n",
      "Class Performance_And_Entertainment: Recall Difference = 0.04165601840020444\n",
      "Class Family: Recall Difference = -0.35000000000000003\n",
      "Data has been appended to No_Attenuation_07/teacher_validation_8.txt\n"
     ]
    },
    {
     "name": "stderr",
     "output_type": "stream",
     "text": [
      "100%|█████████████████████████████████████████████████████████████████████████| 162/162 [01:50<00:00,  1.47it/s]\n",
      "100%|███████████████████████████████████████████████████████████████████████████| 55/55 [00:18<00:00,  2.90it/s]\n"
     ]
    },
    {
     "name": "stdout",
     "output_type": "stream",
     "text": [
      "*****Epoch 151/300*****\n",
      "*****Train Loss: -5.274100 Val Loss: -1.754007*****\n",
      "*****Validation Accuracy: 59.13%*****\n",
      "*****Total Avg Disparity: 0.1758902865796636*****\n",
      "\n",
      "Class Team_Sports: Recall Difference = 0.04423425001459669\n",
      "Class Celebration: Recall Difference = -0.13488372093023254\n",
      "Class Parade: Recall Difference = 0.1130310806957514\n",
      "Class Waiter_Or_Waitress: Recall Difference = -0.042071197411003514\n",
      "Class Individual_Sports: Recall Difference = -0.13414357110404362\n",
      "Class Surgeons: Recall Difference = -0.12342941611234293\n",
      "Class Spa: Recall Difference = -0.7599999999999999\n",
      "Class Law_Enforcement: Recall Difference = 0.18893893893893898\n",
      "Class Business: Recall Difference = -0.060919662861410484\n",
      "Class Dresses: Recall Difference = -0.6388888888888888\n",
      "Class Water_Activities: Recall Difference = 0.07989189189189194\n",
      "Class Picnic: Recall Difference = -0.10909090909090907\n",
      "Class Rescue: Recall Difference = 0.005822784810126658\n",
      "Class Cheering: Recall Difference = 0.06070549630844946\n",
      "Class Performance_And_Entertainment: Recall Difference = -0.016526109549365342\n",
      "Class Family: Recall Difference = -0.30166666666666664\n",
      "Data has been appended to No_Attenuation_07/teacher_validation_8.txt\n"
     ]
    },
    {
     "name": "stderr",
     "output_type": "stream",
     "text": [
      "100%|█████████████████████████████████████████████████████████████████████████| 162/162 [01:50<00:00,  1.47it/s]\n",
      "100%|███████████████████████████████████████████████████████████████████████████| 55/55 [00:18<00:00,  2.93it/s]\n"
     ]
    },
    {
     "name": "stdout",
     "output_type": "stream",
     "text": [
      "*****Epoch 152/300*****\n",
      "*****Train Loss: -5.245409 Val Loss: -1.629148*****\n",
      "*****Validation Accuracy: 57.46%*****\n",
      "*****Total Avg Disparity: 0.16767107200053855*****\n",
      "\n",
      "Class Team_Sports: Recall Difference = 0.10091668126350195\n",
      "Class Celebration: Recall Difference = -0.020930232558139528\n",
      "Class Parade: Recall Difference = 0.0365554605075562\n",
      "Class Waiter_Or_Waitress: Recall Difference = 0.08136846971798417\n",
      "Class Individual_Sports: Recall Difference = -0.08056943813418149\n",
      "Class Surgeons: Recall Difference = -0.1374722838137472\n",
      "Class Spa: Recall Difference = -0.6599999999999999\n",
      "Class Law_Enforcement: Recall Difference = 0.16891891891891886\n",
      "Class Business: Recall Difference = -0.0977275152032433\n",
      "Class Dresses: Recall Difference = -0.6084010840108403\n",
      "Class Water_Activities: Recall Difference = 0.06691891891891888\n",
      "Class Picnic: Recall Difference = -0.10909090909090907\n",
      "Class Rescue: Recall Difference = 0.0984810126582279\n",
      "Class Cheering: Recall Difference = -0.04737489745693191\n",
      "Class Performance_And_Entertainment: Recall Difference = 0.019677996422182542\n",
      "Class Family: Recall Difference = -0.3483333333333334\n",
      "Data has been appended to No_Attenuation_07/teacher_validation_8.txt\n"
     ]
    },
    {
     "name": "stderr",
     "output_type": "stream",
     "text": [
      "100%|█████████████████████████████████████████████████████████████████████████| 162/162 [01:50<00:00,  1.47it/s]\n",
      "100%|███████████████████████████████████████████████████████████████████████████| 55/55 [00:18<00:00,  2.92it/s]\n"
     ]
    },
    {
     "name": "stdout",
     "output_type": "stream",
     "text": [
      "*****Epoch 153/300*****\n",
      "*****Train Loss: -5.240599 Val Loss: -1.498460*****\n",
      "*****Validation Accuracy: 56.25%*****\n",
      "*****Total Avg Disparity: 0.15520223719160348*****\n",
      "\n",
      "Class Team_Sports: Recall Difference = 0.12397968120511482\n",
      "Class Celebration: Recall Difference = 0.018604651162790642\n",
      "Class Parade: Recall Difference = 0.14217279726261767\n",
      "Class Waiter_Or_Waitress: Recall Difference = -0.16643550624133152\n",
      "Class Individual_Sports: Recall Difference = -0.09264728153869461\n",
      "Class Surgeons: Recall Difference = -0.04582409460458242\n",
      "Class Spa: Recall Difference = -0.6799999999999999\n",
      "Class Law_Enforcement: Recall Difference = 0.146896896896897\n",
      "Class Business: Recall Difference = -0.0407553611437107\n",
      "Class Dresses: Recall Difference = -0.6023035230352305\n",
      "Class Water_Activities: Recall Difference = 0.0418378378378379\n",
      "Class Picnic: Recall Difference = 0.018181818181818132\n",
      "Class Rescue: Recall Difference = -0.00354430379746834\n",
      "Class Cheering: Recall Difference = -0.030762920426579132\n",
      "Class Performance_And_Entertainment: Recall Difference = 0.02095578839764889\n",
      "Class Family: Recall Difference = -0.30833333333333335\n",
      "Data has been appended to No_Attenuation_07/teacher_validation_8.txt\n"
     ]
    },
    {
     "name": "stderr",
     "output_type": "stream",
     "text": [
      "100%|█████████████████████████████████████████████████████████████████████████| 162/162 [01:50<00:00,  1.47it/s]\n",
      "100%|███████████████████████████████████████████████████████████████████████████| 55/55 [00:18<00:00,  2.98it/s]\n"
     ]
    },
    {
     "name": "stdout",
     "output_type": "stream",
     "text": [
      "*****Epoch 154/300*****\n",
      "*****Train Loss: -5.195936 Val Loss: -1.686920*****\n",
      "*****Validation Accuracy: 57.92%*****\n",
      "*****Total Avg Disparity: 0.15140764503061882*****\n",
      "\n",
      "Class Team_Sports: Recall Difference = 0.05119402113621763\n",
      "Class Celebration: Recall Difference = -0.020930232558139472\n",
      "Class Parade: Recall Difference = 0.017507841459937223\n",
      "Class Waiter_Or_Waitress: Recall Difference = -0.05177993527508107\n",
      "Class Individual_Sports: Recall Difference = -0.07723761926397088\n",
      "Class Surgeons: Recall Difference = -0.06430155210643018\n",
      "Class Spa: Recall Difference = -0.6200000000000001\n",
      "Class Law_Enforcement: Recall Difference = 0.2042042042042042\n",
      "Class Business: Recall Difference = -0.061453109996799316\n",
      "Class Dresses: Recall Difference = -0.5840108401084012\n",
      "Class Water_Activities: Recall Difference = 0.07848648648648648\n",
      "Class Picnic: Recall Difference = -0.10909090909090907\n",
      "Class Rescue: Recall Difference = 0.025822784810126592\n",
      "Class Cheering: Recall Difference = -0.03937653814602132\n",
      "Class Performance_And_Entertainment: Recall Difference = -0.028792912513842694\n",
      "Class Family: Recall Difference = -0.3883333333333334\n",
      "Data has been appended to No_Attenuation_07/teacher_validation_8.txt\n"
     ]
    },
    {
     "name": "stderr",
     "output_type": "stream",
     "text": [
      "100%|█████████████████████████████████████████████████████████████████████████| 162/162 [01:50<00:00,  1.47it/s]\n",
      "100%|███████████████████████████████████████████████████████████████████████████| 55/55 [00:18<00:00,  2.98it/s]\n"
     ]
    },
    {
     "name": "stdout",
     "output_type": "stream",
     "text": [
      "*****Epoch 155/300*****\n",
      "*****Train Loss: -5.213904 Val Loss: -1.973347*****\n",
      "*****Validation Accuracy: 57.72%*****\n",
      "*****Total Avg Disparity: 0.1635243745590187*****\n",
      "\n",
      "Class Team_Sports: Recall Difference = 0.11208034098207509\n",
      "Class Celebration: Recall Difference = -0.08837209302325585\n",
      "Class Parade: Recall Difference = 0.10812660393498719\n",
      "Class Waiter_Or_Waitress: Recall Difference = 0.0073971336107258034\n",
      "Class Individual_Sports: Recall Difference = -0.1315689837952445\n",
      "Class Surgeons: Recall Difference = -0.015521064301552201\n",
      "Class Spa: Recall Difference = -0.6599999999999999\n",
      "Class Law_Enforcement: Recall Difference = 0.08633633633633653\n",
      "Class Business: Recall Difference = -0.19150752160460893\n",
      "Class Dresses: Recall Difference = -0.6754742547425474\n",
      "Class Water_Activities: Recall Difference = 0.10497297297297303\n",
      "Class Picnic: Recall Difference = -0.018181818181818188\n",
      "Class Rescue: Recall Difference = 0.018481012658227824\n",
      "Class Cheering: Recall Difference = -0.04163248564397054\n",
      "Class Performance_And_Entertainment: Recall Difference = -0.030070704489309152\n",
      "Class Family: Recall Difference = -0.32666666666666666\n",
      "Data has been appended to No_Attenuation_07/teacher_validation_8.txt\n"
     ]
    },
    {
     "name": "stderr",
     "output_type": "stream",
     "text": [
      "100%|█████████████████████████████████████████████████████████████████████████| 162/162 [01:50<00:00,  1.47it/s]\n",
      "100%|███████████████████████████████████████████████████████████████████████████| 55/55 [00:18<00:00,  2.92it/s]\n"
     ]
    },
    {
     "name": "stdout",
     "output_type": "stream",
     "text": [
      "*****Epoch 156/300*****\n",
      "*****Train Loss: -5.257981 Val Loss: -1.878643*****\n",
      "*****Validation Accuracy: 56.77%*****\n",
      "*****Total Avg Disparity: 0.1759375071820734*****\n",
      "\n",
      "Class Team_Sports: Recall Difference = 0.10063642202370537\n",
      "Class Celebration: Recall Difference = -0.12325581395348834\n",
      "Class Parade: Recall Difference = 0.07601938979184475\n",
      "Class Waiter_Or_Waitress: Recall Difference = -0.05177993527508107\n",
      "Class Individual_Sports: Recall Difference = -0.08427987278509763\n",
      "Class Surgeons: Recall Difference = -0.2032520325203252\n",
      "Class Spa: Recall Difference = -0.6199999999999999\n",
      "Class Law_Enforcement: Recall Difference = 0.1654154154154155\n",
      "Class Business: Recall Difference = -0.14168355915928738\n",
      "Class Dresses: Recall Difference = -0.60840108401084\n",
      "Class Water_Activities: Recall Difference = 0.07989189189189183\n",
      "Class Picnic: Recall Difference = -0.10909090909090907\n",
      "Class Rescue: Recall Difference = 0.10582278481012658\n",
      "Class Cheering: Recall Difference = -0.05393765381460214\n",
      "Class Performance_And_Entertainment: Recall Difference = 0.001533350370559794\n",
      "Class Family: Recall Difference = -0.29000000000000004\n",
      "Data has been appended to No_Attenuation_07/teacher_validation_8.txt\n"
     ]
    },
    {
     "name": "stderr",
     "output_type": "stream",
     "text": [
      "100%|█████████████████████████████████████████████████████████████████████████| 162/162 [01:50<00:00,  1.47it/s]\n",
      "100%|███████████████████████████████████████████████████████████████████████████| 55/55 [00:18<00:00,  2.93it/s]\n"
     ]
    },
    {
     "name": "stdout",
     "output_type": "stream",
     "text": [
      "*****Epoch 157/300*****\n",
      "*****Train Loss: -5.243865 Val Loss: -1.767213*****\n",
      "*****Validation Accuracy: 57.69%*****\n",
      "*****Total Avg Disparity: 0.16161936418621914*****\n",
      "\n",
      "Class Team_Sports: Recall Difference = 0.11219711566532387\n",
      "Class Celebration: Recall Difference = -0.06511627906976741\n",
      "Class Parade: Recall Difference = 0.02321072141431413\n",
      "Class Waiter_Or_Waitress: Recall Difference = -0.08183079056865483\n",
      "Class Individual_Sports: Recall Difference = -0.08484779645615625\n",
      "Class Surgeons: Recall Difference = -0.13673318551367336\n",
      "Class Spa: Recall Difference = -0.42\n",
      "Class Law_Enforcement: Recall Difference = 0.1416416416416416\n",
      "Class Business: Recall Difference = -0.1340019204096874\n",
      "Class Dresses: Recall Difference = -0.5657181571815717\n",
      "Class Water_Activities: Recall Difference = 0.06886486486486487\n",
      "Class Picnic: Recall Difference = -0.036363636363636376\n",
      "Class Rescue: Recall Difference = 0.14506329113924044\n",
      "Class Cheering: Recall Difference = -0.049630844954881015\n",
      "Class Performance_And_Entertainment: Recall Difference = -0.06235624840276005\n",
      "Class Family: Recall Difference = -0.4583333333333333\n",
      "Data has been appended to No_Attenuation_07/teacher_validation_8.txt\n"
     ]
    },
    {
     "name": "stderr",
     "output_type": "stream",
     "text": [
      "100%|█████████████████████████████████████████████████████████████████████████| 162/162 [01:50<00:00,  1.47it/s]\n",
      "100%|███████████████████████████████████████████████████████████████████████████| 55/55 [00:18<00:00,  2.96it/s]\n"
     ]
    },
    {
     "name": "stdout",
     "output_type": "stream",
     "text": [
      "*****Epoch 158/300*****\n",
      "*****Train Loss: -5.239721 Val Loss: -2.029144*****\n",
      "*****Validation Accuracy: 57.69%*****\n",
      "*****Total Avg Disparity: 0.18154589211283417*****\n",
      "\n",
      "Class Team_Sports: Recall Difference = 0.08121679219945122\n",
      "Class Celebration: Recall Difference = -0.05581395348837215\n",
      "Class Parade: Recall Difference = 0.09261477045908195\n",
      "Class Waiter_Or_Waitress: Recall Difference = 0.07443365695792858\n",
      "Class Individual_Sports: Recall Difference = -0.10188550658791451\n",
      "Class Surgeons: Recall Difference = -0.01552106430155209\n",
      "Class Spa: Recall Difference = -0.72\n",
      "Class Law_Enforcement: Recall Difference = 0.13163163163163155\n",
      "Class Business: Recall Difference = -0.14093673316974298\n",
      "Class Dresses: Recall Difference = -0.6951219512195123\n",
      "Class Water_Activities: Recall Difference = 0.02940540540540537\n",
      "Class Picnic: Recall Difference = 0.18181818181818177\n",
      "Class Rescue: Recall Difference = 0.09316455696202533\n",
      "Class Cheering: Recall Difference = -0.0982362592288761\n",
      "Class Performance_And_Entertainment: Recall Difference = 0.042933810375670844\n",
      "Class Family: Recall Difference = -0.35000000000000003\n",
      "Data has been appended to No_Attenuation_07/teacher_validation_8.txt\n"
     ]
    },
    {
     "name": "stderr",
     "output_type": "stream",
     "text": [
      "100%|█████████████████████████████████████████████████████████████████████████| 162/162 [01:50<00:00,  1.47it/s]\n",
      "100%|███████████████████████████████████████████████████████████████████████████| 55/55 [00:18<00:00,  2.93it/s]\n"
     ]
    },
    {
     "name": "stdout",
     "output_type": "stream",
     "text": [
      "*****Epoch 159/300*****\n",
      "*****Train Loss: -5.246736 Val Loss: -1.949737*****\n",
      "*****Validation Accuracy: 58.53%*****\n",
      "*****Total Avg Disparity: 0.1902138533558825*****\n",
      "\n",
      "Class Team_Sports: Recall Difference = 0.042494307234191564\n",
      "Class Celebration: Recall Difference = -0.12325581395348839\n",
      "Class Parade: Recall Difference = 0.09643570002851443\n",
      "Class Waiter_Or_Waitress: Recall Difference = -0.1294498381877024\n",
      "Class Individual_Sports: Recall Difference = -0.07390580039376027\n",
      "Class Surgeons: Recall Difference = -0.20916481892091643\n",
      "Class Spa: Recall Difference = -0.72\n",
      "Class Law_Enforcement: Recall Difference = 0.07282282282282271\n",
      "Class Business: Recall Difference = -0.15982076176250942\n",
      "Class Dresses: Recall Difference = -0.6205962059620596\n",
      "Class Water_Activities: Recall Difference = 0.06940540540540552\n",
      "Class Picnic: Recall Difference = -0.16363636363636364\n",
      "Class Rescue: Recall Difference = 0.11645569620253168\n",
      "Class Cheering: Recall Difference = -0.07136997538966361\n",
      "Class Performance_And_Entertainment: Recall Difference = -0.06627481046085693\n",
      "Class Family: Recall Difference = -0.30833333333333335\n",
      "Data has been appended to No_Attenuation_07/teacher_validation_8.txt\n"
     ]
    },
    {
     "name": "stderr",
     "output_type": "stream",
     "text": [
      "100%|█████████████████████████████████████████████████████████████████████████| 162/162 [01:50<00:00,  1.47it/s]\n",
      "100%|███████████████████████████████████████████████████████████████████████████| 55/55 [00:18<00:00,  2.91it/s]\n"
     ]
    },
    {
     "name": "stdout",
     "output_type": "stream",
     "text": [
      "*****Epoch 160/300*****\n",
      "*****Train Loss: -5.238894 Val Loss: -1.579204*****\n",
      "*****Validation Accuracy: 56.51%*****\n",
      "*****Total Avg Disparity: 0.16451489676537065*****\n",
      "\n",
      "Class Team_Sports: Recall Difference = 0.08391428738249562\n",
      "Class Celebration: Recall Difference = -0.048837209302325546\n",
      "Class Parade: Recall Difference = 0.08229255774165956\n",
      "Class Waiter_Or_Waitress: Recall Difference = -0.005085529357373941\n",
      "Class Individual_Sports: Recall Difference = -0.15564894744812974\n",
      "Class Surgeons: Recall Difference = -0.09460458240946046\n",
      "Class Spa: Recall Difference = -0.44\n",
      "Class Law_Enforcement: Recall Difference = 0.08108108108108103\n",
      "Class Business: Recall Difference = -0.1708097727515202\n",
      "Class Dresses: Recall Difference = -0.6571815718157183\n",
      "Class Water_Activities: Recall Difference = 0.10389189189189196\n",
      "Class Picnic: Recall Difference = 0.07272727272727275\n",
      "Class Rescue: Recall Difference = 0.11974683544303788\n",
      "Class Cheering: Recall Difference = -0.06398687448728468\n",
      "Class Performance_And_Entertainment: Recall Difference = 0.02742993440667868\n",
      "Class Family: Recall Difference = -0.42500000000000004\n",
      "Data has been appended to No_Attenuation_07/teacher_validation_8.txt\n"
     ]
    },
    {
     "name": "stderr",
     "output_type": "stream",
     "text": [
      "100%|█████████████████████████████████████████████████████████████████████████| 162/162 [01:50<00:00,  1.47it/s]\n",
      "100%|███████████████████████████████████████████████████████████████████████████| 55/55 [00:18<00:00,  2.94it/s]\n"
     ]
    },
    {
     "name": "stdout",
     "output_type": "stream",
     "text": [
      "*****Epoch 161/300*****\n",
      "*****Train Loss: -5.225431 Val Loss: -1.691748*****\n",
      "*****Validation Accuracy: 57.23%*****\n",
      "*****Total Avg Disparity: 0.16114361227804677*****\n",
      "\n",
      "Class Team_Sports: Recall Difference = 0.13352017282653128\n",
      "Class Celebration: Recall Difference = -0.011627906976744151\n",
      "Class Parade: Recall Difference = 0.041745081266039374\n",
      "Class Waiter_Or_Waitress: Recall Difference = -0.052704576976421724\n",
      "Class Individual_Sports: Recall Difference = -0.13081175223383312\n",
      "Class Surgeons: Recall Difference = -0.09460458240946051\n",
      "Class Spa: Recall Difference = -0.6199999999999999\n",
      "Class Law_Enforcement: Recall Difference = 0.03553553553553557\n",
      "Class Business: Recall Difference = -0.15597994238770935\n",
      "Class Dresses: Recall Difference = -0.5277777777777778\n",
      "Class Water_Activities: Recall Difference = 0.06994594594594616\n",
      "Class Picnic: Recall Difference = -0.2\n",
      "Class Rescue: Recall Difference = 0.12379746835443037\n",
      "Class Cheering: Recall Difference = -0.08880229696472519\n",
      "Class Performance_And_Entertainment: Recall Difference = 0.02811142346026052\n",
      "Class Family: Recall Difference = -0.2633333333333333\n",
      "Data has been appended to No_Attenuation_07/teacher_validation_8.txt\n"
     ]
    },
    {
     "name": "stderr",
     "output_type": "stream",
     "text": [
      "100%|█████████████████████████████████████████████████████████████████████████| 162/162 [01:50<00:00,  1.47it/s]\n",
      "100%|███████████████████████████████████████████████████████████████████████████| 55/55 [00:18<00:00,  2.92it/s]\n"
     ]
    },
    {
     "name": "stdout",
     "output_type": "stream",
     "text": [
      "*****Epoch 162/300*****\n",
      "*****Train Loss: -5.250675 Val Loss: -1.785759*****\n",
      "*****Validation Accuracy: 58.21%*****\n",
      "*****Total Avg Disparity: 0.1770026235266487*****\n",
      "\n",
      "Class Team_Sports: Recall Difference = 0.0988380919016757\n",
      "Class Celebration: Recall Difference = -0.046511627906976716\n",
      "Class Parade: Recall Difference = 0.07060165383518668\n",
      "Class Waiter_Or_Waitress: Recall Difference = -0.024503005085529383\n",
      "Class Individual_Sports: Recall Difference = -0.14080720884446463\n",
      "Class Surgeons: Recall Difference = 0.02734663710273466\n",
      "Class Spa: Recall Difference = -0.5799999999999998\n",
      "Class Law_Enforcement: Recall Difference = 0.14339339339339346\n",
      "Class Business: Recall Difference = -0.2045236317080978\n",
      "Class Dresses: Recall Difference = -0.5460704607046071\n",
      "Class Water_Activities: Recall Difference = 0.05837837837837845\n",
      "Class Picnic: Recall Difference = -0.4\n",
      "Class Rescue: Recall Difference = 0.04784810126582276\n",
      "Class Cheering: Recall Difference = -0.15237899917965547\n",
      "Class Performance_And_Entertainment: Recall Difference = 0.004174120453190211\n",
      "Class Family: Recall Difference = -0.28666666666666674\n",
      "Data has been appended to No_Attenuation_07/teacher_validation_8.txt\n"
     ]
    },
    {
     "name": "stderr",
     "output_type": "stream",
     "text": [
      "100%|█████████████████████████████████████████████████████████████████████████| 162/162 [01:50<00:00,  1.47it/s]\n",
      "100%|███████████████████████████████████████████████████████████████████████████| 55/55 [00:18<00:00,  2.92it/s]\n"
     ]
    },
    {
     "name": "stdout",
     "output_type": "stream",
     "text": [
      "*****Epoch 163/300*****\n",
      "*****Train Loss: -5.249697 Val Loss: -1.537536*****\n",
      "*****Validation Accuracy: 57.17%*****\n",
      "*****Total Avg Disparity: 0.1338024567210365*****\n",
      "\n",
      "Class Team_Sports: Recall Difference = 0.05927482921702565\n",
      "Class Celebration: Recall Difference = -0.07441860465116279\n",
      "Class Parade: Recall Difference = 0.04311377245508985\n",
      "Class Waiter_Or_Waitress: Recall Difference = -0.002311604253351973\n",
      "Class Individual_Sports: Recall Difference = -0.1302438285627745\n",
      "Class Surgeons: Recall Difference = 0.04582409460458259\n",
      "Class Spa: Recall Difference = -0.48\n",
      "Class Law_Enforcement: Recall Difference = 0.04754754754754764\n",
      "Class Business: Recall Difference = -0.09570041608876567\n",
      "Class Dresses: Recall Difference = -0.4668021680216804\n",
      "Class Water_Activities: Recall Difference = 0.06691891891891899\n",
      "Class Picnic: Recall Difference = -0.14545454545454545\n",
      "Class Rescue: Recall Difference = 0.08379746835443039\n",
      "Class Cheering: Recall Difference = -0.04963084495488107\n",
      "Class Performance_And_Entertainment: Recall Difference = -0.05980066445182719\n",
      "Class Family: Recall Difference = -0.29\n",
      "Early stopping\n"
     ]
    },
    {
     "data": {
      "image/png": "[encoded data removed]",
      "text/plain": [
       "<Figure size 640x480 with 1 Axes>"
      ]
     },
     "metadata": {},
     "output_type": "display_data"
    },
    {
     "name": "stdout",
     "output_type": "stream",
     "text": [
      "Finished Training Teacher for lambda val of 8\n",
      "Teacher weights and architecture saved and exported for lambda: 8\n"
     ]
    }
   ],
   "source": [
    "# Initialize the dictionary for results\n",
    "lambda_results = {}\n",
    "\n",
    "# Loop for training the teacher model with different lambda values\n",
    "for i in lmda_list_teacher:\n",
    "    # Reset the teacher model for each lambda\n",
    "    teacher_model = torchvision.models.efficientnet_b3(weights='DEFAULT')    \n",
    "    # Replace the last fully connected layer with a new one\n",
    "    teacher_model.classifier = nn.Linear(1536, num_classes)\n",
    "    teacher_optimizer = optim.Adam(teacher_model.parameters(), lr=best_lr_teacher)\n",
    "    \n",
    "    # Initialize the adversary for the teacher\n",
    "    adv = Adversary()\n",
    "    teacher_optimizer_adv = optim.Adam(adv.parameters(), lr=best_lr_teacher)\n",
    "\n",
    "    # pretrain_teacher(teacher_model, trainloader, criterion_clf, teacher_optimizer, device, epochs_pretrain)\n",
    "    # pretrain_adversary(adv, student_model, optimizer_adv, trainloader, adv_criterion, device, epochs_pretrain)\n",
    "    \n",
    "    # Train the teacher model with adversarial training\n",
    "    teacher_mean_abs_val_disparity = train_teacher(teacher_model, adv, trainloader, criterion_clf, adv_criterion, teacher_optimizer, teacher_optimizer_adv, device, epochs, i, patience=patience_teacher)\n",
    "\n",
    "    # Save the teacher model and its state to the 'output_dir'\n",
    "    teacher_model_weights_path = os.path.join(output_dir, f'teacher_model_weights_ckd_wider_lambda{i}.pth')\n",
    "    torch.save(teacher_model.state_dict(), teacher_model_weights_path)\n",
    "    teacher_model_path = os.path.join(output_dir, f'teacher_model_ckd_wider_lambda{i}.pth')\n",
    "    torch.save(teacher_model, teacher_model_path)\n",
    "    print('Teacher weights and architecture saved and exported for lambda:', i)\n",
    "\n",
    "    # Store the teacher results in the dictionary\n",
    "    lambda_results[i] = {\n",
    "        'teacher_mean_abs_val_disparity': teacher_mean_abs_val_disparity\n",
    "    }\n"
   ]
  },
  {
   "cell_type": "code",
   "execution_count": null,
   "id": "f00ed527-6705-4f12-b7af-2c5d0a1e753f",
   "metadata": {},
   "outputs": [
    {
     "name": "stderr",
     "output_type": "stream",
     "text": [
      "100%|█████████████████████████████████████████████████████████████████████████| 162/162 [01:22<00:00,  1.97it/s]\n"
     ]
    },
    {
     "name": "stdout",
     "output_type": "stream",
     "text": [
      "*******Epoch 0: loss - 1.1837310040438618\n"
     ]
    },
    {
     "name": "stderr",
     "output_type": "stream",
     "text": [
      "100%|█████████████████████████████████████████████████████████████████████████| 162/162 [01:22<00:00,  1.97it/s]\n"
     ]
    },
    {
     "name": "stdout",
     "output_type": "stream",
     "text": [
      "*******Epoch 1: loss - 0.7992247435045831\n"
     ]
    },
    {
     "name": "stderr",
     "output_type": "stream",
     "text": [
      "100%|█████████████████████████████████████████████████████████████████████████| 162/162 [01:22<00:00,  1.97it/s]\n"
     ]
    },
    {
     "name": "stdout",
     "output_type": "stream",
     "text": [
      "*******Epoch 2: loss - 0.599374410914786\n"
     ]
    },
    {
     "name": "stderr",
     "output_type": "stream",
     "text": [
      "100%|█████████████████████████████████████████████████████████████████████████| 162/162 [01:41<00:00,  1.59it/s]\n"
     ]
    },
    {
     "name": "stdout",
     "output_type": "stream",
     "text": [
      "Average Pretrain Adversary epoch loss:  0.4548055047606244\n"
     ]
    },
    {
     "name": "stderr",
     "output_type": "stream",
     "text": [
      "100%|█████████████████████████████████████████████████████████████████████████| 162/162 [01:42<00:00,  1.59it/s]\n"
     ]
    },
    {
     "name": "stdout",
     "output_type": "stream",
     "text": [
      "Average Pretrain Adversary epoch loss:  0.4558946744159416\n"
     ]
    },
    {
     "name": "stderr",
     "output_type": "stream",
     "text": [
      "100%|█████████████████████████████████████████████████████████████████████████| 162/162 [01:41<00:00,  1.59it/s]\n"
     ]
    },
    {
     "name": "stdout",
     "output_type": "stream",
     "text": [
      "Average Pretrain Adversary epoch loss:  0.4555608345034682\n"
     ]
    },
    {
     "name": "stderr",
     "output_type": "stream",
     "text": [
      "100%|█████████████████████████████████████████████████████████████████████████| 162/162 [00:58<00:00,  2.78it/s]\n"
     ]
    },
    {
     "name": "stdout",
     "output_type": "stream",
     "text": [
      "Average Adversary epoch loss: 0.3968414035108354\n"
     ]
    },
    {
     "name": "stderr",
     "output_type": "stream",
     "text": [
      "100%|█████████████████████████████████████████████████████████████████████████| 162/162 [01:22<00:00,  1.97it/s]\n",
      "100%|███████████████████████████████████████████████████████████████████████████| 55/55 [00:19<00:00,  2.76it/s]\n"
     ]
    },
    {
     "name": "stdout",
     "output_type": "stream",
     "text": [
      "*****Epoch 1/300*****\n",
      "*****Train Loss:  0.457909 Val Loss:  0.656011*****\n",
      "*****Validation Accuracy: 59.65%*****\n",
      "*****Total Avg Disparity: 0.14103345943149775*****\n",
      "\n",
      "Class Team_Sports: Recall Difference = 0.07269224032229804\n",
      "Class Celebration: Recall Difference = -0.11395348837209307\n",
      "Class Parade: Recall Difference = -0.015169660678642782\n",
      "Class Waiter_Or_Waitress: Recall Difference = -0.061488673139158734\n",
      "Class Individual_Sports: Recall Difference = -0.06610631531122213\n",
      "Class Surgeons: Recall Difference = 0.002956393200295726\n",
      "Class Spa: Recall Difference = -0.5\n",
      "Class Law_Enforcement: Recall Difference = 0.09334334334334338\n",
      "Class Business: Recall Difference = -0.03744798890429957\n",
      "Class Dresses: Recall Difference = -0.6754742547425474\n",
      "Class Water_Activities: Recall Difference = 0.09697297297297303\n",
      "Class Picnic: Recall Difference = -0.036363636363636376\n",
      "Class Rescue: Recall Difference = 0.0070886075949367355\n",
      "Class Cheering: Recall Difference = -0.05373256767842499\n",
      "Class Performance_And_Entertainment: Recall Difference = 0.06874520828009206\n",
      "Class Family: Recall Difference = -0.35500000000000004\n",
      "Data has been appended to No_Attenuation_07/student_validation_0.txt\n"
     ]
    },
    {
     "name": "stderr",
     "output_type": "stream",
     "text": [
      "100%|█████████████████████████████████████████████████████████████████████████| 162/162 [00:58<00:00,  2.78it/s]\n"
     ]
    },
    {
     "name": "stdout",
     "output_type": "stream",
     "text": [
      "Average Adversary epoch loss: 0.33090658127157774\n"
     ]
    },
    {
     "name": "stderr",
     "output_type": "stream",
     "text": [
      "100%|█████████████████████████████████████████████████████████████████████████| 162/162 [01:22<00:00,  1.97it/s]\n",
      "100%|███████████████████████████████████████████████████████████████████████████| 55/55 [00:19<00:00,  2.80it/s]\n"
     ]
    },
    {
     "name": "stdout",
     "output_type": "stream",
     "text": [
      "*****Epoch 2/300*****\n",
      "*****Train Loss:  0.333631 Val Loss:  0.692324*****\n",
      "*****Validation Accuracy: 61.44%*****\n",
      "*****Total Avg Disparity: 0.2039378595944819*****\n",
      "\n",
      "Class Team_Sports: Recall Difference = 0.08985811875985283\n",
      "Class Celebration: Recall Difference = -0.06511627906976747\n",
      "Class Parade: Recall Difference = 0.067579127459367\n",
      "Class Waiter_Or_Waitress: Recall Difference = -0.049930651872399534\n",
      "Class Individual_Sports: Recall Difference = -0.11263819475995773\n",
      "Class Surgeons: Recall Difference = -0.03325942350332589\n",
      "Class Spa: Recall Difference = -0.7999999999999999\n",
      "Class Law_Enforcement: Recall Difference = 0.20245245245245247\n",
      "Class Business: Recall Difference = -0.06966819588178808\n",
      "Class Dresses: Recall Difference = -0.7073170731707318\n",
      "Class Water_Activities: Recall Difference = 0.11437837837837828\n",
      "Class Picnic: Recall Difference = 0.2727272727272727\n",
      "Class Rescue: Recall Difference = 0.0637974683544304\n",
      "Class Cheering: Recall Difference = -0.0670631665299426\n",
      "Class Performance_And_Entertainment: Recall Difference = 0.1288866172587103\n",
      "Class Family: Recall Difference = -0.41833333333333333\n",
      "Data has been appended to No_Attenuation_07/student_validation_0.txt\n"
     ]
    },
    {
     "name": "stderr",
     "output_type": "stream",
     "text": [
      "100%|█████████████████████████████████████████████████████████████████████████| 162/162 [00:57<00:00,  2.80it/s]\n"
     ]
    },
    {
     "name": "stdout",
     "output_type": "stream",
     "text": [
      "Average Adversary epoch loss: 0.24553583369210916\n"
     ]
    },
    {
     "name": "stderr",
     "output_type": "stream",
     "text": [
      "100%|█████████████████████████████████████████████████████████████████████████| 162/162 [01:22<00:00,  1.97it/s]\n",
      "100%|███████████████████████████████████████████████████████████████████████████| 55/55 [00:20<00:00,  2.74it/s]\n"
     ]
    },
    {
     "name": "stdout",
     "output_type": "stream",
     "text": [
      "*****Epoch 3/300*****\n",
      "*****Train Loss:  0.241385 Val Loss:  0.670788*****\n",
      "*****Validation Accuracy: 61.41%*****\n",
      "*****Total Avg Disparity: 0.17589770649514835*****\n",
      "\n",
      "Class Team_Sports: Recall Difference = 0.005009633911368105\n",
      "Class Celebration: Recall Difference = -0.006976744186046546\n",
      "Class Parade: Recall Difference = 0.04961505560307955\n",
      "Class Waiter_Or_Waitress: Recall Difference = -0.17429496070272776\n",
      "Class Individual_Sports: Recall Difference = -0.07409510828411325\n",
      "Class Surgeons: Recall Difference = -0.2039911308203992\n",
      "Class Spa: Recall Difference = -0.7\n",
      "Class Law_Enforcement: Recall Difference = 0.17392392392392386\n",
      "Class Business: Recall Difference = -0.07244212098581038\n",
      "Class Dresses: Recall Difference = -0.6205962059620596\n",
      "Class Water_Activities: Recall Difference = 0.15794594594594602\n",
      "Class Picnic: Recall Difference = -0.12727272727272726\n",
      "Class Rescue: Recall Difference = 0.005063291139240422\n",
      "Class Cheering: Recall Difference = 0.0449138638228056\n",
      "Class Performance_And_Entertainment: Recall Difference = -0.03322259136212635\n",
      "Class Family: Recall Difference = -0.365\n",
      "Data has been appended to No_Attenuation_07/student_validation_0.txt\n"
     ]
    },
    {
     "name": "stderr",
     "output_type": "stream",
     "text": [
      "100%|█████████████████████████████████████████████████████████████████████████| 162/162 [00:58<00:00,  2.76it/s]\n"
     ]
    },
    {
     "name": "stdout",
     "output_type": "stream",
     "text": [
      "Average Adversary epoch loss: 0.19065203089956884\n"
     ]
    },
    {
     "name": "stderr",
     "output_type": "stream",
     "text": [
      "100%|█████████████████████████████████████████████████████████████████████████| 162/162 [01:22<00:00,  1.97it/s]\n",
      "100%|███████████████████████████████████████████████████████████████████████████| 55/55 [00:19<00:00,  2.76it/s]\n"
     ]
    },
    {
     "name": "stdout",
     "output_type": "stream",
     "text": [
      "*****Epoch 4/300*****\n",
      "*****Train Loss:  0.199973 Val Loss:  0.639229*****\n",
      "*****Validation Accuracy: 62.14%*****\n",
      "*****Total Avg Disparity: 0.17507646512726927*****\n",
      "\n",
      "Class Team_Sports: Recall Difference = 0.09187832078005487\n",
      "Class Celebration: Recall Difference = -0.12325581395348828\n",
      "Class Parade: Recall Difference = 0.013972055888223478\n",
      "Class Waiter_Or_Waitress: Recall Difference = -0.12066574202496538\n",
      "Class Individual_Sports: Recall Difference = -0.1046494017870665\n",
      "Class Surgeons: Recall Difference = -0.02143385070214343\n",
      "Class Spa: Recall Difference = -0.66\n",
      "Class Law_Enforcement: Recall Difference = 0.1381381381381382\n",
      "Class Business: Recall Difference = -0.12354635655606522\n",
      "Class Dresses: Recall Difference = -0.5338753387533874\n",
      "Class Water_Activities: Recall Difference = 0.13697297297297306\n",
      "Class Picnic: Recall Difference = -0.32727272727272727\n",
      "Class Rescue: Recall Difference = 0.09164556962025311\n",
      "Class Cheering: Recall Difference = -0.03219852337981949\n",
      "Class Performance_And_Entertainment: Recall Difference = 0.010051963540335662\n",
      "Class Family: Recall Difference = -0.2716666666666667\n",
      "Data has been appended to No_Attenuation_07/student_validation_0.txt\n"
     ]
    },
    {
     "name": "stderr",
     "output_type": "stream",
     "text": [
      "100%|█████████████████████████████████████████████████████████████████████████| 162/162 [00:58<00:00,  2.77it/s]\n"
     ]
    },
    {
     "name": "stdout",
     "output_type": "stream",
     "text": [
      "Average Adversary epoch loss: 0.17644682448403334\n"
     ]
    },
    {
     "name": "stderr",
     "output_type": "stream",
     "text": [
      "100%|█████████████████████████████████████████████████████████████████████████| 162/162 [01:22<00:00,  1.97it/s]\n",
      "100%|███████████████████████████████████████████████████████████████████████████| 55/55 [00:19<00:00,  2.77it/s]\n"
     ]
    },
    {
     "name": "stdout",
     "output_type": "stream",
     "text": [
      "*****Epoch 5/300*****\n",
      "*****Train Loss:  0.171714 Val Loss:  0.648854*****\n",
      "*****Validation Accuracy: 62.02%*****\n",
      "*****Total Avg Disparity: 0.16085339434007917*****\n",
      "\n",
      "Class Team_Sports: Recall Difference = 0.07611373854148418\n",
      "Class Celebration: Recall Difference = -0.06511627906976736\n",
      "Class Parade: Recall Difference = 0.04744796122041628\n",
      "Class Waiter_Or_Waitress: Recall Difference = 0.05316689782709194\n",
      "Class Individual_Sports: Recall Difference = -0.06830228683931527\n",
      "Class Surgeons: Recall Difference = -0.1359940872135993\n",
      "Class Spa: Recall Difference = -0.6399999999999999\n",
      "Class Law_Enforcement: Recall Difference = 0.1268768768768771\n",
      "Class Business: Recall Difference = -0.08087058572495465\n",
      "Class Dresses: Recall Difference = -0.6585365853658536\n",
      "Class Water_Activities: Recall Difference = 0.12648648648648664\n",
      "Class Picnic: Recall Difference = -0.10909090909090907\n",
      "Class Rescue: Recall Difference = 0.12303797468354438\n",
      "Class Cheering: Recall Difference = -0.05086136177194417\n",
      "Class Performance_And_Entertainment: Recall Difference = -0.038418945395689574\n",
      "Class Family: Recall Difference = -0.17333333333333328\n",
      "Data has been appended to No_Attenuation_07/student_validation_0.txt\n"
     ]
    },
    {
     "name": "stderr",
     "output_type": "stream",
     "text": [
      "100%|█████████████████████████████████████████████████████████████████████████| 162/162 [00:58<00:00,  2.76it/s]\n"
     ]
    },
    {
     "name": "stdout",
     "output_type": "stream",
     "text": [
      "Average Adversary epoch loss: 0.17124205689739297\n"
     ]
    },
    {
     "name": "stderr",
     "output_type": "stream",
     "text": [
      "100%|█████████████████████████████████████████████████████████████████████████| 162/162 [01:22<00:00,  1.97it/s]\n",
      "100%|███████████████████████████████████████████████████████████████████████████| 55/55 [00:19<00:00,  2.83it/s]\n"
     ]
    },
    {
     "name": "stdout",
     "output_type": "stream",
     "text": [
      "*****Epoch 6/300*****\n",
      "*****Train Loss:  0.154101 Val Loss:  0.616414*****\n",
      "*****Validation Accuracy: 63.15%*****\n",
      "*****Total Avg Disparity: 0.17246763777879415*****\n",
      "\n",
      "Class Team_Sports: Recall Difference = 0.048554913294797664\n",
      "Class Celebration: Recall Difference = -0.13255813953488366\n",
      "Class Parade: Recall Difference = 0.004733390362132828\n",
      "Class Waiter_Or_Waitress: Recall Difference = -0.005085529357373941\n",
      "Class Individual_Sports: Recall Difference = -0.10502801756777225\n",
      "Class Surgeons: Recall Difference = -0.08795269770879538\n",
      "Class Spa: Recall Difference = -0.72\n",
      "Class Law_Enforcement: Recall Difference = 0.14214214214214216\n",
      "Class Business: Recall Difference = -0.13453536754507633\n",
      "Class Dresses: Recall Difference = -0.6327913279132793\n",
      "Class Water_Activities: Recall Difference = 0.16043243243243255\n",
      "Class Picnic: Recall Difference = -0.10909090909090918\n",
      "Class Rescue: Recall Difference = 0.11772151898734173\n",
      "Class Cheering: Recall Difference = 0.031788351107465085\n",
      "Class Performance_And_Entertainment: Recall Difference = 0.07206746741630465\n",
      "Class Family: Recall Difference = -0.25500000000000006\n",
      "Data has been appended to No_Attenuation_07/student_validation_0.txt\n"
     ]
    },
    {
     "name": "stderr",
     "output_type": "stream",
     "text": [
      "100%|█████████████████████████████████████████████████████████████████████████| 162/162 [00:58<00:00,  2.77it/s]\n"
     ]
    },
    {
     "name": "stdout",
     "output_type": "stream",
     "text": [
      "Average Adversary epoch loss: 0.16693915431330233\n"
     ]
    },
    {
     "name": "stderr",
     "output_type": "stream",
     "text": [
      "100%|█████████████████████████████████████████████████████████████████████████| 162/162 [01:22<00:00,  1.98it/s]\n",
      "100%|███████████████████████████████████████████████████████████████████████████| 55/55 [00:19<00:00,  2.76it/s]\n"
     ]
    },
    {
     "name": "stdout",
     "output_type": "stream",
     "text": [
      "*****Epoch 7/300*****\n",
      "*****Train Loss:  0.137044 Val Loss:  0.610969*****\n",
      "*****Validation Accuracy: 64.07%*****\n",
      "*****Total Avg Disparity: 0.15167594957332187*****\n",
      "\n",
      "Class Team_Sports: Recall Difference = 0.0768377415776259\n",
      "Class Celebration: Recall Difference = -0.06744186046511624\n",
      "Class Parade: Recall Difference = 0.027031650983746713\n",
      "Class Waiter_Or_Waitress: Recall Difference = -0.05362921867776238\n",
      "Class Individual_Sports: Recall Difference = -0.07572315614114777\n",
      "Class Surgeons: Recall Difference = -0.10051736881005163\n",
      "Class Spa: Recall Difference = -0.68\n",
      "Class Law_Enforcement: Recall Difference = 0.05780780780780792\n",
      "Class Business: Recall Difference = -0.06913474874639935\n",
      "Class Dresses: Recall Difference = -0.5460704607046071\n",
      "Class Water_Activities: Recall Difference = 0.15491891891891885\n",
      "Class Picnic: Recall Difference = -0.05454545454545462\n",
      "Class Rescue: Recall Difference = 0.07772151898734175\n",
      "Class Cheering: Recall Difference = -0.07772764561115664\n",
      "Class Performance_And_Entertainment: Recall Difference = 0.0210409745293465\n",
      "Class Family: Recall Difference = -0.2866666666666668\n",
      "Data has been appended to No_Attenuation_07/student_validation_0.txt\n"
     ]
    },
    {
     "name": "stderr",
     "output_type": "stream",
     "text": [
      "100%|█████████████████████████████████████████████████████████████████████████| 162/162 [00:58<00:00,  2.78it/s]\n"
     ]
    },
    {
     "name": "stdout",
     "output_type": "stream",
     "text": [
      "Average Adversary epoch loss: 0.15943780012520742\n"
     ]
    },
    {
     "name": "stderr",
     "output_type": "stream",
     "text": [
      "100%|█████████████████████████████████████████████████████████████████████████| 162/162 [01:22<00:00,  1.97it/s]\n",
      "100%|███████████████████████████████████████████████████████████████████████████| 55/55 [00:19<00:00,  2.80it/s]\n"
     ]
    },
    {
     "name": "stdout",
     "output_type": "stream",
     "text": [
      "*****Epoch 8/300*****\n",
      "*****Train Loss:  0.119163 Val Loss:  0.588698*****\n",
      "*****Validation Accuracy: 63.58%*****\n",
      "*****Total Avg Disparity: 0.16901894627885308*****\n",
      "\n",
      "Class Team_Sports: Recall Difference = 0.03817364395399081\n",
      "Class Celebration: Recall Difference = -0.037209302325581284\n",
      "Class Parade: Recall Difference = -0.003992015968063978\n",
      "Class Waiter_Or_Waitress: Recall Difference = -0.052704576976421724\n",
      "Class Individual_Sports: Recall Difference = -0.0655383916401635\n",
      "Class Surgeons: Recall Difference = -0.014781966001478075\n",
      "Class Spa: Recall Difference = -0.5999999999999999\n",
      "Class Law_Enforcement: Recall Difference = 0.1861861861861862\n",
      "Class Business: Recall Difference = -0.06785447562146596\n",
      "Class Dresses: Recall Difference = -0.7073170731707318\n",
      "Class Water_Activities: Recall Difference = 0.19243243243243258\n",
      "Class Picnic: Recall Difference = -0.2727272727272727\n",
      "Class Rescue: Recall Difference = 0.08506329113924044\n",
      "Class Cheering: Recall Difference = 0.032403609515996745\n",
      "Class Performance_And_Entertainment: Recall Difference = 0.03458556946929037\n",
      "Class Family: Recall Difference = -0.3133333333333333\n",
      "Data has been appended to No_Attenuation_07/student_validation_0.txt\n"
     ]
    },
    {
     "name": "stderr",
     "output_type": "stream",
     "text": [
      "100%|█████████████████████████████████████████████████████████████████████████| 162/162 [00:58<00:00,  2.79it/s]\n"
     ]
    },
    {
     "name": "stdout",
     "output_type": "stream",
     "text": [
      "Average Adversary epoch loss: 0.15965890028962382\n"
     ]
    },
    {
     "name": "stderr",
     "output_type": "stream",
     "text": [
      "100%|█████████████████████████████████████████████████████████████████████████| 162/162 [01:21<00:00,  1.98it/s]\n",
      "100%|███████████████████████████████████████████████████████████████████████████| 55/55 [00:19<00:00,  2.82it/s]\n"
     ]
    },
    {
     "name": "stdout",
     "output_type": "stream",
     "text": [
      "*****Epoch 9/300*****\n",
      "*****Train Loss:  0.108417 Val Loss:  0.573900*****\n",
      "*****Validation Accuracy: 63.72%*****\n",
      "*****Total Avg Disparity: 0.19497629944000558*****\n",
      "\n",
      "Class Team_Sports: Recall Difference = -0.002288783791673965\n",
      "Class Celebration: Recall Difference = -0.12790697674418605\n",
      "Class Parade: Recall Difference = 0.017792985457656063\n",
      "Class Waiter_Or_Waitress: Recall Difference = -0.08090614886731406\n",
      "Class Individual_Sports: Recall Difference = -0.0764803877025595\n",
      "Class Surgeons: Recall Difference = -0.09386548410938655\n",
      "Class Spa: Recall Difference = -0.6599999999999999\n",
      "Class Law_Enforcement: Recall Difference = 0.1353853853853857\n",
      "Class Business: Recall Difference = -0.04971727301824391\n",
      "Class Dresses: Recall Difference = -0.5643631436314365\n",
      "Class Water_Activities: Recall Difference = 0.1789189189189191\n",
      "Class Picnic: Recall Difference = -0.4909090909090909\n",
      "Class Rescue: Recall Difference = 0.08101265822784803\n",
      "Class Cheering: Recall Difference = 0.031788351107465085\n",
      "Class Performance_And_Entertainment: Recall Difference = 0.001618536502257406\n",
      "Class Family: Recall Difference = -0.5266666666666666\n",
      "Data has been appended to No_Attenuation_07/student_validation_0.txt\n"
     ]
    },
    {
     "name": "stderr",
     "output_type": "stream",
     "text": [
      "100%|█████████████████████████████████████████████████████████████████████████| 162/162 [00:57<00:00,  2.81it/s]\n"
     ]
    },
    {
     "name": "stdout",
     "output_type": "stream",
     "text": [
      "Average Adversary epoch loss: 0.15639035431323228\n"
     ]
    },
    {
     "name": "stderr",
     "output_type": "stream",
     "text": [
      " 54%|████████████████████████████████████████▏                                 | 88/162 [00:45<00:36,  2.00it/s]"
     ]
    }
   ],
   "source": [
    "# Loop for training the student model with different lambda values\n",
    "for i in lmda_list_student:\n",
    "    # load teacher model with lambda 0\n",
    "    teacher_model_path = os.path.join(output_dir, 'teacher_model_ckd_wider_lambda0.pth')\n",
    "    teacher_model = torch.load(teacher_model_path)\n",
    "    teacher_model_weights_path = os.path.join(output_dir, 'teacher_model_weights_ckd_wider_lambda0.pth')\n",
    "    teacher_model.load_state_dict(torch.load(teacher_model_weights_path))\n",
    "    teacher_model = teacher_model.to(device)\n",
    "    \n",
    "    # # Reset the student model for each lambda\n",
    "    student_model = torchvision.models.efficientnet_b0(weights='DEFAULT')\n",
    "    student_model.classifier = nn.Linear(1280, num_classes)\n",
    "    student_optimizer = optim.Adam(student_model.parameters(), lr=best_lr_student)\n",
    "    student_scheduler = torch.optim.lr_scheduler.StepLR(student_optimizer, step_size=step_size, gamma=gamma)\n",
    "    \n",
    "    adv = Adversary()\n",
    "    student_optimizer_adv = optim.Adam(adv.parameters(), lr=best_lr_student)\n",
    "\n",
    "    pretrain_student(student_model, teacher_model, trainloader, criterion_clf, student_optimizer, device, alpha, temperature, epochs_pretrain)\n",
    "    pretrain_adversary(adv, teacher_model, optimizer_adv, trainloader, adv_criterion, device, epochs_pretrain)\n",
    "    \n",
    "    student_mean_abs_val_disparity = train_student_with_distillation_disparity(student_model, teacher_model, adv, trainloader, testloader, criterion_clf, adv_criterion, student_optimizer, device, alpha, temperature, epochs, lmda=i, patience=patience_student, optimizer_adv=student_optimizer_adv)\n",
    "\n",
    "    # Save the student model's state dictionary to the 'output_dir'\n",
    "    student_model_weights_path = os.path.join(output_dir, f'student_model_weights_ckd_wider_lambda{i}.pth')\n",
    "    torch.save(student_model.state_dict(), student_model_weights_path)\n",
    "    student_model_path = os.path.join(output_dir, f'student_model_ckd_wider_lambda{i}.pth')\n",
    "    torch.save(student_model, student_model_path)\n",
    "\n",
    "    print('Student weights and architecture saved and exported for lambda:', i)\n",
    "\n",
    "    # Check if the key exists in the dictionary\n",
    "    if i not in lambda_results:\n",
    "        # If not, create a new entry for that key\n",
    "        lambda_results[i] = {\n",
    "            'student_mean_abs_val_disparity': student_mean_abs_val_disparity\n",
    "        }\n",
    "    else:\n",
    "        # If the key exists, update the existing entry\n",
    "        lambda_results[i].update({\n",
    "            'student_mean_abs_val_disparity': student_mean_abs_val_disparity\n",
    "        })\n"
   ]
  },
  {
   "cell_type": "code",
   "execution_count": null,
   "id": "073656a3-9d3d-469d-a66f-0afc3c289ab9",
   "metadata": {},
   "outputs": [],
   "source": [
    "def compare_performance_metrics(teacher, student, dataloader):\n",
    "    teacher.eval()\n",
    "    student.eval()\n",
    "    \n",
    "    all_labels = []\n",
    "    all_teacher_preds = []\n",
    "    all_student_preds = []\n",
    "\n",
    "    for batch in dataloader:\n",
    "        inputs = batch['img'].to(device)\n",
    "        labels = batch['label'].to(device)\n",
    "        \n",
    "        with torch.no_grad():\n",
    "            teacher_outputs = teacher(inputs)\n",
    "            student_outputs = student(inputs)\n",
    "            \n",
    "        teacher_preds = torch.argmax(teacher_outputs, dim=1).cpu().numpy()\n",
    "        student_preds = torch.argmax(student_outputs, dim=1).cpu().numpy()\n",
    "        \n",
    "        all_labels.append(labels.cpu().numpy())\n",
    "        all_teacher_preds.append(teacher_preds)\n",
    "        all_student_preds.append(student_preds)\n",
    "\n",
    "    all_labels = np.concatenate(all_labels)\n",
    "    all_teacher_preds = np.concatenate(all_teacher_preds)\n",
    "    all_student_preds = np.concatenate(all_student_preds)\n",
    "    \n",
    "    metrics = {\n",
    "        'accuracy': (accuracy_score(all_labels, all_teacher_preds), accuracy_score(all_labels, all_student_preds)),\n",
    "        'precision': (precision_score(all_labels, all_teacher_preds, average='weighted', zero_division=0), precision_score(all_labels, all_student_preds, average='weighted', zero_division=0)),\n",
    "        'recall': (recall_score(all_labels, all_teacher_preds, average='weighted'), recall_score(all_labels, all_student_preds, average='weighted')),\n",
    "        'f1': (f1_score(all_labels, all_teacher_preds, average='weighted'), f1_score(all_labels, all_student_preds, average='weighted'))\n",
    "    }\n",
    "\n",
    "    return {\n",
    "        'metrics': metrics,\n",
    "        'all_labels': all_labels,\n",
    "        'all_teacher_preds': all_teacher_preds,\n",
    "        'all_student_preds': all_student_preds\n",
    "    }\n",
    "\n",
    "def compare_model_size(teacher, student):\n",
    "    teacher_params = sum(p.numel() for p in teacher.parameters())\n",
    "    student_params = sum(p.numel() for p in student.parameters())\n",
    "    return teacher_params, student_params\n",
    "\n",
    "def compare_inference_time(teacher, student, dataloader):\n",
    "    dataiter = iter(dataloader)\n",
    "    data = next(dataiter)\n",
    "    inputs = data['img']\n",
    "    inputs = inputs.to(device)\n",
    "\n",
    "    teacher_time, student_time = 0, 0\n",
    "\n",
    "    if teacher is not None:\n",
    "        teacher = teacher.to(device)\n",
    "        start_time = time.time()\n",
    "        with torch.no_grad():\n",
    "            teacher_outputs = teacher(inputs)\n",
    "        teacher_time = time.time() - start_time\n",
    "\n",
    "    if student is not None:\n",
    "        student = student.to(device)\n",
    "        start_time = time.time()\n",
    "        with torch.no_grad():\n",
    "            student_outputs = student(inputs)\n",
    "        student_time = time.time() - start_time\n",
    "    \n",
    "    return teacher_time, student_time\n"
   ]
  },
  {
   "cell_type": "code",
   "execution_count": null,
   "id": "249e04fd-db83-4893-bfd5-31d8808243d9",
   "metadata": {},
   "outputs": [],
   "source": [
    "# Loop through each lambda value\n",
    "for lmda_teacher in lmda_list_teacher:\n",
    "    for lmda_student in lmda_list_student:\n",
    "\n",
    "        # Load the teacher model for the current lambda from the 'output_dir'\n",
    "        teacher_model_path = os.path.join(output_dir, f'teacher_model_ckd_wider_lambda{lmda_teacher}.pth')\n",
    "        teacher_model = torch.load(teacher_model_path)\n",
    "        \n",
    "        # Load the student model for the current lambda from the 'output_dir'\n",
    "        student_model_path = os.path.join(output_dir, f'student_model_ckd_wider_lambda{lmda_student}.pth')\n",
    "        student_model = torch.load(student_model_path)\n",
    "    \n",
    "        # Compute performance metrics\n",
    "        performance_metrics = compare_performance_metrics(teacher_model, student_model, testloader)\n",
    "    \n",
    "        # Compute model sizes\n",
    "        teacher_params, student_params = compare_model_size(teacher_model, student_model)\n",
    "    \n",
    "        # Construct a unique key for the current combination of lambda values\n",
    "        lambda_key = (lmda_teacher, lmda_student)\n",
    "\n",
    "        # Update results for the current lambda value\n",
    "        if lambda_key in lambda_results:\n",
    "            lambda_results[lambda_key].update({\n",
    "                'performance_metrics': performance_metrics,\n",
    "                'teacher_params': teacher_params,\n",
    "                'student_params': student_params\n",
    "            })\n",
    "        else:\n",
    "            lambda_results[lambda_key] = {\n",
    "                'performance_metrics': performance_metrics,\n",
    "                'teacher_params': teacher_params,\n",
    "                'student_params': student_params\n",
    "            }\n"
   ]
  },
  {
   "cell_type": "code",
   "execution_count": null,
   "id": "4c127f4e-cc52-45ff-a035-9e0184fb9a64",
   "metadata": {},
   "outputs": [],
   "source": [
    "# Initialize lists to store accuracies\n",
    "teacher_accuracies = []\n",
    "student_accuracies = []\n",
    "lambda_pairs = list(lambda_results.keys())\n",
    "\n",
    "# Iterate over the keys in lambda_results\n",
    "for key in lambda_pairs:\n",
    "    # Check if the key is a tuple (indicating a lambda pair)\n",
    "    if isinstance(key, tuple) and len(key) == 2:\n",
    "        lmda_teacher, lmda_student = key\n",
    "    else:\n",
    "        # If the key is not a tuple, skip this iteration\n",
    "        continue\n",
    "\n",
    "    # Access the performance metrics for each pair\n",
    "    teacher_accuracy = lambda_results[(lmda_teacher, lmda_student)]['performance_metrics']['metrics']['accuracy'][0]\n",
    "    student_accuracy = lambda_results[(lmda_teacher, lmda_student)]['performance_metrics']['metrics']['accuracy'][1]\n",
    "\n",
    "    # Append accuracies to the lists\n",
    "    teacher_accuracies.append((lmda_teacher, teacher_accuracy))\n",
    "    student_accuracies.append((lmda_student, student_accuracy))\n",
    "\n",
    "# To plot, you might need to separate the lambda values and accuracies\n",
    "teacher_lambdas, teacher_acc = zip(*teacher_accuracies)\n",
    "student_lambdas, student_acc = zip(*student_accuracies)\n",
    "\n",
    "# Plotting\n",
    "plt.plot(teacher_lambdas, teacher_acc, label='Teacher Accuracy', marker='o')\n",
    "plt.plot(student_lambdas, student_acc, label='Student Accuracy', marker='o')\n",
    "plt.xlabel('Lambda')\n",
    "plt.ylabel('Accuracy')\n",
    "plt.title('Accuracy Comparison Across Lambdas')\n",
    "plt.legend()\n",
    "plt.show()\n"
   ]
  },
  {
   "cell_type": "code",
   "execution_count": null,
   "id": "cf6d58ea-0417-4a20-bc3f-4b69f15b9452",
   "metadata": {},
   "outputs": [],
   "source": [
    "# Initialize lists to store precisions\n",
    "teacher_precisions = []\n",
    "student_precisions = []\n",
    "lambda_pairs = list(lambda_results.keys())\n",
    "\n",
    "# Iterate over the keys in lambda_results\n",
    "for key in lambda_pairs:\n",
    "    # Check if the key is a tuple (indicating a lambda pair)\n",
    "    if isinstance(key, tuple) and len(key) == 2:\n",
    "        lmda_teacher, lmda_student = key\n",
    "        # Access the precision metrics for each pair\n",
    "        teacher_precision = lambda_results[(lmda_teacher, lmda_student)]['performance_metrics']['metrics']['precision'][0]\n",
    "        student_precision = lambda_results[(lmda_teacher, lmda_student)]['performance_metrics']['metrics']['precision'][1]\n",
    "    else:\n",
    "        # If the key is not a tuple, skip this iteration\n",
    "        continue\n",
    "\n",
    "    # Append precisions to the lists along with lambda values\n",
    "    teacher_precisions.append((lmda_teacher, teacher_precision))\n",
    "    student_precisions.append((lmda_student, student_precision))\n",
    "\n",
    "# To plot, you might need to separate the lambda values and precisions\n",
    "teacher_lambdas, teacher_prec = zip(*teacher_precisions)\n",
    "student_lambdas, student_prec = zip(*student_precisions)\n",
    "\n",
    "# Plotting\n",
    "plt.figure(figsize=(10, 6))\n",
    "plt.plot(teacher_lambdas, teacher_prec, label='Teacher Precision', marker='o')\n",
    "plt.plot(student_lambdas, student_prec, label='Student Precision', marker='o')\n",
    "plt.xlabel('Lambda')\n",
    "plt.ylabel('Precision')\n",
    "plt.title('Precision Comparison Across Lambdas')\n",
    "plt.legend()\n",
    "plt.show()\n"
   ]
  },
  {
   "cell_type": "code",
   "execution_count": null,
   "id": "bf3ee757-c1af-4f1a-85bd-136bc85e6e98",
   "metadata": {},
   "outputs": [],
   "source": [
    "# Initialize lists to store recalls\n",
    "teacher_recalls = []\n",
    "student_recalls = []\n",
    "lambda_pairs = list(lambda_results.keys())\n",
    "\n",
    "# Iterate over the keys in lambda_results\n",
    "for key in lambda_pairs:\n",
    "    # Check if the key is a tuple (indicating a lambda pair)\n",
    "    if isinstance(key, tuple) and len(key) == 2:\n",
    "        lmda_teacher, lmda_student = key\n",
    "        # Access the recall metrics for each pair\n",
    "        teacher_recall = lambda_results[(lmda_teacher, lmda_student)]['performance_metrics']['metrics']['recall'][0]\n",
    "        student_recall = lambda_results[(lmda_teacher, lmda_student)]['performance_metrics']['metrics']['recall'][1]\n",
    "    else:\n",
    "        # If the key is not a tuple, skip this iteration\n",
    "        continue\n",
    "\n",
    "    # Append recalls to the lists along with lambda values\n",
    "    teacher_recalls.append((lmda_teacher, teacher_recall))\n",
    "    student_recalls.append((lmda_student, student_recall))\n",
    "\n",
    "# To plot, you might need to separate the lambda values and recalls\n",
    "teacher_lambdas, teacher_rec = zip(*teacher_recalls)\n",
    "student_lambdas, student_rec = zip(*student_recalls)\n",
    "\n",
    "# Plotting\n",
    "plt.figure(figsize=(10, 6))\n",
    "plt.plot(teacher_lambdas, teacher_rec, label='Teacher Recall', marker='o')\n",
    "plt.plot(student_lambdas, student_rec, label='Student Recall', marker='o')\n",
    "plt.xlabel('Lambda')\n",
    "plt.ylabel('Recall')\n",
    "plt.title('Recall Comparison Across Lambdas')\n",
    "plt.legend()\n",
    "plt.show()\n"
   ]
  },
  {
   "cell_type": "code",
   "execution_count": null,
   "id": "f0d4e93d-9344-49fc-978f-a00d8d8e8eea",
   "metadata": {},
   "outputs": [],
   "source": [
    "# Initialize lists to store F1 scores\n",
    "teacher_f1s = []\n",
    "student_f1s = []\n",
    "lambda_pairs = list(lambda_results.keys())\n",
    "\n",
    "# Iterate over the keys in lambda_results\n",
    "for key in lambda_pairs:\n",
    "    # Check if the key is a tuple (indicating a lambda pair)\n",
    "    if isinstance(key, tuple) and len(key) == 2:\n",
    "        lmda_teacher, lmda_student = key\n",
    "        # Access the F1 scores for each pair\n",
    "        teacher_f1 = lambda_results[(lmda_teacher, lmda_student)]['performance_metrics']['metrics']['f1'][0]\n",
    "        student_f1 = lambda_results[(lmda_teacher, lmda_student)]['performance_metrics']['metrics']['f1'][1]\n",
    "    else:\n",
    "        # If the key is not a tuple, skip this iteration\n",
    "        continue\n",
    "\n",
    "    # Append F1 scores to the lists along with lambda values\n",
    "    teacher_f1s.append((lmda_teacher, teacher_f1))\n",
    "    student_f1s.append((lmda_student, student_f1))\n",
    "\n",
    "# To plot, you might need to separate the lambda values and F1 scores\n",
    "teacher_lambdas, teacher_f1_scores = zip(*teacher_f1s)\n",
    "student_lambdas, student_f1_scores = zip(*student_f1s)\n",
    "\n",
    "# Plotting\n",
    "plt.figure(figsize=(10, 6))\n",
    "plt.plot(teacher_lambdas, teacher_f1_scores, label='Teacher F1 Score', marker='o')\n",
    "plt.plot(student_lambdas, student_f1_scores, label='Student F1 Score', marker='o')\n",
    "plt.xlabel('Lambda')\n",
    "plt.ylabel('F1 Score')\n",
    "plt.title('F1 Score Comparison Across Lambdas')\n",
    "plt.legend()\n",
    "plt.show()\n"
   ]
  },
  {
   "cell_type": "code",
   "execution_count": null,
   "id": "85b769e1-25e1-423c-b77f-af275eb11152",
   "metadata": {},
   "outputs": [],
   "source": [
    "# Initialize lists to store model sizes\n",
    "teacher_sizes = []\n",
    "student_sizes = []\n",
    "lambda_pairs = list(lambda_results.keys())\n",
    "\n",
    "# Iterate over the keys in lambda_results\n",
    "for key in lambda_pairs:\n",
    "    # Check if the key is a tuple (indicating a lambda pair)\n",
    "    if isinstance(key, tuple) and len(key) == 2:\n",
    "        lmda_teacher, lmda_student = key\n",
    "        # Access the model sizes for each pair\n",
    "        teacher_size = lambda_results[(lmda_teacher, lmda_student)]['teacher_params'] / 1e6  # Convert to millions\n",
    "        student_size = lambda_results[(lmda_teacher, lmda_student)]['student_params'] / 1e6\n",
    "    else:\n",
    "        # If the key is not a tuple, skip this iteration\n",
    "        continue\n",
    "\n",
    "    # Append model sizes to the lists along with lambda values\n",
    "    teacher_sizes.append((lmda_teacher, teacher_size))\n",
    "    student_sizes.append((lmda_student, student_size))\n",
    "\n",
    "# To plot, you might need to separate the lambda values and model sizes\n",
    "teacher_lambdas, teacher_model_sizes = zip(*teacher_sizes)\n",
    "student_lambdas, student_model_sizes = zip(*student_sizes)\n",
    "\n",
    "# Plotting\n",
    "plt.figure(figsize=(10, 6))\n",
    "plt.plot(teacher_lambdas, teacher_model_sizes, label='Teacher Model Size', marker='o')\n",
    "plt.plot(student_lambdas, student_model_sizes, label='Student Model Size', marker='o')\n",
    "plt.xlabel('Lambda')\n",
    "plt.ylabel('Model Size (Millions of Parameters)')\n",
    "plt.title('Model Size Comparison Across Lambdas')\n",
    "plt.legend()\n",
    "plt.show()\n"
   ]
  },
  {
   "cell_type": "code",
   "execution_count": null,
   "id": "3c8aae8d-9a0d-45b3-9fc2-c27bc5fcaa5a",
   "metadata": {},
   "outputs": [],
   "source": [
    "# Initialize dictionaries to store inference times for each lambda value\n",
    "teacher_times = {}\n",
    "student_times = {}\n",
    "\n",
    "# Loop through each lambda value\n",
    "for lmda_teacher in lmda_list_teacher:\n",
    "    # Load the teacher model for the current lambda\n",
    "    teacher_model_path = os.path.join(output_dir, f'teacher_model_ckd_wider_lambda{lmda_teacher}.pth')\n",
    "    teacher_model = torch.load(teacher_model_path)\n",
    "\n",
    "    teacher_time, _ = compare_inference_time(teacher_model, None, testloader)\n",
    "    teacher_times[lmda_teacher] = teacher_time  # Store the inference time for the teacher model\n",
    "\n",
    "for lmda_student in lmda_list_student:\n",
    "    # Load the student model for the current lambda\n",
    "    student_model_path = os.path.join(output_dir, f'student_model_ckd_wider_lambda{lmda_student}.pth')\n",
    "    student_model = torch.load(student_model_path)\n",
    "\n",
    "    _, student_time = compare_inference_time(None, student_model, testloader)\n",
    "    student_times[lmda_student] = student_time  # Store the inference time for the student model\n",
    "\n",
    "# Prepare data for plotting\n",
    "teacher_lambdas, teacher_inference_times = zip(*teacher_times.items())\n",
    "student_lambdas, student_inference_times = zip(*student_times.items())\n",
    "\n",
    "plt.figure(figsize=(10, 6))\n",
    "plt.plot(teacher_lambdas, teacher_inference_times, label='Teacher Inference Time', marker='o')\n",
    "plt.plot(student_lambdas, student_inference_times, label='Student Inference Time', marker='o')\n",
    "plt.xlabel('Lambda')\n",
    "plt.ylabel('Inference Time (s)')\n",
    "plt.title('Inference Time Comparison Across Lambdas')\n",
    "plt.legend()\n",
    "plt.show()\n"
   ]
  },
  {
   "cell_type": "code",
   "execution_count": null,
   "id": "6b7cb7f0-12a9-4cec-8188-048c3ffcadad",
   "metadata": {},
   "outputs": [],
   "source": [
    "# Initialize lists to store disparity values\n",
    "teacher_disparities = []\n",
    "student_disparities = []\n",
    "lambda_pairs = list(lambda_results.keys())\n",
    "\n",
    "# Iterate over the keys in lambda_results\n",
    "for key in lambda_pairs:\n",
    "    # Check if it's an integer key (indicating a lambda value for student)\n",
    "    if isinstance(key, int):\n",
    "        # Check and extract teacher disparity if it exists\n",
    "        if 'teacher_mean_abs_val_disparity' in lambda_results[key]:\n",
    "            teacher_disparity = lambda_results[key]['teacher_mean_abs_val_disparity']\n",
    "            if isinstance(teacher_disparity, list):  # Assuming the disparity could be stored as a list\n",
    "                teacher_disparity = teacher_disparity[0]\n",
    "            teacher_disparities.append((key, teacher_disparity))\n",
    "\n",
    "        # Extract student disparity\n",
    "        if 'student_mean_abs_val_disparity' in lambda_results[key]:\n",
    "            student_disparity = lambda_results[key]['student_mean_abs_val_disparity']\n",
    "            student_disparities.append((key, student_disparity))\n",
    "\n",
    "# Separate the lambda values and disparity values\n",
    "teacher_lambdas, teacher_disparity_values = zip(*teacher_disparities) if teacher_disparities else ([], [])\n",
    "student_lambdas, student_disparity_values = zip(*student_disparities) if student_disparities else ([], [])\n",
    "\n",
    "# Plotting\n",
    "plt.figure(figsize=(10, 6))\n",
    "if teacher_disparities:\n",
    "    plt.plot(teacher_lambdas, teacher_disparity_values, label='Teacher Average Disparity', marker='o')\n",
    "if student_disparities:\n",
    "    plt.plot(student_lambdas, student_disparity_values, label='Student Average Disparity', marker='o')\n",
    "plt.xlabel('Lambda')\n",
    "plt.ylabel('Average Disparity')\n",
    "plt.title('Average Disparity Comparison Across Lambdas')\n",
    "plt.legend()\n",
    "plt.show()\n"
   ]
  },
  {
   "cell_type": "code",
   "execution_count": null,
   "id": "ee80376f-d5b1-4008-8099-18693972c15a",
   "metadata": {},
   "outputs": [],
   "source": [
    "def plot_distribution(predictions, class_names, title):\n",
    "    plt.figure(figsize=(6, 4))\n",
    "    sns.countplot(x=predictions)\n",
    "    plt.title(title)\n",
    "    plt.xlabel('Class')\n",
    "    plt.ylabel('Count')\n",
    "    plt.xticks(range(len(class_names)), class_names, rotation=45)\n",
    "    plt.tight_layout()\n",
    "    plt.show()\n",
    "\n",
    "def plot_confusion_matrix(all_labels, predictions, class_names, title):\n",
    "    cm = confusion_matrix(all_labels, predictions)\n",
    "    plt.figure(figsize=(6, 6))\n",
    "    sns.heatmap(pd.DataFrame(cm, index=class_names, columns=class_names), annot=True, fmt='g')\n",
    "    plt.title(title)\n",
    "    plt.ylabel('True Label')\n",
    "    plt.xlabel('Predicted Label')\n",
    "    plt.tight_layout()\n",
    "    plt.show()\n",
    "\n",
    "# Function to generate predictions and compute metrics\n",
    "def generate_predictions_and_metrics(model, dataloader):\n",
    "    model.eval()\n",
    "    all_labels = []\n",
    "    all_preds = []\n",
    "\n",
    "    with torch.no_grad():\n",
    "        for batch in dataloader:\n",
    "            inputs = batch['img'].to(device)\n",
    "            labels = batch['label'].to(device)\n",
    "            \n",
    "            outputs = model(inputs)\n",
    "            preds = torch.argmax(outputs, dim=1).cpu().numpy()\n",
    "            \n",
    "            all_labels.append(labels.cpu().numpy())\n",
    "            all_preds.append(preds)\n",
    "\n",
    "    all_labels = np.concatenate(all_labels)\n",
    "    all_preds = np.concatenate(all_preds)\n",
    "\n",
    "    return all_labels, all_preds\n",
    "\n",
    "# Loop over each lambda value for the teacher model\n",
    "for lmda_teacher in lmda_list_teacher:\n",
    "    # Load the teacher model from the 'output_dir'\n",
    "    teacher_model_path = os.path.join(output_dir, f'teacher_model_ckd_wider_lambda{lmda_teacher}.pth')\n",
    "    teacher_model = torch.load(teacher_model_path)\n",
    "\n",
    "    # Generate predictions for the teacher model\n",
    "    all_labels, all_teacher_preds = generate_predictions_and_metrics(teacher_model, testloader)\n",
    "\n",
    "    # Plot distribution and confusion matrix for the teacher model\n",
    "    plot_distribution(all_teacher_preds, class_names_new, f'Teacher Model Predictions (Lambda={lmda_teacher})')\n",
    "    plot_confusion_matrix(all_labels, all_teacher_preds, class_names_new, f'Teacher Confusion Matrix (Lambda={lmda_teacher})')\n",
    "\n",
    "    # Print classification report for the teacher model\n",
    "    teacher_report = classification_report(all_labels, all_teacher_preds, target_names=class_names_new, zero_division=0)\n",
    "    print(f'Classification Report - Teacher Model (Lambda={lmda_teacher})')\n",
    "    print(teacher_report)\n",
    "\n",
    "# Loop over each lambda value for the student model\n",
    "for lmda_student in lmda_list_student:\n",
    "    # Load the student model from the 'output_dir'\n",
    "    student_model_path = os.path.join(output_dir, f'student_model_ckd_wider_lambda{lmda_student}.pth')\n",
    "    student_model = torch.load(student_model_path)\n",
    "\n",
    "    # Generate predictions for the student model\n",
    "    all_labels, all_student_preds = generate_predictions_and_metrics(student_model, testloader)\n",
    "\n",
    "    # Plot distribution and confusion matrix for the student model\n",
    "    plot_distribution(all_student_preds, class_names_new, f'Student Model Predictions (Lambda={lmda_student})')\n",
    "    plot_confusion_matrix(all_labels, all_student_preds, class_names_new, f'Student Confusion Matrix (Lambda={lmda_student})')\n",
    "\n",
    "    # Print classification report for the student model\n",
    "    student_report = classification_report(all_labels, all_student_preds, target_names=class_names_new, zero_division=0)\n",
    "    print(f'Classification Report - Student Model (Lambda={lmda_student})')\n",
    "    print(student_report)\n"
   ]
  },
  {
   "cell_type": "code",
   "execution_count": null,
   "id": "8cf516d7-2f71-4abd-b904-0e1364cca7ed",
   "metadata": {},
   "outputs": [],
   "source": [
    "def plot_bias_variance_tradeoff(model_results, model_type, lambdas):\n",
    "    bias_values = []\n",
    "    accuracy_values = []\n",
    "\n",
    "    if model_type == 'teacher':\n",
    "        for lmda in lambdas:\n",
    "            if lmda in model_results and 'teacher_mean_abs_val_disparity' in model_results[lmda]:\n",
    "                bias_values.append(model_results[lmda]['teacher_mean_abs_val_disparity'][0])\n",
    "                performance_key = next((key for key in model_results if isinstance(key, tuple) and key[0] == lmda), None)\n",
    "                if performance_key:\n",
    "                    accuracy_values.append(model_results[performance_key]['performance_metrics']['metrics']['accuracy'][0])\n",
    "        model_name = \"Teacher\"\n",
    "    elif model_type == 'student':\n",
    "        for lmda in lambdas:\n",
    "            if lmda in model_results and 'student_mean_abs_val_disparity' in model_results[lmda]:\n",
    "                bias_values.append(model_results[lmda]['student_mean_abs_val_disparity'])\n",
    "                performance_key = next((key for key in model_results if isinstance(key, tuple) and key[1] == lmda), None)\n",
    "                if performance_key:\n",
    "                    accuracy_values.append(model_results[performance_key]['performance_metrics']['metrics']['accuracy'][1])\n",
    "        model_name = \"Student\"\n",
    "    else:\n",
    "        raise ValueError(\"Invalid model type. Choose 'teacher' or 'student'.\")\n",
    "\n",
    "\n",
    "    # Weight for the trade-off (can be adjusted based on preference)\n",
    "    bias_weight = 1\n",
    "\n",
    "    # Calculate the weighted ratio\n",
    "    weighted_ratios = np.array(accuracy_values) / (1 + bias_weight * np.array(bias_values))\n",
    "    closest_to_one_index = np.argmin(np.abs(weighted_ratios - 1))\n",
    "    optimal_bias = bias_values[closest_to_one_index]\n",
    "    optimal_accuracy = accuracy_values[closest_to_one_index]\n",
    "    optimal_ratio = weighted_ratios[closest_to_one_index]\n",
    "\n",
    "    # Plotting the bias-variance trade-off curve\n",
    "    plt.plot(bias_values, accuracy_values, marker='o', linestyle='-', label=f'{model_name} Trade-off Points')\n",
    "\n",
    "    # Mark all points with their lambda values\n",
    "    for i, (bias, acc, lmbda) in enumerate(zip(bias_values, accuracy_values, lambdas)):\n",
    "        plt.annotate(f'λ={lmbda}', (bias, acc), textcoords=\"offset points\", xytext=(0,10), ha='center')\n",
    "\n",
    "    # Highlight the optimal point\n",
    "    plt.scatter(optimal_bias, optimal_accuracy, color='r', s=100, marker='X', label=f'Optimal Point (λ={lambdas[closest_to_one_index]})')\n",
    "    plt.xlabel('Disparity')\n",
    "    plt.ylabel('Accuracy')\n",
    "    plt.title(f'{model_name} Accuracy-Fairness Trade-off Curve')\n",
    "    plt.legend()\n",
    "    plt.show()\n",
    "\n",
    "    # Print optimal values\n",
    "    print(f\"Optimal Lambda for {model_name}: {lambdas[closest_to_one_index]}\")\n",
    "    print(f\"Optimal Bias/Disparity for {model_name}: {optimal_bias}\")\n",
    "    print(f\"Optimal Accuracy for {model_name}: {optimal_accuracy}\")\n",
    "    print(f\"Optimal Weighted Ratio for {model_name}: {optimal_ratio:.2f}\")\n",
    "    \n",
    "# Plot for Teacher\n",
    "plot_bias_variance_tradeoff(lambda_results, 'teacher', lmda_list_teacher)\n",
    "\n",
    "# Plot for Student\n",
    "plot_bias_variance_tradeoff(lambda_results, 'student', lmda_list_student)"
   ]
  },
  {
   "cell_type": "code",
   "execution_count": null,
   "id": "d2fd96b9-a3f7-4f06-9dbd-48c8f4ed8762",
   "metadata": {},
   "outputs": [],
   "source": [
    "def compare_performance_metrics_for_demo(teacher, student, dataloader):\n",
    "    teacher.eval()\n",
    "    student.eval()\n",
    "\n",
    "    detailed_info = []\n",
    "\n",
    "    for batch in dataloader:\n",
    "        inputs = batch['img'].to(device)\n",
    "        labels = batch['label'].to(device)\n",
    "        # Assuming gender or other attributes are part of 'target'\n",
    "        attributes = batch['target'].to(device)  \n",
    "\n",
    "        with torch.no_grad():\n",
    "            teacher_outputs = teacher(inputs)\n",
    "            student_outputs = student(inputs)\n",
    "\n",
    "        teacher_preds = torch.argmax(teacher_outputs, dim=1)\n",
    "        student_preds = torch.argmax(student_outputs, dim=1)\n",
    "\n",
    "        for i in range(inputs.size(0)):\n",
    "            if teacher_preds[i] != labels[i] and student_preds[i] == labels[i]:\n",
    "                info = {\n",
    "                    'image': inputs[i],\n",
    "                    'actual_class': labels[i].item(),\n",
    "                    'teacher_pred_class': teacher_preds[i].item(),\n",
    "                    'student_pred_class': student_preds[i].item(),\n",
    "                    'actual_attribute': attributes[i].item(),  # Modify based on your dataset\n",
    "                    # If your model also predicts attributes, include them here\n",
    "                }\n",
    "                detailed_info.append(info)\n",
    "\n",
    "    return detailed_info"
   ]
  },
  {
   "cell_type": "code",
   "execution_count": null,
   "id": "9697ff7e-e502-47f6-b12c-0883b220e05b",
   "metadata": {},
   "outputs": [],
   "source": [
    "def plot_images_with_details(info_list, rows=5, cols=5):\n",
    "    fig, axes = plt.subplots(rows, cols, figsize=(15, 15))\n",
    "    axes = axes.ravel()\n",
    "\n",
    "    for i in range(rows * cols):\n",
    "        if i < len(info_list):\n",
    "            data = info_list[i]\n",
    "            image = data['image']\n",
    "            actual_class = data['actual_class']\n",
    "            teacher_pred_class = data['teacher_pred_class']\n",
    "            student_pred_class = data['student_pred_class']\n",
    "            actual_attribute = round(data['actual_attribute'], 2)  # Round to 2 decimal places\n",
    "\n",
    "            # Normalize the image for display\n",
    "            image_display = image.cpu().numpy().transpose(1, 2, 0)\n",
    "            image_display = (image_display - image_display.min()) / (image_display.max() - image_display.min())\n",
    "\n",
    "            title = f'Actual: Class {actual_class}, Attr {actual_attribute}\\n' + \\\n",
    "                    f'Teacher: Class {teacher_pred_class}\\n' + \\\n",
    "                    f'Student: Class {student_pred_class}'\n",
    "\n",
    "            axes[i].imshow(image_display)\n",
    "            axes[i].set_title(title)\n",
    "            axes[i].axis('off')\n",
    "        else:\n",
    "            axes[i].axis('off')\n",
    "\n",
    "    plt.subplots_adjust(wspace=0.5)\n",
    "    plt.show()"
   ]
  },
  {
   "cell_type": "code",
   "execution_count": null,
   "id": "b2516587-f2dc-4202-9b2c-11b2e1c4384e",
   "metadata": {},
   "outputs": [],
   "source": [
    "teacher_model_path = os.path.join(output_dir, f'teacher_model_ckd_wider_lambda0.pth')\n",
    "teacher_model = torch.load(teacher_model_path)\n",
    "student_model_path = os.path.join(output_dir, f'student_model_ckd_wider_lambda8.pth')\n",
    "student_model = torch.load(student_model_path)\n",
    "\n",
    "# Get detailed info where student is correct and teacher is wrong\n",
    "detailed_info = compare_performance_metrics_for_demo(teacher_model, student_model, testloader)\n",
    "\n",
    "# Display images with details\n",
    "plot_images_with_details(detailed_info)"
   ]
  },
  {
   "cell_type": "code",
   "execution_count": null,
   "id": "2e24f7ad-a174-4218-b7c5-e6352912de72",
   "metadata": {},
   "outputs": [],
   "source": []
  },
  {
   "cell_type": "code",
   "execution_count": null,
   "id": "abf82b8f-459a-4c7c-8fc1-b857b7d22c1b",
   "metadata": {},
   "outputs": [],
   "source": []
  }
 ],
 "metadata": {
  "kernelspec": {
   "display_name": "Python 3 (ipykernel)",
   "language": "python",
   "name": "python3"
  },
  "language_info": {
   "codemirror_mode": {
    "name": "ipython",
    "version": 3
   },
   "file_extension": ".py",
   "mimetype": "text/x-python",
   "name": "python",
   "nbconvert_exporter": "python",
   "pygments_lexer": "ipython3",
   "version": "3.10.9"
  }
 },
 "nbformat": 4,
 "nbformat_minor": 5
}
