{
 "cells": [
  {
   "cell_type": "code",
   "execution_count": 1,
   "id": "50f79206-feac-4302-abb1-d699b6354a05",
   "metadata": {},
   "outputs": [],
   "source": [
    "import time\n",
    "import torch\n",
    "import json\n",
    "import random\n",
    "import math\n",
    "import warnings\n",
    "import torchvision\n",
    "import os\n",
    "import copy\n",
    "import torchvision.transforms as transforms\n",
    "import torch.nn as nn\n",
    "import torch.nn.functional as F\n",
    "import torch.optim as optim\n",
    "import matplotlib.pyplot as plt\n",
    "import seaborn as sns\n",
    "import numpy as np\n",
    "import pandas as pd\n",
    "\n",
    "from datetime import datetime\n",
    "from tqdm import tqdm\n",
    "from PIL import Image\n",
    "from sklearn import metrics\n",
    "from sklearn.preprocessing import StandardScaler\n",
    "from sklearn.metrics import pairwise_distances_argmin_min, accuracy_score, precision_score, recall_score, f1_score, confusion_matrix, classification_report, precision_recall_fscore_support\n",
    "from sklearn.model_selection import train_test_split, StratifiedKFold\n",
    "from torch.utils.data import Subset, Dataset, DataLoader\n",
    "from torchvision.models import EfficientNet\n",
    "\n",
    "from torchvision.datasets import ImageFolder\n",
    "from utils.loss_functions import tkd_kdloss\n",
    "# from models_package.models import Teacher, Student\n",
    "\n",
    "# Suppress all warnings\n",
    "warnings.filterwarnings(\"ignore\")"
   ]
  },
  {
   "cell_type": "code",
   "execution_count": 2,
   "id": "dc3c0ec8-98dc-4933-b9a3-e96fce39c6b5",
   "metadata": {},
   "outputs": [],
   "source": [
    "# Hyperparameters\n",
    "learning_rate = 0.0005 # 0.096779\n",
    "epochs = 100\n",
    "epochs_pretrain = 3 #3\n",
    "epochs_optimal_lr = 3 #5\n",
    "patience_teacher = 1\n",
    "patience_student = 5\n",
    "temperature = 4.0\n",
    "alpha = 0.9\n",
    "momentum = 0.9\n",
    "step_size = 30\n",
    "gamma = 0.1\n",
    "lmda = 3\n",
    "batch_size = 76\n",
    "num_workers = 4\n",
    "\n",
    "# set to true to use stratified sampling\n",
    "stratified_sampling_flag = False\n",
    "\n",
    "# list of lambda values to loop through for grid search\n",
    "lmda_list_student = [5,3,10,0.5,0]\n",
    "lmda_list_teacher = [0]\n",
    "\n",
    "# labels used including for plotting\n",
    "class_labels = [0, 1, 3, 4, 6, 7, 11, 15, 17, 18, 19, 20, 22, 25, 27, 28, 30, 31, 33, 35, 36, 37, 39, 43, 44, 50, 51, 54, 57, 58]\n",
    "class_labels_new = torch.tensor([i for i in range(len(class_labels))])\n",
    "num_classes = 16 #len(class_labels)\n",
    "class_names_new = [f\"Class {label}\" for label in range(num_classes)]\n",
    "\n",
    "# Create directory and file path to save all outputs\n",
    "output_dir = f'./runs_{datetime.now().strftime(\"%Y_%m_%d_%H_%M\")}'\n",
    "os.makedirs(output_dir, exist_ok=True)"
   ]
  },
  {
   "cell_type": "code",
   "execution_count": 3,
   "id": "a2770eac-10b7-47de-ba06-9aa63cd7ab86",
   "metadata": {},
   "outputs": [],
   "source": [
    "# set device to cuda if available\n",
    "device = torch.device('cuda' if torch.cuda.is_available() else 'cpu')"
   ]
  },
  {
   "cell_type": "code",
   "execution_count": 4,
   "id": "46265942-58a1-4c1a-a7ea-82d919a7e799",
   "metadata": {},
   "outputs": [],
   "source": [
    "# Assuming your JSON file is named 'your_file.json'\n",
    "file_path = './WIDER/Annotations/wider_attribute_trainval.json'\n",
    "\n",
    "with open(file_path, 'r') as file:\n",
    "    # Load the JSON data from the file\n",
    "    data = json.load(file)\n",
    "\n",
    "class_idx = data['scene_id_map']"
   ]
  },
  {
   "cell_type": "code",
   "execution_count": 5,
   "id": "312fa312-b347-4434-862b-d25e32a79108",
   "metadata": {},
   "outputs": [],
   "source": [
    "new_label_mapping = {\n",
    "    0: \"Team_Sports\",\n",
    "    1: \"Celebration\",\n",
    "    2: \"Parade\",\n",
    "    3: \"Waiter_Or_Waitress\",\n",
    "    4: \"Individual_Sports\",\n",
    "    5: \"Surgeons\",\n",
    "    6: \"Spa\",\n",
    "    7: \"Law_Enforcement\",\n",
    "    8: \"Business\",\n",
    "    9: \"Dresses\",\n",
    "    10: \"Water Activities\",\n",
    "    11: \"Picnic\",\n",
    "    12: \"Rescue\",\n",
    "    13: \"Cheering\",\n",
    "    14: \"Performance_And_Entertainment\",\n",
    "    15: \"Family\"\n",
    "}\n",
    "\n",
    "# Ensure that all 16 new classes are covered\n",
    "# If some classes are not explicitly mentioned in new_label_mapping, add them\n",
    "for i in range(16):\n",
    "    if i not in new_label_mapping:\n",
    "        new_label_mapping[i] = \"Additional Category {}\".format(i)\n",
    "\n",
    "class_idx = new_label_mapping"
   ]
  },
  {
   "cell_type": "code",
   "execution_count": 6,
   "id": "8c922f94-bf69-40d5-bc88-1e6fab4b4ed7",
   "metadata": {},
   "outputs": [],
   "source": [
    "class StratifiedBatchSampler:\n",
    "    \"\"\"Stratified batch sampling\n",
    "    Provides equal representation of target classes in each batch\n",
    "    \"\"\"\n",
    "    def __init__(self, y, batch_size, shuffle=True):\n",
    "        if torch.is_tensor(y):\n",
    "            y = y.numpy()\n",
    "        assert len(y.shape) == 1, 'label array must be 1D'\n",
    "        n_batches = int(len(y) / batch_size)\n",
    "        self.skf = StratifiedKFold(n_splits=n_batches, shuffle=shuffle)\n",
    "        self.X = torch.randn(len(y),1).numpy()\n",
    "        self.y = y\n",
    "        self.shuffle = shuffle\n",
    "        self.batch_size = batch_size\n",
    "\n",
    "    def __iter__(self):\n",
    "        if self.shuffle:\n",
    "            self.skf.random_state = torch.randint(0,int(1e8),size=()).item()\n",
    "        for train_idx, test_idx in self.skf.split(self.X, self.y):\n",
    "            yield test_idx\n",
    "\n",
    "    def __len__(self):\n",
    "        return len(self.y)//self.batch_size"
   ]
  },
  {
   "cell_type": "code",
   "execution_count": 7,
   "id": "e1c84514-66c9-4543-8448-cafa751730ff",
   "metadata": {},
   "outputs": [],
   "source": [
    "class DataSet(Dataset):\n",
    "    def __init__(self, ann_files, augs, img_size, dataset):\n",
    "\n",
    "        # Create a mapping from old labels to new labels\n",
    "        self.label_mapping = {old_label: new_label for new_label, old_label in enumerate(sorted(class_labels))}\n",
    "\n",
    "        self.new_label_mapping = {\n",
    "            0: 2,  # Parade\n",
    "            1: 8,  # Business\n",
    "            2: 7,  # Law Enforcement\n",
    "            3: 14,  # Performance and Entertainment\n",
    "            4: 1,  # Celebration\n",
    "            5: 13,  # Cheering\n",
    "            6: 8,  # Business\n",
    "            7: 8,  # Business\n",
    "            8: 1,  # Celebration\n",
    "            9: 14,  # Performance and Entertainment\n",
    "            10: 15, # Family\n",
    "            11: 15, # Family\n",
    "            12: 11, # Picnic\n",
    "            13: 7, # Law Enforcement\n",
    "            14: 6, # Spa\n",
    "            15: 13, # Cheering\n",
    "            16: 5, # Surgeons\n",
    "            17: 3, # Waiter or Waitress\n",
    "            18: 4, # Individual Sports\n",
    "            19: 0, # Team Sports\n",
    "            20: 0, # Team Sports\n",
    "            21: 0, # Team Sports\n",
    "            22: 4, # Individual Sports\n",
    "            23: 10, # Water Activities\n",
    "            24: 4, # Individual Sports\n",
    "            25: 1, # Celebration\n",
    "            26: 9, # Dresses\n",
    "            27: 12, # Rescue\n",
    "            28: 10,# Water Activities\n",
    "            29: 0  # Team Sports\n",
    "        }\n",
    "\n",
    "        \n",
    "        self.dataset = dataset\n",
    "        self.ann_files = ann_files\n",
    "        self.augment = self.augs_function(augs, img_size)\n",
    "        # Initialize transformations directly\n",
    "        self.transform = transforms.Compose(\n",
    "            [\n",
    "                transforms.ToTensor(),\n",
    "                transforms.Normalize(mean=[0, 0, 0], std=[1, 1, 1])\n",
    "            ] \n",
    "        )\n",
    "        if self.dataset == \"wider\":\n",
    "            self.transform = transforms.Compose(\n",
    "                [\n",
    "                    transforms.ToTensor(),\n",
    "                    transforms.Normalize(mean=[0.485, 0.456, 0.406], std=[0.229, 0.224, 0.225])                ] \n",
    "            )        \n",
    "\n",
    "        self.anns = []\n",
    "        self.load_anns()\n",
    "        print(self.augment)\n",
    "\n",
    "    def augs_function(self, augs, img_size):            \n",
    "        t = []\n",
    "        if 'randomflip' in augs:\n",
    "            t.append(transforms.RandomHorizontalFlip())\n",
    "        if 'ColorJitter' in augs:\n",
    "            t.append(transforms.ColorJitter(brightness=0.5, contrast=0.5, saturation=0.5, hue=0))\n",
    "        if 'resizedcrop' in augs:\n",
    "            t.append(transforms.RandomResizedCrop(img_size, scale=(0.7, 1.0)))\n",
    "        if 'RandAugment' in augs:\n",
    "            t.append(transforms.RandAugment())\n",
    "\n",
    "        t.append(transforms.Resize((img_size, img_size)))\n",
    "\n",
    "        return transforms.Compose(t)\n",
    "    \n",
    "    def load_anns(self):\n",
    "        self.anns = []\n",
    "        for ann_file in self.ann_files:\n",
    "            json_data = json.load(open(ann_file, \"r\"))\n",
    "            self.anns += json_data\n",
    "\n",
    "    def __len__(self):\n",
    "        return len(self.anns)\n",
    "\n",
    "    def __getitem__(self, idx):\n",
    "        # Make sure the index is within bounds\n",
    "        idx = idx % len(self)\n",
    "        ann = self.anns[idx]\n",
    "        \n",
    "        try:\n",
    "            # Attempt to open the image file\n",
    "            img = Image.open(f'WIDER/Image/{ann[\"file_name\"]}').convert(\"RGB\")\n",
    "\n",
    "            # If this is the wider dataset, proceed with specific processing\n",
    "            # x, y, w, h = ann['bbox']\n",
    "            # img_area = img.crop([x, y, x+w, y+h])\n",
    "            img_area = self.augment(img)\n",
    "            img_area = self.transform(img_area)\n",
    "            attributes_list = [target['attribute'] for target in ann['targets']]\n",
    "            num_people = len(attributes_list)\n",
    "            attributes_distribution = [max(sum(attribute), 0)/num_people for attribute in zip(*attributes_list)]\n",
    "            # Extract label from image path\n",
    "            img_path = f'WIDER/Image/{ann[\"file_name\"]}'\n",
    "            label = self.extract_label(img_path)  # You might need to implement this method\n",
    "            \n",
    "            return {\n",
    "                \"label\": label,\n",
    "                \"target\": torch.tensor([attributes_distribution[0]], dtype=torch.float32),\n",
    "                \"img\": img_area\n",
    "            }\n",
    "            \n",
    "        except Exception as e:\n",
    "            # If any error occurs during the processing of an image, log the error and the index\n",
    "            print(f\"Error processing image at index {idx}: {e}\")\n",
    "            # Instead of returning None, raise the exception\n",
    "            raise\n",
    "\n",
    "    def extract_label(self, img_path):\n",
    "        original_label = None\n",
    "    \n",
    "        if \"WIDER/Image/train\" in img_path:\n",
    "            label_str = img_path.split(\"WIDER/Image/train/\")[1].split(\"/\")[0]\n",
    "            original_label = int(label_str.split(\"--\")[0])\n",
    "        elif \"WIDER/Image/test\" in img_path:\n",
    "            label_str = img_path.split(\"WIDER/Image/test/\")[1].split(\"/\")[0]\n",
    "            original_label = int(label_str.split(\"--\")[0])\n",
    "        elif \"WIDER/Image/val\" in img_path:  # Handle validation images\n",
    "            label_str = img_path.split(\"WIDER/Image/val/\")[1].split(\"/\")[0]\n",
    "            original_label = int(label_str.split(\"--\")[0])\n",
    "    \n",
    "        if original_label is not None:\n",
    "            remapped_label = self.label_mapping[original_label]\n",
    "            new_label_mapping = self.new_label_mapping[remapped_label]\n",
    "            return new_label_mapping\n",
    "        else:\n",
    "            raise ValueError(f\"Label could not be extracted from path: {img_path}\")\n"
   ]
  },
  {
   "cell_type": "code",
   "execution_count": 8,
   "id": "ea2490c2-046a-4a19-9717-642adbabb732",
   "metadata": {},
   "outputs": [],
   "source": [
    "train_file = ['data/wider/trainval_wider.json']\n",
    "test_file = ['data/wider/test_wider.json']\n"
   ]
  },
  {
   "cell_type": "code",
   "execution_count": 9,
   "id": "012d6bd8-61d5-4a20-845b-689234718508",
   "metadata": {},
   "outputs": [],
   "source": [
    "def custom_collate(batch):\n",
    "    # Filter out any None items in the batch\n",
    "    batch = [item for item in batch if item is not None]\n",
    "    # If after filtering the batch is empty, handle this case by either returning an empty tensor or raising an exception\n",
    "    if len(batch) == 0:\n",
    "        raise ValueError(\"Batch is empty after filtering out None items.\")\n",
    "    return torch.utils.data.dataloader.default_collate(batch)\n"
   ]
  },
  {
   "cell_type": "code",
   "execution_count": 10,
   "id": "8fe2adb5-687d-4055-a108-a9c041836b64",
   "metadata": {},
   "outputs": [
    {
     "name": "stdout",
     "output_type": "stream",
     "text": [
      "Compose(\n",
      "    Resize(size=(226, 226), interpolation=bilinear, max_size=None, antialias=warn)\n",
      ")\n",
      "Compose(\n",
      "    Resize(size=(226, 226), interpolation=bilinear, max_size=None, antialias=warn)\n",
      ")\n"
     ]
    }
   ],
   "source": [
    "train_dataset = DataSet(train_file, augs = [], img_size = 226, dataset = 'wider')\n",
    "test_dataset = DataSet(test_file, augs = [], img_size = 226, dataset = 'wider')\n",
    "\n",
    "\n",
    "if stratified_sampling_flag:\n",
    "    trainloader = DataLoader(train_dataset, \n",
    "                             batch_sampler=StratifiedBatchSampler(torch.tensor([train_dataset[i]['label'] for i in range(len(train_dataset))]), \n",
    "                             batch_size=batch_size), num_workers=num_workers, collate_fn=custom_collate)\n",
    "    testloader = DataLoader(test_dataset, batch_sampler=StratifiedBatchSampler(torch.tensor([test_dataset[i]['label'] for i in range(len(test_dataset))]), \n",
    "                             batch_size=batch_size), num_workers=num_workers, collate_fn=custom_collate)\n",
    "else:\n",
    "    trainloader = DataLoader(train_dataset, batch_size=batch_size, shuffle=True, \n",
    "                             num_workers=num_workers, collate_fn=custom_collate)\n",
    "    testloader = DataLoader(test_dataset, batch_size=batch_size, shuffle=False, num_workers=num_workers, collate_fn=custom_collate)"
   ]
  },
  {
   "cell_type": "code",
   "execution_count": 11,
   "id": "cff90b9a-9e51-4fb9-a343-da49cdc713da",
   "metadata": {},
   "outputs": [
    {
     "data": {
      "text/plain": [
       "10324"
      ]
     },
     "execution_count": 11,
     "metadata": {},
     "output_type": "execute_result"
    }
   ],
   "source": [
    "len(train_dataset)"
   ]
  },
  {
   "cell_type": "markdown",
   "id": "a6d18d4b-a3c0-4c5b-ad75-e74b6b1b7296",
   "metadata": {},
   "source": [
    "# Start Training Process"
   ]
  },
  {
   "cell_type": "code",
   "execution_count": 12,
   "id": "1c37c867-c1d1-438c-ac22-755904ce121e",
   "metadata": {},
   "outputs": [],
   "source": [
    "def one_hot_encode(labels, num_classes):\n",
    "    return np.eye(num_classes)[labels]\n",
    "\n",
    "def calculate_recall_multiclass(conf_matrix):\n",
    "    recalls = np.diag(conf_matrix) / np.sum(conf_matrix, axis=1)\n",
    "    recalls[np.isnan(recalls)] = 0  # Replace NaN with 0\n",
    "    return recalls\n",
    "\n",
    "def evaluate_model_with_gender_multiclass(pred, label, gender, num_classes):\n",
    "    predictions = pred.cpu()\n",
    "    true_labels = label.cpu()\n",
    "    gender = gender.cpu()\n",
    "\n",
    "    # Identify male and female indices based on the gender threshold\n",
    "    male_indices = np.where(gender >= 0.5)[0]\n",
    "    female_indices = np.where(gender < 0.5)[0]\n",
    "\n",
    "    # Convert labels to one-hot encoding\n",
    "    one_hot_labels = one_hot_encode(true_labels, num_classes=num_classes)\n",
    "    one_hot_preds = one_hot_encode(predictions, num_classes=num_classes)\n",
    "    # Initialize recall arrays\n",
    "    male_recall = np.zeros(num_classes)\n",
    "    female_recall = np.zeros(num_classes)\n",
    "\n",
    "    # Extract predictions and labels for male and female indices\n",
    "    male_predictions = np.argmax(one_hot_preds[male_indices], axis=1)\n",
    "    female_predictions = np.argmax(one_hot_preds[female_indices], axis=1)\n",
    "    male_labels = np.argmax(one_hot_labels[male_indices], axis=1)\n",
    "    female_labels = np.argmax(one_hot_labels[female_indices], axis=1)\n",
    "\n",
    "    # Check if the class labels are within the expected range\n",
    "    assert (0 <= male_predictions.min() < num_classes) and (0 <= male_predictions.max() < num_classes), \"Invalid class indices in male predictions\"\n",
    "    assert (0 <= female_predictions.min() < num_classes) and (0 <= female_predictions.max() < num_classes), \"Invalid class indices in female predictions\"\n",
    "    assert (0 <= male_labels.min() < num_classes) and (0 <= male_labels.max() < num_classes), \"Invalid class indices in male labels\"\n",
    "    assert (0 <= female_labels.min() < num_classes) and (0 <= female_labels.max() < num_classes), \"Invalid class indices in female labels\"\n",
    "\n",
    "    # Calculate confusion matrices for each gender\n",
    "    male_conf_matrix = confusion_matrix(male_labels, male_predictions, labels=np.arange(num_classes))\n",
    "    female_conf_matrix = confusion_matrix(female_labels, female_predictions, labels=np.arange(num_classes))\n",
    "\n",
    "    # Calculate recall for each class and gender\n",
    "    male_recall[:len(male_conf_matrix)] = calculate_recall_multiclass(male_conf_matrix)\n",
    "    female_recall[:len(female_conf_matrix)] = calculate_recall_multiclass(female_conf_matrix)\n",
    "\n",
    "    return male_recall - female_recall, male_conf_matrix, female_conf_matrix\n"
   ]
  },
  {
   "cell_type": "code",
   "execution_count": 13,
   "id": "1c6b93cb-37c9-448f-a8d9-424d3c4d40fb",
   "metadata": {},
   "outputs": [],
   "source": [
    "# Instantiate the models\n",
    "###################### Testing 1 ######################\n",
    "# Create instances of your models\n",
    "teacher_model = torchvision.models.efficientnet_b3(weights='DEFAULT')\n",
    "teacher_model.classifier = nn.Linear(1536, num_classes)\n",
    "student_model = torchvision.models.efficientnet_b0(weights='DEFAULT')\n",
    "student_model.classifier = nn.Linear(1280, num_classes)\n",
    "\n",
    "# Load teacher\n",
    "# teacher_model = torch.load('teacher_model_ckd_wider.pth')\n",
    "# teacher_model.load_state_dict(torch.load('teacher_model_weights_ckd_wider.pth'))\n",
    "# torch.save(teacher_model.state_dict(), 'teacher_model_weights_ckd_wider.pth')\n",
    "# # Load the studnet\n",
    "# student_model = torch.load('student_model_ckd_prof.pth')\n",
    "# student_model.load_state_dict(torch.load('student_model_weights_ckd_prof_checkpoint.pth'))\n",
    "# student_model = student_model.to(device)\n"
   ]
  },
  {
   "cell_type": "markdown",
   "id": "ffdcd643-ac9d-4e22-821a-4c784c86e4a5",
   "metadata": {},
   "source": [
    "This is the initialization of the 2-layer Adversary Perceptron. It is initialized with the number of classes*2, which represents the predicted labels (y_hat) and the true labels (y). The output of the final layer is a regression output, which is intended to predict the strength of gender (continuous number where anything past 0.5 is more male).\n"
   ]
  },
  {
   "cell_type": "code",
   "execution_count": 14,
   "id": "836f2993-0505-47c6-85ee-2ad2f45db946",
   "metadata": {},
   "outputs": [],
   "source": [
    "class Adversary(nn.Module):\n",
    "    def __init__(self, input_size=num_classes):\n",
    "        super(Adversary, self).__init__()\n",
    "\n",
    "        self.a1 = nn.Linear(input_size*2, 16)\n",
    "        self.a2 = nn.Linear(16, 1)  # Output size 1 for regression\n",
    "        nn.init.xavier_normal_(self.a1.weight)\n",
    "        nn.init.kaiming_normal_(self.a2.weight, mode='fan_out', nonlinearity='relu')\n",
    "\n",
    "    def forward(self, input_ids):\n",
    "        adversary = F.relu(self.a1(input_ids))\n",
    "        adversary_output = F.sigmoid(self.a2(adversary))  # Linear activation for regression\n",
    "        return adversary_output\n",
    "\n",
    "# Instantiate the Adversary\n",
    "adv = Adversary()"
   ]
  },
  {
   "cell_type": "code",
   "execution_count": 15,
   "id": "a761874d-cc14-482e-9c8c-6342adea3cae",
   "metadata": {},
   "outputs": [],
   "source": [
    "def pretrain_student(student, teacher, trainloader, criterion, optimizer, device, alpha, temperature, epochs_pretrain, patience=patience_student):\n",
    "    teacher.eval()\n",
    "    teacher.to(device)\n",
    "    best_val_loss = float('inf')  \n",
    "    patience_counter = 0 \n",
    "    student_epoch_losses = []\n",
    "    val_losses = []\n",
    "    \n",
    "    for epoch in range(epochs_pretrain):\n",
    "        student.train()\n",
    "        student.to(device)\n",
    "        running_loss = 0.0 \n",
    "        epoch_loss = 0.0  \n",
    "        num_batches = 0  \n",
    "        \n",
    "        for index, data in enumerate(tqdm(trainloader)):\n",
    "\n",
    "            inputs = data['img'].to(device)\n",
    "            labels = data['label'].to(device)\n",
    "            optimizer.zero_grad()\n",
    "            student_outputs = student(inputs)\n",
    "\n",
    "            with torch.no_grad():\n",
    "                teacher_outputs = teacher(inputs)\n",
    "\n",
    "            ce_loss = criterion(student_outputs, labels)\n",
    "            kd_loss = tkd_kdloss(student_outputs, teacher_outputs, temperature=temperature)  # Make sure this returns a scalar\n",
    "            \n",
    "            # If not scalar, sum up to make sure the loss is scalar\n",
    "            if kd_loss.ndim != 0:\n",
    "                kd_loss = kd_loss.sum()\n",
    "                \n",
    "            # Now combine the losses\n",
    "            loss = alpha * kd_loss + (1 - alpha) * ce_loss\n",
    "            loss.backward()\n",
    "            optimizer.step()\n",
    "            running_loss += loss.item()\n",
    "            epoch_loss += loss.item()\n",
    "            num_batches += 1\n",
    "        \n",
    "        epoch_loss /= num_batches\n",
    "        print(f'*******Epoch {epoch}: loss - {epoch_loss}')\n",
    "        student_epoch_losses.append(epoch_loss)\n"
   ]
  },
  {
   "cell_type": "code",
   "execution_count": 16,
   "id": "16f4630d-f0d5-4d83-b61f-8707df8800a6",
   "metadata": {},
   "outputs": [],
   "source": [
    "def pretrain_teacher(teacher, trainloader, criterion, optimizer, device, epochs_pretrain, patience=patience_student):\n",
    "    teacher.to(device)\n",
    "    teacher.train()  # Set the model to training mode\n",
    "    best_val_loss = float('inf')  \n",
    "    patience_counter = 0 \n",
    "    teacher_epoch_losses = []\n",
    "    val_losses = []\n",
    "    \n",
    "    for epoch in range(epochs_pretrain):\n",
    "        running_loss = 0.0 \n",
    "        epoch_loss = 0.0  \n",
    "        num_batches = 0  \n",
    "        \n",
    "        for index, data in enumerate(tqdm(trainloader)):\n",
    "            inputs = data['img'].to(device)\n",
    "            labels = data['label'].to(device)\n",
    "            optimizer.zero_grad()\n",
    "            teacher_outputs = teacher(inputs)\n",
    "\n",
    "            ce_loss = criterion(teacher_outputs, labels)\n",
    "                \n",
    "            loss = ce_loss\n",
    "            loss.backward()\n",
    "            optimizer.step()\n",
    "            running_loss += loss.item()\n",
    "            epoch_loss += loss.item()\n",
    "            num_batches += 1\n",
    "        \n",
    "        epoch_loss /= num_batches\n",
    "        print(f'*******Epoch {epoch}: loss - {epoch_loss}')\n",
    "        teacher_epoch_losses.append(epoch_loss)\n"
   ]
  },
  {
   "cell_type": "code",
   "execution_count": 17,
   "id": "005d66e3-f169-4d59-bc29-b5c0e05816b0",
   "metadata": {},
   "outputs": [],
   "source": [
    "def pretrain_adversary(adv, student, adversary_optimizer, trainloader, adv_criterion, device, epochs_pretrain):\n",
    "\n",
    "  for epoch in range(epochs_pretrain):\n",
    "    epoch_loss = 0\n",
    "    epoch_batches = 0\n",
    "    for i, data in enumerate(tqdm(trainloader)): # starting from the 0th batch\n",
    "        # get the inputs and labels\n",
    "        adv.train()\n",
    "        adv.to(device)\n",
    "        inputs = data['img'].to(device)\n",
    "        labels = data['label'].to(device)\n",
    "        targets = data['target'].to(device)\n",
    "        student = student.to(device)\n",
    "        adversary_optimizer.zero_grad()\n",
    "        student_output = student(inputs)\n",
    "        one_hot_labels = F.one_hot(labels, num_classes=num_classes).to(torch.float32)\n",
    "        concatenated_output = torch.cat((student_output, one_hot_labels), dim=1)\n",
    "        adversary_output = adv(concatenated_output)\n",
    "        adversary_loss = adv_criterion(adversary_output, targets) # compute loss\n",
    "        adversary_loss.backward() # back prop\n",
    "        adversary_optimizer.step()\n",
    "        epoch_loss += adversary_loss.item()\n",
    "        epoch_batches += 1\n",
    "\n",
    "    print(\"Average Pretrain Adversary epoch loss: \", epoch_loss/epoch_batches)\n"
   ]
  },
  {
   "cell_type": "code",
   "execution_count": 18,
   "id": "c7b4731c-f105-4192-9650-6587c46f6e8c",
   "metadata": {},
   "outputs": [],
   "source": [
    "# Optimizer and scheduler for the student model\n",
    "student_optimizer = optim.Adam(student_model.parameters(), lr=learning_rate)\n",
    "\n",
    "# Optimizer and scheduler for the teacher model\n",
    "teacher_optimizer = optim.SGD(teacher_model.parameters(), lr=learning_rate, momentum=momentum)\n",
    "teacher_scheduler = torch.optim.lr_scheduler.StepLR(teacher_optimizer, step_size=step_size, gamma=gamma)\n",
    "\n",
    "optimizer_adv = optim.Adam(adv.parameters(), lr=learning_rate)\n",
    "\n",
    "# Instantiate the model and the loss function\n",
    "criterion_clf = nn.CrossEntropyLoss()\n",
    "adv_criterion = nn.MSELoss()\n"
   ]
  },
  {
   "cell_type": "code",
   "execution_count": 19,
   "id": "411c4f7a-d0b4-478f-9fa5-5e152e08ed14",
   "metadata": {},
   "outputs": [],
   "source": [
    "def plot_loss_curve(losses):\n",
    "    epochs = range(1, len(losses) + 1)\n",
    "    plt.plot(epochs, losses)\n",
    "    plt.xlabel('Epoch')\n",
    "    plt.ylabel('Loss')\n",
    "    plt.title('Val Loss Curve')\n",
    "    plt.show()"
   ]
  },
  {
   "cell_type": "code",
   "execution_count": 20,
   "id": "b4c98aee-9c82-46f8-910b-4ca2ae4b9f3f",
   "metadata": {},
   "outputs": [],
   "source": [
    "# This is the adversary training function, where we input the student outputs, \n",
    "# with the true labels into the adversary model created previously.\n",
    "def train_adversary(adv, model, optimizer, trainloader, criterion, epochs):\n",
    "    best_val_loss = float('inf')\n",
    "    for epoch in range(epochs):\n",
    "        epoch_loss = 0\n",
    "        epoch_batches = 0\n",
    "        for i, data in enumerate(tqdm(trainloader)):\n",
    "            # get the inputs and labels\n",
    "            inputs = data['img'].to(device)\n",
    "            labels = data['label'].to(device)\n",
    "            targets = data['target'].to(device)\n",
    "            model.eval()\n",
    "            model.to(device)\n",
    "            adv.train()\n",
    "            adv.to(device)\n",
    "            optimizer.zero_grad()\n",
    "            # output the student model, join with ohe labels. \n",
    "            model_output = model(inputs)\n",
    "            one_hot_labels = F.one_hot(labels, num_classes=num_classes).to(torch.float32)\n",
    "            concatenated_output = torch.cat((model_output, one_hot_labels), dim=1)\n",
    "            adversary_output = adv(concatenated_output)\n",
    "\n",
    "            adversary_loss = criterion(adversary_output, targets)\n",
    "            adversary_loss.backward()\n",
    "            epoch_loss += adversary_loss.item()\n",
    "            epoch_batches += 1\n",
    "            optimizer.step()\n",
    "        epoch_loss/=epoch_batches\n",
    "        print(\"Average Adversary epoch loss:\", epoch_loss)"
   ]
  },
  {
   "cell_type": "code",
   "execution_count": 21,
   "id": "286386b2-d6e9-447e-95b5-b3dd8f18010b",
   "metadata": {},
   "outputs": [],
   "source": [
    "# Function to train the teacher model\n",
    "\n",
    "\n",
    "def train_teacher(model, adv, trainloader, criterion, adv_criterion, optimizer, optimizer_adv, device, \n",
    "                  epochs, lmda, patience=patience_teacher):\n",
    "\n",
    "    best_val_loss = float('inf')\n",
    "    patience_counter = 0\n",
    "    epoch_losses = [] \n",
    "    val_losses = []\n",
    "    val_disparities = []\n",
    "    val_accuracies = []\n",
    "    best_total_val_loss = float('inf')\n",
    "\n",
    "    for epoch in range(epochs):\n",
    "        model.train()\n",
    "        adv.train()\n",
    "        model.to(device)\n",
    "        adv.to(device)\n",
    "        running_loss = 0.0\n",
    "        epoch_loss = 0.0  \n",
    "        num_batches = 0  \n",
    "        \n",
    "        for index, data in enumerate(tqdm(trainloader)):\n",
    "            inputs = data['img'].to(device)\n",
    "            labels = data['label'].to(device)\n",
    "            targets = data['target'].to(device)\n",
    "        \n",
    "            # Forward pass for teacher model\n",
    "            optimizer.zero_grad()\n",
    "            outputs = model(inputs)\n",
    "            classification_loss = criterion(outputs, labels)\n",
    "        \n",
    "            # Forward pass for adversary model\n",
    "            optimizer_adv.zero_grad()\n",
    "            with torch.no_grad():\n",
    "                teacher_outputs_detached = outputs.detach()\n",
    "            one_hot_labels = F.one_hot(labels, num_classes=num_classes).to(torch.float32)\n",
    "            concatenated_output = torch.cat((teacher_outputs_detached, one_hot_labels), dim=1)\n",
    "            adversary_output = adv(concatenated_output)\n",
    "            adversary_loss = adv_criterion(adversary_output, targets)\n",
    "        \n",
    "            # Calculate the total loss by combining classification and adversary loss\n",
    "            if lmda != 0:\n",
    "                total_loss = classification_loss + classification_loss/adversary_loss - lmda * adversary_loss\n",
    "            else:\n",
    "                total_loss = classification_loss\n",
    "                \n",
    "            total_loss.backward()\n",
    "        \n",
    "            optimizer.step()\n",
    "            optimizer_adv.step()\n",
    "        \n",
    "            running_loss += total_loss.item()\n",
    "            epoch_loss += total_loss.item()\n",
    "            num_batches += 1\n",
    "\n",
    "        epoch_loss /= num_batches  \n",
    "        epoch_losses.append(epoch_loss)\n",
    "\n",
    "        model.eval()\n",
    "        total_correct = 0\n",
    "        total_samples = 0\n",
    "        total_val_loss = 0.0\n",
    "        num_batches = 0\n",
    "        confusion_male = np.zeros((num_classes, num_classes))\n",
    "        confusion_female = np.zeros((num_classes, num_classes))\n",
    "        \n",
    "        with torch.no_grad():\n",
    "            for val_data in tqdm(testloader):\n",
    "                val_inputs = val_data['img'].to(device)\n",
    "                val_labels = val_data['label'].to(device)\n",
    "                val_targets = val_data['target'].to(device)\n",
    "                \n",
    "                val_outputs = model(val_inputs)\n",
    "                with torch.no_grad():\n",
    "                    teacher_outputs_detached_val = val_outputs.detach()                \n",
    "                one_hot_labels_val = F.one_hot(val_labels, num_classes=num_classes).to(torch.float32)\n",
    "                concatenated_output_val = torch.cat((teacher_outputs_detached_val, one_hot_labels_val), dim=1)\n",
    "                adversary_output_val = adv(concatenated_output_val)\n",
    "                adversary_loss_val = adv_criterion(adversary_output_val, val_targets)\n",
    "                \n",
    "                # Compute validation loss\n",
    "                val_ce_loss = criterion(val_outputs, val_labels)\n",
    "\n",
    "                if lmda !=0:\n",
    "                    val_loss = val_ce_loss + val_ce_loss/adversary_loss_val - lmda * adversary_loss_val\n",
    "                else:\n",
    "                    val_loss = val_ce_loss\n",
    "                    \n",
    "                total_val_loss += val_loss.item()\n",
    "\n",
    "                # Compute the validation accuracy\n",
    "                _, predicted = torch.max(val_outputs, 1)\n",
    "                total_samples += val_labels.size(0)\n",
    "                total_correct += (predicted == val_labels).sum().item()\n",
    "                num_batches += 1\n",
    "\n",
    "                # Compute recall differences for gender\n",
    "                recall_diff = evaluate_model_with_gender_multiclass(predicted, val_labels, val_targets, num_classes=num_classes)\n",
    "                confusion_male += recall_diff[1]\n",
    "                confusion_female += recall_diff[2]\n",
    "\n",
    "            total_val_loss /= num_batches\n",
    "            confusion_male /= num_batches\n",
    "            confusion_female /= num_batches\n",
    "            \n",
    "            epoch_disparity = calculate_recall_multiclass(confusion_male) - calculate_recall_multiclass(confusion_female)\n",
    "            val_losses.append(total_val_loss)\n",
    "            non_zero_abs_values = np.abs(epoch_disparity[epoch_disparity != 0])\n",
    "            mean_non_zero_abs_disparity = np.mean(non_zero_abs_values)\n",
    "            val_disparities.append(mean_non_zero_abs_disparity)\n",
    "            accuracy = total_correct / total_samples\n",
    "            val_accuracies.append(accuracy)\n",
    "            print(f'*****Epoch {epoch + 1}/{epochs}*****\\n' \n",
    "            f'*****Train Loss: {epoch_loss: .6f} Val Loss: {total_val_loss: .6f}*****\\n'\n",
    "            f'*****Validation Accuracy: {accuracy * 100:.2f}%*****\\n'\n",
    "            f'*****Total Avg Disparity: {mean_non_zero_abs_disparity}*****\\n')\n",
    "            class_recall_mapping = {class_name: epoch_disparity[int(class_label)] for class_label, class_name in class_idx.items()}\n",
    "            \n",
    "            # Print disparities by class label\n",
    "            for class_label, recall_diff in class_recall_mapping.items():\n",
    "                print(f\"Class {class_label}: Recall Difference = {recall_diff}\")\n",
    "        \n",
    "        # Check for early stopping\n",
    "        if abs(total_val_loss) < abs(best_total_val_loss):\n",
    "            best_total_val_loss = total_val_loss\n",
    "            patience_counter = 0 \n",
    "            best_epoch_mean_abs_disparity = mean_non_zero_abs_disparity\n",
    "            torch.save(model.state_dict(), f'teacher_model_weights_ckd_prof_checkpoint{lmda}.pth')\n",
    "            torch.save(model, f'teacher_model_ckd_prof_checkpoint{lmda}.pth')\n",
    "        else:\n",
    "            patience_counter += 1 \n",
    "\n",
    "        if patience_counter >= patience:\n",
    "            print('Early stopping')\n",
    "            break  \n",
    "        \n",
    "    plot_loss_curve(val_losses)\n",
    "    print(\"Finished Training Teacher\")\n",
    "    return val_disparities\n",
    "\n",
    "\n",
    "# Function to train the student model with knowledge distillation\n",
    "def train_student_with_distillation_disparity(student, teacher, adv, trainloader, testloader, criterion, adv_criterion, optimizer, \n",
    "                                              device, alpha, temperature, epochs, lmda, patience=patience_student, optimizer_adv=None):\n",
    "    teacher.eval()\n",
    "    teacher.to(device)\n",
    "    best_val_accuracy = 0\n",
    "    best_total_val_loss = float('inf')\n",
    "    best_epoch_accuracy = 0.0\n",
    "    best_epoch_disparity = 0.0\n",
    "    patience_counter = 0 \n",
    "    student_epoch_losses = []\n",
    "    val_losses = []\n",
    "    val_disparities = []\n",
    "    val_accuracies = []\n",
    "\n",
    "    for epoch in range(epochs):\n",
    "        if lmda != 0:\n",
    "        # Train the adversary at the start of each epoch\n",
    "            train_adversary(adv, student, optimizer_adv, trainloader, adv_criterion, 1)\n",
    "\n",
    "        student.train()\n",
    "        student.to(device)\n",
    "        adv.eval()\n",
    "        adv.to(device)\n",
    "        running_loss = 0.0 \n",
    "        epoch_loss = 0.0  \n",
    "        num_batches = 0 \n",
    "        confusion_male = np.zeros((num_classes, num_classes))\n",
    "        confusion_female = np.zeros((num_classes, num_classes))\n",
    "\n",
    "        for index, data in enumerate(tqdm(trainloader)):\n",
    "            inputs = data['img'].to(device)\n",
    "            labels = data['label'].to(device)\n",
    "            targets = data['target'].to(device)\n",
    "            optimizer.zero_grad()\n",
    "            student_outputs = student(inputs)\n",
    "            with torch.no_grad():\n",
    "                teacher_outputs = teacher(inputs)\n",
    "\n",
    "            # detach student_outputs to avoid exploding gradients by passing same inputs (with gradience) into two different models. \n",
    "            studentached = student_outputs.detach()\n",
    "            # One-hot encode labels and concatenate with student's predictions\n",
    "            one_hot_labels = F.one_hot(labels, num_classes=num_classes).to(torch.float32)\n",
    "            concatenated_output = torch.cat((studentached, one_hot_labels), dim=1)\n",
    "\n",
    "            # Run the adversarial model on concatenated true labels, and predicted labels\n",
    "            with torch.no_grad():\n",
    "                adversary_output = adv(concatenated_output)\n",
    "\n",
    "            # Calc adversary loss, which is an MSE loss, because this is a regression output. \n",
    "            adversary_loss = adv_criterion(adversary_output, targets)\n",
    "            ce_loss = criterion(student_outputs, labels)\n",
    "            kd_loss = tkd_kdloss(student_outputs, teacher_outputs, temperature=temperature)  # Make sure this returns a scalar\n",
    "            \n",
    "            if kd_loss.ndim != 0:\n",
    "                kd_loss = kd_loss.sum()\n",
    "\n",
    "            # Now combine the losses, subtract weighted adversary loss because we need to maximize that loss \n",
    "            # goal of the model is to have the adversary not predict gender. \n",
    "            if lmda != 0:\n",
    "                loss = (alpha * kd_loss + (1 - alpha) * ce_loss) + (alpha * kd_loss + (1 - alpha) * ce_loss)/adversary_loss - lmda * adversary_loss\n",
    "            else:\n",
    "                loss = alpha * kd_loss + (1 - alpha) * ce_loss\n",
    "                \n",
    "            loss.backward()\n",
    "            optimizer.step()\n",
    "            running_loss += loss.item()\n",
    "            epoch_loss += loss.item()\n",
    "            num_batches += 1\n",
    "\n",
    "        epoch_loss /= num_batches\n",
    "        # print(f'*******Epoch {epoch}: running_recall_with - {running_recall_with/num_batches}  |  running_recall_without - {running_recall_without/num_batches}  |  disparity - {epoch_disparity/num_batches}******')\n",
    "        student_epoch_losses.append(epoch_loss)\n",
    "\n",
    "        student.eval()\n",
    "        total_correct = 0\n",
    "        total_samples = 0\n",
    "        total_val_loss = 0.0\n",
    "        num_batches = 0\n",
    "        # Validation after each epoch\n",
    "        with torch.no_grad():\n",
    "            for val_data in tqdm(testloader):\n",
    "                val_inputs = val_data['img'].to(device)\n",
    "                val_labels = val_data['label'].to(device)\n",
    "                val_targets = val_data['target'].to(device)\n",
    "                \n",
    "                # Forward pass for validation\n",
    "                val_student_outputs = student(val_inputs)\n",
    "                val_teacher_outputs = teacher(val_inputs)\n",
    "\n",
    "                val_studentached = val_student_outputs.detach()   \n",
    "                val_one_hot_labels = F.one_hot(val_labels, num_classes=num_classes).to(torch.float32)\n",
    "                val_concatenated_output = torch.cat((val_studentached, val_one_hot_labels), dim=1)\n",
    "                \n",
    "                val_adversary_output = adv(val_concatenated_output)\n",
    "                val_adversary_loss = adv_criterion(val_adversary_output, val_targets)\n",
    "                val_ce_loss = criterion(val_student_outputs, val_labels)\n",
    "                val_kd_loss = tkd_kdloss(val_student_outputs, val_teacher_outputs, temperature=temperature)  # Make sure this returns a scalar\n",
    "                \n",
    "                if val_kd_loss.ndim != 0:\n",
    "                    val_kd_loss = val_kd_loss.sum()\n",
    "                if lmda != 0:\n",
    "                    val_loss = (alpha * val_kd_loss + (1 - alpha) * val_ce_loss) + (alpha * val_kd_loss + (1 - alpha) * val_ce_loss)/val_adversary_loss - lmda * val_adversary_loss\n",
    "                else:\n",
    "                    val_loss = alpha * val_kd_loss + (1 - alpha) * val_ce_loss\n",
    "                total_val_loss += val_loss.item()\n",
    "    \n",
    "                # Compute the validation accuracy\n",
    "                _, predicted = torch.max(val_student_outputs, 1)\n",
    "                total_samples += val_labels.size(0)\n",
    "                total_correct += (predicted == val_labels).sum().item()\n",
    "                num_batches += 1\n",
    "                recall_diff = evaluate_model_with_gender_multiclass(predicted, val_labels, val_targets, num_classes=num_classes)\n",
    "                confusion_male += recall_diff[1]\n",
    "                confusion_female += recall_diff[2]\n",
    "    \n",
    "            total_val_loss /= num_batches\n",
    "            confusion_male /= num_batches\n",
    "            confusion_female /= num_batches\n",
    "\n",
    "            epoch_disparity = calculate_recall_multiclass(confusion_male) - calculate_recall_multiclass(confusion_female)\n",
    "            val_losses.append(total_val_loss)\n",
    "            non_zero_abs_values = np.abs(epoch_disparity[epoch_disparity != 0])\n",
    "            mean_non_zero_abs_disparity = np.mean(non_zero_abs_values)\n",
    "            val_disparities.append(mean_non_zero_abs_disparity)\n",
    "            accuracy = total_correct / total_samples\n",
    "            val_accuracies.append(accuracy)\n",
    "            print(f'*****Epoch {epoch + 1}/{epochs}*****\\n' \n",
    "            f'*****Train Loss: {epoch_loss: .6f} Val Loss: {total_val_loss: .6f}*****\\n'\n",
    "            f'*****Validation Accuracy: {accuracy * 100:.2f}%*****\\n'\n",
    "            f'*****Total Avg Disparity: {mean_non_zero_abs_disparity}*****\\n')\n",
    "            class_recall_mapping = {class_name: epoch_disparity[int(class_label)] for class_label, class_name in class_idx.items()}\n",
    "            \n",
    "            # Print disparities by class label\n",
    "            for class_label, recall_diff in class_recall_mapping.items():\n",
    "                print(f\"Class {class_label}: Recall Difference = {recall_diff}\")\n",
    "\n",
    "        # Check for early stopping\n",
    "        if abs(total_val_loss) < abs(best_total_val_loss):\n",
    "            best_total_val_loss = total_val_loss\n",
    "            patience_counter = 0\n",
    "            best_epoch_mean_abs_disparity = mean_non_zero_abs_disparity\n",
    "            torch.save(student.state_dict(), f'student_model_weights_ckd_wider_checkpoint_lambda{lmda}.pth')\n",
    "            torch.save(student, f'student_model_ckd_wider_checkpoint_lambda{lmda}.pth')\n",
    "        else:\n",
    "            patience_counter += 1 \n",
    "\n",
    "        if patience_counter >= patience:\n",
    "            print('Early stopping')\n",
    "            break  \n",
    "    \n",
    "        file_path = os.path.join(output_dir, f'validation_{lmda}.txt')\n",
    "        \n",
    "        # Append data to the text file\n",
    "        with open(file_path, 'a') as file:\n",
    "            file.write(f'********Epoch: {epoch}***********')\n",
    "            \n",
    "            file.write(\"Val Accuracies:\\n\")\n",
    "            for accuracy in val_accuracies:\n",
    "                file.write(f\"{accuracy}\\n\")\n",
    "        \n",
    "            file.write(\"\\nVal Disparities:\\n\")\n",
    "            for disparity in val_disparities:\n",
    "                file.write(f\"{disparity}\\n\")\n",
    "\n",
    "            for class_label, recall_diff in class_recall_mapping.items():\n",
    "                file.write(f\"Class {class_label}: Recall Difference = {recall_diff}\\n\")\n",
    "        \n",
    "        \n",
    "        print(f\"Data has been appended to {file_path}\")\n",
    "    plot_loss_curve(val_losses)\n",
    "                \n",
    "    return best_epoch_mean_abs_disparity"
   ]
  },
  {
   "cell_type": "code",
   "execution_count": 22,
   "id": "17a06902-9ad4-47a6-9a67-181e2dc43218",
   "metadata": {},
   "outputs": [
    {
     "name": "stderr",
     "output_type": "stream",
     "text": [
      "100%|█████████████████████████████████████████| 136/136 [01:52<00:00,  1.21it/s]\n",
      "100%|███████████████████████████████████████████| 46/46 [00:18<00:00,  2.46it/s]\n"
     ]
    },
    {
     "name": "stdout",
     "output_type": "stream",
     "text": [
      "*****Epoch 1/100*****\n",
      "*****Train Loss:  0.026808 Val Loss:  2.615523*****\n",
      "*****Validation Accuracy: 61.59%*****\n",
      "*****Total Avg Disparity: 0.13990770830720164*****\n",
      "\n",
      "Class Team_Sports: Recall Difference = 0.06151690313540026\n",
      "Class Celebration: Recall Difference = -0.06744186046511624\n",
      "Class Parade: Recall Difference = 0.0941825005864414\n",
      "Class Waiter_Or_Waitress: Recall Difference = -0.1886524822695036\n",
      "Class Individual_Sports: Recall Difference = -0.12867453574919185\n",
      "Class Surgeons: Recall Difference = 0.05567765567765559\n",
      "Class Spa: Recall Difference = -0.19858156028368795\n",
      "Class Law_Enforcement: Recall Difference = 0.20114942528735635\n",
      "Class Business: Recall Difference = -0.08034953111679455\n",
      "Class Dresses: Recall Difference = -0.7559523809523809\n",
      "Class Water Activities: Recall Difference = 0.11448140900195691\n",
      "Class Picnic: Recall Difference = -0.09259259259259267\n",
      "Class Rescue: Recall Difference = 0.03535882661079093\n",
      "Class Cheering: Recall Difference = 0.004296235679214444\n",
      "Class Performance_And_Entertainment: Recall Difference = 0.04710418238203001\n",
      "Class Family: Recall Difference = -0.11251125112511262\n"
     ]
    },
    {
     "name": "stderr",
     "output_type": "stream",
     "text": [
      "100%|█████████████████████████████████████████| 136/136 [01:51<00:00,  1.22it/s]\n",
      "100%|███████████████████████████████████████████| 46/46 [00:19<00:00,  2.40it/s]\n"
     ]
    },
    {
     "name": "stdout",
     "output_type": "stream",
     "text": [
      "*****Epoch 2/100*****\n",
      "*****Train Loss:  0.019256 Val Loss:  2.489779*****\n",
      "*****Validation Accuracy: 61.62%*****\n",
      "*****Total Avg Disparity: 0.14731622390948404*****\n",
      "\n",
      "Class Team_Sports: Recall Difference = 0.0011327144275123935\n",
      "Class Celebration: Recall Difference = -0.04883720930232571\n",
      "Class Parade: Recall Difference = 0.07694112127609665\n",
      "Class Waiter_Or_Waitress: Recall Difference = -0.13120567375886538\n",
      "Class Individual_Sports: Recall Difference = -0.1144650778136983\n",
      "Class Surgeons: Recall Difference = 0.09010989010989012\n",
      "Class Spa: Recall Difference = -0.39007092198581567\n",
      "Class Law_Enforcement: Recall Difference = 0.23563218390804597\n",
      "Class Business: Recall Difference = -0.051150895140664954\n",
      "Class Dresses: Recall Difference = -0.7559523809523809\n",
      "Class Water Activities: Recall Difference = 0.0639269406392694\n",
      "Class Picnic: Recall Difference = -0.03703703703703709\n",
      "Class Rescue: Recall Difference = 0.06652697747511782\n",
      "Class Cheering: Recall Difference = 0.1059738134206219\n",
      "Class Performance_And_Entertainment: Recall Difference = 0.11113904953482528\n",
      "Class Family: Recall Difference = -0.076957695769577\n"
     ]
    },
    {
     "name": "stderr",
     "output_type": "stream",
     "text": [
      "100%|█████████████████████████████████████████| 136/136 [01:51<00:00,  1.22it/s]\n",
      "100%|███████████████████████████████████████████| 46/46 [00:18<00:00,  2.46it/s]\n"
     ]
    },
    {
     "name": "stdout",
     "output_type": "stream",
     "text": [
      "*****Epoch 3/100*****\n",
      "*****Train Loss:  0.019762 Val Loss:  2.503368*****\n",
      "*****Validation Accuracy: 61.79%*****\n",
      "*****Total Avg Disparity: 0.13028042538147663*****\n",
      "\n",
      "Class Team_Sports: Recall Difference = 0.06959771121620828\n",
      "Class Celebration: Recall Difference = -0.04186046511627911\n",
      "Class Parade: Recall Difference = 0.11013370865587624\n",
      "Class Waiter_Or_Waitress: Recall Difference = -0.021985815602836745\n",
      "Class Individual_Sports: Recall Difference = -0.12863694459063224\n",
      "Class Surgeons: Recall Difference = 0.11575091575091573\n",
      "Class Spa: Recall Difference = -0.28368794326241137\n",
      "Class Law_Enforcement: Recall Difference = 0.1568486590038316\n",
      "Class Business: Recall Difference = -0.026214833759590828\n",
      "Class Dresses: Recall Difference = -0.6845238095238095\n",
      "Class Water Activities: Recall Difference = 0.12165688193085467\n",
      "Class Picnic: Recall Difference = -0.11111111111111116\n",
      "Class Rescue: Recall Difference = 0.0885280251440545\n",
      "Class Cheering: Recall Difference = 0.013911620294599025\n",
      "Class Performance_And_Entertainment: Recall Difference = 0.0992372810326041\n",
      "Class Family: Recall Difference = 0.010801080108010841\n",
      "Early stopping\n"
     ]
    },
    {
     "data": {
      "image/png": "[encoded data removed]",
      "text/plain": [
       "<Figure size 640x480 with 1 Axes>"
      ]
     },
     "metadata": {},
     "output_type": "display_data"
    },
    {
     "name": "stdout",
     "output_type": "stream",
     "text": [
      "Finished Training Teacher\n",
      "Teacher weights and architecture saved and exported for lambda: 0\n"
     ]
    }
   ],
   "source": [
    "# Initialize the dictionary for results\n",
    "lambda_results = {}\n",
    "\n",
    "# Loop for training the teacher model with different lambda values\n",
    "for i in lmda_list_teacher:\n",
    "    # Reset the teacher model for each lambda\n",
    "    # teacher_model = torchvision.models.efficientnet_b3(weights='DEFAULT')    \n",
    "    # # Replace the last fully connected layer with a new one\n",
    "    # teacher_model.classifier = nn.Linear(1536, num_classes)\n",
    "    teacher_model = torch.load('teacher_model_ckd_wider_lambda02.pth')\n",
    "    teacher_model.load_state_dict(torch.load('teacher_model_weights_ckd_wider_lambda02.pth'))\n",
    "    \n",
    "    teacher_optimizer = optim.Adam(teacher_model.parameters(), lr=learning_rate)\n",
    "    \n",
    "    # Initialize the adversary for the teacher\n",
    "    adv = Adversary()\n",
    "    teacher_optimizer_adv = optim.Adam(adv.parameters(), lr=learning_rate)\n",
    "\n",
    "    # pretrain_teacher(teacher_model, trainloader, criterion_clf, teacher_optimizer, device, epochs_pretrain)\n",
    "    # pretrain_adversary(adv, student_model, optimizer_adv, trainloader, adv_criterion, device, epochs_pretrain)\n",
    "    \n",
    "    # Train the teacher model with adversarial training\n",
    "    teacher_mean_abs_val_disparity = train_teacher(teacher_model, adv, trainloader, criterion_clf, adv_criterion, teacher_optimizer, teacher_optimizer_adv, device, epochs, i, patience=patience_teacher)\n",
    "\n",
    "    # Save the teacher model and its state\n",
    "    torch.save(teacher_model.state_dict(), f'teacher_model_weights_ckd_wider_lambda{i}2.pth')\n",
    "    torch.save(teacher_model, f'teacher_model_ckd_wider_lambda{i}2.pth')\n",
    "    print('Teacher weights and architecture saved and exported for lambda:', i)\n",
    "\n",
    "    # Store the teacher results in the dictionary\n",
    "    lambda_results[i] = {\n",
    "        'teacher_mean_abs_val_disparity': teacher_mean_abs_val_disparity\n",
    "    }\n"
   ]
  },
  {
   "cell_type": "code",
   "execution_count": null,
   "id": "f00ed527-6705-4f12-b7af-2c5d0a1e753f",
   "metadata": {},
   "outputs": [
    {
     "name": "stderr",
     "output_type": "stream",
     "text": [
      "100%|█████████████████████████████████████████| 136/136 [01:23<00:00,  1.63it/s]\n"
     ]
    },
    {
     "name": "stdout",
     "output_type": "stream",
     "text": [
      "*******Epoch 0: loss - 1.3681857542080038\n"
     ]
    },
    {
     "name": "stderr",
     "output_type": "stream",
     "text": [
      "100%|█████████████████████████████████████████| 136/136 [01:23<00:00,  1.63it/s]\n"
     ]
    },
    {
     "name": "stdout",
     "output_type": "stream",
     "text": [
      "*******Epoch 1: loss - 0.8469439543345395\n"
     ]
    },
    {
     "name": "stderr",
     "output_type": "stream",
     "text": [
      "100%|█████████████████████████████████████████| 136/136 [01:23<00:00,  1.63it/s]\n"
     ]
    },
    {
     "name": "stdout",
     "output_type": "stream",
     "text": [
      "*******Epoch 2: loss - 0.5747709993053886\n"
     ]
    },
    {
     "name": "stderr",
     "output_type": "stream",
     "text": [
      "100%|█████████████████████████████████████████| 136/136 [01:43<00:00,  1.31it/s]\n"
     ]
    },
    {
     "name": "stdout",
     "output_type": "stream",
     "text": [
      "Average Pretrain Adversary epoch loss:  0.4808885457322878\n"
     ]
    },
    {
     "name": "stderr",
     "output_type": "stream",
     "text": [
      "100%|█████████████████████████████████████████| 136/136 [01:43<00:00,  1.32it/s]\n"
     ]
    },
    {
     "name": "stdout",
     "output_type": "stream",
     "text": [
      "Average Pretrain Adversary epoch loss:  0.4808768275029519\n"
     ]
    },
    {
     "name": "stderr",
     "output_type": "stream",
     "text": [
      "100%|█████████████████████████████████████████| 136/136 [01:43<00:00,  1.32it/s]\n"
     ]
    },
    {
     "name": "stdout",
     "output_type": "stream",
     "text": [
      "Average Pretrain Adversary epoch loss:  0.4807978548547801\n"
     ]
    },
    {
     "name": "stderr",
     "output_type": "stream",
     "text": [
      "100%|█████████████████████████████████████████| 136/136 [00:59<00:00,  2.30it/s]\n"
     ]
    },
    {
     "name": "stdout",
     "output_type": "stream",
     "text": [
      "Average Adversary epoch loss: 0.4297708299230127\n"
     ]
    },
    {
     "name": "stderr",
     "output_type": "stream",
     "text": [
      "100%|█████████████████████████████████████████| 136/136 [01:23<00:00,  1.63it/s]\n",
      "100%|███████████████████████████████████████████| 46/46 [00:19<00:00,  2.33it/s]\n"
     ]
    },
    {
     "name": "stdout",
     "output_type": "stream",
     "text": [
      "*****Epoch 1/100*****\n",
      "*****Train Loss:  0.423079 Val Loss:  2.572659*****\n",
      "*****Validation Accuracy: 60.75%*****\n",
      "*****Total Avg Disparity: 0.15246738928803663*****\n",
      "\n",
      "Class Team_Sports: Recall Difference = 0.02223389969054712\n",
      "Class Celebration: Recall Difference = 0.03720930232558145\n",
      "Class Parade: Recall Difference = 0.034248182031433205\n",
      "Class Waiter_Or_Waitress: Recall Difference = -0.23404255319148926\n",
      "Class Individual_Sports: Recall Difference = -0.1465303360649577\n",
      "Class Surgeons: Recall Difference = 0.038827838827838856\n",
      "Class Spa: Recall Difference = -0.4539007092198583\n",
      "Class Law_Enforcement: Recall Difference = 0.10105363984674309\n",
      "Class Business: Recall Difference = 0.05136402387041772\n",
      "Class Dresses: Recall Difference = -0.6547619047619047\n",
      "Class Water Activities: Recall Difference = 0.18721461187214616\n",
      "Class Picnic: Recall Difference = -0.12962962962962965\n",
      "Class Rescue: Recall Difference = 0.1699842849659507\n",
      "Class Cheering: Recall Difference = -0.006955810147299568\n",
      "Class Performance_And_Entertainment: Recall Difference = 0.10401475148772105\n",
      "Class Family: Recall Difference = -0.0675067506750675\n",
      "Data has been appended to ./runs_2023_12_04_01_26/validation_5.txt\n"
     ]
    },
    {
     "name": "stderr",
     "output_type": "stream",
     "text": [
      "100%|█████████████████████████████████████████| 136/136 [00:59<00:00,  2.29it/s]\n"
     ]
    },
    {
     "name": "stdout",
     "output_type": "stream",
     "text": [
      "Average Adversary epoch loss: 0.380173414507333\n"
     ]
    },
    {
     "name": "stderr",
     "output_type": "stream",
     "text": [
      "100%|█████████████████████████████████████████| 136/136 [01:23<00:00,  1.63it/s]\n",
      "100%|███████████████████████████████████████████| 46/46 [00:20<00:00,  2.30it/s]\n"
     ]
    },
    {
     "name": "stdout",
     "output_type": "stream",
     "text": [
      "*****Epoch 2/100*****\n",
      "*****Train Loss: -0.498943 Val Loss:  2.657269*****\n",
      "*****Validation Accuracy: 62.45%*****\n",
      "*****Total Avg Disparity: 0.12069123966070604*****\n",
      "\n",
      "Class Team_Sports: Recall Difference = 0.018975886027909117\n",
      "Class Celebration: Recall Difference = -0.05813953488372098\n",
      "Class Parade: Recall Difference = 0.0711939948393151\n",
      "Class Waiter_Or_Waitress: Recall Difference = -0.22056737588652475\n",
      "Class Individual_Sports: Recall Difference = -0.13247124276370192\n",
      "Class Surgeons: Recall Difference = -0.10402930402930399\n",
      "Class Spa: Recall Difference = 0.028368794326241065\n",
      "Class Law_Enforcement: Recall Difference = 0.15301724137931028\n",
      "Class Business: Recall Difference = 0.1261722080136402\n",
      "Class Dresses: Recall Difference = -0.5202380952380952\n",
      "Class Water Activities: Recall Difference = 0.12241791693846482\n",
      "Class Picnic: Recall Difference = -0.05555555555555558\n",
      "Class Rescue: Recall Difference = 0.011262441068622286\n",
      "Class Cheering: Recall Difference = -0.027618657937806934\n",
      "Class Performance_And_Entertainment: Recall Difference = 0.0861620987343894\n",
      "Class Family: Recall Difference = -0.19486948694869494\n",
      "Data has been appended to ./runs_2023_12_04_01_26/validation_5.txt\n"
     ]
    },
    {
     "name": "stderr",
     "output_type": "stream",
     "text": [
      "100%|█████████████████████████████████████████| 136/136 [00:59<00:00,  2.30it/s]\n"
     ]
    },
    {
     "name": "stdout",
     "output_type": "stream",
     "text": [
      "Average Adversary epoch loss: 0.37154275562395067\n"
     ]
    },
    {
     "name": "stderr",
     "output_type": "stream",
     "text": [
      "100%|█████████████████████████████████████████| 136/136 [01:23<00:00,  1.63it/s]\n",
      "100%|███████████████████████████████████████████| 46/46 [00:19<00:00,  2.34it/s]\n"
     ]
    },
    {
     "name": "stdout",
     "output_type": "stream",
     "text": [
      "*****Epoch 3/100*****\n",
      "*****Train Loss: -1.019141 Val Loss:  3.382194*****\n",
      "*****Validation Accuracy: 63.03%*****\n",
      "*****Total Avg Disparity: 0.11411234703746623*****\n",
      "\n",
      "Class Team_Sports: Recall Difference = 0.026274303730951187\n",
      "Class Celebration: Recall Difference = -0.013953488372093092\n",
      "Class Parade: Recall Difference = 0.059699741965751674\n",
      "Class Waiter_Or_Waitress: Recall Difference = -0.2673758865248226\n",
      "Class Individual_Sports: Recall Difference = -0.1359672205097362\n",
      "Class Surgeons: Recall Difference = -0.07545787545787541\n",
      "Class Spa: Recall Difference = 0.13475177304964536\n",
      "Class Law_Enforcement: Recall Difference = 0.08764367816091967\n",
      "Class Business: Recall Difference = 0.04688832054560954\n",
      "Class Dresses: Recall Difference = -0.6547619047619048\n",
      "Class Water Activities: Recall Difference = 0.07262448358338769\n",
      "Class Picnic: Recall Difference = -0.03703703703703709\n",
      "Class Rescue: Recall Difference = -0.0036668412781560855\n",
      "Class Cheering: Recall Difference = -0.007978723404255372\n",
      "Class Performance_And_Entertainment: Recall Difference = 0.09370547313720562\n",
      "Class Family: Recall Difference = -0.10801080108010819\n",
      "Data has been appended to ./runs_2023_12_04_01_26/validation_5.txt\n"
     ]
    },
    {
     "name": "stderr",
     "output_type": "stream",
     "text": [
      "100%|█████████████████████████████████████████| 136/136 [00:59<00:00,  2.30it/s]\n"
     ]
    },
    {
     "name": "stdout",
     "output_type": "stream",
     "text": [
      "Average Adversary epoch loss: 0.3707573917858741\n"
     ]
    },
    {
     "name": "stderr",
     "output_type": "stream",
     "text": [
      "100%|█████████████████████████████████████████| 136/136 [01:23<00:00,  1.64it/s]\n",
      "100%|███████████████████████████████████████████| 46/46 [00:19<00:00,  2.31it/s]\n"
     ]
    },
    {
     "name": "stdout",
     "output_type": "stream",
     "text": [
      "*****Epoch 4/100*****\n",
      "*****Train Loss: -1.218129 Val Loss:  2.825983*****\n",
      "*****Validation Accuracy: 64.68%*****\n",
      "*****Total Avg Disparity: 0.15464318601333377*****\n",
      "\n",
      "Class Team_Sports: Recall Difference = 0.0037134349273078016\n",
      "Class Celebration: Recall Difference = -0.018604651162790642\n",
      "Class Parade: Recall Difference = 0.07307060755336614\n",
      "Class Waiter_Or_Waitress: Recall Difference = -0.19929078014184387\n",
      "Class Individual_Sports: Recall Difference = -0.13213292233666651\n",
      "Class Surgeons: Recall Difference = -0.13260073260073257\n",
      "Class Spa: Recall Difference = -0.347517730496454\n",
      "Class Law_Enforcement: Recall Difference = 0.11877394636015315\n",
      "Class Business: Recall Difference = 0.03942881500426254\n",
      "Class Dresses: Recall Difference = -0.6785714285714285\n",
      "Class Water Activities: Recall Difference = 0.06327462491846059\n",
      "Class Picnic: Recall Difference = -0.14814814814814825\n",
      "Class Rescue: Recall Difference = 0.12912519643792558\n",
      "Class Cheering: Recall Difference = 0.04521276595744678\n",
      "Class Performance_And_Entertainment: Recall Difference = 0.09865057413460732\n",
      "Class Family: Recall Difference = -0.24617461746174613\n",
      "Data has been appended to ./runs_2023_12_04_01_26/validation_5.txt\n"
     ]
    },
    {
     "name": "stderr",
     "output_type": "stream",
     "text": [
      "100%|█████████████████████████████████████████| 136/136 [00:58<00:00,  2.33it/s]\n"
     ]
    },
    {
     "name": "stdout",
     "output_type": "stream",
     "text": [
      "Average Adversary epoch loss: 0.33136122695663395\n"
     ]
    },
    {
     "name": "stderr",
     "output_type": "stream",
     "text": [
      "100%|█████████████████████████████████████████| 136/136 [01:23<00:00,  1.63it/s]\n",
      "100%|███████████████████████████████████████████| 46/46 [00:19<00:00,  2.33it/s]\n"
     ]
    },
    {
     "name": "stdout",
     "output_type": "stream",
     "text": [
      "*****Epoch 5/100*****\n",
      "*****Train Loss: -0.723051 Val Loss:  2.436831*****\n",
      "*****Validation Accuracy: 63.55%*****\n",
      "*****Total Avg Disparity: 0.13696790930660793*****\n",
      "\n",
      "Class Team_Sports: Recall Difference = 0.02341332399135876\n",
      "Class Celebration: Recall Difference = 0.0790697674418605\n",
      "Class Parade: Recall Difference = 0.043162092423176146\n",
      "Class Waiter_Or_Waitress: Recall Difference = -0.27234042553191495\n",
      "Class Individual_Sports: Recall Difference = -0.12859935343207285\n",
      "Class Surgeons: Recall Difference = -0.12380952380952387\n",
      "Class Spa: Recall Difference = -0.16312056737588665\n",
      "Class Law_Enforcement: Recall Difference = 0.018438697318007624\n",
      "Class Business: Recall Difference = 0.04241261722080131\n",
      "Class Dresses: Recall Difference = -0.7261904761904763\n",
      "Class Water Activities: Recall Difference = 0.11665579473798637\n",
      "Class Picnic: Recall Difference = -1.1102230246251565e-16\n",
      "Class Rescue: Recall Difference = 0.0785751702462022\n",
      "Class Cheering: Recall Difference = -0.0591243862520458\n",
      "Class Performance_And_Entertainment: Recall Difference = 0.0960523007291928\n",
      "Class Family: Recall Difference = -0.22052205220522064\n",
      "Data has been appended to ./runs_2023_12_04_01_26/validation_5.txt\n"
     ]
    },
    {
     "name": "stderr",
     "output_type": "stream",
     "text": [
      "100%|█████████████████████████████████████████| 136/136 [00:58<00:00,  2.32it/s]\n"
     ]
    },
    {
     "name": "stdout",
     "output_type": "stream",
     "text": [
      "Average Adversary epoch loss: 0.2620132528245449\n"
     ]
    },
    {
     "name": "stderr",
     "output_type": "stream",
     "text": [
      "100%|█████████████████████████████████████████| 136/136 [01:23<00:00,  1.63it/s]\n",
      "100%|███████████████████████████████████████████| 46/46 [00:20<00:00,  2.29it/s]\n"
     ]
    },
    {
     "name": "stdout",
     "output_type": "stream",
     "text": [
      "*****Epoch 6/100*****\n",
      "*****Train Loss: -0.582282 Val Loss:  3.248653*****\n",
      "*****Validation Accuracy: 63.61%*****\n",
      "*****Total Avg Disparity: 0.127143543083767*****\n",
      "\n",
      "Class Team_Sports: Recall Difference = -0.005546797454311747\n",
      "Class Celebration: Recall Difference = -0.018604651162790642\n",
      "Class Parade: Recall Difference = 0.07436077879427627\n",
      "Class Waiter_Or_Waitress: Recall Difference = -0.24468085106382975\n",
      "Class Individual_Sports: Recall Difference = -0.14987594917675373\n",
      "Class Surgeons: Recall Difference = -0.024175824175824145\n",
      "Class Spa: Recall Difference = -0.2624113475177306\n",
      "Class Law_Enforcement: Recall Difference = 0.18031609195402298\n",
      "Class Business: Recall Difference = -0.03580562659846531\n",
      "Class Dresses: Recall Difference = -0.6369047619047619\n",
      "Class Water Activities: Recall Difference = 0.07914764079147651\n",
      "Class Picnic: Recall Difference = -0.07407407407407407\n",
      "Class Rescue: Recall Difference = -0.06364588789942377\n",
      "Class Cheering: Recall Difference = 0.08019639934533557\n",
      "Class Performance_And_Entertainment: Recall Difference = 0.0748470371301651\n",
      "Class Family: Recall Difference = -0.02970297029702962\n",
      "Data has been appended to ./runs_2023_12_04_01_26/validation_5.txt\n"
     ]
    },
    {
     "name": "stderr",
     "output_type": "stream",
     "text": [
      "100%|█████████████████████████████████████████| 136/136 [00:58<00:00,  2.33it/s]\n"
     ]
    },
    {
     "name": "stdout",
     "output_type": "stream",
     "text": [
      "Average Adversary epoch loss: 0.24683596763540716\n"
     ]
    },
    {
     "name": "stderr",
     "output_type": "stream",
     "text": [
      "100%|█████████████████████████████████████████| 136/136 [01:23<00:00,  1.63it/s]\n",
      "100%|███████████████████████████████████████████| 46/46 [00:19<00:00,  2.31it/s]\n"
     ]
    },
    {
     "name": "stdout",
     "output_type": "stream",
     "text": [
      "*****Epoch 7/100*****\n",
      "*****Train Loss: -0.617307 Val Loss:  3.565824*****\n",
      "*****Validation Accuracy: 63.49%*****\n",
      "*****Total Avg Disparity: 0.1549612336444554*****\n",
      "\n",
      "Class Team_Sports: Recall Difference = 0.027453728031762603\n",
      "Class Celebration: Recall Difference = 0.0046511627906977715\n",
      "Class Parade: Recall Difference = 0.11271405113769639\n",
      "Class Waiter_Or_Waitress: Recall Difference = -0.22056737588652475\n",
      "Class Individual_Sports: Recall Difference = -0.15701826930305995\n",
      "Class Surgeons: Recall Difference = -0.07252747252747249\n",
      "Class Spa: Recall Difference = -0.47517730496453897\n",
      "Class Law_Enforcement: Recall Difference = 0.11470306513409956\n",
      "Class Business: Recall Difference = 0.002344416027280416\n",
      "Class Dresses: Recall Difference = -0.7261904761904762\n",
      "Class Water Activities: Recall Difference = 0.12383126766688402\n",
      "Class Picnic: Recall Difference = -0.0185185185185186\n",
      "Class Rescue: Recall Difference = 0.08826610790990047\n",
      "Class Cheering: Recall Difference = -0.044394435351882144\n",
      "Class Performance_And_Entertainment: Recall Difference = 0.10200318498030331\n",
      "Class Family: Recall Difference = -0.18901890189018905\n",
      "Data has been appended to ./runs_2023_12_04_01_26/validation_5.txt\n"
     ]
    },
    {
     "name": "stderr",
     "output_type": "stream",
     "text": [
      "100%|█████████████████████████████████████████| 136/136 [00:59<00:00,  2.29it/s]\n"
     ]
    },
    {
     "name": "stdout",
     "output_type": "stream",
     "text": [
      "Average Adversary epoch loss: 0.24038134011275628\n"
     ]
    },
    {
     "name": "stderr",
     "output_type": "stream",
     "text": [
      "100%|█████████████████████████████████████████| 136/136 [01:23<00:00,  1.63it/s]\n",
      "100%|███████████████████████████████████████████| 46/46 [00:19<00:00,  2.30it/s]\n"
     ]
    },
    {
     "name": "stdout",
     "output_type": "stream",
     "text": [
      "*****Epoch 8/100*****\n",
      "*****Train Loss: -0.578336 Val Loss:  4.015459*****\n",
      "*****Validation Accuracy: 63.92%*****\n",
      "*****Total Avg Disparity: 0.14350752650824836*****\n",
      "\n",
      "Class Team_Sports: Recall Difference = -0.013347346295323081\n",
      "Class Celebration: Recall Difference = -0.006976744186046546\n",
      "Class Parade: Recall Difference = 0.08972554539056998\n",
      "Class Waiter_Or_Waitress: Recall Difference = -0.23120567375886525\n",
      "Class Individual_Sports: Recall Difference = -0.18897075407864072\n",
      "Class Surgeons: Recall Difference = -0.07252747252747255\n",
      "Class Spa: Recall Difference = -0.32624113475177313\n",
      "Class Law_Enforcement: Recall Difference = 0.14583333333333337\n",
      "Class Business: Recall Difference = -0.026001705029837896\n",
      "Class Dresses: Recall Difference = -0.49047619047619045\n",
      "Class Water Activities: Recall Difference = 0.08490976299195463\n",
      "Class Picnic: Recall Difference = -0.12962962962962965\n",
      "Class Rescue: Recall Difference = 0.11000523834468307\n",
      "Class Cheering: Recall Difference = 0.030482815057283175\n",
      "Class Performance_And_Entertainment: Recall Difference = 0.1301651160841506\n",
      "Class Family: Recall Difference = -0.2196219621962196\n",
      "Data has been appended to ./runs_2023_12_04_01_26/validation_5.txt\n"
     ]
    },
    {
     "name": "stderr",
     "output_type": "stream",
     "text": [
      "100%|█████████████████████████████████████████| 136/136 [00:59<00:00,  2.28it/s]\n"
     ]
    },
    {
     "name": "stdout",
     "output_type": "stream",
     "text": [
      "Average Adversary epoch loss: 0.2318610207122915\n"
     ]
    },
    {
     "name": "stderr",
     "output_type": "stream",
     "text": [
      "100%|█████████████████████████████████████████| 136/136 [01:23<00:00,  1.63it/s]\n",
      "100%|███████████████████████████████████████████| 46/46 [00:19<00:00,  2.30it/s]\n"
     ]
    },
    {
     "name": "stdout",
     "output_type": "stream",
     "text": [
      "*****Epoch 9/100*****\n",
      "*****Train Loss: -0.597932 Val Loss:  3.873775*****\n",
      "*****Validation Accuracy: 64.24%*****\n",
      "*****Total Avg Disparity: 0.15192842391296696*****\n",
      "\n",
      "Class Team_Sports: Recall Difference = 0.02195364045075021\n",
      "Class Celebration: Recall Difference = -0.027906976744186074\n",
      "Class Parade: Recall Difference = 0.07248416608022512\n",
      "Class Waiter_Or_Waitress: Recall Difference = -0.14184397163120566\n",
      "Class Individual_Sports: Recall Difference = -0.20302984737989638\n",
      "Class Surgeons: Recall Difference = -0.10109890109890107\n",
      "Class Spa: Recall Difference = -0.16312056737588665\n",
      "Class Law_Enforcement: Recall Difference = 0.1872605363984674\n",
      "Class Business: Recall Difference = -0.026001705029838118\n",
      "Class Dresses: Recall Difference = -0.8154761904761905\n",
      "Class Water Activities: Recall Difference = 0.10219612959338975\n",
      "Class Picnic: Recall Difference = -0.20370370370370366\n",
      "Class Rescue: Recall Difference = 0.11000523834468301\n",
      "Class Cheering: Recall Difference = -0.002454991816693952\n",
      "Class Performance_And_Entertainment: Recall Difference = 0.10200318498030342\n",
      "Class Family: Recall Difference = -0.1503150315031503\n",
      "Data has been appended to ./runs_2023_12_04_01_26/validation_5.txt\n"
     ]
    },
    {
     "name": "stderr",
     "output_type": "stream",
     "text": [
      "100%|█████████████████████████████████████████| 136/136 [00:59<00:00,  2.31it/s]\n"
     ]
    },
    {
     "name": "stdout",
     "output_type": "stream",
     "text": [
      "Average Adversary epoch loss: 0.22083658166229725\n"
     ]
    },
    {
     "name": "stderr",
     "output_type": "stream",
     "text": [
      "100%|█████████████████████████████████████████| 136/136 [01:23<00:00,  1.63it/s]\n",
      "100%|███████████████████████████████████████████| 46/46 [00:19<00:00,  2.35it/s]\n"
     ]
    },
    {
     "name": "stdout",
     "output_type": "stream",
     "text": [
      "*****Epoch 10/100*****\n",
      "*****Train Loss: -0.585128 Val Loss:  4.101579*****\n",
      "*****Validation Accuracy: 64.10%*****\n",
      "*****Total Avg Disparity: 0.12548220837641982*****\n",
      "\n",
      "Class Team_Sports: Recall Difference = 0.048554913294797775\n",
      "Class Celebration: Recall Difference = -0.023255813953488302\n",
      "Class Parade: Recall Difference = 0.05852685901946986\n",
      "Class Waiter_Or_Waitress: Recall Difference = -0.0886524822695034\n",
      "Class Individual_Sports: Recall Difference = -0.15675513119314344\n",
      "Class Surgeons: Recall Difference = -0.021245421245421336\n",
      "Class Spa: Recall Difference = -0.05673758865248235\n",
      "Class Law_Enforcement: Recall Difference = 0.19133141762452088\n",
      "Class Business: Recall Difference = 0.039215686274509776\n",
      "Class Dresses: Recall Difference = -0.7321428571428572\n",
      "Class Water Activities: Recall Difference = 0.06468797564687978\n",
      "Class Picnic: Recall Difference = -0.03703703703703709\n",
      "Class Rescue: Recall Difference = 0.11707700366684132\n",
      "Class Cheering: Recall Difference = 0.046235679214402636\n",
      "Class Performance_And_Entertainment: Recall Difference = 0.16109295113569688\n",
      "Class Family: Recall Difference = -0.1651665166516652\n",
      "Early stopping\n"
     ]
    },
    {
     "data": {
      "image/png": "[encoded data removed]",
      "text/plain": [
       "<Figure size 640x480 with 1 Axes>"
      ]
     },
     "metadata": {},
     "output_type": "display_data"
    },
    {
     "name": "stdout",
     "output_type": "stream",
     "text": [
      "Student weights and architecture saved and exported for lambda: 5\n"
     ]
    },
    {
     "name": "stderr",
     "output_type": "stream",
     "text": [
      "100%|█████████████████████████████████████████| 136/136 [01:23<00:00,  1.63it/s]\n"
     ]
    },
    {
     "name": "stdout",
     "output_type": "stream",
     "text": [
      "*******Epoch 0: loss - 1.3657808860435205\n"
     ]
    },
    {
     "name": "stderr",
     "output_type": "stream",
     "text": [
      "100%|█████████████████████████████████████████| 136/136 [01:23<00:00,  1.63it/s]\n"
     ]
    },
    {
     "name": "stdout",
     "output_type": "stream",
     "text": [
      "*******Epoch 1: loss - 0.8509775132817381\n"
     ]
    },
    {
     "name": "stderr",
     "output_type": "stream",
     "text": [
      "100%|█████████████████████████████████████████| 136/136 [01:23<00:00,  1.63it/s]\n"
     ]
    },
    {
     "name": "stdout",
     "output_type": "stream",
     "text": [
      "*******Epoch 2: loss - 0.5793671507169219\n"
     ]
    },
    {
     "name": "stderr",
     "output_type": "stream",
     "text": [
      "100%|█████████████████████████████████████████| 136/136 [01:43<00:00,  1.32it/s]\n"
     ]
    },
    {
     "name": "stdout",
     "output_type": "stream",
     "text": [
      "Average Pretrain Adversary epoch loss:  0.4212553983225542\n"
     ]
    },
    {
     "name": "stderr",
     "output_type": "stream",
     "text": [
      "100%|█████████████████████████████████████████| 136/136 [01:43<00:00,  1.32it/s]\n"
     ]
    },
    {
     "name": "stdout",
     "output_type": "stream",
     "text": [
      "Average Pretrain Adversary epoch loss:  0.4211034152437659\n"
     ]
    },
    {
     "name": "stderr",
     "output_type": "stream",
     "text": [
      "100%|█████████████████████████████████████████| 136/136 [01:43<00:00,  1.32it/s]\n"
     ]
    },
    {
     "name": "stdout",
     "output_type": "stream",
     "text": [
      "Average Pretrain Adversary epoch loss:  0.4212326569592251\n"
     ]
    },
    {
     "name": "stderr",
     "output_type": "stream",
     "text": [
      "100%|█████████████████████████████████████████| 136/136 [00:59<00:00,  2.29it/s]\n"
     ]
    },
    {
     "name": "stdout",
     "output_type": "stream",
     "text": [
      "Average Adversary epoch loss: 0.3748124420423718\n"
     ]
    },
    {
     "name": "stderr",
     "output_type": "stream",
     "text": [
      "100%|█████████████████████████████████████████| 136/136 [01:23<00:00,  1.63it/s]\n",
      "100%|███████████████████████████████████████████| 46/46 [00:19<00:00,  2.31it/s]\n"
     ]
    },
    {
     "name": "stdout",
     "output_type": "stream",
     "text": [
      "*****Epoch 1/100*****\n",
      "*****Train Loss:  1.492909 Val Loss:  4.509324*****\n",
      "*****Validation Accuracy: 60.26%*****\n",
      "*****Total Avg Disparity: 0.1162980920116349*****\n",
      "\n",
      "Class Team_Sports: Recall Difference = -0.023950487534302733\n",
      "Class Celebration: Recall Difference = -0.05581395348837209\n",
      "Class Parade: Recall Difference = 0.05148956134177807\n",
      "Class Waiter_Or_Waitress: Recall Difference = -0.12907801418439724\n",
      "Class Individual_Sports: Recall Difference = -0.11472821592361482\n",
      "Class Surgeons: Recall Difference = 0.0073260073260073\n",
      "Class Spa: Recall Difference = -0.19858156028368784\n",
      "Class Law_Enforcement: Recall Difference = 0.09650383141762459\n",
      "Class Business: Recall Difference = -0.03900255754475701\n",
      "Class Dresses: Recall Difference = -0.6130952380952381\n",
      "Class Water Activities: Recall Difference = 0.10578386605783874\n",
      "Class Picnic: Recall Difference = -0.11111111111111116\n",
      "Class Rescue: Recall Difference = 0.12912519643792558\n",
      "Class Cheering: Recall Difference = 0.019844517184942734\n",
      "Class Performance_And_Entertainment: Recall Difference = 0.08297711843097805\n",
      "Class Family: Recall Difference = -0.08235823582358226\n",
      "Data has been appended to ./runs_2023_12_04_01_26/validation_3.txt\n"
     ]
    },
    {
     "name": "stderr",
     "output_type": "stream",
     "text": [
      "100%|█████████████████████████████████████████| 136/136 [00:59<00:00,  2.28it/s]\n"
     ]
    },
    {
     "name": "stdout",
     "output_type": "stream",
     "text": [
      "Average Adversary epoch loss: 0.33816353023490486\n"
     ]
    },
    {
     "name": "stderr",
     "output_type": "stream",
     "text": [
      "100%|█████████████████████████████████████████| 136/136 [01:23<00:00,  1.63it/s]\n",
      "100%|███████████████████████████████████████████| 46/46 [00:19<00:00,  2.31it/s]\n"
     ]
    },
    {
     "name": "stdout",
     "output_type": "stream",
     "text": [
      "*****Epoch 2/100*****\n",
      "*****Train Loss:  0.537210 Val Loss:  2.769731*****\n",
      "*****Validation Accuracy: 63.49%*****\n",
      "*****Total Avg Disparity: 0.14548414609789043*****\n",
      "\n",
      "Class Team_Sports: Recall Difference = 0.09007999065802552\n",
      "Class Celebration: Recall Difference = 0.020930232558139583\n",
      "Class Parade: Recall Difference = 0.03870513722730462\n",
      "Class Waiter_Or_Waitress: Recall Difference = -0.20992907801418415\n",
      "Class Individual_Sports: Recall Difference = -0.2313359897752051\n",
      "Class Surgeons: Recall Difference = 0.03003663003663004\n",
      "Class Spa: Recall Difference = -0.32624113475177313\n",
      "Class Law_Enforcement: Recall Difference = 0.03975095785440608\n",
      "Class Business: Recall Difference = 0.0002131287297527651\n",
      "Class Dresses: Recall Difference = -0.6726190476190476\n",
      "Class Water Activities: Recall Difference = 0.13035442487497273\n",
      "Class Picnic: Recall Difference = -0.16666666666666669\n",
      "Class Rescue: Recall Difference = 0.11000523834468307\n",
      "Class Cheering: Recall Difference = -0.07937806873977082\n",
      "Class Performance_And_Entertainment: Recall Difference = 0.08834129578409183\n",
      "Class Family: Recall Difference = -0.0931593159315931\n",
      "Data has been appended to ./runs_2023_12_04_01_26/validation_3.txt\n"
     ]
    },
    {
     "name": "stderr",
     "output_type": "stream",
     "text": [
      "100%|█████████████████████████████████████████| 136/136 [00:58<00:00,  2.31it/s]\n"
     ]
    },
    {
     "name": "stdout",
     "output_type": "stream",
     "text": [
      "Average Adversary epoch loss: 0.3449660700691097\n"
     ]
    },
    {
     "name": "stderr",
     "output_type": "stream",
     "text": [
      "100%|█████████████████████████████████████████| 136/136 [01:23<00:00,  1.63it/s]\n",
      "100%|███████████████████████████████████████████| 46/46 [00:19<00:00,  2.32it/s]\n"
     ]
    },
    {
     "name": "stdout",
     "output_type": "stream",
     "text": [
      "*****Epoch 3/100*****\n",
      "*****Train Loss: -0.120005 Val Loss:  3.294745*****\n",
      "*****Validation Accuracy: 64.04%*****\n",
      "*****Total Avg Disparity: 0.12296703548299753*****\n",
      "\n",
      "Class Team_Sports: Recall Difference = 0.0690371927366149\n",
      "Class Celebration: Recall Difference = -0.07441860465116279\n",
      "Class Parade: Recall Difference = 0.048909218859957804\n",
      "Class Waiter_Or_Waitress: Recall Difference = -0.08581560283687939\n",
      "Class Individual_Sports: Recall Difference = -0.1428088113675665\n",
      "Class Surgeons: Recall Difference = 0.0241758241758242\n",
      "Class Spa: Recall Difference = -0.099290780141844\n",
      "Class Law_Enforcement: Recall Difference = 0.05244252873563193\n",
      "Class Business: Recall Difference = 0.011082693947144007\n",
      "Class Dresses: Recall Difference = -0.555952380952381\n",
      "Class Water Activities: Recall Difference = 0.13318112633181123\n",
      "Class Picnic: Recall Difference = -0.11111111111111116\n",
      "Class Rescue: Recall Difference = 0.13174436877946566\n",
      "Class Cheering: Recall Difference = -0.0889934533551554\n",
      "Class Performance_And_Entertainment: Recall Difference = -0.02212723158159413\n",
      "Class Family: Recall Difference = -0.31638163816381637\n",
      "Data has been appended to ./runs_2023_12_04_01_26/validation_3.txt\n"
     ]
    },
    {
     "name": "stderr",
     "output_type": "stream",
     "text": [
      "100%|█████████████████████████████████████████| 136/136 [00:59<00:00,  2.30it/s]\n"
     ]
    },
    {
     "name": "stdout",
     "output_type": "stream",
     "text": [
      "Average Adversary epoch loss: 0.339280575294705\n"
     ]
    },
    {
     "name": "stderr",
     "output_type": "stream",
     "text": [
      "100%|█████████████████████████████████████████| 136/136 [01:23<00:00,  1.63it/s]\n",
      "100%|███████████████████████████████████████████| 46/46 [00:19<00:00,  2.33it/s]\n"
     ]
    },
    {
     "name": "stdout",
     "output_type": "stream",
     "text": [
      "*****Epoch 4/100*****\n",
      "*****Train Loss: -0.357036 Val Loss:  3.080241*****\n",
      "*****Validation Accuracy: 65.05%*****\n",
      "*****Total Avg Disparity: 0.1333612893900264*****\n",
      "\n",
      "Class Team_Sports: Recall Difference = 0.04647632393297141\n",
      "Class Celebration: Recall Difference = -0.013953488372092981\n",
      "Class Parade: Recall Difference = 0.07823129251700667\n",
      "Class Waiter_Or_Waitress: Recall Difference = -0.11276595744680862\n",
      "Class Individual_Sports: Recall Difference = -0.17107736260431539\n",
      "Class Surgeons: Recall Difference = -0.03003663003663004\n",
      "Class Spa: Recall Difference = -0.05673758865248235\n",
      "Class Law_Enforcement: Recall Difference = 0.09075670498084287\n",
      "Class Business: Recall Difference = -0.10315430520034097\n",
      "Class Dresses: Recall Difference = -0.7321428571428572\n",
      "Class Water Activities: Recall Difference = 0.10219612959338986\n",
      "Class Picnic: Recall Difference = -0.05555555555555558\n",
      "Class Rescue: Recall Difference = 0.19905709795704557\n",
      "Class Cheering: Recall Difference = -0.10065466448445165\n",
      "Class Performance_And_Entertainment: Recall Difference = 0.07266784008046273\n",
      "Class Family: Recall Difference = -0.16831683168316824\n",
      "Data has been appended to ./runs_2023_12_04_01_26/validation_3.txt\n"
     ]
    },
    {
     "name": "stderr",
     "output_type": "stream",
     "text": [
      "100%|█████████████████████████████████████████| 136/136 [00:58<00:00,  2.32it/s]\n"
     ]
    },
    {
     "name": "stdout",
     "output_type": "stream",
     "text": [
      "Average Adversary epoch loss: 0.3315552948590587\n"
     ]
    },
    {
     "name": "stderr",
     "output_type": "stream",
     "text": [
      "100%|█████████████████████████████████████████| 136/136 [01:23<00:00,  1.63it/s]\n",
      "100%|███████████████████████████████████████████| 46/46 [00:20<00:00,  2.26it/s]\n"
     ]
    },
    {
     "name": "stdout",
     "output_type": "stream",
     "text": [
      "*****Epoch 5/100*****\n",
      "*****Train Loss: -0.493837 Val Loss:  3.484866*****\n",
      "*****Validation Accuracy: 65.22%*****\n",
      "*****Total Avg Disparity: 0.11540655221240656*****\n",
      "\n",
      "Class Team_Sports: Recall Difference = 0.032895428271150884\n",
      "Class Celebration: Recall Difference = -0.0023255813953486637\n",
      "Class Parade: Recall Difference = 0.11142387989678626\n",
      "Class Waiter_Or_Waitress: Recall Difference = -0.13404255319148917\n",
      "Class Individual_Sports: Recall Difference = -0.11435230433801968\n",
      "Class Surgeons: Recall Difference = 0.027106227106227065\n",
      "Class Spa: Recall Difference = -0.099290780141844\n",
      "Class Law_Enforcement: Recall Difference = 0.1357758620689653\n",
      "Class Business: Recall Difference = -0.02493606138107418\n",
      "Class Dresses: Recall Difference = -0.538095238095238\n",
      "Class Water Activities: Recall Difference = 0.15775168514894544\n",
      "Class Picnic: Recall Difference = -0.05555555555555558\n",
      "Class Rescue: Recall Difference = 0.21843897328444217\n",
      "Class Cheering: Recall Difference = -0.0008183306055646877\n",
      "Class Performance_And_Entertainment: Recall Difference = 0.019528958176179667\n",
      "Class Family: Recall Difference = -0.1741674167416743\n",
      "Data has been appended to ./runs_2023_12_04_01_26/validation_3.txt\n"
     ]
    },
    {
     "name": "stderr",
     "output_type": "stream",
     "text": [
      "100%|█████████████████████████████████████████| 136/136 [00:59<00:00,  2.27it/s]\n"
     ]
    },
    {
     "name": "stdout",
     "output_type": "stream",
     "text": [
      "Average Adversary epoch loss: 0.31497945647467585\n"
     ]
    },
    {
     "name": "stderr",
     "output_type": "stream",
     "text": [
      "100%|█████████████████████████████████████████| 136/136 [01:23<00:00,  1.63it/s]\n",
      "100%|███████████████████████████████████████████| 46/46 [00:20<00:00,  2.30it/s]\n"
     ]
    },
    {
     "name": "stdout",
     "output_type": "stream",
     "text": [
      "*****Epoch 6/100*****\n",
      "*****Train Loss: -0.500920 Val Loss:  3.054594*****\n",
      "*****Validation Accuracy: 64.96%*****\n",
      "*****Total Avg Disparity: 0.16993543114268916*****\n",
      "\n",
      "Class Team_Sports: Recall Difference = 0.04473638115256651\n",
      "Class Celebration: Recall Difference = -0.032558139534883734\n",
      "Class Parade: Recall Difference = 0.09359605911330049\n",
      "Class Waiter_Or_Waitress: Recall Difference = -0.2326241134751773\n",
      "Class Individual_Sports: Recall Difference = -0.12145703330576663\n",
      "Class Surgeons: Recall Difference = -0.03296703296703296\n",
      "Class Spa: Recall Difference = -0.39007092198581567\n",
      "Class Law_Enforcement: Recall Difference = 0.13553639846743293\n",
      "Class Business: Recall Difference = 0.013213981244671769\n",
      "Class Dresses: Recall Difference = -0.7321428571428571\n",
      "Class Water Activities: Recall Difference = 0.16133942161339432\n",
      "Class Picnic: Recall Difference = -0.11111111111111116\n",
      "Class Rescue: Recall Difference = 0.19669984284965947\n",
      "Class Cheering: Recall Difference = -0.07119476268412445\n",
      "Class Performance_And_Entertainment: Recall Difference = 0.07384125387645635\n",
      "Class Family: Recall Difference = -0.2758775877587758\n",
      "Data has been appended to ./runs_2023_12_04_01_26/validation_3.txt\n"
     ]
    },
    {
     "name": "stderr",
     "output_type": "stream",
     "text": [
      "100%|█████████████████████████████████████████| 136/136 [00:59<00:00,  2.27it/s]\n"
     ]
    },
    {
     "name": "stdout",
     "output_type": "stream",
     "text": [
      "Average Adversary epoch loss: 0.27558905872351985\n"
     ]
    },
    {
     "name": "stderr",
     "output_type": "stream",
     "text": [
      "100%|█████████████████████████████████████████| 136/136 [01:23<00:00,  1.63it/s]\n",
      "100%|███████████████████████████████████████████| 46/46 [00:20<00:00,  2.28it/s]\n"
     ]
    },
    {
     "name": "stdout",
     "output_type": "stream",
     "text": [
      "*****Epoch 7/100*****\n",
      "*****Train Loss: -0.044108 Val Loss:  4.539634*****\n",
      "*****Validation Accuracy: 63.69%*****\n",
      "*****Total Avg Disparity: 0.1464862137095571*****\n",
      "\n",
      "Class Team_Sports: Recall Difference = 0.07021661703742621\n",
      "Class Celebration: Recall Difference = -0.041860465116279055\n",
      "Class Parade: Recall Difference = 0.07752756274923767\n",
      "Class Waiter_Or_Waitress: Recall Difference = -0.24184397163120563\n",
      "Class Individual_Sports: Recall Difference = -0.1712277272385535\n",
      "Class Surgeons: Recall Difference = -0.03003663003663004\n",
      "Class Spa: Recall Difference = -0.099290780141844\n",
      "Class Law_Enforcement: Recall Difference = 0.08045977011494254\n",
      "Class Business: Recall Difference = -0.06734867860187554\n",
      "Class Dresses: Recall Difference = -0.7380952380952379\n",
      "Class Water Activities: Recall Difference = 0.11230702326592734\n",
      "Class Picnic: Recall Difference = 0.0\n",
      "Class Rescue: Recall Difference = 0.13436354112100574\n",
      "Class Cheering: Recall Difference = 0.0006137479541734603\n",
      "Class Performance_And_Entertainment: Recall Difference = 0.07107534992875703\n",
      "Class Family: Recall Difference = -0.2610261026102611\n",
      "Early stopping\n"
     ]
    },
    {
     "data": {
      "image/png": "[encoded data removed]",
      "text/plain": [
       "<Figure size 640x480 with 1 Axes>"
      ]
     },
     "metadata": {},
     "output_type": "display_data"
    },
    {
     "name": "stdout",
     "output_type": "stream",
     "text": [
      "Student weights and architecture saved and exported for lambda: 3\n"
     ]
    },
    {
     "name": "stderr",
     "output_type": "stream",
     "text": [
      "100%|█████████████████████████████████████████| 136/136 [01:23<00:00,  1.63it/s]\n"
     ]
    },
    {
     "name": "stdout",
     "output_type": "stream",
     "text": [
      "*******Epoch 0: loss - 1.3586485683918\n"
     ]
    },
    {
     "name": "stderr",
     "output_type": "stream",
     "text": [
      "100%|█████████████████████████████████████████| 136/136 [01:23<00:00,  1.63it/s]\n"
     ]
    },
    {
     "name": "stdout",
     "output_type": "stream",
     "text": [
      "*******Epoch 1: loss - 0.8464105273870861\n"
     ]
    },
    {
     "name": "stderr",
     "output_type": "stream",
     "text": [
      "100%|█████████████████████████████████████████| 136/136 [01:23<00:00,  1.63it/s]\n"
     ]
    },
    {
     "name": "stdout",
     "output_type": "stream",
     "text": [
      "*******Epoch 2: loss - 0.580304001841475\n"
     ]
    },
    {
     "name": "stderr",
     "output_type": "stream",
     "text": [
      "100%|█████████████████████████████████████████| 136/136 [01:41<00:00,  1.33it/s]\n"
     ]
    },
    {
     "name": "stdout",
     "output_type": "stream",
     "text": [
      "Average Pretrain Adversary epoch loss:  0.4754543799687834\n"
     ]
    },
    {
     "name": "stderr",
     "output_type": "stream",
     "text": [
      "100%|█████████████████████████████████████████| 136/136 [01:41<00:00,  1.34it/s]\n"
     ]
    },
    {
     "name": "stdout",
     "output_type": "stream",
     "text": [
      "Average Pretrain Adversary epoch loss:  0.4754363026689081\n"
     ]
    },
    {
     "name": "stderr",
     "output_type": "stream",
     "text": [
      "100%|█████████████████████████████████████████| 136/136 [01:41<00:00,  1.33it/s]\n"
     ]
    },
    {
     "name": "stdout",
     "output_type": "stream",
     "text": [
      "Average Pretrain Adversary epoch loss:  0.4754757125149755\n"
     ]
    },
    {
     "name": "stderr",
     "output_type": "stream",
     "text": [
      "100%|█████████████████████████████████████████| 136/136 [00:59<00:00,  2.29it/s]\n"
     ]
    },
    {
     "name": "stdout",
     "output_type": "stream",
     "text": [
      "Average Adversary epoch loss: 0.36696670160574074\n"
     ]
    },
    {
     "name": "stderr",
     "output_type": "stream",
     "text": [
      "100%|█████████████████████████████████████████| 136/136 [01:23<00:00,  1.63it/s]\n",
      "100%|███████████████████████████████████████████| 46/46 [00:20<00:00,  2.29it/s]\n"
     ]
    },
    {
     "name": "stdout",
     "output_type": "stream",
     "text": [
      "*****Epoch 1/100*****\n",
      "*****Train Loss: -0.091519 Val Loss:  1.145512*****\n",
      "*****Validation Accuracy: 60.58%*****\n",
      "*****Total Avg Disparity: 0.13413417014025597*****\n",
      "\n",
      "Class Team_Sports: Recall Difference = 0.04429263735622124\n",
      "Class Celebration: Recall Difference = -0.07209302325581396\n",
      "Class Parade: Recall Difference = 0.21944639924935483\n",
      "Class Waiter_Or_Waitress: Recall Difference = -0.19929078014184387\n",
      "Class Individual_Sports: Recall Difference = -0.09683482444928959\n",
      "Class Surgeons: Recall Difference = -0.03296703296703296\n",
      "Class Spa: Recall Difference = 0.028368794326241176\n",
      "Class Law_Enforcement: Recall Difference = 0.08022030651340994\n",
      "Class Business: Recall Difference = 0.04028132992327366\n",
      "Class Dresses: Recall Difference = -0.6607142857142857\n",
      "Class Water Activities: Recall Difference = 0.09860839312894087\n",
      "Class Picnic: Recall Difference = -0.14814814814814825\n",
      "Class Rescue: Recall Difference = 0.17731796752226298\n",
      "Class Cheering: Recall Difference = -0.13461538461538464\n",
      "Class Performance_And_Entertainment: Recall Difference = 0.047690889280026794\n",
      "Class Family: Recall Difference = -0.06525652565256512\n",
      "Data has been appended to ./runs_2023_12_04_01_26/validation_10.txt\n"
     ]
    },
    {
     "name": "stderr",
     "output_type": "stream",
     "text": [
      "100%|█████████████████████████████████████████| 136/136 [00:58<00:00,  2.31it/s]\n"
     ]
    },
    {
     "name": "stdout",
     "output_type": "stream",
     "text": [
      "Average Adversary epoch loss: 0.2793692896033035\n"
     ]
    },
    {
     "name": "stderr",
     "output_type": "stream",
     "text": [
      "100%|█████████████████████████████████████████| 136/136 [01:23<00:00,  1.63it/s]\n",
      "100%|███████████████████████████████████████████| 46/46 [00:19<00:00,  2.33it/s]\n"
     ]
    },
    {
     "name": "stdout",
     "output_type": "stream",
     "text": [
      "*****Epoch 2/100*****\n",
      "*****Train Loss: -1.078872 Val Loss:  1.029957*****\n",
      "*****Validation Accuracy: 63.69%*****\n",
      "*****Total Avg Disparity: 0.15222923239970707*****\n",
      "\n",
      "Class Team_Sports: Recall Difference = 0.08435803117884066\n",
      "Class Celebration: Recall Difference = 0.011627906976744262\n",
      "Class Parade: Recall Difference = 0.08397841895378833\n",
      "Class Waiter_Or_Waitress: Recall Difference = -0.2191489361702128\n",
      "Class Individual_Sports: Recall Difference = -0.17821968273062183\n",
      "Class Surgeons: Recall Difference = -0.02417582417582409\n",
      "Class Spa: Recall Difference = -0.4539007092198583\n",
      "Class Law_Enforcement: Recall Difference = 0.09458812260536398\n",
      "Class Business: Recall Difference = -0.031543052003410066\n",
      "Class Dresses: Recall Difference = -0.7142857142857143\n",
      "Class Water Activities: Recall Difference = 0.09143292020004357\n",
      "Class Picnic: Recall Difference = -0.14814814814814825\n",
      "Class Rescue: Recall Difference = 0.03535882661079098\n",
      "Class Cheering: Recall Difference = -0.02270867430441903\n",
      "Class Performance_And_Entertainment: Recall Difference = 0.07702623417986759\n",
      "Class Family: Recall Difference = -0.1651665166516652\n",
      "Data has been appended to ./runs_2023_12_04_01_26/validation_10.txt\n"
     ]
    },
    {
     "name": "stderr",
     "output_type": "stream",
     "text": [
      "100%|█████████████████████████████████████████| 136/136 [00:58<00:00,  2.32it/s]\n"
     ]
    },
    {
     "name": "stdout",
     "output_type": "stream",
     "text": [
      "Average Adversary epoch loss: 0.2678472737179083\n"
     ]
    },
    {
     "name": "stderr",
     "output_type": "stream",
     "text": [
      "100%|█████████████████████████████████████████| 136/136 [01:23<00:00,  1.63it/s]\n",
      "100%|███████████████████████████████████████████| 46/46 [00:20<00:00,  2.27it/s]\n"
     ]
    },
    {
     "name": "stdout",
     "output_type": "stream",
     "text": [
      "*****Epoch 3/100*****\n",
      "*****Train Loss: -1.594940 Val Loss:  1.570928*****\n",
      "*****Validation Accuracy: 63.92%*****\n",
      "*****Total Avg Disparity: 0.1372595381961867*****\n",
      "\n",
      "Class Team_Sports: Recall Difference = 0.035476148770946514\n",
      "Class Celebration: Recall Difference = -0.05348837209302315\n",
      "Class Parade: Recall Difference = 0.09230588787239036\n",
      "Class Waiter_Or_Waitress: Recall Difference = -0.19929078014184398\n",
      "Class Individual_Sports: Recall Difference = -0.1144274866551388\n",
      "Class Surgeons: Recall Difference = 0.06739926739926738\n",
      "Class Spa: Recall Difference = 0.17730496453900702\n",
      "Class Law_Enforcement: Recall Difference = 0.14583333333333337\n",
      "Class Business: Recall Difference = 0.03601875532821819\n",
      "Class Dresses: Recall Difference = -0.7261904761904762\n",
      "Class Water Activities: Recall Difference = 0.13394216133942172\n",
      "Class Picnic: Recall Difference = -0.09259259259259267\n",
      "Class Rescue: Recall Difference = 0.07150340492404395\n",
      "Class Cheering: Recall Difference = 0.005728314238952592\n",
      "Class Performance_And_Entertainment: Recall Difference = 0.07543374402816194\n",
      "Class Family: Recall Difference = -0.16921692169216923\n",
      "Data has been appended to ./runs_2023_12_04_01_26/validation_10.txt\n"
     ]
    },
    {
     "name": "stderr",
     "output_type": "stream",
     "text": [
      "100%|█████████████████████████████████████████| 136/136 [00:59<00:00,  2.30it/s]\n"
     ]
    },
    {
     "name": "stdout",
     "output_type": "stream",
     "text": [
      "Average Adversary epoch loss: 0.2554785458042341\n"
     ]
    },
    {
     "name": "stderr",
     "output_type": "stream",
     "text": [
      "100%|█████████████████████████████████████████| 136/136 [01:23<00:00,  1.63it/s]\n",
      "100%|███████████████████████████████████████████| 46/46 [00:20<00:00,  2.30it/s]\n"
     ]
    },
    {
     "name": "stdout",
     "output_type": "stream",
     "text": [
      "*****Epoch 4/100*****\n",
      "*****Train Loss: -1.635982 Val Loss:  1.560636*****\n",
      "*****Validation Accuracy: 64.18%*****\n",
      "*****Total Avg Disparity: 0.15659224441364522*****\n",
      "\n",
      "Class Team_Sports: Recall Difference = 0.04277456647398836\n",
      "Class Celebration: Recall Difference = 0.06279069767441858\n",
      "Class Parade: Recall Difference = 0.05524278676988026\n",
      "Class Waiter_Or_Waitress: Recall Difference = -0.2872340425531914\n",
      "Class Individual_Sports: Recall Difference = -0.0859333884670328\n",
      "Class Surgeons: Recall Difference = -0.018315018315018305\n",
      "Class Spa: Recall Difference = -0.30496453900709225\n",
      "Class Law_Enforcement: Recall Difference = 0.14966475095785436\n",
      "Class Business: Recall Difference = -0.05434782608695654\n",
      "Class Dresses: Recall Difference = -0.7202380952380953\n",
      "Class Water Activities: Recall Difference = 0.13394216133942138\n",
      "Class Picnic: Recall Difference = 0.0\n",
      "Class Rescue: Recall Difference = 0.13174436877946566\n",
      "Class Cheering: Recall Difference = -0.056055646481178445\n",
      "Class Performance_And_Entertainment: Recall Difference = 0.15832704718799762\n",
      "Class Family: Recall Difference = -0.08730873087308721\n",
      "Data has been appended to ./runs_2023_12_04_01_26/validation_10.txt\n"
     ]
    },
    {
     "name": "stderr",
     "output_type": "stream",
     "text": [
      "100%|█████████████████████████████████████████| 136/136 [00:59<00:00,  2.29it/s]\n"
     ]
    },
    {
     "name": "stdout",
     "output_type": "stream",
     "text": [
      "Average Adversary epoch loss: 0.2489907094003523\n"
     ]
    },
    {
     "name": "stderr",
     "output_type": "stream",
     "text": [
      "100%|█████████████████████████████████████████| 136/136 [01:23<00:00,  1.63it/s]\n",
      "100%|███████████████████████████████████████████| 46/46 [00:20<00:00,  2.28it/s]\n"
     ]
    },
    {
     "name": "stdout",
     "output_type": "stream",
     "text": [
      "*****Epoch 5/100*****\n",
      "*****Train Loss: -1.852895 Val Loss:  1.908546*****\n",
      "*****Validation Accuracy: 64.13%*****\n",
      "*****Total Avg Disparity: 0.12030998839671204*****\n",
      "\n",
      "Class Team_Sports: Recall Difference = 0.042938051030536384\n",
      "Class Celebration: Recall Difference = -0.025581395348837188\n",
      "Class Parade: Recall Difference = 0.050199390100867936\n",
      "Class Waiter_Or_Waitress: Recall Difference = -0.16312056737588643\n",
      "Class Individual_Sports: Recall Difference = -0.19592511841214955\n",
      "Class Surgeons: Recall Difference = 0.0644688644688644\n",
      "Class Spa: Recall Difference = -0.03546099290780136\n",
      "Class Law_Enforcement: Recall Difference = 0.15660919540229878\n",
      "Class Business: Recall Difference = -0.031329923273657245\n",
      "Class Dresses: Recall Difference = -0.744047619047619\n",
      "Class Water Activities: Recall Difference = 0.08632311372037382\n",
      "Class Picnic: Recall Difference = -0.05555555555555558\n",
      "Class Rescue: Recall Difference = 0.04740701938187536\n",
      "Class Cheering: Recall Difference = -0.05094108019639937\n",
      "Class Performance_And_Entertainment: Recall Difference = 0.056240046936551824\n",
      "Class Family: Recall Difference = -0.11881188118811858\n",
      "Data has been appended to ./runs_2023_12_04_01_26/validation_10.txt\n"
     ]
    },
    {
     "name": "stderr",
     "output_type": "stream",
     "text": [
      "100%|█████████████████████████████████████████| 136/136 [00:59<00:00,  2.29it/s]\n"
     ]
    },
    {
     "name": "stdout",
     "output_type": "stream",
     "text": [
      "Average Adversary epoch loss: 0.24482579485458486\n"
     ]
    },
    {
     "name": "stderr",
     "output_type": "stream",
     "text": [
      "100%|█████████████████████████████████████████| 136/136 [01:23<00:00,  1.63it/s]\n",
      "100%|███████████████████████████████████████████| 46/46 [00:19<00:00,  2.31it/s]\n"
     ]
    },
    {
     "name": "stdout",
     "output_type": "stream",
     "text": [
      "*****Epoch 6/100*****\n",
      "*****Train Loss: -1.886255 Val Loss:  2.602567*****\n",
      "*****Validation Accuracy: 64.85%*****\n",
      "*****Total Avg Disparity: 0.14793759736675907*****\n",
      "\n",
      "Class Team_Sports: Recall Difference = 0.04389560343317578\n",
      "Class Celebration: Recall Difference = -0.06976744186046518\n",
      "Class Parade: Recall Difference = 0.019469856908280514\n",
      "Class Waiter_Or_Waitress: Recall Difference = -0.2737588652482269\n",
      "Class Individual_Sports: Recall Difference = -0.10021802871964525\n",
      "Class Surgeons: Recall Difference = 0.0388278388278388\n",
      "Class Spa: Recall Difference = -0.07801418439716312\n",
      "Class Law_Enforcement: Recall Difference = 0.1048850574712642\n",
      "Class Business: Recall Difference = -0.010656436487638477\n",
      "Class Dresses: Recall Difference = -0.75\n",
      "Class Water Activities: Recall Difference = 0.14546640574037828\n",
      "Class Picnic: Recall Difference = -0.09259259259259267\n",
      "Class Rescue: Recall Difference = 0.10529072812991097\n",
      "Class Cheering: Recall Difference = -0.11988543371522087\n",
      "Class Performance_And_Entertainment: Recall Difference = 0.1442460816360741\n",
      "Class Family: Recall Difference = -0.2700270027002701\n",
      "Data has been appended to ./runs_2023_12_04_01_26/validation_10.txt\n"
     ]
    },
    {
     "name": "stderr",
     "output_type": "stream",
     "text": [
      "100%|█████████████████████████████████████████| 136/136 [00:59<00:00,  2.28it/s]\n"
     ]
    },
    {
     "name": "stdout",
     "output_type": "stream",
     "text": [
      "Average Adversary epoch loss: 0.2424610525588779\n"
     ]
    },
    {
     "name": "stderr",
     "output_type": "stream",
     "text": [
      "100%|█████████████████████████████████████████| 136/136 [01:23<00:00,  1.63it/s]\n",
      "100%|███████████████████████████████████████████| 46/46 [00:20<00:00,  2.27it/s]\n"
     ]
    },
    {
     "name": "stdout",
     "output_type": "stream",
     "text": [
      "*****Epoch 7/100*****\n",
      "*****Train Loss: -1.968579 Val Loss:  1.527485*****\n",
      "*****Validation Accuracy: 65.11%*****\n",
      "*****Total Avg Disparity: 0.1666691974382803*****\n",
      "\n",
      "Class Team_Sports: Recall Difference = 0.06319845857418105\n",
      "Class Celebration: Recall Difference = -0.07674418604651162\n",
      "Class Parade: Recall Difference = 0.07060755336617408\n",
      "Class Waiter_Or_Waitress: Recall Difference = -0.16312056737588643\n",
      "Class Individual_Sports: Recall Difference = -0.12506578452747918\n",
      "Class Surgeons: Recall Difference = 0.09010989010989018\n",
      "Class Spa: Recall Difference = -0.28368794326241137\n",
      "Class Law_Enforcement: Recall Difference = 0.1566091954022989\n",
      "Class Business: Recall Difference = -0.03559249786871266\n",
      "Class Dresses: Recall Difference = -0.761904761904762\n",
      "Class Water Activities: Recall Difference = 0.10002174385736029\n",
      "Class Picnic: Recall Difference = -0.12962962962962965\n",
      "Class Rescue: Recall Difference = 0.06888423258250392\n",
      "Class Cheering: Recall Difference = -0.10515548281505721\n",
      "Class Performance_And_Entertainment: Recall Difference = 0.07048864303076019\n",
      "Class Family: Recall Difference = -0.3658865886588659\n",
      "Early stopping\n"
     ]
    },
    {
     "data": {
      "image/png": "[encoded data removed]",
      "text/plain": [
       "<Figure size 640x480 with 1 Axes>"
      ]
     },
     "metadata": {},
     "output_type": "display_data"
    },
    {
     "name": "stdout",
     "output_type": "stream",
     "text": [
      "Student weights and architecture saved and exported for lambda: 10\n"
     ]
    },
    {
     "name": "stderr",
     "output_type": "stream",
     "text": [
      "100%|█████████████████████████████████████████| 136/136 [01:23<00:00,  1.63it/s]\n"
     ]
    },
    {
     "name": "stdout",
     "output_type": "stream",
     "text": [
      "*******Epoch 0: loss - 1.3676619814599262\n"
     ]
    },
    {
     "name": "stderr",
     "output_type": "stream",
     "text": [
      "100%|█████████████████████████████████████████| 136/136 [01:23<00:00,  1.63it/s]\n"
     ]
    },
    {
     "name": "stdout",
     "output_type": "stream",
     "text": [
      "*******Epoch 1: loss - 0.8476039342143956\n"
     ]
    },
    {
     "name": "stderr",
     "output_type": "stream",
     "text": [
      "100%|█████████████████████████████████████████| 136/136 [01:23<00:00,  1.63it/s]\n"
     ]
    },
    {
     "name": "stdout",
     "output_type": "stream",
     "text": [
      "*******Epoch 2: loss - 0.5717068680507296\n"
     ]
    },
    {
     "name": "stderr",
     "output_type": "stream",
     "text": [
      "100%|█████████████████████████████████████████| 136/136 [01:42<00:00,  1.32it/s]\n"
     ]
    },
    {
     "name": "stdout",
     "output_type": "stream",
     "text": [
      "Average Pretrain Adversary epoch loss:  0.48420703980852575\n"
     ]
    },
    {
     "name": "stderr",
     "output_type": "stream",
     "text": [
      "100%|█████████████████████████████████████████| 136/136 [01:42<00:00,  1.33it/s]\n"
     ]
    },
    {
     "name": "stdout",
     "output_type": "stream",
     "text": [
      "Average Pretrain Adversary epoch loss:  0.48407278166097756\n"
     ]
    },
    {
     "name": "stderr",
     "output_type": "stream",
     "text": [
      "100%|█████████████████████████████████████████| 136/136 [01:42<00:00,  1.32it/s]\n"
     ]
    },
    {
     "name": "stdout",
     "output_type": "stream",
     "text": [
      "Average Pretrain Adversary epoch loss:  0.48424454778432846\n"
     ]
    },
    {
     "name": "stderr",
     "output_type": "stream",
     "text": [
      "100%|█████████████████████████████████████████| 136/136 [01:00<00:00,  2.25it/s]\n"
     ]
    },
    {
     "name": "stdout",
     "output_type": "stream",
     "text": [
      "Average Adversary epoch loss: 0.3431553926099749\n"
     ]
    },
    {
     "name": "stderr",
     "output_type": "stream",
     "text": [
      "100%|█████████████████████████████████████████| 136/136 [01:23<00:00,  1.63it/s]\n",
      "100%|███████████████████████████████████████████| 46/46 [00:19<00:00,  2.30it/s]\n"
     ]
    },
    {
     "name": "stdout",
     "output_type": "stream",
     "text": [
      "*****Epoch 1/100*****\n",
      "*****Train Loss:  2.480421 Val Loss:  2.620377*****\n",
      "*****Validation Accuracy: 60.58%*****\n",
      "*****Total Avg Disparity: 0.12881078536642138*****\n",
      "\n",
      "Class Team_Sports: Recall Difference = 0.037613125474397435\n",
      "Class Celebration: Recall Difference = -0.10465116279069758\n",
      "Class Parade: Recall Difference = 0.06040347173352123\n",
      "Class Waiter_Or_Waitress: Recall Difference = -0.22836879432624113\n",
      "Class Individual_Sports: Recall Difference = -0.09679723329073009\n",
      "Class Surgeons: Recall Difference = -0.013186813186813251\n",
      "Class Spa: Recall Difference = 0.15602836879432613\n",
      "Class Law_Enforcement: Recall Difference = 0.20114942528735624\n",
      "Class Business: Recall Difference = -0.03921568627450989\n",
      "Class Dresses: Recall Difference = -0.6964285714285714\n",
      "Class Water Activities: Recall Difference = 0.09860839312894099\n",
      "Class Picnic: Recall Difference = 0.11111111111111105\n",
      "Class Rescue: Recall Difference = 0.0979570455735988\n",
      "Class Cheering: Recall Difference = 0.044189852700491083\n",
      "Class Performance_And_Entertainment: Recall Difference = -0.021708155225882098\n",
      "Class Family: Recall Difference = -0.053555355535553684\n",
      "Data has been appended to ./runs_2023_12_04_01_26/validation_0.5.txt\n"
     ]
    },
    {
     "name": "stderr",
     "output_type": "stream",
     "text": [
      "100%|█████████████████████████████████████████| 136/136 [00:59<00:00,  2.27it/s]\n"
     ]
    },
    {
     "name": "stdout",
     "output_type": "stream",
     "text": [
      "Average Adversary epoch loss: 0.3141429256647825\n"
     ]
    },
    {
     "name": "stderr",
     "output_type": "stream",
     "text": [
      "100%|█████████████████████████████████████████| 136/136 [01:23<00:00,  1.63it/s]\n",
      "100%|███████████████████████████████████████████| 46/46 [00:20<00:00,  2.29it/s]\n"
     ]
    },
    {
     "name": "stdout",
     "output_type": "stream",
     "text": [
      "*****Epoch 2/100*****\n",
      "*****Train Loss:  1.544839 Val Loss:  3.268533*****\n",
      "*****Validation Accuracy: 62.66%*****\n",
      "*****Total Avg Disparity: 0.1556113521748851*****\n",
      "\n",
      "Class Team_Sports: Recall Difference = 0.022852805511765162\n",
      "Class Celebration: Recall Difference = -0.09534883720930232\n",
      "Class Parade: Recall Difference = 0.13007271874266946\n",
      "Class Waiter_Or_Waitress: Recall Difference = -0.29645390070921973\n",
      "Class Individual_Sports: Recall Difference = -0.057702428388842986\n",
      "Class Surgeons: Recall Difference = -0.1296703296703296\n",
      "Class Spa: Recall Difference = -0.014184397163120699\n",
      "Class Law_Enforcement: Recall Difference = 0.2260536398467432\n",
      "Class Business: Recall Difference = -0.0694799658994032\n",
      "Class Dresses: Recall Difference = -0.6011904761904763\n",
      "Class Water Activities: Recall Difference = 0.14187866927592951\n",
      "Class Picnic: Recall Difference = -0.12962962962962965\n",
      "Class Rescue: Recall Difference = 0.16553169198533263\n",
      "Class Cheering: Recall Difference = -0.11333878887070375\n",
      "Class Performance_And_Entertainment: Recall Difference = 0.09387310367949042\n",
      "Class Family: Recall Difference = -0.20252025202520263\n",
      "Data has been appended to ./runs_2023_12_04_01_26/validation_0.5.txt\n"
     ]
    },
    {
     "name": "stderr",
     "output_type": "stream",
     "text": [
      "100%|█████████████████████████████████████████| 136/136 [00:59<00:00,  2.28it/s]\n"
     ]
    },
    {
     "name": "stdout",
     "output_type": "stream",
     "text": [
      "Average Adversary epoch loss: 0.28100735223030343\n"
     ]
    },
    {
     "name": "stderr",
     "output_type": "stream",
     "text": [
      "100%|█████████████████████████████████████████| 136/136 [01:23<00:00,  1.63it/s]\n",
      "100%|███████████████████████████████████████████| 46/46 [00:20<00:00,  2.27it/s]\n"
     ]
    },
    {
     "name": "stdout",
     "output_type": "stream",
     "text": [
      "*****Epoch 3/100*****\n",
      "*****Train Loss:  0.957986 Val Loss:  3.785853*****\n",
      "*****Validation Accuracy: 63.92%*****\n",
      "*****Total Avg Disparity: 0.13566230941524796*****\n",
      "\n",
      "Class Team_Sports: Recall Difference = 0.006294155427103099\n",
      "Class Celebration: Recall Difference = -0.06976744186046518\n",
      "Class Parade: Recall Difference = 0.109547267182735\n",
      "Class Waiter_Or_Waitress: Recall Difference = -0.3312056737588652\n",
      "Class Individual_Sports: Recall Difference = -0.04364333508758744\n",
      "Class Surgeons: Recall Difference = -0.1040293040293041\n",
      "Class Spa: Recall Difference = -0.32624113475177313\n",
      "Class Law_Enforcement: Recall Difference = 0.10129310344827569\n",
      "Class Business: Recall Difference = -0.0421994884910486\n",
      "Class Dresses: Recall Difference = -0.6428571428571428\n",
      "Class Water Activities: Recall Difference = 0.06903674711893881\n",
      "Class Picnic: Recall Difference = 0.0\n",
      "Class Rescue: Recall Difference = 0.07359874279727613\n",
      "Class Cheering: Recall Difference = -0.019639934533551506\n",
      "Class Performance_And_Entertainment: Recall Difference = 0.024474059173581475\n",
      "Class Family: Recall Difference = -0.07110711071107112\n",
      "Data has been appended to ./runs_2023_12_04_01_26/validation_0.5.txt\n"
     ]
    },
    {
     "name": "stderr",
     "output_type": "stream",
     "text": [
      "100%|█████████████████████████████████████████| 136/136 [00:59<00:00,  2.28it/s]\n"
     ]
    },
    {
     "name": "stdout",
     "output_type": "stream",
     "text": [
      "Average Adversary epoch loss: 0.26407503101098184\n"
     ]
    },
    {
     "name": "stderr",
     "output_type": "stream",
     "text": [
      " 54%|██████████████████████▌                   | 73/136 [00:45<00:38,  1.66it/s]"
     ]
    }
   ],
   "source": [
    "lambda_results = {}\n",
    "# Loop for training the student model with different lambda values\n",
    "for i in lmda_list_student:\n",
    "    # load teacher model with lambda 0\n",
    "    teacher_model = torch.load('teacher_model_ckd_wider_lambda02.pth')\n",
    "    teacher_model.load_state_dict(torch.load('teacher_model_weights_ckd_wider_lambda02.pth'))\n",
    "    \n",
    "    # Reset the student model for each lambda\n",
    "    student_model = torchvision.models.efficientnet_b0(weights='DEFAULT')\n",
    "    student_model.classifier = nn.Linear(1280, num_classes)\n",
    "    student_optimizer = optim.Adam(student_model.parameters(), lr=learning_rate)\n",
    "\n",
    "    adv = Adversary()\n",
    "    student_optimizer_adv = optim.Adam(adv.parameters(), lr=learning_rate)\n",
    "    \n",
    "    if i != 0:\n",
    "        pretrain_student(student_model, teacher_model, trainloader, criterion_clf, student_optimizer, device, alpha, temperature, epochs_pretrain)\n",
    "        pretrain_adversary(adv, teacher_model, optimizer_adv, trainloader, adv_criterion, device, epochs_pretrain)\n",
    "    \n",
    "    student_mean_abs_val_disparity = train_student_with_distillation_disparity(student_model, teacher_model, adv, trainloader, testloader, criterion_clf, adv_criterion, student_optimizer, device, alpha, temperature, epochs, lmda=i, patience=patience_student, optimizer_adv=student_optimizer_adv)\n",
    "\n",
    "    torch.save(student_model.state_dict(), f'student_model_weights_ckd_wider_lambda{i}.pth')\n",
    "    torch.save(student_model, f'student_model_ckd_wider_lambda{i}.pth')\n",
    "    print('Student weights and architecture saved and exported for lambda:', i)\n",
    "\n",
    "    # Update the dictionary with the student results\n",
    "    if i in lambda_results:\n",
    "        # If the key 'i' is already present in the dictionary\n",
    "        lambda_results[i].update({\n",
    "            'student_mean_abs_val_disparity': student_mean_abs_val_disparity\n",
    "        })\n",
    "    else:\n",
    "        # If the key 'i' is not present in the dictionary\n",
    "        lambda_results[i] = {\n",
    "            'student_mean_abs_val_disparity': student_mean_abs_val_disparity\n",
    "        }"
   ]
  },
  {
   "cell_type": "code",
   "execution_count": null,
   "id": "073656a3-9d3d-469d-a66f-0afc3c289ab9",
   "metadata": {},
   "outputs": [],
   "source": [
    "def compare_performance_metrics(teacher, student, dataloader):\n",
    "    teacher.eval()\n",
    "    student.eval()\n",
    "    \n",
    "    all_labels = []\n",
    "    all_teacher_preds = []\n",
    "    all_student_preds = []\n",
    "\n",
    "    for batch in dataloader:\n",
    "        inputs = batch['img'].to(device)\n",
    "        labels = batch['label'].to(device)\n",
    "        \n",
    "        with torch.no_grad():\n",
    "            teacher_outputs = teacher(inputs)\n",
    "            student_outputs = student(inputs)\n",
    "            \n",
    "        teacher_preds = torch.argmax(teacher_outputs, dim=1).cpu().numpy()\n",
    "        student_preds = torch.argmax(student_outputs, dim=1).cpu().numpy()\n",
    "        \n",
    "        all_labels.append(labels.cpu().numpy())\n",
    "        all_teacher_preds.append(teacher_preds)\n",
    "        all_student_preds.append(student_preds)\n",
    "\n",
    "    all_labels = np.concatenate(all_labels)\n",
    "    all_teacher_preds = np.concatenate(all_teacher_preds)\n",
    "    all_student_preds = np.concatenate(all_student_preds)\n",
    "    \n",
    "    metrics = {\n",
    "        'accuracy': (accuracy_score(all_labels, all_teacher_preds), accuracy_score(all_labels, all_student_preds)),\n",
    "        'precision': (precision_score(all_labels, all_teacher_preds, average='weighted', zero_division=0), precision_score(all_labels, all_student_preds, average='weighted', zero_division=0)),\n",
    "        'recall': (recall_score(all_labels, all_teacher_preds, average='weighted'), recall_score(all_labels, all_student_preds, average='weighted')),\n",
    "        'f1': (f1_score(all_labels, all_teacher_preds, average='weighted'), f1_score(all_labels, all_student_preds, average='weighted'))\n",
    "    }\n",
    "\n",
    "    return {\n",
    "        'metrics': metrics,\n",
    "        'all_labels': all_labels,\n",
    "        'all_teacher_preds': all_teacher_preds,\n",
    "        'all_student_preds': all_student_preds\n",
    "    }\n",
    "\n",
    "def compare_model_size(teacher, student):\n",
    "    teacher_params = sum(p.numel() for p in teacher.parameters())\n",
    "    student_params = sum(p.numel() for p in student.parameters())\n",
    "    return teacher_params, student_params\n",
    "\n",
    "def compare_inference_time(teacher, student, dataloader):\n",
    "    dataiter = iter(dataloader)\n",
    "    data = next(dataiter)\n",
    "    inputs = data['img']\n",
    "    \n",
    "    teacher = teacher.to(device)\n",
    "    student = student.to(device)\n",
    "    inputs = inputs.to(device)\n",
    "    \n",
    "    start_time = time.time()\n",
    "    with torch.no_grad():\n",
    "        teacher_outputs = teacher(inputs)\n",
    "    teacher_time = time.time() - start_time\n",
    "\n",
    "    start_time = time.time()\n",
    "    with torch.no_grad():\n",
    "        student_outputs = student(inputs)\n",
    "    student_time = time.time() - start_time\n",
    "    \n",
    "    return teacher_time, student_time"
   ]
  },
  {
   "cell_type": "code",
   "execution_count": null,
   "id": "249e04fd-db83-4893-bfd5-31d8808243d9",
   "metadata": {},
   "outputs": [],
   "source": [
    "# Loop through each lambda value\n",
    "for lmda in lmda_list_student:\n",
    "    # Load teacher and student models for the current lambda\n",
    "    teacher_model = torch.load(f'teacher_model_ckd_wider_lambda02.pth')\n",
    "    student_model = torch.load(f'student_model_ckd_wider_lambda{lmda}.pth')\n",
    "\n",
    "    # Compute performance metrics\n",
    "    performance_metrics = compare_performance_metrics(teacher_model, student_model, testloader)\n",
    "\n",
    "    # Compute model sizes and inference times\n",
    "    teacher_params, student_params = compare_model_size(teacher_model, student_model)\n",
    "    teacher_time, student_time = compare_inference_time(teacher_model, student_model, testloader)\n",
    "\n",
    "    # Update results for the current lambda value\n",
    "    if lmda in lambda_results:\n",
    "        lambda_results[lmda].update({\n",
    "            'performance_metrics': performance_metrics,\n",
    "            'teacher_params': teacher_params,\n",
    "            'student_params': student_params,\n",
    "            'teacher_time': teacher_time,\n",
    "            'student_time': student_time\n",
    "        })\n",
    "    else:\n",
    "        lambda_results[lmda] = {\n",
    "            'performance_metrics': performance_metrics,\n",
    "            'teacher_params': teacher_params,\n",
    "            'student_params': student_params,\n",
    "            'teacher_time': teacher_time,\n",
    "            'student_time': student_time\n",
    "        }\n"
   ]
  },
  {
   "cell_type": "code",
   "execution_count": null,
   "id": "4c127f4e-cc52-45ff-a035-9e0184fb9a64",
   "metadata": {},
   "outputs": [],
   "source": [
    "lambdas = list(lambda_results.keys())\n",
    "teacher_accuracies = [lambda_results[lmda]['performance_metrics']['metrics']['accuracy'][0] for lmda in lambdas]\n",
    "student_accuracies = [lambda_results[lmda]['performance_metrics']['metrics']['accuracy'][1] for lmda in lambdas]\n",
    "\n",
    "plt.plot(lambdas, teacher_accuracies, label='Teacher Accuracy', marker='o')\n",
    "plt.plot(lambdas, student_accuracies, label='Student Accuracy', marker='o')\n",
    "plt.xlabel('Lambda')\n",
    "plt.ylabel('Accuracy')\n",
    "plt.title('Accuracy Comparison Across Lambdas')\n",
    "plt.legend()\n",
    "plt.show()\n"
   ]
  },
  {
   "cell_type": "code",
   "execution_count": null,
   "id": "cf6d58ea-0417-4a20-bc3f-4b69f15b9452",
   "metadata": {},
   "outputs": [],
   "source": [
    "# Precision\n",
    "teacher_precisions = [lambda_results[lmda]['performance_metrics']['metrics']['precision'][0] for lmda in lambdas]\n",
    "student_precisions = [lambda_results[lmda]['performance_metrics']['metrics']['precision'][1] for lmda in lambdas]\n",
    "\n",
    "plt.figure(figsize=(10, 6))\n",
    "plt.plot(lambdas, teacher_precisions, label='Teacher Precision', marker='o')\n",
    "plt.plot(lambdas, student_precisions, label='Student Precision', marker='o')\n",
    "plt.xlabel('Lambda')\n",
    "plt.ylabel('Precision')\n",
    "plt.title('Precision Comparison Across Lambdas')\n",
    "plt.legend()\n",
    "plt.show()\n"
   ]
  },
  {
   "cell_type": "code",
   "execution_count": null,
   "id": "bf3ee757-c1af-4f1a-85bd-136bc85e6e98",
   "metadata": {},
   "outputs": [],
   "source": [
    "# Recall\n",
    "teacher_recalls = [lambda_results[lmda]['performance_metrics']['metrics']['recall'][0] for lmda in lambdas]\n",
    "student_recalls = [lambda_results[lmda]['performance_metrics']['metrics']['recall'][1] for lmda in lambdas]\n",
    "\n",
    "plt.figure(figsize=(10, 6))\n",
    "plt.plot(lambdas, teacher_recalls, label='Teacher Recall', marker='o')\n",
    "plt.plot(lambdas, student_recalls, label='Student Recall', marker='o')\n",
    "plt.xlabel('Lambda')\n",
    "plt.ylabel('Recall')\n",
    "plt.title('Recall Comparison Across Lambdas')\n",
    "plt.legend()\n",
    "plt.show()\n"
   ]
  },
  {
   "cell_type": "code",
   "execution_count": null,
   "id": "f0d4e93d-9344-49fc-978f-a00d8d8e8eea",
   "metadata": {},
   "outputs": [],
   "source": [
    "# F1 Score\n",
    "teacher_f1s = [lambda_results[lmda]['performance_metrics']['metrics']['f1'][0] for lmda in lambdas]\n",
    "student_f1s = [lambda_results[lmda]['performance_metrics']['metrics']['f1'][1] for lmda in lambdas]\n",
    "\n",
    "plt.figure(figsize=(10, 6))\n",
    "plt.plot(lambdas, teacher_f1s, label='Teacher F1 Score', marker='o')\n",
    "plt.plot(lambdas, student_f1s, label='Student F1 Score', marker='o')\n",
    "plt.xlabel('Lambda')\n",
    "plt.ylabel('F1 Score')\n",
    "plt.title('F1 Score Comparison Across Lambdas')\n",
    "plt.legend()\n",
    "plt.show()\n"
   ]
  },
  {
   "cell_type": "code",
   "execution_count": null,
   "id": "85b769e1-25e1-423c-b77f-af275eb11152",
   "metadata": {},
   "outputs": [],
   "source": [
    "# Model Size\n",
    "teacher_sizes = [lambda_results[lmda]['teacher_params'] / 1e6 for lmda in lambdas]  # Convert to millions\n",
    "student_sizes = [lambda_results[lmda]['student_params'] / 1e6 for lmda in lambdas]\n",
    "\n",
    "plt.figure(figsize=(10, 6))\n",
    "plt.plot(lambdas, teacher_sizes, label='Teacher Model Size', marker='o')\n",
    "plt.plot(lambdas, student_sizes, label='Student Model Size', marker='o')\n",
    "plt.xlabel('Lambda')\n",
    "plt.ylabel('Model Size (Millions of Parameters)')\n",
    "plt.title('Model Size Comparison Across Lambdas')\n",
    "plt.legend()\n",
    "plt.show()\n"
   ]
  },
  {
   "cell_type": "code",
   "execution_count": null,
   "id": "3c8aae8d-9a0d-45b3-9fc2-c27bc5fcaa5a",
   "metadata": {},
   "outputs": [],
   "source": [
    "# Inference Time\n",
    "teacher_times = [lambda_results[lmda]['teacher_time'] for lmda in lambdas]\n",
    "student_times = [lambda_results[lmda]['student_time'] for lmda in lambdas]\n",
    "\n",
    "plt.figure(figsize=(10, 6))\n",
    "plt.plot(lambdas, teacher_times, label='Teacher Inference Time', marker='o')\n",
    "plt.plot(lambdas, student_times, label='Student Inference Time', marker='o')\n",
    "plt.xlabel('Lambda')\n",
    "plt.ylabel('Inference Time (s)')\n",
    "plt.title('Inference Time Comparison Across Lambdas')\n",
    "plt.legend()\n",
    "plt.show()\n"
   ]
  },
  {
   "cell_type": "code",
   "execution_count": null,
   "id": "6b7cb7f0-12a9-4cec-8188-048c3ffcadad",
   "metadata": {},
   "outputs": [],
   "source": [
    "# Extracting disparity values for both teacher and student models\n",
    "student_disparities = [lambda_results[lmda]['student_mean_abs_val_disparity'] for lmda in lambdas]\n",
    "\n",
    "plt.figure(figsize=(10, 6))\n",
    "plt.plot(lambdas, student_disparities, label='Student Average Disparity', marker='o')\n",
    "plt.xlabel('Lambda')\n",
    "plt.ylabel('Average Disparity')\n",
    "plt.title('Average Disparity Comparison Across Lambdas')\n",
    "plt.legend()\n",
    "plt.show()\n"
   ]
  },
  {
   "cell_type": "code",
   "execution_count": null,
   "id": "2dfa0eb5-609a-4b5d-b06d-39ecd0e76759",
   "metadata": {},
   "outputs": [],
   "source": [
    "lambda_results"
   ]
  },
  {
   "cell_type": "code",
   "execution_count": null,
   "id": "ee80376f-d5b1-4008-8099-18693972c15a",
   "metadata": {},
   "outputs": [],
   "source": [
    "def plot_combined_distribution(teacher_preds, student_preds, class_names, lmda):\n",
    "    plt.figure(figsize=(12, 6))\n",
    "    plt.subplot(1, 2, 1)\n",
    "    sns.countplot(x=teacher_preds)\n",
    "    plt.title(f'Teacher Model Predictions (Lambda={lmda})')\n",
    "    plt.xlabel('Class')\n",
    "    plt.ylabel('Count')\n",
    "    plt.xticks(range(len(class_names)), class_names, rotation=45)\n",
    "\n",
    "    plt.subplot(1, 2, 2)\n",
    "    sns.countplot(x=student_preds)\n",
    "    plt.title(f'Student Model Predictions (Lambda={lmda})')\n",
    "    plt.xlabel('Class')\n",
    "    plt.ylabel('Count')\n",
    "    plt.xticks(range(len(class_names)), class_names, rotation=45)\n",
    "    plt.tight_layout()\n",
    "    plt.show()\n",
    "\n",
    "def plot_combined_confusion_matrix(all_labels, teacher_preds, student_preds, class_names, lmda):\n",
    "    cm_teacher = confusion_matrix(all_labels, teacher_preds)\n",
    "    cm_student = confusion_matrix(all_labels, student_preds)\n",
    "    plt.figure(figsize=(12, 6))\n",
    "    plt.subplot(1, 2, 1)\n",
    "    sns.heatmap(pd.DataFrame(cm_teacher, index=class_names, columns=class_names), annot=True, fmt='g')\n",
    "    plt.title(f'Teacher Confusion Matrix (Lambda={lmda})')\n",
    "    plt.ylabel('True Label')\n",
    "    plt.xlabel('Predicted Label')\n",
    "\n",
    "    plt.subplot(1, 2, 2)\n",
    "    sns.heatmap(pd.DataFrame(cm_student, index=class_names, columns=class_names), annot=True, fmt='g')\n",
    "    plt.title(f'Student Confusion Matrix (Lambda={lmda})')\n",
    "    plt.ylabel('True Label')\n",
    "    plt.xlabel('Predicted Label')\n",
    "    plt.tight_layout()\n",
    "    plt.show()\n",
    "\n",
    "# Loop over each lambda value\n",
    "for lmda in lmda_list_student:\n",
    "    # Load teacher and student models\n",
    "    teacher_model = torch.load(f'teacher_model_ckd_wider_lambda02.pth')\n",
    "    student_model = torch.load(f'student_model_ckd_wider_lambda{lmda}.pth')\n",
    "\n",
    "    # Generate predictions and compute metrics\n",
    "    performance_metrics = compare_performance_metrics(teacher_model, student_model, testloader)\n",
    "    all_labels = performance_metrics['all_labels']\n",
    "    all_teacher_preds = performance_metrics['all_teacher_preds']\n",
    "    all_student_preds = performance_metrics['all_student_preds']\n",
    "\n",
    "    # Plot distribution and confusion matrices\n",
    "    plot_combined_distribution(all_teacher_preds, all_student_preds, class_names_new, lmda)\n",
    "    plot_combined_confusion_matrix(all_labels, all_teacher_preds, all_student_preds, class_names_new, lmda)\n",
    "\n",
    "    # Print classification reports\n",
    "    teacher_report = classification_report(all_labels, all_teacher_preds, target_names=class_names_new, zero_division=0)\n",
    "    student_report = classification_report(all_labels, all_student_preds, target_names=class_names_new, zero_division=0)\n",
    "    print(f'Classification Report - Teacher Model (Lambda={lmda})')\n",
    "    print(teacher_report)\n",
    "    print(f'Classification Report - Student Model (Lambda={lmda})')\n",
    "    print(student_report)\n"
   ]
  },
  {
   "cell_type": "code",
   "execution_count": null,
   "id": "8cf516d7-2f71-4abd-b904-0e1364cca7ed",
   "metadata": {},
   "outputs": [],
   "source": [
    "def plot_bias_variance_tradeoff(model_results, model_type, lambdas):\n",
    "    # Extract bias (disparity) and accuracy values\n",
    "    if model_type == 'teacher':\n",
    "        bias_values = [result['teacher_mean_abs_val_disparity'][0] for result in model_results.values()]\n",
    "        accuracy_values = [result['performance_metrics']['metrics']['accuracy'][0] for result in model_results.values()]\n",
    "        model_name = \"Teacher\"\n",
    "    elif model_type == 'student':\n",
    "        bias_values = [result['student_mean_abs_val_disparity'] for result in model_results.values()]\n",
    "        accuracy_values = [result['performance_metrics']['metrics']['accuracy'][1] for result in model_results.values()]\n",
    "        model_name = \"Student\"\n",
    "    else:\n",
    "        raise ValueError(\"Invalid model type. Choose 'teacher' or 'student'.\")\n",
    "\n",
    "    # Weight for the trade-off (can be adjusted based on preference)\n",
    "    bias_weight = 1\n",
    "\n",
    "    # Calculate the weighted ratio\n",
    "    weighted_ratios = np.array(accuracy_values) / (1 + bias_weight * np.array(bias_values))\n",
    "    closest_to_one_index = np.argmin(np.abs(weighted_ratios - 1))\n",
    "    optimal_bias = bias_values[closest_to_one_index]\n",
    "    optimal_accuracy = accuracy_values[closest_to_one_index]\n",
    "    optimal_ratio = weighted_ratios[closest_to_one_index]\n",
    "\n",
    "    # Plotting the bias-variance trade-off curve\n",
    "    plt.plot(bias_values, accuracy_values, marker='o', linestyle='-', label=f'{model_name} Trade-off Points')\n",
    "\n",
    "    # Mark all points with their lambda values\n",
    "    for i, (bias, acc, lmbda) in enumerate(zip(bias_values, accuracy_values, lambdas)):\n",
    "        plt.annotate(f'λ={lmbda}', (bias, acc), textcoords=\"offset points\", xytext=(0,10), ha='center')\n",
    "\n",
    "    # Highlight the optimal point\n",
    "    plt.scatter(optimal_bias, optimal_accuracy, color='r', s=100, marker='X', label=f'Optimal Point (λ={lambdas[closest_to_one_index]})')\n",
    "    plt.xlabel('Disparity')\n",
    "    plt.ylabel('Accuracy')\n",
    "    plt.title(f'{model_name} Accuracy-Fairness Trade-off Curve')\n",
    "    plt.legend()\n",
    "    plt.show()\n",
    "\n",
    "    # Print optimal values\n",
    "    print(f\"Optimal Lambda for {model_name}: {lambdas[closest_to_one_index]}\")\n",
    "    print(f\"Optimal Bias/Disparity for {model_name}: {optimal_bias}\")\n",
    "    print(f\"Optimal Accuracy for {model_name}: {optimal_accuracy}\")\n",
    "    print(f\"Optimal Weighted Ratio for {model_name}: {optimal_ratio:.2f}\")\n",
    "\n",
    "# Plot for Teacher\n",
    "# plot_bias_variance_tradeoff(lambda_results, 'teacher', lmda_list)\n",
    "\n",
    "# Plot for Student\n",
    "plot_bias_variance_tradeoff(lambda_results, 'student', lmda_list_student)\n"
   ]
  },
  {
   "cell_type": "code",
   "execution_count": null,
   "id": "d2fd96b9-a3f7-4f06-9dbd-48c8f4ed8762",
   "metadata": {},
   "outputs": [],
   "source": []
  }
 ],
 "metadata": {
  "kernelspec": {
   "display_name": "Python 3 (ipykernel)",
   "language": "python",
   "name": "python3"
  },
  "language_info": {
   "codemirror_mode": {
    "name": "ipython",
    "version": 3
   },
   "file_extension": ".py",
   "mimetype": "text/x-python",
   "name": "python",
   "nbconvert_exporter": "python",
   "pygments_lexer": "ipython3",
   "version": "3.10.9"
  }
 },
 "nbformat": 4,
 "nbformat_minor": 5
}
