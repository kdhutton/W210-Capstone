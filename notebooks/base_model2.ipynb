{
 "cells": [
  {
   "cell_type": "code",
   "execution_count": 1,
   "id": "d3420868-0538-4160-b5cc-7ef72dfd063c",
   "metadata": {},
   "outputs": [
    {
     "name": "stdout",
     "output_type": "stream",
     "text": [
      "True\n",
      "1\n"
     ]
    }
   ],
   "source": [
    "import torch\n",
    "import torch.nn as nn\n",
    "import torch.optim as optim\n",
    "import torchvision\n",
    "import torchvision.transforms as transforms\n",
    "import matplotlib.pyplot as plt\n",
    "import numpy as np\n",
    "from sklearn.metrics import precision_score, recall_score, f1_score, accuracy_score\n",
    "import time\n",
    "import os\n",
    "import torch.nn.functional as F\n",
    "from tqdm import tqdm\n",
    "\n",
    "print(torch.cuda.is_available())\n",
    "print(torch.cuda.device_count())\n",
    "device = torch.device('cuda' if torch.cuda.is_available() else 'cpu')"
   ]
  },
  {
   "cell_type": "code",
   "execution_count": 2,
   "id": "c77fa801-82a3-4675-bc11-4e58840b9546",
   "metadata": {},
   "outputs": [],
   "source": [
    "# Hyperparameters\n",
    "learning_rate = 0.001\n",
    "num_epochs = 3\n",
    "num_workers = 2\n",
    "batch_size = 100\n",
    "temperature = 4.0\n",
    "alpha = 0.9\n",
    "momentum = 0.9\n",
    "num_classes = 100\n",
    "step_size = 20\n",
    "gamma = 0.1"
   ]
  },
  {
   "cell_type": "code",
   "execution_count": 3,
   "id": "23b9dd15-4967-4300-86ad-cf921492ef2f",
   "metadata": {},
   "outputs": [],
   "source": [
    "# Teacher model definition\n",
    "class TeacherCNN(nn.Module):\n",
    "    def __init__(self):\n",
    "        super(TeacherCNN, self).__init__()\n",
    "        self.conv1 = nn.Conv2d(in_channels=3, out_channels=32, kernel_size=3, padding=1)\n",
    "        self.conv2 = nn.Conv2d(in_channels=32, out_channels=64, kernel_size=3, padding=1)\n",
    "        self.conv3 = nn.Conv2d(in_channels=64, out_channels=128, kernel_size=3, padding=1)\n",
    "        self.fc1 = nn.Linear(in_features=2048, out_features=256)\n",
    "        self.fc2 = nn.Linear(in_features=256, out_features=256)\n",
    "        self.fc3 = nn.Linear(in_features=256, out_features=512)\n",
    "        self.fc4 = nn.Linear(in_features=512, out_features=num_classes)\n",
    "        \n",
    "    def forward(self, x):\n",
    "        x = nn.ReLU()(self.conv1(x))\n",
    "        x = nn.MaxPool2d(kernel_size=2)(x)\n",
    "        x = nn.ReLU()(self.conv2(x))\n",
    "        x = nn.MaxPool2d(kernel_size=2)(x)\n",
    "        x = nn.ReLU()(self.conv3(x))\n",
    "        x = nn.MaxPool2d(kernel_size=2)(x)\n",
    "        x = x.view(x.size(0), -1)\n",
    "        x = nn.ReLU()(self.fc1(x))\n",
    "        x = self.fc2(x)\n",
    "        x = nn.ReLU()(self.fc3(x))\n",
    "        x = self.fc4(x)\n",
    "        return x\n",
    "\n",
    "# Student model definition\n",
    "class StudentCNN(nn.Module):\n",
    "    def __init__(self, num_classes=100):\n",
    "        super(StudentCNN, self).__init__()\n",
    "        self.conv1 = nn.Conv2d(in_channels=3, out_channels=16, kernel_size=3)\n",
    "        self.bn1 = nn.BatchNorm2d(16)\n",
    "        self.pool = nn.MaxPool2d(kernel_size=2)\n",
    "        self.dropout = nn.Dropout(p=0.5)\n",
    "        self.fc1 = nn.Linear(in_features=3600, out_features=num_classes)\n",
    "\n",
    "    def forward(self, x):\n",
    "        x = self.conv1(x)\n",
    "        x = self.bn1(x)\n",
    "        x = F.relu(x)\n",
    "        x = self.pool(x)\n",
    "        x = self.dropout(x)\n",
    "        x = x.view(x.size(0), -1)\n",
    "        x = self.fc1(x)\n",
    "        return x"
   ]
  },
  {
   "cell_type": "code",
   "execution_count": 4,
   "id": "236587b2-0141-46fd-a1fc-eb32b690ab05",
   "metadata": {},
   "outputs": [
    {
     "name": "stdout",
     "output_type": "stream",
     "text": [
      "Files already downloaded and verified\n"
     ]
    }
   ],
   "source": [
    "# Load CIFAR-100 dataset\n",
    "transform = transforms.Compose([\n",
    "    transforms.RandomHorizontalFlip(),\n",
    "    transforms.RandomCrop(32, padding=4),\n",
    "    transforms.ToTensor(),\n",
    "    transforms.Normalize((0.5071, 0.4867, 0.4408), (0.2675, 0.2565, 0.2761))\n",
    "])\n",
    "\n",
    "trainset = torchvision.datasets.CIFAR100(root='./data', train=True, download=True, transform=transform)\n",
    "trainloader = torch.utils.data.DataLoader(trainset, batch_size=batch_size, shuffle=True, num_workers=num_workers)\n",
    "\n",
    "# Create instances of your models\n",
    "teacher = TeacherCNN()\n",
    "teacher.eval()  # Set teacher model to evaluation mode\n",
    "student = StudentCNN()"
   ]
  },
  {
   "cell_type": "code",
   "execution_count": 5,
   "id": "ab3193d4-ea26-4e4f-815f-8996b6ccc222",
   "metadata": {},
   "outputs": [],
   "source": [
    "# Optimizer and scheduler for the student model\n",
    "optimizer = optim.SGD(student.parameters(), lr=learning_rate, momentum=momentum)\n",
    "scheduler = torch.optim.lr_scheduler.StepLR(optimizer, step_size=step_size, gamma=gamma)\n",
    "\n",
    "# Optimizer and scheduler for the teacher model\n",
    "teacher_optimizer = optim.SGD(teacher.parameters(), lr=learning_rate, momentum=momentum)\n",
    "teacher_scheduler = torch.optim.lr_scheduler.StepLR(teacher_optimizer, step_size=step_size, gamma=gamma)\n",
    "\n",
    "criterion = nn.CrossEntropyLoss()"
   ]
  },
  {
   "cell_type": "code",
   "execution_count": 6,
   "id": "213393fd-b1c8-4904-97c3-7f68cf6d200d",
   "metadata": {},
   "outputs": [],
   "source": [
    "# # https://github.com/yushundong/RELIANT/blob/main/src/CPF-master/distill_dgl.py\n",
    "\n",
    "# def fair_metric(pred, labels, sens):\n",
    "#     sens = sens.cpu()\n",
    "#     labels = labels.cpu()\n",
    "#     idx_s0 = sens == 0\n",
    "#     idx_s1 = sens == 1\n",
    "#     idx_s0_y1 = idx_s0 & (labels == 1)\n",
    "#     idx_s1_y1 = idx_s1 & (labels == 1)\n",
    "\n",
    "#     if idx_s0.sum().item() == 0 or idx_s1.sum().item() == 0 or idx_s0_y1.sum().item() == 0 or idx_s1_y1.sum().item() == 0:\n",
    "#         return torch.tensor(0.0), torch.tensor(0.0)  # Return zeros\n",
    "\n",
    "#     parity = torch.abs((pred[idx_s0].sum() / (idx_s0.sum().item() + 1e-8)) - (pred[idx_s1].sum() / (idx_s1.sum().item() + 1e-8)))\n",
    "#     equality = torch.abs((pred[idx_s0_y1].sum() / (idx_s0_y1.sum().item() + 1e-8)) - (pred[idx_s1_y1].sum() / (idx_s1_y1.sum().item() + 1e-8)))\n",
    "\n",
    "#     return parity.item(), equality.item()\n",
    "\n",
    "# def approx_loss(logits, sens, idx):\n",
    "#     logits, sens, idx = logits.cpu(), sens.cpu(), idx.cpu()\n",
    "#     g1 = np.argwhere(sens.numpy() == 0.0).reshape(-1)\n",
    "#     g2 = np.argwhere(sens.numpy() == 1.0).reshape(-1)\n",
    "#     idx_set = set(idx.numpy())\n",
    "#     g1 = np.array(list(set(g1) & idx_set))\n",
    "#     g2 = np.array(list(set(g2) & idx_set))\n",
    "\n",
    "#     if g1.shape[0] == 0 or g2.shape[0] == 0:\n",
    "#         return torch.tensor(0.0)  # Return zero\n",
    "\n",
    "#     loss = torch.square(approx_func(logits[g1]).sum(axis=0) / (g1.shape[0]) - approx_func(logits[g2]).sum(axis=0) / (g2.shape[0])).sum()\n",
    "#     return loss\n",
    "\n",
    "# def approx_loss_eo(logits, sens, labels, idx):\n",
    "#     logits, sens, labels, idx = logits.cpu(), sens.cpu(), labels.cpu(), idx.cpu()\n",
    "#     g1 = np.argwhere(sens.numpy() == 0).reshape(-1)\n",
    "#     g2 = np.argwhere(sens.numpy() == 1).reshape(-1)\n",
    "#     g = np.argwhere(labels.numpy() == 1).reshape(-1)\n",
    "#     idx_set = set(idx.numpy())\n",
    "#     g1 = np.array(list(set(g1) & set(g) & idx_set))\n",
    "#     g2 = np.array(list(set(g2) & set(g) & idx_set))\n",
    "    \n",
    "#     if g1.shape[0] == 0 or g2.shape[0] == 0:\n",
    "#         return torch.tensor(0.0)  # Return zero \n",
    "\n",
    "#     loss = torch.square(approx_func(logits[g1]).sum(axis=0) / (g1.shape[0] + 1e-8) - approx_func(logits[g2]).sum(axis=0) / (g2.shape[0] + 1e-8)).sum()\n",
    "#     return loss\n",
    "\n",
    "# def approx_func(s):\n",
    "#     device = s.device  # Store the device information\n",
    "#     dtype = s.dtype    # Store the data type information\n",
    "#     s = s.detach().cpu().numpy()\n",
    "#     x = 2 * s - 1\n",
    "#     result = 1 / 2 + 1 / 2 * x - 1 / 8 / 2 * (5 * x * x * x - 3 * x) + 1 / 16 / 8 * (\n",
    "#                 63 * x * x * x * x * x - 70 * x * x * x + 15 * x) - 5 / 128 / 16 * (\n",
    "#                        429 * x * x * x * x * x * x * x - 693 * x * x * x * x * x + 315 * x * x * x - 35 * x) + 7 / 256 / 128 * (\n",
    "#                        12155 * x * x * x * x * x * x * x * x * x - 25740 * x * x * x * x * x * x * x + 18018 * x * x * x * x * x - 4620 * x * x * x + 315 * x)\n",
    "#     return torch.tensor(result, device=device, dtype=dtype)\n"
   ]
  },
  {
   "cell_type": "code",
   "execution_count": 8,
   "id": "147575ae-f793-463b-a7bd-e231d0d37efb",
   "metadata": {},
   "outputs": [
    {
     "name": "stderr",
     "output_type": "stream",
     "text": [
      " 22%|████████████████████████████▊                                                                                                     | 111/500 [00:02<00:06, 58.51it/s]"
     ]
    },
    {
     "name": "stdout",
     "output_type": "stream",
     "text": [
      "[1, 100] loss: 4.605\n"
     ]
    },
    {
     "name": "stderr",
     "output_type": "stream",
     "text": [
      " 41%|█████████████████████████████████████████████████████▊                                                                            | 207/500 [00:03<00:04, 58.75it/s]"
     ]
    },
    {
     "name": "stdout",
     "output_type": "stream",
     "text": [
      "[1, 200] loss: 4.605\n"
     ]
    },
    {
     "name": "stderr",
     "output_type": "stream",
     "text": [
      " 62%|████████████████████████████████████████████████████████████████████████████████▎                                                 | 309/500 [00:05<00:03, 57.76it/s]"
     ]
    },
    {
     "name": "stdout",
     "output_type": "stream",
     "text": [
      "[1, 300] loss: 4.606\n"
     ]
    },
    {
     "name": "stderr",
     "output_type": "stream",
     "text": [
      " 82%|██████████████████████████████████████████████████████████████████████████████████████████████████████████▊                       | 411/500 [00:07<00:01, 53.35it/s]"
     ]
    },
    {
     "name": "stdout",
     "output_type": "stream",
     "text": [
      "[1, 400] loss: 4.605\n"
     ]
    },
    {
     "name": "stderr",
     "output_type": "stream",
     "text": [
      "100%|██████████████████████████████████████████████████████████████████████████████████████████████████████████████████████████████████| 500/500 [00:08<00:00, 55.60it/s]\n"
     ]
    },
    {
     "name": "stdout",
     "output_type": "stream",
     "text": [
      "[1, 500] loss: 4.605\n"
     ]
    },
    {
     "name": "stderr",
     "output_type": "stream",
     "text": [
      " 22%|████████████████████████████▎                                                                                                     | 109/500 [00:01<00:06, 60.51it/s]"
     ]
    },
    {
     "name": "stdout",
     "output_type": "stream",
     "text": [
      "[2, 100] loss: 4.605\n"
     ]
    },
    {
     "name": "stderr",
     "output_type": "stream",
     "text": [
      " 41%|█████████████████████████████████████████████████████▌                                                                            | 206/500 [00:03<00:04, 59.19it/s]"
     ]
    },
    {
     "name": "stdout",
     "output_type": "stream",
     "text": [
      "[2, 200] loss: 4.604\n"
     ]
    },
    {
     "name": "stderr",
     "output_type": "stream",
     "text": [
      " 62%|████████████████████████████████████████████████████████████████████████████████                                                  | 308/500 [00:05<00:03, 58.30it/s]"
     ]
    },
    {
     "name": "stdout",
     "output_type": "stream",
     "text": [
      "[2, 300] loss: 4.605\n"
     ]
    },
    {
     "name": "stderr",
     "output_type": "stream",
     "text": [
      " 82%|██████████████████████████████████████████████████████████████████████████████████████████████████████████▌                       | 410/500 [00:07<00:01, 54.75it/s]"
     ]
    },
    {
     "name": "stdout",
     "output_type": "stream",
     "text": [
      "[2, 400] loss: 4.604\n"
     ]
    },
    {
     "name": "stderr",
     "output_type": "stream",
     "text": [
      "100%|██████████████████████████████████████████████████████████████████████████████████████████████████████████████████████████████████| 500/500 [00:08<00:00, 57.04it/s]\n"
     ]
    },
    {
     "name": "stdout",
     "output_type": "stream",
     "text": [
      "[2, 500] loss: 4.604\n"
     ]
    },
    {
     "name": "stderr",
     "output_type": "stream",
     "text": [
      " 21%|███████████████████████████▊                                                                                                      | 107/500 [00:01<00:06, 58.71it/s]"
     ]
    },
    {
     "name": "stdout",
     "output_type": "stream",
     "text": [
      "[3, 100] loss: 4.604\n"
     ]
    },
    {
     "name": "stderr",
     "output_type": "stream",
     "text": [
      " 42%|██████████████████████████████████████████████████████▌                                                                           | 210/500 [00:03<00:04, 59.34it/s]"
     ]
    },
    {
     "name": "stdout",
     "output_type": "stream",
     "text": [
      "[3, 200] loss: 4.603\n"
     ]
    },
    {
     "name": "stderr",
     "output_type": "stream",
     "text": [
      " 62%|████████████████████████████████████████████████████████████████████████████████                                                  | 308/500 [00:05<00:03, 59.22it/s]"
     ]
    },
    {
     "name": "stdout",
     "output_type": "stream",
     "text": [
      "[3, 300] loss: 4.603\n"
     ]
    },
    {
     "name": "stderr",
     "output_type": "stream",
     "text": [
      " 81%|█████████████████████████████████████████████████████████████████████████████████████████████████████████▌                        | 406/500 [00:07<00:01, 55.83it/s]"
     ]
    },
    {
     "name": "stdout",
     "output_type": "stream",
     "text": [
      "[3, 400] loss: 4.603\n"
     ]
    },
    {
     "name": "stderr",
     "output_type": "stream",
     "text": [
      "100%|██████████████████████████████████████████████████████████████████████████████████████████████████████████████████████████████████| 500/500 [00:08<00:00, 57.76it/s]\n"
     ]
    },
    {
     "name": "stdout",
     "output_type": "stream",
     "text": [
      "[3, 500] loss: 4.603\n",
      "Finished Training Teacher\n"
     ]
    },
    {
     "name": "stderr",
     "output_type": "stream",
     "text": [
      " 21%|███████████████████████████▊                                                                                                      | 107/500 [00:01<00:06, 58.66it/s]"
     ]
    },
    {
     "name": "stdout",
     "output_type": "stream",
     "text": [
      "[1, 100] loss: 0.625\n"
     ]
    },
    {
     "name": "stderr",
     "output_type": "stream",
     "text": [
      " 42%|██████████████████████████████████████████████████████▎                                                                           | 209/500 [00:03<00:05, 52.62it/s]"
     ]
    },
    {
     "name": "stdout",
     "output_type": "stream",
     "text": [
      "[1, 200] loss: 0.582\n"
     ]
    },
    {
     "name": "stderr",
     "output_type": "stream",
     "text": [
      " 62%|████████████████████████████████████████████████████████████████████████████████▊                                                 | 311/500 [00:05<00:03, 59.11it/s]"
     ]
    },
    {
     "name": "stdout",
     "output_type": "stream",
     "text": [
      "[1, 300] loss: 0.565\n"
     ]
    },
    {
     "name": "stderr",
     "output_type": "stream",
     "text": [
      " 82%|██████████████████████████████████████████████████████████████████████████████████████████████████████████▎                       | 409/500 [00:07<00:01, 58.22it/s]"
     ]
    },
    {
     "name": "stdout",
     "output_type": "stream",
     "text": [
      "[1, 400] loss: 0.556\n"
     ]
    },
    {
     "name": "stderr",
     "output_type": "stream",
     "text": [
      "100%|██████████████████████████████████████████████████████████████████████████████████████████████████████████████████████████████████| 500/500 [00:08<00:00, 57.37it/s]\n"
     ]
    },
    {
     "name": "stdout",
     "output_type": "stream",
     "text": [
      "[1, 500] loss: 0.547\n"
     ]
    },
    {
     "name": "stderr",
     "output_type": "stream",
     "text": [
      " 22%|████████████████████████████                                                                                                      | 108/500 [00:01<00:06, 58.76it/s]"
     ]
    },
    {
     "name": "stdout",
     "output_type": "stream",
     "text": [
      "[2, 100] loss: 0.540\n"
     ]
    },
    {
     "name": "stderr",
     "output_type": "stream",
     "text": [
      " 42%|██████████████████████████████████████████████████████                                                                            | 208/500 [00:03<00:05, 55.84it/s]"
     ]
    },
    {
     "name": "stdout",
     "output_type": "stream",
     "text": [
      "[2, 200] loss: 0.535\n"
     ]
    },
    {
     "name": "stderr",
     "output_type": "stream",
     "text": [
      " 62%|████████████████████████████████████████████████████████████████████████████████▌                                                 | 310/500 [00:05<00:03, 56.55it/s]"
     ]
    },
    {
     "name": "stdout",
     "output_type": "stream",
     "text": [
      "[2, 300] loss: 0.530\n"
     ]
    },
    {
     "name": "stderr",
     "output_type": "stream",
     "text": [
      " 82%|██████████████████████████████████████████████████████████████████████████████████████████████████████████▊                       | 411/500 [00:07<00:01, 61.85it/s]"
     ]
    },
    {
     "name": "stdout",
     "output_type": "stream",
     "text": [
      "[2, 400] loss: 0.524\n"
     ]
    },
    {
     "name": "stderr",
     "output_type": "stream",
     "text": [
      "100%|██████████████████████████████████████████████████████████████████████████████████████████████████████████████████████████████████| 500/500 [00:08<00:00, 57.37it/s]\n"
     ]
    },
    {
     "name": "stdout",
     "output_type": "stream",
     "text": [
      "[2, 500] loss: 0.521\n"
     ]
    },
    {
     "name": "stderr",
     "output_type": "stream",
     "text": [
      " 21%|███████████████████████████▊                                                                                                      | 107/500 [00:01<00:06, 59.64it/s]"
     ]
    },
    {
     "name": "stdout",
     "output_type": "stream",
     "text": [
      "[3, 100] loss: 0.516\n"
     ]
    },
    {
     "name": "stderr",
     "output_type": "stream",
     "text": [
      " 42%|██████████████████████████████████████████████████████▌                                                                           | 210/500 [00:03<00:04, 58.97it/s]"
     ]
    },
    {
     "name": "stdout",
     "output_type": "stream",
     "text": [
      "[3, 200] loss: 0.513\n"
     ]
    },
    {
     "name": "stderr",
     "output_type": "stream",
     "text": [
      " 62%|████████████████████████████████████████████████████████████████████████████████                                                  | 308/500 [00:05<00:03, 59.81it/s]"
     ]
    },
    {
     "name": "stdout",
     "output_type": "stream",
     "text": [
      "[3, 300] loss: 0.511\n"
     ]
    },
    {
     "name": "stderr",
     "output_type": "stream",
     "text": [
      " 81%|█████████████████████████████████████████████████████████████████████████████████████████████████████████▎                        | 405/500 [00:06<00:01, 60.79it/s]"
     ]
    },
    {
     "name": "stdout",
     "output_type": "stream",
     "text": [
      "[3, 400] loss: 0.507\n"
     ]
    },
    {
     "name": "stderr",
     "output_type": "stream",
     "text": [
      "100%|██████████████████████████████████████████████████████████████████████████████████████████████████████████████████████████████████| 500/500 [00:08<00:00, 58.76it/s]"
     ]
    },
    {
     "name": "stdout",
     "output_type": "stream",
     "text": [
      "[3, 500] loss: 0.505\n",
      "Finished Training Student\n"
     ]
    },
    {
     "name": "stderr",
     "output_type": "stream",
     "text": [
      "\n"
     ]
    }
   ],
   "source": [
    "# Knowledge Distillation loss function\n",
    "def knowledge_distillation_loss(student_outputs, teacher_outputs, temperature):\n",
    "    kd_loss = F.kl_div(\n",
    "        F.log_softmax(student_outputs / temperature, dim=1),\n",
    "        F.softmax(teacher_outputs / temperature, dim=1),\n",
    "        reduction='batchmean'\n",
    "    ) * (temperature * temperature)\n",
    "    return kd_loss\n",
    "\n",
    "# Function to train the teacher model\n",
    "def train_teacher(model, trainloader, criterion, optimizer, scheduler, device, num_epochs=5):\n",
    "    model.train()\n",
    "    model.to(device)\n",
    "    for epoch in range(num_epochs):\n",
    "        running_loss = 0.0\n",
    "        for i, (inputs, labels) in enumerate(tqdm(trainloader)):\n",
    "            inputs, labels = inputs.to(device), labels.to(device)\n",
    "            \n",
    "            # Zero the parameter gradients\n",
    "            optimizer.zero_grad()\n",
    "            \n",
    "            # Forward pass\n",
    "            outputs = model(inputs)\n",
    "            \n",
    "            # Loss computation\n",
    "            loss = criterion(outputs, labels)\n",
    "            \n",
    "            # Backward pass and optimization\n",
    "            loss.backward()\n",
    "            optimizer.step()\n",
    "            \n",
    "            # Print statistics\n",
    "            running_loss += loss.item()\n",
    "            if i % 100 == 99:  # Print every 100 mini-batches\n",
    "                print(f\"[{epoch + 1}, {i + 1}] loss: {running_loss / 100:.3f}\")\n",
    "                running_loss = 0.0\n",
    "        \n",
    "        # Step the learning rate scheduler\n",
    "        scheduler.step()\n",
    "        \n",
    "    print(\"Finished Training Teacher\")\n",
    "\n",
    "\n",
    "\n",
    "# Function to train the student model with knowledge distillation\n",
    "def train_student_with_distillation(student, teacher, trainloader, criterion, optimizer, scheduler, device, alpha, temperature, num_epochs=5):\n",
    "    student.train()\n",
    "    teacher.eval()\n",
    "    student.to(device)\n",
    "    teacher.to(device)\n",
    "    \n",
    "    for epoch in range(num_epochs):\n",
    "        running_loss = 0.0\n",
    "        for i, (inputs, labels) in enumerate(tqdm(trainloader)):\n",
    "            inputs, labels = inputs.to(device), labels.to(device)\n",
    "            \n",
    "            optimizer.zero_grad()\n",
    "            \n",
    "            student_outputs = student(inputs)\n",
    "            with torch.no_grad():\n",
    "                teacher_outputs = teacher(inputs)\n",
    "            \n",
    "            ce_loss = criterion(student_outputs, labels)\n",
    "            kd_loss = knowledge_distillation_loss(student_outputs, teacher_outputs, temperature)\n",
    "            loss = alpha * kd_loss + (1 - alpha) * ce_loss\n",
    "            \n",
    "            loss.backward()\n",
    "            optimizer.step()\n",
    "            \n",
    "            running_loss += loss.item()\n",
    "            if i % 100 == 99:\n",
    "                print(f\"[{epoch + 1}, {i + 1}] loss: {running_loss / 100:.3f}\")\n",
    "                running_loss = 0.0\n",
    "        \n",
    "        scheduler.step()\n",
    "        \n",
    "    print(\"Finished Training Student\")\n",
    "\n",
    "\n",
    "# Call the function to train the teacher model\n",
    "train_teacher(teacher, trainloader, criterion, teacher_optimizer, teacher_scheduler, device, num_epochs=num_epochs)\n",
    "\n",
    "# Call the function to train the student model with knowledge distillation\n",
    "train_student_with_distillation(student, teacher, trainloader, criterion, optimizer, scheduler, device, alpha, temperature, num_epochs=num_epochs)\n"
   ]
  },
  {
   "cell_type": "code",
   "execution_count": 9,
   "id": "5df04de1-710c-406d-934c-a3fc8243115f",
   "metadata": {},
   "outputs": [],
   "source": [
    "def compare_model_size(teacher, student):\n",
    "    teacher_params = sum(p.numel() for p in teacher.parameters())\n",
    "    student_params = sum(p.numel() for p in student.parameters())\n",
    "    return teacher_params, student_params\n",
    "\n",
    "def compare_inference_time(teacher, student, dataloader):\n",
    "    inputs, _ = next(iter(dataloader))\n",
    "    device = torch.device('cuda' if torch.cuda.is_available() else 'cpu')\n",
    "    \n",
    "    teacher = teacher.to(device)\n",
    "    student = student.to(device)\n",
    "    inputs = inputs.to(device)\n",
    "    \n",
    "    start_time = time.time()\n",
    "    with torch.no_grad():\n",
    "        teacher_outputs = teacher(inputs)\n",
    "    teacher_time = time.time() - start_time\n",
    "\n",
    "    start_time = time.time()\n",
    "    with torch.no_grad():\n",
    "        student_outputs = student(inputs)\n",
    "    student_time = time.time() - start_time\n",
    "    \n",
    "    return teacher_time, student_time\n",
    "\n",
    "def compare_performance_metrics(teacher, student, dataloader):\n",
    "    teacher.eval()\n",
    "    student.eval()\n",
    "    \n",
    "    all_labels = []\n",
    "    all_teacher_preds = []\n",
    "    all_student_preds = []\n",
    "\n",
    "    for inputs, labels in dataloader:\n",
    "        with torch.no_grad():\n",
    "            teacher_outputs = teacher(inputs.to(device))\n",
    "            student_outputs = student(inputs.to(device))\n",
    "        all_labels.append(labels.cpu().numpy())\n",
    "        all_teacher_preds.append(torch.argmax(teacher_outputs, dim=1).cpu().numpy())\n",
    "        all_student_preds.append(torch.argmax(student_outputs, dim=1).cpu().numpy())\n",
    "\n",
    "    all_labels = np.concatenate(all_labels)\n",
    "    all_teacher_preds = np.concatenate(all_teacher_preds)\n",
    "    all_student_preds = np.concatenate(all_student_preds)\n",
    "    \n",
    "    metrics = {\n",
    "        'accuracy': (accuracy_score(all_labels, all_teacher_preds), accuracy_score(all_labels, all_student_preds)),\n",
    "        'precision': (precision_score(all_labels, all_teacher_preds, average='weighted', zero_division=0), precision_score(all_labels, all_student_preds, average='weighted', zero_division=0)),  # Updated line\n",
    "        'recall': (recall_score(all_labels, all_teacher_preds, average='weighted'), recall_score(all_labels, all_student_preds, average='weighted')),\n",
    "        'f1': (f1_score(all_labels, all_teacher_preds, average='weighted'), f1_score(all_labels, all_student_preds, average='weighted'))\n",
    "    }\n",
    "\n",
    "    return metrics\n",
    "\n",
    "def plot_comparison(labels, teacher_values, student_values, title, ylabel):\n",
    "    x = np.arange(len(labels))  # the label locations\n",
    "    width = 0.35  # the width of the bars\n",
    "\n",
    "    fig, ax = plt.subplots()\n",
    "    rects1 = ax.bar(x - width/2, teacher_values, width, label='Teacher')\n",
    "    rects2 = ax.bar(x + width/2, student_values, width, label='Student')\n",
    "\n",
    "    ax.set_ylabel(ylabel)\n",
    "    ax.set_title(title)\n",
    "    ax.set_xticks(x)\n",
    "    ax.set_xticklabels(labels)\n",
    "    ax.legend()\n",
    "\n",
    "    fig.tight_layout()\n",
    "\n",
    "    plt.show()"
   ]
  },
  {
   "cell_type": "code",
   "execution_count": 10,
   "id": "c997305c-7166-41ce-8d6f-3083f93b4663",
   "metadata": {},
   "outputs": [],
   "source": [
    "# def compare_fairness_metrics(teacher, student, dataloader):\n",
    "#     teacher.to(device)  # Ensure the teacher model is on the same device as the inputs\n",
    "#     student.to(device)  # Ensure the student model is on the same device as the inputs\n",
    "    \n",
    "#     teacher_fairness_metrics = {'parity': [], 'equality': []}\n",
    "#     student_fairness_metrics = {'parity': [], 'equality': []}\n",
    "\n",
    "#     for inputs, labels in dataloader:\n",
    "#         sensitive_attrs = labels  # Assuming label itself as a sensitive attribute\n",
    "#         with torch.no_grad():\n",
    "#             teacher_outputs = teacher(inputs.to(device))\n",
    "#             student_outputs = student(inputs.to(device))\n",
    "#         teacher_parity, teacher_equality = fair_metric(teacher_outputs, labels, sensitive_attrs)\n",
    "#         student_parity, student_equality = fair_metric(student_outputs, labels, sensitive_attrs)\n",
    "        \n",
    "#         teacher_fairness_metrics['parity'].append(teacher_parity)\n",
    "#         teacher_fairness_metrics['equality'].append(teacher_equality)\n",
    "#         student_fairness_metrics['parity'].append(student_parity)\n",
    "#         student_fairness_metrics['equality'].append(student_equality)\n",
    "\n",
    "#     # Computing the average for each metric\n",
    "#     teacher_avg_fairness = {key: sum(values)/len(values) for key, values in teacher_fairness_metrics.items()}\n",
    "#     student_avg_fairness = {key: sum(values)/len(values) for key, values in student_fairness_metrics.items()}\n",
    "    \n",
    "#     return teacher_avg_fairness, student_avg_fairness\n",
    "\n",
    "# # Then, when you call this function:\n",
    "# teacher_fairness_metrics, student_fairness_metrics = compare_fairness_metrics(teacher, student, trainloader)"
   ]
  },
  {
   "cell_type": "code",
   "execution_count": 11,
   "id": "02cb56a8-f11a-43ad-a45e-6204acfd4ca4",
   "metadata": {},
   "outputs": [],
   "source": [
    "# def adversarial_train_model(model, dataloader, criterion, optimizer, epoch, loss_log, combined_loss_log, fairness_penalty_sp_log, fairness_penalty_eo_log, fairness_penalty_approx_log, fairness_penalty_approx_eo_log, epoch_loss_log, epoch_combined_loss_log, epoch_fairness_penalty_sp_log, epoch_fairness_penalty_eo_log, epoch_fairness_penalty_approx_log, epoch_fairness_penalty_approx_eo_log):\n",
    "#     model.to(device)\n",
    "#     model.train()\n",
    "#     running_loss = 0.0\n",
    "#     progress_bar = tqdm(enumerate(dataloader, 0), total=len(dataloader), unit=\"batch\")\n",
    "#     for i, data in progress_bar:\n",
    "#         inputs, labels = data\n",
    "#         sensitive_attrs = labels  # Assuming label itself as a sensitive attribute\n",
    "#         optimizer.zero_grad()\n",
    "#         outputs = model(inputs.to(device))\n",
    "#         loss = criterion(outputs, labels.to(device))\n",
    "#         # Incorporate fairness metrics\n",
    "#         fairness_penalty_sp, fairness_penalty_eo = fair_metric(outputs, labels, sensitive_attrs)\n",
    "#         fairness_penalty_approx = approx_loss(outputs, sensitive_attrs, torch.arange(len(labels)).to(device))\n",
    "#         fairness_penalty_approx_eo = approx_loss_eo(outputs, sensitive_attrs, labels, torch.arange(len(labels)).to(device))\n",
    "#         combined_loss = loss + fairness_penalty_sp + fairness_penalty_eo + fairness_penalty_approx + fairness_penalty_approx_eo\n",
    "\n",
    "#         progress_bar.set_postfix(\n",
    "#             combined_loss=combined_loss.item(),\n",
    "#             fairness_penalty_sp=fairness_penalty_sp,\n",
    "#             fairness_penalty_eo=fairness_penalty_eo,\n",
    "#             fairness_penalty_approx=fairness_penalty_approx.item(),\n",
    "#             fairness_penalty_approx_eo=fairness_penalty_approx_eo.item()\n",
    "#         )\n",
    "#         combined_loss.backward()\n",
    "#         optimizer.step()\n",
    "#         running_loss += combined_loss.item()\n",
    "#         progress_bar.set_description(f\"Epoch {epoch} Loss: {running_loss/(i+1):.4f}\")\n",
    "        \n",
    "#         # Logging the losses\n",
    "#         loss_log.append(loss.item())\n",
    "#         combined_loss_log.append(combined_loss.item())\n",
    "#         fairness_penalty_sp_log.append(fairness_penalty_sp)\n",
    "#         fairness_penalty_eo_log.append(fairness_penalty_eo)\n",
    "#         fairness_penalty_approx_log.append(fairness_penalty_approx.item())\n",
    "#         fairness_penalty_approx_eo_log.append(fairness_penalty_approx_eo.item())\n",
    "\n",
    "#     # Print the loss components and total loss after each epoch\n",
    "#     print(f'Epoch {epoch + 1} Loss Components:')\n",
    "#     print(f'Total Loss: {running_loss / len(dataloader):.4f}')\n",
    "#     print(f'Cross-Entropy Loss: {sum(loss_log) / len(loss_log):.4f}')\n",
    "#     print(f'SP Fairness Penalty: {sum(fairness_penalty_sp_log) / len(fairness_penalty_sp_log):.4f}')\n",
    "#     print(f'EO Fairness Penalty: {sum(fairness_penalty_eo_log) / len(fairness_penalty_eo_log):.4f}')\n",
    "#     print(f'Approx Fairness Penalty: {sum(fairness_penalty_approx_log) / len(fairness_penalty_approx_log):.4f}')\n",
    "#     print(f'Approx EO Fairness Penalty: {sum(fairness_penalty_approx_eo_log) / len(fairness_penalty_approx_eo_log):.4f}')\n",
    "\n",
    "#     # Append the average loss values to the epoch logging lists\n",
    "#     epoch_loss_log.append(sum(loss_log) / len(loss_log))\n",
    "#     epoch_combined_loss_log.append(running_loss / len(dataloader))\n",
    "#     epoch_fairness_penalty_sp_log.append(sum(fairness_penalty_sp_log) / len(fairness_penalty_sp_log))\n",
    "#     epoch_fairness_penalty_eo_log.append(sum(fairness_penalty_eo_log) / len(fairness_penalty_eo_log))\n",
    "#     epoch_fairness_penalty_approx_log.append(sum(fairness_penalty_approx_log) / len(fairness_penalty_approx_log))\n",
    "#     epoch_fairness_penalty_approx_eo_log.append(sum(fairness_penalty_approx_eo_log) / len(fairness_penalty_approx_eo_log))\n",
    "\n",
    "#     return running_loss / len(dataloader)\n",
    "    \n",
    "# # Define the logging lists at the beginning of your script or before the training loop\n",
    "# teacher_loss_log, teacher_combined_loss_log, teacher_fairness_penalty_sp_log, teacher_fairness_penalty_eo_log, teacher_fairness_penalty_approx_log, teacher_fairness_penalty_approx_eo_log = [], [], [], [], [], []\n",
    "# student_loss_log, student_combined_loss_log, student_fairness_penalty_sp_log, student_fairness_penalty_eo_log, student_fairness_penalty_approx_log, student_fairness_penalty_approx_eo_log = [], [], [], [], [], []\n",
    "\n",
    "# # Define the missing epoch logging lists\n",
    "# epoch_loss_log, epoch_combined_loss_log, epoch_fairness_penalty_sp_log, epoch_fairness_penalty_eo_log, epoch_fairness_penalty_approx_log, epoch_fairness_penalty_approx_eo_log = [], [], [], [], [], []\n",
    "\n",
    "# # Train your model with adversarial training\n",
    "# for epoch in range(num_epochs):\n",
    "#     adversarial_train_model(student, trainloader, criterion, optimizer, epoch, student_loss_log, student_combined_loss_log, student_fairness_penalty_sp_log, student_fairness_penalty_eo_log, student_fairness_penalty_approx_log, student_fairness_penalty_approx_eo_log, epoch_loss_log, epoch_combined_loss_log, epoch_fairness_penalty_sp_log, epoch_fairness_penalty_eo_log, epoch_fairness_penalty_approx_log, epoch_fairness_penalty_approx_eo_log)\n"
   ]
  },
  {
   "cell_type": "code",
   "execution_count": 15,
   "id": "8fcc266c-c11a-4186-b394-c8fb5ae4bc13",
   "metadata": {},
   "outputs": [
    {
     "data": {
      "image/png": "[encoded data removed]",
      "text/plain": [
       "<Figure size 640x480 with 1 Axes>"
      ]
     },
     "metadata": {},
     "output_type": "display_data"
    },
    {
     "data": {
      "image/png": "[encoded data removed]",
      "text/plain": [
       "<Figure size 640x480 with 1 Axes>"
      ]
     },
     "metadata": {},
     "output_type": "display_data"
    },
    {
     "data": {
      "image/png": "[encoded data removed]",
      "text/plain": [
       "<Figure size 640x480 with 1 Axes>"
      ]
     },
     "metadata": {},
     "output_type": "display_data"
    }
   ],
   "source": [
    "# Comparing the models\n",
    "teacher_params, student_params = compare_model_size(teacher, student)\n",
    "teacher_time, student_time = compare_inference_time(teacher, student, trainloader)\n",
    "performance_metrics = compare_performance_metrics(teacher, student, trainloader)\n",
    "\n",
    "# Extracting the metric values for plotting\n",
    "performance_labels = ['accuracy', 'precision', 'recall', 'f1']\n",
    "teacher_performance_values = [performance_metrics[metric][0] for metric in performance_labels]\n",
    "student_performance_values = [performance_metrics[metric][1] for metric in performance_labels]\n",
    "\n",
    "# Plotting the comparison for performance metrics\n",
    "plot_comparison(performance_labels, teacher_performance_values, student_performance_values, 'Performance Comparison', 'Score')\n",
    "\n",
    "# Plotting the comparison for model size\n",
    "model_size_labels = ['Model Size']\n",
    "teacher_model_size_values = [teacher_params]\n",
    "student_model_size_values = [student_params]\n",
    "plot_comparison(model_size_labels, teacher_model_size_values, student_model_size_values, 'Model Size Comparison', 'Parameter Count')\n",
    "\n",
    "# Plotting the comparison for inference time\n",
    "inference_time_labels = ['Inference Time']\n",
    "teacher_inference_time_values = [teacher_time]\n",
    "student_inference_time_values = [student_time]\n",
    "plot_comparison(inference_time_labels, teacher_inference_time_values, student_inference_time_values, 'Inference Time Comparison', 'Time (seconds)')"
   ]
  },
  {
   "cell_type": "code",
   "execution_count": 13,
   "id": "98d139fd-2dee-4bb2-86ee-3c5aa5d25ef6",
   "metadata": {},
   "outputs": [],
   "source": [
    "# epochs = list(range(1, num_epochs + 1))  # Create a list of epoch numbers\n",
    "\n",
    "# plt.figure(figsize=(10, 6))\n",
    "# plt.plot(epochs, epoch_combined_loss_log, label='Total Loss')\n",
    "# plt.plot(epochs, epoch_loss_log, label='Cross-Entropy Loss')\n",
    "# plt.plot(epochs, epoch_fairness_penalty_sp_log, label='SP Fairness Penalty')\n",
    "# plt.plot(epochs, epoch_fairness_penalty_eo_log, label='EO Fairness Penalty')\n",
    "# plt.plot(epochs, epoch_fairness_penalty_approx_log, label='Approx Fairness Penalty')\n",
    "# plt.plot(epochs, epoch_fairness_penalty_approx_eo_log, label='Approx EO Fairness Penalty')\n",
    "# plt.xlabel('Epochs')\n",
    "# plt.ylabel('Loss')\n",
    "# plt.legend()\n",
    "# plt.title('Loss and Loss Components per Epoch')\n",
    "# plt.show()"
   ]
  },
  {
   "cell_type": "code",
   "execution_count": 16,
   "id": "9d10430d-63e2-4b29-bdc6-2337706646c2",
   "metadata": {},
   "outputs": [],
   "source": [
    "# Save the student model architecture and weights\n",
    "torch.save(student.state_dict(), 'student_model.pth')\n",
    "torch.save(teacher.state_dict(), 'teacher_model.pth')\n",
    "\n",
    "# Define your model architectures as strings\n",
    "teacher_arch = '''\n",
    "class TeacherCNN(nn.Module):\n",
    "    def __init__(self, num_classes=100):\n",
    "        super(TeacherCNN, self).__init__()\n",
    "        self.conv1 = nn.Conv2d(in_channels=3, out_channels=32, kernel_size=3, padding=1)\n",
    "        self.conv2 = nn.Conv2d(in_channels=32, out_channels=64, kernel_size=3, padding=1)\n",
    "        self.conv3 = nn.Conv2d(in_channels=64, out_channels=128, kernel_size=3, padding=1)\n",
    "        self.fc1 = nn.Linear(in_features=2048, out_features=256)\n",
    "        self.fc2 = nn.Linear(in_features=256, out_features=256)\n",
    "        self.fc3 = nn.Linear(in_features=256, out_features=512)\n",
    "        self.fc4 = nn.Linear(in_features=512, out_features=num_classes)\n",
    "        \n",
    "    def forward(self, x):\n",
    "        x = nn.ReLU()(self.conv1(x))\n",
    "        x = nn.MaxPool2d(kernel_size=2)(x)\n",
    "        x = nn.ReLU()(self.conv2(x))\n",
    "        x = nn.MaxPool2d(kernel_size=2)(x)\n",
    "        x = nn.ReLU()(self.conv3(x))\n",
    "        x = nn.MaxPool2d(kernel_size=2)(x)\n",
    "        x = x.view(x.size(0), -1)\n",
    "        x = nn.ReLU()(self.fc1(x))\n",
    "        x = self.fc2(x)\n",
    "        x = nn.ReLU()(self.fc3(x))\n",
    "        x = self.fc4(x)\n",
    "        return x\n",
    "'''\n",
    "\n",
    "student_arch = '''\n",
    "class StudentCNN(nn.Module):\n",
    "    def __init__(self, num_classes=100):\n",
    "        super(StudentCNN, self).__init__()\n",
    "        self.conv1 = nn.Conv2d(in_channels=3, out_channels=16, kernel_size=3)\n",
    "        self.bn1 = nn.BatchNorm2d(16)\n",
    "        self.pool = nn.MaxPool2d(kernel_size=2)\n",
    "        self.dropout = nn.Dropout(p=0.5)\n",
    "        self.fc1 = nn.Linear(in_features=3600, out_features=num_classes)\n",
    "\n",
    "    def forward(self, x):\n",
    "        x = self.conv1(x)\n",
    "        x = self.bn1(x)\n",
    "        x = F.relu(x)\n",
    "        x = self.pool(x)\n",
    "        x = self.dropout(x)\n",
    "        x = x.view(x.size(0), -1)\n",
    "        x = self.fc1(x)\n",
    "        return x\n",
    "'''\n",
    "\n",
    "# Open model_arch.py in write mode\n",
    "with open('model_arch.py', 'w') as file:\n",
    "    # Write the model architectures to model_arch.py\n",
    "    file.write(teacher_arch)\n",
    "    file.write(student_arch)\n"
   ]
  },
  {
   "cell_type": "code",
   "execution_count": null,
   "id": "10dcd8a2-d3e1-4377-98e0-6b4e1b1d729d",
   "metadata": {},
   "outputs": [],
   "source": []
  },
  {
   "cell_type": "code",
   "execution_count": null,
   "id": "e16fbb93-ce5c-4822-82ca-5644bcfe6a1e",
   "metadata": {},
   "outputs": [],
   "source": []
  }
 ],
 "metadata": {
  "kernelspec": {
   "display_name": "Python 3 (ipykernel)",
   "language": "python",
   "name": "python3"
  },
  "language_info": {
   "codemirror_mode": {
    "name": "ipython",
    "version": 3
   },
   "file_extension": ".py",
   "mimetype": "text/x-python",
   "name": "python",
   "nbconvert_exporter": "python",
   "pygments_lexer": "ipython3",
   "version": "3.10.9"
  }
 },
 "nbformat": 4,
 "nbformat_minor": 5
}
