{
 "cells": [
  {
   "cell_type": "code",
   "execution_count": 2,
   "id": "d692c1e4-7222-46be-a9c4-ffd1331863b7",
   "metadata": {},
   "outputs": [],
   "source": [
    "from utils.loss_functions import DKDLoss\n",
    "import torch\n",
    "import torch.nn as nn\n",
    "import torch.nn.functional as F\n",
    "import torch.optim as optim\n",
    "import torchvision\n",
    "import torchvision.transforms as transforms\n",
    "from tqdm import tqdm\n",
    "from models_package.models import Teacher, Student\n",
    "from torchvision import datasets, transforms, models\n",
    "import models_package\n",
    "import time\n",
    "import matplotlib.pyplot as plt\n",
    "import numpy as np\n",
    "from sklearn.metrics import accuracy_score, precision_score, recall_score, f1_score\n",
    "\n",
    "# new libraries\n",
    "from data.data_loader import load_cifar10, load_cifar100, load_imagenet, load_prof\n",
    "import boto3\n",
    "import io\n",
    "from utils.compare_tools import compare_model_size, compare_inference_time, compare_performance_metrics, plot_comparison\n",
    "from utils.misc_tools import best_LR "
   ]
  },
  {
   "cell_type": "markdown",
   "id": "ffa78713-3fc2-461a-bed6-e4e500e0d133",
   "metadata": {},
   "source": [
    "## Find best LR"
   ]
  },
  {
   "cell_type": "code",
   "execution_count": 9,
   "id": "b94bb557-3c3d-45c0-9b41-ccad6ca0ebee",
   "metadata": {},
   "outputs": [],
   "source": [
    "# Hyperparameters\n",
    "learning_rate = 0.003  # 0.01 for resnet34x2 & 0.1 for resnet8 & 0.003 for resnet 8x4\n",
    "num_epochs = 2\n",
    "num_workers = 2\n",
    "batch_size = 32\n",
    "temperature = 4.0\n",
    "alpha = 0.9\n",
    "momentum = 0.9\n",
    "num_classes = 10\n",
    "step_size = 30\n",
    "gamma = 0.1\n",
    "\n",
    "# new parameters\n",
    "# lr_input = 0.1\n",
    "# momentum_input = 0.9\n",
    "weight_decay_input = 5e-4\n",
    "# epochs = 20\n",
    "# T = 4.0 # temperatureture\n",
    "# alpha = 0.9\n",
    "patience = 5  # for early stopping"
   ]
  },
  {
   "cell_type": "markdown",
   "id": "dd3f4ec2-e075-43a4-8889-67d11543463a",
   "metadata": {},
   "source": [
    "## Load in Data"
   ]
  },
  {
   "cell_type": "code",
   "execution_count": 4,
   "id": "93e47e3a-3889-4b4b-b552-f16efff3aac3",
   "metadata": {},
   "outputs": [],
   "source": [
    "# Load IdenProf dataset\n",
    "train_path = '/home/ubuntu/W210-Capstone/notebooks/idenprof/train'\n",
    "test_path = '/home/ubuntu/W210-Capstone/notebooks/idenprof/test'\n",
    "trainloader, testloader  = load_prof(train_path, test_path, batch_size=batch_size)"
   ]
  },
  {
   "cell_type": "markdown",
   "id": "78b17689-868d-48c0-a54b-955cd8e49067",
   "metadata": {},
   "source": [
    "## Load in models"
   ]
  },
  {
   "cell_type": "markdown",
   "id": "dc5ba578-9fee-4f80-a4f3-c7f8277c41bc",
   "metadata": {},
   "source": [
    "### resnet32x4_idenprof"
   ]
  },
  {
   "cell_type": "code",
   "execution_count": 4,
   "id": "08995195-43a8-4d2e-a181-af291b5282c1",
   "metadata": {},
   "outputs": [],
   "source": [
    "# Instantiate the models\n",
    "\n",
    "# Create instances of your models\n",
    "# teacher_model = torchvision.models.resnet34(weights=ResNet34_Weights.IMAGENET1K_V1).cuda()\n",
    "# teacher_model.eval()  # Set teacher model to evaluation mode\n",
    "# student_model = torchvision.models.resnet18(weights=None).cuda()\n",
    "\n",
    "teacher_name = 'resnet32x4_idenprof'\n",
    "teacher_model = models_package.__dict__[teacher_name](num_class=10)\n",
    "teacher_model.fc = nn.Linear(teacher_model.fc.in_features, 10)"
   ]
  },
  {
   "cell_type": "markdown",
   "id": "fd52d20e-74bc-47de-98fe-459fffd5a4ff",
   "metadata": {},
   "source": [
    "### resnet8_idenprof"
   ]
  },
  {
   "cell_type": "code",
   "execution_count": 8,
   "id": "351776d3-928e-41ae-bdcf-67077724f25b",
   "metadata": {},
   "outputs": [],
   "source": [
    "teacher_name = 'resnet8_idenprof'\n",
    "teacher_model = models_package.__dict__[teacher_name](num_class=10)\n",
    "teacher_model.fc = nn.Linear(teacher_model.fc.in_features, 10)"
   ]
  },
  {
   "cell_type": "markdown",
   "id": "65f15cba-6773-47ad-bf3c-3a168a4ad3e0",
   "metadata": {},
   "source": [
    "### resnet8x4_idenprof"
   ]
  },
  {
   "cell_type": "code",
   "execution_count": 10,
   "id": "4d207ab1-84fd-4a3c-9d3b-5ea16e136325",
   "metadata": {},
   "outputs": [],
   "source": [
    "teacher_name = 'resnet8x4_idenprof'\n",
    "teacher_model = models_package.__dict__[teacher_name](num_class=10)\n",
    "teacher_model.fc = nn.Linear(teacher_model.fc.in_features, 10)"
   ]
  },
  {
   "cell_type": "code",
   "execution_count": 6,
   "id": "3a98f7e7-bff8-4f28-9db2-72301bb8a920",
   "metadata": {
    "scrolled": true
   },
   "outputs": [
    {
     "data": {
      "text/plain": [
       "ResNet(\n",
       "  (conv1): Conv2d(3, 32, kernel_size=(3, 3), stride=(1, 1), padding=(1, 1), bias=False)\n",
       "  (bn1): BatchNorm2d(32, eps=1e-05, momentum=0.1, affine=True, track_running_stats=True)\n",
       "  (relu): ReLU(inplace=True)\n",
       "  (layer1): Sequential(\n",
       "    (0): BasicBlock(\n",
       "      (conv1): Conv2d(32, 64, kernel_size=(3, 3), stride=(1, 1), padding=(1, 1), bias=False)\n",
       "      (bn1): BatchNorm2d(64, eps=1e-05, momentum=0.1, affine=True, track_running_stats=True)\n",
       "      (relu): ReLU(inplace=True)\n",
       "      (conv2): Conv2d(64, 64, kernel_size=(3, 3), stride=(1, 1), padding=(1, 1), bias=False)\n",
       "      (bn2): BatchNorm2d(64, eps=1e-05, momentum=0.1, affine=True, track_running_stats=True)\n",
       "      (downsample): Sequential(\n",
       "        (0): Conv2d(32, 64, kernel_size=(1, 1), stride=(1, 1), bias=False)\n",
       "        (1): BatchNorm2d(64, eps=1e-05, momentum=0.1, affine=True, track_running_stats=True)\n",
       "      )\n",
       "    )\n",
       "  )\n",
       "  (layer2): Sequential(\n",
       "    (0): BasicBlock(\n",
       "      (conv1): Conv2d(64, 128, kernel_size=(3, 3), stride=(2, 2), padding=(1, 1), bias=False)\n",
       "      (bn1): BatchNorm2d(128, eps=1e-05, momentum=0.1, affine=True, track_running_stats=True)\n",
       "      (relu): ReLU(inplace=True)\n",
       "      (conv2): Conv2d(128, 128, kernel_size=(3, 3), stride=(1, 1), padding=(1, 1), bias=False)\n",
       "      (bn2): BatchNorm2d(128, eps=1e-05, momentum=0.1, affine=True, track_running_stats=True)\n",
       "      (downsample): Sequential(\n",
       "        (0): Conv2d(64, 128, kernel_size=(1, 1), stride=(2, 2), bias=False)\n",
       "        (1): BatchNorm2d(128, eps=1e-05, momentum=0.1, affine=True, track_running_stats=True)\n",
       "      )\n",
       "    )\n",
       "  )\n",
       "  (layer3): Sequential(\n",
       "    (0): BasicBlock(\n",
       "      (conv1): Conv2d(128, 256, kernel_size=(3, 3), stride=(2, 2), padding=(1, 1), bias=False)\n",
       "      (bn1): BatchNorm2d(256, eps=1e-05, momentum=0.1, affine=True, track_running_stats=True)\n",
       "      (relu): ReLU(inplace=True)\n",
       "      (conv2): Conv2d(256, 256, kernel_size=(3, 3), stride=(1, 1), padding=(1, 1), bias=False)\n",
       "      (bn2): BatchNorm2d(256, eps=1e-05, momentum=0.1, affine=True, track_running_stats=True)\n",
       "      (downsample): Sequential(\n",
       "        (0): Conv2d(128, 256, kernel_size=(1, 1), stride=(2, 2), bias=False)\n",
       "        (1): BatchNorm2d(256, eps=1e-05, momentum=0.1, affine=True, track_running_stats=True)\n",
       "      )\n",
       "    )\n",
       "  )\n",
       "  (avgpool): AvgPool2d(kernel_size=8, stride=8, padding=0)\n",
       "  (fc): Linear(in_features=12544, out_features=10, bias=True)\n",
       ")"
      ]
     },
     "execution_count": 6,
     "metadata": {},
     "output_type": "execute_result"
    }
   ],
   "source": [
    "teacher_model"
   ]
  },
  {
   "cell_type": "code",
   "execution_count": 7,
   "id": "918fa4ed-2b3e-4b40-be75-1a6500c55eed",
   "metadata": {},
   "outputs": [],
   "source": [
    "# Optimizer and scheduler for the student model\n",
    "# optimizer = optim.SGD(student_model.parameters(), lr=learning_rate, momentum=momentum)\n",
    "# scheduler = torch.optim.lr_scheduler.StepLR(optimizer, step_size=step_size, gamma=gamma)\n",
    "\n",
    "# Optimizer and scheduler for the teacher model\n",
    "teacher_optimizer = optim.SGD(teacher_model.parameters(), lr=learning_rate, momentum=momentum)\n",
    "teacher_scheduler = torch.optim.lr_scheduler.StepLR(teacher_optimizer, step_size=step_size, gamma=gamma)\n",
    "\n",
    "criterion = nn.CrossEntropyLoss()\n",
    "# Assuming the device is a CUDA device if available\n",
    "device = torch.device('cuda' if torch.cuda.is_available() else 'cpu')"
   ]
  },
  {
   "cell_type": "markdown",
   "id": "e38683df-c675-4462-af47-bc4c418ab11b",
   "metadata": {},
   "source": [
    "## Best LR"
   ]
  },
  {
   "cell_type": "code",
   "execution_count": 8,
   "id": "a4077150-12c1-4286-932b-58419958fd0f",
   "metadata": {},
   "outputs": [
    {
     "name": "stderr",
     "output_type": "stream",
     "text": [
      "100%|███████████████████████████████████████████████████████████████████████████████████████████████████████████████| 282/282 [00:58<00:00,  4.81it/s]\n",
      "100%|███████████████████████████████████████████████████████████████████████████████████████████████████████████████| 282/282 [00:57<00:00,  4.93it/s]\n",
      "100%|███████████████████████████████████████████████████████████████████████████████████████████████████████████████| 282/282 [00:57<00:00,  4.93it/s]\n"
     ]
    },
    {
     "data": {
      "image/png": "[encoded data removed]",
      "text/plain": [
       "<Figure size 640x480 with 1 Axes>"
      ]
     },
     "metadata": {},
     "output_type": "display_data"
    },
    {
     "name": "stdout",
     "output_type": "stream",
     "text": [
      "Best learning rate: 0.002998631348575567\n",
      "0.002998631348575567\n"
     ]
    }
   ],
   "source": [
    "## TODO - why cant i get this to load in as a package so we dont have to copy-paste big code blocks\n",
    "\n",
    "#### finding the optimal learning rate\n",
    "def train_teacher(model, trainloader, criterion, optimizer, scheduler, device, num_epochs=5, lr_range=(1e-4, 1e-1), plot_loss=True):\n",
    "    model.train()\n",
    "    model.to(device)\n",
    "    lr_values = np.logspace(np.log10(lr_range[0]), np.log10(lr_range[1]), num_epochs * len(trainloader))  # Generate learning rates for each batch\n",
    "    lr_iter = iter(lr_values)\n",
    "    losses = []\n",
    "    lrs = []\n",
    "    \n",
    "    for epoch in range(num_epochs):\n",
    "        for i, (inputs, labels) in enumerate(tqdm(trainloader)):\n",
    "            lr = next(lr_iter)\n",
    "            for param_group in optimizer.param_groups:\n",
    "                param_group['lr'] = lr  # Set new learning rate\n",
    "            \n",
    "            inputs, labels = inputs.to(device), labels.to(device)\n",
    "            optimizer.zero_grad()\n",
    "            _, outputs = model(inputs)\n",
    "            loss = criterion(outputs, labels)\n",
    "            loss.backward()\n",
    "            optimizer.step()\n",
    "            \n",
    "            losses.append(loss.item())\n",
    "            lrs.append(lr)\n",
    "    \n",
    "    # Calculate the derivative of the loss\n",
    "    loss_derivative = np.gradient(losses)\n",
    "    \n",
    "    # Find the learning rate corresponding to the minimum derivative (steepest decline)\n",
    "    best_lr_index = np.argmin(loss_derivative)\n",
    "    best_lr = lrs[best_lr_index]\n",
    "    \n",
    "    if plot_loss:\n",
    "        import matplotlib.pyplot as plt\n",
    "        plt.figure()\n",
    "        plt.plot(lrs, losses)\n",
    "        plt.xscale('log')\n",
    "        plt.xlabel('Learning Rate')\n",
    "        plt.ylabel('Loss')\n",
    "        plt.title('Learning Rate Range Test')\n",
    "        plt.axvline(x=best_lr, color='red', linestyle='--', label=f'Best LR: {best_lr}')\n",
    "        plt.legend()\n",
    "        plt.show()\n",
    "    \n",
    "    print(f'Best learning rate: {best_lr}')\n",
    "    return best_lr\n",
    "\n",
    "############# input ############## \n",
    "batch_size = 32  #to find the optimal learning rate\n",
    "best_lr = train_teacher(teacher_model, trainloader, criterion, teacher_optimizer, teacher_scheduler, device, num_epochs=3)  \n",
    "print(best_lr)"
   ]
  },
  {
   "cell_type": "markdown",
   "id": "adff0123-c39b-442f-b806-d879d38f466c",
   "metadata": {},
   "source": [
    "## Train Leaderboard Teacher Models"
   ]
  },
  {
   "cell_type": "code",
   "execution_count": 11,
   "id": "120ada39-4336-4ce0-a44d-a4e2f7b7c6b6",
   "metadata": {},
   "outputs": [],
   "source": [
    "# Function to train the teacher model\n",
    "def train_teacher(model, trainloader, criterion, optimizer, scheduler, device, num_epochs=5, patience=5):\n",
    "    model.train()\n",
    "    model.to(device)\n",
    "    best_train_loss = float('inf')\n",
    "    patience_counter = 0\n",
    "\n",
    "    for epoch in range(num_epochs):\n",
    "        running_loss = 0.0\n",
    "        epoch_loss = 0.0  \n",
    "        num_batches = 0  \n",
    "        for i, (inputs, labels) in enumerate(tqdm(trainloader)):\n",
    "            inputs, labels = inputs.to(device), labels.to(device)\n",
    "            optimizer.zero_grad()\n",
    "            _, outputs = model(inputs)\n",
    "            loss = criterion(outputs, labels)\n",
    "            loss.backward()\n",
    "            optimizer.step()\n",
    "            running_loss += loss.item()\n",
    "            epoch_loss += loss.item()\n",
    "            num_batches += 1\n",
    "            if i % 100 == 99:  # Print every 100 mini-batches\n",
    "                print(f\"[{epoch + 1}, {i + 1}] loss: {running_loss / 100:.3f}\")\n",
    "                running_loss = 0.0\n",
    "\n",
    "        epoch_loss /= num_batches  \n",
    "        \n",
    "        # Check for early stopping\n",
    "        if epoch_loss < best_train_loss:\n",
    "            best_train_loss = epoch_loss\n",
    "            patience_counter = 0 \n",
    "            # checkpoint\n",
    "            torch.save(model.state_dict(), f'teacher_model_weights_resnet34_2_checkpoint.pth')\n",
    "            torch.save(model, f'teacher_model_resnet34_2_checkpoint.pth')\n",
    "\n",
    "        else:\n",
    "            patience_counter += 1\n",
    "\n",
    "        if patience_counter >= patience:\n",
    "            print('Early stopping')\n",
    "            break\n",
    "\n",
    "        scheduler.step()\n",
    "\n",
    "    print(\"Finished Training Teacher\")\n",
    "\n",
    "\n",
    "# # Function to train the student model with knowledge distillation\n",
    "# def train_student_with_distillation(student, teacher, trainloader, criterion, optimizer, scheduler, device, alpha, temperature, num_epochs, patience=5):\n",
    "#     student.train()\n",
    "#     teacher.eval()\n",
    "#     student.to(device)\n",
    "#     teacher.to(device)\n",
    "#     best_train_loss = float('inf')  \n",
    "#     patience_counter = 0 \n",
    "\n",
    "#     for epoch in range(num_epochs):\n",
    "#         running_loss = 0.0 \n",
    "#         epoch_loss = 0.0  \n",
    "#         num_batches = 0  \n",
    "#         for i, (inputs, labels) in enumerate(tqdm(trainloader)):\n",
    "#             inputs, labels = inputs.to(device), labels.to(device)\n",
    "#             optimizer.zero_grad()\n",
    "#             _, student_outputs = student(inputs)\n",
    "#             with torch.no_grad():\n",
    "#                 teacher_outputs = teacher(inputs)\n",
    "#             # ce_loss = criterion(student_outputs, labels)\n",
    "#             # kd_loss = tkd_kdloss(student_outputs, teacher_outputs, temperature=temperature)  # from utils.loss_functions\n",
    "#             # loss = alpha * kd_loss + (1 - alpha) * ce_loss\n",
    "\n",
    "#             ### Any changes need in the loss function??\n",
    "\n",
    "#             distance_loss = RKDDistanceLoss()(student_outputs, teacher_outputs)\n",
    "#             angle_loss = RKDAngleLoss()(student_outputs, teacher_outputs)\n",
    "#             loss = criterion(student_outputs, labels) + 0.1 * (distance_loss + angle_loss)\n",
    "\n",
    "#             loss.backward()\n",
    "#             optimizer.step()\n",
    "#             running_loss += loss.item()\n",
    "#             epoch_loss += loss.item()\n",
    "#             num_batches += 1\n",
    "#             if i % 100 == 99:  \n",
    "#                 print(f\"[{epoch + 1}, {i + 1}] loss: {running_loss / 100:.3f}\")\n",
    "#                 running_loss = 0.0\n",
    "\n",
    "#         epoch_loss /= num_batches  \n",
    "\n",
    "#         # Check for early stopping\n",
    "#         if epoch_loss < best_train_loss:\n",
    "#             best_train_loss = epoch_loss\n",
    "#             patience_counter = 0 \n",
    "#             torch.save(student.state_dict(), f'student_model_weights_resnet34_2_checkpoint.pth')\n",
    "#             torch.save(student, f'student_model_resnet34_2_checkpoint.pth')\n",
    "#         else:\n",
    "#             patience_counter += 1 \n",
    "\n",
    "#         if patience_counter >= patience:\n",
    "#             print('Early stopping')\n",
    "#             break  \n",
    "\n",
    "#         scheduler.step() \n",
    "\n",
    "#     print(\"Finished Training Student\")"
   ]
  },
  {
   "cell_type": "code",
   "execution_count": 12,
   "id": "5e42c3bb-8d52-4063-9e20-1165775472a7",
   "metadata": {},
   "outputs": [
    {
     "name": "stderr",
     "output_type": "stream",
     "text": [
      " 35%|███████████████████████████████████████▎                                                                       | 100/282 [00:20<00:36,  4.94it/s]"
     ]
    },
    {
     "name": "stdout",
     "output_type": "stream",
     "text": [
      "[1, 100] loss: 2.407\n"
     ]
    },
    {
     "name": "stderr",
     "output_type": "stream",
     "text": [
      " 71%|██████████████████████████████████████████████████████████████████████████████▋                                | 200/282 [00:40<00:16,  4.93it/s]"
     ]
    },
    {
     "name": "stdout",
     "output_type": "stream",
     "text": [
      "[1, 200] loss: 2.401\n"
     ]
    },
    {
     "name": "stderr",
     "output_type": "stream",
     "text": [
      "100%|███████████████████████████████████████████████████████████████████████████████████████████████████████████████| 282/282 [00:57<00:00,  4.94it/s]\n",
      " 35%|███████████████████████████████████████▎                                                                       | 100/282 [00:20<00:36,  4.94it/s]"
     ]
    },
    {
     "name": "stdout",
     "output_type": "stream",
     "text": [
      "[2, 100] loss: 2.396\n"
     ]
    },
    {
     "name": "stderr",
     "output_type": "stream",
     "text": [
      " 71%|██████████████████████████████████████████████████████████████████████████████▋                                | 200/282 [00:40<00:16,  4.94it/s]"
     ]
    },
    {
     "name": "stdout",
     "output_type": "stream",
     "text": [
      "[2, 200] loss: 2.397\n"
     ]
    },
    {
     "name": "stderr",
     "output_type": "stream",
     "text": [
      "100%|███████████████████████████████████████████████████████████████████████████████████████████████████████████████| 282/282 [00:57<00:00,  4.94it/s]"
     ]
    },
    {
     "name": "stdout",
     "output_type": "stream",
     "text": [
      "Finished Training Teacher\n"
     ]
    },
    {
     "name": "stderr",
     "output_type": "stream",
     "text": [
      "\n"
     ]
    }
   ],
   "source": [
    "# # Assuming the device is a CUDA device if available\n",
    "# device = torch.device('cuda' if torch.cuda.is_available() else 'cpu')\n",
    "# Call the function to train the teacher model\n",
    "train_teacher(teacher_model, trainloader, criterion, teacher_optimizer, teacher_scheduler, device, num_epochs=num_epochs)\n",
    "# Call the function to train the student model with knowledge distillation\n",
    "# train_student_with_distillation(student_model, teacher_model, trainloader, criterion, optimizer, scheduler, device, alpha, temperature, num_epochs=num_epochs)\n"
   ]
  },
  {
   "cell_type": "markdown",
   "id": "3ade374e-af03-49f7-b88d-b1308479820e",
   "metadata": {},
   "source": [
    "## Train Leaderboard Student Models"
   ]
  },
  {
   "cell_type": "code",
   "execution_count": 15,
   "id": "a3372ef8-48e4-44d6-920d-a2529a5fa199",
   "metadata": {},
   "outputs": [],
   "source": [
    "########## Need studnet model loss function"
   ]
  },
  {
   "cell_type": "code",
   "execution_count": 16,
   "id": "33dfc81a-80c7-4909-ac9d-c321d19274c6",
   "metadata": {},
   "outputs": [],
   "source": [
    "# Studnet Model Training"
   ]
  },
  {
   "cell_type": "markdown",
   "id": "da8c2041-5f41-47cc-9f2b-3729a8f1100d",
   "metadata": {},
   "source": [
    "## Save Models and Weights"
   ]
  },
  {
   "cell_type": "code",
   "execution_count": 17,
   "id": "4e9b7201-9308-43b8-a7ad-aea5898e6cc6",
   "metadata": {},
   "outputs": [
    {
     "name": "stdout",
     "output_type": "stream",
     "text": [
      "student weights and architecture saved and exported\n"
     ]
    }
   ],
   "source": [
    "## backup\n",
    "# Save the student and teacher model weights and architecture\n",
    "torch.save(teacher_model.state_dict(), 'teacher_model_weights_resnet8_4.pth')\n",
    "torch.save(teacher_model, 'testing_teacher_model_resnet8_4.pth')\n",
    "print('student weights and architecture saved and exported')"
   ]
  },
  {
   "cell_type": "code",
   "execution_count": 13,
   "id": "b79c6094-8e8b-4c15-a886-3222640db9ca",
   "metadata": {},
   "outputs": [
    {
     "name": "stdout",
     "output_type": "stream",
     "text": [
      "teacher weights and architecture saved and exported to S3\n"
     ]
    }
   ],
   "source": [
    "###################### Saving weights and movel using s3 bucket ######################\n",
    "\n",
    "session = boto3.session.Session()\n",
    "s3 = session.client('s3')\n",
    "\n",
    "bucket_name = '210bucket' \n",
    "\n",
    "# Teacher Model\n",
    "#### IMPORTANT!!!!! Change the file name so that you do not overwrite the existing files\n",
    "teacher_model_weights_path = 'weights/teacher_model_weights_resnet8_4.pth'\n",
    "teacher_model_path = 'models/testing_teacher_model_resnet8_4.pth'\n",
    "\n",
    "# Save state dict to buffer\n",
    "teacher_model_weights_buffer = io.BytesIO()\n",
    "torch.save(teacher_model.state_dict(), teacher_model_weights_buffer)\n",
    "teacher_model_weights_buffer.seek(0)\n",
    "\n",
    "# Save entire model to buffer\n",
    "teacher_model_buffer = io.BytesIO()\n",
    "torch.save(teacher_model, teacher_model_buffer)\n",
    "teacher_model_buffer.seek(0)\n",
    "\n",
    "# Upload to S3\n",
    "s3.put_object(Bucket=bucket_name, Key=teacher_model_weights_path, Body=teacher_model_weights_buffer)\n",
    "s3.put_object(Bucket=bucket_name, Key=teacher_model_path, Body=teacher_model_buffer)\n",
    "print('teacher weights and architecture saved and exported to S3')\n",
    "\n",
    "# # Student Model\n",
    "# #### IMPORTANT!!!!! Change the file name so that you do not overwrite the existing files\n",
    "# student_model_weights_path = 'weights/student_model_weights.pth' \n",
    "# student_model_path = 'models/student_model.pth'\n",
    "\n",
    "# # Save state dict to buffer\n",
    "# student_model_weights_buffer = io.BytesIO()\n",
    "# torch.save(student_model.state_dict(), student_model_weights_buffer)\n",
    "# student_model_weights_buffer.seek(0)\n",
    "\n",
    "# # Save entire model to buffer\n",
    "# student_model_buffer = io.BytesIO()\n",
    "# torch.save(student_model, student_model_buffer)\n",
    "# student_model_buffer.seek(0)\n",
    "\n",
    "# # Upload to S3\n",
    "# s3.put_object(Bucket=bucket_name, Key=student_model_weights_path, Body=student_model_weights_buffer)\n",
    "# s3.put_object(Bucket=bucket_name, Key=student_model_path, Body=student_model_buffer)\n",
    "# print('student weights and architecture saved and exported to S3')"
   ]
  },
  {
   "cell_type": "markdown",
   "id": "d6731e70-0e45-4569-a2d1-15a459a05e9f",
   "metadata": {},
   "source": [
    "## Read Models and Weights"
   ]
  },
  {
   "cell_type": "code",
   "execution_count": 14,
   "id": "6b0894a3-e04a-4d27-a0b9-7b795e15ed59",
   "metadata": {},
   "outputs": [
    {
     "data": {
      "text/plain": [
       "<All keys matched successfully>"
      ]
     },
     "execution_count": 14,
     "metadata": {},
     "output_type": "execute_result"
    }
   ],
   "source": [
    "# Initialize a session using Boto3 again \n",
    "session = boto3.session.Session()\n",
    "\n",
    "s3 = session.client('s3')\n",
    "bucket_name = '210bucket'  \n",
    "\n",
    "teacher_model_weights_s3_path = 'weights/teacher_model_weights_resnet8_4.pth'\n",
    "# student_model_weights_s3_path = 'weights/testing_student_model_weights_rkd_prof.pth'\n",
    "\n",
    "# Read files directly into memory\n",
    "teacher_model_weights_buffer = io.BytesIO()\n",
    "# student_model_weights_buffer = io.BytesIO()\n",
    "\n",
    "s3.download_fileobj(bucket_name, teacher_model_weights_s3_path, teacher_model_weights_buffer)\n",
    "# s3.download_fileobj(bucket_name, student_model_weights_s3_path, student_model_weights_buffer)\n",
    "\n",
    "# Load the weights into the models\n",
    "teacher_model_weights_buffer.seek(0)  # Move to the beginning of the buffer\n",
    "# student_model_weights_buffer.seek(0)  \n",
    "\n",
    "######## MAKE SURE THAT YOU HAVE THE CORRECT MODELS FOR WEIGHTS ########\n",
    "# Teacher\n",
    "teacher_name = 'resnet8x4_idenprof'\n",
    "teacher_model = models_package.__dict__[teacher_name](num_class=10)\n",
    "teacher_model.fc = nn.Linear(teacher_model.fc.in_features, 10)\n",
    "teacher_model.load_state_dict(torch.load(teacher_model_weights_buffer))\n",
    "\n",
    "\n",
    "# # Student\n",
    "# student_model = CustomResNet18()\n",
    "# student_model.load_state_dict(torch.load(student_model_weights_buffer))\n"
   ]
  },
  {
   "cell_type": "markdown",
   "id": "d06a397a-ad4f-4e61-be3f-708bfe76090b",
   "metadata": {},
   "source": [
    "## LB Help"
   ]
  },
  {
   "cell_type": "markdown",
   "id": "28a9087e-3273-4301-8ea4-4e6d7fd914b2",
   "metadata": {},
   "source": [
    "1. loading in model weights and idenprof dataset from s3 (LB will set up) __COMPLETE__\n",
    "2. save model weights to s3 bucket (moving forward) __COMPLETE__\n",
    "3. Teachers: help running resnet-34x2 (LB) -- needs to be trained on idenprof __COMPLETE__\n",
    "4. Make sure that resnet-8x4 is running __COMPLETE__\n",
    "5. Student: shufflenet-v1  -- just need to make them run"
   ]
  },
  {
   "cell_type": "markdown",
   "id": "c62b4c54-509b-4a69-afa5-bb4e1279e337",
   "metadata": {},
   "source": []
  }
 ],
 "metadata": {
  "kernelspec": {
   "display_name": "Python 3 (ipykernel)",
   "language": "python",
   "name": "python3"
  },
  "language_info": {
   "codemirror_mode": {
    "name": "ipython",
    "version": 3
   },
   "file_extension": ".py",
   "mimetype": "text/x-python",
   "name": "python",
   "nbconvert_exporter": "python",
   "pygments_lexer": "ipython3",
   "version": "3.10.9"
  }
 },
 "nbformat": 4,
 "nbformat_minor": 5
}
