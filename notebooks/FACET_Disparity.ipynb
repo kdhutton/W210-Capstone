{
 "cells": [
  {
   "cell_type": "code",
   "execution_count": 1,
   "id": "faf8dbb6",
   "metadata": {},
   "outputs": [
    {
     "data": {
      "text/plain": [
       "<matplotlib.pyplot._IonContext at 0x7f864ca80f70>"
      ]
     },
     "execution_count": 1,
     "metadata": {},
     "output_type": "execute_result"
    }
   ],
   "source": [
    "import os\n",
    "import torch\n",
    "import pandas as pd\n",
    "from skimage import io, transform\n",
    "import numpy as np\n",
    "import matplotlib.pyplot as plt\n",
    "from torch.utils.data import Dataset, DataLoader\n",
    "from torchvision import transforms, utils\n",
    "\n",
    "# Ignore warnings\n",
    "import warnings\n",
    "warnings.filterwarnings(\"ignore\")\n",
    "\n",
    "plt.ion()   # interactive mode"
   ]
  },
  {
   "cell_type": "code",
   "execution_count": 22,
   "id": "57879e37",
   "metadata": {},
   "outputs": [],
   "source": [
    "class FacetDataset(Dataset):\n",
    "    \"\"\"Facet dataset.\"\"\"\n",
    "\n",
    "    def __init__(self, csv_file, root_dir, transform=None):\n",
    "        \"\"\"\n",
    "        Arguments:\n",
    "            csv_file (string): Path to the csv file with annotations.\n",
    "            root_dir (string): Directory with all the images.\n",
    "            transform (callable, optional): Optional transform to be applied\n",
    "                on a sample.\n",
    "        \"\"\"\n",
    "        self.attributes_frame = pd.read_csv(csv_file)\n",
    "        self.root_dir = list(root_dir)\n",
    "        self.transform = transform\n",
    "\n",
    "    def __len__(self):\n",
    "        return len(self.attributes_frame)\n",
    "\n",
    "    def __getitem__(self, idx):\n",
    "        if torch.is_tensor(idx):\n",
    "            idx = idx.tolist()\n",
    "\n",
    "        for i in self.root_dir:   \n",
    "            img_name = os.path.join(i,\n",
    "                                    self.attributes_frame.iloc[idx, 2])\n",
    "            image = io.imread(img_name)\n",
    "            attributes = self.attributes_frame.iloc[idx, 3:]\n",
    "            attributes = np.array([attributes]).reshape(-1, 1)\n",
    "            sample = {'image': image, 'attributes': attributes}\n",
    "\n",
    "            if self.transform:\n",
    "                sample = self.transform(sample)\n",
    "\n",
    "            return sample"
   ]
  },
  {
   "cell_type": "code",
   "execution_count": 23,
   "id": "c70a0a6c",
   "metadata": {},
   "outputs": [
    {
     "name": "stdout",
     "output_type": "stream",
     "text": [
      "0 (1500, 2000, 3) (50, 1)\n"
     ]
    },
    {
     "data": {
      "image/png": "[encoded data removed]",
      "text/plain": [
       "<Figure size 432x288 with 1 Axes>"
      ]
     },
     "metadata": {
      "needs_background": "light"
     },
     "output_type": "display_data"
    },
    {
     "name": "stdout",
     "output_type": "stream",
     "text": [
      "[['gymnast']\n",
      " [nan]\n",
      " ['{\"x\": 120.66, \"y\": 629.34, \"width\": 934.54, \"height\": 591.48, \"dict_attributes\": {\"cat1\": \"gymnast\", \"cat2\": \"none\"}}']\n",
      " [0]\n",
      " [1]\n",
      " [0]\n",
      " [0]\n",
      " [2]\n",
      " [3]\n",
      " [0]\n",
      " [0]\n",
      " [0]\n",
      " [0]\n",
      " [0]\n",
      " [0]\n",
      " [0]\n",
      " [0]\n",
      " [0]\n",
      " [0]\n",
      " [0]\n",
      " [1]\n",
      " [0]\n",
      " [0]\n",
      " [1]\n",
      " [0]\n",
      " [0]\n",
      " [0]\n",
      " [0]\n",
      " [0]\n",
      " [0]\n",
      " [0]\n",
      " [0]\n",
      " [0]\n",
      " [0]\n",
      " [1]\n",
      " [0]\n",
      " [0]\n",
      " [0]\n",
      " [0]\n",
      " [0]\n",
      " [0]\n",
      " [0]\n",
      " [1]\n",
      " [1]\n",
      " [0]\n",
      " [0]\n",
      " [0]\n",
      " [1]\n",
      " [0]\n",
      " [0]]\n"
     ]
    }
   ],
   "source": [
    "face_dataset = FacetDataset(csv_file='annotations/annotations.csv',\n",
    "                                    root_dir=['imgs_1', 'imgs_2', 'imgs_3'])\n",
    "\n",
    "fig = plt.figure()\n",
    "\n",
    "for i, sample in enumerate(face_dataset):\n",
    "    print(i, sample['image'].shape, sample['attributes'].shape)\n",
    "\n",
    "    ax = plt.subplot(1, 4, i + 1)\n",
    "    plt.imshow(sample['image'])\n",
    "    plt.tight_layout()\n",
    "    ax.set_title('Sample #{}'.format(i))\n",
    "    ax.axis('off')\n",
    "    plt.show()\n",
    "    print(sample['attributes'])\n",
    "    break"
   ]
  },
  {
   "cell_type": "code",
   "execution_count": 17,
   "id": "65496809",
   "metadata": {},
   "outputs": [],
   "source": [
    "df = pd.read_csv('annotations/annotations.csv')"
   ]
  },
  {
   "cell_type": "code",
   "execution_count": 21,
   "id": "0ce842cb",
   "metadata": {},
   "outputs": [
    {
     "data": {
      "text/plain": [
       "Unnamed: 0                                                                        0\n",
       "person_id                                                           350155620665729\n",
       "filename                                                             sa_3532701.jpg\n",
       "class1                                                                      gymnast\n",
       "class2                                                                          NaN\n",
       "bounding_box                      {\"x\": 120.66, \"y\": 629.34, \"width\": 934.54, \"h...\n",
       "gender_presentation_masc                                                          0\n",
       "gender_presentation_fem                                                           1\n",
       "gender_presentation_non_binary                                                    0\n",
       "gender_presentation_na                                                            0\n",
       "skin_tone_1                                                                       2\n",
       "skin_tone_2                                                                       3\n",
       "skin_tone_3                                                                       0\n",
       "skin_tone_4                                                                       0\n",
       "skin_tone_5                                                                       0\n",
       "skin_tone_6                                                                       0\n",
       "skin_tone_7                                                                       0\n",
       "skin_tone_8                                                                       0\n",
       "skin_tone_9                                                                       0\n",
       "skin_tone_10                                                                      0\n",
       "skin_tone_na                                                                      0\n",
       "age_presentation_young                                                            0\n",
       "age_presentation_older                                                            0\n",
       "age_presentation_middle                                                           1\n",
       "age_presentation_na                                                               0\n",
       "hair_color_brown                                                                  0\n",
       "hair_color_blonde                                                                 1\n",
       "hair_color_grey                                                                   0\n",
       "hair_color_na                                                                     0\n",
       "hair_color_black                                                                  0\n",
       "hair_color_colored                                                                0\n",
       "hair_color_red                                                                    0\n",
       "hairtype_coily                                                                    0\n",
       "hairtype_dreadlocks                                                               0\n",
       "hairtype_bald                                                                     0\n",
       "hairtype_straight                                                                 0\n",
       "hairtype_curly                                                                    0\n",
       "hairtype_wavy                                                                     1\n",
       "hairtype_na                                                                       0\n",
       "has_facial_hair                                                                   0\n",
       "has_tattoo                                                                        0\n",
       "has_cap                                                                           0\n",
       "has_mask                                                                          0\n",
       "has_headscarf                                                                     0\n",
       "has_eyeware                                                                       0\n",
       "visible_torso                                                                     1\n",
       "visible_face                                                                      1\n",
       "visible_minimal                                                                   0\n",
       "lighting_underexposed                                                             0\n",
       "lighting_dimly_lit                                                                0\n",
       "lighting_well_lit                                                                 1\n",
       "lighting_na                                                                       0\n",
       "lighting_overexposed                                                              0\n",
       "Name: 0, dtype: object"
      ]
     },
     "execution_count": 21,
     "metadata": {},
     "output_type": "execute_result"
    }
   ],
   "source": [
    "df.iloc[0]"
   ]
  },
  {
   "cell_type": "code",
   "execution_count": null,
   "id": "cf80e8b3",
   "metadata": {},
   "outputs": [],
   "source": []
  }
 ],
 "metadata": {
  "kernelspec": {
   "display_name": "Python 3 (ipykernel)",
   "language": "python",
   "name": "python3"
  },
  "language_info": {
   "codemirror_mode": {
    "name": "ipython",
    "version": 3
   },
   "file_extension": ".py",
   "mimetype": "text/x-python",
   "name": "python",
   "nbconvert_exporter": "python",
   "pygments_lexer": "ipython3",
   "version": "3.9.12"
  }
 },
 "nbformat": 4,
 "nbformat_minor": 5
}
