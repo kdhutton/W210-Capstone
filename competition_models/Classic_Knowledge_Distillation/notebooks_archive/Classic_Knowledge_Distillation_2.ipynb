{
  "nbformat": 4,
  "nbformat_minor": 0,
  "metadata": {
    "colab": {
      "provenance": [],
      "gpuType": "T4"
    },
    "kernelspec": {
      "name": "python3",
      "display_name": "Python 3"
    },
    "language_info": {
      "name": "python"
    },
    "accelerator": "GPU"
  },
  "cells": [
    {
      "cell_type": "markdown",
      "source": [
        "Research Paper: https://arxiv.org/abs/1503.02531\n",
        "\n",
        "This is the foundational paper that introduced the idea of knowledge distillation\n",
        "\n",
        "Dataset: MNIST\n"
      ],
      "metadata": {
        "id": "jnuhomh5kVH7"
      }
    },
    {
      "cell_type": "markdown",
      "source": [
        "Code Link:\n",
        "1. https://github.com/tripdancer0916/keras-knowledge-distillation/tree/master\n",
        "1. https://github.com/poperson1205/knowledge_distillation"
      ],
      "metadata": {
        "id": "OhiEPXGOkU_a"
      }
    },
    {
      "cell_type": "markdown",
      "source": [
        "Training the student not only to predict the correct labels but also to mimic the soft probabilities of the teacher. These soft probabilities, often computed with a high temperature in the softmax, carry richer information than one-hot hard labels."
      ],
      "metadata": {
        "id": "bmaEG_7Iktzs"
      }
    },
    {
      "cell_type": "code",
      "source": [
        "# import libaraies\n",
        "import torch\n",
        "import torch.nn as nn\n",
        "import torch.optim as optim\n",
        "import torch.nn.functional as F\n",
        "import torchvision\n",
        "import torchvision.transforms as transforms\n",
        "import matplotlib.pyplot as plt\n"
      ],
      "metadata": {
        "id": "Lf4T9-9gjzc0"
      },
      "execution_count": 1,
      "outputs": []
    },
    {
      "cell_type": "code",
      "source": [
        "# CIFAR10 - Data Preparation\n",
        "# the paper used MNST\n",
        "transform = transforms.Compose([\n",
        "    transforms.RandomCrop(32, padding=4),\n",
        "    transforms.RandomHorizontalFlip(),\n",
        "    transforms.ToTensor(),\n",
        "    transforms.Normalize((0.4914, 0.4822, 0.4465), (0.2023, 0.1994, 0.2010))\n",
        "])\n",
        "\n",
        "trainset = torchvision.datasets.CIFAR10(\n",
        "    root='./data', train=True, download=True, transform=transform)\n",
        "trainloader = torch.utils.data.DataLoader(\n",
        "    trainset, batch_size=128, shuffle=True, num_workers=2)\n",
        "\n",
        "testset = torchvision.datasets.CIFAR10(\n",
        "    root='./data', train=False, download=True, transform=transform)\n",
        "testloader = torch.utils.data.DataLoader(\n",
        "    testset, batch_size=100, shuffle=False, num_workers=2)\n"
      ],
      "metadata": {
        "colab": {
          "base_uri": "https://localhost:8080/"
        },
        "id": "vwrrWV6KjzX0",
        "outputId": "9e9e69ee-f8dd-44f1-db1f-67c1b7673a30"
      },
      "execution_count": 6,
      "outputs": [
        {
          "output_type": "stream",
          "name": "stdout",
          "text": [
            "Files already downloaded and verified\n",
            "Files already downloaded and verified\n"
          ]
        }
      ]
    },
    {
      "cell_type": "code",
      "source": [
        "\n",
        "# define the Teacher and Student models\n",
        "teacher = torchvision.models.resnet34(pretrained=True).cuda()\n",
        "student = torchvision.models.resnet18(pretrained=False).cuda()\n",
        "\n",
        "# define the loss function and optimizers\n",
        "criterion = nn.CrossEntropyLoss()\n",
        "optimizer = optim.SGD(student.parameters(), lr=0.1, momentum=0.9, weight_decay=5e-4)\n",
        "scheduler = torch.optim.lr_scheduler.CosineAnnealingLR(optimizer, T_max=200)\n"
      ],
      "metadata": {
        "colab": {
          "base_uri": "https://localhost:8080/"
        },
        "id": "XBif8X7XjzUC",
        "outputId": "d91380e6-2235-4433-bee8-8b8d0f746b21"
      },
      "execution_count": 3,
      "outputs": [
        {
          "output_type": "stream",
          "name": "stderr",
          "text": [
            "/usr/local/lib/python3.10/dist-packages/torchvision/models/_utils.py:208: UserWarning: The parameter 'pretrained' is deprecated since 0.13 and may be removed in the future, please use 'weights' instead.\n",
            "  warnings.warn(\n",
            "/usr/local/lib/python3.10/dist-packages/torchvision/models/_utils.py:223: UserWarning: Arguments other than a weight enum or `None` for 'weights' are deprecated since 0.13 and may be removed in the future. The current behavior is equivalent to passing `weights=ResNet34_Weights.IMAGENET1K_V1`. You can also use `weights=ResNet34_Weights.DEFAULT` to get the most up-to-date weights.\n",
            "  warnings.warn(msg)\n",
            "Downloading: \"https://download.pytorch.org/models/resnet34-b627a593.pth\" to /root/.cache/torch/hub/checkpoints/resnet34-b627a593.pth\n",
            "100%|██████████| 83.3M/83.3M [00:00<00:00, 316MB/s]\n",
            "/usr/local/lib/python3.10/dist-packages/torchvision/models/_utils.py:223: UserWarning: Arguments other than a weight enum or `None` for 'weights' are deprecated since 0.13 and may be removed in the future. The current behavior is equivalent to passing `weights=None`.\n",
            "  warnings.warn(msg)\n"
          ]
        }
      ]
    },
    {
      "cell_type": "code",
      "source": [
        "train_losses = []\n",
        "train_accuracies = []\n",
        "test_accuracies = []\n",
        "\n",
        "def test_accuracy(model, loader):\n",
        "    model.eval()\n",
        "    correct = 0\n",
        "    total = 0\n",
        "    with torch.no_grad():\n",
        "        for inputs, targets in loader:\n",
        "            inputs, targets = inputs.cuda(), targets.cuda()\n",
        "            outputs = model(inputs)\n",
        "            _, predicted = outputs.max(1)\n",
        "            total += targets.size(0)\n",
        "            correct += predicted.eq(targets).sum().item()\n",
        "    return 100 * correct / total\n",
        "\n",
        "# Training\n",
        "epochs = 10\n",
        "for epoch in range(epochs):\n",
        "    student.train()\n",
        "    teacher.eval()\n",
        "    total_loss = 0\n",
        "    correct = 0\n",
        "    total = 0\n",
        "\n",
        "    for batch_idx, (inputs, targets) in enumerate(trainloader):\n",
        "        inputs, targets = inputs.cuda(), targets.cuda()\n",
        "\n",
        "        optimizer.zero_grad()\n",
        "\n",
        "        student_outputs = student(inputs)\n",
        "        teacher_outputs = teacher(inputs).detach()\n",
        "\n",
        "        # KD loss\n",
        "        loss = criterion(student_outputs, targets) + \\\n",
        "               nn.KLDivLoss()(F.log_softmax(student_outputs, dim=1),\n",
        "                              F.softmax(teacher_outputs, dim=1))\n",
        "\n",
        "        loss.backward()\n",
        "        optimizer.step()\n",
        "\n",
        "        total_loss += loss.item()\n",
        "        _, predicted = student_outputs.max(1)\n",
        "        total += targets.size(0)\n",
        "        correct += predicted.eq(targets).sum().item()\n",
        "\n",
        "    train_loss = total_loss / (batch_idx + 1)\n",
        "    train_acc = 100. * correct / total\n",
        "\n",
        "    test_acc = test_accuracy(student, testloader)\n",
        "\n",
        "    train_losses.append(train_loss)\n",
        "    train_accuracies.append(train_acc)\n",
        "    test_accuracies.append(test_acc)\n",
        "    print(f\"Epoch {epoch+1}/{epochs}.. Train Loss: {train_loss:.4f}.. Train Accuracy: {train_acc:.2f}.. Test Accuracy: {test_acc:.2f}\")\n",
        "\n",
        "    scheduler.step()\n",
        "\n"
      ],
      "metadata": {
        "colab": {
          "base_uri": "https://localhost:8080/"
        },
        "id": "MRunQgSDjzQo",
        "outputId": "4cac6116-9c0c-4670-e65a-5ab6779abb99"
      },
      "execution_count": 4,
      "outputs": [
        {
          "output_type": "stream",
          "name": "stderr",
          "text": [
            "/usr/local/lib/python3.10/dist-packages/torch/nn/functional.py:2919: UserWarning: reduction: 'mean' divides the total loss by both the batch size and the support size.'batchmean' divides only by the batch size, and aligns with the KL div math definition.'mean' will be changed to behave the same as 'batchmean' in the next major release.\n",
            "  warnings.warn(\n"
          ]
        },
        {
          "output_type": "stream",
          "name": "stdout",
          "text": [
            "Epoch 1/10.. Train Loss: 2.1660.. Train Accuracy: 29.10.. Test Accuracy: 38.36\n",
            "Epoch 2/10.. Train Loss: 1.5473.. Train Accuracy: 43.87.. Test Accuracy: 47.84\n",
            "Epoch 3/10.. Train Loss: 1.3461.. Train Accuracy: 51.71.. Test Accuracy: 52.83\n",
            "Epoch 4/10.. Train Loss: 1.1815.. Train Accuracy: 58.11.. Test Accuracy: 59.06\n",
            "Epoch 5/10.. Train Loss: 1.0808.. Train Accuracy: 62.57.. Test Accuracy: 60.02\n",
            "Epoch 6/10.. Train Loss: 1.0108.. Train Accuracy: 64.95.. Test Accuracy: 63.75\n",
            "Epoch 7/10.. Train Loss: 0.9543.. Train Accuracy: 67.05.. Test Accuracy: 60.72\n",
            "Epoch 8/10.. Train Loss: 0.9135.. Train Accuracy: 68.60.. Test Accuracy: 66.30\n",
            "Epoch 9/10.. Train Loss: 0.8868.. Train Accuracy: 69.96.. Test Accuracy: 64.20\n",
            "Epoch 10/10.. Train Loss: 0.8616.. Train Accuracy: 70.46.. Test Accuracy: 67.45\n"
          ]
        }
      ]
    },
    {
      "cell_type": "code",
      "source": [
        "# Plot the training loss and training/test accuracies\n",
        "plt.figure(figsize=(12, 4))\n",
        "\n",
        "plt.subplot(1, 2, 1)\n",
        "plt.plot(train_losses, label='Training Loss')\n",
        "plt.title(\"Training Loss\")\n",
        "plt.xlabel(\"Epoch\")\n",
        "plt.ylabel(\"Loss\")\n",
        "\n",
        "plt.subplot(1, 2, 2)\n",
        "plt.plot(train_accuracies, label='Training Accuracy', color='blue')\n",
        "plt.plot(test_accuracies, label='Test Accuracy', color='red')\n",
        "plt.title(\"Training and Test Accuracy\")\n",
        "plt.xlabel(\"Epoch\")\n",
        "plt.ylabel(\"Accuracy (%)\")\n",
        "plt.legend()\n",
        "\n",
        "plt.tight_layout()\n",
        "plt.show()\n"
      ],
      "metadata": {
        "colab": {
          "base_uri": "https://localhost:8080/",
          "height": 354
        },
        "id": "E3kzxApejzLg",
        "outputId": "bdf8d9fd-0016-4353-f077-5d26658ba5dc"
      },
      "execution_count": 5,
      "outputs": [
        {
          "output_type": "display_data",
          "data": {
            "text/plain": [
              "<Figure size 1200x400 with 2 Axes>"
            ],
            "image/png": "[encoded data removed]"
          },
          "metadata": {}
        }
      ]
    },
    {
      "cell_type": "code",
      "source": [],
      "metadata": {
        "id": "IUfnhLJSkTxS"
      },
      "execution_count": null,
      "outputs": []
    },
    {
      "cell_type": "code",
      "source": [],
      "metadata": {
        "id": "8bwFqs9O670A"
      },
      "execution_count": null,
      "outputs": []
    },
    {
      "cell_type": "code",
      "source": [],
      "metadata": {
        "id": "rnbY17Z267wY"
      },
      "execution_count": null,
      "outputs": []
    },
    {
      "cell_type": "markdown",
      "source": [
        "The temperature parameter T is crucial: Higher values of T produce softer probability distributions. Both the teacher and student must use the same T when producing their soft labels."
      ],
      "metadata": {
        "id": "k631YRC4oaWU"
      }
    },
    {
      "cell_type": "code",
      "source": [
        "# import libaraies\n",
        "import torch\n",
        "import torch.nn as nn\n",
        "import torch.optim as optim\n",
        "import torch.nn.functional as F\n",
        "import torchvision\n",
        "import torchvision.transforms as transforms\n",
        "import matplotlib.pyplot as plt\n"
      ],
      "metadata": {
        "id": "wHrQhzfN67t0"
      },
      "execution_count": 2,
      "outputs": []
    },
    {
      "cell_type": "code",
      "source": [
        "# Load CIFAR-10 data\n",
        "transform = transforms.Compose([\n",
        "    transforms.ToTensor(),\n",
        "    transforms.Normalize((0.5, 0.5, 0.5), (0.5, 0.5, 0.5))\n",
        "])\n",
        "\n",
        "trainset = torchvision.datasets.CIFAR10(root='./data', train=True, download=True, transform=transform)\n",
        "trainloader = torch.utils.data.DataLoader(trainset, batch_size=128, shuffle=True)\n",
        "\n",
        "testset = torchvision.datasets.CIFAR10(root='./data', train=False, download=True, transform=transform)\n",
        "testloader = torch.utils.data.DataLoader(testset, batch_size=128, shuffle=False)\n"
      ],
      "metadata": {
        "colab": {
          "base_uri": "https://localhost:8080/"
        },
        "id": "LqxvUguUmfwV",
        "outputId": "9580f3b0-6ac4-40f4-b086-b7803088c906"
      },
      "execution_count": 3,
      "outputs": [
        {
          "output_type": "stream",
          "name": "stdout",
          "text": [
            "Files already downloaded and verified\n",
            "Files already downloaded and verified\n"
          ]
        }
      ]
    },
    {
      "cell_type": "code",
      "source": [
        "# the teacher model (CNN)\n",
        "class Teacher(nn.Module):\n",
        "    def __init__(self):\n",
        "        super(Teacher, self).__init__()\n",
        "        self.conv1 = nn.Conv2d(3, 64, 3)\n",
        "        self.pool = nn.MaxPool2d(2, 2)\n",
        "        self.conv2 = nn.Conv2d(64, 128, 3)\n",
        "        self.fc1 = nn.Linear(128 * 6 * 6, 128)\n",
        "        self.fc2 = nn.Linear(128, 10)\n",
        "\n",
        "    def forward(self, x):\n",
        "        x = self.pool(F.relu(self.conv1(x)))\n",
        "        x = self.pool(F.relu(self.conv2(x)))\n",
        "        x = x.view(-1, 128 * 6 * 6)\n",
        "        x = F.relu(self.fc1(x))\n",
        "        x = self.fc2(x)\n",
        "        return x\n",
        "\n",
        "teacher = Teacher()"
      ],
      "metadata": {
        "id": "Cf9xL7Jump_j"
      },
      "execution_count": 4,
      "outputs": []
    },
    {
      "cell_type": "code",
      "source": [
        "# the student model (smaller than the teacher)\n",
        "class Student(nn.Module):\n",
        "    def __init__(self):\n",
        "        super(Student, self).__init__()\n",
        "        self.conv1 = nn.Conv2d(3, 32, 3)\n",
        "        self.pool = nn.MaxPool2d(2, 2)\n",
        "        self.fc1 = nn.Linear(32 * 15 * 15, 64)\n",
        "        self.fc2 = nn.Linear(64, 10)\n",
        "\n",
        "    def forward(self, x):\n",
        "        x = self.pool(F.relu(self.conv1(x)))\n",
        "        x = x.view(-1, 32 * 15 * 15)\n",
        "        x = F.relu(self.fc1(x))\n",
        "        x = self.fc2(x)\n",
        "        return x\n",
        "\n",
        "student = Student()"
      ],
      "metadata": {
        "id": "4URPQTVkmt4f"
      },
      "execution_count": 5,
      "outputs": []
    },
    {
      "cell_type": "code",
      "source": [
        "criterion = nn.CrossEntropyLoss()\n",
        "optimizer_teacher = optim.Adam(teacher.parameters(), lr=0.001)\n",
        "optimizer_student = optim.Adam(student.parameters(), lr=0.001)\n",
        "\n",
        "\n",
        "teacher_train_losses = []\n",
        "student_train_losses = []\n",
        "test_accuracies = []\n",
        "\n",
        "# train the teacher model\n",
        "for epoch in range(20):\n",
        "    running_loss = 0.0\n",
        "    for i, (inputs, labels) in enumerate(trainloader, 0):\n",
        "        optimizer_teacher.zero_grad()\n",
        "        outputs = teacher(inputs)\n",
        "        loss = criterion(outputs, labels)\n",
        "        loss.backward()\n",
        "        optimizer_teacher.step()\n",
        "        running_loss += loss.item()\n",
        "\n",
        "    teacher_train_losses.append(running_loss / len(trainloader))\n",
        "    print(f\"Epoch {epoch + 1}, Loss: {running_loss / len(trainloader)}\")\n",
        "\n",
        "print(\"Finished training the teacher\\n\")\n",
        "\n",
        "# KD parameters\n",
        "temperature = 5.0   # parameter T\n",
        "soft_labels_criterion = nn.KLDivLoss(reduction=\"batchmean\")\n",
        "\n",
        "\n",
        "# KD\n",
        "for epoch in range(20):\n",
        "    running_loss = 0.0\n",
        "    for i, (inputs, labels) in enumerate(trainloader, 0):\n",
        "        optimizer_student.zero_grad()\n",
        "\n",
        "        with torch.no_grad():\n",
        "            teacher_outputs = teacher(inputs)\n",
        "            soft_labels = torch.nn.functional.softmax(teacher_outputs / temperature, dim=1)\n",
        "\n",
        "        student_outputs = student(inputs)\n",
        "        soft_predictions = torch.nn.functional.log_softmax(student_outputs / temperature, dim=1)\n",
        "\n",
        "        loss_hard = criterion(student_outputs, labels)\n",
        "        loss_soft = soft_labels_criterion(soft_predictions, soft_labels)\n",
        "\n",
        "        loss = loss_hard + loss_soft\n",
        "        loss.backward()\n",
        "        optimizer_student.step()\n",
        "        running_loss += loss.item()\n",
        "\n",
        "    student_train_losses.append(running_loss / len(trainloader))\n",
        "    print(f\"Epoch {epoch + 1}, Loss: {running_loss / len(trainloader)}\")\n",
        "\n",
        "    # Test the student model\n",
        "    correct = 0\n",
        "    total = 0\n",
        "    with torch.no_grad():\n",
        "        for data in testloader:\n",
        "            images, labels = data\n",
        "            outputs = student(images)\n",
        "            _, predicted = torch.max(outputs.data, 1)\n",
        "            total += labels.size(0)\n",
        "            correct += (predicted == labels).sum().item()\n",
        "    test_accuracies.append(100 * correct / total)"
      ],
      "metadata": {
        "colab": {
          "base_uri": "https://localhost:8080/"
        },
        "id": "W6og5ReqmftD",
        "outputId": "c39e9018-594d-4621-ac97-791404e0daf6"
      },
      "execution_count": null,
      "outputs": [
        {
          "output_type": "stream",
          "name": "stdout",
          "text": [
            "Epoch 1, Loss: 1.417507754567334\n",
            "Epoch 2, Loss: 1.039069031053187\n",
            "Epoch 3, Loss: 0.8820966960828932\n",
            "Epoch 4, Loss: 0.7770481595907675\n",
            "Epoch 5, Loss: 0.677732259187552\n",
            "Epoch 6, Loss: 0.5970738325887324\n",
            "Epoch 7, Loss: 0.5206863362618419\n",
            "Epoch 8, Loss: 0.4490539077145364\n",
            "Epoch 9, Loss: 0.3723859112052357\n",
            "Epoch 10, Loss: 0.3105859251507103\n"
          ]
        }
      ]
    },
    {
      "cell_type": "code",
      "source": [
        "# Plotting the results\n",
        "plt.figure(figsize=(12, 5))\n",
        "\n",
        "plt.subplot(1, 2, 1)\n",
        "plt.plot(teacher_train_losses, label=\"Teacher Loss\")\n",
        "plt.plot(student_train_losses, label=\"Student Loss\")\n",
        "plt.xlabel(\"Epochs\")\n",
        "plt.ylabel(\"Loss\")\n",
        "plt.legend()\n",
        "plt.title(\"Training Loss\")\n",
        "\n",
        "plt.subplot(1, 2, 2)\n",
        "plt.plot(test_accuracies, label=\"Student Accuracy\")\n",
        "plt.xlabel(\"Epochs\")\n",
        "plt.ylabel(\"Accuracy (%)\")\n",
        "plt.title(\"Test Accuracy\")\n",
        "plt.tight_layout()\n",
        "plt.show()\n"
      ],
      "metadata": {
        "id": "ck1t9G_qmfp2"
      },
      "execution_count": null,
      "outputs": []
    },
    {
      "cell_type": "code",
      "source": [],
      "metadata": {
        "id": "4LkcUimsnMxY"
      },
      "execution_count": null,
      "outputs": []
    }
  ]
}