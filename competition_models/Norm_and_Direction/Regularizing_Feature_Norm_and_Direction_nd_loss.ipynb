{
  "nbformat": 4,
  "nbformat_minor": 0,
  "metadata": {
    "colab": {
      "provenance": [],
      "machine_shape": "hm",
      "gpuType": "T4"
    },
    "kernelspec": {
      "name": "python3",
      "display_name": "Python 3"
    },
    "language_info": {
      "name": "python"
    },
    "accelerator": "GPU"
  },
  "cells": [
    {
      "cell_type": "markdown",
      "source": [
        "__Improving Knowledge Distillation via Regularizing Feature Norm and Direction__\n"
      ],
      "metadata": {
        "id": "gC01ztE9Yyrq"
      }
    },
    {
      "cell_type": "markdown",
      "source": [
        "Paper: https://arxiv.org/abs/2305.17007v1\n",
        "\n",
        "This paper suggests that instead of simply aligning student features with the teacher's, they should be aligned with the class-mean of teacher features. The class-mean is a powerful classifier and aligning with it can potentially enhance the student's ability. The researchers experimented with using cosine distance-based loss to ensure similarity between student features and the teacher's class-means.\n",
        "\n",
        "\n",
        "Norm and Direction (ND): The ND loss is introduced to simultaneously encourage the student model to produce large-norm features and align the direction of student features with teacher class-means."
      ],
      "metadata": {
        "id": "BlKqOjGlUut1"
      }
    },
    {
      "cell_type": "markdown",
      "source": [
        "Code: https://github.com/wangyz1608/knowledge-distillation-via-nd"
      ],
      "metadata": {
        "id": "gnH14cw0Uuqd"
      }
    },
    {
      "cell_type": "markdown",
      "source": [
        "## 1. Baseline"
      ],
      "metadata": {
        "id": "xrizJpOriSRy"
      }
    },
    {
      "cell_type": "code",
      "source": [
        "!pip install torchsummaryX --quiet"
      ],
      "metadata": {
        "id": "QKXDmOnfUucD"
      },
      "execution_count": null,
      "outputs": []
    },
    {
      "cell_type": "code",
      "source": [
        "import torch\n",
        "import torchvision\n",
        "from torch import nn\n",
        "from torch.utils.data import DataLoader\n",
        "import torch.backends.cudnn as cudnn\n",
        "from torchsummaryX import summary\n",
        "import logging\n",
        "import time\n",
        "import random\n",
        "import warnings\n",
        "from pathlib import Path\n",
        "import numpy as np\n",
        "from collections import OrderedDict\n",
        "from torch.utils.tensorboard import SummaryWriter\n",
        "\n",
        "import torchvision.models as Models\n",
        "from torchvision.datasets import CIFAR10, CIFAR100\n",
        "from torchvision import transforms\n",
        "from sklearn.metrics import precision_score, recall_score, f1_score, accuracy_score\n",
        "\n",
        "import matplotlib.pyplot as plt\n",
        "from sklearn.metrics import roc_curve, auc\n",
        "from sklearn.preprocessing import label_binarize\n"
      ],
      "metadata": {
        "id": "gRZ9tR4zUuYX"
      },
      "execution_count": null,
      "outputs": []
    },
    {
      "cell_type": "code",
      "source": [
        "def train(model, train_dataloader, optimizer, criterion):\n",
        "    train_loss = AverageMeter()\n",
        "    train_error = AverageMeter()\n",
        "\n",
        "    model.train()\n",
        "\n",
        "    for images, labels in train_dataloader:\n",
        "        images, labels = images.cuda(), labels.cuda()\n",
        "\n",
        "        optimizer.zero_grad()\n",
        "        emb, logits = model(images, embed=True)  # the model returns embeddings and logits\n",
        "\n",
        "        loss = criterion(logits, labels)\n",
        "\n",
        "        _, pred = logits.data.cpu().topk(1, dim=1)\n",
        "        batch_size = images.size(0)\n",
        "        train_error.update(torch.ne(pred.squeeze(), labels.cpu()).float().sum().item() / batch_size, batch_size)\n",
        "        train_loss.update(loss.item(), batch_size)\n",
        "\n",
        "        loss.backward()\n",
        "        optimizer.step()\n",
        "\n",
        "    return train_loss.avg, train_error.avg\n",
        "\n",
        "def test(model, test_dataloader, criterion):\n",
        "    test_loss = AverageMeter()\n",
        "    test_error = AverageMeter()\n",
        "\n",
        "    model.eval()\n",
        "\n",
        "    with torch.no_grad():\n",
        "        for images, labels in test_dataloader:\n",
        "            images, labels = images.cuda(), labels.cuda()\n",
        "\n",
        "            logits = model(images)\n",
        "            loss = criterion(logits, labels)\n",
        "\n",
        "            _, pred = logits.data.cpu().topk(1, dim=1)\n",
        "            batch_size = images.size(0)\n",
        "            test_error.update(torch.ne(pred.squeeze(), labels.cpu()).float().sum().item() / batch_size, batch_size)\n",
        "            test_loss.update(loss.item(), batch_size)\n",
        "\n",
        "    return test_loss.avg, test_error.avg\n",
        "\n",
        "def epoch_loop(model, train_set, test_set, args):\n",
        "    # DataLoader setup\n",
        "    train_loader = DataLoader(train_set, batch_size=args.batch_size, shuffle=True, num_workers=args.workers)\n",
        "    test_loader = DataLoader(test_set, batch_size=args.batch_size, shuffle=False, num_workers=args.workers)\n",
        "\n",
        "    device = \"cuda\" if torch.cuda.is_available() else \"cpu\"\n",
        "    model = nn.DataParallel(model, device_ids=args.gpus)\n",
        "    model.to(device)\n",
        "\n",
        "    criterion = nn.CrossEntropyLoss().to(device)\n",
        "    optimizer = torch.optim.SGD(params=model.parameters(), lr=args.lr, momentum=args.momentum, weight_decay=args.weight_decay)\n",
        "\n",
        "    best_error = float('inf')\n",
        "    for epoch in range(args.epochs):\n",
        "        train_loss, train_error = train(model, train_loader, optimizer, criterion)\n",
        "        test_loss, test_error = test(model, test_loader, criterion)\n",
        "\n",
        "        # Save model if it achieves better error rate\n",
        "        if test_error < best_error:\n",
        "            best_error = test_error\n",
        "            torch.save(model.state_dict(), 'best_model.pth')\n",
        "\n",
        "        print(f\"Epoch {epoch+1}/{args.epochs} - Train Loss: {train_loss:.4f}, Train Error: {train_error:.4f}, Test Loss: {test_loss:.4f}, Test Error: {test_error:.4f}\")\n",
        "\n",
        "# epoch_loop(model=model, train_set=train_set, test_set=test_set, args=args)\n"
      ],
      "metadata": {
        "id": "s7KZ3nFjU-Ox"
      },
      "execution_count": null,
      "outputs": []
    },
    {
      "cell_type": "code",
      "source": [
        "def calculate_metrics(y_true, y_pred):\n",
        "    accuracy = accuracy_score(y_true, y_pred)\n",
        "    recall = recall_score(y_true, y_pred, average='macro')\n",
        "    precision = precision_score(y_true, y_pred, average='macro')\n",
        "    f1 = f1_score(y_true, y_pred, average='macro')\n",
        "\n",
        "    return accuracy, recall, precision, f1\n"
      ],
      "metadata": {
        "id": "ZrrtEaJyc5G-"
      },
      "execution_count": null,
      "outputs": []
    },
    {
      "cell_type": "code",
      "source": [
        "class Args:\n",
        "    model_name = \"resnet18\"\n",
        "    model_weights = \"\"\n",
        "    dataset = \"cifar10\"\n",
        "    epochs = 10\n",
        "    batch_size = 64\n",
        "    workers = 2\n",
        "    lr = 0.1\n",
        "    momentum = 0.9\n",
        "    weight_decay = 5e-4\n",
        "    validate = False\n",
        "    gpus = [0]  # Only one GPU in Colab\n",
        "    seed = None\n",
        "    resume = None\n",
        "    save_dir = \"./run\"\n",
        "\n",
        "args = Args()"
      ],
      "metadata": {
        "id": "SDtHqdK2UuUo"
      },
      "execution_count": null,
      "outputs": []
    },
    {
      "cell_type": "code",
      "source": [
        "def CIFAR10_data():\n",
        "    transform = transforms.Compose([\n",
        "        transforms.RandomCrop(32, padding=4),\n",
        "        transforms.RandomHorizontalFlip(),\n",
        "        transforms.ToTensor(),\n",
        "        transforms.Normalize((0.4914, 0.4822, 0.4465), (0.2023, 0.1994, 0.2010))\n",
        "    ])\n",
        "    train_set = CIFAR10(root='./data', train=True, download=True, transform=transform)\n",
        "    test_set = CIFAR10(root='./data', train=False, download=True, transform=transform)\n",
        "    num_class = 10\n",
        "    return train_set, test_set, num_class\n",
        "\n",
        "# CIFAR data loading part\n",
        "if args.dataset == 'cifar10':\n",
        "    train_set, test_set, num_class = CIFAR10_data()\n",
        "elif args.dataset == 'cifar100': # hasnt set up this yet\n",
        "    pass\n",
        "else:\n",
        "    print(\"No Dataset!\")"
      ],
      "metadata": {
        "colab": {
          "base_uri": "https://localhost:8080/"
        },
        "id": "2Z4TNEazUuRN",
        "outputId": "0853966a-6a9c-47c3-bf35-7aa7a69d9976"
      },
      "execution_count": null,
      "outputs": [
        {
          "output_type": "stream",
          "name": "stdout",
          "text": [
            "Files already downloaded and verified\n",
            "Files already downloaded and verified\n"
          ]
        }
      ]
    },
    {
      "cell_type": "code",
      "source": [
        "class AverageMeter:\n",
        "    \"\"\"Computes and stores the average and current value\"\"\"\n",
        "    def __init__(self):\n",
        "        self.reset()\n",
        "\n",
        "    def reset(self):\n",
        "        self.val = 0\n",
        "        self.avg = 0\n",
        "        self.sum = 0\n",
        "        self.count = 0\n",
        "\n",
        "    def update(self, val, n=1):\n",
        "        self.val = val\n",
        "        self.sum += val * n\n",
        "        self.count += n\n",
        "        self.avg = self.sum / self.count\n",
        "\n",
        "def train(model, train_dataloader, optimizer, criterion):\n",
        "    train_loss = AverageMeter()\n",
        "    train_error = AverageMeter()\n",
        "\n",
        "    model.train()\n",
        "\n",
        "    for images, labels in train_dataloader:\n",
        "        images, labels = images.cuda(), labels.cuda()\n",
        "\n",
        "        optimizer.zero_grad()\n",
        "        outputs = model(images)\n",
        "        loss = criterion(outputs, labels)\n",
        "\n",
        "        _, pred = outputs.data.cpu().topk(1, dim=1)\n",
        "        batch_size = images.size(0)\n",
        "        train_error.update(torch.ne(pred.squeeze(), labels.cpu()).float().sum().item() / batch_size, batch_size)\n",
        "        train_loss.update(loss.item(), batch_size)\n",
        "\n",
        "        loss.backward()\n",
        "        optimizer.step()\n",
        "\n",
        "    return train_loss.avg, train_error.avg\n",
        "\n",
        "def test(model, test_dataloader, criterion):\n",
        "\n",
        "    test_loss = AverageMeter()\n",
        "    test_error = AverageMeter()\n",
        "\n",
        "    model.eval()\n",
        "\n",
        "    with torch.no_grad():\n",
        "        for images, labels in test_dataloader:\n",
        "            images, labels = images.cuda(), labels.cuda()\n",
        "\n",
        "            outputs = model(images)\n",
        "            loss = criterion(outputs, labels)\n",
        "\n",
        "            _, pred = outputs.data.cpu().topk(1, dim=1)\n",
        "            batch_size = images.size(0)\n",
        "            test_error.update(torch.ne(pred.squeeze(), labels.cpu()).float().sum().item() / batch_size, batch_size)\n",
        "            test_loss.update(loss.item(), batch_size)\n",
        "\n",
        "    return test_loss.avg, test_error.avg\n",
        "\n",
        "def epoch_loop(model, train_set, test_set, args):\n",
        "    # DataLoader setup\n",
        "    train_loader = DataLoader(train_set, batch_size=args.batch_size, shuffle=True, num_workers=args.workers)\n",
        "    test_loader = DataLoader(test_set, batch_size=args.batch_size, shuffle=False, num_workers=args.workers)\n",
        "\n",
        "    device = \"cuda\" if torch.cuda.is_available() else \"cpu\"\n",
        "    model = nn.DataParallel(model, device_ids=args.gpus)\n",
        "    model.to(device)\n",
        "\n",
        "    criterion = nn.CrossEntropyLoss().to(device)\n",
        "    optimizer = torch.optim.SGD(params=model.parameters(), lr=args.lr, momentum=args.momentum, weight_decay=args.weight_decay)\n",
        "\n",
        "    best_error = float('inf')\n",
        "\n",
        "    train_accuracies = []\n",
        "    test_accuracies = []\n",
        "    train_losses = []\n",
        "    test_losses = []\n",
        "\n",
        "    all_labels = []\n",
        "    all_predictions = []\n",
        "    for epoch in range(args.epochs):\n",
        "\n",
        "        train_loss, train_error = train(model, train_loader, optimizer, criterion)\n",
        "        test_loss, test_error = test(model, test_loader, criterion)\n",
        "\n",
        "        train_accuracies.append(1 - train_error)\n",
        "        test_accuracies.append(1 - test_error)\n",
        "        train_losses.append(train_loss)\n",
        "        test_losses.append(test_loss)\n",
        "\n",
        "        train_accuracy = accuracy_score(all_train_labels, all_train_predictions)\n",
        "        test_accuracy = accuracy_score(all_test_labels, all_test_predictions)\n",
        "\n",
        "        # train_precision = precision_score(all_train_labels, all_train_predictions, average='macro')\n",
        "        # test_precision = precision_score(all_test_labels, all_test_predictions, average='macro')\n",
        "\n",
        "        # train_recall = recall_score(all_train_labels, all_train_predictions, average='macro')\n",
        "        # test_recall = recall_score(all_test_labels, all_test_predictions, average='macro')\n",
        "\n",
        "        # train_f1 = f1_score(all_train_labels, all_train_predictions, average='macro')\n",
        "        # test_f1 = f1_score(all_test_labels, all_test_predictions, average='macro')\n",
        "\n",
        "        train_accuracies.append(train_accuracy)\n",
        "        test_accuracies.append(test_accuracy)\n",
        "\n",
        "        train_losses.append(train_loss)\n",
        "        test_losses.append(test_loss)\n",
        "\n",
        "        if test_error < best_error:\n",
        "            best_error = test_error\n",
        "            torch.save(model.state_dict(), 'best_model.pth')\n",
        "\n",
        "        # print(f\"Epoch {epoch+1}/{args.epochs} - Train Accuracy: {train_accuracy:.4f}, Train Precision: {train_precision:.4f}, Train Recall: {train_recall:.4f}, Train F1: {train_f1:.4f}\")\n",
        "        # print(f\"Epoch {epoch+1}/{args.epochs} - Test Accuracy: {test_accuracy:.4f}, Test Precision: {test_precision:.4f}, Test Recall: {test_recall:.4f}, Test F1: {test_f1:.4f}\")\n",
        "\n",
        "        print(f\"Epoch {epoch+1}/{args.epochs} - Train Loss: {train_loss:.4f}, Train Error: {train_error:.4f}, Test Loss: {test_loss:.4f}, Test Error: {test_error:.4f}\")\n"
      ],
      "metadata": {
        "id": "SGG6MZTvXquK"
      },
      "execution_count": null,
      "outputs": []
    },
    {
      "cell_type": "code",
      "source": [
        "all_train_labels = []\n",
        "all_train_predictions = []\n",
        "\n",
        "all_test_labels = []\n",
        "all_test_predictions = []\n",
        "\n",
        "train_accuracies = []\n",
        "test_accuracies = []\n",
        "\n",
        "train_losses = []\n",
        "test_losses = []"
      ],
      "metadata": {
        "id": "VWI9t9BwgMZM"
      },
      "execution_count": null,
      "outputs": []
    },
    {
      "cell_type": "code",
      "source": [
        "model = torchvision.models.resnet18(num_classes=num_class).cuda()\n",
        "\n",
        "epoch_loop(model=model, train_set=train_set, test_set=test_set, args=args)\n"
      ],
      "metadata": {
        "colab": {
          "base_uri": "https://localhost:8080/"
        },
        "id": "izOUAQqWku0t",
        "outputId": "ac877b34-3e47-48f8-b9c6-ba8bc769a02e"
      },
      "execution_count": null,
      "outputs": [
        {
          "output_type": "stream",
          "name": "stdout",
          "text": [
            "Epoch 1/10 - Train Loss: 2.0591, Train Error: 0.7017, Test Loss: 1.6580, Test Error: 0.6311\n"
          ]
        },
        {
          "output_type": "stream",
          "name": "stderr",
          "text": [
            "/usr/local/lib/python3.10/dist-packages/numpy/lib/function_base.py:518: RuntimeWarning: Mean of empty slice.\n",
            "  avg = a.mean(axis, **keepdims_kw)\n",
            "/usr/local/lib/python3.10/dist-packages/numpy/core/_methods.py:190: RuntimeWarning: invalid value encountered in double_scalars\n",
            "  ret = ret.dtype.type(ret / rcount)\n",
            "/usr/local/lib/python3.10/dist-packages/numpy/lib/function_base.py:518: RuntimeWarning: Mean of empty slice.\n",
            "  avg = a.mean(axis, **keepdims_kw)\n",
            "/usr/local/lib/python3.10/dist-packages/numpy/core/_methods.py:190: RuntimeWarning: invalid value encountered in double_scalars\n",
            "  ret = ret.dtype.type(ret / rcount)\n"
          ]
        },
        {
          "output_type": "stream",
          "name": "stdout",
          "text": [
            "Epoch 2/10 - Train Loss: 1.5544, Train Error: 0.5732, Test Loss: 1.4906, Test Error: 0.5540\n"
          ]
        },
        {
          "output_type": "stream",
          "name": "stderr",
          "text": [
            "/usr/local/lib/python3.10/dist-packages/numpy/lib/function_base.py:518: RuntimeWarning: Mean of empty slice.\n",
            "  avg = a.mean(axis, **keepdims_kw)\n",
            "/usr/local/lib/python3.10/dist-packages/numpy/core/_methods.py:190: RuntimeWarning: invalid value encountered in double_scalars\n",
            "  ret = ret.dtype.type(ret / rcount)\n",
            "/usr/local/lib/python3.10/dist-packages/numpy/lib/function_base.py:518: RuntimeWarning: Mean of empty slice.\n",
            "  avg = a.mean(axis, **keepdims_kw)\n",
            "/usr/local/lib/python3.10/dist-packages/numpy/core/_methods.py:190: RuntimeWarning: invalid value encountered in double_scalars\n",
            "  ret = ret.dtype.type(ret / rcount)\n"
          ]
        },
        {
          "output_type": "stream",
          "name": "stdout",
          "text": [
            "Epoch 3/10 - Train Loss: 1.3569, Train Error: 0.4893, Test Loss: 1.3069, Test Error: 0.4599\n"
          ]
        },
        {
          "output_type": "stream",
          "name": "stderr",
          "text": [
            "/usr/local/lib/python3.10/dist-packages/numpy/lib/function_base.py:518: RuntimeWarning: Mean of empty slice.\n",
            "  avg = a.mean(axis, **keepdims_kw)\n",
            "/usr/local/lib/python3.10/dist-packages/numpy/core/_methods.py:190: RuntimeWarning: invalid value encountered in double_scalars\n",
            "  ret = ret.dtype.type(ret / rcount)\n",
            "/usr/local/lib/python3.10/dist-packages/numpy/lib/function_base.py:518: RuntimeWarning: Mean of empty slice.\n",
            "  avg = a.mean(axis, **keepdims_kw)\n",
            "/usr/local/lib/python3.10/dist-packages/numpy/core/_methods.py:190: RuntimeWarning: invalid value encountered in double_scalars\n",
            "  ret = ret.dtype.type(ret / rcount)\n"
          ]
        },
        {
          "output_type": "stream",
          "name": "stdout",
          "text": [
            "Epoch 4/10 - Train Loss: 1.2212, Train Error: 0.4334, Test Loss: 1.2359, Test Error: 0.4343\n"
          ]
        },
        {
          "output_type": "stream",
          "name": "stderr",
          "text": [
            "/usr/local/lib/python3.10/dist-packages/numpy/lib/function_base.py:518: RuntimeWarning: Mean of empty slice.\n",
            "  avg = a.mean(axis, **keepdims_kw)\n",
            "/usr/local/lib/python3.10/dist-packages/numpy/core/_methods.py:190: RuntimeWarning: invalid value encountered in double_scalars\n",
            "  ret = ret.dtype.type(ret / rcount)\n",
            "/usr/local/lib/python3.10/dist-packages/numpy/lib/function_base.py:518: RuntimeWarning: Mean of empty slice.\n",
            "  avg = a.mean(axis, **keepdims_kw)\n",
            "/usr/local/lib/python3.10/dist-packages/numpy/core/_methods.py:190: RuntimeWarning: invalid value encountered in double_scalars\n",
            "  ret = ret.dtype.type(ret / rcount)\n"
          ]
        },
        {
          "output_type": "stream",
          "name": "stdout",
          "text": [
            "Epoch 5/10 - Train Loss: 1.1413, Train Error: 0.3996, Test Loss: 1.1178, Test Error: 0.3866\n"
          ]
        },
        {
          "output_type": "stream",
          "name": "stderr",
          "text": [
            "/usr/local/lib/python3.10/dist-packages/numpy/lib/function_base.py:518: RuntimeWarning: Mean of empty slice.\n",
            "  avg = a.mean(axis, **keepdims_kw)\n",
            "/usr/local/lib/python3.10/dist-packages/numpy/core/_methods.py:190: RuntimeWarning: invalid value encountered in double_scalars\n",
            "  ret = ret.dtype.type(ret / rcount)\n",
            "/usr/local/lib/python3.10/dist-packages/numpy/lib/function_base.py:518: RuntimeWarning: Mean of empty slice.\n",
            "  avg = a.mean(axis, **keepdims_kw)\n",
            "/usr/local/lib/python3.10/dist-packages/numpy/core/_methods.py:190: RuntimeWarning: invalid value encountered in double_scalars\n",
            "  ret = ret.dtype.type(ret / rcount)\n"
          ]
        },
        {
          "output_type": "stream",
          "name": "stdout",
          "text": [
            "Epoch 6/10 - Train Loss: 1.0759, Train Error: 0.3732, Test Loss: 1.1329, Test Error: 0.4016\n"
          ]
        },
        {
          "output_type": "stream",
          "name": "stderr",
          "text": [
            "/usr/local/lib/python3.10/dist-packages/numpy/lib/function_base.py:518: RuntimeWarning: Mean of empty slice.\n",
            "  avg = a.mean(axis, **keepdims_kw)\n",
            "/usr/local/lib/python3.10/dist-packages/numpy/core/_methods.py:190: RuntimeWarning: invalid value encountered in double_scalars\n",
            "  ret = ret.dtype.type(ret / rcount)\n",
            "/usr/local/lib/python3.10/dist-packages/numpy/lib/function_base.py:518: RuntimeWarning: Mean of empty slice.\n",
            "  avg = a.mean(axis, **keepdims_kw)\n",
            "/usr/local/lib/python3.10/dist-packages/numpy/core/_methods.py:190: RuntimeWarning: invalid value encountered in double_scalars\n",
            "  ret = ret.dtype.type(ret / rcount)\n"
          ]
        },
        {
          "output_type": "stream",
          "name": "stdout",
          "text": [
            "Epoch 7/10 - Train Loss: 1.0383, Train Error: 0.3582, Test Loss: 1.2329, Test Error: 0.4343\n"
          ]
        },
        {
          "output_type": "stream",
          "name": "stderr",
          "text": [
            "/usr/local/lib/python3.10/dist-packages/numpy/lib/function_base.py:518: RuntimeWarning: Mean of empty slice.\n",
            "  avg = a.mean(axis, **keepdims_kw)\n",
            "/usr/local/lib/python3.10/dist-packages/numpy/core/_methods.py:190: RuntimeWarning: invalid value encountered in double_scalars\n",
            "  ret = ret.dtype.type(ret / rcount)\n",
            "/usr/local/lib/python3.10/dist-packages/numpy/lib/function_base.py:518: RuntimeWarning: Mean of empty slice.\n",
            "  avg = a.mean(axis, **keepdims_kw)\n",
            "/usr/local/lib/python3.10/dist-packages/numpy/core/_methods.py:190: RuntimeWarning: invalid value encountered in double_scalars\n",
            "  ret = ret.dtype.type(ret / rcount)\n"
          ]
        },
        {
          "output_type": "stream",
          "name": "stdout",
          "text": [
            "Epoch 8/10 - Train Loss: 1.0088, Train Error: 0.3480, Test Loss: 1.0248, Test Error: 0.3616\n"
          ]
        },
        {
          "output_type": "stream",
          "name": "stderr",
          "text": [
            "/usr/local/lib/python3.10/dist-packages/numpy/lib/function_base.py:518: RuntimeWarning: Mean of empty slice.\n",
            "  avg = a.mean(axis, **keepdims_kw)\n",
            "/usr/local/lib/python3.10/dist-packages/numpy/core/_methods.py:190: RuntimeWarning: invalid value encountered in double_scalars\n",
            "  ret = ret.dtype.type(ret / rcount)\n",
            "/usr/local/lib/python3.10/dist-packages/numpy/lib/function_base.py:518: RuntimeWarning: Mean of empty slice.\n",
            "  avg = a.mean(axis, **keepdims_kw)\n",
            "/usr/local/lib/python3.10/dist-packages/numpy/core/_methods.py:190: RuntimeWarning: invalid value encountered in double_scalars\n",
            "  ret = ret.dtype.type(ret / rcount)\n"
          ]
        },
        {
          "output_type": "stream",
          "name": "stdout",
          "text": [
            "Epoch 9/10 - Train Loss: 0.9754, Train Error: 0.3366, Test Loss: 0.9926, Test Error: 0.3352\n"
          ]
        },
        {
          "output_type": "stream",
          "name": "stderr",
          "text": [
            "/usr/local/lib/python3.10/dist-packages/numpy/lib/function_base.py:518: RuntimeWarning: Mean of empty slice.\n",
            "  avg = a.mean(axis, **keepdims_kw)\n",
            "/usr/local/lib/python3.10/dist-packages/numpy/core/_methods.py:190: RuntimeWarning: invalid value encountered in double_scalars\n",
            "  ret = ret.dtype.type(ret / rcount)\n",
            "/usr/local/lib/python3.10/dist-packages/numpy/lib/function_base.py:518: RuntimeWarning: Mean of empty slice.\n",
            "  avg = a.mean(axis, **keepdims_kw)\n",
            "/usr/local/lib/python3.10/dist-packages/numpy/core/_methods.py:190: RuntimeWarning: invalid value encountered in double_scalars\n",
            "  ret = ret.dtype.type(ret / rcount)\n"
          ]
        },
        {
          "output_type": "stream",
          "name": "stdout",
          "text": [
            "Epoch 10/10 - Train Loss: 0.9668, Train Error: 0.3313, Test Loss: 1.0511, Test Error: 0.3671\n"
          ]
        },
        {
          "output_type": "stream",
          "name": "stderr",
          "text": [
            "/usr/local/lib/python3.10/dist-packages/numpy/lib/function_base.py:518: RuntimeWarning: Mean of empty slice.\n",
            "  avg = a.mean(axis, **keepdims_kw)\n",
            "/usr/local/lib/python3.10/dist-packages/numpy/core/_methods.py:190: RuntimeWarning: invalid value encountered in double_scalars\n",
            "  ret = ret.dtype.type(ret / rcount)\n",
            "/usr/local/lib/python3.10/dist-packages/numpy/lib/function_base.py:518: RuntimeWarning: Mean of empty slice.\n",
            "  avg = a.mean(axis, **keepdims_kw)\n",
            "/usr/local/lib/python3.10/dist-packages/numpy/core/_methods.py:190: RuntimeWarning: invalid value encountered in double_scalars\n",
            "  ret = ret.dtype.type(ret / rcount)\n"
          ]
        }
      ]
    },
    {
      "cell_type": "code",
      "source": [
        "# def plot_metrics(train_values, test_values, metric_name):\n",
        "#     epochs = range(1, len(train_values) + 1)\n",
        "#     plt.plot(epochs, train_values, 'bo', label=f'Training {metric_name}')\n",
        "#     plt.plot(epochs, test_values, 'r', label=f'Validation {metric_name}')\n",
        "#     plt.title(f'Training and Validation {metric_name}')\n",
        "#     plt.legend()\n",
        "#     plt.show()\n",
        "\n",
        "def plot_metrics(train_metrics, test_metrics, metric_name):\n",
        "    \"\"\"\n",
        "    Utility function to plot training and testing metrics over epochs\n",
        "    \"\"\"\n",
        "    plt.plot(train_metrics, label=f\"Train {metric_name}\")\n",
        "    plt.plot(test_metrics, label=f\"Test {metric_name}\")\n",
        "    plt.title(f\"Train vs Test {metric_name} over epochs\")\n",
        "    plt.xlabel(\"Epochs\")\n",
        "    plt.ylabel(metric_name)\n",
        "    plt.legend()\n",
        "    plt.show()\n",
        "\n",
        "def plot_roc_curve(y_true, y_score):\n",
        "    n_classes = len(np.unique(y_true))\n",
        "    y_true_bin = label_binarize(y_true, classes=[*range(n_classes)])\n",
        "\n",
        "    fpr, tpr, _ = roc_curve(y_true_bin.ravel(), y_score.ravel())\n",
        "    auc_score = roc_auc_score(y_true_bin, y_score, average='macro')\n",
        "    plt.figure()\n",
        "    plt.plot(fpr, tpr, color='darkorange', label=f'ROC curve (area = {auc_score:.2f})')\n",
        "    plt.plot([0, 1], [0, 1], color='navy', linestyle='--')\n",
        "    plt.xlabel('False Positive Rate')\n",
        "    plt.ylabel('True Positive Rate')\n",
        "    plt.title('Receiver Operating Characteristic Curve')\n",
        "    plt.legend(loc=\"lower right\")\n",
        "    plt.show()\n"
      ],
      "metadata": {
        "id": "OBc7B5UTmgUK"
      },
      "execution_count": null,
      "outputs": []
    },
    {
      "cell_type": "code",
      "source": [
        "# plot_metrics(train_accuracies, test_accuracies, \"Accuracy\")\n",
        "# plot_metrics(train_losses, test_losses, \"Loss\")\n",
        "# plot_roc_curve(all_test_labels, all_test_predictions)"
      ],
      "metadata": {
        "id": "mcSCTSA8fXnq"
      },
      "execution_count": null,
      "outputs": []
    },
    {
      "cell_type": "code",
      "source": [],
      "metadata": {
        "id": "GUYTunMNfXdJ"
      },
      "execution_count": null,
      "outputs": []
    },
    {
      "cell_type": "code",
      "source": [],
      "metadata": {
        "id": "u3-8stM9g7eh"
      },
      "execution_count": null,
      "outputs": []
    },
    {
      "cell_type": "code",
      "source": [],
      "metadata": {
        "id": "g07_X3zFg7aj"
      },
      "execution_count": null,
      "outputs": []
    },
    {
      "cell_type": "code",
      "source": [],
      "metadata": {
        "id": "DbGvsTfDg7VH"
      },
      "execution_count": null,
      "outputs": []
    },
    {
      "cell_type": "code",
      "source": [],
      "metadata": {
        "id": "_wGzi4J-mZlr"
      },
      "execution_count": null,
      "outputs": []
    },
    {
      "cell_type": "code",
      "source": [
        "def train_or_test_model(model, dataloader, train=True):\n",
        "    all_labels = []\n",
        "    all_predictions = []\n",
        "\n",
        "    train_loader = DataLoader(train_set, batch_size=args.batch_size, shuffle=True, num_workers=args.workers)\n",
        "    test_loader = DataLoader(test_set, batch_size=args.batch_size, shuffle=False, num_workers=args.workers)\n",
        "\n",
        "    # Set model to training or evaluation mode\n",
        "    if train:\n",
        "        model.train()\n",
        "    else:\n",
        "        model.eval()\n",
        "\n",
        "    for inputs, labels in dataloader:\n",
        "        inputs, labels = inputs.cuda(), labels.cuda()\n",
        "\n",
        "        logits = model(inputs)\n",
        "        _, predicted_classes = torch.max(logits, 1)\n",
        "\n",
        "        all_labels.extend(labels.cpu().numpy())\n",
        "        all_predictions.extend(predicted_classes.cpu().numpy())\n",
        "\n",
        "    accuracy, recall, precision, f1 = calculate_metrics(all_labels, all_predictions)\n",
        "\n",
        "    return accuracy, recall, precision, f1"
      ],
      "metadata": {
        "id": "E9QkFcjXX6yE"
      },
      "execution_count": null,
      "outputs": []
    },
    {
      "cell_type": "code",
      "source": [
        "transform = transforms.Compose([\n",
        "    transforms.RandomCrop(32, padding=4),\n",
        "    transforms.RandomHorizontalFlip(),\n",
        "    transforms.ToTensor(),\n",
        "    transforms.Normalize((0.4914, 0.4822, 0.4465), (0.2023, 0.1994, 0.2010))\n",
        "])\n",
        "\n",
        "train_dataset = CIFAR10(root='./data', train=True, download=True, transform=transform)\n",
        "train_loader = DataLoader(train_dataset, batch_size=64, shuffle=True, num_workers=2)\n",
        "\n",
        "test_dataset = CIFAR10(root='./data', train=False, download=True, transform=transform)\n",
        "test_loader = DataLoader(test_dataset, batch_size=64, shuffle=False, num_workers=2)"
      ],
      "metadata": {
        "id": "xmCs-mdRf001"
      },
      "execution_count": null,
      "outputs": []
    },
    {
      "cell_type": "code",
      "source": [
        "train_accuracy, train_recall, train_precision, train_f1 = train_or_test_model(model, train_loader, train=True)\n",
        "test_accuracy, test_recall, test_precision, test_f1 = train_or_test_model(model, test_loader, train=False)\n",
        "\n",
        "print(f\"Training Metrics - Accuracy: {train_accuracy}, Recall: {train_recall}, Precision: {train_precision}, F1 Score: {train_f1}\")\n",
        "print(f\"Testing Metrics - Accuracy: {test_accuracy}, Recall: {test_recall}, Precision: {test_precision}, F1 Score: {test_f1}\")"
      ],
      "metadata": {
        "id": "bNeWmq0eczeE"
      },
      "execution_count": null,
      "outputs": []
    },
    {
      "cell_type": "code",
      "source": [],
      "metadata": {
        "id": "ywL0Ww8zgD08"
      },
      "execution_count": null,
      "outputs": []
    },
    {
      "cell_type": "markdown",
      "source": [
        "## 2. KD"
      ],
      "metadata": {
        "id": "P2ZEPLchifkW"
      }
    },
    {
      "cell_type": "code",
      "source": [
        "import os\n",
        "import torch\n",
        "import torchvision\n",
        "from torch import nn\n",
        "from torch.utils.data import DataLoader\n",
        "import torch.nn.functional as F\n",
        "import torch.backends.cudnn as cudnn\n",
        "from torch.utils.tensorboard import SummaryWriter\n",
        "import numpy as np\n",
        "import time\n",
        "import json\n",
        "import random\n",
        "import warnings"
      ],
      "metadata": {
        "id": "EMVdI7_Min52"
      },
      "execution_count": null,
      "outputs": []
    },
    {
      "cell_type": "code",
      "source": [
        "class ResNet20(nn.Module):\n",
        "    # Sample mock model\n",
        "    def forward(self, x):\n",
        "        return x"
      ],
      "metadata": {
        "id": "QjPvNVXNiojr"
      },
      "execution_count": null,
      "outputs": []
    },
    {
      "cell_type": "code",
      "source": [
        "Models = {\n",
        "    'resnet20_cifar': ResNet20\n",
        "}\n"
      ],
      "metadata": {
        "id": "KcAUwNwqiog0"
      },
      "execution_count": null,
      "outputs": []
    },
    {
      "cell_type": "code",
      "source": [
        "class CIFAR:\n",
        "    def __init__(self, name):\n",
        "        transform = torchvision.transforms.Compose([\n",
        "            torchvision.transforms.ToTensor(),\n",
        "            torchvision.transforms.Normalize((0.5, 0.5, 0.5), (0.5, 0.5, 0.5))\n",
        "        ])\n",
        "\n",
        "        if name == 'cifar100':\n",
        "            self.train_set = torchvision.datasets.CIFAR100(root='./data', train=True, download=True, transform=transform)\n",
        "            self.test_set = torchvision.datasets.CIFAR100(root='./data', train=False, download=True, transform=transform)\n",
        "        else:\n",
        "            raise NotImplementedError\n",
        "        self.num_class = 100\n",
        "\n",
        "\n"
      ],
      "metadata": {
        "id": "dUsD59idioa6"
      },
      "execution_count": null,
      "outputs": []
    },
    {
      "cell_type": "code",
      "source": [
        "class Args:\n",
        "    model_name = \"resnet20_cifar\"\n",
        "    dataset = 'cifar100'\n",
        "    epochs = 20\n",
        "    batch_size = 128\n",
        "    workers = 2\n",
        "    lr = 0.1\n",
        "    momentum = 0.9\n",
        "    weight_decay = 5e-4\n",
        "    teacher = \"resnet56_cifar\"\n",
        "    teacher_weights = None\n",
        "    cls_loss_factor = 1.0\n",
        "    kd_loss_factor = 1.0\n",
        "    t = 4.0\n",
        "    nd_loss_factor = 1.0\n",
        "    warm_up = 20.0\n",
        "    gpus = [0]\n",
        "    seed = None\n",
        "    resume = None\n",
        "    save_dir = \"./run\"\n",
        "\n",
        "args = Args()\n"
      ],
      "metadata": {
        "id": "vnB4uv_qk-3h"
      },
      "execution_count": null,
      "outputs": []
    },
    {
      "cell_type": "code",
      "source": [
        "print(\"Model: \", args.model_name)"
      ],
      "metadata": {
        "colab": {
          "base_uri": "https://localhost:8080/"
        },
        "id": "V3OFFGIylCVO",
        "outputId": "c35ac77c-1af2-4920-927c-b615c71b5b3a"
      },
      "execution_count": null,
      "outputs": [
        {
          "output_type": "stream",
          "name": "stdout",
          "text": [
            "Model:  resnet20_cifar\n"
          ]
        }
      ]
    },
    {
      "cell_type": "code",
      "source": [
        "def calculate_metrics(y_true, y_pred):\n",
        "    accuracy = accuracy_score(y_true, y_pred)\n",
        "    recall = recall_score(y_true, y_pred, average='macro')\n",
        "    precision = precision_score(y_true, y_pred, average='macro')\n",
        "    f1 = f1_score(y_true, y_pred, average='macro')\n",
        "\n",
        "    return accuracy, recall, precision, f1\n",
        "\n",
        "def plot_metrics(train_metrics, test_metrics, metric_name):\n",
        "    plt.plot(train_metrics, label=f\"Train {metric_name}\")\n",
        "    plt.plot(test_metrics, label=f\"Test {metric_name}\")\n",
        "    plt.xlabel(\"Epochs\")\n",
        "    plt.ylabel(metric_name)\n",
        "    plt.title(f\"{metric_name} over Epochs\")\n",
        "    plt.legend()\n",
        "    plt.show()\n",
        "\n",
        "def plot_roc_curve(y_true, y_score):\n",
        "    n_classes = len(np.unique(y_true))\n",
        "    y_true_bin = label_binarize(y_true, classes=[*range(n_classes)])\n",
        "\n",
        "    fpr, tpr, _ = roc_curve(y_true_bin.ravel(), y_score.ravel())\n",
        "    roc_auc = auc(fpr, tpr)\n",
        "\n",
        "    plt.figure()\n",
        "    plt.plot(fpr, tpr, color='darkorange', lw=2, label='ROC curve (area = %0.2f)' % roc_auc)\n",
        "    plt.xlabel('False Positive Rate')\n",
        "    plt.ylabel('True Positive Rate')\n",
        "    plt.title('Receiver Operating Characteristic Curve')\n",
        "    plt.legend(loc=\"lower right\")\n",
        "    plt.show()\n",
        "\n",
        "\n"
      ],
      "metadata": {
        "id": "Qv8T9Q4OlCSM"
      },
      "execution_count": null,
      "outputs": []
    },
    {
      "cell_type": "code",
      "source": [
        "def train():\n",
        "    # Testing a training process\n",
        "    train_acc = np.random.rand()\n",
        "    train_loss = np.random.rand()\n",
        "    return train_loss, train_acc\n",
        "\n",
        "def test():\n",
        "    # Testing a testing process\n",
        "    test_acc = np.random.rand()\n",
        "    test_loss = np.random.rand()\n",
        "    return test_loss, test_acc\n",
        "\n",
        "def epoch_loop():\n",
        "    train_accuracies = []\n",
        "    test_accuracies = []\n",
        "    train_losses = []\n",
        "    test_losses = []\n",
        "\n",
        "    for epoch in range(args.epochs):\n",
        "        train_loss, train_acc = train()\n",
        "        test_loss, test_acc = test()\n",
        "\n",
        "        train_accuracies.append(train_acc)\n",
        "        test_accuracies.append(test_acc)\n",
        "        train_losses.append(train_loss)\n",
        "        test_losses.append(test_loss)\n",
        "\n",
        "        print(f\"Epoch {epoch+1}/{args.epochs} - Train Loss: {train_loss:.4f}, Train Acc: {train_acc:.4f}, Test Loss: {test_loss:.4f}, Test Acc: {test_acc:.4f}\")\n",
        "\n",
        "    # Plot metrics after all epochs\n",
        "    plot_metrics(train_accuracies, test_accuracies, \"Accuracy\")\n",
        "    plot_metrics(train_losses, test_losses, \"Loss\")\n",
        "\n",
        "# Run the mock epoch loop\n",
        "epoch_loop()"
      ],
      "metadata": {
        "colab": {
          "base_uri": "https://localhost:8080/",
          "height": 1000
        },
        "id": "bcZ2jZmIlCOh",
        "outputId": "1411e1e8-d85b-455b-f28b-164a9fa1f701"
      },
      "execution_count": null,
      "outputs": [
        {
          "output_type": "stream",
          "name": "stdout",
          "text": [
            "Epoch 1/20 - Train Loss: 0.6303, Train Acc: 0.2983, Test Loss: 0.4548, Test Acc: 0.2409\n",
            "Epoch 2/20 - Train Loss: 0.8470, Train Acc: 0.3460, Test Loss: 0.2071, Test Acc: 0.5251\n",
            "Epoch 3/20 - Train Loss: 0.4126, Train Acc: 0.5471, Test Loss: 0.0919, Test Acc: 0.7015\n",
            "Epoch 4/20 - Train Loss: 0.8346, Train Acc: 0.2844, Test Loss: 0.1415, Test Acc: 0.8347\n",
            "Epoch 5/20 - Train Loss: 0.7638, Train Acc: 0.4006, Test Loss: 0.4893, Test Acc: 0.8418\n",
            "Epoch 6/20 - Train Loss: 0.6129, Train Acc: 0.1376, Test Loss: 0.2793, Test Acc: 0.2740\n",
            "Epoch 7/20 - Train Loss: 0.9336, Train Acc: 0.1815, Test Loss: 0.5321, Test Acc: 0.9098\n",
            "Epoch 8/20 - Train Loss: 0.0641, Train Acc: 0.5019, Test Loss: 0.7200, Test Acc: 0.9566\n",
            "Epoch 9/20 - Train Loss: 0.3249, Train Acc: 0.3107, Test Loss: 0.9873, Test Acc: 0.8147\n",
            "Epoch 10/20 - Train Loss: 0.5342, Train Acc: 0.1371, Test Loss: 0.0389, Test Acc: 0.0106\n",
            "Epoch 11/20 - Train Loss: 0.3753, Train Acc: 0.8711, Test Loss: 0.1268, Test Acc: 0.1995\n",
            "Epoch 12/20 - Train Loss: 0.5329, Train Acc: 0.5554, Test Loss: 0.4993, Test Acc: 0.4216\n",
            "Epoch 13/20 - Train Loss: 0.9226, Train Acc: 0.1326, Test Loss: 0.9325, Test Acc: 0.8200\n",
            "Epoch 14/20 - Train Loss: 0.1908, Train Acc: 0.8054, Test Loss: 0.9908, Test Acc: 0.9774\n",
            "Epoch 15/20 - Train Loss: 0.0497, Train Acc: 0.6446, Test Loss: 0.8098, Test Acc: 0.2700\n",
            "Epoch 16/20 - Train Loss: 0.4864, Train Acc: 0.2591, Test Loss: 0.0083, Test Acc: 0.7565\n",
            "Epoch 17/20 - Train Loss: 0.7720, Train Acc: 0.0182, Test Loss: 0.6378, Test Acc: 0.2550\n",
            "Epoch 18/20 - Train Loss: 0.6421, Train Acc: 0.3535, Test Loss: 0.7181, Test Acc: 0.2302\n",
            "Epoch 19/20 - Train Loss: 0.8708, Train Acc: 0.0490, Test Loss: 0.0673, Test Acc: 0.2171\n",
            "Epoch 20/20 - Train Loss: 0.7509, Train Acc: 0.1727, Test Loss: 0.9048, Test Acc: 0.0313\n"
          ]
        },
        {
          "output_type": "display_data",
          "data": {
            "text/plain": [
              "<Figure size 640x480 with 1 Axes>"
            ],
            "image/png": "[encoded data removed]"
          },
          "metadata": {}
        },
        {
          "output_type": "display_data",
          "data": {
            "text/plain": [
              "<Figure size 640x480 with 1 Axes>"
            ],
            "image/png": "[encoded data removed]"
          },
          "metadata": {}
        }
      ]
    },
    {
      "cell_type": "code",
      "source": [],
      "metadata": {
        "id": "KtyLpFZclw7N"
      },
      "execution_count": null,
      "outputs": []
    },
    {
      "cell_type": "code",
      "source": [],
      "metadata": {
        "id": "dyTnrF0hdDCk"
      },
      "execution_count": null,
      "outputs": []
    },
    {
      "cell_type": "code",
      "source": [],
      "metadata": {
        "id": "Awcm01y6dDFb"
      },
      "execution_count": null,
      "outputs": []
    },
    {
      "cell_type": "markdown",
      "source": [
        "## 3. ReviewKD++\n",
        "\n",
        "Code Link: https://github.com/WangYZ1608/Knowledge-Distillation-via-ND/blob/main/CIFAR/ReviewKD%2B%2B/train_reviewkd.py"
      ],
      "metadata": {
        "id": "NWOpDi1adH_P"
      }
    },
    {
      "cell_type": "code",
      "source": [
        "!pip install torchsummaryX --quiet"
      ],
      "metadata": {
        "id": "uXHP-apwdNNK"
      },
      "execution_count": 1,
      "outputs": []
    },
    {
      "cell_type": "code",
      "source": [
        "import torch\n",
        "import torchvision\n",
        "from torch import nn\n",
        "from torch.utils.data import DataLoader\n",
        "import torch.backends.cudnn as cudnn\n",
        "from torchsummaryX import summary\n",
        "import logging\n",
        "import time\n",
        "import random\n",
        "import warnings\n",
        "from pathlib import Path\n",
        "import numpy as np\n",
        "from collections import OrderedDict\n",
        "from torch.utils.tensorboard import SummaryWriter\n",
        "import os\n",
        "import torchvision.transforms as transforms\n",
        "from torch import nn, optim\n",
        "import torch.nn.functional as F\n",
        "\n",
        "import torchvision.models as Models\n",
        "from torchvision.datasets import CIFAR10, CIFAR100\n",
        "from torchvision import transforms\n",
        "from sklearn.metrics import precision_score, recall_score, f1_score, accuracy_score\n",
        "\n",
        "import matplotlib.pyplot as plt\n",
        "from sklearn.metrics import roc_curve, auc\n",
        "from sklearn.preprocessing import label_binarize\n",
        "from utils import colorstr, Save_Checkpoint, AverageMeter, DirectNormLoss\n",
        "logger = logging.getLogger()\n",
        "\n"
      ],
      "metadata": {
        "id": "0lvU-CZrdNGw"
      },
      "execution_count": 3,
      "outputs": []
    },
    {
      "cell_type": "code",
      "source": [
        "transform = transforms.Compose([\n",
        "    transforms.ToTensor(),\n",
        "    transforms.Normalize((0.5, 0.5, 0.5), (0.5, 0.5, 0.5))\n",
        "])\n",
        "\n",
        "train_set = torchvision.datasets.CIFAR10(root='./data', train=True, download=True, transform=transform)\n",
        "test_set = torchvision.datasets.CIFAR10(root='./data', train=False, download=True, transform=transform)\n"
      ],
      "metadata": {
        "colab": {
          "base_uri": "https://localhost:8080/"
        },
        "id": "NIiLB_MXhh61",
        "outputId": "77f9b5b1-28a0-4824-a0e5-edd58a06a199"
      },
      "execution_count": 4,
      "outputs": [
        {
          "output_type": "stream",
          "name": "stdout",
          "text": [
            "Downloading https://www.cs.toronto.edu/~kriz/cifar-10-python.tar.gz to ./data/cifar-10-python.tar.gz\n"
          ]
        },
        {
          "output_type": "stream",
          "name": "stderr",
          "text": [
            "100%|██████████| 170498071/170498071 [00:02<00:00, 71600522.24it/s]\n"
          ]
        },
        {
          "output_type": "stream",
          "name": "stdout",
          "text": [
            "Extracting ./data/cifar-10-python.tar.gz to ./data\n",
            "Files already downloaded and verified\n"
          ]
        }
      ]
    },
    {
      "cell_type": "code",
      "source": [
        "teacher = torchvision.models.resnet18(pretrained=True)\n",
        "teacher.fc = nn.Linear(teacher.fc.in_features, 10)\n",
        "\n",
        "student = torchvision.models.resnet34(pretrained=False)\n",
        "student.fc = nn.Linear(student.fc.in_features, 10)\n",
        "\n",
        "device = torch.device(\"cuda\" if torch.cuda.is_available() else \"cpu\")\n",
        "teacher.to(device)\n",
        "student.to(device)"
      ],
      "metadata": {
        "colab": {
          "base_uri": "https://localhost:8080/"
        },
        "id": "E9RcNRmGhh31",
        "outputId": "49e12cf6-af0b-4b93-ff8e-a6803ceb381b"
      },
      "execution_count": 5,
      "outputs": [
        {
          "output_type": "stream",
          "name": "stderr",
          "text": [
            "/usr/local/lib/python3.10/dist-packages/torchvision/models/_utils.py:208: UserWarning: The parameter 'pretrained' is deprecated since 0.13 and may be removed in the future, please use 'weights' instead.\n",
            "  warnings.warn(\n",
            "/usr/local/lib/python3.10/dist-packages/torchvision/models/_utils.py:223: UserWarning: Arguments other than a weight enum or `None` for 'weights' are deprecated since 0.13 and may be removed in the future. The current behavior is equivalent to passing `weights=ResNet18_Weights.IMAGENET1K_V1`. You can also use `weights=ResNet18_Weights.DEFAULT` to get the most up-to-date weights.\n",
            "  warnings.warn(msg)\n",
            "Downloading: \"https://download.pytorch.org/models/resnet18-f37072fd.pth\" to /root/.cache/torch/hub/checkpoints/resnet18-f37072fd.pth\n",
            "100%|██████████| 44.7M/44.7M [00:00<00:00, 146MB/s]\n",
            "/usr/local/lib/python3.10/dist-packages/torchvision/models/_utils.py:223: UserWarning: Arguments other than a weight enum or `None` for 'weights' are deprecated since 0.13 and may be removed in the future. The current behavior is equivalent to passing `weights=None`.\n",
            "  warnings.warn(msg)\n"
          ]
        },
        {
          "output_type": "execute_result",
          "data": {
            "text/plain": [
              "ResNet(\n",
              "  (conv1): Conv2d(3, 64, kernel_size=(7, 7), stride=(2, 2), padding=(3, 3), bias=False)\n",
              "  (bn1): BatchNorm2d(64, eps=1e-05, momentum=0.1, affine=True, track_running_stats=True)\n",
              "  (relu): ReLU(inplace=True)\n",
              "  (maxpool): MaxPool2d(kernel_size=3, stride=2, padding=1, dilation=1, ceil_mode=False)\n",
              "  (layer1): Sequential(\n",
              "    (0): BasicBlock(\n",
              "      (conv1): Conv2d(64, 64, kernel_size=(3, 3), stride=(1, 1), padding=(1, 1), bias=False)\n",
              "      (bn1): BatchNorm2d(64, eps=1e-05, momentum=0.1, affine=True, track_running_stats=True)\n",
              "      (relu): ReLU(inplace=True)\n",
              "      (conv2): Conv2d(64, 64, kernel_size=(3, 3), stride=(1, 1), padding=(1, 1), bias=False)\n",
              "      (bn2): BatchNorm2d(64, eps=1e-05, momentum=0.1, affine=True, track_running_stats=True)\n",
              "    )\n",
              "    (1): BasicBlock(\n",
              "      (conv1): Conv2d(64, 64, kernel_size=(3, 3), stride=(1, 1), padding=(1, 1), bias=False)\n",
              "      (bn1): BatchNorm2d(64, eps=1e-05, momentum=0.1, affine=True, track_running_stats=True)\n",
              "      (relu): ReLU(inplace=True)\n",
              "      (conv2): Conv2d(64, 64, kernel_size=(3, 3), stride=(1, 1), padding=(1, 1), bias=False)\n",
              "      (bn2): BatchNorm2d(64, eps=1e-05, momentum=0.1, affine=True, track_running_stats=True)\n",
              "    )\n",
              "    (2): BasicBlock(\n",
              "      (conv1): Conv2d(64, 64, kernel_size=(3, 3), stride=(1, 1), padding=(1, 1), bias=False)\n",
              "      (bn1): BatchNorm2d(64, eps=1e-05, momentum=0.1, affine=True, track_running_stats=True)\n",
              "      (relu): ReLU(inplace=True)\n",
              "      (conv2): Conv2d(64, 64, kernel_size=(3, 3), stride=(1, 1), padding=(1, 1), bias=False)\n",
              "      (bn2): BatchNorm2d(64, eps=1e-05, momentum=0.1, affine=True, track_running_stats=True)\n",
              "    )\n",
              "  )\n",
              "  (layer2): Sequential(\n",
              "    (0): BasicBlock(\n",
              "      (conv1): Conv2d(64, 128, kernel_size=(3, 3), stride=(2, 2), padding=(1, 1), bias=False)\n",
              "      (bn1): BatchNorm2d(128, eps=1e-05, momentum=0.1, affine=True, track_running_stats=True)\n",
              "      (relu): ReLU(inplace=True)\n",
              "      (conv2): Conv2d(128, 128, kernel_size=(3, 3), stride=(1, 1), padding=(1, 1), bias=False)\n",
              "      (bn2): BatchNorm2d(128, eps=1e-05, momentum=0.1, affine=True, track_running_stats=True)\n",
              "      (downsample): Sequential(\n",
              "        (0): Conv2d(64, 128, kernel_size=(1, 1), stride=(2, 2), bias=False)\n",
              "        (1): BatchNorm2d(128, eps=1e-05, momentum=0.1, affine=True, track_running_stats=True)\n",
              "      )\n",
              "    )\n",
              "    (1): BasicBlock(\n",
              "      (conv1): Conv2d(128, 128, kernel_size=(3, 3), stride=(1, 1), padding=(1, 1), bias=False)\n",
              "      (bn1): BatchNorm2d(128, eps=1e-05, momentum=0.1, affine=True, track_running_stats=True)\n",
              "      (relu): ReLU(inplace=True)\n",
              "      (conv2): Conv2d(128, 128, kernel_size=(3, 3), stride=(1, 1), padding=(1, 1), bias=False)\n",
              "      (bn2): BatchNorm2d(128, eps=1e-05, momentum=0.1, affine=True, track_running_stats=True)\n",
              "    )\n",
              "    (2): BasicBlock(\n",
              "      (conv1): Conv2d(128, 128, kernel_size=(3, 3), stride=(1, 1), padding=(1, 1), bias=False)\n",
              "      (bn1): BatchNorm2d(128, eps=1e-05, momentum=0.1, affine=True, track_running_stats=True)\n",
              "      (relu): ReLU(inplace=True)\n",
              "      (conv2): Conv2d(128, 128, kernel_size=(3, 3), stride=(1, 1), padding=(1, 1), bias=False)\n",
              "      (bn2): BatchNorm2d(128, eps=1e-05, momentum=0.1, affine=True, track_running_stats=True)\n",
              "    )\n",
              "    (3): BasicBlock(\n",
              "      (conv1): Conv2d(128, 128, kernel_size=(3, 3), stride=(1, 1), padding=(1, 1), bias=False)\n",
              "      (bn1): BatchNorm2d(128, eps=1e-05, momentum=0.1, affine=True, track_running_stats=True)\n",
              "      (relu): ReLU(inplace=True)\n",
              "      (conv2): Conv2d(128, 128, kernel_size=(3, 3), stride=(1, 1), padding=(1, 1), bias=False)\n",
              "      (bn2): BatchNorm2d(128, eps=1e-05, momentum=0.1, affine=True, track_running_stats=True)\n",
              "    )\n",
              "  )\n",
              "  (layer3): Sequential(\n",
              "    (0): BasicBlock(\n",
              "      (conv1): Conv2d(128, 256, kernel_size=(3, 3), stride=(2, 2), padding=(1, 1), bias=False)\n",
              "      (bn1): BatchNorm2d(256, eps=1e-05, momentum=0.1, affine=True, track_running_stats=True)\n",
              "      (relu): ReLU(inplace=True)\n",
              "      (conv2): Conv2d(256, 256, kernel_size=(3, 3), stride=(1, 1), padding=(1, 1), bias=False)\n",
              "      (bn2): BatchNorm2d(256, eps=1e-05, momentum=0.1, affine=True, track_running_stats=True)\n",
              "      (downsample): Sequential(\n",
              "        (0): Conv2d(128, 256, kernel_size=(1, 1), stride=(2, 2), bias=False)\n",
              "        (1): BatchNorm2d(256, eps=1e-05, momentum=0.1, affine=True, track_running_stats=True)\n",
              "      )\n",
              "    )\n",
              "    (1): BasicBlock(\n",
              "      (conv1): Conv2d(256, 256, kernel_size=(3, 3), stride=(1, 1), padding=(1, 1), bias=False)\n",
              "      (bn1): BatchNorm2d(256, eps=1e-05, momentum=0.1, affine=True, track_running_stats=True)\n",
              "      (relu): ReLU(inplace=True)\n",
              "      (conv2): Conv2d(256, 256, kernel_size=(3, 3), stride=(1, 1), padding=(1, 1), bias=False)\n",
              "      (bn2): BatchNorm2d(256, eps=1e-05, momentum=0.1, affine=True, track_running_stats=True)\n",
              "    )\n",
              "    (2): BasicBlock(\n",
              "      (conv1): Conv2d(256, 256, kernel_size=(3, 3), stride=(1, 1), padding=(1, 1), bias=False)\n",
              "      (bn1): BatchNorm2d(256, eps=1e-05, momentum=0.1, affine=True, track_running_stats=True)\n",
              "      (relu): ReLU(inplace=True)\n",
              "      (conv2): Conv2d(256, 256, kernel_size=(3, 3), stride=(1, 1), padding=(1, 1), bias=False)\n",
              "      (bn2): BatchNorm2d(256, eps=1e-05, momentum=0.1, affine=True, track_running_stats=True)\n",
              "    )\n",
              "    (3): BasicBlock(\n",
              "      (conv1): Conv2d(256, 256, kernel_size=(3, 3), stride=(1, 1), padding=(1, 1), bias=False)\n",
              "      (bn1): BatchNorm2d(256, eps=1e-05, momentum=0.1, affine=True, track_running_stats=True)\n",
              "      (relu): ReLU(inplace=True)\n",
              "      (conv2): Conv2d(256, 256, kernel_size=(3, 3), stride=(1, 1), padding=(1, 1), bias=False)\n",
              "      (bn2): BatchNorm2d(256, eps=1e-05, momentum=0.1, affine=True, track_running_stats=True)\n",
              "    )\n",
              "    (4): BasicBlock(\n",
              "      (conv1): Conv2d(256, 256, kernel_size=(3, 3), stride=(1, 1), padding=(1, 1), bias=False)\n",
              "      (bn1): BatchNorm2d(256, eps=1e-05, momentum=0.1, affine=True, track_running_stats=True)\n",
              "      (relu): ReLU(inplace=True)\n",
              "      (conv2): Conv2d(256, 256, kernel_size=(3, 3), stride=(1, 1), padding=(1, 1), bias=False)\n",
              "      (bn2): BatchNorm2d(256, eps=1e-05, momentum=0.1, affine=True, track_running_stats=True)\n",
              "    )\n",
              "    (5): BasicBlock(\n",
              "      (conv1): Conv2d(256, 256, kernel_size=(3, 3), stride=(1, 1), padding=(1, 1), bias=False)\n",
              "      (bn1): BatchNorm2d(256, eps=1e-05, momentum=0.1, affine=True, track_running_stats=True)\n",
              "      (relu): ReLU(inplace=True)\n",
              "      (conv2): Conv2d(256, 256, kernel_size=(3, 3), stride=(1, 1), padding=(1, 1), bias=False)\n",
              "      (bn2): BatchNorm2d(256, eps=1e-05, momentum=0.1, affine=True, track_running_stats=True)\n",
              "    )\n",
              "  )\n",
              "  (layer4): Sequential(\n",
              "    (0): BasicBlock(\n",
              "      (conv1): Conv2d(256, 512, kernel_size=(3, 3), stride=(2, 2), padding=(1, 1), bias=False)\n",
              "      (bn1): BatchNorm2d(512, eps=1e-05, momentum=0.1, affine=True, track_running_stats=True)\n",
              "      (relu): ReLU(inplace=True)\n",
              "      (conv2): Conv2d(512, 512, kernel_size=(3, 3), stride=(1, 1), padding=(1, 1), bias=False)\n",
              "      (bn2): BatchNorm2d(512, eps=1e-05, momentum=0.1, affine=True, track_running_stats=True)\n",
              "      (downsample): Sequential(\n",
              "        (0): Conv2d(256, 512, kernel_size=(1, 1), stride=(2, 2), bias=False)\n",
              "        (1): BatchNorm2d(512, eps=1e-05, momentum=0.1, affine=True, track_running_stats=True)\n",
              "      )\n",
              "    )\n",
              "    (1): BasicBlock(\n",
              "      (conv1): Conv2d(512, 512, kernel_size=(3, 3), stride=(1, 1), padding=(1, 1), bias=False)\n",
              "      (bn1): BatchNorm2d(512, eps=1e-05, momentum=0.1, affine=True, track_running_stats=True)\n",
              "      (relu): ReLU(inplace=True)\n",
              "      (conv2): Conv2d(512, 512, kernel_size=(3, 3), stride=(1, 1), padding=(1, 1), bias=False)\n",
              "      (bn2): BatchNorm2d(512, eps=1e-05, momentum=0.1, affine=True, track_running_stats=True)\n",
              "    )\n",
              "    (2): BasicBlock(\n",
              "      (conv1): Conv2d(512, 512, kernel_size=(3, 3), stride=(1, 1), padding=(1, 1), bias=False)\n",
              "      (bn1): BatchNorm2d(512, eps=1e-05, momentum=0.1, affine=True, track_running_stats=True)\n",
              "      (relu): ReLU(inplace=True)\n",
              "      (conv2): Conv2d(512, 512, kernel_size=(3, 3), stride=(1, 1), padding=(1, 1), bias=False)\n",
              "      (bn2): BatchNorm2d(512, eps=1e-05, momentum=0.1, affine=True, track_running_stats=True)\n",
              "    )\n",
              "  )\n",
              "  (avgpool): AdaptiveAvgPool2d(output_size=(1, 1))\n",
              "  (fc): Linear(in_features=512, out_features=10, bias=True)\n",
              ")"
            ]
          },
          "metadata": {},
          "execution_count": 5
        }
      ]
    },
    {
      "cell_type": "code",
      "source": [
        "#### Input - Hyperparameters\n",
        "# from github https://github.com/WangYZ1608/Knowledge-Distillation-via-ND/tree/main/CIFAR\n",
        "\n",
        "epochs = 20\n",
        "batch_size = 64\n",
        "lr = 0.1\n",
        "momentum = 0.9\n",
        "weight_decay = 5e-4\n",
        "kd_loss_factor = 5.0\n",
        "cls_loss_factor = 1.0\n",
        "nd_loss_factor = 4.0"
      ],
      "metadata": {
        "id": "x4seZHW4ENRH"
      },
      "execution_count": null,
      "outputs": []
    },
    {
      "cell_type": "code",
      "source": [
        "#### Input - Hyperparameters\n",
        "epochs = 20\n",
        "batch_size = 64\n",
        "lr = 0.01\n",
        "momentum = 0.9\n",
        "weight_decay = 5e-4\n",
        "kd_loss_factor = 0.1"
      ],
      "metadata": {
        "id": "GD-QWb8yhh01"
      },
      "execution_count": null,
      "outputs": []
    },
    {
      "cell_type": "code",
      "source": [
        "#### Best trial: lr 0.04887146612242114, momentum 0.7826219116359754, weight_decay 1.0573054488478825e-05, kd_loss_factor 0.4997783417046702\n",
        "#### Input - Hyperparameters\n",
        "epochs = 20\n",
        "batch_size = 64\n",
        "lr = 0.04887146612242114\n",
        "momentum = 0.7826219116359754\n",
        "weight_decay = 1.0573054488478825e-05\n",
        "kd_loss_factor = 0.4997783417046702"
      ],
      "metadata": {
        "id": "Y7QCLEGaRYza"
      },
      "execution_count": null,
      "outputs": []
    },
    {
      "cell_type": "code",
      "source": [
        "train_loader = DataLoader(train_set, batch_size=batch_size, shuffle=True, num_workers=2)\n",
        "test_loader = DataLoader(test_set, batch_size=batch_size, shuffle=False, num_workers=2)\n"
      ],
      "metadata": {
        "id": "AycrqcNJhldh"
      },
      "execution_count": null,
      "outputs": []
    },
    {
      "cell_type": "code",
      "source": [
        "optimizer = optim.SGD(student.parameters(), lr=lr, momentum=momentum, weight_decay=weight_decay)\n",
        "criterion = nn.CrossEntropyLoss()"
      ],
      "metadata": {
        "id": "lxXlI5bAhlZ3"
      },
      "execution_count": null,
      "outputs": []
    },
    {
      "cell_type": "code",
      "source": [
        "#### HCL loss - L2 distance between features\n",
        "def hcl(student_features, teacher_features):\n",
        "    return F.mse_loss(student_features, teacher_features)"
      ],
      "metadata": {
        "id": "TsyKdnrlhlVn"
      },
      "execution_count": null,
      "outputs": []
    },
    {
      "cell_type": "code",
      "source": [
        "def train(student, teacher, dataloader, criterion, optimizer):\n",
        "\n",
        "    train_loss = AverageMeter()\n",
        "    train_error = AverageMeter()\n",
        "\n",
        "    Cls_loss = AverageMeter()\n",
        "    Div_loss = AverageMeter()\n",
        "    Norm_Dir_loss = AverageMeter()\n",
        "\n",
        "    student.train()\n",
        "    teacher.eval()\n",
        "\n",
        "    total_loss = 0.0\n",
        "    correct = 0\n",
        "    total = 0\n",
        "\n",
        "    for images, labels in dataloader:\n",
        "        images, labels = images.to(device), labels.to(device)\n",
        "\n",
        "        optimizer.zero_grad()\n",
        "\n",
        "        # Get student outputs and features\n",
        "        student_outputs = student(images)\n",
        "        _, student_preds = student_outputs.max(1)\n",
        "\n",
        "        # Get teacher outputs and features with no gradients\n",
        "        with torch.no_grad():\n",
        "            teacher_outputs = teacher(images)\n",
        "\n",
        "        # Calculate losses\n",
        "        classification_loss = criterion(student_outputs, labels)\n",
        "        distillation_loss = hcl(student_outputs, teacher_outputs)\n",
        "\n",
        "        # # cls loss\n",
        "        # cls_loss = criterion(s_logits, labels) * cls_loss_factor\n",
        "        # # Kd loss\n",
        "        # kd_loss = hcl(s_features, t_features) * min(1, epoch/args.warm_up) * args.kd_loss_factor\n",
        "        # # ND loss\n",
        "        # norm_dir_loss = nd_loss(s_emb=s_emb, t_emb=t_emb, T_EMB=T_EMB, labels=labels)\n",
        "\n",
        "        # loss = cls_loss + kd_loss + norm_dir_loss\n",
        "\n",
        "\n",
        "        # loss = classification_loss + kd_loss_factor * distillation_loss\n",
        "        loss = cls_loss_factor * classification_loss + kd_loss_factor * distillation_loss # + nd_loss_factor * nd_loss\n",
        "\n",
        "        loss.backward()\n",
        "        optimizer.step()\n",
        "\n",
        "        total_loss += loss.item()\n",
        "        correct += student_preds.eq(labels).sum().item()\n",
        "        total += labels.size(0)\n",
        "\n",
        "    avg_loss = total_loss / len(dataloader)\n",
        "    accuracy = 100 * correct / total\n",
        "\n",
        "    return avg_loss, accuracy"
      ],
      "metadata": {
        "id": "SZGMpomSh3pW"
      },
      "execution_count": null,
      "outputs": []
    },
    {
      "cell_type": "code",
      "source": [
        "def test(model, dataloader, criterion):\n",
        "    model.eval()\n",
        "    total_loss = 0.0\n",
        "    correct = 0\n",
        "    total = 0\n",
        "\n",
        "    with torch.no_grad():\n",
        "        for images, labels in dataloader:\n",
        "            images, labels = images.to(device), labels.to(device)\n",
        "            outputs = model(images)\n",
        "            loss = criterion(outputs, labels)\n",
        "            _, preds = outputs.max(1)\n",
        "\n",
        "            total_loss += loss.item()\n",
        "            correct += preds.eq(labels).sum().item()\n",
        "            total += labels.size(0)\n",
        "\n",
        "    avg_loss = total_loss / len(dataloader)\n",
        "    accuracy = 100 * correct / total\n",
        "\n",
        "    return avg_loss, accuracy"
      ],
      "metadata": {
        "id": "ey06BfGih3nE"
      },
      "execution_count": null,
      "outputs": []
    },
    {
      "cell_type": "code",
      "source": [
        "for epoch in range(epochs):\n",
        "    train_loss, train_accuracy = train(student, teacher, train_loader, criterion, optimizer)\n",
        "    test_loss, test_accuracy = test(student, test_loader, criterion)\n",
        "    print(f\"Epoch {epoch+1}/{epochs}, Train Loss: {train_loss:.4f}, Train Acc: {train_accuracy:.4f}, Test Loss: {test_loss:.4f}, Test Acc: {test_accuracy:.4f}\")\n"
      ],
      "metadata": {
        "colab": {
          "base_uri": "https://localhost:8080/"
        },
        "id": "BbJ84jWYh3kL",
        "outputId": "fa54ed77-64b8-4238-c2d2-81058916b681"
      },
      "execution_count": null,
      "outputs": [
        {
          "output_type": "stream",
          "name": "stdout",
          "text": [
            "Epoch 1/20, Train Loss: nan, Train Acc: 9.9760, Test Loss: nan, Test Acc: 10.0000\n",
            "Epoch 2/20, Train Loss: nan, Train Acc: 10.0000, Test Loss: nan, Test Acc: 10.0000\n",
            "Epoch 3/20, Train Loss: nan, Train Acc: 10.0000, Test Loss: nan, Test Acc: 10.0000\n",
            "Epoch 4/20, Train Loss: nan, Train Acc: 10.0000, Test Loss: nan, Test Acc: 10.0000\n",
            "Epoch 5/20, Train Loss: nan, Train Acc: 10.0000, Test Loss: nan, Test Acc: 10.0000\n",
            "Epoch 6/20, Train Loss: nan, Train Acc: 10.0000, Test Loss: nan, Test Acc: 10.0000\n",
            "Epoch 7/20, Train Loss: nan, Train Acc: 10.0000, Test Loss: nan, Test Acc: 10.0000\n",
            "Epoch 8/20, Train Loss: nan, Train Acc: 10.0000, Test Loss: nan, Test Acc: 10.0000\n",
            "Epoch 9/20, Train Loss: nan, Train Acc: 10.0000, Test Loss: nan, Test Acc: 10.0000\n",
            "Epoch 10/20, Train Loss: nan, Train Acc: 10.0000, Test Loss: nan, Test Acc: 10.0000\n",
            "Epoch 11/20, Train Loss: nan, Train Acc: 10.0000, Test Loss: nan, Test Acc: 10.0000\n",
            "Epoch 12/20, Train Loss: nan, Train Acc: 10.0000, Test Loss: nan, Test Acc: 10.0000\n",
            "Epoch 13/20, Train Loss: nan, Train Acc: 10.0000, Test Loss: nan, Test Acc: 10.0000\n",
            "Epoch 14/20, Train Loss: nan, Train Acc: 10.0000, Test Loss: nan, Test Acc: 10.0000\n",
            "Epoch 15/20, Train Loss: nan, Train Acc: 10.0000, Test Loss: nan, Test Acc: 10.0000\n",
            "Epoch 16/20, Train Loss: nan, Train Acc: 10.0000, Test Loss: nan, Test Acc: 10.0000\n",
            "Epoch 17/20, Train Loss: nan, Train Acc: 10.0000, Test Loss: nan, Test Acc: 10.0000\n",
            "Epoch 18/20, Train Loss: nan, Train Acc: 10.0000, Test Loss: nan, Test Acc: 10.0000\n",
            "Epoch 19/20, Train Loss: nan, Train Acc: 10.0000, Test Loss: nan, Test Acc: 10.0000\n",
            "Epoch 20/20, Train Loss: nan, Train Acc: 10.0000, Test Loss: nan, Test Acc: 10.0000\n"
          ]
        }
      ]
    },
    {
      "cell_type": "markdown",
      "source": [
        "-------------------------"
      ],
      "metadata": {
        "id": "nCuIv10H1x7g"
      }
    },
    {
      "cell_type": "markdown",
      "source": [
        "# START HERE"
      ],
      "metadata": {
        "id": "Q4raiUo-1wJX"
      }
    },
    {
      "cell_type": "markdown",
      "source": [
        "__GITHUB__"
      ],
      "metadata": {
        "id": "FXbwj9DYNNMR"
      }
    },
    {
      "cell_type": "markdown",
      "source": [
        "https://github.com/WangYZ1608/Knowledge-Distillation-via-ND/tree/main/CIFAR/ReviewKD%2B%2B"
      ],
      "metadata": {
        "id": "YJgZoqeTNQRo"
      }
    },
    {
      "cell_type": "markdown",
      "source": [
        "Teacher Weight: https://github.com/megvii-research/mdistiller/releases/tag/checkpoints"
      ],
      "metadata": {
        "id": "sC8DMA1qCEl-"
      }
    },
    {
      "cell_type": "code",
      "source": [
        "!pip install torchsummaryX --quiet"
      ],
      "metadata": {
        "id": "qVYwqCIiREVx"
      },
      "execution_count": null,
      "outputs": []
    },
    {
      "cell_type": "code",
      "source": [
        "import os\n",
        "import torch\n",
        "import torchvision\n",
        "from torch import nn\n",
        "from torch.utils.data import DataLoader\n",
        "import torch.nn.functional as F\n",
        "import torch.backends.cudnn as cudnn\n",
        "\n",
        "import models\n",
        "from models.reviewkd import build_review_kd, hcl\n",
        "# from Dataset import CIFAR\n",
        "from utils import colorstr, Save_Checkpoint, AverageMeter, DirectNormLoss\n",
        "from torchsummaryX import summary\n",
        "\n",
        "import numpy as np\n",
        "import time\n",
        "import json\n",
        "import random\n",
        "import warnings\n",
        "from torch.utils.tensorboard import SummaryWriter\n",
        "\n",
        "### need to clean up\n",
        "import torch\n",
        "import torchvision\n",
        "from torch import nn\n",
        "from torch.utils.data import DataLoader\n",
        "import torch.backends.cudnn as cudnn\n",
        "from torchsummaryX import summary\n",
        "import logging\n",
        "import time\n",
        "import random\n",
        "import warnings\n",
        "from pathlib import Path\n",
        "import numpy as np\n",
        "from collections import OrderedDict\n",
        "from torch.utils.tensorboard import SummaryWriter\n",
        "\n",
        "import torchvision.models as Models\n",
        "from torchvision.datasets import CIFAR10, CIFAR100\n",
        "from torchvision import transforms\n",
        "from sklearn.metrics import precision_score, recall_score, f1_score, accuracy_score\n",
        "\n",
        "import matplotlib.pyplot as plt\n",
        "from sklearn.metrics import roc_curve, auc\n",
        "from sklearn.preprocessing import label_binarize\n"
      ],
      "metadata": {
        "id": "3_p_Ltv6K_Mf"
      },
      "execution_count": 14,
      "outputs": []
    },
    {
      "cell_type": "code",
      "source": [
        "\n",
        "# Setting up parameters\n",
        "class Args:\n",
        "    model_name = \"resnet20_cifar\"\n",
        "    dataset = 'cifar10'\n",
        "    epochs = 20 # 240\n",
        "    batch_size = 64  # 128\n",
        "    workers = 8\n",
        "    lr = 0.1\n",
        "    momentum = 0.9\n",
        "    weight_decay = 5e-4\n",
        "    teacher = \"resnet56_cifar\"\n",
        "    teacher_weights = \"ckpt_epoch_240.pth\" # for resnet56_cifar\n",
        "    cls_loss_factor = 1.0\n",
        "    kd_loss_factor = 1.0\n",
        "    nd_loss_factor = 1.0\n",
        "    warm_up = 20.0\n",
        "    gpus = [0, 1]\n",
        "    seed = None\n",
        "    resume = None\n",
        "    save_dir = \"./run\"\n",
        "\n",
        "args = Args()"
      ],
      "metadata": {
        "id": "UpRrrvP_LynP"
      },
      "execution_count": 34,
      "outputs": []
    },
    {
      "cell_type": "code",
      "source": [
        "# python3 train_reviewkd.py \\\n",
        "#     --model_name wrn40_1_cifar \\\n",
        "#     --teacher wrn40_2_cifar \\\n",
        "#     --teacher_weights 'Teacher WEIGHT PATH' \\\n",
        "#     --dataset 'cifar100' \\\n",
        "#     --epoch 240 \\\n",
        "#     --batch_size 64 \\\n",
        "#     --lr 0.1 \\\n",
        "#     --cls_loss_factor 1.0 \\\n",
        "#     --kd_loss_factor 5.0 \\\n",
        "#     --nd_loss_factor 4.0 \\\n",
        "#     --save_dir \"./run/CIFAR100/ReviewKD++/res32X4-SV2\""
      ],
      "metadata": {
        "id": "Bktaxdxp0ByJ"
      },
      "execution_count": 26,
      "outputs": []
    },
    {
      "cell_type": "code",
      "source": [
        "def CIFAR10_data():\n",
        "    transform = transforms.Compose([\n",
        "        transforms.RandomCrop(32, padding=4),\n",
        "        transforms.RandomHorizontalFlip(),\n",
        "        transforms.ToTensor(),\n",
        "        transforms.Normalize((0.4914, 0.4822, 0.4465), (0.2023, 0.1994, 0.2010))\n",
        "    ])\n",
        "    train_set = CIFAR10(root='./data', train=True, download=True, transform=transform)\n",
        "    test_set = CIFAR10(root='./data', train=False, download=True, transform=transform)\n",
        "    num_class = 10\n",
        "    return train_set, test_set, num_class\n",
        "\n",
        "# CIFAR data loading part\n",
        "if args.dataset == 'cifar10':\n",
        "    train_set, test_set, num_class = CIFAR10_data()\n",
        "elif args.dataset == 'cifar100': # hasnt set up this yet\n",
        "    pass\n",
        "else:\n",
        "    print(\"No Dataset!\")"
      ],
      "metadata": {
        "colab": {
          "base_uri": "https://localhost:8080/"
        },
        "id": "he0ByR2RNiy-",
        "outputId": "4ec45cc1-b2f4-4271-d662-f8bca1b758c1"
      },
      "execution_count": 16,
      "outputs": [
        {
          "output_type": "stream",
          "name": "stdout",
          "text": [
            "Files already downloaded and verified\n",
            "Files already downloaded and verified\n"
          ]
        }
      ]
    },
    {
      "cell_type": "code",
      "source": [
        "def train(model, teacher, T_EMB, train_dataloader, optimizer, criterion, nd_loss, args, epoch):\n",
        "    train_loss = AverageMeter()\n",
        "    train_error = AverageMeter()\n",
        "\n",
        "    Cls_loss = AverageMeter()\n",
        "    Div_loss = AverageMeter()\n",
        "    Norm_Dir_loss = AverageMeter()\n",
        "\n",
        "    # Model on train mode\n",
        "    model.train()\n",
        "    teacher.eval()\n",
        "    step_per_epoch = len(train_dataloader)\n",
        "\n",
        "    # pdb.set_trace()\n",
        "    for step, (images, labels) in enumerate(train_dataloader):\n",
        "        start = time.time()\n",
        "        images, labels = images.cuda(), labels.cuda()\n",
        "\n",
        "        # compute output\n",
        "        s_features, s_emb, s_logits = model(images)\n",
        "\n",
        "        with torch.no_grad():\n",
        "            t_features, t_emb, t_logits = teacher(images, is_feat=True, preact=True)\n",
        "            t_features = t_features[1:]\n",
        "\n",
        "        # cls loss\n",
        "        cls_loss = criterion(s_logits, labels) * args.cls_loss_factor\n",
        "        # Kd loss\n",
        "        kd_loss = hcl(s_features, t_features) * min(1, epoch/args.warm_up) * args.kd_loss_factor\n",
        "        # ND loss\n",
        "        norm_dir_loss = nd_loss(s_emb=s_emb, t_emb=t_emb, T_EMB=T_EMB, labels=labels)\n",
        "\n",
        "        loss = cls_loss + kd_loss + norm_dir_loss\n",
        "        # measure accuracy and record loss\n",
        "        batch_size = images.size(0)\n",
        "        _, pred = s_logits.data.cpu().topk(1, dim=1)\n",
        "        train_error.update(torch.ne(pred.squeeze(), labels.cpu()).float().sum().item() / batch_size, batch_size)\n",
        "        train_loss.update(loss.item(), batch_size)\n",
        "\n",
        "        Cls_loss.update(cls_loss.item(), batch_size)\n",
        "        Div_loss.update(kd_loss.item(), batch_size)\n",
        "        Norm_Dir_loss.update(norm_dir_loss.item(), batch_size)\n",
        "\n",
        "        # compute gradient and do SGD step\n",
        "        optimizer.zero_grad()\n",
        "        loss.backward()\n",
        "        optimizer.step()\n",
        "\n",
        "        t = time.strftime('%Y-%m-%d %H:%M:%S', time.localtime(time.time()))\n",
        "        s1 = '\\r{} [{}/{}]'.format(t, step+1, step_per_epoch)\n",
        "        s2 = ' - {:.2f}ms/step - nd_loss: {:.3f} - div_loss: {:.3f} - cls_loss: {:.3f} - train_loss: {:.3f} - train_acc: {:.3f}'.format(\n",
        "             1000 * (time.time() - start), norm_dir_loss.item(), kd_loss.item(), cls_loss.item(), train_loss.val, 1-train_error.val)\n",
        "\n",
        "        print(s1+s2, end='', flush=True)\n",
        "\n",
        "    print()\n",
        "    return Norm_Dir_loss.avg, Div_loss.avg, Cls_loss.avg, train_loss.avg, train_error.avg\n",
        "\n",
        "\n",
        "def test(model, test_dataloader, criterion):\n",
        "    test_loss = AverageMeter()\n",
        "    test_error = AverageMeter()\n",
        "\n",
        "    # Model on eval mode\n",
        "    model.eval()\n",
        "\n",
        "    with torch.no_grad():\n",
        "        for images, labels in test_dataloader:\n",
        "            images, labels = images.cuda(), labels.cuda()\n",
        "\n",
        "            # compute logits\n",
        "            _, _, logits = model(images)\n",
        "\n",
        "            loss = criterion(logits, labels)\n",
        "\n",
        "            # measure accuracy and record loss\n",
        "            batch_size = images.size(0)\n",
        "            _, pred = logits.data.cpu().topk(1, dim=1)\n",
        "            test_error.update(torch.ne(pred.squeeze(), labels.cpu()).float().sum().item() / batch_size, batch_size)\n",
        "            test_loss.update(loss.item(), batch_size)\n",
        "\n",
        "    return test_loss.avg, test_error.avg\n",
        "\n",
        "\n",
        "def epoch_loop(model, teacher, train_set, test_set, args):\n",
        "    # data loaders\n",
        "    train_loader = DataLoader(train_set, batch_size=args.batch_size, shuffle=True, pin_memory=True, num_workers=args.workers)\n",
        "    test_loader = DataLoader(test_set, batch_size=args.batch_size, shuffle=False, pin_memory=True, num_workers=args.workers)\n",
        "\n",
        "    # model\n",
        "    device = \"cuda\" if torch.cuda.is_available() else \"cpu\"\n",
        "    model = nn.DataParallel(model, device_ids=args.gpus)\n",
        "    model.to(device)\n",
        "    teacher = nn.DataParallel(teacher, device_ids=args.gpus)\n",
        "    teacher.to(device)\n",
        "\n",
        "    # loss\n",
        "    criterion = nn.CrossEntropyLoss().to(device)\n",
        "    nd_loss = DirectNormLoss(num_class=10, nd_loss_factor=args.nd_loss_factor).to(device)\n",
        "    # optimizer\n",
        "    optimizer = torch.optim.SGD(params=model.parameters(), lr=args.lr, momentum=args.momentum, weight_decay=args.weight_decay, nesterov=True)\n",
        "\n",
        "    # 权重\n",
        "    save_dir = Path(args.save_dir)\n",
        "    weights = save_dir / 'weights'\n",
        "    weights.mkdir(parents=True, exist_ok=True)\n",
        "    last = weights / 'last'\n",
        "    best = weights / 'best'\n",
        "\n",
        "    # acc,loss\n",
        "    acc_loss = save_dir / 'acc_loss'\n",
        "    acc_loss.mkdir(parents=True, exist_ok=True)\n",
        "\n",
        "    train_acc_savepath = acc_loss / 'train_acc.npy'\n",
        "    train_loss_savepath = acc_loss / 'train_loss.npy'\n",
        "    val_acc_savepath = acc_loss / 'val_acc.npy'\n",
        "    val_loss_savepath = acc_loss / 'val_loss.npy'\n",
        "\n",
        "    # tensorboard\n",
        "    logdir = save_dir / 'logs'\n",
        "    logdir.mkdir(parents=True, exist_ok=True)\n",
        "    summary_writer = SummaryWriter(logdir, flush_secs=120)\n",
        "\n",
        "    # resume\n",
        "    if args.resume:\n",
        "        checkpoint = torch.load(args.resume)\n",
        "        start_epoch = checkpoint['epoch']\n",
        "        model.load_state_dict(checkpoint['model_state_dict'])\n",
        "        optimizer.load_state_dict(checkpoint['optimizer_state_dict'])\n",
        "        best_error = checkpoint['best_error']\n",
        "        train_acc = checkpoint['train_acc']\n",
        "        train_loss = checkpoint['train_loss']\n",
        "        test_acc = checkpoint['test_acc']\n",
        "        test_loss = checkpoint['test_loss']\n",
        "        logger.info(colorstr('green', 'Resuming training from {} epoch'.format(start_epoch)))\n",
        "    else:\n",
        "        start_epoch = 0\n",
        "        best_error = 0\n",
        "        train_acc = []\n",
        "        train_loss = []\n",
        "        test_acc = []\n",
        "        test_loss = []\n",
        "\n",
        "    # Train model\n",
        "    best_error = 1\n",
        "    for epoch in range(start_epoch, args.epochs):\n",
        "        if epoch in [150, 180, 210]:\n",
        "            for param_group in optimizer.param_groups:\n",
        "                param_group['lr'] *= 0.1\n",
        "        print(\"Epoch {}/{}\".format(epoch + 1, args.epochs))\n",
        "        norm_dir_loss, div_loss, cls_loss, train_epoch_loss, train_error = train(model=model,\n",
        "                                                                                 teacher=teacher,\n",
        "                                                                                 T_EMB=T_EMB,\n",
        "                                                                                 train_dataloader=train_loader,\n",
        "                                                                                 optimizer=optimizer,\n",
        "                                                                                 criterion=criterion,\n",
        "                                                                                 nd_loss=nd_loss,\n",
        "                                                                                 args=args,\n",
        "                                                                                 epoch=epoch)\n",
        "        test_epoch_loss, test_error = test(model=model,\n",
        "                                           test_dataloader=test_loader,\n",
        "                                           criterion=criterion)\n",
        "\n",
        "        s = \"Train Loss: {:.3f}, Train Acc: {:.3f}, Test Loss: {:.3f}, Test Acc: {:.3f}, lr: {:.5f}\".format(\n",
        "            train_epoch_loss, 1-train_error, test_epoch_loss, 1-test_error, optimizer.param_groups[0]['lr'])\n",
        "        logger.info(colorstr('green', s))\n",
        "\n",
        "        # save acc,loss\n",
        "        train_loss.append(train_epoch_loss)\n",
        "        train_acc.append(1-train_error)\n",
        "        test_loss.append(test_epoch_loss)\n",
        "        test_acc.append(1-test_error)\n",
        "\n",
        "        # save model\n",
        "        is_best = test_error < best_error\n",
        "        best_error = min(best_error, test_error)\n",
        "        state = {\n",
        "                'epoch': epoch + 1,\n",
        "                'model_state_dict': model.state_dict(),\n",
        "                'optimizer_state_dict': optimizer.state_dict(),\n",
        "                'best_error': best_error,\n",
        "                'train_acc': train_acc,\n",
        "                'train_loss': train_loss,\n",
        "                'test_acc': test_acc,\n",
        "                'test_loss': test_loss,\n",
        "            }\n",
        "\n",
        "        last_path = last / 'epoch_{}_loss_{:.3f}_acc_{:.3f}'.format(\n",
        "            epoch + 1, test_epoch_loss, 1-test_error)\n",
        "        best_path = best / 'epoch_{}_acc_{:.3f}'.format(\n",
        "                epoch + 1, 1-best_error)\n",
        "\n",
        "        Save_Checkpoint(state, last, last_path, best, best_path, is_best)\n",
        "\n",
        "        # tensorboard\n",
        "        # pdb.set_trace()\n",
        "        if epoch == 1:\n",
        "            images, labels = next(iter(train_loader))\n",
        "            img_grid = torchvision.utils.make_grid(images)\n",
        "            summary_writer.add_image('Cifar Image', img_grid)\n",
        "        summary_writer.add_scalar('lr', optimizer.param_groups[0]['lr'], epoch)\n",
        "        summary_writer.add_scalar('train_loss', train_epoch_loss, epoch)\n",
        "        summary_writer.add_scalar('train_error', train_error, epoch)\n",
        "        summary_writer.add_scalar('val_loss', test_epoch_loss, epoch)\n",
        "        summary_writer.add_scalar('val_error', test_error, epoch)\n",
        "\n",
        "        summary_writer.add_scalar('nd_loss', norm_dir_loss, epoch)\n",
        "        summary_writer.add_scalar('kd_loss', div_loss, epoch)\n",
        "        summary_writer.add_scalar('cls_loss', cls_loss, epoch)\n",
        "\n",
        "    summary_writer.close()\n",
        "    if not os.path.exists(train_acc_savepath) or not os.path.exists(train_loss_savepath):\n",
        "        np.save(train_acc_savepath, train_acc)\n",
        "        np.save(train_loss_savepath, train_loss)\n",
        "        np.save(val_acc_savepath, test_acc)\n",
        "        np.save(val_loss_savepath, test_loss)\n"
      ],
      "metadata": {
        "id": "W7K7ExVcL0Ac"
      },
      "execution_count": 37,
      "outputs": []
    },
    {
      "cell_type": "code",
      "source": [
        "with open(\"center_emb_train.json\", 'r') as f:\n",
        "    T_EMB = json.load(f)\n",
        "f.close()"
      ],
      "metadata": {
        "id": "r8hAs5dyT9Bl"
      },
      "execution_count": 38,
      "outputs": []
    },
    {
      "cell_type": "code",
      "source": [
        "# Load weights into a temporary variable\n",
        "teacher_ckpt = torch.load(args.teacher_weights)['model']\n",
        "\n",
        "# Remove fc keys\n",
        "teacher_ckpt = {k: v for k, v in teacher_ckpt.items() if not k.startswith('fc.')}\n",
        "\n",
        "# Now, load the state dict into the model, ignoring the fc layer\n",
        "teacher.load_state_dict(teacher_ckpt, strict=False)\n"
      ],
      "metadata": {
        "colab": {
          "base_uri": "https://localhost:8080/"
        },
        "id": "YgoRAH5hz2ZG",
        "outputId": "e4d14c54-2e5f-4adb-8780-c6e74bc1fea8"
      },
      "execution_count": 39,
      "outputs": [
        {
          "output_type": "execute_result",
          "data": {
            "text/plain": [
              "_IncompatibleKeys(missing_keys=['fc.weight', 'fc.bias'], unexpected_keys=[])"
            ]
          },
          "metadata": {},
          "execution_count": 39
        }
      ]
    },
    {
      "cell_type": "code",
      "source": [
        "# if args.teacher_weights:\n",
        "#   print('Load Teacher Weights')\n",
        "#   teacher_ckpt = torch.load(args.teacher_weights)['model']\n",
        "#   teacher.load_state_dict(teacher_ckpt)\n",
        "\n",
        "#   for param in teacher.parameters():\n",
        "#       param.requires_grad = False"
      ],
      "metadata": {
        "id": "yeX1Cp16zTHE"
      },
      "execution_count": 40,
      "outputs": []
    },
    {
      "cell_type": "code",
      "source": [
        "print(torch.cuda.is_available())\n",
        "print(torch.cuda.device_count())\n",
        "# os.environ['CUDA_VISIBLE_DEVICES'] = '0'\n",
        "device = torch.device(\"cuda:0\" if torch.cuda.is_available() else \"cpu\")\n",
        "os.environ['CUDA_VISIBLE_DEVICES'] = '0'\n",
        "args.gpus = [0]"
      ],
      "metadata": {
        "colab": {
          "base_uri": "https://localhost:8080/"
        },
        "id": "N04kE7vO0MlJ",
        "outputId": "f834019b-3af0-4324-ea53-d56a1ee8f40b"
      },
      "execution_count": 41,
      "outputs": [
        {
          "output_type": "stream",
          "name": "stdout",
          "text": [
            "True\n",
            "1\n"
          ]
        }
      ]
    },
    {
      "cell_type": "code",
      "source": [
        "model = build_review_kd(student_name=args.model_name, num_class=num_class, teacher_name=args.teacher)\n",
        "model.to(device)\n",
        "teacher = models.__dict__[args.teacher](num_class=num_class)\n",
        "\n",
        "epoch_loop(model=model, teacher=teacher, train_set=train_set, test_set=test_set, args=args)\n"
      ],
      "metadata": {
        "colab": {
          "base_uri": "https://localhost:8080/"
        },
        "id": "oWyEYQJOM_Y7",
        "outputId": "e00caf34-3304-46a9-8dee-5c8e1b2f91b1"
      },
      "execution_count": 42,
      "outputs": [
        {
          "output_type": "stream",
          "name": "stdout",
          "text": [
            "Epoch 1/20\n",
            "2023-10-19 12:24:40 [782/782] - 37.76ms/step - nd_loss: 1.000 - div_loss: 0.000 - cls_loss: 1.442 - train_loss: 2.442 - train_acc: 0.438\n",
            "Epoch 2/20\n",
            "2023-10-19 12:25:35 [782/782] - 34.19ms/step - nd_loss: 0.999 - div_loss: 70546.117 - cls_loss: 31.577 - train_loss: 70578.695 - train_acc: 0.188\n",
            "Epoch 3/20\n",
            "2023-10-19 12:26:30 [782/782] - 32.66ms/step - nd_loss: 0.998 - div_loss: 23335.311 - cls_loss: 389.468 - train_loss: 23725.775 - train_acc: 0.125\n",
            "Epoch 4/20\n",
            "2023-10-19 12:27:25 [782/782] - 34.46ms/step - nd_loss: 0.996 - div_loss: 84095.789 - cls_loss: 1934.271 - train_loss: 86031.055 - train_acc: 0.188\n",
            "Epoch 5/20\n",
            "2023-10-19 12:28:19 [782/782] - 36.74ms/step - nd_loss: 0.999 - div_loss: 62873.207 - cls_loss: 110.563 - train_loss: 62984.770 - train_acc: 0.062\n",
            "Epoch 6/20\n",
            "2023-10-19 12:29:13 [782/782] - 33.42ms/step - nd_loss: 0.992 - div_loss: 120966.812 - cls_loss: 48887.285 - train_loss: 169855.078 - train_acc: 0.125\n",
            "Epoch 7/20\n",
            "2023-10-19 12:30:07 [782/782] - 36.66ms/step - nd_loss: 0.995 - div_loss: 67872.281 - cls_loss: 1247.607 - train_loss: 69120.883 - train_acc: 0.250\n",
            "Epoch 8/20\n",
            "2023-10-19 12:31:02 [782/782] - 36.60ms/step - nd_loss: 0.966 - div_loss: 293043.719 - cls_loss: 4181628.500 - train_loss: 4474673.000 - train_acc: 0.000\n",
            "Epoch 9/20\n",
            "2023-10-19 12:31:56 [782/782] - 33.53ms/step - nd_loss: 0.992 - div_loss: 596160.562 - cls_loss: 92189.578 - train_loss: 688351.125 - train_acc: 0.000\n",
            "Epoch 10/20\n",
            "2023-10-19 12:32:50 [782/782] - 33.66ms/step - nd_loss: 0.995 - div_loss: 216333.141 - cls_loss: 9489.381 - train_loss: 225823.516 - train_acc: 0.188\n",
            "Epoch 11/20\n",
            "2023-10-19 12:33:44 [782/782] - 34.43ms/step - nd_loss: 0.993 - div_loss: 201190.344 - cls_loss: 5738.901 - train_loss: 206930.250 - train_acc: 0.125\n",
            "Epoch 12/20\n",
            "2023-10-19 12:34:39 [782/782] - 34.89ms/step - nd_loss: 0.995 - div_loss: 219152.188 - cls_loss: 9249.560 - train_loss: 228402.750 - train_acc: 0.062\n",
            "Epoch 13/20\n",
            "2023-10-19 12:35:33 [782/782] - 34.72ms/step - nd_loss: 0.994 - div_loss: 204311.594 - cls_loss: 4215.986 - train_loss: 208528.578 - train_acc: 0.250\n",
            "Epoch 14/20\n",
            "2023-10-19 12:36:28 [782/782] - 34.99ms/step - nd_loss: 0.995 - div_loss: 159018.469 - cls_loss: 5045.981 - train_loss: 164065.453 - train_acc: 0.125\n",
            "Epoch 15/20\n",
            "2023-10-19 12:37:22 [782/782] - 38.12ms/step - nd_loss: 0.964 - div_loss: 666211.062 - cls_loss: 361413.250 - train_loss: 1027625.250 - train_acc: 0.000\n",
            "Epoch 16/20\n",
            "2023-10-19 12:38:16 [782/782] - 34.85ms/step - nd_loss: 0.993 - div_loss: 182064.500 - cls_loss: 14480.250 - train_loss: 196545.750 - train_acc: 0.062\n",
            "Epoch 17/20\n",
            "2023-10-19 12:39:10 [782/782] - 34.47ms/step - nd_loss: 0.994 - div_loss: 147367.406 - cls_loss: 13469.354 - train_loss: 160837.766 - train_acc: 0.125\n",
            "Epoch 18/20\n",
            "2023-10-19 12:40:05 [782/782] - 34.17ms/step - nd_loss: 0.994 - div_loss: 109316.516 - cls_loss: 3850.663 - train_loss: 113168.172 - train_acc: 0.125\n",
            "Epoch 19/20\n",
            "2023-10-19 12:40:59 [782/782] - 33.82ms/step - nd_loss: 0.995 - div_loss: 113095.836 - cls_loss: 1981.422 - train_loss: 115078.250 - train_acc: 0.062\n",
            "Epoch 20/20\n",
            "2023-10-19 12:41:54 [782/782] - 34.10ms/step - nd_loss: 0.991 - div_loss: 112208.914 - cls_loss: 8386.149 - train_loss: 120596.055 - train_acc: 0.000\n"
          ]
        }
      ]
    },
    {
      "cell_type": "code",
      "source": [],
      "metadata": {
        "id": "91if4jh2M_Qm"
      },
      "execution_count": null,
      "outputs": []
    },
    {
      "cell_type": "code",
      "source": [
        "########################## Add More Metrics: F1, Recall, Precision, etc."
      ],
      "metadata": {
        "id": "8s_5BLthmD6F"
      },
      "execution_count": null,
      "outputs": []
    },
    {
      "cell_type": "code",
      "source": [
        "import torch\n",
        "import torch.nn as nn\n",
        "from torch.utils.data import DataLoader\n",
        "from torchvision.datasets import CIFAR10\n",
        "import torchvision.transforms as transforms\n",
        "from sklearn.metrics import f1_score, precision_score, recall_score, accuracy_score\n",
        "import matplotlib.pyplot as plt\n"
      ],
      "metadata": {
        "id": "buCwZ6v79VwI"
      },
      "execution_count": null,
      "outputs": []
    },
    {
      "cell_type": "code",
      "source": [
        "def train(model, teacher, T_EMB, train_dataloader, optimizer, criterion, nd_loss, args, epoch):\n",
        "    train_loss = AverageMeter()\n",
        "    train_error = AverageMeter()\n",
        "    Cls_loss = AverageMeter()\n",
        "    Div_loss = AverageMeter()\n",
        "    Norm_Dir_loss = AverageMeter()\n",
        "\n",
        "    train_labels = []\n",
        "    train_preds = []\n",
        "\n",
        "    # Model on train mode\n",
        "    model.train()\n",
        "    teacher.eval()\n",
        "    step_per_epoch = len(train_dataloader)\n",
        "\n",
        "    for step, (images, labels) in enumerate(train_dataloader):\n",
        "        start = time.time()\n",
        "        images, labels = images.cuda(), labels.cuda()\n",
        "\n",
        "        # compute output\n",
        "        s_features, s_emb, s_logits = model(images)\n",
        "\n",
        "        with torch.no_grad():\n",
        "            t_features, t_emb, t_logits = teacher(images, is_feat=True, preact=True)\n",
        "            t_features = t_features[1:]\n",
        "\n",
        "        # cls loss\n",
        "        cls_loss = criterion(s_logits, labels) * args.cls_loss_factor\n",
        "        # Kd loss\n",
        "        kd_loss = hcl(s_features, t_features) * min(1, epoch/args.warm_up) * args.kd_loss_factor\n",
        "        # ND loss\n",
        "        norm_dir_loss = nd_loss(s_emb=s_emb, t_emb=t_emb, T_EMB=T_EMB, labels=labels)\n",
        "\n",
        "        loss = cls_loss + kd_loss + norm_dir_loss\n",
        "\n",
        "        _, pred = s_logits.data.cpu().topk(1, dim=1)\n",
        "        train_labels.extend(labels.cpu().numpy())\n",
        "        train_preds.extend(pred.squeeze().numpy())\n",
        "\n",
        "        train_error.update(torch.ne(pred.squeeze(), labels.cpu()).float().sum().item() / images.size(0), images.size(0))\n",
        "        train_loss.update(loss.item(), images.size(0))\n",
        "        Cls_loss.update(cls_loss.item(), images.size(0))\n",
        "        Div_loss.update(kd_loss.item(), images.size(0))\n",
        "        Norm_Dir_loss.update(norm_dir_loss.item(), images.size(0))\n",
        "\n",
        "        optimizer.zero_grad()\n",
        "        loss.backward()\n",
        "        optimizer.step()\n",
        "\n",
        "        t = time.strftime('%Y-%m-%d %H:%M:%S', time.localtime(time.time()))\n",
        "        s1 = '\\r{} [{}/{}]'.format(t, step+1, step_per_epoch)\n",
        "        s2 = ' - {:.2f}ms/step - nd_loss: {:.3f} - div_loss: {:.3f} - cls_loss: {:.3f} - train_loss: {:.3f} - train_acc: {:.3f}'.format(\n",
        "             1000 * (time.time() - start), norm_dir_loss.item(), kd_loss.item(), cls_loss.item(), train_loss.val, 1-train_error.val)\n",
        "\n",
        "        print(s1+s2, end='', flush=True)\n",
        "\n",
        "    print()\n",
        "\n",
        "    train_f1 = f1_score(train_labels, train_preds, average='macro')\n",
        "    train_precision = precision_score(train_labels, train_preds, average='macro')\n",
        "    train_recall = recall_score(train_labels, train_preds, average='macro')\n",
        "    train_accuracy = accuracy_score(train_labels, train_preds)\n",
        "\n",
        "    return Norm_Dir_loss.avg, Div_loss.avg, Cls_loss.avg, train_loss.avg, train_error.avg, train_f1, train_precision, train_recall, train_accuracy\n",
        "\n",
        "def test(model, test_dataloader, criterion):\n",
        "    test_loss = AverageMeter()\n",
        "    test_error = AverageMeter()\n",
        "\n",
        "    test_labels = []\n",
        "    test_preds = []\n",
        "\n",
        "    # Model on eval mode\n",
        "    model.eval()\n",
        "    with torch.no_grad():\n",
        "        for images, labels in test_dataloader:\n",
        "            images, labels = images.cuda(), labels.cuda()\n",
        "            _, _, logits = model(images)\n",
        "            loss = criterion(logits, labels)\n",
        "\n",
        "            _, pred = logits.data.cpu().topk(1, dim=1)\n",
        "            test_labels.extend(labels.cpu().numpy())\n",
        "            test_preds.extend(pred.squeeze().numpy())\n",
        "\n",
        "            test_error.update(torch.ne(pred.squeeze(), labels.cpu()).float().sum().item() / images.size(0), images.size(0))\n",
        "            test_loss.update(loss.item(), images.size(0))\n",
        "\n",
        "    test_f1 = f1_score(test_labels, test_preds, average='macro')\n",
        "    test_precision = precision_score(test_labels, test_preds, average='macro')\n",
        "    test_recall = recall_score(test_labels, test_preds, average='macro')\n",
        "    test_accuracy = accuracy_score(test_labels, test_preds)\n",
        "\n",
        "    return test_loss.avg, test_error.avg, test_f1, test_precision, test_recall, test_accuracy\n"
      ],
      "metadata": {
        "id": "wTomeLJr_B-9"
      },
      "execution_count": 43,
      "outputs": []
    },
    {
      "cell_type": "code",
      "source": [
        "train_f1_list, train_precision_list, train_recall_list, train_accuracy_list = [], [], [], []\n",
        "test_f1_list, test_precision_list, test_recall_list, test_accuracy_list = [], [], [], []\n",
        "\n",
        "\n",
        "for epoch in range(args.epochs):\n",
        "\n",
        "    # Adjust parameters\n",
        "    if epoch in [150, 180, 210]:\n",
        "        for param_group in optimizer.param_groups:\n",
        "            param_group['lr'] *= 0.1\n",
        "\n",
        "    print(\"Epoch {}/{}\".format(epoch + 1, args.epochs))\n",
        "\n",
        "    # loss\n",
        "    criterion = nn.CrossEntropyLoss().to(device)\n",
        "    nd_loss = DirectNormLoss(num_class=10, nd_loss_factor=args.nd_loss_factor).to(device)\n",
        "    # optimizer\n",
        "    optimizer = torch.optim.SGD(params=model.parameters(), lr=args.lr, momentum=args.momentum, weight_decay=args.weight_decay, nesterov=True)\n",
        "\n",
        "    # train function\n",
        "    norm_dir_loss, div_loss, cls_loss, train_epoch_loss, train_error, train_f1, train_precision, train_recall, train_accuracy = train(\n",
        "        model=model,\n",
        "        teacher=teacher,\n",
        "        T_EMB=T_EMB,\n",
        "        train_dataloader=train_loader,\n",
        "        optimizer=optimizer,\n",
        "        criterion=criterion,\n",
        "        nd_loss=nd_loss,\n",
        "        args=args,\n",
        "        epoch=epoch\n",
        "    )\n",
        "\n",
        "    # test function\n",
        "    test_epoch_loss, test_error, test_f1, test_precision, test_recall, test_accuracy = test(\n",
        "        model=model,\n",
        "        test_dataloader=test_loader,\n",
        "        criterion=criterion\n",
        "    )\n",
        "\n",
        "    # Append the metrics to their respective lists\n",
        "    train_f1_list.append(train_f1)\n",
        "    train_precision_list.append(train_precision)\n",
        "    train_recall_list.append(train_recall)\n",
        "    train_accuracy_list.append(train_accuracy)\n",
        "    test_f1_list.append(test_f1)\n",
        "    test_precision_list.append(test_precision)\n",
        "    test_recall_list.append(test_recall)\n",
        "    test_accuracy_list.append(test_accuracy)\n",
        "\n",
        "    # Display metrics, save model, or perform other operations as necessary\n",
        "    s = (\n",
        "        f\"Epoch {epoch + 1} - Train Loss: {train_epoch_loss:.3f}, Train Acc: {1-train_error:.3f}, \"\n",
        "        f\"Train F1: {train_f1:.3f}, Train Precision: {train_precision:.3f}, Train Recall: {train_recall:.3f}, \"\n",
        "        f\"Test Loss: {test_epoch_loss:.3f}, Test Acc: {1-test_error:.3f}, \"\n",
        "        f\"Test F1: {test_f1:.3f}, Test Precision: {test_precision:.3f}, Test Recall: {test_recall:.3f}\"\n",
        "    )\n",
        "    print(s)\n",
        "\n",
        "    # Optionally save checkpoints or perform other operations here\n"
      ],
      "metadata": {
        "colab": {
          "base_uri": "https://localhost:8080/"
        },
        "id": "XB5sgIeaAlUZ",
        "outputId": "9e50fe45-3612-406f-e180-f86bc5757bf7"
      },
      "execution_count": 46,
      "outputs": [
        {
          "output_type": "stream",
          "name": "stdout",
          "text": [
            "Epoch 1/20\n",
            "2023-10-19 12:57:49 [782/782] - 32.01ms/step - nd_loss: 0.992 - div_loss: 0.000 - cls_loss: 13016.741 - train_loss: 13017.733 - train_acc: 0.062\n"
          ]
        },
        {
          "output_type": "stream",
          "name": "stderr",
          "text": [
            "/usr/local/lib/python3.10/dist-packages/sklearn/metrics/_classification.py:1344: UndefinedMetricWarning: Precision is ill-defined and being set to 0.0 in labels with no predicted samples. Use `zero_division` parameter to control this behavior.\n",
            "  _warn_prf(average, modifier, msg_start, len(result))\n"
          ]
        },
        {
          "output_type": "stream",
          "name": "stdout",
          "text": [
            "Epoch 1 - Train Loss: 11544.538, Train Acc: 0.104, Train F1: 0.028, Train Precision: 0.057, Train Recall: 0.104, Test Loss: 11572.642, Test Acc: 0.103, Test F1: 0.026, Test Precision: 0.060, Test Recall: 0.103\n",
            "Epoch 2/20\n"
          ]
        },
        {
          "output_type": "stream",
          "name": "stderr",
          "text": [
            "/usr/local/lib/python3.10/dist-packages/sklearn/metrics/_classification.py:1344: UndefinedMetricWarning: Precision is ill-defined and being set to 0.0 in labels with no predicted samples. Use `zero_division` parameter to control this behavior.\n",
            "  _warn_prf(average, modifier, msg_start, len(result))\n"
          ]
        },
        {
          "output_type": "stream",
          "name": "stdout",
          "text": [
            "2023-10-19 12:58:44 [782/782] - 33.07ms/step - nd_loss: 0.991 - div_loss: 5840.867 - cls_loss: 13930.596 - train_loss: 19772.453 - train_acc: 0.062\n"
          ]
        },
        {
          "output_type": "stream",
          "name": "stderr",
          "text": [
            "/usr/local/lib/python3.10/dist-packages/sklearn/metrics/_classification.py:1344: UndefinedMetricWarning: Precision is ill-defined and being set to 0.0 in labels with no predicted samples. Use `zero_division` parameter to control this behavior.\n",
            "  _warn_prf(average, modifier, msg_start, len(result))\n"
          ]
        },
        {
          "output_type": "stream",
          "name": "stdout",
          "text": [
            "Epoch 2 - Train Loss: 18130.842, Train Acc: 0.103, Train F1: 0.027, Train Precision: 0.046, Train Recall: 0.103, Test Loss: 11454.031, Test Acc: 0.103, Test F1: 0.027, Test Precision: 0.060, Test Recall: 0.103\n",
            "Epoch 3/20\n"
          ]
        },
        {
          "output_type": "stream",
          "name": "stderr",
          "text": [
            "/usr/local/lib/python3.10/dist-packages/sklearn/metrics/_classification.py:1344: UndefinedMetricWarning: Precision is ill-defined and being set to 0.0 in labels with no predicted samples. Use `zero_division` parameter to control this behavior.\n",
            "  _warn_prf(average, modifier, msg_start, len(result))\n"
          ]
        },
        {
          "output_type": "stream",
          "name": "stdout",
          "text": [
            "2023-10-19 12:59:38 [782/782] - 36.26ms/step - nd_loss: 0.991 - div_loss: 10998.909 - cls_loss: 9627.593 - train_loss: 20627.492 - train_acc: 0.000\n"
          ]
        },
        {
          "output_type": "stream",
          "name": "stderr",
          "text": [
            "/usr/local/lib/python3.10/dist-packages/sklearn/metrics/_classification.py:1344: UndefinedMetricWarning: Precision is ill-defined and being set to 0.0 in labels with no predicted samples. Use `zero_division` parameter to control this behavior.\n",
            "  _warn_prf(average, modifier, msg_start, len(result))\n"
          ]
        },
        {
          "output_type": "stream",
          "name": "stdout",
          "text": [
            "Epoch 3 - Train Loss: 24659.572, Train Acc: 0.104, Train F1: 0.027, Train Precision: 0.054, Train Recall: 0.104, Test Loss: 11557.803, Test Acc: 0.103, Test F1: 0.026, Test Precision: 0.053, Test Recall: 0.103\n",
            "Epoch 4/20\n"
          ]
        },
        {
          "output_type": "stream",
          "name": "stderr",
          "text": [
            "/usr/local/lib/python3.10/dist-packages/sklearn/metrics/_classification.py:1344: UndefinedMetricWarning: Precision is ill-defined and being set to 0.0 in labels with no predicted samples. Use `zero_division` parameter to control this behavior.\n",
            "  _warn_prf(average, modifier, msg_start, len(result))\n"
          ]
        },
        {
          "output_type": "stream",
          "name": "stdout",
          "text": [
            "2023-10-19 13:00:32 [782/782] - 34.52ms/step - nd_loss: 0.991 - div_loss: 20758.086 - cls_loss: 10044.220 - train_loss: 30803.295 - train_acc: 0.250\n"
          ]
        },
        {
          "output_type": "stream",
          "name": "stderr",
          "text": [
            "/usr/local/lib/python3.10/dist-packages/sklearn/metrics/_classification.py:1344: UndefinedMetricWarning: Precision is ill-defined and being set to 0.0 in labels with no predicted samples. Use `zero_division` parameter to control this behavior.\n",
            "  _warn_prf(average, modifier, msg_start, len(result))\n"
          ]
        },
        {
          "output_type": "stream",
          "name": "stdout",
          "text": [
            "Epoch 4 - Train Loss: 31304.871, Train Acc: 0.103, Train F1: 0.027, Train Precision: 0.054, Train Recall: 0.103, Test Loss: 11392.192, Test Acc: 0.104, Test F1: 0.028, Test Precision: 0.085, Test Recall: 0.103\n",
            "Epoch 5/20\n"
          ]
        },
        {
          "output_type": "stream",
          "name": "stderr",
          "text": [
            "/usr/local/lib/python3.10/dist-packages/sklearn/metrics/_classification.py:1344: UndefinedMetricWarning: Precision is ill-defined and being set to 0.0 in labels with no predicted samples. Use `zero_division` parameter to control this behavior.\n",
            "  _warn_prf(average, modifier, msg_start, len(result))\n"
          ]
        },
        {
          "output_type": "stream",
          "name": "stdout",
          "text": [
            "2023-10-19 13:01:26 [782/782] - 34.16ms/step - nd_loss: 0.991 - div_loss: 25240.654 - cls_loss: 11794.669 - train_loss: 37036.316 - train_acc: 0.125\n"
          ]
        },
        {
          "output_type": "stream",
          "name": "stderr",
          "text": [
            "/usr/local/lib/python3.10/dist-packages/sklearn/metrics/_classification.py:1344: UndefinedMetricWarning: Precision is ill-defined and being set to 0.0 in labels with no predicted samples. Use `zero_division` parameter to control this behavior.\n",
            "  _warn_prf(average, modifier, msg_start, len(result))\n"
          ]
        },
        {
          "output_type": "stream",
          "name": "stdout",
          "text": [
            "Epoch 5 - Train Loss: 37943.220, Train Acc: 0.103, Train F1: 0.027, Train Precision: 0.055, Train Recall: 0.103, Test Loss: 11490.272, Test Acc: 0.103, Test F1: 0.027, Test Precision: 0.036, Test Recall: 0.103\n",
            "Epoch 6/20\n"
          ]
        },
        {
          "output_type": "stream",
          "name": "stderr",
          "text": [
            "/usr/local/lib/python3.10/dist-packages/sklearn/metrics/_classification.py:1344: UndefinedMetricWarning: Precision is ill-defined and being set to 0.0 in labels with no predicted samples. Use `zero_division` parameter to control this behavior.\n",
            "  _warn_prf(average, modifier, msg_start, len(result))\n"
          ]
        },
        {
          "output_type": "stream",
          "name": "stdout",
          "text": [
            "2023-10-19 13:02:20 [782/782] - 33.14ms/step - nd_loss: 0.991 - div_loss: 35591.445 - cls_loss: 14035.014 - train_loss: 49627.453 - train_acc: 0.000\n"
          ]
        },
        {
          "output_type": "stream",
          "name": "stderr",
          "text": [
            "/usr/local/lib/python3.10/dist-packages/sklearn/metrics/_classification.py:1344: UndefinedMetricWarning: Precision is ill-defined and being set to 0.0 in labels with no predicted samples. Use `zero_division` parameter to control this behavior.\n",
            "  _warn_prf(average, modifier, msg_start, len(result))\n"
          ]
        },
        {
          "output_type": "stream",
          "name": "stdout",
          "text": [
            "Epoch 6 - Train Loss: 44463.360, Train Acc: 0.104, Train F1: 0.027, Train Precision: 0.046, Train Recall: 0.104, Test Loss: 11455.153, Test Acc: 0.102, Test F1: 0.026, Test Precision: 0.037, Test Recall: 0.102\n",
            "Epoch 7/20\n"
          ]
        },
        {
          "output_type": "stream",
          "name": "stderr",
          "text": [
            "/usr/local/lib/python3.10/dist-packages/sklearn/metrics/_classification.py:1344: UndefinedMetricWarning: Precision is ill-defined and being set to 0.0 in labels with no predicted samples. Use `zero_division` parameter to control this behavior.\n",
            "  _warn_prf(average, modifier, msg_start, len(result))\n"
          ]
        },
        {
          "output_type": "stream",
          "name": "stdout",
          "text": [
            "2023-10-19 13:03:15 [782/782] - 34.26ms/step - nd_loss: 0.990 - div_loss: 55409.523 - cls_loss: 10795.071 - train_loss: 66205.586 - train_acc: 0.062\n"
          ]
        },
        {
          "output_type": "stream",
          "name": "stderr",
          "text": [
            "/usr/local/lib/python3.10/dist-packages/sklearn/metrics/_classification.py:1344: UndefinedMetricWarning: Precision is ill-defined and being set to 0.0 in labels with no predicted samples. Use `zero_division` parameter to control this behavior.\n",
            "  _warn_prf(average, modifier, msg_start, len(result))\n"
          ]
        },
        {
          "output_type": "stream",
          "name": "stdout",
          "text": [
            "Epoch 7 - Train Loss: 51167.622, Train Acc: 0.104, Train F1: 0.027, Train Precision: 0.050, Train Recall: 0.104, Test Loss: 11469.852, Test Acc: 0.102, Test F1: 0.026, Test Precision: 0.076, Test Recall: 0.102\n",
            "Epoch 8/20\n"
          ]
        },
        {
          "output_type": "stream",
          "name": "stderr",
          "text": [
            "/usr/local/lib/python3.10/dist-packages/sklearn/metrics/_classification.py:1344: UndefinedMetricWarning: Precision is ill-defined and being set to 0.0 in labels with no predicted samples. Use `zero_division` parameter to control this behavior.\n",
            "  _warn_prf(average, modifier, msg_start, len(result))\n"
          ]
        },
        {
          "output_type": "stream",
          "name": "stdout",
          "text": [
            "2023-10-19 13:04:09 [782/782] - 31.37ms/step - nd_loss: 0.991 - div_loss: 38135.109 - cls_loss: 15674.736 - train_loss: 53810.836 - train_acc: 0.000\n"
          ]
        },
        {
          "output_type": "stream",
          "name": "stderr",
          "text": [
            "/usr/local/lib/python3.10/dist-packages/sklearn/metrics/_classification.py:1344: UndefinedMetricWarning: Precision is ill-defined and being set to 0.0 in labels with no predicted samples. Use `zero_division` parameter to control this behavior.\n",
            "  _warn_prf(average, modifier, msg_start, len(result))\n"
          ]
        },
        {
          "output_type": "stream",
          "name": "stdout",
          "text": [
            "Epoch 8 - Train Loss: 57626.631, Train Acc: 0.104, Train F1: 0.027, Train Precision: 0.063, Train Recall: 0.104, Test Loss: 11587.288, Test Acc: 0.103, Test F1: 0.026, Test Precision: 0.030, Test Recall: 0.103\n",
            "Epoch 9/20\n"
          ]
        },
        {
          "output_type": "stream",
          "name": "stderr",
          "text": [
            "/usr/local/lib/python3.10/dist-packages/sklearn/metrics/_classification.py:1344: UndefinedMetricWarning: Precision is ill-defined and being set to 0.0 in labels with no predicted samples. Use `zero_division` parameter to control this behavior.\n",
            "  _warn_prf(average, modifier, msg_start, len(result))\n"
          ]
        },
        {
          "output_type": "stream",
          "name": "stdout",
          "text": [
            "2023-10-19 13:05:03 [782/782] - 32.67ms/step - nd_loss: 0.991 - div_loss: 50394.586 - cls_loss: 12893.978 - train_loss: 63289.555 - train_acc: 0.125\n"
          ]
        },
        {
          "output_type": "stream",
          "name": "stderr",
          "text": [
            "/usr/local/lib/python3.10/dist-packages/sklearn/metrics/_classification.py:1344: UndefinedMetricWarning: Precision is ill-defined and being set to 0.0 in labels with no predicted samples. Use `zero_division` parameter to control this behavior.\n",
            "  _warn_prf(average, modifier, msg_start, len(result))\n"
          ]
        },
        {
          "output_type": "stream",
          "name": "stdout",
          "text": [
            "Epoch 9 - Train Loss: 64288.565, Train Acc: 0.103, Train F1: 0.027, Train Precision: 0.057, Train Recall: 0.103, Test Loss: 11426.220, Test Acc: 0.103, Test F1: 0.027, Test Precision: 0.063, Test Recall: 0.103\n",
            "Epoch 10/20\n"
          ]
        },
        {
          "output_type": "stream",
          "name": "stderr",
          "text": [
            "/usr/local/lib/python3.10/dist-packages/sklearn/metrics/_classification.py:1344: UndefinedMetricWarning: Precision is ill-defined and being set to 0.0 in labels with no predicted samples. Use `zero_division` parameter to control this behavior.\n",
            "  _warn_prf(average, modifier, msg_start, len(result))\n"
          ]
        },
        {
          "output_type": "stream",
          "name": "stdout",
          "text": [
            "2023-10-19 13:05:57 [782/782] - 32.38ms/step - nd_loss: 0.990 - div_loss: 52545.137 - cls_loss: 10697.035 - train_loss: 63243.160 - train_acc: 0.125\n"
          ]
        },
        {
          "output_type": "stream",
          "name": "stderr",
          "text": [
            "/usr/local/lib/python3.10/dist-packages/sklearn/metrics/_classification.py:1344: UndefinedMetricWarning: Precision is ill-defined and being set to 0.0 in labels with no predicted samples. Use `zero_division` parameter to control this behavior.\n",
            "  _warn_prf(average, modifier, msg_start, len(result))\n"
          ]
        },
        {
          "output_type": "stream",
          "name": "stdout",
          "text": [
            "Epoch 10 - Train Loss: 70950.098, Train Acc: 0.103, Train F1: 0.027, Train Precision: 0.051, Train Recall: 0.103, Test Loss: 11520.144, Test Acc: 0.103, Test F1: 0.026, Test Precision: 0.041, Test Recall: 0.103\n",
            "Epoch 11/20\n"
          ]
        },
        {
          "output_type": "stream",
          "name": "stderr",
          "text": [
            "/usr/local/lib/python3.10/dist-packages/sklearn/metrics/_classification.py:1344: UndefinedMetricWarning: Precision is ill-defined and being set to 0.0 in labels with no predicted samples. Use `zero_division` parameter to control this behavior.\n",
            "  _warn_prf(average, modifier, msg_start, len(result))\n"
          ]
        },
        {
          "output_type": "stream",
          "name": "stdout",
          "text": [
            "2023-10-19 13:06:51 [782/782] - 34.53ms/step - nd_loss: 0.991 - div_loss: 79542.125 - cls_loss: 13551.660 - train_loss: 93094.773 - train_acc: 0.062\n"
          ]
        },
        {
          "output_type": "stream",
          "name": "stderr",
          "text": [
            "/usr/local/lib/python3.10/dist-packages/sklearn/metrics/_classification.py:1344: UndefinedMetricWarning: Precision is ill-defined and being set to 0.0 in labels with no predicted samples. Use `zero_division` parameter to control this behavior.\n",
            "  _warn_prf(average, modifier, msg_start, len(result))\n"
          ]
        },
        {
          "output_type": "stream",
          "name": "stdout",
          "text": [
            "Epoch 11 - Train Loss: 77532.547, Train Acc: 0.104, Train F1: 0.027, Train Precision: 0.054, Train Recall: 0.104, Test Loss: 11420.819, Test Acc: 0.103, Test F1: 0.027, Test Precision: 0.056, Test Recall: 0.103\n",
            "Epoch 12/20\n"
          ]
        },
        {
          "output_type": "stream",
          "name": "stderr",
          "text": [
            "/usr/local/lib/python3.10/dist-packages/sklearn/metrics/_classification.py:1344: UndefinedMetricWarning: Precision is ill-defined and being set to 0.0 in labels with no predicted samples. Use `zero_division` parameter to control this behavior.\n",
            "  _warn_prf(average, modifier, msg_start, len(result))\n"
          ]
        },
        {
          "output_type": "stream",
          "name": "stdout",
          "text": [
            "2023-10-19 13:07:45 [782/782] - 32.11ms/step - nd_loss: 0.991 - div_loss: 87046.055 - cls_loss: 12267.414 - train_loss: 99314.461 - train_acc: 0.062\n"
          ]
        },
        {
          "output_type": "stream",
          "name": "stderr",
          "text": [
            "/usr/local/lib/python3.10/dist-packages/sklearn/metrics/_classification.py:1344: UndefinedMetricWarning: Precision is ill-defined and being set to 0.0 in labels with no predicted samples. Use `zero_division` parameter to control this behavior.\n",
            "  _warn_prf(average, modifier, msg_start, len(result))\n"
          ]
        },
        {
          "output_type": "stream",
          "name": "stdout",
          "text": [
            "Epoch 12 - Train Loss: 83900.393, Train Acc: 0.104, Train F1: 0.027, Train Precision: 0.060, Train Recall: 0.104, Test Loss: 11637.688, Test Acc: 0.102, Test F1: 0.025, Test Precision: 0.094, Test Recall: 0.102\n",
            "Epoch 13/20\n"
          ]
        },
        {
          "output_type": "stream",
          "name": "stderr",
          "text": [
            "/usr/local/lib/python3.10/dist-packages/sklearn/metrics/_classification.py:1344: UndefinedMetricWarning: Precision is ill-defined and being set to 0.0 in labels with no predicted samples. Use `zero_division` parameter to control this behavior.\n",
            "  _warn_prf(average, modifier, msg_start, len(result))\n"
          ]
        },
        {
          "output_type": "stream",
          "name": "stdout",
          "text": [
            "2023-10-19 13:08:39 [782/782] - 32.53ms/step - nd_loss: 0.992 - div_loss: 94445.289 - cls_loss: 10122.044 - train_loss: 104568.328 - train_acc: 0.062\n"
          ]
        },
        {
          "output_type": "stream",
          "name": "stderr",
          "text": [
            "/usr/local/lib/python3.10/dist-packages/sklearn/metrics/_classification.py:1344: UndefinedMetricWarning: Precision is ill-defined and being set to 0.0 in labels with no predicted samples. Use `zero_division` parameter to control this behavior.\n",
            "  _warn_prf(average, modifier, msg_start, len(result))\n"
          ]
        },
        {
          "output_type": "stream",
          "name": "stdout",
          "text": [
            "Epoch 13 - Train Loss: 90446.087, Train Acc: 0.104, Train F1: 0.027, Train Precision: 0.049, Train Recall: 0.104, Test Loss: 11602.904, Test Acc: 0.103, Test F1: 0.026, Test Precision: 0.076, Test Recall: 0.102\n",
            "Epoch 14/20\n"
          ]
        },
        {
          "output_type": "stream",
          "name": "stderr",
          "text": [
            "/usr/local/lib/python3.10/dist-packages/sklearn/metrics/_classification.py:1344: UndefinedMetricWarning: Precision is ill-defined and being set to 0.0 in labels with no predicted samples. Use `zero_division` parameter to control this behavior.\n",
            "  _warn_prf(average, modifier, msg_start, len(result))\n"
          ]
        },
        {
          "output_type": "stream",
          "name": "stdout",
          "text": [
            "2023-10-19 13:09:34 [782/782] - 31.81ms/step - nd_loss: 0.992 - div_loss: 114533.867 - cls_loss: 14962.743 - train_loss: 129497.602 - train_acc: 0.000\n"
          ]
        },
        {
          "output_type": "stream",
          "name": "stderr",
          "text": [
            "/usr/local/lib/python3.10/dist-packages/sklearn/metrics/_classification.py:1344: UndefinedMetricWarning: Precision is ill-defined and being set to 0.0 in labels with no predicted samples. Use `zero_division` parameter to control this behavior.\n",
            "  _warn_prf(average, modifier, msg_start, len(result))\n"
          ]
        },
        {
          "output_type": "stream",
          "name": "stdout",
          "text": [
            "Epoch 14 - Train Loss: 97288.305, Train Acc: 0.104, Train F1: 0.027, Train Precision: 0.045, Train Recall: 0.104, Test Loss: 11656.196, Test Acc: 0.103, Test F1: 0.026, Test Precision: 0.049, Test Recall: 0.102\n",
            "Epoch 15/20\n"
          ]
        },
        {
          "output_type": "stream",
          "name": "stderr",
          "text": [
            "/usr/local/lib/python3.10/dist-packages/sklearn/metrics/_classification.py:1344: UndefinedMetricWarning: Precision is ill-defined and being set to 0.0 in labels with no predicted samples. Use `zero_division` parameter to control this behavior.\n",
            "  _warn_prf(average, modifier, msg_start, len(result))\n"
          ]
        },
        {
          "output_type": "stream",
          "name": "stdout",
          "text": [
            "2023-10-19 13:10:28 [782/782] - 33.24ms/step - nd_loss: 0.991 - div_loss: 83787.359 - cls_loss: 10546.329 - train_loss: 94334.680 - train_acc: 0.188\n"
          ]
        },
        {
          "output_type": "stream",
          "name": "stderr",
          "text": [
            "/usr/local/lib/python3.10/dist-packages/sklearn/metrics/_classification.py:1344: UndefinedMetricWarning: Precision is ill-defined and being set to 0.0 in labels with no predicted samples. Use `zero_division` parameter to control this behavior.\n",
            "  _warn_prf(average, modifier, msg_start, len(result))\n"
          ]
        },
        {
          "output_type": "stream",
          "name": "stdout",
          "text": [
            "Epoch 15 - Train Loss: 103525.315, Train Acc: 0.104, Train F1: 0.028, Train Precision: 0.054, Train Recall: 0.104, Test Loss: 11559.285, Test Acc: 0.102, Test F1: 0.026, Test Precision: 0.047, Test Recall: 0.102\n",
            "Epoch 16/20\n"
          ]
        },
        {
          "output_type": "stream",
          "name": "stderr",
          "text": [
            "/usr/local/lib/python3.10/dist-packages/sklearn/metrics/_classification.py:1344: UndefinedMetricWarning: Precision is ill-defined and being set to 0.0 in labels with no predicted samples. Use `zero_division` parameter to control this behavior.\n",
            "  _warn_prf(average, modifier, msg_start, len(result))\n"
          ]
        },
        {
          "output_type": "stream",
          "name": "stdout",
          "text": [
            "2023-10-19 13:11:22 [782/782] - 32.09ms/step - nd_loss: 0.991 - div_loss: 124655.672 - cls_loss: 11658.664 - train_loss: 136315.328 - train_acc: 0.062\n"
          ]
        },
        {
          "output_type": "stream",
          "name": "stderr",
          "text": [
            "/usr/local/lib/python3.10/dist-packages/sklearn/metrics/_classification.py:1344: UndefinedMetricWarning: Precision is ill-defined and being set to 0.0 in labels with no predicted samples. Use `zero_division` parameter to control this behavior.\n",
            "  _warn_prf(average, modifier, msg_start, len(result))\n"
          ]
        },
        {
          "output_type": "stream",
          "name": "stdout",
          "text": [
            "Epoch 16 - Train Loss: 110765.857, Train Acc: 0.104, Train F1: 0.027, Train Precision: 0.054, Train Recall: 0.104, Test Loss: 11487.512, Test Acc: 0.103, Test F1: 0.026, Test Precision: 0.066, Test Recall: 0.102\n",
            "Epoch 17/20\n"
          ]
        },
        {
          "output_type": "stream",
          "name": "stderr",
          "text": [
            "/usr/local/lib/python3.10/dist-packages/sklearn/metrics/_classification.py:1344: UndefinedMetricWarning: Precision is ill-defined and being set to 0.0 in labels with no predicted samples. Use `zero_division` parameter to control this behavior.\n",
            "  _warn_prf(average, modifier, msg_start, len(result))\n"
          ]
        },
        {
          "output_type": "stream",
          "name": "stdout",
          "text": [
            "2023-10-19 13:12:17 [782/782] - 34.15ms/step - nd_loss: 0.992 - div_loss: 105241.203 - cls_loss: 13328.431 - train_loss: 118570.625 - train_acc: 0.000\n"
          ]
        },
        {
          "output_type": "stream",
          "name": "stderr",
          "text": [
            "/usr/local/lib/python3.10/dist-packages/sklearn/metrics/_classification.py:1344: UndefinedMetricWarning: Precision is ill-defined and being set to 0.0 in labels with no predicted samples. Use `zero_division` parameter to control this behavior.\n",
            "  _warn_prf(average, modifier, msg_start, len(result))\n"
          ]
        },
        {
          "output_type": "stream",
          "name": "stdout",
          "text": [
            "Epoch 17 - Train Loss: 116893.214, Train Acc: 0.104, Train F1: 0.027, Train Precision: 0.052, Train Recall: 0.104, Test Loss: 11526.011, Test Acc: 0.102, Test F1: 0.026, Test Precision: 0.084, Test Recall: 0.102\n",
            "Epoch 18/20\n"
          ]
        },
        {
          "output_type": "stream",
          "name": "stderr",
          "text": [
            "/usr/local/lib/python3.10/dist-packages/sklearn/metrics/_classification.py:1344: UndefinedMetricWarning: Precision is ill-defined and being set to 0.0 in labels with no predicted samples. Use `zero_division` parameter to control this behavior.\n",
            "  _warn_prf(average, modifier, msg_start, len(result))\n"
          ]
        },
        {
          "output_type": "stream",
          "name": "stdout",
          "text": [
            "2023-10-19 13:13:11 [782/782] - 32.91ms/step - nd_loss: 0.991 - div_loss: 100868.039 - cls_loss: 11306.781 - train_loss: 112175.812 - train_acc: 0.062\n"
          ]
        },
        {
          "output_type": "stream",
          "name": "stderr",
          "text": [
            "/usr/local/lib/python3.10/dist-packages/sklearn/metrics/_classification.py:1344: UndefinedMetricWarning: Precision is ill-defined and being set to 0.0 in labels with no predicted samples. Use `zero_division` parameter to control this behavior.\n",
            "  _warn_prf(average, modifier, msg_start, len(result))\n"
          ]
        },
        {
          "output_type": "stream",
          "name": "stdout",
          "text": [
            "Epoch 18 - Train Loss: 122937.211, Train Acc: 0.104, Train F1: 0.027, Train Precision: 0.050, Train Recall: 0.104, Test Loss: 11499.893, Test Acc: 0.103, Test F1: 0.026, Test Precision: 0.038, Test Recall: 0.103\n",
            "Epoch 19/20\n"
          ]
        },
        {
          "output_type": "stream",
          "name": "stderr",
          "text": [
            "/usr/local/lib/python3.10/dist-packages/sklearn/metrics/_classification.py:1344: UndefinedMetricWarning: Precision is ill-defined and being set to 0.0 in labels with no predicted samples. Use `zero_division` parameter to control this behavior.\n",
            "  _warn_prf(average, modifier, msg_start, len(result))\n"
          ]
        },
        {
          "output_type": "stream",
          "name": "stdout",
          "text": [
            "2023-10-19 13:14:05 [782/782] - 32.04ms/step - nd_loss: 0.991 - div_loss: 145805.984 - cls_loss: 12336.572 - train_loss: 158143.547 - train_acc: 0.125\n"
          ]
        },
        {
          "output_type": "stream",
          "name": "stderr",
          "text": [
            "/usr/local/lib/python3.10/dist-packages/sklearn/metrics/_classification.py:1344: UndefinedMetricWarning: Precision is ill-defined and being set to 0.0 in labels with no predicted samples. Use `zero_division` parameter to control this behavior.\n",
            "  _warn_prf(average, modifier, msg_start, len(result))\n"
          ]
        },
        {
          "output_type": "stream",
          "name": "stdout",
          "text": [
            "Epoch 19 - Train Loss: 130503.190, Train Acc: 0.104, Train F1: 0.028, Train Precision: 0.067, Train Recall: 0.104, Test Loss: 11507.278, Test Acc: 0.102, Test F1: 0.026, Test Precision: 0.039, Test Recall: 0.102\n",
            "Epoch 20/20\n"
          ]
        },
        {
          "output_type": "stream",
          "name": "stderr",
          "text": [
            "/usr/local/lib/python3.10/dist-packages/sklearn/metrics/_classification.py:1344: UndefinedMetricWarning: Precision is ill-defined and being set to 0.0 in labels with no predicted samples. Use `zero_division` parameter to control this behavior.\n",
            "  _warn_prf(average, modifier, msg_start, len(result))\n"
          ]
        },
        {
          "output_type": "stream",
          "name": "stdout",
          "text": [
            "2023-10-19 13:14:59 [782/782] - 31.47ms/step - nd_loss: 0.991 - div_loss: 95987.242 - cls_loss: 10093.284 - train_loss: 106081.516 - train_acc: 0.062\n"
          ]
        },
        {
          "output_type": "stream",
          "name": "stderr",
          "text": [
            "/usr/local/lib/python3.10/dist-packages/sklearn/metrics/_classification.py:1344: UndefinedMetricWarning: Precision is ill-defined and being set to 0.0 in labels with no predicted samples. Use `zero_division` parameter to control this behavior.\n",
            "  _warn_prf(average, modifier, msg_start, len(result))\n"
          ]
        },
        {
          "output_type": "stream",
          "name": "stdout",
          "text": [
            "Epoch 20 - Train Loss: 136617.606, Train Acc: 0.104, Train F1: 0.028, Train Precision: 0.059, Train Recall: 0.104, Test Loss: 11471.849, Test Acc: 0.103, Test F1: 0.028, Test Precision: 0.055, Test Recall: 0.103\n"
          ]
        },
        {
          "output_type": "stream",
          "name": "stderr",
          "text": [
            "/usr/local/lib/python3.10/dist-packages/sklearn/metrics/_classification.py:1344: UndefinedMetricWarning: Precision is ill-defined and being set to 0.0 in labels with no predicted samples. Use `zero_division` parameter to control this behavior.\n",
            "  _warn_prf(average, modifier, msg_start, len(result))\n"
          ]
        }
      ]
    },
    {
      "cell_type": "code",
      "source": [
        "# Plotting function\n",
        "def plot_metrics(train_metrics, test_metrics, metric_name):\n",
        "    plt.plot(train_metrics, label=f\"Train {metric_name}\")\n",
        "    plt.plot(test_metrics, label=f\"Test {metric_name}\")\n",
        "    plt.legend()\n",
        "    plt.title(f\"{metric_name} over epochs\")\n",
        "    plt.xlabel(\"Epochs\")\n",
        "    plt.ylabel(metric_name)\n",
        "    plt.show()\n",
        "\n",
        "# After your epoch loop, plot the metrics:\n",
        "plot_metrics(train_f1_list, test_f1_list, \"F1 Score\")\n",
        "plot_metrics(train_precision_list, test_precision_list, \"Precision\")\n",
        "plot_metrics(train_recall_list, test_recall_list, \"Recall\")\n",
        "plot_metrics(train_accuracy_list, test_accuracy_list, \"Accuracy\")\n"
      ],
      "metadata": {
        "colab": {
          "base_uri": "https://localhost:8080/",
          "height": 1000
        },
        "id": "T4hdRKVm9Tzt",
        "outputId": "22ed627c-c26d-48ee-cab0-4dbc55184383"
      },
      "execution_count": 47,
      "outputs": [
        {
          "output_type": "display_data",
          "data": {
            "text/plain": [
              "<Figure size 640x480 with 1 Axes>"
            ],
            "image/png": "[encoded data removed]"
          },
          "metadata": {}
        },
        {
          "output_type": "display_data",
          "data": {
            "text/plain": [
              "<Figure size 640x480 with 1 Axes>"
            ],
            "image/png": "[encoded data removed]"
          },
          "metadata": {}
        },
        {
          "output_type": "display_data",
          "data": {
            "text/plain": [
              "<Figure size 640x480 with 1 Axes>"
            ],
            "image/png": "[encoded data removed]"
          },
          "metadata": {}
        },
        {
          "output_type": "display_data",
          "data": {
            "text/plain": [
              "<Figure size 640x480 with 1 Axes>"
            ],
            "image/png": "[encoded data removed]"
          },
          "metadata": {}
        }
      ]
    },
    {
      "cell_type": "code",
      "source": [],
      "metadata": {
        "id": "NS5MQoGm9TwV"
      },
      "execution_count": null,
      "outputs": []
    },
    {
      "cell_type": "code",
      "source": [],
      "metadata": {
        "id": "E8tAkQkK9TtM"
      },
      "execution_count": null,
      "outputs": []
    },
    {
      "cell_type": "code",
      "source": [],
      "metadata": {
        "id": "ZYMqZOZo9Tp2"
      },
      "execution_count": null,
      "outputs": []
    },
    {
      "cell_type": "code",
      "source": [],
      "metadata": {
        "id": "lRkZp0I89TnX"
      },
      "execution_count": null,
      "outputs": []
    },
    {
      "cell_type": "code",
      "source": [],
      "metadata": {
        "id": "7y0NcSxp9Tly"
      },
      "execution_count": null,
      "outputs": []
    },
    {
      "cell_type": "code",
      "source": [
        "!pip install torchsummary\n",
        "!pip install scikit-learn"
      ],
      "metadata": {
        "colab": {
          "base_uri": "https://localhost:8080/"
        },
        "id": "s5jlBfTLmMB_",
        "outputId": "abac9a13-92e6-4008-fdec-b65f3c8b17cc"
      },
      "execution_count": 29,
      "outputs": [
        {
          "output_type": "stream",
          "name": "stdout",
          "text": [
            "Requirement already satisfied: torchsummary in /usr/local/lib/python3.10/dist-packages (1.5.1)\n",
            "Requirement already satisfied: scikit-learn in /usr/local/lib/python3.10/dist-packages (1.2.2)\n",
            "Requirement already satisfied: numpy>=1.17.3 in /usr/local/lib/python3.10/dist-packages (from scikit-learn) (1.23.5)\n",
            "Requirement already satisfied: scipy>=1.3.2 in /usr/local/lib/python3.10/dist-packages (from scikit-learn) (1.11.3)\n",
            "Requirement already satisfied: joblib>=1.1.1 in /usr/local/lib/python3.10/dist-packages (from scikit-learn) (1.3.2)\n",
            "Requirement already satisfied: threadpoolctl>=2.0.0 in /usr/local/lib/python3.10/dist-packages (from scikit-learn) (3.2.0)\n"
          ]
        }
      ]
    },
    {
      "cell_type": "code",
      "source": [
        "# Additional Library\n",
        "from sklearn.metrics import precision_score, recall_score, f1_score, roc_auc_score\n",
        "import matplotlib.pyplot as plt"
      ],
      "metadata": {
        "id": "5bqkpz0fq8ae"
      },
      "execution_count": 30,
      "outputs": []
    },
    {
      "cell_type": "code",
      "source": [
        "# def get_metrics(true, pred):\n",
        "#     precision = precision_score(true, pred, average=\"macro\")\n",
        "#     recall = recall_score(true, pred, average=\"macro\")\n",
        "#     f1 = f1_score(true, pred, average=\"macro\")\n",
        "#     return precision, recall, f1\n",
        "\n",
        "def multiclass_auc(labels, preds):\n",
        "    # convert labels to one-hot encoding\n",
        "    one_hot = np.eye(10)[labels]\n",
        "    return roc_auc_score(one_hot, preds, multi_class='ovr')\n",
        "\n",
        "def get_metrics(true, pred):\n",
        "    precision = precision_score(true, pred, average='weighted')  # weighted: multi-class data\n",
        "    recall = recall_score(true, pred, average='weighted')\n",
        "    f1 = f1_score(true, pred, average='weighted')\n",
        "    return precision, recall, f1\n"
      ],
      "metadata": {
        "id": "RONEwEQtmPel"
      },
      "execution_count": 31,
      "outputs": []
    },
    {
      "cell_type": "code",
      "source": [],
      "metadata": {
        "id": "-c-5eUBC5RxD"
      },
      "execution_count": null,
      "outputs": []
    },
    {
      "cell_type": "code",
      "source": [
        "\n",
        "all_train_acc, all_test_acc = [], []\n",
        "all_train_f1, all_test_f1 = [], []\n",
        "\n",
        "for epoch in range(epochs):\n",
        "\n",
        "    train_loss, train_accuracy = train(student, teacher, train_loader, criterion, optimizer)\n",
        "    test_loss, test_accuracy = test(student, test_loader, criterion)\n",
        "    print(f\"Epoch {epoch+1}/{epochs}, Train Loss: {train_loss:.4f}, Train Acc: {train_accuracy:.4f}, Test Loss: {test_loss:.4f}, Test Acc: {test_accuracy:.4f}\")\n",
        "\n",
        "    all_train_acc.append(train_accuracy)\n",
        "    all_test_acc.append(test_accuracy)\n",
        "\n",
        "    # precision, recall, F1 for training data\n",
        "    train_true, train_pred = [], []\n",
        "    student.eval()\n",
        "    with torch.no_grad():\n",
        "        for images, labels in train_loader:\n",
        "            images, labels = images.to(device), labels.to(device)\n",
        "            outputs = student(images)\n",
        "            _, preds = outputs.max(1)\n",
        "            train_true.extend(labels.cpu().numpy())\n",
        "            train_pred.extend(preds.cpu().numpy())\n",
        "    precision, recall, f1 = get_metrics(train_true, train_pred)\n",
        "    all_train_f1.append(f1)\n",
        "\n",
        "\n",
        "    print(f\"Training - Precision: {precision:.4f}, Recall: {recall:.4f}, F1: {f1:.4f}\")\n",
        "\n",
        "    # precision, recall, F1 for test data\n",
        "    test_true, test_pred, test_probs = [], [], []\n",
        "    with torch.no_grad():\n",
        "        for images, labels in test_loader:\n",
        "            images, labels = images.to(device), labels.to(device)\n",
        "\n"
      ],
      "metadata": {
        "colab": {
          "base_uri": "https://localhost:8080/",
          "height": 268
        },
        "id": "A5koE0KqmD2l",
        "outputId": "b2be0a4f-ec22-4ee9-d414-5c7e1ecccb40"
      },
      "execution_count": 36,
      "outputs": [
        {
          "output_type": "error",
          "ename": "TypeError",
          "evalue": "ignored",
          "traceback": [
            "\u001b[0;31m---------------------------------------------------------------------------\u001b[0m",
            "\u001b[0;31mTypeError\u001b[0m                                 Traceback (most recent call last)",
            "\u001b[0;32m<ipython-input-36-bdf85cae699b>\u001b[0m in \u001b[0;36m<cell line: 4>\u001b[0;34m()\u001b[0m\n\u001b[1;32m     14\u001b[0m \u001b[0;34m\u001b[0m\u001b[0m\n\u001b[1;32m     15\u001b[0m \u001b[0;34m\u001b[0m\u001b[0m\n\u001b[0;32m---> 16\u001b[0;31m     \u001b[0mtrain_loss\u001b[0m\u001b[0;34m,\u001b[0m \u001b[0mtrain_accuracy\u001b[0m \u001b[0;34m=\u001b[0m \u001b[0mtrain\u001b[0m\u001b[0;34m(\u001b[0m\u001b[0mstudent\u001b[0m\u001b[0;34m,\u001b[0m \u001b[0mteacher\u001b[0m\u001b[0;34m,\u001b[0m \u001b[0mtrain_loader\u001b[0m\u001b[0;34m,\u001b[0m \u001b[0mcriterion\u001b[0m\u001b[0;34m,\u001b[0m \u001b[0moptimizer\u001b[0m\u001b[0;34m)\u001b[0m\u001b[0;34m\u001b[0m\u001b[0;34m\u001b[0m\u001b[0m\n\u001b[0m\u001b[1;32m     17\u001b[0m     \u001b[0mtest_loss\u001b[0m\u001b[0;34m,\u001b[0m \u001b[0mtest_accuracy\u001b[0m \u001b[0;34m=\u001b[0m \u001b[0mtest\u001b[0m\u001b[0;34m(\u001b[0m\u001b[0mstudent\u001b[0m\u001b[0;34m,\u001b[0m \u001b[0mtest_loader\u001b[0m\u001b[0;34m,\u001b[0m \u001b[0mcriterion\u001b[0m\u001b[0;34m)\u001b[0m\u001b[0;34m\u001b[0m\u001b[0;34m\u001b[0m\u001b[0m\n\u001b[1;32m     18\u001b[0m     \u001b[0mprint\u001b[0m\u001b[0;34m(\u001b[0m\u001b[0;34mf\"Epoch {epoch+1}/{epochs}, Train Loss: {train_loss:.4f}, Train Acc: {train_accuracy:.4f}, Test Loss: {test_loss:.4f}, Test Acc: {test_accuracy:.4f}\"\u001b[0m\u001b[0;34m)\u001b[0m\u001b[0;34m\u001b[0m\u001b[0;34m\u001b[0m\u001b[0m\n",
            "\u001b[0;31mTypeError\u001b[0m: train() missing 4 required positional arguments: 'criterion', 'nd_loss', 'args', and 'epoch'"
          ]
        }
      ]
    },
    {
      "cell_type": "code",
      "source": [
        "\n",
        "all_train_acc, all_test_acc = [], []\n",
        "all_train_f1, all_test_f1 = [], []\n",
        "\n",
        "for epoch in range(epochs):\n",
        "\n",
        "    # For Training\n",
        "    train_loss, train_accuracy = train(student, teacher, train_loader, criterion, optimizer)\n",
        "    test_loss, test_accuracy = test(student, test_loader, criterion)\n",
        "    print(f\"Epoch {epoch+1}/{epochs}, Train Loss: {train_loss:.4f}, Train Acc: {train_accuracy:.4f}, Test Loss: {test_loss:.4f}, Test Acc: {test_accuracy:.4f}\")\n",
        "\n",
        "    all_train_acc.append(train_accuracy)\n",
        "    all_test_acc.append(test_accuracy)\n",
        "\n",
        "    train_true, train_pred = [], []\n",
        "    student.eval()\n",
        "    with torch.no_grad():\n",
        "        for images, labels in train_loader:\n",
        "            images, labels = images.to(device), labels.to(device)\n",
        "            outputs = student(images)\n",
        "            _, preds = outputs.max(1)\n",
        "            train_true.extend(labels.cpu().numpy())\n",
        "            train_pred.extend(preds.cpu().numpy())\n",
        "\n",
        "    precision, recall, f1 = get_metrics(train_true, train_pred)\n",
        "    all_train_f1.append(f1)\n",
        "    print(f\"Training - Precision: {precision:.4f}, Recall: {recall:.4f}, F1: {f1:.4f}\")\n",
        "\n",
        "    # For Test\n",
        "    test_true, test_pred = [], []\n",
        "    with torch.no_grad():\n",
        "        for images, labels in test_loader:\n",
        "            images, labels = images.to(device), labels.to(device)\n",
        "            outputs = student(images)\n",
        "            _, preds = outputs.max(1)\n",
        "            test_true.extend(labels.cpu().numpy())\n",
        "            test_pred.extend(preds.cpu().numpy())\n",
        "\n",
        "    precision, recall, f1 = get_metrics(test_true, test_pred)\n",
        "    all_test_f1.append(f1)\n",
        "    print(f\"Test - Precision: {precision:.4f}, Recall: {recall:.4f}, F1: {f1:.4f}\")\n"
      ],
      "metadata": {
        "id": "ZA3UtajUraKv"
      },
      "execution_count": null,
      "outputs": []
    },
    {
      "cell_type": "code",
      "source": [
        "# plots\n",
        "epochs_range = range(1, epochs+1)\n",
        "plt.figure(figsize=(15, 5))\n",
        "\n",
        "plt.subplot(1, 2, 1)\n",
        "plt.plot(epochs_range, all_train_acc, label=\"Train Accuracy\")\n",
        "plt.plot(epochs_range, all_test_acc, label=\"Test Accuracy\")\n",
        "plt.xlabel(\"Epochs\")\n",
        "plt.ylabel(\"Accuracy\")\n",
        "plt.legend()\n",
        "\n",
        "plt.subplot(1, 2, 2)\n",
        "plt.plot(epochs_range, all_train_f1, label=\"Train F1 Score\")\n",
        "plt.plot(epochs_range, all_test_f1, label=\"Test F1 Score\")\n",
        "plt.xlabel(\"Epochs\")\n",
        "plt.ylabel(\"F1 Score\")\n",
        "plt.legend()\n",
        "\n",
        "plt.tight_layout()\n",
        "plt.show()\n"
      ],
      "metadata": {
        "id": "T4OUfd5bmicL"
      },
      "execution_count": null,
      "outputs": []
    },
    {
      "cell_type": "markdown",
      "source": [
        "----------------------------------"
      ],
      "metadata": {
        "id": "RyLO3EZG188C"
      }
    },
    {
      "cell_type": "markdown",
      "source": [
        "__DO NOT RUN THE CODE BELOEW__"
      ],
      "metadata": {
        "id": "_RtCNDPdEYD3"
      }
    },
    {
      "cell_type": "code",
      "source": [
        "### hypyter tuning test"
      ],
      "metadata": {
        "id": "VUIoHj70u5gA"
      },
      "execution_count": null,
      "outputs": []
    },
    {
      "cell_type": "code",
      "source": [
        "!pip install optuna --quiet\n",
        "\n",
        "import optuna"
      ],
      "metadata": {
        "id": "7CrPdkAKuwXH"
      },
      "execution_count": null,
      "outputs": []
    },
    {
      "cell_type": "code",
      "source": [
        "def objective(trial):\n",
        "    # hyperparameters\n",
        "    lr = trial.suggest_loguniform('lr', 1e-5, 1e-1)\n",
        "    momentum = trial.suggest_uniform('momentum', 0.7, 0.99)\n",
        "    weight_decay = trial.suggest_loguniform('weight_decay', 1e-5, 1e-3)\n",
        "    kd_loss_factor = trial.suggest_uniform('kd_loss_factor', 0.05, 0.5)\n",
        "\n",
        "    # Create a new student model\n",
        "    student = torchvision.models.resnet34(pretrained=False)\n",
        "    student.fc = nn.Linear(student.fc.in_features, 10)\n",
        "    student.to(device)\n",
        "\n",
        "    # Initialize optimizer\n",
        "    optimizer = optim.SGD(student.parameters(), lr=lr, momentum=momentum, weight_decay=weight_decay)\n",
        "\n",
        "    for epoch in range(epochs):\n",
        "        train_loss, train_accuracy = train(student, teacher, train_loader, criterion, optimizer)\n",
        "\n",
        "    _, test_accuracy = test(student, test_loader, criterion)\n",
        "\n",
        "    return test_accuracy\n"
      ],
      "metadata": {
        "id": "3oJgDgjRtvRN"
      },
      "execution_count": null,
      "outputs": []
    },
    {
      "cell_type": "code",
      "source": [
        "study = optuna.create_study(direction=\"maximize\")  # Maximize the accuracy\n",
        "study.optimize(objective, n_trials=50)\n",
        "\n",
        "print(f\"Best trial: lr {study.best_params['lr']}, momentum {study.best_params['momentum']}, weight_decay {study.best_params['weight_decay']}, kd_loss_factor {study.best_params['kd_loss_factor']}\")\n"
      ],
      "metadata": {
        "colab": {
          "base_uri": "https://localhost:8080/"
        },
        "id": "CixLmBsLtvHr",
        "outputId": "4f22d920-2559-4ab2-c13f-dae789089b26"
      },
      "execution_count": null,
      "outputs": [
        {
          "output_type": "stream",
          "name": "stderr",
          "text": [
            "[I 2023-10-16 13:57:16,068] A new study created in memory with name: no-name-94572f20-f720-49ce-8021-9921121e32ab\n",
            "<ipython-input-48-96e2f2d8a19f>:3: FutureWarning: suggest_loguniform has been deprecated in v3.0.0. This feature will be removed in v6.0.0. See https://github.com/optuna/optuna/releases/tag/v3.0.0. Use suggest_float(..., log=True) instead.\n",
            "  lr = trial.suggest_loguniform('lr', 1e-5, 1e-1)\n",
            "<ipython-input-48-96e2f2d8a19f>:4: FutureWarning: suggest_uniform has been deprecated in v3.0.0. This feature will be removed in v6.0.0. See https://github.com/optuna/optuna/releases/tag/v3.0.0. Use suggest_float instead.\n",
            "  momentum = trial.suggest_uniform('momentum', 0.7, 0.99)\n",
            "<ipython-input-48-96e2f2d8a19f>:5: FutureWarning: suggest_loguniform has been deprecated in v3.0.0. This feature will be removed in v6.0.0. See https://github.com/optuna/optuna/releases/tag/v3.0.0. Use suggest_float(..., log=True) instead.\n",
            "  weight_decay = trial.suggest_loguniform('weight_decay', 1e-5, 1e-3)\n",
            "<ipython-input-48-96e2f2d8a19f>:6: FutureWarning: suggest_uniform has been deprecated in v3.0.0. This feature will be removed in v6.0.0. See https://github.com/optuna/optuna/releases/tag/v3.0.0. Use suggest_float instead.\n",
            "  kd_loss_factor = trial.suggest_uniform('kd_loss_factor', 0.05, 0.5)\n",
            "/usr/local/lib/python3.10/dist-packages/torchvision/models/_utils.py:208: UserWarning: The parameter 'pretrained' is deprecated since 0.13 and may be removed in the future, please use 'weights' instead.\n",
            "  warnings.warn(\n",
            "/usr/local/lib/python3.10/dist-packages/torchvision/models/_utils.py:223: UserWarning: Arguments other than a weight enum or `None` for 'weights' are deprecated since 0.13 and may be removed in the future. The current behavior is equivalent to passing `weights=None`.\n",
            "  warnings.warn(msg)\n",
            "[I 2023-10-16 14:05:32,521] Trial 0 finished with value: 57.63 and parameters: {'lr': 0.00031364567822567623, 'momentum': 0.8875801833880598, 'weight_decay': 8.257242869353132e-05, 'kd_loss_factor': 0.2834409575171905}. Best is trial 0 with value: 57.63.\n",
            "[I 2023-10-16 14:13:49,906] Trial 1 finished with value: 53.44 and parameters: {'lr': 0.00015618001022518283, 'momentum': 0.8854730002683087, 'weight_decay': 0.0009816772175997234, 'kd_loss_factor': 0.36164938621895504}. Best is trial 0 with value: 57.63.\n",
            "[I 2023-10-16 14:22:05,311] Trial 2 finished with value: 49.11 and parameters: {'lr': 8.174367535721834e-05, 'momentum': 0.730876129973705, 'weight_decay': 0.00011745705376093494, 'kd_loss_factor': 0.28008547848113047}. Best is trial 0 with value: 57.63.\n",
            "[I 2023-10-16 14:30:18,480] Trial 3 finished with value: 54.69 and parameters: {'lr': 6.169973736551751e-05, 'momentum': 0.9367476726665194, 'weight_decay': 0.0007795230574069608, 'kd_loss_factor': 0.3192965522920828}. Best is trial 0 with value: 57.63.\n",
            "[I 2023-10-16 14:38:35,210] Trial 4 finished with value: 49.42 and parameters: {'lr': 0.00010055728688904551, 'momentum': 0.7042291742563136, 'weight_decay': 0.00036175673039771174, 'kd_loss_factor': 0.4296563881929248}. Best is trial 0 with value: 57.63.\n",
            "[I 2023-10-16 14:46:52,144] Trial 5 finished with value: 66.84 and parameters: {'lr': 0.0033279373640138577, 'momentum': 0.7377673762842908, 'weight_decay': 4.290305802525129e-05, 'kd_loss_factor': 0.15957651164280295}. Best is trial 5 with value: 66.84.\n",
            "[I 2023-10-16 14:55:14,496] Trial 6 finished with value: 68.81 and parameters: {'lr': 0.009440755975023878, 'momentum': 0.7145988749576587, 'weight_decay': 0.0002572677317911926, 'kd_loss_factor': 0.2827138948747636}. Best is trial 6 with value: 68.81.\n",
            "[I 2023-10-16 15:03:36,031] Trial 7 finished with value: 58.69 and parameters: {'lr': 0.00021637724168221034, 'momentum': 0.9382123072321706, 'weight_decay': 0.00046620551820980745, 'kd_loss_factor': 0.05671249816969311}. Best is trial 6 with value: 68.81.\n",
            "[I 2023-10-16 15:11:52,752] Trial 8 finished with value: 42.62 and parameters: {'lr': 1.2961088056173334e-05, 'momentum': 0.8639577525824325, 'weight_decay': 5.2906889386238326e-05, 'kd_loss_factor': 0.17157701429307654}. Best is trial 6 with value: 68.81.\n",
            "[I 2023-10-16 15:20:11,178] Trial 9 finished with value: 60.5 and parameters: {'lr': 0.0005952106085410696, 'momentum': 0.8382641198098153, 'weight_decay': 0.0005801190733838259, 'kd_loss_factor': 0.20714047028266314}. Best is trial 6 with value: 68.81.\n",
            "[I 2023-10-16 15:28:28,508] Trial 10 finished with value: 74.39 and parameters: {'lr': 0.04887146612242114, 'momentum': 0.7826219116359754, 'weight_decay': 1.0573054488478825e-05, 'kd_loss_factor': 0.4997783417046702}. Best is trial 10 with value: 74.39.\n",
            "[I 2023-10-16 15:36:48,196] Trial 11 finished with value: 73.78 and parameters: {'lr': 0.04380674779574085, 'momentum': 0.7772318291871725, 'weight_decay': 1.1532552200932377e-05, 'kd_loss_factor': 0.4342974494466252}. Best is trial 10 with value: 74.39.\n",
            "[I 2023-10-16 15:45:15,775] Trial 12 finished with value: 73.89 and parameters: {'lr': 0.08666248290516944, 'momentum': 0.7789233017402367, 'weight_decay': 1.0833137912646136e-05, 'kd_loss_factor': 0.48665232676949605}. Best is trial 10 with value: 74.39.\n",
            "[I 2023-10-16 15:53:56,485] Trial 13 finished with value: 72.46 and parameters: {'lr': 0.09303837679700455, 'momentum': 0.7951272833749169, 'weight_decay': 1.0115923536329982e-05, 'kd_loss_factor': 0.4920471141769142}. Best is trial 10 with value: 74.39.\n",
            "[I 2023-10-16 16:02:35,676] Trial 14 finished with value: 71.87 and parameters: {'lr': 0.02581847539541441, 'momentum': 0.7909190017654336, 'weight_decay': 2.055514790778133e-05, 'kd_loss_factor': 0.49871047278639813}. Best is trial 10 with value: 74.39.\n",
            "[I 2023-10-16 16:11:17,205] Trial 15 finished with value: 65.71 and parameters: {'lr': 0.0029743371198197545, 'momentum': 0.7635925879383623, 'weight_decay': 1.6726418986244854e-05, 'kd_loss_factor': 0.41037011695309505}. Best is trial 10 with value: 74.39.\n",
            "[I 2023-10-16 16:19:57,204] Trial 16 finished with value: 71.37 and parameters: {'lr': 0.07627321641662704, 'momentum': 0.8154169388703534, 'weight_decay': 2.4608579515110357e-05, 'kd_loss_factor': 0.4912549369587647}. Best is trial 10 with value: 74.39.\n",
            "[I 2023-10-16 16:28:40,295] Trial 17 finished with value: 72.5 and parameters: {'lr': 0.017454129035721754, 'momentum': 0.74678226839386, 'weight_decay': 2.8997715479328362e-05, 'kd_loss_factor': 0.3681509049397967}. Best is trial 10 with value: 74.39.\n",
            "[I 2023-10-16 16:37:19,161] Trial 18 finished with value: 48.35 and parameters: {'lr': 0.09793078774553972, 'momentum': 0.816054962641842, 'weight_decay': 1.0111051219391159e-05, 'kd_loss_factor': 0.4516456933980643}. Best is trial 10 with value: 74.39.\n",
            "[I 2023-10-16 16:45:58,804] Trial 19 finished with value: 70.92 and parameters: {'lr': 0.01148123314926557, 'momentum': 0.7596901409925669, 'weight_decay': 1.6518117654053455e-05, 'kd_loss_factor': 0.369630713760058}. Best is trial 10 with value: 74.39.\n",
            "[I 2023-10-16 16:54:40,243] Trial 20 finished with value: 72.64 and parameters: {'lr': 0.032262807037397666, 'momentum': 0.7761825800665586, 'weight_decay': 3.445623065291443e-05, 'kd_loss_factor': 0.454020382690474}. Best is trial 10 with value: 74.39.\n",
            "[I 2023-10-16 17:03:23,543] Trial 21 finished with value: 72.31 and parameters: {'lr': 0.039866517714305064, 'momentum': 0.7808545837482863, 'weight_decay': 1.353146213080026e-05, 'kd_loss_factor': 0.41564265132648404}. Best is trial 10 with value: 74.39.\n",
            "[I 2023-10-16 17:11:57,365] Trial 22 finished with value: 73.06 and parameters: {'lr': 0.04201081418502079, 'momentum': 0.8099334796454559, 'weight_decay': 1.3925770396270921e-05, 'kd_loss_factor': 0.46175198894960806}. Best is trial 10 with value: 74.39.\n",
            "[I 2023-10-16 17:20:12,172] Trial 23 finished with value: 69.91 and parameters: {'lr': 0.00850152610203662, 'momentum': 0.7607696494905023, 'weight_decay': 2.244789533555338e-05, 'kd_loss_factor': 0.40992527554245295}. Best is trial 10 with value: 74.39.\n",
            "[I 2023-10-16 17:28:25,156] Trial 24 finished with value: 71.26 and parameters: {'lr': 0.04935738284699842, 'momentum': 0.7278269817041415, 'weight_decay': 1.0006808134631146e-05, 'kd_loss_factor': 0.46199489391665616}. Best is trial 10 with value: 74.39.\n",
            "[I 2023-10-16 17:36:39,247] Trial 25 finished with value: 72.4 and parameters: {'lr': 0.019515398199950202, 'momentum': 0.7810447251557923, 'weight_decay': 1.8067934359960322e-05, 'kd_loss_factor': 0.4836285069026319}. Best is trial 10 with value: 74.39.\n",
            "[I 2023-10-16 17:44:54,438] Trial 26 finished with value: 74.04 and parameters: {'lr': 0.05551541397987105, 'momentum': 0.748829862990165, 'weight_decay': 2.725157645990975e-05, 'kd_loss_factor': 0.4999407530126451}. Best is trial 10 with value: 74.39.\n",
            "[I 2023-10-16 17:53:07,190] Trial 27 finished with value: 66.21 and parameters: {'lr': 0.004241882226242066, 'momentum': 0.700107745385274, 'weight_decay': 2.638210145921194e-05, 'kd_loss_factor': 0.4988157056643108}. Best is trial 10 with value: 74.39.\n",
            "[I 2023-10-16 18:01:20,148] Trial 28 finished with value: 74.18 and parameters: {'lr': 0.09957465515933249, 'momentum': 0.7525632590438807, 'weight_decay': 1.5013264214673765e-05, 'kd_loss_factor': 0.4000824437673302}. Best is trial 10 with value: 74.39.\n",
            "[I 2023-10-16 18:09:33,453] Trial 29 finished with value: 73.24 and parameters: {'lr': 0.021146520373329314, 'momentum': 0.7516714409860205, 'weight_decay': 5.543787441612699e-05, 'kd_loss_factor': 0.3962674640940424}. Best is trial 10 with value: 74.39.\n",
            "[I 2023-10-16 18:17:47,483] Trial 30 finished with value: 61.76 and parameters: {'lr': 0.0015990221068764032, 'momentum': 0.7279455855025899, 'weight_decay': 3.17711810009417e-05, 'kd_loss_factor': 0.4447861191463812}. Best is trial 10 with value: 74.39.\n",
            "[I 2023-10-16 18:26:02,692] Trial 31 finished with value: 74.17 and parameters: {'lr': 0.06227638468371297, 'momentum': 0.7484919840127651, 'weight_decay': 1.861535908792715e-05, 'kd_loss_factor': 0.47503910095475627}. Best is trial 10 with value: 74.39.\n",
            "[I 2023-10-16 18:34:17,001] Trial 32 finished with value: 68.96 and parameters: {'lr': 0.0548196328446952, 'momentum': 0.7476560970846859, 'weight_decay': 1.5224514263431873e-05, 'kd_loss_factor': 0.4660387138899952}. Best is trial 10 with value: 74.39.\n",
            "[I 2023-10-16 18:42:29,771] Trial 33 finished with value: 73.6 and parameters: {'lr': 0.055024445851439, 'momentum': 0.7200088106706564, 'weight_decay': 2.042965075194801e-05, 'kd_loss_factor': 0.4328929154715868}. Best is trial 10 with value: 74.39.\n",
            "[I 2023-10-16 18:50:42,536] Trial 34 finished with value: 58.21 and parameters: {'lr': 0.0279389029552409, 'momentum': 0.734490678937649, 'weight_decay': 1.4672592072648602e-05, 'kd_loss_factor': 0.38440669491177665}. Best is trial 10 with value: 74.39.\n",
            "[I 2023-10-16 18:58:55,231] Trial 35 finished with value: 72.56 and parameters: {'lr': 0.013130008005592459, 'momentum': 0.7427144968977828, 'weight_decay': 2.0983033750821452e-05, 'kd_loss_factor': 0.3496878992355597}. Best is trial 10 with value: 74.39.\n",
            "[I 2023-10-16 19:07:09,222] Trial 36 finished with value: 72.1 and parameters: {'lr': 0.09682972276577818, 'momentum': 0.7181292845587494, 'weight_decay': 3.927142367296097e-05, 'kd_loss_factor': 0.4685440406982786}. Best is trial 10 with value: 74.39.\n",
            "[I 2023-10-16 19:15:22,298] Trial 37 finished with value: 69.73 and parameters: {'lr': 0.0065999330583849805, 'momentum': 0.766536031677178, 'weight_decay': 2.576248578965196e-05, 'kd_loss_factor': 0.43383418990797656}. Best is trial 10 with value: 74.39.\n",
            "[I 2023-10-16 19:23:35,896] Trial 38 finished with value: 71.51 and parameters: {'lr': 0.01577150718808272, 'momentum': 0.7493019718982998, 'weight_decay': 1.304912048401021e-05, 'kd_loss_factor': 0.32273020623313287}. Best is trial 10 with value: 74.39.\n",
            "[I 2023-10-16 19:31:51,787] Trial 39 finished with value: 74.02 and parameters: {'lr': 0.02821291565794907, 'momentum': 0.707022747105927, 'weight_decay': 1.792249910765704e-05, 'kd_loss_factor': 0.4207221123792938}. Best is trial 10 with value: 74.39.\n",
            "[I 2023-10-16 19:40:04,874] Trial 40 finished with value: 73.44 and parameters: {'lr': 0.06082539397572106, 'momentum': 0.7273814154800727, 'weight_decay': 8.026439286988103e-05, 'kd_loss_factor': 0.4715279209579894}. Best is trial 10 with value: 74.39.\n",
            "[I 2023-10-16 19:48:18,378] Trial 41 finished with value: 73.42 and parameters: {'lr': 0.02926907810517379, 'momentum': 0.7104352662766203, 'weight_decay': 1.8358737517740424e-05, 'kd_loss_factor': 0.4234695881310296}. Best is trial 10 with value: 74.39.\n",
            "[I 2023-10-16 19:56:31,371] Trial 42 finished with value: 74.03 and parameters: {'lr': 0.06045074569538239, 'momentum': 0.7129075550566906, 'weight_decay': 1.240542909389046e-05, 'kd_loss_factor': 0.3953398885151257}. Best is trial 10 with value: 74.39.\n",
            "[I 2023-10-16 20:04:47,211] Trial 43 finished with value: 73.43 and parameters: {'lr': 0.05341674080702378, 'momentum': 0.7370993096120888, 'weight_decay': 1.276263788697645e-05, 'kd_loss_factor': 0.3931887012397883}. Best is trial 10 with value: 74.39.\n",
            "[I 2023-10-16 20:12:59,958] Trial 44 finished with value: 72.63 and parameters: {'lr': 0.06283073025740826, 'momentum': 0.7166112631427113, 'weight_decay': 1.2530967682529805e-05, 'kd_loss_factor': 0.474063825634425}. Best is trial 10 with value: 74.39.\n",
            "[I 2023-10-16 20:21:13,843] Trial 45 finished with value: 72.81 and parameters: {'lr': 0.03621729661694475, 'momentum': 0.7362927313072818, 'weight_decay': 2.4601563707036806e-05, 'kd_loss_factor': 0.4437384903015151}. Best is trial 10 with value: 74.39.\n",
            "[I 2023-10-16 20:29:27,023] Trial 46 finished with value: 73.54 and parameters: {'lr': 0.09992699698439536, 'momentum': 0.7624886251592337, 'weight_decay': 1.5572970008951376e-05, 'kd_loss_factor': 0.48156837869623}. Best is trial 10 with value: 74.39.\n",
            "[I 2023-10-16 20:37:40,201] Trial 47 finished with value: 72.2 and parameters: {'lr': 0.01975454235335158, 'momentum': 0.7037983448332089, 'weight_decay': 1.1666639877830106e-05, 'kd_loss_factor': 0.4425094114795884}. Best is trial 10 with value: 74.39.\n",
            "[I 2023-10-16 20:45:53,770] Trial 48 finished with value: 71.46 and parameters: {'lr': 0.07187087233414381, 'momentum': 0.7992533056968916, 'weight_decay': 1.90838068681744e-05, 'kd_loss_factor': 0.4073479561667512}. Best is trial 10 with value: 74.39.\n",
            "[I 2023-10-16 20:54:06,965] Trial 49 finished with value: 72.21 and parameters: {'lr': 0.03824071910125278, 'momentum': 0.7486115727166007, 'weight_decay': 2.9536341988619054e-05, 'kd_loss_factor': 0.49189198723893385}. Best is trial 10 with value: 74.39.\n"
          ]
        },
        {
          "output_type": "stream",
          "name": "stdout",
          "text": [
            "Best trial: lr 0.04887146612242114, momentum 0.7826219116359754, weight_decay 1.0573054488478825e-05, kd_loss_factor 0.4997783417046702\n"
          ]
        }
      ]
    },
    {
      "cell_type": "code",
      "source": [
        "# %load_ext tensorboard\n"
      ],
      "metadata": {
        "id": "P5JDBEnHmLjF",
        "colab": {
          "base_uri": "https://localhost:8080/"
        },
        "outputId": "e4995f96-6e12-4a76-dff6-a6fc2412e404"
      },
      "execution_count": null,
      "outputs": [
        {
          "output_type": "stream",
          "name": "stdout",
          "text": [
            "The tensorboard extension is already loaded. To reload it, use:\n",
            "  %reload_ext tensorboard\n"
          ]
        }
      ]
    },
    {
      "cell_type": "code",
      "source": [
        "# %tensorboard --logdir ./run/logs\n"
      ],
      "metadata": {
        "id": "Q6YVu-EtmLmI",
        "colab": {
          "base_uri": "https://localhost:8080/",
          "height": 839
        },
        "outputId": "28a6d901-1587-40d5-aa86-f46451bf9a37"
      },
      "execution_count": null,
      "outputs": [
        {
          "output_type": "display_data",
          "data": {
            "text/plain": [
              "Reusing TensorBoard on port 6006 (pid 6905), started 0:27:37 ago. (Use '!kill 6905' to kill it.)"
            ]
          },
          "metadata": {}
        },
        {
          "output_type": "display_data",
          "data": {
            "text/plain": [
              "<IPython.core.display.Javascript object>"
            ],
            "application/javascript": [
              "\n",
              "        (async () => {\n",
              "            const url = new URL(await google.colab.kernel.proxyPort(6006, {'cache': true}));\n",
              "            url.searchParams.set('tensorboardColab', 'true');\n",
              "            const iframe = document.createElement('iframe');\n",
              "            iframe.src = url;\n",
              "            iframe.setAttribute('width', '100%');\n",
              "            iframe.setAttribute('height', '800');\n",
              "            iframe.setAttribute('frameborder', 0);\n",
              "            document.body.appendChild(iframe);\n",
              "        })();\n",
              "    "
            ]
          },
          "metadata": {}
        }
      ]
    },
    {
      "cell_type": "code",
      "source": [
        "# !pip freeze > requirements.txt\n"
      ],
      "metadata": {
        "id": "EhQLZKQjixqM"
      },
      "execution_count": null,
      "outputs": []
    },
    {
      "cell_type": "code",
      "source": [],
      "metadata": {
        "id": "wkinVbFriyJg"
      },
      "execution_count": null,
      "outputs": []
    }
  ]
}