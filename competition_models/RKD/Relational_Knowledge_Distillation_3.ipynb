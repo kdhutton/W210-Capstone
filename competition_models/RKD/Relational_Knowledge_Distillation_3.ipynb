{
  "nbformat": 4,
  "nbformat_minor": 0,
  "metadata": {
    "colab": {
      "provenance": [],
      "machine_shape": "hm",
      "gpuType": "T4"
    },
    "kernelspec": {
      "name": "python3",
      "display_name": "Python 3"
    },
    "language_info": {
      "name": "python"
    },
    "accelerator": "GPU"
  },
  "cells": [
    {
      "cell_type": "markdown",
      "source": [
        "Research Paper: https://arxiv.org/abs/1904.05068\n",
        "\n",
        "2019 paper\n",
        "\n",
        "Dataset: CIFAR 100\n",
        "\n",
        "\"Relational Knowledge Distillation\" introduces a novel perspective to knowledge distillation by emphasizing the importance of pairwise relationships in the feature space and using them to distill knowledge from teacher to student models."
      ],
      "metadata": {
        "id": "qq2q-2TODA_h"
      }
    },
    {
      "cell_type": "markdown",
      "source": [
        "Code Link: https://github.com/lenscloth/RKD\n",
        "\n",
        "\n"
      ],
      "metadata": {
        "id": "kwroujkHDA5t"
      }
    },
    {
      "cell_type": "code",
      "source": [
        "!pip install torch torchvision --quiet"
      ],
      "metadata": {
        "id": "YHQkY7wMZcxD"
      },
      "execution_count": 1,
      "outputs": []
    },
    {
      "cell_type": "code",
      "source": [
        "import torch\n",
        "import torch.nn as nn\n",
        "import torch.optim as optim\n",
        "import torch.nn.functional as F\n",
        "from torchvision import datasets, transforms, models\n",
        "from sklearn.metrics import precision_score, recall_score, f1_score, accuracy_score\n",
        "import matplotlib.pyplot as plt\n",
        "import numpy as np"
      ],
      "metadata": {
        "id": "s5TND27oZcuF"
      },
      "execution_count": 58,
      "outputs": []
    },
    {
      "cell_type": "code",
      "source": [
        "# Load Data - CIFAR10\n",
        "mean = [0.4914, 0.4822, 0.4465]\n",
        "std = [0.2471, 0.2435, 0.2616]\n",
        "\n",
        "\n",
        "train_transform = transforms.Compose([transforms.Pad(4),\n",
        "                                      transforms.RandomCrop(32),\n",
        "                                      transforms.RandomHorizontalFlip(),\n",
        "                                      transforms.ToTensor(),\n",
        "                                      transforms.Normalize(mean=mean, std=std)])\n",
        "\n",
        "test_transform = transforms.Compose([transforms.ToTensor(),\n",
        "                                transforms.Normalize(mean=mean, std=std)])\n",
        "train_set = datasets.CIFAR10(root='./data', train=True, download=True, transform=train_transform)\n",
        "test_set = datasets.CIFAR10(root='./data', train=False, download=True, transform=test_transform)\n",
        "\n",
        "train_loader = torch.utils.data.DataLoader(train_set, batch_size=64, shuffle=True)\n",
        "test_loader = torch.utils.data.DataLoader(test_set, batch_size=64, shuffle=False)"
      ],
      "metadata": {
        "colab": {
          "base_uri": "https://localhost:8080/"
        },
        "id": "-Btj4TOVZcqq",
        "outputId": "246dcd3b-ef22-4507-8c95-f244d56f69ea"
      },
      "execution_count": 46,
      "outputs": [
        {
          "output_type": "stream",
          "name": "stdout",
          "text": [
            "Files already downloaded and verified\n",
            "Files already downloaded and verified\n"
          ]
        }
      ]
    },
    {
      "cell_type": "markdown",
      "source": [
        "### Testing 1"
      ],
      "metadata": {
        "id": "ot34Vup9nm9V"
      }
    },
    {
      "cell_type": "code",
      "source": [
        "teacher = models.resnet50(num_classes=10)\n",
        "student = models.resnet50(num_classes=10)\n",
        "\n",
        "device = torch.device(\"cuda\" if torch.cuda.is_available() else \"cpu\")\n",
        "teacher.to(device)\n",
        "student.to(device)"
      ],
      "metadata": {
        "colab": {
          "base_uri": "https://localhost:8080/"
        },
        "id": "vZdssSS4Zcnf",
        "outputId": "14dbd2b2-f511-4383-d0b2-a22ff8eb7f9a"
      },
      "execution_count": 53,
      "outputs": [
        {
          "output_type": "execute_result",
          "data": {
            "text/plain": [
              "ResNet(\n",
              "  (conv1): Conv2d(3, 64, kernel_size=(7, 7), stride=(2, 2), padding=(3, 3), bias=False)\n",
              "  (bn1): BatchNorm2d(64, eps=1e-05, momentum=0.1, affine=True, track_running_stats=True)\n",
              "  (relu): ReLU(inplace=True)\n",
              "  (maxpool): MaxPool2d(kernel_size=3, stride=2, padding=1, dilation=1, ceil_mode=False)\n",
              "  (layer1): Sequential(\n",
              "    (0): Bottleneck(\n",
              "      (conv1): Conv2d(64, 64, kernel_size=(1, 1), stride=(1, 1), bias=False)\n",
              "      (bn1): BatchNorm2d(64, eps=1e-05, momentum=0.1, affine=True, track_running_stats=True)\n",
              "      (conv2): Conv2d(64, 64, kernel_size=(3, 3), stride=(1, 1), padding=(1, 1), bias=False)\n",
              "      (bn2): BatchNorm2d(64, eps=1e-05, momentum=0.1, affine=True, track_running_stats=True)\n",
              "      (conv3): Conv2d(64, 256, kernel_size=(1, 1), stride=(1, 1), bias=False)\n",
              "      (bn3): BatchNorm2d(256, eps=1e-05, momentum=0.1, affine=True, track_running_stats=True)\n",
              "      (relu): ReLU(inplace=True)\n",
              "      (downsample): Sequential(\n",
              "        (0): Conv2d(64, 256, kernel_size=(1, 1), stride=(1, 1), bias=False)\n",
              "        (1): BatchNorm2d(256, eps=1e-05, momentum=0.1, affine=True, track_running_stats=True)\n",
              "      )\n",
              "    )\n",
              "    (1): Bottleneck(\n",
              "      (conv1): Conv2d(256, 64, kernel_size=(1, 1), stride=(1, 1), bias=False)\n",
              "      (bn1): BatchNorm2d(64, eps=1e-05, momentum=0.1, affine=True, track_running_stats=True)\n",
              "      (conv2): Conv2d(64, 64, kernel_size=(3, 3), stride=(1, 1), padding=(1, 1), bias=False)\n",
              "      (bn2): BatchNorm2d(64, eps=1e-05, momentum=0.1, affine=True, track_running_stats=True)\n",
              "      (conv3): Conv2d(64, 256, kernel_size=(1, 1), stride=(1, 1), bias=False)\n",
              "      (bn3): BatchNorm2d(256, eps=1e-05, momentum=0.1, affine=True, track_running_stats=True)\n",
              "      (relu): ReLU(inplace=True)\n",
              "    )\n",
              "    (2): Bottleneck(\n",
              "      (conv1): Conv2d(256, 64, kernel_size=(1, 1), stride=(1, 1), bias=False)\n",
              "      (bn1): BatchNorm2d(64, eps=1e-05, momentum=0.1, affine=True, track_running_stats=True)\n",
              "      (conv2): Conv2d(64, 64, kernel_size=(3, 3), stride=(1, 1), padding=(1, 1), bias=False)\n",
              "      (bn2): BatchNorm2d(64, eps=1e-05, momentum=0.1, affine=True, track_running_stats=True)\n",
              "      (conv3): Conv2d(64, 256, kernel_size=(1, 1), stride=(1, 1), bias=False)\n",
              "      (bn3): BatchNorm2d(256, eps=1e-05, momentum=0.1, affine=True, track_running_stats=True)\n",
              "      (relu): ReLU(inplace=True)\n",
              "    )\n",
              "  )\n",
              "  (layer2): Sequential(\n",
              "    (0): Bottleneck(\n",
              "      (conv1): Conv2d(256, 128, kernel_size=(1, 1), stride=(1, 1), bias=False)\n",
              "      (bn1): BatchNorm2d(128, eps=1e-05, momentum=0.1, affine=True, track_running_stats=True)\n",
              "      (conv2): Conv2d(128, 128, kernel_size=(3, 3), stride=(2, 2), padding=(1, 1), bias=False)\n",
              "      (bn2): BatchNorm2d(128, eps=1e-05, momentum=0.1, affine=True, track_running_stats=True)\n",
              "      (conv3): Conv2d(128, 512, kernel_size=(1, 1), stride=(1, 1), bias=False)\n",
              "      (bn3): BatchNorm2d(512, eps=1e-05, momentum=0.1, affine=True, track_running_stats=True)\n",
              "      (relu): ReLU(inplace=True)\n",
              "      (downsample): Sequential(\n",
              "        (0): Conv2d(256, 512, kernel_size=(1, 1), stride=(2, 2), bias=False)\n",
              "        (1): BatchNorm2d(512, eps=1e-05, momentum=0.1, affine=True, track_running_stats=True)\n",
              "      )\n",
              "    )\n",
              "    (1): Bottleneck(\n",
              "      (conv1): Conv2d(512, 128, kernel_size=(1, 1), stride=(1, 1), bias=False)\n",
              "      (bn1): BatchNorm2d(128, eps=1e-05, momentum=0.1, affine=True, track_running_stats=True)\n",
              "      (conv2): Conv2d(128, 128, kernel_size=(3, 3), stride=(1, 1), padding=(1, 1), bias=False)\n",
              "      (bn2): BatchNorm2d(128, eps=1e-05, momentum=0.1, affine=True, track_running_stats=True)\n",
              "      (conv3): Conv2d(128, 512, kernel_size=(1, 1), stride=(1, 1), bias=False)\n",
              "      (bn3): BatchNorm2d(512, eps=1e-05, momentum=0.1, affine=True, track_running_stats=True)\n",
              "      (relu): ReLU(inplace=True)\n",
              "    )\n",
              "    (2): Bottleneck(\n",
              "      (conv1): Conv2d(512, 128, kernel_size=(1, 1), stride=(1, 1), bias=False)\n",
              "      (bn1): BatchNorm2d(128, eps=1e-05, momentum=0.1, affine=True, track_running_stats=True)\n",
              "      (conv2): Conv2d(128, 128, kernel_size=(3, 3), stride=(1, 1), padding=(1, 1), bias=False)\n",
              "      (bn2): BatchNorm2d(128, eps=1e-05, momentum=0.1, affine=True, track_running_stats=True)\n",
              "      (conv3): Conv2d(128, 512, kernel_size=(1, 1), stride=(1, 1), bias=False)\n",
              "      (bn3): BatchNorm2d(512, eps=1e-05, momentum=0.1, affine=True, track_running_stats=True)\n",
              "      (relu): ReLU(inplace=True)\n",
              "    )\n",
              "    (3): Bottleneck(\n",
              "      (conv1): Conv2d(512, 128, kernel_size=(1, 1), stride=(1, 1), bias=False)\n",
              "      (bn1): BatchNorm2d(128, eps=1e-05, momentum=0.1, affine=True, track_running_stats=True)\n",
              "      (conv2): Conv2d(128, 128, kernel_size=(3, 3), stride=(1, 1), padding=(1, 1), bias=False)\n",
              "      (bn2): BatchNorm2d(128, eps=1e-05, momentum=0.1, affine=True, track_running_stats=True)\n",
              "      (conv3): Conv2d(128, 512, kernel_size=(1, 1), stride=(1, 1), bias=False)\n",
              "      (bn3): BatchNorm2d(512, eps=1e-05, momentum=0.1, affine=True, track_running_stats=True)\n",
              "      (relu): ReLU(inplace=True)\n",
              "    )\n",
              "  )\n",
              "  (layer3): Sequential(\n",
              "    (0): Bottleneck(\n",
              "      (conv1): Conv2d(512, 256, kernel_size=(1, 1), stride=(1, 1), bias=False)\n",
              "      (bn1): BatchNorm2d(256, eps=1e-05, momentum=0.1, affine=True, track_running_stats=True)\n",
              "      (conv2): Conv2d(256, 256, kernel_size=(3, 3), stride=(2, 2), padding=(1, 1), bias=False)\n",
              "      (bn2): BatchNorm2d(256, eps=1e-05, momentum=0.1, affine=True, track_running_stats=True)\n",
              "      (conv3): Conv2d(256, 1024, kernel_size=(1, 1), stride=(1, 1), bias=False)\n",
              "      (bn3): BatchNorm2d(1024, eps=1e-05, momentum=0.1, affine=True, track_running_stats=True)\n",
              "      (relu): ReLU(inplace=True)\n",
              "      (downsample): Sequential(\n",
              "        (0): Conv2d(512, 1024, kernel_size=(1, 1), stride=(2, 2), bias=False)\n",
              "        (1): BatchNorm2d(1024, eps=1e-05, momentum=0.1, affine=True, track_running_stats=True)\n",
              "      )\n",
              "    )\n",
              "    (1): Bottleneck(\n",
              "      (conv1): Conv2d(1024, 256, kernel_size=(1, 1), stride=(1, 1), bias=False)\n",
              "      (bn1): BatchNorm2d(256, eps=1e-05, momentum=0.1, affine=True, track_running_stats=True)\n",
              "      (conv2): Conv2d(256, 256, kernel_size=(3, 3), stride=(1, 1), padding=(1, 1), bias=False)\n",
              "      (bn2): BatchNorm2d(256, eps=1e-05, momentum=0.1, affine=True, track_running_stats=True)\n",
              "      (conv3): Conv2d(256, 1024, kernel_size=(1, 1), stride=(1, 1), bias=False)\n",
              "      (bn3): BatchNorm2d(1024, eps=1e-05, momentum=0.1, affine=True, track_running_stats=True)\n",
              "      (relu): ReLU(inplace=True)\n",
              "    )\n",
              "    (2): Bottleneck(\n",
              "      (conv1): Conv2d(1024, 256, kernel_size=(1, 1), stride=(1, 1), bias=False)\n",
              "      (bn1): BatchNorm2d(256, eps=1e-05, momentum=0.1, affine=True, track_running_stats=True)\n",
              "      (conv2): Conv2d(256, 256, kernel_size=(3, 3), stride=(1, 1), padding=(1, 1), bias=False)\n",
              "      (bn2): BatchNorm2d(256, eps=1e-05, momentum=0.1, affine=True, track_running_stats=True)\n",
              "      (conv3): Conv2d(256, 1024, kernel_size=(1, 1), stride=(1, 1), bias=False)\n",
              "      (bn3): BatchNorm2d(1024, eps=1e-05, momentum=0.1, affine=True, track_running_stats=True)\n",
              "      (relu): ReLU(inplace=True)\n",
              "    )\n",
              "    (3): Bottleneck(\n",
              "      (conv1): Conv2d(1024, 256, kernel_size=(1, 1), stride=(1, 1), bias=False)\n",
              "      (bn1): BatchNorm2d(256, eps=1e-05, momentum=0.1, affine=True, track_running_stats=True)\n",
              "      (conv2): Conv2d(256, 256, kernel_size=(3, 3), stride=(1, 1), padding=(1, 1), bias=False)\n",
              "      (bn2): BatchNorm2d(256, eps=1e-05, momentum=0.1, affine=True, track_running_stats=True)\n",
              "      (conv3): Conv2d(256, 1024, kernel_size=(1, 1), stride=(1, 1), bias=False)\n",
              "      (bn3): BatchNorm2d(1024, eps=1e-05, momentum=0.1, affine=True, track_running_stats=True)\n",
              "      (relu): ReLU(inplace=True)\n",
              "    )\n",
              "    (4): Bottleneck(\n",
              "      (conv1): Conv2d(1024, 256, kernel_size=(1, 1), stride=(1, 1), bias=False)\n",
              "      (bn1): BatchNorm2d(256, eps=1e-05, momentum=0.1, affine=True, track_running_stats=True)\n",
              "      (conv2): Conv2d(256, 256, kernel_size=(3, 3), stride=(1, 1), padding=(1, 1), bias=False)\n",
              "      (bn2): BatchNorm2d(256, eps=1e-05, momentum=0.1, affine=True, track_running_stats=True)\n",
              "      (conv3): Conv2d(256, 1024, kernel_size=(1, 1), stride=(1, 1), bias=False)\n",
              "      (bn3): BatchNorm2d(1024, eps=1e-05, momentum=0.1, affine=True, track_running_stats=True)\n",
              "      (relu): ReLU(inplace=True)\n",
              "    )\n",
              "    (5): Bottleneck(\n",
              "      (conv1): Conv2d(1024, 256, kernel_size=(1, 1), stride=(1, 1), bias=False)\n",
              "      (bn1): BatchNorm2d(256, eps=1e-05, momentum=0.1, affine=True, track_running_stats=True)\n",
              "      (conv2): Conv2d(256, 256, kernel_size=(3, 3), stride=(1, 1), padding=(1, 1), bias=False)\n",
              "      (bn2): BatchNorm2d(256, eps=1e-05, momentum=0.1, affine=True, track_running_stats=True)\n",
              "      (conv3): Conv2d(256, 1024, kernel_size=(1, 1), stride=(1, 1), bias=False)\n",
              "      (bn3): BatchNorm2d(1024, eps=1e-05, momentum=0.1, affine=True, track_running_stats=True)\n",
              "      (relu): ReLU(inplace=True)\n",
              "    )\n",
              "  )\n",
              "  (layer4): Sequential(\n",
              "    (0): Bottleneck(\n",
              "      (conv1): Conv2d(1024, 512, kernel_size=(1, 1), stride=(1, 1), bias=False)\n",
              "      (bn1): BatchNorm2d(512, eps=1e-05, momentum=0.1, affine=True, track_running_stats=True)\n",
              "      (conv2): Conv2d(512, 512, kernel_size=(3, 3), stride=(2, 2), padding=(1, 1), bias=False)\n",
              "      (bn2): BatchNorm2d(512, eps=1e-05, momentum=0.1, affine=True, track_running_stats=True)\n",
              "      (conv3): Conv2d(512, 2048, kernel_size=(1, 1), stride=(1, 1), bias=False)\n",
              "      (bn3): BatchNorm2d(2048, eps=1e-05, momentum=0.1, affine=True, track_running_stats=True)\n",
              "      (relu): ReLU(inplace=True)\n",
              "      (downsample): Sequential(\n",
              "        (0): Conv2d(1024, 2048, kernel_size=(1, 1), stride=(2, 2), bias=False)\n",
              "        (1): BatchNorm2d(2048, eps=1e-05, momentum=0.1, affine=True, track_running_stats=True)\n",
              "      )\n",
              "    )\n",
              "    (1): Bottleneck(\n",
              "      (conv1): Conv2d(2048, 512, kernel_size=(1, 1), stride=(1, 1), bias=False)\n",
              "      (bn1): BatchNorm2d(512, eps=1e-05, momentum=0.1, affine=True, track_running_stats=True)\n",
              "      (conv2): Conv2d(512, 512, kernel_size=(3, 3), stride=(1, 1), padding=(1, 1), bias=False)\n",
              "      (bn2): BatchNorm2d(512, eps=1e-05, momentum=0.1, affine=True, track_running_stats=True)\n",
              "      (conv3): Conv2d(512, 2048, kernel_size=(1, 1), stride=(1, 1), bias=False)\n",
              "      (bn3): BatchNorm2d(2048, eps=1e-05, momentum=0.1, affine=True, track_running_stats=True)\n",
              "      (relu): ReLU(inplace=True)\n",
              "    )\n",
              "    (2): Bottleneck(\n",
              "      (conv1): Conv2d(2048, 512, kernel_size=(1, 1), stride=(1, 1), bias=False)\n",
              "      (bn1): BatchNorm2d(512, eps=1e-05, momentum=0.1, affine=True, track_running_stats=True)\n",
              "      (conv2): Conv2d(512, 512, kernel_size=(3, 3), stride=(1, 1), padding=(1, 1), bias=False)\n",
              "      (bn2): BatchNorm2d(512, eps=1e-05, momentum=0.1, affine=True, track_running_stats=True)\n",
              "      (conv3): Conv2d(512, 2048, kernel_size=(1, 1), stride=(1, 1), bias=False)\n",
              "      (bn3): BatchNorm2d(2048, eps=1e-05, momentum=0.1, affine=True, track_running_stats=True)\n",
              "      (relu): ReLU(inplace=True)\n",
              "    )\n",
              "  )\n",
              "  (avgpool): AdaptiveAvgPool2d(output_size=(1, 1))\n",
              "  (fc): Linear(in_features=2048, out_features=10, bias=True)\n",
              ")"
            ]
          },
          "metadata": {},
          "execution_count": 53
        }
      ]
    },
    {
      "cell_type": "code",
      "source": [
        "# Define the RKD distance and angle losses\n",
        "def pairwise_distances(x, y):\n",
        "    \"\"\"\n",
        "    Compute pairwise distances between the vectors in x and y\n",
        "    Args:\n",
        "    - x: A tensor of shape (batch_size, feature_dim)\n",
        "    - y: A tensor of shape (batch_size, feature_dim)\n",
        "    Returns:\n",
        "    - pairwise_distances: Tensor of shape (batch_size, batch_size)\n",
        "    \"\"\"\n",
        "    inner_product = torch.mm(x, y.t())\n",
        "    x_norm = torch.norm(x, dim=1, keepdim=True)\n",
        "    y_norm = torch.norm(y, dim=1, keepdim=True)\n",
        "    distances = x_norm**2 - 2.0 * inner_product + y_norm.t()**2\n",
        "    return distances\n",
        "\n",
        "def DD_loss(student, teacher):\n",
        "    \"\"\"\n",
        "    Distance-wise Distillation Loss\n",
        "    \"\"\"\n",
        "    student_distances = pairwise_distances(student, student)\n",
        "    teacher_distances = pairwise_distances(teacher, teacher)\n",
        "\n",
        "    # We scale down the teacher distances to make it in range with the student's\n",
        "    teacher_distances = teacher_distances / teacher_distances.detach().data.mean()\n",
        "    student_distances = student_distances / student_distances.detach().data.mean()\n",
        "\n",
        "    loss = F.mse_loss(student_distances, teacher_distances)\n",
        "    return loss\n",
        "\n",
        "def pairwise_angles(x, y):\n",
        "    \"\"\"\n",
        "    Compute pairwise angles between the vectors in x and y\n",
        "    \"\"\"\n",
        "    norm_x = torch.norm(x, dim=1, keepdim=True)\n",
        "    norm_y = torch.norm(y, dim=1, keepdim=True)\n",
        "    normalized_x = x / norm_x\n",
        "    normalized_y = y / norm_y\n",
        "    cosine_similarity = torch.mm(normalized_x, normalized_y.t())\n",
        "    return cosine_similarity\n",
        "\n",
        "def AD_loss(student, teacher):\n",
        "    \"\"\"\n",
        "    Angle-wise Distillation Loss\n",
        "    \"\"\"\n",
        "    student_angles = pairwise_angles(student, student)\n",
        "    teacher_angles = pairwise_angles(teacher, teacher)\n",
        "\n",
        "    loss = F.mse_loss(student_angles, teacher_angles)\n",
        "    return loss\n"
      ],
      "metadata": {
        "id": "FMmUhPNubx7J"
      },
      "execution_count": 54,
      "outputs": []
    },
    {
      "cell_type": "code",
      "source": [
        "# Optimizer & Criterion\n",
        "optimizer = optim.SGD(student.parameters(), lr=0.01, momentum=0.9)\n",
        "criterion = nn.CrossEntropyLoss()"
      ],
      "metadata": {
        "id": "MJY1n15BbSw-"
      },
      "execution_count": 55,
      "outputs": []
    },
    {
      "cell_type": "code",
      "source": [
        "# Training Loop\n",
        "epochs = 20\n",
        "alpha = 0.5  # Balance factor between DD and AD\n",
        "logs = {'train_loss': [], 'test_loss': [], 'train_acc': [], 'test_acc': [], 'train_f1': [], 'test_f1': []}\n",
        "\n",
        "for epoch in range(epochs):\n",
        "    student.train()\n",
        "    total_loss, total_correct, total_samples = 0, 0, len(train_set)\n",
        "    all_preds, all_labels = [], []\n",
        "\n",
        "    for batch_idx, (data, targets) in enumerate(train_loader):\n",
        "        data, targets = data.to(device), targets.to(device)\n",
        "\n",
        "        # Get teacher and student outputs\n",
        "        with torch.no_grad():\n",
        "            teacher_outputs = teacher(data)\n",
        "        student_outputs = student(data)\n",
        "\n",
        "        # Get the RKD losses\n",
        "        dd_loss = DD_loss(student_outputs, teacher_outputs)\n",
        "        ad_loss = AD_loss(student_outputs, teacher_outputs)\n",
        "\n",
        "        # Classification loss\n",
        "        loss = criterion(student_outputs, targets)\n",
        "\n",
        "        # Total loss\n",
        "        rkd_loss = alpha * dd_loss + (1 - alpha) * ad_loss\n",
        "        total_loss += loss.item() + rkd_loss.item()\n",
        "\n",
        "        # Accuracy\n",
        "        _, predicted = student_outputs.max(1)\n",
        "        total_correct += predicted.eq(targets).sum().item()\n",
        "\n",
        "        # Metrics\n",
        "        all_preds.extend(predicted.cpu().numpy())\n",
        "        all_labels.extend(targets.cpu().numpy())\n",
        "\n",
        "        optimizer.zero_grad()\n",
        "        final_loss = loss + rkd_loss\n",
        "        final_loss.backward()\n",
        "        optimizer.step()\n",
        "\n",
        "    # precision = precision_score(all_labels, all_preds, average='macro')\n",
        "    precision = precision_score(all_labels, all_preds, average='macro', zero_division=1)\n",
        "    recall = recall_score(all_labels, all_preds, average='macro')\n",
        "    f1 = f1_score(all_labels, all_preds, average='macro')\n",
        "    accuracy = total_correct / total_samples\n",
        "\n",
        "    logs['train_loss'].append(total_loss)\n",
        "    logs['train_acc'].append(accuracy)\n",
        "    logs['train_f1'].append(f1)\n",
        "\n",
        "    print(f\"Epoch {epoch+1}/{epochs}\")\n",
        "    print(\"-----------------------------\")\n",
        "    print(f\"Train Loss: {total_loss:.4f}, Accuracy: {accuracy:.4f}, F1 Score: {f1:.4f}, Precision: {precision:.4f}, Recall: {recall:.4f}\")\n",
        "\n",
        "    # Test Loop\n",
        "    student.eval()\n",
        "    total_loss, total_correct, total_samples = 0, 0, len(test_set)\n",
        "    all_preds, all_labels = [], []\n",
        "\n",
        "    with torch.no_grad():\n",
        "        for batch_idx, (data, targets) in enumerate(test_loader):\n",
        "            data, targets = data.to(device), targets.to(device)\n",
        "\n",
        "            outputs = student(data)\n",
        "            loss = criterion(outputs, targets)\n",
        "            total_loss += loss.item()\n",
        "\n",
        "            _, predicted = outputs.max(1)\n",
        "            total_correct += predicted.eq(targets).sum().item()\n",
        "\n",
        "            all_preds.extend(predicted.cpu().numpy())\n",
        "            all_labels.extend(targets.cpu().numpy())\n",
        "\n",
        "    precision = precision_score(all_labels, all_preds, average='macro')\n",
        "    recall = recall_score(all_labels, all_preds, average='macro')\n",
        "    f1 = f1_score(all_labels, all_preds, average='macro')\n",
        "    accuracy = total_correct / total_samples\n",
        "\n",
        "    logs['test_loss'].append(total_loss)\n",
        "    logs['test_acc'].append(accuracy)\n",
        "    logs['test_f1'].append(f1)\n",
        "\n",
        "    print(f\"Test Loss: {total_loss:.4f}, Accuracy: {accuracy:.4f}, F1 Score: {f1:.4f}, Precision: {precision:.4f}, Recall: {recall:.4f}\")\n",
        "    print(\"\\n\")"
      ],
      "metadata": {
        "colab": {
          "base_uri": "https://localhost:8080/"
        },
        "id": "DtmleDIcZcid",
        "outputId": "c8fa5a42-eceb-4d28-e365-85a696d83c9a"
      },
      "execution_count": 56,
      "outputs": [
        {
          "output_type": "stream",
          "name": "stdout",
          "text": [
            "Epoch 1/20\n",
            "-----------------------------\n",
            "Train Loss: 6489.8609, Accuracy: 0.1087, F1 Score: 0.1077, Precision: 0.1084, Recall: 0.1087\n"
          ]
        },
        {
          "output_type": "stream",
          "name": "stderr",
          "text": [
            "/usr/local/lib/python3.10/dist-packages/sklearn/metrics/_classification.py:1344: UndefinedMetricWarning: Precision is ill-defined and being set to 0.0 in labels with no predicted samples. Use `zero_division` parameter to control this behavior.\n",
            "  _warn_prf(average, modifier, msg_start, len(result))\n"
          ]
        },
        {
          "output_type": "stream",
          "name": "stdout",
          "text": [
            "Test Loss: 1083.9245, Accuracy: 0.0965, F1 Score: 0.0358, Precision: 0.0309, Recall: 0.0965\n",
            "\n",
            "\n",
            "Epoch 2/20\n",
            "-----------------------------\n",
            "Train Loss: 9303.1096, Accuracy: 0.1014, F1 Score: 0.0995, Precision: 0.1016, Recall: 0.1014\n"
          ]
        },
        {
          "output_type": "stream",
          "name": "stderr",
          "text": [
            "/usr/local/lib/python3.10/dist-packages/sklearn/metrics/_classification.py:1344: UndefinedMetricWarning: Precision is ill-defined and being set to 0.0 in labels with no predicted samples. Use `zero_division` parameter to control this behavior.\n",
            "  _warn_prf(average, modifier, msg_start, len(result))\n"
          ]
        },
        {
          "output_type": "stream",
          "name": "stdout",
          "text": [
            "Test Loss: 6840.7806, Accuracy: 0.0857, F1 Score: 0.0241, Precision: 0.1455, Recall: 0.0857\n",
            "\n",
            "\n",
            "Epoch 3/20\n",
            "-----------------------------\n",
            "Train Loss: nan, Accuracy: 0.1020, F1 Score: 0.0964, Precision: 0.1016, Recall: 0.1020\n"
          ]
        },
        {
          "output_type": "stream",
          "name": "stderr",
          "text": [
            "/usr/local/lib/python3.10/dist-packages/sklearn/metrics/_classification.py:1344: UndefinedMetricWarning: Precision is ill-defined and being set to 0.0 in labels with no predicted samples. Use `zero_division` parameter to control this behavior.\n",
            "  _warn_prf(average, modifier, msg_start, len(result))\n"
          ]
        },
        {
          "output_type": "stream",
          "name": "stdout",
          "text": [
            "Test Loss: nan, Accuracy: 0.1000, F1 Score: 0.0182, Precision: 0.0100, Recall: 0.1000\n",
            "\n",
            "\n",
            "Epoch 4/20\n",
            "-----------------------------\n",
            "Train Loss: nan, Accuracy: 0.1000, F1 Score: 0.0182, Precision: 0.9100, Recall: 0.1000\n"
          ]
        },
        {
          "output_type": "stream",
          "name": "stderr",
          "text": [
            "/usr/local/lib/python3.10/dist-packages/sklearn/metrics/_classification.py:1344: UndefinedMetricWarning: Precision is ill-defined and being set to 0.0 in labels with no predicted samples. Use `zero_division` parameter to control this behavior.\n",
            "  _warn_prf(average, modifier, msg_start, len(result))\n"
          ]
        },
        {
          "output_type": "stream",
          "name": "stdout",
          "text": [
            "Test Loss: nan, Accuracy: 0.1000, F1 Score: 0.0182, Precision: 0.0100, Recall: 0.1000\n",
            "\n",
            "\n",
            "Epoch 5/20\n",
            "-----------------------------\n",
            "Train Loss: nan, Accuracy: 0.1000, F1 Score: 0.0182, Precision: 0.9100, Recall: 0.1000\n"
          ]
        },
        {
          "output_type": "stream",
          "name": "stderr",
          "text": [
            "/usr/local/lib/python3.10/dist-packages/sklearn/metrics/_classification.py:1344: UndefinedMetricWarning: Precision is ill-defined and being set to 0.0 in labels with no predicted samples. Use `zero_division` parameter to control this behavior.\n",
            "  _warn_prf(average, modifier, msg_start, len(result))\n"
          ]
        },
        {
          "output_type": "stream",
          "name": "stdout",
          "text": [
            "Test Loss: nan, Accuracy: 0.1000, F1 Score: 0.0182, Precision: 0.0100, Recall: 0.1000\n",
            "\n",
            "\n",
            "Epoch 6/20\n",
            "-----------------------------\n",
            "Train Loss: nan, Accuracy: 0.1000, F1 Score: 0.0182, Precision: 0.9100, Recall: 0.1000\n"
          ]
        },
        {
          "output_type": "stream",
          "name": "stderr",
          "text": [
            "/usr/local/lib/python3.10/dist-packages/sklearn/metrics/_classification.py:1344: UndefinedMetricWarning: Precision is ill-defined and being set to 0.0 in labels with no predicted samples. Use `zero_division` parameter to control this behavior.\n",
            "  _warn_prf(average, modifier, msg_start, len(result))\n"
          ]
        },
        {
          "output_type": "stream",
          "name": "stdout",
          "text": [
            "Test Loss: nan, Accuracy: 0.1000, F1 Score: 0.0182, Precision: 0.0100, Recall: 0.1000\n",
            "\n",
            "\n",
            "Epoch 7/20\n",
            "-----------------------------\n",
            "Train Loss: nan, Accuracy: 0.1000, F1 Score: 0.0182, Precision: 0.9100, Recall: 0.1000\n"
          ]
        },
        {
          "output_type": "stream",
          "name": "stderr",
          "text": [
            "/usr/local/lib/python3.10/dist-packages/sklearn/metrics/_classification.py:1344: UndefinedMetricWarning: Precision is ill-defined and being set to 0.0 in labels with no predicted samples. Use `zero_division` parameter to control this behavior.\n",
            "  _warn_prf(average, modifier, msg_start, len(result))\n"
          ]
        },
        {
          "output_type": "stream",
          "name": "stdout",
          "text": [
            "Test Loss: nan, Accuracy: 0.1000, F1 Score: 0.0182, Precision: 0.0100, Recall: 0.1000\n",
            "\n",
            "\n",
            "Epoch 8/20\n",
            "-----------------------------\n",
            "Train Loss: nan, Accuracy: 0.1000, F1 Score: 0.0182, Precision: 0.9100, Recall: 0.1000\n"
          ]
        },
        {
          "output_type": "stream",
          "name": "stderr",
          "text": [
            "/usr/local/lib/python3.10/dist-packages/sklearn/metrics/_classification.py:1344: UndefinedMetricWarning: Precision is ill-defined and being set to 0.0 in labels with no predicted samples. Use `zero_division` parameter to control this behavior.\n",
            "  _warn_prf(average, modifier, msg_start, len(result))\n"
          ]
        },
        {
          "output_type": "stream",
          "name": "stdout",
          "text": [
            "Test Loss: nan, Accuracy: 0.1000, F1 Score: 0.0182, Precision: 0.0100, Recall: 0.1000\n",
            "\n",
            "\n",
            "Epoch 9/20\n",
            "-----------------------------\n",
            "Train Loss: nan, Accuracy: 0.1000, F1 Score: 0.0182, Precision: 0.9100, Recall: 0.1000\n"
          ]
        },
        {
          "output_type": "stream",
          "name": "stderr",
          "text": [
            "/usr/local/lib/python3.10/dist-packages/sklearn/metrics/_classification.py:1344: UndefinedMetricWarning: Precision is ill-defined and being set to 0.0 in labels with no predicted samples. Use `zero_division` parameter to control this behavior.\n",
            "  _warn_prf(average, modifier, msg_start, len(result))\n"
          ]
        },
        {
          "output_type": "stream",
          "name": "stdout",
          "text": [
            "Test Loss: nan, Accuracy: 0.1000, F1 Score: 0.0182, Precision: 0.0100, Recall: 0.1000\n",
            "\n",
            "\n",
            "Epoch 10/20\n",
            "-----------------------------\n",
            "Train Loss: nan, Accuracy: 0.1000, F1 Score: 0.0182, Precision: 0.9100, Recall: 0.1000\n"
          ]
        },
        {
          "output_type": "stream",
          "name": "stderr",
          "text": [
            "/usr/local/lib/python3.10/dist-packages/sklearn/metrics/_classification.py:1344: UndefinedMetricWarning: Precision is ill-defined and being set to 0.0 in labels with no predicted samples. Use `zero_division` parameter to control this behavior.\n",
            "  _warn_prf(average, modifier, msg_start, len(result))\n"
          ]
        },
        {
          "output_type": "stream",
          "name": "stdout",
          "text": [
            "Test Loss: nan, Accuracy: 0.1000, F1 Score: 0.0182, Precision: 0.0100, Recall: 0.1000\n",
            "\n",
            "\n",
            "Epoch 11/20\n",
            "-----------------------------\n",
            "Train Loss: nan, Accuracy: 0.1000, F1 Score: 0.0182, Precision: 0.9100, Recall: 0.1000\n"
          ]
        },
        {
          "output_type": "stream",
          "name": "stderr",
          "text": [
            "/usr/local/lib/python3.10/dist-packages/sklearn/metrics/_classification.py:1344: UndefinedMetricWarning: Precision is ill-defined and being set to 0.0 in labels with no predicted samples. Use `zero_division` parameter to control this behavior.\n",
            "  _warn_prf(average, modifier, msg_start, len(result))\n"
          ]
        },
        {
          "output_type": "stream",
          "name": "stdout",
          "text": [
            "Test Loss: nan, Accuracy: 0.1000, F1 Score: 0.0182, Precision: 0.0100, Recall: 0.1000\n",
            "\n",
            "\n",
            "Epoch 12/20\n",
            "-----------------------------\n",
            "Train Loss: nan, Accuracy: 0.1000, F1 Score: 0.0182, Precision: 0.9100, Recall: 0.1000\n"
          ]
        },
        {
          "output_type": "stream",
          "name": "stderr",
          "text": [
            "/usr/local/lib/python3.10/dist-packages/sklearn/metrics/_classification.py:1344: UndefinedMetricWarning: Precision is ill-defined and being set to 0.0 in labels with no predicted samples. Use `zero_division` parameter to control this behavior.\n",
            "  _warn_prf(average, modifier, msg_start, len(result))\n"
          ]
        },
        {
          "output_type": "stream",
          "name": "stdout",
          "text": [
            "Test Loss: nan, Accuracy: 0.1000, F1 Score: 0.0182, Precision: 0.0100, Recall: 0.1000\n",
            "\n",
            "\n",
            "Epoch 13/20\n",
            "-----------------------------\n",
            "Train Loss: nan, Accuracy: 0.1000, F1 Score: 0.0182, Precision: 0.9100, Recall: 0.1000\n"
          ]
        },
        {
          "output_type": "stream",
          "name": "stderr",
          "text": [
            "/usr/local/lib/python3.10/dist-packages/sklearn/metrics/_classification.py:1344: UndefinedMetricWarning: Precision is ill-defined and being set to 0.0 in labels with no predicted samples. Use `zero_division` parameter to control this behavior.\n",
            "  _warn_prf(average, modifier, msg_start, len(result))\n"
          ]
        },
        {
          "output_type": "stream",
          "name": "stdout",
          "text": [
            "Test Loss: nan, Accuracy: 0.1000, F1 Score: 0.0182, Precision: 0.0100, Recall: 0.1000\n",
            "\n",
            "\n",
            "Epoch 14/20\n",
            "-----------------------------\n",
            "Train Loss: nan, Accuracy: 0.1000, F1 Score: 0.0182, Precision: 0.9100, Recall: 0.1000\n"
          ]
        },
        {
          "output_type": "stream",
          "name": "stderr",
          "text": [
            "/usr/local/lib/python3.10/dist-packages/sklearn/metrics/_classification.py:1344: UndefinedMetricWarning: Precision is ill-defined and being set to 0.0 in labels with no predicted samples. Use `zero_division` parameter to control this behavior.\n",
            "  _warn_prf(average, modifier, msg_start, len(result))\n"
          ]
        },
        {
          "output_type": "stream",
          "name": "stdout",
          "text": [
            "Test Loss: nan, Accuracy: 0.1000, F1 Score: 0.0182, Precision: 0.0100, Recall: 0.1000\n",
            "\n",
            "\n",
            "Epoch 15/20\n",
            "-----------------------------\n",
            "Train Loss: nan, Accuracy: 0.1000, F1 Score: 0.0182, Precision: 0.9100, Recall: 0.1000\n"
          ]
        },
        {
          "output_type": "stream",
          "name": "stderr",
          "text": [
            "/usr/local/lib/python3.10/dist-packages/sklearn/metrics/_classification.py:1344: UndefinedMetricWarning: Precision is ill-defined and being set to 0.0 in labels with no predicted samples. Use `zero_division` parameter to control this behavior.\n",
            "  _warn_prf(average, modifier, msg_start, len(result))\n"
          ]
        },
        {
          "output_type": "stream",
          "name": "stdout",
          "text": [
            "Test Loss: nan, Accuracy: 0.1000, F1 Score: 0.0182, Precision: 0.0100, Recall: 0.1000\n",
            "\n",
            "\n",
            "Epoch 16/20\n",
            "-----------------------------\n",
            "Train Loss: nan, Accuracy: 0.1000, F1 Score: 0.0182, Precision: 0.9100, Recall: 0.1000\n"
          ]
        },
        {
          "output_type": "stream",
          "name": "stderr",
          "text": [
            "/usr/local/lib/python3.10/dist-packages/sklearn/metrics/_classification.py:1344: UndefinedMetricWarning: Precision is ill-defined and being set to 0.0 in labels with no predicted samples. Use `zero_division` parameter to control this behavior.\n",
            "  _warn_prf(average, modifier, msg_start, len(result))\n"
          ]
        },
        {
          "output_type": "stream",
          "name": "stdout",
          "text": [
            "Test Loss: nan, Accuracy: 0.1000, F1 Score: 0.0182, Precision: 0.0100, Recall: 0.1000\n",
            "\n",
            "\n",
            "Epoch 17/20\n",
            "-----------------------------\n",
            "Train Loss: nan, Accuracy: 0.1000, F1 Score: 0.0182, Precision: 0.9100, Recall: 0.1000\n"
          ]
        },
        {
          "output_type": "stream",
          "name": "stderr",
          "text": [
            "/usr/local/lib/python3.10/dist-packages/sklearn/metrics/_classification.py:1344: UndefinedMetricWarning: Precision is ill-defined and being set to 0.0 in labels with no predicted samples. Use `zero_division` parameter to control this behavior.\n",
            "  _warn_prf(average, modifier, msg_start, len(result))\n"
          ]
        },
        {
          "output_type": "stream",
          "name": "stdout",
          "text": [
            "Test Loss: nan, Accuracy: 0.1000, F1 Score: 0.0182, Precision: 0.0100, Recall: 0.1000\n",
            "\n",
            "\n",
            "Epoch 18/20\n",
            "-----------------------------\n",
            "Train Loss: nan, Accuracy: 0.1000, F1 Score: 0.0182, Precision: 0.9100, Recall: 0.1000\n"
          ]
        },
        {
          "output_type": "stream",
          "name": "stderr",
          "text": [
            "/usr/local/lib/python3.10/dist-packages/sklearn/metrics/_classification.py:1344: UndefinedMetricWarning: Precision is ill-defined and being set to 0.0 in labels with no predicted samples. Use `zero_division` parameter to control this behavior.\n",
            "  _warn_prf(average, modifier, msg_start, len(result))\n"
          ]
        },
        {
          "output_type": "stream",
          "name": "stdout",
          "text": [
            "Test Loss: nan, Accuracy: 0.1000, F1 Score: 0.0182, Precision: 0.0100, Recall: 0.1000\n",
            "\n",
            "\n",
            "Epoch 19/20\n",
            "-----------------------------\n",
            "Train Loss: nan, Accuracy: 0.1000, F1 Score: 0.0182, Precision: 0.9100, Recall: 0.1000\n"
          ]
        },
        {
          "output_type": "stream",
          "name": "stderr",
          "text": [
            "/usr/local/lib/python3.10/dist-packages/sklearn/metrics/_classification.py:1344: UndefinedMetricWarning: Precision is ill-defined and being set to 0.0 in labels with no predicted samples. Use `zero_division` parameter to control this behavior.\n",
            "  _warn_prf(average, modifier, msg_start, len(result))\n"
          ]
        },
        {
          "output_type": "stream",
          "name": "stdout",
          "text": [
            "Test Loss: nan, Accuracy: 0.1000, F1 Score: 0.0182, Precision: 0.0100, Recall: 0.1000\n",
            "\n",
            "\n",
            "Epoch 20/20\n",
            "-----------------------------\n",
            "Train Loss: nan, Accuracy: 0.1000, F1 Score: 0.0182, Precision: 0.9100, Recall: 0.1000\n",
            "Test Loss: nan, Accuracy: 0.1000, F1 Score: 0.0182, Precision: 0.0100, Recall: 0.1000\n",
            "\n",
            "\n"
          ]
        },
        {
          "output_type": "stream",
          "name": "stderr",
          "text": [
            "/usr/local/lib/python3.10/dist-packages/sklearn/metrics/_classification.py:1344: UndefinedMetricWarning: Precision is ill-defined and being set to 0.0 in labels with no predicted samples. Use `zero_division` parameter to control this behavior.\n",
            "  _warn_prf(average, modifier, msg_start, len(result))\n"
          ]
        }
      ]
    },
    {
      "cell_type": "code",
      "source": [
        "# Plotting\n",
        "def plot_graphs(logs, metric):\n",
        "    plt.plot(logs[f'train_{metric}'], label=f'train {metric}')\n",
        "    plt.plot(logs[f'test_{metric}'], label=f'test {metric}')\n",
        "    plt.legend(loc='upper right')\n",
        "    plt.title(metric)\n",
        "    plt.show()\n",
        "\n",
        "\n",
        "plot_graphs(logs, 'loss')\n",
        "plot_graphs(logs, 'acc')\n",
        "plot_graphs(logs, 'f1')\n"
      ],
      "metadata": {
        "colab": {
          "base_uri": "https://localhost:8080/",
          "height": 1000
        },
        "id": "thv_hZ9Jbj68",
        "outputId": "a6691d88-6ef6-4902-a316-174a28c59f22"
      },
      "execution_count": 57,
      "outputs": [
        {
          "output_type": "display_data",
          "data": {
            "text/plain": [
              "<Figure size 640x480 with 1 Axes>"
            ],
            "image/png": "[encoded data removed]"
          },
          "metadata": {}
        },
        {
          "output_type": "display_data",
          "data": {
            "text/plain": [
              "<Figure size 640x480 with 1 Axes>"
            ],
            "image/png": "[encoded data removed]"
          },
          "metadata": {}
        },
        {
          "output_type": "display_data",
          "data": {
            "text/plain": [
              "<Figure size 640x480 with 1 Axes>"
            ],
            "image/png": "[encoded data removed]"
          },
          "metadata": {}
        }
      ]
    },
    {
      "cell_type": "markdown",
      "source": [
        "### Testing 2"
      ],
      "metadata": {
        "id": "EKtgz4QLnAX4"
      }
    },
    {
      "cell_type": "code",
      "source": [
        "# Define RKD Losses\n",
        "class RKDDistanceLoss(nn.Module):\n",
        "    def __init__(self):\n",
        "        super(RKDDistanceLoss, self).__init__()\n",
        "\n",
        "    def forward(self, student, teacher):\n",
        "        return F.pairwise_distance(student, teacher).mean()\n",
        "\n",
        "\n",
        "class RKDAngleLoss(nn.Module):\n",
        "    def __init__(self):\n",
        "        super(RKDAngleLoss, self).__init__()\n",
        "\n",
        "    def forward(self, student, teacher):\n",
        "        # Normalize vectors\n",
        "        student = F.normalize(student, dim=1)\n",
        "        teacher = F.normalize(teacher, dim=1)\n",
        "\n",
        "        # Get dot product between vectors\n",
        "        dot = torch.matmul(student, teacher.t())\n",
        "        return torch.mean(torch.acos(dot) ** 2)\n"
      ],
      "metadata": {
        "id": "QB-87IEziL59"
      },
      "execution_count": 38,
      "outputs": []
    },
    {
      "cell_type": "code",
      "source": [
        "# # Load data\n",
        "# transform = transforms.Compose([\n",
        "#     transforms.RandomHorizontalFlip(),\n",
        "#     transforms.RandomCrop(32, 4),\n",
        "#     transforms.ToTensor(),\n",
        "#     transforms.Normalize((0.5, 0.5, 0.5), (0.5, 0.5, 0.5))\n",
        "# ])\n",
        "\n",
        "# train_loader = torch.utils.data.DataLoader(\n",
        "#     datasets.CIFAR10(root='./data', train=True, download=True, transform=transform),\n",
        "#     batch_size=128, shuffle=True)\n",
        "\n",
        "# test_loader = torch.utils.data.DataLoader(\n",
        "#     datasets.CIFAR10(root='./data', train=False, download=True, transform=transform),\n",
        "#     batch_size=128, shuffle=False)\n",
        "\n"
      ],
      "metadata": {
        "id": "_N8KOZASiean"
      },
      "execution_count": 26,
      "outputs": []
    },
    {
      "cell_type": "code",
      "source": [
        "# teacher = models.resnet18(pretrained=True, num_classes=10)\n",
        "# student = models.resnet18(pretrained=False, num_classes=10)\n",
        "# teacher = models.resnet50(num_classes=10)\n",
        "# student = models.resnet50(num_classes=10)\n",
        "# student = models.resnet18(num_classes=10)\n",
        "\n",
        "teacher = models.resnet18(num_classes=10)\n",
        "student = models.resnet18(num_classes=10)\n",
        "\n",
        "device = torch.device(\"cuda\" if torch.cuda.is_available() else \"cpu\")\n",
        "teacher.to(device)\n",
        "student.to(device)\n",
        "\n",
        "\n",
        "# Training and Evaluation Utilities\n",
        "optimizer = optim.Adam(student.parameters(), lr=1e-3)\n",
        "criterion = nn.CrossEntropyLoss()"
      ],
      "metadata": {
        "id": "hydHSUL9iOF2"
      },
      "execution_count": 42,
      "outputs": []
    },
    {
      "cell_type": "code",
      "source": [
        "def train_epoch(train_loader, student, teacher, optimizer, criterion):\n",
        "    student.train()\n",
        "    teacher.eval()\n",
        "\n",
        "    total_loss = 0.0\n",
        "    correct = 0\n",
        "    total = 0\n",
        "\n",
        "    for batch_idx, (data, target) in enumerate(train_loader):\n",
        "        data, target = data.cuda(), target.cuda()\n",
        "\n",
        "        optimizer.zero_grad()\n",
        "        student_outputs = student(data)\n",
        "        with torch.no_grad():\n",
        "            teacher_outputs = teacher(data)\n",
        "\n",
        "        loss = criterion(student_outputs, target) + 0.1 * (RKDDistanceLoss()(student_outputs, teacher_outputs) + RKDAngleLoss()(student_outputs, teacher_outputs))\n",
        "\n",
        "        loss.backward()\n",
        "        optimizer.step()\n",
        "\n",
        "        total_loss += loss.item()\n",
        "        _, predicted = student_outputs.max(1)\n",
        "        total += target.size(0)\n",
        "        correct += predicted.eq(target).sum().item()\n",
        "\n",
        "    avg_loss = total_loss / (batch_idx + 1)\n",
        "    accuracy = 100. * correct / total\n",
        "\n",
        "    return avg_loss, accuracy\n",
        "\n",
        "def evaluate(loader, model, criterion):\n",
        "    model.eval()\n",
        "    total_loss = 0.0\n",
        "    correct = 0\n",
        "    total = 0\n",
        "    all_preds = []\n",
        "    all_targets = []\n",
        "\n",
        "    with torch.no_grad():\n",
        "        for batch_idx, (data, target) in enumerate(loader):\n",
        "            data, target = data.cuda(), target.cuda()\n",
        "\n",
        "            outputs = model(data)\n",
        "            loss = criterion(outputs, target)\n",
        "\n",
        "            total_loss += loss.item()\n",
        "            _, predicted = outputs.max(1)\n",
        "            total += target.size(0)\n",
        "            correct += predicted.eq(target).sum().item()\n",
        "\n",
        "            all_preds.extend(predicted.cpu().numpy())\n",
        "            all_targets.extend(target.cpu().numpy())\n",
        "\n",
        "    avg_loss = total_loss / (batch_idx + 1)\n",
        "    accuracy = 100. * correct / total\n",
        "\n",
        "    precision = precision_score(all_targets, all_preds, average='macro')\n",
        "    recall = recall_score(all_targets, all_preds, average='macro')\n",
        "    f1 = f1_score(all_targets, all_preds, average='macro')\n",
        "\n",
        "    return avg_loss, accuracy, precision, recall, f1"
      ],
      "metadata": {
        "id": "phYCOu2knvkJ"
      },
      "execution_count": null,
      "outputs": []
    },
    {
      "cell_type": "code",
      "source": [
        "# Training loop\n",
        "epochs = 20\n",
        "train_losses = []\n",
        "train_accuracies = []\n",
        "test_losses = []\n",
        "test_accuracies = []\n",
        "test_precisions = []\n",
        "test_recalls = []\n",
        "test_f1s = []\n",
        "\n",
        "for epoch in range(epochs):\n",
        "    train_loss, train_accuracy = train_epoch(train_loader, student, teacher, optimizer, criterion)\n",
        "    test_loss, test_accuracy, test_precision, test_recall, test_f1 = evaluate(test_loader, student, criterion)\n",
        "\n",
        "    train_losses.append(train_loss)\n",
        "    train_accuracies.append(train_accuracy)\n",
        "    test_losses.append(test_loss)\n",
        "    test_accuracies.append(test_accuracy)\n",
        "    test_precisions.append(test_precision)\n",
        "    test_recalls.append(test_recall)\n",
        "    test_f1s.append(test_f1)\n",
        "\n",
        "    print(f\"Epoch: {epoch+1}/{epochs}\")\n",
        "    print(f\"Train Loss: {train_loss:.4f}, Train Accuracy: {train_accuracy:.4f}\")\n",
        "    print(f\"Test Loss: {test_loss:.4f}, Test Accuracy: {test_accuracy:.4f}, Test Precision: {test_precision:.4f}, Test Recall: {test_recall:.4f}, Test F1: {test_f1:.4f}\")\n",
        "\n",
        "\n"
      ],
      "metadata": {
        "colab": {
          "base_uri": "https://localhost:8080/"
        },
        "id": "9JOfyb73dXx-",
        "outputId": "836ae99f-c2af-4ceb-a523-46e7803724ac"
      },
      "execution_count": 43,
      "outputs": [
        {
          "output_type": "stream",
          "name": "stdout",
          "text": [
            "Epoch: 1/20\n",
            "Train Loss: 2.0857, Train Accuracy: 41.7180\n",
            "Test Loss: 1.3752, Test Accuracy: 55.2400, Test Precision: 0.5558, Test Recall: 0.5524, Test F1: 0.5382\n",
            "Epoch: 2/20\n",
            "Train Loss: 1.7819, Train Accuracy: 57.2740\n",
            "Test Loss: 1.1695, Test Accuracy: 64.2300, Test Precision: 0.6436, Test Recall: 0.6423, Test F1: 0.6366\n",
            "Epoch: 3/20\n",
            "Train Loss: 1.6333, Train Accuracy: 64.1300\n",
            "Test Loss: 1.0331, Test Accuracy: 68.5000, Test Precision: 0.6877, Test Recall: 0.6850, Test F1: 0.6825\n",
            "Epoch: 4/20\n",
            "Train Loss: 1.5370, Train Accuracy: 68.2220\n",
            "Test Loss: 0.9677, Test Accuracy: 71.0500, Test Precision: 0.7209, Test Recall: 0.7105, Test F1: 0.7097\n",
            "Epoch: 5/20\n",
            "Train Loss: 1.4715, Train Accuracy: 70.9340\n",
            "Test Loss: 0.9036, Test Accuracy: 73.2700, Test Precision: 0.7335, Test Recall: 0.7327, Test F1: 0.7309\n",
            "Epoch: 6/20\n",
            "Train Loss: 1.4162, Train Accuracy: 73.0320\n",
            "Test Loss: 0.8539, Test Accuracy: 74.8000, Test Precision: 0.7499, Test Recall: 0.7480, Test F1: 0.7441\n",
            "Epoch: 7/20\n",
            "Train Loss: 1.3736, Train Accuracy: 74.7560\n",
            "Test Loss: 0.8960, Test Accuracy: 73.5100, Test Precision: 0.7470, Test Recall: 0.7351, Test F1: 0.7350\n",
            "Epoch: 8/20\n",
            "Train Loss: 1.3389, Train Accuracy: 76.2100\n",
            "Test Loss: 0.8435, Test Accuracy: 75.6400, Test Precision: 0.7598, Test Recall: 0.7564, Test F1: 0.7498\n",
            "Epoch: 9/20\n",
            "Train Loss: 1.3084, Train Accuracy: 77.4760\n",
            "Test Loss: 0.7619, Test Accuracy: 77.5300, Test Precision: 0.7783, Test Recall: 0.7753, Test F1: 0.7746\n",
            "Epoch: 10/20\n",
            "Train Loss: 1.2860, Train Accuracy: 78.2660\n",
            "Test Loss: 0.7977, Test Accuracy: 77.3300, Test Precision: 0.7838, Test Recall: 0.7733, Test F1: 0.7737\n",
            "Epoch: 11/20\n",
            "Train Loss: 1.2585, Train Accuracy: 79.1480\n",
            "Test Loss: 0.7082, Test Accuracy: 80.1900, Test Precision: 0.8065, Test Recall: 0.8019, Test F1: 0.8020\n",
            "Epoch: 12/20\n",
            "Train Loss: 1.2401, Train Accuracy: 80.1780\n",
            "Test Loss: 0.7371, Test Accuracy: 79.6000, Test Precision: 0.7967, Test Recall: 0.7960, Test F1: 0.7949\n",
            "Epoch: 13/20\n",
            "Train Loss: 1.2196, Train Accuracy: 80.7400\n",
            "Test Loss: 0.7456, Test Accuracy: 78.5800, Test Precision: 0.7897, Test Recall: 0.7858, Test F1: 0.7841\n",
            "Epoch: 14/20\n",
            "Train Loss: 1.2027, Train Accuracy: 81.1640\n",
            "Test Loss: 0.6942, Test Accuracy: 80.1600, Test Precision: 0.8095, Test Recall: 0.8016, Test F1: 0.8025\n",
            "Epoch: 15/20\n",
            "Train Loss: 1.1855, Train Accuracy: 82.1780\n",
            "Test Loss: 0.7022, Test Accuracy: 80.7400, Test Precision: 0.8086, Test Recall: 0.8074, Test F1: 0.8055\n",
            "Epoch: 16/20\n",
            "Train Loss: 1.1721, Train Accuracy: 82.3600\n",
            "Test Loss: 0.6649, Test Accuracy: 81.5000, Test Precision: 0.8154, Test Recall: 0.8150, Test F1: 0.8146\n",
            "Epoch: 17/20\n",
            "Train Loss: 1.1563, Train Accuracy: 83.1420\n",
            "Test Loss: 0.6892, Test Accuracy: 80.9400, Test Precision: 0.8085, Test Recall: 0.8094, Test F1: 0.8076\n",
            "Epoch: 18/20\n",
            "Train Loss: 1.1461, Train Accuracy: 83.6040\n",
            "Test Loss: 0.6481, Test Accuracy: 81.8900, Test Precision: 0.8197, Test Recall: 0.8189, Test F1: 0.8186\n",
            "Epoch: 19/20\n",
            "Train Loss: 1.1269, Train Accuracy: 84.3420\n",
            "Test Loss: 0.6431, Test Accuracy: 81.9900, Test Precision: 0.8191, Test Recall: 0.8199, Test F1: 0.8185\n",
            "Epoch: 20/20\n",
            "Train Loss: 1.1222, Train Accuracy: 84.3920\n",
            "Test Loss: 0.6405, Test Accuracy: 82.5800, Test Precision: 0.8252, Test Recall: 0.8258, Test F1: 0.8242\n"
          ]
        }
      ]
    },
    {
      "cell_type": "code",
      "source": [
        "# Plotting the metrics\n",
        "plt.figure(figsize=(12, 5))\n",
        "\n",
        "plt.subplot(1, 2, 1)\n",
        "plt.plot(train_losses, label='Train')\n",
        "plt.plot(test_losses, label='Test')\n",
        "plt.title('Loss over Epochs')\n",
        "plt.xlabel('Epochs')\n",
        "plt.ylabel('Loss')\n",
        "plt.legend()\n",
        "\n",
        "plt.subplot(1, 2, 2)\n",
        "plt.plot(train_accuracies, label='Train')\n",
        "plt.plot(test_accuracies, label='Test')\n",
        "plt.title('Accuracy over Epochs')\n",
        "plt.xlabel('Epochs')\n",
        "plt.ylabel('Accuracy')\n",
        "plt.legend()\n",
        "\n",
        "plt.tight_layout()\n",
        "plt.show()\n"
      ],
      "metadata": {
        "colab": {
          "base_uri": "https://localhost:8080/",
          "height": 448
        },
        "id": "0Z9Q7KG-dZvS",
        "outputId": "36a0684c-15b9-472f-e0ff-495d35c7533a"
      },
      "execution_count": 44,
      "outputs": [
        {
          "output_type": "display_data",
          "data": {
            "text/plain": [
              "<Figure size 1200x500 with 2 Axes>"
            ],
            "image/png": "[encoded data removed]"
          },
          "metadata": {}
        }
      ]
    }
  ]
}