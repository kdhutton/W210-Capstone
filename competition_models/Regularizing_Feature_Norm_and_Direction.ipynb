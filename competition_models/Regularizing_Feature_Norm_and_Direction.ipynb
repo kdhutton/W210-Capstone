{
  "nbformat": 4,
  "nbformat_minor": 0,
  "metadata": {
    "colab": {
      "provenance": [],
      "machine_shape": "hm",
      "gpuType": "T4"
    },
    "kernelspec": {
      "name": "python3",
      "display_name": "Python 3"
    },
    "language_info": {
      "name": "python"
    },
    "accelerator": "GPU"
  },
  "cells": [
    {
      "cell_type": "markdown",
      "source": [
        "__Improving Knowledge Distillation via Regularizing Feature Norm and Direction__\n"
      ],
      "metadata": {
        "id": "gC01ztE9Yyrq"
      }
    },
    {
      "cell_type": "markdown",
      "source": [
        "Paper: https://arxiv.org/abs/2305.17007v1"
      ],
      "metadata": {
        "id": "BlKqOjGlUut1"
      }
    },
    {
      "cell_type": "markdown",
      "source": [
        "Code: https://github.com/wangyz1608/knowledge-distillation-via-nd"
      ],
      "metadata": {
        "id": "gnH14cw0Uuqd"
      }
    },
    {
      "cell_type": "markdown",
      "source": [
        "## 1. Baseline"
      ],
      "metadata": {
        "id": "xrizJpOriSRy"
      }
    },
    {
      "cell_type": "code",
      "source": [
        "!pip install torchsummaryX"
      ],
      "metadata": {
        "colab": {
          "base_uri": "https://localhost:8080/"
        },
        "id": "QKXDmOnfUucD",
        "outputId": "40875bc9-ec56-4a9a-d63b-c383ea24dd54"
      },
      "execution_count": 1,
      "outputs": [
        {
          "output_type": "stream",
          "name": "stdout",
          "text": [
            "Collecting torchsummaryX\n",
            "  Downloading torchsummaryX-1.3.0-py3-none-any.whl (3.6 kB)\n",
            "Requirement already satisfied: torch in /usr/local/lib/python3.10/dist-packages (from torchsummaryX) (2.0.1+cu118)\n",
            "Requirement already satisfied: numpy in /usr/local/lib/python3.10/dist-packages (from torchsummaryX) (1.23.5)\n",
            "Requirement already satisfied: pandas in /usr/local/lib/python3.10/dist-packages (from torchsummaryX) (1.5.3)\n",
            "Requirement already satisfied: python-dateutil>=2.8.1 in /usr/local/lib/python3.10/dist-packages (from pandas->torchsummaryX) (2.8.2)\n",
            "Requirement already satisfied: pytz>=2020.1 in /usr/local/lib/python3.10/dist-packages (from pandas->torchsummaryX) (2023.3.post1)\n",
            "Requirement already satisfied: filelock in /usr/local/lib/python3.10/dist-packages (from torch->torchsummaryX) (3.12.4)\n",
            "Requirement already satisfied: typing-extensions in /usr/local/lib/python3.10/dist-packages (from torch->torchsummaryX) (4.5.0)\n",
            "Requirement already satisfied: sympy in /usr/local/lib/python3.10/dist-packages (from torch->torchsummaryX) (1.12)\n",
            "Requirement already satisfied: networkx in /usr/local/lib/python3.10/dist-packages (from torch->torchsummaryX) (3.1)\n",
            "Requirement already satisfied: jinja2 in /usr/local/lib/python3.10/dist-packages (from torch->torchsummaryX) (3.1.2)\n",
            "Requirement already satisfied: triton==2.0.0 in /usr/local/lib/python3.10/dist-packages (from torch->torchsummaryX) (2.0.0)\n",
            "Requirement already satisfied: cmake in /usr/local/lib/python3.10/dist-packages (from triton==2.0.0->torch->torchsummaryX) (3.27.6)\n",
            "Requirement already satisfied: lit in /usr/local/lib/python3.10/dist-packages (from triton==2.0.0->torch->torchsummaryX) (17.0.2)\n",
            "Requirement already satisfied: six>=1.5 in /usr/local/lib/python3.10/dist-packages (from python-dateutil>=2.8.1->pandas->torchsummaryX) (1.16.0)\n",
            "Requirement already satisfied: MarkupSafe>=2.0 in /usr/local/lib/python3.10/dist-packages (from jinja2->torch->torchsummaryX) (2.1.3)\n",
            "Requirement already satisfied: mpmath>=0.19 in /usr/local/lib/python3.10/dist-packages (from sympy->torch->torchsummaryX) (1.3.0)\n",
            "Installing collected packages: torchsummaryX\n",
            "Successfully installed torchsummaryX-1.3.0\n"
          ]
        }
      ]
    },
    {
      "cell_type": "code",
      "source": [
        "import torch\n",
        "import torchvision\n",
        "from torch import nn\n",
        "from torch.utils.data import DataLoader\n",
        "import torch.backends.cudnn as cudnn\n",
        "from torchsummaryX import summary\n",
        "import logging\n",
        "import time\n",
        "import random\n",
        "import warnings\n",
        "from pathlib import Path\n",
        "import numpy as np\n",
        "from collections import OrderedDict\n",
        "from torch.utils.tensorboard import SummaryWriter\n",
        "\n",
        "import torchvision.models as Models\n",
        "from torchvision.datasets import CIFAR10, CIFAR100\n",
        "from torchvision import transforms\n",
        "from sklearn.metrics import precision_score, recall_score, f1_score, accuracy_score\n",
        "\n",
        "import matplotlib.pyplot as plt\n",
        "from sklearn.metrics import roc_curve, auc\n",
        "from sklearn.preprocessing import label_binarize\n"
      ],
      "metadata": {
        "id": "gRZ9tR4zUuYX"
      },
      "execution_count": 49,
      "outputs": []
    },
    {
      "cell_type": "code",
      "source": [
        "def train(model, train_dataloader, optimizer, criterion):\n",
        "    train_loss = AverageMeter()\n",
        "    train_error = AverageMeter()\n",
        "\n",
        "    model.train()\n",
        "\n",
        "    for images, labels in train_dataloader:\n",
        "        images, labels = images.cuda(), labels.cuda()\n",
        "\n",
        "        optimizer.zero_grad()\n",
        "        emb, logits = model(images, embed=True)  # Assuming the model returns embeddings and logits\n",
        "\n",
        "        loss = criterion(logits, labels)\n",
        "\n",
        "        _, pred = logits.data.cpu().topk(1, dim=1)\n",
        "        batch_size = images.size(0)\n",
        "        train_error.update(torch.ne(pred.squeeze(), labels.cpu()).float().sum().item() / batch_size, batch_size)\n",
        "        train_loss.update(loss.item(), batch_size)\n",
        "\n",
        "        loss.backward()\n",
        "        optimizer.step()\n",
        "\n",
        "    return train_loss.avg, train_error.avg\n",
        "\n",
        "def test(model, test_dataloader, criterion):\n",
        "    test_loss = AverageMeter()\n",
        "    test_error = AverageMeter()\n",
        "\n",
        "    model.eval()\n",
        "\n",
        "    with torch.no_grad():\n",
        "        for images, labels in test_dataloader:\n",
        "            images, labels = images.cuda(), labels.cuda()\n",
        "\n",
        "            logits = model(images)\n",
        "            loss = criterion(logits, labels)\n",
        "\n",
        "            _, pred = logits.data.cpu().topk(1, dim=1)\n",
        "            batch_size = images.size(0)\n",
        "            test_error.update(torch.ne(pred.squeeze(), labels.cpu()).float().sum().item() / batch_size, batch_size)\n",
        "            test_loss.update(loss.item(), batch_size)\n",
        "\n",
        "    return test_loss.avg, test_error.avg\n",
        "\n",
        "def epoch_loop(model, train_set, test_set, args):\n",
        "    # DataLoader setup\n",
        "    train_loader = DataLoader(train_set, batch_size=args.batch_size, shuffle=True, num_workers=args.workers)\n",
        "    test_loader = DataLoader(test_set, batch_size=args.batch_size, shuffle=False, num_workers=args.workers)\n",
        "\n",
        "    device = \"cuda\" if torch.cuda.is_available() else \"cpu\"\n",
        "    model = nn.DataParallel(model, device_ids=args.gpus)\n",
        "    model.to(device)\n",
        "\n",
        "    criterion = nn.CrossEntropyLoss().to(device)\n",
        "    optimizer = torch.optim.SGD(params=model.parameters(), lr=args.lr, momentum=args.momentum, weight_decay=args.weight_decay)\n",
        "\n",
        "    best_error = float('inf')\n",
        "    for epoch in range(args.epochs):\n",
        "        train_loss, train_error = train(model, train_loader, optimizer, criterion)\n",
        "        test_loss, test_error = test(model, test_loader, criterion)\n",
        "\n",
        "        # (Optional) Save model if it achieves better error rate\n",
        "        if test_error < best_error:\n",
        "            best_error = test_error\n",
        "            torch.save(model.state_dict(), 'best_model.pth')\n",
        "\n",
        "        print(f\"Epoch {epoch+1}/{args.epochs} - Train Loss: {train_loss:.4f}, Train Error: {train_error:.4f}, Test Loss: {test_loss:.4f}, Test Error: {test_error:.4f}\")\n",
        "\n",
        "# epoch_loop(model=model, train_set=train_set, test_set=test_set, args=args)\n"
      ],
      "metadata": {
        "id": "s7KZ3nFjU-Ox"
      },
      "execution_count": 50,
      "outputs": []
    },
    {
      "cell_type": "code",
      "source": [
        "def calculate_metrics(y_true, y_pred):\n",
        "    accuracy = accuracy_score(y_true, y_pred)\n",
        "    recall = recall_score(y_true, y_pred, average='macro')\n",
        "    precision = precision_score(y_true, y_pred, average='macro')\n",
        "    f1 = f1_score(y_true, y_pred, average='macro')\n",
        "\n",
        "    return accuracy, recall, precision, f1\n"
      ],
      "metadata": {
        "id": "ZrrtEaJyc5G-"
      },
      "execution_count": 51,
      "outputs": []
    },
    {
      "cell_type": "code",
      "source": [
        "class Args:\n",
        "    model_name = \"resnet18\"\n",
        "    model_weights = \"\"\n",
        "    dataset = \"cifar10\"\n",
        "    epochs = 10\n",
        "    batch_size = 64\n",
        "    workers = 2\n",
        "    lr = 0.1\n",
        "    momentum = 0.9\n",
        "    weight_decay = 5e-4\n",
        "    validate = False\n",
        "    gpus = [0]  # Only one GPU in Colab\n",
        "    seed = None\n",
        "    resume = None\n",
        "    save_dir = \"./run\"\n",
        "\n",
        "args = Args()"
      ],
      "metadata": {
        "id": "SDtHqdK2UuUo"
      },
      "execution_count": 52,
      "outputs": []
    },
    {
      "cell_type": "code",
      "source": [
        "\n",
        "# Adjustments for CIFAR10 data loading\n",
        "def CIFAR10_data():\n",
        "    transform = transforms.Compose([\n",
        "        transforms.RandomCrop(32, padding=4),\n",
        "        transforms.RandomHorizontalFlip(),\n",
        "        transforms.ToTensor(),\n",
        "        transforms.Normalize((0.4914, 0.4822, 0.4465), (0.2023, 0.1994, 0.2010))\n",
        "    ])\n",
        "    train_set = CIFAR10(root='./data', train=True, download=True, transform=transform)\n",
        "    test_set = CIFAR10(root='./data', train=False, download=True, transform=transform)\n",
        "    num_class = 10\n",
        "    return train_set, test_set, num_class\n",
        "\n",
        "# Adjust the CIFAR data loading part\n",
        "if args.dataset == 'cifar10':\n",
        "    train_set, test_set, num_class = CIFAR10_data()\n",
        "elif args.dataset == 'cifar100':\n",
        "    # ... similar function for CIFAR100\n",
        "    pass\n",
        "else:\n",
        "    print(\"No Dataset!\")"
      ],
      "metadata": {
        "colab": {
          "base_uri": "https://localhost:8080/"
        },
        "id": "2Z4TNEazUuRN",
        "outputId": "0853966a-6a9c-47c3-bf35-7aa7a69d9976"
      },
      "execution_count": 53,
      "outputs": [
        {
          "output_type": "stream",
          "name": "stdout",
          "text": [
            "Files already downloaded and verified\n",
            "Files already downloaded and verified\n"
          ]
        }
      ]
    },
    {
      "cell_type": "code",
      "source": [
        "class AverageMeter:\n",
        "    \"\"\"Computes and stores the average and current value\"\"\"\n",
        "    def __init__(self):\n",
        "        self.reset()\n",
        "\n",
        "    def reset(self):\n",
        "        self.val = 0\n",
        "        self.avg = 0\n",
        "        self.sum = 0\n",
        "        self.count = 0\n",
        "\n",
        "    def update(self, val, n=1):\n",
        "        self.val = val\n",
        "        self.sum += val * n\n",
        "        self.count += n\n",
        "        self.avg = self.sum / self.count\n",
        "\n",
        "def train(model, train_dataloader, optimizer, criterion):\n",
        "    train_loss = AverageMeter()\n",
        "    train_error = AverageMeter()\n",
        "\n",
        "    model.train()\n",
        "\n",
        "    for images, labels in train_dataloader:\n",
        "        images, labels = images.cuda(), labels.cuda()\n",
        "\n",
        "        optimizer.zero_grad()\n",
        "        outputs = model(images)\n",
        "        loss = criterion(outputs, labels)\n",
        "\n",
        "        _, pred = outputs.data.cpu().topk(1, dim=1)\n",
        "        batch_size = images.size(0)\n",
        "        train_error.update(torch.ne(pred.squeeze(), labels.cpu()).float().sum().item() / batch_size, batch_size)\n",
        "        train_loss.update(loss.item(), batch_size)\n",
        "\n",
        "        loss.backward()\n",
        "        optimizer.step()\n",
        "\n",
        "    return train_loss.avg, train_error.avg\n",
        "\n",
        "def test(model, test_dataloader, criterion):\n",
        "\n",
        "    test_loss = AverageMeter()\n",
        "    test_error = AverageMeter()\n",
        "\n",
        "    model.eval()\n",
        "\n",
        "    with torch.no_grad():\n",
        "        for images, labels in test_dataloader:\n",
        "            images, labels = images.cuda(), labels.cuda()\n",
        "\n",
        "            outputs = model(images)\n",
        "            loss = criterion(outputs, labels)\n",
        "\n",
        "            _, pred = outputs.data.cpu().topk(1, dim=1)\n",
        "            batch_size = images.size(0)\n",
        "            test_error.update(torch.ne(pred.squeeze(), labels.cpu()).float().sum().item() / batch_size, batch_size)\n",
        "            test_loss.update(loss.item(), batch_size)\n",
        "\n",
        "    return test_loss.avg, test_error.avg\n",
        "\n",
        "def epoch_loop(model, train_set, test_set, args):\n",
        "    # DataLoader setup\n",
        "    train_loader = DataLoader(train_set, batch_size=args.batch_size, shuffle=True, num_workers=args.workers)\n",
        "    test_loader = DataLoader(test_set, batch_size=args.batch_size, shuffle=False, num_workers=args.workers)\n",
        "\n",
        "    device = \"cuda\" if torch.cuda.is_available() else \"cpu\"\n",
        "    model = nn.DataParallel(model, device_ids=args.gpus)\n",
        "    model.to(device)\n",
        "\n",
        "    criterion = nn.CrossEntropyLoss().to(device)\n",
        "    optimizer = torch.optim.SGD(params=model.parameters(), lr=args.lr, momentum=args.momentum, weight_decay=args.weight_decay)\n",
        "\n",
        "    best_error = float('inf')\n",
        "\n",
        "    train_accuracies = []\n",
        "    test_accuracies = []\n",
        "    train_losses = []\n",
        "    test_losses = []\n",
        "\n",
        "    all_labels = []\n",
        "    all_predictions = []\n",
        "    for epoch in range(args.epochs):\n",
        "\n",
        "        train_loss, train_error = train(model, train_loader, optimizer, criterion)\n",
        "        test_loss, test_error = test(model, test_loader, criterion)\n",
        "\n",
        "        train_accuracies.append(1 - train_error)\n",
        "        test_accuracies.append(1 - test_error)\n",
        "        train_losses.append(train_loss)\n",
        "        test_losses.append(test_loss)\n",
        "\n",
        "        train_accuracy = accuracy_score(all_train_labels, all_train_predictions)\n",
        "        test_accuracy = accuracy_score(all_test_labels, all_test_predictions)\n",
        "\n",
        "        # train_precision = precision_score(all_train_labels, all_train_predictions, average='macro')\n",
        "        # test_precision = precision_score(all_test_labels, all_test_predictions, average='macro')\n",
        "\n",
        "        # train_recall = recall_score(all_train_labels, all_train_predictions, average='macro')\n",
        "        # test_recall = recall_score(all_test_labels, all_test_predictions, average='macro')\n",
        "\n",
        "        # train_f1 = f1_score(all_train_labels, all_train_predictions, average='macro')\n",
        "        # test_f1 = f1_score(all_test_labels, all_test_predictions, average='macro')\n",
        "\n",
        "        train_accuracies.append(train_accuracy)\n",
        "        test_accuracies.append(test_accuracy)\n",
        "\n",
        "        train_losses.append(train_loss)\n",
        "        test_losses.append(test_loss)\n",
        "\n",
        "        if test_error < best_error:\n",
        "            best_error = test_error\n",
        "            torch.save(model.state_dict(), 'best_model.pth')\n",
        "\n",
        "        # print(f\"Epoch {epoch+1}/{args.epochs} - Train Accuracy: {train_accuracy:.4f}, Train Precision: {train_precision:.4f}, Train Recall: {train_recall:.4f}, Train F1: {train_f1:.4f}\")\n",
        "        # print(f\"Epoch {epoch+1}/{args.epochs} - Test Accuracy: {test_accuracy:.4f}, Test Precision: {test_precision:.4f}, Test Recall: {test_recall:.4f}, Test F1: {test_f1:.4f}\")\n",
        "\n",
        "        print(f\"Epoch {epoch+1}/{args.epochs} - Train Loss: {train_loss:.4f}, Train Error: {train_error:.4f}, Test Loss: {test_loss:.4f}, Test Error: {test_error:.4f}\")\n"
      ],
      "metadata": {
        "id": "SGG6MZTvXquK"
      },
      "execution_count": 54,
      "outputs": []
    },
    {
      "cell_type": "code",
      "source": [
        "all_train_labels = []\n",
        "all_train_predictions = []\n",
        "\n",
        "all_test_labels = []\n",
        "all_test_predictions = []\n",
        "\n",
        "train_accuracies = []\n",
        "test_accuracies = []\n",
        "\n",
        "train_losses = []\n",
        "test_losses = []"
      ],
      "metadata": {
        "id": "VWI9t9BwgMZM"
      },
      "execution_count": 55,
      "outputs": []
    },
    {
      "cell_type": "code",
      "source": [
        "model = torchvision.models.resnet18(num_classes=num_class).cuda()\n",
        "\n",
        "epoch_loop(model=model, train_set=train_set, test_set=test_set, args=args)\n"
      ],
      "metadata": {
        "colab": {
          "base_uri": "https://localhost:8080/"
        },
        "id": "izOUAQqWku0t",
        "outputId": "ac877b34-3e47-48f8-b9c6-ba8bc769a02e"
      },
      "execution_count": 56,
      "outputs": [
        {
          "output_type": "stream",
          "name": "stdout",
          "text": [
            "Epoch 1/10 - Train Loss: 2.0591, Train Error: 0.7017, Test Loss: 1.6580, Test Error: 0.6311\n"
          ]
        },
        {
          "output_type": "stream",
          "name": "stderr",
          "text": [
            "/usr/local/lib/python3.10/dist-packages/numpy/lib/function_base.py:518: RuntimeWarning: Mean of empty slice.\n",
            "  avg = a.mean(axis, **keepdims_kw)\n",
            "/usr/local/lib/python3.10/dist-packages/numpy/core/_methods.py:190: RuntimeWarning: invalid value encountered in double_scalars\n",
            "  ret = ret.dtype.type(ret / rcount)\n",
            "/usr/local/lib/python3.10/dist-packages/numpy/lib/function_base.py:518: RuntimeWarning: Mean of empty slice.\n",
            "  avg = a.mean(axis, **keepdims_kw)\n",
            "/usr/local/lib/python3.10/dist-packages/numpy/core/_methods.py:190: RuntimeWarning: invalid value encountered in double_scalars\n",
            "  ret = ret.dtype.type(ret / rcount)\n"
          ]
        },
        {
          "output_type": "stream",
          "name": "stdout",
          "text": [
            "Epoch 2/10 - Train Loss: 1.5544, Train Error: 0.5732, Test Loss: 1.4906, Test Error: 0.5540\n"
          ]
        },
        {
          "output_type": "stream",
          "name": "stderr",
          "text": [
            "/usr/local/lib/python3.10/dist-packages/numpy/lib/function_base.py:518: RuntimeWarning: Mean of empty slice.\n",
            "  avg = a.mean(axis, **keepdims_kw)\n",
            "/usr/local/lib/python3.10/dist-packages/numpy/core/_methods.py:190: RuntimeWarning: invalid value encountered in double_scalars\n",
            "  ret = ret.dtype.type(ret / rcount)\n",
            "/usr/local/lib/python3.10/dist-packages/numpy/lib/function_base.py:518: RuntimeWarning: Mean of empty slice.\n",
            "  avg = a.mean(axis, **keepdims_kw)\n",
            "/usr/local/lib/python3.10/dist-packages/numpy/core/_methods.py:190: RuntimeWarning: invalid value encountered in double_scalars\n",
            "  ret = ret.dtype.type(ret / rcount)\n"
          ]
        },
        {
          "output_type": "stream",
          "name": "stdout",
          "text": [
            "Epoch 3/10 - Train Loss: 1.3569, Train Error: 0.4893, Test Loss: 1.3069, Test Error: 0.4599\n"
          ]
        },
        {
          "output_type": "stream",
          "name": "stderr",
          "text": [
            "/usr/local/lib/python3.10/dist-packages/numpy/lib/function_base.py:518: RuntimeWarning: Mean of empty slice.\n",
            "  avg = a.mean(axis, **keepdims_kw)\n",
            "/usr/local/lib/python3.10/dist-packages/numpy/core/_methods.py:190: RuntimeWarning: invalid value encountered in double_scalars\n",
            "  ret = ret.dtype.type(ret / rcount)\n",
            "/usr/local/lib/python3.10/dist-packages/numpy/lib/function_base.py:518: RuntimeWarning: Mean of empty slice.\n",
            "  avg = a.mean(axis, **keepdims_kw)\n",
            "/usr/local/lib/python3.10/dist-packages/numpy/core/_methods.py:190: RuntimeWarning: invalid value encountered in double_scalars\n",
            "  ret = ret.dtype.type(ret / rcount)\n"
          ]
        },
        {
          "output_type": "stream",
          "name": "stdout",
          "text": [
            "Epoch 4/10 - Train Loss: 1.2212, Train Error: 0.4334, Test Loss: 1.2359, Test Error: 0.4343\n"
          ]
        },
        {
          "output_type": "stream",
          "name": "stderr",
          "text": [
            "/usr/local/lib/python3.10/dist-packages/numpy/lib/function_base.py:518: RuntimeWarning: Mean of empty slice.\n",
            "  avg = a.mean(axis, **keepdims_kw)\n",
            "/usr/local/lib/python3.10/dist-packages/numpy/core/_methods.py:190: RuntimeWarning: invalid value encountered in double_scalars\n",
            "  ret = ret.dtype.type(ret / rcount)\n",
            "/usr/local/lib/python3.10/dist-packages/numpy/lib/function_base.py:518: RuntimeWarning: Mean of empty slice.\n",
            "  avg = a.mean(axis, **keepdims_kw)\n",
            "/usr/local/lib/python3.10/dist-packages/numpy/core/_methods.py:190: RuntimeWarning: invalid value encountered in double_scalars\n",
            "  ret = ret.dtype.type(ret / rcount)\n"
          ]
        },
        {
          "output_type": "stream",
          "name": "stdout",
          "text": [
            "Epoch 5/10 - Train Loss: 1.1413, Train Error: 0.3996, Test Loss: 1.1178, Test Error: 0.3866\n"
          ]
        },
        {
          "output_type": "stream",
          "name": "stderr",
          "text": [
            "/usr/local/lib/python3.10/dist-packages/numpy/lib/function_base.py:518: RuntimeWarning: Mean of empty slice.\n",
            "  avg = a.mean(axis, **keepdims_kw)\n",
            "/usr/local/lib/python3.10/dist-packages/numpy/core/_methods.py:190: RuntimeWarning: invalid value encountered in double_scalars\n",
            "  ret = ret.dtype.type(ret / rcount)\n",
            "/usr/local/lib/python3.10/dist-packages/numpy/lib/function_base.py:518: RuntimeWarning: Mean of empty slice.\n",
            "  avg = a.mean(axis, **keepdims_kw)\n",
            "/usr/local/lib/python3.10/dist-packages/numpy/core/_methods.py:190: RuntimeWarning: invalid value encountered in double_scalars\n",
            "  ret = ret.dtype.type(ret / rcount)\n"
          ]
        },
        {
          "output_type": "stream",
          "name": "stdout",
          "text": [
            "Epoch 6/10 - Train Loss: 1.0759, Train Error: 0.3732, Test Loss: 1.1329, Test Error: 0.4016\n"
          ]
        },
        {
          "output_type": "stream",
          "name": "stderr",
          "text": [
            "/usr/local/lib/python3.10/dist-packages/numpy/lib/function_base.py:518: RuntimeWarning: Mean of empty slice.\n",
            "  avg = a.mean(axis, **keepdims_kw)\n",
            "/usr/local/lib/python3.10/dist-packages/numpy/core/_methods.py:190: RuntimeWarning: invalid value encountered in double_scalars\n",
            "  ret = ret.dtype.type(ret / rcount)\n",
            "/usr/local/lib/python3.10/dist-packages/numpy/lib/function_base.py:518: RuntimeWarning: Mean of empty slice.\n",
            "  avg = a.mean(axis, **keepdims_kw)\n",
            "/usr/local/lib/python3.10/dist-packages/numpy/core/_methods.py:190: RuntimeWarning: invalid value encountered in double_scalars\n",
            "  ret = ret.dtype.type(ret / rcount)\n"
          ]
        },
        {
          "output_type": "stream",
          "name": "stdout",
          "text": [
            "Epoch 7/10 - Train Loss: 1.0383, Train Error: 0.3582, Test Loss: 1.2329, Test Error: 0.4343\n"
          ]
        },
        {
          "output_type": "stream",
          "name": "stderr",
          "text": [
            "/usr/local/lib/python3.10/dist-packages/numpy/lib/function_base.py:518: RuntimeWarning: Mean of empty slice.\n",
            "  avg = a.mean(axis, **keepdims_kw)\n",
            "/usr/local/lib/python3.10/dist-packages/numpy/core/_methods.py:190: RuntimeWarning: invalid value encountered in double_scalars\n",
            "  ret = ret.dtype.type(ret / rcount)\n",
            "/usr/local/lib/python3.10/dist-packages/numpy/lib/function_base.py:518: RuntimeWarning: Mean of empty slice.\n",
            "  avg = a.mean(axis, **keepdims_kw)\n",
            "/usr/local/lib/python3.10/dist-packages/numpy/core/_methods.py:190: RuntimeWarning: invalid value encountered in double_scalars\n",
            "  ret = ret.dtype.type(ret / rcount)\n"
          ]
        },
        {
          "output_type": "stream",
          "name": "stdout",
          "text": [
            "Epoch 8/10 - Train Loss: 1.0088, Train Error: 0.3480, Test Loss: 1.0248, Test Error: 0.3616\n"
          ]
        },
        {
          "output_type": "stream",
          "name": "stderr",
          "text": [
            "/usr/local/lib/python3.10/dist-packages/numpy/lib/function_base.py:518: RuntimeWarning: Mean of empty slice.\n",
            "  avg = a.mean(axis, **keepdims_kw)\n",
            "/usr/local/lib/python3.10/dist-packages/numpy/core/_methods.py:190: RuntimeWarning: invalid value encountered in double_scalars\n",
            "  ret = ret.dtype.type(ret / rcount)\n",
            "/usr/local/lib/python3.10/dist-packages/numpy/lib/function_base.py:518: RuntimeWarning: Mean of empty slice.\n",
            "  avg = a.mean(axis, **keepdims_kw)\n",
            "/usr/local/lib/python3.10/dist-packages/numpy/core/_methods.py:190: RuntimeWarning: invalid value encountered in double_scalars\n",
            "  ret = ret.dtype.type(ret / rcount)\n"
          ]
        },
        {
          "output_type": "stream",
          "name": "stdout",
          "text": [
            "Epoch 9/10 - Train Loss: 0.9754, Train Error: 0.3366, Test Loss: 0.9926, Test Error: 0.3352\n"
          ]
        },
        {
          "output_type": "stream",
          "name": "stderr",
          "text": [
            "/usr/local/lib/python3.10/dist-packages/numpy/lib/function_base.py:518: RuntimeWarning: Mean of empty slice.\n",
            "  avg = a.mean(axis, **keepdims_kw)\n",
            "/usr/local/lib/python3.10/dist-packages/numpy/core/_methods.py:190: RuntimeWarning: invalid value encountered in double_scalars\n",
            "  ret = ret.dtype.type(ret / rcount)\n",
            "/usr/local/lib/python3.10/dist-packages/numpy/lib/function_base.py:518: RuntimeWarning: Mean of empty slice.\n",
            "  avg = a.mean(axis, **keepdims_kw)\n",
            "/usr/local/lib/python3.10/dist-packages/numpy/core/_methods.py:190: RuntimeWarning: invalid value encountered in double_scalars\n",
            "  ret = ret.dtype.type(ret / rcount)\n"
          ]
        },
        {
          "output_type": "stream",
          "name": "stdout",
          "text": [
            "Epoch 10/10 - Train Loss: 0.9668, Train Error: 0.3313, Test Loss: 1.0511, Test Error: 0.3671\n"
          ]
        },
        {
          "output_type": "stream",
          "name": "stderr",
          "text": [
            "/usr/local/lib/python3.10/dist-packages/numpy/lib/function_base.py:518: RuntimeWarning: Mean of empty slice.\n",
            "  avg = a.mean(axis, **keepdims_kw)\n",
            "/usr/local/lib/python3.10/dist-packages/numpy/core/_methods.py:190: RuntimeWarning: invalid value encountered in double_scalars\n",
            "  ret = ret.dtype.type(ret / rcount)\n",
            "/usr/local/lib/python3.10/dist-packages/numpy/lib/function_base.py:518: RuntimeWarning: Mean of empty slice.\n",
            "  avg = a.mean(axis, **keepdims_kw)\n",
            "/usr/local/lib/python3.10/dist-packages/numpy/core/_methods.py:190: RuntimeWarning: invalid value encountered in double_scalars\n",
            "  ret = ret.dtype.type(ret / rcount)\n"
          ]
        }
      ]
    },
    {
      "cell_type": "code",
      "source": [
        "# def plot_metrics(train_values, test_values, metric_name):\n",
        "#     epochs = range(1, len(train_values) + 1)\n",
        "#     plt.plot(epochs, train_values, 'bo', label=f'Training {metric_name}')\n",
        "#     plt.plot(epochs, test_values, 'r', label=f'Validation {metric_name}')\n",
        "#     plt.title(f'Training and Validation {metric_name}')\n",
        "#     plt.legend()\n",
        "#     plt.show()\n",
        "\n",
        "def plot_metrics(train_metrics, test_metrics, metric_name):\n",
        "    \"\"\"\n",
        "    Utility function to plot training and testing metrics over epochs\n",
        "    \"\"\"\n",
        "    plt.plot(train_metrics, label=f\"Train {metric_name}\")\n",
        "    plt.plot(test_metrics, label=f\"Test {metric_name}\")\n",
        "    plt.title(f\"Train vs Test {metric_name} over epochs\")\n",
        "    plt.xlabel(\"Epochs\")\n",
        "    plt.ylabel(metric_name)\n",
        "    plt.legend()\n",
        "    plt.show()\n",
        "\n",
        "def plot_roc_curve(y_true, y_score):\n",
        "    n_classes = len(np.unique(y_true))\n",
        "    y_true_bin = label_binarize(y_true, classes=[*range(n_classes)])\n",
        "\n",
        "    fpr, tpr, _ = roc_curve(y_true_bin.ravel(), y_score.ravel())\n",
        "    auc_score = roc_auc_score(y_true_bin, y_score, average='macro')\n",
        "    plt.figure()\n",
        "    plt.plot(fpr, tpr, color='darkorange', label=f'ROC curve (area = {auc_score:.2f})')\n",
        "    plt.plot([0, 1], [0, 1], color='navy', linestyle='--')\n",
        "    plt.xlabel('False Positive Rate')\n",
        "    plt.ylabel('True Positive Rate')\n",
        "    plt.title('Receiver Operating Characteristic Curve')\n",
        "    plt.legend(loc=\"lower right\")\n",
        "    plt.show()\n",
        ""
      ],
      "metadata": {
        "id": "OBc7B5UTmgUK"
      },
      "execution_count": 31,
      "outputs": []
    },
    {
      "cell_type": "code",
      "source": [
        "# plot_metrics(train_accuracies, test_accuracies, \"Accuracy\")\n",
        "# plot_metrics(train_losses, test_losses, \"Loss\")\n",
        "# plot_roc_curve(all_test_labels, all_test_predictions)"
      ],
      "metadata": {
        "id": "mcSCTSA8fXnq"
      },
      "execution_count": 33,
      "outputs": []
    },
    {
      "cell_type": "code",
      "source": [],
      "metadata": {
        "id": "GUYTunMNfXdJ"
      },
      "execution_count": null,
      "outputs": []
    },
    {
      "cell_type": "code",
      "source": [],
      "metadata": {
        "id": "u3-8stM9g7eh"
      },
      "execution_count": null,
      "outputs": []
    },
    {
      "cell_type": "code",
      "source": [],
      "metadata": {
        "id": "g07_X3zFg7aj"
      },
      "execution_count": null,
      "outputs": []
    },
    {
      "cell_type": "code",
      "source": [],
      "metadata": {
        "id": "DbGvsTfDg7VH"
      },
      "execution_count": null,
      "outputs": []
    },
    {
      "cell_type": "code",
      "source": [],
      "metadata": {
        "id": "_wGzi4J-mZlr"
      },
      "execution_count": null,
      "outputs": []
    },
    {
      "cell_type": "code",
      "source": [
        "def train_or_test_model(model, dataloader, train=True):\n",
        "    all_labels = []\n",
        "    all_predictions = []\n",
        "\n",
        "    train_loader = DataLoader(train_set, batch_size=args.batch_size, shuffle=True, num_workers=args.workers)\n",
        "    test_loader = DataLoader(test_set, batch_size=args.batch_size, shuffle=False, num_workers=args.workers)\n",
        "\n",
        "\n",
        "    # Set model to training or evaluation mode\n",
        "    if train:\n",
        "        model.train()\n",
        "    else:\n",
        "        model.eval()\n",
        "\n",
        "    for inputs, labels in dataloader:\n",
        "        inputs, labels = inputs.cuda(), labels.cuda()\n",
        "\n",
        "        logits = model(inputs)\n",
        "        _, predicted_classes = torch.max(logits, 1)\n",
        "\n",
        "        all_labels.extend(labels.cpu().numpy())\n",
        "        all_predictions.extend(predicted_classes.cpu().numpy())\n",
        "\n",
        "    accuracy, recall, precision, f1 = calculate_metrics(all_labels, all_predictions)\n",
        "\n",
        "    return accuracy, recall, precision, f1"
      ],
      "metadata": {
        "id": "E9QkFcjXX6yE"
      },
      "execution_count": null,
      "outputs": []
    },
    {
      "cell_type": "code",
      "source": [
        "transform = transforms.Compose([\n",
        "    transforms.RandomCrop(32, padding=4),\n",
        "    transforms.RandomHorizontalFlip(),\n",
        "    transforms.ToTensor(),\n",
        "    transforms.Normalize((0.4914, 0.4822, 0.4465), (0.2023, 0.1994, 0.2010))\n",
        "])\n",
        "\n",
        "train_dataset = CIFAR10(root='./data', train=True, download=True, transform=transform)\n",
        "train_loader = DataLoader(train_dataset, batch_size=64, shuffle=True, num_workers=2)\n",
        "\n",
        "test_dataset = CIFAR10(root='./data', train=False, download=True, transform=transform)\n",
        "test_loader = DataLoader(test_dataset, batch_size=64, shuffle=False, num_workers=2)"
      ],
      "metadata": {
        "id": "xmCs-mdRf001"
      },
      "execution_count": null,
      "outputs": []
    },
    {
      "cell_type": "code",
      "source": [
        "train_accuracy, train_recall, train_precision, train_f1 = train_or_test_model(model, train_loader, train=True)\n",
        "test_accuracy, test_recall, test_precision, test_f1 = train_or_test_model(model, test_loader, train=False)\n",
        "\n",
        "print(f\"Training Metrics - Accuracy: {train_accuracy}, Recall: {train_recall}, Precision: {train_precision}, F1 Score: {train_f1}\")\n",
        "print(f\"Testing Metrics - Accuracy: {test_accuracy}, Recall: {test_recall}, Precision: {test_precision}, F1 Score: {test_f1}\")"
      ],
      "metadata": {
        "id": "bNeWmq0eczeE"
      },
      "execution_count": null,
      "outputs": []
    },
    {
      "cell_type": "code",
      "source": [],
      "metadata": {
        "id": "ywL0Ww8zgD08"
      },
      "execution_count": null,
      "outputs": []
    },
    {
      "cell_type": "markdown",
      "source": [
        "## 2. KD"
      ],
      "metadata": {
        "id": "P2ZEPLchifkW"
      }
    },
    {
      "cell_type": "code",
      "source": [
        "import os\n",
        "import torch\n",
        "import torchvision\n",
        "from torch import nn\n",
        "from torch.utils.data import DataLoader\n",
        "import torch.nn.functional as F\n",
        "import torch.backends.cudnn as cudnn\n",
        "from torch.utils.tensorboard import SummaryWriter\n",
        "import numpy as np\n",
        "import time\n",
        "import json\n",
        "import random\n",
        "import warnings"
      ],
      "metadata": {
        "id": "EMVdI7_Min52"
      },
      "execution_count": 37,
      "outputs": []
    },
    {
      "cell_type": "code",
      "source": [
        "class ResNet20(nn.Module):\n",
        "    # Sample mock model\n",
        "    def forward(self, x):\n",
        "        return x"
      ],
      "metadata": {
        "id": "QjPvNVXNiojr"
      },
      "execution_count": 38,
      "outputs": []
    },
    {
      "cell_type": "code",
      "source": [
        "Models = {\n",
        "    'resnet20_cifar': ResNet20\n",
        "}\n"
      ],
      "metadata": {
        "id": "KcAUwNwqiog0"
      },
      "execution_count": 39,
      "outputs": []
    },
    {
      "cell_type": "code",
      "source": [
        "class CIFAR:\n",
        "    def __init__(self, name):\n",
        "        transform = torchvision.transforms.Compose([\n",
        "            torchvision.transforms.ToTensor(),\n",
        "            torchvision.transforms.Normalize((0.5, 0.5, 0.5), (0.5, 0.5, 0.5))\n",
        "        ])\n",
        "\n",
        "        if name == 'cifar100':\n",
        "            self.train_set = torchvision.datasets.CIFAR100(root='./data', train=True, download=True, transform=transform)\n",
        "            self.test_set = torchvision.datasets.CIFAR100(root='./data', train=False, download=True, transform=transform)\n",
        "        else:\n",
        "            raise NotImplementedError\n",
        "        self.num_class = 100\n",
        "\n",
        "\n"
      ],
      "metadata": {
        "id": "dUsD59idioa6"
      },
      "execution_count": 40,
      "outputs": []
    },
    {
      "cell_type": "code",
      "source": [
        "class Args:\n",
        "    model_name = \"resnet20_cifar\"\n",
        "    dataset = 'cifar100'\n",
        "    epochs = 20\n",
        "    batch_size = 128\n",
        "    workers = 2\n",
        "    lr = 0.1\n",
        "    momentum = 0.9\n",
        "    weight_decay = 5e-4\n",
        "    teacher = \"resnet56_cifar\"\n",
        "    teacher_weights = None\n",
        "    cls_loss_factor = 1.0\n",
        "    kd_loss_factor = 1.0\n",
        "    t = 4.0\n",
        "    nd_loss_factor = 1.0\n",
        "    warm_up = 20.0\n",
        "    gpus = [0]\n",
        "    seed = None\n",
        "    resume = None\n",
        "    save_dir = \"./run\"\n",
        "\n",
        "args = Args()\n"
      ],
      "metadata": {
        "id": "vnB4uv_qk-3h"
      },
      "execution_count": 44,
      "outputs": []
    },
    {
      "cell_type": "code",
      "source": [
        "print(\"Model: \", args.model_name)"
      ],
      "metadata": {
        "colab": {
          "base_uri": "https://localhost:8080/"
        },
        "id": "V3OFFGIylCVO",
        "outputId": "c35ac77c-1af2-4920-927c-b615c71b5b3a"
      },
      "execution_count": 45,
      "outputs": [
        {
          "output_type": "stream",
          "name": "stdout",
          "text": [
            "Model:  resnet20_cifar\n"
          ]
        }
      ]
    },
    {
      "cell_type": "code",
      "source": [
        "def calculate_metrics(y_true, y_pred):\n",
        "    accuracy = accuracy_score(y_true, y_pred)\n",
        "    recall = recall_score(y_true, y_pred, average='macro')\n",
        "    precision = precision_score(y_true, y_pred, average='macro')\n",
        "    f1 = f1_score(y_true, y_pred, average='macro')\n",
        "\n",
        "    return accuracy, recall, precision, f1\n",
        "\n",
        "def plot_metrics(train_metrics, test_metrics, metric_name):\n",
        "    plt.plot(train_metrics, label=f\"Train {metric_name}\")\n",
        "    plt.plot(test_metrics, label=f\"Test {metric_name}\")\n",
        "    plt.xlabel(\"Epochs\")\n",
        "    plt.ylabel(metric_name)\n",
        "    plt.title(f\"{metric_name} over Epochs\")\n",
        "    plt.legend()\n",
        "    plt.show()\n",
        "\n",
        "def plot_roc_curve(y_true, y_score):\n",
        "    n_classes = len(np.unique(y_true))\n",
        "    y_true_bin = label_binarize(y_true, classes=[*range(n_classes)])\n",
        "\n",
        "    fpr, tpr, _ = roc_curve(y_true_bin.ravel(), y_score.ravel())\n",
        "    roc_auc = auc(fpr, tpr)\n",
        "\n",
        "    plt.figure()\n",
        "    plt.plot(fpr, tpr, color='darkorange', lw=2, label='ROC curve (area = %0.2f)' % roc_auc)\n",
        "    plt.xlabel('False Positive Rate')\n",
        "    plt.ylabel('True Positive Rate')\n",
        "    plt.title('Receiver Operating Characteristic Curve')\n",
        "    plt.legend(loc=\"lower right\")\n",
        "    plt.show()\n",
        "\n",
        "\n"
      ],
      "metadata": {
        "id": "Qv8T9Q4OlCSM"
      },
      "execution_count": 46,
      "outputs": []
    },
    {
      "cell_type": "code",
      "source": [
        "\n",
        "# Mocking the train and test functions\n",
        "def train():\n",
        "    # Mocking a training process\n",
        "    train_acc = np.random.rand()\n",
        "    train_loss = np.random.rand()\n",
        "    return train_loss, train_acc\n",
        "\n",
        "def test():\n",
        "    # Mocking a testing process\n",
        "    test_acc = np.random.rand()\n",
        "    test_loss = np.random.rand()\n",
        "    return test_loss, test_acc\n",
        "\n",
        "# Sample epoch loop for demonstration purposes\n",
        "def epoch_loop():\n",
        "    train_accuracies = []\n",
        "    test_accuracies = []\n",
        "    train_losses = []\n",
        "    test_losses = []\n",
        "\n",
        "    for epoch in range(args.epochs):\n",
        "        train_loss, train_acc = train()\n",
        "        test_loss, test_acc = test()\n",
        "\n",
        "        train_accuracies.append(train_acc)\n",
        "        test_accuracies.append(test_acc)\n",
        "        train_losses.append(train_loss)\n",
        "        test_losses.append(test_loss)\n",
        "\n",
        "        print(f\"Epoch {epoch+1}/{args.epochs} - Train Loss: {train_loss:.4f}, Train Acc: {train_acc:.4f}, Test Loss: {test_loss:.4f}, Test Acc: {test_acc:.4f}\")\n",
        "\n",
        "    # Plot metrics after all epochs\n",
        "    plot_metrics(train_accuracies, test_accuracies, \"Accuracy\")\n",
        "    plot_metrics(train_losses, test_losses, \"Loss\")\n",
        "\n",
        "# Run the mock epoch loop\n",
        "epoch_loop()"
      ],
      "metadata": {
        "colab": {
          "base_uri": "https://localhost:8080/",
          "height": 1000
        },
        "id": "bcZ2jZmIlCOh",
        "outputId": "1411e1e8-d85b-455b-f28b-164a9fa1f701"
      },
      "execution_count": 47,
      "outputs": [
        {
          "output_type": "stream",
          "name": "stdout",
          "text": [
            "Epoch 1/20 - Train Loss: 0.6303, Train Acc: 0.2983, Test Loss: 0.4548, Test Acc: 0.2409\n",
            "Epoch 2/20 - Train Loss: 0.8470, Train Acc: 0.3460, Test Loss: 0.2071, Test Acc: 0.5251\n",
            "Epoch 3/20 - Train Loss: 0.4126, Train Acc: 0.5471, Test Loss: 0.0919, Test Acc: 0.7015\n",
            "Epoch 4/20 - Train Loss: 0.8346, Train Acc: 0.2844, Test Loss: 0.1415, Test Acc: 0.8347\n",
            "Epoch 5/20 - Train Loss: 0.7638, Train Acc: 0.4006, Test Loss: 0.4893, Test Acc: 0.8418\n",
            "Epoch 6/20 - Train Loss: 0.6129, Train Acc: 0.1376, Test Loss: 0.2793, Test Acc: 0.2740\n",
            "Epoch 7/20 - Train Loss: 0.9336, Train Acc: 0.1815, Test Loss: 0.5321, Test Acc: 0.9098\n",
            "Epoch 8/20 - Train Loss: 0.0641, Train Acc: 0.5019, Test Loss: 0.7200, Test Acc: 0.9566\n",
            "Epoch 9/20 - Train Loss: 0.3249, Train Acc: 0.3107, Test Loss: 0.9873, Test Acc: 0.8147\n",
            "Epoch 10/20 - Train Loss: 0.5342, Train Acc: 0.1371, Test Loss: 0.0389, Test Acc: 0.0106\n",
            "Epoch 11/20 - Train Loss: 0.3753, Train Acc: 0.8711, Test Loss: 0.1268, Test Acc: 0.1995\n",
            "Epoch 12/20 - Train Loss: 0.5329, Train Acc: 0.5554, Test Loss: 0.4993, Test Acc: 0.4216\n",
            "Epoch 13/20 - Train Loss: 0.9226, Train Acc: 0.1326, Test Loss: 0.9325, Test Acc: 0.8200\n",
            "Epoch 14/20 - Train Loss: 0.1908, Train Acc: 0.8054, Test Loss: 0.9908, Test Acc: 0.9774\n",
            "Epoch 15/20 - Train Loss: 0.0497, Train Acc: 0.6446, Test Loss: 0.8098, Test Acc: 0.2700\n",
            "Epoch 16/20 - Train Loss: 0.4864, Train Acc: 0.2591, Test Loss: 0.0083, Test Acc: 0.7565\n",
            "Epoch 17/20 - Train Loss: 0.7720, Train Acc: 0.0182, Test Loss: 0.6378, Test Acc: 0.2550\n",
            "Epoch 18/20 - Train Loss: 0.6421, Train Acc: 0.3535, Test Loss: 0.7181, Test Acc: 0.2302\n",
            "Epoch 19/20 - Train Loss: 0.8708, Train Acc: 0.0490, Test Loss: 0.0673, Test Acc: 0.2171\n",
            "Epoch 20/20 - Train Loss: 0.7509, Train Acc: 0.1727, Test Loss: 0.9048, Test Acc: 0.0313\n"
          ]
        },
        {
          "output_type": "display_data",
          "data": {
            "text/plain": [
              "<Figure size 640x480 with 1 Axes>"
            ],
            "image/png": "[encoded data removed]"
          },
          "metadata": {}
        },
        {
          "output_type": "display_data",
          "data": {
            "text/plain": [
              "<Figure size 640x480 with 1 Axes>"
            ],
            "image/png": "[encoded data removed]"
          },
          "metadata": {}
        }
      ]
    },
    {
      "cell_type": "code",
      "source": [],
      "metadata": {
        "id": "KtyLpFZclw7N"
      },
      "execution_count": null,
      "outputs": []
    },
    {
      "cell_type": "code",
      "source": [],
      "metadata": {
        "id": "P5JDBEnHmLjF"
      },
      "execution_count": null,
      "outputs": []
    },
    {
      "cell_type": "code",
      "source": [],
      "metadata": {
        "id": "Q6YVu-EtmLmI"
      },
      "execution_count": null,
      "outputs": []
    }
  ]
}