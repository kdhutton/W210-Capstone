{
  "nbformat": 4,
  "nbformat_minor": 0,
  "metadata": {
    "colab": {
      "provenance": [],
      "machine_shape": "hm",
      "gpuType": "T4"
    },
    "kernelspec": {
      "name": "python3",
      "display_name": "Python 3"
    },
    "language_info": {
      "name": "python"
    },
    "accelerator": "GPU"
  },
  "cells": [
    {
      "cell_type": "markdown",
      "source": [
        "Curriculum Temperature for Knowledge Distillation\n",
        "\n",
        "Research Paper: https://arxiv.org/abs/2211.16231\n",
        "\n",
        "2022\n",
        "\n",
        "The concept is based off of the classic knowledge distillation - but need more research"
      ],
      "metadata": {
        "id": "r814rZssBuDt"
      }
    },
    {
      "cell_type": "markdown",
      "source": [
        "Code Link: https://github.com/zhengli97/CTKD"
      ],
      "metadata": {
        "id": "XdVd-kcaB02a"
      }
    },
    {
      "cell_type": "code",
      "source": [
        "!git clone https://github.com/zhengli97/CTKD.git\n",
        "%cd CTKD\n"
      ],
      "metadata": {
        "colab": {
          "base_uri": "https://localhost:8080/"
        },
        "id": "DM_RPpddF-S4",
        "outputId": "6cbe30ca-28e1-43d7-a309-e90ceba0c6c1"
      },
      "execution_count": null,
      "outputs": [
        {
          "output_type": "stream",
          "name": "stdout",
          "text": [
            "\u001b[31mERROR: Could not open requirements file: [Errno 2] No such file or directory: 'requirements.txt'\u001b[0m\u001b[31m\n",
            "\u001b[0mCloning into 'CTKD'...\n",
            "remote: Enumerating objects: 113, done.\u001b[K\n",
            "remote: Counting objects: 100% (113/113), done.\u001b[K\n",
            "remote: Compressing objects: 100% (87/87), done.\u001b[K\n",
            "remote: Total 113 (delta 49), reused 77 (delta 23), pack-reused 0\u001b[K\n",
            "Receiving objects: 100% (113/113), 761.28 KiB | 10.15 MiB/s, done.\n",
            "Resolving deltas: 100% (49/49), done.\n",
            "/content/CTKD\n"
          ]
        }
      ]
    },
    {
      "cell_type": "code",
      "source": [
        "!pip install -r /content/CTKD/requirements.txt"
      ],
      "metadata": {
        "colab": {
          "base_uri": "https://localhost:8080/"
        },
        "id": "2oAT3Sc9GhaN",
        "outputId": "bf80eeeb-992b-40e7-d489-fb0e922eedea"
      },
      "execution_count": null,
      "outputs": [
        {
          "output_type": "stream",
          "name": "stdout",
          "text": [
            "Collecting torch==1.11.0 (from -r /content/CTKD/requirements.txt (line 1))\n",
            "  Downloading torch-1.11.0-cp310-cp310-manylinux1_x86_64.whl (750.6 MB)\n",
            "\u001b[2K     \u001b[90m━━━━━━━━━━━━━━━━━━━━━━━━━━━━━━━━━━━━━━━\u001b[0m \u001b[32m750.6/750.6 MB\u001b[0m \u001b[31m1.2 MB/s\u001b[0m eta \u001b[36m0:00:00\u001b[0m\n",
            "\u001b[?25hCollecting torchvision==0.12.0 (from -r /content/CTKD/requirements.txt (line 2))\n",
            "  Downloading torchvision-0.12.0-cp310-cp310-manylinux1_x86_64.whl (21.0 MB)\n",
            "\u001b[2K     \u001b[90m━━━━━━━━━━━━━━━━━━━━━━━━━━━━━━━━━━━━━━━━\u001b[0m \u001b[32m21.0/21.0 MB\u001b[0m \u001b[31m68.0 MB/s\u001b[0m eta \u001b[36m0:00:00\u001b[0m\n",
            "\u001b[?25hRequirement already satisfied: numpy in /usr/local/lib/python3.10/dist-packages (from -r /content/CTKD/requirements.txt (line 3)) (1.23.5)\n",
            "Requirement already satisfied: typing-extensions in /usr/local/lib/python3.10/dist-packages (from torch==1.11.0->-r /content/CTKD/requirements.txt (line 1)) (4.5.0)\n",
            "Requirement already satisfied: requests in /usr/local/lib/python3.10/dist-packages (from torchvision==0.12.0->-r /content/CTKD/requirements.txt (line 2)) (2.31.0)\n",
            "Requirement already satisfied: pillow!=8.3.*,>=5.3.0 in /usr/local/lib/python3.10/dist-packages (from torchvision==0.12.0->-r /content/CTKD/requirements.txt (line 2)) (9.4.0)\n",
            "Requirement already satisfied: charset-normalizer<4,>=2 in /usr/local/lib/python3.10/dist-packages (from requests->torchvision==0.12.0->-r /content/CTKD/requirements.txt (line 2)) (3.3.0)\n",
            "Requirement already satisfied: idna<4,>=2.5 in /usr/local/lib/python3.10/dist-packages (from requests->torchvision==0.12.0->-r /content/CTKD/requirements.txt (line 2)) (3.4)\n",
            "Requirement already satisfied: urllib3<3,>=1.21.1 in /usr/local/lib/python3.10/dist-packages (from requests->torchvision==0.12.0->-r /content/CTKD/requirements.txt (line 2)) (2.0.6)\n",
            "Requirement already satisfied: certifi>=2017.4.17 in /usr/local/lib/python3.10/dist-packages (from requests->torchvision==0.12.0->-r /content/CTKD/requirements.txt (line 2)) (2023.7.22)\n",
            "Installing collected packages: torch, torchvision\n",
            "  Attempting uninstall: torch\n",
            "    Found existing installation: torch 2.0.1+cu118\n",
            "    Uninstalling torch-2.0.1+cu118:\n",
            "      Successfully uninstalled torch-2.0.1+cu118\n",
            "  Attempting uninstall: torchvision\n",
            "    Found existing installation: torchvision 0.15.2+cu118\n",
            "    Uninstalling torchvision-0.15.2+cu118:\n",
            "      Successfully uninstalled torchvision-0.15.2+cu118\n",
            "\u001b[31mERROR: pip's dependency resolver does not currently take into account all the packages that are installed. This behaviour is the source of the following dependency conflicts.\n",
            "torchaudio 2.0.2+cu118 requires torch==2.0.1, but you have torch 1.11.0 which is incompatible.\n",
            "torchdata 0.6.1 requires torch==2.0.1, but you have torch 1.11.0 which is incompatible.\n",
            "torchtext 0.15.2 requires torch==2.0.1, but you have torch 1.11.0 which is incompatible.\u001b[0m\u001b[31m\n",
            "\u001b[0mSuccessfully installed torch-1.11.0 torchvision-0.12.0\n"
          ]
        }
      ]
    },
    {
      "cell_type": "code",
      "source": [],
      "metadata": {
        "id": "06O-Vwk3B9VS"
      },
      "execution_count": null,
      "outputs": []
    },
    {
      "cell_type": "code",
      "source": [],
      "metadata": {
        "id": "t7sGqS5qB9SV"
      },
      "execution_count": null,
      "outputs": []
    },
    {
      "cell_type": "code",
      "source": [],
      "metadata": {
        "id": "3nRk6ge_vC-z"
      },
      "execution_count": null,
      "outputs": []
    },
    {
      "cell_type": "markdown",
      "source": [
        "### Simplified Version"
      ],
      "metadata": {
        "id": "LigfHajgvEol"
      }
    },
    {
      "cell_type": "code",
      "source": [
        "# import libaraies\n",
        "import torch\n",
        "import torch.nn as nn\n",
        "import torch.optim as optim\n",
        "import torch.nn.functional as F\n",
        "import torchvision\n",
        "import torchvision.transforms as transforms\n",
        "import matplotlib.pyplot as plt\n",
        "\n"
      ],
      "metadata": {
        "id": "5Adoz-70vC8J"
      },
      "execution_count": null,
      "outputs": []
    },
    {
      "cell_type": "code",
      "source": [
        "device = torch.device('cuda' if torch.cuda.is_available() else 'cpu')"
      ],
      "metadata": {
        "id": "-H5fSwzyvC5Q"
      },
      "execution_count": null,
      "outputs": []
    },
    {
      "cell_type": "code",
      "source": [
        "\n",
        "device = torch.device('cuda' if torch.cuda.is_available() else 'cpu')\n",
        "\n",
        "transform = transforms.Compose([\n",
        "    transforms.RandomCrop(32, padding=4),\n",
        "    transforms.RandomHorizontalFlip(),\n",
        "    transforms.ToTensor(),\n",
        "    transforms.Normalize((0.4914, 0.4822, 0.4465), (0.2023, 0.1994, 0.2010)),\n",
        "])\n",
        "\n",
        "train_dataset = torchvision.datasets.CIFAR10(root='./data', train=True, transform=transform, download=True)\n",
        "test_dataset = torchvision.datasets.CIFAR10(root='./data', train=False, transform=transform, download=True)\n",
        "\n",
        "train_loader = torch.utils.data.DataLoader(dataset=train_dataset, batch_size=128, shuffle=True)\n",
        "test_loader = torch.utils.data.DataLoader(dataset=test_dataset, batch_size=128, shuffle=False)\n"
      ],
      "metadata": {
        "colab": {
          "base_uri": "https://localhost:8080/"
        },
        "id": "Xn0u1OnjvT_d",
        "outputId": "7af8f2bf-049c-4c03-eead-36f159faf812"
      },
      "execution_count": null,
      "outputs": [
        {
          "output_type": "stream",
          "name": "stdout",
          "text": [
            "Downloading https://www.cs.toronto.edu/~kriz/cifar-10-python.tar.gz to ./data/cifar-10-python.tar.gz\n"
          ]
        },
        {
          "output_type": "stream",
          "name": "stderr",
          "text": [
            "100%|██████████| 170498071/170498071 [00:02<00:00, 79413097.62it/s]\n"
          ]
        },
        {
          "output_type": "stream",
          "name": "stdout",
          "text": [
            "Extracting ./data/cifar-10-python.tar.gz to ./data\n",
            "Files already downloaded and verified\n"
          ]
        }
      ]
    },
    {
      "cell_type": "code",
      "source": [
        "import torchvision.models as models\n",
        "\n",
        "teacher = models.resnet18(pretrained=True).to(device)\n",
        "student = models.resnet18(pretrained=False).to(device)\n",
        "\n",
        "# Loss and Optimizer\n",
        "teacher_criterion = nn.CrossEntropyLoss()\n",
        "student_criterion = nn.KLDivLoss(reduction='batchmean')\n",
        "\n",
        "optimizer = optim.Adam(student.parameters(), lr=0.001)"
      ],
      "metadata": {
        "colab": {
          "base_uri": "https://localhost:8080/"
        },
        "id": "LF7bYAhGvT5m",
        "outputId": "091eaef3-0516-4755-e784-4186924d1a6e"
      },
      "execution_count": null,
      "outputs": [
        {
          "output_type": "stream",
          "name": "stderr",
          "text": [
            "/usr/local/lib/python3.10/dist-packages/torchvision/models/_utils.py:208: UserWarning: The parameter 'pretrained' is deprecated since 0.13 and may be removed in the future, please use 'weights' instead.\n",
            "  warnings.warn(\n",
            "/usr/local/lib/python3.10/dist-packages/torchvision/models/_utils.py:223: UserWarning: Arguments other than a weight enum or `None` for 'weights' are deprecated since 0.13 and may be removed in the future. The current behavior is equivalent to passing `weights=ResNet18_Weights.IMAGENET1K_V1`. You can also use `weights=ResNet18_Weights.DEFAULT` to get the most up-to-date weights.\n",
            "  warnings.warn(msg)\n",
            "Downloading: \"https://download.pytorch.org/models/resnet18-f37072fd.pth\" to /root/.cache/torch/hub/checkpoints/resnet18-f37072fd.pth\n",
            "100%|██████████| 44.7M/44.7M [00:00<00:00, 144MB/s]\n",
            "/usr/local/lib/python3.10/dist-packages/torchvision/models/_utils.py:223: UserWarning: Arguments other than a weight enum or `None` for 'weights' are deprecated since 0.13 and may be removed in the future. The current behavior is equivalent to passing `weights=None`.\n",
            "  warnings.warn(msg)\n"
          ]
        }
      ]
    },
    {
      "cell_type": "markdown",
      "source": [
        "The student is trained with the KL Divergence between its softened predictions and the teacher's softened predictions. This portion of the loss can be quite small, especially if the student starts to mimic the teacher effectively."
      ],
      "metadata": {
        "id": "B_4Kz1X1y_w6"
      }
    },
    {
      "cell_type": "code",
      "source": [
        "# Temperature Scheduler\n",
        "initial_temperature = 20.0  # Start with a high temperature and can go lower\n",
        "alpha = 0.9  # The factor by which temperature is reduced every epoch\n",
        "\n",
        "def knowledge_distillation_loss(outputs, labels, teacher_outputs, temp, alpha):\n",
        "    return nn.KLDivLoss(reduction='batchmean')(F.log_softmax(outputs/temp, dim=1),\n",
        "                                               F.softmax(teacher_outputs/temp, dim=1)) * (alpha * temp * temp) + \\\n",
        "           F.cross_entropy(outputs, labels) * (1. - alpha)\n",
        "\n",
        "\n"
      ],
      "metadata": {
        "id": "JfB95ddsvTy7"
      },
      "execution_count": null,
      "outputs": []
    },
    {
      "cell_type": "code",
      "source": [
        "# training\n",
        "epochs = 10\n",
        "teacher_losses = []\n",
        "student_losses = []\n",
        "\n",
        "for epoch in range(epochs):\n",
        "    student.train()\n",
        "    teacher.eval()  # eval mode for teacher\n",
        "\n",
        "    epoch_student_loss = 0.0\n",
        "    epoch_teacher_loss = 0.0\n",
        "\n",
        "    for i, (inputs, labels) in enumerate(train_loader):\n",
        "        inputs, labels = inputs.to(device), labels.to(device)\n",
        "\n",
        "        # Forward pass for teacher and student\n",
        "        teacher_outputs = teacher(inputs).detach()  # detach to avoid unnecessary gradient calculations\n",
        "        student_outputs = student(inputs)\n",
        "\n",
        "        # Compute the knowledge distillation loss\n",
        "        loss = knowledge_distillation_loss(student_outputs, labels, teacher_outputs, initial_temperature, alpha)\n",
        "        epoch_student_loss += loss.item()\n",
        "\n",
        "        # Compute teacher's usual loss for comparison purposes\n",
        "        teacher_loss = teacher_criterion(teacher_outputs, labels)\n",
        "        epoch_teacher_loss += teacher_loss.item()\n",
        "\n",
        "        # Backward pass for student\n",
        "        optimizer.zero_grad()\n",
        "        loss.backward()\n",
        "        optimizer.step()\n",
        "\n",
        "    teacher_losses.append(epoch_teacher_loss / len(train_loader))\n",
        "    student_losses.append(epoch_student_loss / len(train_loader))\n",
        "\n",
        "    # Decrease the temperature\n",
        "    initial_temperature *= alpha\n",
        "\n",
        "    print(f\"Epoch [{epoch+1}/{epochs}] Student Loss: {epoch_student_loss/len(train_loader):.4f}, Teacher Loss: {epoch_teacher_loss/len(train_loader):.4f}\")\n"
      ],
      "metadata": {
        "colab": {
          "base_uri": "https://localhost:8080/"
        },
        "id": "AKmaxnpNvC2U",
        "outputId": "1d480385-639e-4989-d4c0-4edbf2a56c6c"
      },
      "execution_count": null,
      "outputs": [
        {
          "output_type": "stream",
          "name": "stdout",
          "text": [
            "Epoch [1/10] Student Loss: 0.7624, Teacher Loss: 10.7248\n",
            "Epoch [2/10] Student Loss: 0.7396, Teacher Loss: 10.7283\n",
            "Epoch [3/10] Student Loss: 0.7205, Teacher Loss: 10.7129\n",
            "Epoch [4/10] Student Loss: 0.7062, Teacher Loss: 10.7258\n",
            "Epoch [5/10] Student Loss: 0.6974, Teacher Loss: 10.7186\n",
            "Epoch [6/10] Student Loss: 0.6907, Teacher Loss: 10.7200\n",
            "Epoch [7/10] Student Loss: 0.6862, Teacher Loss: 10.7252\n",
            "Epoch [8/10] Student Loss: 0.6883, Teacher Loss: 10.7313\n",
            "Epoch [9/10] Student Loss: 0.6841, Teacher Loss: 10.7193\n",
            "Epoch [10/10] Student Loss: 0.6920, Teacher Loss: 10.7154\n"
          ]
        }
      ]
    },
    {
      "cell_type": "code",
      "source": [
        "plt.plot(teacher_losses, label='Teacher Losses', color='blue')\n",
        "plt.plot(student_losses, label='Student Losses', color='red')\n",
        "plt.xlabel('Epochs')\n",
        "plt.ylabel('Loss')\n",
        "plt.legend()\n",
        "plt.show()"
      ],
      "metadata": {
        "colab": {
          "base_uri": "https://localhost:8080/",
          "height": 449
        },
        "id": "ixnza1JivpPE",
        "outputId": "995e4e7f-a386-4f3c-d3d6-4c2424d177c1"
      },
      "execution_count": null,
      "outputs": [
        {
          "output_type": "display_data",
          "data": {
            "text/plain": [
              "<Figure size 640x480 with 1 Axes>"
            ],
            "image/png": "[encoded data removed]"
          },
          "metadata": {}
        }
      ]
    },
    {
      "cell_type": "markdown",
      "source": [
        "^^ why student performed better? lower loss, but training loop does not show many improvements in both teach and student performance"
      ],
      "metadata": {
        "id": "9NH-sXv1yWgF"
      }
    },
    {
      "cell_type": "code",
      "source": [],
      "metadata": {
        "id": "O7F0w3lWyWRm"
      },
      "execution_count": null,
      "outputs": []
    },
    {
      "cell_type": "code",
      "source": [],
      "metadata": {
        "id": "S6tN2OKbxgEs"
      },
      "execution_count": null,
      "outputs": []
    },
    {
      "cell_type": "code",
      "source": [],
      "metadata": {
        "id": "BggN1CBAxf-d"
      },
      "execution_count": null,
      "outputs": []
    },
    {
      "cell_type": "code",
      "source": [],
      "metadata": {
        "id": "_9O76fxmxf4O"
      },
      "execution_count": null,
      "outputs": []
    },
    {
      "cell_type": "markdown",
      "source": [
        "__Changes:__\n",
        "\n",
        "Added a cosine annealing learning rate scheduler to help in better convergence."
      ],
      "metadata": {
        "id": "PjcgxetaxhJG"
      }
    },
    {
      "cell_type": "code",
      "source": [
        "import torch\n",
        "import torch.nn.functional as F\n",
        "import torch.optim as optim\n",
        "import torchvision\n",
        "import torchvision.transforms as transforms\n",
        "import torchvision.models as models\n",
        "import matplotlib.pyplot as plt"
      ],
      "metadata": {
        "id": "w7CWt-xvxxSO"
      },
      "execution_count": null,
      "outputs": []
    },
    {
      "cell_type": "code",
      "source": [
        "device = torch.device('cuda' if torch.cuda.is_available() else 'cpu')"
      ],
      "metadata": {
        "id": "_t0KEhZmx1h0"
      },
      "execution_count": null,
      "outputs": []
    },
    {
      "cell_type": "code",
      "source": [
        "transform = transforms.Compose([\n",
        "    transforms.RandomCrop(32, padding=4),\n",
        "    transforms.RandomHorizontalFlip(),\n",
        "    transforms.ToTensor(),\n",
        "    transforms.Normalize((0.4914, 0.4822, 0.4465), (0.2023, 0.1994, 0.2010)),\n",
        "])\n",
        "\n",
        "train_dataset = torchvision.datasets.CIFAR10(root='./data', train=True, transform=transform, download=True)\n",
        "test_dataset = torchvision.datasets.CIFAR10(root='./data', train=False, transform=transform, download=True)\n",
        "\n",
        "train_loader = torch.utils.data.DataLoader(dataset=train_dataset, batch_size=128, shuffle=True)\n",
        "test_loader = torch.utils.data.DataLoader(dataset=test_dataset, batch_size=128, shuffle=False)\n"
      ],
      "metadata": {
        "colab": {
          "base_uri": "https://localhost:8080/"
        },
        "id": "g1Bs9nzQx24j",
        "outputId": "4961f27b-b9d8-4f8e-9e87-aa20a8318ab8"
      },
      "execution_count": null,
      "outputs": [
        {
          "output_type": "stream",
          "name": "stdout",
          "text": [
            "Downloading https://www.cs.toronto.edu/~kriz/cifar-10-python.tar.gz to ./data/cifar-10-python.tar.gz\n"
          ]
        },
        {
          "output_type": "stream",
          "name": "stderr",
          "text": [
            "100%|██████████| 170498071/170498071 [00:04<00:00, 39964156.87it/s]\n"
          ]
        },
        {
          "output_type": "stream",
          "name": "stdout",
          "text": [
            "Extracting ./data/cifar-10-python.tar.gz to ./data\n",
            "Files already downloaded and verified\n"
          ]
        }
      ]
    },
    {
      "cell_type": "code",
      "source": [
        "\n",
        "teacher = models.resnet18(pretrained=True).to(device)\n",
        "student = models.resnet18(pretrained=False).to(device)\n"
      ],
      "metadata": {
        "id": "OwFABHL_x-fc"
      },
      "execution_count": null,
      "outputs": []
    },
    {
      "cell_type": "code",
      "source": [
        "optimizer = optim.Adam(student.parameters(), lr=0.001)\n",
        "scheduler = torch.optim.lr_scheduler.CosineAnnealingLR(optimizer, T_max=5)  # Adjust T_max as per epochs\n"
      ],
      "metadata": {
        "id": "oB-VU1Vzx_eD"
      },
      "execution_count": null,
      "outputs": []
    },
    {
      "cell_type": "code",
      "source": [
        "# Temperature Scheduler\n",
        "initial_temperature = 20.0\n",
        "alpha = 0.9\n"
      ],
      "metadata": {
        "id": "Mx2ZVJwJyAut"
      },
      "execution_count": null,
      "outputs": []
    },
    {
      "cell_type": "code",
      "source": [
        "def calculate_accuracy(outputs, labels):\n",
        "    _, preds = torch.max(outputs, 1)\n",
        "    correct = (preds == labels).sum().item()\n",
        "    return correct / labels.size(0)"
      ],
      "metadata": {
        "id": "gs1GN1a-yCrd"
      },
      "execution_count": null,
      "outputs": []
    },
    {
      "cell_type": "code",
      "source": [
        "initial_temperature = 20.0\n",
        "alpha = 0.9\n",
        "\n",
        "def knowledge_distillation_loss(outputs, labels, teacher_outputs, temp, alpha):\n",
        "    return nn.KLDivLoss(reduction='batchmean')(F.log_softmax(outputs/temp, dim=1),\n",
        "                                               F.softmax(teacher_outputs/temp, dim=1)) * (alpha * temp * temp) + \\\n",
        "           F.cross_entropy(outputs, labels) * (1. - alpha)\n"
      ],
      "metadata": {
        "id": "DHZ9X01azGXF"
      },
      "execution_count": null,
      "outputs": []
    },
    {
      "cell_type": "code",
      "source": [
        "# Training Loop\n",
        "epochs = 10\n",
        "teacher_losses = []\n",
        "student_losses = []\n",
        "teacher_accuracies = []\n",
        "student_accuracies = []\n",
        "\n",
        "\n",
        "\n",
        "for epoch in range(epochs):\n",
        "    student.train()\n",
        "    teacher.eval()\n",
        "\n",
        "    epoch_student_loss = 0.0\n",
        "    epoch_teacher_loss = 0.0\n",
        "    epoch_teacher_accuracy = 0.0\n",
        "    epoch_student_accuracy = 0.0\n",
        "\n",
        "    for i, (inputs, labels) in enumerate(train_loader):\n",
        "        inputs, labels = inputs.to(device), labels.to(device)\n",
        "\n",
        "        teacher_outputs = teacher(inputs).detach()\n",
        "        student_outputs = student(inputs)\n",
        "\n",
        "        loss = knowledge_distillation_loss(student_outputs, labels, teacher_outputs, initial_temperature, alpha)\n",
        "        epoch_student_loss += loss.item()\n",
        "\n",
        "        teacher_loss = F.cross_entropy(teacher_outputs, labels)\n",
        "        epoch_teacher_loss += teacher_loss.item()\n",
        "\n",
        "        epoch_teacher_accuracy += calculate_accuracy(teacher_outputs, labels)\n",
        "        epoch_student_accuracy += calculate_accuracy(student_outputs, labels)\n",
        "\n",
        "        optimizer.zero_grad()\n",
        "        loss.backward()\n",
        "        optimizer.step()\n",
        "\n",
        "    scheduler.step()\n",
        "\n",
        "    teacher_losses.append(epoch_teacher_loss / len(train_loader))\n",
        "    student_losses.append(epoch_student_loss / len(train_loader))\n",
        "    teacher_accuracies.append(epoch_teacher_accuracy / len(train_loader))\n",
        "    student_accuracies.append(epoch_student_accuracy / len(train_loader))\n",
        "\n",
        "    initial_temperature *= alpha\n",
        "\n",
        "    print(f\"Epoch [{epoch+1}/{epochs}] Student Loss: {epoch_student_loss/len(train_loader):.4f}, Teacher Loss: {epoch_teacher_loss/len(train_loader):.4f}\")\n",
        "\n"
      ],
      "metadata": {
        "colab": {
          "base_uri": "https://localhost:8080/"
        },
        "id": "9Y5KnHHhvqKX",
        "outputId": "41114585-66b5-473b-be50-69fa01105453"
      },
      "execution_count": null,
      "outputs": [
        {
          "output_type": "stream",
          "name": "stdout",
          "text": [
            "Epoch [1/10] Student Loss: 1.1442, Teacher Loss: 10.7290\n",
            "Epoch [2/10] Student Loss: 0.9613, Teacher Loss: 10.7198\n",
            "Epoch [3/10] Student Loss: 0.8621, Teacher Loss: 10.7316\n",
            "Epoch [4/10] Student Loss: 0.7879, Teacher Loss: 10.7248\n",
            "Epoch [5/10] Student Loss: 0.7428, Teacher Loss: 10.7204\n",
            "Epoch [6/10] Student Loss: 0.7416, Teacher Loss: 10.7256\n",
            "Epoch [7/10] Student Loss: 0.7452, Teacher Loss: 10.7209\n",
            "Epoch [8/10] Student Loss: 0.7703, Teacher Loss: 10.7172\n",
            "Epoch [9/10] Student Loss: 0.7957, Teacher Loss: 10.7301\n",
            "Epoch [10/10] Student Loss: 0.8005, Teacher Loss: 10.7206\n"
          ]
        }
      ]
    },
    {
      "cell_type": "code",
      "source": [
        "# Loss\n",
        "plt.figure(figsize=(12, 5))\n",
        "plt.subplot(1, 2, 1)\n",
        "plt.plot(teacher_losses, label='Teacher Losses', color='blue')\n",
        "plt.plot(student_losses, label='Student Losses', color='red')\n",
        "plt.xlabel('Epochs')\n",
        "plt.ylabel('Loss')\n",
        "plt.legend()\n",
        "\n",
        "# Accuracy\n",
        "plt.subplot(1, 2, 2)\n",
        "plt.plot(teacher_accuracies, label='Teacher Accuracy', color='blue')\n",
        "plt.plot(student_accuracies, label='Student Accuracy', color='red')\n",
        "plt.xlabel('Epochs')\n",
        "plt.ylabel('Accuracy')\n",
        "plt.legend()\n",
        "\n",
        "plt.tight_layout()\n",
        "plt.show()\n"
      ],
      "metadata": {
        "colab": {
          "base_uri": "https://localhost:8080/",
          "height": 507
        },
        "id": "sYB5zSzpyNF8",
        "outputId": "239f7ecd-28a7-4796-a72c-2248ef75b31b"
      },
      "execution_count": null,
      "outputs": [
        {
          "output_type": "display_data",
          "data": {
            "text/plain": [
              "<Figure size 1200x500 with 2 Axes>"
            ],
            "image/png": "[encoded data removed]"
          },
          "metadata": {}
        }
      ]
    },
    {
      "cell_type": "code",
      "source": [],
      "metadata": {
        "id": "yGFrlFPsyTfd"
      },
      "execution_count": null,
      "outputs": []
    }
  ]
}